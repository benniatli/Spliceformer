{
 "cells": [
  {
   "cell_type": "code",
   "execution_count": 1,
   "metadata": {},
   "outputs": [],
   "source": [
    "import numpy as np\n",
    "import sys\n",
    "import time\n",
    "import h5py\n",
    "from tqdm import tqdm\n",
    "\n",
    "import numpy as np\n",
    "import re\n",
    "from math import ceil\n",
    "from sklearn.metrics import average_precision_score\n",
    "\n",
    "import pandas as pd\n",
    "import matplotlib.pyplot as plt\n",
    "import pickle\n",
    "#import pickle5 as pickle\n",
    "\n",
    "from sklearn.model_selection import train_test_split\n",
    "\n",
    "from scipy.sparse import load_npz\n",
    "from glob import glob\n",
    "\n",
    "from sklearn.metrics import average_precision_score\n",
    "from sklearn.metrics import precision_recall_curve\n",
    "from sklearn.linear_model import LogisticRegression"
   ]
  },
  {
   "cell_type": "code",
   "execution_count": 2,
   "metadata": {
    "scrolled": true
   },
   "outputs": [],
   "source": [
    "from torch.utils.data import Dataset\n",
    "import torch\n",
    "import torch.nn as nn\n",
    "from transformers import get_constant_schedule_with_warmup\n",
    "from sklearn.metrics import precision_score,recall_score,accuracy_score\n",
    "\n",
    "from src.train import trainModel\n",
    "from src.dataloader import getData,spliceDataset,h5pyDataset,getDataPointList,getDataPointListFull,DataPoint\n",
    "from src.weight_init import keras_init\n",
    "from src.losses import categorical_crossentropy_2d\n",
    "from src.model import SpliceFormer\n",
    "from src.evaluation_metrics import print_topl_statistics\n",
    "import copy\n",
    "#import tensorflow as tf"
   ]
  },
  {
   "cell_type": "code",
   "execution_count": 3,
   "metadata": {},
   "outputs": [
    {
     "name": "stdout",
     "output_type": "stream",
     "text": [
      "Tue May 21 17:19:31 2024       \n",
      "+-----------------------------------------------------------------------------------------+\n",
      "| NVIDIA-SMI 550.54.15              Driver Version: 550.54.15      CUDA Version: 12.4     |\n",
      "|-----------------------------------------+------------------------+----------------------+\n",
      "| GPU  Name                 Persistence-M | Bus-Id          Disp.A | Volatile Uncorr. ECC |\n",
      "| Fan  Temp   Perf          Pwr:Usage/Cap |           Memory-Usage | GPU-Util  Compute M. |\n",
      "|                                         |                        |               MIG M. |\n",
      "|=========================================+========================+======================|\n",
      "|   0  NVIDIA A100-PCIE-40GB          Off |   00000000:31:00.0 Off |                    0 |\n",
      "| N/A   39C    P0             39W /  250W |       0MiB /  40960MiB |      0%      Default |\n",
      "|                                         |                        |             Disabled |\n",
      "+-----------------------------------------+------------------------+----------------------+\n",
      "|   1  NVIDIA A100-PCIE-40GB          Off |   00000000:98:00.0 Off |                    0 |\n",
      "| N/A   36C    P0             38W /  250W |       0MiB /  40960MiB |      0%      Default |\n",
      "|                                         |                        |             Disabled |\n",
      "+-----------------------------------------+------------------------+----------------------+\n",
      "|   2  NVIDIA A100-PCIE-40GB          Off |   00000000:CA:00.0 Off |                    0 |\n",
      "| N/A   38C    P0             38W /  250W |       0MiB /  40960MiB |      0%      Default |\n",
      "|                                         |                        |             Disabled |\n",
      "+-----------------------------------------+------------------------+----------------------+\n",
      "                                                                                         \n",
      "+-----------------------------------------------------------------------------------------+\n",
      "| Processes:                                                                              |\n",
      "|  GPU   GI   CI        PID   Type   Process name                              GPU Memory |\n",
      "|        ID   ID                                                               Usage      |\n",
      "|=========================================================================================|\n",
      "|  No running processes found                                                             |\n",
      "+-----------------------------------------------------------------------------------------+\n"
     ]
    }
   ],
   "source": [
    "!nvidia-smi"
   ]
  },
  {
   "cell_type": "code",
   "execution_count": 4,
   "metadata": {},
   "outputs": [],
   "source": [
    "#snps = df.drop_duplicates(subset=['not_sQTL'])['not_sQTL'].values\n",
    "#res = pd.DataFrame({'Chr':[x.split(':')[0] for x in snps],'Pos':[int(x.split(':')[1]) for x in snps],'marker':snps})\n",
    "#res.sort_values(['Chr','Pos'],ascending=True).to_csv('../Data/not_sQTL.gor',sep='\\t',index=False)"
   ]
  },
  {
   "cell_type": "code",
   "execution_count": 2,
   "metadata": {},
   "outputs": [],
   "source": [
    "import pyfastx\n",
    "import gffutils\n",
    "data_dir = '../Data/'\n",
    "fasta_file_path = '../Data/genome.fa'\n",
    "gtf_file_path = '/odinn/tmp/benediktj/Data/SplicePrediction-GTEX/gencode.v26.annotation.gtf'\n",
    "#fname = data_dir+gtf_file_path.split('/')[-1][:-4]+'.db'\n",
    "#gtf = gffutils.FeatureDB(fname)\n",
    "fasta = pyfastx.Fasta(fasta_file_path)"
   ]
  },
  {
   "cell_type": "code",
   "execution_count": 3,
   "metadata": {},
   "outputs": [
    {
     "name": "stdout",
     "output_type": "stream",
     "text": [
      "/odinn/tmp/benediktj/Data/SplicePrediction-GTEX/gencode.v26.annotation.gtf\r\n"
     ]
    }
   ],
   "source": [
    "!ls /odinn/tmp/benediktj/Data/SplicePrediction-GTEX/gencode.v26.annotation.gtf"
   ]
  },
  {
   "cell_type": "code",
   "execution_count": 4,
   "metadata": {},
   "outputs": [],
   "source": [
    "import pandas as pd\n",
    "\n",
    "def parse_gtf(gtf_file):\n",
    "    \"\"\"Parse GTF file and return a DataFrame.\"\"\"\n",
    "    columns = [\n",
    "        'seqname', 'source', 'feature', 'start', 'end', 'score', 'strand', 'frame', 'attribute'\n",
    "    ]\n",
    "    df = pd.read_csv(gtf_file, sep='\\t', comment='#', names=columns)\n",
    "    \n",
    "    # Filter for genes only\n",
    "    df = df[df['feature'] == 'gene']\n",
    "    \n",
    "    # Parse attributes to get gene_id and gene_name\n",
    "    df['gene_id'] = df['attribute'].str.extract('gene_id \"([^\"]+)\"')\n",
    "    df['gene_name'] = df['attribute'].str.extract('gene_name \"([^\"]+)\"')\n",
    "    \n",
    "    return df[['gene_id', 'gene_name', 'seqname', 'start', 'end', 'strand']]\n",
    "\n",
    "def get_gene_info(gene_names, gtf_file):\n",
    "    \"\"\"Return gene information for a list of gene names.\"\"\"\n",
    "    gtf_data = parse_gtf(gtf_file)\n",
    "    \n",
    "    # Filter for the genes of interest\n",
    "    gene_info = gtf_data[gtf_data['gene_name'].isin(gene_names)]\n",
    "    \n",
    "    return gene_info\n",
    "\n"
   ]
  },
  {
   "cell_type": "code",
   "execution_count": 5,
   "metadata": {},
   "outputs": [],
   "source": [
    "rng = np.random.default_rng(23673)"
   ]
  },
  {
   "cell_type": "code",
   "execution_count": 6,
   "metadata": {},
   "outputs": [],
   "source": [
    "data_dir = '../Data'"
   ]
  },
  {
   "cell_type": "code",
   "execution_count": 7,
   "metadata": {},
   "outputs": [],
   "source": [
    "L = 32\n",
    "N_GPUS = 4\n",
    "k = 2\n",
    "# Hyper-parameters:\n",
    "# L: Number of convolution kernels\n",
    "# W: Convolution window size in each residual unit\n",
    "# AR: Atrous rate in each residual unit\n",
    "\n",
    "W = np.asarray([11, 11, 11, 11, 11, 11, 11, 11,\n",
    "                21, 21, 21, 21, 41, 41, 41, 41])\n",
    "AR = np.asarray([1, 1, 1, 1, 4, 4, 4, 4,\n",
    "                 10, 10, 10, 10, 25, 25, 25, 25])\n",
    "BATCH_SIZE = k*6*N_GPUS\n",
    "\n",
    "\n",
    "CL = 2 * np.sum(AR*(W-1))"
   ]
  },
  {
   "cell_type": "code",
   "execution_count": 8,
   "metadata": {},
   "outputs": [],
   "source": [
    "SL=5000\n",
    "CL_max=40000"
   ]
  },
  {
   "cell_type": "code",
   "execution_count": 9,
   "metadata": {},
   "outputs": [],
   "source": [
    "#lead_sQTL = lead_sQTL[lead_sQTL['Pval']<=0.05/lead_sQTL.shape[0]]"
   ]
  },
  {
   "cell_type": "code",
   "execution_count": 10,
   "metadata": {},
   "outputs": [],
   "source": [
    "clinvar = pd.read_csv('/odinn/tmp/benediktj/Data/ClinVar/clinvar_splice_variants.tsv',sep='\\t')\n",
    "gene_names = clinvar.gene_info.apply(lambda x: x.split(':')[0]).unique()\n",
    "gene_info = get_gene_info(gene_names, gtf_file_path)\n",
    "clinvar['gene_name'] = clinvar.gene_info.apply(lambda x: x.split(':')[0])\n",
    "gene_info = gene_info.drop_duplicates('gene_name')\n",
    "clinvar = clinvar.merge(gene_info,on='gene_name',how='left')\n",
    "clinvar = clinvar[clinvar['chromosome'].isin([str(x) for x in list(range(1,23))])]\n",
    "clinvar = clinvar.dropna()"
   ]
  },
  {
   "cell_type": "code",
   "execution_count": 14,
   "metadata": {},
   "outputs": [],
   "source": [
    "NUM_ACCUMULATION_STEPS = 1\n",
    "temp = 1\n",
    "n_models = 10\n",
    "device = torch.device(\"cuda\" if torch.cuda.is_available() else \"cpu\")\n",
    "model_m = SpliceFormer(CL_max,bn_momentum=0.01/NUM_ACCUMULATION_STEPS,depth=4,heads=4,n_transformer_blocks=2,determenistic=True)\n",
    "model_m.apply(keras_init)\n",
    "model_m = model_m.to(device)\n",
    "\n",
    "if torch.cuda.device_count() > 1:\n",
    "    model_m = nn.DataParallel(model_m)\n",
    "\n",
    "output_class_labels = ['Null', 'Acceptor', 'Donor']\n",
    "\n",
    "#for output_class in [1,2]:\n",
    "models = [copy.deepcopy(model_m) for i in range(n_models)]\n",
    "\n",
    "[model.load_state_dict(torch.load('../Results/PyTorch_Models/transformer_encoder_40k_finetune_rnasplice-blood_all_050623_{}'.format(i))) for i,model in enumerate(models)]\n",
    "\n",
    "for model in models:\n",
    "    model.eval()"
   ]
  },
  {
   "cell_type": "code",
   "execution_count": 15,
   "metadata": {},
   "outputs": [],
   "source": [
    "#gene_boundries = {}\n",
    "#for gene in tqdm(genes):\n",
    "#    gene_boundries[gene[\"gene_name\"][0]] = [int(gene[3]),int(gene[4])]"
   ]
  },
  {
   "cell_type": "code",
   "execution_count": 16,
   "metadata": {},
   "outputs": [],
   "source": [
    "#with open('/odinn/tmp/benediktj/Data/SplicePrediction-050422/gene_boundries.pkl', 'wb') as f:\n",
    "#    pickle.dump(gene_boundries, f)"
   ]
  },
  {
   "cell_type": "code",
   "execution_count": 17,
   "metadata": {},
   "outputs": [],
   "source": [
    "#no_sQTLs = pd.read_csv('../Data/no_sQTLs.csv')"
   ]
  },
  {
   "cell_type": "code",
   "execution_count": 18,
   "metadata": {},
   "outputs": [],
   "source": [
    "def predictSplicing(seq,models):\n",
    "    outputs = []\n",
    "    for i in range(seq.shape[0]):\n",
    "        batch_features = torch.tensor(seq[i,:,:], device=device).float().unsqueeze(0)\n",
    "        batch_features = torch.swapaxes(batch_features,1,2)\n",
    "        prediction = ([models[i](batch_features)[0].detach() for i in range(n_models)])\n",
    "        prediction = torch.stack(prediction)\n",
    "        prediction = torch.mean(prediction,dim=0)\n",
    "        outputs.append(prediction)\n",
    "    \n",
    "    outputs = torch.cat(outputs,dim=2)\n",
    "    outputs = outputs.cpu().detach().numpy()\n",
    "    return outputs\n",
    "\n",
    "def plotPrediction(outputs):\n",
    "    plt.rcParams.update({'font.size': 18})\n",
    "    fig, (ax1, ax2) = plt.subplots(2, 1,figsize=(22, 6),sharex=True)\n",
    "    x = np.arange(outputs.shape[2])\n",
    "    ax1.plot(x,outputs[0,1,:],linewidth=2,zorder=-32)\n",
    "    ax2.plot(x,outputs[0,2,:],linewidth=2,zorder=-32)\n",
    "    plt.xlabel('Distance from transcript start (nt)')\n",
    "    ax1.set_ylabel('Acceptor score')\n",
    "    ax2.set_ylabel('Donor Score')\n",
    "    ax1.legend(prop={'size': 14})\n",
    "    ax2.legend(prop={'size': 14})\n",
    "    plt.tight_layout()\n",
    "    plt.show()\n",
    "\n",
    "def ceil_div(x, y):\n",
    "\n",
    "    return int(ceil(float(x)/y))\n",
    "\n",
    "\n",
    "IN_MAP = np.asarray([[0, 0, 0, 0],\n",
    "                     [1, 0, 0, 0],\n",
    "                     [0, 1, 0, 0],\n",
    "                     [0, 0, 1, 0],\n",
    "                     [0, 0, 0, 1]])\n",
    "\n",
    "def one_hot_encode(Xd):\n",
    "\n",
    "    return IN_MAP[Xd.astype('int8')]\n",
    "\n",
    "def reformat_data(X0):\n",
    "    # This function converts X0, Y0 of the create_datapoints function into\n",
    "    # blocks such that the data is broken down into data points where the\n",
    "    # input is a sequence of length SL+CL_max corresponding to SL nucleotides\n",
    "    # of interest and CL_max context nucleotides, the output is a sequence of\n",
    "    # length SL corresponding to the splicing information of the nucleotides\n",
    "    # of interest. The CL_max context nucleotides are such that they are\n",
    "    # CL_max/2 on either side of the SL nucleotides of interest.\n",
    "\n",
    "    num_points = ceil_div(len(X0)-CL_max, SL)\n",
    "    Xd = np.zeros((num_points, SL+CL_max))\n",
    "    X0 = np.pad(X0, [0, SL], 'constant', constant_values=0)\n",
    "\n",
    "    for i in range(num_points):\n",
    "        Xd[i] = X0[SL*i:CL_max+SL*(i+1)]\n",
    "\n",
    "    return Xd\n",
    "\n",
    "def seqToArray(seq,strand):\n",
    "    seq = 'N'*(CL_max//2) + seq + 'N'*(CL_max//2)\n",
    "    seq = seq.upper()\n",
    "    seq = re.sub(r'[^AGTC]', '0',seq)\n",
    "    seq = seq.replace('A', '1').replace('C', '2')\n",
    "    seq = seq.replace('G', '3').replace('T', '4').replace('N', '0')\n",
    "    if strand == '+':\n",
    "        X0 = np.asarray([int(x) for x in seq])\n",
    "            \n",
    "    elif strand == '-':\n",
    "        X0 = (5-np.asarray([int(x) for x in seq[::-1]])) % 5  # Reverse complement\n",
    "        \n",
    "    Xd = reformat_data(X0)\n",
    "    return  one_hot_encode(Xd)"
   ]
  },
  {
   "cell_type": "code",
   "execution_count": 19,
   "metadata": {},
   "outputs": [],
   "source": [
    "def calculate_chromosome_lengths(fasta_file):\n",
    "    \"\"\"\n",
    "    Calculate lengths of chromosomes from a FASTA file.\n",
    "\n",
    "    Parameters:\n",
    "    fasta_file (str): Path to the FASTA file.\n",
    "\n",
    "    Returns:\n",
    "    dict: A dictionary with chromosome names as keys and their lengths as values.\n",
    "    \"\"\"\n",
    "    chromosome_lengths = {}\n",
    "    \n",
    "    fasta = pyfastx.Fasta(fasta_file)\n",
    "    \n",
    "    for seq in fasta:\n",
    "        chromosome_lengths[seq.name] = len(seq)\n",
    "    \n",
    "    return chromosome_lengths"
   ]
  },
  {
   "cell_type": "code",
   "execution_count": 20,
   "metadata": {},
   "outputs": [
    {
     "name": "stdout",
     "output_type": "stream",
     "text": [
      "{'chr1': 248956422, 'chr10': 133797422, 'chr11': 135086622, 'chr11_KI270721v1_random': 100316, 'chr12': 133275309, 'chr13': 114364328, 'chr14': 107043718, 'chr14_GL000009v2_random': 201709, 'chr14_GL000194v1_random': 191469, 'chr14_GL000225v1_random': 211173, 'chr14_KI270722v1_random': 194050, 'chr14_KI270723v1_random': 38115, 'chr14_KI270724v1_random': 39555, 'chr14_KI270725v1_random': 172810, 'chr14_KI270726v1_random': 43739, 'chr15': 101991189, 'chr15_KI270727v1_random': 448248, 'chr16': 90338345, 'chr16_KI270728v1_random': 1872759, 'chr17': 83257441, 'chr17_GL000205v2_random': 185591, 'chr17_KI270729v1_random': 280839, 'chr17_KI270730v1_random': 112551, 'chr18': 80373285, 'chr19': 58617616, 'chr1_KI270706v1_random': 175055, 'chr1_KI270707v1_random': 32032, 'chr1_KI270708v1_random': 127682, 'chr1_KI270709v1_random': 66860, 'chr1_KI270710v1_random': 40176, 'chr1_KI270711v1_random': 42210, 'chr1_KI270712v1_random': 176043, 'chr1_KI270713v1_random': 40745, 'chr1_KI270714v1_random': 41717, 'chr2': 242193529, 'chr20': 64444167, 'chr21': 46709983, 'chr22': 50818468, 'chr22_KI270731v1_random': 150754, 'chr22_KI270732v1_random': 41543, 'chr22_KI270733v1_random': 179772, 'chr22_KI270734v1_random': 165050, 'chr22_KI270735v1_random': 42811, 'chr22_KI270736v1_random': 181920, 'chr22_KI270737v1_random': 103838, 'chr22_KI270738v1_random': 99375, 'chr22_KI270739v1_random': 73985, 'chr2_KI270715v1_random': 161471, 'chr2_KI270716v1_random': 153799, 'chr3': 198295559, 'chr3_GL000221v1_random': 155397, 'chr4': 190214555, 'chr4_GL000008v2_random': 209709, 'chr5': 181538259, 'chr5_GL000208v1_random': 92689, 'chr6': 170805979, 'chr7': 159345973, 'chr8': 145138636, 'chr9': 138394717, 'chr9_KI270717v1_random': 40062, 'chr9_KI270718v1_random': 38054, 'chr9_KI270719v1_random': 176845, 'chr9_KI270720v1_random': 39050, 'chrEBV': 171823, 'chrM': 16569, 'chrUn_GL000195v1': 182896, 'chrUn_GL000213v1': 164239, 'chrUn_GL000214v1': 137718, 'chrUn_GL000216v2': 176608, 'chrUn_GL000218v1': 161147, 'chrUn_GL000219v1': 179198, 'chrUn_GL000220v1': 161802, 'chrUn_GL000224v1': 179693, 'chrUn_GL000226v1': 15008, 'chrUn_KI270302v1': 2274, 'chrUn_KI270303v1': 1942, 'chrUn_KI270304v1': 2165, 'chrUn_KI270305v1': 1472, 'chrUn_KI270310v1': 1201, 'chrUn_KI270311v1': 12399, 'chrUn_KI270312v1': 998, 'chrUn_KI270315v1': 2276, 'chrUn_KI270316v1': 1444, 'chrUn_KI270317v1': 37690, 'chrUn_KI270320v1': 4416, 'chrUn_KI270322v1': 21476, 'chrUn_KI270329v1': 1040, 'chrUn_KI270330v1': 1652, 'chrUn_KI270333v1': 2699, 'chrUn_KI270334v1': 1368, 'chrUn_KI270335v1': 1048, 'chrUn_KI270336v1': 1026, 'chrUn_KI270337v1': 1121, 'chrUn_KI270338v1': 1428, 'chrUn_KI270340v1': 1428, 'chrUn_KI270362v1': 3530, 'chrUn_KI270363v1': 1803, 'chrUn_KI270364v1': 2855, 'chrUn_KI270366v1': 8320, 'chrUn_KI270371v1': 2805, 'chrUn_KI270372v1': 1650, 'chrUn_KI270373v1': 1451, 'chrUn_KI270374v1': 2656, 'chrUn_KI270375v1': 2378, 'chrUn_KI270376v1': 1136, 'chrUn_KI270378v1': 1048, 'chrUn_KI270379v1': 1045, 'chrUn_KI270381v1': 1930, 'chrUn_KI270382v1': 4215, 'chrUn_KI270383v1': 1750, 'chrUn_KI270384v1': 1658, 'chrUn_KI270385v1': 990, 'chrUn_KI270386v1': 1788, 'chrUn_KI270387v1': 1537, 'chrUn_KI270388v1': 1216, 'chrUn_KI270389v1': 1298, 'chrUn_KI270390v1': 2387, 'chrUn_KI270391v1': 1484, 'chrUn_KI270392v1': 971, 'chrUn_KI270393v1': 1308, 'chrUn_KI270394v1': 970, 'chrUn_KI270395v1': 1143, 'chrUn_KI270396v1': 1880, 'chrUn_KI270411v1': 2646, 'chrUn_KI270412v1': 1179, 'chrUn_KI270414v1': 2489, 'chrUn_KI270417v1': 2043, 'chrUn_KI270418v1': 2145, 'chrUn_KI270419v1': 1029, 'chrUn_KI270420v1': 2321, 'chrUn_KI270422v1': 1445, 'chrUn_KI270423v1': 981, 'chrUn_KI270424v1': 2140, 'chrUn_KI270425v1': 1884, 'chrUn_KI270429v1': 1361, 'chrUn_KI270435v1': 92983, 'chrUn_KI270438v1': 112505, 'chrUn_KI270442v1': 392061, 'chrUn_KI270448v1': 7992, 'chrUn_KI270465v1': 1774, 'chrUn_KI270466v1': 1233, 'chrUn_KI270467v1': 3920, 'chrUn_KI270468v1': 4055, 'chrUn_KI270507v1': 5353, 'chrUn_KI270508v1': 1951, 'chrUn_KI270509v1': 2318, 'chrUn_KI270510v1': 2415, 'chrUn_KI270511v1': 8127, 'chrUn_KI270512v1': 22689, 'chrUn_KI270515v1': 6361, 'chrUn_KI270516v1': 1300, 'chrUn_KI270517v1': 3253, 'chrUn_KI270518v1': 2186, 'chrUn_KI270519v1': 138126, 'chrUn_KI270521v1': 7642, 'chrUn_KI270522v1': 5674, 'chrUn_KI270528v1': 2983, 'chrUn_KI270529v1': 1899, 'chrUn_KI270530v1': 2168, 'chrUn_KI270538v1': 91309, 'chrUn_KI270539v1': 993, 'chrUn_KI270544v1': 1202, 'chrUn_KI270548v1': 1599, 'chrUn_KI270579v1': 31033, 'chrUn_KI270580v1': 1553, 'chrUn_KI270581v1': 7046, 'chrUn_KI270582v1': 6504, 'chrUn_KI270583v1': 1400, 'chrUn_KI270584v1': 4513, 'chrUn_KI270587v1': 2969, 'chrUn_KI270588v1': 6158, 'chrUn_KI270589v1': 44474, 'chrUn_KI270590v1': 4685, 'chrUn_KI270591v1': 5796, 'chrUn_KI270593v1': 3041, 'chrUn_KI270741v1': 157432, 'chrUn_KI270742v1': 186739, 'chrUn_KI270743v1': 210658, 'chrUn_KI270744v1': 168472, 'chrUn_KI270745v1': 41891, 'chrUn_KI270746v1': 66486, 'chrUn_KI270747v1': 198735, 'chrUn_KI270748v1': 93321, 'chrUn_KI270749v1': 158759, 'chrUn_KI270750v1': 148850, 'chrUn_KI270751v1': 150742, 'chrUn_KI270752v1': 27745, 'chrUn_KI270753v1': 62944, 'chrUn_KI270754v1': 40191, 'chrUn_KI270755v1': 36723, 'chrUn_KI270756v1': 79590, 'chrUn_KI270757v1': 71251, 'chrX': 156040895, 'chrY': 57227415, 'chrY_KI270740v1_random': 37240, 'chrZ_001422_local': 5386, 'chrZ_012849_local': 273136, 'chrZ_012851_local': 51398, 'chrZ_012855_local': 389779, 'chrZ_012856_local': 3647724, 'chrZ_012857_local': 1323321, 'chrZ_014931_local': 6550056}\n"
     ]
    }
   ],
   "source": [
    "chromosome_lengths = calculate_chromosome_lengths(fasta_file_path)\n",
    "print(chromosome_lengths)"
   ]
  },
  {
   "cell_type": "code",
   "execution_count": 21,
   "metadata": {},
   "outputs": [
    {
     "name": "stderr",
     "output_type": "stream",
     "text": [
      "100%|████████████████████████████████████████████████████████████████████████████████████████████████████████████████████████████████████████████████████████████████████████████████████████████████████████████████████████████████████████████| 46073/46073 [49:07:27<00:00,  3.84s/it]\n"
     ]
    }
   ],
   "source": [
    "results = {}\n",
    "\n",
    "for i in tqdm(range(clinvar.shape[0])):\n",
    "    gene,chrm,strand,pos,gene_start,gene_end,ref_s,alt_s, = clinvar.iloc[i,:][['gene_name','seqname','strand','position','start','end','ref','alt']]\n",
    "    event_id = i\n",
    "    names = gene.split(',')\n",
    "    #gene_start,gene_end = unionBoundry(names,gene_boundries)\n",
    "    #starts,ends = [],[]\n",
    "    #if pos<jn_start:\n",
    "    start,end = np.max([pos-CL_max//2-SL//2,1]),np.min([pos+CL_max//2+SL//2,chromosome_lengths[chrm]])\n",
    "    #start,end = np.max([pos-CL_max//2,gene_start]),np.min([pos+CL_max//2,gene_end])\n",
    "    #elif jn_start<=pos<jn_end:\n",
    "    #    start,end = np.max([jn_start-CL_max//2,gene_start]),np.min([jn_end+CL_max//2,gene_end])\n",
    "    #else:\n",
    "    #    start,end = np.max([jn_start-CL_max//2,gene_start]),np.min([pos+CL_max//2,gene_end])\n",
    "    if start < 1:\n",
    "        start = 1\n",
    "    #for name in names:\n",
    "    #    tmp = gene_boundries[name]\n",
    "    #    starts.append(tmp[0])\n",
    "    #    ends.append(tmp[1])\n",
    "\n",
    "    #gene_start,gene_end = np.min(starts),np.max(ends)\n",
    "\n",
    "     #= df_gene[].iloc[0]\n",
    "    #start,end = np.max([pos-CL_max//2,gene_start]),np.min([pos+CL_max//2,gene_end])\n",
    "\n",
    "    #if strand=='-':\n",
    "    #    starts,ends = [],[]\n",
    "    #    for i in range(df_gene.shape[0]):\n",
    "    #        starts.append(pos+df_gene['acceptor'].iloc[i]-CL_max//2)\n",
    "    #        ends.append(pos+df_gene['donor'].iloc[i]+CL_max//2)\n",
    "    #    start2,end2 = np.min(starts),np.max(ends)\n",
    "    #    start = np.min([start,start2])\n",
    "    #    end = np.max([end,end2])\n",
    "    #else:\n",
    "    #    starts,ends = [],[]\n",
    "    #    for i in range(df_gene.shape[0]):\n",
    "    #        starts.append(pos-df_gene['donor'].iloc[i]-CL_max//2)\n",
    "    #        ends.append(pos-df_gene['acceptor'].iloc[i]+CL_max//2)\n",
    "    #    start2,end2 = np.min(starts),np.max(ends)\n",
    "    #    start = np.min([start,start2])\n",
    "    #    end = np.max([end,end2])\n",
    "\n",
    "    \n",
    "    try:\n",
    "        pos_s = pos-start\n",
    "        ref = fasta[chrm][start-1:end].seq\n",
    "        alt = ref\n",
    "        ref_len = len(ref_s)\n",
    "        alt_len = len(alt_s)\n",
    "        assert ref_s == ref[pos_s:(pos_s+ref_len)]\n",
    "        alt = alt[:pos_s]+alt_s+alt[(pos_s+ref_len):]\n",
    "        alt_align = np.arange(len(ref))\n",
    "        alt_align = np.concatenate([alt_align[:pos_s],np.repeat(pos_s,alt_len),alt_align[pos_s+ref_len:]])\n",
    "\n",
    "        ref_len2 = len(ref)\n",
    "        alt_len2 = len(alt)\n",
    "\n",
    "        ref = seqToArray(ref,strand)\n",
    "        alt = seqToArray(alt,strand)\n",
    "\n",
    "        ref_prediction = predictSplicing(ref,models)[0,:,:ref_len2]\n",
    "        alt_prediction = predictSplicing(alt,models)[0,:,:alt_len2]\n",
    "\n",
    "        tmp = np.zeros_like(ref_prediction)\n",
    "        if strand=='-':\n",
    "            ref_prediction = ref_prediction[:,::-1]\n",
    "            alt_prediction = alt_prediction[:,::-1]\n",
    "\n",
    "        ref_acceptor = ref_prediction[1,:]\n",
    "        alt_acceptor = alt_prediction[1,:]\n",
    "        ref_donor = ref_prediction[2,:]\n",
    "        alt_donor = alt_prediction[2,:]\n",
    "\n",
    "        delta_1_a = alt_acceptor[:pos_s]-ref_acceptor[:pos_s]\n",
    "        delta_1_d = alt_donor[:pos_s]-ref_donor[:pos_s]\n",
    "        delta_3_a = alt_acceptor[pos_s+alt_len:]-ref_acceptor[pos_s+ref_len:]\n",
    "        delta_3_d = alt_donor[pos_s+alt_len:]-ref_donor[pos_s+ref_len:]\n",
    "\n",
    "        if ref_len2==alt_len2:\n",
    "            delta_2_a = alt_acceptor[pos_s:pos_s+ref_len]-ref_acceptor[pos_s:pos_s+ref_len]\n",
    "            delta_2_d = alt_donor[pos_s:pos_s+ref_len]-ref_donor[pos_s:pos_s+ref_len]\n",
    "        elif ref_len2>alt_len2:\n",
    "            a_pad = np.pad(alt_acceptor[pos_s:pos_s+alt_len],(0, ref_len-alt_len), 'constant', constant_values=0)\n",
    "            d_pad = np.pad(alt_donor[pos_s:pos_s+alt_len],(0, ref_len-alt_len), 'constant', constant_values=0)\n",
    "            delta_2_a = a_pad-ref_acceptor[pos_s:pos_s+ref_len]\n",
    "            delta_2_d = d_pad-ref_donor[pos_s:pos_s+ref_len]\n",
    "\n",
    "        elif ref_len2<alt_len2:\n",
    "            a_pad = np.pad(ref_acceptor[pos_s:pos_s+ref_len],(0, alt_len-ref_len), 'constant', constant_values=0)\n",
    "            d_pad = np.pad(ref_donor[pos_s:pos_s+ref_len],(0, alt_len-ref_len), 'constant', constant_values=0)\n",
    "            delta_2_a = alt_acceptor[pos_s:pos_s+alt_len]-a_pad\n",
    "            delta_2_d = alt_donor[pos_s:pos_s+alt_len]-d_pad\n",
    "\n",
    "            delta_2_a =np.append(delta_2_a[:ref_len-1],delta_2_a[np.argmax(np.absolute(delta_2_a[ref_len-1:alt_len]))])\n",
    "            delta_2_d =np.append(delta_2_d[:ref_len-1],delta_2_d[np.argmax(np.absolute(delta_2_d[ref_len-1:alt_len]))])\n",
    "\n",
    "        acceptorDelta = np.concatenate([delta_1_a,delta_2_a,delta_3_a])\n",
    "        donorDelta = np.concatenate([delta_1_d,delta_2_d,delta_3_d])\n",
    "\n",
    "        #if strand=='-':\n",
    "        #    acceptor_loc =jn_start-start\n",
    "        #    donor_loc = jn_end-start+1\n",
    "        #else:\n",
    "        #    acceptor_loc = jn_end-start+1\n",
    "        #    donor_loc = jn_start-start\n",
    "\n",
    "        #acceptor_delta_nr = alt_acceptor.shape[0]-np.argsort(np.argsort(np.absolute(acceptorDelta)))[acceptor_loc]\n",
    "        #donor_delta_nr = alt_donor.shape[0]-np.argsort(np.argsort(np.absolute(donorDelta)))[donor_loc]\n",
    "        top_a_creation_pos = np.argmax(acceptorDelta)\n",
    "        top_d_creation_pos = np.argmax(donorDelta)\n",
    "        top_a_disruption_pos = np.argmin(acceptorDelta)\n",
    "        top_d_disruption_pos = np.argmin(donorDelta)\n",
    "        top_a_creation_delta = acceptorDelta[top_a_creation_pos]\n",
    "        top_d_creation_delta = donorDelta[top_d_creation_pos]\n",
    "        top_a_disruption_delta = acceptorDelta[top_a_disruption_pos]\n",
    "        top_d_disruption_delta = donorDelta[top_d_disruption_pos]\n",
    "\n",
    "        results[event_id] = [start+top_a_creation_pos,start+top_d_creation_pos,start+top_a_disruption_pos,start+top_d_disruption_pos,top_a_creation_delta,top_d_creation_delta,-top_a_disruption_delta,-top_d_disruption_delta]\n",
    "    except:\n",
    "        results[event_id] = [float(\"nan\")]*8\n",
    "        print('{} failed'.format(event_id))"
   ]
  },
  {
   "cell_type": "code",
   "execution_count": 22,
   "metadata": {},
   "outputs": [],
   "source": [
    "#with open('/odinn/tmp/benediktj/Data/SplicePrediction-050422/clinvar_deltas_transformer_gtex_plus_rna_blood_130623.pkl', 'wb') as f:\n",
    "#    pickle.dump(results, f)"
   ]
  },
  {
   "cell_type": "code",
   "execution_count": 11,
   "metadata": {},
   "outputs": [],
   "source": [
    "with open('/odinn/tmp/benediktj/Data/SplicePrediction-050422/clinvar_deltas_transformer_gtex_plus_rna_blood_130623.pkl', 'rb') as f:\n",
    "    results_1 = pickle.load(f)\n",
    "    \n",
    "with open('/odinn/tmp/benediktj/Data/SplicePrediction-050422/clinvar_deltas_splice_ai_pretrained_130623.pkl', 'rb') as f:\n",
    "    results_2 = pickle.load(f)"
   ]
  },
  {
   "cell_type": "code",
   "execution_count": 12,
   "metadata": {},
   "outputs": [],
   "source": [
    "benign_class = ['Benign', 'Likely_benign','Benign/Likely_benign','Likely_benign|drug_response|other']\n",
    "\n",
    "pathogenic_class = ['Pathogenic','Pathogenic/Likely_pathogenic', 'Likely_pathogenic','Pathogenic/Likely_pathogenic|other', 'Pathogenic|association', 'Pathogenic|risk_factor','Pathogenic|Affects', 'Likely_pathogenic/Likely_risk_allele']"
   ]
  },
  {
   "cell_type": "code",
   "execution_count": 13,
   "metadata": {},
   "outputs": [
    {
     "data": {
      "text/html": [
       "<div>\n",
       "<style scoped>\n",
       "    .dataframe tbody tr th:only-of-type {\n",
       "        vertical-align: middle;\n",
       "    }\n",
       "\n",
       "    .dataframe tbody tr th {\n",
       "        vertical-align: top;\n",
       "    }\n",
       "\n",
       "    .dataframe thead th {\n",
       "        text-align: right;\n",
       "    }\n",
       "</style>\n",
       "<table border=\"1\" class=\"dataframe\">\n",
       "  <thead>\n",
       "    <tr style=\"text-align: right;\">\n",
       "      <th></th>\n",
       "      <th>chromosome</th>\n",
       "      <th>position</th>\n",
       "      <th>ref</th>\n",
       "      <th>alt</th>\n",
       "      <th>variant_type</th>\n",
       "      <th>gene_info</th>\n",
       "      <th>splice_variant_type</th>\n",
       "      <th>clinical_significance</th>\n",
       "      <th>gene_name</th>\n",
       "      <th>gene_id</th>\n",
       "      <th>seqname</th>\n",
       "      <th>start</th>\n",
       "      <th>end</th>\n",
       "      <th>strand</th>\n",
       "    </tr>\n",
       "  </thead>\n",
       "  <tbody>\n",
       "    <tr>\n",
       "      <th>2</th>\n",
       "      <td>1</td>\n",
       "      <td>939398</td>\n",
       "      <td>G</td>\n",
       "      <td>GCCTCCCCAGCCACGGTGAGGACCCACCCTGGCATGATCCCCCTCATCA</td>\n",
       "      <td>Duplication</td>\n",
       "      <td>SAMD11:148398</td>\n",
       "      <td>SO:0001575|splice_donor_variant</td>\n",
       "      <td>Benign</td>\n",
       "      <td>SAMD11</td>\n",
       "      <td>ENSG00000187634.11</td>\n",
       "      <td>chr1</td>\n",
       "      <td>923928.0</td>\n",
       "      <td>944581.0</td>\n",
       "      <td>+</td>\n",
       "    </tr>\n",
       "    <tr>\n",
       "      <th>3</th>\n",
       "      <td>1</td>\n",
       "      <td>939398</td>\n",
       "      <td>G</td>\n",
       "      <td>GCCTCCCCAGCCACGGTGAGGACCCACCCTGGCATGATCCCCCTCA...</td>\n",
       "      <td>Microsatellite</td>\n",
       "      <td>SAMD11:148398</td>\n",
       "      <td>SO:0001575|splice_donor_variant</td>\n",
       "      <td>Likely_benign</td>\n",
       "      <td>SAMD11</td>\n",
       "      <td>ENSG00000187634.11</td>\n",
       "      <td>chr1</td>\n",
       "      <td>923928.0</td>\n",
       "      <td>944581.0</td>\n",
       "      <td>+</td>\n",
       "    </tr>\n",
       "    <tr>\n",
       "      <th>4</th>\n",
       "      <td>1</td>\n",
       "      <td>939398</td>\n",
       "      <td>G</td>\n",
       "      <td>GCCTCCCCAGCCACGGTGAGGACCCACCCTGGCATGATCCCCCTCA...</td>\n",
       "      <td>Microsatellite</td>\n",
       "      <td>SAMD11:148398</td>\n",
       "      <td>SO:0001575|splice_donor_variant</td>\n",
       "      <td>Likely_benign</td>\n",
       "      <td>SAMD11</td>\n",
       "      <td>ENSG00000187634.11</td>\n",
       "      <td>chr1</td>\n",
       "      <td>923928.0</td>\n",
       "      <td>944581.0</td>\n",
       "      <td>+</td>\n",
       "    </tr>\n",
       "    <tr>\n",
       "      <th>5</th>\n",
       "      <td>1</td>\n",
       "      <td>939398</td>\n",
       "      <td>G</td>\n",
       "      <td>GCCTCCCCAGCCACGGTGAGGACCCACCCTGGCATGATCCCCCTCA...</td>\n",
       "      <td>Microsatellite</td>\n",
       "      <td>SAMD11:148398</td>\n",
       "      <td>SO:0001575|splice_donor_variant</td>\n",
       "      <td>Likely_benign</td>\n",
       "      <td>SAMD11</td>\n",
       "      <td>ENSG00000187634.11</td>\n",
       "      <td>chr1</td>\n",
       "      <td>923928.0</td>\n",
       "      <td>944581.0</td>\n",
       "      <td>+</td>\n",
       "    </tr>\n",
       "    <tr>\n",
       "      <th>9</th>\n",
       "      <td>1</td>\n",
       "      <td>939398</td>\n",
       "      <td>GCCTCCCCAGCCACGGTGAGGACCCACCCTGGCATGATCCCCCTCATCA</td>\n",
       "      <td>G</td>\n",
       "      <td>Deletion</td>\n",
       "      <td>SAMD11:148398</td>\n",
       "      <td>SO:0001575|splice_donor_variant</td>\n",
       "      <td>Benign</td>\n",
       "      <td>SAMD11</td>\n",
       "      <td>ENSG00000187634.11</td>\n",
       "      <td>chr1</td>\n",
       "      <td>923928.0</td>\n",
       "      <td>944581.0</td>\n",
       "      <td>+</td>\n",
       "    </tr>\n",
       "    <tr>\n",
       "      <th>...</th>\n",
       "      <td>...</td>\n",
       "      <td>...</td>\n",
       "      <td>...</td>\n",
       "      <td>...</td>\n",
       "      <td>...</td>\n",
       "      <td>...</td>\n",
       "      <td>...</td>\n",
       "      <td>...</td>\n",
       "      <td>...</td>\n",
       "      <td>...</td>\n",
       "      <td>...</td>\n",
       "      <td>...</td>\n",
       "      <td>...</td>\n",
       "      <td>...</td>\n",
       "    </tr>\n",
       "    <tr>\n",
       "      <th>46569</th>\n",
       "      <td>22</td>\n",
       "      <td>46363187</td>\n",
       "      <td>CCTGATGGTTCAAATTGAAGTTTCATTA</td>\n",
       "      <td>C</td>\n",
       "      <td>Microsatellite</td>\n",
       "      <td>CELSR1:9620</td>\n",
       "      <td>SO:0001574|splice_acceptor_variant,SO:0002073|...</td>\n",
       "      <td>Benign</td>\n",
       "      <td>CELSR1</td>\n",
       "      <td>ENSG00000075275.16</td>\n",
       "      <td>chr22</td>\n",
       "      <td>46360834.0</td>\n",
       "      <td>46537170.0</td>\n",
       "      <td>-</td>\n",
       "    </tr>\n",
       "    <tr>\n",
       "      <th>46580</th>\n",
       "      <td>22</td>\n",
       "      <td>49922288</td>\n",
       "      <td>CCTCAGCAGTCAGGACCGGCCTCTCCGATTCTTACCCG</td>\n",
       "      <td>C</td>\n",
       "      <td>Deletion</td>\n",
       "      <td>CRELD2:79174</td>\n",
       "      <td>SO:0001574|splice_acceptor_variant,SO:0001627|...</td>\n",
       "      <td>Benign</td>\n",
       "      <td>CRELD2</td>\n",
       "      <td>ENSG00000184164.14</td>\n",
       "      <td>chr22</td>\n",
       "      <td>49918167.0</td>\n",
       "      <td>49927540.0</td>\n",
       "      <td>+</td>\n",
       "    </tr>\n",
       "    <tr>\n",
       "      <th>46651</th>\n",
       "      <td>22</td>\n",
       "      <td>50526147</td>\n",
       "      <td>G</td>\n",
       "      <td>GGGAGAGGGGC</td>\n",
       "      <td>Duplication</td>\n",
       "      <td>TYMP:1890|SCO2:9997|LOC130067862:130067862</td>\n",
       "      <td>SO:0001574|splice_acceptor_variant,SO:0001627|...</td>\n",
       "      <td>Likely_benign</td>\n",
       "      <td>TYMP</td>\n",
       "      <td>ENSG00000025708.13</td>\n",
       "      <td>chr22</td>\n",
       "      <td>50525752.0</td>\n",
       "      <td>50530056.0</td>\n",
       "      <td>-</td>\n",
       "    </tr>\n",
       "    <tr>\n",
       "      <th>46653</th>\n",
       "      <td>22</td>\n",
       "      <td>50526158</td>\n",
       "      <td>T</td>\n",
       "      <td>C</td>\n",
       "      <td>single_nucleotide_variant</td>\n",
       "      <td>TYMP:1890|SCO2:9997|LOC130067862:130067862</td>\n",
       "      <td>SO:0001574|splice_acceptor_variant,SO:0001627|...</td>\n",
       "      <td>Likely_benign</td>\n",
       "      <td>TYMP</td>\n",
       "      <td>ENSG00000025708.13</td>\n",
       "      <td>chr22</td>\n",
       "      <td>50525752.0</td>\n",
       "      <td>50530056.0</td>\n",
       "      <td>-</td>\n",
       "    </tr>\n",
       "    <tr>\n",
       "      <th>46679</th>\n",
       "      <td>22</td>\n",
       "      <td>50529755</td>\n",
       "      <td>C</td>\n",
       "      <td>A</td>\n",
       "      <td>single_nucleotide_variant</td>\n",
       "      <td>TYMP:1890</td>\n",
       "      <td>SO:0001574|splice_acceptor_variant,SO:0001623|...</td>\n",
       "      <td>Likely_benign</td>\n",
       "      <td>TYMP</td>\n",
       "      <td>ENSG00000025708.13</td>\n",
       "      <td>chr22</td>\n",
       "      <td>50525752.0</td>\n",
       "      <td>50530056.0</td>\n",
       "      <td>-</td>\n",
       "    </tr>\n",
       "  </tbody>\n",
       "</table>\n",
       "<p>1001 rows × 14 columns</p>\n",
       "</div>"
      ],
      "text/plain": [
       "      chromosome  position                                                ref  \\\n",
       "2              1    939398                                                  G   \n",
       "3              1    939398                                                  G   \n",
       "4              1    939398                                                  G   \n",
       "5              1    939398                                                  G   \n",
       "9              1    939398  GCCTCCCCAGCCACGGTGAGGACCCACCCTGGCATGATCCCCCTCATCA   \n",
       "...          ...       ...                                                ...   \n",
       "46569         22  46363187                       CCTGATGGTTCAAATTGAAGTTTCATTA   \n",
       "46580         22  49922288             CCTCAGCAGTCAGGACCGGCCTCTCCGATTCTTACCCG   \n",
       "46651         22  50526147                                                  G   \n",
       "46653         22  50526158                                                  T   \n",
       "46679         22  50529755                                                  C   \n",
       "\n",
       "                                                     alt  \\\n",
       "2      GCCTCCCCAGCCACGGTGAGGACCCACCCTGGCATGATCCCCCTCATCA   \n",
       "3      GCCTCCCCAGCCACGGTGAGGACCCACCCTGGCATGATCCCCCTCA...   \n",
       "4      GCCTCCCCAGCCACGGTGAGGACCCACCCTGGCATGATCCCCCTCA...   \n",
       "5      GCCTCCCCAGCCACGGTGAGGACCCACCCTGGCATGATCCCCCTCA...   \n",
       "9                                                      G   \n",
       "...                                                  ...   \n",
       "46569                                                  C   \n",
       "46580                                                  C   \n",
       "46651                                        GGGAGAGGGGC   \n",
       "46653                                                  C   \n",
       "46679                                                  A   \n",
       "\n",
       "                    variant_type                                   gene_info  \\\n",
       "2                    Duplication                               SAMD11:148398   \n",
       "3                 Microsatellite                               SAMD11:148398   \n",
       "4                 Microsatellite                               SAMD11:148398   \n",
       "5                 Microsatellite                               SAMD11:148398   \n",
       "9                       Deletion                               SAMD11:148398   \n",
       "...                          ...                                         ...   \n",
       "46569             Microsatellite                                 CELSR1:9620   \n",
       "46580                   Deletion                                CRELD2:79174   \n",
       "46651                Duplication  TYMP:1890|SCO2:9997|LOC130067862:130067862   \n",
       "46653  single_nucleotide_variant  TYMP:1890|SCO2:9997|LOC130067862:130067862   \n",
       "46679  single_nucleotide_variant                                   TYMP:1890   \n",
       "\n",
       "                                     splice_variant_type  \\\n",
       "2                        SO:0001575|splice_donor_variant   \n",
       "3                        SO:0001575|splice_donor_variant   \n",
       "4                        SO:0001575|splice_donor_variant   \n",
       "5                        SO:0001575|splice_donor_variant   \n",
       "9                        SO:0001575|splice_donor_variant   \n",
       "...                                                  ...   \n",
       "46569  SO:0001574|splice_acceptor_variant,SO:0002073|...   \n",
       "46580  SO:0001574|splice_acceptor_variant,SO:0001627|...   \n",
       "46651  SO:0001574|splice_acceptor_variant,SO:0001627|...   \n",
       "46653  SO:0001574|splice_acceptor_variant,SO:0001627|...   \n",
       "46679  SO:0001574|splice_acceptor_variant,SO:0001623|...   \n",
       "\n",
       "      clinical_significance gene_name             gene_id seqname       start  \\\n",
       "2                    Benign    SAMD11  ENSG00000187634.11    chr1    923928.0   \n",
       "3             Likely_benign    SAMD11  ENSG00000187634.11    chr1    923928.0   \n",
       "4             Likely_benign    SAMD11  ENSG00000187634.11    chr1    923928.0   \n",
       "5             Likely_benign    SAMD11  ENSG00000187634.11    chr1    923928.0   \n",
       "9                    Benign    SAMD11  ENSG00000187634.11    chr1    923928.0   \n",
       "...                     ...       ...                 ...     ...         ...   \n",
       "46569                Benign    CELSR1  ENSG00000075275.16   chr22  46360834.0   \n",
       "46580                Benign    CRELD2  ENSG00000184164.14   chr22  49918167.0   \n",
       "46651         Likely_benign      TYMP  ENSG00000025708.13   chr22  50525752.0   \n",
       "46653         Likely_benign      TYMP  ENSG00000025708.13   chr22  50525752.0   \n",
       "46679         Likely_benign      TYMP  ENSG00000025708.13   chr22  50525752.0   \n",
       "\n",
       "              end strand  \n",
       "2        944581.0      +  \n",
       "3        944581.0      +  \n",
       "4        944581.0      +  \n",
       "5        944581.0      +  \n",
       "9        944581.0      +  \n",
       "...           ...    ...  \n",
       "46569  46537170.0      -  \n",
       "46580  49927540.0      +  \n",
       "46651  50530056.0      -  \n",
       "46653  50530056.0      -  \n",
       "46679  50530056.0      -  \n",
       "\n",
       "[1001 rows x 14 columns]"
      ]
     },
     "execution_count": 13,
     "metadata": {},
     "output_type": "execute_result"
    }
   ],
   "source": [
    "clinvar[clinvar['clinical_significance'].isin(benign_class)]"
   ]
  },
  {
   "cell_type": "code",
   "execution_count": 14,
   "metadata": {},
   "outputs": [],
   "source": [
    "benign = clinvar['clinical_significance'].isin(benign_class)\n",
    "pathogenic = clinvar['clinical_significance'].isin(pathogenic_class)\n",
    "in_evaluation_set = clinvar['clinical_significance'].isin(benign_class+pathogenic_class)"
   ]
  },
  {
   "cell_type": "code",
   "execution_count": 15,
   "metadata": {},
   "outputs": [
    {
     "name": "stdout",
     "output_type": "stream",
     "text": [
      "Transformer clinvar accuracy: 0.9308488702710915\n"
     ]
    }
   ],
   "source": [
    "acc = np.sum(pd.DataFrame(results_1).T[[4,5,6,7]].max(axis=1)>0.5)/len(results_1)\n",
    "print(f'Transformer clinvar accuracy: {acc}')"
   ]
  },
  {
   "cell_type": "code",
   "execution_count": 16,
   "metadata": {},
   "outputs": [
    {
     "name": "stdout",
     "output_type": "stream",
     "text": [
      "SpliceAI clinvar accuracy: 0.9196926616456493\n"
     ]
    }
   ],
   "source": [
    "acc = np.sum(pd.DataFrame(results_2).T[[4,5,6,7]].max(axis=1)>0.5)/len(results_2)\n",
    "print(f'SpliceAI clinvar accuracy: {acc}')"
   ]
  },
  {
   "cell_type": "code",
   "execution_count": 17,
   "metadata": {},
   "outputs": [
    {
     "name": "stdout",
     "output_type": "stream",
     "text": [
      "Transformer clinvar (benign) accuracy: 0.5514485514485514\n"
     ]
    }
   ],
   "source": [
    "acc = np.sum(pd.DataFrame(results_1).T[[4,5,6,7]][benign.values].max(axis=1)<0.5)/np.sum(benign)\n",
    "print(f\"Transformer clinvar (benign) accuracy: {acc}\")"
   ]
  },
  {
   "cell_type": "code",
   "execution_count": 18,
   "metadata": {},
   "outputs": [
    {
     "name": "stdout",
     "output_type": "stream",
     "text": [
      "SpliceAI clinvar (Benign) accuracy: 0.5724275724275725\n"
     ]
    }
   ],
   "source": [
    "acc = np.sum(pd.DataFrame(results_2).T[[4,5,6,7]][benign.values].max(axis=1)<0.5)/np.sum(benign)\n",
    "print(f\"SpliceAI clinvar (Benign) accuracy: {acc}\")"
   ]
  },
  {
   "cell_type": "code",
   "execution_count": 19,
   "metadata": {},
   "outputs": [
    {
     "name": "stdout",
     "output_type": "stream",
     "text": [
      "Transformer clinvar (Pathogenic) accuracy: 0.9683904804872547\n"
     ]
    }
   ],
   "source": [
    "acc = np.sum(pd.DataFrame(results_1).T[[4,5,6,7]][pathogenic.values].max(axis=1)>0.5)/np.sum(pathogenic)\n",
    "print(f\"Transformer clinvar (Pathogenic) accuracy: {acc}\")"
   ]
  },
  {
   "cell_type": "code",
   "execution_count": 20,
   "metadata": {},
   "outputs": [
    {
     "name": "stdout",
     "output_type": "stream",
     "text": [
      "SpliceAI clinvar (Pathogenic) accuracy: 0.9575907963004737\n"
     ]
    }
   ],
   "source": [
    "acc = np.sum(pd.DataFrame(results_2).T[[4,5,6,7]][pathogenic.values].max(axis=1)>0.5)/np.sum(pathogenic)\n",
    "print(f\"SpliceAI clinvar (Pathogenic) accuracy: {acc}\")"
   ]
  },
  {
   "cell_type": "code",
   "execution_count": 21,
   "metadata": {},
   "outputs": [],
   "source": [
    "evaluation_set = clinvar[in_evaluation_set]\n",
    "evaluation_set_target =  evaluation_set['clinical_significance'].isin(['Pathogenic','Likely_pathogenic','Pathogenic/Likely_pathogenic']).values\n",
    "evaluation_set_results_1 = pd.DataFrame(results_1).T[[4,5,6,7]][in_evaluation_set.values].max(axis=1).values\n",
    "evaluation_set_results_2 = pd.DataFrame(results_2).fillna(0).T[[4,5,6,7]][in_evaluation_set.values].max(axis=1).values"
   ]
  },
  {
   "cell_type": "code",
   "execution_count": 22,
   "metadata": {},
   "outputs": [
    {
     "data": {
      "image/png": "[encoded data removed]",
      "text/plain": [
       "<Figure size 432x288 with 1 Axes>"
      ]
     },
     "metadata": {
      "needs_background": "light"
     },
     "output_type": "display_data"
    }
   ],
   "source": [
    "precision1, recall1,t1 = precision_recall_curve(evaluation_set_target, evaluation_set_results_1)\n",
    "auc_1 = average_precision_score(evaluation_set_target, evaluation_set_results_1)\n",
    "precision2, recall2,t2 = precision_recall_curve(evaluation_set_target, evaluation_set_results_2)\n",
    "auc_2 = average_precision_score(evaluation_set_target, evaluation_set_results_2)\n",
    "\n",
    "#aucs_1.append(auc_1)\n",
    "plt.plot(recall1, precision1, label=f\"Transformer-40k (PR-AUC = {auc_1 :.3f})\")\n",
    "plt.plot(recall2, precision2, label=f\"SpliceAI-10k (PR-AUC = {auc_2 :.3f})\")\n",
    "plt.ylabel(\"Precision\")\n",
    "plt.xlabel(\"Recall\")\n",
    "\n",
    "plt.legend()\n",
    "plt.savefig('../Results/transformer_delta_clinvar_splice_variant_pr-auc.png',dpi=300,bbox_inches='tight')\n",
    "plt.show()"
   ]
  },
  {
   "cell_type": "code",
   "execution_count": 23,
   "metadata": {},
   "outputs": [],
   "source": [
    "with open('/odinn/tmp/benediktj/Data/SplicePrediction-050422/no_sqtl_deltas_transformer_gtex_plus_rna_blood_130623.pkl', 'rb') as f:\n",
    "    transformer_no_sqtl = pickle.load(f)\n",
    "\n",
    "with open('/odinn/tmp/benediktj/Data/SplicePrediction-050422/sqtl_deltas_splice_ai_pretrained__no_sqtl_140223.pkl', 'rb') as f:\n",
    "    splice_ai_no_sqtl = pickle.load(f)\n",
    "    \n",
    "#pd.DataFrame(results_1).T\n"
   ]
  },
  {
   "cell_type": "code",
   "execution_count": 24,
   "metadata": {},
   "outputs": [],
   "source": [
    "#df_transformer_no_sqtl = pd.DataFrame(transformer_no_sqtl).T.iloc[:,-8:]"
   ]
  },
  {
   "cell_type": "code",
   "execution_count": 25,
   "metadata": {},
   "outputs": [],
   "source": [
    "is_pathogenic = clinvar['clinical_significance'].isin(pathogenic_class).values\n",
    "is_benign = clinvar['clinical_significance'].isin(benign_class).values\n",
    "\n",
    "def get_deltas_and_labels(no_sqtl_results,clinvar_results,is_pathogenic):\n",
    "    no_sqtl_delta = pd.DataFrame(no_sqtl_results).T.iloc[:,-4:].fillna(0).dropna().max(axis=1).values\n",
    "    pathogenic_delta = pd.DataFrame(clinvar_results).T.iloc[:,-4:].fillna(0)[is_pathogenic].dropna().max(axis=1).values\n",
    "    labels = np.concatenate([np.zeros_like(no_sqtl_delta),np.ones_like(pathogenic_delta)])\n",
    "    deltas = np.concatenate([no_sqtl_delta,pathogenic_delta])\n",
    "    return deltas, labels\n",
    "\n",
    "def get_deltas(no_sqtl_results,clinvar_results,is_pathogenic,is_benign):\n",
    "    no_sqtl_delta = pd.DataFrame(no_sqtl_results).T.iloc[:,-4:].fillna(0).dropna().max(axis=1).values\n",
    "    pathogenic_delta = pd.DataFrame(clinvar_results).T.iloc[:,-4:].fillna(0)[is_pathogenic].dropna().max(axis=1).values\n",
    "    benign_delta = pd.DataFrame(clinvar_results).T.iloc[:,-4:].fillna(0)[is_benign].dropna().max(axis=1).values\n",
    "    return no_sqtl_delta, pathogenic_delta, benign_delta"
   ]
  },
  {
   "cell_type": "code",
   "execution_count": 26,
   "metadata": {},
   "outputs": [],
   "source": [
    "transformer_deltas, labels = get_deltas_and_labels(transformer_no_sqtl,results_1,is_pathogenic)\n",
    "splice_ai_deltas, labels = get_deltas_and_labels(splice_ai_no_sqtl,results_2,is_pathogenic)"
   ]
  },
  {
   "cell_type": "code",
   "execution_count": 27,
   "metadata": {},
   "outputs": [
    {
     "data": {
      "image/png": "[encoded data removed]",
      "text/plain": [
       "<Figure size 432x288 with 1 Axes>"
      ]
     },
     "metadata": {
      "needs_background": "light"
     },
     "output_type": "display_data"
    }
   ],
   "source": [
    "precision1, recall1,t1 = precision_recall_curve(labels, transformer_deltas)\n",
    "auc_1 = average_precision_score(labels, transformer_deltas)\n",
    "precision2, recall2,t2 = precision_recall_curve(labels, splice_ai_deltas)\n",
    "auc_2 = average_precision_score(labels, splice_ai_deltas)\n",
    "\n",
    "#aucs_1.append(auc_1)\n",
    "plt.plot(recall1, precision1, label=f\"Transformer-40k (PR-AUC = {auc_1 :.3f})\")\n",
    "plt.plot(recall2, precision2, label=f\"SpliceAI-10k (PR-AUC = {auc_2 :.3f})\")\n",
    "plt.ylabel(\"Precision\")\n",
    "plt.xlabel(\"Recall\")\n",
    "\n",
    "plt.legend()\n",
    "plt.savefig('../Results/transformer_delta_clinvar_pathogenic_vs_no_sqtl_pr-auc.png',dpi=300,bbox_inches='tight')\n",
    "plt.show()"
   ]
  },
  {
   "cell_type": "code",
   "execution_count": 52,
   "metadata": {},
   "outputs": [],
   "source": [
    "import matplotlib.pyplot as plt\n",
    "import numpy as np\n",
    "\n",
    "def plot_scatterplot_scores(no_sqtl_delta, benign_delta, pathogenic_delta,name):\n",
    "    data = [no_sqtl_delta, benign_delta, pathogenic_delta]\n",
    "\n",
    "    # Create a figure and axis\n",
    "    #fig, ax = plt.subplots(figsize=(10, 6))\n",
    "    fig, ax = plt.subplots()\n",
    "\n",
    "    # Generate the box plot to show the statistical summary\n",
    "    #box = ax.boxplot(data, patch_artist=True, showfliers=False)\n",
    "\n",
    "    # Add scatter points\n",
    "    for i, scores in enumerate(data, start=1):\n",
    "        y = scores\n",
    "        x = np.random.normal(i, 0.04, size=len(y))  # Add jitter for better visibility\n",
    "        ax.scatter(x, y, alpha=0.05, s=0.15)\n",
    "\n",
    "    # Set the x-axis labels\n",
    "    ax.set_xticks([1, 2, 3])\n",
    "    ax.set_xticklabels(['Non-Splicing', 'Benign Splicing', 'Pathogenic Splicing'])\n",
    "\n",
    "    # Set labels and title\n",
    "    ax.set_ylabel('Delta Scores', fontsize=14)\n",
    "    ax.set_xlabel('Variant Type', fontsize=14)\n",
    "    # Increase the font size of the tick labels\n",
    "    plt.xticks(fontsize=12)\n",
    "    plt.yticks(fontsize=12)\n",
    "    #ax.set_title('Scatter Plot of Scores')\n",
    "    plt.savefig(f'../Results/{name}.png',dpi=300,bbox_inches='tight')\n",
    "    # Show the plot\n",
    "    plt.show()"
   ]
  },
  {
   "cell_type": "code",
   "execution_count": 53,
   "metadata": {},
   "outputs": [],
   "source": [
    "no_sqtl_delta, pathogenic_delta, benign_delta = get_deltas(transformer_no_sqtl,results_1,is_pathogenic,is_benign)\n"
   ]
  },
  {
   "cell_type": "code",
   "execution_count": 54,
   "metadata": {},
   "outputs": [
    {
     "data": {
      "image/png": "[encoded data removed]",
      "text/plain": [
       "<Figure size 432x288 with 1 Axes>"
      ]
     },
     "metadata": {
      "needs_background": "light"
     },
     "output_type": "display_data"
    }
   ],
   "source": [
    "plot_scatterplot_scores(no_sqtl_delta, benign_delta, pathogenic_delta,'transformer_delta_scatter_plot')"
   ]
  },
  {
   "cell_type": "code",
   "execution_count": 55,
   "metadata": {},
   "outputs": [
    {
     "data": {
      "image/png": "[encoded data removed]",
      "text/plain": [
       "<Figure size 432x288 with 1 Axes>"
      ]
     },
     "metadata": {
      "needs_background": "light"
     },
     "output_type": "display_data"
    }
   ],
   "source": [
    "no_sqtl_delta, pathogenic_delta, benign_delta = get_deltas(splice_ai_no_sqtl,results_2,is_pathogenic,is_benign)\n",
    "plot_scatterplot_scores(no_sqtl_delta, benign_delta, pathogenic_delta,'splice_ai_delta_scatter_plot')"
   ]
  },
  {
   "cell_type": "code",
   "execution_count": 56,
   "metadata": {},
   "outputs": [
    {
     "data": {
      "text/plain": [
       "35464"
      ]
     },
     "execution_count": 56,
     "metadata": {},
     "output_type": "execute_result"
    }
   ],
   "source": [
    "np.sum(is_pathogenic)"
   ]
  },
  {
   "cell_type": "code",
   "execution_count": 57,
   "metadata": {},
   "outputs": [
    {
     "data": {
      "text/plain": [
       "1001"
      ]
     },
     "execution_count": 57,
     "metadata": {},
     "output_type": "execute_result"
    }
   ],
   "source": [
    "np.sum(is_benign)"
   ]
  },
  {
   "cell_type": "code",
   "execution_count": 58,
   "metadata": {},
   "outputs": [
    {
     "data": {
      "text/plain": [
       "40528"
      ]
     },
     "execution_count": 58,
     "metadata": {},
     "output_type": "execute_result"
    }
   ],
   "source": [
    "len(transformer_no_sqtl)"
   ]
  },
  {
   "cell_type": "code",
   "execution_count": 59,
   "metadata": {},
   "outputs": [
    {
     "name": "stdout",
     "output_type": "stream",
     "text": [
      "0.013821300410672432\n",
      "0.9185496389564378\n",
      "0.45350863627059484\n"
     ]
    }
   ],
   "source": [
    "print(np.mean(no_sqtl_delta))\n",
    "print(np.mean(pathogenic_delta))\n",
    "print(np.mean(benign_delta))"
   ]
  }
 ],
 "metadata": {
  "kernelspec": {
   "display_name": "Python 3 (ipykernel)",
   "language": "python",
   "name": "python3"
  },
  "language_info": {
   "codemirror_mode": {
    "name": "ipython",
    "version": 3
   },
   "file_extension": ".py",
   "mimetype": "text/x-python",
   "name": "python",
   "nbconvert_exporter": "python",
   "pygments_lexer": "ipython3",
   "version": "3.8.12"
  }
 },
 "nbformat": 4,
 "nbformat_minor": 4
}
