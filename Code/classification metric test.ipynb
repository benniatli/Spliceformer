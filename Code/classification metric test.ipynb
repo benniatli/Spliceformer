{
 "cells": [
  {
   "cell_type": "code",
   "execution_count": 1,
   "id": "0968aca0",
   "metadata": {},
   "outputs": [],
   "source": [
    "import pandas as pd\n",
    "import matplotlib.pyplot as plt\n",
    "from sklearn.metrics import PrecisionRecallDisplay, precision_recall_curve, average_precision_score\n",
    "import numpy as np\n",
    "from scipy.stats import wasserstein_distance\n",
    "from tqdm import tqdm\n",
    "import pickle"
   ]
  },
  {
   "cell_type": "code",
   "execution_count": 2,
   "id": "fee3141f",
   "metadata": {},
   "outputs": [
    {
     "name": "stdout",
     "output_type": "stream",
     "text": [
      "              total        used        free      shared  buff/cache   available\n",
      "Mem:          503Gi       7.1Gi       429Gi       1.9Gi        66Gi       490Gi\n",
      "Swap:         4.0Gi        18Mi       4.0Gi\n"
     ]
    }
   ],
   "source": [
    "!free -h"
   ]
  },
  {
   "cell_type": "code",
   "execution_count": 3,
   "id": "66ade648",
   "metadata": {},
   "outputs": [],
   "source": [
    "def get_top_k(y_true, y_pred):\n",
    "    idx_true = np.nonzero(y_true == 1)[0]\n",
    "    argsorted_y_pred = np.argsort(y_pred)\n",
    "    sorted_y_pred = np.sort(y_pred)\n",
    "\n",
    "    topkl_accuracy = []\n",
    "    threshold = []\n",
    "    top_length = 1\n",
    "    idx_pred = argsorted_y_pred[-int(top_length*len(idx_true)):]\n",
    "    correct = np.size(np.intersect1d(idx_true, idx_pred))\n",
    "    total = float(min(len(idx_pred), len(idx_true)))\n",
    "    if top_length == 1:\n",
    "        correct_1 = correct\n",
    "        total_1 = total\n",
    "    topkl_accuracy += [ correct/ total]\n",
    "    threshold += [sorted_y_pred[-int(top_length*len(idx_true))]]\n",
    "    return topkl_accuracy,threshold"
   ]
  },
  {
   "cell_type": "code",
   "execution_count": 4,
   "id": "8eb9761f",
   "metadata": {},
   "outputs": [],
   "source": [
    "df1 = pd.read_csv('/odinn/tmp/benediktj/Data/SplicePrediction-050422/spliceai_10k_test_set_predictions_191022.gz')\n",
    "df2 = pd.read_csv('/odinn/tmp/benediktj/Data/SplicePrediction-050422/transformer_40k_test_set_predictions_191022.gz')"
   ]
  },
  {
   "cell_type": "code",
   "execution_count": 5,
   "id": "758df007",
   "metadata": {},
   "outputs": [
    {
     "data": {
      "text/plain": [
       "([0.9369092206170858], [0.45983067])"
      ]
     },
     "execution_count": 5,
     "metadata": {},
     "output_type": "execute_result"
    }
   ],
   "source": [
    "get_top_k(df1.Y_true_acceptor.values, df1.Y_pred_acceptor.values)"
   ]
  },
  {
   "cell_type": "code",
   "execution_count": 6,
   "id": "3b7c9756",
   "metadata": {},
   "outputs": [
    {
     "data": {
      "text/plain": [
       "([0.9418695380774033], [0.50665945])"
      ]
     },
     "execution_count": 6,
     "metadata": {},
     "output_type": "execute_result"
    }
   ],
   "source": [
    "get_top_k(df1.Y_true_donor.values, df1.Y_pred_donor.values)"
   ]
  },
  {
   "cell_type": "code",
   "execution_count": 7,
   "id": "c6ea70cd",
   "metadata": {},
   "outputs": [
    {
     "data": {
      "text/plain": [
       "([0.9410335295166756], [0.44630966])"
      ]
     },
     "execution_count": 7,
     "metadata": {},
     "output_type": "execute_result"
    }
   ],
   "source": [
    "get_top_k(df2.Y_true_acceptor.values, df2.Y_pred_acceptor.values)"
   ]
  },
  {
   "cell_type": "code",
   "execution_count": 8,
   "id": "2a8c63fe",
   "metadata": {},
   "outputs": [
    {
     "data": {
      "text/plain": [
       "([0.9460384341002318], [0.4851531])"
      ]
     },
     "execution_count": 8,
     "metadata": {},
     "output_type": "execute_result"
    }
   ],
   "source": [
    "get_top_k(df2.Y_true_donor.values, df2.Y_pred_donor.values)"
   ]
  },
  {
   "cell_type": "code",
   "execution_count": 9,
   "id": "0aa78ec4",
   "metadata": {},
   "outputs": [],
   "source": [
    "a1 = (df1['Y_pred_acceptor']>=0.45983067).astype(int).values\n",
    "d1 = (df1['Y_pred_donor']>=0.50665945).astype(int).values\n",
    "a2 = (df2['Y_pred_acceptor']>=0.44630966).astype(int).values\n",
    "d2 = (df2['Y_pred_donor']>=0.4851531).astype(int).values"
   ]
  },
  {
   "cell_type": "code",
   "execution_count": 10,
   "id": "858df55c",
   "metadata": {},
   "outputs": [],
   "source": [
    "true_splice = (df1.Y_true_acceptor+df1.Y_true_donor).values>0"
   ]
  },
  {
   "cell_type": "code",
   "execution_count": 11,
   "id": "4182bc77",
   "metadata": {},
   "outputs": [
    {
     "name": "stdout",
     "output_type": "stream",
     "text": [
      "175825\n",
      "664757322\n",
      "3599\n",
      "3254\n"
     ]
    }
   ],
   "source": [
    "print(np.sum((a1+d1)[true_splice]==(a2+d2)[true_splice]))\n",
    "print(np.sum((a1+d1)[~true_splice]==(a2+d2)[~true_splice]))\n",
    "print(np.sum((a1+d1)[true_splice]!=(a2+d2)[true_splice]))\n",
    "print(np.sum((a1+d1)[~true_splice]!=(a2+d2)[~true_splice]))"
   ]
  },
  {
   "cell_type": "code",
   "execution_count": 12,
   "id": "55ddb426",
   "metadata": {},
   "outputs": [],
   "source": [
    "agree = (a1+d1)==(a2+d2)\n",
    "disagree = (a1+d1)!=(a2+d2)"
   ]
  },
  {
   "cell_type": "code",
   "execution_count": 13,
   "id": "95328ae0",
   "metadata": {},
   "outputs": [
    {
     "name": "stdout",
     "output_type": "stream",
     "text": [
      "0.9999735612518652\n",
      "0.9999735612518652\n",
      "0.39121552604698673\n",
      "0.6087844739530133\n"
     ]
    }
   ],
   "source": [
    "print(np.mean((a1+d1)[agree]==true_splice.astype(int)[agree]))\n",
    "print(np.mean((a2+d2)[agree]==true_splice.astype(int)[agree]))\n",
    "print(np.mean((a1+d1)[disagree]==true_splice.astype(int)[disagree]))\n",
    "print(np.mean((a2+d2)[disagree]==true_splice.astype(int)[disagree]))"
   ]
  },
  {
   "cell_type": "code",
   "execution_count": 14,
   "id": "d3ac8df9",
   "metadata": {},
   "outputs": [
    {
     "name": "stdout",
     "output_type": "stream",
     "text": [
      "664915567\n",
      "664915567\n",
      "2681\n",
      "4172\n"
     ]
    }
   ],
   "source": [
    "print(np.sum((a1+d1)[agree]==true_splice.astype(int)[agree]))\n",
    "print(np.sum((a2+d2)[agree]==true_splice.astype(int)[agree]))\n",
    "print(np.sum((a1+d1)[disagree]==true_splice.astype(int)[disagree]))\n",
    "print(np.sum((a2+d2)[disagree]==true_splice.astype(int)[disagree]))"
   ]
  },
  {
   "cell_type": "code",
   "execution_count": 15,
   "id": "a4a76a47",
   "metadata": {},
   "outputs": [],
   "source": [
    "wrong1 = (a1+d1)[disagree]!=true_splice.astype(int)[disagree]\n",
    "wrong2 = (a2+d2)[disagree]!=true_splice.astype(int)[disagree]"
   ]
  },
  {
   "cell_type": "code",
   "execution_count": 16,
   "id": "9fadb533",
   "metadata": {},
   "outputs": [
    {
     "name": "stdout",
     "output_type": "stream",
     "text": [
      "1.0\n",
      "1.0\n"
     ]
    }
   ],
   "source": [
    "print(np.mean((a1+d1)[disagree][wrong2]==true_splice.astype(int)[disagree][wrong2]))\n",
    "print(np.mean((a2+d2)[disagree][wrong1]==true_splice.astype(int)[disagree][wrong1]))"
   ]
  },
  {
   "cell_type": "code",
   "execution_count": 17,
   "id": "0a3eceb3",
   "metadata": {},
   "outputs": [
    {
     "name": "stdout",
     "output_type": "stream",
     "text": [
      "2681\n",
      "4172\n"
     ]
    }
   ],
   "source": [
    "print(np.sum((a1+d1)[disagree][wrong2]==true_splice.astype(int)[disagree][wrong2]))\n",
    "print(np.sum((a2+d2)[disagree][wrong1]==true_splice.astype(int)[disagree][wrong1]))"
   ]
  },
  {
   "cell_type": "code",
   "execution_count": 18,
   "id": "b5a2e218",
   "metadata": {},
   "outputs": [],
   "source": [
    "wrong1 = (a1+d1)!=true_splice.astype(int)\n",
    "wrong2 = (a2+d2)!=true_splice.astype(int)"
   ]
  },
  {
   "cell_type": "code",
   "execution_count": 19,
   "id": "dffdeb88",
   "metadata": {},
   "outputs": [
    {
     "name": "stdout",
     "output_type": "stream",
     "text": [
      "0.13232318246878239\n",
      "0.19179845531445383\n"
     ]
    }
   ],
   "source": [
    "print(np.mean((a1+d1)[wrong2]==true_splice.astype(int)[wrong2]))\n",
    "print(np.mean((a2+d2)[wrong1]==true_splice.astype(int)[wrong1]))"
   ]
  },
  {
   "cell_type": "code",
   "execution_count": 20,
   "id": "a17e6bdb",
   "metadata": {},
   "outputs": [
    {
     "name": "stdout",
     "output_type": "stream",
     "text": [
      "2681\n",
      "4172\n"
     ]
    }
   ],
   "source": [
    "print(np.sum((a1+d1)[wrong2]==true_splice.astype(int)[wrong2]))\n",
    "print(np.sum((a2+d2)[wrong1]==true_splice.astype(int)[wrong1]))"
   ]
  },
  {
   "cell_type": "code",
   "execution_count": 21,
   "id": "104cdd55",
   "metadata": {},
   "outputs": [],
   "source": [
    "p1 = np.vstack([1-(df1.Y_pred_acceptor.values+df1.Y_pred_donor.values),df1.Y_pred_acceptor.values,df1.Y_pred_donor.values])"
   ]
  },
  {
   "cell_type": "code",
   "execution_count": 22,
   "id": "5e162f6f",
   "metadata": {},
   "outputs": [],
   "source": [
    "p2 = np.vstack([1-(df2.Y_pred_acceptor.values+df2.Y_pred_donor.values),df2.Y_pred_acceptor.values,df2.Y_pred_donor.values])"
   ]
  },
  {
   "cell_type": "code",
   "execution_count": 22,
   "id": "9192a5fe",
   "metadata": {},
   "outputs": [],
   "source": [
    "def tvd(x,y):\n",
    "    return np.sum(np.absolute(x-y))/2"
   ]
  },
  {
   "cell_type": "code",
   "execution_count": 7,
   "id": "189e2d2d",
   "metadata": {},
   "outputs": [
    {
     "name": "stderr",
     "output_type": "stream",
     "text": [
      "100%|███████████████████████████████████████████████████████████████████████████████████████| 664940000/664940000 [18:00:26<00:00, 10257.23it/s]\n"
     ]
    }
   ],
   "source": [
    "import multiprocessing\n",
    "from joblib import Parallel, delayed\n",
    "\n",
    "def get_tvd(i):\n",
    "    return tvd(p1[:,i],p2[:,i])\n",
    "\n",
    "num_cores = multiprocessing.cpu_count()\n",
    "inputs = tqdm(range(df1.shape[0]))\n",
    "\n",
    "tv_dist = Parallel(n_jobs=num_cores)(delayed(get_tvd)(i) for i in inputs)"
   ]
  },
  {
   "cell_type": "code",
   "execution_count": 8,
   "id": "9705f48a",
   "metadata": {},
   "outputs": [],
   "source": [
    "#w_dist = [wasserstein_distance(p1[:,i],p2[:,i]) for i in tqdm(range(df1.shape[0]))]\n",
    "#with open('/odinn/tmp/benediktj/Data/SplicePrediction-050422/tvd-191022.pkl', 'wb') as f:\n",
    "#    pickle.dump(tv_dist, f)"
   ]
  },
  {
   "cell_type": "code",
   "execution_count": 5,
   "id": "47042cb7",
   "metadata": {},
   "outputs": [],
   "source": [
    "with open('/odinn/tmp/benediktj/Data/SplicePrediction-050422/tvd-191022.pkl', 'rb') as f:\n",
    "    tv_dist = pickle.load(f)"
   ]
  },
  {
   "cell_type": "code",
   "execution_count": 6,
   "id": "88794bdb",
   "metadata": {},
   "outputs": [],
   "source": [
    "df1['tvd'] = tv_dist\n",
    "df2['tvd'] = tv_dist"
   ]
  },
  {
   "cell_type": "code",
   "execution_count": 7,
   "id": "df6dbcf0",
   "metadata": {},
   "outputs": [
    {
     "data": {
      "image/png": "[encoded data removed]",
      "text/plain": [
       "<Figure size 432x288 with 1 Axes>"
      ]
     },
     "metadata": {
      "needs_background": "light"
     },
     "output_type": "display_data"
    }
   ],
   "source": [
    "df1['tvd'].plot(kind=\"hist\", logy=True)\n",
    "plt.show()"
   ]
  },
  {
   "cell_type": "code",
   "execution_count": 8,
   "id": "7108e40c",
   "metadata": {},
   "outputs": [],
   "source": [
    "df1_da = df1[df1['tvd']>=0.1]\n",
    "df2_da = df2[df2['tvd']>=0.1]"
   ]
  },
  {
   "cell_type": "code",
   "execution_count": 9,
   "id": "53cf5a31",
   "metadata": {},
   "outputs": [
    {
     "data": {
      "text/plain": [
       "(664940000, 5)"
      ]
     },
     "execution_count": 9,
     "metadata": {},
     "output_type": "execute_result"
    }
   ],
   "source": [
    "df1.shape"
   ]
  },
  {
   "cell_type": "code",
   "execution_count": 10,
   "id": "4820cf00",
   "metadata": {},
   "outputs": [
    {
     "data": {
      "text/html": [
       "<div>\n",
       "<style scoped>\n",
       "    .dataframe tbody tr th:only-of-type {\n",
       "        vertical-align: middle;\n",
       "    }\n",
       "\n",
       "    .dataframe tbody tr th {\n",
       "        vertical-align: top;\n",
       "    }\n",
       "\n",
       "    .dataframe thead th {\n",
       "        text-align: right;\n",
       "    }\n",
       "</style>\n",
       "<table border=\"1\" class=\"dataframe\">\n",
       "  <thead>\n",
       "    <tr style=\"text-align: right;\">\n",
       "      <th></th>\n",
       "      <th>Y_true_acceptor</th>\n",
       "      <th>Y_pred_acceptor</th>\n",
       "      <th>Y_true_donor</th>\n",
       "      <th>Y_pred_donor</th>\n",
       "      <th>tvd</th>\n",
       "    </tr>\n",
       "  </thead>\n",
       "  <tbody>\n",
       "    <tr>\n",
       "      <th>618</th>\n",
       "      <td>0.0</td>\n",
       "      <td>0.000013</td>\n",
       "      <td>0.0</td>\n",
       "      <td>0.158448</td>\n",
       "      <td>0.154366</td>\n",
       "    </tr>\n",
       "    <tr>\n",
       "      <th>847</th>\n",
       "      <td>0.0</td>\n",
       "      <td>0.000006</td>\n",
       "      <td>1.0</td>\n",
       "      <td>0.030055</td>\n",
       "      <td>0.130592</td>\n",
       "    </tr>\n",
       "    <tr>\n",
       "      <th>1529</th>\n",
       "      <td>1.0</td>\n",
       "      <td>0.142483</td>\n",
       "      <td>0.0</td>\n",
       "      <td>0.000069</td>\n",
       "      <td>0.220496</td>\n",
       "    </tr>\n",
       "    <tr>\n",
       "      <th>7787</th>\n",
       "      <td>0.0</td>\n",
       "      <td>0.486372</td>\n",
       "      <td>0.0</td>\n",
       "      <td>0.000659</td>\n",
       "      <td>0.204072</td>\n",
       "    </tr>\n",
       "    <tr>\n",
       "      <th>10286</th>\n",
       "      <td>0.0</td>\n",
       "      <td>0.000024</td>\n",
       "      <td>1.0</td>\n",
       "      <td>0.962563</td>\n",
       "      <td>0.108739</td>\n",
       "    </tr>\n",
       "    <tr>\n",
       "      <th>...</th>\n",
       "      <td>...</td>\n",
       "      <td>...</td>\n",
       "      <td>...</td>\n",
       "      <td>...</td>\n",
       "      <td>...</td>\n",
       "    </tr>\n",
       "    <tr>\n",
       "      <th>664918411</th>\n",
       "      <td>0.0</td>\n",
       "      <td>0.000005</td>\n",
       "      <td>0.0</td>\n",
       "      <td>0.001985</td>\n",
       "      <td>0.120389</td>\n",
       "    </tr>\n",
       "    <tr>\n",
       "      <th>664929716</th>\n",
       "      <td>0.0</td>\n",
       "      <td>0.000138</td>\n",
       "      <td>1.0</td>\n",
       "      <td>0.685981</td>\n",
       "      <td>0.194253</td>\n",
       "    </tr>\n",
       "    <tr>\n",
       "      <th>664936354</th>\n",
       "      <td>0.0</td>\n",
       "      <td>0.211327</td>\n",
       "      <td>0.0</td>\n",
       "      <td>0.000171</td>\n",
       "      <td>0.199835</td>\n",
       "    </tr>\n",
       "    <tr>\n",
       "      <th>664937376</th>\n",
       "      <td>1.0</td>\n",
       "      <td>0.670814</td>\n",
       "      <td>0.0</td>\n",
       "      <td>0.000246</td>\n",
       "      <td>0.170243</td>\n",
       "    </tr>\n",
       "    <tr>\n",
       "      <th>664938867</th>\n",
       "      <td>1.0</td>\n",
       "      <td>0.144983</td>\n",
       "      <td>0.0</td>\n",
       "      <td>0.000194</td>\n",
       "      <td>0.111893</td>\n",
       "    </tr>\n",
       "  </tbody>\n",
       "</table>\n",
       "<p>32673 rows × 5 columns</p>\n",
       "</div>"
      ],
      "text/plain": [
       "           Y_true_acceptor  Y_pred_acceptor  Y_true_donor  Y_pred_donor  \\\n",
       "618                    0.0         0.000013           0.0      0.158448   \n",
       "847                    0.0         0.000006           1.0      0.030055   \n",
       "1529                   1.0         0.142483           0.0      0.000069   \n",
       "7787                   0.0         0.486372           0.0      0.000659   \n",
       "10286                  0.0         0.000024           1.0      0.962563   \n",
       "...                    ...              ...           ...           ...   \n",
       "664918411              0.0         0.000005           0.0      0.001985   \n",
       "664929716              0.0         0.000138           1.0      0.685981   \n",
       "664936354              0.0         0.211327           0.0      0.000171   \n",
       "664937376              1.0         0.670814           0.0      0.000246   \n",
       "664938867              1.0         0.144983           0.0      0.000194   \n",
       "\n",
       "                tvd  \n",
       "618        0.154366  \n",
       "847        0.130592  \n",
       "1529       0.220496  \n",
       "7787       0.204072  \n",
       "10286      0.108739  \n",
       "...             ...  \n",
       "664918411  0.120389  \n",
       "664929716  0.194253  \n",
       "664936354  0.199835  \n",
       "664937376  0.170243  \n",
       "664938867  0.111893  \n",
       "\n",
       "[32673 rows x 5 columns]"
      ]
     },
     "execution_count": 10,
     "metadata": {},
     "output_type": "execute_result"
    }
   ],
   "source": [
    "df1_da"
   ]
  },
  {
   "cell_type": "code",
   "execution_count": 11,
   "id": "1fee091b",
   "metadata": {},
   "outputs": [
    {
     "data": {
      "text/html": [
       "<div>\n",
       "<style scoped>\n",
       "    .dataframe tbody tr th:only-of-type {\n",
       "        vertical-align: middle;\n",
       "    }\n",
       "\n",
       "    .dataframe tbody tr th {\n",
       "        vertical-align: top;\n",
       "    }\n",
       "\n",
       "    .dataframe thead th {\n",
       "        text-align: right;\n",
       "    }\n",
       "</style>\n",
       "<table border=\"1\" class=\"dataframe\">\n",
       "  <thead>\n",
       "    <tr style=\"text-align: right;\">\n",
       "      <th></th>\n",
       "      <th>Y_true_acceptor</th>\n",
       "      <th>Y_pred_acceptor</th>\n",
       "      <th>Y_true_donor</th>\n",
       "      <th>Y_pred_donor</th>\n",
       "      <th>tvd</th>\n",
       "    </tr>\n",
       "  </thead>\n",
       "  <tbody>\n",
       "    <tr>\n",
       "      <th>618</th>\n",
       "      <td>0.0</td>\n",
       "      <td>0.000462</td>\n",
       "      <td>0.0</td>\n",
       "      <td>0.312366</td>\n",
       "      <td>0.154366</td>\n",
       "    </tr>\n",
       "    <tr>\n",
       "      <th>847</th>\n",
       "      <td>0.0</td>\n",
       "      <td>0.000227</td>\n",
       "      <td>1.0</td>\n",
       "      <td>0.160425</td>\n",
       "      <td>0.130592</td>\n",
       "    </tr>\n",
       "    <tr>\n",
       "      <th>1529</th>\n",
       "      <td>1.0</td>\n",
       "      <td>0.362243</td>\n",
       "      <td>0.0</td>\n",
       "      <td>0.000804</td>\n",
       "      <td>0.220496</td>\n",
       "    </tr>\n",
       "    <tr>\n",
       "      <th>7787</th>\n",
       "      <td>0.0</td>\n",
       "      <td>0.282691</td>\n",
       "      <td>0.0</td>\n",
       "      <td>0.000269</td>\n",
       "      <td>0.204072</td>\n",
       "    </tr>\n",
       "    <tr>\n",
       "      <th>10286</th>\n",
       "      <td>0.0</td>\n",
       "      <td>0.000071</td>\n",
       "      <td>1.0</td>\n",
       "      <td>0.853824</td>\n",
       "      <td>0.108739</td>\n",
       "    </tr>\n",
       "    <tr>\n",
       "      <th>...</th>\n",
       "      <td>...</td>\n",
       "      <td>...</td>\n",
       "      <td>...</td>\n",
       "      <td>...</td>\n",
       "      <td>...</td>\n",
       "    </tr>\n",
       "    <tr>\n",
       "      <th>664918411</th>\n",
       "      <td>0.0</td>\n",
       "      <td>0.000094</td>\n",
       "      <td>0.0</td>\n",
       "      <td>0.122285</td>\n",
       "      <td>0.120389</td>\n",
       "    </tr>\n",
       "    <tr>\n",
       "      <th>664929716</th>\n",
       "      <td>0.0</td>\n",
       "      <td>0.000224</td>\n",
       "      <td>1.0</td>\n",
       "      <td>0.880148</td>\n",
       "      <td>0.194253</td>\n",
       "    </tr>\n",
       "    <tr>\n",
       "      <th>664936354</th>\n",
       "      <td>0.0</td>\n",
       "      <td>0.011583</td>\n",
       "      <td>0.0</td>\n",
       "      <td>0.000079</td>\n",
       "      <td>0.199835</td>\n",
       "    </tr>\n",
       "    <tr>\n",
       "      <th>664937376</th>\n",
       "      <td>1.0</td>\n",
       "      <td>0.500571</td>\n",
       "      <td>0.0</td>\n",
       "      <td>0.000268</td>\n",
       "      <td>0.170243</td>\n",
       "    </tr>\n",
       "    <tr>\n",
       "      <th>664938867</th>\n",
       "      <td>1.0</td>\n",
       "      <td>0.033091</td>\n",
       "      <td>0.0</td>\n",
       "      <td>0.000267</td>\n",
       "      <td>0.111893</td>\n",
       "    </tr>\n",
       "  </tbody>\n",
       "</table>\n",
       "<p>32673 rows × 5 columns</p>\n",
       "</div>"
      ],
      "text/plain": [
       "           Y_true_acceptor  Y_pred_acceptor  Y_true_donor  Y_pred_donor  \\\n",
       "618                    0.0         0.000462           0.0      0.312366   \n",
       "847                    0.0         0.000227           1.0      0.160425   \n",
       "1529                   1.0         0.362243           0.0      0.000804   \n",
       "7787                   0.0         0.282691           0.0      0.000269   \n",
       "10286                  0.0         0.000071           1.0      0.853824   \n",
       "...                    ...              ...           ...           ...   \n",
       "664918411              0.0         0.000094           0.0      0.122285   \n",
       "664929716              0.0         0.000224           1.0      0.880148   \n",
       "664936354              0.0         0.011583           0.0      0.000079   \n",
       "664937376              1.0         0.500571           0.0      0.000268   \n",
       "664938867              1.0         0.033091           0.0      0.000267   \n",
       "\n",
       "                tvd  \n",
       "618        0.154366  \n",
       "847        0.130592  \n",
       "1529       0.220496  \n",
       "7787       0.204072  \n",
       "10286      0.108739  \n",
       "...             ...  \n",
       "664918411  0.120389  \n",
       "664929716  0.194253  \n",
       "664936354  0.199835  \n",
       "664937376  0.170243  \n",
       "664938867  0.111893  \n",
       "\n",
       "[32673 rows x 5 columns]"
      ]
     },
     "execution_count": 11,
     "metadata": {},
     "output_type": "execute_result"
    }
   ],
   "source": [
    "df2_da"
   ]
  },
  {
   "cell_type": "code",
   "execution_count": 12,
   "id": "a4ba3033",
   "metadata": {},
   "outputs": [
    {
     "data": {
      "text/plain": [
       "1529         0.142483\n",
       "26768        0.694114\n",
       "28520        0.978176\n",
       "39184        0.804585\n",
       "49189        0.804585\n",
       "               ...   \n",
       "664522806    0.443494\n",
       "664649379    0.731782\n",
       "664774809    0.413575\n",
       "664937376    0.670814\n",
       "664938867    0.144983\n",
       "Name: Y_pred_acceptor, Length: 8323, dtype: float64"
      ]
     },
     "execution_count": 12,
     "metadata": {},
     "output_type": "execute_result"
    }
   ],
   "source": [
    "df1_da[df1_da['Y_true_acceptor']==1]['Y_pred_acceptor']"
   ]
  },
  {
   "cell_type": "code",
   "execution_count": 13,
   "id": "9afb34b3",
   "metadata": {},
   "outputs": [
    {
     "data": {
      "text/html": [
       "<div>\n",
       "<style scoped>\n",
       "    .dataframe tbody tr th:only-of-type {\n",
       "        vertical-align: middle;\n",
       "    }\n",
       "\n",
       "    .dataframe tbody tr th {\n",
       "        vertical-align: top;\n",
       "    }\n",
       "\n",
       "    .dataframe thead th {\n",
       "        text-align: right;\n",
       "    }\n",
       "</style>\n",
       "<table border=\"1\" class=\"dataframe\">\n",
       "  <thead>\n",
       "    <tr style=\"text-align: right;\">\n",
       "      <th></th>\n",
       "      <th>Y_true_acceptor</th>\n",
       "      <th>Y_pred_acceptor</th>\n",
       "      <th>Y_true_donor</th>\n",
       "      <th>Y_pred_donor</th>\n",
       "      <th>tvd</th>\n",
       "    </tr>\n",
       "  </thead>\n",
       "  <tbody>\n",
       "    <tr>\n",
       "      <th>1529</th>\n",
       "      <td>1.0</td>\n",
       "      <td>0.362243</td>\n",
       "      <td>0.0</td>\n",
       "      <td>0.000804</td>\n",
       "      <td>0.220496</td>\n",
       "    </tr>\n",
       "    <tr>\n",
       "      <th>26768</th>\n",
       "      <td>1.0</td>\n",
       "      <td>0.529221</td>\n",
       "      <td>0.0</td>\n",
       "      <td>0.000394</td>\n",
       "      <td>0.164893</td>\n",
       "    </tr>\n",
       "    <tr>\n",
       "      <th>28520</th>\n",
       "      <td>1.0</td>\n",
       "      <td>0.870622</td>\n",
       "      <td>0.0</td>\n",
       "      <td>0.000055</td>\n",
       "      <td>0.107554</td>\n",
       "    </tr>\n",
       "    <tr>\n",
       "      <th>39184</th>\n",
       "      <td>1.0</td>\n",
       "      <td>0.928085</td>\n",
       "      <td>0.0</td>\n",
       "      <td>0.000026</td>\n",
       "      <td>0.123520</td>\n",
       "    </tr>\n",
       "    <tr>\n",
       "      <th>49189</th>\n",
       "      <td>1.0</td>\n",
       "      <td>0.937426</td>\n",
       "      <td>0.0</td>\n",
       "      <td>0.000024</td>\n",
       "      <td>0.132860</td>\n",
       "    </tr>\n",
       "    <tr>\n",
       "      <th>...</th>\n",
       "      <td>...</td>\n",
       "      <td>...</td>\n",
       "      <td>...</td>\n",
       "      <td>...</td>\n",
       "      <td>...</td>\n",
       "    </tr>\n",
       "    <tr>\n",
       "      <th>664522806</th>\n",
       "      <td>1.0</td>\n",
       "      <td>0.685062</td>\n",
       "      <td>0.0</td>\n",
       "      <td>0.000536</td>\n",
       "      <td>0.241567</td>\n",
       "    </tr>\n",
       "    <tr>\n",
       "      <th>664649379</th>\n",
       "      <td>1.0</td>\n",
       "      <td>0.395998</td>\n",
       "      <td>0.0</td>\n",
       "      <td>0.000072</td>\n",
       "      <td>0.335783</td>\n",
       "    </tr>\n",
       "    <tr>\n",
       "      <th>664774809</th>\n",
       "      <td>1.0</td>\n",
       "      <td>0.274319</td>\n",
       "      <td>0.0</td>\n",
       "      <td>0.000195</td>\n",
       "      <td>0.139255</td>\n",
       "    </tr>\n",
       "    <tr>\n",
       "      <th>664937376</th>\n",
       "      <td>1.0</td>\n",
       "      <td>0.500571</td>\n",
       "      <td>0.0</td>\n",
       "      <td>0.000268</td>\n",
       "      <td>0.170243</td>\n",
       "    </tr>\n",
       "    <tr>\n",
       "      <th>664938867</th>\n",
       "      <td>1.0</td>\n",
       "      <td>0.033091</td>\n",
       "      <td>0.0</td>\n",
       "      <td>0.000267</td>\n",
       "      <td>0.111893</td>\n",
       "    </tr>\n",
       "  </tbody>\n",
       "</table>\n",
       "<p>8323 rows × 5 columns</p>\n",
       "</div>"
      ],
      "text/plain": [
       "           Y_true_acceptor  Y_pred_acceptor  Y_true_donor  Y_pred_donor  \\\n",
       "1529                   1.0         0.362243           0.0      0.000804   \n",
       "26768                  1.0         0.529221           0.0      0.000394   \n",
       "28520                  1.0         0.870622           0.0      0.000055   \n",
       "39184                  1.0         0.928085           0.0      0.000026   \n",
       "49189                  1.0         0.937426           0.0      0.000024   \n",
       "...                    ...              ...           ...           ...   \n",
       "664522806              1.0         0.685062           0.0      0.000536   \n",
       "664649379              1.0         0.395998           0.0      0.000072   \n",
       "664774809              1.0         0.274319           0.0      0.000195   \n",
       "664937376              1.0         0.500571           0.0      0.000268   \n",
       "664938867              1.0         0.033091           0.0      0.000267   \n",
       "\n",
       "                tvd  \n",
       "1529       0.220496  \n",
       "26768      0.164893  \n",
       "28520      0.107554  \n",
       "39184      0.123520  \n",
       "49189      0.132860  \n",
       "...             ...  \n",
       "664522806  0.241567  \n",
       "664649379  0.335783  \n",
       "664774809  0.139255  \n",
       "664937376  0.170243  \n",
       "664938867  0.111893  \n",
       "\n",
       "[8323 rows x 5 columns]"
      ]
     },
     "execution_count": 13,
     "metadata": {},
     "output_type": "execute_result"
    }
   ],
   "source": [
    "df2_da[df2_da['Y_true_acceptor']==1]"
   ]
  },
  {
   "cell_type": "code",
   "execution_count": 14,
   "id": "3007fe7a",
   "metadata": {},
   "outputs": [
    {
     "data": {
      "text/html": [
       "<div>\n",
       "<style scoped>\n",
       "    .dataframe tbody tr th:only-of-type {\n",
       "        vertical-align: middle;\n",
       "    }\n",
       "\n",
       "    .dataframe tbody tr th {\n",
       "        vertical-align: top;\n",
       "    }\n",
       "\n",
       "    .dataframe thead th {\n",
       "        text-align: right;\n",
       "    }\n",
       "</style>\n",
       "<table border=\"1\" class=\"dataframe\">\n",
       "  <thead>\n",
       "    <tr style=\"text-align: right;\">\n",
       "      <th></th>\n",
       "      <th>Y_true_acceptor</th>\n",
       "      <th>Y_pred_acceptor</th>\n",
       "      <th>Y_true_donor</th>\n",
       "      <th>Y_pred_donor</th>\n",
       "      <th>tvd</th>\n",
       "    </tr>\n",
       "  </thead>\n",
       "  <tbody>\n",
       "    <tr>\n",
       "      <th>847</th>\n",
       "      <td>0.0</td>\n",
       "      <td>0.000006</td>\n",
       "      <td>1.0</td>\n",
       "      <td>0.030055</td>\n",
       "      <td>0.130592</td>\n",
       "    </tr>\n",
       "    <tr>\n",
       "      <th>10286</th>\n",
       "      <td>0.0</td>\n",
       "      <td>0.000024</td>\n",
       "      <td>1.0</td>\n",
       "      <td>0.962563</td>\n",
       "      <td>0.108739</td>\n",
       "    </tr>\n",
       "    <tr>\n",
       "      <th>19233</th>\n",
       "      <td>0.0</td>\n",
       "      <td>0.000097</td>\n",
       "      <td>1.0</td>\n",
       "      <td>0.753646</td>\n",
       "      <td>0.215132</td>\n",
       "    </tr>\n",
       "    <tr>\n",
       "      <th>39256</th>\n",
       "      <td>0.0</td>\n",
       "      <td>0.000005</td>\n",
       "      <td>1.0</td>\n",
       "      <td>0.633261</td>\n",
       "      <td>0.168520</td>\n",
       "    </tr>\n",
       "    <tr>\n",
       "      <th>42862</th>\n",
       "      <td>0.0</td>\n",
       "      <td>0.000012</td>\n",
       "      <td>1.0</td>\n",
       "      <td>0.800534</td>\n",
       "      <td>0.168339</td>\n",
       "    </tr>\n",
       "    <tr>\n",
       "      <th>...</th>\n",
       "      <td>...</td>\n",
       "      <td>...</td>\n",
       "      <td>...</td>\n",
       "      <td>...</td>\n",
       "      <td>...</td>\n",
       "    </tr>\n",
       "    <tr>\n",
       "      <th>664696370</th>\n",
       "      <td>0.0</td>\n",
       "      <td>0.000326</td>\n",
       "      <td>1.0</td>\n",
       "      <td>0.876987</td>\n",
       "      <td>0.545888</td>\n",
       "    </tr>\n",
       "    <tr>\n",
       "      <th>664700094</th>\n",
       "      <td>0.0</td>\n",
       "      <td>0.000309</td>\n",
       "      <td>1.0</td>\n",
       "      <td>0.975707</td>\n",
       "      <td>0.109532</td>\n",
       "    </tr>\n",
       "    <tr>\n",
       "      <th>664773024</th>\n",
       "      <td>0.0</td>\n",
       "      <td>0.000057</td>\n",
       "      <td>1.0</td>\n",
       "      <td>0.866844</td>\n",
       "      <td>0.126281</td>\n",
       "    </tr>\n",
       "    <tr>\n",
       "      <th>664827288</th>\n",
       "      <td>0.0</td>\n",
       "      <td>0.000141</td>\n",
       "      <td>1.0</td>\n",
       "      <td>0.726537</td>\n",
       "      <td>0.324782</td>\n",
       "    </tr>\n",
       "    <tr>\n",
       "      <th>664929716</th>\n",
       "      <td>0.0</td>\n",
       "      <td>0.000138</td>\n",
       "      <td>1.0</td>\n",
       "      <td>0.685981</td>\n",
       "      <td>0.194253</td>\n",
       "    </tr>\n",
       "  </tbody>\n",
       "</table>\n",
       "<p>7875 rows × 5 columns</p>\n",
       "</div>"
      ],
      "text/plain": [
       "           Y_true_acceptor  Y_pred_acceptor  Y_true_donor  Y_pred_donor  \\\n",
       "847                    0.0         0.000006           1.0      0.030055   \n",
       "10286                  0.0         0.000024           1.0      0.962563   \n",
       "19233                  0.0         0.000097           1.0      0.753646   \n",
       "39256                  0.0         0.000005           1.0      0.633261   \n",
       "42862                  0.0         0.000012           1.0      0.800534   \n",
       "...                    ...              ...           ...           ...   \n",
       "664696370              0.0         0.000326           1.0      0.876987   \n",
       "664700094              0.0         0.000309           1.0      0.975707   \n",
       "664773024              0.0         0.000057           1.0      0.866844   \n",
       "664827288              0.0         0.000141           1.0      0.726537   \n",
       "664929716              0.0         0.000138           1.0      0.685981   \n",
       "\n",
       "                tvd  \n",
       "847        0.130592  \n",
       "10286      0.108739  \n",
       "19233      0.215132  \n",
       "39256      0.168520  \n",
       "42862      0.168339  \n",
       "...             ...  \n",
       "664696370  0.545888  \n",
       "664700094  0.109532  \n",
       "664773024  0.126281  \n",
       "664827288  0.324782  \n",
       "664929716  0.194253  \n",
       "\n",
       "[7875 rows x 5 columns]"
      ]
     },
     "execution_count": 14,
     "metadata": {},
     "output_type": "execute_result"
    }
   ],
   "source": [
    "df1_da[df1_da['Y_true_donor']==1]"
   ]
  },
  {
   "cell_type": "code",
   "execution_count": 15,
   "id": "9aff574c",
   "metadata": {},
   "outputs": [
    {
     "data": {
      "text/html": [
       "<div>\n",
       "<style scoped>\n",
       "    .dataframe tbody tr th:only-of-type {\n",
       "        vertical-align: middle;\n",
       "    }\n",
       "\n",
       "    .dataframe tbody tr th {\n",
       "        vertical-align: top;\n",
       "    }\n",
       "\n",
       "    .dataframe thead th {\n",
       "        text-align: right;\n",
       "    }\n",
       "</style>\n",
       "<table border=\"1\" class=\"dataframe\">\n",
       "  <thead>\n",
       "    <tr style=\"text-align: right;\">\n",
       "      <th></th>\n",
       "      <th>Y_true_acceptor</th>\n",
       "      <th>Y_pred_acceptor</th>\n",
       "      <th>Y_true_donor</th>\n",
       "      <th>Y_pred_donor</th>\n",
       "      <th>tvd</th>\n",
       "    </tr>\n",
       "  </thead>\n",
       "  <tbody>\n",
       "    <tr>\n",
       "      <th>847</th>\n",
       "      <td>0.0</td>\n",
       "      <td>0.000227</td>\n",
       "      <td>1.0</td>\n",
       "      <td>0.160425</td>\n",
       "      <td>0.130592</td>\n",
       "    </tr>\n",
       "    <tr>\n",
       "      <th>10286</th>\n",
       "      <td>0.0</td>\n",
       "      <td>0.000071</td>\n",
       "      <td>1.0</td>\n",
       "      <td>0.853824</td>\n",
       "      <td>0.108739</td>\n",
       "    </tr>\n",
       "    <tr>\n",
       "      <th>19233</th>\n",
       "      <td>0.0</td>\n",
       "      <td>0.000140</td>\n",
       "      <td>1.0</td>\n",
       "      <td>0.968736</td>\n",
       "      <td>0.215132</td>\n",
       "    </tr>\n",
       "    <tr>\n",
       "      <th>39256</th>\n",
       "      <td>0.0</td>\n",
       "      <td>0.000074</td>\n",
       "      <td>1.0</td>\n",
       "      <td>0.801712</td>\n",
       "      <td>0.168520</td>\n",
       "    </tr>\n",
       "    <tr>\n",
       "      <th>42862</th>\n",
       "      <td>0.0</td>\n",
       "      <td>0.000135</td>\n",
       "      <td>1.0</td>\n",
       "      <td>0.968750</td>\n",
       "      <td>0.168339</td>\n",
       "    </tr>\n",
       "    <tr>\n",
       "      <th>...</th>\n",
       "      <td>...</td>\n",
       "      <td>...</td>\n",
       "      <td>...</td>\n",
       "      <td>...</td>\n",
       "      <td>...</td>\n",
       "    </tr>\n",
       "    <tr>\n",
       "      <th>664696370</th>\n",
       "      <td>0.0</td>\n",
       "      <td>0.000281</td>\n",
       "      <td>1.0</td>\n",
       "      <td>0.331143</td>\n",
       "      <td>0.545888</td>\n",
       "    </tr>\n",
       "    <tr>\n",
       "      <th>664700094</th>\n",
       "      <td>0.0</td>\n",
       "      <td>0.000639</td>\n",
       "      <td>1.0</td>\n",
       "      <td>0.866175</td>\n",
       "      <td>0.109532</td>\n",
       "    </tr>\n",
       "    <tr>\n",
       "      <th>664773024</th>\n",
       "      <td>0.0</td>\n",
       "      <td>0.000265</td>\n",
       "      <td>1.0</td>\n",
       "      <td>0.740563</td>\n",
       "      <td>0.126281</td>\n",
       "    </tr>\n",
       "    <tr>\n",
       "      <th>664827288</th>\n",
       "      <td>0.0</td>\n",
       "      <td>0.000204</td>\n",
       "      <td>1.0</td>\n",
       "      <td>0.401755</td>\n",
       "      <td>0.324782</td>\n",
       "    </tr>\n",
       "    <tr>\n",
       "      <th>664929716</th>\n",
       "      <td>0.0</td>\n",
       "      <td>0.000224</td>\n",
       "      <td>1.0</td>\n",
       "      <td>0.880148</td>\n",
       "      <td>0.194253</td>\n",
       "    </tr>\n",
       "  </tbody>\n",
       "</table>\n",
       "<p>7875 rows × 5 columns</p>\n",
       "</div>"
      ],
      "text/plain": [
       "           Y_true_acceptor  Y_pred_acceptor  Y_true_donor  Y_pred_donor  \\\n",
       "847                    0.0         0.000227           1.0      0.160425   \n",
       "10286                  0.0         0.000071           1.0      0.853824   \n",
       "19233                  0.0         0.000140           1.0      0.968736   \n",
       "39256                  0.0         0.000074           1.0      0.801712   \n",
       "42862                  0.0         0.000135           1.0      0.968750   \n",
       "...                    ...              ...           ...           ...   \n",
       "664696370              0.0         0.000281           1.0      0.331143   \n",
       "664700094              0.0         0.000639           1.0      0.866175   \n",
       "664773024              0.0         0.000265           1.0      0.740563   \n",
       "664827288              0.0         0.000204           1.0      0.401755   \n",
       "664929716              0.0         0.000224           1.0      0.880148   \n",
       "\n",
       "                tvd  \n",
       "847        0.130592  \n",
       "10286      0.108739  \n",
       "19233      0.215132  \n",
       "39256      0.168520  \n",
       "42862      0.168339  \n",
       "...             ...  \n",
       "664696370  0.545888  \n",
       "664700094  0.109532  \n",
       "664773024  0.126281  \n",
       "664827288  0.324782  \n",
       "664929716  0.194253  \n",
       "\n",
       "[7875 rows x 5 columns]"
      ]
     },
     "execution_count": 15,
     "metadata": {},
     "output_type": "execute_result"
    }
   ],
   "source": [
    "df2_da[df2_da['Y_true_donor']==1]"
   ]
  },
  {
   "cell_type": "code",
   "execution_count": 21,
   "id": "e4fcf9e5",
   "metadata": {},
   "outputs": [
    {
     "data": {
      "image/png": "[encoded data removed]",
      "text/plain": [
       "<Figure size 432x288 with 1 Axes>"
      ]
     },
     "metadata": {
      "needs_background": "light"
     },
     "output_type": "display_data"
    },
    {
     "data": {
      "image/png": "[encoded data removed]",
      "text/plain": [
       "<Figure size 432x288 with 1 Axes>"
      ]
     },
     "metadata": {
      "needs_background": "light"
     },
     "output_type": "display_data"
    },
    {
     "data": {
      "image/png": "[encoded data removed]",
      "text/plain": [
       "<Figure size 432x288 with 1 Axes>"
      ]
     },
     "metadata": {
      "needs_background": "light"
     },
     "output_type": "display_data"
    },
    {
     "data": {
      "image/png": "[encoded data removed]",
      "text/plain": [
       "<Figure size 432x288 with 1 Axes>"
      ]
     },
     "metadata": {
      "needs_background": "light"
     },
     "output_type": "display_data"
    },
    {
     "data": {
      "image/png": "[encoded data removed]",
      "text/plain": [
       "<Figure size 432x288 with 1 Axes>"
      ]
     },
     "metadata": {
      "needs_background": "light"
     },
     "output_type": "display_data"
    },
    {
     "data": {
      "image/png": "[encoded data removed]",
      "text/plain": [
       "<Figure size 432x288 with 1 Axes>"
      ]
     },
     "metadata": {
      "needs_background": "light"
     },
     "output_type": "display_data"
    }
   ],
   "source": [
    "precision1, recall1, thresholds1 = precision_recall_curve(df1_da.Y_true_acceptor+df1_da.Y_true_donor, df1_da.Y_pred_acceptor+df1_da.Y_pred_donor)\n",
    "precision2, recall2, thresholds2 = precision_recall_curve(df2_da.Y_true_acceptor+df2_da.Y_true_donor, df2_da.Y_pred_acceptor+df2_da.Y_pred_donor)\n",
    "ap1 = average_precision_score(df1_da.Y_true_acceptor+df1_da.Y_true_donor, df1_da.Y_pred_acceptor+df1_da.Y_pred_donor)\n",
    "ap2 = average_precision_score(df2_da.Y_true_acceptor+df2_da.Y_true_donor, df2_da.Y_pred_acceptor+df2_da.Y_pred_donor)\n",
    "\n",
    "plt.plot(recall1,precision1,label=\"SpliceAI-10k (PR-AUC = {})\".format(np.round(ap1,3)))\n",
    "plt.plot(recall2,precision2,label=\"Transformer-45k (PR-AUC = {})\".format(np.round(ap2,3)))\n",
    "plt.legend()\n",
    "plt.xlabel('Recall')\n",
    "plt.ylabel('Precision')\n",
    "\n",
    "plt.savefig('../Results/PRC_disagreement_171023.png', dpi=300)\n",
    "plt.show()\n",
    "plt.plot(thresholds1,precision1[:-1],label=\"SpliceAI-10k\")\n",
    "plt.plot(thresholds2,precision2[:-1],label=\"Transformer-45k\")\n",
    "plt.legend()\n",
    "plt.xlim(0,1)\n",
    "plt.ylabel('Precision')\n",
    "plt.xlabel('Decision Threshold')\n",
    "plt.savefig('../Results/Precision_Decision_Threshold_disagreement_171023.png', dpi=300)\n",
    "plt.show()\n",
    "plt.plot(thresholds1,recall1[:-1],label=\"SpliceAI-10k\")\n",
    "plt.plot(thresholds2,recall2[:-1],label=\"Transformer-45k\")\n",
    "plt.legend()\n",
    "plt.xlim(0,1)\n",
    "plt.ylabel('Recall')\n",
    "plt.xlabel('Decision Threshold')\n",
    "plt.savefig('../Results/Recall_Decision_Threshold_disagreement_171023.png', dpi=300)\n",
    "plt.show()\n",
    "\n",
    "\n",
    "pd.DataFrame({'Threshold': thresholds1, 'SpliceAI-10k-recall': recall1[:-1], 'SpliceAI-10k-precision': precision1[:-1]}).to_csv('../Results/figure_1_c_prc_SpliceAI-10k.csv', index=False)\n",
    "pd.DataFrame({'Threshold': thresholds2,'Transformer-45k-recall': recall2[:-1], 'Transformer-45k-precision': precision2[:-1]}).to_csv('../Results/figure_1_c_prc_Transformer-45k.csv', index=False)\n",
    "\n",
    "from sklearn.metrics import roc_curve, auc\n",
    "fpr1, tpr1, thresholds1 = roc_curve(df1_da.Y_true_acceptor+df1_da.Y_true_donor, df1_da.Y_pred_acceptor+df1_da.Y_pred_donor)\n",
    "fpr2, tpr2, thresholds2 = roc_curve(df2_da.Y_true_acceptor+df2_da.Y_true_donor, df2_da.Y_pred_acceptor+df2_da.Y_pred_donor)\n",
    "auc1 = auc(fpr1, tpr1)\n",
    "auc2 = auc(fpr2, tpr2)\n",
    "\n",
    "plt.plot([0, 1], [0, 1], \"k--\")\n",
    "plt.plot(fpr1,tpr1,label=\"SpliceAI-10k (AUC = {})\".format(np.round(auc1,3)))\n",
    "plt.plot(fpr2,tpr2,label=\"Transformer-45k (AUC = {})\".format(np.round(auc2,3)))\n",
    "plt.legend()\n",
    "plt.xlabel('False Positive Rate')\n",
    "plt.ylabel('True Positive Rate')\n",
    "plt.savefig('../Results/ROC_disagreement_171023.png', dpi=300)\n",
    "plt.show()\n",
    "\n",
    "#plt.plot([0, 1], [0, 1], \"k--\")\n",
    "plt.plot(thresholds1,fpr1,label=\"SpliceAI-10k\")\n",
    "plt.plot(thresholds2,fpr2,label=\"Transformer-45k\")\n",
    "plt.legend()\n",
    "plt.xlim(0,1)\n",
    "plt.ylabel('False Positive Rate')\n",
    "plt.xlabel('Decision Threshold')\n",
    "plt.savefig('../Results/FPR_Decision_Threshold_disagreement_171023.png', dpi=300)\n",
    "plt.show()\n",
    "\n",
    "plt.plot(thresholds1,tpr1,label=\"SpliceAI-10k\")\n",
    "plt.plot(thresholds2,tpr2,label=\"Transformer-45k\")\n",
    "plt.legend()\n",
    "plt.xlim(0,1)\n",
    "plt.ylabel('True Positive Rate')\n",
    "plt.xlabel('Decision Threshold')\n",
    "plt.savefig('../Results/TPR_Decision_Threshold_disagreement_171023.png', dpi=300)\n",
    "plt.show()\n",
    "\n",
    "pd.DataFrame({'Threshold': thresholds1, 'SpliceAI-10k-fpr': fpr1, 'SpliceAI-10k-tpr': tpr1}).to_csv('../Results/figure_1_c_d_roc_SpliceAI-10k.csv', index=False)\n",
    "pd.DataFrame({'Threshold': thresholds2,'Transformer-45k-fpr': fpr2, 'Transformer-45k-tpr': tpr2}).to_csv('../Results/figure_1_c_d_roc_Transformer-45k.csv', index=False)"
   ]
  },
  {
   "cell_type": "code",
   "execution_count": 27,
   "id": "c5e044dd",
   "metadata": {},
   "outputs": [
    {
     "name": "stderr",
     "output_type": "stream",
     "text": [
      "100%|██████████████████████████████████████████████████████████████████| 13908/13908 [00:11<00:00, 1253.35it/s]\n",
      "100%|██████████████████████████████████████████████████████████████████| 10354/10354 [00:08<00:00, 1189.96it/s]\n"
     ]
    }
   ],
   "source": [
    "label = (df1_da.Y_true_acceptor+df1_da.Y_true_donor).values\n",
    "prob = (df1_da.Y_pred_acceptor+df1_da.Y_pred_donor).values\n",
    "fps1 = []\n",
    "tps1 = []\n",
    "for t in tqdm(thresholds1[thresholds1<=1]):\n",
    "    pred = (prob>=t).astype(int)\n",
    "    cond = pred==1\n",
    "    fps1.append(np.sum((1-label[cond])==pred[cond]))\n",
    "    tps1.append(np.sum((label[cond])==pred[cond]))\n",
    "\n",
    "label = (df2_da.Y_true_acceptor+df2_da.Y_true_donor).values\n",
    "prob = (df2_da.Y_pred_acceptor+df2_da.Y_pred_donor).values\n",
    "fps2 = []\n",
    "tps2 = []\n",
    "for t in tqdm(thresholds2[thresholds2<=1]):\n",
    "    pred = (prob>=t).astype(int)\n",
    "    cond = pred==1\n",
    "    fps2.append(np.sum((1-label[cond])==pred[cond]))\n",
    "    tps2.append(np.sum((label[cond])==pred[cond]))"
   ]
  },
  {
   "cell_type": "code",
   "execution_count": 28,
   "id": "95c2ea9f",
   "metadata": {},
   "outputs": [
    {
     "data": {
      "image/png": "[encoded data removed]",
      "text/plain": [
       "<Figure size 432x288 with 1 Axes>"
      ]
     },
     "metadata": {
      "needs_background": "light"
     },
     "output_type": "display_data"
    }
   ],
   "source": [
    "plt.plot(thresholds1[thresholds1<=1],fps1,label=\"SpliceAI-10k\")\n",
    "plt.plot(thresholds2[thresholds2<=1],fps2,label=\"Transformer-45k\")\n",
    "plt.legend()\n",
    "plt.xlim(0,1)\n",
    "plt.ylabel('False Positive Sites')\n",
    "plt.xlabel('Decision Threshold')\n",
    "plt.savefig('../Results/FPs_Decision_Threshold_disagreement_181023.png', dpi=300)\n",
    "plt.show()"
   ]
  },
  {
   "cell_type": "code",
   "execution_count": 29,
   "id": "18a37da0",
   "metadata": {},
   "outputs": [
    {
     "data": {
      "image/png": "[encoded data removed]",
      "text/plain": [
       "<Figure size 432x288 with 1 Axes>"
      ]
     },
     "metadata": {
      "needs_background": "light"
     },
     "output_type": "display_data"
    }
   ],
   "source": [
    "plt.plot(thresholds1[thresholds1<=1],tps1,label=\"SpliceAI-10k\")\n",
    "plt.plot(thresholds2[thresholds2<=1],tps2,label=\"Transformer-45k\")\n",
    "plt.legend()\n",
    "plt.xlim(0,1)\n",
    "plt.ylabel('True Positive Sites')\n",
    "plt.xlabel('Decision Threshold')\n",
    "plt.savefig('../Results/TPs_Decision_Threshold_disagreement_181023.png', dpi=300)\n",
    "plt.show()"
   ]
  },
  {
   "cell_type": "code",
   "execution_count": 20,
   "id": "b9947820",
   "metadata": {},
   "outputs": [
    {
     "name": "stderr",
     "output_type": "stream",
     "text": [
      "100%|███████████████████████████████████████████████████████████████████████████████████████████████████| 13908/13908 [00:08<00:00, 1548.58it/s]\n",
      "100%|███████████████████████████████████████████████████████████████████████████████████████████████████| 13908/13908 [00:08<00:00, 1558.88it/s]\n",
      "100%|███████████████████████████████████████████████████████████████████████████████████████████████████| 10354/10354 [00:06<00:00, 1547.47it/s]\n",
      "100%|███████████████████████████████████████████████████████████████████████████████████████████████████| 10354/10354 [00:06<00:00, 1592.32it/s]\n"
     ]
    }
   ],
   "source": [
    "label = (df1_da.Y_true_acceptor).values\n",
    "prob = (df1_da.Y_pred_acceptor).values\n",
    "fps1 = []\n",
    "tps1 = []\n",
    "for t in tqdm(thresholds1[thresholds1<=1]):\n",
    "    pred = (prob>=t).astype(int)\n",
    "    cond = pred==1\n",
    "    fps1.append(np.sum((1-label[cond])==pred[cond]))\n",
    "    tps1.append(np.sum((label[cond])==pred[cond]))\n",
    "\n",
    "label = (df1_da.Y_true_donor).values\n",
    "prob = (df1_da.Y_pred_donor).values\n",
    "fps3 = []\n",
    "tps3 = []\n",
    "for t in tqdm(thresholds1[thresholds1<=1]):\n",
    "    pred = (prob>=t).astype(int)\n",
    "    cond = pred==1\n",
    "    fps3.append(np.sum((1-label[cond])==pred[cond]))\n",
    "    tps3.append(np.sum((label[cond])==pred[cond]))\n",
    "\n",
    "label = (df2_da.Y_true_acceptor).values\n",
    "prob = (df2_da.Y_pred_acceptor).values\n",
    "fps2 = []\n",
    "tps2 = []\n",
    "for t in tqdm(thresholds2[thresholds2<=1]):\n",
    "    pred = (prob>=t).astype(int)\n",
    "    cond = pred==1\n",
    "    fps2.append(np.sum((1-label[cond])==pred[cond]))\n",
    "    tps2.append(np.sum((label[cond])==pred[cond]))\n",
    "    \n",
    "label = (df2_da.Y_true_donor).values\n",
    "prob = (df2_da.Y_pred_donor).values\n",
    "fps4 = []\n",
    "tps4 = []\n",
    "for t in tqdm(thresholds2[thresholds2<=1]):\n",
    "    pred = (prob>=t).astype(int)\n",
    "    cond = pred==1\n",
    "    fps4.append(np.sum((1-label[cond])==pred[cond]))\n",
    "    tps4.append(np.sum((label[cond])==pred[cond]))"
   ]
  },
  {
   "cell_type": "code",
   "execution_count": 21,
   "id": "9fd65907",
   "metadata": {},
   "outputs": [
    {
     "data": {
      "image/png": "[encoded data removed]",
      "text/plain": [
       "<Figure size 432x288 with 1 Axes>"
      ]
     },
     "metadata": {
      "needs_background": "light"
     },
     "output_type": "display_data"
    }
   ],
   "source": [
    "plt.plot(thresholds1[thresholds1<=1],fps1,label=\"SpliceAI-10k (Acceptor)\")\n",
    "plt.plot(thresholds2[thresholds2<=1],fps2,label=\"Transformer-40k (Acceptor)\")\n",
    "plt.plot(thresholds1[thresholds1<=1],fps3,ls='--',label=\"SpliceAI-10k (Donor)\")\n",
    "\n",
    "plt.plot(thresholds2[thresholds2<=1],fps4,ls='--',label=\"Transformer-40k (Donor)\")\n",
    "plt.legend()\n",
    "plt.xlim(0,1)\n",
    "plt.ylim(0,13500)\n",
    "plt.ylabel('False Positive Sites')\n",
    "plt.xlabel('Decision Threshold')\n",
    "plt.savefig('../Results/FPs_Decision_Threshold_breakdown_disagreement_201022.png', dpi=300)\n",
    "plt.show()"
   ]
  },
  {
   "cell_type": "code",
   "execution_count": 22,
   "id": "ec753c78",
   "metadata": {},
   "outputs": [
    {
     "data": {
      "image/png": "[encoded data removed]",
      "text/plain": [
       "<Figure size 432x288 with 1 Axes>"
      ]
     },
     "metadata": {
      "needs_background": "light"
     },
     "output_type": "display_data"
    }
   ],
   "source": [
    "plt.plot(thresholds1[thresholds1<=1],tps1,label=\"SpliceAI-10k (Acceptor)\")\n",
    "plt.plot(thresholds2[thresholds2<=1],tps2,label=\"Transformer-40k (Acceptor)\")\n",
    "plt.plot(thresholds1[thresholds1<=1],tps3,ls='--',label=\"SpliceAI-10k (Donor)\")\n",
    "\n",
    "plt.plot(thresholds2[thresholds2<=1],tps4,ls='--',label=\"Transformer-40k (Donor)\")\n",
    "plt.legend()\n",
    "plt.xlim(0,1)\n",
    "plt.ylabel('True Positive Sites')\n",
    "plt.xlabel('Decision Threshold')\n",
    "plt.savefig('../Results/TPs_Decision_Threshold_breakdown_disagreement_201022.png', dpi=300)\n",
    "plt.show()"
   ]
  },
  {
   "cell_type": "code",
   "execution_count": 23,
   "id": "a685305f",
   "metadata": {},
   "outputs": [],
   "source": [
    "df1_da2 = df1[df1['tvd']>=0.2]\n",
    "df2_da2 = df2[df2['tvd']>=0.2]"
   ]
  },
  {
   "cell_type": "code",
   "execution_count": 24,
   "id": "5709ca67",
   "metadata": {},
   "outputs": [],
   "source": [
    "from sklearn.utils import resample"
   ]
  },
  {
   "cell_type": "code",
   "execution_count": 38,
   "id": "9f1dd0f9",
   "metadata": {},
   "outputs": [
    {
     "name": "stderr",
     "output_type": "stream",
     "text": [
      "  0%|                                                                                                     | 1/1000 [13:01<216:55:03, 781.68s/it]"
     ]
    },
    {
     "name": "stdout",
     "output_type": "stream",
     "text": [
      "0.9683811424306384\n"
     ]
    },
    {
     "name": "stderr",
     "output_type": "stream",
     "text": [
      "  0%|▏                                                                                                    | 2/1000 [26:05<217:06:48, 783.17s/it]"
     ]
    },
    {
     "name": "stdout",
     "output_type": "stream",
     "text": [
      "0.9677124294416316\n"
     ]
    },
    {
     "name": "stderr",
     "output_type": "stream",
     "text": [
      "  0%|▎                                                                                                    | 3/1000 [38:54<215:02:05, 776.45s/it]"
     ]
    },
    {
     "name": "stdout",
     "output_type": "stream",
     "text": [
      "0.9675694794737075\n"
     ]
    },
    {
     "name": "stderr",
     "output_type": "stream",
     "text": [
      "  0%|▍                                                                                                    | 4/1000 [51:50<214:44:44, 776.19s/it]"
     ]
    },
    {
     "name": "stdout",
     "output_type": "stream",
     "text": [
      "0.9675413656045138\n"
     ]
    },
    {
     "name": "stderr",
     "output_type": "stream",
     "text": [
      "  0%|▍                                                                                                  | 5/1000 [1:04:40<213:56:28, 774.06s/it]"
     ]
    },
    {
     "name": "stdout",
     "output_type": "stream",
     "text": [
      "0.9679328014595131\n"
     ]
    },
    {
     "name": "stderr",
     "output_type": "stream",
     "text": [
      "  1%|▌                                                                                                  | 6/1000 [1:17:12<211:37:44, 766.46s/it]"
     ]
    },
    {
     "name": "stdout",
     "output_type": "stream",
     "text": [
      "0.967987573416992\n"
     ]
    },
    {
     "name": "stderr",
     "output_type": "stream",
     "text": [
      "  1%|▋                                                                                                  | 7/1000 [1:29:53<210:59:48, 764.94s/it]"
     ]
    },
    {
     "name": "stdout",
     "output_type": "stream",
     "text": [
      "0.9675750998064141\n"
     ]
    },
    {
     "name": "stderr",
     "output_type": "stream",
     "text": [
      "  1%|▊                                                                                                  | 8/1000 [1:42:53<212:02:51, 769.53s/it]"
     ]
    },
    {
     "name": "stdout",
     "output_type": "stream",
     "text": [
      "0.9678194858634646\n"
     ]
    },
    {
     "name": "stderr",
     "output_type": "stream",
     "text": [
      "  1%|▉                                                                                                  | 9/1000 [1:55:43<211:53:07, 769.71s/it]"
     ]
    },
    {
     "name": "stdout",
     "output_type": "stream",
     "text": [
      "0.9678215263673001\n"
     ]
    },
    {
     "name": "stderr",
     "output_type": "stream",
     "text": [
      "  1%|▉                                                                                                 | 10/1000 [2:08:34<211:46:12, 770.07s/it]"
     ]
    },
    {
     "name": "stdout",
     "output_type": "stream",
     "text": [
      "0.9680392320552051\n"
     ]
    },
    {
     "name": "stderr",
     "output_type": "stream",
     "text": [
      "  1%|█                                                                                                 | 11/1000 [2:21:28<211:53:39, 771.30s/it]"
     ]
    },
    {
     "name": "stdout",
     "output_type": "stream",
     "text": [
      "0.9684983595439342\n"
     ]
    },
    {
     "name": "stderr",
     "output_type": "stream",
     "text": [
      "  1%|█▏                                                                                                | 12/1000 [2:34:17<211:29:04, 770.59s/it]"
     ]
    },
    {
     "name": "stdout",
     "output_type": "stream",
     "text": [
      "0.9672003079639165\n"
     ]
    },
    {
     "name": "stderr",
     "output_type": "stream",
     "text": [
      "  1%|█▎                                                                                                | 13/1000 [2:46:58<210:28:33, 767.69s/it]"
     ]
    },
    {
     "name": "stdout",
     "output_type": "stream",
     "text": [
      "0.9682953178424877\n"
     ]
    },
    {
     "name": "stderr",
     "output_type": "stream",
     "text": [
      "  1%|█▎                                                                                                | 14/1000 [2:59:53<210:54:04, 770.03s/it]"
     ]
    },
    {
     "name": "stdout",
     "output_type": "stream",
     "text": [
      "0.9678124254083923\n"
     ]
    },
    {
     "name": "stderr",
     "output_type": "stream",
     "text": [
      "  2%|█▍                                                                                                | 15/1000 [3:13:12<213:02:55, 778.66s/it]"
     ]
    },
    {
     "name": "stdout",
     "output_type": "stream",
     "text": [
      "0.968664129350706\n"
     ]
    },
    {
     "name": "stderr",
     "output_type": "stream",
     "text": [
      "  2%|█▌                                                                                                | 16/1000 [3:26:08<212:37:27, 777.89s/it]"
     ]
    },
    {
     "name": "stdout",
     "output_type": "stream",
     "text": [
      "0.9680871281472085\n"
     ]
    },
    {
     "name": "stderr",
     "output_type": "stream",
     "text": [
      "  2%|█▋                                                                                                | 17/1000 [3:39:22<213:43:34, 782.72s/it]"
     ]
    },
    {
     "name": "stdout",
     "output_type": "stream",
     "text": [
      "0.9682021431713654\n"
     ]
    },
    {
     "name": "stderr",
     "output_type": "stream",
     "text": [
      "  2%|█▊                                                                                                | 18/1000 [3:52:17<212:54:22, 780.51s/it]"
     ]
    },
    {
     "name": "stdout",
     "output_type": "stream",
     "text": [
      "0.9683141047979992\n"
     ]
    },
    {
     "name": "stderr",
     "output_type": "stream",
     "text": [
      "  2%|█▊                                                                                                | 19/1000 [4:05:24<213:10:46, 782.31s/it]"
     ]
    },
    {
     "name": "stdout",
     "output_type": "stream",
     "text": [
      "0.9679053163325126\n"
     ]
    },
    {
     "name": "stderr",
     "output_type": "stream",
     "text": [
      "  2%|█▉                                                                                                | 20/1000 [4:18:29<213:10:43, 783.11s/it]"
     ]
    },
    {
     "name": "stdout",
     "output_type": "stream",
     "text": [
      "0.9679967662843533\n"
     ]
    },
    {
     "name": "stderr",
     "output_type": "stream",
     "text": [
      "  2%|██                                                                                                | 21/1000 [4:31:13<211:24:18, 777.38s/it]"
     ]
    },
    {
     "name": "stdout",
     "output_type": "stream",
     "text": [
      "0.967831061993722\n"
     ]
    },
    {
     "name": "stderr",
     "output_type": "stream",
     "text": [
      "  2%|██▏                                                                                               | 22/1000 [4:44:18<211:48:41, 779.67s/it]"
     ]
    },
    {
     "name": "stdout",
     "output_type": "stream",
     "text": [
      "0.96816374262099\n"
     ]
    },
    {
     "name": "stderr",
     "output_type": "stream",
     "text": [
      "  2%|██▎                                                                                               | 23/1000 [4:57:25<212:09:55, 781.78s/it]"
     ]
    },
    {
     "name": "stdout",
     "output_type": "stream",
     "text": [
      "0.9688218653094178\n"
     ]
    },
    {
     "name": "stderr",
     "output_type": "stream",
     "text": [
      "  2%|██▎                                                                                               | 24/1000 [5:10:35<212:38:37, 784.34s/it]"
     ]
    },
    {
     "name": "stdout",
     "output_type": "stream",
     "text": [
      "0.9684818327453418\n"
     ]
    },
    {
     "name": "stderr",
     "output_type": "stream",
     "text": [
      "  2%|██▍                                                                                               | 25/1000 [5:24:15<215:20:38, 795.12s/it]"
     ]
    },
    {
     "name": "stdout",
     "output_type": "stream",
     "text": [
      "0.9687328432563898\n"
     ]
    },
    {
     "name": "stderr",
     "output_type": "stream",
     "text": [
      "  3%|██▌                                                                                               | 26/1000 [5:36:53<212:06:29, 783.97s/it]"
     ]
    },
    {
     "name": "stdout",
     "output_type": "stream",
     "text": [
      "0.9683986684306226\n"
     ]
    },
    {
     "name": "stderr",
     "output_type": "stream",
     "text": [
      "  3%|██▋                                                                                               | 27/1000 [5:49:40<210:29:07, 778.77s/it]"
     ]
    },
    {
     "name": "stdout",
     "output_type": "stream",
     "text": [
      "0.9679872814570156\n"
     ]
    },
    {
     "name": "stderr",
     "output_type": "stream",
     "text": [
      "  3%|██▋                                                                                               | 28/1000 [6:02:46<210:50:35, 780.90s/it]"
     ]
    },
    {
     "name": "stdout",
     "output_type": "stream",
     "text": [
      "0.9677629835308265\n"
     ]
    },
    {
     "name": "stderr",
     "output_type": "stream",
     "text": [
      "  3%|██▊                                                                                               | 29/1000 [6:15:45<210:27:51, 780.30s/it]"
     ]
    },
    {
     "name": "stdout",
     "output_type": "stream",
     "text": [
      "0.9680790974780735\n"
     ]
    },
    {
     "name": "stderr",
     "output_type": "stream",
     "text": [
      "  3%|██▉                                                                                               | 30/1000 [6:29:00<211:30:02, 784.95s/it]"
     ]
    },
    {
     "name": "stdout",
     "output_type": "stream",
     "text": [
      "0.967560436431769\n"
     ]
    },
    {
     "name": "stderr",
     "output_type": "stream",
     "text": [
      "  3%|███                                                                                               | 31/1000 [6:41:47<209:47:39, 779.42s/it]"
     ]
    },
    {
     "name": "stdout",
     "output_type": "stream",
     "text": [
      "0.9680831131792621\n"
     ]
    },
    {
     "name": "stderr",
     "output_type": "stream",
     "text": [
      "  3%|███▏                                                                                              | 32/1000 [6:54:28<208:06:51, 773.98s/it]"
     ]
    },
    {
     "name": "stdout",
     "output_type": "stream",
     "text": [
      "0.9684320584933418\n"
     ]
    },
    {
     "name": "stderr",
     "output_type": "stream",
     "text": [
      "  3%|███▏                                                                                              | 33/1000 [7:07:08<206:43:37, 769.62s/it]"
     ]
    },
    {
     "name": "stdout",
     "output_type": "stream",
     "text": [
      "0.9683821810951717\n"
     ]
    },
    {
     "name": "stderr",
     "output_type": "stream",
     "text": [
      "  3%|███▎                                                                                              | 34/1000 [7:19:40<205:07:30, 764.44s/it]"
     ]
    },
    {
     "name": "stdout",
     "output_type": "stream",
     "text": [
      "0.9679446536145727\n"
     ]
    },
    {
     "name": "stderr",
     "output_type": "stream",
     "text": [
      "  4%|███▍                                                                                              | 35/1000 [7:32:18<204:23:13, 762.48s/it]"
     ]
    },
    {
     "name": "stdout",
     "output_type": "stream",
     "text": [
      "0.9682452621122465\n"
     ]
    },
    {
     "name": "stderr",
     "output_type": "stream",
     "text": [
      "  4%|███▌                                                                                              | 36/1000 [7:45:05<204:32:00, 763.82s/it]"
     ]
    },
    {
     "name": "stdout",
     "output_type": "stream",
     "text": [
      "0.9682051787004953\n"
     ]
    },
    {
     "name": "stderr",
     "output_type": "stream",
     "text": [
      "  4%|███▋                                                                                              | 37/1000 [7:57:35<203:15:21, 759.84s/it]"
     ]
    },
    {
     "name": "stdout",
     "output_type": "stream",
     "text": [
      "0.9681391158531004\n"
     ]
    },
    {
     "name": "stderr",
     "output_type": "stream",
     "text": [
      "  4%|███▋                                                                                              | 38/1000 [8:10:01<201:56:32, 755.71s/it]"
     ]
    },
    {
     "name": "stdout",
     "output_type": "stream",
     "text": [
      "0.9678074583838863\n"
     ]
    },
    {
     "name": "stderr",
     "output_type": "stream",
     "text": [
      "  4%|███▊                                                                                              | 39/1000 [8:22:57<203:18:53, 761.64s/it]"
     ]
    },
    {
     "name": "stdout",
     "output_type": "stream",
     "text": [
      "0.9687030716757512\n"
     ]
    },
    {
     "name": "stderr",
     "output_type": "stream",
     "text": [
      "  4%|███▉                                                                                              | 40/1000 [8:35:19<201:30:11, 755.64s/it]"
     ]
    },
    {
     "name": "stdout",
     "output_type": "stream",
     "text": [
      "0.9679844421212961\n"
     ]
    },
    {
     "name": "stderr",
     "output_type": "stream",
     "text": [
      "  4%|████                                                                                              | 41/1000 [8:48:04<202:06:45, 758.71s/it]"
     ]
    },
    {
     "name": "stdout",
     "output_type": "stream",
     "text": [
      "0.9683392089548375\n"
     ]
    },
    {
     "name": "stderr",
     "output_type": "stream",
     "text": [
      "  4%|████                                                                                              | 42/1000 [9:00:48<202:17:20, 760.17s/it]"
     ]
    },
    {
     "name": "stdout",
     "output_type": "stream",
     "text": [
      "0.9681956746940871\n"
     ]
    },
    {
     "name": "stderr",
     "output_type": "stream",
     "text": [
      "  4%|████▏                                                                                             | 43/1000 [9:13:19<201:18:43, 757.29s/it]"
     ]
    },
    {
     "name": "stdout",
     "output_type": "stream",
     "text": [
      "0.9682274715089416\n"
     ]
    },
    {
     "name": "stderr",
     "output_type": "stream",
     "text": [
      "  4%|████▎                                                                                             | 44/1000 [9:26:11<202:18:44, 761.85s/it]"
     ]
    },
    {
     "name": "stdout",
     "output_type": "stream",
     "text": [
      "0.9681582572620292\n"
     ]
    },
    {
     "name": "stderr",
     "output_type": "stream",
     "text": [
      "  4%|████▍                                                                                             | 45/1000 [9:38:40<201:02:52, 757.88s/it]"
     ]
    },
    {
     "name": "stdout",
     "output_type": "stream",
     "text": [
      "0.9688354862298298\n"
     ]
    },
    {
     "name": "stderr",
     "output_type": "stream",
     "text": [
      "  5%|████▌                                                                                             | 46/1000 [9:52:39<207:19:03, 782.33s/it]"
     ]
    },
    {
     "name": "stdout",
     "output_type": "stream",
     "text": [
      "0.9678928750072672\n"
     ]
    },
    {
     "name": "stderr",
     "output_type": "stream",
     "text": [
      "  5%|████▌                                                                                            | 47/1000 [10:05:25<205:46:24, 777.32s/it]"
     ]
    },
    {
     "name": "stdout",
     "output_type": "stream",
     "text": [
      "0.968754575382159\n"
     ]
    },
    {
     "name": "stderr",
     "output_type": "stream",
     "text": [
      "  5%|████▋                                                                                            | 48/1000 [10:18:21<205:27:17, 776.93s/it]"
     ]
    },
    {
     "name": "stdout",
     "output_type": "stream",
     "text": [
      "0.968477629718207\n"
     ]
    },
    {
     "name": "stderr",
     "output_type": "stream",
     "text": [
      "  5%|████▊                                                                                            | 49/1000 [10:31:20<205:25:07, 777.61s/it]"
     ]
    },
    {
     "name": "stdout",
     "output_type": "stream",
     "text": [
      "0.9681502999880108\n"
     ]
    },
    {
     "name": "stderr",
     "output_type": "stream",
     "text": [
      "  5%|████▊                                                                                            | 50/1000 [10:43:54<203:21:50, 770.64s/it]"
     ]
    },
    {
     "name": "stdout",
     "output_type": "stream",
     "text": [
      "0.9685879600685682\n"
     ]
    },
    {
     "name": "stderr",
     "output_type": "stream",
     "text": [
      "  5%|████▉                                                                                            | 51/1000 [10:56:34<202:18:14, 767.43s/it]"
     ]
    },
    {
     "name": "stdout",
     "output_type": "stream",
     "text": [
      "0.9686768242391965\n"
     ]
    },
    {
     "name": "stderr",
     "output_type": "stream",
     "text": [
      "  5%|█████                                                                                            | 52/1000 [11:09:37<203:19:10, 772.10s/it]"
     ]
    },
    {
     "name": "stdout",
     "output_type": "stream",
     "text": [
      "0.96774317850399\n"
     ]
    },
    {
     "name": "stderr",
     "output_type": "stream",
     "text": [
      "  5%|█████▏                                                                                           | 53/1000 [11:22:43<204:12:43, 776.31s/it]"
     ]
    },
    {
     "name": "stdout",
     "output_type": "stream",
     "text": [
      "0.9676379710711474\n"
     ]
    },
    {
     "name": "stderr",
     "output_type": "stream",
     "text": [
      "  5%|█████▏                                                                                           | 54/1000 [11:35:25<202:51:26, 771.97s/it]"
     ]
    },
    {
     "name": "stdout",
     "output_type": "stream",
     "text": [
      "0.968188146337374\n"
     ]
    },
    {
     "name": "stderr",
     "output_type": "stream",
     "text": [
      "  6%|█████▎                                                                                           | 55/1000 [11:48:07<201:50:34, 768.92s/it]"
     ]
    },
    {
     "name": "stdout",
     "output_type": "stream",
     "text": [
      "0.9674894639448595\n"
     ]
    },
    {
     "name": "stderr",
     "output_type": "stream",
     "text": [
      "  6%|█████▍                                                                                           | 56/1000 [12:01:15<203:06:07, 774.54s/it]"
     ]
    },
    {
     "name": "stdout",
     "output_type": "stream",
     "text": [
      "0.9681662722143959\n"
     ]
    },
    {
     "name": "stderr",
     "output_type": "stream",
     "text": [
      "  6%|█████▌                                                                                           | 57/1000 [12:14:36<205:00:05, 782.61s/it]"
     ]
    },
    {
     "name": "stdout",
     "output_type": "stream",
     "text": [
      "0.9677752360340625\n"
     ]
    },
    {
     "name": "stderr",
     "output_type": "stream",
     "text": [
      "  6%|█████▋                                                                                           | 58/1000 [12:27:04<202:05:54, 772.35s/it]"
     ]
    },
    {
     "name": "stdout",
     "output_type": "stream",
     "text": [
      "0.9669798696954977\n"
     ]
    },
    {
     "name": "stderr",
     "output_type": "stream",
     "text": [
      "  6%|█████▋                                                                                           | 59/1000 [12:39:49<201:18:01, 770.12s/it]"
     ]
    },
    {
     "name": "stdout",
     "output_type": "stream",
     "text": [
      "0.968573607332546\n"
     ]
    },
    {
     "name": "stderr",
     "output_type": "stream",
     "text": [
      "  6%|█████▊                                                                                           | 60/1000 [12:53:01<202:44:05, 776.43s/it]"
     ]
    },
    {
     "name": "stdout",
     "output_type": "stream",
     "text": [
      "0.9686251744114089\n"
     ]
    },
    {
     "name": "stderr",
     "output_type": "stream",
     "text": [
      "  6%|█████▉                                                                                           | 61/1000 [13:06:03<202:57:47, 778.13s/it]"
     ]
    },
    {
     "name": "stdout",
     "output_type": "stream",
     "text": [
      "0.9677622557155409\n"
     ]
    },
    {
     "name": "stderr",
     "output_type": "stream",
     "text": [
      "  6%|██████                                                                                           | 62/1000 [13:19:01<202:44:43, 778.13s/it]"
     ]
    },
    {
     "name": "stdout",
     "output_type": "stream",
     "text": [
      "0.9682097062021567\n"
     ]
    },
    {
     "name": "stderr",
     "output_type": "stream",
     "text": [
      "  6%|██████                                                                                           | 63/1000 [13:31:54<202:07:57, 776.60s/it]"
     ]
    },
    {
     "name": "stdout",
     "output_type": "stream",
     "text": [
      "0.9681585648945077\n"
     ]
    },
    {
     "name": "stderr",
     "output_type": "stream",
     "text": [
      "  6%|██████▏                                                                                          | 64/1000 [13:44:26<200:02:37, 769.40s/it]"
     ]
    },
    {
     "name": "stdout",
     "output_type": "stream",
     "text": [
      "0.9676070929152879\n"
     ]
    },
    {
     "name": "stderr",
     "output_type": "stream",
     "text": [
      "  6%|██████▎                                                                                          | 65/1000 [13:57:11<199:26:11, 767.88s/it]"
     ]
    },
    {
     "name": "stdout",
     "output_type": "stream",
     "text": [
      "0.9682598927055719\n"
     ]
    },
    {
     "name": "stderr",
     "output_type": "stream",
     "text": [
      "  7%|██████▍                                                                                          | 66/1000 [14:09:56<199:02:05, 767.16s/it]"
     ]
    },
    {
     "name": "stdout",
     "output_type": "stream",
     "text": [
      "0.9674872103996278\n"
     ]
    },
    {
     "name": "stderr",
     "output_type": "stream",
     "text": [
      "  7%|██████▍                                                                                          | 67/1000 [14:22:55<199:41:44, 770.53s/it]"
     ]
    },
    {
     "name": "stdout",
     "output_type": "stream",
     "text": [
      "0.9677694618307094\n"
     ]
    },
    {
     "name": "stderr",
     "output_type": "stream",
     "text": [
      "  7%|██████▌                                                                                          | 68/1000 [14:35:40<199:03:17, 768.88s/it]"
     ]
    },
    {
     "name": "stdout",
     "output_type": "stream",
     "text": [
      "0.9684789585336124\n"
     ]
    },
    {
     "name": "stderr",
     "output_type": "stream",
     "text": [
      "  7%|██████▋                                                                                          | 69/1000 [14:48:58<201:05:32, 777.59s/it]"
     ]
    },
    {
     "name": "stdout",
     "output_type": "stream",
     "text": [
      "0.9682517683016658\n"
     ]
    },
    {
     "name": "stderr",
     "output_type": "stream",
     "text": [
      "  7%|██████▊                                                                                          | 70/1000 [15:01:55<200:49:41, 777.40s/it]"
     ]
    },
    {
     "name": "stdout",
     "output_type": "stream",
     "text": [
      "0.9685469789145353\n"
     ]
    },
    {
     "name": "stderr",
     "output_type": "stream",
     "text": [
      "  7%|██████▉                                                                                          | 71/1000 [15:15:14<202:19:50, 784.06s/it]"
     ]
    },
    {
     "name": "stdout",
     "output_type": "stream",
     "text": [
      "0.9685247543613217\n"
     ]
    },
    {
     "name": "stderr",
     "output_type": "stream",
     "text": [
      "  7%|██████▉                                                                                          | 72/1000 [15:28:02<200:51:05, 779.17s/it]"
     ]
    },
    {
     "name": "stdout",
     "output_type": "stream",
     "text": [
      "0.968230217765623\n"
     ]
    },
    {
     "name": "stderr",
     "output_type": "stream",
     "text": [
      "  7%|███████                                                                                          | 73/1000 [15:41:10<201:19:50, 781.87s/it]"
     ]
    },
    {
     "name": "stdout",
     "output_type": "stream",
     "text": [
      "0.9681866879709803\n"
     ]
    },
    {
     "name": "stderr",
     "output_type": "stream",
     "text": [
      "  7%|███████▏                                                                                         | 74/1000 [15:53:55<199:47:46, 776.75s/it]"
     ]
    },
    {
     "name": "stdout",
     "output_type": "stream",
     "text": [
      "0.9693011125996658\n"
     ]
    },
    {
     "name": "stderr",
     "output_type": "stream",
     "text": [
      "  8%|███████▎                                                                                         | 75/1000 [16:06:50<199:29:12, 776.38s/it]"
     ]
    },
    {
     "name": "stdout",
     "output_type": "stream",
     "text": [
      "0.96832226192873\n"
     ]
    },
    {
     "name": "stderr",
     "output_type": "stream",
     "text": [
      "  8%|███████▎                                                                                         | 76/1000 [16:20:02<200:26:42, 780.96s/it]"
     ]
    },
    {
     "name": "stdout",
     "output_type": "stream",
     "text": [
      "0.9675543361301009\n"
     ]
    },
    {
     "name": "stderr",
     "output_type": "stream",
     "text": [
      "  8%|███████▍                                                                                         | 77/1000 [16:32:50<199:13:31, 777.04s/it]"
     ]
    },
    {
     "name": "stdout",
     "output_type": "stream",
     "text": [
      "0.9688643407984846\n"
     ]
    },
    {
     "name": "stderr",
     "output_type": "stream",
     "text": [
      "  8%|███████▌                                                                                         | 78/1000 [16:45:39<198:25:03, 774.73s/it]"
     ]
    },
    {
     "name": "stdout",
     "output_type": "stream",
     "text": [
      "0.9680104846851395\n"
     ]
    },
    {
     "name": "stderr",
     "output_type": "stream",
     "text": [
      "  8%|███████▋                                                                                         | 79/1000 [16:58:42<198:50:05, 777.20s/it]"
     ]
    },
    {
     "name": "stdout",
     "output_type": "stream",
     "text": [
      "0.9673999945527219\n"
     ]
    },
    {
     "name": "stderr",
     "output_type": "stream",
     "text": [
      "  8%|███████▊                                                                                         | 80/1000 [17:11:38<198:28:51, 776.66s/it]"
     ]
    },
    {
     "name": "stdout",
     "output_type": "stream",
     "text": [
      "0.9689126073713661\n"
     ]
    },
    {
     "name": "stderr",
     "output_type": "stream",
     "text": [
      "  8%|███████▊                                                                                         | 81/1000 [17:24:27<197:41:23, 774.41s/it]"
     ]
    },
    {
     "name": "stdout",
     "output_type": "stream",
     "text": [
      "0.9676924744653335\n"
     ]
    },
    {
     "name": "stderr",
     "output_type": "stream",
     "text": [
      "  8%|███████▉                                                                                         | 82/1000 [17:36:58<195:42:15, 767.47s/it]"
     ]
    },
    {
     "name": "stdout",
     "output_type": "stream",
     "text": [
      "0.9687612884905015\n"
     ]
    },
    {
     "name": "stderr",
     "output_type": "stream",
     "text": [
      "  8%|████████                                                                                         | 83/1000 [17:49:28<194:07:33, 762.11s/it]"
     ]
    },
    {
     "name": "stdout",
     "output_type": "stream",
     "text": [
      "0.9685531821728544\n"
     ]
    },
    {
     "name": "stderr",
     "output_type": "stream",
     "text": [
      "  8%|████████▏                                                                                        | 84/1000 [18:02:15<194:20:38, 763.80s/it]"
     ]
    },
    {
     "name": "stdout",
     "output_type": "stream",
     "text": [
      "0.9686227904107584\n"
     ]
    },
    {
     "name": "stderr",
     "output_type": "stream",
     "text": [
      "  8%|████████▏                                                                                        | 85/1000 [18:15:14<195:17:16, 768.35s/it]"
     ]
    },
    {
     "name": "stdout",
     "output_type": "stream",
     "text": [
      "0.9679040199987993\n"
     ]
    },
    {
     "name": "stderr",
     "output_type": "stream",
     "text": [
      "  9%|████████▎                                                                                        | 86/1000 [18:28:07<195:23:22, 769.59s/it]"
     ]
    },
    {
     "name": "stdout",
     "output_type": "stream",
     "text": [
      "0.9676043096307512\n"
     ]
    },
    {
     "name": "stderr",
     "output_type": "stream",
     "text": [
      "  9%|████████▍                                                                                        | 87/1000 [18:40:59<195:21:02, 770.28s/it]"
     ]
    },
    {
     "name": "stdout",
     "output_type": "stream",
     "text": [
      "0.9685981744236494\n"
     ]
    },
    {
     "name": "stderr",
     "output_type": "stream",
     "text": [
      "  9%|████████▌                                                                                        | 88/1000 [18:53:37<194:14:09, 766.72s/it]"
     ]
    },
    {
     "name": "stdout",
     "output_type": "stream",
     "text": [
      "0.9683452033949246\n"
     ]
    },
    {
     "name": "stderr",
     "output_type": "stream",
     "text": [
      "  9%|████████▋                                                                                        | 89/1000 [19:06:18<193:32:41, 764.83s/it]"
     ]
    },
    {
     "name": "stdout",
     "output_type": "stream",
     "text": [
      "0.9687550839260636\n"
     ]
    },
    {
     "name": "stderr",
     "output_type": "stream",
     "text": [
      "  9%|████████▋                                                                                        | 90/1000 [19:19:23<194:51:56, 770.90s/it]"
     ]
    },
    {
     "name": "stdout",
     "output_type": "stream",
     "text": [
      "0.9691287354924663\n"
     ]
    },
    {
     "name": "stderr",
     "output_type": "stream",
     "text": [
      "  9%|████████▊                                                                                        | 91/1000 [19:32:27<195:38:44, 774.83s/it]"
     ]
    },
    {
     "name": "stdout",
     "output_type": "stream",
     "text": [
      "0.9682660581171731\n"
     ]
    },
    {
     "name": "stderr",
     "output_type": "stream",
     "text": [
      "  9%|████████▉                                                                                        | 92/1000 [19:45:32<196:12:46, 777.94s/it]"
     ]
    },
    {
     "name": "stdout",
     "output_type": "stream",
     "text": [
      "0.9683159250717184\n"
     ]
    },
    {
     "name": "stderr",
     "output_type": "stream",
     "text": [
      "  9%|█████████                                                                                        | 93/1000 [19:58:06<194:12:51, 770.86s/it]"
     ]
    },
    {
     "name": "stdout",
     "output_type": "stream",
     "text": [
      "0.9685063481935585\n"
     ]
    },
    {
     "name": "stderr",
     "output_type": "stream",
     "text": [
      "  9%|█████████                                                                                        | 94/1000 [20:10:31<192:03:32, 763.15s/it]"
     ]
    },
    {
     "name": "stdout",
     "output_type": "stream",
     "text": [
      "0.9677087002106567\n"
     ]
    },
    {
     "name": "stderr",
     "output_type": "stream",
     "text": [
      " 10%|█████████▏                                                                                       | 95/1000 [20:23:23<192:29:58, 765.74s/it]"
     ]
    },
    {
     "name": "stdout",
     "output_type": "stream",
     "text": [
      "0.968421957497236\n"
     ]
    },
    {
     "name": "stderr",
     "output_type": "stream",
     "text": [
      " 10%|█████████▎                                                                                       | 96/1000 [20:36:11<192:24:59, 766.26s/it]"
     ]
    },
    {
     "name": "stdout",
     "output_type": "stream",
     "text": [
      "0.9680034396826783\n"
     ]
    },
    {
     "name": "stderr",
     "output_type": "stream",
     "text": [
      " 10%|█████████▍                                                                                       | 97/1000 [20:48:47<191:29:11, 763.40s/it]"
     ]
    },
    {
     "name": "stdout",
     "output_type": "stream",
     "text": [
      "0.9670948508792525\n"
     ]
    },
    {
     "name": "stderr",
     "output_type": "stream",
     "text": [
      " 10%|█████████▌                                                                                       | 98/1000 [21:01:19<190:24:08, 759.92s/it]"
     ]
    },
    {
     "name": "stdout",
     "output_type": "stream",
     "text": [
      "0.9689572784802495\n"
     ]
    },
    {
     "name": "stderr",
     "output_type": "stream",
     "text": [
      " 10%|█████████▌                                                                                       | 99/1000 [21:14:14<191:16:55, 764.28s/it]"
     ]
    },
    {
     "name": "stdout",
     "output_type": "stream",
     "text": [
      "0.9679711011575889\n"
     ]
    },
    {
     "name": "stderr",
     "output_type": "stream",
     "text": [
      " 10%|█████████▌                                                                                      | 100/1000 [21:27:03<191:25:20, 765.69s/it]"
     ]
    },
    {
     "name": "stdout",
     "output_type": "stream",
     "text": [
      "0.9674915699329893\n"
     ]
    },
    {
     "name": "stderr",
     "output_type": "stream",
     "text": [
      " 10%|█████████▋                                                                                      | 101/1000 [21:39:35<190:13:07, 761.72s/it]"
     ]
    },
    {
     "name": "stdout",
     "output_type": "stream",
     "text": [
      "0.9678514584623056\n"
     ]
    },
    {
     "name": "stderr",
     "output_type": "stream",
     "text": [
      " 10%|█████████▋                                                                                      | 101/1000 [21:43:50<193:25:32, 774.56s/it]\n"
     ]
    },
    {
     "ename": "KeyboardInterrupt",
     "evalue": "",
     "output_type": "error",
     "traceback": [
      "\u001b[0;31m---------------------------------------------------------------------------\u001b[0m",
      "\u001b[0;31mKeyboardInterrupt\u001b[0m                         Traceback (most recent call last)",
      "\u001b[0;32m/tmp/ipykernel_39963/387396694.py\u001b[0m in \u001b[0;36m<module>\u001b[0;34m\u001b[0m\n\u001b[1;32m      1\u001b[0m \u001b[0mres\u001b[0m \u001b[0;34m=\u001b[0m \u001b[0;34m[\u001b[0m\u001b[0;34m]\u001b[0m\u001b[0;34m\u001b[0m\u001b[0;34m\u001b[0m\u001b[0m\n\u001b[1;32m      2\u001b[0m \u001b[0;32mfor\u001b[0m \u001b[0mi\u001b[0m \u001b[0;32min\u001b[0m \u001b[0mtqdm\u001b[0m\u001b[0;34m(\u001b[0m\u001b[0mrange\u001b[0m\u001b[0;34m(\u001b[0m\u001b[0;36m1000\u001b[0m\u001b[0;34m)\u001b[0m\u001b[0;34m)\u001b[0m\u001b[0;34m:\u001b[0m\u001b[0;34m\u001b[0m\u001b[0;34m\u001b[0m\u001b[0m\n\u001b[0;32m----> 3\u001b[0;31m     \u001b[0midx\u001b[0m \u001b[0;34m=\u001b[0m \u001b[0mresample\u001b[0m\u001b[0;34m(\u001b[0m\u001b[0mnp\u001b[0m\u001b[0;34m.\u001b[0m\u001b[0marange\u001b[0m\u001b[0;34m(\u001b[0m\u001b[0mdf2\u001b[0m\u001b[0;34m[\u001b[0m\u001b[0;34m'Y_pred_acceptor'\u001b[0m\u001b[0;34m]\u001b[0m\u001b[0;34m.\u001b[0m\u001b[0mshape\u001b[0m\u001b[0;34m[\u001b[0m\u001b[0;36m0\u001b[0m\u001b[0;34m]\u001b[0m\u001b[0;34m)\u001b[0m\u001b[0;34m,\u001b[0m \u001b[0mstratify\u001b[0m\u001b[0;34m=\u001b[0m\u001b[0mdf2\u001b[0m\u001b[0;34m[\u001b[0m\u001b[0;34m'Y_true_acceptor'\u001b[0m\u001b[0;34m]\u001b[0m\u001b[0;34m+\u001b[0m\u001b[0;36m2\u001b[0m\u001b[0;34m*\u001b[0m\u001b[0mdf2\u001b[0m\u001b[0;34m[\u001b[0m\u001b[0;34m'Y_true_donor'\u001b[0m\u001b[0;34m]\u001b[0m\u001b[0;34m)\u001b[0m\u001b[0;34m\u001b[0m\u001b[0;34m\u001b[0m\u001b[0m\n\u001b[0m\u001b[1;32m      4\u001b[0m     \u001b[0mx\u001b[0m \u001b[0;34m=\u001b[0m \u001b[0maverage_precision_score\u001b[0m\u001b[0;34m(\u001b[0m\u001b[0mdf2\u001b[0m\u001b[0;34m[\u001b[0m\u001b[0;34m'Y_true_acceptor'\u001b[0m\u001b[0;34m]\u001b[0m\u001b[0;34m.\u001b[0m\u001b[0mvalues\u001b[0m\u001b[0;34m[\u001b[0m\u001b[0midx\u001b[0m\u001b[0;34m]\u001b[0m\u001b[0;34m+\u001b[0m\u001b[0mdf2\u001b[0m\u001b[0;34m[\u001b[0m\u001b[0;34m'Y_true_donor'\u001b[0m\u001b[0;34m]\u001b[0m\u001b[0;34m.\u001b[0m\u001b[0mvalues\u001b[0m\u001b[0;34m[\u001b[0m\u001b[0midx\u001b[0m\u001b[0;34m]\u001b[0m\u001b[0;34m,\u001b[0m\u001b[0mdf2\u001b[0m\u001b[0;34m[\u001b[0m\u001b[0;34m'Y_pred_acceptor'\u001b[0m\u001b[0;34m]\u001b[0m\u001b[0;34m.\u001b[0m\u001b[0mvalues\u001b[0m\u001b[0;34m[\u001b[0m\u001b[0midx\u001b[0m\u001b[0;34m]\u001b[0m\u001b[0;34m+\u001b[0m\u001b[0mdf2\u001b[0m\u001b[0;34m[\u001b[0m\u001b[0;34m'Y_pred_donor'\u001b[0m\u001b[0;34m]\u001b[0m\u001b[0;34m.\u001b[0m\u001b[0mvalues\u001b[0m\u001b[0;34m[\u001b[0m\u001b[0midx\u001b[0m\u001b[0;34m]\u001b[0m\u001b[0;34m)\u001b[0m\u001b[0;34m\u001b[0m\u001b[0;34m\u001b[0m\u001b[0m\n\u001b[1;32m      5\u001b[0m     \u001b[0mprint\u001b[0m\u001b[0;34m(\u001b[0m\u001b[0mx\u001b[0m\u001b[0;34m)\u001b[0m\u001b[0;34m\u001b[0m\u001b[0;34m\u001b[0m\u001b[0m\n",
      "\u001b[0;32m~/Python3.9.1/lib/python3.9/site-packages/sklearn/utils/__init__.py\u001b[0m in \u001b[0;36mresample\u001b[0;34m(replace, n_samples, random_state, stratify, *arrays)\u001b[0m\n\u001b[1;32m    556\u001b[0m     \u001b[0;31m# convert sparse matrices to CSR for row-based indexing\u001b[0m\u001b[0;34m\u001b[0m\u001b[0;34m\u001b[0m\u001b[0;34m\u001b[0m\u001b[0m\n\u001b[1;32m    557\u001b[0m     \u001b[0marrays\u001b[0m \u001b[0;34m=\u001b[0m \u001b[0;34m[\u001b[0m\u001b[0ma\u001b[0m\u001b[0;34m.\u001b[0m\u001b[0mtocsr\u001b[0m\u001b[0;34m(\u001b[0m\u001b[0;34m)\u001b[0m \u001b[0;32mif\u001b[0m \u001b[0missparse\u001b[0m\u001b[0;34m(\u001b[0m\u001b[0ma\u001b[0m\u001b[0;34m)\u001b[0m \u001b[0;32melse\u001b[0m \u001b[0ma\u001b[0m \u001b[0;32mfor\u001b[0m \u001b[0ma\u001b[0m \u001b[0;32min\u001b[0m \u001b[0marrays\u001b[0m\u001b[0;34m]\u001b[0m\u001b[0;34m\u001b[0m\u001b[0;34m\u001b[0m\u001b[0m\n\u001b[0;32m--> 558\u001b[0;31m     \u001b[0mresampled_arrays\u001b[0m \u001b[0;34m=\u001b[0m \u001b[0;34m[\u001b[0m\u001b[0m_safe_indexing\u001b[0m\u001b[0;34m(\u001b[0m\u001b[0ma\u001b[0m\u001b[0;34m,\u001b[0m \u001b[0mindices\u001b[0m\u001b[0;34m)\u001b[0m \u001b[0;32mfor\u001b[0m \u001b[0ma\u001b[0m \u001b[0;32min\u001b[0m \u001b[0marrays\u001b[0m\u001b[0;34m]\u001b[0m\u001b[0;34m\u001b[0m\u001b[0;34m\u001b[0m\u001b[0m\n\u001b[0m\u001b[1;32m    559\u001b[0m     \u001b[0;32mif\u001b[0m \u001b[0mlen\u001b[0m\u001b[0;34m(\u001b[0m\u001b[0mresampled_arrays\u001b[0m\u001b[0;34m)\u001b[0m \u001b[0;34m==\u001b[0m \u001b[0;36m1\u001b[0m\u001b[0;34m:\u001b[0m\u001b[0;34m\u001b[0m\u001b[0;34m\u001b[0m\u001b[0m\n\u001b[1;32m    560\u001b[0m         \u001b[0;31m# syntactic sugar for the unit argument case\u001b[0m\u001b[0;34m\u001b[0m\u001b[0;34m\u001b[0m\u001b[0;34m\u001b[0m\u001b[0m\n",
      "\u001b[0;32m~/Python3.9.1/lib/python3.9/site-packages/sklearn/utils/__init__.py\u001b[0m in \u001b[0;36m<listcomp>\u001b[0;34m(.0)\u001b[0m\n\u001b[1;32m    556\u001b[0m     \u001b[0;31m# convert sparse matrices to CSR for row-based indexing\u001b[0m\u001b[0;34m\u001b[0m\u001b[0;34m\u001b[0m\u001b[0;34m\u001b[0m\u001b[0m\n\u001b[1;32m    557\u001b[0m     \u001b[0marrays\u001b[0m \u001b[0;34m=\u001b[0m \u001b[0;34m[\u001b[0m\u001b[0ma\u001b[0m\u001b[0;34m.\u001b[0m\u001b[0mtocsr\u001b[0m\u001b[0;34m(\u001b[0m\u001b[0;34m)\u001b[0m \u001b[0;32mif\u001b[0m \u001b[0missparse\u001b[0m\u001b[0;34m(\u001b[0m\u001b[0ma\u001b[0m\u001b[0;34m)\u001b[0m \u001b[0;32melse\u001b[0m \u001b[0ma\u001b[0m \u001b[0;32mfor\u001b[0m \u001b[0ma\u001b[0m \u001b[0;32min\u001b[0m \u001b[0marrays\u001b[0m\u001b[0;34m]\u001b[0m\u001b[0;34m\u001b[0m\u001b[0;34m\u001b[0m\u001b[0m\n\u001b[0;32m--> 558\u001b[0;31m     \u001b[0mresampled_arrays\u001b[0m \u001b[0;34m=\u001b[0m \u001b[0;34m[\u001b[0m\u001b[0m_safe_indexing\u001b[0m\u001b[0;34m(\u001b[0m\u001b[0ma\u001b[0m\u001b[0;34m,\u001b[0m \u001b[0mindices\u001b[0m\u001b[0;34m)\u001b[0m \u001b[0;32mfor\u001b[0m \u001b[0ma\u001b[0m \u001b[0;32min\u001b[0m \u001b[0marrays\u001b[0m\u001b[0;34m]\u001b[0m\u001b[0;34m\u001b[0m\u001b[0;34m\u001b[0m\u001b[0m\n\u001b[0m\u001b[1;32m    559\u001b[0m     \u001b[0;32mif\u001b[0m \u001b[0mlen\u001b[0m\u001b[0;34m(\u001b[0m\u001b[0mresampled_arrays\u001b[0m\u001b[0;34m)\u001b[0m \u001b[0;34m==\u001b[0m \u001b[0;36m1\u001b[0m\u001b[0;34m:\u001b[0m\u001b[0;34m\u001b[0m\u001b[0;34m\u001b[0m\u001b[0m\n\u001b[1;32m    560\u001b[0m         \u001b[0;31m# syntactic sugar for the unit argument case\u001b[0m\u001b[0;34m\u001b[0m\u001b[0;34m\u001b[0m\u001b[0;34m\u001b[0m\u001b[0m\n",
      "\u001b[0;32m~/Python3.9.1/lib/python3.9/site-packages/sklearn/utils/__init__.py\u001b[0m in \u001b[0;36m_safe_indexing\u001b[0;34m(X, indices, axis)\u001b[0m\n\u001b[1;32m    342\u001b[0m         \u001b[0;32mreturn\u001b[0m \u001b[0m_pandas_indexing\u001b[0m\u001b[0;34m(\u001b[0m\u001b[0mX\u001b[0m\u001b[0;34m,\u001b[0m \u001b[0mindices\u001b[0m\u001b[0;34m,\u001b[0m \u001b[0mindices_dtype\u001b[0m\u001b[0;34m,\u001b[0m \u001b[0maxis\u001b[0m\u001b[0;34m=\u001b[0m\u001b[0maxis\u001b[0m\u001b[0;34m)\u001b[0m\u001b[0;34m\u001b[0m\u001b[0;34m\u001b[0m\u001b[0m\n\u001b[1;32m    343\u001b[0m     \u001b[0;32melif\u001b[0m \u001b[0mhasattr\u001b[0m\u001b[0;34m(\u001b[0m\u001b[0mX\u001b[0m\u001b[0;34m,\u001b[0m \u001b[0;34m\"shape\"\u001b[0m\u001b[0;34m)\u001b[0m\u001b[0;34m:\u001b[0m\u001b[0;34m\u001b[0m\u001b[0;34m\u001b[0m\u001b[0m\n\u001b[0;32m--> 344\u001b[0;31m         \u001b[0;32mreturn\u001b[0m \u001b[0m_array_indexing\u001b[0m\u001b[0;34m(\u001b[0m\u001b[0mX\u001b[0m\u001b[0;34m,\u001b[0m \u001b[0mindices\u001b[0m\u001b[0;34m,\u001b[0m \u001b[0mindices_dtype\u001b[0m\u001b[0;34m,\u001b[0m \u001b[0maxis\u001b[0m\u001b[0;34m=\u001b[0m\u001b[0maxis\u001b[0m\u001b[0;34m)\u001b[0m\u001b[0;34m\u001b[0m\u001b[0;34m\u001b[0m\u001b[0m\n\u001b[0m\u001b[1;32m    345\u001b[0m     \u001b[0;32melse\u001b[0m\u001b[0;34m:\u001b[0m\u001b[0;34m\u001b[0m\u001b[0;34m\u001b[0m\u001b[0m\n\u001b[1;32m    346\u001b[0m         \u001b[0;32mreturn\u001b[0m \u001b[0m_list_indexing\u001b[0m\u001b[0;34m(\u001b[0m\u001b[0mX\u001b[0m\u001b[0;34m,\u001b[0m \u001b[0mindices\u001b[0m\u001b[0;34m,\u001b[0m \u001b[0mindices_dtype\u001b[0m\u001b[0;34m)\u001b[0m\u001b[0;34m\u001b[0m\u001b[0;34m\u001b[0m\u001b[0m\n",
      "\u001b[0;32m~/Python3.9.1/lib/python3.9/site-packages/sklearn/utils/__init__.py\u001b[0m in \u001b[0;36m_array_indexing\u001b[0;34m(array, key, key_dtype, axis)\u001b[0m\n\u001b[1;32m    177\u001b[0m     \u001b[0;32mif\u001b[0m \u001b[0misinstance\u001b[0m\u001b[0;34m(\u001b[0m\u001b[0mkey\u001b[0m\u001b[0;34m,\u001b[0m \u001b[0mtuple\u001b[0m\u001b[0;34m)\u001b[0m\u001b[0;34m:\u001b[0m\u001b[0;34m\u001b[0m\u001b[0;34m\u001b[0m\u001b[0m\n\u001b[1;32m    178\u001b[0m         \u001b[0mkey\u001b[0m \u001b[0;34m=\u001b[0m \u001b[0mlist\u001b[0m\u001b[0;34m(\u001b[0m\u001b[0mkey\u001b[0m\u001b[0;34m)\u001b[0m\u001b[0;34m\u001b[0m\u001b[0;34m\u001b[0m\u001b[0m\n\u001b[0;32m--> 179\u001b[0;31m     \u001b[0;32mreturn\u001b[0m \u001b[0marray\u001b[0m\u001b[0;34m[\u001b[0m\u001b[0mkey\u001b[0m\u001b[0;34m]\u001b[0m \u001b[0;32mif\u001b[0m \u001b[0maxis\u001b[0m \u001b[0;34m==\u001b[0m \u001b[0;36m0\u001b[0m \u001b[0;32melse\u001b[0m \u001b[0marray\u001b[0m\u001b[0;34m[\u001b[0m\u001b[0;34m:\u001b[0m\u001b[0;34m,\u001b[0m \u001b[0mkey\u001b[0m\u001b[0;34m]\u001b[0m\u001b[0;34m\u001b[0m\u001b[0;34m\u001b[0m\u001b[0m\n\u001b[0m\u001b[1;32m    180\u001b[0m \u001b[0;34m\u001b[0m\u001b[0m\n\u001b[1;32m    181\u001b[0m \u001b[0;34m\u001b[0m\u001b[0m\n",
      "\u001b[0;31mKeyboardInterrupt\u001b[0m: "
     ]
    }
   ],
   "source": [
    "res = []\n",
    "for i in tqdm(range(1000)):\n",
    "    idx = resample(np.arange(df2['Y_pred_acceptor'].shape[0]), stratify=df2['Y_true_acceptor']+2*df2['Y_true_donor'])\n",
    "    x = average_precision_score(df2['Y_true_acceptor'].values[idx]+df2['Y_true_donor'].values[idx],df2['Y_pred_acceptor'].values[idx]+df2['Y_pred_donor'].values[idx])\n",
    "    print(x)\n",
    "    res.append(x)"
   ]
  },
  {
   "cell_type": "code",
   "execution_count": 53,
   "id": "04a77621",
   "metadata": {},
   "outputs": [
    {
     "name": "stdout",
     "output_type": "stream",
     "text": [
      "PR_AUC 95% confidence interval:  [0.96730015 0.96893494]\n"
     ]
    },
    {
     "data": {
      "image/png": "[encoded data removed]",
      "text/plain": [
       "<Figure size 432x288 with 1 Axes>"
      ]
     },
     "metadata": {
      "needs_background": "light"
     },
     "output_type": "display_data"
    }
   ],
   "source": [
    "plt.hist(res,bins=30)\n",
    "plt.axvline(x=np.percentile(res,[2.5]), ymin=0, ymax=1,label='2.5th percentile',c='y')\n",
    "plt.axvline(x=np.percentile(res,[97.5]), ymin=0, ymax=1,label='97.5th percentile',c='r')\n",
    "conf_interval = np.percentile(res,[2.5,97.5])\n",
    "\n",
    "# Print the interval\n",
    "print(\"PR_AUC 95% confidence interval: \",conf_interval)\n",
    "plt.show()"
   ]
  }
 ],
 "metadata": {
  "kernelspec": {
   "display_name": "Python 3 (ipykernel)",
   "language": "python",
   "name": "python3"
  },
  "language_info": {
   "codemirror_mode": {
    "name": "ipython",
    "version": 3
   },
   "file_extension": ".py",
   "mimetype": "text/x-python",
   "name": "python",
   "nbconvert_exporter": "python",
   "pygments_lexer": "ipython3",
   "version": "3.11.8"
  }
 },
 "nbformat": 4,
 "nbformat_minor": 5
}
