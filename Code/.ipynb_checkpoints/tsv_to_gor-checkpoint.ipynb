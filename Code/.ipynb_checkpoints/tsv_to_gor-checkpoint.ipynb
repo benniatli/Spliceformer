{
 "cells": [
  {
   "cell_type": "code",
   "execution_count": 1,
   "id": "fc10107a",
   "metadata": {},
   "outputs": [],
   "source": [
    "import pandas as pd"
   ]
  },
  {
   "cell_type": "code",
   "execution_count": 6,
   "id": "5f1bf033",
   "metadata": {},
   "outputs": [
    {
     "name": "stderr",
     "output_type": "stream",
     "text": [
      "/home/benediktj/Python3.9.1/lib/python3.9/site-packages/IPython/core/interactiveshell.py:3441: DtypeWarning: Columns (0) have mixed types.Specify dtype option on import or set low_memory=False.\n",
      "  exec(code_obj, self.user_global_ns, self.user_ns)\n"
     ]
    }
   ],
   "source": [
    "df = pd.read_csv('/odinn/groups/machinelearning/genomics/data/SpliceAI_scores/spliceai_scores.raw.snv.hg38.Over02.tsv',sep=' ',header=None)"
   ]
  },
  {
   "cell_type": "code",
   "execution_count": 9,
   "id": "c7d01c2d",
   "metadata": {},
   "outputs": [],
   "source": [
    "df.columns = ['chr','pos','ref','alt','info']"
   ]
  },
  {
   "cell_type": "code",
   "execution_count": 13,
   "id": "bac346b0",
   "metadata": {},
   "outputs": [],
   "source": [
    "df['chr'] = 'chr'+df['chr'].astype(str)"
   ]
  },
  {
   "cell_type": "code",
   "execution_count": 16,
   "id": "59c6f329",
   "metadata": {},
   "outputs": [
    {
     "data": {
      "text/html": [
       "<div>\n",
       "<style scoped>\n",
       "    .dataframe tbody tr th:only-of-type {\n",
       "        vertical-align: middle;\n",
       "    }\n",
       "\n",
       "    .dataframe tbody tr th {\n",
       "        vertical-align: top;\n",
       "    }\n",
       "\n",
       "    .dataframe thead th {\n",
       "        text-align: right;\n",
       "    }\n",
       "</style>\n",
       "<table border=\"1\" class=\"dataframe\">\n",
       "  <thead>\n",
       "    <tr style=\"text-align: right;\">\n",
       "      <th></th>\n",
       "      <th>chr</th>\n",
       "      <th>pos</th>\n",
       "      <th>ref</th>\n",
       "      <th>alt</th>\n",
       "      <th>info</th>\n",
       "    </tr>\n",
       "  </thead>\n",
       "  <tbody>\n",
       "    <tr>\n",
       "      <th>0</th>\n",
       "      <td>chr1</td>\n",
       "      <td>69092</td>\n",
       "      <td>T</td>\n",
       "      <td>A</td>\n",
       "      <td>SpliceAI=A|OR4F5|0.00|0.05|0.22|0.08|2|41|1|23</td>\n",
       "    </tr>\n",
       "    <tr>\n",
       "      <th>1</th>\n",
       "      <td>chr1</td>\n",
       "      <td>69093</td>\n",
       "      <td>G</td>\n",
       "      <td>A</td>\n",
       "      <td>SpliceAI=A|OR4F5|0.00|0.02|0.01|0.31|2|40|40|0</td>\n",
       "    </tr>\n",
       "    <tr>\n",
       "      <th>2</th>\n",
       "      <td>chr1</td>\n",
       "      <td>69093</td>\n",
       "      <td>G</td>\n",
       "      <td>C</td>\n",
       "      <td>SpliceAI=C|OR4F5|0.00|0.01|0.02|0.35|49|40|22|0</td>\n",
       "    </tr>\n",
       "    <tr>\n",
       "      <th>3</th>\n",
       "      <td>chr1</td>\n",
       "      <td>69093</td>\n",
       "      <td>G</td>\n",
       "      <td>T</td>\n",
       "      <td>SpliceAI=T|OR4F5|0.00|0.01|0.02|0.32|49|40|40|0</td>\n",
       "    </tr>\n",
       "    <tr>\n",
       "      <th>4</th>\n",
       "      <td>chr1</td>\n",
       "      <td>69094</td>\n",
       "      <td>G</td>\n",
       "      <td>A</td>\n",
       "      <td>SpliceAI=A|OR4F5|0.00|0.01|0.02|0.40|48|39|39|-1</td>\n",
       "    </tr>\n",
       "    <tr>\n",
       "      <th>...</th>\n",
       "      <td>...</td>\n",
       "      <td>...</td>\n",
       "      <td>...</td>\n",
       "      <td>...</td>\n",
       "      <td>...</td>\n",
       "    </tr>\n",
       "    <tr>\n",
       "      <th>19194586</th>\n",
       "      <td>chrY</td>\n",
       "      <td>25968511</td>\n",
       "      <td>T</td>\n",
       "      <td>A</td>\n",
       "      <td>SpliceAI=A|AC007965.1|0.00|0.00|0.25|0.04|2|-1...</td>\n",
       "    </tr>\n",
       "    <tr>\n",
       "      <th>19194587</th>\n",
       "      <td>chrY</td>\n",
       "      <td>25968636</td>\n",
       "      <td>A</td>\n",
       "      <td>T</td>\n",
       "      <td>SpliceAI=T|AC007965.1|0.00|0.00|0.27|0.00|4|-2...</td>\n",
       "    </tr>\n",
       "    <tr>\n",
       "      <th>19194588</th>\n",
       "      <td>chrY</td>\n",
       "      <td>25968640</td>\n",
       "      <td>G</td>\n",
       "      <td>C</td>\n",
       "      <td>SpliceAI=C|AC007965.1|0.00|0.00|0.42|0.00|0|-3...</td>\n",
       "    </tr>\n",
       "    <tr>\n",
       "      <th>19194589</th>\n",
       "      <td>chrY</td>\n",
       "      <td>25968651</td>\n",
       "      <td>T</td>\n",
       "      <td>C</td>\n",
       "      <td>SpliceAI=C|AC007965.1|0.00|0.00|0.25|0.03|1|25...</td>\n",
       "    </tr>\n",
       "    <tr>\n",
       "      <th>19194590</th>\n",
       "      <td>chrY</td>\n",
       "      <td>25968694</td>\n",
       "      <td>G</td>\n",
       "      <td>C</td>\n",
       "      <td>SpliceAI=C|AC007965.1|0.00|0.00|0.38|0.00|1|11...</td>\n",
       "    </tr>\n",
       "  </tbody>\n",
       "</table>\n",
       "<p>19194591 rows × 5 columns</p>\n",
       "</div>"
      ],
      "text/plain": [
       "           chr       pos ref alt  \\\n",
       "0         chr1     69092   T   A   \n",
       "1         chr1     69093   G   A   \n",
       "2         chr1     69093   G   C   \n",
       "3         chr1     69093   G   T   \n",
       "4         chr1     69094   G   A   \n",
       "...        ...       ...  ..  ..   \n",
       "19194586  chrY  25968511   T   A   \n",
       "19194587  chrY  25968636   A   T   \n",
       "19194588  chrY  25968640   G   C   \n",
       "19194589  chrY  25968651   T   C   \n",
       "19194590  chrY  25968694   G   C   \n",
       "\n",
       "                                                       info  \n",
       "0            SpliceAI=A|OR4F5|0.00|0.05|0.22|0.08|2|41|1|23  \n",
       "1            SpliceAI=A|OR4F5|0.00|0.02|0.01|0.31|2|40|40|0  \n",
       "2           SpliceAI=C|OR4F5|0.00|0.01|0.02|0.35|49|40|22|0  \n",
       "3           SpliceAI=T|OR4F5|0.00|0.01|0.02|0.32|49|40|40|0  \n",
       "4          SpliceAI=A|OR4F5|0.00|0.01|0.02|0.40|48|39|39|-1  \n",
       "...                                                     ...  \n",
       "19194586  SpliceAI=A|AC007965.1|0.00|0.00|0.25|0.04|2|-1...  \n",
       "19194587  SpliceAI=T|AC007965.1|0.00|0.00|0.27|0.00|4|-2...  \n",
       "19194588  SpliceAI=C|AC007965.1|0.00|0.00|0.42|0.00|0|-3...  \n",
       "19194589  SpliceAI=C|AC007965.1|0.00|0.00|0.25|0.03|1|25...  \n",
       "19194590  SpliceAI=C|AC007965.1|0.00|0.00|0.38|0.00|1|11...  \n",
       "\n",
       "[19194591 rows x 5 columns]"
      ]
     },
     "execution_count": 16,
     "metadata": {},
     "output_type": "execute_result"
    }
   ],
   "source": [
    "df"
   ]
  },
  {
   "cell_type": "code",
   "execution_count": 15,
   "id": "6c52bdea",
   "metadata": {},
   "outputs": [],
   "source": [
    "df.sort_values(['chr','pos','ref','alt']).to_csv('/odinn/groups/machinelearning/genomics/data/SpliceAI_scores/spliceai_scores.raw.snv.hg38.Over02.gor',sep='\\t',index=False)"
   ]
  }
 ],
 "metadata": {
  "kernelspec": {
   "display_name": "Python 3 (ipykernel)",
   "language": "python",
   "name": "python3"
  },
  "language_info": {
   "codemirror_mode": {
    "name": "ipython",
    "version": 3
   },
   "file_extension": ".py",
   "mimetype": "text/x-python",
   "name": "python",
   "nbconvert_exporter": "python",
   "pygments_lexer": "ipython3",
   "version": "3.9.1"
  }
 },
 "nbformat": 4,
 "nbformat_minor": 5
}
