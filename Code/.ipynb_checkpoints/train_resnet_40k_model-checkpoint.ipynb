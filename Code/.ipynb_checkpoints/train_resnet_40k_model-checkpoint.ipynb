{
 "cells": [
  {
   "cell_type": "code",
   "execution_count": 1,
   "metadata": {},
   "outputs": [],
   "source": [
    "import numpy as np\n",
    "import sys\n",
    "import time\n",
    "import h5py\n",
    "from tqdm import tqdm\n",
    "\n",
    "import numpy as np\n",
    "import re\n",
    "from math import ceil\n",
    "from sklearn.metrics import average_precision_score\n",
    "from torch.utils.data import Dataset\n",
    "import torch\n",
    "import torch.nn as nn\n",
    "import pandas as pd\n",
    "import matplotlib.pyplot as plt\n",
    "import pickle\n",
    "#import pickle5 as pickle\n",
    "\n",
    "from sklearn.model_selection import train_test_split\n",
    "\n",
    "from scipy.sparse import load_npz\n",
    "from glob import glob\n",
    "\n",
    "from transformers import get_constant_schedule_with_warmup\n",
    "from sklearn.metrics import precision_score,recall_score,accuracy_score\n",
    "import copy\n",
    "\n",
    "from src.train import trainModel\n",
    "from src.dataloader import getData,spliceDataset,h5pyDataset,collate_fn\n",
    "from src.weight_init import keras_init\n",
    "from src.losses import categorical_crossentropy_2d\n",
    "from src.models import ResNet_40K\n",
    "from src.evaluation_metrics import print_topl_statistics,cross_entropy_2d"
   ]
  },
  {
   "cell_type": "code",
   "execution_count": 2,
   "metadata": {},
   "outputs": [
    {
     "name": "stdout",
     "output_type": "stream",
     "text": [
      "Wed Jul  6 13:29:31 2022       \r\n",
      "+-----------------------------------------------------------------------------+\r\n",
      "| NVIDIA-SMI 465.19.01    Driver Version: 465.19.01    CUDA Version: 11.3     |\r\n",
      "|-------------------------------+----------------------+----------------------+\r\n",
      "| GPU  Name        Persistence-M| Bus-Id        Disp.A | Volatile Uncorr. ECC |\r\n",
      "| Fan  Temp  Perf  Pwr:Usage/Cap|         Memory-Usage | GPU-Util  Compute M. |\r\n",
      "|                               |                      |               MIG M. |\r\n",
      "|===============================+======================+======================|\r\n",
      "|   0  NVIDIA Tesla V1...  Off  | 00000000:5E:00.0 Off |                    0 |\r\n",
      "| N/A   50C    P0    36W / 250W |      0MiB / 32510MiB |      0%      Default |\r\n",
      "|                               |                      |                  N/A |\r\n",
      "+-------------------------------+----------------------+----------------------+\r\n",
      "|   1  NVIDIA Tesla V1...  Off  | 00000000:86:00.0 Off |                    0 |\r\n",
      "| N/A   50C    P0    36W / 250W |      0MiB / 32510MiB |      2%      Default |\r\n",
      "|                               |                      |                  N/A |\r\n",
      "+-------------------------------+----------------------+----------------------+\r\n",
      "                                                                               \r\n",
      "+-----------------------------------------------------------------------------+\r\n",
      "| Processes:                                                                  |\r\n",
      "|  GPU   GI   CI        PID   Type   Process name                  GPU Memory |\r\n",
      "|        ID   ID                                                   Usage      |\r\n",
      "|=============================================================================|\r\n",
      "|  No running processes found                                                 |\r\n",
      "+-----------------------------------------------------------------------------+\r\n"
     ]
    }
   ],
   "source": [
    "!nvidia-smi"
   ]
  },
  {
   "cell_type": "code",
   "execution_count": 3,
   "metadata": {},
   "outputs": [],
   "source": [
    "rng = np.random.default_rng(23673)"
   ]
  },
  {
   "cell_type": "code",
   "execution_count": 4,
   "metadata": {},
   "outputs": [],
   "source": [
    "###############################################################################\n",
    "# Model\n",
    "###############################################################################\n",
    "\n",
    "L = 32\n",
    "N_GPUS = 8\n",
    "k = 2\n",
    "\n",
    "# Hyper-parameters:\n",
    "# L: Number of convolution kernels\n",
    "# W: Convolution window size in each residual unit\n",
    "# AR: Atrous rate in each residual unit\n",
    "W = np.asarray([11, 11, 11, 11, 11, 11, 11, 11,\n",
    "                21, 21, 21, 21, 41, 41, 41, 41, 51, 51, 51, 51])\n",
    "AR = np.asarray([1, 1, 1, 1, 4, 4, 4, 4,\n",
    "                 10, 10, 10, 10, 25, 25, 25, 25, 75, 75, 75, 75])\n",
    "BATCH_SIZE = 6*k*N_GPUS\n",
    "\n",
    "CL = 2 * np.sum(AR*(W-1))"
   ]
  },
  {
   "cell_type": "code",
   "execution_count": 5,
   "metadata": {},
   "outputs": [],
   "source": [
    "data_dir = '../Data'\n",
    "setType = 'train'\n",
    "\n",
    "annotation, transcriptToLabel, seqData = getData(data_dir, setType)"
   ]
  },
  {
   "cell_type": "code",
   "execution_count": 6,
   "metadata": {},
   "outputs": [],
   "source": [
    "CL_max=40000\n",
    "# Maximum nucleotide context length (CL_max/2 on either side of the \n",
    "# position of interest)\n",
    "# CL_max should be an even number\n",
    "SL=5000"
   ]
  },
  {
   "cell_type": "code",
   "execution_count": 7,
   "metadata": {},
   "outputs": [],
   "source": [
    "assert CL_max % 2 == 0"
   ]
  },
  {
   "cell_type": "code",
   "execution_count": 8,
   "metadata": {},
   "outputs": [],
   "source": [
    "train_gene, validation_gene = train_test_split(annotation['gene'].drop_duplicates(),test_size=.1,random_state=435)\n",
    "annotation_train = annotation[annotation['gene'].isin(train_gene)]\n",
    "annotation_validation = annotation[annotation['gene'].isin(validation_gene)]"
   ]
  },
  {
   "cell_type": "code",
   "execution_count": 9,
   "metadata": {
    "scrolled": true
   },
   "outputs": [],
   "source": [
    "train_dataset = spliceDataset(annotation_train,transcriptToLabel,SL,CL_max)\n",
    "val_dataset = spliceDataset(annotation_validation,transcriptToLabel,SL,CL_max)\n",
    "train_dataset.seqData = seqData\n",
    "val_dataset.seqData = seqData\n",
    "\n",
    "train_loader = torch.utils.data.DataLoader(train_dataset, batch_size=k*100, shuffle=True, num_workers=16,collate_fn=collate_fn, pin_memory=True)\n",
    "val_loader = torch.utils.data.DataLoader(val_dataset, batch_size=k*100, shuffle=False,collate_fn=collate_fn, num_workers=16)"
   ]
  },
  {
   "cell_type": "code",
   "execution_count": 10,
   "metadata": {
    "scrolled": true
   },
   "outputs": [
    {
     "name": "stderr",
     "output_type": "stream",
     "text": [
      "Epoch (train) 1/10: 100%|█| 101/101 [40:02<00:00, 23.78s/it, accepor_recall=0.871, donor_recall=0.876, los\n"
     ]
    },
    {
     "name": "stdout",
     "output_type": "stream",
     "text": [
      "epoch: 1/10, train loss = 0.008171\n"
     ]
    },
    {
     "name": "stderr",
     "output_type": "stream",
     "text": [
      "Epoch (val) 1/10: 100%|█| 12/12 [02:57<00:00, 14.76s/it, accepor_recall=0.945, donor_recall=0.923, loss=0.\n"
     ]
    },
    {
     "name": "stdout",
     "output_type": "stream",
     "text": [
      "\n",
      "\u001b[1mAcceptor:\u001b[0m\n",
      "0.9486\t0.8245\t0.9548\t0.9812\t0.8804\t0.9961000084877014\t0.9563000202178955\t0.4564000070095062\t0.0681999996304512\t21432\n",
      "\n",
      "\u001b[1mDonor:\u001b[0m\n",
      "0.9422\t0.8314\t0.9635\t0.9867\t0.8839\t0.9757999777793884\t0.8389000296592712\t0.17569999396800995\t0.017400000244379044\t21432\n",
      "epoch: 1/10, val loss = 0.000729\n"
     ]
    },
    {
     "name": "stderr",
     "output_type": "stream",
     "text": [
      "Epoch (train) 2/10: 100%|█| 101/101 [39:17<00:00, 23.34s/it, accepor_recall=0.893, donor_recall=0.907, los\n"
     ]
    },
    {
     "name": "stdout",
     "output_type": "stream",
     "text": [
      "epoch: 2/10, train loss = 0.000191\n"
     ]
    },
    {
     "name": "stderr",
     "output_type": "stream",
     "text": [
      "Epoch (val) 2/10: 100%|█| 12/12 [02:45<00:00, 13.77s/it, accepor_recall=0.918, donor_recall=0.889, loss=0.\n"
     ]
    },
    {
     "name": "stdout",
     "output_type": "stream",
     "text": [
      "\n",
      "\u001b[1mAcceptor:\u001b[0m\n",
      "0.9698\t0.8998\t0.9816\t0.9911\t0.9381\t0.986299991607666\t0.6288999915122986\t0.0142000000923872\t0.0017000000225380063\t21432\n",
      "\n",
      "\u001b[1mDonor:\u001b[0m\n",
      "0.9659\t0.8923\t0.9855\t0.9925\t0.9367\t0.9535999894142151\t0.48159998655319214\t0.008799999952316284\t0.0010000000474974513\t21432\n",
      "epoch: 2/10, val loss = 0.000236\n"
     ]
    },
    {
     "name": "stderr",
     "output_type": "stream",
     "text": [
      "Epoch (train) 3/10: 100%|█| 101/101 [38:58<00:00, 23.15s/it, accepor_recall=0.906, donor_recall=0.912, los\n"
     ]
    },
    {
     "name": "stdout",
     "output_type": "stream",
     "text": [
      "epoch: 3/10, train loss = 0.000172\n"
     ]
    },
    {
     "name": "stderr",
     "output_type": "stream",
     "text": [
      "Epoch (val) 3/10: 100%|█| 12/12 [02:53<00:00, 14.48s/it, accepor_recall=0.925, donor_recall=0.908, loss=0.\n"
     ]
    },
    {
     "name": "stdout",
     "output_type": "stream",
     "text": [
      "\n",
      "\u001b[1mAcceptor:\u001b[0m\n",
      "0.971\t0.8991\t0.9823\t0.9914\t0.9386\t0.9882000088691711\t0.7245000004768372\t0.02160000056028366\t0.002199999988079071\t21432\n",
      "\n",
      "\u001b[1mDonor:\u001b[0m\n",
      "0.9728\t0.9063\t0.9867\t0.9938\t0.9452\t0.9639999866485596\t0.5289999842643738\t0.01080000028014183\t0.0010999999940395355\t21432\n",
      "epoch: 3/10, val loss = 0.000234\n"
     ]
    },
    {
     "name": "stderr",
     "output_type": "stream",
     "text": [
      "Epoch (train) 4/10: 100%|█| 101/101 [38:57<00:00, 23.14s/it, accepor_recall=0.917, donor_recall=0.921, los\n"
     ]
    },
    {
     "name": "stdout",
     "output_type": "stream",
     "text": [
      "epoch: 4/10, train loss = 0.000161\n"
     ]
    },
    {
     "name": "stderr",
     "output_type": "stream",
     "text": [
      "Epoch (val) 4/10: 100%|█| 12/12 [02:56<00:00, 14.72s/it, accepor_recall=0.919, donor_recall=0.945, loss=0.\n"
     ]
    },
    {
     "name": "stdout",
     "output_type": "stream",
     "text": [
      "\n",
      "\u001b[1mAcceptor:\u001b[0m\n",
      "0.9659\t0.8683\t0.9721\t0.9878\t0.9177\t0.9761000275611877\t0.7657999992370605\t0.05469999834895134\t0.004399999976158142\t21432\n",
      "\n",
      "\u001b[1mDonor:\u001b[0m\n",
      "0.9632\t0.8646\t0.9761\t0.9904\t0.9163\t0.9887999892234802\t0.883899986743927\t0.11339999735355377\t0.008299999870359898\t21432\n",
      "epoch: 4/10, val loss = 0.000383\n"
     ]
    },
    {
     "name": "stderr",
     "output_type": "stream",
     "text": [
      "Epoch (train) 5/10: 100%|█| 101/101 [39:09<00:00, 23.26s/it, accepor_recall=0.922, donor_recall=0.929, los\n"
     ]
    },
    {
     "name": "stdout",
     "output_type": "stream",
     "text": [
      "epoch: 5/10, train loss = 0.000149\n"
     ]
    },
    {
     "name": "stderr",
     "output_type": "stream",
     "text": [
      "Epoch (val) 5/10: 100%|█| 12/12 [02:49<00:00, 14.11s/it, accepor_recall=0.901, donor_recall=0.92, loss=0.0\n"
     ]
    },
    {
     "name": "stdout",
     "output_type": "stream",
     "text": [
      "\n",
      "\u001b[1mAcceptor:\u001b[0m\n",
      "0.9737\t0.9185\t0.9854\t0.9922\t0.9491\t0.9671000242233276\t0.41029998660087585\t0.003000000026077032\t0.00039999998989515007\t21432\n",
      "\n",
      "\u001b[1mDonor:\u001b[0m\n",
      "0.9713\t0.9192\t0.9888\t0.9942\t0.9496\t0.9740999937057495\t0.5023999810218811\t0.003800000064074993\t0.0005000000237487257\t21432\n",
      "epoch: 5/10, val loss = 0.000192\n"
     ]
    },
    {
     "name": "stderr",
     "output_type": "stream",
     "text": [
      "Epoch (train) 6/10: 100%|█| 101/101 [39:03<00:00, 23.20s/it, accepor_recall=0.93, donor_recall=0.937, loss\n"
     ]
    },
    {
     "name": "stdout",
     "output_type": "stream",
     "text": [
      "epoch: 6/10, train loss = 0.000136\n"
     ]
    },
    {
     "name": "stderr",
     "output_type": "stream",
     "text": [
      "Epoch (val) 6/10: 100%|█| 12/12 [02:52<00:00, 14.37s/it, accepor_recall=0.901, donor_recall=0.897, loss=0.\n"
     ]
    },
    {
     "name": "stdout",
     "output_type": "stream",
     "text": [
      "\n",
      "\u001b[1mAcceptor:\u001b[0m\n",
      "0.9722\t0.9148\t0.9848\t0.9921\t0.9463\t0.9697999954223633\t0.4178999960422516\t0.0031999999191612005\t0.0005000000237487257\t21432\n",
      "\n",
      "\u001b[1mDonor:\u001b[0m\n",
      "0.9714\t0.9203\t0.9896\t0.9947\t0.9521\t0.9524999856948853\t0.358599990606308\t0.0012000000569969416\t0.00019999999494757503\t21432\n",
      "epoch: 6/10, val loss = 0.000200\n"
     ]
    },
    {
     "name": "stderr",
     "output_type": "stream",
     "text": [
      "Epoch (train) 7/10: 100%|█| 101/101 [38:58<00:00, 23.15s/it, accepor_recall=0.94, donor_recall=0.943, loss\n"
     ]
    },
    {
     "name": "stdout",
     "output_type": "stream",
     "text": [
      "epoch: 7/10, train loss = 0.000125\n"
     ]
    },
    {
     "name": "stderr",
     "output_type": "stream",
     "text": [
      "Epoch (val) 7/10: 100%|█| 12/12 [02:45<00:00, 13.82s/it, accepor_recall=0.932, donor_recall=0.948, loss=0.\n"
     ]
    },
    {
     "name": "stdout",
     "output_type": "stream",
     "text": [
      "\n",
      "\u001b[1mAcceptor:\u001b[0m\n",
      "0.9742\t0.9201\t0.9858\t0.9928\t0.9506\t0.9901000261306763\t0.7221999764442444\t0.008200000040233135\t0.0007999999797903001\t21432\n",
      "\n",
      "\u001b[1mDonor:\u001b[0m\n",
      "0.9736\t0.9225\t0.9899\t0.9955\t0.9538\t0.9908000230789185\t0.7900000214576721\t0.01720000058412552\t0.0020000000949949026\t21432\n",
      "epoch: 7/10, val loss = 0.000210\n"
     ]
    },
    {
     "name": "stderr",
     "output_type": "stream",
     "text": [
      "Epoch (train) 8/10: 100%|█| 101/101 [39:07<00:00, 23.24s/it, accepor_recall=0.958, donor_recall=0.959, los\n"
     ]
    },
    {
     "name": "stdout",
     "output_type": "stream",
     "text": [
      "epoch: 8/10, train loss = 0.000099\n"
     ]
    },
    {
     "name": "stderr",
     "output_type": "stream",
     "text": [
      "Epoch (val) 8/10: 100%|█| 12/12 [02:50<00:00, 14.20s/it, accepor_recall=0.919, donor_recall=0.923, loss=0.\n"
     ]
    },
    {
     "name": "stdout",
     "output_type": "stream",
     "text": [
      "\n",
      "\u001b[1mAcceptor:\u001b[0m\n",
      "0.9742\t0.9252\t0.9871\t0.9923\t0.9542\t0.9872999787330627\t0.5644000172615051\t0.0027000000700354576\t0.00039999998989515007\t21432\n",
      "\n",
      "\u001b[1mDonor:\u001b[0m\n",
      "0.9725\t0.9273\t0.9905\t0.9953\t0.9556\t0.9782999753952026\t0.5120999813079834\t0.0031999999191612005\t0.0005000000237487257\t21432\n",
      "epoch: 8/10, val loss = 0.000181\n"
     ]
    },
    {
     "name": "stderr",
     "output_type": "stream",
     "text": [
      "Epoch (train) 9/10: 100%|█| 101/101 [39:07<00:00, 23.25s/it, accepor_recall=0.965, donor_recall=0.969, los\n"
     ]
    },
    {
     "name": "stdout",
     "output_type": "stream",
     "text": [
      "epoch: 9/10, train loss = 0.000082\n"
     ]
    },
    {
     "name": "stderr",
     "output_type": "stream",
     "text": [
      "Epoch (val) 9/10: 100%|█| 12/12 [02:52<00:00, 14.38s/it, accepor_recall=0.92, donor_recall=0.927, loss=0.0\n"
     ]
    },
    {
     "name": "stdout",
     "output_type": "stream",
     "text": [
      "\n",
      "\u001b[1mAcceptor:\u001b[0m\n",
      "0.9728\t0.9287\t0.988\t0.9928\t0.9545\t0.9746000170707703\t0.48989999294281006\t0.0015999999595806003\t0.0003000000142492354\t21432\n",
      "\n",
      "\u001b[1mDonor:\u001b[0m\n",
      "0.9722\t0.9318\t0.9911\t0.9953\t0.9562\t0.9714000225067139\t0.4715999960899353\t0.0012000000569969416\t0.00019999999494757503\t21432\n",
      "epoch: 9/10, val loss = 0.000175\n"
     ]
    },
    {
     "name": "stderr",
     "output_type": "stream",
     "text": [
      "Epoch (train) 10/10: 100%|█| 101/101 [39:12<00:00, 23.29s/it, accepor_recall=0.967, donor_recall=0.969, lo\n"
     ]
    },
    {
     "name": "stdout",
     "output_type": "stream",
     "text": [
      "epoch: 10/10, train loss = 0.000070\n"
     ]
    },
    {
     "name": "stderr",
     "output_type": "stream",
     "text": [
      "Epoch (val) 10/10: 100%|█| 12/12 [02:53<00:00, 14.49s/it, accepor_recall=0.92, donor_recall=0.932, loss=0.\n"
     ]
    },
    {
     "name": "stdout",
     "output_type": "stream",
     "text": [
      "\n",
      "\u001b[1mAcceptor:\u001b[0m\n",
      "0.9736\t0.9287\t0.9873\t0.9922\t0.9542\t0.9894000291824341\t0.5026000142097473\t0.0010000000474974513\t0.00019999999494757503\t21432\n",
      "\n",
      "\u001b[1mDonor:\u001b[0m\n",
      "0.9732\t0.9307\t0.9905\t0.9943\t0.9561\t0.9919000267982483\t0.5390999913215637\t0.0010999999940395355\t0.00019999999494757503\t21432\n",
      "epoch: 10/10, val loss = 0.000185\n"
     ]
    },
    {
     "data": {
      "image/png": "[encoded data removed]",
      "text/plain": [
       "<Figure size 432x288 with 1 Axes>"
      ]
     },
     "metadata": {
      "needs_background": "light"
     },
     "output_type": "display_data"
    },
    {
     "name": "stderr",
     "output_type": "stream",
     "text": [
      "Epoch (train) 1/10: 100%|█| 101/101 [39:20<00:00, 23.38s/it, accepor_recall=0.868, donor_recall=0.881, los\n"
     ]
    },
    {
     "name": "stdout",
     "output_type": "stream",
     "text": [
      "epoch: 1/10, train loss = 0.008910\n"
     ]
    },
    {
     "name": "stderr",
     "output_type": "stream",
     "text": [
      "Epoch (val) 1/10: 100%|█| 12/12 [03:03<00:00, 15.32s/it, accepor_recall=0.863, donor_recall=0.869, loss=0.\n"
     ]
    },
    {
     "name": "stdout",
     "output_type": "stream",
     "text": [
      "\n",
      "\u001b[1mAcceptor:\u001b[0m\n",
      "0.9523\t0.831\t0.9536\t0.9816\t0.8834\t0.9714000225067139\t0.6363999843597412\t0.03370000049471855\t0.0026000000070780516\t21432\n",
      "\n",
      "\u001b[1mDonor:\u001b[0m\n",
      "0.955\t0.8298\t0.958\t0.9832\t0.8886\t0.9782000184059143\t0.6751999855041504\t0.041200000792741776\t0.0031999999191612005\t21432\n",
      "epoch: 1/10, val loss = 0.000387\n"
     ]
    },
    {
     "name": "stderr",
     "output_type": "stream",
     "text": [
      "Epoch (train) 2/10: 100%|█| 101/101 [39:11<00:00, 23.28s/it, accepor_recall=0.892, donor_recall=0.899, los\n"
     ]
    },
    {
     "name": "stdout",
     "output_type": "stream",
     "text": [
      "epoch: 2/10, train loss = 0.000192\n"
     ]
    },
    {
     "name": "stderr",
     "output_type": "stream",
     "text": [
      "Epoch (val) 2/10: 100%|█| 12/12 [02:52<00:00, 14.34s/it, accepor_recall=0.929, donor_recall=0.923, loss=0.\n"
     ]
    },
    {
     "name": "stdout",
     "output_type": "stream",
     "text": [
      "\n",
      "\u001b[1mAcceptor:\u001b[0m\n",
      "0.9623\t0.8791\t0.977\t0.9891\t0.922\t0.9889000058174133\t0.8095999956130981\t0.048500001430511475\t0.005100000184029341\t21432\n",
      "\n",
      "\u001b[1mDonor:\u001b[0m\n",
      "0.9633\t0.881\t0.9817\t0.993\t0.9266\t0.9837999939918518\t0.7560999989509583\t0.04129999876022339\t0.00430000014603138\t21432\n",
      "epoch: 2/10, val loss = 0.000315\n"
     ]
    },
    {
     "name": "stderr",
     "output_type": "stream",
     "text": [
      "Epoch (train) 3/10: 100%|█| 101/101 [39:02<00:00, 23.19s/it, accepor_recall=0.906, donor_recall=0.913, los\n"
     ]
    },
    {
     "name": "stdout",
     "output_type": "stream",
     "text": [
      "epoch: 3/10, train loss = 0.000174\n"
     ]
    },
    {
     "name": "stderr",
     "output_type": "stream",
     "text": [
      "Epoch (val) 3/10: 100%|█| 12/12 [02:55<00:00, 14.58s/it, accepor_recall=0.912, donor_recall=0.904, loss=0.\n"
     ]
    },
    {
     "name": "stdout",
     "output_type": "stream",
     "text": [
      "\n",
      "\u001b[1mAcceptor:\u001b[0m\n",
      "0.9721\t0.9039\t0.9824\t0.9916\t0.9412\t0.9814000129699707\t0.619700014591217\t0.010900000110268593\t0.001500000013038516\t21432\n",
      "\n",
      "\u001b[1mDonor:\u001b[0m\n",
      "0.9726\t0.9091\t0.9883\t0.9949\t0.9455\t0.979200005531311\t0.527400016784668\t0.0044999998062849045\t0.0005000000237487257\t21432\n",
      "epoch: 3/10, val loss = 0.000218\n"
     ]
    },
    {
     "name": "stderr",
     "output_type": "stream",
     "text": [
      "Epoch (train) 4/10: 100%|█| 101/101 [39:15<00:00, 23.32s/it, accepor_recall=0.922, donor_recall=0.924, los\n"
     ]
    },
    {
     "name": "stdout",
     "output_type": "stream",
     "text": [
      "epoch: 4/10, train loss = 0.000161\n"
     ]
    },
    {
     "name": "stderr",
     "output_type": "stream",
     "text": [
      "Epoch (val) 4/10: 100%|█| 12/12 [02:53<00:00, 14.48s/it, accepor_recall=0.935, donor_recall=0.946, loss=0.\n"
     ]
    },
    {
     "name": "stdout",
     "output_type": "stream",
     "text": [
      "\n",
      "\u001b[1mAcceptor:\u001b[0m\n",
      "0.9633\t0.8606\t0.9693\t0.9866\t0.9118\t0.9901999831199646\t0.8787999749183655\t0.10419999808073044\t0.007300000172108412\t21432\n",
      "\n",
      "\u001b[1mDonor:\u001b[0m\n",
      "0.9688\t0.8759\t0.9787\t0.9931\t0.927\t0.9927999973297119\t0.8883000016212463\t0.09640000015497208\t0.007000000216066837\t21432\n",
      "epoch: 4/10, val loss = 0.000424\n"
     ]
    },
    {
     "name": "stderr",
     "output_type": "stream",
     "text": [
      "Epoch (train) 5/10: 100%|█| 101/101 [39:14<00:00, 23.32s/it, accepor_recall=0.928, donor_recall=0.929, los\n"
     ]
    },
    {
     "name": "stdout",
     "output_type": "stream",
     "text": [
      "epoch: 5/10, train loss = 0.000147\n"
     ]
    },
    {
     "name": "stderr",
     "output_type": "stream",
     "text": [
      "Epoch (val) 5/10: 100%|█| 12/12 [02:53<00:00, 14.47s/it, accepor_recall=0.87, donor_recall=0.863, loss=0.0\n"
     ]
    },
    {
     "name": "stdout",
     "output_type": "stream",
     "text": [
      "\n",
      "\u001b[1mAcceptor:\u001b[0m\n",
      "0.9729\t0.9077\t0.9842\t0.9912\t0.9437\t0.9588000178337097\t0.3407999873161316\t0.00419999985024333\t0.000699999975040555\t21432\n",
      "\n",
      "\u001b[1mDonor:\u001b[0m\n",
      "0.9738\t0.9097\t0.9888\t0.9947\t0.9477\t0.9516000151634216\t0.2858000099658966\t0.0027000000700354576\t0.00039999998989515007\t21432\n",
      "epoch: 5/10, val loss = 0.000213\n"
     ]
    },
    {
     "name": "stderr",
     "output_type": "stream",
     "text": [
      "Epoch (train) 6/10: 100%|█| 101/101 [39:01<00:00, 23.18s/it, accepor_recall=0.934, donor_recall=0.942, los\n"
     ]
    },
    {
     "name": "stdout",
     "output_type": "stream",
     "text": [
      "epoch: 6/10, train loss = 0.000136\n"
     ]
    },
    {
     "name": "stderr",
     "output_type": "stream",
     "text": [
      "Epoch (val) 6/10: 100%|█| 12/12 [02:47<00:00, 13.97s/it, accepor_recall=0.937, donor_recall=0.946, loss=0.\n"
     ]
    },
    {
     "name": "stdout",
     "output_type": "stream",
     "text": [
      "\n",
      "\u001b[1mAcceptor:\u001b[0m\n",
      "0.9681\t0.8921\t0.9817\t0.9903\t0.9333\t0.9836000204086304\t0.8036999702453613\t0.017999999225139618\t0.001500000013038516\t21432\n",
      "\n",
      "\u001b[1mDonor:\u001b[0m\n",
      "0.9651\t0.8947\t0.9858\t0.994\t0.9355\t0.9884999990463257\t0.8518000245094299\t0.017500000074505806\t0.0010999999940395355\t21432\n",
      "epoch: 6/10, val loss = 0.000277\n"
     ]
    },
    {
     "name": "stderr",
     "output_type": "stream",
     "text": [
      "Epoch (train) 7/10: 100%|█| 101/101 [39:04<00:00, 23.21s/it, accepor_recall=0.941, donor_recall=0.947, los\n"
     ]
    },
    {
     "name": "stdout",
     "output_type": "stream",
     "text": [
      "epoch: 7/10, train loss = 0.000125\n"
     ]
    },
    {
     "name": "stderr",
     "output_type": "stream",
     "text": [
      "Epoch (val) 7/10: 100%|█| 12/12 [02:59<00:00, 14.92s/it, accepor_recall=0.93, donor_recall=0.931, loss=0.0\n"
     ]
    },
    {
     "name": "stdout",
     "output_type": "stream",
     "text": [
      "\n",
      "\u001b[1mAcceptor:\u001b[0m\n",
      "0.9717\t0.9177\t0.987\t0.993\t0.948\t0.9758999943733215\t0.664900004863739\t0.007000000216066837\t0.0010000000474974513\t21432\n",
      "\n",
      "\u001b[1mDonor:\u001b[0m\n",
      "0.9709\t0.9202\t0.9917\t0.9955\t0.951\t0.9715999960899353\t0.6247000098228455\t0.005900000222027302\t0.0007999999797903001\t21432\n",
      "epoch: 7/10, val loss = 0.000188\n"
     ]
    },
    {
     "name": "stderr",
     "output_type": "stream",
     "text": [
      "Epoch (train) 8/10: 100%|█| 101/101 [39:18<00:00, 23.35s/it, accepor_recall=0.953, donor_recall=0.955, los\n"
     ]
    },
    {
     "name": "stdout",
     "output_type": "stream",
     "text": [
      "epoch: 8/10, train loss = 0.000099\n"
     ]
    },
    {
     "name": "stderr",
     "output_type": "stream",
     "text": [
      "Epoch (val) 8/10: 100%|█| 12/12 [02:52<00:00, 14.35s/it, accepor_recall=0.921, donor_recall=0.931, loss=0.\n"
     ]
    },
    {
     "name": "stdout",
     "output_type": "stream",
     "text": [
      "\n",
      "\u001b[1mAcceptor:\u001b[0m\n",
      "0.9748\t0.925\t0.9865\t0.9927\t0.9522\t0.9907000064849854\t0.5013999938964844\t0.0019000000320374966\t0.0003000000142492354\t21432\n",
      "\n",
      "\u001b[1mDonor:\u001b[0m\n",
      "0.9742\t0.927\t0.9904\t0.9949\t0.9554\t0.9905999898910522\t0.5687000155448914\t0.0024999999441206455\t0.00039999998989515007\t21432\n",
      "epoch: 8/10, val loss = 0.000184\n"
     ]
    },
    {
     "name": "stderr",
     "output_type": "stream",
     "text": [
      "Epoch (train) 9/10: 100%|█| 101/101 [38:58<00:00, 23.15s/it, accepor_recall=0.963, donor_recall=0.968, los\n"
     ]
    },
    {
     "name": "stdout",
     "output_type": "stream",
     "text": [
      "epoch: 9/10, train loss = 0.000082\n"
     ]
    },
    {
     "name": "stderr",
     "output_type": "stream",
     "text": [
      "Epoch (val) 9/10: 100%|█| 12/12 [02:52<00:00, 14.38s/it, accepor_recall=0.928, donor_recall=0.934, loss=0.\n"
     ]
    },
    {
     "name": "stdout",
     "output_type": "stream",
     "text": [
      "\n",
      "\u001b[1mAcceptor:\u001b[0m\n",
      "0.9721\t0.9293\t0.9885\t0.9925\t0.9528\t0.9815000295639038\t0.5181000232696533\t0.00139999995008111\t0.00019999999494757503\t21432\n",
      "\n",
      "\u001b[1mDonor:\u001b[0m\n",
      "0.9734\t0.9327\t0.9916\t0.9953\t0.9569\t0.9864000082015991\t0.5605999827384949\t0.0010999999940395355\t9.999999747378752e-05\t21432\n",
      "epoch: 9/10, val loss = 0.000174\n"
     ]
    },
    {
     "name": "stderr",
     "output_type": "stream",
     "text": [
      "Epoch (train) 10/10: 100%|█| 101/101 [39:06<00:00, 23.23s/it, accepor_recall=0.966, donor_recall=0.969, lo\n"
     ]
    },
    {
     "name": "stdout",
     "output_type": "stream",
     "text": [
      "epoch: 10/10, train loss = 0.000071\n"
     ]
    },
    {
     "name": "stderr",
     "output_type": "stream",
     "text": [
      "Epoch (val) 10/10: 100%|█| 12/12 [02:48<00:00, 14.03s/it, accepor_recall=0.929, donor_recall=0.93, loss=0.\n"
     ]
    },
    {
     "name": "stdout",
     "output_type": "stream",
     "text": [
      "\n",
      "\u001b[1mAcceptor:\u001b[0m\n",
      "0.9728\t0.9303\t0.9875\t0.9927\t0.9526\t0.9876000285148621\t0.5691999793052673\t0.001500000013038516\t0.00019999999494757503\t21432\n",
      "\n",
      "\u001b[1mDonor:\u001b[0m\n",
      "0.9742\t0.9327\t0.9912\t0.9949\t0.9568\t0.9879000186920166\t0.5449000000953674\t0.0010999999940395355\t0.00019999999494757503\t21432\n",
      "epoch: 10/10, val loss = 0.000176\n"
     ]
    },
    {
     "data": {
      "image/png": "[encoded data removed]",
      "text/plain": [
       "<Figure size 432x288 with 1 Axes>"
      ]
     },
     "metadata": {
      "needs_background": "light"
     },
     "output_type": "display_data"
    },
    {
     "name": "stderr",
     "output_type": "stream",
     "text": [
      "Epoch (train) 1/10: 100%|█| 101/101 [39:07<00:00, 23.24s/it, accepor_recall=0.871, donor_recall=0.881, los\n"
     ]
    },
    {
     "name": "stdout",
     "output_type": "stream",
     "text": [
      "epoch: 1/10, train loss = 0.009909\n"
     ]
    },
    {
     "name": "stderr",
     "output_type": "stream",
     "text": [
      "Epoch (val) 1/10: 100%|█| 12/12 [02:50<00:00, 14.22s/it, accepor_recall=0.85, donor_recall=0.922, loss=0.0\n"
     ]
    },
    {
     "name": "stdout",
     "output_type": "stream",
     "text": [
      "\n",
      "\u001b[1mAcceptor:\u001b[0m\n",
      "0.9031\t0.7674\t0.9213\t0.9684\t0.8153\t0.8704000115394592\t0.6632999777793884\t0.2206999957561493\t0.037700001150369644\t21432\n",
      "\n",
      "\u001b[1mDonor:\u001b[0m\n",
      "0.9334\t0.7919\t0.9415\t0.9771\t0.8524\t0.9696999788284302\t0.8636000156402588\t0.37950000166893005\t0.0617000013589859\t21432\n",
      "epoch: 1/10, val loss = 0.000657\n"
     ]
    },
    {
     "name": "stderr",
     "output_type": "stream",
     "text": [
      "Epoch (train) 2/10: 100%|█| 101/101 [39:02<00:00, 23.19s/it, accepor_recall=0.894, donor_recall=0.905, los\n"
     ]
    },
    {
     "name": "stdout",
     "output_type": "stream",
     "text": [
      "epoch: 2/10, train loss = 0.000190\n"
     ]
    },
    {
     "name": "stderr",
     "output_type": "stream",
     "text": [
      "Epoch (val) 2/10: 100%|█| 12/12 [03:04<00:00, 15.33s/it, accepor_recall=0.943, donor_recall=0.956, loss=0.\n"
     ]
    },
    {
     "name": "stdout",
     "output_type": "stream",
     "text": [
      "\n",
      "\u001b[1mAcceptor:\u001b[0m\n",
      "0.9651\t0.8647\t0.9683\t0.9873\t0.9133\t0.9890000224113464\t0.8978999853134155\t0.22949999570846558\t0.025200000032782555\t21432\n",
      "\n",
      "\u001b[1mDonor:\u001b[0m\n",
      "0.9647\t0.872\t0.9713\t0.9895\t0.9205\t0.9930999875068665\t0.920199990272522\t0.2655999958515167\t0.02810000069439411\t21432\n",
      "epoch: 2/10, val loss = 0.000577\n"
     ]
    },
    {
     "name": "stderr",
     "output_type": "stream",
     "text": [
      "Epoch (train) 3/10: 100%|█| 101/101 [39:18<00:00, 23.35s/it, accepor_recall=0.91, donor_recall=0.919, loss\n"
     ]
    },
    {
     "name": "stdout",
     "output_type": "stream",
     "text": [
      "epoch: 3/10, train loss = 0.000173\n"
     ]
    },
    {
     "name": "stderr",
     "output_type": "stream",
     "text": [
      "Epoch (val) 3/10: 100%|█| 12/12 [02:52<00:00, 14.36s/it, accepor_recall=0.912, donor_recall=0.911, loss=0.\n"
     ]
    },
    {
     "name": "stdout",
     "output_type": "stream",
     "text": [
      "\n",
      "\u001b[1mAcceptor:\u001b[0m\n",
      "0.9619\t0.8577\t0.972\t0.9871\t0.9092\t0.9696999788284302\t0.765500009059906\t0.06909999996423721\t0.005900000222027302\t21432\n",
      "\n",
      "\u001b[1mDonor:\u001b[0m\n",
      "0.9616\t0.8617\t0.9721\t0.9902\t0.9126\t0.9740999937057495\t0.7480999827384949\t0.059300001710653305\t0.003700000001117587\t21432\n",
      "epoch: 3/10, val loss = 0.000350\n"
     ]
    },
    {
     "name": "stderr",
     "output_type": "stream",
     "text": [
      "Epoch (train) 4/10: 100%|█| 101/101 [39:17<00:00, 23.34s/it, accepor_recall=0.918, donor_recall=0.921, los\n"
     ]
    },
    {
     "name": "stdout",
     "output_type": "stream",
     "text": [
      "epoch: 4/10, train loss = 0.000161\n"
     ]
    },
    {
     "name": "stderr",
     "output_type": "stream",
     "text": [
      "Epoch (val) 4/10: 100%|█| 12/12 [02:57<00:00, 14.77s/it, accepor_recall=0.899, donor_recall=0.933, loss=0.\n"
     ]
    },
    {
     "name": "stdout",
     "output_type": "stream",
     "text": [
      "\n",
      "\u001b[1mAcceptor:\u001b[0m\n",
      "0.9642\t0.8888\t0.9811\t0.9908\t0.931\t0.9128000140190125\t0.5677000284194946\t0.017100000753998756\t0.0015999999595806003\t21432\n",
      "\n",
      "\u001b[1mDonor:\u001b[0m\n",
      "0.9668\t0.8881\t0.9819\t0.9938\t0.9328\t0.9697999954223633\t0.7570000290870667\t0.02930000051856041\t0.002300000051036477\t21432\n",
      "epoch: 4/10, val loss = 0.000257\n"
     ]
    },
    {
     "name": "stderr",
     "output_type": "stream",
     "text": [
      "Epoch (train) 5/10: 100%|█| 101/101 [39:14<00:00, 23.31s/it, accepor_recall=0.926, donor_recall=0.934, los\n"
     ]
    },
    {
     "name": "stdout",
     "output_type": "stream",
     "text": [
      "epoch: 5/10, train loss = 0.000147\n"
     ]
    },
    {
     "name": "stderr",
     "output_type": "stream",
     "text": [
      "Epoch (val) 5/10: 100%|█| 12/12 [02:51<00:00, 14.26s/it, accepor_recall=0.824, donor_recall=0.804, loss=0.\n"
     ]
    },
    {
     "name": "stdout",
     "output_type": "stream",
     "text": [
      "\n",
      "\u001b[1mAcceptor:\u001b[0m\n",
      "0.9714\t0.8927\t0.9785\t0.9902\t0.9354\t0.9544000029563904\t0.2280000001192093\t0.004900000058114529\t0.0008999999845400453\t21432\n",
      "\n",
      "\u001b[1mDonor:\u001b[0m\n",
      "0.9725\t0.8899\t0.9793\t0.9916\t0.9333\t0.9462000131607056\t0.17409999668598175\t0.0031999999191612005\t0.0006000000284984708\t21432\n",
      "epoch: 5/10, val loss = 0.000261\n"
     ]
    },
    {
     "name": "stderr",
     "output_type": "stream",
     "text": [
      "Epoch (train) 6/10: 100%|█| 101/101 [39:17<00:00, 23.34s/it, accepor_recall=0.934, donor_recall=0.938, los\n"
     ]
    },
    {
     "name": "stdout",
     "output_type": "stream",
     "text": [
      "epoch: 6/10, train loss = 0.000135\n"
     ]
    },
    {
     "name": "stderr",
     "output_type": "stream",
     "text": [
      "Epoch (val) 6/10: 100%|█| 12/12 [02:53<00:00, 14.46s/it, accepor_recall=0.94, donor_recall=0.943, loss=0.0\n"
     ]
    },
    {
     "name": "stdout",
     "output_type": "stream",
     "text": [
      "\n",
      "\u001b[1mAcceptor:\u001b[0m\n",
      "0.9751\t0.9207\t0.9871\t0.9926\t0.9522\t0.9889000058174133\t0.7287999987602234\t0.007699999958276749\t0.0007999999797903001\t21432\n",
      "\n",
      "\u001b[1mDonor:\u001b[0m\n",
      "0.973\t0.92\t0.9899\t0.9953\t0.9527\t0.9860000014305115\t0.7365999817848206\t0.007699999958276749\t0.000699999975040555\t21432\n",
      "epoch: 6/10, val loss = 0.000202\n"
     ]
    },
    {
     "name": "stderr",
     "output_type": "stream",
     "text": [
      "Epoch (train) 7/10: 100%|█| 101/101 [39:04<00:00, 23.22s/it, accepor_recall=0.943, donor_recall=0.948, los\n"
     ]
    },
    {
     "name": "stdout",
     "output_type": "stream",
     "text": [
      "epoch: 7/10, train loss = 0.000125\n"
     ]
    },
    {
     "name": "stderr",
     "output_type": "stream",
     "text": [
      "Epoch (val) 7/10: 100%|█| 12/12 [02:49<00:00, 14.10s/it, accepor_recall=0.941, donor_recall=0.909, loss=0.\n"
     ]
    },
    {
     "name": "stdout",
     "output_type": "stream",
     "text": [
      "\n",
      "\u001b[1mAcceptor:\u001b[0m\n",
      "0.9762\t0.9201\t0.9876\t0.9932\t0.9533\t0.9955000281333923\t0.7849000096321106\t0.006899999920278788\t0.0007999999797903001\t21432\n",
      "\n",
      "\u001b[1mDonor:\u001b[0m\n",
      "0.973\t0.9187\t0.9897\t0.9948\t0.951\t0.9534000158309937\t0.46399998664855957\t0.004699999932199717\t0.000699999975040555\t21432\n",
      "epoch: 7/10, val loss = 0.000201\n"
     ]
    },
    {
     "name": "stderr",
     "output_type": "stream",
     "text": [
      "Epoch (train) 8/10: 100%|█| 101/101 [39:25<00:00, 23.42s/it, accepor_recall=0.955, donor_recall=0.959, los\n"
     ]
    },
    {
     "name": "stdout",
     "output_type": "stream",
     "text": [
      "epoch: 8/10, train loss = 0.000098\n"
     ]
    },
    {
     "name": "stderr",
     "output_type": "stream",
     "text": [
      "Epoch (val) 8/10: 100%|█| 12/12 [02:59<00:00, 14.96s/it, accepor_recall=0.926, donor_recall=0.942, loss=0.\n"
     ]
    },
    {
     "name": "stdout",
     "output_type": "stream",
     "text": [
      "\n",
      "\u001b[1mAcceptor:\u001b[0m\n",
      "0.9717\t0.9287\t0.9893\t0.9934\t0.9543\t0.9782999753952026\t0.5738000273704529\t0.0019000000320374966\t0.0003000000142492354\t21432\n",
      "\n",
      "\u001b[1mDonor:\u001b[0m\n",
      "0.974\t0.9315\t0.9914\t0.9952\t0.9563\t0.9866999983787537\t0.6520000100135803\t0.0026000000070780516\t0.0003000000142492354\t21432\n",
      "epoch: 8/10, val loss = 0.000173\n"
     ]
    },
    {
     "name": "stderr",
     "output_type": "stream",
     "text": [
      "Epoch (train) 9/10: 100%|█| 101/101 [39:10<00:00, 23.27s/it, accepor_recall=0.963, donor_recall=0.967, los\n"
     ]
    },
    {
     "name": "stdout",
     "output_type": "stream",
     "text": [
      "epoch: 9/10, train loss = 0.000081\n"
     ]
    },
    {
     "name": "stderr",
     "output_type": "stream",
     "text": [
      "Epoch (val) 9/10: 100%|█| 12/12 [02:58<00:00, 14.86s/it, accepor_recall=0.928, donor_recall=0.934, loss=0.\n"
     ]
    },
    {
     "name": "stdout",
     "output_type": "stream",
     "text": [
      "\n",
      "\u001b[1mAcceptor:\u001b[0m\n",
      "0.9763\t0.9309\t0.9889\t0.9937\t0.9564\t0.9904000163078308\t0.5501000285148621\t0.0010000000474974513\t9.999999747378752e-05\t21432\n",
      "\n",
      "\u001b[1mDonor:\u001b[0m\n",
      "0.9757\t0.9324\t0.9917\t0.9956\t0.9576\t0.9916999936103821\t0.5555999875068665\t0.0008999999845400453\t9.999999747378752e-05\t21432\n",
      "epoch: 9/10, val loss = 0.000179\n"
     ]
    },
    {
     "name": "stderr",
     "output_type": "stream",
     "text": [
      "Epoch (train) 10/10: 100%|█| 101/101 [39:18<00:00, 23.36s/it, accepor_recall=0.97, donor_recall=0.974, los\n"
     ]
    },
    {
     "name": "stdout",
     "output_type": "stream",
     "text": [
      "epoch: 10/10, train loss = 0.000070\n"
     ]
    },
    {
     "name": "stderr",
     "output_type": "stream",
     "text": [
      "Epoch (val) 10/10: 100%|█| 12/12 [02:55<00:00, 14.60s/it, accepor_recall=0.934, donor_recall=0.935, loss=0\n"
     ]
    },
    {
     "name": "stdout",
     "output_type": "stream",
     "text": [
      "\n",
      "\u001b[1mAcceptor:\u001b[0m\n",
      "0.9729\t0.9312\t0.9887\t0.9931\t0.9547\t0.9883999824523926\t0.6504999995231628\t0.0012000000569969416\t0.00019999999494757503\t21432\n",
      "\n",
      "\u001b[1mDonor:\u001b[0m\n",
      "0.972\t0.9334\t0.9913\t0.9951\t0.9549\t0.9876999855041504\t0.5656999945640564\t0.000699999975040555\t9.999999747378752e-05\t21432\n",
      "epoch: 10/10, val loss = 0.000178\n"
     ]
    },
    {
     "data": {
      "image/png": "[encoded data removed]",
      "text/plain": [
       "<Figure size 432x288 with 1 Axes>"
      ]
     },
     "metadata": {
      "needs_background": "light"
     },
     "output_type": "display_data"
    },
    {
     "name": "stderr",
     "output_type": "stream",
     "text": [
      "Epoch (train) 1/10: 100%|█| 101/101 [39:12<00:00, 23.29s/it, accepor_recall=0.866, donor_recall=0.884, los\n"
     ]
    },
    {
     "name": "stdout",
     "output_type": "stream",
     "text": [
      "epoch: 1/10, train loss = 0.008445\n"
     ]
    },
    {
     "name": "stderr",
     "output_type": "stream",
     "text": [
      "Epoch (val) 1/10: 100%|█| 12/12 [02:52<00:00, 14.38s/it, accepor_recall=0.925, donor_recall=0.934, loss=0.\n"
     ]
    },
    {
     "name": "stdout",
     "output_type": "stream",
     "text": [
      "\n",
      "\u001b[1mAcceptor:\u001b[0m\n",
      "0.9325\t0.7632\t0.9138\t0.9633\t0.8247\t0.9941999912261963\t0.953000009059906\t0.6071000099182129\t0.13680000603199005\t21432\n",
      "\n",
      "\u001b[1mDonor:\u001b[0m\n",
      "0.9299\t0.7787\t0.9331\t0.9771\t0.8427\t0.9887999892234802\t0.925599992275238\t0.4819999933242798\t0.08429999649524689\t21432\n",
      "epoch: 1/10, val loss = 0.001124\n"
     ]
    },
    {
     "name": "stderr",
     "output_type": "stream",
     "text": [
      "Epoch (train) 2/10: 100%|█| 101/101 [39:17<00:00, 23.34s/it, accepor_recall=0.895, donor_recall=0.906, los\n"
     ]
    },
    {
     "name": "stdout",
     "output_type": "stream",
     "text": [
      "epoch: 2/10, train loss = 0.000192\n"
     ]
    },
    {
     "name": "stderr",
     "output_type": "stream",
     "text": [
      "Epoch (val) 2/10: 100%|█| 12/12 [02:51<00:00, 14.27s/it, accepor_recall=0.94, donor_recall=0.946, loss=0.0\n"
     ]
    },
    {
     "name": "stdout",
     "output_type": "stream",
     "text": [
      "\n",
      "\u001b[1mAcceptor:\u001b[0m\n",
      "0.9602\t0.8634\t0.9673\t0.9866\t0.9091\t0.9837999939918518\t0.879800021648407\t0.16920000314712524\t0.014999999664723873\t21432\n",
      "\n",
      "\u001b[1mDonor:\u001b[0m\n",
      "0.9613\t0.8599\t0.9709\t0.9902\t0.9103\t0.9865999817848206\t0.8809000253677368\t0.1543000042438507\t0.012400000356137753\t21432\n",
      "epoch: 2/10, val loss = 0.000483\n"
     ]
    },
    {
     "name": "stderr",
     "output_type": "stream",
     "text": [
      "Epoch (train) 3/10: 100%|█| 101/101 [39:08<00:00, 23.25s/it, accepor_recall=0.895, donor_recall=0.905, los\n"
     ]
    },
    {
     "name": "stdout",
     "output_type": "stream",
     "text": [
      "epoch: 3/10, train loss = 0.000174\n"
     ]
    },
    {
     "name": "stderr",
     "output_type": "stream",
     "text": [
      "Epoch (val) 3/10: 100%|█| 12/12 [02:52<00:00, 14.36s/it, accepor_recall=0.923, donor_recall=0.925, loss=0.\n"
     ]
    },
    {
     "name": "stdout",
     "output_type": "stream",
     "text": [
      "\n",
      "\u001b[1mAcceptor:\u001b[0m\n",
      "0.9705\t0.8897\t0.9776\t0.9898\t0.9322\t0.9775999784469604\t0.7170000076293945\t0.03669999912381172\t0.003700000001117587\t21432\n",
      "\n",
      "\u001b[1mDonor:\u001b[0m\n",
      "0.9737\t0.8937\t0.9818\t0.9924\t0.9385\t0.9696999788284302\t0.6841999888420105\t0.03350000083446503\t0.003000000026077032\t21432\n",
      "epoch: 3/10, val loss = 0.000267\n"
     ]
    },
    {
     "name": "stderr",
     "output_type": "stream",
     "text": [
      "Epoch (train) 4/10: 100%|█| 101/101 [39:04<00:00, 23.22s/it, accepor_recall=0.918, donor_recall=0.922, los\n"
     ]
    },
    {
     "name": "stdout",
     "output_type": "stream",
     "text": [
      "epoch: 4/10, train loss = 0.000160\n"
     ]
    },
    {
     "name": "stderr",
     "output_type": "stream",
     "text": [
      "Epoch (val) 4/10: 100%|█| 12/12 [02:52<00:00, 14.35s/it, accepor_recall=0.909, donor_recall=0.907, loss=0.\n"
     ]
    },
    {
     "name": "stdout",
     "output_type": "stream",
     "text": [
      "\n",
      "\u001b[1mAcceptor:\u001b[0m\n",
      "0.9712\t0.9068\t0.9837\t0.9923\t0.9444\t0.9805999994277954\t0.5861999988555908\t0.005100000184029341\t0.0006000000284984708\t21432\n",
      "\n",
      "\u001b[1mDonor:\u001b[0m\n",
      "0.9751\t0.9123\t0.9886\t0.9945\t0.9504\t0.9787999987602234\t0.5134999752044678\t0.0034000000450760126\t0.00039999998989515007\t21432\n",
      "epoch: 4/10, val loss = 0.000208\n"
     ]
    },
    {
     "name": "stderr",
     "output_type": "stream",
     "text": [
      "Epoch (train) 5/10: 100%|█| 101/101 [39:05<00:00, 23.23s/it, accepor_recall=0.926, donor_recall=0.934, los\n"
     ]
    },
    {
     "name": "stdout",
     "output_type": "stream",
     "text": [
      "epoch: 5/10, train loss = 0.000148\n"
     ]
    },
    {
     "name": "stderr",
     "output_type": "stream",
     "text": [
      "Epoch (val) 5/10: 100%|█| 12/12 [02:54<00:00, 14.56s/it, accepor_recall=0.914, donor_recall=0.915, loss=0.\n"
     ]
    },
    {
     "name": "stdout",
     "output_type": "stream",
     "text": [
      "\n",
      "\u001b[1mAcceptor:\u001b[0m\n",
      "0.9718\t0.9069\t0.9825\t0.9914\t0.941\t0.9746000170707703\t0.5877000093460083\t0.009399999864399433\t0.0010000000474974513\t21432\n",
      "\n",
      "\u001b[1mDonor:\u001b[0m\n",
      "0.972\t0.9096\t0.9854\t0.9926\t0.9434\t0.9620000123977661\t0.5672000050544739\t0.010099999606609344\t0.0010000000474974513\t21432\n",
      "epoch: 5/10, val loss = 0.000214\n"
     ]
    },
    {
     "name": "stderr",
     "output_type": "stream",
     "text": [
      "Epoch (train) 6/10: 100%|█| 101/101 [39:10<00:00, 23.27s/it, accepor_recall=0.933, donor_recall=0.94, loss\n"
     ]
    },
    {
     "name": "stdout",
     "output_type": "stream",
     "text": [
      "epoch: 6/10, train loss = 0.000136\n"
     ]
    },
    {
     "name": "stderr",
     "output_type": "stream",
     "text": [
      "Epoch (val) 6/10: 100%|█| 12/12 [02:53<00:00, 14.49s/it, accepor_recall=0.883, donor_recall=0.899, loss=0.\n"
     ]
    },
    {
     "name": "stdout",
     "output_type": "stream",
     "text": [
      "\n",
      "\u001b[1mAcceptor:\u001b[0m\n",
      "0.9729\t0.8992\t0.9792\t0.9885\t0.9371\t0.9480000138282776\t0.38589999079704285\t0.009999999776482582\t0.0017999999690800905\t21432\n",
      "\n",
      "\u001b[1mDonor:\u001b[0m\n",
      "0.9728\t0.9034\t0.9846\t0.9933\t0.9444\t0.9702000021934509\t0.4609000086784363\t0.006800000090152025\t0.0008999999845400453\t21432\n",
      "epoch: 6/10, val loss = 0.000225\n"
     ]
    },
    {
     "name": "stderr",
     "output_type": "stream",
     "text": [
      "Epoch (train) 7/10: 100%|█| 101/101 [38:53<00:00, 23.11s/it, accepor_recall=0.94, donor_recall=0.944, loss\n"
     ]
    },
    {
     "name": "stdout",
     "output_type": "stream",
     "text": [
      "epoch: 7/10, train loss = 0.000125\n"
     ]
    },
    {
     "name": "stderr",
     "output_type": "stream",
     "text": [
      "Epoch (val) 7/10: 100%|█| 12/12 [02:51<00:00, 14.25s/it, accepor_recall=0.93, donor_recall=0.937, loss=0.0\n"
     ]
    },
    {
     "name": "stdout",
     "output_type": "stream",
     "text": [
      "\n",
      "\u001b[1mAcceptor:\u001b[0m\n",
      "0.9714\t0.916\t0.9858\t0.9924\t0.9478\t0.9908000230789185\t0.7279999852180481\t0.008799999952316284\t0.0010999999940395355\t21432\n",
      "\n",
      "\u001b[1mDonor:\u001b[0m\n",
      "0.9714\t0.9208\t0.9892\t0.9955\t0.9518\t0.9889000058174133\t0.7164999842643738\t0.006800000090152025\t0.000699999975040555\t21432\n",
      "epoch: 7/10, val loss = 0.000207\n"
     ]
    },
    {
     "name": "stderr",
     "output_type": "stream",
     "text": [
      "Epoch (train) 8/10: 100%|█| 101/101 [39:14<00:00, 23.31s/it, accepor_recall=0.955, donor_recall=0.959, los\n"
     ]
    },
    {
     "name": "stdout",
     "output_type": "stream",
     "text": [
      "epoch: 8/10, train loss = 0.000099\n"
     ]
    },
    {
     "name": "stderr",
     "output_type": "stream",
     "text": [
      "Epoch (val) 8/10: 100%|█| 12/12 [02:52<00:00, 14.41s/it, accepor_recall=0.918, donor_recall=0.93, loss=0.0\n"
     ]
    },
    {
     "name": "stdout",
     "output_type": "stream",
     "text": [
      "\n",
      "\u001b[1mAcceptor:\u001b[0m\n",
      "0.974\t0.9256\t0.9884\t0.9936\t0.9536\t0.9799000024795532\t0.4763000011444092\t0.002199999988079071\t0.0003000000142492354\t21432\n",
      "\n",
      "\u001b[1mDonor:\u001b[0m\n",
      "0.9724\t0.9282\t0.9915\t0.9955\t0.9562\t0.98580002784729\t0.5512999892234802\t0.0031999999191612005\t0.00039999998989515007\t21432\n",
      "epoch: 8/10, val loss = 0.000178\n"
     ]
    },
    {
     "name": "stderr",
     "output_type": "stream",
     "text": [
      "Epoch (train) 9/10: 100%|█| 101/101 [39:23<00:00, 23.40s/it, accepor_recall=0.965, donor_recall=0.967, los\n"
     ]
    },
    {
     "name": "stdout",
     "output_type": "stream",
     "text": [
      "epoch: 9/10, train loss = 0.000082\n"
     ]
    },
    {
     "name": "stderr",
     "output_type": "stream",
     "text": [
      "Epoch (val) 9/10: 100%|█| 12/12 [02:53<00:00, 14.47s/it, accepor_recall=0.937, donor_recall=0.937, loss=0.\n"
     ]
    },
    {
     "name": "stdout",
     "output_type": "stream",
     "text": [
      "\n",
      "\u001b[1mAcceptor:\u001b[0m\n",
      "0.9728\t0.9298\t0.9874\t0.9933\t0.9543\t0.9886000156402588\t0.620199978351593\t0.0024999999441206455\t0.0003000000142492354\t21432\n",
      "\n",
      "\u001b[1mDonor:\u001b[0m\n",
      "0.9714\t0.9301\t0.9916\t0.9954\t0.9566\t0.9843999743461609\t0.6086999773979187\t0.0019000000320374966\t0.0003000000142492354\t21432\n",
      "epoch: 9/10, val loss = 0.000177\n"
     ]
    },
    {
     "name": "stderr",
     "output_type": "stream",
     "text": [
      "Epoch (train) 10/10: 100%|█| 101/101 [38:59<00:00, 23.16s/it, accepor_recall=0.966, donor_recall=0.967, lo\n"
     ]
    },
    {
     "name": "stdout",
     "output_type": "stream",
     "text": [
      "epoch: 10/10, train loss = 0.000070\n"
     ]
    },
    {
     "name": "stderr",
     "output_type": "stream",
     "text": [
      "Epoch (val) 10/10: 100%|█| 12/12 [02:50<00:00, 14.22s/it, accepor_recall=0.923, donor_recall=0.93, loss=0.\n"
     ]
    },
    {
     "name": "stdout",
     "output_type": "stream",
     "text": [
      "\n",
      "\u001b[1mAcceptor:\u001b[0m\n",
      "0.9738\t0.9283\t0.9881\t0.9929\t0.9517\t0.9858999848365784\t0.5311999917030334\t0.0013000000035390258\t0.00019999999494757503\t21432\n",
      "\n",
      "\u001b[1mDonor:\u001b[0m\n",
      "0.9713\t0.9306\t0.9909\t0.995\t0.9552\t0.9876999855041504\t0.5467000007629395\t0.0010000000474974513\t9.999999747378752e-05\t21432\n",
      "epoch: 10/10, val loss = 0.000182\n"
     ]
    },
    {
     "data": {
      "image/png": "[encoded data removed]",
      "text/plain": [
       "<Figure size 432x288 with 1 Axes>"
      ]
     },
     "metadata": {
      "needs_background": "light"
     },
     "output_type": "display_data"
    },
    {
     "name": "stderr",
     "output_type": "stream",
     "text": [
      "Epoch (train) 1/10: 100%|█| 101/101 [39:13<00:00, 23.30s/it, accepor_recall=0.875, donor_recall=0.888, los\n"
     ]
    },
    {
     "name": "stdout",
     "output_type": "stream",
     "text": [
      "epoch: 1/10, train loss = 0.008106\n"
     ]
    },
    {
     "name": "stderr",
     "output_type": "stream",
     "text": [
      "Epoch (val) 1/10: 100%|█| 12/12 [02:51<00:00, 14.32s/it, accepor_recall=0.886, donor_recall=0.866, loss=0.\n"
     ]
    },
    {
     "name": "stdout",
     "output_type": "stream",
     "text": [
      "\n",
      "\u001b[1mAcceptor:\u001b[0m\n",
      "0.957\t0.8505\t0.9673\t0.9867\t0.9035\t0.9459999799728394\t0.6291000247001648\t0.05920000001788139\t0.006500000134110451\t21432\n",
      "\n",
      "\u001b[1mDonor:\u001b[0m\n",
      "0.9563\t0.8549\t0.9725\t0.9889\t0.9092\t0.9014999866485596\t0.5454999804496765\t0.039500001817941666\t0.004100000020116568\t21432\n",
      "epoch: 1/10, val loss = 0.000319\n"
     ]
    },
    {
     "name": "stderr",
     "output_type": "stream",
     "text": [
      "Epoch (train) 2/10: 100%|█| 101/101 [39:20<00:00, 23.37s/it, accepor_recall=0.891, donor_recall=0.902, los\n"
     ]
    },
    {
     "name": "stdout",
     "output_type": "stream",
     "text": [
      "epoch: 2/10, train loss = 0.000192\n"
     ]
    },
    {
     "name": "stderr",
     "output_type": "stream",
     "text": [
      "Epoch (val) 2/10: 100%|█| 12/12 [02:58<00:00, 14.91s/it, accepor_recall=0.888, donor_recall=0.885, loss=0.\n"
     ]
    },
    {
     "name": "stdout",
     "output_type": "stream",
     "text": [
      "\n",
      "\u001b[1mAcceptor:\u001b[0m\n",
      "0.9676\t0.8799\t0.9786\t0.9896\t0.9276\t0.9553999900817871\t0.5979999899864197\t0.025100000202655792\t0.002199999988079071\t21432\n",
      "\n",
      "\u001b[1mDonor:\u001b[0m\n",
      "0.9713\t0.8916\t0.9843\t0.994\t0.938\t0.9384999871253967\t0.5278000235557556\t0.018200000748038292\t0.0015999999595806003\t21432\n",
      "epoch: 2/10, val loss = 0.000250\n"
     ]
    },
    {
     "name": "stderr",
     "output_type": "stream",
     "text": [
      "Epoch (train) 3/10: 100%|█| 101/101 [39:24<00:00, 23.41s/it, accepor_recall=0.906, donor_recall=0.914, los\n"
     ]
    },
    {
     "name": "stdout",
     "output_type": "stream",
     "text": [
      "epoch: 3/10, train loss = 0.000173\n"
     ]
    },
    {
     "name": "stderr",
     "output_type": "stream",
     "text": [
      "Epoch (val) 3/10: 100%|█| 12/12 [02:53<00:00, 14.43s/it, accepor_recall=0.855, donor_recall=0.903, loss=0.\n"
     ]
    },
    {
     "name": "stdout",
     "output_type": "stream",
     "text": [
      "\n",
      "\u001b[1mAcceptor:\u001b[0m\n",
      "0.971\t0.8889\t0.9791\t0.9903\t0.9341\t0.9150000214576721\t0.3506999909877777\t0.00559999980032444\t0.0006000000284984708\t21432\n",
      "\n",
      "\u001b[1mDonor:\u001b[0m\n",
      "0.97\t0.888\t0.9831\t0.9932\t0.9348\t0.9824000000953674\t0.6132000088691711\t0.009100000374019146\t0.0007999999797903001\t21432\n",
      "epoch: 3/10, val loss = 0.000250\n"
     ]
    },
    {
     "name": "stderr",
     "output_type": "stream",
     "text": [
      "Epoch (train) 4/10: 100%|█| 101/101 [39:03<00:00, 23.20s/it, accepor_recall=0.915, donor_recall=0.921, los\n"
     ]
    },
    {
     "name": "stdout",
     "output_type": "stream",
     "text": [
      "epoch: 4/10, train loss = 0.000161\n"
     ]
    },
    {
     "name": "stderr",
     "output_type": "stream",
     "text": [
      "Epoch (val) 4/10: 100%|█| 12/12 [02:50<00:00, 14.25s/it, accepor_recall=0.949, donor_recall=0.942, loss=0.\n"
     ]
    },
    {
     "name": "stdout",
     "output_type": "stream",
     "text": [
      "\n",
      "\u001b[1mAcceptor:\u001b[0m\n",
      "0.9719\t0.9027\t0.9812\t0.991\t0.94\t0.9911999702453613\t0.8621000051498413\t0.057999998331069946\t0.004900000058114529\t21432\n",
      "\n",
      "\u001b[1mDonor:\u001b[0m\n",
      "0.9716\t0.9033\t0.9856\t0.9939\t0.9428\t0.9821000099182129\t0.7792999744415283\t0.031599998474121094\t0.0027000000700354576\t21432\n",
      "epoch: 4/10, val loss = 0.000288\n"
     ]
    },
    {
     "name": "stderr",
     "output_type": "stream",
     "text": [
      "Epoch (train) 5/10: 100%|█| 101/101 [39:21<00:00, 23.38s/it, accepor_recall=0.921, donor_recall=0.929, los\n"
     ]
    },
    {
     "name": "stdout",
     "output_type": "stream",
     "text": [
      "epoch: 5/10, train loss = 0.000148\n"
     ]
    },
    {
     "name": "stderr",
     "output_type": "stream",
     "text": [
      "Epoch (val) 5/10: 100%|█| 12/12 [02:56<00:00, 14.67s/it, accepor_recall=0.821, donor_recall=0.84, loss=0.0\n"
     ]
    },
    {
     "name": "stdout",
     "output_type": "stream",
     "text": [
      "\n",
      "\u001b[1mAcceptor:\u001b[0m\n",
      "0.9699\t0.8956\t0.9762\t0.986\t0.9346\t0.9276999831199646\t0.24220000207424164\t0.002099999925121665\t0.0003000000142492354\t21432\n",
      "\n",
      "\u001b[1mDonor:\u001b[0m\n",
      "0.9721\t0.8947\t0.9795\t0.9881\t0.9365\t0.9484999775886536\t0.29409998655319214\t0.0024999999441206455\t0.00039999998989515007\t21432\n",
      "epoch: 5/10, val loss = 0.000265\n"
     ]
    },
    {
     "name": "stderr",
     "output_type": "stream",
     "text": [
      "Epoch (train) 6/10: 100%|█| 101/101 [39:01<00:00, 23.18s/it, accepor_recall=0.935, donor_recall=0.94, loss\n"
     ]
    },
    {
     "name": "stdout",
     "output_type": "stream",
     "text": [
      "epoch: 6/10, train loss = 0.000136\n"
     ]
    },
    {
     "name": "stderr",
     "output_type": "stream",
     "text": [
      "Epoch (val) 6/10: 100%|█| 12/12 [03:04<00:00, 15.37s/it, accepor_recall=0.915, donor_recall=0.92, loss=0.0\n"
     ]
    },
    {
     "name": "stdout",
     "output_type": "stream",
     "text": [
      "\n",
      "\u001b[1mAcceptor:\u001b[0m\n",
      "0.9708\t0.9132\t0.9852\t0.9922\t0.9456\t0.9699000120162964\t0.5763999819755554\t0.009100000374019146\t0.00139999995008111\t21432\n",
      "\n",
      "\u001b[1mDonor:\u001b[0m\n",
      "0.9723\t0.9129\t0.9888\t0.9944\t0.9482\t0.9782000184059143\t0.5902000069618225\t0.007000000216066837\t0.0008999999845400453\t21432\n",
      "epoch: 6/10, val loss = 0.000201\n"
     ]
    },
    {
     "name": "stderr",
     "output_type": "stream",
     "text": [
      "Epoch (train) 7/10: 100%|█| 101/101 [38:57<00:00, 23.14s/it, accepor_recall=0.942, donor_recall=0.945, los\n"
     ]
    },
    {
     "name": "stdout",
     "output_type": "stream",
     "text": [
      "epoch: 7/10, train loss = 0.000125\n"
     ]
    },
    {
     "name": "stderr",
     "output_type": "stream",
     "text": [
      "Epoch (val) 7/10: 100%|█| 12/12 [02:59<00:00, 14.92s/it, accepor_recall=0.93, donor_recall=0.922, loss=0.0\n"
     ]
    },
    {
     "name": "stdout",
     "output_type": "stream",
     "text": [
      "\n",
      "\u001b[1mAcceptor:\u001b[0m\n",
      "0.972\t0.9114\t0.987\t0.9937\t0.9466\t0.9779999852180481\t0.7225000262260437\t0.009700000286102295\t0.0012000000569969416\t21432\n",
      "\n",
      "\u001b[1mDonor:\u001b[0m\n",
      "0.9691\t0.9119\t0.9901\t0.9951\t0.9475\t0.9700999855995178\t0.6504999995231628\t0.004800000227987766\t0.0005000000237487257\t21432\n",
      "epoch: 7/10, val loss = 0.000205\n"
     ]
    },
    {
     "name": "stderr",
     "output_type": "stream",
     "text": [
      "Epoch (train) 8/10: 100%|█| 101/101 [39:12<00:00, 23.29s/it, accepor_recall=0.951, donor_recall=0.956, los\n"
     ]
    },
    {
     "name": "stdout",
     "output_type": "stream",
     "text": [
      "epoch: 8/10, train loss = 0.000099\n"
     ]
    },
    {
     "name": "stderr",
     "output_type": "stream",
     "text": [
      "Epoch (val) 8/10: 100%|█| 12/12 [02:52<00:00, 14.36s/it, accepor_recall=0.912, donor_recall=0.916, loss=0.\n"
     ]
    },
    {
     "name": "stdout",
     "output_type": "stream",
     "text": [
      "\n",
      "\u001b[1mAcceptor:\u001b[0m\n",
      "0.9761\t0.9265\t0.9882\t0.9933\t0.9558\t0.9941999912261963\t0.4902999997138977\t0.0008999999845400453\t9.999999747378752e-05\t21432\n",
      "\n",
      "\u001b[1mDonor:\u001b[0m\n",
      "0.9736\t0.9302\t0.9917\t0.9957\t0.9577\t0.9887999892234802\t0.4607999920845032\t0.0008999999845400453\t9.999999747378752e-05\t21432\n",
      "epoch: 8/10, val loss = 0.000187\n"
     ]
    },
    {
     "name": "stderr",
     "output_type": "stream",
     "text": [
      "Epoch (train) 9/10: 100%|█| 101/101 [39:01<00:00, 23.18s/it, accepor_recall=0.963, donor_recall=0.968, los\n"
     ]
    },
    {
     "name": "stdout",
     "output_type": "stream",
     "text": [
      "epoch: 9/10, train loss = 0.000083\n"
     ]
    },
    {
     "name": "stderr",
     "output_type": "stream",
     "text": [
      "Epoch (val) 9/10: 100%|█| 12/12 [02:51<00:00, 14.32s/it, accepor_recall=0.909, donor_recall=0.915, loss=0.\n"
     ]
    },
    {
     "name": "stdout",
     "output_type": "stream",
     "text": [
      "\n",
      "\u001b[1mAcceptor:\u001b[0m\n",
      "0.9753\t0.9289\t0.9876\t0.9927\t0.954\t0.9717000126838684\t0.4138000011444092\t0.0017999999690800905\t0.0003000000142492354\t21432\n",
      "\n",
      "\u001b[1mDonor:\u001b[0m\n",
      "0.9746\t0.9321\t0.9902\t0.9949\t0.9563\t0.9751999974250793\t0.4034000039100647\t0.0013000000035390258\t0.00019999999494757503\t21432\n",
      "epoch: 9/10, val loss = 0.000176\n"
     ]
    },
    {
     "name": "stderr",
     "output_type": "stream",
     "text": [
      "Epoch (train) 10/10: 100%|█| 101/101 [39:12<00:00, 23.29s/it, accepor_recall=0.971, donor_recall=0.971, lo\n"
     ]
    },
    {
     "name": "stdout",
     "output_type": "stream",
     "text": [
      "epoch: 10/10, train loss = 0.000071\n"
     ]
    },
    {
     "name": "stderr",
     "output_type": "stream",
     "text": [
      "Epoch (val) 10/10: 100%|█| 12/12 [03:06<00:00, 15.52s/it, accepor_recall=0.935, donor_recall=0.941, loss=0\n"
     ]
    },
    {
     "name": "stdout",
     "output_type": "stream",
     "text": [
      "\n",
      "\u001b[1mAcceptor:\u001b[0m\n",
      "0.9742\t0.9303\t0.9884\t0.9932\t0.954\t0.9936000108718872\t0.6718999743461609\t0.0017000000225380063\t0.00019999999494757503\t21432\n",
      "\n",
      "\u001b[1mDonor:\u001b[0m\n",
      "0.9741\t0.9331\t0.9913\t0.9952\t0.9568\t0.9933000206947327\t0.6460999846458435\t0.0013000000035390258\t0.00019999999494757503\t21432\n",
      "epoch: 10/10, val loss = 0.000183\n"
     ]
    },
    {
     "data": {
      "image/png": "[encoded data removed]",
      "text/plain": [
       "<Figure size 432x288 with 1 Axes>"
      ]
     },
     "metadata": {
      "needs_background": "light"
     },
     "output_type": "display_data"
    }
   ],
   "source": [
    "device = torch.device(\"cuda\" if torch.cuda.is_available() else \"cpu\")\n",
    "epochs = 10\n",
    "hs = []\n",
    "for model_nr in range(5):\n",
    "    model_m = ResNet_40K(CL_max)\n",
    "    model_m.apply(keras_init)\n",
    "    model_m = model_m.to(device)\n",
    "    if torch.cuda.device_count() > 1:\n",
    "        #print(\"Let's use\", torch.cuda.device_count(), \"GPUs!\")\n",
    "        # dim = 0 [30, xxx] -> [10, ...], [10, ...], [10, ...] on 3 GPUs\n",
    "        model_m = nn.DataParallel(model_m)\n",
    "    \n",
    "    modelFileName = '../Results/PyTorch_Models/resnet_encoder_40k_090522_{}'.format(model_nr)\n",
    "    #model_m.load_state_dict(torch.load('../Results/PyTorch_Models/SpliceAI_Ensembl_dgxtest_{}'.format(0)))\n",
    "    #loss = nn.CrossEntropyLoss(weight=torch.from_numpy(weights).float().to(device),ignore_index=-1,reduction='mean')\n",
    "    loss = categorical_crossentropy_2d().loss\n",
    "    learning_rate= 1e-3*k\n",
    "    optimizer = torch.optim.Adam(model_m.parameters(), lr=learning_rate)\n",
    "    scheduler = torch.optim.lr_scheduler.StepLR(optimizer, step_size=1, gamma=0.5)\n",
    "    warmup = get_constant_schedule_with_warmup(optimizer, num_warmup_steps=1000)\n",
    "    h = trainModel(model_m,modelFileName,loss,train_loader,val_loader,optimizer,scheduler,warmup,BATCH_SIZE,epochs,device)\n",
    "    hs.append(h)\n",
    "    #print(model_m.module.conv_final.bias)\n",
    "    #val_results_combined.append(val_results)\n",
    "    plt.plot(range(epochs),h['loss'],label='Train')\n",
    "    plt.plot(range(epochs),h['val_loss'],label='Validation')\n",
    "    plt.xlabel('Epoch')\n",
    "    plt.ylabel('Loss')\n",
    "    plt.legend()\n",
    "    plt.show()"
   ]
  },
  {
   "cell_type": "code",
   "execution_count": 10,
   "metadata": {},
   "outputs": [
    {
     "name": "stderr",
     "output_type": "stream",
     "text": [
      "100%|███████████████████████████████████████████████████████████████████████████████████████████████████████████████████| 17/17 [10:06<00:00, 35.66s/it]\n"
     ]
    }
   ],
   "source": [
    "device = torch.device(\"cuda\" if torch.cuda.is_available() else \"cpu\")\n",
    "h5f = h5py.File('/odinn/tmp/benediktj/Data/SplicePrediction/gencode_40k_dataset_test_.h5')\n",
    "\n",
    "num_idx = len(h5f.keys())//2\n",
    "\n",
    "test_dataset = h5pyDataset(h5f,list(range(num_idx)))\n",
    "test_loader = torch.utils.data.DataLoader(test_dataset, batch_size=1, shuffle=False, num_workers=0)\n",
    "\n",
    "temp = 1\n",
    "n_models = 5\n",
    "device = torch.device(\"cuda\" if torch.cuda.is_available() else \"cpu\")\n",
    "model_m = ResNet_40K(CL_max)\n",
    "model_m.apply(keras_init)\n",
    "model_m = model_m.to(device)\n",
    "\n",
    "if torch.cuda.device_count() > 1:\n",
    "    model_m = nn.DataParallel(model_m)\n",
    "\n",
    "output_class_labels = ['Null', 'Acceptor', 'Donor']\n",
    "\n",
    "#for output_class in [1,2]:\n",
    "models = [copy.deepcopy(model_m) for i in range(n_models)]\n",
    "[model.load_state_dict(torch.load('../Results/PyTorch_Models/resnet_encoder_40k_090522_{}'.format(i))) for i,model in enumerate(models)]\n",
    "\n",
    "for model in models:\n",
    "    model.eval()\n",
    "    \n",
    "Y_true_acceptor, Y_pred_acceptor = [],[]\n",
    "Y_true_donor, Y_pred_donor = [],[]\n",
    "ce_2d = []\n",
    "\n",
    "for (batch_chunks,target_chunks) in tqdm(test_loader):\n",
    "    batch_chunks = torch.transpose(batch_chunks[0].to(device),1,2)\n",
    "    target_chunks = torch.transpose(torch.squeeze(target_chunks[0].to(device),0),1,2)\n",
    "    #print(np.max(target_chunks.cpu().numpy()[:,2,:]))\n",
    "    n_chunks = int(np.ceil(batch_chunks.shape[0]/BATCH_SIZE))\n",
    "    batch_chunks = torch.chunk(batch_chunks, n_chunks, dim=0)\n",
    "    target_chunks = torch.chunk(target_chunks, n_chunks, dim=0)\n",
    "    targets_list = []\n",
    "    outputs_list = []\n",
    "    for j in range(len(batch_chunks)):\n",
    "        batch_features = batch_chunks[j]\n",
    "        targets = target_chunks[j]\n",
    "        outputs = ([models[i](batch_features).detach() for i in range(n_models)])\n",
    "        outputs = (outputs[0]+outputs[1]+outputs[2]+outputs[3]+outputs[4])/n_models\n",
    "        targets_list.extend(targets.unsqueeze(0))\n",
    "        outputs_list.extend(outputs.unsqueeze(0))\n",
    "\n",
    "    targets = torch.transpose(torch.vstack(targets_list),1,2).cpu().numpy()\n",
    "    outputs = torch.transpose(torch.vstack(outputs_list),1,2).cpu().numpy()\n",
    "    ce_2d.append(cross_entropy_2d(targets,outputs))\n",
    "\n",
    "    is_expr = (targets.sum(axis=(1,2)) >= 1)\n",
    "    Y_true_acceptor.extend(targets[is_expr, :, 1].flatten())\n",
    "    Y_true_donor.extend(targets[is_expr, :, 2].flatten())\n",
    "    Y_pred_acceptor.extend(outputs[is_expr, :, 1].flatten())\n",
    "    Y_pred_donor.extend(outputs[is_expr, :, 2].flatten())"
   ]
  },
  {
   "cell_type": "code",
   "execution_count": 11,
   "metadata": {},
   "outputs": [
    {
     "name": "stdout",
     "output_type": "stream",
     "text": [
      "Cross entropy = 0.00023137525319152693\n",
      "\n",
      "\u001b[1mAcceptor:\u001b[0m\n",
      "0.9962\t0.9484\t0.9871\t0.9907\t0.9768\t0.9837\t0.3709\t0.0023\t0.0003\t13551\t14289.0\t14289\n",
      "\n",
      "\u001b[1mDonor:\u001b[0m\n",
      "0.9952\t0.9515\t0.9899\t0.9924\t0.979\t0.9841\t0.3748\t0.0017\t0.0002\t13596\t14289.0\t14289\n"
     ]
    }
   ],
   "source": [
    "mean_ce = np.mean(ce_2d)\n",
    "print('Cross entropy = {}'.format(mean_ce))\n",
    "Y_true_acceptor, Y_pred_acceptor,Y_true_donor, Y_pred_donor = np.array(Y_true_acceptor), np.array(Y_pred_acceptor),np.array(Y_true_donor), np.array(Y_pred_donor)\n",
    "print(\"\\n\\033[1m{}:\\033[0m\".format('Acceptor'))\n",
    "acceptor_val_results = print_topl_statistics(Y_true_acceptor, Y_pred_acceptor)\n",
    "print(\"\\n\\033[1m{}:\\033[0m\".format('Donor'))\n",
    "donor_val_results =print_topl_statistics(Y_true_donor, Y_pred_donor)"
   ]
  },
  {
   "cell_type": "code",
   "execution_count": 12,
   "metadata": {},
   "outputs": [],
   "source": [
    "setType = 'test'\n",
    "annotation_test, transcriptToLabel_test, seqData = getData(data_dir, setType)"
   ]
  },
  {
   "cell_type": "code",
   "execution_count": 13,
   "metadata": {
    "scrolled": true
   },
   "outputs": [
    {
     "name": "stderr",
     "output_type": "stream",
     "text": [
      "100%|█████████████████████████████████████████████████████████████████████████████████████████████████████████████████| 90/90 [1:28:23<00:00, 58.93s/it]\n"
     ]
    }
   ],
   "source": [
    "temp = 1\n",
    "n_models = 5\n",
    "device = torch.device(\"cuda\" if torch.cuda.is_available() else \"cpu\")\n",
    "model_m = ResNet_40K(CL_max)\n",
    "model_m.apply(keras_init)\n",
    "model_m = model_m.to(device)\n",
    "\n",
    "if torch.cuda.device_count() > 1:\n",
    "    model_m = nn.DataParallel(model_m)\n",
    "\n",
    "output_class_labels = ['Null', 'Acceptor', 'Donor']\n",
    "\n",
    "#for output_class in [1,2]:\n",
    "models = [copy.deepcopy(model_m) for i in range(n_models)]\n",
    "[model.load_state_dict(torch.load('../Results/PyTorch_Models/resnet_encoder_40k_090522_{}'.format(i))) for i,model in enumerate(models)]\n",
    "\n",
    "for model in models:\n",
    "    model.eval()\n",
    "\n",
    "\n",
    "Y_true_acceptor, Y_pred_acceptor = [],[]\n",
    "Y_true_donor, Y_pred_donor = [],[]\n",
    "test_dataset = spliceDataset(annotation_test,transcriptToLabel_test,SL,CL_max)\n",
    "test_dataset.seqData = seqData\n",
    "test_loader = torch.utils.data.DataLoader(test_dataset, batch_size=100, shuffle=False, num_workers=0,collate_fn=collate_fn, pin_memory=True)\n",
    "ce_2d = []\n",
    "\n",
    "for (batch_chunks,target_chunks) in tqdm(test_loader):\n",
    "    batch_chunks = torch.transpose(batch_chunks.to(device),1,2)\n",
    "    target_chunks = torch.transpose(torch.squeeze(target_chunks.to(device),0),1,2)\n",
    "    batch_chunks = torch.split(batch_chunks, BATCH_SIZE, dim=0)\n",
    "    target_chunks = torch.split(target_chunks, BATCH_SIZE, dim=0)\n",
    "    targets_list = []\n",
    "    outputs_list = []\n",
    "    for j in range(len(batch_chunks)):\n",
    "        batch_features = batch_chunks[j]\n",
    "        targets = target_chunks[j]\n",
    "        outputs = ([models[i](batch_features).detach() for i in range(n_models)])\n",
    "        outputs = (outputs[0]+outputs[1]+outputs[2]+outputs[3]+outputs[4])/n_models\n",
    "        #outputs = (outputs[0]+outputs[1]+outputs[2])/n_models\n",
    "        targets_list.extend(targets.unsqueeze(0))\n",
    "        outputs_list.extend(outputs.unsqueeze(0))\n",
    "\n",
    "    targets = torch.transpose(torch.vstack(targets_list),1,2).cpu().numpy()\n",
    "    outputs = torch.transpose(torch.vstack(outputs_list),1,2).cpu().numpy()\n",
    "    ce_2d.append(cross_entropy_2d(targets,outputs))\n",
    "\n",
    "    is_expr = (targets.sum(axis=(1,2)) >= 1)\n",
    "    Y_true_acceptor.extend(targets[is_expr, :, 1].flatten())\n",
    "    Y_true_donor.extend(targets[is_expr, :, 2].flatten())\n",
    "    Y_pred_acceptor.extend(outputs[is_expr, :, 1].flatten())\n",
    "    Y_pred_donor.extend(outputs[is_expr, :, 2].flatten())\n",
    "\n"
   ]
  },
  {
   "cell_type": "code",
   "execution_count": 14,
   "metadata": {},
   "outputs": [
    {
     "name": "stdout",
     "output_type": "stream",
     "text": [
      "Cross entropy = 0.00014164407993589193\n",
      "\n",
      "\u001b[1mAcceptor:\u001b[0m\n",
      "0.9796\t0.9391\t0.9911\t0.9951\t0.9645\t0.9854\t0.5015\t0.0022\t0.0003\t84249\t89712.0\t89712\n",
      "\n",
      "\u001b[1mDonor:\u001b[0m\n",
      "0.9809\t0.9442\t0.9939\t0.9968\t0.9688\t0.9862\t0.5341\t0.0017\t0.0002\t84703\t89712.0\t89712\n"
     ]
    }
   ],
   "source": [
    "mean_ce = np.mean(ce_2d)\n",
    "print('Cross entropy = {}'.format(mean_ce))\n",
    "Y_true_acceptor, Y_pred_acceptor,Y_true_donor, Y_pred_donor = np.array(Y_true_acceptor), np.array(Y_pred_acceptor),np.array(Y_true_donor), np.array(Y_pred_donor)\n",
    "print(\"\\n\\033[1m{}:\\033[0m\".format('Acceptor'))\n",
    "acceptor_val_results = print_topl_statistics(Y_true_acceptor, Y_pred_acceptor)\n",
    "print(\"\\n\\033[1m{}:\\033[0m\".format('Donor'))\n",
    "donor_val_results =print_topl_statistics(Y_true_donor, Y_pred_donor)"
   ]
  }
 ],
 "metadata": {
  "kernelspec": {
   "display_name": "Python 3 (ipykernel)",
   "language": "python",
   "name": "python3"
  },
  "language_info": {
   "codemirror_mode": {
    "name": "ipython",
    "version": 3
   },
   "file_extension": ".py",
   "mimetype": "text/x-python",
   "name": "python",
   "nbconvert_exporter": "python",
   "pygments_lexer": "ipython3",
   "version": "3.8.12"
  }
 },
 "nbformat": 4,
 "nbformat_minor": 4
}
