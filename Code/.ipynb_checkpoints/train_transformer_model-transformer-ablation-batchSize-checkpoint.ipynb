{
 "cells": [
  {
   "cell_type": "code",
   "execution_count": 1,
   "metadata": {},
   "outputs": [],
   "source": [
    "import numpy as np\n",
    "import sys\n",
    "import time\n",
    "import h5py\n",
    "from tqdm import tqdm\n",
    "\n",
    "import numpy as np\n",
    "import re\n",
    "from math import ceil\n",
    "from sklearn.metrics import average_precision_score\n",
    "from torch.utils.data import Dataset\n",
    "import torch\n",
    "import torch.nn as nn\n",
    "import pandas as pd\n",
    "import matplotlib.pyplot as plt\n",
    "import pickle\n",
    "#import pickle5 as pickle\n",
    "\n",
    "from sklearn.model_selection import train_test_split\n",
    "\n",
    "from scipy.sparse import load_npz\n",
    "from glob import glob\n",
    "\n",
    "from transformers import get_constant_schedule_with_warmup\n",
    "from sklearn.metrics import precision_score,recall_score,accuracy_score\n",
    "import copy\n",
    "\n",
    "from src.train import trainModel\n",
    "from src.dataloader import getData,spliceDataset,h5pyDataset,collate_fn\n",
    "from src.weight_init import keras_init\n",
    "from src.losses import categorical_crossentropy_2d\n",
    "from src.models import SpliceFormer\n",
    "from src.evaluation_metrics import print_topl_statistics\n",
    "#import tensorflow as tf"
   ]
  },
  {
   "cell_type": "code",
   "execution_count": 2,
   "metadata": {},
   "outputs": [
    {
     "name": "stdout",
     "output_type": "stream",
     "text": [
      "Fri Jun 10 13:43:32 2022       \n",
      "+-----------------------------------------------------------------------------+\n",
      "| NVIDIA-SMI 450.142.00   Driver Version: 450.142.00   CUDA Version: 11.4     |\n",
      "|-------------------------------+----------------------+----------------------+\n",
      "| GPU  Name        Persistence-M| Bus-Id        Disp.A | Volatile Uncorr. ECC |\n",
      "| Fan  Temp  Perf  Pwr:Usage/Cap|         Memory-Usage | GPU-Util  Compute M. |\n",
      "|                               |                      |               MIG M. |\n",
      "|===============================+======================+======================|\n",
      "|   0  A100-SXM4-40GB      On   | 00000000:07:00.0 Off |                    0 |\n",
      "| N/A   28C    P0    59W / 400W |      0MiB / 40537MiB |      7%      Default |\n",
      "|                               |                      |             Disabled |\n",
      "+-------------------------------+----------------------+----------------------+\n",
      "|   1  A100-SXM4-40GB      On   | 00000000:0F:00.0 Off |                    0 |\n",
      "| N/A   27C    P0    50W / 400W |      0MiB / 40537MiB |      0%      Default |\n",
      "|                               |                      |             Disabled |\n",
      "+-------------------------------+----------------------+----------------------+\n",
      "|   2  A100-SXM4-40GB      On   | 00000000:47:00.0 Off |                    0 |\n",
      "| N/A   28C    P0    54W / 400W |      0MiB / 40537MiB |      0%      Default |\n",
      "|                               |                      |             Disabled |\n",
      "+-------------------------------+----------------------+----------------------+\n",
      "|   3  A100-SXM4-40GB      On   | 00000000:4E:00.0 Off |                    0 |\n",
      "| N/A   27C    P0    54W / 400W |      0MiB / 40537MiB |      0%      Default |\n",
      "|                               |                      |             Disabled |\n",
      "+-------------------------------+----------------------+----------------------+\n",
      "|   4  A100-SXM4-40GB      On   | 00000000:87:00.0 Off |                    0 |\n",
      "| N/A   33C    P0    58W / 400W |      0MiB / 40537MiB |      0%      Default |\n",
      "|                               |                      |             Disabled |\n",
      "+-------------------------------+----------------------+----------------------+\n",
      "|   5  A100-SXM4-40GB      On   | 00000000:90:00.0 Off |                    0 |\n",
      "| N/A   31C    P0    53W / 400W |      0MiB / 40537MiB |      0%      Default |\n",
      "|                               |                      |             Disabled |\n",
      "+-------------------------------+----------------------+----------------------+\n",
      "|   6  A100-SXM4-40GB      On   | 00000000:B7:00.0 Off |                    0 |\n",
      "| N/A   30C    P0    53W / 400W |      0MiB / 40537MiB |      0%      Default |\n",
      "|                               |                      |             Disabled |\n",
      "+-------------------------------+----------------------+----------------------+\n",
      "|   7  A100-SXM4-40GB      On   | 00000000:BD:00.0 Off |                    0 |\n",
      "| N/A   31C    P0    52W / 400W |      0MiB / 40537MiB |      0%      Default |\n",
      "|                               |                      |             Disabled |\n",
      "+-------------------------------+----------------------+----------------------+\n",
      "                                                                               \n",
      "+-----------------------------------------------------------------------------+\n",
      "| Processes:                                                                  |\n",
      "|  GPU   GI   CI        PID   Type   Process name                  GPU Memory |\n",
      "|        ID   ID                                                   Usage      |\n",
      "|=============================================================================|\n",
      "|  No running processes found                                                 |\n",
      "+-----------------------------------------------------------------------------+\n"
     ]
    }
   ],
   "source": [
    "!nvidia-smi"
   ]
  },
  {
   "cell_type": "code",
   "execution_count": 3,
   "metadata": {},
   "outputs": [],
   "source": [
    "#!pip install pickle5"
   ]
  },
  {
   "cell_type": "code",
   "execution_count": 4,
   "metadata": {},
   "outputs": [],
   "source": [
    "rng = np.random.default_rng(23673)"
   ]
  },
  {
   "cell_type": "code",
   "execution_count": 5,
   "metadata": {},
   "outputs": [],
   "source": [
    "#gtf = None"
   ]
  },
  {
   "cell_type": "code",
   "execution_count": 6,
   "metadata": {},
   "outputs": [],
   "source": [
    "L = 32\n",
    "N_GPUS = 8\n"
   ]
  },
  {
   "cell_type": "code",
   "execution_count": 7,
   "metadata": {},
   "outputs": [],
   "source": [
    "data_dir = '/odinn/tmp/benediktj/Data/SplicePrediction-050422'\n",
    "setType = 'train'\n",
    "annotation, transcriptToLabel, seqData = getData(data_dir, setType)"
   ]
  },
  {
   "cell_type": "code",
   "execution_count": 8,
   "metadata": {},
   "outputs": [],
   "source": [
    "# Maximum nucleotide context length (CL_max/2 on either side of the \n",
    "# position of interest)\n",
    "# CL_max should be an even number\n",
    "# Sequence length of SpliceAIs (SL+CL will be the input length and\n",
    "# SL will be the output length)\n",
    "\n",
    "SL=5000\n",
    "CL_max=40000"
   ]
  },
  {
   "cell_type": "code",
   "execution_count": 9,
   "metadata": {},
   "outputs": [],
   "source": [
    "assert CL_max % 2 == 0"
   ]
  },
  {
   "cell_type": "code",
   "execution_count": 10,
   "metadata": {},
   "outputs": [],
   "source": [
    "train_gene, validation_gene = train_test_split(annotation['gene'].drop_duplicates(),test_size=.1,random_state=435)\n",
    "annotation_train = annotation[annotation['gene'].isin(train_gene)]\n",
    "annotation_validation = annotation[annotation['gene'].isin(validation_gene)]"
   ]
  },
  {
   "cell_type": "code",
   "execution_count": 11,
   "metadata": {},
   "outputs": [],
   "source": [
    "W = np.asarray([11, 11, 11, 11, 11, 11, 11, 11,\n",
    "                21, 21, 21, 21, 41, 41, 41, 41])\n",
    "AR = np.asarray([1, 1, 1, 1, 4, 4, 4, 4,\n",
    "                 10, 10, 10, 10, 25, 25, 25, 25])"
   ]
  },
  {
   "cell_type": "code",
   "execution_count": 12,
   "metadata": {
    "scrolled": true
   },
   "outputs": [
    {
     "name": "stderr",
     "output_type": "stream",
     "text": [
      "Epoch (train) 1/10: 100%|██████████████████████████████████████████████████████| 101/101 [47:25<00:00, 28.17s/it, accepor_recall=0.879, donor_recall=0.891, loss=0.000237, pred_l1_dist=0]\n"
     ]
    },
    {
     "name": "stdout",
     "output_type": "stream",
     "text": [
      "epoch: 1/10, train loss = 0.005761\n"
     ]
    },
    {
     "name": "stderr",
     "output_type": "stream",
     "text": [
      "Epoch (val) 1/10: 100%|██████████████████████████████████████████████████████████| 12/12 [07:59<00:00, 39.93s/it, accepor_recall=0.937, donor_recall=0.924, loss=0.000518, pred_l1_dist=0]\n"
     ]
    },
    {
     "name": "stdout",
     "output_type": "stream",
     "text": [
      "\n",
      "\u001b[1mAcceptor:\u001b[0m\n",
      "0.9657\t0.8764\t0.9746\t0.9878\t0.9225\t0.9962000250816345\t0.9174000024795532\t0.12690000236034393\t0.01510000042617321\t21432\n",
      "\n",
      "\u001b[1mDonor:\u001b[0m\n",
      "0.97\t0.8813\t0.9782\t0.991\t0.9283\t0.9900000095367432\t0.7477999925613403\t0.037700001150369644\t0.004699999932199717\t21432\n",
      "epoch: 1/10, val loss = 0.000394\n"
     ]
    },
    {
     "name": "stderr",
     "output_type": "stream",
     "text": [
      "Epoch (train) 2/10: 100%|██████████████████████████████████████████████████████| 101/101 [46:24<00:00, 27.56s/it, accepor_recall=0.914, donor_recall=0.921, loss=0.000162, pred_l1_dist=0]\n"
     ]
    },
    {
     "name": "stdout",
     "output_type": "stream",
     "text": [
      "epoch: 2/10, train loss = 0.000183\n"
     ]
    },
    {
     "name": "stderr",
     "output_type": "stream",
     "text": [
      "Epoch (val) 2/10: 100%|██████████████████████████████████████████████████████████| 12/12 [07:55<00:00, 39.60s/it, accepor_recall=0.872, donor_recall=0.894, loss=0.000324, pred_l1_dist=0]\n"
     ]
    },
    {
     "name": "stdout",
     "output_type": "stream",
     "text": [
      "\n",
      "\u001b[1mAcceptor:\u001b[0m\n",
      "0.9711\t0.9042\t0.9826\t0.9915\t0.9421\t0.9666000008583069\t0.4041999876499176\t0.003800000064074993\t0.0006000000284984708\t21432\n",
      "\n",
      "\u001b[1mDonor:\u001b[0m\n",
      "0.9726\t0.9116\t0.9867\t0.9944\t0.9473\t0.9688000082969666\t0.38109999895095825\t0.002199999988079071\t0.0003000000142492354\t21432\n",
      "epoch: 2/10, val loss = 0.000218\n"
     ]
    },
    {
     "name": "stderr",
     "output_type": "stream",
     "text": [
      "Epoch (train) 3/10: 100%|██████████████████████████████████████████████████████| 101/101 [47:14<00:00, 28.07s/it, accepor_recall=0.921, donor_recall=0.932, loss=0.000155, pred_l1_dist=0]\n"
     ]
    },
    {
     "name": "stdout",
     "output_type": "stream",
     "text": [
      "epoch: 3/10, train loss = 0.000153\n"
     ]
    },
    {
     "name": "stderr",
     "output_type": "stream",
     "text": [
      "Epoch (val) 3/10: 100%|██████████████████████████████████████████████████████████| 12/12 [07:56<00:00, 39.68s/it, accepor_recall=0.892, donor_recall=0.905, loss=0.000293, pred_l1_dist=0]\n"
     ]
    },
    {
     "name": "stdout",
     "output_type": "stream",
     "text": [
      "\n",
      "\u001b[1mAcceptor:\u001b[0m\n",
      "0.9767\t0.9142\t0.9846\t0.9922\t0.9492\t0.9681000113487244\t0.4327999949455261\t0.004999999888241291\t0.0008999999845400453\t21432\n",
      "\n",
      "\u001b[1mDonor:\u001b[0m\n",
      "0.9756\t0.9186\t0.9887\t0.9946\t0.9524\t0.9789999723434448\t0.4726000130176544\t0.003700000001117587\t0.0005000000237487257\t21432\n",
      "epoch: 3/10, val loss = 0.000198\n"
     ]
    },
    {
     "name": "stderr",
     "output_type": "stream",
     "text": [
      "Epoch (train) 4/10: 100%|███████████████████████████████████████████████████████| 101/101 [45:59<00:00, 27.32s/it, accepor_recall=0.936, donor_recall=0.94, loss=0.000135, pred_l1_dist=0]\n"
     ]
    },
    {
     "name": "stdout",
     "output_type": "stream",
     "text": [
      "epoch: 4/10, train loss = 0.000138\n"
     ]
    },
    {
     "name": "stderr",
     "output_type": "stream",
     "text": [
      "Epoch (val) 4/10: 100%|██████████████████████████████████████████████████████████| 12/12 [07:59<00:00, 39.99s/it, accepor_recall=0.903, donor_recall=0.912, loss=0.000308, pred_l1_dist=0]\n"
     ]
    },
    {
     "name": "stdout",
     "output_type": "stream",
     "text": [
      "\n",
      "\u001b[1mAcceptor:\u001b[0m\n",
      "0.9748\t0.9128\t0.9865\t0.9924\t0.9491\t0.9894999861717224\t0.5375000238418579\t0.0035000001080334187\t0.0005000000237487257\t21432\n",
      "\n",
      "\u001b[1mDonor:\u001b[0m\n",
      "0.9743\t0.9155\t0.989\t0.9952\t0.9516\t0.9837999939918518\t0.42879998683929443\t0.0032999999821186066\t0.00039999998989515007\t21432\n",
      "epoch: 4/10, val loss = 0.000207\n"
     ]
    },
    {
     "name": "stderr",
     "output_type": "stream",
     "text": [
      "Epoch (train) 5/10: 100%|███████████████████████████████████████████████████████| 101/101 [46:19<00:00, 27.52s/it, accepor_recall=0.94, donor_recall=0.947, loss=0.000126, pred_l1_dist=0]\n"
     ]
    },
    {
     "name": "stdout",
     "output_type": "stream",
     "text": [
      "epoch: 5/10, train loss = 0.000127\n"
     ]
    },
    {
     "name": "stderr",
     "output_type": "stream",
     "text": [
      "Epoch (val) 5/10: 100%|██████████████████████████████████████████████████████████| 12/12 [08:38<00:00, 43.25s/it, accepor_recall=0.883, donor_recall=0.852, loss=0.000287, pred_l1_dist=0]\n"
     ]
    },
    {
     "name": "stdout",
     "output_type": "stream",
     "text": [
      "\n",
      "\u001b[1mAcceptor:\u001b[0m\n",
      "0.9761\t0.9135\t0.9876\t0.9927\t0.9502\t0.963699996471405\t0.5318999886512756\t0.007799999788403511\t0.0013000000035390258\t21432\n",
      "\n",
      "\u001b[1mDonor:\u001b[0m\n",
      "0.9742\t0.9143\t0.9904\t0.9954\t0.9526\t0.9538000226020813\t0.34060001373291016\t0.0027000000700354576\t0.00039999998989515007\t21432\n",
      "epoch: 5/10, val loss = 0.000197\n"
     ]
    },
    {
     "name": "stderr",
     "output_type": "stream",
     "text": [
      "Epoch (train) 6/10: 100%|██████████████████████████████████████████████████████| 101/101 [47:24<00:00, 28.16s/it, accepor_recall=0.947, donor_recall=0.952, loss=0.000116, pred_l1_dist=0]\n"
     ]
    },
    {
     "name": "stdout",
     "output_type": "stream",
     "text": [
      "epoch: 6/10, train loss = 0.000119\n"
     ]
    },
    {
     "name": "stderr",
     "output_type": "stream",
     "text": [
      "Epoch (val) 6/10: 100%|████████████████████████████████████████████████████████████| 12/12 [07:54<00:00, 39.51s/it, accepor_recall=0.9, donor_recall=0.914, loss=0.000277, pred_l1_dist=0]\n"
     ]
    },
    {
     "name": "stdout",
     "output_type": "stream",
     "text": [
      "\n",
      "\u001b[1mAcceptor:\u001b[0m\n",
      "0.9767\t0.9253\t0.9867\t0.9923\t0.9535\t0.9800000190734863\t0.4189999997615814\t0.0019000000320374966\t0.00039999998989515007\t21432\n",
      "\n",
      "\u001b[1mDonor:\u001b[0m\n",
      "0.9756\t0.9285\t0.9898\t0.9951\t0.9572\t0.9824000000953674\t0.4056999981403351\t0.001500000013038516\t0.00019999999494757503\t21432\n",
      "epoch: 6/10, val loss = 0.000187\n"
     ]
    },
    {
     "name": "stderr",
     "output_type": "stream",
     "text": [
      "Epoch (train) 7/10: 100%|██████████████████████████████████████████████████████| 101/101 [46:18<00:00, 27.51s/it, accepor_recall=0.946, donor_recall=0.945, loss=0.000137, pred_l1_dist=0]\n"
     ]
    },
    {
     "name": "stdout",
     "output_type": "stream",
     "text": [
      "epoch: 7/10, train loss = 0.000112\n"
     ]
    },
    {
     "name": "stderr",
     "output_type": "stream",
     "text": [
      "Epoch (val) 7/10: 100%|██████████████████████████████████████████████████████████| 12/12 [07:56<00:00, 39.67s/it, accepor_recall=0.916, donor_recall=0.945, loss=0.000273, pred_l1_dist=0]\n"
     ]
    },
    {
     "name": "stdout",
     "output_type": "stream",
     "text": [
      "\n",
      "\u001b[1mAcceptor:\u001b[0m\n",
      "0.9773\t0.9235\t0.9882\t0.9937\t0.9548\t0.9872999787330627\t0.5906000137329102\t0.00559999980032444\t0.0008999999845400453\t21432\n",
      "\n",
      "\u001b[1mDonor:\u001b[0m\n",
      "0.9759\t0.9274\t0.9905\t0.9956\t0.9574\t0.987500011920929\t0.6642000079154968\t0.007499999832361937\t0.0010000000474974513\t21432\n",
      "epoch: 7/10, val loss = 0.000184\n"
     ]
    },
    {
     "name": "stderr",
     "output_type": "stream",
     "text": [
      "Epoch (train) 8/10: 100%|████████████████████████████████████████████████████████| 101/101 [46:22<00:00, 27.55s/it, accepor_recall=0.966, donor_recall=0.964, loss=8.2e-5, pred_l1_dist=0]\n"
     ]
    },
    {
     "name": "stdout",
     "output_type": "stream",
     "text": [
      "epoch: 8/10, train loss = 0.000093\n"
     ]
    },
    {
     "name": "stderr",
     "output_type": "stream",
     "text": [
      "Epoch (val) 8/10: 100%|██████████████████████████████████████████████████████████| 12/12 [07:57<00:00, 39.82s/it, accepor_recall=0.913, donor_recall=0.929, loss=0.000266, pred_l1_dist=0]\n"
     ]
    },
    {
     "name": "stdout",
     "output_type": "stream",
     "text": [
      "\n",
      "\u001b[1mAcceptor:\u001b[0m\n",
      "0.9756\t0.925\t0.9881\t0.9932\t0.9544\t0.9790999889373779\t0.6262000203132629\t0.002400000113993883\t0.00039999998989515007\t21432\n",
      "\n",
      "\u001b[1mDonor:\u001b[0m\n",
      "0.9745\t0.9288\t0.9917\t0.9957\t0.9574\t0.977400004863739\t0.6158000230789185\t0.0026000000070780516\t0.00039999998989515007\t21432\n",
      "epoch: 8/10, val loss = 0.000179\n"
     ]
    },
    {
     "name": "stderr",
     "output_type": "stream",
     "text": [
      "Epoch (train) 9/10: 100%|███████████████████████████████████████████████████████| 101/101 [46:32<00:00, 27.65s/it, accepor_recall=0.964, donor_recall=0.969, loss=7.45e-5, pred_l1_dist=0]\n"
     ]
    },
    {
     "name": "stdout",
     "output_type": "stream",
     "text": [
      "epoch: 9/10, train loss = 0.000080\n"
     ]
    },
    {
     "name": "stderr",
     "output_type": "stream",
     "text": [
      "Epoch (val) 9/10: 100%|██████████████████████████████████████████████████████████| 12/12 [08:03<00:00, 40.30s/it, accepor_recall=0.908, donor_recall=0.918, loss=0.000266, pred_l1_dist=0]\n"
     ]
    },
    {
     "name": "stdout",
     "output_type": "stream",
     "text": [
      "\n",
      "\u001b[1mAcceptor:\u001b[0m\n",
      "0.9742\t0.9292\t0.9882\t0.9935\t0.9554\t0.986299991607666\t0.5029000043869019\t0.00139999995008111\t0.0003000000142492354\t21432\n",
      "\n",
      "\u001b[1mDonor:\u001b[0m\n",
      "0.9761\t0.9322\t0.9911\t0.9957\t0.9582\t0.983299970626831\t0.5027999877929688\t0.0013000000035390258\t0.00019999999494757503\t21432\n",
      "epoch: 9/10, val loss = 0.000178\n"
     ]
    },
    {
     "name": "stderr",
     "output_type": "stream",
     "text": [
      "Epoch (train) 10/10: 100%|██████████████████████████████████████████████████████| 101/101 [46:23<00:00, 27.56s/it, accepor_recall=0.965, donor_recall=0.964, loss=7.22e-5, pred_l1_dist=0]\n"
     ]
    },
    {
     "name": "stdout",
     "output_type": "stream",
     "text": [
      "epoch: 10/10, train loss = 0.000071\n"
     ]
    },
    {
     "name": "stderr",
     "output_type": "stream",
     "text": [
      "Epoch (val) 10/10: 100%|█████████████████████████████████████████████████████████| 12/12 [08:00<00:00, 40.03s/it, accepor_recall=0.916, donor_recall=0.923, loss=0.000261, pred_l1_dist=0]\n"
     ]
    },
    {
     "name": "stdout",
     "output_type": "stream",
     "text": [
      "\n",
      "\u001b[1mAcceptor:\u001b[0m\n",
      "0.9752\t0.9299\t0.9884\t0.9933\t0.9556\t0.987500011920929\t0.542900025844574\t0.0020000000949949026\t0.00039999998989515007\t21432\n",
      "\n",
      "\u001b[1mDonor:\u001b[0m\n",
      "0.9743\t0.9335\t0.9913\t0.9953\t0.958\t0.9861999750137329\t0.5164999961853027\t0.001500000013038516\t0.0003000000142492354\t21432\n",
      "epoch: 10/10, val loss = 0.000175\n"
     ]
    },
    {
     "data": {
      "image/png": "[encoded data removed]",
      "text/plain": [
       "<Figure size 432x288 with 1 Axes>"
      ]
     },
     "metadata": {
      "needs_background": "light"
     },
     "output_type": "display_data"
    },
    {
     "name": "stderr",
     "output_type": "stream",
     "text": [
      "Epoch (train) 1/10: 100%|██████████████████████████████████████████████████████| 101/101 [26:38<00:00, 15.83s/it, accepor_recall=0.874, donor_recall=0.883, loss=0.000219, pred_l1_dist=0]\n"
     ]
    },
    {
     "name": "stdout",
     "output_type": "stream",
     "text": [
      "epoch: 1/10, train loss = 0.007889\n"
     ]
    },
    {
     "name": "stderr",
     "output_type": "stream",
     "text": [
      "Epoch (val) 1/10: 100%|██████████████████████████████████████████████████████████| 12/12 [04:29<00:00, 22.45s/it, accepor_recall=0.785, donor_recall=0.816, loss=0.000372, pred_l1_dist=0]\n"
     ]
    },
    {
     "name": "stdout",
     "output_type": "stream",
     "text": [
      "\n",
      "\u001b[1mAcceptor:\u001b[0m\n",
      "0.9637\t0.8647\t0.9662\t0.9834\t0.9123\t0.9320999979972839\t0.1477999985218048\t0.003800000064074993\t0.0005000000237487257\t21432\n",
      "\n",
      "\u001b[1mDonor:\u001b[0m\n",
      "0.9692\t0.8782\t0.9764\t0.9909\t0.9245\t0.9495999813079834\t0.2092999964952469\t0.004100000020116568\t0.0005000000237487257\t21432\n",
      "epoch: 1/10, val loss = 0.000317\n"
     ]
    },
    {
     "name": "stderr",
     "output_type": "stream",
     "text": [
      "Epoch (train) 2/10: 100%|██████████████████████████████████████████████████████| 101/101 [26:08<00:00, 15.53s/it, accepor_recall=0.895, donor_recall=0.905, loss=0.000184, pred_l1_dist=0]\n"
     ]
    },
    {
     "name": "stdout",
     "output_type": "stream",
     "text": [
      "epoch: 2/10, train loss = 0.000191\n"
     ]
    },
    {
     "name": "stderr",
     "output_type": "stream",
     "text": [
      "Epoch (val) 2/10: 100%|███████████████████████████████████████████████████████████| 12/12 [04:23<00:00, 21.96s/it, accepor_recall=0.865, donor_recall=0.85, loss=0.000312, pred_l1_dist=0]\n"
     ]
    },
    {
     "name": "stdout",
     "output_type": "stream",
     "text": [
      "\n",
      "\u001b[1mAcceptor:\u001b[0m\n",
      "0.9694\t0.8872\t0.9791\t0.9896\t0.9315\t0.949999988079071\t0.45820000767707825\t0.012299999594688416\t0.0017000000225380063\t21432\n",
      "\n",
      "\u001b[1mDonor:\u001b[0m\n",
      "0.9686\t0.8889\t0.9821\t0.9924\t0.9341\t0.9351000189781189\t0.3653999865055084\t0.009100000374019146\t0.0013000000035390258\t21432\n",
      "epoch: 2/10, val loss = 0.000247\n"
     ]
    },
    {
     "name": "stderr",
     "output_type": "stream",
     "text": [
      "Epoch (train) 3/10: 100%|██████████████████████████████████████████████████████| 101/101 [26:01<00:00, 15.46s/it, accepor_recall=0.905, donor_recall=0.915, loss=0.000181, pred_l1_dist=0]\n"
     ]
    },
    {
     "name": "stdout",
     "output_type": "stream",
     "text": [
      "epoch: 3/10, train loss = 0.000165\n"
     ]
    },
    {
     "name": "stderr",
     "output_type": "stream",
     "text": [
      "Epoch (val) 3/10: 100%|███████████████████████████████████████████████████████████| 12/12 [04:27<00:00, 22.30s/it, accepor_recall=0.89, donor_recall=0.886, loss=0.000265, pred_l1_dist=0]\n"
     ]
    },
    {
     "name": "stdout",
     "output_type": "stream",
     "text": [
      "\n",
      "\u001b[1mAcceptor:\u001b[0m\n",
      "0.9714\t0.9134\t0.9845\t0.9913\t0.9472\t0.9580000042915344\t0.44940000772476196\t0.009800000116229057\t0.0015999999595806003\t21432\n",
      "\n",
      "\u001b[1mDonor:\u001b[0m\n",
      "0.9735\t0.9176\t0.9885\t0.9942\t0.951\t0.9117000102996826\t0.328900009393692\t0.00419999985024333\t0.000699999975040555\t21432\n",
      "epoch: 3/10, val loss = 0.000205\n"
     ]
    },
    {
     "name": "stderr",
     "output_type": "stream",
     "text": [
      "Epoch (train) 4/10: 100%|███████████████████████████████████████████████████████| 101/101 [26:05<00:00, 15.50s/it, accepor_recall=0.925, donor_recall=0.926, loss=0.00015, pred_l1_dist=0]\n"
     ]
    },
    {
     "name": "stdout",
     "output_type": "stream",
     "text": [
      "epoch: 4/10, train loss = 0.000146\n"
     ]
    },
    {
     "name": "stderr",
     "output_type": "stream",
     "text": [
      "Epoch (val) 4/10: 100%|██████████████████████████████████████████████████████████| 12/12 [04:26<00:00, 22.23s/it, accepor_recall=0.793, donor_recall=0.792, loss=0.000319, pred_l1_dist=0]\n"
     ]
    },
    {
     "name": "stdout",
     "output_type": "stream",
     "text": [
      "\n",
      "\u001b[1mAcceptor:\u001b[0m\n",
      "0.9704\t0.9015\t0.98\t0.99\t0.9395\t0.9020000100135803\t0.16110000014305115\t0.003000000026077032\t0.000699999975040555\t21432\n",
      "\n",
      "\u001b[1mDonor:\u001b[0m\n",
      "0.9724\t0.8983\t0.9865\t0.9935\t0.9424\t0.8889999985694885\t0.15199999511241913\t0.002199999988079071\t0.00039999998989515007\t21432\n",
      "epoch: 4/10, val loss = 0.000268\n"
     ]
    },
    {
     "name": "stderr",
     "output_type": "stream",
     "text": [
      "Epoch (train) 5/10: 100%|██████████████████████████████████████████████████████| 101/101 [25:49<00:00, 15.34s/it, accepor_recall=0.933, donor_recall=0.937, loss=0.000146, pred_l1_dist=0]\n"
     ]
    },
    {
     "name": "stdout",
     "output_type": "stream",
     "text": [
      "epoch: 5/10, train loss = 0.000132\n"
     ]
    },
    {
     "name": "stderr",
     "output_type": "stream",
     "text": [
      "Epoch (val) 5/10: 100%|██████████████████████████████████████████████████████████| 12/12 [04:22<00:00, 21.89s/it, accepor_recall=0.876, donor_recall=0.896, loss=0.000266, pred_l1_dist=0]\n"
     ]
    },
    {
     "name": "stdout",
     "output_type": "stream",
     "text": [
      "\n",
      "\u001b[1mAcceptor:\u001b[0m\n",
      "0.9709\t0.9121\t0.9839\t0.991\t0.9444\t0.9423999786376953\t0.39329999685287476\t0.007799999788403511\t0.0017000000225380063\t21432\n",
      "\n",
      "\u001b[1mDonor:\u001b[0m\n",
      "0.9712\t0.9167\t0.9885\t0.9948\t0.9496\t0.9437000155448914\t0.414000004529953\t0.0071000000461936\t0.0013000000035390258\t21432\n",
      "epoch: 5/10, val loss = 0.000203\n"
     ]
    },
    {
     "name": "stderr",
     "output_type": "stream",
     "text": [
      "Epoch (train) 6/10: 100%|██████████████████████████████████████████████████████| 101/101 [26:11<00:00, 15.56s/it, accepor_recall=0.937, donor_recall=0.943, loss=0.000155, pred_l1_dist=0]\n"
     ]
    },
    {
     "name": "stdout",
     "output_type": "stream",
     "text": [
      "epoch: 6/10, train loss = 0.000124\n"
     ]
    },
    {
     "name": "stderr",
     "output_type": "stream",
     "text": [
      "Epoch (val) 6/10: 100%|███████████████████████████████████████████████████████████| 12/12 [04:24<00:00, 22.02s/it, accepor_recall=0.902, donor_recall=0.914, loss=0.00025, pred_l1_dist=0]\n"
     ]
    },
    {
     "name": "stdout",
     "output_type": "stream",
     "text": [
      "\n",
      "\u001b[1mAcceptor:\u001b[0m\n",
      "0.9714\t0.9181\t0.9871\t0.9925\t0.9495\t0.9466000199317932\t0.4350000023841858\t0.004000000189989805\t0.000699999975040555\t21432\n",
      "\n",
      "\u001b[1mDonor:\u001b[0m\n",
      "0.9719\t0.9228\t0.9894\t0.9946\t0.9529\t0.9316999912261963\t0.45989999175071716\t0.0035000001080334187\t0.0005000000237487257\t21432\n",
      "epoch: 6/10, val loss = 0.000190\n"
     ]
    },
    {
     "name": "stderr",
     "output_type": "stream",
     "text": [
      "Epoch (train) 7/10: 100%|██████████████████████████████████████████████████████| 101/101 [26:29<00:00, 15.74s/it, accepor_recall=0.948, donor_recall=0.949, loss=0.000125, pred_l1_dist=0]\n"
     ]
    },
    {
     "name": "stdout",
     "output_type": "stream",
     "text": [
      "epoch: 7/10, train loss = 0.000116\n"
     ]
    },
    {
     "name": "stderr",
     "output_type": "stream",
     "text": [
      "Epoch (val) 7/10: 100%|███████████████████████████████████████████████████████████| 12/12 [04:30<00:00, 22.57s/it, accepor_recall=0.904, donor_recall=0.92, loss=0.000277, pred_l1_dist=0]\n"
     ]
    },
    {
     "name": "stdout",
     "output_type": "stream",
     "text": [
      "\n",
      "\u001b[1mAcceptor:\u001b[0m\n",
      "0.9666\t0.9084\t0.9854\t0.9919\t0.9411\t0.9207000136375427\t0.5523999929428101\t0.007300000172108412\t0.0010999999940395355\t21432\n",
      "\n",
      "\u001b[1mDonor:\u001b[0m\n",
      "0.9672\t0.9086\t0.9888\t0.9946\t0.9433\t0.9402999877929688\t0.649399995803833\t0.008100000210106373\t0.0010999999940395355\t21432\n",
      "epoch: 7/10, val loss = 0.000212\n"
     ]
    },
    {
     "name": "stderr",
     "output_type": "stream",
     "text": [
      "Epoch (train) 8/10: 100%|████████████████████████████████████████████████████████| 101/101 [26:25<00:00, 15.70s/it, accepor_recall=0.96, donor_recall=0.961, loss=8.59e-5, pred_l1_dist=0]\n"
     ]
    },
    {
     "name": "stdout",
     "output_type": "stream",
     "text": [
      "epoch: 8/10, train loss = 0.000095\n"
     ]
    },
    {
     "name": "stderr",
     "output_type": "stream",
     "text": [
      "Epoch (val) 8/10: 100%|██████████████████████████████████████████████████████████| 12/12 [04:32<00:00, 22.69s/it, accepor_recall=0.907, donor_recall=0.921, loss=0.000249, pred_l1_dist=0]\n"
     ]
    },
    {
     "name": "stdout",
     "output_type": "stream",
     "text": [
      "\n",
      "\u001b[1mAcceptor:\u001b[0m\n",
      "0.9779\t0.9271\t0.9862\t0.9924\t0.9554\t0.9848999977111816\t0.39250001311302185\t0.00139999995008111\t0.0003000000142492354\t21432\n",
      "\n",
      "\u001b[1mDonor:\u001b[0m\n",
      "0.9765\t0.9299\t0.9902\t0.9953\t0.9578\t0.9860000014305115\t0.46560001373291016\t0.0013000000035390258\t0.00019999999494757503\t21432\n",
      "epoch: 8/10, val loss = 0.000187\n"
     ]
    },
    {
     "name": "stderr",
     "output_type": "stream",
     "text": [
      "Epoch (train) 9/10: 100%|███████████████████████████████████████████████████████| 101/101 [26:07<00:00, 15.51s/it, accepor_recall=0.964, donor_recall=0.967, loss=9.32e-5, pred_l1_dist=0]\n"
     ]
    },
    {
     "name": "stdout",
     "output_type": "stream",
     "text": [
      "epoch: 9/10, train loss = 0.000081\n"
     ]
    },
    {
     "name": "stderr",
     "output_type": "stream",
     "text": [
      "Epoch (val) 9/10: 100%|██████████████████████████████████████████████████████████| 12/12 [04:28<00:00, 22.37s/it, accepor_recall=0.912, donor_recall=0.916, loss=0.000229, pred_l1_dist=0]\n"
     ]
    },
    {
     "name": "stdout",
     "output_type": "stream",
     "text": [
      "\n",
      "\u001b[1mAcceptor:\u001b[0m\n",
      "0.9774\t0.9309\t0.9893\t0.9939\t0.9596\t0.9829000234603882\t0.4912000000476837\t0.0017999999690800905\t0.0003000000142492354\t21432\n",
      "\n",
      "\u001b[1mDonor:\u001b[0m\n",
      "0.9747\t0.934\t0.9922\t0.9958\t0.9593\t0.9814000129699707\t0.4603999853134155\t0.001500000013038516\t0.0003000000142492354\t21432\n",
      "epoch: 9/10, val loss = 0.000173\n"
     ]
    },
    {
     "name": "stderr",
     "output_type": "stream",
     "text": [
      "Epoch (train) 10/10: 100%|██████████████████████████████████████████████████████| 101/101 [26:15<00:00, 15.60s/it, accepor_recall=0.973, donor_recall=0.973, loss=6.55e-5, pred_l1_dist=0]\n"
     ]
    },
    {
     "name": "stdout",
     "output_type": "stream",
     "text": [
      "epoch: 10/10, train loss = 0.000072\n"
     ]
    },
    {
     "name": "stderr",
     "output_type": "stream",
     "text": [
      "Epoch (val) 10/10: 100%|█████████████████████████████████████████████████████████| 12/12 [04:26<00:00, 22.20s/it, accepor_recall=0.911, donor_recall=0.913, loss=0.000244, pred_l1_dist=0]\n"
     ]
    },
    {
     "name": "stdout",
     "output_type": "stream",
     "text": [
      "\n",
      "\u001b[1mAcceptor:\u001b[0m\n",
      "0.9779\t0.9311\t0.9888\t0.9935\t0.9597\t0.9894000291824341\t0.45249998569488525\t0.0008999999845400453\t0.00019999999494757503\t21432\n",
      "\n",
      "\u001b[1mDonor:\u001b[0m\n",
      "0.9763\t0.9324\t0.9912\t0.9951\t0.96\t0.9908000230789185\t0.460999995470047\t0.0010000000474974513\t0.00019999999494757503\t21432\n",
      "epoch: 10/10, val loss = 0.000182\n"
     ]
    },
    {
     "data": {
      "image/png": "[encoded data removed]",
      "text/plain": [
       "<Figure size 432x288 with 1 Axes>"
      ]
     },
     "metadata": {
      "needs_background": "light"
     },
     "output_type": "display_data"
    },
    {
     "name": "stderr",
     "output_type": "stream",
     "text": [
      "Epoch (train) 1/10: 100%|██████████████████████████████████████████████████████| 101/101 [15:54<00:00,  9.45s/it, accepor_recall=0.867, donor_recall=0.881, loss=0.000205, pred_l1_dist=0]\n"
     ]
    },
    {
     "name": "stdout",
     "output_type": "stream",
     "text": [
      "epoch: 1/10, train loss = 0.011620\n"
     ]
    },
    {
     "name": "stderr",
     "output_type": "stream",
     "text": [
      "Epoch (val) 1/10: 100%|██████████████████████████████████████████████████████████| 12/12 [02:37<00:00, 13.11s/it, accepor_recall=0.839, donor_recall=0.848, loss=0.000375, pred_l1_dist=0]\n"
     ]
    },
    {
     "name": "stdout",
     "output_type": "stream",
     "text": [
      "\n",
      "\u001b[1mAcceptor:\u001b[0m\n",
      "0.9566\t0.8389\t0.9588\t0.9819\t0.8932\t0.9164999723434448\t0.5461000204086304\t0.07270000129938126\t0.01269999984651804\t21432\n",
      "\n",
      "\u001b[1mDonor:\u001b[0m\n",
      "0.9611\t0.8547\t0.969\t0.9878\t0.9079\t0.9314000010490417\t0.5171999931335449\t0.04859999939799309\t0.007300000172108412\t21432\n",
      "epoch: 1/10, val loss = 0.000336\n"
     ]
    },
    {
     "name": "stderr",
     "output_type": "stream",
     "text": [
      "Epoch (train) 2/10: 100%|██████████████████████████████████████████████████████| 101/101 [15:59<00:00,  9.50s/it, accepor_recall=0.896, donor_recall=0.908, loss=0.000199, pred_l1_dist=0]\n"
     ]
    },
    {
     "name": "stdout",
     "output_type": "stream",
     "text": [
      "epoch: 2/10, train loss = 0.000190\n"
     ]
    },
    {
     "name": "stderr",
     "output_type": "stream",
     "text": [
      "Epoch (val) 2/10: 100%|██████████████████████████████████████████████████████████| 12/12 [02:42<00:00, 13.52s/it, accepor_recall=0.922, donor_recall=0.939, loss=0.000494, pred_l1_dist=0]\n"
     ]
    },
    {
     "name": "stdout",
     "output_type": "stream",
     "text": [
      "\n",
      "\u001b[1mAcceptor:\u001b[0m\n",
      "0.9619\t0.8523\t0.9627\t0.9832\t0.9041\t0.9811999797821045\t0.847100019454956\t0.14869999885559082\t0.016100000590085983\t21432\n",
      "\n",
      "\u001b[1mDonor:\u001b[0m\n",
      "0.9649\t0.8687\t0.972\t0.9896\t0.9182\t0.978600025177002\t0.8410999774932861\t0.13910000026226044\t0.01769999973475933\t21432\n",
      "epoch: 2/10, val loss = 0.000448\n"
     ]
    },
    {
     "name": "stderr",
     "output_type": "stream",
     "text": [
      "Epoch (train) 3/10: 100%|██████████████████████████████████████████████████████| 101/101 [15:51<00:00,  9.42s/it, accepor_recall=0.911, donor_recall=0.921, loss=0.000169, pred_l1_dist=0]\n"
     ]
    },
    {
     "name": "stdout",
     "output_type": "stream",
     "text": [
      "epoch: 3/10, train loss = 0.000172\n"
     ]
    },
    {
     "name": "stderr",
     "output_type": "stream",
     "text": [
      "Epoch (val) 3/10: 100%|███████████████████████████████████████████████████████████| 12/12 [02:35<00:00, 12.99s/it, accepor_recall=0.93, donor_recall=0.928, loss=0.000239, pred_l1_dist=0]\n"
     ]
    },
    {
     "name": "stdout",
     "output_type": "stream",
     "text": [
      "\n",
      "\u001b[1mAcceptor:\u001b[0m\n",
      "0.9751\t0.9118\t0.9844\t0.9916\t0.9476\t0.9869999885559082\t0.6902999877929688\t0.008999999612569809\t0.0010000000474974513\t21432\n",
      "\n",
      "\u001b[1mDonor:\u001b[0m\n",
      "0.9746\t0.9155\t0.9889\t0.9948\t0.9491\t0.9800000190734863\t0.6406999826431274\t0.006399999838322401\t0.0005000000237487257\t21432\n",
      "epoch: 3/10, val loss = 0.000211\n"
     ]
    },
    {
     "name": "stderr",
     "output_type": "stream",
     "text": [
      "Epoch (train) 4/10: 100%|██████████████████████████████████████████████████████| 101/101 [16:18<00:00,  9.69s/it, accepor_recall=0.922, donor_recall=0.927, loss=0.000155, pred_l1_dist=0]\n"
     ]
    },
    {
     "name": "stdout",
     "output_type": "stream",
     "text": [
      "epoch: 4/10, train loss = 0.000159\n"
     ]
    },
    {
     "name": "stderr",
     "output_type": "stream",
     "text": [
      "Epoch (val) 4/10: 100%|██████████████████████████████████████████████████████████| 12/12 [02:42<00:00, 13.57s/it, accepor_recall=0.905, donor_recall=0.938, loss=0.000342, pred_l1_dist=0]\n"
     ]
    },
    {
     "name": "stdout",
     "output_type": "stream",
     "text": [
      "\n",
      "\u001b[1mAcceptor:\u001b[0m\n",
      "0.9655\t0.865\t0.9761\t0.9896\t0.9178\t0.9513999819755554\t0.6693000197410583\t0.037700001150369644\t0.004100000020116568\t21432\n",
      "\n",
      "\u001b[1mDonor:\u001b[0m\n",
      "0.9581\t0.8661\t0.9811\t0.9927\t0.9188\t0.9739000201225281\t0.8284000158309937\t0.027499999850988388\t0.001500000013038516\t21432\n",
      "epoch: 4/10, val loss = 0.000310\n"
     ]
    },
    {
     "name": "stderr",
     "output_type": "stream",
     "text": [
      "Epoch (train) 5/10: 100%|██████████████████████████████████████████████████████| 101/101 [15:52<00:00,  9.43s/it, accepor_recall=0.929, donor_recall=0.934, loss=0.000133, pred_l1_dist=0]\n"
     ]
    },
    {
     "name": "stdout",
     "output_type": "stream",
     "text": [
      "epoch: 5/10, train loss = 0.000148\n"
     ]
    },
    {
     "name": "stderr",
     "output_type": "stream",
     "text": [
      "Epoch (val) 5/10: 100%|███████████████████████████████████████████████████████████| 12/12 [02:37<00:00, 13.13s/it, accepor_recall=0.905, donor_recall=0.941, loss=0.00024, pred_l1_dist=0]\n"
     ]
    },
    {
     "name": "stdout",
     "output_type": "stream",
     "text": [
      "\n",
      "\u001b[1mAcceptor:\u001b[0m\n",
      "0.9741\t0.9118\t0.9846\t0.9911\t0.9474\t0.9799000024795532\t0.4984000027179718\t0.002400000113993883\t0.0003000000142492354\t21432\n",
      "\n",
      "\u001b[1mDonor:\u001b[0m\n",
      "0.9682\t0.9169\t0.9904\t0.9951\t0.9474\t0.9793999791145325\t0.7455000281333923\t0.003599999938160181\t0.0003000000142492354\t21432\n",
      "epoch: 5/10, val loss = 0.000208\n"
     ]
    },
    {
     "name": "stderr",
     "output_type": "stream",
     "text": [
      "Epoch (train) 6/10: 100%|██████████████████████████████████████████████████████| 101/101 [15:52<00:00,  9.43s/it, accepor_recall=0.935, donor_recall=0.939, loss=0.000137, pred_l1_dist=0]\n"
     ]
    },
    {
     "name": "stdout",
     "output_type": "stream",
     "text": [
      "epoch: 6/10, train loss = 0.000137\n"
     ]
    },
    {
     "name": "stderr",
     "output_type": "stream",
     "text": [
      "Epoch (val) 6/10: 100%|██████████████████████████████████████████████████████████| 12/12 [02:43<00:00, 13.63s/it, accepor_recall=0.915, donor_recall=0.937, loss=0.000246, pred_l1_dist=0]\n"
     ]
    },
    {
     "name": "stdout",
     "output_type": "stream",
     "text": [
      "\n",
      "\u001b[1mAcceptor:\u001b[0m\n",
      "0.9726\t0.9071\t0.9845\t0.9918\t0.9436\t0.965499997138977\t0.6093999743461609\t0.00800000037997961\t0.0010000000474974513\t21432\n",
      "\n",
      "\u001b[1mDonor:\u001b[0m\n",
      "0.9751\t0.9112\t0.9895\t0.9952\t0.9505\t0.9832000136375427\t0.7506999969482422\t0.007600000128149986\t0.0005000000237487257\t21432\n",
      "epoch: 6/10, val loss = 0.000213\n"
     ]
    },
    {
     "name": "stderr",
     "output_type": "stream",
     "text": [
      "Epoch (train) 7/10: 100%|██████████████████████████████████████████████████████| 101/101 [16:16<00:00,  9.67s/it, accepor_recall=0.942, donor_recall=0.947, loss=0.000132, pred_l1_dist=0]\n"
     ]
    },
    {
     "name": "stdout",
     "output_type": "stream",
     "text": [
      "epoch: 7/10, train loss = 0.000129\n"
     ]
    },
    {
     "name": "stderr",
     "output_type": "stream",
     "text": [
      "Epoch (val) 7/10: 100%|██████████████████████████████████████████████████████████| 12/12 [02:38<00:00, 13.25s/it, accepor_recall=0.906, donor_recall=0.909, loss=0.000241, pred_l1_dist=0]\n"
     ]
    },
    {
     "name": "stdout",
     "output_type": "stream",
     "text": [
      "\n",
      "\u001b[1mAcceptor:\u001b[0m\n",
      "0.9742\t0.9162\t0.9837\t0.9901\t0.9474\t0.9872000217437744\t0.46230000257492065\t0.002300000051036477\t0.0003000000142492354\t21432\n",
      "\n",
      "\u001b[1mDonor:\u001b[0m\n",
      "0.9728\t0.9148\t0.9873\t0.9943\t0.9497\t0.9790999889373779\t0.4634999930858612\t0.004000000189989805\t0.0005000000237487257\t21432\n",
      "epoch: 7/10, val loss = 0.000208\n"
     ]
    },
    {
     "name": "stderr",
     "output_type": "stream",
     "text": [
      "Epoch (train) 8/10: 100%|███████████████████████████████████████████████████████| 101/101 [16:07<00:00,  9.58s/it, accepor_recall=0.956, donor_recall=0.96, loss=0.000101, pred_l1_dist=0]\n"
     ]
    },
    {
     "name": "stdout",
     "output_type": "stream",
     "text": [
      "epoch: 8/10, train loss = 0.000103\n"
     ]
    },
    {
     "name": "stderr",
     "output_type": "stream",
     "text": [
      "Epoch (val) 8/10: 100%|██████████████████████████████████████████████████████████| 12/12 [02:46<00:00, 13.84s/it, accepor_recall=0.933, donor_recall=0.937, loss=0.000201, pred_l1_dist=0]\n"
     ]
    },
    {
     "name": "stdout",
     "output_type": "stream",
     "text": [
      "\n",
      "\u001b[1mAcceptor:\u001b[0m\n",
      "0.9743\t0.9263\t0.9877\t0.9937\t0.9546\t0.9814000129699707\t0.6661999821662903\t0.0044999998062849045\t0.0006000000284984708\t21432\n",
      "\n",
      "\u001b[1mDonor:\u001b[0m\n",
      "0.9736\t0.9295\t0.9904\t0.9955\t0.9582\t0.9775999784469604\t0.6216999888420105\t0.003100000089034438\t0.00039999998989515007\t21432\n",
      "epoch: 8/10, val loss = 0.000174\n"
     ]
    },
    {
     "name": "stderr",
     "output_type": "stream",
     "text": [
      "Epoch (train) 9/10: 100%|███████████████████████████████████████████████████████| 101/101 [16:25<00:00,  9.76s/it, accepor_recall=0.961, donor_recall=0.965, loss=9.26e-5, pred_l1_dist=0]\n"
     ]
    },
    {
     "name": "stdout",
     "output_type": "stream",
     "text": [
      "epoch: 9/10, train loss = 0.000087\n"
     ]
    },
    {
     "name": "stderr",
     "output_type": "stream",
     "text": [
      "Epoch (val) 9/10: 100%|██████████████████████████████████████████████████████████| 12/12 [02:41<00:00, 13.45s/it, accepor_recall=0.908, donor_recall=0.914, loss=0.000201, pred_l1_dist=0]\n"
     ]
    },
    {
     "name": "stdout",
     "output_type": "stream",
     "text": [
      "\n",
      "\u001b[1mAcceptor:\u001b[0m\n",
      "0.9768\t0.9287\t0.9887\t0.9939\t0.9579\t0.9805999994277954\t0.40529999136924744\t0.0015999999595806003\t0.0003000000142492354\t21432\n",
      "\n",
      "\u001b[1mDonor:\u001b[0m\n",
      "0.9772\t0.932\t0.9914\t0.9953\t0.9605\t0.9801999926567078\t0.3901999890804291\t0.0012000000569969416\t0.00019999999494757503\t21432\n",
      "epoch: 9/10, val loss = 0.000172\n"
     ]
    },
    {
     "name": "stderr",
     "output_type": "stream",
     "text": [
      "Epoch (train) 10/10: 100%|███████████████████████████████████████████████████████| 101/101 [16:17<00:00,  9.68s/it, accepor_recall=0.966, donor_recall=0.972, loss=8.5e-5, pred_l1_dist=0]\n"
     ]
    },
    {
     "name": "stdout",
     "output_type": "stream",
     "text": [
      "epoch: 10/10, train loss = 0.000076\n"
     ]
    },
    {
     "name": "stderr",
     "output_type": "stream",
     "text": [
      "Epoch (val) 10/10: 100%|█████████████████████████████████████████████████████████| 12/12 [02:58<00:00, 14.87s/it, accepor_recall=0.918, donor_recall=0.922, loss=0.000203, pred_l1_dist=0]\n"
     ]
    },
    {
     "name": "stdout",
     "output_type": "stream",
     "text": [
      "\n",
      "\u001b[1mAcceptor:\u001b[0m\n",
      "0.9774\t0.9313\t0.9882\t0.9936\t0.9574\t0.9850000143051147\t0.45320001244544983\t0.0017000000225380063\t0.0003000000142492354\t21432\n",
      "\n",
      "\u001b[1mDonor:\u001b[0m\n",
      "0.9734\t0.9334\t0.9907\t0.9946\t0.9593\t0.9866999983787537\t0.42149999737739563\t0.0008999999845400453\t9.999999747378752e-05\t21432\n",
      "epoch: 10/10, val loss = 0.000174\n"
     ]
    },
    {
     "data": {
      "image/png": "[encoded data removed]",
      "text/plain": [
       "<Figure size 432x288 with 1 Axes>"
      ]
     },
     "metadata": {
      "needs_background": "light"
     },
     "output_type": "display_data"
    },
    {
     "name": "stderr",
     "output_type": "stream",
     "text": [
      "Epoch (train) 1/10: 100%|██████████████████████████████████████████████████████| 101/101 [13:58<00:00,  8.30s/it, accepor_recall=0.865, donor_recall=0.878, loss=0.000223, pred_l1_dist=0]\n"
     ]
    },
    {
     "name": "stdout",
     "output_type": "stream",
     "text": [
      "epoch: 1/10, train loss = 0.012635\n"
     ]
    },
    {
     "name": "stderr",
     "output_type": "stream",
     "text": [
      "Epoch (val) 1/10: 100%|██████████████████████████████████████████████████████████| 12/12 [02:03<00:00, 10.30s/it, accepor_recall=0.934, donor_recall=0.948, loss=0.000623, pred_l1_dist=0]\n"
     ]
    },
    {
     "name": "stdout",
     "output_type": "stream",
     "text": [
      "\n",
      "\u001b[1mAcceptor:\u001b[0m\n",
      "0.945\t0.8181\t0.9485\t0.9769\t0.8734\t0.9714999794960022\t0.8616999983787537\t0.3239000141620636\t0.06040000170469284\t21432\n",
      "\n",
      "\u001b[1mDonor:\u001b[0m\n",
      "0.9576\t0.8464\t0.9666\t0.9853\t0.9014\t0.9656000137329102\t0.8486999869346619\t0.2711000144481659\t0.039799999445676804\t21432\n",
      "epoch: 1/10, val loss = 0.000619\n"
     ]
    },
    {
     "name": "stderr",
     "output_type": "stream",
     "text": [
      "Epoch (train) 2/10: 100%|██████████████████████████████████████████████████████| 101/101 [13:54<00:00,  8.27s/it, accepor_recall=0.898, donor_recall=0.909, loss=0.000186, pred_l1_dist=0]\n"
     ]
    },
    {
     "name": "stdout",
     "output_type": "stream",
     "text": [
      "epoch: 2/10, train loss = 0.000189\n"
     ]
    },
    {
     "name": "stderr",
     "output_type": "stream",
     "text": [
      "Epoch (val) 2/10: 100%|██████████████████████████████████████████████████████████| 12/12 [02:12<00:00, 11.08s/it, accepor_recall=0.887, donor_recall=0.913, loss=0.000258, pred_l1_dist=0]\n"
     ]
    },
    {
     "name": "stdout",
     "output_type": "stream",
     "text": [
      "\n",
      "\u001b[1mAcceptor:\u001b[0m\n",
      "0.9674\t0.8812\t0.9761\t0.9897\t0.9256\t0.9571999907493591\t0.5264000296592712\t0.021199999377131462\t0.002400000113993883\t21432\n",
      "\n",
      "\u001b[1mDonor:\u001b[0m\n",
      "0.9705\t0.8962\t0.9847\t0.9927\t0.9385\t0.9678999781608582\t0.629800021648407\t0.019300000742077827\t0.002099999925121665\t21432\n",
      "epoch: 2/10, val loss = 0.000244\n"
     ]
    },
    {
     "name": "stderr",
     "output_type": "stream",
     "text": [
      "Epoch (train) 3/10: 100%|███████████████████████████████████████████████████████| 101/101 [13:49<00:00,  8.21s/it, accepor_recall=0.91, donor_recall=0.916, loss=0.000161, pred_l1_dist=0]\n"
     ]
    },
    {
     "name": "stdout",
     "output_type": "stream",
     "text": [
      "epoch: 3/10, train loss = 0.000168\n"
     ]
    },
    {
     "name": "stderr",
     "output_type": "stream",
     "text": [
      "Epoch (val) 3/10: 100%|███████████████████████████████████████████████████████████| 12/12 [02:01<00:00, 10.16s/it, accepor_recall=0.862, donor_recall=0.91, loss=0.000324, pred_l1_dist=0]\n"
     ]
    },
    {
     "name": "stdout",
     "output_type": "stream",
     "text": [
      "\n",
      "\u001b[1mAcceptor:\u001b[0m\n",
      "0.9541\t0.8563\t0.9687\t0.9861\t0.9045\t0.9106000065803528\t0.5083000063896179\t0.01889999955892563\t0.002300000051036477\t21432\n",
      "\n",
      "\u001b[1mDonor:\u001b[0m\n",
      "0.9696\t0.8686\t0.9762\t0.9901\t0.9238\t0.9793000221252441\t0.7486000061035156\t0.04769999906420708\t0.005799999926239252\t21432\n",
      "epoch: 3/10, val loss = 0.000308\n"
     ]
    },
    {
     "name": "stderr",
     "output_type": "stream",
     "text": [
      "Epoch (train) 4/10: 100%|██████████████████████████████████████████████████████| 101/101 [13:42<00:00,  8.14s/it, accepor_recall=0.918, donor_recall=0.926, loss=0.000164, pred_l1_dist=0]\n"
     ]
    },
    {
     "name": "stdout",
     "output_type": "stream",
     "text": [
      "epoch: 4/10, train loss = 0.000160\n"
     ]
    },
    {
     "name": "stderr",
     "output_type": "stream",
     "text": [
      "Epoch (val) 4/10: 100%|███████████████████████████████████████████████████████████| 12/12 [02:06<00:00, 10.53s/it, accepor_recall=0.741, donor_recall=0.781, loss=0.00032, pred_l1_dist=0]\n"
     ]
    },
    {
     "name": "stdout",
     "output_type": "stream",
     "text": [
      "\n",
      "\u001b[1mAcceptor:\u001b[0m\n",
      "0.9684\t0.8808\t0.9759\t0.9885\t0.9275\t0.8762000203132629\t0.15080000460147858\t0.0035000001080334187\t0.00039999998989515007\t21432\n",
      "\n",
      "\u001b[1mDonor:\u001b[0m\n",
      "0.9711\t0.8921\t0.9834\t0.994\t0.9383\t0.953499972820282\t0.16210000216960907\t0.0019000000320374966\t0.00019999999494757503\t21432\n",
      "epoch: 4/10, val loss = 0.000286\n"
     ]
    },
    {
     "name": "stderr",
     "output_type": "stream",
     "text": [
      "Epoch (train) 5/10: 100%|██████████████████████████████████████████████████████| 101/101 [13:54<00:00,  8.26s/it, accepor_recall=0.924, donor_recall=0.931, loss=0.000154, pred_l1_dist=0]\n"
     ]
    },
    {
     "name": "stdout",
     "output_type": "stream",
     "text": [
      "epoch: 5/10, train loss = 0.000151\n"
     ]
    },
    {
     "name": "stderr",
     "output_type": "stream",
     "text": [
      "Epoch (val) 5/10: 100%|██████████████████████████████████████████████████████████| 12/12 [02:05<00:00, 10.49s/it, accepor_recall=0.873, donor_recall=0.872, loss=0.000254, pred_l1_dist=0]\n"
     ]
    },
    {
     "name": "stdout",
     "output_type": "stream",
     "text": [
      "\n",
      "\u001b[1mAcceptor:\u001b[0m\n",
      "0.9678\t0.8937\t0.9782\t0.9883\t0.9332\t0.9419000148773193\t0.38830000162124634\t0.01140000019222498\t0.002300000051036477\t21432\n",
      "\n",
      "\u001b[1mDonor:\u001b[0m\n",
      "0.9694\t0.895\t0.9825\t0.9931\t0.9345\t0.9286999702453613\t0.39629998803138733\t0.013000000268220901\t0.002099999925121665\t21432\n",
      "epoch: 5/10, val loss = 0.000234\n"
     ]
    },
    {
     "name": "stderr",
     "output_type": "stream",
     "text": [
      "Epoch (train) 6/10: 100%|██████████████████████████████████████████████████████| 101/101 [13:52<00:00,  8.24s/it, accepor_recall=0.927, donor_recall=0.933, loss=0.000164, pred_l1_dist=0]\n"
     ]
    },
    {
     "name": "stdout",
     "output_type": "stream",
     "text": [
      "epoch: 6/10, train loss = 0.000146\n"
     ]
    },
    {
     "name": "stderr",
     "output_type": "stream",
     "text": [
      "Epoch (val) 6/10: 100%|██████████████████████████████████████████████████████████| 12/12 [02:13<00:00, 11.11s/it, accepor_recall=0.843, donor_recall=0.852, loss=0.000257, pred_l1_dist=0]\n"
     ]
    },
    {
     "name": "stdout",
     "output_type": "stream",
     "text": [
      "\n",
      "\u001b[1mAcceptor:\u001b[0m\n",
      "0.973\t0.9059\t0.9795\t0.9884\t0.9413\t0.9588000178337097\t0.1826000064611435\t0.002300000051036477\t0.0005000000237487257\t21432\n",
      "\n",
      "\u001b[1mDonor:\u001b[0m\n",
      "0.9738\t0.9073\t0.9847\t0.9932\t0.9462\t0.9646000266075134\t0.21389999985694885\t0.003700000001117587\t0.000699999975040555\t21432\n",
      "epoch: 6/10, val loss = 0.000235\n"
     ]
    },
    {
     "name": "stderr",
     "output_type": "stream",
     "text": [
      "Epoch (train) 7/10: 100%|███████████████████████████████████████████████████████| 101/101 [13:55<00:00,  8.27s/it, accepor_recall=0.934, donor_recall=0.938, loss=0.00014, pred_l1_dist=0]\n"
     ]
    },
    {
     "name": "stdout",
     "output_type": "stream",
     "text": [
      "epoch: 7/10, train loss = 0.000139\n"
     ]
    },
    {
     "name": "stderr",
     "output_type": "stream",
     "text": [
      "Epoch (val) 7/10: 100%|███████████████████████████████████████████████████████████| 12/12 [02:10<00:00, 10.90s/it, accepor_recall=0.902, donor_recall=0.92, loss=0.000204, pred_l1_dist=0]\n"
     ]
    },
    {
     "name": "stdout",
     "output_type": "stream",
     "text": [
      "\n",
      "\u001b[1mAcceptor:\u001b[0m\n",
      "0.9715\t0.9158\t0.9872\t0.9932\t0.9498\t0.9236999750137329\t0.42969998717308044\t0.00559999980032444\t0.0007999999797903001\t21432\n",
      "\n",
      "\u001b[1mDonor:\u001b[0m\n",
      "0.9698\t0.9201\t0.9888\t0.995\t0.9504\t0.941100001335144\t0.5616000294685364\t0.008899999782443047\t0.001500000013038516\t21432\n",
      "epoch: 7/10, val loss = 0.000188\n"
     ]
    },
    {
     "name": "stderr",
     "output_type": "stream",
     "text": [
      "Epoch (train) 8/10: 100%|██████████████████████████████████████████████████████| 101/101 [13:46<00:00,  8.18s/it, accepor_recall=0.949, donor_recall=0.953, loss=0.000114, pred_l1_dist=0]\n"
     ]
    },
    {
     "name": "stdout",
     "output_type": "stream",
     "text": [
      "epoch: 8/10, train loss = 0.000112\n"
     ]
    },
    {
     "name": "stderr",
     "output_type": "stream",
     "text": [
      "Epoch (val) 8/10: 100%|██████████████████████████████████████████████████████████| 12/12 [01:59<00:00,  9.95s/it, accepor_recall=0.919, donor_recall=0.927, loss=0.000193, pred_l1_dist=0]\n"
     ]
    },
    {
     "name": "stdout",
     "output_type": "stream",
     "text": [
      "\n",
      "\u001b[1mAcceptor:\u001b[0m\n",
      "0.9756\t0.9225\t0.9877\t0.9938\t0.9541\t0.9728000164031982\t0.4722000062465668\t0.004000000189989805\t0.000699999975040555\t21432\n",
      "\n",
      "\u001b[1mDonor:\u001b[0m\n",
      "0.9761\t0.9226\t0.9909\t0.9959\t0.9572\t0.9865999817848206\t0.5390999913215637\t0.0026000000070780516\t0.0003000000142492354\t21432\n",
      "epoch: 8/10, val loss = 0.000180\n"
     ]
    },
    {
     "name": "stderr",
     "output_type": "stream",
     "text": [
      "Epoch (train) 9/10: 100%|██████████████████████████████████████████████████████| 101/101 [13:50<00:00,  8.22s/it, accepor_recall=0.957, donor_recall=0.959, loss=0.000101, pred_l1_dist=0]\n"
     ]
    },
    {
     "name": "stdout",
     "output_type": "stream",
     "text": [
      "epoch: 9/10, train loss = 0.000095\n"
     ]
    },
    {
     "name": "stderr",
     "output_type": "stream",
     "text": [
      "Epoch (val) 9/10: 100%|██████████████████████████████████████████████████████████| 12/12 [02:10<00:00, 10.87s/it, accepor_recall=0.927, donor_recall=0.936, loss=0.000178, pred_l1_dist=0]\n"
     ]
    },
    {
     "name": "stdout",
     "output_type": "stream",
     "text": [
      "\n",
      "\u001b[1mAcceptor:\u001b[0m\n",
      "0.9748\t0.9277\t0.9884\t0.9936\t0.9546\t0.9767000079154968\t0.5713000297546387\t0.0026000000070780516\t0.00039999998989515007\t21432\n",
      "\n",
      "\u001b[1mDonor:\u001b[0m\n",
      "0.9763\t0.9309\t0.9921\t0.9962\t0.9603\t0.9843999743461609\t0.5911999940872192\t0.00279999990016222\t0.00039999998989515007\t21432\n",
      "epoch: 9/10, val loss = 0.000168\n"
     ]
    },
    {
     "name": "stderr",
     "output_type": "stream",
     "text": [
      "Epoch (train) 10/10: 100%|██████████████████████████████████████████████████████| 101/101 [13:48<00:00,  8.20s/it, accepor_recall=0.966, donor_recall=0.969, loss=8.03e-5, pred_l1_dist=0]\n"
     ]
    },
    {
     "name": "stdout",
     "output_type": "stream",
     "text": [
      "epoch: 10/10, train loss = 0.000083\n"
     ]
    },
    {
     "name": "stderr",
     "output_type": "stream",
     "text": [
      "Epoch (val) 10/10: 100%|█████████████████████████████████████████████████████████| 12/12 [02:01<00:00, 10.10s/it, accepor_recall=0.939, donor_recall=0.942, loss=0.000174, pred_l1_dist=0]\n"
     ]
    },
    {
     "name": "stdout",
     "output_type": "stream",
     "text": [
      "\n",
      "\u001b[1mAcceptor:\u001b[0m\n",
      "0.9764\t0.9316\t0.9891\t0.9934\t0.9569\t0.9853000044822693\t0.6348999738693237\t0.002899999963119626\t0.0005000000237487257\t21432\n",
      "\n",
      "\u001b[1mDonor:\u001b[0m\n",
      "0.9773\t0.9342\t0.9917\t0.9959\t0.9617\t0.9883999824523926\t0.6255999803543091\t0.001500000013038516\t0.00019999999494757503\t21432\n",
      "epoch: 10/10, val loss = 0.000164\n"
     ]
    },
    {
     "data": {
      "image/png": "[encoded data removed]",
      "text/plain": [
       "<Figure size 432x288 with 1 Axes>"
      ]
     },
     "metadata": {
      "needs_background": "light"
     },
     "output_type": "display_data"
    },
    {
     "name": "stderr",
     "output_type": "stream",
     "text": [
      "Epoch (train) 1/10: 100%|████████████████████████████████████████████████████████| 101/101 [12:59<00:00,  7.72s/it, accepor_recall=0.85, donor_recall=0.87, loss=0.000236, pred_l1_dist=0]\n"
     ]
    },
    {
     "name": "stdout",
     "output_type": "stream",
     "text": [
      "epoch: 1/10, train loss = 0.015732\n"
     ]
    },
    {
     "name": "stderr",
     "output_type": "stream",
     "text": [
      "Epoch (val) 1/10: 100%|███████████████████████████████████████████████████████████| 12/12 [01:49<00:00,  9.12s/it, accepor_recall=0.932, donor_recall=0.913, loss=0.00114, pred_l1_dist=0]\n"
     ]
    },
    {
     "name": "stdout",
     "output_type": "stream",
     "text": [
      "\n",
      "\u001b[1mAcceptor:\u001b[0m\n",
      "0.9064\t0.7383\t0.8986\t0.9572\t0.7949\t0.9828000068664551\t0.9373000264167786\t0.6848000288009644\t0.17910000681877136\t21432\n",
      "\n",
      "\u001b[1mDonor:\u001b[0m\n",
      "0.906\t0.7436\t0.9007\t0.9567\t0.7968\t0.9697999954223633\t0.8906999826431274\t0.5054000020027161\t0.09809999912977219\t21432\n",
      "epoch: 1/10, val loss = 0.001186\n"
     ]
    },
    {
     "name": "stderr",
     "output_type": "stream",
     "text": [
      "Epoch (train) 2/10: 100%|██████████████████████████████████████████████████████| 101/101 [12:59<00:00,  7.72s/it, accepor_recall=0.892, donor_recall=0.906, loss=0.000181, pred_l1_dist=0]\n"
     ]
    },
    {
     "name": "stdout",
     "output_type": "stream",
     "text": [
      "epoch: 2/10, train loss = 0.000197\n"
     ]
    },
    {
     "name": "stderr",
     "output_type": "stream",
     "text": [
      "Epoch (val) 2/10: 100%|███████████████████████████████████████████████████████████| 12/12 [01:45<00:00,  8.75s/it, accepor_recall=0.93, donor_recall=0.905, loss=0.000309, pred_l1_dist=0]\n"
     ]
    },
    {
     "name": "stdout",
     "output_type": "stream",
     "text": [
      "\n",
      "\u001b[1mAcceptor:\u001b[0m\n",
      "0.9652\t0.877\t0.9723\t0.9856\t0.921\t0.9758999943733215\t0.7667999863624573\t0.04749999940395355\t0.004900000058114529\t21432\n",
      "\n",
      "\u001b[1mDonor:\u001b[0m\n",
      "0.9712\t0.8811\t0.9806\t0.9916\t0.9294\t0.9377999901771545\t0.5666999816894531\t0.032999999821186066\t0.004100000020116568\t21432\n",
      "epoch: 2/10, val loss = 0.000293\n"
     ]
    },
    {
     "name": "stderr",
     "output_type": "stream",
     "text": [
      "Epoch (train) 3/10: 100%|███████████████████████████████████████████████████████| 101/101 [12:56<00:00,  7.69s/it, accepor_recall=0.91, donor_recall=0.918, loss=0.000168, pred_l1_dist=0]\n"
     ]
    },
    {
     "name": "stdout",
     "output_type": "stream",
     "text": [
      "epoch: 3/10, train loss = 0.000171\n"
     ]
    },
    {
     "name": "stderr",
     "output_type": "stream",
     "text": [
      "Epoch (val) 3/10: 100%|██████████████████████████████████████████████████████████| 12/12 [01:42<00:00,  8.53s/it, accepor_recall=0.908, donor_recall=0.903, loss=0.000263, pred_l1_dist=0]\n"
     ]
    },
    {
     "name": "stdout",
     "output_type": "stream",
     "text": [
      "\n",
      "\u001b[1mAcceptor:\u001b[0m\n",
      "0.9677\t0.8896\t0.9789\t0.9893\t0.9302\t0.9650999903678894\t0.6207000017166138\t0.031599998474121094\t0.005100000184029341\t21432\n",
      "\n",
      "\u001b[1mDonor:\u001b[0m\n",
      "0.9651\t0.8939\t0.9843\t0.9937\t0.9355\t0.9218000173568726\t0.5263000130653381\t0.017899999395012856\t0.0024999999441206455\t21432\n",
      "epoch: 3/10, val loss = 0.000248\n"
     ]
    },
    {
     "name": "stderr",
     "output_type": "stream",
     "text": [
      "Epoch (train) 4/10: 100%|██████████████████████████████████████████████████████| 101/101 [12:57<00:00,  7.70s/it, accepor_recall=0.917, donor_recall=0.927, loss=0.000152, pred_l1_dist=0]\n"
     ]
    },
    {
     "name": "stdout",
     "output_type": "stream",
     "text": [
      "epoch: 4/10, train loss = 0.000161\n"
     ]
    },
    {
     "name": "stderr",
     "output_type": "stream",
     "text": [
      "Epoch (val) 4/10: 100%|██████████████████████████████████████████████████████████| 12/12 [01:44<00:00,  8.69s/it, accepor_recall=0.953, donor_recall=0.946, loss=0.000386, pred_l1_dist=0]\n"
     ]
    },
    {
     "name": "stdout",
     "output_type": "stream",
     "text": [
      "\n",
      "\u001b[1mAcceptor:\u001b[0m\n",
      "0.9693\t0.8813\t0.9776\t0.9896\t0.9279\t0.9944999814033508\t0.9142000079154968\t0.053599998354911804\t0.004000000189989805\t21432\n",
      "\n",
      "\u001b[1mDonor:\u001b[0m\n",
      "0.9685\t0.8758\t0.9788\t0.9917\t0.926\t0.9837999939918518\t0.8571000099182129\t0.053700000047683716\t0.0031999999191612005\t21432\n",
      "epoch: 4/10, val loss = 0.000379\n"
     ]
    },
    {
     "name": "stderr",
     "output_type": "stream",
     "text": [
      "Epoch (train) 5/10: 100%|██████████████████████████████████████████████████████| 101/101 [12:56<00:00,  7.68s/it, accepor_recall=0.923, donor_recall=0.931, loss=0.000155, pred_l1_dist=0]\n"
     ]
    },
    {
     "name": "stdout",
     "output_type": "stream",
     "text": [
      "epoch: 5/10, train loss = 0.000154\n"
     ]
    },
    {
     "name": "stderr",
     "output_type": "stream",
     "text": [
      "Epoch (val) 5/10: 100%|███████████████████████████████████████████████████████████| 12/12 [01:45<00:00,  8.82s/it, accepor_recall=0.947, donor_recall=0.94, loss=0.000326, pred_l1_dist=0]\n"
     ]
    },
    {
     "name": "stdout",
     "output_type": "stream",
     "text": [
      "\n",
      "\u001b[1mAcceptor:\u001b[0m\n",
      "0.9689\t0.8879\t0.9763\t0.9888\t0.9308\t0.984000027179718\t0.8485999703407288\t0.07329999655485153\t0.008899999782443047\t21432\n",
      "\n",
      "\u001b[1mDonor:\u001b[0m\n",
      "0.9663\t0.8804\t0.9794\t0.9915\t0.9281\t0.9811999797821045\t0.8065999746322632\t0.04430000111460686\t0.004999999888241291\t21432\n",
      "epoch: 5/10, val loss = 0.000330\n"
     ]
    },
    {
     "name": "stderr",
     "output_type": "stream",
     "text": [
      "Epoch (train) 6/10: 100%|███████████████████████████████████████████████████████| 101/101 [12:59<00:00,  7.71s/it, accepor_recall=0.922, donor_recall=0.93, loss=0.000161, pred_l1_dist=0]\n"
     ]
    },
    {
     "name": "stdout",
     "output_type": "stream",
     "text": [
      "epoch: 6/10, train loss = 0.000148\n"
     ]
    },
    {
     "name": "stderr",
     "output_type": "stream",
     "text": [
      "Epoch (val) 6/10: 100%|███████████████████████████████████████████████████████████| 12/12 [01:42<00:00,  8.56s/it, accepor_recall=0.82, donor_recall=0.853, loss=0.000294, pred_l1_dist=0]\n"
     ]
    },
    {
     "name": "stdout",
     "output_type": "stream",
     "text": [
      "\n",
      "\u001b[1mAcceptor:\u001b[0m\n",
      "0.9724\t0.9069\t0.9809\t0.9888\t0.9412\t0.9397000074386597\t0.11469999700784683\t0.0019000000320374966\t0.00039999998989515007\t21432\n",
      "\n",
      "\u001b[1mDonor:\u001b[0m\n",
      "0.9709\t0.893\t0.9784\t0.9898\t0.9365\t0.9793000221252441\t0.34200000762939453\t0.005499999970197678\t0.0010000000474974513\t21432\n",
      "epoch: 6/10, val loss = 0.000260\n"
     ]
    },
    {
     "name": "stderr",
     "output_type": "stream",
     "text": [
      "Epoch (train) 7/10: 100%|██████████████████████████████████████████████████████| 101/101 [12:53<00:00,  7.66s/it, accepor_recall=0.931, donor_recall=0.936, loss=0.000138, pred_l1_dist=0]\n"
     ]
    },
    {
     "name": "stdout",
     "output_type": "stream",
     "text": [
      "epoch: 7/10, train loss = 0.000142\n"
     ]
    },
    {
     "name": "stderr",
     "output_type": "stream",
     "text": [
      "Epoch (val) 7/10: 100%|██████████████████████████████████████████████████████████| 12/12 [01:45<00:00,  8.77s/it, accepor_recall=0.902, donor_recall=0.912, loss=0.000252, pred_l1_dist=0]\n"
     ]
    },
    {
     "name": "stdout",
     "output_type": "stream",
     "text": [
      "\n",
      "\u001b[1mAcceptor:\u001b[0m\n",
      "0.9658\t0.8919\t0.982\t0.9899\t0.9314\t0.9599999785423279\t0.5619000196456909\t0.005100000184029341\t0.0006000000284984708\t21432\n",
      "\n",
      "\u001b[1mDonor:\u001b[0m\n",
      "0.9748\t0.8987\t0.9874\t0.9942\t0.9441\t0.9812999963760376\t0.6425999999046326\t0.0052999998442828655\t0.00039999998989515007\t21432\n",
      "epoch: 7/10, val loss = 0.000239\n"
     ]
    },
    {
     "name": "stderr",
     "output_type": "stream",
     "text": [
      "Epoch (train) 8/10: 100%|██████████████████████████████████████████████████████| 101/101 [12:53<00:00,  7.66s/it, accepor_recall=0.946, donor_recall=0.952, loss=0.000118, pred_l1_dist=0]\n"
     ]
    },
    {
     "name": "stdout",
     "output_type": "stream",
     "text": [
      "epoch: 8/10, train loss = 0.000117\n"
     ]
    },
    {
     "name": "stderr",
     "output_type": "stream",
     "text": [
      "Epoch (val) 8/10: 100%|██████████████████████████████████████████████████████████| 12/12 [01:45<00:00,  8.80s/it, accepor_recall=0.904, donor_recall=0.898, loss=0.000224, pred_l1_dist=0]\n"
     ]
    },
    {
     "name": "stdout",
     "output_type": "stream",
     "text": [
      "\n",
      "\u001b[1mAcceptor:\u001b[0m\n",
      "0.9736\t0.9099\t0.9812\t0.9908\t0.945\t0.9793999791145325\t0.4620000123977661\t0.007300000172108412\t0.00139999995008111\t21432\n",
      "\n",
      "\u001b[1mDonor:\u001b[0m\n",
      "0.9753\t0.9173\t0.9888\t0.9945\t0.9528\t0.9815999865531921\t0.3569999933242798\t0.0032999999821186066\t0.0005000000237487257\t21432\n",
      "epoch: 8/10, val loss = 0.000208\n"
     ]
    },
    {
     "name": "stderr",
     "output_type": "stream",
     "text": [
      "Epoch (train) 9/10: 100%|███████████████████████████████████████████████████████| 101/101 [12:52<00:00,  7.65s/it, accepor_recall=0.955, donor_recall=0.96, loss=0.000101, pred_l1_dist=0]\n"
     ]
    },
    {
     "name": "stdout",
     "output_type": "stream",
     "text": [
      "epoch: 9/10, train loss = 0.000101\n"
     ]
    },
    {
     "name": "stderr",
     "output_type": "stream",
     "text": [
      "Epoch (val) 9/10: 100%|██████████████████████████████████████████████████████████| 12/12 [01:47<00:00,  8.93s/it, accepor_recall=0.944, donor_recall=0.946, loss=0.000181, pred_l1_dist=0]\n"
     ]
    },
    {
     "name": "stdout",
     "output_type": "stream",
     "text": [
      "\n",
      "\u001b[1mAcceptor:\u001b[0m\n",
      "0.9756\t0.9257\t0.988\t0.9937\t0.9556\t0.9839000105857849\t0.670199990272522\t0.007400000002235174\t0.0013000000035390258\t21432\n",
      "\n",
      "\u001b[1mDonor:\u001b[0m\n",
      "0.976\t0.9286\t0.9914\t0.9959\t0.9583\t0.984499990940094\t0.6904000043869019\t0.007199999876320362\t0.0012000000569969416\t21432\n",
      "epoch: 9/10, val loss = 0.000179\n"
     ]
    },
    {
     "name": "stderr",
     "output_type": "stream",
     "text": [
      "Epoch (train) 10/10: 100%|██████████████████████████████████████████████████████| 101/101 [12:51<00:00,  7.63s/it, accepor_recall=0.964, donor_recall=0.966, loss=8.25e-5, pred_l1_dist=0]\n"
     ]
    },
    {
     "name": "stdout",
     "output_type": "stream",
     "text": [
      "epoch: 10/10, train loss = 0.000089\n"
     ]
    },
    {
     "name": "stderr",
     "output_type": "stream",
     "text": [
      "Epoch (val) 10/10: 100%|█████████████████████████████████████████████████████████| 12/12 [01:42<00:00,  8.53s/it, accepor_recall=0.938, donor_recall=0.935, loss=0.000173, pred_l1_dist=0]\n"
     ]
    },
    {
     "name": "stdout",
     "output_type": "stream",
     "text": [
      "\n",
      "\u001b[1mAcceptor:\u001b[0m\n",
      "0.9784\t0.9313\t0.9883\t0.9933\t0.9584\t0.9872999787330627\t0.5195000171661377\t0.0019000000320374966\t0.0003000000142492354\t21432\n",
      "\n",
      "\u001b[1mDonor:\u001b[0m\n",
      "0.9793\t0.9348\t0.9913\t0.9958\t0.9626\t0.9876000285148621\t0.47360000014305115\t0.0017999999690800905\t0.00019999999494757503\t21432\n",
      "epoch: 10/10, val loss = 0.000172\n"
     ]
    },
    {
     "data": {
      "image/png": "[encoded data removed]",
      "text/plain": [
       "<Figure size 432x288 with 1 Axes>"
      ]
     },
     "metadata": {
      "needs_background": "light"
     },
     "output_type": "display_data"
    }
   ],
   "source": [
    "device = torch.device(\"cuda\" if torch.cuda.is_available() else \"cpu\")\n",
    "epochs = 10\n",
    "hs = []\n",
    "\n",
    "parameters = [0.5,1,2,3,4]\n",
    "\n",
    "for model_nr in range(5):\n",
    "    k = parameters[model_nr]\n",
    "    BATCH_SIZE = int(np.round(k*6*N_GPUS))\n",
    "    CL = 2 * np.sum(AR*(W-1))\n",
    "    train_dataset = spliceDataset(annotation_train,transcriptToLabel,SL,CL_max)\n",
    "    val_dataset = spliceDataset(annotation_validation,transcriptToLabel,SL,CL_max)\n",
    "    train_dataset.seqData = seqData\n",
    "    val_dataset.seqData = seqData\n",
    "\n",
    "    train_loader = torch.utils.data.DataLoader(train_dataset, batch_size=200, shuffle=True, num_workers=16,collate_fn=collate_fn, pin_memory=True)\n",
    "    val_loader = torch.utils.data.DataLoader(val_dataset, batch_size=200, shuffle=False,collate_fn=collate_fn, num_workers=16)\n",
    "    model_m = SpliceFormer(CL_max)\n",
    "    model_m.apply(keras_init)\n",
    "    model_m = model_m.to(device)\n",
    "    if torch.cuda.device_count() > 1:\n",
    "        #print(\"Let's use\", torch.cuda.device_count(), \"GPUs!\")\n",
    "        # dim = 0 [30, xxx] -> [10, ...], [10, ...], [10, ...] on 3 GPUs\n",
    "        model_m = nn.DataParallel(model_m)\n",
    "    \n",
    "    modelFileName = '../Results/PyTorch_Models/transformer_encoder_40k_ablation_batchSize_k_{}'.format(parameters[model_nr])\n",
    "    #model_m.load_state_dict(torch.load('../Results/PyTorch_Models/SpliceAI_Ensembl_dgxtest_{}'.format(0)))\n",
    "    #loss = nn.CrossEntropyLoss(weight=torch.from_numpy(weights).float().to(device),ignore_index=-1,reduction='mean')\n",
    "    loss = categorical_crossentropy_2d().loss\n",
    "    #loss = nn.KLDivLoss()\n",
    "    learning_rate= k*1e-3\n",
    "    optimizer = torch.optim.Adam(model_m.parameters(), lr=learning_rate)\n",
    "    scheduler = torch.optim.lr_scheduler.StepLR(optimizer, step_size=1, gamma=0.5)\n",
    "    warmup = get_constant_schedule_with_warmup(optimizer, num_warmup_steps=1000)\n",
    "    h = trainModel(model_m,modelFileName,loss,train_loader,val_loader,optimizer,scheduler,warmup,BATCH_SIZE,epochs,device)\n",
    "    hs.append(h)\n",
    "\n",
    "    plt.plot(range(epochs),h['loss'],label='Train')\n",
    "    plt.plot(range(epochs),h['val_loss'],label='Validation')\n",
    "    plt.xlabel('Epoch')\n",
    "    plt.ylabel('Loss')\n",
    "    plt.legend()\n",
    "    plt.show()"
   ]
  },
  {
   "cell_type": "code",
   "execution_count": 12,
   "metadata": {},
   "outputs": [
    {
     "name": "stderr",
     "output_type": "stream",
     "text": [
      "Epoch (train) 1/10: 100%|█| 101/101 [1:37:10<00:00, 57.72s/it, accepor_recall=0.869, donor_recall=0.886, loss=\n"
     ]
    },
    {
     "name": "stdout",
     "output_type": "stream",
     "text": [
      "epoch: 1/10, train loss = 0.005711\n"
     ]
    },
    {
     "name": "stderr",
     "output_type": "stream",
     "text": [
      "Epoch (val) 1/10: 100%|█| 12/12 [10:50<00:00, 54.25s/it, accepor_recall=0.775, donor_recall=0.849, loss=0.0004\n"
     ]
    },
    {
     "name": "stdout",
     "output_type": "stream",
     "text": [
      "\n",
      "\u001b[1mAcceptor:\u001b[0m\n",
      "0.9708\t0.8604\t0.9693\t0.9858\t0.9148\t0.9279999732971191\t0.22519999742507935\t0.010300000198185444\t0.0019000000320374966\t21432\n",
      "\n",
      "\u001b[1mDonor:\u001b[0m\n",
      "0.9581\t0.8673\t0.975\t0.991\t0.9153\t0.926800012588501\t0.42340001463890076\t0.021400000900030136\t0.0034000000450760126\t21432\n",
      "epoch: 1/10, val loss = 0.000299\n"
     ]
    },
    {
     "name": "stderr",
     "output_type": "stream",
     "text": [
      "Epoch (train) 2/10: 100%|█| 101/101 [1:36:58<00:00, 57.61s/it, accepor_recall=0.905, donor_recall=0.914, loss=\n"
     ]
    },
    {
     "name": "stdout",
     "output_type": "stream",
     "text": [
      "epoch: 2/10, train loss = 0.000182\n"
     ]
    },
    {
     "name": "stderr",
     "output_type": "stream",
     "text": [
      "Epoch (val) 2/10: 100%|█| 12/12 [09:55<00:00, 49.60s/it, accepor_recall=0.826, donor_recall=0.858, loss=0.0003\n"
     ]
    },
    {
     "name": "stdout",
     "output_type": "stream",
     "text": [
      "\n",
      "\u001b[1mAcceptor:\u001b[0m\n",
      "0.9722\t0.902\t0.981\t0.9905\t0.9403\t0.8982999920845032\t0.2257000058889389\t0.004399999976158142\t0.000699999975040555\t21432\n",
      "\n",
      "\u001b[1mDonor:\u001b[0m\n",
      "0.9661\t0.8972\t0.9836\t0.9928\t0.9371\t0.9271000027656555\t0.2768999934196472\t0.004900000058114529\t0.000699999975040555\t21432\n",
      "epoch: 2/10, val loss = 0.000244\n"
     ]
    },
    {
     "name": "stderr",
     "output_type": "stream",
     "text": [
      "Epoch (train) 3/10: 100%|█| 101/101 [1:37:02<00:00, 57.65s/it, accepor_recall=0.931, donor_recall=0.93, loss=0\n"
     ]
    },
    {
     "name": "stdout",
     "output_type": "stream",
     "text": [
      "epoch: 3/10, train loss = 0.000152\n"
     ]
    },
    {
     "name": "stderr",
     "output_type": "stream",
     "text": [
      "Epoch (val) 3/10: 100%|█| 12/12 [10:58<00:00, 54.84s/it, accepor_recall=0.876, donor_recall=0.913, loss=0.0003\n"
     ]
    },
    {
     "name": "stdout",
     "output_type": "stream",
     "text": [
      "\n",
      "\u001b[1mAcceptor:\u001b[0m\n",
      "0.9734\t0.9065\t0.9804\t0.9901\t0.9426\t0.9819999933242798\t0.3059999942779541\t0.002300000051036477\t0.00039999998989515007\t21432\n",
      "\n",
      "\u001b[1mDonor:\u001b[0m\n",
      "0.975\t0.9087\t0.9856\t0.9925\t0.9451\t0.9876999855041504\t0.4803999960422516\t0.00279999990016222\t0.0003000000142492354\t21432\n",
      "epoch: 3/10, val loss = 0.000233\n"
     ]
    },
    {
     "name": "stderr",
     "output_type": "stream",
     "text": [
      "Epoch (train) 4/10: 100%|█| 101/101 [1:37:07<00:00, 57.70s/it, accepor_recall=0.933, donor_recall=0.941, loss=\n"
     ]
    },
    {
     "name": "stdout",
     "output_type": "stream",
     "text": [
      "epoch: 4/10, train loss = 0.000137\n"
     ]
    },
    {
     "name": "stderr",
     "output_type": "stream",
     "text": [
      "Epoch (val) 4/10: 100%|█| 12/12 [10:05<00:00, 50.42s/it, accepor_recall=0.902, donor_recall=0.909, loss=0.0002\n"
     ]
    },
    {
     "name": "stdout",
     "output_type": "stream",
     "text": [
      "\n",
      "\u001b[1mAcceptor:\u001b[0m\n",
      "0.977\t0.9207\t0.9868\t0.9931\t0.9528\t0.9768000245094299\t0.4729999899864197\t0.004399999976158142\t0.000699999975040555\t21432\n",
      "\n",
      "\u001b[1mDonor:\u001b[0m\n",
      "0.9756\t0.9224\t0.99\t0.9954\t0.955\t0.9764000177383423\t0.46630001068115234\t0.0044999998062849045\t0.000699999975040555\t21432\n",
      "epoch: 4/10, val loss = 0.000185\n"
     ]
    },
    {
     "name": "stderr",
     "output_type": "stream",
     "text": [
      "Epoch (train) 5/10: 100%|█| 101/101 [1:36:52<00:00, 57.55s/it, accepor_recall=0.94, donor_recall=0.945, loss=0\n"
     ]
    },
    {
     "name": "stdout",
     "output_type": "stream",
     "text": [
      "epoch: 5/10, train loss = 0.000127\n"
     ]
    },
    {
     "name": "stderr",
     "output_type": "stream",
     "text": [
      "Epoch (val) 5/10: 100%|█| 12/12 [09:32<00:00, 47.74s/it, accepor_recall=0.866, donor_recall=0.895, loss=0.0002\n"
     ]
    },
    {
     "name": "stdout",
     "output_type": "stream",
     "text": [
      "\n",
      "\u001b[1mAcceptor:\u001b[0m\n",
      "0.9749\t0.9218\t0.9882\t0.9937\t0.9544\t0.9625999927520752\t0.3237000107765198\t0.002099999925121665\t0.0003000000142492354\t21432\n",
      "\n",
      "\u001b[1mDonor:\u001b[0m\n",
      "0.9741\t0.9265\t0.9908\t0.9951\t0.9563\t0.9595999717712402\t0.31690001487731934\t0.0017000000225380063\t0.00019999999494757503\t21432\n",
      "epoch: 5/10, val loss = 0.000191\n"
     ]
    },
    {
     "name": "stderr",
     "output_type": "stream",
     "text": [
      "Epoch (train) 6/10: 100%|█| 101/101 [1:37:00<00:00, 57.63s/it, accepor_recall=0.947, donor_recall=0.949, loss=\n"
     ]
    },
    {
     "name": "stdout",
     "output_type": "stream",
     "text": [
      "epoch: 6/10, train loss = 0.000119\n"
     ]
    },
    {
     "name": "stderr",
     "output_type": "stream",
     "text": [
      "Epoch (val) 6/10: 100%|█| 12/12 [10:37<00:00, 53.13s/it, accepor_recall=0.895, donor_recall=0.909, loss=0.0002\n"
     ]
    },
    {
     "name": "stdout",
     "output_type": "stream",
     "text": [
      "\n",
      "\u001b[1mAcceptor:\u001b[0m\n",
      "0.9757\t0.9232\t0.9881\t0.9935\t0.9546\t0.9704999923706055\t0.4542999863624573\t0.004900000058114529\t0.0010000000474974513\t21432\n",
      "\n",
      "\u001b[1mDonor:\u001b[0m\n",
      "0.9778\t0.9221\t0.9903\t0.9955\t0.9576\t0.9606000185012817\t0.5024999976158142\t0.004900000058114529\t0.0007999999797903001\t21432\n",
      "epoch: 6/10, val loss = 0.000178\n"
     ]
    },
    {
     "name": "stderr",
     "output_type": "stream",
     "text": [
      "Epoch (train) 7/10: 100%|█| 101/101 [1:36:52<00:00, 57.55s/it, accepor_recall=0.949, donor_recall=0.955, loss=\n"
     ]
    },
    {
     "name": "stdout",
     "output_type": "stream",
     "text": [
      "epoch: 7/10, train loss = 0.000112\n"
     ]
    },
    {
     "name": "stderr",
     "output_type": "stream",
     "text": [
      "Epoch (val) 7/10: 100%|█| 12/12 [10:02<00:00, 50.17s/it, accepor_recall=0.899, donor_recall=0.909, loss=0.0002\n"
     ]
    },
    {
     "name": "stdout",
     "output_type": "stream",
     "text": [
      "\n",
      "\u001b[1mAcceptor:\u001b[0m\n",
      "0.9792\t0.9211\t0.9862\t0.9923\t0.9541\t0.9733999967575073\t0.5056999921798706\t0.0024999999441206455\t0.00039999998989515007\t21432\n",
      "\n",
      "\u001b[1mDonor:\u001b[0m\n",
      "0.9776\t0.9227\t0.9893\t0.9952\t0.9552\t0.9769999980926514\t0.42730000615119934\t0.002099999925121665\t0.0003000000142492354\t21432\n",
      "epoch: 7/10, val loss = 0.000190\n"
     ]
    },
    {
     "name": "stderr",
     "output_type": "stream",
     "text": [
      "Epoch (train) 8/10: 100%|█| 101/101 [1:36:48<00:00, 57.51s/it, accepor_recall=0.964, donor_recall=0.963, loss=\n"
     ]
    },
    {
     "name": "stdout",
     "output_type": "stream",
     "text": [
      "epoch: 8/10, train loss = 0.000093\n"
     ]
    },
    {
     "name": "stderr",
     "output_type": "stream",
     "text": [
      "Epoch (val) 8/10: 100%|█| 12/12 [09:46<00:00, 48.90s/it, accepor_recall=0.897, donor_recall=0.908, loss=0.0002\n"
     ]
    },
    {
     "name": "stdout",
     "output_type": "stream",
     "text": [
      "\n",
      "\u001b[1mAcceptor:\u001b[0m\n",
      "0.9768\t0.9254\t0.9881\t0.9933\t0.9553\t0.972000002861023\t0.3878999948501587\t0.0015999999595806003\t0.0003000000142492354\t21432\n",
      "\n",
      "\u001b[1mDonor:\u001b[0m\n",
      "0.976\t0.9275\t0.9907\t0.9956\t0.9574\t0.9736999869346619\t0.4223000109195709\t0.0010999999940395355\t9.999999747378752e-05\t21432\n",
      "epoch: 8/10, val loss = 0.000185\n"
     ]
    },
    {
     "name": "stderr",
     "output_type": "stream",
     "text": [
      "Epoch (train) 9/10: 100%|█| 101/101 [1:37:11<00:00, 57.74s/it, accepor_recall=0.96, donor_recall=0.967, loss=7\n"
     ]
    },
    {
     "name": "stdout",
     "output_type": "stream",
     "text": [
      "epoch: 9/10, train loss = 0.000080\n"
     ]
    },
    {
     "name": "stderr",
     "output_type": "stream",
     "text": [
      "Epoch (val) 9/10: 100%|█| 12/12 [10:34<00:00, 52.91s/it, accepor_recall=0.909, donor_recall=0.917, loss=0.0002\n"
     ]
    },
    {
     "name": "stdout",
     "output_type": "stream",
     "text": [
      "\n",
      "\u001b[1mAcceptor:\u001b[0m\n",
      "0.9798\t0.9307\t0.9875\t0.9934\t0.9578\t0.9787999987602234\t0.4023999869823456\t0.0027000000700354576\t0.0006000000284984708\t21432\n",
      "\n",
      "\u001b[1mDonor:\u001b[0m\n",
      "0.9783\t0.9307\t0.991\t0.9957\t0.96\t0.9793000221252441\t0.4318999946117401\t0.0020000000949949026\t0.0003000000142492354\t21432\n",
      "epoch: 9/10, val loss = 0.000174\n"
     ]
    },
    {
     "name": "stderr",
     "output_type": "stream",
     "text": [
      "Epoch (train) 10/10: 100%|█| 101/101 [1:37:42<00:00, 58.04s/it, accepor_recall=0.966, donor_recall=0.971, loss\n"
     ]
    },
    {
     "name": "stdout",
     "output_type": "stream",
     "text": [
      "epoch: 10/10, train loss = 0.000072\n"
     ]
    },
    {
     "name": "stderr",
     "output_type": "stream",
     "text": [
      "Epoch (val) 10/10: 100%|█| 12/12 [09:59<00:00, 49.93s/it, accepor_recall=0.923, donor_recall=0.935, loss=0.000\n"
     ]
    },
    {
     "name": "stdout",
     "output_type": "stream",
     "text": [
      "\n",
      "\u001b[1mAcceptor:\u001b[0m\n",
      "0.9773\t0.9337\t0.9888\t0.9937\t0.9591\t0.989799976348877\t0.5817999839782715\t0.0015999999595806003\t0.0003000000142492354\t21432\n",
      "\n",
      "\u001b[1mDonor:\u001b[0m\n",
      "0.9767\t0.9338\t0.9914\t0.9956\t0.9603\t0.9901999831199646\t0.5902000069618225\t0.00139999995008111\t0.00019999999494757503\t21432\n",
      "epoch: 10/10, val loss = 0.000174\n"
     ]
    },
    {
     "data": {
      "image/png": "[encoded data removed]",
      "text/plain": [
       "<Figure size 432x288 with 1 Axes>"
      ]
     },
     "metadata": {
      "needs_background": "light"
     },
     "output_type": "display_data"
    },
    {
     "name": "stderr",
     "output_type": "stream",
     "text": [
      "Epoch (train) 1/10: 100%|█| 101/101 [36:26<00:00, 21.65s/it, accepor_recall=0.872, donor_recall=0.894, loss=0.\n"
     ]
    },
    {
     "name": "stdout",
     "output_type": "stream",
     "text": [
      "epoch: 1/10, train loss = 0.008808\n"
     ]
    },
    {
     "name": "stderr",
     "output_type": "stream",
     "text": [
      "Epoch (val) 1/10: 100%|█| 12/12 [05:33<00:00, 27.82s/it, accepor_recall=0.924, donor_recall=0.93, loss=0.00041\n"
     ]
    },
    {
     "name": "stdout",
     "output_type": "stream",
     "text": [
      "\n",
      "\u001b[1mAcceptor:\u001b[0m\n",
      "0.9638\t0.8628\t0.9708\t0.9864\t0.9131\t0.9805999994277954\t0.8101999759674072\t0.08349999785423279\t0.00800000037997961\t21432\n",
      "\n",
      "\u001b[1mDonor:\u001b[0m\n",
      "0.9672\t0.8806\t0.9784\t0.9924\t0.9262\t0.9772999882698059\t0.7937999963760376\t0.05979999899864197\t0.006599999964237213\t21432\n",
      "epoch: 1/10, val loss = 0.000357\n"
     ]
    },
    {
     "name": "stderr",
     "output_type": "stream",
     "text": [
      "Epoch (train) 2/10: 100%|█| 101/101 [36:51<00:00, 21.89s/it, accepor_recall=0.893, donor_recall=0.907, loss=0.\n"
     ]
    },
    {
     "name": "stdout",
     "output_type": "stream",
     "text": [
      "epoch: 2/10, train loss = 0.000193\n"
     ]
    },
    {
     "name": "stderr",
     "output_type": "stream",
     "text": [
      "Epoch (val) 2/10: 100%|█| 12/12 [05:50<00:00, 29.25s/it, accepor_recall=0.926, donor_recall=0.915, loss=0.0003\n"
     ]
    },
    {
     "name": "stdout",
     "output_type": "stream",
     "text": [
      "\n",
      "\u001b[1mAcceptor:\u001b[0m\n",
      "0.9666\t0.8851\t0.9768\t0.9895\t0.9275\t0.9776999950408936\t0.8266000151634216\t0.0658000037074089\t0.007600000128149986\t21432\n",
      "\n",
      "\u001b[1mDonor:\u001b[0m\n",
      "0.9644\t0.8853\t0.98\t0.9905\t0.928\t0.9610999822616577\t0.6992999911308289\t0.040800001472234726\t0.004800000227987766\t21432\n",
      "epoch: 2/10, val loss = 0.000308\n"
     ]
    },
    {
     "name": "stderr",
     "output_type": "stream",
     "text": [
      "Epoch (train) 3/10: 100%|█| 101/101 [37:02<00:00, 22.00s/it, accepor_recall=0.919, donor_recall=0.928, loss=0.\n"
     ]
    },
    {
     "name": "stdout",
     "output_type": "stream",
     "text": [
      "epoch: 3/10, train loss = 0.000166\n"
     ]
    },
    {
     "name": "stderr",
     "output_type": "stream",
     "text": [
      "Epoch (val) 3/10: 100%|█| 12/12 [06:11<00:00, 30.94s/it, accepor_recall=0.885, donor_recall=0.888, loss=0.0002\n"
     ]
    },
    {
     "name": "stdout",
     "output_type": "stream",
     "text": [
      "\n",
      "\u001b[1mAcceptor:\u001b[0m\n",
      "0.9762\t0.91\t0.9846\t0.9913\t0.9468\t0.9602000117301941\t0.4246000051498413\t0.006099999882280827\t0.0010000000474974513\t21432\n",
      "\n",
      "\u001b[1mDonor:\u001b[0m\n",
      "0.975\t0.9176\t0.9883\t0.995\t0.9528\t0.9739000201225281\t0.37040001153945923\t0.00279999990016222\t0.00039999998989515007\t21432\n",
      "epoch: 3/10, val loss = 0.000205\n"
     ]
    },
    {
     "name": "stderr",
     "output_type": "stream",
     "text": [
      "Epoch (train) 4/10: 100%|█| 101/101 [36:39<00:00, 21.78s/it, accepor_recall=0.933, donor_recall=0.933, loss=0.\n"
     ]
    },
    {
     "name": "stdout",
     "output_type": "stream",
     "text": [
      "epoch: 4/10, train loss = 0.000147\n"
     ]
    },
    {
     "name": "stderr",
     "output_type": "stream",
     "text": [
      "Epoch (val) 4/10: 100%|█| 12/12 [05:22<00:00, 26.85s/it, accepor_recall=0.81, donor_recall=0.842, loss=0.00031\n"
     ]
    },
    {
     "name": "stdout",
     "output_type": "stream",
     "text": [
      "\n",
      "\u001b[1mAcceptor:\u001b[0m\n",
      "0.9756\t0.9121\t0.9846\t0.9915\t0.9472\t0.9668999910354614\t0.1324000060558319\t0.0012000000569969416\t0.00019999999494757503\t21432\n",
      "\n",
      "\u001b[1mDonor:\u001b[0m\n",
      "0.9742\t0.9161\t0.9863\t0.9938\t0.9493\t0.9638000130653381\t0.1873999983072281\t0.0024999999441206455\t0.00039999998989515007\t21432\n",
      "epoch: 4/10, val loss = 0.000240\n"
     ]
    },
    {
     "name": "stderr",
     "output_type": "stream",
     "text": [
      "Epoch (train) 5/10: 100%|█| 101/101 [36:39<00:00, 21.78s/it, accepor_recall=0.934, donor_recall=0.943, loss=0.\n"
     ]
    },
    {
     "name": "stdout",
     "output_type": "stream",
     "text": [
      "epoch: 5/10, train loss = 0.000134\n"
     ]
    },
    {
     "name": "stderr",
     "output_type": "stream",
     "text": [
      "Epoch (val) 5/10: 100%|█| 12/12 [05:23<00:00, 26.97s/it, accepor_recall=0.924, donor_recall=0.925, loss=0.0002\n"
     ]
    },
    {
     "name": "stdout",
     "output_type": "stream",
     "text": [
      "\n",
      "\u001b[1mAcceptor:\u001b[0m\n",
      "0.9763\t0.9107\t0.9861\t0.9924\t0.9474\t0.9731000065803528\t0.6671000123023987\t0.008899999782443047\t0.0012000000569969416\t21432\n",
      "\n",
      "\u001b[1mDonor:\u001b[0m\n",
      "0.9757\t0.9134\t0.9888\t0.9954\t0.9511\t0.9760000109672546\t0.6215999722480774\t0.00570000009611249\t0.000699999975040555\t21432\n",
      "epoch: 5/10, val loss = 0.000207\n"
     ]
    },
    {
     "name": "stderr",
     "output_type": "stream",
     "text": [
      "Epoch (train) 6/10: 100%|█| 101/101 [36:35<00:00, 21.74s/it, accepor_recall=0.946, donor_recall=0.945, loss=0.\n"
     ]
    },
    {
     "name": "stdout",
     "output_type": "stream",
     "text": [
      "epoch: 6/10, train loss = 0.000124\n"
     ]
    },
    {
     "name": "stderr",
     "output_type": "stream",
     "text": [
      "Epoch (val) 6/10: 100%|█| 12/12 [05:30<00:00, 27.57s/it, accepor_recall=0.892, donor_recall=0.896, loss=0.0002\n"
     ]
    },
    {
     "name": "stdout",
     "output_type": "stream",
     "text": [
      "\n",
      "\u001b[1mAcceptor:\u001b[0m\n",
      "0.976\t0.9164\t0.9852\t0.9924\t0.9504\t0.9901000261306763\t0.5120999813079834\t0.004600000102072954\t0.000699999975040555\t21432\n",
      "\n",
      "\u001b[1mDonor:\u001b[0m\n",
      "0.9758\t0.9178\t0.9888\t0.9952\t0.9541\t0.9842000007629395\t0.48980000615119934\t0.005900000222027302\t0.0008999999845400453\t21432\n",
      "epoch: 6/10, val loss = 0.000200\n"
     ]
    },
    {
     "name": "stderr",
     "output_type": "stream",
     "text": [
      "Epoch (train) 7/10: 100%|█| 101/101 [36:33<00:00, 21.71s/it, accepor_recall=0.949, donor_recall=0.954, loss=0.\n"
     ]
    },
    {
     "name": "stdout",
     "output_type": "stream",
     "text": [
      "epoch: 7/10, train loss = 0.000117\n"
     ]
    },
    {
     "name": "stderr",
     "output_type": "stream",
     "text": [
      "Epoch (val) 7/10: 100%|█| 12/12 [05:30<00:00, 27.57s/it, accepor_recall=0.911, donor_recall=0.915, loss=0.0002\n"
     ]
    },
    {
     "name": "stdout",
     "output_type": "stream",
     "text": [
      "\n",
      "\u001b[1mAcceptor:\u001b[0m\n",
      "0.9763\t0.9202\t0.9878\t0.9927\t0.954\t0.9825000166893005\t0.5706999897956848\t0.00279999990016222\t0.00039999998989515007\t21432\n",
      "\n",
      "\u001b[1mDonor:\u001b[0m\n",
      "0.9764\t0.9263\t0.9905\t0.9951\t0.9583\t0.9772999882698059\t0.4593999981880188\t0.0017999999690800905\t0.00019999999494757503\t21432\n",
      "epoch: 7/10, val loss = 0.000188\n"
     ]
    },
    {
     "name": "stderr",
     "output_type": "stream",
     "text": [
      "Epoch (train) 8/10: 100%|█| 101/101 [36:32<00:00, 21.71s/it, accepor_recall=0.961, donor_recall=0.967, loss=9.\n"
     ]
    },
    {
     "name": "stdout",
     "output_type": "stream",
     "text": [
      "epoch: 8/10, train loss = 0.000096\n"
     ]
    },
    {
     "name": "stderr",
     "output_type": "stream",
     "text": [
      "Epoch (val) 8/10: 100%|█| 12/12 [05:35<00:00, 27.93s/it, accepor_recall=0.92, donor_recall=0.93, loss=0.000233\n"
     ]
    },
    {
     "name": "stdout",
     "output_type": "stream",
     "text": [
      "\n",
      "\u001b[1mAcceptor:\u001b[0m\n",
      "0.9774\t0.9269\t0.9881\t0.9927\t0.9561\t0.9837999939918518\t0.5885999798774719\t0.0020000000949949026\t0.00039999998989515007\t21432\n",
      "\n",
      "\u001b[1mDonor:\u001b[0m\n",
      "0.9768\t0.931\t0.9921\t0.9958\t0.96\t0.9833999872207642\t0.567799985408783\t0.0017000000225380063\t0.0003000000142492354\t21432\n",
      "epoch: 8/10, val loss = 0.000177\n"
     ]
    },
    {
     "name": "stderr",
     "output_type": "stream",
     "text": [
      "Epoch (train) 9/10: 100%|█| 101/101 [36:36<00:00, 21.75s/it, accepor_recall=0.964, donor_recall=0.965, loss=8.\n"
     ]
    },
    {
     "name": "stdout",
     "output_type": "stream",
     "text": [
      "epoch: 9/10, train loss = 0.000082\n"
     ]
    },
    {
     "name": "stderr",
     "output_type": "stream",
     "text": [
      "Epoch (val) 9/10: 100%|█| 12/12 [05:28<00:00, 27.35s/it, accepor_recall=0.908, donor_recall=0.905, loss=0.0002\n"
     ]
    },
    {
     "name": "stdout",
     "output_type": "stream",
     "text": [
      "\n",
      "\u001b[1mAcceptor:\u001b[0m\n",
      "0.976\t0.9265\t0.989\t0.9937\t0.9567\t0.9544000029563904\t0.5023999810218811\t0.0044999998062849045\t0.0008999999845400453\t21432\n",
      "\n",
      "\u001b[1mDonor:\u001b[0m\n",
      "0.9742\t0.9319\t0.9918\t0.9957\t0.9598\t0.9537000060081482\t0.44609999656677246\t0.002899999963119626\t0.00039999998989515007\t21432\n",
      "epoch: 9/10, val loss = 0.000173\n"
     ]
    },
    {
     "name": "stderr",
     "output_type": "stream",
     "text": [
      "Epoch (train) 10/10: 100%|█| 101/101 [36:32<00:00, 21.71s/it, accepor_recall=0.969, donor_recall=0.974, loss=6\n"
     ]
    },
    {
     "name": "stdout",
     "output_type": "stream",
     "text": [
      "epoch: 10/10, train loss = 0.000073\n"
     ]
    },
    {
     "name": "stderr",
     "output_type": "stream",
     "text": [
      "Epoch (val) 10/10: 100%|█| 12/12 [05:56<00:00, 29.70s/it, accepor_recall=0.914, donor_recall=0.923, loss=0.000\n"
     ]
    },
    {
     "name": "stdout",
     "output_type": "stream",
     "text": [
      "\n",
      "\u001b[1mAcceptor:\u001b[0m\n",
      "0.9778\t0.9302\t0.9885\t0.9926\t0.9586\t0.9876000285148621\t0.429500013589859\t0.0012000000569969416\t0.00019999999494757503\t21432\n",
      "\n",
      "\u001b[1mDonor:\u001b[0m\n",
      "0.9787\t0.9342\t0.9916\t0.9954\t0.9623\t0.9886000156402588\t0.45680001378059387\t0.0007999999797903001\t9.999999747378752e-05\t21432\n",
      "epoch: 10/10, val loss = 0.000180\n"
     ]
    },
    {
     "data": {
      "image/png": "[encoded data removed]",
      "text/plain": [
       "<Figure size 432x288 with 1 Axes>"
      ]
     },
     "metadata": {
      "needs_background": "light"
     },
     "output_type": "display_data"
    },
    {
     "name": "stderr",
     "output_type": "stream",
     "text": [
      "Epoch (train) 1/10: 100%|█| 101/101 [29:12<00:00, 17.36s/it, accepor_recall=0.872, donor_recall=0.882, loss=0.\n"
     ]
    },
    {
     "name": "stdout",
     "output_type": "stream",
     "text": [
      "epoch: 1/10, train loss = 0.011635\n"
     ]
    },
    {
     "name": "stderr",
     "output_type": "stream",
     "text": [
      "Epoch (val) 1/10: 100%|█| 12/12 [03:57<00:00, 19.83s/it, accepor_recall=0.909, donor_recall=0.943, loss=0.0006\n"
     ]
    },
    {
     "name": "stdout",
     "output_type": "stream",
     "text": [
      "\n",
      "\u001b[1mAcceptor:\u001b[0m\n",
      "0.9462\t0.8128\t0.9444\t0.9749\t0.8693\t0.984499990940094\t0.866100013256073\t0.22179999947547913\t0.028999999165534973\t21432\n",
      "\n",
      "\u001b[1mDonor:\u001b[0m\n",
      "0.9539\t0.8363\t0.9606\t0.9843\t0.8893\t0.980400025844574\t0.8938000202178955\t0.3066999912261963\t0.041099999099969864\t21432\n",
      "epoch: 1/10, val loss = 0.000638\n"
     ]
    },
    {
     "name": "stderr",
     "output_type": "stream",
     "text": [
      "Epoch (train) 2/10: 100%|█| 101/101 [29:05<00:00, 17.29s/it, accepor_recall=0.894, donor_recall=0.905, loss=0.\n"
     ]
    },
    {
     "name": "stdout",
     "output_type": "stream",
     "text": [
      "epoch: 2/10, train loss = 0.000195\n"
     ]
    },
    {
     "name": "stderr",
     "output_type": "stream",
     "text": [
      "Epoch (val) 2/10: 100%|█| 12/12 [03:27<00:00, 17.27s/it, accepor_recall=0.927, donor_recall=0.916, loss=0.0003\n"
     ]
    },
    {
     "name": "stdout",
     "output_type": "stream",
     "text": [
      "\n",
      "\u001b[1mAcceptor:\u001b[0m\n",
      "0.9684\t0.8871\t0.9762\t0.9869\t0.9273\t0.942799985408783\t0.7229999899864197\t0.07190000265836716\t0.010700000450015068\t21432\n",
      "\n",
      "\u001b[1mDonor:\u001b[0m\n",
      "0.9658\t0.8733\t0.977\t0.9899\t0.9226\t0.9567999839782715\t0.6963000297546387\t0.04690000042319298\t0.006500000134110451\t21432\n",
      "epoch: 2/10, val loss = 0.000310\n"
     ]
    },
    {
     "name": "stderr",
     "output_type": "stream",
     "text": [
      "Epoch (train) 3/10: 100%|█| 101/101 [29:13<00:00, 17.36s/it, accepor_recall=0.908, donor_recall=0.918, loss=0.\n"
     ]
    },
    {
     "name": "stdout",
     "output_type": "stream",
     "text": [
      "epoch: 3/10, train loss = 0.000174\n"
     ]
    },
    {
     "name": "stderr",
     "output_type": "stream",
     "text": [
      "Epoch (val) 3/10: 100%|█| 12/12 [03:30<00:00, 17.55s/it, accepor_recall=0.887, donor_recall=0.868, loss=0.0002\n"
     ]
    },
    {
     "name": "stdout",
     "output_type": "stream",
     "text": [
      "\n",
      "\u001b[1mAcceptor:\u001b[0m\n",
      "0.9684\t0.8975\t0.9818\t0.9906\t0.9377\t0.9334999918937683\t0.4918000102043152\t0.014299999922513962\t0.002099999925121665\t21432\n",
      "\n",
      "\u001b[1mDonor:\u001b[0m\n",
      "0.9715\t0.9004\t0.984\t0.9939\t0.9408\t0.9017000198364258\t0.39169999957084656\t0.006800000090152025\t0.0008999999845400453\t21432\n",
      "epoch: 3/10, val loss = 0.000230\n"
     ]
    },
    {
     "name": "stderr",
     "output_type": "stream",
     "text": [
      "Epoch (train) 4/10: 100%|█| 101/101 [29:00<00:00, 17.23s/it, accepor_recall=0.918, donor_recall=0.924, loss=0.\n"
     ]
    },
    {
     "name": "stdout",
     "output_type": "stream",
     "text": [
      "epoch: 4/10, train loss = 0.000160\n"
     ]
    },
    {
     "name": "stderr",
     "output_type": "stream",
     "text": [
      "Epoch (val) 4/10: 100%|█| 12/12 [03:28<00:00, 17.39s/it, accepor_recall=0.85, donor_recall=0.875, loss=0.00026\n"
     ]
    },
    {
     "name": "stdout",
     "output_type": "stream",
     "text": [
      "\n",
      "\u001b[1mAcceptor:\u001b[0m\n",
      "0.9736\t0.9038\t0.9795\t0.9889\t0.9412\t0.9621000289916992\t0.2660999894142151\t0.004000000189989805\t0.000699999975040555\t21432\n",
      "\n",
      "\u001b[1mDonor:\u001b[0m\n",
      "0.9717\t0.9076\t0.9833\t0.9911\t0.9437\t0.9786999821662903\t0.37310001254081726\t0.003599999938160181\t0.0005000000237487257\t21432\n",
      "epoch: 4/10, val loss = 0.000229\n"
     ]
    },
    {
     "name": "stderr",
     "output_type": "stream",
     "text": [
      "Epoch (train) 5/10: 100%|█| 101/101 [29:06<00:00, 17.29s/it, accepor_recall=0.928, donor_recall=0.935, loss=0.\n"
     ]
    },
    {
     "name": "stdout",
     "output_type": "stream",
     "text": [
      "epoch: 5/10, train loss = 0.000149\n"
     ]
    },
    {
     "name": "stderr",
     "output_type": "stream",
     "text": [
      "Epoch (val) 5/10: 100%|█| 12/12 [03:35<00:00, 17.97s/it, accepor_recall=0.915, donor_recall=0.934, loss=0.0002\n"
     ]
    },
    {
     "name": "stdout",
     "output_type": "stream",
     "text": [
      "\n",
      "\u001b[1mAcceptor:\u001b[0m\n",
      "0.9749\t0.9102\t0.9847\t0.9924\t0.9475\t0.9897000193595886\t0.6064000129699707\t0.00860000029206276\t0.001500000013038516\t21432\n",
      "\n",
      "\u001b[1mDonor:\u001b[0m\n",
      "0.9737\t0.9157\t0.9878\t0.9947\t0.9506\t0.9936000108718872\t0.7595999836921692\t0.005400000140070915\t0.000699999975040555\t21432\n",
      "epoch: 5/10, val loss = 0.000214\n"
     ]
    },
    {
     "name": "stderr",
     "output_type": "stream",
     "text": [
      "Epoch (train) 6/10: 100%|█| 101/101 [29:09<00:00, 17.32s/it, accepor_recall=0.928, donor_recall=0.935, loss=0.\n"
     ]
    },
    {
     "name": "stdout",
     "output_type": "stream",
     "text": [
      "epoch: 6/10, train loss = 0.000138\n"
     ]
    },
    {
     "name": "stderr",
     "output_type": "stream",
     "text": [
      "Epoch (val) 6/10: 100%|█| 12/12 [03:35<00:00, 17.96s/it, accepor_recall=0.919, donor_recall=0.921, loss=0.0002\n"
     ]
    },
    {
     "name": "stdout",
     "output_type": "stream",
     "text": [
      "\n",
      "\u001b[1mAcceptor:\u001b[0m\n",
      "0.975\t0.9125\t0.9859\t0.9925\t0.9492\t0.991100013256073\t0.6190000176429749\t0.01080000028014183\t0.0017999999690800905\t21432\n",
      "\n",
      "\u001b[1mDonor:\u001b[0m\n",
      "0.9755\t0.918\t0.9885\t0.9948\t0.9521\t0.9857000112533569\t0.5408999919891357\t0.008799999952316284\t0.0013000000035390258\t21432\n",
      "epoch: 6/10, val loss = 0.000199\n"
     ]
    },
    {
     "name": "stderr",
     "output_type": "stream",
     "text": [
      "Epoch (train) 7/10: 100%|█| 101/101 [29:17<00:00, 17.40s/it, accepor_recall=0.938, donor_recall=0.944, loss=0.\n"
     ]
    },
    {
     "name": "stdout",
     "output_type": "stream",
     "text": [
      "epoch: 7/10, train loss = 0.000129\n"
     ]
    },
    {
     "name": "stderr",
     "output_type": "stream",
     "text": [
      "Epoch (val) 7/10: 100%|█| 12/12 [04:00<00:00, 20.04s/it, accepor_recall=0.897, donor_recall=0.931, loss=0.0002\n"
     ]
    },
    {
     "name": "stdout",
     "output_type": "stream",
     "text": [
      "\n",
      "\u001b[1mAcceptor:\u001b[0m\n",
      "0.9734\t0.9114\t0.9848\t0.9916\t0.9464\t0.9690999984741211\t0.490200012922287\t0.00430000014603138\t0.0006000000284984708\t21432\n",
      "\n",
      "\u001b[1mDonor:\u001b[0m\n",
      "0.9746\t0.9196\t0.9904\t0.9955\t0.9535\t0.9896000027656555\t0.6931999921798706\t0.003700000001117587\t0.0003000000142492354\t21432\n",
      "epoch: 7/10, val loss = 0.000202\n"
     ]
    },
    {
     "name": "stderr",
     "output_type": "stream",
     "text": [
      "Epoch (train) 8/10: 100%|█| 101/101 [29:04<00:00, 17.27s/it, accepor_recall=0.957, donor_recall=0.96, loss=0.0\n"
     ]
    },
    {
     "name": "stdout",
     "output_type": "stream",
     "text": [
      "epoch: 8/10, train loss = 0.000104\n"
     ]
    },
    {
     "name": "stderr",
     "output_type": "stream",
     "text": [
      "Epoch (val) 8/10: 100%|█| 12/12 [03:33<00:00, 17.80s/it, accepor_recall=0.911, donor_recall=0.918, loss=0.0002\n"
     ]
    },
    {
     "name": "stdout",
     "output_type": "stream",
     "text": [
      "\n",
      "\u001b[1mAcceptor:\u001b[0m\n",
      "0.9784\t0.9257\t0.9866\t0.9934\t0.9553\t0.9818000197410583\t0.44909998774528503\t0.002300000051036477\t0.00039999998989515007\t21432\n",
      "\n",
      "\u001b[1mDonor:\u001b[0m\n",
      "0.979\t0.9291\t0.9907\t0.9946\t0.9589\t0.9879999756813049\t0.4584999978542328\t0.002199999988079071\t0.00039999998989515007\t21432\n",
      "epoch: 8/10, val loss = 0.000178\n"
     ]
    },
    {
     "name": "stderr",
     "output_type": "stream",
     "text": [
      "Epoch (train) 9/10: 100%|█| 101/101 [29:02<00:00, 17.25s/it, accepor_recall=0.962, donor_recall=0.966, loss=9.\n"
     ]
    },
    {
     "name": "stdout",
     "output_type": "stream",
     "text": [
      "epoch: 9/10, train loss = 0.000088\n"
     ]
    },
    {
     "name": "stderr",
     "output_type": "stream",
     "text": [
      "Epoch (val) 9/10: 100%|█| 12/12 [03:29<00:00, 17.42s/it, accepor_recall=0.927, donor_recall=0.936, loss=0.0001\n"
     ]
    },
    {
     "name": "stdout",
     "output_type": "stream",
     "text": [
      "\n",
      "\u001b[1mAcceptor:\u001b[0m\n",
      "0.9769\t0.9289\t0.9886\t0.994\t0.9568\t0.9801999926567078\t0.5385000109672546\t0.0031999999191612005\t0.0006000000284984708\t21432\n",
      "\n",
      "\u001b[1mDonor:\u001b[0m\n",
      "0.9755\t0.9322\t0.9913\t0.9962\t0.9597\t0.9790999889373779\t0.5734999775886536\t0.0034000000450760126\t0.0005000000237487257\t21432\n",
      "epoch: 9/10, val loss = 0.000166\n"
     ]
    },
    {
     "name": "stderr",
     "output_type": "stream",
     "text": [
      "Epoch (train) 10/10: 100%|█| 101/101 [28:58<00:00, 17.21s/it, accepor_recall=0.965, donor_recall=0.969, loss=8\n"
     ]
    },
    {
     "name": "stdout",
     "output_type": "stream",
     "text": [
      "epoch: 10/10, train loss = 0.000077\n"
     ]
    },
    {
     "name": "stderr",
     "output_type": "stream",
     "text": [
      "Epoch (val) 10/10: 100%|█| 12/12 [03:30<00:00, 17.54s/it, accepor_recall=0.915, donor_recall=0.921, loss=0.000\n"
     ]
    },
    {
     "name": "stdout",
     "output_type": "stream",
     "text": [
      "\n",
      "\u001b[1mAcceptor:\u001b[0m\n",
      "0.9756\t0.9308\t0.9885\t0.9926\t0.9569\t0.9750999808311462\t0.41999998688697815\t0.00139999995008111\t0.00019999999494757503\t21432\n",
      "\n",
      "\u001b[1mDonor:\u001b[0m\n",
      "0.9756\t0.9324\t0.9914\t0.9956\t0.9598\t0.9757999777793884\t0.43720000982284546\t0.0012000000569969416\t0.00019999999494757503\t21432\n",
      "epoch: 10/10, val loss = 0.000173\n"
     ]
    },
    {
     "data": {
      "image/png": "[encoded data removed]",
      "text/plain": [
       "<Figure size 432x288 with 1 Axes>"
      ]
     },
     "metadata": {
      "needs_background": "light"
     },
     "output_type": "display_data"
    },
    {
     "name": "stderr",
     "output_type": "stream",
     "text": [
      "Epoch (train) 1/10: 100%|█| 101/101 [28:26<00:00, 16.90s/it, accepor_recall=0.863, donor_recall=0.883, loss=0.\n"
     ]
    },
    {
     "name": "stdout",
     "output_type": "stream",
     "text": [
      "epoch: 1/10, train loss = 0.012910\n"
     ]
    },
    {
     "name": "stderr",
     "output_type": "stream",
     "text": [
      "Epoch (val) 1/10: 100%|█| 12/12 [03:17<00:00, 16.43s/it, accepor_recall=0.654, donor_recall=0.669, loss=0.0005\n"
     ]
    },
    {
     "name": "stdout",
     "output_type": "stream",
     "text": [
      "\n",
      "\u001b[1mAcceptor:\u001b[0m\n",
      "0.9474\t0.7855\t0.9139\t0.9576\t0.8405\t0.909500002861023\t0.18809999525547028\t0.010200000368058681\t0.0015999999595806003\t21432\n",
      "\n",
      "\u001b[1mDonor:\u001b[0m\n",
      "0.951\t0.7927\t0.9255\t0.9595\t0.8492\t0.9459999799728394\t0.18199999630451202\t0.007899999618530273\t0.0007999999797903001\t21432\n",
      "epoch: 1/10, val loss = 0.000499\n"
     ]
    },
    {
     "name": "stderr",
     "output_type": "stream",
     "text": [
      "Epoch (train) 2/10: 100%|█| 101/101 [28:27<00:00, 16.91s/it, accepor_recall=0.901, donor_recall=0.914, loss=0.\n"
     ]
    },
    {
     "name": "stdout",
     "output_type": "stream",
     "text": [
      "epoch: 2/10, train loss = 0.000191\n"
     ]
    },
    {
     "name": "stderr",
     "output_type": "stream",
     "text": [
      "Epoch (val) 2/10: 100%|█| 12/12 [02:52<00:00, 14.39s/it, accepor_recall=0.909, donor_recall=0.887, loss=0.0002\n"
     ]
    },
    {
     "name": "stdout",
     "output_type": "stream",
     "text": [
      "\n",
      "\u001b[1mAcceptor:\u001b[0m\n",
      "0.9602\t0.885\t0.9777\t0.9897\t0.9249\t0.9801999926567078\t0.685699999332428\t0.010599999688565731\t0.0010000000474974513\t21432\n",
      "\n",
      "\u001b[1mDonor:\u001b[0m\n",
      "0.9708\t0.8903\t0.9833\t0.9929\t0.936\t0.968999981880188\t0.476500004529953\t0.004600000102072954\t0.00039999998989515007\t21432\n",
      "epoch: 2/10, val loss = 0.000256\n"
     ]
    },
    {
     "name": "stderr",
     "output_type": "stream",
     "text": [
      "Epoch (train) 3/10: 100%|█| 101/101 [28:21<00:00, 16.84s/it, accepor_recall=0.91, donor_recall=0.919, loss=0.0\n"
     ]
    },
    {
     "name": "stdout",
     "output_type": "stream",
     "text": [
      "epoch: 3/10, train loss = 0.000170\n"
     ]
    },
    {
     "name": "stderr",
     "output_type": "stream",
     "text": [
      "Epoch (val) 3/10: 100%|█| 12/12 [02:53<00:00, 14.46s/it, accepor_recall=0.937, donor_recall=0.933, loss=0.0003\n"
     ]
    },
    {
     "name": "stdout",
     "output_type": "stream",
     "text": [
      "\n",
      "\u001b[1mAcceptor:\u001b[0m\n",
      "0.9585\t0.8827\t0.9792\t0.9899\t0.9244\t0.9623000025749207\t0.7825999855995178\t0.0421999990940094\t0.004399999976158142\t21432\n",
      "\n",
      "\u001b[1mDonor:\u001b[0m\n",
      "0.9593\t0.8733\t0.9779\t0.9908\t0.9207\t0.9567000269889832\t0.7615000009536743\t0.04839999973773956\t0.004999999888241291\t21432\n",
      "epoch: 3/10, val loss = 0.000301\n"
     ]
    },
    {
     "name": "stderr",
     "output_type": "stream",
     "text": [
      "Epoch (train) 4/10: 100%|█| 101/101 [28:28<00:00, 16.91s/it, accepor_recall=0.916, donor_recall=0.924, loss=0.\n"
     ]
    },
    {
     "name": "stdout",
     "output_type": "stream",
     "text": [
      "epoch: 4/10, train loss = 0.000161\n"
     ]
    },
    {
     "name": "stderr",
     "output_type": "stream",
     "text": [
      "Epoch (val) 4/10: 100%|█| 12/12 [02:57<00:00, 14.80s/it, accepor_recall=0.945, donor_recall=0.935, loss=0.0002\n"
     ]
    },
    {
     "name": "stdout",
     "output_type": "stream",
     "text": [
      "\n",
      "\u001b[1mAcceptor:\u001b[0m\n",
      "0.9702\t0.8989\t0.9819\t0.9907\t0.9384\t0.9804999828338623\t0.8102999925613403\t0.030500000342726707\t0.003000000026077032\t21432\n",
      "\n",
      "\u001b[1mDonor:\u001b[0m\n",
      "0.9698\t0.9041\t0.9862\t0.9943\t0.9443\t0.9814000129699707\t0.7038999795913696\t0.014800000004470348\t0.0015999999595806003\t21432\n",
      "epoch: 4/10, val loss = 0.000245\n"
     ]
    },
    {
     "name": "stderr",
     "output_type": "stream",
     "text": [
      "Epoch (train) 5/10: 100%|█| 101/101 [28:23<00:00, 16.87s/it, accepor_recall=0.92, donor_recall=0.927, loss=0.0\n"
     ]
    },
    {
     "name": "stdout",
     "output_type": "stream",
     "text": [
      "epoch: 5/10, train loss = 0.000152\n"
     ]
    },
    {
     "name": "stderr",
     "output_type": "stream",
     "text": [
      "Epoch (val) 5/10: 100%|█| 12/12 [02:56<00:00, 14.72s/it, accepor_recall=0.871, donor_recall=0.883, loss=0.0002\n"
     ]
    },
    {
     "name": "stdout",
     "output_type": "stream",
     "text": [
      "\n",
      "\u001b[1mAcceptor:\u001b[0m\n",
      "0.9721\t0.9008\t0.9801\t0.9895\t0.9404\t0.9763000011444092\t0.3447999954223633\t0.008200000040233135\t0.00139999995008111\t21432\n",
      "\n",
      "\u001b[1mDonor:\u001b[0m\n",
      "0.9714\t0.9094\t0.9863\t0.9938\t0.9456\t0.980400025844574\t0.3666999936103821\t0.008500000461935997\t0.0013000000035390258\t21432\n",
      "epoch: 5/10, val loss = 0.000217\n"
     ]
    },
    {
     "name": "stderr",
     "output_type": "stream",
     "text": [
      "Epoch (train) 6/10: 100%|█| 101/101 [28:18<00:00, 16.82s/it, accepor_recall=0.928, donor_recall=0.93, loss=0.0\n"
     ]
    },
    {
     "name": "stdout",
     "output_type": "stream",
     "text": [
      "epoch: 6/10, train loss = 0.000146\n"
     ]
    },
    {
     "name": "stderr",
     "output_type": "stream",
     "text": [
      "Epoch (val) 6/10: 100%|█| 12/12 [02:59<00:00, 14.97s/it, accepor_recall=0.912, donor_recall=0.905, loss=0.0002\n"
     ]
    },
    {
     "name": "stdout",
     "output_type": "stream",
     "text": [
      "\n",
      "\u001b[1mAcceptor:\u001b[0m\n",
      "0.9738\t0.906\t0.9849\t0.9916\t0.9462\t0.9613999724388123\t0.5838000178337097\t0.013500000350177288\t0.0019000000320374966\t21432\n",
      "\n",
      "\u001b[1mDonor:\u001b[0m\n",
      "0.9713\t0.9093\t0.9882\t0.9943\t0.9481\t0.9531000256538391\t0.49219998717308044\t0.009800000116229057\t0.0010000000474974513\t21432\n",
      "epoch: 6/10, val loss = 0.000205\n"
     ]
    },
    {
     "name": "stderr",
     "output_type": "stream",
     "text": [
      "Epoch (train) 7/10: 100%|█| 101/101 [28:18<00:00, 16.82s/it, accepor_recall=0.936, donor_recall=0.936, loss=0.\n"
     ]
    },
    {
     "name": "stdout",
     "output_type": "stream",
     "text": [
      "epoch: 7/10, train loss = 0.000140\n"
     ]
    },
    {
     "name": "stderr",
     "output_type": "stream",
     "text": [
      "Epoch (val) 7/10: 100%|█| 12/12 [02:58<00:00, 14.89s/it, accepor_recall=0.943, donor_recall=0.94, loss=0.00020\n"
     ]
    },
    {
     "name": "stdout",
     "output_type": "stream",
     "text": [
      "\n",
      "\u001b[1mAcceptor:\u001b[0m\n",
      "0.975\t0.9192\t0.987\t0.9923\t0.9503\t0.9890000224113464\t0.7296000123023987\t0.01640000008046627\t0.0024999999441206455\t21432\n",
      "\n",
      "\u001b[1mDonor:\u001b[0m\n",
      "0.9736\t0.9217\t0.9888\t0.995\t0.9545\t0.9896000027656555\t0.6211000084877014\t0.007899999618530273\t0.0010999999940395355\t21432\n",
      "epoch: 7/10, val loss = 0.000196\n"
     ]
    },
    {
     "name": "stderr",
     "output_type": "stream",
     "text": [
      "Epoch (train) 8/10: 100%|█| 101/101 [28:27<00:00, 16.91s/it, accepor_recall=0.949, donor_recall=0.956, loss=0.\n"
     ]
    },
    {
     "name": "stdout",
     "output_type": "stream",
     "text": [
      "epoch: 8/10, train loss = 0.000112\n"
     ]
    },
    {
     "name": "stderr",
     "output_type": "stream",
     "text": [
      "Epoch (val) 8/10: 100%|█| 12/12 [02:57<00:00, 14.76s/it, accepor_recall=0.915, donor_recall=0.925, loss=0.0001\n"
     ]
    },
    {
     "name": "stdout",
     "output_type": "stream",
     "text": [
      "\n",
      "\u001b[1mAcceptor:\u001b[0m\n",
      "0.9772\t0.9217\t0.9859\t0.9918\t0.9528\t0.9860000014305115\t0.5601999759674072\t0.003100000089034438\t0.0005000000237487257\t21432\n",
      "\n",
      "\u001b[1mDonor:\u001b[0m\n",
      "0.9752\t0.9288\t0.9912\t0.9951\t0.9588\t0.9882000088691711\t0.5975000262260437\t0.003100000089034438\t0.00039999998989515007\t21432\n",
      "epoch: 8/10, val loss = 0.000181\n"
     ]
    },
    {
     "name": "stderr",
     "output_type": "stream",
     "text": [
      "Epoch (train) 9/10: 100%|█| 101/101 [28:03<00:00, 16.67s/it, accepor_recall=0.957, donor_recall=0.962, loss=9.\n"
     ]
    },
    {
     "name": "stdout",
     "output_type": "stream",
     "text": [
      "epoch: 9/10, train loss = 0.000095\n"
     ]
    },
    {
     "name": "stderr",
     "output_type": "stream",
     "text": [
      "Epoch (val) 9/10: 100%|█| 12/12 [02:56<00:00, 14.70s/it, accepor_recall=0.917, donor_recall=0.914, loss=0.0001\n"
     ]
    },
    {
     "name": "stdout",
     "output_type": "stream",
     "text": [
      "\n",
      "\u001b[1mAcceptor:\u001b[0m\n",
      "0.9769\t0.926\t0.9888\t0.9939\t0.9562\t0.9708999991416931\t0.46619999408721924\t0.004699999932199717\t0.0007999999797903001\t21432\n",
      "\n",
      "\u001b[1mDonor:\u001b[0m\n",
      "0.9742\t0.9281\t0.9916\t0.9957\t0.9576\t0.9682999849319458\t0.4198000133037567\t0.003700000001117587\t0.0006000000284984708\t21432\n",
      "epoch: 9/10, val loss = 0.000169\n"
     ]
    },
    {
     "name": "stderr",
     "output_type": "stream",
     "text": [
      "Epoch (train) 10/10: 100%|█| 101/101 [28:08<00:00, 16.72s/it, accepor_recall=0.966, donor_recall=0.969, loss=8\n"
     ]
    },
    {
     "name": "stdout",
     "output_type": "stream",
     "text": [
      "epoch: 10/10, train loss = 0.000083\n"
     ]
    },
    {
     "name": "stderr",
     "output_type": "stream",
     "text": [
      "Epoch (val) 10/10: 100%|█| 12/12 [02:54<00:00, 14.56s/it, accepor_recall=0.924, donor_recall=0.925, loss=0.000\n"
     ]
    },
    {
     "name": "stdout",
     "output_type": "stream",
     "text": [
      "\n",
      "\u001b[1mAcceptor:\u001b[0m\n",
      "0.9784\t0.9321\t0.9888\t0.9933\t0.9588\t0.9811000227928162\t0.4925000071525574\t0.0017999999690800905\t0.0003000000142492354\t21432\n",
      "\n",
      "\u001b[1mDonor:\u001b[0m\n",
      "0.9751\t0.9326\t0.9916\t0.9958\t0.9599\t0.986299991607666\t0.46480000019073486\t0.0012000000569969416\t0.00019999999494757503\t21432\n",
      "epoch: 10/10, val loss = 0.000167\n"
     ]
    },
    {
     "data": {
      "image/png": "[encoded data removed]",
      "text/plain": [
       "<Figure size 432x288 with 1 Axes>"
      ]
     },
     "metadata": {
      "needs_background": "light"
     },
     "output_type": "display_data"
    },
    {
     "name": "stderr",
     "output_type": "stream",
     "text": [
      "Epoch (train) 1/10: 100%|█| 101/101 [27:55<00:00, 16.59s/it, accepor_recall=0.856, donor_recall=0.879, loss=0.\n"
     ]
    },
    {
     "name": "stdout",
     "output_type": "stream",
     "text": [
      "epoch: 1/10, train loss = 0.016042\n"
     ]
    },
    {
     "name": "stderr",
     "output_type": "stream",
     "text": [
      "Epoch (val) 1/10:   8%| | 1/12 [00:33<06:08, 33.54s/it, accepor_recall=0.852, donor_recall=0.863, loss=0.00089\n"
     ]
    },
    {
     "ename": "RuntimeError",
     "evalue": "CUDA out of memory. Tried to allocate 1.55 GiB (GPU 0; 31.75 GiB total capacity; 15.27 GiB already allocated; 1.36 GiB free; 28.19 GiB reserved in total by PyTorch) If reserved memory is >> allocated memory try setting max_split_size_mb to avoid fragmentation.  See documentation for Memory Management and PYTORCH_CUDA_ALLOC_CONF",
     "output_type": "error",
     "traceback": [
      "\u001b[0;31m---------------------------------------------------------------------------\u001b[0m",
      "\u001b[0;31mRuntimeError\u001b[0m                              Traceback (most recent call last)",
      "\u001b[0;32m/tmp/ipykernel_20379/2571392055.py\u001b[0m in \u001b[0;36m<module>\u001b[0;34m\u001b[0m\n\u001b[1;32m     33\u001b[0m     \u001b[0mscheduler\u001b[0m \u001b[0;34m=\u001b[0m \u001b[0mtorch\u001b[0m\u001b[0;34m.\u001b[0m\u001b[0moptim\u001b[0m\u001b[0;34m.\u001b[0m\u001b[0mlr_scheduler\u001b[0m\u001b[0;34m.\u001b[0m\u001b[0mStepLR\u001b[0m\u001b[0;34m(\u001b[0m\u001b[0moptimizer\u001b[0m\u001b[0;34m,\u001b[0m \u001b[0mstep_size\u001b[0m\u001b[0;34m=\u001b[0m\u001b[0;36m1\u001b[0m\u001b[0;34m,\u001b[0m \u001b[0mgamma\u001b[0m\u001b[0;34m=\u001b[0m\u001b[0;36m0.5\u001b[0m\u001b[0;34m)\u001b[0m\u001b[0;34m\u001b[0m\u001b[0;34m\u001b[0m\u001b[0m\n\u001b[1;32m     34\u001b[0m     \u001b[0mwarmup\u001b[0m \u001b[0;34m=\u001b[0m \u001b[0mget_constant_schedule_with_warmup\u001b[0m\u001b[0;34m(\u001b[0m\u001b[0moptimizer\u001b[0m\u001b[0;34m,\u001b[0m \u001b[0mnum_warmup_steps\u001b[0m\u001b[0;34m=\u001b[0m\u001b[0;36m1000\u001b[0m\u001b[0;34m)\u001b[0m\u001b[0;34m\u001b[0m\u001b[0;34m\u001b[0m\u001b[0m\n\u001b[0;32m---> 35\u001b[0;31m     \u001b[0mh\u001b[0m \u001b[0;34m=\u001b[0m \u001b[0mtrainModel\u001b[0m\u001b[0;34m(\u001b[0m\u001b[0mmodel_m\u001b[0m\u001b[0;34m,\u001b[0m\u001b[0mmodelFileName\u001b[0m\u001b[0;34m,\u001b[0m\u001b[0mloss\u001b[0m\u001b[0;34m,\u001b[0m\u001b[0mtrain_loader\u001b[0m\u001b[0;34m,\u001b[0m\u001b[0mval_loader\u001b[0m\u001b[0;34m,\u001b[0m\u001b[0moptimizer\u001b[0m\u001b[0;34m,\u001b[0m\u001b[0mscheduler\u001b[0m\u001b[0;34m,\u001b[0m\u001b[0mwarmup\u001b[0m\u001b[0;34m,\u001b[0m\u001b[0mBATCH_SIZE\u001b[0m\u001b[0;34m,\u001b[0m\u001b[0mepochs\u001b[0m\u001b[0;34m,\u001b[0m\u001b[0mdevice\u001b[0m\u001b[0;34m)\u001b[0m\u001b[0;34m\u001b[0m\u001b[0;34m\u001b[0m\u001b[0m\n\u001b[0m\u001b[1;32m     36\u001b[0m     \u001b[0mhs\u001b[0m\u001b[0;34m.\u001b[0m\u001b[0mappend\u001b[0m\u001b[0;34m(\u001b[0m\u001b[0mh\u001b[0m\u001b[0;34m)\u001b[0m\u001b[0;34m\u001b[0m\u001b[0;34m\u001b[0m\u001b[0m\n\u001b[1;32m     37\u001b[0m \u001b[0;34m\u001b[0m\u001b[0m\n",
      "\u001b[0;32m/SplicePrediction/Code/src/train.py\u001b[0m in \u001b[0;36mtrainModel\u001b[0;34m(model, fileName, criterion, train_loader, val_loader, optimizer, scheduler, warmup, BATCH_SIZE, epochs, device, exonInclusion, verbose, lowValidationGPUMem)\u001b[0m\n\u001b[1;32m     45\u001b[0m                 \u001b[0mresidual\u001b[0m \u001b[0;34m=\u001b[0m \u001b[0mbatch_chunks\u001b[0m\u001b[0;34m.\u001b[0m\u001b[0mshape\u001b[0m\u001b[0;34m[\u001b[0m\u001b[0;36m0\u001b[0m\u001b[0;34m]\u001b[0m\u001b[0;34m%\u001b[0m\u001b[0mBATCH_SIZE\u001b[0m\u001b[0;34m\u001b[0m\u001b[0;34m\u001b[0m\u001b[0m\n\u001b[1;32m     46\u001b[0m                 \u001b[0;32mif\u001b[0m \u001b[0mresidual\u001b[0m\u001b[0;34m!=\u001b[0m\u001b[0;36m0\u001b[0m\u001b[0;34m:\u001b[0m\u001b[0;34m\u001b[0m\u001b[0;34m\u001b[0m\u001b[0m\n\u001b[0;32m---> 47\u001b[0;31m                     \u001b[0mbatch_chunks\u001b[0m \u001b[0;34m=\u001b[0m \u001b[0mtorch\u001b[0m\u001b[0;34m.\u001b[0m\u001b[0mcat\u001b[0m\u001b[0;34m(\u001b[0m\u001b[0;34m[\u001b[0m\u001b[0mbatch_chunks\u001b[0m\u001b[0;34m,\u001b[0m\u001b[0mtorch\u001b[0m\u001b[0;34m.\u001b[0m\u001b[0mzeros\u001b[0m\u001b[0;34m(\u001b[0m\u001b[0;34m(\u001b[0m\u001b[0mBATCH_SIZE\u001b[0m\u001b[0;34m-\u001b[0m\u001b[0mresidual\u001b[0m\u001b[0;34m,\u001b[0m\u001b[0mbatch_chunks\u001b[0m\u001b[0;34m.\u001b[0m\u001b[0mshape\u001b[0m\u001b[0;34m[\u001b[0m\u001b[0;36m1\u001b[0m\u001b[0;34m]\u001b[0m\u001b[0;34m,\u001b[0m\u001b[0mbatch_chunks\u001b[0m\u001b[0;34m.\u001b[0m\u001b[0mshape\u001b[0m\u001b[0;34m[\u001b[0m\u001b[0;36m2\u001b[0m\u001b[0;34m]\u001b[0m\u001b[0;34m)\u001b[0m\u001b[0;34m,\u001b[0m\u001b[0mdevice\u001b[0m\u001b[0;34m=\u001b[0m\u001b[0mdevice\u001b[0m\u001b[0;34m)\u001b[0m\u001b[0;34m]\u001b[0m\u001b[0;34m,\u001b[0m\u001b[0maxis\u001b[0m\u001b[0;34m=\u001b[0m\u001b[0;36m0\u001b[0m\u001b[0;34m)\u001b[0m\u001b[0;34m\u001b[0m\u001b[0;34m\u001b[0m\u001b[0m\n\u001b[0m\u001b[1;32m     48\u001b[0m                     \u001b[0mtarget_chunks\u001b[0m \u001b[0;34m=\u001b[0m \u001b[0mtorch\u001b[0m\u001b[0;34m.\u001b[0m\u001b[0mcat\u001b[0m\u001b[0;34m(\u001b[0m\u001b[0;34m[\u001b[0m\u001b[0mtarget_chunks\u001b[0m\u001b[0;34m,\u001b[0m\u001b[0mtorch\u001b[0m\u001b[0;34m.\u001b[0m\u001b[0mzeros\u001b[0m\u001b[0;34m(\u001b[0m\u001b[0;34m(\u001b[0m\u001b[0mBATCH_SIZE\u001b[0m\u001b[0;34m-\u001b[0m\u001b[0mresidual\u001b[0m\u001b[0;34m,\u001b[0m\u001b[0mtarget_chunks\u001b[0m\u001b[0;34m.\u001b[0m\u001b[0mshape\u001b[0m\u001b[0;34m[\u001b[0m\u001b[0;36m1\u001b[0m\u001b[0;34m]\u001b[0m\u001b[0;34m,\u001b[0m\u001b[0mtarget_chunks\u001b[0m\u001b[0;34m.\u001b[0m\u001b[0mshape\u001b[0m\u001b[0;34m[\u001b[0m\u001b[0;36m2\u001b[0m\u001b[0;34m]\u001b[0m\u001b[0;34m)\u001b[0m\u001b[0;34m,\u001b[0m\u001b[0mdevice\u001b[0m\u001b[0;34m=\u001b[0m\u001b[0mdevice\u001b[0m\u001b[0;34m)\u001b[0m\u001b[0;34m]\u001b[0m\u001b[0;34m,\u001b[0m\u001b[0maxis\u001b[0m\u001b[0;34m=\u001b[0m\u001b[0;36m0\u001b[0m\u001b[0;34m)\u001b[0m\u001b[0;34m\u001b[0m\u001b[0;34m\u001b[0m\u001b[0m\n\u001b[1;32m     49\u001b[0m \u001b[0;34m\u001b[0m\u001b[0m\n",
      "\u001b[0;31mRuntimeError\u001b[0m: CUDA out of memory. Tried to allocate 1.55 GiB (GPU 0; 31.75 GiB total capacity; 15.27 GiB already allocated; 1.36 GiB free; 28.19 GiB reserved in total by PyTorch) If reserved memory is >> allocated memory try setting max_split_size_mb to avoid fragmentation.  See documentation for Memory Management and PYTORCH_CUDA_ALLOC_CONF"
     ]
    }
   ],
   "source": [
    "device = torch.device(\"cuda\" if torch.cuda.is_available() else \"cpu\")\n",
    "epochs = 10\n",
    "hs = []\n",
    "\n",
    "parameters = [0.5,1,2,3,4]\n",
    "\n",
    "for model_nr in range(5):\n",
    "    k = parameters[model_nr]\n",
    "    BATCH_SIZE = int(np.round(k*6*N_GPUS))\n",
    "    CL = 2 * np.sum(AR*(W-1))\n",
    "    train_dataset = spliceDataset(annotation_train,transcriptToLabel,SL,CL_max)\n",
    "    val_dataset = spliceDataset(annotation_validation,transcriptToLabel,SL,CL_max)\n",
    "    train_dataset.seqData = seqData\n",
    "    val_dataset.seqData = seqData\n",
    "\n",
    "    train_loader = torch.utils.data.DataLoader(train_dataset, batch_size=200, shuffle=True, num_workers=16,collate_fn=collate_fn, pin_memory=True)\n",
    "    val_loader = torch.utils.data.DataLoader(val_dataset, batch_size=200, shuffle=False,collate_fn=collate_fn, num_workers=16)\n",
    "    model_m = SpliceFormer(CL_max)\n",
    "    model_m.apply(keras_init)\n",
    "    model_m = model_m.to(device)\n",
    "    if torch.cuda.device_count() > 1:\n",
    "        #print(\"Let's use\", torch.cuda.device_count(), \"GPUs!\")\n",
    "        # dim = 0 [30, xxx] -> [10, ...], [10, ...], [10, ...] on 3 GPUs\n",
    "        model_m = nn.DataParallel(model_m)\n",
    "    \n",
    "    modelFileName = '../Results/PyTorch_Models/transformer_encoder_40k_ablation_batchSize_k_{}_2'.format(parameters[model_nr])\n",
    "    #model_m.load_state_dict(torch.load('../Results/PyTorch_Models/SpliceAI_Ensembl_dgxtest_{}'.format(0)))\n",
    "    #loss = nn.CrossEntropyLoss(weight=torch.from_numpy(weights).float().to(device),ignore_index=-1,reduction='mean')\n",
    "    loss = categorical_crossentropy_2d().loss\n",
    "    #loss = nn.KLDivLoss()\n",
    "    learning_rate= k*1e-3\n",
    "    optimizer = torch.optim.Adam(model_m.parameters(), lr=learning_rate)\n",
    "    scheduler = torch.optim.lr_scheduler.StepLR(optimizer, step_size=1, gamma=0.5)\n",
    "    warmup = get_constant_schedule_with_warmup(optimizer, num_warmup_steps=1000)\n",
    "    h = trainModel(model_m,modelFileName,loss,train_loader,val_loader,optimizer,scheduler,warmup,BATCH_SIZE,epochs,device)\n",
    "    hs.append(h)\n",
    "\n",
    "    plt.plot(range(epochs),h['loss'],label='Train')\n",
    "    plt.plot(range(epochs),h['val_loss'],label='Validation')\n",
    "    plt.xlabel('Epoch')\n",
    "    plt.ylabel('Loss')\n",
    "    plt.legend()\n",
    "    plt.show()"
   ]
  },
  {
   "cell_type": "code",
   "execution_count": 12,
   "metadata": {},
   "outputs": [
    {
     "name": "stderr",
     "output_type": "stream",
     "text": [
      "Epoch (train) 1/10: 100%|████████████████| 101/101 [14:03<00:00,  8.35s/it, accepor_recall=0.859, donor_recall=0.87, loss=0.000233, pred_l1_dist=0]\n"
     ]
    },
    {
     "name": "stdout",
     "output_type": "stream",
     "text": [
      "epoch: 1/10, train loss = 0.015475\n"
     ]
    },
    {
     "name": "stderr",
     "output_type": "stream",
     "text": [
      "Epoch (val) 1/10: 100%|███████████████████| 12/12 [01:57<00:00,  9.76s/it, accepor_recall=0.964, donor_recall=0.943, loss=0.000829, pred_l1_dist=0]\n"
     ]
    },
    {
     "name": "stdout",
     "output_type": "stream",
     "text": [
      "\n",
      "\u001b[1mAcceptor:\u001b[0m\n",
      "0.9427\t0.814\t0.9515\t0.9791\t0.8701\t0.9857000112533569\t0.9383999705314636\t0.5849999785423279\t0.13089999556541443\t21432\n",
      "\n",
      "\u001b[1mDonor:\u001b[0m\n",
      "0.9483\t0.827\t0.9591\t0.9833\t0.8828\t0.9484000205993652\t0.8159000277519226\t0.27320000529289246\t0.03700000047683716\t21432\n",
      "epoch: 1/10, val loss = 0.000833\n"
     ]
    },
    {
     "name": "stderr",
     "output_type": "stream",
     "text": [
      "Epoch (train) 2/10: 100%|██████████████████| 101/101 [13:01<00:00,  7.74s/it, accepor_recall=0.9, donor_recall=0.909, loss=0.00019, pred_l1_dist=0]\n"
     ]
    },
    {
     "name": "stdout",
     "output_type": "stream",
     "text": [
      "epoch: 2/10, train loss = 0.000193\n"
     ]
    },
    {
     "name": "stderr",
     "output_type": "stream",
     "text": [
      "Epoch (val) 2/10: 100%|███████████████████| 12/12 [01:52<00:00,  9.37s/it, accepor_recall=0.884, donor_recall=0.906, loss=0.000309, pred_l1_dist=0]\n"
     ]
    },
    {
     "name": "stdout",
     "output_type": "stream",
     "text": [
      "\n",
      "\u001b[1mAcceptor:\u001b[0m\n",
      "0.9567\t0.8693\t0.9721\t0.9881\t0.9127\t0.8808000087738037\t0.557200014591217\t0.0430000014603138\t0.006200000178068876\t21432\n",
      "\n",
      "\u001b[1mDonor:\u001b[0m\n",
      "0.9598\t0.875\t0.978\t0.9922\t0.9199\t0.9103999733924866\t0.6563000082969666\t0.025200000032782555\t0.0027000000700354576\t21432\n",
      "epoch: 2/10, val loss = 0.000289\n"
     ]
    },
    {
     "name": "stderr",
     "output_type": "stream",
     "text": [
      "Epoch (train) 3/10: 100%|███████████████| 101/101 [12:54<00:00,  7.67s/it, accepor_recall=0.906, donor_recall=0.915, loss=0.000165, pred_l1_dist=0]\n"
     ]
    },
    {
     "name": "stdout",
     "output_type": "stream",
     "text": [
      "epoch: 3/10, train loss = 0.000170\n"
     ]
    },
    {
     "name": "stderr",
     "output_type": "stream",
     "text": [
      "Epoch (val) 3/10: 100%|███████████████████| 12/12 [01:54<00:00,  9.54s/it, accepor_recall=0.858, donor_recall=0.873, loss=0.000315, pred_l1_dist=0]\n"
     ]
    },
    {
     "name": "stdout",
     "output_type": "stream",
     "text": [
      "\n",
      "\u001b[1mAcceptor:\u001b[0m\n",
      "0.9637\t0.8615\t0.9679\t0.9862\t0.9122\t0.9745000004768372\t0.5314000248908997\t0.012000000104308128\t0.0013000000035390258\t21432\n",
      "\n",
      "\u001b[1mDonor:\u001b[0m\n",
      "0.9703\t0.8749\t0.979\t0.9919\t0.9263\t0.9758999943733215\t0.5623000264167786\t0.010499999858438969\t0.0010000000474974513\t21432\n",
      "epoch: 3/10, val loss = 0.000291\n"
     ]
    },
    {
     "name": "stderr",
     "output_type": "stream",
     "text": [
      "Epoch (train) 4/10: 100%|████████████████| 101/101 [12:55<00:00,  7.67s/it, accepor_recall=0.915, donor_recall=0.92, loss=0.000157, pred_l1_dist=0]\n"
     ]
    },
    {
     "name": "stdout",
     "output_type": "stream",
     "text": [
      "epoch: 4/10, train loss = 0.000159\n"
     ]
    },
    {
     "name": "stderr",
     "output_type": "stream",
     "text": [
      "Epoch (val) 4/10: 100%|███████████████████| 12/12 [01:48<00:00,  9.01s/it, accepor_recall=0.791, donor_recall=0.805, loss=0.000322, pred_l1_dist=0]\n"
     ]
    },
    {
     "name": "stdout",
     "output_type": "stream",
     "text": [
      "\n",
      "\u001b[1mAcceptor:\u001b[0m\n",
      "0.9657\t0.8776\t0.9752\t0.9879\t0.9236\t0.9024999737739563\t0.22100000083446503\t0.006899999920278788\t0.00139999995008111\t21432\n",
      "\n",
      "\u001b[1mDonor:\u001b[0m\n",
      "0.9675\t0.8722\t0.9757\t0.9905\t0.9245\t0.9132999777793884\t0.29420000314712524\t0.010099999606609344\t0.0017000000225380063\t21432\n",
      "epoch: 4/10, val loss = 0.000282\n"
     ]
    },
    {
     "name": "stderr",
     "output_type": "stream",
     "text": [
      "Epoch (train) 5/10: 100%|███████████████| 101/101 [12:52<00:00,  7.65s/it, accepor_recall=0.919, donor_recall=0.924, loss=0.000152, pred_l1_dist=0]\n"
     ]
    },
    {
     "name": "stdout",
     "output_type": "stream",
     "text": [
      "epoch: 5/10, train loss = 0.000154\n"
     ]
    },
    {
     "name": "stderr",
     "output_type": "stream",
     "text": [
      "Epoch (val) 5/10: 100%|███████████████████| 12/12 [01:51<00:00,  9.30s/it, accepor_recall=0.905, donor_recall=0.919, loss=0.000306, pred_l1_dist=0]\n"
     ]
    },
    {
     "name": "stdout",
     "output_type": "stream",
     "text": [
      "\n",
      "\u001b[1mAcceptor:\u001b[0m\n",
      "0.9714\t0.8903\t0.98\t0.9891\t0.9332\t0.9736999869346619\t0.6211000084877014\t0.014700000174343586\t0.0015999999595806003\t21432\n",
      "\n",
      "\u001b[1mDonor:\u001b[0m\n",
      "0.9662\t0.8842\t0.9782\t0.9924\t0.9279\t0.9861999750137329\t0.808899998664856\t0.03269999846816063\t0.003000000026077032\t21432\n",
      "epoch: 5/10, val loss = 0.000285\n"
     ]
    },
    {
     "name": "stderr",
     "output_type": "stream",
     "text": [
      "Epoch (train) 6/10: 100%|███████████████| 101/101 [12:54<00:00,  7.67s/it, accepor_recall=0.923, donor_recall=0.929, loss=0.000153, pred_l1_dist=0]\n"
     ]
    },
    {
     "name": "stdout",
     "output_type": "stream",
     "text": [
      "epoch: 6/10, train loss = 0.000150\n"
     ]
    },
    {
     "name": "stderr",
     "output_type": "stream",
     "text": [
      "Epoch (val) 6/10: 100%|███████████████████| 12/12 [01:51<00:00,  9.27s/it, accepor_recall=0.935, donor_recall=0.945, loss=0.000766, pred_l1_dist=0]\n"
     ]
    },
    {
     "name": "stdout",
     "output_type": "stream",
     "text": [
      "\n",
      "\u001b[1mAcceptor:\u001b[0m\n",
      "0.9467\t0.8051\t0.9372\t0.9767\t0.8648\t0.9865999817848206\t0.9223999977111816\t0.3765000104904175\t0.03959999978542328\t21432\n",
      "\n",
      "\u001b[1mDonor:\u001b[0m\n",
      "0.9415\t0.8118\t0.9499\t0.9823\t0.8713\t0.9876000285148621\t0.9398000240325928\t0.37779998779296875\t0.033799998462200165\t21432\n",
      "epoch: 6/10, val loss = 0.000798\n"
     ]
    },
    {
     "name": "stderr",
     "output_type": "stream",
     "text": [
      "Epoch (train) 7/10: 100%|████████████████| 101/101 [12:47<00:00,  7.60s/it, accepor_recall=0.93, donor_recall=0.937, loss=0.000145, pred_l1_dist=0]\n"
     ]
    },
    {
     "name": "stdout",
     "output_type": "stream",
     "text": [
      "epoch: 7/10, train loss = 0.000144\n"
     ]
    },
    {
     "name": "stderr",
     "output_type": "stream",
     "text": [
      "Epoch (val) 7/10: 100%|███████████████████| 12/12 [01:41<00:00,  8.46s/it, accepor_recall=0.918, donor_recall=0.918, loss=0.000204, pred_l1_dist=0]\n"
     ]
    },
    {
     "name": "stdout",
     "output_type": "stream",
     "text": [
      "\n",
      "\u001b[1mAcceptor:\u001b[0m\n",
      "0.9708\t0.9117\t0.9844\t0.9902\t0.9443\t0.9721999764442444\t0.5450999736785889\t0.008200000040233135\t0.0012000000569969416\t21432\n",
      "\n",
      "\u001b[1mDonor:\u001b[0m\n",
      "0.9735\t0.9189\t0.9887\t0.9941\t0.9514\t0.9603000283241272\t0.49709999561309814\t0.0052999998442828655\t0.000699999975040555\t21432\n",
      "epoch: 7/10, val loss = 0.000199\n"
     ]
    },
    {
     "name": "stderr",
     "output_type": "stream",
     "text": [
      "Epoch (train) 8/10: 100%|███████████████| 101/101 [12:45<00:00,  7.57s/it, accepor_recall=0.945, donor_recall=0.949, loss=0.000124, pred_l1_dist=0]\n"
     ]
    },
    {
     "name": "stdout",
     "output_type": "stream",
     "text": [
      "epoch: 8/10, train loss = 0.000119\n"
     ]
    },
    {
     "name": "stderr",
     "output_type": "stream",
     "text": [
      "Epoch (val) 8/10: 100%|███████████████████| 12/12 [01:54<00:00,  9.55s/it, accepor_recall=0.916, donor_recall=0.915, loss=0.000203, pred_l1_dist=0]\n"
     ]
    },
    {
     "name": "stdout",
     "output_type": "stream",
     "text": [
      "\n",
      "\u001b[1mAcceptor:\u001b[0m\n",
      "0.9762\t0.9199\t0.9847\t0.9916\t0.952\t0.9810000061988831\t0.4487000107765198\t0.002899999963119626\t0.0005000000237487257\t21432\n",
      "\n",
      "\u001b[1mDonor:\u001b[0m\n",
      "0.9733\t0.9251\t0.99\t0.9949\t0.9552\t0.9768999814987183\t0.3847000002861023\t0.00139999995008111\t9.999999747378752e-05\t21432\n",
      "epoch: 8/10, val loss = 0.000193\n"
     ]
    },
    {
     "name": "stderr",
     "output_type": "stream",
     "text": [
      "Epoch (train) 9/10: 100%|███████████████| 101/101 [12:47<00:00,  7.60s/it, accepor_recall=0.955, donor_recall=0.956, loss=0.000101, pred_l1_dist=0]\n"
     ]
    },
    {
     "name": "stdout",
     "output_type": "stream",
     "text": [
      "epoch: 9/10, train loss = 0.000102\n"
     ]
    },
    {
     "name": "stderr",
     "output_type": "stream",
     "text": [
      "Epoch (val) 9/10: 100%|███████████████████| 12/12 [01:44<00:00,  8.75s/it, accepor_recall=0.903, donor_recall=0.911, loss=0.000201, pred_l1_dist=0]\n"
     ]
    },
    {
     "name": "stdout",
     "output_type": "stream",
     "text": [
      "\n",
      "\u001b[1mAcceptor:\u001b[0m\n",
      "0.9772\t0.9232\t0.9874\t0.9925\t0.955\t0.9818000197410583\t0.3257000148296356\t0.0008999999845400453\t9.999999747378752e-05\t21432\n",
      "\n",
      "\u001b[1mDonor:\u001b[0m\n",
      "0.9781\t0.9288\t0.9912\t0.9955\t0.9602\t0.9843000173568726\t0.41179999709129333\t0.0012000000569969416\t9.999999747378752e-05\t21432\n",
      "epoch: 9/10, val loss = 0.000190\n"
     ]
    },
    {
     "name": "stderr",
     "output_type": "stream",
     "text": [
      "Epoch (train) 10/10: 100%|███████████████| 101/101 [12:54<00:00,  7.67s/it, accepor_recall=0.962, donor_recall=0.965, loss=8.95e-5, pred_l1_dist=0]\n"
     ]
    },
    {
     "name": "stdout",
     "output_type": "stream",
     "text": [
      "epoch: 10/10, train loss = 0.000090\n"
     ]
    },
    {
     "name": "stderr",
     "output_type": "stream",
     "text": [
      "Epoch (val) 10/10: 100%|██████████████████| 12/12 [01:58<00:00,  9.91s/it, accepor_recall=0.929, donor_recall=0.923, loss=0.000176, pred_l1_dist=0]\n"
     ]
    },
    {
     "name": "stdout",
     "output_type": "stream",
     "text": [
      "\n",
      "\u001b[1mAcceptor:\u001b[0m\n",
      "0.9787\t0.9314\t0.9889\t0.9941\t0.9596\t0.9840999841690063\t0.48429998755455017\t0.0017000000225380063\t0.0003000000142492354\t21432\n",
      "\n",
      "\u001b[1mDonor:\u001b[0m\n",
      "0.9768\t0.9332\t0.9923\t0.9957\t0.9626\t0.982699990272522\t0.40299999713897705\t0.00139999995008111\t0.00019999999494757503\t21432\n",
      "epoch: 10/10, val loss = 0.000170\n"
     ]
    },
    {
     "data": {
      "image/png": "[encoded data removed]",
      "text/plain": [
       "<Figure size 432x288 with 1 Axes>"
      ]
     },
     "metadata": {
      "needs_background": "light"
     },
     "output_type": "display_data"
    }
   ],
   "source": [
    "device = torch.device(\"cuda\" if torch.cuda.is_available() else \"cpu\")\n",
    "epochs = 10\n",
    "hs = []\n",
    "\n",
    "parameters = [0.5,1,2,3,4]\n",
    "\n",
    "model_nr = 4\n",
    "k = parameters[model_nr]\n",
    "BATCH_SIZE = int(np.round(k*6*N_GPUS))\n",
    "CL = 2 * np.sum(AR*(W-1))\n",
    "train_dataset = spliceDataset(annotation_train,transcriptToLabel,SL,CL_max)\n",
    "val_dataset = spliceDataset(annotation_validation,transcriptToLabel,SL,CL_max)\n",
    "train_dataset.seqData = seqData\n",
    "val_dataset.seqData = seqData\n",
    "\n",
    "train_loader = torch.utils.data.DataLoader(train_dataset, batch_size=200, shuffle=True, num_workers=16,collate_fn=collate_fn, pin_memory=True)\n",
    "val_loader = torch.utils.data.DataLoader(val_dataset, batch_size=200, shuffle=False,collate_fn=collate_fn, num_workers=16)\n",
    "model_m = SpliceFormer(CL_max)\n",
    "model_m.apply(keras_init)\n",
    "model_m = model_m.to(device)\n",
    "if torch.cuda.device_count() > 1:\n",
    "    #print(\"Let's use\", torch.cuda.device_count(), \"GPUs!\")\n",
    "    # dim = 0 [30, xxx] -> [10, ...], [10, ...], [10, ...] on 3 GPUs\n",
    "    model_m = nn.DataParallel(model_m)\n",
    "\n",
    "modelFileName = '../Results/PyTorch_Models/transformer_encoder_40k_ablation_batchSize_k_{}_2'.format(parameters[model_nr])\n",
    "#model_m.load_state_dict(torch.load('../Results/PyTorch_Models/SpliceAI_Ensembl_dgxtest_{}'.format(0)))\n",
    "#loss = nn.CrossEntropyLoss(weight=torch.from_numpy(weights).float().to(device),ignore_index=-1,reduction='mean')\n",
    "loss = categorical_crossentropy_2d().loss\n",
    "#loss = nn.KLDivLoss()\n",
    "learning_rate= k*1e-3\n",
    "optimizer = torch.optim.Adam(model_m.parameters(), lr=learning_rate)\n",
    "scheduler = torch.optim.lr_scheduler.StepLR(optimizer, step_size=1, gamma=0.5)\n",
    "warmup = get_constant_schedule_with_warmup(optimizer, num_warmup_steps=1000)\n",
    "h = trainModel(model_m,modelFileName,loss,train_loader,val_loader,optimizer,scheduler,warmup,BATCH_SIZE,epochs,device)\n",
    "hs.append(h)\n",
    "\n",
    "plt.plot(range(epochs),h['loss'],label='Train')\n",
    "plt.plot(range(epochs),h['val_loss'],label='Validation')\n",
    "plt.xlabel('Epoch')\n",
    "plt.ylabel('Loss')\n",
    "plt.legend()\n",
    "plt.show()"
   ]
  },
  {
   "cell_type": "code",
   "execution_count": 2,
   "metadata": {},
   "outputs": [],
   "source": [
    "import matplotlib.pyplot as plt"
   ]
  },
  {
   "cell_type": "code",
   "execution_count": 6,
   "metadata": {},
   "outputs": [
    {
     "data": {
      "image/png": "[encoded data removed]",
      "text/plain": [
       "<Figure size 720x288 with 2 Axes>"
      ]
     },
     "metadata": {
      "needs_background": "light"
     },
     "output_type": "display_data"
    }
   ],
   "source": [
    "fig, (ax1,ax2) = plt.subplots(1, 2,figsize=(10,4))\n",
    "x = [48,96,192,288,384]\n",
    "y1 = [0.000175,0.000182,0.000174,0.000164,0.000172]\n",
    "ax1.plot(x,y1,'--')\n",
    "ax1.scatter(x,y1,label='Run 1')\n",
    "y2 = [0.000174,0.000180,0.000173,0.000167,0.000170]\n",
    "ax1.plot(x,y2,'--')\n",
    "ax1.scatter(x,y2,label='Run 2')\n",
    "ax1.set(xlabel = 'Batch Size',ylabel='Cross entropy')\n",
    "\n",
    "prauc1 = [(0.9556+0.958)/2,(0.9597+0.96)/2,(0.9574+0.9593)/2,(0.9569+0.9617)/2,(0.9584+0.9626)/2]\n",
    "ax2.plot(x,prauc1,'--')\n",
    "ax2.scatter(x,prauc1,label='Run 1')\n",
    "prauc2 = [(0.9591+0.9603)/2,(0.9586+0.9623)/2,(0.9569+0.9598)/2,(0.9588+0.9599)/2,(0.9596+0.9626)/2]\n",
    "ax2.plot(x,prauc2,'--')\n",
    "ax2.scatter(x,prauc2,label='Run 2')\n",
    "ax2.set(xlabel = 'Batch Size',ylabel='PR-AUC')\n",
    "#ax2.ylabel('PR-AUC')\n",
    "#ax2.xlabel('No. transformer blocks')\n",
    "fig.tight_layout()\n",
    "\n",
    "ax1.legend()\n",
    "ax2.legend()\n",
    "plt.savefig('../Results/ablation_batch_size.png',dpi=300)\n",
    "plt.show()"
   ]
  },
  {
   "cell_type": "code",
   "execution_count": 12,
   "metadata": {},
   "outputs": [
    {
     "name": "stderr",
     "output_type": "stream",
     "text": [
      "100%|███████████████████████████████████████████████████████████████████████████████████| 17/17 [06:36<00:00, 23.30s/it]\n"
     ]
    }
   ],
   "source": [
    "device = torch.device(\"cuda\" if torch.cuda.is_available() else \"cpu\")\n",
    "h5f = h5py.File('/odinn/tmp/benediktj/Data/SplicePrediction/gencode_40k_dataset_test_.h5')\n",
    "\n",
    "num_idx = len(h5f.keys())//2\n",
    "\n",
    "test_dataset = h5pyDataset(h5f,list(range(num_idx)))\n",
    "test_loader = torch.utils.data.DataLoader(test_dataset, batch_size=1, shuffle=False, num_workers=0)\n",
    "\n",
    "temp = 1\n",
    "n_models = 5\n",
    "device = torch.device(\"cuda\" if torch.cuda.is_available() else \"cpu\")\n",
    "model_m = SpliceFormer(CL_max)\n",
    "model_m.apply(keras_init)\n",
    "model_m = model_m.to(device)\n",
    "\n",
    "if torch.cuda.device_count() > 1:\n",
    "    model_m = nn.DataParallel(model_m)\n",
    "\n",
    "output_class_labels = ['Null', 'Acceptor', 'Donor']\n",
    "\n",
    "#for output_class in [1,2]:\n",
    "models = [copy.deepcopy(model_m) for i in range(n_models)]\n",
    "[model.load_state_dict(torch.load('../Results/PyTorch_Models/transformer_encoder_40k_030522_{}'.format(i))) for i,model in enumerate(models)]\n",
    "\n",
    "for model in models:\n",
    "    model.eval()\n",
    "    \n",
    "Y_true_acceptor, Y_pred_acceptor = [],[]\n",
    "Y_true_donor, Y_pred_donor = [],[]\n",
    "\n",
    "for (batch_chunks,target_chunks) in tqdm(test_loader):\n",
    "    batch_chunks = torch.transpose(batch_chunks[0].to(device),1,2)\n",
    "    target_chunks = torch.transpose(torch.squeeze(target_chunks[0].to(device),0),1,2)\n",
    "    #print(np.max(target_chunks.cpu().numpy()[:,2,:]))\n",
    "    n_chunks = int(np.ceil(batch_chunks.shape[0]/BATCH_SIZE))\n",
    "    batch_chunks = torch.chunk(batch_chunks, n_chunks, dim=0)\n",
    "    target_chunks = torch.chunk(target_chunks, n_chunks, dim=0)\n",
    "    targets_list = []\n",
    "    outputs_list = []\n",
    "    for j in range(len(batch_chunks)):\n",
    "        batch_features = batch_chunks[j]\n",
    "        targets = target_chunks[j]\n",
    "        outputs = ([models[i](batch_features)[1].detach() for i in range(n_models)])\n",
    "        outputs = (outputs[0]+outputs[1]+outputs[2]+outputs[3]+outputs[4])/n_models\n",
    "        #outputs = (outputs[0]+outputs[1]+outputs[2])/n_models\n",
    "        targets_list.extend(targets.unsqueeze(0))\n",
    "        outputs_list.extend(outputs.unsqueeze(0))\n",
    "\n",
    "    targets = torch.transpose(torch.vstack(targets_list),1,2).cpu().numpy()\n",
    "    outputs = torch.transpose(torch.vstack(outputs_list),1,2).cpu().numpy()\n",
    "\n",
    "    is_expr = (targets.sum(axis=(1,2)) >= 1)\n",
    "    Y_true_acceptor.extend(targets[is_expr, :, 1].flatten())\n",
    "    Y_true_donor.extend(targets[is_expr, :, 2].flatten())\n",
    "    Y_pred_acceptor.extend(outputs[is_expr, :, 1].flatten())\n",
    "    Y_pred_donor.extend(outputs[is_expr, :, 2].flatten())"
   ]
  },
  {
   "cell_type": "code",
   "execution_count": 13,
   "metadata": {},
   "outputs": [
    {
     "name": "stdout",
     "output_type": "stream",
     "text": [
      "\n",
      "\u001b[1mAcceptor:\u001b[0m\n",
      "0.9961\t0.9486\t0.9881\t0.9913\t0.9779\t0.9782999753952026\t0.3280999958515167\t0.002899999963119626\t0.0005000000237487257\t14289\n",
      "\n",
      "\u001b[1mDonor:\u001b[0m\n",
      "0.9958\t0.9523\t0.9896\t0.9921\t0.9797\t0.9785000085830688\t0.33739998936653137\t0.002199999988079071\t0.0003000000142492354\t14289\n"
     ]
    }
   ],
   "source": [
    "Y_true_acceptor, Y_pred_acceptor,Y_true_donor, Y_pred_donor = np.array(Y_true_acceptor), np.array(Y_pred_acceptor),np.array(Y_true_donor), np.array(Y_pred_donor)\n",
    "print(\"\\n\\033[1m{}:\\033[0m\".format('Acceptor'))\n",
    "acceptor_val_results = print_topl_statistics(Y_true_acceptor, Y_pred_acceptor)\n",
    "print(\"\\n\\033[1m{}:\\033[0m\".format('Donor'))\n",
    "donor_val_results =print_topl_statistics(Y_true_donor, Y_pred_donor)"
   ]
  },
  {
   "cell_type": "code",
   "execution_count": 19,
   "metadata": {},
   "outputs": [
    {
     "data": {
      "text/plain": [
       "0.95045"
      ]
     },
     "execution_count": 19,
     "metadata": {},
     "output_type": "execute_result"
    }
   ],
   "source": [
    "(0.9486+0.9523)/2"
   ]
  },
  {
   "cell_type": "code",
   "execution_count": 18,
   "metadata": {},
   "outputs": [
    {
     "data": {
      "text/plain": [
       "0.9788"
      ]
     },
     "execution_count": 18,
     "metadata": {},
     "output_type": "execute_result"
    }
   ],
   "source": [
    "(0.9779+0.9797)/2"
   ]
  },
  {
   "cell_type": "code",
   "execution_count": 14,
   "metadata": {},
   "outputs": [],
   "source": [
    "setType = 'test'\n",
    "annotation_test, transcriptToLabel_test, seqData = getData(data_dir, setType)    \n"
   ]
  },
  {
   "cell_type": "code",
   "execution_count": 15,
   "metadata": {
    "scrolled": true
   },
   "outputs": [
    {
     "name": "stderr",
     "output_type": "stream",
     "text": [
      "100%|████████████████████████████████████████████████████████████████████████████████| 90/90 [4:22:57<00:00, 175.30s/it]\n"
     ]
    }
   ],
   "source": [
    "temp = 1\n",
    "n_models = 5\n",
    "device = torch.device(\"cuda\" if torch.cuda.is_available() else \"cpu\")\n",
    "model_m = SpliceFormer(CL_max)\n",
    "model_m.apply(keras_init)\n",
    "model_m = model_m.to(device)\n",
    "\n",
    "if torch.cuda.device_count() > 1:\n",
    "    model_m = nn.DataParallel(model_m)\n",
    "\n",
    "output_class_labels = ['Null', 'Acceptor', 'Donor']\n",
    "\n",
    "#for output_class in [1,2]:\n",
    "models = [copy.deepcopy(model_m) for i in range(n_models)]\n",
    "[model.load_state_dict(torch.load('../Results/PyTorch_Models/transformer_encoder_40k_030522_{}'.format(i))) for i,model in enumerate(models)]\n",
    "#nr = [0,2,3]\n",
    "#[model.load_state_dict(torch.load('../Results/PyTorch_Models/transformer_encoder_40k_201221_{}'.format(nr[i]))) for i,model in enumerate(models)]\n",
    "#chunkSize = num_idx/10\n",
    "for model in models:\n",
    "    model.eval()\n",
    "\n",
    "Y_true_acceptor, Y_pred_acceptor = [],[]\n",
    "Y_true_donor, Y_pred_donor = [],[]\n",
    "test_dataset = spliceDataset(annotation_test,transcriptToLabel_test,SL,CL_max)\n",
    "test_dataset.seqData = seqData\n",
    "test_loader = torch.utils.data.DataLoader(test_dataset, batch_size=100, shuffle=False, num_workers=0,collate_fn=collate_fn, pin_memory=True)\n",
    "\n",
    "\n",
    "for (batch_chunks,target_chunks) in tqdm(test_loader):\n",
    "    batch_chunks = torch.transpose(batch_chunks.to(device),1,2)\n",
    "    target_chunks = torch.transpose(torch.squeeze(target_chunks.to(device),0),1,2)\n",
    "    batch_chunks = torch.split(batch_chunks, BATCH_SIZE, dim=0)\n",
    "    target_chunks = torch.split(target_chunks, BATCH_SIZE, dim=0)\n",
    "    targets_list = []\n",
    "    outputs_list = []\n",
    "    for j in range(len(batch_chunks)):\n",
    "        batch_features = batch_chunks[j]\n",
    "        targets = target_chunks[j]\n",
    "        outputs = ([models[i](batch_features)[1].detach() for i in range(n_models)])\n",
    "        outputs = (outputs[0]+outputs[1]+outputs[2]+outputs[3]+outputs[4])/n_models\n",
    "        #outputs = (outputs[0]+outputs[1]+outputs[2])/n_models\n",
    "        targets_list.extend(targets.unsqueeze(0))\n",
    "        outputs_list.extend(outputs.unsqueeze(0))\n",
    "\n",
    "    targets = torch.transpose(torch.vstack(targets_list),1,2).cpu().numpy()\n",
    "    outputs = torch.transpose(torch.vstack(outputs_list),1,2).cpu().numpy()\n",
    "\n",
    "    is_expr = (targets.sum(axis=(1,2)) >= 1)\n",
    "    Y_true_acceptor.extend(targets[is_expr, :, 1].flatten())\n",
    "    Y_true_donor.extend(targets[is_expr, :, 2].flatten())\n",
    "    Y_pred_acceptor.extend(outputs[is_expr, :, 1].flatten())\n",
    "    Y_pred_donor.extend(outputs[is_expr, :, 2].flatten())\n",
    "\n"
   ]
  },
  {
   "cell_type": "code",
   "execution_count": 16,
   "metadata": {},
   "outputs": [
    {
     "name": "stdout",
     "output_type": "stream",
     "text": [
      "\n",
      "\u001b[1mAcceptor:\u001b[0m\n",
      "0.9821\t0.9399\t0.9919\t0.9958\t0.9675\t0.9814000129699707\t0.45570001006126404\t0.0026000000070780516\t0.00039999998989515007\t89712\n",
      "\n",
      "\u001b[1mDonor:\u001b[0m\n",
      "0.9832\t0.9446\t0.9941\t0.997\t0.9713\t0.9811999797821045\t0.4941999912261963\t0.002099999925121665\t0.0003000000142492354\t89712\n"
     ]
    }
   ],
   "source": [
    "Y_true_acceptor, Y_pred_acceptor,Y_true_donor, Y_pred_donor = np.array(Y_true_acceptor), np.array(Y_pred_acceptor),np.array(Y_true_donor), np.array(Y_pred_donor)\n",
    "print(\"\\n\\033[1m{}:\\033[0m\".format('Acceptor'))\n",
    "acceptor_val_results = print_topl_statistics(Y_true_acceptor, Y_pred_acceptor)\n",
    "print(\"\\n\\033[1m{}:\\033[0m\".format('Donor'))\n",
    "donor_val_results =print_topl_statistics(Y_true_donor, Y_pred_donor)"
   ]
  },
  {
   "cell_type": "code",
   "execution_count": 20,
   "metadata": {},
   "outputs": [
    {
     "data": {
      "text/plain": [
       "0.94225"
      ]
     },
     "execution_count": 20,
     "metadata": {},
     "output_type": "execute_result"
    }
   ],
   "source": [
    "(0.9399+0.9446)/2"
   ]
  },
  {
   "cell_type": "code",
   "execution_count": 17,
   "metadata": {},
   "outputs": [
    {
     "data": {
      "text/plain": [
       "0.9694"
      ]
     },
     "execution_count": 17,
     "metadata": {},
     "output_type": "execute_result"
    }
   ],
   "source": [
    "(0.9675+0.9713)/2"
   ]
  }
 ],
 "metadata": {
  "kernelspec": {
   "display_name": "Python 3 (ipykernel)",
   "language": "python",
   "name": "python3"
  },
  "language_info": {
   "codemirror_mode": {
    "name": "ipython",
    "version": 3
   },
   "file_extension": ".py",
   "mimetype": "text/x-python",
   "name": "python",
   "nbconvert_exporter": "python",
   "pygments_lexer": "ipython3",
   "version": "3.9.1"
  }
 },
 "nbformat": 4,
 "nbformat_minor": 4
}
