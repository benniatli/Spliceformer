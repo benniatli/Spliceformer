{
 "cells": [
  {
   "cell_type": "code",
   "execution_count": 1,
   "id": "2f2091ac",
   "metadata": {},
   "outputs": [],
   "source": [
    "import pyfastx\n",
    "import gffutils\n",
    "from src.create_dataset import createDataset\n",
    "import os.path"
   ]
  },
  {
   "cell_type": "code",
   "execution_count": 2,
   "id": "5f170370",
   "metadata": {},
   "outputs": [],
   "source": [
    "data_dir = '../Data/'\n",
    "fasta_file_path = '../Data/genome.fa'\n",
    "gtf_file_path = '../Data/Homo_sapiens.GRCh38.87.gtf'"
   ]
  },
  {
   "cell_type": "code",
   "execution_count": 3,
   "id": "49b0d468",
   "metadata": {},
   "outputs": [],
   "source": [
    "fasta = pyfastx.Fasta(fasta_file_path)"
   ]
  },
  {
   "cell_type": "code",
   "execution_count": 4,
   "id": "127c08dc",
   "metadata": {},
   "outputs": [],
   "source": [
    "fname = data_dir+gtf_file_path.split('/')[-1][:-4]+'.db'\n",
    "if not os.path.isfile(fname): \n",
    "    gffutils.create_db(gtf_file_path, fname, force=True, disable_infer_genes=True, disable_infer_transcripts=True)\n",
    "\n",
    "gtf = gffutils.FeatureDB(fname)"
   ]
  },
  {
   "cell_type": "code",
   "execution_count": 6,
   "id": "fed8b7a1",
   "metadata": {
    "scrolled": true
   },
   "outputs": [
    {
     "name": "stderr",
     "output_type": "stream",
     "text": [
      "58051it [3:05:01,  5.23it/s] \n"
     ]
    }
   ],
   "source": [
    "print('Creating training data')\n",
    "createDataset('train',data_dir)"
   ]
  },
  {
   "cell_type": "code",
   "execution_count": 7,
   "id": "f48e3dbc",
   "metadata": {
    "scrolled": true
   },
   "outputs": [
    {
     "name": "stderr",
     "output_type": "stream",
     "text": [
      "58051it [1:32:41, 10.44it/s]  \n"
     ]
    }
   ],
   "source": [
    "print('Creating test data')\n",
    "createDataset('test',data_dir)"
   ]
  }
 ],
 "metadata": {
  "kernelspec": {
   "display_name": "Python 3 (ipykernel)",
   "language": "python",
   "name": "python3"
  },
  "language_info": {
   "codemirror_mode": {
    "name": "ipython",
    "version": 3
   },
   "file_extension": ".py",
   "mimetype": "text/x-python",
   "name": "python",
   "nbconvert_exporter": "python",
   "pygments_lexer": "ipython3",
   "version": "3.9.1"
  }
 },
 "nbformat": 4,
 "nbformat_minor": 5
}
