{
 "cells": [
  {
   "cell_type": "code",
   "execution_count": 1,
   "id": "f1c3bae6",
   "metadata": {},
   "outputs": [],
   "source": [
    "import numpy as np\n",
    "import pandas as pd\n",
    "from scipy.stats import gmean\n",
    "from tqdm import tqdm\n",
    "import gffutils\n",
    "import os.path\n",
    "#from liftover import ChainFile\n",
    "from collections import defaultdict\n",
    "from math import ceil\n",
    "import pyfastx\n",
    "import re\n",
    "from scipy.sparse.csgraph import connected_components\n",
    "from glob import glob\n",
    "from scipy.sparse import lil_matrix,csr_matrix,coo_matrix,dok_matrix, save_npz\n",
    "import pickle\n",
    "#\n",
    "#blacklist = pd.read_csv('/odinn/tmp/benediktj/Data/SplicePrediction-GTEX-V8/ENCFF220FIN.bed',header=None,sep='\\t')"
   ]
  },
  {
   "cell_type": "code",
   "execution_count": 2,
   "id": "5cab6af4",
   "metadata": {},
   "outputs": [],
   "source": [
    "#simpileRepeats = pd.read_csv('/odinn/tmp/benediktj/Data/SplicePrediction-GTEX-V8/simpleRepeat.txt',header=None,sep='\\t')"
   ]
  },
  {
   "cell_type": "code",
   "execution_count": 3,
   "id": "88746baa",
   "metadata": {},
   "outputs": [],
   "source": [
    "#gffutils.create_db('/odinn/tmp/benediktj/Data/SplicePrediction-GTEX/gencode.v42.annotation.gtf', \"/odinn/tmp/benediktj/Data/SplicePrediction-GTEX/gencode.v42.annotation.db\", force=True,disable_infer_genes=True, disable_infer_transcripts=True)"
   ]
  },
  {
   "cell_type": "code",
   "execution_count": 4,
   "id": "6d829cf3",
   "metadata": {},
   "outputs": [],
   "source": [
    "#gtf_gencode = gffutils.FeatureDB('/odinn/tmp/benediktj/Data/SplicePrediction-GTEX-V8/gencode.v42.annotation.db')"
   ]
  },
  {
   "cell_type": "code",
   "execution_count": 2,
   "id": "9678bea4",
   "metadata": {},
   "outputs": [],
   "source": [
    "df1 = pd.read_csv('/odinn/users/gislih/RNA/requests/rna_paper/splice_anno/junction_db.tsv.gz', compression='gzip', sep='\\t')"
   ]
  },
  {
   "cell_type": "code",
   "execution_count": 3,
   "id": "ff53e3f9",
   "metadata": {},
   "outputs": [
    {
     "data": {
      "text/plain": [
       "Index(['Chrom', 'Start', 'End', 'is_annotated', 'jct_sites', 'protein_coding',\n",
       "       'Multi_gene_jct', 'Nr_gene_overlapping', 'jct_prevalence',\n",
       "       'median_count', 'max_count', 'cluster_type', 'median_psi',\n",
       "       'is_alternative_splice', 'Gene_id', 'Strand'],\n",
       "      dtype='object')"
      ]
     },
     "execution_count": 3,
     "metadata": {},
     "output_type": "execute_result"
    }
   ],
   "source": [
    "df1.columns"
   ]
  },
  {
   "cell_type": "code",
   "execution_count": 14,
   "id": "30b9b317",
   "metadata": {},
   "outputs": [],
   "source": [
    "df2 = pd.read_csv('/odinn/tmp/benediktj/Data/SplicePrediction-rnasplice-blood-050623/filtered_junctions.gor', sep='\\t')\n",
    "df2 = df2.rename(columns={'Startx':'Start'})"
   ]
  },
  {
   "cell_type": "code",
   "execution_count": 7,
   "id": "cfc5d8db",
   "metadata": {},
   "outputs": [],
   "source": [
    "from collections import defaultdict"
   ]
  },
  {
   "cell_type": "code",
   "execution_count": 8,
   "id": "78f0481d",
   "metadata": {},
   "outputs": [],
   "source": [
    "junctions = defaultdict(list)"
   ]
  },
  {
   "cell_type": "code",
   "execution_count": 9,
   "id": "981d9515",
   "metadata": {},
   "outputs": [
    {
     "name": "stderr",
     "output_type": "stream",
     "text": [
      "100%|████████████████████████████████████████████████████████████████████████████████████████████████████████████████████████████████████████████████████████████████████████████████████████████████████| 351546/351546 [01:55<00:00, 3049.62it/s]\n"
     ]
    }
   ],
   "source": [
    "for i in tqdm(range(df1.shape[0])):\n",
    "    gene_id, start,end = df1.iloc[i,:][['Gene_id','Start', 'End']]\n",
    "    junctions[gene_id].append([start,end+1])"
   ]
  },
  {
   "cell_type": "code",
   "execution_count": 10,
   "id": "bcc0012a",
   "metadata": {},
   "outputs": [],
   "source": [
    "#fasta = pyfastx.Fasta('/odinn/tmp/benediktj/Data/SplicePrediction-050422/genome.fa')\n",
    "gtf_gencode = gffutils.FeatureDB('/odinn/tmp/benediktj/Data/SplicePrediction-GTEX-V8/gencode.v42.annotation.db')\n",
    "fasta = pyfastx.Fasta('/odinn/tmp/benediktj/Data/SplicePrediction-GTEX-V8/GRCh38.p13.genome.fa')"
   ]
  },
  {
   "cell_type": "code",
   "execution_count": 11,
   "id": "e3714b4d",
   "metadata": {},
   "outputs": [],
   "source": [
    "data_dir = '/odinn/tmp/benediktj/Data/SplicePrediction-rnasplice-blood-250523'\n",
    "\n",
    "seqData = {}\n",
    "\n",
    "CHROM_GROUP = ['chr1', 'chr3', 'chr5', 'chr7', 'chr9',\n",
    "'chr11', 'chr13', 'chr15', 'chr17', 'chr19', 'chr21',\n",
    "'chr2', 'chr4', 'chr6', 'chr8', 'chr10', 'chr12',\n",
    "'chr14', 'chr16', 'chr18', 'chr20', 'chr22', 'chrX', 'chrY']\n",
    "\n",
    "for chrom in CHROM_GROUP:\n",
    "        seqData[chrom] = dok_matrix((len(fasta[chrom]), 5), dtype=np.int8)\n",
    "\n",
    "seqData[chrom] = dok_matrix((len(fasta[chrom]), 5), dtype=np.int8)"
   ]
  },
  {
   "cell_type": "code",
   "execution_count": 12,
   "id": "72c12f97",
   "metadata": {},
   "outputs": [],
   "source": [
    "def create_datapoints(seq, strand, tx_start, tx_end):\n",
    "    # This function first converts the sequence into an integer array, where\n",
    "    # A, C, G, T, Missing are mapped to 1, 2, 3, 4, 5 respectively. If the strand is\n",
    "    # negative, then reverse complementing is done. . It then calls reformat_data and one_hot_encode\n",
    "\n",
    "    seq = seq.upper()\n",
    "    seq = re.sub(r'[^AGTC]', '5',seq)\n",
    "    seq = seq.replace('A', '1').replace('C', '2')\n",
    "    seq = seq.replace('G', '3').replace('T', '4')\n",
    "\n",
    "    tx_start = int(tx_start)\n",
    "    tx_end = int(tx_end) \n",
    "\n",
    "    Y_idx = []\n",
    "    \n",
    "    X0 = np.asarray([int(x) for x in seq])\n",
    "\n",
    "    X = one_hot_encode(X0)\n",
    "\n",
    "    return X\n",
    "\n",
    "def ceil_div(x, y):\n",
    "    return int(ceil(float(x)/y))\n",
    "\n",
    "\n",
    "IN_MAP = np.asarray([[0, 0, 0, 0,0],\n",
    "                     [1, 0, 0, 0,0],\n",
    "                     [0, 1, 0, 0,0],\n",
    "                     [0, 0, 1, 0,0],\n",
    "                     [0, 0, 0, 1,0],\n",
    "                    [0, 0, 0, 0,1]])\n",
    "# One-hot encoding of the inputs: 0 is for padding, and 1, 2, 3, 4 correspond\n",
    "# to A, C, G, T, Missing respectively.\n",
    "\n",
    "OUT_MAP = np.asarray([[1, 0, 0],\n",
    "                      [0, 1, 0],\n",
    "                      [0, 0, 1],\n",
    "                      [0, 0, 0]])\n",
    "\n",
    "def one_hot_encode(Xd):\n",
    "    return IN_MAP[Xd.astype('int8')]\n",
    "\n",
    "def getJunctions(gtf,transcript,strand):\n",
    "    #transcript = gtf[transcript_id.split('.')[0]]\n",
    "    exon_junctions = []\n",
    "    tx_start = int(transcript[3])\n",
    "    tx_end = int(transcript[4])\n",
    "    exons = gtf.children(transcript, featuretype=\"exon\")\n",
    "    for exon in exons:\n",
    "        exon_start = int(exon[3])\n",
    "        exon_end = int(exon[4])\n",
    "        exon_junctions.append((exon_start,exon_end))\n",
    "\n",
    "    intron_junctions = []\n",
    "\n",
    "    if strand=='+':\n",
    "        intron_start = exon_junctions[0][1]\n",
    "        for i,exon_junction in enumerate(exon_junctions[1:]):\n",
    "            intron_end = exon_junction[0]\n",
    "            intron_junctions.append((intron_start,intron_end))\n",
    "            if i+1 != len(exon_junctions[1:]):\n",
    "                intron_start = exon_junction[1]\n",
    "\n",
    "    elif strand=='-':\n",
    "        exon_junctions.reverse()\n",
    "        intron_start = exon_junctions[0][1]\n",
    "        for i,exon_junction in enumerate(exon_junctions[1:]):\n",
    "            intron_end = exon_junction[0]\n",
    "            intron_junctions.append((intron_start,intron_end))\n",
    "            if i+1 != len(exon_junctions[1:]):\n",
    "                intron_start = exon_junction[1]\n",
    "\n",
    "    return np.array(intron_junctions)"
   ]
  },
  {
   "cell_type": "code",
   "execution_count": 13,
   "id": "e738c59a",
   "metadata": {},
   "outputs": [
    {
     "name": "stderr",
     "output_type": "stream",
     "text": [
      "25511it [00:07, 3622.64it/s]\n"
     ]
    },
    {
     "ename": "KeyboardInterrupt",
     "evalue": "",
     "output_type": "error",
     "traceback": [
      "\u001b[0;31m---------------------------------------------------------------------------\u001b[0m",
      "\u001b[0;31mKeyboardInterrupt\u001b[0m                         Traceback (most recent call last)",
      "\u001b[0;32m/tmp/ipykernel_35683/3799366067.py\u001b[0m in \u001b[0;36m<module>\u001b[0;34m\u001b[0m\n\u001b[1;32m      3\u001b[0m \u001b[0msave_seq\u001b[0m \u001b[0;34m=\u001b[0m \u001b[0;32mTrue\u001b[0m\u001b[0;34m\u001b[0m\u001b[0;34m\u001b[0m\u001b[0m\n\u001b[1;32m      4\u001b[0m \u001b[0mprev_chrom\u001b[0m \u001b[0;34m=\u001b[0m \u001b[0;34m'chr1'\u001b[0m\u001b[0;34m\u001b[0m\u001b[0;34m\u001b[0m\u001b[0m\n\u001b[0;32m----> 5\u001b[0;31m \u001b[0;32mfor\u001b[0m \u001b[0mtranscript\u001b[0m \u001b[0;32min\u001b[0m \u001b[0mtqdm\u001b[0m\u001b[0;34m(\u001b[0m\u001b[0mtranscripts\u001b[0m\u001b[0;34m)\u001b[0m\u001b[0;34m:\u001b[0m\u001b[0;34m\u001b[0m\u001b[0;34m\u001b[0m\u001b[0m\n\u001b[0m\u001b[1;32m      6\u001b[0m     \u001b[0mchrom\u001b[0m\u001b[0;34m,\u001b[0m\u001b[0mgene_start\u001b[0m\u001b[0;34m,\u001b[0m\u001b[0mgene_end\u001b[0m\u001b[0;34m,\u001b[0m\u001b[0mstrand\u001b[0m\u001b[0;34m,\u001b[0m\u001b[0mgene_id\u001b[0m\u001b[0;34m,\u001b[0m\u001b[0mtranscript_id\u001b[0m\u001b[0;34m,\u001b[0m\u001b[0mgene_type\u001b[0m\u001b[0;34m,\u001b[0m\u001b[0mgene_name\u001b[0m\u001b[0;34m,\u001b[0m\u001b[0mlevel\u001b[0m \u001b[0;34m=\u001b[0m \u001b[0mtranscript\u001b[0m\u001b[0;34m[\u001b[0m\u001b[0;36m0\u001b[0m\u001b[0;34m]\u001b[0m\u001b[0;34m,\u001b[0m\u001b[0mtranscript\u001b[0m\u001b[0;34m[\u001b[0m\u001b[0;36m3\u001b[0m\u001b[0;34m]\u001b[0m\u001b[0;34m,\u001b[0m\u001b[0mtranscript\u001b[0m\u001b[0;34m[\u001b[0m\u001b[0;36m4\u001b[0m\u001b[0;34m]\u001b[0m\u001b[0;34m,\u001b[0m\u001b[0mtranscript\u001b[0m\u001b[0;34m[\u001b[0m\u001b[0;36m6\u001b[0m\u001b[0;34m]\u001b[0m\u001b[0;34m,\u001b[0m\u001b[0mtranscript\u001b[0m\u001b[0;34m[\u001b[0m\u001b[0;36m8\u001b[0m\u001b[0;34m]\u001b[0m\u001b[0;34m[\u001b[0m\u001b[0;34m'gene_id'\u001b[0m\u001b[0;34m]\u001b[0m\u001b[0;34m[\u001b[0m\u001b[0;36m0\u001b[0m\u001b[0;34m]\u001b[0m\u001b[0;34m,\u001b[0m\u001b[0mtranscript\u001b[0m\u001b[0;34m[\u001b[0m\u001b[0;36m8\u001b[0m\u001b[0;34m]\u001b[0m\u001b[0;34m[\u001b[0m\u001b[0;34m'transcript_id'\u001b[0m\u001b[0;34m]\u001b[0m\u001b[0;34m[\u001b[0m\u001b[0;36m0\u001b[0m\u001b[0;34m]\u001b[0m\u001b[0;34m,\u001b[0m\u001b[0mtranscript\u001b[0m\u001b[0;34m[\u001b[0m\u001b[0;36m8\u001b[0m\u001b[0;34m]\u001b[0m\u001b[0;34m[\u001b[0m\u001b[0;34m'gene_type'\u001b[0m\u001b[0;34m]\u001b[0m\u001b[0;34m[\u001b[0m\u001b[0;36m0\u001b[0m\u001b[0;34m]\u001b[0m\u001b[0;34m,\u001b[0m\u001b[0mtranscript\u001b[0m\u001b[0;34m[\u001b[0m\u001b[0;36m8\u001b[0m\u001b[0;34m]\u001b[0m\u001b[0;34m[\u001b[0m\u001b[0;34m'gene_name'\u001b[0m\u001b[0;34m]\u001b[0m\u001b[0;34m[\u001b[0m\u001b[0;36m0\u001b[0m\u001b[0;34m]\u001b[0m\u001b[0;34m,\u001b[0m\u001b[0mtranscript\u001b[0m\u001b[0;34m[\u001b[0m\u001b[0;36m8\u001b[0m\u001b[0;34m]\u001b[0m\u001b[0;34m[\u001b[0m\u001b[0;34m'level'\u001b[0m\u001b[0;34m]\u001b[0m\u001b[0;34m[\u001b[0m\u001b[0;36m0\u001b[0m\u001b[0;34m]\u001b[0m\u001b[0;34m\u001b[0m\u001b[0;34m\u001b[0m\u001b[0m\n\u001b[1;32m      7\u001b[0m \u001b[0;34m\u001b[0m\u001b[0m\n",
      "\u001b[0;32m/opt/conda/lib/python3.8/site-packages/tqdm/std.py\u001b[0m in \u001b[0;36m__iter__\u001b[0;34m(self)\u001b[0m\n\u001b[1;32m   1178\u001b[0m \u001b[0;34m\u001b[0m\u001b[0m\n\u001b[1;32m   1179\u001b[0m         \u001b[0;32mtry\u001b[0m\u001b[0;34m:\u001b[0m\u001b[0;34m\u001b[0m\u001b[0;34m\u001b[0m\u001b[0m\n\u001b[0;32m-> 1180\u001b[0;31m             \u001b[0;32mfor\u001b[0m \u001b[0mobj\u001b[0m \u001b[0;32min\u001b[0m \u001b[0miterable\u001b[0m\u001b[0;34m:\u001b[0m\u001b[0;34m\u001b[0m\u001b[0;34m\u001b[0m\u001b[0m\n\u001b[0m\u001b[1;32m   1181\u001b[0m                 \u001b[0;32myield\u001b[0m \u001b[0mobj\u001b[0m\u001b[0;34m\u001b[0m\u001b[0;34m\u001b[0m\u001b[0m\n\u001b[1;32m   1182\u001b[0m                 \u001b[0;31m# Update and possibly print the progressbar.\u001b[0m\u001b[0;34m\u001b[0m\u001b[0;34m\u001b[0m\u001b[0;34m\u001b[0m\u001b[0m\n",
      "\u001b[0;32m~/.local/lib/python3.8/site-packages/gffutils/interface.py\u001b[0m in \u001b[0;36mfeatures_of_type\u001b[0;34m(self, featuretype, limit, strand, order_by, reverse, completely_within)\u001b[0m\n\u001b[1;32m    366\u001b[0m         )\n\u001b[1;32m    367\u001b[0m \u001b[0;34m\u001b[0m\u001b[0m\n\u001b[0;32m--> 368\u001b[0;31m         \u001b[0;32mfor\u001b[0m \u001b[0mi\u001b[0m \u001b[0;32min\u001b[0m \u001b[0mself\u001b[0m\u001b[0;34m.\u001b[0m\u001b[0m_execute\u001b[0m\u001b[0;34m(\u001b[0m\u001b[0mquery\u001b[0m\u001b[0;34m,\u001b[0m \u001b[0margs\u001b[0m\u001b[0;34m)\u001b[0m\u001b[0;34m:\u001b[0m\u001b[0;34m\u001b[0m\u001b[0;34m\u001b[0m\u001b[0m\n\u001b[0m\u001b[1;32m    369\u001b[0m             \u001b[0;32myield\u001b[0m \u001b[0mself\u001b[0m\u001b[0;34m.\u001b[0m\u001b[0m_feature_returner\u001b[0m\u001b[0;34m(\u001b[0m\u001b[0;34m**\u001b[0m\u001b[0mi\u001b[0m\u001b[0;34m)\u001b[0m\u001b[0;34m\u001b[0m\u001b[0;34m\u001b[0m\u001b[0m\n\u001b[1;32m    370\u001b[0m \u001b[0;34m\u001b[0m\u001b[0m\n",
      "\u001b[0;31mKeyboardInterrupt\u001b[0m: "
     ]
    }
   ],
   "source": [
    "transcripts = gtf_gencode.features_of_type('transcript')\n",
    "gene_to_label = {}\n",
    "save_seq = True\n",
    "prev_chrom = 'chr1'\n",
    "for transcript in tqdm(transcripts): \n",
    "    chrom,gene_start,gene_end,strand,gene_id,transcript_id,gene_type,gene_name,level = transcript[0],transcript[3],transcript[4],transcript[6],transcript[8]['gene_id'][0],transcript[8]['transcript_id'][0],transcript[8]['gene_type'][0],transcript[8]['gene_name'][0],transcript[8]['level'][0]\n",
    "    "
   ]
  },
  {
   "cell_type": "code",
   "execution_count": 25,
   "id": "ce92d774",
   "metadata": {},
   "outputs": [
    {
     "name": "stderr",
     "output_type": "stream",
     "text": [
      "252416it [4:08:48, 16.91it/s] \n"
     ]
    }
   ],
   "source": [
    "transcripts = gtf_gencode.features_of_type('transcript')\n",
    "gene_to_label = {}\n",
    "save_seq = True\n",
    "prev_chrom = 'chr1'\n",
    "for transcript in tqdm(transcripts): \n",
    "    chrom,gene_start,gene_end,strand,gene_id,transcript_id,gene_type,gene_name,level = transcript[0],transcript[3],transcript[4],transcript[6],transcript[8]['gene_id'][0],transcript[8]['transcript_id'][0],transcript[8]['gene_type'][0],transcript[8]['gene_name'][0],transcript[8]['level'][0]\n",
    "    simple_gene_id = gene_id.split('.')[0]\n",
    "    try:\n",
    "        cond1 = 'Ensembl_canonical' in transcript[8]['tag']\n",
    "    except:\n",
    "        continue\n",
    "    cond2 = gene_type=='protein_coding'\n",
    "    \n",
    "    #cond3 = len(junctions[simple_gene_id])>0\n",
    "    cond3 = int(level)<3\n",
    "    if cond1 and cond2 and cond3:\n",
    "        canonical_jn = getJunctions(gtf_gencode,transcript,strand)\n",
    "        cond4 = len(canonical_jn)>0 \n",
    "    else: \n",
    "        cond4 = False\n",
    "    \n",
    "    if cond1 and cond2 and cond3 and cond4:\n",
    "        filtered_junctions = []\n",
    "        for x in junctions[simple_gene_id]:\n",
    "            if x[0]>gene_start and x[1]<gene_end:\n",
    "                filtered_junctions.append(x)\n",
    "        \n",
    "        jn_starts = defaultdict(int)\n",
    "        jn_ends = defaultdict(int)\n",
    "        for jn in [x[0] for x in canonical_jn]:\n",
    "            jn_starts[jn] = 1\n",
    "        for jn in [x[1] for x in canonical_jn]:\n",
    "            jn_ends[jn] = 1\n",
    "        \n",
    "        if len(filtered_junctions)>0:\n",
    "            for jn in filtered_junctions:\n",
    "                if jn_starts[jn[0]]==1 or jn_ends[jn[1]]==1:\n",
    "                    jn_starts[jn[0]] = 1\n",
    "                    jn_ends[jn[1]] = 1\n",
    "\n",
    "        #jn_start = list(set([x[0] for x in filtered_junctions]))\n",
    "        #jn_end = list(set([x[1] for x in filtered_junctions]))\n",
    "        gene_to_label[gene_id] = [jn_starts, jn_ends]\n",
    "\n",
    "        if save_seq:\n",
    "            seq = fasta[chrom][int(gene_start)-1:int(gene_end)]\n",
    "            seq = seq.seq\n",
    "            X = create_datapoints(seq, strand, gene_start, gene_end)\n",
    "            seqData[chrom][int(gene_start)-1:int(gene_end)] = X\n",
    "            jn_start = list(jn_starts.keys())\n",
    "            jn_end = list(jn_ends.keys())\n",
    "            name = '{}\\t{}\\t{}\\t{}'.format(gene_name,gene_id,transcript_id,level)\n",
    "\n",
    "            if strand=='+':\n",
    "                with open('{}/annotation_rnasplice-blood.txt'.format(data_dir), 'a') as the_file:\n",
    "                    the_file.write('{}\\t{}\\t{}\\t{}\\t{}\\t{}\\t{}\\n'.format(name,chrom,strand,gene_start,gene_end,','.join([str(x) for x in jn_start]),','.join([str(x) for x in jn_end])))\n",
    "            if strand=='-':\n",
    "                with open('{}/annotation_rnasplice-blood.txt'.format(data_dir,), 'a') as the_file:\n",
    "                    the_file.write('{}\\t{}\\t{}\\t{}\\t{}\\t{}\\t{}\\n'.format(name,chrom,strand,gene_start,gene_end,','.join([str(x) for x in jn_end]),','.join([str(x) for x in jn_start])))\n",
    "\n",
    "            if chrom!=prev_chrom:\n",
    "                save_npz('{}/sparse_sequence_data/{}.npz'.format(data_dir,prev_chrom), seqData[prev_chrom].tocoo())\n",
    "                del seqData[prev_chrom]\n",
    "\n",
    "            prev_chrom = chrom\n",
    "\n",
    "#except:\n",
    "#    pass\n",
    "    #print(gene[2])\n",
    "    #print(gene[8]['transcript_support_level'])"
   ]
  },
  {
   "cell_type": "code",
   "execution_count": 26,
   "id": "0e46ea13",
   "metadata": {},
   "outputs": [],
   "source": [
    "save_npz('{}/sparse_sequence_data/{}.npz'.format(data_dir,prev_chrom), seqData[prev_chrom].tocoo())\n",
    "#del seqData[prev_chrom]"
   ]
  },
  {
   "cell_type": "code",
   "execution_count": 27,
   "id": "ae7201e0",
   "metadata": {},
   "outputs": [],
   "source": [
    "with open('{}/gene_to_label.pickle'.format(data_dir), 'wb') as handle:\n",
    "    pickle.dump(gene_to_label, handle, protocol=pickle.HIGHEST_PROTOCOL)"
   ]
  },
  {
   "cell_type": "code",
   "execution_count": null,
   "id": "3a410274",
   "metadata": {},
   "outputs": [],
   "source": []
  }
 ],
 "metadata": {
  "kernelspec": {
   "display_name": "Python 3 (ipykernel)",
   "language": "python",
   "name": "python3"
  },
  "language_info": {
   "codemirror_mode": {
    "name": "ipython",
    "version": 3
   },
   "file_extension": ".py",
   "mimetype": "text/x-python",
   "name": "python",
   "nbconvert_exporter": "python",
   "pygments_lexer": "ipython3",
   "version": "3.8.12"
  }
 },
 "nbformat": 4,
 "nbformat_minor": 5
}
