{
 "cells": [
  {
   "cell_type": "code",
   "execution_count": 1,
   "id": "07b9f554",
   "metadata": {},
   "outputs": [],
   "source": [
    "import numpy as np\n",
    "import sys\n",
    "import time\n",
    "import h5py\n",
    "from tqdm import tqdm\n",
    "\n",
    "import numpy as np\n",
    "import re\n",
    "from math import ceil\n",
    "from sklearn.metrics import average_precision_score\n",
    "from torch.utils.data import Dataset\n",
    "import torch\n",
    "import torch.nn as nn\n",
    "import pandas as pd\n",
    "import matplotlib.pyplot as plt\n",
    "import pickle\n",
    "#import pickle5 as pickle\n",
    "\n",
    "from sklearn.model_selection import train_test_split\n",
    "\n",
    "from scipy.sparse import load_npz\n",
    "from glob import glob\n",
    "\n",
    "from transformers import get_constant_schedule_with_warmup\n",
    "from sklearn.metrics import precision_score,recall_score,accuracy_score\n",
    "\n",
    "from src.train import trainModel\n",
    "from src.dataloader import getData,spliceDataset,h5pyDataset,getDataPointList,getDataPointListFull,DataPoint\n",
    "from src.weight_init import keras_init\n",
    "from src.losses import categorical_crossentropy_2d\n",
    "from src.models import SpliceAI_10K\n",
    "from src.evaluation_metrics import print_topl_statistics\n",
    "import copy\n",
    "#import tensorflow as tf"
   ]
  },
  {
   "cell_type": "code",
   "execution_count": 2,
   "id": "8418eb37",
   "metadata": {},
   "outputs": [],
   "source": [
    "rng = np.random.default_rng(23673)"
   ]
  },
  {
   "cell_type": "code",
   "execution_count": 3,
   "id": "4a9c5ee4",
   "metadata": {},
   "outputs": [],
   "source": [
    "data_dir = '../Data'"
   ]
  },
  {
   "cell_type": "code",
   "execution_count": 4,
   "id": "7fd5f0b4",
   "metadata": {},
   "outputs": [],
   "source": [
    "setType = 'test'\n",
    "annotation, transcriptToLabel, seqData = getData(data_dir, setType)"
   ]
  },
  {
   "cell_type": "code",
   "execution_count": 5,
   "id": "af152455",
   "metadata": {},
   "outputs": [],
   "source": [
    "L = 32\n",
    "N_GPUS = 8\n",
    "k = 2\n",
    "# Hyper-parameters:\n",
    "# L: Number of convolution kernels\n",
    "# W: Convolution window size in each residual unit\n",
    "# AR: Atrous rate in each residual unit\n",
    "\n",
    "W = np.asarray([11, 11, 11, 11, 11, 11, 11, 11,\n",
    "                21, 21, 21, 21, 41, 41, 41, 41])\n",
    "AR = np.asarray([1, 1, 1, 1, 4, 4, 4, 4,\n",
    "                 10, 10, 10, 10, 25, 25, 25, 25])\n",
    "BATCH_SIZE = k*6*N_GPUS\n",
    "\n",
    "\n",
    "CL = 2 * np.sum(AR*(W-1))\n",
    "\n",
    "SL=5000\n",
    "CL_max=10000"
   ]
  },
  {
   "cell_type": "code",
   "execution_count": 6,
   "id": "2b002fe1",
   "metadata": {},
   "outputs": [],
   "source": [
    "temp = 1\n",
    "n_models = 10\n",
    "device = torch.device(\"cuda\" if torch.cuda.is_available() else \"cpu\")\n",
    "model_m = SpliceAI_10K(CL_max)\n",
    "model_m.apply(keras_init)\n",
    "model_m = model_m.to(device)\n",
    "\n",
    "if torch.cuda.device_count() > 1:\n",
    "    model_m = nn.DataParallel(model_m)\n",
    "\n",
    "output_class_labels = ['Null', 'Acceptor', 'Donor']\n",
    "\n",
    "#for output_class in [1,2]:\n",
    "models = [copy.deepcopy(model_m) for i in range(n_models)]\n",
    "[model.load_state_dict(torch.load('../Results/PyTorch_Models/spliceai_encoder_10k_GTEX_021222_{}'.format(i))) for i,model in enumerate(models)]\n",
    "\n",
    "for model in models:\n",
    "    model.eval()\n",
    "    "
   ]
  },
  {
   "cell_type": "code",
   "execution_count": 7,
   "id": "cf359065",
   "metadata": {},
   "outputs": [],
   "source": [
    "df1 = pd.read_csv('/odinn/users/gislih/RNA/requests/rna_paper/splice_anno/junction_db.tsv.gz', compression='gzip', sep='\\t')\n",
    "chroms = ['chr1', 'chr3', 'chr5', 'chr7', 'chr9']\n",
    "df1 = df1[df1.Chrom.isin(chroms)]"
   ]
  },
  {
   "cell_type": "code",
   "execution_count": 8,
   "id": "e21d19ff",
   "metadata": {},
   "outputs": [],
   "source": [
    "import pyfastx\n",
    "import os.path\n",
    "data_dir = '../Data/'\n",
    "fasta_file_path = '../Data/genome.fa'\n",
    "gtf_file_path = '../Data/Homo_sapiens.GRCh38.87.gtf'\n",
    "fasta = pyfastx.Fasta(fasta_file_path)"
   ]
  },
  {
   "cell_type": "code",
   "execution_count": 9,
   "id": "7cb7b07e",
   "metadata": {},
   "outputs": [],
   "source": [
    "import gffutils\n",
    "fname = data_dir+gtf_file_path.split('/')[-1][:-4]+'.db'\n",
    "if not os.path.isfile(fname): \n",
    "    gffutils.create_db(gtf_file_path, fname, force=True, disable_infer_genes=True, disable_infer_transcripts=True)\n",
    "\n",
    "gtf = gffutils.FeatureDB(fname)"
   ]
  },
  {
   "cell_type": "code",
   "execution_count": 10,
   "id": "38f31e3c",
   "metadata": {},
   "outputs": [],
   "source": [
    "def predictSplicing(seq,models):\n",
    "    outputs = []\n",
    "    for i in range(seq.shape[0]):\n",
    "        batch_features = torch.tensor(seq[i,:,:], device=device).float().unsqueeze(0)\n",
    "        batch_features = torch.swapaxes(batch_features,1,2)\n",
    "        prediction = ([models[i](batch_features).detach() for i in range(n_models)])\n",
    "        prediction = torch.stack(prediction)\n",
    "        prediction = torch.mean(prediction,dim=0)\n",
    "        outputs.append(prediction)\n",
    "    \n",
    "    outputs = torch.cat(outputs,dim=2)\n",
    "    outputs = outputs.cpu().detach().numpy()\n",
    "    return outputs\n",
    "\n",
    "def plotPrediction(outputs):\n",
    "    plt.rcParams.update({'font.size': 18})\n",
    "    fig, (ax1, ax2) = plt.subplots(2, 1,figsize=(22, 6),sharex=True)\n",
    "    x = np.arange(outputs.shape[2])\n",
    "    ax1.plot(x,outputs[0,1,:],linewidth=2,zorder=-32)\n",
    "    ax2.plot(x,outputs[0,2,:],linewidth=2,zorder=-32)\n",
    "    plt.xlabel('Distance from transcript start (nt)')\n",
    "    ax1.set_ylabel('Acceptor score')\n",
    "    ax2.set_ylabel('Donor Score')\n",
    "    ax1.legend(prop={'size': 14})\n",
    "    ax2.legend(prop={'size': 14})\n",
    "    plt.tight_layout()\n",
    "    plt.show()\n",
    "\n",
    "def ceil_div(x, y):\n",
    "\n",
    "    return int(ceil(float(x)/y))\n",
    "\n",
    "\n",
    "IN_MAP = np.asarray([[0, 0, 0, 0],\n",
    "                     [1, 0, 0, 0],\n",
    "                     [0, 1, 0, 0],\n",
    "                     [0, 0, 1, 0],\n",
    "                     [0, 0, 0, 1]])\n",
    "\n",
    "def one_hot_encode(Xd):\n",
    "\n",
    "    return IN_MAP[Xd.astype('int8')]\n",
    "\n",
    "def reformat_data(X0):\n",
    "    # This function converts X0, Y0 of the create_datapoints function into\n",
    "    # blocks such that the data is broken down into data points where the\n",
    "    # input is a sequence of length SL+CL_max corresponding to SL nucleotides\n",
    "    # of interest and CL_max context nucleotides, the output is a sequence of\n",
    "    # length SL corresponding to the splicing information of the nucleotides\n",
    "    # of interest. The CL_max context nucleotides are such that they are\n",
    "    # CL_max/2 on either side of the SL nucleotides of interest.\n",
    "\n",
    "    num_points = ceil_div(len(X0)-CL_max, SL)\n",
    "    Xd = np.zeros((num_points, SL+CL_max))\n",
    "    X0 = np.pad(X0, [0, SL], 'constant', constant_values=0)\n",
    "\n",
    "    for i in range(num_points):\n",
    "        Xd[i] = X0[SL*i:CL_max+SL*(i+1)]\n",
    "\n",
    "    return Xd\n",
    "\n",
    "def seqToArray(seq,strand):\n",
    "    seq = 'N'*(CL_max//2) + seq + 'N'*(CL_max//2)\n",
    "    seq = seq.upper()\n",
    "    seq = re.sub(r'[^AGTC]', '0',seq)\n",
    "    seq = seq.replace('A', '1').replace('C', '2')\n",
    "    seq = seq.replace('G', '3').replace('T', '4').replace('N', '0')\n",
    "    if strand == '+':\n",
    "        X0 = np.asarray([int(x) for x in seq])\n",
    "            \n",
    "    elif strand == '-':\n",
    "        X0 = (5-np.asarray([int(x) for x in seq[::-1]])) % 5  # Reverse complement\n",
    "        \n",
    "    Xd = reformat_data(X0)\n",
    "    return  one_hot_encode(Xd)\n",
    "    \n",
    "#acceptorDeltas = []\n",
    "#donorDeltas = []\n",
    "\n",
    "\n",
    "lead_sQTL = pd.read_csv('/odinn/data/dataprocessing/rnasplice-blood/curry/sQTL_summary/lead_sQTL.gor', sep='\\t')\n",
    "lead_sQTL = lead_sQTL[lead_sQTL['Pos_bin']!='distant_downstream']\n",
    "lead_sQTL = lead_sQTL[lead_sQTL['Pos_bin']!='distant_upstream']\n",
    "lead_sQTL = lead_sQTL[lead_sQTL['REF']!=lead_sQTL['ALT']]\n",
    "#lead_sQTL = lead_sQTL[lead_sQTL['Pval']<=0.05/lead_sQTL.shape[0]]\n",
    "df1['splice_event_id'] = ['{}:{}:{}'.format(df1.iloc[i,0],df1.iloc[i,1],df1.iloc[i,2]) for i in range(df1.shape[0])]\n",
    "def f(x):\n",
    "    x = x.split(':')\n",
    "    return '{}:{}:{}'.format(x[0],x[1],x[2])\n",
    "\n",
    "lead_sQTL['splice_event_id'] = lead_sQTL['splice_event_id'].apply(f)\n",
    "df = df1.merge(lead_sQTL,on='splice_event_id',how='left')"
   ]
  },
  {
   "cell_type": "code",
   "execution_count": 11,
   "id": "f9e4bf4e",
   "metadata": {},
   "outputs": [
    {
     "name": "stderr",
     "output_type": "stream",
     "text": [
      "103197it [00:44, 2330.76it/s]\n"
     ]
    }
   ],
   "source": [
    "from collections import defaultdict\n",
    "\n",
    "gene_to_posistion = defaultdict(set)\n",
    "for i,gene_ids in tqdm(enumerate(df['Gene_id'])):\n",
    "    gene_ids = df['Gene_id'].iloc[i].split(',')\n",
    "    for gene_id in gene_ids:\n",
    "        start,end = df.iloc[i,:][['Start','End_x']]\n",
    "        gene_to_posistion[gene_id].add(start)\n",
    "        gene_to_posistion[gene_id].add(end)"
   ]
  },
  {
   "cell_type": "code",
   "execution_count": 12,
   "id": "5a784d3c",
   "metadata": {},
   "outputs": [
    {
     "name": "stderr",
     "output_type": "stream",
     "text": [
      "  2%|████▊                                                                                                                                                                                                                              | 2168/103197 [11:49<8:47:12,  3.19it/s]"
     ]
    },
    {
     "name": "stdout",
     "output_type": "stream",
     "text": [
      "ENSG00000236266 failed\n"
     ]
    },
    {
     "name": "stderr",
     "output_type": "stream",
     "text": [
      "  3%|█████▊                                                                                                                                                                                                                             | 2644/103197 [15:07<5:54:02,  4.73it/s]"
     ]
    },
    {
     "name": "stdout",
     "output_type": "stream",
     "text": [
      "ENSG00000283611 failed\n"
     ]
    },
    {
     "name": "stderr",
     "output_type": "stream",
     "text": [
      "  3%|██████▏                                                                                                                                                                                                                           | 2845/103197 [16:15<16:05:19,  1.73it/s]"
     ]
    },
    {
     "name": "stdout",
     "output_type": "stream",
     "text": [
      "ENSG00000175279 failed\n"
     ]
    },
    {
     "name": "stderr",
     "output_type": "stream",
     "text": [
      "\r",
      "  3%|██████▏                                                                                                                                                                                                                           | 2846/103197 [16:16<16:30:30,  1.69it/s]"
     ]
    },
    {
     "name": "stdout",
     "output_type": "stream",
     "text": [
      "ENSG00000175279 failed\n"
     ]
    },
    {
     "name": "stderr",
     "output_type": "stream",
     "text": [
      "\r",
      "  3%|██████▏                                                                                                                                                                                                                           | 2847/103197 [16:17<20:47:03,  1.34it/s]"
     ]
    },
    {
     "name": "stdout",
     "output_type": "stream",
     "text": [
      "ENSG00000175279 failed\n"
     ]
    },
    {
     "name": "stderr",
     "output_type": "stream",
     "text": [
      "  3%|██████▎                                                                                                                                                                                                                           | 2855/103197 [16:21<18:42:47,  1.49it/s]"
     ]
    },
    {
     "name": "stdout",
     "output_type": "stream",
     "text": [
      "ENSG00000175279 failed\n"
     ]
    },
    {
     "name": "stderr",
     "output_type": "stream",
     "text": [
      "  3%|██████▌                                                                                                                                                                                                                           | 2970/103197 [17:15<13:44:09,  2.03it/s]"
     ]
    },
    {
     "name": "stdout",
     "output_type": "stream",
     "text": [
      "ENSG00000120948 failed\n"
     ]
    },
    {
     "name": "stderr",
     "output_type": "stream",
     "text": [
      "  4%|█████████▎                                                                                                                                                                                                                         | 4229/103197 [24:25<6:35:57,  4.17it/s]"
     ]
    },
    {
     "name": "stdout",
     "output_type": "stream",
     "text": [
      "ENSG00000280114 failed\n"
     ]
    },
    {
     "name": "stderr",
     "output_type": "stream",
     "text": [
      "  4%|█████████▎                                                                                                                                                                                                                        | 4243/103197 [24:32<26:26:05,  1.04it/s]"
     ]
    },
    {
     "name": "stdout",
     "output_type": "stream",
     "text": [
      "ENSG00000227684 failed\n"
     ]
    },
    {
     "name": "stderr",
     "output_type": "stream",
     "text": [
      "\r",
      "  4%|█████████▎                                                                                                                                                                                                                        | 4244/103197 [24:36<47:43:25,  1.74s/it]"
     ]
    },
    {
     "name": "stdout",
     "output_type": "stream",
     "text": [
      "ENSG00000227684 failed\n"
     ]
    },
    {
     "name": "stderr",
     "output_type": "stream",
     "text": [
      "\r",
      "  4%|█████████▎                                                                                                                                                                                                                        | 4245/103197 [24:39<59:21:19,  2.16s/it]"
     ]
    },
    {
     "name": "stdout",
     "output_type": "stream",
     "text": [
      "ENSG00000227684 failed\n"
     ]
    },
    {
     "name": "stderr",
     "output_type": "stream",
     "text": [
      "  5%|██████████▉                                                                                                                                                                                                                       | 4968/103197 [28:59<42:13:02,  1.55s/it]"
     ]
    },
    {
     "name": "stdout",
     "output_type": "stream",
     "text": [
      "ENSG00000173436 failed\n"
     ]
    },
    {
     "name": "stderr",
     "output_type": "stream",
     "text": [
      "  6%|████████████▌                                                                                                                                                                                                                     | 5720/103197 [34:00<11:47:04,  2.30it/s]"
     ]
    },
    {
     "name": "stdout",
     "output_type": "stream",
     "text": [
      "ENSG00000237200 failed\n"
     ]
    },
    {
     "name": "stderr",
     "output_type": "stream",
     "text": [
      "  7%|████████████████▊                                                                                                                                                                                                                 | 7695/103197 [45:40<10:35:14,  2.51it/s]"
     ]
    },
    {
     "name": "stdout",
     "output_type": "stream",
     "text": [
      "ENSG00000242125 failed\n"
     ]
    },
    {
     "name": "stderr",
     "output_type": "stream",
     "text": [
      "\r",
      "  7%|████████████████▊                                                                                                                                                                                                                 | 7696/103197 [45:41<13:02:53,  2.03it/s]"
     ]
    },
    {
     "name": "stdout",
     "output_type": "stream",
     "text": [
      "ENSG00000242125 failed\n"
     ]
    },
    {
     "name": "stderr",
     "output_type": "stream",
     "text": [
      "  9%|███████████████████▍                                                                                                                                                                                                              | 8896/103197 [53:06<25:25:11,  1.03it/s]"
     ]
    },
    {
     "name": "stdout",
     "output_type": "stream",
     "text": [
      "ENSG00000255811 failed\n"
     ]
    },
    {
     "name": "stderr",
     "output_type": "stream",
     "text": [
      "  9%|███████████████████▌                                                                                                                                                                                                              | 8923/103197 [53:18<11:17:03,  2.32it/s]"
     ]
    },
    {
     "name": "stdout",
     "output_type": "stream",
     "text": [
      "ENSG00000243749 failed\n"
     ]
    },
    {
     "name": "stderr",
     "output_type": "stream",
     "text": [
      "  9%|███████████████████▌                                                                                                                                                                                                              | 8955/103197 [53:40<19:23:59,  1.35it/s]"
     ]
    },
    {
     "name": "stdout",
     "output_type": "stream",
     "text": [
      "ENSG00000271741 failed\n"
     ]
    },
    {
     "name": "stderr",
     "output_type": "stream",
     "text": [
      "  9%|███████████████████▌                                                                                                                                                                                                              | 8960/103197 [53:42<10:38:51,  2.46it/s]"
     ]
    },
    {
     "name": "stdout",
     "output_type": "stream",
     "text": [
      "ENSG00000271741 failed\n"
     ]
    },
    {
     "name": "stderr",
     "output_type": "stream",
     "text": [
      "  9%|████████████████████▍                                                                                                                                                                                                             | 9332/103197 [55:52<12:26:40,  2.10it/s]"
     ]
    },
    {
     "name": "stdout",
     "output_type": "stream",
     "text": [
      "ENSG00000271554 failed\n"
     ]
    },
    {
     "name": "stderr",
     "output_type": "stream",
     "text": [
      "\r",
      "  9%|████████████████████▍                                                                                                                                                                                                             | 9333/103197 [55:52<11:45:40,  2.22it/s]"
     ]
    },
    {
     "name": "stdout",
     "output_type": "stream",
     "text": [
      "ENSG00000271554 failed\n"
     ]
    },
    {
     "name": "stderr",
     "output_type": "stream",
     "text": [
      " 10%|█████████████████████▉                                                                                                                                                                                                            | 10033/103197 [59:43<7:14:49,  3.57it/s]"
     ]
    },
    {
     "name": "stdout",
     "output_type": "stream",
     "text": [
      "ENSG00000228436 failed\n"
     ]
    },
    {
     "name": "stderr",
     "output_type": "stream",
     "text": [
      " 14%|███████████████████████████████▏                                                                                                                                                                                                | 14395/103197 [1:28:56<5:03:54,  4.87it/s]"
     ]
    },
    {
     "name": "stdout",
     "output_type": "stream",
     "text": [
      "ENSG00000203965 failed\n"
     ]
    },
    {
     "name": "stderr",
     "output_type": "stream",
     "text": [
      " 14%|███████████████████████████████▍                                                                                                                                                                                               | 14553/103197 [1:30:22<20:03:22,  1.23it/s]"
     ]
    },
    {
     "name": "stdout",
     "output_type": "stream",
     "text": [
      "ENSG00000213625 failed\n",
      "ENSG00000213625 failed\n"
     ]
    },
    {
     "name": "stderr",
     "output_type": "stream",
     "text": [
      " 14%|███████████████████████████████▍                                                                                                                                                                                               | 14555/103197 [1:30:29<48:40:22,  1.98s/it]"
     ]
    },
    {
     "name": "stdout",
     "output_type": "stream",
     "text": [
      "ENSG00000213625 failed\n"
     ]
    },
    {
     "name": "stderr",
     "output_type": "stream",
     "text": [
      "\r",
      " 14%|███████████████████████████████▍                                                                                                                                                                                               | 14556/103197 [1:30:34<72:47:34,  2.96s/it]"
     ]
    },
    {
     "name": "stdout",
     "output_type": "stream",
     "text": [
      "ENSG00000213625 failed\n"
     ]
    },
    {
     "name": "stderr",
     "output_type": "stream",
     "text": [
      " 14%|███████████████████████████████▍                                                                                                                                                                                               | 14559/103197 [1:30:36<33:06:19,  1.34s/it]"
     ]
    },
    {
     "name": "stdout",
     "output_type": "stream",
     "text": [
      "ENSG00000213625 failed\n"
     ]
    },
    {
     "name": "stderr",
     "output_type": "stream",
     "text": [
      " 15%|████████████████████████████████▌                                                                                                                                                                                               | 15003/103197 [1:33:37<4:10:10,  5.88it/s]"
     ]
    },
    {
     "name": "stdout",
     "output_type": "stream",
     "text": [
      "ENSG00000235782 failed\n"
     ]
    },
    {
     "name": "stderr",
     "output_type": "stream",
     "text": [
      " 15%|████████████████████████████████▌                                                                                                                                                                                              | 15044/103197 [1:34:06<16:12:44,  1.51it/s]"
     ]
    },
    {
     "name": "stdout",
     "output_type": "stream",
     "text": [
      "ENSG00000254685 failed\n"
     ]
    },
    {
     "name": "stderr",
     "output_type": "stream",
     "text": [
      " 15%|████████████████████████████████▉                                                                                                                                                                                               | 15177/103197 [1:35:10<8:31:23,  2.87it/s]"
     ]
    },
    {
     "name": "stdout",
     "output_type": "stream",
     "text": [
      "ENSG00000117054 failed\n"
     ]
    },
    {
     "name": "stderr",
     "output_type": "stream",
     "text": [
      " 15%|█████████████████████████████████▉                                                                                                                                                                                              | 15662/103197 [1:39:39<4:05:02,  5.95it/s]"
     ]
    },
    {
     "name": "stdout",
     "output_type": "stream",
     "text": [
      "ENSG00000174021 failed\n",
      "ENSG00000174021 failed\n"
     ]
    },
    {
     "name": "stderr",
     "output_type": "stream",
     "text": [
      " 15%|██████████████████████████████████                                                                                                                                                                                              | 15664/103197 [1:39:40<9:42:22,  2.51it/s]"
     ]
    },
    {
     "name": "stdout",
     "output_type": "stream",
     "text": [
      "ENSG00000174021 failed\n"
     ]
    },
    {
     "name": "stderr",
     "output_type": "stream",
     "text": [
      " 16%|███████████████████████████████████▎                                                                                                                                                                                           | 16321/103197 [1:43:57<37:08:31,  1.54s/it]"
     ]
    },
    {
     "name": "stdout",
     "output_type": "stream",
     "text": [
      "ENSG00000230735 failed\n"
     ]
    },
    {
     "name": "stderr",
     "output_type": "stream",
     "text": [
      " 16%|████████████████████████████████████▏                                                                                                                                                                                          | 16764/103197 [1:47:34<40:55:59,  1.70s/it]"
     ]
    },
    {
     "name": "stdout",
     "output_type": "stream",
     "text": [
      "ENSG00000230439 failed\n"
     ]
    },
    {
     "name": "stderr",
     "output_type": "stream",
     "text": [
      " 16%|████████████████████████████████████▌                                                                                                                                                                                          | 16896/103197 [1:48:36<22:05:33,  1.09it/s]"
     ]
    },
    {
     "name": "stdout",
     "output_type": "stream",
     "text": [
      "ENSG00000152078 failed\n"
     ]
    },
    {
     "name": "stderr",
     "output_type": "stream",
     "text": [
      "\r",
      " 16%|████████████████████████████████████▌                                                                                                                                                                                          | 16897/103197 [1:48:37<26:15:28,  1.10s/it]"
     ]
    },
    {
     "name": "stdout",
     "output_type": "stream",
     "text": [
      "ENSG00000152078 failed\n"
     ]
    },
    {
     "name": "stderr",
     "output_type": "stream",
     "text": [
      "\r",
      " 16%|████████████████████████████████████▌                                                                                                                                                                                          | 16898/103197 [1:48:39<30:43:12,  1.28s/it]"
     ]
    },
    {
     "name": "stdout",
     "output_type": "stream",
     "text": [
      "ENSG00000152078 failed\n"
     ]
    },
    {
     "name": "stderr",
     "output_type": "stream",
     "text": [
      "\r",
      " 16%|████████████████████████████████████▌                                                                                                                                                                                          | 16899/103197 [1:48:44<57:59:58,  2.42s/it]"
     ]
    },
    {
     "name": "stdout",
     "output_type": "stream",
     "text": [
      "ENSG00000152078 failed\n"
     ]
    },
    {
     "name": "stderr",
     "output_type": "stream",
     "text": [
      " 18%|████████████████████████████████████████▎                                                                                                                                                                                       | 18566/103197 [1:59:23<8:52:42,  2.65it/s]"
     ]
    },
    {
     "name": "stdout",
     "output_type": "stream",
     "text": [
      "ENSG00000282608 failed\n",
      "ENSG00000282608 failed\n"
     ]
    },
    {
     "name": "stderr",
     "output_type": "stream",
     "text": [
      " 18%|████████████████████████████████████████▍                                                                                                                                                                                       | 18624/103197 [1:59:58<6:35:55,  3.56it/s]"
     ]
    },
    {
     "name": "stdout",
     "output_type": "stream",
     "text": [
      "ENSG00000116473 failed\n"
     ]
    },
    {
     "name": "stderr",
     "output_type": "stream",
     "text": [
      " 19%|███████████████████████████████████████████▌                                                                                                                                                                                    | 20091/103197 [2:08:25<5:27:16,  4.23it/s]"
     ]
    },
    {
     "name": "stdout",
     "output_type": "stream",
     "text": [
      "ENSG00000265241 failed\n"
     ]
    },
    {
     "name": "stderr",
     "output_type": "stream",
     "text": [
      " 19%|███████████████████████████████████████████▍                                                                                                                                                                                   | 20120/103197 [2:08:41<11:49:28,  1.95it/s]"
     ]
    },
    {
     "name": "stdout",
     "output_type": "stream",
     "text": [
      "ENSG00000278431 failed\n",
      "ENSG00000278431 failed\n"
     ]
    },
    {
     "name": "stderr",
     "output_type": "stream",
     "text": [
      " 21%|██████████████████████████████████████████████▎                                                                                                                                                                                 | 21343/103197 [2:15:04<5:31:31,  4.11it/s]"
     ]
    },
    {
     "name": "stdout",
     "output_type": "stream",
     "text": [
      "ENSG00000163154 failed\n"
     ]
    },
    {
     "name": "stderr",
     "output_type": "stream",
     "text": [
      "\r",
      " 21%|██████████████████████████████████████████████▎                                                                                                                                                                                 | 21344/103197 [2:15:05<6:02:20,  3.77it/s]"
     ]
    },
    {
     "name": "stdout",
     "output_type": "stream",
     "text": [
      "ENSG00000163154 failed\n"
     ]
    },
    {
     "name": "stderr",
     "output_type": "stream",
     "text": [
      "\r",
      " 21%|██████████████████████████████████████████████▎                                                                                                                                                                                 | 21345/103197 [2:15:05<7:23:54,  3.07it/s]"
     ]
    },
    {
     "name": "stdout",
     "output_type": "stream",
     "text": [
      "ENSG00000163154 failed\n"
     ]
    },
    {
     "name": "stderr",
     "output_type": "stream",
     "text": [
      "\r",
      " 21%|██████████████████████████████████████████████▎                                                                                                                                                                                 | 21346/103197 [2:15:05<7:26:23,  3.06it/s]"
     ]
    },
    {
     "name": "stdout",
     "output_type": "stream",
     "text": [
      "ENSG00000163154 failed\n"
     ]
    },
    {
     "name": "stderr",
     "output_type": "stream",
     "text": [
      "\r",
      " 21%|██████████████████████████████████████████████▎                                                                                                                                                                                 | 21347/103197 [2:15:06<7:25:01,  3.07it/s]"
     ]
    },
    {
     "name": "stdout",
     "output_type": "stream",
     "text": [
      "ENSG00000163154 failed\n"
     ]
    },
    {
     "name": "stderr",
     "output_type": "stream",
     "text": [
      "\r",
      " 21%|██████████████████████████████████████████████▎                                                                                                                                                                                 | 21348/103197 [2:15:06<8:22:29,  2.71it/s]"
     ]
    },
    {
     "name": "stdout",
     "output_type": "stream",
     "text": [
      "ENSG00000163154 failed\n"
     ]
    },
    {
     "name": "stderr",
     "output_type": "stream",
     "text": [
      " 21%|██████████████████████████████████████████████▍                                                                                                                                                                                 | 21375/103197 [2:15:14<6:32:53,  3.47it/s]"
     ]
    },
    {
     "name": "stdout",
     "output_type": "stream",
     "text": [
      "ENSG00000163157 failed\n"
     ]
    },
    {
     "name": "stderr",
     "output_type": "stream",
     "text": [
      " 21%|██████████████████████████████████████████████▍                                                                                                                                                                                 | 21381/103197 [2:15:17<8:33:58,  2.65it/s]"
     ]
    },
    {
     "name": "stdout",
     "output_type": "stream",
     "text": [
      "ENSG00000163157 failed\n"
     ]
    },
    {
     "name": "stderr",
     "output_type": "stream",
     "text": [
      " 21%|██████████████████████████████████████████████▍                                                                                                                                                                                 | 21386/103197 [2:15:19<9:24:14,  2.42it/s]"
     ]
    },
    {
     "name": "stdout",
     "output_type": "stream",
     "text": [
      "ENSG00000163157 failed\n"
     ]
    },
    {
     "name": "stderr",
     "output_type": "stream",
     "text": [
      "\r",
      " 21%|██████████████████████████████████████████████▍                                                                                                                                                                                 | 21387/103197 [2:15:20<9:54:44,  2.29it/s]"
     ]
    },
    {
     "name": "stdout",
     "output_type": "stream",
     "text": [
      "ENSG00000163157 failed\n"
     ]
    },
    {
     "name": "stderr",
     "output_type": "stream",
     "text": [
      " 21%|██████████████████████████████████████████████▍                                                                                                                                                                                 | 21390/103197 [2:15:21<7:41:05,  2.96it/s]"
     ]
    },
    {
     "name": "stdout",
     "output_type": "stream",
     "text": [
      "ENSG00000163157 failed\n"
     ]
    },
    {
     "name": "stderr",
     "output_type": "stream",
     "text": [
      " 22%|█████████████████████████████████████████████████▍                                                                                                                                                                              | 22802/103197 [2:22:03<4:34:25,  4.88it/s]"
     ]
    },
    {
     "name": "stdout",
     "output_type": "stream",
     "text": [
      "ENSG00000232093 failed\n"
     ]
    },
    {
     "name": "stderr",
     "output_type": "stream",
     "text": [
      " 22%|█████████████████████████████████████████████████▋                                                                                                                                                                              | 22869/103197 [2:22:19<8:58:38,  2.49it/s]"
     ]
    },
    {
     "name": "stdout",
     "output_type": "stream",
     "text": [
      "ENSG00000243364 failed\n"
     ]
    },
    {
     "name": "stderr",
     "output_type": "stream",
     "text": [
      " 23%|███████████████████████████████████████████████████▍                                                                                                                                                                           | 23824/103197 [2:26:53<34:52:29,  1.58s/it]"
     ]
    },
    {
     "name": "stdout",
     "output_type": "stream",
     "text": [
      "ENSG00000160783 failed\n"
     ]
    },
    {
     "name": "stderr",
     "output_type": "stream",
     "text": [
      " 23%|███████████████████████████████████████████████████▌                                                                                                                                                                           | 23851/103197 [2:27:12<16:12:27,  1.36it/s]"
     ]
    },
    {
     "name": "stdout",
     "output_type": "stream",
     "text": [
      "ENSG00000160783 failed\n"
     ]
    },
    {
     "name": "stderr",
     "output_type": "stream",
     "text": [
      " 23%|███████████████████████████████████████████████████▌                                                                                                                                                                           | 23855/103197 [2:27:14<12:51:20,  1.71it/s]"
     ]
    },
    {
     "name": "stdout",
     "output_type": "stream",
     "text": [
      "ENSG00000160783 failed\n"
     ]
    },
    {
     "name": "stderr",
     "output_type": "stream",
     "text": [
      " 23%|████████████████████████████████████████████████████▌                                                                                                                                                                           | 24208/103197 [2:28:40<7:39:26,  2.87it/s]"
     ]
    },
    {
     "name": "stdout",
     "output_type": "stream",
     "text": [
      "ENSG00000143321 failed\n"
     ]
    },
    {
     "name": "stderr",
     "output_type": "stream",
     "text": [
      " 23%|████████████████████████████████████████████████████▌                                                                                                                                                                           | 24211/103197 [2:28:41<6:03:57,  3.62it/s]"
     ]
    },
    {
     "name": "stdout",
     "output_type": "stream",
     "text": [
      "ENSG00000143321 failed\n"
     ]
    },
    {
     "name": "stderr",
     "output_type": "stream",
     "text": [
      " 24%|██████████████████████████████████████████████████████▏                                                                                                                                                                         | 24949/103197 [2:32:16<5:46:40,  3.76it/s]"
     ]
    },
    {
     "name": "stdout",
     "output_type": "stream",
     "text": [
      "ENSG00000188004 failed\n"
     ]
    },
    {
     "name": "stderr",
     "output_type": "stream",
     "text": [
      " 24%|██████████████████████████████████████████████████████▍                                                                                                                                                                         | 25055/103197 [2:32:42<4:41:38,  4.62it/s]"
     ]
    },
    {
     "name": "stdout",
     "output_type": "stream",
     "text": [
      "ENSG00000227741 failed\n",
      "ENSG00000227741 failed\n"
     ]
    },
    {
     "name": "stderr",
     "output_type": "stream",
     "text": [
      " 24%|██████████████████████████████████████████████████████▎                                                                                                                                                                        | 25107/103197 [2:33:15<29:31:36,  1.36s/it]"
     ]
    },
    {
     "name": "stdout",
     "output_type": "stream",
     "text": [
      "ENSG00000132716 failed\n"
     ]
    },
    {
     "name": "stderr",
     "output_type": "stream",
     "text": [
      " 24%|██████████████████████████████████████████████████████▎                                                                                                                                                                        | 25114/103197 [2:33:24<30:41:42,  1.42s/it]"
     ]
    },
    {
     "name": "stdout",
     "output_type": "stream",
     "text": [
      "ENSG00000132716 failed\n"
     ]
    },
    {
     "name": "stderr",
     "output_type": "stream",
     "text": [
      "\r",
      " 24%|██████████████████████████████████████████████████████▎                                                                                                                                                                        | 25115/103197 [2:33:25<27:55:49,  1.29s/it]"
     ]
    },
    {
     "name": "stdout",
     "output_type": "stream",
     "text": [
      "ENSG00000132716 failed\n"
     ]
    },
    {
     "name": "stderr",
     "output_type": "stream",
     "text": [
      " 24%|██████████████████████████████████████████████████████▌                                                                                                                                                                         | 25133/103197 [2:33:30<2:55:03,  7.43it/s]"
     ]
    },
    {
     "name": "stdout",
     "output_type": "stream",
     "text": [
      "ENSG00000228606 failed\n",
      "ENSG00000228606 failed\n"
     ]
    },
    {
     "name": "stderr",
     "output_type": "stream",
     "text": [
      " 25%|███████████████████████████████████████████████████████                                                                                                                                                                        | 25467/103197 [2:35:37<21:50:30,  1.01s/it]"
     ]
    },
    {
     "name": "stdout",
     "output_type": "stream",
     "text": [
      "ENSG00000158769 failed\n"
     ]
    },
    {
     "name": "stderr",
     "output_type": "stream",
     "text": [
      "\r",
      " 25%|███████████████████████████████████████████████████████                                                                                                                                                                        | 25468/103197 [2:35:38<22:15:33,  1.03s/it]"
     ]
    },
    {
     "name": "stdout",
     "output_type": "stream",
     "text": [
      "ENSG00000158769 failed\n"
     ]
    },
    {
     "name": "stderr",
     "output_type": "stream",
     "text": [
      " 25%|████████████████████████████████████████████████████████▎                                                                                                                                                                       | 25936/103197 [2:37:55<4:46:28,  4.49it/s]"
     ]
    },
    {
     "name": "stdout",
     "output_type": "stream",
     "text": [
      "ENSG00000234211 failed\n"
     ]
    },
    {
     "name": "stderr",
     "output_type": "stream",
     "text": [
      " 26%|██████████████████████████████████████████████████████████                                                                                                                                                                      | 26772/103197 [2:44:26<3:35:48,  5.90it/s]"
     ]
    },
    {
     "name": "stdout",
     "output_type": "stream",
     "text": [
      "ENSG00000188404 failed\n"
     ]
    },
    {
     "name": "stderr",
     "output_type": "stream",
     "text": [
      " 26%|██████████████████████████████████████████████████████████▊                                                                                                                                                                     | 27116/103197 [2:46:39<5:05:04,  4.16it/s]"
     ]
    },
    {
     "name": "stdout",
     "output_type": "stream",
     "text": [
      "ENSG00000135845 failed\n",
      "ENSG00000135845 failed\n"
     ]
    },
    {
     "name": "stderr",
     "output_type": "stream",
     "text": [
      " 28%|█████████████████████████████████████████████████████████████▋                                                                                                                                                                  | 28397/103197 [2:56:33<3:35:52,  5.77it/s]"
     ]
    },
    {
     "name": "stdout",
     "output_type": "stream",
     "text": [
      "ENSG00000116701 failed\n",
      "ENSG00000116701 failed\n"
     ]
    },
    {
     "name": "stderr",
     "output_type": "stream",
     "text": [
      " 30%|██████████████████████████████████████████████████████████████████▌                                                                                                                                                             | 30655/103197 [3:09:49<5:30:14,  3.66it/s]"
     ]
    },
    {
     "name": "stdout",
     "output_type": "stream",
     "text": [
      "ENSG00000266094 failed\n"
     ]
    },
    {
     "name": "stderr",
     "output_type": "stream",
     "text": [
      " 30%|██████████████████████████████████████████████████████████████████▌                                                                                                                                                             | 30663/103197 [3:09:51<4:57:55,  4.06it/s]"
     ]
    },
    {
     "name": "stdout",
     "output_type": "stream",
     "text": [
      "ENSG00000266094 failed\n"
     ]
    },
    {
     "name": "stderr",
     "output_type": "stream",
     "text": [
      " 30%|██████████████████████████████████████████████████████████████████▊                                                                                                                                                             | 30798/103197 [3:10:34<4:05:30,  4.91it/s]"
     ]
    },
    {
     "name": "stdout",
     "output_type": "stream",
     "text": [
      "ENSG00000180667 failed\n"
     ]
    },
    {
     "name": "stderr",
     "output_type": "stream",
     "text": [
      " 30%|██████████████████████████████████████████████████████████████████▉                                                                                                                                                            | 30996/103197 [3:11:49<12:33:45,  1.60it/s]"
     ]
    },
    {
     "name": "stdout",
     "output_type": "stream",
     "text": [
      "ENSG00000244703 failed\n"
     ]
    },
    {
     "name": "stderr",
     "output_type": "stream",
     "text": [
      " 30%|███████████████████████████████████████████████████████████████████                                                                                                                                                            | 31008/103197 [3:11:56<12:36:19,  1.59it/s]"
     ]
    },
    {
     "name": "stdout",
     "output_type": "stream",
     "text": [
      "ENSG00000244703 failed\n"
     ]
    },
    {
     "name": "stderr",
     "output_type": "stream",
     "text": [
      " 32%|██████████████████████████████████████████████████████████████████████▊                                                                                                                                                        | 32776/103197 [3:23:09<10:04:22,  1.94it/s]"
     ]
    },
    {
     "name": "stdout",
     "output_type": "stream",
     "text": [
      "ENSG00000243709 failed\n"
     ]
    },
    {
     "name": "stderr",
     "output_type": "stream",
     "text": [
      " 32%|███████████████████████████████████████████████████████████████████████                                                                                                                                                        | 32905/103197 [3:24:03<10:11:29,  1.92it/s]"
     ]
    },
    {
     "name": "stdout",
     "output_type": "stream",
     "text": [
      "ENSG00000228382 failed\n"
     ]
    },
    {
     "name": "stderr",
     "output_type": "stream",
     "text": [
      " 33%|████████████████████████████████████████████████████████████████████████▉                                                                                                                                                      | 33729/103197 [3:28:54<12:33:26,  1.54it/s]"
     ]
    },
    {
     "name": "stdout",
     "output_type": "stream",
     "text": [
      "ENSG00000116918 failed\n"
     ]
    },
    {
     "name": "stderr",
     "output_type": "stream",
     "text": [
      " 33%|████████████████████████████████████████████████████████████████████████▉                                                                                                                                                      | 33771/103197 [3:29:58<23:03:50,  1.20s/it]"
     ]
    },
    {
     "name": "stdout",
     "output_type": "stream",
     "text": [
      "ENSG00000226758 failed\n"
     ]
    },
    {
     "name": "stderr",
     "output_type": "stream",
     "text": [
      " 34%|███████████████████████████████████████████████████████████████████████████▏                                                                                                                                                    | 34666/103197 [3:36:40<9:49:42,  1.94it/s]"
     ]
    },
    {
     "name": "stdout",
     "output_type": "stream",
     "text": [
      "ENSG00000272865 failed\n"
     ]
    },
    {
     "name": "stderr",
     "output_type": "stream",
     "text": [
      " 34%|███████████████████████████████████████████████████████████████████████████▍                                                                                                                                                    | 34766/103197 [3:37:35<6:30:01,  2.92it/s]"
     ]
    },
    {
     "name": "stdout",
     "output_type": "stream",
     "text": [
      "ENSG00000054282 failed\n"
     ]
    },
    {
     "name": "stderr",
     "output_type": "stream",
     "text": [
      " 34%|█████████████████████████████████████████████████████████████████████████████                                                                                                                                                   | 35497/103197 [3:43:32<3:46:20,  4.99it/s]"
     ]
    },
    {
     "name": "stdout",
     "output_type": "stream",
     "text": [
      "ENSG00000072756 failed\n"
     ]
    },
    {
     "name": "stderr",
     "output_type": "stream",
     "text": [
      " 35%|██████████████████████████████████████████████████████████████████████████████                                                                                                                                                 | 36128/103197 [3:48:33<10:17:18,  1.81it/s]"
     ]
    },
    {
     "name": "stdout",
     "output_type": "stream",
     "text": [
      "ENSG00000241553 failed\n"
     ]
    },
    {
     "name": "stderr",
     "output_type": "stream",
     "text": [
      " 35%|██████████████████████████████████████████████████████████████████████████████                                                                                                                                                 | 36132/103197 [3:48:36<10:59:00,  1.70it/s]"
     ]
    },
    {
     "name": "stdout",
     "output_type": "stream",
     "text": [
      "ENSG00000241553 failed\n"
     ]
    },
    {
     "name": "stderr",
     "output_type": "stream",
     "text": [
      "\r",
      " 35%|██████████████████████████████████████████████████████████████████████████████                                                                                                                                                 | 36133/103197 [3:48:37<13:15:56,  1.40it/s]"
     ]
    },
    {
     "name": "stdout",
     "output_type": "stream",
     "text": [
      "ENSG00000241553 failed\n"
     ]
    },
    {
     "name": "stderr",
     "output_type": "stream",
     "text": [
      " 35%|██████████████████████████████████████████████████████████████████████████████▎                                                                                                                                                | 36216/103197 [3:49:34<18:53:03,  1.01s/it]"
     ]
    },
    {
     "name": "stdout",
     "output_type": "stream",
     "text": [
      "ENSG00000250151 failed\n"
     ]
    },
    {
     "name": "stderr",
     "output_type": "stream",
     "text": [
      " 36%|████████████████████████████████████████████████████████████████████████████████▊                                                                                                                                               | 37207/103197 [3:55:58<8:07:47,  2.25it/s]"
     ]
    },
    {
     "name": "stdout",
     "output_type": "stream",
     "text": [
      "ENSG00000170876 failed\n"
     ]
    },
    {
     "name": "stderr",
     "output_type": "stream",
     "text": [
      " 37%|██████████████████████████████████████████████████████████████████████████████████                                                                                                                                              | 37810/103197 [4:00:14<6:02:45,  3.00it/s]"
     ]
    },
    {
     "name": "stdout",
     "output_type": "stream",
     "text": [
      "ENSG00000272529 failed\n"
     ]
    },
    {
     "name": "stderr",
     "output_type": "stream",
     "text": [
      " 37%|██████████████████████████████████████████████████████████████████████████████████▍                                                                                                                                            | 38150/103197 [4:03:50<17:55:49,  1.01it/s]"
     ]
    },
    {
     "name": "stdout",
     "output_type": "stream",
     "text": [
      "ENSG00000225542 failed\n"
     ]
    },
    {
     "name": "stderr",
     "output_type": "stream",
     "text": [
      "\r",
      " 37%|██████████████████████████████████████████████████████████████████████████████████▍                                                                                                                                            | 38151/103197 [4:03:51<15:48:01,  1.14it/s]"
     ]
    },
    {
     "name": "stdout",
     "output_type": "stream",
     "text": [
      "ENSG00000225542 failed\n"
     ]
    },
    {
     "name": "stderr",
     "output_type": "stream",
     "text": [
      " 37%|██████████████████████████████████████████████████████████████████████████████████▊                                                                                                                                             | 38156/103197 [4:03:54<9:48:30,  1.84it/s]"
     ]
    },
    {
     "name": "stdout",
     "output_type": "stream",
     "text": [
      "ENSG00000225542 failed\n"
     ]
    },
    {
     "name": "stderr",
     "output_type": "stream",
     "text": [
      " 37%|███████████████████████████████████████████████████████████████████████████████████▉                                                                                                                                            | 38655/103197 [4:09:04<5:15:38,  3.41it/s]"
     ]
    },
    {
     "name": "stdout",
     "output_type": "stream",
     "text": [
      "ENSG00000197385 failed\n",
      "ENSG00000197385 failed\n"
     ]
    },
    {
     "name": "stderr",
     "output_type": "stream",
     "text": [
      " 37%|███████████████████████████████████████████████████████████████████████████████████▉                                                                                                                                            | 38657/103197 [4:09:05<4:06:23,  4.37it/s]"
     ]
    },
    {
     "name": "stdout",
     "output_type": "stream",
     "text": [
      "ENSG00000197385 failed\n",
      "ENSG00000197385 failed\n"
     ]
    },
    {
     "name": "stderr",
     "output_type": "stream",
     "text": [
      " 37%|███████████████████████████████████████████████████████████████████████████████████▉                                                                                                                                            | 38659/103197 [4:09:05<3:31:18,  5.09it/s]"
     ]
    },
    {
     "name": "stdout",
     "output_type": "stream",
     "text": [
      "ENSG00000197385 failed\n",
      "ENSG00000197385 failed\n"
     ]
    },
    {
     "name": "stderr",
     "output_type": "stream",
     "text": [
      "\r",
      " 37%|███████████████████████████████████████████████████████████████████████████████████▉                                                                                                                                            | 38660/103197 [4:09:05<3:20:42,  5.36it/s]"
     ]
    },
    {
     "name": "stdout",
     "output_type": "stream",
     "text": [
      "ENSG00000197385 failed\n"
     ]
    },
    {
     "name": "stderr",
     "output_type": "stream",
     "text": [
      " 38%|████████████████████████████████████████████████████████████████████████████████████                                                                                                                                           | 38893/103197 [4:10:53<10:57:43,  1.63it/s]"
     ]
    },
    {
     "name": "stdout",
     "output_type": "stream",
     "text": [
      "ENSG00000188167 failed\n"
     ]
    },
    {
     "name": "stderr",
     "output_type": "stream",
     "text": [
      " 39%|██████████████████████████████████████████████████████████████████████████████████████▉                                                                                                                                        | 40238/103197 [4:19:04<10:23:05,  1.68it/s]"
     ]
    },
    {
     "name": "stdout",
     "output_type": "stream",
     "text": [
      "ENSG00000244607 failed\n"
     ]
    },
    {
     "name": "stderr",
     "output_type": "stream",
     "text": [
      "\r",
      " 39%|██████████████████████████████████████████████████████████████████████████████████████▉                                                                                                                                        | 40239/103197 [4:19:07<19:36:32,  1.12s/it]"
     ]
    },
    {
     "name": "stdout",
     "output_type": "stream",
     "text": [
      "ENSG00000244607 failed\n"
     ]
    },
    {
     "name": "stderr",
     "output_type": "stream",
     "text": [
      " 39%|███████████████████████████████████████████████████████████████████████████████████████▍                                                                                                                                        | 40272/103197 [4:19:36<8:46:50,  1.99it/s]"
     ]
    },
    {
     "name": "stdout",
     "output_type": "stream",
     "text": [
      "ENSG00000182983 failed\n"
     ]
    },
    {
     "name": "stderr",
     "output_type": "stream",
     "text": [
      " 39%|████████████████████████████████████████████████████████████████████████████████████████▏                                                                                                                                       | 40604/103197 [4:21:50<2:39:12,  6.55it/s]"
     ]
    },
    {
     "name": "stdout",
     "output_type": "stream",
     "text": [
      "ENSG00000169964 failed\n"
     ]
    },
    {
     "name": "stderr",
     "output_type": "stream",
     "text": [
      " 39%|████████████████████████████████████████████████████████████████████████████████████████▏                                                                                                                                       | 40611/103197 [4:21:52<5:02:20,  3.45it/s]"
     ]
    },
    {
     "name": "stdout",
     "output_type": "stream",
     "text": [
      "ENSG00000169964 failed\n"
     ]
    },
    {
     "name": "stderr",
     "output_type": "stream",
     "text": [
      " 40%|████████████████████████████████████████████████████████████████████████████████████████▋                                                                                                                                       | 40872/103197 [4:23:40<3:46:08,  4.59it/s]"
     ]
    },
    {
     "name": "stdout",
     "output_type": "stream",
     "text": [
      "ENSG00000163823 failed\n"
     ]
    },
    {
     "name": "stderr",
     "output_type": "stream",
     "text": [
      " 42%|█████████████████████████████████████████████████████████████████████████████████████████████▎                                                                                                                                 | 43202/103197 [4:36:15<12:05:12,  1.38it/s]"
     ]
    },
    {
     "name": "stdout",
     "output_type": "stream",
     "text": [
      "ENSG00000004534 failed\n"
     ]
    },
    {
     "name": "stderr",
     "output_type": "stream",
     "text": [
      " 42%|██████████████████████████████████████████████████████████████████████████████████████████████▎                                                                                                                                 | 43450/103197 [4:37:10<5:11:05,  3.20it/s]"
     ]
    },
    {
     "name": "stdout",
     "output_type": "stream",
     "text": [
      "ENSG00000114395 failed\n"
     ]
    },
    {
     "name": "stderr",
     "output_type": "stream",
     "text": [
      " 43%|██████████████████████████████████████████████████████████████████████████████████████████████▉                                                                                                                                | 43922/103197 [4:39:59<13:24:30,  1.23it/s]"
     ]
    },
    {
     "name": "stdout",
     "output_type": "stream",
     "text": [
      "ENSG00000248487 failed\n"
     ]
    },
    {
     "name": "stderr",
     "output_type": "stream",
     "text": [
      " 43%|██████████████████████████████████████████████████████████████████████████████████████████████▉                                                                                                                                | 43930/103197 [4:40:04<12:13:13,  1.35it/s]"
     ]
    },
    {
     "name": "stdout",
     "output_type": "stream",
     "text": [
      "ENSG00000248487 failed\n"
     ]
    },
    {
     "name": "stderr",
     "output_type": "stream",
     "text": [
      " 43%|███████████████████████████████████████████████████████████████████████████████████████████████▌                                                                                                                                | 44007/103197 [4:40:28<5:56:13,  2.77it/s]"
     ]
    },
    {
     "name": "stdout",
     "output_type": "stream",
     "text": [
      "ENSG00000239732 failed\n"
     ]
    },
    {
     "name": "stderr",
     "output_type": "stream",
     "text": [
      " 43%|█████████████████████████████████████████████████████████████████████████████████████████████████                                                                                                                               | 44701/103197 [4:43:54<9:02:43,  1.80it/s]"
     ]
    },
    {
     "name": "stdout",
     "output_type": "stream",
     "text": [
      "ENSG00000055955 failed\n"
     ]
    },
    {
     "name": "stderr",
     "output_type": "stream",
     "text": [
      " 43%|████████████████████████████████████████████████████████████████████████████████████████████████▊                                                                                                                              | 44797/103197 [4:45:01<10:27:05,  1.55it/s]"
     ]
    },
    {
     "name": "stdout",
     "output_type": "stream",
     "text": [
      "ENSG00000272305 failed\n"
     ]
    },
    {
     "name": "stderr",
     "output_type": "stream",
     "text": [
      " 45%|███████████████████████████████████████████████████████████████████████████████████████████████████▋                                                                                                                           | 46124/103197 [4:58:08<17:35:45,  1.11s/it]"
     ]
    },
    {
     "name": "stdout",
     "output_type": "stream",
     "text": [
      "ENSG00000277539 failed\n"
     ]
    },
    {
     "name": "stderr",
     "output_type": "stream",
     "text": [
      " 45%|█████████████████████████████████████████████████████████████████████████████████████████████████████▏                                                                                                                          | 46599/103197 [5:02:15<7:08:07,  2.20it/s]"
     ]
    },
    {
     "name": "stdout",
     "output_type": "stream",
     "text": [
      "ENSG00000080822 failed\n"
     ]
    },
    {
     "name": "stderr",
     "output_type": "stream",
     "text": [
      " 47%|███████████████████████████████████████████████████████████████████████████████████████████████████████▉                                                                                                                       | 48075/103197 [5:13:38<11:01:02,  1.39it/s]"
     ]
    },
    {
     "name": "stdout",
     "output_type": "stream",
     "text": [
      "ENSG00000121577 failed\n"
     ]
    },
    {
     "name": "stderr",
     "output_type": "stream",
     "text": [
      " 47%|█████████████████████████████████████████████████████████████████████████████████████████████████████████▍                                                                                                                     | 48808/103197 [5:18:10<11:53:07,  1.27it/s]"
     ]
    },
    {
     "name": "stdout",
     "output_type": "stream",
     "text": [
      "ENSG00000065485 failed\n"
     ]
    },
    {
     "name": "stderr",
     "output_type": "stream",
     "text": [
      " 48%|███████████████████████████████████████████████████████████████████████████████████████████████████████████▍                                                                                                                   | 49736/103197 [5:24:47<22:14:52,  1.50s/it]"
     ]
    },
    {
     "name": "stdout",
     "output_type": "stream",
     "text": [
      "ENSG00000172780 failed\n"
     ]
    },
    {
     "name": "stderr",
     "output_type": "stream",
     "text": [
      "\r",
      " 48%|███████████████████████████████████████████████████████████████████████████████████████████████████████████▍                                                                                                                   | 49737/103197 [5:24:49<21:18:55,  1.44s/it]"
     ]
    },
    {
     "name": "stdout",
     "output_type": "stream",
     "text": [
      "ENSG00000172780 failed\n"
     ]
    },
    {
     "name": "stderr",
     "output_type": "stream",
     "text": [
      " 48%|███████████████████████████████████████████████████████████████████████████████████████████████████████████▉                                                                                                                    | 49747/103197 [5:24:55<4:53:11,  3.04it/s]"
     ]
    },
    {
     "name": "stdout",
     "output_type": "stream",
     "text": [
      "ENSG00000172780 failed\n"
     ]
    },
    {
     "name": "stderr",
     "output_type": "stream",
     "text": [
      " 49%|█████████████████████████████████████████████████████████████████████████████████████████████████████████████▏                                                                                                                 | 50503/103197 [5:30:10<10:47:09,  1.36it/s]"
     ]
    },
    {
     "name": "stdout",
     "output_type": "stream",
     "text": [
      "ENSG00000240303 failed\n"
     ]
    },
    {
     "name": "stderr",
     "output_type": "stream",
     "text": [
      " 50%|███████████████████████████████████████████████████████████████████████████████████████████████████████████████                                                                                                                 | 51139/103197 [5:36:47<7:15:41,  1.99it/s]"
     ]
    },
    {
     "name": "stdout",
     "output_type": "stream",
     "text": [
      "ENSG00000158092 failed\n"
     ]
    },
    {
     "name": "stderr",
     "output_type": "stream",
     "text": [
      "\r",
      " 50%|██████████████████████████████████████████████████████████████████████████████████████████████████████████████▌                                                                                                                | 51140/103197 [5:36:48<10:09:23,  1.42it/s]"
     ]
    },
    {
     "name": "stdout",
     "output_type": "stream",
     "text": [
      "ENSG00000158092 failed\n"
     ]
    },
    {
     "name": "stderr",
     "output_type": "stream",
     "text": [
      " 53%|███████████████████████████████████████████████████████████████████████████████████████████████████████████████████████▌                                                                                                        | 55076/103197 [6:05:12<8:49:57,  1.51it/s]"
     ]
    },
    {
     "name": "stdout",
     "output_type": "stream",
     "text": [
      "ENSG00000224563 failed\n",
      "ENSG00000224563 failed\n"
     ]
    },
    {
     "name": "stderr",
     "output_type": "stream",
     "text": [
      " 53%|███████████████████████████████████████████████████████████████████████████████████████████████████████████████████████▌                                                                                                        | 55078/103197 [6:05:13<5:33:20,  2.41it/s]"
     ]
    },
    {
     "name": "stdout",
     "output_type": "stream",
     "text": [
      "ENSG00000224563 failed\n",
      "ENSG00000224563 failed\n"
     ]
    },
    {
     "name": "stderr",
     "output_type": "stream",
     "text": [
      "\r",
      " 53%|███████████████████████████████████████████████████████████████████████████████████████████████████████████████████████▌                                                                                                        | 55079/103197 [6:05:13<4:37:11,  2.89it/s]"
     ]
    },
    {
     "name": "stdout",
     "output_type": "stream",
     "text": [
      "ENSG00000224563 failed\n"
     ]
    },
    {
     "name": "stderr",
     "output_type": "stream",
     "text": [
      " 54%|███████████████████████████████████████████████████████████████████████████████████████████████████████████████████████▊                                                                                                        | 55218/103197 [6:06:42<4:36:59,  2.89it/s]"
     ]
    },
    {
     "name": "stdout",
     "output_type": "stream",
     "text": [
      "ENSG00000233308 failed\n"
     ]
    },
    {
     "name": "stderr",
     "output_type": "stream",
     "text": [
      "\r",
      " 54%|███████████████████████████████████████████████████████████████████████████████████████████████████████████████████████▊                                                                                                        | 55219/103197 [6:06:42<4:09:27,  3.21it/s]"
     ]
    },
    {
     "name": "stdout",
     "output_type": "stream",
     "text": [
      "ENSG00000233308 failed\n"
     ]
    },
    {
     "name": "stderr",
     "output_type": "stream",
     "text": [
      "\r",
      " 54%|███████████████████████████████████████████████████████████████████████████████████████████████████████████████████████▊                                                                                                        | 55220/103197 [6:06:42<3:50:32,  3.47it/s]"
     ]
    },
    {
     "name": "stdout",
     "output_type": "stream",
     "text": [
      "ENSG00000233308 failed\n"
     ]
    },
    {
     "name": "stderr",
     "output_type": "stream",
     "text": [
      "\r",
      " 54%|███████████████████████████████████████████████████████████████████████████████████████████████████████████████████████▊                                                                                                        | 55221/103197 [6:06:42<3:37:21,  3.68it/s]"
     ]
    },
    {
     "name": "stdout",
     "output_type": "stream",
     "text": [
      "ENSG00000233308 failed\n"
     ]
    },
    {
     "name": "stderr",
     "output_type": "stream",
     "text": [
      " 54%|█████████████████████████████████████████████████████████████████████████████████████████████████████████████████████████▍                                                                                                      | 55942/103197 [6:11:28<4:20:07,  3.03it/s]"
     ]
    },
    {
     "name": "stdout",
     "output_type": "stream",
     "text": [
      "ENSG00000163959 failed\n"
     ]
    },
    {
     "name": "stderr",
     "output_type": "stream",
     "text": [
      " 54%|█████████████████████████████████████████████████████████████████████████████████████████████████████████████████████████                                                                                                      | 56007/103197 [6:12:07<10:37:41,  1.23it/s]"
     ]
    },
    {
     "name": "stdout",
     "output_type": "stream",
     "text": [
      "ENSG00000213123 failed\n",
      "ENSG00000272741 failed\n"
     ]
    },
    {
     "name": "stderr",
     "output_type": "stream",
     "text": [
      " 54%|█████████████████████████████████████████████████████████████████████████████████████████████████████████████████████████▊                                                                                                      | 56117/103197 [6:13:00<8:43:23,  1.50it/s]"
     ]
    },
    {
     "name": "stdout",
     "output_type": "stream",
     "text": [
      "ENSG00000174004 failed\n"
     ]
    },
    {
     "name": "stderr",
     "output_type": "stream",
     "text": [
      "\r",
      " 54%|█████████████████████████████████████████████████████████████████████████████████████████████████████████████████████████▊                                                                                                      | 56118/103197 [6:13:00<8:33:27,  1.53it/s]"
     ]
    },
    {
     "name": "stdout",
     "output_type": "stream",
     "text": [
      "ENSG00000174004 failed\n"
     ]
    },
    {
     "name": "stderr",
     "output_type": "stream",
     "text": [
      "\r",
      " 54%|█████████████████████████████████████████████████████████████████████████████████████████████████████████████████████████▊                                                                                                      | 56119/103197 [6:13:01<9:15:24,  1.41it/s]"
     ]
    },
    {
     "name": "stdout",
     "output_type": "stream",
     "text": [
      "ENSG00000174004 failed\n"
     ]
    },
    {
     "name": "stderr",
     "output_type": "stream",
     "text": [
      "\r",
      " 54%|█████████████████████████████████████████████████████████████████████████████████████████████████████████████████████████▎                                                                                                     | 56120/103197 [6:13:03<12:53:51,  1.01it/s]"
     ]
    },
    {
     "name": "stdout",
     "output_type": "stream",
     "text": [
      "ENSG00000174004 failed\n"
     ]
    },
    {
     "name": "stderr",
     "output_type": "stream",
     "text": [
      "\r",
      " 54%|█████████████████████████████████████████████████████████████████████████████████████████████████████████████████████████▎                                                                                                     | 56121/103197 [6:13:04<13:12:35,  1.01s/it]"
     ]
    },
    {
     "name": "stdout",
     "output_type": "stream",
     "text": [
      "ENSG00000174004 failed\n"
     ]
    },
    {
     "name": "stderr",
     "output_type": "stream",
     "text": [
      "\r",
      " 54%|█████████████████████████████████████████████████████████████████████████████████████████████████████████████████████████▎                                                                                                     | 56122/103197 [6:13:05<13:22:02,  1.02s/it]"
     ]
    },
    {
     "name": "stdout",
     "output_type": "stream",
     "text": [
      "ENSG00000174004 failed\n"
     ]
    },
    {
     "name": "stderr",
     "output_type": "stream",
     "text": [
      "\r",
      " 54%|█████████████████████████████████████████████████████████████████████████████████████████████████████████████████████████▎                                                                                                     | 56123/103197 [6:13:06<14:20:27,  1.10s/it]"
     ]
    },
    {
     "name": "stdout",
     "output_type": "stream",
     "text": [
      "ENSG00000174004 failed\n"
     ]
    },
    {
     "name": "stderr",
     "output_type": "stream",
     "text": [
      "\r",
      " 54%|█████████████████████████████████████████████████████████████████████████████████████████████████████████████████████████▎                                                                                                     | 56124/103197 [6:13:09<19:43:01,  1.51s/it]"
     ]
    },
    {
     "name": "stdout",
     "output_type": "stream",
     "text": [
      "ENSG00000174004 failed\n"
     ]
    },
    {
     "name": "stderr",
     "output_type": "stream",
     "text": [
      "\r",
      " 54%|█████████████████████████████████████████████████████████████████████████████████████████████████████████████████████████▎                                                                                                     | 56125/103197 [6:13:11<23:48:53,  1.82s/it]"
     ]
    },
    {
     "name": "stdout",
     "output_type": "stream",
     "text": [
      "ENSG00000174004 failed\n"
     ]
    },
    {
     "name": "stderr",
     "output_type": "stream",
     "text": [
      " 54%|█████████████████████████████████████████████████████████████████████████████████████████████████████████████████████████▉                                                                                                      | 56159/103197 [6:13:25<2:27:40,  5.31it/s]"
     ]
    },
    {
     "name": "stdout",
     "output_type": "stream",
     "text": [
      "ENSG00000174007 failed\n"
     ]
    },
    {
     "name": "stderr",
     "output_type": "stream",
     "text": [
      " 55%|██████████████████████████████████████████████████████████████████████████████████████████████████████████████████████████▉                                                                                                     | 56666/103197 [6:16:29<3:12:07,  4.04it/s]"
     ]
    },
    {
     "name": "stdout",
     "output_type": "stream",
     "text": [
      "ENSG00000260774 failed\n"
     ]
    },
    {
     "name": "stderr",
     "output_type": "stream",
     "text": [
      " 56%|██████████████████████████████████████████████████████████████████████████████████████████████████████████████████████████████▏                                                                                                 | 58154/103197 [6:25:56<9:02:23,  1.38it/s]"
     ]
    },
    {
     "name": "stdout",
     "output_type": "stream",
     "text": [
      "ENSG00000242110 failed\n"
     ]
    },
    {
     "name": "stderr",
     "output_type": "stream",
     "text": [
      "\r",
      " 56%|██████████████████████████████████████████████████████████████████████████████████████████████████████████████████████████████▏                                                                                                 | 58155/103197 [6:25:56<8:05:17,  1.55it/s]"
     ]
    },
    {
     "name": "stdout",
     "output_type": "stream",
     "text": [
      "ENSG00000242110 failed\n"
     ]
    },
    {
     "name": "stderr",
     "output_type": "stream",
     "text": [
      " 56%|██████████████████████████████████████████████████████████████████████████████████████████████████████████████████████████████▎                                                                                                 | 58165/103197 [6:26:02<7:58:11,  1.57it/s]"
     ]
    },
    {
     "name": "stdout",
     "output_type": "stream",
     "text": [
      "ENSG00000082196 failed\n"
     ]
    },
    {
     "name": "stderr",
     "output_type": "stream",
     "text": [
      "\r",
      " 56%|██████████████████████████████████████████████████████████████████████████████████████████████████████████████████████████████▎                                                                                                 | 58166/103197 [6:26:03<8:46:13,  1.43it/s]"
     ]
    },
    {
     "name": "stdout",
     "output_type": "stream",
     "text": [
      "ENSG00000082196 failed\n"
     ]
    },
    {
     "name": "stderr",
     "output_type": "stream",
     "text": [
      " 57%|███████████████████████████████████████████████████████████████████████████████████████████████████████████████████████████████▊                                                                                                | 58875/103197 [6:31:17<3:21:14,  3.67it/s]"
     ]
    },
    {
     "name": "stdout",
     "output_type": "stream",
     "text": [
      "ENSG00000171522 failed\n"
     ]
    },
    {
     "name": "stderr",
     "output_type": "stream",
     "text": [
      "\r",
      " 57%|███████████████████████████████████████████████████████████████████████████████████████████████████████████████████████████████▊                                                                                                | 58876/103197 [6:31:17<3:16:41,  3.76it/s]"
     ]
    },
    {
     "name": "stdout",
     "output_type": "stream",
     "text": [
      "ENSG00000171522 failed\n"
     ]
    },
    {
     "name": "stderr",
     "output_type": "stream",
     "text": [
      " 57%|████████████████████████████████████████████████████████████████████████████████████████████████████████████████████████████████▋                                                                                               | 59311/103197 [6:34:23<7:46:24,  1.57it/s]"
     ]
    },
    {
     "name": "stdout",
     "output_type": "stream",
     "text": [
      "ENSG00000152684 failed\n"
     ]
    },
    {
     "name": "stderr",
     "output_type": "stream",
     "text": [
      "\r",
      " 57%|████████████████████████████████████████████████████████████████████████████████████████████████████████████████████████████████▋                                                                                               | 59312/103197 [6:34:24<9:01:16,  1.35it/s]"
     ]
    },
    {
     "name": "stdout",
     "output_type": "stream",
     "text": [
      "ENSG00000152684 failed\n"
     ]
    },
    {
     "name": "stderr",
     "output_type": "stream",
     "text": [
      " 58%|██████████████████████████████████████████████████████████████████████████████████████████████████████████████████████████████████▍                                                                                             | 60076/103197 [6:41:02<7:25:21,  1.61it/s]"
     ]
    },
    {
     "name": "stdout",
     "output_type": "stream",
     "text": [
      "ENSG00000068796 failed\n"
     ]
    },
    {
     "name": "stderr",
     "output_type": "stream",
     "text": [
      " 58%|██████████████████████████████████████████████████████████████████████████████████████████████████████████████████████████████████▍                                                                                             | 60085/103197 [6:41:07<6:31:02,  1.84it/s]"
     ]
    },
    {
     "name": "stdout",
     "output_type": "stream",
     "text": [
      "ENSG00000186105 failed\n"
     ]
    },
    {
     "name": "stderr",
     "output_type": "stream",
     "text": [
      " 58%|██████████████████████████████████████████████████████████████████████████████████████████████████████████████████████████████████▍                                                                                             | 60087/103197 [6:41:08<6:10:27,  1.94it/s]"
     ]
    },
    {
     "name": "stdout",
     "output_type": "stream",
     "text": [
      "ENSG00000186105 failed\n"
     ]
    },
    {
     "name": "stderr",
     "output_type": "stream",
     "text": [
      " 58%|██████████████████████████████████████████████████████████████████████████████████████████████████████████████████████████████████▋                                                                                             | 60233/103197 [6:42:08<5:55:24,  2.01it/s]"
     ]
    },
    {
     "name": "stdout",
     "output_type": "stream",
     "text": [
      "ENSG00000253251 failed\n"
     ]
    },
    {
     "name": "stderr",
     "output_type": "stream",
     "text": [
      " 59%|████████████████████████████████████████████████████████████████████████████████████████████████████████████████████████████████████▋                                                                                           | 61106/103197 [6:47:49<2:04:32,  5.63it/s]"
     ]
    },
    {
     "name": "stdout",
     "output_type": "stream",
     "text": [
      "ENSG00000049860 failed\n"
     ]
    },
    {
     "name": "stderr",
     "output_type": "stream",
     "text": [
      " 59%|█████████████████████████████████████████████████████████████████████████████████████████████████████████████████████████████████████                                                                                           | 61318/103197 [6:49:09<4:12:44,  2.76it/s]"
     ]
    },
    {
     "name": "stdout",
     "output_type": "stream",
     "text": [
      "ENSG00000250348 failed\n"
     ]
    },
    {
     "name": "stderr",
     "output_type": "stream",
     "text": [
      " 61%|███████████████████████████████████████████████████████████████████████████████████████████████████████████████████████████████████████▊                                                                                        | 62545/103197 [7:00:08<4:34:04,  2.47it/s]"
     ]
    },
    {
     "name": "stdout",
     "output_type": "stream",
     "text": [
      "ENSG00000270133 failed\n"
     ]
    },
    {
     "name": "stderr",
     "output_type": "stream",
     "text": [
      " 61%|████████████████████████████████████████████████████████████████████████████████████████████████████████████████████████████████████████▌                                                                                       | 62909/103197 [7:02:57<2:54:02,  3.86it/s]"
     ]
    },
    {
     "name": "stdout",
     "output_type": "stream",
     "text": [
      "ENSG00000153113 failed\n"
     ]
    },
    {
     "name": "stderr",
     "output_type": "stream",
     "text": [
      "\r",
      " 61%|████████████████████████████████████████████████████████████████████████████████████████████████████████████████████████████████████████▌                                                                                       | 62910/103197 [7:02:58<2:50:03,  3.95it/s]"
     ]
    },
    {
     "name": "stdout",
     "output_type": "stream",
     "text": [
      "ENSG00000153113 failed\n"
     ]
    },
    {
     "name": "stderr",
     "output_type": "stream",
     "text": [
      "\r",
      " 61%|████████████████████████████████████████████████████████████████████████████████████████████████████████████████████████████████████████▌                                                                                       | 62911/103197 [7:02:58<2:47:24,  4.01it/s]"
     ]
    },
    {
     "name": "stdout",
     "output_type": "stream",
     "text": [
      "ENSG00000153113 failed\n"
     ]
    },
    {
     "name": "stderr",
     "output_type": "stream",
     "text": [
      "\r",
      " 61%|████████████████████████████████████████████████████████████████████████████████████████████████████████████████████████████████████████▌                                                                                       | 62912/103197 [7:02:58<2:44:52,  4.07it/s]"
     ]
    },
    {
     "name": "stdout",
     "output_type": "stream",
     "text": [
      "ENSG00000153113 failed\n"
     ]
    },
    {
     "name": "stderr",
     "output_type": "stream",
     "text": [
      "\r",
      " 61%|████████████████████████████████████████████████████████████████████████████████████████████████████████████████████████████████████████▌                                                                                       | 62913/103197 [7:02:58<2:42:34,  4.13it/s]"
     ]
    },
    {
     "name": "stdout",
     "output_type": "stream",
     "text": [
      "ENSG00000153113 failed\n"
     ]
    },
    {
     "name": "stderr",
     "output_type": "stream",
     "text": [
      " 61%|████████████████████████████████████████████████████████████████████████████████████████████████████████████████████████████████████████▊                                                                                       | 63056/103197 [7:03:52<2:04:45,  5.36it/s]"
     ]
    },
    {
     "name": "stdout",
     "output_type": "stream",
     "text": [
      "ENSG00000246763 failed\n"
     ]
    },
    {
     "name": "stderr",
     "output_type": "stream",
     "text": [
      " 62%|██████████████████████████████████████████████████████████████████████████████████████████████████████████████████████████████████████████                                                                                      | 63592/103197 [7:08:23<8:06:19,  1.36it/s]"
     ]
    },
    {
     "name": "stdout",
     "output_type": "stream",
     "text": [
      "ENSG00000153037 failed\n",
      "ENSG00000258864 failed\n"
     ]
    },
    {
     "name": "stderr",
     "output_type": "stream",
     "text": [
      " 62%|██████████████████████████████████████████████████████████████████████████████████████████████████████████████████████████████████████████                                                                                      | 63595/103197 [7:08:26<9:26:09,  1.17it/s]"
     ]
    },
    {
     "name": "stdout",
     "output_type": "stream",
     "text": [
      "ENSG00000153037 failed\n",
      "ENSG00000258864 failed\n"
     ]
    },
    {
     "name": "stderr",
     "output_type": "stream",
     "text": [
      " 62%|██████████████████████████████████████████████████████████████████████████████████████████████████████████████████████████████████████████                                                                                      | 63598/103197 [7:08:28<8:18:55,  1.32it/s]"
     ]
    },
    {
     "name": "stdout",
     "output_type": "stream",
     "text": [
      "ENSG00000153037 failed\n",
      "ENSG00000258864 failed\n"
     ]
    },
    {
     "name": "stderr",
     "output_type": "stream",
     "text": [
      "\r",
      " 62%|██████████████████████████████████████████████████████████████████████████████████████████████████████████████████████████████████████████                                                                                      | 63599/103197 [7:08:29<8:23:21,  1.31it/s]"
     ]
    },
    {
     "name": "stdout",
     "output_type": "stream",
     "text": [
      "ENSG00000153037 failed\n",
      "ENSG00000258864 failed\n"
     ]
    },
    {
     "name": "stderr",
     "output_type": "stream",
     "text": [
      "\r",
      " 62%|██████████████████████████████████████████████████████████████████████████████████████████████████████████████████████████████████████████                                                                                      | 63600/103197 [7:08:30<8:40:09,  1.27it/s]"
     ]
    },
    {
     "name": "stdout",
     "output_type": "stream",
     "text": [
      "ENSG00000153037 failed\n",
      "ENSG00000258864 failed\n"
     ]
    },
    {
     "name": "stderr",
     "output_type": "stream",
     "text": [
      " 62%|█████████████████████████████████████████████████████████████████████████████████████████████████████████████████████████████████████████▊                                                                                     | 63760/103197 [7:09:33<13:20:10,  1.22s/it]"
     ]
    },
    {
     "name": "stdout",
     "output_type": "stream",
     "text": [
      "ENSG00000243414 failed\n"
     ]
    },
    {
     "name": "stderr",
     "output_type": "stream",
     "text": [
      "\r",
      " 62%|█████████████████████████████████████████████████████████████████████████████████████████████████████████████████████████████████████████▊                                                                                     | 63761/103197 [7:09:35<14:16:34,  1.30s/it]"
     ]
    },
    {
     "name": "stdout",
     "output_type": "stream",
     "text": [
      "ENSG00000243414 failed\n"
     ]
    },
    {
     "name": "stderr",
     "output_type": "stream",
     "text": [
      " 62%|██████████████████████████████████████████████████████████████████████████████████████████████████████████████████████████████████████████▋                                                                                     | 63892/103197 [7:11:09<9:18:36,  1.17it/s]"
     ]
    },
    {
     "name": "stdout",
     "output_type": "stream",
     "text": [
      "ENSG00000248445 failed\n"
     ]
    },
    {
     "name": "stderr",
     "output_type": "stream",
     "text": [
      " 62%|██████████████████████████████████████████████████████████████████████████████████████████████████████████████████████████████████████████▋                                                                                     | 63906/103197 [7:11:14<3:27:28,  3.16it/s]"
     ]
    },
    {
     "name": "stdout",
     "output_type": "stream",
     "text": [
      "ENSG00000248445 failed\n"
     ]
    },
    {
     "name": "stderr",
     "output_type": "stream",
     "text": [
      " 63%|████████████████████████████████████████████████████████████████████████████████████████████████████████████████████████████████████████████▏                                                                                   | 64609/103197 [7:17:30<7:05:04,  1.51it/s]"
     ]
    },
    {
     "name": "stdout",
     "output_type": "stream",
     "text": [
      "ENSG00000239642 failed\n"
     ]
    },
    {
     "name": "stderr",
     "output_type": "stream",
     "text": [
      " 63%|████████████████████████████████████████████████████████████████████████████████████████████████████████████████████████████████████████████▉                                                                                   | 64930/103197 [7:19:36<1:47:47,  5.92it/s]"
     ]
    },
    {
     "name": "stdout",
     "output_type": "stream",
     "text": [
      "ENSG00000205089 failed\n"
     ]
    },
    {
     "name": "stderr",
     "output_type": "stream",
     "text": [
      " 63%|█████████████████████████████████████████████████████████████████████████████████████████████████████████████████████████████████████████████▍                                                                                  | 65188/103197 [7:21:09<5:38:45,  1.87it/s]"
     ]
    },
    {
     "name": "stdout",
     "output_type": "stream",
     "text": [
      "ENSG00000113558 failed\n"
     ]
    },
    {
     "name": "stderr",
     "output_type": "stream",
     "text": [
      " 63%|█████████████████████████████████████████████████████████████████████████████████████████████████████████████████████████████████████████████▍                                                                                 | 65460/103197 [7:23:16<11:01:00,  1.05s/it]"
     ]
    },
    {
     "name": "stdout",
     "output_type": "stream",
     "text": [
      "ENSG00000132570 failed\n"
     ]
    },
    {
     "name": "stderr",
     "output_type": "stream",
     "text": [
      " 64%|███████████████████████████████████████████████████████████████████████████████████████████████████████████████████████████████████████████████▏                                                                                | 65942/103197 [7:26:32<8:31:02,  1.21it/s]"
     ]
    },
    {
     "name": "stdout",
     "output_type": "stream",
     "text": [
      "ENSG00000281398 failed\n"
     ]
    },
    {
     "name": "stderr",
     "output_type": "stream",
     "text": [
      " 64%|███████████████████████████████████████████████████████████████████████████████████████████████████████████████████████████████████████████████▏                                                                                | 65947/103197 [7:26:34<5:14:25,  1.97it/s]"
     ]
    },
    {
     "name": "stdout",
     "output_type": "stream",
     "text": [
      "ENSG00000281398 failed\n"
     ]
    },
    {
     "name": "stderr",
     "output_type": "stream",
     "text": [
      "\r",
      " 64%|███████████████████████████████████████████████████████████████████████████████████████████████████████████████████████████████████████████████▏                                                                                | 65948/103197 [7:26:34<5:20:47,  1.94it/s]"
     ]
    },
    {
     "name": "stdout",
     "output_type": "stream",
     "text": [
      "ENSG00000281398 failed\n"
     ]
    },
    {
     "name": "stderr",
     "output_type": "stream",
     "text": [
      "\r",
      " 64%|██████████████████████████████████████████████████████████████████████████████████████████████████████████████████████████████████████████████▌                                                                                | 65949/103197 [7:26:37<12:04:56,  1.17s/it]"
     ]
    },
    {
     "name": "stdout",
     "output_type": "stream",
     "text": [
      "ENSG00000281398 failed\n"
     ]
    },
    {
     "name": "stderr",
     "output_type": "stream",
     "text": [
      "\r",
      " 64%|██████████████████████████████████████████████████████████████████████████████████████████████████████████████████████████████████████████████▌                                                                                | 65950/103197 [7:26:39<13:54:52,  1.34s/it]"
     ]
    },
    {
     "name": "stdout",
     "output_type": "stream",
     "text": [
      "ENSG00000281398 failed\n"
     ]
    },
    {
     "name": "stderr",
     "output_type": "stream",
     "text": [
      " 64%|███████████████████████████████████████████████████████████████████████████████████████████████████████████████████████████████████████████████▊                                                                                | 66249/103197 [7:29:09<5:11:35,  1.98it/s]"
     ]
    },
    {
     "name": "stdout",
     "output_type": "stream",
     "text": [
      "ENSG00000131503 failed\n"
     ]
    },
    {
     "name": "stderr",
     "output_type": "stream",
     "text": [
      " 64%|████████████████████████████████████████████████████████████████████████████████████████████████████████████████████████████████████████████████▏                                                                               | 66451/103197 [7:30:07<1:04:47,  9.45it/s]"
     ]
    },
    {
     "name": "stdout",
     "output_type": "stream",
     "text": [
      "ENSG00000256453 failed\n",
      "ENSG00000256453 failed\n"
     ]
    },
    {
     "name": "stderr",
     "output_type": "stream",
     "text": [
      " 65%|██████████████████████████████████████████████████████████████████████████████████████████████████████████████████████████████████████████████████▍                                                                             | 67441/103197 [7:40:56<1:28:00,  6.77it/s]"
     ]
    },
    {
     "name": "stdout",
     "output_type": "stream",
     "text": [
      "ENSG00000253865 failed\n"
     ]
    },
    {
     "name": "stderr",
     "output_type": "stream",
     "text": [
      " 66%|███████████████████████████████████████████████████████████████████████████████████████████████████████████████████████████████████████████████████▏                                                                           | 68134/103197 [7:45:08<11:38:18,  1.19s/it]"
     ]
    },
    {
     "name": "stdout",
     "output_type": "stream",
     "text": [
      "ENSG00000037749 failed\n"
     ]
    },
    {
     "name": "stderr",
     "output_type": "stream",
     "text": [
      " 68%|████████████████████████████████████████████████████████████████████████████████████████████████████████████████████████████████████████████████████████▎                                                                       | 70190/103197 [7:59:22<3:12:26,  2.86it/s]"
     ]
    },
    {
     "name": "stdout",
     "output_type": "stream",
     "text": [
      "ENSG00000169228 failed\n"
     ]
    },
    {
     "name": "stderr",
     "output_type": "stream",
     "text": [
      " 68%|████████████████████████████████████████████████████████████████████████████████████████████████████████████████████████████████████████████████████████▎                                                                       | 70193/103197 [7:59:23<2:43:00,  3.37it/s]"
     ]
    },
    {
     "name": "stdout",
     "output_type": "stream",
     "text": [
      "ENSG00000169228 failed\n"
     ]
    },
    {
     "name": "stderr",
     "output_type": "stream",
     "text": [
      " 69%|█████████████████████████████████████████████████████████████████████████████████████████████████████████████████████████████████████████████████████████▍                                                                      | 70710/103197 [8:02:00<1:33:39,  5.78it/s]"
     ]
    },
    {
     "name": "stdout",
     "output_type": "stream",
     "text": [
      "ENSG00000197451 failed\n"
     ]
    },
    {
     "name": "stderr",
     "output_type": "stream",
     "text": [
      "\r",
      " 69%|█████████████████████████████████████████████████████████████████████████████████████████████████████████████████████████████████████████████████████████▍                                                                      | 70711/103197 [8:02:00<1:31:39,  5.91it/s]"
     ]
    },
    {
     "name": "stdout",
     "output_type": "stream",
     "text": [
      "ENSG00000197451 failed\n"
     ]
    },
    {
     "name": "stderr",
     "output_type": "stream",
     "text": [
      " 70%|████████████████████████████████████████████████████████████████████████████████████████████████████████████████████████████████████████████████████████████▎                                                                   | 72021/103197 [8:10:52<9:44:39,  1.13s/it]"
     ]
    },
    {
     "name": "stdout",
     "output_type": "stream",
     "text": [
      "ENSG00000105963 failed\n"
     ]
    },
    {
     "name": "stderr",
     "output_type": "stream",
     "text": [
      " 70%|████████████████████████████████████████████████████████████████████████████████████████████████████████████████████████████████████████████████████████████▍                                                                   | 72079/103197 [8:11:22<2:47:46,  3.09it/s]"
     ]
    },
    {
     "name": "stdout",
     "output_type": "stream",
     "text": [
      "ENSG00000164849 failed\n"
     ]
    },
    {
     "name": "stderr",
     "output_type": "stream",
     "text": [
      " 71%|██████████████████████████████████████████████████████████████████████████████████████████████████████████████████████████████████████████████████████████████▍                                                                 | 73020/103197 [8:17:41<6:55:05,  1.21it/s]"
     ]
    },
    {
     "name": "stdout",
     "output_type": "stream",
     "text": [
      "ENSG00000237738 failed\n"
     ]
    },
    {
     "name": "stderr",
     "output_type": "stream",
     "text": [
      "\r",
      " 71%|██████████████████████████████████████████████████████████████████████████████████████████████████████████████████████████████████████████████████████████████▍                                                                 | 73021/103197 [8:17:42<5:37:13,  1.49it/s]"
     ]
    },
    {
     "name": "stdout",
     "output_type": "stream",
     "text": [
      "ENSG00000237738 failed\n"
     ]
    },
    {
     "name": "stderr",
     "output_type": "stream",
     "text": [
      "\r",
      " 71%|██████████████████████████████████████████████████████████████████████████████████████████████████████████████████████████████████████████████████████████████▌                                                                 | 73022/103197 [8:17:43<7:07:48,  1.18it/s]"
     ]
    },
    {
     "name": "stdout",
     "output_type": "stream",
     "text": [
      "ENSG00000237738 failed\n"
     ]
    },
    {
     "name": "stderr",
     "output_type": "stream",
     "text": [
      " 71%|████████████████████████████████████████████████████████████████████████████████████████████████████████████████████████████████████████████████████████████████                                                                | 73721/103197 [8:24:10<5:46:52,  1.42it/s]"
     ]
    },
    {
     "name": "stdout",
     "output_type": "stream",
     "text": [
      "ENSG00000234141 failed\n"
     ]
    },
    {
     "name": "stderr",
     "output_type": "stream",
     "text": [
      " 73%|██████████████████████████████████████████████████████████████████████████████████████████████████████████████████████████████████████████████████████████████████▉                                                             | 75065/103197 [8:36:57<4:58:42,  1.57it/s]"
     ]
    },
    {
     "name": "stdout",
     "output_type": "stream",
     "text": [
      "ENSG00000180233 failed\n"
     ]
    },
    {
     "name": "stderr",
     "output_type": "stream",
     "text": [
      " 73%|███████████████████████████████████████████████████████████████████████████████████████████████████████████████████████████████████████████████████████████████████                                                             | 75140/103197 [8:37:32<4:14:39,  1.84it/s]"
     ]
    },
    {
     "name": "stdout",
     "output_type": "stream",
     "text": [
      "ENSG00000006625 failed\n"
     ]
    },
    {
     "name": "stderr",
     "output_type": "stream",
     "text": [
      "\r",
      " 73%|███████████████████████████████████████████████████████████████████████████████████████████████████████████████████████████████████████████████████████████████████                                                             | 75141/103197 [8:37:33<6:10:04,  1.26it/s]"
     ]
    },
    {
     "name": "stdout",
     "output_type": "stream",
     "text": [
      "ENSG00000006625 failed\n"
     ]
    },
    {
     "name": "stderr",
     "output_type": "stream",
     "text": [
      " 73%|███████████████████████████████████████████████████████████████████████████████████████████████████████████████████████████████████████████████████████████████████                                                             | 75143/103197 [8:37:36<7:34:14,  1.03it/s]"
     ]
    },
    {
     "name": "stdout",
     "output_type": "stream",
     "text": [
      "ENSG00000006625 failed\n"
     ]
    },
    {
     "name": "stderr",
     "output_type": "stream",
     "text": [
      "\r",
      " 73%|███████████████████████████████████████████████████████████████████████████████████████████████████████████████████████████████████████████████████████████████████                                                             | 75144/103197 [8:37:37<8:20:33,  1.07s/it]"
     ]
    },
    {
     "name": "stdout",
     "output_type": "stream",
     "text": [
      "ENSG00000006625 failed\n"
     ]
    },
    {
     "name": "stderr",
     "output_type": "stream",
     "text": [
      " 73%|████████████████████████████████████████████████████████████████████████████████████████████████████████████████████████████████████████████████████████████████████▍                                                           | 75740/103197 [8:42:09<1:28:56,  5.14it/s]"
     ]
    },
    {
     "name": "stdout",
     "output_type": "stream",
     "text": [
      "ENSG00000230539 failed\n",
      "ENSG00000230539 failed\n"
     ]
    },
    {
     "name": "stderr",
     "output_type": "stream",
     "text": [
      "\r",
      " 73%|████████████████████████████████████████████████████████████████████████████████████████████████████████████████████████████████████████████████████████████████████▍                                                           | 75742/103197 [8:42:10<2:31:20,  3.02it/s]"
     ]
    },
    {
     "name": "stdout",
     "output_type": "stream",
     "text": [
      "ENSG00000230539 failed\n"
     ]
    },
    {
     "name": "stderr",
     "output_type": "stream",
     "text": [
      " 74%|███████████████████████████████████████████████████████████████████████████████████████████████████████████████████████████████████████████████████████████████████▉                                                           | 75855/103197 [8:44:02<35:45:06,  4.71s/it]"
     ]
    },
    {
     "name": "stdout",
     "output_type": "stream",
     "text": [
      "ENSG00000187037 failed\n"
     ]
    },
    {
     "name": "stderr",
     "output_type": "stream",
     "text": [
      "\r",
      " 74%|███████████████████████████████████████████████████████████████████████████████████████████████████████████████████████████████████████████████████████████████████▉                                                           | 75856/103197 [8:44:18<60:19:59,  7.94s/it]"
     ]
    },
    {
     "name": "stdout",
     "output_type": "stream",
     "text": [
      "ENSG00000187037 failed\n"
     ]
    },
    {
     "name": "stderr",
     "output_type": "stream",
     "text": [
      "\r",
      " 74%|███████████████████████████████████████████████████████████████████████████████████████████████████████████████████████████████████████████████████████████████████▉                                                           | 75857/103197 [8:44:30<71:15:28,  9.38s/it]"
     ]
    },
    {
     "name": "stdout",
     "output_type": "stream",
     "text": [
      "ENSG00000187037 failed\n"
     ]
    },
    {
     "name": "stderr",
     "output_type": "stream",
     "text": [
      "\r",
      " 74%|███████████████████████████████████████████████████████████████████████████████████████████████████████████████████████████████████████████████████████████████████▉                                                           | 75858/103197 [8:44:39<69:30:22,  9.15s/it]"
     ]
    },
    {
     "name": "stdout",
     "output_type": "stream",
     "text": [
      "ENSG00000187037 failed\n"
     ]
    },
    {
     "name": "stderr",
     "output_type": "stream",
     "text": [
      " 74%|███████████████████████████████████████████████████████████████████████████████████████████████████████████████████████████████████████████████████████████████████▉                                                           | 75860/103197 [8:44:57<62:48:01,  8.27s/it]"
     ]
    },
    {
     "name": "stdout",
     "output_type": "stream",
     "text": [
      "ENSG00000187037 failed\n"
     ]
    },
    {
     "name": "stderr",
     "output_type": "stream",
     "text": [
      " 74%|███████████████████████████████████████████████████████████████████████████████████████████████████████████████████████████████████████████████████████████████████▉                                                           | 75869/103197 [8:45:12<22:34:04,  2.97s/it]"
     ]
    },
    {
     "name": "stdout",
     "output_type": "stream",
     "text": [
      "ENSG00000187037 failed\n"
     ]
    },
    {
     "name": "stderr",
     "output_type": "stream",
     "text": [
      " 74%|███████████████████████████████████████████████████████████████████████████████████████████████████████████████████████████████████████████████████████████████████▉                                                           | 75887/103197 [8:45:35<14:49:21,  1.95s/it]"
     ]
    },
    {
     "name": "stdout",
     "output_type": "stream",
     "text": [
      "ENSG00000187037 failed\n"
     ]
    },
    {
     "name": "stderr",
     "output_type": "stream",
     "text": [
      "\r",
      " 74%|███████████████████████████████████████████████████████████████████████████████████████████████████████████████████████████████████████████████████████████████████▉                                                           | 75888/103197 [8:45:37<15:23:50,  2.03s/it]"
     ]
    },
    {
     "name": "stdout",
     "output_type": "stream",
     "text": [
      "ENSG00000187037 failed\n"
     ]
    },
    {
     "name": "stderr",
     "output_type": "stream",
     "text": [
      "\r",
      " 74%|███████████████████████████████████████████████████████████████████████████████████████████████████████████████████████████████████████████████████████████████████▉                                                           | 75889/103197 [8:45:39<15:47:33,  2.08s/it]"
     ]
    },
    {
     "name": "stdout",
     "output_type": "stream",
     "text": [
      "ENSG00000187037 failed\n"
     ]
    },
    {
     "name": "stderr",
     "output_type": "stream",
     "text": [
      "\r",
      " 74%|███████████████████████████████████████████████████████████████████████████████████████████████████████████████████████████████████████████████████████████████████▉                                                           | 75890/103197 [8:45:45<23:06:28,  3.05s/it]"
     ]
    },
    {
     "name": "stdout",
     "output_type": "stream",
     "text": [
      "ENSG00000187037 failed\n"
     ]
    },
    {
     "name": "stderr",
     "output_type": "stream",
     "text": [
      "\r",
      " 74%|███████████████████████████████████████████████████████████████████████████████████████████████████████████████████████████████████████████████████████████████████▉                                                           | 75891/103197 [8:45:53<33:59:58,  4.48s/it]"
     ]
    },
    {
     "name": "stdout",
     "output_type": "stream",
     "text": [
      "ENSG00000187037 failed\n"
     ]
    },
    {
     "name": "stderr",
     "output_type": "stream",
     "text": [
      "\r",
      " 74%|███████████████████████████████████████████████████████████████████████████████████████████████████████████████████████████████████████████████████████████████████▉                                                           | 75892/103197 [8:45:58<37:01:31,  4.88s/it]"
     ]
    },
    {
     "name": "stdout",
     "output_type": "stream",
     "text": [
      "ENSG00000187037 failed\n"
     ]
    },
    {
     "name": "stderr",
     "output_type": "stream",
     "text": [
      "\r",
      " 74%|███████████████████████████████████████████████████████████████████████████████████████████████████████████████████████████████████████████████████████████████████▉                                                           | 75893/103197 [8:46:05<39:56:57,  5.27s/it]"
     ]
    },
    {
     "name": "stdout",
     "output_type": "stream",
     "text": [
      "ENSG00000187037 failed\n"
     ]
    },
    {
     "name": "stderr",
     "output_type": "stream",
     "text": [
      "\r",
      " 74%|████████████████████████████████████████████████████████████████████████████████████████████████████████████████████████████████████████████████████████████████████                                                           | 75894/103197 [8:46:11<42:31:45,  5.61s/it]"
     ]
    },
    {
     "name": "stdout",
     "output_type": "stream",
     "text": [
      "ENSG00000187037 failed\n"
     ]
    },
    {
     "name": "stderr",
     "output_type": "stream",
     "text": [
      "\r",
      " 74%|████████████████████████████████████████████████████████████████████████████████████████████████████████████████████████████████████████████████████████████████████                                                           | 75895/103197 [8:46:17<44:20:09,  5.85s/it]"
     ]
    },
    {
     "name": "stdout",
     "output_type": "stream",
     "text": [
      "ENSG00000187037 failed\n"
     ]
    },
    {
     "name": "stderr",
     "output_type": "stream",
     "text": [
      "\r",
      " 74%|████████████████████████████████████████████████████████████████████████████████████████████████████████████████████████████████████████████████████████████████████                                                           | 75896/103197 [8:46:28<56:13:32,  7.41s/it]"
     ]
    },
    {
     "name": "stdout",
     "output_type": "stream",
     "text": [
      "ENSG00000187037 failed\n"
     ]
    },
    {
     "name": "stderr",
     "output_type": "stream",
     "text": [
      "\r",
      " 74%|████████████████████████████████████████████████████████████████████████████████████████████████████████████████████████████████████████████████████████████████████                                                           | 75897/103197 [8:46:35<54:20:10,  7.17s/it]"
     ]
    },
    {
     "name": "stdout",
     "output_type": "stream",
     "text": [
      "ENSG00000187037 failed\n"
     ]
    },
    {
     "name": "stderr",
     "output_type": "stream",
     "text": [
      " 74%|█████████████████████████████████████████████████████████████████████████████████████████████████████████████████████████████████████████████████████████████████████▊                                                          | 76414/103197 [8:51:27<7:00:08,  1.06it/s]"
     ]
    },
    {
     "name": "stdout",
     "output_type": "stream",
     "text": [
      "ENSG00000270617 failed\n"
     ]
    },
    {
     "name": "stderr",
     "output_type": "stream",
     "text": [
      " 74%|██████████████████████████████████████████████████████████████████████████████████████████████████████████████████████████████████████████████████████████████████████                                                          | 76489/103197 [8:52:18<3:54:19,  1.90it/s]"
     ]
    },
    {
     "name": "stdout",
     "output_type": "stream",
     "text": [
      "ENSG00000239556 failed\n"
     ]
    },
    {
     "name": "stderr",
     "output_type": "stream",
     "text": [
      " 74%|██████████████████████████████████████████████████████████████████████████████████████████████████████████████████████████████████████████████████████████████████████                                                          | 76491/103197 [8:52:21<7:34:41,  1.02s/it]"
     ]
    },
    {
     "name": "stdout",
     "output_type": "stream",
     "text": [
      "ENSG00000239556 failed\n"
     ]
    },
    {
     "name": "stderr",
     "output_type": "stream",
     "text": [
      " 74%|██████████████████████████████████████████████████████████████████████████████████████████████████████████████████████████████████████████████████████████████████████                                                          | 76494/103197 [8:52:23<4:52:37,  1.52it/s]"
     ]
    },
    {
     "name": "stdout",
     "output_type": "stream",
     "text": [
      "ENSG00000239556 failed\n"
     ]
    },
    {
     "name": "stderr",
     "output_type": "stream",
     "text": [
      "\r",
      " 74%|██████████████████████████████████████████████████████████████████████████████████████████████████████████████████████████████████████████████████████████████████████                                                          | 76495/103197 [8:52:23<4:27:24,  1.66it/s]"
     ]
    },
    {
     "name": "stdout",
     "output_type": "stream",
     "text": [
      "ENSG00000239556 failed\n"
     ]
    },
    {
     "name": "stderr",
     "output_type": "stream",
     "text": [
      "\r",
      " 74%|██████████████████████████████████████████████████████████████████████████████████████████████████████████████████████████████████████████████████████████████████████                                                          | 76496/103197 [8:52:24<5:39:11,  1.31it/s]"
     ]
    },
    {
     "name": "stdout",
     "output_type": "stream",
     "text": [
      "ENSG00000239556 failed\n"
     ]
    },
    {
     "name": "stderr",
     "output_type": "stream",
     "text": [
      "\r",
      " 74%|██████████████████████████████████████████████████████████████████████████████████████████████████████████████████████████████████████████████████████████████████████                                                          | 76497/103197 [8:52:25<6:29:42,  1.14it/s]"
     ]
    },
    {
     "name": "stdout",
     "output_type": "stream",
     "text": [
      "ENSG00000239556 failed\n",
      "ENSG00000239556 failed\n"
     ]
    },
    {
     "name": "stderr",
     "output_type": "stream",
     "text": [
      " 74%|██████████████████████████████████████████████████████████████████████████████████████████████████████████████████████████████████████████████████████████████████████                                                          | 76499/103197 [8:52:28<6:59:28,  1.06it/s]"
     ]
    },
    {
     "name": "stdout",
     "output_type": "stream",
     "text": [
      "ENSG00000239556 failed\n",
      "ENSG00000239556 failed\n"
     ]
    },
    {
     "name": "stderr",
     "output_type": "stream",
     "text": [
      " 74%|██████████████████████████████████████████████████████████████████████████████████████████████████████████████████████████████████████████████████████████████████████                                                          | 76509/103197 [8:52:38<5:29:44,  1.35it/s]"
     ]
    },
    {
     "name": "stdout",
     "output_type": "stream",
     "text": [
      "ENSG00000228434 failed\n"
     ]
    },
    {
     "name": "stderr",
     "output_type": "stream",
     "text": [
      " 74%|██████████████████████████████████████████████████████████████████████████████████████████████████████████████████████████████████████████████████████████████████████                                                          | 76511/103197 [8:52:40<6:06:11,  1.21it/s]"
     ]
    },
    {
     "name": "stdout",
     "output_type": "stream",
     "text": [
      "ENSG00000228434 failed\n"
     ]
    },
    {
     "name": "stderr",
     "output_type": "stream",
     "text": [
      " 74%|██████████████████████████████████████████████████████████████████████████████████████████████████████████████████████████████████████████████████████████████████████▎                                                         | 76619/103197 [8:53:15<1:18:21,  5.65it/s]"
     ]
    },
    {
     "name": "stdout",
     "output_type": "stream",
     "text": [
      "ENSG00000239775 failed\n",
      "ENSG00000239775 failed\n"
     ]
    },
    {
     "name": "stderr",
     "output_type": "stream",
     "text": [
      " 76%|█████████████████████████████████████████████████████████████████████████████████████████████████████████████████████████████████████████████████████████████████████████▎                                                      | 78025/103197 [9:02:08<2:57:53,  2.36it/s]"
     ]
    },
    {
     "name": "stdout",
     "output_type": "stream",
     "text": [
      "ENSG00000126522 failed\n"
     ]
    },
    {
     "name": "stderr",
     "output_type": "stream",
     "text": [
      "\r",
      " 76%|█████████████████████████████████████████████████████████████████████████████████████████████████████████████████████████████████████████████████████████████████████████▎                                                      | 78026/103197 [9:02:09<3:30:54,  1.99it/s]"
     ]
    },
    {
     "name": "stdout",
     "output_type": "stream",
     "text": [
      "ENSG00000126522 failed\n"
     ]
    },
    {
     "name": "stderr",
     "output_type": "stream",
     "text": [
      " 76%|█████████████████████████████████████████████████████████████████████████████████████████████████████████████████████████████████████████████████████████████████████████▌                                                      | 78139/103197 [9:03:20<1:26:03,  4.85it/s]"
     ]
    },
    {
     "name": "stdout",
     "output_type": "stream",
     "text": [
      "ENSG00000179406 failed\n"
     ]
    },
    {
     "name": "stderr",
     "output_type": "stream",
     "text": [
      "\r",
      " 76%|█████████████████████████████████████████████████████████████████████████████████████████████████████████████████████████████████████████████████████████████████████████▌                                                      | 78140/103197 [9:03:20<1:33:13,  4.48it/s]"
     ]
    },
    {
     "name": "stdout",
     "output_type": "stream",
     "text": [
      "ENSG00000179406 failed\n"
     ]
    },
    {
     "name": "stderr",
     "output_type": "stream",
     "text": [
      " 76%|█████████████████████████████████████████████████████████████████████████████████████████████████████████████████████████████████████████████████████████████████████████▋                                                      | 78191/103197 [9:03:43<2:09:38,  3.21it/s]"
     ]
    },
    {
     "name": "stdout",
     "output_type": "stream",
     "text": [
      "ENSG00000244657 failed\n"
     ]
    },
    {
     "name": "stderr",
     "output_type": "stream",
     "text": [
      " 76%|█████████████████████████████████████████████████████████████████████████████████████████████████████████████████████████████████████████████████████████████████████████▋                                                      | 78193/103197 [9:03:44<2:16:14,  3.06it/s]"
     ]
    },
    {
     "name": "stdout",
     "output_type": "stream",
     "text": [
      "ENSG00000244657 failed\n"
     ]
    },
    {
     "name": "stderr",
     "output_type": "stream",
     "text": [
      " 76%|█████████████████████████████████████████████████████████████████████████████████████████████████████████████████████████████████████████████████████████████████████████▋                                                      | 78202/103197 [9:03:48<2:22:32,  2.92it/s]"
     ]
    },
    {
     "name": "stdout",
     "output_type": "stream",
     "text": [
      "ENSG00000229180 failed\n"
     ]
    },
    {
     "name": "stderr",
     "output_type": "stream",
     "text": [
      " 76%|█████████████████████████████████████████████████████████████████████████████████████████████████████████████████████████████████████████████████████████████████████████▊                                                      | 78225/103197 [9:03:55<2:20:11,  2.97it/s]"
     ]
    },
    {
     "name": "stdout",
     "output_type": "stream",
     "text": [
      "ENSG00000226824 failed\n"
     ]
    },
    {
     "name": "stderr",
     "output_type": "stream",
     "text": [
      "\r",
      " 76%|█████████████████████████████████████████████████████████████████████████████████████████████████████████████████████████████████████████████████████████████████████████▊                                                      | 78226/103197 [9:03:56<2:17:00,  3.04it/s]"
     ]
    },
    {
     "name": "stdout",
     "output_type": "stream",
     "text": [
      "ENSG00000226824 failed\n"
     ]
    },
    {
     "name": "stderr",
     "output_type": "stream",
     "text": [
      "\r",
      " 76%|█████████████████████████████████████████████████████████████████████████████████████████████████████████████████████████████████████████████████████████████████████████▊                                                      | 78227/103197 [9:03:56<2:14:47,  3.09it/s]"
     ]
    },
    {
     "name": "stdout",
     "output_type": "stream",
     "text": [
      "ENSG00000226824 failed\n"
     ]
    },
    {
     "name": "stderr",
     "output_type": "stream",
     "text": [
      "\r",
      " 76%|█████████████████████████████████████████████████████████████████████████████████████████████████████████████████████████████████████████████████████████████████████████▊                                                      | 78228/103197 [9:03:59<7:25:47,  1.07s/it]"
     ]
    },
    {
     "name": "stdout",
     "output_type": "stream",
     "text": [
      "ENSG00000226824 failed\n"
     ]
    },
    {
     "name": "stderr",
     "output_type": "stream",
     "text": [
      " 76%|██████████████████████████████████████████████████████████████████████████████████████████████████████████████████████████████████████████████████████████████████████████                                                      | 78336/103197 [9:04:49<1:48:50,  3.81it/s]"
     ]
    },
    {
     "name": "stdout",
     "output_type": "stream",
     "text": [
      "ENSG00000126524 failed\n"
     ]
    },
    {
     "name": "stderr",
     "output_type": "stream",
     "text": [
      " 77%|███████████████████████████████████████████████████████████████████████████████████████████████████████████████████████████████████████████████████████████████████████████▉                                                   | 79546/103197 [9:12:35<11:34:14,  1.76s/it]"
     ]
    },
    {
     "name": "stdout",
     "output_type": "stream",
     "text": [
      "ENSG00000259628 failed\n"
     ]
    },
    {
     "name": "stderr",
     "output_type": "stream",
     "text": [
      "\r",
      " 77%|███████████████████████████████████████████████████████████████████████████████████████████████████████████████████████████████████████████████████████████████████████████▉                                                   | 79547/103197 [9:12:37<12:20:04,  1.88s/it]"
     ]
    },
    {
     "name": "stdout",
     "output_type": "stream",
     "text": [
      "ENSG00000259628 failed\n"
     ]
    },
    {
     "name": "stderr",
     "output_type": "stream",
     "text": [
      " 78%|██████████████████████████████████████████████████████████████████████████████████████████████████████████████████████████████████████████████████████████████████████████████▎                                                 | 80282/103197 [9:17:39<4:59:44,  1.27it/s]"
     ]
    },
    {
     "name": "stdout",
     "output_type": "stream",
     "text": [
      "ENSG00000251154 failed\n"
     ]
    },
    {
     "name": "stderr",
     "output_type": "stream",
     "text": [
      " 79%|███████████████████████████████████████████████████████████████████████████████████████████████████████████████████████████████████████████████████████████████████████████████▊                                                | 81012/103197 [9:22:40<1:52:36,  3.28it/s]"
     ]
    },
    {
     "name": "stdout",
     "output_type": "stream",
     "text": [
      "ENSG00000164713 failed\n"
     ]
    },
    {
     "name": "stderr",
     "output_type": "stream",
     "text": [
      " 79%|████████████████████████████████████████████████████████████████████████████████████████████████████████████████████████████████████████████████████████████████████████████████▍                                               | 81279/103197 [9:24:23<1:02:43,  5.82it/s]"
     ]
    },
    {
     "name": "stdout",
     "output_type": "stream",
     "text": [
      "ENSG00000130429 failed\n",
      "ENSG00000130429 failed\n"
     ]
    },
    {
     "name": "stderr",
     "output_type": "stream",
     "text": [
      " 79%|████████████████████████████████████████████████████████████████████████████████████████████████████████████████████████████████████████████████████████████████████████████████▊                                               | 81452/103197 [9:25:37<5:59:42,  1.01it/s]"
     ]
    },
    {
     "name": "stdout",
     "output_type": "stream",
     "text": [
      "ENSG00000197343 failed\n"
     ]
    },
    {
     "name": "stderr",
     "output_type": "stream",
     "text": [
      "\r",
      " 79%|████████████████████████████████████████████████████████████████████████████████████████████████████████████████████████████████████████████████████████████████████████████████▊                                               | 81453/103197 [9:25:38<6:07:07,  1.01s/it]"
     ]
    },
    {
     "name": "stdout",
     "output_type": "stream",
     "text": [
      "ENSG00000197343 failed\n"
     ]
    },
    {
     "name": "stderr",
     "output_type": "stream",
     "text": [
      "\r",
      " 79%|████████████████████████████████████████████████████████████████████████████████████████████████████████████████████████████████████████████████████████████████████████████████▊                                               | 81454/103197 [9:25:40<7:53:25,  1.31s/it]"
     ]
    },
    {
     "name": "stdout",
     "output_type": "stream",
     "text": [
      "ENSG00000197343 failed\n"
     ]
    },
    {
     "name": "stderr",
     "output_type": "stream",
     "text": [
      " 79%|█████████████████████████████████████████████████████████████████████████████████████████████████████████████████████████████████████████████████████████████████████████████████▊                                              | 81941/103197 [9:28:01<3:13:02,  1.84it/s]"
     ]
    },
    {
     "name": "stdout",
     "output_type": "stream",
     "text": [
      "ENSG00000235333 failed\n"
     ]
    },
    {
     "name": "stderr",
     "output_type": "stream",
     "text": [
      "\r",
      " 79%|█████████████████████████████████████████████████████████████████████████████████████████████████████████████████████████████████████████████████████████████████████████████████▊                                              | 81942/103197 [9:28:01<3:13:53,  1.83it/s]"
     ]
    },
    {
     "name": "stdout",
     "output_type": "stream",
     "text": [
      "ENSG00000235333 failed\n"
     ]
    },
    {
     "name": "stderr",
     "output_type": "stream",
     "text": [
      " 79%|█████████████████████████████████████████████████████████████████████████████████████████████████████████████████████████████████████████████████████████████████████████████████▊                                              | 81944/103197 [9:28:02<3:20:29,  1.77it/s]"
     ]
    },
    {
     "name": "stdout",
     "output_type": "stream",
     "text": [
      "ENSG00000235333 failed\n"
     ]
    },
    {
     "name": "stderr",
     "output_type": "stream",
     "text": [
      "\r",
      " 79%|█████████████████████████████████████████████████████████████████████████████████████████████████████████████████████████████████████████████████████████████████████████████████▊                                              | 81945/103197 [9:28:03<3:18:54,  1.78it/s]"
     ]
    },
    {
     "name": "stdout",
     "output_type": "stream",
     "text": [
      "ENSG00000235333 failed\n"
     ]
    },
    {
     "name": "stderr",
     "output_type": "stream",
     "text": [
      "\r",
      " 79%|█████████████████████████████████████████████████████████████████████████████████████████████████████████████████████████████████████████████████████████████████████████████████▊                                              | 81946/103197 [9:28:03<3:18:39,  1.78it/s]"
     ]
    },
    {
     "name": "stdout",
     "output_type": "stream",
     "text": [
      "ENSG00000235333 failed\n"
     ]
    },
    {
     "name": "stderr",
     "output_type": "stream",
     "text": [
      "\r",
      " 79%|█████████████████████████████████████████████████████████████████████████████████████████████████████████████████████████████████████████████████████████████████████████████████▊                                              | 81947/103197 [9:28:04<3:25:06,  1.73it/s]"
     ]
    },
    {
     "name": "stdout",
     "output_type": "stream",
     "text": [
      "ENSG00000235333 failed\n"
     ]
    },
    {
     "name": "stderr",
     "output_type": "stream",
     "text": [
      " 80%|██████████████████████████████████████████████████████████████████████████████████████████████████████████████████████████████████████████████████████████████████████████████████▏                                             | 82081/103197 [9:28:57<1:47:19,  3.28it/s]"
     ]
    },
    {
     "name": "stdout",
     "output_type": "stream",
     "text": [
      "ENSG00000185955 failed\n"
     ]
    },
    {
     "name": "stderr",
     "output_type": "stream",
     "text": [
      " 80%|██████████████████████████████████████████████████████████████████████████████████████████████████████████████████████████████████████████████████████████████████████████████████▏                                             | 82083/103197 [9:28:57<1:49:13,  3.22it/s]"
     ]
    },
    {
     "name": "stdout",
     "output_type": "stream",
     "text": [
      "ENSG00000185955 failed\n"
     ]
    },
    {
     "name": "stderr",
     "output_type": "stream",
     "text": [
      " 80%|███████████████████████████████████████████████████████████████████████████████████████████████████████████████████████████████████████████████████████████████████████████████████▋                                            | 82783/103197 [9:32:37<3:10:59,  1.78it/s]"
     ]
    },
    {
     "name": "stdout",
     "output_type": "stream",
     "text": [
      "ENSG00000239969 failed\n"
     ]
    },
    {
     "name": "stderr",
     "output_type": "stream",
     "text": [
      "\r",
      " 80%|███████████████████████████████████████████████████████████████████████████████████████████████████████████████████████████████████████████████████████████████████████████████████▋                                            | 82784/103197 [9:32:38<3:32:54,  1.60it/s]"
     ]
    },
    {
     "name": "stdout",
     "output_type": "stream",
     "text": [
      "ENSG00000239969 failed\n"
     ]
    },
    {
     "name": "stderr",
     "output_type": "stream",
     "text": [
      "\r",
      " 80%|███████████████████████████████████████████████████████████████████████████████████████████████████████████████████████████████████████████████████████████████████████████████████▋                                            | 82785/103197 [9:32:39<4:15:51,  1.33it/s]"
     ]
    },
    {
     "name": "stdout",
     "output_type": "stream",
     "text": [
      "ENSG00000239969 failed\n"
     ]
    },
    {
     "name": "stderr",
     "output_type": "stream",
     "text": [
      "\r",
      " 80%|███████████████████████████████████████████████████████████████████████████████████████████████████████████████████████████████████████████████████████████████████████████████████▋                                            | 82786/103197 [9:32:40<5:00:52,  1.13it/s]"
     ]
    },
    {
     "name": "stdout",
     "output_type": "stream",
     "text": [
      "ENSG00000239969 failed\n"
     ]
    },
    {
     "name": "stderr",
     "output_type": "stream",
     "text": [
      "\r",
      " 80%|███████████████████████████████████████████████████████████████████████████████████████████████████████████████████████████████████████████████████████████████████████████████████▋                                            | 82787/103197 [9:32:42<5:32:44,  1.02it/s]"
     ]
    },
    {
     "name": "stdout",
     "output_type": "stream",
     "text": [
      "ENSG00000239969 failed\n"
     ]
    },
    {
     "name": "stderr",
     "output_type": "stream",
     "text": [
      " 80%|████████████████████████████████████████████████████████████████████████████████████████████████████████████████████████████████████████████████████████████████████████████████████                                            | 82964/103197 [9:33:36<4:43:13,  1.19it/s]"
     ]
    },
    {
     "name": "stdout",
     "output_type": "stream",
     "text": [
      "ENSG00000272949 failed\n"
     ]
    },
    {
     "name": "stderr",
     "output_type": "stream",
     "text": [
      "\r",
      " 80%|████████████████████████████████████████████████████████████████████████████████████████████████████████████████████████████████████████████████████████████████████████████████████                                            | 82965/103197 [9:33:36<4:21:15,  1.29it/s]"
     ]
    },
    {
     "name": "stdout",
     "output_type": "stream",
     "text": [
      "ENSG00000272949 failed\n"
     ]
    },
    {
     "name": "stderr",
     "output_type": "stream",
     "text": [
      "\r",
      " 80%|████████████████████████████████████████████████████████████████████████████████████████████████████████████████████████████████████████████████████████████████████████████████████                                            | 82966/103197 [9:33:37<5:12:29,  1.08it/s]"
     ]
    },
    {
     "name": "stdout",
     "output_type": "stream",
     "text": [
      "ENSG00000272949 failed\n"
     ]
    },
    {
     "name": "stderr",
     "output_type": "stream",
     "text": [
      " 80%|████████████████████████████████████████████████████████████████████████████████████████████████████████████████████████████████████████████████████████████████████████████████████▏                                           | 83011/103197 [9:34:05<3:18:02,  1.70it/s]"
     ]
    },
    {
     "name": "stdout",
     "output_type": "stream",
     "text": [
      "ENSG00000205236 failed\n",
      "ENSG00000267368 failed\n"
     ]
    },
    {
     "name": "stderr",
     "output_type": "stream",
     "text": [
      " 81%|████████████████████████████████████████████████████████████████████████████████████████████████████████████████████████████████████████████████████████████████████████████████████▉                                           | 83369/103197 [9:36:26<1:17:57,  4.24it/s]"
     ]
    },
    {
     "name": "stdout",
     "output_type": "stream",
     "text": [
      "ENSG00000005483 failed\n"
     ]
    },
    {
     "name": "stderr",
     "output_type": "stream",
     "text": [
      " 82%|███████████████████████████████████████████████████████████████████████████████████████████████████████████████████████████████████████████████████████████████████████████████████████▊                                        | 84693/103197 [9:48:30<2:56:50,  1.74it/s]"
     ]
    },
    {
     "name": "stdout",
     "output_type": "stream",
     "text": [
      "ENSG00000273184 failed\n"
     ]
    },
    {
     "name": "stderr",
     "output_type": "stream",
     "text": [
      " 82%|███████████████████████████████████████████████████████████████████████████████████████████████████████████████████████████████████████████████████████████████████████████████████████▊                                        | 84695/103197 [9:48:31<2:59:37,  1.72it/s]"
     ]
    },
    {
     "name": "stdout",
     "output_type": "stream",
     "text": [
      "ENSG00000273184 failed\n"
     ]
    },
    {
     "name": "stderr",
     "output_type": "stream",
     "text": [
      " 85%|█████████████████████████████████████████████████████████████████████████████████████████████████████████████████████████████████████████████████████████████████████████████████████████████▍                                 | 87656/103197 [10:08:47<3:21:04,  1.29it/s]"
     ]
    },
    {
     "name": "stdout",
     "output_type": "stream",
     "text": [
      "ENSG00000281887 failed\n"
     ]
    },
    {
     "name": "stderr",
     "output_type": "stream",
     "text": [
      " 86%|████████████████████████████████████████████████████████████████████████████████████████████████████████████████████████████████████████████████████████████████████████████████████████████████▋                                | 88402/103197 [10:12:48<52:50,  4.67it/s]"
     ]
    },
    {
     "name": "stdout",
     "output_type": "stream",
     "text": [
      "ENSG00000214106 failed\n"
     ]
    },
    {
     "name": "stderr",
     "output_type": "stream",
     "text": [
      " 87%|█████████████████████████████████████████████████████████████████████████████████████████████████████████████████████████████████████████████████████████████████████████████████████████████████▏                            | 89789/103197 [10:23:34<18:20:20,  4.92s/it]"
     ]
    },
    {
     "name": "stdout",
     "output_type": "stream",
     "text": [
      "ENSG00000224972 failed\n"
     ]
    },
    {
     "name": "stderr",
     "output_type": "stream",
     "text": [
      " 87%|██████████████████████████████████████████████████████████████████████████████████████████████████████████████████████████████████████████████████████████████████████████████████████████████████                             | 89815/103197 [10:24:10<7:15:26,  1.95s/it]"
     ]
    },
    {
     "name": "stdout",
     "output_type": "stream",
     "text": [
      "ENSG00000274527 failed\n"
     ]
    },
    {
     "name": "stderr",
     "output_type": "stream",
     "text": [
      "\r",
      " 87%|██████████████████████████████████████████████████████████████████████████████████████████████████████████████████████████████████████████████████████████████████████████████████████████████████                             | 89816/103197 [10:24:13<7:40:00,  2.06s/it]"
     ]
    },
    {
     "name": "stdout",
     "output_type": "stream",
     "text": [
      "ENSG00000282960 failed\n"
     ]
    },
    {
     "name": "stderr",
     "output_type": "stream",
     "text": [
      " 87%|██████████████████████████████████████████████████████████████████████████████████████████████████████████████████████████████████████████████████████████████████████████████████████████████████                             | 89819/103197 [10:24:20<8:41:16,  2.34s/it]"
     ]
    },
    {
     "name": "stdout",
     "output_type": "stream",
     "text": [
      "ENSG00000274527 failed\n",
      "ENSG00000282960 failed\n"
     ]
    },
    {
     "name": "stderr",
     "output_type": "stream",
     "text": [
      "\r",
      " 87%|██████████████████████████████████████████████████████████████████████████████████████████████████████████████████████████████████████████████████████████████████████████████████████████████████                             | 89820/103197 [10:24:23<9:12:54,  2.48s/it]"
     ]
    },
    {
     "name": "stdout",
     "output_type": "stream",
     "text": [
      "ENSG00000274527 failed\n",
      "ENSG00000282960 failed\n"
     ]
    },
    {
     "name": "stderr",
     "output_type": "stream",
     "text": [
      " 88%|████████████████████████████████████████████████████████████████████████████████████████████████████████████████████████████████████████████████████████████████████████████████████████████████████▌                          | 90982/103197 [10:32:51<1:07:22,  3.02it/s]"
     ]
    },
    {
     "name": "stdout",
     "output_type": "stream",
     "text": [
      "ENSG00000228352 failed\n"
     ]
    },
    {
     "name": "stderr",
     "output_type": "stream",
     "text": [
      " 89%|███████████████████████████████████████████████████████████████████████████████████████████████████████████████████████████████████████████████████████████████████████████████████████████████████████▍                         | 91471/103197 [10:35:10<19:43,  9.90it/s]"
     ]
    },
    {
     "name": "stdout",
     "output_type": "stream",
     "text": [
      "ENSG00000159884 failed\n"
     ]
    },
    {
     "name": "stderr",
     "output_type": "stream",
     "text": [
      " 89%|████████████████████████████████████████████████████████████████████████████████████████████████████████████████████████████████████████████████████████████████████████████████████████████████████████                         | 91756/103197 [10:36:20<34:40,  5.50it/s]"
     ]
    },
    {
     "name": "stdout",
     "output_type": "stream",
     "text": [
      "ENSG00000204930 failed\n"
     ]
    },
    {
     "name": "stderr",
     "output_type": "stream",
     "text": [
      " 89%|████████████████████████████████████████████████████████████████████████████████████████████████████████████████████████████████████████████████████████████████████████████████████████████████████████                         | 91759/103197 [10:36:21<36:53,  5.17it/s]"
     ]
    },
    {
     "name": "stdout",
     "output_type": "stream",
     "text": [
      "ENSG00000204930 failed\n"
     ]
    },
    {
     "name": "stderr",
     "output_type": "stream",
     "text": [
      " 89%|███████████████████████████████████████████████████████████████████████████████████████████████████████████████████████████████████████████████████████████████████████████████████████████████████████                        | 92122/103197 [10:39:55<3:35:05,  1.17s/it]"
     ]
    },
    {
     "name": "stdout",
     "output_type": "stream",
     "text": [
      "ENSG00000147912 failed\n"
     ]
    },
    {
     "name": "stderr",
     "output_type": "stream",
     "text": [
      "\r",
      " 89%|███████████████████████████████████████████████████████████████████████████████████████████████████████████████████████████████████████████████████████████████████████████████████████████████████████                        | 92123/103197 [10:39:57<3:57:23,  1.29s/it]"
     ]
    },
    {
     "name": "stdout",
     "output_type": "stream",
     "text": [
      "ENSG00000147912 failed\n"
     ]
    },
    {
     "name": "stderr",
     "output_type": "stream",
     "text": [
      " 89%|███████████████████████████████████████████████████████████████████████████████████████████████████████████████████████████████████████████████████████████████████████████████████████████████████████▏                       | 92174/103197 [10:40:22<2:29:28,  1.23it/s]"
     ]
    },
    {
     "name": "stdout",
     "output_type": "stream",
     "text": [
      "ENSG00000107371 failed\n"
     ]
    },
    {
     "name": "stderr",
     "output_type": "stream",
     "text": [
      " 91%|████████████████████████████████████████████████████████████████████████████████████████████████████████████████████████████████████████████████████████████████████████████████████████████████████████████▊                    | 93948/103197 [10:53:48<58:45,  2.62it/s]"
     ]
    },
    {
     "name": "stdout",
     "output_type": "stream",
     "text": [
      "ENSG00000186354 failed\n"
     ]
    },
    {
     "name": "stderr",
     "output_type": "stream",
     "text": [
      "\r",
      " 91%|████████████████████████████████████████████████████████████████████████████████████████████████████████████████████████████████████████████████████████████████████████████████████████████████████████████▊                    | 93949/103197 [10:53:49<59:31,  2.59it/s]"
     ]
    },
    {
     "name": "stdout",
     "output_type": "stream",
     "text": [
      "ENSG00000186354 failed\n"
     ]
    },
    {
     "name": "stderr",
     "output_type": "stream",
     "text": [
      " 92%|████████████████████████████████████████████████████████████████████████████████████████████████████████████████████████████████████████████████████████████████████████████████████████████████████████████████                 | 95446/103197 [11:03:58<33:39,  3.84it/s]"
     ]
    },
    {
     "name": "stdout",
     "output_type": "stream",
     "text": [
      "ENSG00000095380 failed\n"
     ]
    },
    {
     "name": "stderr",
     "output_type": "stream",
     "text": [
      " 93%|██████████████████████████████████████████████████████████████████████████████████████████████████████████████████████████████████████████████████████████████████████████████████████████████████████████████▉                | 95757/103197 [11:06:12<1:03:45,  1.94it/s]"
     ]
    },
    {
     "name": "stdout",
     "output_type": "stream",
     "text": [
      "ENSG00000066697 failed\n"
     ]
    },
    {
     "name": "stderr",
     "output_type": "stream",
     "text": [
      " 94%|██████████████████████████████████████████████████████████████████████████████████████████████████████████████████████████████████████████████████████████████████████████████████████████████████████████████████▋              | 96609/103197 [11:12:15<19:58,  5.50it/s]"
     ]
    },
    {
     "name": "stdout",
     "output_type": "stream",
     "text": [
      "ENSG00000136867 failed\n",
      "ENSG00000136867 failed\n"
     ]
    },
    {
     "name": "stderr",
     "output_type": "stream",
     "text": [
      " 95%|████████████████████████████████████████████████████████████████████████████████████████████████████████████████████████████████████████████████████████████████████████████████████████████████████████████████████▊            | 97611/103197 [11:18:56<19:30,  4.77it/s]"
     ]
    },
    {
     "name": "stdout",
     "output_type": "stream",
     "text": [
      "ENSG00000227355 failed\n",
      "ENSG00000227355 failed\n"
     ]
    },
    {
     "name": "stderr",
     "output_type": "stream",
     "text": [
      " 96%|███████████████████████████████████████████████████████████████████████████████████████████████████████████████████████████████████████████████████████████████████████████████████████████████████████████████████████▍         | 98816/103197 [11:28:09<12:06,  6.03it/s]"
     ]
    },
    {
     "name": "stdout",
     "output_type": "stream",
     "text": [
      "ENSG00000225032 failed\n"
     ]
    },
    {
     "name": "stderr",
     "output_type": "stream",
     "text": [
      " 96%|███████████████████████████████████████████████████████████████████████████████████████████████████████████████████████████████████████████████████████████████████████████████████████████████████████████████████████▍         | 98818/103197 [11:28:09<13:39,  5.35it/s]"
     ]
    },
    {
     "name": "stdout",
     "output_type": "stream",
     "text": [
      "ENSG00000225032 failed\n",
      "ENSG00000225032 failed\n"
     ]
    },
    {
     "name": "stderr",
     "output_type": "stream",
     "text": [
      " 96%|███████████████████████████████████████████████████████████████████████████████████████████████████████████████████████████████████████████████████████████████████████████████████████████████████████████████████████▌         | 98856/103197 [11:28:23<24:45,  2.92it/s]"
     ]
    },
    {
     "name": "stdout",
     "output_type": "stream",
     "text": [
      "ENSG00000257524 failed\n"
     ]
    },
    {
     "name": "stderr",
     "output_type": "stream",
     "text": [
      " 99%|█████████████████████████████████████████████████████████████████████████████████████████████████████████████████████████████████████████████████████████████████████████████████████████████████████████████████████████████▋  | 102120/103197 [11:45:54<07:03,  2.54it/s]"
     ]
    },
    {
     "name": "stdout",
     "output_type": "stream",
     "text": [
      "ENSG00000244187 failed\n"
     ]
    },
    {
     "name": "stderr",
     "output_type": "stream",
     "text": [
      " 99%|█████████████████████████████████████████████████████████████████████████████████████████████████████████████████████████████████████████████████████████████████████████████████████████████████████████████████████████████▋  | 102153/103197 [11:46:09<07:17,  2.39it/s]"
     ]
    },
    {
     "name": "stdout",
     "output_type": "stream",
     "text": [
      "ENSG00000273066 failed\n"
     ]
    },
    {
     "name": "stderr",
     "output_type": "stream",
     "text": [
      "100%|████████████████████████████████████████████████████████████████████████████████████████████████████████████████████████████████████████████████████████████████████████████████████████████████████████████████████████████████| 103197/103197 [11:51:18<00:00,  2.42it/s]\n"
     ]
    }
   ],
   "source": [
    "results = {}\n",
    "\n",
    "for i in tqdm(range(df.shape[0])):\n",
    "    gene_ids = df['Gene_id'].iloc[i].split(',')\n",
    "    chrm = df['Chrom_x'].iloc[i]\n",
    "    jn_start = df['Start'].iloc[i]\n",
    "    jn_end = df['End_x'].iloc[i]\n",
    "\n",
    "    for gene_id in gene_ids:\n",
    "        try:\n",
    "            strand = gtf[gene_id][6]\n",
    "            gene_start,gene_end = gtf[gene_id][3],gtf[gene_id][4]\n",
    "\n",
    "            start,end = np.max([np.max([1,jn_start-CL_max//2-SL//2]),gene_start]),np.min([jn_end+CL_max//2+SL//2,gene_end])\n",
    "            if jn_start-start < 1:\n",
    "                start = np.max([1,jn_start-CL_max//2-SL//2])\n",
    "\n",
    "            tmp = gene_to_posistion[gene_id]\n",
    "            ctrl_loc_1 = np.random.randint(start, end+1) \n",
    "\n",
    "            while ctrl_loc_1 in tmp:\n",
    "                ctrl_loc_1 = np.random.randint(start, end+1) \n",
    "\n",
    "            tmp.add(ctrl_loc_1)\n",
    "\n",
    "            ctrl_loc_2 = np.random.randint(start, end+1) \n",
    "\n",
    "            while ctrl_loc_2 in tmp:\n",
    "                ctrl_loc_2 = np.random.randint(start, end+1) \n",
    "\n",
    "            ref = fasta[chrm][start-1:end].seq\n",
    "            ref_len2 = len(ref)\n",
    "            has_sQTL = df['ALT'].iloc[i] == df['ALT'].iloc[i]\n",
    "            if has_sQTL:\n",
    "                alt = ref\n",
    "                ref_s = df['REF'].iloc[i]\n",
    "                alt_s = df['ALT'].iloc[i]\n",
    "                pos = int(df['Pos'].iloc[i])\n",
    "                pos_s = pos-start\n",
    "                ref_len = len(ref_s)\n",
    "                alt_len = len(alt_s)\n",
    "\n",
    "                assert ref_s == ref[pos_s:(pos_s+ref_len)]\n",
    "                alt = alt[:pos_s]+alt_s+alt[(pos_s+ref_len):]\n",
    "                alt_align = np.arange(len(ref))\n",
    "                alt_align = np.concatenate([alt_align[:pos_s],np.repeat(pos_s,alt_len),alt_align[pos_s+ref_len:]])\n",
    "                alt_len2 = len(alt)\n",
    "                alt = seqToArray(alt,strand)\n",
    "                alt_prediction = predictSplicing(alt,models)[0,:,:alt_len2]\n",
    "\n",
    "            ref = seqToArray(ref,strand)\n",
    "            ref_prediction = predictSplicing(ref,models)[0,:,:ref_len2] \n",
    "            tmp = np.zeros_like(ref_prediction)\n",
    "\n",
    "            if strand=='-':\n",
    "                ref_prediction = ref_prediction[:,::-1]\n",
    "                acceptor_loc =jn_start-start\n",
    "                donor_loc = jn_end-start+1\n",
    "\n",
    "                if has_sQTL:\n",
    "                    alt_prediction = alt_prediction[:,::-1]\n",
    "                    alt_prediction = np.concatenate([alt_prediction[:,:pos_s],ref_prediction[:,pos_s:pos_s+ref_len],alt_prediction[:,pos_s+alt_len:]],axis=1)\n",
    "            else:\n",
    "                acceptor_loc = jn_end-start+1\n",
    "                donor_loc = jn_start-start\n",
    "\n",
    "\n",
    "                if has_sQTL:\n",
    "                    alt_prediction = np.concatenate([alt_prediction[:,:pos_s],ref_prediction[:,pos_s:pos_s+ref_len],alt_prediction[:,pos_s+alt_len:]],axis=1)\n",
    "\n",
    "            ref_acceptor = ref_prediction[1,acceptor_loc]\n",
    "            ref_donor = ref_prediction[2,donor_loc]\n",
    "\n",
    "            ctrl_loc_1 = ctrl_loc_1-start\n",
    "            ctrl_loc_2 = ctrl_loc_2-start\n",
    "\n",
    "            acceptor_control = ref_prediction[1,ctrl_loc_1]\n",
    "            donor_control = ref_prediction[2,ctrl_loc_2]\n",
    "\n",
    "            if has_sQTL:\n",
    "                #print('Alt prediction ({})'.format(df['ALT'].iloc[i]))\n",
    "                alt_acceptor = alt_prediction[1,acceptor_loc]\n",
    "                alt_donor = alt_prediction[2,donor_loc]\n",
    "                #print(alt_acceptor[acceptor_loc],alt_donor[donor_loc])\n",
    "            else:\n",
    "                alt_acceptor = float('nan')\n",
    "                alt_donor = float('nan')\n",
    "\n",
    "            results['{}_{}'.format(gene_id,df['splice_event_id'].iloc[i])] = [ref_acceptor,ref_donor,alt_acceptor,alt_donor,acceptor_control,donor_control]\n",
    "\n",
    "        except:\n",
    "            print('{} failed'.format(gene_id))"
   ]
  },
  {
   "cell_type": "code",
   "execution_count": 13,
   "id": "5f4eac26",
   "metadata": {},
   "outputs": [],
   "source": [
    "#with open('/odinn/tmp/benediktj/Data/SplicePrediction-050422/novel_splice_sites_spliceai.pkl', 'wb') as f:\n",
    "#    pickle.dump(results, f)"
   ]
  },
  {
   "cell_type": "code",
   "execution_count": 14,
   "id": "8ee22b1f",
   "metadata": {},
   "outputs": [],
   "source": [
    "import pandas as pd\n",
    "import matplotlib.pyplot as plt\n",
    "import pickle\n",
    "import numpy as np"
   ]
  },
  {
   "cell_type": "code",
   "execution_count": 15,
   "id": "57c07055",
   "metadata": {},
   "outputs": [],
   "source": [
    "#with open('/odinn/tmp/benediktj/Data/SplicePrediction-050422/novel_splice_sites_spliceai_gtex_3.pkl', 'wb') as f:\n",
    "#    pickle.dump(results, f)"
   ]
  },
  {
   "cell_type": "code",
   "execution_count": 2,
   "id": "0e2245b3",
   "metadata": {},
   "outputs": [],
   "source": [
    "#with open('/odinn/tmp/benediktj/Data/SplicePrediction-050422/novel_splice_sites_spliceai.pkl', 'rb') as f:\n",
    "#    splice_ai_results = pickle.load(f)"
   ]
  },
  {
   "cell_type": "code",
   "execution_count": 16,
   "id": "d05a5279",
   "metadata": {},
   "outputs": [],
   "source": [
    "splice_ai_results = results"
   ]
  },
  {
   "cell_type": "code",
   "execution_count": 75,
   "id": "e4e59f64",
   "metadata": {},
   "outputs": [],
   "source": [
    "df2 = pd.DataFrame(splice_ai_results).T\n",
    "df2.columns = ['ref_acceptor','ref_donor','alt_acceptor','alt_donor','acceptor_control','donor_control']\n",
    "#df2['max_acceptor'] = np.max(df2[['ref_acceptor','alt_acceptor']],axis=1)\n",
    "#df2['max_donor'] = np.max(df2[['ref_donor','alt_donor']],axis=1)\n",
    "#df2.index.name = 'splice_event_id'\n",
    "gene_id = [x.split('_')[0] for x in df2.index]\n",
    "splice_id = [x.split('_')[1] for x in df2.index]\n",
    "df2['gene_id'] = gene_id\n",
    "df2['splice_event_id'] = splice_id"
   ]
  },
  {
   "cell_type": "code",
   "execution_count": 76,
   "id": "62b5d9ec",
   "metadata": {},
   "outputs": [],
   "source": [
    "df1 = pd.read_csv('/odinn/users/gislih/RNA/requests/rna_paper/splice_anno/junction_db.tsv.gz', compression='gzip', sep='\\t')\n",
    "chroms = ['chr1', 'chr3', 'chr5', 'chr7', 'chr9']\n",
    "df1 = df1[df1.Chrom.isin(chroms)]"
   ]
  },
  {
   "cell_type": "code",
   "execution_count": 77,
   "id": "90ca552f",
   "metadata": {},
   "outputs": [],
   "source": [
    "df1['splice_event_id'] = ['{}:{}:{}'.format(df1.iloc[i,0],df1.iloc[i,1],df1.iloc[i,2]) for i in range(df1.shape[0])]"
   ]
  },
  {
   "cell_type": "code",
   "execution_count": 78,
   "id": "a96dc29c",
   "metadata": {},
   "outputs": [],
   "source": [
    "results = df2.merge(df1,on='splice_event_id')[['ref_acceptor','ref_donor','alt_acceptor','alt_donor','acceptor_control','donor_control','jct_sites']]"
   ]
  },
  {
   "cell_type": "code",
   "execution_count": 79,
   "id": "323d54f9",
   "metadata": {},
   "outputs": [
    {
     "data": {
      "text/html": [
       "<div>\n",
       "<style scoped>\n",
       "    .dataframe tbody tr th:only-of-type {\n",
       "        vertical-align: middle;\n",
       "    }\n",
       "\n",
       "    .dataframe tbody tr th {\n",
       "        vertical-align: top;\n",
       "    }\n",
       "\n",
       "    .dataframe thead th {\n",
       "        text-align: right;\n",
       "    }\n",
       "</style>\n",
       "<table border=\"1\" class=\"dataframe\">\n",
       "  <thead>\n",
       "    <tr style=\"text-align: right;\">\n",
       "      <th></th>\n",
       "      <th>ref_acceptor</th>\n",
       "      <th>ref_donor</th>\n",
       "      <th>alt_acceptor</th>\n",
       "      <th>alt_donor</th>\n",
       "      <th>acceptor_control</th>\n",
       "      <th>donor_control</th>\n",
       "      <th>jct_sites</th>\n",
       "    </tr>\n",
       "  </thead>\n",
       "  <tbody>\n",
       "    <tr>\n",
       "      <th>0</th>\n",
       "      <td>0.582287</td>\n",
       "      <td>0.452983</td>\n",
       "      <td>NaN</td>\n",
       "      <td>NaN</td>\n",
       "      <td>1.789570e-05</td>\n",
       "      <td>3.972185e-06</td>\n",
       "      <td>novel_acceptor</td>\n",
       "    </tr>\n",
       "    <tr>\n",
       "      <th>2</th>\n",
       "      <td>0.174033</td>\n",
       "      <td>0.870041</td>\n",
       "      <td>NaN</td>\n",
       "      <td>NaN</td>\n",
       "      <td>1.063890e-05</td>\n",
       "      <td>2.158629e-05</td>\n",
       "      <td>novel_acceptor</td>\n",
       "    </tr>\n",
       "    <tr>\n",
       "      <th>4</th>\n",
       "      <td>0.870234</td>\n",
       "      <td>0.870041</td>\n",
       "      <td>NaN</td>\n",
       "      <td>NaN</td>\n",
       "      <td>6.666431e-03</td>\n",
       "      <td>5.567859e-05</td>\n",
       "      <td>novel_acceptor</td>\n",
       "    </tr>\n",
       "    <tr>\n",
       "      <th>5</th>\n",
       "      <td>0.419114</td>\n",
       "      <td>0.870041</td>\n",
       "      <td>NaN</td>\n",
       "      <td>NaN</td>\n",
       "      <td>1.473783e-05</td>\n",
       "      <td>5.821061e-05</td>\n",
       "      <td>novel_acceptor</td>\n",
       "    </tr>\n",
       "    <tr>\n",
       "      <th>7</th>\n",
       "      <td>0.155258</td>\n",
       "      <td>0.528777</td>\n",
       "      <td>NaN</td>\n",
       "      <td>NaN</td>\n",
       "      <td>7.691026e-06</td>\n",
       "      <td>7.217854e-05</td>\n",
       "      <td>novel_acceptor</td>\n",
       "    </tr>\n",
       "    <tr>\n",
       "      <th>...</th>\n",
       "      <td>...</td>\n",
       "      <td>...</td>\n",
       "      <td>...</td>\n",
       "      <td>...</td>\n",
       "      <td>...</td>\n",
       "      <td>...</td>\n",
       "      <td>...</td>\n",
       "    </tr>\n",
       "    <tr>\n",
       "      <th>108559</th>\n",
       "      <td>0.899079</td>\n",
       "      <td>0.922662</td>\n",
       "      <td>NaN</td>\n",
       "      <td>NaN</td>\n",
       "      <td>3.360388e-08</td>\n",
       "      <td>3.529070e-07</td>\n",
       "      <td>novel_acceptor</td>\n",
       "    </tr>\n",
       "    <tr>\n",
       "      <th>108592</th>\n",
       "      <td>0.574085</td>\n",
       "      <td>0.976977</td>\n",
       "      <td>NaN</td>\n",
       "      <td>NaN</td>\n",
       "      <td>3.569737e-06</td>\n",
       "      <td>8.373760e-07</td>\n",
       "      <td>novel_acceptor</td>\n",
       "    </tr>\n",
       "    <tr>\n",
       "      <th>108612</th>\n",
       "      <td>0.941580</td>\n",
       "      <td>0.997686</td>\n",
       "      <td>NaN</td>\n",
       "      <td>NaN</td>\n",
       "      <td>6.912661e-03</td>\n",
       "      <td>3.871106e-07</td>\n",
       "      <td>novel_acceptor</td>\n",
       "    </tr>\n",
       "    <tr>\n",
       "      <th>108631</th>\n",
       "      <td>0.049422</td>\n",
       "      <td>0.997471</td>\n",
       "      <td>NaN</td>\n",
       "      <td>NaN</td>\n",
       "      <td>2.051030e-08</td>\n",
       "      <td>1.894825e-06</td>\n",
       "      <td>novel_acceptor</td>\n",
       "    </tr>\n",
       "    <tr>\n",
       "      <th>108638</th>\n",
       "      <td>0.502845</td>\n",
       "      <td>0.694504</td>\n",
       "      <td>NaN</td>\n",
       "      <td>NaN</td>\n",
       "      <td>4.393404e-06</td>\n",
       "      <td>1.606908e-06</td>\n",
       "      <td>novel_acceptor</td>\n",
       "    </tr>\n",
       "  </tbody>\n",
       "</table>\n",
       "<p>16488 rows × 7 columns</p>\n",
       "</div>"
      ],
      "text/plain": [
       "        ref_acceptor  ref_donor  alt_acceptor  alt_donor  acceptor_control  \\\n",
       "0           0.582287   0.452983           NaN        NaN      1.789570e-05   \n",
       "2           0.174033   0.870041           NaN        NaN      1.063890e-05   \n",
       "4           0.870234   0.870041           NaN        NaN      6.666431e-03   \n",
       "5           0.419114   0.870041           NaN        NaN      1.473783e-05   \n",
       "7           0.155258   0.528777           NaN        NaN      7.691026e-06   \n",
       "...              ...        ...           ...        ...               ...   \n",
       "108559      0.899079   0.922662           NaN        NaN      3.360388e-08   \n",
       "108592      0.574085   0.976977           NaN        NaN      3.569737e-06   \n",
       "108612      0.941580   0.997686           NaN        NaN      6.912661e-03   \n",
       "108631      0.049422   0.997471           NaN        NaN      2.051030e-08   \n",
       "108638      0.502845   0.694504           NaN        NaN      4.393404e-06   \n",
       "\n",
       "        donor_control       jct_sites  \n",
       "0        3.972185e-06  novel_acceptor  \n",
       "2        2.158629e-05  novel_acceptor  \n",
       "4        5.567859e-05  novel_acceptor  \n",
       "5        5.821061e-05  novel_acceptor  \n",
       "7        7.217854e-05  novel_acceptor  \n",
       "...               ...             ...  \n",
       "108559   3.529070e-07  novel_acceptor  \n",
       "108592   8.373760e-07  novel_acceptor  \n",
       "108612   3.871106e-07  novel_acceptor  \n",
       "108631   1.894825e-06  novel_acceptor  \n",
       "108638   1.606908e-06  novel_acceptor  \n",
       "\n",
       "[16488 rows x 7 columns]"
      ]
     },
     "execution_count": 79,
     "metadata": {},
     "output_type": "execute_result"
    }
   ],
   "source": [
    "results[results['jct_sites']=='novel_acceptor']"
   ]
  },
  {
   "cell_type": "code",
   "execution_count": 80,
   "id": "63f60b90",
   "metadata": {},
   "outputs": [],
   "source": [
    "results['max_acceptor'] = np.max(results[['ref_acceptor','alt_acceptor']],axis=1)\n",
    "results['max_donor'] = np.max(results[['ref_donor','alt_donor']],axis=1)"
   ]
  },
  {
   "cell_type": "code",
   "execution_count": 81,
   "id": "d6ef064c",
   "metadata": {},
   "outputs": [
    {
     "data": {
      "text/html": [
       "<div>\n",
       "<style scoped>\n",
       "    .dataframe tbody tr th:only-of-type {\n",
       "        vertical-align: middle;\n",
       "    }\n",
       "\n",
       "    .dataframe tbody tr th {\n",
       "        vertical-align: top;\n",
       "    }\n",
       "\n",
       "    .dataframe thead th {\n",
       "        text-align: right;\n",
       "    }\n",
       "</style>\n",
       "<table border=\"1\" class=\"dataframe\">\n",
       "  <thead>\n",
       "    <tr style=\"text-align: right;\">\n",
       "      <th></th>\n",
       "      <th>ref_acceptor</th>\n",
       "      <th>ref_donor</th>\n",
       "      <th>alt_acceptor</th>\n",
       "      <th>alt_donor</th>\n",
       "      <th>acceptor_control</th>\n",
       "      <th>donor_control</th>\n",
       "      <th>jct_sites</th>\n",
       "      <th>max_acceptor</th>\n",
       "      <th>max_donor</th>\n",
       "    </tr>\n",
       "  </thead>\n",
       "  <tbody>\n",
       "    <tr>\n",
       "      <th>46</th>\n",
       "      <td>0.093151</td>\n",
       "      <td>0.991830</td>\n",
       "      <td>0.308094</td>\n",
       "      <td>0.975834</td>\n",
       "      <td>6.523447e-06</td>\n",
       "      <td>1.086043e-07</td>\n",
       "      <td>novel_acceptor</td>\n",
       "      <td>0.308094</td>\n",
       "      <td>0.991830</td>\n",
       "    </tr>\n",
       "    <tr>\n",
       "      <th>47</th>\n",
       "      <td>0.005689</td>\n",
       "      <td>0.991830</td>\n",
       "      <td>0.021138</td>\n",
       "      <td>0.975834</td>\n",
       "      <td>1.927249e-03</td>\n",
       "      <td>8.340029e-04</td>\n",
       "      <td>novel_acceptor</td>\n",
       "      <td>0.021138</td>\n",
       "      <td>0.991830</td>\n",
       "    </tr>\n",
       "    <tr>\n",
       "      <th>62</th>\n",
       "      <td>0.102115</td>\n",
       "      <td>0.944034</td>\n",
       "      <td>0.104333</td>\n",
       "      <td>0.947199</td>\n",
       "      <td>1.019221e-06</td>\n",
       "      <td>7.575790e-06</td>\n",
       "      <td>novel_acceptor</td>\n",
       "      <td>0.104333</td>\n",
       "      <td>0.947199</td>\n",
       "    </tr>\n",
       "    <tr>\n",
       "      <th>81</th>\n",
       "      <td>0.435072</td>\n",
       "      <td>0.996093</td>\n",
       "      <td>0.836280</td>\n",
       "      <td>0.996100</td>\n",
       "      <td>2.654198e-05</td>\n",
       "      <td>1.238856e-06</td>\n",
       "      <td>novel_acceptor</td>\n",
       "      <td>0.836280</td>\n",
       "      <td>0.996100</td>\n",
       "    </tr>\n",
       "    <tr>\n",
       "      <th>82</th>\n",
       "      <td>0.045612</td>\n",
       "      <td>0.996093</td>\n",
       "      <td>0.065180</td>\n",
       "      <td>0.996095</td>\n",
       "      <td>4.075611e-06</td>\n",
       "      <td>2.923303e-05</td>\n",
       "      <td>novel_acceptor</td>\n",
       "      <td>0.065180</td>\n",
       "      <td>0.996095</td>\n",
       "    </tr>\n",
       "    <tr>\n",
       "      <th>...</th>\n",
       "      <td>...</td>\n",
       "      <td>...</td>\n",
       "      <td>...</td>\n",
       "      <td>...</td>\n",
       "      <td>...</td>\n",
       "      <td>...</td>\n",
       "      <td>...</td>\n",
       "      <td>...</td>\n",
       "      <td>...</td>\n",
       "    </tr>\n",
       "    <tr>\n",
       "      <th>108329</th>\n",
       "      <td>0.000087</td>\n",
       "      <td>0.989220</td>\n",
       "      <td>0.688816</td>\n",
       "      <td>0.988959</td>\n",
       "      <td>6.385772e-06</td>\n",
       "      <td>7.000745e-06</td>\n",
       "      <td>novel_acceptor</td>\n",
       "      <td>0.688816</td>\n",
       "      <td>0.989220</td>\n",
       "    </tr>\n",
       "    <tr>\n",
       "      <th>108398</th>\n",
       "      <td>0.188875</td>\n",
       "      <td>0.991679</td>\n",
       "      <td>0.184931</td>\n",
       "      <td>0.991649</td>\n",
       "      <td>5.803417e-07</td>\n",
       "      <td>1.920234e-05</td>\n",
       "      <td>novel_acceptor</td>\n",
       "      <td>0.188875</td>\n",
       "      <td>0.991679</td>\n",
       "    </tr>\n",
       "    <tr>\n",
       "      <th>108413</th>\n",
       "      <td>0.084549</td>\n",
       "      <td>0.983961</td>\n",
       "      <td>0.034729</td>\n",
       "      <td>0.983961</td>\n",
       "      <td>5.694833e-06</td>\n",
       "      <td>1.660726e-06</td>\n",
       "      <td>novel_acceptor</td>\n",
       "      <td>0.084549</td>\n",
       "      <td>0.983961</td>\n",
       "    </tr>\n",
       "    <tr>\n",
       "      <th>108448</th>\n",
       "      <td>0.000037</td>\n",
       "      <td>0.982457</td>\n",
       "      <td>0.179672</td>\n",
       "      <td>0.983885</td>\n",
       "      <td>8.976851e-06</td>\n",
       "      <td>7.538692e-06</td>\n",
       "      <td>novel_acceptor</td>\n",
       "      <td>0.179672</td>\n",
       "      <td>0.983885</td>\n",
       "    </tr>\n",
       "    <tr>\n",
       "      <th>108503</th>\n",
       "      <td>0.271255</td>\n",
       "      <td>0.997093</td>\n",
       "      <td>0.271255</td>\n",
       "      <td>0.997093</td>\n",
       "      <td>4.831698e-09</td>\n",
       "      <td>1.484919e-06</td>\n",
       "      <td>novel_acceptor</td>\n",
       "      <td>0.271255</td>\n",
       "      <td>0.997093</td>\n",
       "    </tr>\n",
       "  </tbody>\n",
       "</table>\n",
       "<p>1752 rows × 9 columns</p>\n",
       "</div>"
      ],
      "text/plain": [
       "        ref_acceptor  ref_donor  alt_acceptor  alt_donor  acceptor_control  \\\n",
       "46          0.093151   0.991830      0.308094   0.975834      6.523447e-06   \n",
       "47          0.005689   0.991830      0.021138   0.975834      1.927249e-03   \n",
       "62          0.102115   0.944034      0.104333   0.947199      1.019221e-06   \n",
       "81          0.435072   0.996093      0.836280   0.996100      2.654198e-05   \n",
       "82          0.045612   0.996093      0.065180   0.996095      4.075611e-06   \n",
       "...              ...        ...           ...        ...               ...   \n",
       "108329      0.000087   0.989220      0.688816   0.988959      6.385772e-06   \n",
       "108398      0.188875   0.991679      0.184931   0.991649      5.803417e-07   \n",
       "108413      0.084549   0.983961      0.034729   0.983961      5.694833e-06   \n",
       "108448      0.000037   0.982457      0.179672   0.983885      8.976851e-06   \n",
       "108503      0.271255   0.997093      0.271255   0.997093      4.831698e-09   \n",
       "\n",
       "        donor_control       jct_sites  max_acceptor  max_donor  \n",
       "46       1.086043e-07  novel_acceptor      0.308094   0.991830  \n",
       "47       8.340029e-04  novel_acceptor      0.021138   0.991830  \n",
       "62       7.575790e-06  novel_acceptor      0.104333   0.947199  \n",
       "81       1.238856e-06  novel_acceptor      0.836280   0.996100  \n",
       "82       2.923303e-05  novel_acceptor      0.065180   0.996095  \n",
       "...               ...             ...           ...        ...  \n",
       "108329   7.000745e-06  novel_acceptor      0.688816   0.989220  \n",
       "108398   1.920234e-05  novel_acceptor      0.188875   0.991679  \n",
       "108413   1.660726e-06  novel_acceptor      0.084549   0.983961  \n",
       "108448   7.538692e-06  novel_acceptor      0.179672   0.983885  \n",
       "108503   1.484919e-06  novel_acceptor      0.271255   0.997093  \n",
       "\n",
       "[1752 rows x 9 columns]"
      ]
     },
     "execution_count": 81,
     "metadata": {},
     "output_type": "execute_result"
    }
   ],
   "source": [
    "results[results['jct_sites']=='novel_acceptor'].dropna()"
   ]
  },
  {
   "cell_type": "code",
   "execution_count": 82,
   "id": "0f58aad2",
   "metadata": {},
   "outputs": [
    {
     "data": {
      "text/html": [
       "<div>\n",
       "<style scoped>\n",
       "    .dataframe tbody tr th:only-of-type {\n",
       "        vertical-align: middle;\n",
       "    }\n",
       "\n",
       "    .dataframe tbody tr th {\n",
       "        vertical-align: top;\n",
       "    }\n",
       "\n",
       "    .dataframe thead th {\n",
       "        text-align: right;\n",
       "    }\n",
       "</style>\n",
       "<table border=\"1\" class=\"dataframe\">\n",
       "  <thead>\n",
       "    <tr style=\"text-align: right;\">\n",
       "      <th></th>\n",
       "      <th>ref_acceptor</th>\n",
       "      <th>ref_donor</th>\n",
       "      <th>alt_acceptor</th>\n",
       "      <th>alt_donor</th>\n",
       "      <th>acceptor_control</th>\n",
       "      <th>donor_control</th>\n",
       "      <th>jct_sites</th>\n",
       "      <th>max_acceptor</th>\n",
       "      <th>max_donor</th>\n",
       "    </tr>\n",
       "  </thead>\n",
       "  <tbody>\n",
       "    <tr>\n",
       "      <th>55</th>\n",
       "      <td>0.996107</td>\n",
       "      <td>0.000036</td>\n",
       "      <td>0.996129</td>\n",
       "      <td>0.000036</td>\n",
       "      <td>9.592663e-07</td>\n",
       "      <td>2.109230e-07</td>\n",
       "      <td>novel_donor</td>\n",
       "      <td>0.996129</td>\n",
       "      <td>0.000036</td>\n",
       "    </tr>\n",
       "    <tr>\n",
       "      <th>94</th>\n",
       "      <td>0.942179</td>\n",
       "      <td>0.131267</td>\n",
       "      <td>0.939975</td>\n",
       "      <td>0.129903</td>\n",
       "      <td>5.374162e-05</td>\n",
       "      <td>4.397110e-06</td>\n",
       "      <td>novel_donor</td>\n",
       "      <td>0.942179</td>\n",
       "      <td>0.131267</td>\n",
       "    </tr>\n",
       "    <tr>\n",
       "      <th>187</th>\n",
       "      <td>0.939039</td>\n",
       "      <td>0.001949</td>\n",
       "      <td>0.949322</td>\n",
       "      <td>0.986212</td>\n",
       "      <td>1.900510e-05</td>\n",
       "      <td>1.422397e-05</td>\n",
       "      <td>novel_donor</td>\n",
       "      <td>0.949322</td>\n",
       "      <td>0.986212</td>\n",
       "    </tr>\n",
       "    <tr>\n",
       "      <th>299</th>\n",
       "      <td>0.986667</td>\n",
       "      <td>0.199314</td>\n",
       "      <td>0.986534</td>\n",
       "      <td>0.249807</td>\n",
       "      <td>1.487039e-06</td>\n",
       "      <td>8.679519e-06</td>\n",
       "      <td>novel_donor</td>\n",
       "      <td>0.986667</td>\n",
       "      <td>0.249807</td>\n",
       "    </tr>\n",
       "    <tr>\n",
       "      <th>316</th>\n",
       "      <td>0.990561</td>\n",
       "      <td>0.264166</td>\n",
       "      <td>0.994895</td>\n",
       "      <td>0.276545</td>\n",
       "      <td>1.797767e-06</td>\n",
       "      <td>3.413066e-06</td>\n",
       "      <td>novel_donor</td>\n",
       "      <td>0.994895</td>\n",
       "      <td>0.276545</td>\n",
       "    </tr>\n",
       "    <tr>\n",
       "      <th>...</th>\n",
       "      <td>...</td>\n",
       "      <td>...</td>\n",
       "      <td>...</td>\n",
       "      <td>...</td>\n",
       "      <td>...</td>\n",
       "      <td>...</td>\n",
       "      <td>...</td>\n",
       "      <td>...</td>\n",
       "      <td>...</td>\n",
       "    </tr>\n",
       "    <tr>\n",
       "      <th>108197</th>\n",
       "      <td>0.997193</td>\n",
       "      <td>0.285317</td>\n",
       "      <td>0.997250</td>\n",
       "      <td>0.282038</td>\n",
       "      <td>3.675941e-08</td>\n",
       "      <td>1.515069e-07</td>\n",
       "      <td>novel_donor</td>\n",
       "      <td>0.997250</td>\n",
       "      <td>0.285317</td>\n",
       "    </tr>\n",
       "    <tr>\n",
       "      <th>108243</th>\n",
       "      <td>0.989170</td>\n",
       "      <td>0.655586</td>\n",
       "      <td>0.988726</td>\n",
       "      <td>0.655329</td>\n",
       "      <td>7.667629e-06</td>\n",
       "      <td>8.938438e-06</td>\n",
       "      <td>novel_donor</td>\n",
       "      <td>0.989170</td>\n",
       "      <td>0.655586</td>\n",
       "    </tr>\n",
       "    <tr>\n",
       "      <th>108269</th>\n",
       "      <td>0.988009</td>\n",
       "      <td>0.440315</td>\n",
       "      <td>0.983324</td>\n",
       "      <td>0.789458</td>\n",
       "      <td>1.545770e-06</td>\n",
       "      <td>1.708416e-05</td>\n",
       "      <td>novel_donor</td>\n",
       "      <td>0.988009</td>\n",
       "      <td>0.789458</td>\n",
       "    </tr>\n",
       "    <tr>\n",
       "      <th>108526</th>\n",
       "      <td>0.816515</td>\n",
       "      <td>0.037679</td>\n",
       "      <td>0.816515</td>\n",
       "      <td>0.037757</td>\n",
       "      <td>4.645703e-08</td>\n",
       "      <td>7.254333e-07</td>\n",
       "      <td>novel_donor</td>\n",
       "      <td>0.816515</td>\n",
       "      <td>0.037757</td>\n",
       "    </tr>\n",
       "    <tr>\n",
       "      <th>108527</th>\n",
       "      <td>0.748734</td>\n",
       "      <td>0.037679</td>\n",
       "      <td>0.748734</td>\n",
       "      <td>0.037757</td>\n",
       "      <td>2.164731e-06</td>\n",
       "      <td>2.466962e-06</td>\n",
       "      <td>novel_donor</td>\n",
       "      <td>0.748734</td>\n",
       "      <td>0.037757</td>\n",
       "    </tr>\n",
       "  </tbody>\n",
       "</table>\n",
       "<p>1532 rows × 9 columns</p>\n",
       "</div>"
      ],
      "text/plain": [
       "        ref_acceptor  ref_donor  alt_acceptor  alt_donor  acceptor_control  \\\n",
       "55          0.996107   0.000036      0.996129   0.000036      9.592663e-07   \n",
       "94          0.942179   0.131267      0.939975   0.129903      5.374162e-05   \n",
       "187         0.939039   0.001949      0.949322   0.986212      1.900510e-05   \n",
       "299         0.986667   0.199314      0.986534   0.249807      1.487039e-06   \n",
       "316         0.990561   0.264166      0.994895   0.276545      1.797767e-06   \n",
       "...              ...        ...           ...        ...               ...   \n",
       "108197      0.997193   0.285317      0.997250   0.282038      3.675941e-08   \n",
       "108243      0.989170   0.655586      0.988726   0.655329      7.667629e-06   \n",
       "108269      0.988009   0.440315      0.983324   0.789458      1.545770e-06   \n",
       "108526      0.816515   0.037679      0.816515   0.037757      4.645703e-08   \n",
       "108527      0.748734   0.037679      0.748734   0.037757      2.164731e-06   \n",
       "\n",
       "        donor_control    jct_sites  max_acceptor  max_donor  \n",
       "55       2.109230e-07  novel_donor      0.996129   0.000036  \n",
       "94       4.397110e-06  novel_donor      0.942179   0.131267  \n",
       "187      1.422397e-05  novel_donor      0.949322   0.986212  \n",
       "299      8.679519e-06  novel_donor      0.986667   0.249807  \n",
       "316      3.413066e-06  novel_donor      0.994895   0.276545  \n",
       "...               ...          ...           ...        ...  \n",
       "108197   1.515069e-07  novel_donor      0.997250   0.285317  \n",
       "108243   8.938438e-06  novel_donor      0.989170   0.655586  \n",
       "108269   1.708416e-05  novel_donor      0.988009   0.789458  \n",
       "108526   7.254333e-07  novel_donor      0.816515   0.037757  \n",
       "108527   2.466962e-06  novel_donor      0.748734   0.037757  \n",
       "\n",
       "[1532 rows x 9 columns]"
      ]
     },
     "execution_count": 82,
     "metadata": {},
     "output_type": "execute_result"
    }
   ],
   "source": [
    "results[results['jct_sites']=='novel_donor'].dropna()"
   ]
  },
  {
   "cell_type": "code",
   "execution_count": 83,
   "id": "b8096bd5",
   "metadata": {},
   "outputs": [
    {
     "data": {
      "text/html": [
       "<div>\n",
       "<style scoped>\n",
       "    .dataframe tbody tr th:only-of-type {\n",
       "        vertical-align: middle;\n",
       "    }\n",
       "\n",
       "    .dataframe tbody tr th {\n",
       "        vertical-align: top;\n",
       "    }\n",
       "\n",
       "    .dataframe thead th {\n",
       "        text-align: right;\n",
       "    }\n",
       "</style>\n",
       "<table border=\"1\" class=\"dataframe\">\n",
       "  <thead>\n",
       "    <tr style=\"text-align: right;\">\n",
       "      <th></th>\n",
       "      <th>ref_acceptor</th>\n",
       "      <th>ref_donor</th>\n",
       "      <th>alt_acceptor</th>\n",
       "      <th>alt_donor</th>\n",
       "      <th>acceptor_control</th>\n",
       "      <th>donor_control</th>\n",
       "      <th>jct_sites</th>\n",
       "      <th>max_acceptor</th>\n",
       "      <th>max_donor</th>\n",
       "    </tr>\n",
       "  </thead>\n",
       "  <tbody>\n",
       "    <tr>\n",
       "      <th>214</th>\n",
       "      <td>1.750072e-04</td>\n",
       "      <td>2.955346e-05</td>\n",
       "      <td>1.865063e-04</td>\n",
       "      <td>2.958627e-05</td>\n",
       "      <td>1.664846e-05</td>\n",
       "      <td>8.527142e-04</td>\n",
       "      <td>both_novel</td>\n",
       "      <td>1.865063e-04</td>\n",
       "      <td>2.958627e-05</td>\n",
       "    </tr>\n",
       "    <tr>\n",
       "      <th>259</th>\n",
       "      <td>4.181186e-07</td>\n",
       "      <td>6.450345e-08</td>\n",
       "      <td>4.313776e-07</td>\n",
       "      <td>7.648155e-08</td>\n",
       "      <td>1.246497e-08</td>\n",
       "      <td>8.222160e-07</td>\n",
       "      <td>both_novel</td>\n",
       "      <td>4.313776e-07</td>\n",
       "      <td>7.648155e-08</td>\n",
       "    </tr>\n",
       "    <tr>\n",
       "      <th>633</th>\n",
       "      <td>1.935557e-02</td>\n",
       "      <td>2.846334e-01</td>\n",
       "      <td>1.284106e-02</td>\n",
       "      <td>3.472112e-01</td>\n",
       "      <td>3.435647e-07</td>\n",
       "      <td>6.692910e-07</td>\n",
       "      <td>both_novel</td>\n",
       "      <td>1.935557e-02</td>\n",
       "      <td>3.472112e-01</td>\n",
       "    </tr>\n",
       "    <tr>\n",
       "      <th>768</th>\n",
       "      <td>3.799560e-05</td>\n",
       "      <td>3.104571e-04</td>\n",
       "      <td>3.797151e-05</td>\n",
       "      <td>2.641126e-04</td>\n",
       "      <td>7.366104e-06</td>\n",
       "      <td>1.132860e-05</td>\n",
       "      <td>both_novel</td>\n",
       "      <td>3.799560e-05</td>\n",
       "      <td>3.104571e-04</td>\n",
       "    </tr>\n",
       "    <tr>\n",
       "      <th>770</th>\n",
       "      <td>1.618667e-05</td>\n",
       "      <td>3.104571e-04</td>\n",
       "      <td>1.582389e-05</td>\n",
       "      <td>2.641126e-04</td>\n",
       "      <td>5.165134e-05</td>\n",
       "      <td>6.546397e-07</td>\n",
       "      <td>both_novel</td>\n",
       "      <td>1.618667e-05</td>\n",
       "      <td>3.104571e-04</td>\n",
       "    </tr>\n",
       "    <tr>\n",
       "      <th>...</th>\n",
       "      <td>...</td>\n",
       "      <td>...</td>\n",
       "      <td>...</td>\n",
       "      <td>...</td>\n",
       "      <td>...</td>\n",
       "      <td>...</td>\n",
       "      <td>...</td>\n",
       "      <td>...</td>\n",
       "      <td>...</td>\n",
       "    </tr>\n",
       "    <tr>\n",
       "      <th>106996</th>\n",
       "      <td>4.099296e-06</td>\n",
       "      <td>4.272868e-04</td>\n",
       "      <td>4.099296e-06</td>\n",
       "      <td>4.270056e-04</td>\n",
       "      <td>2.136994e-06</td>\n",
       "      <td>1.519973e-06</td>\n",
       "      <td>both_novel</td>\n",
       "      <td>4.099296e-06</td>\n",
       "      <td>4.272868e-04</td>\n",
       "    </tr>\n",
       "    <tr>\n",
       "      <th>107005</th>\n",
       "      <td>1.548181e-01</td>\n",
       "      <td>1.469385e-01</td>\n",
       "      <td>1.097929e-01</td>\n",
       "      <td>2.080169e-01</td>\n",
       "      <td>4.543274e-05</td>\n",
       "      <td>3.504998e-06</td>\n",
       "      <td>both_novel</td>\n",
       "      <td>1.548181e-01</td>\n",
       "      <td>2.080169e-01</td>\n",
       "    </tr>\n",
       "    <tr>\n",
       "      <th>107019</th>\n",
       "      <td>6.009656e-02</td>\n",
       "      <td>9.826436e-02</td>\n",
       "      <td>5.801845e-02</td>\n",
       "      <td>9.843174e-02</td>\n",
       "      <td>7.293419e-05</td>\n",
       "      <td>2.308628e-04</td>\n",
       "      <td>both_novel</td>\n",
       "      <td>6.009656e-02</td>\n",
       "      <td>9.843174e-02</td>\n",
       "    </tr>\n",
       "    <tr>\n",
       "      <th>107826</th>\n",
       "      <td>1.355576e-01</td>\n",
       "      <td>3.853438e-02</td>\n",
       "      <td>1.107802e-01</td>\n",
       "      <td>4.595457e-02</td>\n",
       "      <td>1.621091e-06</td>\n",
       "      <td>9.722312e-07</td>\n",
       "      <td>both_novel</td>\n",
       "      <td>1.355576e-01</td>\n",
       "      <td>4.595457e-02</td>\n",
       "    </tr>\n",
       "    <tr>\n",
       "      <th>107827</th>\n",
       "      <td>1.102689e-05</td>\n",
       "      <td>1.020035e-05</td>\n",
       "      <td>1.068793e-05</td>\n",
       "      <td>9.588882e-06</td>\n",
       "      <td>3.153928e-07</td>\n",
       "      <td>9.090195e-06</td>\n",
       "      <td>both_novel</td>\n",
       "      <td>1.102689e-05</td>\n",
       "      <td>1.020035e-05</td>\n",
       "    </tr>\n",
       "  </tbody>\n",
       "</table>\n",
       "<p>458 rows × 9 columns</p>\n",
       "</div>"
      ],
      "text/plain": [
       "        ref_acceptor     ref_donor  alt_acceptor     alt_donor  \\\n",
       "214     1.750072e-04  2.955346e-05  1.865063e-04  2.958627e-05   \n",
       "259     4.181186e-07  6.450345e-08  4.313776e-07  7.648155e-08   \n",
       "633     1.935557e-02  2.846334e-01  1.284106e-02  3.472112e-01   \n",
       "768     3.799560e-05  3.104571e-04  3.797151e-05  2.641126e-04   \n",
       "770     1.618667e-05  3.104571e-04  1.582389e-05  2.641126e-04   \n",
       "...              ...           ...           ...           ...   \n",
       "106996  4.099296e-06  4.272868e-04  4.099296e-06  4.270056e-04   \n",
       "107005  1.548181e-01  1.469385e-01  1.097929e-01  2.080169e-01   \n",
       "107019  6.009656e-02  9.826436e-02  5.801845e-02  9.843174e-02   \n",
       "107826  1.355576e-01  3.853438e-02  1.107802e-01  4.595457e-02   \n",
       "107827  1.102689e-05  1.020035e-05  1.068793e-05  9.588882e-06   \n",
       "\n",
       "        acceptor_control  donor_control   jct_sites  max_acceptor  \\\n",
       "214         1.664846e-05   8.527142e-04  both_novel  1.865063e-04   \n",
       "259         1.246497e-08   8.222160e-07  both_novel  4.313776e-07   \n",
       "633         3.435647e-07   6.692910e-07  both_novel  1.935557e-02   \n",
       "768         7.366104e-06   1.132860e-05  both_novel  3.799560e-05   \n",
       "770         5.165134e-05   6.546397e-07  both_novel  1.618667e-05   \n",
       "...                  ...            ...         ...           ...   \n",
       "106996      2.136994e-06   1.519973e-06  both_novel  4.099296e-06   \n",
       "107005      4.543274e-05   3.504998e-06  both_novel  1.548181e-01   \n",
       "107019      7.293419e-05   2.308628e-04  both_novel  6.009656e-02   \n",
       "107826      1.621091e-06   9.722312e-07  both_novel  1.355576e-01   \n",
       "107827      3.153928e-07   9.090195e-06  both_novel  1.102689e-05   \n",
       "\n",
       "           max_donor  \n",
       "214     2.958627e-05  \n",
       "259     7.648155e-08  \n",
       "633     3.472112e-01  \n",
       "768     3.104571e-04  \n",
       "770     3.104571e-04  \n",
       "...              ...  \n",
       "106996  4.272868e-04  \n",
       "107005  2.080169e-01  \n",
       "107019  9.843174e-02  \n",
       "107826  4.595457e-02  \n",
       "107827  1.020035e-05  \n",
       "\n",
       "[458 rows x 9 columns]"
      ]
     },
     "execution_count": 83,
     "metadata": {},
     "output_type": "execute_result"
    }
   ],
   "source": [
    "results[results['jct_sites']=='both_novel'].dropna()"
   ]
  },
  {
   "cell_type": "code",
   "execution_count": 84,
   "id": "21a39ebd",
   "metadata": {},
   "outputs": [],
   "source": [
    "jct_type = results[results['jct_sites']=='novel_acceptor']\n",
    "novel_acceptor_ratio = np.sum(jct_type['max_acceptor']>0.1)/jct_type.shape[0]"
   ]
  },
  {
   "cell_type": "code",
   "execution_count": 85,
   "id": "d65c4427",
   "metadata": {},
   "outputs": [],
   "source": [
    "jct_type = results[results['jct_sites']=='novel_donor']\n",
    "novel_donor_ratio = np.sum(jct_type['max_donor']>0.1)/jct_type.shape[0]"
   ]
  },
  {
   "cell_type": "code",
   "execution_count": 86,
   "id": "807e90c3",
   "metadata": {},
   "outputs": [],
   "source": [
    "jct_type = results[results['jct_sites']=='both_novel']\n",
    "both_novel_acceptor_ratio = np.sum(jct_type['max_acceptor']>0.1)/jct_type.shape[0]"
   ]
  },
  {
   "cell_type": "code",
   "execution_count": 87,
   "id": "5f8cf657",
   "metadata": {},
   "outputs": [],
   "source": [
    "jct_type = results[results['jct_sites']=='both_novel']\n",
    "both_novel_donor_ratio = np.sum(jct_type['max_donor']>0.1)/jct_type.shape[0]"
   ]
  },
  {
   "cell_type": "code",
   "execution_count": 88,
   "id": "ed92f9dd",
   "metadata": {},
   "outputs": [],
   "source": [
    "jct_type = results[results['jct_sites']=='both_annotated']\n",
    "both_annotated_acceptor_ratio = np.sum(jct_type['max_acceptor']>0.1)/jct_type.shape[0]"
   ]
  },
  {
   "cell_type": "code",
   "execution_count": 89,
   "id": "452372cb",
   "metadata": {},
   "outputs": [],
   "source": [
    "jct_type = results[results['jct_sites']=='both_annotated']\n",
    "both_annotated_donor_ratio = np.sum(jct_type['max_donor']>0.1)/jct_type.shape[0]"
   ]
  },
  {
   "cell_type": "code",
   "execution_count": 90,
   "id": "5236cb82",
   "metadata": {},
   "outputs": [
    {
     "data": {
      "image/png": "[encoded data removed]",
      "text/plain": [
       "<Figure size 432x288 with 1 Axes>"
      ]
     },
     "metadata": {
      "needs_background": "light"
     },
     "output_type": "display_data"
    }
   ],
   "source": [
    "plt.bar(['Annotated (acceptor)','Annotated (donor)','Novel acceptor','Novel donor'],[both_annotated_acceptor_ratio,both_annotated_donor_ratio,novel_acceptor_ratio,novel_donor_ratio])\n",
    "plt.xticks(rotation=30)\n",
    "plt.yticks(np.linspace(0,1,11))\n",
    "plt.ylabel('True positive rate')\n",
    "plt.show()"
   ]
  },
  {
   "cell_type": "code",
   "execution_count": 130,
   "id": "101f0aea",
   "metadata": {},
   "outputs": [],
   "source": [
    "from sklearn.metrics import roc_curve,precision_recall_curve,roc_auc_score,average_precision_score,confusion_matrix\n",
    "def getROCplot(y_test,  y_pred_proba,label):\n",
    "    fpr, tpr, _ = roc_curve(y_test,  y_pred_proba)\n",
    "    auc = roc_auc_score(y_test, y_pred_proba)\n",
    "\n",
    "    #create ROC curve\n",
    "    plt.plot(fpr,tpr,label=label+f\" (AUC={auc:.3f})\")\n",
    "    plt.ylabel('True Positive Rate')\n",
    "    plt.xlabel('False Positive Rate')\n",
    "    plt.legend(loc=4)\n",
    "    \n",
    "def getPRCplot(y_test,  y_pred_proba,label):\n",
    "    precision, recall, _ = precision_recall_curve(y_test,  y_pred_proba)\n",
    "    auc = average_precision_score(y_test, y_pred_proba)\n",
    "\n",
    "    #create ROC curve\n",
    "    plt.plot(precision, recall,label=label+f\" (AUC={auc:.3f})\")\n",
    "    plt.ylabel('True Positive Rate')\n",
    "    plt.xlabel('False Positive Rate')\n",
    "    plt.legend(loc=4)\n"
   ]
  },
  {
   "cell_type": "code",
   "execution_count": 143,
   "id": "907f12c7",
   "metadata": {},
   "outputs": [
    {
     "name": "stdout",
     "output_type": "stream",
     "text": [
      "[[16478    10]\n",
      " [ 6382 10106]]\n",
      "[[7.20822397e-01 9.88533017e-04]\n",
      " [2.79177603e-01 9.99011467e-01]]\n",
      "[[13248     7]\n",
      " [ 4536  8719]]\n",
      "[[7.44939271e-01 8.02200321e-04]\n",
      " [2.55060729e-01 9.99197800e-01]]\n"
     ]
    },
    {
     "data": {
      "image/png": "[encoded data removed]",
      "text/plain": [
       "<Figure size 432x288 with 1 Axes>"
      ]
     },
     "metadata": {
      "needs_background": "light"
     },
     "output_type": "display_data"
    }
   ],
   "source": [
    "label = \"novel_acceptor\"\n",
    "jct_type = results[results['jct_sites']==label]\n",
    "y_test = np.concatenate([np.ones(jct_type.shape[0]),np.zeros(jct_type.shape[0])],0)\n",
    "y_pred_proba = np.concatenate([jct_type.max_acceptor.values,jct_type.acceptor_control.values],0)\n",
    "print(confusion_matrix(y_test, y_pred_proba>=0.1))\n",
    "print(confusion_matrix(y_test, y_pred_proba>=0.1,normalize='pred'))\n",
    "getROCplot(y_test,  y_pred_proba,label)\n",
    "label = \"novel_donor\"\n",
    "jct_type = results[results['jct_sites']==label]\n",
    "y_test = np.concatenate([np.ones(jct_type.shape[0]),np.zeros(jct_type.shape[0])],0)\n",
    "y_pred_proba = np.concatenate([jct_type.max_donor.values,jct_type.donor_control.values],0)\n",
    "print(confusion_matrix(y_test, y_pred_proba>=0.1))\n",
    "print(confusion_matrix(y_test, y_pred_proba>=0.1,normalize='pred'))\n",
    "getROCplot(y_test,  y_pred_proba,label)\n",
    "plt.show()"
   ]
  }
 ],
 "metadata": {
  "kernelspec": {
   "display_name": "Python 3 (ipykernel)",
   "language": "python",
   "name": "python3"
  },
  "language_info": {
   "codemirror_mode": {
    "name": "ipython",
    "version": 3
   },
   "file_extension": ".py",
   "mimetype": "text/x-python",
   "name": "python",
   "nbconvert_exporter": "python",
   "pygments_lexer": "ipython3",
   "version": "3.8.12"
  }
 },
 "nbformat": 4,
 "nbformat_minor": 5
}
