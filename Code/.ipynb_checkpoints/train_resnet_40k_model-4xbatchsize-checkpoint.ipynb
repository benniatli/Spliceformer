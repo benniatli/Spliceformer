{
 "cells": [
  {
   "cell_type": "code",
   "execution_count": 1,
   "metadata": {},
   "outputs": [],
   "source": [
    "import numpy as np\n",
    "import sys\n",
    "import time\n",
    "import h5py\n",
    "from tqdm import tqdm\n",
    "\n",
    "import numpy as np\n",
    "import re\n",
    "from math import ceil\n",
    "from sklearn.metrics import average_precision_score\n",
    "from torch.utils.data import Dataset\n",
    "import torch\n",
    "import torch.nn as nn\n",
    "import pandas as pd\n",
    "import matplotlib.pyplot as plt\n",
    "import pickle\n",
    "#import pickle5 as pickle\n",
    "\n",
    "from sklearn.model_selection import train_test_split\n",
    "\n",
    "from scipy.sparse import load_npz\n",
    "from glob import glob\n",
    "\n",
    "from transformers import get_constant_schedule_with_warmup\n",
    "from sklearn.metrics import precision_score,recall_score,accuracy_score\n",
    "import copy\n",
    "\n",
    "from src.train import trainModel\n",
    "from src.dataloader import getData,spliceDataset,h5pyDataset,collate_fn\n",
    "from src.weight_init import keras_init\n",
    "from src.losses import categorical_crossentropy_2d\n",
    "from src.models import ResNet_40K\n",
    "from src.evaluation_metrics import print_topl_statistics\n",
    "#import tensorflow as tf"
   ]
  },
  {
   "cell_type": "code",
   "execution_count": 2,
   "metadata": {},
   "outputs": [
    {
     "name": "stdout",
     "output_type": "stream",
     "text": [
      "Sun May 15 21:02:28 2022       \n",
      "+-----------------------------------------------------------------------------+\n",
      "| NVIDIA-SMI 450.80.02    Driver Version: 450.80.02    CUDA Version: 11.4     |\n",
      "|-------------------------------+----------------------+----------------------+\n",
      "| GPU  Name        Persistence-M| Bus-Id        Disp.A | Volatile Uncorr. ECC |\n",
      "| Fan  Temp  Perf  Pwr:Usage/Cap|         Memory-Usage | GPU-Util  Compute M. |\n",
      "|                               |                      |               MIG M. |\n",
      "|===============================+======================+======================|\n",
      "|   0  Tesla V100-SXM2...  On   | 00000000:06:00.0 Off |                    0 |\n",
      "| N/A   35C    P0    57W / 300W |      0MiB / 32510MiB |      0%      Default |\n",
      "|                               |                      |                  N/A |\n",
      "+-------------------------------+----------------------+----------------------+\n",
      "|   1  Tesla V100-SXM2...  On   | 00000000:07:00.0 Off |                    0 |\n",
      "| N/A   35C    P0    44W / 300W |      0MiB / 32510MiB |      0%      Default |\n",
      "|                               |                      |                  N/A |\n",
      "+-------------------------------+----------------------+----------------------+\n",
      "|   2  Tesla V100-SXM2...  On   | 00000000:0A:00.0 Off |                    0 |\n",
      "| N/A   35C    P0    44W / 300W |      0MiB / 32510MiB |      0%      Default |\n",
      "|                               |                      |                  N/A |\n",
      "+-------------------------------+----------------------+----------------------+\n",
      "|   3  Tesla V100-SXM2...  On   | 00000000:0B:00.0 Off |                    0 |\n",
      "| N/A   31C    P0    43W / 300W |      0MiB / 32510MiB |      0%      Default |\n",
      "|                               |                      |                  N/A |\n",
      "+-------------------------------+----------------------+----------------------+\n",
      "|   4  Tesla V100-SXM2...  On   | 00000000:85:00.0 Off |                    0 |\n",
      "| N/A   32C    P0    44W / 300W |      0MiB / 32510MiB |      0%      Default |\n",
      "|                               |                      |                  N/A |\n",
      "+-------------------------------+----------------------+----------------------+\n",
      "|   5  Tesla V100-SXM2...  On   | 00000000:86:00.0 Off |                    0 |\n",
      "| N/A   34C    P0    42W / 300W |      0MiB / 32510MiB |      0%      Default |\n",
      "|                               |                      |                  N/A |\n",
      "+-------------------------------+----------------------+----------------------+\n",
      "|   6  Tesla V100-SXM2...  On   | 00000000:89:00.0 Off |                    0 |\n",
      "| N/A   37C    P0    43W / 300W |      0MiB / 32510MiB |      0%      Default |\n",
      "|                               |                      |                  N/A |\n",
      "+-------------------------------+----------------------+----------------------+\n",
      "|   7  Tesla V100-SXM2...  On   | 00000000:8A:00.0 Off |                    0 |\n",
      "| N/A   33C    P0    43W / 300W |      0MiB / 32510MiB |      0%      Default |\n",
      "|                               |                      |                  N/A |\n",
      "+-------------------------------+----------------------+----------------------+\n",
      "                                                                               \n",
      "+-----------------------------------------------------------------------------+\n",
      "| Processes:                                                                  |\n",
      "|  GPU   GI   CI        PID   Type   Process name                  GPU Memory |\n",
      "|        ID   ID                                                   Usage      |\n",
      "|=============================================================================|\n",
      "|  No running processes found                                                 |\n",
      "+-----------------------------------------------------------------------------+\n"
     ]
    }
   ],
   "source": [
    "!nvidia-smi"
   ]
  },
  {
   "cell_type": "code",
   "execution_count": 3,
   "metadata": {},
   "outputs": [],
   "source": [
    "rng = np.random.default_rng(23673)"
   ]
  },
  {
   "cell_type": "code",
   "execution_count": 4,
   "metadata": {},
   "outputs": [],
   "source": [
    "###############################################################################\n",
    "# Model\n",
    "###############################################################################\n",
    "\n",
    "L = 32\n",
    "N_GPUS = 8\n",
    "k = 4\n",
    "\n",
    "# Hyper-parameters:\n",
    "# L: Number of convolution kernels\n",
    "# W: Convolution window size in each residual unit\n",
    "# AR: Atrous rate in each residual unit\n",
    "W = np.asarray([11, 11, 11, 11, 11, 11, 11, 11,\n",
    "                21, 21, 21, 21, 41, 41, 41, 41, 51, 51, 51, 51])\n",
    "AR = np.asarray([1, 1, 1, 1, 4, 4, 4, 4,\n",
    "                 10, 10, 10, 10, 25, 25, 25, 25, 75, 75, 75, 75])\n",
    "BATCH_SIZE = 6*k*N_GPUS\n",
    "\n",
    "CL = 2 * np.sum(AR*(W-1))"
   ]
  },
  {
   "cell_type": "code",
   "execution_count": 5,
   "metadata": {},
   "outputs": [],
   "source": [
    "data_dir = '/odinn/tmp/benediktj/Data/SplicePrediction-050422'\n",
    "setType = 'train'\n",
    "\n",
    "annotation, transcriptToLabel, seqData = getData(data_dir, setType)"
   ]
  },
  {
   "cell_type": "code",
   "execution_count": 6,
   "metadata": {},
   "outputs": [],
   "source": [
    "CL_max=40000\n",
    "# Maximum nucleotide context length (CL_max/2 on either side of the \n",
    "# position of interest)\n",
    "# CL_max should be an even number\n",
    "SL=5000"
   ]
  },
  {
   "cell_type": "code",
   "execution_count": 7,
   "metadata": {},
   "outputs": [
    {
     "data": {
      "text/plain": [
       "192"
      ]
     },
     "execution_count": 7,
     "metadata": {},
     "output_type": "execute_result"
    }
   ],
   "source": [
    "BATCH_SIZE"
   ]
  },
  {
   "cell_type": "code",
   "execution_count": 8,
   "metadata": {},
   "outputs": [],
   "source": [
    "assert CL_max % 2 == 0"
   ]
  },
  {
   "cell_type": "code",
   "execution_count": 9,
   "metadata": {},
   "outputs": [],
   "source": [
    "train_gene, validation_gene = train_test_split(annotation['gene'].drop_duplicates(),test_size=.1,random_state=435)\n",
    "annotation_train = annotation[annotation['gene'].isin(train_gene)]\n",
    "annotation_validation = annotation[annotation['gene'].isin(validation_gene)]"
   ]
  },
  {
   "cell_type": "code",
   "execution_count": 10,
   "metadata": {
    "scrolled": true
   },
   "outputs": [],
   "source": [
    "train_dataset = spliceDataset(annotation_train,transcriptToLabel,SL,CL_max)\n",
    "val_dataset = spliceDataset(annotation_validation,transcriptToLabel,SL,CL_max)\n",
    "train_dataset.seqData = seqData\n",
    "val_dataset.seqData = seqData\n",
    "\n",
    "train_loader = torch.utils.data.DataLoader(train_dataset, batch_size=2*100, shuffle=True, num_workers=16,collate_fn=collate_fn, pin_memory=True)\n",
    "val_loader = torch.utils.data.DataLoader(val_dataset, batch_size=2*100, shuffle=False,collate_fn=collate_fn, num_workers=16)"
   ]
  },
  {
   "cell_type": "code",
   "execution_count": 11,
   "metadata": {
    "scrolled": true
   },
   "outputs": [
    {
     "name": "stderr",
     "output_type": "stream",
     "text": [
      "Epoch (train) 1/10: 100%|█| 101/101 [39:19<00:00, 23.36s/it, accepor_recall=0.86, donor_recall=0.873, loss\n"
     ]
    },
    {
     "name": "stdout",
     "output_type": "stream",
     "text": [
      "epoch: 1/10, train loss = 0.013181\n"
     ]
    },
    {
     "name": "stderr",
     "output_type": "stream",
     "text": [
      "Epoch (val) 1/10: 100%|█| 12/12 [02:25<00:00, 12.12s/it, accepor_recall=0.954, donor_recall=0.959, loss=0.\n"
     ]
    },
    {
     "name": "stdout",
     "output_type": "stream",
     "text": [
      "\n",
      "\u001b[1mAcceptor:\u001b[0m\n",
      "0.8057\t0.6688\t0.875\t0.9561\t0.7047\t0.9836999773979187\t0.9562000036239624\t0.817300021648407\t0.38260000944137573\t21432\n",
      "\n",
      "\u001b[1mDonor:\u001b[0m\n",
      "0.8684\t0.7239\t0.9013\t0.964\t0.7675\t0.9876000285148621\t0.9628999829292297\t0.8201000094413757\t0.35690000653266907\t21432\n",
      "epoch: 1/10, val loss = 0.002039\n"
     ]
    },
    {
     "name": "stderr",
     "output_type": "stream",
     "text": [
      "Epoch (train) 2/10: 100%|█| 101/101 [38:21<00:00, 22.79s/it, accepor_recall=0.896, donor_recall=0.906, los\n"
     ]
    },
    {
     "name": "stdout",
     "output_type": "stream",
     "text": [
      "epoch: 2/10, train loss = 0.000188\n"
     ]
    },
    {
     "name": "stderr",
     "output_type": "stream",
     "text": [
      "Epoch (val) 2/10: 100%|█| 12/12 [02:27<00:00, 12.28s/it, accepor_recall=0.921, donor_recall=0.919, loss=0.\n"
     ]
    },
    {
     "name": "stdout",
     "output_type": "stream",
     "text": [
      "\n",
      "\u001b[1mAcceptor:\u001b[0m\n",
      "0.9265\t0.8063\t0.9543\t0.9808\t0.8586\t0.9585000276565552\t0.7997999787330627\t0.18199999630451202\t0.021400000900030136\t21432\n",
      "\n",
      "\u001b[1mDonor:\u001b[0m\n",
      "0.9506\t0.8347\t0.9662\t0.9885\t0.8914\t0.9635999798774719\t0.7695000171661377\t0.10409999638795853\t0.00930000003427267\t21432\n",
      "epoch: 2/10, val loss = 0.000468\n"
     ]
    },
    {
     "name": "stderr",
     "output_type": "stream",
     "text": [
      "Epoch (train) 3/10: 100%|█| 101/101 [38:36<00:00, 22.94s/it, accepor_recall=0.912, donor_recall=0.921, los\n"
     ]
    },
    {
     "name": "stdout",
     "output_type": "stream",
     "text": [
      "epoch: 3/10, train loss = 0.000166\n"
     ]
    },
    {
     "name": "stderr",
     "output_type": "stream",
     "text": [
      "Epoch (val) 3/10: 100%|█| 12/12 [02:29<00:00, 12.43s/it, accepor_recall=0.951, donor_recall=0.957, loss=0.\n"
     ]
    },
    {
     "name": "stdout",
     "output_type": "stream",
     "text": [
      "\n",
      "\u001b[1mAcceptor:\u001b[0m\n",
      "0.9677\t0.8973\t0.9795\t0.9905\t0.9345\t0.9912999868392944\t0.8518000245094299\t0.04439999908208847\t0.003700000001117587\t21432\n",
      "\n",
      "\u001b[1mDonor:\u001b[0m\n",
      "0.9721\t0.9022\t0.9849\t0.994\t0.942\t0.996999979019165\t0.8867999911308289\t0.03060000017285347\t0.002199999988079071\t21432\n",
      "epoch: 3/10, val loss = 0.000313\n"
     ]
    },
    {
     "name": "stderr",
     "output_type": "stream",
     "text": [
      "Epoch (train) 4/10: 100%|█| 101/101 [38:31<00:00, 22.89s/it, accepor_recall=0.917, donor_recall=0.925, los\n"
     ]
    },
    {
     "name": "stdout",
     "output_type": "stream",
     "text": [
      "epoch: 4/10, train loss = 0.000155\n"
     ]
    },
    {
     "name": "stderr",
     "output_type": "stream",
     "text": [
      "Epoch (val) 4/10: 100%|█| 12/12 [02:27<00:00, 12.27s/it, accepor_recall=0.954, donor_recall=0.961, loss=0.\n"
     ]
    },
    {
     "name": "stdout",
     "output_type": "stream",
     "text": [
      "\n",
      "\u001b[1mAcceptor:\u001b[0m\n",
      "0.946\t0.827\t0.9543\t0.9818\t0.8815\t0.9865999817848206\t0.9355999827384949\t0.424699991941452\t0.05649999901652336\t21432\n",
      "\n",
      "\u001b[1mDonor:\u001b[0m\n",
      "0.9553\t0.8456\t0.9658\t0.9867\t0.9009\t0.9912999868392944\t0.9412000179290771\t0.39239999651908875\t0.04050000011920929\t21432\n",
      "epoch: 4/10, val loss = 0.000795\n"
     ]
    },
    {
     "name": "stderr",
     "output_type": "stream",
     "text": [
      "Epoch (train) 5/10: 100%|█| 101/101 [38:24<00:00, 22.82s/it, accepor_recall=0.923, donor_recall=0.928, los\n"
     ]
    },
    {
     "name": "stdout",
     "output_type": "stream",
     "text": [
      "epoch: 5/10, train loss = 0.000149\n"
     ]
    },
    {
     "name": "stderr",
     "output_type": "stream",
     "text": [
      "Epoch (val) 5/10: 100%|█| 12/12 [02:26<00:00, 12.18s/it, accepor_recall=0.899, donor_recall=0.904, loss=0.\n"
     ]
    },
    {
     "name": "stdout",
     "output_type": "stream",
     "text": [
      "\n",
      "\u001b[1mAcceptor:\u001b[0m\n",
      "0.9436\t0.7845\t0.9261\t0.9717\t0.8483\t0.9779000282287598\t0.8539000153541565\t0.2685999870300293\t0.02810000069439411\t21432\n",
      "\n",
      "\u001b[1mDonor:\u001b[0m\n",
      "0.9365\t0.778\t0.9301\t0.9792\t0.844\t0.9682999849319458\t0.8436999917030334\t0.29109999537467957\t0.03269999846816063\t21432\n",
      "epoch: 5/10, val loss = 0.000662\n"
     ]
    },
    {
     "name": "stderr",
     "output_type": "stream",
     "text": [
      "Epoch (train) 6/10: 100%|█| 101/101 [38:39<00:00, 22.96s/it, accepor_recall=0.926, donor_recall=0.932, los\n"
     ]
    },
    {
     "name": "stdout",
     "output_type": "stream",
     "text": [
      "epoch: 6/10, train loss = 0.000144\n"
     ]
    },
    {
     "name": "stderr",
     "output_type": "stream",
     "text": [
      "Epoch (val) 6/10: 100%|█| 12/12 [02:29<00:00, 12.45s/it, accepor_recall=0.945, donor_recall=0.932, loss=0.\n"
     ]
    },
    {
     "name": "stdout",
     "output_type": "stream",
     "text": [
      "\n",
      "\u001b[1mAcceptor:\u001b[0m\n",
      "0.9644\t0.8685\t0.9714\t0.9883\t0.9162\t0.9879000186920166\t0.8884000182151794\t0.10239999741315842\t0.007499999832361937\t21432\n",
      "\n",
      "\u001b[1mDonor:\u001b[0m\n",
      "0.9641\t0.8707\t0.9766\t0.991\t0.9217\t0.9707000255584717\t0.7588000297546387\t0.04259999841451645\t0.002300000051036477\t21432\n",
      "epoch: 6/10, val loss = 0.000373\n"
     ]
    },
    {
     "name": "stderr",
     "output_type": "stream",
     "text": [
      "Epoch (train) 7/10: 100%|█| 101/101 [38:38<00:00, 22.95s/it, accepor_recall=0.926, donor_recall=0.933, los\n"
     ]
    },
    {
     "name": "stdout",
     "output_type": "stream",
     "text": [
      "epoch: 7/10, train loss = 0.000140\n"
     ]
    },
    {
     "name": "stderr",
     "output_type": "stream",
     "text": [
      "Epoch (val) 7/10: 100%|█| 12/12 [02:24<00:00, 12.06s/it, accepor_recall=0.923, donor_recall=0.936, loss=0.\n"
     ]
    },
    {
     "name": "stdout",
     "output_type": "stream",
     "text": [
      "\n",
      "\u001b[1mAcceptor:\u001b[0m\n",
      "0.9686\t0.8922\t0.9799\t0.9902\t0.933\t0.9868000149726868\t0.7121999859809875\t0.015699999406933784\t0.002199999988079071\t21432\n",
      "\n",
      "\u001b[1mDonor:\u001b[0m\n",
      "0.9703\t0.9033\t0.9853\t0.994\t0.9413\t0.9829000234603882\t0.7290999889373779\t0.019300000742077827\t0.002400000113993883\t21432\n",
      "epoch: 7/10, val loss = 0.000252\n"
     ]
    },
    {
     "name": "stderr",
     "output_type": "stream",
     "text": [
      "Epoch (train) 8/10: 100%|█| 101/101 [38:35<00:00, 22.93s/it, accepor_recall=0.946, donor_recall=0.95, loss\n"
     ]
    },
    {
     "name": "stdout",
     "output_type": "stream",
     "text": [
      "epoch: 8/10, train loss = 0.000114\n"
     ]
    },
    {
     "name": "stderr",
     "output_type": "stream",
     "text": [
      "Epoch (val) 8/10: 100%|█| 12/12 [02:26<00:00, 12.22s/it, accepor_recall=0.946, donor_recall=0.944, loss=0.\n"
     ]
    },
    {
     "name": "stdout",
     "output_type": "stream",
     "text": [
      "\n",
      "\u001b[1mAcceptor:\u001b[0m\n",
      "0.9724\t0.9045\t0.9839\t0.9921\t0.9423\t0.9793999791145325\t0.751800000667572\t0.024800000712275505\t0.0027000000700354576\t21432\n",
      "\n",
      "\u001b[1mDonor:\u001b[0m\n",
      "0.9714\t0.9107\t0.9868\t0.9948\t0.9476\t0.9765999913215637\t0.692300021648407\t0.01759999990463257\t0.0015999999595806003\t21432\n",
      "epoch: 8/10, val loss = 0.000230\n"
     ]
    },
    {
     "name": "stderr",
     "output_type": "stream",
     "text": [
      "Epoch (train) 9/10: 100%|█| 101/101 [38:28<00:00, 22.86s/it, accepor_recall=0.955, donor_recall=0.958, los\n"
     ]
    },
    {
     "name": "stdout",
     "output_type": "stream",
     "text": [
      "epoch: 9/10, train loss = 0.000098\n"
     ]
    },
    {
     "name": "stderr",
     "output_type": "stream",
     "text": [
      "Epoch (val) 9/10: 100%|█| 12/12 [02:32<00:00, 12.72s/it, accepor_recall=0.953, donor_recall=0.953, loss=0.\n"
     ]
    },
    {
     "name": "stdout",
     "output_type": "stream",
     "text": [
      "\n",
      "\u001b[1mAcceptor:\u001b[0m\n",
      "0.9755\t0.9249\t0.9888\t0.9935\t0.9544\t0.9907000064849854\t0.7793999910354614\t0.006399999838322401\t0.0007999999797903001\t21432\n",
      "\n",
      "\u001b[1mDonor:\u001b[0m\n",
      "0.9741\t0.9259\t0.9917\t0.9957\t0.9565\t0.9925000071525574\t0.765999972820282\t0.005400000140070915\t0.0006000000284984708\t21432\n",
      "epoch: 9/10, val loss = 0.000195\n"
     ]
    },
    {
     "name": "stderr",
     "output_type": "stream",
     "text": [
      "Epoch (train) 10/10: 100%|█| 101/101 [38:18<00:00, 22.76s/it, accepor_recall=0.962, donor_recall=0.965, lo\n"
     ]
    },
    {
     "name": "stdout",
     "output_type": "stream",
     "text": [
      "epoch: 10/10, train loss = 0.000084\n"
     ]
    },
    {
     "name": "stderr",
     "output_type": "stream",
     "text": [
      "Epoch (val) 10/10: 100%|█| 12/12 [02:29<00:00, 12.48s/it, accepor_recall=0.928, donor_recall=0.936, loss=0\n"
     ]
    },
    {
     "name": "stdout",
     "output_type": "stream",
     "text": [
      "\n",
      "\u001b[1mAcceptor:\u001b[0m\n",
      "0.9757\t0.928\t0.988\t0.9933\t0.9557\t0.9829999804496765\t0.4993000030517578\t0.002199999988079071\t0.00039999998989515007\t21432\n",
      "\n",
      "\u001b[1mDonor:\u001b[0m\n",
      "0.9755\t0.9316\t0.9914\t0.9952\t0.9596\t0.9894999861717224\t0.6104000210762024\t0.0031999999191612005\t0.00039999998989515007\t21432\n",
      "epoch: 10/10, val loss = 0.000175\n"
     ]
    },
    {
     "data": {
      "image/png": "[encoded data removed]",
      "text/plain": [
       "<Figure size 432x288 with 1 Axes>"
      ]
     },
     "metadata": {
      "needs_background": "light"
     },
     "output_type": "display_data"
    },
    {
     "name": "stderr",
     "output_type": "stream",
     "text": [
      "Epoch (train) 1/10: 100%|█| 101/101 [38:40<00:00, 22.98s/it, accepor_recall=0.86, donor_recall=0.877, loss\n"
     ]
    },
    {
     "name": "stdout",
     "output_type": "stream",
     "text": [
      "epoch: 1/10, train loss = 0.011710\n"
     ]
    },
    {
     "name": "stderr",
     "output_type": "stream",
     "text": [
      "Epoch (val) 1/10: 100%|█| 12/12 [02:25<00:00, 12.16s/it, accepor_recall=0.951, donor_recall=0.928, loss=0.\n"
     ]
    },
    {
     "name": "stdout",
     "output_type": "stream",
     "text": [
      "\n",
      "\u001b[1mAcceptor:\u001b[0m\n",
      "0.7594\t0.6184\t0.8248\t0.9247\t0.6368\t0.9936000108718872\t0.984000027179718\t0.9387000203132629\t0.7192999720573425\t21432\n",
      "\n",
      "\u001b[1mDonor:\u001b[0m\n",
      "0.8016\t0.6515\t0.8407\t0.9319\t0.6817\t0.9785000085830688\t0.942799985408783\t0.7972000241279602\t0.39750000834465027\t21432\n",
      "epoch: 1/10, val loss = 0.003065\n"
     ]
    },
    {
     "name": "stderr",
     "output_type": "stream",
     "text": [
      "Epoch (train) 2/10: 100%|█| 101/101 [38:35<00:00, 22.93s/it, accepor_recall=0.891, donor_recall=0.906, los\n"
     ]
    },
    {
     "name": "stdout",
     "output_type": "stream",
     "text": [
      "epoch: 2/10, train loss = 0.000193\n"
     ]
    },
    {
     "name": "stderr",
     "output_type": "stream",
     "text": [
      "Epoch (val) 2/10: 100%|█| 12/12 [02:31<00:00, 12.61s/it, accepor_recall=0.948, donor_recall=0.966, loss=0.\n"
     ]
    },
    {
     "name": "stdout",
     "output_type": "stream",
     "text": [
      "\n",
      "\u001b[1mAcceptor:\u001b[0m\n",
      "0.9479\t0.8404\t0.9672\t0.9864\t0.8923\t0.9882000088691711\t0.9021000266075134\t0.18060000240802765\t0.014000000432133675\t21432\n",
      "\n",
      "\u001b[1mDonor:\u001b[0m\n",
      "0.9572\t0.8588\t0.9747\t0.9914\t0.9091\t0.992900013923645\t0.9483000040054321\t0.2980000078678131\t0.025499999523162842\t21432\n",
      "epoch: 2/10, val loss = 0.000605\n"
     ]
    },
    {
     "name": "stderr",
     "output_type": "stream",
     "text": [
      "Epoch (train) 3/10: 100%|█| 101/101 [38:49<00:00, 23.06s/it, accepor_recall=0.906, donor_recall=0.914, los\n"
     ]
    },
    {
     "name": "stdout",
     "output_type": "stream",
     "text": [
      "epoch: 3/10, train loss = 0.000167\n"
     ]
    },
    {
     "name": "stderr",
     "output_type": "stream",
     "text": [
      "Epoch (val) 3/10: 100%|█| 12/12 [02:27<00:00, 12.26s/it, accepor_recall=0.921, donor_recall=0.908, loss=0.\n"
     ]
    },
    {
     "name": "stdout",
     "output_type": "stream",
     "text": [
      "\n",
      "\u001b[1mAcceptor:\u001b[0m\n",
      "0.9426\t0.7951\t0.9383\t0.9774\t0.8571\t0.9857000112533569\t0.9024999737739563\t0.3102000057697296\t0.02669999934732914\t21432\n",
      "\n",
      "\u001b[1mDonor:\u001b[0m\n",
      "0.9438\t0.8151\t0.9574\t0.9866\t0.8765\t0.9531000256538391\t0.7588000297546387\t0.1573999971151352\t0.015300000086426735\t21432\n",
      "epoch: 3/10, val loss = 0.000586\n"
     ]
    },
    {
     "name": "stderr",
     "output_type": "stream",
     "text": [
      "Epoch (train) 4/10: 100%|█| 101/101 [38:21<00:00, 22.78s/it, accepor_recall=0.919, donor_recall=0.924, los\n"
     ]
    },
    {
     "name": "stdout",
     "output_type": "stream",
     "text": [
      "epoch: 4/10, train loss = 0.000157\n"
     ]
    },
    {
     "name": "stderr",
     "output_type": "stream",
     "text": [
      "Epoch (val) 4/10: 100%|█| 12/12 [02:25<00:00, 12.11s/it, accepor_recall=0.953, donor_recall=0.946, loss=0.\n"
     ]
    },
    {
     "name": "stdout",
     "output_type": "stream",
     "text": [
      "\n",
      "\u001b[1mAcceptor:\u001b[0m\n",
      "0.97\t0.8981\t0.9812\t0.9909\t0.9367\t0.9882000088691711\t0.8518999814987183\t0.045099999755620956\t0.003800000064074993\t21432\n",
      "\n",
      "\u001b[1mDonor:\u001b[0m\n",
      "0.9699\t0.9032\t0.9861\t0.9937\t0.9404\t0.9785000085830688\t0.792900025844574\t0.027499999850988388\t0.002099999925121665\t21432\n",
      "epoch: 4/10, val loss = 0.000284\n"
     ]
    },
    {
     "name": "stderr",
     "output_type": "stream",
     "text": [
      "Epoch (train) 5/10: 100%|█| 101/101 [38:22<00:00, 22.80s/it, accepor_recall=0.915, donor_recall=0.922, los\n"
     ]
    },
    {
     "name": "stdout",
     "output_type": "stream",
     "text": [
      "epoch: 5/10, train loss = 0.000151\n"
     ]
    },
    {
     "name": "stderr",
     "output_type": "stream",
     "text": [
      "Epoch (val) 5/10: 100%|█| 12/12 [02:25<00:00, 12.13s/it, accepor_recall=0.945, donor_recall=0.924, loss=0.\n"
     ]
    },
    {
     "name": "stdout",
     "output_type": "stream",
     "text": [
      "\n",
      "\u001b[1mAcceptor:\u001b[0m\n",
      "0.9697\t0.8973\t0.981\t0.9903\t0.9358\t0.9909999966621399\t0.8306000232696533\t0.039000000804662704\t0.004800000227987766\t21432\n",
      "\n",
      "\u001b[1mDonor:\u001b[0m\n",
      "0.9672\t0.9018\t0.985\t0.9931\t0.9399\t0.9758999943733215\t0.6395000219345093\t0.011300000362098217\t0.0013000000035390258\t21432\n",
      "epoch: 5/10, val loss = 0.000265\n"
     ]
    },
    {
     "name": "stderr",
     "output_type": "stream",
     "text": [
      "Epoch (train) 6/10: 100%|█| 101/101 [38:31<00:00, 22.89s/it, accepor_recall=0.924, donor_recall=0.929, los\n"
     ]
    },
    {
     "name": "stdout",
     "output_type": "stream",
     "text": [
      "epoch: 6/10, train loss = 0.000146\n"
     ]
    },
    {
     "name": "stderr",
     "output_type": "stream",
     "text": [
      "Epoch (val) 6/10: 100%|█| 12/12 [02:23<00:00, 12.00s/it, accepor_recall=0.938, donor_recall=0.943, loss=0.\n"
     ]
    },
    {
     "name": "stdout",
     "output_type": "stream",
     "text": [
      "\n",
      "\u001b[1mAcceptor:\u001b[0m\n",
      "0.9609\t0.8654\t0.9768\t0.9893\t0.9164\t0.9739999771118164\t0.8425999879837036\t0.0714000016450882\t0.006500000134110451\t21432\n",
      "\n",
      "\u001b[1mDonor:\u001b[0m\n",
      "0.9646\t0.8809\t0.9821\t0.992\t0.9292\t0.9733999967575073\t0.8251000046730042\t0.06650000065565109\t0.006599999964237213\t21432\n",
      "epoch: 6/10, val loss = 0.000356\n"
     ]
    },
    {
     "name": "stderr",
     "output_type": "stream",
     "text": [
      "Epoch (train) 7/10: 100%|█| 101/101 [38:33<00:00, 22.91s/it, accepor_recall=0.928, donor_recall=0.935, los\n"
     ]
    },
    {
     "name": "stdout",
     "output_type": "stream",
     "text": [
      "epoch: 7/10, train loss = 0.000142\n"
     ]
    },
    {
     "name": "stderr",
     "output_type": "stream",
     "text": [
      "Epoch (val) 7/10: 100%|█| 12/12 [02:32<00:00, 12.70s/it, accepor_recall=0.89, donor_recall=0.914, loss=0.0\n"
     ]
    },
    {
     "name": "stdout",
     "output_type": "stream",
     "text": [
      "\n",
      "\u001b[1mAcceptor:\u001b[0m\n",
      "0.9725\t0.9013\t0.9821\t0.9906\t0.9398\t0.9621999859809875\t0.36809998750686646\t0.002099999925121665\t0.0003000000142492354\t21432\n",
      "\n",
      "\u001b[1mDonor:\u001b[0m\n",
      "0.9703\t0.9037\t0.9862\t0.9932\t0.9416\t0.9810000061988831\t0.5794000029563904\t0.005799999926239252\t0.0007999999797903001\t21432\n",
      "epoch: 7/10, val loss = 0.000228\n"
     ]
    },
    {
     "name": "stderr",
     "output_type": "stream",
     "text": [
      "Epoch (train) 8/10: 100%|█| 101/101 [38:27<00:00, 22.85s/it, accepor_recall=0.943, donor_recall=0.947, los\n"
     ]
    },
    {
     "name": "stdout",
     "output_type": "stream",
     "text": [
      "epoch: 8/10, train loss = 0.000116\n"
     ]
    },
    {
     "name": "stderr",
     "output_type": "stream",
     "text": [
      "Epoch (val) 8/10: 100%|█| 12/12 [02:29<00:00, 12.46s/it, accepor_recall=0.876, donor_recall=0.874, loss=0.\n"
     ]
    },
    {
     "name": "stdout",
     "output_type": "stream",
     "text": [
      "\n",
      "\u001b[1mAcceptor:\u001b[0m\n",
      "0.971\t0.9113\t0.9825\t0.9906\t0.9434\t0.9358999729156494\t0.3424000144004822\t0.005499999970197678\t0.0008999999845400453\t21432\n",
      "\n",
      "\u001b[1mDonor:\u001b[0m\n",
      "0.9724\t0.9161\t0.9873\t0.9933\t0.9488\t0.9333000183105469\t0.3163999915122986\t0.005200000014156103\t0.0010000000474974513\t21432\n",
      "epoch: 8/10, val loss = 0.000209\n"
     ]
    },
    {
     "name": "stderr",
     "output_type": "stream",
     "text": [
      "Epoch (train) 9/10: 100%|█| 101/101 [38:34<00:00, 22.92s/it, accepor_recall=0.957, donor_recall=0.959, los\n"
     ]
    },
    {
     "name": "stdout",
     "output_type": "stream",
     "text": [
      "epoch: 9/10, train loss = 0.000099\n"
     ]
    },
    {
     "name": "stderr",
     "output_type": "stream",
     "text": [
      "Epoch (val) 9/10: 100%|█| 12/12 [02:30<00:00, 12.51s/it, accepor_recall=0.917, donor_recall=0.923, loss=0.\n"
     ]
    },
    {
     "name": "stdout",
     "output_type": "stream",
     "text": [
      "\n",
      "\u001b[1mAcceptor:\u001b[0m\n",
      "0.9718\t0.9251\t0.9885\t0.9932\t0.9527\t0.9684000015258789\t0.4275999963283539\t0.00279999990016222\t0.0005000000237487257\t21432\n",
      "\n",
      "\u001b[1mDonor:\u001b[0m\n",
      "0.9716\t0.9294\t0.9912\t0.995\t0.9555\t0.9779000282287598\t0.4880000054836273\t0.0017000000225380063\t0.00019999999494757503\t21432\n",
      "epoch: 9/10, val loss = 0.000177\n"
     ]
    },
    {
     "name": "stderr",
     "output_type": "stream",
     "text": [
      "Epoch (train) 10/10: 100%|█| 101/101 [38:28<00:00, 22.85s/it, accepor_recall=0.961, donor_recall=0.966, lo\n"
     ]
    },
    {
     "name": "stdout",
     "output_type": "stream",
     "text": [
      "epoch: 10/10, train loss = 0.000086\n"
     ]
    },
    {
     "name": "stderr",
     "output_type": "stream",
     "text": [
      "Epoch (val) 10/10: 100%|█| 12/12 [02:28<00:00, 12.35s/it, accepor_recall=0.931, donor_recall=0.928, loss=0\n"
     ]
    },
    {
     "name": "stdout",
     "output_type": "stream",
     "text": [
      "\n",
      "\u001b[1mAcceptor:\u001b[0m\n",
      "0.9736\t0.9281\t0.9882\t0.993\t0.9553\t0.9886000156402588\t0.5788000226020813\t0.0032999999821186066\t0.0006000000284984708\t21432\n",
      "\n",
      "\u001b[1mDonor:\u001b[0m\n",
      "0.9745\t0.9291\t0.9904\t0.9952\t0.9567\t0.9890999794006348\t0.5353000164031982\t0.00139999995008111\t0.00019999999494757503\t21432\n",
      "epoch: 10/10, val loss = 0.000179\n"
     ]
    },
    {
     "data": {
      "image/png": "[encoded data removed]",
      "text/plain": [
       "<Figure size 432x288 with 1 Axes>"
      ]
     },
     "metadata": {
      "needs_background": "light"
     },
     "output_type": "display_data"
    },
    {
     "name": "stderr",
     "output_type": "stream",
     "text": [
      "Epoch (train) 1/10: 100%|█| 101/101 [38:38<00:00, 22.96s/it, accepor_recall=0.856, donor_recall=0.872, los\n"
     ]
    },
    {
     "name": "stdout",
     "output_type": "stream",
     "text": [
      "epoch: 1/10, train loss = 0.011346\n"
     ]
    },
    {
     "name": "stderr",
     "output_type": "stream",
     "text": [
      "Epoch (val) 1/10: 100%|█| 12/12 [02:27<00:00, 12.28s/it, accepor_recall=0.908, donor_recall=0.903, loss=0.\n"
     ]
    },
    {
     "name": "stdout",
     "output_type": "stream",
     "text": [
      "\n",
      "\u001b[1mAcceptor:\u001b[0m\n",
      "0.9445\t0.7896\t0.9334\t0.9733\t0.8517\t0.9805999994277954\t0.8481000065803528\t0.23319999873638153\t0.02419999986886978\t21432\n",
      "\n",
      "\u001b[1mDonor:\u001b[0m\n",
      "0.9289\t0.779\t0.9351\t0.9783\t0.8426\t0.9807999730110168\t0.8622999787330627\t0.22110000252723694\t0.01899999938905239\t21432\n",
      "epoch: 1/10, val loss = 0.000631\n"
     ]
    },
    {
     "name": "stderr",
     "output_type": "stream",
     "text": [
      "Epoch (train) 2/10: 100%|█| 101/101 [38:34<00:00, 22.91s/it, accepor_recall=0.896, donor_recall=0.909, los\n"
     ]
    },
    {
     "name": "stdout",
     "output_type": "stream",
     "text": [
      "epoch: 2/10, train loss = 0.000190\n"
     ]
    },
    {
     "name": "stderr",
     "output_type": "stream",
     "text": [
      "Epoch (val) 2/10: 100%|█| 12/12 [02:34<00:00, 12.89s/it, accepor_recall=0.922, donor_recall=0.891, loss=0.\n"
     ]
    },
    {
     "name": "stdout",
     "output_type": "stream",
     "text": [
      "\n",
      "\u001b[1mAcceptor:\u001b[0m\n",
      "0.9678\t0.8774\t0.9754\t0.9889\t0.9251\t0.989300012588501\t0.7505999803543091\t0.03280000016093254\t0.004000000189989805\t21432\n",
      "\n",
      "\u001b[1mDonor:\u001b[0m\n",
      "0.9657\t0.8851\t0.9832\t0.9938\t0.9282\t0.9434000253677368\t0.4408000111579895\t0.009100000374019146\t0.0008999999845400453\t21432\n",
      "epoch: 2/10, val loss = 0.000275\n"
     ]
    },
    {
     "name": "stderr",
     "output_type": "stream",
     "text": [
      "Epoch (train) 3/10: 100%|█| 101/101 [38:36<00:00, 22.94s/it, accepor_recall=0.91, donor_recall=0.917, loss\n"
     ]
    },
    {
     "name": "stdout",
     "output_type": "stream",
     "text": [
      "epoch: 3/10, train loss = 0.000167\n"
     ]
    },
    {
     "name": "stderr",
     "output_type": "stream",
     "text": [
      "Epoch (val) 3/10: 100%|█| 12/12 [02:29<00:00, 12.43s/it, accepor_recall=0.919, donor_recall=0.901, loss=0.\n"
     ]
    },
    {
     "name": "stdout",
     "output_type": "stream",
     "text": [
      "\n",
      "\u001b[1mAcceptor:\u001b[0m\n",
      "0.9634\t0.873\t0.973\t0.9885\t0.919\t0.9369000196456909\t0.671999990940094\t0.046799998730421066\t0.0044999998062849045\t21432\n",
      "\n",
      "\u001b[1mDonor:\u001b[0m\n",
      "0.9657\t0.8792\t0.9823\t0.9929\t0.9272\t0.9254999756813049\t0.5534999966621399\t0.02070000022649765\t0.0017999999690800905\t21432\n",
      "epoch: 3/10, val loss = 0.000279\n"
     ]
    },
    {
     "name": "stderr",
     "output_type": "stream",
     "text": [
      "Epoch (train) 4/10: 100%|█| 101/101 [38:27<00:00, 22.85s/it, accepor_recall=0.92, donor_recall=0.926, loss\n"
     ]
    },
    {
     "name": "stdout",
     "output_type": "stream",
     "text": [
      "epoch: 4/10, train loss = 0.000157\n"
     ]
    },
    {
     "name": "stderr",
     "output_type": "stream",
     "text": [
      "Epoch (val) 4/10: 100%|█| 12/12 [02:34<00:00, 12.87s/it, accepor_recall=0.886, donor_recall=0.907, loss=0.\n"
     ]
    },
    {
     "name": "stdout",
     "output_type": "stream",
     "text": [
      "\n",
      "\u001b[1mAcceptor:\u001b[0m\n",
      "0.9672\t0.8834\t0.977\t0.99\t0.9286\t0.9836999773979187\t0.5220999717712402\t0.006099999882280827\t0.000699999975040555\t21432\n",
      "\n",
      "\u001b[1mDonor:\u001b[0m\n",
      "0.9684\t0.8852\t0.9819\t0.9917\t0.9297\t0.986299991607666\t0.6845999956130981\t0.017899999395012856\t0.002199999988079071\t21432\n",
      "epoch: 4/10, val loss = 0.000270\n"
     ]
    },
    {
     "name": "stderr",
     "output_type": "stream",
     "text": [
      "Epoch (train) 5/10: 100%|█| 101/101 [38:18<00:00, 22.76s/it, accepor_recall=0.92, donor_recall=0.925, loss\n"
     ]
    },
    {
     "name": "stdout",
     "output_type": "stream",
     "text": [
      "epoch: 5/10, train loss = 0.000150\n"
     ]
    },
    {
     "name": "stderr",
     "output_type": "stream",
     "text": [
      "Epoch (val) 5/10: 100%|█| 12/12 [02:28<00:00, 12.38s/it, accepor_recall=0.94, donor_recall=0.943, loss=0.0\n"
     ]
    },
    {
     "name": "stdout",
     "output_type": "stream",
     "text": [
      "\n",
      "\u001b[1mAcceptor:\u001b[0m\n",
      "0.9702\t0.9078\t0.9831\t0.9923\t0.9426\t0.9753999710083008\t0.7143999934196472\t0.012500000186264515\t0.0012000000569969416\t21432\n",
      "\n",
      "\u001b[1mDonor:\u001b[0m\n",
      "0.9717\t0.9091\t0.988\t0.9945\t0.9464\t0.9857000112533569\t0.7408000230789185\t0.011099999770522118\t0.0010000000474974513\t21432\n",
      "epoch: 5/10, val loss = 0.000226\n"
     ]
    },
    {
     "name": "stderr",
     "output_type": "stream",
     "text": [
      "Epoch (train) 6/10: 100%|█| 101/101 [38:37<00:00, 22.95s/it, accepor_recall=0.927, donor_recall=0.931, los\n"
     ]
    },
    {
     "name": "stdout",
     "output_type": "stream",
     "text": [
      "epoch: 6/10, train loss = 0.000146\n"
     ]
    },
    {
     "name": "stderr",
     "output_type": "stream",
     "text": [
      "Epoch (val) 6/10: 100%|█| 12/12 [02:26<00:00, 12.23s/it, accepor_recall=0.935, donor_recall=0.914, loss=0.\n"
     ]
    },
    {
     "name": "stdout",
     "output_type": "stream",
     "text": [
      "\n",
      "\u001b[1mAcceptor:\u001b[0m\n",
      "0.9707\t0.8993\t0.9813\t0.9919\t0.9378\t0.9714000225067139\t0.6869999766349792\t0.01679999940097332\t0.0013000000035390258\t21432\n",
      "\n",
      "\u001b[1mDonor:\u001b[0m\n",
      "0.9697\t0.8991\t0.984\t0.9931\t0.9402\t0.9463000297546387\t0.557699978351593\t0.00930000003427267\t0.0008999999845400453\t21432\n",
      "epoch: 6/10, val loss = 0.000233\n"
     ]
    },
    {
     "name": "stderr",
     "output_type": "stream",
     "text": [
      "Epoch (train) 7/10: 100%|█| 101/101 [38:15<00:00, 22.73s/it, accepor_recall=0.928, donor_recall=0.932, los\n"
     ]
    },
    {
     "name": "stdout",
     "output_type": "stream",
     "text": [
      "epoch: 7/10, train loss = 0.000141\n"
     ]
    },
    {
     "name": "stderr",
     "output_type": "stream",
     "text": [
      "Epoch (val) 7/10: 100%|█| 12/12 [02:40<00:00, 13.38s/it, accepor_recall=0.714, donor_recall=0.686, loss=0.\n"
     ]
    },
    {
     "name": "stdout",
     "output_type": "stream",
     "text": [
      "\n",
      "\u001b[1mAcceptor:\u001b[0m\n",
      "0.9596\t0.8547\t0.9716\t0.9864\t0.9086\t0.789900004863739\t0.12129999697208405\t0.003000000026077032\t0.0005000000237487257\t21432\n",
      "\n",
      "\u001b[1mDonor:\u001b[0m\n",
      "0.9522\t0.8396\t0.9686\t0.9895\t0.8981\t0.7605999708175659\t0.11429999768733978\t0.003599999938160181\t0.0006000000284984708\t21432\n",
      "epoch: 7/10, val loss = 0.000407\n"
     ]
    },
    {
     "name": "stderr",
     "output_type": "stream",
     "text": [
      "Epoch (train) 8/10: 100%|█| 101/101 [38:17<00:00, 22.74s/it, accepor_recall=0.946, donor_recall=0.949, los\n"
     ]
    },
    {
     "name": "stdout",
     "output_type": "stream",
     "text": [
      "epoch: 8/10, train loss = 0.000115\n"
     ]
    },
    {
     "name": "stderr",
     "output_type": "stream",
     "text": [
      "Epoch (val) 8/10: 100%|█| 12/12 [02:35<00:00, 12.93s/it, accepor_recall=0.953, donor_recall=0.947, loss=0.000221, pred_l1_dis\n"
     ]
    },
    {
     "name": "stdout",
     "output_type": "stream",
     "text": [
      "\n",
      "\u001b[1mAcceptor:\u001b[0m\n",
      "0.9741\t0.9183\t0.9859\t0.9929\t0.9485\t0.987500011920929\t0.7953000068664551\t0.016599999740719795\t0.002300000051036477\t21432\n",
      "\n",
      "\u001b[1mDonor:\u001b[0m\n",
      "0.9716\t0.9157\t0.9892\t0.9947\t0.9489\t0.9869999885559082\t0.7373999953269958\t0.011599999852478504\t0.001500000013038516\t21432\n",
      "epoch: 8/10, val loss = 0.000217\n"
     ]
    },
    {
     "name": "stderr",
     "output_type": "stream",
     "text": [
      "Epoch (train) 9/10: 100%|█| 101/101 [38:21<00:00, 22.78s/it, accepor_recall=0.958, donor_recall=0.961, loss=9.83e-5, pred_l1_\n"
     ]
    },
    {
     "name": "stdout",
     "output_type": "stream",
     "text": [
      "epoch: 9/10, train loss = 0.000099\n"
     ]
    },
    {
     "name": "stderr",
     "output_type": "stream",
     "text": [
      "Epoch (val) 9/10: 100%|█| 12/12 [02:27<00:00, 12.29s/it, accepor_recall=0.921, donor_recall=0.923, loss=0.000192, pred_l1_dis\n"
     ]
    },
    {
     "name": "stdout",
     "output_type": "stream",
     "text": [
      "\n",
      "\u001b[1mAcceptor:\u001b[0m\n",
      "0.9733\t0.9213\t0.9867\t0.9933\t0.9519\t0.9796000123023987\t0.5133000016212463\t0.003000000026077032\t0.0005000000237487257\t21432\n",
      "\n",
      "\u001b[1mDonor:\u001b[0m\n",
      "0.9744\t0.9261\t0.9905\t0.9953\t0.9546\t0.9753999710083008\t0.49889999628067017\t0.002899999963119626\t0.00039999998989515007\t21432\n",
      "epoch: 9/10, val loss = 0.000182\n"
     ]
    },
    {
     "name": "stderr",
     "output_type": "stream",
     "text": [
      "Epoch (train) 10/10: 100%|█| 101/101 [38:24<00:00, 22.82s/it, accepor_recall=0.961, donor_recall=0.963, loss=8.9e-5, pred_l1_\n"
     ]
    },
    {
     "name": "stdout",
     "output_type": "stream",
     "text": [
      "epoch: 10/10, train loss = 0.000086\n"
     ]
    },
    {
     "name": "stderr",
     "output_type": "stream",
     "text": [
      "Epoch (val) 10/10: 100%|█| 12/12 [02:30<00:00, 12.57s/it, accepor_recall=0.921, donor_recall=0.917, loss=0.000188, pred_l1_di\n"
     ]
    },
    {
     "name": "stdout",
     "output_type": "stream",
     "text": [
      "\n",
      "\u001b[1mAcceptor:\u001b[0m\n",
      "0.9744\t0.9286\t0.9877\t0.9936\t0.9533\t0.9815000295639038\t0.45350000262260437\t0.0015999999595806003\t0.0003000000142492354\t21432\n",
      "\n",
      "\u001b[1mDonor:\u001b[0m\n",
      "0.9732\t0.9302\t0.9906\t0.9948\t0.9567\t0.9739999771118164\t0.4307999908924103\t0.00139999995008111\t0.00019999999494757503\t21432\n",
      "epoch: 10/10, val loss = 0.000179\n"
     ]
    },
    {
     "data": {
      "image/png": "[encoded data removed]",
      "text/plain": [
       "<Figure size 432x288 with 1 Axes>"
      ]
     },
     "metadata": {
      "needs_background": "light"
     },
     "output_type": "display_data"
    },
    {
     "name": "stderr",
     "output_type": "stream",
     "text": [
      "Epoch (train) 1/10: 100%|█| 101/101 [38:42<00:00, 22.99s/it, accepor_recall=0.856, donor_recall=0.87, loss=0.000222, pred_l1_\n"
     ]
    },
    {
     "name": "stdout",
     "output_type": "stream",
     "text": [
      "epoch: 1/10, train loss = 0.012120\n"
     ]
    },
    {
     "name": "stderr",
     "output_type": "stream",
     "text": [
      "Epoch (val) 1/10: 100%|█| 12/12 [02:32<00:00, 12.68s/it, accepor_recall=0.596, donor_recall=0.585, loss=0.000609, pred_l1_dis\n"
     ]
    },
    {
     "name": "stdout",
     "output_type": "stream",
     "text": [
      "\n",
      "\u001b[1mAcceptor:\u001b[0m\n",
      "0.9523\t0.8051\t0.9379\t0.9769\t0.8655\t0.7404999732971191\t0.08959999680519104\t0.004999999888241291\t0.0007999999797903001\t21432\n",
      "\n",
      "\u001b[1mDonor:\u001b[0m\n",
      "0.9536\t0.8194\t0.952\t0.9819\t0.8797\t0.7529000043869019\t0.06449999660253525\t0.00279999990016222\t0.00039999998989515007\t21432\n",
      "epoch: 1/10, val loss = 0.000514\n"
     ]
    },
    {
     "name": "stderr",
     "output_type": "stream",
     "text": [
      "Epoch (train) 2/10: 100%|█| 101/101 [38:17<00:00, 22.74s/it, accepor_recall=0.9, donor_recall=0.914, loss=0.000178, pred_l1_d\n"
     ]
    },
    {
     "name": "stdout",
     "output_type": "stream",
     "text": [
      "epoch: 2/10, train loss = 0.000191\n"
     ]
    },
    {
     "name": "stderr",
     "output_type": "stream",
     "text": [
      "Epoch (val) 2/10: 100%|████████████████████████████████████████████████████████████████████| 12/12 [02:27<00:00, 12.27s/it, accepor_recall=0.936, donor_recall=0.92, loss=0.000262, pred_l1_dist=0]\n"
     ]
    },
    {
     "name": "stdout",
     "output_type": "stream",
     "text": [
      "\n",
      "\u001b[1mAcceptor:\u001b[0m\n",
      "0.9717\t0.8962\t0.9803\t0.9905\t0.9349\t0.9833999872207642\t0.7257999777793884\t0.044599998742341995\t0.005200000014156103\t21432\n",
      "\n",
      "\u001b[1mDonor:\u001b[0m\n",
      "0.9722\t0.8989\t0.9859\t0.9942\t0.9423\t0.9700000286102295\t0.5805000066757202\t0.01850000023841858\t0.0017999999690800905\t21432\n",
      "epoch: 2/10, val loss = 0.000250\n"
     ]
    },
    {
     "name": "stderr",
     "output_type": "stream",
     "text": [
      "Epoch (train) 3/10: 100%|███████████████████████████████████████████████████████████████| 101/101 [38:34<00:00, 22.91s/it, accepor_recall=0.907, donor_recall=0.917, loss=0.000165, pred_l1_dist=0]\n"
     ]
    },
    {
     "name": "stdout",
     "output_type": "stream",
     "text": [
      "epoch: 3/10, train loss = 0.000167\n"
     ]
    },
    {
     "name": "stderr",
     "output_type": "stream",
     "text": [
      "Epoch (val) 3/10: 100%|████████████████████████████████████████████████████████████████████| 12/12 [02:25<00:00, 12.10s/it, accepor_recall=0.967, donor_recall=0.966, loss=0.00131, pred_l1_dist=0]\n"
     ]
    },
    {
     "name": "stdout",
     "output_type": "stream",
     "text": [
      "\n",
      "\u001b[1mAcceptor:\u001b[0m\n",
      "0.9148\t0.7771\t0.9387\t0.9769\t0.8353\t0.9957000017166138\t0.9800000190734863\t0.7885000109672546\t0.20990000665187836\t21432\n",
      "\n",
      "\u001b[1mDonor:\u001b[0m\n",
      "0.9426\t0.8117\t0.9538\t0.9843\t0.8721\t0.988099992275238\t0.9485999941825867\t0.6097999811172485\t0.10450000315904617\t21432\n",
      "epoch: 3/10, val loss = 0.001390\n"
     ]
    },
    {
     "name": "stderr",
     "output_type": "stream",
     "text": [
      "Epoch (train) 4/10: 100%|███████████████████████████████████████████████████████████████| 101/101 [38:30<00:00, 22.88s/it, accepor_recall=0.915, donor_recall=0.924, loss=0.000159, pred_l1_dist=0]\n"
     ]
    },
    {
     "name": "stdout",
     "output_type": "stream",
     "text": [
      "epoch: 4/10, train loss = 0.000158\n"
     ]
    },
    {
     "name": "stderr",
     "output_type": "stream",
     "text": [
      "Epoch (val) 4/10: 100%|███████████████████████████████████████████████████████████████████| 12/12 [02:30<00:00, 12.57s/it, accepor_recall=0.931, donor_recall=0.905, loss=0.000547, pred_l1_dist=0]\n"
     ]
    },
    {
     "name": "stdout",
     "output_type": "stream",
     "text": [
      "\n",
      "\u001b[1mAcceptor:\u001b[0m\n",
      "0.9534\t0.827\t0.955\t0.9805\t0.8842\t0.9836000204086304\t0.8867999911308289\t0.28209999203681946\t0.03750000149011612\t21432\n",
      "\n",
      "\u001b[1mDonor:\u001b[0m\n",
      "0.952\t0.8326\t0.9618\t0.987\t0.8902\t0.9329000115394592\t0.7055000066757202\t0.1354999989271164\t0.015599999576807022\t21432\n",
      "epoch: 4/10, val loss = 0.000530\n"
     ]
    },
    {
     "name": "stderr",
     "output_type": "stream",
     "text": [
      "Epoch (train) 5/10: 100%|████████████████████████████████████████████████████████████████| 101/101 [38:35<00:00, 22.93s/it, accepor_recall=0.922, donor_recall=0.929, loss=0.00015, pred_l1_dist=0]\n"
     ]
    },
    {
     "name": "stdout",
     "output_type": "stream",
     "text": [
      "epoch: 5/10, train loss = 0.000149\n"
     ]
    },
    {
     "name": "stderr",
     "output_type": "stream",
     "text": [
      "Epoch (val) 5/10: 100%|███████████████████████████████████████████████████████████████████| 12/12 [02:34<00:00, 12.84s/it, accepor_recall=0.957, donor_recall=0.931, loss=0.000325, pred_l1_dist=0]\n"
     ]
    },
    {
     "name": "stdout",
     "output_type": "stream",
     "text": [
      "\n",
      "\u001b[1mAcceptor:\u001b[0m\n",
      "0.9657\t0.8986\t0.9818\t0.991\t0.9358\t0.9919999837875366\t0.9014000296592712\t0.05920000001788139\t0.005499999970197678\t21432\n",
      "\n",
      "\u001b[1mDonor:\u001b[0m\n",
      "0.9667\t0.897\t0.987\t0.9938\t0.9375\t0.9591000080108643\t0.6714000105857849\t0.016699999570846558\t0.0017000000225380063\t21432\n",
      "epoch: 5/10, val loss = 0.000298\n"
     ]
    },
    {
     "name": "stderr",
     "output_type": "stream",
     "text": [
      "Epoch (train) 6/10: 100%|███████████████████████████████████████████████████████████████| 101/101 [38:25<00:00, 22.83s/it, accepor_recall=0.927, donor_recall=0.936, loss=0.000145, pred_l1_dist=0]\n"
     ]
    },
    {
     "name": "stdout",
     "output_type": "stream",
     "text": [
      "epoch: 6/10, train loss = 0.000146\n"
     ]
    },
    {
     "name": "stderr",
     "output_type": "stream",
     "text": [
      "Epoch (val) 6/10: 100%|███████████████████████████████████████████████████████████████████| 12/12 [02:35<00:00, 12.92s/it, accepor_recall=0.856, donor_recall=0.866, loss=0.000313, pred_l1_dist=0]\n"
     ]
    },
    {
     "name": "stdout",
     "output_type": "stream",
     "text": [
      "\n",
      "\u001b[1mAcceptor:\u001b[0m\n",
      "0.9638\t0.8694\t0.9679\t0.9851\t0.9155\t0.9785000085830688\t0.3686999976634979\t0.005400000140070915\t0.000699999975040555\t21432\n",
      "\n",
      "\u001b[1mDonor:\u001b[0m\n",
      "0.9671\t0.8722\t0.9759\t0.9904\t0.9223\t0.954800009727478\t0.4320000112056732\t0.010599999688565731\t0.0010999999940395355\t21432\n",
      "epoch: 6/10, val loss = 0.000290\n"
     ]
    },
    {
     "name": "stderr",
     "output_type": "stream",
     "text": [
      "Epoch (train) 7/10: 100%|███████████████████████████████████████████████████████████████| 101/101 [38:28<00:00, 22.86s/it, accepor_recall=0.928, donor_recall=0.932, loss=0.000138, pred_l1_dist=0]\n"
     ]
    },
    {
     "name": "stdout",
     "output_type": "stream",
     "text": [
      "epoch: 7/10, train loss = 0.000141\n"
     ]
    },
    {
     "name": "stderr",
     "output_type": "stream",
     "text": [
      "Epoch (val) 7/10: 100%|████████████████████████████████████████████████████████████████████| 12/12 [02:29<00:00, 12.43s/it, accepor_recall=0.945, donor_recall=0.96, loss=0.000286, pred_l1_dist=0]\n"
     ]
    },
    {
     "name": "stdout",
     "output_type": "stream",
     "text": [
      "\n",
      "\u001b[1mAcceptor:\u001b[0m\n",
      "0.9701\t0.912\t0.9839\t0.9918\t0.9424\t0.9801999926567078\t0.7505999803543091\t0.031599998474121094\t0.00570000009611249\t21432\n",
      "\n",
      "\u001b[1mDonor:\u001b[0m\n",
      "0.9719\t0.9133\t0.9878\t0.9944\t0.9465\t0.9955000281333923\t0.8956999778747559\t0.04280000180006027\t0.005900000222027302\t21432\n",
      "epoch: 7/10, val loss = 0.000277\n"
     ]
    },
    {
     "name": "stderr",
     "output_type": "stream",
     "text": [
      "Epoch (train) 8/10: 100%|███████████████████████████████████████████████████████████████| 101/101 [38:52<00:00, 23.09s/it, accepor_recall=0.941, donor_recall=0.944, loss=0.000127, pred_l1_dist=0]\n"
     ]
    },
    {
     "name": "stdout",
     "output_type": "stream",
     "text": [
      "epoch: 8/10, train loss = 0.000116\n"
     ]
    },
    {
     "name": "stderr",
     "output_type": "stream",
     "text": [
      "Epoch (val) 8/10: 100%|███████████████████████████████████████████████████████████████████| 12/12 [02:29<00:00, 12.45s/it, accepor_recall=0.938, donor_recall=0.942, loss=0.000205, pred_l1_dist=0]\n"
     ]
    },
    {
     "name": "stdout",
     "output_type": "stream",
     "text": [
      "\n",
      "\u001b[1mAcceptor:\u001b[0m\n",
      "0.9717\t0.9201\t0.9866\t0.9922\t0.9502\t0.9865000247955322\t0.6230000257492065\t0.0044999998062849045\t0.0006000000284984708\t21432\n",
      "\n",
      "\u001b[1mDonor:\u001b[0m\n",
      "0.9739\t0.9209\t0.9901\t0.9953\t0.9534\t0.9900000095367432\t0.6708999872207642\t0.005900000222027302\t0.0007999999797903001\t21432\n",
      "epoch: 8/10, val loss = 0.000194\n"
     ]
    },
    {
     "name": "stderr",
     "output_type": "stream",
     "text": [
      "Epoch (train) 9/10: 100%|████████████████████████████████████████████████████████████████| 101/101 [38:23<00:00, 22.81s/it, accepor_recall=0.956, donor_recall=0.959, loss=9.39e-5, pred_l1_dist=0]\n"
     ]
    },
    {
     "name": "stdout",
     "output_type": "stream",
     "text": [
      "epoch: 9/10, train loss = 0.000099\n"
     ]
    },
    {
     "name": "stderr",
     "output_type": "stream",
     "text": [
      "Epoch (val) 9/10: 100%|███████████████████████████████████████████████████████████████████| 12/12 [02:29<00:00, 12.46s/it, accepor_recall=0.944, donor_recall=0.942, loss=0.000193, pred_l1_dist=0]\n"
     ]
    },
    {
     "name": "stdout",
     "output_type": "stream",
     "text": [
      "\n",
      "\u001b[1mAcceptor:\u001b[0m\n",
      "0.9705\t0.9202\t0.9882\t0.993\t0.9506\t0.9757999777793884\t0.6826000213623047\t0.007400000002235174\t0.0008999999845400453\t21432\n",
      "\n",
      "\u001b[1mDonor:\u001b[0m\n",
      "0.974\t0.9238\t0.9908\t0.9957\t0.9542\t0.9704999923706055\t0.6489999890327454\t0.0044999998062849045\t0.0005000000237487257\t21432\n",
      "epoch: 9/10, val loss = 0.000186\n"
     ]
    },
    {
     "name": "stderr",
     "output_type": "stream",
     "text": [
      "Epoch (train) 10/10: 100%|███████████████████████████████████████████████████████████████| 101/101 [38:37<00:00, 22.94s/it, accepor_recall=0.961, donor_recall=0.963, loss=9.22e-5, pred_l1_dist=0]\n"
     ]
    },
    {
     "name": "stdout",
     "output_type": "stream",
     "text": [
      "epoch: 10/10, train loss = 0.000085\n"
     ]
    },
    {
     "name": "stderr",
     "output_type": "stream",
     "text": [
      "Epoch (val) 10/10: 100%|██████████████████████████████████████████████████████████████████| 12/12 [02:29<00:00, 12.43s/it, accepor_recall=0.903, donor_recall=0.903, loss=0.000192, pred_l1_dist=0]\n"
     ]
    },
    {
     "name": "stdout",
     "output_type": "stream",
     "text": [
      "\n",
      "\u001b[1mAcceptor:\u001b[0m\n",
      "0.9715\t0.9263\t0.9868\t0.9926\t0.952\t0.9570000171661377\t0.31690001487731934\t0.00139999995008111\t0.0003000000142492354\t21432\n",
      "\n",
      "\u001b[1mDonor:\u001b[0m\n",
      "0.9725\t0.9297\t0.9911\t0.9949\t0.956\t0.9516000151634216\t0.33410000801086426\t0.0012000000569969416\t0.00019999999494757503\t21432\n",
      "epoch: 10/10, val loss = 0.000187\n"
     ]
    },
    {
     "data": {
      "image/png": "[encoded data removed]",
      "text/plain": [
       "<Figure size 432x288 with 1 Axes>"
      ]
     },
     "metadata": {
      "needs_background": "light"
     },
     "output_type": "display_data"
    },
    {
     "name": "stderr",
     "output_type": "stream",
     "text": [
      "Epoch (train) 1/10: 100%|███████████████████████████████████████████████████████████████| 101/101 [38:24<00:00, 22.82s/it, accepor_recall=0.859, donor_recall=0.873, loss=0.000213, pred_l1_dist=0]\n"
     ]
    },
    {
     "name": "stdout",
     "output_type": "stream",
     "text": [
      "epoch: 1/10, train loss = 0.012871\n"
     ]
    },
    {
     "name": "stderr",
     "output_type": "stream",
     "text": [
      "Epoch (val) 1/10: 100%|███████████████████████████████████████████████████████████████████| 12/12 [02:27<00:00, 12.31s/it, accepor_recall=0.796, donor_recall=0.772, loss=0.000575, pred_l1_dist=0]\n"
     ]
    },
    {
     "name": "stdout",
     "output_type": "stream",
     "text": [
      "\n",
      "\u001b[1mAcceptor:\u001b[0m\n",
      "0.8197\t0.6936\t0.8945\t0.9625\t0.729\t0.8454999923706055\t0.6338000297546387\t0.1973000019788742\t0.026200000196695328\t21432\n",
      "\n",
      "\u001b[1mDonor:\u001b[0m\n",
      "0.8692\t0.7342\t0.9293\t0.9754\t0.7868\t0.7573999762535095\t0.5231000185012817\t0.1298000067472458\t0.01510000042617321\t21432\n",
      "epoch: 1/10, val loss = 0.000556\n"
     ]
    },
    {
     "name": "stderr",
     "output_type": "stream",
     "text": [
      "Epoch (train) 2/10: 100%|███████████████████████████████████████████████████████████████| 101/101 [38:23<00:00, 22.80s/it, accepor_recall=0.896, donor_recall=0.904, loss=0.000181, pred_l1_dist=0]\n"
     ]
    },
    {
     "name": "stdout",
     "output_type": "stream",
     "text": [
      "epoch: 2/10, train loss = 0.000190\n"
     ]
    },
    {
     "name": "stderr",
     "output_type": "stream",
     "text": [
      "Epoch (val) 2/10: 100%|███████████████████████████████████████████████████████████████████| 12/12 [02:35<00:00, 12.94s/it, accepor_recall=0.937, donor_recall=0.931, loss=0.000263, pred_l1_dist=0]\n"
     ]
    },
    {
     "name": "stdout",
     "output_type": "stream",
     "text": [
      "\n",
      "\u001b[1mAcceptor:\u001b[0m\n",
      "0.9686\t0.8918\t0.9789\t0.9898\t0.9328\t0.9714999794960022\t0.7340999841690063\t0.04699999839067459\t0.005100000184029341\t21432\n",
      "\n",
      "\u001b[1mDonor:\u001b[0m\n",
      "0.9713\t0.8996\t0.9853\t0.994\t0.9428\t0.9498000144958496\t0.6367999911308289\t0.026900000870227814\t0.0024999999441206455\t21432\n",
      "epoch: 2/10, val loss = 0.000256\n"
     ]
    },
    {
     "name": "stderr",
     "output_type": "stream",
     "text": [
      "Epoch (train) 3/10: 100%|████████████████████████████████████████████████████████████████| 101/101 [38:47<00:00, 23.04s/it, accepor_recall=0.915, donor_recall=0.921, loss=0.00016, pred_l1_dist=0]\n"
     ]
    },
    {
     "name": "stdout",
     "output_type": "stream",
     "text": [
      "epoch: 3/10, train loss = 0.000164\n"
     ]
    },
    {
     "name": "stderr",
     "output_type": "stream",
     "text": [
      "Epoch (val) 3/10: 100%|███████████████████████████████████████████████████████████████████| 12/12 [02:31<00:00, 12.66s/it, accepor_recall=0.919, donor_recall=0.913, loss=0.000399, pred_l1_dist=0]\n"
     ]
    },
    {
     "name": "stdout",
     "output_type": "stream",
     "text": [
      "\n",
      "\u001b[1mAcceptor:\u001b[0m\n",
      "0.9317\t0.8258\t0.9631\t0.9865\t0.8762\t0.9275000095367432\t0.7634000182151794\t0.13670000433921814\t0.011099999770522118\t21432\n",
      "\n",
      "\u001b[1mDonor:\u001b[0m\n",
      "0.9472\t0.8434\t0.9715\t0.9907\t0.8959\t0.9021999835968018\t0.6912000179290771\t0.10000000149011612\t0.008500000461935997\t21432\n",
      "epoch: 3/10, val loss = 0.000395\n"
     ]
    },
    {
     "name": "stderr",
     "output_type": "stream",
     "text": [
      "Epoch (train) 4/10: 100%|███████████████████████████████████████████████████████████████| 101/101 [38:29<00:00, 22.87s/it, accepor_recall=0.918, donor_recall=0.924, loss=0.000157, pred_l1_dist=0]\n"
     ]
    },
    {
     "name": "stdout",
     "output_type": "stream",
     "text": [
      "epoch: 4/10, train loss = 0.000156\n"
     ]
    },
    {
     "name": "stderr",
     "output_type": "stream",
     "text": [
      "Epoch (val) 4/10: 100%|███████████████████████████████████████████████████████████████████| 12/12 [02:25<00:00, 12.09s/it, accepor_recall=0.732, donor_recall=0.779, loss=0.000389, pred_l1_dist=0]\n"
     ]
    },
    {
     "name": "stdout",
     "output_type": "stream",
     "text": [
      "\n",
      "\u001b[1mAcceptor:\u001b[0m\n",
      "0.9582\t0.8527\t0.9625\t0.9845\t0.9035\t0.9193000197410583\t0.14399999380111694\t0.003599999938160181\t0.0006000000284984708\t21432\n",
      "\n",
      "\u001b[1mDonor:\u001b[0m\n",
      "0.9644\t0.8604\t0.9702\t0.9881\t0.9114\t0.9708999991416931\t0.27320000529289246\t0.005799999926239252\t0.0008999999845400453\t21432\n",
      "epoch: 4/10, val loss = 0.000342\n"
     ]
    },
    {
     "name": "stderr",
     "output_type": "stream",
     "text": [
      "Epoch (train) 5/10: 100%|███████████████████████████████████████████████████████████████| 101/101 [38:30<00:00, 22.88s/it, accepor_recall=0.922, donor_recall=0.929, loss=0.000151, pred_l1_dist=0]\n"
     ]
    },
    {
     "name": "stdout",
     "output_type": "stream",
     "text": [
      "epoch: 5/10, train loss = 0.000148\n"
     ]
    },
    {
     "name": "stderr",
     "output_type": "stream",
     "text": [
      "Epoch (val) 5/10: 100%|███████████████████████████████████████████████████████████████████| 12/12 [02:28<00:00, 12.41s/it, accepor_recall=0.924, donor_recall=0.932, loss=0.000208, pred_l1_dist=0]\n"
     ]
    },
    {
     "name": "stdout",
     "output_type": "stream",
     "text": [
      "\n",
      "\u001b[1mAcceptor:\u001b[0m\n",
      "0.9732\t0.9128\t0.985\t0.9919\t0.9468\t0.9656999707221985\t0.5519999861717224\t0.010900000110268593\t0.00139999995008111\t21432\n",
      "\n",
      "\u001b[1mDonor:\u001b[0m\n",
      "0.972\t0.917\t0.9891\t0.9946\t0.9497\t0.9603000283241272\t0.5893999934196472\t0.012799999676644802\t0.0015999999595806003\t21432\n",
      "epoch: 5/10, val loss = 0.000199\n"
     ]
    },
    {
     "name": "stderr",
     "output_type": "stream",
     "text": [
      "Epoch (train) 6/10: 100%|███████████████████████████████████████████████████████████████| 101/101 [38:18<00:00, 22.76s/it, accepor_recall=0.926, donor_recall=0.933, loss=0.000145, pred_l1_dist=0]\n"
     ]
    },
    {
     "name": "stdout",
     "output_type": "stream",
     "text": [
      "epoch: 6/10, train loss = 0.000144\n"
     ]
    },
    {
     "name": "stderr",
     "output_type": "stream",
     "text": [
      "Epoch (val) 6/10: 100%|█████████████████████████████████████████████████████████████████████| 12/12 [02:29<00:00, 12.43s/it, accepor_recall=0.95, donor_recall=0.95, loss=0.000353, pred_l1_dist=0]\n"
     ]
    },
    {
     "name": "stdout",
     "output_type": "stream",
     "text": [
      "\n",
      "\u001b[1mAcceptor:\u001b[0m\n",
      "0.9685\t0.8877\t0.9804\t0.9904\t0.9319\t0.9915000200271606\t0.8600000143051147\t0.04450000077486038\t0.0032999999821186066\t21432\n",
      "\n",
      "\u001b[1mDonor:\u001b[0m\n",
      "0.9696\t0.8852\t0.9827\t0.9936\t0.9316\t0.9904999732971191\t0.8745999932289124\t0.052000001072883606\t0.0038999998942017555\t21432\n",
      "epoch: 6/10, val loss = 0.000338\n"
     ]
    },
    {
     "name": "stderr",
     "output_type": "stream",
     "text": [
      "Epoch (train) 7/10: 100%|████████████████████████████████████████████████████████████████| 101/101 [38:13<00:00, 22.71s/it, accepor_recall=0.928, donor_recall=0.935, loss=0.00014, pred_l1_dist=0]\n"
     ]
    },
    {
     "name": "stdout",
     "output_type": "stream",
     "text": [
      "epoch: 7/10, train loss = 0.000139\n"
     ]
    },
    {
     "name": "stderr",
     "output_type": "stream",
     "text": [
      "Epoch (val) 7/10: 100%|███████████████████████████████████████████████████████████████████| 12/12 [02:26<00:00, 12.24s/it, accepor_recall=0.942, donor_recall=0.936, loss=0.000248, pred_l1_dist=0]\n"
     ]
    },
    {
     "name": "stdout",
     "output_type": "stream",
     "text": [
      "\n",
      "\u001b[1mAcceptor:\u001b[0m\n",
      "0.9724\t0.9051\t0.983\t0.9912\t0.9418\t0.9836000204086304\t0.7498000264167786\t0.031599998474121094\t0.004699999932199717\t21432\n",
      "\n",
      "\u001b[1mDonor:\u001b[0m\n",
      "0.969\t0.9042\t0.9872\t0.9944\t0.9427\t0.975600004196167\t0.6976000070571899\t0.019500000402331352\t0.0026000000070780516\t21432\n",
      "epoch: 7/10, val loss = 0.000239\n"
     ]
    },
    {
     "name": "stderr",
     "output_type": "stream",
     "text": [
      "Epoch (train) 8/10: 100%|███████████████████████████████████████████████████████████████| 101/101 [38:29<00:00, 22.86s/it, accepor_recall=0.947, donor_recall=0.952, loss=0.000112, pred_l1_dist=0]\n"
     ]
    },
    {
     "name": "stdout",
     "output_type": "stream",
     "text": [
      "epoch: 8/10, train loss = 0.000113\n"
     ]
    },
    {
     "name": "stderr",
     "output_type": "stream",
     "text": [
      "Epoch (val) 8/10: 100%|███████████████████████████████████████████████████████████████████| 12/12 [02:32<00:00, 12.69s/it, accepor_recall=0.933, donor_recall=0.947, loss=0.000214, pred_l1_dist=0]\n"
     ]
    },
    {
     "name": "stdout",
     "output_type": "stream",
     "text": [
      "\n",
      "\u001b[1mAcceptor:\u001b[0m\n",
      "0.9732\t0.917\t0.9862\t0.9931\t0.9491\t0.9807999730110168\t0.6474000215530396\t0.007899999618530273\t0.0010000000474974513\t21432\n",
      "\n",
      "\u001b[1mDonor:\u001b[0m\n",
      "0.9693\t0.9196\t0.9902\t0.9951\t0.9517\t0.9873999953269958\t0.7721999883651733\t0.01810000091791153\t0.002199999988079071\t21432\n",
      "epoch: 8/10, val loss = 0.000205\n"
     ]
    },
    {
     "name": "stderr",
     "output_type": "stream",
     "text": [
      "Epoch (train) 9/10: 100%|████████████████████████████████████████████████████████████████| 101/101 [38:29<00:00, 22.87s/it, accepor_recall=0.954, donor_recall=0.959, loss=9.83e-5, pred_l1_dist=0]\n"
     ]
    },
    {
     "name": "stdout",
     "output_type": "stream",
     "text": [
      "epoch: 9/10, train loss = 0.000097\n"
     ]
    },
    {
     "name": "stderr",
     "output_type": "stream",
     "text": [
      "Epoch (val) 9/10: 100%|███████████████████████████████████████████████████████████████████| 12/12 [02:27<00:00, 12.31s/it, accepor_recall=0.925, donor_recall=0.926, loss=0.000194, pred_l1_dist=0]\n"
     ]
    },
    {
     "name": "stdout",
     "output_type": "stream",
     "text": [
      "\n",
      "\u001b[1mAcceptor:\u001b[0m\n",
      "0.9758\t0.923\t0.9886\t0.9933\t0.9539\t0.9810000061988831\t0.5465999841690063\t0.0024999999441206455\t0.0003000000142492354\t21432\n",
      "\n",
      "\u001b[1mDonor:\u001b[0m\n",
      "0.9712\t0.9256\t0.9911\t0.9954\t0.9541\t0.9814000129699707\t0.5546000003814697\t0.0027000000700354576\t0.0003000000142492354\t21432\n",
      "epoch: 9/10, val loss = 0.000181\n"
     ]
    },
    {
     "name": "stderr",
     "output_type": "stream",
     "text": [
      "Epoch (train) 10/10: 100%|███████████████████████████████████████████████████████████████| 101/101 [38:16<00:00, 22.74s/it, accepor_recall=0.963, donor_recall=0.966, loss=8.82e-5, pred_l1_dist=0]\n"
     ]
    },
    {
     "name": "stdout",
     "output_type": "stream",
     "text": [
      "epoch: 10/10, train loss = 0.000083\n"
     ]
    },
    {
     "name": "stderr",
     "output_type": "stream",
     "text": [
      "Epoch (val) 10/10: 100%|███████████████████████████████████████████████████████████████████| 12/12 [02:27<00:00, 12.31s/it, accepor_recall=0.934, donor_recall=0.94, loss=0.000196, pred_l1_dist=0]\n"
     ]
    },
    {
     "name": "stdout",
     "output_type": "stream",
     "text": [
      "\n",
      "\u001b[1mAcceptor:\u001b[0m\n",
      "0.9723\t0.9263\t0.9888\t0.993\t0.9527\t0.9811000227928162\t0.5677000284194946\t0.002099999925121665\t0.0003000000142492354\t21432\n",
      "\n",
      "\u001b[1mDonor:\u001b[0m\n",
      "0.9718\t0.9254\t0.9908\t0.9955\t0.9536\t0.9878000020980835\t0.6406000256538391\t0.002300000051036477\t0.0003000000142492354\t21432\n",
      "epoch: 10/10, val loss = 0.000182\n"
     ]
    },
    {
     "data": {
      "image/png": "[encoded data removed]",
      "text/plain": [
       "<Figure size 432x288 with 1 Axes>"
      ]
     },
     "metadata": {
      "needs_background": "light"
     },
     "output_type": "display_data"
    }
   ],
   "source": [
    "device = torch.device(\"cuda\" if torch.cuda.is_available() else \"cpu\")\n",
    "epochs = 10\n",
    "hs = []\n",
    "for model_nr in range(5):\n",
    "    model_m = ResNet_40K(CL_max)\n",
    "    model_m.apply(keras_init)\n",
    "    model_m = model_m.to(device)\n",
    "    if torch.cuda.device_count() > 1:\n",
    "        #print(\"Let's use\", torch.cuda.device_count(), \"GPUs!\")\n",
    "        # dim = 0 [30, xxx] -> [10, ...], [10, ...], [10, ...] on 3 GPUs\n",
    "        model_m = nn.DataParallel(model_m)\n",
    "    \n",
    "    modelFileName = '../Results/PyTorch_Models/resnet_encoder_40k_120522_{}'.format(model_nr)\n",
    "    #model_m.load_state_dict(torch.load('../Results/PyTorch_Models/SpliceAI_Ensembl_dgxtest_{}'.format(0)))\n",
    "    #loss = nn.CrossEntropyLoss(weight=torch.from_numpy(weights).float().to(device),ignore_index=-1,reduction='mean')\n",
    "    loss = categorical_crossentropy_2d().loss\n",
    "    learning_rate= 1e-3*k\n",
    "    optimizer = torch.optim.Adam(model_m.parameters(), lr=learning_rate)\n",
    "    scheduler = torch.optim.lr_scheduler.StepLR(optimizer, step_size=1, gamma=0.5)\n",
    "    warmup = get_constant_schedule_with_warmup(optimizer, num_warmup_steps=1000)\n",
    "    h = trainModel(model_m,modelFileName,loss,train_loader,val_loader,optimizer,scheduler,warmup,BATCH_SIZE,epochs,device,lowValidationGPUMem=True)\n",
    "    hs.append(h)\n",
    "    #print(model_m.module.conv_final.bias)\n",
    "    #val_results_combined.append(val_results)\n",
    "    plt.plot(range(epochs),h['loss'],label='Train')\n",
    "    plt.plot(range(epochs),h['val_loss'],label='Validation')\n",
    "    plt.xlabel('Epoch')\n",
    "    plt.ylabel('Loss')\n",
    "    plt.legend()\n",
    "    plt.show()"
   ]
  },
  {
   "cell_type": "code",
   "execution_count": 12,
   "metadata": {},
   "outputs": [
    {
     "name": "stderr",
     "output_type": "stream",
     "text": [
      "100%|██████████████████████████████████████████████████████████████████████████████████████████████████████████████████████████████████████████████████████████████| 17/17 [03:36<00:00, 12.71s/it]\n"
     ]
    }
   ],
   "source": [
    "device = torch.device(\"cuda\" if torch.cuda.is_available() else \"cpu\")\n",
    "h5f = h5py.File('/odinn/tmp/benediktj/Data/SplicePrediction/gencode_40k_dataset_test_.h5')\n",
    "\n",
    "num_idx = len(h5f.keys())//2\n",
    "\n",
    "test_dataset = h5pyDataset(h5f,list(range(num_idx)))\n",
    "test_loader = torch.utils.data.DataLoader(test_dataset, batch_size=1, shuffle=False, num_workers=0)\n",
    "\n",
    "temp = 1\n",
    "n_models = 5\n",
    "device = torch.device(\"cuda\" if torch.cuda.is_available() else \"cpu\")\n",
    "model_m = ResNet_40K(CL_max)\n",
    "model_m.apply(keras_init)\n",
    "model_m = model_m.to(device)\n",
    "\n",
    "if torch.cuda.device_count() > 1:\n",
    "    model_m = nn.DataParallel(model_m)\n",
    "\n",
    "output_class_labels = ['Null', 'Acceptor', 'Donor']\n",
    "\n",
    "#for output_class in [1,2]:\n",
    "models = [copy.deepcopy(model_m) for i in range(n_models)]\n",
    "[model.load_state_dict(torch.load('../Results/PyTorch_Models/resnet_encoder_40k_120522_{}'.format(i))) for i,model in enumerate(models)]\n",
    "\n",
    "for model in models:\n",
    "    model.eval()\n",
    "    \n",
    "Y_true_acceptor, Y_pred_acceptor = [],[]\n",
    "Y_true_donor, Y_pred_donor = [],[]\n",
    "\n",
    "for (batch_chunks,target_chunks) in tqdm(test_loader):\n",
    "    batch_chunks = torch.transpose(batch_chunks[0].to(device),1,2)\n",
    "    target_chunks = torch.transpose(torch.squeeze(target_chunks[0].to(device),0),1,2)\n",
    "    #print(np.max(target_chunks.cpu().numpy()[:,2,:]))\n",
    "    n_chunks = int(np.ceil(batch_chunks.shape[0]/BATCH_SIZE))\n",
    "    batch_chunks = torch.chunk(batch_chunks, n_chunks, dim=0)\n",
    "    target_chunks = torch.chunk(target_chunks, n_chunks, dim=0)\n",
    "    targets_list = []\n",
    "    outputs_list = []\n",
    "    for j in range(len(batch_chunks)):\n",
    "        batch_features = batch_chunks[j]\n",
    "        targets = target_chunks[j]\n",
    "        outputs = ([models[i](batch_features).detach() for i in range(n_models)])\n",
    "        outputs = (outputs[0]+outputs[1]+outputs[2]+outputs[3]+outputs[4])/n_models\n",
    "        #outputs = (outputs[0]+outputs[1]+outputs[2])/n_models\n",
    "        targets_list.extend(targets.unsqueeze(0))\n",
    "        outputs_list.extend(outputs.unsqueeze(0))\n",
    "\n",
    "    targets = torch.transpose(torch.vstack(targets_list),1,2).cpu().numpy()\n",
    "    outputs = torch.transpose(torch.vstack(outputs_list),1,2).cpu().numpy()\n",
    "\n",
    "    is_expr = (targets.sum(axis=(1,2)) >= 1)\n",
    "    Y_true_acceptor.extend(targets[is_expr, :, 1].flatten())\n",
    "    Y_true_donor.extend(targets[is_expr, :, 2].flatten())\n",
    "    Y_pred_acceptor.extend(outputs[is_expr, :, 1].flatten())\n",
    "    Y_pred_donor.extend(outputs[is_expr, :, 2].flatten())"
   ]
  },
  {
   "cell_type": "code",
   "execution_count": 13,
   "metadata": {},
   "outputs": [
    {
     "name": "stdout",
     "output_type": "stream",
     "text": [
      "\n",
      "\u001b[1mAcceptor:\u001b[0m\n",
      "0.9955\t0.9461\t0.9871\t0.9908\t0.9759\t0.9678999781608582\t0.3127000033855438\t0.0032999999821186066\t0.0005000000237487257\t14289\n",
      "\n",
      "\u001b[1mDonor:\u001b[0m\n",
      "0.9959\t0.9487\t0.9894\t0.9929\t0.9789\t0.9692999720573425\t0.34610000252723694\t0.00279999990016222\t0.00039999998989515007\t14289\n"
     ]
    }
   ],
   "source": [
    "Y_true_acceptor, Y_pred_acceptor,Y_true_donor, Y_pred_donor = np.array(Y_true_acceptor), np.array(Y_pred_acceptor),np.array(Y_true_donor), np.array(Y_pred_donor)\n",
    "print(\"\\n\\033[1m{}:\\033[0m\".format('Acceptor'))\n",
    "acceptor_val_results = print_topl_statistics(Y_true_acceptor, Y_pred_acceptor)\n",
    "print(\"\\n\\033[1m{}:\\033[0m\".format('Donor'))\n",
    "donor_val_results =print_topl_statistics(Y_true_donor, Y_pred_donor)"
   ]
  },
  {
   "cell_type": "code",
   "execution_count": 9,
   "metadata": {},
   "outputs": [],
   "source": [
    "data_dir = '/odinn/tmp/benediktj/Data/SplicePrediction-050422'\n",
    "setType = 'test'\n",
    "annotation_test, transcriptToLabel_test, seqData = getData(data_dir, setType)"
   ]
  },
  {
   "cell_type": "code",
   "execution_count": 10,
   "metadata": {
    "scrolled": true
   },
   "outputs": [
    {
     "name": "stderr",
     "output_type": "stream",
     "text": [
      "100%|████████████████████████████████████████████████████████████████████████████████████████████████████████████████████████████████████████████████████████████| 90/90 [1:17:32<00:00, 51.69s/it]\n"
     ]
    }
   ],
   "source": [
    "temp = 1\n",
    "n_models = 5\n",
    "device = torch.device(\"cuda\" if torch.cuda.is_available() else \"cpu\")\n",
    "model_m = ResNet_40K(CL_max,False)\n",
    "model_m.apply(keras_init)\n",
    "model_m = model_m.to(device)\n",
    "\n",
    "if torch.cuda.device_count() > 1:\n",
    "    model_m = nn.DataParallel(model_m)\n",
    "\n",
    "output_class_labels = ['Null', 'Acceptor', 'Donor']\n",
    "\n",
    "#for output_class in [1,2]:\n",
    "models = [copy.deepcopy(model_m) for i in range(n_models)]\n",
    "[model.load_state_dict(torch.load('../Results/PyTorch_Models/resnet_encoder_40k_120522_{}'.format(i))) for i,model in enumerate(models)]\n",
    "\n",
    "for model in models:\n",
    "    model.eval()\n",
    "    \n",
    "#nr = [0,2,3]\n",
    "#[model.load_state_dict(torch.load('../Results/PyTorch_Models/transformer_encoder_40k_201221_{}'.format(nr[i]))) for i,model in enumerate(models)]\n",
    "#chunkSize = num_idx/10\n",
    "\n",
    "\n",
    "Y_true_acceptor, Y_pred_acceptor = [],[]\n",
    "Y_true_donor, Y_pred_donor = [],[]\n",
    "test_dataset = spliceDataset(annotation_test,transcriptToLabel_test,SL,CL_max)\n",
    "test_dataset.seqData = seqData\n",
    "test_loader = torch.utils.data.DataLoader(test_dataset, batch_size=100, shuffle=False, num_workers=0,collate_fn=collate_fn, pin_memory=True)\n",
    "\n",
    "\n",
    "for (batch_chunks,target_chunks) in tqdm(test_loader):\n",
    "    batch_chunks = torch.transpose(batch_chunks.to(device),1,2)\n",
    "    target_chunks = torch.transpose(torch.squeeze(target_chunks.to(device),0),1,2)\n",
    "    batch_chunks = torch.split(batch_chunks, BATCH_SIZE, dim=0)\n",
    "    target_chunks = torch.split(target_chunks, BATCH_SIZE, dim=0)\n",
    "    targets_list = []\n",
    "    outputs_list = []\n",
    "    for j in range(len(batch_chunks)):\n",
    "        batch_features = batch_chunks[j]\n",
    "        targets = target_chunks[j]\n",
    "        outputs = ([models[i](batch_features).detach() for i in range(n_models)])\n",
    "        outputs = (outputs[0]+outputs[1]+outputs[2]+outputs[3]+outputs[4])/n_models\n",
    "        #outputs = (outputs[0]+outputs[1]+outputs[2])/n_models\n",
    "        targets_list.extend(targets.unsqueeze(0))\n",
    "        outputs_list.extend(outputs.unsqueeze(0))\n",
    "\n",
    "    targets = torch.transpose(torch.vstack(targets_list),1,2).cpu().numpy()\n",
    "    outputs = torch.transpose(torch.vstack(outputs_list),1,2).cpu().numpy()\n",
    "\n",
    "    is_expr = (targets.sum(axis=(1,2)) >= 1)\n",
    "    Y_true_acceptor.extend(targets[is_expr, :, 1].flatten())\n",
    "    Y_true_donor.extend(targets[is_expr, :, 2].flatten())\n",
    "    Y_pred_acceptor.extend(outputs[is_expr, :, 1].flatten())\n",
    "    Y_pred_donor.extend(outputs[is_expr, :, 2].flatten())\n",
    "\n"
   ]
  },
  {
   "cell_type": "code",
   "execution_count": 11,
   "metadata": {},
   "outputs": [
    {
     "name": "stdout",
     "output_type": "stream",
     "text": [
      "\n",
      "\u001b[1mAcceptor:\u001b[0m\n",
      "0.9803\t0.9382\t0.9911\t0.9954\t0.9646\t0.9722999930381775\t0.4374000132083893\t0.0035000001080334187\t0.0005000000237487257\t89712\n",
      "\n",
      "\u001b[1mDonor:\u001b[0m\n",
      "0.9813\t0.9434\t0.9937\t0.9971\t0.9689\t0.9736999869346619\t0.47850000858306885\t0.003100000089034438\t0.00039999998989515007\t89712\n"
     ]
    }
   ],
   "source": [
    "Y_true_acceptor, Y_pred_acceptor,Y_true_donor, Y_pred_donor = np.array(Y_true_acceptor), np.array(Y_pred_acceptor),np.array(Y_true_donor), np.array(Y_pred_donor)\n",
    "print(\"\\n\\033[1m{}:\\033[0m\".format('Acceptor'))\n",
    "acceptor_val_results = print_topl_statistics(Y_true_acceptor, Y_pred_acceptor)\n",
    "print(\"\\n\\033[1m{}:\\033[0m\".format('Donor'))\n",
    "donor_val_results =print_topl_statistics(Y_true_donor, Y_pred_donor)"
   ]
  },
  {
   "cell_type": "code",
   "execution_count": null,
   "metadata": {},
   "outputs": [],
   "source": []
  },
  {
   "cell_type": "code",
   "execution_count": null,
   "metadata": {},
   "outputs": [],
   "source": []
  }
 ],
 "metadata": {
  "kernelspec": {
   "display_name": "Python 3 (ipykernel)",
   "language": "python",
   "name": "python3"
  },
  "language_info": {
   "codemirror_mode": {
    "name": "ipython",
    "version": 3
   },
   "file_extension": ".py",
   "mimetype": "text/x-python",
   "name": "python",
   "nbconvert_exporter": "python",
   "pygments_lexer": "ipython3",
   "version": "3.8.12"
  }
 },
 "nbformat": 4,
 "nbformat_minor": 4
}
