{
 "cells": [
  {
   "cell_type": "code",
   "execution_count": 1,
   "metadata": {},
   "outputs": [],
   "source": [
    "import numpy as np\n",
    "import sys\n",
    "import time\n",
    "import h5py\n",
    "from tqdm import tqdm\n",
    "\n",
    "import numpy as np\n",
    "import re\n",
    "from math import ceil\n",
    "from sklearn.metrics import average_precision_score\n",
    "\n",
    "import pandas as pd\n",
    "import matplotlib.pyplot as plt\n",
    "import pickle\n",
    "#import pickle5 as pickle\n",
    "\n",
    "from sklearn.model_selection import train_test_split\n",
    "\n",
    "from scipy.sparse import load_npz\n",
    "from glob import glob\n",
    "\n",
    "from sklearn.metrics import average_precision_score\n",
    "from sklearn.metrics import precision_recall_curve\n",
    "from sklearn.linear_model import LogisticRegression"
   ]
  },
  {
   "cell_type": "code",
   "execution_count": 2,
   "metadata": {
    "scrolled": true
   },
   "outputs": [],
   "source": [
    "from torch.utils.data import Dataset\n",
    "import torch\n",
    "import torch.nn as nn\n",
    "from transformers import get_constant_schedule_with_warmup\n",
    "from sklearn.metrics import precision_score,recall_score,accuracy_score\n",
    "\n",
    "from src.train import trainModel\n",
    "from src.dataloader import getData,spliceDataset,h5pyDataset,getDataPointList,getDataPointListFull,DataPoint\n",
    "from src.weight_init import keras_init\n",
    "from src.losses import categorical_crossentropy_2d\n",
    "from src.model import SpliceFormer\n",
    "from src.evaluation_metrics import print_topl_statistics\n",
    "import copy\n",
    "#import tensorflow as tf"
   ]
  },
  {
   "cell_type": "code",
   "execution_count": 3,
   "metadata": {},
   "outputs": [
    {
     "name": "stdout",
     "output_type": "stream",
     "text": [
      "Thu Oct 12 14:42:21 2023       \r\n",
      "+---------------------------------------------------------------------------------------+\r\n",
      "| NVIDIA-SMI 535.86.10              Driver Version: 535.86.10    CUDA Version: 12.2     |\r\n",
      "|-----------------------------------------+----------------------+----------------------+\r\n",
      "| GPU  Name                 Persistence-M | Bus-Id        Disp.A | Volatile Uncorr. ECC |\r\n",
      "| Fan  Temp   Perf          Pwr:Usage/Cap |         Memory-Usage | GPU-Util  Compute M. |\r\n",
      "|                                         |                      |               MIG M. |\r\n",
      "|=========================================+======================+======================|\r\n",
      "|   0  NVIDIA GeForce RTX 3080        Off | 00000000:01:00.0 Off |                  N/A |\r\n",
      "| 30%   31C    P0             ERR! / 320W |      1MiB / 10240MiB |      0%      Default |\r\n",
      "|                                         |                      |                  N/A |\r\n",
      "+-----------------------------------------+----------------------+----------------------+\r\n",
      "                                                                                         \r\n",
      "+---------------------------------------------------------------------------------------+\r\n",
      "| Processes:                                                                            |\r\n",
      "|  GPU   GI   CI        PID   Type   Process name                            GPU Memory |\r\n",
      "|        ID   ID                                                             Usage      |\r\n",
      "|=======================================================================================|\r\n",
      "|  No running processes found                                                           |\r\n",
      "+---------------------------------------------------------------------------------------+\r\n"
     ]
    }
   ],
   "source": [
    "!nvidia-smi"
   ]
  },
  {
   "cell_type": "code",
   "execution_count": 4,
   "metadata": {},
   "outputs": [],
   "source": [
    "#snps = df.drop_duplicates(subset=['not_sQTL'])['not_sQTL'].values\n",
    "#res = pd.DataFrame({'Chr':[x.split(':')[0] for x in snps],'Pos':[int(x.split(':')[1]) for x in snps],'marker':snps})\n",
    "#res.sort_values(['Chr','Pos'],ascending=True).to_csv('../Data/not_sQTL.gor',sep='\\t',index=False)"
   ]
  },
  {
   "cell_type": "code",
   "execution_count": 5,
   "metadata": {},
   "outputs": [],
   "source": [
    "rng = np.random.default_rng(23673)"
   ]
  },
  {
   "cell_type": "code",
   "execution_count": 6,
   "metadata": {},
   "outputs": [],
   "source": [
    "data_dir = '../Data'"
   ]
  },
  {
   "cell_type": "code",
   "execution_count": 7,
   "metadata": {},
   "outputs": [],
   "source": [
    "L = 32\n",
    "N_GPUS = 8\n",
    "k = 2\n",
    "# Hyper-parameters:\n",
    "# L: Number of convolution kernels\n",
    "# W: Convolution window size in each residual unit\n",
    "# AR: Atrous rate in each residual unit\n",
    "\n",
    "W = np.asarray([11, 11, 11, 11, 11, 11, 11, 11,\n",
    "                21, 21, 21, 21, 41, 41, 41, 41])\n",
    "AR = np.asarray([1, 1, 1, 1, 4, 4, 4, 4,\n",
    "                 10, 10, 10, 10, 25, 25, 25, 25])\n",
    "BATCH_SIZE = k*6*N_GPUS\n",
    "\n",
    "\n",
    "CL = 2 * np.sum(AR*(W-1))"
   ]
  },
  {
   "cell_type": "code",
   "execution_count": 8,
   "metadata": {},
   "outputs": [],
   "source": [
    "SL=5000\n",
    "CL_max=40000"
   ]
  },
  {
   "cell_type": "code",
   "execution_count": 9,
   "metadata": {},
   "outputs": [
    {
     "ename": "FileNotFoundError",
     "evalue": "[Errno 2] No such file or directory: '/odinn/tmp/olafurs/daisy_hq/basic_markerset_v3/markers_v3-varjoin.gor'",
     "output_type": "error",
     "traceback": [
      "\u001b[0;31m---------------------------------------------------------------------------\u001b[0m",
      "\u001b[0;31mFileNotFoundError\u001b[0m                         Traceback (most recent call last)",
      "\u001b[0;32m/tmp/ipykernel_17950/3875364755.py\u001b[0m in \u001b[0;36m<module>\u001b[0;34m\u001b[0m\n\u001b[0;32m----> 1\u001b[0;31m \u001b[0mlead_sQTL\u001b[0m \u001b[0;34m=\u001b[0m \u001b[0mpd\u001b[0m\u001b[0;34m.\u001b[0m\u001b[0mread_csv\u001b[0m\u001b[0;34m(\u001b[0m\u001b[0;34m'/odinn/tmp/olafurs/daisy_hq/basic_markerset_v3/markers_v3-varjoin.gor'\u001b[0m\u001b[0;34m,\u001b[0m \u001b[0msep\u001b[0m\u001b[0;34m=\u001b[0m\u001b[0;34m'\\t'\u001b[0m\u001b[0;34m)\u001b[0m\u001b[0;34m\u001b[0m\u001b[0;34m\u001b[0m\u001b[0m\n\u001b[0m",
      "\u001b[0;32m~/.local/lib/python3.8/site-packages/pandas/util/_decorators.py\u001b[0m in \u001b[0;36mwrapper\u001b[0;34m(*args, **kwargs)\u001b[0m\n\u001b[1;32m    309\u001b[0m                     \u001b[0mstacklevel\u001b[0m\u001b[0;34m=\u001b[0m\u001b[0mstacklevel\u001b[0m\u001b[0;34m,\u001b[0m\u001b[0;34m\u001b[0m\u001b[0;34m\u001b[0m\u001b[0m\n\u001b[1;32m    310\u001b[0m                 )\n\u001b[0;32m--> 311\u001b[0;31m             \u001b[0;32mreturn\u001b[0m \u001b[0mfunc\u001b[0m\u001b[0;34m(\u001b[0m\u001b[0;34m*\u001b[0m\u001b[0margs\u001b[0m\u001b[0;34m,\u001b[0m \u001b[0;34m**\u001b[0m\u001b[0mkwargs\u001b[0m\u001b[0;34m)\u001b[0m\u001b[0;34m\u001b[0m\u001b[0;34m\u001b[0m\u001b[0m\n\u001b[0m\u001b[1;32m    312\u001b[0m \u001b[0;34m\u001b[0m\u001b[0m\n\u001b[1;32m    313\u001b[0m         \u001b[0;32mreturn\u001b[0m \u001b[0mwrapper\u001b[0m\u001b[0;34m\u001b[0m\u001b[0;34m\u001b[0m\u001b[0m\n",
      "\u001b[0;32m~/.local/lib/python3.8/site-packages/pandas/io/parsers/readers.py\u001b[0m in \u001b[0;36mread_csv\u001b[0;34m(filepath_or_buffer, sep, delimiter, header, names, index_col, usecols, squeeze, prefix, mangle_dupe_cols, dtype, engine, converters, true_values, false_values, skipinitialspace, skiprows, skipfooter, nrows, na_values, keep_default_na, na_filter, verbose, skip_blank_lines, parse_dates, infer_datetime_format, keep_date_col, date_parser, dayfirst, cache_dates, iterator, chunksize, compression, thousands, decimal, lineterminator, quotechar, quoting, doublequote, escapechar, comment, encoding, encoding_errors, dialect, error_bad_lines, warn_bad_lines, on_bad_lines, delim_whitespace, low_memory, memory_map, float_precision, storage_options)\u001b[0m\n\u001b[1;32m    678\u001b[0m     \u001b[0mkwds\u001b[0m\u001b[0;34m.\u001b[0m\u001b[0mupdate\u001b[0m\u001b[0;34m(\u001b[0m\u001b[0mkwds_defaults\u001b[0m\u001b[0;34m)\u001b[0m\u001b[0;34m\u001b[0m\u001b[0;34m\u001b[0m\u001b[0m\n\u001b[1;32m    679\u001b[0m \u001b[0;34m\u001b[0m\u001b[0m\n\u001b[0;32m--> 680\u001b[0;31m     \u001b[0;32mreturn\u001b[0m \u001b[0m_read\u001b[0m\u001b[0;34m(\u001b[0m\u001b[0mfilepath_or_buffer\u001b[0m\u001b[0;34m,\u001b[0m \u001b[0mkwds\u001b[0m\u001b[0;34m)\u001b[0m\u001b[0;34m\u001b[0m\u001b[0;34m\u001b[0m\u001b[0m\n\u001b[0m\u001b[1;32m    681\u001b[0m \u001b[0;34m\u001b[0m\u001b[0m\n\u001b[1;32m    682\u001b[0m \u001b[0;34m\u001b[0m\u001b[0m\n",
      "\u001b[0;32m~/.local/lib/python3.8/site-packages/pandas/io/parsers/readers.py\u001b[0m in \u001b[0;36m_read\u001b[0;34m(filepath_or_buffer, kwds)\u001b[0m\n\u001b[1;32m    573\u001b[0m \u001b[0;34m\u001b[0m\u001b[0m\n\u001b[1;32m    574\u001b[0m     \u001b[0;31m# Create the parser.\u001b[0m\u001b[0;34m\u001b[0m\u001b[0;34m\u001b[0m\u001b[0;34m\u001b[0m\u001b[0m\n\u001b[0;32m--> 575\u001b[0;31m     \u001b[0mparser\u001b[0m \u001b[0;34m=\u001b[0m \u001b[0mTextFileReader\u001b[0m\u001b[0;34m(\u001b[0m\u001b[0mfilepath_or_buffer\u001b[0m\u001b[0;34m,\u001b[0m \u001b[0;34m**\u001b[0m\u001b[0mkwds\u001b[0m\u001b[0;34m)\u001b[0m\u001b[0;34m\u001b[0m\u001b[0;34m\u001b[0m\u001b[0m\n\u001b[0m\u001b[1;32m    576\u001b[0m \u001b[0;34m\u001b[0m\u001b[0m\n\u001b[1;32m    577\u001b[0m     \u001b[0;32mif\u001b[0m \u001b[0mchunksize\u001b[0m \u001b[0;32mor\u001b[0m \u001b[0miterator\u001b[0m\u001b[0;34m:\u001b[0m\u001b[0;34m\u001b[0m\u001b[0;34m\u001b[0m\u001b[0m\n",
      "\u001b[0;32m~/.local/lib/python3.8/site-packages/pandas/io/parsers/readers.py\u001b[0m in \u001b[0;36m__init__\u001b[0;34m(self, f, engine, **kwds)\u001b[0m\n\u001b[1;32m    931\u001b[0m \u001b[0;34m\u001b[0m\u001b[0m\n\u001b[1;32m    932\u001b[0m         \u001b[0mself\u001b[0m\u001b[0;34m.\u001b[0m\u001b[0mhandles\u001b[0m\u001b[0;34m:\u001b[0m \u001b[0mIOHandles\u001b[0m \u001b[0;34m|\u001b[0m \u001b[0;32mNone\u001b[0m \u001b[0;34m=\u001b[0m \u001b[0;32mNone\u001b[0m\u001b[0;34m\u001b[0m\u001b[0;34m\u001b[0m\u001b[0m\n\u001b[0;32m--> 933\u001b[0;31m         \u001b[0mself\u001b[0m\u001b[0;34m.\u001b[0m\u001b[0m_engine\u001b[0m \u001b[0;34m=\u001b[0m \u001b[0mself\u001b[0m\u001b[0;34m.\u001b[0m\u001b[0m_make_engine\u001b[0m\u001b[0;34m(\u001b[0m\u001b[0mf\u001b[0m\u001b[0;34m,\u001b[0m \u001b[0mself\u001b[0m\u001b[0;34m.\u001b[0m\u001b[0mengine\u001b[0m\u001b[0;34m)\u001b[0m\u001b[0;34m\u001b[0m\u001b[0;34m\u001b[0m\u001b[0m\n\u001b[0m\u001b[1;32m    934\u001b[0m \u001b[0;34m\u001b[0m\u001b[0m\n\u001b[1;32m    935\u001b[0m     \u001b[0;32mdef\u001b[0m \u001b[0mclose\u001b[0m\u001b[0;34m(\u001b[0m\u001b[0mself\u001b[0m\u001b[0;34m)\u001b[0m\u001b[0;34m:\u001b[0m\u001b[0;34m\u001b[0m\u001b[0;34m\u001b[0m\u001b[0m\n",
      "\u001b[0;32m~/.local/lib/python3.8/site-packages/pandas/io/parsers/readers.py\u001b[0m in \u001b[0;36m_make_engine\u001b[0;34m(self, f, engine)\u001b[0m\n\u001b[1;32m   1215\u001b[0m             \u001b[0;31m# \"Union[str, PathLike[str], ReadCsvBuffer[bytes], ReadCsvBuffer[str]]\"\u001b[0m\u001b[0;34m\u001b[0m\u001b[0;34m\u001b[0m\u001b[0;34m\u001b[0m\u001b[0m\n\u001b[1;32m   1216\u001b[0m             \u001b[0;31m# , \"str\", \"bool\", \"Any\", \"Any\", \"Any\", \"Any\", \"Any\"\u001b[0m\u001b[0;34m\u001b[0m\u001b[0;34m\u001b[0m\u001b[0;34m\u001b[0m\u001b[0m\n\u001b[0;32m-> 1217\u001b[0;31m             self.handles = get_handle(  # type: ignore[call-overload]\n\u001b[0m\u001b[1;32m   1218\u001b[0m                 \u001b[0mf\u001b[0m\u001b[0;34m,\u001b[0m\u001b[0;34m\u001b[0m\u001b[0;34m\u001b[0m\u001b[0m\n\u001b[1;32m   1219\u001b[0m                 \u001b[0mmode\u001b[0m\u001b[0;34m,\u001b[0m\u001b[0;34m\u001b[0m\u001b[0;34m\u001b[0m\u001b[0m\n",
      "\u001b[0;32m~/.local/lib/python3.8/site-packages/pandas/io/common.py\u001b[0m in \u001b[0;36mget_handle\u001b[0;34m(path_or_buf, mode, encoding, compression, memory_map, is_text, errors, storage_options)\u001b[0m\n\u001b[1;32m    787\u001b[0m         \u001b[0;32mif\u001b[0m \u001b[0mioargs\u001b[0m\u001b[0;34m.\u001b[0m\u001b[0mencoding\u001b[0m \u001b[0;32mand\u001b[0m \u001b[0;34m\"b\"\u001b[0m \u001b[0;32mnot\u001b[0m \u001b[0;32min\u001b[0m \u001b[0mioargs\u001b[0m\u001b[0;34m.\u001b[0m\u001b[0mmode\u001b[0m\u001b[0;34m:\u001b[0m\u001b[0;34m\u001b[0m\u001b[0;34m\u001b[0m\u001b[0m\n\u001b[1;32m    788\u001b[0m             \u001b[0;31m# Encoding\u001b[0m\u001b[0;34m\u001b[0m\u001b[0;34m\u001b[0m\u001b[0;34m\u001b[0m\u001b[0m\n\u001b[0;32m--> 789\u001b[0;31m             handle = open(\n\u001b[0m\u001b[1;32m    790\u001b[0m                 \u001b[0mhandle\u001b[0m\u001b[0;34m,\u001b[0m\u001b[0;34m\u001b[0m\u001b[0;34m\u001b[0m\u001b[0m\n\u001b[1;32m    791\u001b[0m                 \u001b[0mioargs\u001b[0m\u001b[0;34m.\u001b[0m\u001b[0mmode\u001b[0m\u001b[0;34m,\u001b[0m\u001b[0;34m\u001b[0m\u001b[0;34m\u001b[0m\u001b[0m\n",
      "\u001b[0;31mFileNotFoundError\u001b[0m: [Errno 2] No such file or directory: '/odinn/tmp/olafurs/daisy_hq/basic_markerset_v3/markers_v3-varjoin.gor'"
     ]
    }
   ],
   "source": [
    "lead_sQTL = pd.read_csv('/odinn/tmp/olafurs/daisy_hq/basic_markerset_v3/markers_v3-varjoin.gor', sep='\\t')"
   ]
  },
  {
   "cell_type": "code",
   "execution_count": 7,
   "metadata": {},
   "outputs": [
    {
     "data": {
      "text/plain": [
       "Index(['Chrom', 'Pos', 'Name', 'rsids', 'splice_event_id', 'Gene_name', 'Pval',\n",
       "       'log10_Pval', 'Effect', 'X2', 'ImpMAF', 'ImpInfo', 'REF', 'ALT', 'Amaj',\n",
       "       'Amin', 'Max_Impact', 'Max_Consequence', 'Startx', 'End', 'ClusterID',\n",
       "       'Strand', 'jct_prevalence', 'is_annotated', 'donor', 'acceptor',\n",
       "       'Pos_bin', 'num_tests'],\n",
       "      dtype='object')"
      ]
     },
     "execution_count": 7,
     "metadata": {},
     "output_type": "execute_result"
    }
   ],
   "source": [
    "lead_sQTL.columns"
   ]
  },
  {
   "cell_type": "code",
   "execution_count": 8,
   "metadata": {},
   "outputs": [
    {
     "name": "stderr",
     "output_type": "stream",
     "text": [
      "100%|███████████████████████████████████████████████████████████████████████████████████████████████████████████████████████████████████████████████████████████████████████████████| 257372/257372 [03:08<00:00, 1364.10it/s]\n"
     ]
    }
   ],
   "source": [
    "with open('/odinn/tmp/benediktj/Data/SplicePrediction-050422/gene_boundries.pkl', 'rb') as f:\n",
    "    gene_boundries = pickle.load(f)\n",
    "    \n",
    "def unionBoundry(names,gene_boundries):\n",
    "    for i,name in enumerate(names):\n",
    "        if i==0:\n",
    "            gene_start,gene_end = gene_boundries[name]\n",
    "        else:\n",
    "            start,end = gene_boundries[name]\n",
    "            gene_start,gene_end = np.min([gene_start,start]),np.max([gene_end,end])\n",
    "    return gene_start,gene_end\n",
    "inside_gene = []\n",
    "\n",
    "def is_inside_gene(names,gene_boundries):\n",
    "    inside_gene = []\n",
    "    for i,name in enumerate(names):\n",
    "        #if i==0:\n",
    "        gene_start,gene_end = gene_boundries[name]\n",
    "        #else:\n",
    "        #    start,end = gene_boundries[name]\n",
    "        #   gene_start,gene_end = np.min([gene_start,start]),np.max([gene_end,end])\n",
    "        inside_gene.append(gene_start <= pos <= gene_end)\n",
    "    \n",
    "    return np.any(inside_gene)\n",
    "\n",
    "#for i in tqdm(range(lead_sQTL.shape[0])):\n",
    "#    gene,chrm,strand,pos,jn_start,jn_end,ref_s,alt_s,event_id = lead_sQTL.iloc[i,:][['Gene_name','Chrom','Strand','Pos','Startx','End','REF','ALT','splice_event_id']]\n",
    "#    names = gene.split(',')\n",
    "#    gene_start,gene_end = unionBoundry(names,gene_boundries)\n",
    "#    inside_gene.append(gene_start <= pos <= gene_end)\n",
    "inside_gene = []\n",
    "for i in tqdm(range(lead_sQTL.shape[0])):\n",
    "    gene,chrm,strand,pos,jn_start,jn_end,ref_s,alt_s,event_id = lead_sQTL.iloc[i,:][['Gene_name','Chrom','Strand','Pos','Startx','End','REF','ALT','splice_event_id']]\n",
    "    names = gene.split(',')\n",
    "    inside_gene.append(is_inside_gene(names,gene_boundries))"
   ]
  },
  {
   "cell_type": "code",
   "execution_count": 9,
   "metadata": {},
   "outputs": [
    {
     "name": "stdout",
     "output_type": "stream",
     "text": [
      "16082\n",
      "0.05/146372\n",
      "80976\n"
     ]
    }
   ],
   "source": [
    "#lead_sQTL = lead_sQTL[lead_sQTL['Max_Consequence']!='intergenic_variant']\n",
    "#lead_sQTL = lead_sQTL[lead_sQTL['Pos_bin']!='distant_downstream']\n",
    "#lead_sQTL = lead_sQTL[lead_sQTL['Pos_bin']!='distant_upstream']\n",
    "lead_sQTL = lead_sQTL[inside_gene]\n",
    "print(np.sum(lead_sQTL['REF']==lead_sQTL['ALT']))\n",
    "lead_sQTL = lead_sQTL[lead_sQTL['REF']!=lead_sQTL['ALT']]\n",
    "print(f'{0.05}/{lead_sQTL.shape[0]}')\n",
    "print(np.sum(lead_sQTL['Pval']<=0.05/lead_sQTL.shape[0]))\n"
   ]
  },
  {
   "cell_type": "code",
   "execution_count": 10,
   "metadata": {},
   "outputs": [],
   "source": [
    "lead_sQTL = lead_sQTL[lead_sQTL['Pval']<=0.05/lead_sQTL.shape[0]]"
   ]
  },
  {
   "cell_type": "code",
   "execution_count": 11,
   "metadata": {},
   "outputs": [],
   "source": [
    "import pyfastx\n",
    "data_dir = '../Data/'\n",
    "fasta_file_path = '../Data/genome.fa'\n",
    "gtf_file_path = '../Data/Homo_sapiens.GRCh38.87.gtf'\n",
    "fasta = pyfastx.Fasta(fasta_file_path)"
   ]
  },
  {
   "cell_type": "code",
   "execution_count": 15,
   "metadata": {},
   "outputs": [
    {
     "ename": "RuntimeError",
     "evalue": "Error(s) in loading state_dict for SpliceFormer:\n\tMissing key(s) in state_dict: \"SpliceAI.conv_layer_1.weight\", \"SpliceAI.conv_layer_1.bias\", \"SpliceAI.skip_layers.0.weight\", \"SpliceAI.skip_layers.0.bias\", \"SpliceAI.skip_layers.1.weight\", \"SpliceAI.skip_layers.1.bias\", \"SpliceAI.skip_layers.2.weight\", \"SpliceAI.skip_layers.2.bias\", \"SpliceAI.skip_layers.3.weight\", \"SpliceAI.skip_layers.3.bias\", \"SpliceAI.skip_layers.4.weight\", \"SpliceAI.skip_layers.4.bias\", \"SpliceAI.res_layers.0.comboBlock.0.convlayer1.weight\", \"SpliceAI.res_layers.0.comboBlock.0.convlayer1.bias\", \"SpliceAI.res_layers.0.comboBlock.0.convlayer2.weight\", \"SpliceAI.res_layers.0.comboBlock.0.convlayer2.bias\", \"SpliceAI.res_layers.0.comboBlock.0.bn1.weight\", \"SpliceAI.res_layers.0.comboBlock.0.bn1.bias\", \"SpliceAI.res_layers.0.comboBlock.0.bn1.running_mean\", \"SpliceAI.res_layers.0.comboBlock.0.bn1.running_var\", \"SpliceAI.res_layers.0.comboBlock.0.bn2.weight\", \"SpliceAI.res_layers.0.comboBlock.0.bn2.bias\", \"SpliceAI.res_layers.0.comboBlock.0.bn2.running_mean\", \"SpliceAI.res_layers.0.comboBlock.0.bn2.running_var\", \"SpliceAI.res_layers.0.comboBlock.1.convlayer1.weight\", \"SpliceAI.res_layers.0.comboBlock.1.convlayer1.bias\", \"SpliceAI.res_layers.0.comboBlock.1.convlayer2.weight\", \"SpliceAI.res_layers.0.comboBlock.1.convlayer2.bias\", \"SpliceAI.res_layers.0.comboBlock.1.bn1.weight\", \"SpliceAI.res_layers.0.comboBlock.1.bn1.bias\", \"SpliceAI.res_layers.0.comboBlock.1.bn1.running_mean\", \"SpliceAI.res_layers.0.comboBlock.1.bn1.running_var\", \"SpliceAI.res_layers.0.comboBlock.1.bn2.weight\", \"SpliceAI.res_layers.0.comboBlock.1.bn2.bias\", \"SpliceAI.res_layers.0.comboBlock.1.bn2.running_mean\", \"SpliceAI.res_layers.0.comboBlock.1.bn2.running_var\", \"SpliceAI.res_layers.0.comboBlock.2.convlayer1.weight\", \"SpliceAI.res_layers.0.comboBlock.2.convlayer1.bias\", \"SpliceAI.res_layers.0.comboBlock.2.convlayer2.weight\", \"SpliceAI.res_layers.0.comboBlock.2.convlayer2.bias\", \"SpliceAI.res_layers.0.comboBlock.2.bn1.weight\", \"SpliceAI.res_layers.0.comboBlock.2.bn1.bias\", \"SpliceAI.res_layers.0.comboBlock.2.bn1.running_mean\", \"SpliceAI.res_layers.0.comboBlock.2.bn1.running_var\", \"SpliceAI.res_layers.0.comboBlock.2.bn2.weight\", \"SpliceAI.res_layers.0.comboBlock.2.bn2.bias\", \"SpliceAI.res_layers.0.comboBlock.2.bn2.running_mean\", \"SpliceAI.res_layers.0.comboBlock.2.bn2.running_var\", \"SpliceAI.res_layers.0.comboBlock.3.convlayer1.weight\", \"SpliceAI.res_layers.0.comboBlock.3.convlayer1.bias\", \"SpliceAI.res_layers.0.comboBlock.3.convlayer2.weight\", \"SpliceAI.res_layers.0.comboBlock.3.convlayer2.bias\", \"SpliceAI.res_layers.0.comboBlock.3.bn1.weight\", \"SpliceAI.res_layers.0.comboBlock.3.bn1.bias\", \"SpliceAI.res_layers.0.comboBlock.3.bn1.running_mean\", \"SpliceAI.res_layers.0.comboBlock.3.bn1.running_var\", \"SpliceAI.res_layers.0.comboBlock.3.bn2.weight\", \"SpliceAI.res_layers.0.comboBlock.3.bn2.bias\", \"SpliceAI.res_layers.0.comboBlock.3.bn2.running_mean\", \"SpliceAI.res_layers.0.comboBlock.3.bn2.running_var\", \"SpliceAI.res_layers.1.comboBlock.0.convlayer1.weight\", \"SpliceAI.res_layers.1.comboBlock.0.convlayer1.bias\", \"SpliceAI.res_layers.1.comboBlock.0.convlayer2.weight\", \"SpliceAI.res_layers.1.comboBlock.0.convlayer2.bias\", \"SpliceAI.res_layers.1.comboBlock.0.bn1.weight\", \"SpliceAI.res_layers.1.comboBlock.0.bn1.bias\", \"SpliceAI.res_layers.1.comboBlock.0.bn1.running_mean\", \"SpliceAI.res_layers.1.comboBlock.0.bn1.running_var\", \"SpliceAI.res_layers.1.comboBlock.0.bn2.weight\", \"SpliceAI.res_layers.1.comboBlock.0.bn2.bias\", \"SpliceAI.res_layers.1.comboBlock.0.bn2.running_mean\", \"SpliceAI.res_layers.1.comboBlock.0.bn2.running_var\", \"SpliceAI.res_layers.1.comboBlock.1.convlayer1.weight\", \"SpliceAI.res_layers.1.comboBlock.1.convlayer1.bias\", \"SpliceAI.res_layers.1.comboBlock.1.convlayer2.weight\", \"SpliceAI.res_layers.1.comboBlock.1.convlayer2.bias\", \"SpliceAI.res_layers.1.comboBlock.1.bn1.weight\", \"SpliceAI.res_layers.1.comboBlock.1.bn1.bias\", \"SpliceAI.res_layers.1.comboBlock.1.bn1.running_mean\", \"SpliceAI.res_layers.1.comboBlock.1.bn1.running_var\", \"SpliceAI.res_layers.1.comboBlock.1.bn2.weight\", \"SpliceAI.res_layers.1.comboBlock.1.bn2.bias\", \"SpliceAI.res_layers.1.comboBlock.1.bn2.running_mean\", \"SpliceAI.res_layers.1.comboBlock.1.bn2.running_var\", \"SpliceAI.res_layers.1.comboBlock.2.convlayer1.weight\", \"SpliceAI.res_layers.1.comboBlock.2.convlayer1.bias\", \"SpliceAI.res_layers.1.comboBlock.2.convlayer2.weight\", \"SpliceAI.res_layers.1.comboBlock.2.convlayer2.bias\", \"SpliceAI.res_layers.1.comboBlock.2.bn1.weight\", \"SpliceAI.res_layers.1.comboBlock.2.bn1.bias\", \"SpliceAI.res_layers.1.comboBlock.2.bn1.running_mean\", \"SpliceAI.res_layers.1.comboBlock.2.bn1.running_var\", \"SpliceAI.res_layers.1.comboBlock.2.bn2.weight\", \"SpliceAI.res_layers.1.comboBlock.2.bn2.bias\", \"SpliceAI.res_layers.1.comboBlock.2.bn2.running_mean\", \"SpliceAI.res_layers.1.comboBlock.2.bn2.running_var\", \"SpliceAI.res_layers.1.comboBlock.3.convlayer1.weight\", \"SpliceAI.res_layers.1.comboBlock.3.convlayer1.bias\", \"SpliceAI.res_layers.1.comboBlock.3.convlayer2.weight\", \"SpliceAI.res_layers.1.comboBlock.3.convlayer2.bias\", \"SpliceAI.res_layers.1.comboBlock.3.bn1.weight\", \"SpliceAI.res_layers.1.comboBlock.3.bn1.bias\", \"SpliceAI.res_layers.1.comboBlock.3.bn1.running_mean\", \"SpliceAI.res_layers.1.comboBlock.3.bn1.running_var\", \"SpliceAI.res_layers.1.comboBlock.3.bn2.weight\", \"SpliceAI.res_layers.1.comboBlock.3.bn2.bias\", \"SpliceAI.res_layers.1.comboBlock.3.bn2.running_mean\", \"SpliceAI.res_layers.1.comboBlock.3.bn2.running_var\", \"SpliceAI.res_layers.2.comboBlock.0.convlayer1.weight\", \"SpliceAI.res_layers.2.comboBlock.0.convlayer1.bias\", \"SpliceAI.res_layers.2.comboBlock.0.convlayer2.weight\", \"SpliceAI.res_layers.2.comboBlock.0.convlayer2.bias\", \"SpliceAI.res_layers.2.comboBlock.0.bn1.weight\", \"SpliceAI.res_layers.2.comboBlock.0.bn1.bias\", \"SpliceAI.res_layers.2.comboBlock.0.bn1.running_mean\", \"SpliceAI.res_layers.2.comboBlock.0.bn1.running_var\", \"SpliceAI.res_layers.2.comboBlock.0.bn2.weight\", \"SpliceAI.res_layers.2.comboBlock.0.bn2.bias\", \"SpliceAI.res_layers.2.comboBlock.0.bn2.running_mean\", \"SpliceAI.res_layers.2.comboBlock.0.bn2.running_var\", \"SpliceAI.res_layers.2.comboBlock.1.convlayer1.weight\", \"SpliceAI.res_layers.2.comboBlock.1.convlayer1.bias\", \"SpliceAI.res_layers.2.comboBlock.1.convlayer2.weight\", \"SpliceAI.res_layers.2.comboBlock.1.convlayer2.bias\", \"SpliceAI.res_layers.2.comboBlock.1.bn1.weight\", \"SpliceAI.res_layers.2.comboBlock.1.bn1.bias\", \"SpliceAI.res_layers.2.comboBlock.1.bn1.running_mean\", \"SpliceAI.res_layers.2.comboBlock.1.bn1.running_var\", \"SpliceAI.res_layers.2.comboBlock.1.bn2.weight\", \"SpliceAI.res_layers.2.comboBlock.1.bn2.bias\", \"SpliceAI.res_layers.2.comboBlock.1.bn2.running_mean\", \"SpliceAI.res_layers.2.comboBlock.1.bn2.running_var\", \"SpliceAI.res_layers.2.comboBlock.2.convlayer1.weight\", \"SpliceAI.res_layers.2.comboBlock.2.convlayer1.bias\", \"SpliceAI.res_layers.2.comboBlock.2.convlayer2.weight\", \"SpliceAI.res_layers.2.comboBlock.2.convlayer2.bias\", \"SpliceAI.res_layers.2.comboBlock.2.bn1.weight\", \"SpliceAI.res_layers.2.comboBlock.2.bn1.bias\", \"SpliceAI.res_layers.2.comboBlock.2.bn1.running_mean\", \"SpliceAI.res_layers.2.comboBlock.2.bn1.running_var\", \"SpliceAI.res_layers.2.comboBlock.2.bn2.weight\", \"SpliceAI.res_layers.2.comboBlock.2.bn2.bias\", \"SpliceAI.res_layers.2.comboBlock.2.bn2.running_mean\", \"SpliceAI.res_layers.2.comboBlock.2.bn2.running_var\", \"SpliceAI.res_layers.2.comboBlock.3.convlayer1.weight\", \"SpliceAI.res_layers.2.comboBlock.3.convlayer1.bias\", \"SpliceAI.res_layers.2.comboBlock.3.convlayer2.weight\", \"SpliceAI.res_layers.2.comboBlock.3.convlayer2.bias\", \"SpliceAI.res_layers.2.comboBlock.3.bn1.weight\", \"SpliceAI.res_layers.2.comboBlock.3.bn1.bias\", \"SpliceAI.res_layers.2.comboBlock.3.bn1.running_mean\", \"SpliceAI.res_layers.2.comboBlock.3.bn1.running_var\", \"SpliceAI.res_layers.2.comboBlock.3.bn2.weight\", \"SpliceAI.res_layers.2.comboBlock.3.bn2.bias\", \"SpliceAI.res_layers.2.comboBlock.3.bn2.running_mean\", \"SpliceAI.res_layers.2.comboBlock.3.bn2.running_var\", \"SpliceAI.res_layers.3.comboBlock.0.convlayer1.weight\", \"SpliceAI.res_layers.3.comboBlock.0.convlayer1.bias\", \"SpliceAI.res_layers.3.comboBlock.0.convlayer2.weight\", \"SpliceAI.res_layers.3.comboBlock.0.convlayer2.bias\", \"SpliceAI.res_layers.3.comboBlock.0.bn1.weight\", \"SpliceAI.res_layers.3.comboBlock.0.bn1.bias\", \"SpliceAI.res_layers.3.comboBlock.0.bn1.running_mean\", \"SpliceAI.res_layers.3.comboBlock.0.bn1.running_var\", \"SpliceAI.res_layers.3.comboBlock.0.bn2.weight\", \"SpliceAI.res_layers.3.comboBlock.0.bn2.bias\", \"SpliceAI.res_layers.3.comboBlock.0.bn2.running_mean\", \"SpliceAI.res_layers.3.comboBlock.0.bn2.running_var\", \"SpliceAI.res_layers.3.comboBlock.1.convlayer1.weight\", \"SpliceAI.res_layers.3.comboBlock.1.convlayer1.bias\", \"SpliceAI.res_layers.3.comboBlock.1.convlayer2.weight\", \"SpliceAI.res_layers.3.comboBlock.1.convlayer2.bias\", \"SpliceAI.res_layers.3.comboBlock.1.bn1.weight\", \"SpliceAI.res_layers.3.comboBlock.1.bn1.bias\", \"SpliceAI.res_layers.3.comboBlock.1.bn1.running_mean\", \"SpliceAI.res_layers.3.comboBlock.1.bn1.running_var\", \"SpliceAI.res_layers.3.comboBlock.1.bn2.weight\", \"SpliceAI.res_layers.3.comboBlock.1.bn2.bias\", \"SpliceAI.res_layers.3.comboBlock.1.bn2.running_mean\", \"SpliceAI.res_layers.3.comboBlock.1.bn2.running_var\", \"SpliceAI.res_layers.3.comboBlock.2.convlayer1.weight\", \"SpliceAI.res_layers.3.comboBlock.2.convlayer1.bias\", \"SpliceAI.res_layers.3.comboBlock.2.convlayer2.weight\", \"SpliceAI.res_layers.3.comboBlock.2.convlayer2.bias\", \"SpliceAI.res_layers.3.comboBlock.2.bn1.weight\", \"SpliceAI.res_layers.3.comboBlock.2.bn1.bias\", \"SpliceAI.res_layers.3.comboBlock.2.bn1.running_mean\", \"SpliceAI.res_layers.3.comboBlock.2.bn1.running_var\", \"SpliceAI.res_layers.3.comboBlock.2.bn2.weight\", \"SpliceAI.res_layers.3.comboBlock.2.bn2.bias\", \"SpliceAI.res_layers.3.comboBlock.2.bn2.running_mean\", \"SpliceAI.res_layers.3.comboBlock.2.bn2.running_var\", \"SpliceAI.res_layers.3.comboBlock.3.convlayer1.weight\", \"SpliceAI.res_layers.3.comboBlock.3.convlayer1.bias\", \"SpliceAI.res_layers.3.comboBlock.3.convlayer2.weight\", \"SpliceAI.res_layers.3.comboBlock.3.convlayer2.bias\", \"SpliceAI.res_layers.3.comboBlock.3.bn1.weight\", \"SpliceAI.res_layers.3.comboBlock.3.bn1.bias\", \"SpliceAI.res_layers.3.comboBlock.3.bn1.running_mean\", \"SpliceAI.res_layers.3.comboBlock.3.bn1.running_var\", \"SpliceAI.res_layers.3.comboBlock.3.bn2.weight\", \"SpliceAI.res_layers.3.comboBlock.3.bn2.bias\", \"SpliceAI.res_layers.3.comboBlock.3.bn2.running_mean\", \"SpliceAI.res_layers.3.comboBlock.3.bn2.running_var\", \"conv_final.weight\", \"conv_final.bias\", \"policy.affine1.weight\", \"policy.affine1.bias\", \"policy.affine2.weight\", \"policy.affine2.bias\", \"skip_layers.0.weight\", \"skip_layers.0.bias\", \"skip_layers.1.weight\", \"skip_layers.1.bias\", \"skip_layers.2.weight\", \"skip_layers.2.bias\", \"transformerBlocks.0.layers.0.0.to_qkv.weight\", \"transformerBlocks.0.layers.0.0.gate.weight\", \"transformerBlocks.0.layers.0.0.gate.bias\", \"transformerBlocks.0.layers.0.0.to_out.0.weight\", \"transformerBlocks.0.layers.0.0.to_out.0.bias\", \"transformerBlocks.0.layers.0.1.net.0.weight\", \"transformerBlocks.0.layers.0.1.net.0.bias\", \"transformerBlocks.0.layers.0.1.net.3.weight\", \"transformerBlocks.0.layers.0.1.net.3.bias\", \"transformerBlocks.0.layers.1.0.to_qkv.weight\", \"transformerBlocks.0.layers.1.0.gate.weight\", \"transformerBlocks.0.layers.1.0.gate.bias\", \"transformerBlocks.0.layers.1.0.to_out.0.weight\", \"transformerBlocks.0.layers.1.0.to_out.0.bias\", \"transformerBlocks.0.layers.1.1.net.0.weight\", \"transformerBlocks.0.layers.1.1.net.0.bias\", \"transformerBlocks.0.layers.1.1.net.3.weight\", \"transformerBlocks.0.layers.1.1.net.3.bias\", \"transformerBlocks.0.layers.2.0.to_qkv.weight\", \"transformerBlocks.0.layers.2.0.gate.weight\", \"transformerBlocks.0.layers.2.0.gate.bias\", \"transformerBlocks.0.layers.2.0.to_out.0.weight\", \"transformerBlocks.0.layers.2.0.to_out.0.bias\", \"transformerBlocks.0.layers.2.1.net.0.weight\", \"transformerBlocks.0.layers.2.1.net.0.bias\", \"transformerBlocks.0.layers.2.1.net.3.weight\", \"transformerBlocks.0.layers.2.1.net.3.bias\", \"transformerBlocks.0.layers.3.0.to_qkv.weight\", \"transformerBlocks.0.layers.3.0.gate.weight\", \"transformerBlocks.0.layers.3.0.gate.bias\", \"transformerBlocks.0.layers.3.0.to_out.0.weight\", \"transformerBlocks.0.layers.3.0.to_out.0.bias\", \"transformerBlocks.0.layers.3.1.net.0.weight\", \"transformerBlocks.0.layers.3.1.net.0.bias\", \"transformerBlocks.0.layers.3.1.net.3.weight\", \"transformerBlocks.0.layers.3.1.net.3.bias\", \"transformerBlocks.0.layerNormLayers.0.0.weight\", \"transformerBlocks.0.layerNormLayers.0.0.bias\", \"transformerBlocks.0.layerNormLayers.0.1.weight\", \"transformerBlocks.0.layerNormLayers.0.1.bias\", \"transformerBlocks.0.layerNormLayers.1.0.weight\", \"transformerBlocks.0.layerNormLayers.1.0.bias\", \"transformerBlocks.0.layerNormLayers.1.1.weight\", \"transformerBlocks.0.layerNormLayers.1.1.bias\", \"transformerBlocks.0.layerNormLayers.2.0.weight\", \"transformerBlocks.0.layerNormLayers.2.0.bias\", \"transformerBlocks.0.layerNormLayers.2.1.weight\", \"transformerBlocks.0.layerNormLayers.2.1.bias\", \"transformerBlocks.0.layerNormLayers.3.0.weight\", \"transformerBlocks.0.layerNormLayers.3.0.bias\", \"transformerBlocks.0.layerNormLayers.3.1.weight\", \"transformerBlocks.0.layerNormLayers.3.1.bias\", \"transformerBlocks.0.pos_emb.inv_freq\", \"transformerBlocks.1.layers.0.0.to_qkv.weight\", \"transformerBlocks.1.layers.0.0.gate.weight\", \"transformerBlocks.1.layers.0.0.gate.bias\", \"transformerBlocks.1.layers.0.0.to_out.0.weight\", \"transformerBlocks.1.layers.0.0.to_out.0.bias\", \"transformerBlocks.1.layers.0.1.net.0.weight\", \"transformerBlocks.1.layers.0.1.net.0.bias\", \"transformerBlocks.1.layers.0.1.net.3.weight\", \"transformerBlocks.1.layers.0.1.net.3.bias\", \"transformerBlocks.1.layers.1.0.to_qkv.weight\", \"transformerBlocks.1.layers.1.0.gate.weight\", \"transformerBlocks.1.layers.1.0.gate.bias\", \"transformerBlocks.1.layers.1.0.to_out.0.weight\", \"transformerBlocks.1.layers.1.0.to_out.0.bias\", \"transformerBlocks.1.layers.1.1.net.0.weight\", \"transformerBlocks.1.layers.1.1.net.0.bias\", \"transformerBlocks.1.layers.1.1.net.3.weight\", \"transformerBlocks.1.layers.1.1.net.3.bias\", \"transformerBlocks.1.layers.2.0.to_qkv.weight\", \"transformerBlocks.1.layers.2.0.gate.weight\", \"transformerBlocks.1.layers.2.0.gate.bias\", \"transformerBlocks.1.layers.2.0.to_out.0.weight\", \"transformerBlocks.1.layers.2.0.to_out.0.bias\", \"transformerBlocks.1.layers.2.1.net.0.weight\", \"transformerBlocks.1.layers.2.1.net.0.bias\", \"transformerBlocks.1.layers.2.1.net.3.weight\", \"transformerBlocks.1.layers.2.1.net.3.bias\", \"transformerBlocks.1.layers.3.0.to_qkv.weight\", \"transformerBlocks.1.layers.3.0.gate.weight\", \"transformerBlocks.1.layers.3.0.gate.bias\", \"transformerBlocks.1.layers.3.0.to_out.0.weight\", \"transformerBlocks.1.layers.3.0.to_out.0.bias\", \"transformerBlocks.1.layers.3.1.net.0.weight\", \"transformerBlocks.1.layers.3.1.net.0.bias\", \"transformerBlocks.1.layers.3.1.net.3.weight\", \"transformerBlocks.1.layers.3.1.net.3.bias\", \"transformerBlocks.1.layerNormLayers.0.0.weight\", \"transformerBlocks.1.layerNormLayers.0.0.bias\", \"transformerBlocks.1.layerNormLayers.0.1.weight\", \"transformerBlocks.1.layerNormLayers.0.1.bias\", \"transformerBlocks.1.layerNormLayers.1.0.weight\", \"transformerBlocks.1.layerNormLayers.1.0.bias\", \"transformerBlocks.1.layerNormLayers.1.1.weight\", \"transformerBlocks.1.layerNormLayers.1.1.bias\", \"transformerBlocks.1.layerNormLayers.2.0.weight\", \"transformerBlocks.1.layerNormLayers.2.0.bias\", \"transformerBlocks.1.layerNormLayers.2.1.weight\", \"transformerBlocks.1.layerNormLayers.2.1.bias\", \"transformerBlocks.1.layerNormLayers.3.0.weight\", \"transformerBlocks.1.layerNormLayers.3.0.bias\", \"transformerBlocks.1.layerNormLayers.3.1.weight\", \"transformerBlocks.1.layerNormLayers.3.1.bias\", \"transformerBlocks.1.pos_emb.inv_freq\". \n\tUnexpected key(s) in state_dict: \"module.SpliceAI.conv_layer_1.weight\", \"module.SpliceAI.conv_layer_1.bias\", \"module.SpliceAI.skip_layers.0.weight\", \"module.SpliceAI.skip_layers.0.bias\", \"module.SpliceAI.skip_layers.1.weight\", \"module.SpliceAI.skip_layers.1.bias\", \"module.SpliceAI.skip_layers.2.weight\", \"module.SpliceAI.skip_layers.2.bias\", \"module.SpliceAI.skip_layers.3.weight\", \"module.SpliceAI.skip_layers.3.bias\", \"module.SpliceAI.skip_layers.4.weight\", \"module.SpliceAI.skip_layers.4.bias\", \"module.SpliceAI.res_layers.0.comboBlock.0.convlayer1.weight\", \"module.SpliceAI.res_layers.0.comboBlock.0.convlayer1.bias\", \"module.SpliceAI.res_layers.0.comboBlock.0.convlayer2.weight\", \"module.SpliceAI.res_layers.0.comboBlock.0.convlayer2.bias\", \"module.SpliceAI.res_layers.0.comboBlock.0.bn1.weight\", \"module.SpliceAI.res_layers.0.comboBlock.0.bn1.bias\", \"module.SpliceAI.res_layers.0.comboBlock.0.bn1.running_mean\", \"module.SpliceAI.res_layers.0.comboBlock.0.bn1.running_var\", \"module.SpliceAI.res_layers.0.comboBlock.0.bn1.num_batches_tracked\", \"module.SpliceAI.res_layers.0.comboBlock.0.bn2.weight\", \"module.SpliceAI.res_layers.0.comboBlock.0.bn2.bias\", \"module.SpliceAI.res_layers.0.comboBlock.0.bn2.running_mean\", \"module.SpliceAI.res_layers.0.comboBlock.0.bn2.running_var\", \"module.SpliceAI.res_layers.0.comboBlock.0.bn2.num_batches_tracked\", \"module.SpliceAI.res_layers.0.comboBlock.1.convlayer1.weight\", \"module.SpliceAI.res_layers.0.comboBlock.1.convlayer1.bias\", \"module.SpliceAI.res_layers.0.comboBlock.1.convlayer2.weight\", \"module.SpliceAI.res_layers.0.comboBlock.1.convlayer2.bias\", \"module.SpliceAI.res_layers.0.comboBlock.1.bn1.weight\", \"module.SpliceAI.res_layers.0.comboBlock.1.bn1.bias\", \"module.SpliceAI.res_layers.0.comboBlock.1.bn1.running_mean\", \"module.SpliceAI.res_layers.0.comboBlock.1.bn1.running_var\", \"module.SpliceAI.res_layers.0.comboBlock.1.bn1.num_batches_tracked\", \"module.SpliceAI.res_layers.0.comboBlock.1.bn2.weight\", \"module.SpliceAI.res_layers.0.comboBlock.1.bn2.bias\", \"module.SpliceAI.res_layers.0.comboBlock.1.bn2.running_mean\", \"module.SpliceAI.res_layers.0.comboBlock.1.bn2.running_var\", \"module.SpliceAI.res_layers.0.comboBlock.1.bn2.num_batches_tracked\", \"module.SpliceAI.res_layers.0.comboBlock.2.convlayer1.weight\", \"module.SpliceAI.res_layers.0.comboBlock.2.convlayer1.bias\", \"module.SpliceAI.res_layers.0.comboBlock.2.convlayer2.weight\", \"module.SpliceAI.res_layers.0.comboBlock.2.convlayer2.bias\", \"module.SpliceAI.res_layers.0.comboBlock.2.bn1.weight\", \"module.SpliceAI.res_layers.0.comboBlock.2.bn1.bias\", \"module.SpliceAI.res_layers.0.comboBlock.2.bn1.running_mean\", \"module.SpliceAI.res_layers.0.comboBlock.2.bn1.running_var\", \"module.SpliceAI.res_layers.0.comboBlock.2.bn1.num_batches_tracked\", \"module.SpliceAI.res_layers.0.comboBlock.2.bn2.weight\", \"module.SpliceAI.res_layers.0.comboBlock.2.bn2.bias\", \"module.SpliceAI.res_layers.0.comboBlock.2.bn2.running_mean\", \"module.SpliceAI.res_layers.0.comboBlock.2.bn2.running_var\", \"module.SpliceAI.res_layers.0.comboBlock.2.bn2.num_batches_tracked\", \"module.SpliceAI.res_layers.0.comboBlock.3.convlayer1.weight\", \"module.SpliceAI.res_layers.0.comboBlock.3.convlayer1.bias\", \"module.SpliceAI.res_layers.0.comboBlock.3.convlayer2.weight\", \"module.SpliceAI.res_layers.0.comboBlock.3.convlayer2.bias\", \"module.SpliceAI.res_layers.0.comboBlock.3.bn1.weight\", \"module.SpliceAI.res_layers.0.comboBlock.3.bn1.bias\", \"module.SpliceAI.res_layers.0.comboBlock.3.bn1.running_mean\", \"module.SpliceAI.res_layers.0.comboBlock.3.bn1.running_var\", \"module.SpliceAI.res_layers.0.comboBlock.3.bn1.num_batches_tracked\", \"module.SpliceAI.res_layers.0.comboBlock.3.bn2.weight\", \"module.SpliceAI.res_layers.0.comboBlock.3.bn2.bias\", \"module.SpliceAI.res_layers.0.comboBlock.3.bn2.running_mean\", \"module.SpliceAI.res_layers.0.comboBlock.3.bn2.running_var\", \"module.SpliceAI.res_layers.0.comboBlock.3.bn2.num_batches_tracked\", \"module.SpliceAI.res_layers.1.comboBlock.0.convlayer1.weight\", \"module.SpliceAI.res_layers.1.comboBlock.0.convlayer1.bias\", \"module.SpliceAI.res_layers.1.comboBlock.0.convlayer2.weight\", \"module.SpliceAI.res_layers.1.comboBlock.0.convlayer2.bias\", \"module.SpliceAI.res_layers.1.comboBlock.0.bn1.weight\", \"module.SpliceAI.res_layers.1.comboBlock.0.bn1.bias\", \"module.SpliceAI.res_layers.1.comboBlock.0.bn1.running_mean\", \"module.SpliceAI.res_layers.1.comboBlock.0.bn1.running_var\", \"module.SpliceAI.res_layers.1.comboBlock.0.bn1.num_batches_tracked\", \"module.SpliceAI.res_layers.1.comboBlock.0.bn2.weight\", \"module.SpliceAI.res_layers.1.comboBlock.0.bn2.bias\", \"module.SpliceAI.res_layers.1.comboBlock.0.bn2.running_mean\", \"module.SpliceAI.res_layers.1.comboBlock.0.bn2.running_var\", \"module.SpliceAI.res_layers.1.comboBlock.0.bn2.num_batches_tracked\", \"module.SpliceAI.res_layers.1.comboBlock.1.convlayer1.weight\", \"module.SpliceAI.res_layers.1.comboBlock.1.convlayer1.bias\", \"module.SpliceAI.res_layers.1.comboBlock.1.convlayer2.weight\", \"module.SpliceAI.res_layers.1.comboBlock.1.convlayer2.bias\", \"module.SpliceAI.res_layers.1.comboBlock.1.bn1.weight\", \"module.SpliceAI.res_layers.1.comboBlock.1.bn1.bias\", \"module.SpliceAI.res_layers.1.comboBlock.1.bn1.running_mean\", \"module.SpliceAI.res_layers.1.comboBlock.1.bn1.running_var\", \"module.SpliceAI.res_layers.1.comboBlock.1.bn1.num_batches_tracked\", \"module.SpliceAI.res_layers.1.comboBlock.1.bn2.weight\", \"module.SpliceAI.res_layers.1.comboBlock.1.bn2.bias\", \"module.SpliceAI.res_layers.1.comboBlock.1.bn2.running_mean\", \"module.SpliceAI.res_layers.1.comboBlock.1.bn2.running_var\", \"module.SpliceAI.res_layers.1.comboBlock.1.bn2.num_batches_tracked\", \"module.SpliceAI.res_layers.1.comboBlock.2.convlayer1.weight\", \"module.SpliceAI.res_layers.1.comboBlock.2.convlayer1.bias\", \"module.SpliceAI.res_layers.1.comboBlock.2.convlayer2.weight\", \"module.SpliceAI.res_layers.1.comboBlock.2.convlayer2.bias\", \"module.SpliceAI.res_layers.1.comboBlock.2.bn1.weight\", \"module.SpliceAI.res_layers.1.comboBlock.2.bn1.bias\", \"module.SpliceAI.res_layers.1.comboBlock.2.bn1.running_mean\", \"module.SpliceAI.res_layers.1.comboBlock.2.bn1.running_var\", \"module.SpliceAI.res_layers.1.comboBlock.2.bn1.num_batches_tracked\", \"module.SpliceAI.res_layers.1.comboBlock.2.bn2.weight\", \"module.SpliceAI.res_layers.1.comboBlock.2.bn2.bias\", \"module.SpliceAI.res_layers.1.comboBlock.2.bn2.running_mean\", \"module.SpliceAI.res_layers.1.comboBlock.2.bn2.running_var\", \"module.SpliceAI.res_layers.1.comboBlock.2.bn2.num_batches_tracked\", \"module.SpliceAI.res_layers.1.comboBlock.3.convlayer1.weight\", \"module.SpliceAI.res_layers.1.comboBlock.3.convlayer1.bias\", \"module.SpliceAI.res_layers.1.comboBlock.3.convlayer2.weight\", \"module.SpliceAI.res_layers.1.comboBlock.3.convlayer2.bias\", \"module.SpliceAI.res_layers.1.comboBlock.3.bn1.weight\", \"module.SpliceAI.res_layers.1.comboBlock.3.bn1.bias\", \"module.SpliceAI.res_layers.1.comboBlock.3.bn1.running_mean\", \"module.SpliceAI.res_layers.1.comboBlock.3.bn1.running_var\", \"module.SpliceAI.res_layers.1.comboBlock.3.bn1.num_batches_tracked\", \"module.SpliceAI.res_layers.1.comboBlock.3.bn2.weight\", \"module.SpliceAI.res_layers.1.comboBlock.3.bn2.bias\", \"module.SpliceAI.res_layers.1.comboBlock.3.bn2.running_mean\", \"module.SpliceAI.res_layers.1.comboBlock.3.bn2.running_var\", \"module.SpliceAI.res_layers.1.comboBlock.3.bn2.num_batches_tracked\", \"module.SpliceAI.res_layers.2.comboBlock.0.convlayer1.weight\", \"module.SpliceAI.res_layers.2.comboBlock.0.convlayer1.bias\", \"module.SpliceAI.res_layers.2.comboBlock.0.convlayer2.weight\", \"module.SpliceAI.res_layers.2.comboBlock.0.convlayer2.bias\", \"module.SpliceAI.res_layers.2.comboBlock.0.bn1.weight\", \"module.SpliceAI.res_layers.2.comboBlock.0.bn1.bias\", \"module.SpliceAI.res_layers.2.comboBlock.0.bn1.running_mean\", \"module.SpliceAI.res_layers.2.comboBlock.0.bn1.running_var\", \"module.SpliceAI.res_layers.2.comboBlock.0.bn1.num_batches_tracked\", \"module.SpliceAI.res_layers.2.comboBlock.0.bn2.weight\", \"module.SpliceAI.res_layers.2.comboBlock.0.bn2.bias\", \"module.SpliceAI.res_layers.2.comboBlock.0.bn2.running_mean\", \"module.SpliceAI.res_layers.2.comboBlock.0.bn2.running_var\", \"module.SpliceAI.res_layers.2.comboBlock.0.bn2.num_batches_tracked\", \"module.SpliceAI.res_layers.2.comboBlock.1.convlayer1.weight\", \"module.SpliceAI.res_layers.2.comboBlock.1.convlayer1.bias\", \"module.SpliceAI.res_layers.2.comboBlock.1.convlayer2.weight\", \"module.SpliceAI.res_layers.2.comboBlock.1.convlayer2.bias\", \"module.SpliceAI.res_layers.2.comboBlock.1.bn1.weight\", \"module.SpliceAI.res_layers.2.comboBlock.1.bn1.bias\", \"module.SpliceAI.res_layers.2.comboBlock.1.bn1.running_mean\", \"module.SpliceAI.res_layers.2.comboBlock.1.bn1.running_var\", \"module.SpliceAI.res_layers.2.comboBlock.1.bn1.num_batches_tracked\", \"module.SpliceAI.res_layers.2.comboBlock.1.bn2.weight\", \"module.SpliceAI.res_layers.2.comboBlock.1.bn2.bias\", \"module.SpliceAI.res_layers.2.comboBlock.1.bn2.running_mean\", \"module.SpliceAI.res_layers.2.comboBlock.1.bn2.running_var\", \"module.SpliceAI.res_layers.2.comboBlock.1.bn2.num_batches_tracked\", \"module.SpliceAI.res_layers.2.comboBlock.2.convlayer1.weight\", \"module.SpliceAI.res_layers.2.comboBlock.2.convlayer1.bias\", \"module.SpliceAI.res_layers.2.comboBlock.2.convlayer2.weight\", \"module.SpliceAI.res_layers.2.comboBlock.2.convlayer2.bias\", \"module.SpliceAI.res_layers.2.comboBlock.2.bn1.weight\", \"module.SpliceAI.res_layers.2.comboBlock.2.bn1.bias\", \"module.SpliceAI.res_layers.2.comboBlock.2.bn1.running_mean\", \"module.SpliceAI.res_layers.2.comboBlock.2.bn1.running_var\", \"module.SpliceAI.res_layers.2.comboBlock.2.bn1.num_batches_tracked\", \"module.SpliceAI.res_layers.2.comboBlock.2.bn2.weight\", \"module.SpliceAI.res_layers.2.comboBlock.2.bn2.bias\", \"module.SpliceAI.res_layers.2.comboBlock.2.bn2.running_mean\", \"module.SpliceAI.res_layers.2.comboBlock.2.bn2.running_var\", \"module.SpliceAI.res_layers.2.comboBlock.2.bn2.num_batches_tracked\", \"module.SpliceAI.res_layers.2.comboBlock.3.convlayer1.weight\", \"module.SpliceAI.res_layers.2.comboBlock.3.convlayer1.bias\", \"module.SpliceAI.res_layers.2.comboBlock.3.convlayer2.weight\", \"module.SpliceAI.res_layers.2.comboBlock.3.convlayer2.bias\", \"module.SpliceAI.res_layers.2.comboBlock.3.bn1.weight\", \"module.SpliceAI.res_layers.2.comboBlock.3.bn1.bias\", \"module.SpliceAI.res_layers.2.comboBlock.3.bn1.running_mean\", \"module.SpliceAI.res_layers.2.comboBlock.3.bn1.running_var\", \"module.SpliceAI.res_layers.2.comboBlock.3.bn1.num_batches_tracked\", \"module.SpliceAI.res_layers.2.comboBlock.3.bn2.weight\", \"module.SpliceAI.res_layers.2.comboBlock.3.bn2.bias\", \"module.SpliceAI.res_layers.2.comboBlock.3.bn2.running_mean\", \"module.SpliceAI.res_layers.2.comboBlock.3.bn2.running_var\", \"module.SpliceAI.res_layers.2.comboBlock.3.bn2.num_batches_tracked\", \"module.SpliceAI.res_layers.3.comboBlock.0.convlayer1.weight\", \"module.SpliceAI.res_layers.3.comboBlock.0.convlayer1.bias\", \"module.SpliceAI.res_layers.3.comboBlock.0.convlayer2.weight\", \"module.SpliceAI.res_layers.3.comboBlock.0.convlayer2.bias\", \"module.SpliceAI.res_layers.3.comboBlock.0.bn1.weight\", \"module.SpliceAI.res_layers.3.comboBlock.0.bn1.bias\", \"module.SpliceAI.res_layers.3.comboBlock.0.bn1.running_mean\", \"module.SpliceAI.res_layers.3.comboBlock.0.bn1.running_var\", \"module.SpliceAI.res_layers.3.comboBlock.0.bn1.num_batches_tracked\", \"module.SpliceAI.res_layers.3.comboBlock.0.bn2.weight\", \"module.SpliceAI.res_layers.3.comboBlock.0.bn2.bias\", \"module.SpliceAI.res_layers.3.comboBlock.0.bn2.running_mean\", \"module.SpliceAI.res_layers.3.comboBlock.0.bn2.running_var\", \"module.SpliceAI.res_layers.3.comboBlock.0.bn2.num_batches_tracked\", \"module.SpliceAI.res_layers.3.comboBlock.1.convlayer1.weight\", \"module.SpliceAI.res_layers.3.comboBlock.1.convlayer1.bias\", \"module.SpliceAI.res_layers.3.comboBlock.1.convlayer2.weight\", \"module.SpliceAI.res_layers.3.comboBlock.1.convlayer2.bias\", \"module.SpliceAI.res_layers.3.comboBlock.1.bn1.weight\", \"module.SpliceAI.res_layers.3.comboBlock.1.bn1.bias\", \"module.SpliceAI.res_layers.3.comboBlock.1.bn1.running_mean\", \"module.SpliceAI.res_layers.3.comboBlock.1.bn1.running_var\", \"module.SpliceAI.res_layers.3.comboBlock.1.bn1.num_batches_tracked\", \"module.SpliceAI.res_layers.3.comboBlock.1.bn2.weight\", \"module.SpliceAI.res_layers.3.comboBlock.1.bn2.bias\", \"module.SpliceAI.res_layers.3.comboBlock.1.bn2.running_mean\", \"module.SpliceAI.res_layers.3.comboBlock.1.bn2.running_var\", \"module.SpliceAI.res_layers.3.comboBlock.1.bn2.num_batches_tracked\", \"module.SpliceAI.res_layers.3.comboBlock.2.convlayer1.weight\", \"module.SpliceAI.res_layers.3.comboBlock.2.convlayer1.bias\", \"module.SpliceAI.res_layers.3.comboBlock.2.convlayer2.weight\", \"module.SpliceAI.res_layers.3.comboBlock.2.convlayer2.bias\", \"module.SpliceAI.res_layers.3.comboBlock.2.bn1.weight\", \"module.SpliceAI.res_layers.3.comboBlock.2.bn1.bias\", \"module.SpliceAI.res_layers.3.comboBlock.2.bn1.running_mean\", \"module.SpliceAI.res_layers.3.comboBlock.2.bn1.running_var\", \"module.SpliceAI.res_layers.3.comboBlock.2.bn1.num_batches_tracked\", \"module.SpliceAI.res_layers.3.comboBlock.2.bn2.weight\", \"module.SpliceAI.res_layers.3.comboBlock.2.bn2.bias\", \"module.SpliceAI.res_layers.3.comboBlock.2.bn2.running_mean\", \"module.SpliceAI.res_layers.3.comboBlock.2.bn2.running_var\", \"module.SpliceAI.res_layers.3.comboBlock.2.bn2.num_batches_tracked\", \"module.SpliceAI.res_layers.3.comboBlock.3.convlayer1.weight\", \"module.SpliceAI.res_layers.3.comboBlock.3.convlayer1.bias\", \"module.SpliceAI.res_layers.3.comboBlock.3.convlayer2.weight\", \"module.SpliceAI.res_layers.3.comboBlock.3.convlayer2.bias\", \"module.SpliceAI.res_layers.3.comboBlock.3.bn1.weight\", \"module.SpliceAI.res_layers.3.comboBlock.3.bn1.bias\", \"module.SpliceAI.res_layers.3.comboBlock.3.bn1.running_mean\", \"module.SpliceAI.res_layers.3.comboBlock.3.bn1.running_var\", \"module.SpliceAI.res_layers.3.comboBlock.3.bn1.num_batches_tracked\", \"module.SpliceAI.res_layers.3.comboBlock.3.bn2.weight\", \"module.SpliceAI.res_layers.3.comboBlock.3.bn2.bias\", \"module.SpliceAI.res_layers.3.comboBlock.3.bn2.running_mean\", \"module.SpliceAI.res_layers.3.comboBlock.3.bn2.running_var\", \"module.SpliceAI.res_layers.3.comboBlock.3.bn2.num_batches_tracked\", \"module.conv_final.weight\", \"module.conv_final.bias\", \"module.policy.affine1.weight\", \"module.policy.affine1.bias\", \"module.policy.affine2.weight\", \"module.policy.affine2.bias\", \"module.skip_layers.0.weight\", \"module.skip_layers.0.bias\", \"module.skip_layers.1.weight\", \"module.skip_layers.1.bias\", \"module.skip_layers.2.weight\", \"module.skip_layers.2.bias\", \"module.transformerBlocks.0.layers.0.0.to_qkv.weight\", \"module.transformerBlocks.0.layers.0.0.gate.weight\", \"module.transformerBlocks.0.layers.0.0.gate.bias\", \"module.transformerBlocks.0.layers.0.0.to_out.0.weight\", \"module.transformerBlocks.0.layers.0.0.to_out.0.bias\", \"module.transformerBlocks.0.layers.0.1.net.0.weight\", \"module.transformerBlocks.0.layers.0.1.net.0.bias\", \"module.transformerBlocks.0.layers.0.1.net.3.weight\", \"module.transformerBlocks.0.layers.0.1.net.3.bias\", \"module.transformerBlocks.0.layers.1.0.to_qkv.weight\", \"module.transformerBlocks.0.layers.1.0.gate.weight\", \"module.transformerBlocks.0.layers.1.0.gate.bias\", \"module.transformerBlocks.0.layers.1.0.to_out.0.weight\", \"module.transformerBlocks.0.layers.1.0.to_out.0.bias\", \"module.transformerBlocks.0.layers.1.1.net.0.weight\", \"module.transformerBlocks.0.layers.1.1.net.0.bias\", \"module.transformerBlocks.0.layers.1.1.net.3.weight\", \"module.transformerBlocks.0.layers.1.1.net.3.bias\", \"module.transformerBlocks.0.layers.2.0.to_qkv.weight\", \"module.transformerBlocks.0.layers.2.0.gate.weight\", \"module.transformerBlocks.0.layers.2.0.gate.bias\", \"module.transformerBlocks.0.layers.2.0.to_out.0.weight\", \"module.transformerBlocks.0.layers.2.0.to_out.0.bias\", \"module.transformerBlocks.0.layers.2.1.net.0.weight\", \"module.transformerBlocks.0.layers.2.1.net.0.bias\", \"module.transformerBlocks.0.layers.2.1.net.3.weight\", \"module.transformerBlocks.0.layers.2.1.net.3.bias\", \"module.transformerBlocks.0.layers.3.0.to_qkv.weight\", \"module.transformerBlocks.0.layers.3.0.gate.weight\", \"module.transformerBlocks.0.layers.3.0.gate.bias\", \"module.transformerBlocks.0.layers.3.0.to_out.0.weight\", \"module.transformerBlocks.0.layers.3.0.to_out.0.bias\", \"module.transformerBlocks.0.layers.3.1.net.0.weight\", \"module.transformerBlocks.0.layers.3.1.net.0.bias\", \"module.transformerBlocks.0.layers.3.1.net.3.weight\", \"module.transformerBlocks.0.layers.3.1.net.3.bias\", \"module.transformerBlocks.0.layerNormLayers.0.0.weight\", \"module.transformerBlocks.0.layerNormLayers.0.0.bias\", \"module.transformerBlocks.0.layerNormLayers.0.1.weight\", \"module.transformerBlocks.0.layerNormLayers.0.1.bias\", \"module.transformerBlocks.0.layerNormLayers.1.0.weight\", \"module.transformerBlocks.0.layerNormLayers.1.0.bias\", \"module.transformerBlocks.0.layerNormLayers.1.1.weight\", \"module.transformerBlocks.0.layerNormLayers.1.1.bias\", \"module.transformerBlocks.0.layerNormLayers.2.0.weight\", \"module.transformerBlocks.0.layerNormLayers.2.0.bias\", \"module.transformerBlocks.0.layerNormLayers.2.1.weight\", \"module.transformerBlocks.0.layerNormLayers.2.1.bias\", \"module.transformerBlocks.0.layerNormLayers.3.0.weight\", \"module.transformerBlocks.0.layerNormLayers.3.0.bias\", \"module.transformerBlocks.0.layerNormLayers.3.1.weight\", \"module.transformerBlocks.0.layerNormLayers.3.1.bias\", \"module.transformerBlocks.0.pos_emb.inv_freq\", \"module.transformerBlocks.1.layers.0.0.to_qkv.weight\", \"module.transformerBlocks.1.layers.0.0.gate.weight\", \"module.transformerBlocks.1.layers.0.0.gate.bias\", \"module.transformerBlocks.1.layers.0.0.to_out.0.weight\", \"module.transformerBlocks.1.layers.0.0.to_out.0.bias\", \"module.transformerBlocks.1.layers.0.1.net.0.weight\", \"module.transformerBlocks.1.layers.0.1.net.0.bias\", \"module.transformerBlocks.1.layers.0.1.net.3.weight\", \"module.transformerBlocks.1.layers.0.1.net.3.bias\", \"module.transformerBlocks.1.layers.1.0.to_qkv.weight\", \"module.transformerBlocks.1.layers.1.0.gate.weight\", \"module.transformerBlocks.1.layers.1.0.gate.bias\", \"module.transformerBlocks.1.layers.1.0.to_out.0.weight\", \"module.transformerBlocks.1.layers.1.0.to_out.0.bias\", \"module.transformerBlocks.1.layers.1.1.net.0.weight\", \"module.transformerBlocks.1.layers.1.1.net.0.bias\", \"module.transformerBlocks.1.layers.1.1.net.3.weight\", \"module.transformerBlocks.1.layers.1.1.net.3.bias\", \"module.transformerBlocks.1.layers.2.0.to_qkv.weight\", \"module.transformerBlocks.1.layers.2.0.gate.weight\", \"module.transformerBlocks.1.layers.2.0.gate.bias\", \"module.transformerBlocks.1.layers.2.0.to_out.0.weight\", \"module.transformerBlocks.1.layers.2.0.to_out.0.bias\", \"module.transformerBlocks.1.layers.2.1.net.0.weight\", \"module.transformerBlocks.1.layers.2.1.net.0.bias\", \"module.transformerBlocks.1.layers.2.1.net.3.weight\", \"module.transformerBlocks.1.layers.2.1.net.3.bias\", \"module.transformerBlocks.1.layers.3.0.to_qkv.weight\", \"module.transformerBlocks.1.layers.3.0.gate.weight\", \"module.transformerBlocks.1.layers.3.0.gate.bias\", \"module.transformerBlocks.1.layers.3.0.to_out.0.weight\", \"module.transformerBlocks.1.layers.3.0.to_out.0.bias\", \"module.transformerBlocks.1.layers.3.1.net.0.weight\", \"module.transformerBlocks.1.layers.3.1.net.0.bias\", \"module.transformerBlocks.1.layers.3.1.net.3.weight\", \"module.transformerBlocks.1.layers.3.1.net.3.bias\", \"module.transformerBlocks.1.layerNormLayers.0.0.weight\", \"module.transformerBlocks.1.layerNormLayers.0.0.bias\", \"module.transformerBlocks.1.layerNormLayers.0.1.weight\", \"module.transformerBlocks.1.layerNormLayers.0.1.bias\", \"module.transformerBlocks.1.layerNormLayers.1.0.weight\", \"module.transformerBlocks.1.layerNormLayers.1.0.bias\", \"module.transformerBlocks.1.layerNormLayers.1.1.weight\", \"module.transformerBlocks.1.layerNormLayers.1.1.bias\", \"module.transformerBlocks.1.layerNormLayers.2.0.weight\", \"module.transformerBlocks.1.layerNormLayers.2.0.bias\", \"module.transformerBlocks.1.layerNormLayers.2.1.weight\", \"module.transformerBlocks.1.layerNormLayers.2.1.bias\", \"module.transformerBlocks.1.layerNormLayers.3.0.weight\", \"module.transformerBlocks.1.layerNormLayers.3.0.bias\", \"module.transformerBlocks.1.layerNormLayers.3.1.weight\", \"module.transformerBlocks.1.layerNormLayers.3.1.bias\", \"module.transformerBlocks.1.pos_emb.inv_freq\". ",
     "output_type": "error",
     "traceback": [
      "\u001b[0;31m---------------------------------------------------------------------------\u001b[0m",
      "\u001b[0;31mRuntimeError\u001b[0m                              Traceback (most recent call last)",
      "\u001b[0;32m/tmp/ipykernel_241096/502506458.py\u001b[0m in \u001b[0;36m<module>\u001b[0;34m\u001b[0m\n\u001b[1;32m     15\u001b[0m \u001b[0mmodels\u001b[0m \u001b[0;34m=\u001b[0m \u001b[0;34m[\u001b[0m\u001b[0mcopy\u001b[0m\u001b[0;34m.\u001b[0m\u001b[0mdeepcopy\u001b[0m\u001b[0;34m(\u001b[0m\u001b[0mmodel_m\u001b[0m\u001b[0;34m)\u001b[0m \u001b[0;32mfor\u001b[0m \u001b[0mi\u001b[0m \u001b[0;32min\u001b[0m \u001b[0mrange\u001b[0m\u001b[0;34m(\u001b[0m\u001b[0mn_models\u001b[0m\u001b[0;34m)\u001b[0m\u001b[0;34m]\u001b[0m\u001b[0;34m\u001b[0m\u001b[0;34m\u001b[0m\u001b[0m\n\u001b[1;32m     16\u001b[0m \u001b[0;34m\u001b[0m\u001b[0m\n\u001b[0;32m---> 17\u001b[0;31m \u001b[0;34m[\u001b[0m\u001b[0mmodel\u001b[0m\u001b[0;34m.\u001b[0m\u001b[0mload_state_dict\u001b[0m\u001b[0;34m(\u001b[0m\u001b[0mtorch\u001b[0m\u001b[0;34m.\u001b[0m\u001b[0mload\u001b[0m\u001b[0;34m(\u001b[0m\u001b[0;34m'../Results/PyTorch_Models/transformer_encoder_40k_finetune_rnasplice-blood_050623_{}'\u001b[0m\u001b[0;34m.\u001b[0m\u001b[0mformat\u001b[0m\u001b[0;34m(\u001b[0m\u001b[0mi\u001b[0m\u001b[0;34m)\u001b[0m\u001b[0;34m)\u001b[0m\u001b[0;34m)\u001b[0m \u001b[0;32mfor\u001b[0m \u001b[0mi\u001b[0m\u001b[0;34m,\u001b[0m\u001b[0mmodel\u001b[0m \u001b[0;32min\u001b[0m \u001b[0menumerate\u001b[0m\u001b[0;34m(\u001b[0m\u001b[0mmodels\u001b[0m\u001b[0;34m)\u001b[0m\u001b[0;34m]\u001b[0m\u001b[0;34m\u001b[0m\u001b[0;34m\u001b[0m\u001b[0m\n\u001b[0m\u001b[1;32m     18\u001b[0m \u001b[0;34m\u001b[0m\u001b[0m\n\u001b[1;32m     19\u001b[0m \u001b[0;32mfor\u001b[0m \u001b[0mmodel\u001b[0m \u001b[0;32min\u001b[0m \u001b[0mmodels\u001b[0m\u001b[0;34m:\u001b[0m\u001b[0;34m\u001b[0m\u001b[0;34m\u001b[0m\u001b[0m\n",
      "\u001b[0;32m/tmp/ipykernel_241096/502506458.py\u001b[0m in \u001b[0;36m<listcomp>\u001b[0;34m(.0)\u001b[0m\n\u001b[1;32m     15\u001b[0m \u001b[0mmodels\u001b[0m \u001b[0;34m=\u001b[0m \u001b[0;34m[\u001b[0m\u001b[0mcopy\u001b[0m\u001b[0;34m.\u001b[0m\u001b[0mdeepcopy\u001b[0m\u001b[0;34m(\u001b[0m\u001b[0mmodel_m\u001b[0m\u001b[0;34m)\u001b[0m \u001b[0;32mfor\u001b[0m \u001b[0mi\u001b[0m \u001b[0;32min\u001b[0m \u001b[0mrange\u001b[0m\u001b[0;34m(\u001b[0m\u001b[0mn_models\u001b[0m\u001b[0;34m)\u001b[0m\u001b[0;34m]\u001b[0m\u001b[0;34m\u001b[0m\u001b[0;34m\u001b[0m\u001b[0m\n\u001b[1;32m     16\u001b[0m \u001b[0;34m\u001b[0m\u001b[0m\n\u001b[0;32m---> 17\u001b[0;31m \u001b[0;34m[\u001b[0m\u001b[0mmodel\u001b[0m\u001b[0;34m.\u001b[0m\u001b[0mload_state_dict\u001b[0m\u001b[0;34m(\u001b[0m\u001b[0mtorch\u001b[0m\u001b[0;34m.\u001b[0m\u001b[0mload\u001b[0m\u001b[0;34m(\u001b[0m\u001b[0;34m'../Results/PyTorch_Models/transformer_encoder_40k_finetune_rnasplice-blood_050623_{}'\u001b[0m\u001b[0;34m.\u001b[0m\u001b[0mformat\u001b[0m\u001b[0;34m(\u001b[0m\u001b[0mi\u001b[0m\u001b[0;34m)\u001b[0m\u001b[0;34m)\u001b[0m\u001b[0;34m)\u001b[0m \u001b[0;32mfor\u001b[0m \u001b[0mi\u001b[0m\u001b[0;34m,\u001b[0m\u001b[0mmodel\u001b[0m \u001b[0;32min\u001b[0m \u001b[0menumerate\u001b[0m\u001b[0;34m(\u001b[0m\u001b[0mmodels\u001b[0m\u001b[0;34m)\u001b[0m\u001b[0;34m]\u001b[0m\u001b[0;34m\u001b[0m\u001b[0;34m\u001b[0m\u001b[0m\n\u001b[0m\u001b[1;32m     18\u001b[0m \u001b[0;34m\u001b[0m\u001b[0m\n\u001b[1;32m     19\u001b[0m \u001b[0;32mfor\u001b[0m \u001b[0mmodel\u001b[0m \u001b[0;32min\u001b[0m \u001b[0mmodels\u001b[0m\u001b[0;34m:\u001b[0m\u001b[0;34m\u001b[0m\u001b[0;34m\u001b[0m\u001b[0m\n",
      "\u001b[0;32m/opt/conda/lib/python3.8/site-packages/torch/nn/modules/module.py\u001b[0m in \u001b[0;36mload_state_dict\u001b[0;34m(self, state_dict, strict)\u001b[0m\n\u001b[1;32m   1480\u001b[0m \u001b[0;34m\u001b[0m\u001b[0m\n\u001b[1;32m   1481\u001b[0m         \u001b[0;32mif\u001b[0m \u001b[0mlen\u001b[0m\u001b[0;34m(\u001b[0m\u001b[0merror_msgs\u001b[0m\u001b[0;34m)\u001b[0m \u001b[0;34m>\u001b[0m \u001b[0;36m0\u001b[0m\u001b[0;34m:\u001b[0m\u001b[0;34m\u001b[0m\u001b[0;34m\u001b[0m\u001b[0m\n\u001b[0;32m-> 1482\u001b[0;31m             raise RuntimeError('Error(s) in loading state_dict for {}:\\n\\t{}'.format(\n\u001b[0m\u001b[1;32m   1483\u001b[0m                                self.__class__.__name__, \"\\n\\t\".join(error_msgs)))\n\u001b[1;32m   1484\u001b[0m         \u001b[0;32mreturn\u001b[0m \u001b[0m_IncompatibleKeys\u001b[0m\u001b[0;34m(\u001b[0m\u001b[0mmissing_keys\u001b[0m\u001b[0;34m,\u001b[0m \u001b[0munexpected_keys\u001b[0m\u001b[0;34m)\u001b[0m\u001b[0;34m\u001b[0m\u001b[0;34m\u001b[0m\u001b[0m\n",
      "\u001b[0;31mRuntimeError\u001b[0m: Error(s) in loading state_dict for SpliceFormer:\n\tMissing key(s) in state_dict: \"SpliceAI.conv_layer_1.weight\", \"SpliceAI.conv_layer_1.bias\", \"SpliceAI.skip_layers.0.weight\", \"SpliceAI.skip_layers.0.bias\", \"SpliceAI.skip_layers.1.weight\", \"SpliceAI.skip_layers.1.bias\", \"SpliceAI.skip_layers.2.weight\", \"SpliceAI.skip_layers.2.bias\", \"SpliceAI.skip_layers.3.weight\", \"SpliceAI.skip_layers.3.bias\", \"SpliceAI.skip_layers.4.weight\", \"SpliceAI.skip_layers.4.bias\", \"SpliceAI.res_layers.0.comboBlock.0.convlayer1.weight\", \"SpliceAI.res_layers.0.comboBlock.0.convlayer1.bias\", \"SpliceAI.res_layers.0.comboBlock.0.convlayer2.weight\", \"SpliceAI.res_layers.0.comboBlock.0.convlayer2.bias\", \"SpliceAI.res_layers.0.comboBlock.0.bn1.weight\", \"SpliceAI.res_layers.0.comboBlock.0.bn1.bias\", \"SpliceAI.res_layers.0.comboBlock.0.bn1.running_mean\", \"SpliceAI.res_layers.0.comboBlock.0.bn1.running_var\", \"SpliceAI.res_layers.0.comboBlock.0.bn2.weight\", \"SpliceAI.res_layers.0.comboBlock.0.bn2.bias\", \"SpliceAI.res_layers.0.comboBlock.0.bn2.running_mean\", \"SpliceAI.res_layers.0.comboBlock.0.bn2.running_var\", \"SpliceAI.res_layers.0.comboBlock.1.convlayer1.weight\", \"SpliceAI.res_layers.0.comboBlock.1.convlayer1.bias\", \"SpliceAI.res_layers.0.comboBlock.1.convlayer2.weight\", \"SpliceAI.res_layers.0.comboBlock.1.convlayer2.bias\", \"SpliceAI.res_layers.0.comboBlock.1.bn1.weight\", \"SpliceAI.res_layers.0.comboBlock.1.bn1.bias\", \"SpliceAI.res_layers.0.comboBlock.1.bn1.running_mean\", \"SpliceAI.res_layers.0.comboBlock.1.bn1.running_var\", \"SpliceAI.res_layers.0.comboBlock.1.bn2.weight\", \"SpliceAI.res_layers.0.comboBlock.1.bn2.bias\", \"SpliceAI.res_layers.0.comboBlock.1.bn2.running_mean\", \"SpliceAI.res_layers.0.comboBlock.1.bn2.running_var\", \"SpliceAI.res_layers.0.comboBlock.2.convlayer1.weight\", \"SpliceAI.res_layers.0.comboBlock.2.convlayer1.bias\", \"SpliceAI.res_layers.0.comboBlock.2.convlayer2.weight\", \"SpliceAI.res_layers.0.comboBlock.2.convlayer2.bias\", \"SpliceAI.res_layers.0.comboBlock.2.bn1.weight\", \"SpliceAI.res_layers.0.comboBlock.2.bn1.bias\", \"SpliceAI.res_layers.0.comboBlock.2.bn1.running_mean\", \"SpliceAI.res_layers.0.comboBlock.2.bn1.running_var\", \"SpliceAI.res_layers.0.comboBlock.2.bn2.weight\", \"SpliceAI.res_layers.0.comboBlock.2.bn2.bias\", \"SpliceAI.res_layers.0.comboBlock.2.bn2.running_mean\", \"SpliceAI.res_layers.0.comboBlock.2.bn2.running_var\", \"SpliceAI.res_layers.0.comboBlock.3.convlayer1.weight\", \"SpliceAI.res_layers.0.comboBlock.3.convlayer1.bias\", \"SpliceAI.res_layers.0.comboBlock.3.convlayer2.weight\", \"SpliceAI.res_layers.0.comboBlock.3.convlayer2.bias\", \"SpliceAI.res_layers.0.comboBlock.3.bn1.weight\", \"SpliceAI.res_layers.0.comboBlock.3.bn1.bias\", \"SpliceAI.res_layers.0.comboBlock.3.bn1.running_mean\", \"SpliceAI.res_layers.0.comboBlock.3.bn1.running_var\", \"SpliceAI.res_layers.0.comboBlock.3.bn2.weight\", \"SpliceAI.res_layers.0.comboBlock.3.bn2.bias\", \"SpliceAI.res_layers.0.comboBlock.3.bn2.running_mean\", \"SpliceAI.res_layers.0.comboBlock.3.bn2.running_var\", \"SpliceAI.res_layers.1.comboBlock.0.convlayer1.weight\", \"SpliceAI.res_layers.1.comboBlock.0.convlayer1.bias\", \"SpliceAI.res_layers.1.comboBlock.0.convlayer2.weight\", \"SpliceAI.res_layers.1.comboBlock.0.convlayer2.bias\", \"SpliceAI.res_layers.1.comboBlock.0.bn1.weight\", \"SpliceAI.res_layers.1.comboBlock.0.bn1.bias\", \"SpliceAI.res_layers.1.comboBlock.0.bn1.running_mean\", \"SpliceAI.res_layers.1.comboBlock.0.bn1.running_var\", \"SpliceAI.res_layers.1.comboBlock.0.bn2.weight\", \"SpliceAI.res_layers.1.comboBlock.0.bn2.bias\", \"SpliceAI.res_layers.1.comboBlock.0.bn2.running_mean\", \"SpliceAI.res_layers.1.comboBlock.0.bn2.running_var\", \"SpliceAI.res_layers.1.comboBlock.1.convlayer1.weight\", \"SpliceAI.res_layers.1.comboBlock.1.convlayer1.bias\", \"SpliceAI.res_layers.1.comboBlock.1.convlayer2.weight\", \"SpliceAI.res_layers.1.comboBlock.1.convlayer2.bias\", \"SpliceAI.res_layers.1.comboBlock.1.bn1.weight\", \"SpliceAI.res_layers.1.comboBlock.1.bn1.bias\", \"SpliceAI.res_layers.1.comboBlock.1.bn1.running_mean\", \"SpliceAI.res_layers.1.comboBlock.1.bn1.running_var\", \"SpliceAI.res_layers.1.comboBlock.1.bn2.weight\", \"SpliceAI.res_layers.1.comboBlock.1.bn2.bias\", \"SpliceAI.res_layers.1.comboBlock.1.bn2.running_mean\", \"SpliceAI.res_layers.1.comboBlock.1.bn2.running_var\", \"SpliceAI.res_layers.1.comboBlock.2.convlayer1.weight\", \"SpliceAI.res_layers.1.comboBlock.2.convlayer1.bias\", \"SpliceAI.res_layers.1.comboBlock.2.convlayer2.weight\", \"SpliceAI.res_layers.1.comboBlock.2.convlayer2.bias\", \"SpliceAI.res_layers.1.comboBlock.2.bn1.weight\", \"SpliceAI.res_layers.1.comboBlock.2.bn1.bias\", \"SpliceAI.res_layers.1.comboBlock.2.bn1.running_mean\", \"SpliceAI.res_layers.1.comboBlock.2.bn1.running_var\", \"SpliceAI.res_layers.1.comboBlock.2.bn2.weight\", \"SpliceAI.res_layers.1.comboBlock.2.bn2.bias\", \"SpliceAI.res_layers.1.comboBlock.2.bn2.running_mean\", \"SpliceAI.res_layers.1.comboBlock.2.bn2.running_var\", \"SpliceAI.res_layers.1.comboBlock.3.convlayer1.weight\", \"SpliceAI.res_layers.1.comboBlock.3.convlayer1.bias\", \"SpliceAI.res_layers.1.comboBlock.3.convlayer2.weight\", \"SpliceAI.res_layers.1.comboBlock.3.convlayer2.bias\", \"SpliceAI.res_layers.1.comboBlock.3.bn1.weight\", \"SpliceAI.res_layers.1.comboBlock.3.bn1.bias\", \"SpliceAI.res_layers.1.comboBlock.3.bn1.running_mean\", \"SpliceAI.res_layers.1.comboBlock.3.bn1.running_var\", \"SpliceAI.res_layers.1.comboBlock.3.bn2.weight\", \"SpliceAI.res_layers.1.comboBlock.3.bn2.bias\", \"SpliceAI.res_layers.1.comboBlock.3.bn2.running_mean\", \"SpliceAI.res_layers.1.comboBlock.3.bn2.running_var\", \"SpliceAI.res_layers.2.comboBlock.0.convlayer1.weight\", \"SpliceAI.res_layers.2.comboBlock.0.convlayer1.bias\", \"SpliceAI.res_layers.2.comboBlock.0.convlayer2.weight\", \"SpliceAI.res_layers.2.comboBlock.0.convlayer2.bias\", \"SpliceAI.res_layers.2.comboBlock.0.bn1.weight\", \"SpliceAI.res_layers.2.comboBlock.0.bn1.bias\", \"SpliceAI.res_layers.2.comboBlock.0.bn1.running_mean\", \"SpliceAI.res_layers.2.comboBlock.0.bn1.running_var\", \"SpliceAI.res_layers.2.comboBlock.0.bn2.weight\", \"SpliceAI.res_layers.2.comboBlock.0.bn2.bias\", \"SpliceAI.res_layers.2.comboBlock.0.bn2.running_mean\", \"SpliceAI.res_layers.2.comboBlock.0.bn2.running_var\", \"SpliceAI.res_layers.2.comboBlock.1.convlayer1.weight\", \"SpliceAI.res_layers.2.comboBlock.1.convlayer1.bias\", \"SpliceAI.res_layers.2.comboBlock.1.convlayer2.weight\", \"SpliceAI.res_layers.2.comboBlock.1.convlayer2.bias\", \"SpliceAI.res_layers.2.comboBlock.1.bn1.weight\", \"SpliceAI.res_layers.2.comboBlock.1.bn1.bias\", \"SpliceAI.res_layers.2.comboBlock.1.bn1.running_mean\", \"SpliceAI.res_layers.2.comboBlock.1.bn1.running_var\", \"SpliceAI.res_layers.2.comboBlock.1.bn2.weight\", \"SpliceAI.res_layers.2.comboBlock.1.bn2.bias\", \"SpliceAI.res_layers.2.comboBlock.1.bn2.running_mean\", \"SpliceAI.res_layers.2.comboBlock.1.bn2.running_var\", \"SpliceAI.res_layers.2.comboBlock.2.convlayer1.weight\", \"SpliceAI.res_layers.2.comboBlock.2.convlayer1.bias\", \"SpliceAI.res_layers.2.comboBlock.2.convlayer2.weight\", \"SpliceAI.res_layers.2.comboBlock.2.convlayer2.bias\", \"SpliceAI.res_layers.2.comboBlock.2.bn1.weight\", \"SpliceAI.res_layers.2.comboBlock.2.bn1.bias\", \"SpliceAI.res_layers.2.comboBlock.2.bn1.running_mean\", \"SpliceAI.res_layers.2.comboBlock.2.bn1.running_var\", \"SpliceAI.res_layers.2.comboBlock.2.bn2.weight\", \"SpliceAI.res_layers.2.comboBlock.2.bn2.bias\", \"SpliceAI.res_layers.2.comboBlock.2.bn2.running_mean\", \"SpliceAI.res_layers.2.comboBlock.2.bn2.running_var\", \"SpliceAI.res_layers.2.comboBlock.3.convlayer1.weight\", \"SpliceAI.res_layers.2.comboBlock.3.convlayer1.bias\", \"SpliceAI.res_layers.2.comboBlock.3.convlayer2.weight\", \"SpliceAI.res_layers.2.comboBlock.3.convlayer2.bias\", \"SpliceAI.res_layers.2.comboBlock.3.bn1.weight\", \"SpliceAI.res_layers.2.comboBlock.3.bn1.bias\", \"SpliceAI.res_layers.2.comboBlock.3.bn1.running_mean\", \"SpliceAI.res_layers.2.comboBlock.3.bn1.running_var\", \"SpliceAI.res_layers.2.comboBlock.3.bn2.weight\", \"SpliceAI.res_layers.2.comboBlock.3.bn2.bias\", \"SpliceAI.res_layers.2.comboBlock.3.bn2.running_mean\", \"SpliceAI.res_layers.2.comboBlock.3.bn2.running_var\", \"SpliceAI.res_layers.3.comboBlock.0.convlayer1.weight\", \"SpliceAI.res_layers.3.comboBlock.0.convlayer1.bias\", \"SpliceAI.res_layers.3.comboBlock.0.convlayer2.weight\", \"SpliceAI.res_layers.3.comboBlock.0.convlayer2.bias\", \"SpliceAI.res_layers.3.comboBlock.0.bn1.weight\", \"SpliceAI.res_layers.3.comboBlock.0.bn1.bias\", \"SpliceAI.res_layers.3.comboBlock.0.bn1.running_mean\", \"SpliceAI.res_layers.3.comboBlock.0.bn1.running_var\", \"SpliceAI.res_layers.3.comboBlock.0.bn2.weight\", \"SpliceAI.res_layers.3.comboBlock.0.bn2.bias\", \"SpliceAI.res_layers.3.comboBlock.0.bn2.running_mean\", \"SpliceAI.res_layers.3.comboBlock.0.bn2.running_var\", \"SpliceAI.res_layers.3.comboBlock.1.convlayer1.weight\", \"SpliceAI.res_layers.3.comboBlock.1.convlayer1.bias\", \"SpliceAI.res_layers.3.comboBlock.1.convlayer2.weight\", \"SpliceAI.res_layers.3.comboBlock.1.convlayer2.bias\", \"SpliceAI.res_layers.3.comboBlock.1.bn1.weight\", \"SpliceAI.res_layers.3.comboBlock.1.bn1.bias\", \"SpliceAI.res_layers.3.comboBlock.1.bn1.running_mean\", \"SpliceAI.res_layers.3.comboBlock.1.bn1.running_var\", \"SpliceAI.res_layers.3.comboBlock.1.bn2.weight\", \"SpliceAI.res_layers.3.comboBlock.1.bn2.bias\", \"SpliceAI.res_layers.3.comboBlock.1.bn2.running_mean\", \"SpliceAI.res_layers.3.comboBlock.1.bn2.running_var\", \"SpliceAI.res_layers.3.comboBlock.2.convlayer1.weight\", \"SpliceAI.res_layers.3.comboBlock.2.convlayer1.bias\", \"SpliceAI.res_layers.3.comboBlock.2.convlayer2.weight\", \"SpliceAI.res_layers.3.comboBlock.2.convlayer2.bias\", \"SpliceAI.res_layers.3.comboBlock.2.bn1.weight\", \"SpliceAI.res_layers.3.comboBlock.2.bn1.bias\", \"SpliceAI.res_layers.3.comboBlock.2.bn1.running_mean\", \"SpliceAI.res_layers.3.comboBlock.2.bn1.running_var\", \"SpliceAI.res_layers.3.comboBlock.2.bn2.weight\", \"SpliceAI.res_layers.3.comboBlock.2.bn2.bias\", \"SpliceAI.res_layers.3.comboBlock.2.bn2.running_mean\", \"SpliceAI.res_layers.3.comboBlock.2.bn2.running_var\", \"SpliceAI.res_layers.3.comboBlock.3.convlayer1.weight\", \"SpliceAI.res_layers.3.comboBlock.3.convlayer1.bias\", \"SpliceAI.res_layers.3.comboBlock.3.convlayer2.weight\", \"SpliceAI.res_layers.3.comboBlock.3.convlayer2.bias\", \"SpliceAI.res_layers.3.comboBlock.3.bn1.weight\", \"SpliceAI.res_layers.3.comboBlock.3.bn1.bias\", \"SpliceAI.res_layers.3.comboBlock.3.bn1.running_mean\", \"SpliceAI.res_layers.3.comboBlock.3.bn1.running_var\", \"SpliceAI.res_layers.3.comboBlock.3.bn2.weight\", \"SpliceAI.res_layers.3.comboBlock.3.bn2.bias\", \"SpliceAI.res_layers.3.comboBlock.3.bn2.running_mean\", \"SpliceAI.res_layers.3.comboBlock.3.bn2.running_var\", \"conv_final.weight\", \"conv_final.bias\", \"policy.affine1.weight\", \"policy.affine1.bias\", \"policy.affine2.weight\", \"policy.affine2.bias\", \"skip_layers.0.weight\", \"skip_layers.0.bias\", \"skip_layers.1.weight\", \"skip_layers.1.bias\", \"skip_layers.2.weight\", \"skip_layers.2.bias\", \"transformerBlocks.0.layers.0.0.to_qkv.weight\", \"transformerBlocks.0.layers.0.0.gate.weight\", \"transformerBlocks.0.layers.0.0.gate.bias\", \"transformerBlocks.0.layers.0.0.to_out.0.weight\", \"transformerBlocks.0.layers.0.0.to_out.0.bias\", \"transformerBlocks.0.layers.0.1.net.0.weight\", \"transformerBlocks.0.layers.0.1.net.0.bias\", \"transformerBlocks.0.layers.0.1.net.3.weight\", \"transformerBlocks.0.layers.0.1.net.3.bias\", \"transformerBlocks.0.layers.1.0.to_qkv.weight\", \"transformerBlocks.0.layers.1.0.gate.weight\", \"transformerBlocks.0.layers.1.0.gate.bias\", \"transformerBlocks.0.layers.1.0.to_out.0.weight\", \"transformerBlocks.0.layers.1.0.to_out.0.bias\", \"transformerBlocks.0.layers.1.1.net.0.weight\", \"transformerBlocks.0.layers.1.1.net.0.bias\", \"transformerBlocks.0.layers.1.1.net.3.weight\", \"transformerBlocks.0.layers.1.1.net.3.bias\", \"transformerBlocks.0.layers.2.0.to_qkv.weight\", \"transformerBlocks.0.layers.2.0.gate.weight\", \"transformerBlocks.0.layers.2.0.gate.bias\", \"transformerBlocks.0.layers.2.0.to_out.0.weight\", \"transformerBlocks.0.layers.2.0.to_out.0.bias\", \"transformerBlocks.0.layers.2.1.net.0.weight\", \"transformerBlocks.0.layers.2.1.net.0.bias\", \"transformerBlocks.0.layers.2.1.net.3.weight\", \"transformerBlocks.0.layers.2.1.net.3.bias\", \"transformerBlocks.0.layers.3.0.to_qkv.weight\", \"transformerBlocks.0.layers.3.0.gate.weight\", \"transformerBlocks.0.layers.3.0.gate.bias\", \"transformerBlocks.0.layers.3.0.to_out.0.weight\", \"transformerBlocks.0.layers.3.0.to_out.0.bias\", \"transformerBlocks.0.layers.3.1.net.0.weight\", \"transformerBlocks.0.layers.3.1.net.0.bias\", \"transformerBlocks.0.layers.3.1.net.3.weight\", \"transformerBlocks.0.layers.3.1.net.3.bias\", \"transformerBlocks.0.layerNormLayers.0.0.weight\", \"transformerBlocks.0.layerNormLayers.0.0.bias\", \"transformerBlocks.0.layerNormLayers.0.1.weight\", \"transformerBlocks.0.layerNormLayers.0.1.bias\", \"transformerBlocks.0.layerNormLayers.1.0.weight\", \"transformerBlocks.0.layerNormLayers.1.0.bias\", \"transformerBlocks.0.layerNormLayers.1.1.weight\", \"transformerBlocks.0.layerNormLayers.1.1.bias\", \"transformerBlocks.0.layerNormLayers.2.0.weight\", \"transformerBlocks.0.layerNormLayers.2.0.bias\", \"transformerBlocks.0.layerNormLayers.2.1.weight\", \"transformerBlocks.0.layerNormLayers.2.1.bias\", \"transformerBlocks.0.layerNormLayers.3.0.weight\", \"transformerBlocks.0.layerNormLayers.3.0.bias\", \"transformerBlocks.0.layerNormLayers.3.1.weight\", \"transformerBlocks.0.layerNormLayers.3.1.bias\", \"transformerBlocks.0.pos_emb.inv_freq\", \"transformerBlocks.1.layers.0.0.to_qkv.weight\", \"transformerBlocks.1.layers.0.0.gate.weight\", \"transformerBlocks.1.layers.0.0.gate.bias\", \"transformerBlocks.1.layers.0.0.to_out.0.weight\", \"transformerBlocks.1.layers.0.0.to_out.0.bias\", \"transformerBlocks.1.layers.0.1.net.0.weight\", \"transformerBlocks.1.layers.0.1.net.0.bias\", \"transformerBlocks.1.layers.0.1.net.3.weight\", \"transformerBlocks.1.layers.0.1.net.3.bias\", \"transformerBlocks.1.layers.1.0.to_qkv.weight\", \"transformerBlocks.1.layers.1.0.gate.weight\", \"transformerBlocks.1.layers.1.0.gate.bias\", \"transformerBlocks.1.layers.1.0.to_out.0.weight\", \"transformerBlocks.1.layers.1.0.to_out.0.bias\", \"transformerBlocks.1.layers.1.1.net.0.weight\", \"transformerBlocks.1.layers.1.1.net.0.bias\", \"transformerBlocks.1.layers.1.1.net.3.weight\", \"transformerBlocks.1.layers.1.1.net.3.bias\", \"transformerBlocks.1.layers.2.0.to_qkv.weight\", \"transformerBlocks.1.layers.2.0.gate.weight\", \"transformerBlocks.1.layers.2.0.gate.bias\", \"transformerBlocks.1.layers.2.0.to_out.0.weight\", \"transformerBlocks.1.layers.2.0.to_out.0.bias\", \"transformerBlocks.1.layers.2.1.net.0.weight\", \"transformerBlocks.1.layers.2.1.net.0.bias\", \"transformerBlocks.1.layers.2.1.net.3.weight\", \"transformerBlocks.1.layers.2.1.net.3.bias\", \"transformerBlocks.1.layers.3.0.to_qkv.weight\", \"transformerBlocks.1.layers.3.0.gate.weight\", \"transformerBlocks.1.layers.3.0.gate.bias\", \"transformerBlocks.1.layers.3.0.to_out.0.weight\", \"transformerBlocks.1.layers.3.0.to_out.0.bias\", \"transformerBlocks.1.layers.3.1.net.0.weight\", \"transformerBlocks.1.layers.3.1.net.0.bias\", \"transformerBlocks.1.layers.3.1.net.3.weight\", \"transformerBlocks.1.layers.3.1.net.3.bias\", \"transformerBlocks.1.layerNormLayers.0.0.weight\", \"transformerBlocks.1.layerNormLayers.0.0.bias\", \"transformerBlocks.1.layerNormLayers.0.1.weight\", \"transformerBlocks.1.layerNormLayers.0.1.bias\", \"transformerBlocks.1.layerNormLayers.1.0.weight\", \"transformerBlocks.1.layerNormLayers.1.0.bias\", \"transformerBlocks.1.layerNormLayers.1.1.weight\", \"transformerBlocks.1.layerNormLayers.1.1.bias\", \"transformerBlocks.1.layerNormLayers.2.0.weight\", \"transformerBlocks.1.layerNormLayers.2.0.bias\", \"transformerBlocks.1.layerNormLayers.2.1.weight\", \"transformerBlocks.1.layerNormLayers.2.1.bias\", \"transformerBlocks.1.layerNormLayers.3.0.weight\", \"transformerBlocks.1.layerNormLayers.3.0.bias\", \"transformerBlocks.1.layerNormLayers.3.1.weight\", \"transformerBlocks.1.layerNormLayers.3.1.bias\", \"transformerBlocks.1.pos_emb.inv_freq\". \n\tUnexpected key(s) in state_dict: \"module.SpliceAI.conv_layer_1.weight\", \"module.SpliceAI.conv_layer_1.bias\", \"module.SpliceAI.skip_layers.0.weight\", \"module.SpliceAI.skip_layers.0.bias\", \"module.SpliceAI.skip_layers.1.weight\", \"module.SpliceAI.skip_layers.1.bias\", \"module.SpliceAI.skip_layers.2.weight\", \"module.SpliceAI.skip_layers.2.bias\", \"module.SpliceAI.skip_layers.3.weight\", \"module.SpliceAI.skip_layers.3.bias\", \"module.SpliceAI.skip_layers.4.weight\", \"module.SpliceAI.skip_layers.4.bias\", \"module.SpliceAI.res_layers.0.comboBlock.0.convlayer1.weight\", \"module.SpliceAI.res_layers.0.comboBlock.0.convlayer1.bias\", \"module.SpliceAI.res_layers.0.comboBlock.0.convlayer2.weight\", \"module.SpliceAI.res_layers.0.comboBlock.0.convlayer2.bias\", \"module.SpliceAI.res_layers.0.comboBlock.0.bn1.weight\", \"module.SpliceAI.res_layers.0.comboBlock.0.bn1.bias\", \"module.SpliceAI.res_layers.0.comboBlock.0.bn1.running_mean\", \"module.SpliceAI.res_layers.0.comboBlock.0.bn1.running_var\", \"module.SpliceAI.res_layers.0.comboBlock.0.bn1.num_batches_tracked\", \"module.SpliceAI.res_layers.0.comboBlock.0.bn2.weight\", \"module.SpliceAI.res_layers.0.comboBlock.0.bn2.bias\", \"module.SpliceAI.res_layers.0.comboBlock.0.bn2.running_mean\", \"module.SpliceAI.res_layers.0.comboBlock.0.bn2.running_var\", \"module.SpliceAI.res_layers.0.comboBlock.0.bn2.num_batches_tracked\", \"module.SpliceAI.res_layers.0.comboBlock.1.convlayer1.weight\", \"module.SpliceAI.res_layers.0.comboBlock.1.convlayer1.bias\", \"module.SpliceAI.res_layers.0.comboBlock.1.convlayer2.weight\", \"module.SpliceAI.res_layers.0.comboBlock.1.convlayer2.bias\", \"module.SpliceAI.res_layers.0.comboBlock.1.bn1.weight\", \"module.SpliceAI.res_layers.0.comboBlock.1.bn1.bias\", \"module.SpliceAI.res_layers.0.comboBlock.1.bn1.running_mean\", \"module.SpliceAI.res_layers.0.comboBlock.1.bn1.running_var\", \"module.SpliceAI.res_layers.0.comboBlock.1.bn1.num_batches_tracked\", \"module.SpliceAI.res_layers.0.comboBlock.1.bn2.weight\", \"module.SpliceAI.res_layers.0.comboBlock.1.bn2.bias\", \"module.SpliceAI.res_layers.0.comboBlock.1.bn2.running_mean\", \"module.SpliceAI.res_layers.0.comboBlock.1.bn2.running_var\", \"module.SpliceAI.res_layers.0.comboBlock.1.bn2.num_batches_tracked\", \"module.SpliceAI.res_layers.0.comboBlock.2.convlayer1.weight\", \"module.SpliceAI.res_layers.0.comboBlock.2.convlayer1.bias\", \"module.SpliceAI.res_layers.0.comboBlock.2.convlayer2.weight\", \"module.SpliceAI.res_layers.0.comboBlock.2.convlayer2.bias\", \"module.SpliceAI.res_layers.0.comboBlock.2.bn1.weight\", \"module.SpliceAI.res_layers.0.comboBlock.2.bn1.bias\", \"module.SpliceAI.res_layers.0.comboBlock.2.bn1.running_mean\", \"module.SpliceAI.res_layers.0.comboBlock.2.bn1.running_var\", \"module.SpliceAI.res_layers.0.comboBlock.2.bn1.num_batches_tracked\", \"module.SpliceAI.res_layers.0.comboBlock.2.bn2.weight\", \"module.SpliceAI.res_layers.0.comboBlock.2.bn2.bias\", \"module.SpliceAI.res_layers.0.comboBlock.2.bn2.running_mean\", \"module.SpliceAI.res_layers.0.comboBlock.2.bn2.running_var\", \"module.SpliceAI.res_layers.0.comboBlock.2.bn2.num_batches_tracked\", \"module.SpliceAI.res_layers.0.comboBlock.3.convlayer1.weight\", \"module.SpliceAI.res_layers.0.comboBlock.3.convlayer1.bias\", \"module.SpliceAI.res_layers.0.comboBlock.3.convlayer2.weight\", \"module.SpliceAI.res_layers.0.comboBlock.3.convlayer2.bias\", \"module.SpliceAI.res_layers.0.comboBlock.3.bn1.weight\", \"module.SpliceAI.res_layers.0.comboBlock.3.bn1.bias\", \"module.SpliceAI.res_layers.0.comboBlock.3.bn1.running_mean\", \"module.SpliceAI.res_layers.0.comboBlock.3.bn1.running_var\", \"module.SpliceAI.res_layers.0.comboBlock.3.bn1.num_batches_tracked\", \"module.SpliceAI.res_layers.0.comboBlock.3.bn2.weight\", \"module.SpliceAI.res_layers.0.comboBlock.3.bn2.bias\", \"module.SpliceAI.res_layers.0.comboBlock.3.bn2.running_mean\", \"module.SpliceAI.res_layers.0.comboBlock.3.bn2.running_var\", \"module.SpliceAI.res_layers.0.comboBlock.3.bn2.num_batches_tracked\", \"module.SpliceAI.res_layers.1.comboBlock.0.convlayer1.weight\", \"module.SpliceAI.res_layers.1.comboBlock.0.convlayer1.bias\", \"module.SpliceAI.res_layers.1.comboBlock.0.convlayer2.weight\", \"module.SpliceAI.res_layers.1.comboBlock.0.convlayer2.bias\", \"module.SpliceAI.res_layers.1.comboBlock.0.bn1.weight\", \"module.SpliceAI.res_layers.1.comboBlock.0.bn1.bias\", \"module.SpliceAI.res_layers.1.comboBlock.0.bn1.running_mean\", \"module.SpliceAI.res_layers.1.comboBlock.0.bn1.running_var\", \"module.SpliceAI.res_layers.1.comboBlock.0.bn1.num_batches_tracked\", \"module.SpliceAI.res_layers.1.comboBlock.0.bn2.weight\", \"module.SpliceAI.res_layers.1.comboBlock.0.bn2.bias\", \"module.SpliceAI.res_layers.1.comboBlock.0.bn2.running_mean\", \"module.SpliceAI.res_layers.1.comboBlock.0.bn2.running_var\", \"module.SpliceAI.res_layers.1.comboBlock.0.bn2.num_batches_tracked\", \"module.SpliceAI.res_layers.1.comboBlock.1.convlayer1.weight\", \"module.SpliceAI.res_layers.1.comboBlock.1.convlayer1.bias\", \"module.SpliceAI.res_layers.1.comboBlock.1.convlayer2.weight\", \"module.SpliceAI.res_layers.1.comboBlock.1.convlayer2.bias\", \"module.SpliceAI.res_layers.1.comboBlock.1.bn1.weight\", \"module.SpliceAI.res_layers.1.comboBlock.1.bn1.bias\", \"module.SpliceAI.res_layers.1.comboBlock.1.bn1.running_mean\", \"module.SpliceAI.res_layers.1.comboBlock.1.bn1.running_var\", \"module.SpliceAI.res_layers.1.comboBlock.1.bn1.num_batches_tracked\", \"module.SpliceAI.res_layers.1.comboBlock.1.bn2.weight\", \"module.SpliceAI.res_layers.1.comboBlock.1.bn2.bias\", \"module.SpliceAI.res_layers.1.comboBlock.1.bn2.running_mean\", \"module.SpliceAI.res_layers.1.comboBlock.1.bn2.running_var\", \"module.SpliceAI.res_layers.1.comboBlock.1.bn2.num_batches_tracked\", \"module.SpliceAI.res_layers.1.comboBlock.2.convlayer1.weight\", \"module.SpliceAI.res_layers.1.comboBlock.2.convlayer1.bias\", \"module.SpliceAI.res_layers.1.comboBlock.2.convlayer2.weight\", \"module.SpliceAI.res_layers.1.comboBlock.2.convlayer2.bias\", \"module.SpliceAI.res_layers.1.comboBlock.2.bn1.weight\", \"module.SpliceAI.res_layers.1.comboBlock.2.bn1.bias\", \"module.SpliceAI.res_layers.1.comboBlock.2.bn1.running_mean\", \"module.SpliceAI.res_layers.1.comboBlock.2.bn1.running_var\", \"module.SpliceAI.res_layers.1.comboBlock.2.bn1.num_batches_tracked\", \"module.SpliceAI.res_layers.1.comboBlock.2.bn2.weight\", \"module.SpliceAI.res_layers.1.comboBlock.2.bn2.bias\", \"module.SpliceAI.res_layers.1.comboBlock.2.bn2.running_mean\", \"module.SpliceAI.res_layers.1.comboBlock.2.bn2.running_var\", \"module.SpliceAI.res_layers.1.comboBlock.2.bn2.num_batches_tracked\", \"module.SpliceAI.res_layers.1.comboBlock.3.convlayer1.weight\", \"module.SpliceAI.res_layers.1.comboBlock.3.convlayer1.bias\", \"module.SpliceAI.res_layers.1.comboBlock.3.convlayer2.weight\", \"module.SpliceAI.res_layers.1.comboBlock.3.convlayer2.bias\", \"module.SpliceAI.res_layers.1.comboBlock.3.bn1.weight\", \"module.SpliceAI.res_layers.1.comboBlock.3.bn1.bias\", \"module.SpliceAI.res_layers.1.comboBlock.3.bn1.running_mean\", \"module.SpliceAI.res_layers.1.comboBlock.3.bn1.running_var\", \"module.SpliceAI.res_layers.1.comboBlock.3.bn1.num_batches_tracked\", \"module.SpliceAI.res_layers.1.comboBlock.3.bn2.weight\", \"module.SpliceAI.res_layers.1.comboBlock.3.bn2.bias\", \"module.SpliceAI.res_layers.1.comboBlock.3.bn2.running_mean\", \"module.SpliceAI.res_layers.1.comboBlock.3.bn2.running_var\", \"module.SpliceAI.res_layers.1.comboBlock.3.bn2.num_batches_tracked\", \"module.SpliceAI.res_layers.2.comboBlock.0.convlayer1.weight\", \"module.SpliceAI.res_layers.2.comboBlock.0.convlayer1.bias\", \"module.SpliceAI.res_layers.2.comboBlock.0.convlayer2.weight\", \"module.SpliceAI.res_layers.2.comboBlock.0.convlayer2.bias\", \"module.SpliceAI.res_layers.2.comboBlock.0.bn1.weight\", \"module.SpliceAI.res_layers.2.comboBlock.0.bn1.bias\", \"module.SpliceAI.res_layers.2.comboBlock.0.bn1.running_mean\", \"module.SpliceAI.res_layers.2.comboBlock.0.bn1.running_var\", \"module.SpliceAI.res_layers.2.comboBlock.0.bn1.num_batches_tracked\", \"module.SpliceAI.res_layers.2.comboBlock.0.bn2.weight\", \"module.SpliceAI.res_layers.2.comboBlock.0.bn2.bias\", \"module.SpliceAI.res_layers.2.comboBlock.0.bn2.running_mean\", \"module.SpliceAI.res_layers.2.comboBlock.0.bn2.running_var\", \"module.SpliceAI.res_layers.2.comboBlock.0.bn2.num_batches_tracked\", \"module.SpliceAI.res_layers.2.comboBlock.1.convlayer1.weight\", \"module.SpliceAI.res_layers.2.comboBlock.1.convlayer1.bias\", \"module.SpliceAI.res_layers.2.comboBlock.1.convlayer2.weight\", \"module.SpliceAI.res_layers.2.comboBlock.1.convlayer2.bias\", \"module.SpliceAI.res_layers.2.comboBlock.1.bn1.weight\", \"module.SpliceAI.res_layers.2.comboBlock.1.bn1.bias\", \"module.SpliceAI.res_layers.2.comboBlock.1.bn1.running_mean\", \"module.SpliceAI.res_layers.2.comboBlock.1.bn1.running_var\", \"module.SpliceAI.res_layers.2.comboBlock.1.bn1.num_batches_tracked\", \"module.SpliceAI.res_layers.2.comboBlock.1.bn2.weight\", \"module.SpliceAI.res_layers.2.comboBlock.1.bn2.bias\", \"module.SpliceAI.res_layers.2.comboBlock.1.bn2.running_mean\", \"module.SpliceAI.res_layers.2.comboBlock.1.bn2.running_var\", \"module.SpliceAI.res_layers.2.comboBlock.1.bn2.num_batches_tracked\", \"module.SpliceAI.res_layers.2.comboBlock.2.convlayer1.weight\", \"module.SpliceAI.res_layers.2.comboBlock.2.convlayer1.bias\", \"module.SpliceAI.res_layers.2.comboBlock.2.convlayer2.weight\", \"module.SpliceAI.res_layers.2.comboBlock.2.convlayer2.bias\", \"module.SpliceAI.res_layers.2.comboBlock.2.bn1.weight\", \"module.SpliceAI.res_layers.2.comboBlock.2.bn1.bias\", \"module.SpliceAI.res_layers.2.comboBlock.2.bn1.running_mean\", \"module.SpliceAI.res_layers.2.comboBlock.2.bn1.running_var\", \"module.SpliceAI.res_layers.2.comboBlock.2.bn1.num_batches_tracked\", \"module.SpliceAI.res_layers.2.comboBlock.2.bn2.weight\", \"module.SpliceAI.res_layers.2.comboBlock.2.bn2.bias\", \"module.SpliceAI.res_layers.2.comboBlock.2.bn2.running_mean\", \"module.SpliceAI.res_layers.2.comboBlock.2.bn2.running_var\", \"module.SpliceAI.res_layers.2.comboBlock.2.bn2.num_batches_tracked\", \"module.SpliceAI.res_layers.2.comboBlock.3.convlayer1.weight\", \"module.SpliceAI.res_layers.2.comboBlock.3.convlayer1.bias\", \"module.SpliceAI.res_layers.2.comboBlock.3.convlayer2.weight\", \"module.SpliceAI.res_layers.2.comboBlock.3.convlayer2.bias\", \"module.SpliceAI.res_layers.2.comboBlock.3.bn1.weight\", \"module.SpliceAI.res_layers.2.comboBlock.3.bn1.bias\", \"module.SpliceAI.res_layers.2.comboBlock.3.bn1.running_mean\", \"module.SpliceAI.res_layers.2.comboBlock.3.bn1.running_var\", \"module.SpliceAI.res_layers.2.comboBlock.3.bn1.num_batches_tracked\", \"module.SpliceAI.res_layers.2.comboBlock.3.bn2.weight\", \"module.SpliceAI.res_layers.2.comboBlock.3.bn2.bias\", \"module.SpliceAI.res_layers.2.comboBlock.3.bn2.running_mean\", \"module.SpliceAI.res_layers.2.comboBlock.3.bn2.running_var\", \"module.SpliceAI.res_layers.2.comboBlock.3.bn2.num_batches_tracked\", \"module.SpliceAI.res_layers.3.comboBlock.0.convlayer1.weight\", \"module.SpliceAI.res_layers.3.comboBlock.0.convlayer1.bias\", \"module.SpliceAI.res_layers.3.comboBlock.0.convlayer2.weight\", \"module.SpliceAI.res_layers.3.comboBlock.0.convlayer2.bias\", \"module.SpliceAI.res_layers.3.comboBlock.0.bn1.weight\", \"module.SpliceAI.res_layers.3.comboBlock.0.bn1.bias\", \"module.SpliceAI.res_layers.3.comboBlock.0.bn1.running_mean\", \"module.SpliceAI.res_layers.3.comboBlock.0.bn1.running_var\", \"module.SpliceAI.res_layers.3.comboBlock.0.bn1.num_batches_tracked\", \"module.SpliceAI.res_layers.3.comboBlock.0.bn2.weight\", \"module.SpliceAI.res_layers.3.comboBlock.0.bn2.bias\", \"module.SpliceAI.res_layers.3.comboBlock.0.bn2.running_mean\", \"module.SpliceAI.res_layers.3.comboBlock.0.bn2.running_var\", \"module.SpliceAI.res_layers.3.comboBlock.0.bn2.num_batches_tracked\", \"module.SpliceAI.res_layers.3.comboBlock.1.convlayer1.weight\", \"module.SpliceAI.res_layers.3.comboBlock.1.convlayer1.bias\", \"module.SpliceAI.res_layers.3.comboBlock.1.convlayer2.weight\", \"module.SpliceAI.res_layers.3.comboBlock.1.convlayer2.bias\", \"module.SpliceAI.res_layers.3.comboBlock.1.bn1.weight\", \"module.SpliceAI.res_layers.3.comboBlock.1.bn1.bias\", \"module.SpliceAI.res_layers.3.comboBlock.1.bn1.running_mean\", \"module.SpliceAI.res_layers.3.comboBlock.1.bn1.running_var\", \"module.SpliceAI.res_layers.3.comboBlock.1.bn1.num_batches_tracked\", \"module.SpliceAI.res_layers.3.comboBlock.1.bn2.weight\", \"module.SpliceAI.res_layers.3.comboBlock.1.bn2.bias\", \"module.SpliceAI.res_layers.3.comboBlock.1.bn2.running_mean\", \"module.SpliceAI.res_layers.3.comboBlock.1.bn2.running_var\", \"module.SpliceAI.res_layers.3.comboBlock.1.bn2.num_batches_tracked\", \"module.SpliceAI.res_layers.3.comboBlock.2.convlayer1.weight\", \"module.SpliceAI.res_layers.3.comboBlock.2.convlayer1.bias\", \"module.SpliceAI.res_layers.3.comboBlock.2.convlayer2.weight\", \"module.SpliceAI.res_layers.3.comboBlock.2.convlayer2.bias\", \"module.SpliceAI.res_layers.3.comboBlock.2.bn1.weight\", \"module.SpliceAI.res_layers.3.comboBlock.2.bn1.bias\", \"module.SpliceAI.res_layers.3.comboBlock.2.bn1.running_mean\", \"module.SpliceAI.res_layers.3.comboBlock.2.bn1.running_var\", \"module.SpliceAI.res_layers.3.comboBlock.2.bn1.num_batches_tracked\", \"module.SpliceAI.res_layers.3.comboBlock.2.bn2.weight\", \"module.SpliceAI.res_layers.3.comboBlock.2.bn2.bias\", \"module.SpliceAI.res_layers.3.comboBlock.2.bn2.running_mean\", \"module.SpliceAI.res_layers.3.comboBlock.2.bn2.running_var\", \"module.SpliceAI.res_layers.3.comboBlock.2.bn2.num_batches_tracked\", \"module.SpliceAI.res_layers.3.comboBlock.3.convlayer1.weight\", \"module.SpliceAI.res_layers.3.comboBlock.3.convlayer1.bias\", \"module.SpliceAI.res_layers.3.comboBlock.3.convlayer2.weight\", \"module.SpliceAI.res_layers.3.comboBlock.3.convlayer2.bias\", \"module.SpliceAI.res_layers.3.comboBlock.3.bn1.weight\", \"module.SpliceAI.res_layers.3.comboBlock.3.bn1.bias\", \"module.SpliceAI.res_layers.3.comboBlock.3.bn1.running_mean\", \"module.SpliceAI.res_layers.3.comboBlock.3.bn1.running_var\", \"module.SpliceAI.res_layers.3.comboBlock.3.bn1.num_batches_tracked\", \"module.SpliceAI.res_layers.3.comboBlock.3.bn2.weight\", \"module.SpliceAI.res_layers.3.comboBlock.3.bn2.bias\", \"module.SpliceAI.res_layers.3.comboBlock.3.bn2.running_mean\", \"module.SpliceAI.res_layers.3.comboBlock.3.bn2.running_var\", \"module.SpliceAI.res_layers.3.comboBlock.3.bn2.num_batches_tracked\", \"module.conv_final.weight\", \"module.conv_final.bias\", \"module.policy.affine1.weight\", \"module.policy.affine1.bias\", \"module.policy.affine2.weight\", \"module.policy.affine2.bias\", \"module.skip_layers.0.weight\", \"module.skip_layers.0.bias\", \"module.skip_layers.1.weight\", \"module.skip_layers.1.bias\", \"module.skip_layers.2.weight\", \"module.skip_layers.2.bias\", \"module.transformerBlocks.0.layers.0.0.to_qkv.weight\", \"module.transformerBlocks.0.layers.0.0.gate.weight\", \"module.transformerBlocks.0.layers.0.0.gate.bias\", \"module.transformerBlocks.0.layers.0.0.to_out.0.weight\", \"module.transformerBlocks.0.layers.0.0.to_out.0.bias\", \"module.transformerBlocks.0.layers.0.1.net.0.weight\", \"module.transformerBlocks.0.layers.0.1.net.0.bias\", \"module.transformerBlocks.0.layers.0.1.net.3.weight\", \"module.transformerBlocks.0.layers.0.1.net.3.bias\", \"module.transformerBlocks.0.layers.1.0.to_qkv.weight\", \"module.transformerBlocks.0.layers.1.0.gate.weight\", \"module.transformerBlocks.0.layers.1.0.gate.bias\", \"module.transformerBlocks.0.layers.1.0.to_out.0.weight\", \"module.transformerBlocks.0.layers.1.0.to_out.0.bias\", \"module.transformerBlocks.0.layers.1.1.net.0.weight\", \"module.transformerBlocks.0.layers.1.1.net.0.bias\", \"module.transformerBlocks.0.layers.1.1.net.3.weight\", \"module.transformerBlocks.0.layers.1.1.net.3.bias\", \"module.transformerBlocks.0.layers.2.0.to_qkv.weight\", \"module.transformerBlocks.0.layers.2.0.gate.weight\", \"module.transformerBlocks.0.layers.2.0.gate.bias\", \"module.transformerBlocks.0.layers.2.0.to_out.0.weight\", \"module.transformerBlocks.0.layers.2.0.to_out.0.bias\", \"module.transformerBlocks.0.layers.2.1.net.0.weight\", \"module.transformerBlocks.0.layers.2.1.net.0.bias\", \"module.transformerBlocks.0.layers.2.1.net.3.weight\", \"module.transformerBlocks.0.layers.2.1.net.3.bias\", \"module.transformerBlocks.0.layers.3.0.to_qkv.weight\", \"module.transformerBlocks.0.layers.3.0.gate.weight\", \"module.transformerBlocks.0.layers.3.0.gate.bias\", \"module.transformerBlocks.0.layers.3.0.to_out.0.weight\", \"module.transformerBlocks.0.layers.3.0.to_out.0.bias\", \"module.transformerBlocks.0.layers.3.1.net.0.weight\", \"module.transformerBlocks.0.layers.3.1.net.0.bias\", \"module.transformerBlocks.0.layers.3.1.net.3.weight\", \"module.transformerBlocks.0.layers.3.1.net.3.bias\", \"module.transformerBlocks.0.layerNormLayers.0.0.weight\", \"module.transformerBlocks.0.layerNormLayers.0.0.bias\", \"module.transformerBlocks.0.layerNormLayers.0.1.weight\", \"module.transformerBlocks.0.layerNormLayers.0.1.bias\", \"module.transformerBlocks.0.layerNormLayers.1.0.weight\", \"module.transformerBlocks.0.layerNormLayers.1.0.bias\", \"module.transformerBlocks.0.layerNormLayers.1.1.weight\", \"module.transformerBlocks.0.layerNormLayers.1.1.bias\", \"module.transformerBlocks.0.layerNormLayers.2.0.weight\", \"module.transformerBlocks.0.layerNormLayers.2.0.bias\", \"module.transformerBlocks.0.layerNormLayers.2.1.weight\", \"module.transformerBlocks.0.layerNormLayers.2.1.bias\", \"module.transformerBlocks.0.layerNormLayers.3.0.weight\", \"module.transformerBlocks.0.layerNormLayers.3.0.bias\", \"module.transformerBlocks.0.layerNormLayers.3.1.weight\", \"module.transformerBlocks.0.layerNormLayers.3.1.bias\", \"module.transformerBlocks.0.pos_emb.inv_freq\", \"module.transformerBlocks.1.layers.0.0.to_qkv.weight\", \"module.transformerBlocks.1.layers.0.0.gate.weight\", \"module.transformerBlocks.1.layers.0.0.gate.bias\", \"module.transformerBlocks.1.layers.0.0.to_out.0.weight\", \"module.transformerBlocks.1.layers.0.0.to_out.0.bias\", \"module.transformerBlocks.1.layers.0.1.net.0.weight\", \"module.transformerBlocks.1.layers.0.1.net.0.bias\", \"module.transformerBlocks.1.layers.0.1.net.3.weight\", \"module.transformerBlocks.1.layers.0.1.net.3.bias\", \"module.transformerBlocks.1.layers.1.0.to_qkv.weight\", \"module.transformerBlocks.1.layers.1.0.gate.weight\", \"module.transformerBlocks.1.layers.1.0.gate.bias\", \"module.transformerBlocks.1.layers.1.0.to_out.0.weight\", \"module.transformerBlocks.1.layers.1.0.to_out.0.bias\", \"module.transformerBlocks.1.layers.1.1.net.0.weight\", \"module.transformerBlocks.1.layers.1.1.net.0.bias\", \"module.transformerBlocks.1.layers.1.1.net.3.weight\", \"module.transformerBlocks.1.layers.1.1.net.3.bias\", \"module.transformerBlocks.1.layers.2.0.to_qkv.weight\", \"module.transformerBlocks.1.layers.2.0.gate.weight\", \"module.transformerBlocks.1.layers.2.0.gate.bias\", \"module.transformerBlocks.1.layers.2.0.to_out.0.weight\", \"module.transformerBlocks.1.layers.2.0.to_out.0.bias\", \"module.transformerBlocks.1.layers.2.1.net.0.weight\", \"module.transformerBlocks.1.layers.2.1.net.0.bias\", \"module.transformerBlocks.1.layers.2.1.net.3.weight\", \"module.transformerBlocks.1.layers.2.1.net.3.bias\", \"module.transformerBlocks.1.layers.3.0.to_qkv.weight\", \"module.transformerBlocks.1.layers.3.0.gate.weight\", \"module.transformerBlocks.1.layers.3.0.gate.bias\", \"module.transformerBlocks.1.layers.3.0.to_out.0.weight\", \"module.transformerBlocks.1.layers.3.0.to_out.0.bias\", \"module.transformerBlocks.1.layers.3.1.net.0.weight\", \"module.transformerBlocks.1.layers.3.1.net.0.bias\", \"module.transformerBlocks.1.layers.3.1.net.3.weight\", \"module.transformerBlocks.1.layers.3.1.net.3.bias\", \"module.transformerBlocks.1.layerNormLayers.0.0.weight\", \"module.transformerBlocks.1.layerNormLayers.0.0.bias\", \"module.transformerBlocks.1.layerNormLayers.0.1.weight\", \"module.transformerBlocks.1.layerNormLayers.0.1.bias\", \"module.transformerBlocks.1.layerNormLayers.1.0.weight\", \"module.transformerBlocks.1.layerNormLayers.1.0.bias\", \"module.transformerBlocks.1.layerNormLayers.1.1.weight\", \"module.transformerBlocks.1.layerNormLayers.1.1.bias\", \"module.transformerBlocks.1.layerNormLayers.2.0.weight\", \"module.transformerBlocks.1.layerNormLayers.2.0.bias\", \"module.transformerBlocks.1.layerNormLayers.2.1.weight\", \"module.transformerBlocks.1.layerNormLayers.2.1.bias\", \"module.transformerBlocks.1.layerNormLayers.3.0.weight\", \"module.transformerBlocks.1.layerNormLayers.3.0.bias\", \"module.transformerBlocks.1.layerNormLayers.3.1.weight\", \"module.transformerBlocks.1.layerNormLayers.3.1.bias\", \"module.transformerBlocks.1.pos_emb.inv_freq\". "
     ]
    }
   ],
   "source": [
    "NUM_ACCUMULATION_STEPS = 1\n",
    "temp = 1\n",
    "n_models = 10\n",
    "device = torch.device(\"cuda\" if torch.cuda.is_available() else \"cpu\")\n",
    "model_m = SpliceFormer(CL_max,bn_momentum=0.01/NUM_ACCUMULATION_STEPS,depth=4,heads=4,n_transformer_blocks=2,determenistic=True)\n",
    "model_m.apply(keras_init)\n",
    "model_m = model_m.to(device)\n",
    "\n",
    "#if torch.cuda.device_count() > 1:\n",
    "#    model_m = nn.DataParallel(model_m)\n",
    "\n",
    "output_class_labels = ['Null', 'Acceptor', 'Donor']\n",
    "\n",
    "#for output_class in [1,2]:\n",
    "models = [copy.deepcopy(model_m) for i in range(n_models)]\n",
    "\n",
    "[model.load_state_dict(torch.load('../Results/PyTorch_Models/transformer_encoder_40k_finetune_rnasplice-blood_all_050623_{}'.format(i))) for i,model in enumerate(models)]\n",
    "\n",
    "for model in models:\n",
    "    model.eval()"
   ]
  },
  {
   "cell_type": "code",
   "execution_count": null,
   "metadata": {},
   "outputs": [],
   "source": [
    "#gene_boundries = {}\n",
    "#for gene in tqdm(genes):\n",
    "#    gene_boundries[gene[\"gene_name\"][0]] = [int(gene[3]),int(gene[4])]"
   ]
  },
  {
   "cell_type": "code",
   "execution_count": null,
   "metadata": {},
   "outputs": [],
   "source": [
    "#with open('/odinn/tmp/benediktj/Data/SplicePrediction-050422/gene_boundries.pkl', 'wb') as f:\n",
    "#    pickle.dump(gene_boundries, f)"
   ]
  },
  {
   "cell_type": "code",
   "execution_count": null,
   "metadata": {},
   "outputs": [],
   "source": [
    "no_sQTLs = pd.read_csv('../Data/no_sQTLs.csv')"
   ]
  },
  {
   "cell_type": "code",
   "execution_count": 21,
   "metadata": {},
   "outputs": [],
   "source": [
    "def predictSplicing(seq,models):\n",
    "    outputs = []\n",
    "    for i in range(seq.shape[0]):\n",
    "        batch_features = torch.tensor(seq[i,:,:], device=device).float().unsqueeze(0)\n",
    "        batch_features = torch.swapaxes(batch_features,1,2)\n",
    "        prediction = ([models[i](batch_features)[0].detach() for i in range(n_models)])\n",
    "        prediction = torch.stack(prediction)\n",
    "        prediction = torch.mean(prediction,dim=0)\n",
    "        outputs.append(prediction)\n",
    "    \n",
    "    outputs = torch.cat(outputs,dim=2)\n",
    "    outputs = outputs.cpu().detach().numpy()\n",
    "    return outputs\n",
    "\n",
    "def plotPrediction(outputs):\n",
    "    plt.rcParams.update({'font.size': 18})\n",
    "    fig, (ax1, ax2) = plt.subplots(2, 1,figsize=(22, 6),sharex=True)\n",
    "    x = np.arange(outputs.shape[2])\n",
    "    ax1.plot(x,outputs[0,1,:],linewidth=2,zorder=-32)\n",
    "    ax2.plot(x,outputs[0,2,:],linewidth=2,zorder=-32)\n",
    "    plt.xlabel('Distance from transcript start (nt)')\n",
    "    ax1.set_ylabel('Acceptor score')\n",
    "    ax2.set_ylabel('Donor Score')\n",
    "    ax1.legend(prop={'size': 14})\n",
    "    ax2.legend(prop={'size': 14})\n",
    "    plt.tight_layout()\n",
    "    plt.show()\n",
    "\n",
    "def ceil_div(x, y):\n",
    "\n",
    "    return int(ceil(float(x)/y))\n",
    "\n",
    "\n",
    "IN_MAP = np.asarray([[0, 0, 0, 0],\n",
    "                     [1, 0, 0, 0],\n",
    "                     [0, 1, 0, 0],\n",
    "                     [0, 0, 1, 0],\n",
    "                     [0, 0, 0, 1]])\n",
    "\n",
    "def one_hot_encode(Xd):\n",
    "\n",
    "    return IN_MAP[Xd.astype('int8')]\n",
    "\n",
    "def reformat_data(X0):\n",
    "    # This function converts X0, Y0 of the create_datapoints function into\n",
    "    # blocks such that the data is broken down into data points where the\n",
    "    # input is a sequence of length SL+CL_max corresponding to SL nucleotides\n",
    "    # of interest and CL_max context nucleotides, the output is a sequence of\n",
    "    # length SL corresponding to the splicing information of the nucleotides\n",
    "    # of interest. The CL_max context nucleotides are such that they are\n",
    "    # CL_max/2 on either side of the SL nucleotides of interest.\n",
    "\n",
    "    num_points = ceil_div(len(X0)-CL_max, SL)\n",
    "    Xd = np.zeros((num_points, SL+CL_max))\n",
    "    X0 = np.pad(X0, [0, SL], 'constant', constant_values=0)\n",
    "\n",
    "    for i in range(num_points):\n",
    "        Xd[i] = X0[SL*i:CL_max+SL*(i+1)]\n",
    "\n",
    "    return Xd\n",
    "\n",
    "def seqToArray(seq,strand):\n",
    "    seq = 'N'*(CL_max//2) + seq + 'N'*(CL_max//2)\n",
    "    seq = seq.upper()\n",
    "    seq = re.sub(r'[^AGTC]', '0',seq)\n",
    "    seq = seq.replace('A', '1').replace('C', '2')\n",
    "    seq = seq.replace('G', '3').replace('T', '4').replace('N', '0')\n",
    "    if strand == '+':\n",
    "        X0 = np.asarray([int(x) for x in seq])\n",
    "            \n",
    "    elif strand == '-':\n",
    "        X0 = (5-np.asarray([int(x) for x in seq[::-1]])) % 5  # Reverse complement\n",
    "        \n",
    "    Xd = reformat_data(X0)\n",
    "    return  one_hot_encode(Xd)"
   ]
  },
  {
   "cell_type": "code",
   "execution_count": 19,
   "metadata": {},
   "outputs": [
    {
     "name": "stderr",
     "output_type": "stream",
     "text": [
      " 15%|████████████████████████████████▏                                                                                                                                                                                         | 5994/40531 [9:59:59<70:54:38,  7.39s/it]"
     ]
    },
    {
     "name": "stdout",
     "output_type": "stream",
     "text": [
      "chr11:46092223:46117921:787 failed\n"
     ]
    },
    {
     "name": "stderr",
     "output_type": "stream",
     "text": [
      " 50%|███████████████████████████████████████████████████████████████████████████████████████████████████████████▍                                                                                                            | 20151/40531 [32:26:50<31:21:32,  5.54s/it]"
     ]
    },
    {
     "name": "stdout",
     "output_type": "stream",
     "text": [
      "chr19:24046279:24048936:1844 failed\n"
     ]
    },
    {
     "name": "stderr",
     "output_type": "stream",
     "text": [
      " 64%|█████████████████████████████████████████████████████████████████████████████████████████████████████████████████████████████████████████▉                                                                              | 25875/40531 [41:33:40<20:05:53,  4.94s/it]"
     ]
    },
    {
     "name": "stdout",
     "output_type": "stream",
     "text": [
      "chr21:32759994:32762095:133 failed\n"
     ]
    },
    {
     "name": "stderr",
     "output_type": "stream",
     "text": [
      "100%|███████████████████████████████████████████████████████████████████████████████████████████████████████████████████████████████████████████████████████████████████████████████████████████████████████████████████████████| 40531/40531 [70:21:04<00:00,  6.25s/it]\n"
     ]
    }
   ],
   "source": [
    "\n",
    "\n",
    "results = {}\n",
    "\n",
    "for i in tqdm(range(no_sQTLs.shape[0])):\n",
    "    gene,chrm,strand,pos,jn_start,jn_end,ref_s,alt_s,event_id = no_sQTLs.iloc[i,:][['Gene_name','Chrom','Strand','Pos','Startx','End','Ref','Alt','splice_event_id']]\n",
    "    names = gene.split(',')\n",
    "    gene_start,gene_end = unionBoundry(names,gene_boundries)\n",
    "    starts,ends = [],[]\n",
    "    if pos<jn_start:\n",
    "        start,end = np.max([pos-CL_max//2,gene_start]),np.min([jn_end+CL_max//2,gene_end])\n",
    "    elif jn_start<=pos<jn_end:\n",
    "        start,end = np.max([jn_start-CL_max//2,gene_start]),np.min([jn_end+CL_max//2,gene_end])\n",
    "    else:\n",
    "        start,end = np.max([jn_start-CL_max//2,gene_start]),np.min([pos+CL_max//2,gene_end])\n",
    "    if start < 1:\n",
    "        start = 1\n",
    "    #for name in names:\n",
    "    #    tmp = gene_boundries[name]\n",
    "    #    starts.append(tmp[0])\n",
    "    #    ends.append(tmp[1])\n",
    "\n",
    "    #gene_start,gene_end = np.min(starts),np.max(ends)\n",
    "\n",
    "     #= df_gene[].iloc[0]\n",
    "    #start,end = np.max([pos-CL_max//2,gene_start]),np.min([pos+CL_max//2,gene_end])\n",
    "\n",
    "    #if strand=='-':\n",
    "    #    starts,ends = [],[]\n",
    "    #    for i in range(df_gene.shape[0]):\n",
    "    #        starts.append(pos+df_gene['acceptor'].iloc[i]-CL_max//2)\n",
    "    #        ends.append(pos+df_gene['donor'].iloc[i]+CL_max//2)\n",
    "    #    start2,end2 = np.min(starts),np.max(ends)\n",
    "    #    start = np.min([start,start2])\n",
    "    #    end = np.max([end,end2])\n",
    "    #else:\n",
    "    #    starts,ends = [],[]\n",
    "    #    for i in range(df_gene.shape[0]):\n",
    "    #        starts.append(pos-df_gene['donor'].iloc[i]-CL_max//2)\n",
    "    #        ends.append(pos-df_gene['acceptor'].iloc[i]+CL_max//2)\n",
    "    #    start2,end2 = np.min(starts),np.max(ends)\n",
    "    #    start = np.min([start,start2])\n",
    "    #    end = np.max([end,end2])\n",
    "\n",
    "    \n",
    "    try:\n",
    "        pos_s = pos-start\n",
    "        ref = fasta[chrm][start-1:end].seq\n",
    "        alt = ref\n",
    "        ref_len = len(ref_s)\n",
    "        alt_len = len(alt_s)\n",
    "        assert ref_s == ref[pos_s:(pos_s+ref_len)]\n",
    "        alt = alt[:pos_s]+alt_s+alt[(pos_s+ref_len):]\n",
    "        alt_align = np.arange(len(ref))\n",
    "        alt_align = np.concatenate([alt_align[:pos_s],np.repeat(pos_s,alt_len),alt_align[pos_s+ref_len:]])\n",
    "\n",
    "        ref_len2 = len(ref)\n",
    "        alt_len2 = len(alt)\n",
    "\n",
    "        ref = seqToArray(ref,strand)\n",
    "        alt = seqToArray(alt,strand)\n",
    "\n",
    "        ref_prediction = predictSplicing(ref,models)[0,:,:ref_len2]\n",
    "        alt_prediction = predictSplicing(alt,models)[0,:,:alt_len2]\n",
    "\n",
    "        tmp = np.zeros_like(ref_prediction)\n",
    "        if strand=='-':\n",
    "            ref_prediction = ref_prediction[:,::-1]\n",
    "            alt_prediction = alt_prediction[:,::-1]\n",
    "\n",
    "        ref_acceptor = ref_prediction[1,:]\n",
    "        alt_acceptor = alt_prediction[1,:]\n",
    "        ref_donor = ref_prediction[2,:]\n",
    "        alt_donor = alt_prediction[2,:]\n",
    "\n",
    "        delta_1_a = alt_acceptor[:pos_s]-ref_acceptor[:pos_s]\n",
    "        delta_1_d = alt_donor[:pos_s]-ref_donor[:pos_s]\n",
    "        delta_3_a = alt_acceptor[pos_s+alt_len:]-ref_acceptor[pos_s+ref_len:]\n",
    "        delta_3_d = alt_donor[pos_s+alt_len:]-ref_donor[pos_s+ref_len:]\n",
    "\n",
    "        if ref_len2==alt_len2:\n",
    "            delta_2_a = alt_acceptor[pos_s:pos_s+ref_len]-ref_acceptor[pos_s:pos_s+ref_len]\n",
    "            delta_2_d = alt_donor[pos_s:pos_s+ref_len]-ref_donor[pos_s:pos_s+ref_len]\n",
    "        elif ref_len2>alt_len2:\n",
    "            a_pad = np.pad(alt_acceptor[pos_s:pos_s+alt_len],(0, ref_len-alt_len), 'constant', constant_values=0)\n",
    "            d_pad = np.pad(alt_donor[pos_s:pos_s+alt_len],(0, ref_len-alt_len), 'constant', constant_values=0)\n",
    "            delta_2_a = a_pad-ref_acceptor[pos_s:pos_s+ref_len]\n",
    "            delta_2_d = d_pad-ref_donor[pos_s:pos_s+ref_len]\n",
    "\n",
    "        elif ref_len2<alt_len2:\n",
    "            a_pad = np.pad(ref_acceptor[pos_s:pos_s+ref_len],(0, alt_len-ref_len), 'constant', constant_values=0)\n",
    "            d_pad = np.pad(ref_donor[pos_s:pos_s+ref_len],(0, alt_len-ref_len), 'constant', constant_values=0)\n",
    "            delta_2_a = alt_acceptor[pos_s:pos_s+alt_len]-a_pad\n",
    "            delta_2_d = alt_donor[pos_s:pos_s+alt_len]-d_pad\n",
    "\n",
    "            delta_2_a =np.append(delta_2_a[:ref_len-1],delta_2_a[np.argmax(np.absolute(delta_2_a[ref_len-1:alt_len]))])\n",
    "            delta_2_d =np.append(delta_2_d[:ref_len-1],delta_2_d[np.argmax(np.absolute(delta_2_d[ref_len-1:alt_len]))])\n",
    "\n",
    "        acceptorDelta = np.concatenate([delta_1_a,delta_2_a,delta_3_a])\n",
    "        donorDelta = np.concatenate([delta_1_d,delta_2_d,delta_3_d])\n",
    "\n",
    "        if strand=='-':\n",
    "            acceptor_loc =jn_start-start\n",
    "            donor_loc = jn_end-start+1\n",
    "        else:\n",
    "            acceptor_loc = jn_end-start+1\n",
    "            donor_loc = jn_start-start\n",
    "\n",
    "        acceptor_delta_nr = alt_acceptor.shape[0]-np.argsort(np.argsort(np.absolute(acceptorDelta)))[acceptor_loc]\n",
    "        donor_delta_nr = alt_donor.shape[0]-np.argsort(np.argsort(np.absolute(donorDelta)))[donor_loc]\n",
    "        top_a_creation_pos = np.argmax(acceptorDelta)\n",
    "        top_d_creation_pos = np.argmax(donorDelta)\n",
    "        top_a_disruption_pos = np.argmin(acceptorDelta)\n",
    "        top_d_disruption_pos = np.argmin(donorDelta)\n",
    "        top_a_creation_delta = acceptorDelta[top_a_creation_pos]\n",
    "        top_d_creation_delta = donorDelta[top_d_creation_pos]\n",
    "        top_a_disruption_delta = acceptorDelta[top_a_disruption_pos]\n",
    "        top_d_disruption_delta = donorDelta[top_d_disruption_pos]\n",
    "\n",
    "        results[event_id] = [acceptorDelta[acceptor_loc],donorDelta[donor_loc],ref_acceptor[acceptor_loc],ref_donor[donor_loc],alt_acceptor[acceptor_loc],alt_donor[donor_loc],acceptor_delta_nr,donor_delta_nr,start+top_a_creation_pos,start+top_d_creation_pos,start+top_a_disruption_pos,start+top_d_disruption_pos,top_a_creation_delta,top_d_creation_delta,-top_a_disruption_delta,-top_d_disruption_delta]\n",
    "    except:\n",
    "        print('{} failed'.format(event_id))"
   ]
  },
  {
   "cell_type": "code",
   "execution_count": 20,
   "metadata": {},
   "outputs": [],
   "source": [
    "#with open('/odinn/tmp/benediktj/Data/SplicePrediction-050422/no_sqtl_deltas_transformer_gtex_plus_rna_blood_130623.pkl', 'wb') as f:\n",
    "#    pickle.dump(results, f)"
   ]
  },
  {
   "cell_type": "code",
   "execution_count": null,
   "metadata": {},
   "outputs": [
    {
     "name": "stdout",
     "output_type": "stream",
     "text": [
      "Starting split number 0 of 10\n"
     ]
    },
    {
     "name": "stderr",
     "output_type": "stream",
     "text": [
      "  8%|████████████████████▏                                                                                                                                                                                                                           | 680/8098 [25:14<3:40:13,  1.78s/it]"
     ]
    }
   ],
   "source": [
    "n_splits = 10\n",
    "lead_sqtl_list = np.array_split(lead_sQTL, n_splits)\n",
    "\n",
    "for ii,lead_sQTL_subset in enumerate(lead_sqtl_list):\n",
    "    results = {}\n",
    "    print(f'Starting split number {ii} of {n_splits}')\n",
    "    for i in tqdm(range(lead_sQTL_subset.shape[0])):\n",
    "        gene,chrm,strand,pos,jn_start,jn_end,ref_s,alt_s,event_id = lead_sQTL_subset.iloc[i,:][['Gene_name','Chrom','Strand','Pos','Startx','End','REF','ALT','splice_event_id']]\n",
    "        names = gene.split(',')\n",
    "        gene_start,gene_end = unionBoundry(names,gene_boundries)\n",
    "        starts,ends = [],[]\n",
    "        if pos<jn_start:\n",
    "            start,end = np.max([pos-CL_max//2,gene_start]),np.min([jn_end+CL_max//2,gene_end])\n",
    "        elif jn_start<=pos<jn_end:\n",
    "            start,end = np.max([jn_start-CL_max//2,gene_start]),np.min([jn_end+CL_max//2,gene_end])\n",
    "        else:\n",
    "            start,end = np.max([jn_start-CL_max//2,gene_start]),np.min([pos+CL_max//2,gene_end])\n",
    "        if start < 1:\n",
    "            start = 1\n",
    "        #for name in names:\n",
    "        #    tmp = gene_boundries[name]\n",
    "        #    starts.append(tmp[0])\n",
    "        #    ends.append(tmp[1])\n",
    "\n",
    "        #gene_start,gene_end = np.min(starts),np.max(ends)\n",
    "\n",
    "         #= df_gene[].iloc[0]\n",
    "        #start,end = np.max([pos-CL_max//2,gene_start]),np.min([pos+CL_max//2,gene_end])\n",
    "\n",
    "        #if strand=='-':\n",
    "        #    starts,ends = [],[]\n",
    "        #    for i in range(df_gene.shape[0]):\n",
    "        #        starts.append(pos+df_gene['acceptor'].iloc[i]-CL_max//2)\n",
    "        #        ends.append(pos+df_gene['donor'].iloc[i]+CL_max//2)\n",
    "        #    start2,end2 = np.min(starts),np.max(ends)\n",
    "        #    start = np.min([start,start2])\n",
    "        #    end = np.max([end,end2])\n",
    "        #else:\n",
    "        #    starts,ends = [],[]\n",
    "        #    for i in range(df_gene.shape[0]):\n",
    "        #        starts.append(pos-df_gene['donor'].iloc[i]-CL_max//2)\n",
    "        #        ends.append(pos-df_gene['acceptor'].iloc[i]+CL_max//2)\n",
    "        #    start2,end2 = np.min(starts),np.max(ends)\n",
    "        #    start = np.min([start,start2])\n",
    "        #    end = np.max([end,end2])\n",
    "\n",
    "\n",
    "        try:\n",
    "            pos_s = pos-start\n",
    "            ref = fasta[chrm][start-1:end].seq\n",
    "            alt = ref\n",
    "            ref_len = len(ref_s)\n",
    "            alt_len = len(alt_s)\n",
    "            assert ref_s == ref[pos_s:(pos_s+ref_len)]\n",
    "            alt = alt[:pos_s]+alt_s+alt[(pos_s+ref_len):]\n",
    "            alt_align = np.arange(len(ref))\n",
    "            alt_align = np.concatenate([alt_align[:pos_s],np.repeat(pos_s,alt_len),alt_align[pos_s+ref_len:]])\n",
    "\n",
    "            ref_len2 = len(ref)\n",
    "            alt_len2 = len(alt)\n",
    "\n",
    "            ref = seqToArray(ref,strand)\n",
    "            alt = seqToArray(alt,strand)\n",
    "\n",
    "            ref_prediction = predictSplicing(ref,models)[0,:,:ref_len2]\n",
    "            alt_prediction = predictSplicing(alt,models)[0,:,:alt_len2]\n",
    "\n",
    "            tmp = np.zeros_like(ref_prediction)\n",
    "            if strand=='-':\n",
    "                ref_prediction = ref_prediction[:,::-1]\n",
    "                alt_prediction = alt_prediction[:,::-1]\n",
    "\n",
    "            ref_acceptor = ref_prediction[1,:]\n",
    "            alt_acceptor = alt_prediction[1,:]\n",
    "            ref_donor = ref_prediction[2,:]\n",
    "            alt_donor = alt_prediction[2,:]\n",
    "\n",
    "            delta_1_a = alt_acceptor[:pos_s]-ref_acceptor[:pos_s]\n",
    "            delta_1_d = alt_donor[:pos_s]-ref_donor[:pos_s]\n",
    "            delta_3_a = alt_acceptor[pos_s+alt_len:]-ref_acceptor[pos_s+ref_len:]\n",
    "            delta_3_d = alt_donor[pos_s+alt_len:]-ref_donor[pos_s+ref_len:]\n",
    "\n",
    "            if ref_len2==alt_len2:\n",
    "                delta_2_a = alt_acceptor[pos_s:pos_s+ref_len]-ref_acceptor[pos_s:pos_s+ref_len]\n",
    "                delta_2_d = alt_donor[pos_s:pos_s+ref_len]-ref_donor[pos_s:pos_s+ref_len]\n",
    "            elif ref_len2>alt_len2:\n",
    "                a_pad = np.pad(alt_acceptor[pos_s:pos_s+alt_len],(0, ref_len-alt_len), 'constant', constant_values=0)\n",
    "                d_pad = np.pad(alt_donor[pos_s:pos_s+alt_len],(0, ref_len-alt_len), 'constant', constant_values=0)\n",
    "                delta_2_a = a_pad-ref_acceptor[pos_s:pos_s+ref_len]\n",
    "                delta_2_d = d_pad-ref_donor[pos_s:pos_s+ref_len]\n",
    "\n",
    "            elif ref_len2<alt_len2:\n",
    "                a_pad = np.pad(ref_acceptor[pos_s:pos_s+ref_len],(0, alt_len-ref_len), 'constant', constant_values=0)\n",
    "                d_pad = np.pad(ref_donor[pos_s:pos_s+ref_len],(0, alt_len-ref_len), 'constant', constant_values=0)\n",
    "                delta_2_a = alt_acceptor[pos_s:pos_s+alt_len]-a_pad\n",
    "                delta_2_d = alt_donor[pos_s:pos_s+alt_len]-d_pad\n",
    "\n",
    "                delta_2_a =np.append(delta_2_a[:ref_len-1],delta_2_a[np.argmax(np.absolute(delta_2_a[ref_len-1:alt_len]))])\n",
    "                delta_2_d =np.append(delta_2_d[:ref_len-1],delta_2_d[np.argmax(np.absolute(delta_2_d[ref_len-1:alt_len]))])\n",
    "\n",
    "            acceptorDelta = np.concatenate([delta_1_a,delta_2_a,delta_3_a])\n",
    "            donorDelta = np.concatenate([delta_1_d,delta_2_d,delta_3_d])\n",
    "\n",
    "            if strand=='-':\n",
    "                acceptor_loc =jn_start-start\n",
    "                donor_loc = jn_end-start+1\n",
    "            else:\n",
    "                acceptor_loc = jn_end-start+1\n",
    "                donor_loc = jn_start-start\n",
    "\n",
    "            acceptor_delta_nr = alt_acceptor.shape[0]-np.argsort(np.argsort(np.absolute(acceptorDelta)))[acceptor_loc]\n",
    "            donor_delta_nr = alt_donor.shape[0]-np.argsort(np.argsort(np.absolute(donorDelta)))[donor_loc]\n",
    "            top_a_creation_pos = np.argmax(acceptorDelta)\n",
    "            top_d_creation_pos = np.argmax(donorDelta)\n",
    "            top_a_disruption_pos = np.argmin(acceptorDelta)\n",
    "            top_d_disruption_pos = np.argmin(donorDelta)\n",
    "            top_a_creation_delta = acceptorDelta[top_a_creation_pos]\n",
    "            top_d_creation_delta = donorDelta[top_d_creation_pos]\n",
    "            top_a_disruption_delta = acceptorDelta[top_a_disruption_pos]\n",
    "            top_d_disruption_delta = donorDelta[top_d_disruption_pos]\n",
    "\n",
    "            results[event_id] = [acceptorDelta[acceptor_loc],donorDelta[donor_loc],ref_acceptor[acceptor_loc],ref_donor[donor_loc],alt_acceptor[acceptor_loc],alt_donor[donor_loc],acceptor_delta_nr,donor_delta_nr,start+top_a_creation_pos,start+top_d_creation_pos,start+top_a_disruption_pos,start+top_d_disruption_pos,top_a_creation_delta,top_d_creation_delta,-top_a_disruption_delta,-top_d_disruption_delta]\n",
    "        except:\n",
    "            print('{} failed'.format(event_id))\n",
    "\n",
    "    with open(f'/odinn/tmp/benediktj/Data/SplicePrediction-050422/no_sqtl_deltas_transformer_gtex_plus_rna_blood_160623_{ii}.pkl', 'wb') as f:\n",
    "        pickle.dump(results, f)"
   ]
  },
  {
   "cell_type": "code",
   "execution_count": null,
   "metadata": {},
   "outputs": [],
   "source": [
    "#with open('/odinn/tmp/benediktj/Data/SplicePrediction-050422/sqtl_deltas_transformer_gtex_plus_rna_blood_160623.pkl', 'wb') as f:\n",
    "#    pickle.dump(results, f)"
   ]
  },
  {
   "cell_type": "code",
   "execution_count": 8,
   "metadata": {},
   "outputs": [],
   "source": [
    "no_sqtl_files = np.sort(glob('/odinn/tmp/benediktj/Data/SplicePrediction-050422/no_sqtl_deltas_transformer_gtex_plus_rna_blood_160623_*'))"
   ]
  },
  {
   "cell_type": "code",
   "execution_count": 9,
   "metadata": {},
   "outputs": [],
   "source": [
    "sqtl_files = np.sort(glob('/odinn/tmp/benediktj/Data/SplicePrediction-050422/sqtl_deltas_transformer_gtex_plus_rna_blood_160623_*'))"
   ]
  },
  {
   "cell_type": "code",
   "execution_count": 10,
   "metadata": {},
   "outputs": [],
   "source": [
    "for i in range(no_sqtl_files.shape[0]):\n",
    "    with open(no_sqtl_files[i], 'rb') as f:\n",
    "        results1 = pickle.load(f)\n",
    "\n",
    "    with open(sqtl_files[i], 'rb') as f:\n",
    "        results2 = pickle.load(f)\n",
    "\n",
    "    df1 = pd.DataFrame(results1).T\n",
    "    df1.columns = ['acceptor_delta','donor_delta','ref_acceptor','ref_donor','alt_acceptor','alt_donor','acceptor_delta_order','donor_delta_order','top_a_creation_pos','top_d_creation_pos','top_a_disruption_pos','top_d_disruption_pos','top_a_creation_delta','top_d_creation_delta','top_a_disruption_delta','top_d_disruption_delta']\n",
    "    df1 = df1.reset_index()\n",
    "    df1 = df1.rename(columns={'index':'splice_event_id'})\n",
    "    df1['id'] = df1['splice_event_id']+'_not_sQTL'\n",
    "    df1 = df1.set_index('id')\n",
    "    df1['is_sQTL'] = 0\n",
    "    df2 = pd.DataFrame(results2).T\n",
    "    df2.columns = ['acceptor_delta','donor_delta','ref_acceptor','ref_donor','alt_acceptor','alt_donor','acceptor_delta_order','donor_delta_order','top_a_creation_pos','top_d_creation_pos','top_a_disruption_pos','top_d_disruption_pos','top_a_creation_delta','top_d_creation_delta','top_a_disruption_delta','top_d_disruption_delta']\n",
    "    df2 = df2.reset_index()\n",
    "    df2 = df2.rename(columns={'index':'splice_event_id'})\n",
    "    df2['id'] = df2['splice_event_id']+'_is_sQTL'\n",
    "    df2 = df2.set_index('id')\n",
    "    df2['is_sQTL'] = 1\n",
    "    if i == 0:\n",
    "        df_transformer = pd.concat([df1,df2],axis=0)\n",
    "    else:\n",
    "        df_transformer = pd.concat([df_transformer,df1,df2],axis=0)"
   ]
  },
  {
   "cell_type": "code",
   "execution_count": 11,
   "metadata": {},
   "outputs": [
    {
     "data": {
      "text/html": [
       "<div>\n",
       "<style scoped>\n",
       "    .dataframe tbody tr th:only-of-type {\n",
       "        vertical-align: middle;\n",
       "    }\n",
       "\n",
       "    .dataframe tbody tr th {\n",
       "        vertical-align: top;\n",
       "    }\n",
       "\n",
       "    .dataframe thead th {\n",
       "        text-align: right;\n",
       "    }\n",
       "</style>\n",
       "<table border=\"1\" class=\"dataframe\">\n",
       "  <thead>\n",
       "    <tr style=\"text-align: right;\">\n",
       "      <th></th>\n",
       "      <th>splice_event_id</th>\n",
       "      <th>acceptor_delta</th>\n",
       "      <th>donor_delta</th>\n",
       "      <th>ref_acceptor</th>\n",
       "      <th>ref_donor</th>\n",
       "      <th>alt_acceptor</th>\n",
       "      <th>alt_donor</th>\n",
       "      <th>acceptor_delta_order</th>\n",
       "      <th>donor_delta_order</th>\n",
       "      <th>top_a_creation_pos</th>\n",
       "      <th>top_d_creation_pos</th>\n",
       "      <th>top_a_disruption_pos</th>\n",
       "      <th>top_d_disruption_pos</th>\n",
       "      <th>top_a_creation_delta</th>\n",
       "      <th>top_d_creation_delta</th>\n",
       "      <th>top_a_disruption_delta</th>\n",
       "      <th>top_d_disruption_delta</th>\n",
       "      <th>is_sQTL</th>\n",
       "    </tr>\n",
       "    <tr>\n",
       "      <th>id</th>\n",
       "      <th></th>\n",
       "      <th></th>\n",
       "      <th></th>\n",
       "      <th></th>\n",
       "      <th></th>\n",
       "      <th></th>\n",
       "      <th></th>\n",
       "      <th></th>\n",
       "      <th></th>\n",
       "      <th></th>\n",
       "      <th></th>\n",
       "      <th></th>\n",
       "      <th></th>\n",
       "      <th></th>\n",
       "      <th></th>\n",
       "      <th></th>\n",
       "      <th></th>\n",
       "      <th></th>\n",
       "    </tr>\n",
       "  </thead>\n",
       "  <tbody>\n",
       "    <tr>\n",
       "      <th>chr1:766364:768547:2_not_sQTL</th>\n",
       "      <td>chr1:766364:768547:2</td>\n",
       "      <td>8.206069e-05</td>\n",
       "      <td>1.549721e-06</td>\n",
       "      <td>0.188560</td>\n",
       "      <td>0.998192</td>\n",
       "      <td>0.188642</td>\n",
       "      <td>0.998193</td>\n",
       "      <td>23.0</td>\n",
       "      <td>192.0</td>\n",
       "      <td>769211.0</td>\n",
       "      <td>769058.0</td>\n",
       "      <td>747735.0</td>\n",
       "      <td>769691.0</td>\n",
       "      <td>0.005717</td>\n",
       "      <td>0.008152</td>\n",
       "      <td>0.000153</td>\n",
       "      <td>0.000454</td>\n",
       "      <td>0</td>\n",
       "    </tr>\n",
       "    <tr>\n",
       "      <th>chr1:766407:768547:2_not_sQTL</th>\n",
       "      <td>chr1:766407:768547:2</td>\n",
       "      <td>4.119240e-06</td>\n",
       "      <td>1.311302e-06</td>\n",
       "      <td>0.011326</td>\n",
       "      <td>0.998081</td>\n",
       "      <td>0.011330</td>\n",
       "      <td>0.998082</td>\n",
       "      <td>121.0</td>\n",
       "      <td>231.0</td>\n",
       "      <td>769211.0</td>\n",
       "      <td>769058.0</td>\n",
       "      <td>747735.0</td>\n",
       "      <td>769691.0</td>\n",
       "      <td>0.005663</td>\n",
       "      <td>0.008107</td>\n",
       "      <td>0.000099</td>\n",
       "      <td>0.000454</td>\n",
       "      <td>0</td>\n",
       "    </tr>\n",
       "    <tr>\n",
       "      <th>chr1:805891:808574:5_not_sQTL</th>\n",
       "      <td>chr1:805891:808574:5</td>\n",
       "      <td>-3.576279e-07</td>\n",
       "      <td>-6.283335e-08</td>\n",
       "      <td>0.999404</td>\n",
       "      <td>0.000029</td>\n",
       "      <td>0.999404</td>\n",
       "      <td>0.000029</td>\n",
       "      <td>216.0</td>\n",
       "      <td>641.0</td>\n",
       "      <td>807872.0</td>\n",
       "      <td>806921.0</td>\n",
       "      <td>806825.0</td>\n",
       "      <td>807760.0</td>\n",
       "      <td>0.001304</td>\n",
       "      <td>0.002656</td>\n",
       "      <td>0.000803</td>\n",
       "      <td>0.001781</td>\n",
       "      <td>0</td>\n",
       "    </tr>\n",
       "    <tr>\n",
       "      <th>chr1:946610:948130:9_not_sQTL</th>\n",
       "      <td>chr1:946610:948130:9</td>\n",
       "      <td>4.128516e-04</td>\n",
       "      <td>-2.264977e-06</td>\n",
       "      <td>0.409112</td>\n",
       "      <td>0.997932</td>\n",
       "      <td>0.409525</td>\n",
       "      <td>0.997930</td>\n",
       "      <td>6.0</td>\n",
       "      <td>198.0</td>\n",
       "      <td>945698.0</td>\n",
       "      <td>946028.0</td>\n",
       "      <td>945676.0</td>\n",
       "      <td>945323.0</td>\n",
       "      <td>0.007691</td>\n",
       "      <td>0.003643</td>\n",
       "      <td>0.000502</td>\n",
       "      <td>0.000509</td>\n",
       "      <td>0</td>\n",
       "    </tr>\n",
       "    <tr>\n",
       "      <th>chr1:946545:946756:9_not_sQTL</th>\n",
       "      <td>chr1:946545:946756:9</td>\n",
       "      <td>2.384186e-05</td>\n",
       "      <td>-7.625520e-04</td>\n",
       "      <td>0.998513</td>\n",
       "      <td>0.439411</td>\n",
       "      <td>0.998537</td>\n",
       "      <td>0.438648</td>\n",
       "      <td>138.0</td>\n",
       "      <td>15.0</td>\n",
       "      <td>953470.0</td>\n",
       "      <td>953568.0</td>\n",
       "      <td>953603.0</td>\n",
       "      <td>953553.0</td>\n",
       "      <td>0.000891</td>\n",
       "      <td>0.001132</td>\n",
       "      <td>0.058439</td>\n",
       "      <td>0.084413</td>\n",
       "      <td>0</td>\n",
       "    </tr>\n",
       "    <tr>\n",
       "      <th>...</th>\n",
       "      <td>...</td>\n",
       "      <td>...</td>\n",
       "      <td>...</td>\n",
       "      <td>...</td>\n",
       "      <td>...</td>\n",
       "      <td>...</td>\n",
       "      <td>...</td>\n",
       "      <td>...</td>\n",
       "      <td>...</td>\n",
       "      <td>...</td>\n",
       "      <td>...</td>\n",
       "      <td>...</td>\n",
       "      <td>...</td>\n",
       "      <td>...</td>\n",
       "      <td>...</td>\n",
       "      <td>...</td>\n",
       "      <td>...</td>\n",
       "      <td>...</td>\n",
       "    </tr>\n",
       "    <tr>\n",
       "      <th>chr9:137816062:137817438:2129_is_sQTL</th>\n",
       "      <td>chr9:137816062:137817438:2129</td>\n",
       "      <td>-1.482785e-03</td>\n",
       "      <td>-4.529953e-06</td>\n",
       "      <td>0.998704</td>\n",
       "      <td>0.999288</td>\n",
       "      <td>0.000100</td>\n",
       "      <td>0.999284</td>\n",
       "      <td>45.0</td>\n",
       "      <td>549.0</td>\n",
       "      <td>137817352.0</td>\n",
       "      <td>137803010.0</td>\n",
       "      <td>137818032.0</td>\n",
       "      <td>137817529.0</td>\n",
       "      <td>0.157431</td>\n",
       "      <td>0.008845</td>\n",
       "      <td>0.001598</td>\n",
       "      <td>0.019732</td>\n",
       "      <td>1</td>\n",
       "    </tr>\n",
       "    <tr>\n",
       "      <th>chr9:137711030:137834348:2122_is_sQTL</th>\n",
       "      <td>chr9:137711030:137834348:2122</td>\n",
       "      <td>1.788139e-07</td>\n",
       "      <td>0.000000e+00</td>\n",
       "      <td>0.997604</td>\n",
       "      <td>0.945075</td>\n",
       "      <td>0.997604</td>\n",
       "      <td>0.945075</td>\n",
       "      <td>252.0</td>\n",
       "      <td>79574.0</td>\n",
       "      <td>137823282.0</td>\n",
       "      <td>137824256.0</td>\n",
       "      <td>137824100.0</td>\n",
       "      <td>137821670.0</td>\n",
       "      <td>0.000064</td>\n",
       "      <td>0.000099</td>\n",
       "      <td>0.000193</td>\n",
       "      <td>0.000201</td>\n",
       "      <td>1</td>\n",
       "    </tr>\n",
       "    <tr>\n",
       "      <th>chr9:137800984:137834348:2122_is_sQTL</th>\n",
       "      <td>chr9:137800984:137834348:2122</td>\n",
       "      <td>4.768372e-07</td>\n",
       "      <td>-1.192093e-07</td>\n",
       "      <td>0.997697</td>\n",
       "      <td>0.998563</td>\n",
       "      <td>0.997697</td>\n",
       "      <td>0.998563</td>\n",
       "      <td>151.0</td>\n",
       "      <td>302.0</td>\n",
       "      <td>137824512.0</td>\n",
       "      <td>137824256.0</td>\n",
       "      <td>137824100.0</td>\n",
       "      <td>137821670.0</td>\n",
       "      <td>0.000046</td>\n",
       "      <td>0.000091</td>\n",
       "      <td>0.000216</td>\n",
       "      <td>0.000204</td>\n",
       "      <td>1</td>\n",
       "    </tr>\n",
       "    <tr>\n",
       "      <th>chr9:137629023:137710966:2122_is_sQTL</th>\n",
       "      <td>chr9:137629023:137710966:2122</td>\n",
       "      <td>0.000000e+00</td>\n",
       "      <td>0.000000e+00</td>\n",
       "      <td>0.954723</td>\n",
       "      <td>0.043951</td>\n",
       "      <td>0.954723</td>\n",
       "      <td>0.043951</td>\n",
       "      <td>59777.0</td>\n",
       "      <td>100353.0</td>\n",
       "      <td>137852077.0</td>\n",
       "      <td>137854117.0</td>\n",
       "      <td>137865921.0</td>\n",
       "      <td>137864819.0</td>\n",
       "      <td>0.000689</td>\n",
       "      <td>0.000563</td>\n",
       "      <td>0.000142</td>\n",
       "      <td>0.001425</td>\n",
       "      <td>1</td>\n",
       "    </tr>\n",
       "    <tr>\n",
       "      <th>chr9:137790970:137792054:2125_is_sQTL</th>\n",
       "      <td>chr9:137790970:137792054:2125</td>\n",
       "      <td>0.000000e+00</td>\n",
       "      <td>0.000000e+00</td>\n",
       "      <td>0.759263</td>\n",
       "      <td>0.998115</td>\n",
       "      <td>0.759263</td>\n",
       "      <td>0.998115</td>\n",
       "      <td>47617.0</td>\n",
       "      <td>47011.0</td>\n",
       "      <td>137864679.0</td>\n",
       "      <td>137863658.0</td>\n",
       "      <td>137865921.0</td>\n",
       "      <td>137852120.0</td>\n",
       "      <td>0.000524</td>\n",
       "      <td>0.000071</td>\n",
       "      <td>0.004571</td>\n",
       "      <td>0.000142</td>\n",
       "      <td>1</td>\n",
       "    </tr>\n",
       "  </tbody>\n",
       "</table>\n",
       "<p>109342 rows × 18 columns</p>\n",
       "</div>"
      ],
      "text/plain": [
       "                                                     splice_event_id  \\\n",
       "id                                                                     \n",
       "chr1:766364:768547:2_not_sQTL                   chr1:766364:768547:2   \n",
       "chr1:766407:768547:2_not_sQTL                   chr1:766407:768547:2   \n",
       "chr1:805891:808574:5_not_sQTL                   chr1:805891:808574:5   \n",
       "chr1:946610:948130:9_not_sQTL                   chr1:946610:948130:9   \n",
       "chr1:946545:946756:9_not_sQTL                   chr1:946545:946756:9   \n",
       "...                                                              ...   \n",
       "chr9:137816062:137817438:2129_is_sQTL  chr9:137816062:137817438:2129   \n",
       "chr9:137711030:137834348:2122_is_sQTL  chr9:137711030:137834348:2122   \n",
       "chr9:137800984:137834348:2122_is_sQTL  chr9:137800984:137834348:2122   \n",
       "chr9:137629023:137710966:2122_is_sQTL  chr9:137629023:137710966:2122   \n",
       "chr9:137790970:137792054:2125_is_sQTL  chr9:137790970:137792054:2125   \n",
       "\n",
       "                                       acceptor_delta   donor_delta  \\\n",
       "id                                                                    \n",
       "chr1:766364:768547:2_not_sQTL            8.206069e-05  1.549721e-06   \n",
       "chr1:766407:768547:2_not_sQTL            4.119240e-06  1.311302e-06   \n",
       "chr1:805891:808574:5_not_sQTL           -3.576279e-07 -6.283335e-08   \n",
       "chr1:946610:948130:9_not_sQTL            4.128516e-04 -2.264977e-06   \n",
       "chr1:946545:946756:9_not_sQTL            2.384186e-05 -7.625520e-04   \n",
       "...                                               ...           ...   \n",
       "chr9:137816062:137817438:2129_is_sQTL   -1.482785e-03 -4.529953e-06   \n",
       "chr9:137711030:137834348:2122_is_sQTL    1.788139e-07  0.000000e+00   \n",
       "chr9:137800984:137834348:2122_is_sQTL    4.768372e-07 -1.192093e-07   \n",
       "chr9:137629023:137710966:2122_is_sQTL    0.000000e+00  0.000000e+00   \n",
       "chr9:137790970:137792054:2125_is_sQTL    0.000000e+00  0.000000e+00   \n",
       "\n",
       "                                       ref_acceptor  ref_donor  alt_acceptor  \\\n",
       "id                                                                             \n",
       "chr1:766364:768547:2_not_sQTL              0.188560   0.998192      0.188642   \n",
       "chr1:766407:768547:2_not_sQTL              0.011326   0.998081      0.011330   \n",
       "chr1:805891:808574:5_not_sQTL              0.999404   0.000029      0.999404   \n",
       "chr1:946610:948130:9_not_sQTL              0.409112   0.997932      0.409525   \n",
       "chr1:946545:946756:9_not_sQTL              0.998513   0.439411      0.998537   \n",
       "...                                             ...        ...           ...   \n",
       "chr9:137816062:137817438:2129_is_sQTL      0.998704   0.999288      0.000100   \n",
       "chr9:137711030:137834348:2122_is_sQTL      0.997604   0.945075      0.997604   \n",
       "chr9:137800984:137834348:2122_is_sQTL      0.997697   0.998563      0.997697   \n",
       "chr9:137629023:137710966:2122_is_sQTL      0.954723   0.043951      0.954723   \n",
       "chr9:137790970:137792054:2125_is_sQTL      0.759263   0.998115      0.759263   \n",
       "\n",
       "                                       alt_donor  acceptor_delta_order  \\\n",
       "id                                                                       \n",
       "chr1:766364:768547:2_not_sQTL           0.998193                  23.0   \n",
       "chr1:766407:768547:2_not_sQTL           0.998082                 121.0   \n",
       "chr1:805891:808574:5_not_sQTL           0.000029                 216.0   \n",
       "chr1:946610:948130:9_not_sQTL           0.997930                   6.0   \n",
       "chr1:946545:946756:9_not_sQTL           0.438648                 138.0   \n",
       "...                                          ...                   ...   \n",
       "chr9:137816062:137817438:2129_is_sQTL   0.999284                  45.0   \n",
       "chr9:137711030:137834348:2122_is_sQTL   0.945075                 252.0   \n",
       "chr9:137800984:137834348:2122_is_sQTL   0.998563                 151.0   \n",
       "chr9:137629023:137710966:2122_is_sQTL   0.043951               59777.0   \n",
       "chr9:137790970:137792054:2125_is_sQTL   0.998115               47617.0   \n",
       "\n",
       "                                       donor_delta_order  top_a_creation_pos  \\\n",
       "id                                                                             \n",
       "chr1:766364:768547:2_not_sQTL                      192.0            769211.0   \n",
       "chr1:766407:768547:2_not_sQTL                      231.0            769211.0   \n",
       "chr1:805891:808574:5_not_sQTL                      641.0            807872.0   \n",
       "chr1:946610:948130:9_not_sQTL                      198.0            945698.0   \n",
       "chr1:946545:946756:9_not_sQTL                       15.0            953470.0   \n",
       "...                                                  ...                 ...   \n",
       "chr9:137816062:137817438:2129_is_sQTL              549.0         137817352.0   \n",
       "chr9:137711030:137834348:2122_is_sQTL            79574.0         137823282.0   \n",
       "chr9:137800984:137834348:2122_is_sQTL              302.0         137824512.0   \n",
       "chr9:137629023:137710966:2122_is_sQTL           100353.0         137852077.0   \n",
       "chr9:137790970:137792054:2125_is_sQTL            47011.0         137864679.0   \n",
       "\n",
       "                                       top_d_creation_pos  \\\n",
       "id                                                          \n",
       "chr1:766364:768547:2_not_sQTL                    769058.0   \n",
       "chr1:766407:768547:2_not_sQTL                    769058.0   \n",
       "chr1:805891:808574:5_not_sQTL                    806921.0   \n",
       "chr1:946610:948130:9_not_sQTL                    946028.0   \n",
       "chr1:946545:946756:9_not_sQTL                    953568.0   \n",
       "...                                                   ...   \n",
       "chr9:137816062:137817438:2129_is_sQTL         137803010.0   \n",
       "chr9:137711030:137834348:2122_is_sQTL         137824256.0   \n",
       "chr9:137800984:137834348:2122_is_sQTL         137824256.0   \n",
       "chr9:137629023:137710966:2122_is_sQTL         137854117.0   \n",
       "chr9:137790970:137792054:2125_is_sQTL         137863658.0   \n",
       "\n",
       "                                       top_a_disruption_pos  \\\n",
       "id                                                            \n",
       "chr1:766364:768547:2_not_sQTL                      747735.0   \n",
       "chr1:766407:768547:2_not_sQTL                      747735.0   \n",
       "chr1:805891:808574:5_not_sQTL                      806825.0   \n",
       "chr1:946610:948130:9_not_sQTL                      945676.0   \n",
       "chr1:946545:946756:9_not_sQTL                      953603.0   \n",
       "...                                                     ...   \n",
       "chr9:137816062:137817438:2129_is_sQTL           137818032.0   \n",
       "chr9:137711030:137834348:2122_is_sQTL           137824100.0   \n",
       "chr9:137800984:137834348:2122_is_sQTL           137824100.0   \n",
       "chr9:137629023:137710966:2122_is_sQTL           137865921.0   \n",
       "chr9:137790970:137792054:2125_is_sQTL           137865921.0   \n",
       "\n",
       "                                       top_d_disruption_pos  \\\n",
       "id                                                            \n",
       "chr1:766364:768547:2_not_sQTL                      769691.0   \n",
       "chr1:766407:768547:2_not_sQTL                      769691.0   \n",
       "chr1:805891:808574:5_not_sQTL                      807760.0   \n",
       "chr1:946610:948130:9_not_sQTL                      945323.0   \n",
       "chr1:946545:946756:9_not_sQTL                      953553.0   \n",
       "...                                                     ...   \n",
       "chr9:137816062:137817438:2129_is_sQTL           137817529.0   \n",
       "chr9:137711030:137834348:2122_is_sQTL           137821670.0   \n",
       "chr9:137800984:137834348:2122_is_sQTL           137821670.0   \n",
       "chr9:137629023:137710966:2122_is_sQTL           137864819.0   \n",
       "chr9:137790970:137792054:2125_is_sQTL           137852120.0   \n",
       "\n",
       "                                       top_a_creation_delta  \\\n",
       "id                                                            \n",
       "chr1:766364:768547:2_not_sQTL                      0.005717   \n",
       "chr1:766407:768547:2_not_sQTL                      0.005663   \n",
       "chr1:805891:808574:5_not_sQTL                      0.001304   \n",
       "chr1:946610:948130:9_not_sQTL                      0.007691   \n",
       "chr1:946545:946756:9_not_sQTL                      0.000891   \n",
       "...                                                     ...   \n",
       "chr9:137816062:137817438:2129_is_sQTL              0.157431   \n",
       "chr9:137711030:137834348:2122_is_sQTL              0.000064   \n",
       "chr9:137800984:137834348:2122_is_sQTL              0.000046   \n",
       "chr9:137629023:137710966:2122_is_sQTL              0.000689   \n",
       "chr9:137790970:137792054:2125_is_sQTL              0.000524   \n",
       "\n",
       "                                       top_d_creation_delta  \\\n",
       "id                                                            \n",
       "chr1:766364:768547:2_not_sQTL                      0.008152   \n",
       "chr1:766407:768547:2_not_sQTL                      0.008107   \n",
       "chr1:805891:808574:5_not_sQTL                      0.002656   \n",
       "chr1:946610:948130:9_not_sQTL                      0.003643   \n",
       "chr1:946545:946756:9_not_sQTL                      0.001132   \n",
       "...                                                     ...   \n",
       "chr9:137816062:137817438:2129_is_sQTL              0.008845   \n",
       "chr9:137711030:137834348:2122_is_sQTL              0.000099   \n",
       "chr9:137800984:137834348:2122_is_sQTL              0.000091   \n",
       "chr9:137629023:137710966:2122_is_sQTL              0.000563   \n",
       "chr9:137790970:137792054:2125_is_sQTL              0.000071   \n",
       "\n",
       "                                       top_a_disruption_delta  \\\n",
       "id                                                              \n",
       "chr1:766364:768547:2_not_sQTL                        0.000153   \n",
       "chr1:766407:768547:2_not_sQTL                        0.000099   \n",
       "chr1:805891:808574:5_not_sQTL                        0.000803   \n",
       "chr1:946610:948130:9_not_sQTL                        0.000502   \n",
       "chr1:946545:946756:9_not_sQTL                        0.058439   \n",
       "...                                                       ...   \n",
       "chr9:137816062:137817438:2129_is_sQTL                0.001598   \n",
       "chr9:137711030:137834348:2122_is_sQTL                0.000193   \n",
       "chr9:137800984:137834348:2122_is_sQTL                0.000216   \n",
       "chr9:137629023:137710966:2122_is_sQTL                0.000142   \n",
       "chr9:137790970:137792054:2125_is_sQTL                0.004571   \n",
       "\n",
       "                                       top_d_disruption_delta  is_sQTL  \n",
       "id                                                                      \n",
       "chr1:766364:768547:2_not_sQTL                        0.000454        0  \n",
       "chr1:766407:768547:2_not_sQTL                        0.000454        0  \n",
       "chr1:805891:808574:5_not_sQTL                        0.001781        0  \n",
       "chr1:946610:948130:9_not_sQTL                        0.000509        0  \n",
       "chr1:946545:946756:9_not_sQTL                        0.084413        0  \n",
       "...                                                       ...      ...  \n",
       "chr9:137816062:137817438:2129_is_sQTL                0.019732        1  \n",
       "chr9:137711030:137834348:2122_is_sQTL                0.000201        1  \n",
       "chr9:137800984:137834348:2122_is_sQTL                0.000204        1  \n",
       "chr9:137629023:137710966:2122_is_sQTL                0.001425        1  \n",
       "chr9:137790970:137792054:2125_is_sQTL                0.000142        1  \n",
       "\n",
       "[109342 rows x 18 columns]"
      ]
     },
     "execution_count": 11,
     "metadata": {},
     "output_type": "execute_result"
    }
   ],
   "source": [
    "df_transformer"
   ]
  },
  {
   "cell_type": "code",
   "execution_count": 18,
   "metadata": {},
   "outputs": [],
   "source": [
    "#lr = LogisticRegression()\n",
    "#lr.fit(delta.reshape(-1,1),df['is_sQTL'])\n",
    "#delta_pred = lr.predict_proba(delta.reshape(-1,1))[:,1]"
   ]
  },
  {
   "cell_type": "code",
   "execution_count": 12,
   "metadata": {},
   "outputs": [],
   "source": [
    "with open('/odinn/tmp/benediktj/Data/SplicePrediction-050422/sqtl_deltas_splice_ai_pretrained__no_sqtl_140223.pkl', 'rb') as f:\n",
    "    splice_ai_results_1 = pickle.load(f)"
   ]
  },
  {
   "cell_type": "code",
   "execution_count": 13,
   "metadata": {},
   "outputs": [],
   "source": [
    "with open('/odinn/tmp/benediktj/Data/SplicePrediction-050422/sqtl_deltas_splice_ai_pretrained_100123.pkl', 'rb') as f:\n",
    "    splice_ai_results_2 = pickle.load(f)"
   ]
  },
  {
   "cell_type": "code",
   "execution_count": 14,
   "metadata": {},
   "outputs": [],
   "source": [
    "df1 = pd.DataFrame(splice_ai_results_1).T\n",
    "df1.columns = ['acceptor_delta','donor_delta','ref_acceptor','ref_donor','alt_acceptor','alt_donor','acceptor_delta_order','donor_delta_order','top_a_creation_pos','top_d_creation_pos','top_a_disruption_pos','top_d_disruption_pos','top_a_creation_delta','top_d_creation_delta','top_a_disruption_delta','top_d_disruption_delta']\n",
    "df1 = df1.reset_index()\n",
    "df1 = df1.rename(columns={'index':'splice_event_id'})\n",
    "df1['id'] = df1['splice_event_id']+'_not_sQTL'\n",
    "df1 = df1.set_index('id')\n",
    "df1['is_sQTL'] = 0\n",
    "df2 = pd.DataFrame(splice_ai_results_2).T\n",
    "df2.columns = ['acceptor_delta','donor_delta','ref_acceptor','ref_donor','alt_acceptor','alt_donor','acceptor_delta_order','donor_delta_order','top_a_creation_pos','top_d_creation_pos','top_a_disruption_pos','top_d_disruption_pos','top_a_creation_delta','top_d_creation_delta','top_a_disruption_delta','top_d_disruption_delta']\n",
    "df2 = df2.reset_index()\n",
    "df2 = df2.rename(columns={'index':'splice_event_id'})\n",
    "df2['id'] = df2['splice_event_id']+'_is_sQTL'\n",
    "df2 = df2.set_index('id')\n",
    "df2['is_sQTL'] = 1\n",
    "df_spliceai = pd.concat([df1,df2],axis=0)"
   ]
  },
  {
   "cell_type": "code",
   "execution_count": 15,
   "metadata": {},
   "outputs": [],
   "source": [
    "df_spliceai = df_spliceai.loc[df_transformer.drop(['chr1:21217975:21219958:812_is_sQTL', 'chr13:111280677:111283138:725_is_sQTL']).index]"
   ]
  },
  {
   "cell_type": "code",
   "execution_count": 16,
   "metadata": {},
   "outputs": [],
   "source": [
    "df_transformer = df_transformer.drop(['chr1:21217975:21219958:812_is_sQTL', 'chr13:111280677:111283138:725_is_sQTL'])"
   ]
  },
  {
   "cell_type": "code",
   "execution_count": 17,
   "metadata": {},
   "outputs": [],
   "source": [
    "#with open('/odinn/tmp/benediktj/Data/SplicePrediction-050422/sqtl_splice_ids_to_use.pkl', 'wb') as f:\n",
    "#    pickle.dump(df_transformer.index.values, f)"
   ]
  },
  {
   "cell_type": "code",
   "execution_count": 18,
   "metadata": {},
   "outputs": [],
   "source": [
    "from sklearn.metrics import roc_curve, auc"
   ]
  },
  {
   "cell_type": "code",
   "execution_count": 20,
   "metadata": {},
   "outputs": [],
   "source": [
    "#df_transformer_cond['is_sQTL']"
   ]
  },
  {
   "cell_type": "code",
   "execution_count": 21,
   "metadata": {},
   "outputs": [
    {
     "name": "stderr",
     "output_type": "stream",
     "text": [
      "100%|███████████████████████████████████████████████████████████████████████████████████████████████████████████████████████████████████████████████████████████████████████████████████████████████████████████████████████████████████████████████████| 665/665 [01:25<00:00,  7.76it/s]\n"
     ]
    }
   ],
   "source": [
    "aucs_1 = []\n",
    "aucs_2 = []\n",
    "ds = np.logspace(0,4.605,1000)\n",
    "ds = np.unique(np.round(ds)).astype(int)\n",
    "for d in tqdm(ds):\n",
    "    to_include = lead_sQTL['splice_event_id'][lead_sQTL[['acceptor','donor']].abs().min(axis=1)<=d].values\n",
    "    df_transformer_cond = df_transformer[df_transformer['splice_event_id'].isin(to_include)]\n",
    "    df_spliceai_cond = df_spliceai[df_spliceai['splice_event_id'].isin(to_include)]\n",
    "    delta_transformer = df_transformer_cond[['top_a_creation_delta','top_d_creation_delta','top_a_disruption_delta','top_d_disruption_delta']].max(axis=1).values\n",
    "    delta_spliceai = df_spliceai_cond[['top_a_creation_delta','top_d_creation_delta','top_a_disruption_delta','top_d_disruption_delta']].max(axis=1).values\n",
    "    fpr1, tpr1,t1 = roc_curve(df_transformer_cond['is_sQTL'], delta_transformer)\n",
    "    auc_1 = auc(fpr1, tpr1)\n",
    "    #plt.plot(fpr1, tpr1,label=f\"Transformer-40k (AUC = {auc_1 :.3f})\")\n",
    "    fpr2, tpr2,t2 = roc_curve(df_spliceai_cond['is_sQTL'], delta_spliceai)\n",
    "    auc_2 = auc(fpr2, tpr2)\n",
    "    aucs_1.append(auc_1)\n",
    "    aucs_2.append(auc_2)\n",
    "    #plt.plot(fpr2, tpr2,label=f\"SpliceAI-40k (AUC = {auc_2 :.3f})\")\n",
    "    #plt.legend()\n",
    "    #plt.xlabel(\"False Positive Rate\")\n",
    "    #plt.ylabel(\"True Positive Rate\")\n",
    "    #plt.show()"
   ]
  },
  {
   "cell_type": "code",
   "execution_count": 22,
   "metadata": {},
   "outputs": [
    {
     "data": {
      "image/png": "[encoded data removed]",
      "text/plain": [
       "<Figure size 432x288 with 1 Axes>"
      ]
     },
     "metadata": {
      "needs_background": "light"
     },
     "output_type": "display_data"
    }
   ],
   "source": [
    "plt.semilogx(ds,aucs_1,label='Transformer-40k')\n",
    "plt.semilogx(ds,aucs_2,label='SpliceAI-10k')\n",
    "plt.ylabel('sQTL classification AUC')\n",
    "plt.xlabel('Distance to nearest splice-site (nt)')\n",
    "plt.legend()\n",
    "plt.savefig('../Results/sQTL_delta_AUC_210923.png',dpi=300,bbox_inches='tight')\n",
    "plt.show()"
   ]
  },
  {
   "cell_type": "code",
   "execution_count": 23,
   "metadata": {},
   "outputs": [
    {
     "data": {
      "image/png": "[encoded data removed]",
      "text/plain": [
       "<Figure size 432x288 with 1 Axes>"
      ]
     },
     "metadata": {
      "needs_background": "light"
     },
     "output_type": "display_data"
    }
   ],
   "source": [
    "plt.semilogx(ds,np.array(aucs_1)-np.array(aucs_2))\n",
    "plt.ylabel('AUC Difference')\n",
    "plt.xlabel('Max min distance to splice-site (nt)')\n",
    "#plt.legend()\n",
    "plt.savefig('../Results/sQTL_delta_AUC_210923.png',dpi=300)\n",
    "plt.show()"
   ]
  },
  {
   "cell_type": "code",
   "execution_count": 24,
   "metadata": {},
   "outputs": [],
   "source": [
    "from sklearn.metrics import average_precision_score"
   ]
  },
  {
   "cell_type": "code",
   "execution_count": 25,
   "metadata": {},
   "outputs": [
    {
     "name": "stderr",
     "output_type": "stream",
     "text": [
      "100%|███████████████████████████████████████████████████████████████████████████████████████████████████████████████████████████████████████████████████████████████████████████████████████████████████████████████████████████████████████████████████| 665/665 [01:18<00:00,  8.45it/s]\n"
     ]
    }
   ],
   "source": [
    "aucs_1 = []\n",
    "aucs_2 = []\n",
    "ds = np.logspace(0,4.605,1000)\n",
    "ds = np.unique(np.round(ds)).astype(int)\n",
    "for d in tqdm(ds):\n",
    "    to_include = lead_sQTL['splice_event_id'][lead_sQTL[['acceptor','donor']].abs().min(axis=1)<=d].values\n",
    "    df_transformer_cond = df_transformer[df_transformer['splice_event_id'].isin(to_include)]\n",
    "    df_spliceai_cond = df_spliceai[df_spliceai['splice_event_id'].isin(to_include)]\n",
    "    delta_transformer = df_transformer_cond[['top_a_creation_delta','top_d_creation_delta','top_a_disruption_delta','top_d_disruption_delta']].max(axis=1).values\n",
    "    delta_spliceai = df_spliceai_cond[['top_a_creation_delta','top_d_creation_delta','top_a_disruption_delta','top_d_disruption_delta']].max(axis=1).values\n",
    "    #fpr1, tpr1,t1 = roc_curve(df_transformer_cond['is_sQTL'], delta_transformer)\n",
    "    auc_1 = average_precision_score(df_transformer_cond['is_sQTL'], delta_transformer)\n",
    "    #plt.plot(fpr1, tpr1,label=f\"Transformer-40k (AUC = {auc_1 :.3f})\")\n",
    "    #fpr2, tpr2,t2 = roc_curve(df_spliceai_cond['is_sQTL'], delta_spliceai)\n",
    "    #auc_2 = auc(fpr2, tpr2)\n",
    "    auc_2 = average_precision_score(df_spliceai_cond['is_sQTL'], delta_spliceai)\n",
    "    aucs_1.append(auc_1)\n",
    "    aucs_2.append(auc_2)"
   ]
  },
  {
   "cell_type": "code",
   "execution_count": 26,
   "metadata": {},
   "outputs": [
    {
     "data": {
      "image/png": "[encoded data removed]",
      "text/plain": [
       "<Figure size 432x288 with 1 Axes>"
      ]
     },
     "metadata": {
      "needs_background": "light"
     },
     "output_type": "display_data"
    }
   ],
   "source": [
    "plt.semilogx(ds,aucs_1,label='Transformer-40k')\n",
    "plt.semilogx(ds,aucs_2,label='SpliceAI-10k')\n",
    "plt.ylabel('sQTL classification PR-AUC')\n",
    "plt.xlabel('Distance to nearest splice-site (nt)')\n",
    "plt.legend()\n",
    "plt.savefig('../Results/sQTL_delta_PR_AUC_210923.png',dpi=300,bbox_inches='tight')\n",
    "plt.show()"
   ]
  },
  {
   "cell_type": "code",
   "execution_count": 27,
   "metadata": {},
   "outputs": [],
   "source": [
    "from scipy.stats import spearmanr"
   ]
  },
  {
   "cell_type": "code",
   "execution_count": 28,
   "metadata": {},
   "outputs": [
    {
     "data": {
      "text/plain": [
       "(103883,)"
      ]
     },
     "execution_count": 28,
     "metadata": {},
     "output_type": "execute_result"
    }
   ],
   "source": [
    "delta_transformer.shape"
   ]
  },
  {
   "cell_type": "code",
   "execution_count": 29,
   "metadata": {},
   "outputs": [
    {
     "data": {
      "text/plain": [
       "(103883,)"
      ]
     },
     "execution_count": 29,
     "metadata": {},
     "output_type": "execute_result"
    }
   ],
   "source": [
    "delta_spliceai.shape"
   ]
  },
  {
   "cell_type": "code",
   "execution_count": 30,
   "metadata": {},
   "outputs": [
    {
     "name": "stdout",
     "output_type": "stream",
     "text": [
      "SpearmanrResult(correlation=0.8638888429950881, pvalue=0.0)\n"
     ]
    },
    {
     "data": {
      "image/png": "[encoded data removed]",
      "text/plain": [
       "<Figure size 432x288 with 1 Axes>"
      ]
     },
     "metadata": {
      "needs_background": "light"
     },
     "output_type": "display_data"
    }
   ],
   "source": [
    "plt.scatter(delta_transformer,delta_spliceai,s=1)\n",
    "plt.xlabel('Transformer Delta')\n",
    "plt.ylabel('SpliceAI Delta')\n",
    "#plt.colorbar()\n",
    "print(spearmanr(delta_transformer,delta_spliceai))\n",
    "plt.show()"
   ]
  },
  {
   "cell_type": "code",
   "execution_count": 31,
   "metadata": {},
   "outputs": [],
   "source": [
    "results_transformer = df_transformer.merge(lead_sQTL,on='splice_event_id')"
   ]
  },
  {
   "cell_type": "code",
   "execution_count": 32,
   "metadata": {},
   "outputs": [],
   "source": [
    "results_spliceai = df_spliceai.merge(lead_sQTL,on='splice_event_id')"
   ]
  },
  {
   "cell_type": "code",
   "execution_count": 33,
   "metadata": {},
   "outputs": [],
   "source": [
    "variant_anno = pd.read_csv('/nfs/odinn/users/gislih/RNA/requests/rna_paper/splice_anno/clover_snpindel_filtered_junctions_reannotated.01-12-2021.tsv.gz',sep='\\t')"
   ]
  },
  {
   "cell_type": "code",
   "execution_count": 34,
   "metadata": {},
   "outputs": [
    {
     "name": "stderr",
     "output_type": "stream",
     "text": [
      "100%|████████████████████████████████████████████████████████████████| 127016/127016 [01:11<00:00, 1777.19it/s]\n"
     ]
    }
   ],
   "source": [
    "splice_event_id = []\n",
    "for i in tqdm(range(variant_anno.shape[0])):\n",
    "    chrom,start,end = variant_anno.iloc[i,:]['Chrom'],variant_anno.iloc[i,:]['Start'],variant_anno.iloc[i,:]['End']\n",
    "    splice_event_id.append(f'{chrom}:{start}:{end}')"
   ]
  },
  {
   "cell_type": "code",
   "execution_count": 35,
   "metadata": {},
   "outputs": [],
   "source": [
    "variant_anno['splice_event_id_2'] = splice_event_id"
   ]
  },
  {
   "cell_type": "code",
   "execution_count": 36,
   "metadata": {},
   "outputs": [],
   "source": [
    "lead_sQTL['splice_event_id_2'] = lead_sQTL['splice_event_id'].apply(lambda x: ':'.join(x.split(':')[:-1]))"
   ]
  },
  {
   "cell_type": "code",
   "execution_count": 37,
   "metadata": {},
   "outputs": [],
   "source": [
    "tmp = lead_sQTL.merge(variant_anno[['splice_event_id_2','Name','variant_type']],on=['splice_event_id_2','Name'])"
   ]
  },
  {
   "cell_type": "code",
   "execution_count": 38,
   "metadata": {},
   "outputs": [],
   "source": [
    "disrupting_variant = tmp[tmp['variant_type']=='disrupting']['splice_event_id'].values\n",
    "creating_variant = tmp[tmp['variant_type']=='creating']['splice_event_id'].values"
   ]
  },
  {
   "cell_type": "code",
   "execution_count": 39,
   "metadata": {},
   "outputs": [],
   "source": [
    "disrupting = df_transformer[df_transformer['splice_event_id'].isin(disrupting_variant)]\n",
    "\n",
    "fpr1, tpr1,t1 = roc_curve(disrupting['is_sQTL'],np.max(disrupting[['top_a_disruption_delta','top_d_disruption_delta']],axis=1))\n",
    "auc_1 = auc(fpr1, tpr1)\n",
    "#plt.plot(fpr1, tpr1,label=f\"Transformer-40k (AUC = {auc_1 :.3f})\")\n"
   ]
  },
  {
   "cell_type": "code",
   "execution_count": 40,
   "metadata": {},
   "outputs": [
    {
     "name": "stdout",
     "output_type": "stream",
     "text": [
      "0.886039886039886 311 351\n"
     ]
    }
   ],
   "source": [
    "x1 = np.sum(np.max(disrupting[['top_a_disruption_delta','top_d_disruption_delta']],axis=1)[disrupting['is_sQTL']==1]>0.1)\n",
    "x2 = np.sum(disrupting['is_sQTL'])\n",
    "print(x1/x2,x1,x2)"
   ]
  },
  {
   "cell_type": "code",
   "execution_count": 41,
   "metadata": {},
   "outputs": [],
   "source": [
    "disrupting = df_spliceai[df_spliceai['splice_event_id'].isin(disrupting_variant)]\n",
    "fpr2, tpr2,t2 = roc_curve(disrupting['is_sQTL'],np.max(disrupting[['top_a_disruption_delta','top_d_disruption_delta']],axis=1))\n",
    "auc_2 = auc(fpr2, tpr2)"
   ]
  },
  {
   "cell_type": "code",
   "execution_count": 42,
   "metadata": {},
   "outputs": [
    {
     "name": "stdout",
     "output_type": "stream",
     "text": [
      "0.8148148148148148 286 351\n"
     ]
    }
   ],
   "source": [
    "x1 = np.sum(np.max(disrupting[['top_a_disruption_delta','top_d_disruption_delta']],axis=1)[disrupting['is_sQTL']==1]>0.1)\n",
    "x2 = np.sum(disrupting['is_sQTL'])\n",
    "print(x1/x2,x1,x2)"
   ]
  },
  {
   "cell_type": "code",
   "execution_count": 43,
   "metadata": {},
   "outputs": [
    {
     "data": {
      "image/png": "[encoded data removed]",
      "text/plain": [
       "<Figure size 432x288 with 1 Axes>"
      ]
     },
     "metadata": {
      "needs_background": "light"
     },
     "output_type": "display_data"
    }
   ],
   "source": [
    "plt.plot(fpr1,tpr1,label=f'Transformer-40k (AUC = {auc_1:.3f})')\n",
    "plt.plot(fpr2,tpr2,label=f'SpliceAI-10k (AUC = {auc_2:.3f})')\n",
    "plt.legend()\n",
    "plt.xlabel(\"False Positive Rate\")\n",
    "plt.ylabel(\"True Positive Rate\")\n",
    "#plt.savefig('../Results/sQTL_splice_disruption_delta_AUC.png',dpi=300,bbox_inches='tight')\n",
    "plt.show()"
   ]
  },
  {
   "cell_type": "code",
   "execution_count": 44,
   "metadata": {},
   "outputs": [
    {
     "data": {
      "text/plain": [
       "0.9824676747753671"
      ]
     },
     "execution_count": 44,
     "metadata": {},
     "output_type": "execute_result"
    }
   ],
   "source": [
    "auc_1"
   ]
  },
  {
   "cell_type": "code",
   "execution_count": 45,
   "metadata": {},
   "outputs": [
    {
     "data": {
      "text/plain": [
       "0.971553802323033"
      ]
     },
     "execution_count": 45,
     "metadata": {},
     "output_type": "execute_result"
    }
   ],
   "source": [
    "auc_2"
   ]
  },
  {
   "cell_type": "code",
   "execution_count": 46,
   "metadata": {},
   "outputs": [
    {
     "name": "stdout",
     "output_type": "stream",
     "text": [
      "260 351\n"
     ]
    },
    {
     "data": {
      "image/png": "[encoded data removed]",
      "text/plain": [
       "<Figure size 432x288 with 1 Axes>"
      ]
     },
     "metadata": {
      "needs_background": "light"
     },
     "output_type": "display_data"
    }
   ],
   "source": [
    "#tmp = results[results['label'].isin(['upstr_intron','downstr_intron'])]\n",
    "#tmp = results[['is_sdv','top_d_disruption_delta_y','top_a_disruption_delta_y','top_d_disruption_delta_x','top_a_disruption_delta_x','top_d_disruption_delta_x','top_a_disruption_delta_x']].dropna()\n",
    "disrupting = df_transformer[df_transformer['splice_event_id'].isin(disrupting_variant)]\n",
    "X1,y1 = np.max(disrupting[['top_a_disruption_delta','top_d_disruption_delta']],axis=1),disrupting['is_sQTL']\n",
    "disrupting = df_spliceai[df_spliceai['splice_event_id'].isin(disrupting_variant)]\n",
    "X2,y2 = np.max(disrupting[['top_a_disruption_delta','top_d_disruption_delta']],axis=1),disrupting['is_sQTL']\n",
    "\n",
    "precision1, recall1,t1 = precision_recall_curve(y1, X1)\n",
    "auc_1 = average_precision_score(y1, X1)\n",
    "\n",
    "#aucs_1.append(auc_1)\n",
    "plt.plot(recall1,precision1,label=f\"Transformer-40k (PR-AUC = {auc_1 :.3f})\")\n",
    "\n",
    "precision2, recall2,t2 = precision_recall_curve(y2, X2)\n",
    "auc_2 = average_precision_score(y2, X2)\n",
    "\n",
    "#aucs_1.append(auc_1)\n",
    "plt.plot(recall2,precision2,label=f\"SpliceAI-10k (PR-AUC = {auc_2 :.3f})\")\n",
    "\n",
    "\n",
    "plt.ylabel(\"Precision\")\n",
    "plt.xlabel(\"Recall\")\n",
    "print(np.sum(y2==0),np.sum(y2==1))\n",
    "plt.legend()\n",
    "#plt.savefig('../Results/sQTL_splice_disruption_delta_PRC.png',dpi=300,bbox_inches='tight')\n",
    "plt.show()"
   ]
  },
  {
   "cell_type": "code",
   "execution_count": 47,
   "metadata": {},
   "outputs": [
    {
     "name": "stdout",
     "output_type": "stream",
     "text": [
      "0.8869814020028612 620 699\n",
      "0.7982832618025751 558 699\n"
     ]
    }
   ],
   "source": [
    "creating = df_transformer[df_transformer['splice_event_id'].isin(creating_variant)]\n",
    "x1 = np.sum(np.max(creating[['top_a_creation_delta','top_d_creation_delta']],axis=1)[creating['is_sQTL']==1]>0.1)\n",
    "x2 = np.sum(creating['is_sQTL'])\n",
    "print(x1/x2,x1,x2)\n",
    "fpr1, tpr1,t1 = roc_curve(creating['is_sQTL'],np.max(creating[['top_a_creation_delta','top_d_creation_delta']],axis=1))\n",
    "auc_1 = auc(fpr1, tpr1)\n",
    "creating = df_spliceai[df_spliceai['splice_event_id'].isin(creating_variant)]\n",
    "x1 = np.sum(np.max(creating[['top_a_creation_delta','top_d_creation_delta']],axis=1)[creating['is_sQTL']==1]>0.1)\n",
    "x2 = np.sum(creating['is_sQTL'])\n",
    "print(x1/x2,x1,x2)\n",
    "fpr2, tpr2,t2 = roc_curve(creating['is_sQTL'],np.max(creating[['top_a_creation_delta','top_d_creation_delta']],axis=1))\n",
    "auc_2 = auc(fpr2, tpr2)"
   ]
  },
  {
   "cell_type": "code",
   "execution_count": 48,
   "metadata": {},
   "outputs": [
    {
     "data": {
      "image/png": "[encoded data removed]",
      "text/plain": [
       "<Figure size 432x288 with 1 Axes>"
      ]
     },
     "metadata": {
      "needs_background": "light"
     },
     "output_type": "display_data"
    }
   ],
   "source": [
    "plt.plot(fpr1,tpr1,label=f'Transformer-40k (AUC = {auc_1:.3f})')\n",
    "plt.plot(fpr2,tpr2,label=f'SpliceAI-10k (AUC = {auc_2:.3f})')\n",
    "plt.legend()\n",
    "plt.xlabel(\"False Positive Rate\")\n",
    "plt.ylabel(\"True Positive Rate\")\n",
    "#plt.savefig('../Results/sQTL_splice_creation_delta_AUC.png',dpi=300,bbox_inches='tight')\n",
    "plt.show()"
   ]
  },
  {
   "cell_type": "code",
   "execution_count": 49,
   "metadata": {},
   "outputs": [
    {
     "data": {
      "text/plain": [
       "0.9821173104434907"
      ]
     },
     "execution_count": 49,
     "metadata": {},
     "output_type": "execute_result"
    }
   ],
   "source": [
    "auc_1"
   ]
  },
  {
   "cell_type": "code",
   "execution_count": 50,
   "metadata": {},
   "outputs": [
    {
     "data": {
      "text/plain": [
       "0.9646925261195647"
      ]
     },
     "execution_count": 50,
     "metadata": {},
     "output_type": "execute_result"
    }
   ],
   "source": [
    "auc_2"
   ]
  },
  {
   "cell_type": "code",
   "execution_count": 51,
   "metadata": {},
   "outputs": [
    {
     "name": "stdout",
     "output_type": "stream",
     "text": [
      "528 699\n"
     ]
    },
    {
     "data": {
      "image/png": "[encoded data removed]",
      "text/plain": [
       "<Figure size 432x288 with 1 Axes>"
      ]
     },
     "metadata": {
      "needs_background": "light"
     },
     "output_type": "display_data"
    }
   ],
   "source": [
    "creating = df_transformer[df_transformer['splice_event_id'].isin(creating_variant)]\n",
    "X1,y1 = np.max(creating[['top_a_creation_delta','top_d_creation_delta']],axis=1),creating['is_sQTL']\n",
    "creating = df_spliceai[df_spliceai['splice_event_id'].isin(creating_variant)]\n",
    "X2,y2 = np.max(creating[['top_a_creation_delta','top_d_creation_delta']],axis=1),creating['is_sQTL']\n",
    "\n",
    "precision1, recall1,t1 = precision_recall_curve(y1, X1)\n",
    "auc_1 = average_precision_score(y1, X1)\n",
    "\n",
    "#aucs_1.append(auc_1)\n",
    "plt.plot(recall1,precision1,label=f\"Transformer-40k (PR-AUC = {auc_1 :.3f})\")\n",
    "\n",
    "precision2, recall2,t2 = precision_recall_curve(y2, X2)\n",
    "auc_2 = average_precision_score(y2, X2)\n",
    "\n",
    "#aucs_1.append(auc_1)\n",
    "plt.plot(recall2,precision2,label=f\"SpliceAI-10k (PR-AUC = {auc_2 :.3f})\")\n",
    "\n",
    "\n",
    "plt.ylabel(\"Precision\")\n",
    "plt.xlabel(\"Recall\")\n",
    "print(np.sum(y2==0),np.sum(y2==1))\n",
    "plt.legend()\n",
    "#plt.savefig('../Results/sQTL_splice_creation_delta_PRC.png',dpi=300,bbox_inches='tight')\n",
    "plt.show()"
   ]
  },
  {
   "cell_type": "code",
   "execution_count": 52,
   "metadata": {},
   "outputs": [],
   "source": [
    "both = df_transformer[df_transformer['splice_event_id'].isin(np.concatenate([creating_variant,disrupting_variant]))]\n",
    "fpr1, tpr1,t1 = roc_curve(both['is_sQTL'],np.max(both[['top_a_disruption_delta','top_d_disruption_delta','top_a_creation_delta','top_d_creation_delta']],axis=1))\n",
    "auc_1 = auc(fpr1, tpr1)\n",
    "both = df_spliceai[df_spliceai['splice_event_id'].isin(np.concatenate([creating_variant,disrupting_variant]))]\n",
    "fpr2, tpr2,t2 = roc_curve(both['is_sQTL'],np.max(both[['top_a_disruption_delta','top_d_disruption_delta','top_a_creation_delta','top_d_creation_delta']],axis=1))\n",
    "auc_2 = auc(fpr2, tpr2)"
   ]
  },
  {
   "cell_type": "code",
   "execution_count": 53,
   "metadata": {},
   "outputs": [
    {
     "data": {
      "image/png": "[encoded data removed]",
      "text/plain": [
       "<Figure size 432x288 with 1 Axes>"
      ]
     },
     "metadata": {
      "needs_background": "light"
     },
     "output_type": "display_data"
    }
   ],
   "source": [
    "plt.plot(fpr1,tpr1,label=f'Transformer-40k (AUC = {auc_1:.3f})')\n",
    "plt.plot(fpr2,tpr2,label=f'SpliceAI-10k (AUC = {auc_2:.3f})')\n",
    "plt.legend()\n",
    "plt.xlabel(\"False Positive Rate\")\n",
    "plt.ylabel(\"True Positive Rate\")\n",
    "plt.savefig('../Results/sQTL_splice_creation_and_disruption_delta_AUC_210923.png',dpi=300,bbox_inches='tight')\n",
    "plt.show()"
   ]
  },
  {
   "cell_type": "code",
   "execution_count": 54,
   "metadata": {},
   "outputs": [
    {
     "data": {
      "text/plain": [
       "0.9879550398839738"
      ]
     },
     "execution_count": 54,
     "metadata": {},
     "output_type": "execute_result"
    }
   ],
   "source": [
    "auc_1"
   ]
  },
  {
   "cell_type": "code",
   "execution_count": 55,
   "metadata": {},
   "outputs": [
    {
     "data": {
      "text/plain": [
       "0.9734191443074691"
      ]
     },
     "execution_count": 55,
     "metadata": {},
     "output_type": "execute_result"
    }
   ],
   "source": [
    "auc_2"
   ]
  },
  {
   "cell_type": "code",
   "execution_count": 56,
   "metadata": {},
   "outputs": [
    {
     "name": "stdout",
     "output_type": "stream",
     "text": [
      "788 1050\n"
     ]
    },
    {
     "data": {
      "image/png": "[encoded data removed]",
      "text/plain": [
       "<Figure size 432x288 with 1 Axes>"
      ]
     },
     "metadata": {
      "needs_background": "light"
     },
     "output_type": "display_data"
    }
   ],
   "source": [
    "both = df_transformer[df_transformer['splice_event_id'].isin(np.concatenate([creating_variant,disrupting_variant]))]\n",
    "y1, X1 = both['is_sQTL'],np.max(both[['top_a_disruption_delta','top_d_disruption_delta','top_a_creation_delta','top_d_creation_delta']],axis=1)\n",
    "both = df_spliceai[df_spliceai['splice_event_id'].isin(np.concatenate([creating_variant,disrupting_variant]))]\n",
    "y2, X2 = both['is_sQTL'],np.max(both[['top_a_disruption_delta','top_d_disruption_delta','top_a_creation_delta','top_d_creation_delta']],axis=1)\n",
    "precision1, recall1,t1 = precision_recall_curve(y1, X1)\n",
    "auc_1 = average_precision_score(y1, X1)\n",
    "\n",
    "#aucs_1.append(auc_1)\n",
    "plt.plot(recall1,precision1,label=f\"Transformer-40k (PR-AUC = {auc_1 :.3f})\")\n",
    "\n",
    "precision2, recall2,t2 = precision_recall_curve(y2, X2)\n",
    "auc_2 = average_precision_score(y2, X2)\n",
    "\n",
    "#aucs_1.append(auc_1)\n",
    "plt.plot(recall2,precision2,label=f\"SpliceAI-10k (PR-AUC = {auc_2 :.3f})\")\n",
    "\n",
    "\n",
    "plt.ylabel(\"Precision\")\n",
    "plt.xlabel(\"Recall\")\n",
    "print(np.sum(y2==0),np.sum(y2==1))\n",
    "plt.legend()\n",
    "plt.savefig('../Results/sQTL_splice_creation_and_disruption_delta_PRC_210923.png',dpi=300,bbox_inches='tight')\n",
    "plt.show()\n"
   ]
  },
  {
   "cell_type": "code",
   "execution_count": 57,
   "metadata": {},
   "outputs": [],
   "source": [
    "both = df_transformer[df_transformer['splice_event_id'].isin(np.concatenate([creating_variant,disrupting_variant]))]\n",
    "to_check = both[np.max(both[['top_a_disruption_delta','top_d_disruption_delta','top_a_creation_delta','top_d_creation_delta']],axis=1)<0.1].index"
   ]
  },
  {
   "cell_type": "code",
   "execution_count": 58,
   "metadata": {},
   "outputs": [],
   "source": [
    "lowScore = np.max(both[['top_a_disruption_delta','top_d_disruption_delta','top_a_creation_delta','top_d_creation_delta']],axis=1)>0.1\n",
    "to_check = both[np.all([lowScore,both['is_sQTL']==True],axis=0)]['splice_event_id'].values"
   ]
  },
  {
   "cell_type": "code",
   "execution_count": 59,
   "metadata": {},
   "outputs": [
    {
     "data": {
      "text/html": [
       "<div>\n",
       "<style scoped>\n",
       "    .dataframe tbody tr th:only-of-type {\n",
       "        vertical-align: middle;\n",
       "    }\n",
       "\n",
       "    .dataframe tbody tr th {\n",
       "        vertical-align: top;\n",
       "    }\n",
       "\n",
       "    .dataframe thead th {\n",
       "        text-align: right;\n",
       "    }\n",
       "</style>\n",
       "<table border=\"1\" class=\"dataframe\">\n",
       "  <thead>\n",
       "    <tr style=\"text-align: right;\">\n",
       "      <th></th>\n",
       "      <th>Chrom</th>\n",
       "      <th>Pos</th>\n",
       "      <th>Name</th>\n",
       "      <th>rsids</th>\n",
       "      <th>splice_event_id</th>\n",
       "      <th>Gene_name</th>\n",
       "      <th>Pval</th>\n",
       "      <th>log10_Pval</th>\n",
       "      <th>Effect</th>\n",
       "      <th>X2</th>\n",
       "      <th>...</th>\n",
       "      <th>ClusterID</th>\n",
       "      <th>Strand</th>\n",
       "      <th>jct_prevalence</th>\n",
       "      <th>is_annotated</th>\n",
       "      <th>donor</th>\n",
       "      <th>acceptor</th>\n",
       "      <th>Pos_bin</th>\n",
       "      <th>num_tests</th>\n",
       "      <th>splice_event_id_2</th>\n",
       "      <th>variant_type</th>\n",
       "    </tr>\n",
       "  </thead>\n",
       "  <tbody>\n",
       "    <tr>\n",
       "      <th>1</th>\n",
       "      <td>chr1</td>\n",
       "      <td>1049997</td>\n",
       "      <td>chr1:1049997:SG</td>\n",
       "      <td>rs113020870</td>\n",
       "      <td>chr1:1049995:1050232:28</td>\n",
       "      <td>AGRN</td>\n",
       "      <td>2.669645e-19</td>\n",
       "      <td>-18.573547</td>\n",
       "      <td>2.983547</td>\n",
       "      <td>80.668346</td>\n",
       "      <td>...</td>\n",
       "      <td>28</td>\n",
       "      <td>+</td>\n",
       "      <td>0.000504</td>\n",
       "      <td>False</td>\n",
       "      <td>2</td>\n",
       "      <td>-236</td>\n",
       "      <td>D+2</td>\n",
       "      <td>1060</td>\n",
       "      <td>chr1:1049995:1050232</td>\n",
       "      <td>creating</td>\n",
       "    </tr>\n",
       "    <tr>\n",
       "      <th>2</th>\n",
       "      <td>chr1</td>\n",
       "      <td>1063202</td>\n",
       "      <td>chr1:1063202:SG</td>\n",
       "      <td>rs3813194</td>\n",
       "      <td>chr1:1063201:1065829:32</td>\n",
       "      <td>RP11-465B22.3</td>\n",
       "      <td>3.131610e-82</td>\n",
       "      <td>-81.504232</td>\n",
       "      <td>0.817176</td>\n",
       "      <td>368.973170</td>\n",
       "      <td>...</td>\n",
       "      <td>32</td>\n",
       "      <td>+</td>\n",
       "      <td>0.037147</td>\n",
       "      <td>True</td>\n",
       "      <td>1</td>\n",
       "      <td>-2628</td>\n",
       "      <td>D+1</td>\n",
       "      <td>686</td>\n",
       "      <td>chr1:1063201:1065829</td>\n",
       "      <td>creating</td>\n",
       "    </tr>\n",
       "    <tr>\n",
       "      <th>3</th>\n",
       "      <td>chr1</td>\n",
       "      <td>1082984</td>\n",
       "      <td>chr1:1082984:SG</td>\n",
       "      <td>rs139658850</td>\n",
       "      <td>chr1:1082982:1084352:34</td>\n",
       "      <td>C1orf159</td>\n",
       "      <td>1.295399e-20</td>\n",
       "      <td>-19.887596</td>\n",
       "      <td>1.527281</td>\n",
       "      <td>86.649857</td>\n",
       "      <td>...</td>\n",
       "      <td>34</td>\n",
       "      <td>-</td>\n",
       "      <td>0.001065</td>\n",
       "      <td>False</td>\n",
       "      <td>1369</td>\n",
       "      <td>-2</td>\n",
       "      <td>A-2</td>\n",
       "      <td>1058</td>\n",
       "      <td>chr1:1082982:1084352</td>\n",
       "      <td>creating</td>\n",
       "    </tr>\n",
       "    <tr>\n",
       "      <th>6</th>\n",
       "      <td>chr1</td>\n",
       "      <td>1295596</td>\n",
       "      <td>chr1:1295596:XG:1</td>\n",
       "      <td>NaN</td>\n",
       "      <td>chr1:1295595:1295735:57</td>\n",
       "      <td>ACAP3</td>\n",
       "      <td>7.036776e-126</td>\n",
       "      <td>-125.152626</td>\n",
       "      <td>1.802991</td>\n",
       "      <td>569.549219</td>\n",
       "      <td>...</td>\n",
       "      <td>57</td>\n",
       "      <td>-</td>\n",
       "      <td>0.006163</td>\n",
       "      <td>False</td>\n",
       "      <td>140</td>\n",
       "      <td>-1</td>\n",
       "      <td>A-1</td>\n",
       "      <td>900</td>\n",
       "      <td>chr1:1295595:1295735</td>\n",
       "      <td>creating</td>\n",
       "    </tr>\n",
       "    <tr>\n",
       "      <th>15</th>\n",
       "      <td>chr1</td>\n",
       "      <td>2392128</td>\n",
       "      <td>chr1:2392128:SG</td>\n",
       "      <td>rs2935277</td>\n",
       "      <td>chr1:2392126:2395783:172</td>\n",
       "      <td>RER1</td>\n",
       "      <td>0.000000e+00</td>\n",
       "      <td>-2516.184971</td>\n",
       "      <td>-1.028017</td>\n",
       "      <td>11577.651425</td>\n",
       "      <td>...</td>\n",
       "      <td>172</td>\n",
       "      <td>+</td>\n",
       "      <td>0.811968</td>\n",
       "      <td>False</td>\n",
       "      <td>2</td>\n",
       "      <td>-3656</td>\n",
       "      <td>D+2</td>\n",
       "      <td>829</td>\n",
       "      <td>chr1:2392126:2395783</td>\n",
       "      <td>disrupting</td>\n",
       "    </tr>\n",
       "    <tr>\n",
       "      <th>...</th>\n",
       "      <td>...</td>\n",
       "      <td>...</td>\n",
       "      <td>...</td>\n",
       "      <td>...</td>\n",
       "      <td>...</td>\n",
       "      <td>...</td>\n",
       "      <td>...</td>\n",
       "      <td>...</td>\n",
       "      <td>...</td>\n",
       "      <td>...</td>\n",
       "      <td>...</td>\n",
       "      <td>...</td>\n",
       "      <td>...</td>\n",
       "      <td>...</td>\n",
       "      <td>...</td>\n",
       "      <td>...</td>\n",
       "      <td>...</td>\n",
       "      <td>...</td>\n",
       "      <td>...</td>\n",
       "      <td>...</td>\n",
       "      <td>...</td>\n",
       "    </tr>\n",
       "    <tr>\n",
       "      <th>3359</th>\n",
       "      <td>chr9</td>\n",
       "      <td>136854337</td>\n",
       "      <td>chr9:136854337:SG</td>\n",
       "      <td>rs138147005</td>\n",
       "      <td>chr9:136854336:136854538:1948</td>\n",
       "      <td>MAMDC4</td>\n",
       "      <td>5.479996e-49</td>\n",
       "      <td>-48.261220</td>\n",
       "      <td>-2.670826</td>\n",
       "      <td>216.413221</td>\n",
       "      <td>...</td>\n",
       "      <td>1948</td>\n",
       "      <td>+</td>\n",
       "      <td>0.451143</td>\n",
       "      <td>True</td>\n",
       "      <td>1</td>\n",
       "      <td>-202</td>\n",
       "      <td>D+1</td>\n",
       "      <td>582</td>\n",
       "      <td>chr9:136854336:136854538</td>\n",
       "      <td>disrupting</td>\n",
       "    </tr>\n",
       "    <tr>\n",
       "      <th>3362</th>\n",
       "      <td>chr9</td>\n",
       "      <td>137013469</td>\n",
       "      <td>chr9:137013469:SG</td>\n",
       "      <td>rs201649376</td>\n",
       "      <td>chr9:137013318:137013470:1996</td>\n",
       "      <td>ABCA2</td>\n",
       "      <td>2.587326e-98</td>\n",
       "      <td>-97.587149</td>\n",
       "      <td>1.939596</td>\n",
       "      <td>442.856110</td>\n",
       "      <td>...</td>\n",
       "      <td>1996</td>\n",
       "      <td>-</td>\n",
       "      <td>0.004314</td>\n",
       "      <td>False</td>\n",
       "      <td>2</td>\n",
       "      <td>-151</td>\n",
       "      <td>D+2</td>\n",
       "      <td>719</td>\n",
       "      <td>chr9:137013318:137013470</td>\n",
       "      <td>creating</td>\n",
       "    </tr>\n",
       "    <tr>\n",
       "      <th>3364</th>\n",
       "      <td>chr9</td>\n",
       "      <td>137087017</td>\n",
       "      <td>chr9:137087017:SG</td>\n",
       "      <td>rs748924159</td>\n",
       "      <td>chr9:137087015:137088074:2023</td>\n",
       "      <td>MAN1B1</td>\n",
       "      <td>1.987007e-18</td>\n",
       "      <td>-17.701801</td>\n",
       "      <td>2.009470</td>\n",
       "      <td>76.703006</td>\n",
       "      <td>...</td>\n",
       "      <td>2023</td>\n",
       "      <td>+</td>\n",
       "      <td>0.000616</td>\n",
       "      <td>False</td>\n",
       "      <td>2</td>\n",
       "      <td>-1058</td>\n",
       "      <td>D+2</td>\n",
       "      <td>842</td>\n",
       "      <td>chr9:137087015:137088074</td>\n",
       "      <td>creating</td>\n",
       "    </tr>\n",
       "    <tr>\n",
       "      <th>3367</th>\n",
       "      <td>chr9</td>\n",
       "      <td>137464393</td>\n",
       "      <td>chr9:137464393:SG</td>\n",
       "      <td>rs202021065</td>\n",
       "      <td>chr9:137464391:137467316:2101</td>\n",
       "      <td>PNPLA7</td>\n",
       "      <td>2.544418e-20</td>\n",
       "      <td>-19.594412</td>\n",
       "      <td>3.071300</td>\n",
       "      <td>85.314876</td>\n",
       "      <td>...</td>\n",
       "      <td>2101</td>\n",
       "      <td>-</td>\n",
       "      <td>0.000448</td>\n",
       "      <td>False</td>\n",
       "      <td>2924</td>\n",
       "      <td>-2</td>\n",
       "      <td>A-2</td>\n",
       "      <td>1292</td>\n",
       "      <td>chr9:137464391:137467316</td>\n",
       "      <td>creating</td>\n",
       "    </tr>\n",
       "    <tr>\n",
       "      <th>3368</th>\n",
       "      <td>chr9</td>\n",
       "      <td>137587526</td>\n",
       "      <td>chr9:137587526:SG</td>\n",
       "      <td>rs780930254</td>\n",
       "      <td>chr9:137587525:137587716:2116</td>\n",
       "      <td>ZMYND19</td>\n",
       "      <td>1.844024e-83</td>\n",
       "      <td>-82.734233</td>\n",
       "      <td>3.046028</td>\n",
       "      <td>374.622420</td>\n",
       "      <td>...</td>\n",
       "      <td>2116</td>\n",
       "      <td>-</td>\n",
       "      <td>0.002185</td>\n",
       "      <td>False</td>\n",
       "      <td>191</td>\n",
       "      <td>-1</td>\n",
       "      <td>A-1</td>\n",
       "      <td>581</td>\n",
       "      <td>chr9:137587525:137587716</td>\n",
       "      <td>creating</td>\n",
       "    </tr>\n",
       "  </tbody>\n",
       "</table>\n",
       "<p>976 rows × 30 columns</p>\n",
       "</div>"
      ],
      "text/plain": [
       "     Chrom        Pos               Name        rsids  \\\n",
       "1     chr1    1049997    chr1:1049997:SG  rs113020870   \n",
       "2     chr1    1063202    chr1:1063202:SG    rs3813194   \n",
       "3     chr1    1082984    chr1:1082984:SG  rs139658850   \n",
       "6     chr1    1295596  chr1:1295596:XG:1          NaN   \n",
       "15    chr1    2392128    chr1:2392128:SG    rs2935277   \n",
       "...    ...        ...                ...          ...   \n",
       "3359  chr9  136854337  chr9:136854337:SG  rs138147005   \n",
       "3362  chr9  137013469  chr9:137013469:SG  rs201649376   \n",
       "3364  chr9  137087017  chr9:137087017:SG  rs748924159   \n",
       "3367  chr9  137464393  chr9:137464393:SG  rs202021065   \n",
       "3368  chr9  137587526  chr9:137587526:SG  rs780930254   \n",
       "\n",
       "                    splice_event_id      Gene_name           Pval  \\\n",
       "1           chr1:1049995:1050232:28           AGRN   2.669645e-19   \n",
       "2           chr1:1063201:1065829:32  RP11-465B22.3   3.131610e-82   \n",
       "3           chr1:1082982:1084352:34       C1orf159   1.295399e-20   \n",
       "6           chr1:1295595:1295735:57          ACAP3  7.036776e-126   \n",
       "15         chr1:2392126:2395783:172           RER1   0.000000e+00   \n",
       "...                             ...            ...            ...   \n",
       "3359  chr9:136854336:136854538:1948         MAMDC4   5.479996e-49   \n",
       "3362  chr9:137013318:137013470:1996          ABCA2   2.587326e-98   \n",
       "3364  chr9:137087015:137088074:2023         MAN1B1   1.987007e-18   \n",
       "3367  chr9:137464391:137467316:2101         PNPLA7   2.544418e-20   \n",
       "3368  chr9:137587525:137587716:2116        ZMYND19   1.844024e-83   \n",
       "\n",
       "       log10_Pval    Effect            X2  ...  ClusterID  Strand  \\\n",
       "1      -18.573547  2.983547     80.668346  ...         28       +   \n",
       "2      -81.504232  0.817176    368.973170  ...         32       +   \n",
       "3      -19.887596  1.527281     86.649857  ...         34       -   \n",
       "6     -125.152626  1.802991    569.549219  ...         57       -   \n",
       "15   -2516.184971 -1.028017  11577.651425  ...        172       +   \n",
       "...           ...       ...           ...  ...        ...     ...   \n",
       "3359   -48.261220 -2.670826    216.413221  ...       1948       +   \n",
       "3362   -97.587149  1.939596    442.856110  ...       1996       -   \n",
       "3364   -17.701801  2.009470     76.703006  ...       2023       +   \n",
       "3367   -19.594412  3.071300     85.314876  ...       2101       -   \n",
       "3368   -82.734233  3.046028    374.622420  ...       2116       -   \n",
       "\n",
       "     jct_prevalence is_annotated donor acceptor Pos_bin num_tests  \\\n",
       "1          0.000504        False     2     -236     D+2      1060   \n",
       "2          0.037147         True     1    -2628     D+1       686   \n",
       "3          0.001065        False  1369       -2     A-2      1058   \n",
       "6          0.006163        False   140       -1     A-1       900   \n",
       "15         0.811968        False     2    -3656     D+2       829   \n",
       "...             ...          ...   ...      ...     ...       ...   \n",
       "3359       0.451143         True     1     -202     D+1       582   \n",
       "3362       0.004314        False     2     -151     D+2       719   \n",
       "3364       0.000616        False     2    -1058     D+2       842   \n",
       "3367       0.000448        False  2924       -2     A-2      1292   \n",
       "3368       0.002185        False   191       -1     A-1       581   \n",
       "\n",
       "             splice_event_id_2  variant_type  \n",
       "1         chr1:1049995:1050232      creating  \n",
       "2         chr1:1063201:1065829      creating  \n",
       "3         chr1:1082982:1084352      creating  \n",
       "6         chr1:1295595:1295735      creating  \n",
       "15        chr1:2392126:2395783    disrupting  \n",
       "...                        ...           ...  \n",
       "3359  chr9:136854336:136854538    disrupting  \n",
       "3362  chr9:137013318:137013470      creating  \n",
       "3364  chr9:137087015:137088074      creating  \n",
       "3367  chr9:137464391:137467316      creating  \n",
       "3368  chr9:137587525:137587716      creating  \n",
       "\n",
       "[976 rows x 30 columns]"
      ]
     },
     "execution_count": 59,
     "metadata": {},
     "output_type": "execute_result"
    }
   ],
   "source": [
    "tmp[tmp['splice_event_id'].isin(to_check)]"
   ]
  },
  {
   "cell_type": "code",
   "execution_count": 60,
   "metadata": {},
   "outputs": [
    {
     "data": {
      "text/html": [
       "<div>\n",
       "<style scoped>\n",
       "    .dataframe tbody tr th:only-of-type {\n",
       "        vertical-align: middle;\n",
       "    }\n",
       "\n",
       "    .dataframe tbody tr th {\n",
       "        vertical-align: top;\n",
       "    }\n",
       "\n",
       "    .dataframe thead th {\n",
       "        text-align: right;\n",
       "    }\n",
       "</style>\n",
       "<table border=\"1\" class=\"dataframe\">\n",
       "  <thead>\n",
       "    <tr style=\"text-align: right;\">\n",
       "      <th></th>\n",
       "      <th>Chrom</th>\n",
       "      <th>Pos</th>\n",
       "      <th>Name</th>\n",
       "      <th>rsids</th>\n",
       "      <th>splice_event_id</th>\n",
       "      <th>Gene_name</th>\n",
       "      <th>Pval</th>\n",
       "      <th>log10_Pval</th>\n",
       "      <th>Effect</th>\n",
       "      <th>X2</th>\n",
       "      <th>...</th>\n",
       "      <th>ClusterID</th>\n",
       "      <th>Strand</th>\n",
       "      <th>jct_prevalence</th>\n",
       "      <th>is_annotated</th>\n",
       "      <th>donor</th>\n",
       "      <th>acceptor</th>\n",
       "      <th>Pos_bin</th>\n",
       "      <th>num_tests</th>\n",
       "      <th>splice_event_id_2</th>\n",
       "      <th>variant_type</th>\n",
       "    </tr>\n",
       "  </thead>\n",
       "  <tbody>\n",
       "    <tr>\n",
       "      <th>3359</th>\n",
       "      <td>chr9</td>\n",
       "      <td>136854337</td>\n",
       "      <td>chr9:136854337:SG</td>\n",
       "      <td>rs138147005</td>\n",
       "      <td>chr9:136854336:136854538:1948</td>\n",
       "      <td>MAMDC4</td>\n",
       "      <td>5.479996e-49</td>\n",
       "      <td>-48.26122</td>\n",
       "      <td>-2.670826</td>\n",
       "      <td>216.413221</td>\n",
       "      <td>...</td>\n",
       "      <td>1948</td>\n",
       "      <td>+</td>\n",
       "      <td>0.451143</td>\n",
       "      <td>True</td>\n",
       "      <td>1</td>\n",
       "      <td>-202</td>\n",
       "      <td>D+1</td>\n",
       "      <td>582</td>\n",
       "      <td>chr9:136854336:136854538</td>\n",
       "      <td>disrupting</td>\n",
       "    </tr>\n",
       "  </tbody>\n",
       "</table>\n",
       "<p>1 rows × 30 columns</p>\n",
       "</div>"
      ],
      "text/plain": [
       "     Chrom        Pos               Name        rsids  \\\n",
       "3359  chr9  136854337  chr9:136854337:SG  rs138147005   \n",
       "\n",
       "                    splice_event_id Gene_name          Pval  log10_Pval  \\\n",
       "3359  chr9:136854336:136854538:1948    MAMDC4  5.479996e-49   -48.26122   \n",
       "\n",
       "        Effect          X2  ...  ClusterID  Strand jct_prevalence  \\\n",
       "3359 -2.670826  216.413221  ...       1948       +       0.451143   \n",
       "\n",
       "     is_annotated donor acceptor Pos_bin num_tests         splice_event_id_2  \\\n",
       "3359         True     1     -202     D+1       582  chr9:136854336:136854538   \n",
       "\n",
       "      variant_type  \n",
       "3359    disrupting  \n",
       "\n",
       "[1 rows x 30 columns]"
      ]
     },
     "execution_count": 60,
     "metadata": {},
     "output_type": "execute_result"
    }
   ],
   "source": [
    "tmp[tmp['splice_event_id']=='chr9:136854336:136854538:1948']"
   ]
  },
  {
   "cell_type": "code",
   "execution_count": 61,
   "metadata": {},
   "outputs": [
    {
     "data": {
      "text/html": [
       "<div>\n",
       "<style scoped>\n",
       "    .dataframe tbody tr th:only-of-type {\n",
       "        vertical-align: middle;\n",
       "    }\n",
       "\n",
       "    .dataframe tbody tr th {\n",
       "        vertical-align: top;\n",
       "    }\n",
       "\n",
       "    .dataframe thead th {\n",
       "        text-align: right;\n",
       "    }\n",
       "</style>\n",
       "<table border=\"1\" class=\"dataframe\">\n",
       "  <thead>\n",
       "    <tr style=\"text-align: right;\">\n",
       "      <th></th>\n",
       "      <th>Chrom</th>\n",
       "      <th>Pos</th>\n",
       "      <th>Name</th>\n",
       "      <th>rsids</th>\n",
       "      <th>splice_event_id</th>\n",
       "      <th>Gene_name</th>\n",
       "      <th>Pval</th>\n",
       "      <th>log10_Pval</th>\n",
       "      <th>Effect</th>\n",
       "      <th>X2</th>\n",
       "      <th>...</th>\n",
       "      <th>ClusterID</th>\n",
       "      <th>Strand</th>\n",
       "      <th>jct_prevalence</th>\n",
       "      <th>is_annotated</th>\n",
       "      <th>donor</th>\n",
       "      <th>acceptor</th>\n",
       "      <th>Pos_bin</th>\n",
       "      <th>num_tests</th>\n",
       "      <th>splice_event_id_2</th>\n",
       "      <th>variant_type</th>\n",
       "    </tr>\n",
       "  </thead>\n",
       "  <tbody>\n",
       "    <tr>\n",
       "      <th>3248</th>\n",
       "      <td>chr9</td>\n",
       "      <td>35829393</td>\n",
       "      <td>chr9:35829393:SG</td>\n",
       "      <td>rs2381409</td>\n",
       "      <td>chr9:35829391:35829876:421</td>\n",
       "      <td>TMEM8B</td>\n",
       "      <td>1.415976e-31</td>\n",
       "      <td>-30.848944</td>\n",
       "      <td>-0.744711</td>\n",
       "      <td>136.681031</td>\n",
       "      <td>...</td>\n",
       "      <td>421</td>\n",
       "      <td>+</td>\n",
       "      <td>0.036419</td>\n",
       "      <td>True</td>\n",
       "      <td>2</td>\n",
       "      <td>-484</td>\n",
       "      <td>D+2</td>\n",
       "      <td>612</td>\n",
       "      <td>chr9:35829391:35829876</td>\n",
       "      <td>disrupting</td>\n",
       "    </tr>\n",
       "  </tbody>\n",
       "</table>\n",
       "<p>1 rows × 30 columns</p>\n",
       "</div>"
      ],
      "text/plain": [
       "     Chrom       Pos              Name      rsids             splice_event_id  \\\n",
       "3248  chr9  35829393  chr9:35829393:SG  rs2381409  chr9:35829391:35829876:421   \n",
       "\n",
       "     Gene_name          Pval  log10_Pval    Effect          X2  ...  \\\n",
       "3248    TMEM8B  1.415976e-31  -30.848944 -0.744711  136.681031  ...   \n",
       "\n",
       "      ClusterID  Strand jct_prevalence is_annotated donor acceptor Pos_bin  \\\n",
       "3248        421       +       0.036419         True     2     -484     D+2   \n",
       "\n",
       "     num_tests       splice_event_id_2  variant_type  \n",
       "3248       612  chr9:35829391:35829876    disrupting  \n",
       "\n",
       "[1 rows x 30 columns]"
      ]
     },
     "execution_count": 61,
     "metadata": {},
     "output_type": "execute_result"
    }
   ],
   "source": [
    "tmp[tmp['splice_event_id']=='chr9:35829391:35829876:421']"
   ]
  },
  {
   "cell_type": "code",
   "execution_count": 62,
   "metadata": {},
   "outputs": [],
   "source": [
    "gtex_anno = pd.read_csv('/odinn/tmp/benediktj/Data/SplicePrediction-GTEX-V8/annotation_GTEX_v8.txt',sep='\\t',header=None)"
   ]
  },
  {
   "cell_type": "code",
   "execution_count": 63,
   "metadata": {},
   "outputs": [
    {
     "data": {
      "text/plain": [
       "array(['136852462,136853209,136853458,136853670,136853907,136854076,136854336,136854676,136854850,136855110,136855338,136855619,136855848,136856149,136856826,136857041,136857298,136857586,136857796,136858097,136858276,136858546,136858853,136859132,136859317,136860064,136853650,136853896,136854360,136856348,136856381,136856575,136857291,136858824,136859125'],\n",
       "      dtype=object)"
      ]
     },
     "execution_count": 63,
     "metadata": {},
     "output_type": "execute_result"
    }
   ],
   "source": [
    "gtex_anno[gtex_anno[0]=='MAMDC4'][8].values"
   ]
  },
  {
   "cell_type": "code",
   "execution_count": 64,
   "metadata": {},
   "outputs": [
    {
     "data": {
      "text/plain": [
       "array(['136853102,136853285,136853545,136853777,136853992,136854211,136854539,136854762,136854937,136855254,136855431,136855732,136856018,136856710,136856907,136857165,136857367,136857659,136857979,136858186,136858400,136858719,136859005,136859209,136859886,136860562,136853099,136853142,136853075,136853751,136854952,136855644,136856257,136856630,136856464,136856934'],\n",
       "      dtype=object)"
      ]
     },
     "execution_count": 64,
     "metadata": {},
     "output_type": "execute_result"
    }
   ],
   "source": [
    "gtex_anno[gtex_anno[0]=='MAMDC4'][9].values"
   ]
  },
  {
   "cell_type": "code",
   "execution_count": 65,
   "metadata": {},
   "outputs": [
    {
     "data": {
      "text/plain": [
       "array(['35829955,35834650,35835218,35841267,35841794,35842717,35846068,35846381,35846611,35846995,35852973,35853257,35825895,35828832,35828944,35832753,35833555,35834378,35835441,35838232,35843531,35845829,35845885,35846073,35854112'],\n",
       "      dtype=object)"
      ]
     },
     "execution_count": 65,
     "metadata": {},
     "output_type": "execute_result"
    }
   ],
   "source": [
    "gtex_anno[gtex_anno[0]=='TMEM8B'][8].values"
   ]
  },
  {
   "cell_type": "code",
   "execution_count": 66,
   "metadata": {},
   "outputs": [
    {
     "data": {
      "text/plain": [
       "array(['35834461,35835011,35841134,35841526,35842392,35845975,35846258,35846469,35846817,35852827,35853141,35853505,35832600,35834531,35835288,35838178,35841541,35841630,35845708,35845808,35843365,35845736,35849535,35853980,35853509,35894803,35863791'],\n",
       "      dtype=object)"
      ]
     },
     "execution_count": 66,
     "metadata": {},
     "output_type": "execute_result"
    }
   ],
   "source": [
    "gtex_anno[gtex_anno[0]=='TMEM8B'][9].values"
   ]
  }
 ],
 "metadata": {
  "kernelspec": {
   "display_name": "Python 3 (ipykernel)",
   "language": "python",
   "name": "python3"
  },
  "language_info": {
   "codemirror_mode": {
    "name": "ipython",
    "version": 3
   },
   "file_extension": ".py",
   "mimetype": "text/x-python",
   "name": "python",
   "nbconvert_exporter": "python",
   "pygments_lexer": "ipython3",
   "version": "3.8.12"
  }
 },
 "nbformat": 4,
 "nbformat_minor": 4
}
