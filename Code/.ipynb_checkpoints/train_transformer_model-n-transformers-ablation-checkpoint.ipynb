{
 "cells": [
  {
   "cell_type": "code",
   "execution_count": 1,
   "metadata": {},
   "outputs": [],
   "source": [
    "import numpy as np\n",
    "import sys\n",
    "import time\n",
    "import h5py\n",
    "from tqdm import tqdm\n",
    "\n",
    "import numpy as np\n",
    "import re\n",
    "from math import ceil\n",
    "from sklearn.metrics import average_precision_score\n",
    "from torch.utils.data import Dataset\n",
    "import torch\n",
    "import torch.nn as nn\n",
    "import pandas as pd\n",
    "import matplotlib.pyplot as plt\n",
    "import pickle\n",
    "#import pickle5 as pickle\n",
    "\n",
    "from sklearn.model_selection import train_test_split\n",
    "\n",
    "from scipy.sparse import load_npz\n",
    "from glob import glob\n",
    "\n",
    "from transformers import get_constant_schedule_with_warmup\n",
    "from sklearn.metrics import precision_score,recall_score,accuracy_score\n",
    "import copy\n",
    "\n",
    "from src.train import trainModel\n",
    "from src.dataloader import getData,spliceDataset,h5pyDataset,collate_fn\n",
    "from src.weight_init import keras_init\n",
    "from src.losses import categorical_crossentropy_2d\n",
    "from src.models import SpliceFormer\n",
    "from src.evaluation_metrics import print_topl_statistics\n",
    "#import tensorflow as tf"
   ]
  },
  {
   "cell_type": "code",
   "execution_count": 2,
   "metadata": {},
   "outputs": [
    {
     "name": "stdout",
     "output_type": "stream",
     "text": [
      "Mon Jun 13 15:22:44 2022       \n",
      "+-----------------------------------------------------------------------------+\n",
      "| NVIDIA-SMI 450.80.02    Driver Version: 450.80.02    CUDA Version: 11.4     |\n",
      "|-------------------------------+----------------------+----------------------+\n",
      "| GPU  Name        Persistence-M| Bus-Id        Disp.A | Volatile Uncorr. ECC |\n",
      "| Fan  Temp  Perf  Pwr:Usage/Cap|         Memory-Usage | GPU-Util  Compute M. |\n",
      "|                               |                      |               MIG M. |\n",
      "|===============================+======================+======================|\n",
      "|   0  Tesla V100-SXM2...  On   | 00000000:06:00.0 Off |                    0 |\n",
      "| N/A   32C    P0    54W / 300W |      0MiB / 32510MiB |      0%      Default |\n",
      "|                               |                      |                  N/A |\n",
      "+-------------------------------+----------------------+----------------------+\n",
      "|   1  Tesla V100-SXM2...  On   | 00000000:07:00.0 Off |                    0 |\n",
      "| N/A   34C    P0    42W / 300W |      0MiB / 32510MiB |      0%      Default |\n",
      "|                               |                      |                  N/A |\n",
      "+-------------------------------+----------------------+----------------------+\n",
      "|   2  Tesla V100-SXM2...  On   | 00000000:0A:00.0 Off |                    0 |\n",
      "| N/A   35C    P0    42W / 300W |      0MiB / 32510MiB |      0%      Default |\n",
      "|                               |                      |                  N/A |\n",
      "+-------------------------------+----------------------+----------------------+\n",
      "|   3  Tesla V100-SXM2...  On   | 00000000:0B:00.0 Off |                    0 |\n",
      "| N/A   33C    P0    43W / 300W |      0MiB / 32510MiB |      0%      Default |\n",
      "|                               |                      |                  N/A |\n",
      "+-------------------------------+----------------------+----------------------+\n",
      "|   4  Tesla V100-SXM2...  On   | 00000000:85:00.0 Off |                    0 |\n",
      "| N/A   34C    P0    43W / 300W |      0MiB / 32510MiB |      0%      Default |\n",
      "|                               |                      |                  N/A |\n",
      "+-------------------------------+----------------------+----------------------+\n",
      "|   5  Tesla V100-SXM2...  On   | 00000000:86:00.0 Off |                    0 |\n",
      "| N/A   35C    P0    42W / 300W |      0MiB / 32510MiB |      0%      Default |\n",
      "|                               |                      |                  N/A |\n",
      "+-------------------------------+----------------------+----------------------+\n",
      "|   6  Tesla V100-SXM2...  On   | 00000000:89:00.0 Off |                    0 |\n",
      "| N/A   36C    P0    44W / 300W |      0MiB / 32510MiB |      0%      Default |\n",
      "|                               |                      |                  N/A |\n",
      "+-------------------------------+----------------------+----------------------+\n",
      "|   7  Tesla V100-SXM2...  On   | 00000000:8A:00.0 Off |                    0 |\n",
      "| N/A   34C    P0    46W / 300W |      0MiB / 32510MiB |      0%      Default |\n",
      "|                               |                      |                  N/A |\n",
      "+-------------------------------+----------------------+----------------------+\n",
      "                                                                               \n",
      "+-----------------------------------------------------------------------------+\n",
      "| Processes:                                                                  |\n",
      "|  GPU   GI   CI        PID   Type   Process name                  GPU Memory |\n",
      "|        ID   ID                                                   Usage      |\n",
      "|=============================================================================|\n",
      "|  No running processes found                                                 |\n",
      "+-----------------------------------------------------------------------------+\n"
     ]
    }
   ],
   "source": [
    "!nvidia-smi"
   ]
  },
  {
   "cell_type": "code",
   "execution_count": 3,
   "metadata": {},
   "outputs": [],
   "source": [
    "#!pip install pickle5"
   ]
  },
  {
   "cell_type": "code",
   "execution_count": 4,
   "metadata": {},
   "outputs": [],
   "source": [
    "rng = np.random.default_rng(23673)"
   ]
  },
  {
   "cell_type": "code",
   "execution_count": 5,
   "metadata": {},
   "outputs": [],
   "source": [
    "#gtf = None"
   ]
  },
  {
   "cell_type": "code",
   "execution_count": 6,
   "metadata": {},
   "outputs": [],
   "source": [
    "L = 32\n",
    "N_GPUS = 8\n",
    "k = 1\n",
    "# Hyper-parameters:\n",
    "# L: Number of convolution kernels\n",
    "# W: Convolution window size in each residual unit\n",
    "# AR: Atrous rate in each residual unit\n",
    "\n",
    "W = np.asarray([11, 11, 11, 11, 11, 11, 11, 11,\n",
    "                21, 21, 21, 21, 41, 41, 41, 41])\n",
    "AR = np.asarray([1, 1, 1, 1, 4, 4, 4, 4,\n",
    "                 10, 10, 10, 10, 25, 25, 25, 25])\n",
    "BATCH_SIZE = k*6*N_GPUS\n",
    "\n",
    "\n",
    "CL = 2 * np.sum(AR*(W-1))"
   ]
  },
  {
   "cell_type": "code",
   "execution_count": 7,
   "metadata": {},
   "outputs": [],
   "source": [
    "data_dir = '/odinn/tmp/benediktj/Data/SplicePrediction-050422'\n",
    "setType = 'train'\n",
    "annotation, transcriptToLabel, seqData = getData(data_dir, setType)"
   ]
  },
  {
   "cell_type": "code",
   "execution_count": 8,
   "metadata": {},
   "outputs": [],
   "source": [
    "# Maximum nucleotide context length (CL_max/2 on either side of the \n",
    "# position of interest)\n",
    "# CL_max should be an even number\n",
    "# Sequence length of SpliceAIs (SL+CL will be the input length and\n",
    "# SL will be the output length)\n",
    "\n",
    "SL=5000\n",
    "CL_max=40000"
   ]
  },
  {
   "cell_type": "code",
   "execution_count": 9,
   "metadata": {},
   "outputs": [],
   "source": [
    "assert CL_max % 2 == 0"
   ]
  },
  {
   "cell_type": "code",
   "execution_count": 10,
   "metadata": {},
   "outputs": [],
   "source": [
    "train_gene, validation_gene = train_test_split(annotation['gene'].drop_duplicates(),test_size=.1,random_state=435)\n",
    "annotation_train = annotation[annotation['gene'].isin(train_gene)]\n",
    "annotation_validation = annotation[annotation['gene'].isin(validation_gene)]"
   ]
  },
  {
   "cell_type": "code",
   "execution_count": 11,
   "metadata": {},
   "outputs": [],
   "source": [
    "train_dataset = spliceDataset(annotation_train,transcriptToLabel,SL,CL_max)\n",
    "val_dataset = spliceDataset(annotation_validation,transcriptToLabel,SL,CL_max)\n",
    "train_dataset.seqData = seqData\n",
    "val_dataset.seqData = seqData\n",
    "\n",
    "train_loader = torch.utils.data.DataLoader(train_dataset, batch_size=k*100, shuffle=True, num_workers=16,collate_fn=collate_fn, pin_memory=True)\n",
    "val_loader = torch.utils.data.DataLoader(val_dataset, batch_size=k*100, shuffle=False,collate_fn=collate_fn, num_workers=16)"
   ]
  },
  {
   "cell_type": "code",
   "execution_count": 12,
   "metadata": {
    "scrolled": true
   },
   "outputs": [
    {
     "name": "stderr",
     "output_type": "stream",
     "text": [
      "Epoch (train) 1/10: 100%|██████████████████████████████████████████████████████| 202/202 [27:50<00:00,  8.27s/it, accepor_recall=0.848, donor_recall=0.859, loss=0.000261, pred_l1_dist=0]\n"
     ]
    },
    {
     "name": "stdout",
     "output_type": "stream",
     "text": [
      "epoch: 1/10, train loss = 0.008282\n"
     ]
    },
    {
     "name": "stderr",
     "output_type": "stream",
     "text": [
      "Epoch (val) 1/10: 100%|██████████████████████████████████████████████████████████| 23/23 [02:42<00:00,  7.07s/it, accepor_recall=0.829, donor_recall=0.881, loss=0.000594, pred_l1_dist=0]\n"
     ]
    },
    {
     "name": "stdout",
     "output_type": "stream",
     "text": [
      "\n",
      "\u001b[1mAcceptor:\u001b[0m\n",
      "0.9345\t0.7971\t0.9426\t0.9756\t0.8544\t0.8962000012397766\t0.6025999784469604\t0.11940000206232071\t0.01860000006854534\t21432\n",
      "\n",
      "\u001b[1mDonor:\u001b[0m\n",
      "0.9433\t0.7879\t0.9356\t0.974\t0.8497\t0.9144999980926514\t0.722599983215332\t0.25099998712539673\t0.04800000041723251\t21432\n",
      "epoch: 1/10, val loss = 0.000513\n"
     ]
    },
    {
     "name": "stderr",
     "output_type": "stream",
     "text": [
      "Epoch (train) 2/10: 100%|██████████████████████████████████████████████████████| 202/202 [27:21<00:00,  8.13s/it, accepor_recall=0.889, donor_recall=0.901, loss=0.000196, pred_l1_dist=0]\n"
     ]
    },
    {
     "name": "stdout",
     "output_type": "stream",
     "text": [
      "epoch: 2/10, train loss = 0.000207\n"
     ]
    },
    {
     "name": "stderr",
     "output_type": "stream",
     "text": [
      "Epoch (val) 2/10: 100%|███████████████████████████████████████████████████████████| 23/23 [04:02<00:00, 10.55s/it, accepor_recall=0.929, donor_recall=0.944, loss=0.00036, pred_l1_dist=0]\n"
     ]
    },
    {
     "name": "stdout",
     "output_type": "stream",
     "text": [
      "\n",
      "\u001b[1mAcceptor:\u001b[0m\n",
      "0.9709\t0.8928\t0.9796\t0.9893\t0.9355\t0.9779000282287598\t0.7322999835014343\t0.048900000751018524\t0.006399999838322401\t21432\n",
      "\n",
      "\u001b[1mDonor:\u001b[0m\n",
      "0.9723\t0.9044\t0.9862\t0.9936\t0.9428\t0.9797000288963318\t0.7854999899864197\t0.05490000173449516\t0.006399999838322401\t21432\n",
      "epoch: 2/10, val loss = 0.000284\n"
     ]
    },
    {
     "name": "stderr",
     "output_type": "stream",
     "text": [
      "Epoch (train) 3/10: 100%|██████████████████████████████████████████████████████| 202/202 [27:25<00:00,  8.15s/it, accepor_recall=0.913, donor_recall=0.923, loss=0.000177, pred_l1_dist=0]\n"
     ]
    },
    {
     "name": "stdout",
     "output_type": "stream",
     "text": [
      "epoch: 3/10, train loss = 0.000175\n"
     ]
    },
    {
     "name": "stderr",
     "output_type": "stream",
     "text": [
      "Epoch (val) 3/10: 100%|████████████████████████████████████████████████████████████| 23/23 [03:07<00:00,  8.13s/it, accepor_recall=0.883, donor_recall=0.918, loss=0.0003, pred_l1_dist=0]\n"
     ]
    },
    {
     "name": "stdout",
     "output_type": "stream",
     "text": [
      "\n",
      "\u001b[1mAcceptor:\u001b[0m\n",
      "0.9718\t0.8916\t0.9814\t0.9906\t0.9374\t0.9621000289916992\t0.5407000184059143\t0.014700000174343586\t0.0019000000320374966\t21432\n",
      "\n",
      "\u001b[1mDonor:\u001b[0m\n",
      "0.9743\t0.9018\t0.9856\t0.9938\t0.9437\t0.9785000085830688\t0.6620000004768372\t0.017400000244379044\t0.0017000000225380063\t21432\n",
      "epoch: 3/10, val loss = 0.000233\n"
     ]
    },
    {
     "name": "stderr",
     "output_type": "stream",
     "text": [
      "Epoch (train) 4/10: 100%|██████████████████████████████████████████████████████| 202/202 [27:21<00:00,  8.13s/it, accepor_recall=0.926, donor_recall=0.932, loss=0.000157, pred_l1_dist=0]\n"
     ]
    },
    {
     "name": "stdout",
     "output_type": "stream",
     "text": [
      "epoch: 4/10, train loss = 0.000151\n"
     ]
    },
    {
     "name": "stderr",
     "output_type": "stream",
     "text": [
      "Epoch (val) 4/10: 100%|██████████████████████████████████████████████████████████| 23/23 [02:27<00:00,  6.43s/it, accepor_recall=0.904, donor_recall=0.924, loss=0.000274, pred_l1_dist=0]\n"
     ]
    },
    {
     "name": "stdout",
     "output_type": "stream",
     "text": [
      "\n",
      "\u001b[1mAcceptor:\u001b[0m\n",
      "0.9732\t0.9083\t0.9848\t0.9918\t0.9452\t0.983299970626831\t0.58160001039505\t0.005100000184029341\t0.0006000000284984708\t21432\n",
      "\n",
      "\u001b[1mDonor:\u001b[0m\n",
      "0.9761\t0.9126\t0.9889\t0.9946\t0.9524\t0.9865999817848206\t0.6202999949455261\t0.005400000140070915\t0.0006000000284984708\t21432\n",
      "epoch: 4/10, val loss = 0.000210\n"
     ]
    },
    {
     "name": "stderr",
     "output_type": "stream",
     "text": [
      "Epoch (train) 5/10: 100%|██████████████████████████████████████████████████████| 202/202 [27:21<00:00,  8.13s/it, accepor_recall=0.935, donor_recall=0.942, loss=0.000145, pred_l1_dist=0]\n"
     ]
    },
    {
     "name": "stdout",
     "output_type": "stream",
     "text": [
      "epoch: 5/10, train loss = 0.000137\n"
     ]
    },
    {
     "name": "stderr",
     "output_type": "stream",
     "text": [
      "Epoch (val) 5/10: 100%|██████████████████████████████████████████████████████████| 23/23 [03:13<00:00,  8.40s/it, accepor_recall=0.893, donor_recall=0.912, loss=0.000267, pred_l1_dist=0]\n"
     ]
    },
    {
     "name": "stdout",
     "output_type": "stream",
     "text": [
      "\n",
      "\u001b[1mAcceptor:\u001b[0m\n",
      "0.9734\t0.9129\t0.9831\t0.9911\t0.9459\t0.965499997138977\t0.42809998989105225\t0.004800000227987766\t0.000699999975040555\t21432\n",
      "\n",
      "\u001b[1mDonor:\u001b[0m\n",
      "0.9723\t0.9163\t0.988\t0.9942\t0.9497\t0.9641000032424927\t0.4797999858856201\t0.00430000014603138\t0.0005000000237487257\t21432\n",
      "epoch: 5/10, val loss = 0.000202\n"
     ]
    },
    {
     "name": "stderr",
     "output_type": "stream",
     "text": [
      "Epoch (train) 6/10: 100%|██████████████████████████████████████████████████████| 202/202 [27:25<00:00,  8.14s/it, accepor_recall=0.942, donor_recall=0.946, loss=0.000125, pred_l1_dist=0]\n"
     ]
    },
    {
     "name": "stdout",
     "output_type": "stream",
     "text": [
      "epoch: 6/10, train loss = 0.000127\n"
     ]
    },
    {
     "name": "stderr",
     "output_type": "stream",
     "text": [
      "Epoch (val) 6/10: 100%|██████████████████████████████████████████████████████████| 23/23 [03:17<00:00,  8.57s/it, accepor_recall=0.921, donor_recall=0.927, loss=0.000258, pred_l1_dist=0]\n"
     ]
    },
    {
     "name": "stdout",
     "output_type": "stream",
     "text": [
      "\n",
      "\u001b[1mAcceptor:\u001b[0m\n",
      "0.9742\t0.9203\t0.9858\t0.9923\t0.9506\t0.9904999732971191\t0.5730999708175659\t0.0035000001080334187\t0.0005000000237487257\t21432\n",
      "\n",
      "\u001b[1mDonor:\u001b[0m\n",
      "0.9739\t0.9237\t0.99\t0.9949\t0.9546\t0.9850000143051147\t0.5508999824523926\t0.003100000089034438\t0.00039999998989515007\t21432\n",
      "epoch: 6/10, val loss = 0.000193\n"
     ]
    },
    {
     "name": "stderr",
     "output_type": "stream",
     "text": [
      "Epoch (train) 7/10: 100%|██████████████████████████████████████████████████████| 202/202 [27:23<00:00,  8.14s/it, accepor_recall=0.939, donor_recall=0.946, loss=0.000109, pred_l1_dist=0]\n"
     ]
    },
    {
     "name": "stdout",
     "output_type": "stream",
     "text": [
      "epoch: 7/10, train loss = 0.000118\n"
     ]
    },
    {
     "name": "stderr",
     "output_type": "stream",
     "text": [
      "Epoch (val) 7/10: 100%|████████████████████████████████████████████████████████████| 23/23 [03:01<00:00,  7.88s/it, accepor_recall=0.9, donor_recall=0.914, loss=0.000256, pred_l1_dist=0]\n"
     ]
    },
    {
     "name": "stdout",
     "output_type": "stream",
     "text": [
      "\n",
      "\u001b[1mAcceptor:\u001b[0m\n",
      "0.9751\t0.9214\t0.9851\t0.992\t0.9503\t0.9710000157356262\t0.4230000078678131\t0.003000000026077032\t0.0005000000237487257\t21432\n",
      "\n",
      "\u001b[1mDonor:\u001b[0m\n",
      "0.975\t0.9257\t0.9891\t0.9948\t0.9538\t0.9750000238418579\t0.4634999930858612\t0.002199999988079071\t0.0003000000142492354\t21432\n",
      "epoch: 7/10, val loss = 0.000190\n"
     ]
    },
    {
     "name": "stderr",
     "output_type": "stream",
     "text": [
      "Epoch (train) 8/10: 100%|████████████████████████████████████████████████████████| 202/202 [27:28<00:00,  8.16s/it, accepor_recall=0.953, donor_recall=0.96, loss=9.45e-5, pred_l1_dist=0]\n"
     ]
    },
    {
     "name": "stdout",
     "output_type": "stream",
     "text": [
      "epoch: 8/10, train loss = 0.000096\n"
     ]
    },
    {
     "name": "stderr",
     "output_type": "stream",
     "text": [
      "Epoch (val) 8/10: 100%|██████████████████████████████████████████████████████████| 23/23 [02:17<00:00,  5.97s/it, accepor_recall=0.904, donor_recall=0.909, loss=0.000248, pred_l1_dist=0]\n"
     ]
    },
    {
     "name": "stdout",
     "output_type": "stream",
     "text": [
      "\n",
      "\u001b[1mAcceptor:\u001b[0m\n",
      "0.9756\t0.9252\t0.9862\t0.9924\t0.9524\t0.973800003528595\t0.4223000109195709\t0.0017999999690800905\t0.0003000000142492354\t21432\n",
      "\n",
      "\u001b[1mDonor:\u001b[0m\n",
      "0.9753\t0.9293\t0.9908\t0.9953\t0.9577\t0.9704999923706055\t0.3928000032901764\t0.0012000000569969416\t0.00019999999494757503\t21432\n",
      "epoch: 8/10, val loss = 0.000185\n"
     ]
    },
    {
     "name": "stderr",
     "output_type": "stream",
     "text": [
      "Epoch (train) 9/10: 100%|███████████████████████████████████████████████████████| 202/202 [27:19<00:00,  8.12s/it, accepor_recall=0.961, donor_recall=0.965, loss=8.99e-5, pred_l1_dist=0]\n"
     ]
    },
    {
     "name": "stdout",
     "output_type": "stream",
     "text": [
      "epoch: 9/10, train loss = 0.000082\n"
     ]
    },
    {
     "name": "stderr",
     "output_type": "stream",
     "text": [
      "Epoch (val) 9/10: 100%|██████████████████████████████████████████████████████████| 23/23 [03:40<00:00,  9.59s/it, accepor_recall=0.925, donor_recall=0.929, loss=0.000253, pred_l1_dist=0]\n"
     ]
    },
    {
     "name": "stdout",
     "output_type": "stream",
     "text": [
      "\n",
      "\u001b[1mAcceptor:\u001b[0m\n",
      "0.9733\t0.9246\t0.9863\t0.992\t0.9503\t0.9833999872207642\t0.5942999720573425\t0.0020000000949949026\t0.0003000000142492354\t21432\n",
      "\n",
      "\u001b[1mDonor:\u001b[0m\n",
      "0.9721\t0.9285\t0.9909\t0.9952\t0.9549\t0.9819999933242798\t0.5755000114440918\t0.0010999999940395355\t9.999999747378752e-05\t21432\n",
      "epoch: 9/10, val loss = 0.000186\n"
     ]
    },
    {
     "name": "stderr",
     "output_type": "stream",
     "text": [
      "Epoch (train) 10/10: 100%|██████████████████████████████████████████████████████| 202/202 [27:20<00:00,  8.12s/it, accepor_recall=0.964, donor_recall=0.967, loss=7.52e-5, pred_l1_dist=0]\n"
     ]
    },
    {
     "name": "stdout",
     "output_type": "stream",
     "text": [
      "epoch: 10/10, train loss = 0.000073\n"
     ]
    },
    {
     "name": "stderr",
     "output_type": "stream",
     "text": [
      "Epoch (val) 10/10: 100%|█████████████████████████████████████████████████████████| 23/23 [03:38<00:00,  9.50s/it, accepor_recall=0.909, donor_recall=0.919, loss=0.000265, pred_l1_dist=0]\n"
     ]
    },
    {
     "name": "stdout",
     "output_type": "stream",
     "text": [
      "\n",
      "\u001b[1mAcceptor:\u001b[0m\n",
      "0.9753\t0.9261\t0.9841\t0.9905\t0.9498\t0.9869999885559082\t0.41990000009536743\t0.0013000000035390258\t0.00019999999494757503\t21432\n",
      "\n",
      "\u001b[1mDonor:\u001b[0m\n",
      "0.9736\t0.9296\t0.9892\t0.9938\t0.9547\t0.9876999855041504\t0.4611000120639801\t0.0010999999940395355\t0.00019999999494757503\t21432\n",
      "epoch: 10/10, val loss = 0.000195\n"
     ]
    },
    {
     "data": {
      "image/png": "[encoded data removed]",
      "text/plain": [
       "<Figure size 432x288 with 1 Axes>"
      ]
     },
     "metadata": {
      "needs_background": "light"
     },
     "output_type": "display_data"
    },
    {
     "name": "stderr",
     "output_type": "stream",
     "text": [
      "Epoch (train) 1/10: 100%|███████████████████████████████████████████████████████| 202/202 [31:12<00:00,  9.27s/it, accepor_recall=0.858, donor_recall=0.88, loss=0.000227, pred_l1_dist=0]\n"
     ]
    },
    {
     "name": "stdout",
     "output_type": "stream",
     "text": [
      "epoch: 1/10, train loss = 0.007775\n"
     ]
    },
    {
     "name": "stderr",
     "output_type": "stream",
     "text": [
      "Epoch (val) 1/10: 100%|██████████████████████████████████████████████████████████| 23/23 [04:22<00:00, 11.41s/it, accepor_recall=0.909, donor_recall=0.914, loss=0.000354, pred_l1_dist=0]\n"
     ]
    },
    {
     "name": "stdout",
     "output_type": "stream",
     "text": [
      "\n",
      "\u001b[1mAcceptor:\u001b[0m\n",
      "0.9686\t0.8771\t0.9758\t0.9879\t0.9259\t0.9735000133514404\t0.6891999840736389\t0.03880000114440918\t0.0044999998062849045\t21432\n",
      "\n",
      "\u001b[1mDonor:\u001b[0m\n",
      "0.972\t0.8922\t0.9813\t0.9923\t0.936\t0.9678999781608582\t0.6626999974250793\t0.037700001150369644\t0.004399999976158142\t21432\n",
      "epoch: 1/10, val loss = 0.000280\n"
     ]
    },
    {
     "name": "stderr",
     "output_type": "stream",
     "text": [
      "Epoch (train) 2/10: 100%|████████████████████████████████████████████████████████| 202/202 [31:14<00:00,  9.28s/it, accepor_recall=0.903, donor_recall=0.91, loss=0.00018, pred_l1_dist=0]\n"
     ]
    },
    {
     "name": "stdout",
     "output_type": "stream",
     "text": [
      "epoch: 2/10, train loss = 0.000193\n"
     ]
    },
    {
     "name": "stderr",
     "output_type": "stream",
     "text": [
      "Epoch (val) 2/10: 100%|██████████████████████████████████████████████████████████| 23/23 [04:19<00:00, 11.28s/it, accepor_recall=0.869, donor_recall=0.863, loss=0.000316, pred_l1_dist=0]\n"
     ]
    },
    {
     "name": "stdout",
     "output_type": "stream",
     "text": [
      "\n",
      "\u001b[1mAcceptor:\u001b[0m\n",
      "0.9674\t0.8901\t0.9802\t0.9893\t0.9326\t0.9434000253677368\t0.41370001435279846\t0.0071000000461936\t0.0007999999797903001\t21432\n",
      "\n",
      "\u001b[1mDonor:\u001b[0m\n",
      "0.9696\t0.8958\t0.985\t0.9924\t0.9391\t0.9399999976158142\t0.3603000044822693\t0.0052999998442828655\t0.000699999975040555\t21432\n",
      "epoch: 2/10, val loss = 0.000240\n"
     ]
    },
    {
     "name": "stderr",
     "output_type": "stream",
     "text": [
      "Epoch (train) 3/10: 100%|██████████████████████████████████████████████████████| 202/202 [30:47<00:00,  9.14s/it, accepor_recall=0.915, donor_recall=0.923, loss=0.000175, pred_l1_dist=0]\n"
     ]
    },
    {
     "name": "stdout",
     "output_type": "stream",
     "text": [
      "epoch: 3/10, train loss = 0.000166\n"
     ]
    },
    {
     "name": "stderr",
     "output_type": "stream",
     "text": [
      "Epoch (val) 3/10: 100%|██████████████████████████████████████████████████████████| 23/23 [04:15<00:00, 11.09s/it, accepor_recall=0.816, donor_recall=0.862, loss=0.000294, pred_l1_dist=0]\n"
     ]
    },
    {
     "name": "stdout",
     "output_type": "stream",
     "text": [
      "\n",
      "\u001b[1mAcceptor:\u001b[0m\n",
      "0.9742\t0.9059\t0.9811\t0.9898\t0.9419\t0.9480000138282776\t0.21400000154972076\t0.004100000020116568\t0.0008999999845400453\t21432\n",
      "\n",
      "\u001b[1mDonor:\u001b[0m\n",
      "0.9726\t0.9139\t0.9873\t0.9945\t0.9489\t0.972100019454956\t0.32839998602867126\t0.002899999963119626\t0.00039999998989515007\t21432\n",
      "epoch: 3/10, val loss = 0.000224\n"
     ]
    },
    {
     "name": "stderr",
     "output_type": "stream",
     "text": [
      "Epoch (train) 4/10: 100%|██████████████████████████████████████████████████████| 202/202 [30:49<00:00,  9.16s/it, accepor_recall=0.929, donor_recall=0.935, loss=0.000135, pred_l1_dist=0]\n"
     ]
    },
    {
     "name": "stdout",
     "output_type": "stream",
     "text": [
      "epoch: 4/10, train loss = 0.000147\n"
     ]
    },
    {
     "name": "stderr",
     "output_type": "stream",
     "text": [
      "Epoch (val) 4/10: 100%|██████████████████████████████████████████████████████████| 23/23 [04:16<00:00, 11.15s/it, accepor_recall=0.934, donor_recall=0.922, loss=0.000277, pred_l1_dist=0]\n"
     ]
    },
    {
     "name": "stdout",
     "output_type": "stream",
     "text": [
      "\n",
      "\u001b[1mAcceptor:\u001b[0m\n",
      "0.9757\t0.9132\t0.9866\t0.9923\t0.9489\t0.9884999990463257\t0.7602999806404114\t0.016200000420212746\t0.002400000113993883\t21432\n",
      "\n",
      "\u001b[1mDonor:\u001b[0m\n",
      "0.9746\t0.9181\t0.9904\t0.9951\t0.9533\t0.9776999950408936\t0.5914999842643738\t0.005900000222027302\t0.0007999999797903001\t21432\n",
      "epoch: 4/10, val loss = 0.000208\n"
     ]
    },
    {
     "name": "stderr",
     "output_type": "stream",
     "text": [
      "Epoch (train) 5/10: 100%|██████████████████████████████████████████████████████| 202/202 [30:56<00:00,  9.19s/it, accepor_recall=0.935, donor_recall=0.941, loss=0.000136, pred_l1_dist=0]\n"
     ]
    },
    {
     "name": "stdout",
     "output_type": "stream",
     "text": [
      "epoch: 5/10, train loss = 0.000134\n"
     ]
    },
    {
     "name": "stderr",
     "output_type": "stream",
     "text": [
      "Epoch (val) 5/10: 100%|██████████████████████████████████████████████████████████| 23/23 [04:04<00:00, 10.63s/it, accepor_recall=0.911, donor_recall=0.927, loss=0.000255, pred_l1_dist=0]\n"
     ]
    },
    {
     "name": "stdout",
     "output_type": "stream",
     "text": [
      "\n",
      "\u001b[1mAcceptor:\u001b[0m\n",
      "0.9758\t0.9168\t0.9852\t0.9927\t0.9502\t0.9825999736785889\t0.5759999752044678\t0.005200000014156103\t0.0007999999797903001\t21432\n",
      "\n",
      "\u001b[1mDonor:\u001b[0m\n",
      "0.9731\t0.9234\t0.9904\t0.995\t0.9539\t0.9854000210762024\t0.5810999870300293\t0.006099999882280827\t0.0008999999845400453\t21432\n",
      "epoch: 5/10, val loss = 0.000194\n"
     ]
    },
    {
     "name": "stderr",
     "output_type": "stream",
     "text": [
      "Epoch (train) 6/10: 100%|██████████████████████████████████████████████████████| 202/202 [30:51<00:00,  9.17s/it, accepor_recall=0.944, donor_recall=0.942, loss=0.000115, pred_l1_dist=0]\n"
     ]
    },
    {
     "name": "stdout",
     "output_type": "stream",
     "text": [
      "epoch: 6/10, train loss = 0.000125\n"
     ]
    },
    {
     "name": "stderr",
     "output_type": "stream",
     "text": [
      "Epoch (val) 6/10: 100%|███████████████████████████████████████████████████████████| 23/23 [04:17<00:00, 11.21s/it, accepor_recall=0.879, donor_recall=0.91, loss=0.000258, pred_l1_dist=0]\n"
     ]
    },
    {
     "name": "stdout",
     "output_type": "stream",
     "text": [
      "\n",
      "\u001b[1mAcceptor:\u001b[0m\n",
      "0.9755\t0.9203\t0.9871\t0.993\t0.9515\t0.9549999833106995\t0.3278999924659729\t0.0026000000070780516\t0.00039999998989515007\t21432\n",
      "\n",
      "\u001b[1mDonor:\u001b[0m\n",
      "0.9748\t0.9229\t0.991\t0.9952\t0.9547\t0.9715999960899353\t0.41190001368522644\t0.0026000000070780516\t0.00039999998989515007\t21432\n",
      "epoch: 6/10, val loss = 0.000193\n"
     ]
    },
    {
     "name": "stderr",
     "output_type": "stream",
     "text": [
      "Epoch (train) 7/10: 100%|██████████████████████████████████████████████████████| 202/202 [30:33<00:00,  9.08s/it, accepor_recall=0.948, donor_recall=0.952, loss=0.000111, pred_l1_dist=0]\n"
     ]
    },
    {
     "name": "stdout",
     "output_type": "stream",
     "text": [
      "epoch: 7/10, train loss = 0.000117\n"
     ]
    },
    {
     "name": "stderr",
     "output_type": "stream",
     "text": [
      "Epoch (val) 7/10: 100%|███████████████████████████████████████████████████████████| 23/23 [04:11<00:00, 10.92s/it, accepor_recall=0.865, donor_recall=0.895, loss=0.00026, pred_l1_dist=0]\n"
     ]
    },
    {
     "name": "stdout",
     "output_type": "stream",
     "text": [
      "\n",
      "\u001b[1mAcceptor:\u001b[0m\n",
      "0.9771\t0.9173\t0.9853\t0.9917\t0.9526\t0.960099995136261\t0.25760000944137573\t0.003000000026077032\t0.0006000000284984708\t21432\n",
      "\n",
      "\u001b[1mDonor:\u001b[0m\n",
      "0.9757\t0.9236\t0.9905\t0.9947\t0.9553\t0.9817000031471252\t0.4083999991416931\t0.002400000113993883\t0.00039999998989515007\t21432\n",
      "epoch: 7/10, val loss = 0.000198\n"
     ]
    },
    {
     "name": "stderr",
     "output_type": "stream",
     "text": [
      "Epoch (train) 8/10: 100%|███████████████████████████████████████████████████████| 202/202 [31:06<00:00,  9.24s/it, accepor_recall=0.958, donor_recall=0.958, loss=9.51e-5, pred_l1_dist=0]\n"
     ]
    },
    {
     "name": "stdout",
     "output_type": "stream",
     "text": [
      "epoch: 8/10, train loss = 0.000096\n"
     ]
    },
    {
     "name": "stderr",
     "output_type": "stream",
     "text": [
      "Epoch (val) 8/10: 100%|██████████████████████████████████████████████████████████| 23/23 [04:08<00:00, 10.80s/it, accepor_recall=0.926, donor_recall=0.946, loss=0.000243, pred_l1_dist=0]\n"
     ]
    },
    {
     "name": "stdout",
     "output_type": "stream",
     "text": [
      "\n",
      "\u001b[1mAcceptor:\u001b[0m\n",
      "0.9754\t0.9269\t0.9884\t0.994\t0.9553\t0.9825999736785889\t0.6055999994277954\t0.0031999999191612005\t0.0005000000237487257\t21432\n",
      "\n",
      "\u001b[1mDonor:\u001b[0m\n",
      "0.9736\t0.9289\t0.9916\t0.9957\t0.9572\t0.9902999997138977\t0.7303000092506409\t0.005200000014156103\t0.000699999975040555\t21432\n",
      "epoch: 8/10, val loss = 0.000183\n"
     ]
    },
    {
     "name": "stderr",
     "output_type": "stream",
     "text": [
      "Epoch (train) 9/10: 100%|███████████████████████████████████████████████████████| 202/202 [30:45<00:00,  9.13s/it, accepor_recall=0.966, donor_recall=0.969, loss=9.48e-5, pred_l1_dist=0]\n"
     ]
    },
    {
     "name": "stdout",
     "output_type": "stream",
     "text": [
      "epoch: 9/10, train loss = 0.000082\n"
     ]
    },
    {
     "name": "stderr",
     "output_type": "stream",
     "text": [
      "Epoch (val) 9/10: 100%|██████████████████████████████████████████████████████████| 23/23 [04:07<00:00, 10.74s/it, accepor_recall=0.914, donor_recall=0.925, loss=0.000234, pred_l1_dist=0]\n"
     ]
    },
    {
     "name": "stdout",
     "output_type": "stream",
     "text": [
      "\n",
      "\u001b[1mAcceptor:\u001b[0m\n",
      "0.978\t0.9312\t0.9885\t0.9937\t0.9568\t0.9872999787330627\t0.4569999873638153\t0.002199999988079071\t0.00039999998989515007\t21432\n",
      "\n",
      "\u001b[1mDonor:\u001b[0m\n",
      "0.977\t0.9338\t0.9916\t0.9953\t0.9598\t0.9858999848365784\t0.47209998965263367\t0.0017999999690800905\t0.0003000000142492354\t21432\n",
      "epoch: 9/10, val loss = 0.000175\n"
     ]
    },
    {
     "name": "stderr",
     "output_type": "stream",
     "text": [
      "Epoch (train) 10/10: 100%|███████████████████████████████████████████████████████| 202/202 [30:35<00:00,  9.09s/it, accepor_recall=0.969, donor_recall=0.972, loss=7.8e-5, pred_l1_dist=0]\n"
     ]
    },
    {
     "name": "stdout",
     "output_type": "stream",
     "text": [
      "epoch: 10/10, train loss = 0.000072\n"
     ]
    },
    {
     "name": "stderr",
     "output_type": "stream",
     "text": [
      "Epoch (val) 10/10: 100%|█████████████████████████████████████████████████████████| 23/23 [04:09<00:00, 10.85s/it, accepor_recall=0.912, donor_recall=0.918, loss=0.000247, pred_l1_dist=0]\n"
     ]
    },
    {
     "name": "stdout",
     "output_type": "stream",
     "text": [
      "\n",
      "\u001b[1mAcceptor:\u001b[0m\n",
      "0.9746\t0.9308\t0.9869\t0.9927\t0.9546\t0.9829000234603882\t0.4259999990463257\t0.0017999999690800905\t0.0003000000142492354\t21432\n",
      "\n",
      "\u001b[1mDonor:\u001b[0m\n",
      "0.9739\t0.9336\t0.9902\t0.9947\t0.9568\t0.9840999841690063\t0.39800000190734863\t0.0010999999940395355\t9.999999747378752e-05\t21432\n",
      "epoch: 10/10, val loss = 0.000185\n"
     ]
    },
    {
     "data": {
      "image/png": "[encoded data removed]",
      "text/plain": [
       "<Figure size 432x288 with 1 Axes>"
      ]
     },
     "metadata": {
      "needs_background": "light"
     },
     "output_type": "display_data"
    },
    {
     "name": "stderr",
     "output_type": "stream",
     "text": [
      "Epoch (train) 1/10: 100%|██████████████████████████████████████████████████████| 202/202 [36:08<00:00, 10.73s/it, accepor_recall=0.865, donor_recall=0.872, loss=0.000205, pred_l1_dist=0]\n"
     ]
    },
    {
     "name": "stdout",
     "output_type": "stream",
     "text": [
      "epoch: 1/10, train loss = 0.008417\n"
     ]
    },
    {
     "name": "stderr",
     "output_type": "stream",
     "text": [
      "Epoch (val) 1/10: 100%|██████████████████████████████████████████████████████████| 23/23 [05:20<00:00, 13.93s/it, accepor_recall=0.871, donor_recall=0.917, loss=0.000331, pred_l1_dist=0]\n"
     ]
    },
    {
     "name": "stdout",
     "output_type": "stream",
     "text": [
      "\n",
      "\u001b[1mAcceptor:\u001b[0m\n",
      "0.9658\t0.8893\t0.9779\t0.9885\t0.9309\t0.9648000001907349\t0.5001999735832214\t0.01679999940097332\t0.002300000051036477\t21432\n",
      "\n",
      "\u001b[1mDonor:\u001b[0m\n",
      "0.9675\t0.8882\t0.9817\t0.9928\t0.9318\t0.9700000286102295\t0.7046999931335449\t0.03359999880194664\t0.004399999976158142\t21432\n",
      "epoch: 1/10, val loss = 0.000262\n"
     ]
    },
    {
     "name": "stderr",
     "output_type": "stream",
     "text": [
      "Epoch (train) 2/10: 100%|██████████████████████████████████████████████████████| 202/202 [35:53<00:00, 10.66s/it, accepor_recall=0.889, donor_recall=0.902, loss=0.000187, pred_l1_dist=0]\n"
     ]
    },
    {
     "name": "stdout",
     "output_type": "stream",
     "text": [
      "epoch: 2/10, train loss = 0.000195\n"
     ]
    },
    {
     "name": "stderr",
     "output_type": "stream",
     "text": [
      "Epoch (val) 2/10: 100%|████████████████████████████████████████████████████████████| 23/23 [05:21<00:00, 13.98s/it, accepor_recall=0.922, donor_recall=0.933, loss=0.0004, pred_l1_dist=0]\n"
     ]
    },
    {
     "name": "stdout",
     "output_type": "stream",
     "text": [
      "\n",
      "\u001b[1mAcceptor:\u001b[0m\n",
      "0.9689\t0.8793\t0.9778\t0.9896\t0.9269\t0.9743000268936157\t0.7846999764442444\t0.050200000405311584\t0.00559999980032444\t21432\n",
      "\n",
      "\u001b[1mDonor:\u001b[0m\n",
      "0.9687\t0.8788\t0.9789\t0.992\t0.9271\t0.984000027179718\t0.8180000185966492\t0.0502999983727932\t0.003800000064074993\t21432\n",
      "epoch: 2/10, val loss = 0.000327\n"
     ]
    },
    {
     "name": "stderr",
     "output_type": "stream",
     "text": [
      "Epoch (train) 3/10: 100%|██████████████████████████████████████████████████████| 202/202 [35:59<00:00, 10.69s/it, accepor_recall=0.917, donor_recall=0.927, loss=0.000139, pred_l1_dist=0]\n"
     ]
    },
    {
     "name": "stdout",
     "output_type": "stream",
     "text": [
      "epoch: 3/10, train loss = 0.000166\n"
     ]
    },
    {
     "name": "stderr",
     "output_type": "stream",
     "text": [
      "Epoch (val) 3/10: 100%|██████████████████████████████████████████████████████████| 23/23 [05:22<00:00, 14.04s/it, accepor_recall=0.906, donor_recall=0.923, loss=0.000275, pred_l1_dist=0]\n"
     ]
    },
    {
     "name": "stdout",
     "output_type": "stream",
     "text": [
      "\n",
      "\u001b[1mAcceptor:\u001b[0m\n",
      "0.9733\t0.913\t0.9836\t0.9906\t0.9473\t0.9592000246047974\t0.5587000250816345\t0.015599999576807022\t0.0035000001080334187\t21432\n",
      "\n",
      "\u001b[1mDonor:\u001b[0m\n",
      "0.9739\t0.9145\t0.9876\t0.995\t0.9499\t0.9805999994277954\t0.6298999786376953\t0.011699999682605267\t0.0017000000225380063\t21432\n",
      "epoch: 3/10, val loss = 0.000206\n"
     ]
    },
    {
     "name": "stderr",
     "output_type": "stream",
     "text": [
      "Epoch (train) 4/10: 100%|███████████████████████████████████████████████████████| 202/202 [36:02<00:00, 10.71s/it, accepor_recall=0.924, donor_recall=0.93, loss=0.000131, pred_l1_dist=0]\n"
     ]
    },
    {
     "name": "stdout",
     "output_type": "stream",
     "text": [
      "epoch: 4/10, train loss = 0.000147\n"
     ]
    },
    {
     "name": "stderr",
     "output_type": "stream",
     "text": [
      "Epoch (val) 4/10: 100%|██████████████████████████████████████████████████████████| 23/23 [05:20<00:00, 13.94s/it, accepor_recall=0.872, donor_recall=0.869, loss=0.000269, pred_l1_dist=0]\n"
     ]
    },
    {
     "name": "stdout",
     "output_type": "stream",
     "text": [
      "\n",
      "\u001b[1mAcceptor:\u001b[0m\n",
      "0.9753\t0.9109\t0.9851\t0.9916\t0.9481\t0.9593999981880188\t0.35179999470710754\t0.005100000184029341\t0.0007999999797903001\t21432\n",
      "\n",
      "\u001b[1mDonor:\u001b[0m\n",
      "0.9734\t0.9158\t0.9891\t0.9948\t0.9519\t0.9656000137329102\t0.3009999990463257\t0.004000000189989805\t0.000699999975040555\t21432\n",
      "epoch: 4/10, val loss = 0.000205\n"
     ]
    },
    {
     "name": "stderr",
     "output_type": "stream",
     "text": [
      "Epoch (train) 5/10: 100%|███████████████████████████████████████████████████████| 202/202 [36:03<00:00, 10.71s/it, accepor_recall=0.935, donor_recall=0.943, loss=0.00014, pred_l1_dist=0]\n"
     ]
    },
    {
     "name": "stdout",
     "output_type": "stream",
     "text": [
      "epoch: 5/10, train loss = 0.000134\n"
     ]
    },
    {
     "name": "stderr",
     "output_type": "stream",
     "text": [
      "Epoch (val) 5/10: 100%|██████████████████████████████████████████████████████████| 23/23 [05:20<00:00, 13.95s/it, accepor_recall=0.915, donor_recall=0.927, loss=0.000308, pred_l1_dist=0]\n"
     ]
    },
    {
     "name": "stdout",
     "output_type": "stream",
     "text": [
      "\n",
      "\u001b[1mAcceptor:\u001b[0m\n",
      "0.9717\t0.9074\t0.9856\t0.9917\t0.945\t0.9846000075340271\t0.7329000234603882\t0.013399999588727951\t0.0019000000320374966\t21432\n",
      "\n",
      "\u001b[1mDonor:\u001b[0m\n",
      "0.9721\t0.9152\t0.9901\t0.9956\t0.9525\t0.9889000058174133\t0.733299970626831\t0.008799999952316284\t0.0010999999940395355\t21432\n",
      "epoch: 5/10, val loss = 0.000224\n"
     ]
    },
    {
     "name": "stderr",
     "output_type": "stream",
     "text": [
      "Epoch (train) 6/10: 100%|██████████████████████████████████████████████████████| 202/202 [36:10<00:00, 10.74s/it, accepor_recall=0.943, donor_recall=0.949, loss=0.000111, pred_l1_dist=0]\n"
     ]
    },
    {
     "name": "stdout",
     "output_type": "stream",
     "text": [
      "epoch: 6/10, train loss = 0.000124\n"
     ]
    },
    {
     "name": "stderr",
     "output_type": "stream",
     "text": [
      "Epoch (val) 6/10: 100%|██████████████████████████████████████████████████████████| 23/23 [05:22<00:00, 14.00s/it, accepor_recall=0.927, donor_recall=0.934, loss=0.000258, pred_l1_dist=0]\n"
     ]
    },
    {
     "name": "stdout",
     "output_type": "stream",
     "text": [
      "\n",
      "\u001b[1mAcceptor:\u001b[0m\n",
      "0.9753\t0.9178\t0.987\t0.9935\t0.9524\t0.9797999858856201\t0.70169997215271\t0.006800000090152025\t0.0010999999940395355\t21432\n",
      "\n",
      "\u001b[1mDonor:\u001b[0m\n",
      "0.9767\t0.9222\t0.9905\t0.9951\t0.9569\t0.9878000020980835\t0.6794000267982483\t0.004999999888241291\t0.000699999975040555\t21432\n",
      "epoch: 6/10, val loss = 0.000194\n"
     ]
    },
    {
     "name": "stderr",
     "output_type": "stream",
     "text": [
      "Epoch (train) 7/10: 100%|███████████████████████████████████████████████████████| 202/202 [36:15<00:00, 10.77s/it, accepor_recall=0.949, donor_recall=0.95, loss=0.000115, pred_l1_dist=0]\n"
     ]
    },
    {
     "name": "stdout",
     "output_type": "stream",
     "text": [
      "epoch: 7/10, train loss = 0.000116\n"
     ]
    },
    {
     "name": "stderr",
     "output_type": "stream",
     "text": [
      "Epoch (val) 7/10: 100%|██████████████████████████████████████████████████████████| 23/23 [06:17<00:00, 16.41s/it, accepor_recall=0.909, donor_recall=0.904, loss=0.000269, pred_l1_dist=0]\n"
     ]
    },
    {
     "name": "stdout",
     "output_type": "stream",
     "text": [
      "\n",
      "\u001b[1mAcceptor:\u001b[0m\n",
      "0.9763\t0.9212\t0.9861\t0.9917\t0.953\t0.9851999878883362\t0.4133000075817108\t0.002099999925121665\t0.00039999998989515007\t21432\n",
      "\n",
      "\u001b[1mDonor:\u001b[0m\n",
      "0.9765\t0.9239\t0.9887\t0.9949\t0.9559\t0.9825999736785889\t0.3488999903202057\t0.0012000000569969416\t0.00019999999494757503\t21432\n",
      "epoch: 7/10, val loss = 0.000197\n"
     ]
    },
    {
     "name": "stderr",
     "output_type": "stream",
     "text": [
      "Epoch (train) 8/10: 100%|███████████████████████████████████████████████████████| 202/202 [36:18<00:00, 10.79s/it, accepor_recall=0.958, donor_recall=0.962, loss=9.75e-5, pred_l1_dist=0]\n"
     ]
    },
    {
     "name": "stdout",
     "output_type": "stream",
     "text": [
      "epoch: 8/10, train loss = 0.000096\n"
     ]
    },
    {
     "name": "stderr",
     "output_type": "stream",
     "text": [
      "Epoch (val) 8/10: 100%|██████████████████████████████████████████████████████████| 23/23 [05:25<00:00, 14.15s/it, accepor_recall=0.891, donor_recall=0.898, loss=0.000246, pred_l1_dist=0]\n"
     ]
    },
    {
     "name": "stdout",
     "output_type": "stream",
     "text": [
      "\n",
      "\u001b[1mAcceptor:\u001b[0m\n",
      "0.9782\t0.9259\t0.9873\t0.993\t0.9567\t0.9684000015258789\t0.3070000112056732\t0.002300000051036477\t0.00039999998989515007\t21432\n",
      "\n",
      "\u001b[1mDonor:\u001b[0m\n",
      "0.9782\t0.9295\t0.9908\t0.9954\t0.9593\t0.970300018787384\t0.3174999952316284\t0.0017999999690800905\t0.0003000000142492354\t21432\n",
      "epoch: 8/10, val loss = 0.000183\n"
     ]
    },
    {
     "name": "stderr",
     "output_type": "stream",
     "text": [
      "Epoch (train) 9/10: 100%|███████████████████████████████████████████████████████| 202/202 [36:23<00:00, 10.81s/it, accepor_recall=0.965, donor_recall=0.969, loss=8.78e-5, pred_l1_dist=0]\n"
     ]
    },
    {
     "name": "stdout",
     "output_type": "stream",
     "text": [
      "epoch: 9/10, train loss = 0.000082\n"
     ]
    },
    {
     "name": "stderr",
     "output_type": "stream",
     "text": [
      "Epoch (val) 9/10: 100%|██████████████████████████████████████████████████████████| 23/23 [05:23<00:00, 14.09s/it, accepor_recall=0.928, donor_recall=0.936, loss=0.000236, pred_l1_dist=0]\n"
     ]
    },
    {
     "name": "stdout",
     "output_type": "stream",
     "text": [
      "\n",
      "\u001b[1mAcceptor:\u001b[0m\n",
      "0.9775\t0.9291\t0.9879\t0.9927\t0.9582\t0.9847999811172485\t0.5529000163078308\t0.0019000000320374966\t0.0003000000142492354\t21432\n",
      "\n",
      "\u001b[1mDonor:\u001b[0m\n",
      "0.9774\t0.9333\t0.9914\t0.9952\t0.9609\t0.984000027179718\t0.5655999779701233\t0.0010999999940395355\t9.999999747378752e-05\t21432\n",
      "epoch: 9/10, val loss = 0.000174\n"
     ]
    },
    {
     "name": "stderr",
     "output_type": "stream",
     "text": [
      "Epoch (train) 10/10: 100%|██████████████████████████████████████████████████████| 202/202 [36:24<00:00, 10.81s/it, accepor_recall=0.971, donor_recall=0.976, loss=6.79e-5, pred_l1_dist=0]\n"
     ]
    },
    {
     "name": "stdout",
     "output_type": "stream",
     "text": [
      "epoch: 10/10, train loss = 0.000073\n"
     ]
    },
    {
     "name": "stderr",
     "output_type": "stream",
     "text": [
      "Epoch (val) 10/10: 100%|█████████████████████████████████████████████████████████| 23/23 [05:30<00:00, 14.37s/it, accepor_recall=0.915, donor_recall=0.926, loss=0.000243, pred_l1_dist=0]\n"
     ]
    },
    {
     "name": "stdout",
     "output_type": "stream",
     "text": [
      "\n",
      "\u001b[1mAcceptor:\u001b[0m\n",
      "0.9777\t0.9305\t0.9884\t0.9936\t0.9586\t0.9872000217437744\t0.4659999907016754\t0.0013000000035390258\t0.00019999999494757503\t21432\n",
      "\n",
      "\u001b[1mDonor:\u001b[0m\n",
      "0.9789\t0.9331\t0.9906\t0.9951\t0.9612\t0.9866999983787537\t0.4864000082015991\t0.0010000000474974513\t9.999999747378752e-05\t21432\n",
      "epoch: 10/10, val loss = 0.000178\n"
     ]
    },
    {
     "data": {
      "image/png": "[encoded data removed]",
      "text/plain": [
       "<Figure size 432x288 with 1 Axes>"
      ]
     },
     "metadata": {
      "needs_background": "light"
     },
     "output_type": "display_data"
    },
    {
     "name": "stderr",
     "output_type": "stream",
     "text": [
      "Epoch (train) 1/10: 100%|██████████████████████████████████████████████████████| 202/202 [40:58<00:00, 12.17s/it, accepor_recall=0.875, donor_recall=0.886, loss=0.000196, pred_l1_dist=0]\n"
     ]
    },
    {
     "name": "stdout",
     "output_type": "stream",
     "text": [
      "epoch: 1/10, train loss = 0.008284\n"
     ]
    },
    {
     "name": "stderr",
     "output_type": "stream",
     "text": [
      "Epoch (val) 1/10: 100%|██████████████████████████████████████████████████████████| 23/23 [06:58<00:00, 18.22s/it, accepor_recall=0.789, donor_recall=0.868, loss=0.000363, pred_l1_dist=0]\n"
     ]
    },
    {
     "name": "stdout",
     "output_type": "stream",
     "text": [
      "\n",
      "\u001b[1mAcceptor:\u001b[0m\n",
      "0.9655\t0.8708\t0.9697\t0.9849\t0.9179\t0.8507000207901001\t0.299699991941452\t0.016100000590085983\t0.0026000000070780516\t21432\n",
      "\n",
      "\u001b[1mDonor:\u001b[0m\n",
      "0.968\t0.8763\t0.9775\t0.9904\t0.9239\t0.9682999849319458\t0.4779999852180481\t0.01549999974668026\t0.0019000000320374966\t21432\n",
      "epoch: 1/10, val loss = 0.000287\n"
     ]
    },
    {
     "name": "stderr",
     "output_type": "stream",
     "text": [
      "Epoch (train) 2/10: 100%|████████████████████████████████████████████████████████| 202/202 [41:37<00:00, 12.36s/it, accepor_recall=0.9, donor_recall=0.905, loss=0.000186, pred_l1_dist=0]\n"
     ]
    },
    {
     "name": "stdout",
     "output_type": "stream",
     "text": [
      "epoch: 2/10, train loss = 0.000194\n"
     ]
    },
    {
     "name": "stderr",
     "output_type": "stream",
     "text": [
      "Epoch (val) 2/10: 100%|██████████████████████████████████████████████████████████| 23/23 [07:14<00:00, 18.88s/it, accepor_recall=0.873, donor_recall=0.942, loss=0.000322, pred_l1_dist=0]\n"
     ]
    },
    {
     "name": "stdout",
     "output_type": "stream",
     "text": [
      "\n",
      "\u001b[1mAcceptor:\u001b[0m\n",
      "0.9718\t0.901\t0.9822\t0.9901\t0.9383\t0.9419000148773193\t0.4077000021934509\t0.013799999840557575\t0.0026000000070780516\t21432\n",
      "\n",
      "\u001b[1mDonor:\u001b[0m\n",
      "0.9693\t0.9056\t0.9858\t0.993\t0.9416\t0.9900000095367432\t0.7930999994277954\t0.03530000150203705\t0.005499999970197678\t21432\n",
      "epoch: 2/10, val loss = 0.000251\n"
     ]
    },
    {
     "name": "stderr",
     "output_type": "stream",
     "text": [
      "Epoch (train) 3/10: 100%|██████████████████████████████████████████████████████| 202/202 [41:25<00:00, 12.31s/it, accepor_recall=0.918, donor_recall=0.924, loss=0.000161, pred_l1_dist=0]\n"
     ]
    },
    {
     "name": "stdout",
     "output_type": "stream",
     "text": [
      "epoch: 3/10, train loss = 0.000167\n"
     ]
    },
    {
     "name": "stderr",
     "output_type": "stream",
     "text": [
      "Epoch (val) 3/10: 100%|██████████████████████████████████████████████████████████| 23/23 [07:17<00:00, 19.01s/it, accepor_recall=0.849, donor_recall=0.873, loss=0.000289, pred_l1_dist=0]\n"
     ]
    },
    {
     "name": "stdout",
     "output_type": "stream",
     "text": [
      "\n",
      "\u001b[1mAcceptor:\u001b[0m\n",
      "0.9742\t0.9094\t0.9856\t0.9924\t0.9472\t0.9415000081062317\t0.33379998803138733\t0.003599999938160181\t0.0005000000237487257\t21432\n",
      "\n",
      "\u001b[1mDonor:\u001b[0m\n",
      "0.9727\t0.9149\t0.9878\t0.9952\t0.9505\t0.9639000296592712\t0.2741999924182892\t0.0024999999441206455\t0.0003000000142492354\t21432\n",
      "epoch: 3/10, val loss = 0.000212\n"
     ]
    },
    {
     "name": "stderr",
     "output_type": "stream",
     "text": [
      "Epoch (train) 4/10: 100%|██████████████████████████████████████████████████████| 202/202 [41:44<00:00, 12.40s/it, accepor_recall=0.928, donor_recall=0.932, loss=0.000149, pred_l1_dist=0]\n"
     ]
    },
    {
     "name": "stdout",
     "output_type": "stream",
     "text": [
      "epoch: 4/10, train loss = 0.000148\n"
     ]
    },
    {
     "name": "stderr",
     "output_type": "stream",
     "text": [
      "Epoch (val) 4/10: 100%|██████████████████████████████████████████████████████████| 23/23 [06:45<00:00, 17.64s/it, accepor_recall=0.907, donor_recall=0.922, loss=0.000275, pred_l1_dist=0]\n"
     ]
    },
    {
     "name": "stdout",
     "output_type": "stream",
     "text": [
      "\n",
      "\u001b[1mAcceptor:\u001b[0m\n",
      "0.9748\t0.9099\t0.9844\t0.9921\t0.9468\t0.9782000184059143\t0.5532000064849854\t0.008200000040233135\t0.0012000000569969416\t21432\n",
      "\n",
      "\u001b[1mDonor:\u001b[0m\n",
      "0.9749\t0.9124\t0.9885\t0.9944\t0.9504\t0.9736999869346619\t0.5837000012397766\t0.007799999788403511\t0.0010999999940395355\t21432\n",
      "epoch: 4/10, val loss = 0.000206\n"
     ]
    },
    {
     "name": "stderr",
     "output_type": "stream",
     "text": [
      "Epoch (train) 5/10: 100%|██████████████████████████████████████████████████████| 202/202 [41:58<00:00, 12.47s/it, accepor_recall=0.938, donor_recall=0.944, loss=0.000125, pred_l1_dist=0]\n"
     ]
    },
    {
     "name": "stdout",
     "output_type": "stream",
     "text": [
      "epoch: 5/10, train loss = 0.000136\n"
     ]
    },
    {
     "name": "stderr",
     "output_type": "stream",
     "text": [
      "Epoch (val) 5/10: 100%|██████████████████████████████████████████████████████████| 23/23 [06:42<00:00, 17.48s/it, accepor_recall=0.876, donor_recall=0.915, loss=0.000282, pred_l1_dist=0]\n"
     ]
    },
    {
     "name": "stdout",
     "output_type": "stream",
     "text": [
      "\n",
      "\u001b[1mAcceptor:\u001b[0m\n",
      "0.9672\t0.9008\t0.9845\t0.9917\t0.9385\t0.8985000252723694\t0.46860000491142273\t0.008299999870359898\t0.0020000000949949026\t21432\n",
      "\n",
      "\u001b[1mDonor:\u001b[0m\n",
      "0.9714\t0.9165\t0.9877\t0.9945\t0.9498\t0.9049000144004822\t0.5551999807357788\t0.009999999776482582\t0.001500000013038516\t21432\n",
      "epoch: 5/10, val loss = 0.000212\n"
     ]
    },
    {
     "name": "stderr",
     "output_type": "stream",
     "text": [
      "Epoch (train) 6/10: 100%|██████████████████████████████████████████████████████| 202/202 [41:48<00:00, 12.42s/it, accepor_recall=0.942, donor_recall=0.949, loss=0.000109, pred_l1_dist=0]\n"
     ]
    },
    {
     "name": "stdout",
     "output_type": "stream",
     "text": [
      "epoch: 6/10, train loss = 0.000126\n"
     ]
    },
    {
     "name": "stderr",
     "output_type": "stream",
     "text": [
      "Epoch (val) 6/10: 100%|██████████████████████████████████████████████████████████| 23/23 [06:46<00:00, 17.68s/it, accepor_recall=0.919, donor_recall=0.912, loss=0.000252, pred_l1_dist=0]\n"
     ]
    },
    {
     "name": "stdout",
     "output_type": "stream",
     "text": [
      "\n",
      "\u001b[1mAcceptor:\u001b[0m\n",
      "0.9766\t0.9208\t0.9876\t0.9934\t0.9531\t0.9527999758720398\t0.6083999872207642\t0.0035000001080334187\t0.0005000000237487257\t21432\n",
      "\n",
      "\u001b[1mDonor:\u001b[0m\n",
      "0.9729\t0.9224\t0.9905\t0.995\t0.9562\t0.949400007724762\t0.4740000069141388\t0.003100000089034438\t0.0005000000237487257\t21432\n",
      "epoch: 6/10, val loss = 0.000187\n"
     ]
    },
    {
     "name": "stderr",
     "output_type": "stream",
     "text": [
      "Epoch (train) 7/10: 100%|██████████████████████████████████████████████████████| 202/202 [41:18<00:00, 12.27s/it, accepor_recall=0.946, donor_recall=0.947, loss=0.000124, pred_l1_dist=0]\n"
     ]
    },
    {
     "name": "stdout",
     "output_type": "stream",
     "text": [
      "epoch: 7/10, train loss = 0.000119\n"
     ]
    },
    {
     "name": "stderr",
     "output_type": "stream",
     "text": [
      "Epoch (val) 7/10: 100%|██████████████████████████████████████████████████████████| 23/23 [07:06<00:00, 18.53s/it, accepor_recall=0.892, donor_recall=0.915, loss=0.000263, pred_l1_dist=0]\n"
     ]
    },
    {
     "name": "stdout",
     "output_type": "stream",
     "text": [
      "\n",
      "\u001b[1mAcceptor:\u001b[0m\n",
      "0.9774\t0.9196\t0.9855\t0.9923\t0.9513\t0.9664999842643738\t0.3995000123977661\t0.004000000189989805\t0.0007999999797903001\t21432\n",
      "\n",
      "\u001b[1mDonor:\u001b[0m\n",
      "0.9723\t0.9239\t0.9904\t0.9949\t0.9546\t0.9782000184059143\t0.48089998960494995\t0.004000000189989805\t0.0006000000284984708\t21432\n",
      "epoch: 7/10, val loss = 0.000189\n"
     ]
    },
    {
     "name": "stderr",
     "output_type": "stream",
     "text": [
      "Epoch (train) 8/10: 100%|███████████████████████████████████████████████████████| 202/202 [41:04<00:00, 12.20s/it, accepor_recall=0.956, donor_recall=0.96, loss=0.000102, pred_l1_dist=0]\n"
     ]
    },
    {
     "name": "stdout",
     "output_type": "stream",
     "text": [
      "epoch: 8/10, train loss = 0.000097\n"
     ]
    },
    {
     "name": "stderr",
     "output_type": "stream",
     "text": [
      "Epoch (val) 8/10: 100%|██████████████████████████████████████████████████████████| 23/23 [06:46<00:00, 17.67s/it, accepor_recall=0.914, donor_recall=0.921, loss=0.000242, pred_l1_dist=0]\n"
     ]
    },
    {
     "name": "stdout",
     "output_type": "stream",
     "text": [
      "\n",
      "\u001b[1mAcceptor:\u001b[0m\n",
      "0.9754\t0.9296\t0.9876\t0.9933\t0.9557\t0.9702000021934509\t0.4429999887943268\t0.002300000051036477\t0.00039999998989515007\t21432\n",
      "\n",
      "\u001b[1mDonor:\u001b[0m\n",
      "0.9753\t0.9283\t0.9923\t0.9955\t0.9589\t0.9757999777793884\t0.49309998750686646\t0.0020000000949949026\t0.00019999999494757503\t21432\n",
      "epoch: 8/10, val loss = 0.000175\n"
     ]
    },
    {
     "name": "stderr",
     "output_type": "stream",
     "text": [
      "Epoch (train) 9/10: 100%|███████████████████████████████████████████████████████| 202/202 [40:39<00:00, 12.08s/it, accepor_recall=0.963, donor_recall=0.968, loss=7.95e-5, pred_l1_dist=0]\n"
     ]
    },
    {
     "name": "stdout",
     "output_type": "stream",
     "text": [
      "epoch: 9/10, train loss = 0.000084\n"
     ]
    },
    {
     "name": "stderr",
     "output_type": "stream",
     "text": [
      "Epoch (val) 9/10: 100%|███████████████████████████████████████████████████████████| 23/23 [06:52<00:00, 17.93s/it, accepor_recall=0.92, donor_recall=0.925, loss=0.000234, pred_l1_dist=0]\n"
     ]
    },
    {
     "name": "stdout",
     "output_type": "stream",
     "text": [
      "\n",
      "\u001b[1mAcceptor:\u001b[0m\n",
      "0.976\t0.9327\t0.9887\t0.9934\t0.9586\t0.9812999963760376\t0.49559998512268066\t0.002099999925121665\t0.0003000000142492354\t21432\n",
      "\n",
      "\u001b[1mDonor:\u001b[0m\n",
      "0.975\t0.9347\t0.9921\t0.9956\t0.9618\t0.9811999797821045\t0.47690001130104065\t0.0013000000035390258\t0.00019999999494757503\t21432\n",
      "epoch: 9/10, val loss = 0.000170\n"
     ]
    },
    {
     "name": "stderr",
     "output_type": "stream",
     "text": [
      "Epoch (train) 10/10: 100%|████████████████████████████████████████████████████████| 202/202 [41:08<00:00, 12.22s/it, accepor_recall=0.969, donor_recall=0.97, loss=8.3e-5, pred_l1_dist=0]\n"
     ]
    },
    {
     "name": "stdout",
     "output_type": "stream",
     "text": [
      "epoch: 10/10, train loss = 0.000074\n"
     ]
    },
    {
     "name": "stderr",
     "output_type": "stream",
     "text": [
      "Epoch (val) 10/10: 100%|█████████████████████████████████████████████████████████| 23/23 [06:25<00:00, 16.77s/it, accepor_recall=0.922, donor_recall=0.926, loss=0.000242, pred_l1_dist=0]\n"
     ]
    },
    {
     "name": "stdout",
     "output_type": "stream",
     "text": [
      "\n",
      "\u001b[1mAcceptor:\u001b[0m\n",
      "0.9746\t0.9328\t0.9884\t0.9924\t0.9566\t0.9796000123023987\t0.5015000104904175\t0.00139999995008111\t0.00019999999494757503\t21432\n",
      "\n",
      "\u001b[1mDonor:\u001b[0m\n",
      "0.9733\t0.9342\t0.9907\t0.9941\t0.9593\t0.9815000295639038\t0.48980000615119934\t0.0012000000569969416\t0.00019999999494757503\t21432\n",
      "epoch: 10/10, val loss = 0.000175\n"
     ]
    },
    {
     "data": {
      "image/png": "[encoded data removed]",
      "text/plain": [
       "<Figure size 432x288 with 1 Axes>"
      ]
     },
     "metadata": {
      "needs_background": "light"
     },
     "output_type": "display_data"
    },
    {
     "name": "stderr",
     "output_type": "stream",
     "text": [
      "Epoch (train) 1/10: 100%|██████████████████████████████████████████████████████| 202/202 [46:04<00:00, 13.69s/it, accepor_recall=0.877, donor_recall=0.888, loss=0.000213, pred_l1_dist=0]\n"
     ]
    },
    {
     "name": "stdout",
     "output_type": "stream",
     "text": [
      "epoch: 1/10, train loss = 0.007769\n"
     ]
    },
    {
     "name": "stderr",
     "output_type": "stream",
     "text": [
      "Epoch (val) 1/10: 100%|██████████████████████████████████████████████████████████| 23/23 [08:50<00:00, 23.07s/it, accepor_recall=0.934, donor_recall=0.963, loss=0.000833, pred_l1_dist=0]\n"
     ]
    },
    {
     "name": "stdout",
     "output_type": "stream",
     "text": [
      "\n",
      "\u001b[1mAcceptor:\u001b[0m\n",
      "0.9583\t0.8471\t0.9588\t0.9805\t0.8956\t0.9696999788284302\t0.861299991607666\t0.2919999957084656\t0.034299999475479126\t21432\n",
      "\n",
      "\u001b[1mDonor:\u001b[0m\n",
      "0.959\t0.8381\t0.9624\t0.9871\t0.8979\t0.9932000041007996\t0.9564999938011169\t0.5389000177383423\t0.05700000002980232\t21432\n",
      "epoch: 1/10, val loss = 0.000783\n"
     ]
    },
    {
     "name": "stderr",
     "output_type": "stream",
     "text": [
      "Epoch (train) 2/10: 100%|██████████████████████████████████████████████████████| 202/202 [46:36<00:00, 13.84s/it, accepor_recall=0.907, donor_recall=0.913, loss=0.000194, pred_l1_dist=0]\n"
     ]
    },
    {
     "name": "stdout",
     "output_type": "stream",
     "text": [
      "epoch: 2/10, train loss = 0.000193\n"
     ]
    },
    {
     "name": "stderr",
     "output_type": "stream",
     "text": [
      "Epoch (val) 2/10: 100%|███████████████████████████████████████████████████████████| 23/23 [08:03<00:00, 21.01s/it, accepor_recall=0.831, donor_recall=0.805, loss=0.00035, pred_l1_dist=0]\n"
     ]
    },
    {
     "name": "stdout",
     "output_type": "stream",
     "text": [
      "\n",
      "\u001b[1mAcceptor:\u001b[0m\n",
      "0.9694\t0.8778\t0.9769\t0.9891\t0.9276\t0.9413999915122986\t0.3140000104904175\t0.011900000274181366\t0.002300000051036477\t21432\n",
      "\n",
      "\u001b[1mDonor:\u001b[0m\n",
      "0.9688\t0.8787\t0.9814\t0.9934\t0.9292\t0.906000018119812\t0.24539999663829803\t0.006300000008195639\t0.0008999999845400453\t21432\n",
      "epoch: 2/10, val loss = 0.000278\n"
     ]
    },
    {
     "name": "stderr",
     "output_type": "stream",
     "text": [
      "Epoch (train) 3/10: 100%|██████████████████████████████████████████████████████| 202/202 [45:49<00:00, 13.61s/it, accepor_recall=0.914, donor_recall=0.922, loss=0.000171, pred_l1_dist=0]\n"
     ]
    },
    {
     "name": "stdout",
     "output_type": "stream",
     "text": [
      "epoch: 3/10, train loss = 0.000168\n"
     ]
    },
    {
     "name": "stderr",
     "output_type": "stream",
     "text": [
      "Epoch (val) 3/10: 100%|███████████████████████████████████████████████████████████| 23/23 [08:04<00:00, 21.05s/it, accepor_recall=0.932, donor_recall=0.924, loss=0.00028, pred_l1_dist=0]\n"
     ]
    },
    {
     "name": "stdout",
     "output_type": "stream",
     "text": [
      "\n",
      "\u001b[1mAcceptor:\u001b[0m\n",
      "0.975\t0.9116\t0.9847\t0.9921\t0.9464\t0.9839000105857849\t0.703499972820282\t0.016100000590085983\t0.0024999999441206455\t21432\n",
      "\n",
      "\u001b[1mDonor:\u001b[0m\n",
      "0.9715\t0.9129\t0.9875\t0.994\t0.9478\t0.974399983882904\t0.6032999753952026\t0.007400000002235174\t0.0013000000035390258\t21432\n",
      "epoch: 3/10, val loss = 0.000214\n"
     ]
    },
    {
     "name": "stderr",
     "output_type": "stream",
     "text": [
      "Epoch (train) 4/10: 100%|███████████████████████████████████████████████████████| 202/202 [46:34<00:00, 13.83s/it, accepor_recall=0.927, donor_recall=0.93, loss=0.000155, pred_l1_dist=0]\n"
     ]
    },
    {
     "name": "stdout",
     "output_type": "stream",
     "text": [
      "epoch: 4/10, train loss = 0.000148\n"
     ]
    },
    {
     "name": "stderr",
     "output_type": "stream",
     "text": [
      "Epoch (val) 4/10: 100%|████████████████████████████████████████████████████████████| 23/23 [08:18<00:00, 21.66s/it, accepor_recall=0.93, donor_recall=0.931, loss=0.00027, pred_l1_dist=0]\n"
     ]
    },
    {
     "name": "stdout",
     "output_type": "stream",
     "text": [
      "\n",
      "\u001b[1mAcceptor:\u001b[0m\n",
      "0.9729\t0.9142\t0.9865\t0.9933\t0.9486\t0.9459999799728394\t0.6635000109672546\t0.02239999920129776\t0.0027000000700354576\t21432\n",
      "\n",
      "\u001b[1mDonor:\u001b[0m\n",
      "0.9729\t0.915\t0.9886\t0.9947\t0.9504\t0.963699996471405\t0.64410001039505\t0.016300000250339508\t0.0017999999690800905\t21432\n",
      "epoch: 4/10, val loss = 0.000209\n"
     ]
    },
    {
     "name": "stderr",
     "output_type": "stream",
     "text": [
      "Epoch (train) 5/10: 100%|██████████████████████████████████████████████████████| 202/202 [46:47<00:00, 13.90s/it, accepor_recall=0.941, donor_recall=0.944, loss=0.000138, pred_l1_dist=0]\n"
     ]
    },
    {
     "name": "stdout",
     "output_type": "stream",
     "text": [
      "epoch: 5/10, train loss = 0.000135\n"
     ]
    },
    {
     "name": "stderr",
     "output_type": "stream",
     "text": [
      "Epoch (val) 5/10: 100%|██████████████████████████████████████████████████████████| 23/23 [08:16<00:00, 21.57s/it, accepor_recall=0.913, donor_recall=0.939, loss=0.000247, pred_l1_dist=0]\n"
     ]
    },
    {
     "name": "stdout",
     "output_type": "stream",
     "text": [
      "\n",
      "\u001b[1mAcceptor:\u001b[0m\n",
      "0.9749\t0.9212\t0.9873\t0.9934\t0.9525\t0.9824000000953674\t0.525600016117096\t0.004000000189989805\t0.000699999975040555\t21432\n",
      "\n",
      "\u001b[1mDonor:\u001b[0m\n",
      "0.9742\t0.9224\t0.9901\t0.9954\t0.9547\t0.9775000214576721\t0.6438999772071838\t0.004800000227987766\t0.0006000000284984708\t21432\n",
      "epoch: 5/10, val loss = 0.000187\n"
     ]
    },
    {
     "name": "stderr",
     "output_type": "stream",
     "text": [
      "Epoch (train) 6/10: 100%|██████████████████████████████████████████████████████| 202/202 [46:29<00:00, 13.81s/it, accepor_recall=0.937, donor_recall=0.948, loss=0.000118, pred_l1_dist=0]\n"
     ]
    },
    {
     "name": "stdout",
     "output_type": "stream",
     "text": [
      "epoch: 6/10, train loss = 0.000125\n"
     ]
    },
    {
     "name": "stderr",
     "output_type": "stream",
     "text": [
      "Epoch (val) 6/10: 100%|██████████████████████████████████████████████████████████| 23/23 [08:08<00:00, 21.23s/it, accepor_recall=0.928, donor_recall=0.927, loss=0.000253, pred_l1_dist=0]\n"
     ]
    },
    {
     "name": "stdout",
     "output_type": "stream",
     "text": [
      "\n",
      "\u001b[1mAcceptor:\u001b[0m\n",
      "0.9766\t0.9154\t0.9857\t0.9928\t0.9507\t0.9735000133514404\t0.6496999859809875\t0.01209999993443489\t0.002099999925121665\t21432\n",
      "\n",
      "\u001b[1mDonor:\u001b[0m\n",
      "0.9694\t0.9226\t0.9901\t0.9954\t0.953\t0.9778000116348267\t0.583299994468689\t0.006099999882280827\t0.0010000000474974513\t21432\n",
      "epoch: 6/10, val loss = 0.000192\n"
     ]
    },
    {
     "name": "stderr",
     "output_type": "stream",
     "text": [
      "Epoch (train) 7/10: 100%|██████████████████████████████████████████████████████| 202/202 [46:17<00:00, 13.75s/it, accepor_recall=0.945, donor_recall=0.949, loss=0.000116, pred_l1_dist=0]\n"
     ]
    },
    {
     "name": "stdout",
     "output_type": "stream",
     "text": [
      "epoch: 7/10, train loss = 0.000118\n"
     ]
    },
    {
     "name": "stderr",
     "output_type": "stream",
     "text": [
      "Epoch (val) 7/10: 100%|██████████████████████████████████████████████████████████| 23/23 [08:22<00:00, 21.84s/it, accepor_recall=0.893, donor_recall=0.888, loss=0.000261, pred_l1_dist=0]\n"
     ]
    },
    {
     "name": "stdout",
     "output_type": "stream",
     "text": [
      "\n",
      "\u001b[1mAcceptor:\u001b[0m\n",
      "0.9797\t0.9218\t0.9869\t0.9921\t0.9552\t0.9865000247955322\t0.435699999332428\t0.002300000051036477\t0.00039999998989515007\t21432\n",
      "\n",
      "\u001b[1mDonor:\u001b[0m\n",
      "0.9769\t0.9226\t0.9895\t0.995\t0.957\t0.9793999791145325\t0.2816999852657318\t0.0013000000035390258\t9.999999747378752e-05\t21432\n",
      "epoch: 7/10, val loss = 0.000196\n"
     ]
    },
    {
     "name": "stderr",
     "output_type": "stream",
     "text": [
      "Epoch (train) 8/10: 100%|███████████████████████████████████████████████████████| 202/202 [46:17<00:00, 13.75s/it, accepor_recall=0.958, donor_recall=0.961, loss=9.73e-5, pred_l1_dist=0]\n"
     ]
    },
    {
     "name": "stdout",
     "output_type": "stream",
     "text": [
      "epoch: 8/10, train loss = 0.000096\n"
     ]
    },
    {
     "name": "stderr",
     "output_type": "stream",
     "text": [
      "Epoch (val) 8/10: 100%|██████████████████████████████████████████████████████████| 23/23 [08:16<00:00, 21.58s/it, accepor_recall=0.917, donor_recall=0.942, loss=0.000225, pred_l1_dist=0]\n"
     ]
    },
    {
     "name": "stdout",
     "output_type": "stream",
     "text": [
      "\n",
      "\u001b[1mAcceptor:\u001b[0m\n",
      "0.9799\t0.9305\t0.9893\t0.9938\t0.9598\t0.9757000207901001\t0.5019000172615051\t0.0013000000035390258\t0.00019999999494757503\t21432\n",
      "\n",
      "\u001b[1mDonor:\u001b[0m\n",
      "0.9805\t0.9316\t0.9916\t0.9958\t0.9622\t0.980400025844574\t0.6097000241279602\t0.0017999999690800905\t0.00019999999494757503\t21432\n",
      "epoch: 8/10, val loss = 0.000169\n"
     ]
    },
    {
     "name": "stderr",
     "output_type": "stream",
     "text": [
      "Epoch (train) 9/10: 100%|███████████████████████████████████████████████████████| 202/202 [46:03<00:00, 13.68s/it, accepor_recall=0.969, donor_recall=0.972, loss=7.46e-5, pred_l1_dist=0]\n"
     ]
    },
    {
     "name": "stdout",
     "output_type": "stream",
     "text": [
      "epoch: 9/10, train loss = 0.000082\n"
     ]
    },
    {
     "name": "stderr",
     "output_type": "stream",
     "text": [
      "Epoch (val) 9/10: 100%|███████████████████████████████████████████████████████████| 23/23 [08:29<00:00, 22.14s/it, accepor_recall=0.91, donor_recall=0.931, loss=0.000237, pred_l1_dist=0]\n"
     ]
    },
    {
     "name": "stdout",
     "output_type": "stream",
     "text": [
      "\n",
      "\u001b[1mAcceptor:\u001b[0m\n",
      "0.9786\t0.9318\t0.9891\t0.9935\t0.9587\t0.9836000204086304\t0.4700999855995178\t0.0012000000569969416\t0.00019999999494757503\t21432\n",
      "\n",
      "\u001b[1mDonor:\u001b[0m\n",
      "0.9783\t0.9344\t0.9914\t0.996\t0.9611\t0.9879999756813049\t0.5364000201225281\t0.0013000000035390258\t9.999999747378752e-05\t21432\n",
      "epoch: 9/10, val loss = 0.000174\n"
     ]
    },
    {
     "name": "stderr",
     "output_type": "stream",
     "text": [
      "Epoch (train) 10/10: 100%|███████████████████████████████████████████████████████| 202/202 [46:47<00:00, 13.90s/it, accepor_recall=0.968, donor_recall=0.971, loss=7.1e-5, pred_l1_dist=0]\n"
     ]
    },
    {
     "name": "stdout",
     "output_type": "stream",
     "text": [
      "epoch: 10/10, train loss = 0.000073\n"
     ]
    },
    {
     "name": "stderr",
     "output_type": "stream",
     "text": [
      "Epoch (val) 10/10: 100%|██████████████████████████████████████████████████████████| 23/23 [08:53<00:00, 23.19s/it, accepor_recall=0.921, donor_recall=0.93, loss=0.000235, pred_l1_dist=0]\n"
     ]
    },
    {
     "name": "stdout",
     "output_type": "stream",
     "text": [
      "\n",
      "\u001b[1mAcceptor:\u001b[0m\n",
      "0.9783\t0.934\t0.9886\t0.9935\t0.9592\t0.9883999824523926\t0.538100004196167\t0.00139999995008111\t0.00019999999494757503\t21432\n",
      "\n",
      "\u001b[1mDonor:\u001b[0m\n",
      "0.9782\t0.9348\t0.9908\t0.9948\t0.9612\t0.9902999997138977\t0.510200023651123\t0.0007999999797903001\t9.999999747378752e-05\t21432\n",
      "epoch: 10/10, val loss = 0.000176\n"
     ]
    },
    {
     "data": {
      "image/png": "[encoded data removed]",
      "text/plain": [
       "<Figure size 432x288 with 1 Axes>"
      ]
     },
     "metadata": {
      "needs_background": "light"
     },
     "output_type": "display_data"
    }
   ],
   "source": [
    "device = torch.device(\"cuda\" if torch.cuda.is_available() else \"cpu\")\n",
    "epochs = 10\n",
    "hs = []\n",
    "\n",
    "parameters = [0,1,2,3,4]\n",
    "\n",
    "for model_nr in range(5):\n",
    "    model_m = SpliceFormer(CL_max,n_transformer_blocks = parameters[model_nr])\n",
    "    model_m.apply(keras_init)\n",
    "    model_m = model_m.to(device)\n",
    "    if torch.cuda.device_count() > 1:\n",
    "        #print(\"Let's use\", torch.cuda.device_count(), \"GPUs!\")\n",
    "        # dim = 0 [30, xxx] -> [10, ...], [10, ...], [10, ...] on 3 GPUs\n",
    "        model_m = nn.DataParallel(model_m)\n",
    "    \n",
    "    modelFileName = '../Results/PyTorch_Models/transformer_encoder_40k_ablation_n_transformer_blocks_{}'.format(parameters[model_nr])\n",
    "    #model_m.load_state_dict(torch.load('../Results/PyTorch_Models/SpliceAI_Ensembl_dgxtest_{}'.format(0)))\n",
    "    #loss = nn.CrossEntropyLoss(weight=torch.from_numpy(weights).float().to(device),ignore_index=-1,reduction='mean')\n",
    "    loss = categorical_crossentropy_2d().loss\n",
    "    #loss = nn.KLDivLoss()\n",
    "    learning_rate= k*1e-3\n",
    "    optimizer = torch.optim.Adam(model_m.parameters(), lr=learning_rate)\n",
    "    scheduler = torch.optim.lr_scheduler.StepLR(optimizer, step_size=1, gamma=0.5)\n",
    "    warmup = get_constant_schedule_with_warmup(optimizer, num_warmup_steps=1000)\n",
    "    h = trainModel(model_m,modelFileName,loss,train_loader,val_loader,optimizer,scheduler,warmup,BATCH_SIZE,epochs,device)\n",
    "    hs.append(h)\n",
    "\n",
    "    plt.plot(range(epochs),h['loss'],label='Train')\n",
    "    plt.plot(range(epochs),h['val_loss'],label='Validation')\n",
    "    plt.xlabel('Epoch')\n",
    "    plt.ylabel('Loss')\n",
    "    plt.legend()\n",
    "    plt.show()"
   ]
  },
  {
   "cell_type": "code",
   "execution_count": 12,
   "metadata": {},
   "outputs": [
    {
     "name": "stderr",
     "output_type": "stream",
     "text": [
      "Epoch (train) 1/10: 100%|███████████████| 202/202 [28:23<00:00,  8.43s/it, accepor_recall=0.857, donor_recall=0.873, loss=0.000245, pred_l1_dist=0]\n"
     ]
    },
    {
     "name": "stdout",
     "output_type": "stream",
     "text": [
      "epoch: 1/10, train loss = 0.007803\n"
     ]
    },
    {
     "name": "stderr",
     "output_type": "stream",
     "text": [
      "Epoch (val) 1/10: 100%|████████████████████| 23/23 [02:13<00:00,  5.82s/it, accepor_recall=0.782, donor_recall=0.84, loss=0.000424, pred_l1_dist=0]\n"
     ]
    },
    {
     "name": "stdout",
     "output_type": "stream",
     "text": [
      "\n",
      "\u001b[1mAcceptor:\u001b[0m\n",
      "0.9606\t0.8418\t0.956\t0.9824\t0.8977\t0.9158999919891357\t0.27649998664855957\t0.01510000042617321\t0.002199999988079071\t21432\n",
      "\n",
      "\u001b[1mDonor:\u001b[0m\n",
      "0.9644\t0.8488\t0.9676\t0.9885\t0.9063\t0.9560999870300293\t0.439300000667572\t0.02239999920129776\t0.00279999990016222\t21432\n",
      "epoch: 1/10, val loss = 0.000329\n"
     ]
    },
    {
     "name": "stderr",
     "output_type": "stream",
     "text": [
      "Epoch (train) 2/10: 100%|███████████████| 202/202 [27:25<00:00,  8.15s/it, accepor_recall=0.889, donor_recall=0.904, loss=0.000191, pred_l1_dist=0]\n"
     ]
    },
    {
     "name": "stdout",
     "output_type": "stream",
     "text": [
      "epoch: 2/10, train loss = 0.000209\n"
     ]
    },
    {
     "name": "stderr",
     "output_type": "stream",
     "text": [
      "Epoch (val) 2/10: 100%|█████████████████████| 23/23 [02:46<00:00,  7.23s/it, accepor_recall=0.71, donor_recall=0.714, loss=0.00055, pred_l1_dist=0]\n"
     ]
    },
    {
     "name": "stdout",
     "output_type": "stream",
     "text": [
      "\n",
      "\u001b[1mAcceptor:\u001b[0m\n",
      "0.9697\t0.8621\t0.9639\t0.9817\t0.9125\t0.8705999851226807\t0.0681999996304512\t0.002099999925121665\t0.00039999998989515007\t21432\n",
      "\n",
      "\u001b[1mDonor:\u001b[0m\n",
      "0.967\t0.8627\t0.9683\t0.9848\t0.9142\t0.8592000007629395\t0.07800000160932541\t0.0017999999690800905\t0.00039999998989515007\t21432\n",
      "epoch: 2/10, val loss = 0.000415\n"
     ]
    },
    {
     "name": "stderr",
     "output_type": "stream",
     "text": [
      "Epoch (train) 3/10: 100%|███████████████| 202/202 [27:21<00:00,  8.13s/it, accepor_recall=0.914, donor_recall=0.924, loss=0.000159, pred_l1_dist=0]\n"
     ]
    },
    {
     "name": "stdout",
     "output_type": "stream",
     "text": [
      "epoch: 3/10, train loss = 0.000176\n"
     ]
    },
    {
     "name": "stderr",
     "output_type": "stream",
     "text": [
      "Epoch (val) 3/10: 100%|███████████████████| 23/23 [03:04<00:00,  8.02s/it, accepor_recall=0.849, donor_recall=0.837, loss=0.000333, pred_l1_dist=0]\n"
     ]
    },
    {
     "name": "stdout",
     "output_type": "stream",
     "text": [
      "\n",
      "\u001b[1mAcceptor:\u001b[0m\n",
      "0.9706\t0.8928\t0.9795\t0.9897\t0.933\t0.8822000026702881\t0.37070000171661377\t0.01080000028014183\t0.00139999995008111\t21432\n",
      "\n",
      "\u001b[1mDonor:\u001b[0m\n",
      "0.9678\t0.8893\t0.9826\t0.993\t0.9337\t0.8568999767303467\t0.33820000290870667\t0.008799999952316284\t0.0010000000474974513\t21432\n",
      "epoch: 3/10, val loss = 0.000253\n"
     ]
    },
    {
     "name": "stderr",
     "output_type": "stream",
     "text": [
      "Epoch (train) 4/10: 100%|███████████████| 202/202 [27:26<00:00,  8.15s/it, accepor_recall=0.925, donor_recall=0.932, loss=0.000149, pred_l1_dist=0]\n"
     ]
    },
    {
     "name": "stdout",
     "output_type": "stream",
     "text": [
      "epoch: 4/10, train loss = 0.000154\n"
     ]
    },
    {
     "name": "stderr",
     "output_type": "stream",
     "text": [
      "Epoch (val) 4/10: 100%|███████████████████| 23/23 [03:17<00:00,  8.58s/it, accepor_recall=0.803, donor_recall=0.847, loss=0.000351, pred_l1_dist=0]\n"
     ]
    },
    {
     "name": "stdout",
     "output_type": "stream",
     "text": [
      "\n",
      "\u001b[1mAcceptor:\u001b[0m\n",
      "0.9734\t0.909\t0.9837\t0.9907\t0.9445\t0.9120000004768372\t0.11169999837875366\t0.0007999999797903001\t9.999999747378752e-05\t21432\n",
      "\n",
      "\u001b[1mDonor:\u001b[0m\n",
      "0.9744\t0.9145\t0.9879\t0.994\t0.9507\t0.9470999836921692\t0.16840000450611115\t0.0010999999940395355\t0.00019999999494757503\t21432\n",
      "epoch: 4/10, val loss = 0.000259\n"
     ]
    },
    {
     "name": "stderr",
     "output_type": "stream",
     "text": [
      "Epoch (train) 5/10: 100%|███████████████| 202/202 [27:26<00:00,  8.15s/it, accepor_recall=0.934, donor_recall=0.941, loss=0.000135, pred_l1_dist=0]\n"
     ]
    },
    {
     "name": "stdout",
     "output_type": "stream",
     "text": [
      "epoch: 5/10, train loss = 0.000138\n"
     ]
    },
    {
     "name": "stderr",
     "output_type": "stream",
     "text": [
      "Epoch (val) 5/10: 100%|█████████████████████| 23/23 [02:46<00:00,  7.25s/it, accepor_recall=0.909, donor_recall=0.93, loss=0.00027, pred_l1_dist=0]\n"
     ]
    },
    {
     "name": "stdout",
     "output_type": "stream",
     "text": [
      "\n",
      "\u001b[1mAcceptor:\u001b[0m\n",
      "0.9707\t0.9114\t0.9855\t0.9921\t0.9449\t0.97079998254776\t0.4708000123500824\t0.0026000000070780516\t0.00039999998989515007\t21432\n",
      "\n",
      "\u001b[1mDonor:\u001b[0m\n",
      "0.9741\t0.9189\t0.988\t0.9945\t0.9502\t0.9839000105857849\t0.5924000144004822\t0.003800000064074993\t0.0005000000237487257\t21432\n",
      "epoch: 5/10, val loss = 0.000206\n"
     ]
    },
    {
     "name": "stderr",
     "output_type": "stream",
     "text": [
      "Epoch (train) 6/10: 100%|█████████████████| 202/202 [27:19<00:00,  8.11s/it, accepor_recall=0.933, donor_recall=0.94, loss=0.00015, pred_l1_dist=0]\n"
     ]
    },
    {
     "name": "stdout",
     "output_type": "stream",
     "text": [
      "epoch: 6/10, train loss = 0.000128\n"
     ]
    },
    {
     "name": "stderr",
     "output_type": "stream",
     "text": [
      "Epoch (val) 6/10: 100%|████████████████████| 23/23 [02:26<00:00,  6.37s/it, accepor_recall=0.827, donor_recall=0.86, loss=0.000331, pred_l1_dist=0]\n"
     ]
    },
    {
     "name": "stdout",
     "output_type": "stream",
     "text": [
      "\n",
      "\u001b[1mAcceptor:\u001b[0m\n",
      "0.9732\t0.9027\t0.9793\t0.9886\t0.9384\t0.9495999813079834\t0.13269999623298645\t0.0017000000225380063\t0.0003000000142492354\t21432\n",
      "\n",
      "\u001b[1mDonor:\u001b[0m\n",
      "0.973\t0.904\t0.9832\t0.9922\t0.9422\t0.9726999998092651\t0.24729999899864197\t0.002400000113993883\t0.00039999998989515007\t21432\n",
      "epoch: 6/10, val loss = 0.000259\n"
     ]
    },
    {
     "name": "stderr",
     "output_type": "stream",
     "text": [
      "Epoch (train) 7/10: 100%|███████████████| 202/202 [27:23<00:00,  8.14s/it, accepor_recall=0.942, donor_recall=0.955, loss=0.000123, pred_l1_dist=0]\n"
     ]
    },
    {
     "name": "stdout",
     "output_type": "stream",
     "text": [
      "epoch: 7/10, train loss = 0.000119\n"
     ]
    },
    {
     "name": "stderr",
     "output_type": "stream",
     "text": [
      "Epoch (val) 7/10: 100%|███████████████████| 23/23 [02:45<00:00,  7.19s/it, accepor_recall=0.867, donor_recall=0.873, loss=0.000288, pred_l1_dist=0]\n"
     ]
    },
    {
     "name": "stdout",
     "output_type": "stream",
     "text": [
      "\n",
      "\u001b[1mAcceptor:\u001b[0m\n",
      "0.9746\t0.9163\t0.9851\t0.9919\t0.9494\t0.9514999985694885\t0.2524999976158142\t0.0017000000225380063\t0.0003000000142492354\t21432\n",
      "\n",
      "\u001b[1mDonor:\u001b[0m\n",
      "0.9725\t0.9217\t0.9886\t0.9945\t0.9533\t0.9580000042915344\t0.21539999544620514\t0.0008999999845400453\t0.00019999999494757503\t21432\n",
      "epoch: 7/10, val loss = 0.000217\n"
     ]
    },
    {
     "name": "stderr",
     "output_type": "stream",
     "text": [
      "Epoch (train) 8/10: 100%|████████████████| 202/202 [27:21<00:00,  8.13s/it, accepor_recall=0.947, donor_recall=0.954, loss=0.00011, pred_l1_dist=0]\n"
     ]
    },
    {
     "name": "stdout",
     "output_type": "stream",
     "text": [
      "epoch: 8/10, train loss = 0.000098\n"
     ]
    },
    {
     "name": "stderr",
     "output_type": "stream",
     "text": [
      "Epoch (val) 8/10: 100%|█████████████████████| 23/23 [02:17<00:00,  5.97s/it, accepor_recall=0.93, donor_recall=0.942, loss=0.00025, pred_l1_dist=0]\n"
     ]
    },
    {
     "name": "stdout",
     "output_type": "stream",
     "text": [
      "\n",
      "\u001b[1mAcceptor:\u001b[0m\n",
      "0.9719\t0.9211\t0.9876\t0.9931\t0.9506\t0.9853000044822693\t0.6991000175476074\t0.005100000184029341\t0.000699999975040555\t21432\n",
      "\n",
      "\u001b[1mDonor:\u001b[0m\n",
      "0.9722\t0.926\t0.9907\t0.9955\t0.9537\t0.9848999977111816\t0.667900025844574\t0.004100000020116568\t0.0005000000237487257\t21432\n",
      "epoch: 8/10, val loss = 0.000191\n"
     ]
    },
    {
     "name": "stderr",
     "output_type": "stream",
     "text": [
      "Epoch (train) 9/10: 100%|████████████████| 202/202 [27:21<00:00,  8.13s/it, accepor_recall=0.962, donor_recall=0.967, loss=7.46e-5, pred_l1_dist=0]\n"
     ]
    },
    {
     "name": "stdout",
     "output_type": "stream",
     "text": [
      "epoch: 9/10, train loss = 0.000083\n"
     ]
    },
    {
     "name": "stderr",
     "output_type": "stream",
     "text": [
      "Epoch (val) 9/10: 100%|███████████████████| 23/23 [02:16<00:00,  5.93s/it, accepor_recall=0.937, donor_recall=0.946, loss=0.000265, pred_l1_dist=0]\n"
     ]
    },
    {
     "name": "stdout",
     "output_type": "stream",
     "text": [
      "\n",
      "\u001b[1mAcceptor:\u001b[0m\n",
      "0.9717\t0.9249\t0.9877\t0.9934\t0.9505\t0.9914000034332275\t0.7312999963760376\t0.00279999990016222\t0.0003000000142492354\t21432\n",
      "\n",
      "\u001b[1mDonor:\u001b[0m\n",
      "0.9714\t0.9295\t0.9906\t0.9958\t0.9541\t0.9940999746322632\t0.746399998664856\t0.0024999999441206455\t0.00019999999494757503\t21432\n",
      "epoch: 9/10, val loss = 0.000197\n"
     ]
    },
    {
     "name": "stderr",
     "output_type": "stream",
     "text": [
      "Epoch (train) 10/10: 100%|████████████████| 202/202 [27:28<00:00,  8.16s/it, accepor_recall=0.966, donor_recall=0.97, loss=7.37e-5, pred_l1_dist=0]\n"
     ]
    },
    {
     "name": "stdout",
     "output_type": "stream",
     "text": [
      "epoch: 10/10, train loss = 0.000074\n"
     ]
    },
    {
     "name": "stderr",
     "output_type": "stream",
     "text": [
      "Epoch (val) 10/10: 100%|██████████████████| 23/23 [02:25<00:00,  6.32s/it, accepor_recall=0.904, donor_recall=0.914, loss=0.000265, pred_l1_dist=0]\n"
     ]
    },
    {
     "name": "stdout",
     "output_type": "stream",
     "text": [
      "\n",
      "\u001b[1mAcceptor:\u001b[0m\n",
      "0.9713\t0.9247\t0.9863\t0.9919\t0.9507\t0.980400025844574\t0.4113999903202057\t0.0010000000474974513\t0.00019999999494757503\t21432\n",
      "\n",
      "\u001b[1mDonor:\u001b[0m\n",
      "0.9735\t0.9292\t0.9895\t0.9943\t0.9544\t0.978600025177002\t0.3783000111579895\t0.000699999975040555\t9.999999747378752e-05\t21432\n",
      "epoch: 10/10, val loss = 0.000196\n"
     ]
    },
    {
     "data": {
      "image/png": "[encoded data removed]",
      "text/plain": [
       "<Figure size 432x288 with 1 Axes>"
      ]
     },
     "metadata": {
      "needs_background": "light"
     },
     "output_type": "display_data"
    },
    {
     "name": "stderr",
     "output_type": "stream",
     "text": [
      "Epoch (train) 1/10: 100%|███████████████| 202/202 [31:26<00:00,  9.34s/it, accepor_recall=0.868, donor_recall=0.875, loss=0.000214, pred_l1_dist=0]\n"
     ]
    },
    {
     "name": "stdout",
     "output_type": "stream",
     "text": [
      "epoch: 1/10, train loss = 0.007809\n"
     ]
    },
    {
     "name": "stderr",
     "output_type": "stream",
     "text": [
      "Epoch (val) 1/10: 100%|███████████████████| 23/23 [04:12<00:00, 10.99s/it, accepor_recall=0.893, donor_recall=0.912, loss=0.000382, pred_l1_dist=0]\n"
     ]
    },
    {
     "name": "stdout",
     "output_type": "stream",
     "text": [
      "\n",
      "\u001b[1mAcceptor:\u001b[0m\n",
      "0.9658\t0.8703\t0.9723\t0.9879\t0.9195\t0.9810000061988831\t0.7139999866485596\t0.04039999842643738\t0.004999999888241291\t21432\n",
      "\n",
      "\u001b[1mDonor:\u001b[0m\n",
      "0.9644\t0.882\t0.9777\t0.9912\t0.9278\t0.9868999719619751\t0.6621999740600586\t0.02280000038444996\t0.0027000000700354576\t21432\n",
      "epoch: 1/10, val loss = 0.000303\n"
     ]
    },
    {
     "name": "stderr",
     "output_type": "stream",
     "text": [
      "Epoch (train) 2/10: 100%|███████████████| 202/202 [30:59<00:00,  9.21s/it, accepor_recall=0.902, donor_recall=0.906, loss=0.000181, pred_l1_dist=0]\n"
     ]
    },
    {
     "name": "stdout",
     "output_type": "stream",
     "text": [
      "epoch: 2/10, train loss = 0.000193\n"
     ]
    },
    {
     "name": "stderr",
     "output_type": "stream",
     "text": [
      "Epoch (val) 2/10: 100%|███████████████████| 23/23 [04:18<00:00, 11.26s/it, accepor_recall=0.907, donor_recall=0.929, loss=0.000321, pred_l1_dist=0]\n"
     ]
    },
    {
     "name": "stdout",
     "output_type": "stream",
     "text": [
      "\n",
      "\u001b[1mAcceptor:\u001b[0m\n",
      "0.9716\t0.8975\t0.9827\t0.9904\t0.9388\t0.9692000150680542\t0.6191999912261963\t0.020800000056624413\t0.003000000026077032\t21432\n",
      "\n",
      "\u001b[1mDonor:\u001b[0m\n",
      "0.9707\t0.8985\t0.9838\t0.9938\t0.9395\t0.9829999804496765\t0.7416999936103821\t0.022600000724196434\t0.0017999999690800905\t21432\n",
      "epoch: 2/10, val loss = 0.000248\n"
     ]
    },
    {
     "name": "stderr",
     "output_type": "stream",
     "text": [
      "Epoch (train) 3/10: 100%|███████████████| 202/202 [30:49<00:00,  9.16s/it, accepor_recall=0.917, donor_recall=0.928, loss=0.000148, pred_l1_dist=0]\n"
     ]
    },
    {
     "name": "stdout",
     "output_type": "stream",
     "text": [
      "epoch: 3/10, train loss = 0.000167\n"
     ]
    },
    {
     "name": "stderr",
     "output_type": "stream",
     "text": [
      "Epoch (val) 3/10: 100%|███████████████████| 23/23 [04:35<00:00, 11.97s/it, accepor_recall=0.886, donor_recall=0.884, loss=0.000283, pred_l1_dist=0]\n"
     ]
    },
    {
     "name": "stdout",
     "output_type": "stream",
     "text": [
      "\n",
      "\u001b[1mAcceptor:\u001b[0m\n",
      "0.9727\t0.9013\t0.9819\t0.9909\t0.9422\t0.9591000080108643\t0.45570001006126404\t0.009200000204145908\t0.001500000013038516\t21432\n",
      "\n",
      "\u001b[1mDonor:\u001b[0m\n",
      "0.9729\t0.9058\t0.9864\t0.9939\t0.9462\t0.9663000106811523\t0.3671000003814697\t0.006399999838322401\t0.0012000000569969416\t21432\n",
      "epoch: 3/10, val loss = 0.000220\n"
     ]
    },
    {
     "name": "stderr",
     "output_type": "stream",
     "text": [
      "Epoch (train) 4/10: 100%|████████████████| 202/202 [31:24<00:00,  9.33s/it, accepor_recall=0.926, donor_recall=0.93, loss=0.000153, pred_l1_dist=0]\n"
     ]
    },
    {
     "name": "stdout",
     "output_type": "stream",
     "text": [
      "epoch: 4/10, train loss = 0.000147\n"
     ]
    },
    {
     "name": "stderr",
     "output_type": "stream",
     "text": [
      "Epoch (val) 4/10: 100%|███████████████████| 23/23 [04:14<00:00, 11.07s/it, accepor_recall=0.905, donor_recall=0.879, loss=0.000264, pred_l1_dist=0]\n"
     ]
    },
    {
     "name": "stdout",
     "output_type": "stream",
     "text": [
      "\n",
      "\u001b[1mAcceptor:\u001b[0m\n",
      "0.9734\t0.9149\t0.9851\t0.993\t0.9497\t0.9753000140190125\t0.5483999848365784\t0.015599999576807022\t0.002899999963119626\t21432\n",
      "\n",
      "\u001b[1mDonor:\u001b[0m\n",
      "0.9737\t0.9161\t0.9887\t0.9943\t0.9518\t0.9541000127792358\t0.3944999873638153\t0.007000000216066837\t0.0013000000035390258\t21432\n",
      "epoch: 4/10, val loss = 0.000201\n"
     ]
    },
    {
     "name": "stderr",
     "output_type": "stream",
     "text": [
      "Epoch (train) 5/10: 100%|███████████████| 202/202 [31:27<00:00,  9.34s/it, accepor_recall=0.937, donor_recall=0.942, loss=0.000137, pred_l1_dist=0]\n"
     ]
    },
    {
     "name": "stdout",
     "output_type": "stream",
     "text": [
      "epoch: 5/10, train loss = 0.000133\n"
     ]
    },
    {
     "name": "stderr",
     "output_type": "stream",
     "text": [
      "Epoch (val) 5/10: 100%|███████████████████| 23/23 [04:15<00:00, 11.12s/it, accepor_recall=0.907, donor_recall=0.902, loss=0.000252, pred_l1_dist=0]\n"
     ]
    },
    {
     "name": "stdout",
     "output_type": "stream",
     "text": [
      "\n",
      "\u001b[1mAcceptor:\u001b[0m\n",
      "0.9735\t0.9199\t0.9863\t0.9922\t0.9509\t0.9711999893188477\t0.47920000553131104\t0.005200000014156103\t0.0010000000474974513\t21432\n",
      "\n",
      "\u001b[1mDonor:\u001b[0m\n",
      "0.9728\t0.9213\t0.9892\t0.9938\t0.9536\t0.9634000062942505\t0.36160001158714294\t0.0024999999441206455\t0.00039999998989515007\t21432\n",
      "epoch: 5/10, val loss = 0.000190\n"
     ]
    },
    {
     "name": "stderr",
     "output_type": "stream",
     "text": [
      "Epoch (train) 6/10: 100%|███████████████| 202/202 [31:20<00:00,  9.31s/it, accepor_recall=0.944, donor_recall=0.939, loss=0.000122, pred_l1_dist=0]\n"
     ]
    },
    {
     "name": "stdout",
     "output_type": "stream",
     "text": [
      "epoch: 6/10, train loss = 0.000124\n"
     ]
    },
    {
     "name": "stderr",
     "output_type": "stream",
     "text": [
      "Epoch (val) 6/10: 100%|███████████████████| 23/23 [04:51<00:00, 12.66s/it, accepor_recall=0.795, donor_recall=0.807, loss=0.000374, pred_l1_dist=0]\n"
     ]
    },
    {
     "name": "stdout",
     "output_type": "stream",
     "text": [
      "\n",
      "\u001b[1mAcceptor:\u001b[0m\n",
      "0.9749\t0.901\t0.9782\t0.989\t0.941\t0.925000011920929\t0.07289999723434448\t0.000699999975040555\t9.999999747378752e-05\t21432\n",
      "\n",
      "\u001b[1mDonor:\u001b[0m\n",
      "0.9715\t0.8972\t0.982\t0.9915\t0.9411\t0.9253000020980835\t0.10100000351667404\t0.0007999999797903001\t9.999999747378752e-05\t21432\n",
      "epoch: 6/10, val loss = 0.000311\n"
     ]
    },
    {
     "name": "stderr",
     "output_type": "stream",
     "text": [
      "Epoch (train) 7/10: 100%|███████████████| 202/202 [30:55<00:00,  9.19s/it, accepor_recall=0.947, donor_recall=0.949, loss=0.000116, pred_l1_dist=0]\n"
     ]
    },
    {
     "name": "stdout",
     "output_type": "stream",
     "text": [
      "epoch: 7/10, train loss = 0.000116\n"
     ]
    },
    {
     "name": "stderr",
     "output_type": "stream",
     "text": [
      "Epoch (val) 7/10: 100%|███████████████████| 23/23 [04:10<00:00, 10.88s/it, accepor_recall=0.886, donor_recall=0.877, loss=0.000264, pred_l1_dist=0]\n"
     ]
    },
    {
     "name": "stdout",
     "output_type": "stream",
     "text": [
      "\n",
      "\u001b[1mAcceptor:\u001b[0m\n",
      "0.9761\t0.9197\t0.9855\t0.9925\t0.9525\t0.9696000218391418\t0.36070001125335693\t0.004600000102072954\t0.0008999999845400453\t21432\n",
      "\n",
      "\u001b[1mDonor:\u001b[0m\n",
      "0.9754\t0.9212\t0.9896\t0.9943\t0.9546\t0.9480999708175659\t0.27480000257492065\t0.002199999988079071\t0.00039999998989515007\t21432\n",
      "epoch: 7/10, val loss = 0.000197\n"
     ]
    },
    {
     "name": "stderr",
     "output_type": "stream",
     "text": [
      "Epoch (train) 8/10: 100%|█████████████████| 202/202 [30:58<00:00,  9.20s/it, accepor_recall=0.955, donor_recall=0.963, loss=0.0001, pred_l1_dist=0]\n"
     ]
    },
    {
     "name": "stdout",
     "output_type": "stream",
     "text": [
      "epoch: 8/10, train loss = 0.000096\n"
     ]
    },
    {
     "name": "stderr",
     "output_type": "stream",
     "text": [
      "Epoch (val) 8/10: 100%|████████████████████| 23/23 [04:10<00:00, 10.88s/it, accepor_recall=0.921, donor_recall=0.933, loss=0.00024, pred_l1_dist=0]\n"
     ]
    },
    {
     "name": "stdout",
     "output_type": "stream",
     "text": [
      "\n",
      "\u001b[1mAcceptor:\u001b[0m\n",
      "0.9757\t0.9266\t0.9879\t0.9941\t0.9564\t0.98580002784729\t0.5626999735832214\t0.004900000058114529\t0.0008999999845400453\t21432\n",
      "\n",
      "\u001b[1mDonor:\u001b[0m\n",
      "0.975\t0.9302\t0.9915\t0.9952\t0.9585\t0.988099992275238\t0.6190000176429749\t0.004100000020116568\t0.0006000000284984708\t21432\n",
      "epoch: 8/10, val loss = 0.000177\n"
     ]
    },
    {
     "name": "stderr",
     "output_type": "stream",
     "text": [
      "Epoch (train) 9/10: 100%|████████████████| 202/202 [30:55<00:00,  9.18s/it, accepor_recall=0.962, donor_recall=0.964, loss=7.36e-5, pred_l1_dist=0]\n"
     ]
    },
    {
     "name": "stdout",
     "output_type": "stream",
     "text": [
      "epoch: 9/10, train loss = 0.000082\n"
     ]
    },
    {
     "name": "stderr",
     "output_type": "stream",
     "text": [
      "Epoch (val) 9/10: 100%|████████████████████| 23/23 [04:09<00:00, 10.86s/it, accepor_recall=0.925, donor_recall=0.93, loss=0.000232, pred_l1_dist=0]\n"
     ]
    },
    {
     "name": "stdout",
     "output_type": "stream",
     "text": [
      "\n",
      "\u001b[1mAcceptor:\u001b[0m\n",
      "0.9742\t0.9299\t0.989\t0.9938\t0.9563\t0.9805999994277954\t0.6468999981880188\t0.003599999938160181\t0.0006000000284984708\t21432\n",
      "\n",
      "\u001b[1mDonor:\u001b[0m\n",
      "0.9742\t0.9337\t0.9922\t0.9954\t0.9596\t0.984499990940094\t0.6212000250816345\t0.0024999999441206455\t0.00039999998989515007\t21432\n",
      "epoch: 9/10, val loss = 0.000171\n"
     ]
    },
    {
     "name": "stderr",
     "output_type": "stream",
     "text": [
      "Epoch (train) 10/10: 100%|████████████████| 202/202 [30:49<00:00,  9.15s/it, accepor_recall=0.969, donor_recall=0.97, loss=8.16e-5, pred_l1_dist=0]\n"
     ]
    },
    {
     "name": "stdout",
     "output_type": "stream",
     "text": [
      "epoch: 10/10, train loss = 0.000072\n"
     ]
    },
    {
     "name": "stderr",
     "output_type": "stream",
     "text": [
      "Epoch (val) 10/10: 100%|██████████████████| 23/23 [04:01<00:00, 10.48s/it, accepor_recall=0.911, donor_recall=0.915, loss=0.000241, pred_l1_dist=0]\n"
     ]
    },
    {
     "name": "stdout",
     "output_type": "stream",
     "text": [
      "\n",
      "\u001b[1mAcceptor:\u001b[0m\n",
      "0.9737\t0.93\t0.9875\t0.9935\t0.9548\t0.9839000105857849\t0.507099986076355\t0.002400000113993883\t0.00039999998989515007\t21432\n",
      "\n",
      "\u001b[1mDonor:\u001b[0m\n",
      "0.9728\t0.9322\t0.9918\t0.995\t0.9579\t0.9847000241279602\t0.5019999742507935\t0.002099999925121665\t0.0003000000142492354\t21432\n",
      "epoch: 10/10, val loss = 0.000176\n"
     ]
    },
    {
     "data": {
      "image/png": "[encoded data removed]",
      "text/plain": [
       "<Figure size 432x288 with 1 Axes>"
      ]
     },
     "metadata": {
      "needs_background": "light"
     },
     "output_type": "display_data"
    },
    {
     "name": "stderr",
     "output_type": "stream",
     "text": [
      "Epoch (train) 1/10: 100%|████████████████| 202/202 [36:23<00:00, 10.81s/it, accepor_recall=0.87, donor_recall=0.883, loss=0.000218, pred_l1_dist=0]\n"
     ]
    },
    {
     "name": "stdout",
     "output_type": "stream",
     "text": [
      "epoch: 1/10, train loss = 0.007632\n"
     ]
    },
    {
     "name": "stderr",
     "output_type": "stream",
     "text": [
      "Epoch (val) 1/10: 100%|████████████████████| 23/23 [05:28<00:00, 14.27s/it, accepor_recall=0.838, donor_recall=0.82, loss=0.000349, pred_l1_dist=0]\n"
     ]
    },
    {
     "name": "stdout",
     "output_type": "stream",
     "text": [
      "\n",
      "\u001b[1mAcceptor:\u001b[0m\n",
      "0.9664\t0.8757\t0.9737\t0.9873\t0.9222\t0.9438999891281128\t0.40630000829696655\t0.015699999406933784\t0.002400000113993883\t21432\n",
      "\n",
      "\u001b[1mDonor:\u001b[0m\n",
      "0.97\t0.8842\t0.9797\t0.9914\t0.9304\t0.934499979019165\t0.2903999984264374\t0.00800000037997961\t0.0012000000569969416\t21432\n",
      "epoch: 1/10, val loss = 0.000268\n"
     ]
    },
    {
     "name": "stderr",
     "output_type": "stream",
     "text": [
      "Epoch (train) 2/10: 100%|████████████████| 202/202 [36:23<00:00, 10.81s/it, accepor_recall=0.903, donor_recall=0.91, loss=0.000204, pred_l1_dist=0]\n"
     ]
    },
    {
     "name": "stdout",
     "output_type": "stream",
     "text": [
      "epoch: 2/10, train loss = 0.000194\n"
     ]
    },
    {
     "name": "stderr",
     "output_type": "stream",
     "text": [
      "Epoch (val) 2/10: 100%|████████████████████| 23/23 [05:29<00:00, 14.31s/it, accepor_recall=0.86, donor_recall=0.869, loss=0.000312, pred_l1_dist=0]\n"
     ]
    },
    {
     "name": "stdout",
     "output_type": "stream",
     "text": [
      "\n",
      "\u001b[1mAcceptor:\u001b[0m\n",
      "0.9721\t0.892\t0.9783\t0.9891\t0.9343\t0.9653000235557556\t0.35530000925064087\t0.006399999838322401\t0.0010000000474974513\t21432\n",
      "\n",
      "\u001b[1mDonor:\u001b[0m\n",
      "0.9714\t0.893\t0.9818\t0.993\t0.9374\t0.9717000126838684\t0.3937999904155731\t0.006200000178068876\t0.0007999999797903001\t21432\n",
      "epoch: 2/10, val loss = 0.000245\n"
     ]
    },
    {
     "name": "stderr",
     "output_type": "stream",
     "text": [
      "Epoch (train) 3/10: 100%|███████████████| 202/202 [36:24<00:00, 10.81s/it, accepor_recall=0.924, donor_recall=0.928, loss=0.000169, pred_l1_dist=0]\n"
     ]
    },
    {
     "name": "stdout",
     "output_type": "stream",
     "text": [
      "epoch: 3/10, train loss = 0.000165\n"
     ]
    },
    {
     "name": "stderr",
     "output_type": "stream",
     "text": [
      "Epoch (val) 3/10: 100%|███████████████████| 23/23 [05:26<00:00, 14.19s/it, accepor_recall=0.912, donor_recall=0.896, loss=0.000278, pred_l1_dist=0]\n"
     ]
    },
    {
     "name": "stdout",
     "output_type": "stream",
     "text": [
      "\n",
      "\u001b[1mAcceptor:\u001b[0m\n",
      "0.9749\t0.9113\t0.9844\t0.9916\t0.9474\t0.9758999943733215\t0.5663999915122986\t0.007699999958276749\t0.0012000000569969416\t21432\n",
      "\n",
      "\u001b[1mDonor:\u001b[0m\n",
      "0.9728\t0.9083\t0.9877\t0.9937\t0.9479\t0.9775000214576721\t0.47209998965263367\t0.004399999976158142\t0.0005000000237487257\t21432\n",
      "epoch: 3/10, val loss = 0.000208\n"
     ]
    },
    {
     "name": "stderr",
     "output_type": "stream",
     "text": [
      "Epoch (train) 4/10: 100%|███████████████| 202/202 [36:39<00:00, 10.89s/it, accepor_recall=0.919, donor_recall=0.929, loss=0.000142, pred_l1_dist=0]\n"
     ]
    },
    {
     "name": "stdout",
     "output_type": "stream",
     "text": [
      "epoch: 4/10, train loss = 0.000146\n"
     ]
    },
    {
     "name": "stderr",
     "output_type": "stream",
     "text": [
      "Epoch (val) 4/10: 100%|███████████████████| 23/23 [05:27<00:00, 14.25s/it, accepor_recall=0.851, donor_recall=0.864, loss=0.000287, pred_l1_dist=0]\n"
     ]
    },
    {
     "name": "stdout",
     "output_type": "stream",
     "text": [
      "\n",
      "\u001b[1mAcceptor:\u001b[0m\n",
      "0.976\t0.9163\t0.9847\t0.9917\t0.9514\t0.954200029373169\t0.210999995470047\t0.0024999999441206455\t0.0005000000237487257\t21432\n",
      "\n",
      "\u001b[1mDonor:\u001b[0m\n",
      "0.9725\t0.9082\t0.9873\t0.9943\t0.9477\t0.9735000133514404\t0.30869999527931213\t0.004100000020116568\t0.000699999975040555\t21432\n",
      "epoch: 4/10, val loss = 0.000217\n"
     ]
    },
    {
     "name": "stderr",
     "output_type": "stream",
     "text": [
      "Epoch (train) 5/10: 100%|████████████████| 202/202 [36:39<00:00, 10.89s/it, accepor_recall=0.934, donor_recall=0.941, loss=0.00013, pred_l1_dist=0]\n"
     ]
    },
    {
     "name": "stdout",
     "output_type": "stream",
     "text": [
      "epoch: 5/10, train loss = 0.000133\n"
     ]
    },
    {
     "name": "stderr",
     "output_type": "stream",
     "text": [
      "Epoch (val) 5/10: 100%|███████████████████| 23/23 [05:29<00:00, 14.32s/it, accepor_recall=0.876, donor_recall=0.894, loss=0.000266, pred_l1_dist=0]\n"
     ]
    },
    {
     "name": "stdout",
     "output_type": "stream",
     "text": [
      "\n",
      "\u001b[1mAcceptor:\u001b[0m\n",
      "0.9756\t0.9176\t0.9853\t0.9917\t0.9498\t0.9523000121116638\t0.2750000059604645\t0.002199999988079071\t0.00039999998989515007\t21432\n",
      "\n",
      "\u001b[1mDonor:\u001b[0m\n",
      "0.9731\t0.9197\t0.9895\t0.9946\t0.9533\t0.9562000036239624\t0.3662000000476837\t0.0026000000070780516\t0.00039999998989515007\t21432\n",
      "epoch: 5/10, val loss = 0.000201\n"
     ]
    },
    {
     "name": "stderr",
     "output_type": "stream",
     "text": [
      "Epoch (train) 6/10: 100%|████████████████| 202/202 [36:22<00:00, 10.81s/it, accepor_recall=0.941, donor_recall=0.942, loss=0.00011, pred_l1_dist=0]\n"
     ]
    },
    {
     "name": "stdout",
     "output_type": "stream",
     "text": [
      "epoch: 6/10, train loss = 0.000124\n"
     ]
    },
    {
     "name": "stderr",
     "output_type": "stream",
     "text": [
      "Epoch (val) 6/10: 100%|███████████████████| 23/23 [05:42<00:00, 14.88s/it, accepor_recall=0.927, donor_recall=0.939, loss=0.000266, pred_l1_dist=0]\n"
     ]
    },
    {
     "name": "stdout",
     "output_type": "stream",
     "text": [
      "\n",
      "\u001b[1mAcceptor:\u001b[0m\n",
      "0.9735\t0.9213\t0.9865\t0.993\t0.9531\t0.9909999966621399\t0.6524999737739563\t0.0044999998062849045\t0.000699999975040555\t21432\n",
      "\n",
      "\u001b[1mDonor:\u001b[0m\n",
      "0.9741\t0.9252\t0.9909\t0.9958\t0.9555\t0.9887999892234802\t0.6679999828338623\t0.004399999976158142\t0.00039999998989515007\t21432\n",
      "epoch: 6/10, val loss = 0.000194\n"
     ]
    },
    {
     "name": "stderr",
     "output_type": "stream",
     "text": [
      "Epoch (train) 7/10: 100%|███████████████| 202/202 [36:17<00:00, 10.78s/it, accepor_recall=0.948, donor_recall=0.952, loss=0.000114, pred_l1_dist=0]\n"
     ]
    },
    {
     "name": "stdout",
     "output_type": "stream",
     "text": [
      "epoch: 7/10, train loss = 0.000116\n"
     ]
    },
    {
     "name": "stderr",
     "output_type": "stream",
     "text": [
      "Epoch (val) 7/10: 100%|███████████████████| 23/23 [05:42<00:00, 14.90s/it, accepor_recall=0.871, donor_recall=0.893, loss=0.000269, pred_l1_dist=0]\n"
     ]
    },
    {
     "name": "stdout",
     "output_type": "stream",
     "text": [
      "\n",
      "\u001b[1mAcceptor:\u001b[0m\n",
      "0.9774\t0.9177\t0.9834\t0.9904\t0.9503\t0.9610999822616577\t0.27549999952316284\t0.0017000000225380063\t0.0003000000142492354\t21432\n",
      "\n",
      "\u001b[1mDonor:\u001b[0m\n",
      "0.9762\t0.9241\t0.9886\t0.9943\t0.9561\t0.9735999703407288\t0.29319998621940613\t0.0010000000474974513\t0.00019999999494757503\t21432\n",
      "epoch: 7/10, val loss = 0.000210\n"
     ]
    },
    {
     "name": "stderr",
     "output_type": "stream",
     "text": [
      "Epoch (train) 8/10: 100%|████████████████| 202/202 [36:38<00:00, 10.88s/it, accepor_recall=0.961, donor_recall=0.964, loss=8.88e-5, pred_l1_dist=0]\n"
     ]
    },
    {
     "name": "stdout",
     "output_type": "stream",
     "text": [
      "epoch: 8/10, train loss = 0.000096\n"
     ]
    },
    {
     "name": "stderr",
     "output_type": "stream",
     "text": [
      "Epoch (val) 8/10: 100%|███████████████████| 23/23 [05:30<00:00, 14.35s/it, accepor_recall=0.911, donor_recall=0.914, loss=0.000237, pred_l1_dist=0]\n"
     ]
    },
    {
     "name": "stdout",
     "output_type": "stream",
     "text": [
      "\n",
      "\u001b[1mAcceptor:\u001b[0m\n",
      "0.9762\t0.9286\t0.9874\t0.9932\t0.956\t0.9742000102996826\t0.43810001015663147\t0.002400000113993883\t0.00039999998989515007\t21432\n",
      "\n",
      "\u001b[1mDonor:\u001b[0m\n",
      "0.9765\t0.9318\t0.9907\t0.9957\t0.9601\t0.9782000184059143\t0.45910000801086426\t0.002199999988079071\t0.0003000000142492354\t21432\n",
      "epoch: 8/10, val loss = 0.000174\n"
     ]
    },
    {
     "name": "stderr",
     "output_type": "stream",
     "text": [
      "Epoch (train) 9/10: 100%|████████████████| 202/202 [36:38<00:00, 10.88s/it, accepor_recall=0.964, donor_recall=0.968, loss=7.45e-5, pred_l1_dist=0]\n"
     ]
    },
    {
     "name": "stdout",
     "output_type": "stream",
     "text": [
      "epoch: 9/10, train loss = 0.000082\n"
     ]
    },
    {
     "name": "stderr",
     "output_type": "stream",
     "text": [
      "Epoch (val) 9/10: 100%|███████████████████| 23/23 [05:35<00:00, 14.58s/it, accepor_recall=0.918, donor_recall=0.927, loss=0.000238, pred_l1_dist=0]\n"
     ]
    },
    {
     "name": "stdout",
     "output_type": "stream",
     "text": [
      "\n",
      "\u001b[1mAcceptor:\u001b[0m\n",
      "0.9765\t0.9275\t0.9888\t0.9942\t0.9566\t0.9847999811172485\t0.5511999726295471\t0.002199999988079071\t0.0003000000142492354\t21432\n",
      "\n",
      "\u001b[1mDonor:\u001b[0m\n",
      "0.9757\t0.93\t0.9914\t0.9959\t0.9597\t0.986299991607666\t0.5806999802589417\t0.0019000000320374966\t0.00019999999494757503\t21432\n",
      "epoch: 9/10, val loss = 0.000177\n"
     ]
    },
    {
     "name": "stderr",
     "output_type": "stream",
     "text": [
      "Epoch (train) 10/10: 100%|███████████████| 202/202 [36:45<00:00, 10.92s/it, accepor_recall=0.972, donor_recall=0.974, loss=7.28e-5, pred_l1_dist=0]\n"
     ]
    },
    {
     "name": "stdout",
     "output_type": "stream",
     "text": [
      "epoch: 10/10, train loss = 0.000073\n"
     ]
    },
    {
     "name": "stderr",
     "output_type": "stream",
     "text": [
      "Epoch (val) 10/10: 100%|██████████████████| 23/23 [05:40<00:00, 14.79s/it, accepor_recall=0.911, donor_recall=0.918, loss=0.000242, pred_l1_dist=0]\n"
     ]
    },
    {
     "name": "stdout",
     "output_type": "stream",
     "text": [
      "\n",
      "\u001b[1mAcceptor:\u001b[0m\n",
      "0.9784\t0.9307\t0.9868\t0.9925\t0.9579\t0.9842000007629395\t0.4165000021457672\t0.00139999995008111\t0.0003000000142492354\t21432\n",
      "\n",
      "\u001b[1mDonor:\u001b[0m\n",
      "0.978\t0.9319\t0.9901\t0.995\t0.9607\t0.9818000197410583\t0.43220001459121704\t0.0013000000035390258\t0.00019999999494757503\t21432\n",
      "epoch: 10/10, val loss = 0.000181\n"
     ]
    },
    {
     "data": {
      "image/png": "[encoded data removed]",
      "text/plain": [
       "<Figure size 432x288 with 1 Axes>"
      ]
     },
     "metadata": {
      "needs_background": "light"
     },
     "output_type": "display_data"
    },
    {
     "name": "stderr",
     "output_type": "stream",
     "text": [
      "Epoch (train) 1/10: 100%|████████████████| 202/202 [41:42<00:00, 12.39s/it, accepor_recall=0.87, donor_recall=0.879, loss=0.000221, pred_l1_dist=0]\n"
     ]
    },
    {
     "name": "stdout",
     "output_type": "stream",
     "text": [
      "epoch: 1/10, train loss = 0.006854\n"
     ]
    },
    {
     "name": "stderr",
     "output_type": "stream",
     "text": [
      "Epoch (val) 1/10: 100%|███████████████████| 23/23 [06:40<00:00, 17.40s/it, accepor_recall=0.855, donor_recall=0.898, loss=0.000384, pred_l1_dist=0]\n"
     ]
    },
    {
     "name": "stdout",
     "output_type": "stream",
     "text": [
      "\n",
      "\u001b[1mAcceptor:\u001b[0m\n",
      "0.9656\t0.8704\t0.9716\t0.9874\t0.9201\t0.9634000062942505\t0.5371999740600586\t0.02930000051856041\t0.0044999998062849045\t21432\n",
      "\n",
      "\u001b[1mDonor:\u001b[0m\n",
      "0.9623\t0.8743\t0.9774\t0.9904\t0.922\t0.975600004196167\t0.6883999705314636\t0.025200000032782555\t0.0031999999191612005\t21432\n",
      "epoch: 1/10, val loss = 0.000294\n"
     ]
    },
    {
     "name": "stderr",
     "output_type": "stream",
     "text": [
      "Epoch (train) 2/10: 100%|███████████████| 202/202 [41:51<00:00, 12.43s/it, accepor_recall=0.901, donor_recall=0.907, loss=0.000196, pred_l1_dist=0]\n"
     ]
    },
    {
     "name": "stdout",
     "output_type": "stream",
     "text": [
      "epoch: 2/10, train loss = 0.000193\n"
     ]
    },
    {
     "name": "stderr",
     "output_type": "stream",
     "text": [
      "Epoch (val) 2/10: 100%|███████████████████| 23/23 [07:13<00:00, 18.86s/it, accepor_recall=0.828, donor_recall=0.836, loss=0.000379, pred_l1_dist=0]\n"
     ]
    },
    {
     "name": "stdout",
     "output_type": "stream",
     "text": [
      "\n",
      "\u001b[1mAcceptor:\u001b[0m\n",
      "0.9686\t0.8777\t0.9691\t0.9841\t0.923\t0.9473000168800354\t0.28209999203681946\t0.01720000058412552\t0.004399999976158142\t21432\n",
      "\n",
      "\u001b[1mDonor:\u001b[0m\n",
      "0.9685\t0.8797\t0.972\t0.9834\t0.9228\t0.9537000060081482\t0.2312999963760376\t0.005499999970197678\t0.0010000000474974513\t21432\n",
      "epoch: 2/10, val loss = 0.000300\n"
     ]
    },
    {
     "name": "stderr",
     "output_type": "stream",
     "text": [
      "Epoch (train) 3/10: 100%|████████████████| 202/202 [41:55<00:00, 12.45s/it, accepor_recall=0.92, donor_recall=0.927, loss=0.000173, pred_l1_dist=0]\n"
     ]
    },
    {
     "name": "stdout",
     "output_type": "stream",
     "text": [
      "epoch: 3/10, train loss = 0.000165\n"
     ]
    },
    {
     "name": "stderr",
     "output_type": "stream",
     "text": [
      "Epoch (val) 3/10: 100%|███████████████████| 23/23 [06:41<00:00, 17.45s/it, accepor_recall=0.905, donor_recall=0.894, loss=0.000288, pred_l1_dist=0]\n"
     ]
    },
    {
     "name": "stdout",
     "output_type": "stream",
     "text": [
      "\n",
      "\u001b[1mAcceptor:\u001b[0m\n",
      "0.9722\t0.9033\t0.9825\t0.991\t0.9424\t0.9724000096321106\t0.5232999920845032\t0.00800000037997961\t0.0013000000035390258\t21432\n",
      "\n",
      "\u001b[1mDonor:\u001b[0m\n",
      "0.9705\t0.9084\t0.9882\t0.9948\t0.9479\t0.955299973487854\t0.42010000348091125\t0.00430000014603138\t0.0006000000284984708\t21432\n",
      "epoch: 3/10, val loss = 0.000219\n"
     ]
    },
    {
     "name": "stderr",
     "output_type": "stream",
     "text": [
      "Epoch (train) 4/10: 100%|███████████████| 202/202 [41:20<00:00, 12.28s/it, accepor_recall=0.924, donor_recall=0.928, loss=0.000142, pred_l1_dist=0]\n"
     ]
    },
    {
     "name": "stdout",
     "output_type": "stream",
     "text": [
      "epoch: 4/10, train loss = 0.000148\n"
     ]
    },
    {
     "name": "stderr",
     "output_type": "stream",
     "text": [
      "Epoch (val) 4/10: 100%|████████████████████| 23/23 [06:36<00:00, 17.25s/it, accepor_recall=0.847, donor_recall=0.852, loss=0.00033, pred_l1_dist=0]\n"
     ]
    },
    {
     "name": "stdout",
     "output_type": "stream",
     "text": [
      "\n",
      "\u001b[1mAcceptor:\u001b[0m\n",
      "0.9683\t0.896\t0.9755\t0.9874\t0.931\t0.9550999999046326\t0.2540000081062317\t0.00419999985024333\t0.000699999975040555\t21432\n",
      "\n",
      "\u001b[1mDonor:\u001b[0m\n",
      "0.9691\t0.907\t0.987\t0.9934\t0.9421\t0.9333000183105469\t0.14640000462532043\t0.000699999975040555\t9.999999747378752e-05\t21432\n",
      "epoch: 4/10, val loss = 0.000265\n"
     ]
    },
    {
     "name": "stderr",
     "output_type": "stream",
     "text": [
      "Epoch (train) 5/10: 100%|███████████████| 202/202 [41:10<00:00, 12.23s/it, accepor_recall=0.935, donor_recall=0.938, loss=0.000142, pred_l1_dist=0]\n"
     ]
    },
    {
     "name": "stdout",
     "output_type": "stream",
     "text": [
      "epoch: 5/10, train loss = 0.000135\n"
     ]
    },
    {
     "name": "stderr",
     "output_type": "stream",
     "text": [
      "Epoch (val) 5/10: 100%|███████████████████| 23/23 [06:39<00:00, 17.39s/it, accepor_recall=0.897, donor_recall=0.915, loss=0.000258, pred_l1_dist=0]\n"
     ]
    },
    {
     "name": "stdout",
     "output_type": "stream",
     "text": [
      "\n",
      "\u001b[1mAcceptor:\u001b[0m\n",
      "0.9698\t0.9161\t0.9868\t0.9925\t0.9477\t0.9602000117301941\t0.3855000138282776\t0.0017999999690800905\t0.0003000000142492354\t21432\n",
      "\n",
      "\u001b[1mDonor:\u001b[0m\n",
      "0.972\t0.9208\t0.9908\t0.9951\t0.9538\t0.9635999798774719\t0.48910000920295715\t0.004100000020116568\t0.0006000000284984708\t21432\n",
      "epoch: 5/10, val loss = 0.000196\n"
     ]
    },
    {
     "name": "stderr",
     "output_type": "stream",
     "text": [
      "Epoch (train) 6/10: 100%|███████████████| 202/202 [41:24<00:00, 12.30s/it, accepor_recall=0.943, donor_recall=0.949, loss=0.000124, pred_l1_dist=0]\n"
     ]
    },
    {
     "name": "stdout",
     "output_type": "stream",
     "text": [
      "epoch: 6/10, train loss = 0.000125\n"
     ]
    },
    {
     "name": "stderr",
     "output_type": "stream",
     "text": [
      "Epoch (val) 6/10: 100%|███████████████████| 23/23 [06:46<00:00, 17.66s/it, accepor_recall=0.749, donor_recall=0.808, loss=0.000411, pred_l1_dist=0]\n"
     ]
    },
    {
     "name": "stdout",
     "output_type": "stream",
     "text": [
      "\n",
      "\u001b[1mAcceptor:\u001b[0m\n",
      "0.9714\t0.8939\t0.9736\t0.9846\t0.9332\t0.8914999961853027\t0.052400000393390656\t0.0012000000569969416\t0.00019999999494757503\t21432\n",
      "\n",
      "\u001b[1mDonor:\u001b[0m\n",
      "0.9692\t0.8934\t0.9833\t0.9916\t0.9385\t0.964900016784668\t0.12359999865293503\t0.0010000000474974513\t9.999999747378752e-05\t21432\n",
      "epoch: 6/10, val loss = 0.000332\n"
     ]
    },
    {
     "name": "stderr",
     "output_type": "stream",
     "text": [
      "Epoch (train) 7/10: 100%|███████████████| 202/202 [41:22<00:00, 12.29s/it, accepor_recall=0.943, donor_recall=0.953, loss=0.000113, pred_l1_dist=0]\n"
     ]
    },
    {
     "name": "stdout",
     "output_type": "stream",
     "text": [
      "epoch: 7/10, train loss = 0.000118\n"
     ]
    },
    {
     "name": "stderr",
     "output_type": "stream",
     "text": [
      "Epoch (val) 7/10: 100%|████████████████████| 23/23 [06:55<00:00, 18.07s/it, accepor_recall=0.869, donor_recall=0.877, loss=0.00027, pred_l1_dist=0]\n"
     ]
    },
    {
     "name": "stdout",
     "output_type": "stream",
     "text": [
      "\n",
      "\u001b[1mAcceptor:\u001b[0m\n",
      "0.9741\t0.9178\t0.9858\t0.9925\t0.9509\t0.9329000115394592\t0.2671999931335449\t0.0032999999821186066\t0.0006000000284984708\t21432\n",
      "\n",
      "\u001b[1mDonor:\u001b[0m\n",
      "0.9756\t0.9222\t0.9903\t0.9951\t0.9565\t0.9581000208854675\t0.23739999532699585\t0.001500000013038516\t0.00019999999494757503\t21432\n",
      "epoch: 7/10, val loss = 0.000206\n"
     ]
    },
    {
     "name": "stderr",
     "output_type": "stream",
     "text": [
      "Epoch (train) 8/10: 100%|█████████████████| 202/202 [41:37<00:00, 12.36s/it, accepor_recall=0.959, donor_recall=0.964, loss=0.0001, pred_l1_dist=0]\n"
     ]
    },
    {
     "name": "stdout",
     "output_type": "stream",
     "text": [
      "epoch: 8/10, train loss = 0.000097\n"
     ]
    },
    {
     "name": "stderr",
     "output_type": "stream",
     "text": [
      "Epoch (val) 8/10: 100%|███████████████████| 23/23 [06:36<00:00, 17.23s/it, accepor_recall=0.897, donor_recall=0.912, loss=0.000252, pred_l1_dist=0]\n"
     ]
    },
    {
     "name": "stdout",
     "output_type": "stream",
     "text": [
      "\n",
      "\u001b[1mAcceptor:\u001b[0m\n",
      "0.9708\t0.9222\t0.9875\t0.9932\t0.9503\t0.9200000166893005\t0.43050000071525574\t0.002099999925121665\t0.00039999998989515007\t21432\n",
      "\n",
      "\u001b[1mDonor:\u001b[0m\n",
      "0.9718\t0.9276\t0.9908\t0.9946\t0.9541\t0.9319000244140625\t0.47110000252723694\t0.002199999988079071\t0.00039999998989515007\t21432\n",
      "epoch: 8/10, val loss = 0.000187\n"
     ]
    },
    {
     "name": "stderr",
     "output_type": "stream",
     "text": [
      "Epoch (train) 9/10: 100%|████████████████| 202/202 [41:27<00:00, 12.32s/it, accepor_recall=0.965, donor_recall=0.966, loss=8.38e-5, pred_l1_dist=0]\n"
     ]
    },
    {
     "name": "stdout",
     "output_type": "stream",
     "text": [
      "epoch: 9/10, train loss = 0.000083\n"
     ]
    },
    {
     "name": "stderr",
     "output_type": "stream",
     "text": [
      "Epoch (val) 9/10: 100%|███████████████████| 23/23 [06:56<00:00, 18.09s/it, accepor_recall=0.921, donor_recall=0.927, loss=0.000232, pred_l1_dist=0]\n"
     ]
    },
    {
     "name": "stdout",
     "output_type": "stream",
     "text": [
      "\n",
      "\u001b[1mAcceptor:\u001b[0m\n",
      "0.9772\t0.9288\t0.9886\t0.9938\t0.9578\t0.9853000044822693\t0.5809999704360962\t0.0034000000450760126\t0.0006000000284984708\t21432\n",
      "\n",
      "\u001b[1mDonor:\u001b[0m\n",
      "0.9773\t0.9325\t0.9912\t0.9956\t0.9617\t0.9853000044822693\t0.5288000106811523\t0.0024999999441206455\t0.00039999998989515007\t21432\n",
      "epoch: 9/10, val loss = 0.000172\n"
     ]
    },
    {
     "name": "stderr",
     "output_type": "stream",
     "text": [
      "Epoch (train) 10/10: 100%|████████████████| 202/202 [41:21<00:00, 12.28s/it, accepor_recall=0.967, donor_recall=0.97, loss=7.65e-5, pred_l1_dist=0]\n"
     ]
    },
    {
     "name": "stdout",
     "output_type": "stream",
     "text": [
      "epoch: 10/10, train loss = 0.000074\n"
     ]
    },
    {
     "name": "stderr",
     "output_type": "stream",
     "text": [
      "Epoch (val) 10/10: 100%|███████████████████| 23/23 [06:25<00:00, 16.78s/it, accepor_recall=0.91, donor_recall=0.924, loss=0.000241, pred_l1_dist=0]\n"
     ]
    },
    {
     "name": "stdout",
     "output_type": "stream",
     "text": [
      "\n",
      "\u001b[1mAcceptor:\u001b[0m\n",
      "0.9769\t0.9284\t0.987\t0.9921\t0.9562\t0.9861000180244446\t0.4796999990940094\t0.00139999995008111\t0.0003000000142492354\t21432\n",
      "\n",
      "\u001b[1mDonor:\u001b[0m\n",
      "0.9759\t0.934\t0.9908\t0.9945\t0.9615\t0.9855999946594238\t0.4731999933719635\t0.00139999995008111\t0.00019999999494757503\t21432\n",
      "epoch: 10/10, val loss = 0.000179\n"
     ]
    },
    {
     "data": {
      "image/png": "[encoded data removed]",
      "text/plain": [
       "<Figure size 432x288 with 1 Axes>"
      ]
     },
     "metadata": {
      "needs_background": "light"
     },
     "output_type": "display_data"
    },
    {
     "name": "stderr",
     "output_type": "stream",
     "text": [
      "Epoch (train) 1/10: 100%|███████████████| 202/202 [46:42<00:00, 13.88s/it, accepor_recall=0.876, donor_recall=0.889, loss=0.000207, pred_l1_dist=0]\n"
     ]
    },
    {
     "name": "stdout",
     "output_type": "stream",
     "text": [
      "epoch: 1/10, train loss = 0.007757\n"
     ]
    },
    {
     "name": "stderr",
     "output_type": "stream",
     "text": [
      "Epoch (val) 1/10: 100%|███████████████████| 23/23 [08:11<00:00, 21.36s/it, accepor_recall=0.808, donor_recall=0.816, loss=0.000407, pred_l1_dist=0]\n"
     ]
    },
    {
     "name": "stdout",
     "output_type": "stream",
     "text": [
      "\n",
      "\u001b[1mAcceptor:\u001b[0m\n",
      "0.966\t0.8681\t0.9689\t0.9852\t0.9176\t0.9641000032424927\t0.2084999978542328\t0.003599999938160181\t0.0005000000237487257\t21432\n",
      "\n",
      "\u001b[1mDonor:\u001b[0m\n",
      "0.9684\t0.8731\t0.977\t0.9905\t0.9232\t0.9484999775886536\t0.18060000240802765\t0.0019000000320374966\t0.00019999999494757503\t21432\n",
      "epoch: 1/10, val loss = 0.000318\n"
     ]
    },
    {
     "name": "stderr",
     "output_type": "stream",
     "text": [
      "Epoch (train) 2/10: 100%|███████████████| 202/202 [46:35<00:00, 13.84s/it, accepor_recall=0.903, donor_recall=0.908, loss=0.000168, pred_l1_dist=0]\n"
     ]
    },
    {
     "name": "stdout",
     "output_type": "stream",
     "text": [
      "epoch: 2/10, train loss = 0.000194\n"
     ]
    },
    {
     "name": "stderr",
     "output_type": "stream",
     "text": [
      "Epoch (val) 2/10: 100%|███████████████████| 23/23 [08:59<00:00, 23.46s/it, accepor_recall=0.911, donor_recall=0.923, loss=0.000327, pred_l1_dist=0]\n"
     ]
    },
    {
     "name": "stdout",
     "output_type": "stream",
     "text": [
      "\n",
      "\u001b[1mAcceptor:\u001b[0m\n",
      "0.9705\t0.8948\t0.9811\t0.9899\t0.9369\t0.9797000288963318\t0.7178999781608582\t0.016699999570846558\t0.0019000000320374966\t21432\n",
      "\n",
      "\u001b[1mDonor:\u001b[0m\n",
      "0.9674\t0.8909\t0.9855\t0.9937\t0.9358\t0.9710999727249146\t0.7024000287055969\t0.01510000042617321\t0.00139999995008111\t21432\n",
      "epoch: 2/10, val loss = 0.000257\n"
     ]
    },
    {
     "name": "stderr",
     "output_type": "stream",
     "text": [
      "Epoch (train) 3/10: 100%|███████████████| 202/202 [47:12<00:00, 14.02s/it, accepor_recall=0.916, donor_recall=0.923, loss=0.000164, pred_l1_dist=0]\n"
     ]
    },
    {
     "name": "stdout",
     "output_type": "stream",
     "text": [
      "epoch: 3/10, train loss = 0.000169\n"
     ]
    },
    {
     "name": "stderr",
     "output_type": "stream",
     "text": [
      "Epoch (val) 3/10: 100%|███████████████████| 23/23 [08:16<00:00, 21.59s/it, accepor_recall=0.896, donor_recall=0.884, loss=0.000273, pred_l1_dist=0]\n"
     ]
    },
    {
     "name": "stdout",
     "output_type": "stream",
     "text": [
      "\n",
      "\u001b[1mAcceptor:\u001b[0m\n",
      "0.9712\t0.9101\t0.9835\t0.9922\t0.945\t0.9419999718666077\t0.44769999384880066\t0.006800000090152025\t0.0007999999797903001\t21432\n",
      "\n",
      "\u001b[1mDonor:\u001b[0m\n",
      "0.9717\t0.9106\t0.9875\t0.9943\t0.9464\t0.9365000128746033\t0.34529998898506165\t0.0027000000700354576\t0.0003000000142492354\t21432\n",
      "epoch: 3/10, val loss = 0.000213\n"
     ]
    },
    {
     "name": "stderr",
     "output_type": "stream",
     "text": [
      "Epoch (train) 4/10: 100%|████████████████| 202/202 [46:27<00:00, 13.80s/it, accepor_recall=0.925, donor_recall=0.93, loss=0.000154, pred_l1_dist=0]\n"
     ]
    },
    {
     "name": "stdout",
     "output_type": "stream",
     "text": [
      "epoch: 4/10, train loss = 0.000151\n"
     ]
    },
    {
     "name": "stderr",
     "output_type": "stream",
     "text": [
      "Epoch (val) 4/10: 100%|████████████████████| 23/23 [08:16<00:00, 21.59s/it, accepor_recall=0.894, donor_recall=0.883, loss=0.00026, pred_l1_dist=0]\n"
     ]
    },
    {
     "name": "stdout",
     "output_type": "stream",
     "text": [
      "\n",
      "\u001b[1mAcceptor:\u001b[0m\n",
      "0.9747\t0.9149\t0.9853\t0.9925\t0.95\t0.9685999751091003\t0.46000000834465027\t0.008799999952316284\t0.0015999999595806003\t21432\n",
      "\n",
      "\u001b[1mDonor:\u001b[0m\n",
      "0.9744\t0.9154\t0.9895\t0.9949\t0.9523\t0.9645000100135803\t0.3179999887943268\t0.003100000089034438\t0.00039999998989515007\t21432\n",
      "epoch: 4/10, val loss = 0.000202\n"
     ]
    },
    {
     "name": "stderr",
     "output_type": "stream",
     "text": [
      "Epoch (train) 5/10: 100%|███████████████| 202/202 [47:44<00:00, 14.18s/it, accepor_recall=0.926, donor_recall=0.935, loss=0.000143, pred_l1_dist=0]\n"
     ]
    },
    {
     "name": "stdout",
     "output_type": "stream",
     "text": [
      "epoch: 5/10, train loss = 0.000138\n"
     ]
    },
    {
     "name": "stderr",
     "output_type": "stream",
     "text": [
      "Epoch (val) 5/10: 100%|███████████████████| 23/23 [09:02<00:00, 23.57s/it, accepor_recall=0.813, donor_recall=0.831, loss=0.000324, pred_l1_dist=0]\n"
     ]
    },
    {
     "name": "stdout",
     "output_type": "stream",
     "text": [
      "\n",
      "\u001b[1mAcceptor:\u001b[0m\n",
      "0.9727\t0.8998\t0.9821\t0.9913\t0.9416\t0.9077000021934509\t0.19110000133514404\t0.003000000026077032\t0.0005000000237487257\t21432\n",
      "\n",
      "\u001b[1mDonor:\u001b[0m\n",
      "0.9646\t0.8904\t0.9813\t0.9919\t0.9318\t0.9147999882698059\t0.2727000117301941\t0.007899999618530273\t0.001500000013038516\t21432\n",
      "epoch: 5/10, val loss = 0.000259\n"
     ]
    },
    {
     "name": "stderr",
     "output_type": "stream",
     "text": [
      "Epoch (train) 6/10: 100%|███████████████| 202/202 [47:18<00:00, 14.05s/it, accepor_recall=0.933, donor_recall=0.936, loss=0.000129, pred_l1_dist=0]\n"
     ]
    },
    {
     "name": "stdout",
     "output_type": "stream",
     "text": [
      "epoch: 6/10, train loss = 0.000128\n"
     ]
    },
    {
     "name": "stderr",
     "output_type": "stream",
     "text": [
      "Epoch (val) 6/10: 100%|███████████████████| 23/23 [08:06<00:00, 21.15s/it, accepor_recall=0.917, donor_recall=0.906, loss=0.000262, pred_l1_dist=0]\n"
     ]
    },
    {
     "name": "stdout",
     "output_type": "stream",
     "text": [
      "\n",
      "\u001b[1mAcceptor:\u001b[0m\n",
      "0.9766\t0.9175\t0.9869\t0.9929\t0.9521\t0.9894000291824341\t0.7077999711036682\t0.00839999970048666\t0.0013000000035390258\t21432\n",
      "\n",
      "\u001b[1mDonor:\u001b[0m\n",
      "0.9749\t0.9181\t0.9903\t0.9959\t0.9547\t0.9781000018119812\t0.5232999920845032\t0.004100000020116568\t0.0006000000284984708\t21432\n",
      "epoch: 6/10, val loss = 0.000197\n"
     ]
    },
    {
     "name": "stderr",
     "output_type": "stream",
     "text": [
      "Epoch (train) 7/10: 100%|███████████████| 202/202 [46:25<00:00, 13.79s/it, accepor_recall=0.944, donor_recall=0.949, loss=0.000114, pred_l1_dist=0]\n"
     ]
    },
    {
     "name": "stdout",
     "output_type": "stream",
     "text": [
      "epoch: 7/10, train loss = 0.000121\n"
     ]
    },
    {
     "name": "stderr",
     "output_type": "stream",
     "text": [
      "Epoch (val) 7/10: 100%|███████████████████| 23/23 [08:14<00:00, 21.50s/it, accepor_recall=0.898, donor_recall=0.902, loss=0.000267, pred_l1_dist=0]\n"
     ]
    },
    {
     "name": "stdout",
     "output_type": "stream",
     "text": [
      "\n",
      "\u001b[1mAcceptor:\u001b[0m\n",
      "0.977\t0.9224\t0.9849\t0.9923\t0.953\t0.9745000004768372\t0.427700012922287\t0.0017000000225380063\t0.00019999999494757503\t21432\n",
      "\n",
      "\u001b[1mDonor:\u001b[0m\n",
      "0.9755\t0.9216\t0.9896\t0.9952\t0.955\t0.947700023651123\t0.30820000171661377\t0.0010999999940395355\t0.00019999999494757503\t21432\n",
      "epoch: 7/10, val loss = 0.000200\n"
     ]
    },
    {
     "name": "stderr",
     "output_type": "stream",
     "text": [
      "Epoch (train) 8/10: 100%|███████████████| 202/202 [46:32<00:00, 13.82s/it, accepor_recall=0.958, donor_recall=0.961, loss=0.000101, pred_l1_dist=0]\n"
     ]
    },
    {
     "name": "stdout",
     "output_type": "stream",
     "text": [
      "epoch: 8/10, train loss = 0.000099\n"
     ]
    },
    {
     "name": "stderr",
     "output_type": "stream",
     "text": [
      "Epoch (val) 8/10: 100%|███████████████████| 23/23 [08:13<00:00, 21.45s/it, accepor_recall=0.917, donor_recall=0.932, loss=0.000239, pred_l1_dist=0]\n"
     ]
    },
    {
     "name": "stdout",
     "output_type": "stream",
     "text": [
      "\n",
      "\u001b[1mAcceptor:\u001b[0m\n",
      "0.9768\t0.9255\t0.9878\t0.9934\t0.9549\t0.9811999797821045\t0.5688999891281128\t0.008200000040233135\t0.001500000013038516\t21432\n",
      "\n",
      "\u001b[1mDonor:\u001b[0m\n",
      "0.9749\t0.9266\t0.9905\t0.9955\t0.9565\t0.9803000092506409\t0.6431000232696533\t0.007000000216066837\t0.0012000000569969416\t21432\n",
      "epoch: 8/10, val loss = 0.000179\n"
     ]
    },
    {
     "name": "stderr",
     "output_type": "stream",
     "text": [
      "Epoch (train) 9/10: 100%|█████████████████| 202/202 [47:15<00:00, 14.04s/it, accepor_recall=0.967, donor_recall=0.97, loss=7.23e-5, pred_l1_dist=0]\n"
     ]
    },
    {
     "name": "stdout",
     "output_type": "stream",
     "text": [
      "epoch: 9/10, train loss = 0.000085\n"
     ]
    },
    {
     "name": "stderr",
     "output_type": "stream",
     "text": [
      "Epoch (val) 9/10: 100%|███████████████████| 23/23 [07:58<00:00, 20.79s/it, accepor_recall=0.922, donor_recall=0.937, loss=0.000235, pred_l1_dist=0]\n"
     ]
    },
    {
     "name": "stdout",
     "output_type": "stream",
     "text": [
      "\n",
      "\u001b[1mAcceptor:\u001b[0m\n",
      "0.9781\t0.9303\t0.9886\t0.9933\t0.9572\t0.9840999841690063\t0.5472999811172485\t0.002300000051036477\t0.00039999998989515007\t21432\n",
      "\n",
      "\u001b[1mDonor:\u001b[0m\n",
      "0.9773\t0.9327\t0.9919\t0.9958\t0.9605\t0.9891999959945679\t0.5819000005722046\t0.0017000000225380063\t0.00019999999494757503\t21432\n",
      "epoch: 9/10, val loss = 0.000176\n"
     ]
    },
    {
     "name": "stderr",
     "output_type": "stream",
     "text": [
      "Epoch (train) 10/10: 100%|███████████████| 202/202 [47:22<00:00, 14.07s/it, accepor_recall=0.972, donor_recall=0.975, loss=6.86e-5, pred_l1_dist=0]\n"
     ]
    },
    {
     "name": "stdout",
     "output_type": "stream",
     "text": [
      "epoch: 10/10, train loss = 0.000076\n"
     ]
    },
    {
     "name": "stderr",
     "output_type": "stream",
     "text": [
      "Epoch (val) 10/10: 100%|███████████████████| 23/23 [08:23<00:00, 21.90s/it, accepor_recall=0.92, donor_recall=0.932, loss=0.000235, pred_l1_dist=0]\n"
     ]
    },
    {
     "name": "stdout",
     "output_type": "stream",
     "text": [
      "\n",
      "\u001b[1mAcceptor:\u001b[0m\n",
      "0.9769\t0.9297\t0.9884\t0.993\t0.9567\t0.986299991607666\t0.48989999294281006\t0.0013000000035390258\t0.00019999999494757503\t21432\n",
      "\n",
      "\u001b[1mDonor:\u001b[0m\n",
      "0.977\t0.9335\t0.9907\t0.9958\t0.9593\t0.9876999855041504\t0.5292999744415283\t0.0010999999940395355\t9.999999747378752e-05\t21432\n",
      "epoch: 10/10, val loss = 0.000177\n"
     ]
    },
    {
     "data": {
      "image/png": "[encoded data removed]",
      "text/plain": [
       "<Figure size 432x288 with 1 Axes>"
      ]
     },
     "metadata": {
      "needs_background": "light"
     },
     "output_type": "display_data"
    }
   ],
   "source": [
    "device = torch.device(\"cuda\" if torch.cuda.is_available() else \"cpu\")\n",
    "epochs = 10\n",
    "hs = []\n",
    "\n",
    "parameters = [0,1,2,3,4]\n",
    "\n",
    "for model_nr in range(5):\n",
    "    model_m = SpliceFormer(CL_max,n_transformer_blocks = parameters[model_nr])\n",
    "    model_m.apply(keras_init)\n",
    "    model_m = model_m.to(device)\n",
    "    if torch.cuda.device_count() > 1:\n",
    "        #print(\"Let's use\", torch.cuda.device_count(), \"GPUs!\")\n",
    "        # dim = 0 [30, xxx] -> [10, ...], [10, ...], [10, ...] on 3 GPUs\n",
    "        model_m = nn.DataParallel(model_m)\n",
    "    \n",
    "    modelFileName = '../Results/PyTorch_Models/transformer_encoder_40k_ablation_n_transformer_blocks_{}_2'.format(parameters[model_nr])\n",
    "    #model_m.load_state_dict(torch.load('../Results/PyTorch_Models/SpliceAI_Ensembl_dgxtest_{}'.format(0)))\n",
    "    #loss = nn.CrossEntropyLoss(weight=torch.from_numpy(weights).float().to(device),ignore_index=-1,reduction='mean')\n",
    "    loss = categorical_crossentropy_2d().loss\n",
    "    #loss = nn.KLDivLoss()\n",
    "    learning_rate= k*1e-3\n",
    "    optimizer = torch.optim.Adam(model_m.parameters(), lr=learning_rate)\n",
    "    scheduler = torch.optim.lr_scheduler.StepLR(optimizer, step_size=1, gamma=0.5)\n",
    "    warmup = get_constant_schedule_with_warmup(optimizer, num_warmup_steps=1000)\n",
    "    h = trainModel(model_m,modelFileName,loss,train_loader,val_loader,optimizer,scheduler,warmup,BATCH_SIZE,epochs,device)\n",
    "    hs.append(h)\n",
    "\n",
    "    plt.plot(range(epochs),h['loss'],label='Train')\n",
    "    plt.plot(range(epochs),h['val_loss'],label='Validation')\n",
    "    plt.xlabel('Epoch')\n",
    "    plt.ylabel('Loss')\n",
    "    plt.legend()\n",
    "    plt.show()"
   ]
  },
  {
   "cell_type": "code",
   "execution_count": 1,
   "metadata": {},
   "outputs": [],
   "source": [
    "import matplotlib.pyplot as plt"
   ]
  },
  {
   "cell_type": "code",
   "execution_count": 5,
   "metadata": {},
   "outputs": [
    {
     "data": {
      "image/png": "[encoded data removed]",
      "text/plain": [
       "<Figure size 720x288 with 2 Axes>"
      ]
     },
     "metadata": {
      "needs_background": "light"
     },
     "output_type": "display_data"
    }
   ],
   "source": [
    "fig, (ax1,ax2) = plt.subplots(1, 2,figsize=(10,4))\n",
    "x = [0,1,2,3,4]\n",
    "y1 = [0.000195,0.000185,0.000178,0.000175,0.000176]\n",
    "ax1.plot(x,y1,'--')\n",
    "ax1.scatter(x,y1,label='Run 1')\n",
    "y2 = [0.000196,0.000176,0.000181,0.000179,0.000177]\n",
    "ax1.plot(x,y2,'--')\n",
    "ax1.scatter(x,y2,label='Run 2')\n",
    "ax1.set(xlabel = 'No. transformer blocks',ylabel='Cross entropy')\n",
    "\n",
    "prauc1 = [(0.9498+0.9547)/2,(0.9546+0.9568)/2,(0.9586+0.9612)/2,(0.9566+0.9593)/2,(0.9592+0.9612)/2]\n",
    "ax2.plot(x,prauc1,'--')\n",
    "ax2.scatter(x,prauc1,label='Run 1')\n",
    "prauc2 = [(0.9507+0.9544)/2,(0.9548+0.9579)/2,(0.9579+0.9607)/2,(0.9562+0.9615)/2,(0.9567+0.9593)/2]\n",
    "ax2.plot(x,prauc2,'--')\n",
    "ax2.scatter(x,prauc2,label='Run 2')\n",
    "ax2.set(xlabel = 'No. transformer blocks',ylabel='PR-AUC')\n",
    "ax1.set_xticks(x)\n",
    "ax2.set_xticks(x)\n",
    "#ax2.ylabel('PR-AUC')\n",
    "#ax2.xlabel('No. transformer blocks')\n",
    "fig.tight_layout()\n",
    "\n",
    "ax1.legend()\n",
    "ax2.legend()\n",
    "plt.savefig('../Results/ablation_n_transformer_blocks.png',dpi=300)\n",
    "plt.show()"
   ]
  },
  {
   "cell_type": "code",
   "execution_count": 12,
   "metadata": {},
   "outputs": [
    {
     "name": "stderr",
     "output_type": "stream",
     "text": [
      "100%|███████████████████████████████████████████████████████████████████████████████████| 17/17 [06:36<00:00, 23.30s/it]\n"
     ]
    }
   ],
   "source": [
    "device = torch.device(\"cuda\" if torch.cuda.is_available() else \"cpu\")\n",
    "h5f = h5py.File('/odinn/tmp/benediktj/Data/SplicePrediction/gencode_40k_dataset_test_.h5')\n",
    "\n",
    "num_idx = len(h5f.keys())//2\n",
    "\n",
    "test_dataset = h5pyDataset(h5f,list(range(num_idx)))\n",
    "test_loader = torch.utils.data.DataLoader(test_dataset, batch_size=1, shuffle=False, num_workers=0)\n",
    "\n",
    "temp = 1\n",
    "n_models = 5\n",
    "device = torch.device(\"cuda\" if torch.cuda.is_available() else \"cpu\")\n",
    "model_m = SpliceFormer(CL_max)\n",
    "model_m.apply(keras_init)\n",
    "model_m = model_m.to(device)\n",
    "\n",
    "if torch.cuda.device_count() > 1:\n",
    "    model_m = nn.DataParallel(model_m)\n",
    "\n",
    "output_class_labels = ['Null', 'Acceptor', 'Donor']\n",
    "\n",
    "#for output_class in [1,2]:\n",
    "models = [copy.deepcopy(model_m) for i in range(n_models)]\n",
    "[model.load_state_dict(torch.load('../Results/PyTorch_Models/transformer_encoder_40k_030522_{}'.format(i))) for i,model in enumerate(models)]\n",
    "\n",
    "for model in models:\n",
    "    model.eval()\n",
    "    \n",
    "Y_true_acceptor, Y_pred_acceptor = [],[]\n",
    "Y_true_donor, Y_pred_donor = [],[]\n",
    "\n",
    "for (batch_chunks,target_chunks) in tqdm(test_loader):\n",
    "    batch_chunks = torch.transpose(batch_chunks[0].to(device),1,2)\n",
    "    target_chunks = torch.transpose(torch.squeeze(target_chunks[0].to(device),0),1,2)\n",
    "    #print(np.max(target_chunks.cpu().numpy()[:,2,:]))\n",
    "    n_chunks = int(np.ceil(batch_chunks.shape[0]/BATCH_SIZE))\n",
    "    batch_chunks = torch.chunk(batch_chunks, n_chunks, dim=0)\n",
    "    target_chunks = torch.chunk(target_chunks, n_chunks, dim=0)\n",
    "    targets_list = []\n",
    "    outputs_list = []\n",
    "    for j in range(len(batch_chunks)):\n",
    "        batch_features = batch_chunks[j]\n",
    "        targets = target_chunks[j]\n",
    "        outputs = ([models[i](batch_features)[1].detach() for i in range(n_models)])\n",
    "        outputs = (outputs[0]+outputs[1]+outputs[2]+outputs[3]+outputs[4])/n_models\n",
    "        #outputs = (outputs[0]+outputs[1]+outputs[2])/n_models\n",
    "        targets_list.extend(targets.unsqueeze(0))\n",
    "        outputs_list.extend(outputs.unsqueeze(0))\n",
    "\n",
    "    targets = torch.transpose(torch.vstack(targets_list),1,2).cpu().numpy()\n",
    "    outputs = torch.transpose(torch.vstack(outputs_list),1,2).cpu().numpy()\n",
    "\n",
    "    is_expr = (targets.sum(axis=(1,2)) >= 1)\n",
    "    Y_true_acceptor.extend(targets[is_expr, :, 1].flatten())\n",
    "    Y_true_donor.extend(targets[is_expr, :, 2].flatten())\n",
    "    Y_pred_acceptor.extend(outputs[is_expr, :, 1].flatten())\n",
    "    Y_pred_donor.extend(outputs[is_expr, :, 2].flatten())"
   ]
  },
  {
   "cell_type": "code",
   "execution_count": 13,
   "metadata": {},
   "outputs": [
    {
     "name": "stdout",
     "output_type": "stream",
     "text": [
      "\n",
      "\u001b[1mAcceptor:\u001b[0m\n",
      "0.9961\t0.9486\t0.9881\t0.9913\t0.9779\t0.9782999753952026\t0.3280999958515167\t0.002899999963119626\t0.0005000000237487257\t14289\n",
      "\n",
      "\u001b[1mDonor:\u001b[0m\n",
      "0.9958\t0.9523\t0.9896\t0.9921\t0.9797\t0.9785000085830688\t0.33739998936653137\t0.002199999988079071\t0.0003000000142492354\t14289\n"
     ]
    }
   ],
   "source": [
    "Y_true_acceptor, Y_pred_acceptor,Y_true_donor, Y_pred_donor = np.array(Y_true_acceptor), np.array(Y_pred_acceptor),np.array(Y_true_donor), np.array(Y_pred_donor)\n",
    "print(\"\\n\\033[1m{}:\\033[0m\".format('Acceptor'))\n",
    "acceptor_val_results = print_topl_statistics(Y_true_acceptor, Y_pred_acceptor)\n",
    "print(\"\\n\\033[1m{}:\\033[0m\".format('Donor'))\n",
    "donor_val_results =print_topl_statistics(Y_true_donor, Y_pred_donor)"
   ]
  },
  {
   "cell_type": "code",
   "execution_count": 19,
   "metadata": {},
   "outputs": [
    {
     "data": {
      "text/plain": [
       "0.95045"
      ]
     },
     "execution_count": 19,
     "metadata": {},
     "output_type": "execute_result"
    }
   ],
   "source": [
    "(0.9486+0.9523)/2"
   ]
  },
  {
   "cell_type": "code",
   "execution_count": 18,
   "metadata": {},
   "outputs": [
    {
     "data": {
      "text/plain": [
       "0.9788"
      ]
     },
     "execution_count": 18,
     "metadata": {},
     "output_type": "execute_result"
    }
   ],
   "source": [
    "(0.9779+0.9797)/2"
   ]
  },
  {
   "cell_type": "code",
   "execution_count": 14,
   "metadata": {},
   "outputs": [],
   "source": [
    "setType = 'test'\n",
    "annotation_test, transcriptToLabel_test, seqData = getData(data_dir, setType)    \n"
   ]
  },
  {
   "cell_type": "code",
   "execution_count": 15,
   "metadata": {
    "scrolled": true
   },
   "outputs": [
    {
     "name": "stderr",
     "output_type": "stream",
     "text": [
      "100%|████████████████████████████████████████████████████████████████████████████████| 90/90 [4:22:57<00:00, 175.30s/it]\n"
     ]
    }
   ],
   "source": [
    "temp = 1\n",
    "n_models = 5\n",
    "device = torch.device(\"cuda\" if torch.cuda.is_available() else \"cpu\")\n",
    "model_m = SpliceFormer(CL_max)\n",
    "model_m.apply(keras_init)\n",
    "model_m = model_m.to(device)\n",
    "\n",
    "if torch.cuda.device_count() > 1:\n",
    "    model_m = nn.DataParallel(model_m)\n",
    "\n",
    "output_class_labels = ['Null', 'Acceptor', 'Donor']\n",
    "\n",
    "#for output_class in [1,2]:\n",
    "models = [copy.deepcopy(model_m) for i in range(n_models)]\n",
    "[model.load_state_dict(torch.load('../Results/PyTorch_Models/transformer_encoder_40k_030522_{}'.format(i))) for i,model in enumerate(models)]\n",
    "#nr = [0,2,3]\n",
    "#[model.load_state_dict(torch.load('../Results/PyTorch_Models/transformer_encoder_40k_201221_{}'.format(nr[i]))) for i,model in enumerate(models)]\n",
    "#chunkSize = num_idx/10\n",
    "for model in models:\n",
    "    model.eval()\n",
    "\n",
    "Y_true_acceptor, Y_pred_acceptor = [],[]\n",
    "Y_true_donor, Y_pred_donor = [],[]\n",
    "test_dataset = spliceDataset(annotation_test,transcriptToLabel_test,SL,CL_max)\n",
    "test_dataset.seqData = seqData\n",
    "test_loader = torch.utils.data.DataLoader(test_dataset, batch_size=100, shuffle=False, num_workers=0,collate_fn=collate_fn, pin_memory=True)\n",
    "\n",
    "\n",
    "for (batch_chunks,target_chunks) in tqdm(test_loader):\n",
    "    batch_chunks = torch.transpose(batch_chunks.to(device),1,2)\n",
    "    target_chunks = torch.transpose(torch.squeeze(target_chunks.to(device),0),1,2)\n",
    "    batch_chunks = torch.split(batch_chunks, BATCH_SIZE, dim=0)\n",
    "    target_chunks = torch.split(target_chunks, BATCH_SIZE, dim=0)\n",
    "    targets_list = []\n",
    "    outputs_list = []\n",
    "    for j in range(len(batch_chunks)):\n",
    "        batch_features = batch_chunks[j]\n",
    "        targets = target_chunks[j]\n",
    "        outputs = ([models[i](batch_features)[1].detach() for i in range(n_models)])\n",
    "        outputs = (outputs[0]+outputs[1]+outputs[2]+outputs[3]+outputs[4])/n_models\n",
    "        #outputs = (outputs[0]+outputs[1]+outputs[2])/n_models\n",
    "        targets_list.extend(targets.unsqueeze(0))\n",
    "        outputs_list.extend(outputs.unsqueeze(0))\n",
    "\n",
    "    targets = torch.transpose(torch.vstack(targets_list),1,2).cpu().numpy()\n",
    "    outputs = torch.transpose(torch.vstack(outputs_list),1,2).cpu().numpy()\n",
    "\n",
    "    is_expr = (targets.sum(axis=(1,2)) >= 1)\n",
    "    Y_true_acceptor.extend(targets[is_expr, :, 1].flatten())\n",
    "    Y_true_donor.extend(targets[is_expr, :, 2].flatten())\n",
    "    Y_pred_acceptor.extend(outputs[is_expr, :, 1].flatten())\n",
    "    Y_pred_donor.extend(outputs[is_expr, :, 2].flatten())\n",
    "\n"
   ]
  },
  {
   "cell_type": "code",
   "execution_count": 16,
   "metadata": {},
   "outputs": [
    {
     "name": "stdout",
     "output_type": "stream",
     "text": [
      "\n",
      "\u001b[1mAcceptor:\u001b[0m\n",
      "0.9821\t0.9399\t0.9919\t0.9958\t0.9675\t0.9814000129699707\t0.45570001006126404\t0.0026000000070780516\t0.00039999998989515007\t89712\n",
      "\n",
      "\u001b[1mDonor:\u001b[0m\n",
      "0.9832\t0.9446\t0.9941\t0.997\t0.9713\t0.9811999797821045\t0.4941999912261963\t0.002099999925121665\t0.0003000000142492354\t89712\n"
     ]
    }
   ],
   "source": [
    "Y_true_acceptor, Y_pred_acceptor,Y_true_donor, Y_pred_donor = np.array(Y_true_acceptor), np.array(Y_pred_acceptor),np.array(Y_true_donor), np.array(Y_pred_donor)\n",
    "print(\"\\n\\033[1m{}:\\033[0m\".format('Acceptor'))\n",
    "acceptor_val_results = print_topl_statistics(Y_true_acceptor, Y_pred_acceptor)\n",
    "print(\"\\n\\033[1m{}:\\033[0m\".format('Donor'))\n",
    "donor_val_results =print_topl_statistics(Y_true_donor, Y_pred_donor)"
   ]
  },
  {
   "cell_type": "code",
   "execution_count": 20,
   "metadata": {},
   "outputs": [
    {
     "data": {
      "text/plain": [
       "0.94225"
      ]
     },
     "execution_count": 20,
     "metadata": {},
     "output_type": "execute_result"
    }
   ],
   "source": [
    "(0.9399+0.9446)/2"
   ]
  },
  {
   "cell_type": "code",
   "execution_count": 17,
   "metadata": {},
   "outputs": [
    {
     "data": {
      "text/plain": [
       "0.9694"
      ]
     },
     "execution_count": 17,
     "metadata": {},
     "output_type": "execute_result"
    }
   ],
   "source": [
    "(0.9675+0.9713)/2"
   ]
  }
 ],
 "metadata": {
  "kernelspec": {
   "display_name": "Python 3 (ipykernel)",
   "language": "python",
   "name": "python3"
  },
  "language_info": {
   "codemirror_mode": {
    "name": "ipython",
    "version": 3
   },
   "file_extension": ".py",
   "mimetype": "text/x-python",
   "name": "python",
   "nbconvert_exporter": "python",
   "pygments_lexer": "ipython3",
   "version": "3.9.1"
  }
 },
 "nbformat": 4,
 "nbformat_minor": 4
}
