{
 "cells": [
  {
   "cell_type": "code",
   "execution_count": 1,
   "metadata": {},
   "outputs": [],
   "source": [
    "import numpy as np\n",
    "import sys\n",
    "import time\n",
    "import h5py\n",
    "from tqdm import tqdm\n",
    "\n",
    "import numpy as np\n",
    "import re\n",
    "from math import ceil\n",
    "from sklearn.metrics import average_precision_score\n",
    "#from torch.utils.data import Dataset\n",
    "import torch\n",
    "#import torch.nn as nn\n",
    "import pandas as pd\n",
    "import matplotlib.pyplot as plt\n",
    "import pickle\n",
    "#import pickle5 as pickle\n",
    "\n",
    "from sklearn.model_selection import train_test_split\n",
    "\n",
    "from scipy.sparse import load_npz\n",
    "from glob import glob\n",
    "\n",
    "#from transformers import get_constant_schedule_with_warmup\n",
    "from sklearn.metrics import precision_score,recall_score,accuracy_score\n",
    "\n",
    "#from src.train import trainModel\n",
    "#from src.dataloader import getData,spliceDataset,h5pyDataset,getDataPointList,getDataPointListFull,DataPoint\n",
    "#from src.weight_init import keras_init\n",
    "#rom src.losses import categorical_crossentropy_2d\n",
    "#rom src.models import SpliceAI_10K\n",
    "#from src.evaluation_metrics import print_topl_statistics\n",
    "import copy\n",
    "#import tensorflow as tf"
   ]
  },
  {
   "cell_type": "code",
   "execution_count": 2,
   "metadata": {},
   "outputs": [
    {
     "name": "stdout",
     "output_type": "stream",
     "text": [
      "Fri Apr 21 10:32:18 2023       \r\n",
      "+-----------------------------------------------------------------------------+\r\n",
      "| NVIDIA-SMI 465.19.01    Driver Version: 465.19.01    CUDA Version: 11.3     |\r\n",
      "|-------------------------------+----------------------+----------------------+\r\n",
      "| GPU  Name        Persistence-M| Bus-Id        Disp.A | Volatile Uncorr. ECC |\r\n",
      "| Fan  Temp  Perf  Pwr:Usage/Cap|         Memory-Usage | GPU-Util  Compute M. |\r\n",
      "|                               |                      |               MIG M. |\r\n",
      "|===============================+======================+======================|\r\n",
      "|   0  NVIDIA Tesla V1...  Off  | 00000000:5E:00.0 Off |                    0 |\r\n",
      "| N/A   34C    P0    32W / 250W |      0MiB / 32510MiB |      0%      Default |\r\n",
      "|                               |                      |                  N/A |\r\n",
      "+-------------------------------+----------------------+----------------------+\r\n",
      "|   1  NVIDIA Tesla V1...  Off  | 00000000:86:00.0 Off |                    0 |\r\n",
      "| N/A   31C    P0    32W / 250W |      0MiB / 32510MiB |      2%      Default |\r\n",
      "|                               |                      |                  N/A |\r\n",
      "+-------------------------------+----------------------+----------------------+\r\n",
      "                                                                               \r\n",
      "+-----------------------------------------------------------------------------+\r\n",
      "| Processes:                                                                  |\r\n",
      "|  GPU   GI   CI        PID   Type   Process name                  GPU Memory |\r\n",
      "|        ID   ID                                                   Usage      |\r\n",
      "|=============================================================================|\r\n",
      "|  No running processes found                                                 |\r\n",
      "+-----------------------------------------------------------------------------+\r\n"
     ]
    }
   ],
   "source": [
    "!nvidia-smi"
   ]
  },
  {
   "cell_type": "code",
   "execution_count": 3,
   "metadata": {},
   "outputs": [],
   "source": [
    "#snps = df.drop_duplicates(subset=['not_sQTL'])['not_sQTL'].values\n",
    "#res = pd.DataFrame({'Chr':[x.split(':')[0] for x in snps],'Pos':[int(x.split(':')[1]) for x in snps],'marker':snps})\n",
    "#res.sort_values(['Chr','Pos'],ascending=True).to_csv('../Data/not_sQTL.gor',sep='\\t',index=False)"
   ]
  },
  {
   "cell_type": "code",
   "execution_count": 4,
   "metadata": {},
   "outputs": [],
   "source": [
    "rng = np.random.default_rng(23673)"
   ]
  },
  {
   "cell_type": "code",
   "execution_count": 5,
   "metadata": {},
   "outputs": [],
   "source": [
    "data_dir = '../Data'"
   ]
  },
  {
   "cell_type": "code",
   "execution_count": 6,
   "metadata": {},
   "outputs": [],
   "source": [
    "snv_list = pd.read_csv('../Data/snv_list.txt', sep='\\t')"
   ]
  },
  {
   "cell_type": "code",
   "execution_count": 7,
   "metadata": {},
   "outputs": [],
   "source": [
    "L = 32\n",
    "N_GPUS = 8\n",
    "k = 2\n",
    "# Hyper-parameters:\n",
    "# L: Number of convolution kernels\n",
    "# W: Convolution window size in each residual unit\n",
    "# AR: Atrous rate in each residual unit\n",
    "\n",
    "W = np.asarray([11, 11, 11, 11, 11, 11, 11, 11,\n",
    "                21, 21, 21, 21, 41, 41, 41, 41])\n",
    "AR = np.asarray([1, 1, 1, 1, 4, 4, 4, 4,\n",
    "                 10, 10, 10, 10, 25, 25, 25, 25])\n",
    "BATCH_SIZE = k*6*N_GPUS\n",
    "\n",
    "\n",
    "CL = 2 * np.sum(AR*(W-1))"
   ]
  },
  {
   "cell_type": "code",
   "execution_count": 8,
   "metadata": {},
   "outputs": [],
   "source": [
    "SL=5000\n",
    "CL_max=10000"
   ]
  },
  {
   "cell_type": "code",
   "execution_count": 9,
   "metadata": {},
   "outputs": [],
   "source": [
    "import pyfastx\n",
    "data_dir = '../Data/'\n",
    "fasta_file_path = '../Data/genome.fa'\n",
    "gtf_file_path = '../Data/Homo_sapiens.GRCh38.87.db'\n",
    "fasta = pyfastx.Fasta(fasta_file_path)"
   ]
  },
  {
   "cell_type": "code",
   "execution_count": 10,
   "metadata": {},
   "outputs": [
    {
     "name": "stdout",
     "output_type": "stream",
     "text": [
      "WARNING:tensorflow:Deprecation warnings have been disabled. Set TF_ENABLE_DEPRECATION_WARNINGS=1 to re-enable them.\n"
     ]
    },
    {
     "name": "stderr",
     "output_type": "stream",
     "text": [
      "2023-04-21 10:32:20.267228: I tensorflow/stream_executor/platform/default/dso_loader.cc:49] Successfully opened dynamic library libcudart.so.11.0\n",
      "2023-04-21 10:32:23.915794: I tensorflow/stream_executor/platform/default/dso_loader.cc:49] Successfully opened dynamic library libcuda.so.1\n",
      "2023-04-21 10:32:25.649022: I tensorflow/core/common_runtime/gpu/gpu_device.cc:1666] Found device 0 with properties: \n",
      "name: NVIDIA Tesla V100-PCIE-32GB major: 7 minor: 0 memoryClockRate(GHz): 1.38\n",
      "pciBusID: 0000:5e:00.0\n",
      "2023-04-21 10:32:25.649879: I tensorflow/core/common_runtime/gpu/gpu_device.cc:1666] Found device 1 with properties: \n",
      "name: NVIDIA Tesla V100-PCIE-32GB major: 7 minor: 0 memoryClockRate(GHz): 1.38\n",
      "pciBusID: 0000:86:00.0\n",
      "2023-04-21 10:32:25.649927: I tensorflow/stream_executor/platform/default/dso_loader.cc:49] Successfully opened dynamic library libcudart.so.11.0\n",
      "2023-04-21 10:32:25.654521: I tensorflow/stream_executor/platform/default/dso_loader.cc:49] Successfully opened dynamic library libcublas.so.11\n",
      "2023-04-21 10:32:25.656843: I tensorflow/stream_executor/platform/default/dso_loader.cc:49] Successfully opened dynamic library libcufft.so.10\n",
      "2023-04-21 10:32:25.657152: I tensorflow/stream_executor/platform/default/dso_loader.cc:49] Successfully opened dynamic library libcurand.so.10\n",
      "2023-04-21 10:32:25.657688: I tensorflow/stream_executor/platform/default/dso_loader.cc:49] Successfully opened dynamic library libcusolver.so.11\n",
      "2023-04-21 10:32:25.658640: I tensorflow/stream_executor/platform/default/dso_loader.cc:49] Successfully opened dynamic library libcusparse.so.11\n",
      "2023-04-21 10:32:25.658796: I tensorflow/stream_executor/platform/default/dso_loader.cc:49] Successfully opened dynamic library libcudnn.so.8\n",
      "2023-04-21 10:32:25.661920: I tensorflow/core/common_runtime/gpu/gpu_device.cc:1794] Adding visible gpu devices: 0, 1\n",
      "2023-04-21 10:32:25.672252: I tensorflow/core/platform/profile_utils/cpu_utils.cc:94] CPU Frequency: 3000000000 Hz\n",
      "2023-04-21 10:32:25.673569: I tensorflow/compiler/xla/service/service.cc:168] XLA service 0xab8e390 initialized for platform Host (this does not guarantee that XLA will be used). Devices:\n",
      "2023-04-21 10:32:25.673591: I tensorflow/compiler/xla/service/service.cc:176]   StreamExecutor device (0): Host, Default Version\n",
      "2023-04-21 10:32:25.832660: I tensorflow/compiler/xla/service/service.cc:168] XLA service 0xabf15e0 initialized for platform CUDA (this does not guarantee that XLA will be used). Devices:\n",
      "2023-04-21 10:32:25.832697: I tensorflow/compiler/xla/service/service.cc:176]   StreamExecutor device (0): NVIDIA Tesla V100-PCIE-32GB, Compute Capability 7.0\n",
      "2023-04-21 10:32:25.832704: I tensorflow/compiler/xla/service/service.cc:176]   StreamExecutor device (1): NVIDIA Tesla V100-PCIE-32GB, Compute Capability 7.0\n",
      "2023-04-21 10:32:25.835884: I tensorflow/core/common_runtime/gpu/gpu_device.cc:1666] Found device 0 with properties: \n",
      "name: NVIDIA Tesla V100-PCIE-32GB major: 7 minor: 0 memoryClockRate(GHz): 1.38\n",
      "pciBusID: 0000:5e:00.0\n",
      "2023-04-21 10:32:25.836744: I tensorflow/core/common_runtime/gpu/gpu_device.cc:1666] Found device 1 with properties: \n",
      "name: NVIDIA Tesla V100-PCIE-32GB major: 7 minor: 0 memoryClockRate(GHz): 1.38\n",
      "pciBusID: 0000:86:00.0\n",
      "2023-04-21 10:32:25.836809: I tensorflow/stream_executor/platform/default/dso_loader.cc:49] Successfully opened dynamic library libcudart.so.11.0\n",
      "2023-04-21 10:32:25.836825: I tensorflow/stream_executor/platform/default/dso_loader.cc:49] Successfully opened dynamic library libcublas.so.11\n",
      "2023-04-21 10:32:25.836838: I tensorflow/stream_executor/platform/default/dso_loader.cc:49] Successfully opened dynamic library libcufft.so.10\n",
      "2023-04-21 10:32:25.836849: I tensorflow/stream_executor/platform/default/dso_loader.cc:49] Successfully opened dynamic library libcurand.so.10\n",
      "2023-04-21 10:32:25.836861: I tensorflow/stream_executor/platform/default/dso_loader.cc:49] Successfully opened dynamic library libcusolver.so.11\n",
      "2023-04-21 10:32:25.836873: I tensorflow/stream_executor/platform/default/dso_loader.cc:49] Successfully opened dynamic library libcusparse.so.11\n",
      "2023-04-21 10:32:25.836884: I tensorflow/stream_executor/platform/default/dso_loader.cc:49] Successfully opened dynamic library libcudnn.so.8\n",
      "2023-04-21 10:32:25.840039: I tensorflow/core/common_runtime/gpu/gpu_device.cc:1794] Adding visible gpu devices: 0, 1\n",
      "2023-04-21 10:32:25.840087: I tensorflow/stream_executor/platform/default/dso_loader.cc:49] Successfully opened dynamic library libcudart.so.11.0\n",
      "2023-04-21 10:32:26.406082: I tensorflow/core/common_runtime/gpu/gpu_device.cc:1206] Device interconnect StreamExecutor with strength 1 edge matrix:\n",
      "2023-04-21 10:32:26.406146: I tensorflow/core/common_runtime/gpu/gpu_device.cc:1212]      0 1 \n",
      "2023-04-21 10:32:26.406155: I tensorflow/core/common_runtime/gpu/gpu_device.cc:1225] 0:   N Y \n",
      "2023-04-21 10:32:26.406159: I tensorflow/core/common_runtime/gpu/gpu_device.cc:1225] 1:   Y N \n",
      "2023-04-21 10:32:26.408840: I tensorflow/core/common_runtime/gpu/gpu_device.cc:1351] Created TensorFlow device (/job:localhost/replica:0/task:0/device:GPU:0 with 31013 MB memory) -> physical GPU (device: 0, name: NVIDIA Tesla V100-PCIE-32GB, pci bus id: 0000:5e:00.0, compute capability: 7.0)\n",
      "2023-04-21 10:32:26.410140: I tensorflow/core/common_runtime/gpu/gpu_device.cc:1351] Created TensorFlow device (/job:localhost/replica:0/task:0/device:GPU:1 with 31013 MB memory) -> physical GPU (device: 1, name: NVIDIA Tesla V100-PCIE-32GB, pci bus id: 0000:86:00.0, compute capability: 7.0)\n"
     ]
    },
    {
     "name": "stdout",
     "output_type": "stream",
     "text": [
      "WARNING:tensorflow:No training configuration found in save file: the model was *not* compiled. Compile it manually.\n",
      "WARNING:tensorflow:No training configuration found in save file: the model was *not* compiled. Compile it manually.\n",
      "WARNING:tensorflow:No training configuration found in save file: the model was *not* compiled. Compile it manually.\n",
      "WARNING:tensorflow:No training configuration found in save file: the model was *not* compiled. Compile it manually.\n",
      "WARNING:tensorflow:No training configuration found in save file: the model was *not* compiled. Compile it manually.\n"
     ]
    }
   ],
   "source": [
    "from tensorflow.keras.models import Model\n",
    "from tensorflow.keras.layers import Input\n",
    "from tensorflow.keras.layers import Activation\n",
    "from tensorflow.keras.layers import Conv1D, Cropping1D\n",
    "from tensorflow.keras.layers import BatchNormalization\n",
    "from tensorflow.keras.layers import add\n",
    "import tensorflow.keras.backend as kb\n",
    "from tensorflow.keras.layers import concatenate\n",
    "from tensorflow.keras.layers import Lambda\n",
    "\n",
    "def ResidualUnit(l, w, ar):\n",
    "    # Residual unit proposed in \"Identity mappings in Deep Residual Networks\"\n",
    "    # by He et al.\n",
    "\n",
    "    def f(input_node):\n",
    "\n",
    "        bn1 = BatchNormalization()(input_node)\n",
    "        act1 = Activation('relu')(bn1)\n",
    "        conv1 = Conv1D(l, [w], dilation_rate=[ar], padding='same')(act1)\n",
    "        bn2 = BatchNormalization()(conv1)\n",
    "        act2 = Activation('relu')(bn2)\n",
    "        conv2 = Conv1D(l, [w], dilation_rate=[ar], padding='same')(act2)\n",
    "        output_node = add([conv2, input_node])\n",
    "\n",
    "        return output_node\n",
    "\n",
    "    return f\n",
    "\n",
    "\n",
    "def SpliceAI(L, W, AR):\n",
    "    # L: Number of convolution kernels\n",
    "    # W: Convolution window size in each residual unit\n",
    "    # AR: Atrous rate in each residual unit\n",
    "\n",
    "    assert len(W) == len(AR)\n",
    "\n",
    "    CL = 2 * np.sum(AR*(W-1))\n",
    "\n",
    "    input0 = Input(shape=(None, 4))\n",
    "    conv = Conv1D(L, 1)(input0)\n",
    "    skip = Conv1D(L, 1)(conv)\n",
    "\n",
    "    for i in range(len(W)):\n",
    "        conv = ResidualUnit(L, W[i], AR[i])(conv)\n",
    "        \n",
    "        if (((i+1) % 4 == 0) or ((i+1) == len(W))):\n",
    "            # Skip connections to the output after every 4 residual units\n",
    "            dense = Conv1D(L, 1)(conv)\n",
    "            skip = add([skip, dense])\n",
    "\n",
    "    skip = Cropping1D(int(CL/2))(skip)\n",
    "\n",
    "    output0 = [[] for t in range(1)]\n",
    "\n",
    "    for t in range(1):\n",
    "        output0[t] = Conv1D(3, 1, activation='softmax')(skip)\n",
    "    \n",
    "    model = Model(inputs=input0, outputs=output0)\n",
    "\n",
    "    return model\n",
    "\n",
    "\n",
    "def categorical_crossentropy_2d(y_true, y_pred):\n",
    "    # Standard categorical cross entropy for sequence outputs\n",
    "    weights = [3.33445928e-01, 1.97431150e+03, 1.97432843e+03]\n",
    "    return - kb.mean(weights[0]*y_true[:, :, 0]*kb.log(y_pred[:, :, 0]+1e-10)\n",
    "                   + weights[1]*y_true[:, :, 1]*kb.log(y_pred[:, :, 1]+1e-10)\n",
    "                   + weights[2]*y_true[:, :, 2]*kb.log(y_pred[:, :, 2]+1e-10))\n",
    "\n",
    "from pkg_resources import resource_filename\n",
    "from tensorflow.keras.models import load_model \n",
    "\n",
    "models = []\n",
    "n_models = 5\n",
    "\n",
    "paths = ('models/spliceai{}.h5'.format(x) for x in range(1, 6))\n",
    "models = [load_model(resource_filename('spliceai', x)) for x in paths]\n",
    "\n",
    "device = torch.device(\"cpu\")"
   ]
  },
  {
   "cell_type": "code",
   "execution_count": 11,
   "metadata": {},
   "outputs": [],
   "source": [
    "#gene_boundries = {}\n",
    "#for gene in tqdm(genes):\n",
    "#    gene_boundries[gene[\"gene_name\"][0]] = [int(gene[3]),int(gene[4])]"
   ]
  },
  {
   "cell_type": "code",
   "execution_count": 12,
   "metadata": {},
   "outputs": [],
   "source": [
    "#with open('/odinn/tmp/benediktj/Data/SplicePrediction-050422/gene_boundries.pkl', 'wb') as f:\n",
    "#    pickle.dump(gene_boundries, f)"
   ]
  },
  {
   "cell_type": "code",
   "execution_count": 13,
   "metadata": {},
   "outputs": [],
   "source": [
    "import gffutils"
   ]
  },
  {
   "cell_type": "code",
   "execution_count": 14,
   "metadata": {},
   "outputs": [],
   "source": [
    "gtf = gffutils.FeatureDB(gtf_file_path)"
   ]
  },
  {
   "cell_type": "code",
   "execution_count": 15,
   "metadata": {},
   "outputs": [],
   "source": [
    "mutant_snv = snv_list[snv_list['category']=='mutant']"
   ]
  },
  {
   "cell_type": "code",
   "execution_count": 16,
   "metadata": {},
   "outputs": [
    {
     "name": "stderr",
     "output_type": "stream",
     "text": [
      "  0%|                                                                                                                                 | 0/28972 [00:00<?, ?it/s]2023-04-21 10:32:46.745960: I tensorflow/stream_executor/platform/default/dso_loader.cc:49] Successfully opened dynamic library libcudnn.so.8\n",
      "2023-04-21 10:32:47.775475: I tensorflow/stream_executor/platform/default/dso_loader.cc:49] Successfully opened dynamic library libcublas.so.11\n",
      "  4%|████▋                                                                                                               | 1175/28972 [06:35<3:37:18,  2.13it/s]"
     ]
    },
    {
     "name": "stdout",
     "output_type": "stream",
     "text": [
      "ENSE00000677429_002 failed\n",
      "ENSE00000677429_004 failed\n",
      "ENSE00000677429_005 failed\n",
      "ENSE00000677429_007 failed\n",
      "ENSE00000677429_010 failed\n",
      "ENSE00000677429_012 failed\n",
      "ENSE00000677429_013 failed\n",
      "ENSE00000677429_017 failed\n",
      "ENSE00000677429_018 failed\n",
      "ENSE00000677429_025 failed\n",
      "ENSE00000677429_026 failed\n",
      "ENSE00000677429_027 failed\n",
      "ENSE00000677429_028 failed\n",
      "ENSE00000677429_029 failed\n",
      "ENSE00000677429_033 failed\n",
      "ENSE00000677429_035 failed\n"
     ]
    },
    {
     "name": "stderr",
     "output_type": "stream",
     "text": [
      "  7%|████████▏                                                                                                             | 1996/28972 [10:55<38:44, 11.61it/s]"
     ]
    },
    {
     "name": "stdout",
     "output_type": "stream",
     "text": [
      "ENSE00000708963_001 failed\n",
      "ENSE00000708963_003 failed\n",
      "ENSE00000708963_004 failed\n",
      "ENSE00000708963_008 failed\n",
      "ENSE00000708963_009 failed\n",
      "ENSE00000708963_010 failed\n",
      "ENSE00000708963_011 failed\n",
      "ENSE00000708963_012 failed\n",
      "ENSE00000708963_013 failed\n",
      "ENSE00000708963_016 failed\n",
      "ENSE00000708963_017 failed\n",
      "ENSE00000708963_018 failed\n",
      "ENSE00000708967_002 failed\n",
      "ENSE00000708967_003 failed\n",
      "ENSE00000708967_005 failed\n"
     ]
    },
    {
     "name": "stderr",
     "output_type": "stream",
     "text": [
      "\r",
      "  7%|████████▏                                                                                                             | 2003/28972 [10:55<23:52, 18.82it/s]"
     ]
    },
    {
     "name": "stdout",
     "output_type": "stream",
     "text": [
      "ENSE00000708967_006 failed\n",
      "ENSE00000708967_007 failed\n",
      "ENSE00000708967_008 failed\n",
      "ENSE00000708967_010 failed\n",
      "ENSE00000708967_014 failed\n",
      "ENSE00000708967_015 failed\n",
      "ENSE00000708967_016 failed\n"
     ]
    },
    {
     "name": "stderr",
     "output_type": "stream",
     "text": [
      " 19%|██████████████████████▌                                                                                               | 5545/28972 [30:18<31:24, 12.43it/s]"
     ]
    },
    {
     "name": "stdout",
     "output_type": "stream",
     "text": [
      "ENSE00000933530_001 failed\n",
      "ENSE00000933530_002 failed\n",
      "ENSE00000933530_003 failed\n",
      "ENSE00000933530_004 failed\n",
      "ENSE00000933530_005 failed\n",
      "ENSE00000933530_006 failed\n",
      "ENSE00000933530_007 failed\n",
      "ENSE00000933530_008 failed\n",
      "ENSE00000933530_009 failed\n"
     ]
    },
    {
     "name": "stderr",
     "output_type": "stream",
     "text": [
      "\r",
      " 19%|██████████████████████▌                                                                                               | 5548/28972 [30:18<31:20, 12.46it/s]"
     ]
    },
    {
     "name": "stdout",
     "output_type": "stream",
     "text": [
      "ENSE00000933530_010 failed\n",
      "ENSE00000933530_011 failed\n",
      "ENSE00000933530_012 failed\n"
     ]
    },
    {
     "name": "stderr",
     "output_type": "stream",
     "text": [
      "\r",
      " 19%|██████████████████████▌                                                                                               | 5550/28972 [30:19<30:42, 12.71it/s]"
     ]
    },
    {
     "name": "stdout",
     "output_type": "stream",
     "text": [
      "ENSE00000933530_013 failed\n",
      "ENSE00000933530_014 failed\n",
      "ENSE00000933530_015 failed\n",
      "ENSE00000933530_016 failed\n",
      "ENSE00000933530_017 failed\n",
      "ENSE00000933530_018 failed\n",
      "ENSE00000933530_019 failed\n",
      "ENSE00000933530_020 failed\n",
      "ENSE00000933530_021 failed\n",
      "ENSE00000933530_022 failed\n",
      "ENSE00000933530_023 failed\n",
      "ENSE00000933530_024 failed\n",
      "ENSE00000933530_025 failed\n",
      "ENSE00000933530_026 failed\n",
      "ENSE00000933530_027 failed\n"
     ]
    },
    {
     "name": "stderr",
     "output_type": "stream",
     "text": [
      " 21%|████████████████████████▏                                                                                           | 6031/28972 [32:51<1:57:43,  3.25it/s]"
     ]
    },
    {
     "name": "stdout",
     "output_type": "stream",
     "text": [
      "ENSE00000944495_001 failed\n",
      "ENSE00000944495_002 failed\n",
      "ENSE00000944495_003 failed\n",
      "ENSE00000944495_004 failed\n",
      "ENSE00000944495_005 failed\n",
      "ENSE00000944495_006 failed\n",
      "ENSE00000944495_007 failed\n",
      "ENSE00000944495_008 failed\n",
      "ENSE00000944495_009 failed\n",
      "ENSE00000944495_010 failed\n",
      "ENSE00000944495_011 failed\n",
      "ENSE00000944495_012 failed\n",
      "ENSE00000944495_015 failed\n",
      "ENSE00000944495_016 failed\n",
      "ENSE00000944495_017 failed\n",
      "ENSE00000944495_018 failed\n",
      "ENSE00000944495_019 failed\n",
      "ENSE00000944495_020 failed\n",
      "ENSE00000944495_021 failed\n",
      "ENSE00000944495_022 failed\n"
     ]
    },
    {
     "name": "stderr",
     "output_type": "stream",
     "text": [
      " 22%|██████████████████████████                                                                                          | 6502/28972 [35:14<2:23:31,  2.61it/s]"
     ]
    },
    {
     "name": "stdout",
     "output_type": "stream",
     "text": [
      "ENSE00000957945_003 failed\n",
      "ENSE00000957945_004 failed\n",
      "ENSE00000957945_010 failed\n",
      "ENSE00000957945_012 failed\n",
      "ENSE00000957945_020 failed\n",
      "ENSE00000957945_022 failed\n"
     ]
    },
    {
     "name": "stderr",
     "output_type": "stream",
     "text": [
      " 26%|██████████████████████████████▎                                                                                     | 7579/28972 [40:53<2:12:14,  2.70it/s]"
     ]
    },
    {
     "name": "stdout",
     "output_type": "stream",
     "text": [
      "ENSE00001002968_015 failed\n",
      "ENSE00001002968_017 failed\n"
     ]
    },
    {
     "name": "stderr",
     "output_type": "stream",
     "text": [
      " 40%|████████████████████████████████████████████▊                                                                    | 11482/28972 [1:08:31<1:34:29,  3.08it/s]"
     ]
    },
    {
     "name": "stdout",
     "output_type": "stream",
     "text": [
      "ENSE00001156207_003 failed\n",
      "ENSE00001156207_004 failed\n",
      "ENSE00001156207_007 failed\n",
      "ENSE00001156207_008 failed\n"
     ]
    },
    {
     "name": "stderr",
     "output_type": "stream",
     "text": [
      " 42%|███████████████████████████████████████████████▋                                                                 | 12213/28972 [1:12:31<1:28:41,  3.15it/s]"
     ]
    },
    {
     "name": "stdout",
     "output_type": "stream",
     "text": [
      "ENSE00001192074_002 failed\n",
      "ENSE00001192074_007 failed\n",
      "ENSE00001192074_008 failed\n",
      "ENSE00001192074_010 failed\n",
      "ENSE00001192074_013 failed\n"
     ]
    },
    {
     "name": "stderr",
     "output_type": "stream",
     "text": [
      " 44%|█████████████████████████████████████████████████▏                                                               | 12612/28972 [1:14:37<1:24:19,  3.23it/s]"
     ]
    },
    {
     "name": "stdout",
     "output_type": "stream",
     "text": [
      "ENSE00001211681_014 failed\n",
      "ENSE00001211681_015 failed\n",
      "ENSE00001211681_016 failed\n",
      "ENSE00001211681_018 failed\n",
      "ENSE00001211681_019 failed\n"
     ]
    },
    {
     "name": "stderr",
     "output_type": "stream",
     "text": [
      " 44%|██████████████████████████████████████████████████                                                               | 12837/28972 [1:15:50<1:27:38,  3.07it/s]"
     ]
    },
    {
     "name": "stdout",
     "output_type": "stream",
     "text": [
      "ENSE00001225970_001 failed\n",
      "ENSE00001225970_002 failed\n",
      "ENSE00001225970_009 failed\n",
      "ENSE00001225970_011 failed\n",
      "ENSE00001225970_015 failed\n",
      "ENSE00001225970_017 failed\n",
      "ENSE00001225970_022 failed\n",
      "ENSE00001225970_023 failed\n",
      "ENSE00001225970_024 failed\n",
      "ENSE00001225970_026 failed\n",
      "ENSE00001225970_027 failed\n",
      "ENSE00001225970_028 failed\n",
      "ENSE00001225970_029 failed\n"
     ]
    },
    {
     "name": "stderr",
     "output_type": "stream",
     "text": [
      " 51%|█████████████████████████████████████████████████████████▍                                                       | 14742/28972 [1:26:14<1:17:46,  3.05it/s]"
     ]
    },
    {
     "name": "stdout",
     "output_type": "stream",
     "text": [
      "ENSE00001321140_001 failed\n",
      "ENSE00001321140_002 failed\n",
      "ENSE00001321140_003 failed\n",
      "ENSE00001321140_004 failed\n",
      "ENSE00001321140_005 failed\n",
      "ENSE00001321140_006 failed\n",
      "ENSE00001321140_008 failed\n",
      "ENSE00001321140_010 failed\n",
      "ENSE00001321140_012 failed\n",
      "ENSE00001321140_014 failed\n",
      "ENSE00001321140_016 failed\n",
      "ENSE00001321140_017 failed\n",
      "ENSE00001321140_018 failed\n",
      "ENSE00001321140_019 failed\n",
      "ENSE00001321140_020 failed\n",
      "ENSE00001321140_022 failed\n",
      "ENSE00001321140_023 failed\n",
      "ENSE00001321140_024 failed\n",
      "ENSE00001321140_025 failed\n",
      "ENSE00001321140_026 failed\n",
      "ENSE00001321140_028 failed\n",
      "ENSE00001321140_029 failed\n"
     ]
    },
    {
     "name": "stderr",
     "output_type": "stream",
     "text": [
      " 52%|███████████████████████████████████████████████████████████                                                      | 15151/28972 [1:28:22<1:14:29,  3.09it/s]"
     ]
    },
    {
     "name": "stdout",
     "output_type": "stream",
     "text": [
      "ENSE00001339922_001 failed\n",
      "ENSE00001339922_002 failed\n",
      "ENSE00001339922_004 failed\n",
      "ENSE00001339922_007 failed\n",
      "ENSE00001339922_008 failed\n",
      "ENSE00001339922_009 failed\n",
      "ENSE00001339922_010 failed\n",
      "ENSE00001339922_012 failed\n",
      "ENSE00001339922_013 failed\n",
      "ENSE00001339922_014 failed\n",
      "ENSE00001339922_015 failed\n",
      "ENSE00001339922_016 failed\n",
      "ENSE00001339922_019 failed\n",
      "ENSE00001339922_020 failed\n"
     ]
    },
    {
     "name": "stderr",
     "output_type": "stream",
     "text": [
      " 54%|████████████████████████████████████████████████████████████▉                                                    | 15631/28972 [1:30:54<1:12:25,  3.07it/s]"
     ]
    },
    {
     "name": "stdout",
     "output_type": "stream",
     "text": [
      "ENSE00001384956_001 failed\n"
     ]
    },
    {
     "name": "stderr",
     "output_type": "stream",
     "text": [
      " 60%|███████████████████████████████████████████████████████████████████▌                                             | 17329/28972 [1:40:13<1:06:42,  2.91it/s]"
     ]
    },
    {
     "name": "stdout",
     "output_type": "stream",
     "text": [
      "ENSE00001602316_002 failed\n",
      "ENSE00001602316_003 failed\n",
      "ENSE00001602316_005 failed\n",
      "ENSE00001602316_008 failed\n",
      "ENSE00001602316_009 failed\n",
      "ENSE00001602316_012 failed\n",
      "ENSE00001602316_014 failed\n",
      "ENSE00001602316_015 failed\n",
      "ENSE00001602316_018 failed\n",
      "ENSE00001602316_019 failed\n",
      "ENSE00001602316_020 failed\n",
      "ENSE00001602316_022 failed\n",
      "ENSE00001602316_023 failed\n",
      "ENSE00001602316_024 failed\n",
      "ENSE00001602316_027 failed\n",
      "ENSE00001602316_029 failed\n"
     ]
    },
    {
     "name": "stderr",
     "output_type": "stream",
     "text": [
      " 67%|████████████████████████████████████████████████████████████████████████████▌                                      | 19302/28972 [1:51:51<47:37,  3.38it/s]"
     ]
    },
    {
     "name": "stdout",
     "output_type": "stream",
     "text": [
      "ENSE00001671444_002 failed\n",
      "ENSE00001671444_003 failed\n"
     ]
    },
    {
     "name": "stderr",
     "output_type": "stream",
     "text": [
      " 67%|████████████████████████████████████████████████████████████████████████████▋                                      | 19312/28972 [1:51:51<11:25, 14.09it/s]"
     ]
    },
    {
     "name": "stdout",
     "output_type": "stream",
     "text": [
      "ENSE00001671444_004 failed\n",
      "ENSE00001671444_006 failed\n",
      "ENSE00001671444_007 failed\n",
      "ENSE00001671444_009 failed\n",
      "ENSE00001671444_012 failed\n",
      "ENSE00001671444_015 failed\n",
      "ENSE00001671444_020 failed\n",
      "ENSE00001671444_022 failed\n",
      "ENSE00001671444_023 failed\n",
      "ENSE00001671444_024 failed\n"
     ]
    },
    {
     "name": "stderr",
     "output_type": "stream",
     "text": [
      " 67%|█████████████████████████████████████████████████████████████████████████████▍                                     | 19507/28972 [1:53:25<23:40,  6.66it/s]"
     ]
    },
    {
     "name": "stdout",
     "output_type": "stream",
     "text": [
      "ENSE00001682514_001 failed\n",
      "ENSE00001682514_003 failed\n",
      "ENSE00001682514_004 failed\n",
      "ENSE00001682514_006 failed\n",
      "ENSE00001682514_008 failed\n",
      "ENSE00001682514_009 failed\n"
     ]
    },
    {
     "name": "stderr",
     "output_type": "stream",
     "text": [
      "\r",
      " 67%|█████████████████████████████████████████████████████████████████████████████▍                                     | 19510/28972 [1:53:25<16:59,  9.28it/s]"
     ]
    },
    {
     "name": "stdout",
     "output_type": "stream",
     "text": [
      "ENSE00001682514_010 failed\n",
      "ENSE00001682514_012 failed\n",
      "ENSE00001682514_013 failed\n",
      "ENSE00001682514_014 failed\n"
     ]
    },
    {
     "name": "stderr",
     "output_type": "stream",
     "text": [
      " 67%|█████████████████████████████████████████████████████████████████████████████▍                                     | 19516/28972 [1:53:25<10:16, 15.34it/s]"
     ]
    },
    {
     "name": "stdout",
     "output_type": "stream",
     "text": [
      "ENSE00001682514_015 failed\n",
      "ENSE00001682514_016 failed\n",
      "ENSE00001682514_017 failed\n",
      "ENSE00001682514_018 failed\n",
      "ENSE00001682514_021 failed\n",
      "ENSE00001682514_022 failed\n"
     ]
    },
    {
     "name": "stderr",
     "output_type": "stream",
     "text": [
      " 73%|███████████████████████████████████████████████████████████████████████████████████▍                               | 21008/28972 [2:07:21<43:18,  3.06it/s]"
     ]
    },
    {
     "name": "stdout",
     "output_type": "stream",
     "text": [
      "ENSE00001741292_002 failed\n",
      "ENSE00001741292_006 failed\n",
      "ENSE00001741292_008 failed\n",
      "ENSE00001741292_009 failed\n",
      "ENSE00001741292_010 failed\n",
      "ENSE00001741292_011 failed\n",
      "ENSE00001741292_013 failed\n",
      "ENSE00001741292_015 failed\n"
     ]
    },
    {
     "name": "stderr",
     "output_type": "stream",
     "text": [
      " 76%|██████████████████████████████████████████████████████████████████████████████████████▉                            | 21906/28972 [2:12:39<41:08,  2.86it/s]"
     ]
    },
    {
     "name": "stdout",
     "output_type": "stream",
     "text": [
      "ENSE00001768088_001 failed\n",
      "ENSE00001768088_002 failed\n",
      "ENSE00001768088_003 failed\n",
      "ENSE00001768088_004 failed\n",
      "ENSE00001768088_005 failed\n",
      "ENSE00001768088_007 failed\n",
      "ENSE00001768088_008 failed\n",
      "ENSE00001768088_009 failed\n",
      "ENSE00001768088_010 failed\n",
      "ENSE00001768088_011 failed\n",
      "ENSE00001768088_013 failed\n",
      "ENSE00001768088_014 failed\n",
      "ENSE00001768088_015 failed\n",
      "ENSE00001768088_017 failed\n",
      "ENSE00001768088_018 failed\n",
      "ENSE00001768088_019 failed\n"
     ]
    },
    {
     "name": "stderr",
     "output_type": "stream",
     "text": [
      " 76%|███████████████████████████████████████████████████████████████████████████████████████                            | 21938/28972 [2:12:45<40:02,  2.93it/s]"
     ]
    },
    {
     "name": "stdout",
     "output_type": "stream",
     "text": [
      "ENSE00001768543_001 failed\n",
      "ENSE00001768543_003 failed\n",
      "ENSE00001768543_004 failed\n",
      "ENSE00001768543_005 failed\n",
      "ENSE00001768543_006 failed\n",
      "ENSE00001768543_008 failed\n",
      "ENSE00001768543_009 failed\n",
      "ENSE00001768543_010 failed\n",
      "ENSE00001768543_012 failed\n",
      "ENSE00001768543_013 failed\n",
      "ENSE00001768543_014 failed\n",
      "ENSE00001768543_015 failed\n",
      "ENSE00001768543_016 failed\n",
      "ENSE00001768543_017 failed\n",
      "ENSE00001768543_019 failed\n",
      "ENSE00001768543_022 failed\n",
      "ENSE00001768543_023 failed\n",
      "ENSE00001768543_024 failed\n"
     ]
    },
    {
     "name": "stderr",
     "output_type": "stream",
     "text": [
      " 81%|█████████████████████████████████████████████████████████████████████████████████████████████▏                     | 23468/28972 [2:21:39<30:00,  3.06it/s]"
     ]
    },
    {
     "name": "stdout",
     "output_type": "stream",
     "text": [
      "ENSE00002296409_004 failed\n",
      "ENSE00002296409_005 failed\n",
      "ENSE00002296409_008 failed\n",
      "ENSE00002296409_028 failed\n",
      "ENSE00002296409_030 failed\n"
     ]
    },
    {
     "name": "stderr",
     "output_type": "stream",
     "text": [
      " 81%|█████████████████████████████████████████████████████████████████████████████████████████████▎                     | 23515/28972 [2:21:53<34:00,  2.67it/s]"
     ]
    },
    {
     "name": "stdout",
     "output_type": "stream",
     "text": [
      "ENSE00002303011_001 failed\n",
      "ENSE00002303011_002 failed\n",
      "ENSE00002303011_004 failed\n",
      "ENSE00002303011_005 failed\n",
      "ENSE00002303011_006 failed\n",
      "ENSE00002303011_008 failed\n",
      "ENSE00002303011_010 failed\n",
      "ENSE00002303011_011 failed\n",
      "ENSE00002303011_013 failed\n",
      "ENSE00002303011_014 failed\n",
      "ENSE00002303011_015 failed\n",
      "ENSE00002303011_016 failed\n",
      "ENSE00002303011_017 failed\n",
      "ENSE00002303011_018 failed\n",
      "ENSE00002303011_019 failed\n",
      "ENSE00002303011_020 failed\n",
      "ENSE00002303011_021 failed\n",
      "ENSE00002303011_022 failed\n",
      "ENSE00002303011_025 failed\n",
      "ENSE00002303011_026 failed\n",
      "ENSE00002303011_027 failed\n",
      "ENSE00002303011_028 failed\n",
      "ENSE00002303011_029 failed\n"
     ]
    },
    {
     "name": "stderr",
     "output_type": "stream",
     "text": [
      " 86%|██████████████████████████████████████████████████████████████████████████████████████████████████▋                | 24857/28972 [2:29:18<22:06,  3.10it/s]"
     ]
    },
    {
     "name": "stdout",
     "output_type": "stream",
     "text": [
      "ENSE00002347089_001 failed\n",
      "ENSE00002347089_004 failed\n",
      "ENSE00002347089_006 failed\n",
      "ENSE00002347089_009 failed\n",
      "ENSE00002347089_012 failed\n",
      "ENSE00002347089_015 failed\n"
     ]
    },
    {
     "name": "stderr",
     "output_type": "stream",
     "text": [
      " 94%|███████████████████████████████████████████████████████████████████████████████████████████████████████████▉       | 27206/28972 [2:42:16<09:36,  3.06it/s]"
     ]
    },
    {
     "name": "stdout",
     "output_type": "stream",
     "text": [
      "ENSE00002391992_033 failed\n",
      "ENSE00002391992_035 failed\n",
      "ENSE00002391992_036 failed\n",
      "ENSE00002391992_037 failed\n"
     ]
    },
    {
     "name": "stderr",
     "output_type": "stream",
     "text": [
      "\r",
      " 94%|████████████████████████████████████████████████████████████████████████████████████████████████████████████       | 27211/28972 [2:42:16<04:29,  6.54it/s]"
     ]
    },
    {
     "name": "stdout",
     "output_type": "stream",
     "text": [
      "ENSE00002392171_002 failed\n",
      "ENSE00002392171_003 failed\n",
      "ENSE00002392171_004 failed\n",
      "ENSE00002392171_008 failed\n",
      "ENSE00002392171_009 failed\n",
      "ENSE00002392171_011 failed\n",
      "ENSE00002392171_015 failed\n",
      "ENSE00002392171_018 failed\n",
      "ENSE00002392171_019 failed\n",
      "ENSE00002392171_020 failed\n",
      "ENSE00002392171_023 failed\n"
     ]
    },
    {
     "name": "stderr",
     "output_type": "stream",
     "text": [
      "100%|███████████████████████████████████████████████████████████████████████████████████████████████████████████████████| 28972/28972 [2:51:47<00:00,  2.81it/s]\n"
     ]
    }
   ],
   "source": [
    "def predictSplicing(seq,models):\n",
    "    outputs = []\n",
    "    for i in range(seq.shape[0]):\n",
    "        Xc = torch.tensor(seq[i,:,:], device=device).float().unsqueeze(0).numpy()\n",
    "        #Xc = torch.swapaxes(batch_features,1,2)\n",
    "        predictions = []\n",
    "        for v in range(n_models):\n",
    "            Yp = models[v].predict(Xc, batch_size=1)\n",
    "            predictions.append(Yp)\n",
    "        predictions = (predictions[0]+predictions[1]+predictions[2]+predictions[3]+predictions[4])/n_models\n",
    "        outputs.append(np.swapaxes(predictions,1,2))\n",
    "    \n",
    "    outputs = np.concatenate(outputs,axis=2)\n",
    "    #outputs = outputs.cpu().detach().numpy()\n",
    "    return outputs\n",
    "\n",
    "def plotPrediction(outputs):\n",
    "    plt.rcParams.update({'font.size': 18})\n",
    "    fig, (ax1, ax2) = plt.subplots(2, 1,figsize=(22, 6),sharex=True)\n",
    "    x = np.arange(outputs.shape[2])\n",
    "    ax1.plot(x,outputs[0,1,:],linewidth=2,zorder=-32)\n",
    "    ax2.plot(x,outputs[0,2,:],linewidth=2,zorder=-32)\n",
    "    plt.xlabel('Distance from transcript start (nt)')\n",
    "    ax1.set_ylabel('Acceptor score')\n",
    "    ax2.set_ylabel('Donor Score')\n",
    "    ax1.legend(prop={'size': 14})\n",
    "    ax2.legend(prop={'size': 14})\n",
    "    plt.tight_layout()\n",
    "    plt.show()\n",
    "\n",
    "def ceil_div(x, y):\n",
    "\n",
    "    return int(ceil(float(x)/y))\n",
    "\n",
    "\n",
    "IN_MAP = np.asarray([[0, 0, 0, 0],\n",
    "                     [1, 0, 0, 0],\n",
    "                     [0, 1, 0, 0],\n",
    "                     [0, 0, 1, 0],\n",
    "                     [0, 0, 0, 1]])\n",
    "\n",
    "def one_hot_encode(Xd):\n",
    "\n",
    "    return IN_MAP[Xd.astype('int8')]\n",
    "\n",
    "def reformat_data(X0):\n",
    "    # This function converts X0, Y0 of the create_datapoints function into\n",
    "    # blocks such that the data is broken down into data points where the\n",
    "    # input is a sequence of length SL+CL_max corresponding to SL nucleotides\n",
    "    # of interest and CL_max context nucleotides, the output is a sequence of\n",
    "    # length SL corresponding to the splicing information of the nucleotides\n",
    "    # of interest. The CL_max context nucleotides are such that they are\n",
    "    # CL_max/2 on either side of the SL nucleotides of interest.\n",
    "\n",
    "    num_points = ceil_div(len(X0)-CL_max, SL)\n",
    "    Xd = np.zeros((num_points, SL+CL_max))\n",
    "    X0 = np.pad(X0, [0, SL], 'constant', constant_values=0)\n",
    "\n",
    "    for i in range(num_points):\n",
    "        Xd[i] = X0[SL*i:CL_max+SL*(i+1)]\n",
    "\n",
    "    return Xd\n",
    "\n",
    "def seqToArray(seq,strand):\n",
    "    seq = 'N'*(CL_max//2) + seq + 'N'*(CL_max//2)\n",
    "    seq = seq.upper()\n",
    "    seq = re.sub(r'[^AGTC]', '0',seq)\n",
    "    seq = seq.replace('A', '1').replace('C', '2')\n",
    "    seq = seq.replace('G', '3').replace('T', '4').replace('N', '0')\n",
    "    if strand == '+':\n",
    "        X0 = np.asarray([int(x) for x in seq])\n",
    "            \n",
    "    elif strand == '-':\n",
    "        X0 = (5-np.asarray([int(x) for x in seq[::-1]])) % 5  # Reverse complement\n",
    "        \n",
    "    Xd = reformat_data(X0)\n",
    "    return  one_hot_encode(Xd)\n",
    "\n",
    "results = {}\n",
    "\n",
    "for i in tqdm(range(mutant_snv.shape[0])):\n",
    "    try:\n",
    "        category,chrm,strand,pos,ref_s,alt_s,transcript_id,event_id = mutant_snv.iloc[i,:][['category','chr','strand','snp_position_hg38_0based_start','ref_allele', 'alt_allele','ensembl_transcript_id','internal_id']]\n",
    "        pos = int(pos)+1\n",
    "        chrm = f'chr{chrm}'\n",
    "        gene_start = gtf[transcript_id].start\n",
    "        gene_end = gtf[transcript_id].end\n",
    "        start,end = np.max([pos-CL_max//2-2500+1,gene_start]),np.min([pos+2500+CL_max//2,gene_end])\n",
    "        chrm_length = len(fasta[chrm])\n",
    "        if start < 1:\n",
    "            start = 1\n",
    "        if end >chrm_length:\n",
    "            end = chrm_length\n",
    "\n",
    "        pos_s = pos-start\n",
    "\n",
    "        ref = fasta[chrm][start-1:end].seq\n",
    "        alt = ref\n",
    "        ref_len = len(ref_s)\n",
    "        alt_len = len(alt_s)\n",
    "        #print(strand)\n",
    "        #print(ref_s,ref[pos_s:(pos_s+ref_len)])\n",
    "        assert ref_s == ref[pos_s:(pos_s+ref_len)]\n",
    "        alt = alt[:pos_s]+alt_s+alt[(pos_s+ref_len):]\n",
    "        alt_align = np.arange(len(ref))\n",
    "        alt_align = np.concatenate([alt_align[:pos_s],np.repeat(pos_s,alt_len),alt_align[pos_s+ref_len:]])\n",
    "\n",
    "        ref = 'N'*(CL_max//2+2500-1-(pos-start))+ref+(CL_max//2+2500-(end-pos))*'N'\n",
    "        alt = 'N'*(CL_max//2+2500-1-(pos-start))+alt+(CL_max//2+2500-(end-pos))*'N'\n",
    "        assert len(ref)==CL_max+SL\n",
    "        ref_len2 = len(ref)\n",
    "        alt_len2 = len(alt)\n",
    "\n",
    "        ref = seqToArray(ref,strand)\n",
    "        alt = seqToArray(alt,strand)\n",
    "\n",
    "        ref_prediction = predictSplicing(ref,models)[0,:,:]\n",
    "        alt_prediction = predictSplicing(alt,models)[0,:,:]\n",
    "\n",
    "        #tmp = np.zeros_like(ref_prediction)\n",
    "        if strand=='-':\n",
    "            ref_prediction = ref_prediction[:,::-1]\n",
    "            alt_prediction = alt_prediction[:,::-1]\n",
    "\n",
    "        ref_acceptor = ref_prediction[1,:]\n",
    "        alt_acceptor = alt_prediction[1,:]\n",
    "        ref_donor = ref_prediction[2,:]\n",
    "        alt_donor = alt_prediction[2,:]\n",
    "\n",
    "        #delta_1_a = alt_acceptor[:pos_s]-ref_acceptor[:pos_s]\n",
    "        #delta_1_d = alt_donor[:pos_s]-ref_donor[:pos_s]\n",
    "        #delta_3_a = alt_acceptor[pos_s+alt_len:]-ref_acceptor[pos_s+ref_len:]\n",
    "        #delta_3_d = alt_donor[pos_s+alt_len:]-ref_donor[pos_s+ref_len:]\n",
    "\n",
    "        #if ref_len2==alt_len2:\n",
    "        #    delta_2_a = alt_acceptor[pos_s:pos_s+ref_len]-ref_acceptor[pos_s:pos_s+ref_len]\n",
    "        #    delta_2_d = alt_donor[pos_s:pos_s+ref_len]-ref_donor[pos_s:pos_s+ref_len]\n",
    "        #elif ref_len2>alt_len2:\n",
    "        #    a_pad = np.pad(alt_acceptor[pos_s:pos_s+alt_len],(0, ref_len-alt_len), 'constant', constant_values=0)\n",
    "        #    d_pad = np.pad(alt_donor[pos_s:pos_s+alt_len],(0, ref_len-alt_len), 'constant', constant_values=0)\n",
    "        #    delta_2_a = a_pad-ref_acceptor[pos_s:pos_s+ref_len]\n",
    "        #    delta_2_d = d_pad-ref_donor[pos_s:pos_s+ref_len]\n",
    "\n",
    "       # elif ref_len2<alt_len2:\n",
    "       #     a_pad = np.pad(ref_acceptor[pos_s:pos_s+ref_len],(0, alt_len-ref_len), 'constant', constant_values=0)\n",
    "       #     d_pad = np.pad(ref_donor[pos_s:pos_s+ref_len],(0, alt_len-ref_len), 'constant', constant_values=0)\n",
    "       #     delta_2_a = alt_acceptor[pos_s:pos_s+alt_len]-a_pad\n",
    "       #     delta_2_d = alt_donor[pos_s:pos_s+alt_len]-d_pad\n",
    "\n",
    "       #     delta_2_a =np.append(delta_2_a[:ref_len-1],delta_2_a[np.argmax(np.absolute(delta_2_a[ref_len-1:alt_len]))])\n",
    "       #     delta_2_d =np.append(delta_2_d[:ref_len-1],delta_2_d[np.argmax(np.absolute(delta_2_d[ref_len-1:alt_len]))])\n",
    "\n",
    "        #acceptorDelta = np.concatenate([delta_1_a,delta_2_a,delta_3_a])\n",
    "        #donorDelta = np.concatenate([delta_1_d,delta_2_d,delta_3_d])\n",
    "        acceptorDelta = alt_acceptor-ref_acceptor\n",
    "        donorDelta = alt_donor-ref_donor\n",
    "        top_a_creation_pos = np.argmax(acceptorDelta)\n",
    "        top_d_creation_pos = np.argmax(donorDelta)\n",
    "        top_a_disruption_pos = np.argmin(acceptorDelta)\n",
    "        top_d_disruption_pos = np.argmin(donorDelta)\n",
    "        top_a_creation_delta = acceptorDelta[top_a_creation_pos]\n",
    "        top_d_creation_delta = donorDelta[top_d_creation_pos]\n",
    "        top_a_disruption_delta = acceptorDelta[top_a_disruption_pos]\n",
    "        top_d_disruption_delta = donorDelta[top_d_disruption_pos]\n",
    "\n",
    "        results[event_id] = [gene_start,gene_end,top_a_creation_pos,top_d_creation_pos,top_a_disruption_pos,top_d_disruption_pos,top_a_creation_delta,top_d_creation_delta,-top_a_disruption_delta,-top_d_disruption_delta]\n",
    "    except:\n",
    "        print('{} failed'.format(event_id))"
   ]
  },
  {
   "cell_type": "code",
   "execution_count": 17,
   "metadata": {},
   "outputs": [],
   "source": [
    "#mutant_snv[mutant_snv['internal_id']=='ENSE00002392171_003']['ensembl_transcript_id']"
   ]
  },
  {
   "cell_type": "code",
   "execution_count": 18,
   "metadata": {},
   "outputs": [],
   "source": [
    "#with open('/odinn/tmp/benediktj/Data/SplicePrediction-050422/mfas_spliceai_gtex_210423.pkl', 'wb') as f:\n",
    "#    pickle.dump(results, f)"
   ]
  },
  {
   "cell_type": "code",
   "execution_count": 19,
   "metadata": {},
   "outputs": [],
   "source": [
    "with open('/odinn/tmp/benediktj/Data/SplicePrediction-050422/mfas_spliceai_gtex_210423.pkl', 'rb') as f:\n",
    "    results_1 = pickle.load(f)"
   ]
  },
  {
   "cell_type": "code",
   "execution_count": 20,
   "metadata": {},
   "outputs": [],
   "source": [
    "with open('/odinn/tmp/benediktj/Data/SplicePrediction-050422/mfas_transformer_gtex_190423.pkl', 'rb') as f:\n",
    "    results_2 = pickle.load(f)"
   ]
  },
  {
   "cell_type": "code",
   "execution_count": 21,
   "metadata": {},
   "outputs": [],
   "source": [
    "df_1 = pd.DataFrame(results_1).T\n",
    "df_1.columns = ['gene_start','gene_end','top_a_creation_pos','top_d_creation_pos','top_a_disruption_pos','top_d_disruption_pos','top_a_creation_delta','top_d_creation_delta','top_a_disruption_delta','top_d_disruption_delta']\n",
    "df_1.index.name = 'internal_id'\n",
    "df_2 = pd.DataFrame(results_2).T\n",
    "df_2.columns = ['gene_start','gene_end','top_a_creation_pos','top_d_creation_pos','top_a_disruption_pos','top_d_disruption_pos','top_a_creation_delta','top_d_creation_delta','top_a_disruption_delta','top_d_disruption_delta']\n",
    "df_2.index.name = 'internal_id'"
   ]
  },
  {
   "cell_type": "code",
   "execution_count": 22,
   "metadata": {},
   "outputs": [],
   "source": [
    "df = df_1.merge(df_2,on='internal_id')"
   ]
  },
  {
   "cell_type": "code",
   "execution_count": 23,
   "metadata": {},
   "outputs": [],
   "source": [
    "save_r = results"
   ]
  },
  {
   "cell_type": "code",
   "execution_count": 24,
   "metadata": {},
   "outputs": [],
   "source": [
    "results = snv_list.merge(df,on='internal_id')"
   ]
  },
  {
   "cell_type": "code",
   "execution_count": 25,
   "metadata": {},
   "outputs": [
    {
     "data": {
      "text/html": [
       "<div>\n",
       "<style scoped>\n",
       "    .dataframe tbody tr th:only-of-type {\n",
       "        vertical-align: middle;\n",
       "    }\n",
       "\n",
       "    .dataframe tbody tr th {\n",
       "        vertical-align: top;\n",
       "    }\n",
       "\n",
       "    .dataframe thead th {\n",
       "        text-align: right;\n",
       "    }\n",
       "</style>\n",
       "<table border=\"1\" class=\"dataframe\">\n",
       "  <thead>\n",
       "    <tr style=\"text-align: right;\">\n",
       "      <th></th>\n",
       "      <th>index</th>\n",
       "      <th>nat_index</th>\n",
       "      <th>dpsi</th>\n",
       "    </tr>\n",
       "  </thead>\n",
       "  <tbody>\n",
       "    <tr>\n",
       "      <th>0</th>\n",
       "      <td>0.874194</td>\n",
       "      <td>0.830145</td>\n",
       "      <td>0.044049</td>\n",
       "    </tr>\n",
       "    <tr>\n",
       "      <th>1</th>\n",
       "      <td>0.009951</td>\n",
       "      <td>0.712929</td>\n",
       "      <td>-0.702978</td>\n",
       "    </tr>\n",
       "    <tr>\n",
       "      <th>2</th>\n",
       "      <td>0.940997</td>\n",
       "      <td>0.712929</td>\n",
       "      <td>0.228068</td>\n",
       "    </tr>\n",
       "    <tr>\n",
       "      <th>3</th>\n",
       "      <td>0.886539</td>\n",
       "      <td>0.712929</td>\n",
       "      <td>0.173610</td>\n",
       "    </tr>\n",
       "    <tr>\n",
       "      <th>4</th>\n",
       "      <td>0.905263</td>\n",
       "      <td>0.712929</td>\n",
       "      <td>0.192334</td>\n",
       "    </tr>\n",
       "    <tr>\n",
       "      <th>...</th>\n",
       "      <td>...</td>\n",
       "      <td>...</td>\n",
       "      <td>...</td>\n",
       "    </tr>\n",
       "    <tr>\n",
       "      <th>28675</th>\n",
       "      <td>0.999942</td>\n",
       "      <td>0.996698</td>\n",
       "      <td>0.003244</td>\n",
       "    </tr>\n",
       "    <tr>\n",
       "      <th>28676</th>\n",
       "      <td>0.980837</td>\n",
       "      <td>0.996698</td>\n",
       "      <td>-0.015861</td>\n",
       "    </tr>\n",
       "    <tr>\n",
       "      <th>28677</th>\n",
       "      <td>0.914272</td>\n",
       "      <td>0.996698</td>\n",
       "      <td>-0.082427</td>\n",
       "    </tr>\n",
       "    <tr>\n",
       "      <th>28678</th>\n",
       "      <td>1.000000</td>\n",
       "      <td>0.996698</td>\n",
       "      <td>0.003302</td>\n",
       "    </tr>\n",
       "    <tr>\n",
       "      <th>28679</th>\n",
       "      <td>1.000000</td>\n",
       "      <td>0.996698</td>\n",
       "      <td>0.003302</td>\n",
       "    </tr>\n",
       "  </tbody>\n",
       "</table>\n",
       "<p>28680 rows × 3 columns</p>\n",
       "</div>"
      ],
      "text/plain": [
       "          index  nat_index      dpsi\n",
       "0      0.874194   0.830145  0.044049\n",
       "1      0.009951   0.712929 -0.702978\n",
       "2      0.940997   0.712929  0.228068\n",
       "3      0.886539   0.712929  0.173610\n",
       "4      0.905263   0.712929  0.192334\n",
       "...         ...        ...       ...\n",
       "28675  0.999942   0.996698  0.003244\n",
       "28676  0.980837   0.996698 -0.015861\n",
       "28677  0.914272   0.996698 -0.082427\n",
       "28678  1.000000   0.996698  0.003302\n",
       "28679  1.000000   0.996698  0.003302\n",
       "\n",
       "[28680 rows x 3 columns]"
      ]
     },
     "execution_count": 25,
     "metadata": {},
     "output_type": "execute_result"
    }
   ],
   "source": [
    "results[['index','nat_index','dpsi']]"
   ]
  },
  {
   "cell_type": "code",
   "execution_count": 26,
   "metadata": {},
   "outputs": [],
   "source": [
    "results = results[np.any([results.dpsi.abs()<0.1,results.dpsi<=-0.5],axis=0)]"
   ]
  },
  {
   "cell_type": "code",
   "execution_count": 27,
   "metadata": {},
   "outputs": [],
   "source": [
    "from sklearn.linear_model import LogisticRegression\n",
    "from sklearn.metrics import roc_curve, auc"
   ]
  },
  {
   "cell_type": "code",
   "execution_count": 29,
   "metadata": {},
   "outputs": [
    {
     "data": {
      "image/png": "[encoded data removed]",
      "text/plain": [
       "<Figure size 432x288 with 1 Axes>"
      ]
     },
     "metadata": {
      "needs_background": "light"
     },
     "output_type": "display_data"
    }
   ],
   "source": [
    "tmp = results[['is_sdv','top_d_disruption_delta_y','top_a_disruption_delta_y','top_d_disruption_delta_x','top_a_disruption_delta_x','top_d_disruption_delta_x','top_a_disruption_delta_x']].dropna()\n",
    "X1,y1 = tmp[['top_d_disruption_delta_y','top_a_disruption_delta_y']].max(axis=1),tmp['is_sdv'].astype(int)\n",
    "\n",
    "fpr1, tpr1,t1 = roc_curve(y1, X1)\n",
    "auc_1 = auc(fpr1, tpr1)\n",
    "\n",
    "plt.plot(fpr1, tpr1,label=f\"Transformer-40k (AUC = {auc_1 :.3f})\")\n",
    "\n",
    "\n",
    "X2,y2 = tmp[['top_d_disruption_delta_x','top_a_disruption_delta_x']].max(axis=1),tmp['is_sdv'].astype(int)\n",
    "\n",
    "fpr2, tpr2,t2 = roc_curve(y2, X2)\n",
    "auc_2 = auc(fpr2, tpr2)\n",
    "\n",
    "plt.plot(fpr2, tpr2,label=f\"SpliceAI-10k (AUC = {auc_2 :.3f})\")\n",
    "plt.legend()\n",
    "plt.xlabel(\"False Positive Rate\")\n",
    "plt.ylabel(\"True Positive Rate\")\n",
    "plt.savefig('../Results/mafs_auc.png',dpi=300,bbox_inches='tight')\n",
    "plt.show()"
   ]
  },
  {
   "cell_type": "code",
   "execution_count": 30,
   "metadata": {},
   "outputs": [
    {
     "data": {
      "image/png": "[encoded data removed]",
      "text/plain": [
       "<Figure size 432x288 with 1 Axes>"
      ]
     },
     "metadata": {
      "needs_background": "light"
     },
     "output_type": "display_data"
    }
   ],
   "source": [
    "plt.scatter(results['dpsi'],results[['top_d_disruption_delta_y','top_a_disruption_delta_y']].max(axis=1),s=1)\n",
    "plt.ylabel('Transformer disruption delta score')\n",
    "plt.xlabel('$\\Delta$psi')\n",
    "#plt.savefig('../Results/mafs_dpsi_correlation.png',dpi=300,bbox_inches='tight')\n",
    "plt.show()"
   ]
  },
  {
   "cell_type": "code",
   "execution_count": 31,
   "metadata": {},
   "outputs": [],
   "source": [
    "results['fp'] = np.all([results['dpsi']>-0.2,results[['top_d_disruption_delta_y','top_a_disruption_delta_y']].max(axis=1)>0.5],axis=0)"
   ]
  },
  {
   "cell_type": "code",
   "execution_count": 32,
   "metadata": {},
   "outputs": [],
   "source": [
    "higher = np.argmax(results[['top_d_disruption_delta_y','top_a_disruption_delta_y']].values,axis=1)\n",
    "cond = [[x==0,x==1] for x in higher]\n",
    "results['max_pos'] = results[['top_d_disruption_pos_y','top_a_disruption_pos_y']].values[cond]"
   ]
  },
  {
   "cell_type": "code",
   "execution_count": 46,
   "metadata": {},
   "outputs": [],
   "source": [
    "results['splice_dist'] = np.abs(results['max_pos']-2500)\n",
    "#results['splice_dist'] =results['max_pos']-2500"
   ]
  },
  {
   "cell_type": "code",
   "execution_count": 47,
   "metadata": {},
   "outputs": [],
   "source": [
    "from matplotlib import colors"
   ]
  },
  {
   "cell_type": "code",
   "execution_count": 48,
   "metadata": {},
   "outputs": [
    {
     "data": {
      "image/png": "[encoded data removed]",
      "text/plain": [
       "<Figure size 432x288 with 2 Axes>"
      ]
     },
     "metadata": {
      "needs_background": "light"
     },
     "output_type": "display_data"
    }
   ],
   "source": [
    "cond = results['fp']==False\n",
    "plt.scatter(results['splice_dist'][cond],results['dpsi'][cond],s=1,c=results[['top_d_disruption_delta_x','top_a_disruption_delta_x']].max(axis=1)[cond], norm=colors.LogNorm())\n",
    "cbar = plt.colorbar()\n",
    "cbar.set_label('Transformer delta score', rotation=270, labelpad=15)\n",
    "cond = results['fp']==True\n",
    "plt.scatter(results['splice_dist'][cond],results['dpsi'][cond],c='red',s=10,label='False positives')\n",
    "\n",
    "\n",
    "plt.legend()\n",
    "plt.xlabel('Predicted Distance of Disrupted Site from variant')\n",
    "plt.ylabel('$\\Delta$psi')\n",
    "plt.savefig('../Results/mafs_predicted_distance_vs_dpsi.png',dpi=300,bbox_inches='tight')\n",
    "plt.show()"
   ]
  },
  {
   "cell_type": "code",
   "execution_count": 49,
   "metadata": {},
   "outputs": [],
   "source": [
    "from sklearn.metrics import average_precision_score"
   ]
  },
  {
   "cell_type": "code",
   "execution_count": 50,
   "metadata": {},
   "outputs": [
    {
     "name": "stdout",
     "output_type": "stream",
     "text": [
      "22277 1047\n"
     ]
    },
    {
     "data": {
      "image/png": "[encoded data removed]",
      "text/plain": [
       "<Figure size 432x288 with 1 Axes>"
      ]
     },
     "metadata": {
      "needs_background": "light"
     },
     "output_type": "display_data"
    }
   ],
   "source": [
    "#tmp = results[results['label'].isin(['upstr_intron','downstr_intron'])]\n",
    "tmp = results[['is_sdv','top_d_disruption_delta_y','top_a_disruption_delta_y','top_d_disruption_delta_x','top_a_disruption_delta_x','top_d_disruption_delta_x','top_a_disruption_delta_x']].dropna()\n",
    "X1,y1 = tmp[['top_d_disruption_delta_y','top_a_disruption_delta_y']].max(axis=1),tmp['is_sdv'].astype(int)\n",
    "X2,y2 = tmp[['top_d_disruption_delta_x','top_a_disruption_delta_x']].max(axis=1),tmp['is_sdv'].astype(int)\n",
    "from sklearn.metrics import precision_recall_curve\n",
    "precision1, recall1,t1 = precision_recall_curve(y1, X1)\n",
    "auc_1 = average_precision_score(y1, X1)\n",
    "\n",
    "#aucs_1.append(auc_1)\n",
    "plt.plot(recall1,precision1,label=f\"Transformer-40k (PR-AUC = {auc_1 :.3f})\")\n",
    "\n",
    "precision2, recall2,t2 = precision_recall_curve(y2, X2)\n",
    "auc_2 = average_precision_score(y2, X2)\n",
    "\n",
    "#aucs_1.append(auc_1)\n",
    "plt.plot(recall2,precision2,label=f\"SpliceAI-10k (PR-AUC = {auc_2 :.3f})\")\n",
    "\n",
    "\n",
    "plt.ylabel(\"Precision\")\n",
    "plt.xlabel(\"Recall\")\n",
    "print(np.sum(y2==0),np.sum(y2==1))\n",
    "plt.legend()\n",
    "plt.savefig('../Results/mafs_prc.png',dpi=300,bbox_inches='tight')\n",
    "plt.show()"
   ]
  },
  {
   "cell_type": "code",
   "execution_count": 38,
   "metadata": {
    "scrolled": true
   },
   "outputs": [
    {
     "name": "stdout",
     "output_type": "stream",
     "text": [
      "10910 559\n"
     ]
    },
    {
     "data": {
      "image/png": "[encoded data removed]",
      "text/plain": [
       "<Figure size 432x288 with 1 Axes>"
      ]
     },
     "metadata": {
      "needs_background": "light"
     },
     "output_type": "display_data"
    }
   ],
   "source": [
    "tmp = results[results['label'].isin(['upstr_intron','downstr_intron'])]\n",
    "tmp = tmp[['is_sdv','top_d_disruption_delta_y','top_a_disruption_delta_y','top_d_disruption_delta_x','top_a_disruption_delta_x','top_d_disruption_delta_x','top_a_disruption_delta_x']].dropna()\n",
    "X1,y1 = tmp[['top_d_disruption_delta_y','top_a_disruption_delta_y']].max(axis=1),tmp['is_sdv'].astype(int)\n",
    "X2,y2 = tmp[['top_d_disruption_delta_x','top_a_disruption_delta_x']].max(axis=1),tmp['is_sdv'].astype(int)\n",
    "\n",
    "precision1, recall1,t1 = precision_recall_curve(y1, X1)\n",
    "auc_1 = average_precision_score(y1, X1)\n",
    "\n",
    "#aucs_1.append(auc_1)\n",
    "plt.plot(recall1,precision1,label=f\"Transformer-40k (PR-AUC = {auc_1 :.3f})\")\n",
    "\n",
    "precision2, recall2,t2 = precision_recall_curve(y2, X2)\n",
    "auc_2 = average_precision_score(y2, X2)\n",
    "\n",
    "#aucs_1.append(auc_1)\n",
    "plt.plot(recall2,precision2,label=f\"SpliceAI-10k (PR-AUC = {auc_2 :.3f})\")\n",
    "\n",
    "\n",
    "plt.ylabel(\"Precision\")\n",
    "plt.xlabel(\"Recall\")\n",
    "print(np.sum(y2==0),np.sum(y2==1))\n",
    "plt.legend()\n",
    "plt.savefig('../Results/mafs_prc_intronic.png',dpi=300,bbox_inches='tight')\n",
    "plt.show()"
   ]
  },
  {
   "cell_type": "code",
   "execution_count": 39,
   "metadata": {},
   "outputs": [
    {
     "name": "stdout",
     "output_type": "stream",
     "text": [
      "11367 488\n"
     ]
    },
    {
     "data": {
      "image/png": "[encoded data removed]",
      "text/plain": [
       "<Figure size 432x288 with 1 Axes>"
      ]
     },
     "metadata": {
      "needs_background": "light"
     },
     "output_type": "display_data"
    }
   ],
   "source": [
    "tmp = results[results['label'].isin(['exon'])]\n",
    "tmp = tmp[['is_sdv','top_d_disruption_delta_y','top_a_disruption_delta_y','top_d_disruption_delta_x','top_a_disruption_delta_x','top_d_disruption_delta_x','top_a_disruption_delta_x']].dropna()\n",
    "X1,y1 = tmp[['top_d_disruption_delta_y','top_a_disruption_delta_y']].max(axis=1),tmp['is_sdv'].astype(int)\n",
    "X2,y2 = tmp[['top_d_disruption_delta_x','top_a_disruption_delta_x']].max(axis=1),tmp['is_sdv'].astype(int)\n",
    "\n",
    "precision1, recall1,t1 = precision_recall_curve(y1, X1)\n",
    "auc_1 = average_precision_score(y1, X1)\n",
    "\n",
    "#aucs_1.append(auc_1)\n",
    "plt.plot(recall1,precision1,label=f\"Transformer-40k (PR-AUC = {auc_1 :.3f})\")\n",
    "\n",
    "precision2, recall2,t2 = precision_recall_curve(y2, X2)\n",
    "auc_2 = average_precision_score(y2, X2)\n",
    "\n",
    "#aucs_1.append(auc_1)\n",
    "plt.plot(recall2,precision2,label=f\"SpliceAI-10k (PR-AUC = {auc_2 :.3f})\")\n",
    "\n",
    "\n",
    "plt.ylabel(\"Precision\")\n",
    "plt.xlabel(\"Recall\")\n",
    "print(np.sum(y2==0),np.sum(y2==1))\n",
    "plt.legend()\n",
    "plt.savefig('../Results/mafs_prc_exonic.png',dpi=300,bbox_inches='tight')\n",
    "plt.show()"
   ]
  },
  {
   "cell_type": "code",
   "execution_count": null,
   "metadata": {},
   "outputs": [],
   "source": []
  }
 ],
 "metadata": {
  "kernelspec": {
   "display_name": "Python 3 (ipykernel)",
   "language": "python",
   "name": "python3"
  },
  "language_info": {
   "codemirror_mode": {
    "name": "ipython",
    "version": 3
   },
   "file_extension": ".py",
   "mimetype": "text/x-python",
   "name": "python",
   "nbconvert_exporter": "python",
   "pygments_lexer": "ipython3",
   "version": "3.8.10"
  }
 },
 "nbformat": 4,
 "nbformat_minor": 4
}
