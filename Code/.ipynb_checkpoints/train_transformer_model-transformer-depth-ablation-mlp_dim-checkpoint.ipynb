{
 "cells": [
  {
   "cell_type": "code",
   "execution_count": 1,
   "metadata": {},
   "outputs": [],
   "source": [
    "import numpy as np\n",
    "import sys\n",
    "import time\n",
    "import h5py\n",
    "from tqdm import tqdm\n",
    "\n",
    "import numpy as np\n",
    "import re\n",
    "from math import ceil\n",
    "from sklearn.metrics import average_precision_score\n",
    "from torch.utils.data import Dataset\n",
    "import torch\n",
    "import torch.nn as nn\n",
    "import pandas as pd\n",
    "import matplotlib.pyplot as plt\n",
    "import pickle\n",
    "#import pickle5 as pickle\n",
    "\n",
    "from sklearn.model_selection import train_test_split\n",
    "\n",
    "from scipy.sparse import load_npz\n",
    "from glob import glob\n",
    "\n",
    "from transformers import get_constant_schedule_with_warmup\n",
    "from sklearn.metrics import precision_score,recall_score,accuracy_score\n",
    "import copy\n",
    "\n",
    "from src.train import trainModel\n",
    "from src.dataloader import getData,spliceDataset,h5pyDataset,collate_fn\n",
    "from src.weight_init import keras_init\n",
    "from src.losses import categorical_crossentropy_2d\n",
    "from src.models import SpliceFormer\n",
    "from src.evaluation_metrics import print_topl_statistics\n",
    "#import tensorflow as tf"
   ]
  },
  {
   "cell_type": "code",
   "execution_count": 2,
   "metadata": {},
   "outputs": [
    {
     "name": "stdout",
     "output_type": "stream",
     "text": [
      "Wed Jun 15 11:11:27 2022       \n",
      "+-----------------------------------------------------------------------------+\n",
      "| NVIDIA-SMI 450.80.02    Driver Version: 450.80.02    CUDA Version: 11.4     |\n",
      "|-------------------------------+----------------------+----------------------+\n",
      "| GPU  Name        Persistence-M| Bus-Id        Disp.A | Volatile Uncorr. ECC |\n",
      "| Fan  Temp  Perf  Pwr:Usage/Cap|         Memory-Usage | GPU-Util  Compute M. |\n",
      "|                               |                      |               MIG M. |\n",
      "|===============================+======================+======================|\n",
      "|   0  Tesla V100-SXM2...  On   | 00000000:06:00.0 Off |                    0 |\n",
      "| N/A   34C    P0    54W / 300W |      0MiB / 32510MiB |      0%      Default |\n",
      "|                               |                      |                  N/A |\n",
      "+-------------------------------+----------------------+----------------------+\n",
      "|   1  Tesla V100-SXM2...  On   | 00000000:07:00.0 Off |                    0 |\n",
      "| N/A   38C    P0    58W / 300W |      0MiB / 32510MiB |      0%      Default |\n",
      "|                               |                      |                  N/A |\n",
      "+-------------------------------+----------------------+----------------------+\n",
      "|   2  Tesla V100-SXM2...  On   | 00000000:0A:00.0 Off |                    0 |\n",
      "| N/A   39C    P0    64W / 300W |      0MiB / 32510MiB |      0%      Default |\n",
      "|                               |                      |                  N/A |\n",
      "+-------------------------------+----------------------+----------------------+\n",
      "|   3  Tesla V100-SXM2...  On   | 00000000:0B:00.0 Off |                    0 |\n",
      "| N/A   37C    P0    62W / 300W |      0MiB / 32510MiB |      0%      Default |\n",
      "|                               |                      |                  N/A |\n",
      "+-------------------------------+----------------------+----------------------+\n",
      "|   4  Tesla V100-SXM2...  On   | 00000000:85:00.0 Off |                    0 |\n",
      "| N/A   38C    P0    66W / 300W |      0MiB / 32510MiB |      0%      Default |\n",
      "|                               |                      |                  N/A |\n",
      "+-------------------------------+----------------------+----------------------+\n",
      "|   5  Tesla V100-SXM2...  On   | 00000000:86:00.0 Off |                    0 |\n",
      "| N/A   39C    P0    66W / 300W |      0MiB / 32510MiB |      0%      Default |\n",
      "|                               |                      |                  N/A |\n",
      "+-------------------------------+----------------------+----------------------+\n",
      "|   6  Tesla V100-SXM2...  On   | 00000000:89:00.0 Off |                    0 |\n",
      "| N/A   41C    P0    70W / 300W |      0MiB / 32510MiB |      0%      Default |\n",
      "|                               |                      |                  N/A |\n",
      "+-------------------------------+----------------------+----------------------+\n",
      "|   7  Tesla V100-SXM2...  On   | 00000000:8A:00.0 Off |                    0 |\n",
      "| N/A   38C    P0    70W / 300W |      0MiB / 32510MiB |      0%      Default |\n",
      "|                               |                      |                  N/A |\n",
      "+-------------------------------+----------------------+----------------------+\n",
      "                                                                               \n",
      "+-----------------------------------------------------------------------------+\n",
      "| Processes:                                                                  |\n",
      "|  GPU   GI   CI        PID   Type   Process name                  GPU Memory |\n",
      "|        ID   ID                                                   Usage      |\n",
      "|=============================================================================|\n",
      "|  No running processes found                                                 |\n",
      "+-----------------------------------------------------------------------------+\n"
     ]
    }
   ],
   "source": [
    "!nvidia-smi"
   ]
  },
  {
   "cell_type": "code",
   "execution_count": 3,
   "metadata": {},
   "outputs": [],
   "source": [
    "#!pip install pickle5"
   ]
  },
  {
   "cell_type": "code",
   "execution_count": 4,
   "metadata": {},
   "outputs": [],
   "source": [
    "rng = np.random.default_rng(23673)"
   ]
  },
  {
   "cell_type": "code",
   "execution_count": 5,
   "metadata": {},
   "outputs": [],
   "source": [
    "#gtf = None"
   ]
  },
  {
   "cell_type": "code",
   "execution_count": 6,
   "metadata": {},
   "outputs": [],
   "source": [
    "L = 32\n",
    "N_GPUS = 8\n",
    "k = 1\n",
    "# Hyper-parameters:\n",
    "# L: Number of convolution kernels\n",
    "# W: Convolution window size in each residual unit\n",
    "# AR: Atrous rate in each residual unit\n",
    "\n",
    "W = np.asarray([11, 11, 11, 11, 11, 11, 11, 11,\n",
    "                21, 21, 21, 21, 41, 41, 41, 41])\n",
    "AR = np.asarray([1, 1, 1, 1, 4, 4, 4, 4,\n",
    "                 10, 10, 10, 10, 25, 25, 25, 25])\n",
    "BATCH_SIZE = k*6*N_GPUS\n",
    "\n",
    "\n",
    "CL = 2 * np.sum(AR*(W-1))"
   ]
  },
  {
   "cell_type": "code",
   "execution_count": 7,
   "metadata": {},
   "outputs": [],
   "source": [
    "data_dir = '/odinn/tmp/benediktj/Data/SplicePrediction-050422'\n",
    "setType = 'train'\n",
    "annotation, transcriptToLabel, seqData = getData(data_dir, setType)"
   ]
  },
  {
   "cell_type": "code",
   "execution_count": 8,
   "metadata": {},
   "outputs": [],
   "source": [
    "# Maximum nucleotide context length (CL_max/2 on either side of the \n",
    "# position of interest)\n",
    "# CL_max should be an even number\n",
    "# Sequence length of SpliceAIs (SL+CL will be the input length and\n",
    "# SL will be the output length)\n",
    "\n",
    "SL=5000\n",
    "CL_max=40000"
   ]
  },
  {
   "cell_type": "code",
   "execution_count": 9,
   "metadata": {},
   "outputs": [],
   "source": [
    "assert CL_max % 2 == 0"
   ]
  },
  {
   "cell_type": "code",
   "execution_count": 10,
   "metadata": {},
   "outputs": [],
   "source": [
    "train_gene, validation_gene = train_test_split(annotation['gene'].drop_duplicates(),test_size=.1,random_state=435)\n",
    "annotation_train = annotation[annotation['gene'].isin(train_gene)]\n",
    "annotation_validation = annotation[annotation['gene'].isin(validation_gene)]"
   ]
  },
  {
   "cell_type": "code",
   "execution_count": 11,
   "metadata": {},
   "outputs": [],
   "source": [
    "train_dataset = spliceDataset(annotation_train,transcriptToLabel,SL,CL_max)\n",
    "val_dataset = spliceDataset(annotation_validation,transcriptToLabel,SL,CL_max)\n",
    "train_dataset.seqData = seqData\n",
    "val_dataset.seqData = seqData\n",
    "\n",
    "train_loader = torch.utils.data.DataLoader(train_dataset, batch_size=k*100, shuffle=True, num_workers=16,collate_fn=collate_fn, pin_memory=True)\n",
    "val_loader = torch.utils.data.DataLoader(val_dataset, batch_size=k*100, shuffle=False,collate_fn=collate_fn, num_workers=16)"
   ]
  },
  {
   "cell_type": "code",
   "execution_count": 12,
   "metadata": {
    "scrolled": true
   },
   "outputs": [
    {
     "name": "stderr",
     "output_type": "stream",
     "text": [
      "Epoch (train) 1/10: 100%|██████████████████████████████████████████████████████| 202/202 [26:42<00:00,  7.93s/it, accepor_recall=0.858, donor_recall=0.879, loss=0.000196, pred_l1_dist=0]\n"
     ]
    },
    {
     "name": "stdout",
     "output_type": "stream",
     "text": [
      "epoch: 1/10, train loss = 0.007607\n"
     ]
    },
    {
     "name": "stderr",
     "output_type": "stream",
     "text": [
      "Epoch (val) 1/10: 100%|██████████████████████████████████████████████████████████| 23/23 [05:13<00:00, 13.62s/it, accepor_recall=0.902, donor_recall=0.934, loss=0.000451, pred_l1_dist=0]\n"
     ]
    },
    {
     "name": "stdout",
     "output_type": "stream",
     "text": [
      "\n",
      "\u001b[1mAcceptor:\u001b[0m\n",
      "0.9619\t0.859\t0.9667\t0.9853\t0.9082\t0.9613000154495239\t0.714900016784668\t0.08259999752044678\t0.010999999940395355\t21432\n",
      "\n",
      "\u001b[1mDonor:\u001b[0m\n",
      "0.9657\t0.8748\t0.9784\t0.9917\t0.9243\t0.987500011920929\t0.8263999819755554\t0.07680000364780426\t0.008500000461935997\t21432\n",
      "epoch: 1/10, val loss = 0.000364\n"
     ]
    },
    {
     "name": "stderr",
     "output_type": "stream",
     "text": [
      "Epoch (train) 2/10: 100%|██████████████████████████████████████████████████████| 202/202 [25:44<00:00,  7.64s/it, accepor_recall=0.895, donor_recall=0.904, loss=0.000196, pred_l1_dist=0]\n"
     ]
    },
    {
     "name": "stdout",
     "output_type": "stream",
     "text": [
      "epoch: 2/10, train loss = 0.000195\n"
     ]
    },
    {
     "name": "stderr",
     "output_type": "stream",
     "text": [
      "Epoch (val) 2/10: 100%|██████████████████████████████████████████████████████████| 23/23 [05:10<00:00, 13.48s/it, accepor_recall=0.899, donor_recall=0.882, loss=0.000297, pred_l1_dist=0]\n"
     ]
    },
    {
     "name": "stdout",
     "output_type": "stream",
     "text": [
      "\n",
      "\u001b[1mAcceptor:\u001b[0m\n",
      "0.9697\t0.8939\t0.9785\t0.9895\t0.9341\t0.973800003528595\t0.5706999897956848\t0.01640000008046627\t0.002400000113993883\t21432\n",
      "\n",
      "\u001b[1mDonor:\u001b[0m\n",
      "0.9716\t0.9023\t0.9857\t0.9939\t0.9422\t0.9611999988555908\t0.4377000033855438\t0.01119999960064888\t0.0017999999690800905\t21432\n",
      "epoch: 2/10, val loss = 0.000232\n"
     ]
    },
    {
     "name": "stderr",
     "output_type": "stream",
     "text": [
      "Epoch (train) 3/10: 100%|██████████████████████████████████████████████████████| 202/202 [26:17<00:00,  7.81s/it, accepor_recall=0.919, donor_recall=0.928, loss=0.000154, pred_l1_dist=0]\n"
     ]
    },
    {
     "name": "stdout",
     "output_type": "stream",
     "text": [
      "epoch: 3/10, train loss = 0.000166\n"
     ]
    },
    {
     "name": "stderr",
     "output_type": "stream",
     "text": [
      "Epoch (val) 3/10: 100%|██████████████████████████████████████████████████████████| 23/23 [05:17<00:00, 13.80s/it, accepor_recall=0.799, donor_recall=0.879, loss=0.000308, pred_l1_dist=0]\n"
     ]
    },
    {
     "name": "stdout",
     "output_type": "stream",
     "text": [
      "\n",
      "\u001b[1mAcceptor:\u001b[0m\n",
      "0.9726\t0.9083\t0.9832\t0.9903\t0.9428\t0.8716999888420105\t0.13179999589920044\t0.0015999999595806003\t0.0003000000142492354\t21432\n",
      "\n",
      "\u001b[1mDonor:\u001b[0m\n",
      "0.9702\t0.9141\t0.9888\t0.9946\t0.9469\t0.9452999830245972\t0.32359999418258667\t0.002899999963119626\t0.0005000000237487257\t21432\n",
      "epoch: 3/10, val loss = 0.000242\n"
     ]
    },
    {
     "name": "stderr",
     "output_type": "stream",
     "text": [
      "Epoch (train) 4/10: 100%|████████████████████████████████████████████████████████| 202/202 [26:34<00:00,  7.89s/it, accepor_recall=0.93, donor_recall=0.939, loss=0.00015, pred_l1_dist=0]\n"
     ]
    },
    {
     "name": "stdout",
     "output_type": "stream",
     "text": [
      "epoch: 4/10, train loss = 0.000148\n"
     ]
    },
    {
     "name": "stderr",
     "output_type": "stream",
     "text": [
      "Epoch (val) 4/10: 100%|██████████████████████████████████████████████████████████| 23/23 [04:25<00:00, 11.56s/it, accepor_recall=0.864, donor_recall=0.885, loss=0.000267, pred_l1_dist=0]\n"
     ]
    },
    {
     "name": "stdout",
     "output_type": "stream",
     "text": [
      "\n",
      "\u001b[1mAcceptor:\u001b[0m\n",
      "0.9756\t0.9154\t0.9864\t0.9924\t0.9495\t0.9388999938964844\t0.3091999888420105\t0.003599999938160181\t0.000699999975040555\t21432\n",
      "\n",
      "\u001b[1mDonor:\u001b[0m\n",
      "0.9742\t0.9178\t0.989\t0.9945\t0.9529\t0.9452000260353088\t0.34599998593330383\t0.0031999999191612005\t0.0006000000284984708\t21432\n",
      "epoch: 4/10, val loss = 0.000204\n"
     ]
    },
    {
     "name": "stderr",
     "output_type": "stream",
     "text": [
      "Epoch (train) 5/10: 100%|██████████████████████████████████████████████████████| 202/202 [26:14<00:00,  7.79s/it, accepor_recall=0.938, donor_recall=0.945, loss=0.000131, pred_l1_dist=0]\n"
     ]
    },
    {
     "name": "stdout",
     "output_type": "stream",
     "text": [
      "epoch: 5/10, train loss = 0.000134\n"
     ]
    },
    {
     "name": "stderr",
     "output_type": "stream",
     "text": [
      "Epoch (val) 5/10: 100%|██████████████████████████████████████████████████████████| 23/23 [04:48<00:00, 12.53s/it, accepor_recall=0.927, donor_recall=0.939, loss=0.000254, pred_l1_dist=0]\n"
     ]
    },
    {
     "name": "stdout",
     "output_type": "stream",
     "text": [
      "\n",
      "\u001b[1mAcceptor:\u001b[0m\n",
      "0.9778\t0.9208\t0.9875\t0.9924\t0.9522\t0.9857000112533569\t0.7160999774932861\t0.010700000450015068\t0.0020000000949949026\t21432\n",
      "\n",
      "\u001b[1mDonor:\u001b[0m\n",
      "0.9754\t0.9225\t0.9909\t0.995\t0.9556\t0.9836000204086304\t0.7156999707221985\t0.007499999832361937\t0.0010000000474974513\t21432\n",
      "epoch: 5/10, val loss = 0.000195\n"
     ]
    },
    {
     "name": "stderr",
     "output_type": "stream",
     "text": [
      "Epoch (train) 6/10: 100%|██████████████████████████████████████████████████████| 202/202 [26:31<00:00,  7.88s/it, accepor_recall=0.942, donor_recall=0.947, loss=0.000128, pred_l1_dist=0]\n"
     ]
    },
    {
     "name": "stdout",
     "output_type": "stream",
     "text": [
      "epoch: 6/10, train loss = 0.000124\n"
     ]
    },
    {
     "name": "stderr",
     "output_type": "stream",
     "text": [
      "Epoch (val) 6/10: 100%|██████████████████████████████████████████████████████████| 23/23 [05:28<00:00, 14.30s/it, accepor_recall=0.906, donor_recall=0.908, loss=0.000259, pred_l1_dist=0]\n"
     ]
    },
    {
     "name": "stdout",
     "output_type": "stream",
     "text": [
      "\n",
      "\u001b[1mAcceptor:\u001b[0m\n",
      "0.9749\t0.9168\t0.9869\t0.9931\t0.9498\t0.9815000295639038\t0.5997999906539917\t0.008899999782443047\t0.001500000013038516\t21432\n",
      "\n",
      "\u001b[1mDonor:\u001b[0m\n",
      "0.9739\t0.9204\t0.9903\t0.9956\t0.9528\t0.9710000157356262\t0.4903999865055084\t0.004100000020116568\t0.0006000000284984708\t21432\n",
      "epoch: 6/10, val loss = 0.000192\n"
     ]
    },
    {
     "name": "stderr",
     "output_type": "stream",
     "text": [
      "Epoch (train) 7/10: 100%|██████████████████████████████████████████████████████| 202/202 [26:37<00:00,  7.91s/it, accepor_recall=0.947, donor_recall=0.952, loss=0.000112, pred_l1_dist=0]\n"
     ]
    },
    {
     "name": "stdout",
     "output_type": "stream",
     "text": [
      "epoch: 7/10, train loss = 0.000117\n"
     ]
    },
    {
     "name": "stderr",
     "output_type": "stream",
     "text": [
      "Epoch (val) 7/10: 100%|██████████████████████████████████████████████████████████| 23/23 [04:50<00:00, 12.65s/it, accepor_recall=0.834, donor_recall=0.859, loss=0.000314, pred_l1_dist=0]\n"
     ]
    },
    {
     "name": "stdout",
     "output_type": "stream",
     "text": [
      "\n",
      "\u001b[1mAcceptor:\u001b[0m\n",
      "0.9739\t0.9108\t0.9807\t0.9885\t0.9451\t0.9211999773979187\t0.14190000295639038\t0.000699999975040555\t9.999999747378752e-05\t21432\n",
      "\n",
      "\u001b[1mDonor:\u001b[0m\n",
      "0.9743\t0.9212\t0.9878\t0.9931\t0.9539\t0.9434999823570251\t0.14900000393390656\t0.000699999975040555\t9.999999747378752e-05\t21432\n",
      "epoch: 7/10, val loss = 0.000252\n"
     ]
    },
    {
     "name": "stderr",
     "output_type": "stream",
     "text": [
      "Epoch (train) 8/10: 100%|███████████████████████████████████████████████████████| 202/202 [26:37<00:00,  7.91s/it, accepor_recall=0.964, donor_recall=0.966, loss=8.43e-5, pred_l1_dist=0]\n"
     ]
    },
    {
     "name": "stdout",
     "output_type": "stream",
     "text": [
      "epoch: 8/10, train loss = 0.000096\n"
     ]
    },
    {
     "name": "stderr",
     "output_type": "stream",
     "text": [
      "Epoch (val) 8/10: 100%|██████████████████████████████████████████████████████████| 23/23 [04:27<00:00, 11.64s/it, accepor_recall=0.923, donor_recall=0.921, loss=0.000234, pred_l1_dist=0]\n"
     ]
    },
    {
     "name": "stdout",
     "output_type": "stream",
     "text": [
      "\n",
      "\u001b[1mAcceptor:\u001b[0m\n",
      "0.9774\t0.9279\t0.9891\t0.9941\t0.9578\t0.9842000007629395\t0.5759000182151794\t0.0020000000949949026\t0.0003000000142492354\t21432\n",
      "\n",
      "\u001b[1mDonor:\u001b[0m\n",
      "0.9762\t0.932\t0.992\t0.9957\t0.9615\t0.9779999852180481\t0.44530001282691956\t0.00139999995008111\t0.00019999999494757503\t21432\n",
      "epoch: 8/10, val loss = 0.000174\n"
     ]
    },
    {
     "name": "stderr",
     "output_type": "stream",
     "text": [
      "Epoch (train) 9/10: 100%|███████████████████████████████████████████████████████| 202/202 [26:29<00:00,  7.87s/it, accepor_recall=0.968, donor_recall=0.973, loss=7.24e-5, pred_l1_dist=0]\n"
     ]
    },
    {
     "name": "stdout",
     "output_type": "stream",
     "text": [
      "epoch: 9/10, train loss = 0.000083\n"
     ]
    },
    {
     "name": "stderr",
     "output_type": "stream",
     "text": [
      "Epoch (val) 9/10: 100%|██████████████████████████████████████████████████████████| 23/23 [04:51<00:00, 12.67s/it, accepor_recall=0.912, donor_recall=0.924, loss=0.000239, pred_l1_dist=0]\n"
     ]
    },
    {
     "name": "stdout",
     "output_type": "stream",
     "text": [
      "\n",
      "\u001b[1mAcceptor:\u001b[0m\n",
      "0.9763\t0.9303\t0.9889\t0.993\t0.958\t0.9883000254631042\t0.46459999680519104\t0.0012000000569969416\t0.00019999999494757503\t21432\n",
      "\n",
      "\u001b[1mDonor:\u001b[0m\n",
      "0.9776\t0.9342\t0.9919\t0.9951\t0.9614\t0.9840999841690063\t0.4287000000476837\t0.000699999975040555\t9.999999747378752e-05\t21432\n",
      "epoch: 9/10, val loss = 0.000179\n"
     ]
    },
    {
     "name": "stderr",
     "output_type": "stream",
     "text": [
      "Epoch (train) 10/10: 100%|███████████████████████████████████████████████████████| 202/202 [26:19<00:00,  7.82s/it, accepor_recall=0.97, donor_recall=0.973, loss=8.89e-5, pred_l1_dist=0]\n"
     ]
    },
    {
     "name": "stdout",
     "output_type": "stream",
     "text": [
      "epoch: 10/10, train loss = 0.000074\n"
     ]
    },
    {
     "name": "stderr",
     "output_type": "stream",
     "text": [
      "Epoch (val) 10/10: 100%|██████████████████████████████████████████████████████████| 23/23 [04:29<00:00, 11.71s/it, accepor_recall=0.92, donor_recall=0.932, loss=0.000226, pred_l1_dist=0]\n"
     ]
    },
    {
     "name": "stdout",
     "output_type": "stream",
     "text": [
      "\n",
      "\u001b[1mAcceptor:\u001b[0m\n",
      "0.9744\t0.9298\t0.9897\t0.9932\t0.9565\t0.9724000096321106\t0.5019000172615051\t0.0015999999595806003\t0.0003000000142492354\t21432\n",
      "\n",
      "\u001b[1mDonor:\u001b[0m\n",
      "0.9764\t0.9346\t0.9917\t0.995\t0.9606\t0.972599983215332\t0.4893999993801117\t0.00139999995008111\t0.00019999999494757503\t21432\n",
      "epoch: 10/10, val loss = 0.000171\n"
     ]
    },
    {
     "data": {
      "image/png": "[encoded data removed]",
      "text/plain": [
       "<Figure size 432x288 with 1 Axes>"
      ]
     },
     "metadata": {
      "needs_background": "light"
     },
     "output_type": "display_data"
    },
    {
     "name": "stderr",
     "output_type": "stream",
     "text": [
      "Epoch (train) 1/10: 100%|██████████████████████████████████████████████████████| 202/202 [26:36<00:00,  7.90s/it, accepor_recall=0.867, donor_recall=0.889, loss=0.000241, pred_l1_dist=0]\n"
     ]
    },
    {
     "name": "stdout",
     "output_type": "stream",
     "text": [
      "epoch: 1/10, train loss = 0.007855\n"
     ]
    },
    {
     "name": "stderr",
     "output_type": "stream",
     "text": [
      "Epoch (val) 1/10: 100%|██████████████████████████████████████████████████████████| 23/23 [04:28<00:00, 11.69s/it, accepor_recall=0.896, donor_recall=0.921, loss=0.000425, pred_l1_dist=0]\n"
     ]
    },
    {
     "name": "stdout",
     "output_type": "stream",
     "text": [
      "\n",
      "\u001b[1mAcceptor:\u001b[0m\n",
      "0.9457\t0.846\t0.9652\t0.9846\t0.893\t0.9520999789237976\t0.7357000112533569\t0.06880000233650208\t0.007000000216066837\t21432\n",
      "\n",
      "\u001b[1mDonor:\u001b[0m\n",
      "0.9551\t0.8611\t0.974\t0.9907\t0.91\t0.9667999744415283\t0.7903000116348267\t0.06560000032186508\t0.006300000008195639\t21432\n",
      "epoch: 1/10, val loss = 0.000365\n"
     ]
    },
    {
     "name": "stderr",
     "output_type": "stream",
     "text": [
      "Epoch (train) 2/10: 100%|██████████████████████████████████████████████████████| 202/202 [26:56<00:00,  8.00s/it, accepor_recall=0.902, donor_recall=0.909, loss=0.000199, pred_l1_dist=0]\n"
     ]
    },
    {
     "name": "stdout",
     "output_type": "stream",
     "text": [
      "epoch: 2/10, train loss = 0.000197\n"
     ]
    },
    {
     "name": "stderr",
     "output_type": "stream",
     "text": [
      "Epoch (val) 2/10: 100%|██████████████████████████████████████████████████████████| 23/23 [04:28<00:00, 11.69s/it, accepor_recall=0.877, donor_recall=0.891, loss=0.000345, pred_l1_dist=0]\n"
     ]
    },
    {
     "name": "stdout",
     "output_type": "stream",
     "text": [
      "\n",
      "\u001b[1mAcceptor:\u001b[0m\n",
      "0.9707\t0.8825\t0.9784\t0.9891\t0.93\t0.9575999975204468\t0.5573999881744385\t0.012400000356137753\t0.0013000000035390258\t21432\n",
      "\n",
      "\u001b[1mDonor:\u001b[0m\n",
      "0.9666\t0.8848\t0.981\t0.9918\t0.9314\t0.9498999714851379\t0.5889999866485596\t0.021299999207258224\t0.002400000113993883\t21432\n",
      "epoch: 2/10, val loss = 0.000258\n"
     ]
    },
    {
     "name": "stderr",
     "output_type": "stream",
     "text": [
      "Epoch (train) 3/10: 100%|██████████████████████████████████████████████████████| 202/202 [26:04<00:00,  7.74s/it, accepor_recall=0.907, donor_recall=0.919, loss=0.000156, pred_l1_dist=0]\n"
     ]
    },
    {
     "name": "stdout",
     "output_type": "stream",
     "text": [
      "epoch: 3/10, train loss = 0.000168\n"
     ]
    },
    {
     "name": "stderr",
     "output_type": "stream",
     "text": [
      "Epoch (val) 3/10: 100%|██████████████████████████████████████████████████████████| 23/23 [04:30<00:00, 11.75s/it, accepor_recall=0.726, donor_recall=0.749, loss=0.000435, pred_l1_dist=0]\n"
     ]
    },
    {
     "name": "stdout",
     "output_type": "stream",
     "text": [
      "\n",
      "\u001b[1mAcceptor:\u001b[0m\n",
      "0.9678\t0.8642\t0.9683\t0.9847\t0.917\t0.8597999811172485\t0.12630000710487366\t0.004800000227987766\t0.0010000000474974513\t21432\n",
      "\n",
      "\u001b[1mDonor:\u001b[0m\n",
      "0.9662\t0.8682\t0.977\t0.9902\t0.9204\t0.9014999866485596\t0.12030000239610672\t0.003100000089034438\t0.0005000000237487257\t21432\n",
      "epoch: 3/10, val loss = 0.000348\n"
     ]
    },
    {
     "name": "stderr",
     "output_type": "stream",
     "text": [
      "Epoch (train) 4/10: 100%|███████████████████████████████████████████████████████| 202/202 [26:25<00:00,  7.85s/it, accepor_recall=0.922, donor_recall=0.933, loss=0.00014, pred_l1_dist=0]\n"
     ]
    },
    {
     "name": "stdout",
     "output_type": "stream",
     "text": [
      "epoch: 4/10, train loss = 0.000148\n"
     ]
    },
    {
     "name": "stderr",
     "output_type": "stream",
     "text": [
      "Epoch (val) 4/10: 100%|██████████████████████████████████████████████████████████| 23/23 [04:26<00:00, 11.59s/it, accepor_recall=0.862, donor_recall=0.865, loss=0.000293, pred_l1_dist=0]\n"
     ]
    },
    {
     "name": "stdout",
     "output_type": "stream",
     "text": [
      "\n",
      "\u001b[1mAcceptor:\u001b[0m\n",
      "0.9726\t0.9067\t0.9855\t0.992\t0.9453\t0.9765999913215637\t0.34540000557899475\t0.0034000000450760126\t0.0005000000237487257\t21432\n",
      "\n",
      "\u001b[1mDonor:\u001b[0m\n",
      "0.9698\t0.9125\t0.9884\t0.995\t0.9478\t0.9598000049591064\t0.321399986743927\t0.0026000000070780516\t0.0003000000142492354\t21432\n",
      "epoch: 4/10, val loss = 0.000217\n"
     ]
    },
    {
     "name": "stderr",
     "output_type": "stream",
     "text": [
      "Epoch (train) 5/10: 100%|██████████████████████████████████████████████████████| 202/202 [26:06<00:00,  7.75s/it, accepor_recall=0.934, donor_recall=0.943, loss=0.000133, pred_l1_dist=0]\n"
     ]
    },
    {
     "name": "stdout",
     "output_type": "stream",
     "text": [
      "epoch: 5/10, train loss = 0.000135\n"
     ]
    },
    {
     "name": "stderr",
     "output_type": "stream",
     "text": [
      "Epoch (val) 5/10: 100%|██████████████████████████████████████████████████████████| 23/23 [04:34<00:00, 11.95s/it, accepor_recall=0.887, donor_recall=0.902, loss=0.000286, pred_l1_dist=0]\n"
     ]
    },
    {
     "name": "stdout",
     "output_type": "stream",
     "text": [
      "\n",
      "\u001b[1mAcceptor:\u001b[0m\n",
      "0.9744\t0.9073\t0.9811\t0.9908\t0.9429\t0.9817000031471252\t0.34779998660087585\t0.00430000014603138\t0.0006000000284984708\t21432\n",
      "\n",
      "\u001b[1mDonor:\u001b[0m\n",
      "0.9736\t0.9125\t0.9871\t0.9932\t0.9487\t0.9757999777793884\t0.35850000381469727\t0.002400000113993883\t0.0003000000142492354\t21432\n",
      "epoch: 5/10, val loss = 0.000222\n"
     ]
    },
    {
     "name": "stderr",
     "output_type": "stream",
     "text": [
      "Epoch (train) 6/10: 100%|████████████████████████████████████████████████████████| 202/202 [26:15<00:00,  7.80s/it, accepor_recall=0.94, donor_recall=0.95, loss=0.000126, pred_l1_dist=0]\n"
     ]
    },
    {
     "name": "stdout",
     "output_type": "stream",
     "text": [
      "epoch: 6/10, train loss = 0.000126\n"
     ]
    },
    {
     "name": "stderr",
     "output_type": "stream",
     "text": [
      "Epoch (val) 6/10: 100%|███████████████████████████████████████████████████████████| 23/23 [04:28<00:00, 11.69s/it, accepor_recall=0.907, donor_recall=0.921, loss=0.00025, pred_l1_dist=0]\n"
     ]
    },
    {
     "name": "stdout",
     "output_type": "stream",
     "text": [
      "\n",
      "\u001b[1mAcceptor:\u001b[0m\n",
      "0.9764\t0.92\t0.9869\t0.9933\t0.9538\t0.9623000025749207\t0.5052000284194946\t0.008899999782443047\t0.0017999999690800905\t21432\n",
      "\n",
      "\u001b[1mDonor:\u001b[0m\n",
      "0.9739\t0.9224\t0.9902\t0.9951\t0.9541\t0.9758999943733215\t0.5684000253677368\t0.005799999926239252\t0.000699999975040555\t21432\n",
      "epoch: 6/10, val loss = 0.000185\n"
     ]
    },
    {
     "name": "stderr",
     "output_type": "stream",
     "text": [
      "Epoch (train) 7/10: 100%|██████████████████████████████████████████████████████| 202/202 [26:24<00:00,  7.85s/it, accepor_recall=0.945, donor_recall=0.949, loss=0.000125, pred_l1_dist=0]\n"
     ]
    },
    {
     "name": "stdout",
     "output_type": "stream",
     "text": [
      "epoch: 7/10, train loss = 0.000118\n"
     ]
    },
    {
     "name": "stderr",
     "output_type": "stream",
     "text": [
      "Epoch (val) 7/10: 100%|██████████████████████████████████████████████████████████| 23/23 [04:28<00:00, 11.66s/it, accepor_recall=0.906, donor_recall=0.928, loss=0.000256, pred_l1_dist=0]\n"
     ]
    },
    {
     "name": "stdout",
     "output_type": "stream",
     "text": [
      "\n",
      "\u001b[1mAcceptor:\u001b[0m\n",
      "0.977\t0.9232\t0.9855\t0.9916\t0.9521\t0.9754999876022339\t0.4767000079154968\t0.003599999938160181\t0.0006000000284984708\t21432\n",
      "\n",
      "\u001b[1mDonor:\u001b[0m\n",
      "0.9735\t0.9245\t0.9894\t0.9951\t0.9549\t0.9889000058174133\t0.5949000120162964\t0.0038999998942017555\t0.0006000000284984708\t21432\n",
      "epoch: 7/10, val loss = 0.000191\n"
     ]
    },
    {
     "name": "stderr",
     "output_type": "stream",
     "text": [
      "Epoch (train) 8/10: 100%|███████████████████████████████████████████████████████| 202/202 [26:05<00:00,  7.75s/it, accepor_recall=0.957, donor_recall=0.959, loss=9.58e-5, pred_l1_dist=0]\n"
     ]
    },
    {
     "name": "stdout",
     "output_type": "stream",
     "text": [
      "epoch: 8/10, train loss = 0.000097\n"
     ]
    },
    {
     "name": "stderr",
     "output_type": "stream",
     "text": [
      "Epoch (val) 8/10: 100%|██████████████████████████████████████████████████████████| 23/23 [04:28<00:00, 11.67s/it, accepor_recall=0.929, donor_recall=0.919, loss=0.000236, pred_l1_dist=0]\n"
     ]
    },
    {
     "name": "stdout",
     "output_type": "stream",
     "text": [
      "\n",
      "\u001b[1mAcceptor:\u001b[0m\n",
      "0.9792\t0.9303\t0.9886\t0.9934\t0.9585\t0.9830999970436096\t0.6693000197410583\t0.002400000113993883\t0.00039999998989515007\t21432\n",
      "\n",
      "\u001b[1mDonor:\u001b[0m\n",
      "0.978\t0.9323\t0.9913\t0.9959\t0.9621\t0.9797999858856201\t0.48750001192092896\t0.0010999999940395355\t9.999999747378752e-05\t21432\n",
      "epoch: 8/10, val loss = 0.000175\n"
     ]
    },
    {
     "name": "stderr",
     "output_type": "stream",
     "text": [
      "Epoch (train) 9/10: 100%|███████████████████████████████████████████████████████| 202/202 [26:02<00:00,  7.74s/it, accepor_recall=0.963, donor_recall=0.967, loss=8.87e-5, pred_l1_dist=0]\n"
     ]
    },
    {
     "name": "stdout",
     "output_type": "stream",
     "text": [
      "epoch: 9/10, train loss = 0.000084\n"
     ]
    },
    {
     "name": "stderr",
     "output_type": "stream",
     "text": [
      "Epoch (val) 9/10: 100%|██████████████████████████████████████████████████████████| 23/23 [04:26<00:00, 11.57s/it, accepor_recall=0.918, donor_recall=0.921, loss=0.000237, pred_l1_dist=0]\n"
     ]
    },
    {
     "name": "stdout",
     "output_type": "stream",
     "text": [
      "\n",
      "\u001b[1mAcceptor:\u001b[0m\n",
      "0.9772\t0.9297\t0.9878\t0.9938\t0.9568\t0.9843999743461609\t0.5684999823570251\t0.003100000089034438\t0.0006000000284984708\t21432\n",
      "\n",
      "\u001b[1mDonor:\u001b[0m\n",
      "0.9733\t0.9324\t0.9916\t0.9959\t0.9589\t0.9871000051498413\t0.5250999927520752\t0.002199999988079071\t0.0003000000142492354\t21432\n",
      "epoch: 9/10, val loss = 0.000174\n"
     ]
    },
    {
     "name": "stderr",
     "output_type": "stream",
     "text": [
      "Epoch (train) 10/10: 100%|██████████████████████████████████████████████████████| 202/202 [26:10<00:00,  7.77s/it, accepor_recall=0.963, donor_recall=0.968, loss=8.08e-5, pred_l1_dist=0]\n"
     ]
    },
    {
     "name": "stdout",
     "output_type": "stream",
     "text": [
      "epoch: 10/10, train loss = 0.000075\n"
     ]
    },
    {
     "name": "stderr",
     "output_type": "stream",
     "text": [
      "Epoch (val) 10/10: 100%|█████████████████████████████████████████████████████████| 23/23 [04:25<00:00, 11.54s/it, accepor_recall=0.921, donor_recall=0.926, loss=0.000231, pred_l1_dist=0]\n"
     ]
    },
    {
     "name": "stdout",
     "output_type": "stream",
     "text": [
      "\n",
      "\u001b[1mAcceptor:\u001b[0m\n",
      "0.9774\t0.9316\t0.9881\t0.9934\t0.9584\t0.9836999773979187\t0.5393999814987183\t0.002400000113993883\t0.00039999998989515007\t21432\n",
      "\n",
      "\u001b[1mDonor:\u001b[0m\n",
      "0.9781\t0.9355\t0.9912\t0.9958\t0.963\t0.9883999824523926\t0.49470001459121704\t0.0019000000320374966\t0.0003000000142492354\t21432\n",
      "epoch: 10/10, val loss = 0.000170\n"
     ]
    },
    {
     "data": {
      "image/png": "[encoded data removed]",
      "text/plain": [
       "<Figure size 432x288 with 1 Axes>"
      ]
     },
     "metadata": {
      "needs_background": "light"
     },
     "output_type": "display_data"
    },
    {
     "name": "stderr",
     "output_type": "stream",
     "text": [
      "Epoch (train) 1/10: 100%|██████████████████████████████████████████████████████| 202/202 [26:21<00:00,  7.83s/it, accepor_recall=0.867, donor_recall=0.886, loss=0.000229, pred_l1_dist=0]\n"
     ]
    },
    {
     "name": "stdout",
     "output_type": "stream",
     "text": [
      "epoch: 1/10, train loss = 0.007667\n"
     ]
    },
    {
     "name": "stderr",
     "output_type": "stream",
     "text": [
      "Epoch (val) 1/10: 100%|██████████████████████████████████████████████████████████| 23/23 [04:31<00:00, 11.79s/it, accepor_recall=0.881, donor_recall=0.907, loss=0.000344, pred_l1_dist=0]\n"
     ]
    },
    {
     "name": "stdout",
     "output_type": "stream",
     "text": [
      "\n",
      "\u001b[1mAcceptor:\u001b[0m\n",
      "0.9666\t0.8806\t0.9756\t0.9875\t0.9251\t0.9778000116348267\t0.5622000098228455\t0.008999999612569809\t0.0010000000474974513\t21432\n",
      "\n",
      "\u001b[1mDonor:\u001b[0m\n",
      "0.9658\t0.8894\t0.9811\t0.9909\t0.9313\t0.9746999740600586\t0.657800018787384\t0.014499999582767487\t0.002099999925121665\t21432\n",
      "epoch: 1/10, val loss = 0.000268\n"
     ]
    },
    {
     "name": "stderr",
     "output_type": "stream",
     "text": [
      "Epoch (train) 2/10: 100%|██████████████████████████████████████████████████████| 202/202 [26:06<00:00,  7.75s/it, accepor_recall=0.902, donor_recall=0.911, loss=0.000175, pred_l1_dist=0]\n"
     ]
    },
    {
     "name": "stdout",
     "output_type": "stream",
     "text": [
      "epoch: 2/10, train loss = 0.000197\n"
     ]
    },
    {
     "name": "stderr",
     "output_type": "stream",
     "text": [
      "Epoch (val) 2/10: 100%|███████████████████████████████████████████████████████████| 23/23 [04:28<00:00, 11.68s/it, accepor_recall=0.88, donor_recall=0.896, loss=0.000295, pred_l1_dist=0]\n"
     ]
    },
    {
     "name": "stdout",
     "output_type": "stream",
     "text": [
      "\n",
      "\u001b[1mAcceptor:\u001b[0m\n",
      "0.9727\t0.9004\t0.9808\t0.9904\t0.9408\t0.9758999943733215\t0.46149998903274536\t0.009800000116229057\t0.0013000000035390258\t21432\n",
      "\n",
      "\u001b[1mDonor:\u001b[0m\n",
      "0.9727\t0.9052\t0.9861\t0.9939\t0.9447\t0.9754999876022339\t0.508899986743927\t0.0071000000461936\t0.0007999999797903001\t21432\n",
      "epoch: 2/10, val loss = 0.000222\n"
     ]
    },
    {
     "name": "stderr",
     "output_type": "stream",
     "text": [
      "Epoch (train) 3/10: 100%|██████████████████████████████████████████████████████| 202/202 [26:16<00:00,  7.81s/it, accepor_recall=0.914, donor_recall=0.921, loss=0.000162, pred_l1_dist=0]\n"
     ]
    },
    {
     "name": "stdout",
     "output_type": "stream",
     "text": [
      "epoch: 3/10, train loss = 0.000168\n"
     ]
    },
    {
     "name": "stderr",
     "output_type": "stream",
     "text": [
      "Epoch (val) 3/10: 100%|██████████████████████████████████████████████████████████| 23/23 [04:26<00:00, 11.60s/it, accepor_recall=0.921, donor_recall=0.926, loss=0.000266, pred_l1_dist=0]\n"
     ]
    },
    {
     "name": "stdout",
     "output_type": "stream",
     "text": [
      "\n",
      "\u001b[1mAcceptor:\u001b[0m\n",
      "0.9739\t0.9128\t0.9845\t0.9927\t0.9475\t0.9706000089645386\t0.661899983882904\t0.0142000000923872\t0.0020000000949949026\t21432\n",
      "\n",
      "\u001b[1mDonor:\u001b[0m\n",
      "0.9726\t0.9143\t0.9889\t0.9949\t0.9493\t0.9751999974250793\t0.620199978351593\t0.004399999976158142\t0.00039999998989515007\t21432\n",
      "epoch: 3/10, val loss = 0.000206\n"
     ]
    },
    {
     "name": "stderr",
     "output_type": "stream",
     "text": [
      "Epoch (train) 4/10: 100%|███████████████████████████████████████████████████████| 202/202 [26:08<00:00,  7.77s/it, accepor_recall=0.921, donor_recall=0.93, loss=0.000162, pred_l1_dist=0]\n"
     ]
    },
    {
     "name": "stdout",
     "output_type": "stream",
     "text": [
      "epoch: 4/10, train loss = 0.000148\n"
     ]
    },
    {
     "name": "stderr",
     "output_type": "stream",
     "text": [
      "Epoch (val) 4/10: 100%|███████████████████████████████████████████████████████████| 23/23 [04:32<00:00, 11.86s/it, accepor_recall=0.84, donor_recall=0.802, loss=0.000342, pred_l1_dist=0]\n"
     ]
    },
    {
     "name": "stdout",
     "output_type": "stream",
     "text": [
      "\n",
      "\u001b[1mAcceptor:\u001b[0m\n",
      "0.9735\t0.8979\t0.9809\t0.9902\t0.9394\t0.9581999778747559\t0.24300000071525574\t0.004999999888241291\t0.0008999999845400453\t21432\n",
      "\n",
      "\u001b[1mDonor:\u001b[0m\n",
      "0.9728\t0.8966\t0.985\t0.9937\t0.9405\t0.9212999939918518\t0.16210000216960907\t0.004000000189989805\t0.0007999999797903001\t21432\n",
      "epoch: 4/10, val loss = 0.000256\n"
     ]
    },
    {
     "name": "stderr",
     "output_type": "stream",
     "text": [
      "Epoch (train) 5/10: 100%|███████████████████████████████████████████████████████| 202/202 [26:42<00:00,  7.93s/it, accepor_recall=0.934, donor_recall=0.94, loss=0.000119, pred_l1_dist=0]\n"
     ]
    },
    {
     "name": "stdout",
     "output_type": "stream",
     "text": [
      "epoch: 5/10, train loss = 0.000135\n"
     ]
    },
    {
     "name": "stderr",
     "output_type": "stream",
     "text": [
      "Epoch (val) 5/10: 100%|██████████████████████████████████████████████████████████| 23/23 [04:30<00:00, 11.77s/it, accepor_recall=0.911, donor_recall=0.921, loss=0.000258, pred_l1_dist=0]\n"
     ]
    },
    {
     "name": "stdout",
     "output_type": "stream",
     "text": [
      "\n",
      "\u001b[1mAcceptor:\u001b[0m\n",
      "0.9761\t0.914\t0.9864\t0.9928\t0.9511\t0.9695000052452087\t0.5001000165939331\t0.008299999870359898\t0.00139999995008111\t21432\n",
      "\n",
      "\u001b[1mDonor:\u001b[0m\n",
      "0.9736\t0.9204\t0.9903\t0.9952\t0.9548\t0.9783999919891357\t0.5263000130653381\t0.006399999838322401\t0.0010000000474974513\t21432\n",
      "epoch: 5/10, val loss = 0.000191\n"
     ]
    },
    {
     "name": "stderr",
     "output_type": "stream",
     "text": [
      "Epoch (train) 6/10: 100%|███████████████████████████████████████████████████████| 202/202 [26:36<00:00,  7.90s/it, accepor_recall=0.94, donor_recall=0.943, loss=0.000128, pred_l1_dist=0]\n"
     ]
    },
    {
     "name": "stdout",
     "output_type": "stream",
     "text": [
      "epoch: 6/10, train loss = 0.000124\n"
     ]
    },
    {
     "name": "stderr",
     "output_type": "stream",
     "text": [
      "Epoch (val) 6/10: 100%|██████████████████████████████████████████████████████████| 23/23 [05:17<00:00, 13.83s/it, accepor_recall=0.928, donor_recall=0.942, loss=0.000256, pred_l1_dist=0]\n"
     ]
    },
    {
     "name": "stdout",
     "output_type": "stream",
     "text": [
      "\n",
      "\u001b[1mAcceptor:\u001b[0m\n",
      "0.9763\t0.9205\t0.9866\t0.9918\t0.9532\t0.9763000011444092\t0.6607000231742859\t0.007600000128149986\t0.0012000000569969416\t21432\n",
      "\n",
      "\u001b[1mDonor:\u001b[0m\n",
      "0.9733\t0.926\t0.9903\t0.9952\t0.9561\t0.9782999753952026\t0.7160999774932861\t0.007400000002235174\t0.0012000000569969416\t21432\n",
      "epoch: 6/10, val loss = 0.000189\n"
     ]
    },
    {
     "name": "stderr",
     "output_type": "stream",
     "text": [
      "Epoch (train) 7/10: 100%|██████████████████████████████████████████████████████| 202/202 [26:37<00:00,  7.91s/it, accepor_recall=0.949, donor_recall=0.952, loss=0.000123, pred_l1_dist=0]\n"
     ]
    },
    {
     "name": "stdout",
     "output_type": "stream",
     "text": [
      "epoch: 7/10, train loss = 0.000117\n"
     ]
    },
    {
     "name": "stderr",
     "output_type": "stream",
     "text": [
      "Epoch (val) 7/10: 100%|██████████████████████████████████████████████████████████| 23/23 [04:24<00:00, 11.50s/it, accepor_recall=0.903, donor_recall=0.926, loss=0.000256, pred_l1_dist=0]\n"
     ]
    },
    {
     "name": "stdout",
     "output_type": "stream",
     "text": [
      "\n",
      "\u001b[1mAcceptor:\u001b[0m\n",
      "0.9754\t0.9212\t0.9871\t0.9923\t0.9529\t0.983299970626831\t0.41040000319480896\t0.0035000001080334187\t0.0006000000284984708\t21432\n",
      "\n",
      "\u001b[1mDonor:\u001b[0m\n",
      "0.9749\t0.9231\t0.991\t0.9948\t0.9556\t0.9912999868392944\t0.60589998960495\t0.004800000227987766\t0.0006000000284984708\t21432\n",
      "epoch: 7/10, val loss = 0.000192\n"
     ]
    },
    {
     "name": "stderr",
     "output_type": "stream",
     "text": [
      "Epoch (train) 8/10: 100%|███████████████████████████████████████████████████████| 202/202 [26:30<00:00,  7.87s/it, accepor_recall=0.958, donor_recall=0.964, loss=8.93e-5, pred_l1_dist=0]\n"
     ]
    },
    {
     "name": "stdout",
     "output_type": "stream",
     "text": [
      "epoch: 8/10, train loss = 0.000096\n"
     ]
    },
    {
     "name": "stderr",
     "output_type": "stream",
     "text": [
      "Epoch (val) 8/10: 100%|███████████████████████████████████████████████████████████| 23/23 [04:59<00:00, 13.04s/it, accepor_recall=0.918, donor_recall=0.927, loss=0.00024, pred_l1_dist=0]\n"
     ]
    },
    {
     "name": "stdout",
     "output_type": "stream",
     "text": [
      "\n",
      "\u001b[1mAcceptor:\u001b[0m\n",
      "0.9768\t0.9269\t0.9878\t0.9928\t0.9565\t0.9860000014305115\t0.49070000648498535\t0.0027000000700354576\t0.0005000000237487257\t21432\n",
      "\n",
      "\u001b[1mDonor:\u001b[0m\n",
      "0.9768\t0.9316\t0.9919\t0.9961\t0.9612\t0.9864000082015991\t0.5249999761581421\t0.0017999999690800905\t0.00019999999494757503\t21432\n",
      "epoch: 8/10, val loss = 0.000176\n"
     ]
    },
    {
     "name": "stderr",
     "output_type": "stream",
     "text": [
      "Epoch (train) 9/10: 100%|███████████████████████████████████████████████████████| 202/202 [26:51<00:00,  7.98s/it, accepor_recall=0.965, donor_recall=0.972, loss=7.75e-5, pred_l1_dist=0]\n"
     ]
    },
    {
     "name": "stdout",
     "output_type": "stream",
     "text": [
      "epoch: 9/10, train loss = 0.000082\n"
     ]
    },
    {
     "name": "stderr",
     "output_type": "stream",
     "text": [
      "Epoch (val) 9/10: 100%|██████████████████████████████████████████████████████████| 23/23 [05:11<00:00, 13.55s/it, accepor_recall=0.903, donor_recall=0.914, loss=0.000249, pred_l1_dist=0]\n"
     ]
    },
    {
     "name": "stdout",
     "output_type": "stream",
     "text": [
      "\n",
      "\u001b[1mAcceptor:\u001b[0m\n",
      "0.9767\t0.9256\t0.9874\t0.9926\t0.9557\t0.9836999773979187\t0.4032999873161316\t0.002199999988079071\t0.00039999998989515007\t21432\n",
      "\n",
      "\u001b[1mDonor:\u001b[0m\n",
      "0.9781\t0.9307\t0.9912\t0.9956\t0.9606\t0.982200026512146\t0.38370001316070557\t0.00139999995008111\t0.00019999999494757503\t21432\n",
      "epoch: 9/10, val loss = 0.000183\n"
     ]
    },
    {
     "name": "stderr",
     "output_type": "stream",
     "text": [
      "Epoch (train) 10/10: 100%|███████████████████████████████████████████████████████| 202/202 [26:19<00:00,  7.82s/it, accepor_recall=0.97, donor_recall=0.975, loss=6.84e-5, pred_l1_dist=0]\n"
     ]
    },
    {
     "name": "stdout",
     "output_type": "stream",
     "text": [
      "epoch: 10/10, train loss = 0.000073\n"
     ]
    },
    {
     "name": "stderr",
     "output_type": "stream",
     "text": [
      "Epoch (val) 10/10: 100%|█████████████████████████████████████████████████████████| 23/23 [04:25<00:00, 11.56s/it, accepor_recall=0.923, donor_recall=0.932, loss=0.000243, pred_l1_dist=0]\n"
     ]
    },
    {
     "name": "stdout",
     "output_type": "stream",
     "text": [
      "\n",
      "\u001b[1mAcceptor:\u001b[0m\n",
      "0.9765\t0.9303\t0.9881\t0.993\t0.9565\t0.9898999929428101\t0.5231000185012817\t0.00139999995008111\t0.00019999999494757503\t21432\n",
      "\n",
      "\u001b[1mDonor:\u001b[0m\n",
      "0.9775\t0.9346\t0.9918\t0.9954\t0.9611\t0.9908999800682068\t0.555400013923645\t0.0010999999940395355\t9.999999747378752e-05\t21432\n",
      "epoch: 10/10, val loss = 0.000178\n"
     ]
    },
    {
     "data": {
      "image/png": "[encoded data removed]",
      "text/plain": [
       "<Figure size 432x288 with 1 Axes>"
      ]
     },
     "metadata": {
      "needs_background": "light"
     },
     "output_type": "display_data"
    },
    {
     "name": "stderr",
     "output_type": "stream",
     "text": [
      "Epoch (train) 1/10: 100%|██████████████████████████████████████████████████████| 202/202 [26:13<00:00,  7.79s/it, accepor_recall=0.868, donor_recall=0.876, loss=0.000218, pred_l1_dist=0]\n"
     ]
    },
    {
     "name": "stdout",
     "output_type": "stream",
     "text": [
      "epoch: 1/10, train loss = 0.007889\n"
     ]
    },
    {
     "name": "stderr",
     "output_type": "stream",
     "text": [
      "Epoch (val) 1/10: 100%|███████████████████████████████████████████████████████████| 23/23 [04:27<00:00, 11.61s/it, accepor_recall=0.75, donor_recall=0.786, loss=0.000429, pred_l1_dist=0]\n"
     ]
    },
    {
     "name": "stdout",
     "output_type": "stream",
     "text": [
      "\n",
      "\u001b[1mAcceptor:\u001b[0m\n",
      "0.9646\t0.8688\t0.9697\t0.9854\t0.9183\t0.8970999717712402\t0.14920000731945038\t0.004900000058114529\t0.000699999975040555\t21432\n",
      "\n",
      "\u001b[1mDonor:\u001b[0m\n",
      "0.9636\t0.8564\t0.9682\t0.9847\t0.9099\t0.9276999831199646\t0.22390000522136688\t0.010300000198185444\t0.0019000000320374966\t21432\n",
      "epoch: 1/10, val loss = 0.000334\n"
     ]
    },
    {
     "name": "stderr",
     "output_type": "stream",
     "text": [
      "Epoch (train) 2/10: 100%|██████████████████████████████████████████████████████| 202/202 [26:29<00:00,  7.87s/it, accepor_recall=0.899, donor_recall=0.902, loss=0.000176, pred_l1_dist=0]\n"
     ]
    },
    {
     "name": "stdout",
     "output_type": "stream",
     "text": [
      "epoch: 2/10, train loss = 0.000197\n"
     ]
    },
    {
     "name": "stderr",
     "output_type": "stream",
     "text": [
      "Epoch (val) 2/10: 100%|██████████████████████████████████████████████████████████| 23/23 [04:29<00:00, 11.71s/it, accepor_recall=0.885, donor_recall=0.898, loss=0.000297, pred_l1_dist=0]\n"
     ]
    },
    {
     "name": "stdout",
     "output_type": "stream",
     "text": [
      "\n",
      "\u001b[1mAcceptor:\u001b[0m\n",
      "0.9727\t0.899\t0.9801\t0.9907\t0.9394\t0.9544000029563904\t0.4724999964237213\t0.011599999852478504\t0.0017000000225380063\t21432\n",
      "\n",
      "\u001b[1mDonor:\u001b[0m\n",
      "0.97\t0.9007\t0.9846\t0.9937\t0.9423\t0.9620000123977661\t0.5313000082969666\t0.01549999974668026\t0.0019000000320374966\t21432\n",
      "epoch: 2/10, val loss = 0.000229\n"
     ]
    },
    {
     "name": "stderr",
     "output_type": "stream",
     "text": [
      "Epoch (train) 3/10: 100%|███████████████████████████████████████████████████████| 202/202 [26:06<00:00,  7.76s/it, accepor_recall=0.923, donor_recall=0.926, loss=0.00014, pred_l1_dist=0]\n"
     ]
    },
    {
     "name": "stdout",
     "output_type": "stream",
     "text": [
      "epoch: 3/10, train loss = 0.000168\n"
     ]
    },
    {
     "name": "stderr",
     "output_type": "stream",
     "text": [
      "Epoch (val) 3/10: 100%|█████████████████████████████████████████████████████████████| 23/23 [04:26<00:00, 11.60s/it, accepor_recall=0.9, donor_recall=0.905, loss=0.00028, pred_l1_dist=0]\n"
     ]
    },
    {
     "name": "stdout",
     "output_type": "stream",
     "text": [
      "\n",
      "\u001b[1mAcceptor:\u001b[0m\n",
      "0.9717\t0.9065\t0.9832\t0.9911\t0.9426\t0.9761999845504761\t0.5015000104904175\t0.006099999882280827\t0.0007999999797903001\t21432\n",
      "\n",
      "\u001b[1mDonor:\u001b[0m\n",
      "0.9696\t0.9088\t0.9887\t0.9947\t0.9454\t0.9812999963760376\t0.5004000067710876\t0.003700000001117587\t0.00039999998989515007\t21432\n",
      "epoch: 3/10, val loss = 0.000217\n"
     ]
    },
    {
     "name": "stderr",
     "output_type": "stream",
     "text": [
      "Epoch (train) 4/10: 100%|██████████████████████████████████████████████████████| 202/202 [26:09<00:00,  7.77s/it, accepor_recall=0.928, donor_recall=0.932, loss=0.000147, pred_l1_dist=0]\n"
     ]
    },
    {
     "name": "stdout",
     "output_type": "stream",
     "text": [
      "epoch: 4/10, train loss = 0.000148\n"
     ]
    },
    {
     "name": "stderr",
     "output_type": "stream",
     "text": [
      "Epoch (val) 4/10: 100%|██████████████████████████████████████████████████████████| 23/23 [04:29<00:00, 11.70s/it, accepor_recall=0.891, donor_recall=0.892, loss=0.000264, pred_l1_dist=0]\n"
     ]
    },
    {
     "name": "stdout",
     "output_type": "stream",
     "text": [
      "\n",
      "\u001b[1mAcceptor:\u001b[0m\n",
      "0.974\t0.9155\t0.9858\t0.9922\t0.9492\t0.9750000238418579\t0.4406999945640564\t0.0052999998442828655\t0.0007999999797903001\t21432\n",
      "\n",
      "\u001b[1mDonor:\u001b[0m\n",
      "0.9712\t0.9165\t0.9889\t0.9944\t0.9502\t0.9674000144004822\t0.3977000117301941\t0.003700000001117587\t0.0005000000237487257\t21432\n",
      "epoch: 4/10, val loss = 0.000200\n"
     ]
    },
    {
     "name": "stderr",
     "output_type": "stream",
     "text": [
      "Epoch (train) 5/10: 100%|███████████████████████████████████████████████████████| 202/202 [26:53<00:00,  7.99s/it, accepor_recall=0.938, donor_recall=0.94, loss=0.000141, pred_l1_dist=0]\n"
     ]
    },
    {
     "name": "stdout",
     "output_type": "stream",
     "text": [
      "epoch: 5/10, train loss = 0.000135\n"
     ]
    },
    {
     "name": "stderr",
     "output_type": "stream",
     "text": [
      "Epoch (val) 5/10: 100%|███████████████████████████████████████████████████████████| 23/23 [04:27<00:00, 11.65s/it, accepor_recall=0.917, donor_recall=0.93, loss=0.000274, pred_l1_dist=0]\n"
     ]
    },
    {
     "name": "stdout",
     "output_type": "stream",
     "text": [
      "\n",
      "\u001b[1mAcceptor:\u001b[0m\n",
      "0.9696\t0.9064\t0.9846\t0.9923\t0.9435\t0.9581000208854675\t0.6015999913215637\t0.010700000450015068\t0.0019000000320374966\t21432\n",
      "\n",
      "\u001b[1mDonor:\u001b[0m\n",
      "0.9662\t0.9087\t0.9891\t0.9957\t0.9436\t0.9413999915122986\t0.6287000179290771\t0.013000000268220901\t0.0015999999595806003\t21432\n",
      "epoch: 5/10, val loss = 0.000211\n"
     ]
    },
    {
     "name": "stderr",
     "output_type": "stream",
     "text": [
      "Epoch (train) 6/10: 100%|██████████████████████████████████████████████████████| 202/202 [26:30<00:00,  7.88s/it, accepor_recall=0.946, donor_recall=0.953, loss=0.000116, pred_l1_dist=0]\n"
     ]
    },
    {
     "name": "stdout",
     "output_type": "stream",
     "text": [
      "epoch: 6/10, train loss = 0.000125\n"
     ]
    },
    {
     "name": "stderr",
     "output_type": "stream",
     "text": [
      "Epoch (val) 6/10: 100%|████████████████████████████████████████████████████████████| 23/23 [04:29<00:00, 11.71s/it, accepor_recall=0.9, donor_recall=0.887, loss=0.000262, pred_l1_dist=0]\n"
     ]
    },
    {
     "name": "stdout",
     "output_type": "stream",
     "text": [
      "\n",
      "\u001b[1mAcceptor:\u001b[0m\n",
      "0.9722\t0.9197\t0.9864\t0.9924\t0.9492\t0.9739000201225281\t0.3172000050544739\t0.003100000089034438\t0.0006000000284984708\t21432\n",
      "\n",
      "\u001b[1mDonor:\u001b[0m\n",
      "0.9767\t0.9247\t0.9894\t0.9943\t0.955\t0.9625999927520752\t0.22579999268054962\t0.0012000000569969416\t0.00019999999494757503\t21432\n",
      "epoch: 6/10, val loss = 0.000202\n"
     ]
    },
    {
     "name": "stderr",
     "output_type": "stream",
     "text": [
      "Epoch (train) 7/10: 100%|███████████████████████████████████████████████████████| 202/202 [26:33<00:00,  7.89s/it, accepor_recall=0.949, donor_recall=0.948, loss=0.00011, pred_l1_dist=0]\n"
     ]
    },
    {
     "name": "stdout",
     "output_type": "stream",
     "text": [
      "epoch: 7/10, train loss = 0.000118\n"
     ]
    },
    {
     "name": "stderr",
     "output_type": "stream",
     "text": [
      "Epoch (val) 7/10: 100%|██████████████████████████████████████████████████████████| 23/23 [04:27<00:00, 11.63s/it, accepor_recall=0.902, donor_recall=0.879, loss=0.000261, pred_l1_dist=0]\n"
     ]
    },
    {
     "name": "stdout",
     "output_type": "stream",
     "text": [
      "\n",
      "\u001b[1mAcceptor:\u001b[0m\n",
      "0.976\t0.9224\t0.9878\t0.9931\t0.9535\t0.988099992275238\t0.36070001125335693\t0.001500000013038516\t0.0003000000142492354\t21432\n",
      "\n",
      "\u001b[1mDonor:\u001b[0m\n",
      "0.9757\t0.9231\t0.9901\t0.9951\t0.955\t0.9750000238418579\t0.23330000042915344\t0.0017999999690800905\t0.0003000000142492354\t21432\n",
      "epoch: 7/10, val loss = 0.000202\n"
     ]
    },
    {
     "name": "stderr",
     "output_type": "stream",
     "text": [
      "Epoch (train) 8/10: 100%|████████████████████████████████████████████████████████| 202/202 [26:33<00:00,  7.89s/it, accepor_recall=0.955, donor_recall=0.959, loss=9.1e-5, pred_l1_dist=0]\n"
     ]
    },
    {
     "name": "stdout",
     "output_type": "stream",
     "text": [
      "epoch: 8/10, train loss = 0.000097\n"
     ]
    },
    {
     "name": "stderr",
     "output_type": "stream",
     "text": [
      "Epoch (val) 8/10: 100%|██████████████████████████████████████████████████████████| 23/23 [04:27<00:00, 11.61s/it, accepor_recall=0.918, donor_recall=0.939, loss=0.000232, pred_l1_dist=0]\n"
     ]
    },
    {
     "name": "stdout",
     "output_type": "stream",
     "text": [
      "\n",
      "\u001b[1mAcceptor:\u001b[0m\n",
      "0.9775\t0.9274\t0.9889\t0.9943\t0.9572\t0.9728999733924866\t0.503000020980835\t0.004000000189989805\t0.000699999975040555\t21432\n",
      "\n",
      "\u001b[1mDonor:\u001b[0m\n",
      "0.9753\t0.9312\t0.9919\t0.9958\t0.9594\t0.9835000038146973\t0.579800009727478\t0.0026000000070780516\t0.00039999998989515007\t21432\n",
      "epoch: 8/10, val loss = 0.000173\n"
     ]
    },
    {
     "name": "stderr",
     "output_type": "stream",
     "text": [
      "Epoch (train) 9/10: 100%|███████████████████████████████████████████████████████| 202/202 [26:16<00:00,  7.80s/it, accepor_recall=0.964, donor_recall=0.969, loss=7.65e-5, pred_l1_dist=0]\n"
     ]
    },
    {
     "name": "stdout",
     "output_type": "stream",
     "text": [
      "epoch: 9/10, train loss = 0.000083\n"
     ]
    },
    {
     "name": "stderr",
     "output_type": "stream",
     "text": [
      "Epoch (val) 9/10: 100%|███████████████████████████████████████████████████████████| 23/23 [04:32<00:00, 11.83s/it, accepor_recall=0.92, donor_recall=0.929, loss=0.000228, pred_l1_dist=0]\n"
     ]
    },
    {
     "name": "stdout",
     "output_type": "stream",
     "text": [
      "\n",
      "\u001b[1mAcceptor:\u001b[0m\n",
      "0.9758\t0.931\t0.9896\t0.9945\t0.9584\t0.9815000295639038\t0.47099998593330383\t0.0017000000225380063\t0.0003000000142492354\t21432\n",
      "\n",
      "\u001b[1mDonor:\u001b[0m\n",
      "0.9753\t0.9331\t0.9922\t0.9956\t0.9606\t0.9829999804496765\t0.48489999771118164\t0.0020000000949949026\t0.0003000000142492354\t21432\n",
      "epoch: 9/10, val loss = 0.000172\n"
     ]
    },
    {
     "name": "stderr",
     "output_type": "stream",
     "text": [
      "Epoch (train) 10/10: 100%|██████████████████████████████████████████████████████| 202/202 [26:13<00:00,  7.79s/it, accepor_recall=0.965, donor_recall=0.969, loss=7.13e-5, pred_l1_dist=0]\n"
     ]
    },
    {
     "name": "stdout",
     "output_type": "stream",
     "text": [
      "epoch: 10/10, train loss = 0.000073\n"
     ]
    },
    {
     "name": "stderr",
     "output_type": "stream",
     "text": [
      "Epoch (val) 10/10: 100%|█████████████████████████████████████████████████████████| 23/23 [05:08<00:00, 13.42s/it, accepor_recall=0.927, donor_recall=0.935, loss=0.000231, pred_l1_dist=0]\n"
     ]
    },
    {
     "name": "stdout",
     "output_type": "stream",
     "text": [
      "\n",
      "\u001b[1mAcceptor:\u001b[0m\n",
      "0.9742\t0.9317\t0.9892\t0.9938\t0.9577\t0.984000027179718\t0.5059000253677368\t0.0017999999690800905\t0.0003000000142492354\t21432\n",
      "\n",
      "\u001b[1mDonor:\u001b[0m\n",
      "0.9776\t0.9342\t0.9912\t0.9956\t0.9606\t0.9851999878883362\t0.5389999747276306\t0.0020000000949949026\t0.0003000000142492354\t21432\n",
      "epoch: 10/10, val loss = 0.000173\n"
     ]
    },
    {
     "data": {
      "image/png": "[encoded data removed]",
      "text/plain": [
       "<Figure size 432x288 with 1 Axes>"
      ]
     },
     "metadata": {
      "needs_background": "light"
     },
     "output_type": "display_data"
    },
    {
     "name": "stderr",
     "output_type": "stream",
     "text": [
      "Epoch (train) 1/10: 100%|██████████████████████████████████████████████████████| 202/202 [26:29<00:00,  7.87s/it, accepor_recall=0.848, donor_recall=0.865, loss=0.000244, pred_l1_dist=0]\n"
     ]
    },
    {
     "name": "stdout",
     "output_type": "stream",
     "text": [
      "epoch: 1/10, train loss = 0.007488\n"
     ]
    },
    {
     "name": "stderr",
     "output_type": "stream",
     "text": [
      "Epoch (val) 1/10: 100%|██████████████████████████████████████████████████████████| 23/23 [04:30<00:00, 11.75s/it, accepor_recall=0.832, donor_recall=0.846, loss=0.000412, pred_l1_dist=0]\n"
     ]
    },
    {
     "name": "stdout",
     "output_type": "stream",
     "text": [
      "\n",
      "\u001b[1mAcceptor:\u001b[0m\n",
      "0.962\t0.849\t0.9641\t0.9834\t0.9032\t0.9390000104904175\t0.4359000027179718\t0.019200000911951065\t0.0026000000070780516\t21432\n",
      "\n",
      "\u001b[1mDonor:\u001b[0m\n",
      "0.9573\t0.842\t0.9654\t0.9862\t0.898\t0.9509000182151794\t0.4715000092983246\t0.022199999541044235\t0.003000000026077032\t21432\n",
      "epoch: 1/10, val loss = 0.000329\n"
     ]
    },
    {
     "name": "stderr",
     "output_type": "stream",
     "text": [
      "Epoch (train) 2/10: 100%|██████████████████████████████████████████████████████| 202/202 [27:01<00:00,  8.03s/it, accepor_recall=0.905, donor_recall=0.912, loss=0.000165, pred_l1_dist=0]\n"
     ]
    },
    {
     "name": "stdout",
     "output_type": "stream",
     "text": [
      "epoch: 2/10, train loss = 0.000192\n"
     ]
    },
    {
     "name": "stderr",
     "output_type": "stream",
     "text": [
      "Epoch (val) 2/10: 100%|███████████████████████████████████████████████████████████| 23/23 [04:28<00:00, 11.69s/it, accepor_recall=0.878, donor_recall=0.91, loss=0.000293, pred_l1_dist=0]\n"
     ]
    },
    {
     "name": "stdout",
     "output_type": "stream",
     "text": [
      "\n",
      "\u001b[1mAcceptor:\u001b[0m\n",
      "0.974\t0.9033\t0.9813\t0.9906\t0.9416\t0.9646000266075134\t0.39579999446868896\t0.008299999870359898\t0.00139999995008111\t21432\n",
      "\n",
      "\u001b[1mDonor:\u001b[0m\n",
      "0.9705\t0.9044\t0.986\t0.9939\t0.9445\t0.9847000241279602\t0.5403000116348267\t0.010999999940395355\t0.001500000013038516\t21432\n",
      "epoch: 2/10, val loss = 0.000224\n"
     ]
    },
    {
     "name": "stderr",
     "output_type": "stream",
     "text": [
      "Epoch (train) 3/10: 100%|███████████████████████████████████████████████████████| 202/202 [26:28<00:00,  7.86s/it, accepor_recall=0.915, donor_recall=0.918, loss=0.00015, pred_l1_dist=0]\n"
     ]
    },
    {
     "name": "stdout",
     "output_type": "stream",
     "text": [
      "epoch: 3/10, train loss = 0.000165\n"
     ]
    },
    {
     "name": "stderr",
     "output_type": "stream",
     "text": [
      "Epoch (val) 3/10: 100%|██████████████████████████████████████████████████████████| 23/23 [04:40<00:00, 12.20s/it, accepor_recall=0.901, donor_recall=0.926, loss=0.000286, pred_l1_dist=0]\n"
     ]
    },
    {
     "name": "stdout",
     "output_type": "stream",
     "text": [
      "\n",
      "\u001b[1mAcceptor:\u001b[0m\n",
      "0.9742\t0.9039\t0.9852\t0.9928\t0.9447\t0.972100019454956\t0.6040999889373779\t0.01269999984651804\t0.0017999999690800905\t21432\n",
      "\n",
      "\u001b[1mDonor:\u001b[0m\n",
      "0.9709\t0.9101\t0.9877\t0.9953\t0.9463\t0.9868000149726868\t0.720300018787384\t0.010300000198185444\t0.0010999999940395355\t21432\n",
      "epoch: 3/10, val loss = 0.000221\n"
     ]
    },
    {
     "name": "stderr",
     "output_type": "stream",
     "text": [
      "Epoch (train) 4/10: 100%|███████████████████████████████████████████████████████| 202/202 [26:18<00:00,  7.81s/it, accepor_recall=0.926, donor_recall=0.93, loss=0.000138, pred_l1_dist=0]\n"
     ]
    },
    {
     "name": "stdout",
     "output_type": "stream",
     "text": [
      "epoch: 4/10, train loss = 0.000146\n"
     ]
    },
    {
     "name": "stderr",
     "output_type": "stream",
     "text": [
      "Epoch (val) 4/10: 100%|██████████████████████████████████████████████████████████| 23/23 [04:28<00:00, 11.68s/it, accepor_recall=0.901, donor_recall=0.912, loss=0.000263, pred_l1_dist=0]\n"
     ]
    },
    {
     "name": "stdout",
     "output_type": "stream",
     "text": [
      "\n",
      "\u001b[1mAcceptor:\u001b[0m\n",
      "0.976\t0.9163\t0.9867\t0.9925\t0.9514\t0.9769999980926514\t0.44909998774528503\t0.004699999932199717\t0.000699999975040555\t21432\n",
      "\n",
      "\u001b[1mDonor:\u001b[0m\n",
      "0.9732\t0.9203\t0.9893\t0.995\t0.9537\t0.9915000200271606\t0.4406000077724457\t0.002300000051036477\t0.0003000000142492354\t21432\n",
      "epoch: 4/10, val loss = 0.000200\n"
     ]
    },
    {
     "name": "stderr",
     "output_type": "stream",
     "text": [
      "Epoch (train) 5/10: 100%|██████████████████████████████████████████████████████| 202/202 [26:16<00:00,  7.81s/it, accepor_recall=0.932, donor_recall=0.938, loss=0.000138, pred_l1_dist=0]\n"
     ]
    },
    {
     "name": "stdout",
     "output_type": "stream",
     "text": [
      "epoch: 5/10, train loss = 0.000133\n"
     ]
    },
    {
     "name": "stderr",
     "output_type": "stream",
     "text": [
      "Epoch (val) 5/10: 100%|███████████████████████████████████████████████████████████| 23/23 [04:29<00:00, 11.71s/it, accepor_recall=0.89, donor_recall=0.883, loss=0.000264, pred_l1_dist=0]\n"
     ]
    },
    {
     "name": "stdout",
     "output_type": "stream",
     "text": [
      "\n",
      "\u001b[1mAcceptor:\u001b[0m\n",
      "0.976\t0.9188\t0.9868\t0.9934\t0.9525\t0.9671000242233276\t0.319599986076355\t0.0031999999191612005\t0.0005000000237487257\t21432\n",
      "\n",
      "\u001b[1mDonor:\u001b[0m\n",
      "0.9746\t0.9202\t0.9897\t0.9949\t0.954\t0.9643999934196472\t0.2646999955177307\t0.002300000051036477\t0.00039999998989515007\t21432\n",
      "epoch: 5/10, val loss = 0.000199\n"
     ]
    },
    {
     "name": "stderr",
     "output_type": "stream",
     "text": [
      "Epoch (train) 6/10: 100%|██████████████████████████████████████████████████████| 202/202 [26:56<00:00,  8.00s/it, accepor_recall=0.946, donor_recall=0.952, loss=0.000131, pred_l1_dist=0]\n"
     ]
    },
    {
     "name": "stdout",
     "output_type": "stream",
     "text": [
      "epoch: 6/10, train loss = 0.000124\n"
     ]
    },
    {
     "name": "stderr",
     "output_type": "stream",
     "text": [
      "Epoch (val) 6/10: 100%|███████████████████████████████████████████████████████████| 23/23 [04:38<00:00, 12.11s/it, accepor_recall=0.89, donor_recall=0.898, loss=0.000262, pred_l1_dist=0]\n"
     ]
    },
    {
     "name": "stdout",
     "output_type": "stream",
     "text": [
      "\n",
      "\u001b[1mAcceptor:\u001b[0m\n",
      "0.9763\t0.9176\t0.9862\t0.9926\t0.952\t0.9670000076293945\t0.3822999894618988\t0.00279999990016222\t0.0005000000237487257\t21432\n",
      "\n",
      "\u001b[1mDonor:\u001b[0m\n",
      "0.9761\t0.9199\t0.9893\t0.9954\t0.9544\t0.9466000199317932\t0.37599998712539673\t0.005100000184029341\t0.0007999999797903001\t21432\n",
      "epoch: 6/10, val loss = 0.000196\n"
     ]
    },
    {
     "name": "stderr",
     "output_type": "stream",
     "text": [
      "Epoch (train) 7/10: 100%|██████████████████████████████████████████████████████| 202/202 [27:06<00:00,  8.05s/it, accepor_recall=0.947, donor_recall=0.947, loss=0.000114, pred_l1_dist=0]\n"
     ]
    },
    {
     "name": "stdout",
     "output_type": "stream",
     "text": [
      "epoch: 7/10, train loss = 0.000117\n"
     ]
    },
    {
     "name": "stderr",
     "output_type": "stream",
     "text": [
      "Epoch (val) 7/10: 100%|██████████████████████████████████████████████████████████| 23/23 [04:35<00:00, 11.99s/it, accepor_recall=0.893, donor_recall=0.911, loss=0.000254, pred_l1_dist=0]\n"
     ]
    },
    {
     "name": "stdout",
     "output_type": "stream",
     "text": [
      "\n",
      "\u001b[1mAcceptor:\u001b[0m\n",
      "0.9761\t0.9217\t0.9862\t0.9921\t0.9516\t0.9736999869346619\t0.31790000200271606\t0.0027000000700354576\t0.0005000000237487257\t21432\n",
      "\n",
      "\u001b[1mDonor:\u001b[0m\n",
      "0.9746\t0.9241\t0.9899\t0.995\t0.9546\t0.9817000031471252\t0.4366999864578247\t0.00430000014603138\t0.0006000000284984708\t21432\n",
      "epoch: 7/10, val loss = 0.000194\n"
     ]
    },
    {
     "name": "stderr",
     "output_type": "stream",
     "text": [
      "Epoch (train) 8/10: 100%|███████████████████████████████████████████████████████| 202/202 [26:39<00:00,  7.92s/it, accepor_recall=0.956, donor_recall=0.959, loss=8.76e-5, pred_l1_dist=0]\n"
     ]
    },
    {
     "name": "stdout",
     "output_type": "stream",
     "text": [
      "epoch: 8/10, train loss = 0.000096\n"
     ]
    },
    {
     "name": "stderr",
     "output_type": "stream",
     "text": [
      "Epoch (val) 8/10: 100%|██████████████████████████████████████████████████████████| 23/23 [04:37<00:00, 12.09s/it, accepor_recall=0.937, donor_recall=0.942, loss=0.000249, pred_l1_dist=0]\n"
     ]
    },
    {
     "name": "stdout",
     "output_type": "stream",
     "text": [
      "\n",
      "\u001b[1mAcceptor:\u001b[0m\n",
      "0.9754\t0.9284\t0.9891\t0.9937\t0.9557\t0.9902999997138977\t0.7268000245094299\t0.0044999998062849045\t0.000699999975040555\t21432\n",
      "\n",
      "\u001b[1mDonor:\u001b[0m\n",
      "0.9758\t0.9309\t0.9905\t0.9959\t0.9565\t0.9898999929428101\t0.7024999856948853\t0.004100000020116568\t0.0005000000237487257\t21432\n",
      "epoch: 8/10, val loss = 0.000187\n"
     ]
    },
    {
     "name": "stderr",
     "output_type": "stream",
     "text": [
      "Epoch (train) 9/10: 100%|███████████████████████████████████████████████████████| 202/202 [27:08<00:00,  8.06s/it, accepor_recall=0.964, donor_recall=0.969, loss=7.18e-5, pred_l1_dist=0]\n"
     ]
    },
    {
     "name": "stdout",
     "output_type": "stream",
     "text": [
      "epoch: 9/10, train loss = 0.000082\n"
     ]
    },
    {
     "name": "stderr",
     "output_type": "stream",
     "text": [
      "Epoch (val) 9/10: 100%|██████████████████████████████████████████████████████████| 23/23 [04:34<00:00, 11.96s/it, accepor_recall=0.925, donor_recall=0.933, loss=0.000243, pred_l1_dist=0]\n"
     ]
    },
    {
     "name": "stdout",
     "output_type": "stream",
     "text": [
      "\n",
      "\u001b[1mAcceptor:\u001b[0m\n",
      "0.9784\t0.9293\t0.987\t0.9923\t0.955\t0.989799976348877\t0.573199987411499\t0.0027000000700354576\t0.0005000000237487257\t21432\n",
      "\n",
      "\u001b[1mDonor:\u001b[0m\n",
      "0.9756\t0.9316\t0.9909\t0.995\t0.9579\t0.9919000267982483\t0.5734999775886536\t0.0013000000035390258\t0.00019999999494757503\t21432\n",
      "epoch: 9/10, val loss = 0.000184\n"
     ]
    },
    {
     "name": "stderr",
     "output_type": "stream",
     "text": [
      "Epoch (train) 10/10: 100%|██████████████████████████████████████████████████████| 202/202 [26:43<00:00,  7.94s/it, accepor_recall=0.968, donor_recall=0.971, loss=7.45e-5, pred_l1_dist=0]\n"
     ]
    },
    {
     "name": "stdout",
     "output_type": "stream",
     "text": [
      "epoch: 10/10, train loss = 0.000073\n"
     ]
    },
    {
     "name": "stderr",
     "output_type": "stream",
     "text": [
      "Epoch (val) 10/10: 100%|█████████████████████████████████████████████████████████| 23/23 [04:34<00:00, 11.92s/it, accepor_recall=0.924, donor_recall=0.936, loss=0.000242, pred_l1_dist=0]\n"
     ]
    },
    {
     "name": "stdout",
     "output_type": "stream",
     "text": [
      "\n",
      "\u001b[1mAcceptor:\u001b[0m\n",
      "0.9768\t0.9303\t0.9887\t0.9943\t0.9569\t0.9871000051498413\t0.5250999927520752\t0.002099999925121665\t0.0003000000142492354\t21432\n",
      "\n",
      "\u001b[1mDonor:\u001b[0m\n",
      "0.9738\t0.9334\t0.9916\t0.9958\t0.9567\t0.9876999855041504\t0.574400007724762\t0.002099999925121665\t0.00019999999494757503\t21432\n",
      "epoch: 10/10, val loss = 0.000178\n"
     ]
    },
    {
     "data": {
      "image/png": "[encoded data removed]",
      "text/plain": [
       "<Figure size 432x288 with 1 Axes>"
      ]
     },
     "metadata": {
      "needs_background": "light"
     },
     "output_type": "display_data"
    }
   ],
   "source": [
    "device = torch.device(\"cuda\" if torch.cuda.is_available() else \"cpu\")\n",
    "epochs = 10\n",
    "hs = []\n",
    "\n",
    "parameters = [2048,1024,512,256,128]\n",
    "\n",
    "for model_nr in range(5):\n",
    "    model_m = SpliceFormer(CL_max,mlp_dim = parameters[model_nr])\n",
    "    model_m.apply(keras_init)\n",
    "    model_m = model_m.to(device)\n",
    "    if torch.cuda.device_count() > 1:\n",
    "        #print(\"Let's use\", torch.cuda.device_count(), \"GPUs!\")\n",
    "        # dim = 0 [30, xxx] -> [10, ...], [10, ...], [10, ...] on 3 GPUs\n",
    "        model_m = nn.DataParallel(model_m)\n",
    "    \n",
    "    modelFileName = '../Results/PyTorch_Models/transformer_encoder_40k_ablation_mlp_dim_{}'.format(parameters[model_nr])\n",
    "    #model_m.load_state_dict(torch.load('../Results/PyTorch_Models/SpliceAI_Ensembl_dgxtest_{}'.format(0)))\n",
    "    #loss = nn.CrossEntropyLoss(weight=torch.from_numpy(weights).float().to(device),ignore_index=-1,reduction='mean')\n",
    "    loss = categorical_crossentropy_2d().loss\n",
    "    #loss = nn.KLDivLoss()\n",
    "    learning_rate= k*1e-3\n",
    "    optimizer = torch.optim.Adam(model_m.parameters(), lr=learning_rate)\n",
    "    scheduler = torch.optim.lr_scheduler.StepLR(optimizer, step_size=1, gamma=0.5)\n",
    "    warmup = get_constant_schedule_with_warmup(optimizer, num_warmup_steps=1000)\n",
    "    h = trainModel(model_m,modelFileName,loss,train_loader,val_loader,optimizer,scheduler,warmup,BATCH_SIZE,epochs,device)\n",
    "    hs.append(h)\n",
    "\n",
    "    plt.plot(range(epochs),h['loss'],label='Train')\n",
    "    plt.plot(range(epochs),h['val_loss'],label='Validation')\n",
    "    plt.xlabel('Epoch')\n",
    "    plt.ylabel('Loss')\n",
    "    plt.legend()\n",
    "    plt.show()"
   ]
  },
  {
   "cell_type": "code",
   "execution_count": 12,
   "metadata": {},
   "outputs": [
    {
     "name": "stderr",
     "output_type": "stream",
     "text": [
      "Epoch (train) 1/10: 100%|███████████████| 202/202 [36:32<00:00, 10.85s/it, accepor_recall=0.859, donor_recall=0.878, loss=0.000234, pred_l1_dist=0]\n"
     ]
    },
    {
     "name": "stdout",
     "output_type": "stream",
     "text": [
      "epoch: 1/10, train loss = 0.008382\n"
     ]
    },
    {
     "name": "stderr",
     "output_type": "stream",
     "text": [
      "Epoch (val) 1/10: 100%|███████████████████| 23/23 [05:50<00:00, 15.23s/it, accepor_recall=0.876, donor_recall=0.867, loss=0.000331, pred_l1_dist=0]\n"
     ]
    },
    {
     "name": "stdout",
     "output_type": "stream",
     "text": [
      "\n",
      "\u001b[1mAcceptor:\u001b[0m\n",
      "0.9701\t0.882\t0.9755\t0.9874\t0.9279\t0.9746999740600586\t0.5428000092506409\t0.025699999183416367\t0.004000000189989805\t21432\n",
      "\n",
      "\u001b[1mDonor:\u001b[0m\n",
      "0.97\t0.8891\t0.9818\t0.9918\t0.9329\t0.9632999897003174\t0.4320000112056732\t0.013000000268220901\t0.0019000000320374966\t21432\n",
      "epoch: 1/10, val loss = 0.000258\n"
     ]
    },
    {
     "name": "stderr",
     "output_type": "stream",
     "text": [
      "Epoch (train) 2/10: 100%|███████████████| 202/202 [35:38<00:00, 10.59s/it, accepor_recall=0.899, donor_recall=0.912, loss=0.000149, pred_l1_dist=0]\n"
     ]
    },
    {
     "name": "stdout",
     "output_type": "stream",
     "text": [
      "epoch: 2/10, train loss = 0.000195\n"
     ]
    },
    {
     "name": "stderr",
     "output_type": "stream",
     "text": [
      "Epoch (val) 2/10: 100%|███████████████████| 23/23 [05:53<00:00, 15.37s/it, accepor_recall=0.887, donor_recall=0.935, loss=0.000329, pred_l1_dist=0]\n"
     ]
    },
    {
     "name": "stdout",
     "output_type": "stream",
     "text": [
      "\n",
      "\u001b[1mAcceptor:\u001b[0m\n",
      "0.9717\t0.8978\t0.9792\t0.9897\t0.9363\t0.983299970626831\t0.49639999866485596\t0.006899999920278788\t0.0007999999797903001\t21432\n",
      "\n",
      "\u001b[1mDonor:\u001b[0m\n",
      "0.9702\t0.9032\t0.9859\t0.9944\t0.9422\t0.9922000169754028\t0.7847999930381775\t0.012299999594688416\t0.0008999999845400453\t21432\n",
      "epoch: 2/10, val loss = 0.000253\n"
     ]
    },
    {
     "name": "stderr",
     "output_type": "stream",
     "text": [
      "Epoch (train) 3/10: 100%|████████████████| 202/202 [35:43<00:00, 10.61s/it, accepor_recall=0.919, donor_recall=0.93, loss=0.000158, pred_l1_dist=0]\n"
     ]
    },
    {
     "name": "stdout",
     "output_type": "stream",
     "text": [
      "epoch: 3/10, train loss = 0.000168\n"
     ]
    },
    {
     "name": "stderr",
     "output_type": "stream",
     "text": [
      "Epoch (val) 3/10: 100%|███████████████████| 23/23 [06:01<00:00, 15.71s/it, accepor_recall=0.916, donor_recall=0.903, loss=0.000267, pred_l1_dist=0]\n"
     ]
    },
    {
     "name": "stdout",
     "output_type": "stream",
     "text": [
      "\n",
      "\u001b[1mAcceptor:\u001b[0m\n",
      "0.9762\t0.9135\t0.9867\t0.9931\t0.9495\t0.9873999953269958\t0.6198999881744385\t0.010099999606609344\t0.001500000013038516\t21432\n",
      "\n",
      "\u001b[1mDonor:\u001b[0m\n",
      "0.9733\t0.9133\t0.9895\t0.9947\t0.9501\t0.9760000109672546\t0.4697999954223633\t0.00419999985024333\t0.0005000000237487257\t21432\n",
      "epoch: 3/10, val loss = 0.000203\n"
     ]
    },
    {
     "name": "stderr",
     "output_type": "stream",
     "text": [
      "Epoch (train) 4/10: 100%|███████████████| 202/202 [35:58<00:00, 10.69s/it, accepor_recall=0.925, donor_recall=0.935, loss=0.000157, pred_l1_dist=0]\n"
     ]
    },
    {
     "name": "stdout",
     "output_type": "stream",
     "text": [
      "epoch: 4/10, train loss = 0.000149\n"
     ]
    },
    {
     "name": "stderr",
     "output_type": "stream",
     "text": [
      "Epoch (val) 4/10: 100%|███████████████████| 23/23 [05:43<00:00, 14.94s/it, accepor_recall=0.901, donor_recall=0.908, loss=0.000266, pred_l1_dist=0]\n"
     ]
    },
    {
     "name": "stdout",
     "output_type": "stream",
     "text": [
      "\n",
      "\u001b[1mAcceptor:\u001b[0m\n",
      "0.9755\t0.9143\t0.985\t0.9931\t0.9483\t0.9646000266075134\t0.46000000834465027\t0.011900000274181366\t0.0027000000700354576\t21432\n",
      "\n",
      "\u001b[1mDonor:\u001b[0m\n",
      "0.9715\t0.9116\t0.9885\t0.9948\t0.9485\t0.9610000252723694\t0.48489999771118164\t0.009999999776482582\t0.0017000000225380063\t21432\n",
      "epoch: 4/10, val loss = 0.000202\n"
     ]
    },
    {
     "name": "stderr",
     "output_type": "stream",
     "text": [
      "Epoch (train) 5/10: 100%|███████████████| 202/202 [35:55<00:00, 10.67s/it, accepor_recall=0.938, donor_recall=0.942, loss=0.000144, pred_l1_dist=0]\n"
     ]
    },
    {
     "name": "stdout",
     "output_type": "stream",
     "text": [
      "epoch: 5/10, train loss = 0.000135\n"
     ]
    },
    {
     "name": "stderr",
     "output_type": "stream",
     "text": [
      "Epoch (val) 5/10: 100%|███████████████████| 23/23 [05:36<00:00, 14.65s/it, accepor_recall=0.916, donor_recall=0.923, loss=0.000249, pred_l1_dist=0]\n"
     ]
    },
    {
     "name": "stdout",
     "output_type": "stream",
     "text": [
      "\n",
      "\u001b[1mAcceptor:\u001b[0m\n",
      "0.9733\t0.9225\t0.9868\t0.9931\t0.9516\t0.9829999804496765\t0.5529999732971191\t0.0035000001080334187\t0.00039999998989515007\t21432\n",
      "\n",
      "\u001b[1mDonor:\u001b[0m\n",
      "0.9758\t0.9271\t0.9908\t0.9953\t0.9575\t0.9848999977111816\t0.5303999781608582\t0.0019000000320374966\t0.00019999999494757503\t21432\n",
      "epoch: 5/10, val loss = 0.000185\n"
     ]
    },
    {
     "name": "stderr",
     "output_type": "stream",
     "text": [
      "Epoch (train) 6/10: 100%|███████████████| 202/202 [36:03<00:00, 10.71s/it, accepor_recall=0.938, donor_recall=0.943, loss=0.000133, pred_l1_dist=0]\n"
     ]
    },
    {
     "name": "stdout",
     "output_type": "stream",
     "text": [
      "epoch: 6/10, train loss = 0.000126\n"
     ]
    },
    {
     "name": "stderr",
     "output_type": "stream",
     "text": [
      "Epoch (val) 6/10: 100%|███████████████████| 23/23 [05:56<00:00, 15.52s/it, accepor_recall=0.876, donor_recall=0.889, loss=0.000276, pred_l1_dist=0]\n"
     ]
    },
    {
     "name": "stdout",
     "output_type": "stream",
     "text": [
      "\n",
      "\u001b[1mAcceptor:\u001b[0m\n",
      "0.9733\t0.9106\t0.9846\t0.9923\t0.9473\t0.9750999808311462\t0.373199999332428\t0.00419999985024333\t0.0006000000284984708\t21432\n",
      "\n",
      "\u001b[1mDonor:\u001b[0m\n",
      "0.9765\t0.9191\t0.9886\t0.9951\t0.953\t0.9589999914169312\t0.3944000005722046\t0.003800000064074993\t0.0005000000237487257\t21432\n",
      "epoch: 6/10, val loss = 0.000203\n"
     ]
    },
    {
     "name": "stderr",
     "output_type": "stream",
     "text": [
      "Epoch (train) 7/10: 100%|███████████████| 202/202 [36:03<00:00, 10.71s/it, accepor_recall=0.947, donor_recall=0.953, loss=0.000104, pred_l1_dist=0]\n"
     ]
    },
    {
     "name": "stdout",
     "output_type": "stream",
     "text": [
      "epoch: 7/10, train loss = 0.000118\n"
     ]
    },
    {
     "name": "stderr",
     "output_type": "stream",
     "text": [
      "Epoch (val) 7/10: 100%|███████████████████| 23/23 [05:55<00:00, 15.45s/it, accepor_recall=0.907, donor_recall=0.911, loss=0.000267, pred_l1_dist=0]\n"
     ]
    },
    {
     "name": "stdout",
     "output_type": "stream",
     "text": [
      "\n",
      "\u001b[1mAcceptor:\u001b[0m\n",
      "0.9753\t0.9198\t0.9868\t0.9927\t0.9521\t0.9848999977111816\t0.45249998569488525\t0.0013000000035390258\t0.00019999999494757503\t21432\n",
      "\n",
      "\u001b[1mDonor:\u001b[0m\n",
      "0.9724\t0.9211\t0.9883\t0.9942\t0.9517\t0.9869999885559082\t0.4691999852657318\t0.0010999999940395355\t9.999999747378752e-05\t21432\n",
      "epoch: 7/10, val loss = 0.000205\n"
     ]
    },
    {
     "name": "stderr",
     "output_type": "stream",
     "text": [
      "Epoch (train) 8/10: 100%|████████████████| 202/202 [35:53<00:00, 10.66s/it, accepor_recall=0.959, donor_recall=0.964, loss=9.09e-5, pred_l1_dist=0]\n"
     ]
    },
    {
     "name": "stdout",
     "output_type": "stream",
     "text": [
      "epoch: 8/10, train loss = 0.000098\n"
     ]
    },
    {
     "name": "stderr",
     "output_type": "stream",
     "text": [
      "Epoch (val) 8/10: 100%|███████████████████| 23/23 [05:27<00:00, 14.26s/it, accepor_recall=0.884, donor_recall=0.896, loss=0.000258, pred_l1_dist=0]\n"
     ]
    },
    {
     "name": "stdout",
     "output_type": "stream",
     "text": [
      "\n",
      "\u001b[1mAcceptor:\u001b[0m\n",
      "0.9777\t0.9227\t0.9853\t0.9924\t0.953\t0.9692999720573425\t0.2531000077724457\t0.0017000000225380063\t0.00039999998989515007\t21432\n",
      "\n",
      "\u001b[1mDonor:\u001b[0m\n",
      "0.9771\t0.9267\t0.9901\t0.9945\t0.9578\t0.9732999801635742\t0.28600001335144043\t0.0015999999595806003\t0.00019999999494757503\t21432\n",
      "epoch: 8/10, val loss = 0.000196\n"
     ]
    },
    {
     "name": "stderr",
     "output_type": "stream",
     "text": [
      "Epoch (train) 9/10: 100%|████████████████| 202/202 [36:02<00:00, 10.71s/it, accepor_recall=0.966, donor_recall=0.968, loss=8.77e-5, pred_l1_dist=0]\n"
     ]
    },
    {
     "name": "stdout",
     "output_type": "stream",
     "text": [
      "epoch: 9/10, train loss = 0.000084\n"
     ]
    },
    {
     "name": "stderr",
     "output_type": "stream",
     "text": [
      "Epoch (val) 9/10: 100%|████████████████████| 23/23 [06:25<00:00, 16.76s/it, accepor_recall=0.914, donor_recall=0.919, loss=0.00023, pred_l1_dist=0]\n"
     ]
    },
    {
     "name": "stdout",
     "output_type": "stream",
     "text": [
      "\n",
      "\u001b[1mAcceptor:\u001b[0m\n",
      "0.9782\t0.9301\t0.9889\t0.9934\t0.9583\t0.9681000113487244\t0.4507000148296356\t0.0017000000225380063\t0.0003000000142492354\t21432\n",
      "\n",
      "\u001b[1mDonor:\u001b[0m\n",
      "0.9783\t0.9323\t0.992\t0.9957\t0.9617\t0.9689000248908997\t0.4431000053882599\t0.0017000000225380063\t0.0003000000142492354\t21432\n",
      "epoch: 9/10, val loss = 0.000170\n"
     ]
    },
    {
     "name": "stderr",
     "output_type": "stream",
     "text": [
      "Epoch (train) 10/10: 100%|███████████████| 202/202 [36:03<00:00, 10.71s/it, accepor_recall=0.963, donor_recall=0.962, loss=8.41e-5, pred_l1_dist=0]\n"
     ]
    },
    {
     "name": "stdout",
     "output_type": "stream",
     "text": [
      "epoch: 10/10, train loss = 0.000075\n"
     ]
    },
    {
     "name": "stderr",
     "output_type": "stream",
     "text": [
      "Epoch (val) 10/10: 100%|██████████████████| 23/23 [05:56<00:00, 15.52s/it, accepor_recall=0.902, donor_recall=0.912, loss=0.000241, pred_l1_dist=0]\n"
     ]
    },
    {
     "name": "stdout",
     "output_type": "stream",
     "text": [
      "\n",
      "\u001b[1mAcceptor:\u001b[0m\n",
      "0.9764\t0.9274\t0.9874\t0.9926\t0.9559\t0.9609000086784363\t0.3248000144958496\t0.00139999995008111\t0.0003000000142492354\t21432\n",
      "\n",
      "\u001b[1mDonor:\u001b[0m\n",
      "0.9756\t0.9319\t0.9913\t0.9952\t0.96\t0.9623000025749207\t0.36160001158714294\t0.0012000000569969416\t0.00019999999494757503\t21432\n",
      "epoch: 10/10, val loss = 0.000181\n"
     ]
    },
    {
     "data": {
      "image/png": "[encoded data removed]",
      "text/plain": [
       "<Figure size 432x288 with 1 Axes>"
      ]
     },
     "metadata": {
      "needs_background": "light"
     },
     "output_type": "display_data"
    },
    {
     "name": "stderr",
     "output_type": "stream",
     "text": [
      "Epoch (train) 1/10: 100%|███████████████| 202/202 [36:05<00:00, 10.72s/it, accepor_recall=0.868, donor_recall=0.881, loss=0.000211, pred_l1_dist=0]\n"
     ]
    },
    {
     "name": "stdout",
     "output_type": "stream",
     "text": [
      "epoch: 1/10, train loss = 0.007655\n"
     ]
    },
    {
     "name": "stderr",
     "output_type": "stream",
     "text": [
      "Epoch (val) 1/10: 100%|████████████████████| 23/23 [05:17<00:00, 13.80s/it, accepor_recall=0.87, donor_recall=0.835, loss=0.000351, pred_l1_dist=0]\n"
     ]
    },
    {
     "name": "stdout",
     "output_type": "stream",
     "text": [
      "\n",
      "\u001b[1mAcceptor:\u001b[0m\n",
      "0.9677\t0.8773\t0.9772\t0.9889\t0.925\t0.9707000255584717\t0.5562999844551086\t0.02070000022649765\t0.0026000000070780516\t21432\n",
      "\n",
      "\u001b[1mDonor:\u001b[0m\n",
      "0.9684\t0.8862\t0.9814\t0.9917\t0.9326\t0.9585000276565552\t0.3970000147819519\t0.011099999770522118\t0.0015999999595806003\t21432\n",
      "epoch: 1/10, val loss = 0.000262\n"
     ]
    },
    {
     "name": "stderr",
     "output_type": "stream",
     "text": [
      "Epoch (train) 2/10: 100%|███████████████| 202/202 [35:58<00:00, 10.69s/it, accepor_recall=0.897, donor_recall=0.905, loss=0.000175, pred_l1_dist=0]\n"
     ]
    },
    {
     "name": "stdout",
     "output_type": "stream",
     "text": [
      "epoch: 2/10, train loss = 0.000193\n"
     ]
    },
    {
     "name": "stderr",
     "output_type": "stream",
     "text": [
      "Epoch (val) 2/10: 100%|███████████████████| 23/23 [05:22<00:00, 14.02s/it, accepor_recall=0.833, donor_recall=0.823, loss=0.000322, pred_l1_dist=0]\n"
     ]
    },
    {
     "name": "stdout",
     "output_type": "stream",
     "text": [
      "\n",
      "\u001b[1mAcceptor:\u001b[0m\n",
      "0.9715\t0.8937\t0.977\t0.9882\t0.9337\t0.9478999972343445\t0.2542000114917755\t0.006099999882280827\t0.0010999999940395355\t21432\n",
      "\n",
      "\u001b[1mDonor:\u001b[0m\n",
      "0.9734\t0.9005\t0.9844\t0.9925\t0.9421\t0.9244999885559082\t0.21570000052452087\t0.003700000001117587\t0.0006000000284984708\t21432\n",
      "epoch: 2/10, val loss = 0.000252\n"
     ]
    },
    {
     "name": "stderr",
     "output_type": "stream",
     "text": [
      "Epoch (train) 3/10: 100%|███████████████| 202/202 [36:03<00:00, 10.71s/it, accepor_recall=0.919, donor_recall=0.921, loss=0.000173, pred_l1_dist=0]\n"
     ]
    },
    {
     "name": "stdout",
     "output_type": "stream",
     "text": [
      "epoch: 3/10, train loss = 0.000166\n"
     ]
    },
    {
     "name": "stderr",
     "output_type": "stream",
     "text": [
      "Epoch (val) 3/10: 100%|████████████████████| 23/23 [05:27<00:00, 14.23s/it, accepor_recall=0.881, donor_recall=0.869, loss=0.00033, pred_l1_dist=0]\n"
     ]
    },
    {
     "name": "stdout",
     "output_type": "stream",
     "text": [
      "\n",
      "\u001b[1mAcceptor:\u001b[0m\n",
      "0.9644\t0.8825\t0.9789\t0.9894\t0.924\t0.9611999988555908\t0.5992000102996826\t0.018200000748038292\t0.0026000000070780516\t21432\n",
      "\n",
      "\u001b[1mDonor:\u001b[0m\n",
      "0.9647\t0.8896\t0.9845\t0.9935\t0.9347\t0.9401999711990356\t0.46140000224113464\t0.014999999664723873\t0.002300000051036477\t21432\n",
      "epoch: 3/10, val loss = 0.000253\n"
     ]
    },
    {
     "name": "stderr",
     "output_type": "stream",
     "text": [
      "Epoch (train) 4/10: 100%|█████████████████| 202/202 [35:55<00:00, 10.67s/it, accepor_recall=0.93, donor_recall=0.938, loss=0.00014, pred_l1_dist=0]\n"
     ]
    },
    {
     "name": "stdout",
     "output_type": "stream",
     "text": [
      "epoch: 4/10, train loss = 0.000147\n"
     ]
    },
    {
     "name": "stderr",
     "output_type": "stream",
     "text": [
      "Epoch (val) 4/10: 100%|███████████████████| 23/23 [05:24<00:00, 14.11s/it, accepor_recall=0.843, donor_recall=0.846, loss=0.000298, pred_l1_dist=0]\n"
     ]
    },
    {
     "name": "stdout",
     "output_type": "stream",
     "text": [
      "\n",
      "\u001b[1mAcceptor:\u001b[0m\n",
      "0.9705\t0.9126\t0.9853\t0.9923\t0.9464\t0.9236999750137329\t0.23430000245571136\t0.0038999998942017555\t0.0007999999797903001\t21432\n",
      "\n",
      "\u001b[1mDonor:\u001b[0m\n",
      "0.9721\t0.9111\t0.9874\t0.9946\t0.9477\t0.9449999928474426\t0.18359999358654022\t0.002199999988079071\t0.00039999998989515007\t21432\n",
      "epoch: 4/10, val loss = 0.000234\n"
     ]
    },
    {
     "name": "stderr",
     "output_type": "stream",
     "text": [
      "Epoch (train) 5/10: 100%|███████████████| 202/202 [36:04<00:00, 10.71s/it, accepor_recall=0.935, donor_recall=0.943, loss=0.000116, pred_l1_dist=0]\n"
     ]
    },
    {
     "name": "stdout",
     "output_type": "stream",
     "text": [
      "epoch: 5/10, train loss = 0.000134\n"
     ]
    },
    {
     "name": "stderr",
     "output_type": "stream",
     "text": [
      "Epoch (val) 5/10: 100%|███████████████████| 23/23 [05:26<00:00, 14.18s/it, accepor_recall=0.885, donor_recall=0.873, loss=0.000304, pred_l1_dist=0]\n"
     ]
    },
    {
     "name": "stdout",
     "output_type": "stream",
     "text": [
      "\n",
      "\u001b[1mAcceptor:\u001b[0m\n",
      "0.9705\t0.8948\t0.9798\t0.9911\t0.9352\t0.9517999887466431\t0.5037999749183655\t0.015699999406933784\t0.002199999988079071\t21432\n",
      "\n",
      "\u001b[1mDonor:\u001b[0m\n",
      "0.971\t0.9035\t0.9864\t0.9937\t0.9442\t0.9704999923706055\t0.45100000500679016\t0.008500000461935997\t0.0010999999940395355\t21432\n",
      "epoch: 5/10, val loss = 0.000228\n"
     ]
    },
    {
     "name": "stderr",
     "output_type": "stream",
     "text": [
      "Epoch (train) 6/10: 100%|███████████████| 202/202 [36:18<00:00, 10.78s/it, accepor_recall=0.941, donor_recall=0.945, loss=0.000125, pred_l1_dist=0]\n"
     ]
    },
    {
     "name": "stdout",
     "output_type": "stream",
     "text": [
      "epoch: 6/10, train loss = 0.000125\n"
     ]
    },
    {
     "name": "stderr",
     "output_type": "stream",
     "text": [
      "Epoch (val) 6/10: 100%|███████████████████| 23/23 [05:28<00:00, 14.26s/it, accepor_recall=0.899, donor_recall=0.912, loss=0.000264, pred_l1_dist=0]\n"
     ]
    },
    {
     "name": "stdout",
     "output_type": "stream",
     "text": [
      "\n",
      "\u001b[1mAcceptor:\u001b[0m\n",
      "0.9745\t0.9203\t0.987\t0.9931\t0.9505\t0.960099995136261\t0.40230000019073486\t0.002099999925121665\t0.0003000000142492354\t21432\n",
      "\n",
      "\u001b[1mDonor:\u001b[0m\n",
      "0.9742\t0.9239\t0.9896\t0.9949\t0.9549\t0.9786999821662903\t0.4537999927997589\t0.0019000000320374966\t0.0003000000142492354\t21432\n",
      "epoch: 6/10, val loss = 0.000195\n"
     ]
    },
    {
     "name": "stderr",
     "output_type": "stream",
     "text": [
      "Epoch (train) 7/10: 100%|███████████████| 202/202 [36:14<00:00, 10.76s/it, accepor_recall=0.949, donor_recall=0.954, loss=0.000115, pred_l1_dist=0]\n"
     ]
    },
    {
     "name": "stdout",
     "output_type": "stream",
     "text": [
      "epoch: 7/10, train loss = 0.000117\n"
     ]
    },
    {
     "name": "stderr",
     "output_type": "stream",
     "text": [
      "Epoch (val) 7/10: 100%|███████████████████| 23/23 [05:27<00:00, 14.24s/it, accepor_recall=0.902, donor_recall=0.914, loss=0.000261, pred_l1_dist=0]\n"
     ]
    },
    {
     "name": "stdout",
     "output_type": "stream",
     "text": [
      "\n",
      "\u001b[1mAcceptor:\u001b[0m\n",
      "0.9734\t0.9195\t0.9867\t0.9925\t0.9507\t0.9778000116348267\t0.4812999963760376\t0.004900000058114529\t0.0007999999797903001\t21432\n",
      "\n",
      "\u001b[1mDonor:\u001b[0m\n",
      "0.974\t0.9233\t0.9906\t0.9952\t0.9546\t0.9778000116348267\t0.46389999985694885\t0.004900000058114529\t0.0007999999797903001\t21432\n",
      "epoch: 7/10, val loss = 0.000192\n"
     ]
    },
    {
     "name": "stderr",
     "output_type": "stream",
     "text": [
      "Epoch (train) 8/10: 100%|███████████████| 202/202 [36:04<00:00, 10.72s/it, accepor_recall=0.957, donor_recall=0.961, loss=0.000101, pred_l1_dist=0]\n"
     ]
    },
    {
     "name": "stdout",
     "output_type": "stream",
     "text": [
      "epoch: 8/10, train loss = 0.000096\n"
     ]
    },
    {
     "name": "stderr",
     "output_type": "stream",
     "text": [
      "Epoch (val) 8/10: 100%|███████████████████| 23/23 [05:21<00:00, 13.99s/it, accepor_recall=0.915, donor_recall=0.926, loss=0.000237, pred_l1_dist=0]\n"
     ]
    },
    {
     "name": "stdout",
     "output_type": "stream",
     "text": [
      "\n",
      "\u001b[1mAcceptor:\u001b[0m\n",
      "0.9742\t0.9287\t0.9889\t0.9937\t0.9551\t0.9408000111579895\t0.48030000925064087\t0.00279999990016222\t0.0005000000237487257\t21432\n",
      "\n",
      "\u001b[1mDonor:\u001b[0m\n",
      "0.9705\t0.9305\t0.9915\t0.9953\t0.9561\t0.9495999813079834\t0.49779999256134033\t0.0015999999595806003\t0.0003000000142492354\t21432\n",
      "epoch: 8/10, val loss = 0.000176\n"
     ]
    },
    {
     "name": "stderr",
     "output_type": "stream",
     "text": [
      "Epoch (train) 9/10: 100%|████████████████| 202/202 [36:04<00:00, 10.71s/it, accepor_recall=0.966, donor_recall=0.969, loss=8.92e-5, pred_l1_dist=0]\n"
     ]
    },
    {
     "name": "stdout",
     "output_type": "stream",
     "text": [
      "epoch: 9/10, train loss = 0.000083\n"
     ]
    },
    {
     "name": "stderr",
     "output_type": "stream",
     "text": [
      "Epoch (val) 9/10: 100%|███████████████████| 23/23 [05:17<00:00, 13.80s/it, accepor_recall=0.924, donor_recall=0.929, loss=0.000234, pred_l1_dist=0]\n"
     ]
    },
    {
     "name": "stdout",
     "output_type": "stream",
     "text": [
      "\n",
      "\u001b[1mAcceptor:\u001b[0m\n",
      "0.9762\t0.9314\t0.9888\t0.9936\t0.9577\t0.9794999957084656\t0.5008999705314636\t0.0017000000225380063\t0.0003000000142492354\t21432\n",
      "\n",
      "\u001b[1mDonor:\u001b[0m\n",
      "0.9743\t0.9329\t0.9921\t0.9957\t0.9592\t0.9782000184059143\t0.5157999992370605\t0.00139999995008111\t0.00019999999494757503\t21432\n",
      "epoch: 9/10, val loss = 0.000174\n"
     ]
    },
    {
     "name": "stderr",
     "output_type": "stream",
     "text": [
      "Epoch (train) 10/10: 100%|███████████████| 202/202 [36:04<00:00, 10.72s/it, accepor_recall=0.967, donor_recall=0.971, loss=7.34e-5, pred_l1_dist=0]\n"
     ]
    },
    {
     "name": "stdout",
     "output_type": "stream",
     "text": [
      "epoch: 10/10, train loss = 0.000073\n"
     ]
    },
    {
     "name": "stderr",
     "output_type": "stream",
     "text": [
      "Epoch (val) 10/10: 100%|███████████████████| 23/23 [05:30<00:00, 14.36s/it, accepor_recall=0.915, donor_recall=0.919, loss=0.00024, pred_l1_dist=0]\n"
     ]
    },
    {
     "name": "stdout",
     "output_type": "stream",
     "text": [
      "\n",
      "\u001b[1mAcceptor:\u001b[0m\n",
      "0.9738\t0.9295\t0.9888\t0.9933\t0.9551\t0.9807000160217285\t0.4697999954223633\t0.0020000000949949026\t0.00039999998989515007\t21432\n",
      "\n",
      "\u001b[1mDonor:\u001b[0m\n",
      "0.9722\t0.9316\t0.9918\t0.9952\t0.9567\t0.9800999760627747\t0.45829999446868896\t0.00139999995008111\t0.00019999999494757503\t21432\n",
      "epoch: 10/10, val loss = 0.000178\n"
     ]
    },
    {
     "data": {
      "image/png": "[encoded data removed]",
      "text/plain": [
       "<Figure size 432x288 with 1 Axes>"
      ]
     },
     "metadata": {
      "needs_background": "light"
     },
     "output_type": "display_data"
    },
    {
     "name": "stderr",
     "output_type": "stream",
     "text": [
      "Epoch (train) 1/10: 100%|███████████████| 202/202 [36:07<00:00, 10.73s/it, accepor_recall=0.879, donor_recall=0.889, loss=0.000202, pred_l1_dist=0]\n"
     ]
    },
    {
     "name": "stdout",
     "output_type": "stream",
     "text": [
      "epoch: 1/10, train loss = 0.007285\n"
     ]
    },
    {
     "name": "stderr",
     "output_type": "stream",
     "text": [
      "Epoch (val) 1/10: 100%|████████████████████| 23/23 [05:22<00:00, 14.04s/it, accepor_recall=0.931, donor_recall=0.934, loss=0.00359, pred_l1_dist=0]\n"
     ]
    },
    {
     "name": "stdout",
     "output_type": "stream",
     "text": [
      "\n",
      "\u001b[1mAcceptor:\u001b[0m\n",
      "0.7189\t0.5586\t0.759\t0.8897\t0.5807\t0.9896000027656555\t0.9775999784469604\t0.9347000122070312\t0.7304999828338623\t21432\n",
      "\n",
      "\u001b[1mDonor:\u001b[0m\n",
      "0.773\t0.5849\t0.7673\t0.89\t0.6231\t0.9944999814033508\t0.9868000149726868\t0.9573000073432922\t0.7900000214576721\t21432\n",
      "epoch: 1/10, val loss = 0.004156\n"
     ]
    },
    {
     "name": "stderr",
     "output_type": "stream",
     "text": [
      "Epoch (train) 2/10: 100%|█████████████████| 202/202 [36:26<00:00, 10.82s/it, accepor_recall=0.902, donor_recall=0.9, loss=0.000186, pred_l1_dist=0]\n"
     ]
    },
    {
     "name": "stdout",
     "output_type": "stream",
     "text": [
      "epoch: 2/10, train loss = 0.000193\n"
     ]
    },
    {
     "name": "stderr",
     "output_type": "stream",
     "text": [
      "Epoch (val) 2/10: 100%|███████████████████| 23/23 [05:39<00:00, 14.76s/it, accepor_recall=0.909, donor_recall=0.908, loss=0.000345, pred_l1_dist=0]\n"
     ]
    },
    {
     "name": "stdout",
     "output_type": "stream",
     "text": [
      "\n",
      "\u001b[1mAcceptor:\u001b[0m\n",
      "0.9705\t0.8783\t0.9774\t0.9879\t0.9246\t0.9693999886512756\t0.732699990272522\t0.037300001829862595\t0.003000000026077032\t21432\n",
      "\n",
      "\u001b[1mDonor:\u001b[0m\n",
      "0.9702\t0.8843\t0.9815\t0.9928\t0.932\t0.9312000274658203\t0.6284000277519226\t0.04019999876618385\t0.004699999932199717\t21432\n",
      "epoch: 2/10, val loss = 0.000283\n"
     ]
    },
    {
     "name": "stderr",
     "output_type": "stream",
     "text": [
      "Epoch (train) 3/10: 100%|███████████████| 202/202 [36:08<00:00, 10.74s/it, accepor_recall=0.919, donor_recall=0.919, loss=0.000157, pred_l1_dist=0]\n"
     ]
    },
    {
     "name": "stdout",
     "output_type": "stream",
     "text": [
      "epoch: 3/10, train loss = 0.000166\n"
     ]
    },
    {
     "name": "stderr",
     "output_type": "stream",
     "text": [
      "Epoch (val) 3/10: 100%|███████████████████| 23/23 [05:37<00:00, 14.67s/it, accepor_recall=0.861, donor_recall=0.889, loss=0.000319, pred_l1_dist=0]\n"
     ]
    },
    {
     "name": "stdout",
     "output_type": "stream",
     "text": [
      "\n",
      "\u001b[1mAcceptor:\u001b[0m\n",
      "0.9711\t0.8942\t0.9765\t0.9892\t0.9351\t0.9767000079154968\t0.40119999647140503\t0.007899999618530273\t0.0010999999940395355\t21432\n",
      "\n",
      "\u001b[1mDonor:\u001b[0m\n",
      "0.9693\t0.8977\t0.9847\t0.9942\t0.9405\t0.9800999760627747\t0.4903999865055084\t0.010499999858438969\t0.001500000013038516\t21432\n",
      "epoch: 3/10, val loss = 0.000241\n"
     ]
    },
    {
     "name": "stderr",
     "output_type": "stream",
     "text": [
      "Epoch (train) 4/10: 100%|████████████████| 202/202 [36:30<00:00, 10.84s/it, accepor_recall=0.922, donor_recall=0.929, loss=0.00015, pred_l1_dist=0]\n"
     ]
    },
    {
     "name": "stdout",
     "output_type": "stream",
     "text": [
      "epoch: 4/10, train loss = 0.000147\n"
     ]
    },
    {
     "name": "stderr",
     "output_type": "stream",
     "text": [
      "Epoch (val) 4/10: 100%|███████████████████| 23/23 [05:54<00:00, 15.42s/it, accepor_recall=0.888, donor_recall=0.893, loss=0.000279, pred_l1_dist=0]\n"
     ]
    },
    {
     "name": "stdout",
     "output_type": "stream",
     "text": [
      "\n",
      "\u001b[1mAcceptor:\u001b[0m\n",
      "0.9752\t0.9101\t0.9845\t0.9911\t0.9478\t0.9678000211715698\t0.41449999809265137\t0.003800000064074993\t0.0006000000284984708\t21432\n",
      "\n",
      "\u001b[1mDonor:\u001b[0m\n",
      "0.9753\t0.9157\t0.9893\t0.9945\t0.9527\t0.9728000164031982\t0.37229999899864197\t0.002199999988079071\t0.0003000000142492354\t21432\n",
      "epoch: 4/10, val loss = 0.000207\n"
     ]
    },
    {
     "name": "stderr",
     "output_type": "stream",
     "text": [
      "Epoch (train) 5/10: 100%|███████████████| 202/202 [36:17<00:00, 10.78s/it, accepor_recall=0.936, donor_recall=0.939, loss=0.000135, pred_l1_dist=0]\n"
     ]
    },
    {
     "name": "stdout",
     "output_type": "stream",
     "text": [
      "epoch: 5/10, train loss = 0.000133\n"
     ]
    },
    {
     "name": "stderr",
     "output_type": "stream",
     "text": [
      "Epoch (val) 5/10: 100%|███████████████████| 23/23 [05:23<00:00, 14.06s/it, accepor_recall=0.932, donor_recall=0.945, loss=0.000276, pred_l1_dist=0]\n"
     ]
    },
    {
     "name": "stdout",
     "output_type": "stream",
     "text": [
      "\n",
      "\u001b[1mAcceptor:\u001b[0m\n",
      "0.9745\t0.9165\t0.9867\t0.9926\t0.9493\t0.9790999889373779\t0.7434999942779541\t0.022199999541044235\t0.0038999998942017555\t21432\n",
      "\n",
      "\u001b[1mDonor:\u001b[0m\n",
      "0.9749\t0.9222\t0.9898\t0.9956\t0.9549\t0.9872000217437744\t0.7444999814033508\t0.01590000092983246\t0.002099999925121665\t21432\n",
      "epoch: 5/10, val loss = 0.000211\n"
     ]
    },
    {
     "name": "stderr",
     "output_type": "stream",
     "text": [
      "Epoch (train) 6/10: 100%|████████████████| 202/202 [36:01<00:00, 10.70s/it, accepor_recall=0.935, donor_recall=0.94, loss=0.000137, pred_l1_dist=0]\n"
     ]
    },
    {
     "name": "stdout",
     "output_type": "stream",
     "text": [
      "epoch: 6/10, train loss = 0.000124\n"
     ]
    },
    {
     "name": "stderr",
     "output_type": "stream",
     "text": [
      "Epoch (val) 6/10: 100%|████████████████████| 23/23 [05:36<00:00, 14.62s/it, accepor_recall=0.92, donor_recall=0.918, loss=0.000263, pred_l1_dist=0]\n"
     ]
    },
    {
     "name": "stdout",
     "output_type": "stream",
     "text": [
      "\n",
      "\u001b[1mAcceptor:\u001b[0m\n",
      "0.9746\t0.9144\t0.9862\t0.9928\t0.949\t0.9681000113487244\t0.6186000108718872\t0.011500000022351742\t0.0017999999690800905\t21432\n",
      "\n",
      "\u001b[1mDonor:\u001b[0m\n",
      "0.9752\t0.9177\t0.9895\t0.9956\t0.9535\t0.9451000094413757\t0.5435000061988831\t0.013100000098347664\t0.002099999925121665\t21432\n",
      "epoch: 6/10, val loss = 0.000195\n"
     ]
    },
    {
     "name": "stderr",
     "output_type": "stream",
     "text": [
      "Epoch (train) 7/10: 100%|███████████████| 202/202 [36:01<00:00, 10.70s/it, accepor_recall=0.945, donor_recall=0.951, loss=0.000139, pred_l1_dist=0]\n"
     ]
    },
    {
     "name": "stdout",
     "output_type": "stream",
     "text": [
      "epoch: 7/10, train loss = 0.000116\n"
     ]
    },
    {
     "name": "stderr",
     "output_type": "stream",
     "text": [
      "Epoch (val) 7/10: 100%|████████████████████| 23/23 [05:27<00:00, 14.23s/it, accepor_recall=0.906, donor_recall=0.93, loss=0.000259, pred_l1_dist=0]\n"
     ]
    },
    {
     "name": "stdout",
     "output_type": "stream",
     "text": [
      "\n",
      "\u001b[1mAcceptor:\u001b[0m\n",
      "0.9766\t0.9176\t0.9866\t0.9924\t0.9517\t0.9681000113487244\t0.4828999936580658\t0.0035000001080334187\t0.0006000000284984708\t21432\n",
      "\n",
      "\u001b[1mDonor:\u001b[0m\n",
      "0.9755\t0.9186\t0.988\t0.9932\t0.9525\t0.9721999764442444\t0.6391000151634216\t0.010900000110268593\t0.002400000113993883\t21432\n",
      "epoch: 7/10, val loss = 0.000195\n"
     ]
    },
    {
     "name": "stderr",
     "output_type": "stream",
     "text": [
      "Epoch (train) 8/10: 100%|███████████████| 202/202 [36:03<00:00, 10.71s/it, accepor_recall=0.957, donor_recall=0.957, loss=0.000103, pred_l1_dist=0]\n"
     ]
    },
    {
     "name": "stdout",
     "output_type": "stream",
     "text": [
      "epoch: 8/10, train loss = 0.000095\n"
     ]
    },
    {
     "name": "stderr",
     "output_type": "stream",
     "text": [
      "Epoch (val) 8/10: 100%|███████████████████| 23/23 [05:24<00:00, 14.12s/it, accepor_recall=0.904, donor_recall=0.916, loss=0.000238, pred_l1_dist=0]\n"
     ]
    },
    {
     "name": "stdout",
     "output_type": "stream",
     "text": [
      "\n",
      "\u001b[1mAcceptor:\u001b[0m\n",
      "0.977\t0.929\t0.9887\t0.9931\t0.9576\t0.9797999858856201\t0.3334999978542328\t0.001500000013038516\t0.0003000000142492354\t21432\n",
      "\n",
      "\u001b[1mDonor:\u001b[0m\n",
      "0.9783\t0.93\t0.9916\t0.9958\t0.96\t0.9824000000953674\t0.3977999985218048\t0.0015999999595806003\t0.0003000000142492354\t21432\n",
      "epoch: 8/10, val loss = 0.000182\n"
     ]
    },
    {
     "name": "stderr",
     "output_type": "stream",
     "text": [
      "Epoch (train) 9/10: 100%|████████████████| 202/202 [36:16<00:00, 10.78s/it, accepor_recall=0.967, donor_recall=0.972, loss=8.48e-5, pred_l1_dist=0]\n"
     ]
    },
    {
     "name": "stdout",
     "output_type": "stream",
     "text": [
      "epoch: 9/10, train loss = 0.000081\n"
     ]
    },
    {
     "name": "stderr",
     "output_type": "stream",
     "text": [
      "Epoch (val) 9/10: 100%|███████████████████| 23/23 [05:22<00:00, 14.04s/it, accepor_recall=0.918, donor_recall=0.931, loss=0.000227, pred_l1_dist=0]\n"
     ]
    },
    {
     "name": "stdout",
     "output_type": "stream",
     "text": [
      "\n",
      "\u001b[1mAcceptor:\u001b[0m\n",
      "0.9764\t0.9313\t0.989\t0.9932\t0.9577\t0.9793999791145325\t0.4309000074863434\t0.0017999999690800905\t0.0003000000142492354\t21432\n",
      "\n",
      "\u001b[1mDonor:\u001b[0m\n",
      "0.977\t0.9342\t0.9913\t0.996\t0.9608\t0.9789000153541565\t0.5060999989509583\t0.0024999999441206455\t0.00039999998989515007\t21432\n",
      "epoch: 9/10, val loss = 0.000170\n"
     ]
    },
    {
     "name": "stderr",
     "output_type": "stream",
     "text": [
      "Epoch (train) 10/10: 100%|███████████████| 202/202 [36:13<00:00, 10.76s/it, accepor_recall=0.973, donor_recall=0.974, loss=6.52e-5, pred_l1_dist=0]\n"
     ]
    },
    {
     "name": "stdout",
     "output_type": "stream",
     "text": [
      "epoch: 10/10, train loss = 0.000071\n"
     ]
    },
    {
     "name": "stderr",
     "output_type": "stream",
     "text": [
      "Epoch (val) 10/10: 100%|██████████████████| 23/23 [05:26<00:00, 14.20s/it, accepor_recall=0.918, donor_recall=0.926, loss=0.000231, pred_l1_dist=0]\n"
     ]
    },
    {
     "name": "stdout",
     "output_type": "stream",
     "text": [
      "\n",
      "\u001b[1mAcceptor:\u001b[0m\n",
      "0.9767\t0.9307\t0.9887\t0.993\t0.9585\t0.9832000136375427\t0.4675999879837036\t0.0012000000569969416\t0.00019999999494757503\t21432\n",
      "\n",
      "\u001b[1mDonor:\u001b[0m\n",
      "0.9784\t0.9344\t0.9917\t0.9957\t0.9625\t0.9789999723434448\t0.4357999861240387\t0.0010000000474974513\t9.999999747378752e-05\t21432\n",
      "epoch: 10/10, val loss = 0.000175\n"
     ]
    },
    {
     "data": {
      "image/png": "[encoded data removed]",
      "text/plain": [
       "<Figure size 432x288 with 1 Axes>"
      ]
     },
     "metadata": {
      "needs_background": "light"
     },
     "output_type": "display_data"
    },
    {
     "name": "stderr",
     "output_type": "stream",
     "text": [
      "Epoch (train) 1/10: 100%|███████████████| 202/202 [36:21<00:00, 10.80s/it, accepor_recall=0.869, donor_recall=0.874, loss=0.000213, pred_l1_dist=0]\n"
     ]
    },
    {
     "name": "stdout",
     "output_type": "stream",
     "text": [
      "epoch: 1/10, train loss = 0.007374\n"
     ]
    },
    {
     "name": "stderr",
     "output_type": "stream",
     "text": [
      "Epoch (val) 1/10: 100%|███████████████████| 23/23 [05:54<00:00, 15.41s/it, accepor_recall=0.903, donor_recall=0.897, loss=0.000379, pred_l1_dist=0]\n"
     ]
    },
    {
     "name": "stdout",
     "output_type": "stream",
     "text": [
      "\n",
      "\u001b[1mAcceptor:\u001b[0m\n",
      "0.9616\t0.8679\t0.9704\t0.9865\t0.9138\t0.9726999998092651\t0.7315999865531921\t0.05990000069141388\t0.006599999964237213\t21432\n",
      "\n",
      "\u001b[1mDonor:\u001b[0m\n",
      "0.964\t0.8742\t0.979\t0.9909\t0.9233\t0.935699999332428\t0.5900999903678894\t0.03579999879002571\t0.0038999998942017555\t21432\n",
      "epoch: 1/10, val loss = 0.000306\n"
     ]
    },
    {
     "name": "stderr",
     "output_type": "stream",
     "text": [
      "Epoch (train) 2/10: 100%|███████████████| 202/202 [36:11<00:00, 10.75s/it, accepor_recall=0.884, donor_recall=0.897, loss=0.000178, pred_l1_dist=0]\n"
     ]
    },
    {
     "name": "stdout",
     "output_type": "stream",
     "text": [
      "epoch: 2/10, train loss = 0.000194\n"
     ]
    },
    {
     "name": "stderr",
     "output_type": "stream",
     "text": [
      "Epoch (val) 2/10: 100%|███████████████████| 23/23 [05:57<00:00, 15.56s/it, accepor_recall=0.811, donor_recall=0.874, loss=0.000372, pred_l1_dist=0]\n"
     ]
    },
    {
     "name": "stdout",
     "output_type": "stream",
     "text": [
      "\n",
      "\u001b[1mAcceptor:\u001b[0m\n",
      "0.9703\t0.8823\t0.9609\t0.9755\t0.9183\t0.9473999738693237\t0.17679999768733978\t0.004699999932199717\t0.0008999999845400453\t21432\n",
      "\n",
      "\u001b[1mDonor:\u001b[0m\n",
      "0.97\t0.8871\t0.9741\t0.9878\t0.9295\t0.9814000129699707\t0.3840999901294708\t0.005900000222027302\t0.0007999999797903001\t21432\n",
      "epoch: 2/10, val loss = 0.000300\n"
     ]
    },
    {
     "name": "stderr",
     "output_type": "stream",
     "text": [
      "Epoch (train) 3/10: 100%|███████████████| 202/202 [36:16<00:00, 10.78s/it, accepor_recall=0.916, donor_recall=0.925, loss=0.000155, pred_l1_dist=0]\n"
     ]
    },
    {
     "name": "stdout",
     "output_type": "stream",
     "text": [
      "epoch: 3/10, train loss = 0.000167\n"
     ]
    },
    {
     "name": "stderr",
     "output_type": "stream",
     "text": [
      "Epoch (val) 3/10: 100%|███████████████████| 23/23 [05:28<00:00, 14.29s/it, accepor_recall=0.838, donor_recall=0.879, loss=0.000296, pred_l1_dist=0]\n"
     ]
    },
    {
     "name": "stdout",
     "output_type": "stream",
     "text": [
      "\n",
      "\u001b[1mAcceptor:\u001b[0m\n",
      "0.9748\t0.9056\t0.9822\t0.9903\t0.9435\t0.9402999877929688\t0.2362000048160553\t0.003100000089034438\t0.0006000000284984708\t21432\n",
      "\n",
      "\u001b[1mDonor:\u001b[0m\n",
      "0.9743\t0.9093\t0.986\t0.9936\t0.9475\t0.9692000150680542\t0.3628999888896942\t0.003700000001117587\t0.0005000000237487257\t21432\n",
      "epoch: 3/10, val loss = 0.000229\n"
     ]
    },
    {
     "name": "stderr",
     "output_type": "stream",
     "text": [
      "Epoch (train) 4/10: 100%|███████████████| 202/202 [36:20<00:00, 10.79s/it, accepor_recall=0.923, donor_recall=0.929, loss=0.000158, pred_l1_dist=0]\n"
     ]
    },
    {
     "name": "stdout",
     "output_type": "stream",
     "text": [
      "epoch: 4/10, train loss = 0.000147\n"
     ]
    },
    {
     "name": "stderr",
     "output_type": "stream",
     "text": [
      "Epoch (val) 4/10: 100%|███████████████████| 23/23 [06:15<00:00, 16.32s/it, accepor_recall=0.881, donor_recall=0.914, loss=0.000279, pred_l1_dist=0]\n"
     ]
    },
    {
     "name": "stdout",
     "output_type": "stream",
     "text": [
      "\n",
      "\u001b[1mAcceptor:\u001b[0m\n",
      "0.9749\t0.912\t0.9846\t0.991\t0.9474\t0.9492999911308289\t0.2865999937057495\t0.001500000013038516\t0.00019999999494757503\t21432\n",
      "\n",
      "\u001b[1mDonor:\u001b[0m\n",
      "0.9731\t0.9155\t0.9882\t0.9948\t0.9506\t0.9785000085830688\t0.4846000075340271\t0.0038999998942017555\t0.0003000000142492354\t21432\n",
      "epoch: 4/10, val loss = 0.000214\n"
     ]
    },
    {
     "name": "stderr",
     "output_type": "stream",
     "text": [
      "Epoch (train) 5/10: 100%|████████████████| 202/202 [36:10<00:00, 10.74s/it, accepor_recall=0.936, donor_recall=0.94, loss=0.000124, pred_l1_dist=0]\n"
     ]
    },
    {
     "name": "stdout",
     "output_type": "stream",
     "text": [
      "epoch: 5/10, train loss = 0.000134\n"
     ]
    },
    {
     "name": "stderr",
     "output_type": "stream",
     "text": [
      "Epoch (val) 5/10: 100%|████████████████████| 23/23 [05:24<00:00, 14.10s/it, accepor_recall=0.89, donor_recall=0.906, loss=0.000271, pred_l1_dist=0]\n"
     ]
    },
    {
     "name": "stdout",
     "output_type": "stream",
     "text": [
      "\n",
      "\u001b[1mAcceptor:\u001b[0m\n",
      "0.9757\t0.9188\t0.9839\t0.991\t0.9514\t0.9800999760627747\t0.3393000066280365\t0.0019000000320374966\t0.0003000000142492354\t21432\n",
      "\n",
      "\u001b[1mDonor:\u001b[0m\n",
      "0.9762\t0.9224\t0.9892\t0.9946\t0.9545\t0.9828000068664551\t0.4016999900341034\t0.001500000013038516\t0.00019999999494757503\t21432\n",
      "epoch: 5/10, val loss = 0.000203\n"
     ]
    },
    {
     "name": "stderr",
     "output_type": "stream",
     "text": [
      "Epoch (train) 6/10: 100%|███████████████| 202/202 [36:17<00:00, 10.78s/it, accepor_recall=0.942, donor_recall=0.945, loss=0.000138, pred_l1_dist=0]\n"
     ]
    },
    {
     "name": "stdout",
     "output_type": "stream",
     "text": [
      "epoch: 6/10, train loss = 0.000125\n"
     ]
    },
    {
     "name": "stderr",
     "output_type": "stream",
     "text": [
      "Epoch (val) 6/10: 100%|████████████████████| 23/23 [05:28<00:00, 14.30s/it, accepor_recall=0.868, donor_recall=0.86, loss=0.000277, pred_l1_dist=0]\n"
     ]
    },
    {
     "name": "stdout",
     "output_type": "stream",
     "text": [
      "\n",
      "\u001b[1mAcceptor:\u001b[0m\n",
      "0.9782\t0.9204\t0.9857\t0.9918\t0.9531\t0.9408000111579895\t0.24889999628067017\t0.003000000026077032\t0.0006000000284984708\t21432\n",
      "\n",
      "\u001b[1mDonor:\u001b[0m\n",
      "0.9741\t0.9162\t0.9881\t0.9944\t0.9521\t0.9455000162124634\t0.1891999989748001\t0.0017999999690800905\t0.0003000000142492354\t21432\n",
      "epoch: 6/10, val loss = 0.000210\n"
     ]
    },
    {
     "name": "stderr",
     "output_type": "stream",
     "text": [
      "Epoch (train) 7/10: 100%|████████████████| 202/202 [36:19<00:00, 10.79s/it, accepor_recall=0.94, donor_recall=0.952, loss=0.000117, pred_l1_dist=0]\n"
     ]
    },
    {
     "name": "stdout",
     "output_type": "stream",
     "text": [
      "epoch: 7/10, train loss = 0.000117\n"
     ]
    },
    {
     "name": "stderr",
     "output_type": "stream",
     "text": [
      "Epoch (val) 7/10: 100%|███████████████████| 23/23 [05:22<00:00, 14.02s/it, accepor_recall=0.912, donor_recall=0.922, loss=0.000252, pred_l1_dist=0]\n"
     ]
    },
    {
     "name": "stdout",
     "output_type": "stream",
     "text": [
      "\n",
      "\u001b[1mAcceptor:\u001b[0m\n",
      "0.9763\t0.9228\t0.9859\t0.9928\t0.9543\t0.989799976348877\t0.5268999934196472\t0.0031999999191612005\t0.0006000000284984708\t21432\n",
      "\n",
      "\u001b[1mDonor:\u001b[0m\n",
      "0.975\t0.9287\t0.9906\t0.995\t0.9594\t0.9854999780654907\t0.44769999384880066\t0.0019000000320374966\t0.0003000000142492354\t21432\n",
      "epoch: 7/10, val loss = 0.000188\n"
     ]
    },
    {
     "name": "stderr",
     "output_type": "stream",
     "text": [
      "Epoch (train) 8/10: 100%|████████████████| 202/202 [36:07<00:00, 10.73s/it, accepor_recall=0.957, donor_recall=0.959, loss=9.84e-5, pred_l1_dist=0]\n"
     ]
    },
    {
     "name": "stdout",
     "output_type": "stream",
     "text": [
      "epoch: 8/10, train loss = 0.000096\n"
     ]
    },
    {
     "name": "stderr",
     "output_type": "stream",
     "text": [
      "Epoch (val) 8/10: 100%|███████████████████| 23/23 [05:29<00:00, 14.34s/it, accepor_recall=0.918, donor_recall=0.928, loss=0.000228, pred_l1_dist=0]\n"
     ]
    },
    {
     "name": "stdout",
     "output_type": "stream",
     "text": [
      "\n",
      "\u001b[1mAcceptor:\u001b[0m\n",
      "0.9805\t0.9267\t0.9892\t0.9941\t0.959\t0.9861000180244446\t0.546999990940094\t0.004900000058114529\t0.0007999999797903001\t21432\n",
      "\n",
      "\u001b[1mDonor:\u001b[0m\n",
      "0.9775\t0.9299\t0.9922\t0.9955\t0.9621\t0.9858999848365784\t0.538100004196167\t0.004900000058114529\t0.0007999999797903001\t21432\n",
      "epoch: 8/10, val loss = 0.000170\n"
     ]
    },
    {
     "name": "stderr",
     "output_type": "stream",
     "text": [
      "Epoch (train) 9/10: 100%|█████████████████| 202/202 [36:15<00:00, 10.77s/it, accepor_recall=0.963, donor_recall=0.967, loss=7.9e-5, pred_l1_dist=0]\n"
     ]
    },
    {
     "name": "stdout",
     "output_type": "stream",
     "text": [
      "epoch: 9/10, train loss = 0.000081\n"
     ]
    },
    {
     "name": "stderr",
     "output_type": "stream",
     "text": [
      "Epoch (val) 9/10: 100%|███████████████████| 23/23 [05:24<00:00, 14.12s/it, accepor_recall=0.912, donor_recall=0.924, loss=0.000236, pred_l1_dist=0]\n"
     ]
    },
    {
     "name": "stdout",
     "output_type": "stream",
     "text": [
      "\n",
      "\u001b[1mAcceptor:\u001b[0m\n",
      "0.9794\t0.9299\t0.9891\t0.993\t0.9593\t0.9876000285148621\t0.41659998893737793\t0.0012000000569969416\t0.00019999999494757503\t21432\n",
      "\n",
      "\u001b[1mDonor:\u001b[0m\n",
      "0.9771\t0.9346\t0.9917\t0.9956\t0.962\t0.9853000044822693\t0.4300000071525574\t0.0010999999940395355\t0.00019999999494757503\t21432\n",
      "epoch: 9/10, val loss = 0.000176\n"
     ]
    },
    {
     "name": "stderr",
     "output_type": "stream",
     "text": [
      "Epoch (train) 10/10: 100%|███████████████| 202/202 [36:12<00:00, 10.75s/it, accepor_recall=0.964, donor_recall=0.968, loss=8.03e-5, pred_l1_dist=0]\n"
     ]
    },
    {
     "name": "stdout",
     "output_type": "stream",
     "text": [
      "epoch: 10/10, train loss = 0.000072\n"
     ]
    },
    {
     "name": "stderr",
     "output_type": "stream",
     "text": [
      "Epoch (val) 10/10: 100%|██████████████████| 23/23 [05:25<00:00, 14.14s/it, accepor_recall=0.916, donor_recall=0.929, loss=0.000238, pred_l1_dist=0]\n"
     ]
    },
    {
     "name": "stdout",
     "output_type": "stream",
     "text": [
      "\n",
      "\u001b[1mAcceptor:\u001b[0m\n",
      "0.9784\t0.9309\t0.989\t0.9931\t0.9588\t0.9883000254631042\t0.4521999955177307\t0.001500000013038516\t0.0003000000142492354\t21432\n",
      "\n",
      "\u001b[1mDonor:\u001b[0m\n",
      "0.9759\t0.9355\t0.9916\t0.9955\t0.9619\t0.9904999732971191\t0.476500004529953\t0.0008999999845400453\t9.999999747378752e-05\t21432\n",
      "epoch: 10/10, val loss = 0.000177\n"
     ]
    },
    {
     "data": {
      "image/png": "[encoded data removed]",
      "text/plain": [
       "<Figure size 432x288 with 1 Axes>"
      ]
     },
     "metadata": {
      "needs_background": "light"
     },
     "output_type": "display_data"
    },
    {
     "name": "stderr",
     "output_type": "stream",
     "text": [
      "Epoch (train) 1/10: 100%|███████████████| 202/202 [36:10<00:00, 10.75s/it, accepor_recall=0.864, donor_recall=0.879, loss=0.000232, pred_l1_dist=0]\n"
     ]
    },
    {
     "name": "stdout",
     "output_type": "stream",
     "text": [
      "epoch: 1/10, train loss = 0.007365\n"
     ]
    },
    {
     "name": "stderr",
     "output_type": "stream",
     "text": [
      "Epoch (val) 1/10: 100%|███████████████████| 23/23 [05:25<00:00, 14.14s/it, accepor_recall=0.888, donor_recall=0.883, loss=0.000425, pred_l1_dist=0]\n"
     ]
    },
    {
     "name": "stdout",
     "output_type": "stream",
     "text": [
      "\n",
      "\u001b[1mAcceptor:\u001b[0m\n",
      "0.9646\t0.8529\t0.9652\t0.9851\t0.9056\t0.9794999957084656\t0.7106999754905701\t0.04179999977350235\t0.004800000227987766\t21432\n",
      "\n",
      "\u001b[1mDonor:\u001b[0m\n",
      "0.9628\t0.8568\t0.9715\t0.9884\t0.9097\t0.9739000201225281\t0.6237000226974487\t0.031300000846385956\t0.003700000001117587\t21432\n",
      "epoch: 1/10, val loss = 0.000338\n"
     ]
    },
    {
     "name": "stderr",
     "output_type": "stream",
     "text": [
      "Epoch (train) 2/10: 100%|███████████████| 202/202 [36:06<00:00, 10.73s/it, accepor_recall=0.895, donor_recall=0.905, loss=0.000217, pred_l1_dist=0]\n"
     ]
    },
    {
     "name": "stdout",
     "output_type": "stream",
     "text": [
      "epoch: 2/10, train loss = 0.000193\n"
     ]
    },
    {
     "name": "stderr",
     "output_type": "stream",
     "text": [
      "Epoch (val) 2/10: 100%|███████████████████| 23/23 [05:19<00:00, 13.91s/it, accepor_recall=0.782, donor_recall=0.845, loss=0.000347, pred_l1_dist=0]\n"
     ]
    },
    {
     "name": "stdout",
     "output_type": "stream",
     "text": [
      "\n",
      "\u001b[1mAcceptor:\u001b[0m\n",
      "0.9581\t0.866\t0.9716\t0.9868\t0.912\t0.8734999895095825\t0.2694999873638153\t0.008700000122189522\t0.00139999995008111\t21432\n",
      "\n",
      "\u001b[1mDonor:\u001b[0m\n",
      "0.9694\t0.8917\t0.9843\t0.9932\t0.9359\t0.9416999816894531\t0.3386000096797943\t0.007799999788403511\t0.0012000000569969416\t21432\n",
      "epoch: 2/10, val loss = 0.000278\n"
     ]
    },
    {
     "name": "stderr",
     "output_type": "stream",
     "text": [
      "Epoch (train) 3/10: 100%|████████████████| 202/202 [36:11<00:00, 10.75s/it, accepor_recall=0.916, donor_recall=0.925, loss=0.00015, pred_l1_dist=0]\n"
     ]
    },
    {
     "name": "stdout",
     "output_type": "stream",
     "text": [
      "epoch: 3/10, train loss = 0.000165\n"
     ]
    },
    {
     "name": "stderr",
     "output_type": "stream",
     "text": [
      "Epoch (val) 3/10: 100%|████████████████████| 23/23 [05:26<00:00, 14.20s/it, accepor_recall=0.89, donor_recall=0.937, loss=0.000297, pred_l1_dist=0]\n"
     ]
    },
    {
     "name": "stdout",
     "output_type": "stream",
     "text": [
      "\n",
      "\u001b[1mAcceptor:\u001b[0m\n",
      "0.9762\t0.9125\t0.9842\t0.9927\t0.9484\t0.9836999773979187\t0.4462999999523163\t0.0019000000320374966\t0.00019999999494757503\t21432\n",
      "\n",
      "\u001b[1mDonor:\u001b[0m\n",
      "0.9741\t0.9175\t0.987\t0.994\t0.9506\t0.9947999715805054\t0.775600016117096\t0.004100000020116568\t0.00039999998989515007\t21432\n",
      "epoch: 3/10, val loss = 0.000223\n"
     ]
    },
    {
     "name": "stderr",
     "output_type": "stream",
     "text": [
      "Epoch (train) 4/10: 100%|███████████████| 202/202 [36:11<00:00, 10.75s/it, accepor_recall=0.923, donor_recall=0.932, loss=0.000147, pred_l1_dist=0]\n"
     ]
    },
    {
     "name": "stdout",
     "output_type": "stream",
     "text": [
      "epoch: 4/10, train loss = 0.000146\n"
     ]
    },
    {
     "name": "stderr",
     "output_type": "stream",
     "text": [
      "Epoch (val) 4/10: 100%|████████████████████| 23/23 [05:36<00:00, 14.65s/it, accepor_recall=0.917, donor_recall=0.94, loss=0.000272, pred_l1_dist=0]\n"
     ]
    },
    {
     "name": "stdout",
     "output_type": "stream",
     "text": [
      "\n",
      "\u001b[1mAcceptor:\u001b[0m\n",
      "0.9714\t0.9103\t0.9859\t0.9924\t0.9464\t0.9812999963760376\t0.6754999756813049\t0.008899999782443047\t0.0012000000569969416\t21432\n",
      "\n",
      "\u001b[1mDonor:\u001b[0m\n",
      "0.9712\t0.9151\t0.9895\t0.9952\t0.9503\t0.9854999780654907\t0.7609000205993652\t0.007899999618530273\t0.0008999999845400453\t21432\n",
      "epoch: 4/10, val loss = 0.000213\n"
     ]
    },
    {
     "name": "stderr",
     "output_type": "stream",
     "text": [
      "Epoch (train) 5/10: 100%|███████████████| 202/202 [36:12<00:00, 10.75s/it, accepor_recall=0.938, donor_recall=0.938, loss=0.000129, pred_l1_dist=0]\n"
     ]
    },
    {
     "name": "stdout",
     "output_type": "stream",
     "text": [
      "epoch: 5/10, train loss = 0.000132\n"
     ]
    },
    {
     "name": "stderr",
     "output_type": "stream",
     "text": [
      "Epoch (val) 5/10: 100%|████████████████████| 23/23 [05:25<00:00, 14.14s/it, accepor_recall=0.898, donor_recall=0.895, loss=0.00025, pred_l1_dist=0]\n"
     ]
    },
    {
     "name": "stdout",
     "output_type": "stream",
     "text": [
      "\n",
      "\u001b[1mAcceptor:\u001b[0m\n",
      "0.9754\t0.9216\t0.987\t0.9927\t0.9533\t0.9599000215530396\t0.4129999876022339\t0.003599999938160181\t0.000699999975040555\t21432\n",
      "\n",
      "\u001b[1mDonor:\u001b[0m\n",
      "0.9769\t0.9218\t0.9902\t0.9952\t0.9564\t0.964900016784668\t0.3400000035762787\t0.0017999999690800905\t0.0003000000142492354\t21432\n",
      "epoch: 5/10, val loss = 0.000190\n"
     ]
    },
    {
     "name": "stderr",
     "output_type": "stream",
     "text": [
      "Epoch (train) 6/10: 100%|███████████████| 202/202 [36:04<00:00, 10.72s/it, accepor_recall=0.939, donor_recall=0.944, loss=0.000138, pred_l1_dist=0]\n"
     ]
    },
    {
     "name": "stdout",
     "output_type": "stream",
     "text": [
      "epoch: 6/10, train loss = 0.000123\n"
     ]
    },
    {
     "name": "stderr",
     "output_type": "stream",
     "text": [
      "Epoch (val) 6/10: 100%|███████████████████| 23/23 [05:25<00:00, 14.15s/it, accepor_recall=0.906, donor_recall=0.913, loss=0.000256, pred_l1_dist=0]\n"
     ]
    },
    {
     "name": "stdout",
     "output_type": "stream",
     "text": [
      "\n",
      "\u001b[1mAcceptor:\u001b[0m\n",
      "0.9768\t0.9228\t0.9865\t0.9929\t0.954\t0.9702000021934509\t0.43209999799728394\t0.0020000000949949026\t0.0003000000142492354\t21432\n",
      "\n",
      "\u001b[1mDonor:\u001b[0m\n",
      "0.9748\t0.9251\t0.9898\t0.9948\t0.956\t0.9653000235557556\t0.3691999912261963\t0.00139999995008111\t0.00019999999494757503\t21432\n",
      "epoch: 6/10, val loss = 0.000192\n"
     ]
    },
    {
     "name": "stderr",
     "output_type": "stream",
     "text": [
      "Epoch (train) 7/10: 100%|███████████████| 202/202 [36:00<00:00, 10.70s/it, accepor_recall=0.943, donor_recall=0.948, loss=0.000144, pred_l1_dist=0]\n"
     ]
    },
    {
     "name": "stdout",
     "output_type": "stream",
     "text": [
      "epoch: 7/10, train loss = 0.000115\n"
     ]
    },
    {
     "name": "stderr",
     "output_type": "stream",
     "text": [
      "Epoch (val) 7/10: 100%|████████████████████| 23/23 [05:26<00:00, 14.20s/it, accepor_recall=0.856, donor_recall=0.87, loss=0.000283, pred_l1_dist=0]\n"
     ]
    },
    {
     "name": "stdout",
     "output_type": "stream",
     "text": [
      "\n",
      "\u001b[1mAcceptor:\u001b[0m\n",
      "0.9784\t0.915\t0.9856\t0.9928\t0.9506\t0.9333999752998352\t0.19460000097751617\t0.0020000000949949026\t0.0003000000142492354\t21432\n",
      "\n",
      "\u001b[1mDonor:\u001b[0m\n",
      "0.9746\t0.9195\t0.9889\t0.9938\t0.9525\t0.9412999749183655\t0.24490000307559967\t0.0026000000070780516\t0.0005000000237487257\t21432\n",
      "epoch: 7/10, val loss = 0.000218\n"
     ]
    },
    {
     "name": "stderr",
     "output_type": "stream",
     "text": [
      "Epoch (train) 8/10: 100%|███████████████| 202/202 [36:12<00:00, 10.75s/it, accepor_recall=0.959, donor_recall=0.965, loss=0.000105, pred_l1_dist=0]\n"
     ]
    },
    {
     "name": "stdout",
     "output_type": "stream",
     "text": [
      "epoch: 8/10, train loss = 0.000095\n"
     ]
    },
    {
     "name": "stderr",
     "output_type": "stream",
     "text": [
      "Epoch (val) 8/10: 100%|███████████████████| 23/23 [05:33<00:00, 14.49s/it, accepor_recall=0.891, donor_recall=0.906, loss=0.000253, pred_l1_dist=0]\n"
     ]
    },
    {
     "name": "stdout",
     "output_type": "stream",
     "text": [
      "\n",
      "\u001b[1mAcceptor:\u001b[0m\n",
      "0.9792\t0.9232\t0.9854\t0.9924\t0.9547\t0.9674000144004822\t0.29989999532699585\t0.002199999988079071\t0.00039999998989515007\t21432\n",
      "\n",
      "\u001b[1mDonor:\u001b[0m\n",
      "0.9784\t0.924\t0.9901\t0.9953\t0.9572\t0.9825000166893005\t0.3416999876499176\t0.0017000000225380063\t0.0003000000142492354\t21432\n",
      "epoch: 8/10, val loss = 0.000194\n"
     ]
    },
    {
     "name": "stderr",
     "output_type": "stream",
     "text": [
      "Epoch (train) 9/10: 100%|████████████████| 202/202 [36:09<00:00, 10.74s/it, accepor_recall=0.965, donor_recall=0.966, loss=8.03e-5, pred_l1_dist=0]\n"
     ]
    },
    {
     "name": "stdout",
     "output_type": "stream",
     "text": [
      "epoch: 9/10, train loss = 0.000081\n"
     ]
    },
    {
     "name": "stderr",
     "output_type": "stream",
     "text": [
      "Epoch (val) 9/10: 100%|████████████████████| 23/23 [05:28<00:00, 14.27s/it, accepor_recall=0.917, donor_recall=0.931, loss=0.00023, pred_l1_dist=0]\n"
     ]
    },
    {
     "name": "stdout",
     "output_type": "stream",
     "text": [
      "\n",
      "\u001b[1mAcceptor:\u001b[0m\n",
      "0.9774\t0.9297\t0.9889\t0.9944\t0.9584\t0.9822999835014343\t0.5586000084877014\t0.003000000026077032\t0.0005000000237487257\t21432\n",
      "\n",
      "\u001b[1mDonor:\u001b[0m\n",
      "0.977\t0.9332\t0.9915\t0.9952\t0.9596\t0.9804999828338623\t0.5296000242233276\t0.00279999990016222\t0.00039999998989515007\t21432\n",
      "epoch: 9/10, val loss = 0.000172\n"
     ]
    },
    {
     "name": "stderr",
     "output_type": "stream",
     "text": [
      "Epoch (train) 10/10: 100%|████████████████| 202/202 [36:03<00:00, 10.71s/it, accepor_recall=0.968, donor_recall=0.97, loss=7.63e-5, pred_l1_dist=0]\n"
     ]
    },
    {
     "name": "stdout",
     "output_type": "stream",
     "text": [
      "epoch: 10/10, train loss = 0.000071\n"
     ]
    },
    {
     "name": "stderr",
     "output_type": "stream",
     "text": [
      "Epoch (val) 10/10: 100%|██████████████████| 23/23 [05:29<00:00, 14.34s/it, accepor_recall=0.911, donor_recall=0.923, loss=0.000245, pred_l1_dist=0]\n"
     ]
    },
    {
     "name": "stdout",
     "output_type": "stream",
     "text": [
      "\n",
      "\u001b[1mAcceptor:\u001b[0m\n",
      "0.9774\t0.9298\t0.987\t0.9928\t0.9568\t0.9853000044822693\t0.4465000033378601\t0.00139999995008111\t0.00019999999494757503\t21432\n",
      "\n",
      "\u001b[1mDonor:\u001b[0m\n",
      "0.9798\t0.9324\t0.9906\t0.9947\t0.9587\t0.9846000075340271\t0.42309999465942383\t0.0010000000474974513\t0.00019999999494757503\t21432\n",
      "epoch: 10/10, val loss = 0.000184\n"
     ]
    },
    {
     "data": {
      "image/png": "[encoded data removed]",
      "text/plain": [
       "<Figure size 432x288 with 1 Axes>"
      ]
     },
     "metadata": {
      "needs_background": "light"
     },
     "output_type": "display_data"
    }
   ],
   "source": [
    "device = torch.device(\"cuda\" if torch.cuda.is_available() else \"cpu\")\n",
    "epochs = 10\n",
    "hs = []\n",
    "\n",
    "parameters = [2048,1024,512,256,128]\n",
    "\n",
    "for model_nr in range(5):\n",
    "    model_m = SpliceFormer(CL_max,mlp_dim = parameters[model_nr])\n",
    "    model_m.apply(keras_init)\n",
    "    model_m = model_m.to(device)\n",
    "    if torch.cuda.device_count() > 1:\n",
    "        #print(\"Let's use\", torch.cuda.device_count(), \"GPUs!\")\n",
    "        # dim = 0 [30, xxx] -> [10, ...], [10, ...], [10, ...] on 3 GPUs\n",
    "        model_m = nn.DataParallel(model_m)\n",
    "    \n",
    "    modelFileName = '../Results/PyTorch_Models/transformer_encoder_40k_ablation_mlp_dim_2_{}'.format(parameters[model_nr])\n",
    "    #model_m.load_state_dict(torch.load('../Results/PyTorch_Models/SpliceAI_Ensembl_dgxtest_{}'.format(0)))\n",
    "    #loss = nn.CrossEntropyLoss(weight=torch.from_numpy(weights).float().to(device),ignore_index=-1,reduction='mean')\n",
    "    loss = categorical_crossentropy_2d().loss\n",
    "    #loss = nn.KLDivLoss()\n",
    "    learning_rate= k*1e-3\n",
    "    optimizer = torch.optim.Adam(model_m.parameters(), lr=learning_rate)\n",
    "    scheduler = torch.optim.lr_scheduler.StepLR(optimizer, step_size=1, gamma=0.5)\n",
    "    warmup = get_constant_schedule_with_warmup(optimizer, num_warmup_steps=1000)\n",
    "    h = trainModel(model_m,modelFileName,loss,train_loader,val_loader,optimizer,scheduler,warmup,BATCH_SIZE,epochs,device)\n",
    "    hs.append(h)\n",
    "\n",
    "    plt.plot(range(epochs),h['loss'],label='Train')\n",
    "    plt.plot(range(epochs),h['val_loss'],label='Validation')\n",
    "    plt.xlabel('Epoch')\n",
    "    plt.ylabel('Loss')\n",
    "    plt.legend()\n",
    "    plt.show()"
   ]
  },
  {
   "cell_type": "code",
   "execution_count": 1,
   "metadata": {},
   "outputs": [],
   "source": [
    "import matplotlib.pyplot as plt"
   ]
  },
  {
   "cell_type": "code",
   "execution_count": 5,
   "metadata": {},
   "outputs": [
    {
     "data": {
      "image/png": "[encoded data removed]",
      "text/plain": [
       "<Figure size 720x288 with 2 Axes>"
      ]
     },
     "metadata": {
      "needs_background": "light"
     },
     "output_type": "display_data"
    }
   ],
   "source": [
    "fig, (ax1,ax2) = plt.subplots(1, 2,figsize=(10,4))\n",
    "x = [2048,1024,512,256,128]\n",
    "y1 = [0.000171,0.000170,0.000178,0.000173,0.000178]\n",
    "ax1.plot(x,y1,'--')\n",
    "ax1.scatter(x,y1,label='Run 1')\n",
    "y2 = [0.000181,0.000178,0.000175,0.000177,0.000184]\n",
    "ax1.plot(x,y2,'--')\n",
    "ax1.scatter(x,y2,label='Run 2')\n",
    "ax1.set(xlabel = 'Feedforward Dimension',ylabel='Cross entropy')\n",
    "\n",
    "prauc1 = [(0.9565+0.9606)/2,(0.9584+0.963)/2,(0.9565+0.9611)/2,(0.9577+0.9606)/2,(0.9569+0.9567)/2]\n",
    "ax2.plot(x,prauc1,'--')\n",
    "ax2.scatter(x,prauc1,label='Run 1')\n",
    "prauc2 = [(0.9559+0.96)/2,(0.9551+0.9567)/2,(0.9585+0.9625)/2,(0.9588+0.9619)/2,(0.9568+0.9587)/2]\n",
    "ax2.plot(x,prauc2,'--')\n",
    "ax2.scatter(x,prauc2,label='Run 2')\n",
    "ax2.set(xlabel = 'Feedforward Dimension',ylabel='PR-AUC')\n",
    "#ax2.ylabel('PR-AUC')\n",
    "#ax2.xlabel('No. transformer blocks')\n",
    "fig.tight_layout()\n",
    "\n",
    "ax1.legend()\n",
    "ax2.legend()\n",
    "plt.savefig('../Results/ablation_Feedforward_Dimension.png',dpi=300)\n",
    "plt.show()"
   ]
  },
  {
   "cell_type": "code",
   "execution_count": 12,
   "metadata": {},
   "outputs": [
    {
     "name": "stderr",
     "output_type": "stream",
     "text": [
      "100%|███████████████████████████████████████████████████████████████████████████████████| 17/17 [06:36<00:00, 23.30s/it]\n"
     ]
    }
   ],
   "source": [
    "device = torch.device(\"cuda\" if torch.cuda.is_available() else \"cpu\")\n",
    "h5f = h5py.File('/odinn/tmp/benediktj/Data/SplicePrediction/gencode_40k_dataset_test_.h5')\n",
    "\n",
    "num_idx = len(h5f.keys())//2\n",
    "\n",
    "test_dataset = h5pyDataset(h5f,list(range(num_idx)))\n",
    "test_loader = torch.utils.data.DataLoader(test_dataset, batch_size=1, shuffle=False, num_workers=0)\n",
    "\n",
    "temp = 1\n",
    "n_models = 5\n",
    "device = torch.device(\"cuda\" if torch.cuda.is_available() else \"cpu\")\n",
    "model_m = SpliceFormer(CL_max)\n",
    "model_m.apply(keras_init)\n",
    "model_m = model_m.to(device)\n",
    "\n",
    "if torch.cuda.device_count() > 1:\n",
    "    model_m = nn.DataParallel(model_m)\n",
    "\n",
    "output_class_labels = ['Null', 'Acceptor', 'Donor']\n",
    "\n",
    "#for output_class in [1,2]:\n",
    "models = [copy.deepcopy(model_m) for i in range(n_models)]\n",
    "[model.load_state_dict(torch.load('../Results/PyTorch_Models/transformer_encoder_40k_030522_{}'.format(i))) for i,model in enumerate(models)]\n",
    "\n",
    "for model in models:\n",
    "    model.eval()\n",
    "    \n",
    "Y_true_acceptor, Y_pred_acceptor = [],[]\n",
    "Y_true_donor, Y_pred_donor = [],[]\n",
    "\n",
    "for (batch_chunks,target_chunks) in tqdm(test_loader):\n",
    "    batch_chunks = torch.transpose(batch_chunks[0].to(device),1,2)\n",
    "    target_chunks = torch.transpose(torch.squeeze(target_chunks[0].to(device),0),1,2)\n",
    "    #print(np.max(target_chunks.cpu().numpy()[:,2,:]))\n",
    "    n_chunks = int(np.ceil(batch_chunks.shape[0]/BATCH_SIZE))\n",
    "    batch_chunks = torch.chunk(batch_chunks, n_chunks, dim=0)\n",
    "    target_chunks = torch.chunk(target_chunks, n_chunks, dim=0)\n",
    "    targets_list = []\n",
    "    outputs_list = []\n",
    "    for j in range(len(batch_chunks)):\n",
    "        batch_features = batch_chunks[j]\n",
    "        targets = target_chunks[j]\n",
    "        outputs = ([models[i](batch_features)[1].detach() for i in range(n_models)])\n",
    "        outputs = (outputs[0]+outputs[1]+outputs[2]+outputs[3]+outputs[4])/n_models\n",
    "        #outputs = (outputs[0]+outputs[1]+outputs[2])/n_models\n",
    "        targets_list.extend(targets.unsqueeze(0))\n",
    "        outputs_list.extend(outputs.unsqueeze(0))\n",
    "\n",
    "    targets = torch.transpose(torch.vstack(targets_list),1,2).cpu().numpy()\n",
    "    outputs = torch.transpose(torch.vstack(outputs_list),1,2).cpu().numpy()\n",
    "\n",
    "    is_expr = (targets.sum(axis=(1,2)) >= 1)\n",
    "    Y_true_acceptor.extend(targets[is_expr, :, 1].flatten())\n",
    "    Y_true_donor.extend(targets[is_expr, :, 2].flatten())\n",
    "    Y_pred_acceptor.extend(outputs[is_expr, :, 1].flatten())\n",
    "    Y_pred_donor.extend(outputs[is_expr, :, 2].flatten())"
   ]
  },
  {
   "cell_type": "code",
   "execution_count": 13,
   "metadata": {},
   "outputs": [
    {
     "name": "stdout",
     "output_type": "stream",
     "text": [
      "\n",
      "\u001b[1mAcceptor:\u001b[0m\n",
      "0.9961\t0.9486\t0.9881\t0.9913\t0.9779\t0.9782999753952026\t0.3280999958515167\t0.002899999963119626\t0.0005000000237487257\t14289\n",
      "\n",
      "\u001b[1mDonor:\u001b[0m\n",
      "0.9958\t0.9523\t0.9896\t0.9921\t0.9797\t0.9785000085830688\t0.33739998936653137\t0.002199999988079071\t0.0003000000142492354\t14289\n"
     ]
    }
   ],
   "source": [
    "Y_true_acceptor, Y_pred_acceptor,Y_true_donor, Y_pred_donor = np.array(Y_true_acceptor), np.array(Y_pred_acceptor),np.array(Y_true_donor), np.array(Y_pred_donor)\n",
    "print(\"\\n\\033[1m{}:\\033[0m\".format('Acceptor'))\n",
    "acceptor_val_results = print_topl_statistics(Y_true_acceptor, Y_pred_acceptor)\n",
    "print(\"\\n\\033[1m{}:\\033[0m\".format('Donor'))\n",
    "donor_val_results =print_topl_statistics(Y_true_donor, Y_pred_donor)"
   ]
  },
  {
   "cell_type": "code",
   "execution_count": 19,
   "metadata": {},
   "outputs": [
    {
     "data": {
      "text/plain": [
       "0.95045"
      ]
     },
     "execution_count": 19,
     "metadata": {},
     "output_type": "execute_result"
    }
   ],
   "source": [
    "(0.9486+0.9523)/2"
   ]
  },
  {
   "cell_type": "code",
   "execution_count": 18,
   "metadata": {},
   "outputs": [
    {
     "data": {
      "text/plain": [
       "0.9788"
      ]
     },
     "execution_count": 18,
     "metadata": {},
     "output_type": "execute_result"
    }
   ],
   "source": [
    "(0.9779+0.9797)/2"
   ]
  },
  {
   "cell_type": "code",
   "execution_count": 14,
   "metadata": {},
   "outputs": [],
   "source": [
    "setType = 'test'\n",
    "annotation_test, transcriptToLabel_test, seqData = getData(data_dir, setType)    \n"
   ]
  },
  {
   "cell_type": "code",
   "execution_count": 15,
   "metadata": {
    "scrolled": true
   },
   "outputs": [
    {
     "name": "stderr",
     "output_type": "stream",
     "text": [
      "100%|████████████████████████████████████████████████████████████████████████████████| 90/90 [4:22:57<00:00, 175.30s/it]\n"
     ]
    }
   ],
   "source": [
    "temp = 1\n",
    "n_models = 5\n",
    "device = torch.device(\"cuda\" if torch.cuda.is_available() else \"cpu\")\n",
    "model_m = SpliceFormer(CL_max)\n",
    "model_m.apply(keras_init)\n",
    "model_m = model_m.to(device)\n",
    "\n",
    "if torch.cuda.device_count() > 1:\n",
    "    model_m = nn.DataParallel(model_m)\n",
    "\n",
    "output_class_labels = ['Null', 'Acceptor', 'Donor']\n",
    "\n",
    "#for output_class in [1,2]:\n",
    "models = [copy.deepcopy(model_m) for i in range(n_models)]\n",
    "[model.load_state_dict(torch.load('../Results/PyTorch_Models/transformer_encoder_40k_030522_{}'.format(i))) for i,model in enumerate(models)]\n",
    "#nr = [0,2,3]\n",
    "#[model.load_state_dict(torch.load('../Results/PyTorch_Models/transformer_encoder_40k_201221_{}'.format(nr[i]))) for i,model in enumerate(models)]\n",
    "#chunkSize = num_idx/10\n",
    "for model in models:\n",
    "    model.eval()\n",
    "\n",
    "Y_true_acceptor, Y_pred_acceptor = [],[]\n",
    "Y_true_donor, Y_pred_donor = [],[]\n",
    "test_dataset = spliceDataset(annotation_test,transcriptToLabel_test,SL,CL_max)\n",
    "test_dataset.seqData = seqData\n",
    "test_loader = torch.utils.data.DataLoader(test_dataset, batch_size=100, shuffle=False, num_workers=0,collate_fn=collate_fn, pin_memory=True)\n",
    "\n",
    "\n",
    "for (batch_chunks,target_chunks) in tqdm(test_loader):\n",
    "    batch_chunks = torch.transpose(batch_chunks.to(device),1,2)\n",
    "    target_chunks = torch.transpose(torch.squeeze(target_chunks.to(device),0),1,2)\n",
    "    batch_chunks = torch.split(batch_chunks, BATCH_SIZE, dim=0)\n",
    "    target_chunks = torch.split(target_chunks, BATCH_SIZE, dim=0)\n",
    "    targets_list = []\n",
    "    outputs_list = []\n",
    "    for j in range(len(batch_chunks)):\n",
    "        batch_features = batch_chunks[j]\n",
    "        targets = target_chunks[j]\n",
    "        outputs = ([models[i](batch_features)[1].detach() for i in range(n_models)])\n",
    "        outputs = (outputs[0]+outputs[1]+outputs[2]+outputs[3]+outputs[4])/n_models\n",
    "        #outputs = (outputs[0]+outputs[1]+outputs[2])/n_models\n",
    "        targets_list.extend(targets.unsqueeze(0))\n",
    "        outputs_list.extend(outputs.unsqueeze(0))\n",
    "\n",
    "    targets = torch.transpose(torch.vstack(targets_list),1,2).cpu().numpy()\n",
    "    outputs = torch.transpose(torch.vstack(outputs_list),1,2).cpu().numpy()\n",
    "\n",
    "    is_expr = (targets.sum(axis=(1,2)) >= 1)\n",
    "    Y_true_acceptor.extend(targets[is_expr, :, 1].flatten())\n",
    "    Y_true_donor.extend(targets[is_expr, :, 2].flatten())\n",
    "    Y_pred_acceptor.extend(outputs[is_expr, :, 1].flatten())\n",
    "    Y_pred_donor.extend(outputs[is_expr, :, 2].flatten())\n",
    "\n"
   ]
  },
  {
   "cell_type": "code",
   "execution_count": 16,
   "metadata": {},
   "outputs": [
    {
     "name": "stdout",
     "output_type": "stream",
     "text": [
      "\n",
      "\u001b[1mAcceptor:\u001b[0m\n",
      "0.9821\t0.9399\t0.9919\t0.9958\t0.9675\t0.9814000129699707\t0.45570001006126404\t0.0026000000070780516\t0.00039999998989515007\t89712\n",
      "\n",
      "\u001b[1mDonor:\u001b[0m\n",
      "0.9832\t0.9446\t0.9941\t0.997\t0.9713\t0.9811999797821045\t0.4941999912261963\t0.002099999925121665\t0.0003000000142492354\t89712\n"
     ]
    }
   ],
   "source": [
    "Y_true_acceptor, Y_pred_acceptor,Y_true_donor, Y_pred_donor = np.array(Y_true_acceptor), np.array(Y_pred_acceptor),np.array(Y_true_donor), np.array(Y_pred_donor)\n",
    "print(\"\\n\\033[1m{}:\\033[0m\".format('Acceptor'))\n",
    "acceptor_val_results = print_topl_statistics(Y_true_acceptor, Y_pred_acceptor)\n",
    "print(\"\\n\\033[1m{}:\\033[0m\".format('Donor'))\n",
    "donor_val_results =print_topl_statistics(Y_true_donor, Y_pred_donor)"
   ]
  },
  {
   "cell_type": "code",
   "execution_count": 20,
   "metadata": {},
   "outputs": [
    {
     "data": {
      "text/plain": [
       "0.94225"
      ]
     },
     "execution_count": 20,
     "metadata": {},
     "output_type": "execute_result"
    }
   ],
   "source": [
    "(0.9399+0.9446)/2"
   ]
  },
  {
   "cell_type": "code",
   "execution_count": 17,
   "metadata": {},
   "outputs": [
    {
     "data": {
      "text/plain": [
       "0.9694"
      ]
     },
     "execution_count": 17,
     "metadata": {},
     "output_type": "execute_result"
    }
   ],
   "source": [
    "(0.9675+0.9713)/2"
   ]
  }
 ],
 "metadata": {
  "kernelspec": {
   "display_name": "Python 3 (ipykernel)",
   "language": "python",
   "name": "python3"
  },
  "language_info": {
   "codemirror_mode": {
    "name": "ipython",
    "version": 3
   },
   "file_extension": ".py",
   "mimetype": "text/x-python",
   "name": "python",
   "nbconvert_exporter": "python",
   "pygments_lexer": "ipython3",
   "version": "3.9.1"
  }
 },
 "nbformat": 4,
 "nbformat_minor": 4
}
