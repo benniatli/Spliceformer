{
 "cells": [
  {
   "cell_type": "code",
   "execution_count": 1,
   "metadata": {},
   "outputs": [],
   "source": [
    "import numpy as np\n",
    "import sys\n",
    "import time\n",
    "import h5py\n",
    "from tqdm import tqdm\n",
    "\n",
    "import numpy as np\n",
    "import re\n",
    "from math import ceil\n",
    "from sklearn.metrics import average_precision_score\n",
    "from torch.utils.data import Dataset\n",
    "import torch\n",
    "import torch.nn as nn\n",
    "import pandas as pd\n",
    "import matplotlib.pyplot as plt\n",
    "import pickle\n",
    "#import pickle5 as pickle\n",
    "\n",
    "from sklearn.model_selection import train_test_split\n",
    "\n",
    "from scipy.sparse import load_npz\n",
    "from glob import glob\n",
    "\n",
    "from transformers import get_constant_schedule_with_warmup\n",
    "from sklearn.metrics import precision_score,recall_score,accuracy_score\n",
    "import copy\n",
    "\n",
    "from src.train import trainModel\n",
    "from src.dataloader import getData,spliceDataset,h5pyDataset,collate_fn\n",
    "from src.weight_init import keras_init\n",
    "from src.losses import categorical_crossentropy_2d\n",
    "from src.models import SpliceFormer\n",
    "from src.evaluation_metrics import print_topl_statistics\n",
    "#import tensorflow as tf"
   ]
  },
  {
   "cell_type": "code",
   "execution_count": 2,
   "metadata": {},
   "outputs": [
    {
     "name": "stdout",
     "output_type": "stream",
     "text": [
      "Wed Jun 15 12:20:56 2022       \n",
      "+-----------------------------------------------------------------------------+\n",
      "| NVIDIA-SMI 450.80.02    Driver Version: 450.80.02    CUDA Version: 11.4     |\n",
      "|-------------------------------+----------------------+----------------------+\n",
      "| GPU  Name        Persistence-M| Bus-Id        Disp.A | Volatile Uncorr. ECC |\n",
      "| Fan  Temp  Perf  Pwr:Usage/Cap|         Memory-Usage | GPU-Util  Compute M. |\n",
      "|                               |                      |               MIG M. |\n",
      "|===============================+======================+======================|\n",
      "|   0  Tesla V100-SXM2...  On   | 00000000:06:00.0 Off |                    0 |\n",
      "| N/A   30C    P0    54W / 300W |      0MiB / 32510MiB |      0%      Default |\n",
      "|                               |                      |                  N/A |\n",
      "+-------------------------------+----------------------+----------------------+\n",
      "|   1  Tesla V100-SXM2...  On   | 00000000:07:00.0 Off |                    0 |\n",
      "| N/A   29C    P0    42W / 300W |      0MiB / 32510MiB |      0%      Default |\n",
      "|                               |                      |                  N/A |\n",
      "+-------------------------------+----------------------+----------------------+\n",
      "|   2  Tesla V100-SXM2...  On   | 00000000:0A:00.0 Off |                    0 |\n",
      "| N/A   29C    P0    43W / 300W |      0MiB / 32510MiB |      0%      Default |\n",
      "|                               |                      |                  N/A |\n",
      "+-------------------------------+----------------------+----------------------+\n",
      "|   3  Tesla V100-SXM2...  On   | 00000000:0B:00.0 Off |                    0 |\n",
      "| N/A   28C    P0    42W / 300W |      0MiB / 32510MiB |      0%      Default |\n",
      "|                               |                      |                  N/A |\n",
      "+-------------------------------+----------------------+----------------------+\n",
      "|   4  Tesla V100-SXM2...  On   | 00000000:85:00.0 Off |                    0 |\n",
      "| N/A   30C    P0    41W / 300W |      0MiB / 32510MiB |      0%      Default |\n",
      "|                               |                      |                  N/A |\n",
      "+-------------------------------+----------------------+----------------------+\n",
      "|   5  Tesla V100-SXM2...  On   | 00000000:86:00.0 Off |                    0 |\n",
      "| N/A   30C    P0    42W / 300W |      0MiB / 32510MiB |      0%      Default |\n",
      "|                               |                      |                  N/A |\n",
      "+-------------------------------+----------------------+----------------------+\n",
      "|   6  Tesla V100-SXM2...  On   | 00000000:89:00.0 Off |                    0 |\n",
      "| N/A   31C    P0    42W / 300W |      0MiB / 32510MiB |      0%      Default |\n",
      "|                               |                      |                  N/A |\n",
      "+-------------------------------+----------------------+----------------------+\n",
      "|   7  Tesla V100-SXM2...  On   | 00000000:8A:00.0 Off |                    0 |\n",
      "| N/A   29C    P0    42W / 300W |      0MiB / 32510MiB |      0%      Default |\n",
      "|                               |                      |                  N/A |\n",
      "+-------------------------------+----------------------+----------------------+\n",
      "                                                                               \n",
      "+-----------------------------------------------------------------------------+\n",
      "| Processes:                                                                  |\n",
      "|  GPU   GI   CI        PID   Type   Process name                  GPU Memory |\n",
      "|        ID   ID                                                   Usage      |\n",
      "|=============================================================================|\n",
      "|  No running processes found                                                 |\n",
      "+-----------------------------------------------------------------------------+\n"
     ]
    }
   ],
   "source": [
    "!nvidia-smi"
   ]
  },
  {
   "cell_type": "code",
   "execution_count": 3,
   "metadata": {},
   "outputs": [],
   "source": [
    "#!pip install pickle5"
   ]
  },
  {
   "cell_type": "code",
   "execution_count": 4,
   "metadata": {},
   "outputs": [],
   "source": [
    "rng = np.random.default_rng(23673)"
   ]
  },
  {
   "cell_type": "code",
   "execution_count": 5,
   "metadata": {},
   "outputs": [],
   "source": [
    "#gtf = None"
   ]
  },
  {
   "cell_type": "code",
   "execution_count": 6,
   "metadata": {},
   "outputs": [],
   "source": [
    "L = 32\n",
    "N_GPUS = 8\n",
    "k = 1\n",
    "# Hyper-parameters:\n",
    "# L: Number of convolution kernels\n",
    "# W: Convolution window size in each residual unit\n",
    "# AR: Atrous rate in each residual unit\n",
    "\n",
    "W = np.asarray([11, 11, 11, 11, 11, 11, 11, 11,\n",
    "                21, 21, 21, 21, 41, 41, 41, 41])\n",
    "AR = np.asarray([1, 1, 1, 1, 4, 4, 4, 4,\n",
    "                 10, 10, 10, 10, 25, 25, 25, 25])\n",
    "BATCH_SIZE = k*6*N_GPUS\n",
    "\n",
    "\n",
    "CL = 2 * np.sum(AR*(W-1))"
   ]
  },
  {
   "cell_type": "code",
   "execution_count": 7,
   "metadata": {},
   "outputs": [],
   "source": [
    "data_dir = '/odinn/tmp/benediktj/Data/SplicePrediction-050422'\n",
    "setType = 'train'\n",
    "annotation, transcriptToLabel, seqData = getData(data_dir, setType)"
   ]
  },
  {
   "cell_type": "code",
   "execution_count": 8,
   "metadata": {},
   "outputs": [],
   "source": [
    "# Maximum nucleotide context length (CL_max/2 on either side of the \n",
    "# position of interest)\n",
    "# CL_max should be an even number\n",
    "# Sequence length of SpliceAIs (SL+CL will be the input length and\n",
    "# SL will be the output length)\n",
    "\n",
    "SL=5000\n",
    "CL_max=40000"
   ]
  },
  {
   "cell_type": "code",
   "execution_count": 9,
   "metadata": {},
   "outputs": [],
   "source": [
    "assert CL_max % 2 == 0"
   ]
  },
  {
   "cell_type": "code",
   "execution_count": 10,
   "metadata": {},
   "outputs": [],
   "source": [
    "train_gene, validation_gene = train_test_split(annotation['gene'].drop_duplicates(),test_size=.1,random_state=435)\n",
    "annotation_train = annotation[annotation['gene'].isin(train_gene)]\n",
    "annotation_validation = annotation[annotation['gene'].isin(validation_gene)]"
   ]
  },
  {
   "cell_type": "code",
   "execution_count": 11,
   "metadata": {},
   "outputs": [],
   "source": [
    "train_dataset = spliceDataset(annotation_train,transcriptToLabel,SL,CL_max)\n",
    "val_dataset = spliceDataset(annotation_validation,transcriptToLabel,SL,CL_max)\n",
    "train_dataset.seqData = seqData\n",
    "val_dataset.seqData = seqData\n",
    "\n",
    "train_loader = torch.utils.data.DataLoader(train_dataset, batch_size=k*100, shuffle=True, num_workers=16,collate_fn=collate_fn, pin_memory=True)\n",
    "val_loader = torch.utils.data.DataLoader(val_dataset, batch_size=k*100, shuffle=False,collate_fn=collate_fn, num_workers=16)"
   ]
  },
  {
   "cell_type": "code",
   "execution_count": 12,
   "metadata": {
    "scrolled": true
   },
   "outputs": [
    {
     "name": "stderr",
     "output_type": "stream",
     "text": [
      "Epoch (train) 1/10: 100%|██████████████████████████████████████████████████████| 202/202 [36:49<00:00, 10.94s/it, accepor_recall=0.873, donor_recall=0.887, loss=0.000204, pred_l1_dist=0]\n"
     ]
    },
    {
     "name": "stdout",
     "output_type": "stream",
     "text": [
      "epoch: 1/10, train loss = 0.007961\n"
     ]
    },
    {
     "name": "stderr",
     "output_type": "stream",
     "text": [
      "Epoch (val) 1/10: 100%|█| 23/23 [06:25<00:00, 16.78s/it, accepor_recall=0.816, donor_recall=0.875, loss=0.000345\n"
     ]
    },
    {
     "name": "stdout",
     "output_type": "stream",
     "text": [
      "\n",
      "\u001b[1mAcceptor:\u001b[0m\n",
      "0.9677\t0.8815\t0.9747\t0.9871\t0.9273\t0.9075000286102295\t0.2953000068664551\t0.006899999920278788\t0.0010999999940395355\t21432\n",
      "\n",
      "\u001b[1mDonor:\u001b[0m\n",
      "0.9698\t0.8902\t0.9814\t0.9907\t0.9338\t0.9596999883651733\t0.4368000030517578\t0.00800000037997961\t0.0012000000569969416\t21432\n",
      "epoch: 1/10, val loss = 0.000264\n"
     ]
    },
    {
     "name": "stderr",
     "output_type": "stream",
     "text": [
      "Epoch (train) 2/10: 100%|█| 202/202 [35:48<00:00, 10.64s/it, accepor_recall=0.9, donor_recall=0.914, loss=0.0001\n"
     ]
    },
    {
     "name": "stdout",
     "output_type": "stream",
     "text": [
      "epoch: 2/10, train loss = 0.000198\n"
     ]
    },
    {
     "name": "stderr",
     "output_type": "stream",
     "text": [
      "Epoch (val) 2/10: 100%|█| 23/23 [06:01<00:00, 15.70s/it, accepor_recall=0.87, donor_recall=0.893, loss=0.000305,\n"
     ]
    },
    {
     "name": "stdout",
     "output_type": "stream",
     "text": [
      "\n",
      "\u001b[1mAcceptor:\u001b[0m\n",
      "0.9709\t0.8925\t0.9794\t0.9896\t0.9352\t0.9610000252723694\t0.37450000643730164\t0.010599999688565731\t0.0017999999690800905\t21432\n",
      "\n",
      "\u001b[1mDonor:\u001b[0m\n",
      "0.9684\t0.9001\t0.9847\t0.9934\t0.9394\t0.9685999751091003\t0.40880000591278076\t0.005799999926239252\t0.0006000000284984708\t21432\n",
      "epoch: 2/10, val loss = 0.000237\n"
     ]
    },
    {
     "name": "stderr",
     "output_type": "stream",
     "text": [
      "Epoch (train) 3/10: 100%|█| 202/202 [36:02<00:00, 10.71s/it, accepor_recall=0.912, donor_recall=0.923, loss=0.00\n"
     ]
    },
    {
     "name": "stdout",
     "output_type": "stream",
     "text": [
      "epoch: 3/10, train loss = 0.000166\n"
     ]
    },
    {
     "name": "stderr",
     "output_type": "stream",
     "text": [
      "Epoch (val) 3/10: 100%|█| 23/23 [05:48<00:00, 15.17s/it, accepor_recall=0.885, donor_recall=0.899, loss=0.000274\n"
     ]
    },
    {
     "name": "stdout",
     "output_type": "stream",
     "text": [
      "\n",
      "\u001b[1mAcceptor:\u001b[0m\n",
      "0.9746\t0.9084\t0.9842\t0.9918\t0.9468\t0.970300018787384\t0.43130001425743103\t0.006399999838322401\t0.0010000000474974513\t21432\n",
      "\n",
      "\u001b[1mDonor:\u001b[0m\n",
      "0.9742\t0.9162\t0.9883\t0.9949\t0.9513\t0.961899995803833\t0.415800005197525\t0.004000000189989805\t0.000699999975040555\t21432\n",
      "epoch: 3/10, val loss = 0.000206\n"
     ]
    },
    {
     "name": "stderr",
     "output_type": "stream",
     "text": [
      "Epoch (train) 4/10: 100%|█| 202/202 [36:02<00:00, 10.71s/it, accepor_recall=0.931, donor_recall=0.93, loss=0.000\n"
     ]
    },
    {
     "name": "stdout",
     "output_type": "stream",
     "text": [
      "epoch: 4/10, train loss = 0.000147\n"
     ]
    },
    {
     "name": "stderr",
     "output_type": "stream",
     "text": [
      "Epoch (val) 4/10: 100%|█| 23/23 [06:05<00:00, 15.90s/it, accepor_recall=0.884, donor_recall=0.9, loss=0.000286, \n"
     ]
    },
    {
     "name": "stdout",
     "output_type": "stream",
     "text": [
      "\n",
      "\u001b[1mAcceptor:\u001b[0m\n",
      "0.9724\t0.9134\t0.9844\t0.9916\t0.9469\t0.9656999707221985\t0.32519999146461487\t0.0017000000225380063\t0.0003000000142492354\t21432\n",
      "\n",
      "\u001b[1mDonor:\u001b[0m\n",
      "0.9703\t0.9158\t0.9889\t0.9947\t0.9507\t0.9675999879837036\t0.37689998745918274\t0.002199999988079071\t0.0003000000142492354\t21432\n",
      "epoch: 4/10, val loss = 0.000215\n"
     ]
    },
    {
     "name": "stderr",
     "output_type": "stream",
     "text": [
      "Epoch (train) 5/10: 100%|█| 202/202 [36:03<00:00, 10.71s/it, accepor_recall=0.941, donor_recall=0.946, loss=0.00\n"
     ]
    },
    {
     "name": "stdout",
     "output_type": "stream",
     "text": [
      "epoch: 5/10, train loss = 0.000133\n"
     ]
    },
    {
     "name": "stderr",
     "output_type": "stream",
     "text": [
      "Epoch (val) 5/10: 100%|█| 23/23 [05:37<00:00, 14.66s/it, accepor_recall=0.922, donor_recall=0.92, loss=0.000247,\n"
     ]
    },
    {
     "name": "stdout",
     "output_type": "stream",
     "text": [
      "\n",
      "\u001b[1mAcceptor:\u001b[0m\n",
      "0.9796\t0.9234\t0.9881\t0.9939\t0.955\t0.9767000079154968\t0.6080999970436096\t0.006800000090152025\t0.0012000000569969416\t21432\n",
      "\n",
      "\u001b[1mDonor:\u001b[0m\n",
      "0.9747\t0.9246\t0.9916\t0.9962\t0.9574\t0.968999981880188\t0.5397999882698059\t0.004399999976158142\t0.0006000000284984708\t21432\n",
      "epoch: 5/10, val loss = 0.000181\n"
     ]
    },
    {
     "name": "stderr",
     "output_type": "stream",
     "text": [
      "Epoch (train) 6/10: 100%|█| 202/202 [36:07<00:00, 10.73s/it, accepor_recall=0.944, donor_recall=0.95, loss=0.000\n"
     ]
    },
    {
     "name": "stdout",
     "output_type": "stream",
     "text": [
      "epoch: 6/10, train loss = 0.000124\n"
     ]
    },
    {
     "name": "stderr",
     "output_type": "stream",
     "text": [
      "Epoch (val) 6/10: 100%|█| 23/23 [06:17<00:00, 16.41s/it, accepor_recall=0.904, donor_recall=0.913, loss=0.000273\n"
     ]
    },
    {
     "name": "stdout",
     "output_type": "stream",
     "text": [
      "\n",
      "\u001b[1mAcceptor:\u001b[0m\n",
      "0.9758\t0.9193\t0.9869\t0.993\t0.9517\t0.9901999831199646\t0.382999986410141\t0.0024999999441206455\t0.00039999998989515007\t21432\n",
      "\n",
      "\u001b[1mDonor:\u001b[0m\n",
      "0.9749\t0.9205\t0.9904\t0.9949\t0.9546\t0.9922999739646912\t0.4092999994754791\t0.00139999995008111\t0.00019999999494757503\t21432\n",
      "epoch: 6/10, val loss = 0.000205\n"
     ]
    },
    {
     "name": "stderr",
     "output_type": "stream",
     "text": [
      "Epoch (train) 7/10: 100%|█| 202/202 [35:58<00:00, 10.69s/it, accepor_recall=0.946, donor_recall=0.951, loss=0.00\n"
     ]
    },
    {
     "name": "stdout",
     "output_type": "stream",
     "text": [
      "epoch: 7/10, train loss = 0.000117\n"
     ]
    },
    {
     "name": "stderr",
     "output_type": "stream",
     "text": [
      "Epoch (val) 7/10: 100%|█| 23/23 [05:39<00:00, 14.78s/it, accepor_recall=0.908, donor_recall=0.911, loss=0.000255\n"
     ]
    },
    {
     "name": "stdout",
     "output_type": "stream",
     "text": [
      "\n",
      "\u001b[1mAcceptor:\u001b[0m\n",
      "0.9765\t0.92\t0.9871\t0.993\t0.9538\t0.9796000123023987\t0.45489999651908875\t0.0020000000949949026\t0.0003000000142492354\t21432\n",
      "\n",
      "\u001b[1mDonor:\u001b[0m\n",
      "0.9748\t0.925\t0.9907\t0.9952\t0.957\t0.9761000275611877\t0.412200003862381\t0.0013000000035390258\t0.00019999999494757503\t21432\n",
      "epoch: 7/10, val loss = 0.000191\n"
     ]
    },
    {
     "name": "stderr",
     "output_type": "stream",
     "text": [
      "Epoch (train) 8/10: 100%|█| 202/202 [36:01<00:00, 10.70s/it, accepor_recall=0.954, donor_recall=0.96, loss=0.000\n"
     ]
    },
    {
     "name": "stdout",
     "output_type": "stream",
     "text": [
      "epoch: 8/10, train loss = 0.000096\n"
     ]
    },
    {
     "name": "stderr",
     "output_type": "stream",
     "text": [
      "Epoch (val) 8/10: 100%|█| 23/23 [05:41<00:00, 14.85s/it, accepor_recall=0.926, donor_recall=0.936, loss=0.000233\n"
     ]
    },
    {
     "name": "stdout",
     "output_type": "stream",
     "text": [
      "\n",
      "\u001b[1mAcceptor:\u001b[0m\n",
      "0.9746\t0.9261\t0.9874\t0.9929\t0.9532\t0.9739000201225281\t0.5658000111579895\t0.004699999932199717\t0.0008999999845400453\t21432\n",
      "\n",
      "\u001b[1mDonor:\u001b[0m\n",
      "0.9728\t0.9296\t0.9909\t0.9953\t0.9568\t0.9692999720573425\t0.5979999899864197\t0.003100000089034438\t0.00039999998989515007\t21432\n",
      "epoch: 8/10, val loss = 0.000175\n"
     ]
    },
    {
     "name": "stderr",
     "output_type": "stream",
     "text": [
      "Epoch (train) 9/10: 100%|█| 202/202 [36:04<00:00, 10.72s/it, accepor_recall=0.965, donor_recall=0.968, loss=9.33\n"
     ]
    },
    {
     "name": "stdout",
     "output_type": "stream",
     "text": [
      "epoch: 9/10, train loss = 0.000082\n"
     ]
    },
    {
     "name": "stderr",
     "output_type": "stream",
     "text": [
      "Epoch (val) 9/10: 100%|█| 23/23 [05:25<00:00, 14.17s/it, accepor_recall=0.912, donor_recall=0.921, loss=0.000235\n"
     ]
    },
    {
     "name": "stdout",
     "output_type": "stream",
     "text": [
      "\n",
      "\u001b[1mAcceptor:\u001b[0m\n",
      "0.9782\t0.9303\t0.9888\t0.9935\t0.9576\t0.972000002861023\t0.39980000257492065\t0.0015999999595806003\t0.0003000000142492354\t21432\n",
      "\n",
      "\u001b[1mDonor:\u001b[0m\n",
      "0.9764\t0.9325\t0.9919\t0.9953\t0.9606\t0.9660000205039978\t0.4505999982357025\t0.0017000000225380063\t0.00019999999494757503\t21432\n",
      "epoch: 9/10, val loss = 0.000174\n"
     ]
    },
    {
     "name": "stderr",
     "output_type": "stream",
     "text": [
      "Epoch (train) 10/10: 100%|█| 202/202 [36:13<00:00, 10.76s/it, accepor_recall=0.971, donor_recall=0.973, loss=6.5\n"
     ]
    },
    {
     "name": "stdout",
     "output_type": "stream",
     "text": [
      "epoch: 10/10, train loss = 0.000073\n"
     ]
    },
    {
     "name": "stderr",
     "output_type": "stream",
     "text": [
      "Epoch (val) 10/10: 100%|█| 23/23 [06:17<00:00, 16.40s/it, accepor_recall=0.915, donor_recall=0.929, loss=0.00023\n"
     ]
    },
    {
     "name": "stdout",
     "output_type": "stream",
     "text": [
      "\n",
      "\u001b[1mAcceptor:\u001b[0m\n",
      "0.975\t0.9297\t0.989\t0.9934\t0.9562\t0.9782999753952026\t0.47029998898506165\t0.001500000013038516\t0.0003000000142492354\t21432\n",
      "\n",
      "\u001b[1mDonor:\u001b[0m\n",
      "0.9739\t0.9326\t0.9918\t0.9953\t0.9594\t0.9811000227928162\t0.5339000225067139\t0.00139999995008111\t0.00019999999494757503\t21432\n",
      "epoch: 10/10, val loss = 0.000174\n"
     ]
    },
    {
     "data": {
      "image/png": "[encoded data removed]",
      "text/plain": [
       "<Figure size 432x288 with 1 Axes>"
      ]
     },
     "metadata": {
      "needs_background": "light"
     },
     "output_type": "display_data"
    },
    {
     "name": "stderr",
     "output_type": "stream",
     "text": [
      "Epoch (train) 1/10: 100%|█| 202/202 [36:08<00:00, 10.74s/it, accepor_recall=0.876, donor_recall=0.894, loss=0.00\n"
     ]
    },
    {
     "name": "stdout",
     "output_type": "stream",
     "text": [
      "epoch: 1/10, train loss = 0.008076\n"
     ]
    },
    {
     "name": "stderr",
     "output_type": "stream",
     "text": [
      "Epoch (val) 1/10: 100%|█| 23/23 [05:34<00:00, 14.56s/it, accepor_recall=0.812, donor_recall=0.833, loss=0.000333\n"
     ]
    },
    {
     "name": "stdout",
     "output_type": "stream",
     "text": [
      "\n",
      "\u001b[1mAcceptor:\u001b[0m\n",
      "0.9679\t0.8793\t0.9727\t0.9873\t0.9245\t0.9377999901771545\t0.2720000147819519\t0.010200000368058681\t0.0015999999595806003\t21432\n",
      "\n",
      "\u001b[1mDonor:\u001b[0m\n",
      "0.9681\t0.8845\t0.9819\t0.9934\t0.9301\t0.9453999996185303\t0.29670000076293945\t0.007899999618530273\t0.0010999999940395355\t21432\n",
      "epoch: 1/10, val loss = 0.000267\n"
     ]
    },
    {
     "name": "stderr",
     "output_type": "stream",
     "text": [
      "Epoch (train) 2/10: 100%|█| 202/202 [36:08<00:00, 10.73s/it, accepor_recall=0.91, donor_recall=0.92, loss=0.0001\n"
     ]
    },
    {
     "name": "stdout",
     "output_type": "stream",
     "text": [
      "epoch: 2/10, train loss = 0.000195\n"
     ]
    },
    {
     "name": "stderr",
     "output_type": "stream",
     "text": [
      "Epoch (val) 2/10: 100%|█| 23/23 [06:12<00:00, 16.19s/it, accepor_recall=0.875, donor_recall=0.896, loss=0.00027,\n"
     ]
    },
    {
     "name": "stdout",
     "output_type": "stream",
     "text": [
      "\n",
      "\u001b[1mAcceptor:\u001b[0m\n",
      "0.9709\t0.9106\t0.9848\t0.9924\t0.9449\t0.9731000065803528\t0.3714999854564667\t0.0044999998062849045\t0.000699999975040555\t21432\n",
      "\n",
      "\u001b[1mDonor:\u001b[0m\n",
      "0.9738\t0.9141\t0.9881\t0.9943\t0.9495\t0.9757000207901001\t0.446399986743927\t0.004600000102072954\t0.0006000000284984708\t21432\n",
      "epoch: 2/10, val loss = 0.000207\n"
     ]
    },
    {
     "name": "stderr",
     "output_type": "stream",
     "text": [
      "Epoch (train) 3/10: 100%|█| 202/202 [36:23<00:00, 10.81s/it, accepor_recall=0.922, donor_recall=0.93, loss=0.000\n"
     ]
    },
    {
     "name": "stdout",
     "output_type": "stream",
     "text": [
      "epoch: 3/10, train loss = 0.000166\n"
     ]
    },
    {
     "name": "stderr",
     "output_type": "stream",
     "text": [
      "Epoch (val) 3/10: 100%|█| 23/23 [05:33<00:00, 14.50s/it, accepor_recall=0.686, donor_recall=0.782, loss=0.000461\n"
     ]
    },
    {
     "name": "stdout",
     "output_type": "stream",
     "text": [
      "\n",
      "\u001b[1mAcceptor:\u001b[0m\n",
      "0.9723\t0.8665\t0.965\t0.9828\t0.917\t0.8044000267982483\t0.05790000036358833\t0.0017000000225380063\t0.0003000000142492354\t21432\n",
      "\n",
      "\u001b[1mDonor:\u001b[0m\n",
      "0.9672\t0.8764\t0.9799\t0.9918\t0.9272\t0.9315000176429749\t0.16689999401569366\t0.00419999985024333\t0.0007999999797903001\t21432\n",
      "epoch: 3/10, val loss = 0.000369\n"
     ]
    },
    {
     "name": "stderr",
     "output_type": "stream",
     "text": [
      "Epoch (train) 4/10: 100%|█| 202/202 [36:15<00:00, 10.77s/it, accepor_recall=0.918, donor_recall=0.929, loss=0.00\n"
     ]
    },
    {
     "name": "stdout",
     "output_type": "stream",
     "text": [
      "epoch: 4/10, train loss = 0.000148\n"
     ]
    },
    {
     "name": "stderr",
     "output_type": "stream",
     "text": [
      "Epoch (val) 4/10: 100%|█| 23/23 [05:26<00:00, 14.18s/it, accepor_recall=0.907, donor_recall=0.914, loss=0.00025,\n"
     ]
    },
    {
     "name": "stdout",
     "output_type": "stream",
     "text": [
      "\n",
      "\u001b[1mAcceptor:\u001b[0m\n",
      "0.977\t0.922\t0.9867\t0.9926\t0.953\t0.9340999722480774\t0.4546000063419342\t0.008799999952316284\t0.0017000000225380063\t21432\n",
      "\n",
      "\u001b[1mDonor:\u001b[0m\n",
      "0.9748\t0.9217\t0.9902\t0.9955\t0.9553\t0.9573000073432922\t0.4839000105857849\t0.006000000052154064\t0.0010999999940395355\t21432\n",
      "epoch: 4/10, val loss = 0.000185\n"
     ]
    },
    {
     "name": "stderr",
     "output_type": "stream",
     "text": [
      "Epoch (train) 5/10: 100%|█| 202/202 [36:03<00:00, 10.71s/it, accepor_recall=0.931, donor_recall=0.935, loss=0.00\n"
     ]
    },
    {
     "name": "stdout",
     "output_type": "stream",
     "text": [
      "epoch: 5/10, train loss = 0.000134\n"
     ]
    },
    {
     "name": "stderr",
     "output_type": "stream",
     "text": [
      "Epoch (val) 5/10: 100%|█| 23/23 [05:18<00:00, 13.84s/it, accepor_recall=0.922, donor_recall=0.933, loss=0.000266\n"
     ]
    },
    {
     "name": "stdout",
     "output_type": "stream",
     "text": [
      "\n",
      "\u001b[1mAcceptor:\u001b[0m\n",
      "0.9736\t0.922\t0.9865\t0.9925\t0.9518\t0.9851999878883362\t0.6172000169754028\t0.003100000089034438\t0.0003000000142492354\t21432\n",
      "\n",
      "\u001b[1mDonor:\u001b[0m\n",
      "0.9734\t0.9222\t0.9902\t0.9951\t0.9548\t0.9915000200271606\t0.7037000060081482\t0.0024999999441206455\t0.00019999999494757503\t21432\n",
      "epoch: 5/10, val loss = 0.000198\n"
     ]
    },
    {
     "name": "stderr",
     "output_type": "stream",
     "text": [
      "Epoch (train) 6/10: 100%|█| 202/202 [36:05<00:00, 10.72s/it, accepor_recall=0.942, donor_recall=0.945, loss=0.00\n"
     ]
    },
    {
     "name": "stdout",
     "output_type": "stream",
     "text": [
      "epoch: 6/10, train loss = 0.000125\n"
     ]
    },
    {
     "name": "stderr",
     "output_type": "stream",
     "text": [
      "Epoch (val) 6/10: 100%|█| 23/23 [05:19<00:00, 13.89s/it, accepor_recall=0.91, donor_recall=0.922, loss=0.000251,\n"
     ]
    },
    {
     "name": "stdout",
     "output_type": "stream",
     "text": [
      "\n",
      "\u001b[1mAcceptor:\u001b[0m\n",
      "0.975\t0.9173\t0.9866\t0.9927\t0.9506\t0.9710999727249146\t0.564300000667572\t0.006599999964237213\t0.0010000000474974513\t21432\n",
      "\n",
      "\u001b[1mDonor:\u001b[0m\n",
      "0.9738\t0.9221\t0.9886\t0.9944\t0.9533\t0.9696999788284302\t0.5501000285148621\t0.006500000134110451\t0.0008999999845400453\t21432\n",
      "epoch: 6/10, val loss = 0.000189\n"
     ]
    },
    {
     "name": "stderr",
     "output_type": "stream",
     "text": [
      "Epoch (train) 7/10: 100%|██████████████████████████████████████████████████████| 202/202 [36:19<00:00, 10.79s/it, accepor_recall=0.942, donor_recall=0.946, loss=0.000121, pred_l1_dist=0]\n"
     ]
    },
    {
     "name": "stdout",
     "output_type": "stream",
     "text": [
      "epoch: 7/10, train loss = 0.000118\n"
     ]
    },
    {
     "name": "stderr",
     "output_type": "stream",
     "text": [
      "Epoch (val) 7/10: 100%|██████████████████████████████████████████████████████████| 23/23 [05:22<00:00, 14.00s/it, accepor_recall=0.891, donor_recall=0.881, loss=0.000263, pred_l1_dist=0]\n"
     ]
    },
    {
     "name": "stdout",
     "output_type": "stream",
     "text": [
      "\n",
      "\u001b[1mAcceptor:\u001b[0m\n",
      "0.9765\t0.9169\t0.9844\t0.9918\t0.9503\t0.9578999876976013\t0.3950999975204468\t0.004800000227987766\t0.0007999999797903001\t21432\n",
      "\n",
      "\u001b[1mDonor:\u001b[0m\n",
      "0.9776\t0.9198\t0.9894\t0.995\t0.9557\t0.9617999792098999\t0.2676999866962433\t0.0017999999690800905\t0.0003000000142492354\t21432\n",
      "epoch: 7/10, val loss = 0.000200\n"
     ]
    },
    {
     "name": "stderr",
     "output_type": "stream",
     "text": [
      "Epoch (train) 8/10: 100%|███████████████████████████████████████████████████████| 202/202 [36:16<00:00, 10.78s/it, accepor_recall=0.955, donor_recall=0.962, loss=9.81e-5, pred_l1_dist=0]\n"
     ]
    },
    {
     "name": "stdout",
     "output_type": "stream",
     "text": [
      "epoch: 8/10, train loss = 0.000097\n"
     ]
    },
    {
     "name": "stderr",
     "output_type": "stream",
     "text": [
      "Epoch (val) 8/10: 100%|██████████████████████████████████████████████████████████| 23/23 [05:21<00:00, 13.99s/it, accepor_recall=0.908, donor_recall=0.923, loss=0.000243, pred_l1_dist=0]\n"
     ]
    },
    {
     "name": "stdout",
     "output_type": "stream",
     "text": [
      "\n",
      "\u001b[1mAcceptor:\u001b[0m\n",
      "0.9777\t0.9265\t0.9892\t0.9937\t0.9573\t0.9854999780654907\t0.42669999599456787\t0.0015999999595806003\t0.00019999999494757503\t21432\n",
      "\n",
      "\u001b[1mDonor:\u001b[0m\n",
      "0.9774\t0.9314\t0.9915\t0.9954\t0.9617\t0.9855999946594238\t0.43070000410079956\t0.0007999999797903001\t9.999999747378752e-05\t21432\n",
      "epoch: 8/10, val loss = 0.000182\n"
     ]
    },
    {
     "name": "stderr",
     "output_type": "stream",
     "text": [
      "Epoch (train) 9/10: 100%|███████████████████████████████████████████████████████| 202/202 [36:16<00:00, 10.77s/it, accepor_recall=0.964, donor_recall=0.967, loss=7.84e-5, pred_l1_dist=0]\n"
     ]
    },
    {
     "name": "stdout",
     "output_type": "stream",
     "text": [
      "epoch: 9/10, train loss = 0.000084\n"
     ]
    },
    {
     "name": "stderr",
     "output_type": "stream",
     "text": [
      "Epoch (val) 9/10: 100%|██████████████████████████████████████████████████████████| 23/23 [05:21<00:00, 13.98s/it, accepor_recall=0.926, donor_recall=0.928, loss=0.000231, pred_l1_dist=0]\n"
     ]
    },
    {
     "name": "stdout",
     "output_type": "stream",
     "text": [
      "\n",
      "\u001b[1mAcceptor:\u001b[0m\n",
      "0.9772\t0.9308\t0.9896\t0.9938\t0.9594\t0.9894999861717224\t0.5781999826431274\t0.002099999925121665\t0.00039999998989515007\t21432\n",
      "\n",
      "\u001b[1mDonor:\u001b[0m\n",
      "0.9783\t0.9325\t0.9916\t0.9955\t0.9627\t0.9879999756813049\t0.4948999881744385\t0.00139999995008111\t0.00019999999494757503\t21432\n",
      "epoch: 9/10, val loss = 0.000173\n"
     ]
    },
    {
     "name": "stderr",
     "output_type": "stream",
     "text": [
      "Epoch (train) 10/10: 100%|██████████████████████████████████████████████████████| 202/202 [36:07<00:00, 10.73s/it, accepor_recall=0.969, donor_recall=0.971, loss=7.41e-5, pred_l1_dist=0]\n"
     ]
    },
    {
     "name": "stdout",
     "output_type": "stream",
     "text": [
      "epoch: 10/10, train loss = 0.000075\n"
     ]
    },
    {
     "name": "stderr",
     "output_type": "stream",
     "text": [
      "Epoch (val) 10/10: 100%|█████████████████████████████████████████████████████████| 23/23 [05:26<00:00, 14.21s/it, accepor_recall=0.918, donor_recall=0.929, loss=0.000229, pred_l1_dist=0]\n"
     ]
    },
    {
     "name": "stdout",
     "output_type": "stream",
     "text": [
      "\n",
      "\u001b[1mAcceptor:\u001b[0m\n",
      "0.9779\t0.9317\t0.9895\t0.9937\t0.959\t0.9865999817848206\t0.5317999720573425\t0.00139999995008111\t0.0003000000142492354\t21432\n",
      "\n",
      "\u001b[1mDonor:\u001b[0m\n",
      "0.979\t0.9353\t0.9913\t0.9958\t0.9631\t0.9854999780654907\t0.5091999769210815\t0.0010000000474974513\t0.00019999999494757503\t21432\n",
      "epoch: 10/10, val loss = 0.000170\n"
     ]
    },
    {
     "data": {
      "image/png": "[encoded data removed]",
      "text/plain": [
       "<Figure size 432x288 with 1 Axes>"
      ]
     },
     "metadata": {
      "needs_background": "light"
     },
     "output_type": "display_data"
    },
    {
     "name": "stderr",
     "output_type": "stream",
     "text": [
      "Epoch (train) 1/10: 100%|██████████████████████████████████████████████████████| 202/202 [36:13<00:00, 10.76s/it, accepor_recall=0.874, donor_recall=0.888, loss=0.000212, pred_l1_dist=0]\n"
     ]
    },
    {
     "name": "stdout",
     "output_type": "stream",
     "text": [
      "epoch: 1/10, train loss = 0.007570\n"
     ]
    },
    {
     "name": "stderr",
     "output_type": "stream",
     "text": [
      "Epoch (val) 1/10: 100%|██████████████████████████████████████████████████████████| 23/23 [05:21<00:00, 14.00s/it, accepor_recall=0.901, donor_recall=0.936, loss=0.000417, pred_l1_dist=0]\n"
     ]
    },
    {
     "name": "stdout",
     "output_type": "stream",
     "text": [
      "\n",
      "\u001b[1mAcceptor:\u001b[0m\n",
      "0.9635\t0.8721\t0.9711\t0.9867\t0.9173\t0.982200026512146\t0.6823999881744385\t0.03790000081062317\t0.004600000102072954\t21432\n",
      "\n",
      "\u001b[1mDonor:\u001b[0m\n",
      "0.9683\t0.8853\t0.9804\t0.9922\t0.9301\t0.9907000064849854\t0.8303999900817871\t0.06830000132322311\t0.009399999864399433\t21432\n",
      "epoch: 1/10, val loss = 0.000333\n"
     ]
    },
    {
     "name": "stderr",
     "output_type": "stream",
     "text": [
      "Epoch (train) 2/10: 100%|██████████████████████████████████████████████████████| 202/202 [36:22<00:00, 10.81s/it, accepor_recall=0.889, donor_recall=0.897, loss=0.000189, pred_l1_dist=0]\n"
     ]
    },
    {
     "name": "stdout",
     "output_type": "stream",
     "text": [
      "epoch: 2/10, train loss = 0.000196\n"
     ]
    },
    {
     "name": "stderr",
     "output_type": "stream",
     "text": [
      "Epoch (val) 2/10: 100%|██████████████████████████████████████████████████████████| 23/23 [05:22<00:00, 14.00s/it, accepor_recall=0.868, donor_recall=0.912, loss=0.000372, pred_l1_dist=0]\n"
     ]
    },
    {
     "name": "stdout",
     "output_type": "stream",
     "text": [
      "\n",
      "\u001b[1mAcceptor:\u001b[0m\n",
      "0.9685\t0.8745\t0.9697\t0.986\t0.9212\t0.9674999713897705\t0.5509999990463257\t0.03269999846816063\t0.006800000090152025\t21432\n",
      "\n",
      "\u001b[1mDonor:\u001b[0m\n",
      "0.9689\t0.8874\t0.9804\t0.9923\t0.9318\t0.9811000227928162\t0.6748999953269958\t0.03909999877214432\t0.007000000216066837\t21432\n",
      "epoch: 2/10, val loss = 0.000289\n"
     ]
    },
    {
     "name": "stderr",
     "output_type": "stream",
     "text": [
      "Epoch (train) 3/10: 100%|██████████████████████████████████████████████████████| 202/202 [36:10<00:00, 10.74s/it, accepor_recall=0.918, donor_recall=0.917, loss=0.000152, pred_l1_dist=0]\n"
     ]
    },
    {
     "name": "stdout",
     "output_type": "stream",
     "text": [
      "epoch: 3/10, train loss = 0.000167\n"
     ]
    },
    {
     "name": "stderr",
     "output_type": "stream",
     "text": [
      "Epoch (val) 3/10: 100%|██████████████████████████████████████████████████████████| 23/23 [05:31<00:00, 14.42s/it, accepor_recall=0.906, donor_recall=0.897, loss=0.000323, pred_l1_dist=0]\n"
     ]
    },
    {
     "name": "stdout",
     "output_type": "stream",
     "text": [
      "\n",
      "\u001b[1mAcceptor:\u001b[0m\n",
      "0.9541\t0.8886\t0.9808\t0.9902\t0.9217\t0.9065999984741211\t0.6363999843597412\t0.01510000042617321\t0.0017999999690800905\t21432\n",
      "\n",
      "\u001b[1mDonor:\u001b[0m\n",
      "0.9672\t0.8988\t0.9838\t0.9909\t0.9368\t0.9441999793052673\t0.5572999715805054\t0.009800000116229057\t0.0013000000035390258\t21432\n",
      "epoch: 3/10, val loss = 0.000245\n"
     ]
    },
    {
     "name": "stderr",
     "output_type": "stream",
     "text": [
      "Epoch (train) 4/10: 100%|██████████████████████████████████████████████████████| 202/202 [36:06<00:00, 10.73s/it, accepor_recall=0.929, donor_recall=0.933, loss=0.000153, pred_l1_dist=0]\n"
     ]
    },
    {
     "name": "stdout",
     "output_type": "stream",
     "text": [
      "epoch: 4/10, train loss = 0.000148\n"
     ]
    },
    {
     "name": "stderr",
     "output_type": "stream",
     "text": [
      "Epoch (val) 4/10: 100%|██████████████████████████████████████████████████████████| 23/23 [05:42<00:00, 14.87s/it, accepor_recall=0.916, donor_recall=0.933, loss=0.000271, pred_l1_dist=0]\n"
     ]
    },
    {
     "name": "stdout",
     "output_type": "stream",
     "text": [
      "\n",
      "\u001b[1mAcceptor:\u001b[0m\n",
      "0.9739\t0.9116\t0.9847\t0.9923\t0.9464\t0.9781000018119812\t0.6266999840736389\t0.006200000178068876\t0.0007999999797903001\t21432\n",
      "\n",
      "\u001b[1mDonor:\u001b[0m\n",
      "0.9716\t0.9156\t0.9885\t0.9952\t0.9499\t0.9876999855041504\t0.7067000269889832\t0.008299999870359898\t0.0010999999940395355\t21432\n",
      "epoch: 4/10, val loss = 0.000212\n"
     ]
    },
    {
     "name": "stderr",
     "output_type": "stream",
     "text": [
      "Epoch (train) 5/10: 100%|███████████████████████████████████████████████████████| 202/202 [36:15<00:00, 10.77s/it, accepor_recall=0.926, donor_recall=0.935, loss=0.00014, pred_l1_dist=0]\n"
     ]
    },
    {
     "name": "stdout",
     "output_type": "stream",
     "text": [
      "epoch: 5/10, train loss = 0.000135\n"
     ]
    },
    {
     "name": "stderr",
     "output_type": "stream",
     "text": [
      "Epoch (val) 5/10: 100%|██████████████████████████████████████████████████████████| 23/23 [05:31<00:00, 14.41s/it, accepor_recall=0.932, donor_recall=0.938, loss=0.000268, pred_l1_dist=0]\n"
     ]
    },
    {
     "name": "stdout",
     "output_type": "stream",
     "text": [
      "\n",
      "\u001b[1mAcceptor:\u001b[0m\n",
      "0.9733\t0.9181\t0.986\t0.9931\t0.9493\t0.9513000249862671\t0.6682000160217285\t0.022600000724196434\t0.0038999998942017555\t21432\n",
      "\n",
      "\u001b[1mDonor:\u001b[0m\n",
      "0.9749\t0.9183\t0.9891\t0.9951\t0.9516\t0.9733999967575073\t0.694599986076355\t0.014399999752640724\t0.0020000000949949026\t21432\n",
      "epoch: 5/10, val loss = 0.000205\n"
     ]
    },
    {
     "name": "stderr",
     "output_type": "stream",
     "text": [
      "Epoch (train) 6/10: 100%|██████████████████████████████████████████████████████| 202/202 [36:00<00:00, 10.69s/it, accepor_recall=0.941, donor_recall=0.949, loss=0.000113, pred_l1_dist=0]\n"
     ]
    },
    {
     "name": "stdout",
     "output_type": "stream",
     "text": [
      "epoch: 6/10, train loss = 0.000125\n"
     ]
    },
    {
     "name": "stderr",
     "output_type": "stream",
     "text": [
      "Epoch (val) 6/10: 100%|███████████████████████████████████████████████████████████| 23/23 [05:24<00:00, 14.10s/it, accepor_recall=0.933, donor_recall=0.94, loss=0.000274, pred_l1_dist=0]\n"
     ]
    },
    {
     "name": "stdout",
     "output_type": "stream",
     "text": [
      "\n",
      "\u001b[1mAcceptor:\u001b[0m\n",
      "0.9747\t0.9215\t0.9873\t0.9935\t0.9524\t0.9926000237464905\t0.7257999777793884\t0.008200000040233135\t0.0012000000569969416\t21432\n",
      "\n",
      "\u001b[1mDonor:\u001b[0m\n",
      "0.9742\t0.9269\t0.9909\t0.9953\t0.9565\t0.9952999949455261\t0.7670999765396118\t0.00419999985024333\t0.0005000000237487257\t21432\n",
      "epoch: 6/10, val loss = 0.000204\n"
     ]
    },
    {
     "name": "stderr",
     "output_type": "stream",
     "text": [
      "Epoch (train) 7/10: 100%|██████████████████████████████████████████████████████| 202/202 [36:12<00:00, 10.76s/it, accepor_recall=0.941, donor_recall=0.944, loss=0.000114, pred_l1_dist=0]\n"
     ]
    },
    {
     "name": "stdout",
     "output_type": "stream",
     "text": [
      "epoch: 7/10, train loss = 0.000117\n"
     ]
    },
    {
     "name": "stderr",
     "output_type": "stream",
     "text": [
      "Epoch (val) 7/10: 100%|██████████████████████████████████████████████████████████| 23/23 [05:28<00:00, 14.30s/it, accepor_recall=0.925, donor_recall=0.936, loss=0.000263, pred_l1_dist=0]\n"
     ]
    },
    {
     "name": "stdout",
     "output_type": "stream",
     "text": [
      "\n",
      "\u001b[1mAcceptor:\u001b[0m\n",
      "0.9713\t0.9147\t0.9866\t0.9931\t0.9462\t0.9621999859809875\t0.6355000138282776\t0.00989999994635582\t0.0015999999595806003\t21432\n",
      "\n",
      "\u001b[1mDonor:\u001b[0m\n",
      "0.9739\t0.9148\t0.9893\t0.9943\t0.9503\t0.9704999923706055\t0.7128999829292297\t0.008200000040233135\t0.0010999999940395355\t21432\n",
      "epoch: 7/10, val loss = 0.000201\n"
     ]
    },
    {
     "name": "stderr",
     "output_type": "stream",
     "text": [
      "Epoch (train) 8/10: 100%|███████████████████████████████████████████████████████| 202/202 [36:19<00:00, 10.79s/it, accepor_recall=0.96, donor_recall=0.962, loss=0.000101, pred_l1_dist=0]\n"
     ]
    },
    {
     "name": "stdout",
     "output_type": "stream",
     "text": [
      "epoch: 8/10, train loss = 0.000097\n"
     ]
    },
    {
     "name": "stderr",
     "output_type": "stream",
     "text": [
      "Epoch (val) 8/10: 100%|██████████████████████████████████████████████████████████| 23/23 [05:29<00:00, 14.33s/it, accepor_recall=0.921, donor_recall=0.926, loss=0.000239, pred_l1_dist=0]\n"
     ]
    },
    {
     "name": "stdout",
     "output_type": "stream",
     "text": [
      "\n",
      "\u001b[1mAcceptor:\u001b[0m\n",
      "0.9777\t0.9274\t0.9885\t0.9937\t0.9571\t0.9760000109672546\t0.5846999883651733\t0.0024999999441206455\t0.00039999998989515007\t21432\n",
      "\n",
      "\u001b[1mDonor:\u001b[0m\n",
      "0.9769\t0.9295\t0.9916\t0.9957\t0.9593\t0.98580002784729\t0.6018999814987183\t0.0019000000320374966\t0.0003000000142492354\t21432\n",
      "epoch: 8/10, val loss = 0.000179\n"
     ]
    },
    {
     "name": "stderr",
     "output_type": "stream",
     "text": [
      "Epoch (train) 9/10: 100%|███████████████████████████████████████████████████████| 202/202 [36:08<00:00, 10.73s/it, accepor_recall=0.966, donor_recall=0.971, loss=6.79e-5, pred_l1_dist=0]\n"
     ]
    },
    {
     "name": "stdout",
     "output_type": "stream",
     "text": [
      "epoch: 9/10, train loss = 0.000083\n"
     ]
    },
    {
     "name": "stderr",
     "output_type": "stream",
     "text": [
      "Epoch (val) 9/10: 100%|██████████████████████████████████████████████████████████| 23/23 [05:20<00:00, 13.95s/it, accepor_recall=0.909, donor_recall=0.921, loss=0.000242, pred_l1_dist=0]\n"
     ]
    },
    {
     "name": "stdout",
     "output_type": "stream",
     "text": [
      "\n",
      "\u001b[1mAcceptor:\u001b[0m\n",
      "0.9775\t0.93\t0.9887\t0.9934\t0.958\t0.9847999811172485\t0.42089998722076416\t0.0010000000474974513\t0.00019999999494757503\t21432\n",
      "\n",
      "\u001b[1mDonor:\u001b[0m\n",
      "0.977\t0.9326\t0.9906\t0.995\t0.9602\t0.9864000082015991\t0.4738999903202057\t0.0007999999797903001\t9.999999747378752e-05\t21432\n",
      "epoch: 9/10, val loss = 0.000182\n"
     ]
    },
    {
     "name": "stderr",
     "output_type": "stream",
     "text": [
      "Epoch (train) 10/10: 100%|███████████████████████████████████████████████████████| 202/202 [36:18<00:00, 10.79s/it, accepor_recall=0.97, donor_recall=0.973, loss=7.34e-5, pred_l1_dist=0]\n"
     ]
    },
    {
     "name": "stdout",
     "output_type": "stream",
     "text": [
      "epoch: 10/10, train loss = 0.000074\n"
     ]
    },
    {
     "name": "stderr",
     "output_type": "stream",
     "text": [
      "Epoch (val) 10/10: 100%|█████████████████████████████████████████████████████████| 23/23 [05:21<00:00, 13.97s/it, accepor_recall=0.922, donor_recall=0.927, loss=0.000236, pred_l1_dist=0]\n"
     ]
    },
    {
     "name": "stdout",
     "output_type": "stream",
     "text": [
      "\n",
      "\u001b[1mAcceptor:\u001b[0m\n",
      "0.9765\t0.9305\t0.9894\t0.9938\t0.9572\t0.9868999719619751\t0.5393999814987183\t0.0015999999595806003\t0.0003000000142492354\t21432\n",
      "\n",
      "\u001b[1mDonor:\u001b[0m\n",
      "0.9757\t0.9325\t0.9906\t0.9955\t0.9602\t0.9854999780654907\t0.5185999870300293\t0.0012000000569969416\t0.00019999999494757503\t21432\n",
      "epoch: 10/10, val loss = 0.000177\n"
     ]
    },
    {
     "data": {
      "image/png": "[encoded data removed]",
      "text/plain": [
       "<Figure size 432x288 with 1 Axes>"
      ]
     },
     "metadata": {
      "needs_background": "light"
     },
     "output_type": "display_data"
    },
    {
     "name": "stderr",
     "output_type": "stream",
     "text": [
      "Epoch (train) 1/10: 100%|███████████████████████████████████████████████████████| 202/202 [36:47<00:00, 10.93s/it, accepor_recall=0.86, donor_recall=0.879, loss=0.000211, pred_l1_dist=0]\n"
     ]
    },
    {
     "name": "stdout",
     "output_type": "stream",
     "text": [
      "epoch: 1/10, train loss = 0.008298\n"
     ]
    },
    {
     "name": "stderr",
     "output_type": "stream",
     "text": [
      "Epoch (val) 1/10: 100%|██████████████████████████████████████████████████████████| 23/23 [05:42<00:00, 14.91s/it, accepor_recall=0.852, donor_recall=0.899, loss=0.000328, pred_l1_dist=0]\n"
     ]
    },
    {
     "name": "stdout",
     "output_type": "stream",
     "text": [
      "\n",
      "\u001b[1mAcceptor:\u001b[0m\n",
      "0.9685\t0.8814\t0.9721\t0.9866\t0.9251\t0.9545000195503235\t0.4300999939441681\t0.01940000057220459\t0.002899999963119626\t21432\n",
      "\n",
      "\u001b[1mDonor:\u001b[0m\n",
      "0.9688\t0.8929\t0.9838\t0.9927\t0.9361\t0.9663000106811523\t0.5321000218391418\t0.01510000042617321\t0.001500000013038516\t21432\n",
      "epoch: 1/10, val loss = 0.000254\n"
     ]
    },
    {
     "name": "stderr",
     "output_type": "stream",
     "text": [
      "Epoch (train) 2/10: 100%|██████████████████████████████████████████████████████| 202/202 [36:36<00:00, 10.87s/it, accepor_recall=0.901, donor_recall=0.905, loss=0.000191, pred_l1_dist=0]\n"
     ]
    },
    {
     "name": "stdout",
     "output_type": "stream",
     "text": [
      "epoch: 2/10, train loss = 0.000195\n"
     ]
    },
    {
     "name": "stderr",
     "output_type": "stream",
     "text": [
      "Epoch (val) 2/10: 100%|██████████████████████████████████████████████████████████| 23/23 [05:56<00:00, 15.48s/it, accepor_recall=0.907, donor_recall=0.898, loss=0.000283, pred_l1_dist=0]\n"
     ]
    },
    {
     "name": "stdout",
     "output_type": "stream",
     "text": [
      "\n",
      "\u001b[1mAcceptor:\u001b[0m\n",
      "0.9692\t0.9056\t0.9832\t0.9913\t0.9414\t0.9702000021934509\t0.5641999840736389\t0.010999999940395355\t0.0017999999690800905\t21432\n",
      "\n",
      "\u001b[1mDonor:\u001b[0m\n",
      "0.9717\t0.9138\t0.9886\t0.9942\t0.9493\t0.9688000082969666\t0.4074000120162964\t0.006200000178068876\t0.0010000000474974513\t21432\n",
      "epoch: 2/10, val loss = 0.000211\n"
     ]
    },
    {
     "name": "stderr",
     "output_type": "stream",
     "text": [
      "Epoch (train) 3/10: 100%|██████████████████████████████████████████████████████| 202/202 [36:30<00:00, 10.85s/it, accepor_recall=0.923, donor_recall=0.928, loss=0.000149, pred_l1_dist=0]\n"
     ]
    },
    {
     "name": "stdout",
     "output_type": "stream",
     "text": [
      "epoch: 3/10, train loss = 0.000168\n"
     ]
    },
    {
     "name": "stderr",
     "output_type": "stream",
     "text": [
      "Epoch (val) 3/10: 100%|███████████████████████████████████████████████████████████| 23/23 [05:21<00:00, 13.98s/it, accepor_recall=0.909, donor_recall=0.92, loss=0.000294, pred_l1_dist=0]\n"
     ]
    },
    {
     "name": "stdout",
     "output_type": "stream",
     "text": [
      "\n",
      "\u001b[1mAcceptor:\u001b[0m\n",
      "0.9694\t0.9073\t0.9838\t0.9914\t0.9422\t0.9882000088691711\t0.6392999887466431\t0.00930000003427267\t0.00139999995008111\t21432\n",
      "\n",
      "\u001b[1mDonor:\u001b[0m\n",
      "0.9724\t0.9146\t0.9888\t0.9945\t0.9498\t0.9789999723434448\t0.6007999777793884\t0.008700000122189522\t0.0012000000569969416\t21432\n",
      "epoch: 3/10, val loss = 0.000216\n"
     ]
    },
    {
     "name": "stderr",
     "output_type": "stream",
     "text": [
      "Epoch (train) 4/10: 100%|███████████████████████████████████████████████████████| 202/202 [36:27<00:00, 10.83s/it, accepor_recall=0.93, donor_recall=0.938, loss=0.000154, pred_l1_dist=0]\n"
     ]
    },
    {
     "name": "stdout",
     "output_type": "stream",
     "text": [
      "epoch: 4/10, train loss = 0.000148\n"
     ]
    },
    {
     "name": "stderr",
     "output_type": "stream",
     "text": [
      "Epoch (val) 4/10: 100%|██████████████████████████████████████████████████████████| 23/23 [05:29<00:00, 14.31s/it, accepor_recall=0.923, donor_recall=0.911, loss=0.000267, pred_l1_dist=0]\n"
     ]
    },
    {
     "name": "stdout",
     "output_type": "stream",
     "text": [
      "\n",
      "\u001b[1mAcceptor:\u001b[0m\n",
      "0.9744\t0.9192\t0.9863\t0.9929\t0.9506\t0.991100013256073\t0.6780999898910522\t0.005499999970197678\t0.000699999975040555\t21432\n",
      "\n",
      "\u001b[1mDonor:\u001b[0m\n",
      "0.973\t0.9246\t0.9906\t0.995\t0.9538\t0.9825000166893005\t0.45660001039505005\t0.0019000000320374966\t0.0003000000142492354\t21432\n",
      "epoch: 4/10, val loss = 0.000199\n"
     ]
    },
    {
     "name": "stderr",
     "output_type": "stream",
     "text": [
      "Epoch (train) 5/10: 100%|██████████████████████████████████████████████████████| 202/202 [36:29<00:00, 10.84s/it, accepor_recall=0.934, donor_recall=0.945, loss=0.000127, pred_l1_dist=0]\n"
     ]
    },
    {
     "name": "stdout",
     "output_type": "stream",
     "text": [
      "epoch: 5/10, train loss = 0.000135\n"
     ]
    },
    {
     "name": "stderr",
     "output_type": "stream",
     "text": [
      "Epoch (val) 5/10: 100%|████████████████████████████████████████████████████████████| 23/23 [06:07<00:00, 15.98s/it, accepor_recall=0.9, donor_recall=0.912, loss=0.000258, pred_l1_dist=0]\n"
     ]
    },
    {
     "name": "stdout",
     "output_type": "stream",
     "text": [
      "\n",
      "\u001b[1mAcceptor:\u001b[0m\n",
      "0.9732\t0.9198\t0.9874\t0.9927\t0.9498\t0.9747999906539917\t0.4805000126361847\t0.002300000051036477\t0.0003000000142492354\t21432\n",
      "\n",
      "\u001b[1mDonor:\u001b[0m\n",
      "0.9751\t0.9249\t0.9903\t0.9952\t0.957\t0.98580002784729\t0.4860999882221222\t0.001500000013038516\t0.00019999999494757503\t21432\n",
      "epoch: 5/10, val loss = 0.000193\n"
     ]
    },
    {
     "name": "stderr",
     "output_type": "stream",
     "text": [
      "Epoch (train) 6/10: 100%|██████████████████████████████████████████████████████| 202/202 [36:29<00:00, 10.84s/it, accepor_recall=0.936, donor_recall=0.944, loss=0.000127, pred_l1_dist=0]\n"
     ]
    },
    {
     "name": "stdout",
     "output_type": "stream",
     "text": [
      "epoch: 6/10, train loss = 0.000126\n"
     ]
    },
    {
     "name": "stderr",
     "output_type": "stream",
     "text": [
      "Epoch (val) 6/10: 100%|██████████████████████████████████████████████████████████| 23/23 [05:33<00:00, 14.49s/it, accepor_recall=0.907, donor_recall=0.908, loss=0.000256, pred_l1_dist=0]\n"
     ]
    },
    {
     "name": "stdout",
     "output_type": "stream",
     "text": [
      "\n",
      "\u001b[1mAcceptor:\u001b[0m\n",
      "0.9644\t0.9228\t0.987\t0.9929\t0.9475\t0.9248999953269958\t0.49470001459121704\t0.004600000102072954\t0.0008999999845400453\t21432\n",
      "\n",
      "\u001b[1mDonor:\u001b[0m\n",
      "0.9704\t0.9247\t0.9902\t0.9949\t0.9526\t0.9304999709129333\t0.43059998750686646\t0.002099999925121665\t0.0003000000142492354\t21432\n",
      "epoch: 6/10, val loss = 0.000189\n"
     ]
    },
    {
     "name": "stderr",
     "output_type": "stream",
     "text": [
      "Epoch (train) 7/10: 100%|███████████████████████████████████████████████████████| 202/202 [36:25<00:00, 10.82s/it, accepor_recall=0.944, donor_recall=0.948, loss=0.00013, pred_l1_dist=0]\n"
     ]
    },
    {
     "name": "stdout",
     "output_type": "stream",
     "text": [
      "epoch: 7/10, train loss = 0.000118\n"
     ]
    },
    {
     "name": "stderr",
     "output_type": "stream",
     "text": [
      "Epoch (val) 7/10: 100%|███████████████████████████████████████████████████████████| 23/23 [06:07<00:00, 16.00s/it, accepor_recall=0.91, donor_recall=0.918, loss=0.000264, pred_l1_dist=0]\n"
     ]
    },
    {
     "name": "stdout",
     "output_type": "stream",
     "text": [
      "\n",
      "\u001b[1mAcceptor:\u001b[0m\n",
      "0.9641\t0.9182\t0.9865\t0.9921\t0.9439\t0.9713000059127808\t0.5095000267028809\t0.00279999990016222\t0.0005000000237487257\t21432\n",
      "\n",
      "\u001b[1mDonor:\u001b[0m\n",
      "0.9693\t0.9238\t0.9891\t0.9942\t0.9515\t0.9767000079154968\t0.4449999928474426\t0.0010000000474974513\t0.00019999999494757503\t21432\n",
      "epoch: 7/10, val loss = 0.000200\n"
     ]
    },
    {
     "name": "stderr",
     "output_type": "stream",
     "text": [
      "Epoch (train) 8/10: 100%|████████████████████████████████████████████████████████| 202/202 [36:14<00:00, 10.76s/it, accepor_recall=0.96, donor_recall=0.96, loss=0.000114, pred_l1_dist=0]\n"
     ]
    },
    {
     "name": "stdout",
     "output_type": "stream",
     "text": [
      "epoch: 8/10, train loss = 0.000098\n"
     ]
    },
    {
     "name": "stderr",
     "output_type": "stream",
     "text": [
      "Epoch (val) 8/10: 100%|██████████████████████████████████████████████████████████| 23/23 [05:27<00:00, 14.26s/it, accepor_recall=0.934, donor_recall=0.929, loss=0.000234, pred_l1_dist=0]\n"
     ]
    },
    {
     "name": "stdout",
     "output_type": "stream",
     "text": [
      "\n",
      "\u001b[1mAcceptor:\u001b[0m\n",
      "0.9748\t0.9296\t0.9892\t0.9934\t0.956\t0.9857000112533569\t0.6696000099182129\t0.0031999999191612005\t0.00039999998989515007\t21432\n",
      "\n",
      "\u001b[1mDonor:\u001b[0m\n",
      "0.9756\t0.9315\t0.9918\t0.9956\t0.959\t0.9811999797821045\t0.5942000150680542\t0.0020000000949949026\t0.00019999999494757503\t21432\n",
      "epoch: 8/10, val loss = 0.000175\n"
     ]
    },
    {
     "name": "stderr",
     "output_type": "stream",
     "text": [
      "Epoch (train) 9/10: 100%|███████████████████████████████████████████████████████| 202/202 [36:14<00:00, 10.77s/it, accepor_recall=0.964, donor_recall=0.967, loss=9.12e-5, pred_l1_dist=0]\n"
     ]
    },
    {
     "name": "stdout",
     "output_type": "stream",
     "text": [
      "epoch: 9/10, train loss = 0.000085\n"
     ]
    },
    {
     "name": "stderr",
     "output_type": "stream",
     "text": [
      "Epoch (val) 9/10: 100%|██████████████████████████████████████████████████████████| 23/23 [05:34<00:00, 14.53s/it, accepor_recall=0.904, donor_recall=0.908, loss=0.000241, pred_l1_dist=0]\n"
     ]
    },
    {
     "name": "stdout",
     "output_type": "stream",
     "text": [
      "\n",
      "\u001b[1mAcceptor:\u001b[0m\n",
      "0.976\t0.9282\t0.9883\t0.9927\t0.9554\t0.9664999842643738\t0.43720000982284546\t0.0020000000949949026\t0.0003000000142492354\t21432\n",
      "\n",
      "\u001b[1mDonor:\u001b[0m\n",
      "0.9753\t0.9298\t0.9912\t0.995\t0.9589\t0.9718999862670898\t0.396699994802475\t0.001500000013038516\t0.0003000000142492354\t21432\n",
      "epoch: 9/10, val loss = 0.000179\n"
     ]
    },
    {
     "name": "stderr",
     "output_type": "stream",
     "text": [
      "Epoch (train) 10/10: 100%|██████████████████████████████████████████████████████| 202/202 [36:13<00:00, 10.76s/it, accepor_recall=0.969, donor_recall=0.973, loss=8.16e-5, pred_l1_dist=0]\n"
     ]
    },
    {
     "name": "stdout",
     "output_type": "stream",
     "text": [
      "epoch: 10/10, train loss = 0.000077\n"
     ]
    },
    {
     "name": "stderr",
     "output_type": "stream",
     "text": [
      "Epoch (val) 10/10: 100%|█████████████████████████████████████████████████████████| 23/23 [05:29<00:00, 14.32s/it, accepor_recall=0.914, donor_recall=0.923, loss=0.000237, pred_l1_dist=0]\n"
     ]
    },
    {
     "name": "stdout",
     "output_type": "stream",
     "text": [
      "\n",
      "\u001b[1mAcceptor:\u001b[0m\n",
      "0.9757\t0.9322\t0.9888\t0.9937\t0.9574\t0.9794999957084656\t0.4415999948978424\t0.0010999999940395355\t0.00019999999494757503\t21432\n",
      "\n",
      "\u001b[1mDonor:\u001b[0m\n",
      "0.9742\t0.9336\t0.9915\t0.9956\t0.9592\t0.9782000184059143\t0.43880000710487366\t0.0007999999797903001\t9.999999747378752e-05\t21432\n",
      "epoch: 10/10, val loss = 0.000177\n"
     ]
    },
    {
     "data": {
      "image/png": "[encoded data removed]",
      "text/plain": [
       "<Figure size 432x288 with 1 Axes>"
      ]
     },
     "metadata": {
      "needs_background": "light"
     },
     "output_type": "display_data"
    },
    {
     "name": "stderr",
     "output_type": "stream",
     "text": [
      "Epoch (train) 1/10: 100%|███████████████████████████████████████████████████████| 202/202 [36:16<00:00, 10.77s/it, accepor_recall=0.875, donor_recall=0.89, loss=0.000217, pred_l1_dist=0]\n"
     ]
    },
    {
     "name": "stdout",
     "output_type": "stream",
     "text": [
      "epoch: 1/10, train loss = 0.008589\n"
     ]
    },
    {
     "name": "stderr",
     "output_type": "stream",
     "text": [
      "Epoch (val) 1/10: 100%|██████████████████████████████████████████████████████████| 23/23 [05:38<00:00, 14.70s/it, accepor_recall=0.838, donor_recall=0.885, loss=0.000343, pred_l1_dist=0]\n"
     ]
    },
    {
     "name": "stdout",
     "output_type": "stream",
     "text": [
      "\n",
      "\u001b[1mAcceptor:\u001b[0m\n",
      "0.9675\t0.8762\t0.9727\t0.9881\t0.9201\t0.9585999846458435\t0.39809998869895935\t0.00989999994635582\t0.0012000000569969416\t21432\n",
      "\n",
      "\u001b[1mDonor:\u001b[0m\n",
      "0.9708\t0.8903\t0.9824\t0.9921\t0.9365\t0.9786999821662903\t0.5205000042915344\t0.010400000028312206\t0.0012000000569969416\t21432\n",
      "epoch: 1/10, val loss = 0.000261\n"
     ]
    },
    {
     "name": "stderr",
     "output_type": "stream",
     "text": [
      "Epoch (train) 2/10: 100%|████████████████████████████████████████████████████████| 202/202 [36:25<00:00, 10.82s/it, accepor_recall=0.9, donor_recall=0.909, loss=0.000179, pred_l1_dist=0]\n"
     ]
    },
    {
     "name": "stdout",
     "output_type": "stream",
     "text": [
      "epoch: 2/10, train loss = 0.000195\n"
     ]
    },
    {
     "name": "stderr",
     "output_type": "stream",
     "text": [
      "Epoch (val) 2/10: 100%|████████████████████████████████████████████████████████████| 23/23 [05:41<00:00, 14.83s/it, accepor_recall=0.876, donor_recall=0.875, loss=0.0003, pred_l1_dist=0]\n"
     ]
    },
    {
     "name": "stdout",
     "output_type": "stream",
     "text": [
      "\n",
      "\u001b[1mAcceptor:\u001b[0m\n",
      "0.9699\t0.8988\t0.9801\t0.9904\t0.9371\t0.9524000287055969\t0.42340001463890076\t0.017400000244379044\t0.0031999999191612005\t21432\n",
      "\n",
      "\u001b[1mDonor:\u001b[0m\n",
      "0.9704\t0.902\t0.9861\t0.9933\t0.9422\t0.9656999707221985\t0.44029998779296875\t0.011800000444054604\t0.002099999925121665\t21432\n",
      "epoch: 2/10, val loss = 0.000228\n"
     ]
    },
    {
     "name": "stderr",
     "output_type": "stream",
     "text": [
      "Epoch (train) 3/10: 100%|██████████████████████████████████████████████████████| 202/202 [36:27<00:00, 10.83s/it, accepor_recall=0.914, donor_recall=0.923, loss=0.000141, pred_l1_dist=0]\n"
     ]
    },
    {
     "name": "stdout",
     "output_type": "stream",
     "text": [
      "epoch: 3/10, train loss = 0.000169\n"
     ]
    },
    {
     "name": "stderr",
     "output_type": "stream",
     "text": [
      "Epoch (val) 3/10: 100%|████████████████████████████████████████████████████████████| 23/23 [06:23<00:00, 16.65s/it, accepor_recall=0.863, donor_recall=0.861, loss=0.0003, pred_l1_dist=0]\n"
     ]
    },
    {
     "name": "stdout",
     "output_type": "stream",
     "text": [
      "\n",
      "\u001b[1mAcceptor:\u001b[0m\n",
      "0.9741\t0.9118\t0.9832\t0.9911\t0.9468\t0.9833999872207642\t0.29490000009536743\t0.0017999999690800905\t0.0003000000142492354\t21432\n",
      "\n",
      "\u001b[1mDonor:\u001b[0m\n",
      "0.9719\t0.9122\t0.9887\t0.9944\t0.9496\t0.965499997138977\t0.2433999925851822\t0.00139999995008111\t0.00019999999494757503\t21432\n",
      "epoch: 3/10, val loss = 0.000227\n"
     ]
    },
    {
     "name": "stderr",
     "output_type": "stream",
     "text": [
      "Epoch (train) 4/10: 100%|███████████████████████████████████████████████████████| 202/202 [36:29<00:00, 10.84s/it, accepor_recall=0.929, donor_recall=0.93, loss=0.000163, pred_l1_dist=0]\n"
     ]
    },
    {
     "name": "stdout",
     "output_type": "stream",
     "text": [
      "epoch: 4/10, train loss = 0.000150\n"
     ]
    },
    {
     "name": "stderr",
     "output_type": "stream",
     "text": [
      "Epoch (val) 4/10: 100%|██████████████████████████████████████████████████████████| 23/23 [06:01<00:00, 15.70s/it, accepor_recall=0.915, donor_recall=0.933, loss=0.000262, pred_l1_dist=0]\n"
     ]
    },
    {
     "name": "stdout",
     "output_type": "stream",
     "text": [
      "\n",
      "\u001b[1mAcceptor:\u001b[0m\n",
      "0.9716\t0.9137\t0.9846\t0.9918\t0.9465\t0.9480000138282776\t0.603600025177002\t0.005799999926239252\t0.0008999999845400453\t21432\n",
      "\n",
      "\u001b[1mDonor:\u001b[0m\n",
      "0.9665\t0.9156\t0.9895\t0.9948\t0.9469\t0.9318000078201294\t0.6413999795913696\t0.00860000029206276\t0.0010999999940395355\t21432\n",
      "epoch: 4/10, val loss = 0.000200\n"
     ]
    },
    {
     "name": "stderr",
     "output_type": "stream",
     "text": [
      "Epoch (train) 5/10: 100%|███████████████████████████████████████████████████████| 202/202 [36:20<00:00, 10.80s/it, accepor_recall=0.936, donor_recall=0.941, loss=0.00016, pred_l1_dist=0]\n"
     ]
    },
    {
     "name": "stdout",
     "output_type": "stream",
     "text": [
      "epoch: 5/10, train loss = 0.000137\n"
     ]
    },
    {
     "name": "stderr",
     "output_type": "stream",
     "text": [
      "Epoch (val) 5/10: 100%|███████████████████████████████████████████████████████████| 23/23 [05:33<00:00, 14.51s/it, accepor_recall=0.79, donor_recall=0.776, loss=0.000385, pred_l1_dist=0]\n"
     ]
    },
    {
     "name": "stdout",
     "output_type": "stream",
     "text": [
      "\n",
      "\u001b[1mAcceptor:\u001b[0m\n",
      "0.9697\t0.8956\t0.9733\t0.9852\t0.932\t0.9253000020980835\t0.08370000123977661\t0.0017000000225380063\t0.00039999998989515007\t21432\n",
      "\n",
      "\u001b[1mDonor:\u001b[0m\n",
      "0.9723\t0.9057\t0.9815\t0.9915\t0.9415\t0.8967000246047974\t0.053700000047683716\t0.0010000000474974513\t0.00019999999494757503\t21432\n",
      "epoch: 5/10, val loss = 0.000319\n"
     ]
    },
    {
     "name": "stderr",
     "output_type": "stream",
     "text": [
      "Epoch (train) 6/10: 100%|██████████████████████████████████████████████████████| 202/202 [36:24<00:00, 10.82s/it, accepor_recall=0.941, donor_recall=0.946, loss=0.000129, pred_l1_dist=0]\n"
     ]
    },
    {
     "name": "stdout",
     "output_type": "stream",
     "text": [
      "epoch: 6/10, train loss = 0.000127\n"
     ]
    },
    {
     "name": "stderr",
     "output_type": "stream",
     "text": [
      "Epoch (val) 6/10: 100%|██████████████████████████████████████████████████████████| 23/23 [06:32<00:00, 17.07s/it, accepor_recall=0.921, donor_recall=0.937, loss=0.000261, pred_l1_dist=0]\n"
     ]
    },
    {
     "name": "stdout",
     "output_type": "stream",
     "text": [
      "\n",
      "\u001b[1mAcceptor:\u001b[0m\n",
      "0.9761\t0.9218\t0.9875\t0.9928\t0.9536\t0.9883999824523926\t0.5615000128746033\t0.0024999999441206455\t0.0003000000142492354\t21432\n",
      "\n",
      "\u001b[1mDonor:\u001b[0m\n",
      "0.975\t0.9232\t0.9904\t0.9951\t0.9564\t0.993399977684021\t0.6287000179290771\t0.0020000000949949026\t0.00019999999494757503\t21432\n",
      "epoch: 6/10, val loss = 0.000195\n"
     ]
    },
    {
     "name": "stderr",
     "output_type": "stream",
     "text": [
      "Epoch (train) 7/10: 100%|██████████████████████████████████████████████████████| 202/202 [36:16<00:00, 10.77s/it, accepor_recall=0.943, donor_recall=0.947, loss=0.000109, pred_l1_dist=0]\n"
     ]
    },
    {
     "name": "stdout",
     "output_type": "stream",
     "text": [
      "epoch: 7/10, train loss = 0.000120\n"
     ]
    },
    {
     "name": "stderr",
     "output_type": "stream",
     "text": [
      "Epoch (val) 7/10: 100%|██████████████████████████████████████████████████████████| 23/23 [05:25<00:00, 14.17s/it, accepor_recall=0.909, donor_recall=0.927, loss=0.000254, pred_l1_dist=0]\n"
     ]
    },
    {
     "name": "stdout",
     "output_type": "stream",
     "text": [
      "\n",
      "\u001b[1mAcceptor:\u001b[0m\n",
      "0.9761\t0.9239\t0.9864\t0.993\t0.9539\t0.9855999946594238\t0.49939998984336853\t0.0027000000700354576\t0.0005000000237487257\t21432\n",
      "\n",
      "\u001b[1mDonor:\u001b[0m\n",
      "0.9745\t0.9242\t0.9919\t0.9956\t0.9568\t0.9871000051498413\t0.5989999771118164\t0.0026000000070780516\t0.0003000000142492354\t21432\n",
      "epoch: 7/10, val loss = 0.000189\n"
     ]
    },
    {
     "name": "stderr",
     "output_type": "stream",
     "text": [
      "Epoch (train) 8/10: 100%|███████████████████████████████████████████████████████| 202/202 [36:21<00:00, 10.80s/it, accepor_recall=0.959, donor_recall=0.96, loss=0.000107, pred_l1_dist=0]\n"
     ]
    },
    {
     "name": "stdout",
     "output_type": "stream",
     "text": [
      "epoch: 8/10, train loss = 0.000098\n"
     ]
    },
    {
     "name": "stderr",
     "output_type": "stream",
     "text": [
      "Epoch (val) 8/10: 100%|████████████████████████████████████████████████████████████| 23/23 [06:09<00:00, 16.08s/it, accepor_recall=0.9, donor_recall=0.907, loss=0.000246, pred_l1_dist=0]\n"
     ]
    },
    {
     "name": "stdout",
     "output_type": "stream",
     "text": [
      "\n",
      "\u001b[1mAcceptor:\u001b[0m\n",
      "0.9775\t0.9252\t0.9864\t0.9928\t0.9548\t0.9764000177383423\t0.362199991941452\t0.003000000026077032\t0.0006000000284984708\t21432\n",
      "\n",
      "\u001b[1mDonor:\u001b[0m\n",
      "0.9784\t0.9283\t0.9909\t0.9948\t0.9593\t0.982200026512146\t0.36000001430511475\t0.0015999999595806003\t0.00019999999494757503\t21432\n",
      "epoch: 8/10, val loss = 0.000184\n"
     ]
    },
    {
     "name": "stderr",
     "output_type": "stream",
     "text": [
      "Epoch (train) 9/10: 100%|███████████████████████████████████████████████████████| 202/202 [36:20<00:00, 10.80s/it, accepor_recall=0.967, donor_recall=0.969, loss=7.33e-5, pred_l1_dist=0]\n"
     ]
    },
    {
     "name": "stdout",
     "output_type": "stream",
     "text": [
      "epoch: 9/10, train loss = 0.000084\n"
     ]
    },
    {
     "name": "stderr",
     "output_type": "stream",
     "text": [
      "Epoch (val) 9/10: 100%|██████████████████████████████████████████████████████████| 23/23 [05:22<00:00, 14.03s/it, accepor_recall=0.922, donor_recall=0.933, loss=0.000236, pred_l1_dist=0]\n"
     ]
    },
    {
     "name": "stdout",
     "output_type": "stream",
     "text": [
      "\n",
      "\u001b[1mAcceptor:\u001b[0m\n",
      "0.977\t0.9295\t0.9889\t0.9938\t0.9583\t0.989300012588501\t0.5817999839782715\t0.0015999999595806003\t0.00019999999494757503\t21432\n",
      "\n",
      "\u001b[1mDonor:\u001b[0m\n",
      "0.9785\t0.9331\t0.9916\t0.9958\t0.961\t0.9868999719619751\t0.5663999915122986\t0.0013000000035390258\t0.00019999999494757503\t21432\n",
      "epoch: 9/10, val loss = 0.000174\n"
     ]
    },
    {
     "name": "stderr",
     "output_type": "stream",
     "text": [
      "Epoch (train) 10/10: 100%|███████████████████████████████████████████████████████| 202/202 [36:18<00:00, 10.79s/it, accepor_recall=0.966, donor_recall=0.97, loss=7.08e-5, pred_l1_dist=0]\n"
     ]
    },
    {
     "name": "stdout",
     "output_type": "stream",
     "text": [
      "epoch: 10/10, train loss = 0.000075\n"
     ]
    },
    {
     "name": "stderr",
     "output_type": "stream",
     "text": [
      "Epoch (val) 10/10: 100%|██████████████████████████████████████████████████████████| 23/23 [05:31<00:00, 14.42s/it, accepor_recall=0.92, donor_recall=0.931, loss=0.000238, pred_l1_dist=0]\n"
     ]
    },
    {
     "name": "stdout",
     "output_type": "stream",
     "text": [
      "\n",
      "\u001b[1mAcceptor:\u001b[0m\n",
      "0.9739\t0.9303\t0.9883\t0.9924\t0.9554\t0.9879000186920166\t0.5390999913215637\t0.0020000000949949026\t0.0003000000142492354\t21432\n",
      "\n",
      "\u001b[1mDonor:\u001b[0m\n",
      "0.9768\t0.9338\t0.9915\t0.9954\t0.9591\t0.9908000230789185\t0.517799973487854\t0.0013000000035390258\t0.00019999999494757503\t21432\n",
      "epoch: 10/10, val loss = 0.000176\n"
     ]
    },
    {
     "data": {
      "image/png": "[encoded data removed]",
      "text/plain": [
       "<Figure size 432x288 with 1 Axes>"
      ]
     },
     "metadata": {
      "needs_background": "light"
     },
     "output_type": "display_data"
    }
   ],
   "source": [
    "device = torch.device(\"cuda\" if torch.cuda.is_available() else \"cpu\")\n",
    "epochs = 10\n",
    "hs = []\n",
    "\n",
    "parameters = [0,0.01,0.05,0.1,0.25]\n",
    "\n",
    "for model_nr in range(5):\n",
    "    model_m = SpliceFormer(CL_max,dropout = parameters[model_nr])\n",
    "    model_m.apply(keras_init)\n",
    "    model_m = model_m.to(device)\n",
    "    if torch.cuda.device_count() > 1:\n",
    "        #print(\"Let's use\", torch.cuda.device_count(), \"GPUs!\")\n",
    "        # dim = 0 [30, xxx] -> [10, ...], [10, ...], [10, ...] on 3 GPUs\n",
    "        model_m = nn.DataParallel(model_m)\n",
    "    \n",
    "    modelFileName = '../Results/PyTorch_Models/transformer_encoder_40k_ablation_transformer_dropout_{}'.format(parameters[model_nr])\n",
    "    #model_m.load_state_dict(torch.load('../Results/PyTorch_Models/SpliceAI_Ensembl_dgxtest_{}'.format(0)))\n",
    "    #loss = nn.CrossEntropyLoss(weight=torch.from_numpy(weights).float().to(device),ignore_index=-1,reduction='mean')\n",
    "    loss = categorical_crossentropy_2d().loss\n",
    "    #loss = nn.KLDivLoss()\n",
    "    learning_rate= k*1e-3\n",
    "    optimizer = torch.optim.Adam(model_m.parameters(), lr=learning_rate)\n",
    "    scheduler = torch.optim.lr_scheduler.StepLR(optimizer, step_size=1, gamma=0.5)\n",
    "    warmup = get_constant_schedule_with_warmup(optimizer, num_warmup_steps=1000)\n",
    "    h = trainModel(model_m,modelFileName,loss,train_loader,val_loader,optimizer,scheduler,warmup,BATCH_SIZE,epochs,device)\n",
    "    hs.append(h)\n",
    "\n",
    "    plt.plot(range(epochs),h['loss'],label='Train')\n",
    "    plt.plot(range(epochs),h['val_loss'],label='Validation')\n",
    "    plt.xlabel('Epoch')\n",
    "    plt.ylabel('Loss')\n",
    "    plt.legend()\n",
    "    plt.show()"
   ]
  },
  {
   "cell_type": "code",
   "execution_count": 12,
   "metadata": {},
   "outputs": [
    {
     "name": "stderr",
     "output_type": "stream",
     "text": [
      "Epoch (train) 1/10: 100%|████████████████| 202/202 [36:49<00:00, 10.94s/it, accepor_recall=0.87, donor_recall=0.886, loss=0.000207, pred_l1_dist=0]\n"
     ]
    },
    {
     "name": "stdout",
     "output_type": "stream",
     "text": [
      "epoch: 1/10, train loss = 0.008015\n"
     ]
    },
    {
     "name": "stderr",
     "output_type": "stream",
     "text": [
      "Epoch (val) 1/10: 100%|████████████████████| 23/23 [05:55<00:00, 15.44s/it, accepor_recall=0.886, donor_recall=0.89, loss=0.000366, pred_l1_dist=0]\n"
     ]
    },
    {
     "name": "stdout",
     "output_type": "stream",
     "text": [
      "\n",
      "\u001b[1mAcceptor:\u001b[0m\n",
      "0.9656\t0.8645\t0.9745\t0.9887\t0.9186\t0.9818000197410583\t0.6240000128746033\t0.02539999969303608\t0.0034000000450760126\t21432\n",
      "\n",
      "\u001b[1mDonor:\u001b[0m\n",
      "0.9624\t0.8734\t0.9778\t0.9908\t0.9217\t0.9524999856948853\t0.5598000288009644\t0.026200000196695328\t0.00419999985024333\t21432\n",
      "epoch: 1/10, val loss = 0.000289\n"
     ]
    },
    {
     "name": "stderr",
     "output_type": "stream",
     "text": [
      "Epoch (train) 2/10: 100%|███████████████| 202/202 [36:08<00:00, 10.73s/it, accepor_recall=0.905, donor_recall=0.908, loss=0.000173, pred_l1_dist=0]\n"
     ]
    },
    {
     "name": "stdout",
     "output_type": "stream",
     "text": [
      "epoch: 2/10, train loss = 0.000193\n"
     ]
    },
    {
     "name": "stderr",
     "output_type": "stream",
     "text": [
      "Epoch (val) 2/10: 100%|███████████████████| 23/23 [06:26<00:00, 16.81s/it, accepor_recall=0.882, donor_recall=0.878, loss=0.000333, pred_l1_dist=0]\n"
     ]
    },
    {
     "name": "stdout",
     "output_type": "stream",
     "text": [
      "\n",
      "\u001b[1mAcceptor:\u001b[0m\n",
      "0.9714\t0.88\t0.9782\t0.9902\t0.9283\t0.9733999967575073\t0.5637999773025513\t0.018699999898672104\t0.0024999999441206455\t21432\n",
      "\n",
      "\u001b[1mDonor:\u001b[0m\n",
      "0.9714\t0.8905\t0.9833\t0.9933\t0.9352\t0.9199000000953674\t0.45570001006126404\t0.015599999576807022\t0.002199999988079071\t21432\n",
      "epoch: 2/10, val loss = 0.000255\n"
     ]
    },
    {
     "name": "stderr",
     "output_type": "stream",
     "text": [
      "Epoch (train) 3/10: 100%|████████████████| 202/202 [35:58<00:00, 10.68s/it, accepor_recall=0.912, donor_recall=0.915, loss=0.00016, pred_l1_dist=0]\n"
     ]
    },
    {
     "name": "stdout",
     "output_type": "stream",
     "text": [
      "epoch: 3/10, train loss = 0.000166\n"
     ]
    },
    {
     "name": "stderr",
     "output_type": "stream",
     "text": [
      "Epoch (val) 3/10: 100%|███████████████████| 23/23 [05:38<00:00, 14.73s/it, accepor_recall=0.852, donor_recall=0.879, loss=0.000304, pred_l1_dist=0]\n"
     ]
    },
    {
     "name": "stdout",
     "output_type": "stream",
     "text": [
      "\n",
      "\u001b[1mAcceptor:\u001b[0m\n",
      "0.9734\t0.9027\t0.9771\t0.9885\t0.9394\t0.9557999968528748\t0.29420000314712524\t0.006200000178068876\t0.0013000000035390258\t21432\n",
      "\n",
      "\u001b[1mDonor:\u001b[0m\n",
      "0.9745\t0.9092\t0.9852\t0.9926\t0.9457\t0.9781000018119812\t0.36660000681877136\t0.004000000189989805\t0.000699999975040555\t21432\n",
      "epoch: 3/10, val loss = 0.000226\n"
     ]
    },
    {
     "name": "stderr",
     "output_type": "stream",
     "text": [
      "Epoch (train) 4/10: 100%|███████████████| 202/202 [36:13<00:00, 10.76s/it, accepor_recall=0.925, donor_recall=0.933, loss=0.000138, pred_l1_dist=0]\n"
     ]
    },
    {
     "name": "stdout",
     "output_type": "stream",
     "text": [
      "epoch: 4/10, train loss = 0.000146\n"
     ]
    },
    {
     "name": "stderr",
     "output_type": "stream",
     "text": [
      "Epoch (val) 4/10: 100%|███████████████████| 23/23 [05:45<00:00, 15.01s/it, accepor_recall=0.874, donor_recall=0.898, loss=0.000286, pred_l1_dist=0]\n"
     ]
    },
    {
     "name": "stdout",
     "output_type": "stream",
     "text": [
      "\n",
      "\u001b[1mAcceptor:\u001b[0m\n",
      "0.9698\t0.9076\t0.9833\t0.992\t0.9415\t0.9162999987602234\t0.3375000059604645\t0.00989999994635582\t0.002099999925121665\t21432\n",
      "\n",
      "\u001b[1mDonor:\u001b[0m\n",
      "0.972\t0.9114\t0.9873\t0.9936\t0.9471\t0.953499972820282\t0.44670000672340393\t0.01269999984651804\t0.0024999999441206455\t21432\n",
      "epoch: 4/10, val loss = 0.000215\n"
     ]
    },
    {
     "name": "stderr",
     "output_type": "stream",
     "text": [
      "Epoch (train) 5/10: 100%|█████████████████| 202/202 [36:10<00:00, 10.75s/it, accepor_recall=0.941, donor_recall=0.94, loss=0.00013, pred_l1_dist=0]\n"
     ]
    },
    {
     "name": "stdout",
     "output_type": "stream",
     "text": [
      "epoch: 5/10, train loss = 0.000133\n"
     ]
    },
    {
     "name": "stderr",
     "output_type": "stream",
     "text": [
      "Epoch (val) 5/10: 100%|███████████████████| 23/23 [06:31<00:00, 17.00s/it, accepor_recall=0.903, donor_recall=0.909, loss=0.000253, pred_l1_dist=0]\n"
     ]
    },
    {
     "name": "stdout",
     "output_type": "stream",
     "text": [
      "\n",
      "\u001b[1mAcceptor:\u001b[0m\n",
      "0.9743\t0.9199\t0.987\t0.9933\t0.9518\t0.9775000214576721\t0.42730000615119934\t0.004800000227987766\t0.0007999999797903001\t21432\n",
      "\n",
      "\u001b[1mDonor:\u001b[0m\n",
      "0.9749\t0.9235\t0.9908\t0.9953\t0.9543\t0.9621000289916992\t0.4456000030040741\t0.006500000134110451\t0.0010999999940395355\t21432\n",
      "epoch: 5/10, val loss = 0.000188\n"
     ]
    },
    {
     "name": "stderr",
     "output_type": "stream",
     "text": [
      "Epoch (train) 6/10: 100%|█████████████████| 202/202 [35:51<00:00, 10.65s/it, accepor_recall=0.946, donor_recall=0.95, loss=0.00012, pred_l1_dist=0]\n"
     ]
    },
    {
     "name": "stdout",
     "output_type": "stream",
     "text": [
      "epoch: 6/10, train loss = 0.000124\n"
     ]
    },
    {
     "name": "stderr",
     "output_type": "stream",
     "text": [
      "Epoch (val) 6/10: 100%|███████████████████| 23/23 [06:00<00:00, 15.67s/it, accepor_recall=0.867, donor_recall=0.863, loss=0.000281, pred_l1_dist=0]\n"
     ]
    },
    {
     "name": "stdout",
     "output_type": "stream",
     "text": [
      "\n",
      "\u001b[1mAcceptor:\u001b[0m\n",
      "0.9755\t0.9187\t0.9843\t0.9922\t0.9512\t0.9483000040054321\t0.21789999306201935\t0.002099999925121665\t0.0005000000237487257\t21432\n",
      "\n",
      "\u001b[1mDonor:\u001b[0m\n",
      "0.9738\t0.9226\t0.9902\t0.9946\t0.9541\t0.9449999928474426\t0.22509999573230743\t0.0020000000949949026\t0.00039999998989515007\t21432\n",
      "epoch: 6/10, val loss = 0.000212\n"
     ]
    },
    {
     "name": "stderr",
     "output_type": "stream",
     "text": [
      "Epoch (train) 7/10: 100%|███████████████| 202/202 [36:16<00:00, 10.78s/it, accepor_recall=0.949, donor_recall=0.952, loss=0.000105, pred_l1_dist=0]\n"
     ]
    },
    {
     "name": "stdout",
     "output_type": "stream",
     "text": [
      "epoch: 7/10, train loss = 0.000116\n"
     ]
    },
    {
     "name": "stderr",
     "output_type": "stream",
     "text": [
      "Epoch (val) 7/10: 100%|███████████████████| 23/23 [06:16<00:00, 16.35s/it, accepor_recall=0.905, donor_recall=0.914, loss=0.000253, pred_l1_dist=0]\n"
     ]
    },
    {
     "name": "stdout",
     "output_type": "stream",
     "text": [
      "\n",
      "\u001b[1mAcceptor:\u001b[0m\n",
      "0.9746\t0.9205\t0.9869\t0.9933\t0.9521\t0.9757999777793884\t0.5074999928474426\t0.0034000000450760126\t0.0005000000237487257\t21432\n",
      "\n",
      "\u001b[1mDonor:\u001b[0m\n",
      "0.9735\t0.9239\t0.99\t0.9949\t0.9544\t0.9747999906539917\t0.4921000003814697\t0.002400000113993883\t0.0003000000142492354\t21432\n",
      "epoch: 7/10, val loss = 0.000189\n"
     ]
    },
    {
     "name": "stderr",
     "output_type": "stream",
     "text": [
      "Epoch (train) 8/10: 100%|████████████████| 202/202 [36:09<00:00, 10.74s/it, accepor_recall=0.957, donor_recall=0.963, loss=9.55e-5, pred_l1_dist=0]\n"
     ]
    },
    {
     "name": "stdout",
     "output_type": "stream",
     "text": [
      "epoch: 8/10, train loss = 0.000096\n"
     ]
    },
    {
     "name": "stderr",
     "output_type": "stream",
     "text": [
      "Epoch (val) 8/10: 100%|████████████████████| 23/23 [05:19<00:00, 13.87s/it, accepor_recall=0.92, donor_recall=0.925, loss=0.000242, pred_l1_dist=0]\n"
     ]
    },
    {
     "name": "stdout",
     "output_type": "stream",
     "text": [
      "\n",
      "\u001b[1mAcceptor:\u001b[0m\n",
      "0.9709\t0.9292\t0.9887\t0.9941\t0.9534\t0.9595999717712402\t0.5077999830245972\t0.002300000051036477\t0.00039999998989515007\t21432\n",
      "\n",
      "\u001b[1mDonor:\u001b[0m\n",
      "0.97\t0.931\t0.9914\t0.9953\t0.9557\t0.9681000113487244\t0.461899995803833\t0.002099999925121665\t0.0003000000142492354\t21432\n",
      "epoch: 8/10, val loss = 0.000177\n"
     ]
    },
    {
     "name": "stderr",
     "output_type": "stream",
     "text": [
      "Epoch (train) 9/10: 100%|█████████████████| 202/202 [36:00<00:00, 10.70s/it, accepor_recall=0.965, donor_recall=0.97, loss=8.33e-5, pred_l1_dist=0]\n"
     ]
    },
    {
     "name": "stdout",
     "output_type": "stream",
     "text": [
      "epoch: 9/10, train loss = 0.000081\n"
     ]
    },
    {
     "name": "stderr",
     "output_type": "stream",
     "text": [
      "Epoch (val) 9/10: 100%|████████████████████| 23/23 [06:15<00:00, 16.34s/it, accepor_recall=0.916, donor_recall=0.93, loss=0.000241, pred_l1_dist=0]\n"
     ]
    },
    {
     "name": "stdout",
     "output_type": "stream",
     "text": [
      "\n",
      "\u001b[1mAcceptor:\u001b[0m\n",
      "0.9769\t0.9288\t0.9891\t0.9939\t0.9574\t0.9912999868392944\t0.5406000018119812\t0.0026000000070780516\t0.0005000000237487257\t21432\n",
      "\n",
      "\u001b[1mDonor:\u001b[0m\n",
      "0.9753\t0.9331\t0.9911\t0.9948\t0.9599\t0.991100013256073\t0.5737000107765198\t0.0020000000949949026\t0.0003000000142492354\t21432\n",
      "epoch: 9/10, val loss = 0.000178\n"
     ]
    },
    {
     "name": "stderr",
     "output_type": "stream",
     "text": [
      "Epoch (train) 10/10: 100%|████████████████| 202/202 [36:03<00:00, 10.71s/it, accepor_recall=0.966, donor_recall=0.97, loss=6.89e-5, pred_l1_dist=0]\n"
     ]
    },
    {
     "name": "stdout",
     "output_type": "stream",
     "text": [
      "epoch: 10/10, train loss = 0.000072\n"
     ]
    },
    {
     "name": "stderr",
     "output_type": "stream",
     "text": [
      "Epoch (val) 10/10: 100%|███████████████████| 23/23 [05:46<00:00, 15.05s/it, accepor_recall=0.92, donor_recall=0.934, loss=0.000246, pred_l1_dist=0]\n"
     ]
    },
    {
     "name": "stdout",
     "output_type": "stream",
     "text": [
      "\n",
      "\u001b[1mAcceptor:\u001b[0m\n",
      "0.9772\t0.9309\t0.9892\t0.9939\t0.9576\t0.9886999726295471\t0.5515999794006348\t0.0017000000225380063\t0.0003000000142492354\t21432\n",
      "\n",
      "\u001b[1mDonor:\u001b[0m\n",
      "0.975\t0.9335\t0.9912\t0.9951\t0.9583\t0.9925000071525574\t0.5942000150680542\t0.0019000000320374966\t0.00019999999494757503\t21432\n",
      "epoch: 10/10, val loss = 0.000178\n"
     ]
    },
    {
     "data": {
      "image/png": "[encoded data removed]",
      "text/plain": [
       "<Figure size 432x288 with 1 Axes>"
      ]
     },
     "metadata": {
      "needs_background": "light"
     },
     "output_type": "display_data"
    },
    {
     "name": "stderr",
     "output_type": "stream",
     "text": [
      "Epoch (train) 1/10: 100%|███████████████| 202/202 [36:07<00:00, 10.73s/it, accepor_recall=0.864, donor_recall=0.879, loss=0.000235, pred_l1_dist=0]\n"
     ]
    },
    {
     "name": "stdout",
     "output_type": "stream",
     "text": [
      "epoch: 1/10, train loss = 0.007403\n"
     ]
    },
    {
     "name": "stderr",
     "output_type": "stream",
     "text": [
      "Epoch (val) 1/10: 100%|████████████████████| 23/23 [05:28<00:00, 14.29s/it, accepor_recall=0.837, donor_recall=0.802, loss=0.00038, pred_l1_dist=0]\n"
     ]
    },
    {
     "name": "stdout",
     "output_type": "stream",
     "text": [
      "\n",
      "\u001b[1mAcceptor:\u001b[0m\n",
      "0.9687\t0.8702\t0.9689\t0.9859\t0.9206\t0.9563999772071838\t0.3571999967098236\t0.012900000438094139\t0.002300000051036477\t21432\n",
      "\n",
      "\u001b[1mDonor:\u001b[0m\n",
      "0.9686\t0.8731\t0.9756\t0.9882\t0.9229\t0.9377999901771545\t0.2628999948501587\t0.004900000058114529\t0.0006000000284984708\t21432\n",
      "epoch: 1/10, val loss = 0.000296\n"
     ]
    },
    {
     "name": "stderr",
     "output_type": "stream",
     "text": [
      "Epoch (train) 2/10: 100%|████████████████| 202/202 [36:24<00:00, 10.81s/it, accepor_recall=0.902, donor_recall=0.91, loss=0.000181, pred_l1_dist=0]\n"
     ]
    },
    {
     "name": "stdout",
     "output_type": "stream",
     "text": [
      "epoch: 2/10, train loss = 0.000194\n"
     ]
    },
    {
     "name": "stderr",
     "output_type": "stream",
     "text": [
      "Epoch (val) 2/10: 100%|███████████████████| 23/23 [05:44<00:00, 14.98s/it, accepor_recall=0.902, donor_recall=0.884, loss=0.000296, pred_l1_dist=0]\n"
     ]
    },
    {
     "name": "stdout",
     "output_type": "stream",
     "text": [
      "\n",
      "\u001b[1mAcceptor:\u001b[0m\n",
      "0.9723\t0.9041\t0.982\t0.9907\t0.9418\t0.9732999801635742\t0.545799970626831\t0.011599999852478504\t0.0019000000320374966\t21432\n",
      "\n",
      "\u001b[1mDonor:\u001b[0m\n",
      "0.9735\t0.9059\t0.9855\t0.993\t0.9444\t0.9557999968528748\t0.414900004863739\t0.006599999964237213\t0.0008999999845400453\t21432\n",
      "epoch: 2/10, val loss = 0.000221\n"
     ]
    },
    {
     "name": "stderr",
     "output_type": "stream",
     "text": [
      "Epoch (train) 3/10: 100%|███████████████| 202/202 [36:27<00:00, 10.83s/it, accepor_recall=0.922, donor_recall=0.925, loss=0.000136, pred_l1_dist=0]\n"
     ]
    },
    {
     "name": "stdout",
     "output_type": "stream",
     "text": [
      "epoch: 3/10, train loss = 0.000166\n"
     ]
    },
    {
     "name": "stderr",
     "output_type": "stream",
     "text": [
      "Epoch (val) 3/10: 100%|███████████████████| 23/23 [05:44<00:00, 14.99s/it, accepor_recall=0.912, donor_recall=0.922, loss=0.000289, pred_l1_dist=0]\n"
     ]
    },
    {
     "name": "stdout",
     "output_type": "stream",
     "text": [
      "\n",
      "\u001b[1mAcceptor:\u001b[0m\n",
      "0.9748\t0.9083\t0.9845\t0.991\t0.9462\t0.9837999939918518\t0.6320000290870667\t0.009499999694526196\t0.00139999995008111\t21432\n",
      "\n",
      "\u001b[1mDonor:\u001b[0m\n",
      "0.9722\t0.9096\t0.9877\t0.9938\t0.9465\t0.9904999732971191\t0.6394000053405762\t0.008500000461935997\t0.0010000000474974513\t21432\n",
      "epoch: 3/10, val loss = 0.000221\n"
     ]
    },
    {
     "name": "stderr",
     "output_type": "stream",
     "text": [
      "Epoch (train) 4/10: 100%|████████████████| 202/202 [36:14<00:00, 10.76s/it, accepor_recall=0.93, donor_recall=0.939, loss=0.000135, pred_l1_dist=0]\n"
     ]
    },
    {
     "name": "stdout",
     "output_type": "stream",
     "text": [
      "epoch: 4/10, train loss = 0.000146\n"
     ]
    },
    {
     "name": "stderr",
     "output_type": "stream",
     "text": [
      "Epoch (val) 4/10: 100%|███████████████████| 23/23 [05:50<00:00, 15.23s/it, accepor_recall=0.832, donor_recall=0.902, loss=0.000273, pred_l1_dist=0]\n"
     ]
    },
    {
     "name": "stdout",
     "output_type": "stream",
     "text": [
      "\n",
      "\u001b[1mAcceptor:\u001b[0m\n",
      "0.9736\t0.9129\t0.986\t0.9918\t0.9467\t0.8876000046730042\t0.3271999955177307\t0.00430000014603138\t0.000699999975040555\t21432\n",
      "\n",
      "\u001b[1mDonor:\u001b[0m\n",
      "0.9714\t0.9154\t0.9885\t0.9948\t0.9498\t0.9578999876976013\t0.5354999899864197\t0.00930000003427267\t0.0013000000035390258\t21432\n",
      "epoch: 4/10, val loss = 0.000207\n"
     ]
    },
    {
     "name": "stderr",
     "output_type": "stream",
     "text": [
      "Epoch (train) 5/10: 100%|███████████████| 202/202 [36:28<00:00, 10.84s/it, accepor_recall=0.937, donor_recall=0.945, loss=0.000139, pred_l1_dist=0]\n"
     ]
    },
    {
     "name": "stdout",
     "output_type": "stream",
     "text": [
      "epoch: 5/10, train loss = 0.000133\n"
     ]
    },
    {
     "name": "stderr",
     "output_type": "stream",
     "text": [
      "Epoch (val) 5/10: 100%|███████████████████| 23/23 [05:25<00:00, 14.17s/it, accepor_recall=0.894, donor_recall=0.891, loss=0.000277, pred_l1_dist=0]\n"
     ]
    },
    {
     "name": "stdout",
     "output_type": "stream",
     "text": [
      "\n",
      "\u001b[1mAcceptor:\u001b[0m\n",
      "0.9728\t0.916\t0.9857\t0.9923\t0.9499\t0.9707000255584717\t0.4812999963760376\t0.003100000089034438\t0.0005000000237487257\t21432\n",
      "\n",
      "\u001b[1mDonor:\u001b[0m\n",
      "0.9723\t0.9157\t0.9888\t0.9949\t0.951\t0.9660000205039978\t0.4514999985694885\t0.002300000051036477\t0.0003000000142492354\t21432\n",
      "epoch: 5/10, val loss = 0.000204\n"
     ]
    },
    {
     "name": "stderr",
     "output_type": "stream",
     "text": [
      "Epoch (train) 6/10: 100%|███████████████| 202/202 [36:12<00:00, 10.76s/it, accepor_recall=0.935, donor_recall=0.947, loss=0.000124, pred_l1_dist=0]\n"
     ]
    },
    {
     "name": "stdout",
     "output_type": "stream",
     "text": [
      "epoch: 6/10, train loss = 0.000124\n"
     ]
    },
    {
     "name": "stderr",
     "output_type": "stream",
     "text": [
      "Epoch (val) 6/10: 100%|████████████████████| 23/23 [05:20<00:00, 13.94s/it, accepor_recall=0.882, donor_recall=0.886, loss=0.00028, pred_l1_dist=0]\n"
     ]
    },
    {
     "name": "stdout",
     "output_type": "stream",
     "text": [
      "\n",
      "\u001b[1mAcceptor:\u001b[0m\n",
      "0.9734\t0.913\t0.983\t0.9907\t0.9446\t0.9739000201225281\t0.3330000042915344\t0.0027000000700354576\t0.00039999998989515007\t21432\n",
      "\n",
      "\u001b[1mDonor:\u001b[0m\n",
      "0.9731\t0.9189\t0.9882\t0.9944\t0.9519\t0.9872000217437744\t0.30410000681877136\t0.002099999925121665\t0.00019999999494757503\t21432\n",
      "epoch: 6/10, val loss = 0.000214\n"
     ]
    },
    {
     "name": "stderr",
     "output_type": "stream",
     "text": [
      "Epoch (train) 7/10: 100%|███████████████| 202/202 [36:00<00:00, 10.70s/it, accepor_recall=0.944, donor_recall=0.947, loss=0.000133, pred_l1_dist=0]\n"
     ]
    },
    {
     "name": "stdout",
     "output_type": "stream",
     "text": [
      "epoch: 7/10, train loss = 0.000116\n"
     ]
    },
    {
     "name": "stderr",
     "output_type": "stream",
     "text": [
      "Epoch (val) 7/10: 100%|████████████████████| 23/23 [05:27<00:00, 14.25s/it, accepor_recall=0.913, donor_recall=0.93, loss=0.000256, pred_l1_dist=0]\n"
     ]
    },
    {
     "name": "stdout",
     "output_type": "stream",
     "text": [
      "\n",
      "\u001b[1mAcceptor:\u001b[0m\n",
      "0.9768\t0.9194\t0.986\t0.9932\t0.9522\t0.984000027179718\t0.5770999789237976\t0.006300000008195639\t0.0010000000474974513\t21432\n",
      "\n",
      "\u001b[1mDonor:\u001b[0m\n",
      "0.9753\t0.9211\t0.9898\t0.9953\t0.9556\t0.9865000247955322\t0.6524999737739563\t0.006000000052154064\t0.0007999999797903001\t21432\n",
      "epoch: 7/10, val loss = 0.000194\n"
     ]
    },
    {
     "name": "stderr",
     "output_type": "stream",
     "text": [
      "Epoch (train) 8/10: 100%|████████████████| 202/202 [36:02<00:00, 10.71s/it, accepor_recall=0.961, donor_recall=0.963, loss=9.15e-5, pred_l1_dist=0]\n"
     ]
    },
    {
     "name": "stdout",
     "output_type": "stream",
     "text": [
      "epoch: 8/10, train loss = 0.000095\n"
     ]
    },
    {
     "name": "stderr",
     "output_type": "stream",
     "text": [
      "Epoch (val) 8/10: 100%|████████████████████| 23/23 [05:27<00:00, 14.22s/it, accepor_recall=0.903, donor_recall=0.92, loss=0.000235, pred_l1_dist=0]\n"
     ]
    },
    {
     "name": "stdout",
     "output_type": "stream",
     "text": [
      "\n",
      "\u001b[1mAcceptor:\u001b[0m\n",
      "0.977\t0.9269\t0.9881\t0.993\t0.9565\t0.9735999703407288\t0.4634999930858612\t0.0017000000225380063\t0.0003000000142492354\t21432\n",
      "\n",
      "\u001b[1mDonor:\u001b[0m\n",
      "0.9766\t0.9323\t0.9917\t0.9958\t0.9602\t0.982200026512146\t0.5019999742507935\t0.0017000000225380063\t0.00019999999494757503\t21432\n",
      "epoch: 8/10, val loss = 0.000174\n"
     ]
    },
    {
     "name": "stderr",
     "output_type": "stream",
     "text": [
      "Epoch (train) 9/10: 100%|████████████████| 202/202 [36:19<00:00, 10.79s/it, accepor_recall=0.967, donor_recall=0.969, loss=7.67e-5, pred_l1_dist=0]\n"
     ]
    },
    {
     "name": "stdout",
     "output_type": "stream",
     "text": [
      "epoch: 9/10, train loss = 0.000081\n"
     ]
    },
    {
     "name": "stderr",
     "output_type": "stream",
     "text": [
      "Epoch (val) 9/10: 100%|███████████████████| 23/23 [05:21<00:00, 13.96s/it, accepor_recall=0.914, donor_recall=0.925, loss=0.000241, pred_l1_dist=0]\n"
     ]
    },
    {
     "name": "stdout",
     "output_type": "stream",
     "text": [
      "\n",
      "\u001b[1mAcceptor:\u001b[0m\n",
      "0.976\t0.9311\t0.9887\t0.9937\t0.9558\t0.9869999885559082\t0.48260000348091125\t0.0017999999690800905\t0.0003000000142492354\t21432\n",
      "\n",
      "\u001b[1mDonor:\u001b[0m\n",
      "0.9765\t0.9348\t0.9915\t0.9954\t0.9603\t0.9883000254631042\t0.49540001153945923\t0.0013000000035390258\t0.00019999999494757503\t21432\n",
      "epoch: 9/10, val loss = 0.000177\n"
     ]
    },
    {
     "name": "stderr",
     "output_type": "stream",
     "text": [
      "Epoch (train) 10/10: 100%|████████████████| 202/202 [36:12<00:00, 10.75s/it, accepor_recall=0.971, donor_recall=0.97, loss=7.83e-5, pred_l1_dist=0]\n"
     ]
    },
    {
     "name": "stdout",
     "output_type": "stream",
     "text": [
      "epoch: 10/10, train loss = 0.000072\n"
     ]
    },
    {
     "name": "stderr",
     "output_type": "stream",
     "text": [
      "Epoch (val) 10/10: 100%|███████████████████| 23/23 [05:56<00:00, 15.48s/it, accepor_recall=0.92, donor_recall=0.925, loss=0.000238, pred_l1_dist=0]\n"
     ]
    },
    {
     "name": "stdout",
     "output_type": "stream",
     "text": [
      "\n",
      "\u001b[1mAcceptor:\u001b[0m\n",
      "0.9778\t0.9303\t0.9881\t0.9935\t0.9569\t0.9879000186920166\t0.5080999732017517\t0.0020000000949949026\t0.0003000000142492354\t21432\n",
      "\n",
      "\u001b[1mDonor:\u001b[0m\n",
      "0.9776\t0.935\t0.9916\t0.9957\t0.9601\t0.9861999750137329\t0.5113000273704529\t0.0015999999595806003\t0.00019999999494757503\t21432\n",
      "epoch: 10/10, val loss = 0.000175\n"
     ]
    },
    {
     "data": {
      "image/png": "[encoded data removed]",
      "text/plain": [
       "<Figure size 432x288 with 1 Axes>"
      ]
     },
     "metadata": {
      "needs_background": "light"
     },
     "output_type": "display_data"
    },
    {
     "name": "stderr",
     "output_type": "stream",
     "text": [
      "Epoch (train) 1/10: 100%|████████████████| 202/202 [36:13<00:00, 10.76s/it, accepor_recall=0.87, donor_recall=0.884, loss=0.000199, pred_l1_dist=0]\n"
     ]
    },
    {
     "name": "stdout",
     "output_type": "stream",
     "text": [
      "epoch: 1/10, train loss = 0.007231\n"
     ]
    },
    {
     "name": "stderr",
     "output_type": "stream",
     "text": [
      "Epoch (val) 1/10: 100%|████████████████████| 23/23 [05:24<00:00, 14.12s/it, accepor_recall=0.87, donor_recall=0.908, loss=0.000334, pred_l1_dist=0]\n"
     ]
    },
    {
     "name": "stdout",
     "output_type": "stream",
     "text": [
      "\n",
      "\u001b[1mAcceptor:\u001b[0m\n",
      "0.9655\t0.8825\t0.9762\t0.9881\t0.9251\t0.9509999752044678\t0.5055999755859375\t0.02630000002682209\t0.00430000014603138\t21432\n",
      "\n",
      "\u001b[1mDonor:\u001b[0m\n",
      "0.9696\t0.8854\t0.9793\t0.9904\t0.9305\t0.958899974822998\t0.633899986743927\t0.036400001496076584\t0.004600000102072954\t21432\n",
      "epoch: 1/10, val loss = 0.000265\n"
     ]
    },
    {
     "name": "stderr",
     "output_type": "stream",
     "text": [
      "Epoch (train) 2/10: 100%|███████████████| 202/202 [36:07<00:00, 10.73s/it, accepor_recall=0.896, donor_recall=0.908, loss=0.000184, pred_l1_dist=0]\n"
     ]
    },
    {
     "name": "stdout",
     "output_type": "stream",
     "text": [
      "epoch: 2/10, train loss = 0.000195\n"
     ]
    },
    {
     "name": "stderr",
     "output_type": "stream",
     "text": [
      "Epoch (val) 2/10: 100%|█████████████████████| 23/23 [06:05<00:00, 15.91s/it, accepor_recall=0.9, donor_recall=0.932, loss=0.000314, pred_l1_dist=0]\n"
     ]
    },
    {
     "name": "stdout",
     "output_type": "stream",
     "text": [
      "\n",
      "\u001b[1mAcceptor:\u001b[0m\n",
      "0.9716\t0.8943\t0.9802\t0.9907\t0.9375\t0.9771000146865845\t0.5688999891281128\t0.021299999207258224\t0.003100000089034438\t21432\n",
      "\n",
      "\u001b[1mDonor:\u001b[0m\n",
      "0.9716\t0.9039\t0.9861\t0.9924\t0.9441\t0.9872999787330627\t0.7063000202178955\t0.02449999935925007\t0.0031999999191612005\t21432\n",
      "epoch: 2/10, val loss = 0.000244\n"
     ]
    },
    {
     "name": "stderr",
     "output_type": "stream",
     "text": [
      "Epoch (train) 3/10: 100%|███████████████| 202/202 [36:16<00:00, 10.77s/it, accepor_recall=0.918, donor_recall=0.921, loss=0.000162, pred_l1_dist=0]\n"
     ]
    },
    {
     "name": "stdout",
     "output_type": "stream",
     "text": [
      "epoch: 3/10, train loss = 0.000166\n"
     ]
    },
    {
     "name": "stderr",
     "output_type": "stream",
     "text": [
      "Epoch (val) 3/10: 100%|███████████████████| 23/23 [05:24<00:00, 14.09s/it, accepor_recall=0.892, donor_recall=0.921, loss=0.000276, pred_l1_dist=0]\n"
     ]
    },
    {
     "name": "stdout",
     "output_type": "stream",
     "text": [
      "\n",
      "\u001b[1mAcceptor:\u001b[0m\n",
      "0.9741\t0.9111\t0.984\t0.9911\t0.9465\t0.9641000032424927\t0.3919999897480011\t0.0044999998062849045\t0.0007999999797903001\t21432\n",
      "\n",
      "\u001b[1mDonor:\u001b[0m\n",
      "0.9712\t0.9137\t0.9879\t0.9947\t0.9477\t0.982699990272522\t0.5608000159263611\t0.006500000134110451\t0.0008999999845400453\t21432\n",
      "epoch: 3/10, val loss = 0.000209\n"
     ]
    },
    {
     "name": "stderr",
     "output_type": "stream",
     "text": [
      "Epoch (train) 4/10: 100%|████████████████| 202/202 [36:09<00:00, 10.74s/it, accepor_recall=0.93, donor_recall=0.936, loss=0.000151, pred_l1_dist=0]\n"
     ]
    },
    {
     "name": "stdout",
     "output_type": "stream",
     "text": [
      "epoch: 4/10, train loss = 0.000148\n"
     ]
    },
    {
     "name": "stderr",
     "output_type": "stream",
     "text": [
      "Epoch (val) 4/10: 100%|████████████████████| 23/23 [05:23<00:00, 14.05s/it, accepor_recall=0.807, donor_recall=0.792, loss=0.00041, pred_l1_dist=0]\n"
     ]
    },
    {
     "name": "stdout",
     "output_type": "stream",
     "text": [
      "\n",
      "\u001b[1mAcceptor:\u001b[0m\n",
      "0.9716\t0.8813\t0.9655\t0.9796\t0.9221\t0.9605000019073486\t0.12110000103712082\t0.0019000000320374966\t0.00039999998989515007\t21432\n",
      "\n",
      "\u001b[1mDonor:\u001b[0m\n",
      "0.97\t0.8858\t0.9804\t0.9919\t0.933\t0.9528999924659729\t0.07970000058412552\t0.000699999975040555\t9.999999747378752e-05\t21432\n",
      "epoch: 4/10, val loss = 0.000342\n"
     ]
    },
    {
     "name": "stderr",
     "output_type": "stream",
     "text": [
      "Epoch (train) 5/10: 100%|███████████████| 202/202 [36:11<00:00, 10.75s/it, accepor_recall=0.932, donor_recall=0.937, loss=0.000124, pred_l1_dist=0]\n"
     ]
    },
    {
     "name": "stdout",
     "output_type": "stream",
     "text": [
      "epoch: 5/10, train loss = 0.000134\n"
     ]
    },
    {
     "name": "stderr",
     "output_type": "stream",
     "text": [
      "Epoch (val) 5/10: 100%|████████████████████| 23/23 [05:25<00:00, 14.17s/it, accepor_recall=0.883, donor_recall=0.895, loss=0.00026, pred_l1_dist=0]\n"
     ]
    },
    {
     "name": "stdout",
     "output_type": "stream",
     "text": [
      "\n",
      "\u001b[1mAcceptor:\u001b[0m\n",
      "0.976\t0.9202\t0.9873\t0.9928\t0.9536\t0.9681000113487244\t0.3865000009536743\t0.003599999938160181\t0.0006000000284984708\t21432\n",
      "\n",
      "\u001b[1mDonor:\u001b[0m\n",
      "0.9773\t0.9231\t0.9905\t0.9954\t0.9577\t0.9779000282287598\t0.3610000014305115\t0.001500000013038516\t0.00019999999494757503\t21432\n",
      "epoch: 5/10, val loss = 0.000191\n"
     ]
    },
    {
     "name": "stderr",
     "output_type": "stream",
     "text": [
      "Epoch (train) 6/10: 100%|████████████████| 202/202 [36:05<00:00, 10.72s/it, accepor_recall=0.94, donor_recall=0.944, loss=0.000121, pred_l1_dist=0]\n"
     ]
    },
    {
     "name": "stdout",
     "output_type": "stream",
     "text": [
      "epoch: 6/10, train loss = 0.000125\n"
     ]
    },
    {
     "name": "stderr",
     "output_type": "stream",
     "text": [
      "Epoch (val) 6/10: 100%|███████████████████| 23/23 [05:37<00:00, 14.67s/it, accepor_recall=0.897, donor_recall=0.903, loss=0.000254, pred_l1_dist=0]\n"
     ]
    },
    {
     "name": "stdout",
     "output_type": "stream",
     "text": [
      "\n",
      "\u001b[1mAcceptor:\u001b[0m\n",
      "0.9747\t0.9218\t0.9862\t0.9923\t0.9528\t0.9735000133514404\t0.3732999861240387\t0.0044999998062849045\t0.0010999999940395355\t21432\n",
      "\n",
      "\u001b[1mDonor:\u001b[0m\n",
      "0.9753\t0.9234\t0.9907\t0.995\t0.9557\t0.9401000142097473\t0.46000000834465027\t0.007699999958276749\t0.001500000013038516\t21432\n",
      "epoch: 6/10, val loss = 0.000187\n"
     ]
    },
    {
     "name": "stderr",
     "output_type": "stream",
     "text": [
      "Epoch (train) 7/10: 100%|████████████████| 202/202 [36:11<00:00, 10.75s/it, accepor_recall=0.945, donor_recall=0.95, loss=0.000117, pred_l1_dist=0]\n"
     ]
    },
    {
     "name": "stdout",
     "output_type": "stream",
     "text": [
      "epoch: 7/10, train loss = 0.000117\n"
     ]
    },
    {
     "name": "stderr",
     "output_type": "stream",
     "text": [
      "Epoch (val) 7/10: 100%|████████████████████| 23/23 [05:51<00:00, 15.28s/it, accepor_recall=0.895, donor_recall=0.904, loss=0.00026, pred_l1_dist=0]\n"
     ]
    },
    {
     "name": "stdout",
     "output_type": "stream",
     "text": [
      "\n",
      "\u001b[1mAcceptor:\u001b[0m\n",
      "0.9754\t0.918\t0.9877\t0.9935\t0.9522\t0.9617000222206116\t0.39590001106262207\t0.0035000001080334187\t0.0006000000284984708\t21432\n",
      "\n",
      "\u001b[1mDonor:\u001b[0m\n",
      "0.9754\t0.9231\t0.9906\t0.9955\t0.9568\t0.960099995136261\t0.36410000920295715\t0.0017000000225380063\t0.0003000000142492354\t21432\n",
      "epoch: 7/10, val loss = 0.000191\n"
     ]
    },
    {
     "name": "stderr",
     "output_type": "stream",
     "text": [
      "Epoch (train) 8/10: 100%|████████████████| 202/202 [36:15<00:00, 10.77s/it, accepor_recall=0.962, donor_recall=0.963, loss=9.49e-5, pred_l1_dist=0]\n"
     ]
    },
    {
     "name": "stdout",
     "output_type": "stream",
     "text": [
      "epoch: 8/10, train loss = 0.000097\n"
     ]
    },
    {
     "name": "stderr",
     "output_type": "stream",
     "text": [
      "Epoch (val) 8/10: 100%|███████████████████| 23/23 [05:23<00:00, 14.06s/it, accepor_recall=0.929, donor_recall=0.929, loss=0.000243, pred_l1_dist=0]\n"
     ]
    },
    {
     "name": "stdout",
     "output_type": "stream",
     "text": [
      "\n",
      "\u001b[1mAcceptor:\u001b[0m\n",
      "0.9773\t0.93\t0.9891\t0.9938\t0.9584\t0.989300012588501\t0.5455999970436096\t0.0013000000035390258\t0.00019999999494757503\t21432\n",
      "\n",
      "\u001b[1mDonor:\u001b[0m\n",
      "0.9775\t0.9317\t0.9912\t0.9957\t0.9609\t0.9868999719619751\t0.551800012588501\t0.0010000000474974513\t9.999999747378752e-05\t21432\n",
      "epoch: 8/10, val loss = 0.000180\n"
     ]
    },
    {
     "name": "stderr",
     "output_type": "stream",
     "text": [
      "Epoch (train) 9/10: 100%|████████████████| 202/202 [36:16<00:00, 10.77s/it, accepor_recall=0.969, donor_recall=0.967, loss=8.36e-5, pred_l1_dist=0]\n"
     ]
    },
    {
     "name": "stdout",
     "output_type": "stream",
     "text": [
      "epoch: 9/10, train loss = 0.000082\n"
     ]
    },
    {
     "name": "stderr",
     "output_type": "stream",
     "text": [
      "Epoch (val) 9/10: 100%|███████████████████| 23/23 [05:37<00:00, 14.69s/it, accepor_recall=0.904, donor_recall=0.915, loss=0.000241, pred_l1_dist=0]\n"
     ]
    },
    {
     "name": "stdout",
     "output_type": "stream",
     "text": [
      "\n",
      "\u001b[1mAcceptor:\u001b[0m\n",
      "0.9764\t0.9296\t0.988\t0.9935\t0.9562\t0.979200005531311\t0.44190001487731934\t0.0013000000035390258\t0.00019999999494757503\t21432\n",
      "\n",
      "\u001b[1mDonor:\u001b[0m\n",
      "0.9759\t0.9307\t0.9913\t0.9958\t0.9603\t0.9800999760627747\t0.4088999927043915\t0.0015999999595806003\t0.00019999999494757503\t21432\n",
      "epoch: 9/10, val loss = 0.000178\n"
     ]
    },
    {
     "name": "stderr",
     "output_type": "stream",
     "text": [
      "Epoch (train) 10/10: 100%|███████████████| 202/202 [36:25<00:00, 10.82s/it, accepor_recall=0.973, donor_recall=0.971, loss=6.82e-5, pred_l1_dist=0]\n"
     ]
    },
    {
     "name": "stdout",
     "output_type": "stream",
     "text": [
      "epoch: 10/10, train loss = 0.000073\n"
     ]
    },
    {
     "name": "stderr",
     "output_type": "stream",
     "text": [
      "Epoch (val) 10/10: 100%|██████████████████| 23/23 [05:19<00:00, 13.89s/it, accepor_recall=0.912, donor_recall=0.924, loss=0.000244, pred_l1_dist=0]\n"
     ]
    },
    {
     "name": "stdout",
     "output_type": "stream",
     "text": [
      "\n",
      "\u001b[1mAcceptor:\u001b[0m\n",
      "0.978\t0.9299\t0.9886\t0.9929\t0.9583\t0.9876999855041504\t0.44940000772476196\t0.0012000000569969416\t0.00019999999494757503\t21432\n",
      "\n",
      "\u001b[1mDonor:\u001b[0m\n",
      "0.9776\t0.9325\t0.9905\t0.9951\t0.9603\t0.9876000285148621\t0.4821999967098236\t0.0010999999940395355\t0.00019999999494757503\t21432\n",
      "epoch: 10/10, val loss = 0.000182\n"
     ]
    },
    {
     "data": {
      "image/png": "[encoded data removed]",
      "text/plain": [
       "<Figure size 432x288 with 1 Axes>"
      ]
     },
     "metadata": {
      "needs_background": "light"
     },
     "output_type": "display_data"
    },
    {
     "name": "stderr",
     "output_type": "stream",
     "text": [
      "Epoch (train) 1/10: 100%|███████████████| 202/202 [36:10<00:00, 10.75s/it, accepor_recall=0.879, donor_recall=0.881, loss=0.000213, pred_l1_dist=0]\n"
     ]
    },
    {
     "name": "stdout",
     "output_type": "stream",
     "text": [
      "epoch: 1/10, train loss = 0.007444\n"
     ]
    },
    {
     "name": "stderr",
     "output_type": "stream",
     "text": [
      "Epoch (val) 1/10: 100%|███████████████████| 23/23 [05:28<00:00, 14.30s/it, accepor_recall=0.885, donor_recall=0.853, loss=0.000498, pred_l1_dist=0]\n"
     ]
    },
    {
     "name": "stdout",
     "output_type": "stream",
     "text": [
      "\n",
      "\u001b[1mAcceptor:\u001b[0m\n",
      "0.9463\t0.831\t0.959\t0.9824\t0.8841\t0.9437000155448914\t0.7281000018119812\t0.14169999957084656\t0.022199999541044235\t21432\n",
      "\n",
      "\u001b[1mDonor:\u001b[0m\n",
      "0.9512\t0.827\t0.9594\t0.9838\t0.8833\t0.9035000205039978\t0.6171000003814697\t0.06689999997615814\t0.007400000002235174\t21432\n",
      "epoch: 1/10, val loss = 0.000410\n"
     ]
    },
    {
     "name": "stderr",
     "output_type": "stream",
     "text": [
      "Epoch (train) 2/10: 100%|███████████████| 202/202 [36:09<00:00, 10.74s/it, accepor_recall=0.903, donor_recall=0.908, loss=0.000197, pred_l1_dist=0]\n"
     ]
    },
    {
     "name": "stdout",
     "output_type": "stream",
     "text": [
      "epoch: 2/10, train loss = 0.000196\n"
     ]
    },
    {
     "name": "stderr",
     "output_type": "stream",
     "text": [
      "Epoch (val) 2/10: 100%|███████████████████| 23/23 [05:52<00:00, 15.33s/it, accepor_recall=0.924, donor_recall=0.904, loss=0.000299, pred_l1_dist=0]\n"
     ]
    },
    {
     "name": "stdout",
     "output_type": "stream",
     "text": [
      "\n",
      "\u001b[1mAcceptor:\u001b[0m\n",
      "0.9713\t0.9057\t0.9801\t0.9906\t0.9414\t0.9932000041007996\t0.6692000031471252\t0.012799999676644802\t0.001500000013038516\t21432\n",
      "\n",
      "\u001b[1mDonor:\u001b[0m\n",
      "0.9734\t0.9101\t0.9877\t0.9944\t0.9466\t0.9706000089645386\t0.4440999925136566\t0.006800000090152025\t0.0008999999845400453\t21432\n",
      "epoch: 2/10, val loss = 0.000226\n"
     ]
    },
    {
     "name": "stderr",
     "output_type": "stream",
     "text": [
      "Epoch (train) 3/10: 100%|████████████████| 202/202 [36:09<00:00, 10.74s/it, accepor_recall=0.91, donor_recall=0.919, loss=0.000171, pred_l1_dist=0]\n"
     ]
    },
    {
     "name": "stdout",
     "output_type": "stream",
     "text": [
      "epoch: 3/10, train loss = 0.000166\n"
     ]
    },
    {
     "name": "stderr",
     "output_type": "stream",
     "text": [
      "Epoch (val) 3/10: 100%|████████████████████| 23/23 [05:22<00:00, 14.02s/it, accepor_recall=0.895, donor_recall=0.91, loss=0.000285, pred_l1_dist=0]\n"
     ]
    },
    {
     "name": "stdout",
     "output_type": "stream",
     "text": [
      "\n",
      "\u001b[1mAcceptor:\u001b[0m\n",
      "0.9746\t0.9061\t0.9839\t0.9912\t0.9453\t0.9384999871253967\t0.5616000294685364\t0.023800000548362732\t0.004600000102072954\t21432\n",
      "\n",
      "\u001b[1mDonor:\u001b[0m\n",
      "0.968\t0.9092\t0.9867\t0.9939\t0.9421\t0.9381999969482422\t0.5516999959945679\t0.019500000402331352\t0.0027000000700354576\t21432\n",
      "epoch: 3/10, val loss = 0.000218\n"
     ]
    },
    {
     "name": "stderr",
     "output_type": "stream",
     "text": [
      "Epoch (train) 4/10: 100%|███████████████| 202/202 [36:21<00:00, 10.80s/it, accepor_recall=0.921, donor_recall=0.926, loss=0.000143, pred_l1_dist=0]\n"
     ]
    },
    {
     "name": "stdout",
     "output_type": "stream",
     "text": [
      "epoch: 4/10, train loss = 0.000148\n"
     ]
    },
    {
     "name": "stderr",
     "output_type": "stream",
     "text": [
      "Epoch (val) 4/10: 100%|█████████████████████| 23/23 [05:24<00:00, 14.10s/it, accepor_recall=0.8, donor_recall=0.834, loss=0.000344, pred_l1_dist=0]\n"
     ]
    },
    {
     "name": "stdout",
     "output_type": "stream",
     "text": [
      "\n",
      "\u001b[1mAcceptor:\u001b[0m\n",
      "0.948\t0.8998\t0.9831\t0.9912\t0.9196\t0.7789999842643738\t0.2680000066757202\t0.009499999694526196\t0.0024999999441206455\t21432\n",
      "\n",
      "\u001b[1mDonor:\u001b[0m\n",
      "0.9518\t0.9109\t0.9878\t0.994\t0.9336\t0.7712000012397766\t0.3285999894142151\t0.006300000008195639\t0.0015999999595806003\t21432\n",
      "epoch: 4/10, val loss = 0.000265\n"
     ]
    },
    {
     "name": "stderr",
     "output_type": "stream",
     "text": [
      "Epoch (train) 5/10: 100%|███████████████| 202/202 [36:21<00:00, 10.80s/it, accepor_recall=0.934, donor_recall=0.939, loss=0.000122, pred_l1_dist=0]\n"
     ]
    },
    {
     "name": "stdout",
     "output_type": "stream",
     "text": [
      "epoch: 5/10, train loss = 0.000135\n"
     ]
    },
    {
     "name": "stderr",
     "output_type": "stream",
     "text": [
      "Epoch (val) 5/10: 100%|███████████████████| 23/23 [05:50<00:00, 15.24s/it, accepor_recall=0.916, donor_recall=0.915, loss=0.000247, pred_l1_dist=0]\n"
     ]
    },
    {
     "name": "stdout",
     "output_type": "stream",
     "text": [
      "\n",
      "\u001b[1mAcceptor:\u001b[0m\n",
      "0.9736\t0.9215\t0.9865\t0.9926\t0.9511\t0.9811000227928162\t0.522599995136261\t0.00860000029206276\t0.00139999995008111\t21432\n",
      "\n",
      "\u001b[1mDonor:\u001b[0m\n",
      "0.9752\t0.9243\t0.9898\t0.9951\t0.9564\t0.9786999821662903\t0.4668999910354614\t0.004699999932199717\t0.000699999975040555\t21432\n",
      "epoch: 5/10, val loss = 0.000185\n"
     ]
    },
    {
     "name": "stderr",
     "output_type": "stream",
     "text": [
      "Epoch (train) 6/10: 100%|███████████████| 202/202 [36:32<00:00, 10.85s/it, accepor_recall=0.933, donor_recall=0.943, loss=0.000121, pred_l1_dist=0]\n"
     ]
    },
    {
     "name": "stdout",
     "output_type": "stream",
     "text": [
      "epoch: 6/10, train loss = 0.000126\n"
     ]
    },
    {
     "name": "stderr",
     "output_type": "stream",
     "text": [
      "Epoch (val) 6/10: 100%|███████████████████| 23/23 [05:26<00:00, 14.18s/it, accepor_recall=0.895, donor_recall=0.912, loss=0.000266, pred_l1_dist=0]\n"
     ]
    },
    {
     "name": "stdout",
     "output_type": "stream",
     "text": [
      "\n",
      "\u001b[1mAcceptor:\u001b[0m\n",
      "0.9752\t0.9206\t0.9867\t0.9934\t0.9507\t0.9821000099182129\t0.36239999532699585\t0.0013000000035390258\t0.00019999999494757503\t21432\n",
      "\n",
      "\u001b[1mDonor:\u001b[0m\n",
      "0.973\t0.9208\t0.9896\t0.9952\t0.9531\t0.9879999756813049\t0.45570001006126404\t0.0019000000320374966\t0.0003000000142492354\t21432\n",
      "epoch: 6/10, val loss = 0.000204\n"
     ]
    },
    {
     "name": "stderr",
     "output_type": "stream",
     "text": [
      "Epoch (train) 7/10: 100%|███████████████| 202/202 [36:11<00:00, 10.75s/it, accepor_recall=0.944, donor_recall=0.952, loss=0.000117, pred_l1_dist=0]\n"
     ]
    },
    {
     "name": "stdout",
     "output_type": "stream",
     "text": [
      "epoch: 7/10, train loss = 0.000118\n"
     ]
    },
    {
     "name": "stderr",
     "output_type": "stream",
     "text": [
      "Epoch (val) 7/10: 100%|███████████████████| 23/23 [05:24<00:00, 14.09s/it, accepor_recall=0.925, donor_recall=0.935, loss=0.000261, pred_l1_dist=0]\n"
     ]
    },
    {
     "name": "stdout",
     "output_type": "stream",
     "text": [
      "\n",
      "\u001b[1mAcceptor:\u001b[0m\n",
      "0.9766\t0.9222\t0.9872\t0.9927\t0.9532\t0.9882000088691711\t0.6642000079154968\t0.007199999876320362\t0.0012000000569969416\t21432\n",
      "\n",
      "\u001b[1mDonor:\u001b[0m\n",
      "0.9735\t0.9236\t0.9903\t0.9946\t0.955\t0.9908000230789185\t0.6833000183105469\t0.005799999926239252\t0.000699999975040555\t21432\n",
      "epoch: 7/10, val loss = 0.000194\n"
     ]
    },
    {
     "name": "stderr",
     "output_type": "stream",
     "text": [
      "Epoch (train) 8/10: 100%|████████████████| 202/202 [36:31<00:00, 10.85s/it, accepor_recall=0.961, donor_recall=0.963, loss=9.99e-5, pred_l1_dist=0]\n"
     ]
    },
    {
     "name": "stdout",
     "output_type": "stream",
     "text": [
      "epoch: 8/10, train loss = 0.000097\n"
     ]
    },
    {
     "name": "stderr",
     "output_type": "stream",
     "text": [
      "Epoch (val) 8/10: 100%|███████████████████| 23/23 [06:04<00:00, 15.86s/it, accepor_recall=0.915, donor_recall=0.926, loss=0.000236, pred_l1_dist=0]\n"
     ]
    },
    {
     "name": "stdout",
     "output_type": "stream",
     "text": [
      "\n",
      "\u001b[1mAcceptor:\u001b[0m\n",
      "0.9795\t0.9274\t0.9874\t0.9937\t0.9571\t0.986299991607666\t0.5163000226020813\t0.002899999963119626\t0.0006000000284984708\t21432\n",
      "\n",
      "\u001b[1mDonor:\u001b[0m\n",
      "0.9776\t0.9298\t0.9913\t0.9958\t0.9611\t0.9857000112533569\t0.5029000043869019\t0.002199999988079071\t0.00039999998989515007\t21432\n",
      "epoch: 8/10, val loss = 0.000177\n"
     ]
    },
    {
     "name": "stderr",
     "output_type": "stream",
     "text": [
      "Epoch (train) 9/10: 100%|███████████████| 202/202 [36:20<00:00, 10.79s/it, accepor_recall=0.957, donor_recall=0.963, loss=0.000106, pred_l1_dist=0]\n"
     ]
    },
    {
     "name": "stdout",
     "output_type": "stream",
     "text": [
      "epoch: 9/10, train loss = 0.000083\n"
     ]
    },
    {
     "name": "stderr",
     "output_type": "stream",
     "text": [
      "Epoch (val) 9/10: 100%|███████████████████| 23/23 [05:31<00:00, 14.41s/it, accepor_recall=0.901, donor_recall=0.899, loss=0.000244, pred_l1_dist=0]\n"
     ]
    },
    {
     "name": "stdout",
     "output_type": "stream",
     "text": [
      "\n",
      "\u001b[1mAcceptor:\u001b[0m\n",
      "0.9756\t0.9234\t0.9874\t0.993\t0.953\t0.9714000225067139\t0.3926999866962433\t0.003000000026077032\t0.0005000000237487257\t21432\n",
      "\n",
      "\u001b[1mDonor:\u001b[0m\n",
      "0.9743\t0.9276\t0.9904\t0.9949\t0.9564\t0.9592999815940857\t0.31700000166893005\t0.0015999999595806003\t0.0003000000142492354\t21432\n",
      "epoch: 9/10, val loss = 0.000187\n"
     ]
    },
    {
     "name": "stderr",
     "output_type": "stream",
     "text": [
      "Epoch (train) 10/10: 100%|███████████████| 202/202 [36:17<00:00, 10.78s/it, accepor_recall=0.967, donor_recall=0.971, loss=8.21e-5, pred_l1_dist=0]\n"
     ]
    },
    {
     "name": "stdout",
     "output_type": "stream",
     "text": [
      "epoch: 10/10, train loss = 0.000075\n"
     ]
    },
    {
     "name": "stderr",
     "output_type": "stream",
     "text": [
      "Epoch (val) 10/10: 100%|██████████████████| 23/23 [05:22<00:00, 14.03s/it, accepor_recall=0.918, donor_recall=0.919, loss=0.000238, pred_l1_dist=0]\n"
     ]
    },
    {
     "name": "stdout",
     "output_type": "stream",
     "text": [
      "\n",
      "\u001b[1mAcceptor:\u001b[0m\n",
      "0.9732\t0.9297\t0.9886\t0.9935\t0.9545\t0.9807000160217285\t0.505299985408783\t0.002099999925121665\t0.0003000000142492354\t21432\n",
      "\n",
      "\u001b[1mDonor:\u001b[0m\n",
      "0.9743\t0.9326\t0.9904\t0.9958\t0.9595\t0.9731000065803528\t0.43059998750686646\t0.0013000000035390258\t0.00019999999494757503\t21432\n",
      "epoch: 10/10, val loss = 0.000176\n"
     ]
    },
    {
     "data": {
      "image/png": "[encoded data removed]",
      "text/plain": [
       "<Figure size 432x288 with 1 Axes>"
      ]
     },
     "metadata": {
      "needs_background": "light"
     },
     "output_type": "display_data"
    },
    {
     "name": "stderr",
     "output_type": "stream",
     "text": [
      "Epoch (train) 1/10: 100%|███████████████| 202/202 [36:25<00:00, 10.82s/it, accepor_recall=0.869, donor_recall=0.884, loss=0.000214, pred_l1_dist=0]\n"
     ]
    },
    {
     "name": "stdout",
     "output_type": "stream",
     "text": [
      "epoch: 1/10, train loss = 0.007090\n"
     ]
    },
    {
     "name": "stderr",
     "output_type": "stream",
     "text": [
      "Epoch (val) 1/10: 100%|███████████████████| 23/23 [05:21<00:00, 13.97s/it, accepor_recall=0.764, donor_recall=0.829, loss=0.000418, pred_l1_dist=0]\n"
     ]
    },
    {
     "name": "stdout",
     "output_type": "stream",
     "text": [
      "\n",
      "\u001b[1mAcceptor:\u001b[0m\n",
      "0.9627\t0.8464\t0.9531\t0.9784\t0.8982\t0.9221000075340271\t0.18950000405311584\t0.005499999970197678\t0.0007999999797903001\t21432\n",
      "\n",
      "\u001b[1mDonor:\u001b[0m\n",
      "0.9642\t0.8582\t0.9653\t0.9841\t0.9085\t0.9692000150680542\t0.3589000105857849\t0.006599999964237213\t0.0008999999845400453\t21432\n",
      "epoch: 1/10, val loss = 0.000353\n"
     ]
    },
    {
     "name": "stderr",
     "output_type": "stream",
     "text": [
      "Epoch (train) 2/10: 100%|███████████████| 202/202 [36:11<00:00, 10.75s/it, accepor_recall=0.907, donor_recall=0.921, loss=0.000179, pred_l1_dist=0]\n"
     ]
    },
    {
     "name": "stdout",
     "output_type": "stream",
     "text": [
      "epoch: 2/10, train loss = 0.000195\n"
     ]
    },
    {
     "name": "stderr",
     "output_type": "stream",
     "text": [
      "Epoch (val) 2/10: 100%|███████████████████| 23/23 [05:27<00:00, 14.24s/it, accepor_recall=0.832, donor_recall=0.869, loss=0.000327, pred_l1_dist=0]\n"
     ]
    },
    {
     "name": "stdout",
     "output_type": "stream",
     "text": [
      "\n",
      "\u001b[1mAcceptor:\u001b[0m\n",
      "0.9695\t0.8998\t0.9771\t0.9876\t0.936\t0.9535999894142151\t0.20309999585151672\t0.0017999999690800905\t0.0003000000142492354\t21432\n",
      "\n",
      "\u001b[1mDonor:\u001b[0m\n",
      "0.9711\t0.904\t0.9853\t0.9929\t0.9431\t0.9708999991416931\t0.3102000057697296\t0.002400000113993883\t0.0003000000142492354\t21432\n",
      "epoch: 2/10, val loss = 0.000253\n"
     ]
    },
    {
     "name": "stderr",
     "output_type": "stream",
     "text": [
      "Epoch (train) 3/10: 100%|███████████████| 202/202 [36:27<00:00, 10.83s/it, accepor_recall=0.919, donor_recall=0.926, loss=0.000167, pred_l1_dist=0]\n"
     ]
    },
    {
     "name": "stdout",
     "output_type": "stream",
     "text": [
      "epoch: 3/10, train loss = 0.000167\n"
     ]
    },
    {
     "name": "stderr",
     "output_type": "stream",
     "text": [
      "Epoch (val) 3/10: 100%|████████████████████| 23/23 [05:45<00:00, 15.02s/it, accepor_recall=0.902, donor_recall=0.91, loss=0.000307, pred_l1_dist=0]\n"
     ]
    },
    {
     "name": "stdout",
     "output_type": "stream",
     "text": [
      "\n",
      "\u001b[1mAcceptor:\u001b[0m\n",
      "0.9716\t0.903\t0.9816\t0.99\t0.9398\t0.9911999702453613\t0.6122000217437744\t0.006599999964237213\t0.0008999999845400453\t21432\n",
      "\n",
      "\u001b[1mDonor:\u001b[0m\n",
      "0.9704\t0.903\t0.9868\t0.994\t0.9438\t0.9824000000953674\t0.5899999737739563\t0.00430000014603138\t0.0005000000237487257\t21432\n",
      "epoch: 3/10, val loss = 0.000234\n"
     ]
    },
    {
     "name": "stderr",
     "output_type": "stream",
     "text": [
      "Epoch (train) 4/10: 100%|███████████████| 202/202 [36:02<00:00, 10.71s/it, accepor_recall=0.933, donor_recall=0.936, loss=0.000154, pred_l1_dist=0]\n"
     ]
    },
    {
     "name": "stdout",
     "output_type": "stream",
     "text": [
      "epoch: 4/10, train loss = 0.000149\n"
     ]
    },
    {
     "name": "stderr",
     "output_type": "stream",
     "text": [
      "Epoch (val) 4/10: 100%|███████████████████| 23/23 [05:25<00:00, 14.15s/it, accepor_recall=0.826, donor_recall=0.871, loss=0.000297, pred_l1_dist=0]\n"
     ]
    },
    {
     "name": "stdout",
     "output_type": "stream",
     "text": [
      "\n",
      "\u001b[1mAcceptor:\u001b[0m\n",
      "0.9744\t0.9064\t0.981\t0.9906\t0.9454\t0.9466999769210815\t0.18479999899864197\t0.0034000000450760126\t0.0007999999797903001\t21432\n",
      "\n",
      "\u001b[1mDonor:\u001b[0m\n",
      "0.9744\t0.9144\t0.9882\t0.9944\t0.9503\t0.963100016117096\t0.27480000257492065\t0.0035000001080334187\t0.000699999975040555\t21432\n",
      "epoch: 4/10, val loss = 0.000226\n"
     ]
    },
    {
     "name": "stderr",
     "output_type": "stream",
     "text": [
      "Epoch (train) 5/10: 100%|███████████████| 202/202 [36:08<00:00, 10.73s/it, accepor_recall=0.935, donor_recall=0.945, loss=0.000127, pred_l1_dist=0]\n"
     ]
    },
    {
     "name": "stdout",
     "output_type": "stream",
     "text": [
      "epoch: 5/10, train loss = 0.000136\n"
     ]
    },
    {
     "name": "stderr",
     "output_type": "stream",
     "text": [
      "Epoch (val) 5/10: 100%|███████████████████| 23/23 [05:23<00:00, 14.06s/it, accepor_recall=0.925, donor_recall=0.932, loss=0.000252, pred_l1_dist=0]\n"
     ]
    },
    {
     "name": "stdout",
     "output_type": "stream",
     "text": [
      "\n",
      "\u001b[1mAcceptor:\u001b[0m\n",
      "0.9756\t0.9185\t0.9877\t0.9937\t0.9539\t0.986299991607666\t0.6812000274658203\t0.0044999998062849045\t0.0006000000284984708\t21432\n",
      "\n",
      "\u001b[1mDonor:\u001b[0m\n",
      "0.9729\t0.9221\t0.9902\t0.9957\t0.9553\t0.9850999712944031\t0.6758000254631042\t0.004699999932199717\t0.0006000000284984708\t21432\n",
      "epoch: 5/10, val loss = 0.000193\n"
     ]
    },
    {
     "name": "stderr",
     "output_type": "stream",
     "text": [
      "Epoch (train) 6/10: 100%|████████████████| 202/202 [36:16<00:00, 10.78s/it, accepor_recall=0.94, donor_recall=0.944, loss=0.000114, pred_l1_dist=0]\n"
     ]
    },
    {
     "name": "stdout",
     "output_type": "stream",
     "text": [
      "epoch: 6/10, train loss = 0.000127\n"
     ]
    },
    {
     "name": "stderr",
     "output_type": "stream",
     "text": [
      "Epoch (val) 6/10: 100%|████████████████████| 23/23 [05:33<00:00, 14.49s/it, accepor_recall=0.915, donor_recall=0.923, loss=0.00024, pred_l1_dist=0]\n"
     ]
    },
    {
     "name": "stdout",
     "output_type": "stream",
     "text": [
      "\n",
      "\u001b[1mAcceptor:\u001b[0m\n",
      "0.9756\t0.9225\t0.987\t0.9927\t0.9539\t0.9793000221252441\t0.5414999723434448\t0.007400000002235174\t0.0013000000035390258\t21432\n",
      "\n",
      "\u001b[1mDonor:\u001b[0m\n",
      "0.976\t0.9283\t0.9916\t0.9955\t0.9585\t0.986299991607666\t0.5146999955177307\t0.0031999999191612005\t0.00039999998989515007\t21432\n",
      "epoch: 6/10, val loss = 0.000180\n"
     ]
    },
    {
     "name": "stderr",
     "output_type": "stream",
     "text": [
      "Epoch (train) 7/10: 100%|███████████████| 202/202 [36:10<00:00, 10.75s/it, accepor_recall=0.946, donor_recall=0.948, loss=0.000126, pred_l1_dist=0]\n"
     ]
    },
    {
     "name": "stdout",
     "output_type": "stream",
     "text": [
      "epoch: 7/10, train loss = 0.000120\n"
     ]
    },
    {
     "name": "stderr",
     "output_type": "stream",
     "text": [
      "Epoch (val) 7/10: 100%|████████████████████| 23/23 [05:23<00:00, 14.08s/it, accepor_recall=0.93, donor_recall=0.929, loss=0.000261, pred_l1_dist=0]\n"
     ]
    },
    {
     "name": "stdout",
     "output_type": "stream",
     "text": [
      "\n",
      "\u001b[1mAcceptor:\u001b[0m\n",
      "0.9749\t0.9221\t0.9877\t0.9935\t0.9529\t0.9900000095367432\t0.7189000248908997\t0.00570000009611249\t0.0008999999845400453\t21432\n",
      "\n",
      "\u001b[1mDonor:\u001b[0m\n",
      "0.9723\t0.925\t0.9914\t0.9953\t0.9546\t0.9836999773979187\t0.6906999945640564\t0.004999999888241291\t0.0006000000284984708\t21432\n",
      "epoch: 7/10, val loss = 0.000193\n"
     ]
    },
    {
     "name": "stderr",
     "output_type": "stream",
     "text": [
      "Epoch (train) 8/10: 100%|████████████████| 202/202 [36:02<00:00, 10.71s/it, accepor_recall=0.954, donor_recall=0.954, loss=9.13e-5, pred_l1_dist=0]\n"
     ]
    },
    {
     "name": "stdout",
     "output_type": "stream",
     "text": [
      "epoch: 8/10, train loss = 0.000099\n"
     ]
    },
    {
     "name": "stderr",
     "output_type": "stream",
     "text": [
      "Epoch (val) 8/10: 100%|███████████████████| 23/23 [05:52<00:00, 15.35s/it, accepor_recall=0.916, donor_recall=0.919, loss=0.000246, pred_l1_dist=0]\n"
     ]
    },
    {
     "name": "stdout",
     "output_type": "stream",
     "text": [
      "\n",
      "\u001b[1mAcceptor:\u001b[0m\n",
      "0.976\t0.9271\t0.9866\t0.9926\t0.9547\t0.9872000217437744\t0.5038999915122986\t0.002400000113993883\t0.00039999998989515007\t21432\n",
      "\n",
      "\u001b[1mDonor:\u001b[0m\n",
      "0.9783\t0.9316\t0.9904\t0.9949\t0.9606\t0.9908999800682068\t0.4959000051021576\t0.002300000051036477\t0.00039999998989515007\t21432\n",
      "epoch: 8/10, val loss = 0.000181\n"
     ]
    },
    {
     "name": "stderr",
     "output_type": "stream",
     "text": [
      "Epoch (train) 9/10: 100%|████████████████| 202/202 [36:13<00:00, 10.76s/it, accepor_recall=0.963, donor_recall=0.966, loss=7.58e-5, pred_l1_dist=0]\n"
     ]
    },
    {
     "name": "stdout",
     "output_type": "stream",
     "text": [
      "epoch: 9/10, train loss = 0.000085\n"
     ]
    },
    {
     "name": "stderr",
     "output_type": "stream",
     "text": [
      "Epoch (val) 9/10: 100%|████████████████████| 23/23 [05:33<00:00, 14.52s/it, accepor_recall=0.92, donor_recall=0.924, loss=0.000242, pred_l1_dist=0]\n"
     ]
    },
    {
     "name": "stdout",
     "output_type": "stream",
     "text": [
      "\n",
      "\u001b[1mAcceptor:\u001b[0m\n",
      "0.9777\t0.9306\t0.9873\t0.9929\t0.9574\t0.9908000230789185\t0.5755000114440918\t0.0017000000225380063\t0.00019999999494757503\t21432\n",
      "\n",
      "\u001b[1mDonor:\u001b[0m\n",
      "0.9795\t0.9309\t0.9916\t0.9949\t0.9617\t0.9901999831199646\t0.578499972820282\t0.0015999999595806003\t0.00019999999494757503\t21432\n",
      "epoch: 9/10, val loss = 0.000178\n"
     ]
    },
    {
     "name": "stderr",
     "output_type": "stream",
     "text": [
      "Epoch (train) 10/10: 100%|█████████████████| 202/202 [36:06<00:00, 10.73s/it, accepor_recall=0.968, donor_recall=0.97, loss=8.5e-5, pred_l1_dist=0]\n"
     ]
    },
    {
     "name": "stdout",
     "output_type": "stream",
     "text": [
      "epoch: 10/10, train loss = 0.000076\n"
     ]
    },
    {
     "name": "stderr",
     "output_type": "stream",
     "text": [
      "Epoch (val) 10/10: 100%|██████████████████| 23/23 [06:07<00:00, 15.96s/it, accepor_recall=0.919, donor_recall=0.921, loss=0.000241, pred_l1_dist=0]\n"
     ]
    },
    {
     "name": "stdout",
     "output_type": "stream",
     "text": [
      "\n",
      "\u001b[1mAcceptor:\u001b[0m\n",
      "0.9761\t0.9293\t0.987\t0.9925\t0.9562\t0.9879999756813049\t0.4991999864578247\t0.0017999999690800905\t0.0003000000142492354\t21432\n",
      "\n",
      "\u001b[1mDonor:\u001b[0m\n",
      "0.9786\t0.9317\t0.9915\t0.9949\t0.9595\t0.984000027179718\t0.5349000096321106\t0.0013000000035390258\t0.00019999999494757503\t21432\n",
      "epoch: 10/10, val loss = 0.000178\n"
     ]
    },
    {
     "data": {
      "image/png": "[encoded data removed]",
      "text/plain": [
       "<Figure size 432x288 with 1 Axes>"
      ]
     },
     "metadata": {
      "needs_background": "light"
     },
     "output_type": "display_data"
    }
   ],
   "source": [
    "device = torch.device(\"cuda\" if torch.cuda.is_available() else \"cpu\")\n",
    "epochs = 10\n",
    "hs = []\n",
    "\n",
    "parameters = [0,0.01,0.05,0.1,0.25]\n",
    "\n",
    "for model_nr in range(5):\n",
    "    model_m = SpliceFormer(CL_max,dropout = parameters[model_nr])\n",
    "    model_m.apply(keras_init)\n",
    "    model_m = model_m.to(device)\n",
    "    if torch.cuda.device_count() > 1:\n",
    "        #print(\"Let's use\", torch.cuda.device_count(), \"GPUs!\")\n",
    "        # dim = 0 [30, xxx] -> [10, ...], [10, ...], [10, ...] on 3 GPUs\n",
    "        model_m = nn.DataParallel(model_m)\n",
    "    \n",
    "    modelFileName = '../Results/PyTorch_Models/transformer_encoder_40k_ablation_transformer_dropout_2_{}'.format(parameters[model_nr])\n",
    "    #model_m.load_state_dict(torch.load('../Results/PyTorch_Models/SpliceAI_Ensembl_dgxtest_{}'.format(0)))\n",
    "    #loss = nn.CrossEntropyLoss(weight=torch.from_numpy(weights).float().to(device),ignore_index=-1,reduction='mean')\n",
    "    loss = categorical_crossentropy_2d().loss\n",
    "    #loss = nn.KLDivLoss()\n",
    "    learning_rate= k*1e-3\n",
    "    optimizer = torch.optim.Adam(model_m.parameters(), lr=learning_rate)\n",
    "    scheduler = torch.optim.lr_scheduler.StepLR(optimizer, step_size=1, gamma=0.5)\n",
    "    warmup = get_constant_schedule_with_warmup(optimizer, num_warmup_steps=1000)\n",
    "    h = trainModel(model_m,modelFileName,loss,train_loader,val_loader,optimizer,scheduler,warmup,BATCH_SIZE,epochs,device)\n",
    "    hs.append(h)\n",
    "\n",
    "    plt.plot(range(epochs),h['loss'],label='Train')\n",
    "    plt.plot(range(epochs),h['val_loss'],label='Validation')\n",
    "    plt.xlabel('Epoch')\n",
    "    plt.ylabel('Loss')\n",
    "    plt.legend()\n",
    "    plt.show()"
   ]
  },
  {
   "cell_type": "code",
   "execution_count": 2,
   "metadata": {},
   "outputs": [],
   "source": [
    "import matplotlib.pyplot as plt"
   ]
  },
  {
   "cell_type": "code",
   "execution_count": 5,
   "metadata": {},
   "outputs": [
    {
     "data": {
      "image/png": "[encoded data removed]",
      "text/plain": [
       "<Figure size 720x288 with 2 Axes>"
      ]
     },
     "metadata": {
      "needs_background": "light"
     },
     "output_type": "display_data"
    }
   ],
   "source": [
    "fig, (ax1,ax2) = plt.subplots(1, 2,figsize=(10,4))\n",
    "x = [0,0.01,0.05,0.1,0.25]\n",
    "y1 = [0.000174,0.000170,0.000177,0.000177,0.000176]\n",
    "ax1.plot(x,y1,'--')\n",
    "ax1.scatter(x,y1,label='Run 1')\n",
    "y2 = [0.000178,0.000175,0.000182,0.000176,0.000178]\n",
    "ax1.plot(x,y2,'--')\n",
    "ax1.scatter(x,y2,label='Run 2')\n",
    "ax1.set(xlabel = 'Dropout rate',ylabel='Cross entropy')\n",
    "\n",
    "prauc1 = [(0.9562+0.9594)/2,(0.959+0.9631)/2,(0.9572+0.9602)/2,(0.9574+0.9592)/2,(0.9554+0.9591)/2]\n",
    "ax2.plot(x,prauc1,'--')\n",
    "ax2.scatter(x,prauc1,label='Run 1')\n",
    "prauc2 = [(0.9576+0.9583)/2,(0.9569+0.9601)/2,(0.9583+0.9603)/2,(0.9545+0.9595)/2,(0.9562+0.9595)/2]\n",
    "ax2.plot(x,prauc2,'--')\n",
    "ax2.scatter(x,prauc2,label='Run 2')\n",
    "ax2.set(xlabel = 'Dropout rate',ylabel='PR-AUC')\n",
    "#ax2.ylabel('PR-AUC')\n",
    "#ax2.xlabel('No. transformer blocks')\n",
    "fig.tight_layout()\n",
    "\n",
    "ax1.legend()\n",
    "ax2.legend()\n",
    "plt.savefig('../Results/ablation_Dropout.png',dpi=300)\n",
    "plt.show()"
   ]
  },
  {
   "cell_type": "code",
   "execution_count": 12,
   "metadata": {},
   "outputs": [
    {
     "name": "stderr",
     "output_type": "stream",
     "text": [
      "100%|███████████████████████████████████████████████████████████████████████████████████| 17/17 [06:36<00:00, 23.30s/it]\n"
     ]
    }
   ],
   "source": [
    "device = torch.device(\"cuda\" if torch.cuda.is_available() else \"cpu\")\n",
    "h5f = h5py.File('/odinn/tmp/benediktj/Data/SplicePrediction/gencode_40k_dataset_test_.h5')\n",
    "\n",
    "num_idx = len(h5f.keys())//2\n",
    "\n",
    "test_dataset = h5pyDataset(h5f,list(range(num_idx)))\n",
    "test_loader = torch.utils.data.DataLoader(test_dataset, batch_size=1, shuffle=False, num_workers=0)\n",
    "\n",
    "temp = 1\n",
    "n_models = 5\n",
    "device = torch.device(\"cuda\" if torch.cuda.is_available() else \"cpu\")\n",
    "model_m = SpliceFormer(CL_max)\n",
    "model_m.apply(keras_init)\n",
    "model_m = model_m.to(device)\n",
    "\n",
    "if torch.cuda.device_count() > 1:\n",
    "    model_m = nn.DataParallel(model_m)\n",
    "\n",
    "output_class_labels = ['Null', 'Acceptor', 'Donor']\n",
    "\n",
    "#for output_class in [1,2]:\n",
    "models = [copy.deepcopy(model_m) for i in range(n_models)]\n",
    "[model.load_state_dict(torch.load('../Results/PyTorch_Models/transformer_encoder_40k_030522_{}'.format(i))) for i,model in enumerate(models)]\n",
    "\n",
    "for model in models:\n",
    "    model.eval()\n",
    "    \n",
    "Y_true_acceptor, Y_pred_acceptor = [],[]\n",
    "Y_true_donor, Y_pred_donor = [],[]\n",
    "\n",
    "for (batch_chunks,target_chunks) in tqdm(test_loader):\n",
    "    batch_chunks = torch.transpose(batch_chunks[0].to(device),1,2)\n",
    "    target_chunks = torch.transpose(torch.squeeze(target_chunks[0].to(device),0),1,2)\n",
    "    #print(np.max(target_chunks.cpu().numpy()[:,2,:]))\n",
    "    n_chunks = int(np.ceil(batch_chunks.shape[0]/BATCH_SIZE))\n",
    "    batch_chunks = torch.chunk(batch_chunks, n_chunks, dim=0)\n",
    "    target_chunks = torch.chunk(target_chunks, n_chunks, dim=0)\n",
    "    targets_list = []\n",
    "    outputs_list = []\n",
    "    for j in range(len(batch_chunks)):\n",
    "        batch_features = batch_chunks[j]\n",
    "        targets = target_chunks[j]\n",
    "        outputs = ([models[i](batch_features)[1].detach() for i in range(n_models)])\n",
    "        outputs = (outputs[0]+outputs[1]+outputs[2]+outputs[3]+outputs[4])/n_models\n",
    "        #outputs = (outputs[0]+outputs[1]+outputs[2])/n_models\n",
    "        targets_list.extend(targets.unsqueeze(0))\n",
    "        outputs_list.extend(outputs.unsqueeze(0))\n",
    "\n",
    "    targets = torch.transpose(torch.vstack(targets_list),1,2).cpu().numpy()\n",
    "    outputs = torch.transpose(torch.vstack(outputs_list),1,2).cpu().numpy()\n",
    "\n",
    "    is_expr = (targets.sum(axis=(1,2)) >= 1)\n",
    "    Y_true_acceptor.extend(targets[is_expr, :, 1].flatten())\n",
    "    Y_true_donor.extend(targets[is_expr, :, 2].flatten())\n",
    "    Y_pred_acceptor.extend(outputs[is_expr, :, 1].flatten())\n",
    "    Y_pred_donor.extend(outputs[is_expr, :, 2].flatten())"
   ]
  },
  {
   "cell_type": "code",
   "execution_count": 13,
   "metadata": {},
   "outputs": [
    {
     "name": "stdout",
     "output_type": "stream",
     "text": [
      "\n",
      "\u001b[1mAcceptor:\u001b[0m\n",
      "0.9961\t0.9486\t0.9881\t0.9913\t0.9779\t0.9782999753952026\t0.3280999958515167\t0.002899999963119626\t0.0005000000237487257\t14289\n",
      "\n",
      "\u001b[1mDonor:\u001b[0m\n",
      "0.9958\t0.9523\t0.9896\t0.9921\t0.9797\t0.9785000085830688\t0.33739998936653137\t0.002199999988079071\t0.0003000000142492354\t14289\n"
     ]
    }
   ],
   "source": [
    "Y_true_acceptor, Y_pred_acceptor,Y_true_donor, Y_pred_donor = np.array(Y_true_acceptor), np.array(Y_pred_acceptor),np.array(Y_true_donor), np.array(Y_pred_donor)\n",
    "print(\"\\n\\033[1m{}:\\033[0m\".format('Acceptor'))\n",
    "acceptor_val_results = print_topl_statistics(Y_true_acceptor, Y_pred_acceptor)\n",
    "print(\"\\n\\033[1m{}:\\033[0m\".format('Donor'))\n",
    "donor_val_results =print_topl_statistics(Y_true_donor, Y_pred_donor)"
   ]
  },
  {
   "cell_type": "code",
   "execution_count": 19,
   "metadata": {},
   "outputs": [
    {
     "data": {
      "text/plain": [
       "0.95045"
      ]
     },
     "execution_count": 19,
     "metadata": {},
     "output_type": "execute_result"
    }
   ],
   "source": [
    "(0.9486+0.9523)/2"
   ]
  },
  {
   "cell_type": "code",
   "execution_count": 18,
   "metadata": {},
   "outputs": [
    {
     "data": {
      "text/plain": [
       "0.9788"
      ]
     },
     "execution_count": 18,
     "metadata": {},
     "output_type": "execute_result"
    }
   ],
   "source": [
    "(0.9779+0.9797)/2"
   ]
  },
  {
   "cell_type": "code",
   "execution_count": 14,
   "metadata": {},
   "outputs": [],
   "source": [
    "setType = 'test'\n",
    "annotation_test, transcriptToLabel_test, seqData = getData(data_dir, setType)    \n"
   ]
  },
  {
   "cell_type": "code",
   "execution_count": 15,
   "metadata": {
    "scrolled": true
   },
   "outputs": [
    {
     "name": "stderr",
     "output_type": "stream",
     "text": [
      "100%|████████████████████████████████████████████████████████████████████████████████| 90/90 [4:22:57<00:00, 175.30s/it]\n"
     ]
    }
   ],
   "source": [
    "temp = 1\n",
    "n_models = 5\n",
    "device = torch.device(\"cuda\" if torch.cuda.is_available() else \"cpu\")\n",
    "model_m = SpliceFormer(CL_max)\n",
    "model_m.apply(keras_init)\n",
    "model_m = model_m.to(device)\n",
    "\n",
    "if torch.cuda.device_count() > 1:\n",
    "    model_m = nn.DataParallel(model_m)\n",
    "\n",
    "output_class_labels = ['Null', 'Acceptor', 'Donor']\n",
    "\n",
    "#for output_class in [1,2]:\n",
    "models = [copy.deepcopy(model_m) for i in range(n_models)]\n",
    "[model.load_state_dict(torch.load('../Results/PyTorch_Models/transformer_encoder_40k_030522_{}'.format(i))) for i,model in enumerate(models)]\n",
    "#nr = [0,2,3]\n",
    "#[model.load_state_dict(torch.load('../Results/PyTorch_Models/transformer_encoder_40k_201221_{}'.format(nr[i]))) for i,model in enumerate(models)]\n",
    "#chunkSize = num_idx/10\n",
    "for model in models:\n",
    "    model.eval()\n",
    "\n",
    "Y_true_acceptor, Y_pred_acceptor = [],[]\n",
    "Y_true_donor, Y_pred_donor = [],[]\n",
    "test_dataset = spliceDataset(annotation_test,transcriptToLabel_test,SL,CL_max)\n",
    "test_dataset.seqData = seqData\n",
    "test_loader = torch.utils.data.DataLoader(test_dataset, batch_size=100, shuffle=False, num_workers=0,collate_fn=collate_fn, pin_memory=True)\n",
    "\n",
    "\n",
    "for (batch_chunks,target_chunks) in tqdm(test_loader):\n",
    "    batch_chunks = torch.transpose(batch_chunks.to(device),1,2)\n",
    "    target_chunks = torch.transpose(torch.squeeze(target_chunks.to(device),0),1,2)\n",
    "    batch_chunks = torch.split(batch_chunks, BATCH_SIZE, dim=0)\n",
    "    target_chunks = torch.split(target_chunks, BATCH_SIZE, dim=0)\n",
    "    targets_list = []\n",
    "    outputs_list = []\n",
    "    for j in range(len(batch_chunks)):\n",
    "        batch_features = batch_chunks[j]\n",
    "        targets = target_chunks[j]\n",
    "        outputs = ([models[i](batch_features)[1].detach() for i in range(n_models)])\n",
    "        outputs = (outputs[0]+outputs[1]+outputs[2]+outputs[3]+outputs[4])/n_models\n",
    "        #outputs = (outputs[0]+outputs[1]+outputs[2])/n_models\n",
    "        targets_list.extend(targets.unsqueeze(0))\n",
    "        outputs_list.extend(outputs.unsqueeze(0))\n",
    "\n",
    "    targets = torch.transpose(torch.vstack(targets_list),1,2).cpu().numpy()\n",
    "    outputs = torch.transpose(torch.vstack(outputs_list),1,2).cpu().numpy()\n",
    "\n",
    "    is_expr = (targets.sum(axis=(1,2)) >= 1)\n",
    "    Y_true_acceptor.extend(targets[is_expr, :, 1].flatten())\n",
    "    Y_true_donor.extend(targets[is_expr, :, 2].flatten())\n",
    "    Y_pred_acceptor.extend(outputs[is_expr, :, 1].flatten())\n",
    "    Y_pred_donor.extend(outputs[is_expr, :, 2].flatten())\n",
    "\n"
   ]
  },
  {
   "cell_type": "code",
   "execution_count": 16,
   "metadata": {},
   "outputs": [
    {
     "name": "stdout",
     "output_type": "stream",
     "text": [
      "\n",
      "\u001b[1mAcceptor:\u001b[0m\n",
      "0.9821\t0.9399\t0.9919\t0.9958\t0.9675\t0.9814000129699707\t0.45570001006126404\t0.0026000000070780516\t0.00039999998989515007\t89712\n",
      "\n",
      "\u001b[1mDonor:\u001b[0m\n",
      "0.9832\t0.9446\t0.9941\t0.997\t0.9713\t0.9811999797821045\t0.4941999912261963\t0.002099999925121665\t0.0003000000142492354\t89712\n"
     ]
    }
   ],
   "source": [
    "Y_true_acceptor, Y_pred_acceptor,Y_true_donor, Y_pred_donor = np.array(Y_true_acceptor), np.array(Y_pred_acceptor),np.array(Y_true_donor), np.array(Y_pred_donor)\n",
    "print(\"\\n\\033[1m{}:\\033[0m\".format('Acceptor'))\n",
    "acceptor_val_results = print_topl_statistics(Y_true_acceptor, Y_pred_acceptor)\n",
    "print(\"\\n\\033[1m{}:\\033[0m\".format('Donor'))\n",
    "donor_val_results =print_topl_statistics(Y_true_donor, Y_pred_donor)"
   ]
  },
  {
   "cell_type": "code",
   "execution_count": 20,
   "metadata": {},
   "outputs": [
    {
     "data": {
      "text/plain": [
       "0.94225"
      ]
     },
     "execution_count": 20,
     "metadata": {},
     "output_type": "execute_result"
    }
   ],
   "source": [
    "(0.9399+0.9446)/2"
   ]
  },
  {
   "cell_type": "code",
   "execution_count": 17,
   "metadata": {},
   "outputs": [
    {
     "data": {
      "text/plain": [
       "0.9694"
      ]
     },
     "execution_count": 17,
     "metadata": {},
     "output_type": "execute_result"
    }
   ],
   "source": [
    "(0.9675+0.9713)/2"
   ]
  }
 ],
 "metadata": {
  "kernelspec": {
   "display_name": "Python 3 (ipykernel)",
   "language": "python",
   "name": "python3"
  },
  "language_info": {
   "codemirror_mode": {
    "name": "ipython",
    "version": 3
   },
   "file_extension": ".py",
   "mimetype": "text/x-python",
   "name": "python",
   "nbconvert_exporter": "python",
   "pygments_lexer": "ipython3",
   "version": "3.9.1"
  }
 },
 "nbformat": 4,
 "nbformat_minor": 4
}
