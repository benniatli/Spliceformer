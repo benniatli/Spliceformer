{
 "cells": [
  {
   "cell_type": "code",
   "execution_count": 3,
   "id": "42793676",
   "metadata": {},
   "outputs": [],
   "source": [
    "import pandas as pd\n",
    "\n",
    "setType = 'test'\n",
    "data_dir = '/odinn/tmp/benediktj/Data/SplicePrediction-050422'\n",
    "annotation = pd.read_csv(data_dir+'/annotation_ensembl_v87_{}.txt'.format(setType),sep='\\t',header=None)"
   ]
  },
  {
   "cell_type": "code",
   "execution_count": 5,
   "id": "926ecf6c",
   "metadata": {},
   "outputs": [],
   "source": [
    "annotation['Gene'] = annotation[0].apply(lambda x: x.split('--')[0])"
   ]
  },
  {
   "cell_type": "code",
   "execution_count": 7,
   "id": "f6b3aa28",
   "metadata": {},
   "outputs": [],
   "source": [
    "tmp = annotation[annotation['Gene']=='CFTR']"
   ]
  },
  {
   "cell_type": "code",
   "execution_count": 9,
   "id": "a15a71e0",
   "metadata": {},
   "outputs": [
    {
     "data": {
      "text/plain": [
       "7438    188702\n",
       "dtype: int64"
      ]
     },
     "execution_count": 9,
     "metadata": {},
     "output_type": "execute_result"
    }
   ],
   "source": [
    "tmp[4]-tmp[3]"
   ]
  },
  {
   "cell_type": "code",
   "execution_count": 15,
   "id": "4111f504",
   "metadata": {},
   "outputs": [
    {
     "data": {
      "text/plain": [
       "26"
      ]
     },
     "execution_count": 15,
     "metadata": {},
     "output_type": "execute_result"
    }
   ],
   "source": [
    "len(tmp[5].values[0].split(','))"
   ]
  },
  {
   "cell_type": "code",
   "execution_count": null,
   "id": "50c9de2f",
   "metadata": {},
   "outputs": [],
   "source": []
  }
 ],
 "metadata": {
  "kernelspec": {
   "display_name": "Python 3 (ipykernel)",
   "language": "python",
   "name": "python3"
  },
  "language_info": {
   "codemirror_mode": {
    "name": "ipython",
    "version": 3
   },
   "file_extension": ".py",
   "mimetype": "text/x-python",
   "name": "python",
   "nbconvert_exporter": "python",
   "pygments_lexer": "ipython3",
   "version": "3.9.1"
  }
 },
 "nbformat": 4,
 "nbformat_minor": 5
}
