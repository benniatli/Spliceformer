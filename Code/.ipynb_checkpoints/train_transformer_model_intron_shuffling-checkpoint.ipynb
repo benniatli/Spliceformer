{
 "cells": [
  {
   "cell_type": "code",
   "execution_count": 1,
   "metadata": {},
   "outputs": [],
   "source": [
    "import numpy as np\n",
    "import sys\n",
    "import time\n",
    "import h5py\n",
    "from tqdm import tqdm\n",
    "\n",
    "import numpy as np\n",
    "import re\n",
    "from math import ceil\n",
    "from sklearn.metrics import average_precision_score\n",
    "from torch.utils.data import Dataset\n",
    "import torch\n",
    "import torch.nn as nn\n",
    "import pandas as pd\n",
    "import matplotlib.pyplot as plt\n",
    "import pickle\n",
    "#import pickle5 as pickle\n",
    "\n",
    "from sklearn.model_selection import train_test_split\n",
    "\n",
    "from scipy.sparse import load_npz\n",
    "from glob import glob\n",
    "\n",
    "from transformers import get_constant_schedule_with_warmup\n",
    "from sklearn.metrics import precision_score,recall_score,accuracy_score\n",
    "import copy\n",
    "#import tensorflow as tf"
   ]
  },
  {
   "cell_type": "code",
   "execution_count": 2,
   "metadata": {},
   "outputs": [],
   "source": [
    "#!pip install pickle5"
   ]
  },
  {
   "cell_type": "code",
   "execution_count": 3,
   "metadata": {},
   "outputs": [],
   "source": [
    "rng = np.random.default_rng(23673)"
   ]
  },
  {
   "cell_type": "code",
   "execution_count": 4,
   "metadata": {},
   "outputs": [],
   "source": [
    "#import gffutils\n",
    "#gtf = gffutils.FeatureDB(\"/odinn/tmp/benediktj/Data/SplicePrediction/Homo_sapiens.GRCh38.87.db\")\n",
    "#transcriptToLSupport = {}\n",
    "#setType = 'train'\n",
    "#for transcript_id in tqdm(annotation['transcript']):\n",
    "#    transcript = gtf[transcript_id.split('.')[0]]\n",
    "#    transcriptToLSupport[transcript_id] = int(transcript[\"transcript_support_level\"][0])\n",
    "#gtf = gffutils.FeatureDB(\"/odinn/tmp/benediktj/Data/SplicePrediction/Homo_sapiens.GRCh38.87.db\")\n",
    "#genes = gtf.features_of_type('gene')\n",
    "#geneStartEnd = {}\n",
    "#for gene in tqdm(genes):\n",
    "#    if gene['gene_biotype'][0]=='protein_coding':\n",
    "#        geneStartEnd['{}.{}'.format(gene['gene_id'][0],gene['gene_version'][0])] = [gene[3],gene[4]]"
   ]
  },
  {
   "cell_type": "code",
   "execution_count": 5,
   "metadata": {},
   "outputs": [],
   "source": [
    "#data_dir = '/odinn/tmp/benediktj/Data/SplicePrediction'\n",
    "#with open(data_dir+'geneStartEnd.pickle', 'wb') as handle:\n",
    "#    pickle.dump(geneStartEnd, handle, protocol=pickle.HIGHEST_PROTOCOL)\n",
    "\n",
    "#with open(data_dir+'/transcriptSupport.pickle', 'wb') as handle:\n",
    "#    pickle.dump(transcriptToLSupport, handle, protocol=pickle.HIGHEST_PROTOCOL)\n",
    "\n",
    "#data_dir = '/odinn/tmp/benediktj/Data/SplicePrediction-050422/'\n",
    "#with open(data_dir+'transcriptSupport.pickle', 'rb') as handle:\n",
    "#    transcriptToSupport = pickle.load(handle)\n"
   ]
  },
  {
   "cell_type": "code",
   "execution_count": 6,
   "metadata": {},
   "outputs": [],
   "source": [
    "#gtf = None"
   ]
  },
  {
   "cell_type": "code",
   "execution_count": 7,
   "metadata": {},
   "outputs": [],
   "source": [
    "\n",
    "###############################################################################\n",
    "# Model\n",
    "###############################################################################\n",
    "\n",
    "L = 32\n",
    "N_GPUS = 2\n",
    "\n",
    "#if int(sys.argv[1]) == 80:\n",
    "#    W = np.asarray([11, 11, 11, 11])\n",
    "#    AR = np.asarray([1, 1, 1, 1])\n",
    "#    BATCH_SIZE = 18*N_GPUS\n",
    "#elif int(sys.argv[1]) == 400:\n",
    "#    W = np.asarray([11, 11, 11, 11, 11, 11, 11, 11])\n",
    "#    AR = np.asarray([1, 1, 1, 1, 4, 4, 4, 4])\n",
    "#    BATCH_SIZE = 18*N_GPUS\n",
    "#elif int(sys.argv[1]) == 2000:\n",
    "#    W = np.asarray([11, 11, 11, 11, 11, 11, 11, 11,\n",
    "#                    21, 21, 21, 21])\n",
    "#    AR = np.asarray([1, 1, 1, 1, 4, 4, 4, 4,\n",
    "#                     10, 10, 10, 10])\n",
    "#    BATCH_SIZE = 12*N_GPUS\n",
    "#elif int(sys.argv[1]) == 10000:\n",
    "W = np.asarray([11, 11, 11, 11, 11, 11, 11, 11,\n",
    "                21, 21, 21, 21, 41, 41, 41, 41])\n",
    "AR = np.asarray([1, 1, 1, 1, 4, 4, 4, 4,\n",
    "                 10, 10, 10, 10, 25, 25, 25, 25])\n",
    "BATCH_SIZE = 6*N_GPUS\n",
    "# Hyper-parameters:\n",
    "# L: Number of convolution kernels\n",
    "# W: Convolution window size in each residual unit\n",
    "# AR: Atrous rate in each residual unit\n",
    "\n",
    "CL = 2 * np.sum(AR*(W-1))\n",
    "\n"
   ]
  },
  {
   "cell_type": "code",
   "execution_count": 8,
   "metadata": {},
   "outputs": [],
   "source": [
    "data_dir = '/odinn/tmp/benediktj/Data/SplicePrediction-050422'\n",
    "setType = 'train'\n",
    "#with open('{}/sparse_sequence_data_{}.pickle'.format(data_dir,setType), 'rb') as handle:\n",
    "#    seqData = pickle.load(handle)\n",
    "    \n",
    "with open('{}/sparse_discrete_label_data_{}.pickle'.format(data_dir,setType), 'rb') as handle:\n",
    "    transcriptToLabel = pickle.load(handle)\n",
    "    \n",
    "CHROM_TRAIN = ['chr11', 'chr13', 'chr15', 'chr17', 'chr19', 'chr21',\n",
    "                           'chr2', 'chr4', 'chr6', 'chr8', 'chr10', 'chr12',\n",
    "                           'chr14', 'chr16', 'chr18', 'chr20', 'chr22', 'chrX', 'chrY']\n",
    "annotation = pd.read_csv(data_dir+'/annotation_ensembl_v87_train.txt',sep='\\t',header=None)[[0,1,2,3,4]]\n",
    "annotation.columns = ['name','chrom','strand','tx_start','tx_end']\n",
    "annotation['transcript'] = annotation['name'].apply(lambda x: x.split('---')[-2].split('.')[0]).values\n",
    "annotation['gene'] = annotation['name'].apply(lambda x: x.split('---')[-3].split('.')[0]).values\n",
    "#annotation['support'] = annotation['transcript'].apply(lambda x:transcriptToSupport[x])\n",
    "\n",
    "chrom_paths = glob(data_dir+'/sparse_sequence_data/*')\n",
    "chromToPath = {}\n",
    "for path in chrom_paths:\n",
    "    chromToPath[path.split('/')[-1].split('_')[0]] = path\n",
    "    \n",
    "seqData = {}\n",
    "for chrom in CHROM_TRAIN:\n",
    "    seqData[chrom] = load_npz(data_dir+'/sparse_sequence_data/{}_train.npz'.format(chrom)).tocsr()"
   ]
  },
  {
   "cell_type": "code",
   "execution_count": 9,
   "metadata": {},
   "outputs": [],
   "source": [
    "CL_max=40000\n",
    "# Maximum nucleotide context length (CL_max/2 on either side of the \n",
    "# position of interest)\n",
    "# CL_max should be an even number\n",
    "\n",
    "SL=5000\n",
    "# Sequence length of SpliceAIs (SL+CL will be the input length and\n",
    "# SL will be the output length)\n",
    "\n",
    "#splice_table='/odinn/tmp/benediktj/Data/SplicePrediction/annotation_ensembl_v87_train.txt'\n",
    "#ref_genome='/odinn/tmp/benediktj/SpliceAITrainingCode/genome.fa'\n",
    "# Input details\n",
    "\n",
    "#data_dir='/odinn/tmp/benediktj/Data/SplicePrediction/'\n",
    "#sequence='/odinn/tmp/benediktj/SpliceAITrainingCode/canonical_sequence.txt'\n"
   ]
  },
  {
   "cell_type": "code",
   "execution_count": 10,
   "metadata": {},
   "outputs": [],
   "source": [
    "assert CL_max % 2 == 0\n",
    "\n",
    "def print_topl_statistics(y_true, y_pred):\n",
    "    # Prints the following information: top-kL statistics for k=0.5,1,2,4,\n",
    "    # auprc, thresholds for k=0.5,1,2,4, number of true splice sites.\n",
    "\n",
    "    idx_true = np.nonzero(y_true == 1)[0]\n",
    "    argsorted_y_pred = np.argsort(y_pred)\n",
    "    sorted_y_pred = np.sort(y_pred)\n",
    "\n",
    "    topkl_accuracy = []\n",
    "    threshold = []\n",
    "\n",
    "    for top_length in [0.5, 1, 2, 4]:\n",
    "\n",
    "        idx_pred = argsorted_y_pred[-int(top_length*len(idx_true)):]\n",
    "\n",
    "        topkl_accuracy += [np.size(np.intersect1d(idx_true, idx_pred)) \\\n",
    "                  / float(min(len(idx_pred), len(idx_true)))]\n",
    "        threshold += [sorted_y_pred[-int(top_length*len(idx_true))]]\n",
    "\n",
    "    auprc = average_precision_score(y_true, y_pred)\n",
    "\n",
    "    print(\"{}\\t{}\\t{}\\t{}\\t{}\\t{}\\t{}\\t{}\\t{}\\t{}\".format(\n",
    "          np.round(topkl_accuracy[0],4), np.round(topkl_accuracy[1],4), np.round(topkl_accuracy[2],4),\n",
    "          np.round(topkl_accuracy[3],4), np.round(auprc,4), np.round(threshold[0],4), np.round(threshold[1],4),\n",
    "          np.round(threshold[2],4), np.round(threshold[3],4), len(idx_true)))\n",
    "    return (topkl_accuracy,[auprc],threshold)\n"
   ]
  },
  {
   "cell_type": "code",
   "execution_count": 11,
   "metadata": {},
   "outputs": [],
   "source": [
    "from torch import nn\n",
    "\n",
    "from einops import rearrange, repeat\n",
    "from einops.layers.torch import Rearrange\n",
    "\n",
    "# helpers\n",
    "\n",
    "def pair(t):\n",
    "    return t if isinstance(t, tuple) else (t, t)\n",
    "\n",
    "class PreNorm(nn.Module):\n",
    "    def __init__(self, dim, fn):\n",
    "        super().__init__()\n",
    "        self.norm = nn.LayerNorm(dim)\n",
    "        self.fn = fn\n",
    "    def forward(self, x, **kwargs):\n",
    "        return self.fn(self.norm(x), **kwargs)\n",
    "\n",
    "class FeedForward(nn.Module):\n",
    "    def __init__(self, dim, hidden_dim, dropout = 0.):\n",
    "        super().__init__()\n",
    "        self.net = nn.Sequential(\n",
    "            nn.Linear(dim, hidden_dim),\n",
    "            nn.GELU(),\n",
    "            nn.Dropout(dropout),\n",
    "            nn.Linear(hidden_dim, dim),\n",
    "            nn.Dropout(dropout)\n",
    "        )\n",
    "    def forward(self, x):\n",
    "        return self.net(x)\n",
    "\n",
    "class Attention(nn.Module):\n",
    "    def __init__(self, dim, heads = 8, dim_head = 64, dropout = 0.):\n",
    "        super().__init__()\n",
    "        inner_dim = dim_head *  heads\n",
    "        project_out = not (heads == 1 and dim_head == dim)\n",
    "\n",
    "        self.heads = heads\n",
    "        self.scale = dim_head ** -0.5\n",
    "\n",
    "        self.attend = nn.Softmax(dim = -1)\n",
    "        self.to_qkv = nn.Linear(dim, inner_dim * 3, bias = False)\n",
    "        \n",
    "        self.gate = nn.Linear(dim, inner_dim)\n",
    "\n",
    "        self.to_out = nn.Sequential(\n",
    "            \n",
    "            nn.Linear(inner_dim, dim),\n",
    "            nn.Dropout(dropout)\n",
    "        ) if project_out else nn.Identity()\n",
    "\n",
    "    def forward(self, x):\n",
    "        qkv = self.to_qkv(x).chunk(3, dim = -1)\n",
    "        q, k, v = map(lambda t: rearrange(t, 'b n (h d) -> b h n d', h = self.heads), qkv)\n",
    "        \n",
    "        \n",
    "        \n",
    "        dots = torch.matmul(q, k.transpose(-1, -2)) * self.scale\n",
    "\n",
    "        #indices = torch.triu_indices(dots.shape[2], dots.shape[3], offset=1)\n",
    "        #dots[:,:, indices[0], indices[1]] = float('-inf')\n",
    "        \n",
    "        attn = self.attend(dots)\n",
    "        \n",
    "        out = torch.matmul(attn, v)\n",
    "        out = rearrange(out, 'b h n d -> b n (h d)')\n",
    "        out = torch.sigmoid(self.gate(x))*out\n",
    "        return self.to_out(out)\n",
    "\n",
    "class Transformer(nn.Module):\n",
    "    def __init__(self, dim, depth, heads, dim_head, mlp_dim, dropout = 0.):\n",
    "        super().__init__()\n",
    "        self.layers = nn.ModuleList([])\n",
    "        for _ in range(depth):\n",
    "            self.layers.append(nn.ModuleList([\n",
    "                PreNorm(dim, Attention(dim, heads = heads, dim_head = dim_head, dropout = dropout)),\n",
    "                PreNorm(dim, FeedForward(dim, mlp_dim, dropout = dropout))\n",
    "            ]))\n",
    "    def forward(self, x):\n",
    "        for attn, ff in self.layers:\n",
    "            x = attn(x) + x\n",
    "            x = ff(x) + x\n",
    "        return x"
   ]
  },
  {
   "cell_type": "code",
   "execution_count": 12,
   "metadata": {},
   "outputs": [],
   "source": [
    "class FixedPositionalEmbedding(nn.Module):\n",
    "    def __init__(self, dim):\n",
    "        super().__init__()\n",
    "        inv_freq = 1. / (10000 ** (torch.arange(0, dim, 2).float() / dim))\n",
    "        self.register_buffer('inv_freq', inv_freq)\n",
    "\n",
    "    def forward(self, x):\n",
    "        t = torch.arange(x.shape[1], device=x.device).type_as(self.inv_freq)\n",
    "        sinusoid_inp = torch.einsum(\"i,j->ij\", t, self.inv_freq)\n",
    "        emb = torch.cat((sinusoid_inp.sin(), sinusoid_inp.cos()), dim=-1)\n",
    "        return emb[None, :, :]\n",
    "\n",
    "def activation_func(activation):\n",
    "    return  nn.ModuleDict([\n",
    "        ['relu', nn.ReLU(inplace=True)],\n",
    "        ['leaky_relu', nn.LeakyReLU(negative_slope=0.01, inplace=True)],\n",
    "        ['selu', nn.SELU(inplace=True)],\n",
    "        ['none', nn.Identity()]\n",
    "    ])[activation]\n",
    "\n",
    "class ResidualBlock(nn.Module):\n",
    "    def __init__(self, in_channels, out_channels,kernel_size,dilation=1, activation='relu'):\n",
    "        super().__init__()\n",
    "        self.in_channels, self.out_channels, self.activation = in_channels, out_channels, activation\n",
    "        paddingAmount = int(dilation*(kernel_size-1)/2)\n",
    "        self.convlayer1 = nn.Conv1d(in_channels=self.in_channels, out_channels=self.out_channels, kernel_size= kernel_size,dilation=dilation,stride=1,padding=paddingAmount,padding_mode='zeros')\n",
    "        self.convlayer2 = nn.Conv1d(in_channels=self.in_channels, out_channels=self.out_channels, kernel_size= kernel_size,dilation=dilation,stride=1,padding=paddingAmount,padding_mode='zeros')\n",
    "        self.activate = activation_func(activation)\n",
    "        self.bn1 = nn.BatchNorm1d(self.in_channels, momentum=0.01)\n",
    "        self.bn2 = nn.BatchNorm1d(self.in_channels, momentum=0.01)\n",
    "        self.shortcut = nn.Identity()   \n",
    "    \n",
    "    def forward(self, x):\n",
    "        residual = x\n",
    "        residual = self.shortcut(x)\n",
    "        x = self.activate(self.bn1(x))\n",
    "        x = self.convlayer1(x)\n",
    "        x = self.activate(self.bn2(x))\n",
    "        x = self.convlayer2(x)\n",
    "        x += residual\n",
    "        return x\n",
    "    \n",
    "class ResComboBlock(nn.Module):\n",
    "    def __init__(self, in_channels, out_channels,res_W,res_dilation):\n",
    "        super().__init__()\n",
    "        self.comboBlock = nn.Sequential(\n",
    "        ResidualBlock(in_channels,out_channels,res_W,res_dilation),\n",
    "        ResidualBlock(in_channels,out_channels,res_W,res_dilation),\n",
    "        ResidualBlock(in_channels,out_channels,res_W,res_dilation),\n",
    "        ResidualBlock(in_channels,out_channels,res_W,res_dilation)\n",
    "        )\n",
    "    \n",
    "    def forward(self, x):\n",
    "        return self.comboBlock(x)\n",
    "    \n",
    "class smallModel(nn.Module):\n",
    "    def __init__(self, temp=1, **kwargs):\n",
    "        super().__init__()\n",
    "        self.n_channels = 32\n",
    "        self.res_W = [11,11,21,41]\n",
    "        res_dilation = [1,4,10,25]\n",
    "        self.kernel_size = 1\n",
    "        self.temp=temp\n",
    "        self.conv_layer_1 = nn.Conv1d(in_channels=5, out_channels=self.n_channels, kernel_size= self.kernel_size,stride=1)\n",
    "        self.skip_layers = nn.ModuleList([nn.Conv1d(in_channels=self.n_channels, out_channels=self.n_channels, kernel_size= self.kernel_size,stride=1) for i in range(5)])\n",
    "        self.res_layers = nn.ModuleList([ResComboBlock(in_channels=self.n_channels, out_channels=self.n_channels, res_W=self.res_W[i], res_dilation=res_dilation[i]) for i in range(4)])\n",
    "        self.conv_final = nn.Conv1d(in_channels=self.n_channels, out_channels=3, kernel_size= self.kernel_size,stride=1)\n",
    "        \n",
    "    def forward(self, features):\n",
    "        x = self.conv_layer_1(features)\n",
    "        skip = self.skip_layers[0](x)\n",
    "\n",
    "        for i,residualUnit in enumerate(self.res_layers):\n",
    "            x = residualUnit(x)\n",
    "            #if i ==2:\n",
    "            #    x_2 = x\n",
    "            skip += self.skip_layers[i+1](x)\n",
    "            #skip = torch.cat([skip,self.skip_layers[i+1](x)],axis=1)\n",
    "        \n",
    "        x_skip = skip[:,:,:]\n",
    "        x_cropped = skip[:,:,CL_max//2:-CL_max//2]\n",
    "        #x = self.conv_final(x_cropped)\n",
    "        #m_1 = nn.Softmax(dim=1)\n",
    "        #out_1 = m_1(x/temp)\n",
    "        #attention = m_1(self.conv_final(x_skip)/temp)\n",
    "        return x_cropped, x_skip\n",
    "    \n",
    "class SpliceFormerBlock(nn.Module):\n",
    "    def __init__(self, temp=1, **kwargs):\n",
    "        super().__init__()\n",
    "        self.n_channels = 32\n",
    "        \n",
    "        self.maxSeqLength = 4*128\n",
    "        \n",
    "        #self.transformer = nn.TransformerEncoder(nn.TransformerEncoderLayer(d_model=32, dim_feedforward=128*4, nhead=8,norm_first=True), num_layers=12)\n",
    "        self.transformer =  Transformer(self.n_channels, depth=4, heads=4, dim_head=32, mlp_dim=self.n_channels*16, dropout=0)\n",
    "        \n",
    "    def forward(self, x_skip,attention,pos_emb):\n",
    "        x_emb1 = torch.transpose(x_skip, 1, 2)\n",
    "        x_emb = x_emb1 +  pos_emb\n",
    "        acceptors_sorted = torch.argsort(attention[:,1,:],dim=1,descending=True)[:,:self.maxSeqLength//2:]\n",
    "        donors_sorted = torch.argsort(attention[:,2,:],dim=1,descending=True)[:,:self.maxSeqLength//2]\n",
    "        splice_idx = torch.cat([acceptors_sorted,donors_sorted],dim=1)\n",
    "        splice_idx = torch.sort(splice_idx,dim=1).values\n",
    "        splice_idx = splice_idx.unsqueeze(2).repeat(1,1,self.n_channels)\n",
    "        embedding = torch.gather(x_emb,1,splice_idx)\n",
    "        embedding = self.transformer(embedding)\n",
    "        tmp = torch.zeros_like(x_emb1)\n",
    "        embedding = tmp.scatter_(1, splice_idx, embedding) \n",
    "        embedding = torch.transpose(embedding, 1, 2)\n",
    "        #embedding = x_skip+embedding\n",
    "        return embedding\n",
    "    \n",
    "class SpliceFormer(nn.Module):\n",
    "    def __init__(self, temp=1, **kwargs):\n",
    "        super().__init__()\n",
    "        self.n_channels = 32\n",
    "        self.res_W = [11,11,21,41]\n",
    "        res_dilation = [1,4,10,25]\n",
    "        self.kernel_size = 1\n",
    "        self.smallModel = smallModel(temp=temp).apply(keras_init)\n",
    "        #self.res_kernel_size = 11\n",
    "        self.temp=temp\n",
    "        self.skip_layers = nn.ModuleList([nn.Conv1d(in_channels=self.n_channels, out_channels=self.n_channels, kernel_size= self.kernel_size,stride=1) for i in range(2)])\n",
    "        self.res_layers = nn.ModuleList([ResComboBlock(in_channels=self.n_channels, out_channels=self.n_channels, res_W=self.res_W[i], res_dilation=res_dilation[i]) for i in range(1)])\n",
    "        self.conv_final = nn.Conv1d(in_channels=self.n_channels, out_channels=3, kernel_size= self.kernel_size,stride=1)\n",
    "        self.pos_emb = FixedPositionalEmbedding(self.n_channels)\n",
    "        self.transformerBlock1 = SpliceFormerBlock()\n",
    "        self.transformerBlock2 = SpliceFormerBlock()\n",
    "        #self.transformerBlock3 = SpliceFormerBlock()\n",
    "        #self.transformerBlock4 = SpliceFormerBlock()\n",
    "        #self.transformerBlock5 = SpliceFormerBlock()\n",
    "        \n",
    "        \n",
    "    \n",
    "    def forward(self, features):\n",
    "        out1,x_skip = self.smallModel(features)\n",
    "        m_1 = nn.Softmax(dim=1)\n",
    "        out1 = m_1(self.conv_final(out1))\n",
    "        attention =  m_1(self.conv_final(x_skip))\n",
    "        pos_emb = self.pos_emb(torch.transpose(x_skip, 1, 2)).type_as(torch.transpose(x_skip, 1, 2))\n",
    "        emb1 = self.transformerBlock1(x_skip,attention,pos_emb)\n",
    "        \n",
    "        tmp = x_skip+emb1\n",
    "        attention =  m_1(self.conv_final(tmp)) \n",
    "        emb2 = self.transformerBlock2(tmp,attention,pos_emb)\n",
    "        \n",
    "        #tmp = x_skip+emb1+emb2\n",
    "        #attention =  m_1(self.conv_final(tmp))\n",
    "        #emb3 = self.transformerBlock3(tmp,attention,pos_emb)\n",
    "        #attention =  m_1(self.conv_final(x_skip))\n",
    "        \n",
    "        #tmp = x_skip+emb1+emb2+emb3\n",
    "        #attention =  m_1(self.conv_final(tmp))\n",
    "        #emb4 = self.transformerBlock4(tmp,attention,pos_emb)\n",
    "        \n",
    "        #tmp = x_skip+emb1+emb2+emb3+emb4\n",
    "        #attention =  m_1(self.conv_final(tmp))\n",
    "        #emb5 = self.transformerBlock5(tmp,attention,pos_emb)\n",
    "        \n",
    "        x_skip = x_skip+emb1+emb2\n",
    "        #x_skip = x_skip+emb1+emb2+emb3+emb4\n",
    "        m_2 = nn.Softmax(dim=1)\n",
    "        out_2 = m_2(self.conv_final(x_skip))\n",
    "        out_2 = out_2[:,:,(CL_max//2):-(CL_max//2)]\n",
    "        #print(out_2.shape)\n",
    "        #out_2 = torch.zeros_like(out_1)\n",
    "        #out_2 = m_2(x_skip+x_emb)\n",
    "        return out1,out_2\n"
   ]
  },
  {
   "cell_type": "code",
   "execution_count": 13,
   "metadata": {},
   "outputs": [],
   "source": [
    "train_gene, validation_gene = train_test_split(annotation['gene'].drop_duplicates(),test_size=.1,random_state=435)"
   ]
  },
  {
   "cell_type": "code",
   "execution_count": 14,
   "metadata": {},
   "outputs": [],
   "source": [
    "#annotation = annotation.drop_duplicates('gene')"
   ]
  },
  {
   "cell_type": "code",
   "execution_count": 15,
   "metadata": {},
   "outputs": [],
   "source": [
    "annotation_train = annotation[annotation['gene'].isin(train_gene)]\n",
    "annotation_validation = annotation[annotation['gene'].isin(validation_gene)]"
   ]
  },
  {
   "cell_type": "code",
   "execution_count": 16,
   "metadata": {},
   "outputs": [],
   "source": [
    "OUT_MAP = np.asarray([[1, 0, 0],\n",
    "                      [0, 1, 0],\n",
    "                      [0, 0, 1],\n",
    "                      [0, 0, 0]])\n",
    "\n",
    "def shuffleIntrons(X0,label,strand,CL_max):\n",
    "    posistion = np.array(label[1])\n",
    "    l = posistion.shape[0]//2\n",
    "    #donors = label[1][l:]\n",
    "    #acceptors = label[1][:l]\n",
    "    if strand=='+':\n",
    "        splitAt = np.sort(posistion)+CL_max//2\n",
    "        X0,label = shuffler(X0,splitAt,l,CL_max,strand)\n",
    "    if strand=='-':\n",
    "        \n",
    "        X0 = X0[::-1,:]\n",
    "        splitAt = np.sort(X0.shape[0]-CL_max-posistion)+CL_max//2\n",
    "        X0,label = shuffler(X0,splitAt,l,CL_max,strand)\n",
    "        X0 = X0[::-1,:]\n",
    "        label[1] = list(X0.shape[0]-CL_max-np.array(label[1]))\n",
    "    return X0,label\n",
    "\n",
    "def shuffler(X0,splitAt,l,CL_max,strand):\n",
    "    \n",
    "    \n",
    "    for i in range(splitAt.shape[0]):\n",
    "        if i%2==0:\n",
    "            splitAt[i] = splitAt[i]+1\n",
    "    chunks = np.split(X0,splitAt)\n",
    "    intronIdx = 2*np.arange(l)+1\n",
    "    np.random.shuffle(intronIdx)\n",
    "    idx = []\n",
    "    for i in range(len(chunks)):\n",
    "        if i%2==0:\n",
    "            idx.append(i)\n",
    "        if i%2==1:\n",
    "            idx.append(intronIdx[i//2])\n",
    "    chunks = [chunks[i] for i in idx]\n",
    "    if strand=='+':\n",
    "        label = [l*[2,1],np.cumsum([chunks[i].shape[0] for i in range(len(chunks)-1)])-CL_max//2]\n",
    "    if strand=='-':\n",
    "        label = [l*[1,2],np.cumsum([chunks[i].shape[0] for i in range(len(chunks)-1)])-CL_max//2]\n",
    "    #print(strand)\n",
    "    #for i in range(l):\n",
    "    #    print(chunks[l*2][0],chunks[l*2][-1])\n",
    "    for i in range(splitAt.shape[0]):\n",
    "        if i%2==0:\n",
    "            label[1][i] = label[1][i]-1\n",
    "    X0 = np.concatenate((chunks),axis=0)\n",
    "    return X0,label\n",
    "\n",
    "class spliceDataset(Dataset):\n",
    "    def __init__(self, annotation, transform=None, target_transform=None):\n",
    "        #self.data = data\n",
    "        #self.labelDict = labelDict\n",
    "        self.annotation = annotation\n",
    "        self.transform = transform\n",
    "        self.target_transform = target_transform\n",
    "        \n",
    "\n",
    "    def __len__(self):\n",
    "        return self.annotation.shape[0]\n",
    "    \n",
    "\n",
    "    def __getitem__(self, idx):\n",
    "        transcript,chrom,strand,tx_start,tx_end = self.annotation['transcript'].values[idx],self.annotation['chrom'].values[idx],self.annotation['strand'].values[idx],self.annotation['tx_start'].values[idx],self.annotation['tx_end'].values[idx]\n",
    "        #gene,chrom,strand = self.annotation['gene'].values[idx],self.annotation['chrom'].values[idx],self.annotation['strand'].values[idx]\n",
    "        \n",
    "        length = tx_end-tx_start\n",
    "        num_points = ceil_div(length, SL)\n",
    "        \n",
    "        Xd = np.zeros((num_points, SL+CL_max,5))\n",
    "        Yd = np.zeros((num_points, SL,3))\n",
    "        if strand=='+':\n",
    "            X0 = seqData[chrom][int(tx_start)-1-CL_max//2:int(tx_end)+SL+CL_max//2].toarray()\n",
    "            X0[:CL_max//2,:] = np.array([0,0,0,0,0])\n",
    "            X0[-(CL_max//2+SL):,:] = np.array([0,0,0,0,0])\n",
    "        else:\n",
    "            X0 = seqData[chrom][int(tx_start)-1-SL-CL_max//2:int(tx_end)+CL_max//2].toarray()\n",
    "            X0[:(CL_max//2+SL),:] = np.array([0,0,0,0,0])\n",
    "            X0[-CL_max//2:,:] = np.array([0,0,0,0,0])\n",
    "            X0 = X0[::-1,:]\n",
    "            X0[:,[0,1,2,3]] = X0[:,[0,1,2,3]][:,::-1]\n",
    "            \n",
    "        label = transcriptToLabel[transcript]\n",
    "        if self.target_transform:\n",
    "            if len(label[0])>2:\n",
    "                X0,label = shuffleIntrons(X0,label,strand,CL_max)\n",
    "        Y0 = np.zeros((length+SL,3))\n",
    "        Y0[:length,0] = np.ones(length)\n",
    "        Y0[label[1],:] = OUT_MAP[np.array(label[0]).astype('int8')]\n",
    "\n",
    "        for i in range(num_points):\n",
    "            tmp = X0[SL*i:CL_max+SL*(i+1),:]\n",
    "            if tmp.shape[0]==0:\n",
    "                continue\n",
    "            Xd[i,:,:] = tmp\n",
    "            Yd[i,:,:] = Y0[SL*i:SL*(i+1),:]\n",
    "        \n",
    "        #if self.transform:\n",
    "        #    X = self.transform(X)\n",
    "        #if self.target_transform:\n",
    "        #    label = self.target_transform(label)\n",
    "        \n",
    "        #X = torch.Tensor(X.copy())\n",
    "        #print(X.shape)\n",
    "        #X = torch.nn.functional.pad(X.clone(), (0,0,CL_max//2,CL_max//2+X.shape[0]-SL*(X.shape[0]//SL)), \"constant\", 0)\n",
    "        #X = torch.transpose(X.unfold(0,SL,CL_max//2),1,2)\n",
    "        #print(X.shape)\n",
    "        #Y = torch.transpose(torch.Tensor(Y).unfold(0,SL,CL_max//2),1,2)\n",
    "        return Xd,Yd\n",
    "        #if self.include_prob:\n",
    "        #    return X, [Y[t] for t in range(1)],[Y_prob[t] for t in range(1)]\n",
    "        #else:\n",
    "        #    return X, [Y[t] for t in range(1)]\n",
    "\n",
    "def ceil_div(x, y):\n",
    "    return int(ceil(float(x)/y))\n",
    "\n",
    "def collate_fn(data):\n",
    "    \"\"\"\n",
    "       data: is a list of tuples with (example, label)\n",
    "             where 'example' is a tensor of arbitrary shape\n",
    "             and label/length are scalars\n",
    "    \"\"\"\n",
    "    #unfold1 = nn.Unfold((SL*3,1),SL,CL_max//2)\n",
    "    #unfold2 = nn.Unfold((SL,1),SL,0)\n",
    "    features = []\n",
    "    labels = []\n",
    "    for i in range(len(data)):\n",
    "        features.append(torch.Tensor(data[i][0]))\n",
    "        labels.append(torch.Tensor(data[i][1]))\n",
    "        #features.append(tmp.unfold(0,SL*3,CL_max//2))\n",
    "        #labels.append(torch.Tensor(data[i][1]).unfold(0,SL,CL_max//2))\n",
    "    return torch.cat(features,dim=0).float(), torch.cat(labels,dim=0).float()\n",
    "\n",
    "train_dataset = spliceDataset(annotation_train,target_transform=True)\n",
    "val_dataset = spliceDataset(annotation_validation)\n",
    "\n",
    "train_loader = torch.utils.data.DataLoader(train_dataset, batch_size=100, shuffle=True, num_workers=16,collate_fn=collate_fn, pin_memory=True)\n",
    "val_loader = torch.utils.data.DataLoader(val_dataset, batch_size=100, shuffle=False,collate_fn=collate_fn, num_workers=16)"
   ]
  },
  {
   "cell_type": "code",
   "execution_count": 17,
   "metadata": {
    "scrolled": true
   },
   "outputs": [],
   "source": [
    "start_time = time.time()\n"
   ]
  },
  {
   "cell_type": "code",
   "execution_count": 18,
   "metadata": {
    "scrolled": true
   },
   "outputs": [],
   "source": [
    "def print_topl_statistics(y_true, y_pred):\n",
    "    # Prints the following information: top-kL statistics for k=0.5,1,2,4,\n",
    "    # auprc, thresholds for k=0.5,1,2,4, number of true splice sites.\n",
    "\n",
    "    idx_true = np.nonzero(y_true == 1)[0]\n",
    "    argsorted_y_pred = np.argsort(y_pred)\n",
    "    sorted_y_pred = np.sort(y_pred)\n",
    "\n",
    "    topkl_accuracy = []\n",
    "    threshold = []\n",
    "\n",
    "    for top_length in [0.5, 1, 2, 4]:\n",
    "\n",
    "        idx_pred = argsorted_y_pred[-int(top_length*len(idx_true)):]\n",
    "\n",
    "        topkl_accuracy += [np.size(np.intersect1d(idx_true, idx_pred)) \\\n",
    "                  / float(min(len(idx_pred), len(idx_true)))]\n",
    "        threshold += [sorted_y_pred[-int(top_length*len(idx_true))]]\n",
    "\n",
    "    auprc = average_precision_score(y_true, y_pred)\n",
    "\n",
    "    print(\"{}\\t{}\\t{}\\t{}\\t{}\\t{}\\t{}\\t{}\\t{}\\t{}\".format(\n",
    "          np.round(topkl_accuracy[0],4), np.round(topkl_accuracy[1],4), np.round(topkl_accuracy[2],4),\n",
    "          np.round(topkl_accuracy[3],4), np.round(auprc,4), np.round(threshold[0],4), np.round(threshold[1],4),\n",
    "          np.round(threshold[2],4), np.round(threshold[3],4), len(idx_true)))\n",
    "    return (topkl_accuracy,[auprc],threshold)\n",
    "\n",
    "def trainModel(model,fileName,criterion,epochs,train_loader,val_loader,alpha=0.5,temp = 1,verbose=1):\n",
    "    learning_rate= 1e-3\n",
    "    #optimizer = torch.optim.AdamW(model.parameters(), lr=learning_rate, weight_decay=0.01)\n",
    "    optimizer = torch.optim.Adam(model.parameters(), lr=learning_rate)\n",
    "    scheduler = torch.optim.lr_scheduler.StepLR(optimizer, step_size=1, gamma=0.5)\n",
    "    \n",
    "    #optimizer_small = torch.optim.Adam(model.module.smallModel.parameters(), lr=learning_rate)\n",
    "    #scheduler_small = torch.optim.lr_scheduler.StepLR(optimizer, step_size=1, gamma=0.5)\n",
    "    warmup = get_constant_schedule_with_warmup(optimizer, num_warmup_steps=1000)\n",
    "    losses = {}\n",
    "    losses['train'] = []\n",
    "    losses['val'] = []\n",
    "    val_results = []\n",
    "    best_val = np.inf\n",
    "    dataLoaders = {}\n",
    "    dataLoaders['train'] = train_loader\n",
    "    dataLoaders['val'] = val_loader\n",
    "    multiplier = 0.01\n",
    "    eps = torch.finfo(torch.float32).eps\n",
    "    \n",
    "    \n",
    "    for epoch in range(epochs):\n",
    "        \n",
    "        for phase in ['train','val']:\n",
    "            loop =tqdm(dataLoaders[phase])\n",
    "            if 'train':\n",
    "                model.train(True)\n",
    "            else:\n",
    "                model.train(False)\n",
    "            loss = 0\n",
    "            loss_small = 0\n",
    "            ema_loss = 0\n",
    "            ema_loss_small = 0\n",
    "            ema_l1 = 0\n",
    "            ema_a_recall = 0\n",
    "            ema_d_recall = 0\n",
    "            n_steps_completed = 0\n",
    "            #Y_true_argmax,Y_pred_argmax=[],[]\n",
    "            Y_true_acceptor,Y_true_donor,Y_pred_acceptor,Y_pred_donor=[],[],[],[]\n",
    "            for i,(batch_chunks, target_chunks) in enumerate(loop):\n",
    "                batch_chunks = torch.transpose(batch_chunks.to(device),1,2)\n",
    "                #print(batch_chunks.shape)\n",
    "                target_chunks = torch.transpose(torch.squeeze(target_chunks.to(device),0),1,2)\n",
    "                #prob_chunks = torch.transpose(torch.squeeze(prob_chunks[0].to(device),0),1,2)\n",
    "                #n_chunks = int(np.ceil(batch_chunks.shape[0]/BATCH_SIZE))\n",
    "                #print(batch_chunks.shape)\n",
    "                batch_chunks = torch.split(batch_chunks, BATCH_SIZE, dim=0)\n",
    "\n",
    "                target_chunks = torch.split(target_chunks, BATCH_SIZE, dim=0)\n",
    "                #prob_chunks = torch.split(prob_chunks, BATCH_SIZE, dim=0)\n",
    "                targets_list,outputs_list = [], []\n",
    "                for j in range(len(batch_chunks)):\n",
    "                    batch_features = batch_chunks[j]\n",
    "                    \n",
    "                    #targets = torch.argmax(target_chunks[j],1)\n",
    "                    targets = target_chunks[j]\n",
    "                    #probs = prob_chunks[j]\n",
    "                    if j==0 and phase == 'train':\n",
    "                        initial_X = batch_features\n",
    "                        initial_y = targets\n",
    "                        #initial_y_prob = probs\n",
    "                    if batch_features.shape[0]!=BATCH_SIZE and phase == 'train':\n",
    "                        additional_samples = BATCH_SIZE-batch_features.shape[0]\n",
    "                        batch_features = torch.cat([batch_features,initial_X[:additional_samples,:,:]],axis=0)\n",
    "                        targets = torch.cat([targets,initial_y[:additional_samples,:,:]],axis=0)\n",
    "                        #probs = torch.cat([probs,initial_y_prob[:additional_samples,:,:]],axis=0)\n",
    "                    \n",
    "                    optimizer.zero_grad()\n",
    "                    #optimizer_small.zero_grad()\n",
    "\n",
    "                    out1,out2 = model(batch_features)\n",
    "                    \n",
    "                    if phase == 'val':\n",
    "                        outputs = out2.detach()\n",
    "                        #outputs = torch.zeros_like(out1).scatter_(2, splice_idx[:,:3,:], out2).detach()\n",
    "                        targets_list.extend(target_chunks[j].unsqueeze(0))\n",
    "                        outputs_list.extend(outputs.unsqueeze(0))\n",
    "                    \n",
    "\n",
    "                    #tmp_x = torch.transpose(outputs,1,2).reshape(targets.shape[0]*5000,3)\n",
    "                    #tmp_y = torch.transpose(targets,1,2).reshape(targets.shape[0]*5000,3)\n",
    "                    #keepAxis = tmp_y.sum(axis=1) >= 1\n",
    "                    #tmp_x = tmp_x[keepAxis].unsqueeze(0)\n",
    "                    #tmp_y = tmp_y[keepAxis].unsqueeze(0)\n",
    "                    #train_loss = criterion((tmp_x+eps).log(), tmp_y)\n",
    "                    #train_loss = criterion(outputs, targets)\n",
    "                    \n",
    "                    with torch.no_grad():\n",
    "                        outputs = out2\n",
    "                        #outputs = out1.clone()\n",
    "                        #outputs = outputs.scatter_(2, splice_idx[:,:3,:], out2) \n",
    "                        #meanAcceptor = torch.mean(torch.gather(out1,2,splice_idx[:,:3,:])[:,2,:])\n",
    "                        out_argmax = torch.flatten(torch.argmax(outputs,dim=1))\n",
    "                    #    out1_argmax = torch.flatten(torch.argmax(out1,dim=1))\n",
    "                        target_argmax = torch.flatten(torch.argmax(targets,dim=1))\n",
    "                        a_recall = torch.nanmean((out_argmax[target_argmax==1]==1).type(torch.float32))\n",
    "                        d_recall = torch.nanmean((out_argmax[target_argmax==2]==2).type(torch.float32))\n",
    "                        \n",
    "                    #probs = torch.log(probs+eps)\n",
    "                    #probs = torch.nn.functional.softmax(probs/temp, dim=1)\n",
    "                    train_loss_small = criterion(out1, targets)\n",
    "                    #top_targets = torch.gather(targets,2,splice_idx[:,:3,:])\n",
    "                    #top_out1 = torch.gather(out1,2,splice_idx[:,:3,:])\n",
    "                    l1_dist = (torch.sum(torch.abs(out1-out2))/(BATCH_SIZE*128)).detach()\n",
    "                    #l1_dist = (torch.sum(torch.abs(top_out1-out2))/(BATCH_SIZE*128)).detach()\n",
    "                   # if epoch==0:\n",
    "                   #     train_loss = (train_loss_small +criterion[1](out2,targets))/2\n",
    "                   # else:\n",
    "                    train_loss = criterion(out2,targets)\n",
    "                    #train_loss = criterion[1](torch.gather(out2,2,splice_idx[:,:3,:]), torch.gather(targets,2,splice_idx[:,:3,:]))\n",
    "                    #lambda_1 = 1\n",
    "                    #train_loss = alpha*train_loss1+(1-alpha)*train_loss2\n",
    "                    #train_loss = train_loss1\n",
    "                    if phase == 'train':\n",
    "                        train_loss.backward()\n",
    "                        torch.nn.utils.clip_grad_norm_(model.parameters(), max_norm=1, norm_type=2.0)\n",
    "                        optimizer.step()\n",
    "                        #if epoch < 5:\n",
    "                        #    train_loss_small.backward()\n",
    "                        #    optimizer_small.step()\n",
    "                        \n",
    "                        if epoch==0:\n",
    "                            warmup.step()\n",
    "                    loss = train_loss.item()+loss\n",
    "                    loss_small = train_loss_small.item()+loss_small\n",
    "                    loop.set_description('Epoch ({}) {}/{}'.format(phase,epoch + 1, epochs))\n",
    "                    n_steps_completed += 1\n",
    "                    if i==0 and j==0:\n",
    "                        ema_loss = train_loss.item()\n",
    "                        ema_loss_small = train_loss_small.item()\n",
    "                        if ~a_recall.isnan():\n",
    "                            ema_a_recall = a_recall.cpu().numpy()\n",
    "                        if ~d_recall.isnan():\n",
    "                            ema_d_recall = a_recall.cpu().numpy()\n",
    "                        #ema_loss_target = train_loss_target.item()\n",
    "                        #ema_loss_probs = train_loss_probs.item()\n",
    "                    else:\n",
    "                        ema_loss = train_loss.item()*multiplier + ema_loss*(1-multiplier)\n",
    "                        ema_loss_small = train_loss_small.item()*multiplier + ema_loss_small*(1-multiplier)\n",
    "                        ema_l1 = l1_dist.cpu().numpy()*multiplier + ema_l1*(1-multiplier)\n",
    "                        if ~a_recall.isnan():\n",
    "                            ema_a_recall = a_recall.cpu().numpy()*multiplier + ema_a_recall*(1-multiplier)\n",
    "                        if ~d_recall.isnan():\n",
    "                            ema_d_recall= d_recall.cpu().numpy()*multiplier + ema_d_recall*(1-multiplier)\n",
    "                        #ema_loss_probs = train_loss_probs.item()*multiplier + ema_loss_probs*(1-multiplier)\n",
    "                    loop.set_postfix(loss=ema_loss,loss_small=ema_loss_small, accepor_recall = ema_a_recall , donor_recall=ema_d_recall,pred_l1_dist=ema_l1)\n",
    "                \n",
    "                if phase == 'val':\n",
    "                    targets = torch.transpose(torch.vstack(targets_list),1,2).cpu().numpy()\n",
    "                    outputs = torch.transpose(torch.vstack(outputs_list),1,2).cpu().numpy()\n",
    "\n",
    "                    is_expr = (targets.sum(axis=(1,2)) >= 1)\n",
    "                    Y_true_acceptor.extend(targets[is_expr, :, 1].flatten())\n",
    "                    Y_true_donor.extend(targets[is_expr, :, 2].flatten())\n",
    "                    Y_pred_acceptor.extend(outputs[is_expr, :, 1].flatten())\n",
    "                    Y_pred_donor.extend(outputs[is_expr, :, 2].flatten())\n",
    "                    #Y_true_argmax.extend(np.argmax(targets[is_expr, :, :],axis=2).flatten())\n",
    "                    #Y_pred_argmax.extend(np.argmax(outputs[is_expr, :, :],axis=2).flatten())\n",
    "            loss = loss / (n_steps_completed)\n",
    "            losses[phase].append(loss)\n",
    "            \n",
    "            if phase == 'val':\n",
    "                Y_true_acceptor, Y_pred_acceptor,Y_true_donor, Y_pred_donor = np.array(Y_true_acceptor), np.array(Y_pred_acceptor),np.array(Y_true_donor), np.array(Y_pred_donor)\n",
    "                print(\"\\n\\033[1m{}:\\033[0m\".format('Acceptor'))\n",
    "                acceptor_val_results = print_topl_statistics(Y_true_acceptor, Y_pred_acceptor)\n",
    "                print(\"\\n\\033[1m{}:\\033[0m\".format('Donor'))\n",
    "                donor_val_results =print_topl_statistics(Y_true_donor, Y_pred_donor)\n",
    "                val_results.append([acceptor_val_results,donor_val_results])\n",
    "                \n",
    "            #if phase == 'val':\n",
    "            #    Y_true_argmax, Y_pred_argmax = np.array(Y_true_argmax), np.array(Y_pred_argmax)\n",
    "                #Y_true_acceptor, Y_pred_acceptor,Y_true_donor, Y_pred_donor = np.array(np.round(Y_true_acceptor,0).astype(int)), np.array(np.round(Y_pred_acceptor,0).astype(int)),np.array(np.round(Y_true_donor,0).astype(int)), np.array(np.round(Y_pred_donor,0).astype(int))\n",
    "            #    print(\"\\n\\033[1m{}:\\033[0m\".format('Total'))\n",
    "            #    print('Accuracy: {}'.format(accuracy_score(Y_true_argmax, Y_pred_argmax)))\n",
    "            #    print('Precision: {}'.format(precision_score(Y_true_argmax, Y_pred_argmax,average='weighted')))\n",
    "            #    print('Recall: {}'.format(recall_score(Y_true_argmax, Y_pred_argmax,average='weighted')))\n",
    "            #    print(\"\\n\\033[1m{}:\\033[0m\".format('Acceptor'))\n",
    "            #    print('Acceptor accuracy: {}'.format(accuracy_score(Y_true_argmax==1, Y_pred_argmax==1)))\n",
    "            #    print('Acceptor precision: {}'.format(precision_score(Y_true_argmax==1, Y_pred_argmax==1)))\n",
    "            #    print('Acceptor recall: {}'.format(recall_score(Y_true_argmax==1, Y_pred_argmax==1)))\n",
    "            #    print(\"\\n\\033[1m{}:\\033[0m\".format('Donor'))\n",
    "            #    print('Donor accuracy: {}'.format(accuracy_score(Y_true_argmax==2, Y_pred_argmax==2)))\n",
    "            #    print('Donor precision: {}'.format(precision_score(Y_true_argmax==2, Y_pred_argmax==2)))\n",
    "            #    print('Donor recall: {}'.format(recall_score(Y_true_argmax==2, Y_pred_argmax==2)))\n",
    "                #print('Donor precision: {}'.format(precision_score(Y_true_donor, Y_pred_donor)))\n",
    "                #print('Donor recall: {}'.format(recall_score(Y_true_donor, Y_pred_donor)))\n",
    "                #donor_val_results =print_topl_statistics(Y_true_donor, Y_pred_donor)\n",
    "                #val_results.append([acceptor_val_results,donor_val_results])\n",
    "            \n",
    "            if verbose == 1:\n",
    "                print(\"epoch: {}/{}, {} loss = {:.6f}\".format(epoch + 1, epochs, phase, loss))\n",
    "            if phase == 'val':\n",
    "                torch.save(model.state_dict(), fileName)\n",
    "                #torch.save(smallModel.state_dict(), fileName+\"_small\")\n",
    "                #if loss < best_val:\n",
    "                #    best_val = loss\n",
    "                #    torch.save(model.state_dict(), fileName)\n",
    "        if epoch>5:\n",
    "            scheduler.step()\n",
    "        \n",
    "        #if epoch<5:\n",
    "         #   scheduler_small.step()\n",
    "        \n",
    "    h = pd.DataFrame({'loss':losses['train'],'val_loss':losses['val']})\n",
    "    return h\n",
    "\n",
    "\n"
   ]
  },
  {
   "cell_type": "code",
   "execution_count": 19,
   "metadata": {},
   "outputs": [],
   "source": [
    "class categorical_crossentropy_2d:\n",
    "    def __init__(self, weights=None,mask=False):\n",
    "        self.weights = weights\n",
    "        self.mask = mask\n",
    "        self.eps = torch.finfo(torch.float32).eps\n",
    "        \n",
    "    def loss(self,y_pred,y_true):\n",
    "        if self.mask:\n",
    "            loss_sum = torch.sum(self.weights[0]*y_true[:, 0, :]*torch.log(y_pred[:, 0, :]+self.eps) + self.weights[1]*y_true[:, 1, :]*torch.log(y_pred[:, 1, :]+self.eps) + self.weights[2]*y_true[:, 2, :]*torch.log(y_pred[:, 2, :]+self.eps))\n",
    "            weight_sum = torch.sum(self.weights[0]*y_true[:, 0, :] + self.weights[1]*y_true[:, 1, :] + self.weights[2]*y_true[:, 2, :])+self.eps\n",
    "            return -loss_sum/weight_sum\n",
    "        else:\n",
    "            prob_sum = torch.sum(y_true)\n",
    "            return -torch.sum(y_true[:, 0, :]*torch.log(y_pred[:, 0, :]+self.eps) + y_true[:, 1, :]*torch.log(y_pred[:, 1, :]+self.eps) + y_true[:, 2, :]*torch.log(y_pred[:, 2, :]+self.eps))/prob_sum\n",
    "        #loss_sum = torch.sum(self.weights[0]*y_true[:, 0, :]*torch.log(y_pred[:, 0, :]+1e-10) + self.weights[1]*y_true[:, 1, :]*torch.log(y_pred[:, 1, :]+1e-10) + self.weights[2]*y_true[:, 2, :]*torch.log(y_pred[:, 2, :]+1e-10))\n",
    "        #weight_sum = torch.sum(self.weights[0]*y_true[:, 0, :] + self.weights[1]*y_true[:, 1, :] + self.weights[2]*y_true[:, 2, :])\n",
    "        #return -loss_sum/weight_sum\n",
    "        \n",
    "class kl_div_2d:\n",
    "    def __init__(self,temp=1):\n",
    "        self.eps = torch.finfo(torch.float32).eps\n",
    "        self.temp = temp\n",
    "        \n",
    "    def loss(self,y_pred,y_true):\n",
    "        if self.temp!=1:\n",
    "            y_true = torch.nn.Softmax(dim=1)(torch.log(y_true+self.eps)/self.temp)\n",
    "        return -torch.mean((y_true[:, 0, :]*torch.log(y_pred[:, 0, :]/(y_true[:, 0, :]+self.eps)+self.eps) + y_true[:, 1, :]*torch.log(y_pred[:, 1, :]/(y_true[:, 1, :]+self.eps)+self.eps) + y_true[:, 2, :]*torch.log(y_pred[:, 2, :]/(y_true[:, 2, :]+self.eps)+self.eps))*self.temp**2)\n",
    "        #x = -torch.sum(y_true[:, 0, :]*torch.log(y_pred[:, 0, :]/(y_true[:, 0, :]+self.eps)+self.eps) + y_true[:, 1, :]*torch.log(y_pred[:, 1, :]/(y_true[:, 1, :]+self.eps)+self.eps) + y_true[:, 2, :]*torch.log(y_pred[:, 2, :]/(y_true[:, 2, :]+self.eps)+self.eps))*self.temp**2\n",
    "        #return x/(y_pred.shape[0]*y_pred.shape[2])\n",
    "        \n",
    "#def weights_init(m):\n",
    "#    if isinstance(m, nn.Conv1d):\n",
    "#        if m.out_channels==3:\n",
    "#            torch.nn.init.xavier_uniform_(m.weight)\n",
    "            #torch.nn.init.zeros_(m.bias)\n",
    "#            m.bias = nn.Parameter(torch.Tensor(np.log([n_null/(n_acceptor+n_donor),n_acceptor/(n_null+n_donor),n_donor/(n_acceptor+n_null)])))\n",
    "        #else:\n",
    "        #    torch.nn.init.kaiming_uniform_(m.weight)\n",
    "        #    if m.bias is not None:\n",
    "        #        fan_in, _ = nn.init._calculate_fan_in_and_fan_out(m.weight)\n",
    "        #        bound = 1 / np.sqrt(fan_in)\n",
    "        #        nn.init.uniform_(m.bias, -bound, bound)\n",
    "        \n",
    "#def weights_init(m):\n",
    "#    if isinstance(m, nn.Conv1d):\n",
    "#        if m.out_channels==3:\n",
    "#            torch.nn.init.xavier_uniform_(m.weight)\n",
    "#            #torch.nn.init.zeros_(m.bias)\n",
    "#            m.bias = nn.Parameter(torch.Tensor(np.log([n_null/(n_acceptor+n_donor),n_acceptor/(n_null+n_donor),n_donor/(n_acceptor+n_null)])))\n",
    "        #else:\n",
    "        #    torch.nn.init.kaiming_uniform_(m.weight)\n",
    "        #    if m.bias is not None:\n",
    "        #        fan_in, _ = nn.init._calculate_fan_in_and_fan_out(m.weight)\n",
    "        #        bound = 1 / np.sqrt(fan_in)\n",
    "        #        nn.init.uniform_(m.bias, -bound, bound)\n",
    "        \n",
    "        \n",
    "def keras_init(m):\n",
    "    if isinstance(m, nn.Conv1d): \n",
    "        fin, fout = nn.init._calculate_fan_in_and_fan_out(m.weight)\n",
    "        a = np.sqrt(6/(m.in_channels*(fin+fout)))\n",
    "        torch.nn.init.uniform_(m.weight, a=-a, b=a)\n",
    "        #print(m,nn.init._calculate_fan_in_and_fan_out(m.weight))\n",
    "        #nn.init.kaiming_uniform_(m.weight, nonlinearity='relu')\n",
    "        #nn.init.kaiming_uniform_(m.weight,mode='fan_in', nonlinearity='relu')\n",
    "        torch.nn.init.zeros_(m.bias)\n",
    "        #if m.bias is not None:\n",
    "        #    fan_in, _ = nn.init._calculate_fan_in_and_fan_out(m.weight)\n",
    "        #    bound = 1 / np.sqrt(fan_in)\n",
    "        #    nn.init.uniform_(m.bias, -bound, bound)"
   ]
  },
  {
   "cell_type": "code",
   "execution_count": 20,
   "metadata": {
    "scrolled": true
   },
   "outputs": [
    {
     "name": "stderr",
     "output_type": "stream",
     "text": [
      "Epoch (train) 1/10: 100%|█| 202/202 [37:45<00:00, 11.21s/it, accepor_recall=0.784, donor_recall=0.763, loss\n"
     ]
    },
    {
     "name": "stdout",
     "output_type": "stream",
     "text": [
      "epoch: 1/10, train loss = 0.008069\n"
     ]
    },
    {
     "name": "stderr",
     "output_type": "stream",
     "text": [
      "Epoch (val) 1/10: 100%|█| 23/23 [06:33<00:00, 17.12s/it, accepor_recall=0.809, donor_recall=0.809, loss=0.0\n"
     ]
    },
    {
     "name": "stdout",
     "output_type": "stream",
     "text": [
      "\n",
      "\u001b[1mAcceptor:\u001b[0m\n",
      "0.9672\t0.8716\t0.9677\t0.9849\t0.9184\t0.9277999997138977\t0.29109999537467957\t0.015200000256299973\t0.0027000000700354576\t21432\n",
      "\n",
      "\u001b[1mDonor:\u001b[0m\n",
      "0.9647\t0.8711\t0.9718\t0.9859\t0.918\t0.8751000165939331\t0.2953999936580658\t0.020800000056624413\t0.004000000189989805\t21432\n",
      "epoch: 1/10, val loss = 0.000298\n"
     ]
    },
    {
     "name": "stderr",
     "output_type": "stream",
     "text": [
      "Epoch (train) 2/10: 100%|█| 202/202 [37:11<00:00, 11.05s/it, accepor_recall=0.802, donor_recall=0.783, loss\n"
     ]
    },
    {
     "name": "stdout",
     "output_type": "stream",
     "text": [
      "epoch: 2/10, train loss = 0.000316\n"
     ]
    },
    {
     "name": "stderr",
     "output_type": "stream",
     "text": [
      "Epoch (val) 2/10: 100%|█| 23/23 [07:01<00:00, 18.33s/it, accepor_recall=0.873, donor_recall=0.855, loss=0.0\n"
     ]
    },
    {
     "name": "stdout",
     "output_type": "stream",
     "text": [
      "\n",
      "\u001b[1mAcceptor:\u001b[0m\n",
      "0.9662\t0.8764\t0.9679\t0.9836\t0.9194\t0.9761000275611877\t0.6406000256538391\t0.06710000336170197\t0.014000000432133675\t21432\n",
      "\n",
      "\u001b[1mDonor:\u001b[0m\n",
      "0.9648\t0.8846\t0.9735\t0.9874\t0.9219\t0.9440000057220459\t0.4797999858856201\t0.03909999877214432\t0.009499999694526196\t21432\n",
      "epoch: 2/10, val loss = 0.000305\n"
     ]
    },
    {
     "name": "stderr",
     "output_type": "stream",
     "text": [
      "Epoch (train) 3/10: 100%|█| 202/202 [37:24<00:00, 11.11s/it, accepor_recall=0.843, donor_recall=0.833, loss\n"
     ]
    },
    {
     "name": "stdout",
     "output_type": "stream",
     "text": [
      "epoch: 3/10, train loss = 0.000274\n"
     ]
    },
    {
     "name": "stderr",
     "output_type": "stream",
     "text": [
      "Epoch (val) 3/10: 100%|█| 23/23 [06:42<00:00, 17.49s/it, accepor_recall=0.9, donor_recall=0.908, loss=0.000\n"
     ]
    },
    {
     "name": "stdout",
     "output_type": "stream",
     "text": [
      "\n",
      "\u001b[1mAcceptor:\u001b[0m\n",
      "0.9685\t0.8987\t0.976\t0.9875\t0.9328\t0.9682999849319458\t0.6162999868392944\t0.049800001084804535\t0.010700000450015068\t21432\n",
      "\n",
      "\u001b[1mDonor:\u001b[0m\n",
      "0.9657\t0.8971\t0.9818\t0.9902\t0.9359\t0.9611999988555908\t0.5878999829292297\t0.044199999421834946\t0.010200000368058681\t21432\n",
      "epoch: 3/10, val loss = 0.000265\n"
     ]
    },
    {
     "name": "stderr",
     "output_type": "stream",
     "text": [
      "Epoch (train) 4/10: 100%|█| 202/202 [37:16<00:00, 11.07s/it, accepor_recall=0.859, donor_recall=0.851, loss\n"
     ]
    },
    {
     "name": "stdout",
     "output_type": "stream",
     "text": [
      "epoch: 4/10, train loss = 0.000248\n"
     ]
    },
    {
     "name": "stderr",
     "output_type": "stream",
     "text": [
      "Epoch (val) 4/10: 100%|█| 23/23 [06:57<00:00, 18.17s/it, accepor_recall=0.859, donor_recall=0.859, loss=0.0\n"
     ]
    },
    {
     "name": "stdout",
     "output_type": "stream",
     "text": [
      "\n",
      "\u001b[1mAcceptor:\u001b[0m\n",
      "0.9725\t0.9028\t0.9795\t0.9874\t0.9387\t0.9573000073432922\t0.361299991607666\t0.010300000198185444\t0.00279999990016222\t21432\n",
      "\n",
      "\u001b[1mDonor:\u001b[0m\n",
      "0.9697\t0.8991\t0.9804\t0.9896\t0.9359\t0.9319999814033508\t0.4198000133037567\t0.017400000244379044\t0.0038999998942017555\t21432\n",
      "epoch: 4/10, val loss = 0.000233\n"
     ]
    },
    {
     "name": "stderr",
     "output_type": "stream",
     "text": [
      "Epoch (train) 5/10: 100%|█| 202/202 [37:32<00:00, 11.15s/it, accepor_recall=0.873, donor_recall=0.87, loss=\n"
     ]
    },
    {
     "name": "stdout",
     "output_type": "stream",
     "text": [
      "epoch: 5/10, train loss = 0.000231\n"
     ]
    },
    {
     "name": "stderr",
     "output_type": "stream",
     "text": [
      "Epoch (val) 5/10: 100%|█| 23/23 [06:10<00:00, 16.09s/it, accepor_recall=0.835, donor_recall=0.832, loss=0.0\n"
     ]
    },
    {
     "name": "stdout",
     "output_type": "stream",
     "text": [
      "\n",
      "\u001b[1mAcceptor:\u001b[0m\n",
      "0.973\t0.8998\t0.9776\t0.9871\t0.9359\t0.9527999758720398\t0.2709999978542328\t0.006800000090152025\t0.0017000000225380063\t21432\n",
      "\n",
      "\u001b[1mDonor:\u001b[0m\n",
      "0.9693\t0.9\t0.981\t0.9899\t0.9375\t0.9243000149726868\t0.26440000534057617\t0.006899999920278788\t0.0013000000035390258\t21432\n",
      "epoch: 5/10, val loss = 0.000248\n"
     ]
    },
    {
     "name": "stderr",
     "output_type": "stream",
     "text": [
      "Epoch (train) 6/10: 100%|█| 202/202 [37:40<00:00, 11.19s/it, accepor_recall=0.873, donor_recall=0.864, loss\n"
     ]
    },
    {
     "name": "stdout",
     "output_type": "stream",
     "text": [
      "epoch: 6/10, train loss = 0.000220\n"
     ]
    },
    {
     "name": "stderr",
     "output_type": "stream",
     "text": [
      "Epoch (val) 6/10: 100%|█| 23/23 [06:29<00:00, 16.96s/it, accepor_recall=0.916, donor_recall=0.935, loss=0.0\n"
     ]
    },
    {
     "name": "stdout",
     "output_type": "stream",
     "text": [
      "\n",
      "\u001b[1mAcceptor:\u001b[0m\n",
      "0.97\t0.9068\t0.9811\t0.9891\t0.9403\t0.9664000272750854\t0.6362000107765198\t0.02759999968111515\t0.004800000227987766\t21432\n",
      "\n",
      "\u001b[1mDonor:\u001b[0m\n",
      "0.9682\t0.9056\t0.9831\t0.9908\t0.9401\t0.9674000144004822\t0.6875\t0.05380000174045563\t0.010999999940395355\t21432\n",
      "epoch: 6/10, val loss = 0.000251\n"
     ]
    },
    {
     "name": "stderr",
     "output_type": "stream",
     "text": [
      "Epoch (train) 7/10: 100%|█| 202/202 [37:23<00:00, 11.11s/it, accepor_recall=0.879, donor_recall=0.875, loss\n"
     ]
    },
    {
     "name": "stdout",
     "output_type": "stream",
     "text": [
      "epoch: 7/10, train loss = 0.000210\n"
     ]
    },
    {
     "name": "stderr",
     "output_type": "stream",
     "text": [
      "Epoch (val) 7/10: 100%|█| 23/23 [06:19<00:00, 16.52s/it, accepor_recall=0.891, donor_recall=0.892, loss=0.0\n"
     ]
    },
    {
     "name": "stdout",
     "output_type": "stream",
     "text": [
      "\n",
      "\u001b[1mAcceptor:\u001b[0m\n",
      "0.9689\t0.9092\t0.9814\t0.9897\t0.9385\t0.9354000091552734\t0.4284999966621399\t0.009700000286102295\t0.001500000013038516\t21432\n",
      "\n",
      "\u001b[1mDonor:\u001b[0m\n",
      "0.9687\t0.9028\t0.9821\t0.9907\t0.938\t0.9488000273704529\t0.48159998655319214\t0.01549999974668026\t0.0026000000070780516\t21432\n",
      "epoch: 7/10, val loss = 0.000227\n"
     ]
    },
    {
     "name": "stderr",
     "output_type": "stream",
     "text": [
      "Epoch (train) 8/10: 100%|█| 202/202 [37:20<00:00, 11.09s/it, accepor_recall=0.903, donor_recall=0.9, loss=0\n"
     ]
    },
    {
     "name": "stdout",
     "output_type": "stream",
     "text": [
      "epoch: 8/10, train loss = 0.000181\n"
     ]
    },
    {
     "name": "stderr",
     "output_type": "stream",
     "text": [
      "Epoch (val) 8/10: 100%|█| 23/23 [06:11<00:00, 16.14s/it, accepor_recall=0.913, donor_recall=0.916, loss=0.0\n"
     ]
    },
    {
     "name": "stdout",
     "output_type": "stream",
     "text": [
      "\n",
      "\u001b[1mAcceptor:\u001b[0m\n",
      "0.9677\t0.9073\t0.9819\t0.9899\t0.9393\t0.9638000130653381\t0.6252999901771545\t0.014800000004470348\t0.002099999925121665\t21432\n",
      "\n",
      "\u001b[1mDonor:\u001b[0m\n",
      "0.9717\t0.9076\t0.9845\t0.9918\t0.9435\t0.9560999870300293\t0.600600004196167\t0.0203000009059906\t0.003000000026077032\t21432\n",
      "epoch: 8/10, val loss = 0.000226\n"
     ]
    },
    {
     "name": "stderr",
     "output_type": "stream",
     "text": [
      "Epoch (train) 9/10: 100%|█| 202/202 [37:24<00:00, 11.11s/it, accepor_recall=0.918, donor_recall=0.913, loss\n"
     ]
    },
    {
     "name": "stdout",
     "output_type": "stream",
     "text": [
      "epoch: 9/10, train loss = 0.000164\n"
     ]
    },
    {
     "name": "stderr",
     "output_type": "stream",
     "text": [
      "Epoch (val) 9/10: 100%|█| 23/23 [06:14<00:00, 16.26s/it, accepor_recall=0.9, donor_recall=0.893, loss=0.000\n"
     ]
    },
    {
     "name": "stdout",
     "output_type": "stream",
     "text": [
      "\n",
      "\u001b[1mAcceptor:\u001b[0m\n",
      "0.9714\t0.916\t0.9835\t0.991\t0.945\t0.9542999863624573\t0.46950000524520874\t0.006200000178068876\t0.0008999999845400453\t21432\n",
      "\n",
      "\u001b[1mDonor:\u001b[0m\n",
      "0.9719\t0.9115\t0.9846\t0.9924\t0.946\t0.9513000249862671\t0.4422999918460846\t0.007499999832361937\t0.0012000000569969416\t21432\n",
      "epoch: 9/10, val loss = 0.000209\n"
     ]
    },
    {
     "name": "stderr",
     "output_type": "stream",
     "text": [
      "Epoch (train) 10/10: 100%|█| 202/202 [37:21<00:00, 11.10s/it, accepor_recall=0.916, donor_recall=0.908, los\n"
     ]
    },
    {
     "name": "stdout",
     "output_type": "stream",
     "text": [
      "epoch: 10/10, train loss = 0.000153\n"
     ]
    },
    {
     "name": "stderr",
     "output_type": "stream",
     "text": [
      "Epoch (val) 10/10: 100%|█| 23/23 [06:05<00:00, 15.91s/it, accepor_recall=0.913, donor_recall=0.913, loss=0.\n"
     ]
    },
    {
     "name": "stdout",
     "output_type": "stream",
     "text": [
      "\n",
      "\u001b[1mAcceptor:\u001b[0m\n",
      "0.9684\t0.9151\t0.9842\t0.9912\t0.9441\t0.9668999910354614\t0.5687999725341797\t0.010599999688565731\t0.0017000000225380063\t21432\n",
      "\n",
      "\u001b[1mDonor:\u001b[0m\n",
      "0.9699\t0.9128\t0.9855\t0.9929\t0.9447\t0.9624000191688538\t0.5685999989509583\t0.01119999960064888\t0.0017000000225380063\t21432\n",
      "epoch: 10/10, val loss = 0.000211\n"
     ]
    },
    {
     "data": {
      "image/png": "[encoded data removed]",
      "text/plain": [
       "<Figure size 432x288 with 1 Axes>"
      ]
     },
     "metadata": {
      "needs_background": "light"
     },
     "output_type": "display_data"
    },
    {
     "name": "stderr",
     "output_type": "stream",
     "text": [
      "Epoch (train) 1/10: 100%|█| 202/202 [37:18<00:00, 11.08s/it, accepor_recall=0.78, donor_recall=0.78, loss=0\n"
     ]
    },
    {
     "name": "stdout",
     "output_type": "stream",
     "text": [
      "epoch: 1/10, train loss = 0.007872\n"
     ]
    },
    {
     "name": "stderr",
     "output_type": "stream",
     "text": [
      "Epoch (val) 1/10: 100%|█| 23/23 [06:10<00:00, 16.13s/it, accepor_recall=0.705, donor_recall=0.772, loss=0.0\n"
     ]
    },
    {
     "name": "stdout",
     "output_type": "stream",
     "text": [
      "\n",
      "\u001b[1mAcceptor:\u001b[0m\n",
      "0.964\t0.8529\t0.9606\t0.9817\t0.9049\t0.7645999789237976\t0.26429998874664307\t0.032999999821186066\t0.007199999876320362\t21432\n",
      "\n",
      "\u001b[1mDonor:\u001b[0m\n",
      "0.9647\t0.8706\t0.9705\t0.9864\t0.9154\t0.8671000003814697\t0.2727999985218048\t0.020600000396370888\t0.00430000014603138\t21432\n",
      "epoch: 1/10, val loss = 0.000329\n"
     ]
    },
    {
     "name": "stderr",
     "output_type": "stream",
     "text": [
      "Epoch (train) 2/10: 100%|█| 202/202 [37:36<00:00, 11.17s/it, accepor_recall=0.798, donor_recall=0.808, loss\n"
     ]
    },
    {
     "name": "stdout",
     "output_type": "stream",
     "text": [
      "epoch: 2/10, train loss = 0.000322\n"
     ]
    },
    {
     "name": "stderr",
     "output_type": "stream",
     "text": [
      "Epoch (val) 2/10: 100%|█| 23/23 [06:11<00:00, 16.14s/it, accepor_recall=0.848, donor_recall=0.857, loss=0.0\n"
     ]
    },
    {
     "name": "stdout",
     "output_type": "stream",
     "text": [
      "\n",
      "\u001b[1mAcceptor:\u001b[0m\n",
      "0.9696\t0.8862\t0.9743\t0.9874\t0.9282\t0.9308000206947327\t0.39730000495910645\t0.0272000003606081\t0.005200000014156103\t21432\n",
      "\n",
      "\u001b[1mDonor:\u001b[0m\n",
      "0.9683\t0.8887\t0.9789\t0.9891\t0.9298\t0.8935999870300293\t0.4140999913215637\t0.03310000151395798\t0.006099999882280827\t21432\n",
      "epoch: 2/10, val loss = 0.000265\n"
     ]
    },
    {
     "name": "stderr",
     "output_type": "stream",
     "text": [
      "Epoch (train) 3/10: 100%|█| 202/202 [37:30<00:00, 11.14s/it, accepor_recall=0.825, donor_recall=0.824, loss\n"
     ]
    },
    {
     "name": "stdout",
     "output_type": "stream",
     "text": [
      "epoch: 3/10, train loss = 0.000306\n"
     ]
    },
    {
     "name": "stderr",
     "output_type": "stream",
     "text": [
      "Epoch (val) 3/10: 100%|█| 23/23 [06:00<00:00, 15.68s/it, accepor_recall=0.891, donor_recall=0.885, loss=0.0\n"
     ]
    },
    {
     "name": "stdout",
     "output_type": "stream",
     "text": [
      "\n",
      "\u001b[1mAcceptor:\u001b[0m\n",
      "0.969\t0.8979\t0.9763\t0.9863\t0.9336\t0.9611999988555908\t0.5562000274658203\t0.021900000050663948\t0.0034000000450760126\t21432\n",
      "\n",
      "\u001b[1mDonor:\u001b[0m\n",
      "0.9691\t0.898\t0.9799\t0.9902\t0.9357\t0.9555000066757202\t0.46700000762939453\t0.016699999570846558\t0.0027000000700354576\t21432\n",
      "epoch: 3/10, val loss = 0.000245\n"
     ]
    },
    {
     "name": "stderr",
     "output_type": "stream",
     "text": [
      "Epoch (train) 4/10: 100%|█| 202/202 [37:18<00:00, 11.08s/it, accepor_recall=0.856, donor_recall=0.843, loss\n"
     ]
    },
    {
     "name": "stdout",
     "output_type": "stream",
     "text": [
      "epoch: 4/10, train loss = 0.000252\n"
     ]
    },
    {
     "name": "stderr",
     "output_type": "stream",
     "text": [
      "Epoch (val) 4/10: 100%|█| 23/23 [06:11<00:00, 16.17s/it, accepor_recall=0.863, donor_recall=0.872, loss=0.0\n"
     ]
    },
    {
     "name": "stdout",
     "output_type": "stream",
     "text": [
      "\n",
      "\u001b[1mAcceptor:\u001b[0m\n",
      "0.9728\t0.9006\t0.9773\t0.9864\t0.9364\t0.9553999900817871\t0.382099986076355\t0.012600000016391277\t0.0026000000070780516\t21432\n",
      "\n",
      "\u001b[1mDonor:\u001b[0m\n",
      "0.9694\t0.9054\t0.9816\t0.99\t0.9378\t0.9509999752044678\t0.36070001125335693\t0.009700000286102295\t0.0015999999595806003\t21432\n",
      "epoch: 4/10, val loss = 0.000237\n"
     ]
    },
    {
     "name": "stderr",
     "output_type": "stream",
     "text": [
      "Epoch (train) 5/10: 100%|█| 202/202 [37:50<00:00, 11.24s/it, accepor_recall=0.868, donor_recall=0.868, loss\n"
     ]
    },
    {
     "name": "stdout",
     "output_type": "stream",
     "text": [
      "epoch: 5/10, train loss = 0.000241\n"
     ]
    },
    {
     "name": "stderr",
     "output_type": "stream",
     "text": [
      "Epoch (val) 5/10: 100%|█| 23/23 [06:21<00:00, 16.59s/it, accepor_recall=0.899, donor_recall=0.891, loss=0.0\n"
     ]
    },
    {
     "name": "stdout",
     "output_type": "stream",
     "text": [
      "\n",
      "\u001b[1mAcceptor:\u001b[0m\n",
      "0.9704\t0.9059\t0.9799\t0.9883\t0.9391\t0.9690999984741211\t0.5249000191688538\t0.01979999989271164\t0.003800000064074993\t21432\n",
      "\n",
      "\u001b[1mDonor:\u001b[0m\n",
      "0.9706\t0.9079\t0.983\t0.9914\t0.9411\t0.9557999968528748\t0.4375999867916107\t0.019200000911951065\t0.0035000001080334187\t21432\n",
      "epoch: 5/10, val loss = 0.000226\n"
     ]
    },
    {
     "name": "stderr",
     "output_type": "stream",
     "text": [
      "Epoch (train) 6/10: 100%|█| 202/202 [37:23<00:00, 11.10s/it, accepor_recall=0.874, donor_recall=0.856, loss\n"
     ]
    },
    {
     "name": "stdout",
     "output_type": "stream",
     "text": [
      "epoch: 6/10, train loss = 0.000219\n"
     ]
    },
    {
     "name": "stderr",
     "output_type": "stream",
     "text": [
      "Epoch (val) 6/10: 100%|█| 23/23 [06:13<00:00, 16.24s/it, accepor_recall=0.918, donor_recall=0.925, loss=0.0\n"
     ]
    },
    {
     "name": "stdout",
     "output_type": "stream",
     "text": [
      "\n",
      "\u001b[1mAcceptor:\u001b[0m\n",
      "0.9725\t0.9079\t0.9816\t0.9898\t0.9418\t0.9775000214576721\t0.6651999950408936\t0.024900000542402267\t0.00419999985024333\t21432\n",
      "\n",
      "\u001b[1mDonor:\u001b[0m\n",
      "0.9711\t0.9089\t0.9849\t0.9935\t0.9443\t0.9728999733924866\t0.6171000003814697\t0.028200000524520874\t0.004800000227987766\t21432\n",
      "epoch: 6/10, val loss = 0.000233\n"
     ]
    },
    {
     "name": "stderr",
     "output_type": "stream",
     "text": [
      "Epoch (train) 7/10: 100%|█| 202/202 [37:44<00:00, 11.21s/it, accepor_recall=0.886, donor_recall=0.881, loss\n"
     ]
    },
    {
     "name": "stdout",
     "output_type": "stream",
     "text": [
      "epoch: 7/10, train loss = 0.000212\n"
     ]
    },
    {
     "name": "stderr",
     "output_type": "stream",
     "text": [
      "Epoch (val) 7/10: 100%|█| 23/23 [06:05<00:00, 15.90s/it, accepor_recall=0.891, donor_recall=0.903, loss=0.0\n"
     ]
    },
    {
     "name": "stdout",
     "output_type": "stream",
     "text": [
      "\n",
      "\u001b[1mAcceptor:\u001b[0m\n",
      "0.9686\t0.9106\t0.9815\t0.9888\t0.9406\t0.9661999940872192\t0.46399998664855957\t0.009100000374019146\t0.0015999999595806003\t21432\n",
      "\n",
      "\u001b[1mDonor:\u001b[0m\n",
      "0.9686\t0.9102\t0.9832\t0.9912\t0.9411\t0.9686999917030334\t0.5160999894142151\t0.011099999770522118\t0.0017000000225380063\t21432\n",
      "epoch: 7/10, val loss = 0.000221\n"
     ]
    },
    {
     "name": "stderr",
     "output_type": "stream",
     "text": [
      "Epoch (train) 8/10: 100%|█| 202/202 [37:30<00:00, 11.14s/it, accepor_recall=0.904, donor_recall=0.891, loss\n"
     ]
    },
    {
     "name": "stdout",
     "output_type": "stream",
     "text": [
      "epoch: 8/10, train loss = 0.000184\n"
     ]
    },
    {
     "name": "stderr",
     "output_type": "stream",
     "text": [
      "Epoch (val) 8/10: 100%|█| 23/23 [06:24<00:00, 16.74s/it, accepor_recall=0.911, donor_recall=0.912, loss=0.0\n"
     ]
    },
    {
     "name": "stdout",
     "output_type": "stream",
     "text": [
      "\n",
      "\u001b[1mAcceptor:\u001b[0m\n",
      "0.9732\t0.9148\t0.9827\t0.9899\t0.9462\t0.9729999899864197\t0.5569000244140625\t0.013399999588727951\t0.002099999925121665\t21432\n",
      "\n",
      "\u001b[1mDonor:\u001b[0m\n",
      "0.9727\t0.9155\t0.9844\t0.9923\t0.9456\t0.9656999707221985\t0.5311999917030334\t0.015799999237060547\t0.0024999999441206455\t21432\n",
      "epoch: 8/10, val loss = 0.000211\n"
     ]
    },
    {
     "name": "stderr",
     "output_type": "stream",
     "text": [
      "Epoch (train) 9/10: 100%|█| 202/202 [37:38<00:00, 11.18s/it, accepor_recall=0.902, donor_recall=0.89, loss=\n"
     ]
    },
    {
     "name": "stdout",
     "output_type": "stream",
     "text": [
      "epoch: 9/10, train loss = 0.000166\n"
     ]
    },
    {
     "name": "stderr",
     "output_type": "stream",
     "text": [
      "Epoch (val) 9/10: 100%|█| 23/23 [06:20<00:00, 16.56s/it, accepor_recall=0.912, donor_recall=0.915, loss=0.0\n"
     ]
    },
    {
     "name": "stdout",
     "output_type": "stream",
     "text": [
      "\n",
      "\u001b[1mAcceptor:\u001b[0m\n",
      "0.9691\t0.9143\t0.9832\t0.9905\t0.9434\t0.9546999931335449\t0.6043999791145325\t0.01360000018030405\t0.002199999988079071\t21432\n",
      "\n",
      "\u001b[1mDonor:\u001b[0m\n",
      "0.9653\t0.9145\t0.9852\t0.9926\t0.9422\t0.9330999851226807\t0.5570999979972839\t0.015399999916553497\t0.0024999999441206455\t21432\n",
      "epoch: 9/10, val loss = 0.000214\n"
     ]
    },
    {
     "name": "stderr",
     "output_type": "stream",
     "text": [
      "Epoch (train) 10/10: 100%|█| 202/202 [37:41<00:00, 11.19s/it, accepor_recall=0.92, donor_recall=0.906, loss\n"
     ]
    },
    {
     "name": "stdout",
     "output_type": "stream",
     "text": [
      "epoch: 10/10, train loss = 0.000156\n"
     ]
    },
    {
     "name": "stderr",
     "output_type": "stream",
     "text": [
      "Epoch (val) 10/10: 100%|█| 23/23 [06:27<00:00, 16.87s/it, accepor_recall=0.914, donor_recall=0.92, loss=0.0\n"
     ]
    },
    {
     "name": "stdout",
     "output_type": "stream",
     "text": [
      "\n",
      "\u001b[1mAcceptor:\u001b[0m\n",
      "0.9693\t0.9151\t0.9832\t0.9905\t0.9439\t0.9751999974250793\t0.6304000020027161\t0.008500000461935997\t0.0012000000569969416\t21432\n",
      "\n",
      "\u001b[1mDonor:\u001b[0m\n",
      "0.9669\t0.914\t0.9858\t0.9931\t0.944\t0.9725000262260437\t0.6032000184059143\t0.01119999960064888\t0.0015999999595806003\t21432\n",
      "epoch: 10/10, val loss = 0.000212\n"
     ]
    },
    {
     "data": {
      "image/png": "[encoded data removed]",
      "text/plain": [
       "<Figure size 432x288 with 1 Axes>"
      ]
     },
     "metadata": {
      "needs_background": "light"
     },
     "output_type": "display_data"
    },
    {
     "name": "stderr",
     "output_type": "stream",
     "text": [
      "Epoch (train) 1/10: 100%|█| 202/202 [37:43<00:00, 11.21s/it, accepor_recall=0.778, donor_recall=0.771, loss\n"
     ]
    },
    {
     "name": "stdout",
     "output_type": "stream",
     "text": [
      "epoch: 1/10, train loss = 0.007784\n"
     ]
    },
    {
     "name": "stderr",
     "output_type": "stream",
     "text": [
      "Epoch (val) 1/10: 100%|█| 23/23 [06:30<00:00, 17.00s/it, accepor_recall=0.794, donor_recall=0.838, loss=0.0\n"
     ]
    },
    {
     "name": "stdout",
     "output_type": "stream",
     "text": [
      "\n",
      "\u001b[1mAcceptor:\u001b[0m\n",
      "0.9638\t0.8623\t0.9647\t0.9828\t0.9103\t0.9081000089645386\t0.32010000944137573\t0.023000000044703484\t0.00430000014603138\t21432\n",
      "\n",
      "\u001b[1mDonor:\u001b[0m\n",
      "0.9651\t0.8638\t0.967\t0.9853\t0.9123\t0.9287999868392944\t0.4422999918460846\t0.03920000046491623\t0.006599999964237213\t21432\n",
      "epoch: 1/10, val loss = 0.000310\n"
     ]
    },
    {
     "name": "stderr",
     "output_type": "stream",
     "text": [
      "Epoch (train) 2/10: 100%|█| 202/202 [37:35<00:00, 11.17s/it, accepor_recall=0.786, donor_recall=0.787, loss\n"
     ]
    },
    {
     "name": "stdout",
     "output_type": "stream",
     "text": [
      "epoch: 2/10, train loss = 0.000447\n"
     ]
    },
    {
     "name": "stderr",
     "output_type": "stream",
     "text": [
      "Epoch (val) 2/10: 100%|█| 23/23 [07:10<00:00, 18.70s/it, accepor_recall=0.891, donor_recall=0.911, loss=0.0\n"
     ]
    },
    {
     "name": "stdout",
     "output_type": "stream",
     "text": [
      "\n",
      "\u001b[1mAcceptor:\u001b[0m\n",
      "0.962\t0.8757\t0.9695\t0.9859\t0.9167\t0.9682999849319458\t0.6158999800682068\t0.05779999867081642\t0.010400000028312206\t21432\n",
      "\n",
      "\u001b[1mDonor:\u001b[0m\n",
      "0.9641\t0.8787\t0.974\t0.9887\t0.922\t0.9724000096321106\t0.6762999892234802\t0.06669999659061432\t0.010599999688565731\t21432\n",
      "epoch: 2/10, val loss = 0.000320\n"
     ]
    },
    {
     "name": "stderr",
     "output_type": "stream",
     "text": [
      "Epoch (train) 3/10: 100%|█| 202/202 [37:27<00:00, 11.13s/it, accepor_recall=0.826, donor_recall=0.824, loss\n"
     ]
    },
    {
     "name": "stdout",
     "output_type": "stream",
     "text": [
      "epoch: 3/10, train loss = 0.000288\n"
     ]
    },
    {
     "name": "stderr",
     "output_type": "stream",
     "text": [
      "Epoch (val) 3/10: 100%|█| 23/23 [06:28<00:00, 16.90s/it, accepor_recall=0.858, donor_recall=0.805, loss=0.0\n"
     ]
    },
    {
     "name": "stdout",
     "output_type": "stream",
     "text": [
      "\n",
      "\u001b[1mAcceptor:\u001b[0m\n",
      "0.9679\t0.8952\t0.9757\t0.9869\t0.9311\t0.9088000059127808\t0.4056999981403351\t0.025800000876188278\t0.004600000102072954\t21432\n",
      "\n",
      "\u001b[1mDonor:\u001b[0m\n",
      "0.9663\t0.8934\t0.9777\t0.988\t0.9312\t0.8234999775886536\t0.30410000681877136\t0.017400000244379044\t0.0034000000450760126\t21432\n",
      "epoch: 3/10, val loss = 0.000264\n"
     ]
    },
    {
     "name": "stderr",
     "output_type": "stream",
     "text": [
      "Epoch (train) 4/10: 100%|█| 202/202 [37:39<00:00, 11.19s/it, accepor_recall=0.858, donor_recall=0.847, loss\n"
     ]
    },
    {
     "name": "stdout",
     "output_type": "stream",
     "text": [
      "epoch: 4/10, train loss = 0.000261\n"
     ]
    },
    {
     "name": "stderr",
     "output_type": "stream",
     "text": [
      "Epoch (val) 4/10: 100%|█| 23/23 [06:18<00:00, 16.44s/it, accepor_recall=0.846, donor_recall=0.866, loss=0.0\n"
     ]
    },
    {
     "name": "stdout",
     "output_type": "stream",
     "text": [
      "\n",
      "\u001b[1mAcceptor:\u001b[0m\n",
      "0.9678\t0.8988\t0.9782\t0.9876\t0.9346\t0.9258000254631042\t0.2930000126361847\t0.007799999788403511\t0.0017999999690800905\t21432\n",
      "\n",
      "\u001b[1mDonor:\u001b[0m\n",
      "0.9714\t0.896\t0.9806\t0.9909\t0.9362\t0.9311000108718872\t0.34769999980926514\t0.011300000362098217\t0.002099999925121665\t21432\n",
      "epoch: 4/10, val loss = 0.000244\n"
     ]
    },
    {
     "name": "stderr",
     "output_type": "stream",
     "text": [
      "Epoch (train) 5/10: 100%|█| 202/202 [37:34<00:00, 11.16s/it, accepor_recall=0.853, donor_recall=0.844, loss\n"
     ]
    },
    {
     "name": "stdout",
     "output_type": "stream",
     "text": [
      "epoch: 5/10, train loss = 0.000259\n"
     ]
    },
    {
     "name": "stderr",
     "output_type": "stream",
     "text": [
      "Epoch (val) 5/10: 100%|█| 23/23 [06:18<00:00, 16.46s/it, accepor_recall=0.872, donor_recall=0.888, loss=0.0\n"
     ]
    },
    {
     "name": "stdout",
     "output_type": "stream",
     "text": [
      "\n",
      "\u001b[1mAcceptor:\u001b[0m\n",
      "0.9729\t0.9056\t0.9802\t0.9879\t0.9404\t0.9422000050544739\t0.43459999561309814\t0.015300000086426735\t0.003100000089034438\t21432\n",
      "\n",
      "\u001b[1mDonor:\u001b[0m\n",
      "0.9681\t0.9065\t0.9836\t0.9915\t0.9391\t0.9254000186920166\t0.43459999561309814\t0.01850000023841858\t0.0031999999191612005\t21432\n",
      "epoch: 5/10, val loss = 0.000227\n"
     ]
    },
    {
     "name": "stderr",
     "output_type": "stream",
     "text": [
      "Epoch (train) 6/10: 100%|█| 202/202 [37:37<00:00, 11.18s/it, accepor_recall=0.872, donor_recall=0.868, loss\n"
     ]
    },
    {
     "name": "stdout",
     "output_type": "stream",
     "text": [
      "epoch: 6/10, train loss = 0.000224\n"
     ]
    },
    {
     "name": "stderr",
     "output_type": "stream",
     "text": [
      "Epoch (val) 6/10: 100%|█| 23/23 [06:27<00:00, 16.84s/it, accepor_recall=0.9, donor_recall=0.91, loss=0.0003\n"
     ]
    },
    {
     "name": "stdout",
     "output_type": "stream",
     "text": [
      "\n",
      "\u001b[1mAcceptor:\u001b[0m\n",
      "0.9699\t0.9118\t0.9813\t0.9894\t0.94\t0.9567000269889832\t0.5407999753952026\t0.01940000057220459\t0.0035000001080334187\t21432\n",
      "\n",
      "\u001b[1mDonor:\u001b[0m\n",
      "0.9686\t0.9032\t0.9813\t0.9917\t0.9384\t0.9629999995231628\t0.5877000093460083\t0.02969999983906746\t0.005400000140070915\t21432\n",
      "epoch: 6/10, val loss = 0.000231\n"
     ]
    },
    {
     "name": "stderr",
     "output_type": "stream",
     "text": [
      "Epoch (train) 7/10: 100%|█| 202/202 [37:36<00:00, 11.17s/it, accepor_recall=0.879, donor_recall=0.873, loss\n"
     ]
    },
    {
     "name": "stdout",
     "output_type": "stream",
     "text": [
      "epoch: 7/10, train loss = 0.000216\n"
     ]
    },
    {
     "name": "stderr",
     "output_type": "stream",
     "text": [
      "Epoch (val) 7/10: 100%|█| 23/23 [06:38<00:00, 17.34s/it, accepor_recall=0.913, donor_recall=0.922, loss=0.0\n"
     ]
    },
    {
     "name": "stdout",
     "output_type": "stream",
     "text": [
      "\n",
      "\u001b[1mAcceptor:\u001b[0m\n",
      "0.9727\t0.9108\t0.9816\t0.9896\t0.9424\t0.9771999716758728\t0.6051999926567078\t0.01810000091791153\t0.002400000113993883\t21432\n",
      "\n",
      "\u001b[1mDonor:\u001b[0m\n",
      "0.9711\t0.9104\t0.9843\t0.9916\t0.9445\t0.9830999970436096\t0.6215999722480774\t0.018400000408291817\t0.0026000000070780516\t21432\n",
      "epoch: 7/10, val loss = 0.000225\n"
     ]
    },
    {
     "name": "stderr",
     "output_type": "stream",
     "text": [
      "Epoch (train) 8/10: 100%|█| 202/202 [37:21<00:00, 11.10s/it, accepor_recall=0.898, donor_recall=0.895, loss\n"
     ]
    },
    {
     "name": "stdout",
     "output_type": "stream",
     "text": [
      "epoch: 8/10, train loss = 0.000186\n"
     ]
    },
    {
     "name": "stderr",
     "output_type": "stream",
     "text": [
      "Epoch (val) 8/10: 100%|█| 23/23 [06:15<00:00, 16.33s/it, accepor_recall=0.895, donor_recall=0.892, loss=0.0\n"
     ]
    },
    {
     "name": "stdout",
     "output_type": "stream",
     "text": [
      "\n",
      "\u001b[1mAcceptor:\u001b[0m\n",
      "0.9722\t0.9177\t0.9836\t0.9908\t0.9461\t0.958299994468689\t0.4399000108242035\t0.0071000000461936\t0.0012000000569969416\t21432\n",
      "\n",
      "\u001b[1mDonor:\u001b[0m\n",
      "0.9687\t0.9106\t0.9844\t0.9923\t0.943\t0.9437999725341797\t0.4194999933242798\t0.008500000461935997\t0.0013000000035390258\t21432\n",
      "epoch: 8/10, val loss = 0.000209\n"
     ]
    },
    {
     "name": "stderr",
     "output_type": "stream",
     "text": [
      "Epoch (train) 9/10: 100%|█| 202/202 [37:46<00:00, 11.22s/it, accepor_recall=0.908, donor_recall=0.904, loss\n"
     ]
    },
    {
     "name": "stdout",
     "output_type": "stream",
     "text": [
      "epoch: 9/10, train loss = 0.000170\n"
     ]
    },
    {
     "name": "stderr",
     "output_type": "stream",
     "text": [
      "Epoch (val) 9/10: 100%|█| 23/23 [06:01<00:00, 15.70s/it, accepor_recall=0.911, donor_recall=0.912, loss=0.0\n"
     ]
    },
    {
     "name": "stdout",
     "output_type": "stream",
     "text": [
      "\n",
      "\u001b[1mAcceptor:\u001b[0m\n",
      "0.971\t0.9154\t0.9832\t0.991\t0.9453\t0.9625999927520752\t0.5770000219345093\t0.010499999858438969\t0.0017000000225380063\t21432\n",
      "\n",
      "\u001b[1mDonor:\u001b[0m\n",
      "0.9672\t0.9149\t0.9852\t0.9924\t0.9446\t0.9642000198364258\t0.54830002784729\t0.010700000450015068\t0.0015999999595806003\t21432\n",
      "epoch: 9/10, val loss = 0.000208\n"
     ]
    },
    {
     "name": "stderr",
     "output_type": "stream",
     "text": [
      "Epoch (train) 10/10: 100%|█| 202/202 [37:55<00:00, 11.27s/it, accepor_recall=0.922, donor_recall=0.914, los\n"
     ]
    },
    {
     "name": "stdout",
     "output_type": "stream",
     "text": [
      "epoch: 10/10, train loss = 0.000159\n"
     ]
    },
    {
     "name": "stderr",
     "output_type": "stream",
     "text": [
      "Epoch (val) 10/10: 100%|█| 23/23 [06:05<00:00, 15.87s/it, accepor_recall=0.914, donor_recall=0.914, loss=0.\n"
     ]
    },
    {
     "name": "stdout",
     "output_type": "stream",
     "text": [
      "\n",
      "\u001b[1mAcceptor:\u001b[0m\n",
      "0.9702\t0.917\t0.984\t0.9911\t0.9452\t0.9671000242233276\t0.5940999984741211\t0.009399999864399433\t0.001500000013038516\t21432\n",
      "\n",
      "\u001b[1mDonor:\u001b[0m\n",
      "0.968\t0.9157\t0.9863\t0.9926\t0.946\t0.9679999947547913\t0.5644000172615051\t0.010400000028312206\t0.001500000013038516\t21432\n",
      "epoch: 10/10, val loss = 0.000206\n"
     ]
    },
    {
     "data": {
      "image/png": "[encoded data removed]",
      "text/plain": [
       "<Figure size 432x288 with 1 Axes>"
      ]
     },
     "metadata": {
      "needs_background": "light"
     },
     "output_type": "display_data"
    },
    {
     "name": "stderr",
     "output_type": "stream",
     "text": [
      "Epoch (train) 1/10: 100%|█| 202/202 [37:38<00:00, 11.18s/it, accepor_recall=0.781, donor_recall=0.781, loss\n"
     ]
    },
    {
     "name": "stdout",
     "output_type": "stream",
     "text": [
      "epoch: 1/10, train loss = 0.007075\n"
     ]
    },
    {
     "name": "stderr",
     "output_type": "stream",
     "text": [
      "Epoch (val) 1/10: 100%|█| 23/23 [06:16<00:00, 16.35s/it, accepor_recall=0.783, donor_recall=0.798, loss=0.0\n"
     ]
    },
    {
     "name": "stdout",
     "output_type": "stream",
     "text": [
      "\n",
      "\u001b[1mAcceptor:\u001b[0m\n",
      "0.9677\t0.8693\t0.9698\t0.9848\t0.9177\t0.8962000012397766\t0.28049999475479126\t0.020999999716877937\t0.00419999985024333\t21432\n",
      "\n",
      "\u001b[1mDonor:\u001b[0m\n",
      "0.9672\t0.871\t0.9727\t0.9874\t0.92\t0.8924999833106995\t0.2849000096321106\t0.02019999921321869\t0.003800000064074993\t21432\n",
      "epoch: 1/10, val loss = 0.000297\n"
     ]
    },
    {
     "name": "stderr",
     "output_type": "stream",
     "text": [
      "Epoch (train) 2/10: 100%|█| 202/202 [37:54<00:00, 11.26s/it, accepor_recall=0.808, donor_recall=0.808, loss\n"
     ]
    },
    {
     "name": "stdout",
     "output_type": "stream",
     "text": [
      "epoch: 2/10, train loss = 0.000314\n"
     ]
    },
    {
     "name": "stderr",
     "output_type": "stream",
     "text": [
      "Epoch (val) 2/10: 100%|█| 23/23 [06:11<00:00, 16.16s/it, accepor_recall=0.852, donor_recall=0.845, loss=0.0\n"
     ]
    },
    {
     "name": "stdout",
     "output_type": "stream",
     "text": [
      "\n",
      "\u001b[1mAcceptor:\u001b[0m\n",
      "0.9653\t0.8848\t0.973\t0.9858\t0.9234\t0.9215999841690063\t0.47269999980926514\t0.03779999911785126\t0.007799999788403511\t21432\n",
      "\n",
      "\u001b[1mDonor:\u001b[0m\n",
      "0.9648\t0.8859\t0.9787\t0.9907\t0.9288\t0.9265000224113464\t0.3869999945163727\t0.026000000536441803\t0.0052999998442828655\t21432\n",
      "epoch: 2/10, val loss = 0.000270\n"
     ]
    },
    {
     "name": "stderr",
     "output_type": "stream",
     "text": [
      "Epoch (train) 3/10: 100%|█| 202/202 [37:50<00:00, 11.24s/it, accepor_recall=0.841, donor_recall=0.834, loss\n"
     ]
    },
    {
     "name": "stdout",
     "output_type": "stream",
     "text": [
      "epoch: 3/10, train loss = 0.000308\n"
     ]
    },
    {
     "name": "stderr",
     "output_type": "stream",
     "text": [
      "Epoch (val) 3/10: 100%|█| 23/23 [06:05<00:00, 15.90s/it, accepor_recall=0.864, donor_recall=0.867, loss=0.0\n"
     ]
    },
    {
     "name": "stdout",
     "output_type": "stream",
     "text": [
      "\n",
      "\u001b[1mAcceptor:\u001b[0m\n",
      "0.9679\t0.9006\t0.9784\t0.9874\t0.9344\t0.9585999846458435\t0.367000013589859\t0.01119999960064888\t0.0020000000949949026\t21432\n",
      "\n",
      "\u001b[1mDonor:\u001b[0m\n",
      "0.968\t0.8988\t0.9786\t0.9897\t0.9333\t0.9462000131607056\t0.35760000348091125\t0.0142000000923872\t0.002400000113993883\t21432\n",
      "epoch: 3/10, val loss = 0.000243\n"
     ]
    },
    {
     "name": "stderr",
     "output_type": "stream",
     "text": [
      "Epoch (train) 4/10: 100%|█| 202/202 [37:33<00:00, 11.16s/it, accepor_recall=0.851, donor_recall=0.849, loss\n"
     ]
    },
    {
     "name": "stdout",
     "output_type": "stream",
     "text": [
      "epoch: 4/10, train loss = 0.000251\n"
     ]
    },
    {
     "name": "stderr",
     "output_type": "stream",
     "text": [
      "Epoch (val) 4/10: 100%|█| 23/23 [05:55<00:00, 15.44s/it, accepor_recall=0.866, donor_recall=0.876, loss=0.0\n"
     ]
    },
    {
     "name": "stdout",
     "output_type": "stream",
     "text": [
      "\n",
      "\u001b[1mAcceptor:\u001b[0m\n",
      "0.9686\t0.9067\t0.9807\t0.9888\t0.9389\t0.9408000111579895\t0.41999998688697815\t0.012299999594688416\t0.002099999925121665\t21432\n",
      "\n",
      "\u001b[1mDonor:\u001b[0m\n",
      "0.9674\t0.9015\t0.9807\t0.9905\t0.9359\t0.9487000107765198\t0.42719998955726624\t0.014499999582767487\t0.002300000051036477\t21432\n",
      "epoch: 4/10, val loss = 0.000228\n"
     ]
    },
    {
     "name": "stderr",
     "output_type": "stream",
     "text": [
      "Epoch (train) 5/10: 100%|█| 202/202 [37:44<00:00, 11.21s/it, accepor_recall=0.867, donor_recall=0.865, loss\n"
     ]
    },
    {
     "name": "stdout",
     "output_type": "stream",
     "text": [
      "epoch: 5/10, train loss = 0.000235\n"
     ]
    },
    {
     "name": "stderr",
     "output_type": "stream",
     "text": [
      "Epoch (val) 5/10: 100%|█| 23/23 [06:31<00:00, 17.03s/it, accepor_recall=0.901, donor_recall=0.904, loss=0.0\n"
     ]
    },
    {
     "name": "stdout",
     "output_type": "stream",
     "text": [
      "\n",
      "\u001b[1mAcceptor:\u001b[0m\n",
      "0.9663\t0.9037\t0.9808\t0.9895\t0.9384\t0.9757999777793884\t0.5605999827384949\t0.019300000742077827\t0.002899999963119626\t21432\n",
      "\n",
      "\u001b[1mDonor:\u001b[0m\n",
      "0.9664\t0.8999\t0.9811\t0.9904\t0.9343\t0.9772999882698059\t0.5547000169754028\t0.020999999716877937\t0.0031999999191612005\t21432\n",
      "epoch: 5/10, val loss = 0.000240\n"
     ]
    },
    {
     "name": "stderr",
     "output_type": "stream",
     "text": [
      "Epoch (train) 6/10: 100%|█| 202/202 [37:30<00:00, 11.14s/it, accepor_recall=0.878, donor_recall=0.862, loss\n"
     ]
    },
    {
     "name": "stdout",
     "output_type": "stream",
     "text": [
      "epoch: 6/10, train loss = 0.000221\n"
     ]
    },
    {
     "name": "stderr",
     "output_type": "stream",
     "text": [
      "Epoch (val) 6/10: 100%|█| 23/23 [06:32<00:00, 17.06s/it, accepor_recall=0.851, donor_recall=0.875, loss=0.0\n"
     ]
    },
    {
     "name": "stdout",
     "output_type": "stream",
     "text": [
      "\n",
      "\u001b[1mAcceptor:\u001b[0m\n",
      "0.9733\t0.9057\t0.9772\t0.9876\t0.9377\t0.9448000192642212\t0.28929999470710754\t0.00559999980032444\t0.0010000000474974513\t21432\n",
      "\n",
      "\u001b[1mDonor:\u001b[0m\n",
      "0.9697\t0.903\t0.9796\t0.9893\t0.9378\t0.9429000020027161\t0.3944000005722046\t0.011599999852478504\t0.0017999999690800905\t21432\n",
      "epoch: 6/10, val loss = 0.000236\n"
     ]
    },
    {
     "name": "stderr",
     "output_type": "stream",
     "text": [
      "Epoch (train) 7/10: 100%|█| 202/202 [37:40<00:00, 11.19s/it, accepor_recall=0.879, donor_recall=0.863, loss\n"
     ]
    },
    {
     "name": "stdout",
     "output_type": "stream",
     "text": [
      "epoch: 7/10, train loss = 0.000213\n"
     ]
    },
    {
     "name": "stderr",
     "output_type": "stream",
     "text": [
      "Epoch (val) 7/10: 100%|█| 23/23 [06:30<00:00, 16.99s/it, accepor_recall=0.913, donor_recall=0.918, loss=0.0\n"
     ]
    },
    {
     "name": "stdout",
     "output_type": "stream",
     "text": [
      "\n",
      "\u001b[1mAcceptor:\u001b[0m\n",
      "0.97\t0.9116\t0.9814\t0.9902\t0.9422\t0.9714999794960022\t0.6054999828338623\t0.019899999722838402\t0.0035000001080334187\t21432\n",
      "\n",
      "\u001b[1mDonor:\u001b[0m\n",
      "0.9674\t0.9098\t0.984\t0.9918\t0.9421\t0.9685999751091003\t0.6110000014305115\t0.02630000002682209\t0.004600000102072954\t21432\n",
      "epoch: 7/10, val loss = 0.000226\n"
     ]
    },
    {
     "name": "stderr",
     "output_type": "stream",
     "text": [
      "Epoch (train) 8/10: 100%|█| 202/202 [37:43<00:00, 11.20s/it, accepor_recall=0.901, donor_recall=0.888, loss\n"
     ]
    },
    {
     "name": "stdout",
     "output_type": "stream",
     "text": [
      "epoch: 8/10, train loss = 0.000182\n"
     ]
    },
    {
     "name": "stderr",
     "output_type": "stream",
     "text": [
      "Epoch (val) 8/10: 100%|█| 23/23 [06:50<00:00, 17.87s/it, accepor_recall=0.919, donor_recall=0.922, loss=0.0\n"
     ]
    },
    {
     "name": "stdout",
     "output_type": "stream",
     "text": [
      "\n",
      "\u001b[1mAcceptor:\u001b[0m\n",
      "0.9718\t0.9165\t0.9832\t0.9904\t0.9451\t0.9790999889373779\t0.6238999962806702\t0.009999999776482582\t0.0015999999595806003\t21432\n",
      "\n",
      "\u001b[1mDonor:\u001b[0m\n",
      "0.9685\t0.9135\t0.9858\t0.9924\t0.9445\t0.9757999777793884\t0.5960999727249146\t0.012799999676644802\t0.0017999999690800905\t21432\n",
      "epoch: 8/10, val loss = 0.000213\n"
     ]
    },
    {
     "name": "stderr",
     "output_type": "stream",
     "text": [
      "Epoch (train) 9/10: 100%|█| 202/202 [37:28<00:00, 11.13s/it, accepor_recall=0.913, donor_recall=0.897, loss\n"
     ]
    },
    {
     "name": "stdout",
     "output_type": "stream",
     "text": [
      "epoch: 9/10, train loss = 0.000167\n"
     ]
    },
    {
     "name": "stderr",
     "output_type": "stream",
     "text": [
      "Epoch (val) 9/10: 100%|█| 23/23 [06:33<00:00, 17.10s/it, accepor_recall=0.92, donor_recall=0.922, loss=0.00\n"
     ]
    },
    {
     "name": "stdout",
     "output_type": "stream",
     "text": [
      "\n",
      "\u001b[1mAcceptor:\u001b[0m\n",
      "0.9724\t0.9152\t0.9846\t0.9916\t0.9464\t0.9664000272750854\t0.5842000246047974\t0.012500000186264515\t0.0020000000949949026\t21432\n",
      "\n",
      "\u001b[1mDonor:\u001b[0m\n",
      "0.9698\t0.9145\t0.9858\t0.9929\t0.9462\t0.953000009059906\t0.5655999779701233\t0.01720000058412552\t0.003000000026077032\t21432\n",
      "epoch: 9/10, val loss = 0.000207\n"
     ]
    },
    {
     "name": "stderr",
     "output_type": "stream",
     "text": [
      "Epoch (train) 10/10: 100%|█| 202/202 [37:39<00:00, 11.19s/it, accepor_recall=0.914, donor_recall=0.902, los\n"
     ]
    },
    {
     "name": "stdout",
     "output_type": "stream",
     "text": [
      "epoch: 10/10, train loss = 0.000156\n"
     ]
    },
    {
     "name": "stderr",
     "output_type": "stream",
     "text": [
      "Epoch (val) 10/10: 100%|█| 23/23 [06:34<00:00, 17.13s/it, accepor_recall=0.909, donor_recall=0.914, loss=0.\n"
     ]
    },
    {
     "name": "stdout",
     "output_type": "stream",
     "text": [
      "\n",
      "\u001b[1mAcceptor:\u001b[0m\n",
      "0.9726\t0.9153\t0.9846\t0.991\t0.946\t0.9599000215530396\t0.5521000027656555\t0.008799999952316284\t0.00139999995008111\t21432\n",
      "\n",
      "\u001b[1mDonor:\u001b[0m\n",
      "0.9704\t0.9144\t0.9848\t0.9927\t0.9456\t0.9480000138282776\t0.5432000160217285\t0.011500000022351742\t0.0017000000225380063\t21432\n",
      "epoch: 10/10, val loss = 0.000205\n"
     ]
    },
    {
     "data": {
      "image/png": "[encoded data removed]",
      "text/plain": [
       "<Figure size 432x288 with 1 Axes>"
      ]
     },
     "metadata": {
      "needs_background": "light"
     },
     "output_type": "display_data"
    },
    {
     "name": "stderr",
     "output_type": "stream",
     "text": [
      "Epoch (train) 1/10: 100%|█| 202/202 [37:35<00:00, 11.17s/it, accepor_recall=0.78, donor_recall=0.781, loss=\n"
     ]
    },
    {
     "name": "stdout",
     "output_type": "stream",
     "text": [
      "epoch: 1/10, train loss = 0.007802\n"
     ]
    },
    {
     "name": "stderr",
     "output_type": "stream",
     "text": [
      "Epoch (val) 1/10: 100%|█| 23/23 [06:25<00:00, 16.75s/it, accepor_recall=0.716, donor_recall=0.696, loss=0.0\n"
     ]
    },
    {
     "name": "stdout",
     "output_type": "stream",
     "text": [
      "\n",
      "\u001b[1mAcceptor:\u001b[0m\n",
      "0.9646\t0.8652\t0.9631\t0.9812\t0.9091\t0.7991999983787537\t0.17569999396800995\t0.013199999928474426\t0.0027000000700354576\t21432\n",
      "\n",
      "\u001b[1mDonor:\u001b[0m\n",
      "0.9634\t0.8662\t0.9695\t0.9864\t0.9144\t0.8079000115394592\t0.14219999313354492\t0.008999999612569809\t0.0019000000320374966\t21432\n",
      "epoch: 1/10, val loss = 0.000355\n"
     ]
    },
    {
     "name": "stderr",
     "output_type": "stream",
     "text": [
      "Epoch (train) 2/10: 100%|█| 202/202 [37:38<00:00, 11.18s/it, accepor_recall=0.809, donor_recall=0.805, loss\n"
     ]
    },
    {
     "name": "stdout",
     "output_type": "stream",
     "text": [
      "epoch: 2/10, train loss = 0.000448\n"
     ]
    },
    {
     "name": "stderr",
     "output_type": "stream",
     "text": [
      "Epoch (val) 2/10: 100%|█| 23/23 [06:08<00:00, 16.04s/it, accepor_recall=0.83, donor_recall=0.831, loss=0.00\n"
     ]
    },
    {
     "name": "stdout",
     "output_type": "stream",
     "text": [
      "\n",
      "\u001b[1mAcceptor:\u001b[0m\n",
      "0.9665\t0.8795\t0.9693\t0.9867\t0.9201\t0.9233999848365784\t0.3481000065803528\t0.02250000089406967\t0.0044999998062849045\t21432\n",
      "\n",
      "\u001b[1mDonor:\u001b[0m\n",
      "0.9684\t0.8824\t0.9763\t0.989\t0.9253\t0.904699981212616\t0.3467999994754791\t0.023099999874830246\t0.00430000014603138\t21432\n",
      "epoch: 2/10, val loss = 0.000277\n"
     ]
    },
    {
     "name": "stderr",
     "output_type": "stream",
     "text": [
      "Epoch (train) 3/10: 100%|█| 202/202 [37:17<00:00, 11.08s/it, accepor_recall=0.839, donor_recall=0.832, loss\n"
     ]
    },
    {
     "name": "stdout",
     "output_type": "stream",
     "text": [
      "epoch: 3/10, train loss = 0.000286\n"
     ]
    },
    {
     "name": "stderr",
     "output_type": "stream",
     "text": [
      "Epoch (val) 3/10: 100%|█| 23/23 [06:24<00:00, 16.71s/it, accepor_recall=0.874, donor_recall=0.864, loss=0.0\n"
     ]
    },
    {
     "name": "stdout",
     "output_type": "stream",
     "text": [
      "\n",
      "\u001b[1mAcceptor:\u001b[0m\n",
      "0.9658\t0.8867\t0.9751\t0.9877\t0.9276\t0.9510999917984009\t0.4519999921321869\t0.026200000196695328\t0.004800000227987766\t21432\n",
      "\n",
      "\u001b[1mDonor:\u001b[0m\n",
      "0.9684\t0.8883\t0.9766\t0.9899\t0.929\t0.9241999983787537\t0.39899998903274536\t0.025699999183416367\t0.004900000058114529\t21432\n",
      "epoch: 3/10, val loss = 0.000260\n"
     ]
    },
    {
     "name": "stderr",
     "output_type": "stream",
     "text": [
      "Epoch (train) 4/10: 100%|█| 202/202 [37:48<00:00, 11.23s/it, accepor_recall=0.851, donor_recall=0.845, loss\n"
     ]
    },
    {
     "name": "stdout",
     "output_type": "stream",
     "text": [
      "epoch: 4/10, train loss = 0.000256\n"
     ]
    },
    {
     "name": "stderr",
     "output_type": "stream",
     "text": [
      "Epoch (val) 4/10: 100%|█| 23/23 [06:11<00:00, 16.13s/it, accepor_recall=0.903, donor_recall=0.901, loss=0.0\n"
     ]
    },
    {
     "name": "stdout",
     "output_type": "stream",
     "text": [
      "\n",
      "\u001b[1mAcceptor:\u001b[0m\n",
      "0.9657\t0.9026\t0.98\t0.9886\t0.9373\t0.9733999967575073\t0.5601999759674072\t0.02199999988079071\t0.003700000001117587\t21432\n",
      "\n",
      "\u001b[1mDonor:\u001b[0m\n",
      "0.9686\t0.9006\t0.9811\t0.9909\t0.9372\t0.9629999995231628\t0.541100025177002\t0.029600000008940697\t0.0052999998442828655\t21432\n",
      "epoch: 4/10, val loss = 0.000240\n"
     ]
    },
    {
     "name": "stderr",
     "output_type": "stream",
     "text": [
      "Epoch (train) 5/10: 100%|█| 202/202 [37:58<00:00, 11.28s/it, accepor_recall=0.865, donor_recall=0.862, loss\n"
     ]
    },
    {
     "name": "stdout",
     "output_type": "stream",
     "text": [
      "epoch: 5/10, train loss = 0.000240\n"
     ]
    },
    {
     "name": "stderr",
     "output_type": "stream",
     "text": [
      "Epoch (val) 5/10: 100%|█| 23/23 [06:03<00:00, 15.81s/it, accepor_recall=0.889, donor_recall=0.908, loss=0.0\n"
     ]
    },
    {
     "name": "stdout",
     "output_type": "stream",
     "text": [
      "\n",
      "\u001b[1mAcceptor:\u001b[0m\n",
      "0.9694\t0.9045\t0.9791\t0.9885\t0.938\t0.9574999809265137\t0.4740999937057495\t0.016599999740719795\t0.0024999999441206455\t21432\n",
      "\n",
      "\u001b[1mDonor:\u001b[0m\n",
      "0.9696\t0.9016\t0.9825\t0.9916\t0.939\t0.9664999842643738\t0.5317000150680542\t0.018300000578165054\t0.0024999999441206455\t21432\n",
      "epoch: 5/10, val loss = 0.000232\n"
     ]
    },
    {
     "name": "stderr",
     "output_type": "stream",
     "text": [
      "Epoch (train) 6/10: 100%|█| 202/202 [37:54<00:00, 11.26s/it, accepor_recall=0.864, donor_recall=0.86, loss=\n"
     ]
    },
    {
     "name": "stdout",
     "output_type": "stream",
     "text": [
      "epoch: 6/10, train loss = 0.000224\n"
     ]
    },
    {
     "name": "stderr",
     "output_type": "stream",
     "text": [
      "Epoch (val) 6/10: 100%|█| 23/23 [06:33<00:00, 17.09s/it, accepor_recall=0.888, donor_recall=0.887, loss=0.0\n"
     ]
    },
    {
     "name": "stdout",
     "output_type": "stream",
     "text": [
      "\n",
      "\u001b[1mAcceptor:\u001b[0m\n",
      "0.9704\t0.9045\t0.9818\t0.9902\t0.9395\t0.968500018119812\t0.4465000033378601\t0.013500000350177288\t0.002400000113993883\t21432\n",
      "\n",
      "\u001b[1mDonor:\u001b[0m\n",
      "0.9685\t0.9077\t0.9841\t0.9922\t0.9416\t0.9528999924659729\t0.41019999980926514\t0.012000000104308128\t0.0020000000949949026\t21432\n",
      "epoch: 6/10, val loss = 0.000221\n"
     ]
    },
    {
     "name": "stderr",
     "output_type": "stream",
     "text": [
      "Epoch (train) 7/10: 100%|█| 202/202 [37:48<00:00, 11.23s/it, accepor_recall=0.878, donor_recall=0.867, loss\n"
     ]
    },
    {
     "name": "stdout",
     "output_type": "stream",
     "text": [
      "epoch: 7/10, train loss = 0.000214\n"
     ]
    },
    {
     "name": "stderr",
     "output_type": "stream",
     "text": [
      "Epoch (val) 7/10: 100%|█| 23/23 [06:28<00:00, 16.88s/it, accepor_recall=0.876, donor_recall=0.886, loss=0.0\n"
     ]
    },
    {
     "name": "stdout",
     "output_type": "stream",
     "text": [
      "\n",
      "\u001b[1mAcceptor:\u001b[0m\n",
      "0.9709\t0.9085\t0.9801\t0.9892\t0.941\t0.9648000001907349\t0.4300999939441681\t0.010099999606609344\t0.0015999999595806003\t21432\n",
      "\n",
      "\u001b[1mDonor:\u001b[0m\n",
      "0.9696\t0.9019\t0.9811\t0.9905\t0.937\t0.9557999968528748\t0.47510001063346863\t0.016300000250339508\t0.0027000000700354576\t21432\n",
      "epoch: 7/10, val loss = 0.000229\n"
     ]
    },
    {
     "name": "stderr",
     "output_type": "stream",
     "text": [
      "Epoch (train) 8/10: 100%|█| 202/202 [37:47<00:00, 11.23s/it, accepor_recall=0.898, donor_recall=0.886, loss\n"
     ]
    },
    {
     "name": "stdout",
     "output_type": "stream",
     "text": [
      "epoch: 8/10, train loss = 0.000187\n"
     ]
    },
    {
     "name": "stderr",
     "output_type": "stream",
     "text": [
      "Epoch (val) 8/10: 100%|█| 23/23 [06:20<00:00, 16.55s/it, accepor_recall=0.918, donor_recall=0.914, loss=0.0\n"
     ]
    },
    {
     "name": "stdout",
     "output_type": "stream",
     "text": [
      "\n",
      "\u001b[1mAcceptor:\u001b[0m\n",
      "0.969\t0.9136\t0.9823\t0.9901\t0.9441\t0.9688000082969666\t0.6488999724388123\t0.021400000900030136\t0.0032999999821186066\t21432\n",
      "\n",
      "\u001b[1mDonor:\u001b[0m\n",
      "0.9682\t0.9101\t0.9845\t0.9917\t0.9423\t0.9465000033378601\t0.5770000219345093\t0.020400000736117363\t0.0034000000450760126\t21432\n",
      "epoch: 8/10, val loss = 0.000221\n"
     ]
    },
    {
     "name": "stderr",
     "output_type": "stream",
     "text": [
      "Epoch (train) 9/10: 100%|█| 202/202 [37:58<00:00, 11.28s/it, accepor_recall=0.905, donor_recall=0.896, loss\n"
     ]
    },
    {
     "name": "stdout",
     "output_type": "stream",
     "text": [
      "epoch: 9/10, train loss = 0.000169\n"
     ]
    },
    {
     "name": "stderr",
     "output_type": "stream",
     "text": [
      "Epoch (val) 9/10: 100%|█| 23/23 [06:17<00:00, 16.40s/it, accepor_recall=0.915, donor_recall=0.916, loss=0.0\n"
     ]
    },
    {
     "name": "stdout",
     "output_type": "stream",
     "text": [
      "\n",
      "\u001b[1mAcceptor:\u001b[0m\n",
      "0.9719\t0.9143\t0.9836\t0.9906\t0.9471\t0.9714000225067139\t0.597100019454956\t0.010400000028312206\t0.001500000013038516\t21432\n",
      "\n",
      "\u001b[1mDonor:\u001b[0m\n",
      "0.9694\t0.914\t0.9853\t0.9926\t0.9448\t0.9690999984741211\t0.5680000185966492\t0.013299999758601189\t0.0020000000949949026\t21432\n",
      "epoch: 9/10, val loss = 0.000211\n"
     ]
    },
    {
     "name": "stderr",
     "output_type": "stream",
     "text": [
      "Epoch (train) 10/10: 100%|█| 202/202 [37:31<00:00, 11.14s/it, accepor_recall=0.917, donor_recall=0.907, los\n"
     ]
    },
    {
     "name": "stdout",
     "output_type": "stream",
     "text": [
      "epoch: 10/10, train loss = 0.000159\n"
     ]
    },
    {
     "name": "stderr",
     "output_type": "stream",
     "text": [
      "Epoch (val) 10/10: 100%|█| 23/23 [06:22<00:00, 16.62s/it, accepor_recall=0.915, donor_recall=0.912, loss=0.\n"
     ]
    },
    {
     "name": "stdout",
     "output_type": "stream",
     "text": [
      "\n",
      "\u001b[1mAcceptor:\u001b[0m\n",
      "0.9692\t0.9161\t0.984\t0.9911\t0.9463\t0.9697999954223633\t0.6129999756813049\t0.008700000122189522\t0.00139999995008111\t21432\n",
      "\n",
      "\u001b[1mDonor:\u001b[0m\n",
      "0.9676\t0.9129\t0.9855\t0.9928\t0.9444\t0.961899995803833\t0.5741000175476074\t0.010700000450015068\t0.0017000000225380063\t21432\n",
      "epoch: 10/10, val loss = 0.000206\n"
     ]
    },
    {
     "data": {
      "image/png": "[encoded data removed]",
      "text/plain": [
       "<Figure size 432x288 with 1 Axes>"
      ]
     },
     "metadata": {
      "needs_background": "light"
     },
     "output_type": "display_data"
    }
   ],
   "source": [
    "device = torch.device(\"cuda\" if torch.cuda.is_available() else \"cpu\")\n",
    "epochs = 10\n",
    "hs = []\n",
    "#val_results_combined = []\n",
    "temp=1\n",
    "#for model_nr in range(5):\n",
    "for model_nr in range(5):\n",
    "    model_m = SpliceFormer(temp=1)\n",
    "    model_m.apply(keras_init)\n",
    "    model_m = model_m.to(device)\n",
    "    if torch.cuda.device_count() > 1:\n",
    "        #print(\"Let's use\", torch.cuda.device_count(), \"GPUs!\")\n",
    "        # dim = 0 [30, xxx] -> [10, ...], [10, ...], [10, ...] on 3 GPUs\n",
    "        model_m = nn.DataParallel(model_m)\n",
    "    \n",
    "    modelFileName = '../Results/PyTorch_Models/transformer_encoder_40k_intronshuffle_060422_{}'.format(model_nr)\n",
    "    #model_m.load_state_dict(torch.load('../Results/PyTorch_Models/SpliceAI_Ensembl_dgxtest_{}'.format(0)))\n",
    "    #loss = nn.CrossEntropyLoss(weight=torch.from_numpy(weights).float().to(device),ignore_index=-1,reduction='mean')\n",
    "    loss = categorical_crossentropy_2d().loss\n",
    "    #loss = nn.KLDivLoss()\n",
    "    #loss = \n",
    "    h = trainModel(model_m,modelFileName,loss,epochs,train_loader,val_loader,alpha=0.1,temp=temp)\n",
    "    hs.append(h)\n",
    "    #print(model_m.module.conv_final.bias)\n",
    "    #val_results_combined.append(val_results)\n",
    "    plt.plot(range(epochs),h['loss'],label='Train')\n",
    "    plt.plot(range(epochs),h['val_loss'],label='Validation')\n",
    "    plt.xlabel('Epoch')\n",
    "    plt.ylabel('Loss')\n",
    "    plt.legend()\n",
    "    plt.show()"
   ]
  },
  {
   "cell_type": "code",
   "execution_count": null,
   "metadata": {},
   "outputs": [],
   "source": [
    "data_dir = '/odinn/tmp/benediktj/Data/SplicePrediction-050422'\n",
    "setType = 'test'\n",
    "#with open('{}/sparse_sequence_data_{}.pickle'.format(data_dir,setType), 'rb') as handle:\n",
    "#    seqData = pickle.load(handle)\n",
    "    \n",
    "with open('{}/sparse_discrete_label_data_{}.pickle'.format(data_dir,setType), 'rb') as handle:\n",
    "    transcriptToLabel = pickle.load(handle)\n",
    "    \n",
    "    \n",
    "CHROM_TEST = ['chr1', 'chr3', 'chr5', 'chr7', 'chr9']\n",
    "\n",
    "annotation = pd.read_csv(data_dir+'/annotation_ensembl_v87_{}.txt'.format(setType),sep='\\t',header=None)[[0,1,2,3,4]]\n",
    "annotation.columns = ['name','chrom','strand','tx_start','tx_end']\n",
    "annotation['transcript'] = annotation['name'].apply(lambda x: x.split('---')[-2].split('.')[0]).values\n",
    "annotation['gene'] = annotation['name'].apply(lambda x: x.split('---')[-3].split('.')[0]).values\n",
    "#annotation['support'] = annotation['transcript'].apply(lambda x:transcriptToSupport[x])\n",
    "\n",
    "chrom_paths = glob(data_dir+'/sparse_sequence_data/*')\n",
    "chromToPath = {}\n",
    "for path in chrom_paths:\n",
    "    chromToPath[path.split('/')[-1].split('_')[0]] = path\n",
    "    \n",
    "seqData = {}\n",
    "for chrom in CHROM_TEST:\n",
    "    seqData[chrom] = load_npz(data_dir+'/sparse_sequence_data/{}_{}.npz'.format(chrom,setType)).tocsr()\n",
    "\n",
    "\n"
   ]
  },
  {
   "cell_type": "code",
   "execution_count": null,
   "metadata": {
    "scrolled": true
   },
   "outputs": [],
   "source": [
    "temp = 1\n",
    "n_models = 5\n",
    "device = torch.device(\"cuda\" if torch.cuda.is_available() else \"cpu\")\n",
    "model_m = SpliceFormer(temp=temp)\n",
    "model_m.apply(keras_init)\n",
    "model_m = model_m.to(device)\n",
    "\n",
    "if torch.cuda.device_count() > 1:\n",
    "    model_m = nn.DataParallel(model_m)\n",
    "\n",
    "output_class_labels = ['Null', 'Acceptor', 'Donor']\n",
    "\n",
    "#for output_class in [1,2]:\n",
    "models = [copy.deepcopy(model_m) for i in range(n_models)]\n",
    "[model.load_state_dict(torch.load('../Results/PyTorch_Models/transformer_encoder_40k_intronshuffle_060422_{}'.format(i))) for i,model in enumerate(models)]\n",
    "#nr = [0,2,3]\n",
    "#[model.load_state_dict(torch.load('../Results/PyTorch_Models/transformer_encoder_40k_201221_{}'.format(nr[i]))) for i,model in enumerate(models)]\n",
    "#chunkSize = num_idx/10\n",
    "\n",
    "\n",
    "Y_true_acceptor, Y_pred_acceptor = [],[]\n",
    "Y_true_donor, Y_pred_donor = [],[]\n",
    "test_dataset = spliceDataset(annotation)\n",
    "test_loader = torch.utils.data.DataLoader(test_dataset, batch_size=100, shuffle=False, num_workers=0,collate_fn=collate_fn, pin_memory=True)\n",
    "\n",
    "\n",
    "for (batch_chunks,target_chunks) in tqdm(test_loader):\n",
    "    batch_chunks = torch.transpose(batch_chunks.to(device),1,2)\n",
    "    target_chunks = torch.transpose(torch.squeeze(target_chunks.to(device),0),1,2)\n",
    "    batch_chunks = torch.split(batch_chunks, BATCH_SIZE, dim=0)\n",
    "    target_chunks = torch.split(target_chunks, BATCH_SIZE, dim=0)\n",
    "    targets_list = []\n",
    "    outputs_list = []\n",
    "    for j in range(len(batch_chunks)):\n",
    "        batch_features = batch_chunks[j]\n",
    "        targets = target_chunks[j]\n",
    "        outputs = ([models[i](batch_features)[1].detach() for i in range(n_models)])\n",
    "        outputs = (outputs[0]+outputs[1]+outputs[2]+outputs[3]+outputs[4])/n_models\n",
    "        #outputs = (outputs[0]+outputs[1]+outputs[2])/n_models\n",
    "        targets_list.extend(targets.unsqueeze(0))\n",
    "        outputs_list.extend(outputs.unsqueeze(0))\n",
    "\n",
    "    targets = torch.transpose(torch.vstack(targets_list),1,2).cpu().numpy()\n",
    "    outputs = torch.transpose(torch.vstack(outputs_list),1,2).cpu().numpy()\n",
    "\n",
    "    is_expr = (targets.sum(axis=(1,2)) >= 1)\n",
    "    Y_true_acceptor.extend(targets[is_expr, :, 1].flatten())\n",
    "    Y_true_donor.extend(targets[is_expr, :, 2].flatten())\n",
    "    Y_pred_acceptor.extend(outputs[is_expr, :, 1].flatten())\n",
    "    Y_pred_donor.extend(outputs[is_expr, :, 2].flatten())\n",
    "\n"
   ]
  },
  {
   "cell_type": "code",
   "execution_count": null,
   "metadata": {},
   "outputs": [],
   "source": [
    "Y_true_acceptor, Y_pred_acceptor,Y_true_donor, Y_pred_donor = np.array(Y_true_acceptor), np.array(Y_pred_acceptor),np.array(Y_true_donor), np.array(Y_pred_donor)\n",
    "print(\"\\n\\033[1m{}:\\033[0m\".format('Acceptor'))\n",
    "acceptor_val_results = print_topl_statistics(Y_true_acceptor, Y_pred_acceptor)\n",
    "print(\"\\n\\033[1m{}:\\033[0m\".format('Donor'))\n",
    "donor_val_results =print_topl_statistics(Y_true_donor, Y_pred_donor)"
   ]
  }
 ],
 "metadata": {
  "kernelspec": {
   "display_name": "Python 3 (ipykernel)",
   "language": "python",
   "name": "python3"
  },
  "language_info": {
   "codemirror_mode": {
    "name": "ipython",
    "version": 3
   },
   "file_extension": ".py",
   "mimetype": "text/x-python",
   "name": "python",
   "nbconvert_exporter": "python",
   "pygments_lexer": "ipython3",
   "version": "3.8.12"
  }
 },
 "nbformat": 4,
 "nbformat_minor": 4
}
