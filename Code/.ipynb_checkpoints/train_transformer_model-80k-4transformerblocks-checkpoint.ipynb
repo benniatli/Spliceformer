{
 "cells": [
  {
   "cell_type": "code",
   "execution_count": 2,
   "metadata": {},
   "outputs": [],
   "source": [
    "import numpy as np\n",
    "import sys\n",
    "import time\n",
    "import h5py\n",
    "from tqdm import tqdm\n",
    "\n",
    "import numpy as np\n",
    "import re\n",
    "from math import ceil\n",
    "from sklearn.metrics import average_precision_score\n",
    "from torch.utils.data import Dataset\n",
    "import torch\n",
    "import torch.nn as nn\n",
    "import pandas as pd\n",
    "import matplotlib.pyplot as plt\n",
    "import pickle\n",
    "#import pickle5 as pickle\n",
    "\n",
    "from sklearn.model_selection import train_test_split\n",
    "\n",
    "from scipy.sparse import load_npz\n",
    "from glob import glob\n",
    "\n",
    "from transformers import get_constant_schedule_with_warmup\n",
    "from sklearn.metrics import precision_score,recall_score,accuracy_score\n",
    "import copy\n",
    "\n",
    "from src.train import trainModel\n",
    "from src.dataloader import getData,spliceDataset,h5pyDataset,collate_fn\n",
    "from src.weight_init import keras_init\n",
    "from src.losses import categorical_crossentropy_2d\n",
    "from src.models import SpliceFormer\n",
    "from src.evaluation_metrics import print_topl_statistics\n",
    "#import tensorflow as tf"
   ]
  },
  {
   "cell_type": "code",
   "execution_count": 3,
   "metadata": {},
   "outputs": [
    {
     "name": "stdout",
     "output_type": "stream",
     "text": [
      "Tue May 24 14:17:07 2022       \n",
      "+-----------------------------------------------------------------------------+\n",
      "| NVIDIA-SMI 450.142.00   Driver Version: 450.142.00   CUDA Version: 11.4     |\n",
      "|-------------------------------+----------------------+----------------------+\n",
      "| GPU  Name        Persistence-M| Bus-Id        Disp.A | Volatile Uncorr. ECC |\n",
      "| Fan  Temp  Perf  Pwr:Usage/Cap|         Memory-Usage | GPU-Util  Compute M. |\n",
      "|                               |                      |               MIG M. |\n",
      "|===============================+======================+======================|\n",
      "|   0  A100-SXM4-40GB      On   | 00000000:07:00.0 Off |                    0 |\n",
      "| N/A   29C    P0    63W / 400W |      0MiB / 40537MiB |      0%      Default |\n",
      "|                               |                      |             Disabled |\n",
      "+-------------------------------+----------------------+----------------------+\n",
      "|   1  A100-SXM4-40GB      On   | 00000000:0F:00.0 Off |                    0 |\n",
      "| N/A   28C    P0    54W / 400W |      0MiB / 40537MiB |      0%      Default |\n",
      "|                               |                      |             Disabled |\n",
      "+-------------------------------+----------------------+----------------------+\n",
      "|   2  A100-SXM4-40GB      On   | 00000000:47:00.0 Off |                    0 |\n",
      "| N/A   29C    P0    55W / 400W |      0MiB / 40537MiB |      0%      Default |\n",
      "|                               |                      |             Disabled |\n",
      "+-------------------------------+----------------------+----------------------+\n",
      "|   3  A100-SXM4-40GB      On   | 00000000:4E:00.0 Off |                    0 |\n",
      "| N/A   29C    P0    52W / 400W |      0MiB / 40537MiB |      0%      Default |\n",
      "|                               |                      |             Disabled |\n",
      "+-------------------------------+----------------------+----------------------+\n",
      "|   4  A100-SXM4-40GB      On   | 00000000:87:00.0 Off |                    0 |\n",
      "| N/A   34C    P0    54W / 400W |      0MiB / 40537MiB |      0%      Default |\n",
      "|                               |                      |             Disabled |\n",
      "+-------------------------------+----------------------+----------------------+\n",
      "|   5  A100-SXM4-40GB      On   | 00000000:90:00.0 Off |                    0 |\n",
      "| N/A   34C    P0    55W / 400W |      0MiB / 40537MiB |      0%      Default |\n",
      "|                               |                      |             Disabled |\n",
      "+-------------------------------+----------------------+----------------------+\n",
      "|   6  A100-SXM4-40GB      On   | 00000000:B7:00.0 Off |                    0 |\n",
      "| N/A   35C    P0    55W / 400W |      0MiB / 40537MiB |      0%      Default |\n",
      "|                               |                      |             Disabled |\n",
      "+-------------------------------+----------------------+----------------------+\n",
      "|   7  A100-SXM4-40GB      On   | 00000000:BD:00.0 Off |                    0 |\n",
      "| N/A   33C    P0    51W / 400W |      0MiB / 40537MiB |      0%      Default |\n",
      "|                               |                      |             Disabled |\n",
      "+-------------------------------+----------------------+----------------------+\n",
      "                                                                               \n",
      "+-----------------------------------------------------------------------------+\n",
      "| Processes:                                                                  |\n",
      "|  GPU   GI   CI        PID   Type   Process name                  GPU Memory |\n",
      "|        ID   ID                                                   Usage      |\n",
      "|=============================================================================|\n",
      "|  No running processes found                                                 |\n",
      "+-----------------------------------------------------------------------------+\n"
     ]
    }
   ],
   "source": [
    "!nvidia-smi"
   ]
  },
  {
   "cell_type": "code",
   "execution_count": 2,
   "metadata": {},
   "outputs": [],
   "source": [
    "#!pip install pickle5"
   ]
  },
  {
   "cell_type": "code",
   "execution_count": 3,
   "metadata": {},
   "outputs": [],
   "source": [
    "rng = np.random.default_rng(23673)"
   ]
  },
  {
   "cell_type": "code",
   "execution_count": 4,
   "metadata": {},
   "outputs": [],
   "source": [
    "#gtf = None"
   ]
  },
  {
   "cell_type": "code",
   "execution_count": 4,
   "metadata": {},
   "outputs": [],
   "source": [
    "L = 32\n",
    "N_GPUS = 8\n",
    "k = 1\n",
    "# Hyper-parameters:\n",
    "# L: Number of convolution kernels\n",
    "# W: Convolution window size in each residual unit\n",
    "# AR: Atrous rate in each residual unit\n",
    "\n",
    "W = np.asarray([11, 11, 11, 11, 11, 11, 11, 11,\n",
    "                21, 21, 21, 21, 41, 41, 41, 41])\n",
    "AR = np.asarray([1, 1, 1, 1, 4, 4, 4, 4,\n",
    "                 10, 10, 10, 10, 25, 25, 25, 25])\n",
    "BATCH_SIZE = k*6*N_GPUS\n",
    "\n",
    "\n",
    "CL = 2 * np.sum(AR*(W-1))"
   ]
  },
  {
   "cell_type": "code",
   "execution_count": 5,
   "metadata": {},
   "outputs": [],
   "source": [
    "data_dir = '/odinn/tmp/benediktj/Data/SplicePrediction-050422'\n",
    "setType = 'train'\n",
    "annotation, transcriptToLabel, seqData = getData(data_dir, setType)"
   ]
  },
  {
   "cell_type": "code",
   "execution_count": 6,
   "metadata": {},
   "outputs": [],
   "source": [
    "# Maximum nucleotide context length (CL_max/2 on either side of the \n",
    "# position of interest)\n",
    "# CL_max should be an even number\n",
    "# Sequence length of SpliceAIs (SL+CL will be the input length and\n",
    "# SL will be the output length)\n",
    "\n",
    "SL=5000\n",
    "CL_max=80000"
   ]
  },
  {
   "cell_type": "code",
   "execution_count": 7,
   "metadata": {},
   "outputs": [],
   "source": [
    "assert CL_max % 2 == 0"
   ]
  },
  {
   "cell_type": "code",
   "execution_count": 8,
   "metadata": {},
   "outputs": [],
   "source": [
    "train_gene, validation_gene = train_test_split(annotation['gene'].drop_duplicates(),test_size=.1,random_state=435)\n",
    "annotation_train = annotation[annotation['gene'].isin(train_gene)]\n",
    "annotation_validation = annotation[annotation['gene'].isin(validation_gene)]"
   ]
  },
  {
   "cell_type": "code",
   "execution_count": 9,
   "metadata": {},
   "outputs": [],
   "source": [
    "train_dataset = spliceDataset(annotation_train,transcriptToLabel,SL,CL_max)\n",
    "val_dataset = spliceDataset(annotation_validation,transcriptToLabel,SL,CL_max)\n",
    "train_dataset.seqData = seqData\n",
    "val_dataset.seqData = seqData\n",
    "\n",
    "train_loader = torch.utils.data.DataLoader(train_dataset, batch_size=k*100, shuffle=True, num_workers=16,collate_fn=collate_fn, pin_memory=True)\n",
    "val_loader = torch.utils.data.DataLoader(val_dataset, batch_size=k*100, shuffle=False,collate_fn=collate_fn, num_workers=16)"
   ]
  },
  {
   "cell_type": "code",
   "execution_count": 10,
   "metadata": {
    "scrolled": true
   },
   "outputs": [
    {
     "name": "stderr",
     "output_type": "stream",
     "text": [
      "Epoch (train) 1/10: 100%|██████████████████████████████████████████████████████| 202/202 [33:17<00:00,  9.89s/it, accepor_recall=0.872, donor_recall=0.888, loss=0.000226, pred_l1_dist=0]\n"
     ]
    },
    {
     "name": "stdout",
     "output_type": "stream",
     "text": [
      "epoch: 1/10, train loss = 0.007967\n"
     ]
    },
    {
     "name": "stderr",
     "output_type": "stream",
     "text": [
      "Epoch (val) 1/10: 100%|██████████████████████████████████████████████████████████| 23/23 [04:37<00:00, 12.08s/it, accepor_recall=0.773, donor_recall=0.834, loss=0.000389, pred_l1_dist=0]\n"
     ]
    },
    {
     "name": "stdout",
     "output_type": "stream",
     "text": [
      "\n",
      "\u001b[1mAcceptor:\u001b[0m\n",
      "0.9627\t0.861\t0.9704\t0.9875\t0.9122\t0.9235000014305115\t0.16760000586509705\t0.004000000189989805\t0.0005000000237487257\t21432\n",
      "\n",
      "\u001b[1mDonor:\u001b[0m\n",
      "0.9683\t0.8836\t0.9804\t0.992\t0.9307\t0.9445000290870667\t0.2320999950170517\t0.005499999970197678\t0.0007999999797903001\t21432\n",
      "epoch: 1/10, val loss = 0.000306\n"
     ]
    },
    {
     "name": "stderr",
     "output_type": "stream",
     "text": [
      "Epoch (train) 2/10: 100%|███████████████████████████████████████████████████████| 202/202 [32:26<00:00,  9.63s/it, accepor_recall=0.905, donor_recall=0.91, loss=0.000159, pred_l1_dist=0]\n"
     ]
    },
    {
     "name": "stdout",
     "output_type": "stream",
     "text": [
      "epoch: 2/10, train loss = 0.000196\n"
     ]
    },
    {
     "name": "stderr",
     "output_type": "stream",
     "text": [
      "Epoch (val) 2/10: 100%|██████████████████████████████████████████████████████████| 23/23 [05:17<00:00, 13.81s/it, accepor_recall=0.889, donor_recall=0.915, loss=0.000298, pred_l1_dist=0]\n"
     ]
    },
    {
     "name": "stdout",
     "output_type": "stream",
     "text": [
      "\n",
      "\u001b[1mAcceptor:\u001b[0m\n",
      "0.9726\t0.8999\t0.9815\t0.9902\t0.9405\t0.9789999723434448\t0.5249000191688538\t0.008799999952316284\t0.0010000000474974513\t21432\n",
      "\n",
      "\u001b[1mDonor:\u001b[0m\n",
      "0.9713\t0.91\t0.988\t0.9945\t0.946\t0.9817000031471252\t0.576200008392334\t0.008700000122189522\t0.0008999999845400453\t21432\n",
      "epoch: 2/10, val loss = 0.000224\n"
     ]
    },
    {
     "name": "stderr",
     "output_type": "stream",
     "text": [
      "Epoch (train) 3/10: 100%|██████████████████████████████████████████████████████| 202/202 [32:47<00:00,  9.74s/it, accepor_recall=0.914, donor_recall=0.921, loss=0.000175, pred_l1_dist=0]\n"
     ]
    },
    {
     "name": "stdout",
     "output_type": "stream",
     "text": [
      "epoch: 3/10, train loss = 0.000168\n"
     ]
    },
    {
     "name": "stderr",
     "output_type": "stream",
     "text": [
      "Epoch (val) 3/10: 100%|██████████████████████████████████████████████████████████| 23/23 [04:37<00:00, 12.05s/it, accepor_recall=0.876, donor_recall=0.926, loss=0.000312, pred_l1_dist=0]\n"
     ]
    },
    {
     "name": "stdout",
     "output_type": "stream",
     "text": [
      "\n",
      "\u001b[1mAcceptor:\u001b[0m\n",
      "0.9638\t0.897\t0.9798\t0.9895\t0.931\t0.9243000149726868\t0.5142999887466431\t0.018400000408291817\t0.0035000001080334187\t21432\n",
      "\n",
      "\u001b[1mDonor:\u001b[0m\n",
      "0.9647\t0.9078\t0.9874\t0.9941\t0.9402\t0.9477999806404114\t0.6837999820709229\t0.019999999552965164\t0.003100000089034438\t21432\n",
      "epoch: 3/10, val loss = 0.000235\n"
     ]
    },
    {
     "name": "stderr",
     "output_type": "stream",
     "text": [
      "Epoch (train) 4/10: 100%|██████████████████████████████████████████████████████| 202/202 [33:07<00:00,  9.84s/it, accepor_recall=0.918, donor_recall=0.931, loss=0.000167, pred_l1_dist=0]\n"
     ]
    },
    {
     "name": "stdout",
     "output_type": "stream",
     "text": [
      "epoch: 4/10, train loss = 0.000149\n"
     ]
    },
    {
     "name": "stderr",
     "output_type": "stream",
     "text": [
      "Epoch (val) 4/10: 100%|██████████████████████████████████████████████████████████| 23/23 [04:39<00:00, 12.16s/it, accepor_recall=0.901, donor_recall=0.913, loss=0.000267, pred_l1_dist=0]\n"
     ]
    },
    {
     "name": "stdout",
     "output_type": "stream",
     "text": [
      "\n",
      "\u001b[1mAcceptor:\u001b[0m\n",
      "0.9727\t0.9137\t0.9854\t0.9918\t0.9479\t0.9484000205993652\t0.4957999885082245\t0.010099999606609344\t0.001500000013038516\t21432\n",
      "\n",
      "\u001b[1mDonor:\u001b[0m\n",
      "0.9664\t0.9195\t0.9902\t0.9956\t0.9473\t0.9465000033378601\t0.49729999899864197\t0.0066999997943639755\t0.0008999999845400453\t21432\n",
      "epoch: 4/10, val loss = 0.000199\n"
     ]
    },
    {
     "name": "stderr",
     "output_type": "stream",
     "text": [
      "Epoch (train) 5/10: 100%|██████████████████████████████████████████████████████| 202/202 [32:37<00:00,  9.69s/it, accepor_recall=0.936, donor_recall=0.939, loss=0.000137, pred_l1_dist=0]\n"
     ]
    },
    {
     "name": "stdout",
     "output_type": "stream",
     "text": [
      "epoch: 5/10, train loss = 0.000137\n"
     ]
    },
    {
     "name": "stderr",
     "output_type": "stream",
     "text": [
      "Epoch (val) 5/10: 100%|██████████████████████████████████████████████████████████| 23/23 [04:45<00:00, 12.39s/it, accepor_recall=0.908, donor_recall=0.926, loss=0.000246, pred_l1_dist=0]\n"
     ]
    },
    {
     "name": "stdout",
     "output_type": "stream",
     "text": [
      "\n",
      "\u001b[1mAcceptor:\u001b[0m\n",
      "0.9776\t0.9214\t0.9873\t0.9929\t0.9535\t0.9722999930381775\t0.49000000953674316\t0.005200000014156103\t0.0007999999797903001\t21432\n",
      "\n",
      "\u001b[1mDonor:\u001b[0m\n",
      "0.9758\t0.9235\t0.9913\t0.9956\t0.9576\t0.9735000133514404\t0.5356000065803528\t0.006300000008195639\t0.0007999999797903001\t21432\n",
      "epoch: 5/10, val loss = 0.000182\n"
     ]
    },
    {
     "name": "stderr",
     "output_type": "stream",
     "text": [
      "Epoch (train) 6/10: 100%|███████████████████████████████████████████████████████| 202/202 [33:01<00:00,  9.81s/it, accepor_recall=0.94, donor_recall=0.942, loss=0.000125, pred_l1_dist=0]\n"
     ]
    },
    {
     "name": "stdout",
     "output_type": "stream",
     "text": [
      "epoch: 6/10, train loss = 0.000128\n"
     ]
    },
    {
     "name": "stderr",
     "output_type": "stream",
     "text": [
      "Epoch (val) 6/10: 100%|██████████████████████████████████████████████████████████| 23/23 [04:48<00:00, 12.55s/it, accepor_recall=0.907, donor_recall=0.913, loss=0.000265, pred_l1_dist=0]\n"
     ]
    },
    {
     "name": "stdout",
     "output_type": "stream",
     "text": [
      "\n",
      "\u001b[1mAcceptor:\u001b[0m\n",
      "0.9723\t0.9113\t0.9849\t0.9924\t0.9458\t0.9833999872207642\t0.5899999737739563\t0.005200000014156103\t0.0006000000284984708\t21432\n",
      "\n",
      "\u001b[1mDonor:\u001b[0m\n",
      "0.9751\t0.919\t0.991\t0.995\t0.9548\t0.9769999980926514\t0.5199999809265137\t0.003000000026077032\t0.00039999998989515007\t21432\n",
      "epoch: 6/10, val loss = 0.000200\n"
     ]
    },
    {
     "name": "stderr",
     "output_type": "stream",
     "text": [
      "Epoch (train) 7/10: 100%|███████████████████████████████████████████████████████| 202/202 [33:06<00:00,  9.83s/it, accepor_recall=0.937, donor_recall=0.949, loss=0.00013, pred_l1_dist=0]\n"
     ]
    },
    {
     "name": "stdout",
     "output_type": "stream",
     "text": [
      "epoch: 7/10, train loss = 0.000120\n"
     ]
    },
    {
     "name": "stderr",
     "output_type": "stream",
     "text": [
      "Epoch (val) 7/10: 100%|██████████████████████████████████████████████████████████| 23/23 [04:45<00:00, 12.40s/it, accepor_recall=0.871, donor_recall=0.891, loss=0.000269, pred_l1_dist=0]\n"
     ]
    },
    {
     "name": "stdout",
     "output_type": "stream",
     "text": [
      "\n",
      "\u001b[1mAcceptor:\u001b[0m\n",
      "0.9769\t0.9169\t0.9866\t0.9917\t0.9509\t0.9700999855995178\t0.3569999933242798\t0.002099999925121665\t0.0003000000142492354\t21432\n",
      "\n",
      "\u001b[1mDonor:\u001b[0m\n",
      "0.9735\t0.9212\t0.9893\t0.9946\t0.953\t0.9772999882698059\t0.3901999890804291\t0.0024999999441206455\t0.00039999998989515007\t21432\n",
      "epoch: 7/10, val loss = 0.000199\n"
     ]
    },
    {
     "name": "stderr",
     "output_type": "stream",
     "text": [
      "Epoch (train) 8/10: 100%|██████████████████████████████████████████████████████| 202/202 [33:06<00:00,  9.83s/it, accepor_recall=0.961, donor_recall=0.965, loss=0.000104, pred_l1_dist=0]\n"
     ]
    },
    {
     "name": "stdout",
     "output_type": "stream",
     "text": [
      "epoch: 8/10, train loss = 0.000099\n"
     ]
    },
    {
     "name": "stderr",
     "output_type": "stream",
     "text": [
      "Epoch (val) 8/10: 100%|███████████████████████████████████████████████████████████| 23/23 [04:45<00:00, 12.42s/it, accepor_recall=0.91, donor_recall=0.923, loss=0.000246, pred_l1_dist=0]\n"
     ]
    },
    {
     "name": "stdout",
     "output_type": "stream",
     "text": [
      "\n",
      "\u001b[1mAcceptor:\u001b[0m\n",
      "0.9761\t0.9224\t0.9889\t0.9934\t0.9546\t0.9779999852180481\t0.5278000235557556\t0.002199999988079071\t0.0003000000142492354\t21432\n",
      "\n",
      "\u001b[1mDonor:\u001b[0m\n",
      "0.9757\t0.9292\t0.9918\t0.9959\t0.9587\t0.9828000068664551\t0.5284000039100647\t0.001500000013038516\t0.00019999999494757503\t21432\n",
      "epoch: 8/10, val loss = 0.000181\n"
     ]
    },
    {
     "name": "stderr",
     "output_type": "stream",
     "text": [
      "Epoch (train) 9/10: 100%|███████████████████████████████████████████████████████| 202/202 [33:11<00:00,  9.86s/it, accepor_recall=0.964, donor_recall=0.965, loss=7.64e-5, pred_l1_dist=0]\n"
     ]
    },
    {
     "name": "stdout",
     "output_type": "stream",
     "text": [
      "epoch: 9/10, train loss = 0.000085\n"
     ]
    },
    {
     "name": "stderr",
     "output_type": "stream",
     "text": [
      "Epoch (val) 9/10: 100%|██████████████████████████████████████████████████████████| 23/23 [04:42<00:00, 12.30s/it, accepor_recall=0.885, donor_recall=0.896, loss=0.000264, pred_l1_dist=0]\n"
     ]
    },
    {
     "name": "stdout",
     "output_type": "stream",
     "text": [
      "\n",
      "\u001b[1mAcceptor:\u001b[0m\n",
      "0.9781\t0.9255\t0.9856\t0.9911\t0.9542\t0.9793000221252441\t0.31200000643730164\t0.0010000000474974513\t0.00019999999494757503\t21432\n",
      "\n",
      "\u001b[1mDonor:\u001b[0m\n",
      "0.9763\t0.9271\t0.9875\t0.9935\t0.9564\t0.9793999791145325\t0.3165999948978424\t0.0008999999845400453\t9.999999747378752e-05\t21432\n",
      "epoch: 9/10, val loss = 0.000202\n"
     ]
    },
    {
     "name": "stderr",
     "output_type": "stream",
     "text": [
      "Epoch (train) 10/10: 100%|██████████████████████████████████████████████████████| 202/202 [33:07<00:00,  9.84s/it, accepor_recall=0.963, donor_recall=0.965, loss=7.99e-5, pred_l1_dist=0]\n"
     ]
    },
    {
     "name": "stdout",
     "output_type": "stream",
     "text": [
      "epoch: 10/10, train loss = 0.000076\n"
     ]
    },
    {
     "name": "stderr",
     "output_type": "stream",
     "text": [
      "Epoch (val) 10/10: 100%|█████████████████████████████████████████████████████████| 23/23 [04:51<00:00, 12.66s/it, accepor_recall=0.908, donor_recall=0.923, loss=0.000236, pred_l1_dist=0]\n"
     ]
    },
    {
     "name": "stdout",
     "output_type": "stream",
     "text": [
      "\n",
      "\u001b[1mAcceptor:\u001b[0m\n",
      "0.9784\t0.9308\t0.9885\t0.9933\t0.9583\t0.9822999835014343\t0.45829999446868896\t0.0013000000035390258\t0.00019999999494757503\t21432\n",
      "\n",
      "\u001b[1mDonor:\u001b[0m\n",
      "0.9763\t0.9328\t0.9917\t0.9956\t0.9606\t0.9829999804496765\t0.5241000056266785\t0.0013000000035390258\t0.00019999999494757503\t21432\n",
      "epoch: 10/10, val loss = 0.000176\n"
     ]
    },
    {
     "data": {
      "image/png": "[encoded data removed]",
      "text/plain": [
       "<Figure size 432x288 with 1 Axes>"
      ]
     },
     "metadata": {
      "needs_background": "light"
     },
     "output_type": "display_data"
    },
    {
     "name": "stderr",
     "output_type": "stream",
     "text": [
      "Epoch (train) 1/10: 100%|██████████████████████████████████████████████████████| 202/202 [33:06<00:00,  9.83s/it, accepor_recall=0.879, donor_recall=0.883, loss=0.000203, pred_l1_dist=0]\n"
     ]
    },
    {
     "name": "stdout",
     "output_type": "stream",
     "text": [
      "epoch: 1/10, train loss = 0.007748\n"
     ]
    },
    {
     "name": "stderr",
     "output_type": "stream",
     "text": [
      "Epoch (val) 1/10: 100%|███████████████████████████████████████████████████████████| 23/23 [04:41<00:00, 12.25s/it, accepor_recall=0.81, donor_recall=0.808, loss=0.000372, pred_l1_dist=0]\n"
     ]
    },
    {
     "name": "stdout",
     "output_type": "stream",
     "text": [
      "\n",
      "\u001b[1mAcceptor:\u001b[0m\n",
      "0.9691\t0.8732\t0.9662\t0.9839\t0.9179\t0.919700026512146\t0.28630000352859497\t0.010200000368058681\t0.0019000000320374966\t21432\n",
      "\n",
      "\u001b[1mDonor:\u001b[0m\n",
      "0.967\t0.872\t0.973\t0.9894\t0.9215\t0.9021999835968018\t0.28290000557899475\t0.008100000210106373\t0.0012000000569969416\t21432\n",
      "epoch: 1/10, val loss = 0.000299\n"
     ]
    },
    {
     "name": "stderr",
     "output_type": "stream",
     "text": [
      "Epoch (train) 2/10: 100%|███████████████████████████████████████████████████████| 202/202 [33:20<00:00,  9.90s/it, accepor_recall=0.891, donor_recall=0.907, loss=0.00019, pred_l1_dist=0]\n"
     ]
    },
    {
     "name": "stdout",
     "output_type": "stream",
     "text": [
      "epoch: 2/10, train loss = 0.000199\n"
     ]
    },
    {
     "name": "stderr",
     "output_type": "stream",
     "text": [
      "Epoch (val) 2/10: 100%|██████████████████████████████████████████████████████████| 23/23 [04:39<00:00, 12.15s/it, accepor_recall=0.844, donor_recall=0.894, loss=0.000329, pred_l1_dist=0]\n"
     ]
    },
    {
     "name": "stdout",
     "output_type": "stream",
     "text": [
      "\n",
      "\u001b[1mAcceptor:\u001b[0m\n",
      "0.9678\t0.8876\t0.9767\t0.9878\t0.9291\t0.963100016117096\t0.326200008392334\t0.004399999976158142\t0.0006000000284984708\t21432\n",
      "\n",
      "\u001b[1mDonor:\u001b[0m\n",
      "0.9696\t0.8995\t0.9829\t0.9924\t0.939\t0.9697999954223633\t0.5573999881744385\t0.007699999958276749\t0.0007999999797903001\t21432\n",
      "epoch: 2/10, val loss = 0.000252\n"
     ]
    },
    {
     "name": "stderr",
     "output_type": "stream",
     "text": [
      "Epoch (train) 3/10: 100%|██████████████████████████████████████████████████████| 202/202 [33:22<00:00,  9.91s/it, accepor_recall=0.918, donor_recall=0.931, loss=0.000141, pred_l1_dist=0]\n"
     ]
    },
    {
     "name": "stdout",
     "output_type": "stream",
     "text": [
      "epoch: 3/10, train loss = 0.000168\n"
     ]
    },
    {
     "name": "stderr",
     "output_type": "stream",
     "text": [
      "Epoch (val) 3/10: 100%|███████████████████████████████████████████████████████████| 23/23 [04:41<00:00, 12.23s/it, accepor_recall=0.89, donor_recall=0.846, loss=0.000292, pred_l1_dist=0]\n"
     ]
    },
    {
     "name": "stdout",
     "output_type": "stream",
     "text": [
      "\n",
      "\u001b[1mAcceptor:\u001b[0m\n",
      "0.9774\t0.9129\t0.9836\t0.9921\t0.9483\t0.9860000014305115\t0.44519999623298645\t0.008500000461935997\t0.0017000000225380063\t21432\n",
      "\n",
      "\u001b[1mDonor:\u001b[0m\n",
      "0.9731\t0.9137\t0.9885\t0.9936\t0.949\t0.9495000243186951\t0.2393999993801117\t0.002199999988079071\t0.00039999998989515007\t21432\n",
      "epoch: 3/10, val loss = 0.000218\n"
     ]
    },
    {
     "name": "stderr",
     "output_type": "stream",
     "text": [
      "Epoch (train) 4/10: 100%|██████████████████████████████████████████████████████| 202/202 [33:24<00:00,  9.92s/it, accepor_recall=0.925, donor_recall=0.935, loss=0.000162, pred_l1_dist=0]\n"
     ]
    },
    {
     "name": "stdout",
     "output_type": "stream",
     "text": [
      "epoch: 4/10, train loss = 0.000150\n"
     ]
    },
    {
     "name": "stderr",
     "output_type": "stream",
     "text": [
      "Epoch (val) 4/10: 100%|██████████████████████████████████████████████████████████| 23/23 [05:12<00:00, 13.60s/it, accepor_recall=0.851, donor_recall=0.845, loss=0.000299, pred_l1_dist=0]\n"
     ]
    },
    {
     "name": "stdout",
     "output_type": "stream",
     "text": [
      "\n",
      "\u001b[1mAcceptor:\u001b[0m\n",
      "0.9733\t0.9016\t0.9821\t0.9913\t0.9419\t0.9478999972343445\t0.311599999666214\t0.003000000026077032\t0.00039999998989515007\t21432\n",
      "\n",
      "\u001b[1mDonor:\u001b[0m\n",
      "0.9727\t0.9088\t0.9885\t0.9949\t0.9479\t0.9200999736785889\t0.22550000250339508\t0.001500000013038516\t0.00019999999494757503\t21432\n",
      "epoch: 4/10, val loss = 0.000238\n"
     ]
    },
    {
     "name": "stderr",
     "output_type": "stream",
     "text": [
      "Epoch (train) 5/10: 100%|██████████████████████████████████████████████████████| 202/202 [33:50<00:00, 10.05s/it, accepor_recall=0.934, donor_recall=0.939, loss=0.000145, pred_l1_dist=0]\n"
     ]
    },
    {
     "name": "stdout",
     "output_type": "stream",
     "text": [
      "epoch: 5/10, train loss = 0.000138\n"
     ]
    },
    {
     "name": "stderr",
     "output_type": "stream",
     "text": [
      "Epoch (val) 5/10: 100%|██████████████████████████████████████████████████████████| 23/23 [05:00<00:00, 13.05s/it, accepor_recall=0.907, donor_recall=0.919, loss=0.000256, pred_l1_dist=0]\n"
     ]
    },
    {
     "name": "stdout",
     "output_type": "stream",
     "text": [
      "\n",
      "\u001b[1mAcceptor:\u001b[0m\n",
      "0.9737\t0.9192\t0.9868\t0.9922\t0.9516\t0.9789999723434448\t0.4788999855518341\t0.004800000227987766\t0.000699999975040555\t21432\n",
      "\n",
      "\u001b[1mDonor:\u001b[0m\n",
      "0.9743\t0.924\t0.9903\t0.995\t0.955\t0.9797000288963318\t0.545799970626831\t0.00570000009611249\t0.0008999999845400453\t21432\n",
      "epoch: 5/10, val loss = 0.000187\n"
     ]
    },
    {
     "name": "stderr",
     "output_type": "stream",
     "text": [
      "Epoch (train) 6/10: 100%|██████████████████████████████████████████████████████| 202/202 [33:18<00:00,  9.89s/it, accepor_recall=0.933, donor_recall=0.943, loss=0.000151, pred_l1_dist=0]\n"
     ]
    },
    {
     "name": "stdout",
     "output_type": "stream",
     "text": [
      "epoch: 6/10, train loss = 0.000129\n"
     ]
    },
    {
     "name": "stderr",
     "output_type": "stream",
     "text": [
      "Epoch (val) 6/10: 100%|██████████████████████████████████████████████████████████| 23/23 [04:40<00:00, 12.20s/it, accepor_recall=0.942, donor_recall=0.937, loss=0.000281, pred_l1_dist=0]\n"
     ]
    },
    {
     "name": "stdout",
     "output_type": "stream",
     "text": [
      "\n",
      "\u001b[1mAcceptor:\u001b[0m\n",
      "0.9718\t0.9145\t0.9864\t0.9929\t0.9474\t0.9686999917030334\t0.7950999736785889\t0.0272000003606081\t0.004100000020116568\t21432\n",
      "\n",
      "\u001b[1mDonor:\u001b[0m\n",
      "0.9729\t0.922\t0.9909\t0.9952\t0.9536\t0.9610999822616577\t0.65420001745224\t0.009800000116229057\t0.0008999999845400453\t21432\n",
      "epoch: 6/10, val loss = 0.000214\n"
     ]
    },
    {
     "name": "stderr",
     "output_type": "stream",
     "text": [
      "Epoch (train) 7/10: 100%|██████████████████████████████████████████████████████| 202/202 [33:34<00:00,  9.97s/it, accepor_recall=0.939, donor_recall=0.948, loss=0.000125, pred_l1_dist=0]\n"
     ]
    },
    {
     "name": "stdout",
     "output_type": "stream",
     "text": [
      "epoch: 7/10, train loss = 0.000122\n"
     ]
    },
    {
     "name": "stderr",
     "output_type": "stream",
     "text": [
      "Epoch (val) 7/10: 100%|██████████████████████████████████████████████████████████| 23/23 [05:06<00:00, 13.32s/it, accepor_recall=0.886, donor_recall=0.896, loss=0.000281, pred_l1_dist=0]\n"
     ]
    },
    {
     "name": "stdout",
     "output_type": "stream",
     "text": [
      "\n",
      "\u001b[1mAcceptor:\u001b[0m\n",
      "0.9742\t0.9155\t0.9856\t0.9922\t0.9498\t0.9825000166893005\t0.3725999891757965\t0.0027000000700354576\t0.0005000000237487257\t21432\n",
      "\n",
      "\u001b[1mDonor:\u001b[0m\n",
      "0.974\t0.9219\t0.9896\t0.9943\t0.9537\t0.9894000291824341\t0.33340001106262207\t0.0010999999940395355\t0.00019999999494757503\t21432\n",
      "epoch: 7/10, val loss = 0.000206\n"
     ]
    },
    {
     "name": "stderr",
     "output_type": "stream",
     "text": [
      "Epoch (train) 8/10: 100%|████████████████████████████████████████████████████████| 202/202 [33:16<00:00,  9.88s/it, accepor_recall=0.956, donor_recall=0.96, loss=9.03e-5, pred_l1_dist=0]\n"
     ]
    },
    {
     "name": "stdout",
     "output_type": "stream",
     "text": [
      "epoch: 8/10, train loss = 0.000100\n"
     ]
    },
    {
     "name": "stderr",
     "output_type": "stream",
     "text": [
      "Epoch (val) 8/10: 100%|███████████████████████████████████████████████████████████| 23/23 [04:51<00:00, 12.68s/it, accepor_recall=0.91, donor_recall=0.916, loss=0.000244, pred_l1_dist=0]\n"
     ]
    },
    {
     "name": "stdout",
     "output_type": "stream",
     "text": [
      "\n",
      "\u001b[1mAcceptor:\u001b[0m\n",
      "0.9779\t0.9267\t0.9882\t0.993\t0.9556\t0.9851999878883362\t0.4666999876499176\t0.0020000000949949026\t0.0003000000142492354\t21432\n",
      "\n",
      "\u001b[1mDonor:\u001b[0m\n",
      "0.975\t0.9289\t0.9916\t0.9952\t0.9583\t0.9807999730110168\t0.44760000705718994\t0.002199999988079071\t0.0003000000142492354\t21432\n",
      "epoch: 8/10, val loss = 0.000180\n"
     ]
    },
    {
     "name": "stderr",
     "output_type": "stream",
     "text": [
      "Epoch (train) 9/10: 100%|████████████████████████████████████████████████████████| 202/202 [33:30<00:00,  9.95s/it, accepor_recall=0.964, donor_recall=0.964, loss=0.0001, pred_l1_dist=0]\n"
     ]
    },
    {
     "name": "stdout",
     "output_type": "stream",
     "text": [
      "epoch: 9/10, train loss = 0.000086\n"
     ]
    },
    {
     "name": "stderr",
     "output_type": "stream",
     "text": [
      "Epoch (val) 9/10: 100%|████████████████████████████████████████████████████████████| 23/23 [04:45<00:00, 12.41s/it, accepor_recall=0.9, donor_recall=0.916, loss=0.000238, pred_l1_dist=0]\n"
     ]
    },
    {
     "name": "stdout",
     "output_type": "stream",
     "text": [
      "\n",
      "\u001b[1mAcceptor:\u001b[0m\n",
      "0.9769\t0.9269\t0.9884\t0.993\t0.9578\t0.9502999782562256\t0.3752000033855438\t0.001500000013038516\t0.0003000000142492354\t21432\n",
      "\n",
      "\u001b[1mDonor:\u001b[0m\n",
      "0.9788\t0.9315\t0.9921\t0.9956\t0.9619\t0.9562000036239624\t0.42640000581741333\t0.0017000000225380063\t0.0003000000142492354\t21432\n",
      "epoch: 9/10, val loss = 0.000176\n"
     ]
    },
    {
     "name": "stderr",
     "output_type": "stream",
     "text": [
      "Epoch (train) 10/10: 100%|██████████████████████████████████████████████████████| 202/202 [33:29<00:00,  9.95s/it, accepor_recall=0.966, donor_recall=0.969, loss=6.65e-5, pred_l1_dist=0]\n"
     ]
    },
    {
     "name": "stdout",
     "output_type": "stream",
     "text": [
      "epoch: 10/10, train loss = 0.000077\n"
     ]
    },
    {
     "name": "stderr",
     "output_type": "stream",
     "text": [
      "Epoch (val) 10/10: 100%|█████████████████████████████████████████████████████████| 23/23 [04:43<00:00, 12.33s/it, accepor_recall=0.922, donor_recall=0.934, loss=0.000236, pred_l1_dist=0]\n"
     ]
    },
    {
     "name": "stdout",
     "output_type": "stream",
     "text": [
      "\n",
      "\u001b[1mAcceptor:\u001b[0m\n",
      "0.9789\t0.9304\t0.9888\t0.9932\t0.9584\t0.9866999983787537\t0.5325999855995178\t0.0015999999595806003\t0.0003000000142492354\t21432\n",
      "\n",
      "\u001b[1mDonor:\u001b[0m\n",
      "0.9803\t0.9351\t0.9917\t0.9955\t0.9623\t0.9887999892234802\t0.5526000261306763\t0.0010999999940395355\t9.999999747378752e-05\t21432\n",
      "epoch: 10/10, val loss = 0.000174\n"
     ]
    },
    {
     "data": {
      "image/png": "[encoded data removed]",
      "text/plain": [
       "<Figure size 432x288 with 1 Axes>"
      ]
     },
     "metadata": {
      "needs_background": "light"
     },
     "output_type": "display_data"
    },
    {
     "name": "stderr",
     "output_type": "stream",
     "text": [
      "Epoch (train) 1/10: 100%|███████████████████████████████████████████████████████| 202/202 [33:39<00:00, 10.00s/it, accepor_recall=0.872, donor_recall=0.883, loss=0.00022, pred_l1_dist=0]\n"
     ]
    },
    {
     "name": "stdout",
     "output_type": "stream",
     "text": [
      "epoch: 1/10, train loss = 0.007425\n"
     ]
    },
    {
     "name": "stderr",
     "output_type": "stream",
     "text": [
      "Epoch (val) 1/10: 100%|██████████████████████████████████████████████████████████| 23/23 [04:47<00:00, 12.49s/it, accepor_recall=0.856, donor_recall=0.848, loss=0.000394, pred_l1_dist=0]\n"
     ]
    },
    {
     "name": "stdout",
     "output_type": "stream",
     "text": [
      "\n",
      "\u001b[1mAcceptor:\u001b[0m\n",
      "0.9656\t0.8555\t0.9678\t0.986\t0.91\t0.9718999862670898\t0.6370000243186951\t0.030799999833106995\t0.004100000020116568\t21432\n",
      "\n",
      "\u001b[1mDonor:\u001b[0m\n",
      "0.9618\t0.8666\t0.9731\t0.989\t0.9157\t0.9120000004768372\t0.49380001425743103\t0.035100001841783524\t0.004699999932199717\t21432\n",
      "epoch: 1/10, val loss = 0.000312\n"
     ]
    },
    {
     "name": "stderr",
     "output_type": "stream",
     "text": [
      "Epoch (train) 2/10: 100%|███████████████████████████████████████████████████████| 202/202 [33:44<00:00, 10.02s/it, accepor_recall=0.901, donor_recall=0.911, loss=0.00018, pred_l1_dist=0]\n"
     ]
    },
    {
     "name": "stdout",
     "output_type": "stream",
     "text": [
      "epoch: 2/10, train loss = 0.000200\n"
     ]
    },
    {
     "name": "stderr",
     "output_type": "stream",
     "text": [
      "Epoch (val) 2/10: 100%|███████████████████████████████████████████████████████████| 23/23 [04:43<00:00, 12.34s/it, accepor_recall=0.807, donor_recall=0.84, loss=0.000367, pred_l1_dist=0]\n"
     ]
    },
    {
     "name": "stdout",
     "output_type": "stream",
     "text": [
      "\n",
      "\u001b[1mAcceptor:\u001b[0m\n",
      "0.9664\t0.8837\t0.9646\t0.9789\t0.9208\t0.9506000280380249\t0.1678999960422516\t0.00430000014603138\t0.0007999999797903001\t21432\n",
      "\n",
      "\u001b[1mDonor:\u001b[0m\n",
      "0.968\t0.8979\t0.9831\t0.9924\t0.9396\t0.9621000289916992\t0.24449999630451202\t0.0034000000450760126\t0.00039999998989515007\t21432\n",
      "epoch: 2/10, val loss = 0.000283\n"
     ]
    },
    {
     "name": "stderr",
     "output_type": "stream",
     "text": [
      "Epoch (train) 3/10: 100%|██████████████████████████████████████████████████████| 202/202 [33:14<00:00,  9.87s/it, accepor_recall=0.916, donor_recall=0.923, loss=0.000166, pred_l1_dist=0]\n"
     ]
    },
    {
     "name": "stdout",
     "output_type": "stream",
     "text": [
      "epoch: 3/10, train loss = 0.000170\n"
     ]
    },
    {
     "name": "stderr",
     "output_type": "stream",
     "text": [
      "Epoch (val) 3/10: 100%|██████████████████████████████████████████████████████████| 23/23 [04:48<00:00, 12.54s/it, accepor_recall=0.759, donor_recall=0.786, loss=0.000402, pred_l1_dist=0]\n"
     ]
    },
    {
     "name": "stdout",
     "output_type": "stream",
     "text": [
      "\n",
      "\u001b[1mAcceptor:\u001b[0m\n",
      "0.9702\t0.8828\t0.9661\t0.9784\t0.9206\t0.890500009059906\t0.12399999797344208\t0.003100000089034438\t0.000699999975040555\t21432\n",
      "\n",
      "\u001b[1mDonor:\u001b[0m\n",
      "0.968\t0.8848\t0.972\t0.9846\t0.9251\t0.9344000220298767\t0.094200000166893\t0.00139999995008111\t0.00019999999494757503\t21432\n",
      "epoch: 3/10, val loss = 0.000337\n"
     ]
    },
    {
     "name": "stderr",
     "output_type": "stream",
     "text": [
      "Epoch (train) 4/10: 100%|██████████████████████████████████████████████████████| 202/202 [33:19<00:00,  9.90s/it, accepor_recall=0.929, donor_recall=0.934, loss=0.000148, pred_l1_dist=0]\n"
     ]
    },
    {
     "name": "stdout",
     "output_type": "stream",
     "text": [
      "epoch: 4/10, train loss = 0.000151\n"
     ]
    },
    {
     "name": "stderr",
     "output_type": "stream",
     "text": [
      "Epoch (val) 4/10: 100%|███████████████████████████████████████████████████████████| 23/23 [04:42<00:00, 12.30s/it, accepor_recall=0.921, donor_recall=0.91, loss=0.000271, pred_l1_dist=0]\n"
     ]
    },
    {
     "name": "stdout",
     "output_type": "stream",
     "text": [
      "\n",
      "\u001b[1mAcceptor:\u001b[0m\n",
      "0.9724\t0.9177\t0.9847\t0.9913\t0.9486\t0.9839000105857849\t0.609000027179718\t0.007000000216066837\t0.0007999999797903001\t21432\n",
      "\n",
      "\u001b[1mDonor:\u001b[0m\n",
      "0.9728\t0.9207\t0.9877\t0.9935\t0.953\t0.9760000109672546\t0.4049000144004822\t0.003100000089034438\t0.0005000000237487257\t21432\n",
      "epoch: 4/10, val loss = 0.000201\n"
     ]
    },
    {
     "name": "stderr",
     "output_type": "stream",
     "text": [
      "Epoch (train) 5/10: 100%|██████████████████████████████████████████████████████| 202/202 [33:26<00:00,  9.93s/it, accepor_recall=0.926, donor_recall=0.936, loss=0.000143, pred_l1_dist=0]\n"
     ]
    },
    {
     "name": "stdout",
     "output_type": "stream",
     "text": [
      "epoch: 5/10, train loss = 0.000138\n"
     ]
    },
    {
     "name": "stderr",
     "output_type": "stream",
     "text": [
      "Epoch (val) 5/10: 100%|██████████████████████████████████████████████████████████| 23/23 [04:40<00:00, 12.21s/it, accepor_recall=0.875, donor_recall=0.899, loss=0.000273, pred_l1_dist=0]\n"
     ]
    },
    {
     "name": "stdout",
     "output_type": "stream",
     "text": [
      "\n",
      "\u001b[1mAcceptor:\u001b[0m\n",
      "0.9758\t0.9141\t0.9848\t0.9908\t0.949\t0.949400007724762\t0.40209999680519104\t0.002400000113993883\t0.00039999998989515007\t21432\n",
      "\n",
      "\u001b[1mDonor:\u001b[0m\n",
      "0.9699\t0.9148\t0.9877\t0.9935\t0.9488\t0.934499979019165\t0.453000009059906\t0.0034000000450760126\t0.0006000000284984708\t21432\n",
      "epoch: 5/10, val loss = 0.000207\n"
     ]
    },
    {
     "name": "stderr",
     "output_type": "stream",
     "text": [
      "Epoch (train) 6/10: 100%|██████████████████████████████████████████████████████| 202/202 [33:41<00:00, 10.01s/it, accepor_recall=0.937, donor_recall=0.944, loss=0.000127, pred_l1_dist=0]\n"
     ]
    },
    {
     "name": "stdout",
     "output_type": "stream",
     "text": [
      "epoch: 6/10, train loss = 0.000129\n"
     ]
    },
    {
     "name": "stderr",
     "output_type": "stream",
     "text": [
      "Epoch (val) 6/10: 100%|██████████████████████████████████████████████████████████| 23/23 [05:31<00:00, 14.43s/it, accepor_recall=0.901, donor_recall=0.906, loss=0.000279, pred_l1_dist=0]\n"
     ]
    },
    {
     "name": "stdout",
     "output_type": "stream",
     "text": [
      "\n",
      "\u001b[1mAcceptor:\u001b[0m\n",
      "0.9759\t0.9162\t0.9857\t0.9922\t0.9514\t0.9848999977111816\t0.5005000233650208\t0.00430000014603138\t0.000699999975040555\t21432\n",
      "\n",
      "\u001b[1mDonor:\u001b[0m\n",
      "0.9756\t0.9224\t0.9904\t0.9949\t0.956\t0.9922000169754028\t0.3953999876976013\t0.0010999999940395355\t9.999999747378752e-05\t21432\n",
      "epoch: 6/10, val loss = 0.000203\n"
     ]
    },
    {
     "name": "stderr",
     "output_type": "stream",
     "text": [
      "Epoch (train) 7/10: 100%|███████████████████████████████████████████████████████| 202/202 [33:21<00:00,  9.91s/it, accepor_recall=0.943, donor_recall=0.95, loss=0.000113, pred_l1_dist=0]\n"
     ]
    },
    {
     "name": "stdout",
     "output_type": "stream",
     "text": [
      "epoch: 7/10, train loss = 0.000122\n"
     ]
    },
    {
     "name": "stderr",
     "output_type": "stream",
     "text": [
      "Epoch (val) 7/10: 100%|██████████████████████████████████████████████████████████| 23/23 [05:02<00:00, 13.14s/it, accepor_recall=0.872, donor_recall=0.916, loss=0.000263, pred_l1_dist=0]\n"
     ]
    },
    {
     "name": "stdout",
     "output_type": "stream",
     "text": [
      "\n",
      "\u001b[1mAcceptor:\u001b[0m\n",
      "0.9765\t0.9236\t0.9871\t0.9927\t0.955\t0.9555000066757202\t0.2363000065088272\t0.001500000013038516\t0.0003000000142492354\t21432\n",
      "\n",
      "\u001b[1mDonor:\u001b[0m\n",
      "0.9766\t0.926\t0.9904\t0.9957\t0.9584\t0.9790999889373779\t0.4650000035762787\t0.0013000000035390258\t0.00019999999494757503\t21432\n",
      "epoch: 7/10, val loss = 0.000194\n"
     ]
    },
    {
     "name": "stderr",
     "output_type": "stream",
     "text": [
      "Epoch (train) 8/10: 100%|███████████████████████████████████████████████████████| 202/202 [33:58<00:00, 10.09s/it, accepor_recall=0.955, donor_recall=0.958, loss=9.18e-5, pred_l1_dist=0]\n"
     ]
    },
    {
     "name": "stdout",
     "output_type": "stream",
     "text": [
      "epoch: 8/10, train loss = 0.000100\n"
     ]
    },
    {
     "name": "stderr",
     "output_type": "stream",
     "text": [
      "Epoch (val) 8/10: 100%|██████████████████████████████████████████████████████████| 23/23 [04:51<00:00, 12.67s/it, accepor_recall=0.898, donor_recall=0.911, loss=0.000247, pred_l1_dist=0]\n"
     ]
    },
    {
     "name": "stdout",
     "output_type": "stream",
     "text": [
      "\n",
      "\u001b[1mAcceptor:\u001b[0m\n",
      "0.9784\t0.9246\t0.9872\t0.9924\t0.9567\t0.9661999940872192\t0.3328000009059906\t0.002199999988079071\t0.00039999998989515007\t21432\n",
      "\n",
      "\u001b[1mDonor:\u001b[0m\n",
      "0.979\t0.9272\t0.9907\t0.9951\t0.9595\t0.9699000120162964\t0.36309999227523804\t0.0015999999595806003\t0.0003000000142492354\t21432\n",
      "epoch: 8/10, val loss = 0.000186\n"
     ]
    },
    {
     "name": "stderr",
     "output_type": "stream",
     "text": [
      "Epoch (train) 9/10: 100%|███████████████████████████████████████████████████████| 202/202 [33:31<00:00,  9.96s/it, accepor_recall=0.963, donor_recall=0.965, loss=8.22e-5, pred_l1_dist=0]\n"
     ]
    },
    {
     "name": "stdout",
     "output_type": "stream",
     "text": [
      "epoch: 9/10, train loss = 0.000086\n"
     ]
    },
    {
     "name": "stderr",
     "output_type": "stream",
     "text": [
      "Epoch (val) 9/10: 100%|██████████████████████████████████████████████████████████| 23/23 [04:45<00:00, 12.41s/it, accepor_recall=0.908, donor_recall=0.921, loss=0.000244, pred_l1_dist=0]\n"
     ]
    },
    {
     "name": "stdout",
     "output_type": "stream",
     "text": [
      "\n",
      "\u001b[1mAcceptor:\u001b[0m\n",
      "0.9778\t0.9312\t0.9885\t0.9933\t0.9589\t0.9848999977111816\t0.43059998750686646\t0.0010999999940395355\t0.00019999999494757503\t21432\n",
      "\n",
      "\u001b[1mDonor:\u001b[0m\n",
      "0.9769\t0.9322\t0.9917\t0.9959\t0.9614\t0.986299991607666\t0.4586000144481659\t0.0008999999845400453\t9.999999747378752e-05\t21432\n",
      "epoch: 9/10, val loss = 0.000178\n"
     ]
    },
    {
     "name": "stderr",
     "output_type": "stream",
     "text": [
      "Epoch (train) 10/10: 100%|███████████████████████████████████████████████████████| 202/202 [33:35<00:00,  9.98s/it, accepor_recall=0.967, donor_recall=0.97, loss=8.14e-5, pred_l1_dist=0]\n"
     ]
    },
    {
     "name": "stdout",
     "output_type": "stream",
     "text": [
      "epoch: 10/10, train loss = 0.000077\n"
     ]
    },
    {
     "name": "stderr",
     "output_type": "stream",
     "text": [
      "Epoch (val) 10/10: 100%|██████████████████████████████████████████████████████████| 23/23 [04:44<00:00, 12.39s/it, accepor_recall=0.915, donor_recall=0.918, loss=0.00024, pred_l1_dist=0]\n"
     ]
    },
    {
     "name": "stdout",
     "output_type": "stream",
     "text": [
      "\n",
      "\u001b[1mAcceptor:\u001b[0m\n",
      "0.9795\t0.9313\t0.9886\t0.9929\t0.9593\t0.9868999719619751\t0.4851999878883362\t0.00139999995008111\t0.00019999999494757503\t21432\n",
      "\n",
      "\u001b[1mDonor:\u001b[0m\n",
      "0.9811\t0.9339\t0.9912\t0.9952\t0.9619\t0.984499990940094\t0.4350000023841858\t0.0012000000569969416\t0.00019999999494757503\t21432\n",
      "epoch: 10/10, val loss = 0.000174\n"
     ]
    },
    {
     "data": {
      "image/png": "[encoded data removed]",
      "text/plain": [
       "<Figure size 432x288 with 1 Axes>"
      ]
     },
     "metadata": {
      "needs_background": "light"
     },
     "output_type": "display_data"
    },
    {
     "name": "stderr",
     "output_type": "stream",
     "text": [
      "Epoch (train) 1/10: 100%|███████████████████████████████████████████████████████| 202/202 [33:29<00:00,  9.95s/it, accepor_recall=0.872, donor_recall=0.88, loss=0.000227, pred_l1_dist=0]\n"
     ]
    },
    {
     "name": "stdout",
     "output_type": "stream",
     "text": [
      "epoch: 1/10, train loss = 0.007154\n"
     ]
    },
    {
     "name": "stderr",
     "output_type": "stream",
     "text": [
      "Epoch (val) 1/10: 100%|██████████████████████████████████████████████████████████| 23/23 [04:47<00:00, 12.51s/it, accepor_recall=0.896, donor_recall=0.922, loss=0.000424, pred_l1_dist=0]\n"
     ]
    },
    {
     "name": "stdout",
     "output_type": "stream",
     "text": [
      "\n",
      "\u001b[1mAcceptor:\u001b[0m\n",
      "0.9657\t0.8707\t0.9724\t0.9875\t0.9169\t0.9832000136375427\t0.6837000250816345\t0.03150000050663948\t0.003800000064074993\t21432\n",
      "\n",
      "\u001b[1mDonor:\u001b[0m\n",
      "0.9663\t0.8804\t0.9792\t0.991\t0.9262\t0.9842000007629395\t0.7573000192642212\t0.05959999933838844\t0.007699999958276749\t21432\n",
      "epoch: 1/10, val loss = 0.000321\n"
     ]
    },
    {
     "name": "stderr",
     "output_type": "stream",
     "text": [
      "Epoch (train) 2/10: 100%|██████████████████████████████████████████████████████| 202/202 [33:25<00:00,  9.93s/it, accepor_recall=0.889, donor_recall=0.903, loss=0.000197, pred_l1_dist=0]\n"
     ]
    },
    {
     "name": "stdout",
     "output_type": "stream",
     "text": [
      "epoch: 2/10, train loss = 0.000197\n"
     ]
    },
    {
     "name": "stderr",
     "output_type": "stream",
     "text": [
      "Epoch (val) 2/10: 100%|██████████████████████████████████████████████████████████| 23/23 [04:56<00:00, 12.88s/it, accepor_recall=0.901, donor_recall=0.889, loss=0.000286, pred_l1_dist=0]\n"
     ]
    },
    {
     "name": "stdout",
     "output_type": "stream",
     "text": [
      "\n",
      "\u001b[1mAcceptor:\u001b[0m\n",
      "0.9709\t0.9081\t0.983\t0.9915\t0.9444\t0.9527000188827515\t0.555400013923645\t0.009999999776482582\t0.0017000000225380063\t21432\n",
      "\n",
      "\u001b[1mDonor:\u001b[0m\n",
      "0.9723\t0.9059\t0.9871\t0.9934\t0.9442\t0.9273999929428101\t0.4794999957084656\t0.007600000128149986\t0.0010000000474974513\t21432\n",
      "epoch: 2/10, val loss = 0.000215\n"
     ]
    },
    {
     "name": "stderr",
     "output_type": "stream",
     "text": [
      "Epoch (train) 3/10: 100%|███████████████████████████████████████████████████████| 202/202 [33:37<00:00,  9.99s/it, accepor_recall=0.914, donor_recall=0.92, loss=0.000158, pred_l1_dist=0]\n"
     ]
    },
    {
     "name": "stdout",
     "output_type": "stream",
     "text": [
      "epoch: 3/10, train loss = 0.000170\n"
     ]
    },
    {
     "name": "stderr",
     "output_type": "stream",
     "text": [
      "Epoch (val) 3/10: 100%|██████████████████████████████████████████████████████████| 23/23 [04:44<00:00, 12.36s/it, accepor_recall=0.905, donor_recall=0.903, loss=0.000331, pred_l1_dist=0]\n"
     ]
    },
    {
     "name": "stdout",
     "output_type": "stream",
     "text": [
      "\n",
      "\u001b[1mAcceptor:\u001b[0m\n",
      "0.9701\t0.8924\t0.9792\t0.9906\t0.935\t0.9726999998092651\t0.6865000128746033\t0.03229999914765358\t0.004000000189989805\t21432\n",
      "\n",
      "\u001b[1mDonor:\u001b[0m\n",
      "0.9656\t0.8783\t0.9828\t0.993\t0.9275\t0.9455000162124634\t0.6437000036239624\t0.02889999933540821\t0.003800000064074993\t21432\n",
      "epoch: 3/10, val loss = 0.000267\n"
     ]
    },
    {
     "name": "stderr",
     "output_type": "stream",
     "text": [
      "Epoch (train) 4/10: 100%|██████████████████████████████████████████████████████| 202/202 [33:14<00:00,  9.87s/it, accepor_recall=0.926, donor_recall=0.933, loss=0.000165, pred_l1_dist=0]\n"
     ]
    },
    {
     "name": "stdout",
     "output_type": "stream",
     "text": [
      "epoch: 4/10, train loss = 0.000149\n"
     ]
    },
    {
     "name": "stderr",
     "output_type": "stream",
     "text": [
      "Epoch (val) 4/10: 100%|████████████████████████████████████████████████████████████| 23/23 [04:42<00:00, 12.27s/it, accepor_recall=0.9, donor_recall=0.911, loss=0.000284, pred_l1_dist=0]\n"
     ]
    },
    {
     "name": "stdout",
     "output_type": "stream",
     "text": [
      "\n",
      "\u001b[1mAcceptor:\u001b[0m\n",
      "0.9717\t0.9026\t0.9824\t0.9904\t0.9412\t0.9478999972343445\t0.583299994468689\t0.006300000008195639\t0.000699999975040555\t21432\n",
      "\n",
      "\u001b[1mDonor:\u001b[0m\n",
      "0.9709\t0.9041\t0.9882\t0.9946\t0.9458\t0.9595999717712402\t0.5920000076293945\t0.005799999926239252\t0.0006000000284984708\t21432\n",
      "epoch: 4/10, val loss = 0.000222\n"
     ]
    },
    {
     "name": "stderr",
     "output_type": "stream",
     "text": [
      "Epoch (train) 5/10: 100%|██████████████████████████████████████████████████████| 202/202 [34:42<00:00, 10.31s/it, accepor_recall=0.928, donor_recall=0.938, loss=0.000142, pred_l1_dist=0]\n"
     ]
    },
    {
     "name": "stdout",
     "output_type": "stream",
     "text": [
      "epoch: 5/10, train loss = 0.000138\n"
     ]
    },
    {
     "name": "stderr",
     "output_type": "stream",
     "text": [
      "Epoch (val) 5/10: 100%|██████████████████████████████████████████████████████████| 23/23 [05:02<00:00, 13.13s/it, accepor_recall=0.872, donor_recall=0.879, loss=0.000294, pred_l1_dist=0]\n"
     ]
    },
    {
     "name": "stdout",
     "output_type": "stream",
     "text": [
      "\n",
      "\u001b[1mAcceptor:\u001b[0m\n",
      "0.9742\t0.9156\t0.9835\t0.9915\t0.9476\t0.9901999831199646\t0.23280000686645508\t0.0010999999940395355\t0.00019999999494757503\t21432\n",
      "\n",
      "\u001b[1mDonor:\u001b[0m\n",
      "0.9756\t0.9159\t0.9879\t0.9936\t0.9524\t0.9728999733924866\t0.27900001406669617\t0.00139999995008111\t0.00019999999494757503\t21432\n",
      "epoch: 5/10, val loss = 0.000225\n"
     ]
    },
    {
     "name": "stderr",
     "output_type": "stream",
     "text": [
      "Epoch (train) 6/10: 100%|██████████████████████████████████████████████████████| 202/202 [34:07<00:00, 10.14s/it, accepor_recall=0.941, donor_recall=0.941, loss=0.000128, pred_l1_dist=0]\n"
     ]
    },
    {
     "name": "stdout",
     "output_type": "stream",
     "text": [
      "epoch: 6/10, train loss = 0.000128\n"
     ]
    },
    {
     "name": "stderr",
     "output_type": "stream",
     "text": [
      "Epoch (val) 6/10: 100%|██████████████████████████████████████████████████████████| 23/23 [04:45<00:00, 12.43s/it, accepor_recall=0.912, donor_recall=0.918, loss=0.000243, pred_l1_dist=0]\n"
     ]
    },
    {
     "name": "stdout",
     "output_type": "stream",
     "text": [
      "\n",
      "\u001b[1mAcceptor:\u001b[0m\n",
      "0.9766\t0.9204\t0.9867\t0.9929\t0.9533\t0.958899974822998\t0.4726000130176544\t0.005200000014156103\t0.0008999999845400453\t21432\n",
      "\n",
      "\u001b[1mDonor:\u001b[0m\n",
      "0.9736\t0.9239\t0.9913\t0.9952\t0.9563\t0.9447000026702881\t0.47369998693466187\t0.003700000001117587\t0.0005000000237487257\t21432\n",
      "epoch: 6/10, val loss = 0.000185\n"
     ]
    },
    {
     "name": "stderr",
     "output_type": "stream",
     "text": [
      "Epoch (train) 7/10: 100%|███████████████████████████████████████████████████████| 202/202 [33:47<00:00, 10.04s/it, accepor_recall=0.945, donor_recall=0.95, loss=0.000119, pred_l1_dist=0]\n"
     ]
    },
    {
     "name": "stdout",
     "output_type": "stream",
     "text": [
      "epoch: 7/10, train loss = 0.000120\n"
     ]
    },
    {
     "name": "stderr",
     "output_type": "stream",
     "text": [
      "Epoch (val) 7/10: 100%|██████████████████████████████████████████████████████████| 23/23 [04:44<00:00, 12.39s/it, accepor_recall=0.935, donor_recall=0.943, loss=0.000274, pred_l1_dist=0]\n"
     ]
    },
    {
     "name": "stdout",
     "output_type": "stream",
     "text": [
      "\n",
      "\u001b[1mAcceptor:\u001b[0m\n",
      "0.9754\t0.92\t0.9885\t0.9928\t0.954\t0.9936000108718872\t0.7700999975204468\t0.003100000089034438\t0.0005000000237487257\t21432\n",
      "\n",
      "\u001b[1mDonor:\u001b[0m\n",
      "0.9728\t0.9223\t0.9897\t0.9952\t0.9545\t0.9955999851226807\t0.7440000176429749\t0.0017999999690800905\t0.00019999999494757503\t21432\n",
      "epoch: 7/10, val loss = 0.000211\n"
     ]
    },
    {
     "name": "stderr",
     "output_type": "stream",
     "text": [
      "Epoch (train) 8/10: 100%|███████████████████████████████████████████████████████| 202/202 [33:39<00:00, 10.00s/it, accepor_recall=0.956, donor_recall=0.962, loss=8.38e-5, pred_l1_dist=0]\n"
     ]
    },
    {
     "name": "stdout",
     "output_type": "stream",
     "text": [
      "epoch: 8/10, train loss = 0.000099\n"
     ]
    },
    {
     "name": "stderr",
     "output_type": "stream",
     "text": [
      "Epoch (val) 8/10: 100%|██████████████████████████████████████████████████████████| 23/23 [04:42<00:00, 12.26s/it, accepor_recall=0.919, donor_recall=0.925, loss=0.000235, pred_l1_dist=0]\n"
     ]
    },
    {
     "name": "stdout",
     "output_type": "stream",
     "text": [
      "\n",
      "\u001b[1mAcceptor:\u001b[0m\n",
      "0.9784\t0.9278\t0.9879\t0.9934\t0.9582\t0.9829000234603882\t0.5462999939918518\t0.0026000000070780516\t0.00039999998989515007\t21432\n",
      "\n",
      "\u001b[1mDonor:\u001b[0m\n",
      "0.9771\t0.9308\t0.9912\t0.9952\t0.9608\t0.9858999848365784\t0.5573999881744385\t0.0020000000949949026\t0.0003000000142492354\t21432\n",
      "epoch: 8/10, val loss = 0.000177\n"
     ]
    },
    {
     "name": "stderr",
     "output_type": "stream",
     "text": [
      "Epoch (train) 9/10: 100%|███████████████████████████████████████████████████████| 202/202 [34:14<00:00, 10.17s/it, accepor_recall=0.965, donor_recall=0.964, loss=7.59e-5, pred_l1_dist=0]\n"
     ]
    },
    {
     "name": "stdout",
     "output_type": "stream",
     "text": [
      "epoch: 9/10, train loss = 0.000085\n"
     ]
    },
    {
     "name": "stderr",
     "output_type": "stream",
     "text": [
      "Epoch (val) 9/10: 100%|██████████████████████████████████████████████████████████| 23/23 [04:41<00:00, 12.23s/it, accepor_recall=0.913, donor_recall=0.921, loss=0.000235, pred_l1_dist=0]\n"
     ]
    },
    {
     "name": "stdout",
     "output_type": "stream",
     "text": [
      "\n",
      "\u001b[1mAcceptor:\u001b[0m\n",
      "0.9796\t0.9291\t0.9881\t0.9933\t0.959\t0.9884999990463257\t0.43810001015663147\t0.0024999999441206455\t0.00039999998989515007\t21432\n",
      "\n",
      "\u001b[1mDonor:\u001b[0m\n",
      "0.9779\t0.931\t0.9913\t0.9952\t0.9611\t0.9879000186920166\t0.5184999704360962\t0.0015999999595806003\t0.00019999999494757503\t21432\n",
      "epoch: 9/10, val loss = 0.000177\n"
     ]
    },
    {
     "name": "stderr",
     "output_type": "stream",
     "text": [
      "Epoch (train) 10/10: 100%|███████████████████████████████████████████████████████| 202/202 [33:35<00:00,  9.98s/it, accepor_recall=0.967, donor_recall=0.97, loss=8.12e-5, pred_l1_dist=0]\n"
     ]
    },
    {
     "name": "stdout",
     "output_type": "stream",
     "text": [
      "epoch: 10/10, train loss = 0.000077\n"
     ]
    },
    {
     "name": "stderr",
     "output_type": "stream",
     "text": [
      "Epoch (val) 10/10: 100%|██████████████████████████████████████████████████████████| 23/23 [04:41<00:00, 12.22s/it, accepor_recall=0.919, donor_recall=0.92, loss=0.000234, pred_l1_dist=0]\n"
     ]
    },
    {
     "name": "stdout",
     "output_type": "stream",
     "text": [
      "\n",
      "\u001b[1mAcceptor:\u001b[0m\n",
      "0.9806\t0.9314\t0.9879\t0.9935\t0.9596\t0.9873999953269958\t0.4855000078678131\t0.0019000000320374966\t0.0003000000142492354\t21432\n",
      "\n",
      "\u001b[1mDonor:\u001b[0m\n",
      "0.9792\t0.9329\t0.9906\t0.9944\t0.9629\t0.9879999756813049\t0.47209998965263367\t0.00139999995008111\t0.00019999999494757503\t21432\n",
      "epoch: 10/10, val loss = 0.000175\n"
     ]
    },
    {
     "data": {
      "image/png": "[encoded data removed]",
      "text/plain": [
       "<Figure size 432x288 with 1 Axes>"
      ]
     },
     "metadata": {
      "needs_background": "light"
     },
     "output_type": "display_data"
    },
    {
     "name": "stderr",
     "output_type": "stream",
     "text": [
      "Epoch (train) 1/10: 100%|███████████████████████████████████████████████████████| 202/202 [33:50<00:00, 10.05s/it, accepor_recall=0.871, donor_recall=0.882, loss=0.00021, pred_l1_dist=0]\n"
     ]
    },
    {
     "name": "stdout",
     "output_type": "stream",
     "text": [
      "epoch: 1/10, train loss = 0.007779\n"
     ]
    },
    {
     "name": "stderr",
     "output_type": "stream",
     "text": [
      "Epoch (val) 1/10: 100%|██████████████████████████████████████████████████████████| 23/23 [04:45<00:00, 12.40s/it, accepor_recall=0.525, donor_recall=0.571, loss=0.000738, pred_l1_dist=0]\n"
     ]
    },
    {
     "name": "stdout",
     "output_type": "stream",
     "text": [
      "\n",
      "\u001b[1mAcceptor:\u001b[0m\n",
      "0.9457\t0.7844\t0.9163\t0.9536\t0.8392\t0.6626999974250793\t0.06430000066757202\t0.006399999838322401\t0.0010000000474974513\t21432\n",
      "\n",
      "\u001b[1mDonor:\u001b[0m\n",
      "0.931\t0.7602\t0.8945\t0.9294\t0.8073\t0.7519999742507935\t0.07989999651908875\t0.006200000178068876\t0.0010999999940395355\t21432\n",
      "epoch: 1/10, val loss = 0.000681\n"
     ]
    },
    {
     "name": "stderr",
     "output_type": "stream",
     "text": [
      "Epoch (train) 2/10: 100%|██████████████████████████████████████████████████████| 202/202 [33:40<00:00, 10.00s/it, accepor_recall=0.895, donor_recall=0.908, loss=0.000181, pred_l1_dist=0]\n"
     ]
    },
    {
     "name": "stdout",
     "output_type": "stream",
     "text": [
      "epoch: 2/10, train loss = 0.000197\n"
     ]
    },
    {
     "name": "stderr",
     "output_type": "stream",
     "text": [
      "Epoch (val) 2/10: 100%|███████████████████████████████████████████████████████████| 23/23 [04:44<00:00, 12.38s/it, accepor_recall=0.882, donor_recall=0.885, loss=0.00029, pred_l1_dist=0]\n"
     ]
    },
    {
     "name": "stdout",
     "output_type": "stream",
     "text": [
      "\n",
      "\u001b[1mAcceptor:\u001b[0m\n",
      "0.9717\t0.8983\t0.9818\t0.9906\t0.9376\t0.9684000015258789\t0.4968999922275543\t0.00989999994635582\t0.00139999995008111\t21432\n",
      "\n",
      "\u001b[1mDonor:\u001b[0m\n",
      "0.9725\t0.9059\t0.9864\t0.9937\t0.9446\t0.9746000170707703\t0.43459999561309814\t0.007799999788403511\t0.0010000000474974513\t21432\n",
      "epoch: 2/10, val loss = 0.000225\n"
     ]
    },
    {
     "name": "stderr",
     "output_type": "stream",
     "text": [
      "Epoch (train) 3/10: 100%|███████████████████████████████████████████████████████| 202/202 [34:13<00:00, 10.17s/it, accepor_recall=0.917, donor_recall=0.93, loss=0.000151, pred_l1_dist=0]\n"
     ]
    },
    {
     "name": "stdout",
     "output_type": "stream",
     "text": [
      "epoch: 3/10, train loss = 0.000166\n"
     ]
    },
    {
     "name": "stderr",
     "output_type": "stream",
     "text": [
      "Epoch (val) 3/10: 100%|██████████████████████████████████████████████████████████| 23/23 [05:18<00:00, 13.85s/it, accepor_recall=0.897, donor_recall=0.927, loss=0.000296, pred_l1_dist=0]\n"
     ]
    },
    {
     "name": "stdout",
     "output_type": "stream",
     "text": [
      "\n",
      "\u001b[1mAcceptor:\u001b[0m\n",
      "0.9743\t0.9065\t0.9826\t0.992\t0.9427\t0.9836000204086304\t0.6096000075340271\t0.006800000090152025\t0.0008999999845400453\t21432\n",
      "\n",
      "\u001b[1mDonor:\u001b[0m\n",
      "0.9736\t0.9101\t0.9892\t0.9945\t0.9494\t0.9876999855041504\t0.7081999778747559\t0.006399999838322401\t0.0005000000237487257\t21432\n",
      "epoch: 3/10, val loss = 0.000225\n"
     ]
    },
    {
     "name": "stderr",
     "output_type": "stream",
     "text": [
      "Epoch (train) 4/10: 100%|██████████████████████████████████████████████████████| 202/202 [34:17<00:00, 10.19s/it, accepor_recall=0.927, donor_recall=0.936, loss=0.000157, pred_l1_dist=0]\n"
     ]
    },
    {
     "name": "stdout",
     "output_type": "stream",
     "text": [
      "epoch: 4/10, train loss = 0.000150\n"
     ]
    },
    {
     "name": "stderr",
     "output_type": "stream",
     "text": [
      "Epoch (val) 4/10: 100%|██████████████████████████████████████████████████████████| 23/23 [04:42<00:00, 12.30s/it, accepor_recall=0.907, donor_recall=0.898, loss=0.000259, pred_l1_dist=0]\n"
     ]
    },
    {
     "name": "stdout",
     "output_type": "stream",
     "text": [
      "\n",
      "\u001b[1mAcceptor:\u001b[0m\n",
      "0.9759\t0.9174\t0.985\t0.9923\t0.9499\t0.9649999737739563\t0.4837000072002411\t0.008700000122189522\t0.0017000000225380063\t21432\n",
      "\n",
      "\u001b[1mDonor:\u001b[0m\n",
      "0.9743\t0.9177\t0.9894\t0.9953\t0.953\t0.9175000190734863\t0.413100004196167\t0.004800000227987766\t0.000699999975040555\t21432\n",
      "epoch: 4/10, val loss = 0.000196\n"
     ]
    },
    {
     "name": "stderr",
     "output_type": "stream",
     "text": [
      "Epoch (train) 5/10: 100%|███████████████████████████████████████████████████████| 202/202 [34:00<00:00, 10.10s/it, accepor_recall=0.942, donor_recall=0.947, loss=0.00012, pred_l1_dist=0]\n"
     ]
    },
    {
     "name": "stdout",
     "output_type": "stream",
     "text": [
      "epoch: 5/10, train loss = 0.000138\n"
     ]
    },
    {
     "name": "stderr",
     "output_type": "stream",
     "text": [
      "Epoch (val) 5/10: 100%|████████████████████████████████████████████████████████████| 23/23 [04:49<00:00, 12.59s/it, accepor_recall=0.838, donor_recall=0.861, loss=0.0003, pred_l1_dist=0]\n"
     ]
    },
    {
     "name": "stdout",
     "output_type": "stream",
     "text": [
      "\n",
      "\u001b[1mAcceptor:\u001b[0m\n",
      "0.9725\t0.9136\t0.9823\t0.9903\t0.945\t0.9613000154495239\t0.14830000698566437\t0.0010000000474974513\t0.00019999999494757503\t21432\n",
      "\n",
      "\u001b[1mDonor:\u001b[0m\n",
      "0.9731\t0.9199\t0.9903\t0.9948\t0.9529\t0.9455999732017517\t0.22630000114440918\t0.00139999995008111\t0.00019999999494757503\t21432\n",
      "epoch: 5/10, val loss = 0.000234\n"
     ]
    },
    {
     "name": "stderr",
     "output_type": "stream",
     "text": [
      "Epoch (train) 6/10: 100%|██████████████████████████████████████████████████████| 202/202 [33:25<00:00,  9.93s/it, accepor_recall=0.945, donor_recall=0.949, loss=0.000119, pred_l1_dist=0]\n"
     ]
    },
    {
     "name": "stdout",
     "output_type": "stream",
     "text": [
      "epoch: 6/10, train loss = 0.000129\n"
     ]
    },
    {
     "name": "stderr",
     "output_type": "stream",
     "text": [
      "Epoch (val) 6/10: 100%|████████████████████████████████████████████████████████████| 23/23 [04:40<00:00, 12.21s/it, accepor_recall=0.88, donor_recall=0.917, loss=0.00026, pred_l1_dist=0]\n"
     ]
    },
    {
     "name": "stdout",
     "output_type": "stream",
     "text": [
      "\n",
      "\u001b[1mAcceptor:\u001b[0m\n",
      "0.9789\t0.915\t0.9867\t0.9927\t0.952\t0.9696000218391418\t0.4187999963760376\t0.0044999998062849045\t0.0006000000284984708\t21432\n",
      "\n",
      "\u001b[1mDonor:\u001b[0m\n",
      "0.9772\t0.9197\t0.9903\t0.995\t0.9569\t0.9886999726295471\t0.5537999868392944\t0.002400000113993883\t0.00019999999494757503\t21432\n",
      "epoch: 6/10, val loss = 0.000196\n"
     ]
    },
    {
     "name": "stderr",
     "output_type": "stream",
     "text": [
      "Epoch (train) 7/10: 100%|██████████████████████████████████████████████████████| 202/202 [33:37<00:00,  9.99s/it, accepor_recall=0.941, donor_recall=0.946, loss=0.000139, pred_l1_dist=0]\n"
     ]
    },
    {
     "name": "stdout",
     "output_type": "stream",
     "text": [
      "epoch: 7/10, train loss = 0.000122\n"
     ]
    },
    {
     "name": "stderr",
     "output_type": "stream",
     "text": [
      "Epoch (val) 7/10: 100%|██████████████████████████████████████████████████████████| 23/23 [05:11<00:00, 13.52s/it, accepor_recall=0.926, donor_recall=0.936, loss=0.000257, pred_l1_dist=0]\n"
     ]
    },
    {
     "name": "stdout",
     "output_type": "stream",
     "text": [
      "\n",
      "\u001b[1mAcceptor:\u001b[0m\n",
      "0.9741\t0.9204\t0.9883\t0.9935\t0.9523\t0.9850999712944031\t0.6373999714851379\t0.004900000058114529\t0.0006000000284984708\t21432\n",
      "\n",
      "\u001b[1mDonor:\u001b[0m\n",
      "0.9727\t0.9203\t0.9908\t0.9944\t0.9519\t0.98089998960495\t0.6772000193595886\t0.005400000140070915\t0.000699999975040555\t21432\n",
      "epoch: 7/10, val loss = 0.000193\n"
     ]
    },
    {
     "name": "stderr",
     "output_type": "stream",
     "text": [
      "Epoch (train) 8/10: 100%|███████████████████████████████████████████████████████| 202/202 [33:39<00:00, 10.00s/it, accepor_recall=0.955, donor_recall=0.96, loss=0.000104, pred_l1_dist=0]\n"
     ]
    },
    {
     "name": "stdout",
     "output_type": "stream",
     "text": [
      "epoch: 8/10, train loss = 0.000100\n"
     ]
    },
    {
     "name": "stderr",
     "output_type": "stream",
     "text": [
      "Epoch (val) 8/10: 100%|██████████████████████████████████████████████████████████| 23/23 [04:43<00:00, 12.35s/it, accepor_recall=0.908, donor_recall=0.931, loss=0.000248, pred_l1_dist=0]\n"
     ]
    },
    {
     "name": "stdout",
     "output_type": "stream",
     "text": [
      "\n",
      "\u001b[1mAcceptor:\u001b[0m\n",
      "0.9769\t0.9219\t0.9875\t0.9931\t0.9539\t0.9789000153541565\t0.5034999847412109\t0.002199999988079071\t0.00039999998989515007\t21432\n",
      "\n",
      "\u001b[1mDonor:\u001b[0m\n",
      "0.9765\t0.926\t0.9913\t0.9955\t0.959\t0.988099992275238\t0.5782999992370605\t0.002099999925121665\t0.0003000000142492354\t21432\n",
      "epoch: 8/10, val loss = 0.000188\n"
     ]
    },
    {
     "name": "stderr",
     "output_type": "stream",
     "text": [
      "Epoch (train) 9/10: 100%|███████████████████████████████████████████████████████| 202/202 [33:40<00:00, 10.00s/it, accepor_recall=0.964, donor_recall=0.963, loss=9.09e-5, pred_l1_dist=0]\n"
     ]
    },
    {
     "name": "stdout",
     "output_type": "stream",
     "text": [
      "epoch: 9/10, train loss = 0.000086\n"
     ]
    },
    {
     "name": "stderr",
     "output_type": "stream",
     "text": [
      "Epoch (val) 9/10: 100%|██████████████████████████████████████████████████████████| 23/23 [04:44<00:00, 12.37s/it, accepor_recall=0.926, donor_recall=0.938, loss=0.000232, pred_l1_dist=0]\n"
     ]
    },
    {
     "name": "stdout",
     "output_type": "stream",
     "text": [
      "\n",
      "\u001b[1mAcceptor:\u001b[0m\n",
      "0.98\t0.9287\t0.989\t0.993\t0.9597\t0.9829999804496765\t0.6031000018119812\t0.003000000026077032\t0.00039999998989515007\t21432\n",
      "\n",
      "\u001b[1mDonor:\u001b[0m\n",
      "0.979\t0.9302\t0.992\t0.996\t0.9628\t0.9858999848365784\t0.6531999707221985\t0.004100000020116568\t0.0005000000237487257\t21432\n",
      "epoch: 9/10, val loss = 0.000171\n"
     ]
    },
    {
     "name": "stderr",
     "output_type": "stream",
     "text": [
      "Epoch (train) 10/10: 100%|██████████████████████████████████████████████████████| 202/202 [33:33<00:00,  9.97s/it, accepor_recall=0.968, donor_recall=0.968, loss=8.51e-5, pred_l1_dist=0]\n"
     ]
    },
    {
     "name": "stdout",
     "output_type": "stream",
     "text": [
      "epoch: 10/10, train loss = 0.000077\n"
     ]
    },
    {
     "name": "stderr",
     "output_type": "stream",
     "text": [
      "Epoch (val) 10/10: 100%|█████████████████████████████████████████████████████████| 23/23 [04:44<00:00, 12.37s/it, accepor_recall=0.924, donor_recall=0.937, loss=0.000231, pred_l1_dist=0]\n"
     ]
    },
    {
     "name": "stdout",
     "output_type": "stream",
     "text": [
      "\n",
      "\u001b[1mAcceptor:\u001b[0m\n",
      "0.9797\t0.9309\t0.9881\t0.9929\t0.9593\t0.9872000217437744\t0.5598000288009644\t0.0017000000225380063\t0.0003000000142492354\t21432\n",
      "\n",
      "\u001b[1mDonor:\u001b[0m\n",
      "0.9791\t0.9312\t0.9916\t0.9958\t0.9634\t0.9864000082015991\t0.5680000185966492\t0.0017999999690800905\t0.00019999999494757503\t21432\n",
      "epoch: 10/10, val loss = 0.000174\n"
     ]
    },
    {
     "data": {
      "image/png": "[encoded data removed]",
      "text/plain": [
       "<Figure size 432x288 with 1 Axes>"
      ]
     },
     "metadata": {
      "needs_background": "light"
     },
     "output_type": "display_data"
    }
   ],
   "source": [
    "device = torch.device(\"cuda\" if torch.cuda.is_available() else \"cpu\")\n",
    "epochs = 10\n",
    "hs = []\n",
    "\n",
    "for model_nr in range(5):\n",
    "    model_m = SpliceFormer(CL_max,depth=2,n_transformer_blocks=4,mlp_dim=1024)\n",
    "    model_m.apply(keras_init)\n",
    "    model_m = model_m.to(device)\n",
    "    if torch.cuda.device_count() > 1:\n",
    "        #print(\"Let's use\", torch.cuda.device_count(), \"GPUs!\")\n",
    "        # dim = 0 [30, xxx] -> [10, ...], [10, ...], [10, ...] on 3 GPUs\n",
    "        model_m = nn.DataParallel(model_m)\n",
    "    \n",
    "    modelFileName = '../Results/PyTorch_Models/transformer_encoder_80k_240522_{}'.format(model_nr)\n",
    "    #model_m.load_state_dict(torch.load('../Results/PyTorch_Models/SpliceAI_Ensembl_dgxtest_{}'.format(0)))\n",
    "    #loss = nn.CrossEntropyLoss(weight=torch.from_numpy(weights).float().to(device),ignore_index=-1,reduction='mean')\n",
    "    loss = categorical_crossentropy_2d().loss\n",
    "    #loss = nn.KLDivLoss()\n",
    "    learning_rate= k*1e-3\n",
    "    optimizer = torch.optim.Adam(model_m.parameters(), lr=learning_rate)\n",
    "    scheduler = torch.optim.lr_scheduler.StepLR(optimizer, step_size=1, gamma=0.5)\n",
    "    warmup = get_constant_schedule_with_warmup(optimizer, num_warmup_steps=1000)\n",
    "    h = trainModel(model_m,modelFileName,loss,train_loader,val_loader,optimizer,scheduler,warmup,BATCH_SIZE,epochs,device)\n",
    "    hs.append(h)\n",
    "\n",
    "    plt.plot(range(epochs),h['loss'],label='Train')\n",
    "    plt.plot(range(epochs),h['val_loss'],label='Validation')\n",
    "    plt.xlabel('Epoch')\n",
    "    plt.ylabel('Loss')\n",
    "    plt.legend()\n",
    "    plt.show()"
   ]
  },
  {
   "cell_type": "code",
   "execution_count": 14,
   "metadata": {},
   "outputs": [
    {
     "name": "stdout",
     "output_type": "stream",
     "text": [
      "Mean loss = 0.00016880000000000004, std = 3.429285639896452e-06\n",
      "Coef of variation = 0.020315673222135375\n"
     ]
    }
   ],
   "source": [
    "val_loss = [0.000170,0.000167,0.000163,0.000172,0.000172]\n",
    "print('Mean loss = {}, std = {}'.format(np.mean(val_loss),np.std(val_loss)))\n",
    "print('Coef of variation = {}'.format(np.std(val_loss)/np.mean(val_loss)))"
   ]
  },
  {
   "cell_type": "code",
   "execution_count": 13,
   "metadata": {},
   "outputs": [
    {
     "name": "stdout",
     "output_type": "stream",
     "text": [
      "Mean PR-AUC = 0.9593800000000001, std = 0.0007736924453553946\n",
      "Coef of variation = 0.0008064504631693328\n"
     ]
    }
   ],
   "source": [
    "val_prauc = [(0.9612+0.9574)/2,(0.9575+0.9599)/2,(0.9586+0.9627)/2,(0.9574+0.9596)/2,(0.9592+0.9603)/2]\n",
    "print('Mean PR-AUC = {}, std = {}'.format(np.mean(val_prauc),np.std(val_prauc)))\n",
    "print('Coef of variation = {}'.format(np.std(val_prauc)/np.mean(val_prauc)))"
   ]
  },
  {
   "cell_type": "code",
   "execution_count": 12,
   "metadata": {},
   "outputs": [
    {
     "name": "stderr",
     "output_type": "stream",
     "text": [
      "100%|███████████████████████████████████████████████████████████████████████████████████| 17/17 [06:36<00:00, 23.30s/it]\n"
     ]
    }
   ],
   "source": [
    "device = torch.device(\"cuda\" if torch.cuda.is_available() else \"cpu\")\n",
    "h5f = h5py.File('/odinn/tmp/benediktj/Data/SplicePrediction/gencode_40k_dataset_test_.h5')\n",
    "\n",
    "num_idx = len(h5f.keys())//2\n",
    "\n",
    "test_dataset = h5pyDataset(h5f,list(range(num_idx)))\n",
    "test_loader = torch.utils.data.DataLoader(test_dataset, batch_size=1, shuffle=False, num_workers=0)\n",
    "\n",
    "temp = 1\n",
    "n_models = 5\n",
    "device = torch.device(\"cuda\" if torch.cuda.is_available() else \"cpu\")\n",
    "model_m = SpliceFormer(CL_max,depth=2,n_transformer_blocks=4,mlp_dim=1024)\n",
    "model_m.apply(keras_init)\n",
    "model_m = model_m.to(device)\n",
    "\n",
    "if torch.cuda.device_count() > 1:\n",
    "    model_m = nn.DataParallel(model_m)\n",
    "\n",
    "output_class_labels = ['Null', 'Acceptor', 'Donor']\n",
    "\n",
    "#for output_class in [1,2]:\n",
    "models = [copy.deepcopy(model_m) for i in range(n_models)]\n",
    "[model.load_state_dict(torch.load('../Results/PyTorch_Models/transformer_encoder_80k_240522_{}'.format(i))) for i,model in enumerate(models)]\n",
    "\n",
    "for model in models:\n",
    "    model.eval()\n",
    "    \n",
    "Y_true_acceptor, Y_pred_acceptor = [],[]\n",
    "Y_true_donor, Y_pred_donor = [],[]\n",
    "\n",
    "for (batch_chunks,target_chunks) in tqdm(test_loader):\n",
    "    batch_chunks = torch.transpose(batch_chunks[0].to(device),1,2)\n",
    "    target_chunks = torch.transpose(torch.squeeze(target_chunks[0].to(device),0),1,2)\n",
    "    #print(np.max(target_chunks.cpu().numpy()[:,2,:]))\n",
    "    n_chunks = int(np.ceil(batch_chunks.shape[0]/BATCH_SIZE))\n",
    "    batch_chunks = torch.chunk(batch_chunks, n_chunks, dim=0)\n",
    "    target_chunks = torch.chunk(target_chunks, n_chunks, dim=0)\n",
    "    targets_list = []\n",
    "    outputs_list = []\n",
    "    for j in range(len(batch_chunks)):\n",
    "        batch_features = batch_chunks[j]\n",
    "        targets = target_chunks[j]\n",
    "        outputs = ([models[i](batch_features)[1].detach() for i in range(n_models)])\n",
    "        outputs = (outputs[0]+outputs[1]+outputs[2]+outputs[3]+outputs[4])/n_models\n",
    "        #outputs = (outputs[0]+outputs[1]+outputs[2])/n_models\n",
    "        targets_list.extend(targets.unsqueeze(0))\n",
    "        outputs_list.extend(outputs.unsqueeze(0))\n",
    "\n",
    "    targets = torch.transpose(torch.vstack(targets_list),1,2).cpu().numpy()\n",
    "    outputs = torch.transpose(torch.vstack(outputs_list),1,2).cpu().numpy()\n",
    "\n",
    "    is_expr = (targets.sum(axis=(1,2)) >= 1)\n",
    "    Y_true_acceptor.extend(targets[is_expr, :, 1].flatten())\n",
    "    Y_true_donor.extend(targets[is_expr, :, 2].flatten())\n",
    "    Y_pred_acceptor.extend(outputs[is_expr, :, 1].flatten())\n",
    "    Y_pred_donor.extend(outputs[is_expr, :, 2].flatten())"
   ]
  },
  {
   "cell_type": "code",
   "execution_count": 13,
   "metadata": {},
   "outputs": [
    {
     "name": "stdout",
     "output_type": "stream",
     "text": [
      "\n",
      "\u001b[1mAcceptor:\u001b[0m\n",
      "0.9961\t0.9486\t0.9881\t0.9913\t0.9779\t0.9782999753952026\t0.3280999958515167\t0.002899999963119626\t0.0005000000237487257\t14289\n",
      "\n",
      "\u001b[1mDonor:\u001b[0m\n",
      "0.9958\t0.9523\t0.9896\t0.9921\t0.9797\t0.9785000085830688\t0.33739998936653137\t0.002199999988079071\t0.0003000000142492354\t14289\n"
     ]
    }
   ],
   "source": [
    "Y_true_acceptor, Y_pred_acceptor,Y_true_donor, Y_pred_donor = np.array(Y_true_acceptor), np.array(Y_pred_acceptor),np.array(Y_true_donor), np.array(Y_pred_donor)\n",
    "print(\"\\n\\033[1m{}:\\033[0m\".format('Acceptor'))\n",
    "acceptor_val_results = print_topl_statistics(Y_true_acceptor, Y_pred_acceptor)\n",
    "print(\"\\n\\033[1m{}:\\033[0m\".format('Donor'))\n",
    "donor_val_results =print_topl_statistics(Y_true_donor, Y_pred_donor)"
   ]
  },
  {
   "cell_type": "code",
   "execution_count": 19,
   "metadata": {},
   "outputs": [
    {
     "data": {
      "text/plain": [
       "0.95045"
      ]
     },
     "execution_count": 19,
     "metadata": {},
     "output_type": "execute_result"
    }
   ],
   "source": [
    "(0.9486+0.9523)/2"
   ]
  },
  {
   "cell_type": "code",
   "execution_count": 18,
   "metadata": {},
   "outputs": [
    {
     "data": {
      "text/plain": [
       "0.9788"
      ]
     },
     "execution_count": 18,
     "metadata": {},
     "output_type": "execute_result"
    }
   ],
   "source": [
    "(0.9779+0.9797)/2"
   ]
  },
  {
   "cell_type": "code",
   "execution_count": 11,
   "metadata": {},
   "outputs": [],
   "source": [
    "setType = 'test'\n",
    "annotation_test, transcriptToLabel_test, seqData = getData(data_dir, setType)    \n"
   ]
  },
  {
   "cell_type": "code",
   "execution_count": 12,
   "metadata": {
    "scrolled": true
   },
   "outputs": [
    {
     "name": "stderr",
     "output_type": "stream",
     "text": [
      "100%|██████████████████████████████████████████████████████████████████████████████████████████████████████████████████████████████████████████████████| 90/90 [5:25:10<00:00, 216.78s/it]\n"
     ]
    }
   ],
   "source": [
    "temp = 1\n",
    "n_models = 5\n",
    "device = torch.device(\"cuda\" if torch.cuda.is_available() else \"cpu\")\n",
    "model_m = SpliceFormer(CL_max,depth=2,n_transformer_blocks=4,mlp_dim=1024)\n",
    "model_m.apply(keras_init)\n",
    "model_m = model_m.to(device)\n",
    "\n",
    "if torch.cuda.device_count() > 1:\n",
    "    model_m = nn.DataParallel(model_m)\n",
    "\n",
    "output_class_labels = ['Null', 'Acceptor', 'Donor']\n",
    "\n",
    "#for output_class in [1,2]:\n",
    "models = [copy.deepcopy(model_m) for i in range(n_models)]\n",
    "[model.load_state_dict(torch.load('../Results/PyTorch_Models/transformer_encoder_80k_240522_{}'.format(i))) for i,model in enumerate(models)]\n",
    "#nr = [0,2,3]\n",
    "#[model.load_state_dict(torch.load('../Results/PyTorch_Models/transformer_encoder_40k_201221_{}'.format(nr[i]))) for i,model in enumerate(models)]\n",
    "#chunkSize = num_idx/10\n",
    "for model in models:\n",
    "    model.eval()\n",
    "\n",
    "Y_true_acceptor, Y_pred_acceptor = [],[]\n",
    "Y_true_donor, Y_pred_donor = [],[]\n",
    "test_dataset = spliceDataset(annotation_test,transcriptToLabel_test,SL,CL_max)\n",
    "test_dataset.seqData = seqData\n",
    "test_loader = torch.utils.data.DataLoader(test_dataset, batch_size=100, shuffle=False, num_workers=0,collate_fn=collate_fn, pin_memory=True)\n",
    "\n",
    "\n",
    "for (batch_chunks,target_chunks) in tqdm(test_loader):\n",
    "    batch_chunks = torch.transpose(batch_chunks.to(device),1,2)\n",
    "    target_chunks = torch.transpose(torch.squeeze(target_chunks.to(device),0),1,2)\n",
    "    batch_chunks = torch.split(batch_chunks, BATCH_SIZE, dim=0)\n",
    "    target_chunks = torch.split(target_chunks, BATCH_SIZE, dim=0)\n",
    "    targets_list = []\n",
    "    outputs_list = []\n",
    "    for j in range(len(batch_chunks)):\n",
    "        batch_features = batch_chunks[j]\n",
    "        targets = target_chunks[j]\n",
    "        outputs = ([models[i](batch_features)[1].detach() for i in range(n_models)])\n",
    "        outputs = (outputs[0]+outputs[1]+outputs[2]+outputs[3]+outputs[4])/n_models\n",
    "        #outputs = (outputs[0]+outputs[1]+outputs[2])/n_models\n",
    "        targets_list.extend(targets.unsqueeze(0))\n",
    "        outputs_list.extend(outputs.unsqueeze(0))\n",
    "\n",
    "    targets = torch.transpose(torch.vstack(targets_list),1,2).cpu().numpy()\n",
    "    outputs = torch.transpose(torch.vstack(outputs_list),1,2).cpu().numpy()\n",
    "\n",
    "    is_expr = (targets.sum(axis=(1,2)) >= 1)\n",
    "    Y_true_acceptor.extend(targets[is_expr, :, 1].flatten())\n",
    "    Y_true_donor.extend(targets[is_expr, :, 2].flatten())\n",
    "    Y_pred_acceptor.extend(outputs[is_expr, :, 1].flatten())\n",
    "    Y_pred_donor.extend(outputs[is_expr, :, 2].flatten())\n",
    "\n"
   ]
  },
  {
   "cell_type": "code",
   "execution_count": 13,
   "metadata": {},
   "outputs": [
    {
     "name": "stdout",
     "output_type": "stream",
     "text": [
      "\n",
      "\u001b[1mAcceptor:\u001b[0m\n",
      "0.9825\t0.9389\t0.9915\t0.9958\t0.9675\t0.9828000068664551\t0.46129998564720154\t0.002400000113993883\t0.0003000000142492354\t89712\n",
      "\n",
      "\u001b[1mDonor:\u001b[0m\n",
      "0.9836\t0.9432\t0.9939\t0.997\t0.9708\t0.9829000234603882\t0.4878999888896942\t0.0019000000320374966\t0.00019999999494757503\t89712\n"
     ]
    }
   ],
   "source": [
    "Y_true_acceptor, Y_pred_acceptor,Y_true_donor, Y_pred_donor = np.array(Y_true_acceptor), np.array(Y_pred_acceptor),np.array(Y_true_donor), np.array(Y_pred_donor)\n",
    "print(\"\\n\\033[1m{}:\\033[0m\".format('Acceptor'))\n",
    "acceptor_val_results = print_topl_statistics(Y_true_acceptor, Y_pred_acceptor)\n",
    "print(\"\\n\\033[1m{}:\\033[0m\".format('Donor'))\n",
    "donor_val_results =print_topl_statistics(Y_true_donor, Y_pred_donor)"
   ]
  },
  {
   "cell_type": "code",
   "execution_count": 20,
   "metadata": {},
   "outputs": [
    {
     "data": {
      "text/plain": [
       "0.94225"
      ]
     },
     "execution_count": 20,
     "metadata": {},
     "output_type": "execute_result"
    }
   ],
   "source": [
    "(0.9399+0.9446)/2"
   ]
  },
  {
   "cell_type": "code",
   "execution_count": 14,
   "metadata": {},
   "outputs": [
    {
     "data": {
      "text/plain": [
       "0.96915"
      ]
     },
     "execution_count": 14,
     "metadata": {},
     "output_type": "execute_result"
    }
   ],
   "source": [
    "(0.9708+0.9675)/2"
   ]
  },
  {
   "cell_type": "code",
   "execution_count": null,
   "metadata": {},
   "outputs": [],
   "source": []
  }
 ],
 "metadata": {
  "kernelspec": {
   "display_name": "Python 3 (ipykernel)",
   "language": "python",
   "name": "python3"
  },
  "language_info": {
   "codemirror_mode": {
    "name": "ipython",
    "version": 3
   },
   "file_extension": ".py",
   "mimetype": "text/x-python",
   "name": "python",
   "nbconvert_exporter": "python",
   "pygments_lexer": "ipython3",
   "version": "3.8.12"
  }
 },
 "nbformat": 4,
 "nbformat_minor": 4
}
