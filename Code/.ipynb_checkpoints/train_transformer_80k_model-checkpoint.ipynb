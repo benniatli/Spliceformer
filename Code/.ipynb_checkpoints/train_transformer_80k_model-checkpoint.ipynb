{
 "cells": [
  {
   "cell_type": "code",
   "execution_count": 1,
   "metadata": {},
   "outputs": [],
   "source": [
    "import numpy as np\n",
    "import sys\n",
    "import time\n",
    "import h5py\n",
    "from tqdm import tqdm\n",
    "\n",
    "import numpy as np\n",
    "import re\n",
    "from math import ceil\n",
    "from sklearn.metrics import average_precision_score\n",
    "from torch.utils.data import Dataset\n",
    "import torch\n",
    "import torch.nn as nn\n",
    "import pandas as pd\n",
    "import matplotlib.pyplot as plt\n",
    "import pickle\n",
    "#import pickle5 as pickle\n",
    "\n",
    "from sklearn.model_selection import train_test_split\n",
    "\n",
    "from scipy.sparse import load_npz\n",
    "from glob import glob\n",
    "\n",
    "from transformers import get_constant_schedule_with_warmup\n",
    "from sklearn.metrics import precision_score,recall_score,accuracy_score\n",
    "import copy\n",
    "\n",
    "from src.train import trainModel\n",
    "from src.dataloader import getData,spliceDataset,h5pyDataset,collate_fn\n",
    "from src.weight_init import keras_init\n",
    "from src.losses import categorical_crossentropy_2d\n",
    "from src.models import SpliceFormer\n",
    "from src.evaluation_metrics import print_topl_statistics\n",
    "#import tensorflow as tf"
   ]
  },
  {
   "cell_type": "code",
   "execution_count": 2,
   "metadata": {},
   "outputs": [],
   "source": [
    "#!pip install pickle5"
   ]
  },
  {
   "cell_type": "code",
   "execution_count": 3,
   "metadata": {},
   "outputs": [],
   "source": [
    "rng = np.random.default_rng(23673)"
   ]
  },
  {
   "cell_type": "code",
   "execution_count": 4,
   "metadata": {},
   "outputs": [],
   "source": [
    "#gtf = None"
   ]
  },
  {
   "cell_type": "code",
   "execution_count": 5,
   "metadata": {},
   "outputs": [],
   "source": [
    "L = 32\n",
    "N_GPUS = 8\n",
    "\n",
    "# Hyper-parameters:\n",
    "# L: Number of convolution kernels\n",
    "# W: Convolution window size in each residual unit\n",
    "# AR: Atrous rate in each residual unit\n",
    "\n",
    "W = np.asarray([11, 11, 11, 11, 11, 11, 11, 11,\n",
    "                21, 21, 21, 21, 41, 41, 41, 41])\n",
    "AR = np.asarray([1, 1, 1, 1, 4, 4, 4, 4,\n",
    "                 10, 10, 10, 10, 25, 25, 25, 25])\n",
    "BATCH_SIZE = 6*N_GPUS\n",
    "\n",
    "\n",
    "CL = 2 * np.sum(AR*(W-1))"
   ]
  },
  {
   "cell_type": "code",
   "execution_count": null,
   "metadata": {},
   "outputs": [],
   "source": [
    "data_dir = '/odinn/tmp/benediktj/Data/SplicePrediction-050422'\n",
    "setType = 'train'\n",
    "annotation, transcriptToLabel, seqData = getData(data_dir, setType)"
   ]
  },
  {
   "cell_type": "code",
   "execution_count": null,
   "metadata": {},
   "outputs": [],
   "source": [
    "# Maximum nucleotide context length (CL_max/2 on either side of the \n",
    "# position of interest)\n",
    "# CL_max should be an even number\n",
    "# Sequence length of SpliceAIs (SL+CL will be the input length and\n",
    "# SL will be the output length)\n",
    "\n",
    "SL=5000\n",
    "CL_max=80000"
   ]
  },
  {
   "cell_type": "code",
   "execution_count": null,
   "metadata": {},
   "outputs": [],
   "source": [
    "assert CL_max % 2 == 0"
   ]
  },
  {
   "cell_type": "code",
   "execution_count": null,
   "metadata": {},
   "outputs": [],
   "source": [
    "train_gene, validation_gene = train_test_split(annotation['gene'].drop_duplicates(),test_size=.1,random_state=435)\n",
    "annotation_train = annotation[annotation['gene'].isin(train_gene)]\n",
    "annotation_validation = annotation[annotation['gene'].isin(validation_gene)]"
   ]
  },
  {
   "cell_type": "code",
   "execution_count": null,
   "metadata": {},
   "outputs": [],
   "source": [
    "train_dataset = spliceDataset(annotation_train,transcriptToLabel,SL,CL_max)\n",
    "val_dataset = spliceDataset(annotation_validation,transcriptToLabel,SL,CL_max)\n",
    "train_dataset.seqData = seqData\n",
    "val_dataset.seqData = seqData\n",
    "\n",
    "train_loader = torch.utils.data.DataLoader(train_dataset, batch_size=100, shuffle=True, num_workers=16,collate_fn=collate_fn, pin_memory=True)\n",
    "val_loader = torch.utils.data.DataLoader(val_dataset, batch_size=100, shuffle=False,collate_fn=collate_fn, num_workers=16)"
   ]
  },
  {
   "cell_type": "code",
   "execution_count": 11,
   "metadata": {
    "scrolled": true
   },
   "outputs": [
    {
     "name": "stderr",
     "output_type": "stream",
     "text": [
      "Epoch (train) 1/10: 100%|█| 202/202 [34:08<00:00, 10.14s/it, accepor_recall=0.856, donor_recall=0.869, loss=0.000268, loss_small=0.000795, pred_l1_di\n"
     ]
    },
    {
     "name": "stdout",
     "output_type": "stream",
     "text": [
      "epoch: 1/10, train loss = 0.007673\n"
     ]
    },
    {
     "name": "stderr",
     "output_type": "stream",
     "text": [
      "Epoch (val) 1/10: 100%|█| 23/23 [06:08<00:00, 16.02s/it, accepor_recall=0.906, donor_recall=0.896, loss=0.000375, loss_small=0.000861, pred_l1_dist=0\n"
     ]
    },
    {
     "name": "stdout",
     "output_type": "stream",
     "text": [
      "\n",
      "\u001b[1mAcceptor:\u001b[0m\n",
      "0.9672\t0.876\t0.9723\t0.9868\t0.9216\t0.9876999855041504\t0.7828999757766724\t0.04600000008940697\t0.005400000140070915\t21432\n",
      "\n",
      "\u001b[1mDonor:\u001b[0m\n",
      "0.9681\t0.885\t0.9804\t0.9911\t0.9299\t0.9671000242233276\t0.5777000188827515\t0.01810000091791153\t0.002099999925121665\t21432\n",
      "epoch: 1/10, val loss = 0.000298\n"
     ]
    },
    {
     "name": "stderr",
     "output_type": "stream",
     "text": [
      "Epoch (train) 2/10: 100%|█| 202/202 [32:57<00:00,  9.79s/it, accepor_recall=0.814, donor_recall=0.822, loss=0.000405, loss_small=0.000708, pred_l1_di\n"
     ]
    },
    {
     "name": "stdout",
     "output_type": "stream",
     "text": [
      "epoch: 2/10, train loss = 0.000295\n"
     ]
    },
    {
     "name": "stderr",
     "output_type": "stream",
     "text": [
      "Epoch (val) 2/10: 100%|█| 23/23 [05:23<00:00, 14.04s/it, accepor_recall=0.803, donor_recall=0.853, loss=0.000353, loss_small=0.0006, pred_l1_dist=0.0\n"
     ]
    },
    {
     "name": "stdout",
     "output_type": "stream",
     "text": [
      "\n",
      "\u001b[1mAcceptor:\u001b[0m\n",
      "0.9661\t0.8841\t0.9747\t0.9809\t0.9232\t0.9035000205039978\t0.29120001196861267\t0.013299999758601189\t0.006899999920278788\t21432\n",
      "\n",
      "\u001b[1mDonor:\u001b[0m\n",
      "0.965\t0.878\t0.9783\t0.985\t0.9206\t0.8906000256538391\t0.4413999915122986\t0.03150000050663948\t0.013299999758601189\t21432\n",
      "epoch: 2/10, val loss = 0.000275\n"
     ]
    },
    {
     "name": "stderr",
     "output_type": "stream",
     "text": [
      "Epoch (train) 3/10: 100%|█| 202/202 [33:15<00:00,  9.88s/it, accepor_recall=0.766, donor_recall=0.777, loss=0.000528, loss_small=0.000662, pred_l1_di\n"
     ]
    },
    {
     "name": "stdout",
     "output_type": "stream",
     "text": [
      "epoch: 3/10, train loss = 0.000220\n"
     ]
    },
    {
     "name": "stderr",
     "output_type": "stream",
     "text": [
      "Epoch (val) 3/10: 100%|█| 23/23 [05:10<00:00, 13.52s/it, accepor_recall=0.859, donor_recall=0.886, loss=0.000458, loss_small=0.000765, pred_l1_dist=0\n"
     ]
    },
    {
     "name": "stdout",
     "output_type": "stream",
     "text": [
      "\n",
      "\u001b[1mAcceptor:\u001b[0m\n",
      "0.9471\t0.852\t0.964\t0.9724\t0.886\t0.9611999988555908\t0.5649999976158142\t0.027899999171495438\t0.01269999984651804\t21432\n",
      "\n",
      "\u001b[1mDonor:\u001b[0m\n",
      "0.9602\t0.8681\t0.9765\t0.9847\t0.9119\t0.9728999733924866\t0.6721000075340271\t0.01590000092983246\t0.004900000058114529\t21432\n",
      "epoch: 3/10, val loss = 0.000330\n"
     ]
    },
    {
     "name": "stderr",
     "output_type": "stream",
     "text": [
      "Epoch (train) 4/10: 100%|█| 202/202 [33:52<00:00, 10.06s/it, accepor_recall=0.000241, donor_recall=0.000233, loss=0.00507, loss_small=0.00506, pred_l\n"
     ]
    },
    {
     "name": "stdout",
     "output_type": "stream",
     "text": [
      "epoch: 4/10, train loss = 0.000908\n"
     ]
    },
    {
     "name": "stderr",
     "output_type": "stream",
     "text": [
      "Epoch (val) 4/10: 100%|████| 23/23 [05:12<00:00, 13.57s/it, accepor_recall=0, donor_recall=0, loss=0.00737, loss_small=0.00736, pred_l1_dist=2.57e-8]\n"
     ]
    },
    {
     "name": "stdout",
     "output_type": "stream",
     "text": [
      "\n",
      "\u001b[1mAcceptor:\u001b[0m\n",
      "0.0\t0.0\t0.0\t0.0\t0.0004\t0.0\t0.0\t0.0\t0.0\t21432\n",
      "\n",
      "\u001b[1mDonor:\u001b[0m\n",
      "0.0002\t0.0002\t0.0004\t0.0007\t0.0003\t0.0\t0.0\t0.0\t0.0\t21432\n",
      "epoch: 4/10, val loss = 0.005686\n"
     ]
    },
    {
     "name": "stderr",
     "output_type": "stream",
     "text": [
      "Epoch (train) 5/10: 100%|█| 202/202 [34:02<00:00, 10.11s/it, accepor_recall=0, donor_recall=0, loss=0.00463, loss_small=0.00462, pred_l1_dist=3.65e-6\n"
     ]
    },
    {
     "name": "stdout",
     "output_type": "stream",
     "text": [
      "epoch: 5/10, train loss = 0.005096\n"
     ]
    },
    {
     "name": "stderr",
     "output_type": "stream",
     "text": [
      "Epoch (val) 5/10: 100%|████| 23/23 [05:25<00:00, 14.17s/it, accepor_recall=0, donor_recall=0, loss=0.00737, loss_small=0.00732, pred_l1_dist=4.71e-6]\n"
     ]
    },
    {
     "name": "stdout",
     "output_type": "stream",
     "text": [
      "\n",
      "\u001b[1mAcceptor:\u001b[0m\n",
      "0.0\t0.0\t0.0\t0.0\t0.0005\t0.0\t0.0\t0.0\t0.0\t21432\n",
      "\n",
      "\u001b[1mDonor:\u001b[0m\n",
      "0.0003\t0.0007\t0.0009\t0.0028\t0.0003\t0.0\t0.0\t0.0\t0.0\t21432\n",
      "epoch: 5/10, val loss = 0.005686\n"
     ]
    },
    {
     "name": "stderr",
     "output_type": "stream",
     "text": [
      "Epoch (train) 6/10: 100%|█| 202/202 [33:47<00:00, 10.03s/it, accepor_recall=0, donor_recall=3.9e-25, loss=0.00508, loss_small=0.00508, pred_l1_dist=9\n"
     ]
    },
    {
     "name": "stdout",
     "output_type": "stream",
     "text": [
      "epoch: 6/10, train loss = 0.005102\n"
     ]
    },
    {
     "name": "stderr",
     "output_type": "stream",
     "text": [
      "Epoch (val) 6/10: 100%|███| 23/23 [05:27<00:00, 14.24s/it, accepor_recall=0, donor_recall=0, loss=0.00737, loss_small=0.00737, pred_l1_dist=7.56e-30]\n"
     ]
    },
    {
     "name": "stdout",
     "output_type": "stream",
     "text": [
      "\n",
      "\u001b[1mAcceptor:\u001b[0m\n",
      "0.0\t0.0\t0.0\t0.0\t0.0002\t0.0\t0.0\t0.0\t0.0\t21432\n",
      "\n",
      "\u001b[1mDonor:\u001b[0m\n",
      "0.0\t0.0\t0.0\t0.0\t0.0001\t0.0\t0.0\t0.0\t0.0\t21432\n",
      "epoch: 6/10, val loss = 0.005686\n"
     ]
    },
    {
     "name": "stderr",
     "output_type": "stream",
     "text": [
      "Epoch (train) 7/10: 100%|█| 202/202 [34:03<00:00, 10.12s/it, accepor_recall=0, donor_recall=0, loss=0.00565, loss_small=0.00565, pred_l1_dist=2.57e-1\n"
     ]
    },
    {
     "name": "stdout",
     "output_type": "stream",
     "text": [
      "epoch: 7/10, train loss = 0.005110\n"
     ]
    },
    {
     "name": "stderr",
     "output_type": "stream",
     "text": [
      "Epoch (val) 7/10: 100%|███| 23/23 [05:09<00:00, 13.45s/it, accepor_recall=0, donor_recall=0, loss=0.00737, loss_small=0.00737, pred_l1_dist=7.71e-30]\n"
     ]
    },
    {
     "name": "stdout",
     "output_type": "stream",
     "text": [
      "\n",
      "\u001b[1mAcceptor:\u001b[0m\n",
      "0.0\t0.0\t0.0\t0.0\t0.0002\t0.0\t0.0\t0.0\t0.0\t21432\n",
      "\n",
      "\u001b[1mDonor:\u001b[0m\n",
      "0.0\t0.0\t0.0\t0.0\t0.0001\t0.0\t0.0\t0.0\t0.0\t21432\n",
      "epoch: 7/10, val loss = 0.005686\n"
     ]
    },
    {
     "name": "stderr",
     "output_type": "stream",
     "text": [
      "Epoch (train) 8/10: 100%|█| 202/202 [34:12<00:00, 10.16s/it, accepor_recall=0, donor_recall=0, loss=0.00538, loss_small=0.00538, pred_l1_dist=1.55e-2\n"
     ]
    },
    {
     "name": "stdout",
     "output_type": "stream",
     "text": [
      "epoch: 8/10, train loss = 0.005105\n"
     ]
    },
    {
     "name": "stderr",
     "output_type": "stream",
     "text": [
      "Epoch (val) 8/10: 100%|███| 23/23 [05:42<00:00, 14.90s/it, accepor_recall=0, donor_recall=0, loss=0.00737, loss_small=0.00737, pred_l1_dist=7.71e-30]\n"
     ]
    },
    {
     "name": "stdout",
     "output_type": "stream",
     "text": [
      "\n",
      "\u001b[1mAcceptor:\u001b[0m\n",
      "0.0\t0.0\t0.0\t0.0\t0.0002\t0.0\t0.0\t0.0\t0.0\t21432\n",
      "\n",
      "\u001b[1mDonor:\u001b[0m\n",
      "0.0\t0.0\t0.0\t0.0\t0.0001\t0.0\t0.0\t0.0\t0.0\t21432\n",
      "epoch: 8/10, val loss = 0.005686\n"
     ]
    },
    {
     "name": "stderr",
     "output_type": "stream",
     "text": [
      "Epoch (train) 9/10: 100%|█| 202/202 [33:47<00:00, 10.04s/it, accepor_recall=0, donor_recall=0, loss=0.00476, loss_small=0.00476, pred_l1_dist=7.23e-1\n"
     ]
    },
    {
     "name": "stdout",
     "output_type": "stream",
     "text": [
      "epoch: 9/10, train loss = 0.005087\n"
     ]
    },
    {
     "name": "stderr",
     "output_type": "stream",
     "text": [
      "Epoch (val) 9/10: 100%|███| 23/23 [05:33<00:00, 14.50s/it, accepor_recall=0, donor_recall=0, loss=0.00737, loss_small=0.00737, pred_l1_dist=1.35e-20]\n"
     ]
    },
    {
     "name": "stdout",
     "output_type": "stream",
     "text": [
      "\n",
      "\u001b[1mAcceptor:\u001b[0m\n",
      "0.0\t0.0\t0.0\t0.0\t0.0002\t0.0\t0.0\t0.0\t0.0\t21432\n",
      "\n",
      "\u001b[1mDonor:\u001b[0m\n",
      "0.0\t0.0\t0.0\t0.0\t0.0003\t0.0\t0.0\t0.0\t0.0\t21432\n",
      "epoch: 9/10, val loss = 0.005686\n"
     ]
    },
    {
     "name": "stderr",
     "output_type": "stream",
     "text": [
      "Epoch (train) 10/10: 100%|█| 202/202 [34:07<00:00, 10.13s/it, accepor_recall=0, donor_recall=0, loss=0.00498, loss_small=0.00498, pred_l1_dist=1.43e-\n"
     ]
    },
    {
     "name": "stdout",
     "output_type": "stream",
     "text": [
      "epoch: 10/10, train loss = 0.005104\n"
     ]
    },
    {
     "name": "stderr",
     "output_type": "stream",
     "text": [
      "Epoch (val) 10/10: 100%|██| 23/23 [05:20<00:00, 13.92s/it, accepor_recall=0, donor_recall=0, loss=0.00737, loss_small=0.00737, pred_l1_dist=5.24e-20]\n"
     ]
    },
    {
     "name": "stdout",
     "output_type": "stream",
     "text": [
      "\n",
      "\u001b[1mAcceptor:\u001b[0m\n",
      "0.0\t0.0\t0.0\t0.0\t0.0002\t0.0\t0.0\t0.0\t0.0\t21432\n",
      "\n",
      "\u001b[1mDonor:\u001b[0m\n",
      "0.0\t0.0\t0.0\t0.0\t0.0002\t0.0\t0.0\t0.0\t0.0\t21432\n",
      "epoch: 10/10, val loss = 0.005686\n"
     ]
    },
    {
     "data": {
      "image/png": "[encoded data removed]",
      "text/plain": [
       "<Figure size 432x288 with 1 Axes>"
      ]
     },
     "metadata": {
      "needs_background": "light"
     },
     "output_type": "display_data"
    },
    {
     "name": "stderr",
     "output_type": "stream",
     "text": [
      "Epoch (train) 1/10: 100%|█| 202/202 [34:21<00:00, 10.20s/it, accepor_recall=0.831, donor_recall=0.845, loss=0.000291, loss_small=0.000809, pred_l1_di\n"
     ]
    },
    {
     "name": "stdout",
     "output_type": "stream",
     "text": [
      "epoch: 1/10, train loss = 0.007089\n"
     ]
    },
    {
     "name": "stderr",
     "output_type": "stream",
     "text": [
      "Epoch (val) 1/10: 100%|█| 23/23 [05:35<00:00, 14.58s/it, accepor_recall=0.856, donor_recall=0.89, loss=0.000407, loss_small=0.00109, pred_l1_dist=0.0\n"
     ]
    },
    {
     "name": "stdout",
     "output_type": "stream",
     "text": [
      "\n",
      "\u001b[1mAcceptor:\u001b[0m\n",
      "0.9615\t0.8543\t0.9636\t0.9831\t0.9051\t0.9599999785423279\t0.5540000200271606\t0.03590000048279762\t0.0044999998062849045\t21432\n",
      "\n",
      "\u001b[1mDonor:\u001b[0m\n",
      "0.966\t0.8731\t0.9766\t0.9885\t0.9212\t0.9782000184059143\t0.6438000202178955\t0.032600000500679016\t0.00430000014603138\t21432\n",
      "epoch: 1/10, val loss = 0.000316\n"
     ]
    },
    {
     "name": "stderr",
     "output_type": "stream",
     "text": [
      "Epoch (train) 2/10: 100%|█| 202/202 [34:04<00:00, 10.12s/it, accepor_recall=0.86, donor_recall=0.877, loss=0.000265, loss_small=0.000465, pred_l1_dis\n"
     ]
    },
    {
     "name": "stdout",
     "output_type": "stream",
     "text": [
      "epoch: 2/10, train loss = 0.000269\n"
     ]
    },
    {
     "name": "stderr",
     "output_type": "stream",
     "text": [
      "Epoch (val) 2/10: 100%|█| 23/23 [05:26<00:00, 14.21s/it, accepor_recall=0.871, donor_recall=0.9, loss=0.000341, loss_small=0.000554, pred_l1_dist=0.0\n"
     ]
    },
    {
     "name": "stdout",
     "output_type": "stream",
     "text": [
      "\n",
      "\u001b[1mAcceptor:\u001b[0m\n",
      "0.9674\t0.8882\t0.9742\t0.9809\t0.9251\t0.9545999765396118\t0.4471000134944916\t0.015699999406933784\t0.006800000090152025\t21432\n",
      "\n",
      "\u001b[1mDonor:\u001b[0m\n",
      "0.9616\t0.8844\t0.9789\t0.9859\t0.9235\t0.9722999930381775\t0.5389000177383423\t0.011800000444054604\t0.004600000102072954\t21432\n",
      "epoch: 2/10, val loss = 0.000263\n"
     ]
    },
    {
     "name": "stderr",
     "output_type": "stream",
     "text": [
      "Epoch (train) 3/10: 100%|█| 202/202 [34:05<00:00, 10.13s/it, accepor_recall=0.898, donor_recall=0.9, loss=0.000209, loss_small=0.000538, pred_l1_dist\n"
     ]
    },
    {
     "name": "stdout",
     "output_type": "stream",
     "text": [
      "epoch: 3/10, train loss = 0.000223\n"
     ]
    },
    {
     "name": "stderr",
     "output_type": "stream",
     "text": [
      "Epoch (val) 3/10: 100%|█| 23/23 [05:39<00:00, 14.76s/it, accepor_recall=0.901, donor_recall=0.922, loss=0.000289, loss_small=0.000678, pred_l1_dist=0\n"
     ]
    },
    {
     "name": "stdout",
     "output_type": "stream",
     "text": [
      "\n",
      "\u001b[1mAcceptor:\u001b[0m\n",
      "0.9706\t0.9096\t0.9827\t0.9901\t0.9411\t0.9469000101089478\t0.5357999801635742\t0.010200000368058681\t0.0012000000569969416\t21432\n",
      "\n",
      "\u001b[1mDonor:\u001b[0m\n",
      "0.9696\t0.9108\t0.9873\t0.993\t0.9452\t0.9692999720573425\t0.5375000238418579\t0.009800000116229057\t0.0010999999940395355\t21432\n",
      "epoch: 3/10, val loss = 0.000220\n"
     ]
    },
    {
     "name": "stderr",
     "output_type": "stream",
     "text": [
      "Epoch (train) 4/10: 100%|█| 202/202 [33:44<00:00, 10.02s/it, accepor_recall=0.923, donor_recall=0.929, loss=0.000153, loss_small=0.000298, pred_l1_di\n"
     ]
    },
    {
     "name": "stdout",
     "output_type": "stream",
     "text": [
      "epoch: 4/10, train loss = 0.000184\n"
     ]
    },
    {
     "name": "stderr",
     "output_type": "stream",
     "text": [
      "Epoch (val) 4/10: 100%|█| 23/23 [05:14<00:00, 13.66s/it, accepor_recall=0.902, donor_recall=0.923, loss=0.000268, loss_small=0.000463, pred_l1_dist=0\n"
     ]
    },
    {
     "name": "stdout",
     "output_type": "stream",
     "text": [
      "\n",
      "\u001b[1mAcceptor:\u001b[0m\n",
      "0.9716\t0.915\t0.986\t0.9924\t0.9463\t0.9746000170707703\t0.4771000146865845\t0.005900000222027302\t0.0008999999845400453\t21432\n",
      "\n",
      "\u001b[1mDonor:\u001b[0m\n",
      "0.9728\t0.9212\t0.9889\t0.9945\t0.952\t0.9785000085830688\t0.5716000199317932\t0.004399999976158142\t0.0005000000237487257\t21432\n",
      "epoch: 4/10, val loss = 0.000197\n"
     ]
    },
    {
     "name": "stderr",
     "output_type": "stream",
     "text": [
      "Epoch (train) 5/10: 100%|█| 202/202 [33:38<00:00,  9.99s/it, accepor_recall=0.93, donor_recall=0.928, loss=0.000137, loss_small=0.000262, pred_l1_dis\n"
     ]
    },
    {
     "name": "stdout",
     "output_type": "stream",
     "text": [
      "epoch: 5/10, train loss = 0.000163\n"
     ]
    },
    {
     "name": "stderr",
     "output_type": "stream",
     "text": [
      "Epoch (val) 5/10: 100%|█| 23/23 [05:25<00:00, 14.15s/it, accepor_recall=0.913, donor_recall=0.934, loss=0.000273, loss_small=0.000445, pred_l1_dist=0\n"
     ]
    },
    {
     "name": "stdout",
     "output_type": "stream",
     "text": [
      "\n",
      "\u001b[1mAcceptor:\u001b[0m\n",
      "0.9726\t0.9168\t0.986\t0.9917\t0.9482\t0.9825000166893005\t0.5615000128746033\t0.0038999998942017555\t0.0006000000284984708\t21432\n",
      "\n",
      "\u001b[1mDonor:\u001b[0m\n",
      "0.9718\t0.9213\t0.9894\t0.9942\t0.9514\t0.9890999794006348\t0.6539000272750854\t0.006599999964237213\t0.0007999999797903001\t21432\n",
      "epoch: 5/10, val loss = 0.000201\n"
     ]
    },
    {
     "name": "stderr",
     "output_type": "stream",
     "text": [
      "Epoch (train) 6/10: 100%|█| 202/202 [33:29<00:00,  9.95s/it, accepor_recall=0.913, donor_recall=0.926, loss=0.000207, loss_small=0.000762, pred_l1_di\n"
     ]
    },
    {
     "name": "stdout",
     "output_type": "stream",
     "text": [
      "epoch: 6/10, train loss = 0.000168\n"
     ]
    },
    {
     "name": "stderr",
     "output_type": "stream",
     "text": [
      "Epoch (val) 6/10: 100%|█| 23/23 [05:23<00:00, 14.09s/it, accepor_recall=0.924, donor_recall=0.92, loss=0.000292, loss_small=0.000784, pred_l1_dist=0.\n"
     ]
    },
    {
     "name": "stdout",
     "output_type": "stream",
     "text": [
      "\n",
      "\u001b[1mAcceptor:\u001b[0m\n",
      "0.9725\t0.915\t0.983\t0.9905\t0.9435\t0.9801999926567078\t0.6287999749183655\t0.015699999406933784\t0.0026000000070780516\t21432\n",
      "\n",
      "\u001b[1mDonor:\u001b[0m\n",
      "0.972\t0.9164\t0.9888\t0.9944\t0.9492\t0.9836000204086304\t0.5507000088691711\t0.0066999997943639755\t0.0010999999940395355\t21432\n",
      "epoch: 6/10, val loss = 0.000212\n"
     ]
    },
    {
     "name": "stderr",
     "output_type": "stream",
     "text": [
      "Epoch (train) 7/10: 100%|█| 202/202 [33:27<00:00,  9.94s/it, accepor_recall=0.94, donor_recall=0.942, loss=0.000132, loss_small=0.000316, pred_l1_dis\n"
     ]
    },
    {
     "name": "stdout",
     "output_type": "stream",
     "text": [
      "epoch: 7/10, train loss = 0.000146\n"
     ]
    },
    {
     "name": "stderr",
     "output_type": "stream",
     "text": [
      "Epoch (val) 7/10: 100%|█| 23/23 [05:12<00:00, 13.58s/it, accepor_recall=0.92, donor_recall=0.924, loss=0.000249, loss_small=0.000443, pred_l1_dist=0.\n"
     ]
    },
    {
     "name": "stdout",
     "output_type": "stream",
     "text": [
      "\n",
      "\u001b[1mAcceptor:\u001b[0m\n",
      "0.9747\t0.9238\t0.9869\t0.993\t0.9527\t0.9722999930381775\t0.5651999711990356\t0.004699999932199717\t0.0006000000284984708\t21432\n",
      "\n",
      "\u001b[1mDonor:\u001b[0m\n",
      "0.9736\t0.9242\t0.9906\t0.9948\t0.9531\t0.9735999703407288\t0.583899974822998\t0.0044999998062849045\t0.0006000000284984708\t21432\n",
      "epoch: 7/10, val loss = 0.000183\n"
     ]
    },
    {
     "name": "stderr",
     "output_type": "stream",
     "text": [
      "Epoch (train) 8/10: 100%|█| 202/202 [33:58<00:00, 10.09s/it, accepor_recall=0.954, donor_recall=0.954, loss=0.000117, loss_small=0.000335, pred_l1_di\n"
     ]
    },
    {
     "name": "stdout",
     "output_type": "stream",
     "text": [
      "epoch: 8/10, train loss = 0.000127\n"
     ]
    },
    {
     "name": "stderr",
     "output_type": "stream",
     "text": [
      "Epoch (val) 8/10: 100%|█| 23/23 [05:18<00:00, 13.83s/it, accepor_recall=0.914, donor_recall=0.926, loss=0.000241, loss_small=0.000506, pred_l1_dist=0\n"
     ]
    },
    {
     "name": "stdout",
     "output_type": "stream",
     "text": [
      "\n",
      "\u001b[1mAcceptor:\u001b[0m\n",
      "0.9753\t0.9256\t0.9874\t0.9937\t0.9529\t0.9753000140190125\t0.49880000948905945\t0.005499999970197678\t0.0010000000474974513\t21432\n",
      "\n",
      "\u001b[1mDonor:\u001b[0m\n",
      "0.9747\t0.9279\t0.9917\t0.9951\t0.9572\t0.9829999804496765\t0.5874999761581421\t0.006099999882280827\t0.0007999999797903001\t21432\n",
      "epoch: 8/10, val loss = 0.000176\n"
     ]
    },
    {
     "name": "stderr",
     "output_type": "stream",
     "text": [
      "Epoch (train) 9/10: 100%|█| 202/202 [34:24<00:00, 10.22s/it, accepor_recall=0.957, donor_recall=0.955, loss=0.000139, loss_small=0.000335, pred_l1_di\n"
     ]
    },
    {
     "name": "stdout",
     "output_type": "stream",
     "text": [
      "epoch: 9/10, train loss = 0.000102\n"
     ]
    },
    {
     "name": "stderr",
     "output_type": "stream",
     "text": [
      "Epoch (val) 9/10: 100%|█| 23/23 [05:26<00:00, 14.17s/it, accepor_recall=0.92, donor_recall=0.918, loss=0.000239, loss_small=0.000445, pred_l1_dist=0.\n"
     ]
    },
    {
     "name": "stdout",
     "output_type": "stream",
     "text": [
      "\n",
      "\u001b[1mAcceptor:\u001b[0m\n",
      "0.978\t0.9283\t0.9872\t0.9909\t0.9555\t0.982699990272522\t0.49709999561309814\t0.002199999988079071\t0.0008999999845400453\t21432\n",
      "\n",
      "\u001b[1mDonor:\u001b[0m\n",
      "0.9762\t0.9294\t0.9916\t0.9937\t0.9584\t0.9815000295639038\t0.4674000144004822\t0.0019000000320374966\t0.0007999999797903001\t21432\n",
      "epoch: 9/10, val loss = 0.000178\n"
     ]
    },
    {
     "name": "stderr",
     "output_type": "stream",
     "text": [
      "Epoch (train) 10/10: 100%|█| 202/202 [33:43<00:00, 10.02s/it, accepor_recall=0.964, donor_recall=0.966, loss=8.88e-5, loss_small=0.000301, pred_l1_di\n"
     ]
    },
    {
     "name": "stdout",
     "output_type": "stream",
     "text": [
      "epoch: 10/10, train loss = 0.000104\n"
     ]
    },
    {
     "name": "stderr",
     "output_type": "stream",
     "text": [
      "Epoch (val) 10/10: 100%|█| 23/23 [05:16<00:00, 13.78s/it, accepor_recall=0.921, donor_recall=0.924, loss=0.000239, loss_small=0.00049, pred_l1_dist=0\n"
     ]
    },
    {
     "name": "stdout",
     "output_type": "stream",
     "text": [
      "\n",
      "\u001b[1mAcceptor:\u001b[0m\n",
      "0.9775\t0.9298\t0.987\t0.993\t0.9565\t0.9790999889373779\t0.5254999995231628\t0.002099999925121665\t0.00039999998989515007\t21432\n",
      "\n",
      "\u001b[1mDonor:\u001b[0m\n",
      "0.9764\t0.93\t0.9916\t0.9948\t0.9589\t0.9815999865531921\t0.5346999764442444\t0.0015999999595806003\t0.0003000000142492354\t21432\n",
      "epoch: 10/10, val loss = 0.000176\n"
     ]
    },
    {
     "data": {
      "image/png": "[encoded data removed]",
      "text/plain": [
       "<Figure size 432x288 with 1 Axes>"
      ]
     },
     "metadata": {
      "needs_background": "light"
     },
     "output_type": "display_data"
    },
    {
     "name": "stderr",
     "output_type": "stream",
     "text": [
      "Epoch (train) 1/10: 100%|█| 202/202 [34:12<00:00, 10.16s/it, accepor_recall=0.825, donor_recall=0.834, loss=0.000278, loss_small=0.000856, pred_l1_di\n"
     ]
    },
    {
     "name": "stdout",
     "output_type": "stream",
     "text": [
      "epoch: 1/10, train loss = 0.007589\n"
     ]
    },
    {
     "name": "stderr",
     "output_type": "stream",
     "text": [
      "Epoch (val) 1/10: 100%|█| 23/23 [05:55<00:00, 15.44s/it, accepor_recall=0.808, donor_recall=0.852, loss=0.000387, loss_small=0.00131, pred_l1_dist=0.\n"
     ]
    },
    {
     "name": "stdout",
     "output_type": "stream",
     "text": [
      "\n",
      "\u001b[1mAcceptor:\u001b[0m\n",
      "0.9606\t0.8619\t0.9662\t0.9844\t0.9069\t0.9564999938011169\t0.39739999175071716\t0.01590000092983246\t0.002300000051036477\t21432\n",
      "\n",
      "\u001b[1mDonor:\u001b[0m\n",
      "0.9664\t0.8794\t0.9769\t0.9878\t0.9249\t0.9466000199317932\t0.4255000054836273\t0.016100000590085983\t0.002199999988079071\t21432\n",
      "epoch: 1/10, val loss = 0.000296\n"
     ]
    },
    {
     "name": "stderr",
     "output_type": "stream",
     "text": [
      "Epoch (train) 2/10: 100%|█| 202/202 [34:11<00:00, 10.16s/it, accepor_recall=0.757, donor_recall=0.766, loss=0.00044, loss_small=0.000743, pred_l1_dis\n"
     ]
    },
    {
     "name": "stdout",
     "output_type": "stream",
     "text": [
      "epoch: 2/10, train loss = 0.000286\n"
     ]
    },
    {
     "name": "stderr",
     "output_type": "stream",
     "text": [
      "Epoch (val) 2/10: 100%|█| 23/23 [05:19<00:00, 13.91s/it, accepor_recall=0.412, donor_recall=0.802, loss=0.000711, loss_small=0.00131, pred_l1_dist=0.\n"
     ]
    },
    {
     "name": "stdout",
     "output_type": "stream",
     "text": [
      "\n",
      "\u001b[1mAcceptor:\u001b[0m\n",
      "0.955\t0.8377\t0.9433\t0.9608\t0.8801\t0.4336000084877014\t0.16670000553131104\t0.044599998742341995\t0.026499999687075615\t21432\n",
      "\n",
      "\u001b[1mDonor:\u001b[0m\n",
      "0.9474\t0.8287\t0.9585\t0.9771\t0.8801\t0.7598000168800354\t0.39579999446868896\t0.08009999990463257\t0.03229999914765358\t21432\n",
      "epoch: 2/10, val loss = 0.000560\n"
     ]
    },
    {
     "name": "stderr",
     "output_type": "stream",
     "text": [
      "Epoch (train) 3/10: 100%|█| 202/202 [34:02<00:00, 10.11s/it, accepor_recall=0.895, donor_recall=0.905, loss=0.000177, loss_small=0.000354, pred_l1_di\n"
     ]
    },
    {
     "name": "stdout",
     "output_type": "stream",
     "text": [
      "epoch: 3/10, train loss = 0.000215\n"
     ]
    },
    {
     "name": "stderr",
     "output_type": "stream",
     "text": [
      "Epoch (val) 3/10: 100%|█| 23/23 [05:46<00:00, 15.07s/it, accepor_recall=0.905, donor_recall=0.909, loss=0.000279, loss_small=0.00058, pred_l1_dist=0.\n"
     ]
    },
    {
     "name": "stdout",
     "output_type": "stream",
     "text": [
      "\n",
      "\u001b[1mAcceptor:\u001b[0m\n",
      "0.9706\t0.9087\t0.9826\t0.9872\t0.9399\t0.9646999835968018\t0.5302000045776367\t0.011599999852478504\t0.003700000001117587\t21432\n",
      "\n",
      "\u001b[1mDonor:\u001b[0m\n",
      "0.9693\t0.9099\t0.9841\t0.9888\t0.9427\t0.9693999886512756\t0.48590001463890076\t0.009999999776482582\t0.0038999998942017555\t21432\n",
      "epoch: 3/10, val loss = 0.000209\n"
     ]
    },
    {
     "name": "stderr",
     "output_type": "stream",
     "text": [
      "Epoch (train) 4/10: 100%|█| 202/202 [34:14<00:00, 10.17s/it, accepor_recall=0.913, donor_recall=0.925, loss=0.00016, loss_small=0.000327, pred_l1_dis\n"
     ]
    },
    {
     "name": "stdout",
     "output_type": "stream",
     "text": [
      "epoch: 4/10, train loss = 0.000191\n"
     ]
    },
    {
     "name": "stderr",
     "output_type": "stream",
     "text": [
      "Epoch (val) 4/10: 100%|█| 23/23 [05:23<00:00, 14.05s/it, accepor_recall=0.888, donor_recall=0.879, loss=0.000279, loss_small=0.000582, pred_l1_dist=0\n"
     ]
    },
    {
     "name": "stdout",
     "output_type": "stream",
     "text": [
      "\n",
      "\u001b[1mAcceptor:\u001b[0m\n",
      "0.9737\t0.9087\t0.9835\t0.9902\t0.9444\t0.9632999897003174\t0.41339999437332153\t0.008799999952316284\t0.0026000000070780516\t21432\n",
      "\n",
      "\u001b[1mDonor:\u001b[0m\n",
      "0.9721\t0.9126\t0.9862\t0.9909\t0.9469\t0.9646999835968018\t0.29660001397132874\t0.004000000189989805\t0.00139999995008111\t21432\n",
      "epoch: 4/10, val loss = 0.000212\n"
     ]
    },
    {
     "name": "stderr",
     "output_type": "stream",
     "text": [
      "Epoch (train) 5/10: 100%|█| 202/202 [34:35<00:00, 10.27s/it, accepor_recall=0.93, donor_recall=0.936, loss=0.000152, loss_small=0.000281, pred_l1_dis\n"
     ]
    },
    {
     "name": "stdout",
     "output_type": "stream",
     "text": [
      "epoch: 5/10, train loss = 0.000167\n"
     ]
    },
    {
     "name": "stderr",
     "output_type": "stream",
     "text": [
      "Epoch (val) 5/10: 100%|█| 23/23 [06:01<00:00, 15.70s/it, accepor_recall=0.896, donor_recall=0.911, loss=0.000284, loss_small=0.000492, pred_l1_dist=0\n"
     ]
    },
    {
     "name": "stdout",
     "output_type": "stream",
     "text": [
      "\n",
      "\u001b[1mAcceptor:\u001b[0m\n",
      "0.971\t0.9144\t0.9815\t0.9864\t0.9423\t0.9815000295639038\t0.421099990606308\t0.004000000189989805\t0.00139999995008111\t21432\n",
      "\n",
      "\u001b[1mDonor:\u001b[0m\n",
      "0.971\t0.9183\t0.9859\t0.9903\t0.9485\t0.9819999933242798\t0.429500013589859\t0.003100000089034438\t0.0012000000569969416\t21432\n",
      "epoch: 5/10, val loss = 0.000211\n"
     ]
    },
    {
     "name": "stderr",
     "output_type": "stream",
     "text": [
      "Epoch (train) 6/10: 100%|█| 202/202 [34:31<00:00, 10.25s/it, accepor_recall=0.929, donor_recall=0.937, loss=0.000146, loss_small=0.000435, pred_l1_di\n"
     ]
    },
    {
     "name": "stdout",
     "output_type": "stream",
     "text": [
      "epoch: 6/10, train loss = 0.000176\n"
     ]
    },
    {
     "name": "stderr",
     "output_type": "stream",
     "text": [
      "Epoch (val) 6/10: 100%|█| 23/23 [05:25<00:00, 14.14s/it, accepor_recall=0.92, donor_recall=0.934, loss=0.000282, loss_small=0.000557, pred_l1_dist=0.\n"
     ]
    },
    {
     "name": "stdout",
     "output_type": "stream",
     "text": [
      "\n",
      "\u001b[1mAcceptor:\u001b[0m\n",
      "0.9714\t0.9186\t0.9853\t0.9922\t0.9477\t0.9868999719619751\t0.6592000126838684\t0.004399999976158142\t0.0005000000237487257\t21432\n",
      "\n",
      "\u001b[1mDonor:\u001b[0m\n",
      "0.9713\t0.9219\t0.9888\t0.9943\t0.9517\t0.9850999712944031\t0.6556000113487244\t0.0052999998442828655\t0.0005000000237487257\t21432\n",
      "epoch: 6/10, val loss = 0.000206\n"
     ]
    },
    {
     "name": "stderr",
     "output_type": "stream",
     "text": [
      "Epoch (train) 7/10: 100%|█| 202/202 [34:41<00:00, 10.31s/it, accepor_recall=0.936, donor_recall=0.949, loss=0.000128, loss_small=0.000255, pred_l1_di\n"
     ]
    },
    {
     "name": "stdout",
     "output_type": "stream",
     "text": [
      "epoch: 7/10, train loss = 0.000146\n"
     ]
    },
    {
     "name": "stderr",
     "output_type": "stream",
     "text": [
      "Epoch (val) 7/10: 100%|█| 23/23 [05:29<00:00, 14.32s/it, accepor_recall=0.898, donor_recall=0.91, loss=0.00026, loss_small=0.000431, pred_l1_dist=0.0\n"
     ]
    },
    {
     "name": "stdout",
     "output_type": "stream",
     "text": [
      "\n",
      "\u001b[1mAcceptor:\u001b[0m\n",
      "0.9742\t0.9185\t0.9863\t0.9916\t0.9504\t0.9768000245094299\t0.46129998564720154\t0.00419999985024333\t0.0010000000474974513\t21432\n",
      "\n",
      "\u001b[1mDonor:\u001b[0m\n",
      "0.9736\t0.9214\t0.9886\t0.9925\t0.9523\t0.9656000137329102\t0.4481000006198883\t0.003700000001117587\t0.0013000000035390258\t21432\n",
      "epoch: 7/10, val loss = 0.000191\n"
     ]
    },
    {
     "name": "stderr",
     "output_type": "stream",
     "text": [
      "Epoch (train) 8/10: 100%|█| 202/202 [34:04<00:00, 10.12s/it, accepor_recall=0.952, donor_recall=0.954, loss=0.000115, loss_small=0.000292, pred_l1_di\n"
     ]
    },
    {
     "name": "stdout",
     "output_type": "stream",
     "text": [
      "epoch: 8/10, train loss = 0.000128\n"
     ]
    },
    {
     "name": "stderr",
     "output_type": "stream",
     "text": [
      "Epoch (val) 8/10: 100%|█| 23/23 [05:32<00:00, 14.47s/it, accepor_recall=0.918, donor_recall=0.929, loss=0.000243, loss_small=0.000457, pred_l1_dist=0\n"
     ]
    },
    {
     "name": "stdout",
     "output_type": "stream",
     "text": [
      "\n",
      "\u001b[1mAcceptor:\u001b[0m\n",
      "0.9757\t0.9247\t0.9875\t0.9909\t0.9524\t0.9789000153541565\t0.5562000274658203\t0.004600000102072954\t0.0017000000225380063\t21432\n",
      "\n",
      "\u001b[1mDonor:\u001b[0m\n",
      "0.9714\t0.9276\t0.9901\t0.9927\t0.9545\t0.9753000140190125\t0.5467000007629395\t0.0034000000450760126\t0.00139999995008111\t21432\n",
      "epoch: 8/10, val loss = 0.000181\n"
     ]
    },
    {
     "name": "stderr",
     "output_type": "stream",
     "text": [
      "Epoch (train) 9/10: 100%|█| 202/202 [33:50<00:00, 10.05s/it, accepor_recall=0.961, donor_recall=0.959, loss=0.000106, loss_small=0.000247, pred_l1_di\n"
     ]
    },
    {
     "name": "stdout",
     "output_type": "stream",
     "text": [
      "epoch: 9/10, train loss = 0.000111\n"
     ]
    },
    {
     "name": "stderr",
     "output_type": "stream",
     "text": [
      "Epoch (val) 9/10: 100%|█| 23/23 [05:19<00:00, 13.90s/it, accepor_recall=0.92, donor_recall=0.929, loss=0.000243, loss_small=0.000401, pred_l1_dist=0.\n"
     ]
    },
    {
     "name": "stdout",
     "output_type": "stream",
     "text": [
      "\n",
      "\u001b[1mAcceptor:\u001b[0m\n",
      "0.974\t0.9274\t0.9863\t0.9898\t0.9526\t0.9815999865531921\t0.5658000111579895\t0.0027000000700354576\t0.0013000000035390258\t21432\n",
      "\n",
      "\u001b[1mDonor:\u001b[0m\n",
      "0.9748\t0.9309\t0.99\t0.9923\t0.9555\t0.9801999926567078\t0.5551999807357788\t0.0024999999441206455\t0.0010999999940395355\t21432\n",
      "epoch: 9/10, val loss = 0.000181\n"
     ]
    },
    {
     "name": "stderr",
     "output_type": "stream",
     "text": [
      "Epoch (train) 10/10: 100%|█| 202/202 [34:20<00:00, 10.20s/it, accepor_recall=0.965, donor_recall=0.968, loss=8.39e-5, loss_small=0.000247, pred_l1_di\n"
     ]
    },
    {
     "name": "stdout",
     "output_type": "stream",
     "text": [
      "epoch: 10/10, train loss = 0.000101\n"
     ]
    },
    {
     "name": "stderr",
     "output_type": "stream",
     "text": [
      "Epoch (val) 10/10: 100%|█| 23/23 [05:17<00:00, 13.79s/it, accepor_recall=0.924, donor_recall=0.932, loss=0.000242, loss_small=0.000453, pred_l1_dist=\n"
     ]
    },
    {
     "name": "stdout",
     "output_type": "stream",
     "text": [
      "\n",
      "\u001b[1mAcceptor:\u001b[0m\n",
      "0.9753\t0.9275\t0.9874\t0.9905\t0.9538\t0.9815000295639038\t0.5720999836921692\t0.0031999999191612005\t0.0013000000035390258\t21432\n",
      "\n",
      "\u001b[1mDonor:\u001b[0m\n",
      "0.9747\t0.9311\t0.9904\t0.9934\t0.9578\t0.9797999858856201\t0.5885999798774719\t0.0017999999690800905\t0.000699999975040555\t21432\n",
      "epoch: 10/10, val loss = 0.000177\n"
     ]
    },
    {
     "data": {
      "image/png": "[encoded data removed]",
      "text/plain": [
       "<Figure size 432x288 with 1 Axes>"
      ]
     },
     "metadata": {
      "needs_background": "light"
     },
     "output_type": "display_data"
    },
    {
     "name": "stderr",
     "output_type": "stream",
     "text": [
      "Epoch (train) 1/10: 100%|█| 202/202 [34:05<00:00, 10.13s/it, accepor_recall=0.836, donor_recall=0.844, loss=0.000247, loss_small=0.000765, pred_l1_di\n"
     ]
    },
    {
     "name": "stdout",
     "output_type": "stream",
     "text": [
      "epoch: 1/10, train loss = 0.007554\n"
     ]
    },
    {
     "name": "stderr",
     "output_type": "stream",
     "text": [
      "Epoch (val) 1/10: 100%|█| 23/23 [05:33<00:00, 14.49s/it, accepor_recall=0.862, donor_recall=0.854, loss=0.000381, loss_small=0.00136, pred_l1_dist=0.\n"
     ]
    },
    {
     "name": "stdout",
     "output_type": "stream",
     "text": [
      "\n",
      "\u001b[1mAcceptor:\u001b[0m\n",
      "0.965\t0.866\t0.9694\t0.986\t0.9157\t0.9435999989509583\t0.600600004196167\t0.05400000140070915\t0.007199999876320362\t21432\n",
      "\n",
      "\u001b[1mDonor:\u001b[0m\n",
      "0.9652\t0.8735\t0.9752\t0.9887\t0.9215\t0.9329000115394592\t0.484499990940094\t0.027000000700354576\t0.004000000189989805\t21432\n",
      "epoch: 1/10, val loss = 0.000298\n"
     ]
    },
    {
     "name": "stderr",
     "output_type": "stream",
     "text": [
      "Epoch (train) 2/10: 100%|█| 202/202 [34:23<00:00, 10.21s/it, accepor_recall=0.894, donor_recall=0.904, loss=0.000217, loss_small=0.000485, pred_l1_di\n"
     ]
    },
    {
     "name": "stdout",
     "output_type": "stream",
     "text": [
      "epoch: 2/10, train loss = 0.000253\n"
     ]
    },
    {
     "name": "stderr",
     "output_type": "stream",
     "text": [
      "Epoch (val) 2/10: 100%|█| 23/23 [05:21<00:00, 13.98s/it, accepor_recall=0.84, donor_recall=0.886, loss=0.000317, loss_small=0.000789, pred_l1_dist=0.\n"
     ]
    },
    {
     "name": "stdout",
     "output_type": "stream",
     "text": [
      "\n",
      "\u001b[1mAcceptor:\u001b[0m\n",
      "0.9718\t0.8871\t0.9776\t0.9844\t0.9309\t0.9659000039100647\t0.40549999475479126\t0.010599999688565731\t0.003700000001117587\t21432\n",
      "\n",
      "\u001b[1mDonor:\u001b[0m\n",
      "0.9713\t0.8973\t0.9828\t0.9881\t0.9384\t0.9757999777793884\t0.5040000081062317\t0.008500000461935997\t0.00279999990016222\t21432\n",
      "epoch: 2/10, val loss = 0.000247\n"
     ]
    },
    {
     "name": "stderr",
     "output_type": "stream",
     "text": [
      "Epoch (train) 3/10: 100%|█| 202/202 [34:12<00:00, 10.16s/it, accepor_recall=0.908, donor_recall=0.918, loss=0.000175, loss_small=0.000348, pred_l1_di\n"
     ]
    },
    {
     "name": "stdout",
     "output_type": "stream",
     "text": [
      "epoch: 3/10, train loss = 0.000211\n"
     ]
    },
    {
     "name": "stderr",
     "output_type": "stream",
     "text": [
      "Epoch (val) 3/10: 100%|█| 23/23 [05:37<00:00, 14.65s/it, accepor_recall=0.903, donor_recall=0.924, loss=0.000295, loss_small=0.000528, pred_l1_dist=0\n"
     ]
    },
    {
     "name": "stdout",
     "output_type": "stream",
     "text": [
      "\n",
      "\u001b[1mAcceptor:\u001b[0m\n",
      "0.9701\t0.9038\t0.982\t0.9898\t0.9389\t0.9531000256538391\t0.550000011920929\t0.009700000286102295\t0.0015999999595806003\t21432\n",
      "\n",
      "\u001b[1mDonor:\u001b[0m\n",
      "0.9708\t0.9013\t0.9837\t0.9896\t0.9409\t0.968500018119812\t0.6656000018119812\t0.010599999688565731\t0.0026000000070780516\t21432\n",
      "epoch: 3/10, val loss = 0.000228\n"
     ]
    },
    {
     "name": "stderr",
     "output_type": "stream",
     "text": [
      "Epoch (train) 4/10: 100%|█| 202/202 [34:09<00:00, 10.15s/it, accepor_recall=0.917, donor_recall=nan, loss=0.000164, loss_small=0.00031, pred_l1_dist=\n"
     ]
    },
    {
     "name": "stdout",
     "output_type": "stream",
     "text": [
      "epoch: 4/10, train loss = 0.000185\n"
     ]
    },
    {
     "name": "stderr",
     "output_type": "stream",
     "text": [
      "Epoch (val) 4/10: 100%|█| 23/23 [05:35<00:00, 14.57s/it, accepor_recall=0.879, donor_recall=0.883, loss=0.000275, loss_small=0.000664, pred_l1_dist=0\n"
     ]
    },
    {
     "name": "stdout",
     "output_type": "stream",
     "text": [
      "\n",
      "\u001b[1mAcceptor:\u001b[0m\n",
      "0.9709\t0.9073\t0.9825\t0.9883\t0.9422\t0.9628000259399414\t0.4250999987125397\t0.0071000000461936\t0.0020000000949949026\t21432\n",
      "\n",
      "\u001b[1mDonor:\u001b[0m\n",
      "0.9698\t0.9112\t0.9852\t0.9905\t0.9456\t0.9420999884605408\t0.3668999969959259\t0.007799999788403511\t0.002300000051036477\t21432\n",
      "epoch: 4/10, val loss = 0.000213\n"
     ]
    },
    {
     "name": "stderr",
     "output_type": "stream",
     "text": [
      "Epoch (train) 5/10: 100%|█| 202/202 [33:53<00:00, 10.07s/it, accepor_recall=0.928, donor_recall=0.931, loss=0.000146, loss_small=0.000779, pred_l1_di\n"
     ]
    },
    {
     "name": "stdout",
     "output_type": "stream",
     "text": [
      "epoch: 5/10, train loss = 0.000227\n"
     ]
    },
    {
     "name": "stderr",
     "output_type": "stream",
     "text": [
      "Epoch (val) 5/10: 100%|█| 23/23 [05:25<00:00, 14.17s/it, accepor_recall=0.92, donor_recall=0.924, loss=0.000292, loss_small=0.00126, pred_l1_dist=0.0\n"
     ]
    },
    {
     "name": "stdout",
     "output_type": "stream",
     "text": [
      "\n",
      "\u001b[1mAcceptor:\u001b[0m\n",
      "0.9744\t0.9171\t0.9863\t0.9924\t0.9495\t0.9884999990463257\t0.613099992275238\t0.005100000184029341\t0.000699999975040555\t21432\n",
      "\n",
      "\u001b[1mDonor:\u001b[0m\n",
      "0.9703\t0.9181\t0.9858\t0.9897\t0.9456\t0.9836000204086304\t0.5465999841690063\t0.002199999988079071\t0.00019999999494757503\t21432\n",
      "epoch: 5/10, val loss = 0.000222\n"
     ]
    },
    {
     "name": "stderr",
     "output_type": "stream",
     "text": [
      "Epoch (train) 6/10: 100%|█| 202/202 [34:11<00:00, 10.15s/it, accepor_recall=0.912, donor_recall=0.919, loss=0.000188, loss_small=0.00032, pred_l1_dis\n"
     ]
    },
    {
     "name": "stdout",
     "output_type": "stream",
     "text": [
      "epoch: 6/10, train loss = 0.000168\n"
     ]
    },
    {
     "name": "stderr",
     "output_type": "stream",
     "text": [
      "Epoch (val) 6/10: 100%|█| 23/23 [05:17<00:00, 13.81s/it, accepor_recall=0.87, donor_recall=0.876, loss=0.000284, loss_small=0.000476, pred_l1_dist=0.\n"
     ]
    },
    {
     "name": "stdout",
     "output_type": "stream",
     "text": [
      "\n",
      "\u001b[1mAcceptor:\u001b[0m\n",
      "0.9716\t0.9134\t0.9811\t0.9863\t0.9414\t0.9771999716758728\t0.25519999861717224\t0.0035000001080334187\t0.0015999999595806003\t21432\n",
      "\n",
      "\u001b[1mDonor:\u001b[0m\n",
      "0.9746\t0.9194\t0.9867\t0.9904\t0.9511\t0.9520000219345093\t0.19760000705718994\t0.002199999988079071\t0.0010000000474974513\t21432\n",
      "epoch: 6/10, val loss = 0.000220\n"
     ]
    },
    {
     "name": "stderr",
     "output_type": "stream",
     "text": [
      "Epoch (train) 7/10: 100%|█| 202/202 [34:03<00:00, 10.12s/it, accepor_recall=0.941, donor_recall=0.938, loss=0.000121, loss_small=0.000248, pred_l1_di\n"
     ]
    },
    {
     "name": "stdout",
     "output_type": "stream",
     "text": [
      "epoch: 7/10, train loss = 0.000154\n"
     ]
    },
    {
     "name": "stderr",
     "output_type": "stream",
     "text": [
      "Epoch (val) 7/10: 100%|█| 23/23 [05:19<00:00, 13.89s/it, accepor_recall=0.92, donor_recall=0.935, loss=0.000263, loss_small=0.000405, pred_l1_dist=0.\n"
     ]
    },
    {
     "name": "stdout",
     "output_type": "stream",
     "text": [
      "\n",
      "\u001b[1mAcceptor:\u001b[0m\n",
      "0.974\t0.9192\t0.9872\t0.9926\t0.9511\t0.9842000007629395\t0.6078000068664551\t0.004699999932199717\t0.0008999999845400453\t21432\n",
      "\n",
      "\u001b[1mDonor:\u001b[0m\n",
      "0.9759\t0.9227\t0.9906\t0.9953\t0.9557\t0.9839000105857849\t0.649399995803833\t0.005499999970197678\t0.0007999999797903001\t21432\n",
      "epoch: 7/10, val loss = 0.000195\n"
     ]
    },
    {
     "name": "stderr",
     "output_type": "stream",
     "text": [
      "Epoch (train) 8/10: 100%|█| 202/202 [33:53<00:00, 10.07s/it, accepor_recall=0.927, donor_recall=0.939, loss=0.000115, loss_small=0.000271, pred_l1_di\n"
     ]
    },
    {
     "name": "stdout",
     "output_type": "stream",
     "text": [
      "epoch: 8/10, train loss = 0.000130\n"
     ]
    },
    {
     "name": "stderr",
     "output_type": "stream",
     "text": [
      "Epoch (val) 8/10: 100%|█| 23/23 [05:21<00:00, 13.96s/it, accepor_recall=0.924, donor_recall=0.933, loss=0.00024, loss_small=0.000416, pred_l1_dist=0.\n"
     ]
    },
    {
     "name": "stdout",
     "output_type": "stream",
     "text": [
      "\n",
      "\u001b[1mAcceptor:\u001b[0m\n",
      "0.9754\t0.9248\t0.9884\t0.9934\t0.9549\t0.9835000038146973\t0.5741999745368958\t0.006300000008195639\t0.00139999995008111\t21432\n",
      "\n",
      "\u001b[1mDonor:\u001b[0m\n",
      "0.9753\t0.9296\t0.9917\t0.9952\t0.9583\t0.9829999804496765\t0.5422999858856201\t0.0031999999191612005\t0.000699999975040555\t21432\n",
      "epoch: 8/10, val loss = 0.000178\n"
     ]
    },
    {
     "name": "stderr",
     "output_type": "stream",
     "text": [
      "Epoch (train) 9/10: 100%|█| 202/202 [34:08<00:00, 10.14s/it, accepor_recall=0.961, donor_recall=0.963, loss=0.000111, loss_small=0.000234, pred_l1_di\n"
     ]
    },
    {
     "name": "stdout",
     "output_type": "stream",
     "text": [
      "epoch: 9/10, train loss = 0.000108\n"
     ]
    },
    {
     "name": "stderr",
     "output_type": "stream",
     "text": [
      "Epoch (val) 9/10: 100%|█| 23/23 [05:20<00:00, 13.92s/it, accepor_recall=0.918, donor_recall=0.927, loss=0.000235, loss_small=0.000397, pred_l1_dist=0\n"
     ]
    },
    {
     "name": "stdout",
     "output_type": "stream",
     "text": [
      "\n",
      "\u001b[1mAcceptor:\u001b[0m\n",
      "0.9758\t0.9274\t0.9884\t0.9918\t0.9563\t0.9753000140190125\t0.48750001192092896\t0.002400000113993883\t0.0007999999797903001\t21432\n",
      "\n",
      "\u001b[1mDonor:\u001b[0m\n",
      "0.9766\t0.9309\t0.9916\t0.9939\t0.9596\t0.9643999934196472\t0.4401000142097473\t0.0017999999690800905\t0.0006000000284984708\t21432\n",
      "epoch: 9/10, val loss = 0.000176\n"
     ]
    },
    {
     "name": "stderr",
     "output_type": "stream",
     "text": [
      "Epoch (train) 10/10: 100%|█| 202/202 [34:30<00:00, 10.25s/it, accepor_recall=0.959, donor_recall=0.957, loss=8.62e-5, loss_small=0.000213, pred_l1_di\n"
     ]
    },
    {
     "name": "stdout",
     "output_type": "stream",
     "text": [
      "epoch: 10/10, train loss = 0.000102\n"
     ]
    },
    {
     "name": "stderr",
     "output_type": "stream",
     "text": [
      "Epoch (val) 10/10: 100%|█| 23/23 [05:39<00:00, 14.74s/it, accepor_recall=0.922, donor_recall=0.935, loss=0.000235, loss_small=0.000399, pred_l1_dist=\n"
     ]
    },
    {
     "name": "stdout",
     "output_type": "stream",
     "text": [
      "\n",
      "\u001b[1mAcceptor:\u001b[0m\n",
      "0.9763\t0.9288\t0.9884\t0.9924\t0.9562\t0.9797999858856201\t0.5303000211715698\t0.002300000051036477\t0.0006000000284984708\t21432\n",
      "\n",
      "\u001b[1mDonor:\u001b[0m\n",
      "0.9773\t0.9311\t0.9912\t0.9954\t0.9605\t0.9807000160217285\t0.5835999846458435\t0.0019000000320374966\t0.00039999998989515007\t21432\n",
      "epoch: 10/10, val loss = 0.000176\n"
     ]
    },
    {
     "data": {
      "image/png": "[encoded data removed]",
      "text/plain": [
       "<Figure size 432x288 with 1 Axes>"
      ]
     },
     "metadata": {
      "needs_background": "light"
     },
     "output_type": "display_data"
    }
   ],
   "source": [
    "device = torch.device(\"cuda\" if torch.cuda.is_available() else \"cpu\")\n",
    "epochs = 10\n",
    "hs = []\n",
    "\n",
    "for model_nr in range(1,5):\n",
    "    model_m = SpliceFormer(CL_max,maxSeqLength=512)\n",
    "    model_m.apply(keras_init)\n",
    "    model_m = model_m.to(device)\n",
    "    if torch.cuda.device_count() > 1:\n",
    "        #print(\"Let's use\", torch.cuda.device_count(), \"GPUs!\")\n",
    "        # dim = 0 [30, xxx] -> [10, ...], [10, ...], [10, ...] on 3 GPUs\n",
    "        model_m = nn.DataParallel(model_m)\n",
    "    \n",
    "    modelFileName = '../Results/PyTorch_Models/transformer_encoder_80k_{}'.format(model_nr)\n",
    "    #model_m.load_state_dict(torch.load('../Results/PyTorch_Models/SpliceAI_Ensembl_dgxtest_{}'.format(0)))\n",
    "    #loss = nn.CrossEntropyLoss(weight=torch.from_numpy(weights).float().to(device),ignore_index=-1,reduction='mean')\n",
    "    loss = categorical_crossentropy_2d().loss\n",
    "    #loss = nn.KLDivLoss()\n",
    "    learning_rate= 1e-3\n",
    "    optimizer = torch.optim.Adam(model_m.parameters(), lr=learning_rate)\n",
    "    scheduler = torch.optim.lr_scheduler.StepLR(optimizer, step_size=1, gamma=0.5)\n",
    "    warmup = get_constant_schedule_with_warmup(optimizer, num_warmup_steps=1000)\n",
    "    h = trainModel(model_m,modelFileName,loss,train_loader,val_loader,optimizer,scheduler,warmup,BATCH_SIZE,epochs,device)\n",
    "    hs.append(h)\n",
    "\n",
    "    plt.plot(range(epochs),h['loss'],label='Train')\n",
    "    plt.plot(range(epochs),h['val_loss'],label='Validation')\n",
    "    plt.xlabel('Epoch')\n",
    "    plt.ylabel('Loss')\n",
    "    plt.legend()\n",
    "    plt.show()"
   ]
  },
  {
   "cell_type": "code",
   "execution_count": null,
   "metadata": {},
   "outputs": [],
   "source": [
    "device = torch.device(\"cuda\" if torch.cuda.is_available() else \"cpu\")\n",
    "epochs = 10\n",
    "hs = []\n",
    "\n",
    "model_nr = 1\n",
    "#for model_nr in range(1,5):\n",
    "\n",
    "model_m = SpliceFormer(CL_max,maxSeqLength=512)\n",
    "model_m.apply(keras_init)\n",
    "model_m = model_m.to(device)\n",
    "if torch.cuda.device_count() > 1:\n",
    "    #print(\"Let's use\", torch.cuda.device_count(), \"GPUs!\")\n",
    "    # dim = 0 [30, xxx] -> [10, ...], [10, ...], [10, ...] on 3 GPUs\n",
    "    model_m = nn.DataParallel(model_m)\n",
    "\n",
    "modelFileName = '../Results/PyTorch_Models/transformer_encoder_80k_{}'.format(model_nr)\n",
    "#model_m.load_state_dict(torch.load('../Results/PyTorch_Models/SpliceAI_Ensembl_dgxtest_{}'.format(0)))\n",
    "#loss = nn.CrossEntropyLoss(weight=torch.from_numpy(weights).float().to(device),ignore_index=-1,reduction='mean')\n",
    "loss = categorical_crossentropy_2d().loss\n",
    "#loss = nn.KLDivLoss()\n",
    "learning_rate= 1e-3\n",
    "optimizer = torch.optim.Adam(model_m.parameters(), lr=learning_rate)\n",
    "scheduler = torch.optim.lr_scheduler.StepLR(optimizer, step_size=1, gamma=0.5)\n",
    "warmup = get_constant_schedule_with_warmup(optimizer, num_warmup_steps=1000)\n",
    "h = trainModel(model_m,modelFileName,loss,train_loader,val_loader,optimizer,scheduler,warmup,BATCH_SIZE,epochs,device)\n",
    "hs.append(h)\n",
    "\n",
    "plt.plot(range(epochs),h['loss'],label='Train')\n",
    "plt.plot(range(epochs),h['val_loss'],label='Validation')\n",
    "plt.xlabel('Epoch')\n",
    "plt.ylabel('Loss')\n",
    "plt.legend()\n",
    "plt.show()"
   ]
  },
  {
   "cell_type": "code",
   "execution_count": null,
   "metadata": {},
   "outputs": [],
   "source": [
    "device = torch.device(\"cuda\" if torch.cuda.is_available() else \"cpu\")\n",
    "h5f = h5py.File('/odinn/tmp/benediktj/Data/SplicePrediction/gencode_40k_dataset_test_.h5')\n",
    "\n",
    "num_idx = len(h5f.keys())//2\n",
    "\n",
    "test_dataset = h5pyDataset(h5f,list(range(num_idx)))\n",
    "test_loader = torch.utils.data.DataLoader(test_dataset, batch_size=1, shuffle=False, num_workers=0)\n",
    "\n",
    "temp = 1\n",
    "n_models = 5\n",
    "device = torch.device(\"cuda\" if torch.cuda.is_available() else \"cpu\")\n",
    "model_m = SpliceFormer(CL_max)\n",
    "model_m.apply(keras_init)\n",
    "model_m = model_m.to(device)\n",
    "\n",
    "if torch.cuda.device_count() > 1:\n",
    "    model_m = nn.DataParallel(model_m)\n",
    "\n",
    "output_class_labels = ['Null', 'Acceptor', 'Donor']\n",
    "\n",
    "#for output_class in [1,2]:\n",
    "models = [copy.deepcopy(model_m) for i in range(n_models)]\n",
    "[model.load_state_dict(torch.load('../Results/PyTorch_Models/transformer_encoder_40k_190422_{}'.format(i))) for i,model in enumerate(models)]\n",
    "\n",
    "Y_true_acceptor, Y_pred_acceptor = [],[]\n",
    "Y_true_donor, Y_pred_donor = [],[]\n",
    "\n",
    "for (batch_chunks,target_chunks) in tqdm(test_loader):\n",
    "    batch_chunks = torch.transpose(batch_chunks[0].to(device),1,2)\n",
    "    target_chunks = torch.transpose(torch.squeeze(target_chunks[0].to(device),0),1,2)\n",
    "    #print(np.max(target_chunks.cpu().numpy()[:,2,:]))\n",
    "    n_chunks = int(np.ceil(batch_chunks.shape[0]/BATCH_SIZE))\n",
    "    batch_chunks = torch.chunk(batch_chunks, n_chunks, dim=0)\n",
    "    target_chunks = torch.chunk(target_chunks, n_chunks, dim=0)\n",
    "    targets_list = []\n",
    "    outputs_list = []\n",
    "    for j in range(len(batch_chunks)):\n",
    "        batch_features = batch_chunks[j]\n",
    "        targets = target_chunks[j]\n",
    "        outputs = ([models[i](batch_features)[1].detach() for i in range(n_models)])\n",
    "        outputs = (outputs[0]+outputs[1]+outputs[2]+outputs[3]+outputs[4])/n_models\n",
    "        #outputs = (outputs[0]+outputs[1]+outputs[2])/n_models\n",
    "        targets_list.extend(targets.unsqueeze(0))\n",
    "        outputs_list.extend(outputs.unsqueeze(0))\n",
    "\n",
    "    targets = torch.transpose(torch.vstack(targets_list),1,2).cpu().numpy()\n",
    "    outputs = torch.transpose(torch.vstack(outputs_list),1,2).cpu().numpy()\n",
    "\n",
    "    is_expr = (targets.sum(axis=(1,2)) >= 1)\n",
    "    Y_true_acceptor.extend(targets[is_expr, :, 1].flatten())\n",
    "    Y_true_donor.extend(targets[is_expr, :, 2].flatten())\n",
    "    Y_pred_acceptor.extend(outputs[is_expr, :, 1].flatten())\n",
    "    Y_pred_donor.extend(outputs[is_expr, :, 2].flatten())"
   ]
  },
  {
   "cell_type": "code",
   "execution_count": null,
   "metadata": {},
   "outputs": [],
   "source": [
    "Y_true_acceptor, Y_pred_acceptor,Y_true_donor, Y_pred_donor = np.array(Y_true_acceptor), np.array(Y_pred_acceptor),np.array(Y_true_donor), np.array(Y_pred_donor)\n",
    "print(\"\\n\\033[1m{}:\\033[0m\".format('Acceptor'))\n",
    "acceptor_val_results = print_topl_statistics(Y_true_acceptor, Y_pred_acceptor)\n",
    "print(\"\\n\\033[1m{}:\\033[0m\".format('Donor'))\n",
    "donor_val_results =print_topl_statistics(Y_true_donor, Y_pred_donor)"
   ]
  },
  {
   "cell_type": "code",
   "execution_count": null,
   "metadata": {},
   "outputs": [],
   "source": [
    "setType = 'test'\n",
    "annotation_test, transcriptToLabel_test, seqData = getData(data_dir, setType)    \n"
   ]
  },
  {
   "cell_type": "code",
   "execution_count": null,
   "metadata": {
    "scrolled": true
   },
   "outputs": [],
   "source": [
    "temp = 1\n",
    "n_models = 5\n",
    "device = torch.device(\"cuda\" if torch.cuda.is_available() else \"cpu\")\n",
    "model_m = SpliceFormer(CL_max)\n",
    "model_m.apply(keras_init)\n",
    "model_m = model_m.to(device)\n",
    "\n",
    "if torch.cuda.device_count() > 1:\n",
    "    model_m = nn.DataParallel(model_m)\n",
    "\n",
    "output_class_labels = ['Null', 'Acceptor', 'Donor']\n",
    "\n",
    "#for output_class in [1,2]:\n",
    "models = [copy.deepcopy(model_m) for i in range(n_models)]\n",
    "[model.load_state_dict(torch.load('../Results/PyTorch_Models/transformer_encoder_80k_{}'.format(i))) for i,model in enumerate(models)]\n",
    "#nr = [0,2,3]\n",
    "#[model.load_state_dict(torch.load('../Results/PyTorch_Models/transformer_encoder_40k_201221_{}'.format(nr[i]))) for i,model in enumerate(models)]\n",
    "#chunkSize = num_idx/10\n",
    "\n",
    "\n",
    "Y_true_acceptor, Y_pred_acceptor = [],[]\n",
    "Y_true_donor, Y_pred_donor = [],[]\n",
    "test_dataset = spliceDataset(annotation_test,transcriptToLabel_test,SL,CL_max)\n",
    "test_dataset.seqData = seqData\n",
    "test_loader = torch.utils.data.DataLoader(test_dataset, batch_size=100, shuffle=False, num_workers=0,collate_fn=collate_fn, pin_memory=True)\n",
    "\n",
    "\n",
    "for (batch_chunks,target_chunks) in tqdm(test_loader):\n",
    "    batch_chunks = torch.transpose(batch_chunks.to(device),1,2)\n",
    "    target_chunks = torch.transpose(torch.squeeze(target_chunks.to(device),0),1,2)\n",
    "    batch_chunks = torch.split(batch_chunks, BATCH_SIZE, dim=0)\n",
    "    target_chunks = torch.split(target_chunks, BATCH_SIZE, dim=0)\n",
    "    targets_list = []\n",
    "    outputs_list = []\n",
    "    for j in range(len(batch_chunks)):\n",
    "        batch_features = batch_chunks[j]\n",
    "        targets = target_chunks[j]\n",
    "        outputs = ([models[i](batch_features)[1].detach() for i in range(n_models)])\n",
    "        outputs = (outputs[0]+outputs[1]+outputs[2]+outputs[3]+outputs[4])/n_models\n",
    "        #outputs = (outputs[0]+outputs[1]+outputs[2])/n_models\n",
    "        targets_list.extend(targets.unsqueeze(0))\n",
    "        outputs_list.extend(outputs.unsqueeze(0))\n",
    "\n",
    "    targets = torch.transpose(torch.vstack(targets_list),1,2).cpu().numpy()\n",
    "    outputs = torch.transpose(torch.vstack(outputs_list),1,2).cpu().numpy()\n",
    "\n",
    "    is_expr = (targets.sum(axis=(1,2)) >= 1)\n",
    "    Y_true_acceptor.extend(targets[is_expr, :, 1].flatten())\n",
    "    Y_true_donor.extend(targets[is_expr, :, 2].flatten())\n",
    "    Y_pred_acceptor.extend(outputs[is_expr, :, 1].flatten())\n",
    "    Y_pred_donor.extend(outputs[is_expr, :, 2].flatten())\n",
    "\n"
   ]
  },
  {
   "cell_type": "code",
   "execution_count": null,
   "metadata": {},
   "outputs": [],
   "source": [
    "Y_true_acceptor, Y_pred_acceptor,Y_true_donor, Y_pred_donor = np.array(Y_true_acceptor), np.array(Y_pred_acceptor),np.array(Y_true_donor), np.array(Y_pred_donor)\n",
    "print(\"\\n\\033[1m{}:\\033[0m\".format('Acceptor'))\n",
    "acceptor_val_results = print_topl_statistics(Y_true_acceptor, Y_pred_acceptor)\n",
    "print(\"\\n\\033[1m{}:\\033[0m\".format('Donor'))\n",
    "donor_val_results =print_topl_statistics(Y_true_donor, Y_pred_donor)"
   ]
  },
  {
   "cell_type": "code",
   "execution_count": 24,
   "metadata": {},
   "outputs": [
    {
     "data": {
      "text/plain": [
       "0.9683999999999999"
      ]
     },
     "execution_count": 24,
     "metadata": {},
     "output_type": "execute_result"
    }
   ],
   "source": [
    "(0.966+0.9708)/2"
   ]
  }
 ],
 "metadata": {
  "kernelspec": {
   "display_name": "Python 3 (ipykernel)",
   "language": "python",
   "name": "python3"
  },
  "language_info": {
   "codemirror_mode": {
    "name": "ipython",
    "version": 3
   },
   "file_extension": ".py",
   "mimetype": "text/x-python",
   "name": "python",
   "nbconvert_exporter": "python",
   "pygments_lexer": "ipython3",
   "version": "3.8.12"
  }
 },
 "nbformat": 4,
 "nbformat_minor": 4
}
