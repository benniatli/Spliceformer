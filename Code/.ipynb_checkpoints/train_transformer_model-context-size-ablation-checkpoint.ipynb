{
 "cells": [
  {
   "cell_type": "code",
   "execution_count": 1,
   "metadata": {},
   "outputs": [],
   "source": [
    "import numpy as np\n",
    "import sys\n",
    "import time\n",
    "import h5py\n",
    "from tqdm import tqdm\n",
    "\n",
    "import numpy as np\n",
    "import re\n",
    "from math import ceil\n",
    "from sklearn.metrics import average_precision_score\n",
    "from torch.utils.data import Dataset\n",
    "import torch\n",
    "import torch.nn as nn\n",
    "import pandas as pd\n",
    "import matplotlib.pyplot as plt\n",
    "import pickle\n",
    "#import pickle5 as pickle\n",
    "\n",
    "from sklearn.model_selection import train_test_split\n",
    "\n",
    "from scipy.sparse import load_npz\n",
    "from glob import glob\n",
    "\n",
    "from transformers import get_constant_schedule_with_warmup\n",
    "from sklearn.metrics import precision_score,recall_score,accuracy_score\n",
    "import copy\n",
    "\n",
    "from src.train import trainModel\n",
    "from src.dataloader import getData,spliceDataset,h5pyDataset,collate_fn\n",
    "from src.weight_init import keras_init\n",
    "from src.losses import categorical_crossentropy_2d\n",
    "from src.models import SpliceFormer\n",
    "from src.evaluation_metrics import print_topl_statistics\n",
    "#import tensorflow as tf"
   ]
  },
  {
   "cell_type": "code",
   "execution_count": 2,
   "metadata": {},
   "outputs": [
    {
     "name": "stdout",
     "output_type": "stream",
     "text": [
      "Tue May 31 13:50:37 2022       \n",
      "+-----------------------------------------------------------------------------+\n",
      "| NVIDIA-SMI 450.80.02    Driver Version: 450.80.02    CUDA Version: 11.4     |\n",
      "|-------------------------------+----------------------+----------------------+\n",
      "| GPU  Name        Persistence-M| Bus-Id        Disp.A | Volatile Uncorr. ECC |\n",
      "| Fan  Temp  Perf  Pwr:Usage/Cap|         Memory-Usage | GPU-Util  Compute M. |\n",
      "|                               |                      |               MIG M. |\n",
      "|===============================+======================+======================|\n",
      "|   0  Tesla V100-SXM2...  On   | 00000000:06:00.0 Off |                    0 |\n",
      "| N/A   34C    P0    56W / 300W |      0MiB / 32510MiB |      0%      Default |\n",
      "|                               |                      |                  N/A |\n",
      "+-------------------------------+----------------------+----------------------+\n",
      "|   1  Tesla V100-SXM2...  On   | 00000000:07:00.0 Off |                    0 |\n",
      "| N/A   35C    P0    44W / 300W |      0MiB / 32510MiB |      0%      Default |\n",
      "|                               |                      |                  N/A |\n",
      "+-------------------------------+----------------------+----------------------+\n",
      "|   2  Tesla V100-SXM2...  On   | 00000000:0A:00.0 Off |                    0 |\n",
      "| N/A   35C    P0    44W / 300W |      0MiB / 32510MiB |      0%      Default |\n",
      "|                               |                      |                  N/A |\n",
      "+-------------------------------+----------------------+----------------------+\n",
      "|   3  Tesla V100-SXM2...  On   | 00000000:0B:00.0 Off |                    0 |\n",
      "| N/A   31C    P0    43W / 300W |      0MiB / 32510MiB |      0%      Default |\n",
      "|                               |                      |                  N/A |\n",
      "+-------------------------------+----------------------+----------------------+\n",
      "|   4  Tesla V100-SXM2...  On   | 00000000:85:00.0 Off |                    0 |\n",
      "| N/A   32C    P0    44W / 300W |      0MiB / 32510MiB |      0%      Default |\n",
      "|                               |                      |                  N/A |\n",
      "+-------------------------------+----------------------+----------------------+\n",
      "|   5  Tesla V100-SXM2...  On   | 00000000:86:00.0 Off |                    0 |\n",
      "| N/A   34C    P0    43W / 300W |      0MiB / 32510MiB |      0%      Default |\n",
      "|                               |                      |                  N/A |\n",
      "+-------------------------------+----------------------+----------------------+\n",
      "|   6  Tesla V100-SXM2...  On   | 00000000:89:00.0 Off |                    0 |\n",
      "| N/A   37C    P0    43W / 300W |      0MiB / 32510MiB |      0%      Default |\n",
      "|                               |                      |                  N/A |\n",
      "+-------------------------------+----------------------+----------------------+\n",
      "|   7  Tesla V100-SXM2...  On   | 00000000:8A:00.0 Off |                    0 |\n",
      "| N/A   33C    P0    43W / 300W |      0MiB / 32510MiB |      0%      Default |\n",
      "|                               |                      |                  N/A |\n",
      "+-------------------------------+----------------------+----------------------+\n",
      "                                                                               \n",
      "+-----------------------------------------------------------------------------+\n",
      "| Processes:                                                                  |\n",
      "|  GPU   GI   CI        PID   Type   Process name                  GPU Memory |\n",
      "|        ID   ID                                                   Usage      |\n",
      "|=============================================================================|\n",
      "|  No running processes found                                                 |\n",
      "+-----------------------------------------------------------------------------+\n"
     ]
    }
   ],
   "source": [
    "!nvidia-smi"
   ]
  },
  {
   "cell_type": "code",
   "execution_count": 3,
   "metadata": {},
   "outputs": [],
   "source": [
    "#!pip install pickle5"
   ]
  },
  {
   "cell_type": "code",
   "execution_count": 4,
   "metadata": {},
   "outputs": [],
   "source": [
    "rng = np.random.default_rng(23673)"
   ]
  },
  {
   "cell_type": "code",
   "execution_count": 5,
   "metadata": {},
   "outputs": [],
   "source": [
    "#gtf = None"
   ]
  },
  {
   "cell_type": "code",
   "execution_count": 6,
   "metadata": {},
   "outputs": [],
   "source": [
    "L = 32\n",
    "N_GPUS = 8\n",
    "k = 1\n",
    "# Hyper-parameters:\n",
    "# L: Number of convolution kernels\n",
    "# W: Convolution window size in each residual unit\n",
    "# AR: Atrous rate in each residual unit\n",
    "\n",
    "W = np.asarray([11, 11, 11, 11, 11, 11, 11, 11,\n",
    "                21, 21, 21, 21, 41, 41, 41, 41])\n",
    "AR = np.asarray([1, 1, 1, 1, 4, 4, 4, 4,\n",
    "                 10, 10, 10, 10, 25, 25, 25, 25])\n",
    "BATCH_SIZE = k*6*N_GPUS\n",
    "\n",
    "\n",
    "CL = 2 * np.sum(AR*(W-1))"
   ]
  },
  {
   "cell_type": "code",
   "execution_count": 7,
   "metadata": {},
   "outputs": [],
   "source": [
    "data_dir = '/odinn/tmp/benediktj/Data/SplicePrediction-050422'\n",
    "setType = 'train'\n",
    "annotation, transcriptToLabel, seqData = getData(data_dir, setType)"
   ]
  },
  {
   "cell_type": "code",
   "execution_count": 8,
   "metadata": {},
   "outputs": [],
   "source": [
    "# Maximum nucleotide context length (CL_max/2 on either side of the \n",
    "# position of interest)\n",
    "# CL_max should be an even number\n",
    "# Sequence length of SpliceAIs (SL+CL will be the input length and\n",
    "# SL will be the output length)\n",
    "\n",
    "SL=5000\n",
    "CL_max=40000"
   ]
  },
  {
   "cell_type": "code",
   "execution_count": 9,
   "metadata": {},
   "outputs": [],
   "source": [
    "assert CL_max % 2 == 0"
   ]
  },
  {
   "cell_type": "code",
   "execution_count": 10,
   "metadata": {},
   "outputs": [],
   "source": [
    "train_gene, validation_gene = train_test_split(annotation['gene'].drop_duplicates(),test_size=.1,random_state=435)\n",
    "annotation_train = annotation[annotation['gene'].isin(train_gene)]\n",
    "annotation_validation = annotation[annotation['gene'].isin(validation_gene)]"
   ]
  },
  {
   "cell_type": "code",
   "execution_count": 13,
   "metadata": {
    "scrolled": true
   },
   "outputs": [
    {
     "name": "stderr",
     "output_type": "stream",
     "text": [
      "Epoch (train) 1/10: 100%|███████████████████████████████████████████████████████| 202/202 [22:01<00:00,  6.54s/it, accepor_recall=0.88, donor_recall=0.886, loss=0.000225, pred_l1_dist=0]\n"
     ]
    },
    {
     "name": "stdout",
     "output_type": "stream",
     "text": [
      "epoch: 1/10, train loss = 0.007692\n"
     ]
    },
    {
     "name": "stderr",
     "output_type": "stream",
     "text": [
      "Epoch (val) 1/10: 100%|███████████████████████████████████████████████████████████| 23/23 [04:10<00:00, 10.90s/it, accepor_recall=0.822, donor_recall=0.86, loss=0.000354, pred_l1_dist=0]\n"
     ]
    },
    {
     "name": "stdout",
     "output_type": "stream",
     "text": [
      "\n",
      "\u001b[1mAcceptor:\u001b[0m\n",
      "0.9687\t0.8825\t0.9728\t0.9872\t0.9254\t0.9682999849319458\t0.2624000012874603\t0.005900000222027302\t0.0008999999845400453\t21432\n",
      "\n",
      "\u001b[1mDonor:\u001b[0m\n",
      "0.9656\t0.8904\t0.9804\t0.9898\t0.9321\t0.9588000178337097\t0.37709999084472656\t0.00559999980032444\t0.000699999975040555\t21432\n",
      "epoch: 1/10, val loss = 0.000272\n"
     ]
    },
    {
     "name": "stderr",
     "output_type": "stream",
     "text": [
      "Epoch (train) 2/10: 100%|██████████████████████████████████████████████████████| 202/202 [21:52<00:00,  6.50s/it, accepor_recall=0.906, donor_recall=0.907, loss=0.000172, pred_l1_dist=0]\n"
     ]
    },
    {
     "name": "stdout",
     "output_type": "stream",
     "text": [
      "epoch: 2/10, train loss = 0.000197\n"
     ]
    },
    {
     "name": "stderr",
     "output_type": "stream",
     "text": [
      "Epoch (val) 2/10: 100%|██████████████████████████████████████████████████████████| 23/23 [04:07<00:00, 10.76s/it, accepor_recall=0.907, donor_recall=0.917, loss=0.000299, pred_l1_dist=0]\n"
     ]
    },
    {
     "name": "stdout",
     "output_type": "stream",
     "text": [
      "\n",
      "\u001b[1mAcceptor:\u001b[0m\n",
      "0.9727\t0.9057\t0.9821\t0.9912\t0.9425\t0.9843000173568726\t0.5691999793052673\t0.006099999882280827\t0.000699999975040555\t21432\n",
      "\n",
      "\u001b[1mDonor:\u001b[0m\n",
      "0.9719\t0.9029\t0.986\t0.9934\t0.9419\t0.9821000099182129\t0.652400016784668\t0.0071000000461936\t0.000699999975040555\t21432\n",
      "epoch: 2/10, val loss = 0.000230\n"
     ]
    },
    {
     "name": "stderr",
     "output_type": "stream",
     "text": [
      "Epoch (train) 3/10: 100%|██████████████████████████████████████████████████████| 202/202 [22:07<00:00,  6.57s/it, accepor_recall=0.925, donor_recall=0.929, loss=0.000171, pred_l1_dist=0]\n"
     ]
    },
    {
     "name": "stdout",
     "output_type": "stream",
     "text": [
      "epoch: 3/10, train loss = 0.000167\n"
     ]
    },
    {
     "name": "stderr",
     "output_type": "stream",
     "text": [
      "Epoch (val) 3/10: 100%|██████████████████████████████████████████████████████████| 23/23 [04:10<00:00, 10.88s/it, accepor_recall=0.887, donor_recall=0.885, loss=0.000295, pred_l1_dist=0]\n"
     ]
    },
    {
     "name": "stdout",
     "output_type": "stream",
     "text": [
      "\n",
      "\u001b[1mAcceptor:\u001b[0m\n",
      "0.9701\t0.904\t0.9829\t0.9916\t0.9416\t0.9652000069618225\t0.4309000074863434\t0.004999999888241291\t0.0007999999797903001\t21432\n",
      "\n",
      "\u001b[1mDonor:\u001b[0m\n",
      "0.971\t0.9052\t0.9853\t0.9935\t0.9448\t0.9722999930381775\t0.4343999922275543\t0.004399999976158142\t0.0006000000284984708\t21432\n",
      "epoch: 3/10, val loss = 0.000222\n"
     ]
    },
    {
     "name": "stderr",
     "output_type": "stream",
     "text": [
      "Epoch (train) 4/10: 100%|██████████████████████████████████████████████████████| 202/202 [22:17<00:00,  6.62s/it, accepor_recall=0.937, donor_recall=0.933, loss=0.000138, pred_l1_dist=0]\n"
     ]
    },
    {
     "name": "stdout",
     "output_type": "stream",
     "text": [
      "epoch: 4/10, train loss = 0.000148\n"
     ]
    },
    {
     "name": "stderr",
     "output_type": "stream",
     "text": [
      "Epoch (val) 4/10: 100%|██████████████████████████████████████████████████████████| 23/23 [04:09<00:00, 10.84s/it, accepor_recall=0.793, donor_recall=0.791, loss=0.000364, pred_l1_dist=0]\n"
     ]
    },
    {
     "name": "stdout",
     "output_type": "stream",
     "text": [
      "\n",
      "\u001b[1mAcceptor:\u001b[0m\n",
      "0.9714\t0.9034\t0.981\t0.9905\t0.9409\t0.8935999870300293\t0.09160000085830688\t0.0012000000569969416\t0.00019999999494757503\t21432\n",
      "\n",
      "\u001b[1mDonor:\u001b[0m\n",
      "0.971\t0.9024\t0.9864\t0.993\t0.9442\t0.8895000219345093\t0.1062999963760376\t0.00139999995008111\t0.0003000000142492354\t21432\n",
      "epoch: 4/10, val loss = 0.000289\n"
     ]
    },
    {
     "name": "stderr",
     "output_type": "stream",
     "text": [
      "Epoch (train) 5/10: 100%|████████████████████████████████████████████████████████| 202/202 [22:37<00:00,  6.72s/it, accepor_recall=0.931, donor_recall=0.94, loss=0.00011, pred_l1_dist=0]\n"
     ]
    },
    {
     "name": "stdout",
     "output_type": "stream",
     "text": [
      "epoch: 5/10, train loss = 0.000135\n"
     ]
    },
    {
     "name": "stderr",
     "output_type": "stream",
     "text": [
      "Epoch (val) 5/10: 100%|██████████████████████████████████████████████████████████| 23/23 [04:13<00:00, 11.01s/it, accepor_recall=0.918, donor_recall=0.937, loss=0.000246, pred_l1_dist=0]\n"
     ]
    },
    {
     "name": "stdout",
     "output_type": "stream",
     "text": [
      "\n",
      "\u001b[1mAcceptor:\u001b[0m\n",
      "0.9761\t0.9234\t0.9875\t0.9933\t0.9535\t0.9660000205039978\t0.5925999879837036\t0.006200000178068876\t0.0008999999845400453\t21432\n",
      "\n",
      "\u001b[1mDonor:\u001b[0m\n",
      "0.9729\t0.9266\t0.99\t0.995\t0.9543\t0.9702000021934509\t0.660099983215332\t0.004999999888241291\t0.0006000000284984708\t21432\n",
      "epoch: 5/10, val loss = 0.000183\n"
     ]
    },
    {
     "name": "stderr",
     "output_type": "stream",
     "text": [
      "Epoch (train) 6/10: 100%|██████████████████████████████████████████████████████| 202/202 [22:31<00:00,  6.69s/it, accepor_recall=0.943, donor_recall=0.945, loss=0.000111, pred_l1_dist=0]\n"
     ]
    },
    {
     "name": "stdout",
     "output_type": "stream",
     "text": [
      "epoch: 6/10, train loss = 0.000125\n"
     ]
    },
    {
     "name": "stderr",
     "output_type": "stream",
     "text": [
      "Epoch (val) 6/10: 100%|██████████████████████████████████████████████████████████| 23/23 [04:10<00:00, 10.90s/it, accepor_recall=0.906, donor_recall=0.909, loss=0.000265, pred_l1_dist=0]\n"
     ]
    },
    {
     "name": "stdout",
     "output_type": "stream",
     "text": [
      "\n",
      "\u001b[1mAcceptor:\u001b[0m\n",
      "0.9747\t0.9188\t0.9859\t0.9927\t0.9504\t0.9822999835014343\t0.46160000562667847\t0.00279999990016222\t0.00039999998989515007\t21432\n",
      "\n",
      "\u001b[1mDonor:\u001b[0m\n",
      "0.9753\t0.9212\t0.99\t0.9947\t0.954\t0.9682999849319458\t0.4124999940395355\t0.0019000000320374966\t0.0003000000142492354\t21432\n",
      "epoch: 6/10, val loss = 0.000196\n"
     ]
    },
    {
     "name": "stderr",
     "output_type": "stream",
     "text": [
      "Epoch (train) 7/10: 100%|██████████████████████████████████████████████████████| 202/202 [22:43<00:00,  6.75s/it, accepor_recall=0.945, donor_recall=0.947, loss=0.000126, pred_l1_dist=0]\n"
     ]
    },
    {
     "name": "stdout",
     "output_type": "stream",
     "text": [
      "epoch: 7/10, train loss = 0.000117\n"
     ]
    },
    {
     "name": "stderr",
     "output_type": "stream",
     "text": [
      "Epoch (val) 7/10: 100%|██████████████████████████████████████████████████████████| 23/23 [04:06<00:00, 10.72s/it, accepor_recall=0.906, donor_recall=0.929, loss=0.000251, pred_l1_dist=0]\n"
     ]
    },
    {
     "name": "stdout",
     "output_type": "stream",
     "text": [
      "\n",
      "\u001b[1mAcceptor:\u001b[0m\n",
      "0.973\t0.9177\t0.9862\t0.9928\t0.9484\t0.9674999713897705\t0.4749999940395355\t0.003599999938160181\t0.0006000000284984708\t21432\n",
      "\n",
      "\u001b[1mDonor:\u001b[0m\n",
      "0.9715\t0.9225\t0.9908\t0.9955\t0.9536\t0.9722999930381775\t0.5626000165939331\t0.0035000001080334187\t0.00039999998989515007\t21432\n",
      "epoch: 7/10, val loss = 0.000192\n"
     ]
    },
    {
     "name": "stderr",
     "output_type": "stream",
     "text": [
      "Epoch (train) 8/10: 100%|███████████████████████████████████████████████████████| 202/202 [22:43<00:00,  6.75s/it, accepor_recall=0.963, donor_recall=0.964, loss=7.64e-5, pred_l1_dist=0]\n"
     ]
    },
    {
     "name": "stdout",
     "output_type": "stream",
     "text": [
      "epoch: 8/10, train loss = 0.000095\n"
     ]
    },
    {
     "name": "stderr",
     "output_type": "stream",
     "text": [
      "Epoch (val) 8/10: 100%|███████████████████████████████████████████████████████████| 23/23 [04:10<00:00, 10.91s/it, accepor_recall=0.913, donor_recall=0.919, loss=0.00025, pred_l1_dist=0]\n"
     ]
    },
    {
     "name": "stdout",
     "output_type": "stream",
     "text": [
      "\n",
      "\u001b[1mAcceptor:\u001b[0m\n",
      "0.9777\t0.9274\t0.9888\t0.9934\t0.9569\t0.9860000014305115\t0.41609999537467957\t0.0008999999845400453\t0.00019999999494757503\t21432\n",
      "\n",
      "\u001b[1mDonor:\u001b[0m\n",
      "0.9767\t0.9281\t0.991\t0.9959\t0.9595\t0.9837999939918518\t0.3939000070095062\t0.0010000000474974513\t9.999999747378752e-05\t21432\n",
      "epoch: 8/10, val loss = 0.000188\n"
     ]
    },
    {
     "name": "stderr",
     "output_type": "stream",
     "text": [
      "Epoch (train) 9/10: 100%|███████████████████████████████████████████████████████| 202/202 [22:45<00:00,  6.76s/it, accepor_recall=0.968, donor_recall=0.967, loss=8.42e-5, pred_l1_dist=0]\n"
     ]
    },
    {
     "name": "stdout",
     "output_type": "stream",
     "text": [
      "epoch: 9/10, train loss = 0.000081\n"
     ]
    },
    {
     "name": "stderr",
     "output_type": "stream",
     "text": [
      "Epoch (val) 9/10: 100%|███████████████████████████████████████████████████████████| 23/23 [04:08<00:00, 10.80s/it, accepor_recall=0.924, donor_recall=0.936, loss=0.00024, pred_l1_dist=0]\n"
     ]
    },
    {
     "name": "stdout",
     "output_type": "stream",
     "text": [
      "\n",
      "\u001b[1mAcceptor:\u001b[0m\n",
      "0.9755\t0.9289\t0.9884\t0.9938\t0.9565\t0.9872000217437744\t0.5920000076293945\t0.00139999995008111\t0.00019999999494757503\t21432\n",
      "\n",
      "\u001b[1mDonor:\u001b[0m\n",
      "0.9741\t0.9316\t0.9918\t0.9961\t0.9595\t0.9836999773979187\t0.5594000220298767\t0.0010999999940395355\t9.999999747378752e-05\t21432\n",
      "epoch: 9/10, val loss = 0.000179\n"
     ]
    },
    {
     "name": "stderr",
     "output_type": "stream",
     "text": [
      "Epoch (train) 10/10: 100%|███████████████████████████████████████████████████████| 202/202 [22:45<00:00,  6.76s/it, accepor_recall=0.97, donor_recall=0.973, loss=7.16e-5, pred_l1_dist=0]\n"
     ]
    },
    {
     "name": "stdout",
     "output_type": "stream",
     "text": [
      "epoch: 10/10, train loss = 0.000070\n"
     ]
    },
    {
     "name": "stderr",
     "output_type": "stream",
     "text": [
      "Epoch (val) 10/10: 100%|█████████████████████████████████████████████████████████| 23/23 [04:16<00:00, 11.15s/it, accepor_recall=0.916, donor_recall=0.927, loss=0.000242, pred_l1_dist=0]\n"
     ]
    },
    {
     "name": "stdout",
     "output_type": "stream",
     "text": [
      "\n",
      "\u001b[1mAcceptor:\u001b[0m\n",
      "0.9745\t0.9291\t0.9872\t0.9923\t0.9551\t0.9865999817848206\t0.5238000154495239\t0.0020000000949949026\t0.00039999998989515007\t21432\n",
      "\n",
      "\u001b[1mDonor:\u001b[0m\n",
      "0.9742\t0.9302\t0.9907\t0.9956\t0.9586\t0.9876999855041504\t0.5284000039100647\t0.00139999995008111\t0.00019999999494757503\t21432\n",
      "epoch: 10/10, val loss = 0.000182\n"
     ]
    },
    {
     "data": {
      "image/png": "[encoded data removed]",
      "text/plain": [
       "<Figure size 432x288 with 1 Axes>"
      ]
     },
     "metadata": {
      "needs_background": "light"
     },
     "output_type": "display_data"
    },
    {
     "name": "stderr",
     "output_type": "stream",
     "text": [
      "Epoch (train) 1/10: 100%|██████████████████████████████████████████████████████| 202/202 [23:13<00:00,  6.90s/it, accepor_recall=0.873, donor_recall=0.885, loss=0.000198, pred_l1_dist=0]\n"
     ]
    },
    {
     "name": "stdout",
     "output_type": "stream",
     "text": [
      "epoch: 1/10, train loss = 0.007203\n"
     ]
    },
    {
     "name": "stderr",
     "output_type": "stream",
     "text": [
      "Epoch (val) 1/10: 100%|███████████████████████████████████████████████████████████| 23/23 [04:14<00:00, 11.06s/it, accepor_recall=0.92, donor_recall=0.909, loss=0.000439, pred_l1_dist=0]\n"
     ]
    },
    {
     "name": "stdout",
     "output_type": "stream",
     "text": [
      "\n",
      "\u001b[1mAcceptor:\u001b[0m\n",
      "0.9643\t0.8695\t0.9712\t0.9854\t0.9152\t0.9765999913215637\t0.8052999973297119\t0.0860000029206276\t0.009600000455975533\t21432\n",
      "\n",
      "\u001b[1mDonor:\u001b[0m\n",
      "0.9647\t0.8718\t0.9754\t0.9907\t0.9199\t0.9725000262260437\t0.7071999907493591\t0.04729999974370003\t0.0052999998442828655\t21432\n",
      "epoch: 1/10, val loss = 0.000348\n"
     ]
    },
    {
     "name": "stderr",
     "output_type": "stream",
     "text": [
      "Epoch (train) 2/10: 100%|██████████████████████████████████████████████████████| 202/202 [23:16<00:00,  6.91s/it, accepor_recall=0.894, donor_recall=0.909, loss=0.000182, pred_l1_dist=0]\n"
     ]
    },
    {
     "name": "stdout",
     "output_type": "stream",
     "text": [
      "epoch: 2/10, train loss = 0.000194\n"
     ]
    },
    {
     "name": "stderr",
     "output_type": "stream",
     "text": [
      "Epoch (val) 2/10: 100%|██████████████████████████████████████████████████████████| 23/23 [04:12<00:00, 10.96s/it, accepor_recall=0.921, donor_recall=0.937, loss=0.000354, pred_l1_dist=0]\n"
     ]
    },
    {
     "name": "stdout",
     "output_type": "stream",
     "text": [
      "\n",
      "\u001b[1mAcceptor:\u001b[0m\n",
      "0.9693\t0.8887\t0.9803\t0.9907\t0.932\t0.9693999886512756\t0.7293999791145325\t0.04439999908208847\t0.005200000014156103\t21432\n",
      "\n",
      "\u001b[1mDonor:\u001b[0m\n",
      "0.9689\t0.8945\t0.9826\t0.9926\t0.9368\t0.9782000184059143\t0.7900999784469604\t0.050999999046325684\t0.006300000008195639\t21432\n",
      "epoch: 2/10, val loss = 0.000292\n"
     ]
    },
    {
     "name": "stderr",
     "output_type": "stream",
     "text": [
      "Epoch (train) 3/10: 100%|██████████████████████████████████████████████████████| 202/202 [23:07<00:00,  6.87s/it, accepor_recall=0.922, donor_recall=0.935, loss=0.000144, pred_l1_dist=0]\n"
     ]
    },
    {
     "name": "stdout",
     "output_type": "stream",
     "text": [
      "epoch: 3/10, train loss = 0.000166\n"
     ]
    },
    {
     "name": "stderr",
     "output_type": "stream",
     "text": [
      "Epoch (val) 3/10: 100%|███████████████████████████████████████████████████████████| 23/23 [04:11<00:00, 10.93s/it, accepor_recall=0.91, donor_recall=0.902, loss=0.000265, pred_l1_dist=0]\n"
     ]
    },
    {
     "name": "stdout",
     "output_type": "stream",
     "text": [
      "\n",
      "\u001b[1mAcceptor:\u001b[0m\n",
      "0.9728\t0.9139\t0.9848\t0.9928\t0.9476\t0.9743000268936157\t0.5128999948501587\t0.006300000008195639\t0.0008999999845400453\t21432\n",
      "\n",
      "\u001b[1mDonor:\u001b[0m\n",
      "0.972\t0.9148\t0.9888\t0.9951\t0.9509\t0.9757999777793884\t0.4178999960422516\t0.004800000227987766\t0.000699999975040555\t21432\n",
      "epoch: 3/10, val loss = 0.000201\n"
     ]
    },
    {
     "name": "stderr",
     "output_type": "stream",
     "text": [
      "Epoch (train) 4/10: 100%|██████████████████████████████████████████████████████| 202/202 [23:20<00:00,  6.93s/it, accepor_recall=0.926, donor_recall=0.933, loss=0.000155, pred_l1_dist=0]\n"
     ]
    },
    {
     "name": "stdout",
     "output_type": "stream",
     "text": [
      "epoch: 4/10, train loss = 0.000147\n"
     ]
    },
    {
     "name": "stderr",
     "output_type": "stream",
     "text": [
      "Epoch (val) 4/10: 100%|██████████████████████████████████████████████████████████| 23/23 [04:15<00:00, 11.09s/it, accepor_recall=0.848, donor_recall=0.841, loss=0.000303, pred_l1_dist=0]\n"
     ]
    },
    {
     "name": "stdout",
     "output_type": "stream",
     "text": [
      "\n",
      "\u001b[1mAcceptor:\u001b[0m\n",
      "0.9721\t0.9145\t0.9857\t0.9914\t0.9467\t0.9233999848365784\t0.23360000550746918\t0.0024999999441206455\t0.0005000000237487257\t21432\n",
      "\n",
      "\u001b[1mDonor:\u001b[0m\n",
      "0.9716\t0.917\t0.988\t0.994\t0.9491\t0.9272000193595886\t0.17190000414848328\t0.002300000051036477\t0.0005000000237487257\t21432\n",
      "epoch: 4/10, val loss = 0.000228\n"
     ]
    },
    {
     "name": "stderr",
     "output_type": "stream",
     "text": [
      "Epoch (train) 5/10: 100%|██████████████████████████████████████████████████████| 202/202 [23:06<00:00,  6.86s/it, accepor_recall=0.941, donor_recall=0.944, loss=0.000127, pred_l1_dist=0]\n"
     ]
    },
    {
     "name": "stdout",
     "output_type": "stream",
     "text": [
      "epoch: 5/10, train loss = 0.000133\n"
     ]
    },
    {
     "name": "stderr",
     "output_type": "stream",
     "text": [
      "Epoch (val) 5/10: 100%|██████████████████████████████████████████████████████████| 23/23 [04:12<00:00, 10.97s/it, accepor_recall=0.907, donor_recall=0.931, loss=0.000258, pred_l1_dist=0]\n"
     ]
    },
    {
     "name": "stdout",
     "output_type": "stream",
     "text": [
      "\n",
      "\u001b[1mAcceptor:\u001b[0m\n",
      "0.9731\t0.9209\t0.9858\t0.9924\t0.95\t0.9699000120162964\t0.41850000619888306\t0.0020000000949949026\t0.0003000000142492354\t21432\n",
      "\n",
      "\u001b[1mDonor:\u001b[0m\n",
      "0.9744\t0.9246\t0.9892\t0.9947\t0.9541\t0.9872999787330627\t0.5835999846458435\t0.0024999999441206455\t0.0003000000142492354\t21432\n",
      "epoch: 5/10, val loss = 0.000195\n"
     ]
    },
    {
     "name": "stderr",
     "output_type": "stream",
     "text": [
      "Epoch (train) 6/10: 100%|███████████████████████████████████████████████████████| 202/202 [23:16<00:00,  6.91s/it, accepor_recall=0.945, donor_recall=0.949, loss=0.00012, pred_l1_dist=0]\n"
     ]
    },
    {
     "name": "stdout",
     "output_type": "stream",
     "text": [
      "epoch: 6/10, train loss = 0.000124\n"
     ]
    },
    {
     "name": "stderr",
     "output_type": "stream",
     "text": [
      "Epoch (val) 6/10: 100%|██████████████████████████████████████████████████████████| 23/23 [04:18<00:00, 11.22s/it, accepor_recall=0.916, donor_recall=0.927, loss=0.000267, pred_l1_dist=0]\n"
     ]
    },
    {
     "name": "stdout",
     "output_type": "stream",
     "text": [
      "\n",
      "\u001b[1mAcceptor:\u001b[0m\n",
      "0.9719\t0.9173\t0.9856\t0.9914\t0.9468\t0.9883000254631042\t0.602400004863739\t0.004399999976158142\t0.000699999975040555\t21432\n",
      "\n",
      "\u001b[1mDonor:\u001b[0m\n",
      "0.9705\t0.9209\t0.9884\t0.9943\t0.9508\t0.9819999933242798\t0.5519000291824341\t0.002899999963119626\t0.00039999998989515007\t21432\n",
      "epoch: 6/10, val loss = 0.000202\n"
     ]
    },
    {
     "name": "stderr",
     "output_type": "stream",
     "text": [
      "Epoch (train) 7/10: 100%|██████████████████████████████████████████████████████| 202/202 [23:18<00:00,  6.92s/it, accepor_recall=0.948, donor_recall=0.948, loss=0.000125, pred_l1_dist=0]\n"
     ]
    },
    {
     "name": "stdout",
     "output_type": "stream",
     "text": [
      "epoch: 7/10, train loss = 0.000116\n"
     ]
    },
    {
     "name": "stderr",
     "output_type": "stream",
     "text": [
      "Epoch (val) 7/10: 100%|██████████████████████████████████████████████████████████| 23/23 [04:15<00:00, 11.10s/it, accepor_recall=0.904, donor_recall=0.919, loss=0.000255, pred_l1_dist=0]\n"
     ]
    },
    {
     "name": "stdout",
     "output_type": "stream",
     "text": [
      "\n",
      "\u001b[1mAcceptor:\u001b[0m\n",
      "0.9742\t0.9194\t0.9864\t0.9928\t0.9503\t0.9825999736785889\t0.5045999884605408\t0.003599999938160181\t0.0006000000284984708\t21432\n",
      "\n",
      "\u001b[1mDonor:\u001b[0m\n",
      "0.9741\t0.9238\t0.9896\t0.9951\t0.9546\t0.9733999967575073\t0.5486999750137329\t0.004699999932199717\t0.000699999975040555\t21432\n",
      "epoch: 7/10, val loss = 0.000190\n"
     ]
    },
    {
     "name": "stderr",
     "output_type": "stream",
     "text": [
      "Epoch (train) 8/10: 100%|███████████████████████████████████████████████████████| 202/202 [23:09<00:00,  6.88s/it, accepor_recall=0.959, donor_recall=0.963, loss=9.49e-5, pred_l1_dist=0]\n"
     ]
    },
    {
     "name": "stdout",
     "output_type": "stream",
     "text": [
      "epoch: 8/10, train loss = 0.000094\n"
     ]
    },
    {
     "name": "stderr",
     "output_type": "stream",
     "text": [
      "Epoch (val) 8/10: 100%|███████████████████████████████████████████████████████████| 23/23 [04:15<00:00, 11.11s/it, accepor_recall=0.92, donor_recall=0.933, loss=0.000232, pred_l1_dist=0]\n"
     ]
    },
    {
     "name": "stdout",
     "output_type": "stream",
     "text": [
      "\n",
      "\u001b[1mAcceptor:\u001b[0m\n",
      "0.9756\t0.9285\t0.9883\t0.993\t0.9543\t0.9697999954223633\t0.5181000232696533\t0.0034000000450760126\t0.0006000000284984708\t21432\n",
      "\n",
      "\u001b[1mDonor:\u001b[0m\n",
      "0.9712\t0.9318\t0.9909\t0.9952\t0.9562\t0.9686999917030334\t0.5623000264167786\t0.002199999988079071\t0.0003000000142492354\t21432\n",
      "epoch: 8/10, val loss = 0.000173\n"
     ]
    },
    {
     "name": "stderr",
     "output_type": "stream",
     "text": [
      "Epoch (train) 9/10: 100%|███████████████████████████████████████████████████████| 202/202 [23:13<00:00,  6.90s/it, accepor_recall=0.969, donor_recall=0.972, loss=8.11e-5, pred_l1_dist=0]\n"
     ]
    },
    {
     "name": "stdout",
     "output_type": "stream",
     "text": [
      "epoch: 9/10, train loss = 0.000080\n"
     ]
    },
    {
     "name": "stderr",
     "output_type": "stream",
     "text": [
      "Epoch (val) 9/10: 100%|██████████████████████████████████████████████████████████| 23/23 [04:19<00:00, 11.26s/it, accepor_recall=0.913, donor_recall=0.925, loss=0.000245, pred_l1_dist=0]\n"
     ]
    },
    {
     "name": "stdout",
     "output_type": "stream",
     "text": [
      "\n",
      "\u001b[1mAcceptor:\u001b[0m\n",
      "0.9725\t0.9272\t0.9867\t0.9917\t0.9503\t0.9761000275611877\t0.4162999987602234\t0.0010000000474974513\t0.00019999999494757503\t21432\n",
      "\n",
      "\u001b[1mDonor:\u001b[0m\n",
      "0.9722\t0.933\t0.9905\t0.9948\t0.9552\t0.9768000245094299\t0.42820000648498535\t0.0010000000474974513\t9.999999747378752e-05\t21432\n",
      "epoch: 9/10, val loss = 0.000184\n"
     ]
    },
    {
     "name": "stderr",
     "output_type": "stream",
     "text": [
      "Epoch (train) 10/10: 100%|██████████████████████████████████████████████████████| 202/202 [23:05<00:00,  6.86s/it, accepor_recall=0.967, donor_recall=0.969, loss=7.25e-5, pred_l1_dist=0]\n"
     ]
    },
    {
     "name": "stdout",
     "output_type": "stream",
     "text": [
      "epoch: 10/10, train loss = 0.000070\n"
     ]
    },
    {
     "name": "stderr",
     "output_type": "stream",
     "text": [
      "Epoch (val) 10/10: 100%|█████████████████████████████████████████████████████████| 23/23 [04:13<00:00, 11.02s/it, accepor_recall=0.927, donor_recall=0.932, loss=0.000252, pred_l1_dist=0]\n"
     ]
    },
    {
     "name": "stdout",
     "output_type": "stream",
     "text": [
      "\n",
      "\u001b[1mAcceptor:\u001b[0m\n",
      "0.9736\t0.9289\t0.9867\t0.9919\t0.9497\t0.9904999732971191\t0.5455999970436096\t0.002199999988079071\t0.00039999998989515007\t21432\n",
      "\n",
      "\u001b[1mDonor:\u001b[0m\n",
      "0.9715\t0.9333\t0.9903\t0.9948\t0.9557\t0.9898999929428101\t0.5042999982833862\t0.0013000000035390258\t0.00019999999494757503\t21432\n",
      "epoch: 10/10, val loss = 0.000185\n"
     ]
    },
    {
     "data": {
      "image/png": "[encoded data removed]",
      "text/plain": [
       "<Figure size 432x288 with 1 Axes>"
      ]
     },
     "metadata": {
      "needs_background": "light"
     },
     "output_type": "display_data"
    },
    {
     "name": "stderr",
     "output_type": "stream",
     "text": [
      "Epoch (train) 1/10: 100%|██████████████████████████████████████████████████████| 202/202 [25:19<00:00,  7.52s/it, accepor_recall=0.876, donor_recall=0.885, loss=0.000211, pred_l1_dist=0]\n"
     ]
    },
    {
     "name": "stdout",
     "output_type": "stream",
     "text": [
      "epoch: 1/10, train loss = 0.006725\n"
     ]
    },
    {
     "name": "stderr",
     "output_type": "stream",
     "text": [
      "Epoch (val) 1/10: 100%|████████████████████████████████████████████████████████████| 23/23 [04:33<00:00, 11.87s/it, accepor_recall=0.829, donor_recall=0.868, loss=0.0004, pred_l1_dist=0]\n"
     ]
    },
    {
     "name": "stdout",
     "output_type": "stream",
     "text": [
      "\n",
      "\u001b[1mAcceptor:\u001b[0m\n",
      "0.9643\t0.8527\t0.9641\t0.9834\t0.9064\t0.9239000082015991\t0.4867999851703644\t0.022099999710917473\t0.0032999999821186066\t21432\n",
      "\n",
      "\u001b[1mDonor:\u001b[0m\n",
      "0.9602\t0.8524\t0.968\t0.9881\t0.9069\t0.9577999711036682\t0.5712000131607056\t0.027699999511241913\t0.0027000000700354576\t21432\n",
      "epoch: 1/10, val loss = 0.000315\n"
     ]
    },
    {
     "name": "stderr",
     "output_type": "stream",
     "text": [
      "Epoch (train) 2/10: 100%|█████████████████████████████████████████████████████████| 202/202 [25:18<00:00,  7.51s/it, accepor_recall=0.901, donor_recall=0.91, loss=0.0002, pred_l1_dist=0]\n"
     ]
    },
    {
     "name": "stdout",
     "output_type": "stream",
     "text": [
      "epoch: 2/10, train loss = 0.000194\n"
     ]
    },
    {
     "name": "stderr",
     "output_type": "stream",
     "text": [
      "Epoch (val) 2/10: 100%|██████████████████████████████████████████████████████████| 23/23 [04:22<00:00, 11.39s/it, accepor_recall=0.778, donor_recall=0.799, loss=0.000426, pred_l1_dist=0]\n"
     ]
    },
    {
     "name": "stdout",
     "output_type": "stream",
     "text": [
      "\n",
      "\u001b[1mAcceptor:\u001b[0m\n",
      "0.9667\t0.8629\t0.9717\t0.9867\t0.9168\t0.9513999819755554\t0.16210000216960907\t0.0024999999441206455\t0.0003000000142492354\t21432\n",
      "\n",
      "\u001b[1mDonor:\u001b[0m\n",
      "0.9673\t0.8726\t0.9757\t0.9889\t0.9231\t0.9473000168800354\t0.1412999927997589\t0.0012000000569969416\t9.999999747378752e-05\t21432\n",
      "epoch: 2/10, val loss = 0.000344\n"
     ]
    },
    {
     "name": "stderr",
     "output_type": "stream",
     "text": [
      "Epoch (train) 3/10: 100%|██████████████████████████████████████████████████████| 202/202 [25:24<00:00,  7.55s/it, accepor_recall=0.917, donor_recall=0.923, loss=0.000169, pred_l1_dist=0]\n"
     ]
    },
    {
     "name": "stdout",
     "output_type": "stream",
     "text": [
      "epoch: 3/10, train loss = 0.000166\n"
     ]
    },
    {
     "name": "stderr",
     "output_type": "stream",
     "text": [
      "Epoch (val) 3/10: 100%|██████████████████████████████████████████████████████████| 23/23 [04:19<00:00, 11.26s/it, accepor_recall=0.862, donor_recall=0.876, loss=0.000295, pred_l1_dist=0]\n"
     ]
    },
    {
     "name": "stdout",
     "output_type": "stream",
     "text": [
      "\n",
      "\u001b[1mAcceptor:\u001b[0m\n",
      "0.9694\t0.9046\t0.9833\t0.9919\t0.9408\t0.98089998960495\t0.30790001153945923\t0.005400000140070915\t0.0010999999940395355\t21432\n",
      "\n",
      "\u001b[1mDonor:\u001b[0m\n",
      "0.9687\t0.9046\t0.986\t0.9942\t0.9414\t0.9757999777793884\t0.33809998631477356\t0.003599999938160181\t0.0005000000237487257\t21432\n",
      "epoch: 3/10, val loss = 0.000228\n"
     ]
    },
    {
     "name": "stderr",
     "output_type": "stream",
     "text": [
      "Epoch (train) 4/10: 100%|███████████████████████████████████████████████████████| 202/202 [25:29<00:00,  7.57s/it, accepor_recall=0.93, donor_recall=0.937, loss=0.000145, pred_l1_dist=0]\n"
     ]
    },
    {
     "name": "stdout",
     "output_type": "stream",
     "text": [
      "epoch: 4/10, train loss = 0.000147\n"
     ]
    },
    {
     "name": "stderr",
     "output_type": "stream",
     "text": [
      "Epoch (val) 4/10: 100%|██████████████████████████████████████████████████████████| 23/23 [04:22<00:00, 11.43s/it, accepor_recall=0.889, donor_recall=0.918, loss=0.000262, pred_l1_dist=0]\n"
     ]
    },
    {
     "name": "stdout",
     "output_type": "stream",
     "text": [
      "\n",
      "\u001b[1mAcceptor:\u001b[0m\n",
      "0.9731\t0.9111\t0.9852\t0.9926\t0.948\t0.9559999704360962\t0.46540001034736633\t0.006399999838322401\t0.0010000000474974513\t21432\n",
      "\n",
      "\u001b[1mDonor:\u001b[0m\n",
      "0.9731\t0.9181\t0.9885\t0.9948\t0.9516\t0.9706000089645386\t0.5561000108718872\t0.004800000227987766\t0.0005000000237487257\t21432\n",
      "epoch: 4/10, val loss = 0.000200\n"
     ]
    },
    {
     "name": "stderr",
     "output_type": "stream",
     "text": [
      "Epoch (train) 5/10: 100%|███████████████████████████████████████████████████████| 202/202 [25:30<00:00,  7.58s/it, accepor_recall=0.93, donor_recall=0.935, loss=0.000135, pred_l1_dist=0]\n"
     ]
    },
    {
     "name": "stdout",
     "output_type": "stream",
     "text": [
      "epoch: 5/10, train loss = 0.000133\n"
     ]
    },
    {
     "name": "stderr",
     "output_type": "stream",
     "text": [
      "Epoch (val) 5/10: 100%|███████████████████████████████████████████████████████████| 23/23 [04:21<00:00, 11.39s/it, accepor_recall=0.865, donor_recall=0.87, loss=0.000275, pred_l1_dist=0]\n"
     ]
    },
    {
     "name": "stdout",
     "output_type": "stream",
     "text": [
      "\n",
      "\u001b[1mAcceptor:\u001b[0m\n",
      "0.9745\t0.919\t0.9859\t0.9924\t0.9508\t0.9035000205039978\t0.267300009727478\t0.002300000051036477\t0.0005000000237487257\t21432\n",
      "\n",
      "\u001b[1mDonor:\u001b[0m\n",
      "0.9699\t0.9193\t0.9897\t0.9952\t0.9514\t0.9251000285148621\t0.27950000762939453\t0.003700000001117587\t0.000699999975040555\t21432\n",
      "epoch: 5/10, val loss = 0.000211\n"
     ]
    },
    {
     "name": "stderr",
     "output_type": "stream",
     "text": [
      "Epoch (train) 6/10: 100%|██████████████████████████████████████████████████████| 202/202 [25:22<00:00,  7.54s/it, accepor_recall=0.938, donor_recall=0.941, loss=0.000118, pred_l1_dist=0]\n"
     ]
    },
    {
     "name": "stdout",
     "output_type": "stream",
     "text": [
      "epoch: 6/10, train loss = 0.000124\n"
     ]
    },
    {
     "name": "stderr",
     "output_type": "stream",
     "text": [
      "Epoch (val) 6/10: 100%|██████████████████████████████████████████████████████████| 23/23 [04:21<00:00, 11.36s/it, accepor_recall=0.899, donor_recall=0.906, loss=0.000253, pred_l1_dist=0]\n"
     ]
    },
    {
     "name": "stdout",
     "output_type": "stream",
     "text": [
      "\n",
      "\u001b[1mAcceptor:\u001b[0m\n",
      "0.9752\t0.9225\t0.9862\t0.9932\t0.9526\t0.9617999792098999\t0.4397999942302704\t0.003599999938160181\t0.0005000000237487257\t21432\n",
      "\n",
      "\u001b[1mDonor:\u001b[0m\n",
      "0.975\t0.925\t0.9898\t0.9947\t0.9567\t0.9746999740600586\t0.41589999198913574\t0.0020000000949949026\t0.0003000000142492354\t21432\n",
      "epoch: 6/10, val loss = 0.000190\n"
     ]
    },
    {
     "name": "stderr",
     "output_type": "stream",
     "text": [
      "Epoch (train) 7/10: 100%|██████████████████████████████████████████████████████| 202/202 [25:43<00:00,  7.64s/it, accepor_recall=0.947, donor_recall=0.951, loss=0.000115, pred_l1_dist=0]\n"
     ]
    },
    {
     "name": "stdout",
     "output_type": "stream",
     "text": [
      "epoch: 7/10, train loss = 0.000116\n"
     ]
    },
    {
     "name": "stderr",
     "output_type": "stream",
     "text": [
      "Epoch (val) 7/10: 100%|██████████████████████████████████████████████████████████| 23/23 [04:22<00:00, 11.42s/it, accepor_recall=0.889, donor_recall=0.912, loss=0.000271, pred_l1_dist=0]\n"
     ]
    },
    {
     "name": "stdout",
     "output_type": "stream",
     "text": [
      "\n",
      "\u001b[1mAcceptor:\u001b[0m\n",
      "0.9749\t0.9136\t0.9826\t0.9902\t0.9475\t0.9635000228881836\t0.41940000653266907\t0.0034000000450760126\t0.000699999975040555\t21432\n",
      "\n",
      "\u001b[1mDonor:\u001b[0m\n",
      "0.9733\t0.9166\t0.9883\t0.9946\t0.9523\t0.988099992275238\t0.5299000144004822\t0.003700000001117587\t0.000699999975040555\t21432\n",
      "epoch: 7/10, val loss = 0.000210\n"
     ]
    },
    {
     "name": "stderr",
     "output_type": "stream",
     "text": [
      "Epoch (train) 8/10: 100%|████████████████████████████████████████████████████████| 202/202 [25:34<00:00,  7.60s/it, accepor_recall=0.961, donor_recall=0.963, loss=0.0001, pred_l1_dist=0]\n"
     ]
    },
    {
     "name": "stdout",
     "output_type": "stream",
     "text": [
      "epoch: 8/10, train loss = 0.000095\n"
     ]
    },
    {
     "name": "stderr",
     "output_type": "stream",
     "text": [
      "Epoch (val) 8/10: 100%|██████████████████████████████████████████████████████████| 23/23 [04:22<00:00, 11.41s/it, accepor_recall=0.903, donor_recall=0.918, loss=0.000251, pred_l1_dist=0]\n"
     ]
    },
    {
     "name": "stdout",
     "output_type": "stream",
     "text": [
      "\n",
      "\u001b[1mAcceptor:\u001b[0m\n",
      "0.9767\t0.927\t0.9882\t0.9931\t0.9581\t0.9811000227928162\t0.366100013256073\t0.0013000000035390258\t0.00019999999494757503\t21432\n",
      "\n",
      "\u001b[1mDonor:\u001b[0m\n",
      "0.9758\t0.9259\t0.9883\t0.9943\t0.9569\t0.9779999852180481\t0.45410001277923584\t0.002099999925121665\t0.0003000000142492354\t21432\n",
      "epoch: 8/10, val loss = 0.000187\n"
     ]
    },
    {
     "name": "stderr",
     "output_type": "stream",
     "text": [
      "Epoch (train) 9/10: 100%|███████████████████████████████████████████████████████| 202/202 [25:33<00:00,  7.59s/it, accepor_recall=0.966, donor_recall=0.967, loss=8.24e-5, pred_l1_dist=0]\n"
     ]
    },
    {
     "name": "stdout",
     "output_type": "stream",
     "text": [
      "epoch: 9/10, train loss = 0.000082\n"
     ]
    },
    {
     "name": "stderr",
     "output_type": "stream",
     "text": [
      "Epoch (val) 9/10: 100%|██████████████████████████████████████████████████████████| 23/23 [04:26<00:00, 11.60s/it, accepor_recall=0.921, donor_recall=0.937, loss=0.000232, pred_l1_dist=0]\n"
     ]
    },
    {
     "name": "stdout",
     "output_type": "stream",
     "text": [
      "\n",
      "\u001b[1mAcceptor:\u001b[0m\n",
      "0.9782\t0.9312\t0.9888\t0.9942\t0.9601\t0.9728000164031982\t0.5755000114440918\t0.002899999963119626\t0.0005000000237487257\t21432\n",
      "\n",
      "\u001b[1mDonor:\u001b[0m\n",
      "0.9761\t0.9328\t0.9916\t0.9958\t0.9606\t0.9757000207901001\t0.6087999939918518\t0.003100000089034438\t0.0005000000237487257\t21432\n",
      "epoch: 9/10, val loss = 0.000169\n"
     ]
    },
    {
     "name": "stderr",
     "output_type": "stream",
     "text": [
      "Epoch (train) 10/10: 100%|██████████████████████████████████████████████████████| 202/202 [25:23<00:00,  7.54s/it, accepor_recall=0.971, donor_recall=0.971, loss=5.99e-5, pred_l1_dist=0]\n"
     ]
    },
    {
     "name": "stdout",
     "output_type": "stream",
     "text": [
      "epoch: 10/10, train loss = 0.000072\n"
     ]
    },
    {
     "name": "stderr",
     "output_type": "stream",
     "text": [
      "Epoch (val) 10/10: 100%|█████████████████████████████████████████████████████████| 23/23 [04:23<00:00, 11.45s/it, accepor_recall=0.928, donor_recall=0.941, loss=0.000248, pred_l1_dist=0]\n"
     ]
    },
    {
     "name": "stdout",
     "output_type": "stream",
     "text": [
      "\n",
      "\u001b[1mAcceptor:\u001b[0m\n",
      "0.9784\t0.93\t0.9886\t0.9934\t0.9592\t0.9919000267982483\t0.6424000263214111\t0.002199999988079071\t0.0003000000142492354\t21432\n",
      "\n",
      "\u001b[1mDonor:\u001b[0m\n",
      "0.9781\t0.9339\t0.9923\t0.9961\t0.9614\t0.9926999807357788\t0.678600013256073\t0.0015999999595806003\t0.00019999999494757503\t21432\n",
      "epoch: 10/10, val loss = 0.000179\n"
     ]
    },
    {
     "data": {
      "image/png": "[encoded data removed]",
      "text/plain": [
       "<Figure size 432x288 with 1 Axes>"
      ]
     },
     "metadata": {
      "needs_background": "light"
     },
     "output_type": "display_data"
    },
    {
     "name": "stderr",
     "output_type": "stream",
     "text": [
      "Epoch (train) 1/10: 100%|██████████████████████████████████████████████████████| 202/202 [28:46<00:00,  8.55s/it, accepor_recall=0.869, donor_recall=0.886, loss=0.000192, pred_l1_dist=0]\n"
     ]
    },
    {
     "name": "stdout",
     "output_type": "stream",
     "text": [
      "epoch: 1/10, train loss = 0.007537\n"
     ]
    },
    {
     "name": "stderr",
     "output_type": "stream",
     "text": [
      "Epoch (val) 1/10: 100%|██████████████████████████████████████████████████████████| 23/23 [04:29<00:00, 11.73s/it, accepor_recall=0.897, donor_recall=0.934, loss=0.000453, pred_l1_dist=0]\n"
     ]
    },
    {
     "name": "stdout",
     "output_type": "stream",
     "text": [
      "\n",
      "\u001b[1mAcceptor:\u001b[0m\n",
      "0.9607\t0.8621\t0.9707\t0.9867\t0.9131\t0.9771999716758728\t0.73580002784729\t0.051899999380111694\t0.006899999920278788\t21432\n",
      "\n",
      "\u001b[1mDonor:\u001b[0m\n",
      "0.9611\t0.8655\t0.9757\t0.9911\t0.9161\t0.9900000095367432\t0.8797000050544739\t0.08079999685287476\t0.007600000128149986\t21432\n",
      "epoch: 1/10, val loss = 0.000382\n"
     ]
    },
    {
     "name": "stderr",
     "output_type": "stream",
     "text": [
      "Epoch (train) 2/10: 100%|██████████████████████████████████████████████████████| 202/202 [28:40<00:00,  8.52s/it, accepor_recall=0.896, donor_recall=0.902, loss=0.000161, pred_l1_dist=0]\n"
     ]
    },
    {
     "name": "stdout",
     "output_type": "stream",
     "text": [
      "epoch: 2/10, train loss = 0.000199\n"
     ]
    },
    {
     "name": "stderr",
     "output_type": "stream",
     "text": [
      "Epoch (val) 2/10: 100%|███████████████████████████████████████████████████████████| 23/23 [04:30<00:00, 11.76s/it, accepor_recall=0.901, donor_recall=0.92, loss=0.000905, pred_l1_dist=0]\n"
     ]
    },
    {
     "name": "stdout",
     "output_type": "stream",
     "text": [
      "\n",
      "\u001b[1mAcceptor:\u001b[0m\n",
      "0.9434\t0.7943\t0.9282\t0.965\t0.8493\t0.9833999872207642\t0.8888999819755554\t0.34380000829696655\t0.05420000106096268\t21432\n",
      "\n",
      "\u001b[1mDonor:\u001b[0m\n",
      "0.9523\t0.8209\t0.9455\t0.9781\t0.8754\t0.9850000143051147\t0.8914999961853027\t0.3077999949455261\t0.054999999701976776\t21432\n",
      "epoch: 2/10, val loss = 0.000764\n"
     ]
    },
    {
     "name": "stderr",
     "output_type": "stream",
     "text": [
      "Epoch (train) 3/10: 100%|██████████████████████████████████████████████████████| 202/202 [28:31<00:00,  8.47s/it, accepor_recall=0.919, donor_recall=0.929, loss=0.000184, pred_l1_dist=0]\n"
     ]
    },
    {
     "name": "stdout",
     "output_type": "stream",
     "text": [
      "epoch: 3/10, train loss = 0.000169\n"
     ]
    },
    {
     "name": "stderr",
     "output_type": "stream",
     "text": [
      "Epoch (val) 3/10: 100%|██████████████████████████████████████████████████████████| 23/23 [04:33<00:00, 11.87s/it, accepor_recall=0.882, donor_recall=0.871, loss=0.000287, pred_l1_dist=0]\n"
     ]
    },
    {
     "name": "stdout",
     "output_type": "stream",
     "text": [
      "\n",
      "\u001b[1mAcceptor:\u001b[0m\n",
      "0.9729\t0.909\t0.9838\t0.9916\t0.946\t0.9563999772071838\t0.3528999984264374\t0.003700000001117587\t0.0006000000284984708\t21432\n",
      "\n",
      "\u001b[1mDonor:\u001b[0m\n",
      "0.9738\t0.9127\t0.9877\t0.9942\t0.949\t0.9444000124931335\t0.2912999987602234\t0.002099999925121665\t0.0003000000142492354\t21432\n",
      "epoch: 3/10, val loss = 0.000216\n"
     ]
    },
    {
     "name": "stderr",
     "output_type": "stream",
     "text": [
      "Epoch (train) 4/10: 100%|████████████████████████████████████████████████████████| 202/202 [28:34<00:00,  8.49s/it, accepor_recall=0.93, donor_recall=0.93, loss=0.000139, pred_l1_dist=0]\n"
     ]
    },
    {
     "name": "stdout",
     "output_type": "stream",
     "text": [
      "epoch: 4/10, train loss = 0.000148\n"
     ]
    },
    {
     "name": "stderr",
     "output_type": "stream",
     "text": [
      "Epoch (val) 4/10: 100%|██████████████████████████████████████████████████████████| 23/23 [04:33<00:00, 11.88s/it, accepor_recall=0.855, donor_recall=0.869, loss=0.000289, pred_l1_dist=0]\n"
     ]
    },
    {
     "name": "stdout",
     "output_type": "stream",
     "text": [
      "\n",
      "\u001b[1mAcceptor:\u001b[0m\n",
      "0.977\t0.9091\t0.9822\t0.9914\t0.9466\t0.9549999833106995\t0.2387000024318695\t0.006200000178068876\t0.00139999995008111\t21432\n",
      "\n",
      "\u001b[1mDonor:\u001b[0m\n",
      "0.9745\t0.9088\t0.9885\t0.9951\t0.9501\t0.9541000127792358\t0.24490000307559967\t0.002899999963119626\t0.0005000000237487257\t21432\n",
      "epoch: 4/10, val loss = 0.000221\n"
     ]
    },
    {
     "name": "stderr",
     "output_type": "stream",
     "text": [
      "Epoch (train) 5/10: 100%|███████████████████████████████████████████████████████| 202/202 [28:42<00:00,  8.53s/it, accepor_recall=0.939, donor_recall=0.945, loss=0.00013, pred_l1_dist=0]\n"
     ]
    },
    {
     "name": "stdout",
     "output_type": "stream",
     "text": [
      "epoch: 5/10, train loss = 0.000135\n"
     ]
    },
    {
     "name": "stderr",
     "output_type": "stream",
     "text": [
      "Epoch (val) 5/10: 100%|██████████████████████████████████████████████████████████| 23/23 [04:34<00:00, 11.95s/it, accepor_recall=0.799, donor_recall=0.795, loss=0.000387, pred_l1_dist=0]\n"
     ]
    },
    {
     "name": "stdout",
     "output_type": "stream",
     "text": [
      "\n",
      "\u001b[1mAcceptor:\u001b[0m\n",
      "0.9738\t0.8882\t0.9691\t0.9839\t0.9296\t0.9549999833106995\t0.12319999933242798\t0.002099999925121665\t0.00039999998989515007\t21432\n",
      "\n",
      "\u001b[1mDonor:\u001b[0m\n",
      "0.9714\t0.8882\t0.9792\t0.9902\t0.9353\t0.9416000247001648\t0.08940000087022781\t0.0006000000284984708\t9.999999747378752e-05\t21432\n",
      "epoch: 5/10, val loss = 0.000320\n"
     ]
    },
    {
     "name": "stderr",
     "output_type": "stream",
     "text": [
      "Epoch (train) 6/10: 100%|██████████████████████████████████████████████████████| 202/202 [28:43<00:00,  8.53s/it, accepor_recall=0.941, donor_recall=0.944, loss=0.000139, pred_l1_dist=0]\n"
     ]
    },
    {
     "name": "stdout",
     "output_type": "stream",
     "text": [
      "epoch: 6/10, train loss = 0.000126\n"
     ]
    },
    {
     "name": "stderr",
     "output_type": "stream",
     "text": [
      "Epoch (val) 6/10: 100%|██████████████████████████████████████████████████████████| 23/23 [04:32<00:00, 11.87s/it, accepor_recall=0.918, donor_recall=0.913, loss=0.000246, pred_l1_dist=0]\n"
     ]
    },
    {
     "name": "stdout",
     "output_type": "stream",
     "text": [
      "\n",
      "\u001b[1mAcceptor:\u001b[0m\n",
      "0.9754\t0.9224\t0.9883\t0.9936\t0.9538\t0.9760000109672546\t0.5202000141143799\t0.0044999998062849045\t0.0007999999797903001\t21432\n",
      "\n",
      "\u001b[1mDonor:\u001b[0m\n",
      "0.9751\t0.9233\t0.9903\t0.9957\t0.9562\t0.9718000292778015\t0.4724999964237213\t0.004800000227987766\t0.0007999999797903001\t21432\n",
      "epoch: 6/10, val loss = 0.000183\n"
     ]
    },
    {
     "name": "stderr",
     "output_type": "stream",
     "text": [
      "Epoch (train) 7/10: 100%|███████████████████████████████████████████████████████| 202/202 [28:42<00:00,  8.53s/it, accepor_recall=0.94, donor_recall=0.941, loss=0.000126, pred_l1_dist=0]\n"
     ]
    },
    {
     "name": "stdout",
     "output_type": "stream",
     "text": [
      "epoch: 7/10, train loss = 0.000118\n"
     ]
    },
    {
     "name": "stderr",
     "output_type": "stream",
     "text": [
      "Epoch (val) 7/10: 100%|██████████████████████████████████████████████████████████| 23/23 [04:34<00:00, 11.96s/it, accepor_recall=0.907, donor_recall=0.919, loss=0.000253, pred_l1_dist=0]\n"
     ]
    },
    {
     "name": "stdout",
     "output_type": "stream",
     "text": [
      "\n",
      "\u001b[1mAcceptor:\u001b[0m\n",
      "0.976\t0.9222\t0.9865\t0.992\t0.9526\t0.9545000195503235\t0.4596000015735626\t0.004000000189989805\t0.000699999975040555\t21432\n",
      "\n",
      "\u001b[1mDonor:\u001b[0m\n",
      "0.974\t0.9227\t0.9888\t0.9931\t0.952\t0.954200029373169\t0.5263000130653381\t0.006599999964237213\t0.0010999999940395355\t21432\n",
      "epoch: 7/10, val loss = 0.000189\n"
     ]
    },
    {
     "name": "stderr",
     "output_type": "stream",
     "text": [
      "Epoch (train) 8/10: 100%|██████████████████████████████████████████████████████| 202/202 [28:51<00:00,  8.57s/it, accepor_recall=0.954, donor_recall=0.962, loss=0.000104, pred_l1_dist=0]\n"
     ]
    },
    {
     "name": "stdout",
     "output_type": "stream",
     "text": [
      "epoch: 8/10, train loss = 0.000097\n"
     ]
    },
    {
     "name": "stderr",
     "output_type": "stream",
     "text": [
      "Epoch (val) 8/10: 100%|██████████████████████████████████████████████████████████| 23/23 [04:38<00:00, 12.09s/it, accepor_recall=0.916, donor_recall=0.916, loss=0.000244, pred_l1_dist=0]\n"
     ]
    },
    {
     "name": "stdout",
     "output_type": "stream",
     "text": [
      "\n",
      "\u001b[1mAcceptor:\u001b[0m\n",
      "0.9751\t0.9256\t0.9881\t0.9931\t0.9551\t0.9690999984741211\t0.47839999198913574\t0.00279999990016222\t0.00039999998989515007\t21432\n",
      "\n",
      "\u001b[1mDonor:\u001b[0m\n",
      "0.9749\t0.9264\t0.9903\t0.9954\t0.9565\t0.9708999991416931\t0.40149998664855957\t0.002099999925121665\t0.00039999998989515007\t21432\n",
      "epoch: 8/10, val loss = 0.000181\n"
     ]
    },
    {
     "name": "stderr",
     "output_type": "stream",
     "text": [
      "Epoch (train) 9/10: 100%|███████████████████████████████████████████████████████| 202/202 [28:45<00:00,  8.54s/it, accepor_recall=0.965, donor_recall=0.967, loss=8.04e-5, pred_l1_dist=0]\n"
     ]
    },
    {
     "name": "stdout",
     "output_type": "stream",
     "text": [
      "epoch: 9/10, train loss = 0.000084\n"
     ]
    },
    {
     "name": "stderr",
     "output_type": "stream",
     "text": [
      "Epoch (val) 9/10: 100%|██████████████████████████████████████████████████████████| 23/23 [04:40<00:00, 12.21s/it, accepor_recall=0.927, donor_recall=0.935, loss=0.000229, pred_l1_dist=0]\n"
     ]
    },
    {
     "name": "stdout",
     "output_type": "stream",
     "text": [
      "\n",
      "\u001b[1mAcceptor:\u001b[0m\n",
      "0.9775\t0.9307\t0.9892\t0.9942\t0.9593\t0.983299970626831\t0.5562000274658203\t0.002400000113993883\t0.00039999998989515007\t21432\n",
      "\n",
      "\u001b[1mDonor:\u001b[0m\n",
      "0.9787\t0.9337\t0.9916\t0.9956\t0.9622\t0.9824000000953674\t0.535099983215332\t0.0015999999595806003\t0.00019999999494757503\t21432\n",
      "epoch: 9/10, val loss = 0.000169\n"
     ]
    },
    {
     "name": "stderr",
     "output_type": "stream",
     "text": [
      "Epoch (train) 10/10: 100%|██████████████████████████████████████████████████████| 202/202 [28:22<00:00,  8.43s/it, accepor_recall=0.961, donor_recall=0.967, loss=8.46e-5, pred_l1_dist=0]\n"
     ]
    },
    {
     "name": "stdout",
     "output_type": "stream",
     "text": [
      "epoch: 10/10, train loss = 0.000075\n"
     ]
    },
    {
     "name": "stderr",
     "output_type": "stream",
     "text": [
      "Epoch (val) 10/10: 100%|█████████████████████████████████████████████████████████| 23/23 [04:36<00:00, 12.01s/it, accepor_recall=0.908, donor_recall=0.923, loss=0.000238, pred_l1_dist=0]\n"
     ]
    },
    {
     "name": "stdout",
     "output_type": "stream",
     "text": [
      "\n",
      "\u001b[1mAcceptor:\u001b[0m\n",
      "0.9762\t0.9307\t0.9884\t0.9927\t0.9577\t0.9757000207901001\t0.4309999942779541\t0.0015999999595806003\t0.0003000000142492354\t21432\n",
      "\n",
      "\u001b[1mDonor:\u001b[0m\n",
      "0.9785\t0.9324\t0.9917\t0.9957\t0.9607\t0.98089998960495\t0.46230000257492065\t0.0010999999940395355\t0.00019999999494757503\t21432\n",
      "epoch: 10/10, val loss = 0.000177\n"
     ]
    },
    {
     "data": {
      "image/png": "[encoded data removed]",
      "text/plain": [
       "<Figure size 432x288 with 1 Axes>"
      ]
     },
     "metadata": {
      "needs_background": "light"
     },
     "output_type": "display_data"
    },
    {
     "name": "stderr",
     "output_type": "stream",
     "text": [
      "Epoch (train) 1/10: 100%|██████████████████████████████████████████████████████| 202/202 [31:41<00:00,  9.41s/it, accepor_recall=0.862, donor_recall=0.876, loss=0.000212, pred_l1_dist=0]\n"
     ]
    },
    {
     "name": "stdout",
     "output_type": "stream",
     "text": [
      "epoch: 1/10, train loss = 0.007211\n"
     ]
    },
    {
     "name": "stderr",
     "output_type": "stream",
     "text": [
      "Epoch (val) 1/10: 100%|██████████████████████████████████████████████████████████| 23/23 [04:48<00:00, 12.54s/it, accepor_recall=0.848, donor_recall=0.858, loss=0.000403, pred_l1_dist=0]\n"
     ]
    },
    {
     "name": "stdout",
     "output_type": "stream",
     "text": [
      "\n",
      "\u001b[1mAcceptor:\u001b[0m\n",
      "0.963\t0.8532\t0.9635\t0.9833\t0.9039\t0.9769999980926514\t0.6237000226974487\t0.05040000006556511\t0.007300000172108412\t21432\n",
      "\n",
      "\u001b[1mDonor:\u001b[0m\n",
      "0.9645\t0.8681\t0.9737\t0.9891\t0.9175\t0.9657999873161316\t0.505299985408783\t0.02539999969303608\t0.0032999999821186066\t21432\n",
      "epoch: 1/10, val loss = 0.000320\n"
     ]
    },
    {
     "name": "stderr",
     "output_type": "stream",
     "text": [
      "Epoch (train) 2/10: 100%|██████████████████████████████████████████████████████| 202/202 [31:44<00:00,  9.43s/it, accepor_recall=0.901, donor_recall=0.914, loss=0.000181, pred_l1_dist=0]\n"
     ]
    },
    {
     "name": "stdout",
     "output_type": "stream",
     "text": [
      "epoch: 2/10, train loss = 0.000198\n"
     ]
    },
    {
     "name": "stderr",
     "output_type": "stream",
     "text": [
      "Epoch (val) 2/10: 100%|██████████████████████████████████████████████████████████| 23/23 [04:42<00:00, 12.30s/it, accepor_recall=0.884, donor_recall=0.888, loss=0.000354, pred_l1_dist=0]\n"
     ]
    },
    {
     "name": "stdout",
     "output_type": "stream",
     "text": [
      "\n",
      "\u001b[1mAcceptor:\u001b[0m\n",
      "0.9668\t0.8715\t0.9734\t0.9881\t0.9225\t0.9764999747276306\t0.583899974822998\t0.017400000244379044\t0.0020000000949949026\t21432\n",
      "\n",
      "\u001b[1mDonor:\u001b[0m\n",
      "0.9673\t0.8759\t0.9811\t0.9921\t0.9265\t0.965499997138977\t0.571399986743927\t0.019899999722838402\t0.002400000113993883\t21432\n",
      "epoch: 2/10, val loss = 0.000277\n"
     ]
    },
    {
     "name": "stderr",
     "output_type": "stream",
     "text": [
      "Epoch (train) 3/10: 100%|██████████████████████████████████████████████████████| 202/202 [31:36<00:00,  9.39s/it, accepor_recall=0.916, donor_recall=0.921, loss=0.000158, pred_l1_dist=0]\n"
     ]
    },
    {
     "name": "stdout",
     "output_type": "stream",
     "text": [
      "epoch: 3/10, train loss = 0.000169\n"
     ]
    },
    {
     "name": "stderr",
     "output_type": "stream",
     "text": [
      "Epoch (val) 3/10: 100%|██████████████████████████████████████████████████████████| 23/23 [04:35<00:00, 11.99s/it, accepor_recall=0.765, donor_recall=0.852, loss=0.000333, pred_l1_dist=0]\n"
     ]
    },
    {
     "name": "stdout",
     "output_type": "stream",
     "text": [
      "\n",
      "\u001b[1mAcceptor:\u001b[0m\n",
      "0.9728\t0.9011\t0.9814\t0.9901\t0.9416\t0.902999997138977\t0.11410000175237656\t0.0017000000225380063\t0.0003000000142492354\t21432\n",
      "\n",
      "\u001b[1mDonor:\u001b[0m\n",
      "0.969\t0.9002\t0.9878\t0.9952\t0.9421\t0.9574000239372253\t0.30059999227523804\t0.003000000026077032\t0.00039999998989515007\t21432\n",
      "epoch: 3/10, val loss = 0.000258\n"
     ]
    },
    {
     "name": "stderr",
     "output_type": "stream",
     "text": [
      "Epoch (train) 4/10: 100%|███████████████████████████████████████████████████████| 202/202 [31:36<00:00,  9.39s/it, accepor_recall=0.929, donor_recall=0.93, loss=0.000131, pred_l1_dist=0]\n"
     ]
    },
    {
     "name": "stdout",
     "output_type": "stream",
     "text": [
      "epoch: 4/10, train loss = 0.000149\n"
     ]
    },
    {
     "name": "stderr",
     "output_type": "stream",
     "text": [
      "Epoch (val) 4/10: 100%|█████████████████████████████████████████████████████████████| 23/23 [04:42<00:00, 12.29s/it, accepor_recall=0.9, donor_recall=0.93, loss=0.000284, pred_l1_dist=0]\n"
     ]
    },
    {
     "name": "stdout",
     "output_type": "stream",
     "text": [
      "\n",
      "\u001b[1mAcceptor:\u001b[0m\n",
      "0.9752\t0.9056\t0.9853\t0.9918\t0.9467\t0.9789000153541565\t0.5483999848365784\t0.010999999940395355\t0.0019000000320374966\t21432\n",
      "\n",
      "\u001b[1mDonor:\u001b[0m\n",
      "0.9742\t0.9127\t0.9898\t0.9946\t0.9524\t0.9842000007629395\t0.667900025844574\t0.008200000040233135\t0.0010000000474974513\t21432\n",
      "epoch: 4/10, val loss = 0.000210\n"
     ]
    },
    {
     "name": "stderr",
     "output_type": "stream",
     "text": [
      "Epoch (train) 5/10: 100%|███████████████████████████████████████████████████████| 202/202 [31:29<00:00,  9.36s/it, accepor_recall=0.932, donor_recall=0.94, loss=0.000142, pred_l1_dist=0]\n"
     ]
    },
    {
     "name": "stdout",
     "output_type": "stream",
     "text": [
      "epoch: 5/10, train loss = 0.000137\n"
     ]
    },
    {
     "name": "stderr",
     "output_type": "stream",
     "text": [
      "Epoch (val) 5/10: 100%|██████████████████████████████████████████████████████████| 23/23 [04:43<00:00, 12.32s/it, accepor_recall=0.908, donor_recall=0.934, loss=0.000259, pred_l1_dist=0]\n"
     ]
    },
    {
     "name": "stdout",
     "output_type": "stream",
     "text": [
      "\n",
      "\u001b[1mAcceptor:\u001b[0m\n",
      "0.9758\t0.9156\t0.986\t0.993\t0.9512\t0.9684000015258789\t0.5357999801635742\t0.00860000029206276\t0.0013000000035390258\t21432\n",
      "\n",
      "\u001b[1mDonor:\u001b[0m\n",
      "0.9756\t0.9204\t0.9899\t0.9951\t0.956\t0.9855999946594238\t0.6593000292778015\t0.008500000461935997\t0.0010999999940395355\t21432\n",
      "epoch: 5/10, val loss = 0.000194\n"
     ]
    },
    {
     "name": "stderr",
     "output_type": "stream",
     "text": [
      "Epoch (train) 6/10: 100%|███████████████████████████████████████████████████████| 202/202 [31:41<00:00,  9.41s/it, accepor_recall=0.938, donor_recall=0.94, loss=0.000139, pred_l1_dist=0]\n"
     ]
    },
    {
     "name": "stdout",
     "output_type": "stream",
     "text": [
      "epoch: 6/10, train loss = 0.000127\n"
     ]
    },
    {
     "name": "stderr",
     "output_type": "stream",
     "text": [
      "Epoch (val) 6/10: 100%|████████████████████████████████████████████████████████████| 23/23 [04:47<00:00, 12.50s/it, accepor_recall=0.92, donor_recall=0.946, loss=0.00027, pred_l1_dist=0]\n"
     ]
    },
    {
     "name": "stdout",
     "output_type": "stream",
     "text": [
      "\n",
      "\u001b[1mAcceptor:\u001b[0m\n",
      "0.9746\t0.9122\t0.9853\t0.9927\t0.9493\t0.9819999933242798\t0.683899998664856\t0.007899999618530273\t0.0010000000474974513\t21432\n",
      "\n",
      "\u001b[1mDonor:\u001b[0m\n",
      "0.9743\t0.9221\t0.9905\t0.9957\t0.9565\t0.9919000267982483\t0.7301999926567078\t0.006500000134110451\t0.000699999975040555\t21432\n",
      "epoch: 6/10, val loss = 0.000205\n"
     ]
    },
    {
     "name": "stderr",
     "output_type": "stream",
     "text": [
      "Epoch (train) 7/10: 100%|███████████████████████████████████████████████████████| 202/202 [31:27<00:00,  9.34s/it, accepor_recall=0.938, donor_recall=0.946, loss=0.00012, pred_l1_dist=0]\n"
     ]
    },
    {
     "name": "stdout",
     "output_type": "stream",
     "text": [
      "epoch: 7/10, train loss = 0.000119\n"
     ]
    },
    {
     "name": "stderr",
     "output_type": "stream",
     "text": [
      "Epoch (val) 7/10: 100%|███████████████████████████████████████████████████████████| 23/23 [04:39<00:00, 12.15s/it, accepor_recall=0.898, donor_recall=0.907, loss=0.00026, pred_l1_dist=0]\n"
     ]
    },
    {
     "name": "stdout",
     "output_type": "stream",
     "text": [
      "\n",
      "\u001b[1mAcceptor:\u001b[0m\n",
      "0.9773\t0.918\t0.9857\t0.9923\t0.9522\t0.9829000234603882\t0.5393999814987183\t0.003599999938160181\t0.0005000000237487257\t21432\n",
      "\n",
      "\u001b[1mDonor:\u001b[0m\n",
      "0.9743\t0.9197\t0.9902\t0.9952\t0.953\t0.9757999777793884\t0.5532000064849854\t0.002099999925121665\t0.00019999999494757503\t21432\n",
      "epoch: 7/10, val loss = 0.000198\n"
     ]
    },
    {
     "name": "stderr",
     "output_type": "stream",
     "text": [
      "Epoch (train) 8/10: 100%|███████████████████████████████████████████████████████| 202/202 [31:31<00:00,  9.36s/it, accepor_recall=0.96, donor_recall=0.959, loss=0.000101, pred_l1_dist=0]\n"
     ]
    },
    {
     "name": "stdout",
     "output_type": "stream",
     "text": [
      "epoch: 8/10, train loss = 0.000099\n"
     ]
    },
    {
     "name": "stderr",
     "output_type": "stream",
     "text": [
      "Epoch (val) 8/10: 100%|██████████████████████████████████████████████████████████| 23/23 [04:38<00:00, 12.12s/it, accepor_recall=0.903, donor_recall=0.923, loss=0.000241, pred_l1_dist=0]\n"
     ]
    },
    {
     "name": "stdout",
     "output_type": "stream",
     "text": [
      "\n",
      "\u001b[1mAcceptor:\u001b[0m\n",
      "0.9796\t0.9247\t0.9878\t0.9927\t0.9567\t0.9775000214576721\t0.41679999232292175\t0.002199999988079071\t0.00039999998989515007\t21432\n",
      "\n",
      "\u001b[1mDonor:\u001b[0m\n",
      "0.9795\t0.9287\t0.9917\t0.9952\t0.9614\t0.9847999811172485\t0.5321999788284302\t0.002199999988079071\t0.0003000000142492354\t21432\n",
      "epoch: 8/10, val loss = 0.000183\n"
     ]
    },
    {
     "name": "stderr",
     "output_type": "stream",
     "text": [
      "Epoch (train) 9/10: 100%|███████████████████████████████████████████████████████| 202/202 [31:20<00:00,  9.31s/it, accepor_recall=0.965, donor_recall=0.965, loss=8.26e-5, pred_l1_dist=0]\n"
     ]
    },
    {
     "name": "stdout",
     "output_type": "stream",
     "text": [
      "epoch: 9/10, train loss = 0.000085\n"
     ]
    },
    {
     "name": "stderr",
     "output_type": "stream",
     "text": [
      "Epoch (val) 9/10: 100%|██████████████████████████████████████████████████████████| 23/23 [04:35<00:00, 12.00s/it, accepor_recall=0.906, donor_recall=0.921, loss=0.000239, pred_l1_dist=0]\n"
     ]
    },
    {
     "name": "stdout",
     "output_type": "stream",
     "text": [
      "\n",
      "\u001b[1mAcceptor:\u001b[0m\n",
      "0.978\t0.9278\t0.9884\t0.9934\t0.9584\t0.9819999933242798\t0.3873000144958496\t0.0017000000225380063\t0.0003000000142492354\t21432\n",
      "\n",
      "\u001b[1mDonor:\u001b[0m\n",
      "0.9779\t0.9326\t0.9916\t0.9955\t0.9618\t0.9848999977111816\t0.4311000108718872\t0.0013000000035390258\t0.00019999999494757503\t21432\n",
      "epoch: 9/10, val loss = 0.000184\n"
     ]
    },
    {
     "name": "stderr",
     "output_type": "stream",
     "text": [
      "Epoch (train) 10/10: 100%|███████████████████████████████████████████████████████| 202/202 [31:34<00:00,  9.38s/it, accepor_recall=0.969, donor_recall=0.968, loss=6.3e-5, pred_l1_dist=0]\n"
     ]
    },
    {
     "name": "stdout",
     "output_type": "stream",
     "text": [
      "epoch: 10/10, train loss = 0.000076\n"
     ]
    },
    {
     "name": "stderr",
     "output_type": "stream",
     "text": [
      "Epoch (val) 10/10: 100%|██████████████████████████████████████████████████████████| 23/23 [04:42<00:00, 12.30s/it, accepor_recall=0.921, donor_recall=0.93, loss=0.000242, pred_l1_dist=0]\n"
     ]
    },
    {
     "name": "stdout",
     "output_type": "stream",
     "text": [
      "\n",
      "\u001b[1mAcceptor:\u001b[0m\n",
      "0.9791\t0.9311\t0.9883\t0.9934\t0.9602\t0.9891999959945679\t0.5037000179290771\t0.001500000013038516\t0.0003000000142492354\t21432\n",
      "\n",
      "\u001b[1mDonor:\u001b[0m\n",
      "0.9783\t0.9341\t0.992\t0.996\t0.9633\t0.9890000224113464\t0.531499981880188\t0.0013000000035390258\t0.00019999999494757503\t21432\n",
      "epoch: 10/10, val loss = 0.000180\n"
     ]
    },
    {
     "data": {
      "image/png": "[encoded data removed]",
      "text/plain": [
       "<Figure size 432x288 with 1 Axes>"
      ]
     },
     "metadata": {
      "needs_background": "light"
     },
     "output_type": "display_data"
    }
   ],
   "source": [
    "device = torch.device(\"cuda\" if torch.cuda.is_available() else \"cpu\")\n",
    "epochs = 10\n",
    "hs = []\n",
    "\n",
    "parameters = [10000,20000,40000,60000,80000]\n",
    "\n",
    "for model_nr in range(5):\n",
    "    train_dataset = spliceDataset(annotation_train,transcriptToLabel,SL,CL_max = parameters[model_nr])\n",
    "    val_dataset = spliceDataset(annotation_validation,transcriptToLabel,SL,CL_max = parameters[model_nr])\n",
    "    train_dataset.seqData = seqData\n",
    "    val_dataset.seqData = seqData\n",
    "\n",
    "    train_loader = torch.utils.data.DataLoader(train_dataset, batch_size=k*100, shuffle=True, num_workers=16,collate_fn=collate_fn, pin_memory=True)\n",
    "    val_loader = torch.utils.data.DataLoader(val_dataset, batch_size=k*100, shuffle=False,collate_fn=collate_fn, num_workers=16)\n",
    "    model_m = SpliceFormer(CL_max = parameters[model_nr],n_transformer_blocks = 2)\n",
    "    model_m.apply(keras_init)\n",
    "    model_m = model_m.to(device)\n",
    "    if torch.cuda.device_count() > 1:\n",
    "        #print(\"Let's use\", torch.cuda.device_count(), \"GPUs!\")\n",
    "        # dim = 0 [30, xxx] -> [10, ...], [10, ...], [10, ...] on 3 GPUs\n",
    "        model_m = nn.DataParallel(model_m)\n",
    "    \n",
    "    modelFileName = '../Results/PyTorch_Models/transformer_encoder_ablation_context_size_{}'.format(parameters[model_nr])\n",
    "    #model_m.load_state_dict(torch.load('../Results/PyTorch_Models/SpliceAI_Ensembl_dgxtest_{}'.format(0)))\n",
    "    #loss = nn.CrossEntropyLoss(weight=torch.from_numpy(weights).float().to(device),ignore_index=-1,reduction='mean')\n",
    "    loss = categorical_crossentropy_2d().loss\n",
    "    #loss = nn.KLDivLoss()\n",
    "    learning_rate= k*1e-3\n",
    "    optimizer = torch.optim.Adam(model_m.parameters(), lr=learning_rate)\n",
    "    scheduler = torch.optim.lr_scheduler.StepLR(optimizer, step_size=1, gamma=0.5)\n",
    "    warmup = get_constant_schedule_with_warmup(optimizer, num_warmup_steps=1000)\n",
    "    h = trainModel(model_m,modelFileName,loss,train_loader,val_loader,optimizer,scheduler,warmup,BATCH_SIZE,epochs,device)\n",
    "    hs.append(h)\n",
    "\n",
    "    plt.plot(range(epochs),h['loss'],label='Train')\n",
    "    plt.plot(range(epochs),h['val_loss'],label='Validation')\n",
    "    plt.xlabel('Epoch')\n",
    "    plt.ylabel('Loss')\n",
    "    plt.legend()\n",
    "    plt.show()"
   ]
  },
  {
   "cell_type": "code",
   "execution_count": 11,
   "metadata": {
    "scrolled": true
   },
   "outputs": [
    {
     "name": "stderr",
     "output_type": "stream",
     "text": [
      "Epoch (train) 1/10: 100%|███████████████████████████████████████████████████████████████████████████████████████████████| 202/202 [23:56<00:00,  7.11s/it, accepor_recall=0.863, donor_recall=0.876, loss=0.000244, pred_l1_dist=0]\n"
     ]
    },
    {
     "name": "stdout",
     "output_type": "stream",
     "text": [
      "epoch: 1/10, train loss = 0.008098\n"
     ]
    },
    {
     "name": "stderr",
     "output_type": "stream",
     "text": [
      "Epoch (val) 1/10: 100%|███████████████████████████████████████████████████████████████████████████████████████████████████| 23/23 [04:57<00:00, 12.93s/it, accepor_recall=0.601, donor_recall=0.719, loss=0.000481, pred_l1_dist=0]\n"
     ]
    },
    {
     "name": "stdout",
     "output_type": "stream",
     "text": [
      "\n",
      "\u001b[1mAcceptor:\u001b[0m\n",
      "0.963\t0.8641\t0.9667\t0.9836\t0.9105\t0.6424999833106995\t0.11339999735355377\t0.004399999976158142\t0.000699999975040555\t21432\n",
      "\n",
      "\u001b[1mDonor:\u001b[0m\n",
      "0.9638\t0.8831\t0.9823\t0.991\t0.9296\t0.7166000008583069\t0.16249999403953552\t0.0044999998062849045\t0.0006000000284984708\t21432\n",
      "epoch: 1/10, val loss = 0.000380\n"
     ]
    },
    {
     "name": "stderr",
     "output_type": "stream",
     "text": [
      "Epoch (train) 2/10: 100%|███████████████████████████████████████████████████████████████████████████████████████████████| 202/202 [23:14<00:00,  6.90s/it, accepor_recall=0.899, donor_recall=0.904, loss=0.000195, pred_l1_dist=0]\n"
     ]
    },
    {
     "name": "stdout",
     "output_type": "stream",
     "text": [
      "epoch: 2/10, train loss = 0.000199\n"
     ]
    },
    {
     "name": "stderr",
     "output_type": "stream",
     "text": [
      "Epoch (val) 2/10: 100%|███████████████████████████████████████████████████████████████████████████████████████████████████| 23/23 [04:56<00:00, 12.88s/it, accepor_recall=0.914, donor_recall=0.907, loss=0.000373, pred_l1_dist=0]\n"
     ]
    },
    {
     "name": "stdout",
     "output_type": "stream",
     "text": [
      "\n",
      "\u001b[1mAcceptor:\u001b[0m\n",
      "0.9635\t0.8833\t0.9756\t0.987\t0.9246\t0.9545000195503235\t0.6844000220298767\t0.06509999930858612\t0.011500000022351742\t21432\n",
      "\n",
      "\u001b[1mDonor:\u001b[0m\n",
      "0.9678\t0.8837\t0.9796\t0.9913\t0.9292\t0.9606000185012817\t0.6614000201225281\t0.054999999701976776\t0.009700000286102295\t21432\n",
      "epoch: 2/10, val loss = 0.000298\n"
     ]
    },
    {
     "name": "stderr",
     "output_type": "stream",
     "text": [
      "Epoch (train) 3/10: 100%|███████████████████████████████████████████████████████████████████████████████████████████████| 202/202 [23:29<00:00,  6.98s/it, accepor_recall=0.913, donor_recall=0.917, loss=0.000152, pred_l1_dist=0]\n"
     ]
    },
    {
     "name": "stdout",
     "output_type": "stream",
     "text": [
      "epoch: 3/10, train loss = 0.000172\n"
     ]
    },
    {
     "name": "stderr",
     "output_type": "stream",
     "text": [
      "Epoch (val) 3/10: 100%|████████████████████████████████████████████████████████████████████████████████████████████████████| 23/23 [05:01<00:00, 13.09s/it, accepor_recall=0.888, donor_recall=0.895, loss=0.00028, pred_l1_dist=0]\n"
     ]
    },
    {
     "name": "stdout",
     "output_type": "stream",
     "text": [
      "\n",
      "\u001b[1mAcceptor:\u001b[0m\n",
      "0.9723\t0.9098\t0.9829\t0.9902\t0.9429\t0.978600025177002\t0.4650000035762787\t0.00930000003427267\t0.0015999999595806003\t21432\n",
      "\n",
      "\u001b[1mDonor:\u001b[0m\n",
      "0.9703\t0.9134\t0.9869\t0.9944\t0.9473\t0.9750999808311462\t0.40369999408721924\t0.0038999998942017555\t0.0005000000237487257\t21432\n",
      "epoch: 3/10, val loss = 0.000213\n"
     ]
    },
    {
     "name": "stderr",
     "output_type": "stream",
     "text": [
      "Epoch (train) 4/10: 100%|███████████████████████████████████████████████████████████████████████████████████████████████| 202/202 [23:55<00:00,  7.11s/it, accepor_recall=0.931, donor_recall=0.935, loss=0.000137, pred_l1_dist=0]\n"
     ]
    },
    {
     "name": "stdout",
     "output_type": "stream",
     "text": [
      "epoch: 4/10, train loss = 0.000150\n"
     ]
    },
    {
     "name": "stderr",
     "output_type": "stream",
     "text": [
      "Epoch (val) 4/10: 100%|█████████████████████████████████████████████████████████████████████████████████████████████████████████████████████████████████████| 23/23 [05:11<00:00, 13.56s/it, accepor_recall=0.838, donor_recall=0.854, loss=0.000344, pred_l1_dist=0]\n"
     ]
    },
    {
     "name": "stdout",
     "output_type": "stream",
     "text": [
      "\n",
      "\u001b[1mAcceptor:\u001b[0m\n",
      "0.9692\t0.9029\t0.9786\t0.9877\t0.9352\t0.9646999835968018\t0.12970000505447388\t0.001500000013038516\t0.0003000000142492354\t21432\n",
      "\n",
      "\u001b[1mDonor:\u001b[0m\n",
      "0.9672\t0.9031\t0.983\t0.9906\t0.9395\t0.9564999938011169\t0.16050000488758087\t0.0010999999940395355\t0.00019999999494757503\t21432\n",
      "epoch: 4/10, val loss = 0.000274\n"
     ]
    },
    {
     "name": "stderr",
     "output_type": "stream",
     "text": [
      "Epoch (train) 5/10: 100%|██████████████████████████████████████████████████████████████████████████████████████████████████████████████████████████████████| 202/202 [23:20<00:00,  6.93s/it, accepor_recall=0.938, donor_recall=0.941, loss=0.00014, pred_l1_dist=0]\n"
     ]
    },
    {
     "name": "stdout",
     "output_type": "stream",
     "text": [
      "epoch: 5/10, train loss = 0.000137\n"
     ]
    },
    {
     "name": "stderr",
     "output_type": "stream",
     "text": [
      "Epoch (val) 5/10: 100%|█████████████████████████████████████████████████████████████████████████████████████████████████████████████████████████████████████| 23/23 [05:05<00:00, 13.28s/it, accepor_recall=0.878, donor_recall=0.882, loss=0.000294, pred_l1_dist=0]\n"
     ]
    },
    {
     "name": "stdout",
     "output_type": "stream",
     "text": [
      "\n",
      "\u001b[1mAcceptor:\u001b[0m\n",
      "0.974\t0.9123\t0.983\t0.9914\t0.9461\t0.9732999801635742\t0.27309998869895935\t0.002400000113993883\t0.00039999998989515007\t21432\n",
      "\n",
      "\u001b[1mDonor:\u001b[0m\n",
      "0.9754\t0.9179\t0.9873\t0.9938\t0.9511\t0.96670001745224\t0.20550000667572021\t0.0010999999940395355\t0.00019999999494757503\t21432\n",
      "epoch: 5/10, val loss = 0.000224\n"
     ]
    },
    {
     "name": "stderr",
     "output_type": "stream",
     "text": [
      "Epoch (train) 6/10: 100%|██████████████████████████████████████████████████████████████████████████████████████████████████████████████████████████████████| 202/202 [23:30<00:00,  6.98s/it, accepor_recall=0.945, donor_recall=0.95, loss=0.000122, pred_l1_dist=0]\n"
     ]
    },
    {
     "name": "stdout",
     "output_type": "stream",
     "text": [
      "epoch: 6/10, train loss = 0.000127\n"
     ]
    },
    {
     "name": "stderr",
     "output_type": "stream",
     "text": [
      "Epoch (val) 6/10: 100%|█████████████████████████████████████████████████████████████████████████████████████████████████████████████████████████████████████| 23/23 [05:53<00:00, 15.36s/it, accepor_recall=0.887, donor_recall=0.885, loss=0.000268, pred_l1_dist=0]\n"
     ]
    },
    {
     "name": "stdout",
     "output_type": "stream",
     "text": [
      "\n",
      "\u001b[1mAcceptor:\u001b[0m\n",
      "0.9742\t0.9136\t0.9848\t0.9918\t0.9475\t0.9555000066757202\t0.4036000072956085\t0.004699999932199717\t0.0010000000474974513\t21432\n",
      "\n",
      "\u001b[1mDonor:\u001b[0m\n",
      "0.9746\t0.9174\t0.9895\t0.9951\t0.9526\t0.9537000060081482\t0.33180001378059387\t0.002899999963119626\t0.0005000000237487257\t21432\n",
      "epoch: 6/10, val loss = 0.000201\n"
     ]
    },
    {
     "name": "stderr",
     "output_type": "stream",
     "text": [
      "Epoch (train) 7/10: 100%|█████████████████████████████████████████████████████████████████████████████████████████████████████████████████████████████████| 202/202 [23:57<00:00,  7.11s/it, accepor_recall=0.944, donor_recall=0.945, loss=0.000135, pred_l1_dist=0]\n"
     ]
    },
    {
     "name": "stdout",
     "output_type": "stream",
     "text": [
      "epoch: 7/10, train loss = 0.000118\n"
     ]
    },
    {
     "name": "stderr",
     "output_type": "stream",
     "text": [
      "Epoch (val) 7/10: 100%|██████████████████████████████████████████████████████████████████████████████████████████████████████████████████████████████████████| 23/23 [06:24<00:00, 16.71s/it, accepor_recall=0.923, donor_recall=0.923, loss=0.00026, pred_l1_dist=0]\n"
     ]
    },
    {
     "name": "stdout",
     "output_type": "stream",
     "text": [
      "\n",
      "\u001b[1mAcceptor:\u001b[0m\n",
      "0.9709\t0.9162\t0.9856\t0.9925\t0.9471\t0.974399983882904\t0.607699990272522\t0.006099999882280827\t0.0008999999845400453\t21432\n",
      "\n",
      "\u001b[1mDonor:\u001b[0m\n",
      "0.9721\t0.9186\t0.9874\t0.9945\t0.9501\t0.9585999846458435\t0.5098000168800354\t0.004699999932199717\t0.0005000000237487257\t21432\n",
      "epoch: 7/10, val loss = 0.000197\n"
     ]
    },
    {
     "name": "stderr",
     "output_type": "stream",
     "text": [
      "Epoch (train) 8/10: 100%|██████████████████████████████████████████████████████████████████████████████████████████████████████████████████████████████████| 202/202 [23:30<00:00,  6.98s/it, accepor_recall=0.959, donor_recall=0.961, loss=9.27e-5, pred_l1_dist=0]\n"
     ]
    },
    {
     "name": "stdout",
     "output_type": "stream",
     "text": [
      "epoch: 8/10, train loss = 0.000096\n"
     ]
    },
    {
     "name": "stderr",
     "output_type": "stream",
     "text": [
      "Epoch (val) 8/10: 100%|██████████████████████████████████████████████████████████████████████████████████████████████████████████████████████████████████████| 23/23 [05:45<00:00, 15.04s/it, accepor_recall=0.91, donor_recall=0.922, loss=0.000251, pred_l1_dist=0]\n"
     ]
    },
    {
     "name": "stdout",
     "output_type": "stream",
     "text": [
      "\n",
      "\u001b[1mAcceptor:\u001b[0m\n",
      "0.9748\t0.9263\t0.9881\t0.9935\t0.9547\t0.9865999817848206\t0.44600000977516174\t0.001500000013038516\t0.00019999999494757503\t21432\n",
      "\n",
      "\u001b[1mDonor:\u001b[0m\n",
      "0.9767\t0.9285\t0.9901\t0.9949\t0.9585\t0.9836000204086304\t0.4494999945163727\t0.0010000000474974513\t9.999999747378752e-05\t21432\n",
      "epoch: 8/10, val loss = 0.000186\n"
     ]
    },
    {
     "name": "stderr",
     "output_type": "stream",
     "text": [
      "Epoch (train) 9/10: 100%|██████████████████████████████████████████████████████████████████████████████████████████████████████████████████████████████████| 202/202 [23:29<00:00,  6.98s/it, accepor_recall=0.967, donor_recall=0.969, loss=9.32e-5, pred_l1_dist=0]\n"
     ]
    },
    {
     "name": "stdout",
     "output_type": "stream",
     "text": [
      "epoch: 9/10, train loss = 0.000082\n"
     ]
    },
    {
     "name": "stderr",
     "output_type": "stream",
     "text": [
      "Epoch (val) 9/10: 100%|█████████████████████████████████████████████████████████████████████████████████████████████████████████████████████████████████████| 23/23 [04:56<00:00, 12.91s/it, accepor_recall=0.901, donor_recall=0.918, loss=0.000241, pred_l1_dist=0]\n"
     ]
    },
    {
     "name": "stdout",
     "output_type": "stream",
     "text": [
      "\n",
      "\u001b[1mAcceptor:\u001b[0m\n",
      "0.9757\t0.9282\t0.9875\t0.9927\t0.9552\t0.9765999913215637\t0.3806000053882599\t0.0019000000320374966\t0.00039999998989515007\t21432\n",
      "\n",
      "\u001b[1mDonor:\u001b[0m\n",
      "0.9772\t0.9326\t0.9906\t0.9954\t0.9603\t0.9822999835014343\t0.3971000015735626\t0.0013000000035390258\t0.00019999999494757503\t21432\n",
      "epoch: 9/10, val loss = 0.000178\n"
     ]
    },
    {
     "name": "stderr",
     "output_type": "stream",
     "text": [
      "Epoch (train) 10/10: 100%|█████████████████████████████████████████████████████████████████████████████████████████████████████████████████████████████████| 202/202 [23:30<00:00,  6.98s/it, accepor_recall=0.971, donor_recall=0.971, loss=7.02e-5, pred_l1_dist=0]\n"
     ]
    },
    {
     "name": "stdout",
     "output_type": "stream",
     "text": [
      "epoch: 10/10, train loss = 0.000072\n"
     ]
    },
    {
     "name": "stderr",
     "output_type": "stream",
     "text": [
      "Epoch (val) 10/10: 100%|████████████████████████████████████████████████████████████████████████████████████████████████████████████████████████████████████| 23/23 [05:00<00:00, 13.07s/it, accepor_recall=0.916, donor_recall=0.926, loss=0.000249, pred_l1_dist=0]\n"
     ]
    },
    {
     "name": "stdout",
     "output_type": "stream",
     "text": [
      "\n",
      "\u001b[1mAcceptor:\u001b[0m\n",
      "0.9762\t0.93\t0.9867\t0.9922\t0.9545\t0.9850999712944031\t0.45910000801086426\t0.0012000000569969416\t0.00019999999494757503\t21432\n",
      "\n",
      "\u001b[1mDonor:\u001b[0m\n",
      "0.9771\t0.9323\t0.9905\t0.995\t0.9595\t0.9854000210762024\t0.46399998664855957\t0.0010999999940395355\t0.00019999999494757503\t21432\n",
      "epoch: 10/10, val loss = 0.000182\n"
     ]
    },
    {
     "data": {
      "image/png": "[encoded data removed]",
      "text/plain": [
       "<Figure size 432x288 with 1 Axes>"
      ]
     },
     "metadata": {
      "needs_background": "light"
     },
     "output_type": "display_data"
    },
    {
     "name": "stderr",
     "output_type": "stream",
     "text": [
      "Epoch (train) 1/10: 100%|█████████████████████████████████████████████████████████████████████████████████████████████████████████████████████████████████| 202/202 [28:23<00:00,  8.43s/it, accepor_recall=0.871, donor_recall=0.879, loss=0.000236, pred_l1_dist=0]\n"
     ]
    },
    {
     "name": "stdout",
     "output_type": "stream",
     "text": [
      "epoch: 1/10, train loss = 0.007277\n"
     ]
    },
    {
     "name": "stderr",
     "output_type": "stream",
     "text": [
      "Epoch (val) 1/10: 100%|█████████████████████████████████████████████████████████████████████████████████████████████████████████████████████████████████████| 23/23 [04:59<00:00, 13.01s/it, accepor_recall=0.921, donor_recall=0.922, loss=0.000482, pred_l1_dist=0]\n"
     ]
    },
    {
     "name": "stdout",
     "output_type": "stream",
     "text": [
      "\n",
      "\u001b[1mAcceptor:\u001b[0m\n",
      "0.9643\t0.8625\t0.9717\t0.9873\t0.913\t0.9775999784469604\t0.8008000254631042\t0.10320000350475311\t0.013199999928474426\t21432\n",
      "\n",
      "\u001b[1mDonor:\u001b[0m\n",
      "0.9643\t0.8688\t0.9748\t0.99\t0.9198\t0.9674000144004822\t0.7440999746322632\t0.08739999681711197\t0.011800000444054604\t21432\n",
      "epoch: 1/10, val loss = 0.000377\n"
     ]
    },
    {
     "name": "stderr",
     "output_type": "stream",
     "text": [
      "Epoch (train) 2/10: 100%|█████████████████████████████████████████████████████████████████████████████████████████████████████████████████████████████████| 202/202 [28:07<00:00,  8.35s/it, accepor_recall=0.894, donor_recall=0.906, loss=0.000183, pred_l1_dist=0]\n"
     ]
    },
    {
     "name": "stdout",
     "output_type": "stream",
     "text": [
      "epoch: 2/10, train loss = 0.000194\n"
     ]
    },
    {
     "name": "stderr",
     "output_type": "stream",
     "text": [
      "Epoch (val) 2/10: 100%|█████████████████████████████████████████████████████████████████████████████████████████████████████████████████████████████████████| 23/23 [06:05<00:00, 15.90s/it, accepor_recall=0.873, donor_recall=0.881, loss=0.000299, pred_l1_dist=0]\n"
     ]
    },
    {
     "name": "stdout",
     "output_type": "stream",
     "text": [
      "\n",
      "\u001b[1mAcceptor:\u001b[0m\n",
      "0.969\t0.8991\t0.9815\t0.9904\t0.9378\t0.9718999862670898\t0.38510000705718994\t0.006099999882280827\t0.0010000000474974513\t21432\n",
      "\n",
      "\u001b[1mDonor:\u001b[0m\n",
      "0.9704\t0.907\t0.9878\t0.9948\t0.9443\t0.9348999857902527\t0.3756999969482422\t0.005499999970197678\t0.0007999999797903001\t21432\n",
      "epoch: 2/10, val loss = 0.000226\n"
     ]
    },
    {
     "name": "stderr",
     "output_type": "stream",
     "text": [
      "Epoch (train) 3/10: 100%|█████████████████████████████████████████████████████████████████████████████████████████████████████████████████████████████████| 202/202 [28:20<00:00,  8.42s/it, accepor_recall=0.922, donor_recall=0.926, loss=0.000165, pred_l1_dist=0]\n"
     ]
    },
    {
     "name": "stdout",
     "output_type": "stream",
     "text": [
      "epoch: 3/10, train loss = 0.000167\n"
     ]
    },
    {
     "name": "stderr",
     "output_type": "stream",
     "text": [
      "Epoch (val) 3/10: 100%|█████████████████████████████████████████████████████████████████████████████████████████████████████████████████████████████████████| 23/23 [05:02<00:00, 13.14s/it, accepor_recall=0.883, donor_recall=0.887, loss=0.000287, pred_l1_dist=0]\n"
     ]
    },
    {
     "name": "stdout",
     "output_type": "stream",
     "text": [
      "\n",
      "\u001b[1mAcceptor:\u001b[0m\n",
      "0.9737\t0.9099\t0.9833\t0.9915\t0.9448\t0.9710000157356262\t0.3463999927043915\t0.002199999988079071\t0.0003000000142492354\t21432\n",
      "\n",
      "\u001b[1mDonor:\u001b[0m\n",
      "0.9727\t0.9102\t0.9867\t0.9939\t0.9477\t0.9660999774932861\t0.33660000562667847\t0.00279999990016222\t0.0003000000142492354\t21432\n",
      "epoch: 3/10, val loss = 0.000221\n"
     ]
    },
    {
     "name": "stderr",
     "output_type": "stream",
     "text": [
      "Epoch (train) 4/10: 100%|█████████████████████████████████████████████████████████████████████████████████████████████████████████████████████████████████| 202/202 [27:58<00:00,  8.31s/it, accepor_recall=0.933, donor_recall=0.936, loss=0.000138, pred_l1_dist=0]\n"
     ]
    },
    {
     "name": "stdout",
     "output_type": "stream",
     "text": [
      "epoch: 4/10, train loss = 0.000147\n"
     ]
    },
    {
     "name": "stderr",
     "output_type": "stream",
     "text": [
      "Epoch (val) 4/10: 100%|██████████████████████████████████████████████████████████████████████████████████████████████████████████████████████████████████████| 23/23 [05:52<00:00, 15.32s/it, accepor_recall=0.888, donor_recall=0.894, loss=0.00027, pred_l1_dist=0]\n"
     ]
    },
    {
     "name": "stdout",
     "output_type": "stream",
     "text": [
      "\n",
      "\u001b[1mAcceptor:\u001b[0m\n",
      "0.9728\t0.9165\t0.9865\t0.9926\t0.9484\t0.9779999852180481\t0.37380000948905945\t0.002400000113993883\t0.00039999998989515007\t21432\n",
      "\n",
      "\u001b[1mDonor:\u001b[0m\n",
      "0.9712\t0.9168\t0.9896\t0.9956\t0.9512\t0.9754999876022339\t0.399399995803833\t0.002300000051036477\t0.0003000000142492354\t21432\n",
      "epoch: 4/10, val loss = 0.000203\n"
     ]
    },
    {
     "name": "stderr",
     "output_type": "stream",
     "text": [
      "Epoch (train) 5/10: 100%|██████████████████████████████████████████████████████████████████████████████████████████████████████████████████████████████████| 202/202 [28:00<00:00,  8.32s/it, accepor_recall=0.94, donor_recall=0.945, loss=0.000129, pred_l1_dist=0]\n"
     ]
    },
    {
     "name": "stdout",
     "output_type": "stream",
     "text": [
      "epoch: 5/10, train loss = 0.000135\n"
     ]
    },
    {
     "name": "stderr",
     "output_type": "stream",
     "text": [
      "Epoch (val) 5/10: 100%|██████████████████████████████████████████████████████████████████████████████████████████████████████████████████████████████████████| 23/23 [05:22<00:00, 14.04s/it, accepor_recall=0.909, donor_recall=0.918, loss=0.00028, pred_l1_dist=0]\n"
     ]
    },
    {
     "name": "stdout",
     "output_type": "stream",
     "text": [
      "\n",
      "\u001b[1mAcceptor:\u001b[0m\n",
      "0.9718\t0.9139\t0.9853\t0.9917\t0.9454\t0.9726999998092651\t0.5085999965667725\t0.0019000000320374966\t0.00019999999494757503\t21432\n",
      "\n",
      "\u001b[1mDonor:\u001b[0m\n",
      "0.9725\t0.9135\t0.9886\t0.9946\t0.9493\t0.9830999970436096\t0.652899980545044\t0.003800000064074993\t0.00039999998989515007\t21432\n",
      "epoch: 5/10, val loss = 0.000213\n"
     ]
    },
    {
     "name": "stderr",
     "output_type": "stream",
     "text": [
      "Epoch (train) 6/10: 100%|█████████████████████████████████████████████████████████████████████████████████████████████████████████████████████████████████| 202/202 [27:55<00:00,  8.29s/it, accepor_recall=0.941, donor_recall=0.947, loss=0.000119, pred_l1_dist=0]\n"
     ]
    },
    {
     "name": "stdout",
     "output_type": "stream",
     "text": [
      "epoch: 6/10, train loss = 0.000125\n"
     ]
    },
    {
     "name": "stderr",
     "output_type": "stream",
     "text": [
      "Epoch (val) 6/10: 100%|█████████████████████████████████████████████████████████████████████████████████████████████████████████████████████████████████████| 23/23 [05:21<00:00, 14.00s/it, accepor_recall=0.923, donor_recall=0.914, loss=0.000241, pred_l1_dist=0]\n"
     ]
    },
    {
     "name": "stdout",
     "output_type": "stream",
     "text": [
      "\n",
      "\u001b[1mAcceptor:\u001b[0m\n",
      "0.9757\t0.9224\t0.9879\t0.9933\t0.9547\t0.9692000150680542\t0.5720999836921692\t0.006099999882280827\t0.0008999999845400453\t21432\n",
      "\n",
      "\u001b[1mDonor:\u001b[0m\n",
      "0.9776\t0.9267\t0.991\t0.9951\t0.9576\t0.961899995803833\t0.42890000343322754\t0.004000000189989805\t0.0006000000284984708\t21432\n",
      "epoch: 6/10, val loss = 0.000180\n"
     ]
    },
    {
     "name": "stderr",
     "output_type": "stream",
     "text": [
      "Epoch (train) 7/10: 100%|█████████████████████████████████████████████████████████████████████████████████████████████████████████████████████████████████| 202/202 [28:09<00:00,  8.36s/it, accepor_recall=0.943, donor_recall=0.949, loss=0.000112, pred_l1_dist=0]\n"
     ]
    },
    {
     "name": "stdout",
     "output_type": "stream",
     "text": [
      "epoch: 7/10, train loss = 0.000117\n"
     ]
    },
    {
     "name": "stderr",
     "output_type": "stream",
     "text": [
      "Epoch (val) 7/10: 100%|█████████████████████████████████████████████████████████████████████████████████████████████████████████████████████████████████████| 23/23 [05:05<00:00, 13.28s/it, accepor_recall=0.923, donor_recall=0.928, loss=0.000238, pred_l1_dist=0]\n"
     ]
    },
    {
     "name": "stdout",
     "output_type": "stream",
     "text": [
      "\n",
      "\u001b[1mAcceptor:\u001b[0m\n",
      "0.9758\t0.9244\t0.9889\t0.9934\t0.9551\t0.9682999849319458\t0.5630000233650208\t0.00430000014603138\t0.000699999975040555\t21432\n",
      "\n",
      "\u001b[1mDonor:\u001b[0m\n",
      "0.9728\t0.9288\t0.9915\t0.9958\t0.9574\t0.9810000061988831\t0.5677000284194946\t0.004900000058114529\t0.0007999999797903001\t21432\n",
      "epoch: 7/10, val loss = 0.000177\n"
     ]
    },
    {
     "name": "stderr",
     "output_type": "stream",
     "text": [
      "Epoch (train) 8/10: 100%|██████████████████████████████████████████████████████████████████████████████████████████████████████████████████████████████████| 202/202 [28:05<00:00,  8.35s/it, accepor_recall=0.958, donor_recall=0.964, loss=9.98e-5, pred_l1_dist=0]\n"
     ]
    },
    {
     "name": "stdout",
     "output_type": "stream",
     "text": [
      "epoch: 8/10, train loss = 0.000096\n"
     ]
    },
    {
     "name": "stderr",
     "output_type": "stream",
     "text": [
      "Epoch (val) 8/10: 100%|█████████████████████████████████████████████████████████████████████████████████████████████████████████████████████████████████████| 23/23 [05:56<00:00, 15.50s/it, accepor_recall=0.923, donor_recall=0.924, loss=0.000233, pred_l1_dist=0]\n"
     ]
    },
    {
     "name": "stdout",
     "output_type": "stream",
     "text": [
      "\n",
      "\u001b[1mAcceptor:\u001b[0m\n",
      "0.9771\t0.9285\t0.9884\t0.9931\t0.9572\t0.9805999994277954\t0.5565999746322632\t0.004100000020116568\t0.000699999975040555\t21432\n",
      "\n",
      "\u001b[1mDonor:\u001b[0m\n",
      "0.9753\t0.9312\t0.9917\t0.9954\t0.9592\t0.9811000227928162\t0.4869000017642975\t0.002099999925121665\t0.0003000000142492354\t21432\n",
      "epoch: 8/10, val loss = 0.000173\n"
     ]
    },
    {
     "name": "stderr",
     "output_type": "stream",
     "text": [
      "Epoch (train) 9/10: 100%|██████████████████████████████████████████████████████████████████████████████████████████████████████████████████████████████████| 202/202 [28:07<00:00,  8.35s/it, accepor_recall=0.966, donor_recall=0.971, loss=7.89e-5, pred_l1_dist=0]\n"
     ]
    },
    {
     "name": "stdout",
     "output_type": "stream",
     "text": [
      "epoch: 9/10, train loss = 0.000081\n"
     ]
    },
    {
     "name": "stderr",
     "output_type": "stream",
     "text": [
      "Epoch (val) 9/10: 100%|█████████████████████████████████████████████████████████████████████████████████████████████████████████████████████████████████████| 23/23 [05:08<00:00, 13.43s/it, accepor_recall=0.926, donor_recall=0.932, loss=0.000239, pred_l1_dist=0]\n"
     ]
    },
    {
     "name": "stdout",
     "output_type": "stream",
     "text": [
      "\n",
      "\u001b[1mAcceptor:\u001b[0m\n",
      "0.9739\t0.9292\t0.9894\t0.9932\t0.9563\t0.9847999811172485\t0.5774999856948853\t0.0017000000225380063\t0.0003000000142492354\t21432\n",
      "\n",
      "\u001b[1mDonor:\u001b[0m\n",
      "0.974\t0.9314\t0.9917\t0.9952\t0.9573\t0.9873999953269958\t0.5842999815940857\t0.00139999995008111\t0.00019999999494757503\t21432\n",
      "epoch: 9/10, val loss = 0.000177\n"
     ]
    },
    {
     "name": "stderr",
     "output_type": "stream",
     "text": [
      "Epoch (train) 10/10: 100%|██████████████████████████████████████████████████████████████████████████████████████████████████████████████████████████████████| 202/202 [28:06<00:00,  8.35s/it, accepor_recall=0.97, donor_recall=0.974, loss=7.04e-5, pred_l1_dist=0]\n"
     ]
    },
    {
     "name": "stdout",
     "output_type": "stream",
     "text": [
      "epoch: 10/10, train loss = 0.000072\n"
     ]
    },
    {
     "name": "stderr",
     "output_type": "stream",
     "text": [
      "Epoch (val) 10/10: 100%|████████████████████████████████████████████████████████████████████████████████████████████████████████████████████████████████████| 23/23 [05:12<00:00, 13.59s/it, accepor_recall=0.922, donor_recall=0.925, loss=0.000241, pred_l1_dist=0]\n"
     ]
    },
    {
     "name": "stdout",
     "output_type": "stream",
     "text": [
      "\n",
      "\u001b[1mAcceptor:\u001b[0m\n",
      "0.9756\t0.9304\t0.9885\t0.993\t0.9576\t0.9853000044822693\t0.5328999757766724\t0.0017000000225380063\t0.0003000000142492354\t21432\n",
      "\n",
      "\u001b[1mDonor:\u001b[0m\n",
      "0.9733\t0.9326\t0.9912\t0.9949\t0.957\t0.9847000241279602\t0.5087000131607056\t0.0012000000569969416\t0.00019999999494757503\t21432\n",
      "epoch: 10/10, val loss = 0.000178\n"
     ]
    },
    {
     "data": {
      "image/png": "[encoded data removed]",
      "text/plain": [
       "<Figure size 432x288 with 1 Axes>"
      ]
     },
     "metadata": {
      "needs_background": "light"
     },
     "output_type": "display_data"
    },
    {
     "name": "stderr",
     "output_type": "stream",
     "text": [
      "Epoch (train) 1/10: 100%|█████████████████████████████████████████████████████████████████████████████████████████████████████████████████████████████████| 202/202 [36:32<00:00, 10.86s/it, accepor_recall=0.871, donor_recall=0.889, loss=0.000251, pred_l1_dist=0]\n"
     ]
    },
    {
     "name": "stdout",
     "output_type": "stream",
     "text": [
      "epoch: 1/10, train loss = 0.007879\n"
     ]
    },
    {
     "name": "stderr",
     "output_type": "stream",
     "text": [
      "Epoch (val) 1/10: 100%|██████████████████████████████████████████████████████████████████████████████████████████████████████████████████████████████████████| 23/23 [05:34<00:00, 14.55s/it, accepor_recall=0.414, donor_recall=0.58, loss=0.000829, pred_l1_dist=0]\n"
     ]
    },
    {
     "name": "stdout",
     "output_type": "stream",
     "text": [
      "\n",
      "\u001b[1mAcceptor:\u001b[0m\n",
      "0.948\t0.7866\t0.9232\t0.9614\t0.8435\t0.3815000057220459\t0.027899999171495438\t0.0019000000320374966\t0.0003000000142492354\t21432\n",
      "\n",
      "\u001b[1mDonor:\u001b[0m\n",
      "0.9493\t0.7954\t0.934\t0.9701\t0.8577\t0.652899980545044\t0.0714000016450882\t0.004699999932199717\t0.0007999999797903001\t21432\n",
      "epoch: 1/10, val loss = 0.000676\n"
     ]
    },
    {
     "name": "stderr",
     "output_type": "stream",
     "text": [
      "Epoch (train) 2/10: 100%|█████████████████████████████████████████████████████████████████████████████████████████████████████████████████████████████████| 202/202 [36:38<00:00, 10.88s/it, accepor_recall=0.907, donor_recall=0.915, loss=0.000173, pred_l1_dist=0]\n"
     ]
    },
    {
     "name": "stdout",
     "output_type": "stream",
     "text": [
      "epoch: 2/10, train loss = 0.000195\n"
     ]
    },
    {
     "name": "stderr",
     "output_type": "stream",
     "text": [
      "Epoch (val) 2/10: 100%|███████████████████████████████████████████████████████████████████████████████████████████████████████████████████████████████████████| 23/23 [05:35<00:00, 14.57s/it, accepor_recall=0.92, donor_recall=0.917, loss=0.00037, pred_l1_dist=0]\n"
     ]
    },
    {
     "name": "stdout",
     "output_type": "stream",
     "text": [
      "\n",
      "\u001b[1mAcceptor:\u001b[0m\n",
      "0.9677\t0.8824\t0.9771\t0.9897\t0.9276\t0.982699990272522\t0.8039000034332275\t0.0471000000834465\t0.006000000052154064\t21432\n",
      "\n",
      "\u001b[1mDonor:\u001b[0m\n",
      "0.97\t0.8848\t0.9813\t0.993\t0.9333\t0.9657999873161316\t0.7229999899864197\t0.05209999904036522\t0.006599999964237213\t21432\n",
      "epoch: 2/10, val loss = 0.000304\n"
     ]
    },
    {
     "name": "stderr",
     "output_type": "stream",
     "text": [
      "Epoch (train) 3/10: 100%|█████████████████████████████████████████████████████████████████████████████████████████████████████████████████████████████████| 202/202 [36:40<00:00, 10.89s/it, accepor_recall=0.919, donor_recall=0.922, loss=0.000158, pred_l1_dist=0]\n"
     ]
    },
    {
     "name": "stdout",
     "output_type": "stream",
     "text": [
      "epoch: 3/10, train loss = 0.000165\n"
     ]
    },
    {
     "name": "stderr",
     "output_type": "stream",
     "text": [
      "Epoch (val) 3/10: 100%|██████████████████████████████████████████████████████████████████████████████████████████████████████████████████████████████████████| 23/23 [06:28<00:00, 16.91s/it, accepor_recall=0.894, donor_recall=0.895, loss=0.00029, pred_l1_dist=0]\n"
     ]
    },
    {
     "name": "stdout",
     "output_type": "stream",
     "text": [
      "\n",
      "\u001b[1mAcceptor:\u001b[0m\n",
      "0.9709\t0.8997\t0.9808\t0.9899\t0.9396\t0.9513999819755554\t0.5450000166893005\t0.015200000256299973\t0.002400000113993883\t21432\n",
      "\n",
      "\u001b[1mDonor:\u001b[0m\n",
      "0.9732\t0.9006\t0.9876\t0.9946\t0.9453\t0.9624000191688538\t0.5181000232696533\t0.007499999832361937\t0.0010000000474974513\t21432\n",
      "epoch: 3/10, val loss = 0.000224\n"
     ]
    },
    {
     "name": "stderr",
     "output_type": "stream",
     "text": [
      "Epoch (train) 4/10: 100%|██████████████████████████████████████████████████████████████████████████████████████████████████████████████████████████████████| 202/202 [36:39<00:00, 10.89s/it, accepor_recall=0.929, donor_recall=0.94, loss=0.000125, pred_l1_dist=0]\n"
     ]
    },
    {
     "name": "stdout",
     "output_type": "stream",
     "text": [
      "epoch: 4/10, train loss = 0.000147\n"
     ]
    },
    {
     "name": "stderr",
     "output_type": "stream",
     "text": [
      "Epoch (val) 4/10: 100%|██████████████████████████████████████████████████████████████████████████████████████████████████████████████████████████████████████| 23/23 [05:41<00:00, 14.86s/it, accepor_recall=0.883, donor_recall=0.91, loss=0.000263, pred_l1_dist=0]\n"
     ]
    },
    {
     "name": "stdout",
     "output_type": "stream",
     "text": [
      "\n",
      "\u001b[1mAcceptor:\u001b[0m\n",
      "0.977\t0.9153\t0.9856\t0.9918\t0.9505\t0.96670001745224\t0.3476000130176544\t0.005799999926239252\t0.0012000000569969416\t21432\n",
      "\n",
      "\u001b[1mDonor:\u001b[0m\n",
      "0.9738\t0.9162\t0.9911\t0.9956\t0.9533\t0.9527000188827515\t0.45910000801086426\t0.003800000064074993\t0.0005000000237487257\t21432\n",
      "epoch: 4/10, val loss = 0.000198\n"
     ]
    },
    {
     "name": "stderr",
     "output_type": "stream",
     "text": [
      "Epoch (train) 5/10: 100%|█████████████████████████████████████████████████████████████████████████████████████████████████████████████████████████████████| 202/202 [36:28<00:00, 10.83s/it, accepor_recall=0.935, donor_recall=0.942, loss=0.000136, pred_l1_dist=0]\n"
     ]
    },
    {
     "name": "stdout",
     "output_type": "stream",
     "text": [
      "epoch: 5/10, train loss = 0.000134\n"
     ]
    },
    {
     "name": "stderr",
     "output_type": "stream",
     "text": [
      "Epoch (val) 5/10: 100%|██████████████████████████████████████████████████████████████████████████████████████████████████████████████████████████████████████| 23/23 [05:32<00:00, 14.44s/it, accepor_recall=0.872, donor_recall=0.888, loss=0.00026, pred_l1_dist=0]\n"
     ]
    },
    {
     "name": "stdout",
     "output_type": "stream",
     "text": [
      "\n",
      "\u001b[1mAcceptor:\u001b[0m\n",
      "0.9755\t0.9214\t0.9872\t0.9926\t0.9525\t0.9438999891281128\t0.2563000023365021\t0.002899999963119626\t0.0006000000284984708\t21432\n",
      "\n",
      "\u001b[1mDonor:\u001b[0m\n",
      "0.9762\t0.9211\t0.9912\t0.9951\t0.9556\t0.9449999928474426\t0.34290000796318054\t0.0026000000070780516\t0.00039999998989515007\t21432\n",
      "epoch: 5/10, val loss = 0.000199\n"
     ]
    },
    {
     "name": "stderr",
     "output_type": "stream",
     "text": [
      "Epoch (train) 6/10: 100%|█████████████████████████████████████████████████████████████████████████████████████████████████████████████████████████████████| 202/202 [36:13<00:00, 10.76s/it, accepor_recall=0.939, donor_recall=0.949, loss=0.000146, pred_l1_dist=0]\n"
     ]
    },
    {
     "name": "stdout",
     "output_type": "stream",
     "text": [
      "epoch: 6/10, train loss = 0.000124\n"
     ]
    },
    {
     "name": "stderr",
     "output_type": "stream",
     "text": [
      "Epoch (val) 6/10: 100%|█████████████████████████████████████████████████████████████████████████████████████████████████████████████████████████████████████| 23/23 [05:30<00:00, 14.36s/it, accepor_recall=0.832, donor_recall=0.862, loss=0.000289, pred_l1_dist=0]\n"
     ]
    },
    {
     "name": "stdout",
     "output_type": "stream",
     "text": [
      "\n",
      "\u001b[1mAcceptor:\u001b[0m\n",
      "0.9741\t0.9211\t0.9865\t0.9928\t0.9509\t0.9344000220298767\t0.15700000524520874\t0.0017999999690800905\t0.0003000000142492354\t21432\n",
      "\n",
      "\u001b[1mDonor:\u001b[0m\n",
      "0.9756\t0.9223\t0.9905\t0.995\t0.9553\t0.95169997215271\t0.19370000064373016\t0.0017999999690800905\t0.0003000000142492354\t21432\n",
      "epoch: 6/10, val loss = 0.000220\n"
     ]
    },
    {
     "name": "stderr",
     "output_type": "stream",
     "text": [
      "Epoch (train) 7/10: 100%|█████████████████████████████████████████████████████████████████████████████████████████████████████████████████████████████████| 202/202 [36:40<00:00, 10.90s/it, accepor_recall=0.946, donor_recall=0.949, loss=0.000134, pred_l1_dist=0]\n"
     ]
    },
    {
     "name": "stdout",
     "output_type": "stream",
     "text": [
      "epoch: 7/10, train loss = 0.000117\n"
     ]
    },
    {
     "name": "stderr",
     "output_type": "stream",
     "text": [
      "Epoch (val) 7/10: 100%|█████████████████████████████████████████████████████████████████████████████████████████████████████████████████████████████████████| 23/23 [06:08<00:00, 16.01s/it, accepor_recall=0.909, donor_recall=0.919, loss=0.000249, pred_l1_dist=0]\n"
     ]
    },
    {
     "name": "stdout",
     "output_type": "stream",
     "text": [
      "\n",
      "\u001b[1mAcceptor:\u001b[0m\n",
      "0.9721\t0.9221\t0.9868\t0.9926\t0.9506\t0.9690999984741211\t0.49129998683929443\t0.0031999999191612005\t0.0005000000237487257\t21432\n",
      "\n",
      "\u001b[1mDonor:\u001b[0m\n",
      "0.9732\t0.9247\t0.9907\t0.9957\t0.9551\t0.967199981212616\t0.541700005531311\t0.003000000026077032\t0.00039999998989515007\t21432\n",
      "epoch: 7/10, val loss = 0.000185\n"
     ]
    },
    {
     "name": "stderr",
     "output_type": "stream",
     "text": [
      "Epoch (train) 8/10: 100%|█████████████████████████████████████████████████████████████████████████████████████████████████████████████████████████████████| 202/202 [36:22<00:00, 10.81s/it, accepor_recall=0.952, donor_recall=0.957, loss=0.000107, pred_l1_dist=0]\n"
     ]
    },
    {
     "name": "stdout",
     "output_type": "stream",
     "text": [
      "epoch: 8/10, train loss = 0.000097\n"
     ]
    },
    {
     "name": "stderr",
     "output_type": "stream",
     "text": [
      "Epoch (val) 8/10: 100%|██████████████████████████████████████████████████████████████████████████████████████████████████████████████████████████████████████| 23/23 [05:27<00:00, 14.23s/it, accepor_recall=0.91, donor_recall=0.923, loss=0.000238, pred_l1_dist=0]\n"
     ]
    },
    {
     "name": "stdout",
     "output_type": "stream",
     "text": [
      "\n",
      "\u001b[1mAcceptor:\u001b[0m\n",
      "0.9742\t0.9268\t0.9882\t0.9934\t0.9546\t0.9725000262260437\t0.4575999975204468\t0.0031999999191612005\t0.000699999975040555\t21432\n",
      "\n",
      "\u001b[1mDonor:\u001b[0m\n",
      "0.9746\t0.9294\t0.9926\t0.996\t0.9583\t0.9803000092506409\t0.4860999882221222\t0.0019000000320374966\t0.0003000000142492354\t21432\n",
      "epoch: 8/10, val loss = 0.000177\n"
     ]
    },
    {
     "name": "stderr",
     "output_type": "stream",
     "text": [
      "Epoch (train) 9/10: 100%|██████████████████████████████████████████████████████████████████████████████████████████████████████████████████████████████████| 202/202 [36:13<00:00, 10.76s/it, accepor_recall=0.967, donor_recall=0.972, loss=7.33e-5, pred_l1_dist=0]\n"
     ]
    },
    {
     "name": "stdout",
     "output_type": "stream",
     "text": [
      "epoch: 9/10, train loss = 0.000082\n"
     ]
    },
    {
     "name": "stderr",
     "output_type": "stream",
     "text": [
      "Epoch (val) 9/10: 100%|█████████████████████████████████████████████████████████████████████████████████████████████████████████████████████████████████████| 23/23 [05:35<00:00, 14.59s/it, accepor_recall=0.918, donor_recall=0.925, loss=0.000245, pred_l1_dist=0]\n"
     ]
    },
    {
     "name": "stdout",
     "output_type": "stream",
     "text": [
      "\n",
      "\u001b[1mAcceptor:\u001b[0m\n",
      "0.976\t0.9284\t0.9883\t0.993\t0.9564\t0.9912999868392944\t0.5728999972343445\t0.0017999999690800905\t0.0003000000142492354\t21432\n",
      "\n",
      "\u001b[1mDonor:\u001b[0m\n",
      "0.9757\t0.932\t0.992\t0.9955\t0.9601\t0.9894000291824341\t0.48899999260902405\t0.001500000013038516\t0.00019999999494757503\t21432\n",
      "epoch: 9/10, val loss = 0.000183\n"
     ]
    },
    {
     "name": "stderr",
     "output_type": "stream",
     "text": [
      "Epoch (train) 10/10: 100%|██████████████████████████████████████████████████████████████████████████████████████████████████████████████████████████████████| 202/202 [36:16<00:00, 10.77s/it, accepor_recall=0.968, donor_recall=0.97, loss=7.61e-5, pred_l1_dist=0]\n"
     ]
    },
    {
     "name": "stdout",
     "output_type": "stream",
     "text": [
      "epoch: 10/10, train loss = 0.000074\n"
     ]
    },
    {
     "name": "stderr",
     "output_type": "stream",
     "text": [
      "Epoch (val) 10/10: 100%|█████████████████████████████████████████████████████████████████████████████████████████████████████████████████████████████████████| 23/23 [06:08<00:00, 16.04s/it, accepor_recall=0.91, donor_recall=0.915, loss=0.000241, pred_l1_dist=0]\n"
     ]
    },
    {
     "name": "stdout",
     "output_type": "stream",
     "text": [
      "\n",
      "\u001b[1mAcceptor:\u001b[0m\n",
      "0.9751\t0.9291\t0.9874\t0.9929\t0.9543\t0.9761000275611877\t0.43529999256134033\t0.00139999995008111\t0.0003000000142492354\t21432\n",
      "\n",
      "\u001b[1mDonor:\u001b[0m\n",
      "0.9753\t0.93\t0.9912\t0.9958\t0.9571\t0.9757999777793884\t0.4352000057697296\t0.00139999995008111\t0.00019999999494757503\t21432\n",
      "epoch: 10/10, val loss = 0.000181\n"
     ]
    },
    {
     "data": {
      "image/png": "[encoded data removed]",
      "text/plain": [
       "<Figure size 432x288 with 1 Axes>"
      ]
     },
     "metadata": {
      "needs_background": "light"
     },
     "output_type": "display_data"
    },
    {
     "name": "stderr",
     "output_type": "stream",
     "text": [
      "Epoch (train) 1/10: 100%|█████████████████████████████████████████████████████████████████████████████████████████████████████████████████████████████████| 202/202 [44:28<00:00, 13.21s/it, accepor_recall=0.871, donor_recall=0.868, loss=0.000207, pred_l1_dist=0]\n"
     ]
    },
    {
     "name": "stdout",
     "output_type": "stream",
     "text": [
      "epoch: 1/10, train loss = 0.007280\n"
     ]
    },
    {
     "name": "stderr",
     "output_type": "stream",
     "text": [
      "Epoch (val) 1/10: 100%|█████████████████████████████████████████████████████████████████████████████████████████████████████████████████████████████████████| 23/23 [05:48<00:00, 15.15s/it, accepor_recall=0.674, donor_recall=0.691, loss=0.000475, pred_l1_dist=0]\n"
     ]
    },
    {
     "name": "stdout",
     "output_type": "stream",
     "text": [
      "\n",
      "\u001b[1mAcceptor:\u001b[0m\n",
      "0.9651\t0.8613\t0.9693\t0.985\t0.9133\t0.8528000116348267\t0.14309999346733093\t0.0066999997943639755\t0.0012000000569969416\t21432\n",
      "\n",
      "\u001b[1mDonor:\u001b[0m\n",
      "0.9652\t0.8498\t0.9694\t0.9888\t0.9088\t0.8791999816894531\t0.17090000212192535\t0.005200000014156103\t0.0006000000284984708\t21432\n",
      "epoch: 1/10, val loss = 0.000361\n"
     ]
    },
    {
     "name": "stderr",
     "output_type": "stream",
     "text": [
      "Epoch (train) 2/10: 100%|█████████████████████████████████████████████████████████████████████████████████████████████████████████████████████████████████| 202/202 [44:17<00:00, 13.15s/it, accepor_recall=0.898, donor_recall=0.907, loss=0.000172, pred_l1_dist=0]\n"
     ]
    },
    {
     "name": "stdout",
     "output_type": "stream",
     "text": [
      "epoch: 2/10, train loss = 0.000198\n"
     ]
    },
    {
     "name": "stderr",
     "output_type": "stream",
     "text": [
      "Epoch (val) 2/10: 100%|███████████████████████████████████████████████████████████████████████████████████████████████████████████████████████████████████████| 23/23 [06:35<00:00, 17.21s/it, accepor_recall=0.951, donor_recall=0.951, loss=0.0004, pred_l1_dist=0]\n"
     ]
    },
    {
     "name": "stdout",
     "output_type": "stream",
     "text": [
      "\n",
      "\u001b[1mAcceptor:\u001b[0m\n",
      "0.9649\t0.8944\t0.9806\t0.9911\t0.933\t0.984499990940094\t0.8730999827384949\t0.0892999991774559\t0.010200000368058681\t21432\n",
      "\n",
      "\u001b[1mDonor:\u001b[0m\n",
      "0.9675\t0.9022\t0.9865\t0.9937\t0.9409\t0.979200005531311\t0.8241999745368958\t0.05570000037550926\t0.006599999964237213\t21432\n",
      "epoch: 2/10, val loss = 0.000328\n"
     ]
    },
    {
     "name": "stderr",
     "output_type": "stream",
     "text": [
      "Epoch (train) 3/10: 100%|█████████████████████████████████████████████████████████████████████████████████████████████████████████████████████████████████| 202/202 [44:02<00:00, 13.08s/it, accepor_recall=0.914, donor_recall=0.922, loss=0.000187, pred_l1_dist=0]\n"
     ]
    },
    {
     "name": "stdout",
     "output_type": "stream",
     "text": [
      "epoch: 3/10, train loss = 0.000169\n"
     ]
    },
    {
     "name": "stderr",
     "output_type": "stream",
     "text": [
      "Epoch (val) 3/10: 100%|█████████████████████████████████████████████████████████████████████████████████████████████████████████████████████████████████████| 23/23 [06:26<00:00, 16.82s/it, accepor_recall=0.916, donor_recall=0.947, loss=0.000335, pred_l1_dist=0]\n"
     ]
    },
    {
     "name": "stdout",
     "output_type": "stream",
     "text": [
      "\n",
      "\u001b[1mAcceptor:\u001b[0m\n",
      "0.9716\t0.8949\t0.9799\t0.9917\t0.9371\t0.9836000204086304\t0.7332000136375427\t0.019099999219179153\t0.0024999999441206455\t21432\n",
      "\n",
      "\u001b[1mDonor:\u001b[0m\n",
      "0.9748\t0.9031\t0.9864\t0.9946\t0.9451\t0.996399998664856\t0.8950999975204468\t0.023399999365210533\t0.002300000051036477\t21432\n",
      "epoch: 3/10, val loss = 0.000279\n"
     ]
    },
    {
     "name": "stderr",
     "output_type": "stream",
     "text": [
      "Epoch (train) 4/10: 100%|█████████████████████████████████████████████████████████████████████████████████████████████████████████████████████████████████| 202/202 [44:28<00:00, 13.21s/it, accepor_recall=0.926, donor_recall=0.929, loss=0.000138, pred_l1_dist=0]\n"
     ]
    },
    {
     "name": "stdout",
     "output_type": "stream",
     "text": [
      "epoch: 4/10, train loss = 0.000148\n"
     ]
    },
    {
     "name": "stderr",
     "output_type": "stream",
     "text": [
      "Epoch (val) 4/10: 100%|██████████████████████████████████████████████████████████████████████████████████████████████████████████████████████████████████████| 23/23 [05:47<00:00, 15.10s/it, accepor_recall=0.937, donor_recall=0.95, loss=0.000279, pred_l1_dist=0]\n"
     ]
    },
    {
     "name": "stdout",
     "output_type": "stream",
     "text": [
      "\n",
      "\u001b[1mAcceptor:\u001b[0m\n",
      "0.9742\t0.9194\t0.9872\t0.9934\t0.9507\t0.9896000027656555\t0.7631999850273132\t0.008299999870359898\t0.0010000000474974513\t21432\n",
      "\n",
      "\u001b[1mDonor:\u001b[0m\n",
      "0.9739\t0.9223\t0.9901\t0.9955\t0.954\t0.9901000261306763\t0.774399995803833\t0.007799999788403511\t0.0008999999845400453\t21432\n",
      "epoch: 4/10, val loss = 0.000211\n"
     ]
    },
    {
     "name": "stderr",
     "output_type": "stream",
     "text": [
      "Epoch (train) 5/10: 100%|█████████████████████████████████████████████████████████████████████████████████████████████████████████████████████████████████| 202/202 [44:22<00:00, 13.18s/it, accepor_recall=0.938, donor_recall=0.944, loss=0.000138, pred_l1_dist=0]\n"
     ]
    },
    {
     "name": "stdout",
     "output_type": "stream",
     "text": [
      "epoch: 5/10, train loss = 0.000136\n"
     ]
    },
    {
     "name": "stderr",
     "output_type": "stream",
     "text": [
      "Epoch (val) 5/10: 100%|█████████████████████████████████████████████████████████████████████████████████████████████████████████████████████████████████████| 23/23 [06:09<00:00, 16.06s/it, accepor_recall=0.925, donor_recall=0.931, loss=0.000255, pred_l1_dist=0]\n"
     ]
    },
    {
     "name": "stdout",
     "output_type": "stream",
     "text": [
      "\n",
      "\u001b[1mAcceptor:\u001b[0m\n",
      "0.9741\t0.9211\t0.9884\t0.9932\t0.952\t0.980400025844574\t0.6676999926567078\t0.005799999926239252\t0.000699999975040555\t21432\n",
      "\n",
      "\u001b[1mDonor:\u001b[0m\n",
      "0.9756\t0.9233\t0.9906\t0.9954\t0.9552\t0.9817000031471252\t0.6159999966621399\t0.004600000102072954\t0.00039999998989515007\t21432\n",
      "epoch: 5/10, val loss = 0.000191\n"
     ]
    },
    {
     "name": "stderr",
     "output_type": "stream",
     "text": [
      "Epoch (train) 6/10: 100%|█████████████████████████████████████████████████████████████████████████████████████████████████████████████████████████████████| 202/202 [44:08<00:00, 13.11s/it, accepor_recall=0.936, donor_recall=0.938, loss=0.000129, pred_l1_dist=0]\n"
     ]
    },
    {
     "name": "stdout",
     "output_type": "stream",
     "text": [
      "epoch: 6/10, train loss = 0.000126\n"
     ]
    },
    {
     "name": "stderr",
     "output_type": "stream",
     "text": [
      "Epoch (val) 6/10: 100%|█████████████████████████████████████████████████████████████████████████████████████████████████████████████████████████████████████| 23/23 [05:51<00:00, 15.30s/it, accepor_recall=0.924, donor_recall=0.941, loss=0.000265, pred_l1_dist=0]\n"
     ]
    },
    {
     "name": "stdout",
     "output_type": "stream",
     "text": [
      "\n",
      "\u001b[1mAcceptor:\u001b[0m\n",
      "0.9749\t0.919\t0.9866\t0.9932\t0.9516\t0.986299991607666\t0.6898000240325928\t0.00839999970048666\t0.0012000000569969416\t21432\n",
      "\n",
      "\u001b[1mDonor:\u001b[0m\n",
      "0.9744\t0.9242\t0.9904\t0.9956\t0.9568\t0.9876999855041504\t0.7081999778747559\t0.006399999838322401\t0.000699999975040555\t21432\n",
      "epoch: 6/10, val loss = 0.000196\n"
     ]
    },
    {
     "name": "stderr",
     "output_type": "stream",
     "text": [
      "Epoch (train) 7/10: 100%|██████████████████████████████████████████████████████████████████████████████████████████████████████████████████████████████████| 202/202 [44:19<00:00, 13.17s/it, accepor_recall=0.94, donor_recall=0.947, loss=0.000124, pred_l1_dist=0]\n"
     ]
    },
    {
     "name": "stdout",
     "output_type": "stream",
     "text": [
      "epoch: 7/10, train loss = 0.000118\n"
     ]
    },
    {
     "name": "stderr",
     "output_type": "stream",
     "text": [
      "Epoch (val) 7/10: 100%|█████████████████████████████████████████████████████████████████████████████████████████████████████████████████████████████████████| 23/23 [06:58<00:00, 18.20s/it, accepor_recall=0.904, donor_recall=0.906, loss=0.000261, pred_l1_dist=0]\n"
     ]
    },
    {
     "name": "stdout",
     "output_type": "stream",
     "text": [
      "\n",
      "\u001b[1mAcceptor:\u001b[0m\n",
      "0.9753\t0.9119\t0.9869\t0.9926\t0.9504\t0.9682999849319458\t0.5065000057220459\t0.007699999958276749\t0.00139999995008111\t21432\n",
      "\n",
      "\u001b[1mDonor:\u001b[0m\n",
      "0.9792\t0.914\t0.9876\t0.9944\t0.9531\t0.958299994468689\t0.4268999993801117\t0.004000000189989805\t0.0007999999797903001\t21432\n",
      "epoch: 7/10, val loss = 0.000200\n"
     ]
    },
    {
     "name": "stderr",
     "output_type": "stream",
     "text": [
      "Epoch (train) 8/10: 100%|██████████████████████████████████████████████████████████████████████████████████████████████████████████████████████████████████| 202/202 [44:29<00:00, 13.21s/it, accepor_recall=0.959, donor_recall=0.957, loss=9.47e-5, pred_l1_dist=0]\n"
     ]
    },
    {
     "name": "stdout",
     "output_type": "stream",
     "text": [
      "epoch: 8/10, train loss = 0.000097\n"
     ]
    },
    {
     "name": "stderr",
     "output_type": "stream",
     "text": [
      "Epoch (val) 8/10: 100%|██████████████████████████████████████████████████████████████████████████████████████████████████████████████████████████████████████| 23/23 [05:59<00:00, 15.63s/it, accepor_recall=0.88, donor_recall=0.874, loss=0.000255, pred_l1_dist=0]\n"
     ]
    },
    {
     "name": "stdout",
     "output_type": "stream",
     "text": [
      "\n",
      "\u001b[1mAcceptor:\u001b[0m\n",
      "0.9775\t0.9219\t0.9874\t0.9929\t0.9558\t0.9362999796867371\t0.32190001010894775\t0.00419999985024333\t0.0007999999797903001\t21432\n",
      "\n",
      "\u001b[1mDonor:\u001b[0m\n",
      "0.9791\t0.9227\t0.9902\t0.9946\t0.9579\t0.9484000205993652\t0.23659999668598175\t0.0034000000450760126\t0.000699999975040555\t21432\n",
      "epoch: 8/10, val loss = 0.000193\n"
     ]
    },
    {
     "name": "stderr",
     "output_type": "stream",
     "text": [
      "Epoch (train) 9/10: 100%|██████████████████████████████████████████████████████████████████████████████████████████████████████████████████████████████████| 202/202 [44:20<00:00, 13.17s/it, accepor_recall=0.963, donor_recall=0.967, loss=8.84e-5, pred_l1_dist=0]\n"
     ]
    },
    {
     "name": "stdout",
     "output_type": "stream",
     "text": [
      "epoch: 9/10, train loss = 0.000084\n"
     ]
    },
    {
     "name": "stderr",
     "output_type": "stream",
     "text": [
      "Epoch (val) 9/10: 100%|█████████████████████████████████████████████████████████████████████████████████████████████████████████████████████████████████████| 23/23 [06:17<00:00, 16.40s/it, accepor_recall=0.917, donor_recall=0.927, loss=0.000229, pred_l1_dist=0]\n"
     ]
    },
    {
     "name": "stdout",
     "output_type": "stream",
     "text": [
      "\n",
      "\u001b[1mAcceptor:\u001b[0m\n",
      "0.9727\t0.9297\t0.9888\t0.994\t0.9541\t0.9623000025749207\t0.4848000109195709\t0.0019000000320374966\t0.00039999998989515007\t21432\n",
      "\n",
      "\u001b[1mDonor:\u001b[0m\n",
      "0.9744\t0.9303\t0.9917\t0.996\t0.9575\t0.9598000049591064\t0.48080000281333923\t0.0020000000949949026\t0.0003000000142492354\t21432\n",
      "epoch: 9/10, val loss = 0.000174\n"
     ]
    },
    {
     "name": "stderr",
     "output_type": "stream",
     "text": [
      "Epoch (train) 10/10: 100%|█████████████████████████████████████████████████████████████████████████████████████████████████████████████████████████████████| 202/202 [44:23<00:00, 13.19s/it, accepor_recall=0.962, donor_recall=0.967, loss=7.63e-5, pred_l1_dist=0]\n"
     ]
    },
    {
     "name": "stdout",
     "output_type": "stream",
     "text": [
      "epoch: 10/10, train loss = 0.000075\n"
     ]
    },
    {
     "name": "stderr",
     "output_type": "stream",
     "text": [
      "Epoch (val) 10/10: 100%|████████████████████████████████████████████████████████████████████████████████████████████████████████████████████████████████████| 23/23 [06:10<00:00, 16.10s/it, accepor_recall=0.926, donor_recall=0.935, loss=0.000232, pred_l1_dist=0]\n"
     ]
    },
    {
     "name": "stdout",
     "output_type": "stream",
     "text": [
      "\n",
      "\u001b[1mAcceptor:\u001b[0m\n",
      "0.9766\t0.9299\t0.9884\t0.9939\t0.9561\t0.9853000044822693\t0.6062999963760376\t0.002099999925121665\t0.00039999998989515007\t21432\n",
      "\n",
      "\u001b[1mDonor:\u001b[0m\n",
      "0.9754\t0.9326\t0.9916\t0.9962\t0.9596\t0.9858999848365784\t0.6222000122070312\t0.0017000000225380063\t0.00019999999494757503\t21432\n",
      "epoch: 10/10, val loss = 0.000175\n"
     ]
    },
    {
     "data": {
      "image/png": "[encoded data removed]",
      "text/plain": [
       "<Figure size 432x288 with 1 Axes>"
      ]
     },
     "metadata": {
      "needs_background": "light"
     },
     "output_type": "display_data"
    },
    {
     "name": "stderr",
     "output_type": "stream",
     "text": [
      "Epoch (train) 1/10: 100%|███████████████████████████████████████████████████████████████████████████████████████████████████████████████████████████████████| 202/202 [54:07<00:00, 16.08s/it, accepor_recall=0.875, donor_recall=0.89, loss=0.00019, pred_l1_dist=0]\n"
     ]
    },
    {
     "name": "stdout",
     "output_type": "stream",
     "text": [
      "epoch: 1/10, train loss = 0.008388\n"
     ]
    },
    {
     "name": "stderr",
     "output_type": "stream",
     "text": [
      "Epoch (val) 1/10: 100%|█████████████████████████████████████████████████████████████████████████████████████████████████████████████████████████████████████| 23/23 [06:08<00:00, 16.01s/it, accepor_recall=0.874, donor_recall=0.891, loss=0.000412, pred_l1_dist=0]\n"
     ]
    },
    {
     "name": "stdout",
     "output_type": "stream",
     "text": [
      "\n",
      "\u001b[1mAcceptor:\u001b[0m\n",
      "0.9666\t0.856\t0.9674\t0.985\t0.9107\t0.9657999873161316\t0.6635000109672546\t0.04859999939799309\t0.007199999876320362\t21432\n",
      "\n",
      "\u001b[1mDonor:\u001b[0m\n",
      "0.9678\t0.8657\t0.9729\t0.9892\t0.9177\t0.9758999943733215\t0.6801000237464905\t0.04149999842047691\t0.0044999998062849045\t21432\n",
      "epoch: 1/10, val loss = 0.000328\n"
     ]
    },
    {
     "name": "stderr",
     "output_type": "stream",
     "text": [
      "Epoch (train) 2/10: 100%|███████████████████████████████████████████████████████████████████████████████████████████████████████████████████████████████████| 202/202 [53:41<00:00, 15.95s/it, accepor_recall=0.892, donor_recall=0.9, loss=0.000188, pred_l1_dist=0]\n"
     ]
    },
    {
     "name": "stdout",
     "output_type": "stream",
     "text": [
      "epoch: 2/10, train loss = 0.000197\n"
     ]
    },
    {
     "name": "stderr",
     "output_type": "stream",
     "text": [
      "Epoch (val) 2/10: 100%|█████████████████████████████████████████████████████████████████████████████████████████████████████████████████████████████████████| 23/23 [06:14<00:00, 16.29s/it, accepor_recall=0.941, donor_recall=0.945, loss=0.000735, pred_l1_dist=0]\n"
     ]
    },
    {
     "name": "stdout",
     "output_type": "stream",
     "text": [
      "\n",
      "\u001b[1mAcceptor:\u001b[0m\n",
      "0.9016\t0.7947\t0.9593\t0.9837\t0.8409\t0.9681000113487244\t0.911899983882904\t0.3327000141143799\t0.037300001829862595\t21432\n",
      "\n",
      "\u001b[1mDonor:\u001b[0m\n",
      "0.9271\t0.7915\t0.9578\t0.9865\t0.8562\t0.9825999736785889\t0.932200014591217\t0.36980000138282776\t0.03999999910593033\t21432\n",
      "epoch: 2/10, val loss = 0.000750\n"
     ]
    },
    {
     "name": "stderr",
     "output_type": "stream",
     "text": [
      "Epoch (train) 3/10: 100%|██████████████████████████████████████████████████████████████████████████████████████████████████████████████████████████████████| 202/202 [53:30<00:00, 15.89s/it, accepor_recall=0.92, donor_recall=0.928, loss=0.000167, pred_l1_dist=0]\n"
     ]
    },
    {
     "name": "stdout",
     "output_type": "stream",
     "text": [
      "epoch: 3/10, train loss = 0.000168\n"
     ]
    },
    {
     "name": "stderr",
     "output_type": "stream",
     "text": [
      "Epoch (val) 3/10: 100%|█████████████████████████████████████████████████████████████████████████████████████████████████████████████████████████████████████| 23/23 [06:13<00:00, 16.23s/it, accepor_recall=0.874, donor_recall=0.877, loss=0.000298, pred_l1_dist=0]\n"
     ]
    },
    {
     "name": "stdout",
     "output_type": "stream",
     "text": [
      "\n",
      "\u001b[1mAcceptor:\u001b[0m\n",
      "0.9739\t0.9011\t0.9839\t0.9922\t0.9428\t0.9794999957084656\t0.4262999892234802\t0.0038999998942017555\t0.00039999998989515007\t21432\n",
      "\n",
      "\u001b[1mDonor:\u001b[0m\n",
      "0.974\t0.9096\t0.9885\t0.994\t0.9492\t0.9763000011444092\t0.37450000643730164\t0.0031999999191612005\t0.00039999998989515007\t21432\n",
      "epoch: 3/10, val loss = 0.000219\n"
     ]
    },
    {
     "name": "stderr",
     "output_type": "stream",
     "text": [
      "Epoch (train) 4/10: 100%|██████████████████████████████████████████████████████████████████████████████████████████████████████████████████████████████████| 202/202 [53:43<00:00, 15.96s/it, accepor_recall=0.933, donor_recall=0.94, loss=0.000139, pred_l1_dist=0]\n"
     ]
    },
    {
     "name": "stdout",
     "output_type": "stream",
     "text": [
      "epoch: 4/10, train loss = 0.000148\n"
     ]
    },
    {
     "name": "stderr",
     "output_type": "stream",
     "text": [
      "Epoch (val) 4/10: 100%|█████████████████████████████████████████████████████████████████████████████████████████████████████████████████████████████████████| 23/23 [06:18<00:00, 16.47s/it, accepor_recall=0.839, donor_recall=0.823, loss=0.000323, pred_l1_dist=0]\n"
     ]
    },
    {
     "name": "stdout",
     "output_type": "stream",
     "text": [
      "\n",
      "\u001b[1mAcceptor:\u001b[0m\n",
      "0.9726\t0.9037\t0.978\t0.9874\t0.941\t0.9484999775886536\t0.1996999979019165\t0.0020000000949949026\t0.00039999998989515007\t21432\n",
      "\n",
      "\u001b[1mDonor:\u001b[0m\n",
      "0.9748\t0.9018\t0.9867\t0.9939\t0.9461\t0.9444000124931335\t0.16110000014305115\t0.00139999995008111\t0.00019999999494757503\t21432\n",
      "epoch: 4/10, val loss = 0.000256\n"
     ]
    },
    {
     "name": "stderr",
     "output_type": "stream",
     "text": [
      "Epoch (train) 5/10: 100%|█████████████████████████████████████████████████████████████████████████████████████████████████████████████████████████████████| 202/202 [53:56<00:00, 16.02s/it, accepor_recall=0.939, donor_recall=0.941, loss=0.000118, pred_l1_dist=0]\n"
     ]
    },
    {
     "name": "stdout",
     "output_type": "stream",
     "text": [
      "epoch: 5/10, train loss = 0.000135\n"
     ]
    },
    {
     "name": "stderr",
     "output_type": "stream",
     "text": [
      "Epoch (val) 5/10: 100%|██████████████████████████████████████████████████████████████████████████████████████████████████████████████████████████████████████| 23/23 [06:08<00:00, 16.02s/it, accepor_recall=0.928, donor_recall=0.926, loss=0.00025, pred_l1_dist=0]\n"
     ]
    },
    {
     "name": "stdout",
     "output_type": "stream",
     "text": [
      "\n",
      "\u001b[1mAcceptor:\u001b[0m\n",
      "0.9774\t0.9218\t0.9868\t0.9932\t0.9546\t0.98580002784729\t0.677299976348877\t0.0066999997943639755\t0.0010000000474974513\t21432\n",
      "\n",
      "\u001b[1mDonor:\u001b[0m\n",
      "0.9742\t0.9234\t0.9907\t0.9956\t0.9547\t0.9822999835014343\t0.5633999705314636\t0.0034000000450760126\t0.00039999998989515007\t21432\n",
      "epoch: 5/10, val loss = 0.000190\n"
     ]
    },
    {
     "name": "stderr",
     "output_type": "stream",
     "text": [
      "Epoch (train) 6/10: 100%|█████████████████████████████████████████████████████████████████████████████████████████████████████████████████████████████████| 202/202 [54:00<00:00, 16.04s/it, accepor_recall=0.945, donor_recall=0.947, loss=0.000117, pred_l1_dist=0]\n"
     ]
    },
    {
     "name": "stdout",
     "output_type": "stream",
     "text": [
      "epoch: 6/10, train loss = 0.000126\n"
     ]
    },
    {
     "name": "stderr",
     "output_type": "stream",
     "text": [
      "Epoch (val) 6/10: 100%|█████████████████████████████████████████████████████████████████████████████████████████████████████████████████████████████████████| 23/23 [06:27<00:00, 16.83s/it, accepor_recall=0.917, donor_recall=0.929, loss=0.000245, pred_l1_dist=0]\n"
     ]
    },
    {
     "name": "stdout",
     "output_type": "stream",
     "text": [
      "\n",
      "\u001b[1mAcceptor:\u001b[0m\n",
      "0.9781\t0.9206\t0.9874\t0.9929\t0.9553\t0.9869999885559082\t0.6299999952316284\t0.003599999938160181\t0.0005000000237487257\t21432\n",
      "\n",
      "\u001b[1mDonor:\u001b[0m\n",
      "0.9741\t0.9243\t0.9907\t0.9961\t0.9567\t0.9760000109672546\t0.5958999991416931\t0.004000000189989805\t0.0005000000237487257\t21432\n",
      "epoch: 6/10, val loss = 0.000186\n"
     ]
    },
    {
     "name": "stderr",
     "output_type": "stream",
     "text": [
      "Epoch (train) 7/10: 100%|██████████████████████████████████████████████████████████████████████████████████████████████████████████████████████████████████| 202/202 [53:40<00:00, 15.94s/it, accepor_recall=0.94, donor_recall=0.942, loss=0.000115, pred_l1_dist=0]\n"
     ]
    },
    {
     "name": "stdout",
     "output_type": "stream",
     "text": [
      "epoch: 7/10, train loss = 0.000119\n"
     ]
    },
    {
     "name": "stderr",
     "output_type": "stream",
     "text": [
      "Epoch (val) 7/10: 100%|█████████████████████████████████████████████████████████████████████████████████████████████████████████████████████████████████████| 23/23 [06:23<00:00, 16.65s/it, accepor_recall=0.909, donor_recall=0.915, loss=0.000249, pred_l1_dist=0]\n"
     ]
    },
    {
     "name": "stdout",
     "output_type": "stream",
     "text": [
      "\n",
      "\u001b[1mAcceptor:\u001b[0m\n",
      "0.9765\t0.9212\t0.9864\t0.9927\t0.9538\t0.9833999872207642\t0.4916999936103821\t0.0035000001080334187\t0.0006000000284984708\t21432\n",
      "\n",
      "\u001b[1mDonor:\u001b[0m\n",
      "0.9769\t0.9229\t0.9916\t0.9961\t0.9572\t0.9807000160217285\t0.46239998936653137\t0.0034000000450760126\t0.00039999998989515007\t21432\n",
      "epoch: 7/10, val loss = 0.000188\n"
     ]
    },
    {
     "name": "stderr",
     "output_type": "stream",
     "text": [
      "Epoch (train) 8/10: 100%|██████████████████████████████████████████████████████████████████████████████████████████████████████████████████████████████████| 202/202 [53:50<00:00, 15.99s/it, accepor_recall=0.957, donor_recall=0.965, loss=9.34e-5, pred_l1_dist=0]\n"
     ]
    },
    {
     "name": "stdout",
     "output_type": "stream",
     "text": [
      "epoch: 8/10, train loss = 0.000098\n"
     ]
    },
    {
     "name": "stderr",
     "output_type": "stream",
     "text": [
      "Epoch (val) 8/10: 100%|█████████████████████████████████████████████████████████████████████████████████████████████████████████████████████████████████████| 23/23 [06:07<00:00, 15.99s/it, accepor_recall=0.887, donor_recall=0.891, loss=0.000262, pred_l1_dist=0]\n"
     ]
    },
    {
     "name": "stdout",
     "output_type": "stream",
     "text": [
      "\n",
      "\u001b[1mAcceptor:\u001b[0m\n",
      "0.9779\t0.9257\t0.9867\t0.9931\t0.9566\t0.9779999852180481\t0.29260000586509705\t0.0013000000035390258\t0.00019999999494757503\t21432\n",
      "\n",
      "\u001b[1mDonor:\u001b[0m\n",
      "0.9791\t0.9287\t0.9906\t0.9957\t0.9611\t0.972599983215332\t0.2648000121116638\t0.000699999975040555\t9.999999747378752e-05\t21432\n",
      "epoch: 8/10, val loss = 0.000194\n"
     ]
    },
    {
     "name": "stderr",
     "output_type": "stream",
     "text": [
      "Epoch (train) 9/10: 100%|█████████████████████████████████████████████████████████████████████████████████████████████████████████████████████████████████| 202/202 [53:29<00:00, 15.89s/it, accepor_recall=0.965, donor_recall=0.967, loss=0.000101, pred_l1_dist=0]\n"
     ]
    },
    {
     "name": "stdout",
     "output_type": "stream",
     "text": [
      "epoch: 9/10, train loss = 0.000085\n"
     ]
    },
    {
     "name": "stderr",
     "output_type": "stream",
     "text": [
      "Epoch (val) 9/10: 100%|█████████████████████████████████████████████████████████████████████████████████████████████████████████████████████████████████████| 23/23 [06:19<00:00, 16.50s/it, accepor_recall=0.927, donor_recall=0.928, loss=0.000227, pred_l1_dist=0]\n"
     ]
    },
    {
     "name": "stdout",
     "output_type": "stream",
     "text": [
      "\n",
      "\u001b[1mAcceptor:\u001b[0m\n",
      "0.9772\t0.9304\t0.9891\t0.9932\t0.9581\t0.9821000099182129\t0.6014000177383423\t0.0026000000070780516\t0.0005000000237487257\t21432\n",
      "\n",
      "\u001b[1mDonor:\u001b[0m\n",
      "0.9742\t0.9325\t0.9922\t0.9964\t0.9612\t0.9786999821662903\t0.5774999856948853\t0.0017999999690800905\t0.00019999999494757503\t21432\n",
      "epoch: 9/10, val loss = 0.000169\n"
     ]
    },
    {
     "name": "stderr",
     "output_type": "stream",
     "text": [
      "Epoch (train) 10/10: 100%|█████████████████████████████████████████████████████████████████████████████████████████████████████████████████████████████████| 202/202 [53:28<00:00, 15.88s/it, accepor_recall=0.968, donor_recall=0.972, loss=8.46e-5, pred_l1_dist=0]\n"
     ]
    },
    {
     "name": "stdout",
     "output_type": "stream",
     "text": [
      "epoch: 10/10, train loss = 0.000075\n"
     ]
    },
    {
     "name": "stderr",
     "output_type": "stream",
     "text": [
      "Epoch (val) 10/10: 100%|████████████████████████████████████████████████████████████████████████████████████████████████████████████████████████████████████| 23/23 [06:20<00:00, 16.54s/it, accepor_recall=0.919, donor_recall=0.924, loss=0.000236, pred_l1_dist=0]\n"
     ]
    },
    {
     "name": "stdout",
     "output_type": "stream",
     "text": [
      "\n",
      "\u001b[1mAcceptor:\u001b[0m\n",
      "0.9774\t0.93\t0.9882\t0.9931\t0.9583\t0.9854000210762024\t0.5259000062942505\t0.002199999988079071\t0.00039999998989515007\t21432\n",
      "\n",
      "\u001b[1mDonor:\u001b[0m\n",
      "0.9783\t0.9325\t0.992\t0.9961\t0.9623\t0.9900000095367432\t0.5055000185966492\t0.00139999995008111\t0.00019999999494757503\t21432\n",
      "epoch: 10/10, val loss = 0.000176\n"
     ]
    },
    {
     "data": {
      "image/png": "[encoded data removed]",
      "text/plain": [
       "<Figure size 432x288 with 1 Axes>"
      ]
     },
     "metadata": {
      "needs_background": "light"
     },
     "output_type": "display_data"
    }
   ],
   "source": [
    "device = torch.device(\"cuda\" if torch.cuda.is_available() else \"cpu\")\n",
    "epochs = 10\n",
    "hs = []\n",
    "\n",
    "parameters = [10000,20000,40000,60000,80000]\n",
    "\n",
    "for model_nr in range(5):\n",
    "    train_dataset = spliceDataset(annotation_train,transcriptToLabel,SL,CL_max = parameters[model_nr])\n",
    "    val_dataset = spliceDataset(annotation_validation,transcriptToLabel,SL,CL_max = parameters[model_nr])\n",
    "    train_dataset.seqData = seqData\n",
    "    val_dataset.seqData = seqData\n",
    "\n",
    "    train_loader = torch.utils.data.DataLoader(train_dataset, batch_size=k*100, shuffle=True, num_workers=16,collate_fn=collate_fn, pin_memory=True)\n",
    "    val_loader = torch.utils.data.DataLoader(val_dataset, batch_size=k*100, shuffle=False,collate_fn=collate_fn, num_workers=16)\n",
    "    model_m = SpliceFormer(CL_max = parameters[model_nr],n_transformer_blocks = 2)\n",
    "    model_m.apply(keras_init)\n",
    "    model_m = model_m.to(device)\n",
    "    if torch.cuda.device_count() > 1:\n",
    "        #print(\"Let's use\", torch.cuda.device_count(), \"GPUs!\")\n",
    "        # dim = 0 [30, xxx] -> [10, ...], [10, ...], [10, ...] on 3 GPUs\n",
    "        model_m = nn.DataParallel(model_m)\n",
    "    \n",
    "    modelFileName = '../Results/PyTorch_Models/transformer_encoder_ablation_context_size_2_{}'.format(parameters[model_nr])\n",
    "    #model_m.load_state_dict(torch.load('../Results/PyTorch_Models/SpliceAI_Ensembl_dgxtest_{}'.format(0)))\n",
    "    #loss = nn.CrossEntropyLoss(weight=torch.from_numpy(weights).float().to(device),ignore_index=-1,reduction='mean')\n",
    "    loss = categorical_crossentropy_2d().loss\n",
    "    #loss = nn.KLDivLoss()\n",
    "    learning_rate= k*1e-3\n",
    "    optimizer = torch.optim.Adam(model_m.parameters(), lr=learning_rate)\n",
    "    scheduler = torch.optim.lr_scheduler.StepLR(optimizer, step_size=1, gamma=0.5)\n",
    "    warmup = get_constant_schedule_with_warmup(optimizer, num_warmup_steps=1000)\n",
    "    h = trainModel(model_m,modelFileName,loss,train_loader,val_loader,optimizer,scheduler,warmup,BATCH_SIZE,epochs,device)\n",
    "    hs.append(h)\n",
    "\n",
    "    plt.plot(range(epochs),h['loss'],label='Train')\n",
    "    plt.plot(range(epochs),h['val_loss'],label='Validation')\n",
    "    plt.xlabel('Epoch')\n",
    "    plt.ylabel('Loss')\n",
    "    plt.legend()\n",
    "    plt.show()"
   ]
  },
  {
   "cell_type": "code",
   "execution_count": 21,
   "metadata": {},
   "outputs": [
    {
     "data": {
      "image/png": "[encoded data removed]",
      "text/plain": [
       "<Figure size 720x288 with 2 Axes>"
      ]
     },
     "metadata": {
      "needs_background": "light"
     },
     "output_type": "display_data"
    }
   ],
   "source": [
    "fig, (ax1,ax2) = plt.subplots(1, 2,figsize=(10,4))\n",
    "x = [10000,20000,40000,60000,80000]\n",
    "y1 = [0.000182,0.000185,0.000179,0.000177,0.000180]\n",
    "ax1.plot(x,y1,'--')\n",
    "ax1.scatter(x,y1,label='Run 1')\n",
    "y2 = [0.000182,0.000178,0.000181,0.000175,0.000176]\n",
    "ax1.plot(x,y2,'--')\n",
    "ax1.scatter(x,y2,label='Run 2')\n",
    "ax1.set(xlabel = 'Context size',ylabel='Cross entropy',xticks=[10000,20000,30000,40000,50000,60000,70000,80000])\n",
    "\n",
    "prauc1 = [(0.9551+0.9586)/2,(0.9497+0.9557)/2,(0.9592+0.9614)/2,(0.9577+0.9607)/2,(0.9602+0.9633)/2]\n",
    "ax2.plot(x,prauc1,'--')\n",
    "ax2.scatter(x,prauc1,label='Run 1')\n",
    "prauc2 = [(0.9545+0.9595)/2,(0.9576+0.957)/2,(0.9543+0.9571)/2,(0.9561+0.9596)/2,(0.9583+0.9623)/2]\n",
    "ax2.plot(x,prauc2,'--')\n",
    "ax2.scatter(x,prauc2,label='Run 2')\n",
    "ax2.set(xlabel = 'Context size',ylabel='PR-AUC',xticks=[10000,20000,30000,40000,50000,60000,70000,80000])\n",
    "#ax2.ylabel('PR-AUC')\n",
    "#ax2.xlabel('No. transformer blocks')\n",
    "fig.tight_layout()\n",
    "\n",
    "ax1.legend()\n",
    "ax2.legend()\n",
    "plt.savefig('../Results/ablation_context_size.png',dpi=300)\n",
    "plt.show()"
   ]
  },
  {
   "cell_type": "code",
   "execution_count": 12,
   "metadata": {},
   "outputs": [
    {
     "name": "stderr",
     "output_type": "stream",
     "text": [
      "100%|███████████████████████████████████████████████████████████████████████████████████| 17/17 [06:36<00:00, 23.30s/it]\n"
     ]
    }
   ],
   "source": [
    "device = torch.device(\"cuda\" if torch.cuda.is_available() else \"cpu\")\n",
    "h5f = h5py.File('/odinn/tmp/benediktj/Data/SplicePrediction/gencode_40k_dataset_test_.h5')\n",
    "\n",
    "num_idx = len(h5f.keys())//2\n",
    "\n",
    "test_dataset = h5pyDataset(h5f,list(range(num_idx)))\n",
    "test_loader = torch.utils.data.DataLoader(test_dataset, batch_size=1, shuffle=False, num_workers=0)\n",
    "\n",
    "temp = 1\n",
    "n_models = 5\n",
    "device = torch.device(\"cuda\" if torch.cuda.is_available() else \"cpu\")\n",
    "model_m = SpliceFormer(CL_max)\n",
    "model_m.apply(keras_init)\n",
    "model_m = model_m.to(device)\n",
    "\n",
    "if torch.cuda.device_count() > 1:\n",
    "    model_m = nn.DataParallel(model_m)\n",
    "\n",
    "output_class_labels = ['Null', 'Acceptor', 'Donor']\n",
    "\n",
    "#for output_class in [1,2]:\n",
    "models = [copy.deepcopy(model_m) for i in range(n_models)]\n",
    "[model.load_state_dict(torch.load('../Results/PyTorch_Models/transformer_encoder_40k_030522_{}'.format(i))) for i,model in enumerate(models)]\n",
    "\n",
    "for model in models:\n",
    "    model.eval()\n",
    "    \n",
    "Y_true_acceptor, Y_pred_acceptor = [],[]\n",
    "Y_true_donor, Y_pred_donor = [],[]\n",
    "\n",
    "for (batch_chunks,target_chunks) in tqdm(test_loader):\n",
    "    batch_chunks = torch.transpose(batch_chunks[0].to(device),1,2)\n",
    "    target_chunks = torch.transpose(torch.squeeze(target_chunks[0].to(device),0),1,2)\n",
    "    #print(np.max(target_chunks.cpu().numpy()[:,2,:]))\n",
    "    n_chunks = int(np.ceil(batch_chunks.shape[0]/BATCH_SIZE))\n",
    "    batch_chunks = torch.chunk(batch_chunks, n_chunks, dim=0)\n",
    "    target_chunks = torch.chunk(target_chunks, n_chunks, dim=0)\n",
    "    targets_list = []\n",
    "    outputs_list = []\n",
    "    for j in range(len(batch_chunks)):\n",
    "        batch_features = batch_chunks[j]\n",
    "        targets = target_chunks[j]\n",
    "        outputs = ([models[i](batch_features)[1].detach() for i in range(n_models)])\n",
    "        outputs = (outputs[0]+outputs[1]+outputs[2]+outputs[3]+outputs[4])/n_models\n",
    "        #outputs = (outputs[0]+outputs[1]+outputs[2])/n_models\n",
    "        targets_list.extend(targets.unsqueeze(0))\n",
    "        outputs_list.extend(outputs.unsqueeze(0))\n",
    "\n",
    "    targets = torch.transpose(torch.vstack(targets_list),1,2).cpu().numpy()\n",
    "    outputs = torch.transpose(torch.vstack(outputs_list),1,2).cpu().numpy()\n",
    "\n",
    "    is_expr = (targets.sum(axis=(1,2)) >= 1)\n",
    "    Y_true_acceptor.extend(targets[is_expr, :, 1].flatten())\n",
    "    Y_true_donor.extend(targets[is_expr, :, 2].flatten())\n",
    "    Y_pred_acceptor.extend(outputs[is_expr, :, 1].flatten())\n",
    "    Y_pred_donor.extend(outputs[is_expr, :, 2].flatten())"
   ]
  },
  {
   "cell_type": "code",
   "execution_count": 13,
   "metadata": {},
   "outputs": [
    {
     "name": "stdout",
     "output_type": "stream",
     "text": [
      "\n",
      "\u001b[1mAcceptor:\u001b[0m\n",
      "0.9961\t0.9486\t0.9881\t0.9913\t0.9779\t0.9782999753952026\t0.3280999958515167\t0.002899999963119626\t0.0005000000237487257\t14289\n",
      "\n",
      "\u001b[1mDonor:\u001b[0m\n",
      "0.9958\t0.9523\t0.9896\t0.9921\t0.9797\t0.9785000085830688\t0.33739998936653137\t0.002199999988079071\t0.0003000000142492354\t14289\n"
     ]
    }
   ],
   "source": [
    "Y_true_acceptor, Y_pred_acceptor,Y_true_donor, Y_pred_donor = np.array(Y_true_acceptor), np.array(Y_pred_acceptor),np.array(Y_true_donor), np.array(Y_pred_donor)\n",
    "print(\"\\n\\033[1m{}:\\033[0m\".format('Acceptor'))\n",
    "acceptor_val_results = print_topl_statistics(Y_true_acceptor, Y_pred_acceptor)\n",
    "print(\"\\n\\033[1m{}:\\033[0m\".format('Donor'))\n",
    "donor_val_results =print_topl_statistics(Y_true_donor, Y_pred_donor)"
   ]
  },
  {
   "cell_type": "code",
   "execution_count": 19,
   "metadata": {},
   "outputs": [
    {
     "data": {
      "text/plain": [
       "0.95045"
      ]
     },
     "execution_count": 19,
     "metadata": {},
     "output_type": "execute_result"
    }
   ],
   "source": [
    "(0.9486+0.9523)/2"
   ]
  },
  {
   "cell_type": "code",
   "execution_count": 18,
   "metadata": {},
   "outputs": [
    {
     "data": {
      "text/plain": [
       "0.9788"
      ]
     },
     "execution_count": 18,
     "metadata": {},
     "output_type": "execute_result"
    }
   ],
   "source": [
    "(0.9779+0.9797)/2"
   ]
  },
  {
   "cell_type": "code",
   "execution_count": 14,
   "metadata": {},
   "outputs": [],
   "source": [
    "setType = 'test'\n",
    "annotation_test, transcriptToLabel_test, seqData = getData(data_dir, setType)    \n"
   ]
  },
  {
   "cell_type": "code",
   "execution_count": 15,
   "metadata": {
    "scrolled": true
   },
   "outputs": [
    {
     "name": "stderr",
     "output_type": "stream",
     "text": [
      "100%|████████████████████████████████████████████████████████████████████████████████| 90/90 [4:22:57<00:00, 175.30s/it]\n"
     ]
    }
   ],
   "source": [
    "temp = 1\n",
    "n_models = 5\n",
    "device = torch.device(\"cuda\" if torch.cuda.is_available() else \"cpu\")\n",
    "model_m = SpliceFormer(CL_max)\n",
    "model_m.apply(keras_init)\n",
    "model_m = model_m.to(device)\n",
    "\n",
    "if torch.cuda.device_count() > 1:\n",
    "    model_m = nn.DataParallel(model_m)\n",
    "\n",
    "output_class_labels = ['Null', 'Acceptor', 'Donor']\n",
    "\n",
    "#for output_class in [1,2]:\n",
    "models = [copy.deepcopy(model_m) for i in range(n_models)]\n",
    "[model.load_state_dict(torch.load('../Results/PyTorch_Models/transformer_encoder_40k_030522_{}'.format(i))) for i,model in enumerate(models)]\n",
    "#nr = [0,2,3]\n",
    "#[model.load_state_dict(torch.load('../Results/PyTorch_Models/transformer_encoder_40k_201221_{}'.format(nr[i]))) for i,model in enumerate(models)]\n",
    "#chunkSize = num_idx/10\n",
    "for model in models:\n",
    "    model.eval()\n",
    "\n",
    "Y_true_acceptor, Y_pred_acceptor = [],[]\n",
    "Y_true_donor, Y_pred_donor = [],[]\n",
    "test_dataset = spliceDataset(annotation_test,transcriptToLabel_test,SL,CL_max)\n",
    "test_dataset.seqData = seqData\n",
    "test_loader = torch.utils.data.DataLoader(test_dataset, batch_size=100, shuffle=False, num_workers=0,collate_fn=collate_fn, pin_memory=True)\n",
    "\n",
    "\n",
    "for (batch_chunks,target_chunks) in tqdm(test_loader):\n",
    "    batch_chunks = torch.transpose(batch_chunks.to(device),1,2)\n",
    "    target_chunks = torch.transpose(torch.squeeze(target_chunks.to(device),0),1,2)\n",
    "    batch_chunks = torch.split(batch_chunks, BATCH_SIZE, dim=0)\n",
    "    target_chunks = torch.split(target_chunks, BATCH_SIZE, dim=0)\n",
    "    targets_list = []\n",
    "    outputs_list = []\n",
    "    for j in range(len(batch_chunks)):\n",
    "        batch_features = batch_chunks[j]\n",
    "        targets = target_chunks[j]\n",
    "        outputs = ([models[i](batch_features)[1].detach() for i in range(n_models)])\n",
    "        outputs = (outputs[0]+outputs[1]+outputs[2]+outputs[3]+outputs[4])/n_models\n",
    "        #outputs = (outputs[0]+outputs[1]+outputs[2])/n_models\n",
    "        targets_list.extend(targets.unsqueeze(0))\n",
    "        outputs_list.extend(outputs.unsqueeze(0))\n",
    "\n",
    "    targets = torch.transpose(torch.vstack(targets_list),1,2).cpu().numpy()\n",
    "    outputs = torch.transpose(torch.vstack(outputs_list),1,2).cpu().numpy()\n",
    "\n",
    "    is_expr = (targets.sum(axis=(1,2)) >= 1)\n",
    "    Y_true_acceptor.extend(targets[is_expr, :, 1].flatten())\n",
    "    Y_true_donor.extend(targets[is_expr, :, 2].flatten())\n",
    "    Y_pred_acceptor.extend(outputs[is_expr, :, 1].flatten())\n",
    "    Y_pred_donor.extend(outputs[is_expr, :, 2].flatten())\n",
    "\n"
   ]
  },
  {
   "cell_type": "code",
   "execution_count": 16,
   "metadata": {},
   "outputs": [
    {
     "name": "stdout",
     "output_type": "stream",
     "text": [
      "\n",
      "\u001b[1mAcceptor:\u001b[0m\n",
      "0.9821\t0.9399\t0.9919\t0.9958\t0.9675\t0.9814000129699707\t0.45570001006126404\t0.0026000000070780516\t0.00039999998989515007\t89712\n",
      "\n",
      "\u001b[1mDonor:\u001b[0m\n",
      "0.9832\t0.9446\t0.9941\t0.997\t0.9713\t0.9811999797821045\t0.4941999912261963\t0.002099999925121665\t0.0003000000142492354\t89712\n"
     ]
    }
   ],
   "source": [
    "Y_true_acceptor, Y_pred_acceptor,Y_true_donor, Y_pred_donor = np.array(Y_true_acceptor), np.array(Y_pred_acceptor),np.array(Y_true_donor), np.array(Y_pred_donor)\n",
    "print(\"\\n\\033[1m{}:\\033[0m\".format('Acceptor'))\n",
    "acceptor_val_results = print_topl_statistics(Y_true_acceptor, Y_pred_acceptor)\n",
    "print(\"\\n\\033[1m{}:\\033[0m\".format('Donor'))\n",
    "donor_val_results =print_topl_statistics(Y_true_donor, Y_pred_donor)"
   ]
  },
  {
   "cell_type": "code",
   "execution_count": 20,
   "metadata": {},
   "outputs": [
    {
     "data": {
      "text/plain": [
       "0.94225"
      ]
     },
     "execution_count": 20,
     "metadata": {},
     "output_type": "execute_result"
    }
   ],
   "source": [
    "(0.9399+0.9446)/2"
   ]
  },
  {
   "cell_type": "code",
   "execution_count": 17,
   "metadata": {},
   "outputs": [
    {
     "data": {
      "text/plain": [
       "0.9694"
      ]
     },
     "execution_count": 17,
     "metadata": {},
     "output_type": "execute_result"
    }
   ],
   "source": [
    "(0.9675+0.9713)/2"
   ]
  }
 ],
 "metadata": {
  "kernelspec": {
   "display_name": "Python 3 (ipykernel)",
   "language": "python",
   "name": "python3"
  },
  "language_info": {
   "codemirror_mode": {
    "name": "ipython",
    "version": 3
   },
   "file_extension": ".py",
   "mimetype": "text/x-python",
   "name": "python",
   "nbconvert_exporter": "python",
   "pygments_lexer": "ipython3",
   "version": "3.8.12"
  }
 },
 "nbformat": 4,
 "nbformat_minor": 4
}
