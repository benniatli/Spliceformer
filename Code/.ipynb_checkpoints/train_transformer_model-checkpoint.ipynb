{
 "cells": [
  {
   "cell_type": "code",
   "execution_count": 1,
   "metadata": {},
   "outputs": [],
   "source": [
    "import numpy as np\n",
    "import sys\n",
    "import time\n",
    "import h5py\n",
    "from tqdm import tqdm\n",
    "\n",
    "import numpy as np\n",
    "import re\n",
    "from math import ceil\n",
    "from sklearn.metrics import average_precision_score\n",
    "from torch.utils.data import Dataset\n",
    "import torch\n",
    "import torch.nn as nn\n",
    "import pandas as pd\n",
    "import matplotlib.pyplot as plt\n",
    "import pickle\n",
    "#import pickle5 as pickle\n",
    "\n",
    "from sklearn.model_selection import train_test_split\n",
    "\n",
    "from scipy.sparse import load_npz\n",
    "from glob import glob\n",
    "\n",
    "from transformers import get_constant_schedule_with_warmup\n",
    "from sklearn.metrics import precision_score,recall_score,accuracy_score\n",
    "import copy\n",
    "\n",
    "from src.train import trainModel\n",
    "from src.dataloader import getData,spliceDataset,h5pyDataset,collate_fn\n",
    "from src.weight_init import keras_init\n",
    "from src.losses import categorical_crossentropy_2d\n",
    "from src.old_model import SpliceFormer\n",
    "from src.evaluation_metrics import print_topl_statistics,cross_entropy_2d"
   ]
  },
  {
   "cell_type": "code",
   "execution_count": 2,
   "metadata": {},
   "outputs": [],
   "source": [
    "#!pip install pickle5"
   ]
  },
  {
   "cell_type": "code",
   "execution_count": 3,
   "metadata": {},
   "outputs": [],
   "source": [
    "rng = np.random.default_rng(23673)"
   ]
  },
  {
   "cell_type": "code",
   "execution_count": 4,
   "metadata": {},
   "outputs": [],
   "source": [
    "#gtf = None"
   ]
  },
  {
   "cell_type": "code",
   "execution_count": 5,
   "metadata": {},
   "outputs": [],
   "source": [
    "L = 32\n",
    "N_GPUS = 8\n",
    "k = 2\n",
    "# Hyper-parameters:\n",
    "# L: Number of convolution kernels\n",
    "# W: Convolution window size in each residual unit\n",
    "# AR: Atrous rate in each residual unit\n",
    "\n",
    "W = np.asarray([11, 11, 11, 11, 11, 11, 11, 11,\n",
    "                21, 21, 21, 21, 41, 41, 41, 41])\n",
    "AR = np.asarray([1, 1, 1, 1, 4, 4, 4, 4,\n",
    "                 10, 10, 10, 10, 25, 25, 25, 25])\n",
    "BATCH_SIZE = k*6*N_GPUS\n",
    "\n",
    "\n",
    "CL = 2 * np.sum(AR*(W-1))"
   ]
  },
  {
   "cell_type": "code",
   "execution_count": 6,
   "metadata": {},
   "outputs": [],
   "source": [
    "data_dir = '../Data'\n",
    "setType = 'train'\n",
    "annotation, transcriptToLabel, seqData = getData(data_dir, setType)"
   ]
  },
  {
   "cell_type": "code",
   "execution_count": 7,
   "metadata": {},
   "outputs": [],
   "source": [
    "# Maximum nucleotide context length (CL_max/2 on either side of the \n",
    "# position of interest)\n",
    "# CL_max should be an even number\n",
    "# Sequence length of SpliceAIs (SL+CL will be the input length and\n",
    "# SL will be the output length)\n",
    "\n",
    "SL=5000\n",
    "CL_max=40000"
   ]
  },
  {
   "cell_type": "code",
   "execution_count": 8,
   "metadata": {},
   "outputs": [],
   "source": [
    "assert CL_max % 2 == 0"
   ]
  },
  {
   "cell_type": "code",
   "execution_count": 9,
   "metadata": {},
   "outputs": [],
   "source": [
    "train_gene, validation_gene = train_test_split(annotation['gene'].drop_duplicates(),test_size=.1,random_state=435)\n",
    "annotation_train = annotation[annotation['gene'].isin(train_gene)]\n",
    "annotation_validation = annotation[annotation['gene'].isin(validation_gene)]"
   ]
  },
  {
   "cell_type": "code",
   "execution_count": 10,
   "metadata": {},
   "outputs": [],
   "source": [
    "train_dataset = spliceDataset(annotation_train,transcriptToLabel,SL,CL_max)\n",
    "val_dataset = spliceDataset(annotation_validation,transcriptToLabel,SL,CL_max)\n",
    "train_dataset.seqData = seqData\n",
    "val_dataset.seqData = seqData\n",
    "\n",
    "train_loader = torch.utils.data.DataLoader(train_dataset, batch_size=k*100, shuffle=True, num_workers=16,collate_fn=collate_fn, pin_memory=True)\n",
    "val_loader = torch.utils.data.DataLoader(val_dataset, batch_size=k*100, shuffle=False,collate_fn=collate_fn, num_workers=16)"
   ]
  },
  {
   "cell_type": "code",
   "execution_count": 11,
   "metadata": {
    "scrolled": true
   },
   "outputs": [
    {
     "name": "stderr",
     "output_type": "stream",
     "text": [
      "Epoch (train) 1/10: 100%|██████████████████████████████████████████████████████| 101/101 [16:37<00:00,  9.88s/it, accepor_recall=0.879, donor_recall=0.893, loss=0.000219, pred_l1_dist=0]\n"
     ]
    },
    {
     "name": "stdout",
     "output_type": "stream",
     "text": [
      "epoch: 1/10, train loss = 0.011061\n"
     ]
    },
    {
     "name": "stderr",
     "output_type": "stream",
     "text": [
      "Epoch (val) 1/10: 100%|██████████████████████████████████████████████████████████| 12/12 [02:32<00:00, 12.74s/it, accepor_recall=0.915, donor_recall=0.906, loss=0.000384, pred_l1_dist=0]\n"
     ]
    },
    {
     "name": "stdout",
     "output_type": "stream",
     "text": [
      "\n",
      "\u001b[1mAcceptor:\u001b[0m\n",
      "0.961\t0.8635\t0.9679\t0.9843\t0.9097\t0.9767000079154968\t0.7698000073432922\t0.08489999920129776\t0.011599999852478504\t21432\n",
      "\n",
      "\u001b[1mDonor:\u001b[0m\n",
      "0.9657\t0.8739\t0.9756\t0.9888\t0.9223\t0.98089998960495\t0.6963000297546387\t0.04610000178217888\t0.004900000058114529\t21432\n",
      "epoch: 1/10, val loss = 0.000341\n"
     ]
    },
    {
     "name": "stderr",
     "output_type": "stream",
     "text": [
      "Epoch (train) 2/10: 100%|██████████████████████████████████████████████████████| 101/101 [15:15<00:00,  9.06s/it, accepor_recall=0.901, donor_recall=0.913, loss=0.000193, pred_l1_dist=0]\n"
     ]
    },
    {
     "name": "stdout",
     "output_type": "stream",
     "text": [
      "epoch: 2/10, train loss = 0.000203\n"
     ]
    },
    {
     "name": "stderr",
     "output_type": "stream",
     "text": [
      "Epoch (val) 2/10: 100%|███████████████████████████████████████████████████████████| 12/12 [02:36<00:00, 13.06s/it, accepor_recall=0.907, donor_recall=0.89, loss=0.000321, pred_l1_dist=0]\n"
     ]
    },
    {
     "name": "stdout",
     "output_type": "stream",
     "text": [
      "\n",
      "\u001b[1mAcceptor:\u001b[0m\n",
      "0.9714\t0.8834\t0.9772\t0.9897\t0.9297\t0.9919999837875366\t0.7192000150680542\t0.024800000712275505\t0.002400000113993883\t21432\n",
      "\n",
      "\u001b[1mDonor:\u001b[0m\n",
      "0.9707\t0.883\t0.9821\t0.9922\t0.9319\t0.9847999811172485\t0.6079000234603882\t0.011300000362098217\t0.0008999999845400453\t21432\n",
      "epoch: 2/10, val loss = 0.000280\n"
     ]
    },
    {
     "name": "stderr",
     "output_type": "stream",
     "text": [
      "Epoch (train) 3/10: 100%|██████████████████████████████████████████████████████| 101/101 [15:17<00:00,  9.08s/it, accepor_recall=0.912, donor_recall=0.918, loss=0.000187, pred_l1_dist=0]\n"
     ]
    },
    {
     "name": "stdout",
     "output_type": "stream",
     "text": [
      "epoch: 3/10, train loss = 0.000184\n"
     ]
    },
    {
     "name": "stderr",
     "output_type": "stream",
     "text": [
      "Epoch (val) 3/10: 100%|██████████████████████████████████████████████████████████| 12/12 [02:39<00:00, 13.26s/it, accepor_recall=0.818, donor_recall=0.847, loss=0.000318, pred_l1_dist=0]\n"
     ]
    },
    {
     "name": "stdout",
     "output_type": "stream",
     "text": [
      "\n",
      "\u001b[1mAcceptor:\u001b[0m\n",
      "0.9672\t0.8709\t0.9686\t0.9845\t0.9169\t0.9271000027656555\t0.30649998784065247\t0.00839999970048666\t0.00139999995008111\t21432\n",
      "\n",
      "\u001b[1mDonor:\u001b[0m\n",
      "0.9683\t0.8883\t0.9795\t0.9905\t0.933\t0.9222000241279602\t0.3573000133037567\t0.009999999776482582\t0.0012000000569969416\t21432\n",
      "epoch: 3/10, val loss = 0.000274\n"
     ]
    },
    {
     "name": "stderr",
     "output_type": "stream",
     "text": [
      "Epoch (train) 4/10: 100%|██████████████████████████████████████████████████████| 101/101 [15:07<00:00,  8.99s/it, accepor_recall=0.916, donor_recall=0.925, loss=0.000164, pred_l1_dist=0]\n"
     ]
    },
    {
     "name": "stdout",
     "output_type": "stream",
     "text": [
      "epoch: 4/10, train loss = 0.000171\n"
     ]
    },
    {
     "name": "stderr",
     "output_type": "stream",
     "text": [
      "Epoch (val) 4/10: 100%|██████████████████████████████████████████████████████████| 12/12 [02:39<00:00, 13.26s/it, accepor_recall=0.885, donor_recall=0.888, loss=0.000243, pred_l1_dist=0]\n"
     ]
    },
    {
     "name": "stdout",
     "output_type": "stream",
     "text": [
      "\n",
      "\u001b[1mAcceptor:\u001b[0m\n",
      "0.9692\t0.9009\t0.9836\t0.991\t0.9397\t0.9325000047683716\t0.4560999870300293\t0.011699999682605267\t0.002099999925121665\t21432\n",
      "\n",
      "\u001b[1mDonor:\u001b[0m\n",
      "0.9724\t0.9111\t0.9885\t0.9947\t0.9496\t0.9422000050544739\t0.4205999970436096\t0.010700000450015068\t0.0019000000320374966\t21432\n",
      "epoch: 4/10, val loss = 0.000211\n"
     ]
    },
    {
     "name": "stderr",
     "output_type": "stream",
     "text": [
      "Epoch (train) 5/10: 100%|███████████████████████████████████████████████████████| 101/101 [15:17<00:00,  9.08s/it, accepor_recall=0.93, donor_recall=0.936, loss=0.000137, pred_l1_dist=0]\n"
     ]
    },
    {
     "name": "stdout",
     "output_type": "stream",
     "text": [
      "epoch: 5/10, train loss = 0.000167\n"
     ]
    },
    {
     "name": "stderr",
     "output_type": "stream",
     "text": [
      "Epoch (val) 5/10: 100%|██████████████████████████████████████████████████████████| 12/12 [02:32<00:00, 12.67s/it, accepor_recall=0.854, donor_recall=0.845, loss=0.000271, pred_l1_dist=0]\n"
     ]
    },
    {
     "name": "stdout",
     "output_type": "stream",
     "text": [
      "\n",
      "\u001b[1mAcceptor:\u001b[0m\n",
      "0.9697\t0.9033\t0.9808\t0.99\t0.9391\t0.9334999918937683\t0.29010000824928284\t0.004399999976158142\t0.000699999975040555\t21432\n",
      "\n",
      "\u001b[1mDonor:\u001b[0m\n",
      "0.9706\t0.9108\t0.9854\t0.992\t0.9458\t0.9412999749183655\t0.23929999768733978\t0.0019000000320374966\t0.0003000000142492354\t21432\n",
      "epoch: 5/10, val loss = 0.000230\n"
     ]
    },
    {
     "name": "stderr",
     "output_type": "stream",
     "text": [
      "Epoch (train) 6/10: 100%|██████████████████████████████████████████████████████| 101/101 [15:22<00:00,  9.14s/it, accepor_recall=0.932, donor_recall=0.938, loss=0.000139, pred_l1_dist=0]\n"
     ]
    },
    {
     "name": "stdout",
     "output_type": "stream",
     "text": [
      "epoch: 6/10, train loss = 0.000150\n"
     ]
    },
    {
     "name": "stderr",
     "output_type": "stream",
     "text": [
      "Epoch (val) 6/10: 100%|██████████████████████████████████████████████████████████| 12/12 [02:37<00:00, 13.14s/it, accepor_recall=0.853, donor_recall=0.862, loss=0.000243, pred_l1_dist=0]\n"
     ]
    },
    {
     "name": "stdout",
     "output_type": "stream",
     "text": [
      "\n",
      "\u001b[1mAcceptor:\u001b[0m\n",
      "0.9751\t0.9131\t0.9861\t0.9924\t0.9497\t0.9442999958992004\t0.26080000400543213\t0.003599999938160181\t0.0006000000284984708\t21432\n",
      "\n",
      "\u001b[1mDonor:\u001b[0m\n",
      "0.9713\t0.9128\t0.9891\t0.9944\t0.9496\t0.929099977016449\t0.3109000027179718\t0.004999999888241291\t0.000699999975040555\t21432\n",
      "epoch: 6/10, val loss = 0.000209\n"
     ]
    },
    {
     "name": "stderr",
     "output_type": "stream",
     "text": [
      "Epoch (train) 7/10: 100%|███████████████████████████████████████████████████████| 101/101 [15:12<00:00,  9.03s/it, accepor_recall=0.94, donor_recall=0.944, loss=0.000121, pred_l1_dist=0]\n"
     ]
    },
    {
     "name": "stdout",
     "output_type": "stream",
     "text": [
      "epoch: 7/10, train loss = 0.000164\n"
     ]
    },
    {
     "name": "stderr",
     "output_type": "stream",
     "text": [
      "Epoch (val) 7/10: 100%|███████████████████████████████████████████████████████████| 12/12 [02:35<00:00, 12.93s/it, accepor_recall=0.92, donor_recall=0.935, loss=0.000225, pred_l1_dist=0]\n"
     ]
    },
    {
     "name": "stdout",
     "output_type": "stream",
     "text": [
      "\n",
      "\u001b[1mAcceptor:\u001b[0m\n",
      "0.9734\t0.9181\t0.9863\t0.9925\t0.9498\t0.9682999849319458\t0.5648000240325928\t0.00559999980032444\t0.0010000000474974513\t21432\n",
      "\n",
      "\u001b[1mDonor:\u001b[0m\n",
      "0.9753\t0.9183\t0.9895\t0.9953\t0.9519\t0.9818000197410583\t0.6901000142097473\t0.009399999864399433\t0.0012000000569969416\t21432\n",
      "epoch: 7/10, val loss = 0.000193\n"
     ]
    },
    {
     "name": "stderr",
     "output_type": "stream",
     "text": [
      "Epoch (train) 8/10: 100%|██████████████████████████████████████████████████████| 101/101 [15:16<00:00,  9.07s/it, accepor_recall=0.951, donor_recall=0.955, loss=0.000124, pred_l1_dist=0]\n"
     ]
    },
    {
     "name": "stdout",
     "output_type": "stream",
     "text": [
      "epoch: 8/10, train loss = 0.000107\n"
     ]
    },
    {
     "name": "stderr",
     "output_type": "stream",
     "text": [
      "Epoch (val) 8/10: 100%|██████████████████████████████████████████████████████████| 12/12 [02:38<00:00, 13.20s/it, accepor_recall=0.921, donor_recall=0.919, loss=0.000207, pred_l1_dist=0]\n"
     ]
    },
    {
     "name": "stdout",
     "output_type": "stream",
     "text": [
      "\n",
      "\u001b[1mAcceptor:\u001b[0m\n",
      "0.9763\t0.9274\t0.988\t0.9932\t0.955\t0.9778000116348267\t0.5648000240325928\t0.00279999990016222\t0.00039999998989515007\t21432\n",
      "\n",
      "\u001b[1mDonor:\u001b[0m\n",
      "0.9749\t0.9281\t0.9911\t0.9961\t0.9577\t0.9817000031471252\t0.47839999198913574\t0.002400000113993883\t0.00039999998989515007\t21432\n",
      "epoch: 8/10, val loss = 0.000176\n"
     ]
    },
    {
     "name": "stderr",
     "output_type": "stream",
     "text": [
      "Epoch (train) 9/10: 100%|███████████████████████████████████████████████████████| 101/101 [15:19<00:00,  9.11s/it, accepor_recall=0.964, donor_recall=0.968, loss=8.55e-5, pred_l1_dist=0]\n"
     ]
    },
    {
     "name": "stdout",
     "output_type": "stream",
     "text": [
      "epoch: 9/10, train loss = 0.000090\n"
     ]
    },
    {
     "name": "stderr",
     "output_type": "stream",
     "text": [
      "Epoch (val) 9/10: 100%|███████████████████████████████████████████████████████████| 12/12 [02:40<00:00, 13.36s/it, accepor_recall=0.91, donor_recall=0.917, loss=0.000203, pred_l1_dist=0]\n"
     ]
    },
    {
     "name": "stdout",
     "output_type": "stream",
     "text": [
      "\n",
      "\u001b[1mAcceptor:\u001b[0m\n",
      "0.9793\t0.9307\t0.9876\t0.9932\t0.9579\t0.9822999835014343\t0.4537999927997589\t0.0013000000035390258\t0.00019999999494757503\t21432\n",
      "\n",
      "\u001b[1mDonor:\u001b[0m\n",
      "0.9781\t0.9326\t0.9914\t0.9953\t0.9604\t0.9815999865531921\t0.44339999556541443\t0.0012000000569969416\t0.00019999999494757503\t21432\n",
      "epoch: 9/10, val loss = 0.000173\n"
     ]
    },
    {
     "name": "stderr",
     "output_type": "stream",
     "text": [
      "Epoch (train) 10/10: 100%|██████████████████████████████████████████████████████| 101/101 [15:27<00:00,  9.18s/it, accepor_recall=0.968, donor_recall=0.971, loss=7.55e-5, pred_l1_dist=0]\n"
     ]
    },
    {
     "name": "stdout",
     "output_type": "stream",
     "text": [
      "epoch: 10/10, train loss = 0.000084\n"
     ]
    },
    {
     "name": "stderr",
     "output_type": "stream",
     "text": [
      "Epoch (val) 10/10: 100%|████████████████████████████████████████████████████████████| 12/12 [02:35<00:00, 13.00s/it, accepor_recall=0.914, donor_recall=0.92, loss=0.0002, pred_l1_dist=0]\n"
     ]
    },
    {
     "name": "stdout",
     "output_type": "stream",
     "text": [
      "\n",
      "\u001b[1mAcceptor:\u001b[0m\n",
      "0.9805\t0.9304\t0.9881\t0.9933\t0.9585\t0.9800000190734863\t0.45820000767707825\t0.0020000000949949026\t0.0003000000142492354\t21432\n",
      "\n",
      "\u001b[1mDonor:\u001b[0m\n",
      "0.9773\t0.933\t0.9916\t0.9955\t0.9599\t0.979200005531311\t0.43849998712539673\t0.00139999995008111\t0.00019999999494757503\t21432\n",
      "epoch: 10/10, val loss = 0.000169\n"
     ]
    },
    {
     "data": {
      "image/png": "[encoded data removed]",
      "text/plain": [
       "<Figure size 432x288 with 1 Axes>"
      ]
     },
     "metadata": {
      "needs_background": "light"
     },
     "output_type": "display_data"
    },
    {
     "name": "stderr",
     "output_type": "stream",
     "text": [
      "Epoch (train) 1/10: 100%|██████████████████████████████████████████████████████| 101/101 [15:21<00:00,  9.12s/it, accepor_recall=0.878, donor_recall=0.888, loss=0.000204, pred_l1_dist=0]\n"
     ]
    },
    {
     "name": "stdout",
     "output_type": "stream",
     "text": [
      "epoch: 1/10, train loss = 0.012621\n"
     ]
    },
    {
     "name": "stderr",
     "output_type": "stream",
     "text": [
      "Epoch (val) 1/10: 100%|██████████████████████████████████████████████████████████| 12/12 [02:30<00:00, 12.50s/it, accepor_recall=0.794, donor_recall=0.801, loss=0.000323, pred_l1_dist=0]\n"
     ]
    },
    {
     "name": "stdout",
     "output_type": "stream",
     "text": [
      "\n",
      "\u001b[1mAcceptor:\u001b[0m\n",
      "0.9572\t0.8709\t0.9714\t0.9859\t0.9144\t0.8578000068664551\t0.3427000045776367\t0.014600000344216824\t0.002199999988079071\t21432\n",
      "\n",
      "\u001b[1mDonor:\u001b[0m\n",
      "0.963\t0.8695\t0.9811\t0.9923\t0.9203\t0.8810999989509583\t0.367900013923645\t0.015599999576807022\t0.0017999999690800905\t21432\n",
      "epoch: 1/10, val loss = 0.000285\n"
     ]
    },
    {
     "name": "stderr",
     "output_type": "stream",
     "text": [
      "Epoch (train) 2/10: 100%|██████████████████████████████████████████████████████| 101/101 [15:26<00:00,  9.17s/it, accepor_recall=0.896, donor_recall=0.904, loss=0.000186, pred_l1_dist=0]\n"
     ]
    },
    {
     "name": "stdout",
     "output_type": "stream",
     "text": [
      "epoch: 2/10, train loss = 0.000189\n"
     ]
    },
    {
     "name": "stderr",
     "output_type": "stream",
     "text": [
      "Epoch (val) 2/10: 100%|██████████████████████████████████████████████████████████| 12/12 [02:29<00:00, 12.46s/it, accepor_recall=0.925, donor_recall=0.928, loss=0.000348, pred_l1_dist=0]\n"
     ]
    },
    {
     "name": "stdout",
     "output_type": "stream",
     "text": [
      "\n",
      "\u001b[1mAcceptor:\u001b[0m\n",
      "0.9692\t0.8855\t0.9775\t0.9889\t0.9291\t0.9891999959945679\t0.8080000281333923\t0.03620000183582306\t0.004000000189989805\t21432\n",
      "\n",
      "\u001b[1mDonor:\u001b[0m\n",
      "0.966\t0.8803\t0.9787\t0.9913\t0.9276\t0.9829999804496765\t0.8123000264167786\t0.031700000166893005\t0.00279999990016222\t21432\n",
      "epoch: 2/10, val loss = 0.000314\n"
     ]
    },
    {
     "name": "stderr",
     "output_type": "stream",
     "text": [
      "Epoch (train) 3/10: 100%|████████████████████████████████████████████████████████| 101/101 [15:33<00:00,  9.24s/it, accepor_recall=0.91, donor_recall=0.92, loss=0.000157, pred_l1_dist=0]\n"
     ]
    },
    {
     "name": "stdout",
     "output_type": "stream",
     "text": [
      "epoch: 3/10, train loss = 0.000173\n"
     ]
    },
    {
     "name": "stderr",
     "output_type": "stream",
     "text": [
      "Epoch (val) 3/10: 100%|██████████████████████████████████████████████████████████| 12/12 [02:30<00:00, 12.57s/it, accepor_recall=0.897, donor_recall=0.891, loss=0.000243, pred_l1_dist=0]\n"
     ]
    },
    {
     "name": "stdout",
     "output_type": "stream",
     "text": [
      "\n",
      "\u001b[1mAcceptor:\u001b[0m\n",
      "0.9724\t0.9075\t0.9851\t0.9916\t0.9453\t0.9775000214576721\t0.49799999594688416\t0.005400000140070915\t0.0007999999797903001\t21432\n",
      "\n",
      "\u001b[1mDonor:\u001b[0m\n",
      "0.9737\t0.9086\t0.9887\t0.9944\t0.9478\t0.9767000079154968\t0.43070000410079956\t0.004100000020116568\t0.0005000000237487257\t21432\n",
      "epoch: 3/10, val loss = 0.000209\n"
     ]
    },
    {
     "name": "stderr",
     "output_type": "stream",
     "text": [
      "Epoch (train) 4/10: 100%|██████████████████████████████████████████████████████| 101/101 [15:31<00:00,  9.22s/it, accepor_recall=0.918, donor_recall=0.924, loss=0.000157, pred_l1_dist=0]\n"
     ]
    },
    {
     "name": "stdout",
     "output_type": "stream",
     "text": [
      "epoch: 4/10, train loss = 0.000172\n"
     ]
    },
    {
     "name": "stderr",
     "output_type": "stream",
     "text": [
      "Epoch (val) 4/10: 100%|██████████████████████████████████████████████████████████| 12/12 [02:29<00:00, 12.42s/it, accepor_recall=0.874, donor_recall=0.906, loss=0.000256, pred_l1_dist=0]\n"
     ]
    },
    {
     "name": "stdout",
     "output_type": "stream",
     "text": [
      "\n",
      "\u001b[1mAcceptor:\u001b[0m\n",
      "0.9712\t0.9045\t0.982\t0.9907\t0.9404\t0.9833999872207642\t0.420199990272522\t0.006500000134110451\t0.0010000000474974513\t21432\n",
      "\n",
      "\u001b[1mDonor:\u001b[0m\n",
      "0.9727\t0.9104\t0.9876\t0.9944\t0.9472\t0.9828000068664551\t0.5972999930381775\t0.011800000444054604\t0.0017000000225380063\t21432\n",
      "epoch: 4/10, val loss = 0.000221\n"
     ]
    },
    {
     "name": "stderr",
     "output_type": "stream",
     "text": [
      "Epoch (train) 5/10: 100%|██████████████████████████████████████████████████████| 101/101 [15:33<00:00,  9.25s/it, accepor_recall=0.928, donor_recall=0.933, loss=0.000135, pred_l1_dist=0]\n"
     ]
    },
    {
     "name": "stdout",
     "output_type": "stream",
     "text": [
      "epoch: 5/10, train loss = 0.000149\n"
     ]
    },
    {
     "name": "stderr",
     "output_type": "stream",
     "text": [
      "Epoch (val) 5/10: 100%|████████████████████████████████████████████████████████████| 12/12 [02:29<00:00, 12.47s/it, accepor_recall=0.9, donor_recall=0.922, loss=0.000244, pred_l1_dist=0]\n"
     ]
    },
    {
     "name": "stdout",
     "output_type": "stream",
     "text": [
      "\n",
      "\u001b[1mAcceptor:\u001b[0m\n",
      "0.9743\t0.911\t0.9841\t0.9917\t0.9467\t0.983299970626831\t0.47690001130104065\t0.00570000009611249\t0.0008999999845400453\t21432\n",
      "\n",
      "\u001b[1mDonor:\u001b[0m\n",
      "0.9728\t0.9108\t0.9886\t0.9946\t0.9484\t0.9869999885559082\t0.6470000147819519\t0.008999999612569809\t0.0010999999940395355\t21432\n",
      "epoch: 5/10, val loss = 0.000212\n"
     ]
    },
    {
     "name": "stderr",
     "output_type": "stream",
     "text": [
      "Epoch (train) 6/10: 100%|███████████████████████████████████████████████████████| 101/101 [15:24<00:00,  9.16s/it, accepor_recall=0.932, donor_recall=0.938, loss=0.00014, pred_l1_dist=0]\n"
     ]
    },
    {
     "name": "stdout",
     "output_type": "stream",
     "text": [
      "epoch: 6/10, train loss = 0.000140\n"
     ]
    },
    {
     "name": "stderr",
     "output_type": "stream",
     "text": [
      "Epoch (val) 6/10: 100%|██████████████████████████████████████████████████████████| 12/12 [02:29<00:00, 12.47s/it, accepor_recall=0.914, donor_recall=0.917, loss=0.000216, pred_l1_dist=0]\n"
     ]
    },
    {
     "name": "stdout",
     "output_type": "stream",
     "text": [
      "\n",
      "\u001b[1mAcceptor:\u001b[0m\n",
      "0.9744\t0.9185\t0.9851\t0.9919\t0.9507\t0.9735000133514404\t0.5461999773979187\t0.00839999970048666\t0.001500000013038516\t21432\n",
      "\n",
      "\u001b[1mDonor:\u001b[0m\n",
      "0.9744\t0.9226\t0.989\t0.9952\t0.9532\t0.9728999733924866\t0.5263000130653381\t0.007600000128149986\t0.0010999999940395355\t21432\n",
      "epoch: 6/10, val loss = 0.000186\n"
     ]
    },
    {
     "name": "stderr",
     "output_type": "stream",
     "text": [
      "Epoch (train) 7/10: 100%|██████████████████████████████████████████████████████| 101/101 [15:44<00:00,  9.35s/it, accepor_recall=0.939, donor_recall=0.943, loss=0.000144, pred_l1_dist=0]\n"
     ]
    },
    {
     "name": "stdout",
     "output_type": "stream",
     "text": [
      "epoch: 7/10, train loss = 0.000140\n"
     ]
    },
    {
     "name": "stderr",
     "output_type": "stream",
     "text": [
      "Epoch (val) 7/10: 100%|██████████████████████████████████████████████████████████| 12/12 [02:29<00:00, 12.43s/it, accepor_recall=0.932, donor_recall=0.937, loss=0.000223, pred_l1_dist=0]\n"
     ]
    },
    {
     "name": "stdout",
     "output_type": "stream",
     "text": [
      "\n",
      "\u001b[1mAcceptor:\u001b[0m\n",
      "0.9682\t0.9187\t0.9872\t0.9937\t0.9479\t0.9700999855995178\t0.7092000246047974\t0.010099999606609344\t0.001500000013038516\t21432\n",
      "\n",
      "\u001b[1mDonor:\u001b[0m\n",
      "0.9728\t0.9241\t0.9905\t0.9956\t0.953\t0.970300018787384\t0.6525999903678894\t0.00989999994635582\t0.0012000000569969416\t21432\n",
      "epoch: 7/10, val loss = 0.000190\n"
     ]
    },
    {
     "name": "stderr",
     "output_type": "stream",
     "text": [
      "Epoch (train) 8/10: 100%|██████████████████████████████████████████████████████| 101/101 [15:34<00:00,  9.25s/it, accepor_recall=0.954, donor_recall=0.959, loss=0.000114, pred_l1_dist=0]\n"
     ]
    },
    {
     "name": "stdout",
     "output_type": "stream",
     "text": [
      "epoch: 8/10, train loss = 0.000107\n"
     ]
    },
    {
     "name": "stderr",
     "output_type": "stream",
     "text": [
      "Epoch (val) 8/10: 100%|██████████████████████████████████████████████████████████| 12/12 [02:27<00:00, 12.32s/it, accepor_recall=0.896, donor_recall=0.892, loss=0.000233, pred_l1_dist=0]\n"
     ]
    },
    {
     "name": "stdout",
     "output_type": "stream",
     "text": [
      "\n",
      "\u001b[1mAcceptor:\u001b[0m\n",
      "0.9763\t0.9236\t0.9858\t0.9919\t0.9526\t0.9731000065803528\t0.33970001339912415\t0.001500000013038516\t0.0003000000142492354\t21432\n",
      "\n",
      "\u001b[1mDonor:\u001b[0m\n",
      "0.9727\t0.924\t0.9886\t0.9943\t0.9537\t0.9726999998092651\t0.24819999933242798\t0.0008999999845400453\t9.999999747378752e-05\t21432\n",
      "epoch: 8/10, val loss = 0.000199\n"
     ]
    },
    {
     "name": "stderr",
     "output_type": "stream",
     "text": [
      "Epoch (train) 9/10: 100%|███████████████████████████████████████████████████████| 101/101 [15:26<00:00,  9.18s/it, accepor_recall=0.959, donor_recall=0.965, loss=9.82e-5, pred_l1_dist=0]\n"
     ]
    },
    {
     "name": "stdout",
     "output_type": "stream",
     "text": [
      "epoch: 9/10, train loss = 0.000104\n"
     ]
    },
    {
     "name": "stderr",
     "output_type": "stream",
     "text": [
      "Epoch (val) 9/10: 100%|███████████████████████████████████████████████████████████| 12/12 [02:28<00:00, 12.35s/it, accepor_recall=0.905, donor_recall=0.92, loss=0.000205, pred_l1_dist=0]\n"
     ]
    },
    {
     "name": "stdout",
     "output_type": "stream",
     "text": [
      "\n",
      "\u001b[1mAcceptor:\u001b[0m\n",
      "0.9767\t0.9262\t0.9871\t0.993\t0.9554\t0.9735999703407288\t0.400299996137619\t0.003000000026077032\t0.0005000000237487257\t21432\n",
      "\n",
      "\u001b[1mDonor:\u001b[0m\n",
      "0.9739\t0.9312\t0.9908\t0.9953\t0.9576\t0.9790999889373779\t0.4672999978065491\t0.00279999990016222\t0.00039999998989515007\t21432\n",
      "epoch: 9/10, val loss = 0.000173\n"
     ]
    },
    {
     "name": "stderr",
     "output_type": "stream",
     "text": [
      "Epoch (train) 10/10: 100%|██████████████████████████████████████████████████████| 101/101 [15:35<00:00,  9.27s/it, accepor_recall=0.964, donor_recall=0.968, loss=8.49e-5, pred_l1_dist=0]\n"
     ]
    },
    {
     "name": "stdout",
     "output_type": "stream",
     "text": [
      "epoch: 10/10, train loss = 0.000084\n"
     ]
    },
    {
     "name": "stderr",
     "output_type": "stream",
     "text": [
      "Epoch (val) 10/10: 100%|██████████████████████████████████████████████████████████| 12/12 [02:27<00:00, 12.27s/it, accepor_recall=0.91, donor_recall=0.918, loss=0.000197, pred_l1_dist=0]\n"
     ]
    },
    {
     "name": "stdout",
     "output_type": "stream",
     "text": [
      "\n",
      "\u001b[1mAcceptor:\u001b[0m\n",
      "0.9784\t0.9299\t0.9888\t0.9937\t0.9605\t0.972599983215332\t0.4440999925136566\t0.002199999988079071\t0.00039999998989515007\t21432\n",
      "\n",
      "\u001b[1mDonor:\u001b[0m\n",
      "0.9764\t0.9347\t0.9917\t0.9961\t0.962\t0.9664000272750854\t0.4253999888896942\t0.0020000000949949026\t0.0003000000142492354\t21432\n",
      "epoch: 10/10, val loss = 0.000164\n"
     ]
    },
    {
     "data": {
      "image/png": "[encoded data removed]",
      "text/plain": [
       "<Figure size 432x288 with 1 Axes>"
      ]
     },
     "metadata": {
      "needs_background": "light"
     },
     "output_type": "display_data"
    },
    {
     "name": "stderr",
     "output_type": "stream",
     "text": [
      "Epoch (train) 1/10: 100%|███████████████████████████████████████████████████████| 101/101 [15:19<00:00,  9.10s/it, accepor_recall=0.872, donor_recall=0.883, loss=0.00021, pred_l1_dist=0]\n"
     ]
    },
    {
     "name": "stdout",
     "output_type": "stream",
     "text": [
      "epoch: 1/10, train loss = 0.009887\n"
     ]
    },
    {
     "name": "stderr",
     "output_type": "stream",
     "text": [
      "Epoch (val) 1/10: 100%|██████████████████████████████████████████████████████████| 12/12 [02:30<00:00, 12.53s/it, accepor_recall=0.906, donor_recall=0.945, loss=0.000455, pred_l1_dist=0]\n"
     ]
    },
    {
     "name": "stdout",
     "output_type": "stream",
     "text": [
      "\n",
      "\u001b[1mAcceptor:\u001b[0m\n",
      "0.9569\t0.8558\t0.9648\t0.9828\t0.9043\t0.9578999876976013\t0.7337999939918518\t0.094200000166893\t0.010900000110268593\t21432\n",
      "\n",
      "\u001b[1mDonor:\u001b[0m\n",
      "0.9635\t0.8688\t0.9716\t0.9888\t0.9169\t0.9854000210762024\t0.8816999793052673\t0.14970000088214874\t0.012299999594688416\t21432\n",
      "epoch: 1/10, val loss = 0.000422\n"
     ]
    },
    {
     "name": "stderr",
     "output_type": "stream",
     "text": [
      "Epoch (train) 2/10: 100%|██████████████████████████████████████████████████████| 101/101 [15:24<00:00,  9.15s/it, accepor_recall=0.903, donor_recall=0.911, loss=0.000183, pred_l1_dist=0]\n"
     ]
    },
    {
     "name": "stdout",
     "output_type": "stream",
     "text": [
      "epoch: 2/10, train loss = 0.000193\n"
     ]
    },
    {
     "name": "stderr",
     "output_type": "stream",
     "text": [
      "Epoch (val) 2/10: 100%|██████████████████████████████████████████████████████████| 12/12 [02:27<00:00, 12.31s/it, accepor_recall=0.925, donor_recall=0.929, loss=0.000527, pred_l1_dist=0]\n"
     ]
    },
    {
     "name": "stdout",
     "output_type": "stream",
     "text": [
      "\n",
      "\u001b[1mAcceptor:\u001b[0m\n",
      "0.9477\t0.8206\t0.956\t0.9815\t0.8771\t0.9833999872207642\t0.8896999955177307\t0.1657000035047531\t0.01140000019222498\t21432\n",
      "\n",
      "\u001b[1mDonor:\u001b[0m\n",
      "0.9512\t0.8381\t0.962\t0.9847\t0.8908\t0.9765999913215637\t0.8600999712944031\t0.14650000631809235\t0.015399999916553497\t21432\n",
      "epoch: 2/10, val loss = 0.000533\n"
     ]
    },
    {
     "name": "stderr",
     "output_type": "stream",
     "text": [
      "Epoch (train) 3/10: 100%|███████████████████████████████████████████████████████| 101/101 [15:27<00:00,  9.19s/it, accepor_recall=0.899, donor_recall=0.906, loss=0.00021, pred_l1_dist=0]\n"
     ]
    },
    {
     "name": "stdout",
     "output_type": "stream",
     "text": [
      "epoch: 3/10, train loss = 0.000177\n"
     ]
    },
    {
     "name": "stderr",
     "output_type": "stream",
     "text": [
      "Epoch (val) 3/10: 100%|██████████████████████████████████████████████████████████| 12/12 [02:27<00:00, 12.28s/it, accepor_recall=0.933, donor_recall=0.937, loss=0.000342, pred_l1_dist=0]\n"
     ]
    },
    {
     "name": "stdout",
     "output_type": "stream",
     "text": [
      "\n",
      "\u001b[1mAcceptor:\u001b[0m\n",
      "0.9696\t0.8892\t0.9785\t0.9893\t0.9321\t0.9876999855041504\t0.8465999960899353\t0.027699999511241913\t0.0027000000700354576\t21432\n",
      "\n",
      "\u001b[1mDonor:\u001b[0m\n",
      "0.9699\t0.8883\t0.9787\t0.9918\t0.9319\t0.9860000014305115\t0.8223000168800354\t0.052400000393390656\t0.004999999888241291\t21432\n",
      "epoch: 3/10, val loss = 0.000314\n"
     ]
    },
    {
     "name": "stderr",
     "output_type": "stream",
     "text": [
      "Epoch (train) 4/10: 100%|██████████████████████████████████████████████████████| 101/101 [15:31<00:00,  9.22s/it, accepor_recall=0.889, donor_recall=0.894, loss=0.000276, pred_l1_dist=0]\n"
     ]
    },
    {
     "name": "stdout",
     "output_type": "stream",
     "text": [
      "epoch: 4/10, train loss = 0.000165\n"
     ]
    },
    {
     "name": "stderr",
     "output_type": "stream",
     "text": [
      "Epoch (val) 4/10: 100%|██████████████████████████████████████████████████████████| 12/12 [02:34<00:00, 12.84s/it, accepor_recall=0.923, donor_recall=0.903, loss=0.000247, pred_l1_dist=0]\n"
     ]
    },
    {
     "name": "stdout",
     "output_type": "stream",
     "text": [
      "\n",
      "\u001b[1mAcceptor:\u001b[0m\n",
      "0.9671\t0.908\t0.9836\t0.9916\t0.9418\t0.9731000065803528\t0.6611999869346619\t0.007300000172108412\t0.0006000000284984708\t21432\n",
      "\n",
      "\u001b[1mDonor:\u001b[0m\n",
      "0.9679\t0.9081\t0.9868\t0.9939\t0.9427\t0.9419999718666077\t0.5227000117301941\t0.00860000029206276\t0.0007999999797903001\t21432\n",
      "epoch: 4/10, val loss = 0.000217\n"
     ]
    },
    {
     "name": "stderr",
     "output_type": "stream",
     "text": [
      "Epoch (train) 5/10: 100%|██████████████████████████████████████████████████████| 101/101 [15:28<00:00,  9.19s/it, accepor_recall=0.926, donor_recall=0.935, loss=0.000143, pred_l1_dist=0]\n"
     ]
    },
    {
     "name": "stdout",
     "output_type": "stream",
     "text": [
      "epoch: 5/10, train loss = 0.000148\n"
     ]
    },
    {
     "name": "stderr",
     "output_type": "stream",
     "text": [
      "Epoch (val) 5/10: 100%|███████████████████████████████████████████████████████████| 12/12 [02:35<00:00, 12.98s/it, accepor_recall=0.884, donor_recall=0.86, loss=0.000261, pred_l1_dist=0]\n"
     ]
    },
    {
     "name": "stdout",
     "output_type": "stream",
     "text": [
      "\n",
      "\u001b[1mAcceptor:\u001b[0m\n",
      "0.971\t0.9052\t0.9805\t0.9905\t0.9398\t0.9488999843597412\t0.4108000099658966\t0.00559999980032444\t0.0010000000474974513\t21432\n",
      "\n",
      "\u001b[1mDonor:\u001b[0m\n",
      "0.9695\t0.9039\t0.9837\t0.9922\t0.9401\t0.9340000152587891\t0.29760000109672546\t0.0044999998062849045\t0.0007999999797903001\t21432\n",
      "epoch: 5/10, val loss = 0.000225\n"
     ]
    },
    {
     "name": "stderr",
     "output_type": "stream",
     "text": [
      "Epoch (train) 6/10: 100%|███████████████████████████████████████████████████████| 101/101 [15:28<00:00,  9.20s/it, accepor_recall=0.93, donor_recall=0.936, loss=0.000144, pred_l1_dist=0]\n"
     ]
    },
    {
     "name": "stdout",
     "output_type": "stream",
     "text": [
      "epoch: 6/10, train loss = 0.000158\n"
     ]
    },
    {
     "name": "stderr",
     "output_type": "stream",
     "text": [
      "Epoch (val) 6/10: 100%|██████████████████████████████████████████████████████████| 12/12 [02:28<00:00, 12.37s/it, accepor_recall=0.805, donor_recall=0.838, loss=0.000308, pred_l1_dist=0]\n"
     ]
    },
    {
     "name": "stdout",
     "output_type": "stream",
     "text": [
      "\n",
      "\u001b[1mAcceptor:\u001b[0m\n",
      "0.9687\t0.8944\t0.9759\t0.9874\t0.9322\t0.9696999788284302\t0.1088000014424324\t0.0012000000569969416\t0.00019999999494757503\t21432\n",
      "\n",
      "\u001b[1mDonor:\u001b[0m\n",
      "0.9697\t0.9053\t0.9869\t0.9945\t0.9436\t0.9783999919891357\t0.17990000545978546\t0.002300000051036477\t0.00039999998989515007\t21432\n",
      "epoch: 6/10, val loss = 0.000269\n"
     ]
    },
    {
     "name": "stderr",
     "output_type": "stream",
     "text": [
      "Epoch (train) 7/10: 100%|██████████████████████████████████████████████████████| 101/101 [15:33<00:00,  9.24s/it, accepor_recall=0.939, donor_recall=0.944, loss=0.000138, pred_l1_dist=0]\n"
     ]
    },
    {
     "name": "stdout",
     "output_type": "stream",
     "text": [
      "epoch: 7/10, train loss = 0.000135\n"
     ]
    },
    {
     "name": "stderr",
     "output_type": "stream",
     "text": [
      "Epoch (val) 7/10: 100%|███████████████████████████████████████████████████████████| 12/12 [02:27<00:00, 12.32s/it, accepor_recall=0.86, donor_recall=0.868, loss=0.000242, pred_l1_dist=0]\n"
     ]
    },
    {
     "name": "stdout",
     "output_type": "stream",
     "text": [
      "\n",
      "\u001b[1mAcceptor:\u001b[0m\n",
      "0.9764\t0.9162\t0.9849\t0.9917\t0.9495\t0.932699978351593\t0.2750999927520752\t0.002300000051036477\t0.0005000000237487257\t21432\n",
      "\n",
      "\u001b[1mDonor:\u001b[0m\n",
      "0.9726\t0.9182\t0.9894\t0.9951\t0.9518\t0.957099974155426\t0.31709998846054077\t0.0019000000320374966\t0.0003000000142492354\t21432\n",
      "epoch: 7/10, val loss = 0.000207\n"
     ]
    },
    {
     "name": "stderr",
     "output_type": "stream",
     "text": [
      "Epoch (train) 8/10: 100%|██████████████████████████████████████████████████████| 101/101 [15:28<00:00,  9.19s/it, accepor_recall=0.957, donor_recall=0.962, loss=0.000103, pred_l1_dist=0]\n"
     ]
    },
    {
     "name": "stdout",
     "output_type": "stream",
     "text": [
      "epoch: 8/10, train loss = 0.000117\n"
     ]
    },
    {
     "name": "stderr",
     "output_type": "stream",
     "text": [
      "Epoch (val) 8/10: 100%|████████████████████████████████████████████████████████████| 12/12 [02:28<00:00, 12.34s/it, accepor_recall=0.915, donor_recall=0.914, loss=0.0002, pred_l1_dist=0]\n"
     ]
    },
    {
     "name": "stdout",
     "output_type": "stream",
     "text": [
      "\n",
      "\u001b[1mAcceptor:\u001b[0m\n",
      "0.976\t0.9285\t0.9887\t0.9941\t0.9552\t0.9714000225067139\t0.46239998936653137\t0.004000000189989805\t0.000699999975040555\t21432\n",
      "\n",
      "\u001b[1mDonor:\u001b[0m\n",
      "0.9752\t0.9297\t0.9916\t0.9956\t0.9592\t0.9735000133514404\t0.4302999973297119\t0.002400000113993883\t0.0003000000142492354\t21432\n",
      "epoch: 8/10, val loss = 0.000170\n"
     ]
    },
    {
     "name": "stderr",
     "output_type": "stream",
     "text": [
      "Epoch (train) 9/10: 100%|███████████████████████████████████████████████████████| 101/101 [15:30<00:00,  9.22s/it, accepor_recall=0.962, donor_recall=0.966, loss=9.55e-5, pred_l1_dist=0]\n"
     ]
    },
    {
     "name": "stdout",
     "output_type": "stream",
     "text": [
      "epoch: 9/10, train loss = 0.000101\n"
     ]
    },
    {
     "name": "stderr",
     "output_type": "stream",
     "text": [
      "Epoch (val) 9/10: 100%|██████████████████████████████████████████████████████████| 12/12 [02:30<00:00, 12.58s/it, accepor_recall=0.916, donor_recall=0.921, loss=0.000195, pred_l1_dist=0]\n"
     ]
    },
    {
     "name": "stdout",
     "output_type": "stream",
     "text": [
      "\n",
      "\u001b[1mAcceptor:\u001b[0m\n",
      "0.9781\t0.9299\t0.9884\t0.9944\t0.9586\t0.9760000109672546\t0.47920000553131104\t0.0026000000070780516\t0.00039999998989515007\t21432\n",
      "\n",
      "\u001b[1mDonor:\u001b[0m\n",
      "0.9756\t0.9315\t0.9921\t0.9959\t0.9606\t0.9779999852180481\t0.5019999742507935\t0.0020000000949949026\t0.0003000000142492354\t21432\n",
      "epoch: 9/10, val loss = 0.000166\n"
     ]
    },
    {
     "name": "stderr",
     "output_type": "stream",
     "text": [
      "Epoch (train) 10/10: 100%|███████████████████████████████████████████████████████| 101/101 [15:39<00:00,  9.30s/it, accepor_recall=0.965, donor_recall=0.97, loss=8.16e-5, pred_l1_dist=0]\n"
     ]
    },
    {
     "name": "stdout",
     "output_type": "stream",
     "text": [
      "epoch: 10/10, train loss = 0.000086\n"
     ]
    },
    {
     "name": "stderr",
     "output_type": "stream",
     "text": [
      "Epoch (val) 10/10: 100%|████████████████████████████████████████████████████████████| 12/12 [02:28<00:00, 12.38s/it, accepor_recall=0.922, donor_recall=0.93, loss=0.0002, pred_l1_dist=0]\n"
     ]
    },
    {
     "name": "stdout",
     "output_type": "stream",
     "text": [
      "\n",
      "\u001b[1mAcceptor:\u001b[0m\n",
      "0.9746\t0.9295\t0.988\t0.993\t0.9558\t0.9779999852180481\t0.5097000002861023\t0.0020000000949949026\t0.0003000000142492354\t21432\n",
      "\n",
      "\u001b[1mDonor:\u001b[0m\n",
      "0.9785\t0.9331\t0.9913\t0.995\t0.9606\t0.9815000295639038\t0.5605999827384949\t0.0015999999595806003\t0.00019999999494757503\t21432\n",
      "epoch: 10/10, val loss = 0.000169\n"
     ]
    },
    {
     "data": {
      "image/png": "[encoded data removed]",
      "text/plain": [
       "<Figure size 432x288 with 1 Axes>"
      ]
     },
     "metadata": {
      "needs_background": "light"
     },
     "output_type": "display_data"
    },
    {
     "name": "stderr",
     "output_type": "stream",
     "text": [
      "Epoch (train) 1/10: 100%|██████████████████████████████████████████████████████| 101/101 [15:35<00:00,  9.26s/it, accepor_recall=0.868, donor_recall=0.881, loss=0.000212, pred_l1_dist=0]\n"
     ]
    },
    {
     "name": "stdout",
     "output_type": "stream",
     "text": [
      "epoch: 1/10, train loss = 0.010376\n"
     ]
    },
    {
     "name": "stderr",
     "output_type": "stream",
     "text": [
      "Epoch (val) 1/10: 100%|██████████████████████████████████████████████████████████| 12/12 [02:26<00:00, 12.25s/it, accepor_recall=0.914, donor_recall=0.924, loss=0.000348, pred_l1_dist=0]\n"
     ]
    },
    {
     "name": "stdout",
     "output_type": "stream",
     "text": [
      "\n",
      "\u001b[1mAcceptor:\u001b[0m\n",
      "0.9642\t0.8749\t0.9723\t0.9858\t0.9198\t0.9817000031471252\t0.7705000042915344\t0.04729999974370003\t0.004800000227987766\t21432\n",
      "\n",
      "\u001b[1mDonor:\u001b[0m\n",
      "0.9718\t0.8905\t0.9824\t0.9924\t0.9353\t0.9797999858856201\t0.7534000277519226\t0.03759999945759773\t0.004000000189989805\t21432\n",
      "epoch: 1/10, val loss = 0.000310\n"
     ]
    },
    {
     "name": "stderr",
     "output_type": "stream",
     "text": [
      "Epoch (train) 2/10: 100%|██████████████████████████████████████████████████████| 101/101 [15:32<00:00,  9.24s/it, accepor_recall=0.879, donor_recall=0.894, loss=0.000211, pred_l1_dist=0]\n"
     ]
    },
    {
     "name": "stdout",
     "output_type": "stream",
     "text": [
      "epoch: 2/10, train loss = 0.000210\n"
     ]
    },
    {
     "name": "stderr",
     "output_type": "stream",
     "text": [
      "Epoch (val) 2/10: 100%|██████████████████████████████████████████████████████████| 12/12 [02:31<00:00, 12.61s/it, accepor_recall=0.932, donor_recall=0.955, loss=0.000408, pred_l1_dist=0]\n"
     ]
    },
    {
     "name": "stdout",
     "output_type": "stream",
     "text": [
      "\n",
      "\u001b[1mAcceptor:\u001b[0m\n",
      "0.9716\t0.8825\t0.977\t0.9886\t0.9289\t0.9807999730110168\t0.7782999873161316\t0.07460000365972519\t0.010499999858438969\t21432\n",
      "\n",
      "\u001b[1mDonor:\u001b[0m\n",
      "0.9671\t0.8893\t0.9823\t0.9932\t0.9341\t0.9898999929428101\t0.9180999994277954\t0.09059999883174896\t0.008899999782443047\t21432\n",
      "epoch: 2/10, val loss = 0.000370\n"
     ]
    },
    {
     "name": "stderr",
     "output_type": "stream",
     "text": [
      "Epoch (train) 3/10: 100%|███████████████████████████████████████████████████████| 101/101 [15:40<00:00,  9.32s/it, accepor_recall=0.902, donor_recall=0.911, loss=0.00018, pred_l1_dist=0]\n"
     ]
    },
    {
     "name": "stdout",
     "output_type": "stream",
     "text": [
      "epoch: 3/10, train loss = 0.000172\n"
     ]
    },
    {
     "name": "stderr",
     "output_type": "stream",
     "text": [
      "Epoch (val) 3/10: 100%|██████████████████████████████████████████████████████████| 12/12 [02:33<00:00, 12.76s/it, accepor_recall=0.899, donor_recall=0.925, loss=0.000281, pred_l1_dist=0]\n"
     ]
    },
    {
     "name": "stdout",
     "output_type": "stream",
     "text": [
      "\n",
      "\u001b[1mAcceptor:\u001b[0m\n",
      "0.9662\t0.8916\t0.9786\t0.9885\t0.9315\t0.906499981880188\t0.566100001335144\t0.024000000208616257\t0.0035000001080334187\t21432\n",
      "\n",
      "\u001b[1mDonor:\u001b[0m\n",
      "0.9686\t0.8971\t0.9883\t0.9944\t0.9391\t0.9111999869346619\t0.6482999920845032\t0.021700000390410423\t0.003700000001117587\t21432\n",
      "epoch: 3/10, val loss = 0.000245\n"
     ]
    },
    {
     "name": "stderr",
     "output_type": "stream",
     "text": [
      "Epoch (train) 4/10: 100%|██████████████████████████████████████████████████████| 101/101 [15:39<00:00,  9.30s/it, accepor_recall=0.921, donor_recall=0.925, loss=0.000166, pred_l1_dist=0]\n"
     ]
    },
    {
     "name": "stdout",
     "output_type": "stream",
     "text": [
      "epoch: 4/10, train loss = 0.000160\n"
     ]
    },
    {
     "name": "stderr",
     "output_type": "stream",
     "text": [
      "Epoch (val) 4/10: 100%|██████████████████████████████████████████████████████████| 12/12 [02:27<00:00, 12.29s/it, accepor_recall=0.872, donor_recall=0.884, loss=0.000276, pred_l1_dist=0]\n"
     ]
    },
    {
     "name": "stdout",
     "output_type": "stream",
     "text": [
      "\n",
      "\u001b[1mAcceptor:\u001b[0m\n",
      "0.9645\t0.885\t0.9742\t0.9873\t0.9251\t0.9391000270843506\t0.45329999923706055\t0.017500000074505806\t0.0026000000070780516\t21432\n",
      "\n",
      "\u001b[1mDonor:\u001b[0m\n",
      "0.9715\t0.8993\t0.9825\t0.9927\t0.9396\t0.9503999948501587\t0.4668000042438507\t0.012600000016391277\t0.0017000000225380063\t21432\n",
      "epoch: 4/10, val loss = 0.000242\n"
     ]
    },
    {
     "name": "stderr",
     "output_type": "stream",
     "text": [
      "Epoch (train) 5/10: 100%|██████████████████████████████████████████████████████| 101/101 [15:37<00:00,  9.28s/it, accepor_recall=0.923, donor_recall=0.932, loss=0.000152, pred_l1_dist=0]\n"
     ]
    },
    {
     "name": "stdout",
     "output_type": "stream",
     "text": [
      "epoch: 5/10, train loss = 0.000174\n"
     ]
    },
    {
     "name": "stderr",
     "output_type": "stream",
     "text": [
      "Epoch (val) 5/10: 100%|██████████████████████████████████████████████████████████| 12/12 [02:27<00:00, 12.27s/it, accepor_recall=0.878, donor_recall=0.897, loss=0.000248, pred_l1_dist=0]\n"
     ]
    },
    {
     "name": "stdout",
     "output_type": "stream",
     "text": [
      "\n",
      "\u001b[1mAcceptor:\u001b[0m\n",
      "0.9742\t0.9036\t0.9819\t0.991\t0.9447\t0.9661999940872192\t0.4036000072956085\t0.00419999985024333\t0.0006000000284984708\t21432\n",
      "\n",
      "\u001b[1mDonor:\u001b[0m\n",
      "0.9728\t0.9072\t0.9889\t0.9951\t0.946\t0.9812999963760376\t0.4674000144004822\t0.003599999938160181\t0.00039999998989515007\t21432\n",
      "epoch: 5/10, val loss = 0.000215\n"
     ]
    },
    {
     "name": "stderr",
     "output_type": "stream",
     "text": [
      "Epoch (train) 6/10: 100%|██████████████████████████████████████████████████████| 101/101 [15:34<00:00,  9.25s/it, accepor_recall=0.926, donor_recall=0.928, loss=0.000157, pred_l1_dist=0]\n"
     ]
    },
    {
     "name": "stdout",
     "output_type": "stream",
     "text": [
      "epoch: 6/10, train loss = 0.000153\n"
     ]
    },
    {
     "name": "stderr",
     "output_type": "stream",
     "text": [
      "Epoch (val) 6/10: 100%|██████████████████████████████████████████████████████████| 12/12 [02:27<00:00, 12.26s/it, accepor_recall=0.898, donor_recall=0.888, loss=0.000227, pred_l1_dist=0]\n"
     ]
    },
    {
     "name": "stdout",
     "output_type": "stream",
     "text": [
      "\n",
      "\u001b[1mAcceptor:\u001b[0m\n",
      "0.9764\t0.9152\t0.9853\t0.9928\t0.951\t0.9764000177383423\t0.48030000925064087\t0.007899999618530273\t0.0013000000035390258\t21432\n",
      "\n",
      "\u001b[1mDonor:\u001b[0m\n",
      "0.9734\t0.9166\t0.989\t0.9951\t0.9506\t0.9556000232696533\t0.38089999556541443\t0.004100000020116568\t0.0006000000284984708\t21432\n",
      "epoch: 6/10, val loss = 0.000194\n"
     ]
    },
    {
     "name": "stderr",
     "output_type": "stream",
     "text": [
      "Epoch (train) 7/10: 100%|██████████████████████████████████████████████████████| 101/101 [15:31<00:00,  9.22s/it, accepor_recall=0.938, donor_recall=0.941, loss=0.000155, pred_l1_dist=0]\n"
     ]
    },
    {
     "name": "stdout",
     "output_type": "stream",
     "text": [
      "epoch: 7/10, train loss = 0.000142\n"
     ]
    },
    {
     "name": "stderr",
     "output_type": "stream",
     "text": [
      "Epoch (val) 7/10: 100%|███████████████████████████████████████████████████████████| 12/12 [02:25<00:00, 12.14s/it, accepor_recall=0.855, donor_recall=0.879, loss=0.00025, pred_l1_dist=0]\n"
     ]
    },
    {
     "name": "stdout",
     "output_type": "stream",
     "text": [
      "\n",
      "\u001b[1mAcceptor:\u001b[0m\n",
      "0.9756\t0.9053\t0.9824\t0.9919\t0.9439\t0.925000011920929\t0.28760001063346863\t0.009999999776482582\t0.0019000000320374966\t21432\n",
      "\n",
      "\u001b[1mDonor:\u001b[0m\n",
      "0.9729\t0.9081\t0.9847\t0.9934\t0.9454\t0.9557999968528748\t0.385699987411499\t0.01640000008046627\t0.00279999990016222\t21432\n",
      "epoch: 7/10, val loss = 0.000216\n"
     ]
    },
    {
     "name": "stderr",
     "output_type": "stream",
     "text": [
      "Epoch (train) 8/10: 100%|██████████████████████████████████████████████████████| 101/101 [15:35<00:00,  9.27s/it, accepor_recall=0.951, donor_recall=0.957, loss=0.000112, pred_l1_dist=0]\n"
     ]
    },
    {
     "name": "stdout",
     "output_type": "stream",
     "text": [
      "epoch: 8/10, train loss = 0.000114\n"
     ]
    },
    {
     "name": "stderr",
     "output_type": "stream",
     "text": [
      "Epoch (val) 8/10: 100%|███████████████████████████████████████████████████████████| 12/12 [02:29<00:00, 12.42s/it, accepor_recall=0.92, donor_recall=0.929, loss=0.000199, pred_l1_dist=0]\n"
     ]
    },
    {
     "name": "stdout",
     "output_type": "stream",
     "text": [
      "\n",
      "\u001b[1mAcceptor:\u001b[0m\n",
      "0.9776\t0.9248\t0.9886\t0.9931\t0.9569\t0.9781000018119812\t0.5827999711036682\t0.003800000064074993\t0.000699999975040555\t21432\n",
      "\n",
      "\u001b[1mDonor:\u001b[0m\n",
      "0.9763\t0.9315\t0.9916\t0.9962\t0.9603\t0.984000027179718\t0.5616000294685364\t0.002899999963119626\t0.00039999998989515007\t21432\n",
      "epoch: 8/10, val loss = 0.000169\n"
     ]
    },
    {
     "name": "stderr",
     "output_type": "stream",
     "text": [
      "Epoch (train) 9/10: 100%|███████████████████████████████████████████████████████| 101/101 [15:40<00:00,  9.31s/it, accepor_recall=0.964, donor_recall=0.966, loss=9.48e-5, pred_l1_dist=0]\n"
     ]
    },
    {
     "name": "stdout",
     "output_type": "stream",
     "text": [
      "epoch: 9/10, train loss = 0.000096\n"
     ]
    },
    {
     "name": "stderr",
     "output_type": "stream",
     "text": [
      "Epoch (val) 9/10: 100%|████████████████████████████████████████████████████████████| 12/12 [02:30<00:00, 12.55s/it, accepor_recall=0.896, donor_recall=0.9, loss=0.000221, pred_l1_dist=0]\n"
     ]
    },
    {
     "name": "stdout",
     "output_type": "stream",
     "text": [
      "\n",
      "\u001b[1mAcceptor:\u001b[0m\n",
      "0.9775\t0.927\t0.988\t0.9925\t0.9568\t0.984000027179718\t0.2775000035762787\t0.0013000000035390258\t0.00019999999494757503\t21432\n",
      "\n",
      "\u001b[1mDonor:\u001b[0m\n",
      "0.9756\t0.9274\t0.9897\t0.9949\t0.9584\t0.9824000000953674\t0.24699999392032623\t0.0008999999845400453\t9.999999747378752e-05\t21432\n",
      "epoch: 9/10, val loss = 0.000189\n"
     ]
    },
    {
     "name": "stderr",
     "output_type": "stream",
     "text": [
      "Epoch (train) 10/10: 100%|██████████████████████████████████████████████████████| 101/101 [15:43<00:00,  9.34s/it, accepor_recall=0.965, donor_recall=0.969, loss=7.66e-5, pred_l1_dist=0]\n"
     ]
    },
    {
     "name": "stdout",
     "output_type": "stream",
     "text": [
      "epoch: 10/10, train loss = 0.000089\n"
     ]
    },
    {
     "name": "stderr",
     "output_type": "stream",
     "text": [
      "Epoch (val) 10/10: 100%|██████████████████████████████████████████████████████████| 12/12 [02:30<00:00, 12.53s/it, accepor_recall=0.923, donor_recall=0.933, loss=0.00019, pred_l1_dist=0]\n"
     ]
    },
    {
     "name": "stdout",
     "output_type": "stream",
     "text": [
      "\n",
      "\u001b[1mAcceptor:\u001b[0m\n",
      "0.9772\t0.9326\t0.9892\t0.9936\t0.9599\t0.9789999723434448\t0.5037000179290771\t0.002199999988079071\t0.00039999998989515007\t21432\n",
      "\n",
      "\u001b[1mDonor:\u001b[0m\n",
      "0.9759\t0.9343\t0.9919\t0.9959\t0.9607\t0.975600004196167\t0.5289999842643738\t0.0017000000225380063\t0.0003000000142492354\t21432\n",
      "epoch: 10/10, val loss = 0.000161\n"
     ]
    },
    {
     "data": {
      "image/png": "[encoded data removed]",
      "text/plain": [
       "<Figure size 432x288 with 1 Axes>"
      ]
     },
     "metadata": {
      "needs_background": "light"
     },
     "output_type": "display_data"
    },
    {
     "name": "stderr",
     "output_type": "stream",
     "text": [
      "Epoch (train) 1/10: 100%|███████████████████████████████████████████████████████| 101/101 [15:39<00:00,  9.30s/it, accepor_recall=0.877, donor_recall=0.89, loss=0.000199, pred_l1_dist=0]\n"
     ]
    },
    {
     "name": "stdout",
     "output_type": "stream",
     "text": [
      "epoch: 1/10, train loss = 0.010644\n"
     ]
    },
    {
     "name": "stderr",
     "output_type": "stream",
     "text": [
      "Epoch (val) 1/10: 100%|███████████████████████████████████████████████████████████| 12/12 [02:30<00:00, 12.51s/it, accepor_recall=0.86, donor_recall=0.813, loss=0.000379, pred_l1_dist=0]\n"
     ]
    },
    {
     "name": "stdout",
     "output_type": "stream",
     "text": [
      "\n",
      "\u001b[1mAcceptor:\u001b[0m\n",
      "0.9676\t0.8617\t0.9662\t0.9833\t0.9124\t0.9824000000953674\t0.4934000074863434\t0.012500000186264515\t0.0017000000225380063\t21432\n",
      "\n",
      "\u001b[1mDonor:\u001b[0m\n",
      "0.9613\t0.8483\t0.9689\t0.9859\t0.9038\t0.9474999904632568\t0.328900009393692\t0.007499999832361937\t0.0008999999845400453\t21432\n",
      "epoch: 1/10, val loss = 0.000326\n"
     ]
    },
    {
     "name": "stderr",
     "output_type": "stream",
     "text": [
      "Epoch (train) 2/10: 100%|████████████████████████████████████████████████████████| 101/101 [15:29<00:00,  9.21s/it, accepor_recall=0.9, donor_recall=0.911, loss=0.000186, pred_l1_dist=0]\n"
     ]
    },
    {
     "name": "stdout",
     "output_type": "stream",
     "text": [
      "epoch: 2/10, train loss = 0.000189\n"
     ]
    },
    {
     "name": "stderr",
     "output_type": "stream",
     "text": [
      "Epoch (val) 2/10: 100%|██████████████████████████████████████████████████████████| 12/12 [02:29<00:00, 12.46s/it, accepor_recall=0.895, donor_recall=0.901, loss=0.000331, pred_l1_dist=0]\n"
     ]
    },
    {
     "name": "stdout",
     "output_type": "stream",
     "text": [
      "\n",
      "\u001b[1mAcceptor:\u001b[0m\n",
      "0.96\t0.868\t0.9715\t0.9858\t0.915\t0.9686999917030334\t0.6639000177383423\t0.029999999329447746\t0.0034000000450760126\t21432\n",
      "\n",
      "\u001b[1mDonor:\u001b[0m\n",
      "0.9686\t0.8813\t0.9805\t0.9922\t0.9294\t0.9764999747276306\t0.6643999814987183\t0.02410000003874302\t0.0026000000070780516\t21432\n",
      "epoch: 2/10, val loss = 0.000293\n"
     ]
    },
    {
     "name": "stderr",
     "output_type": "stream",
     "text": [
      "Epoch (train) 3/10: 100%|██████████████████████████████████████████████████████| 101/101 [15:41<00:00,  9.32s/it, accepor_recall=0.904, donor_recall=0.912, loss=0.000179, pred_l1_dist=0]\n"
     ]
    },
    {
     "name": "stdout",
     "output_type": "stream",
     "text": [
      "epoch: 3/10, train loss = 0.000180\n"
     ]
    },
    {
     "name": "stderr",
     "output_type": "stream",
     "text": [
      "Epoch (val) 3/10: 100%|██████████████████████████████████████████████████████████| 12/12 [02:34<00:00, 12.84s/it, accepor_recall=0.877, donor_recall=0.894, loss=0.000288, pred_l1_dist=0]\n"
     ]
    },
    {
     "name": "stdout",
     "output_type": "stream",
     "text": [
      "\n",
      "\u001b[1mAcceptor:\u001b[0m\n",
      "0.9706\t0.8824\t0.9765\t0.9887\t0.9305\t0.9751999974250793\t0.49869999289512634\t0.012600000016391277\t0.0015999999595806003\t21432\n",
      "\n",
      "\u001b[1mDonor:\u001b[0m\n",
      "0.97\t0.8903\t0.9825\t0.9923\t0.9349\t0.9675999879837036\t0.5256999731063843\t0.011500000022351742\t0.0013000000035390258\t21432\n",
      "epoch: 3/10, val loss = 0.000254\n"
     ]
    },
    {
     "name": "stderr",
     "output_type": "stream",
     "text": [
      "Epoch (train) 4/10: 100%|███████████████████████████████████████████████████████| 101/101 [15:42<00:00,  9.34s/it, accepor_recall=0.919, donor_recall=0.928, loss=0.00015, pred_l1_dist=0]\n"
     ]
    },
    {
     "name": "stdout",
     "output_type": "stream",
     "text": [
      "epoch: 4/10, train loss = 0.000167\n"
     ]
    },
    {
     "name": "stderr",
     "output_type": "stream",
     "text": [
      "Epoch (val) 4/10: 100%|██████████████████████████████████████████████████████████| 12/12 [02:30<00:00, 12.52s/it, accepor_recall=0.909, donor_recall=0.913, loss=0.000237, pred_l1_dist=0]\n"
     ]
    },
    {
     "name": "stdout",
     "output_type": "stream",
     "text": [
      "\n",
      "\u001b[1mAcceptor:\u001b[0m\n",
      "0.974\t0.9118\t0.9852\t0.9922\t0.9456\t0.9704999923706055\t0.5263000130653381\t0.007300000172108412\t0.0013000000035390258\t21432\n",
      "\n",
      "\u001b[1mDonor:\u001b[0m\n",
      "0.971\t0.911\t0.9874\t0.9934\t0.9462\t0.9778000116348267\t0.5903000235557556\t0.008799999952316284\t0.00139999995008111\t21432\n",
      "epoch: 4/10, val loss = 0.000205\n"
     ]
    },
    {
     "name": "stderr",
     "output_type": "stream",
     "text": [
      "Epoch (train) 5/10: 100%|██████████████████████████████████████████████████████| 101/101 [15:36<00:00,  9.27s/it, accepor_recall=0.898, donor_recall=0.906, loss=0.000249, pred_l1_dist=0]\n"
     ]
    },
    {
     "name": "stdout",
     "output_type": "stream",
     "text": [
      "epoch: 5/10, train loss = 0.000154\n"
     ]
    },
    {
     "name": "stderr",
     "output_type": "stream",
     "text": [
      "Epoch (val) 5/10: 100%|████████████████████████████████████████████████████████████| 12/12 [02:32<00:00, 12.72s/it, accepor_recall=0.9, donor_recall=0.902, loss=0.000246, pred_l1_dist=0]\n"
     ]
    },
    {
     "name": "stdout",
     "output_type": "stream",
     "text": [
      "\n",
      "\u001b[1mAcceptor:\u001b[0m\n",
      "0.9735\t0.906\t0.9827\t0.9912\t0.9426\t0.9584000110626221\t0.5577999949455261\t0.004600000102072954\t0.0005000000237487257\t21432\n",
      "\n",
      "\u001b[1mDonor:\u001b[0m\n",
      "0.975\t0.9128\t0.9874\t0.9931\t0.9499\t0.9574999809265137\t0.5162000060081482\t0.002199999988079071\t0.00019999999494757503\t21432\n",
      "epoch: 5/10, val loss = 0.000211\n"
     ]
    },
    {
     "name": "stderr",
     "output_type": "stream",
     "text": [
      "Epoch (train) 6/10: 100%|███████████████████████████████████████████████████████| 101/101 [15:38<00:00,  9.29s/it, accepor_recall=0.927, donor_recall=0.931, loss=0.00017, pred_l1_dist=0]\n"
     ]
    },
    {
     "name": "stdout",
     "output_type": "stream",
     "text": [
      "epoch: 6/10, train loss = 0.000161\n"
     ]
    },
    {
     "name": "stderr",
     "output_type": "stream",
     "text": [
      "Epoch (val) 6/10: 100%|██████████████████████████████████████████████████████████| 12/12 [02:32<00:00, 12.74s/it, accepor_recall=0.841, donor_recall=0.818, loss=0.000281, pred_l1_dist=0]\n"
     ]
    },
    {
     "name": "stdout",
     "output_type": "stream",
     "text": [
      "\n",
      "\u001b[1mAcceptor:\u001b[0m\n",
      "0.9734\t0.9058\t0.9853\t0.9923\t0.9454\t0.9585000276565552\t0.22030000388622284\t0.0026000000070780516\t0.00039999998989515007\t21432\n",
      "\n",
      "\u001b[1mDonor:\u001b[0m\n",
      "0.9718\t0.9112\t0.9888\t0.9947\t0.9478\t0.9239000082015991\t0.17339999973773956\t0.0019000000320374966\t0.0003000000142492354\t21432\n",
      "epoch: 6/10, val loss = 0.000238\n"
     ]
    },
    {
     "name": "stderr",
     "output_type": "stream",
     "text": [
      "Epoch (train) 7/10: 100%|██████████████████████████████████████████████████████| 101/101 [15:45<00:00,  9.36s/it, accepor_recall=0.938, donor_recall=0.945, loss=0.000129, pred_l1_dist=0]\n"
     ]
    },
    {
     "name": "stdout",
     "output_type": "stream",
     "text": [
      "epoch: 7/10, train loss = 0.000139\n"
     ]
    },
    {
     "name": "stderr",
     "output_type": "stream",
     "text": [
      "Epoch (val) 7/10: 100%|███████████████████████████████████████████████████████████| 12/12 [02:29<00:00, 12.48s/it, accepor_recall=0.926, donor_recall=0.928, loss=0.00022, pred_l1_dist=0]\n"
     ]
    },
    {
     "name": "stdout",
     "output_type": "stream",
     "text": [
      "\n",
      "\u001b[1mAcceptor:\u001b[0m\n",
      "0.9743\t0.9234\t0.9872\t0.9923\t0.9538\t0.9868999719619751\t0.6345999836921692\t0.004399999976158142\t0.0006000000284984708\t21432\n",
      "\n",
      "\u001b[1mDonor:\u001b[0m\n",
      "0.9743\t0.9265\t0.9898\t0.9946\t0.9551\t0.9828000068664551\t0.5717999935150146\t0.002099999925121665\t0.0003000000142492354\t21432\n",
      "epoch: 7/10, val loss = 0.000186\n"
     ]
    },
    {
     "name": "stderr",
     "output_type": "stream",
     "text": [
      "Epoch (train) 8/10: 100%|███████████████████████████████████████████████████████| 101/101 [15:39<00:00,  9.30s/it, accepor_recall=0.94, donor_recall=0.944, loss=0.000154, pred_l1_dist=0]\n"
     ]
    },
    {
     "name": "stdout",
     "output_type": "stream",
     "text": [
      "epoch: 8/10, train loss = 0.000123\n"
     ]
    },
    {
     "name": "stderr",
     "output_type": "stream",
     "text": [
      "Epoch (val) 8/10: 100%|██████████████████████████████████████████████████████████| 12/12 [02:33<00:00, 12.75s/it, accepor_recall=0.929, donor_recall=0.931, loss=0.000213, pred_l1_dist=0]\n"
     ]
    },
    {
     "name": "stdout",
     "output_type": "stream",
     "text": [
      "\n",
      "\u001b[1mAcceptor:\u001b[0m\n",
      "0.978\t0.9232\t0.9884\t0.9942\t0.9552\t0.9886000156402588\t0.6384999752044678\t0.005200000014156103\t0.000699999975040555\t21432\n",
      "\n",
      "\u001b[1mDonor:\u001b[0m\n",
      "0.9768\t0.926\t0.9911\t0.9958\t0.9575\t0.9879000186920166\t0.5954999923706055\t0.0027000000700354576\t0.0003000000142492354\t21432\n",
      "epoch: 8/10, val loss = 0.000183\n"
     ]
    },
    {
     "name": "stderr",
     "output_type": "stream",
     "text": [
      "Epoch (train) 9/10: 100%|███████████████████████████████████████████████████████| 101/101 [15:33<00:00,  9.25s/it, accepor_recall=0.95, donor_recall=0.954, loss=0.000131, pred_l1_dist=0]\n"
     ]
    },
    {
     "name": "stdout",
     "output_type": "stream",
     "text": [
      "epoch: 9/10, train loss = 0.000101\n"
     ]
    },
    {
     "name": "stderr",
     "output_type": "stream",
     "text": [
      "Epoch (val) 9/10: 100%|███████████████████████████████████████████████████████████| 12/12 [02:31<00:00, 12.65s/it, accepor_recall=0.912, donor_recall=0.92, loss=0.000202, pred_l1_dist=0]\n"
     ]
    },
    {
     "name": "stdout",
     "output_type": "stream",
     "text": [
      "\n",
      "\u001b[1mAcceptor:\u001b[0m\n",
      "0.979\t0.9277\t0.9882\t0.9937\t0.959\t0.9783999919891357\t0.41530001163482666\t0.0020000000949949026\t0.0003000000142492354\t21432\n",
      "\n",
      "\u001b[1mDonor:\u001b[0m\n",
      "0.9775\t0.9324\t0.992\t0.9957\t0.9607\t0.9786999821662903\t0.42250001430511475\t0.0015999999595806003\t0.00019999999494757503\t21432\n",
      "epoch: 9/10, val loss = 0.000170\n"
     ]
    },
    {
     "name": "stderr",
     "output_type": "stream",
     "text": [
      "Epoch (train) 10/10: 100%|███████████████████████████████████████████████████████| 101/101 [15:28<00:00,  9.19s/it, accepor_recall=0.966, donor_recall=0.97, loss=7.27e-5, pred_l1_dist=0]\n"
     ]
    },
    {
     "name": "stdout",
     "output_type": "stream",
     "text": [
      "epoch: 10/10, train loss = 0.000076\n"
     ]
    },
    {
     "name": "stderr",
     "output_type": "stream",
     "text": [
      "Epoch (val) 10/10: 100%|█████████████████████████████████████████████████████████| 12/12 [02:30<00:00, 12.53s/it, accepor_recall=0.918, donor_recall=0.923, loss=0.000206, pred_l1_dist=0]\n"
     ]
    },
    {
     "name": "stdout",
     "output_type": "stream",
     "text": [
      "\n",
      "\u001b[1mAcceptor:\u001b[0m\n",
      "0.9773\t0.9302\t0.9883\t0.9937\t0.9587\t0.9887999892234802\t0.4975000023841858\t0.0017000000225380063\t0.0003000000142492354\t21432\n",
      "\n",
      "\u001b[1mDonor:\u001b[0m\n",
      "0.976\t0.9338\t0.9911\t0.9952\t0.9589\t0.9905999898910522\t0.4948999881744385\t0.0017000000225380063\t0.00019999999494757503\t21432\n",
      "epoch: 10/10, val loss = 0.000175\n"
     ]
    },
    {
     "data": {
      "image/png": "[encoded data removed]",
      "text/plain": [
       "<Figure size 432x288 with 1 Axes>"
      ]
     },
     "metadata": {
      "needs_background": "light"
     },
     "output_type": "display_data"
    }
   ],
   "source": [
    "device = torch.device(\"cuda\" if torch.cuda.is_available() else \"cpu\")\n",
    "epochs = 10\n",
    "hs = []\n",
    "\n",
    "for model_nr in range(5):\n",
    "    model_m = SpliceFormer(CL_max)\n",
    "    model_m.apply(keras_init)\n",
    "    model_m = model_m.to(device)\n",
    "    if torch.cuda.device_count() > 1:\n",
    "        #print(\"Let's use\", torch.cuda.device_count(), \"GPUs!\")\n",
    "        # dim = 0 [30, xxx] -> [10, ...], [10, ...], [10, ...] on 3 GPUs\n",
    "        model_m = nn.DataParallel(model_m)\n",
    "    \n",
    "    modelFileName = '../Results/PyTorch_Models/transformer_encoder_40k_270522_{}'.format(model_nr)\n",
    "    #model_m.load_state_dict(torch.load('../Results/PyTorch_Models/SpliceAI_Ensembl_dgxtest_{}'.format(0)))\n",
    "    #loss = nn.CrossEntropyLoss(weight=torch.from_numpy(weights).float().to(device),ignore_index=-1,reduction='mean')\n",
    "    loss = categorical_crossentropy_2d().loss\n",
    "    #loss = nn.KLDivLoss()\n",
    "    learning_rate= k*1e-3\n",
    "    optimizer = torch.optim.Adam(model_m.parameters(), lr=learning_rate)\n",
    "    scheduler = torch.optim.lr_scheduler.StepLR(optimizer, step_size=1, gamma=0.5)\n",
    "    warmup = get_constant_schedule_with_warmup(optimizer, num_warmup_steps=1000)\n",
    "    h = trainModel(model_m,modelFileName,loss,train_loader,val_loader,optimizer,scheduler,warmup,BATCH_SIZE,epochs,device)\n",
    "    hs.append(h)\n",
    "\n",
    "    plt.plot(range(epochs),h['loss'],label='Train')\n",
    "    plt.plot(range(epochs),h['val_loss'],label='Validation')\n",
    "    plt.xlabel('Epoch')\n",
    "    plt.ylabel('Loss')\n",
    "    plt.legend()\n",
    "    plt.show()"
   ]
  },
  {
   "cell_type": "code",
   "execution_count": 18,
   "metadata": {},
   "outputs": [
    {
     "name": "stderr",
     "output_type": "stream",
     "text": [
      "Epoch (train) 1/10: 100%|██████████████████████████████████████████████████████| 101/101 [15:28<00:00,  9.19s/it, accepor_recall=0.875, donor_recall=0.888, loss=0.000196, pred_l1_dist=0]\n"
     ]
    },
    {
     "name": "stdout",
     "output_type": "stream",
     "text": [
      "epoch: 1/10, train loss = 0.011708\n"
     ]
    },
    {
     "name": "stderr",
     "output_type": "stream",
     "text": [
      "Epoch (val) 1/10: 100%|██████████████████████████████████████████████████████████| 12/12 [02:24<00:00, 12.06s/it, accepor_recall=0.942, donor_recall=0.941, loss=0.000957, pred_l1_dist=0]\n"
     ]
    },
    {
     "name": "stdout",
     "output_type": "stream",
     "text": [
      "\n",
      "\u001b[1mAcceptor:\u001b[0m\n",
      "0.9418\t0.8073\t0.9458\t0.9793\t0.8651\t0.9853000044822693\t0.9241999983787537\t0.49129998683929443\t0.10350000113248825\t21432\n",
      "\n",
      "\u001b[1mDonor:\u001b[0m\n",
      "0.9392\t0.798\t0.9392\t0.9776\t0.859\t0.9872999787330627\t0.9276000261306763\t0.5001999735832214\t0.0820000022649765\t21432\n",
      "epoch: 1/10, val loss = 0.000956\n"
     ]
    },
    {
     "name": "stderr",
     "output_type": "stream",
     "text": [
      "Epoch (train) 2/10: 100%|███████████████████████████████████████████████████████| 101/101 [15:43<00:00,  9.34s/it, accepor_recall=0.89, donor_recall=0.901, loss=0.000187, pred_l1_dist=0]\n"
     ]
    },
    {
     "name": "stdout",
     "output_type": "stream",
     "text": [
      "epoch: 2/10, train loss = 0.000208\n"
     ]
    },
    {
     "name": "stderr",
     "output_type": "stream",
     "text": [
      "Epoch (val) 2/10: 100%|██████████████████████████████████████████████████████████| 12/12 [02:32<00:00, 12.71s/it, accepor_recall=0.844, donor_recall=0.842, loss=0.000309, pred_l1_dist=0]\n"
     ]
    },
    {
     "name": "stdout",
     "output_type": "stream",
     "text": [
      "\n",
      "\u001b[1mAcceptor:\u001b[0m\n",
      "0.9688\t0.87\t0.9716\t0.9876\t0.9211\t0.9300000071525574\t0.46619999408721924\t0.01850000023841858\t0.002400000113993883\t21432\n",
      "\n",
      "\u001b[1mDonor:\u001b[0m\n",
      "0.9645\t0.8676\t0.9774\t0.9913\t0.9222\t0.9136999845504761\t0.46050000190734863\t0.01590000092983246\t0.0020000000949949026\t21432\n",
      "epoch: 2/10, val loss = 0.000274\n"
     ]
    },
    {
     "name": "stderr",
     "output_type": "stream",
     "text": [
      "Epoch (train) 3/10: 100%|███████████████████████████████████████████████████████| 101/101 [15:28<00:00,  9.19s/it, accepor_recall=0.91, donor_recall=0.915, loss=0.000173, pred_l1_dist=0]\n"
     ]
    },
    {
     "name": "stdout",
     "output_type": "stream",
     "text": [
      "epoch: 3/10, train loss = 0.000190\n"
     ]
    },
    {
     "name": "stderr",
     "output_type": "stream",
     "text": [
      "Epoch (val) 3/10: 100%|██████████████████████████████████████████████████████████| 12/12 [02:24<00:00, 12.01s/it, accepor_recall=0.903, donor_recall=0.898, loss=0.000268, pred_l1_dist=0]\n"
     ]
    },
    {
     "name": "stdout",
     "output_type": "stream",
     "text": [
      "\n",
      "\u001b[1mAcceptor:\u001b[0m\n",
      "0.9717\t0.8947\t0.9808\t0.9901\t0.9371\t0.9786999821662903\t0.5777000188827515\t0.012000000104308128\t0.001500000013038516\t21432\n",
      "\n",
      "\u001b[1mDonor:\u001b[0m\n",
      "0.974\t0.8979\t0.9849\t0.9924\t0.9425\t0.9697999954223633\t0.5234000086784363\t0.011099999770522118\t0.0013000000035390258\t21432\n",
      "epoch: 3/10, val loss = 0.000232\n"
     ]
    },
    {
     "name": "stderr",
     "output_type": "stream",
     "text": [
      "Epoch (train) 4/10: 100%|██████████████████████████████████████████████████████| 101/101 [15:37<00:00,  9.28s/it, accepor_recall=0.918, donor_recall=0.923, loss=0.000155, pred_l1_dist=0]\n"
     ]
    },
    {
     "name": "stdout",
     "output_type": "stream",
     "text": [
      "epoch: 4/10, train loss = 0.000170\n"
     ]
    },
    {
     "name": "stderr",
     "output_type": "stream",
     "text": [
      "Epoch (val) 4/10: 100%|█████████████████████████████████████████████████████████████| 12/12 [02:30<00:00, 12.53s/it, accepor_recall=0.95, donor_recall=0.97, loss=0.00056, pred_l1_dist=0]\n"
     ]
    },
    {
     "name": "stdout",
     "output_type": "stream",
     "text": [
      "\n",
      "\u001b[1mAcceptor:\u001b[0m\n",
      "0.969\t0.8796\t0.9734\t0.9869\t0.9244\t0.9902999997138977\t0.920199990272522\t0.12610000371932983\t0.012500000186264515\t21432\n",
      "\n",
      "\u001b[1mDonor:\u001b[0m\n",
      "0.9727\t0.8934\t0.9804\t0.9918\t0.9363\t0.9955999851226807\t0.9663000106811523\t0.19859999418258667\t0.01730000041425228\t21432\n",
      "epoch: 4/10, val loss = 0.000539\n"
     ]
    },
    {
     "name": "stderr",
     "output_type": "stream",
     "text": [
      "Epoch (train) 5/10: 100%|██████████████████████████████████████████████████████| 101/101 [15:28<00:00,  9.19s/it, accepor_recall=0.927, donor_recall=0.936, loss=0.000133, pred_l1_dist=0]\n"
     ]
    },
    {
     "name": "stdout",
     "output_type": "stream",
     "text": [
      "epoch: 5/10, train loss = 0.000159\n"
     ]
    },
    {
     "name": "stderr",
     "output_type": "stream",
     "text": [
      "Epoch (val) 5/10: 100%|███████████████████████████████████████████████████████████| 12/12 [02:31<00:00, 12.64s/it, accepor_recall=0.86, donor_recall=0.874, loss=0.000255, pred_l1_dist=0]\n"
     ]
    },
    {
     "name": "stdout",
     "output_type": "stream",
     "text": [
      "\n",
      "\u001b[1mAcceptor:\u001b[0m\n",
      "0.9741\t0.9067\t0.9827\t0.9911\t0.9427\t0.9203000068664551\t0.3564999997615814\t0.018200000748038292\t0.0038999998942017555\t21432\n",
      "\n",
      "\u001b[1mDonor:\u001b[0m\n",
      "0.9715\t0.9043\t0.9846\t0.9939\t0.944\t0.9539999961853027\t0.34779998660087585\t0.005799999926239252\t0.000699999975040555\t21432\n",
      "epoch: 5/10, val loss = 0.000223\n"
     ]
    },
    {
     "name": "stderr",
     "output_type": "stream",
     "text": [
      "Epoch (train) 6/10: 100%|██████████████████████████████████████████████████████| 101/101 [15:31<00:00,  9.22s/it, accepor_recall=0.935, donor_recall=0.942, loss=0.000152, pred_l1_dist=0]\n"
     ]
    },
    {
     "name": "stdout",
     "output_type": "stream",
     "text": [
      "epoch: 6/10, train loss = 0.000139\n"
     ]
    },
    {
     "name": "stderr",
     "output_type": "stream",
     "text": [
      "Epoch (val) 6/10: 100%|███████████████████████████████████████████████████████████| 12/12 [02:28<00:00, 12.40s/it, accepor_recall=0.902, donor_recall=0.93, loss=0.000224, pred_l1_dist=0]\n"
     ]
    },
    {
     "name": "stdout",
     "output_type": "stream",
     "text": [
      "\n",
      "\u001b[1mAcceptor:\u001b[0m\n",
      "0.9713\t0.9194\t0.9863\t0.9909\t0.9486\t0.9413999915122986\t0.3885999917984009\t0.0015999999595806003\t0.0003000000142492354\t21432\n",
      "\n",
      "\u001b[1mDonor:\u001b[0m\n",
      "0.9713\t0.9217\t0.9913\t0.9954\t0.9522\t0.9764000177383423\t0.6107000112533569\t0.0024999999441206455\t0.0003000000142492354\t21432\n",
      "epoch: 6/10, val loss = 0.000196\n"
     ]
    },
    {
     "name": "stderr",
     "output_type": "stream",
     "text": [
      "Epoch (train) 7/10: 100%|██████████████████████████████████████████████████████| 101/101 [15:41<00:00,  9.32s/it, accepor_recall=0.939, donor_recall=0.944, loss=0.000136, pred_l1_dist=0]\n"
     ]
    },
    {
     "name": "stdout",
     "output_type": "stream",
     "text": [
      "epoch: 7/10, train loss = 0.000133\n"
     ]
    },
    {
     "name": "stderr",
     "output_type": "stream",
     "text": [
      "Epoch (val) 7/10: 100%|██████████████████████████████████████████████████████████| 12/12 [02:34<00:00, 12.85s/it, accepor_recall=0.929, donor_recall=0.927, loss=0.000215, pred_l1_dist=0]\n"
     ]
    },
    {
     "name": "stdout",
     "output_type": "stream",
     "text": [
      "\n",
      "\u001b[1mAcceptor:\u001b[0m\n",
      "0.9784\t0.9243\t0.9882\t0.9927\t0.9553\t0.9848999977111816\t0.6470999717712402\t0.004399999976158142\t0.0006000000284984708\t21432\n",
      "\n",
      "\u001b[1mDonor:\u001b[0m\n",
      "0.9744\t0.9244\t0.9895\t0.9934\t0.9547\t0.982200026512146\t0.6229000091552734\t0.0035000001080334187\t0.0005000000237487257\t21432\n",
      "epoch: 7/10, val loss = 0.000184\n"
     ]
    },
    {
     "name": "stderr",
     "output_type": "stream",
     "text": [
      "Epoch (train) 8/10: 100%|███████████████████████████████████████████████████████| 101/101 [15:46<00:00,  9.37s/it, accepor_recall=0.955, donor_recall=0.958, loss=0.00011, pred_l1_dist=0]\n"
     ]
    },
    {
     "name": "stdout",
     "output_type": "stream",
     "text": [
      "epoch: 8/10, train loss = 0.000111\n"
     ]
    },
    {
     "name": "stderr",
     "output_type": "stream",
     "text": [
      "Epoch (val) 8/10: 100%|██████████████████████████████████████████████████████████| 12/12 [02:24<00:00, 12.06s/it, accepor_recall=0.932, donor_recall=0.931, loss=0.000209, pred_l1_dist=0]\n"
     ]
    },
    {
     "name": "stdout",
     "output_type": "stream",
     "text": [
      "\n",
      "\u001b[1mAcceptor:\u001b[0m\n",
      "0.9782\t0.9233\t0.9873\t0.9935\t0.9547\t0.9710999727249146\t0.6930000185966492\t0.007199999876320362\t0.0012000000569969416\t21432\n",
      "\n",
      "\u001b[1mDonor:\u001b[0m\n",
      "0.9734\t0.9272\t0.9906\t0.9958\t0.9566\t0.9733999967575073\t0.5860000252723694\t0.00430000014603138\t0.0006000000284984708\t21432\n",
      "epoch: 8/10, val loss = 0.000177\n"
     ]
    },
    {
     "name": "stderr",
     "output_type": "stream",
     "text": [
      "Epoch (train) 9/10: 100%|███████████████████████████████████████████████████████| 101/101 [15:38<00:00,  9.29s/it, accepor_recall=0.95, donor_recall=0.953, loss=0.000151, pred_l1_dist=0]\n"
     ]
    },
    {
     "name": "stdout",
     "output_type": "stream",
     "text": [
      "epoch: 9/10, train loss = 0.000107\n"
     ]
    },
    {
     "name": "stderr",
     "output_type": "stream",
     "text": [
      "Epoch (val) 9/10: 100%|██████████████████████████████████████████████████████████| 12/12 [02:27<00:00, 12.30s/it, accepor_recall=0.924, donor_recall=0.929, loss=0.000195, pred_l1_dist=0]\n"
     ]
    },
    {
     "name": "stdout",
     "output_type": "stream",
     "text": [
      "\n",
      "\u001b[1mAcceptor:\u001b[0m\n",
      "0.9751\t0.9297\t0.9883\t0.993\t0.9579\t0.9789000153541565\t0.5577999949455261\t0.003000000026077032\t0.0005000000237487257\t21432\n",
      "\n",
      "\u001b[1mDonor:\u001b[0m\n",
      "0.9761\t0.9324\t0.9919\t0.996\t0.9607\t0.9818000197410583\t0.5490000247955322\t0.002300000051036477\t0.0003000000142492354\t21432\n",
      "epoch: 9/10, val loss = 0.000168\n"
     ]
    },
    {
     "name": "stderr",
     "output_type": "stream",
     "text": [
      "Epoch (train) 10/10: 100%|███████████████████████████████████████████████████████| 101/101 [15:38<00:00,  9.29s/it, accepor_recall=0.964, donor_recall=0.968, loss=8.3e-5, pred_l1_dist=0]\n"
     ]
    },
    {
     "name": "stdout",
     "output_type": "stream",
     "text": [
      "epoch: 10/10, train loss = 0.000099\n"
     ]
    },
    {
     "name": "stderr",
     "output_type": "stream",
     "text": [
      "Epoch (val) 10/10: 100%|██████████████████████████████████████████████████████████| 12/12 [02:27<00:00, 12.26s/it, accepor_recall=0.91, donor_recall=0.919, loss=0.000203, pred_l1_dist=0]\n"
     ]
    },
    {
     "name": "stdout",
     "output_type": "stream",
     "text": [
      "\n",
      "\u001b[1mAcceptor:\u001b[0m\n",
      "0.978\t0.9307\t0.9881\t0.9928\t0.9591\t0.9832000136375427\t0.40400001406669617\t0.00139999995008111\t0.0003000000142492354\t21432\n",
      "\n",
      "\u001b[1mDonor:\u001b[0m\n",
      "0.9772\t0.9342\t0.9913\t0.9958\t0.9612\t0.9796000123023987\t0.41850000619888306\t0.001500000013038516\t0.00019999999494757503\t21432\n",
      "epoch: 10/10, val loss = 0.000171\n"
     ]
    },
    {
     "data": {
      "image/png": "[encoded data removed]",
      "text/plain": [
       "<Figure size 432x288 with 1 Axes>"
      ]
     },
     "metadata": {
      "needs_background": "light"
     },
     "output_type": "display_data"
    }
   ],
   "source": [
    "device = torch.device(\"cuda\" if torch.cuda.is_available() else \"cpu\")\n",
    "epochs = 10\n",
    "hs = []\n",
    "\n",
    "model_nr = 4\n",
    "model_m = SpliceFormer(CL_max)\n",
    "model_m.apply(keras_init)\n",
    "model_m = model_m.to(device)\n",
    "if torch.cuda.device_count() > 1:\n",
    "    #print(\"Let's use\", torch.cuda.device_count(), \"GPUs!\")\n",
    "    # dim = 0 [30, xxx] -> [10, ...], [10, ...], [10, ...] on 3 GPUs\n",
    "    model_m = nn.DataParallel(model_m)\n",
    "\n",
    "modelFileName = '../Results/PyTorch_Models/transformer_encoder_40k_270522_{}'.format(model_nr)\n",
    "#model_m.load_state_dict(torch.load('../Results/PyTorch_Models/SpliceAI_Ensembl_dgxtest_{}'.format(0)))\n",
    "#loss = nn.CrossEntropyLoss(weight=torch.from_numpy(weights).float().to(device),ignore_index=-1,reduction='mean')\n",
    "loss = categorical_crossentropy_2d().loss\n",
    "#loss = nn.KLDivLoss()\n",
    "learning_rate= k*1e-3\n",
    "optimizer = torch.optim.Adam(model_m.parameters(), lr=learning_rate)\n",
    "scheduler = torch.optim.lr_scheduler.StepLR(optimizer, step_size=1, gamma=0.5)\n",
    "warmup = get_constant_schedule_with_warmup(optimizer, num_warmup_steps=1000)\n",
    "h = trainModel(model_m,modelFileName,loss,train_loader,val_loader,optimizer,scheduler,warmup,BATCH_SIZE,epochs,device)\n",
    "hs.append(h)\n",
    "\n",
    "plt.plot(range(epochs),h['loss'],label='Train')\n",
    "plt.plot(range(epochs),h['val_loss'],label='Validation')\n",
    "plt.xlabel('Epoch')\n",
    "plt.ylabel('Loss')\n",
    "plt.legend()\n",
    "plt.show()"
   ]
  },
  {
   "cell_type": "code",
   "execution_count": 11,
   "metadata": {},
   "outputs": [
    {
     "name": "stderr",
     "output_type": "stream",
     "text": [
      "100%|███████████████████████████████████████████████████████████████████████████████████████████████████████████████████| 17/17 [07:29<00:00, 26.46s/it]\n"
     ]
    }
   ],
   "source": [
    "device = torch.device(\"cuda\" if torch.cuda.is_available() else \"cpu\")\n",
    "h5f = h5py.File('/odinn/tmp/benediktj/Data/SplicePrediction/gencode_40k_dataset_test_.h5')\n",
    "\n",
    "num_idx = len(h5f.keys())//2\n",
    "\n",
    "test_dataset = h5pyDataset(h5f,list(range(num_idx)))\n",
    "test_loader = torch.utils.data.DataLoader(test_dataset, batch_size=1, shuffle=False, num_workers=0)\n",
    "\n",
    "temp = 1\n",
    "n_models = 5\n",
    "device = torch.device(\"cuda\" if torch.cuda.is_available() else \"cpu\")\n",
    "model_m = SpliceFormer(CL_max)\n",
    "model_m.apply(keras_init)\n",
    "model_m = model_m.to(device)\n",
    "\n",
    "if torch.cuda.device_count() > 1:\n",
    "    model_m = nn.DataParallel(model_m)\n",
    "\n",
    "output_class_labels = ['Null', 'Acceptor', 'Donor']\n",
    "\n",
    "#for output_class in [1,2]:\n",
    "models = [copy.deepcopy(model_m) for i in range(n_models)]\n",
    "[model.load_state_dict(torch.load('../Results/PyTorch_Models/transformer_encoder_40k_270522_{}'.format(i))) for i,model in enumerate(models)]\n",
    "\n",
    "for model in models:\n",
    "    model.eval()\n",
    "    \n",
    "Y_true_acceptor, Y_pred_acceptor = [],[]\n",
    "Y_true_donor, Y_pred_donor = [],[]\n",
    "ce_2d = []\n",
    "\n",
    "for (batch_chunks,target_chunks) in tqdm(test_loader):\n",
    "    batch_chunks = torch.transpose(batch_chunks[0].to(device),1,2)\n",
    "    target_chunks = torch.transpose(torch.squeeze(target_chunks[0].to(device),0),1,2)\n",
    "    #print(np.max(target_chunks.cpu().numpy()[:,2,:]))\n",
    "    n_chunks = int(np.ceil(batch_chunks.shape[0]/BATCH_SIZE))\n",
    "    batch_chunks = torch.chunk(batch_chunks, n_chunks, dim=0)\n",
    "    target_chunks = torch.chunk(target_chunks, n_chunks, dim=0)\n",
    "    targets_list = []\n",
    "    outputs_list = []\n",
    "    for j in range(len(batch_chunks)):\n",
    "        batch_features = batch_chunks[j]\n",
    "        targets = target_chunks[j]\n",
    "        outputs = ([models[i](batch_features)[1].detach() for i in range(n_models)])\n",
    "        outputs = (outputs[0]+outputs[1]+outputs[2]+outputs[3]+outputs[4])/n_models\n",
    "        #outputs = (outputs[0]+outputs[1]+outputs[2])/n_models\n",
    "        targets_list.extend(targets.unsqueeze(0))\n",
    "        outputs_list.extend(outputs.unsqueeze(0))\n",
    "\n",
    "    targets = torch.transpose(torch.vstack(targets_list),1,2).cpu().numpy()\n",
    "    outputs = torch.transpose(torch.vstack(outputs_list),1,2).cpu().numpy()\n",
    "    ce_2d.append(cross_entropy_2d(targets,outputs))\n",
    "\n",
    "    is_expr = (targets.sum(axis=(1,2)) >= 1)\n",
    "    Y_true_acceptor.extend(targets[is_expr, :, 1].flatten())\n",
    "    Y_true_donor.extend(targets[is_expr, :, 2].flatten())\n",
    "    Y_pred_acceptor.extend(outputs[is_expr, :, 1].flatten())\n",
    "    Y_pred_donor.extend(outputs[is_expr, :, 2].flatten())"
   ]
  },
  {
   "cell_type": "code",
   "execution_count": 12,
   "metadata": {},
   "outputs": [
    {
     "name": "stdout",
     "output_type": "stream",
     "text": [
      "Cross entropy = 0.0002298722688688568\n",
      "\n",
      "\u001b[1mAcceptor:\u001b[0m\n",
      "0.9954\t0.9493\t0.9882\t0.9913\t0.9775\t0.9716\t0.3260\t0.0029\t0.0005\t13565\t14289.0\t14289\n",
      "\n",
      "\u001b[1mDonor:\u001b[0m\n",
      "0.9958\t0.9532\t0.9903\t0.9924\t0.98\t0.9690\t0.3290\t0.0023\t0.0003\t13620\t14289.0\t14289\n"
     ]
    }
   ],
   "source": [
    "mean_ce = np.mean(ce_2d)\n",
    "print('Cross entropy = {}'.format(mean_ce))\n",
    "Y_true_acceptor, Y_pred_acceptor,Y_true_donor, Y_pred_donor = np.array(Y_true_acceptor), np.array(Y_pred_acceptor),np.array(Y_true_donor), np.array(Y_pred_donor)\n",
    "print(\"\\n\\033[1m{}:\\033[0m\".format('Acceptor'))\n",
    "acceptor_val_results = print_topl_statistics(Y_true_acceptor, Y_pred_acceptor)\n",
    "print(\"\\n\\033[1m{}:\\033[0m\".format('Donor'))\n",
    "donor_val_results =print_topl_statistics(Y_true_donor, Y_pred_donor)"
   ]
  },
  {
   "cell_type": "code",
   "execution_count": 13,
   "metadata": {},
   "outputs": [],
   "source": [
    "setType = 'test'\n",
    "annotation_test, transcriptToLabel_test, seqData = getData(data_dir, setType)    \n"
   ]
  },
  {
   "cell_type": "code",
   "execution_count": 14,
   "metadata": {
    "scrolled": true
   },
   "outputs": [
    {
     "name": "stderr",
     "output_type": "stream",
     "text": [
      "100%|█████████████████████████████████████████████████████████████████████████████████████████████████████████████████| 90/90 [1:20:06<00:00, 53.40s/it]\n"
     ]
    }
   ],
   "source": [
    "temp = 1\n",
    "n_models = 5\n",
    "device = torch.device(\"cuda\" if torch.cuda.is_available() else \"cpu\")\n",
    "model_m = SpliceFormer(CL_max)\n",
    "model_m.apply(keras_init)\n",
    "model_m = model_m.to(device)\n",
    "\n",
    "if torch.cuda.device_count() > 1:\n",
    "    model_m = nn.DataParallel(model_m)\n",
    "\n",
    "output_class_labels = ['Null', 'Acceptor', 'Donor']\n",
    "\n",
    "#for output_class in [1,2]:\n",
    "models = [copy.deepcopy(model_m) for i in range(n_models)]\n",
    "[model.load_state_dict(torch.load('../Results/PyTorch_Models/transformer_encoder_40k_270522_{}'.format(i))) for i,model in enumerate(models)]\n",
    "#nr = [0,2,3]\n",
    "#[model.load_state_dict(torch.load('../Results/PyTorch_Models/transformer_encoder_40k_201221_{}'.format(nr[i]))) for i,model in enumerate(models)]\n",
    "#chunkSize = num_idx/10\n",
    "for model in models:\n",
    "    model.eval()\n",
    "\n",
    "Y_true_acceptor, Y_pred_acceptor = [],[]\n",
    "Y_true_donor, Y_pred_donor = [],[]\n",
    "test_dataset = spliceDataset(annotation_test,transcriptToLabel_test,SL,CL_max)\n",
    "test_dataset.seqData = seqData\n",
    "test_loader = torch.utils.data.DataLoader(test_dataset, batch_size=100, shuffle=False, num_workers=0,collate_fn=collate_fn, pin_memory=True)\n",
    "ce_2d = []\n",
    "\n",
    "for (batch_chunks,target_chunks) in tqdm(test_loader):\n",
    "    batch_chunks = torch.transpose(batch_chunks.to(device),1,2)\n",
    "    target_chunks = torch.transpose(torch.squeeze(target_chunks.to(device),0),1,2)\n",
    "    batch_chunks = torch.split(batch_chunks, BATCH_SIZE, dim=0)\n",
    "    target_chunks = torch.split(target_chunks, BATCH_SIZE, dim=0)\n",
    "    targets_list = []\n",
    "    outputs_list = []\n",
    "    for j in range(len(batch_chunks)):\n",
    "        batch_features = batch_chunks[j]\n",
    "        targets = target_chunks[j]\n",
    "        outputs = ([models[i](batch_features)[1].detach() for i in range(n_models)])\n",
    "        outputs = (outputs[0]+outputs[1]+outputs[2]+outputs[3]+outputs[4])/n_models\n",
    "        #outputs = (outputs[0]+outputs[1]+outputs[2])/n_models\n",
    "        targets_list.extend(targets.unsqueeze(0))\n",
    "        outputs_list.extend(outputs.unsqueeze(0))\n",
    "\n",
    "    targets = torch.transpose(torch.vstack(targets_list),1,2).cpu().numpy()\n",
    "    outputs = torch.transpose(torch.vstack(outputs_list),1,2).cpu().numpy()\n",
    "    ce_2d.append(cross_entropy_2d(targets,outputs))\n",
    "    \n",
    "    is_expr = (targets.sum(axis=(1,2)) >= 1)\n",
    "    Y_true_acceptor.extend(targets[is_expr, :, 1].flatten())\n",
    "    Y_true_donor.extend(targets[is_expr, :, 2].flatten())\n",
    "    Y_pred_acceptor.extend(outputs[is_expr, :, 1].flatten())\n",
    "    Y_pred_donor.extend(outputs[is_expr, :, 2].flatten())\n",
    "\n"
   ]
  },
  {
   "cell_type": "code",
   "execution_count": 15,
   "metadata": {},
   "outputs": [
    {
     "name": "stdout",
     "output_type": "stream",
     "text": [
      "Cross entropy = 0.00013624270119812795\n",
      "\n",
      "\u001b[1mAcceptor:\u001b[0m\n",
      "0.9818\t0.9406\t0.9917\t0.996\t0.9673\t0.9750\t0.4384\t0.0027\t0.0004\t84381\t89712.0\t89712\n",
      "\n",
      "\u001b[1mDonor:\u001b[0m\n",
      "0.9818\t0.9442\t0.9943\t0.9972\t0.9706\t0.9722\t0.4672\t0.0022\t0.0003\t84710\t89712.0\t89712\n"
     ]
    }
   ],
   "source": [
    "mean_ce = np.mean(ce_2d)\n",
    "print('Cross entropy = {}'.format(mean_ce))\n",
    "Y_true_acceptor, Y_pred_acceptor,Y_true_donor, Y_pred_donor = np.array(Y_true_acceptor), np.array(Y_pred_acceptor),np.array(Y_true_donor), np.array(Y_pred_donor)\n",
    "print(\"\\n\\033[1m{}:\\033[0m\".format('Acceptor'))\n",
    "acceptor_val_results = print_topl_statistics(Y_true_acceptor, Y_pred_acceptor)\n",
    "print(\"\\n\\033[1m{}:\\033[0m\".format('Donor'))\n",
    "donor_val_results =print_topl_statistics(Y_true_donor, Y_pred_donor)"
   ]
  },
  {
   "cell_type": "code",
   "execution_count": 3,
   "metadata": {},
   "outputs": [
    {
     "data": {
      "text/plain": [
       "10333"
      ]
     },
     "execution_count": 3,
     "metadata": {},
     "output_type": "execute_result"
    }
   ],
   "source": [
    "(2*89712)-(84381+84710)"
   ]
  },
  {
   "cell_type": "code",
   "execution_count": 4,
   "metadata": {},
   "outputs": [
    {
     "data": {
      "text/plain": [
       "179424"
      ]
     },
     "execution_count": 4,
     "metadata": {},
     "output_type": "execute_result"
    }
   ],
   "source": [
    "2*89712"
   ]
  },
  {
   "cell_type": "code",
   "execution_count": 5,
   "metadata": {},
   "outputs": [
    {
     "data": {
      "text/plain": [
       "169091"
      ]
     },
     "execution_count": 5,
     "metadata": {},
     "output_type": "execute_result"
    }
   ],
   "source": [
    "84381+84710"
   ]
  },
  {
   "cell_type": "code",
   "execution_count": null,
   "metadata": {},
   "outputs": [],
   "source": []
  }
 ],
 "metadata": {
  "kernelspec": {
   "display_name": "Python 3 (ipykernel)",
   "language": "python",
   "name": "python3"
  },
  "language_info": {
   "codemirror_mode": {
    "name": "ipython",
    "version": 3
   },
   "file_extension": ".py",
   "mimetype": "text/x-python",
   "name": "python",
   "nbconvert_exporter": "python",
   "pygments_lexer": "ipython3",
   "version": "3.8.12"
  }
 },
 "nbformat": 4,
 "nbformat_minor": 4
}
