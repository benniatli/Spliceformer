{
 "cells": [
  {
   "cell_type": "code",
   "execution_count": 1,
   "id": "8ab82527",
   "metadata": {},
   "outputs": [
    {
     "name": "stderr",
     "output_type": "stream",
     "text": [
      "/home/benediktj/Python3.9.1/lib/python3.9/site-packages/scipy/__init__.py:146: UserWarning: A NumPy version >=1.16.5 and <1.23.0 is required for this version of SciPy (detected version 1.23.1\n",
      "  warnings.warn(f\"A NumPy version >={np_minversion} and <{np_maxversion}\"\n"
     ]
    }
   ],
   "source": [
    "import numpy as np\n",
    "import pandas as pd\n",
    "from scipy.stats import gmean\n",
    "from tqdm import tqdm\n",
    "import gffutils\n",
    "import os.path\n",
    "#from liftover import ChainFile\n",
    "from collections import defaultdict\n",
    "from math import ceil\n",
    "import pyfastx\n",
    "import re\n",
    "from scipy.sparse.csgraph import connected_components\n",
    "from glob import glob\n",
    "from scipy.sparse import lil_matrix,csr_matrix,coo_matrix,dok_matrix, save_npz\n",
    "import pickle"
   ]
  },
  {
   "cell_type": "code",
   "execution_count": 5,
   "id": "24bc9c33",
   "metadata": {},
   "outputs": [],
   "source": [
    "data_dir = '/odinn/tmp/benediktj/Data/SplicePrediction-rnasplice-blood'\n",
    "with open('{}/gene_to_label.pickle'.format(data_dir), 'rb') as handle:\n",
    "    labels = pickle.load(handle)"
   ]
  },
  {
   "cell_type": "code",
   "execution_count": 12,
   "id": "4f20cd75",
   "metadata": {},
   "outputs": [],
   "source": [
    "c = 0\n",
    "for key in labels.keys():\n",
    "    c += len(labels[key][0])+len(labels[key][1])"
   ]
  },
  {
   "cell_type": "code",
   "execution_count": 13,
   "id": "68861401",
   "metadata": {},
   "outputs": [
    {
     "data": {
      "text/plain": [
       "475190"
      ]
     },
     "execution_count": 13,
     "metadata": {},
     "output_type": "execute_result"
    }
   ],
   "source": [
    "c"
   ]
  },
  {
   "cell_type": "code",
   "execution_count": 14,
   "id": "43b4d266",
   "metadata": {},
   "outputs": [],
   "source": [
    "data_dir = '/odinn/tmp/benediktj/Data/SplicePrediction-GTEX-V8/'\n",
    "with open('{}/gene_to_label.pickle'.format(data_dir), 'rb') as handle:\n",
    "    labels = pickle.load(handle)"
   ]
  },
  {
   "cell_type": "code",
   "execution_count": 16,
   "id": "d1a2f8f3",
   "metadata": {},
   "outputs": [
    {
     "data": {
      "text/plain": [
       "622031"
      ]
     },
     "execution_count": 16,
     "metadata": {},
     "output_type": "execute_result"
    }
   ],
   "source": [
    "c = 0\n",
    "for key in labels.keys():\n",
    "    c += len(labels[key][0])+len(labels[key][1])\n",
    "c"
   ]
  },
  {
   "cell_type": "code",
   "execution_count": 3,
   "id": "961b48ee",
   "metadata": {},
   "outputs": [],
   "source": [
    "gtf_gencode = gffutils.FeatureDB('/odinn/tmp/benediktj/Data/SplicePrediction-GTEX-V8/gencode.v42.annotation.db')\n",
    "#fasta = pyfastx.Fasta('/odinn/tmp/benediktj/Data/SplicePrediction-GTEX-V8/GRCh38.p13.genome.fa')"
   ]
  },
  {
   "cell_type": "code",
   "execution_count": 6,
   "id": "a1a47ed9",
   "metadata": {},
   "outputs": [
    {
     "name": "stderr",
     "output_type": "stream",
     "text": [
      "252416it [07:06, 591.42it/s] \n"
     ]
    }
   ],
   "source": [
    "transcripts = gtf_gencode.features_of_type('transcript')\n",
    "#gene_to_label = {}\n",
    "#save_seq = True\n",
    "prev_chrom = 'chr1'\n",
    "#leaf_cutter_junctions = getCombinedLeafCutterDF(prev_chrom,chrmToLeafcutterFiles)\n",
    "#gene_ids_containing_junction = leaf_cutter_junctions['Gene_id'].apply(lambda x: x.split(',')).values\n",
    "i=0\n",
    "for transcript in tqdm(transcripts): \n",
    "    chrom,gene_start,gene_end,strand,gene_id,transcript_id,gene_type,gene_name,level = transcript[0],transcript[3],transcript[4],transcript[6],transcript[8]['gene_id'][0],transcript[8]['transcript_id'][0],transcript[8]['gene_type'][0],transcript[8]['gene_name'][0],transcript[8]['level'][0]\n",
    "    \n",
    "    try:\n",
    "        cond1 = 'Ensembl_canonical' in transcript[8]['tag']\n",
    "\n",
    "        cond2 = gene_type=='protein_coding'\n",
    "        cond3 = int(level)<3\n",
    "        #if cond1 and cond2 and cond3:\n",
    "            #intron_junctions = getJunctions(gtf_gencode,transcript,strand)\n",
    "            #junction_starts = defaultdict(int)\n",
    "            #junction_ends = defaultdict(int)\n",
    "        if cond1 and cond2 and cond3:\n",
    "            i+=1\n",
    "    except:\n",
    "        pass"
   ]
  },
  {
   "cell_type": "code",
   "execution_count": 7,
   "id": "7fd0e322",
   "metadata": {},
   "outputs": [
    {
     "data": {
      "text/plain": [
       "20006"
      ]
     },
     "execution_count": 7,
     "metadata": {},
     "output_type": "execute_result"
    }
   ],
   "source": [
    "i"
   ]
  },
  {
   "cell_type": "code",
   "execution_count": 8,
   "id": "76cec7f8",
   "metadata": {},
   "outputs": [],
   "source": [
    "def create_datapoints(seq, strand, tx_start, tx_end):\n",
    "    # This function first converts the sequence into an integer array, where\n",
    "    # A, C, G, T, Missing are mapped to 1, 2, 3, 4, 5 respectively. If the strand is\n",
    "    # negative, then reverse complementing is done. . It then calls reformat_data and one_hot_encode\n",
    "\n",
    "    seq = seq.upper()\n",
    "    seq = re.sub(r'[^AGTC]', '5',seq)\n",
    "    seq = seq.replace('A', '1').replace('C', '2')\n",
    "    seq = seq.replace('G', '3').replace('T', '4')\n",
    "\n",
    "    tx_start = int(tx_start)\n",
    "    tx_end = int(tx_end) \n",
    "\n",
    "    Y_idx = []\n",
    "    \n",
    "    X0 = np.asarray([int(x) for x in seq])\n",
    "\n",
    "    X = one_hot_encode(X0)\n",
    "\n",
    "    return X\n",
    "\n",
    "def ceil_div(x, y):\n",
    "    return int(ceil(float(x)/y))\n",
    "\n",
    "\n",
    "IN_MAP = np.asarray([[0, 0, 0, 0,0],\n",
    "                     [1, 0, 0, 0,0],\n",
    "                     [0, 1, 0, 0,0],\n",
    "                     [0, 0, 1, 0,0],\n",
    "                     [0, 0, 0, 1,0],\n",
    "                    [0, 0, 0, 0,1]])\n",
    "# One-hot encoding of the inputs: 0 is for padding, and 1, 2, 3, 4 correspond\n",
    "# to A, C, G, T, Missing respectively.\n",
    "\n",
    "OUT_MAP = np.asarray([[1, 0, 0],\n",
    "                      [0, 1, 0],\n",
    "                      [0, 0, 1],\n",
    "                      [0, 0, 0]])\n",
    "\n",
    "def one_hot_encode(Xd):\n",
    "    return IN_MAP[Xd.astype('int8')]\n",
    "\n",
    "def getJunctions(gtf,transcript,strand):\n",
    "    #transcript = gtf[transcript_id.split('.')[0]]\n",
    "    exon_junctions = []\n",
    "    tx_start = int(transcript[3])\n",
    "    tx_end = int(transcript[4])\n",
    "    exons = gtf.children(transcript, featuretype=\"exon\")\n",
    "    for exon in exons:\n",
    "        exon_start = int(exon[3])\n",
    "        exon_end = int(exon[4])\n",
    "        exon_junctions.append((exon_start,exon_end))\n",
    "\n",
    "    intron_junctions = []\n",
    "\n",
    "    if strand=='+':\n",
    "        intron_start = exon_junctions[0][1]\n",
    "        for i,exon_junction in enumerate(exon_junctions[1:]):\n",
    "            intron_end = exon_junction[0]\n",
    "            intron_junctions.append((intron_start,intron_end))\n",
    "            if i+1 != len(exon_junctions[1:]):\n",
    "                intron_start = exon_junction[1]\n",
    "\n",
    "    elif strand=='-':\n",
    "        exon_junctions.reverse()\n",
    "        intron_start = exon_junctions[0][1]\n",
    "        for i,exon_junction in enumerate(exon_junctions[1:]):\n",
    "            intron_end = exon_junction[0]\n",
    "            intron_junctions.append((intron_start,intron_end))\n",
    "            if i+1 != len(exon_junctions[1:]):\n",
    "                intron_start = exon_junction[1]\n",
    "\n",
    "    return np.array(intron_junctions)"
   ]
  },
  {
   "cell_type": "code",
   "execution_count": 9,
   "id": "dc6af72b",
   "metadata": {},
   "outputs": [
    {
     "name": "stderr",
     "output_type": "stream",
     "text": [
      "252416it [03:53, 1082.38it/s]\n"
     ]
    }
   ],
   "source": [
    "transcripts = gtf_gencode.features_of_type('transcript')\n",
    "#gene_to_label = {}\n",
    "#save_seq = True\n",
    "prev_chrom = 'chr1'\n",
    "#leaf_cutter_junctions = getCombinedLeafCutterDF(prev_chrom,chrmToLeafcutterFiles)\n",
    "#gene_ids_containing_junction = leaf_cutter_junctions['Gene_id'].apply(lambda x: x.split(',')).values\n",
    "i=0\n",
    "for transcript in tqdm(transcripts): \n",
    "    chrom,gene_start,gene_end,strand,gene_id,transcript_id,gene_type,gene_name,level = transcript[0],transcript[3],transcript[4],transcript[6],transcript[8]['gene_id'][0],transcript[8]['transcript_id'][0],transcript[8]['gene_type'][0],transcript[8]['gene_name'][0],transcript[8]['level'][0]\n",
    "    \n",
    "    try:\n",
    "        cond1 = 'Ensembl_canonical' in transcript[8]['tag']\n",
    "\n",
    "        cond2 = gene_type=='protein_coding'\n",
    "        cond3 = int(level)<3\n",
    "        #if cond1 and cond2 and cond3:\n",
    "            #intron_junctions = getJunctions(gtf_gencode,transcript,strand)\n",
    "            #junction_starts = defaultdict(int)\n",
    "            #junction_ends = defaultdict(int)\n",
    "        if cond1 and cond2 and cond3:\n",
    "            intron_junctions = getJunctions(gtf_gencode,transcript,strand)\n",
    "\n",
    "            if len(intron_junctions>0):\n",
    "                i+=1\n",
    "    except:\n",
    "        pass"
   ]
  },
  {
   "cell_type": "code",
   "execution_count": 11,
   "id": "a5f37687",
   "metadata": {},
   "outputs": [
    {
     "data": {
      "text/plain": [
       "18887"
      ]
     },
     "execution_count": 11,
     "metadata": {},
     "output_type": "execute_result"
    }
   ],
   "source": [
    "i"
   ]
  },
  {
   "cell_type": "code",
   "execution_count": 16,
   "id": "835d1cec",
   "metadata": {},
   "outputs": [
    {
     "ename": "KeyError",
     "evalue": "'tag'",
     "output_type": "error",
     "traceback": [
      "\u001b[0;31m---------------------------------------------------------------------------\u001b[0m",
      "\u001b[0;31mKeyError\u001b[0m                                  Traceback (most recent call last)",
      "\u001b[0;32m/tmp/ipykernel_17289/2128769893.py\u001b[0m in \u001b[0;36m<module>\u001b[0;34m\u001b[0m\n\u001b[0;32m----> 1\u001b[0;31m \u001b[0mgtf_gencode\u001b[0m\u001b[0;34m[\u001b[0m\u001b[0;34m'ENST00000490313.1'\u001b[0m\u001b[0;34m]\u001b[0m\u001b[0;34m[\u001b[0m\u001b[0;36m8\u001b[0m\u001b[0;34m]\u001b[0m\u001b[0;34m[\u001b[0m\u001b[0;34m'tag'\u001b[0m\u001b[0;34m]\u001b[0m\u001b[0;34m\u001b[0m\u001b[0;34m\u001b[0m\u001b[0m\n\u001b[0m",
      "\u001b[0;32m~/Python3.9.1/lib/python3.9/site-packages/gffutils/attributes.py\u001b[0m in \u001b[0;36m__getitem__\u001b[0;34m(self, k)\u001b[0m\n\u001b[1;32m     61\u001b[0m \u001b[0;34m\u001b[0m\u001b[0m\n\u001b[1;32m     62\u001b[0m     \u001b[0;32mdef\u001b[0m \u001b[0m__getitem__\u001b[0m\u001b[0;34m(\u001b[0m\u001b[0mself\u001b[0m\u001b[0;34m,\u001b[0m \u001b[0mk\u001b[0m\u001b[0;34m)\u001b[0m\u001b[0;34m:\u001b[0m\u001b[0;34m\u001b[0m\u001b[0;34m\u001b[0m\u001b[0m\n\u001b[0;32m---> 63\u001b[0;31m         \u001b[0mv\u001b[0m \u001b[0;34m=\u001b[0m \u001b[0mself\u001b[0m\u001b[0;34m.\u001b[0m\u001b[0m_d\u001b[0m\u001b[0;34m[\u001b[0m\u001b[0mk\u001b[0m\u001b[0;34m]\u001b[0m\u001b[0;34m\u001b[0m\u001b[0;34m\u001b[0m\u001b[0m\n\u001b[0m\u001b[1;32m     64\u001b[0m         \u001b[0;32mif\u001b[0m \u001b[0mconstants\u001b[0m\u001b[0;34m.\u001b[0m\u001b[0malways_return_list\u001b[0m\u001b[0;34m:\u001b[0m\u001b[0;34m\u001b[0m\u001b[0;34m\u001b[0m\u001b[0m\n\u001b[1;32m     65\u001b[0m             \u001b[0;32mreturn\u001b[0m \u001b[0mv\u001b[0m\u001b[0;34m\u001b[0m\u001b[0;34m\u001b[0m\u001b[0m\n",
      "\u001b[0;31mKeyError\u001b[0m: 'tag'"
     ]
    }
   ],
   "source": [
    "gtf_gencode['ENST00000490313.1'][8]['tag']"
   ]
  },
  {
   "cell_type": "code",
   "execution_count": null,
   "id": "4709ce9c",
   "metadata": {},
   "outputs": [],
   "source": []
  }
 ],
 "metadata": {
  "kernelspec": {
   "display_name": "Python 3 (ipykernel)",
   "language": "python",
   "name": "python3"
  },
  "language_info": {
   "codemirror_mode": {
    "name": "ipython",
    "version": 3
   },
   "file_extension": ".py",
   "mimetype": "text/x-python",
   "name": "python",
   "nbconvert_exporter": "python",
   "pygments_lexer": "ipython3",
   "version": "3.9.1"
  }
 },
 "nbformat": 4,
 "nbformat_minor": 5
}
