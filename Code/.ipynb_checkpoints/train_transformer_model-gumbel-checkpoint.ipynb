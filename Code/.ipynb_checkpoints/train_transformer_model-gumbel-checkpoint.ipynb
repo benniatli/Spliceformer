{
 "cells": [
  {
   "cell_type": "code",
   "execution_count": 1,
   "metadata": {},
   "outputs": [],
   "source": [
    "import numpy as np\n",
    "import sys\n",
    "import time\n",
    "import h5py\n",
    "from tqdm import tqdm\n",
    "\n",
    "import numpy as np\n",
    "import re\n",
    "from math import ceil\n",
    "from sklearn.metrics import average_precision_score\n",
    "from torch.utils.data import Dataset\n",
    "import torch\n",
    "import torch.nn as nn\n",
    "import pandas as pd\n",
    "import matplotlib.pyplot as plt\n",
    "import pickle\n",
    "#import pickle5 as pickle\n",
    "\n",
    "from sklearn.model_selection import train_test_split\n",
    "\n",
    "from scipy.sparse import load_npz\n",
    "from glob import glob\n",
    "\n",
    "from transformers import get_constant_schedule_with_warmup\n",
    "from sklearn.metrics import precision_score,recall_score,accuracy_score\n",
    "import copy\n",
    "\n",
    "from src.train import trainModel\n",
    "from src.dataloader import getData,spliceDataset,h5pyDataset,collate_fn\n",
    "from src.weight_init import keras_init\n",
    "from src.losses import categorical_crossentropy_2d\n",
    "from src.models import SpliceFormer\n",
    "from src.evaluation_metrics import print_topl_statistics\n",
    "#import tensorflow as tf"
   ]
  },
  {
   "cell_type": "code",
   "execution_count": 2,
   "metadata": {},
   "outputs": [],
   "source": [
    "#!pip install pickle5"
   ]
  },
  {
   "cell_type": "code",
   "execution_count": 3,
   "metadata": {},
   "outputs": [],
   "source": [
    "rng = np.random.default_rng(23673)"
   ]
  },
  {
   "cell_type": "code",
   "execution_count": 4,
   "metadata": {},
   "outputs": [],
   "source": [
    "#gtf = None"
   ]
  },
  {
   "cell_type": "code",
   "execution_count": 5,
   "metadata": {},
   "outputs": [],
   "source": [
    "L = 32\n",
    "N_GPUS = 8\n",
    "k = 2\n",
    "# Hyper-parameters:\n",
    "# L: Number of convolution kernels\n",
    "# W: Convolution window size in each residual unit\n",
    "# AR: Atrous rate in each residual unit\n",
    "\n",
    "W = np.asarray([11, 11, 11, 11, 11, 11, 11, 11,\n",
    "                21, 21, 21, 21, 41, 41, 41, 41])\n",
    "AR = np.asarray([1, 1, 1, 1, 4, 4, 4, 4,\n",
    "                 10, 10, 10, 10, 25, 25, 25, 25])\n",
    "BATCH_SIZE = k*6*N_GPUS\n",
    "\n",
    "\n",
    "CL = 2 * np.sum(AR*(W-1))"
   ]
  },
  {
   "cell_type": "code",
   "execution_count": 6,
   "metadata": {},
   "outputs": [],
   "source": [
    "data_dir = '/odinn/tmp/benediktj/Data/SplicePrediction-050422'\n",
    "setType = 'train'\n",
    "annotation, transcriptToLabel, seqData = getData(data_dir, setType)"
   ]
  },
  {
   "cell_type": "code",
   "execution_count": 7,
   "metadata": {},
   "outputs": [],
   "source": [
    "# Maximum nucleotide context length (CL_max/2 on either side of the \n",
    "# position of interest)\n",
    "# CL_max should be an even number\n",
    "# Sequence length of SpliceAIs (SL+CL will be the input length and\n",
    "# SL will be the output length)\n",
    "\n",
    "SL=5000\n",
    "CL_max=40000"
   ]
  },
  {
   "cell_type": "code",
   "execution_count": 8,
   "metadata": {},
   "outputs": [],
   "source": [
    "assert CL_max % 2 == 0"
   ]
  },
  {
   "cell_type": "code",
   "execution_count": 9,
   "metadata": {},
   "outputs": [],
   "source": [
    "train_gene, validation_gene = train_test_split(annotation['gene'].drop_duplicates(),test_size=.1,random_state=435)\n",
    "annotation_train = annotation[annotation['gene'].isin(train_gene)]\n",
    "annotation_validation = annotation[annotation['gene'].isin(validation_gene)]"
   ]
  },
  {
   "cell_type": "code",
   "execution_count": 10,
   "metadata": {},
   "outputs": [],
   "source": [
    "train_dataset = spliceDataset(annotation_train,transcriptToLabel,SL,CL_max)\n",
    "val_dataset = spliceDataset(annotation_validation,transcriptToLabel,SL,CL_max)\n",
    "train_dataset.seqData = seqData\n",
    "val_dataset.seqData = seqData\n",
    "\n",
    "train_loader = torch.utils.data.DataLoader(train_dataset, batch_size=k*100, shuffle=True, num_workers=16,collate_fn=collate_fn, pin_memory=True)\n",
    "val_loader = torch.utils.data.DataLoader(val_dataset, batch_size=k*100, shuffle=False,collate_fn=collate_fn, num_workers=16)"
   ]
  },
  {
   "cell_type": "code",
   "execution_count": 11,
   "metadata": {
    "scrolled": true
   },
   "outputs": [
    {
     "name": "stderr",
     "output_type": "stream",
     "text": [
      "Epoch (train) 1/10: 100%|█| 101/101 [19:18<00:00, 11.48s/it, accepor_recall=0.853, donor_recall=0.869, loss=0.000223, pr\n"
     ]
    },
    {
     "name": "stdout",
     "output_type": "stream",
     "text": [
      "epoch: 1/10, train loss = 0.012092\n"
     ]
    },
    {
     "name": "stderr",
     "output_type": "stream",
     "text": [
      "Epoch (val) 1/10: 100%|█| 12/12 [02:54<00:00, 14.52s/it, accepor_recall=0.933, donor_recall=0.828, loss=0.00046, pred_l1\n"
     ]
    },
    {
     "name": "stdout",
     "output_type": "stream",
     "text": [
      "\n",
      "\u001b[1mAcceptor:\u001b[0m\n",
      "0.9586\t0.8541\t0.9672\t0.986\t0.9043\t0.9861000180244446\t0.8702999949455261\t0.18619999289512634\t0.022299999371170998\t21432\n",
      "\n",
      "\u001b[1mDonor:\u001b[0m\n",
      "0.9514\t0.8433\t0.9722\t0.9902\t0.9\t0.8906999826431274\t0.46239998936653137\t0.030700000002980232\t0.002899999963119626\t21432\n",
      "epoch: 1/10, val loss = 0.000415\n"
     ]
    },
    {
     "name": "stderr",
     "output_type": "stream",
     "text": [
      "Epoch (train) 2/10: 100%|█| 101/101 [18:25<00:00, 10.94s/it, accepor_recall=0.882, donor_recall=0.894, loss=0.000189, pr\n"
     ]
    },
    {
     "name": "stdout",
     "output_type": "stream",
     "text": [
      "epoch: 2/10, train loss = 0.000205\n"
     ]
    },
    {
     "name": "stderr",
     "output_type": "stream",
     "text": [
      "Epoch (val) 2/10: 100%|█| 12/12 [02:53<00:00, 14.47s/it, accepor_recall=0.88, donor_recall=0.922, loss=0.000297, pred_l1\n"
     ]
    },
    {
     "name": "stdout",
     "output_type": "stream",
     "text": [
      "\n",
      "\u001b[1mAcceptor:\u001b[0m\n",
      "0.9694\t0.8844\t0.9775\t0.9896\t0.927\t0.9718999862670898\t0.4918999969959259\t0.014600000344216824\t0.002099999925121665\t21432\n",
      "\n",
      "\u001b[1mDonor:\u001b[0m\n",
      "0.9704\t0.8888\t0.9839\t0.9937\t0.9367\t0.9864000082015991\t0.6848000288009644\t0.023099999874830246\t0.002300000051036477\t21432\n",
      "epoch: 2/10, val loss = 0.000260\n"
     ]
    },
    {
     "name": "stderr",
     "output_type": "stream",
     "text": [
      "Epoch (train) 3/10: 100%|█| 101/101 [18:21<00:00, 10.91s/it, accepor_recall=0.902, donor_recall=0.907, loss=0.000182, pr\n"
     ]
    },
    {
     "name": "stdout",
     "output_type": "stream",
     "text": [
      "epoch: 3/10, train loss = 0.000185\n"
     ]
    },
    {
     "name": "stderr",
     "output_type": "stream",
     "text": [
      "Epoch (val) 3/10: 100%|█| 12/12 [02:54<00:00, 14.58s/it, accepor_recall=0.947, donor_recall=0.957, loss=0.000533, pred_l\n"
     ]
    },
    {
     "name": "stdout",
     "output_type": "stream",
     "text": [
      "\n",
      "\u001b[1mAcceptor:\u001b[0m\n",
      "0.9592\t0.853\t0.9713\t0.9885\t0.9064\t0.9936000108718872\t0.9312000274658203\t0.16519999504089355\t0.009200000204145908\t21432\n",
      "\n",
      "\u001b[1mDonor:\u001b[0m\n",
      "0.963\t0.8684\t0.978\t0.9919\t0.92\t0.9908000230789185\t0.914900004863739\t0.13369999825954437\t0.008899999782443047\t21432\n",
      "epoch: 3/10, val loss = 0.000513\n"
     ]
    },
    {
     "name": "stderr",
     "output_type": "stream",
     "text": [
      "Epoch (train) 4/10: 100%|█| 101/101 [18:18<00:00, 10.87s/it, accepor_recall=0.91, donor_recall=0.916, loss=0.000177, pre\n"
     ]
    },
    {
     "name": "stdout",
     "output_type": "stream",
     "text": [
      "epoch: 4/10, train loss = 0.000171\n"
     ]
    },
    {
     "name": "stderr",
     "output_type": "stream",
     "text": [
      "Epoch (val) 4/10: 100%|█| 12/12 [02:57<00:00, 14.82s/it, accepor_recall=0.789, donor_recall=0.846, loss=0.000313, pred_l\n"
     ]
    },
    {
     "name": "stdout",
     "output_type": "stream",
     "text": [
      "\n",
      "\u001b[1mAcceptor:\u001b[0m\n",
      "0.9714\t0.8776\t0.9735\t0.9882\t0.9244\t0.9082000255584717\t0.2085999995470047\t0.006000000052154064\t0.0010999999940395355\t21432\n",
      "\n",
      "\u001b[1mDonor:\u001b[0m\n",
      "0.9724\t0.8854\t0.9811\t0.9928\t0.9348\t0.9510999917984009\t0.32440000772476196\t0.006599999964237213\t0.0010999999940395355\t21432\n",
      "epoch: 4/10, val loss = 0.000272\n"
     ]
    },
    {
     "name": "stderr",
     "output_type": "stream",
     "text": [
      "Epoch (train) 5/10: 100%|█| 101/101 [18:16<00:00, 10.85s/it, accepor_recall=0.915, donor_recall=0.922, loss=0.000163, pr\n"
     ]
    },
    {
     "name": "stdout",
     "output_type": "stream",
     "text": [
      "epoch: 5/10, train loss = 0.000158\n"
     ]
    },
    {
     "name": "stderr",
     "output_type": "stream",
     "text": [
      "Epoch (val) 5/10: 100%|█| 12/12 [02:57<00:00, 14.79s/it, accepor_recall=0.914, donor_recall=0.937, loss=0.000316, pred_l\n"
     ]
    },
    {
     "name": "stdout",
     "output_type": "stream",
     "text": [
      "\n",
      "\u001b[1mAcceptor:\u001b[0m\n",
      "0.9684\t0.8869\t0.9766\t0.9878\t0.9298\t0.9639999866485596\t0.6769999861717224\t0.059300001710653305\t0.008299999870359898\t21432\n",
      "\n",
      "\u001b[1mDonor:\u001b[0m\n",
      "0.968\t0.8936\t0.9842\t0.9935\t0.9384\t0.9789000153541565\t0.7551000118255615\t0.0544000007212162\t0.006899999920278788\t21432\n",
      "epoch: 5/10, val loss = 0.000286\n"
     ]
    },
    {
     "name": "stderr",
     "output_type": "stream",
     "text": [
      "Epoch (train) 6/10: 100%|█| 101/101 [18:27<00:00, 10.97s/it, accepor_recall=0.935, donor_recall=0.936, loss=0.000142, pr\n"
     ]
    },
    {
     "name": "stdout",
     "output_type": "stream",
     "text": [
      "epoch: 6/10, train loss = 0.000145\n"
     ]
    },
    {
     "name": "stderr",
     "output_type": "stream",
     "text": [
      "Epoch (val) 6/10: 100%|█| 12/12 [03:12<00:00, 16.07s/it, accepor_recall=0.776, donor_recall=0.812, loss=0.000336, pred_l\n"
     ]
    },
    {
     "name": "stdout",
     "output_type": "stream",
     "text": [
      "\n",
      "\u001b[1mAcceptor:\u001b[0m\n",
      "0.9735\t0.8962\t0.9792\t0.9902\t0.9386\t0.945900022983551\t0.08649999648332596\t0.0010999999940395355\t0.00019999999494757503\t21432\n",
      "\n",
      "\u001b[1mDonor:\u001b[0m\n",
      "0.9729\t0.9019\t0.9858\t0.993\t0.9438\t0.9524999856948853\t0.1379999965429306\t0.00139999995008111\t0.0003000000142492354\t21432\n",
      "epoch: 6/10, val loss = 0.000281\n"
     ]
    },
    {
     "name": "stderr",
     "output_type": "stream",
     "text": [
      "Epoch (train) 7/10: 100%|█| 101/101 [18:22<00:00, 10.91s/it, accepor_recall=0.931, donor_recall=0.941, loss=0.000136, pr\n"
     ]
    },
    {
     "name": "stdout",
     "output_type": "stream",
     "text": [
      "epoch: 7/10, train loss = 0.000133\n"
     ]
    },
    {
     "name": "stderr",
     "output_type": "stream",
     "text": [
      "Epoch (val) 7/10: 100%|█| 12/12 [02:53<00:00, 14.44s/it, accepor_recall=0.902, donor_recall=0.899, loss=0.000239, pred_l\n"
     ]
    },
    {
     "name": "stdout",
     "output_type": "stream",
     "text": [
      "\n",
      "\u001b[1mAcceptor:\u001b[0m\n",
      "0.9692\t0.9138\t0.9847\t0.9911\t0.9439\t0.9182999730110168\t0.43459999561309814\t0.003700000001117587\t0.0005000000237487257\t21432\n",
      "\n",
      "\u001b[1mDonor:\u001b[0m\n",
      "0.9701\t0.9133\t0.989\t0.9947\t0.9484\t0.9200000166893005\t0.3950999975204468\t0.0024999999441206455\t0.0003000000142492354\t21432\n",
      "epoch: 7/10, val loss = 0.000206\n"
     ]
    },
    {
     "name": "stderr",
     "output_type": "stream",
     "text": [
      "Epoch (train) 8/10: 100%|█| 101/101 [18:26<00:00, 10.96s/it, accepor_recall=0.952, donor_recall=0.957, loss=0.000106, pr\n"
     ]
    },
    {
     "name": "stdout",
     "output_type": "stream",
     "text": [
      "epoch: 8/10, train loss = 0.000107\n"
     ]
    },
    {
     "name": "stderr",
     "output_type": "stream",
     "text": [
      "Epoch (val) 8/10: 100%|█| 12/12 [02:54<00:00, 14.52s/it, accepor_recall=0.923, donor_recall=0.926, loss=0.000246, pred_l\n"
     ]
    },
    {
     "name": "stdout",
     "output_type": "stream",
     "text": [
      "\n",
      "\u001b[1mAcceptor:\u001b[0m\n",
      "0.9711\t0.9112\t0.9845\t0.9926\t0.9456\t0.9829999804496765\t0.6754999756813049\t0.004100000020116568\t0.00039999998989515007\t21432\n",
      "\n",
      "\u001b[1mDonor:\u001b[0m\n",
      "0.9687\t0.9141\t0.9885\t0.9949\t0.9467\t0.9805999994277954\t0.6525999903678894\t0.003800000064074993\t0.0003000000142492354\t21432\n",
      "epoch: 8/10, val loss = 0.000209\n"
     ]
    },
    {
     "name": "stderr",
     "output_type": "stream",
     "text": [
      "Epoch (train) 9/10: 100%|█| 101/101 [18:13<00:00, 10.83s/it, accepor_recall=0.956, donor_recall=0.962, loss=9.71e-5, pre\n"
     ]
    },
    {
     "name": "stdout",
     "output_type": "stream",
     "text": [
      "epoch: 9/10, train loss = 0.000090\n"
     ]
    },
    {
     "name": "stderr",
     "output_type": "stream",
     "text": [
      "Epoch (val) 9/10: 100%|█| 12/12 [02:57<00:00, 14.77s/it, accepor_recall=0.92, donor_recall=0.934, loss=0.000213, pred_l1\n"
     ]
    },
    {
     "name": "stdout",
     "output_type": "stream",
     "text": [
      "\n",
      "\u001b[1mAcceptor:\u001b[0m\n",
      "0.9725\t0.9235\t0.9865\t0.9927\t0.9513\t0.9835000038146973\t0.5440000295639038\t0.002899999963119626\t0.00039999998989515007\t21432\n",
      "\n",
      "\u001b[1mDonor:\u001b[0m\n",
      "0.9747\t0.9301\t0.9908\t0.9956\t0.9561\t0.9873999953269958\t0.6061000227928162\t0.002400000113993883\t0.0003000000142492354\t21432\n",
      "epoch: 9/10, val loss = 0.000179\n"
     ]
    },
    {
     "name": "stderr",
     "output_type": "stream",
     "text": [
      "Epoch (train) 10/10: 100%|█| 101/101 [18:20<00:00, 10.90s/it, accepor_recall=0.965, donor_recall=0.971, loss=7.47e-5, pr\n"
     ]
    },
    {
     "name": "stdout",
     "output_type": "stream",
     "text": [
      "epoch: 10/10, train loss = 0.000079\n"
     ]
    },
    {
     "name": "stderr",
     "output_type": "stream",
     "text": [
      "Epoch (val) 10/10: 100%|█| 12/12 [02:57<00:00, 14.76s/it, accepor_recall=0.925, donor_recall=0.931, loss=0.000217, pred_\n"
     ]
    },
    {
     "name": "stdout",
     "output_type": "stream",
     "text": [
      "\n",
      "\u001b[1mAcceptor:\u001b[0m\n",
      "0.9727\t0.9247\t0.9875\t0.9928\t0.9517\t0.9868000149726868\t0.5942000150680542\t0.0015999999595806003\t0.00019999999494757503\t21432\n",
      "\n",
      "\u001b[1mDonor:\u001b[0m\n",
      "0.9728\t0.9299\t0.9905\t0.9952\t0.956\t0.98580002784729\t0.5421000123023987\t0.0007999999797903001\t9.999999747378752e-05\t21432\n",
      "epoch: 10/10, val loss = 0.000183\n"
     ]
    },
    {
     "data": {
      "image/png": "[encoded data removed]",
      "text/plain": [
       "<Figure size 432x288 with 1 Axes>"
      ]
     },
     "metadata": {
      "needs_background": "light"
     },
     "output_type": "display_data"
    },
    {
     "name": "stderr",
     "output_type": "stream",
     "text": [
      "Epoch (train) 1/10: 100%|█| 101/101 [18:12<00:00, 10.82s/it, accepor_recall=0.854, donor_recall=0.866, loss=0.000233, pr\n"
     ]
    },
    {
     "name": "stdout",
     "output_type": "stream",
     "text": [
      "epoch: 1/10, train loss = 0.010293\n"
     ]
    },
    {
     "name": "stderr",
     "output_type": "stream",
     "text": [
      "Epoch (val) 1/10: 100%|█| 12/12 [02:54<00:00, 14.57s/it, accepor_recall=0.894, donor_recall=0.899, loss=0.000399, pred_l\n"
     ]
    },
    {
     "name": "stdout",
     "output_type": "stream",
     "text": [
      "\n",
      "\u001b[1mAcceptor:\u001b[0m\n",
      "0.9569\t0.8418\t0.9631\t0.9833\t0.8962\t0.9380000233650208\t0.6751999855041504\t0.09920000284910202\t0.013799999840557575\t21432\n",
      "\n",
      "\u001b[1mDonor:\u001b[0m\n",
      "0.9586\t0.8538\t0.97\t0.989\t0.9075\t0.9218999743461609\t0.6536999940872192\t0.10180000215768814\t0.014800000004470348\t21432\n",
      "epoch: 1/10, val loss = 0.000366\n"
     ]
    },
    {
     "name": "stderr",
     "output_type": "stream",
     "text": [
      "Epoch (train) 2/10: 100%|█| 101/101 [18:15<00:00, 10.85s/it, accepor_recall=0.884, donor_recall=0.899, loss=0.000203, pr\n"
     ]
    },
    {
     "name": "stdout",
     "output_type": "stream",
     "text": [
      "epoch: 2/10, train loss = 0.000202\n"
     ]
    },
    {
     "name": "stderr",
     "output_type": "stream",
     "text": [
      "Epoch (val) 2/10: 100%|█| 12/12 [03:08<00:00, 15.75s/it, accepor_recall=0.858, donor_recall=0.872, loss=0.000298, pred_l\n"
     ]
    },
    {
     "name": "stdout",
     "output_type": "stream",
     "text": [
      "\n",
      "\u001b[1mAcceptor:\u001b[0m\n",
      "0.9671\t0.8734\t0.9726\t0.988\t0.9215\t0.9380999803543091\t0.4429999887943268\t0.018300000578165054\t0.0024999999441206455\t21432\n",
      "\n",
      "\u001b[1mDonor:\u001b[0m\n",
      "0.9676\t0.8833\t0.9803\t0.9921\t0.9316\t0.9466999769210815\t0.4426000118255615\t0.013299999758601189\t0.0013000000035390258\t21432\n",
      "epoch: 2/10, val loss = 0.000262\n"
     ]
    },
    {
     "name": "stderr",
     "output_type": "stream",
     "text": [
      "Epoch (train) 3/10: 100%|█| 101/101 [18:28<00:00, 10.97s/it, accepor_recall=0.899, donor_recall=0.906, loss=0.000189, pr\n"
     ]
    },
    {
     "name": "stdout",
     "output_type": "stream",
     "text": [
      "epoch: 3/10, train loss = 0.000182\n"
     ]
    },
    {
     "name": "stderr",
     "output_type": "stream",
     "text": [
      "Epoch (val) 3/10: 100%|█| 12/12 [03:00<00:00, 15.04s/it, accepor_recall=0.892, donor_recall=0.908, loss=0.000291, pred_l\n"
     ]
    },
    {
     "name": "stdout",
     "output_type": "stream",
     "text": [
      "\n",
      "\u001b[1mAcceptor:\u001b[0m\n",
      "0.9693\t0.8839\t0.9784\t0.9902\t0.9299\t0.9776999950408936\t0.5745000243186951\t0.016300000250339508\t0.002199999988079071\t21432\n",
      "\n",
      "\u001b[1mDonor:\u001b[0m\n",
      "0.9696\t0.8898\t0.9851\t0.9937\t0.9351\t0.979200005531311\t0.6273999810218811\t0.012400000356137753\t0.0012000000569969416\t21432\n",
      "epoch: 3/10, val loss = 0.000252\n"
     ]
    },
    {
     "name": "stderr",
     "output_type": "stream",
     "text": [
      "Epoch (train) 4/10: 100%|█| 101/101 [18:14<00:00, 10.84s/it, accepor_recall=0.91, donor_recall=0.919, loss=0.000169, pre\n"
     ]
    },
    {
     "name": "stdout",
     "output_type": "stream",
     "text": [
      "epoch: 4/10, train loss = 0.000168\n"
     ]
    },
    {
     "name": "stderr",
     "output_type": "stream",
     "text": [
      "Epoch (val) 4/10: 100%|█| 12/12 [02:56<00:00, 14.70s/it, accepor_recall=0.882, donor_recall=0.915, loss=0.000247, pred_l\n"
     ]
    },
    {
     "name": "stdout",
     "output_type": "stream",
     "text": [
      "\n",
      "\u001b[1mAcceptor:\u001b[0m\n",
      "0.9707\t0.9075\t0.9832\t0.9906\t0.9435\t0.9474999904632568\t0.36010000109672546\t0.004600000102072954\t0.0007999999797903001\t21432\n",
      "\n",
      "\u001b[1mDonor:\u001b[0m\n",
      "0.9718\t0.913\t0.9889\t0.9944\t0.948\t0.9757000207901001\t0.5572999715805054\t0.0066999997943639755\t0.0008999999845400453\t21432\n",
      "epoch: 4/10, val loss = 0.000208\n"
     ]
    },
    {
     "name": "stderr",
     "output_type": "stream",
     "text": [
      "Epoch (train) 5/10: 100%|█| 101/101 [18:46<00:00, 11.15s/it, accepor_recall=0.919, donor_recall=0.929, loss=0.000147, pr\n"
     ]
    },
    {
     "name": "stdout",
     "output_type": "stream",
     "text": [
      "epoch: 5/10, train loss = 0.000155\n"
     ]
    },
    {
     "name": "stderr",
     "output_type": "stream",
     "text": [
      "Epoch (val) 5/10: 100%|█| 12/12 [02:59<00:00, 14.98s/it, accepor_recall=0.916, donor_recall=0.916, loss=0.000298, pred_l\n"
     ]
    },
    {
     "name": "stdout",
     "output_type": "stream",
     "text": [
      "\n",
      "\u001b[1mAcceptor:\u001b[0m\n",
      "0.9672\t0.8773\t0.977\t0.9891\t0.9264\t0.9685999751091003\t0.7329999804496765\t0.03799999877810478\t0.004100000020116568\t21432\n",
      "\n",
      "\u001b[1mDonor:\u001b[0m\n",
      "0.9668\t0.8898\t0.9832\t0.9928\t0.9332\t0.9577000141143799\t0.6506999731063843\t0.026499999687075615\t0.00279999990016222\t21432\n",
      "epoch: 5/10, val loss = 0.000272\n"
     ]
    },
    {
     "name": "stderr",
     "output_type": "stream",
     "text": [
      "Epoch (train) 6/10: 100%|█| 101/101 [18:51<00:00, 11.20s/it, accepor_recall=0.933, donor_recall=0.942, loss=0.000145, pr\n"
     ]
    },
    {
     "name": "stdout",
     "output_type": "stream",
     "text": [
      "epoch: 6/10, train loss = 0.000142\n"
     ]
    },
    {
     "name": "stderr",
     "output_type": "stream",
     "text": [
      "Epoch (val) 6/10: 100%|█| 12/12 [02:57<00:00, 14.82s/it, accepor_recall=0.948, donor_recall=0.933, loss=0.000257, pred_l\n"
     ]
    },
    {
     "name": "stdout",
     "output_type": "stream",
     "text": [
      "\n",
      "\u001b[1mAcceptor:\u001b[0m\n",
      "0.9732\t0.9109\t0.9846\t0.9922\t0.9458\t0.9915000200271606\t0.8309000134468079\t0.02329999953508377\t0.002400000113993883\t21432\n",
      "\n",
      "\u001b[1mDonor:\u001b[0m\n",
      "0.9717\t0.9159\t0.9889\t0.9944\t0.9485\t0.9682000279426575\t0.6274999976158142\t0.006800000090152025\t0.0006000000284984708\t21432\n",
      "epoch: 6/10, val loss = 0.000226\n"
     ]
    },
    {
     "name": "stderr",
     "output_type": "stream",
     "text": [
      "Epoch (train) 7/10: 100%|█| 101/101 [18:24<00:00, 10.94s/it, accepor_recall=0.932, donor_recall=0.936, loss=0.000139, pr\n"
     ]
    },
    {
     "name": "stdout",
     "output_type": "stream",
     "text": [
      "epoch: 7/10, train loss = 0.000131\n"
     ]
    },
    {
     "name": "stderr",
     "output_type": "stream",
     "text": [
      "Epoch (val) 7/10: 100%|█| 12/12 [03:11<00:00, 15.97s/it, accepor_recall=0.896, donor_recall=0.889, loss=0.000241, pred_l\n"
     ]
    },
    {
     "name": "stdout",
     "output_type": "stream",
     "text": [
      "\n",
      "\u001b[1mAcceptor:\u001b[0m\n",
      "0.9733\t0.9128\t0.986\t0.992\t0.9469\t0.9739000201225281\t0.4162999987602234\t0.003000000026077032\t0.0005000000237487257\t21432\n",
      "\n",
      "\u001b[1mDonor:\u001b[0m\n",
      "0.9703\t0.9181\t0.9899\t0.9951\t0.9503\t0.9372000098228455\t0.3345000147819519\t0.0015999999595806003\t0.00019999999494757503\t21432\n",
      "epoch: 7/10, val loss = 0.000204\n"
     ]
    },
    {
     "name": "stderr",
     "output_type": "stream",
     "text": [
      "Epoch (train) 8/10: 100%|█| 101/101 [18:35<00:00, 11.05s/it, accepor_recall=0.954, donor_recall=0.957, loss=0.000101, pr\n"
     ]
    },
    {
     "name": "stdout",
     "output_type": "stream",
     "text": [
      "epoch: 8/10, train loss = 0.000105\n"
     ]
    },
    {
     "name": "stderr",
     "output_type": "stream",
     "text": [
      "Epoch (val) 8/10: 100%|█| 12/12 [02:58<00:00, 14.88s/it, accepor_recall=0.915, donor_recall=0.917, loss=0.000219, pred_l\n"
     ]
    },
    {
     "name": "stdout",
     "output_type": "stream",
     "text": [
      "\n",
      "\u001b[1mAcceptor:\u001b[0m\n",
      "0.9752\t0.9227\t0.9874\t0.9932\t0.9532\t0.9871000051498413\t0.4595000147819519\t0.0026000000070780516\t0.00039999998989515007\t21432\n",
      "\n",
      "\u001b[1mDonor:\u001b[0m\n",
      "0.9738\t0.9244\t0.9909\t0.9949\t0.9542\t0.9835000038146973\t0.4388999938964844\t0.002300000051036477\t0.0003000000142492354\t21432\n",
      "epoch: 8/10, val loss = 0.000185\n"
     ]
    },
    {
     "name": "stderr",
     "output_type": "stream",
     "text": [
      "Epoch (train) 9/10: 100%|█| 101/101 [18:32<00:00, 11.02s/it, accepor_recall=0.961, donor_recall=0.965, loss=8.62e-5, pre\n"
     ]
    },
    {
     "name": "stdout",
     "output_type": "stream",
     "text": [
      "epoch: 9/10, train loss = 0.000088\n"
     ]
    },
    {
     "name": "stderr",
     "output_type": "stream",
     "text": [
      "Epoch (val) 9/10: 100%|█| 12/12 [03:30<00:00, 17.55s/it, accepor_recall=0.92, donor_recall=0.913, loss=0.000215, pred_l1\n"
     ]
    },
    {
     "name": "stdout",
     "output_type": "stream",
     "text": [
      "\n",
      "\u001b[1mAcceptor:\u001b[0m\n",
      "0.9725\t0.9257\t0.9876\t0.993\t0.9526\t0.9735999703407288\t0.4528000056743622\t0.0017000000225380063\t0.00019999999494757503\t21432\n",
      "\n",
      "\u001b[1mDonor:\u001b[0m\n",
      "0.9714\t0.9283\t0.9908\t0.9951\t0.954\t0.9646999835968018\t0.3702999949455261\t0.0010000000474974513\t9.999999747378752e-05\t21432\n",
      "epoch: 9/10, val loss = 0.000183\n"
     ]
    },
    {
     "name": "stderr",
     "output_type": "stream",
     "text": [
      "Epoch (train) 10/10: 100%|█| 101/101 [18:38<00:00, 11.08s/it, accepor_recall=0.966, donor_recall=0.972, loss=8.02e-5, pr\n"
     ]
    },
    {
     "name": "stdout",
     "output_type": "stream",
     "text": [
      "epoch: 10/10, train loss = 0.000077\n"
     ]
    },
    {
     "name": "stderr",
     "output_type": "stream",
     "text": [
      "Epoch (val) 10/10: 100%|█| 12/12 [03:11<00:00, 15.97s/it, accepor_recall=0.918, donor_recall=0.924, loss=0.000218, pred_\n"
     ]
    },
    {
     "name": "stdout",
     "output_type": "stream",
     "text": [
      "\n",
      "\u001b[1mAcceptor:\u001b[0m\n",
      "0.9719\t0.9268\t0.9874\t0.9926\t0.9507\t0.9761999845504761\t0.4733999967575073\t0.0019000000320374966\t0.0003000000142492354\t21432\n",
      "\n",
      "\u001b[1mDonor:\u001b[0m\n",
      "0.9711\t0.9284\t0.9907\t0.995\t0.9528\t0.9833999872207642\t0.5024999976158142\t0.0010000000474974513\t9.999999747378752e-05\t21432\n",
      "epoch: 10/10, val loss = 0.000184\n"
     ]
    },
    {
     "data": {
      "image/png": "[encoded data removed]",
      "text/plain": [
       "<Figure size 432x288 with 1 Axes>"
      ]
     },
     "metadata": {
      "needs_background": "light"
     },
     "output_type": "display_data"
    },
    {
     "name": "stderr",
     "output_type": "stream",
     "text": [
      "Epoch (train) 1/10: 100%|█| 101/101 [18:44<00:00, 11.13s/it, accepor_recall=0.861, donor_recall=0.878, loss=0.00023, pre\n"
     ]
    },
    {
     "name": "stdout",
     "output_type": "stream",
     "text": [
      "epoch: 1/10, train loss = 0.011051\n"
     ]
    },
    {
     "name": "stderr",
     "output_type": "stream",
     "text": [
      "Epoch (val) 1/10: 100%|█| 12/12 [02:57<00:00, 14.78s/it, accepor_recall=0.936, donor_recall=0.942, loss=0.000531, pred_l\n"
     ]
    },
    {
     "name": "stdout",
     "output_type": "stream",
     "text": [
      "\n",
      "\u001b[1mAcceptor:\u001b[0m\n",
      "0.9539\t0.8443\t0.9625\t0.9838\t0.8971\t0.9754999876022339\t0.8393999934196472\t0.24079999327659607\t0.03739999979734421\t21432\n",
      "\n",
      "\u001b[1mDonor:\u001b[0m\n",
      "0.9591\t0.857\t0.9727\t0.9898\t0.9115\t0.9635000228881836\t0.817799985408783\t0.17880000174045563\t0.020400000736117363\t21432\n",
      "epoch: 1/10, val loss = 0.000506\n"
     ]
    },
    {
     "name": "stderr",
     "output_type": "stream",
     "text": [
      "Epoch (train) 2/10: 100%|█| 101/101 [19:06<00:00, 11.35s/it, accepor_recall=0.883, donor_recall=0.894, loss=0.000193, pr\n"
     ]
    },
    {
     "name": "stdout",
     "output_type": "stream",
     "text": [
      "epoch: 2/10, train loss = 0.000204\n"
     ]
    },
    {
     "name": "stderr",
     "output_type": "stream",
     "text": [
      "Epoch (val) 2/10: 100%|█| 12/12 [03:05<00:00, 15.45s/it, accepor_recall=0.943, donor_recall=0.913, loss=0.000619, pred_l\n"
     ]
    },
    {
     "name": "stdout",
     "output_type": "stream",
     "text": [
      "\n",
      "\u001b[1mAcceptor:\u001b[0m\n",
      "0.9565\t0.8392\t0.9599\t0.9828\t0.8927\t0.9825999736785889\t0.8992000222206116\t0.33550000190734863\t0.04729999974370003\t21432\n",
      "\n",
      "\u001b[1mDonor:\u001b[0m\n",
      "0.9534\t0.8386\t0.9604\t0.9864\t0.8938\t0.9757999777793884\t0.8026000261306763\t0.13429999351501465\t0.012299999594688416\t21432\n",
      "epoch: 2/10, val loss = 0.000571\n"
     ]
    },
    {
     "name": "stderr",
     "output_type": "stream",
     "text": [
      "Epoch (train) 3/10: 100%|█| 101/101 [19:07<00:00, 11.36s/it, accepor_recall=0.9, donor_recall=0.912, loss=0.000171, pred\n"
     ]
    },
    {
     "name": "stdout",
     "output_type": "stream",
     "text": [
      "epoch: 3/10, train loss = 0.000185\n"
     ]
    },
    {
     "name": "stderr",
     "output_type": "stream",
     "text": [
      "Epoch (val) 3/10: 100%|█| 12/12 [03:04<00:00, 15.38s/it, accepor_recall=0.907, donor_recall=0.93, loss=0.00033, pred_l1_\n"
     ]
    },
    {
     "name": "stdout",
     "output_type": "stream",
     "text": [
      "\n",
      "\u001b[1mAcceptor:\u001b[0m\n",
      "0.9672\t0.8793\t0.9748\t0.9892\t0.9243\t0.9656000137329102\t0.6934999823570251\t0.04780000075697899\t0.005200000014156103\t21432\n",
      "\n",
      "\u001b[1mDonor:\u001b[0m\n",
      "0.9625\t0.8872\t0.981\t0.9926\t0.9289\t0.9768999814987183\t0.7717000246047974\t0.047600001096725464\t0.004000000189989805\t21432\n",
      "epoch: 3/10, val loss = 0.000295\n"
     ]
    },
    {
     "name": "stderr",
     "output_type": "stream",
     "text": [
      "Epoch (train) 4/10: 100%|█| 101/101 [18:33<00:00, 11.02s/it, accepor_recall=0.901, donor_recall=0.91, loss=0.000159, pre\n"
     ]
    },
    {
     "name": "stdout",
     "output_type": "stream",
     "text": [
      "epoch: 4/10, train loss = 0.000171\n"
     ]
    },
    {
     "name": "stderr",
     "output_type": "stream",
     "text": [
      "Epoch (val) 4/10: 100%|█| 12/12 [02:59<00:00, 14.99s/it, accepor_recall=0.732, donor_recall=0.752, loss=0.000496, pred_l\n"
     ]
    },
    {
     "name": "stdout",
     "output_type": "stream",
     "text": [
      "\n",
      "\u001b[1mAcceptor:\u001b[0m\n",
      "0.9591\t0.8069\t0.9219\t0.955\t0.8607\t0.935699999332428\t0.22200000286102295\t0.009399999864399433\t0.0019000000320374966\t21432\n",
      "\n",
      "\u001b[1mDonor:\u001b[0m\n",
      "0.9606\t0.8194\t0.9385\t0.9749\t0.878\t0.95169997215271\t0.22779999673366547\t0.005499999970197678\t0.0007999999797903001\t21432\n",
      "epoch: 4/10, val loss = 0.000430\n"
     ]
    },
    {
     "name": "stderr",
     "output_type": "stream",
     "text": [
      "Epoch (train) 5/10: 100%|█| 101/101 [19:05<00:00, 11.34s/it, accepor_recall=0.922, donor_recall=0.931, loss=0.000142, pr\n"
     ]
    },
    {
     "name": "stdout",
     "output_type": "stream",
     "text": [
      "epoch: 5/10, train loss = 0.000156\n"
     ]
    },
    {
     "name": "stderr",
     "output_type": "stream",
     "text": [
      "Epoch (val) 5/10: 100%|█| 12/12 [03:11<00:00, 15.95s/it, accepor_recall=0.788, donor_recall=0.834, loss=0.000326, pred_l\n"
     ]
    },
    {
     "name": "stdout",
     "output_type": "stream",
     "text": [
      "\n",
      "\u001b[1mAcceptor:\u001b[0m\n",
      "0.9681\t0.8916\t0.9747\t0.9859\t0.9298\t0.9035999774932861\t0.12549999356269836\t0.001500000013038516\t0.0003000000142492354\t21432\n",
      "\n",
      "\u001b[1mDonor:\u001b[0m\n",
      "0.9705\t0.9001\t0.9818\t0.9899\t0.9358\t0.9556000232696533\t0.211899995803833\t0.0017000000225380063\t0.0003000000142492354\t21432\n",
      "epoch: 5/10, val loss = 0.000284\n"
     ]
    },
    {
     "name": "stderr",
     "output_type": "stream",
     "text": [
      "Epoch (train) 6/10: 100%|█| 101/101 [18:44<00:00, 11.14s/it, accepor_recall=0.925, donor_recall=0.933, loss=0.000161, pr\n"
     ]
    },
    {
     "name": "stdout",
     "output_type": "stream",
     "text": [
      "epoch: 6/10, train loss = 0.000144\n"
     ]
    },
    {
     "name": "stderr",
     "output_type": "stream",
     "text": [
      "Epoch (val) 6/10: 100%|█| 12/12 [02:55<00:00, 14.58s/it, accepor_recall=0.823, donor_recall=0.844, loss=0.000284, pred_l\n"
     ]
    },
    {
     "name": "stdout",
     "output_type": "stream",
     "text": [
      "\n",
      "\u001b[1mAcceptor:\u001b[0m\n",
      "0.9715\t0.9023\t0.9798\t0.9892\t0.9395\t0.9157000184059143\t0.20029999315738678\t0.003800000064074993\t0.0007999999797903001\t21432\n",
      "\n",
      "\u001b[1mDonor:\u001b[0m\n",
      "0.973\t0.9083\t0.9867\t0.993\t0.9461\t0.9261999726295471\t0.24889999628067017\t0.003599999938160181\t0.000699999975040555\t21432\n",
      "epoch: 6/10, val loss = 0.000237\n"
     ]
    },
    {
     "name": "stderr",
     "output_type": "stream",
     "text": [
      "Epoch (train) 7/10: 100%|█| 101/101 [18:37<00:00, 11.06s/it, accepor_recall=0.934, donor_recall=0.938, loss=0.000134, pr\n"
     ]
    },
    {
     "name": "stdout",
     "output_type": "stream",
     "text": [
      "epoch: 7/10, train loss = 0.000133\n"
     ]
    },
    {
     "name": "stderr",
     "output_type": "stream",
     "text": [
      "Epoch (val) 7/10: 100%|█| 12/12 [02:53<00:00, 14.50s/it, accepor_recall=0.938, donor_recall=0.942, loss=0.000235, pred_l\n"
     ]
    },
    {
     "name": "stdout",
     "output_type": "stream",
     "text": [
      "\n",
      "\u001b[1mAcceptor:\u001b[0m\n",
      "0.9729\t0.9173\t0.9854\t0.9924\t0.9479\t0.9810000061988831\t0.7276999950408936\t0.01730000041425228\t0.0027000000700354576\t21432\n",
      "\n",
      "\u001b[1mDonor:\u001b[0m\n",
      "0.9708\t0.9205\t0.989\t0.9946\t0.9502\t0.9836000204086304\t0.7019000053405762\t0.014100000262260437\t0.002199999988079071\t21432\n",
      "epoch: 7/10, val loss = 0.000206\n"
     ]
    },
    {
     "name": "stderr",
     "output_type": "stream",
     "text": [
      "Epoch (train) 8/10: 100%|█| 101/101 [19:00<00:00, 11.29s/it, accepor_recall=0.95, donor_recall=0.953, loss=0.000118, pre\n"
     ]
    },
    {
     "name": "stdout",
     "output_type": "stream",
     "text": [
      "epoch: 8/10, train loss = 0.000107\n"
     ]
    },
    {
     "name": "stderr",
     "output_type": "stream",
     "text": [
      "Epoch (val) 8/10: 100%|█| 12/12 [03:04<00:00, 15.38s/it, accepor_recall=0.924, donor_recall=0.931, loss=0.000204, pred_l\n"
     ]
    },
    {
     "name": "stdout",
     "output_type": "stream",
     "text": [
      "\n",
      "\u001b[1mAcceptor:\u001b[0m\n",
      "0.9726\t0.9243\t0.9879\t0.9936\t0.9537\t0.9753999710083008\t0.5835999846458435\t0.004399999976158142\t0.0007999999797903001\t21432\n",
      "\n",
      "\u001b[1mDonor:\u001b[0m\n",
      "0.972\t0.9298\t0.9912\t0.9949\t0.9558\t0.9836000204086304\t0.5992000102996826\t0.0032999999821186066\t0.0005000000237487257\t21432\n",
      "epoch: 8/10, val loss = 0.000175\n"
     ]
    },
    {
     "name": "stderr",
     "output_type": "stream",
     "text": [
      "Epoch (train) 9/10: 100%|█| 101/101 [18:30<00:00, 10.99s/it, accepor_recall=0.96, donor_recall=0.963, loss=8.35e-5, pred\n"
     ]
    },
    {
     "name": "stdout",
     "output_type": "stream",
     "text": [
      "epoch: 9/10, train loss = 0.000090\n"
     ]
    },
    {
     "name": "stderr",
     "output_type": "stream",
     "text": [
      "Epoch (val) 9/10: 100%|█| 12/12 [03:01<00:00, 15.14s/it, accepor_recall=0.922, donor_recall=0.928, loss=0.000208, pred_l\n"
     ]
    },
    {
     "name": "stdout",
     "output_type": "stream",
     "text": [
      "\n",
      "\u001b[1mAcceptor:\u001b[0m\n",
      "0.9721\t0.9244\t0.9874\t0.9924\t0.9528\t0.9768000245094299\t0.527400016784668\t0.002400000113993883\t0.0003000000142492354\t21432\n",
      "\n",
      "\u001b[1mDonor:\u001b[0m\n",
      "0.9734\t0.9265\t0.9904\t0.9946\t0.9558\t0.9817000031471252\t0.5447999835014343\t0.0017000000225380063\t0.00019999999494757503\t21432\n",
      "epoch: 9/10, val loss = 0.000181\n"
     ]
    },
    {
     "name": "stderr",
     "output_type": "stream",
     "text": [
      "Epoch (train) 10/10: 100%|█| 101/101 [18:48<00:00, 11.17s/it, accepor_recall=0.964, donor_recall=0.969, loss=8.33e-5, pr\n"
     ]
    },
    {
     "name": "stdout",
     "output_type": "stream",
     "text": [
      "epoch: 10/10, train loss = 0.000079\n"
     ]
    },
    {
     "name": "stderr",
     "output_type": "stream",
     "text": [
      "Epoch (val) 10/10: 100%|█| 12/12 [03:03<00:00, 15.29s/it, accepor_recall=0.908, donor_recall=0.918, loss=0.000222, pred_\n"
     ]
    },
    {
     "name": "stdout",
     "output_type": "stream",
     "text": [
      "\n",
      "\u001b[1mAcceptor:\u001b[0m\n",
      "0.972\t0.9259\t0.9857\t0.9916\t0.9516\t0.9825999736785889\t0.3995000123977661\t0.0012000000569969416\t0.00019999999494757503\t21432\n",
      "\n",
      "\u001b[1mDonor:\u001b[0m\n",
      "0.9723\t0.9302\t0.9887\t0.9944\t0.9551\t0.9830999970436096\t0.420199990272522\t0.0007999999797903001\t9.999999747378752e-05\t21432\n",
      "epoch: 10/10, val loss = 0.000190\n"
     ]
    },
    {
     "data": {
      "image/png": "[encoded data removed]",
      "text/plain": [
       "<Figure size 432x288 with 1 Axes>"
      ]
     },
     "metadata": {
      "needs_background": "light"
     },
     "output_type": "display_data"
    },
    {
     "name": "stderr",
     "output_type": "stream",
     "text": [
      "Epoch (train) 1/10: 100%|█| 101/101 [18:40<00:00, 11.10s/it, accepor_recall=0.859, donor_recall=0.874, loss=0.000243, pr\n"
     ]
    },
    {
     "name": "stdout",
     "output_type": "stream",
     "text": [
      "epoch: 1/10, train loss = 0.011328\n"
     ]
    },
    {
     "name": "stderr",
     "output_type": "stream",
     "text": [
      "Epoch (val) 1/10: 100%|█| 12/12 [02:57<00:00, 14.77s/it, accepor_recall=0.936, donor_recall=0.915, loss=0.00197, pred_l1\n"
     ]
    },
    {
     "name": "stdout",
     "output_type": "stream",
     "text": [
      "\n",
      "\u001b[1mAcceptor:\u001b[0m\n",
      "0.7065\t0.5968\t0.8241\t0.9319\t0.596\t0.96670001745224\t0.9379000067710876\t0.8385999798774719\t0.5264999866485596\t21432\n",
      "\n",
      "\u001b[1mDonor:\u001b[0m\n",
      "0.8652\t0.6973\t0.8771\t0.9517\t0.7491\t0.9613999724388123\t0.8970000147819519\t0.6586999893188477\t0.22930000722408295\t21432\n",
      "epoch: 1/10, val loss = 0.001979\n"
     ]
    },
    {
     "name": "stderr",
     "output_type": "stream",
     "text": [
      "Epoch (train) 2/10: 100%|█| 101/101 [18:32<00:00, 11.02s/it, accepor_recall=0.884, donor_recall=0.896, loss=0.000196, pr\n"
     ]
    },
    {
     "name": "stdout",
     "output_type": "stream",
     "text": [
      "epoch: 2/10, train loss = 0.000206\n"
     ]
    },
    {
     "name": "stderr",
     "output_type": "stream",
     "text": [
      "Epoch (val) 2/10: 100%|█| 12/12 [02:56<00:00, 14.72s/it, accepor_recall=0.701, donor_recall=0.742, loss=0.000419, pred_l\n"
     ]
    },
    {
     "name": "stdout",
     "output_type": "stream",
     "text": [
      "\n",
      "\u001b[1mAcceptor:\u001b[0m\n",
      "0.9663\t0.8497\t0.9581\t0.9807\t0.9039\t0.8087000250816345\t0.13860000669956207\t0.005499999970197678\t0.0010000000474974513\t21432\n",
      "\n",
      "\u001b[1mDonor:\u001b[0m\n",
      "0.9656\t0.8611\t0.9741\t0.9896\t0.9165\t0.8166999816894531\t0.1941000074148178\t0.005900000222027302\t0.0008999999845400453\t21432\n",
      "epoch: 2/10, val loss = 0.000357\n"
     ]
    },
    {
     "name": "stderr",
     "output_type": "stream",
     "text": [
      "Epoch (train) 3/10: 100%|█| 101/101 [18:51<00:00, 11.20s/it, accepor_recall=0.9, donor_recall=0.903, loss=0.000185, pred\n"
     ]
    },
    {
     "name": "stdout",
     "output_type": "stream",
     "text": [
      "epoch: 3/10, train loss = 0.000183\n"
     ]
    },
    {
     "name": "stderr",
     "output_type": "stream",
     "text": [
      "Epoch (val) 3/10: 100%|█| 12/12 [03:01<00:00, 15.13s/it, accepor_recall=0.847, donor_recall=0.847, loss=0.000314, pred_l\n"
     ]
    },
    {
     "name": "stdout",
     "output_type": "stream",
     "text": [
      "\n",
      "\u001b[1mAcceptor:\u001b[0m\n",
      "0.9686\t0.8783\t0.9722\t0.9871\t0.9236\t0.9243000149726868\t0.3508000075817108\t0.009200000204145908\t0.0012000000569969416\t21432\n",
      "\n",
      "\u001b[1mDonor:\u001b[0m\n",
      "0.967\t0.8851\t0.9799\t0.9923\t0.9293\t0.9297000169754028\t0.29649999737739563\t0.00430000014603138\t0.0005000000237487257\t21432\n",
      "epoch: 3/10, val loss = 0.000270\n"
     ]
    },
    {
     "name": "stderr",
     "output_type": "stream",
     "text": [
      "Epoch (train) 4/10: 100%|█| 101/101 [18:38<00:00, 11.08s/it, accepor_recall=0.909, donor_recall=0.915, loss=0.000159, pr\n"
     ]
    },
    {
     "name": "stdout",
     "output_type": "stream",
     "text": [
      "epoch: 4/10, train loss = 0.000170\n"
     ]
    },
    {
     "name": "stderr",
     "output_type": "stream",
     "text": [
      "Epoch (val) 4/10: 100%|█| 12/12 [02:54<00:00, 14.58s/it, accepor_recall=0.899, donor_recall=0.93, loss=0.000252, pred_l1\n"
     ]
    },
    {
     "name": "stdout",
     "output_type": "stream",
     "text": [
      "\n",
      "\u001b[1mAcceptor:\u001b[0m\n",
      "0.9748\t0.9026\t0.9824\t0.9919\t0.9435\t0.9430999755859375\t0.505299985408783\t0.017100000753998756\t0.0024999999441206455\t21432\n",
      "\n",
      "\u001b[1mDonor:\u001b[0m\n",
      "0.9729\t0.9098\t0.9874\t0.9945\t0.9474\t0.9628999829292297\t0.6449999809265137\t0.020400000736117363\t0.002300000051036477\t21432\n",
      "epoch: 4/10, val loss = 0.000217\n"
     ]
    },
    {
     "name": "stderr",
     "output_type": "stream",
     "text": [
      "Epoch (train) 5/10: 100%|█| 101/101 [18:31<00:00, 11.00s/it, accepor_recall=0.92, donor_recall=0.927, loss=0.00016, pred\n"
     ]
    },
    {
     "name": "stdout",
     "output_type": "stream",
     "text": [
      "epoch: 5/10, train loss = 0.000156\n"
     ]
    },
    {
     "name": "stderr",
     "output_type": "stream",
     "text": [
      "Epoch (val) 5/10: 100%|█| 12/12 [03:05<00:00, 15.49s/it, accepor_recall=0.856, donor_recall=0.872, loss=0.000284, pred_l\n"
     ]
    },
    {
     "name": "stdout",
     "output_type": "stream",
     "text": [
      "\n",
      "\u001b[1mAcceptor:\u001b[0m\n",
      "0.9722\t0.8979\t0.9778\t0.9876\t0.9353\t0.9803000092506409\t0.3005000054836273\t0.0027000000700354576\t0.00039999998989515007\t21432\n",
      "\n",
      "\u001b[1mDonor:\u001b[0m\n",
      "0.9728\t0.9042\t0.9838\t0.9932\t0.9435\t0.9878000020980835\t0.31119999289512634\t0.00139999995008111\t0.00019999999494757503\t21432\n",
      "epoch: 5/10, val loss = 0.000245\n"
     ]
    },
    {
     "name": "stderr",
     "output_type": "stream",
     "text": [
      "Epoch (train) 6/10: 100%|█| 101/101 [18:40<00:00, 11.09s/it, accepor_recall=0.93, donor_recall=0.936, loss=0.000152, pre\n"
     ]
    },
    {
     "name": "stdout",
     "output_type": "stream",
     "text": [
      "epoch: 6/10, train loss = 0.000144\n"
     ]
    },
    {
     "name": "stderr",
     "output_type": "stream",
     "text": [
      "Epoch (val) 6/10: 100%|█| 12/12 [02:58<00:00, 14.87s/it, accepor_recall=0.948, donor_recall=0.943, loss=0.00029, pred_l1\n"
     ]
    },
    {
     "name": "stdout",
     "output_type": "stream",
     "text": [
      "\n",
      "\u001b[1mAcceptor:\u001b[0m\n",
      "0.9741\t0.908\t0.9821\t0.9917\t0.9431\t0.9914000034332275\t0.8579999804496765\t0.03420000150799751\t0.0034000000450760126\t21432\n",
      "\n",
      "\u001b[1mDonor:\u001b[0m\n",
      "0.9728\t0.9102\t0.9874\t0.9938\t0.9476\t0.984000027179718\t0.7681999802589417\t0.016300000250339508\t0.0015999999595806003\t21432\n",
      "epoch: 6/10, val loss = 0.000256\n"
     ]
    },
    {
     "name": "stderr",
     "output_type": "stream",
     "text": [
      "Epoch (train) 7/10: 100%|█| 101/101 [18:37<00:00, 11.07s/it, accepor_recall=0.931, donor_recall=0.941, loss=0.000134, pr\n"
     ]
    },
    {
     "name": "stdout",
     "output_type": "stream",
     "text": [
      "epoch: 7/10, train loss = 0.000133\n"
     ]
    },
    {
     "name": "stderr",
     "output_type": "stream",
     "text": [
      "Epoch (val) 7/10: 100%|█| 12/12 [02:59<00:00, 14.96s/it, accepor_recall=0.907, donor_recall=0.892, loss=0.000258, pred_l\n"
     ]
    },
    {
     "name": "stdout",
     "output_type": "stream",
     "text": [
      "\n",
      "\u001b[1mAcceptor:\u001b[0m\n",
      "0.9694\t0.901\t0.9811\t0.9907\t0.9371\t0.9718000292778015\t0.529699981212616\t0.006300000008195639\t0.0007999999797903001\t21432\n",
      "\n",
      "\u001b[1mDonor:\u001b[0m\n",
      "0.9678\t0.903\t0.9841\t0.9921\t0.9403\t0.9557999968528748\t0.41499999165534973\t0.002899999963119626\t0.0003000000142492354\t21432\n",
      "epoch: 7/10, val loss = 0.000227\n"
     ]
    },
    {
     "name": "stderr",
     "output_type": "stream",
     "text": [
      "Epoch (train) 8/10: 100%|█| 101/101 [18:48<00:00, 11.17s/it, accepor_recall=0.949, donor_recall=0.953, loss=0.000116, pr\n"
     ]
    },
    {
     "name": "stdout",
     "output_type": "stream",
     "text": [
      "epoch: 8/10, train loss = 0.000107\n"
     ]
    },
    {
     "name": "stderr",
     "output_type": "stream",
     "text": [
      "Epoch (val) 8/10: 100%|█| 12/12 [03:01<00:00, 15.11s/it, accepor_recall=0.87, donor_recall=0.871, loss=0.000247, pred_l1\n"
     ]
    },
    {
     "name": "stdout",
     "output_type": "stream",
     "text": [
      "\n",
      "\u001b[1mAcceptor:\u001b[0m\n",
      "0.9757\t0.918\t0.9839\t0.9909\t0.9492\t0.958299994468689\t0.23489999771118164\t0.0020000000949949026\t0.00039999998989515007\t21432\n",
      "\n",
      "\u001b[1mDonor:\u001b[0m\n",
      "0.9736\t0.9217\t0.9876\t0.9929\t0.9532\t0.9545000195503235\t0.2134999930858612\t0.0015999999595806003\t0.0003000000142492354\t21432\n",
      "epoch: 8/10, val loss = 0.000208\n"
     ]
    },
    {
     "name": "stderr",
     "output_type": "stream",
     "text": [
      "Epoch (train) 9/10: 100%|█| 101/101 [18:35<00:00, 11.04s/it, accepor_recall=0.96, donor_recall=0.965, loss=8.39e-5, pred\n"
     ]
    },
    {
     "name": "stdout",
     "output_type": "stream",
     "text": [
      "epoch: 9/10, train loss = 0.000090\n"
     ]
    },
    {
     "name": "stderr",
     "output_type": "stream",
     "text": [
      "Epoch (val) 9/10: 100%|█| 12/12 [02:55<00:00, 14.65s/it, accepor_recall=0.909, donor_recall=0.915, loss=0.000212, pred_l\n"
     ]
    },
    {
     "name": "stdout",
     "output_type": "stream",
     "text": [
      "\n",
      "\u001b[1mAcceptor:\u001b[0m\n",
      "0.9742\t0.9266\t0.9881\t0.9935\t0.9545\t0.9751999974250793\t0.4259999990463257\t0.002099999925121665\t0.0003000000142492354\t21432\n",
      "\n",
      "\u001b[1mDonor:\u001b[0m\n",
      "0.972\t0.9294\t0.9905\t0.995\t0.9568\t0.9772999882698059\t0.41429999470710754\t0.0010999999940395355\t0.00019999999494757503\t21432\n",
      "epoch: 9/10, val loss = 0.000178\n"
     ]
    },
    {
     "name": "stderr",
     "output_type": "stream",
     "text": [
      "Epoch (train) 10/10: 100%|█| 101/101 [18:40<00:00, 11.09s/it, accepor_recall=0.967, donor_recall=0.97, loss=7.35e-5, pre\n"
     ]
    },
    {
     "name": "stdout",
     "output_type": "stream",
     "text": [
      "epoch: 10/10, train loss = 0.000079\n"
     ]
    },
    {
     "name": "stderr",
     "output_type": "stream",
     "text": [
      "Epoch (val) 10/10: 100%|█| 12/12 [02:57<00:00, 14.82s/it, accepor_recall=0.902, donor_recall=0.915, loss=0.000231, pred_\n"
     ]
    },
    {
     "name": "stdout",
     "output_type": "stream",
     "text": [
      "\n",
      "\u001b[1mAcceptor:\u001b[0m\n",
      "0.9762\t0.9256\t0.9862\t0.9918\t0.9525\t0.983299970626831\t0.32679998874664307\t0.000699999975040555\t9.999999747378752e-05\t21432\n",
      "\n",
      "\u001b[1mDonor:\u001b[0m\n",
      "0.9721\t0.9294\t0.989\t0.9941\t0.9545\t0.9864000082015991\t0.39320001006126404\t0.0006000000284984708\t9.999999747378752e-05\t21432\n",
      "epoch: 10/10, val loss = 0.000194\n"
     ]
    },
    {
     "data": {
      "image/png": "[encoded data removed]",
      "text/plain": [
       "<Figure size 432x288 with 1 Axes>"
      ]
     },
     "metadata": {
      "needs_background": "light"
     },
     "output_type": "display_data"
    },
    {
     "name": "stderr",
     "output_type": "stream",
     "text": [
      "Epoch (train) 1/10: 100%|█| 101/101 [18:48<00:00, 11.18s/it, accepor_recall=0.849, donor_recall=0.871, loss=0.000248, pr\n"
     ]
    },
    {
     "name": "stdout",
     "output_type": "stream",
     "text": [
      "epoch: 1/10, train loss = 0.011190\n"
     ]
    },
    {
     "name": "stderr",
     "output_type": "stream",
     "text": [
      "Epoch (val) 1/10: 100%|█| 12/12 [03:24<00:00, 17.01s/it, accepor_recall=0.922, donor_recall=0.866, loss=0.000382, pred_l\n"
     ]
    },
    {
     "name": "stdout",
     "output_type": "stream",
     "text": [
      "\n",
      "\u001b[1mAcceptor:\u001b[0m\n",
      "0.9647\t0.8664\t0.9691\t0.9865\t0.9155\t0.9908999800682068\t0.8281999826431274\t0.1145000010728836\t0.014700000174343586\t21432\n",
      "\n",
      "\u001b[1mDonor:\u001b[0m\n",
      "0.9658\t0.8794\t0.9804\t0.9926\t0.9278\t0.9541000127792358\t0.47600001096725464\t0.02070000022649765\t0.0026000000070780516\t21432\n",
      "epoch: 1/10, val loss = 0.000343\n"
     ]
    },
    {
     "name": "stderr",
     "output_type": "stream",
     "text": [
      "Epoch (train) 2/10: 100%|█| 101/101 [18:43<00:00, 11.12s/it, accepor_recall=0.885, donor_recall=0.895, loss=0.000181, pr\n"
     ]
    },
    {
     "name": "stdout",
     "output_type": "stream",
     "text": [
      "epoch: 2/10, train loss = 0.000206\n"
     ]
    },
    {
     "name": "stderr",
     "output_type": "stream",
     "text": [
      "Epoch (val) 2/10: 100%|█| 12/12 [02:59<00:00, 14.95s/it, accepor_recall=0.857, donor_recall=0.896, loss=0.000322, pred_l\n"
     ]
    },
    {
     "name": "stdout",
     "output_type": "stream",
     "text": [
      "\n",
      "\u001b[1mAcceptor:\u001b[0m\n",
      "0.9633\t0.8659\t0.9682\t0.9853\t0.9159\t0.9207000136375427\t0.45179998874664307\t0.01360000018030405\t0.0015999999595806003\t21432\n",
      "\n",
      "\u001b[1mDonor:\u001b[0m\n",
      "0.9643\t0.8737\t0.975\t0.9913\t0.9207\t0.9717000126838684\t0.6466000080108643\t0.020899999886751175\t0.002199999988079071\t21432\n",
      "epoch: 2/10, val loss = 0.000285\n"
     ]
    },
    {
     "name": "stderr",
     "output_type": "stream",
     "text": [
      "Epoch (train) 3/10: 100%|█| 101/101 [18:44<00:00, 11.14s/it, accepor_recall=0.892, donor_recall=0.901, loss=0.00018, pre\n"
     ]
    },
    {
     "name": "stdout",
     "output_type": "stream",
     "text": [
      "epoch: 3/10, train loss = 0.000185\n"
     ]
    },
    {
     "name": "stderr",
     "output_type": "stream",
     "text": [
      "Epoch (val) 3/10: 100%|█| 12/12 [02:59<00:00, 14.97s/it, accepor_recall=0.7, donor_recall=0.731, loss=0.000457, pred_l1_\n"
     ]
    },
    {
     "name": "stdout",
     "output_type": "stream",
     "text": [
      "\n",
      "\u001b[1mAcceptor:\u001b[0m\n",
      "0.9659\t0.8433\t0.9506\t0.9771\t0.8966\t0.9175000190734863\t0.0812000036239624\t0.003000000026077032\t0.0006000000284984708\t21432\n",
      "\n",
      "\u001b[1mDonor:\u001b[0m\n",
      "0.9645\t0.86\t0.9695\t0.9881\t0.9132\t0.9283000230789185\t0.093299999833107\t0.0024999999441206455\t0.0005000000237487257\t21432\n",
      "epoch: 3/10, val loss = 0.000396\n"
     ]
    },
    {
     "name": "stderr",
     "output_type": "stream",
     "text": [
      "Epoch (train) 4/10: 100%|█| 101/101 [18:48<00:00, 11.18s/it, accepor_recall=0.912, donor_recall=0.92, loss=0.000156, pre\n"
     ]
    },
    {
     "name": "stdout",
     "output_type": "stream",
     "text": [
      "epoch: 4/10, train loss = 0.000170\n"
     ]
    },
    {
     "name": "stderr",
     "output_type": "stream",
     "text": [
      "Epoch (val) 4/10: 100%|█| 12/12 [03:08<00:00, 15.74s/it, accepor_recall=0.901, donor_recall=0.885, loss=0.000271, pred_l\n"
     ]
    },
    {
     "name": "stdout",
     "output_type": "stream",
     "text": [
      "\n",
      "\u001b[1mAcceptor:\u001b[0m\n",
      "0.9702\t0.8927\t0.9786\t0.99\t0.9352\t0.9825000166893005\t0.5701000094413757\t0.01510000042617321\t0.0017000000225380063\t21432\n",
      "\n",
      "\u001b[1mDonor:\u001b[0m\n",
      "0.9706\t0.896\t0.983\t0.9929\t0.9393\t0.9685999751091003\t0.4494999945163727\t0.005200000014156103\t0.0005000000237487257\t21432\n",
      "epoch: 4/10, val loss = 0.000239\n"
     ]
    },
    {
     "name": "stderr",
     "output_type": "stream",
     "text": [
      "Epoch (train) 5/10: 100%|█| 101/101 [19:10<00:00, 11.39s/it, accepor_recall=0.921, donor_recall=0.928, loss=0.000152, pr\n"
     ]
    },
    {
     "name": "stdout",
     "output_type": "stream",
     "text": [
      "epoch: 5/10, train loss = 0.000156\n"
     ]
    },
    {
     "name": "stderr",
     "output_type": "stream",
     "text": [
      "Epoch (val) 5/10: 100%|█| 12/12 [02:59<00:00, 14.93s/it, accepor_recall=0.922, donor_recall=0.927, loss=0.000271, pred_l\n"
     ]
    },
    {
     "name": "stdout",
     "output_type": "stream",
     "text": [
      "\n",
      "\u001b[1mAcceptor:\u001b[0m\n",
      "0.9704\t0.8988\t0.9812\t0.9908\t0.9379\t0.9929999709129333\t0.7289000153541565\t0.00930000003427267\t0.000699999975040555\t21432\n",
      "\n",
      "\u001b[1mDonor:\u001b[0m\n",
      "0.9708\t0.9085\t0.9871\t0.9937\t0.9445\t0.9876999855041504\t0.6837000250816345\t0.00559999980032444\t0.0005000000237487257\t21432\n",
      "epoch: 5/10, val loss = 0.000239\n"
     ]
    },
    {
     "name": "stderr",
     "output_type": "stream",
     "text": [
      "Epoch (train) 6/10: 100%|█| 101/101 [18:34<00:00, 11.03s/it, accepor_recall=0.926, donor_recall=0.935, loss=0.000149, pr\n"
     ]
    },
    {
     "name": "stdout",
     "output_type": "stream",
     "text": [
      "epoch: 6/10, train loss = 0.000143\n"
     ]
    },
    {
     "name": "stderr",
     "output_type": "stream",
     "text": [
      "Epoch (val) 6/10: 100%|█| 12/12 [03:05<00:00, 15.49s/it, accepor_recall=0.888, donor_recall=0.903, loss=0.000243, pred_l\n"
     ]
    },
    {
     "name": "stdout",
     "output_type": "stream",
     "text": [
      "\n",
      "\u001b[1mAcceptor:\u001b[0m\n",
      "0.9692\t0.9071\t0.9832\t0.9906\t0.9408\t0.9775000214576721\t0.42500001192092896\t0.005799999926239252\t0.0010000000474974513\t21432\n",
      "\n",
      "\u001b[1mDonor:\u001b[0m\n",
      "0.9717\t0.9141\t0.9882\t0.9941\t0.9476\t0.9746000170707703\t0.44699999690055847\t0.005100000184029341\t0.0007999999797903001\t21432\n",
      "epoch: 6/10, val loss = 0.000210\n"
     ]
    },
    {
     "name": "stderr",
     "output_type": "stream",
     "text": [
      "Epoch (train) 7/10: 100%|█| 101/101 [18:29<00:00, 10.99s/it, accepor_recall=0.933, donor_recall=0.938, loss=0.000143, pr\n"
     ]
    },
    {
     "name": "stdout",
     "output_type": "stream",
     "text": [
      "epoch: 7/10, train loss = 0.000133\n"
     ]
    },
    {
     "name": "stderr",
     "output_type": "stream",
     "text": [
      "Epoch (val) 7/10: 100%|█| 12/12 [03:07<00:00, 15.60s/it, accepor_recall=0.798, donor_recall=0.813, loss=0.000319, pred_l\n"
     ]
    },
    {
     "name": "stdout",
     "output_type": "stream",
     "text": [
      "\n",
      "\u001b[1mAcceptor:\u001b[0m\n",
      "0.9697\t0.8863\t0.9711\t0.9843\t0.9265\t0.9441999793052673\t0.17020000517368317\t0.005799999926239252\t0.001500000013038516\t21432\n",
      "\n",
      "\u001b[1mDonor:\u001b[0m\n",
      "0.9725\t0.8992\t0.9809\t0.9927\t0.9376\t0.9553999900817871\t0.13220000267028809\t0.002199999988079071\t0.0005000000237487257\t21432\n",
      "epoch: 7/10, val loss = 0.000272\n"
     ]
    },
    {
     "name": "stderr",
     "output_type": "stream",
     "text": [
      "Epoch (train) 8/10: 100%|█| 101/101 [18:43<00:00, 11.13s/it, accepor_recall=0.95, donor_recall=0.954, loss=0.000105, pre\n"
     ]
    },
    {
     "name": "stdout",
     "output_type": "stream",
     "text": [
      "epoch: 8/10, train loss = 0.000107\n"
     ]
    },
    {
     "name": "stderr",
     "output_type": "stream",
     "text": [
      "Epoch (val) 8/10: 100%|█| 12/12 [02:54<00:00, 14.55s/it, accepor_recall=0.889, donor_recall=0.892, loss=0.000237, pred_l\n"
     ]
    },
    {
     "name": "stdout",
     "output_type": "stream",
     "text": [
      "\n",
      "\u001b[1mAcceptor:\u001b[0m\n",
      "0.9718\t0.9177\t0.9849\t0.9917\t0.9487\t0.9692000150680542\t0.3010999858379364\t0.002899999963119626\t0.0006000000284984708\t21432\n",
      "\n",
      "\u001b[1mDonor:\u001b[0m\n",
      "0.9729\t0.9183\t0.9875\t0.9938\t0.9501\t0.9699000120162964\t0.296099990606308\t0.0017999999690800905\t0.0003000000142492354\t21432\n",
      "epoch: 8/10, val loss = 0.000201\n"
     ]
    },
    {
     "name": "stderr",
     "output_type": "stream",
     "text": [
      "Epoch (train) 9/10: 100%|█| 101/101 [18:56<00:00, 11.25s/it, accepor_recall=0.956, donor_recall=0.962, loss=9.57e-5, pre\n"
     ]
    },
    {
     "name": "stdout",
     "output_type": "stream",
     "text": [
      "epoch: 9/10, train loss = 0.000090\n"
     ]
    },
    {
     "name": "stderr",
     "output_type": "stream",
     "text": [
      "Epoch (val) 9/10: 100%|█| 12/12 [02:58<00:00, 14.83s/it, accepor_recall=0.925, donor_recall=0.939, loss=0.000211, pred_l\n"
     ]
    },
    {
     "name": "stdout",
     "output_type": "stream",
     "text": [
      "\n",
      "\u001b[1mAcceptor:\u001b[0m\n",
      "0.9721\t0.9232\t0.9871\t0.9929\t0.951\t0.9818999767303467\t0.5708000063896179\t0.0034000000450760126\t0.0005000000237487257\t21432\n",
      "\n",
      "\u001b[1mDonor:\u001b[0m\n",
      "0.9712\t0.9264\t0.9905\t0.9951\t0.9515\t0.9872999787330627\t0.6589999794960022\t0.0032999999821186066\t0.00039999998989515007\t21432\n",
      "epoch: 9/10, val loss = 0.000182\n"
     ]
    },
    {
     "name": "stderr",
     "output_type": "stream",
     "text": [
      "Epoch (train) 10/10: 100%|█| 101/101 [18:31<00:00, 11.01s/it, accepor_recall=0.964, donor_recall=0.969, loss=8.69e-5, pr\n"
     ]
    },
    {
     "name": "stdout",
     "output_type": "stream",
     "text": [
      "epoch: 10/10, train loss = 0.000079\n"
     ]
    },
    {
     "name": "stderr",
     "output_type": "stream",
     "text": [
      "Epoch (val) 10/10: 100%|█| 12/12 [02:55<00:00, 14.60s/it, accepor_recall=0.923, donor_recall=0.934, loss=0.000208, pred_\n"
     ]
    },
    {
     "name": "stdout",
     "output_type": "stream",
     "text": [
      "\n",
      "\u001b[1mAcceptor:\u001b[0m\n",
      "0.9709\t0.926\t0.9875\t0.993\t0.9518\t0.9775999784469604\t0.51910001039505\t0.002099999925121665\t0.0003000000142492354\t21432\n",
      "\n",
      "\u001b[1mDonor:\u001b[0m\n",
      "0.9697\t0.9295\t0.9899\t0.9947\t0.953\t0.9829000234603882\t0.5745999813079834\t0.0015999999595806003\t0.00019999999494757503\t21432\n",
      "epoch: 10/10, val loss = 0.000177\n"
     ]
    },
    {
     "data": {
      "image/png": "[encoded data removed]",
      "text/plain": [
       "<Figure size 432x288 with 1 Axes>"
      ]
     },
     "metadata": {
      "needs_background": "light"
     },
     "output_type": "display_data"
    }
   ],
   "source": [
    "device = torch.device(\"cuda\" if torch.cuda.is_available() else \"cpu\")\n",
    "epochs = 10\n",
    "hs = []\n",
    "\n",
    "for model_nr in range(5):\n",
    "    model_m = SpliceFormer(CL_max,sampleFromGumbel=True,gumbel_scale=512)\n",
    "    model_m.apply(keras_init)\n",
    "    model_m = model_m.to(device)\n",
    "    if torch.cuda.device_count() > 1:\n",
    "        #print(\"Let's use\", torch.cuda.device_count(), \"GPUs!\")\n",
    "        # dim = 0 [30, xxx] -> [10, ...], [10, ...], [10, ...] on 3 GPUs\n",
    "        model_m = nn.DataParallel(model_m)\n",
    "    \n",
    "    modelFileName = '../Results/PyTorch_Models/transformer_encoder_40k_060522_{}'.format(model_nr)\n",
    "    #model_m.load_state_dict(torch.load('../Results/PyTorch_Models/SpliceAI_Ensembl_dgxtest_{}'.format(0)))\n",
    "    #loss = nn.CrossEntropyLoss(weight=torch.from_numpy(weights).float().to(device),ignore_index=-1,reduction='mean')\n",
    "    loss = categorical_crossentropy_2d().loss\n",
    "    #loss = nn.KLDivLoss()\n",
    "    learning_rate= k*1e-3\n",
    "    optimizer = torch.optim.Adam(model_m.parameters(), lr=learning_rate)\n",
    "    scheduler = torch.optim.lr_scheduler.StepLR(optimizer, step_size=1, gamma=0.5)\n",
    "    warmup = get_constant_schedule_with_warmup(optimizer, num_warmup_steps=1000)\n",
    "    h = trainModel(model_m,modelFileName,loss,train_loader,val_loader,optimizer,scheduler,warmup,BATCH_SIZE,epochs,device)\n",
    "    hs.append(h)\n",
    "\n",
    "    plt.plot(range(epochs),h['loss'],label='Train')\n",
    "    plt.plot(range(epochs),h['val_loss'],label='Validation')\n",
    "    plt.xlabel('Epoch')\n",
    "    plt.ylabel('Loss')\n",
    "    plt.legend()\n",
    "    plt.show()"
   ]
  },
  {
   "cell_type": "code",
   "execution_count": 12,
   "metadata": {},
   "outputs": [
    {
     "name": "stderr",
     "output_type": "stream",
     "text": [
      "100%|███████████████████████████████████████████████████████████████████████████████████| 17/17 [05:22<00:00, 18.96s/it]\n"
     ]
    }
   ],
   "source": [
    "device = torch.device(\"cuda\" if torch.cuda.is_available() else \"cpu\")\n",
    "h5f = h5py.File('/odinn/tmp/benediktj/Data/SplicePrediction/gencode_40k_dataset_test_.h5')\n",
    "\n",
    "num_idx = len(h5f.keys())//2\n",
    "\n",
    "test_dataset = h5pyDataset(h5f,list(range(num_idx)))\n",
    "test_loader = torch.utils.data.DataLoader(test_dataset, batch_size=1, shuffle=False, num_workers=0)\n",
    "\n",
    "temp = 1\n",
    "n_models = 5\n",
    "device = torch.device(\"cuda\" if torch.cuda.is_available() else \"cpu\")\n",
    "model_m = SpliceFormer(CL_max,sampleFromGumbel=True,gumbel_scale=512)\n",
    "model_m.apply(keras_init)\n",
    "model_m = model_m.to(device)\n",
    "\n",
    "if torch.cuda.device_count() > 1:\n",
    "    model_m = nn.DataParallel(model_m)\n",
    "\n",
    "output_class_labels = ['Null', 'Acceptor', 'Donor']\n",
    "\n",
    "#for output_class in [1,2]:\n",
    "models = [copy.deepcopy(model_m) for i in range(n_models)]\n",
    "[model.load_state_dict(torch.load('../Results/PyTorch_Models/transformer_encoder_40k_060522_{}'.format(i))) for i,model in enumerate(models)]\n",
    "\n",
    "for model in models:\n",
    "    model.eval()\n",
    "    \n",
    "Y_true_acceptor, Y_pred_acceptor = [],[]\n",
    "Y_true_donor, Y_pred_donor = [],[]\n",
    "\n",
    "for (batch_chunks,target_chunks) in tqdm(test_loader):\n",
    "    batch_chunks = torch.transpose(batch_chunks[0].to(device),1,2)\n",
    "    target_chunks = torch.transpose(torch.squeeze(target_chunks[0].to(device),0),1,2)\n",
    "    #print(np.max(target_chunks.cpu().numpy()[:,2,:]))\n",
    "    n_chunks = int(np.ceil(batch_chunks.shape[0]/BATCH_SIZE))\n",
    "    batch_chunks = torch.chunk(batch_chunks, n_chunks, dim=0)\n",
    "    target_chunks = torch.chunk(target_chunks, n_chunks, dim=0)\n",
    "    targets_list = []\n",
    "    outputs_list = []\n",
    "    for j in range(len(batch_chunks)):\n",
    "        batch_features = batch_chunks[j]\n",
    "        targets = target_chunks[j]\n",
    "        outputs = ([models[i](batch_features)[1].detach() for i in range(n_models)])\n",
    "        outputs = (outputs[0]+outputs[1]+outputs[2]+outputs[3]+outputs[4])/n_models\n",
    "        #outputs = (outputs[0]+outputs[1]+outputs[2])/n_models\n",
    "        targets_list.extend(targets.unsqueeze(0))\n",
    "        outputs_list.extend(outputs.unsqueeze(0))\n",
    "\n",
    "    targets = torch.transpose(torch.vstack(targets_list),1,2).cpu().numpy()\n",
    "    outputs = torch.transpose(torch.vstack(outputs_list),1,2).cpu().numpy()\n",
    "\n",
    "    is_expr = (targets.sum(axis=(1,2)) >= 1)\n",
    "    Y_true_acceptor.extend(targets[is_expr, :, 1].flatten())\n",
    "    Y_true_donor.extend(targets[is_expr, :, 2].flatten())\n",
    "    Y_pred_acceptor.extend(outputs[is_expr, :, 1].flatten())\n",
    "    Y_pred_donor.extend(outputs[is_expr, :, 2].flatten())"
   ]
  },
  {
   "cell_type": "code",
   "execution_count": 13,
   "metadata": {},
   "outputs": [
    {
     "name": "stdout",
     "output_type": "stream",
     "text": [
      "\n",
      "\u001b[1mAcceptor:\u001b[0m\n",
      "0.9962\t0.9431\t0.9854\t0.9904\t0.9749\t0.9729999899864197\t0.30079999566078186\t0.002099999925121665\t0.0003000000142492354\t14289\n",
      "\n",
      "\u001b[1mDonor:\u001b[0m\n",
      "0.9961\t0.9479\t0.9888\t0.9922\t0.9776\t0.9764999747276306\t0.3041999936103821\t0.00139999995008111\t0.00019999999494757503\t14289\n"
     ]
    }
   ],
   "source": [
    "Y_true_acceptor, Y_pred_acceptor,Y_true_donor, Y_pred_donor = np.array(Y_true_acceptor), np.array(Y_pred_acceptor),np.array(Y_true_donor), np.array(Y_pred_donor)\n",
    "print(\"\\n\\033[1m{}:\\033[0m\".format('Acceptor'))\n",
    "acceptor_val_results = print_topl_statistics(Y_true_acceptor, Y_pred_acceptor)\n",
    "print(\"\\n\\033[1m{}:\\033[0m\".format('Donor'))\n",
    "donor_val_results =print_topl_statistics(Y_true_donor, Y_pred_donor)"
   ]
  },
  {
   "cell_type": "code",
   "execution_count": 14,
   "metadata": {},
   "outputs": [],
   "source": [
    "setType = 'test'\n",
    "annotation_test, transcriptToLabel_test, seqData = getData(data_dir, setType)    \n"
   ]
  },
  {
   "cell_type": "code",
   "execution_count": 15,
   "metadata": {
    "scrolled": true
   },
   "outputs": [
    {
     "name": "stderr",
     "output_type": "stream",
     "text": [
      "100%|████████████████████████████████████████████████████████████████████████████████| 90/90 [2:57:02<00:00, 118.03s/it]\n"
     ]
    }
   ],
   "source": [
    "temp = 1\n",
    "n_models = 5\n",
    "device = torch.device(\"cuda\" if torch.cuda.is_available() else \"cpu\")\n",
    "model_m = SpliceFormer(CL_max,sampleFromGumbel=True,gumbel_scale=512)\n",
    "model_m.apply(keras_init)\n",
    "model_m = model_m.to(device)\n",
    "\n",
    "if torch.cuda.device_count() > 1:\n",
    "    model_m = nn.DataParallel(model_m)\n",
    "\n",
    "output_class_labels = ['Null', 'Acceptor', 'Donor']\n",
    "\n",
    "#for output_class in [1,2]:\n",
    "models = [copy.deepcopy(model_m) for i in range(n_models)]\n",
    "[model.load_state_dict(torch.load('../Results/PyTorch_Models/transformer_encoder_40k_060522_{}'.format(i))) for i,model in enumerate(models)]\n",
    "#nr = [0,2,3]\n",
    "#[model.load_state_dict(torch.load('../Results/PyTorch_Models/transformer_encoder_40k_201221_{}'.format(nr[i]))) for i,model in enumerate(models)]\n",
    "#chunkSize = num_idx/10\n",
    "for model in models:\n",
    "    model.eval()\n",
    "\n",
    "Y_true_acceptor, Y_pred_acceptor = [],[]\n",
    "Y_true_donor, Y_pred_donor = [],[]\n",
    "test_dataset = spliceDataset(annotation_test,transcriptToLabel_test,SL,CL_max)\n",
    "test_dataset.seqData = seqData\n",
    "test_loader = torch.utils.data.DataLoader(test_dataset, batch_size=100, shuffle=False, num_workers=0,collate_fn=collate_fn, pin_memory=True)\n",
    "\n",
    "\n",
    "for (batch_chunks,target_chunks) in tqdm(test_loader):\n",
    "    batch_chunks = torch.transpose(batch_chunks.to(device),1,2)\n",
    "    target_chunks = torch.transpose(torch.squeeze(target_chunks.to(device),0),1,2)\n",
    "    batch_chunks = torch.split(batch_chunks, BATCH_SIZE, dim=0)\n",
    "    target_chunks = torch.split(target_chunks, BATCH_SIZE, dim=0)\n",
    "    targets_list = []\n",
    "    outputs_list = []\n",
    "    for j in range(len(batch_chunks)):\n",
    "        batch_features = batch_chunks[j]\n",
    "        targets = target_chunks[j]\n",
    "        outputs = ([models[i](batch_features)[1].detach() for i in range(n_models)])\n",
    "        outputs = (outputs[0]+outputs[1]+outputs[2]+outputs[3]+outputs[4])/n_models\n",
    "        #outputs = (outputs[0]+outputs[1]+outputs[2])/n_models\n",
    "        targets_list.extend(targets.unsqueeze(0))\n",
    "        outputs_list.extend(outputs.unsqueeze(0))\n",
    "\n",
    "    targets = torch.transpose(torch.vstack(targets_list),1,2).cpu().numpy()\n",
    "    outputs = torch.transpose(torch.vstack(outputs_list),1,2).cpu().numpy()\n",
    "\n",
    "    is_expr = (targets.sum(axis=(1,2)) >= 1)\n",
    "    Y_true_acceptor.extend(targets[is_expr, :, 1].flatten())\n",
    "    Y_true_donor.extend(targets[is_expr, :, 2].flatten())\n",
    "    Y_pred_acceptor.extend(outputs[is_expr, :, 1].flatten())\n",
    "    Y_pred_donor.extend(outputs[is_expr, :, 2].flatten())\n",
    "\n"
   ]
  },
  {
   "cell_type": "code",
   "execution_count": 16,
   "metadata": {},
   "outputs": [
    {
     "name": "stdout",
     "output_type": "stream",
     "text": [
      "\n",
      "\u001b[1mAcceptor:\u001b[0m\n",
      "0.9788\t0.9347\t0.9902\t0.9948\t0.9627\t0.9768000245094299\t0.4320000112056732\t0.002400000113993883\t0.0003000000142492354\t89712\n",
      "\n",
      "\u001b[1mDonor:\u001b[0m\n",
      "0.9798\t0.9408\t0.9934\t0.9967\t0.967\t0.9797999858856201\t0.4652999937534332\t0.001500000013038516\t0.00019999999494757503\t89712\n"
     ]
    }
   ],
   "source": [
    "Y_true_acceptor, Y_pred_acceptor,Y_true_donor, Y_pred_donor = np.array(Y_true_acceptor), np.array(Y_pred_acceptor),np.array(Y_true_donor), np.array(Y_pred_donor)\n",
    "print(\"\\n\\033[1m{}:\\033[0m\".format('Acceptor'))\n",
    "acceptor_val_results = print_topl_statistics(Y_true_acceptor, Y_pred_acceptor)\n",
    "print(\"\\n\\033[1m{}:\\033[0m\".format('Donor'))\n",
    "donor_val_results =print_topl_statistics(Y_true_donor, Y_pred_donor)"
   ]
  },
  {
   "cell_type": "code",
   "execution_count": 1,
   "metadata": {},
   "outputs": [
    {
     "data": {
      "text/plain": [
       "0.9671"
      ]
     },
     "execution_count": 1,
     "metadata": {},
     "output_type": "execute_result"
    }
   ],
   "source": [
    "(0.965+0.9692)/2"
   ]
  }
 ],
 "metadata": {
  "kernelspec": {
   "display_name": "Python 3 (ipykernel)",
   "language": "python",
   "name": "python3"
  },
  "language_info": {
   "codemirror_mode": {
    "name": "ipython",
    "version": 3
   },
   "file_extension": ".py",
   "mimetype": "text/x-python",
   "name": "python",
   "nbconvert_exporter": "python",
   "pygments_lexer": "ipython3",
   "version": "3.8.12"
  }
 },
 "nbformat": 4,
 "nbformat_minor": 4
}
