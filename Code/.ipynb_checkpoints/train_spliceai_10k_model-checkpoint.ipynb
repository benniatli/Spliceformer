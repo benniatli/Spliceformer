{
 "cells": [
  {
   "cell_type": "code",
   "execution_count": 1,
   "metadata": {},
   "outputs": [],
   "source": [
    "import numpy as np\n",
    "import sys\n",
    "import time\n",
    "import h5py\n",
    "from tqdm import tqdm\n",
    "\n",
    "import numpy as np\n",
    "import re\n",
    "from math import ceil\n",
    "from sklearn.metrics import average_precision_score\n",
    "from torch.utils.data import Dataset\n",
    "import torch\n",
    "import torch.nn as nn\n",
    "import pandas as pd\n",
    "import matplotlib.pyplot as plt\n",
    "import pickle\n",
    "#import pickle5 as pickle\n",
    "\n",
    "from sklearn.model_selection import train_test_split\n",
    "\n",
    "from scipy.sparse import load_npz\n",
    "from glob import glob\n",
    "\n",
    "from transformers import get_constant_schedule_with_warmup\n",
    "from sklearn.metrics import precision_score,recall_score,accuracy_score\n",
    "import copy\n",
    "\n",
    "from src.train import trainModel\n",
    "from src.dataloader import getData,spliceDataset,h5pyDataset,collate_fn\n",
    "from src.weight_init import keras_init\n",
    "from src.losses import categorical_crossentropy_2d\n",
    "from src.models import SpliceAI_10K\n",
    "from src.evaluation_metrics import print_topl_statistics,cross_entropy_2d"
   ]
  },
  {
   "cell_type": "code",
   "execution_count": 2,
   "metadata": {},
   "outputs": [],
   "source": [
    "rng = np.random.default_rng(23673)"
   ]
  },
  {
   "cell_type": "code",
   "execution_count": 3,
   "metadata": {},
   "outputs": [],
   "source": [
    "# Hyper-parameters:\n",
    "# L: Number of convolution kernels\n",
    "# W: Convolution window size in each residual unit\n",
    "# AR: Atrous rate in each residual unit\n",
    "\n",
    "L = 32\n",
    "N_GPUS = 8\n",
    "k = 2\n",
    "\n",
    "W = np.asarray([11, 11, 11, 11, 11, 11, 11, 11,\n",
    "                21, 21, 21, 21, 41, 41, 41, 41])\n",
    "AR = np.asarray([1, 1, 1, 1, 4, 4, 4, 4,\n",
    "                 10, 10, 10, 10, 25, 25, 25, 25])\n",
    "BATCH_SIZE = 6*k*N_GPUS\n",
    "\n",
    "\n",
    "CL = 2 * np.sum(AR*(W-1))\n",
    "\n"
   ]
  },
  {
   "cell_type": "code",
   "execution_count": 4,
   "metadata": {},
   "outputs": [],
   "source": [
    "data_dir = '../Data'\n",
    "setType = 'train'\n",
    "annotation, transcriptToLabel, seqData = getData(data_dir, setType)"
   ]
  },
  {
   "cell_type": "code",
   "execution_count": 5,
   "metadata": {},
   "outputs": [],
   "source": [
    "# Maximum nucleotide context length (CL_max/2 on either side of the \n",
    "# position of interest)\n",
    "# CL_max should be an even number\n",
    "\n",
    "CL_max=10000\n",
    "SL=5000"
   ]
  },
  {
   "cell_type": "code",
   "execution_count": 6,
   "metadata": {},
   "outputs": [],
   "source": [
    "assert CL_max % 2 == 0"
   ]
  },
  {
   "cell_type": "code",
   "execution_count": 7,
   "metadata": {},
   "outputs": [],
   "source": [
    "train_gene, validation_gene = train_test_split(annotation['gene'].drop_duplicates(),test_size=.1,random_state=435)\n",
    "annotation_train = annotation[annotation['gene'].isin(train_gene)]\n",
    "annotation_validation = annotation[annotation['gene'].isin(validation_gene)]"
   ]
  },
  {
   "cell_type": "code",
   "execution_count": 8,
   "metadata": {},
   "outputs": [],
   "source": [
    "train_dataset = spliceDataset(annotation_train,transcriptToLabel,SL,CL_max)\n",
    "val_dataset = spliceDataset(annotation_validation,transcriptToLabel,SL,CL_max)\n",
    "train_dataset.seqData = seqData\n",
    "val_dataset.seqData = seqData\n",
    "\n",
    "train_loader = torch.utils.data.DataLoader(train_dataset, batch_size=100*k, shuffle=True, num_workers=16,collate_fn=collate_fn, pin_memory=True)\n",
    "val_loader = torch.utils.data.DataLoader(val_dataset, batch_size=100*k, shuffle=False,collate_fn=collate_fn, num_workers=16)"
   ]
  },
  {
   "cell_type": "code",
   "execution_count": 9,
   "metadata": {
    "scrolled": true
   },
   "outputs": [
    {
     "name": "stderr",
     "output_type": "stream",
     "text": [
      "Epoch (train) 1/10: 100%|█| 101/101 [10:50<00:00,  6.44s/it, accepor_recall=0.852, donor_recall=0.868, loss=0.000206, pr\n"
     ]
    },
    {
     "name": "stdout",
     "output_type": "stream",
     "text": [
      "epoch: 1/10, train loss = 0.011642\n"
     ]
    },
    {
     "name": "stderr",
     "output_type": "stream",
     "text": [
      "Epoch (val) 1/10: 100%|█| 12/12 [01:46<00:00,  8.86s/it, accepor_recall=0.815, donor_recall=0.816, loss=0.000332, pred_l\n"
     ]
    },
    {
     "name": "stdout",
     "output_type": "stream",
     "text": [
      "\n",
      "\u001b[1mAcceptor:\u001b[0m\n",
      "0.9632\t0.8697\t0.9693\t0.9848\t0.9149\t0.9462000131607056\t0.31850001215934753\t0.009600000455975533\t0.00139999995008111\t21432\n",
      "\n",
      "\u001b[1mDonor:\u001b[0m\n",
      "0.9633\t0.8792\t0.9782\t0.9904\t0.9237\t0.9466999769210815\t0.2865999937057495\t0.006099999882280827\t0.0007999999797903001\t21432\n",
      "epoch: 1/10, val loss = 0.000284\n"
     ]
    },
    {
     "name": "stderr",
     "output_type": "stream",
     "text": [
      "Epoch (train) 2/10: 100%|█| 101/101 [10:08<00:00,  6.02s/it, accepor_recall=0.885, donor_recall=0.896, loss=0.000195, pr\n"
     ]
    },
    {
     "name": "stdout",
     "output_type": "stream",
     "text": [
      "epoch: 2/10, train loss = 0.000203\n"
     ]
    },
    {
     "name": "stderr",
     "output_type": "stream",
     "text": [
      "Epoch (val) 2/10: 100%|█| 12/12 [01:19<00:00,  6.65s/it, accepor_recall=0.903, donor_recall=0.831, loss=0.000329, pred_l\n"
     ]
    },
    {
     "name": "stdout",
     "output_type": "stream",
     "text": [
      "\n",
      "\u001b[1mAcceptor:\u001b[0m\n",
      "0.9672\t0.8779\t0.9737\t0.9889\t0.9225\t0.9718000292778015\t0.666100025177002\t0.037700001150369644\t0.00430000014603138\t21432\n",
      "\n",
      "\u001b[1mDonor:\u001b[0m\n",
      "0.9677\t0.8811\t0.9788\t0.9915\t0.9283\t0.8733000159263611\t0.3001999855041504\t0.006800000090152025\t0.0007999999797903001\t21432\n",
      "epoch: 2/10, val loss = 0.000281\n"
     ]
    },
    {
     "name": "stderr",
     "output_type": "stream",
     "text": [
      "Epoch (train) 3/10: 100%|█| 101/101 [10:17<00:00,  6.11s/it, accepor_recall=0.904, donor_recall=0.91, loss=0.000173, pre\n"
     ]
    },
    {
     "name": "stdout",
     "output_type": "stream",
     "text": [
      "epoch: 3/10, train loss = 0.000182\n"
     ]
    },
    {
     "name": "stderr",
     "output_type": "stream",
     "text": [
      "Epoch (val) 3/10: 100%|█| 12/12 [02:02<00:00, 10.20s/it, accepor_recall=0.92, donor_recall=0.928, loss=0.000255, pred_l1\n"
     ]
    },
    {
     "name": "stdout",
     "output_type": "stream",
     "text": [
      "\n",
      "\u001b[1mAcceptor:\u001b[0m\n",
      "0.9703\t0.9059\t0.9809\t0.9913\t0.9413\t0.9829000234603882\t0.6735000014305115\t0.01940000057220459\t0.003000000026077032\t21432\n",
      "\n",
      "\u001b[1mDonor:\u001b[0m\n",
      "0.9744\t0.9095\t0.988\t0.9938\t0.9474\t0.9835000038146973\t0.6567000150680542\t0.014399999752640724\t0.0017000000225380063\t21432\n",
      "epoch: 3/10, val loss = 0.000223\n"
     ]
    },
    {
     "name": "stderr",
     "output_type": "stream",
     "text": [
      "Epoch (train) 4/10: 100%|█| 101/101 [10:12<00:00,  6.06s/it, accepor_recall=0.909, donor_recall=0.917, loss=0.000168, pr\n"
     ]
    },
    {
     "name": "stdout",
     "output_type": "stream",
     "text": [
      "epoch: 4/10, train loss = 0.000168\n"
     ]
    },
    {
     "name": "stderr",
     "output_type": "stream",
     "text": [
      "Epoch (val) 4/10: 100%|█| 12/12 [02:01<00:00, 10.13s/it, accepor_recall=0.894, donor_recall=0.93, loss=0.000357, pred_l1\n"
     ]
    },
    {
     "name": "stdout",
     "output_type": "stream",
     "text": [
      "\n",
      "\u001b[1mAcceptor:\u001b[0m\n",
      "0.9657\t0.863\t0.9653\t0.9839\t0.9113\t0.980400025844574\t0.715399980545044\t0.03009999915957451\t0.003700000001117587\t21432\n",
      "\n",
      "\u001b[1mDonor:\u001b[0m\n",
      "0.971\t0.8788\t0.9782\t0.9914\t0.9291\t0.9876999855041504\t0.8136000037193298\t0.035999998450279236\t0.004000000189989805\t21432\n",
      "epoch: 4/10, val loss = 0.000325\n"
     ]
    },
    {
     "name": "stderr",
     "output_type": "stream",
     "text": [
      "Epoch (train) 5/10: 100%|█| 101/101 [10:14<00:00,  6.08s/it, accepor_recall=0.923, donor_recall=0.926, loss=0.00015, pre\n"
     ]
    },
    {
     "name": "stdout",
     "output_type": "stream",
     "text": [
      "epoch: 5/10, train loss = 0.000155\n"
     ]
    },
    {
     "name": "stderr",
     "output_type": "stream",
     "text": [
      "Epoch (val) 5/10: 100%|█| 12/12 [01:24<00:00,  7.01s/it, accepor_recall=0.924, donor_recall=0.938, loss=0.000238, pred_l\n"
     ]
    },
    {
     "name": "stdout",
     "output_type": "stream",
     "text": [
      "\n",
      "\u001b[1mAcceptor:\u001b[0m\n",
      "0.9722\t0.9091\t0.9844\t0.9917\t0.943\t0.9754999876022339\t0.65420001745224\t0.013100000098347664\t0.0017999999690800905\t21432\n",
      "\n",
      "\u001b[1mDonor:\u001b[0m\n",
      "0.9728\t0.9133\t0.988\t0.9944\t0.9493\t0.9805999994277954\t0.7073000073432922\t0.010499999858438969\t0.0010999999940395355\t21432\n",
      "epoch: 5/10, val loss = 0.000212\n"
     ]
    },
    {
     "name": "stderr",
     "output_type": "stream",
     "text": [
      "Epoch (train) 6/10: 100%|█| 101/101 [10:11<00:00,  6.06s/it, accepor_recall=0.93, donor_recall=0.936, loss=0.000138, pre\n"
     ]
    },
    {
     "name": "stdout",
     "output_type": "stream",
     "text": [
      "epoch: 6/10, train loss = 0.000142\n"
     ]
    },
    {
     "name": "stderr",
     "output_type": "stream",
     "text": [
      "Epoch (val) 6/10: 100%|█| 12/12 [02:01<00:00, 10.09s/it, accepor_recall=0.932, donor_recall=0.94, loss=0.000241, pred_l1\n"
     ]
    },
    {
     "name": "stdout",
     "output_type": "stream",
     "text": [
      "\n",
      "\u001b[1mAcceptor:\u001b[0m\n",
      "0.9733\t0.9105\t0.9834\t0.9921\t0.9437\t0.9763000011444092\t0.7217000126838684\t0.014800000004470348\t0.0019000000320374966\t21432\n",
      "\n",
      "\u001b[1mDonor:\u001b[0m\n",
      "0.9721\t0.9153\t0.9885\t0.9949\t0.9496\t0.977400004863739\t0.7210000157356262\t0.010300000198185444\t0.0010999999940395355\t21432\n",
      "epoch: 6/10, val loss = 0.000213\n"
     ]
    },
    {
     "name": "stderr",
     "output_type": "stream",
     "text": [
      "Epoch (train) 7/10: 100%|█| 101/101 [10:09<00:00,  6.04s/it, accepor_recall=0.938, donor_recall=0.941, loss=0.000144, pr\n"
     ]
    },
    {
     "name": "stdout",
     "output_type": "stream",
     "text": [
      "epoch: 7/10, train loss = 0.000131\n"
     ]
    },
    {
     "name": "stderr",
     "output_type": "stream",
     "text": [
      "Epoch (val) 7/10: 100%|█| 12/12 [01:15<00:00,  6.30s/it, accepor_recall=0.921, donor_recall=0.919, loss=0.000237, pred_l\n"
     ]
    },
    {
     "name": "stdout",
     "output_type": "stream",
     "text": [
      "\n",
      "\u001b[1mAcceptor:\u001b[0m\n",
      "0.9721\t0.9058\t0.9843\t0.9916\t0.9427\t0.9739000201225281\t0.6359000205993652\t0.004699999932199717\t0.0006000000284984708\t21432\n",
      "\n",
      "\u001b[1mDonor:\u001b[0m\n",
      "0.9695\t0.9148\t0.9888\t0.9939\t0.9485\t0.9689000248908997\t0.5593000054359436\t0.002199999988079071\t0.0003000000142492354\t21432\n",
      "epoch: 7/10, val loss = 0.000206\n"
     ]
    },
    {
     "name": "stderr",
     "output_type": "stream",
     "text": [
      "Epoch (train) 8/10: 100%|█| 101/101 [10:14<00:00,  6.08s/it, accepor_recall=0.951, donor_recall=0.956, loss=0.00011, pre\n"
     ]
    },
    {
     "name": "stdout",
     "output_type": "stream",
     "text": [
      "epoch: 8/10, train loss = 0.000105\n"
     ]
    },
    {
     "name": "stderr",
     "output_type": "stream",
     "text": [
      "Epoch (val) 8/10: 100%|█| 12/12 [01:46<00:00,  8.85s/it, accepor_recall=0.923, donor_recall=0.935, loss=0.000213, pred_l\n"
     ]
    },
    {
     "name": "stdout",
     "output_type": "stream",
     "text": [
      "\n",
      "\u001b[1mAcceptor:\u001b[0m\n",
      "0.9714\t0.9189\t0.9871\t0.9934\t0.9494\t0.9681000113487244\t0.5848000049591064\t0.005200000014156103\t0.000699999975040555\t21432\n",
      "\n",
      "\u001b[1mDonor:\u001b[0m\n",
      "0.9701\t0.9218\t0.9907\t0.995\t0.9521\t0.9750000238418579\t0.6694999933242798\t0.00559999980032444\t0.000699999975040555\t21432\n",
      "epoch: 8/10, val loss = 0.000184\n"
     ]
    },
    {
     "name": "stderr",
     "output_type": "stream",
     "text": [
      "Epoch (train) 9/10: 100%|█| 101/101 [10:13<00:00,  6.08s/it, accepor_recall=0.96, donor_recall=0.965, loss=8.98e-5, pred\n"
     ]
    },
    {
     "name": "stdout",
     "output_type": "stream",
     "text": [
      "epoch: 9/10, train loss = 0.000088\n"
     ]
    },
    {
     "name": "stderr",
     "output_type": "stream",
     "text": [
      "Epoch (val) 9/10: 100%|█| 12/12 [01:17<00:00,  6.49s/it, accepor_recall=0.931, donor_recall=0.941, loss=0.000207, pred_l\n"
     ]
    },
    {
     "name": "stdout",
     "output_type": "stream",
     "text": [
      "\n",
      "\u001b[1mAcceptor:\u001b[0m\n",
      "0.9714\t0.9239\t0.9873\t0.9929\t0.9515\t0.9830999970436096\t0.6244000196456909\t0.0034000000450760126\t0.0005000000237487257\t21432\n",
      "\n",
      "\u001b[1mDonor:\u001b[0m\n",
      "0.973\t0.9285\t0.9909\t0.9954\t0.9559\t0.9861999750137329\t0.6575999855995178\t0.0024999999441206455\t0.0003000000142492354\t21432\n",
      "epoch: 9/10, val loss = 0.000181\n"
     ]
    },
    {
     "name": "stderr",
     "output_type": "stream",
     "text": [
      "Epoch (train) 10/10: 100%|█| 101/101 [10:13<00:00,  6.08s/it, accepor_recall=0.965, donor_recall=0.97, loss=8.34e-5, pre\n"
     ]
    },
    {
     "name": "stdout",
     "output_type": "stream",
     "text": [
      "epoch: 10/10, train loss = 0.000076\n"
     ]
    },
    {
     "name": "stderr",
     "output_type": "stream",
     "text": [
      "Epoch (val) 10/10: 100%|█| 12/12 [01:21<00:00,  6.79s/it, accepor_recall=0.925, donor_recall=0.928, loss=0.000214, pred_\n"
     ]
    },
    {
     "name": "stdout",
     "output_type": "stream",
     "text": [
      "\n",
      "\u001b[1mAcceptor:\u001b[0m\n",
      "0.9715\t0.9263\t0.9863\t0.992\t0.9519\t0.9835000038146973\t0.5426999926567078\t0.0017999999690800905\t0.0003000000142492354\t21432\n",
      "\n",
      "\u001b[1mDonor:\u001b[0m\n",
      "0.9708\t0.928\t0.99\t0.9936\t0.9532\t0.980400025844574\t0.5372999906539917\t0.0010000000474974513\t9.999999747378752e-05\t21432\n",
      "epoch: 10/10, val loss = 0.000184\n"
     ]
    },
    {
     "data": {
      "image/png": "[encoded data removed]",
      "text/plain": [
       "<Figure size 432x288 with 1 Axes>"
      ]
     },
     "metadata": {
      "needs_background": "light"
     },
     "output_type": "display_data"
    },
    {
     "name": "stderr",
     "output_type": "stream",
     "text": [
      "Epoch (train) 1/10: 100%|█| 101/101 [10:07<00:00,  6.01s/it, accepor_recall=0.853, donor_recall=0.864, loss=0.000232, pr\n"
     ]
    },
    {
     "name": "stdout",
     "output_type": "stream",
     "text": [
      "epoch: 1/10, train loss = 0.011037\n"
     ]
    },
    {
     "name": "stderr",
     "output_type": "stream",
     "text": [
      "Epoch (val) 1/10: 100%|█| 12/12 [02:00<00:00, 10.07s/it, accepor_recall=0.899, donor_recall=0.962, loss=0.000677, pred_l\n"
     ]
    },
    {
     "name": "stdout",
     "output_type": "stream",
     "text": [
      "\n",
      "\u001b[1mAcceptor:\u001b[0m\n",
      "0.9239\t0.814\t0.9531\t0.9785\t0.858\t0.9200000166893005\t0.7390999794006348\t0.19169999659061432\t0.025699999183416367\t21432\n",
      "\n",
      "\u001b[1mDonor:\u001b[0m\n",
      "0.9605\t0.8585\t0.9723\t0.9895\t0.9096\t0.9945999979972839\t0.9455000162124634\t0.35179999470710754\t0.04129999876022339\t21432\n",
      "epoch: 1/10, val loss = 0.000622\n"
     ]
    },
    {
     "name": "stderr",
     "output_type": "stream",
     "text": [
      "Epoch (train) 2/10: 100%|█| 101/101 [10:12<00:00,  6.06s/it, accepor_recall=0.882, donor_recall=0.896, loss=0.000201, pr\n"
     ]
    },
    {
     "name": "stdout",
     "output_type": "stream",
     "text": [
      "epoch: 2/10, train loss = 0.000205\n"
     ]
    },
    {
     "name": "stderr",
     "output_type": "stream",
     "text": [
      "Epoch (val) 2/10: 100%|█| 12/12 [01:15<00:00,  6.28s/it, accepor_recall=0.84, donor_recall=0.858, loss=0.000306, pred_l1\n"
     ]
    },
    {
     "name": "stdout",
     "output_type": "stream",
     "text": [
      "\n",
      "\u001b[1mAcceptor:\u001b[0m\n",
      "0.9706\t0.8804\t0.9719\t0.9863\t0.9267\t0.9627000093460083\t0.2922999858856201\t0.005799999926239252\t0.0008999999845400453\t21432\n",
      "\n",
      "\u001b[1mDonor:\u001b[0m\n",
      "0.9714\t0.886\t0.9787\t0.9922\t0.9316\t0.9605000019073486\t0.3521000146865845\t0.005900000222027302\t0.0007999999797903001\t21432\n",
      "epoch: 2/10, val loss = 0.000265\n"
     ]
    },
    {
     "name": "stderr",
     "output_type": "stream",
     "text": [
      "Epoch (train) 3/10: 100%|█| 101/101 [10:14<00:00,  6.08s/it, accepor_recall=0.896, donor_recall=0.908, loss=0.000197, pr\n"
     ]
    },
    {
     "name": "stdout",
     "output_type": "stream",
     "text": [
      "epoch: 3/10, train loss = 0.000183\n"
     ]
    },
    {
     "name": "stderr",
     "output_type": "stream",
     "text": [
      "Epoch (val) 3/10: 100%|█| 12/12 [01:49<00:00,  9.13s/it, accepor_recall=0.935, donor_recall=0.93, loss=0.000281, pred_l1\n"
     ]
    },
    {
     "name": "stdout",
     "output_type": "stream",
     "text": [
      "\n",
      "\u001b[1mAcceptor:\u001b[0m\n",
      "0.9679\t0.8986\t0.9816\t0.9918\t0.9366\t0.9883000254631042\t0.7795000076293945\t0.03500000014901161\t0.0038999998942017555\t21432\n",
      "\n",
      "\u001b[1mDonor:\u001b[0m\n",
      "0.9687\t0.9031\t0.9862\t0.9939\t0.941\t0.97079998254776\t0.6635000109672546\t0.017500000074505806\t0.0017000000225380063\t21432\n",
      "epoch: 3/10, val loss = 0.000251\n"
     ]
    },
    {
     "name": "stderr",
     "output_type": "stream",
     "text": [
      "Epoch (train) 4/10: 100%|█| 101/101 [10:13<00:00,  6.07s/it, accepor_recall=0.909, donor_recall=0.913, loss=0.000154, pr\n"
     ]
    },
    {
     "name": "stdout",
     "output_type": "stream",
     "text": [
      "epoch: 4/10, train loss = 0.000169\n"
     ]
    },
    {
     "name": "stderr",
     "output_type": "stream",
     "text": [
      "Epoch (val) 4/10: 100%|█| 12/12 [01:38<00:00,  8.25s/it, accepor_recall=0.942, donor_recall=0.945, loss=0.00045, pred_l1\n"
     ]
    },
    {
     "name": "stdout",
     "output_type": "stream",
     "text": [
      "\n",
      "\u001b[1mAcceptor:\u001b[0m\n",
      "0.9609\t0.8541\t0.9691\t0.9869\t0.9081\t0.9793000221252441\t0.858299970626831\t0.12759999930858612\t0.009399999864399433\t21432\n",
      "\n",
      "\u001b[1mDonor:\u001b[0m\n",
      "0.9519\t0.8474\t0.972\t0.9904\t0.9005\t0.9771000146865845\t0.864799976348877\t0.125\t0.006899999920278788\t21432\n",
      "epoch: 4/10, val loss = 0.000446\n"
     ]
    },
    {
     "name": "stderr",
     "output_type": "stream",
     "text": [
      "Epoch (train) 5/10: 100%|█| 101/101 [10:11<00:00,  6.06s/it, accepor_recall=0.922, donor_recall=0.931, loss=0.000144, pr\n"
     ]
    },
    {
     "name": "stdout",
     "output_type": "stream",
     "text": [
      "epoch: 5/10, train loss = 0.000155\n"
     ]
    },
    {
     "name": "stderr",
     "output_type": "stream",
     "text": [
      "Epoch (val) 5/10: 100%|█| 12/12 [01:36<00:00,  8.06s/it, accepor_recall=0.947, donor_recall=0.948, loss=0.000294, pred_l\n"
     ]
    },
    {
     "name": "stdout",
     "output_type": "stream",
     "text": [
      "\n",
      "\u001b[1mAcceptor:\u001b[0m\n",
      "0.9729\t0.9012\t0.9834\t0.9918\t0.9416\t0.9916999936103821\t0.8607000112533569\t0.03590000048279762\t0.0034000000450760126\t21432\n",
      "\n",
      "\u001b[1mDonor:\u001b[0m\n",
      "0.973\t0.911\t0.9874\t0.9945\t0.9478\t0.9807000160217285\t0.7822999954223633\t0.02160000056028366\t0.002199999988079071\t21432\n",
      "epoch: 5/10, val loss = 0.000265\n"
     ]
    },
    {
     "name": "stderr",
     "output_type": "stream",
     "text": [
      "Epoch (train) 6/10: 100%|█| 101/101 [10:14<00:00,  6.09s/it, accepor_recall=0.928, donor_recall=0.933, loss=0.000135, pr\n"
     ]
    },
    {
     "name": "stdout",
     "output_type": "stream",
     "text": [
      "epoch: 6/10, train loss = 0.000141\n"
     ]
    },
    {
     "name": "stderr",
     "output_type": "stream",
     "text": [
      "Epoch (val) 6/10: 100%|█| 12/12 [01:46<00:00,  8.86s/it, accepor_recall=0.937, donor_recall=0.943, loss=0.000276, pred_l\n"
     ]
    },
    {
     "name": "stdout",
     "output_type": "stream",
     "text": [
      "\n",
      "\u001b[1mAcceptor:\u001b[0m\n",
      "0.9715\t0.9042\t0.9829\t0.9922\t0.9399\t0.9775000214576721\t0.7519999742507935\t0.01899999938905239\t0.0019000000320374966\t21432\n",
      "\n",
      "\u001b[1mDonor:\u001b[0m\n",
      "0.9698\t0.9016\t0.986\t0.9944\t0.9412\t0.9771999716758728\t0.7990000247955322\t0.020500000566244125\t0.0015999999595806003\t21432\n",
      "epoch: 6/10, val loss = 0.000246\n"
     ]
    },
    {
     "name": "stderr",
     "output_type": "stream",
     "text": [
      "Epoch (train) 7/10: 100%|█| 101/101 [10:14<00:00,  6.09s/it, accepor_recall=0.938, donor_recall=0.942, loss=0.000136, pr\n"
     ]
    },
    {
     "name": "stdout",
     "output_type": "stream",
     "text": [
      "epoch: 7/10, train loss = 0.000132\n"
     ]
    },
    {
     "name": "stderr",
     "output_type": "stream",
     "text": [
      "Epoch (val) 7/10: 100%|█| 12/12 [01:24<00:00,  7.08s/it, accepor_recall=0.877, donor_recall=0.893, loss=0.000233, pred_l\n"
     ]
    },
    {
     "name": "stdout",
     "output_type": "stream",
     "text": [
      "\n",
      "\u001b[1mAcceptor:\u001b[0m\n",
      "0.976\t0.9181\t0.986\t0.993\t0.9513\t0.9458000063896179\t0.31439998745918274\t0.002099999925121665\t0.0003000000142492354\t21432\n",
      "\n",
      "\u001b[1mDonor:\u001b[0m\n",
      "0.9742\t0.9218\t0.9899\t0.9943\t0.9547\t0.9646000266075134\t0.34529998898506165\t0.00139999995008111\t0.00019999999494757503\t21432\n",
      "epoch: 7/10, val loss = 0.000195\n"
     ]
    },
    {
     "name": "stderr",
     "output_type": "stream",
     "text": [
      "Epoch (train) 8/10: 100%|█| 101/101 [10:14<00:00,  6.08s/it, accepor_recall=0.953, donor_recall=0.958, loss=9.84e-5, pre\n"
     ]
    },
    {
     "name": "stdout",
     "output_type": "stream",
     "text": [
      "epoch: 8/10, train loss = 0.000105\n"
     ]
    },
    {
     "name": "stderr",
     "output_type": "stream",
     "text": [
      "Epoch (val) 8/10: 100%|█| 12/12 [01:52<00:00,  9.41s/it, accepor_recall=0.915, donor_recall=0.931, loss=0.000209, pred_l\n"
     ]
    },
    {
     "name": "stdout",
     "output_type": "stream",
     "text": [
      "\n",
      "\u001b[1mAcceptor:\u001b[0m\n",
      "0.9748\t0.9221\t0.9876\t0.9937\t0.9522\t0.9742000102996826\t0.49540001153945923\t0.0031999999191612005\t0.0005000000237487257\t21432\n",
      "\n",
      "\u001b[1mDonor:\u001b[0m\n",
      "0.9744\t0.9266\t0.9912\t0.9958\t0.9565\t0.9771999716758728\t0.5795000195503235\t0.0038999998942017555\t0.0005000000237487257\t21432\n",
      "epoch: 8/10, val loss = 0.000177\n"
     ]
    },
    {
     "name": "stderr",
     "output_type": "stream",
     "text": [
      "Epoch (train) 9/10: 100%|█| 101/101 [10:12<00:00,  6.06s/it, accepor_recall=0.962, donor_recall=0.967, loss=9.36e-5, pre\n"
     ]
    },
    {
     "name": "stdout",
     "output_type": "stream",
     "text": [
      "epoch: 9/10, train loss = 0.000088\n"
     ]
    },
    {
     "name": "stderr",
     "output_type": "stream",
     "text": [
      "Epoch (val) 9/10: 100%|█| 12/12 [01:45<00:00,  8.77s/it, accepor_recall=0.907, donor_recall=0.919, loss=0.000222, pred_l\n"
     ]
    },
    {
     "name": "stdout",
     "output_type": "stream",
     "text": [
      "\n",
      "\u001b[1mAcceptor:\u001b[0m\n",
      "0.9743\t0.9249\t0.9859\t0.9923\t0.9513\t0.9851999878883362\t0.4101000130176544\t0.0017999999690800905\t0.0003000000142492354\t21432\n",
      "\n",
      "\u001b[1mDonor:\u001b[0m\n",
      "0.9737\t0.9267\t0.9895\t0.9946\t0.9556\t0.986299991607666\t0.4424999952316284\t0.0012000000569969416\t0.00019999999494757503\t21432\n",
      "epoch: 9/10, val loss = 0.000187\n"
     ]
    },
    {
     "name": "stderr",
     "output_type": "stream",
     "text": [
      "Epoch (train) 10/10: 100%|█| 101/101 [10:10<00:00,  6.04s/it, accepor_recall=0.965, donor_recall=0.969, loss=7.42e-5, pr\n"
     ]
    },
    {
     "name": "stdout",
     "output_type": "stream",
     "text": [
      "epoch: 10/10, train loss = 0.000077\n"
     ]
    },
    {
     "name": "stderr",
     "output_type": "stream",
     "text": [
      "Epoch (val) 10/10: 100%|█| 12/12 [01:24<00:00,  7.04s/it, accepor_recall=0.927, donor_recall=0.937, loss=0.000216, pred_\n"
     ]
    },
    {
     "name": "stdout",
     "output_type": "stream",
     "text": [
      "\n",
      "\u001b[1mAcceptor:\u001b[0m\n",
      "0.9737\t0.9268\t0.9876\t0.9933\t0.9529\t0.9894000291824341\t0.621399998664856\t0.002099999925121665\t0.0003000000142492354\t21432\n",
      "\n",
      "\u001b[1mDonor:\u001b[0m\n",
      "0.9714\t0.9299\t0.9904\t0.9952\t0.9556\t0.9896000027656555\t0.6425999999046326\t0.0017999999690800905\t0.00019999999494757503\t21432\n",
      "epoch: 10/10, val loss = 0.000182\n"
     ]
    },
    {
     "data": {
      "image/png": "[encoded data removed]",
      "text/plain": [
       "<Figure size 432x288 with 1 Axes>"
      ]
     },
     "metadata": {
      "needs_background": "light"
     },
     "output_type": "display_data"
    },
    {
     "name": "stderr",
     "output_type": "stream",
     "text": [
      "Epoch (train) 1/10: 100%|█| 101/101 [10:10<00:00,  6.04s/it, accepor_recall=0.859, donor_recall=0.873, loss=0.00023, pre\n"
     ]
    },
    {
     "name": "stdout",
     "output_type": "stream",
     "text": [
      "epoch: 1/10, train loss = 0.012040\n"
     ]
    },
    {
     "name": "stderr",
     "output_type": "stream",
     "text": [
      "Epoch (val) 1/10: 100%|█| 12/12 [01:25<00:00,  7.11s/it, accepor_recall=0.92, donor_recall=0.935, loss=0.00127, pred_l1_\n"
     ]
    },
    {
     "name": "stdout",
     "output_type": "stream",
     "text": [
      "\n",
      "\u001b[1mAcceptor:\u001b[0m\n",
      "0.8963\t0.7332\t0.8999\t0.9632\t0.7894\t0.9753000140190125\t0.9097999930381775\t0.6186000108718872\t0.20409999787807465\t21432\n",
      "\n",
      "\u001b[1mDonor:\u001b[0m\n",
      "0.9176\t0.7539\t0.9163\t0.9714\t0.8162\t0.9700999855995178\t0.8971999883651733\t0.6085000038146973\t0.20749999582767487\t21432\n",
      "epoch: 1/10, val loss = 0.001269\n"
     ]
    },
    {
     "name": "stderr",
     "output_type": "stream",
     "text": [
      "Epoch (train) 2/10: 100%|█| 101/101 [10:14<00:00,  6.08s/it, accepor_recall=0.878, donor_recall=0.89, loss=0.00018, pred\n"
     ]
    },
    {
     "name": "stdout",
     "output_type": "stream",
     "text": [
      "epoch: 2/10, train loss = 0.000203\n"
     ]
    },
    {
     "name": "stderr",
     "output_type": "stream",
     "text": [
      "Epoch (val) 2/10: 100%|█| 12/12 [01:20<00:00,  6.71s/it, accepor_recall=0.908, donor_recall=0.949, loss=0.000478, pred_l\n"
     ]
    },
    {
     "name": "stdout",
     "output_type": "stream",
     "text": [
      "\n",
      "\u001b[1mAcceptor:\u001b[0m\n",
      "0.957\t0.8514\t0.965\t0.9851\t0.9004\t0.9602000117301941\t0.7397000193595886\t0.08540000021457672\t0.009200000204145908\t21432\n",
      "\n",
      "\u001b[1mDonor:\u001b[0m\n",
      "0.9637\t0.8659\t0.9743\t0.9898\t0.9173\t0.9908999800682068\t0.900600016117096\t0.1737000048160553\t0.01600000075995922\t21432\n",
      "epoch: 2/10, val loss = 0.000436\n"
     ]
    },
    {
     "name": "stderr",
     "output_type": "stream",
     "text": [
      "Epoch (train) 3/10: 100%|█| 101/101 [10:12<00:00,  6.06s/it, accepor_recall=0.9, donor_recall=0.912, loss=0.000185, pred\n"
     ]
    },
    {
     "name": "stdout",
     "output_type": "stream",
     "text": [
      "epoch: 3/10, train loss = 0.000184\n"
     ]
    },
    {
     "name": "stderr",
     "output_type": "stream",
     "text": [
      "Epoch (val) 3/10: 100%|█| 12/12 [01:19<00:00,  6.63s/it, accepor_recall=0.849, donor_recall=0.862, loss=0.000279, pred_l\n"
     ]
    },
    {
     "name": "stdout",
     "output_type": "stream",
     "text": [
      "\n",
      "\u001b[1mAcceptor:\u001b[0m\n",
      "0.9702\t0.8907\t0.9769\t0.9893\t0.9333\t0.9466999769210815\t0.33880001306533813\t0.00570000009611249\t0.0007999999797903001\t21432\n",
      "\n",
      "\u001b[1mDonor:\u001b[0m\n",
      "0.9704\t0.8998\t0.983\t0.9937\t0.941\t0.9524000287055969\t0.3465000092983246\t0.00430000014603138\t0.0005000000237487257\t21432\n",
      "epoch: 3/10, val loss = 0.000240\n"
     ]
    },
    {
     "name": "stderr",
     "output_type": "stream",
     "text": [
      "Epoch (train) 4/10: 100%|█| 101/101 [10:14<00:00,  6.09s/it, accepor_recall=0.911, donor_recall=0.919, loss=0.000161, pr\n"
     ]
    },
    {
     "name": "stdout",
     "output_type": "stream",
     "text": [
      "epoch: 4/10, train loss = 0.000170\n"
     ]
    },
    {
     "name": "stderr",
     "output_type": "stream",
     "text": [
      "Epoch (val) 4/10: 100%|█| 12/12 [02:00<00:00, 10.07s/it, accepor_recall=0.887, donor_recall=0.883, loss=0.000253, pred_l\n"
     ]
    },
    {
     "name": "stdout",
     "output_type": "stream",
     "text": [
      "\n",
      "\u001b[1mAcceptor:\u001b[0m\n",
      "0.9726\t0.9066\t0.9817\t0.9902\t0.942\t0.9765999913215637\t0.4514000117778778\t0.005900000222027302\t0.0010000000474974513\t21432\n",
      "\n",
      "\u001b[1mDonor:\u001b[0m\n",
      "0.9694\t0.913\t0.9867\t0.9925\t0.9459\t0.9659000039100647\t0.36899998784065247\t0.0035000001080334187\t0.0006000000284984708\t21432\n",
      "epoch: 4/10, val loss = 0.000212\n"
     ]
    },
    {
     "name": "stderr",
     "output_type": "stream",
     "text": [
      "Epoch (train) 5/10: 100%|█| 101/101 [10:11<00:00,  6.05s/it, accepor_recall=0.923, donor_recall=0.93, loss=0.000157, pre\n"
     ]
    },
    {
     "name": "stdout",
     "output_type": "stream",
     "text": [
      "epoch: 5/10, train loss = 0.000156\n"
     ]
    },
    {
     "name": "stderr",
     "output_type": "stream",
     "text": [
      "Epoch (val) 5/10: 100%|█| 12/12 [01:21<00:00,  6.82s/it, accepor_recall=0.863, donor_recall=0.896, loss=0.000287, pred_l\n"
     ]
    },
    {
     "name": "stdout",
     "output_type": "stream",
     "text": [
      "\n",
      "\u001b[1mAcceptor:\u001b[0m\n",
      "0.9676\t0.8815\t0.9737\t0.9876\t0.9249\t0.9444000124931335\t0.4341999888420105\t0.02239999920129776\t0.0034000000450760126\t21432\n",
      "\n",
      "\u001b[1mDonor:\u001b[0m\n",
      "0.9696\t0.8965\t0.9787\t0.9921\t0.9373\t0.9603000283241272\t0.5115000009536743\t0.030500000342726707\t0.004600000102072954\t21432\n",
      "epoch: 5/10, val loss = 0.000250\n"
     ]
    },
    {
     "name": "stderr",
     "output_type": "stream",
     "text": [
      "Epoch (train) 6/10: 100%|█| 101/101 [10:16<00:00,  6.10s/it, accepor_recall=0.921, donor_recall=0.93, loss=0.000144, pre\n"
     ]
    },
    {
     "name": "stdout",
     "output_type": "stream",
     "text": [
      "epoch: 6/10, train loss = 0.000144\n"
     ]
    },
    {
     "name": "stderr",
     "output_type": "stream",
     "text": [
      "Epoch (val) 6/10: 100%|█| 12/12 [01:18<00:00,  6.57s/it, accepor_recall=0.75, donor_recall=0.775, loss=0.00039, pred_l1_\n"
     ]
    },
    {
     "name": "stdout",
     "output_type": "stream",
     "text": [
      "\n",
      "\u001b[1mAcceptor:\u001b[0m\n",
      "0.9727\t0.8806\t0.9729\t0.9868\t0.9265\t0.909600019454956\t0.09489999711513519\t0.0019000000320374966\t0.00039999998989515007\t21432\n",
      "\n",
      "\u001b[1mDonor:\u001b[0m\n",
      "0.9696\t0.8777\t0.9743\t0.9886\t0.925\t0.9341999888420105\t0.13269999623298645\t0.002300000051036477\t0.0005000000237487257\t21432\n",
      "epoch: 6/10, val loss = 0.000326\n"
     ]
    },
    {
     "name": "stderr",
     "output_type": "stream",
     "text": [
      "Epoch (train) 7/10: 100%|█| 101/101 [10:09<00:00,  6.04s/it, accepor_recall=0.936, donor_recall=0.945, loss=0.000121, pr\n"
     ]
    },
    {
     "name": "stdout",
     "output_type": "stream",
     "text": [
      "epoch: 7/10, train loss = 0.000132\n"
     ]
    },
    {
     "name": "stderr",
     "output_type": "stream",
     "text": [
      "Epoch (val) 7/10: 100%|█| 12/12 [01:29<00:00,  7.46s/it, accepor_recall=0.916, donor_recall=0.944, loss=0.000275, pred_l\n"
     ]
    },
    {
     "name": "stdout",
     "output_type": "stream",
     "text": [
      "\n",
      "\u001b[1mAcceptor:\u001b[0m\n",
      "0.9676\t0.8951\t0.9822\t0.9905\t0.9343\t0.9663000106811523\t0.6651999950408936\t0.017899999395012856\t0.0017999999690800905\t21432\n",
      "\n",
      "\u001b[1mDonor:\u001b[0m\n",
      "0.9709\t0.9027\t0.9863\t0.994\t0.9429\t0.9854999780654907\t0.7824000120162964\t0.021400000900030136\t0.0017000000225380063\t21432\n",
      "epoch: 7/10, val loss = 0.000246\n"
     ]
    },
    {
     "name": "stderr",
     "output_type": "stream",
     "text": [
      "Epoch (train) 8/10: 100%|█| 101/101 [10:13<00:00,  6.08s/it, accepor_recall=0.952, donor_recall=0.957, loss=0.000103, pr\n"
     ]
    },
    {
     "name": "stdout",
     "output_type": "stream",
     "text": [
      "epoch: 8/10, train loss = 0.000106\n"
     ]
    },
    {
     "name": "stderr",
     "output_type": "stream",
     "text": [
      "Epoch (val) 8/10: 100%|█| 12/12 [01:46<00:00,  8.88s/it, accepor_recall=0.914, donor_recall=0.924, loss=0.00021, pred_l1\n"
     ]
    },
    {
     "name": "stdout",
     "output_type": "stream",
     "text": [
      "\n",
      "\u001b[1mAcceptor:\u001b[0m\n",
      "0.9725\t0.9227\t0.9871\t0.9929\t0.9517\t0.9745000004768372\t0.49810001254081726\t0.0031999999191612005\t0.0005000000237487257\t21432\n",
      "\n",
      "\u001b[1mDonor:\u001b[0m\n",
      "0.9726\t0.9273\t0.9914\t0.9955\t0.9562\t0.9768999814987183\t0.510200023651123\t0.0026000000070780516\t0.00039999998989515007\t21432\n",
      "epoch: 8/10, val loss = 0.000180\n"
     ]
    },
    {
     "name": "stderr",
     "output_type": "stream",
     "text": [
      "Epoch (train) 9/10: 100%|█| 101/101 [10:08<00:00,  6.02s/it, accepor_recall=0.959, donor_recall=0.965, loss=9.33e-5, pre\n"
     ]
    },
    {
     "name": "stdout",
     "output_type": "stream",
     "text": [
      "epoch: 9/10, train loss = 0.000089\n"
     ]
    },
    {
     "name": "stderr",
     "output_type": "stream",
     "text": [
      "Epoch (val) 9/10: 100%|█| 12/12 [01:28<00:00,  7.35s/it, accepor_recall=0.921, donor_recall=0.929, loss=0.000213, pred_l\n"
     ]
    },
    {
     "name": "stdout",
     "output_type": "stream",
     "text": [
      "\n",
      "\u001b[1mAcceptor:\u001b[0m\n",
      "0.9706\t0.9247\t0.9873\t0.9928\t0.9516\t0.982699990272522\t0.5393999814987183\t0.0019000000320374966\t0.0003000000142492354\t21432\n",
      "\n",
      "\u001b[1mDonor:\u001b[0m\n",
      "0.9712\t0.9282\t0.9909\t0.9954\t0.9555\t0.9854000210762024\t0.5824999809265137\t0.0017999999690800905\t0.00019999999494757503\t21432\n",
      "epoch: 9/10, val loss = 0.000180\n"
     ]
    },
    {
     "name": "stderr",
     "output_type": "stream",
     "text": [
      "Epoch (train) 10/10: 100%|█| 101/101 [10:14<00:00,  6.09s/it, accepor_recall=0.962, donor_recall=0.969, loss=8.1e-5, pre\n"
     ]
    },
    {
     "name": "stdout",
     "output_type": "stream",
     "text": [
      "epoch: 10/10, train loss = 0.000077\n"
     ]
    },
    {
     "name": "stderr",
     "output_type": "stream",
     "text": [
      "Epoch (val) 10/10: 100%|█| 12/12 [01:26<00:00,  7.18s/it, accepor_recall=0.919, donor_recall=0.924, loss=0.000221, pred_\n"
     ]
    },
    {
     "name": "stdout",
     "output_type": "stream",
     "text": [
      "\n",
      "\u001b[1mAcceptor:\u001b[0m\n",
      "0.9713\t0.9257\t0.9856\t0.9917\t0.9509\t0.9861999750137329\t0.49880000948905945\t0.0015999999595806003\t0.00019999999494757503\t21432\n",
      "\n",
      "\u001b[1mDonor:\u001b[0m\n",
      "0.9713\t0.9287\t0.9896\t0.9945\t0.9547\t0.9843999743461609\t0.4848000109195709\t0.0013000000035390258\t0.00019999999494757503\t21432\n",
      "epoch: 10/10, val loss = 0.000187\n"
     ]
    },
    {
     "data": {
      "image/png": "[encoded data removed]",
      "text/plain": [
       "<Figure size 432x288 with 1 Axes>"
      ]
     },
     "metadata": {
      "needs_background": "light"
     },
     "output_type": "display_data"
    },
    {
     "name": "stderr",
     "output_type": "stream",
     "text": [
      "Epoch (train) 1/10: 100%|█| 101/101 [10:16<00:00,  6.10s/it, accepor_recall=0.857, donor_recall=0.87, loss=0.000228, pre\n"
     ]
    },
    {
     "name": "stdout",
     "output_type": "stream",
     "text": [
      "epoch: 1/10, train loss = 0.012664\n"
     ]
    },
    {
     "name": "stderr",
     "output_type": "stream",
     "text": [
      "Epoch (val) 1/10: 100%|█| 12/12 [01:20<00:00,  6.70s/it, accepor_recall=0.873, donor_recall=0.925, loss=0.000609, pred_l\n"
     ]
    },
    {
     "name": "stdout",
     "output_type": "stream",
     "text": [
      "\n",
      "\u001b[1mAcceptor:\u001b[0m\n",
      "0.9045\t0.7892\t0.944\t0.9784\t0.835\t0.8876000046730042\t0.6962000131607056\t0.20180000364780426\t0.02810000069439411\t21432\n",
      "\n",
      "\u001b[1mDonor:\u001b[0m\n",
      "0.9106\t0.7856\t0.9478\t0.9823\t0.8403\t0.9474999904632568\t0.829200029373169\t0.3260999917984009\t0.0430000014603138\t21432\n",
      "epoch: 1/10, val loss = 0.000579\n"
     ]
    },
    {
     "name": "stderr",
     "output_type": "stream",
     "text": [
      "Epoch (train) 2/10: 100%|█| 101/101 [10:12<00:00,  6.07s/it, accepor_recall=0.879, donor_recall=0.892, loss=0.000198, pr\n"
     ]
    },
    {
     "name": "stdout",
     "output_type": "stream",
     "text": [
      "epoch: 2/10, train loss = 0.000205\n"
     ]
    },
    {
     "name": "stderr",
     "output_type": "stream",
     "text": [
      "Epoch (val) 2/10: 100%|█| 12/12 [01:20<00:00,  6.70s/it, accepor_recall=0.891, donor_recall=0.903, loss=0.000339, pred_l\n"
     ]
    },
    {
     "name": "stdout",
     "output_type": "stream",
     "text": [
      "\n",
      "\u001b[1mAcceptor:\u001b[0m\n",
      "0.9676\t0.868\t0.9722\t0.9874\t0.9183\t0.9860000014305115\t0.6488000154495239\t0.03629999980330467\t0.005200000014156103\t21432\n",
      "\n",
      "\u001b[1mDonor:\u001b[0m\n",
      "0.9679\t0.8698\t0.9773\t0.9904\t0.9222\t0.9832000136375427\t0.6528000235557556\t0.03290000185370445\t0.004699999932199717\t21432\n",
      "epoch: 2/10, val loss = 0.000303\n"
     ]
    },
    {
     "name": "stderr",
     "output_type": "stream",
     "text": [
      "Epoch (train) 3/10: 100%|█| 101/101 [10:16<00:00,  6.10s/it, accepor_recall=0.898, donor_recall=0.91, loss=0.000177, pre\n"
     ]
    },
    {
     "name": "stdout",
     "output_type": "stream",
     "text": [
      "epoch: 3/10, train loss = 0.000183\n"
     ]
    },
    {
     "name": "stderr",
     "output_type": "stream",
     "text": [
      "Epoch (val) 3/10: 100%|█| 12/12 [01:19<00:00,  6.66s/it, accepor_recall=0.943, donor_recall=0.948, loss=0.000333, pred_l\n"
     ]
    },
    {
     "name": "stdout",
     "output_type": "stream",
     "text": [
      "\n",
      "\u001b[1mAcceptor:\u001b[0m\n",
      "0.9705\t0.8933\t0.9787\t0.9901\t0.9358\t0.9940999746322632\t0.8432999849319458\t0.03680000081658363\t0.002899999963119626\t21432\n",
      "\n",
      "\u001b[1mDonor:\u001b[0m\n",
      "0.9682\t0.8939\t0.9842\t0.9935\t0.9373\t0.9904999732971191\t0.828000009059906\t0.03799999877810478\t0.0032999999821186066\t21432\n",
      "epoch: 3/10, val loss = 0.000307\n"
     ]
    },
    {
     "name": "stderr",
     "output_type": "stream",
     "text": [
      "Epoch (train) 4/10: 100%|█| 101/101 [10:15<00:00,  6.10s/it, accepor_recall=0.915, donor_recall=0.92, loss=0.000161, pre\n"
     ]
    },
    {
     "name": "stdout",
     "output_type": "stream",
     "text": [
      "epoch: 4/10, train loss = 0.000169\n"
     ]
    },
    {
     "name": "stderr",
     "output_type": "stream",
     "text": [
      "Epoch (val) 4/10: 100%|█| 12/12 [01:58<00:00,  9.84s/it, accepor_recall=0.868, donor_recall=0.843, loss=0.000316, pred_l\n"
     ]
    },
    {
     "name": "stdout",
     "output_type": "stream",
     "text": [
      "\n",
      "\u001b[1mAcceptor:\u001b[0m\n",
      "0.9707\t0.8815\t0.9723\t0.9861\t0.9256\t0.9819999933242798\t0.42649999260902405\t0.006399999838322401\t0.0008999999845400453\t21432\n",
      "\n",
      "\u001b[1mDonor:\u001b[0m\n",
      "0.9703\t0.8797\t0.9757\t0.9891\t0.9271\t0.9531999826431274\t0.3271999955177307\t0.00559999980032444\t0.0007999999797903001\t21432\n",
      "epoch: 4/10, val loss = 0.000270\n"
     ]
    },
    {
     "name": "stderr",
     "output_type": "stream",
     "text": [
      "Epoch (train) 5/10: 100%|█| 101/101 [10:10<00:00,  6.05s/it, accepor_recall=0.919, donor_recall=0.925, loss=0.000144, pr\n"
     ]
    },
    {
     "name": "stdout",
     "output_type": "stream",
     "text": [
      "epoch: 5/10, train loss = 0.000155\n"
     ]
    },
    {
     "name": "stderr",
     "output_type": "stream",
     "text": [
      "Epoch (val) 5/10: 100%|█| 12/12 [02:05<00:00, 10.49s/it, accepor_recall=0.898, donor_recall=0.913, loss=0.000228, pred_l\n"
     ]
    },
    {
     "name": "stdout",
     "output_type": "stream",
     "text": [
      "\n",
      "\u001b[1mAcceptor:\u001b[0m\n",
      "0.9729\t0.9121\t0.9846\t0.9917\t0.9447\t0.9377999901771545\t0.42480000853538513\t0.005799999926239252\t0.0008999999845400453\t21432\n",
      "\n",
      "\u001b[1mDonor:\u001b[0m\n",
      "0.9709\t0.9162\t0.9874\t0.9941\t0.9466\t0.9521999955177307\t0.5062000155448914\t0.006099999882280827\t0.0008999999845400453\t21432\n",
      "epoch: 5/10, val loss = 0.000198\n"
     ]
    },
    {
     "name": "stderr",
     "output_type": "stream",
     "text": [
      "Epoch (train) 6/10: 100%|█| 101/101 [10:07<00:00,  6.02s/it, accepor_recall=0.927, donor_recall=0.931, loss=0.000145, pr\n"
     ]
    },
    {
     "name": "stdout",
     "output_type": "stream",
     "text": [
      "epoch: 6/10, train loss = 0.000142\n"
     ]
    },
    {
     "name": "stderr",
     "output_type": "stream",
     "text": [
      "Epoch (val) 6/10: 100%|█| 12/12 [01:57<00:00,  9.83s/it, accepor_recall=0.922, donor_recall=0.924, loss=0.00025, pred_l1\n"
     ]
    },
    {
     "name": "stdout",
     "output_type": "stream",
     "text": [
      "\n",
      "\u001b[1mAcceptor:\u001b[0m\n",
      "0.9681\t0.9001\t0.9825\t0.9911\t0.9362\t0.923799991607666\t0.6141999959945679\t0.018799999728798866\t0.0020000000949949026\t21432\n",
      "\n",
      "\u001b[1mDonor:\u001b[0m\n",
      "0.9712\t0.9088\t0.9873\t0.9947\t0.9458\t0.9365000128746033\t0.579200029373169\t0.009600000455975533\t0.0008999999845400453\t21432\n",
      "epoch: 6/10, val loss = 0.000219\n"
     ]
    },
    {
     "name": "stderr",
     "output_type": "stream",
     "text": [
      "Epoch (train) 7/10: 100%|█| 101/101 [10:16<00:00,  6.11s/it, accepor_recall=0.937, donor_recall=0.943, loss=0.000129, pr\n"
     ]
    },
    {
     "name": "stdout",
     "output_type": "stream",
     "text": [
      "epoch: 7/10, train loss = 0.000131\n"
     ]
    },
    {
     "name": "stderr",
     "output_type": "stream",
     "text": [
      "Epoch (val) 7/10: 100%|█| 12/12 [01:45<00:00,  8.80s/it, accepor_recall=0.908, donor_recall=0.907, loss=0.000219, pred_l\n"
     ]
    },
    {
     "name": "stdout",
     "output_type": "stream",
     "text": [
      "\n",
      "\u001b[1mAcceptor:\u001b[0m\n",
      "0.9731\t0.9179\t0.9859\t0.9918\t0.9488\t0.9732000231742859\t0.4717000126838684\t0.004800000227987766\t0.000699999975040555\t21432\n",
      "\n",
      "\u001b[1mDonor:\u001b[0m\n",
      "0.9718\t0.9227\t0.9894\t0.9943\t0.9533\t0.954200029373169\t0.4253999888896942\t0.0031999999191612005\t0.0005000000237487257\t21432\n",
      "epoch: 7/10, val loss = 0.000187\n"
     ]
    },
    {
     "name": "stderr",
     "output_type": "stream",
     "text": [
      "Epoch (train) 8/10: 100%|█| 101/101 [10:08<00:00,  6.03s/it, accepor_recall=0.95, donor_recall=0.954, loss=0.000112, pre\n"
     ]
    },
    {
     "name": "stdout",
     "output_type": "stream",
     "text": [
      "epoch: 8/10, train loss = 0.000105\n"
     ]
    },
    {
     "name": "stderr",
     "output_type": "stream",
     "text": [
      "Epoch (val) 8/10: 100%|█| 12/12 [01:36<00:00,  8.03s/it, accepor_recall=0.903, donor_recall=0.912, loss=0.000217, pred_l\n"
     ]
    },
    {
     "name": "stdout",
     "output_type": "stream",
     "text": [
      "\n",
      "\u001b[1mAcceptor:\u001b[0m\n",
      "0.9749\t0.9233\t0.9855\t0.992\t0.951\t0.9775000214576721\t0.4327999949455261\t0.00279999990016222\t0.0005000000237487257\t21432\n",
      "\n",
      "\u001b[1mDonor:\u001b[0m\n",
      "0.972\t0.9261\t0.9904\t0.9951\t0.9547\t0.9758999943733215\t0.4052000045776367\t0.0017000000225380063\t0.0003000000142492354\t21432\n",
      "epoch: 8/10, val loss = 0.000185\n"
     ]
    },
    {
     "name": "stderr",
     "output_type": "stream",
     "text": [
      "Epoch (train) 9/10: 100%|█| 101/101 [10:09<00:00,  6.04s/it, accepor_recall=0.959, donor_recall=0.963, loss=8.22e-5, pre\n"
     ]
    },
    {
     "name": "stdout",
     "output_type": "stream",
     "text": [
      "epoch: 9/10, train loss = 0.000088\n"
     ]
    },
    {
     "name": "stderr",
     "output_type": "stream",
     "text": [
      "Epoch (val) 9/10: 100%|█| 12/12 [01:20<00:00,  6.70s/it, accepor_recall=0.932, donor_recall=0.942, loss=0.000219, pred_l\n"
     ]
    },
    {
     "name": "stdout",
     "output_type": "stream",
     "text": [
      "\n",
      "\u001b[1mAcceptor:\u001b[0m\n",
      "0.9751\t0.9258\t0.9865\t0.9923\t0.9519\t0.991100013256073\t0.7009999752044678\t0.004000000189989805\t0.0005000000237487257\t21432\n",
      "\n",
      "\u001b[1mDonor:\u001b[0m\n",
      "0.972\t0.9295\t0.9918\t0.9956\t0.9564\t0.9922999739646912\t0.6877999901771545\t0.002899999963119626\t0.0003000000142492354\t21432\n",
      "epoch: 9/10, val loss = 0.000186\n"
     ]
    },
    {
     "name": "stderr",
     "output_type": "stream",
     "text": [
      "Epoch (train) 10/10: 100%|█| 101/101 [10:16<00:00,  6.10s/it, accepor_recall=0.966, donor_recall=0.969, loss=7.72e-5, pr\n"
     ]
    },
    {
     "name": "stdout",
     "output_type": "stream",
     "text": [
      "epoch: 10/10, train loss = 0.000076\n"
     ]
    },
    {
     "name": "stderr",
     "output_type": "stream",
     "text": [
      "Epoch (val) 10/10: 100%|█| 12/12 [01:42<00:00,  8.51s/it, accepor_recall=0.918, donor_recall=0.936, loss=0.000217, pred_\n"
     ]
    },
    {
     "name": "stdout",
     "output_type": "stream",
     "text": [
      "\n",
      "\u001b[1mAcceptor:\u001b[0m\n",
      "0.9735\t0.9253\t0.9856\t0.9922\t0.9513\t0.9850000143051147\t0.5292999744415283\t0.00139999995008111\t0.00019999999494757503\t21432\n",
      "\n",
      "\u001b[1mDonor:\u001b[0m\n",
      "0.9707\t0.9308\t0.9907\t0.995\t0.9554\t0.9864000082015991\t0.5943999886512756\t0.00139999995008111\t0.00019999999494757503\t21432\n",
      "epoch: 10/10, val loss = 0.000182\n"
     ]
    },
    {
     "data": {
      "image/png": "[encoded data removed]",
      "text/plain": [
       "<Figure size 432x288 with 1 Axes>"
      ]
     },
     "metadata": {
      "needs_background": "light"
     },
     "output_type": "display_data"
    },
    {
     "name": "stderr",
     "output_type": "stream",
     "text": [
      "Epoch (train) 1/10: 100%|█| 101/101 [10:19<00:00,  6.13s/it, accepor_recall=0.852, donor_recall=0.868, loss=0.000236, pr\n"
     ]
    },
    {
     "name": "stdout",
     "output_type": "stream",
     "text": [
      "epoch: 1/10, train loss = 0.011500\n"
     ]
    },
    {
     "name": "stderr",
     "output_type": "stream",
     "text": [
      "Epoch (val) 1/10: 100%|█| 12/12 [01:39<00:00,  8.31s/it, accepor_recall=0.888, donor_recall=0.907, loss=0.000463, pred_l\n"
     ]
    },
    {
     "name": "stdout",
     "output_type": "stream",
     "text": [
      "\n",
      "\u001b[1mAcceptor:\u001b[0m\n",
      "0.9432\t0.8166\t0.9484\t0.9768\t0.8685\t0.9210000038146973\t0.717199981212616\t0.1867000013589859\t0.026100000366568565\t21432\n",
      "\n",
      "\u001b[1mDonor:\u001b[0m\n",
      "0.9474\t0.836\t0.9648\t0.9853\t0.8874\t0.9363999962806702\t0.7253000140190125\t0.1347000002861023\t0.014800000004470348\t21432\n",
      "epoch: 1/10, val loss = 0.000451\n"
     ]
    },
    {
     "name": "stderr",
     "output_type": "stream",
     "text": [
      "Epoch (train) 2/10: 100%|█| 101/101 [10:16<00:00,  6.11s/it, accepor_recall=0.891, donor_recall=0.901, loss=0.000183, pr\n"
     ]
    },
    {
     "name": "stdout",
     "output_type": "stream",
     "text": [
      "epoch: 2/10, train loss = 0.000201\n"
     ]
    },
    {
     "name": "stderr",
     "output_type": "stream",
     "text": [
      "Epoch (val) 2/10: 100%|█| 12/12 [01:58<00:00,  9.88s/it, accepor_recall=0.953, donor_recall=0.952, loss=0.000683, pred_l\n"
     ]
    },
    {
     "name": "stdout",
     "output_type": "stream",
     "text": [
      "\n",
      "\u001b[1mAcceptor:\u001b[0m\n",
      "0.963\t0.8487\t0.9639\t0.9826\t0.9013\t0.9968000054359436\t0.9567000269889832\t0.352400004863739\t0.03660000115633011\t21432\n",
      "\n",
      "\u001b[1mDonor:\u001b[0m\n",
      "0.9583\t0.8549\t0.9705\t0.9881\t0.907\t0.9872999787330627\t0.8960000276565552\t0.19679999351501465\t0.016300000250339508\t21432\n",
      "epoch: 2/10, val loss = 0.000659\n"
     ]
    },
    {
     "name": "stderr",
     "output_type": "stream",
     "text": [
      "Epoch (train) 3/10: 100%|█| 101/101 [10:13<00:00,  6.08s/it, accepor_recall=0.901, donor_recall=0.911, loss=0.000164, pr\n"
     ]
    },
    {
     "name": "stdout",
     "output_type": "stream",
     "text": [
      "epoch: 3/10, train loss = 0.000181\n"
     ]
    },
    {
     "name": "stderr",
     "output_type": "stream",
     "text": [
      "Epoch (val) 3/10: 100%|█| 12/12 [01:35<00:00,  7.98s/it, accepor_recall=0.916, donor_recall=0.908, loss=0.000344, pred_l\n"
     ]
    },
    {
     "name": "stdout",
     "output_type": "stream",
     "text": [
      "\n",
      "\u001b[1mAcceptor:\u001b[0m\n",
      "0.9615\t0.8681\t0.9731\t0.9881\t0.9167\t0.9761999845504761\t0.7675999999046326\t0.04470000043511391\t0.0052999998442828655\t21432\n",
      "\n",
      "\u001b[1mDonor:\u001b[0m\n",
      "0.9602\t0.8688\t0.9795\t0.992\t0.9173\t0.9587000012397766\t0.6589999794960022\t0.027499999850988388\t0.0031999999191612005\t21432\n",
      "epoch: 3/10, val loss = 0.000311\n"
     ]
    },
    {
     "name": "stderr",
     "output_type": "stream",
     "text": [
      "Epoch (train) 4/10: 100%|█| 101/101 [10:19<00:00,  6.14s/it, accepor_recall=0.911, donor_recall=0.915, loss=0.000175, pr\n"
     ]
    },
    {
     "name": "stdout",
     "output_type": "stream",
     "text": [
      "epoch: 4/10, train loss = 0.000168\n"
     ]
    },
    {
     "name": "stderr",
     "output_type": "stream",
     "text": [
      "Epoch (val) 4/10: 100%|█| 12/12 [01:40<00:00,  8.34s/it, accepor_recall=0.916, donor_recall=0.922, loss=0.000273, pred_l\n"
     ]
    },
    {
     "name": "stdout",
     "output_type": "stream",
     "text": [
      "\n",
      "\u001b[1mAcceptor:\u001b[0m\n",
      "0.9716\t0.8977\t0.9788\t0.9897\t0.9375\t0.9858999848365784\t0.6545000076293945\t0.024299999698996544\t0.002899999963119626\t21432\n",
      "\n",
      "\u001b[1mDonor:\u001b[0m\n",
      "0.9693\t0.9029\t0.9836\t0.9929\t0.9413\t0.9853000044822693\t0.6398000121116638\t0.018799999728798866\t0.002099999925121665\t21432\n",
      "epoch: 4/10, val loss = 0.000243\n"
     ]
    },
    {
     "name": "stderr",
     "output_type": "stream",
     "text": [
      "Epoch (train) 5/10: 100%|█| 101/101 [10:15<00:00,  6.10s/it, accepor_recall=0.92, donor_recall=0.926, loss=0.000147, pre\n"
     ]
    },
    {
     "name": "stdout",
     "output_type": "stream",
     "text": [
      "epoch: 5/10, train loss = 0.000155\n"
     ]
    },
    {
     "name": "stderr",
     "output_type": "stream",
     "text": [
      "Epoch (val) 5/10: 100%|█| 12/12 [01:31<00:00,  7.64s/it, accepor_recall=0.882, donor_recall=0.881, loss=0.000235, pred_l\n"
     ]
    },
    {
     "name": "stdout",
     "output_type": "stream",
     "text": [
      "\n",
      "\u001b[1mAcceptor:\u001b[0m\n",
      "0.9737\t0.9096\t0.984\t0.9905\t0.9453\t0.9535999894142151\t0.3928000032901764\t0.006500000134110451\t0.0010999999940395355\t21432\n",
      "\n",
      "\u001b[1mDonor:\u001b[0m\n",
      "0.9739\t0.9176\t0.9888\t0.9944\t0.9511\t0.9283000230789185\t0.3305000066757202\t0.0024999999441206455\t0.00039999998989515007\t21432\n",
      "epoch: 5/10, val loss = 0.000204\n"
     ]
    },
    {
     "name": "stderr",
     "output_type": "stream",
     "text": [
      "Epoch (train) 6/10: 100%|█| 101/101 [10:17<00:00,  6.12s/it, accepor_recall=0.932, donor_recall=0.939, loss=0.000141, pr\n"
     ]
    },
    {
     "name": "stdout",
     "output_type": "stream",
     "text": [
      "epoch: 6/10, train loss = 0.000140\n"
     ]
    },
    {
     "name": "stderr",
     "output_type": "stream",
     "text": [
      "Epoch (val) 6/10: 100%|█| 12/12 [01:31<00:00,  7.59s/it, accepor_recall=0.922, donor_recall=0.93, loss=0.000228, pred_l1\n"
     ]
    },
    {
     "name": "stdout",
     "output_type": "stream",
     "text": [
      "\n",
      "\u001b[1mAcceptor:\u001b[0m\n",
      "0.9692\t0.912\t0.9847\t0.9926\t0.9428\t0.9587000012397766\t0.6071000099182129\t0.00860000029206276\t0.0010999999940395355\t21432\n",
      "\n",
      "\u001b[1mDonor:\u001b[0m\n",
      "0.9709\t0.9175\t0.9884\t0.9945\t0.9488\t0.9668999910354614\t0.61080002784729\t0.006000000052154064\t0.0006000000284984708\t21432\n",
      "epoch: 6/10, val loss = 0.000199\n"
     ]
    },
    {
     "name": "stderr",
     "output_type": "stream",
     "text": [
      "Epoch (train) 7/10: 100%|█| 101/101 [10:21<00:00,  6.15s/it, accepor_recall=0.935, donor_recall=0.939, loss=0.000129, pr\n"
     ]
    },
    {
     "name": "stdout",
     "output_type": "stream",
     "text": [
      "epoch: 7/10, train loss = 0.000131\n"
     ]
    },
    {
     "name": "stderr",
     "output_type": "stream",
     "text": [
      "Epoch (val) 7/10: 100%|█| 12/12 [01:59<00:00,  9.92s/it, accepor_recall=0.942, donor_recall=0.938, loss=0.000282, pred_l\n"
     ]
    },
    {
     "name": "stdout",
     "output_type": "stream",
     "text": [
      "\n",
      "\u001b[1mAcceptor:\u001b[0m\n",
      "0.9689\t0.899\t0.9838\t0.9924\t0.9391\t0.9861999750137329\t0.8087999820709229\t0.030799999833106995\t0.003700000001117587\t21432\n",
      "\n",
      "\u001b[1mDonor:\u001b[0m\n",
      "0.9684\t0.9033\t0.9867\t0.9945\t0.9412\t0.9763000011444092\t0.7504000067710876\t0.020099999383091927\t0.002099999925121665\t21432\n",
      "epoch: 7/10, val loss = 0.000257\n"
     ]
    },
    {
     "name": "stderr",
     "output_type": "stream",
     "text": [
      "Epoch (train) 8/10: 100%|█| 101/101 [10:18<00:00,  6.12s/it, accepor_recall=0.951, donor_recall=0.957, loss=0.000109, pr\n"
     ]
    },
    {
     "name": "stdout",
     "output_type": "stream",
     "text": [
      "epoch: 8/10, train loss = 0.000104\n"
     ]
    },
    {
     "name": "stderr",
     "output_type": "stream",
     "text": [
      "Epoch (val) 8/10: 100%|█| 12/12 [01:25<00:00,  7.08s/it, accepor_recall=0.936, donor_recall=0.941, loss=0.000205, pred_l\n"
     ]
    },
    {
     "name": "stdout",
     "output_type": "stream",
     "text": [
      "\n",
      "\u001b[1mAcceptor:\u001b[0m\n",
      "0.971\t0.9236\t0.9883\t0.9939\t0.9495\t0.9750999808311462\t0.6590999960899353\t0.005799999926239252\t0.0007999999797903001\t21432\n",
      "\n",
      "\u001b[1mDonor:\u001b[0m\n",
      "0.9714\t0.9257\t0.9914\t0.9957\t0.9544\t0.9699000120162964\t0.6190000176429749\t0.003800000064074993\t0.0005000000237487257\t21432\n",
      "epoch: 8/10, val loss = 0.000180\n"
     ]
    },
    {
     "name": "stderr",
     "output_type": "stream",
     "text": [
      "Epoch (train) 9/10: 100%|█| 101/101 [10:16<00:00,  6.11s/it, accepor_recall=0.96, donor_recall=0.965, loss=8.56e-5, pred\n"
     ]
    },
    {
     "name": "stdout",
     "output_type": "stream",
     "text": [
      "epoch: 9/10, train loss = 0.000087\n"
     ]
    },
    {
     "name": "stderr",
     "output_type": "stream",
     "text": [
      "Epoch (val) 9/10: 100%|█| 12/12 [01:43<00:00,  8.58s/it, accepor_recall=0.907, donor_recall=0.926, loss=0.00022, pred_l1\n"
     ]
    },
    {
     "name": "stdout",
     "output_type": "stream",
     "text": [
      "\n",
      "\u001b[1mAcceptor:\u001b[0m\n",
      "0.9725\t0.9253\t0.9872\t0.9923\t0.9515\t0.9866999983787537\t0.3734000027179718\t0.00139999995008111\t0.00019999999494757503\t21432\n",
      "\n",
      "\u001b[1mDonor:\u001b[0m\n",
      "0.9743\t0.9281\t0.9904\t0.9954\t0.9562\t0.988099992275238\t0.4724000096321106\t0.00139999995008111\t0.00019999999494757503\t21432\n",
      "epoch: 9/10, val loss = 0.000188\n"
     ]
    },
    {
     "name": "stderr",
     "output_type": "stream",
     "text": [
      "Epoch (train) 10/10: 100%|█| 101/101 [10:20<00:00,  6.14s/it, accepor_recall=0.966, donor_recall=0.971, loss=7.19e-5, pr\n"
     ]
    },
    {
     "name": "stdout",
     "output_type": "stream",
     "text": [
      "epoch: 10/10, train loss = 0.000075\n"
     ]
    },
    {
     "name": "stderr",
     "output_type": "stream",
     "text": [
      "Epoch (val) 10/10: 100%|█| 12/12 [01:22<00:00,  6.90s/it, accepor_recall=0.93, donor_recall=0.939, loss=0.000213, pred_l\n"
     ]
    },
    {
     "name": "stdout",
     "output_type": "stream",
     "text": [
      "\n",
      "\u001b[1mAcceptor:\u001b[0m\n",
      "0.971\t0.9259\t0.9881\t0.9931\t0.9499\t0.9869999885559082\t0.6342999935150146\t0.0017000000225380063\t0.00019999999494757503\t21432\n",
      "\n",
      "\u001b[1mDonor:\u001b[0m\n",
      "0.9723\t0.9294\t0.991\t0.9951\t0.9551\t0.9853000044822693\t0.6345000267028809\t0.0013000000035390258\t0.00019999999494757503\t21432\n",
      "epoch: 10/10, val loss = 0.000185\n"
     ]
    },
    {
     "data": {
      "image/png": "[encoded data removed]",
      "text/plain": [
       "<Figure size 432x288 with 1 Axes>"
      ]
     },
     "metadata": {
      "needs_background": "light"
     },
     "output_type": "display_data"
    }
   ],
   "source": [
    "device = torch.device(\"cuda\" if torch.cuda.is_available() else \"cpu\")\n",
    "epochs = 10\n",
    "hs = []\n",
    "\n",
    "for model_nr in range(5):\n",
    "    model_m = SpliceAI_10K(CL_max)\n",
    "    model_m.apply(keras_init)\n",
    "    model_m = model_m.to(device)\n",
    "    if torch.cuda.device_count() > 1:\n",
    "        #print(\"Let's use\", torch.cuda.device_count(), \"GPUs!\")\n",
    "        # dim = 0 [30, xxx] -> [10, ...], [10, ...], [10, ...] on 3 GPUs\n",
    "        model_m = nn.DataParallel(model_m)\n",
    "    \n",
    "    modelFileName = '../Results/PyTorch_Models/spliceai_encoder_10k_060522_{}'.format(model_nr)\n",
    "    #model_m.load_state_dict(torch.load('../Results/PyTorch_Models/SpliceAI_Ensembl_dgxtest_{}'.format(0)))\n",
    "    #loss = nn.CrossEntropyLoss(weight=torch.from_numpy(weights).float().to(device),ignore_index=-1,reduction='mean')\n",
    "    loss = categorical_crossentropy_2d().loss\n",
    "    learning_rate= k*1e-3\n",
    "    optimizer = torch.optim.Adam(model_m.parameters(), lr=learning_rate)\n",
    "    scheduler = torch.optim.lr_scheduler.StepLR(optimizer, step_size=1, gamma=0.5)\n",
    "    warmup = get_constant_schedule_with_warmup(optimizer, num_warmup_steps=1000)\n",
    "    h = trainModel(model_m,modelFileName,loss,train_loader,val_loader,optimizer,scheduler,warmup,BATCH_SIZE,epochs,device)\n",
    "    hs.append(h)\n",
    "    #print(model_m.module.conv_final.bias)\n",
    "    #val_results_combined.append(val_results)\n",
    "    plt.plot(range(epochs),h['loss'],label='Train')\n",
    "    plt.plot(range(epochs),h['val_loss'],label='Validation')\n",
    "    plt.xlabel('Epoch')\n",
    "    plt.ylabel('Loss')\n",
    "    plt.legend()\n",
    "    plt.show()"
   ]
  },
  {
   "cell_type": "code",
   "execution_count": 9,
   "metadata": {},
   "outputs": [
    {
     "name": "stderr",
     "output_type": "stream",
     "text": [
      "100%|███████████████████████████████████████████████████████████████████████████████████████████████████████████████████| 16/16 [02:59<00:00, 11.22s/it]\n"
     ]
    }
   ],
   "source": [
    "device = torch.device(\"cuda\" if torch.cuda.is_available() else \"cpu\")\n",
    "h5f = h5py.File('/odinn/tmp/benediktj/SpliceAITrainingCode/dataset_test_0_10k.h5')\n",
    "\n",
    "num_idx = len(h5f.keys())//2\n",
    "\n",
    "test_dataset = h5pyDataset(h5f,list(range(num_idx)))\n",
    "test_loader = torch.utils.data.DataLoader(test_dataset, batch_size=1, shuffle=False, num_workers=0)\n",
    "\n",
    "n_models = 5\n",
    "device = torch.device(\"cuda\" if torch.cuda.is_available() else \"cpu\")\n",
    "model_m = SpliceAI_10K(CL_max)\n",
    "model_m.apply(keras_init)\n",
    "model_m = model_m.to(device)\n",
    "\n",
    "if torch.cuda.device_count() > 1:\n",
    "    model_m = nn.DataParallel(model_m)\n",
    "\n",
    "output_class_labels = ['Null', 'Acceptor', 'Donor']\n",
    "\n",
    "#for output_class in [1,2]:\n",
    "models = [copy.deepcopy(model_m) for i in range(n_models)]\n",
    "[model.load_state_dict(torch.load('../Results/PyTorch_Models/spliceai_encoder_10k_060522_{}'.format(i))) for i,model in enumerate(models)]\n",
    "\n",
    "for model in models:\n",
    "    model.eval()\n",
    "\n",
    "Y_true_acceptor, Y_pred_acceptor = [],[]\n",
    "Y_true_donor, Y_pred_donor = [],[]\n",
    "ce_2d = []\n",
    "\n",
    "for (batch_chunks,target_chunks) in tqdm(test_loader):\n",
    "    batch_chunks = torch.transpose(batch_chunks[0].to(device),1,2)\n",
    "    target_chunks = torch.transpose(torch.squeeze(target_chunks[0].to(device),0),1,2)\n",
    "    #print(np.max(target_chunks.cpu().numpy()[:,2,:]))\n",
    "    n_chunks = int(np.ceil(batch_chunks.shape[0]/BATCH_SIZE))\n",
    "    batch_chunks = torch.chunk(batch_chunks, n_chunks, dim=0)\n",
    "    target_chunks = torch.chunk(target_chunks, n_chunks, dim=0)\n",
    "    targets_list = []\n",
    "    outputs_list = []\n",
    "    for j in range(len(batch_chunks)):\n",
    "        batch_features = batch_chunks[j]\n",
    "        targets = target_chunks[j]\n",
    "        outputs = ([models[i](batch_features).detach() for i in range(n_models)])\n",
    "        outputs = (outputs[0]+outputs[1]+outputs[2]+outputs[3]+outputs[4])/n_models\n",
    "        #outputs = (outputs[0]+outputs[1]+outputs[2])/n_models\n",
    "        targets_list.extend(targets.unsqueeze(0))\n",
    "        outputs_list.extend(outputs.unsqueeze(0))\n",
    "\n",
    "    targets = torch.transpose(torch.vstack(targets_list),1,2).cpu().numpy()\n",
    "    outputs = torch.transpose(torch.vstack(outputs_list),1,2).cpu().numpy()\n",
    "    ce_2d.append(cross_entropy_2d(targets,outputs))\n",
    "\n",
    "    is_expr = (targets.sum(axis=(1,2)) >= 1)\n",
    "    \n",
    "    Y_true_acceptor.extend(targets[is_expr, :, 1].flatten())\n",
    "    Y_true_donor.extend(targets[is_expr, :, 2].flatten())\n",
    "    Y_pred_acceptor.extend(outputs[is_expr, :, 1].flatten())\n",
    "    Y_pred_donor.extend(outputs[is_expr, :, 2].flatten())"
   ]
  },
  {
   "cell_type": "code",
   "execution_count": 10,
   "metadata": {},
   "outputs": [
    {
     "name": "stdout",
     "output_type": "stream",
     "text": [
      "Cross entropy = 0.00019656258561125738\n",
      "\n",
      "\u001b[1mAcceptor:\u001b[0m\n",
      "0.9943\t0.9447\t0.9861\t0.9904\t0.9747\t0.9799\t0.3520\t0.0026\t0.0003\t13499\t14289.0\t14289\n",
      "\n",
      "\u001b[1mDonor:\u001b[0m\n",
      "0.9955\t0.9491\t0.989\t0.9924\t0.978\t0.9790\t0.3697\t0.0020\t0.0002\t13562\t14289.0\t14289\n"
     ]
    }
   ],
   "source": [
    "mean_ce = np.mean(ce_2d)\n",
    "print('Cross entropy = {}'.format(mean_ce))\n",
    "Y_true_acceptor, Y_pred_acceptor,Y_true_donor, Y_pred_donor = np.array(Y_true_acceptor), np.array(Y_pred_acceptor),np.array(Y_true_donor), np.array(Y_pred_donor)\n",
    "print(\"\\n\\033[1m{}:\\033[0m\".format('Acceptor'))\n",
    "acceptor_val_results = print_topl_statistics(Y_true_acceptor, Y_pred_acceptor)\n",
    "print(\"\\n\\033[1m{}:\\033[0m\".format('Donor'))\n",
    "donor_val_results =print_topl_statistics(Y_true_donor, Y_pred_donor)"
   ]
  },
  {
   "cell_type": "code",
   "execution_count": 11,
   "metadata": {},
   "outputs": [],
   "source": [
    "setType = 'test'\n",
    "annotation_test, transcriptToLabel_test, seqData = getData(data_dir, setType)"
   ]
  },
  {
   "cell_type": "code",
   "execution_count": 12,
   "metadata": {
    "scrolled": true
   },
   "outputs": [
    {
     "name": "stderr",
     "output_type": "stream",
     "text": [
      "100%|███████████████████████████████████████████████████████████████████████████████████████████████████████████████████| 90/90 [27:27<00:00, 18.31s/it]\n"
     ]
    }
   ],
   "source": [
    "temp = 1\n",
    "n_models = 5\n",
    "device = torch.device(\"cuda\" if torch.cuda.is_available() else \"cpu\")\n",
    "model_m = SpliceAI_10K(CL_max)\n",
    "model_m.apply(keras_init)\n",
    "model_m = model_m.to(device)\n",
    "\n",
    "if torch.cuda.device_count() > 1:\n",
    "    model_m = nn.DataParallel(model_m)\n",
    "\n",
    "output_class_labels = ['Null', 'Acceptor', 'Donor']\n",
    "\n",
    "#for output_class in [1,2]:\n",
    "models = [copy.deepcopy(model_m) for i in range(n_models)]\n",
    "[model.load_state_dict(torch.load('../Results/PyTorch_Models/spliceai_encoder_10k_060522_{}'.format(i))) for i,model in enumerate(models)]\n",
    "\n",
    "for model in models:\n",
    "    model.eval()\n",
    "    \n",
    "#nr = [0,2,3]\n",
    "#[model.load_state_dict(torch.load('../Results/PyTorch_Models/transformer_encoder_40k_201221_{}'.format(nr[i]))) for i,model in enumerate(models)]\n",
    "#chunkSize = num_idx/10\n",
    "\n",
    "\n",
    "Y_true_acceptor, Y_pred_acceptor = [],[]\n",
    "Y_true_donor, Y_pred_donor = [],[]\n",
    "ce_2d = []\n",
    "\n",
    "test_dataset = spliceDataset(annotation_test,transcriptToLabel_test,SL,CL_max)\n",
    "test_dataset.seqData = seqData\n",
    "test_loader = torch.utils.data.DataLoader(test_dataset, batch_size=100, shuffle=False, num_workers=0,collate_fn=collate_fn, pin_memory=True)\n",
    "\n",
    "\n",
    "for (batch_chunks,target_chunks) in tqdm(test_loader):\n",
    "    batch_chunks = torch.transpose(batch_chunks.to(device),1,2)\n",
    "    target_chunks = torch.transpose(torch.squeeze(target_chunks.to(device),0),1,2)\n",
    "    batch_chunks = torch.split(batch_chunks, BATCH_SIZE, dim=0)\n",
    "    target_chunks = torch.split(target_chunks, BATCH_SIZE, dim=0)\n",
    "    targets_list = []\n",
    "    outputs_list = []\n",
    "    for j in range(len(batch_chunks)):\n",
    "        batch_features = batch_chunks[j]\n",
    "        targets = target_chunks[j]\n",
    "        outputs = ([models[i](batch_features).detach() for i in range(n_models)])\n",
    "        outputs = (outputs[0]+outputs[1]+outputs[2]+outputs[3]+outputs[4])/n_models\n",
    "        targets_list.extend(targets.unsqueeze(0))\n",
    "        outputs_list.extend(outputs.unsqueeze(0))\n",
    "\n",
    "    targets = torch.transpose(torch.vstack(targets_list),1,2).cpu().numpy()\n",
    "    outputs = torch.transpose(torch.vstack(outputs_list),1,2).cpu().numpy()\n",
    "    ce_2d.append(cross_entropy_2d(targets,outputs))\n",
    "\n",
    "    is_expr = (targets.sum(axis=(1,2)) >= 1)\n",
    "    Y_true_acceptor.extend(targets[is_expr, :, 1].flatten())\n",
    "    Y_true_donor.extend(targets[is_expr, :, 2].flatten())\n",
    "    Y_pred_acceptor.extend(outputs[is_expr, :, 1].flatten())\n",
    "    Y_pred_donor.extend(outputs[is_expr, :, 2].flatten())\n",
    "\n"
   ]
  },
  {
   "cell_type": "code",
   "execution_count": 13,
   "metadata": {},
   "outputs": [
    {
     "name": "stdout",
     "output_type": "stream",
     "text": [
      "Cross entropy = 0.00014645899684887463\n",
      "\n",
      "\u001b[1mAcceptor:\u001b[0m\n",
      "0.9786\t0.9357\t0.99\t0.995\t0.9624\t0.9822\t0.5050\t0.0030\t0.0004\t83942\t89712.0\t89712\n",
      "\n",
      "\u001b[1mDonor:\u001b[0m\n",
      "0.9806\t0.9413\t0.9934\t0.9966\t0.9667\t0.9815\t0.5444\t0.0023\t0.0003\t84445\t89712.0\t89712\n"
     ]
    }
   ],
   "source": [
    "mean_ce = np.mean(ce_2d)\n",
    "print('Cross entropy = {}'.format(mean_ce))\n",
    "Y_true_acceptor, Y_pred_acceptor,Y_true_donor, Y_pred_donor = np.array(Y_true_acceptor), np.array(Y_pred_acceptor),np.array(Y_true_donor), np.array(Y_pred_donor)\n",
    "print(\"\\n\\033[1m{}:\\033[0m\".format('Acceptor'))\n",
    "acceptor_val_results = print_topl_statistics(Y_true_acceptor, Y_pred_acceptor)\n",
    "print(\"\\n\\033[1m{}:\\033[0m\".format('Donor'))\n",
    "donor_val_results =print_topl_statistics(Y_true_donor, Y_pred_donor)"
   ]
  }
 ],
 "metadata": {
  "kernelspec": {
   "display_name": "Python 3 (ipykernel)",
   "language": "python",
   "name": "python3"
  },
  "language_info": {
   "codemirror_mode": {
    "name": "ipython",
    "version": 3
   },
   "file_extension": ".py",
   "mimetype": "text/x-python",
   "name": "python",
   "nbconvert_exporter": "python",
   "pygments_lexer": "ipython3",
   "version": "3.8.12"
  }
 },
 "nbformat": 4,
 "nbformat_minor": 4
}
