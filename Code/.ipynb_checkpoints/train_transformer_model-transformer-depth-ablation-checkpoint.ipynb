{
 "cells": [
  {
   "cell_type": "code",
   "execution_count": 1,
   "metadata": {},
   "outputs": [],
   "source": [
    "import numpy as np\n",
    "import sys\n",
    "import time\n",
    "import h5py\n",
    "from tqdm import tqdm\n",
    "\n",
    "import numpy as np\n",
    "import re\n",
    "from math import ceil\n",
    "from sklearn.metrics import average_precision_score\n",
    "from torch.utils.data import Dataset\n",
    "import torch\n",
    "import torch.nn as nn\n",
    "import pandas as pd\n",
    "import matplotlib.pyplot as plt\n",
    "import pickle\n",
    "#import pickle5 as pickle\n",
    "\n",
    "from sklearn.model_selection import train_test_split\n",
    "\n",
    "from scipy.sparse import load_npz\n",
    "from glob import glob\n",
    "\n",
    "from transformers import get_constant_schedule_with_warmup\n",
    "from sklearn.metrics import precision_score,recall_score,accuracy_score\n",
    "import copy\n",
    "\n",
    "from src.train import trainModel\n",
    "from src.dataloader import getData,spliceDataset,h5pyDataset,collate_fn\n",
    "from src.weight_init import keras_init\n",
    "from src.losses import categorical_crossentropy_2d\n",
    "from src.models import SpliceFormer\n",
    "from src.evaluation_metrics import print_topl_statistics\n",
    "#import tensorflow as tf"
   ]
  },
  {
   "cell_type": "code",
   "execution_count": 2,
   "metadata": {},
   "outputs": [
    {
     "name": "stdout",
     "output_type": "stream",
     "text": [
      "Fri Jun 10 14:41:08 2022       \n",
      "+-----------------------------------------------------------------------------+\n",
      "| NVIDIA-SMI 450.80.02    Driver Version: 450.80.02    CUDA Version: 11.4     |\n",
      "|-------------------------------+----------------------+----------------------+\n",
      "| GPU  Name        Persistence-M| Bus-Id        Disp.A | Volatile Uncorr. ECC |\n",
      "| Fan  Temp  Perf  Pwr:Usage/Cap|         Memory-Usage | GPU-Util  Compute M. |\n",
      "|                               |                      |               MIG M. |\n",
      "|===============================+======================+======================|\n",
      "|   0  Tesla V100-SXM2...  On   | 00000000:06:00.0 Off |                    0 |\n",
      "| N/A   41C    P0    67W / 300W |      0MiB / 32510MiB |      0%      Default |\n",
      "|                               |                      |                  N/A |\n",
      "+-------------------------------+----------------------+----------------------+\n",
      "|   1  Tesla V100-SXM2...  On   | 00000000:07:00.0 Off |                    0 |\n",
      "| N/A   44C    P0    69W / 300W |      0MiB / 32510MiB |      0%      Default |\n",
      "|                               |                      |                  N/A |\n",
      "+-------------------------------+----------------------+----------------------+\n",
      "|   2  Tesla V100-SXM2...  On   | 00000000:0A:00.0 Off |                    0 |\n",
      "| N/A   45C    P0    70W / 300W |      0MiB / 32510MiB |      0%      Default |\n",
      "|                               |                      |                  N/A |\n",
      "+-------------------------------+----------------------+----------------------+\n",
      "|   3  Tesla V100-SXM2...  On   | 00000000:0B:00.0 Off |                    0 |\n",
      "| N/A   37C    P0    68W / 300W |      0MiB / 32510MiB |      0%      Default |\n",
      "|                               |                      |                  N/A |\n",
      "+-------------------------------+----------------------+----------------------+\n",
      "|   4  Tesla V100-SXM2...  On   | 00000000:85:00.0 Off |                    0 |\n",
      "| N/A   39C    P0    65W / 300W |      0MiB / 32510MiB |      0%      Default |\n",
      "|                               |                      |                  N/A |\n",
      "+-------------------------------+----------------------+----------------------+\n",
      "|   5  Tesla V100-SXM2...  On   | 00000000:86:00.0 Off |                    0 |\n",
      "| N/A   42C    P0    59W / 300W |      0MiB / 32510MiB |      0%      Default |\n",
      "|                               |                      |                  N/A |\n",
      "+-------------------------------+----------------------+----------------------+\n",
      "|   6  Tesla V100-SXM2...  On   | 00000000:89:00.0 Off |                    0 |\n",
      "| N/A   46C    P0    61W / 300W |      0MiB / 32510MiB |      0%      Default |\n",
      "|                               |                      |                  N/A |\n",
      "+-------------------------------+----------------------+----------------------+\n",
      "|   7  Tesla V100-SXM2...  On   | 00000000:8A:00.0 Off |                    0 |\n",
      "| N/A   38C    P0    57W / 300W |      0MiB / 32510MiB |      0%      Default |\n",
      "|                               |                      |                  N/A |\n",
      "+-------------------------------+----------------------+----------------------+\n",
      "                                                                               \n",
      "+-----------------------------------------------------------------------------+\n",
      "| Processes:                                                                  |\n",
      "|  GPU   GI   CI        PID   Type   Process name                  GPU Memory |\n",
      "|        ID   ID                                                   Usage      |\n",
      "|=============================================================================|\n",
      "|  No running processes found                                                 |\n",
      "+-----------------------------------------------------------------------------+\n"
     ]
    }
   ],
   "source": [
    "!nvidia-smi"
   ]
  },
  {
   "cell_type": "code",
   "execution_count": 3,
   "metadata": {},
   "outputs": [],
   "source": [
    "#!pip install pickle5"
   ]
  },
  {
   "cell_type": "code",
   "execution_count": 4,
   "metadata": {},
   "outputs": [],
   "source": [
    "rng = np.random.default_rng(23673)"
   ]
  },
  {
   "cell_type": "code",
   "execution_count": 5,
   "metadata": {},
   "outputs": [],
   "source": [
    "#gtf = None"
   ]
  },
  {
   "cell_type": "code",
   "execution_count": 6,
   "metadata": {},
   "outputs": [],
   "source": [
    "L = 32\n",
    "N_GPUS = 8\n",
    "k = 1\n",
    "# Hyper-parameters:\n",
    "# L: Number of convolution kernels\n",
    "# W: Convolution window size in each residual unit\n",
    "# AR: Atrous rate in each residual unit\n",
    "\n",
    "W = np.asarray([11, 11, 11, 11, 11, 11, 11, 11,\n",
    "                21, 21, 21, 21, 41, 41, 41, 41])\n",
    "AR = np.asarray([1, 1, 1, 1, 4, 4, 4, 4,\n",
    "                 10, 10, 10, 10, 25, 25, 25, 25])\n",
    "BATCH_SIZE = k*6*N_GPUS\n",
    "\n",
    "\n",
    "CL = 2 * np.sum(AR*(W-1))"
   ]
  },
  {
   "cell_type": "code",
   "execution_count": 7,
   "metadata": {},
   "outputs": [],
   "source": [
    "data_dir = '/odinn/tmp/benediktj/Data/SplicePrediction-050422'\n",
    "setType = 'train'\n",
    "annotation, transcriptToLabel, seqData = getData(data_dir, setType)"
   ]
  },
  {
   "cell_type": "code",
   "execution_count": 8,
   "metadata": {},
   "outputs": [],
   "source": [
    "# Maximum nucleotide context length (CL_max/2 on either side of the \n",
    "# position of interest)\n",
    "# CL_max should be an even number\n",
    "# Sequence length of SpliceAIs (SL+CL will be the input length and\n",
    "# SL will be the output length)\n",
    "\n",
    "SL=5000\n",
    "CL_max=40000"
   ]
  },
  {
   "cell_type": "code",
   "execution_count": 9,
   "metadata": {},
   "outputs": [],
   "source": [
    "assert CL_max % 2 == 0"
   ]
  },
  {
   "cell_type": "code",
   "execution_count": 10,
   "metadata": {},
   "outputs": [],
   "source": [
    "train_gene, validation_gene = train_test_split(annotation['gene'].drop_duplicates(),test_size=.1,random_state=435)\n",
    "annotation_train = annotation[annotation['gene'].isin(train_gene)]\n",
    "annotation_validation = annotation[annotation['gene'].isin(validation_gene)]"
   ]
  },
  {
   "cell_type": "code",
   "execution_count": 11,
   "metadata": {},
   "outputs": [],
   "source": [
    "train_dataset = spliceDataset(annotation_train,transcriptToLabel,SL,CL_max)\n",
    "val_dataset = spliceDataset(annotation_validation,transcriptToLabel,SL,CL_max)\n",
    "train_dataset.seqData = seqData\n",
    "val_dataset.seqData = seqData\n",
    "\n",
    "train_loader = torch.utils.data.DataLoader(train_dataset, batch_size=k*100, shuffle=True, num_workers=16,collate_fn=collate_fn, pin_memory=True)\n",
    "val_loader = torch.utils.data.DataLoader(val_dataset, batch_size=k*100, shuffle=False,collate_fn=collate_fn, num_workers=16)"
   ]
  },
  {
   "cell_type": "code",
   "execution_count": 12,
   "metadata": {
    "scrolled": true
   },
   "outputs": [
    {
     "name": "stderr",
     "output_type": "stream",
     "text": [
      "Epoch (train) 1/10: 100%|██████████████████████████████████████████████████████| 202/202 [29:40<00:00,  8.81s/it, accepor_recall=0.869, donor_recall=0.882, loss=0.000231, pred_l1_dist=0]\n"
     ]
    },
    {
     "name": "stdout",
     "output_type": "stream",
     "text": [
      "epoch: 1/10, train loss = 0.007972\n"
     ]
    },
    {
     "name": "stderr",
     "output_type": "stream",
     "text": [
      "Epoch (val) 1/10: 100%|██████████████████████████████████████████████████████████| 23/23 [03:45<00:00,  9.81s/it, accepor_recall=0.751, donor_recall=0.743, loss=0.000454, pred_l1_dist=0]\n"
     ]
    },
    {
     "name": "stdout",
     "output_type": "stream",
     "text": [
      "\n",
      "\u001b[1mAcceptor:\u001b[0m\n",
      "0.9546\t0.8292\t0.9488\t0.9775\t0.8847\t0.9243999719619751\t0.17069999873638153\t0.006000000052154064\t0.0010000000474974513\t21432\n",
      "\n",
      "\u001b[1mDonor:\u001b[0m\n",
      "0.9646\t0.8538\t0.971\t0.989\t0.9101\t0.8939999938011169\t0.11270000040531158\t0.00279999990016222\t0.00039999998989515007\t21432\n",
      "epoch: 1/10, val loss = 0.000393\n"
     ]
    },
    {
     "name": "stderr",
     "output_type": "stream",
     "text": [
      "Epoch (train) 2/10: 100%|██████████████████████████████████████████████████████| 202/202 [29:02<00:00,  8.62s/it, accepor_recall=0.894, donor_recall=0.907, loss=0.000195, pred_l1_dist=0]\n"
     ]
    },
    {
     "name": "stdout",
     "output_type": "stream",
     "text": [
      "epoch: 2/10, train loss = 0.000198\n"
     ]
    },
    {
     "name": "stderr",
     "output_type": "stream",
     "text": [
      "Epoch (val) 2/10: 100%|██████████████████████████████████████████████████████████| 23/23 [03:20<00:00,  8.72s/it, accepor_recall=0.808, donor_recall=0.902, loss=0.000344, pred_l1_dist=0]\n"
     ]
    },
    {
     "name": "stdout",
     "output_type": "stream",
     "text": [
      "\n",
      "\u001b[1mAcceptor:\u001b[0m\n",
      "0.964\t0.8835\t0.9766\t0.9864\t0.9221\t0.8877000212669373\t0.22179999947547913\t0.004399999976158142\t0.0007999999797903001\t21432\n",
      "\n",
      "\u001b[1mDonor:\u001b[0m\n",
      "0.964\t0.8932\t0.9863\t0.9936\t0.9348\t0.9503999948501587\t0.5569999814033508\t0.011300000362098217\t0.0015999999595806003\t21432\n",
      "epoch: 2/10, val loss = 0.000265\n"
     ]
    },
    {
     "name": "stderr",
     "output_type": "stream",
     "text": [
      "Epoch (train) 3/10: 100%|██████████████████████████████████████████████████████| 202/202 [29:03<00:00,  8.63s/it, accepor_recall=0.914, donor_recall=0.924, loss=0.000157, pred_l1_dist=0]\n"
     ]
    },
    {
     "name": "stdout",
     "output_type": "stream",
     "text": [
      "epoch: 3/10, train loss = 0.000170\n"
     ]
    },
    {
     "name": "stderr",
     "output_type": "stream",
     "text": [
      "Epoch (val) 3/10: 100%|██████████████████████████████████████████████████████████| 23/23 [03:46<00:00,  9.83s/it, accepor_recall=0.881, donor_recall=0.875, loss=0.000297, pred_l1_dist=0]\n"
     ]
    },
    {
     "name": "stdout",
     "output_type": "stream",
     "text": [
      "\n",
      "\u001b[1mAcceptor:\u001b[0m\n",
      "0.9714\t0.9001\t0.9805\t0.9904\t0.9389\t0.9739999771118164\t0.40849998593330383\t0.005900000222027302\t0.0007999999797903001\t21432\n",
      "\n",
      "\u001b[1mDonor:\u001b[0m\n",
      "0.9714\t0.9036\t0.9856\t0.9928\t0.942\t0.9764999747276306\t0.37290000915527344\t0.005900000222027302\t0.0008999999845400453\t21432\n",
      "epoch: 3/10, val loss = 0.000230\n"
     ]
    },
    {
     "name": "stderr",
     "output_type": "stream",
     "text": [
      "Epoch (train) 4/10: 100%|███████████████████████████████████████████████████████| 202/202 [29:01<00:00,  8.62s/it, accepor_recall=0.928, donor_recall=0.935, loss=0.00014, pred_l1_dist=0]\n"
     ]
    },
    {
     "name": "stdout",
     "output_type": "stream",
     "text": [
      "epoch: 4/10, train loss = 0.000149\n"
     ]
    },
    {
     "name": "stderr",
     "output_type": "stream",
     "text": [
      "Epoch (val) 4/10: 100%|██████████████████████████████████████████████████████████| 23/23 [03:41<00:00,  9.63s/it, accepor_recall=0.902, donor_recall=0.931, loss=0.000255, pred_l1_dist=0]\n"
     ]
    },
    {
     "name": "stdout",
     "output_type": "stream",
     "text": [
      "\n",
      "\u001b[1mAcceptor:\u001b[0m\n",
      "0.9739\t0.9193\t0.9854\t0.9922\t0.9498\t0.9750000238418579\t0.4551999866962433\t0.006099999882280827\t0.00139999995008111\t21432\n",
      "\n",
      "\u001b[1mDonor:\u001b[0m\n",
      "0.9747\t0.9233\t0.9905\t0.9951\t0.9545\t0.9815999865531921\t0.6137999892234802\t0.008899999782443047\t0.001500000013038516\t21432\n",
      "epoch: 4/10, val loss = 0.000191\n"
     ]
    },
    {
     "name": "stderr",
     "output_type": "stream",
     "text": [
      "Epoch (train) 5/10: 100%|██████████████████████████████████████████████████████| 202/202 [29:10<00:00,  8.67s/it, accepor_recall=0.929, donor_recall=0.935, loss=0.000149, pred_l1_dist=0]\n"
     ]
    },
    {
     "name": "stdout",
     "output_type": "stream",
     "text": [
      "epoch: 5/10, train loss = 0.000136\n"
     ]
    },
    {
     "name": "stderr",
     "output_type": "stream",
     "text": [
      "Epoch (val) 5/10: 100%|██████████████████████████████████████████████████████████| 23/23 [04:01<00:00, 10.52s/it, accepor_recall=0.896, donor_recall=0.896, loss=0.000257, pred_l1_dist=0]\n"
     ]
    },
    {
     "name": "stdout",
     "output_type": "stream",
     "text": [
      "\n",
      "\u001b[1mAcceptor:\u001b[0m\n",
      "0.9753\t0.919\t0.9865\t0.9928\t0.9523\t0.9706000089645386\t0.40709999203681946\t0.005100000184029341\t0.0010000000474974513\t21432\n",
      "\n",
      "\u001b[1mDonor:\u001b[0m\n",
      "0.9736\t0.922\t0.9886\t0.9944\t0.9535\t0.9603999853134155\t0.3301999866962433\t0.0032999999821186066\t0.000699999975040555\t21432\n",
      "epoch: 5/10, val loss = 0.000193\n"
     ]
    },
    {
     "name": "stderr",
     "output_type": "stream",
     "text": [
      "Epoch (train) 6/10: 100%|██████████████████████████████████████████████████████| 202/202 [29:04<00:00,  8.63s/it, accepor_recall=0.939, donor_recall=0.946, loss=0.000133, pred_l1_dist=0]\n"
     ]
    },
    {
     "name": "stdout",
     "output_type": "stream",
     "text": [
      "epoch: 6/10, train loss = 0.000125\n"
     ]
    },
    {
     "name": "stderr",
     "output_type": "stream",
     "text": [
      "Epoch (val) 6/10: 100%|██████████████████████████████████████████████████████████| 23/23 [03:33<00:00,  9.27s/it, accepor_recall=0.918, donor_recall=0.912, loss=0.000245, pred_l1_dist=0]\n"
     ]
    },
    {
     "name": "stdout",
     "output_type": "stream",
     "text": [
      "\n",
      "\u001b[1mAcceptor:\u001b[0m\n",
      "0.9752\t0.9229\t0.9878\t0.9931\t0.9529\t0.973800003528595\t0.5572999715805054\t0.005200000014156103\t0.0008999999845400453\t21432\n",
      "\n",
      "\u001b[1mDonor:\u001b[0m\n",
      "0.9724\t0.9229\t0.9897\t0.9946\t0.9531\t0.9679999947547913\t0.47440001368522644\t0.002899999963119626\t0.0005000000237487257\t21432\n",
      "epoch: 6/10, val loss = 0.000185\n"
     ]
    },
    {
     "name": "stderr",
     "output_type": "stream",
     "text": [
      "Epoch (train) 7/10: 100%|██████████████████████████████████████████████████████| 202/202 [29:24<00:00,  8.74s/it, accepor_recall=0.943, donor_recall=0.949, loss=0.000112, pred_l1_dist=0]\n"
     ]
    },
    {
     "name": "stdout",
     "output_type": "stream",
     "text": [
      "epoch: 7/10, train loss = 0.000118\n"
     ]
    },
    {
     "name": "stderr",
     "output_type": "stream",
     "text": [
      "Epoch (val) 7/10: 100%|██████████████████████████████████████████████████████████| 23/23 [03:12<00:00,  8.39s/it, accepor_recall=0.913, donor_recall=0.937, loss=0.000254, pred_l1_dist=0]\n"
     ]
    },
    {
     "name": "stdout",
     "output_type": "stream",
     "text": [
      "\n",
      "\u001b[1mAcceptor:\u001b[0m\n",
      "0.9764\t0.9232\t0.9881\t0.9929\t0.9545\t0.9851999878883362\t0.6014999747276306\t0.00430000014603138\t0.000699999975040555\t21432\n",
      "\n",
      "\u001b[1mDonor:\u001b[0m\n",
      "0.9759\t0.9263\t0.9909\t0.9951\t0.9576\t0.9941999912261963\t0.7290999889373779\t0.005100000184029341\t0.000699999975040555\t21432\n",
      "epoch: 7/10, val loss = 0.000190\n"
     ]
    },
    {
     "name": "stderr",
     "output_type": "stream",
     "text": [
      "Epoch (train) 8/10: 100%|████████████████████████████████████████████████████████| 202/202 [29:11<00:00,  8.67s/it, accepor_recall=0.96, donor_recall=0.962, loss=7.68e-5, pred_l1_dist=0]\n"
     ]
    },
    {
     "name": "stdout",
     "output_type": "stream",
     "text": [
      "epoch: 8/10, train loss = 0.000096\n"
     ]
    },
    {
     "name": "stderr",
     "output_type": "stream",
     "text": [
      "Epoch (val) 8/10: 100%|██████████████████████████████████████████████████████████| 23/23 [03:10<00:00,  8.27s/it, accepor_recall=0.903, donor_recall=0.918, loss=0.000259, pred_l1_dist=0]\n"
     ]
    },
    {
     "name": "stdout",
     "output_type": "stream",
     "text": [
      "\n",
      "\u001b[1mAcceptor:\u001b[0m\n",
      "0.9769\t0.9285\t0.9873\t0.9919\t0.9557\t0.9836999773979187\t0.398499995470047\t0.0010000000474974513\t0.00019999999494757503\t21432\n",
      "\n",
      "\u001b[1mDonor:\u001b[0m\n",
      "0.9755\t0.9319\t0.9915\t0.9951\t0.9605\t0.9812999963760376\t0.392300009727478\t0.000699999975040555\t9.999999747378752e-05\t21432\n",
      "epoch: 8/10, val loss = 0.000188\n"
     ]
    },
    {
     "name": "stderr",
     "output_type": "stream",
     "text": [
      "Epoch (train) 9/10: 100%|███████████████████████████████████████████████████████| 202/202 [29:07<00:00,  8.65s/it, accepor_recall=0.965, donor_recall=0.967, loss=9.47e-5, pred_l1_dist=0]\n"
     ]
    },
    {
     "name": "stdout",
     "output_type": "stream",
     "text": [
      "epoch: 9/10, train loss = 0.000082\n"
     ]
    },
    {
     "name": "stderr",
     "output_type": "stream",
     "text": [
      "Epoch (val) 9/10: 100%|██████████████████████████████████████████████████████████| 23/23 [03:32<00:00,  9.23s/it, accepor_recall=0.935, donor_recall=0.941, loss=0.000255, pred_l1_dist=0]\n"
     ]
    },
    {
     "name": "stdout",
     "output_type": "stream",
     "text": [
      "\n",
      "\u001b[1mAcceptor:\u001b[0m\n",
      "0.9748\t0.9277\t0.9884\t0.9936\t0.9544\t0.989300012588501\t0.7275999784469604\t0.0027000000700354576\t0.0005000000237487257\t21432\n",
      "\n",
      "\u001b[1mDonor:\u001b[0m\n",
      "0.9716\t0.9275\t0.9916\t0.9955\t0.9555\t0.9916999936103821\t0.6922000050544739\t0.002300000051036477\t0.0003000000142492354\t21432\n",
      "epoch: 9/10, val loss = 0.000191\n"
     ]
    },
    {
     "name": "stderr",
     "output_type": "stream",
     "text": [
      "Epoch (train) 10/10: 100%|██████████████████████████████████████████████████████| 202/202 [29:03<00:00,  8.63s/it, accepor_recall=0.968, donor_recall=0.972, loss=6.69e-5, pred_l1_dist=0]\n"
     ]
    },
    {
     "name": "stdout",
     "output_type": "stream",
     "text": [
      "epoch: 10/10, train loss = 0.000072\n"
     ]
    },
    {
     "name": "stderr",
     "output_type": "stream",
     "text": [
      "Epoch (val) 10/10: 100%|█████████████████████████████████████████████████████████| 23/23 [03:29<00:00,  9.12s/it, accepor_recall=0.915, donor_recall=0.928, loss=0.000255, pred_l1_dist=0]\n"
     ]
    },
    {
     "name": "stdout",
     "output_type": "stream",
     "text": [
      "\n",
      "\u001b[1mAcceptor:\u001b[0m\n",
      "0.9765\t0.932\t0.9879\t0.9926\t0.9573\t0.9926000237464905\t0.5062999725341797\t0.0013000000035390258\t0.0003000000142492354\t21432\n",
      "\n",
      "\u001b[1mDonor:\u001b[0m\n",
      "0.9721\t0.9333\t0.9912\t0.9953\t0.9592\t0.993399977684021\t0.5364000201225281\t0.0013000000035390258\t0.00019999999494757503\t21432\n",
      "epoch: 10/10, val loss = 0.000187\n"
     ]
    },
    {
     "data": {
      "image/png": "[encoded data removed]",
      "text/plain": [
       "<Figure size 432x288 with 1 Axes>"
      ]
     },
     "metadata": {
      "needs_background": "light"
     },
     "output_type": "display_data"
    },
    {
     "name": "stderr",
     "output_type": "stream",
     "text": [
      "Epoch (train) 1/10: 100%|██████████████████████████████████████████████████████| 202/202 [31:38<00:00,  9.40s/it, accepor_recall=0.872, donor_recall=0.886, loss=0.000223, pred_l1_dist=0]\n"
     ]
    },
    {
     "name": "stdout",
     "output_type": "stream",
     "text": [
      "epoch: 1/10, train loss = 0.008215\n"
     ]
    },
    {
     "name": "stderr",
     "output_type": "stream",
     "text": [
      "Epoch (val) 1/10: 100%|███████████████████████████████████████████████████████████| 23/23 [04:00<00:00, 10.44s/it, accepor_recall=0.908, donor_recall=0.87, loss=0.000388, pred_l1_dist=0]\n"
     ]
    },
    {
     "name": "stdout",
     "output_type": "stream",
     "text": [
      "\n",
      "\u001b[1mAcceptor:\u001b[0m\n",
      "0.9628\t0.8762\t0.9748\t0.9874\t0.921\t0.9724000096321106\t0.7437000274658203\t0.059700001031160355\t0.007699999958276749\t21432\n",
      "\n",
      "\u001b[1mDonor:\u001b[0m\n",
      "0.9674\t0.879\t0.9784\t0.9905\t0.9268\t0.9697999954223633\t0.492900013923645\t0.012299999594688416\t0.0012000000569969416\t21432\n",
      "epoch: 1/10, val loss = 0.000301\n"
     ]
    },
    {
     "name": "stderr",
     "output_type": "stream",
     "text": [
      "Epoch (train) 2/10: 100%|██████████████████████████████████████████████████████| 202/202 [31:37<00:00,  9.39s/it, accepor_recall=0.897, donor_recall=0.903, loss=0.000177, pred_l1_dist=0]\n"
     ]
    },
    {
     "name": "stdout",
     "output_type": "stream",
     "text": [
      "epoch: 2/10, train loss = 0.000195\n"
     ]
    },
    {
     "name": "stderr",
     "output_type": "stream",
     "text": [
      "Epoch (val) 2/10: 100%|██████████████████████████████████████████████████████████| 23/23 [04:10<00:00, 10.87s/it, accepor_recall=0.894, donor_recall=0.874, loss=0.000318, pred_l1_dist=0]\n"
     ]
    },
    {
     "name": "stdout",
     "output_type": "stream",
     "text": [
      "\n",
      "\u001b[1mAcceptor:\u001b[0m\n",
      "0.9714\t0.8894\t0.98\t0.9904\t0.9353\t0.9807999730110168\t0.6370999813079834\t0.01510000042617321\t0.0017000000225380063\t21432\n",
      "\n",
      "\u001b[1mDonor:\u001b[0m\n",
      "0.9706\t0.8968\t0.986\t0.9948\t0.9405\t0.9423999786376953\t0.4788999855518341\t0.013799999840557575\t0.0017999999690800905\t21432\n",
      "epoch: 2/10, val loss = 0.000241\n"
     ]
    },
    {
     "name": "stderr",
     "output_type": "stream",
     "text": [
      "Epoch (train) 3/10: 100%|██████████████████████████████████████████████████████| 202/202 [31:24<00:00,  9.33s/it, accepor_recall=0.909, donor_recall=0.918, loss=0.000149, pred_l1_dist=0]\n"
     ]
    },
    {
     "name": "stdout",
     "output_type": "stream",
     "text": [
      "epoch: 3/10, train loss = 0.000167\n"
     ]
    },
    {
     "name": "stderr",
     "output_type": "stream",
     "text": [
      "Epoch (val) 3/10: 100%|██████████████████████████████████████████████████████████| 23/23 [03:55<00:00, 10.25s/it, accepor_recall=0.876, donor_recall=0.891, loss=0.000304, pred_l1_dist=0]\n"
     ]
    },
    {
     "name": "stdout",
     "output_type": "stream",
     "text": [
      "\n",
      "\u001b[1mAcceptor:\u001b[0m\n",
      "0.9718\t0.8954\t0.9818\t0.9907\t0.9368\t0.9478999972343445\t0.45669999718666077\t0.010200000368058681\t0.0010000000474974513\t21432\n",
      "\n",
      "\u001b[1mDonor:\u001b[0m\n",
      "0.9685\t0.8939\t0.9834\t0.9938\t0.938\t0.9598000049591064\t0.5404000282287598\t0.012600000016391277\t0.0012000000569969416\t21432\n",
      "epoch: 3/10, val loss = 0.000236\n"
     ]
    },
    {
     "name": "stderr",
     "output_type": "stream",
     "text": [
      "Epoch (train) 4/10: 100%|██████████████████████████████████████████████████████| 202/202 [31:30<00:00,  9.36s/it, accepor_recall=0.929, donor_recall=0.929, loss=0.000154, pred_l1_dist=0]\n"
     ]
    },
    {
     "name": "stdout",
     "output_type": "stream",
     "text": [
      "epoch: 4/10, train loss = 0.000148\n"
     ]
    },
    {
     "name": "stderr",
     "output_type": "stream",
     "text": [
      "Epoch (val) 4/10: 100%|██████████████████████████████████████████████████████████| 23/23 [03:59<00:00, 10.42s/it, accepor_recall=0.853, donor_recall=0.863, loss=0.000346, pred_l1_dist=0]\n"
     ]
    },
    {
     "name": "stdout",
     "output_type": "stream",
     "text": [
      "\n",
      "\u001b[1mAcceptor:\u001b[0m\n",
      "0.9648\t0.8743\t0.9713\t0.9869\t0.9188\t0.9549000263214111\t0.4390999972820282\t0.014100000262260437\t0.002099999925121665\t21432\n",
      "\n",
      "\u001b[1mDonor:\u001b[0m\n",
      "0.9722\t0.8903\t0.9797\t0.9901\t0.934\t0.9567999839782715\t0.4287000000476837\t0.01679999940097332\t0.002199999988079071\t21432\n",
      "epoch: 4/10, val loss = 0.000265\n"
     ]
    },
    {
     "name": "stderr",
     "output_type": "stream",
     "text": [
      "Epoch (train) 5/10: 100%|██████████████████████████████████████████████████████| 202/202 [31:27<00:00,  9.35s/it, accepor_recall=0.935, donor_recall=0.936, loss=0.000144, pred_l1_dist=0]\n"
     ]
    },
    {
     "name": "stdout",
     "output_type": "stream",
     "text": [
      "epoch: 5/10, train loss = 0.000135\n"
     ]
    },
    {
     "name": "stderr",
     "output_type": "stream",
     "text": [
      "Epoch (val) 5/10: 100%|██████████████████████████████████████████████████████████| 23/23 [04:18<00:00, 11.24s/it, accepor_recall=0.899, donor_recall=0.908, loss=0.000257, pred_l1_dist=0]\n"
     ]
    },
    {
     "name": "stdout",
     "output_type": "stream",
     "text": [
      "\n",
      "\u001b[1mAcceptor:\u001b[0m\n",
      "0.9756\t0.9176\t0.9859\t0.9923\t0.9512\t0.982699990272522\t0.4754999876022339\t0.007199999876320362\t0.001500000013038516\t21432\n",
      "\n",
      "\u001b[1mDonor:\u001b[0m\n",
      "0.9751\t0.92\t0.9891\t0.995\t0.9535\t0.9836000204086304\t0.4950000047683716\t0.007199999876320362\t0.0012000000569969416\t21432\n",
      "epoch: 5/10, val loss = 0.000193\n"
     ]
    },
    {
     "name": "stderr",
     "output_type": "stream",
     "text": [
      "Epoch (train) 6/10: 100%|███████████████████████████████████████████████████████| 202/202 [31:26<00:00,  9.34s/it, accepor_recall=0.939, donor_recall=0.94, loss=0.000146, pred_l1_dist=0]\n"
     ]
    },
    {
     "name": "stdout",
     "output_type": "stream",
     "text": [
      "epoch: 6/10, train loss = 0.000125\n"
     ]
    },
    {
     "name": "stderr",
     "output_type": "stream",
     "text": [
      "Epoch (val) 6/10: 100%|███████████████████████████████████████████████████████████| 23/23 [04:01<00:00, 10.50s/it, accepor_recall=0.897, donor_recall=0.896, loss=0.00026, pred_l1_dist=0]\n"
     ]
    },
    {
     "name": "stdout",
     "output_type": "stream",
     "text": [
      "\n",
      "\u001b[1mAcceptor:\u001b[0m\n",
      "0.9765\t0.9177\t0.9858\t0.9927\t0.9515\t0.9871000051498413\t0.4505999982357025\t0.003800000064074993\t0.0006000000284984708\t21432\n",
      "\n",
      "\u001b[1mDonor:\u001b[0m\n",
      "0.9754\t0.9215\t0.9902\t0.995\t0.9547\t0.9819999933242798\t0.3903000056743622\t0.002199999988079071\t0.0003000000142492354\t21432\n",
      "epoch: 6/10, val loss = 0.000197\n"
     ]
    },
    {
     "name": "stderr",
     "output_type": "stream",
     "text": [
      "Epoch (train) 7/10: 100%|██████████████████████████████████████████████████████| 202/202 [31:23<00:00,  9.33s/it, accepor_recall=0.944, donor_recall=0.946, loss=0.000134, pred_l1_dist=0]\n"
     ]
    },
    {
     "name": "stdout",
     "output_type": "stream",
     "text": [
      "epoch: 7/10, train loss = 0.000117\n"
     ]
    },
    {
     "name": "stderr",
     "output_type": "stream",
     "text": [
      "Epoch (val) 7/10: 100%|██████████████████████████████████████████████████████████| 23/23 [04:08<00:00, 10.82s/it, accepor_recall=0.901, donor_recall=0.909, loss=0.000253, pred_l1_dist=0]\n"
     ]
    },
    {
     "name": "stdout",
     "output_type": "stream",
     "text": [
      "\n",
      "\u001b[1mAcceptor:\u001b[0m\n",
      "0.9749\t0.9233\t0.9874\t0.9932\t0.9555\t0.9787999987602234\t0.40299999713897705\t0.00139999995008111\t0.00019999999494757503\t21432\n",
      "\n",
      "\u001b[1mDonor:\u001b[0m\n",
      "0.978\t0.9291\t0.9902\t0.9946\t0.96\t0.9796000123023987\t0.3693999946117401\t0.0007999999797903001\t9.999999747378752e-05\t21432\n",
      "epoch: 7/10, val loss = 0.000190\n"
     ]
    },
    {
     "name": "stderr",
     "output_type": "stream",
     "text": [
      "Epoch (train) 8/10: 100%|███████████████████████████████████████████████████████| 202/202 [31:29<00:00,  9.35s/it, accepor_recall=0.961, donor_recall=0.967, loss=8.76e-5, pred_l1_dist=0]\n"
     ]
    },
    {
     "name": "stdout",
     "output_type": "stream",
     "text": [
      "epoch: 8/10, train loss = 0.000096\n"
     ]
    },
    {
     "name": "stderr",
     "output_type": "stream",
     "text": [
      "Epoch (val) 8/10: 100%|██████████████████████████████████████████████████████████| 23/23 [04:11<00:00, 10.93s/it, accepor_recall=0.921, donor_recall=0.923, loss=0.000238, pred_l1_dist=0]\n"
     ]
    },
    {
     "name": "stdout",
     "output_type": "stream",
     "text": [
      "\n",
      "\u001b[1mAcceptor:\u001b[0m\n",
      "0.9781\t0.9289\t0.9888\t0.994\t0.9583\t0.9894000291824341\t0.6080999970436096\t0.0020000000949949026\t0.0003000000142492354\t21432\n",
      "\n",
      "\u001b[1mDonor:\u001b[0m\n",
      "0.9791\t0.9316\t0.9911\t0.9953\t0.9623\t0.9842000007629395\t0.5508999824523926\t0.0017999999690800905\t0.00019999999494757503\t21432\n",
      "epoch: 8/10, val loss = 0.000178\n"
     ]
    },
    {
     "name": "stderr",
     "output_type": "stream",
     "text": [
      "Epoch (train) 9/10: 100%|████████████████████████████████████████████████████████| 202/202 [31:36<00:00,  9.39s/it, accepor_recall=0.968, donor_recall=0.967, loss=7.7e-5, pred_l1_dist=0]\n"
     ]
    },
    {
     "name": "stdout",
     "output_type": "stream",
     "text": [
      "epoch: 9/10, train loss = 0.000082\n"
     ]
    },
    {
     "name": "stderr",
     "output_type": "stream",
     "text": [
      "Epoch (val) 9/10: 100%|██████████████████████████████████████████████████████████| 23/23 [04:10<00:00, 10.91s/it, accepor_recall=0.917, donor_recall=0.929, loss=0.000244, pred_l1_dist=0]\n"
     ]
    },
    {
     "name": "stdout",
     "output_type": "stream",
     "text": [
      "\n",
      "\u001b[1mAcceptor:\u001b[0m\n",
      "0.9784\t0.9307\t0.989\t0.9932\t0.9591\t0.9861999750137329\t0.5101000070571899\t0.0010999999940395355\t0.00019999999494757503\t21432\n",
      "\n",
      "\u001b[1mDonor:\u001b[0m\n",
      "0.9784\t0.9323\t0.9916\t0.996\t0.9618\t0.9861000180244446\t0.5430999994277954\t0.0012000000569969416\t0.00019999999494757503\t21432\n",
      "epoch: 9/10, val loss = 0.000181\n"
     ]
    },
    {
     "name": "stderr",
     "output_type": "stream",
     "text": [
      "Epoch (train) 10/10: 100%|███████████████████████████████████████████████████████| 202/202 [31:31<00:00,  9.36s/it, accepor_recall=0.962, donor_recall=0.97, loss=7.78e-5, pred_l1_dist=0]\n"
     ]
    },
    {
     "name": "stdout",
     "output_type": "stream",
     "text": [
      "epoch: 10/10, train loss = 0.000073\n"
     ]
    },
    {
     "name": "stderr",
     "output_type": "stream",
     "text": [
      "Epoch (val) 10/10: 100%|█████████████████████████████████████████████████████████| 23/23 [04:09<00:00, 10.84s/it, accepor_recall=0.912, donor_recall=0.922, loss=0.000237, pred_l1_dist=0]\n"
     ]
    },
    {
     "name": "stdout",
     "output_type": "stream",
     "text": [
      "\n",
      "\u001b[1mAcceptor:\u001b[0m\n",
      "0.977\t0.9295\t0.9884\t0.9941\t0.958\t0.98089998960495\t0.4875999987125397\t0.002199999988079071\t0.00039999998989515007\t21432\n",
      "\n",
      "\u001b[1mDonor:\u001b[0m\n",
      "0.9764\t0.9324\t0.9916\t0.9961\t0.9605\t0.982699990272522\t0.5175999999046326\t0.0017000000225380063\t0.0003000000142492354\t21432\n",
      "epoch: 10/10, val loss = 0.000175\n"
     ]
    },
    {
     "data": {
      "image/png": "[encoded data removed]",
      "text/plain": [
       "<Figure size 432x288 with 1 Axes>"
      ]
     },
     "metadata": {
      "needs_background": "light"
     },
     "output_type": "display_data"
    },
    {
     "name": "stderr",
     "output_type": "stream",
     "text": [
      "Epoch (train) 1/10: 100%|███████████████████████████████████████████████████████| 202/202 [34:35<00:00, 10.27s/it, accepor_recall=0.88, donor_recall=0.885, loss=0.000185, pred_l1_dist=0]\n"
     ]
    },
    {
     "name": "stdout",
     "output_type": "stream",
     "text": [
      "epoch: 1/10, train loss = 0.007466\n"
     ]
    },
    {
     "name": "stderr",
     "output_type": "stream",
     "text": [
      "Epoch (val) 1/10: 100%|██████████████████████████████████████████████████████████| 23/23 [04:59<00:00, 13.04s/it, accepor_recall=0.861, donor_recall=0.902, loss=0.000358, pred_l1_dist=0]\n"
     ]
    },
    {
     "name": "stdout",
     "output_type": "stream",
     "text": [
      "\n",
      "\u001b[1mAcceptor:\u001b[0m\n",
      "0.9672\t0.8712\t0.9717\t0.9872\t0.9186\t0.9521999955177307\t0.552299976348877\t0.018699999898672104\t0.002400000113993883\t21432\n",
      "\n",
      "\u001b[1mDonor:\u001b[0m\n",
      "0.9678\t0.872\t0.9789\t0.9916\t0.9238\t0.9678999781608582\t0.657800018787384\t0.0215000007301569\t0.002400000113993883\t21432\n",
      "epoch: 1/10, val loss = 0.000282\n"
     ]
    },
    {
     "name": "stderr",
     "output_type": "stream",
     "text": [
      "Epoch (train) 2/10: 100%|██████████████████████████████████████████████████████| 202/202 [34:28<00:00, 10.24s/it, accepor_recall=0.903, donor_recall=0.912, loss=0.000153, pred_l1_dist=0]\n"
     ]
    },
    {
     "name": "stdout",
     "output_type": "stream",
     "text": [
      "epoch: 2/10, train loss = 0.000194\n"
     ]
    },
    {
     "name": "stderr",
     "output_type": "stream",
     "text": [
      "Epoch (val) 2/10: 100%|██████████████████████████████████████████████████████████| 23/23 [05:06<00:00, 13.34s/it, accepor_recall=0.892, donor_recall=0.932, loss=0.000304, pred_l1_dist=0]\n"
     ]
    },
    {
     "name": "stdout",
     "output_type": "stream",
     "text": [
      "\n",
      "\u001b[1mAcceptor:\u001b[0m\n",
      "0.9725\t0.8948\t0.9807\t0.9898\t0.9396\t0.9786999821662903\t0.618399977684021\t0.012199999764561653\t0.00139999995008111\t21432\n",
      "\n",
      "\u001b[1mDonor:\u001b[0m\n",
      "0.974\t0.9118\t0.9868\t0.9944\t0.9486\t0.9846000075340271\t0.7159000039100647\t0.01209999993443489\t0.0013000000035390258\t21432\n",
      "epoch: 2/10, val loss = 0.000232\n"
     ]
    },
    {
     "name": "stderr",
     "output_type": "stream",
     "text": [
      "Epoch (train) 3/10: 100%|██████████████████████████████████████████████████████| 202/202 [34:07<00:00, 10.14s/it, accepor_recall=0.914, donor_recall=0.927, loss=0.000142, pred_l1_dist=0]\n"
     ]
    },
    {
     "name": "stdout",
     "output_type": "stream",
     "text": [
      "epoch: 3/10, train loss = 0.000167\n"
     ]
    },
    {
     "name": "stderr",
     "output_type": "stream",
     "text": [
      "Epoch (val) 3/10: 100%|███████████████████████████████████████████████████████████| 23/23 [05:00<00:00, 13.06s/it, accepor_recall=0.91, donor_recall=0.919, loss=0.000272, pred_l1_dist=0]\n"
     ]
    },
    {
     "name": "stdout",
     "output_type": "stream",
     "text": [
      "\n",
      "\u001b[1mAcceptor:\u001b[0m\n",
      "0.9728\t0.9152\t0.9853\t0.9924\t0.9477\t0.9843999743461609\t0.5027999877929688\t0.006000000052154064\t0.0008999999845400453\t21432\n",
      "\n",
      "\u001b[1mDonor:\u001b[0m\n",
      "0.9738\t0.9145\t0.9881\t0.994\t0.9503\t0.9900000095367432\t0.5539000034332275\t0.005200000014156103\t0.0006000000284984708\t21432\n",
      "epoch: 3/10, val loss = 0.000205\n"
     ]
    },
    {
     "name": "stderr",
     "output_type": "stream",
     "text": [
      "Epoch (train) 4/10: 100%|██████████████████████████████████████████████████████| 202/202 [34:10<00:00, 10.15s/it, accepor_recall=0.932, donor_recall=0.937, loss=0.000146, pred_l1_dist=0]\n"
     ]
    },
    {
     "name": "stdout",
     "output_type": "stream",
     "text": [
      "epoch: 4/10, train loss = 0.000147\n"
     ]
    },
    {
     "name": "stderr",
     "output_type": "stream",
     "text": [
      "Epoch (val) 4/10: 100%|██████████████████████████████████████████████████████████| 23/23 [05:01<00:00, 13.13s/it, accepor_recall=0.901, donor_recall=0.906, loss=0.000269, pred_l1_dist=0]\n"
     ]
    },
    {
     "name": "stdout",
     "output_type": "stream",
     "text": [
      "\n",
      "\u001b[1mAcceptor:\u001b[0m\n",
      "0.9729\t0.9148\t0.9853\t0.9923\t0.9472\t0.9635000228881836\t0.4950000047683716\t0.003100000089034438\t0.00039999998989515007\t21432\n",
      "\n",
      "\u001b[1mDonor:\u001b[0m\n",
      "0.9713\t0.9158\t0.9881\t0.9946\t0.9495\t0.9700000286102295\t0.4948999881744385\t0.0027000000700354576\t0.0003000000142492354\t21432\n",
      "epoch: 4/10, val loss = 0.000204\n"
     ]
    },
    {
     "name": "stderr",
     "output_type": "stream",
     "text": [
      "Epoch (train) 5/10: 100%|██████████████████████████████████████████████████████| 202/202 [34:19<00:00, 10.19s/it, accepor_recall=0.939, donor_recall=0.944, loss=0.000128, pred_l1_dist=0]\n"
     ]
    },
    {
     "name": "stdout",
     "output_type": "stream",
     "text": [
      "epoch: 5/10, train loss = 0.000134\n"
     ]
    },
    {
     "name": "stderr",
     "output_type": "stream",
     "text": [
      "Epoch (val) 5/10: 100%|██████████████████████████████████████████████████████████| 23/23 [05:25<00:00, 14.16s/it, accepor_recall=0.858, donor_recall=0.857, loss=0.000316, pred_l1_dist=0]\n"
     ]
    },
    {
     "name": "stdout",
     "output_type": "stream",
     "text": [
      "\n",
      "\u001b[1mAcceptor:\u001b[0m\n",
      "0.9752\t0.9073\t0.9832\t0.9917\t0.9454\t0.9825999736785889\t0.2685000002384186\t0.0027000000700354576\t0.00039999998989515007\t21432\n",
      "\n",
      "\u001b[1mDonor:\u001b[0m\n",
      "0.9723\t0.9146\t0.9864\t0.9942\t0.9487\t0.9749000072479248\t0.1720999926328659\t0.0010000000474974513\t0.00019999999494757503\t21432\n",
      "epoch: 5/10, val loss = 0.000239\n"
     ]
    },
    {
     "name": "stderr",
     "output_type": "stream",
     "text": [
      "Epoch (train) 6/10: 100%|██████████████████████████████████████████████████████| 202/202 [34:25<00:00, 10.22s/it, accepor_recall=0.946, donor_recall=0.946, loss=0.000129, pred_l1_dist=0]\n"
     ]
    },
    {
     "name": "stdout",
     "output_type": "stream",
     "text": [
      "epoch: 6/10, train loss = 0.000124\n"
     ]
    },
    {
     "name": "stderr",
     "output_type": "stream",
     "text": [
      "Epoch (val) 6/10: 100%|███████████████████████████████████████████████████████████| 23/23 [04:46<00:00, 12.45s/it, accepor_recall=0.914, donor_recall=0.923, loss=0.00026, pred_l1_dist=0]\n"
     ]
    },
    {
     "name": "stdout",
     "output_type": "stream",
     "text": [
      "\n",
      "\u001b[1mAcceptor:\u001b[0m\n",
      "0.9742\t0.9216\t0.988\t0.9934\t0.9544\t0.9843999743461609\t0.5781000256538391\t0.002899999963119626\t0.0003000000142492354\t21432\n",
      "\n",
      "\u001b[1mDonor:\u001b[0m\n",
      "0.9762\t0.925\t0.9909\t0.9955\t0.9574\t0.9905999898910522\t0.5679000020027161\t0.002400000113993883\t0.00019999999494757503\t21432\n",
      "epoch: 6/10, val loss = 0.000191\n"
     ]
    },
    {
     "name": "stderr",
     "output_type": "stream",
     "text": [
      "Epoch (train) 7/10: 100%|██████████████████████████████████████████████████████| 202/202 [34:28<00:00, 10.24s/it, accepor_recall=0.944, donor_recall=0.948, loss=0.000143, pred_l1_dist=0]\n"
     ]
    },
    {
     "name": "stdout",
     "output_type": "stream",
     "text": [
      "epoch: 7/10, train loss = 0.000118\n"
     ]
    },
    {
     "name": "stderr",
     "output_type": "stream",
     "text": [
      "Epoch (val) 7/10: 100%|███████████████████████████████████████████████████████████| 23/23 [05:14<00:00, 13.66s/it, accepor_recall=0.872, donor_recall=0.883, loss=0.00027, pred_l1_dist=0]\n"
     ]
    },
    {
     "name": "stdout",
     "output_type": "stream",
     "text": [
      "\n",
      "\u001b[1mAcceptor:\u001b[0m\n",
      "0.9748\t0.922\t0.9867\t0.9921\t0.9523\t0.9330000281333923\t0.2451999932527542\t0.002400000113993883\t0.0005000000237487257\t21432\n",
      "\n",
      "\u001b[1mDonor:\u001b[0m\n",
      "0.9728\t0.9241\t0.9905\t0.9947\t0.9551\t0.9122999906539917\t0.26420000195503235\t0.0026000000070780516\t0.0005000000237487257\t21432\n",
      "epoch: 7/10, val loss = 0.000204\n"
     ]
    },
    {
     "name": "stderr",
     "output_type": "stream",
     "text": [
      "Epoch (train) 8/10: 100%|██████████████████████████████████████████████████████| 202/202 [34:18<00:00, 10.19s/it, accepor_recall=0.956, donor_recall=0.957, loss=0.000107, pred_l1_dist=0]\n"
     ]
    },
    {
     "name": "stdout",
     "output_type": "stream",
     "text": [
      "epoch: 8/10, train loss = 0.000097\n"
     ]
    },
    {
     "name": "stderr",
     "output_type": "stream",
     "text": [
      "Epoch (val) 8/10: 100%|██████████████████████████████████████████████████████████| 23/23 [04:58<00:00, 12.97s/it, accepor_recall=0.919, donor_recall=0.925, loss=0.000224, pred_l1_dist=0]\n"
     ]
    },
    {
     "name": "stdout",
     "output_type": "stream",
     "text": [
      "\n",
      "\u001b[1mAcceptor:\u001b[0m\n",
      "0.9774\t0.9304\t0.9895\t0.9942\t0.959\t0.9653000235557556\t0.5364999771118164\t0.004000000189989805\t0.000699999975040555\t21432\n",
      "\n",
      "\u001b[1mDonor:\u001b[0m\n",
      "0.9763\t0.9325\t0.9915\t0.9956\t0.9614\t0.9677000045776367\t0.5239999890327454\t0.003700000001117587\t0.0006000000284984708\t21432\n",
      "epoch: 8/10, val loss = 0.000167\n"
     ]
    },
    {
     "name": "stderr",
     "output_type": "stream",
     "text": [
      "Epoch (train) 9/10: 100%|███████████████████████████████████████████████████████| 202/202 [34:04<00:00, 10.12s/it, accepor_recall=0.966, donor_recall=0.966, loss=8.15e-5, pred_l1_dist=0]\n"
     ]
    },
    {
     "name": "stdout",
     "output_type": "stream",
     "text": [
      "epoch: 9/10, train loss = 0.000084\n"
     ]
    },
    {
     "name": "stderr",
     "output_type": "stream",
     "text": [
      "Epoch (val) 9/10: 100%|██████████████████████████████████████████████████████████| 23/23 [04:53<00:00, 12.78s/it, accepor_recall=0.906, donor_recall=0.918, loss=0.000242, pred_l1_dist=0]\n"
     ]
    },
    {
     "name": "stdout",
     "output_type": "stream",
     "text": [
      "\n",
      "\u001b[1mAcceptor:\u001b[0m\n",
      "0.9764\t0.9301\t0.9891\t0.9927\t0.9569\t0.982200026512146\t0.4025000035762787\t0.0013000000035390258\t0.00019999999494757503\t21432\n",
      "\n",
      "\u001b[1mDonor:\u001b[0m\n",
      "0.9761\t0.9305\t0.9909\t0.9931\t0.9583\t0.9815999865531921\t0.4300999939441681\t0.0015999999595806003\t0.00019999999494757503\t21432\n",
      "epoch: 9/10, val loss = 0.000181\n"
     ]
    },
    {
     "name": "stderr",
     "output_type": "stream",
     "text": [
      "Epoch (train) 10/10: 100%|██████████████████████████████████████████████████████| 202/202 [34:15<00:00, 10.18s/it, accepor_recall=0.967, donor_recall=0.969, loss=7.88e-5, pred_l1_dist=0]\n"
     ]
    },
    {
     "name": "stdout",
     "output_type": "stream",
     "text": [
      "epoch: 10/10, train loss = 0.000075\n"
     ]
    },
    {
     "name": "stderr",
     "output_type": "stream",
     "text": [
      "Epoch (val) 10/10: 100%|█████████████████████████████████████████████████████████| 23/23 [05:03<00:00, 13.22s/it, accepor_recall=0.917, donor_recall=0.925, loss=0.000239, pred_l1_dist=0]\n"
     ]
    },
    {
     "name": "stdout",
     "output_type": "stream",
     "text": [
      "\n",
      "\u001b[1mAcceptor:\u001b[0m\n",
      "0.977\t0.9306\t0.9895\t0.9932\t0.9579\t0.9839000105857849\t0.4893999993801117\t0.00139999995008111\t0.00019999999494757503\t21432\n",
      "\n",
      "\u001b[1mDonor:\u001b[0m\n",
      "0.9769\t0.9337\t0.9912\t0.995\t0.9604\t0.9848999977111816\t0.5130000114440918\t0.0013000000035390258\t0.00019999999494757503\t21432\n",
      "epoch: 10/10, val loss = 0.000175\n"
     ]
    },
    {
     "data": {
      "image/png": "[encoded data removed]",
      "text/plain": [
       "<Figure size 432x288 with 1 Axes>"
      ]
     },
     "metadata": {
      "needs_background": "light"
     },
     "output_type": "display_data"
    },
    {
     "name": "stderr",
     "output_type": "stream",
     "text": [
      "Epoch (train) 1/10: 100%|██████████████████████████████████████████████████████| 202/202 [36:35<00:00, 10.87s/it, accepor_recall=0.873, donor_recall=0.881, loss=0.000226, pred_l1_dist=0]\n"
     ]
    },
    {
     "name": "stdout",
     "output_type": "stream",
     "text": [
      "epoch: 1/10, train loss = 0.007401\n"
     ]
    },
    {
     "name": "stderr",
     "output_type": "stream",
     "text": [
      "Epoch (val) 1/10: 100%|██████████████████████████████████████████████████████████| 23/23 [05:31<00:00, 14.41s/it, accepor_recall=0.722, donor_recall=0.752, loss=0.000437, pred_l1_dist=0]\n"
     ]
    },
    {
     "name": "stdout",
     "output_type": "stream",
     "text": [
      "\n",
      "\u001b[1mAcceptor:\u001b[0m\n",
      "0.9651\t0.8729\t0.9725\t0.9868\t0.9205\t0.7979999780654907\t0.15039999783039093\t0.005900000222027302\t0.0010999999940395355\t21432\n",
      "\n",
      "\u001b[1mDonor:\u001b[0m\n",
      "0.9637\t0.8684\t0.9771\t0.9911\t0.919\t0.8456000089645386\t0.17630000412464142\t0.004600000102072954\t0.000699999975040555\t21432\n",
      "epoch: 1/10, val loss = 0.000339\n"
     ]
    },
    {
     "name": "stderr",
     "output_type": "stream",
     "text": [
      "Epoch (train) 2/10: 100%|██████████████████████████████████████████████████████| 202/202 [36:53<00:00, 10.96s/it, accepor_recall=0.888, donor_recall=0.894, loss=0.000157, pred_l1_dist=0]\n"
     ]
    },
    {
     "name": "stdout",
     "output_type": "stream",
     "text": [
      "epoch: 2/10, train loss = 0.000192\n"
     ]
    },
    {
     "name": "stderr",
     "output_type": "stream",
     "text": [
      "Epoch (val) 2/10: 100%|███████████████████████████████████████████████████████████| 23/23 [05:23<00:00, 14.07s/it, accepor_recall=0.915, donor_recall=0.91, loss=0.000303, pred_l1_dist=0]\n"
     ]
    },
    {
     "name": "stdout",
     "output_type": "stream",
     "text": [
      "\n",
      "\u001b[1mAcceptor:\u001b[0m\n",
      "0.971\t0.8988\t0.9817\t0.9913\t0.9402\t0.9649999737739563\t0.6312000155448914\t0.0284000001847744\t0.004100000020116568\t21432\n",
      "\n",
      "\u001b[1mDonor:\u001b[0m\n",
      "0.9699\t0.8982\t0.986\t0.994\t0.9402\t0.9664999842643738\t0.5544000267982483\t0.013100000098347664\t0.0015999999595806003\t21432\n",
      "epoch: 2/10, val loss = 0.000234\n"
     ]
    },
    {
     "name": "stderr",
     "output_type": "stream",
     "text": [
      "Epoch (train) 3/10: 100%|██████████████████████████████████████████████████████| 202/202 [36:26<00:00, 10.83s/it, accepor_recall=0.918, donor_recall=0.921, loss=0.000174, pred_l1_dist=0]\n"
     ]
    },
    {
     "name": "stdout",
     "output_type": "stream",
     "text": [
      "epoch: 3/10, train loss = 0.000165\n"
     ]
    },
    {
     "name": "stderr",
     "output_type": "stream",
     "text": [
      "Epoch (val) 3/10: 100%|██████████████████████████████████████████████████████████| 23/23 [05:25<00:00, 14.14s/it, accepor_recall=0.916, donor_recall=0.928, loss=0.000275, pred_l1_dist=0]\n"
     ]
    },
    {
     "name": "stdout",
     "output_type": "stream",
     "text": [
      "\n",
      "\u001b[1mAcceptor:\u001b[0m\n",
      "0.9734\t0.9131\t0.986\t0.9929\t0.9485\t0.984499990940094\t0.6462000012397766\t0.00559999980032444\t0.000699999975040555\t21432\n",
      "\n",
      "\u001b[1mDonor:\u001b[0m\n",
      "0.9734\t0.9147\t0.9895\t0.995\t0.9504\t0.9861999750137329\t0.696399986743927\t0.006300000008195639\t0.0008999999845400453\t21432\n",
      "epoch: 3/10, val loss = 0.000209\n"
     ]
    },
    {
     "name": "stderr",
     "output_type": "stream",
     "text": [
      "Epoch (train) 4/10: 100%|██████████████████████████████████████████████████████| 202/202 [36:47<00:00, 10.93s/it, accepor_recall=0.928, donor_recall=0.934, loss=0.000132, pred_l1_dist=0]\n"
     ]
    },
    {
     "name": "stdout",
     "output_type": "stream",
     "text": [
      "epoch: 4/10, train loss = 0.000146\n"
     ]
    },
    {
     "name": "stderr",
     "output_type": "stream",
     "text": [
      "Epoch (val) 4/10: 100%|███████████████████████████████████████████████████████████| 23/23 [05:30<00:00, 14.38s/it, accepor_recall=0.865, donor_recall=0.867, loss=0.00029, pred_l1_dist=0]\n"
     ]
    },
    {
     "name": "stdout",
     "output_type": "stream",
     "text": [
      "\n",
      "\u001b[1mAcceptor:\u001b[0m\n",
      "0.9728\t0.9137\t0.984\t0.9907\t0.947\t0.9456999897956848\t0.3025999963283539\t0.00279999990016222\t0.0005000000237487257\t21432\n",
      "\n",
      "\u001b[1mDonor:\u001b[0m\n",
      "0.9719\t0.9163\t0.9876\t0.993\t0.9496\t0.9580000042915344\t0.23819999396800995\t0.0017999999690800905\t0.0003000000142492354\t21432\n",
      "epoch: 4/10, val loss = 0.000221\n"
     ]
    },
    {
     "name": "stderr",
     "output_type": "stream",
     "text": [
      "Epoch (train) 5/10: 100%|██████████████████████████████████████████████████████| 202/202 [36:33<00:00, 10.86s/it, accepor_recall=0.937, donor_recall=0.942, loss=0.000135, pred_l1_dist=0]\n"
     ]
    },
    {
     "name": "stdout",
     "output_type": "stream",
     "text": [
      "epoch: 5/10, train loss = 0.000134\n"
     ]
    },
    {
     "name": "stderr",
     "output_type": "stream",
     "text": [
      "Epoch (val) 5/10: 100%|██████████████████████████████████████████████████████████| 23/23 [05:22<00:00, 14.04s/it, accepor_recall=0.916, donor_recall=0.919, loss=0.000254, pred_l1_dist=0]\n"
     ]
    },
    {
     "name": "stdout",
     "output_type": "stream",
     "text": [
      "\n",
      "\u001b[1mAcceptor:\u001b[0m\n",
      "0.9774\t0.9223\t0.9874\t0.9936\t0.9543\t0.98580002784729\t0.5888000130653381\t0.003100000089034438\t0.00039999998989515007\t21432\n",
      "\n",
      "\u001b[1mDonor:\u001b[0m\n",
      "0.9748\t0.9249\t0.9909\t0.9951\t0.9567\t0.9830999970436096\t0.5615000128746033\t0.00139999995008111\t9.999999747378752e-05\t21432\n",
      "epoch: 5/10, val loss = 0.000189\n"
     ]
    },
    {
     "name": "stderr",
     "output_type": "stream",
     "text": [
      "Epoch (train) 6/10: 100%|██████████████████████████████████████████████████████| 202/202 [36:38<00:00, 10.88s/it, accepor_recall=0.937, donor_recall=0.937, loss=0.000117, pred_l1_dist=0]\n"
     ]
    },
    {
     "name": "stdout",
     "output_type": "stream",
     "text": [
      "epoch: 6/10, train loss = 0.000124\n"
     ]
    },
    {
     "name": "stderr",
     "output_type": "stream",
     "text": [
      "Epoch (val) 6/10: 100%|██████████████████████████████████████████████████████████| 23/23 [06:07<00:00, 15.98s/it, accepor_recall=0.856, donor_recall=0.877, loss=0.000273, pred_l1_dist=0]\n"
     ]
    },
    {
     "name": "stdout",
     "output_type": "stream",
     "text": [
      "\n",
      "\u001b[1mAcceptor:\u001b[0m\n",
      "0.9762\t0.9148\t0.9839\t0.9911\t0.9488\t0.9580000042915344\t0.23739999532699585\t0.0044999998062849045\t0.0010000000474974513\t21432\n",
      "\n",
      "\u001b[1mDonor:\u001b[0m\n",
      "0.9744\t0.9084\t0.9866\t0.9934\t0.9476\t0.9559000134468079\t0.32839998602867126\t0.005900000222027302\t0.0010999999940395355\t21432\n",
      "epoch: 6/10, val loss = 0.000215\n"
     ]
    },
    {
     "name": "stderr",
     "output_type": "stream",
     "text": [
      "Epoch (train) 7/10: 100%|██████████████████████████████████████████████████████| 202/202 [36:48<00:00, 10.93s/it, accepor_recall=0.946, donor_recall=0.949, loss=0.000131, pred_l1_dist=0]\n"
     ]
    },
    {
     "name": "stdout",
     "output_type": "stream",
     "text": [
      "epoch: 7/10, train loss = 0.000117\n"
     ]
    },
    {
     "name": "stderr",
     "output_type": "stream",
     "text": [
      "Epoch (val) 7/10: 100%|██████████████████████████████████████████████████████████| 23/23 [06:04<00:00, 15.84s/it, accepor_recall=0.912, donor_recall=0.925, loss=0.000253, pred_l1_dist=0]\n"
     ]
    },
    {
     "name": "stdout",
     "output_type": "stream",
     "text": [
      "\n",
      "\u001b[1mAcceptor:\u001b[0m\n",
      "0.971\t0.9218\t0.9879\t0.9926\t0.9498\t0.9812999963760376\t0.5612999796867371\t0.002300000051036477\t0.0003000000142492354\t21432\n",
      "\n",
      "\u001b[1mDonor:\u001b[0m\n",
      "0.973\t0.9257\t0.9905\t0.9951\t0.956\t0.984000027179718\t0.5922999978065491\t0.0026000000070780516\t0.0003000000142492354\t21432\n",
      "epoch: 7/10, val loss = 0.000188\n"
     ]
    },
    {
     "name": "stderr",
     "output_type": "stream",
     "text": [
      "Epoch (train) 8/10: 100%|███████████████████████████████████████████████████████| 202/202 [36:37<00:00, 10.88s/it, accepor_recall=0.961, donor_recall=0.966, loss=9.18e-5, pred_l1_dist=0]\n"
     ]
    },
    {
     "name": "stdout",
     "output_type": "stream",
     "text": [
      "epoch: 8/10, train loss = 0.000097\n"
     ]
    },
    {
     "name": "stderr",
     "output_type": "stream",
     "text": [
      "Epoch (val) 8/10: 100%|███████████████████████████████████████████████████████████| 23/23 [05:23<00:00, 14.07s/it, accepor_recall=0.923, donor_recall=0.93, loss=0.000237, pred_l1_dist=0]\n"
     ]
    },
    {
     "name": "stdout",
     "output_type": "stream",
     "text": [
      "\n",
      "\u001b[1mAcceptor:\u001b[0m\n",
      "0.9754\t0.9284\t0.9891\t0.9936\t0.957\t0.978600025177002\t0.5200999975204468\t0.00139999995008111\t0.00019999999494757503\t21432\n",
      "\n",
      "\u001b[1mDonor:\u001b[0m\n",
      "0.9744\t0.9299\t0.9919\t0.9957\t0.959\t0.9828000068664551\t0.5521000027656555\t0.0017000000225380063\t0.00019999999494757503\t21432\n",
      "epoch: 8/10, val loss = 0.000176\n"
     ]
    },
    {
     "name": "stderr",
     "output_type": "stream",
     "text": [
      "Epoch (train) 9/10: 100%|███████████████████████████████████████████████████████| 202/202 [36:50<00:00, 10.94s/it, accepor_recall=0.965, donor_recall=0.968, loss=7.81e-5, pred_l1_dist=0]\n"
     ]
    },
    {
     "name": "stdout",
     "output_type": "stream",
     "text": [
      "epoch: 9/10, train loss = 0.000083\n"
     ]
    },
    {
     "name": "stderr",
     "output_type": "stream",
     "text": [
      "Epoch (val) 9/10: 100%|██████████████████████████████████████████████████████████| 23/23 [05:31<00:00, 14.40s/it, accepor_recall=0.935, donor_recall=0.943, loss=0.000239, pred_l1_dist=0]\n"
     ]
    },
    {
     "name": "stdout",
     "output_type": "stream",
     "text": [
      "\n",
      "\u001b[1mAcceptor:\u001b[0m\n",
      "0.977\t0.9302\t0.9887\t0.9938\t0.9575\t0.9890000224113464\t0.6347000002861023\t0.002099999925121665\t0.00039999998989515007\t21432\n",
      "\n",
      "\u001b[1mDonor:\u001b[0m\n",
      "0.9775\t0.9312\t0.9919\t0.9959\t0.9603\t0.9901999831199646\t0.6704000234603882\t0.002300000051036477\t0.0003000000142492354\t21432\n",
      "epoch: 9/10, val loss = 0.000177\n"
     ]
    },
    {
     "name": "stderr",
     "output_type": "stream",
     "text": [
      "Epoch (train) 10/10: 100%|██████████████████████████████████████████████████████| 202/202 [36:58<00:00, 10.98s/it, accepor_recall=0.966, donor_recall=0.971, loss=8.77e-5, pred_l1_dist=0]\n"
     ]
    },
    {
     "name": "stdout",
     "output_type": "stream",
     "text": [
      "epoch: 10/10, train loss = 0.000074\n"
     ]
    },
    {
     "name": "stderr",
     "output_type": "stream",
     "text": [
      "Epoch (val) 10/10: 100%|█████████████████████████████████████████████████████████| 23/23 [05:57<00:00, 15.53s/it, accepor_recall=0.931, donor_recall=0.937, loss=0.000236, pred_l1_dist=0]\n"
     ]
    },
    {
     "name": "stdout",
     "output_type": "stream",
     "text": [
      "\n",
      "\u001b[1mAcceptor:\u001b[0m\n",
      "0.9734\t0.93\t0.9888\t0.993\t0.9546\t0.9817000031471252\t0.590499997138977\t0.00139999995008111\t0.0003000000142492354\t21432\n",
      "\n",
      "\u001b[1mDonor:\u001b[0m\n",
      "0.9727\t0.9323\t0.9911\t0.9949\t0.9583\t0.9830999970436096\t0.5702000260353088\t0.00139999995008111\t0.00019999999494757503\t21432\n",
      "epoch: 10/10, val loss = 0.000177\n"
     ]
    },
    {
     "data": {
      "image/png": "[encoded data removed]",
      "text/plain": [
       "<Figure size 432x288 with 1 Axes>"
      ]
     },
     "metadata": {
      "needs_background": "light"
     },
     "output_type": "display_data"
    },
    {
     "name": "stderr",
     "output_type": "stream",
     "text": [
      "Epoch (train) 1/10: 100%|███████████████████████████████████████████████████████| 202/202 [46:45<00:00, 13.89s/it, accepor_recall=0.876, donor_recall=0.888, loss=0.00022, pred_l1_dist=0]\n"
     ]
    },
    {
     "name": "stdout",
     "output_type": "stream",
     "text": [
      "epoch: 1/10, train loss = 0.007399\n"
     ]
    },
    {
     "name": "stderr",
     "output_type": "stream",
     "text": [
      "Epoch (val) 1/10: 100%|██████████████████████████████████████████████████████████| 23/23 [07:47<00:00, 20.31s/it, accepor_recall=0.818, donor_recall=0.836, loss=0.000383, pred_l1_dist=0]\n"
     ]
    },
    {
     "name": "stdout",
     "output_type": "stream",
     "text": [
      "\n",
      "\u001b[1mAcceptor:\u001b[0m\n",
      "0.9629\t0.8498\t0.9581\t0.9824\t0.9008\t0.9143999814987183\t0.3693999946117401\t0.018799999728798866\t0.002400000113993883\t21432\n",
      "\n",
      "\u001b[1mDonor:\u001b[0m\n",
      "0.962\t0.8572\t0.9674\t0.9879\t0.9109\t0.9358000159263611\t0.40070000290870667\t0.016499999910593033\t0.0019000000320374966\t21432\n",
      "epoch: 1/10, val loss = 0.000315\n"
     ]
    },
    {
     "name": "stderr",
     "output_type": "stream",
     "text": [
      "Epoch (train) 2/10: 100%|██████████████████████████████████████████████████████| 202/202 [47:00<00:00, 13.96s/it, accepor_recall=0.901, donor_recall=0.903, loss=0.000207, pred_l1_dist=0]\n"
     ]
    },
    {
     "name": "stdout",
     "output_type": "stream",
     "text": [
      "epoch: 2/10, train loss = 0.000193\n"
     ]
    },
    {
     "name": "stderr",
     "output_type": "stream",
     "text": [
      "Epoch (val) 2/10: 100%|██████████████████████████████████████████████████████████| 23/23 [07:50<00:00, 20.44s/it, accepor_recall=0.896, donor_recall=0.906, loss=0.000311, pred_l1_dist=0]\n"
     ]
    },
    {
     "name": "stdout",
     "output_type": "stream",
     "text": [
      "\n",
      "\u001b[1mAcceptor:\u001b[0m\n",
      "0.97\t0.8976\t0.981\t0.99\t0.9367\t0.9836000204086304\t0.6211000084877014\t0.0142000000923872\t0.0015999999595806003\t21432\n",
      "\n",
      "\u001b[1mDonor:\u001b[0m\n",
      "0.9659\t0.8989\t0.9857\t0.9938\t0.9391\t0.9398999810218811\t0.5726000070571899\t0.019600000232458115\t0.002400000113993883\t21432\n",
      "epoch: 2/10, val loss = 0.000236\n"
     ]
    },
    {
     "name": "stderr",
     "output_type": "stream",
     "text": [
      "Epoch (train) 3/10: 100%|███████████████████████████████████████████████████████| 202/202 [46:46<00:00, 13.89s/it, accepor_recall=0.912, donor_recall=0.92, loss=0.000166, pred_l1_dist=0]\n"
     ]
    },
    {
     "name": "stdout",
     "output_type": "stream",
     "text": [
      "epoch: 3/10, train loss = 0.000166\n"
     ]
    },
    {
     "name": "stderr",
     "output_type": "stream",
     "text": [
      "Epoch (val) 3/10: 100%|██████████████████████████████████████████████████████████| 23/23 [07:44<00:00, 20.21s/it, accepor_recall=0.901, donor_recall=0.915, loss=0.000268, pred_l1_dist=0]\n"
     ]
    },
    {
     "name": "stdout",
     "output_type": "stream",
     "text": [
      "\n",
      "\u001b[1mAcceptor:\u001b[0m\n",
      "0.9748\t0.9161\t0.9849\t0.993\t0.9504\t0.9782000184059143\t0.4442000091075897\t0.006800000090152025\t0.0010000000474974513\t21432\n",
      "\n",
      "\u001b[1mDonor:\u001b[0m\n",
      "0.9735\t0.9177\t0.9888\t0.9945\t0.9516\t0.9876000285148621\t0.5393000245094299\t0.007000000216066837\t0.0008999999845400453\t21432\n",
      "epoch: 3/10, val loss = 0.000199\n"
     ]
    },
    {
     "name": "stderr",
     "output_type": "stream",
     "text": [
      "Epoch (train) 4/10: 100%|██████████████████████████████████████████████████████| 202/202 [47:13<00:00, 14.03s/it, accepor_recall=0.934, donor_recall=0.937, loss=0.000141, pred_l1_dist=0]\n"
     ]
    },
    {
     "name": "stdout",
     "output_type": "stream",
     "text": [
      "epoch: 4/10, train loss = 0.000147\n"
     ]
    },
    {
     "name": "stderr",
     "output_type": "stream",
     "text": [
      "Epoch (val) 4/10: 100%|██████████████████████████████████████████████████████████| 23/23 [08:05<00:00, 21.11s/it, accepor_recall=0.895, donor_recall=0.907, loss=0.000262, pred_l1_dist=0]\n"
     ]
    },
    {
     "name": "stdout",
     "output_type": "stream",
     "text": [
      "\n",
      "\u001b[1mAcceptor:\u001b[0m\n",
      "0.9756\t0.9157\t0.985\t0.9923\t0.9507\t0.9758999943733215\t0.43970000743865967\t0.006800000090152025\t0.0013000000035390258\t21432\n",
      "\n",
      "\u001b[1mDonor:\u001b[0m\n",
      "0.9749\t0.9204\t0.9891\t0.9955\t0.9529\t0.965499997138977\t0.43459999561309814\t0.005900000222027302\t0.0010000000474974513\t21432\n",
      "epoch: 4/10, val loss = 0.000193\n"
     ]
    },
    {
     "name": "stderr",
     "output_type": "stream",
     "text": [
      "Epoch (train) 5/10: 100%|██████████████████████████████████████████████████████| 202/202 [46:49<00:00, 13.91s/it, accepor_recall=0.936, donor_recall=0.938, loss=0.000143, pred_l1_dist=0]\n"
     ]
    },
    {
     "name": "stdout",
     "output_type": "stream",
     "text": [
      "epoch: 5/10, train loss = 0.000134\n"
     ]
    },
    {
     "name": "stderr",
     "output_type": "stream",
     "text": [
      "Epoch (val) 5/10: 100%|██████████████████████████████████████████████████████████| 23/23 [08:37<00:00, 22.48s/it, accepor_recall=0.882, donor_recall=0.919, loss=0.000273, pred_l1_dist=0]\n"
     ]
    },
    {
     "name": "stdout",
     "output_type": "stream",
     "text": [
      "\n",
      "\u001b[1mAcceptor:\u001b[0m\n",
      "0.9775\t0.9126\t0.9846\t0.9915\t0.9489\t0.9753000140190125\t0.35030001401901245\t0.006200000178068876\t0.0012000000569969416\t21432\n",
      "\n",
      "\u001b[1mDonor:\u001b[0m\n",
      "0.9764\t0.915\t0.9884\t0.994\t0.9512\t0.9857000112533569\t0.5774000287055969\t0.006099999882280827\t0.0007999999797903001\t21432\n",
      "epoch: 5/10, val loss = 0.000205\n"
     ]
    },
    {
     "name": "stderr",
     "output_type": "stream",
     "text": [
      "Epoch (train) 6/10: 100%|██████████████████████████████████████████████████████| 202/202 [46:26<00:00, 13.79s/it, accepor_recall=0.944, donor_recall=0.949, loss=0.000129, pred_l1_dist=0]\n"
     ]
    },
    {
     "name": "stdout",
     "output_type": "stream",
     "text": [
      "epoch: 6/10, train loss = 0.000124\n"
     ]
    },
    {
     "name": "stderr",
     "output_type": "stream",
     "text": [
      "Epoch (val) 6/10: 100%|███████████████████████████████████████████████████████████| 23/23 [08:07<00:00, 21.19s/it, accepor_recall=0.88, donor_recall=0.895, loss=0.000255, pred_l1_dist=0]\n"
     ]
    },
    {
     "name": "stdout",
     "output_type": "stream",
     "text": [
      "\n",
      "\u001b[1mAcceptor:\u001b[0m\n",
      "0.9768\t0.9214\t0.9877\t0.9932\t0.9546\t0.9531999826431274\t0.34150001406669617\t0.004399999976158142\t0.0007999999797903001\t21432\n",
      "\n",
      "\u001b[1mDonor:\u001b[0m\n",
      "0.9773\t0.9246\t0.991\t0.9952\t0.958\t0.9799000024795532\t0.3508000075817108\t0.0020000000949949026\t0.0003000000142492354\t21432\n",
      "epoch: 6/10, val loss = 0.000189\n"
     ]
    },
    {
     "name": "stderr",
     "output_type": "stream",
     "text": [
      "Epoch (train) 7/10: 100%|██████████████████████████████████████████████████████| 202/202 [46:31<00:00, 13.82s/it, accepor_recall=0.941, donor_recall=0.942, loss=0.000116, pred_l1_dist=0]\n"
     ]
    },
    {
     "name": "stdout",
     "output_type": "stream",
     "text": [
      "epoch: 7/10, train loss = 0.000116\n"
     ]
    },
    {
     "name": "stderr",
     "output_type": "stream",
     "text": [
      "Epoch (val) 7/10: 100%|███████████████████████████████████████████████████████████| 23/23 [07:51<00:00, 20.51s/it, accepor_recall=0.93, donor_recall=0.943, loss=0.000247, pred_l1_dist=0]\n"
     ]
    },
    {
     "name": "stdout",
     "output_type": "stream",
     "text": [
      "\n",
      "\u001b[1mAcceptor:\u001b[0m\n",
      "0.9767\t0.9174\t0.9858\t0.9928\t0.9518\t0.9750999808311462\t0.6715999841690063\t0.013000000268220901\t0.002099999925121665\t21432\n",
      "\n",
      "\u001b[1mDonor:\u001b[0m\n",
      "0.976\t0.9243\t0.9901\t0.9945\t0.9569\t0.9728000164031982\t0.6940000057220459\t0.011099999770522118\t0.0017000000225380063\t21432\n",
      "epoch: 7/10, val loss = 0.000192\n"
     ]
    },
    {
     "name": "stderr",
     "output_type": "stream",
     "text": [
      "Epoch (train) 8/10: 100%|██████████████████████████████████████████████████████| 202/202 [46:23<00:00, 13.78s/it, accepor_recall=0.956, donor_recall=0.961, loss=0.000113, pred_l1_dist=0]\n"
     ]
    },
    {
     "name": "stdout",
     "output_type": "stream",
     "text": [
      "epoch: 8/10, train loss = 0.000096\n"
     ]
    },
    {
     "name": "stderr",
     "output_type": "stream",
     "text": [
      "Epoch (val) 8/10: 100%|██████████████████████████████████████████████████████████| 23/23 [08:03<00:00, 21.04s/it, accepor_recall=0.901, donor_recall=0.904, loss=0.000239, pred_l1_dist=0]\n"
     ]
    },
    {
     "name": "stdout",
     "output_type": "stream",
     "text": [
      "\n",
      "\u001b[1mAcceptor:\u001b[0m\n",
      "0.9747\t0.926\t0.9883\t0.9936\t0.9536\t0.963699996471405\t0.4607999920845032\t0.0032999999821186066\t0.0005000000237487257\t21432\n",
      "\n",
      "\u001b[1mDonor:\u001b[0m\n",
      "0.9772\t0.93\t0.992\t0.9961\t0.961\t0.9523000121116638\t0.43560001254081726\t0.0034000000450760126\t0.0006000000284984708\t21432\n",
      "epoch: 8/10, val loss = 0.000177\n"
     ]
    },
    {
     "name": "stderr",
     "output_type": "stream",
     "text": [
      "Epoch (train) 9/10: 100%|███████████████████████████████████████████████████████| 202/202 [46:27<00:00, 13.80s/it, accepor_recall=0.968, donor_recall=0.969, loss=8.11e-5, pred_l1_dist=0]\n"
     ]
    },
    {
     "name": "stdout",
     "output_type": "stream",
     "text": [
      "epoch: 9/10, train loss = 0.000082\n"
     ]
    },
    {
     "name": "stderr",
     "output_type": "stream",
     "text": [
      "Epoch (val) 9/10: 100%|██████████████████████████████████████████████████████████| 23/23 [08:06<00:00, 21.14s/it, accepor_recall=0.925, donor_recall=0.936, loss=0.000233, pred_l1_dist=0]\n"
     ]
    },
    {
     "name": "stdout",
     "output_type": "stream",
     "text": [
      "\n",
      "\u001b[1mAcceptor:\u001b[0m\n",
      "0.9772\t0.931\t0.9881\t0.9933\t0.9583\t0.9872999787330627\t0.5199999809265137\t0.0017000000225380063\t0.0003000000142492354\t21432\n",
      "\n",
      "\u001b[1mDonor:\u001b[0m\n",
      "0.9771\t0.9343\t0.9914\t0.9956\t0.9611\t0.9868000149726868\t0.5812000036239624\t0.0015999999595806003\t0.00019999999494757503\t21432\n",
      "epoch: 9/10, val loss = 0.000173\n"
     ]
    },
    {
     "name": "stderr",
     "output_type": "stream",
     "text": [
      "Epoch (train) 10/10: 100%|██████████████████████████████████████████████████████| 202/202 [46:28<00:00, 13.80s/it, accepor_recall=0.974, donor_recall=0.975, loss=5.99e-5, pred_l1_dist=0]\n"
     ]
    },
    {
     "name": "stdout",
     "output_type": "stream",
     "text": [
      "epoch: 10/10, train loss = 0.000072\n"
     ]
    },
    {
     "name": "stderr",
     "output_type": "stream",
     "text": [
      "Epoch (val) 10/10: 100%|██████████████████████████████████████████████████████████| 23/23 [07:51<00:00, 20.51s/it, accepor_recall=0.92, donor_recall=0.921, loss=0.000244, pred_l1_dist=0]\n"
     ]
    },
    {
     "name": "stdout",
     "output_type": "stream",
     "text": [
      "\n",
      "\u001b[1mAcceptor:\u001b[0m\n",
      "0.9788\t0.931\t0.9882\t0.993\t0.958\t0.989300012588501\t0.49410000443458557\t0.00139999995008111\t0.00019999999494757503\t21432\n",
      "\n",
      "\u001b[1mDonor:\u001b[0m\n",
      "0.9781\t0.9345\t0.9918\t0.9959\t0.9625\t0.9882000088691711\t0.48170000314712524\t0.0008999999845400453\t9.999999747378752e-05\t21432\n",
      "epoch: 10/10, val loss = 0.000179\n"
     ]
    },
    {
     "data": {
      "image/png": "[encoded data removed]",
      "text/plain": [
       "<Figure size 432x288 with 1 Axes>"
      ]
     },
     "metadata": {
      "needs_background": "light"
     },
     "output_type": "display_data"
    }
   ],
   "source": [
    "device = torch.device(\"cuda\" if torch.cuda.is_available() else \"cpu\")\n",
    "epochs = 10\n",
    "hs = []\n",
    "\n",
    "parameters = [1,2,3,4,8]\n",
    "\n",
    "for model_nr in range(5):\n",
    "    model_m = SpliceFormer(CL_max,depth = parameters[model_nr])\n",
    "    model_m.apply(keras_init)\n",
    "    model_m = model_m.to(device)\n",
    "    if torch.cuda.device_count() > 1:\n",
    "        #print(\"Let's use\", torch.cuda.device_count(), \"GPUs!\")\n",
    "        # dim = 0 [30, xxx] -> [10, ...], [10, ...], [10, ...] on 3 GPUs\n",
    "        model_m = nn.DataParallel(model_m)\n",
    "    \n",
    "    modelFileName = '../Results/PyTorch_Models/transformer_encoder_40k_ablation_transformer_depth_{}'.format(parameters[model_nr])\n",
    "    #model_m.load_state_dict(torch.load('../Results/PyTorch_Models/SpliceAI_Ensembl_dgxtest_{}'.format(0)))\n",
    "    #loss = nn.CrossEntropyLoss(weight=torch.from_numpy(weights).float().to(device),ignore_index=-1,reduction='mean')\n",
    "    loss = categorical_crossentropy_2d().loss\n",
    "    #loss = nn.KLDivLoss()\n",
    "    learning_rate= k*1e-3\n",
    "    optimizer = torch.optim.Adam(model_m.parameters(), lr=learning_rate)\n",
    "    scheduler = torch.optim.lr_scheduler.StepLR(optimizer, step_size=1, gamma=0.5)\n",
    "    warmup = get_constant_schedule_with_warmup(optimizer, num_warmup_steps=1000)\n",
    "    h = trainModel(model_m,modelFileName,loss,train_loader,val_loader,optimizer,scheduler,warmup,BATCH_SIZE,epochs,device)\n",
    "    hs.append(h)\n",
    "\n",
    "    plt.plot(range(epochs),h['loss'],label='Train')\n",
    "    plt.plot(range(epochs),h['val_loss'],label='Validation')\n",
    "    plt.xlabel('Epoch')\n",
    "    plt.ylabel('Loss')\n",
    "    plt.legend()\n",
    "    plt.show()"
   ]
  },
  {
   "cell_type": "code",
   "execution_count": 12,
   "metadata": {},
   "outputs": [
    {
     "name": "stderr",
     "output_type": "stream",
     "text": [
      "Epoch (train) 1/10: 100%|███████████████| 202/202 [29:40<00:00,  8.81s/it, accepor_recall=0.867, donor_recall=0.881, loss=0.000221, pred_l1_dist=0]\n"
     ]
    },
    {
     "name": "stdout",
     "output_type": "stream",
     "text": [
      "epoch: 1/10, train loss = 0.007621\n"
     ]
    },
    {
     "name": "stderr",
     "output_type": "stream",
     "text": [
      "Epoch (val) 1/10: 100%|███████████████████| 23/23 [03:41<00:00,  9.63s/it, accepor_recall=0.817, donor_recall=0.879, loss=0.000395, pred_l1_dist=0]\n"
     ]
    },
    {
     "name": "stdout",
     "output_type": "stream",
     "text": [
      "\n",
      "\u001b[1mAcceptor:\u001b[0m\n",
      "0.9638\t0.858\t0.9668\t0.9855\t0.9074\t0.9399999976158142\t0.3240000009536743\t0.012199999764561653\t0.0017000000225380063\t21432\n",
      "\n",
      "\u001b[1mDonor:\u001b[0m\n",
      "0.966\t0.8659\t0.9736\t0.9884\t0.9175\t0.9717000126838684\t0.534500002861023\t0.0210999995470047\t0.002400000113993883\t21432\n",
      "epoch: 1/10, val loss = 0.000303\n"
     ]
    },
    {
     "name": "stderr",
     "output_type": "stream",
     "text": [
      "Epoch (train) 2/10: 100%|███████████████| 202/202 [28:49<00:00,  8.56s/it, accepor_recall=0.893, donor_recall=0.905, loss=0.000192, pred_l1_dist=0]\n"
     ]
    },
    {
     "name": "stdout",
     "output_type": "stream",
     "text": [
      "epoch: 2/10, train loss = 0.000199\n"
     ]
    },
    {
     "name": "stderr",
     "output_type": "stream",
     "text": [
      "Epoch (val) 2/10: 100%|███████████████████| 23/23 [03:23<00:00,  8.83s/it, accepor_recall=0.828, donor_recall=0.845, loss=0.000361, pred_l1_dist=0]\n"
     ]
    },
    {
     "name": "stdout",
     "output_type": "stream",
     "text": [
      "\n",
      "\u001b[1mAcceptor:\u001b[0m\n",
      "0.9649\t0.8768\t0.9734\t0.9858\t0.9198\t0.9560999870300293\t0.27219998836517334\t0.00419999985024333\t0.0006000000284984708\t21432\n",
      "\n",
      "\u001b[1mDonor:\u001b[0m\n",
      "0.9686\t0.8814\t0.9787\t0.9894\t0.9282\t0.9664999842643738\t0.27570000290870667\t0.003000000026077032\t0.0005000000237487257\t21432\n",
      "epoch: 2/10, val loss = 0.000292\n"
     ]
    },
    {
     "name": "stderr",
     "output_type": "stream",
     "text": [
      "Epoch (train) 3/10: 100%|███████████████| 202/202 [28:52<00:00,  8.58s/it, accepor_recall=0.913, donor_recall=0.923, loss=0.000159, pred_l1_dist=0]\n"
     ]
    },
    {
     "name": "stdout",
     "output_type": "stream",
     "text": [
      "epoch: 3/10, train loss = 0.000168\n"
     ]
    },
    {
     "name": "stderr",
     "output_type": "stream",
     "text": [
      "Epoch (val) 3/10: 100%|███████████████████| 23/23 [03:19<00:00,  8.68s/it, accepor_recall=0.856, donor_recall=0.877, loss=0.000305, pred_l1_dist=0]\n"
     ]
    },
    {
     "name": "stdout",
     "output_type": "stream",
     "text": [
      "\n",
      "\u001b[1mAcceptor:\u001b[0m\n",
      "0.9736\t0.8969\t0.9798\t0.9912\t0.936\t0.9190999865531921\t0.32170000672340393\t0.00860000029206276\t0.0015999999595806003\t21432\n",
      "\n",
      "\u001b[1mDonor:\u001b[0m\n",
      "0.9693\t0.904\t0.9859\t0.9944\t0.9435\t0.9466999769210815\t0.3197000026702881\t0.003100000089034438\t0.00039999998989515007\t21432\n",
      "epoch: 3/10, val loss = 0.000234\n"
     ]
    },
    {
     "name": "stderr",
     "output_type": "stream",
     "text": [
      "Epoch (train) 4/10: 100%|████████████████| 202/202 [28:49<00:00,  8.56s/it, accepor_recall=0.93, donor_recall=0.938, loss=0.000146, pred_l1_dist=0]\n"
     ]
    },
    {
     "name": "stdout",
     "output_type": "stream",
     "text": [
      "epoch: 4/10, train loss = 0.000149\n"
     ]
    },
    {
     "name": "stderr",
     "output_type": "stream",
     "text": [
      "Epoch (val) 4/10: 100%|████████████████████| 23/23 [03:22<00:00,  8.82s/it, accepor_recall=0.881, donor_recall=0.906, loss=0.00026, pred_l1_dist=0]\n"
     ]
    },
    {
     "name": "stdout",
     "output_type": "stream",
     "text": [
      "\n",
      "\u001b[1mAcceptor:\u001b[0m\n",
      "0.9716\t0.9201\t0.9859\t0.9927\t0.9515\t0.9577999711036682\t0.32179999351501465\t0.004699999932199717\t0.0008999999845400453\t21432\n",
      "\n",
      "\u001b[1mDonor:\u001b[0m\n",
      "0.9746\t0.9206\t0.9888\t0.9947\t0.9531\t0.973800003528595\t0.38190001249313354\t0.0035000001080334187\t0.0006000000284984708\t21432\n",
      "epoch: 4/10, val loss = 0.000196\n"
     ]
    },
    {
     "name": "stderr",
     "output_type": "stream",
     "text": [
      "Epoch (train) 5/10: 100%|███████████████| 202/202 [28:55<00:00,  8.59s/it, accepor_recall=0.938, donor_recall=0.945, loss=0.000126, pred_l1_dist=0]\n"
     ]
    },
    {
     "name": "stdout",
     "output_type": "stream",
     "text": [
      "epoch: 5/10, train loss = 0.000135\n"
     ]
    },
    {
     "name": "stderr",
     "output_type": "stream",
     "text": [
      "Epoch (val) 5/10: 100%|████████████████████| 23/23 [03:42<00:00,  9.68s/it, accepor_recall=0.878, donor_recall=0.898, loss=0.00028, pred_l1_dist=0]\n"
     ]
    },
    {
     "name": "stdout",
     "output_type": "stream",
     "text": [
      "\n",
      "\u001b[1mAcceptor:\u001b[0m\n",
      "0.9738\t0.9208\t0.9873\t0.9927\t0.9511\t0.9728000164031982\t0.29159998893737793\t0.0015999999595806003\t0.0003000000142492354\t21432\n",
      "\n",
      "\u001b[1mDonor:\u001b[0m\n",
      "0.9731\t0.9215\t0.9902\t0.9944\t0.954\t0.9804999828338623\t0.35249999165534973\t0.0013000000035390258\t0.00019999999494757503\t21432\n",
      "epoch: 5/10, val loss = 0.000204\n"
     ]
    },
    {
     "name": "stderr",
     "output_type": "stream",
     "text": [
      "Epoch (train) 6/10: 100%|████████████████| 202/202 [28:50<00:00,  8.57s/it, accepor_recall=0.944, donor_recall=0.946, loss=0.00013, pred_l1_dist=0]\n"
     ]
    },
    {
     "name": "stdout",
     "output_type": "stream",
     "text": [
      "epoch: 6/10, train loss = 0.000126\n"
     ]
    },
    {
     "name": "stderr",
     "output_type": "stream",
     "text": [
      "Epoch (val) 6/10: 100%|███████████████████| 23/23 [03:31<00:00,  9.21s/it, accepor_recall=0.897, donor_recall=0.916, loss=0.000254, pred_l1_dist=0]\n"
     ]
    },
    {
     "name": "stdout",
     "output_type": "stream",
     "text": [
      "\n",
      "\u001b[1mAcceptor:\u001b[0m\n",
      "0.9759\t0.9206\t0.9874\t0.9926\t0.9525\t0.9768999814987183\t0.40450000762939453\t0.0034000000450760126\t0.0006000000284984708\t21432\n",
      "\n",
      "\u001b[1mDonor:\u001b[0m\n",
      "0.9755\t0.9233\t0.9896\t0.9947\t0.9558\t0.9825000166893005\t0.4961000084877014\t0.003599999938160181\t0.0006000000284984708\t21432\n",
      "epoch: 6/10, val loss = 0.000188\n"
     ]
    },
    {
     "name": "stderr",
     "output_type": "stream",
     "text": [
      "Epoch (train) 7/10: 100%|████████████████| 202/202 [28:57<00:00,  8.60s/it, accepor_recall=0.943, donor_recall=0.95, loss=0.000127, pred_l1_dist=0]\n"
     ]
    },
    {
     "name": "stdout",
     "output_type": "stream",
     "text": [
      "epoch: 7/10, train loss = 0.000118\n"
     ]
    },
    {
     "name": "stderr",
     "output_type": "stream",
     "text": [
      "Epoch (val) 7/10: 100%|████████████████████| 23/23 [03:53<00:00, 10.17s/it, accepor_recall=0.903, donor_recall=0.91, loss=0.000258, pred_l1_dist=0]\n"
     ]
    },
    {
     "name": "stdout",
     "output_type": "stream",
     "text": [
      "\n",
      "\u001b[1mAcceptor:\u001b[0m\n",
      "0.9718\t0.916\t0.9863\t0.9926\t0.9483\t0.9670000076293945\t0.4902999997138977\t0.005499999970197678\t0.0008999999845400453\t21432\n",
      "\n",
      "\u001b[1mDonor:\u001b[0m\n",
      "0.9724\t0.9229\t0.9901\t0.9952\t0.954\t0.9696000218391418\t0.4819999933242798\t0.0031999999191612005\t0.00039999998989515007\t21432\n",
      "epoch: 7/10, val loss = 0.000191\n"
     ]
    },
    {
     "name": "stderr",
     "output_type": "stream",
     "text": [
      "Epoch (train) 8/10: 100%|█████████████████| 202/202 [28:55<00:00,  8.59s/it, accepor_recall=0.956, donor_recall=0.96, loss=9.95e-5, pred_l1_dist=0]\n"
     ]
    },
    {
     "name": "stdout",
     "output_type": "stream",
     "text": [
      "epoch: 8/10, train loss = 0.000096\n"
     ]
    },
    {
     "name": "stderr",
     "output_type": "stream",
     "text": [
      "Epoch (val) 8/10: 100%|███████████████████| 23/23 [03:44<00:00,  9.78s/it, accepor_recall=0.915, donor_recall=0.928, loss=0.000245, pred_l1_dist=0]\n"
     ]
    },
    {
     "name": "stdout",
     "output_type": "stream",
     "text": [
      "\n",
      "\u001b[1mAcceptor:\u001b[0m\n",
      "0.9766\t0.9249\t0.9886\t0.9934\t0.9564\t0.9794999957084656\t0.5023000240325928\t0.00279999990016222\t0.0005000000237487257\t21432\n",
      "\n",
      "\u001b[1mDonor:\u001b[0m\n",
      "0.9761\t0.9264\t0.9907\t0.9951\t0.9584\t0.9879999756813049\t0.5199000239372253\t0.0017999999690800905\t0.00019999999494757503\t21432\n",
      "epoch: 8/10, val loss = 0.000182\n"
     ]
    },
    {
     "name": "stderr",
     "output_type": "stream",
     "text": [
      "Epoch (train) 9/10: 100%|████████████████| 202/202 [29:08<00:00,  8.66s/it, accepor_recall=0.961, donor_recall=0.965, loss=9.31e-5, pred_l1_dist=0]\n"
     ]
    },
    {
     "name": "stdout",
     "output_type": "stream",
     "text": [
      "epoch: 9/10, train loss = 0.000081\n"
     ]
    },
    {
     "name": "stderr",
     "output_type": "stream",
     "text": [
      "Epoch (val) 9/10: 100%|███████████████████| 23/23 [03:44<00:00,  9.74s/it, accepor_recall=0.897, donor_recall=0.916, loss=0.000261, pred_l1_dist=0]\n"
     ]
    },
    {
     "name": "stdout",
     "output_type": "stream",
     "text": [
      "\n",
      "\u001b[1mAcceptor:\u001b[0m\n",
      "0.9763\t0.9257\t0.9869\t0.9919\t0.9534\t0.98580002784729\t0.31200000643730164\t0.0010999999940395355\t0.00019999999494757503\t21432\n",
      "\n",
      "\u001b[1mDonor:\u001b[0m\n",
      "0.9754\t0.929\t0.9902\t0.9943\t0.9584\t0.9908000230789185\t0.43220001459121704\t0.0013000000035390258\t0.00019999999494757503\t21432\n",
      "epoch: 9/10, val loss = 0.000195\n"
     ]
    },
    {
     "name": "stderr",
     "output_type": "stream",
     "text": [
      "Epoch (train) 10/10: 100%|███████████████| 202/202 [29:03<00:00,  8.63s/it, accepor_recall=0.964, donor_recall=0.969, loss=7.79e-5, pred_l1_dist=0]\n"
     ]
    },
    {
     "name": "stdout",
     "output_type": "stream",
     "text": [
      "epoch: 10/10, train loss = 0.000071\n"
     ]
    },
    {
     "name": "stderr",
     "output_type": "stream",
     "text": [
      "Epoch (val) 10/10: 100%|██████████████████| 23/23 [03:31<00:00,  9.19s/it, accepor_recall=0.917, donor_recall=0.927, loss=0.000251, pred_l1_dist=0]\n"
     ]
    },
    {
     "name": "stdout",
     "output_type": "stream",
     "text": [
      "\n",
      "\u001b[1mAcceptor:\u001b[0m\n",
      "0.9741\t0.9276\t0.9881\t0.993\t0.9549\t0.9901999831199646\t0.49399998784065247\t0.002099999925121665\t0.00039999998989515007\t21432\n",
      "\n",
      "\u001b[1mDonor:\u001b[0m\n",
      "0.9738\t0.9302\t0.9908\t0.9947\t0.9583\t0.9940000176429749\t0.511900007724762\t0.0013000000035390258\t0.00019999999494757503\t21432\n",
      "epoch: 10/10, val loss = 0.000186\n"
     ]
    },
    {
     "data": {
      "image/png": "[encoded data removed]",
      "text/plain": [
       "<Figure size 432x288 with 1 Axes>"
      ]
     },
     "metadata": {
      "needs_background": "light"
     },
     "output_type": "display_data"
    },
    {
     "name": "stderr",
     "output_type": "stream",
     "text": [
      "Epoch (train) 1/10: 100%|███████████████| 202/202 [31:08<00:00,  9.25s/it, accepor_recall=0.866, donor_recall=0.876, loss=0.000252, pred_l1_dist=0]\n"
     ]
    },
    {
     "name": "stdout",
     "output_type": "stream",
     "text": [
      "epoch: 1/10, train loss = 0.007514\n"
     ]
    },
    {
     "name": "stderr",
     "output_type": "stream",
     "text": [
      "Epoch (val) 1/10: 100%|███████████████████| 23/23 [03:59<00:00, 10.42s/it, accepor_recall=0.878, donor_recall=0.884, loss=0.000369, pred_l1_dist=0]\n"
     ]
    },
    {
     "name": "stdout",
     "output_type": "stream",
     "text": [
      "\n",
      "\u001b[1mAcceptor:\u001b[0m\n",
      "0.9634\t0.875\t0.9706\t0.9867\t0.9188\t0.968500018119812\t0.5637999773025513\t0.03269999846816063\t0.005799999926239252\t21432\n",
      "\n",
      "\u001b[1mDonor:\u001b[0m\n",
      "0.9645\t0.8728\t0.9761\t0.9909\t0.9219\t0.9217000007629395\t0.5414000153541565\t0.03150000050663948\t0.005100000184029341\t21432\n",
      "epoch: 1/10, val loss = 0.000284\n"
     ]
    },
    {
     "name": "stderr",
     "output_type": "stream",
     "text": [
      "Epoch (train) 2/10: 100%|███████████████| 202/202 [31:12<00:00,  9.27s/it, accepor_recall=0.914, donor_recall=0.914, loss=0.000168, pred_l1_dist=0]\n"
     ]
    },
    {
     "name": "stdout",
     "output_type": "stream",
     "text": [
      "epoch: 2/10, train loss = 0.000196\n"
     ]
    },
    {
     "name": "stderr",
     "output_type": "stream",
     "text": [
      "Epoch (val) 2/10: 100%|█████████████████████| 23/23 [04:06<00:00, 10.70s/it, accepor_recall=0.841, donor_recall=0.8, loss=0.000356, pred_l1_dist=0]\n"
     ]
    },
    {
     "name": "stdout",
     "output_type": "stream",
     "text": [
      "\n",
      "\u001b[1mAcceptor:\u001b[0m\n",
      "0.9651\t0.8756\t0.9749\t0.9875\t0.9225\t0.9591000080108643\t0.349700003862381\t0.0044999998062849045\t0.0005000000237487257\t21432\n",
      "\n",
      "\u001b[1mDonor:\u001b[0m\n",
      "0.9692\t0.8929\t0.9836\t0.9923\t0.9347\t0.9487000107765198\t0.14990000426769257\t0.0015999999595806003\t0.00019999999494757503\t21432\n",
      "epoch: 2/10, val loss = 0.000286\n"
     ]
    },
    {
     "name": "stderr",
     "output_type": "stream",
     "text": [
      "Epoch (train) 3/10: 100%|███████████████| 202/202 [31:15<00:00,  9.29s/it, accepor_recall=0.914, donor_recall=0.925, loss=0.000156, pred_l1_dist=0]\n"
     ]
    },
    {
     "name": "stdout",
     "output_type": "stream",
     "text": [
      "epoch: 3/10, train loss = 0.000166\n"
     ]
    },
    {
     "name": "stderr",
     "output_type": "stream",
     "text": [
      "Epoch (val) 3/10: 100%|███████████████████| 23/23 [04:05<00:00, 10.69s/it, accepor_recall=0.825, donor_recall=0.817, loss=0.000366, pred_l1_dist=0]\n"
     ]
    },
    {
     "name": "stdout",
     "output_type": "stream",
     "text": [
      "\n",
      "\u001b[1mAcceptor:\u001b[0m\n",
      "0.9666\t0.8725\t0.973\t0.9893\t0.9226\t0.9258000254631042\t0.41749998927116394\t0.029899999499320984\t0.005499999970197678\t21432\n",
      "\n",
      "\u001b[1mDonor:\u001b[0m\n",
      "0.9667\t0.8666\t0.9809\t0.993\t0.922\t0.9472000002861023\t0.387800008058548\t0.017899999395012856\t0.002300000051036477\t21432\n",
      "epoch: 3/10, val loss = 0.000278\n"
     ]
    },
    {
     "name": "stderr",
     "output_type": "stream",
     "text": [
      "Epoch (train) 4/10: 100%|███████████████| 202/202 [31:21<00:00,  9.31s/it, accepor_recall=0.935, donor_recall=0.935, loss=0.000142, pred_l1_dist=0]\n"
     ]
    },
    {
     "name": "stdout",
     "output_type": "stream",
     "text": [
      "epoch: 4/10, train loss = 0.000148\n"
     ]
    },
    {
     "name": "stderr",
     "output_type": "stream",
     "text": [
      "Epoch (val) 4/10: 100%|███████████████████| 23/23 [04:14<00:00, 11.06s/it, accepor_recall=0.886, donor_recall=0.889, loss=0.000258, pred_l1_dist=0]\n"
     ]
    },
    {
     "name": "stdout",
     "output_type": "stream",
     "text": [
      "\n",
      "\u001b[1mAcceptor:\u001b[0m\n",
      "0.9748\t0.9172\t0.9861\t0.9923\t0.9508\t0.9801999926567078\t0.4205000102519989\t0.00430000014603138\t0.000699999975040555\t21432\n",
      "\n",
      "\u001b[1mDonor:\u001b[0m\n",
      "0.9755\t0.9204\t0.9901\t0.9953\t0.9545\t0.9621000289916992\t0.3711000084877014\t0.0031999999191612005\t0.0005000000237487257\t21432\n",
      "epoch: 4/10, val loss = 0.000197\n"
     ]
    },
    {
     "name": "stderr",
     "output_type": "stream",
     "text": [
      "Epoch (train) 5/10: 100%|███████████████| 202/202 [31:21<00:00,  9.31s/it, accepor_recall=0.938, donor_recall=0.944, loss=0.000122, pred_l1_dist=0]\n"
     ]
    },
    {
     "name": "stdout",
     "output_type": "stream",
     "text": [
      "epoch: 5/10, train loss = 0.000134\n"
     ]
    },
    {
     "name": "stderr",
     "output_type": "stream",
     "text": [
      "Epoch (val) 5/10: 100%|████████████████████| 23/23 [04:23<00:00, 11.47s/it, accepor_recall=0.923, donor_recall=0.93, loss=0.000248, pred_l1_dist=0]\n"
     ]
    },
    {
     "name": "stdout",
     "output_type": "stream",
     "text": [
      "\n",
      "\u001b[1mAcceptor:\u001b[0m\n",
      "0.975\t0.9209\t0.9891\t0.9935\t0.9534\t0.9830999970436096\t0.637499988079071\t0.0052999998442828655\t0.000699999975040555\t21432\n",
      "\n",
      "\u001b[1mDonor:\u001b[0m\n",
      "0.9739\t0.9253\t0.9914\t0.9957\t0.9563\t0.9854000210762024\t0.6550999879837036\t0.005400000140070915\t0.0007999999797903001\t21432\n",
      "epoch: 5/10, val loss = 0.000188\n"
     ]
    },
    {
     "name": "stderr",
     "output_type": "stream",
     "text": [
      "Epoch (train) 6/10: 100%|███████████████| 202/202 [31:19<00:00,  9.30s/it, accepor_recall=0.939, donor_recall=0.943, loss=0.000137, pred_l1_dist=0]\n"
     ]
    },
    {
     "name": "stdout",
     "output_type": "stream",
     "text": [
      "epoch: 6/10, train loss = 0.000125\n"
     ]
    },
    {
     "name": "stderr",
     "output_type": "stream",
     "text": [
      "Epoch (val) 6/10: 100%|███████████████████| 23/23 [04:05<00:00, 10.69s/it, accepor_recall=0.923, donor_recall=0.916, loss=0.000255, pred_l1_dist=0]\n"
     ]
    },
    {
     "name": "stdout",
     "output_type": "stream",
     "text": [
      "\n",
      "\u001b[1mAcceptor:\u001b[0m\n",
      "0.9755\t0.9196\t0.9879\t0.993\t0.9525\t0.982699990272522\t0.6420999765396118\t0.0044999998062849045\t0.000699999975040555\t21432\n",
      "\n",
      "\u001b[1mDonor:\u001b[0m\n",
      "0.9721\t0.9207\t0.9898\t0.9953\t0.9528\t0.9811999797821045\t0.536300003528595\t0.00419999985024333\t0.0006000000284984708\t21432\n",
      "epoch: 6/10, val loss = 0.000193\n"
     ]
    },
    {
     "name": "stderr",
     "output_type": "stream",
     "text": [
      "Epoch (train) 7/10: 100%|███████████████| 202/202 [31:14<00:00,  9.28s/it, accepor_recall=0.947, donor_recall=0.952, loss=0.000137, pred_l1_dist=0]\n"
     ]
    },
    {
     "name": "stdout",
     "output_type": "stream",
     "text": [
      "epoch: 7/10, train loss = 0.000117\n"
     ]
    },
    {
     "name": "stderr",
     "output_type": "stream",
     "text": [
      "Epoch (val) 7/10: 100%|███████████████████| 23/23 [04:00<00:00, 10.45s/it, accepor_recall=0.913, donor_recall=0.933, loss=0.000282, pred_l1_dist=0]\n"
     ]
    },
    {
     "name": "stdout",
     "output_type": "stream",
     "text": [
      "\n",
      "\u001b[1mAcceptor:\u001b[0m\n",
      "0.9753\t0.9162\t0.9863\t0.9922\t0.9515\t0.9858999848365784\t0.5713000297546387\t0.004999999888241291\t0.0007999999797903001\t21432\n",
      "\n",
      "\u001b[1mDonor:\u001b[0m\n",
      "0.9729\t0.9205\t0.9893\t0.9937\t0.9518\t0.9945999979972839\t0.7276999950408936\t0.0038999998942017555\t0.00039999998989515007\t21432\n",
      "epoch: 7/10, val loss = 0.000213\n"
     ]
    },
    {
     "name": "stderr",
     "output_type": "stream",
     "text": [
      "Epoch (train) 8/10: 100%|████████████████| 202/202 [31:12<00:00,  9.27s/it, accepor_recall=0.962, donor_recall=0.965, loss=9.08e-5, pred_l1_dist=0]\n"
     ]
    },
    {
     "name": "stdout",
     "output_type": "stream",
     "text": [
      "epoch: 8/10, train loss = 0.000096\n"
     ]
    },
    {
     "name": "stderr",
     "output_type": "stream",
     "text": [
      "Epoch (val) 8/10: 100%|███████████████████| 23/23 [04:05<00:00, 10.67s/it, accepor_recall=0.892, donor_recall=0.893, loss=0.000251, pred_l1_dist=0]\n"
     ]
    },
    {
     "name": "stdout",
     "output_type": "stream",
     "text": [
      "\n",
      "\u001b[1mAcceptor:\u001b[0m\n",
      "0.9794\t0.9232\t0.9878\t0.9925\t0.9575\t0.9569000005722046\t0.31700000166893005\t0.0015999999595806003\t0.0003000000142492354\t21432\n",
      "\n",
      "\u001b[1mDonor:\u001b[0m\n",
      "0.9778\t0.9282\t0.9909\t0.9956\t0.9607\t0.958899974822998\t0.28380000591278076\t0.0013000000035390258\t0.00019999999494757503\t21432\n",
      "epoch: 8/10, val loss = 0.000190\n"
     ]
    },
    {
     "name": "stderr",
     "output_type": "stream",
     "text": [
      "Epoch (train) 9/10: 100%|████████████████| 202/202 [31:16<00:00,  9.29s/it, accepor_recall=0.962, donor_recall=0.967, loss=8.31e-5, pred_l1_dist=0]\n"
     ]
    },
    {
     "name": "stdout",
     "output_type": "stream",
     "text": [
      "epoch: 9/10, train loss = 0.000083\n"
     ]
    },
    {
     "name": "stderr",
     "output_type": "stream",
     "text": [
      "Epoch (val) 9/10: 100%|███████████████████| 23/23 [03:58<00:00, 10.39s/it, accepor_recall=0.921, donor_recall=0.932, loss=0.000231, pred_l1_dist=0]\n"
     ]
    },
    {
     "name": "stdout",
     "output_type": "stream",
     "text": [
      "\n",
      "\u001b[1mAcceptor:\u001b[0m\n",
      "0.9781\t0.9298\t0.9892\t0.9942\t0.9589\t0.9872000217437744\t0.5291000008583069\t0.0026000000070780516\t0.0005000000237487257\t21432\n",
      "\n",
      "\u001b[1mDonor:\u001b[0m\n",
      "0.9755\t0.9337\t0.9918\t0.9965\t0.9607\t0.9883999824523926\t0.5595999956130981\t0.0020000000949949026\t0.0003000000142492354\t21432\n",
      "epoch: 9/10, val loss = 0.000172\n"
     ]
    },
    {
     "name": "stderr",
     "output_type": "stream",
     "text": [
      "Epoch (train) 10/10: 100%|███████████████| 202/202 [31:18<00:00,  9.30s/it, accepor_recall=0.968, donor_recall=0.968, loss=7.96e-5, pred_l1_dist=0]\n"
     ]
    },
    {
     "name": "stdout",
     "output_type": "stream",
     "text": [
      "epoch: 10/10, train loss = 0.000073\n"
     ]
    },
    {
     "name": "stderr",
     "output_type": "stream",
     "text": [
      "Epoch (val) 10/10: 100%|███████████████████| 23/23 [04:07<00:00, 10.74s/it, accepor_recall=0.924, donor_recall=0.93, loss=0.000231, pred_l1_dist=0]\n"
     ]
    },
    {
     "name": "stdout",
     "output_type": "stream",
     "text": [
      "\n",
      "\u001b[1mAcceptor:\u001b[0m\n",
      "0.977\t0.9292\t0.9886\t0.9929\t0.958\t0.9868999719619751\t0.5554999709129333\t0.0019000000320374966\t0.00039999998989515007\t21432\n",
      "\n",
      "\u001b[1mDonor:\u001b[0m\n",
      "0.9759\t0.9332\t0.9911\t0.9954\t0.96\t0.9872999787330627\t0.5069000124931335\t0.0012000000569969416\t0.00019999999494757503\t21432\n",
      "epoch: 10/10, val loss = 0.000176\n"
     ]
    },
    {
     "data": {
      "image/png": "[encoded data removed]",
      "text/plain": [
       "<Figure size 432x288 with 1 Axes>"
      ]
     },
     "metadata": {
      "needs_background": "light"
     },
     "output_type": "display_data"
    },
    {
     "name": "stderr",
     "output_type": "stream",
     "text": [
      "Epoch (train) 1/10: 100%|███████████████| 202/202 [34:07<00:00, 10.14s/it, accepor_recall=0.873, donor_recall=0.888, loss=0.000207, pred_l1_dist=0]\n"
     ]
    },
    {
     "name": "stdout",
     "output_type": "stream",
     "text": [
      "epoch: 1/10, train loss = 0.007299\n"
     ]
    },
    {
     "name": "stderr",
     "output_type": "stream",
     "text": [
      "Epoch (val) 1/10: 100%|███████████████████| 23/23 [04:51<00:00, 12.67s/it, accepor_recall=0.667, donor_recall=0.698, loss=0.000448, pred_l1_dist=0]\n"
     ]
    },
    {
     "name": "stdout",
     "output_type": "stream",
     "text": [
      "\n",
      "\u001b[1mAcceptor:\u001b[0m\n",
      "0.9521\t0.8311\t0.9575\t0.9808\t0.8874\t0.8320000171661377\t0.24690000712871552\t0.016699999570846558\t0.002300000051036477\t21432\n",
      "\n",
      "\u001b[1mDonor:\u001b[0m\n",
      "0.9552\t0.8491\t0.969\t0.9888\t0.9029\t0.7774999737739563\t0.27219998836517334\t0.023900000378489494\t0.004000000189989805\t21432\n",
      "epoch: 1/10, val loss = 0.000354\n"
     ]
    },
    {
     "name": "stderr",
     "output_type": "stream",
     "text": [
      "Epoch (train) 2/10: 100%|██████████████████| 202/202 [33:58<00:00, 10.09s/it, accepor_recall=0.9, donor_recall=0.913, loss=0.00018, pred_l1_dist=0]\n"
     ]
    },
    {
     "name": "stdout",
     "output_type": "stream",
     "text": [
      "epoch: 2/10, train loss = 0.000197\n"
     ]
    },
    {
     "name": "stderr",
     "output_type": "stream",
     "text": [
      "Epoch (val) 2/10: 100%|███████████████████| 23/23 [05:14<00:00, 13.67s/it, accepor_recall=0.823, donor_recall=0.908, loss=0.000318, pred_l1_dist=0]\n"
     ]
    },
    {
     "name": "stdout",
     "output_type": "stream",
     "text": [
      "\n",
      "\u001b[1mAcceptor:\u001b[0m\n",
      "0.9691\t0.8897\t0.9797\t0.9901\t0.9334\t0.9440000057220459\t0.3634999990463257\t0.011599999852478504\t0.002099999925121665\t21432\n",
      "\n",
      "\u001b[1mDonor:\u001b[0m\n",
      "0.9703\t0.8922\t0.9833\t0.9929\t0.9383\t0.9767000079154968\t0.6665999889373779\t0.019899999722838402\t0.0026000000070780516\t21432\n",
      "epoch: 2/10, val loss = 0.000247\n"
     ]
    },
    {
     "name": "stderr",
     "output_type": "stream",
     "text": [
      "Epoch (train) 3/10: 100%|█████████████████| 202/202 [34:01<00:00, 10.11s/it, accepor_recall=0.91, donor_recall=0.92, loss=0.000161, pred_l1_dist=0]\n"
     ]
    },
    {
     "name": "stdout",
     "output_type": "stream",
     "text": [
      "epoch: 3/10, train loss = 0.000169\n"
     ]
    },
    {
     "name": "stderr",
     "output_type": "stream",
     "text": [
      "Epoch (val) 3/10: 100%|███████████████████| 23/23 [05:07<00:00, 13.38s/it, accepor_recall=0.728, donor_recall=0.792, loss=0.000394, pred_l1_dist=0]\n"
     ]
    },
    {
     "name": "stdout",
     "output_type": "stream",
     "text": [
      "\n",
      "\u001b[1mAcceptor:\u001b[0m\n",
      "0.9673\t0.861\t0.9638\t0.983\t0.9119\t0.8950999975204468\t0.12389999628067017\t0.0038999998942017555\t0.000699999975040555\t21432\n",
      "\n",
      "\u001b[1mDonor:\u001b[0m\n",
      "0.9717\t0.8808\t0.9787\t0.9915\t0.9301\t0.9498000144958496\t0.16590000689029694\t0.00419999985024333\t0.0008999999845400453\t21432\n",
      "epoch: 3/10, val loss = 0.000331\n"
     ]
    },
    {
     "name": "stderr",
     "output_type": "stream",
     "text": [
      "Epoch (train) 4/10: 100%|███████████████| 202/202 [34:24<00:00, 10.22s/it, accepor_recall=0.923, donor_recall=0.932, loss=0.000132, pred_l1_dist=0]\n"
     ]
    },
    {
     "name": "stdout",
     "output_type": "stream",
     "text": [
      "epoch: 4/10, train loss = 0.000148\n"
     ]
    },
    {
     "name": "stderr",
     "output_type": "stream",
     "text": [
      "Epoch (val) 4/10: 100%|████████████████████| 23/23 [05:29<00:00, 14.33s/it, accepor_recall=0.88, donor_recall=0.918, loss=0.000265, pred_l1_dist=0]\n"
     ]
    },
    {
     "name": "stdout",
     "output_type": "stream",
     "text": [
      "\n",
      "\u001b[1mAcceptor:\u001b[0m\n",
      "0.9749\t0.9094\t0.9823\t0.991\t0.9448\t0.9739000201225281\t0.3529999852180481\t0.010400000028312206\t0.002400000113993883\t21432\n",
      "\n",
      "\u001b[1mDonor:\u001b[0m\n",
      "0.9739\t0.9179\t0.9902\t0.9955\t0.9527\t0.9814000129699707\t0.4869999885559082\t0.005200000014156103\t0.000699999975040555\t21432\n",
      "epoch: 4/10, val loss = 0.000203\n"
     ]
    },
    {
     "name": "stderr",
     "output_type": "stream",
     "text": [
      "Epoch (train) 5/10: 100%|████████████████| 202/202 [34:14<00:00, 10.17s/it, accepor_recall=0.928, donor_recall=0.94, loss=0.000142, pred_l1_dist=0]\n"
     ]
    },
    {
     "name": "stdout",
     "output_type": "stream",
     "text": [
      "epoch: 5/10, train loss = 0.000135\n"
     ]
    },
    {
     "name": "stderr",
     "output_type": "stream",
     "text": [
      "Epoch (val) 5/10: 100%|███████████████████| 23/23 [05:25<00:00, 14.15s/it, accepor_recall=0.923, donor_recall=0.938, loss=0.000257, pred_l1_dist=0]\n"
     ]
    },
    {
     "name": "stdout",
     "output_type": "stream",
     "text": [
      "\n",
      "\u001b[1mAcceptor:\u001b[0m\n",
      "0.9739\t0.921\t0.9868\t0.9922\t0.952\t0.9829000234603882\t0.6340000033378601\t0.00860000029206276\t0.0013000000035390258\t21432\n",
      "\n",
      "\u001b[1mDonor:\u001b[0m\n",
      "0.9762\t0.9226\t0.99\t0.9955\t0.9556\t0.9876000285148621\t0.6804999709129333\t0.003599999938160181\t0.0005000000237487257\t21432\n",
      "epoch: 5/10, val loss = 0.000195\n"
     ]
    },
    {
     "name": "stderr",
     "output_type": "stream",
     "text": [
      "Epoch (train) 6/10: 100%|███████████████| 202/202 [34:03<00:00, 10.12s/it, accepor_recall=0.941, donor_recall=0.946, loss=0.000122, pred_l1_dist=0]\n"
     ]
    },
    {
     "name": "stdout",
     "output_type": "stream",
     "text": [
      "epoch: 6/10, train loss = 0.000125\n"
     ]
    },
    {
     "name": "stderr",
     "output_type": "stream",
     "text": [
      "Epoch (val) 6/10: 100%|████████████████████| 23/23 [05:33<00:00, 14.49s/it, accepor_recall=0.886, donor_recall=0.91, loss=0.000263, pred_l1_dist=0]\n"
     ]
    },
    {
     "name": "stdout",
     "output_type": "stream",
     "text": [
      "\n",
      "\u001b[1mAcceptor:\u001b[0m\n",
      "0.9737\t0.9208\t0.9858\t0.9922\t0.9506\t0.9761999845504761\t0.30090001225471497\t0.0017000000225380063\t0.0003000000142492354\t21432\n",
      "\n",
      "\u001b[1mDonor:\u001b[0m\n",
      "0.9754\t0.9239\t0.9908\t0.9954\t0.9553\t0.9779000282287598\t0.38670000433921814\t0.002899999963119626\t0.00039999998989515007\t21432\n",
      "epoch: 6/10, val loss = 0.000199\n"
     ]
    },
    {
     "name": "stderr",
     "output_type": "stream",
     "text": [
      "Epoch (train) 7/10: 100%|███████████████| 202/202 [34:13<00:00, 10.17s/it, accepor_recall=0.942, donor_recall=0.949, loss=0.000111, pred_l1_dist=0]\n"
     ]
    },
    {
     "name": "stdout",
     "output_type": "stream",
     "text": [
      "epoch: 7/10, train loss = 0.000117\n"
     ]
    },
    {
     "name": "stderr",
     "output_type": "stream",
     "text": [
      "Epoch (val) 7/10: 100%|███████████████████| 23/23 [04:51<00:00, 12.66s/it, accepor_recall=0.935, donor_recall=0.948, loss=0.000259, pred_l1_dist=0]\n"
     ]
    },
    {
     "name": "stdout",
     "output_type": "stream",
     "text": [
      "\n",
      "\u001b[1mAcceptor:\u001b[0m\n",
      "0.9754\t0.9203\t0.9868\t0.9928\t0.9515\t0.9835000038146973\t0.7050999999046326\t0.008999999612569809\t0.001500000013038516\t21432\n",
      "\n",
      "\u001b[1mDonor:\u001b[0m\n",
      "0.9744\t0.9252\t0.9904\t0.9954\t0.9566\t0.9922000169754028\t0.8109999895095825\t0.004699999932199717\t0.000699999975040555\t21432\n",
      "epoch: 7/10, val loss = 0.000199\n"
     ]
    },
    {
     "name": "stderr",
     "output_type": "stream",
     "text": [
      "Epoch (train) 8/10: 100%|██████████████████| 202/202 [34:09<00:00, 10.15s/it, accepor_recall=0.96, donor_recall=0.965, loss=0.0001, pred_l1_dist=0]\n"
     ]
    },
    {
     "name": "stdout",
     "output_type": "stream",
     "text": [
      "epoch: 8/10, train loss = 0.000097\n"
     ]
    },
    {
     "name": "stderr",
     "output_type": "stream",
     "text": [
      "Epoch (val) 8/10: 100%|███████████████████| 23/23 [04:52<00:00, 12.74s/it, accepor_recall=0.914, donor_recall=0.928, loss=0.000239, pred_l1_dist=0]\n"
     ]
    },
    {
     "name": "stdout",
     "output_type": "stream",
     "text": [
      "\n",
      "\u001b[1mAcceptor:\u001b[0m\n",
      "0.977\t0.9281\t0.9872\t0.9929\t0.9563\t0.9836999773979187\t0.49950000643730164\t0.0031999999191612005\t0.0006000000284984708\t21432\n",
      "\n",
      "\u001b[1mDonor:\u001b[0m\n",
      "0.9771\t0.9302\t0.9911\t0.9952\t0.961\t0.9882000088691711\t0.5740000009536743\t0.002400000113993883\t0.00039999998989515007\t21432\n",
      "epoch: 8/10, val loss = 0.000177\n"
     ]
    },
    {
     "name": "stderr",
     "output_type": "stream",
     "text": [
      "Epoch (train) 9/10: 100%|████████████████| 202/202 [33:48<00:00, 10.04s/it, accepor_recall=0.968, donor_recall=0.971, loss=8.41e-5, pred_l1_dist=0]\n"
     ]
    },
    {
     "name": "stdout",
     "output_type": "stream",
     "text": [
      "epoch: 9/10, train loss = 0.000082\n"
     ]
    },
    {
     "name": "stderr",
     "output_type": "stream",
     "text": [
      "Epoch (val) 9/10: 100%|███████████████████| 23/23 [05:11<00:00, 13.56s/it, accepor_recall=0.919, donor_recall=0.931, loss=0.000236, pred_l1_dist=0]\n"
     ]
    },
    {
     "name": "stdout",
     "output_type": "stream",
     "text": [
      "\n",
      "\u001b[1mAcceptor:\u001b[0m\n",
      "0.9758\t0.9309\t0.9886\t0.9934\t0.957\t0.980400025844574\t0.5166000127792358\t0.00139999995008111\t0.00019999999494757503\t21432\n",
      "\n",
      "\u001b[1mDonor:\u001b[0m\n",
      "0.9764\t0.9331\t0.9914\t0.9952\t0.9594\t0.9818999767303467\t0.593999981880188\t0.001500000013038516\t0.00019999999494757503\t21432\n",
      "epoch: 9/10, val loss = 0.000178\n"
     ]
    },
    {
     "name": "stderr",
     "output_type": "stream",
     "text": [
      "Epoch (train) 10/10: 100%|███████████████| 202/202 [33:52<00:00, 10.06s/it, accepor_recall=0.966, donor_recall=0.967, loss=6.23e-5, pred_l1_dist=0]\n"
     ]
    },
    {
     "name": "stdout",
     "output_type": "stream",
     "text": [
      "epoch: 10/10, train loss = 0.000073\n"
     ]
    },
    {
     "name": "stderr",
     "output_type": "stream",
     "text": [
      "Epoch (val) 10/10: 100%|███████████████████| 23/23 [04:47<00:00, 12.51s/it, accepor_recall=0.92, donor_recall=0.931, loss=0.000235, pred_l1_dist=0]\n"
     ]
    },
    {
     "name": "stdout",
     "output_type": "stream",
     "text": [
      "\n",
      "\u001b[1mAcceptor:\u001b[0m\n",
      "0.976\t0.9304\t0.9879\t0.993\t0.9568\t0.9873999953269958\t0.4927999973297119\t0.0015999999595806003\t0.0003000000142492354\t21432\n",
      "\n",
      "\u001b[1mDonor:\u001b[0m\n",
      "0.9784\t0.933\t0.9915\t0.9953\t0.9606\t0.9876999855041504\t0.5580000281333923\t0.0015999999595806003\t0.00019999999494757503\t21432\n",
      "epoch: 10/10, val loss = 0.000176\n"
     ]
    },
    {
     "data": {
      "image/png": "[encoded data removed]",
      "text/plain": [
       "<Figure size 432x288 with 1 Axes>"
      ]
     },
     "metadata": {
      "needs_background": "light"
     },
     "output_type": "display_data"
    },
    {
     "name": "stderr",
     "output_type": "stream",
     "text": [
      "Epoch (train) 1/10: 100%|████████████████| 202/202 [35:56<00:00, 10.68s/it, accepor_recall=0.876, donor_recall=0.88, loss=0.000201, pred_l1_dist=0]\n"
     ]
    },
    {
     "name": "stdout",
     "output_type": "stream",
     "text": [
      "epoch: 1/10, train loss = 0.007934\n"
     ]
    },
    {
     "name": "stderr",
     "output_type": "stream",
     "text": [
      "Epoch (val) 1/10: 100%|███████████████████| 23/23 [05:28<00:00, 14.28s/it, accepor_recall=0.924, donor_recall=0.906, loss=0.000442, pred_l1_dist=0]\n"
     ]
    },
    {
     "name": "stdout",
     "output_type": "stream",
     "text": [
      "\n",
      "\u001b[1mAcceptor:\u001b[0m\n",
      "0.9611\t0.8582\t0.9677\t0.9856\t0.9095\t0.9872999787330627\t0.8288000226020813\t0.07850000262260437\t0.0071000000461936\t21432\n",
      "\n",
      "\u001b[1mDonor:\u001b[0m\n",
      "0.9658\t0.8692\t0.9738\t0.9902\t0.9197\t0.9771999716758728\t0.6703000068664551\t0.033799998462200165\t0.0031999999191612005\t21432\n",
      "epoch: 1/10, val loss = 0.000355\n"
     ]
    },
    {
     "name": "stderr",
     "output_type": "stream",
     "text": [
      "Epoch (train) 2/10: 100%|████████████████| 202/202 [35:59<00:00, 10.69s/it, accepor_recall=0.901, donor_recall=0.91, loss=0.000195, pred_l1_dist=0]\n"
     ]
    },
    {
     "name": "stdout",
     "output_type": "stream",
     "text": [
      "epoch: 2/10, train loss = 0.000193\n"
     ]
    },
    {
     "name": "stderr",
     "output_type": "stream",
     "text": [
      "Epoch (val) 2/10: 100%|███████████████████| 23/23 [05:41<00:00, 14.86s/it, accepor_recall=0.929, donor_recall=0.942, loss=0.000419, pred_l1_dist=0]\n"
     ]
    },
    {
     "name": "stdout",
     "output_type": "stream",
     "text": [
      "\n",
      "\u001b[1mAcceptor:\u001b[0m\n",
      "0.9691\t0.8896\t0.9774\t0.9887\t0.9313\t0.9901000261306763\t0.8458999991416931\t0.05490000173449516\t0.005499999970197678\t21432\n",
      "\n",
      "\u001b[1mDonor:\u001b[0m\n",
      "0.9725\t0.9021\t0.9831\t0.9923\t0.941\t0.9923999905586243\t0.8468000292778015\t0.05429999902844429\t0.004600000102072954\t21432\n",
      "epoch: 2/10, val loss = 0.000327\n"
     ]
    },
    {
     "name": "stderr",
     "output_type": "stream",
     "text": [
      "Epoch (train) 3/10: 100%|███████████████| 202/202 [36:06<00:00, 10.73s/it, accepor_recall=0.919, donor_recall=0.922, loss=0.000157, pred_l1_dist=0]\n"
     ]
    },
    {
     "name": "stdout",
     "output_type": "stream",
     "text": [
      "epoch: 3/10, train loss = 0.000165\n"
     ]
    },
    {
     "name": "stderr",
     "output_type": "stream",
     "text": [
      "Epoch (val) 3/10: 100%|████████████████████| 23/23 [05:17<00:00, 13.81s/it, accepor_recall=0.881, donor_recall=0.921, loss=0.00027, pred_l1_dist=0]\n"
     ]
    },
    {
     "name": "stdout",
     "output_type": "stream",
     "text": [
      "\n",
      "\u001b[1mAcceptor:\u001b[0m\n",
      "0.97\t0.9086\t0.9848\t0.9921\t0.9442\t0.9678000211715698\t0.4339999854564667\t0.0038999998942017555\t0.0006000000284984708\t21432\n",
      "\n",
      "\u001b[1mDonor:\u001b[0m\n",
      "0.9733\t0.9165\t0.9894\t0.9948\t0.9511\t0.9847000241279602\t0.6186000108718872\t0.005900000222027302\t0.000699999975040555\t21432\n",
      "epoch: 3/10, val loss = 0.000205\n"
     ]
    },
    {
     "name": "stderr",
     "output_type": "stream",
     "text": [
      "Epoch (train) 4/10: 100%|███████████████| 202/202 [36:28<00:00, 10.83s/it, accepor_recall=0.934, donor_recall=0.938, loss=0.000129, pred_l1_dist=0]\n"
     ]
    },
    {
     "name": "stdout",
     "output_type": "stream",
     "text": [
      "epoch: 4/10, train loss = 0.000145\n"
     ]
    },
    {
     "name": "stderr",
     "output_type": "stream",
     "text": [
      "Epoch (val) 4/10: 100%|███████████████████| 23/23 [05:22<00:00, 14.04s/it, accepor_recall=0.902, donor_recall=0.913, loss=0.000305, pred_l1_dist=0]\n"
     ]
    },
    {
     "name": "stdout",
     "output_type": "stream",
     "text": [
      "\n",
      "\u001b[1mAcceptor:\u001b[0m\n",
      "0.9719\t0.9051\t0.9852\t0.9917\t0.9433\t0.9861000180244446\t0.6180999875068665\t0.00430000014603138\t0.0005000000237487257\t21432\n",
      "\n",
      "\u001b[1mDonor:\u001b[0m\n",
      "0.9682\t0.9013\t0.9874\t0.9943\t0.9408\t0.9860000014305115\t0.6629999876022339\t0.006800000090152025\t0.000699999975040555\t21432\n",
      "epoch: 4/10, val loss = 0.000232\n"
     ]
    },
    {
     "name": "stderr",
     "output_type": "stream",
     "text": [
      "Epoch (train) 5/10: 100%|████████████████| 202/202 [36:10<00:00, 10.74s/it, accepor_recall=0.935, donor_recall=0.94, loss=0.000125, pred_l1_dist=0]\n"
     ]
    },
    {
     "name": "stdout",
     "output_type": "stream",
     "text": [
      "epoch: 5/10, train loss = 0.000133\n"
     ]
    },
    {
     "name": "stderr",
     "output_type": "stream",
     "text": [
      "Epoch (val) 5/10: 100%|████████████████████| 23/23 [05:40<00:00, 14.79s/it, accepor_recall=0.916, donor_recall=0.912, loss=0.00024, pred_l1_dist=0]\n"
     ]
    },
    {
     "name": "stdout",
     "output_type": "stream",
     "text": [
      "\n",
      "\u001b[1mAcceptor:\u001b[0m\n",
      "0.977\t0.9246\t0.9877\t0.9931\t0.9551\t0.9728999733924866\t0.5024999976158142\t0.002899999963119626\t0.00039999998989515007\t21432\n",
      "\n",
      "\u001b[1mDonor:\u001b[0m\n",
      "0.9767\t0.9271\t0.9915\t0.9953\t0.9586\t0.9711999893188477\t0.4602000117301941\t0.0024999999441206455\t0.0003000000142492354\t21432\n",
      "epoch: 5/10, val loss = 0.000178\n"
     ]
    },
    {
     "name": "stderr",
     "output_type": "stream",
     "text": [
      "Epoch (train) 6/10: 100%|███████████████| 202/202 [36:28<00:00, 10.83s/it, accepor_recall=0.942, donor_recall=0.947, loss=0.000132, pred_l1_dist=0]\n"
     ]
    },
    {
     "name": "stdout",
     "output_type": "stream",
     "text": [
      "epoch: 6/10, train loss = 0.000123\n"
     ]
    },
    {
     "name": "stderr",
     "output_type": "stream",
     "text": [
      "Epoch (val) 6/10: 100%|███████████████████| 23/23 [05:29<00:00, 14.34s/it, accepor_recall=0.843, donor_recall=0.879, loss=0.000294, pred_l1_dist=0]\n"
     ]
    },
    {
     "name": "stdout",
     "output_type": "stream",
     "text": [
      "\n",
      "\u001b[1mAcceptor:\u001b[0m\n",
      "0.9736\t0.9114\t0.9822\t0.9895\t0.9454\t0.9429000020027161\t0.16290000081062317\t0.002099999925121665\t0.00039999998989515007\t21432\n",
      "\n",
      "\u001b[1mDonor:\u001b[0m\n",
      "0.9751\t0.9134\t0.9879\t0.9943\t0.9491\t0.9704999923706055\t0.225600004196167\t0.0017000000225380063\t0.0003000000142492354\t21432\n",
      "epoch: 6/10, val loss = 0.000233\n"
     ]
    },
    {
     "name": "stderr",
     "output_type": "stream",
     "text": [
      "Epoch (train) 7/10: 100%|███████████████| 202/202 [36:14<00:00, 10.77s/it, accepor_recall=0.942, donor_recall=0.945, loss=0.000127, pred_l1_dist=0]\n"
     ]
    },
    {
     "name": "stdout",
     "output_type": "stream",
     "text": [
      "epoch: 7/10, train loss = 0.000115\n"
     ]
    },
    {
     "name": "stderr",
     "output_type": "stream",
     "text": [
      "Epoch (val) 7/10: 100%|███████████████████| 23/23 [05:15<00:00, 13.70s/it, accepor_recall=0.893, donor_recall=0.899, loss=0.000248, pred_l1_dist=0]\n"
     ]
    },
    {
     "name": "stdout",
     "output_type": "stream",
     "text": [
      "\n",
      "\u001b[1mAcceptor:\u001b[0m\n",
      "0.9772\t0.9229\t0.9869\t0.9927\t0.953\t0.9656000137329102\t0.3986000120639801\t0.004999999888241291\t0.0008999999845400453\t21432\n",
      "\n",
      "\u001b[1mDonor:\u001b[0m\n",
      "0.9787\t0.9245\t0.9891\t0.9944\t0.958\t0.9686999917030334\t0.34700000286102295\t0.0052999998442828655\t0.0010000000474974513\t21432\n",
      "epoch: 7/10, val loss = 0.000186\n"
     ]
    },
    {
     "name": "stderr",
     "output_type": "stream",
     "text": [
      "Epoch (train) 8/10: 100%|█████████████████| 202/202 [36:01<00:00, 10.70s/it, accepor_recall=0.958, donor_recall=0.962, loss=9.8e-5, pred_l1_dist=0]\n"
     ]
    },
    {
     "name": "stdout",
     "output_type": "stream",
     "text": [
      "epoch: 8/10, train loss = 0.000095\n"
     ]
    },
    {
     "name": "stderr",
     "output_type": "stream",
     "text": [
      "Epoch (val) 8/10: 100%|███████████████████| 23/23 [05:19<00:00, 13.90s/it, accepor_recall=0.918, donor_recall=0.927, loss=0.000245, pred_l1_dist=0]\n"
     ]
    },
    {
     "name": "stdout",
     "output_type": "stream",
     "text": [
      "\n",
      "\u001b[1mAcceptor:\u001b[0m\n",
      "0.9774\t0.9254\t0.9879\t0.9923\t0.9547\t0.9829999804496765\t0.5464000105857849\t0.0034000000450760126\t0.0006000000284984708\t21432\n",
      "\n",
      "\u001b[1mDonor:\u001b[0m\n",
      "0.9789\t0.9289\t0.9913\t0.9956\t0.9603\t0.9781000018119812\t0.5641000270843506\t0.002099999925121665\t0.0003000000142492354\t21432\n",
      "epoch: 8/10, val loss = 0.000179\n"
     ]
    },
    {
     "name": "stderr",
     "output_type": "stream",
     "text": [
      "Epoch (train) 9/10: 100%|████████████████| 202/202 [36:17<00:00, 10.78s/it, accepor_recall=0.956, donor_recall=0.961, loss=8.95e-5, pred_l1_dist=0]\n"
     ]
    },
    {
     "name": "stdout",
     "output_type": "stream",
     "text": [
      "epoch: 9/10, train loss = 0.000081\n"
     ]
    },
    {
     "name": "stderr",
     "output_type": "stream",
     "text": [
      "Epoch (val) 9/10: 100%|███████████████████| 23/23 [05:24<00:00, 14.10s/it, accepor_recall=0.916, donor_recall=0.916, loss=0.000238, pred_l1_dist=0]\n"
     ]
    },
    {
     "name": "stdout",
     "output_type": "stream",
     "text": [
      "\n",
      "\u001b[1mAcceptor:\u001b[0m\n",
      "0.9733\t0.9277\t0.988\t0.993\t0.9539\t0.9685999751091003\t0.4738999903202057\t0.0027000000700354576\t0.00039999998989515007\t21432\n",
      "\n",
      "\u001b[1mDonor:\u001b[0m\n",
      "0.974\t0.9296\t0.9906\t0.9952\t0.959\t0.9562000036239624\t0.46299999952316284\t0.0019000000320374966\t0.0003000000142492354\t21432\n",
      "epoch: 9/10, val loss = 0.000181\n"
     ]
    },
    {
     "name": "stderr",
     "output_type": "stream",
     "text": [
      "Epoch (train) 10/10: 100%|███████████████| 202/202 [36:05<00:00, 10.72s/it, accepor_recall=0.966, donor_recall=0.969, loss=8.45e-5, pred_l1_dist=0]\n"
     ]
    },
    {
     "name": "stdout",
     "output_type": "stream",
     "text": [
      "epoch: 10/10, train loss = 0.000072\n"
     ]
    },
    {
     "name": "stderr",
     "output_type": "stream",
     "text": [
      "Epoch (val) 10/10: 100%|███████████████████| 23/23 [05:17<00:00, 13.82s/it, accepor_recall=0.913, donor_recall=0.921, loss=0.00024, pred_l1_dist=0]\n"
     ]
    },
    {
     "name": "stdout",
     "output_type": "stream",
     "text": [
      "\n",
      "\u001b[1mAcceptor:\u001b[0m\n",
      "0.977\t0.9305\t0.9868\t0.9918\t0.9559\t0.9832000136375427\t0.44429999589920044\t0.0019000000320374966\t0.00039999998989515007\t21432\n",
      "\n",
      "\u001b[1mDonor:\u001b[0m\n",
      "0.9789\t0.9329\t0.99\t0.9946\t0.9619\t0.9854000210762024\t0.4844000041484833\t0.0017000000225380063\t0.0003000000142492354\t21432\n",
      "epoch: 10/10, val loss = 0.000178\n"
     ]
    },
    {
     "data": {
      "image/png": "[encoded data removed]",
      "text/plain": [
       "<Figure size 432x288 with 1 Axes>"
      ]
     },
     "metadata": {
      "needs_background": "light"
     },
     "output_type": "display_data"
    },
    {
     "name": "stderr",
     "output_type": "stream",
     "text": [
      "Epoch (train) 1/10: 100%|███████████████| 202/202 [45:44<00:00, 13.59s/it, accepor_recall=0.868, donor_recall=0.881, loss=0.000203, pred_l1_dist=0]\n"
     ]
    },
    {
     "name": "stdout",
     "output_type": "stream",
     "text": [
      "epoch: 1/10, train loss = 0.007858\n"
     ]
    },
    {
     "name": "stderr",
     "output_type": "stream",
     "text": [
      "Epoch (val) 1/10: 100%|███████████████████| 23/23 [07:36<00:00, 19.83s/it, accepor_recall=0.891, donor_recall=0.919, loss=0.000422, pred_l1_dist=0]\n"
     ]
    },
    {
     "name": "stdout",
     "output_type": "stream",
     "text": [
      "\n",
      "\u001b[1mAcceptor:\u001b[0m\n",
      "0.953\t0.8441\t0.9617\t0.9832\t0.8937\t0.951200008392334\t0.713699996471405\t0.06210000067949295\t0.005100000184029341\t21432\n",
      "\n",
      "\u001b[1mDonor:\u001b[0m\n",
      "0.9572\t0.8658\t0.9782\t0.9904\t0.9128\t0.9420999884605408\t0.7131999731063843\t0.046799998730421066\t0.005200000014156103\t21432\n",
      "epoch: 1/10, val loss = 0.000345\n"
     ]
    },
    {
     "name": "stderr",
     "output_type": "stream",
     "text": [
      "Epoch (train) 2/10: 100%|███████████████| 202/202 [45:37<00:00, 13.55s/it, accepor_recall=0.899, donor_recall=0.904, loss=0.000193, pred_l1_dist=0]\n"
     ]
    },
    {
     "name": "stdout",
     "output_type": "stream",
     "text": [
      "epoch: 2/10, train loss = 0.000198\n"
     ]
    },
    {
     "name": "stderr",
     "output_type": "stream",
     "text": [
      "Epoch (val) 2/10: 100%|████████████████████| 23/23 [07:45<00:00, 20.23s/it, accepor_recall=0.82, donor_recall=0.839, loss=0.000338, pred_l1_dist=0]\n"
     ]
    },
    {
     "name": "stdout",
     "output_type": "stream",
     "text": [
      "\n",
      "\u001b[1mAcceptor:\u001b[0m\n",
      "0.9732\t0.8978\t0.979\t0.9893\t0.9374\t0.9085999727249146\t0.23669999837875366\t0.0031999999191612005\t0.0005000000237487257\t21432\n",
      "\n",
      "\u001b[1mDonor:\u001b[0m\n",
      "0.968\t0.8946\t0.9841\t0.9932\t0.9358\t0.9259999990463257\t0.2694999873638153\t0.0035000001080334187\t0.00039999998989515007\t21432\n",
      "epoch: 2/10, val loss = 0.000263\n"
     ]
    },
    {
     "name": "stderr",
     "output_type": "stream",
     "text": [
      "Epoch (train) 3/10: 100%|███████████████| 202/202 [45:47<00:00, 13.60s/it, accepor_recall=0.915, donor_recall=0.926, loss=0.000158, pred_l1_dist=0]\n"
     ]
    },
    {
     "name": "stdout",
     "output_type": "stream",
     "text": [
      "epoch: 3/10, train loss = 0.000168\n"
     ]
    },
    {
     "name": "stderr",
     "output_type": "stream",
     "text": [
      "Epoch (val) 3/10: 100%|███████████████████| 23/23 [08:14<00:00, 21.52s/it, accepor_recall=0.882, donor_recall=0.902, loss=0.000265, pred_l1_dist=0]\n"
     ]
    },
    {
     "name": "stdout",
     "output_type": "stream",
     "text": [
      "\n",
      "\u001b[1mAcceptor:\u001b[0m\n",
      "0.9756\t0.9088\t0.9851\t0.9921\t0.9467\t0.9459999799728394\t0.4392000138759613\t0.013100000098347664\t0.0026000000070780516\t21432\n",
      "\n",
      "\u001b[1mDonor:\u001b[0m\n",
      "0.9739\t0.9156\t0.9869\t0.9943\t0.951\t0.9559999704360962\t0.4449999928474426\t0.012900000438094139\t0.0020000000949949026\t21432\n",
      "epoch: 3/10, val loss = 0.000202\n"
     ]
    },
    {
     "name": "stderr",
     "output_type": "stream",
     "text": [
      "Epoch (train) 4/10: 100%|███████████████| 202/202 [45:35<00:00, 13.54s/it, accepor_recall=0.933, donor_recall=0.939, loss=0.000141, pred_l1_dist=0]\n"
     ]
    },
    {
     "name": "stdout",
     "output_type": "stream",
     "text": [
      "epoch: 4/10, train loss = 0.000149\n"
     ]
    },
    {
     "name": "stderr",
     "output_type": "stream",
     "text": [
      "Epoch (val) 4/10: 100%|███████████████████| 23/23 [08:05<00:00, 21.10s/it, accepor_recall=0.913, donor_recall=0.921, loss=0.000261, pred_l1_dist=0]\n"
     ]
    },
    {
     "name": "stdout",
     "output_type": "stream",
     "text": [
      "\n",
      "\u001b[1mAcceptor:\u001b[0m\n",
      "0.9744\t0.9179\t0.9869\t0.9926\t0.9512\t0.9830999970436096\t0.5837000012397766\t0.004600000102072954\t0.0006000000284984708\t21432\n",
      "\n",
      "\u001b[1mDonor:\u001b[0m\n",
      "0.9751\t0.9213\t0.9894\t0.9948\t0.9543\t0.9789000153541565\t0.567799985408783\t0.0034000000450760126\t0.0003000000142492354\t21432\n",
      "epoch: 4/10, val loss = 0.000195\n"
     ]
    },
    {
     "name": "stderr",
     "output_type": "stream",
     "text": [
      "Epoch (train) 5/10: 100%|███████████████| 202/202 [45:48<00:00, 13.61s/it, accepor_recall=0.932, donor_recall=0.933, loss=0.000148, pred_l1_dist=0]\n"
     ]
    },
    {
     "name": "stdout",
     "output_type": "stream",
     "text": [
      "epoch: 5/10, train loss = 0.000135\n"
     ]
    },
    {
     "name": "stderr",
     "output_type": "stream",
     "text": [
      "Epoch (val) 5/10: 100%|████████████████████| 23/23 [08:10<00:00, 21.30s/it, accepor_recall=0.86, donor_recall=0.878, loss=0.000305, pred_l1_dist=0]\n"
     ]
    },
    {
     "name": "stdout",
     "output_type": "stream",
     "text": [
      "\n",
      "\u001b[1mAcceptor:\u001b[0m\n",
      "0.9733\t0.9151\t0.9823\t0.9895\t0.9462\t0.9635999798774719\t0.17669999599456787\t0.0013000000035390258\t0.00019999999494757503\t21432\n",
      "\n",
      "\u001b[1mDonor:\u001b[0m\n",
      "0.9718\t0.9176\t0.9868\t0.9928\t0.9481\t0.9646999835968018\t0.19789999723434448\t0.0008999999845400453\t9.999999747378752e-05\t21432\n",
      "epoch: 5/10, val loss = 0.000239\n"
     ]
    },
    {
     "name": "stderr",
     "output_type": "stream",
     "text": [
      "Epoch (train) 6/10: 100%|███████████████| 202/202 [45:45<00:00, 13.59s/it, accepor_recall=0.942, donor_recall=0.944, loss=0.000119, pred_l1_dist=0]\n"
     ]
    },
    {
     "name": "stdout",
     "output_type": "stream",
     "text": [
      "epoch: 6/10, train loss = 0.000126\n"
     ]
    },
    {
     "name": "stderr",
     "output_type": "stream",
     "text": [
      "Epoch (val) 6/10: 100%|███████████████████| 23/23 [07:55<00:00, 20.70s/it, accepor_recall=0.894, donor_recall=0.891, loss=0.000252, pred_l1_dist=0]\n"
     ]
    },
    {
     "name": "stdout",
     "output_type": "stream",
     "text": [
      "\n",
      "\u001b[1mAcceptor:\u001b[0m\n",
      "0.9767\t0.9242\t0.9874\t0.9921\t0.9533\t0.9706000089645386\t0.35510000586509705\t0.0019000000320374966\t0.0003000000142492354\t21432\n",
      "\n",
      "\u001b[1mDonor:\u001b[0m\n",
      "0.9729\t0.9236\t0.9898\t0.9952\t0.954\t0.947700023651123\t0.36039999127388\t0.0032999999821186066\t0.0005000000237487257\t21432\n",
      "epoch: 6/10, val loss = 0.000190\n"
     ]
    },
    {
     "name": "stderr",
     "output_type": "stream",
     "text": [
      "Epoch (train) 7/10: 100%|████████████████| 202/202 [45:48<00:00, 13.60s/it, accepor_recall=0.94, donor_recall=0.948, loss=0.000151, pred_l1_dist=0]\n"
     ]
    },
    {
     "name": "stdout",
     "output_type": "stream",
     "text": [
      "epoch: 7/10, train loss = 0.000118\n"
     ]
    },
    {
     "name": "stderr",
     "output_type": "stream",
     "text": [
      "Epoch (val) 7/10: 100%|███████████████████| 23/23 [08:19<00:00, 21.72s/it, accepor_recall=0.908, donor_recall=0.924, loss=0.000252, pred_l1_dist=0]\n"
     ]
    },
    {
     "name": "stdout",
     "output_type": "stream",
     "text": [
      "\n",
      "\u001b[1mAcceptor:\u001b[0m\n",
      "0.9735\t0.9167\t0.985\t0.9919\t0.9482\t0.9613999724388123\t0.47940000891685486\t0.007699999958276749\t0.0015999999595806003\t21432\n",
      "\n",
      "\u001b[1mDonor:\u001b[0m\n",
      "0.9731\t0.9182\t0.9894\t0.9952\t0.9524\t0.9793000221252441\t0.5575000047683716\t0.004900000058114529\t0.000699999975040555\t21432\n",
      "epoch: 7/10, val loss = 0.000195\n"
     ]
    },
    {
     "name": "stderr",
     "output_type": "stream",
     "text": [
      "Epoch (train) 8/10: 100%|█████████████████| 202/202 [46:03<00:00, 13.68s/it, accepor_recall=0.96, donor_recall=0.964, loss=9.77e-5, pred_l1_dist=0]\n"
     ]
    },
    {
     "name": "stdout",
     "output_type": "stream",
     "text": [
      "epoch: 8/10, train loss = 0.000096\n"
     ]
    },
    {
     "name": "stderr",
     "output_type": "stream",
     "text": [
      "Epoch (val) 8/10: 100%|███████████████████| 23/23 [07:55<00:00, 20.69s/it, accepor_recall=0.909, donor_recall=0.929, loss=0.000236, pred_l1_dist=0]\n"
     ]
    },
    {
     "name": "stdout",
     "output_type": "stream",
     "text": [
      "\n",
      "\u001b[1mAcceptor:\u001b[0m\n",
      "0.9741\t0.9285\t0.9874\t0.9934\t0.9543\t0.9674000144004822\t0.44119998812675476\t0.00279999990016222\t0.0005000000237487257\t21432\n",
      "\n",
      "\u001b[1mDonor:\u001b[0m\n",
      "0.9751\t0.9296\t0.99\t0.9954\t0.9585\t0.9786999821662903\t0.5230000019073486\t0.002400000113993883\t0.00039999998989515007\t21432\n",
      "epoch: 8/10, val loss = 0.000176\n"
     ]
    },
    {
     "name": "stderr",
     "output_type": "stream",
     "text": [
      "Epoch (train) 9/10: 100%|████████████████| 202/202 [45:58<00:00, 13.66s/it, accepor_recall=0.965, donor_recall=0.969, loss=7.71e-5, pred_l1_dist=0]\n"
     ]
    },
    {
     "name": "stdout",
     "output_type": "stream",
     "text": [
      "epoch: 9/10, train loss = 0.000082\n"
     ]
    },
    {
     "name": "stderr",
     "output_type": "stream",
     "text": [
      "Epoch (val) 9/10: 100%|███████████████████| 23/23 [07:41<00:00, 20.07s/it, accepor_recall=0.916, donor_recall=0.916, loss=0.000226, pred_l1_dist=0]\n"
     ]
    },
    {
     "name": "stdout",
     "output_type": "stream",
     "text": [
      "\n",
      "\u001b[1mAcceptor:\u001b[0m\n",
      "0.9784\t0.9314\t0.989\t0.9936\t0.9578\t0.9790999889373779\t0.5105999708175659\t0.0026000000070780516\t0.0005000000237487257\t21432\n",
      "\n",
      "\u001b[1mDonor:\u001b[0m\n",
      "0.9755\t0.9322\t0.9916\t0.9953\t0.9605\t0.9793000221252441\t0.45980000495910645\t0.0015999999595806003\t0.00019999999494757503\t21432\n",
      "epoch: 9/10, val loss = 0.000171\n"
     ]
    },
    {
     "name": "stderr",
     "output_type": "stream",
     "text": [
      "Epoch (train) 10/10: 100%|█████████████████| 202/202 [45:58<00:00, 13.65s/it, accepor_recall=0.965, donor_recall=0.97, loss=6.9e-5, pred_l1_dist=0]\n"
     ]
    },
    {
     "name": "stdout",
     "output_type": "stream",
     "text": [
      "epoch: 10/10, train loss = 0.000072\n"
     ]
    },
    {
     "name": "stderr",
     "output_type": "stream",
     "text": [
      "Epoch (val) 10/10: 100%|██████████████████| 23/23 [08:18<00:00, 21.67s/it, accepor_recall=0.913, donor_recall=0.919, loss=0.000235, pred_l1_dist=0]\n"
     ]
    },
    {
     "name": "stdout",
     "output_type": "stream",
     "text": [
      "\n",
      "\u001b[1mAcceptor:\u001b[0m\n",
      "0.977\t0.9308\t0.9879\t0.9931\t0.957\t0.9835000038146973\t0.46389999985694885\t0.0013000000035390258\t0.00019999999494757503\t21432\n",
      "\n",
      "\u001b[1mDonor:\u001b[0m\n",
      "0.975\t0.9338\t0.9913\t0.9952\t0.9606\t0.984499990940094\t0.5085999965667725\t0.0008999999845400453\t9.999999747378752e-05\t21432\n",
      "epoch: 10/10, val loss = 0.000176\n"
     ]
    },
    {
     "data": {
      "image/png": "[encoded data removed]",
      "text/plain": [
       "<Figure size 432x288 with 1 Axes>"
      ]
     },
     "metadata": {
      "needs_background": "light"
     },
     "output_type": "display_data"
    }
   ],
   "source": [
    "device = torch.device(\"cuda\" if torch.cuda.is_available() else \"cpu\")\n",
    "epochs = 10\n",
    "hs = []\n",
    "\n",
    "parameters = [1,2,3,4,8]\n",
    "\n",
    "for model_nr in range(5):\n",
    "    model_m = SpliceFormer(CL_max,depth = parameters[model_nr])\n",
    "    model_m.apply(keras_init)\n",
    "    model_m = model_m.to(device)\n",
    "    if torch.cuda.device_count() > 1:\n",
    "        #print(\"Let's use\", torch.cuda.device_count(), \"GPUs!\")\n",
    "        # dim = 0 [30, xxx] -> [10, ...], [10, ...], [10, ...] on 3 GPUs\n",
    "        model_m = nn.DataParallel(model_m)\n",
    "    \n",
    "    modelFileName = '../Results/PyTorch_Models/transformer_encoder_40k_ablation_transformer_depth_{}_2'.format(parameters[model_nr])\n",
    "    #model_m.load_state_dict(torch.load('../Results/PyTorch_Models/SpliceAI_Ensembl_dgxtest_{}'.format(0)))\n",
    "    #loss = nn.CrossEntropyLoss(weight=torch.from_numpy(weights).float().to(device),ignore_index=-1,reduction='mean')\n",
    "    loss = categorical_crossentropy_2d().loss\n",
    "    #loss = nn.KLDivLoss()\n",
    "    learning_rate= k*1e-3\n",
    "    optimizer = torch.optim.Adam(model_m.parameters(), lr=learning_rate)\n",
    "    scheduler = torch.optim.lr_scheduler.StepLR(optimizer, step_size=1, gamma=0.5)\n",
    "    warmup = get_constant_schedule_with_warmup(optimizer, num_warmup_steps=1000)\n",
    "    h = trainModel(model_m,modelFileName,loss,train_loader,val_loader,optimizer,scheduler,warmup,BATCH_SIZE,epochs,device)\n",
    "    hs.append(h)\n",
    "\n",
    "    plt.plot(range(epochs),h['loss'],label='Train')\n",
    "    plt.plot(range(epochs),h['val_loss'],label='Validation')\n",
    "    plt.xlabel('Epoch')\n",
    "    plt.ylabel('Loss')\n",
    "    plt.legend()\n",
    "    plt.show()"
   ]
  },
  {
   "cell_type": "code",
   "execution_count": 1,
   "metadata": {},
   "outputs": [],
   "source": [
    "import matplotlib.pyplot as plt"
   ]
  },
  {
   "cell_type": "code",
   "execution_count": 4,
   "metadata": {},
   "outputs": [
    {
     "data": {
      "image/png": "[encoded data removed]",
      "text/plain": [
       "<Figure size 720x288 with 2 Axes>"
      ]
     },
     "metadata": {
      "needs_background": "light"
     },
     "output_type": "display_data"
    }
   ],
   "source": [
    "fig, (ax1,ax2) = plt.subplots(1, 2,figsize=(10,4))\n",
    "x = [1,2,3,4,8]\n",
    "y1 = [0.000187,0.000175,0.000175,0.000177,0.000179]\n",
    "ax1.plot(x,y1,'--')\n",
    "ax1.scatter(x,y1,label='Run 1')\n",
    "y2 = [0.000186,0.000176,0.000176,0.000178,0.000176]\n",
    "ax1.plot(x,y2,'--')\n",
    "ax1.scatter(x,y2,label='Run 2')\n",
    "ax1.set(xlabel = 'Transformers per block',ylabel='Cross entropy')\n",
    "\n",
    "prauc1 = [(0.9573+0.9592)/2,(0.958+0.9605)/2,(0.9579+0.9604)/2,(0.9546+0.9583)/2,(0.958+0.9625)/2]\n",
    "ax2.plot(x,prauc1,'--')\n",
    "ax2.scatter(x,prauc1,label='Run 1')\n",
    "prauc2 = [(0.9549+0.9583)/2,(0.958+0.96)/2,(0.9568+0.9606)/2,(0.9559+0.9619)/2,(0.957+0.9606)/2]\n",
    "ax2.plot(x,prauc2,'--')\n",
    "ax2.scatter(x,prauc2,label='Run 2')\n",
    "ax2.set(xlabel = 'Transformers per block',ylabel='PR-AUC')\n",
    "#ax2.ylabel('PR-AUC')\n",
    "#ax2.xlabel('No. transformer blocks')\n",
    "fig.tight_layout()\n",
    "\n",
    "ax1.legend()\n",
    "ax2.legend()\n",
    "plt.savefig('../Results/ablation_n_transformers_per_block.png',dpi=300)\n",
    "plt.show()"
   ]
  },
  {
   "cell_type": "code",
   "execution_count": 12,
   "metadata": {},
   "outputs": [
    {
     "name": "stderr",
     "output_type": "stream",
     "text": [
      "100%|███████████████████████████████████████████████████████████████████████████████████| 17/17 [06:36<00:00, 23.30s/it]\n"
     ]
    }
   ],
   "source": [
    "device = torch.device(\"cuda\" if torch.cuda.is_available() else \"cpu\")\n",
    "h5f = h5py.File('/odinn/tmp/benediktj/Data/SplicePrediction/gencode_40k_dataset_test_.h5')\n",
    "\n",
    "num_idx = len(h5f.keys())//2\n",
    "\n",
    "test_dataset = h5pyDataset(h5f,list(range(num_idx)))\n",
    "test_loader = torch.utils.data.DataLoader(test_dataset, batch_size=1, shuffle=False, num_workers=0)\n",
    "\n",
    "temp = 1\n",
    "n_models = 5\n",
    "device = torch.device(\"cuda\" if torch.cuda.is_available() else \"cpu\")\n",
    "model_m = SpliceFormer(CL_max)\n",
    "model_m.apply(keras_init)\n",
    "model_m = model_m.to(device)\n",
    "\n",
    "if torch.cuda.device_count() > 1:\n",
    "    model_m = nn.DataParallel(model_m)\n",
    "\n",
    "output_class_labels = ['Null', 'Acceptor', 'Donor']\n",
    "\n",
    "#for output_class in [1,2]:\n",
    "models = [copy.deepcopy(model_m) for i in range(n_models)]\n",
    "[model.load_state_dict(torch.load('../Results/PyTorch_Models/transformer_encoder_40k_030522_{}'.format(i))) for i,model in enumerate(models)]\n",
    "\n",
    "for model in models:\n",
    "    model.eval()\n",
    "    \n",
    "Y_true_acceptor, Y_pred_acceptor = [],[]\n",
    "Y_true_donor, Y_pred_donor = [],[]\n",
    "\n",
    "for (batch_chunks,target_chunks) in tqdm(test_loader):\n",
    "    batch_chunks = torch.transpose(batch_chunks[0].to(device),1,2)\n",
    "    target_chunks = torch.transpose(torch.squeeze(target_chunks[0].to(device),0),1,2)\n",
    "    #print(np.max(target_chunks.cpu().numpy()[:,2,:]))\n",
    "    n_chunks = int(np.ceil(batch_chunks.shape[0]/BATCH_SIZE))\n",
    "    batch_chunks = torch.chunk(batch_chunks, n_chunks, dim=0)\n",
    "    target_chunks = torch.chunk(target_chunks, n_chunks, dim=0)\n",
    "    targets_list = []\n",
    "    outputs_list = []\n",
    "    for j in range(len(batch_chunks)):\n",
    "        batch_features = batch_chunks[j]\n",
    "        targets = target_chunks[j]\n",
    "        outputs = ([models[i](batch_features)[1].detach() for i in range(n_models)])\n",
    "        outputs = (outputs[0]+outputs[1]+outputs[2]+outputs[3]+outputs[4])/n_models\n",
    "        #outputs = (outputs[0]+outputs[1]+outputs[2])/n_models\n",
    "        targets_list.extend(targets.unsqueeze(0))\n",
    "        outputs_list.extend(outputs.unsqueeze(0))\n",
    "\n",
    "    targets = torch.transpose(torch.vstack(targets_list),1,2).cpu().numpy()\n",
    "    outputs = torch.transpose(torch.vstack(outputs_list),1,2).cpu().numpy()\n",
    "\n",
    "    is_expr = (targets.sum(axis=(1,2)) >= 1)\n",
    "    Y_true_acceptor.extend(targets[is_expr, :, 1].flatten())\n",
    "    Y_true_donor.extend(targets[is_expr, :, 2].flatten())\n",
    "    Y_pred_acceptor.extend(outputs[is_expr, :, 1].flatten())\n",
    "    Y_pred_donor.extend(outputs[is_expr, :, 2].flatten())"
   ]
  },
  {
   "cell_type": "code",
   "execution_count": 13,
   "metadata": {},
   "outputs": [
    {
     "name": "stdout",
     "output_type": "stream",
     "text": [
      "\n",
      "\u001b[1mAcceptor:\u001b[0m\n",
      "0.9961\t0.9486\t0.9881\t0.9913\t0.9779\t0.9782999753952026\t0.3280999958515167\t0.002899999963119626\t0.0005000000237487257\t14289\n",
      "\n",
      "\u001b[1mDonor:\u001b[0m\n",
      "0.9958\t0.9523\t0.9896\t0.9921\t0.9797\t0.9785000085830688\t0.33739998936653137\t0.002199999988079071\t0.0003000000142492354\t14289\n"
     ]
    }
   ],
   "source": [
    "Y_true_acceptor, Y_pred_acceptor,Y_true_donor, Y_pred_donor = np.array(Y_true_acceptor), np.array(Y_pred_acceptor),np.array(Y_true_donor), np.array(Y_pred_donor)\n",
    "print(\"\\n\\033[1m{}:\\033[0m\".format('Acceptor'))\n",
    "acceptor_val_results = print_topl_statistics(Y_true_acceptor, Y_pred_acceptor)\n",
    "print(\"\\n\\033[1m{}:\\033[0m\".format('Donor'))\n",
    "donor_val_results =print_topl_statistics(Y_true_donor, Y_pred_donor)"
   ]
  },
  {
   "cell_type": "code",
   "execution_count": 19,
   "metadata": {},
   "outputs": [
    {
     "data": {
      "text/plain": [
       "0.95045"
      ]
     },
     "execution_count": 19,
     "metadata": {},
     "output_type": "execute_result"
    }
   ],
   "source": [
    "(0.9486+0.9523)/2"
   ]
  },
  {
   "cell_type": "code",
   "execution_count": 18,
   "metadata": {},
   "outputs": [
    {
     "data": {
      "text/plain": [
       "0.9788"
      ]
     },
     "execution_count": 18,
     "metadata": {},
     "output_type": "execute_result"
    }
   ],
   "source": [
    "(0.9779+0.9797)/2"
   ]
  },
  {
   "cell_type": "code",
   "execution_count": 14,
   "metadata": {},
   "outputs": [],
   "source": [
    "setType = 'test'\n",
    "annotation_test, transcriptToLabel_test, seqData = getData(data_dir, setType)    \n"
   ]
  },
  {
   "cell_type": "code",
   "execution_count": 15,
   "metadata": {
    "scrolled": true
   },
   "outputs": [
    {
     "name": "stderr",
     "output_type": "stream",
     "text": [
      "100%|████████████████████████████████████████████████████████████████████████████████| 90/90 [4:22:57<00:00, 175.30s/it]\n"
     ]
    }
   ],
   "source": [
    "temp = 1\n",
    "n_models = 5\n",
    "device = torch.device(\"cuda\" if torch.cuda.is_available() else \"cpu\")\n",
    "model_m = SpliceFormer(CL_max)\n",
    "model_m.apply(keras_init)\n",
    "model_m = model_m.to(device)\n",
    "\n",
    "if torch.cuda.device_count() > 1:\n",
    "    model_m = nn.DataParallel(model_m)\n",
    "\n",
    "output_class_labels = ['Null', 'Acceptor', 'Donor']\n",
    "\n",
    "#for output_class in [1,2]:\n",
    "models = [copy.deepcopy(model_m) for i in range(n_models)]\n",
    "[model.load_state_dict(torch.load('../Results/PyTorch_Models/transformer_encoder_40k_030522_{}'.format(i))) for i,model in enumerate(models)]\n",
    "#nr = [0,2,3]\n",
    "#[model.load_state_dict(torch.load('../Results/PyTorch_Models/transformer_encoder_40k_201221_{}'.format(nr[i]))) for i,model in enumerate(models)]\n",
    "#chunkSize = num_idx/10\n",
    "for model in models:\n",
    "    model.eval()\n",
    "\n",
    "Y_true_acceptor, Y_pred_acceptor = [],[]\n",
    "Y_true_donor, Y_pred_donor = [],[]\n",
    "test_dataset = spliceDataset(annotation_test,transcriptToLabel_test,SL,CL_max)\n",
    "test_dataset.seqData = seqData\n",
    "test_loader = torch.utils.data.DataLoader(test_dataset, batch_size=100, shuffle=False, num_workers=0,collate_fn=collate_fn, pin_memory=True)\n",
    "\n",
    "\n",
    "for (batch_chunks,target_chunks) in tqdm(test_loader):\n",
    "    batch_chunks = torch.transpose(batch_chunks.to(device),1,2)\n",
    "    target_chunks = torch.transpose(torch.squeeze(target_chunks.to(device),0),1,2)\n",
    "    batch_chunks = torch.split(batch_chunks, BATCH_SIZE, dim=0)\n",
    "    target_chunks = torch.split(target_chunks, BATCH_SIZE, dim=0)\n",
    "    targets_list = []\n",
    "    outputs_list = []\n",
    "    for j in range(len(batch_chunks)):\n",
    "        batch_features = batch_chunks[j]\n",
    "        targets = target_chunks[j]\n",
    "        outputs = ([models[i](batch_features)[1].detach() for i in range(n_models)])\n",
    "        outputs = (outputs[0]+outputs[1]+outputs[2]+outputs[3]+outputs[4])/n_models\n",
    "        #outputs = (outputs[0]+outputs[1]+outputs[2])/n_models\n",
    "        targets_list.extend(targets.unsqueeze(0))\n",
    "        outputs_list.extend(outputs.unsqueeze(0))\n",
    "\n",
    "    targets = torch.transpose(torch.vstack(targets_list),1,2).cpu().numpy()\n",
    "    outputs = torch.transpose(torch.vstack(outputs_list),1,2).cpu().numpy()\n",
    "\n",
    "    is_expr = (targets.sum(axis=(1,2)) >= 1)\n",
    "    Y_true_acceptor.extend(targets[is_expr, :, 1].flatten())\n",
    "    Y_true_donor.extend(targets[is_expr, :, 2].flatten())\n",
    "    Y_pred_acceptor.extend(outputs[is_expr, :, 1].flatten())\n",
    "    Y_pred_donor.extend(outputs[is_expr, :, 2].flatten())\n",
    "\n"
   ]
  },
  {
   "cell_type": "code",
   "execution_count": 16,
   "metadata": {},
   "outputs": [
    {
     "name": "stdout",
     "output_type": "stream",
     "text": [
      "\n",
      "\u001b[1mAcceptor:\u001b[0m\n",
      "0.9821\t0.9399\t0.9919\t0.9958\t0.9675\t0.9814000129699707\t0.45570001006126404\t0.0026000000070780516\t0.00039999998989515007\t89712\n",
      "\n",
      "\u001b[1mDonor:\u001b[0m\n",
      "0.9832\t0.9446\t0.9941\t0.997\t0.9713\t0.9811999797821045\t0.4941999912261963\t0.002099999925121665\t0.0003000000142492354\t89712\n"
     ]
    }
   ],
   "source": [
    "Y_true_acceptor, Y_pred_acceptor,Y_true_donor, Y_pred_donor = np.array(Y_true_acceptor), np.array(Y_pred_acceptor),np.array(Y_true_donor), np.array(Y_pred_donor)\n",
    "print(\"\\n\\033[1m{}:\\033[0m\".format('Acceptor'))\n",
    "acceptor_val_results = print_topl_statistics(Y_true_acceptor, Y_pred_acceptor)\n",
    "print(\"\\n\\033[1m{}:\\033[0m\".format('Donor'))\n",
    "donor_val_results =print_topl_statistics(Y_true_donor, Y_pred_donor)"
   ]
  },
  {
   "cell_type": "code",
   "execution_count": 20,
   "metadata": {},
   "outputs": [
    {
     "data": {
      "text/plain": [
       "0.94225"
      ]
     },
     "execution_count": 20,
     "metadata": {},
     "output_type": "execute_result"
    }
   ],
   "source": [
    "(0.9399+0.9446)/2"
   ]
  },
  {
   "cell_type": "code",
   "execution_count": 17,
   "metadata": {},
   "outputs": [
    {
     "data": {
      "text/plain": [
       "0.9694"
      ]
     },
     "execution_count": 17,
     "metadata": {},
     "output_type": "execute_result"
    }
   ],
   "source": [
    "(0.9675+0.9713)/2"
   ]
  }
 ],
 "metadata": {
  "kernelspec": {
   "display_name": "Python 3 (ipykernel)",
   "language": "python",
   "name": "python3"
  },
  "language_info": {
   "codemirror_mode": {
    "name": "ipython",
    "version": 3
   },
   "file_extension": ".py",
   "mimetype": "text/x-python",
   "name": "python",
   "nbconvert_exporter": "python",
   "pygments_lexer": "ipython3",
   "version": "3.9.1"
  }
 },
 "nbformat": 4,
 "nbformat_minor": 4
}
