{
 "cells": [
  {
   "cell_type": "code",
   "execution_count": 1,
   "metadata": {},
   "outputs": [],
   "source": [
    "import numpy as np\n",
    "import sys\n",
    "import time\n",
    "import h5py\n",
    "from tqdm import tqdm\n",
    "\n",
    "import numpy as np\n",
    "import re\n",
    "from math import ceil\n",
    "from sklearn.metrics import average_precision_score\n",
    "\n",
    "import pandas as pd\n",
    "import matplotlib.pyplot as plt\n",
    "import pickle\n",
    "#import pickle5 as pickle\n",
    "\n",
    "from sklearn.model_selection import train_test_split\n",
    "\n",
    "from scipy.sparse import load_npz\n",
    "from glob import glob\n",
    "\n"
   ]
  },
  {
   "cell_type": "code",
   "execution_count": 2,
   "metadata": {},
   "outputs": [],
   "source": [
    "from torch.utils.data import Dataset\n",
    "import torch\n",
    "import torch.nn as nn\n",
    "from transformers import get_constant_schedule_with_warmup\n",
    "from sklearn.metrics import precision_score,recall_score,accuracy_score\n",
    "\n",
    "from src.train import trainModel\n",
    "from src.dataloader import getData,spliceDataset,h5pyDataset,getDataPointList,getDataPointListFull,DataPoint\n",
    "from src.weight_init import keras_init\n",
    "from src.losses import categorical_crossentropy_2d\n",
    "from src.model import SpliceFormer\n",
    "from src.evaluation_metrics import print_topl_statistics\n",
    "import copy\n",
    "#import tensorflow as tf"
   ]
  },
  {
   "cell_type": "code",
   "execution_count": 3,
   "metadata": {},
   "outputs": [
    {
     "name": "stdout",
     "output_type": "stream",
     "text": [
      "Wed Apr 19 16:07:05 2023       \n",
      "+-----------------------------------------------------------------------------+\n",
      "| NVIDIA-SMI 465.19.01    Driver Version: 465.19.01    CUDA Version: 11.3     |\n",
      "|-------------------------------+----------------------+----------------------+\n",
      "| GPU  Name        Persistence-M| Bus-Id        Disp.A | Volatile Uncorr. ECC |\n",
      "| Fan  Temp  Perf  Pwr:Usage/Cap|         Memory-Usage | GPU-Util  Compute M. |\n",
      "|                               |                      |               MIG M. |\n",
      "|===============================+======================+======================|\n",
      "|   0  NVIDIA Tesla V1...  Off  | 00000000:5E:00.0 Off |                    0 |\n",
      "| N/A   37C    P0    32W / 250W |      0MiB / 32510MiB |      0%      Default |\n",
      "|                               |                      |                  N/A |\n",
      "+-------------------------------+----------------------+----------------------+\n",
      "|   1  NVIDIA Tesla V1...  Off  | 00000000:86:00.0 Off |                    0 |\n",
      "| N/A   31C    P0    32W / 250W |      0MiB / 32510MiB |      2%      Default |\n",
      "|                               |                      |                  N/A |\n",
      "+-------------------------------+----------------------+----------------------+\n",
      "                                                                               \n",
      "+-----------------------------------------------------------------------------+\n",
      "| Processes:                                                                  |\n",
      "|  GPU   GI   CI        PID   Type   Process name                  GPU Memory |\n",
      "|        ID   ID                                                   Usage      |\n",
      "|=============================================================================|\n",
      "|  No running processes found                                                 |\n",
      "+-----------------------------------------------------------------------------+\n"
     ]
    }
   ],
   "source": [
    "!nvidia-smi"
   ]
  },
  {
   "cell_type": "code",
   "execution_count": 4,
   "metadata": {},
   "outputs": [],
   "source": [
    "#snps = df.drop_duplicates(subset=['not_sQTL'])['not_sQTL'].values\n",
    "#res = pd.DataFrame({'Chr':[x.split(':')[0] for x in snps],'Pos':[int(x.split(':')[1]) for x in snps],'marker':snps})\n",
    "#res.sort_values(['Chr','Pos'],ascending=True).to_csv('../Data/not_sQTL.gor',sep='\\t',index=False)"
   ]
  },
  {
   "cell_type": "code",
   "execution_count": 5,
   "metadata": {},
   "outputs": [],
   "source": [
    "rng = np.random.default_rng(23673)"
   ]
  },
  {
   "cell_type": "code",
   "execution_count": 6,
   "metadata": {},
   "outputs": [],
   "source": [
    "data_dir = '../Data'"
   ]
  },
  {
   "cell_type": "code",
   "execution_count": 7,
   "metadata": {},
   "outputs": [],
   "source": [
    "snv_list = pd.read_csv('../Data/snv_list.txt', sep='\\t')"
   ]
  },
  {
   "cell_type": "code",
   "execution_count": 8,
   "metadata": {},
   "outputs": [],
   "source": [
    "L = 32\n",
    "N_GPUS = 8\n",
    "k = 2\n",
    "# Hyper-parameters:\n",
    "# L: Number of convolution kernels\n",
    "# W: Convolution window size in each residual unit\n",
    "# AR: Atrous rate in each residual unit\n",
    "\n",
    "W = np.asarray([11, 11, 11, 11, 11, 11, 11, 11,\n",
    "                21, 21, 21, 21, 41, 41, 41, 41])\n",
    "AR = np.asarray([1, 1, 1, 1, 4, 4, 4, 4,\n",
    "                 10, 10, 10, 10, 25, 25, 25, 25])\n",
    "BATCH_SIZE = k*6*N_GPUS\n",
    "\n",
    "\n",
    "CL = 2 * np.sum(AR*(W-1))"
   ]
  },
  {
   "cell_type": "code",
   "execution_count": 9,
   "metadata": {},
   "outputs": [],
   "source": [
    "SL=5000\n",
    "CL_max=40000"
   ]
  },
  {
   "cell_type": "code",
   "execution_count": 10,
   "metadata": {},
   "outputs": [],
   "source": [
    "import pyfastx\n",
    "data_dir = '../Data/'\n",
    "fasta_file_path = '../Data/genome.fa'\n",
    "gtf_file_path = '../Data/Homo_sapiens.GRCh38.87.db'\n",
    "fasta = pyfastx.Fasta(fasta_file_path)"
   ]
  },
  {
   "cell_type": "code",
   "execution_count": 11,
   "metadata": {},
   "outputs": [],
   "source": [
    "NUM_ACCUMULATION_STEPS = 1\n",
    "temp = 1\n",
    "n_models = 10\n",
    "device = torch.device(\"cuda\" if torch.cuda.is_available() else \"cpu\")\n",
    "model_m = SpliceFormer(CL_max,bn_momentum=0.01/NUM_ACCUMULATION_STEPS,depth=4,heads=4,n_transformer_blocks=2,determenistic=True)\n",
    "model_m.apply(keras_init)\n",
    "model_m = model_m.to(device)\n",
    "\n",
    "if torch.cuda.device_count() > 1:\n",
    "    model_m = nn.DataParallel(model_m)\n",
    "\n",
    "output_class_labels = ['Null', 'Acceptor', 'Donor']\n",
    "\n",
    "#for output_class in [1,2]:\n",
    "models = [copy.deepcopy(model_m) for i in range(n_models)]\n",
    "\n",
    "[model.load_state_dict(torch.load('../Results/PyTorch_Models/transformer_encoder_40k_finetune_GTEX_131222_{}'.format(i))) for i,model in enumerate(models)]\n",
    "\n",
    "for model in models:\n",
    "    model.eval()"
   ]
  },
  {
   "cell_type": "code",
   "execution_count": 12,
   "metadata": {},
   "outputs": [],
   "source": [
    "#gene_boundries = {}\n",
    "#for gene in tqdm(genes):\n",
    "#    gene_boundries[gene[\"gene_name\"][0]] = [int(gene[3]),int(gene[4])]"
   ]
  },
  {
   "cell_type": "code",
   "execution_count": 13,
   "metadata": {},
   "outputs": [],
   "source": [
    "#with open('/odinn/tmp/benediktj/Data/SplicePrediction-050422/gene_boundries.pkl', 'wb') as f:\n",
    "#    pickle.dump(gene_boundries, f)"
   ]
  },
  {
   "cell_type": "code",
   "execution_count": 14,
   "metadata": {},
   "outputs": [],
   "source": [
    "import gffutils"
   ]
  },
  {
   "cell_type": "code",
   "execution_count": 15,
   "metadata": {},
   "outputs": [],
   "source": [
    "gtf = gffutils.FeatureDB(gtf_file_path)"
   ]
  },
  {
   "cell_type": "code",
   "execution_count": 16,
   "metadata": {},
   "outputs": [],
   "source": [
    "mutant_snv = snv_list[snv_list['category']=='mutant']"
   ]
  },
  {
   "cell_type": "code",
   "execution_count": 17,
   "metadata": {},
   "outputs": [
    {
     "name": "stderr",
     "output_type": "stream",
     "text": [
      "  4%|████▊                                                                                                                 | 1191/28972 [09:40<44:17, 10.45it/s]"
     ]
    },
    {
     "name": "stdout",
     "output_type": "stream",
     "text": [
      "ENSE00000677429_002 failed\n",
      "ENSE00000677429_004 failed\n",
      "ENSE00000677429_005 failed\n",
      "ENSE00000677429_007 failed\n",
      "ENSE00000677429_010 failed\n",
      "ENSE00000677429_012 failed\n",
      "ENSE00000677429_013 failed\n",
      "ENSE00000677429_017 failed\n",
      "ENSE00000677429_018 failed\n",
      "ENSE00000677429_025 failed\n",
      "ENSE00000677429_026 failed\n",
      "ENSE00000677429_027 failed\n",
      "ENSE00000677429_028 failed\n",
      "ENSE00000677429_029 failed\n",
      "ENSE00000677429_033 failed\n",
      "ENSE00000677429_035 failed\n"
     ]
    },
    {
     "name": "stderr",
     "output_type": "stream",
     "text": [
      "  7%|████████▏                                                                                                             | 1995/28972 [16:16<52:39,  8.54it/s]"
     ]
    },
    {
     "name": "stdout",
     "output_type": "stream",
     "text": [
      "ENSE00000708963_001 failed\n",
      "ENSE00000708963_003 failed\n",
      "ENSE00000708963_004 failed\n",
      "ENSE00000708963_008 failed\n",
      "ENSE00000708963_009 failed\n",
      "ENSE00000708963_010 failed\n",
      "ENSE00000708963_011 failed\n",
      "ENSE00000708963_012 failed\n"
     ]
    },
    {
     "name": "stderr",
     "output_type": "stream",
     "text": [
      "\r",
      "  7%|████████▏                                                                                                             | 1999/28972 [16:16<36:47, 12.22it/s]"
     ]
    },
    {
     "name": "stdout",
     "output_type": "stream",
     "text": [
      "ENSE00000708963_013 failed\n",
      "ENSE00000708963_016 failed\n",
      "ENSE00000708963_017 failed\n",
      "ENSE00000708963_018 failed\n",
      "ENSE00000708967_002 failed\n",
      "ENSE00000708967_003 failed\n",
      "ENSE00000708967_005 failed\n"
     ]
    },
    {
     "name": "stderr",
     "output_type": "stream",
     "text": [
      "  7%|████████▏                                                                                                             | 2006/28972 [16:16<24:58, 17.99it/s]"
     ]
    },
    {
     "name": "stdout",
     "output_type": "stream",
     "text": [
      "ENSE00000708967_006 failed\n",
      "ENSE00000708967_007 failed\n",
      "ENSE00000708967_008 failed\n",
      "ENSE00000708967_010 failed\n",
      "ENSE00000708967_014 failed\n",
      "ENSE00000708967_015 failed\n",
      "ENSE00000708967_016 failed\n"
     ]
    },
    {
     "name": "stderr",
     "output_type": "stream",
     "text": [
      " 19%|██████████████████████▋                                                                                               | 5558/28972 [45:14<19:25, 20.09it/s]"
     ]
    },
    {
     "name": "stdout",
     "output_type": "stream",
     "text": [
      "ENSE00000933530_001 failed\n",
      "ENSE00000933530_002 failed\n",
      "ENSE00000933530_003 failed\n",
      "ENSE00000933530_004 failed\n",
      "ENSE00000933530_005 failed\n",
      "ENSE00000933530_006 failed\n",
      "ENSE00000933530_007 failed\n",
      "ENSE00000933530_008 failed\n",
      "ENSE00000933530_009 failed\n",
      "ENSE00000933530_010 failed\n",
      "ENSE00000933530_011 failed\n",
      "ENSE00000933530_012 failed\n",
      "ENSE00000933530_013 failed\n",
      "ENSE00000933530_014 failed\n",
      "ENSE00000933530_015 failed\n",
      "ENSE00000933530_016 failed\n",
      "ENSE00000933530_017 failed\n",
      "ENSE00000933530_018 failed\n",
      "ENSE00000933530_019 failed\n",
      "ENSE00000933530_020 failed\n",
      "ENSE00000933530_021 failed\n",
      "ENSE00000933530_022 failed\n",
      "ENSE00000933530_023 failed\n",
      "ENSE00000933530_024 failed\n",
      "ENSE00000933530_025 failed\n",
      "ENSE00000933530_026 failed\n",
      "ENSE00000933530_027 failed\n"
     ]
    },
    {
     "name": "stderr",
     "output_type": "stream",
     "text": [
      " 21%|████████████████████████▏                                                                                           | 6031/28972 [49:06<2:59:58,  2.12it/s]"
     ]
    },
    {
     "name": "stdout",
     "output_type": "stream",
     "text": [
      "ENSE00000944495_001 failed\n",
      "ENSE00000944495_002 failed\n",
      "ENSE00000944495_003 failed\n",
      "ENSE00000944495_004 failed\n",
      "ENSE00000944495_005 failed\n",
      "ENSE00000944495_006 failed\n",
      "ENSE00000944495_007 failed\n",
      "ENSE00000944495_008 failed\n",
      "ENSE00000944495_009 failed\n",
      "ENSE00000944495_010 failed\n",
      "ENSE00000944495_011 failed\n",
      "ENSE00000944495_012 failed\n",
      "ENSE00000944495_015 failed\n",
      "ENSE00000944495_016 failed\n",
      "ENSE00000944495_017 failed\n",
      "ENSE00000944495_018 failed\n",
      "ENSE00000944495_019 failed\n",
      "ENSE00000944495_020 failed\n",
      "ENSE00000944495_021 failed\n",
      "ENSE00000944495_022 failed\n"
     ]
    },
    {
     "name": "stderr",
     "output_type": "stream",
     "text": [
      " 22%|██████████████████████████                                                                                          | 6502/28972 [52:49<3:02:37,  2.05it/s]"
     ]
    },
    {
     "name": "stdout",
     "output_type": "stream",
     "text": [
      "ENSE00000957945_003 failed\n",
      "ENSE00000957945_004 failed\n",
      "ENSE00000957945_010 failed\n",
      "ENSE00000957945_012 failed\n",
      "ENSE00000957945_020 failed\n",
      "ENSE00000957945_022 failed\n"
     ]
    },
    {
     "name": "stderr",
     "output_type": "stream",
     "text": [
      " 26%|█████████████████████████████▊                                                                                    | 7579/28972 [1:01:42<3:15:40,  1.82it/s]"
     ]
    },
    {
     "name": "stdout",
     "output_type": "stream",
     "text": [
      "ENSE00001002968_015 failed\n",
      "ENSE00001002968_017 failed\n"
     ]
    },
    {
     "name": "stderr",
     "output_type": "stream",
     "text": [
      " 40%|████████████████████████████████████████████▊                                                                    | 11482/28972 [1:33:35<2:28:57,  1.96it/s]"
     ]
    },
    {
     "name": "stdout",
     "output_type": "stream",
     "text": [
      "ENSE00001156207_003 failed\n",
      "ENSE00001156207_004 failed\n",
      "ENSE00001156207_007 failed\n",
      "ENSE00001156207_008 failed\n"
     ]
    },
    {
     "name": "stderr",
     "output_type": "stream",
     "text": [
      " 42%|███████████████████████████████████████████████▋                                                                 | 12213/28972 [1:39:26<2:11:04,  2.13it/s]"
     ]
    },
    {
     "name": "stdout",
     "output_type": "stream",
     "text": [
      "ENSE00001192074_002 failed\n",
      "ENSE00001192074_007 failed\n",
      "ENSE00001192074_008 failed\n",
      "ENSE00001192074_010 failed\n",
      "ENSE00001192074_013 failed\n"
     ]
    },
    {
     "name": "stderr",
     "output_type": "stream",
     "text": [
      " 44%|█████████████████████████████████████████████████▏                                                               | 12612/28972 [1:42:34<2:08:35,  2.12it/s]"
     ]
    },
    {
     "name": "stdout",
     "output_type": "stream",
     "text": [
      "ENSE00001211681_014 failed\n",
      "ENSE00001211681_015 failed\n",
      "ENSE00001211681_016 failed\n",
      "ENSE00001211681_018 failed\n",
      "ENSE00001211681_019 failed\n"
     ]
    },
    {
     "name": "stderr",
     "output_type": "stream",
     "text": [
      " 44%|██████████████████████████████████████████████████                                                               | 12837/28972 [1:44:19<2:07:06,  2.12it/s]"
     ]
    },
    {
     "name": "stdout",
     "output_type": "stream",
     "text": [
      "ENSE00001225970_001 failed\n",
      "ENSE00001225970_002 failed\n",
      "ENSE00001225970_009 failed\n",
      "ENSE00001225970_011 failed\n",
      "ENSE00001225970_015 failed\n",
      "ENSE00001225970_017 failed\n",
      "ENSE00001225970_022 failed\n",
      "ENSE00001225970_023 failed\n",
      "ENSE00001225970_024 failed\n",
      "ENSE00001225970_026 failed\n",
      "ENSE00001225970_027 failed\n",
      "ENSE00001225970_028 failed\n",
      "ENSE00001225970_029 failed\n"
     ]
    },
    {
     "name": "stderr",
     "output_type": "stream",
     "text": [
      " 51%|█████████████████████████████████████████████████████████▍                                                       | 14742/28972 [1:59:21<1:49:58,  2.16it/s]"
     ]
    },
    {
     "name": "stdout",
     "output_type": "stream",
     "text": [
      "ENSE00001321140_001 failed\n",
      "ENSE00001321140_002 failed\n",
      "ENSE00001321140_003 failed\n",
      "ENSE00001321140_004 failed\n",
      "ENSE00001321140_005 failed\n",
      "ENSE00001321140_006 failed\n",
      "ENSE00001321140_008 failed\n",
      "ENSE00001321140_010 failed\n",
      "ENSE00001321140_012 failed\n",
      "ENSE00001321140_014 failed\n",
      "ENSE00001321140_016 failed\n",
      "ENSE00001321140_017 failed\n",
      "ENSE00001321140_018 failed\n",
      "ENSE00001321140_019 failed\n",
      "ENSE00001321140_020 failed\n",
      "ENSE00001321140_022 failed\n",
      "ENSE00001321140_023 failed\n",
      "ENSE00001321140_024 failed\n",
      "ENSE00001321140_025 failed\n",
      "ENSE00001321140_026 failed\n",
      "ENSE00001321140_028 failed\n",
      "ENSE00001321140_029 failed\n"
     ]
    },
    {
     "name": "stderr",
     "output_type": "stream",
     "text": [
      " 52%|███████████████████████████████████████████████████████████                                                      | 15151/28972 [2:02:26<1:46:48,  2.16it/s]"
     ]
    },
    {
     "name": "stdout",
     "output_type": "stream",
     "text": [
      "ENSE00001339922_001 failed\n",
      "ENSE00001339922_002 failed\n",
      "ENSE00001339922_004 failed\n",
      "ENSE00001339922_007 failed\n",
      "ENSE00001339922_008 failed\n",
      "ENSE00001339922_009 failed\n",
      "ENSE00001339922_010 failed\n",
      "ENSE00001339922_012 failed\n",
      "ENSE00001339922_013 failed\n",
      "ENSE00001339922_014 failed\n",
      "ENSE00001339922_015 failed\n",
      "ENSE00001339922_016 failed\n",
      "ENSE00001339922_019 failed\n",
      "ENSE00001339922_020 failed\n"
     ]
    },
    {
     "name": "stderr",
     "output_type": "stream",
     "text": [
      " 54%|████████████████████████████████████████████████████████████▉                                                    | 15631/28972 [2:06:07<1:43:02,  2.16it/s]"
     ]
    },
    {
     "name": "stdout",
     "output_type": "stream",
     "text": [
      "ENSE00001384956_001 failed\n"
     ]
    },
    {
     "name": "stderr",
     "output_type": "stream",
     "text": [
      " 60%|███████████████████████████████████████████████████████████████████▌                                             | 17329/28972 [2:19:44<1:34:19,  2.06it/s]"
     ]
    },
    {
     "name": "stdout",
     "output_type": "stream",
     "text": [
      "ENSE00001602316_002 failed\n",
      "ENSE00001602316_003 failed\n",
      "ENSE00001602316_005 failed\n",
      "ENSE00001602316_008 failed\n",
      "ENSE00001602316_009 failed\n",
      "ENSE00001602316_012 failed\n",
      "ENSE00001602316_014 failed\n",
      "ENSE00001602316_015 failed\n",
      "ENSE00001602316_018 failed\n",
      "ENSE00001602316_019 failed\n",
      "ENSE00001602316_020 failed\n",
      "ENSE00001602316_022 failed\n",
      "ENSE00001602316_023 failed\n",
      "ENSE00001602316_024 failed\n",
      "ENSE00001602316_027 failed\n",
      "ENSE00001602316_029 failed\n"
     ]
    },
    {
     "name": "stderr",
     "output_type": "stream",
     "text": [
      " 67%|███████████████████████████████████████████████████████████████████████████▎                                     | 19300/28972 [2:35:23<1:14:58,  2.15it/s]"
     ]
    },
    {
     "name": "stdout",
     "output_type": "stream",
     "text": [
      "ENSE00001671444_002 failed\n",
      "ENSE00001671444_003 failed\n",
      "ENSE00001671444_004 failed\n",
      "ENSE00001671444_006 failed\n",
      "ENSE00001671444_007 failed\n",
      "ENSE00001671444_009 failed\n",
      "ENSE00001671444_012 failed\n",
      "ENSE00001671444_015 failed\n",
      "ENSE00001671444_020 failed\n",
      "ENSE00001671444_022 failed\n",
      "ENSE00001671444_023 failed\n",
      "ENSE00001671444_024 failed\n"
     ]
    },
    {
     "name": "stderr",
     "output_type": "stream",
     "text": [
      " 67%|████████████████████████████████████████████████████████████████████████████                                     | 19501/28972 [2:36:54<1:13:36,  2.14it/s]"
     ]
    },
    {
     "name": "stdout",
     "output_type": "stream",
     "text": [
      "ENSE00001682514_001 failed\n",
      "ENSE00001682514_003 failed\n",
      "ENSE00001682514_004 failed\n",
      "ENSE00001682514_006 failed\n",
      "ENSE00001682514_008 failed\n",
      "ENSE00001682514_009 failed\n",
      "ENSE00001682514_010 failed\n",
      "ENSE00001682514_012 failed\n",
      "ENSE00001682514_013 failed\n",
      "ENSE00001682514_014 failed\n",
      "ENSE00001682514_015 failed\n",
      "ENSE00001682514_016 failed\n",
      "ENSE00001682514_017 failed\n",
      "ENSE00001682514_018 failed\n",
      "ENSE00001682514_021 failed\n",
      "ENSE00001682514_022 failed\n"
     ]
    },
    {
     "name": "stderr",
     "output_type": "stream",
     "text": [
      " 73%|█████████████████████████████████████████████████████████████████████████████████▉                               | 21008/28972 [2:48:56<1:06:36,  1.99it/s]"
     ]
    },
    {
     "name": "stdout",
     "output_type": "stream",
     "text": [
      "ENSE00001741292_002 failed\n",
      "ENSE00001741292_006 failed\n",
      "ENSE00001741292_008 failed\n",
      "ENSE00001741292_009 failed\n",
      "ENSE00001741292_010 failed\n",
      "ENSE00001741292_011 failed\n",
      "ENSE00001741292_013 failed\n",
      "ENSE00001741292_015 failed\n"
     ]
    },
    {
     "name": "stderr",
     "output_type": "stream",
     "text": [
      " 76%|███████████████████████████████████████████████████████████████████████████████████████                            | 21922/28972 [2:56:05<07:47, 15.07it/s]"
     ]
    },
    {
     "name": "stdout",
     "output_type": "stream",
     "text": [
      "ENSE00001768088_001 failed\n",
      "ENSE00001768088_002 failed\n",
      "ENSE00001768088_003 failed\n",
      "ENSE00001768088_004 failed\n",
      "ENSE00001768088_005 failed\n",
      "ENSE00001768088_007 failed\n",
      "ENSE00001768088_008 failed\n",
      "ENSE00001768088_009 failed\n",
      "ENSE00001768088_010 failed\n",
      "ENSE00001768088_011 failed\n",
      "ENSE00001768088_013 failed\n",
      "ENSE00001768088_014 failed\n",
      "ENSE00001768088_015 failed\n",
      "ENSE00001768088_017 failed\n",
      "ENSE00001768088_018 failed\n",
      "ENSE00001768088_019 failed\n"
     ]
    },
    {
     "name": "stderr",
     "output_type": "stream",
     "text": [
      " 76%|███████████████████████████████████████████████████████████████████████████████████████                            | 21938/28972 [2:56:12<42:19,  2.77it/s]"
     ]
    },
    {
     "name": "stdout",
     "output_type": "stream",
     "text": [
      "ENSE00001768543_001 failed\n",
      "ENSE00001768543_003 failed\n",
      "ENSE00001768543_004 failed\n",
      "ENSE00001768543_005 failed\n",
      "ENSE00001768543_006 failed\n",
      "ENSE00001768543_008 failed\n",
      "ENSE00001768543_009 failed\n",
      "ENSE00001768543_010 failed\n",
      "ENSE00001768543_012 failed\n",
      "ENSE00001768543_013 failed\n",
      "ENSE00001768543_014 failed\n",
      "ENSE00001768543_015 failed\n",
      "ENSE00001768543_016 failed\n",
      "ENSE00001768543_017 failed\n",
      "ENSE00001768543_019 failed\n",
      "ENSE00001768543_022 failed\n",
      "ENSE00001768543_023 failed\n",
      "ENSE00001768543_024 failed\n"
     ]
    },
    {
     "name": "stderr",
     "output_type": "stream",
     "text": [
      " 81%|█████████████████████████████████████████████████████████████████████████████████████████████▏                     | 23468/28972 [3:08:23<43:28,  2.11it/s]"
     ]
    },
    {
     "name": "stdout",
     "output_type": "stream",
     "text": [
      "ENSE00002296409_004 failed\n",
      "ENSE00002296409_005 failed\n",
      "ENSE00002296409_008 failed\n",
      "ENSE00002296409_028 failed\n",
      "ENSE00002296409_030 failed\n"
     ]
    },
    {
     "name": "stderr",
     "output_type": "stream",
     "text": [
      " 81%|█████████████████████████████████████████████████████████████████████████████████████████████▍                     | 23530/28972 [3:08:43<06:19, 14.35it/s]"
     ]
    },
    {
     "name": "stdout",
     "output_type": "stream",
     "text": [
      "ENSE00002303011_001 failed\n",
      "ENSE00002303011_002 failed\n",
      "ENSE00002303011_004 failed\n",
      "ENSE00002303011_005 failed\n",
      "ENSE00002303011_006 failed\n",
      "ENSE00002303011_008 failed\n",
      "ENSE00002303011_010 failed\n",
      "ENSE00002303011_011 failed\n",
      "ENSE00002303011_013 failed\n",
      "ENSE00002303011_014 failed\n",
      "ENSE00002303011_015 failed\n",
      "ENSE00002303011_016 failed\n",
      "ENSE00002303011_017 failed\n",
      "ENSE00002303011_018 failed\n",
      "ENSE00002303011_019 failed\n",
      "ENSE00002303011_020 failed\n",
      "ENSE00002303011_021 failed\n",
      "ENSE00002303011_022 failed\n",
      "ENSE00002303011_025 failed\n",
      "ENSE00002303011_026 failed\n",
      "ENSE00002303011_027 failed\n",
      "ENSE00002303011_028 failed\n",
      "ENSE00002303011_029 failed\n"
     ]
    },
    {
     "name": "stderr",
     "output_type": "stream",
     "text": [
      " 86%|██████████████████████████████████████████████████████████████████████████████████████████████████▋                | 24857/28972 [3:19:18<33:54,  2.02it/s]"
     ]
    },
    {
     "name": "stdout",
     "output_type": "stream",
     "text": [
      "ENSE00002347089_001 failed\n",
      "ENSE00002347089_004 failed\n",
      "ENSE00002347089_006 failed\n",
      "ENSE00002347089_009 failed\n",
      "ENSE00002347089_012 failed\n",
      "ENSE00002347089_015 failed\n"
     ]
    },
    {
     "name": "stderr",
     "output_type": "stream",
     "text": [
      " 94%|███████████████████████████████████████████████████████████████████████████████████████████████████████████▉       | 27206/28972 [3:38:04<14:14,  2.07it/s]"
     ]
    },
    {
     "name": "stdout",
     "output_type": "stream",
     "text": [
      "ENSE00002391992_033 failed\n",
      "ENSE00002391992_035 failed\n",
      "ENSE00002391992_036 failed\n",
      "ENSE00002391992_037 failed\n"
     ]
    },
    {
     "name": "stderr",
     "output_type": "stream",
     "text": [
      "\r",
      " 94%|████████████████████████████████████████████████████████████████████████████████████████████████████████████       | 27211/28972 [3:38:05<06:40,  4.39it/s]"
     ]
    },
    {
     "name": "stdout",
     "output_type": "stream",
     "text": [
      "ENSE00002392171_002 failed\n",
      "ENSE00002392171_003 failed\n",
      "ENSE00002392171_004 failed\n",
      "ENSE00002392171_008 failed\n",
      "ENSE00002392171_009 failed\n",
      "ENSE00002392171_011 failed\n",
      "ENSE00002392171_015 failed\n",
      "ENSE00002392171_018 failed\n",
      "ENSE00002392171_019 failed\n",
      "ENSE00002392171_020 failed\n",
      "ENSE00002392171_023 failed\n"
     ]
    },
    {
     "name": "stderr",
     "output_type": "stream",
     "text": [
      "100%|███████████████████████████████████████████████████████████████████████████████████████████████████████████████████| 28972/28972 [3:52:13<00:00,  2.08it/s]\n"
     ]
    }
   ],
   "source": [
    "def predictSplicing(seq,models):\n",
    "    outputs = []\n",
    "    for i in range(seq.shape[0]):\n",
    "        batch_features = torch.tensor(seq[i,:,:], device=device).float().unsqueeze(0)\n",
    "        batch_features = torch.swapaxes(batch_features,1,2)\n",
    "        prediction = ([models[i](batch_features)[0].detach() for i in range(n_models)])\n",
    "        prediction = torch.stack(prediction)\n",
    "        prediction = torch.mean(prediction,dim=0)\n",
    "        outputs.append(prediction)\n",
    "    \n",
    "    outputs = torch.cat(outputs,dim=2)\n",
    "    outputs = outputs.cpu().detach().numpy()\n",
    "    return outputs\n",
    "\n",
    "def plotPrediction(outputs):\n",
    "    plt.rcParams.update({'font.size': 18})\n",
    "    fig, (ax1, ax2) = plt.subplots(2, 1,figsize=(22, 6),sharex=True)\n",
    "    x = np.arange(outputs.shape[2])\n",
    "    ax1.plot(x,outputs[0,1,:],linewidth=2,zorder=-32)\n",
    "    ax2.plot(x,outputs[0,2,:],linewidth=2,zorder=-32)\n",
    "    plt.xlabel('Distance from transcript start (nt)')\n",
    "    ax1.set_ylabel('Acceptor score')\n",
    "    ax2.set_ylabel('Donor Score')\n",
    "    ax1.legend(prop={'size': 14})\n",
    "    ax2.legend(prop={'size': 14})\n",
    "    plt.tight_layout()\n",
    "    plt.show()\n",
    "\n",
    "def ceil_div(x, y):\n",
    "\n",
    "    return int(ceil(float(x)/y))\n",
    "\n",
    "\n",
    "IN_MAP = np.asarray([[0, 0, 0, 0],\n",
    "                     [1, 0, 0, 0],\n",
    "                     [0, 1, 0, 0],\n",
    "                     [0, 0, 1, 0],\n",
    "                     [0, 0, 0, 1]])\n",
    "\n",
    "def one_hot_encode(Xd):\n",
    "\n",
    "    return IN_MAP[Xd.astype('int8')]\n",
    "\n",
    "def reformat_data(X0):\n",
    "    # This function converts X0, Y0 of the create_datapoints function into\n",
    "    # blocks such that the data is broken down into data points where the\n",
    "    # input is a sequence of length SL+CL_max corresponding to SL nucleotides\n",
    "    # of interest and CL_max context nucleotides, the output is a sequence of\n",
    "    # length SL corresponding to the splicing information of the nucleotides\n",
    "    # of interest. The CL_max context nucleotides are such that they are\n",
    "    # CL_max/2 on either side of the SL nucleotides of interest.\n",
    "\n",
    "    num_points = ceil_div(len(X0)-CL_max, SL)\n",
    "\n",
    "    Xd = np.zeros((num_points, SL+CL_max))\n",
    "    X0 = np.pad(X0, [0, SL], 'constant', constant_values=0)\n",
    "\n",
    "    for i in range(num_points):\n",
    "        Xd[i] = X0[SL*i:CL_max+SL*(i+1)]\n",
    "\n",
    "    return Xd\n",
    "\n",
    "def seqToArray(seq,strand):\n",
    "    #seq = 'N'*(CL_max//2) + seq + 'N'*(CL_max//2)\n",
    "    seq = seq.upper()\n",
    "    seq = re.sub(r'[^AGTC]', '0',seq)\n",
    "    seq = seq.replace('A', '1').replace('C', '2')\n",
    "    seq = seq.replace('G', '3').replace('T', '4').replace('N', '0')\n",
    "    if strand == '+':\n",
    "        X0 = np.asarray([int(x) for x in seq])\n",
    "            \n",
    "    elif strand == '-':\n",
    "        X0 = (5-np.asarray([int(x) for x in seq[::-1]])) % 5  # Reverse complement\n",
    "        \n",
    "    Xd = reformat_data(X0)\n",
    "    return  one_hot_encode(Xd)\n",
    "\n",
    "results = {}\n",
    "\n",
    "for i in tqdm(range(mutant_snv.shape[0])):\n",
    "    try:\n",
    "        category,chrm,strand,pos,ref_s,alt_s,transcript_id,event_id = mutant_snv.iloc[i,:][['category','chr','strand','snp_position_hg38_0based_start','ref_allele', 'alt_allele','ensembl_transcript_id','internal_id']]\n",
    "        pos = int(pos)+1\n",
    "        chrm = f'chr{chrm}'\n",
    "        gene_start = gtf[transcript_id].start\n",
    "        gene_end = gtf[transcript_id].end\n",
    "        start,end = np.max([pos-CL_max//2-2500+1,gene_start]),np.min([pos+2500+CL_max//2,gene_end])\n",
    "        chrm_length = len(fasta[chrm])\n",
    "        if start < 1:\n",
    "            start = 1\n",
    "        if end >chrm_length:\n",
    "            end = chrm_length\n",
    "\n",
    "        pos_s = pos-start\n",
    "\n",
    "        ref = fasta[chrm][start-1:end].seq\n",
    "        alt = ref\n",
    "        ref_len = len(ref_s)\n",
    "        alt_len = len(alt_s)\n",
    "        #print(strand)\n",
    "        #print(ref_s,ref[pos_s:(pos_s+ref_len)])\n",
    "        assert ref_s == ref[pos_s:(pos_s+ref_len)]\n",
    "        alt = alt[:pos_s]+alt_s+alt[(pos_s+ref_len):]\n",
    "        alt_align = np.arange(len(ref))\n",
    "        alt_align = np.concatenate([alt_align[:pos_s],np.repeat(pos_s,alt_len),alt_align[pos_s+ref_len:]])\n",
    "\n",
    "        ref = 'N'*(CL_max//2+2500-1-(pos-start))+ref+(CL_max//2+2500-(end-pos))*'N'\n",
    "        alt = 'N'*(CL_max//2+2500-1-(pos-start))+alt+(CL_max//2+2500-(end-pos))*'N'\n",
    "        assert len(ref)==45000\n",
    "        ref_len2 = len(ref)\n",
    "        alt_len2 = len(alt)\n",
    "\n",
    "        ref = seqToArray(ref,strand)\n",
    "        alt = seqToArray(alt,strand)\n",
    "\n",
    "        ref_prediction = predictSplicing(ref,models)[0,:,:]\n",
    "        alt_prediction = predictSplicing(alt,models)[0,:,:]\n",
    "\n",
    "        #tmp = np.zeros_like(ref_prediction)\n",
    "        if strand=='-':\n",
    "            ref_prediction = ref_prediction[:,::-1]\n",
    "            alt_prediction = alt_prediction[:,::-1]\n",
    "\n",
    "        ref_acceptor = ref_prediction[1,:]\n",
    "        alt_acceptor = alt_prediction[1,:]\n",
    "        ref_donor = ref_prediction[2,:]\n",
    "        alt_donor = alt_prediction[2,:]\n",
    "\n",
    "        #delta_1_a = alt_acceptor[:pos_s]-ref_acceptor[:pos_s]\n",
    "        #delta_1_d = alt_donor[:pos_s]-ref_donor[:pos_s]\n",
    "        #delta_3_a = alt_acceptor[pos_s+alt_len:]-ref_acceptor[pos_s+ref_len:]\n",
    "        #delta_3_d = alt_donor[pos_s+alt_len:]-ref_donor[pos_s+ref_len:]\n",
    "\n",
    "        #if ref_len2==alt_len2:\n",
    "        #    delta_2_a = alt_acceptor[pos_s:pos_s+ref_len]-ref_acceptor[pos_s:pos_s+ref_len]\n",
    "        #    delta_2_d = alt_donor[pos_s:pos_s+ref_len]-ref_donor[pos_s:pos_s+ref_len]\n",
    "        #elif ref_len2>alt_len2:\n",
    "        #    a_pad = np.pad(alt_acceptor[pos_s:pos_s+alt_len],(0, ref_len-alt_len), 'constant', constant_values=0)\n",
    "        #    d_pad = np.pad(alt_donor[pos_s:pos_s+alt_len],(0, ref_len-alt_len), 'constant', constant_values=0)\n",
    "        #    delta_2_a = a_pad-ref_acceptor[pos_s:pos_s+ref_len]\n",
    "        #    delta_2_d = d_pad-ref_donor[pos_s:pos_s+ref_len]\n",
    "\n",
    "       # elif ref_len2<alt_len2:\n",
    "       #     a_pad = np.pad(ref_acceptor[pos_s:pos_s+ref_len],(0, alt_len-ref_len), 'constant', constant_values=0)\n",
    "       #     d_pad = np.pad(ref_donor[pos_s:pos_s+ref_len],(0, alt_len-ref_len), 'constant', constant_values=0)\n",
    "       #     delta_2_a = alt_acceptor[pos_s:pos_s+alt_len]-a_pad\n",
    "       #     delta_2_d = alt_donor[pos_s:pos_s+alt_len]-d_pad\n",
    "\n",
    "       #     delta_2_a =np.append(delta_2_a[:ref_len-1],delta_2_a[np.argmax(np.absolute(delta_2_a[ref_len-1:alt_len]))])\n",
    "       #     delta_2_d =np.append(delta_2_d[:ref_len-1],delta_2_d[np.argmax(np.absolute(delta_2_d[ref_len-1:alt_len]))])\n",
    "\n",
    "        #acceptorDelta = np.concatenate([delta_1_a,delta_2_a,delta_3_a])\n",
    "        #donorDelta = np.concatenate([delta_1_d,delta_2_d,delta_3_d])\n",
    "        acceptorDelta = alt_acceptor-ref_acceptor\n",
    "        donorDelta = alt_donor-ref_donor\n",
    "        top_a_creation_pos = np.argmax(acceptorDelta)\n",
    "        top_d_creation_pos = np.argmax(donorDelta)\n",
    "        top_a_disruption_pos = np.argmin(acceptorDelta)\n",
    "        top_d_disruption_pos = np.argmin(donorDelta)\n",
    "        top_a_creation_delta = acceptorDelta[top_a_creation_pos]\n",
    "        top_d_creation_delta = donorDelta[top_d_creation_pos]\n",
    "        top_a_disruption_delta = acceptorDelta[top_a_disruption_pos]\n",
    "        top_d_disruption_delta = donorDelta[top_d_disruption_pos]\n",
    "\n",
    "        results[event_id] = [gene_start,gene_end,top_a_creation_pos,top_d_creation_pos,top_a_disruption_pos,top_d_disruption_pos,top_a_creation_delta,top_d_creation_delta,-top_a_disruption_delta,-top_d_disruption_delta]\n",
    "    except:\n",
    "        print('{} failed'.format(event_id))"
   ]
  },
  {
   "cell_type": "code",
   "execution_count": 18,
   "metadata": {},
   "outputs": [],
   "source": [
    "with open('/odinn/tmp/benediktj/Data/SplicePrediction-050422/mfas_transformer_gtex_190423.pkl', 'wb') as f:\n",
    "    pickle.dump(results, f)"
   ]
  },
  {
   "cell_type": "code",
   "execution_count": 10,
   "metadata": {},
   "outputs": [],
   "source": [
    "#with open('/odinn/tmp/benediktj/Data/SplicePrediction-050422/no_sqtl_deltas_transformer_gtex_130223.pkl', 'rb') as f:\n",
    "#    results1 = pickle.load(f)"
   ]
  },
  {
   "cell_type": "code",
   "execution_count": 17,
   "metadata": {},
   "outputs": [],
   "source": [
    "#with open('/odinn/tmp/benediktj/Data/SplicePrediction-050422/mfas_transformer_gtex_130323.pkl', 'rb') as f:\n",
    "#    results = pickle.load(f)"
   ]
  },
  {
   "cell_type": "code",
   "execution_count": 19,
   "metadata": {},
   "outputs": [],
   "source": [
    "df = pd.DataFrame(results).T\n",
    "df.columns = ['gene_start','gene_end','top_a_creation_pos','top_d_creation_pos','top_a_disruption_pos','top_d_disruption_pos','top_a_creation_delta','top_d_creation_delta','top_a_disruption_delta','top_d_disruption_delta']\n",
    "df.index.name = 'internal_id'"
   ]
  },
  {
   "cell_type": "code",
   "execution_count": 20,
   "metadata": {},
   "outputs": [],
   "source": [
    "results = snv_list.merge(df,on='internal_id')"
   ]
  },
  {
   "cell_type": "code",
   "execution_count": 21,
   "metadata": {},
   "outputs": [
    {
     "data": {
      "text/html": [
       "<div>\n",
       "<style scoped>\n",
       "    .dataframe tbody tr th:only-of-type {\n",
       "        vertical-align: middle;\n",
       "    }\n",
       "\n",
       "    .dataframe tbody tr th {\n",
       "        vertical-align: top;\n",
       "    }\n",
       "\n",
       "    .dataframe thead th {\n",
       "        text-align: right;\n",
       "    }\n",
       "</style>\n",
       "<table border=\"1\" class=\"dataframe\">\n",
       "  <thead>\n",
       "    <tr style=\"text-align: right;\">\n",
       "      <th></th>\n",
       "      <th>internal_id</th>\n",
       "      <th>category</th>\n",
       "      <th>ref_allele</th>\n",
       "      <th>alt_allele</th>\n",
       "      <th>start_hg19_0based</th>\n",
       "      <th>end_hg19_0based</th>\n",
       "      <th>strand</th>\n",
       "      <th>intron1_len</th>\n",
       "      <th>exon_len</th>\n",
       "      <th>intron2_len</th>\n",
       "      <th>...</th>\n",
       "      <th>gene_start</th>\n",
       "      <th>gene_end</th>\n",
       "      <th>top_a_creation_pos</th>\n",
       "      <th>top_d_creation_pos</th>\n",
       "      <th>top_a_disruption_pos</th>\n",
       "      <th>top_d_disruption_pos</th>\n",
       "      <th>top_a_creation_delta</th>\n",
       "      <th>top_d_creation_delta</th>\n",
       "      <th>top_a_disruption_delta</th>\n",
       "      <th>top_d_disruption_delta</th>\n",
       "    </tr>\n",
       "  </thead>\n",
       "  <tbody>\n",
       "    <tr>\n",
       "      <th>0</th>\n",
       "      <td>ENSE00000332835_007</td>\n",
       "      <td>mutant</td>\n",
       "      <td>C</td>\n",
       "      <td>T</td>\n",
       "      <td>48837777</td>\n",
       "      <td>48837946</td>\n",
       "      <td>-</td>\n",
       "      <td>51</td>\n",
       "      <td>57</td>\n",
       "      <td>62</td>\n",
       "      <td>...</td>\n",
       "      <td>48973723.0</td>\n",
       "      <td>49002234.0</td>\n",
       "      <td>2497.0</td>\n",
       "      <td>856.0</td>\n",
       "      <td>2487.0</td>\n",
       "      <td>2771.0</td>\n",
       "      <td>0.021577</td>\n",
       "      <td>0.000137</td>\n",
       "      <td>0.043586</td>\n",
       "      <td>0.000134</td>\n",
       "    </tr>\n",
       "    <tr>\n",
       "      <th>1</th>\n",
       "      <td>ENSE00000338771_002</td>\n",
       "      <td>mutant</td>\n",
       "      <td>C</td>\n",
       "      <td>T</td>\n",
       "      <td>41029796</td>\n",
       "      <td>41029965</td>\n",
       "      <td>-</td>\n",
       "      <td>30</td>\n",
       "      <td>99</td>\n",
       "      <td>41</td>\n",
       "      <td>...</td>\n",
       "      <td>40735884.0</td>\n",
       "      <td>40755851.0</td>\n",
       "      <td>3256.0</td>\n",
       "      <td>2474.0</td>\n",
       "      <td>2078.0</td>\n",
       "      <td>2748.0</td>\n",
       "      <td>0.001504</td>\n",
       "      <td>0.045550</td>\n",
       "      <td>0.002241</td>\n",
       "      <td>0.001570</td>\n",
       "    </tr>\n",
       "    <tr>\n",
       "      <th>2</th>\n",
       "      <td>ENSE00000338771_003</td>\n",
       "      <td>mutant</td>\n",
       "      <td>C</td>\n",
       "      <td>T</td>\n",
       "      <td>41029796</td>\n",
       "      <td>41029965</td>\n",
       "      <td>-</td>\n",
       "      <td>30</td>\n",
       "      <td>99</td>\n",
       "      <td>41</td>\n",
       "      <td>...</td>\n",
       "      <td>40735884.0</td>\n",
       "      <td>40755851.0</td>\n",
       "      <td>2074.0</td>\n",
       "      <td>3141.0</td>\n",
       "      <td>3252.0</td>\n",
       "      <td>2470.0</td>\n",
       "      <td>0.000553</td>\n",
       "      <td>0.000319</td>\n",
       "      <td>0.000323</td>\n",
       "      <td>0.000929</td>\n",
       "    </tr>\n",
       "    <tr>\n",
       "      <th>3</th>\n",
       "      <td>ENSE00000338771_006</td>\n",
       "      <td>mutant</td>\n",
       "      <td>G</td>\n",
       "      <td>T</td>\n",
       "      <td>41029796</td>\n",
       "      <td>41029965</td>\n",
       "      <td>-</td>\n",
       "      <td>30</td>\n",
       "      <td>99</td>\n",
       "      <td>41</td>\n",
       "      <td>...</td>\n",
       "      <td>40735884.0</td>\n",
       "      <td>40755851.0</td>\n",
       "      <td>2034.0</td>\n",
       "      <td>2704.0</td>\n",
       "      <td>3212.0</td>\n",
       "      <td>4971.0</td>\n",
       "      <td>0.000740</td>\n",
       "      <td>0.001382</td>\n",
       "      <td>0.000700</td>\n",
       "      <td>0.000811</td>\n",
       "    </tr>\n",
       "    <tr>\n",
       "      <th>4</th>\n",
       "      <td>ENSE00000338771_008</td>\n",
       "      <td>mutant</td>\n",
       "      <td>G</td>\n",
       "      <td>A</td>\n",
       "      <td>41029796</td>\n",
       "      <td>41029965</td>\n",
       "      <td>-</td>\n",
       "      <td>30</td>\n",
       "      <td>99</td>\n",
       "      <td>41</td>\n",
       "      <td>...</td>\n",
       "      <td>40735884.0</td>\n",
       "      <td>40755851.0</td>\n",
       "      <td>2024.0</td>\n",
       "      <td>2694.0</td>\n",
       "      <td>3202.0</td>\n",
       "      <td>4961.0</td>\n",
       "      <td>0.001001</td>\n",
       "      <td>0.001159</td>\n",
       "      <td>0.000621</td>\n",
       "      <td>0.000848</td>\n",
       "    </tr>\n",
       "    <tr>\n",
       "      <th>...</th>\n",
       "      <td>...</td>\n",
       "      <td>...</td>\n",
       "      <td>...</td>\n",
       "      <td>...</td>\n",
       "      <td>...</td>\n",
       "      <td>...</td>\n",
       "      <td>...</td>\n",
       "      <td>...</td>\n",
       "      <td>...</td>\n",
       "      <td>...</td>\n",
       "      <td>...</td>\n",
       "      <td>...</td>\n",
       "      <td>...</td>\n",
       "      <td>...</td>\n",
       "      <td>...</td>\n",
       "      <td>...</td>\n",
       "      <td>...</td>\n",
       "      <td>...</td>\n",
       "      <td>...</td>\n",
       "      <td>...</td>\n",
       "      <td>...</td>\n",
       "    </tr>\n",
       "    <tr>\n",
       "      <th>28675</th>\n",
       "      <td>ENSE00002429678_001</td>\n",
       "      <td>mutant</td>\n",
       "      <td>C</td>\n",
       "      <td>T</td>\n",
       "      <td>185985441</td>\n",
       "      <td>185985610</td>\n",
       "      <td>-</td>\n",
       "      <td>33</td>\n",
       "      <td>93</td>\n",
       "      <td>44</td>\n",
       "      <td>...</td>\n",
       "      <td>186147201.0</td>\n",
       "      <td>186362237.0</td>\n",
       "      <td>3317.0</td>\n",
       "      <td>2522.0</td>\n",
       "      <td>2221.0</td>\n",
       "      <td>2409.0</td>\n",
       "      <td>0.000024</td>\n",
       "      <td>0.000079</td>\n",
       "      <td>0.001137</td>\n",
       "      <td>0.001386</td>\n",
       "    </tr>\n",
       "    <tr>\n",
       "      <th>28676</th>\n",
       "      <td>ENSE00002429678_012</td>\n",
       "      <td>mutant</td>\n",
       "      <td>T</td>\n",
       "      <td>C</td>\n",
       "      <td>185985441</td>\n",
       "      <td>185985610</td>\n",
       "      <td>-</td>\n",
       "      <td>33</td>\n",
       "      <td>93</td>\n",
       "      <td>44</td>\n",
       "      <td>...</td>\n",
       "      <td>186147201.0</td>\n",
       "      <td>186362237.0</td>\n",
       "      <td>2185.0</td>\n",
       "      <td>3033.0</td>\n",
       "      <td>4191.0</td>\n",
       "      <td>2373.0</td>\n",
       "      <td>0.004445</td>\n",
       "      <td>0.003077</td>\n",
       "      <td>0.000326</td>\n",
       "      <td>0.000360</td>\n",
       "    </tr>\n",
       "    <tr>\n",
       "      <th>28677</th>\n",
       "      <td>ENSE00002429678_026</td>\n",
       "      <td>mutant</td>\n",
       "      <td>G</td>\n",
       "      <td>C</td>\n",
       "      <td>185985441</td>\n",
       "      <td>185985610</td>\n",
       "      <td>-</td>\n",
       "      <td>33</td>\n",
       "      <td>93</td>\n",
       "      <td>44</td>\n",
       "      <td>...</td>\n",
       "      <td>186147201.0</td>\n",
       "      <td>186362237.0</td>\n",
       "      <td>4139.0</td>\n",
       "      <td>284.0</td>\n",
       "      <td>2133.0</td>\n",
       "      <td>2981.0</td>\n",
       "      <td>0.001424</td>\n",
       "      <td>0.001019</td>\n",
       "      <td>0.008637</td>\n",
       "      <td>0.011826</td>\n",
       "    </tr>\n",
       "    <tr>\n",
       "      <th>28678</th>\n",
       "      <td>ENSE00002429678_035</td>\n",
       "      <td>mutant</td>\n",
       "      <td>G</td>\n",
       "      <td>C</td>\n",
       "      <td>185985441</td>\n",
       "      <td>185985610</td>\n",
       "      <td>-</td>\n",
       "      <td>33</td>\n",
       "      <td>93</td>\n",
       "      <td>44</td>\n",
       "      <td>...</td>\n",
       "      <td>186147201.0</td>\n",
       "      <td>186362237.0</td>\n",
       "      <td>2104.0</td>\n",
       "      <td>2952.0</td>\n",
       "      <td>2951.0</td>\n",
       "      <td>255.0</td>\n",
       "      <td>0.009079</td>\n",
       "      <td>0.016149</td>\n",
       "      <td>0.003198</td>\n",
       "      <td>0.000737</td>\n",
       "    </tr>\n",
       "    <tr>\n",
       "      <th>28679</th>\n",
       "      <td>ENSE00002429678_036</td>\n",
       "      <td>mutant</td>\n",
       "      <td>G</td>\n",
       "      <td>A</td>\n",
       "      <td>185985441</td>\n",
       "      <td>185985610</td>\n",
       "      <td>-</td>\n",
       "      <td>33</td>\n",
       "      <td>93</td>\n",
       "      <td>44</td>\n",
       "      <td>...</td>\n",
       "      <td>186147201.0</td>\n",
       "      <td>186362237.0</td>\n",
       "      <td>2951.0</td>\n",
       "      <td>3310.0</td>\n",
       "      <td>2104.0</td>\n",
       "      <td>2952.0</td>\n",
       "      <td>0.000137</td>\n",
       "      <td>0.000037</td>\n",
       "      <td>0.000651</td>\n",
       "      <td>0.001135</td>\n",
       "    </tr>\n",
       "  </tbody>\n",
       "</table>\n",
       "<p>28680 rows × 35 columns</p>\n",
       "</div>"
      ],
      "text/plain": [
       "               internal_id category ref_allele alt_allele  start_hg19_0based  \\\n",
       "0      ENSE00000332835_007   mutant          C          T           48837777   \n",
       "1      ENSE00000338771_002   mutant          C          T           41029796   \n",
       "2      ENSE00000338771_003   mutant          C          T           41029796   \n",
       "3      ENSE00000338771_006   mutant          G          T           41029796   \n",
       "4      ENSE00000338771_008   mutant          G          A           41029796   \n",
       "...                    ...      ...        ...        ...                ...   \n",
       "28675  ENSE00002429678_001   mutant          C          T          185985441   \n",
       "28676  ENSE00002429678_012   mutant          T          C          185985441   \n",
       "28677  ENSE00002429678_026   mutant          G          C          185985441   \n",
       "28678  ENSE00002429678_035   mutant          G          C          185985441   \n",
       "28679  ENSE00002429678_036   mutant          G          A          185985441   \n",
       "\n",
       "       end_hg19_0based strand  intron1_len  exon_len  intron2_len  ...  \\\n",
       "0             48837946      -           51        57           62  ...   \n",
       "1             41029965      -           30        99           41  ...   \n",
       "2             41029965      -           30        99           41  ...   \n",
       "3             41029965      -           30        99           41  ...   \n",
       "4             41029965      -           30        99           41  ...   \n",
       "...                ...    ...          ...       ...          ...  ...   \n",
       "28675        185985610      -           33        93           44  ...   \n",
       "28676        185985610      -           33        93           44  ...   \n",
       "28677        185985610      -           33        93           44  ...   \n",
       "28678        185985610      -           33        93           44  ...   \n",
       "28679        185985610      -           33        93           44  ...   \n",
       "\n",
       "        gene_start     gene_end top_a_creation_pos top_d_creation_pos  \\\n",
       "0       48973723.0   49002234.0             2497.0              856.0   \n",
       "1       40735884.0   40755851.0             3256.0             2474.0   \n",
       "2       40735884.0   40755851.0             2074.0             3141.0   \n",
       "3       40735884.0   40755851.0             2034.0             2704.0   \n",
       "4       40735884.0   40755851.0             2024.0             2694.0   \n",
       "...            ...          ...                ...                ...   \n",
       "28675  186147201.0  186362237.0             3317.0             2522.0   \n",
       "28676  186147201.0  186362237.0             2185.0             3033.0   \n",
       "28677  186147201.0  186362237.0             4139.0              284.0   \n",
       "28678  186147201.0  186362237.0             2104.0             2952.0   \n",
       "28679  186147201.0  186362237.0             2951.0             3310.0   \n",
       "\n",
       "       top_a_disruption_pos  top_d_disruption_pos  top_a_creation_delta  \\\n",
       "0                    2487.0                2771.0              0.021577   \n",
       "1                    2078.0                2748.0              0.001504   \n",
       "2                    3252.0                2470.0              0.000553   \n",
       "3                    3212.0                4971.0              0.000740   \n",
       "4                    3202.0                4961.0              0.001001   \n",
       "...                     ...                   ...                   ...   \n",
       "28675                2221.0                2409.0              0.000024   \n",
       "28676                4191.0                2373.0              0.004445   \n",
       "28677                2133.0                2981.0              0.001424   \n",
       "28678                2951.0                 255.0              0.009079   \n",
       "28679                2104.0                2952.0              0.000137   \n",
       "\n",
       "       top_d_creation_delta  top_a_disruption_delta top_d_disruption_delta  \n",
       "0                  0.000137                0.043586               0.000134  \n",
       "1                  0.045550                0.002241               0.001570  \n",
       "2                  0.000319                0.000323               0.000929  \n",
       "3                  0.001382                0.000700               0.000811  \n",
       "4                  0.001159                0.000621               0.000848  \n",
       "...                     ...                     ...                    ...  \n",
       "28675              0.000079                0.001137               0.001386  \n",
       "28676              0.003077                0.000326               0.000360  \n",
       "28677              0.001019                0.008637               0.011826  \n",
       "28678              0.016149                0.003198               0.000737  \n",
       "28679              0.000037                0.000651               0.001135  \n",
       "\n",
       "[28680 rows x 35 columns]"
      ]
     },
     "execution_count": 21,
     "metadata": {},
     "output_type": "execute_result"
    }
   ],
   "source": [
    "results"
   ]
  },
  {
   "cell_type": "code",
   "execution_count": 22,
   "metadata": {},
   "outputs": [
    {
     "data": {
      "text/html": [
       "<div>\n",
       "<style scoped>\n",
       "    .dataframe tbody tr th:only-of-type {\n",
       "        vertical-align: middle;\n",
       "    }\n",
       "\n",
       "    .dataframe tbody tr th {\n",
       "        vertical-align: top;\n",
       "    }\n",
       "\n",
       "    .dataframe thead th {\n",
       "        text-align: right;\n",
       "    }\n",
       "</style>\n",
       "<table border=\"1\" class=\"dataframe\">\n",
       "  <thead>\n",
       "    <tr style=\"text-align: right;\">\n",
       "      <th></th>\n",
       "      <th>internal_id</th>\n",
       "      <th>category</th>\n",
       "      <th>ref_allele</th>\n",
       "      <th>alt_allele</th>\n",
       "      <th>start_hg19_0based</th>\n",
       "      <th>end_hg19_0based</th>\n",
       "      <th>strand</th>\n",
       "      <th>intron1_len</th>\n",
       "      <th>exon_len</th>\n",
       "      <th>intron2_len</th>\n",
       "      <th>...</th>\n",
       "      <th>gene_start</th>\n",
       "      <th>gene_end</th>\n",
       "      <th>top_a_creation_pos</th>\n",
       "      <th>top_d_creation_pos</th>\n",
       "      <th>top_a_disruption_pos</th>\n",
       "      <th>top_d_disruption_pos</th>\n",
       "      <th>top_a_creation_delta</th>\n",
       "      <th>top_d_creation_delta</th>\n",
       "      <th>top_a_disruption_delta</th>\n",
       "      <th>top_d_disruption_delta</th>\n",
       "    </tr>\n",
       "  </thead>\n",
       "  <tbody>\n",
       "    <tr>\n",
       "      <th>1</th>\n",
       "      <td>ENSE00000338771_002</td>\n",
       "      <td>mutant</td>\n",
       "      <td>C</td>\n",
       "      <td>T</td>\n",
       "      <td>41029796</td>\n",
       "      <td>41029965</td>\n",
       "      <td>-</td>\n",
       "      <td>30</td>\n",
       "      <td>99</td>\n",
       "      <td>41</td>\n",
       "      <td>...</td>\n",
       "      <td>40735884.0</td>\n",
       "      <td>40755851.0</td>\n",
       "      <td>3256.0</td>\n",
       "      <td>2474.0</td>\n",
       "      <td>2078.0</td>\n",
       "      <td>2748.0</td>\n",
       "      <td>0.001504</td>\n",
       "      <td>0.045550</td>\n",
       "      <td>0.002241</td>\n",
       "      <td>0.001570</td>\n",
       "    </tr>\n",
       "    <tr>\n",
       "      <th>6</th>\n",
       "      <td>ENSE00000338771_010</td>\n",
       "      <td>mutant</td>\n",
       "      <td>A</td>\n",
       "      <td>T</td>\n",
       "      <td>41029796</td>\n",
       "      <td>41029965</td>\n",
       "      <td>-</td>\n",
       "      <td>30</td>\n",
       "      <td>99</td>\n",
       "      <td>41</td>\n",
       "      <td>...</td>\n",
       "      <td>40735884.0</td>\n",
       "      <td>40755851.0</td>\n",
       "      <td>2797.0</td>\n",
       "      <td>4953.0</td>\n",
       "      <td>2016.0</td>\n",
       "      <td>2686.0</td>\n",
       "      <td>0.000956</td>\n",
       "      <td>0.001354</td>\n",
       "      <td>0.001319</td>\n",
       "      <td>0.002136</td>\n",
       "    </tr>\n",
       "    <tr>\n",
       "      <th>81</th>\n",
       "      <td>ENSE00000406871_005</td>\n",
       "      <td>mutant</td>\n",
       "      <td>G</td>\n",
       "      <td>A</td>\n",
       "      <td>26912304</td>\n",
       "      <td>26912473</td>\n",
       "      <td>-</td>\n",
       "      <td>33</td>\n",
       "      <td>93</td>\n",
       "      <td>44</td>\n",
       "      <td>...</td>\n",
       "      <td>28577574.0</td>\n",
       "      <td>28599279.0</td>\n",
       "      <td>1917.0</td>\n",
       "      <td>2542.0</td>\n",
       "      <td>2601.0</td>\n",
       "      <td>3274.0</td>\n",
       "      <td>0.005492</td>\n",
       "      <td>0.017186</td>\n",
       "      <td>0.005236</td>\n",
       "      <td>0.002352</td>\n",
       "    </tr>\n",
       "    <tr>\n",
       "      <th>82</th>\n",
       "      <td>ENSE00000406871_006</td>\n",
       "      <td>mutant</td>\n",
       "      <td>C</td>\n",
       "      <td>T</td>\n",
       "      <td>26912304</td>\n",
       "      <td>26912473</td>\n",
       "      <td>-</td>\n",
       "      <td>33</td>\n",
       "      <td>93</td>\n",
       "      <td>44</td>\n",
       "      <td>...</td>\n",
       "      <td>28577574.0</td>\n",
       "      <td>28599279.0</td>\n",
       "      <td>1906.0</td>\n",
       "      <td>2531.0</td>\n",
       "      <td>2568.0</td>\n",
       "      <td>3025.0</td>\n",
       "      <td>0.005621</td>\n",
       "      <td>0.024578</td>\n",
       "      <td>0.010333</td>\n",
       "      <td>0.003201</td>\n",
       "    </tr>\n",
       "    <tr>\n",
       "      <th>89</th>\n",
       "      <td>ENSE00000406871_013</td>\n",
       "      <td>mutant</td>\n",
       "      <td>C</td>\n",
       "      <td>T</td>\n",
       "      <td>26912304</td>\n",
       "      <td>26912473</td>\n",
       "      <td>-</td>\n",
       "      <td>33</td>\n",
       "      <td>93</td>\n",
       "      <td>44</td>\n",
       "      <td>...</td>\n",
       "      <td>28577574.0</td>\n",
       "      <td>28599279.0</td>\n",
       "      <td>1862.0</td>\n",
       "      <td>1769.0</td>\n",
       "      <td>2524.0</td>\n",
       "      <td>2487.0</td>\n",
       "      <td>0.004096</td>\n",
       "      <td>0.006584</td>\n",
       "      <td>0.019310</td>\n",
       "      <td>0.006081</td>\n",
       "    </tr>\n",
       "    <tr>\n",
       "      <th>...</th>\n",
       "      <td>...</td>\n",
       "      <td>...</td>\n",
       "      <td>...</td>\n",
       "      <td>...</td>\n",
       "      <td>...</td>\n",
       "      <td>...</td>\n",
       "      <td>...</td>\n",
       "      <td>...</td>\n",
       "      <td>...</td>\n",
       "      <td>...</td>\n",
       "      <td>...</td>\n",
       "      <td>...</td>\n",
       "      <td>...</td>\n",
       "      <td>...</td>\n",
       "      <td>...</td>\n",
       "      <td>...</td>\n",
       "      <td>...</td>\n",
       "      <td>...</td>\n",
       "      <td>...</td>\n",
       "      <td>...</td>\n",
       "      <td>...</td>\n",
       "    </tr>\n",
       "    <tr>\n",
       "      <th>28617</th>\n",
       "      <td>ENSE00002428804_004</td>\n",
       "      <td>mutant</td>\n",
       "      <td>C</td>\n",
       "      <td>T</td>\n",
       "      <td>170736287</td>\n",
       "      <td>170736456</td>\n",
       "      <td>-</td>\n",
       "      <td>33</td>\n",
       "      <td>93</td>\n",
       "      <td>44</td>\n",
       "      <td>...</td>\n",
       "      <td>170996348.0</td>\n",
       "      <td>171026750.0</td>\n",
       "      <td>3372.0</td>\n",
       "      <td>2375.0</td>\n",
       "      <td>2591.0</td>\n",
       "      <td>2499.0</td>\n",
       "      <td>0.001266</td>\n",
       "      <td>0.180835</td>\n",
       "      <td>0.667459</td>\n",
       "      <td>0.973832</td>\n",
       "    </tr>\n",
       "    <tr>\n",
       "      <th>28656</th>\n",
       "      <td>ENSE00002428956_015</td>\n",
       "      <td>mutant</td>\n",
       "      <td>C</td>\n",
       "      <td>T</td>\n",
       "      <td>30219710</td>\n",
       "      <td>30219879</td>\n",
       "      <td>-</td>\n",
       "      <td>56</td>\n",
       "      <td>48</td>\n",
       "      <td>66</td>\n",
       "      <td>...</td>\n",
       "      <td>31860899.0</td>\n",
       "      <td>31901765.0</td>\n",
       "      <td>2337.0</td>\n",
       "      <td>2593.0</td>\n",
       "      <td>2498.0</td>\n",
       "      <td>36.0</td>\n",
       "      <td>0.003209</td>\n",
       "      <td>0.008033</td>\n",
       "      <td>0.019728</td>\n",
       "      <td>0.000238</td>\n",
       "    </tr>\n",
       "    <tr>\n",
       "      <th>28668</th>\n",
       "      <td>ENSE00002429616_009</td>\n",
       "      <td>mutant</td>\n",
       "      <td>A</td>\n",
       "      <td>G</td>\n",
       "      <td>70964613</td>\n",
       "      <td>70964782</td>\n",
       "      <td>-</td>\n",
       "      <td>53</td>\n",
       "      <td>54</td>\n",
       "      <td>63</td>\n",
       "      <td>...</td>\n",
       "      <td>70215061.0</td>\n",
       "      <td>70303083.0</td>\n",
       "      <td>2307.0</td>\n",
       "      <td>2476.0</td>\n",
       "      <td>2554.0</td>\n",
       "      <td>2501.0</td>\n",
       "      <td>0.026996</td>\n",
       "      <td>0.871339</td>\n",
       "      <td>0.148271</td>\n",
       "      <td>0.958394</td>\n",
       "    </tr>\n",
       "    <tr>\n",
       "      <th>28669</th>\n",
       "      <td>ENSE00002429616_012</td>\n",
       "      <td>mutant</td>\n",
       "      <td>T</td>\n",
       "      <td>C</td>\n",
       "      <td>70964613</td>\n",
       "      <td>70964782</td>\n",
       "      <td>-</td>\n",
       "      <td>53</td>\n",
       "      <td>54</td>\n",
       "      <td>63</td>\n",
       "      <td>...</td>\n",
       "      <td>70215061.0</td>\n",
       "      <td>70303083.0</td>\n",
       "      <td>2304.0</td>\n",
       "      <td>2473.0</td>\n",
       "      <td>2551.0</td>\n",
       "      <td>2498.0</td>\n",
       "      <td>0.018913</td>\n",
       "      <td>0.098658</td>\n",
       "      <td>0.020771</td>\n",
       "      <td>0.002239</td>\n",
       "    </tr>\n",
       "    <tr>\n",
       "      <th>28673</th>\n",
       "      <td>ENSE00002429616_028</td>\n",
       "      <td>mutant</td>\n",
       "      <td>A</td>\n",
       "      <td>T</td>\n",
       "      <td>70964613</td>\n",
       "      <td>70964782</td>\n",
       "      <td>-</td>\n",
       "      <td>53</td>\n",
       "      <td>54</td>\n",
       "      <td>63</td>\n",
       "      <td>...</td>\n",
       "      <td>70215061.0</td>\n",
       "      <td>70303083.0</td>\n",
       "      <td>2470.0</td>\n",
       "      <td>2204.0</td>\n",
       "      <td>2503.0</td>\n",
       "      <td>2505.0</td>\n",
       "      <td>0.012078</td>\n",
       "      <td>0.001784</td>\n",
       "      <td>0.010160</td>\n",
       "      <td>0.000545</td>\n",
       "    </tr>\n",
       "  </tbody>\n",
       "</table>\n",
       "<p>1047 rows × 35 columns</p>\n",
       "</div>"
      ],
      "text/plain": [
       "               internal_id category ref_allele alt_allele  start_hg19_0based  \\\n",
       "1      ENSE00000338771_002   mutant          C          T           41029796   \n",
       "6      ENSE00000338771_010   mutant          A          T           41029796   \n",
       "81     ENSE00000406871_005   mutant          G          A           26912304   \n",
       "82     ENSE00000406871_006   mutant          C          T           26912304   \n",
       "89     ENSE00000406871_013   mutant          C          T           26912304   \n",
       "...                    ...      ...        ...        ...                ...   \n",
       "28617  ENSE00002428804_004   mutant          C          T          170736287   \n",
       "28656  ENSE00002428956_015   mutant          C          T           30219710   \n",
       "28668  ENSE00002429616_009   mutant          A          G           70964613   \n",
       "28669  ENSE00002429616_012   mutant          T          C           70964613   \n",
       "28673  ENSE00002429616_028   mutant          A          T           70964613   \n",
       "\n",
       "       end_hg19_0based strand  intron1_len  exon_len  intron2_len  ...  \\\n",
       "1             41029965      -           30        99           41  ...   \n",
       "6             41029965      -           30        99           41  ...   \n",
       "81            26912473      -           33        93           44  ...   \n",
       "82            26912473      -           33        93           44  ...   \n",
       "89            26912473      -           33        93           44  ...   \n",
       "...                ...    ...          ...       ...          ...  ...   \n",
       "28617        170736456      -           33        93           44  ...   \n",
       "28656         30219879      -           56        48           66  ...   \n",
       "28668         70964782      -           53        54           63  ...   \n",
       "28669         70964782      -           53        54           63  ...   \n",
       "28673         70964782      -           53        54           63  ...   \n",
       "\n",
       "        gene_start     gene_end top_a_creation_pos top_d_creation_pos  \\\n",
       "1       40735884.0   40755851.0             3256.0             2474.0   \n",
       "6       40735884.0   40755851.0             2797.0             4953.0   \n",
       "81      28577574.0   28599279.0             1917.0             2542.0   \n",
       "82      28577574.0   28599279.0             1906.0             2531.0   \n",
       "89      28577574.0   28599279.0             1862.0             1769.0   \n",
       "...            ...          ...                ...                ...   \n",
       "28617  170996348.0  171026750.0             3372.0             2375.0   \n",
       "28656   31860899.0   31901765.0             2337.0             2593.0   \n",
       "28668   70215061.0   70303083.0             2307.0             2476.0   \n",
       "28669   70215061.0   70303083.0             2304.0             2473.0   \n",
       "28673   70215061.0   70303083.0             2470.0             2204.0   \n",
       "\n",
       "       top_a_disruption_pos  top_d_disruption_pos  top_a_creation_delta  \\\n",
       "1                    2078.0                2748.0              0.001504   \n",
       "6                    2016.0                2686.0              0.000956   \n",
       "81                   2601.0                3274.0              0.005492   \n",
       "82                   2568.0                3025.0              0.005621   \n",
       "89                   2524.0                2487.0              0.004096   \n",
       "...                     ...                   ...                   ...   \n",
       "28617                2591.0                2499.0              0.001266   \n",
       "28656                2498.0                  36.0              0.003209   \n",
       "28668                2554.0                2501.0              0.026996   \n",
       "28669                2551.0                2498.0              0.018913   \n",
       "28673                2503.0                2505.0              0.012078   \n",
       "\n",
       "       top_d_creation_delta  top_a_disruption_delta top_d_disruption_delta  \n",
       "1                  0.045550                0.002241               0.001570  \n",
       "6                  0.001354                0.001319               0.002136  \n",
       "81                 0.017186                0.005236               0.002352  \n",
       "82                 0.024578                0.010333               0.003201  \n",
       "89                 0.006584                0.019310               0.006081  \n",
       "...                     ...                     ...                    ...  \n",
       "28617              0.180835                0.667459               0.973832  \n",
       "28656              0.008033                0.019728               0.000238  \n",
       "28668              0.871339                0.148271               0.958394  \n",
       "28669              0.098658                0.020771               0.002239  \n",
       "28673              0.001784                0.010160               0.000545  \n",
       "\n",
       "[1047 rows x 35 columns]"
      ]
     },
     "execution_count": 22,
     "metadata": {},
     "output_type": "execute_result"
    }
   ],
   "source": [
    "results[results['is_sdv']==True]"
   ]
  },
  {
   "cell_type": "code",
   "execution_count": 33,
   "metadata": {},
   "outputs": [],
   "source": [
    "from sklearn.linear_model import LogisticRegression\n",
    "from sklearn.metrics import roc_curve, auc"
   ]
  },
  {
   "cell_type": "code",
   "execution_count": 24,
   "metadata": {},
   "outputs": [
    {
     "data": {
      "image/png": "[encoded data removed]",
      "text/plain": [
       "<Figure size 432x288 with 1 Axes>"
      ]
     },
     "metadata": {
      "needs_background": "light"
     },
     "output_type": "display_data"
    }
   ],
   "source": [
    "tmp = results[['is_sdv','top_d_disruption_delta','top_a_disruption_delta']].dropna()\n",
    "X,y = tmp[['top_d_disruption_delta','top_a_disruption_delta','top_d_disruption_delta','top_a_disruption_delta']].max(axis=1),tmp['is_sdv'].astype(int)\n",
    "fpr1, tpr1,t1 = roc_curve(y, X)\n",
    "auc_1 = auc(fpr1, tpr1)\n",
    "\n",
    "#aucs_1.append(auc_1)\n",
    "plt.plot(fpr1, tpr1,label=f\"Transformer-40k (AUC = {auc_1 :.3f})\")\n",
    "plt.legend()\n",
    "plt.xlabel(\"False Positive Rate\")\n",
    "plt.ylabel(\"True Positive Rate\")\n",
    "#plt.savefig('../Results/mafs_transformer_auc.png',dpi=300,bbox_inches='tight')\n",
    "plt.show()"
   ]
  },
  {
   "cell_type": "code",
   "execution_count": 25,
   "metadata": {},
   "outputs": [
    {
     "data": {
      "image/png": "[encoded data removed]",
      "text/plain": [
       "<Figure size 432x288 with 1 Axes>"
      ]
     },
     "metadata": {
      "needs_background": "light"
     },
     "output_type": "display_data"
    }
   ],
   "source": [
    "plt.scatter(results['dpsi'],results[['top_d_disruption_delta','top_a_disruption_delta']].max(axis=1),s=1)\n",
    "plt.ylabel('Transformer disruption delta score')\n",
    "plt.xlabel('$\\Delta$psi')\n",
    "#plt.savefig('../Results/mafs_dpsi_correlation.png',dpi=300,bbox_inches='tight')\n",
    "plt.show()"
   ]
  },
  {
   "cell_type": "code",
   "execution_count": 26,
   "metadata": {},
   "outputs": [],
   "source": [
    "results['fp'] = np.all([results['dpsi']>-0.2,results[['top_d_disruption_delta','top_a_disruption_delta']].max(axis=1)>0.5],axis=0)"
   ]
  },
  {
   "cell_type": "code",
   "execution_count": 27,
   "metadata": {},
   "outputs": [],
   "source": [
    "higher = np.argmax(results[['top_d_disruption_delta','top_a_disruption_delta']].values,axis=1)\n",
    "cond = [[x==0,x==1] for x in higher]\n",
    "results['max_pos'] = results[['top_d_disruption_pos','top_a_disruption_pos']].values[cond]"
   ]
  },
  {
   "cell_type": "code",
   "execution_count": 28,
   "metadata": {},
   "outputs": [],
   "source": [
    "results['splice_dist'] = np.abs(results['max_pos']-results['snp_position_hg38_0based_end'])"
   ]
  },
  {
   "cell_type": "code",
   "execution_count": 29,
   "metadata": {},
   "outputs": [],
   "source": [
    "from matplotlib import colors"
   ]
  },
  {
   "cell_type": "code",
   "execution_count": 30,
   "metadata": {},
   "outputs": [
    {
     "data": {
      "image/png": "[encoded data removed]",
      "text/plain": [
       "<Figure size 432x288 with 2 Axes>"
      ]
     },
     "metadata": {
      "needs_background": "light"
     },
     "output_type": "display_data"
    }
   ],
   "source": [
    "cond = results['fp']==False\n",
    "plt.scatter(results['splice_dist'][cond],results['dpsi'][cond],s=1,c=results[['top_d_disruption_delta','top_a_disruption_delta']].max(axis=1)[cond], norm=colors.LogNorm())\n",
    "cbar = plt.colorbar()\n",
    "cbar.set_label('Transformer delta score', rotation=270, labelpad=15)\n",
    "cond = results['fp']==True\n",
    "plt.scatter(results['splice_dist'][cond],results['dpsi'][cond],c='red',s=10,label='False positives')\n",
    "\n",
    "\n",
    "plt.legend()\n",
    "plt.xlabel('Predicted Distance of Disrupted Site from variant')\n",
    "plt.ylabel('$\\Delta$psi')\n",
    "#plt.savefig('../Results/mafs_predicted_distance_vs_dpsi.png',dpi=300,bbox_inches='tight')\n",
    "plt.show()"
   ]
  },
  {
   "cell_type": "code",
   "execution_count": 31,
   "metadata": {},
   "outputs": [],
   "source": [
    "from sklearn.metrics import average_precision_score"
   ]
  },
  {
   "cell_type": "code",
   "execution_count": 32,
   "metadata": {},
   "outputs": [
    {
     "data": {
      "image/png": "[encoded data removed]",
      "text/plain": [
       "<Figure size 432x288 with 1 Axes>"
      ]
     },
     "metadata": {
      "needs_background": "light"
     },
     "output_type": "display_data"
    }
   ],
   "source": [
    "from sklearn.metrics import precision_recall_curve\n",
    "precision, recall,t1 = precision_recall_curve(y, X)\n",
    "auc_1 = average_precision_score(y, X)\n",
    "\n",
    "#aucs_1.append(auc_1)\n",
    "plt.plot(recall,precision,label=f\"Transformer-40k (PR-AUC = {auc_1 :.3f})\")\n",
    "plt.legend()\n",
    "plt.ylabel(\"Precision\")\n",
    "plt.xlabel(\"Recall\")\n",
    "#plt.savefig('../Results/mafs_prc.png',dpi=300,bbox_inches='tight')\n",
    "plt.show()"
   ]
  },
  {
   "cell_type": "code",
   "execution_count": null,
   "metadata": {},
   "outputs": [],
   "source": []
  }
 ],
 "metadata": {
  "kernelspec": {
   "display_name": "Python 3 (ipykernel)",
   "language": "python",
   "name": "python3"
  },
  "language_info": {
   "codemirror_mode": {
    "name": "ipython",
    "version": 3
   },
   "file_extension": ".py",
   "mimetype": "text/x-python",
   "name": "python",
   "nbconvert_exporter": "python",
   "pygments_lexer": "ipython3",
   "version": "3.8.12"
  }
 },
 "nbformat": 4,
 "nbformat_minor": 4
}
