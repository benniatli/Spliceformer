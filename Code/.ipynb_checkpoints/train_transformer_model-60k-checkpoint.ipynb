{
 "cells": [
  {
   "cell_type": "code",
   "execution_count": 1,
   "metadata": {},
   "outputs": [],
   "source": [
    "import numpy as np\n",
    "import sys\n",
    "import time\n",
    "#import h5py\n",
    "from tqdm.notebook import tqdm\n",
    "#from autonotebook import tqdm\n",
    "\n",
    "import numpy as np\n",
    "import re\n",
    "from math import ceil\n",
    "from sklearn.metrics import average_precision_score\n",
    "from torch.utils.data import Dataset\n",
    "import torch\n",
    "import torch.nn as nn\n",
    "import pandas as pd\n",
    "import matplotlib.pyplot as plt\n",
    "import pickle\n",
    "#import pickle5 as pickle\n",
    "\n",
    "from sklearn.model_selection import train_test_split\n",
    "\n",
    "from scipy.sparse import load_npz\n",
    "from glob import glob\n",
    "\n",
    "from transformers import get_constant_schedule_with_warmup\n",
    "from sklearn.metrics import precision_score,recall_score,accuracy_score\n",
    "import copy\n",
    "\n",
    "from src.train2 import trainModel\n",
    "#from src.dataloader import getData,spliceDataset,h5pyDataset,collate_fn\n",
    "from src.dataloader import getData,spliceDataset,h5pyDataset,getDataPointList,getDataPointListFull,DataPointFull\n",
    "from src.weight_init import keras_init\n",
    "from src.losses import categorical_crossentropy_2d\n",
    "from src.model_flash_attention2 import SpliceFormer\n",
    "from src.evaluation_metrics import print_topl_statistics,cross_entropy_2d"
   ]
  },
  {
   "cell_type": "code",
   "execution_count": 2,
   "metadata": {},
   "outputs": [
    {
     "name": "stdout",
     "output_type": "stream",
     "text": [
      "Wed Apr 26 12:12:11 2023       \n",
      "+-----------------------------------------------------------------------------+\n",
      "| NVIDIA-SMI 515.43.04    Driver Version: 515.43.04    CUDA Version: 11.7     |\n",
      "|-------------------------------+----------------------+----------------------+\n",
      "| GPU  Name        Persistence-M| Bus-Id        Disp.A | Volatile Uncorr. ECC |\n",
      "| Fan  Temp  Perf  Pwr:Usage/Cap|         Memory-Usage | GPU-Util  Compute M. |\n",
      "|                               |                      |               MIG M. |\n",
      "|===============================+======================+======================|\n",
      "|   0  NVIDIA A100-PCI...  Off  | 00000000:31:00.0 Off |                    0 |\n",
      "| N/A   33C    P0    36W / 250W |      0MiB / 40960MiB |      0%      Default |\n",
      "|                               |                      |             Disabled |\n",
      "+-------------------------------+----------------------+----------------------+\n",
      "|   1  NVIDIA A100-PCI...  Off  | 00000000:98:00.0 Off |                    0 |\n",
      "| N/A   31C    P0    36W / 250W |      0MiB / 40960MiB |      0%      Default |\n",
      "|                               |                      |             Disabled |\n",
      "+-------------------------------+----------------------+----------------------+\n",
      "|   2  NVIDIA A100-PCI...  Off  | 00000000:CA:00.0 Off |                    0 |\n",
      "| N/A   32C    P0    37W / 250W |      0MiB / 40960MiB |     30%      Default |\n",
      "|                               |                      |             Disabled |\n",
      "+-------------------------------+----------------------+----------------------+\n",
      "                                                                               \n",
      "+-----------------------------------------------------------------------------+\n",
      "| Processes:                                                                  |\n",
      "|  GPU   GI   CI        PID   Type   Process name                  GPU Memory |\n",
      "|        ID   ID                                                   Usage      |\n",
      "|=============================================================================|\n",
      "|  No running processes found                                                 |\n",
      "+-----------------------------------------------------------------------------+\n"
     ]
    }
   ],
   "source": [
    "!nvidia-smi"
   ]
  },
  {
   "cell_type": "code",
   "execution_count": 3,
   "metadata": {},
   "outputs": [],
   "source": [
    "#!pip install /odinn/tmp/benediktj/torch-2.0.0+cu117-cp39-cp39-linux_x86_64.whl"
   ]
  },
  {
   "cell_type": "code",
   "execution_count": 4,
   "metadata": {},
   "outputs": [
    {
     "name": "stdout",
     "output_type": "stream",
     "text": [
      "2.0.0\n"
     ]
    }
   ],
   "source": [
    "print(torch.__version__)"
   ]
  },
  {
   "cell_type": "code",
   "execution_count": 5,
   "metadata": {},
   "outputs": [],
   "source": [
    "#!pip install pickle5"
   ]
  },
  {
   "cell_type": "code",
   "execution_count": 6,
   "metadata": {},
   "outputs": [],
   "source": [
    "rng = np.random.default_rng(23673)"
   ]
  },
  {
   "cell_type": "code",
   "execution_count": 7,
   "metadata": {},
   "outputs": [],
   "source": [
    "#gtf = None"
   ]
  },
  {
   "cell_type": "code",
   "execution_count": 8,
   "metadata": {},
   "outputs": [],
   "source": [
    "L = 32\n",
    "N_GPUS = 3\n",
    "k = 2\n",
    "NUM_ACCUMULATION_STEPS=1\n",
    "# Hyper-parameters:\n",
    "# L: Number of convolution kernels\n",
    "# W: Convolution window size in each residual unit\n",
    "# AR: Atrous rate in each residual unit\n",
    "\n",
    "W = np.asarray([11, 11, 11, 11, 11, 11, 11, 11,\n",
    "                21, 21, 21, 21, 41, 41, 41, 41])\n",
    "AR = np.asarray([1, 1, 1, 1, 4, 4, 4, 4,\n",
    "                 10, 10, 10, 10, 25, 25, 25, 25])\n",
    "BATCH_SIZE = 16*k*N_GPUS\n",
    "\n",
    "k = NUM_ACCUMULATION_STEPS*k\n",
    "\n",
    "CL = 2 * np.sum(AR*(W-1))"
   ]
  },
  {
   "cell_type": "code",
   "execution_count": 9,
   "metadata": {},
   "outputs": [],
   "source": [
    "data_dir = '../Data'\n",
    "setType = 'train'\n",
    "annotation, transcriptToLabel, seqData = getData(data_dir, setType)"
   ]
  },
  {
   "cell_type": "code",
   "execution_count": 10,
   "metadata": {},
   "outputs": [],
   "source": [
    "# Maximum nucleotide context length (CL_max/2 on either side of the \n",
    "# position of interest)\n",
    "# CL_max should be an even number\n",
    "# Sequence length of SpliceAIs (SL+CL will be the input length and\n",
    "# SL will be the output length)\n",
    "\n",
    "SL=5000\n",
    "CL_max=60000"
   ]
  },
  {
   "cell_type": "code",
   "execution_count": 11,
   "metadata": {},
   "outputs": [],
   "source": [
    "assert CL_max % 2 == 0"
   ]
  },
  {
   "cell_type": "code",
   "execution_count": 12,
   "metadata": {},
   "outputs": [],
   "source": [
    "train_gene, validation_gene = train_test_split(annotation['gene'].drop_duplicates(),test_size=.1,random_state=435)\n",
    "annotation_train = annotation[annotation['gene'].isin(train_gene)]\n",
    "annotation_validation = annotation[annotation['gene'].isin(validation_gene)]"
   ]
  },
  {
   "cell_type": "code",
   "execution_count": 13,
   "metadata": {},
   "outputs": [],
   "source": [
    "train_dataset = spliceDataset(getDataPointListFull(annotation_train,transcriptToLabel,SL,CL_max,shift=SL))\n",
    "val_dataset = spliceDataset(getDataPointListFull(annotation_validation,transcriptToLabel,SL,CL_max,shift=SL))\n",
    "train_dataset.seqData = seqData\n",
    "val_dataset.seqData = seqData\n",
    "\n",
    "train_loader = torch.utils.data.DataLoader(train_dataset, batch_size=BATCH_SIZE, shuffle=True, num_workers=32, pin_memory=True)\n",
    "val_loader = torch.utils.data.DataLoader(val_dataset, batch_size=BATCH_SIZE, shuffle=False, num_workers=32, pin_memory=True)"
   ]
  },
  {
   "cell_type": "code",
   "execution_count": 14,
   "metadata": {},
   "outputs": [],
   "source": [
    "device = torch.device(\"cuda\" if torch.cuda.is_available() else \"cpu\")\n",
    "epochs = 10\n",
    "hs = []\n",
    "learning_rate= k*1e-3\n",
    "gamma=0.5\n",
    "#final_lr = 1e-5\n",
    "#gamma = 1/(learning_rate/final_lr)**(1/5) "
   ]
  },
  {
   "cell_type": "code",
   "execution_count": null,
   "metadata": {},
   "outputs": [
    {
     "name": "stderr",
     "output_type": "stream",
     "text": [
      "Epoch (train) 1/10: 100%|█████████████████████████████████████████████████████████████████████████████████████████████████████████████████| 2716/2716 [1:19:49<00:00,  1.76s/it, a_r=0.863, d_r=0.887, loss=0.000211, r_a=0.00948, r_d=0.997, r_loss=2.98]\n"
     ]
    },
    {
     "name": "stdout",
     "output_type": "stream",
     "text": [
      "epoch: 1/10, train loss = 0.015850\n"
     ]
    },
    {
     "name": "stderr",
     "output_type": "stream",
     "text": [
      "Epoch (train) 2/10: 100%|██████████████████████████████████████████████████████████████████████████████████████████████████████████████████| 2716/2716 [1:19:31<00:00,  1.76s/it, a_r=0.887, d_r=0.909, loss=0.000175, r_a=0.0118, r_d=0.999, r_loss=1.92]\n"
     ]
    },
    {
     "name": "stdout",
     "output_type": "stream",
     "text": [
      "epoch: 2/10, train loss = 0.000192\n"
     ]
    },
    {
     "name": "stderr",
     "output_type": "stream",
     "text": [
      "Epoch (train) 3/10: 100%|███████████████████████████████████████████████████████████████████████████████████████████████████████████████████| 2716/2716 [1:19:25<00:00,  1.75s/it, a_r=0.906, d_r=0.917, loss=0.000172, r_a=0.995, r_d=0.999, r_loss=5.95]\n"
     ]
    },
    {
     "name": "stdout",
     "output_type": "stream",
     "text": [
      "epoch: 3/10, train loss = 0.000174\n"
     ]
    },
    {
     "name": "stderr",
     "output_type": "stream",
     "text": [
      "Epoch (train) 4/10: 100%|███████████████████████████████████████████████████████████████████████████████████████████████████████████████████| 2716/2716 [1:19:51<00:00,  1.76s/it, a_r=0.919, d_r=0.924, loss=0.000155, r_a=0.998, r_d=0.999, r_loss=4.05]\n"
     ]
    },
    {
     "name": "stdout",
     "output_type": "stream",
     "text": [
      "epoch: 4/10, train loss = 0.000160\n"
     ]
    },
    {
     "name": "stderr",
     "output_type": "stream",
     "text": [
      "Epoch (train) 5/10: 100%|███████████████████████████████████████████████████████████████████████████████████████████████████████████████████| 2716/2716 [1:19:30<00:00,  1.76s/it, a_r=0.926, d_r=0.934, loss=0.000143, r_a=0.999, r_d=0.999, r_loss=3.38]\n"
     ]
    },
    {
     "name": "stdout",
     "output_type": "stream",
     "text": [
      "epoch: 5/10, train loss = 0.000147\n"
     ]
    },
    {
     "name": "stderr",
     "output_type": "stream",
     "text": [
      "Epoch (train) 6/10: 100%|████████████████████████████████████████████████████████████████████████████████████████████████████████████████████| 2716/2716 [1:19:47<00:00,  1.76s/it, a_r=0.931, d_r=0.935, loss=0.000142, r_a=0.999, r_d=0.999, r_loss=2.8]\n"
     ]
    },
    {
     "name": "stdout",
     "output_type": "stream",
     "text": [
      "epoch: 6/10, train loss = 0.000137\n"
     ]
    },
    {
     "name": "stderr",
     "output_type": "stream",
     "text": [
      "Epoch (train) 7/10: 100%|████████████████████████████████████████████████████████████████████████████████████████████████████████████████████| 2716/2716 [1:19:53<00:00,  1.76s/it, a_r=0.95, d_r=0.952, loss=0.000112, r_a=0.999, r_d=0.999, r_loss=2.54]\n"
     ]
    },
    {
     "name": "stdout",
     "output_type": "stream",
     "text": [
      "epoch: 7/10, train loss = 0.000112\n"
     ]
    },
    {
     "name": "stderr",
     "output_type": "stream",
     "text": [
      "Epoch (train) 8/10: 100%|█████████████████████████████████████████████████████████████████████████████████████████████████████████████████████████████| 2716/2716 [1:19:23<00:00,  1.75s/it, a_r=0.959, d_r=0.96, loss=9.44e-5, r_a=1, r_d=1, r_loss=2.53]\n"
     ]
    },
    {
     "name": "stdout",
     "output_type": "stream",
     "text": [
      "epoch: 8/10, train loss = 0.000096\n"
     ]
    },
    {
     "name": "stderr",
     "output_type": "stream",
     "text": [
      "Epoch (train) 9/10: 100%|██████████████████████████████████████████████████████████████████████████████████████████████████████████████████████████| 2716/2716 [1:19:24<00:00,  1.75s/it, a_r=0.96, d_r=0.964, loss=8.75e-5, r_a=1, r_d=0.999, r_loss=2.6]\n"
     ]
    },
    {
     "name": "stdout",
     "output_type": "stream",
     "text": [
      "epoch: 9/10, train loss = 0.000086\n"
     ]
    },
    {
     "name": "stderr",
     "output_type": "stream",
     "text": [
      "Epoch (train) 10/10: 100%|███████████████████████████████████████████████████████████████████████████████████████████████████████████████████████| 2716/2716 [1:19:26<00:00,  1.75s/it, a_r=0.962, d_r=0.967, loss=8.04e-5, r_a=1, r_d=0.999, r_loss=2.52]\n"
     ]
    },
    {
     "name": "stdout",
     "output_type": "stream",
     "text": [
      "epoch: 10/10, train loss = 0.000079\n"
     ]
    },
    {
     "data": {
      "image/png": "[encoded data removed]",
      "text/plain": [
       "<Figure size 640x480 with 1 Axes>"
      ]
     },
     "metadata": {},
     "output_type": "display_data"
    },
    {
     "name": "stderr",
     "output_type": "stream",
     "text": [
      "Epoch (train) 1/10: 100%|███████████████████████████████████████████████████████████████████████████████████████████████████████████████████| 2716/2716 [1:19:30<00:00,  1.76s/it, a_r=0.868, d_r=0.888, loss=0.000219, r_a=0.996, r_d=0.999, r_loss=7.45]\n"
     ]
    },
    {
     "name": "stdout",
     "output_type": "stream",
     "text": [
      "epoch: 1/10, train loss = 0.014501\n"
     ]
    },
    {
     "name": "stderr",
     "output_type": "stream",
     "text": [
      "Epoch (train) 2/10: 100%|███████████████████████████████████████████████████████████████████████████████████████████████████████████████████| 2716/2716 [1:19:45<00:00,  1.76s/it, a_r=0.895, d_r=0.911, loss=0.000181, r_a=0.998, r_d=0.998, r_loss=4.64]\n"
     ]
    },
    {
     "name": "stdout",
     "output_type": "stream",
     "text": [
      "epoch: 2/10, train loss = 0.000190\n"
     ]
    },
    {
     "name": "stderr",
     "output_type": "stream",
     "text": [
      "Epoch (train) 3/10: 100%|███████████████████████████████████████████████████████████████████████████████████████████████████████████████████| 2716/2716 [1:19:37<00:00,  1.76s/it, a_r=0.907, d_r=0.914, loss=0.000165, r_a=0.999, r_d=0.998, r_loss=2.43]\n"
     ]
    },
    {
     "name": "stdout",
     "output_type": "stream",
     "text": [
      "epoch: 3/10, train loss = 0.000169\n"
     ]
    },
    {
     "name": "stderr",
     "output_type": "stream",
     "text": [
      "Epoch (train) 4/10: 100%|███████████████████████████████████████████████████████████████████████████████████████████████████████████████████| 2716/2716 [1:20:23<00:00,  1.78s/it, a_r=0.921, d_r=0.925, loss=0.000153, r_a=0.999, r_d=0.999, r_loss=1.23]\n"
     ]
    },
    {
     "name": "stdout",
     "output_type": "stream",
     "text": [
      "epoch: 4/10, train loss = 0.000154\n"
     ]
    },
    {
     "name": "stderr",
     "output_type": "stream",
     "text": [
      "Epoch (train) 5/10: 100%|███████████████████████████████████████████████████████████████████████████████████████████████████████████████████| 2716/2716 [1:20:08<00:00,  1.77s/it, a_r=0.927, d_r=0.932, loss=0.00014, r_a=0.999, r_d=0.998, r_loss=0.742]\n"
     ]
    },
    {
     "name": "stdout",
     "output_type": "stream",
     "text": [
      "epoch: 5/10, train loss = 0.000143\n"
     ]
    },
    {
     "name": "stderr",
     "output_type": "stream",
     "text": [
      "Epoch (train) 6/10: 100%|██████████████████████████████████████████████████████████████████████████████████████████████████████████████████| 2716/2716 [1:19:51<00:00,  1.76s/it, a_r=0.937, d_r=0.939, loss=0.000131, r_a=0.999, r_d=0.999, r_loss=0.492]\n"
     ]
    },
    {
     "name": "stdout",
     "output_type": "stream",
     "text": [
      "epoch: 6/10, train loss = 0.000131\n"
     ]
    },
    {
     "name": "stderr",
     "output_type": "stream",
     "text": [
      "Epoch (train) 7/10: 100%|██████████████████████████████████████████████████████████████████████████████████████████████████████████████████| 2716/2716 [1:19:39<00:00,  1.76s/it, a_r=0.948, d_r=0.951, loss=0.000105, r_a=0.999, r_d=0.998, r_loss=0.402]\n"
     ]
    },
    {
     "name": "stdout",
     "output_type": "stream",
     "text": [
      "epoch: 7/10, train loss = 0.000106\n"
     ]
    },
    {
     "name": "stderr",
     "output_type": "stream",
     "text": [
      "Epoch (train) 8/10: 100%|████████████████████████████████████████████████████████████████████████████████████████████████████████████████████████| 2716/2716 [1:19:45<00:00,  1.76s/it, a_r=0.96, d_r=0.965, loss=8.89e-5, r_a=1, r_d=0.998, r_loss=0.387]\n"
     ]
    },
    {
     "name": "stdout",
     "output_type": "stream",
     "text": [
      "epoch: 8/10, train loss = 0.000090\n"
     ]
    },
    {
     "name": "stderr",
     "output_type": "stream",
     "text": [
      "Epoch (train) 9/10: 100%|███████████████████████████████████████████████████████████████████████████████████████████████████████████████████████| 2716/2716 [1:19:30<00:00,  1.76s/it, a_r=0.961, d_r=0.966, loss=8.13e-5, r_a=1, r_d=0.999, r_loss=0.381]\n"
     ]
    },
    {
     "name": "stdout",
     "output_type": "stream",
     "text": [
      "epoch: 9/10, train loss = 0.000079\n"
     ]
    },
    {
     "name": "stderr",
     "output_type": "stream",
     "text": [
      "Epoch (train) 10/10: 100%|████████████████████████████████████████████████████████████████████████████████████████████████████████████████████████| 2716/2716 [1:19:49<00:00,  1.76s/it, a_r=0.967, d_r=0.97, loss=7.2e-5, r_a=1, r_d=0.999, r_loss=0.385]\n"
     ]
    },
    {
     "name": "stdout",
     "output_type": "stream",
     "text": [
      "epoch: 10/10, train loss = 0.000072\n"
     ]
    },
    {
     "data": {
      "image/png": "[encoded data removed]",
      "text/plain": [
       "<Figure size 640x480 with 1 Axes>"
      ]
     },
     "metadata": {},
     "output_type": "display_data"
    },
    {
     "name": "stderr",
     "output_type": "stream",
     "text": [
      "Epoch (train) 1/10: 100%|███████████████████████████████████████████████████████████████████████████████████████████████████████████████████| 2716/2716 [1:19:54<00:00,  1.77s/it, a_r=0.873, d_r=0.889, loss=0.000206, r_a=0.994, r_d=0.996, r_loss=5.72]\n"
     ]
    },
    {
     "name": "stdout",
     "output_type": "stream",
     "text": [
      "epoch: 1/10, train loss = 0.013185\n"
     ]
    },
    {
     "name": "stderr",
     "output_type": "stream",
     "text": [
      "Epoch (train) 2/10: 100%|███████████████████████████████████████████████████████████████████████████████████████████████████████████████████| 2716/2716 [1:19:39<00:00,  1.76s/it, a_r=0.896, d_r=0.901, loss=0.000179, r_a=0.995, r_d=0.998, r_loss=3.22]\n"
     ]
    },
    {
     "name": "stdout",
     "output_type": "stream",
     "text": [
      "epoch: 2/10, train loss = 0.000186\n"
     ]
    },
    {
     "name": "stderr",
     "output_type": "stream",
     "text": [
      "Epoch (train) 3/10: 100%|███████████████████████████████████████████████████████████████████████████████████████████████████████████████████| 2716/2716 [1:19:29<00:00,  1.76s/it, a_r=0.906, d_r=0.919, loss=0.000159, r_a=0.996, r_d=0.998, r_loss=1.29]\n"
     ]
    },
    {
     "name": "stdout",
     "output_type": "stream",
     "text": [
      "epoch: 3/10, train loss = 0.000166\n"
     ]
    },
    {
     "name": "stderr",
     "output_type": "stream",
     "text": [
      "Epoch (train) 4/10: 100%|████████████████████████████████████████████████████████████████████████████████████████████████████████████████████| 2716/2716 [1:19:28<00:00,  1.76s/it, a_r=0.919, d_r=0.93, loss=0.000145, r_a=0.997, r_d=0.998, r_loss=0.53]\n"
     ]
    },
    {
     "name": "stdout",
     "output_type": "stream",
     "text": [
      "epoch: 4/10, train loss = 0.000153\n"
     ]
    },
    {
     "name": "stderr",
     "output_type": "stream",
     "text": [
      "Epoch (train) 5/10: 100%|██████████████████████████████████████████████████████████████████████████████████████████████████████████████████| 2716/2716 [1:19:41<00:00,  1.76s/it, a_r=0.923, d_r=0.932, loss=0.000139, r_a=0.999, r_d=0.999, r_loss=0.264]\n"
     ]
    },
    {
     "name": "stdout",
     "output_type": "stream",
     "text": [
      "epoch: 5/10, train loss = 0.000142\n"
     ]
    },
    {
     "name": "stderr",
     "output_type": "stream",
     "text": [
      "Epoch (train) 6/10: 100%|██████████████████████████████████████████████████████████████████████████████████████████████████████████████████| 2716/2716 [1:19:42<00:00,  1.76s/it, a_r=0.928, d_r=0.938, loss=0.000137, r_a=0.999, r_d=0.999, r_loss=0.207]\n"
     ]
    },
    {
     "name": "stdout",
     "output_type": "stream",
     "text": [
      "epoch: 6/10, train loss = 0.000134\n"
     ]
    },
    {
     "name": "stderr",
     "output_type": "stream",
     "text": [
      "Epoch (train) 7/10: 100%|██████████████████████████████████████████████████████████████████████████████████████████████████████████████████| 2716/2716 [1:19:46<00:00,  1.76s/it, a_r=0.948, d_r=0.953, loss=0.000105, r_a=0.999, r_d=0.999, r_loss=0.162]\n"
     ]
    },
    {
     "name": "stdout",
     "output_type": "stream",
     "text": [
      "epoch: 7/10, train loss = 0.000110\n"
     ]
    },
    {
     "name": "stderr",
     "output_type": "stream",
     "text": [
      "Epoch (train) 8/10: 100%|███████████████████████████████████████████████████████████████████████████████████████████████████████████████████| 2716/2716 [1:19:28<00:00,  1.76s/it, a_r=0.955, d_r=0.958, loss=8.94e-5, r_a=0.999, r_d=0.999, r_loss=0.147]\n"
     ]
    },
    {
     "name": "stdout",
     "output_type": "stream",
     "text": [
      "epoch: 8/10, train loss = 0.000094\n"
     ]
    },
    {
     "name": "stderr",
     "output_type": "stream",
     "text": [
      "Epoch (train) 9/10: 100%|█████████████████████████████████████████████████████████████████████████████████████████████████████████████████████| 2716/2716 [1:19:44<00:00,  1.76s/it, a_r=0.961, d_r=0.965, loss=8.4e-5, r_a=0.999, r_d=0.999, r_loss=0.12]\n"
     ]
    },
    {
     "name": "stdout",
     "output_type": "stream",
     "text": [
      "epoch: 9/10, train loss = 0.000084\n"
     ]
    },
    {
     "name": "stderr",
     "output_type": "stream",
     "text": [
      "Epoch (train) 10/10: 100%|██████████████████████████████████████████████████████████████████████████████████████████████████████████████████████| 2716/2716 [1:19:43<00:00,  1.76s/it, a_r=0.965, d_r=0.969, loss=7.67e-5, r_a=1, r_d=0.999, r_loss=0.126]\n"
     ]
    },
    {
     "name": "stdout",
     "output_type": "stream",
     "text": [
      "epoch: 10/10, train loss = 0.000078\n"
     ]
    },
    {
     "data": {
      "image/png": "[encoded data removed]",
      "text/plain": [
       "<Figure size 640x480 with 1 Axes>"
      ]
     },
     "metadata": {},
     "output_type": "display_data"
    },
    {
     "name": "stderr",
     "output_type": "stream",
     "text": [
      "Epoch (train) 1/10: 100%|██████████████████████████████████████████████████████████████████████████████████████████████████████████████████████| 2716/2716 [1:19:36<00:00,  1.76s/it, a_r=0.87, d_r=0.89, loss=0.00021, r_a=0.995, r_d=0.998, r_loss=9.55]\n"
     ]
    },
    {
     "name": "stdout",
     "output_type": "stream",
     "text": [
      "epoch: 1/10, train loss = 0.015228\n"
     ]
    },
    {
     "name": "stderr",
     "output_type": "stream",
     "text": [
      "Epoch (train) 2/10: 100%|█████████████████████████████████████████████████████████████████████████████████████████████████████████████████████| 2716/2716 [1:19:36<00:00,  1.76s/it, a_r=0.9, d_r=0.911, loss=0.000179, r_a=0.998, r_d=0.999, r_loss=7.33]\n"
     ]
    },
    {
     "name": "stdout",
     "output_type": "stream",
     "text": [
      "epoch: 2/10, train loss = 0.000190\n"
     ]
    },
    {
     "name": "stderr",
     "output_type": "stream",
     "text": [
      "Epoch (train) 3/10: 100%|███████████████████████████████████████████████████████████████████████████████████████████████████████████████████| 2716/2716 [1:19:39<00:00,  1.76s/it, a_r=0.911, d_r=0.919, loss=0.000164, r_a=0.998, r_d=0.999, r_loss=6.31]\n"
     ]
    },
    {
     "name": "stdout",
     "output_type": "stream",
     "text": [
      "epoch: 3/10, train loss = 0.000170\n"
     ]
    },
    {
     "name": "stderr",
     "output_type": "stream",
     "text": [
      "Epoch (train) 4/10: 100%|████████████████████████████████████████████████████████████████████████████████████████████████████████████████████| 2716/2716 [1:20:08<00:00,  1.77s/it, a_r=0.92, d_r=0.928, loss=0.000154, r_a=0.999, r_d=0.999, r_loss=4.83]\n"
     ]
    },
    {
     "name": "stdout",
     "output_type": "stream",
     "text": [
      "epoch: 4/10, train loss = 0.000157\n"
     ]
    },
    {
     "name": "stderr",
     "output_type": "stream",
     "text": [
      "Epoch (train) 5/10: 100%|██████████████████████████████████████████████████████████████████████████████████████████████████████████████████████████████████████████| 2716/2716 [1:20:10<00:00,  1.77s/it, a_r=0.924, d_r=0.929, loss=0.000147, r_a=0.999, r_d=0.999, r_loss=5.7]\n"
     ]
    },
    {
     "name": "stdout",
     "output_type": "stream",
     "text": [
      "epoch: 5/10, train loss = 0.000146\n"
     ]
    },
    {
     "name": "stderr",
     "output_type": "stream",
     "text": [
      "Epoch (train) 6/10:  42%|██████████████████████████████████████████████████████████▌                                                                                | 1145/2716 [33:50<46:27,  1.77s/it, a_r=0.931, d_r=0.938, loss=0.000138, r_a=0.999, r_d=0.999, r_loss=6.83]"
     ]
    }
   ],
   "source": [
    "for model_nr in range(5):\n",
    "    #model_m = SpliceFormer(CL_max,n_channels=128,depth=4,n_heads=2,dim_head=128,dropout=0.1)\n",
    "    model_m = SpliceFormer(CL_max,maxSeqLength=1024,bn_momentum=0.01/NUM_ACCUMULATION_STEPS,depth=4,heads=4,n_transformer_blocks=2)\n",
    "    model_m.apply(keras_init)\n",
    "    model_m = model_m.to(device)\n",
    "    if torch.cuda.device_count() > 1:\n",
    "        #print(\"Let's use\", torch.cuda.device_count(), \"GPUs!\")\n",
    "        # dim = 0 [30, xxx] -> [10, ...], [10, ...], [10, ...] on 3 GPUs\n",
    "        model_m = nn.DataParallel(model_m)\n",
    "        \n",
    "    model_m = torch.compile(model_m)\n",
    "    \n",
    "    modelFileName = '../Results/PyTorch_Models/transformer_encoder_100k_200323_{}'.format(model_nr)\n",
    "    #loss = categorical_crossentropy_2d().loss\n",
    "    loss = torch.nn.CrossEntropyLoss()\n",
    "    optimizer = torch.optim.AdamW(model_m.parameters(), lr=learning_rate, weight_decay=1e-5)\n",
    "    scheduler = torch.optim.lr_scheduler.StepLR(optimizer, step_size=1, gamma=gamma)\n",
    "    warmup = get_constant_schedule_with_warmup(optimizer, num_warmup_steps=1000)\n",
    "    h = trainModel(model_m,modelFileName,loss,train_loader,val_loader,optimizer,scheduler,warmup,BATCH_SIZE,epochs,device,skipValidation=True,NUM_ACCUMULATION_STEPS=NUM_ACCUMULATION_STEPS,reinforce=True,CL_max=CL_max)\n",
    "    hs.append(h)\n",
    "\n",
    "    plt.plot(range(epochs),h['loss'],label='Train')\n",
    "    #plt.plot(range(epochs),h['val_loss'],label='Validation')\n",
    "    plt.xlabel('Epoch')\n",
    "    plt.ylabel('Loss')\n",
    "    plt.legend()\n",
    "    plt.show()"
   ]
  },
  {
   "cell_type": "code",
   "execution_count": null,
   "metadata": {
    "scrolled": true
   },
   "outputs": [
    {
     "name": "stderr",
     "output_type": "stream",
     "text": [
      "Epoch (train) 1/10: 100%|██████████████████████████████████████████████████████████████████████████████████████████████████████████████████| 2716/2716 [1:39:51<00:00,  2.21s/it, a_r=0.875, d_r=0.885, loss=0.000214, r_a=0.997, r_d=0.998, r_loss=9.01]\n"
     ]
    },
    {
     "name": "stdout",
     "output_type": "stream",
     "text": [
      "epoch: 1/10, train loss = 0.014866\n"
     ]
    },
    {
     "name": "stderr",
     "output_type": "stream",
     "text": [
      "Epoch (train) 2/10: 100%|█| 2716/2716 [1:38:17<00:00,  2.17s/it, a_r=0.897, d_r=0.909, loss=0.000183, r_a=0.998\n"
     ]
    },
    {
     "name": "stdout",
     "output_type": "stream",
     "text": [
      "epoch: 2/10, train loss = 0.000190\n"
     ]
    },
    {
     "name": "stderr",
     "output_type": "stream",
     "text": [
      "Epoch (train) 3/10: 100%|█| 2716/2716 [1:36:22<00:00,  2.13s/it, a_r=0.905, d_r=0.914, loss=0.000171, r_a=0.999\n"
     ]
    },
    {
     "name": "stdout",
     "output_type": "stream",
     "text": [
      "epoch: 3/10, train loss = 0.000169\n"
     ]
    },
    {
     "name": "stderr",
     "output_type": "stream",
     "text": [
      "Epoch (train) 4/10: 100%|█| 2716/2716 [1:36:36<00:00,  2.13s/it, a_r=0.919, d_r=0.926, loss=0.000152, r_a=0.999\n"
     ]
    },
    {
     "name": "stdout",
     "output_type": "stream",
     "text": [
      "epoch: 4/10, train loss = 0.000155\n"
     ]
    },
    {
     "name": "stderr",
     "output_type": "stream",
     "text": [
      "Epoch (train) 5/10: 100%|█| 2716/2716 [1:39:58<00:00,  2.21s/it, a_r=0.928, d_r=0.934, loss=0.000143, r_a=0.999\n"
     ]
    },
    {
     "name": "stdout",
     "output_type": "stream",
     "text": [
      "epoch: 5/10, train loss = 0.000144\n"
     ]
    },
    {
     "name": "stderr",
     "output_type": "stream",
     "text": [
      "Epoch (train) 6/10: 100%|█| 2716/2716 [1:39:55<00:00,  2.21s/it, a_r=0.932, d_r=0.938, loss=0.000129, r_a=0.999\n"
     ]
    },
    {
     "name": "stdout",
     "output_type": "stream",
     "text": [
      "epoch: 6/10, train loss = 0.000132\n"
     ]
    },
    {
     "name": "stderr",
     "output_type": "stream",
     "text": [
      "Epoch (train) 7/10: 100%|█| 2716/2716 [1:41:04<00:00,  2.23s/it, a_r=0.951, d_r=0.954, loss=0.000107, r_a=0.999\n"
     ]
    },
    {
     "name": "stdout",
     "output_type": "stream",
     "text": [
      "epoch: 7/10, train loss = 0.000107\n"
     ]
    },
    {
     "name": "stderr",
     "output_type": "stream",
     "text": [
      "Epoch (train) 8/10: 100%|█| 2716/2716 [1:40:43<00:00,  2.23s/it, a_r=0.959, d_r=0.963, loss=8.78e-5, r_a=1, r_d\n"
     ]
    },
    {
     "name": "stdout",
     "output_type": "stream",
     "text": [
      "epoch: 8/10, train loss = 0.000090\n"
     ]
    },
    {
     "name": "stderr",
     "output_type": "stream",
     "text": [
      "Epoch (train) 9/10: 100%|█| 2716/2716 [1:40:47<00:00,  2.23s/it, a_r=0.965, d_r=0.968, loss=8.01e-5, r_a=1, r_d\n"
     ]
    },
    {
     "name": "stdout",
     "output_type": "stream",
     "text": [
      "epoch: 9/10, train loss = 0.000079\n"
     ]
    },
    {
     "name": "stderr",
     "output_type": "stream",
     "text": [
      "Epoch (train) 10/10: 100%|█| 2716/2716 [1:36:48<00:00,  2.14s/it, a_r=0.967, d_r=0.97, loss=7.27e-5, r_a=1, r_d\n"
     ]
    },
    {
     "name": "stdout",
     "output_type": "stream",
     "text": [
      "epoch: 10/10, train loss = 0.000072\n"
     ]
    },
    {
     "data": {
      "image/png": "[encoded data removed]",
      "text/plain": [
       "<Figure size 640x480 with 1 Axes>"
      ]
     },
     "metadata": {},
     "output_type": "display_data"
    },
    {
     "name": "stderr",
     "output_type": "stream",
     "text": [
      "Epoch (train) 1/10: 100%|█| 2716/2716 [1:38:36<00:00,  2.18s/it, a_r=0.858, d_r=0.876, loss=0.000225, r_a=0.998\n"
     ]
    },
    {
     "name": "stdout",
     "output_type": "stream",
     "text": [
      "epoch: 1/10, train loss = 0.015235\n"
     ]
    },
    {
     "name": "stderr",
     "output_type": "stream",
     "text": [
      "Epoch (train) 2/10: 100%|█| 2716/2716 [1:40:56<00:00,  2.23s/it, a_r=0.901, d_r=0.911, loss=0.000175, r_a=0.998\n"
     ]
    },
    {
     "name": "stdout",
     "output_type": "stream",
     "text": [
      "epoch: 2/10, train loss = 0.000189\n"
     ]
    },
    {
     "name": "stderr",
     "output_type": "stream",
     "text": [
      "Epoch (train) 3/10: 100%|█| 2716/2716 [1:40:40<00:00,  2.22s/it, a_r=0.907, d_r=0.915, loss=0.000166, r_a=0.999\n"
     ]
    },
    {
     "name": "stdout",
     "output_type": "stream",
     "text": [
      "epoch: 3/10, train loss = 0.000168\n"
     ]
    },
    {
     "name": "stderr",
     "output_type": "stream",
     "text": [
      "Epoch (train) 4/10: 100%|█| 2716/2716 [1:38:03<00:00,  2.17s/it, a_r=0.919, d_r=0.928, loss=0.000146, r_a=0.999\n"
     ]
    },
    {
     "name": "stdout",
     "output_type": "stream",
     "text": [
      "epoch: 4/10, train loss = 0.000155\n"
     ]
    },
    {
     "name": "stderr",
     "output_type": "stream",
     "text": [
      "Epoch (train) 5/10: 100%|█| 2716/2716 [1:39:04<00:00,  2.19s/it, a_r=0.927, d_r=0.931, loss=0.000143, r_a=0.999\n"
     ]
    },
    {
     "name": "stdout",
     "output_type": "stream",
     "text": [
      "epoch: 5/10, train loss = 0.000142\n"
     ]
    },
    {
     "name": "stderr",
     "output_type": "stream",
     "text": [
      "Epoch (train) 6/10: 100%|█| 2716/2716 [1:36:50<00:00,  2.14s/it, a_r=0.938, d_r=0.943, loss=0.000126, r_a=0.999\n"
     ]
    },
    {
     "name": "stdout",
     "output_type": "stream",
     "text": [
      "epoch: 6/10, train loss = 0.000132\n"
     ]
    },
    {
     "name": "stderr",
     "output_type": "stream",
     "text": [
      "Epoch (train) 7/10: 100%|█| 2716/2716 [1:37:19<00:00,  2.15s/it, a_r=0.953, d_r=0.957, loss=9.82e-5, r_a=0.999,\n"
     ]
    },
    {
     "name": "stdout",
     "output_type": "stream",
     "text": [
      "epoch: 7/10, train loss = 0.000106\n"
     ]
    },
    {
     "name": "stderr",
     "output_type": "stream",
     "text": [
      "Epoch (train) 8/10: 100%|█| 2716/2716 [1:41:31<00:00,  2.24s/it, a_r=0.959, d_r=0.963, loss=8.81e-5, r_a=1, r_d\n"
     ]
    },
    {
     "name": "stdout",
     "output_type": "stream",
     "text": [
      "epoch: 8/10, train loss = 0.000090\n"
     ]
    },
    {
     "name": "stderr",
     "output_type": "stream",
     "text": [
      "Epoch (train) 9/10: 100%|█| 2716/2716 [1:41:12<00:00,  2.24s/it, a_r=0.965, d_r=0.968, loss=7.83e-5, r_a=0.999,\n"
     ]
    },
    {
     "name": "stdout",
     "output_type": "stream",
     "text": [
      "epoch: 9/10, train loss = 0.000080\n"
     ]
    },
    {
     "name": "stderr",
     "output_type": "stream",
     "text": [
      "Epoch (train) 10/10: 100%|█| 2716/2716 [1:40:48<00:00,  2.23s/it, a_r=0.967, d_r=0.969, loss=7.31e-5, r_a=1, r_"
     ]
    },
    {
     "name": "stdout",
     "output_type": "stream",
     "text": [
      "epoch: 10/10, train loss = 0.000073\n"
     ]
    },
    {
     "name": "stderr",
     "output_type": "stream",
     "text": [
      "\n"
     ]
    },
    {
     "data": {
      "image/png": "[encoded data removed]",
      "text/plain": [
       "<Figure size 640x480 with 1 Axes>"
      ]
     },
     "metadata": {},
     "output_type": "display_data"
    },
    {
     "name": "stderr",
     "output_type": "stream",
     "text": [
      "Epoch (train) 1/10: 100%|█| 2716/2716 [1:39:59<00:00,  2.21s/it, a_r=0.865, d_r=0.882, loss=0.000212, r_a=0.997\n"
     ]
    },
    {
     "name": "stdout",
     "output_type": "stream",
     "text": [
      "epoch: 1/10, train loss = 0.015458\n"
     ]
    },
    {
     "name": "stderr",
     "output_type": "stream",
     "text": [
      "Epoch (train) 2/10: 100%|█| 2716/2716 [1:39:54<00:00,  2.21s/it, a_r=0.896, d_r=0.901, loss=0.00018, r_a=0.997,\n"
     ]
    },
    {
     "name": "stdout",
     "output_type": "stream",
     "text": [
      "epoch: 2/10, train loss = 0.000189\n"
     ]
    },
    {
     "name": "stderr",
     "output_type": "stream",
     "text": [
      "Epoch (train) 3/10: 100%|█| 2716/2716 [1:37:09<00:00,  2.15s/it, a_r=0.91, d_r=0.92, loss=0.000159, r_a=0.997, \n"
     ]
    },
    {
     "name": "stdout",
     "output_type": "stream",
     "text": [
      "epoch: 3/10, train loss = 0.000167\n"
     ]
    },
    {
     "name": "stderr",
     "output_type": "stream",
     "text": [
      "Epoch (train) 4/10: 100%|█| 2716/2716 [1:40:31<00:00,  2.22s/it, a_r=0.917, d_r=0.926, loss=0.000156, r_a=0.997\n"
     ]
    },
    {
     "name": "stdout",
     "output_type": "stream",
     "text": [
      "epoch: 4/10, train loss = 0.000154\n"
     ]
    },
    {
     "name": "stderr",
     "output_type": "stream",
     "text": [
      "Epoch (train) 5/10: 100%|█| 2716/2716 [1:41:22<00:00,  2.24s/it, a_r=0.924, d_r=0.928, loss=0.000146, r_a=0.997\n"
     ]
    },
    {
     "name": "stdout",
     "output_type": "stream",
     "text": [
      "epoch: 5/10, train loss = 0.000145\n"
     ]
    },
    {
     "name": "stderr",
     "output_type": "stream",
     "text": [
      "Epoch (train) 6/10: 100%|█████████████████████████████████████████████████████████████████████████████████████████████████████████████████████████████████████████| 2716/2716 [1:40:43<00:00,  2.23s/it, a_r=0.928, d_r=0.935, loss=0.000139, r_a=0.998, r_d=0.999, r_loss=0.18]\n"
     ]
    },
    {
     "name": "stdout",
     "output_type": "stream",
     "text": [
      "epoch: 6/10, train loss = 0.000135\n"
     ]
    },
    {
     "name": "stderr",
     "output_type": "stream",
     "text": [
      "Epoch (train) 7/10: 100%|██████████████████████████████████████████████████████████████████████████████████████████████████████████████████████████████████████████| 2716/2716 [1:37:56<00:00,  2.16s/it, a_r=0.944, d_r=0.95, loss=0.00011, r_a=0.999, r_d=0.999, r_loss=0.146]\n"
     ]
    },
    {
     "name": "stdout",
     "output_type": "stream",
     "text": [
      "epoch: 7/10, train loss = 0.000111\n"
     ]
    },
    {
     "name": "stderr",
     "output_type": "stream",
     "text": [
      "Epoch (train) 8/10: 100%|█████████████████████████████████████████████████████████████████████████████████████████████████████████████████████████████████████████| 2716/2716 [1:38:11<00:00,  2.17s/it, a_r=0.954, d_r=0.958, loss=9.79e-5, r_a=0.999, r_d=0.999, r_loss=0.126]\n"
     ]
    },
    {
     "name": "stdout",
     "output_type": "stream",
     "text": [
      "epoch: 8/10, train loss = 0.000095\n"
     ]
    },
    {
     "name": "stderr",
     "output_type": "stream",
     "text": [
      "Epoch (train) 9/10: 100%|█████████████████████████████████████████████████████████████████████████████████████████████████████████████████████████████████████████| 2716/2716 [1:39:45<00:00,  2.20s/it, a_r=0.963, d_r=0.965, loss=8.48e-5, r_a=0.999, r_d=0.999, r_loss=0.106]\n"
     ]
    },
    {
     "name": "stdout",
     "output_type": "stream",
     "text": [
      "epoch: 9/10, train loss = 0.000086\n"
     ]
    },
    {
     "name": "stderr",
     "output_type": "stream",
     "text": [
      "Epoch (train) 10/10:  15%|████████████████████▋                                                                                                                     | 407/2716 [15:14<1:25:25,  2.22s/it, a_r=0.966, d_r=0.968, loss=7.49e-5, r_a=0.999, r_d=0.999, r_loss=0.12]"
     ]
    }
   ],
   "source": [
    "for model_nr in range(5):\n",
    "    #model_m = SpliceFormer(CL_max,n_channels=128,depth=4,n_heads=2,dim_head=128,dropout=0.1)\n",
    "    model_m = SpliceFormer(CL_max,maxSeqLength=1024,bn_momentum=0.01/NUM_ACCUMULATION_STEPS,depth=4,heads=4,n_transformer_blocks=2)\n",
    "    model_m.apply(keras_init)\n",
    "    model_m = model_m.to(device)\n",
    "    if torch.cuda.device_count() > 1:\n",
    "        #print(\"Let's use\", torch.cuda.device_count(), \"GPUs!\")\n",
    "        # dim = 0 [30, xxx] -> [10, ...], [10, ...], [10, ...] on 3 GPUs\n",
    "        model_m = nn.DataParallel(model_m)\n",
    "        \n",
    "    model_m = torch.compile(model_m)\n",
    "    \n",
    "    modelFileName = '../Results/PyTorch_Models/transformer_encoder_60k_200323_{}'.format(model_nr)\n",
    "    #loss = categorical_crossentropy_2d().loss\n",
    "    loss = torch.nn.CrossEntropyLoss()\n",
    "    optimizer = torch.optim.AdamW(model_m.parameters(), lr=learning_rate, weight_decay=1e-5)\n",
    "    scheduler = torch.optim.lr_scheduler.StepLR(optimizer, step_size=1, gamma=gamma)\n",
    "    warmup = get_constant_schedule_with_warmup(optimizer, num_warmup_steps=1000)\n",
    "    h = trainModel(model_m,modelFileName,loss,train_loader,val_loader,optimizer,scheduler,warmup,BATCH_SIZE,epochs,device,skipValidation=True,NUM_ACCUMULATION_STEPS=NUM_ACCUMULATION_STEPS,reinforce=True,no_softmax=True,CL_max=CL_max)\n",
    "    hs.append(h)\n",
    "\n",
    "    plt.plot(range(epochs),h['loss'],label='Train')\n",
    "    #plt.plot(range(epochs),h['val_loss'],label='Validation')\n",
    "    plt.xlabel('Epoch')\n",
    "    plt.ylabel('Loss')\n",
    "    plt.legend()\n",
    "    plt.show()"
   ]
  },
  {
   "cell_type": "code",
   "execution_count": 15,
   "metadata": {},
   "outputs": [
    {
     "name": "stderr",
     "output_type": "stream",
     "text": [
      "Epoch (train) 1/10:  79%|████████████████████████████████████████████████████████████████████████████████████████████████████████████                             | 2142/2716 [1:03:01<17:14,  1.80s/it, a_r=0.851, d_r=0.85, loss=0.000244, r_a=0.994, r_d=0.0157, r_loss=3.49]"
     ]
    }
   ],
   "source": [
    "for model_nr in range(3,5):\n",
    "    #model_m = SpliceFormer(CL_max,n_channels=128,depth=4,n_heads=2,dim_head=128,dropout=0.1)\n",
    "    model_m = SpliceFormer(CL_max,maxSeqLength=1024,bn_momentum=0.01/NUM_ACCUMULATION_STEPS,depth=4,heads=4,n_transformer_blocks=2)\n",
    "    model_m.apply(keras_init)\n",
    "    model_m = model_m.to(device)\n",
    "    if torch.cuda.device_count() > 1:\n",
    "        #print(\"Let's use\", torch.cuda.device_count(), \"GPUs!\")\n",
    "        # dim = 0 [30, xxx] -> [10, ...], [10, ...], [10, ...] on 3 GPUs\n",
    "        model_m = nn.DataParallel(model_m)\n",
    "        \n",
    "    model_m = torch.compile(model_m)\n",
    "    \n",
    "    modelFileName = '../Results/PyTorch_Models/transformer_encoder_60k_200323_{}'.format(model_nr)\n",
    "    #loss = categorical_crossentropy_2d().loss\n",
    "    loss = torch.nn.CrossEntropyLoss()\n",
    "    optimizer = torch.optim.AdamW(model_m.parameters(), lr=learning_rate, weight_decay=1e-5)\n",
    "    scheduler = torch.optim.lr_scheduler.StepLR(optimizer, step_size=1, gamma=gamma)\n",
    "    warmup = get_constant_schedule_with_warmup(optimizer, num_warmup_steps=1000)\n",
    "    h = trainModel(model_m,modelFileName,loss,train_loader,val_loader,optimizer,scheduler,warmup,BATCH_SIZE,epochs,device,skipValidation=True,NUM_ACCUMULATION_STEPS=NUM_ACCUMULATION_STEPS,reinforce=True,no_softmax=True,CL_max=CL_max)\n",
    "    hs.append(h)\n",
    "\n",
    "    plt.plot(range(epochs),h['loss'],label='Train')\n",
    "    #plt.plot(range(epochs),h['val_loss'],label='Validation')\n",
    "    plt.xlabel('Epoch')\n",
    "    plt.ylabel('Loss')\n",
    "    plt.legend()\n",
    "    plt.show()"
   ]
  },
  {
   "cell_type": "code",
   "execution_count": 16,
   "metadata": {},
   "outputs": [
    {
     "ename": "RuntimeError",
     "evalue": "Error(s) in loading state_dict for DataParallel:\n\tMissing key(s) in state_dict: \"module.SpliceAI.conv_layer_1.weight\", \"module.SpliceAI.conv_layer_1.bias\", \"module.SpliceAI.skip_layers.0.weight\", \"module.SpliceAI.skip_layers.0.bias\", \"module.SpliceAI.skip_layers.1.weight\", \"module.SpliceAI.skip_layers.1.bias\", \"module.SpliceAI.skip_layers.2.weight\", \"module.SpliceAI.skip_layers.2.bias\", \"module.SpliceAI.skip_layers.3.weight\", \"module.SpliceAI.skip_layers.3.bias\", \"module.SpliceAI.skip_layers.4.weight\", \"module.SpliceAI.skip_layers.4.bias\", \"module.SpliceAI.res_layers.0.comboBlock.0.convlayer1.weight\", \"module.SpliceAI.res_layers.0.comboBlock.0.convlayer1.bias\", \"module.SpliceAI.res_layers.0.comboBlock.0.convlayer2.weight\", \"module.SpliceAI.res_layers.0.comboBlock.0.convlayer2.bias\", \"module.SpliceAI.res_layers.0.comboBlock.0.bn1.weight\", \"module.SpliceAI.res_layers.0.comboBlock.0.bn1.bias\", \"module.SpliceAI.res_layers.0.comboBlock.0.bn1.running_mean\", \"module.SpliceAI.res_layers.0.comboBlock.0.bn1.running_var\", \"module.SpliceAI.res_layers.0.comboBlock.0.bn2.weight\", \"module.SpliceAI.res_layers.0.comboBlock.0.bn2.bias\", \"module.SpliceAI.res_layers.0.comboBlock.0.bn2.running_mean\", \"module.SpliceAI.res_layers.0.comboBlock.0.bn2.running_var\", \"module.SpliceAI.res_layers.0.comboBlock.1.convlayer1.weight\", \"module.SpliceAI.res_layers.0.comboBlock.1.convlayer1.bias\", \"module.SpliceAI.res_layers.0.comboBlock.1.convlayer2.weight\", \"module.SpliceAI.res_layers.0.comboBlock.1.convlayer2.bias\", \"module.SpliceAI.res_layers.0.comboBlock.1.bn1.weight\", \"module.SpliceAI.res_layers.0.comboBlock.1.bn1.bias\", \"module.SpliceAI.res_layers.0.comboBlock.1.bn1.running_mean\", \"module.SpliceAI.res_layers.0.comboBlock.1.bn1.running_var\", \"module.SpliceAI.res_layers.0.comboBlock.1.bn2.weight\", \"module.SpliceAI.res_layers.0.comboBlock.1.bn2.bias\", \"module.SpliceAI.res_layers.0.comboBlock.1.bn2.running_mean\", \"module.SpliceAI.res_layers.0.comboBlock.1.bn2.running_var\", \"module.SpliceAI.res_layers.0.comboBlock.2.convlayer1.weight\", \"module.SpliceAI.res_layers.0.comboBlock.2.convlayer1.bias\", \"module.SpliceAI.res_layers.0.comboBlock.2.convlayer2.weight\", \"module.SpliceAI.res_layers.0.comboBlock.2.convlayer2.bias\", \"module.SpliceAI.res_layers.0.comboBlock.2.bn1.weight\", \"module.SpliceAI.res_layers.0.comboBlock.2.bn1.bias\", \"module.SpliceAI.res_layers.0.comboBlock.2.bn1.running_mean\", \"module.SpliceAI.res_layers.0.comboBlock.2.bn1.running_var\", \"module.SpliceAI.res_layers.0.comboBlock.2.bn2.weight\", \"module.SpliceAI.res_layers.0.comboBlock.2.bn2.bias\", \"module.SpliceAI.res_layers.0.comboBlock.2.bn2.running_mean\", \"module.SpliceAI.res_layers.0.comboBlock.2.bn2.running_var\", \"module.SpliceAI.res_layers.0.comboBlock.3.convlayer1.weight\", \"module.SpliceAI.res_layers.0.comboBlock.3.convlayer1.bias\", \"module.SpliceAI.res_layers.0.comboBlock.3.convlayer2.weight\", \"module.SpliceAI.res_layers.0.comboBlock.3.convlayer2.bias\", \"module.SpliceAI.res_layers.0.comboBlock.3.bn1.weight\", \"module.SpliceAI.res_layers.0.comboBlock.3.bn1.bias\", \"module.SpliceAI.res_layers.0.comboBlock.3.bn1.running_mean\", \"module.SpliceAI.res_layers.0.comboBlock.3.bn1.running_var\", \"module.SpliceAI.res_layers.0.comboBlock.3.bn2.weight\", \"module.SpliceAI.res_layers.0.comboBlock.3.bn2.bias\", \"module.SpliceAI.res_layers.0.comboBlock.3.bn2.running_mean\", \"module.SpliceAI.res_layers.0.comboBlock.3.bn2.running_var\", \"module.SpliceAI.res_layers.1.comboBlock.0.convlayer1.weight\", \"module.SpliceAI.res_layers.1.comboBlock.0.convlayer1.bias\", \"module.SpliceAI.res_layers.1.comboBlock.0.convlayer2.weight\", \"module.SpliceAI.res_layers.1.comboBlock.0.convlayer2.bias\", \"module.SpliceAI.res_layers.1.comboBlock.0.bn1.weight\", \"module.SpliceAI.res_layers.1.comboBlock.0.bn1.bias\", \"module.SpliceAI.res_layers.1.comboBlock.0.bn1.running_mean\", \"module.SpliceAI.res_layers.1.comboBlock.0.bn1.running_var\", \"module.SpliceAI.res_layers.1.comboBlock.0.bn2.weight\", \"module.SpliceAI.res_layers.1.comboBlock.0.bn2.bias\", \"module.SpliceAI.res_layers.1.comboBlock.0.bn2.running_mean\", \"module.SpliceAI.res_layers.1.comboBlock.0.bn2.running_var\", \"module.SpliceAI.res_layers.1.comboBlock.1.convlayer1.weight\", \"module.SpliceAI.res_layers.1.comboBlock.1.convlayer1.bias\", \"module.SpliceAI.res_layers.1.comboBlock.1.convlayer2.weight\", \"module.SpliceAI.res_layers.1.comboBlock.1.convlayer2.bias\", \"module.SpliceAI.res_layers.1.comboBlock.1.bn1.weight\", \"module.SpliceAI.res_layers.1.comboBlock.1.bn1.bias\", \"module.SpliceAI.res_layers.1.comboBlock.1.bn1.running_mean\", \"module.SpliceAI.res_layers.1.comboBlock.1.bn1.running_var\", \"module.SpliceAI.res_layers.1.comboBlock.1.bn2.weight\", \"module.SpliceAI.res_layers.1.comboBlock.1.bn2.bias\", \"module.SpliceAI.res_layers.1.comboBlock.1.bn2.running_mean\", \"module.SpliceAI.res_layers.1.comboBlock.1.bn2.running_var\", \"module.SpliceAI.res_layers.1.comboBlock.2.convlayer1.weight\", \"module.SpliceAI.res_layers.1.comboBlock.2.convlayer1.bias\", \"module.SpliceAI.res_layers.1.comboBlock.2.convlayer2.weight\", \"module.SpliceAI.res_layers.1.comboBlock.2.convlayer2.bias\", \"module.SpliceAI.res_layers.1.comboBlock.2.bn1.weight\", \"module.SpliceAI.res_layers.1.comboBlock.2.bn1.bias\", \"module.SpliceAI.res_layers.1.comboBlock.2.bn1.running_mean\", \"module.SpliceAI.res_layers.1.comboBlock.2.bn1.running_var\", \"module.SpliceAI.res_layers.1.comboBlock.2.bn2.weight\", \"module.SpliceAI.res_layers.1.comboBlock.2.bn2.bias\", \"module.SpliceAI.res_layers.1.comboBlock.2.bn2.running_mean\", \"module.SpliceAI.res_layers.1.comboBlock.2.bn2.running_var\", \"module.SpliceAI.res_layers.1.comboBlock.3.convlayer1.weight\", \"module.SpliceAI.res_layers.1.comboBlock.3.convlayer1.bias\", \"module.SpliceAI.res_layers.1.comboBlock.3.convlayer2.weight\", \"module.SpliceAI.res_layers.1.comboBlock.3.convlayer2.bias\", \"module.SpliceAI.res_layers.1.comboBlock.3.bn1.weight\", \"module.SpliceAI.res_layers.1.comboBlock.3.bn1.bias\", \"module.SpliceAI.res_layers.1.comboBlock.3.bn1.running_mean\", \"module.SpliceAI.res_layers.1.comboBlock.3.bn1.running_var\", \"module.SpliceAI.res_layers.1.comboBlock.3.bn2.weight\", \"module.SpliceAI.res_layers.1.comboBlock.3.bn2.bias\", \"module.SpliceAI.res_layers.1.comboBlock.3.bn2.running_mean\", \"module.SpliceAI.res_layers.1.comboBlock.3.bn2.running_var\", \"module.SpliceAI.res_layers.2.comboBlock.0.convlayer1.weight\", \"module.SpliceAI.res_layers.2.comboBlock.0.convlayer1.bias\", \"module.SpliceAI.res_layers.2.comboBlock.0.convlayer2.weight\", \"module.SpliceAI.res_layers.2.comboBlock.0.convlayer2.bias\", \"module.SpliceAI.res_layers.2.comboBlock.0.bn1.weight\", \"module.SpliceAI.res_layers.2.comboBlock.0.bn1.bias\", \"module.SpliceAI.res_layers.2.comboBlock.0.bn1.running_mean\", \"module.SpliceAI.res_layers.2.comboBlock.0.bn1.running_var\", \"module.SpliceAI.res_layers.2.comboBlock.0.bn2.weight\", \"module.SpliceAI.res_layers.2.comboBlock.0.bn2.bias\", \"module.SpliceAI.res_layers.2.comboBlock.0.bn2.running_mean\", \"module.SpliceAI.res_layers.2.comboBlock.0.bn2.running_var\", \"module.SpliceAI.res_layers.2.comboBlock.1.convlayer1.weight\", \"module.SpliceAI.res_layers.2.comboBlock.1.convlayer1.bias\", \"module.SpliceAI.res_layers.2.comboBlock.1.convlayer2.weight\", \"module.SpliceAI.res_layers.2.comboBlock.1.convlayer2.bias\", \"module.SpliceAI.res_layers.2.comboBlock.1.bn1.weight\", \"module.SpliceAI.res_layers.2.comboBlock.1.bn1.bias\", \"module.SpliceAI.res_layers.2.comboBlock.1.bn1.running_mean\", \"module.SpliceAI.res_layers.2.comboBlock.1.bn1.running_var\", \"module.SpliceAI.res_layers.2.comboBlock.1.bn2.weight\", \"module.SpliceAI.res_layers.2.comboBlock.1.bn2.bias\", \"module.SpliceAI.res_layers.2.comboBlock.1.bn2.running_mean\", \"module.SpliceAI.res_layers.2.comboBlock.1.bn2.running_var\", \"module.SpliceAI.res_layers.2.comboBlock.2.convlayer1.weight\", \"module.SpliceAI.res_layers.2.comboBlock.2.convlayer1.bias\", \"module.SpliceAI.res_layers.2.comboBlock.2.convlayer2.weight\", \"module.SpliceAI.res_layers.2.comboBlock.2.convlayer2.bias\", \"module.SpliceAI.res_layers.2.comboBlock.2.bn1.weight\", \"module.SpliceAI.res_layers.2.comboBlock.2.bn1.bias\", \"module.SpliceAI.res_layers.2.comboBlock.2.bn1.running_mean\", \"module.SpliceAI.res_layers.2.comboBlock.2.bn1.running_var\", \"module.SpliceAI.res_layers.2.comboBlock.2.bn2.weight\", \"module.SpliceAI.res_layers.2.comboBlock.2.bn2.bias\", \"module.SpliceAI.res_layers.2.comboBlock.2.bn2.running_mean\", \"module.SpliceAI.res_layers.2.comboBlock.2.bn2.running_var\", \"module.SpliceAI.res_layers.2.comboBlock.3.convlayer1.weight\", \"module.SpliceAI.res_layers.2.comboBlock.3.convlayer1.bias\", \"module.SpliceAI.res_layers.2.comboBlock.3.convlayer2.weight\", \"module.SpliceAI.res_layers.2.comboBlock.3.convlayer2.bias\", \"module.SpliceAI.res_layers.2.comboBlock.3.bn1.weight\", \"module.SpliceAI.res_layers.2.comboBlock.3.bn1.bias\", \"module.SpliceAI.res_layers.2.comboBlock.3.bn1.running_mean\", \"module.SpliceAI.res_layers.2.comboBlock.3.bn1.running_var\", \"module.SpliceAI.res_layers.2.comboBlock.3.bn2.weight\", \"module.SpliceAI.res_layers.2.comboBlock.3.bn2.bias\", \"module.SpliceAI.res_layers.2.comboBlock.3.bn2.running_mean\", \"module.SpliceAI.res_layers.2.comboBlock.3.bn2.running_var\", \"module.SpliceAI.res_layers.3.comboBlock.0.convlayer1.weight\", \"module.SpliceAI.res_layers.3.comboBlock.0.convlayer1.bias\", \"module.SpliceAI.res_layers.3.comboBlock.0.convlayer2.weight\", \"module.SpliceAI.res_layers.3.comboBlock.0.convlayer2.bias\", \"module.SpliceAI.res_layers.3.comboBlock.0.bn1.weight\", \"module.SpliceAI.res_layers.3.comboBlock.0.bn1.bias\", \"module.SpliceAI.res_layers.3.comboBlock.0.bn1.running_mean\", \"module.SpliceAI.res_layers.3.comboBlock.0.bn1.running_var\", \"module.SpliceAI.res_layers.3.comboBlock.0.bn2.weight\", \"module.SpliceAI.res_layers.3.comboBlock.0.bn2.bias\", \"module.SpliceAI.res_layers.3.comboBlock.0.bn2.running_mean\", \"module.SpliceAI.res_layers.3.comboBlock.0.bn2.running_var\", \"module.SpliceAI.res_layers.3.comboBlock.1.convlayer1.weight\", \"module.SpliceAI.res_layers.3.comboBlock.1.convlayer1.bias\", \"module.SpliceAI.res_layers.3.comboBlock.1.convlayer2.weight\", \"module.SpliceAI.res_layers.3.comboBlock.1.convlayer2.bias\", \"module.SpliceAI.res_layers.3.comboBlock.1.bn1.weight\", \"module.SpliceAI.res_layers.3.comboBlock.1.bn1.bias\", \"module.SpliceAI.res_layers.3.comboBlock.1.bn1.running_mean\", \"module.SpliceAI.res_layers.3.comboBlock.1.bn1.running_var\", \"module.SpliceAI.res_layers.3.comboBlock.1.bn2.weight\", \"module.SpliceAI.res_layers.3.comboBlock.1.bn2.bias\", \"module.SpliceAI.res_layers.3.comboBlock.1.bn2.running_mean\", \"module.SpliceAI.res_layers.3.comboBlock.1.bn2.running_var\", \"module.SpliceAI.res_layers.3.comboBlock.2.convlayer1.weight\", \"module.SpliceAI.res_layers.3.comboBlock.2.convlayer1.bias\", \"module.SpliceAI.res_layers.3.comboBlock.2.convlayer2.weight\", \"module.SpliceAI.res_layers.3.comboBlock.2.convlayer2.bias\", \"module.SpliceAI.res_layers.3.comboBlock.2.bn1.weight\", \"module.SpliceAI.res_layers.3.comboBlock.2.bn1.bias\", \"module.SpliceAI.res_layers.3.comboBlock.2.bn1.running_mean\", \"module.SpliceAI.res_layers.3.comboBlock.2.bn1.running_var\", \"module.SpliceAI.res_layers.3.comboBlock.2.bn2.weight\", \"module.SpliceAI.res_layers.3.comboBlock.2.bn2.bias\", \"module.SpliceAI.res_layers.3.comboBlock.2.bn2.running_mean\", \"module.SpliceAI.res_layers.3.comboBlock.2.bn2.running_var\", \"module.SpliceAI.res_layers.3.comboBlock.3.convlayer1.weight\", \"module.SpliceAI.res_layers.3.comboBlock.3.convlayer1.bias\", \"module.SpliceAI.res_layers.3.comboBlock.3.convlayer2.weight\", \"module.SpliceAI.res_layers.3.comboBlock.3.convlayer2.bias\", \"module.SpliceAI.res_layers.3.comboBlock.3.bn1.weight\", \"module.SpliceAI.res_layers.3.comboBlock.3.bn1.bias\", \"module.SpliceAI.res_layers.3.comboBlock.3.bn1.running_mean\", \"module.SpliceAI.res_layers.3.comboBlock.3.bn1.running_var\", \"module.SpliceAI.res_layers.3.comboBlock.3.bn2.weight\", \"module.SpliceAI.res_layers.3.comboBlock.3.bn2.bias\", \"module.SpliceAI.res_layers.3.comboBlock.3.bn2.running_mean\", \"module.SpliceAI.res_layers.3.comboBlock.3.bn2.running_var\", \"module.conv_final.weight\", \"module.conv_final.bias\", \"module.policy.affine1.weight\", \"module.policy.affine1.bias\", \"module.policy.affine2.weight\", \"module.policy.affine2.bias\", \"module.skip_layers.0.weight\", \"module.skip_layers.0.bias\", \"module.skip_layers.1.weight\", \"module.skip_layers.1.bias\", \"module.skip_layers.2.weight\", \"module.skip_layers.2.bias\", \"module.transformerBlocks.0.layers.0.0.to_qkv.weight\", \"module.transformerBlocks.0.layers.0.0.gate.weight\", \"module.transformerBlocks.0.layers.0.0.gate.bias\", \"module.transformerBlocks.0.layers.0.0.to_out.0.weight\", \"module.transformerBlocks.0.layers.0.0.to_out.0.bias\", \"module.transformerBlocks.0.layers.0.1.net.0.weight\", \"module.transformerBlocks.0.layers.0.1.net.0.bias\", \"module.transformerBlocks.0.layers.0.1.net.3.weight\", \"module.transformerBlocks.0.layers.0.1.net.3.bias\", \"module.transformerBlocks.0.layers.1.0.to_qkv.weight\", \"module.transformerBlocks.0.layers.1.0.gate.weight\", \"module.transformerBlocks.0.layers.1.0.gate.bias\", \"module.transformerBlocks.0.layers.1.0.to_out.0.weight\", \"module.transformerBlocks.0.layers.1.0.to_out.0.bias\", \"module.transformerBlocks.0.layers.1.1.net.0.weight\", \"module.transformerBlocks.0.layers.1.1.net.0.bias\", \"module.transformerBlocks.0.layers.1.1.net.3.weight\", \"module.transformerBlocks.0.layers.1.1.net.3.bias\", \"module.transformerBlocks.0.layers.2.0.to_qkv.weight\", \"module.transformerBlocks.0.layers.2.0.gate.weight\", \"module.transformerBlocks.0.layers.2.0.gate.bias\", \"module.transformerBlocks.0.layers.2.0.to_out.0.weight\", \"module.transformerBlocks.0.layers.2.0.to_out.0.bias\", \"module.transformerBlocks.0.layers.2.1.net.0.weight\", \"module.transformerBlocks.0.layers.2.1.net.0.bias\", \"module.transformerBlocks.0.layers.2.1.net.3.weight\", \"module.transformerBlocks.0.layers.2.1.net.3.bias\", \"module.transformerBlocks.0.layers.3.0.to_qkv.weight\", \"module.transformerBlocks.0.layers.3.0.gate.weight\", \"module.transformerBlocks.0.layers.3.0.gate.bias\", \"module.transformerBlocks.0.layers.3.0.to_out.0.weight\", \"module.transformerBlocks.0.layers.3.0.to_out.0.bias\", \"module.transformerBlocks.0.layers.3.1.net.0.weight\", \"module.transformerBlocks.0.layers.3.1.net.0.bias\", \"module.transformerBlocks.0.layers.3.1.net.3.weight\", \"module.transformerBlocks.0.layers.3.1.net.3.bias\", \"module.transformerBlocks.0.layerNormLayers.0.0.weight\", \"module.transformerBlocks.0.layerNormLayers.0.0.bias\", \"module.transformerBlocks.0.layerNormLayers.0.1.weight\", \"module.transformerBlocks.0.layerNormLayers.0.1.bias\", \"module.transformerBlocks.0.layerNormLayers.1.0.weight\", \"module.transformerBlocks.0.layerNormLayers.1.0.bias\", \"module.transformerBlocks.0.layerNormLayers.1.1.weight\", \"module.transformerBlocks.0.layerNormLayers.1.1.bias\", \"module.transformerBlocks.0.layerNormLayers.2.0.weight\", \"module.transformerBlocks.0.layerNormLayers.2.0.bias\", \"module.transformerBlocks.0.layerNormLayers.2.1.weight\", \"module.transformerBlocks.0.layerNormLayers.2.1.bias\", \"module.transformerBlocks.0.layerNormLayers.3.0.weight\", \"module.transformerBlocks.0.layerNormLayers.3.0.bias\", \"module.transformerBlocks.0.layerNormLayers.3.1.weight\", \"module.transformerBlocks.0.layerNormLayers.3.1.bias\", \"module.transformerBlocks.0.pos_emb.inv_freq\", \"module.transformerBlocks.1.layers.0.0.to_qkv.weight\", \"module.transformerBlocks.1.layers.0.0.gate.weight\", \"module.transformerBlocks.1.layers.0.0.gate.bias\", \"module.transformerBlocks.1.layers.0.0.to_out.0.weight\", \"module.transformerBlocks.1.layers.0.0.to_out.0.bias\", \"module.transformerBlocks.1.layers.0.1.net.0.weight\", \"module.transformerBlocks.1.layers.0.1.net.0.bias\", \"module.transformerBlocks.1.layers.0.1.net.3.weight\", \"module.transformerBlocks.1.layers.0.1.net.3.bias\", \"module.transformerBlocks.1.layers.1.0.to_qkv.weight\", \"module.transformerBlocks.1.layers.1.0.gate.weight\", \"module.transformerBlocks.1.layers.1.0.gate.bias\", \"module.transformerBlocks.1.layers.1.0.to_out.0.weight\", \"module.transformerBlocks.1.layers.1.0.to_out.0.bias\", \"module.transformerBlocks.1.layers.1.1.net.0.weight\", \"module.transformerBlocks.1.layers.1.1.net.0.bias\", \"module.transformerBlocks.1.layers.1.1.net.3.weight\", \"module.transformerBlocks.1.layers.1.1.net.3.bias\", \"module.transformerBlocks.1.layers.2.0.to_qkv.weight\", \"module.transformerBlocks.1.layers.2.0.gate.weight\", \"module.transformerBlocks.1.layers.2.0.gate.bias\", \"module.transformerBlocks.1.layers.2.0.to_out.0.weight\", \"module.transformerBlocks.1.layers.2.0.to_out.0.bias\", \"module.transformerBlocks.1.layers.2.1.net.0.weight\", \"module.transformerBlocks.1.layers.2.1.net.0.bias\", \"module.transformerBlocks.1.layers.2.1.net.3.weight\", \"module.transformerBlocks.1.layers.2.1.net.3.bias\", \"module.transformerBlocks.1.layers.3.0.to_qkv.weight\", \"module.transformerBlocks.1.layers.3.0.gate.weight\", \"module.transformerBlocks.1.layers.3.0.gate.bias\", \"module.transformerBlocks.1.layers.3.0.to_out.0.weight\", \"module.transformerBlocks.1.layers.3.0.to_out.0.bias\", \"module.transformerBlocks.1.layers.3.1.net.0.weight\", \"module.transformerBlocks.1.layers.3.1.net.0.bias\", \"module.transformerBlocks.1.layers.3.1.net.3.weight\", \"module.transformerBlocks.1.layers.3.1.net.3.bias\", \"module.transformerBlocks.1.layerNormLayers.0.0.weight\", \"module.transformerBlocks.1.layerNormLayers.0.0.bias\", \"module.transformerBlocks.1.layerNormLayers.0.1.weight\", \"module.transformerBlocks.1.layerNormLayers.0.1.bias\", \"module.transformerBlocks.1.layerNormLayers.1.0.weight\", \"module.transformerBlocks.1.layerNormLayers.1.0.bias\", \"module.transformerBlocks.1.layerNormLayers.1.1.weight\", \"module.transformerBlocks.1.layerNormLayers.1.1.bias\", \"module.transformerBlocks.1.layerNormLayers.2.0.weight\", \"module.transformerBlocks.1.layerNormLayers.2.0.bias\", \"module.transformerBlocks.1.layerNormLayers.2.1.weight\", \"module.transformerBlocks.1.layerNormLayers.2.1.bias\", \"module.transformerBlocks.1.layerNormLayers.3.0.weight\", \"module.transformerBlocks.1.layerNormLayers.3.0.bias\", \"module.transformerBlocks.1.layerNormLayers.3.1.weight\", \"module.transformerBlocks.1.layerNormLayers.3.1.bias\", \"module.transformerBlocks.1.pos_emb.inv_freq\". \n\tUnexpected key(s) in state_dict: \"_orig_mod.module.SpliceAI.conv_layer_1.weight\", \"_orig_mod.module.SpliceAI.conv_layer_1.bias\", \"_orig_mod.module.SpliceAI.skip_layers.0.weight\", \"_orig_mod.module.SpliceAI.skip_layers.0.bias\", \"_orig_mod.module.SpliceAI.skip_layers.1.weight\", \"_orig_mod.module.SpliceAI.skip_layers.1.bias\", \"_orig_mod.module.SpliceAI.skip_layers.2.weight\", \"_orig_mod.module.SpliceAI.skip_layers.2.bias\", \"_orig_mod.module.SpliceAI.skip_layers.3.weight\", \"_orig_mod.module.SpliceAI.skip_layers.3.bias\", \"_orig_mod.module.SpliceAI.skip_layers.4.weight\", \"_orig_mod.module.SpliceAI.skip_layers.4.bias\", \"_orig_mod.module.SpliceAI.res_layers.0.comboBlock.0.convlayer1.weight\", \"_orig_mod.module.SpliceAI.res_layers.0.comboBlock.0.convlayer1.bias\", \"_orig_mod.module.SpliceAI.res_layers.0.comboBlock.0.convlayer2.weight\", \"_orig_mod.module.SpliceAI.res_layers.0.comboBlock.0.convlayer2.bias\", \"_orig_mod.module.SpliceAI.res_layers.0.comboBlock.0.bn1.weight\", \"_orig_mod.module.SpliceAI.res_layers.0.comboBlock.0.bn1.bias\", \"_orig_mod.module.SpliceAI.res_layers.0.comboBlock.0.bn1.running_mean\", \"_orig_mod.module.SpliceAI.res_layers.0.comboBlock.0.bn1.running_var\", \"_orig_mod.module.SpliceAI.res_layers.0.comboBlock.0.bn1.num_batches_tracked\", \"_orig_mod.module.SpliceAI.res_layers.0.comboBlock.0.bn2.weight\", \"_orig_mod.module.SpliceAI.res_layers.0.comboBlock.0.bn2.bias\", \"_orig_mod.module.SpliceAI.res_layers.0.comboBlock.0.bn2.running_mean\", \"_orig_mod.module.SpliceAI.res_layers.0.comboBlock.0.bn2.running_var\", \"_orig_mod.module.SpliceAI.res_layers.0.comboBlock.0.bn2.num_batches_tracked\", \"_orig_mod.module.SpliceAI.res_layers.0.comboBlock.1.convlayer1.weight\", \"_orig_mod.module.SpliceAI.res_layers.0.comboBlock.1.convlayer1.bias\", \"_orig_mod.module.SpliceAI.res_layers.0.comboBlock.1.convlayer2.weight\", \"_orig_mod.module.SpliceAI.res_layers.0.comboBlock.1.convlayer2.bias\", \"_orig_mod.module.SpliceAI.res_layers.0.comboBlock.1.bn1.weight\", \"_orig_mod.module.SpliceAI.res_layers.0.comboBlock.1.bn1.bias\", \"_orig_mod.module.SpliceAI.res_layers.0.comboBlock.1.bn1.running_mean\", \"_orig_mod.module.SpliceAI.res_layers.0.comboBlock.1.bn1.running_var\", \"_orig_mod.module.SpliceAI.res_layers.0.comboBlock.1.bn1.num_batches_tracked\", \"_orig_mod.module.SpliceAI.res_layers.0.comboBlock.1.bn2.weight\", \"_orig_mod.module.SpliceAI.res_layers.0.comboBlock.1.bn2.bias\", \"_orig_mod.module.SpliceAI.res_layers.0.comboBlock.1.bn2.running_mean\", \"_orig_mod.module.SpliceAI.res_layers.0.comboBlock.1.bn2.running_var\", \"_orig_mod.module.SpliceAI.res_layers.0.comboBlock.1.bn2.num_batches_tracked\", \"_orig_mod.module.SpliceAI.res_layers.0.comboBlock.2.convlayer1.weight\", \"_orig_mod.module.SpliceAI.res_layers.0.comboBlock.2.convlayer1.bias\", \"_orig_mod.module.SpliceAI.res_layers.0.comboBlock.2.convlayer2.weight\", \"_orig_mod.module.SpliceAI.res_layers.0.comboBlock.2.convlayer2.bias\", \"_orig_mod.module.SpliceAI.res_layers.0.comboBlock.2.bn1.weight\", \"_orig_mod.module.SpliceAI.res_layers.0.comboBlock.2.bn1.bias\", \"_orig_mod.module.SpliceAI.res_layers.0.comboBlock.2.bn1.running_mean\", \"_orig_mod.module.SpliceAI.res_layers.0.comboBlock.2.bn1.running_var\", \"_orig_mod.module.SpliceAI.res_layers.0.comboBlock.2.bn1.num_batches_tracked\", \"_orig_mod.module.SpliceAI.res_layers.0.comboBlock.2.bn2.weight\", \"_orig_mod.module.SpliceAI.res_layers.0.comboBlock.2.bn2.bias\", \"_orig_mod.module.SpliceAI.res_layers.0.comboBlock.2.bn2.running_mean\", \"_orig_mod.module.SpliceAI.res_layers.0.comboBlock.2.bn2.running_var\", \"_orig_mod.module.SpliceAI.res_layers.0.comboBlock.2.bn2.num_batches_tracked\", \"_orig_mod.module.SpliceAI.res_layers.0.comboBlock.3.convlayer1.weight\", \"_orig_mod.module.SpliceAI.res_layers.0.comboBlock.3.convlayer1.bias\", \"_orig_mod.module.SpliceAI.res_layers.0.comboBlock.3.convlayer2.weight\", \"_orig_mod.module.SpliceAI.res_layers.0.comboBlock.3.convlayer2.bias\", \"_orig_mod.module.SpliceAI.res_layers.0.comboBlock.3.bn1.weight\", \"_orig_mod.module.SpliceAI.res_layers.0.comboBlock.3.bn1.bias\", \"_orig_mod.module.SpliceAI.res_layers.0.comboBlock.3.bn1.running_mean\", \"_orig_mod.module.SpliceAI.res_layers.0.comboBlock.3.bn1.running_var\", \"_orig_mod.module.SpliceAI.res_layers.0.comboBlock.3.bn1.num_batches_tracked\", \"_orig_mod.module.SpliceAI.res_layers.0.comboBlock.3.bn2.weight\", \"_orig_mod.module.SpliceAI.res_layers.0.comboBlock.3.bn2.bias\", \"_orig_mod.module.SpliceAI.res_layers.0.comboBlock.3.bn2.running_mean\", \"_orig_mod.module.SpliceAI.res_layers.0.comboBlock.3.bn2.running_var\", \"_orig_mod.module.SpliceAI.res_layers.0.comboBlock.3.bn2.num_batches_tracked\", \"_orig_mod.module.SpliceAI.res_layers.1.comboBlock.0.convlayer1.weight\", \"_orig_mod.module.SpliceAI.res_layers.1.comboBlock.0.convlayer1.bias\", \"_orig_mod.module.SpliceAI.res_layers.1.comboBlock.0.convlayer2.weight\", \"_orig_mod.module.SpliceAI.res_layers.1.comboBlock.0.convlayer2.bias\", \"_orig_mod.module.SpliceAI.res_layers.1.comboBlock.0.bn1.weight\", \"_orig_mod.module.SpliceAI.res_layers.1.comboBlock.0.bn1.bias\", \"_orig_mod.module.SpliceAI.res_layers.1.comboBlock.0.bn1.running_mean\", \"_orig_mod.module.SpliceAI.res_layers.1.comboBlock.0.bn1.running_var\", \"_orig_mod.module.SpliceAI.res_layers.1.comboBlock.0.bn1.num_batches_tracked\", \"_orig_mod.module.SpliceAI.res_layers.1.comboBlock.0.bn2.weight\", \"_orig_mod.module.SpliceAI.res_layers.1.comboBlock.0.bn2.bias\", \"_orig_mod.module.SpliceAI.res_layers.1.comboBlock.0.bn2.running_mean\", \"_orig_mod.module.SpliceAI.res_layers.1.comboBlock.0.bn2.running_var\", \"_orig_mod.module.SpliceAI.res_layers.1.comboBlock.0.bn2.num_batches_tracked\", \"_orig_mod.module.SpliceAI.res_layers.1.comboBlock.1.convlayer1.weight\", \"_orig_mod.module.SpliceAI.res_layers.1.comboBlock.1.convlayer1.bias\", \"_orig_mod.module.SpliceAI.res_layers.1.comboBlock.1.convlayer2.weight\", \"_orig_mod.module.SpliceAI.res_layers.1.comboBlock.1.convlayer2.bias\", \"_orig_mod.module.SpliceAI.res_layers.1.comboBlock.1.bn1.weight\", \"_orig_mod.module.SpliceAI.res_layers.1.comboBlock.1.bn1.bias\", \"_orig_mod.module.SpliceAI.res_layers.1.comboBlock.1.bn1.running_mean\", \"_orig_mod.module.SpliceAI.res_layers.1.comboBlock.1.bn1.running_var\", \"_orig_mod.module.SpliceAI.res_layers.1.comboBlock.1.bn1.num_batches_tracked\", \"_orig_mod.module.SpliceAI.res_layers.1.comboBlock.1.bn2.weight\", \"_orig_mod.module.SpliceAI.res_layers.1.comboBlock.1.bn2.bias\", \"_orig_mod.module.SpliceAI.res_layers.1.comboBlock.1.bn2.running_mean\", \"_orig_mod.module.SpliceAI.res_layers.1.comboBlock.1.bn2.running_var\", \"_orig_mod.module.SpliceAI.res_layers.1.comboBlock.1.bn2.num_batches_tracked\", \"_orig_mod.module.SpliceAI.res_layers.1.comboBlock.2.convlayer1.weight\", \"_orig_mod.module.SpliceAI.res_layers.1.comboBlock.2.convlayer1.bias\", \"_orig_mod.module.SpliceAI.res_layers.1.comboBlock.2.convlayer2.weight\", \"_orig_mod.module.SpliceAI.res_layers.1.comboBlock.2.convlayer2.bias\", \"_orig_mod.module.SpliceAI.res_layers.1.comboBlock.2.bn1.weight\", \"_orig_mod.module.SpliceAI.res_layers.1.comboBlock.2.bn1.bias\", \"_orig_mod.module.SpliceAI.res_layers.1.comboBlock.2.bn1.running_mean\", \"_orig_mod.module.SpliceAI.res_layers.1.comboBlock.2.bn1.running_var\", \"_orig_mod.module.SpliceAI.res_layers.1.comboBlock.2.bn1.num_batches_tracked\", \"_orig_mod.module.SpliceAI.res_layers.1.comboBlock.2.bn2.weight\", \"_orig_mod.module.SpliceAI.res_layers.1.comboBlock.2.bn2.bias\", \"_orig_mod.module.SpliceAI.res_layers.1.comboBlock.2.bn2.running_mean\", \"_orig_mod.module.SpliceAI.res_layers.1.comboBlock.2.bn2.running_var\", \"_orig_mod.module.SpliceAI.res_layers.1.comboBlock.2.bn2.num_batches_tracked\", \"_orig_mod.module.SpliceAI.res_layers.1.comboBlock.3.convlayer1.weight\", \"_orig_mod.module.SpliceAI.res_layers.1.comboBlock.3.convlayer1.bias\", \"_orig_mod.module.SpliceAI.res_layers.1.comboBlock.3.convlayer2.weight\", \"_orig_mod.module.SpliceAI.res_layers.1.comboBlock.3.convlayer2.bias\", \"_orig_mod.module.SpliceAI.res_layers.1.comboBlock.3.bn1.weight\", \"_orig_mod.module.SpliceAI.res_layers.1.comboBlock.3.bn1.bias\", \"_orig_mod.module.SpliceAI.res_layers.1.comboBlock.3.bn1.running_mean\", \"_orig_mod.module.SpliceAI.res_layers.1.comboBlock.3.bn1.running_var\", \"_orig_mod.module.SpliceAI.res_layers.1.comboBlock.3.bn1.num_batches_tracked\", \"_orig_mod.module.SpliceAI.res_layers.1.comboBlock.3.bn2.weight\", \"_orig_mod.module.SpliceAI.res_layers.1.comboBlock.3.bn2.bias\", \"_orig_mod.module.SpliceAI.res_layers.1.comboBlock.3.bn2.running_mean\", \"_orig_mod.module.SpliceAI.res_layers.1.comboBlock.3.bn2.running_var\", \"_orig_mod.module.SpliceAI.res_layers.1.comboBlock.3.bn2.num_batches_tracked\", \"_orig_mod.module.SpliceAI.res_layers.2.comboBlock.0.convlayer1.weight\", \"_orig_mod.module.SpliceAI.res_layers.2.comboBlock.0.convlayer1.bias\", \"_orig_mod.module.SpliceAI.res_layers.2.comboBlock.0.convlayer2.weight\", \"_orig_mod.module.SpliceAI.res_layers.2.comboBlock.0.convlayer2.bias\", \"_orig_mod.module.SpliceAI.res_layers.2.comboBlock.0.bn1.weight\", \"_orig_mod.module.SpliceAI.res_layers.2.comboBlock.0.bn1.bias\", \"_orig_mod.module.SpliceAI.res_layers.2.comboBlock.0.bn1.running_mean\", \"_orig_mod.module.SpliceAI.res_layers.2.comboBlock.0.bn1.running_var\", \"_orig_mod.module.SpliceAI.res_layers.2.comboBlock.0.bn1.num_batches_tracked\", \"_orig_mod.module.SpliceAI.res_layers.2.comboBlock.0.bn2.weight\", \"_orig_mod.module.SpliceAI.res_layers.2.comboBlock.0.bn2.bias\", \"_orig_mod.module.SpliceAI.res_layers.2.comboBlock.0.bn2.running_mean\", \"_orig_mod.module.SpliceAI.res_layers.2.comboBlock.0.bn2.running_var\", \"_orig_mod.module.SpliceAI.res_layers.2.comboBlock.0.bn2.num_batches_tracked\", \"_orig_mod.module.SpliceAI.res_layers.2.comboBlock.1.convlayer1.weight\", \"_orig_mod.module.SpliceAI.res_layers.2.comboBlock.1.convlayer1.bias\", \"_orig_mod.module.SpliceAI.res_layers.2.comboBlock.1.convlayer2.weight\", \"_orig_mod.module.SpliceAI.res_layers.2.comboBlock.1.convlayer2.bias\", \"_orig_mod.module.SpliceAI.res_layers.2.comboBlock.1.bn1.weight\", \"_orig_mod.module.SpliceAI.res_layers.2.comboBlock.1.bn1.bias\", \"_orig_mod.module.SpliceAI.res_layers.2.comboBlock.1.bn1.running_mean\", \"_orig_mod.module.SpliceAI.res_layers.2.comboBlock.1.bn1.running_var\", \"_orig_mod.module.SpliceAI.res_layers.2.comboBlock.1.bn1.num_batches_tracked\", \"_orig_mod.module.SpliceAI.res_layers.2.comboBlock.1.bn2.weight\", \"_orig_mod.module.SpliceAI.res_layers.2.comboBlock.1.bn2.bias\", \"_orig_mod.module.SpliceAI.res_layers.2.comboBlock.1.bn2.running_mean\", \"_orig_mod.module.SpliceAI.res_layers.2.comboBlock.1.bn2.running_var\", \"_orig_mod.module.SpliceAI.res_layers.2.comboBlock.1.bn2.num_batches_tracked\", \"_orig_mod.module.SpliceAI.res_layers.2.comboBlock.2.convlayer1.weight\", \"_orig_mod.module.SpliceAI.res_layers.2.comboBlock.2.convlayer1.bias\", \"_orig_mod.module.SpliceAI.res_layers.2.comboBlock.2.convlayer2.weight\", \"_orig_mod.module.SpliceAI.res_layers.2.comboBlock.2.convlayer2.bias\", \"_orig_mod.module.SpliceAI.res_layers.2.comboBlock.2.bn1.weight\", \"_orig_mod.module.SpliceAI.res_layers.2.comboBlock.2.bn1.bias\", \"_orig_mod.module.SpliceAI.res_layers.2.comboBlock.2.bn1.running_mean\", \"_orig_mod.module.SpliceAI.res_layers.2.comboBlock.2.bn1.running_var\", \"_orig_mod.module.SpliceAI.res_layers.2.comboBlock.2.bn1.num_batches_tracked\", \"_orig_mod.module.SpliceAI.res_layers.2.comboBlock.2.bn2.weight\", \"_orig_mod.module.SpliceAI.res_layers.2.comboBlock.2.bn2.bias\", \"_orig_mod.module.SpliceAI.res_layers.2.comboBlock.2.bn2.running_mean\", \"_orig_mod.module.SpliceAI.res_layers.2.comboBlock.2.bn2.running_var\", \"_orig_mod.module.SpliceAI.res_layers.2.comboBlock.2.bn2.num_batches_tracked\", \"_orig_mod.module.SpliceAI.res_layers.2.comboBlock.3.convlayer1.weight\", \"_orig_mod.module.SpliceAI.res_layers.2.comboBlock.3.convlayer1.bias\", \"_orig_mod.module.SpliceAI.res_layers.2.comboBlock.3.convlayer2.weight\", \"_orig_mod.module.SpliceAI.res_layers.2.comboBlock.3.convlayer2.bias\", \"_orig_mod.module.SpliceAI.res_layers.2.comboBlock.3.bn1.weight\", \"_orig_mod.module.SpliceAI.res_layers.2.comboBlock.3.bn1.bias\", \"_orig_mod.module.SpliceAI.res_layers.2.comboBlock.3.bn1.running_mean\", \"_orig_mod.module.SpliceAI.res_layers.2.comboBlock.3.bn1.running_var\", \"_orig_mod.module.SpliceAI.res_layers.2.comboBlock.3.bn1.num_batches_tracked\", \"_orig_mod.module.SpliceAI.res_layers.2.comboBlock.3.bn2.weight\", \"_orig_mod.module.SpliceAI.res_layers.2.comboBlock.3.bn2.bias\", \"_orig_mod.module.SpliceAI.res_layers.2.comboBlock.3.bn2.running_mean\", \"_orig_mod.module.SpliceAI.res_layers.2.comboBlock.3.bn2.running_var\", \"_orig_mod.module.SpliceAI.res_layers.2.comboBlock.3.bn2.num_batches_tracked\", \"_orig_mod.module.SpliceAI.res_layers.3.comboBlock.0.convlayer1.weight\", \"_orig_mod.module.SpliceAI.res_layers.3.comboBlock.0.convlayer1.bias\", \"_orig_mod.module.SpliceAI.res_layers.3.comboBlock.0.convlayer2.weight\", \"_orig_mod.module.SpliceAI.res_layers.3.comboBlock.0.convlayer2.bias\", \"_orig_mod.module.SpliceAI.res_layers.3.comboBlock.0.bn1.weight\", \"_orig_mod.module.SpliceAI.res_layers.3.comboBlock.0.bn1.bias\", \"_orig_mod.module.SpliceAI.res_layers.3.comboBlock.0.bn1.running_mean\", \"_orig_mod.module.SpliceAI.res_layers.3.comboBlock.0.bn1.running_var\", \"_orig_mod.module.SpliceAI.res_layers.3.comboBlock.0.bn1.num_batches_tracked\", \"_orig_mod.module.SpliceAI.res_layers.3.comboBlock.0.bn2.weight\", \"_orig_mod.module.SpliceAI.res_layers.3.comboBlock.0.bn2.bias\", \"_orig_mod.module.SpliceAI.res_layers.3.comboBlock.0.bn2.running_mean\", \"_orig_mod.module.SpliceAI.res_layers.3.comboBlock.0.bn2.running_var\", \"_orig_mod.module.SpliceAI.res_layers.3.comboBlock.0.bn2.num_batches_tracked\", \"_orig_mod.module.SpliceAI.res_layers.3.comboBlock.1.convlayer1.weight\", \"_orig_mod.module.SpliceAI.res_layers.3.comboBlock.1.convlayer1.bias\", \"_orig_mod.module.SpliceAI.res_layers.3.comboBlock.1.convlayer2.weight\", \"_orig_mod.module.SpliceAI.res_layers.3.comboBlock.1.convlayer2.bias\", \"_orig_mod.module.SpliceAI.res_layers.3.comboBlock.1.bn1.weight\", \"_orig_mod.module.SpliceAI.res_layers.3.comboBlock.1.bn1.bias\", \"_orig_mod.module.SpliceAI.res_layers.3.comboBlock.1.bn1.running_mean\", \"_orig_mod.module.SpliceAI.res_layers.3.comboBlock.1.bn1.running_var\", \"_orig_mod.module.SpliceAI.res_layers.3.comboBlock.1.bn1.num_batches_tracked\", \"_orig_mod.module.SpliceAI.res_layers.3.comboBlock.1.bn2.weight\", \"_orig_mod.module.SpliceAI.res_layers.3.comboBlock.1.bn2.bias\", \"_orig_mod.module.SpliceAI.res_layers.3.comboBlock.1.bn2.running_mean\", \"_orig_mod.module.SpliceAI.res_layers.3.comboBlock.1.bn2.running_var\", \"_orig_mod.module.SpliceAI.res_layers.3.comboBlock.1.bn2.num_batches_tracked\", \"_orig_mod.module.SpliceAI.res_layers.3.comboBlock.2.convlayer1.weight\", \"_orig_mod.module.SpliceAI.res_layers.3.comboBlock.2.convlayer1.bias\", \"_orig_mod.module.SpliceAI.res_layers.3.comboBlock.2.convlayer2.weight\", \"_orig_mod.module.SpliceAI.res_layers.3.comboBlock.2.convlayer2.bias\", \"_orig_mod.module.SpliceAI.res_layers.3.comboBlock.2.bn1.weight\", \"_orig_mod.module.SpliceAI.res_layers.3.comboBlock.2.bn1.bias\", \"_orig_mod.module.SpliceAI.res_layers.3.comboBlock.2.bn1.running_mean\", \"_orig_mod.module.SpliceAI.res_layers.3.comboBlock.2.bn1.running_var\", \"_orig_mod.module.SpliceAI.res_layers.3.comboBlock.2.bn1.num_batches_tracked\", \"_orig_mod.module.SpliceAI.res_layers.3.comboBlock.2.bn2.weight\", \"_orig_mod.module.SpliceAI.res_layers.3.comboBlock.2.bn2.bias\", \"_orig_mod.module.SpliceAI.res_layers.3.comboBlock.2.bn2.running_mean\", \"_orig_mod.module.SpliceAI.res_layers.3.comboBlock.2.bn2.running_var\", \"_orig_mod.module.SpliceAI.res_layers.3.comboBlock.2.bn2.num_batches_tracked\", \"_orig_mod.module.SpliceAI.res_layers.3.comboBlock.3.convlayer1.weight\", \"_orig_mod.module.SpliceAI.res_layers.3.comboBlock.3.convlayer1.bias\", \"_orig_mod.module.SpliceAI.res_layers.3.comboBlock.3.convlayer2.weight\", \"_orig_mod.module.SpliceAI.res_layers.3.comboBlock.3.convlayer2.bias\", \"_orig_mod.module.SpliceAI.res_layers.3.comboBlock.3.bn1.weight\", \"_orig_mod.module.SpliceAI.res_layers.3.comboBlock.3.bn1.bias\", \"_orig_mod.module.SpliceAI.res_layers.3.comboBlock.3.bn1.running_mean\", \"_orig_mod.module.SpliceAI.res_layers.3.comboBlock.3.bn1.running_var\", \"_orig_mod.module.SpliceAI.res_layers.3.comboBlock.3.bn1.num_batches_tracked\", \"_orig_mod.module.SpliceAI.res_layers.3.comboBlock.3.bn2.weight\", \"_orig_mod.module.SpliceAI.res_layers.3.comboBlock.3.bn2.bias\", \"_orig_mod.module.SpliceAI.res_layers.3.comboBlock.3.bn2.running_mean\", \"_orig_mod.module.SpliceAI.res_layers.3.comboBlock.3.bn2.running_var\", \"_orig_mod.module.SpliceAI.res_layers.3.comboBlock.3.bn2.num_batches_tracked\", \"_orig_mod.module.conv_final.weight\", \"_orig_mod.module.conv_final.bias\", \"_orig_mod.module.policy.affine1.weight\", \"_orig_mod.module.policy.affine1.bias\", \"_orig_mod.module.policy.affine2.weight\", \"_orig_mod.module.policy.affine2.bias\", \"_orig_mod.module.skip_layers.0.weight\", \"_orig_mod.module.skip_layers.0.bias\", \"_orig_mod.module.skip_layers.1.weight\", \"_orig_mod.module.skip_layers.1.bias\", \"_orig_mod.module.skip_layers.2.weight\", \"_orig_mod.module.skip_layers.2.bias\", \"_orig_mod.module.transformerBlocks.0.layers.0.0.to_qkv.weight\", \"_orig_mod.module.transformerBlocks.0.layers.0.0.gate.weight\", \"_orig_mod.module.transformerBlocks.0.layers.0.0.gate.bias\", \"_orig_mod.module.transformerBlocks.0.layers.0.0.to_out.0.weight\", \"_orig_mod.module.transformerBlocks.0.layers.0.0.to_out.0.bias\", \"_orig_mod.module.transformerBlocks.0.layers.0.1.net.0.weight\", \"_orig_mod.module.transformerBlocks.0.layers.0.1.net.0.bias\", \"_orig_mod.module.transformerBlocks.0.layers.0.1.net.3.weight\", \"_orig_mod.module.transformerBlocks.0.layers.0.1.net.3.bias\", \"_orig_mod.module.transformerBlocks.0.layers.1.0.to_qkv.weight\", \"_orig_mod.module.transformerBlocks.0.layers.1.0.gate.weight\", \"_orig_mod.module.transformerBlocks.0.layers.1.0.gate.bias\", \"_orig_mod.module.transformerBlocks.0.layers.1.0.to_out.0.weight\", \"_orig_mod.module.transformerBlocks.0.layers.1.0.to_out.0.bias\", \"_orig_mod.module.transformerBlocks.0.layers.1.1.net.0.weight\", \"_orig_mod.module.transformerBlocks.0.layers.1.1.net.0.bias\", \"_orig_mod.module.transformerBlocks.0.layers.1.1.net.3.weight\", \"_orig_mod.module.transformerBlocks.0.layers.1.1.net.3.bias\", \"_orig_mod.module.transformerBlocks.0.layers.2.0.to_qkv.weight\", \"_orig_mod.module.transformerBlocks.0.layers.2.0.gate.weight\", \"_orig_mod.module.transformerBlocks.0.layers.2.0.gate.bias\", \"_orig_mod.module.transformerBlocks.0.layers.2.0.to_out.0.weight\", \"_orig_mod.module.transformerBlocks.0.layers.2.0.to_out.0.bias\", \"_orig_mod.module.transformerBlocks.0.layers.2.1.net.0.weight\", \"_orig_mod.module.transformerBlocks.0.layers.2.1.net.0.bias\", \"_orig_mod.module.transformerBlocks.0.layers.2.1.net.3.weight\", \"_orig_mod.module.transformerBlocks.0.layers.2.1.net.3.bias\", \"_orig_mod.module.transformerBlocks.0.layers.3.0.to_qkv.weight\", \"_orig_mod.module.transformerBlocks.0.layers.3.0.gate.weight\", \"_orig_mod.module.transformerBlocks.0.layers.3.0.gate.bias\", \"_orig_mod.module.transformerBlocks.0.layers.3.0.to_out.0.weight\", \"_orig_mod.module.transformerBlocks.0.layers.3.0.to_out.0.bias\", \"_orig_mod.module.transformerBlocks.0.layers.3.1.net.0.weight\", \"_orig_mod.module.transformerBlocks.0.layers.3.1.net.0.bias\", \"_orig_mod.module.transformerBlocks.0.layers.3.1.net.3.weight\", \"_orig_mod.module.transformerBlocks.0.layers.3.1.net.3.bias\", \"_orig_mod.module.transformerBlocks.0.layerNormLayers.0.0.weight\", \"_orig_mod.module.transformerBlocks.0.layerNormLayers.0.0.bias\", \"_orig_mod.module.transformerBlocks.0.layerNormLayers.0.1.weight\", \"_orig_mod.module.transformerBlocks.0.layerNormLayers.0.1.bias\", \"_orig_mod.module.transformerBlocks.0.layerNormLayers.1.0.weight\", \"_orig_mod.module.transformerBlocks.0.layerNormLayers.1.0.bias\", \"_orig_mod.module.transformerBlocks.0.layerNormLayers.1.1.weight\", \"_orig_mod.module.transformerBlocks.0.layerNormLayers.1.1.bias\", \"_orig_mod.module.transformerBlocks.0.layerNormLayers.2.0.weight\", \"_orig_mod.module.transformerBlocks.0.layerNormLayers.2.0.bias\", \"_orig_mod.module.transformerBlocks.0.layerNormLayers.2.1.weight\", \"_orig_mod.module.transformerBlocks.0.layerNormLayers.2.1.bias\", \"_orig_mod.module.transformerBlocks.0.layerNormLayers.3.0.weight\", \"_orig_mod.module.transformerBlocks.0.layerNormLayers.3.0.bias\", \"_orig_mod.module.transformerBlocks.0.layerNormLayers.3.1.weight\", \"_orig_mod.module.transformerBlocks.0.layerNormLayers.3.1.bias\", \"_orig_mod.module.transformerBlocks.0.pos_emb.inv_freq\", \"_orig_mod.module.transformerBlocks.1.layers.0.0.to_qkv.weight\", \"_orig_mod.module.transformerBlocks.1.layers.0.0.gate.weight\", \"_orig_mod.module.transformerBlocks.1.layers.0.0.gate.bias\", \"_orig_mod.module.transformerBlocks.1.layers.0.0.to_out.0.weight\", \"_orig_mod.module.transformerBlocks.1.layers.0.0.to_out.0.bias\", \"_orig_mod.module.transformerBlocks.1.layers.0.1.net.0.weight\", \"_orig_mod.module.transformerBlocks.1.layers.0.1.net.0.bias\", \"_orig_mod.module.transformerBlocks.1.layers.0.1.net.3.weight\", \"_orig_mod.module.transformerBlocks.1.layers.0.1.net.3.bias\", \"_orig_mod.module.transformerBlocks.1.layers.1.0.to_qkv.weight\", \"_orig_mod.module.transformerBlocks.1.layers.1.0.gate.weight\", \"_orig_mod.module.transformerBlocks.1.layers.1.0.gate.bias\", \"_orig_mod.module.transformerBlocks.1.layers.1.0.to_out.0.weight\", \"_orig_mod.module.transformerBlocks.1.layers.1.0.to_out.0.bias\", \"_orig_mod.module.transformerBlocks.1.layers.1.1.net.0.weight\", \"_orig_mod.module.transformerBlocks.1.layers.1.1.net.0.bias\", \"_orig_mod.module.transformerBlocks.1.layers.1.1.net.3.weight\", \"_orig_mod.module.transformerBlocks.1.layers.1.1.net.3.bias\", \"_orig_mod.module.transformerBlocks.1.layers.2.0.to_qkv.weight\", \"_orig_mod.module.transformerBlocks.1.layers.2.0.gate.weight\", \"_orig_mod.module.transformerBlocks.1.layers.2.0.gate.bias\", \"_orig_mod.module.transformerBlocks.1.layers.2.0.to_out.0.weight\", \"_orig_mod.module.transformerBlocks.1.layers.2.0.to_out.0.bias\", \"_orig_mod.module.transformerBlocks.1.layers.2.1.net.0.weight\", \"_orig_mod.module.transformerBlocks.1.layers.2.1.net.0.bias\", \"_orig_mod.module.transformerBlocks.1.layers.2.1.net.3.weight\", \"_orig_mod.module.transformerBlocks.1.layers.2.1.net.3.bias\", \"_orig_mod.module.transformerBlocks.1.layers.3.0.to_qkv.weight\", \"_orig_mod.module.transformerBlocks.1.layers.3.0.gate.weight\", \"_orig_mod.module.transformerBlocks.1.layers.3.0.gate.bias\", \"_orig_mod.module.transformerBlocks.1.layers.3.0.to_out.0.weight\", \"_orig_mod.module.transformerBlocks.1.layers.3.0.to_out.0.bias\", \"_orig_mod.module.transformerBlocks.1.layers.3.1.net.0.weight\", \"_orig_mod.module.transformerBlocks.1.layers.3.1.net.0.bias\", \"_orig_mod.module.transformerBlocks.1.layers.3.1.net.3.weight\", \"_orig_mod.module.transformerBlocks.1.layers.3.1.net.3.bias\", \"_orig_mod.module.transformerBlocks.1.layerNormLayers.0.0.weight\", \"_orig_mod.module.transformerBlocks.1.layerNormLayers.0.0.bias\", \"_orig_mod.module.transformerBlocks.1.layerNormLayers.0.1.weight\", \"_orig_mod.module.transformerBlocks.1.layerNormLayers.0.1.bias\", \"_orig_mod.module.transformerBlocks.1.layerNormLayers.1.0.weight\", \"_orig_mod.module.transformerBlocks.1.layerNormLayers.1.0.bias\", \"_orig_mod.module.transformerBlocks.1.layerNormLayers.1.1.weight\", \"_orig_mod.module.transformerBlocks.1.layerNormLayers.1.1.bias\", \"_orig_mod.module.transformerBlocks.1.layerNormLayers.2.0.weight\", \"_orig_mod.module.transformerBlocks.1.layerNormLayers.2.0.bias\", \"_orig_mod.module.transformerBlocks.1.layerNormLayers.2.1.weight\", \"_orig_mod.module.transformerBlocks.1.layerNormLayers.2.1.bias\", \"_orig_mod.module.transformerBlocks.1.layerNormLayers.3.0.weight\", \"_orig_mod.module.transformerBlocks.1.layerNormLayers.3.0.bias\", \"_orig_mod.module.transformerBlocks.1.layerNormLayers.3.1.weight\", \"_orig_mod.module.transformerBlocks.1.layerNormLayers.3.1.bias\", \"_orig_mod.module.transformerBlocks.1.pos_emb.inv_freq\". ",
     "output_type": "error",
     "traceback": [
      "\u001b[0;31m---------------------------------------------------------------------------\u001b[0m",
      "\u001b[0;31mRuntimeError\u001b[0m                              Traceback (most recent call last)",
      "Cell \u001b[0;32mIn[16], line 23\u001b[0m\n\u001b[1;32m     21\u001b[0m \u001b[38;5;66;03m#for output_class in [1,2]:\u001b[39;00m\n\u001b[1;32m     22\u001b[0m models \u001b[38;5;241m=\u001b[39m [copy\u001b[38;5;241m.\u001b[39mdeepcopy(model_m) \u001b[38;5;28;01mfor\u001b[39;00m i \u001b[38;5;129;01min\u001b[39;00m \u001b[38;5;28mrange\u001b[39m(n_models)]\n\u001b[0;32m---> 23\u001b[0m [model\u001b[38;5;241m.\u001b[39mload_state_dict(torch\u001b[38;5;241m.\u001b[39mload(\u001b[38;5;124m'\u001b[39m\u001b[38;5;124m../Results/PyTorch_Models/transformer_encoder_100k_200323_\u001b[39m\u001b[38;5;132;01m{}\u001b[39;00m\u001b[38;5;124m'\u001b[39m\u001b[38;5;241m.\u001b[39mformat(i))) \u001b[38;5;28;01mfor\u001b[39;00m i,model \u001b[38;5;129;01min\u001b[39;00m \u001b[38;5;28menumerate\u001b[39m(models)]\n\u001b[1;32m     25\u001b[0m \u001b[38;5;28;01mfor\u001b[39;00m model \u001b[38;5;129;01min\u001b[39;00m models:\n\u001b[1;32m     26\u001b[0m     model\u001b[38;5;241m.\u001b[39meval()\n",
      "Cell \u001b[0;32mIn[16], line 23\u001b[0m, in \u001b[0;36m<listcomp>\u001b[0;34m(.0)\u001b[0m\n\u001b[1;32m     21\u001b[0m \u001b[38;5;66;03m#for output_class in [1,2]:\u001b[39;00m\n\u001b[1;32m     22\u001b[0m models \u001b[38;5;241m=\u001b[39m [copy\u001b[38;5;241m.\u001b[39mdeepcopy(model_m) \u001b[38;5;28;01mfor\u001b[39;00m i \u001b[38;5;129;01min\u001b[39;00m \u001b[38;5;28mrange\u001b[39m(n_models)]\n\u001b[0;32m---> 23\u001b[0m [\u001b[43mmodel\u001b[49m\u001b[38;5;241;43m.\u001b[39;49m\u001b[43mload_state_dict\u001b[49m\u001b[43m(\u001b[49m\u001b[43mtorch\u001b[49m\u001b[38;5;241;43m.\u001b[39;49m\u001b[43mload\u001b[49m\u001b[43m(\u001b[49m\u001b[38;5;124;43m'\u001b[39;49m\u001b[38;5;124;43m../Results/PyTorch_Models/transformer_encoder_100k_200323_\u001b[39;49m\u001b[38;5;132;43;01m{}\u001b[39;49;00m\u001b[38;5;124;43m'\u001b[39;49m\u001b[38;5;241;43m.\u001b[39;49m\u001b[43mformat\u001b[49m\u001b[43m(\u001b[49m\u001b[43mi\u001b[49m\u001b[43m)\u001b[49m\u001b[43m)\u001b[49m\u001b[43m)\u001b[49m \u001b[38;5;28;01mfor\u001b[39;00m i,model \u001b[38;5;129;01min\u001b[39;00m \u001b[38;5;28menumerate\u001b[39m(models)]\n\u001b[1;32m     25\u001b[0m \u001b[38;5;28;01mfor\u001b[39;00m model \u001b[38;5;129;01min\u001b[39;00m models:\n\u001b[1;32m     26\u001b[0m     model\u001b[38;5;241m.\u001b[39meval()\n",
      "File \u001b[0;32m/odinn/tmp/benediktj/venv/pytorch2_venv/lib/python3.9/site-packages/torch/nn/modules/module.py:2041\u001b[0m, in \u001b[0;36mModule.load_state_dict\u001b[0;34m(self, state_dict, strict)\u001b[0m\n\u001b[1;32m   2036\u001b[0m         error_msgs\u001b[38;5;241m.\u001b[39minsert(\n\u001b[1;32m   2037\u001b[0m             \u001b[38;5;241m0\u001b[39m, \u001b[38;5;124m'\u001b[39m\u001b[38;5;124mMissing key(s) in state_dict: \u001b[39m\u001b[38;5;132;01m{}\u001b[39;00m\u001b[38;5;124m. \u001b[39m\u001b[38;5;124m'\u001b[39m\u001b[38;5;241m.\u001b[39mformat(\n\u001b[1;32m   2038\u001b[0m                 \u001b[38;5;124m'\u001b[39m\u001b[38;5;124m, \u001b[39m\u001b[38;5;124m'\u001b[39m\u001b[38;5;241m.\u001b[39mjoin(\u001b[38;5;124m'\u001b[39m\u001b[38;5;124m\"\u001b[39m\u001b[38;5;132;01m{}\u001b[39;00m\u001b[38;5;124m\"\u001b[39m\u001b[38;5;124m'\u001b[39m\u001b[38;5;241m.\u001b[39mformat(k) \u001b[38;5;28;01mfor\u001b[39;00m k \u001b[38;5;129;01min\u001b[39;00m missing_keys)))\n\u001b[1;32m   2040\u001b[0m \u001b[38;5;28;01mif\u001b[39;00m \u001b[38;5;28mlen\u001b[39m(error_msgs) \u001b[38;5;241m>\u001b[39m \u001b[38;5;241m0\u001b[39m:\n\u001b[0;32m-> 2041\u001b[0m     \u001b[38;5;28;01mraise\u001b[39;00m \u001b[38;5;167;01mRuntimeError\u001b[39;00m(\u001b[38;5;124m'\u001b[39m\u001b[38;5;124mError(s) in loading state_dict for \u001b[39m\u001b[38;5;132;01m{}\u001b[39;00m\u001b[38;5;124m:\u001b[39m\u001b[38;5;130;01m\\n\u001b[39;00m\u001b[38;5;130;01m\\t\u001b[39;00m\u001b[38;5;132;01m{}\u001b[39;00m\u001b[38;5;124m'\u001b[39m\u001b[38;5;241m.\u001b[39mformat(\n\u001b[1;32m   2042\u001b[0m                        \u001b[38;5;28mself\u001b[39m\u001b[38;5;241m.\u001b[39m\u001b[38;5;18m__class__\u001b[39m\u001b[38;5;241m.\u001b[39m\u001b[38;5;18m__name__\u001b[39m, \u001b[38;5;124m\"\u001b[39m\u001b[38;5;130;01m\\n\u001b[39;00m\u001b[38;5;130;01m\\t\u001b[39;00m\u001b[38;5;124m\"\u001b[39m\u001b[38;5;241m.\u001b[39mjoin(error_msgs)))\n\u001b[1;32m   2043\u001b[0m \u001b[38;5;28;01mreturn\u001b[39;00m _IncompatibleKeys(missing_keys, unexpected_keys)\n",
      "\u001b[0;31mRuntimeError\u001b[0m: Error(s) in loading state_dict for DataParallel:\n\tMissing key(s) in state_dict: \"module.SpliceAI.conv_layer_1.weight\", \"module.SpliceAI.conv_layer_1.bias\", \"module.SpliceAI.skip_layers.0.weight\", \"module.SpliceAI.skip_layers.0.bias\", \"module.SpliceAI.skip_layers.1.weight\", \"module.SpliceAI.skip_layers.1.bias\", \"module.SpliceAI.skip_layers.2.weight\", \"module.SpliceAI.skip_layers.2.bias\", \"module.SpliceAI.skip_layers.3.weight\", \"module.SpliceAI.skip_layers.3.bias\", \"module.SpliceAI.skip_layers.4.weight\", \"module.SpliceAI.skip_layers.4.bias\", \"module.SpliceAI.res_layers.0.comboBlock.0.convlayer1.weight\", \"module.SpliceAI.res_layers.0.comboBlock.0.convlayer1.bias\", \"module.SpliceAI.res_layers.0.comboBlock.0.convlayer2.weight\", \"module.SpliceAI.res_layers.0.comboBlock.0.convlayer2.bias\", \"module.SpliceAI.res_layers.0.comboBlock.0.bn1.weight\", \"module.SpliceAI.res_layers.0.comboBlock.0.bn1.bias\", \"module.SpliceAI.res_layers.0.comboBlock.0.bn1.running_mean\", \"module.SpliceAI.res_layers.0.comboBlock.0.bn1.running_var\", \"module.SpliceAI.res_layers.0.comboBlock.0.bn2.weight\", \"module.SpliceAI.res_layers.0.comboBlock.0.bn2.bias\", \"module.SpliceAI.res_layers.0.comboBlock.0.bn2.running_mean\", \"module.SpliceAI.res_layers.0.comboBlock.0.bn2.running_var\", \"module.SpliceAI.res_layers.0.comboBlock.1.convlayer1.weight\", \"module.SpliceAI.res_layers.0.comboBlock.1.convlayer1.bias\", \"module.SpliceAI.res_layers.0.comboBlock.1.convlayer2.weight\", \"module.SpliceAI.res_layers.0.comboBlock.1.convlayer2.bias\", \"module.SpliceAI.res_layers.0.comboBlock.1.bn1.weight\", \"module.SpliceAI.res_layers.0.comboBlock.1.bn1.bias\", \"module.SpliceAI.res_layers.0.comboBlock.1.bn1.running_mean\", \"module.SpliceAI.res_layers.0.comboBlock.1.bn1.running_var\", \"module.SpliceAI.res_layers.0.comboBlock.1.bn2.weight\", \"module.SpliceAI.res_layers.0.comboBlock.1.bn2.bias\", \"module.SpliceAI.res_layers.0.comboBlock.1.bn2.running_mean\", \"module.SpliceAI.res_layers.0.comboBlock.1.bn2.running_var\", \"module.SpliceAI.res_layers.0.comboBlock.2.convlayer1.weight\", \"module.SpliceAI.res_layers.0.comboBlock.2.convlayer1.bias\", \"module.SpliceAI.res_layers.0.comboBlock.2.convlayer2.weight\", \"module.SpliceAI.res_layers.0.comboBlock.2.convlayer2.bias\", \"module.SpliceAI.res_layers.0.comboBlock.2.bn1.weight\", \"module.SpliceAI.res_layers.0.comboBlock.2.bn1.bias\", \"module.SpliceAI.res_layers.0.comboBlock.2.bn1.running_mean\", \"module.SpliceAI.res_layers.0.comboBlock.2.bn1.running_var\", \"module.SpliceAI.res_layers.0.comboBlock.2.bn2.weight\", \"module.SpliceAI.res_layers.0.comboBlock.2.bn2.bias\", \"module.SpliceAI.res_layers.0.comboBlock.2.bn2.running_mean\", \"module.SpliceAI.res_layers.0.comboBlock.2.bn2.running_var\", \"module.SpliceAI.res_layers.0.comboBlock.3.convlayer1.weight\", \"module.SpliceAI.res_layers.0.comboBlock.3.convlayer1.bias\", \"module.SpliceAI.res_layers.0.comboBlock.3.convlayer2.weight\", \"module.SpliceAI.res_layers.0.comboBlock.3.convlayer2.bias\", \"module.SpliceAI.res_layers.0.comboBlock.3.bn1.weight\", \"module.SpliceAI.res_layers.0.comboBlock.3.bn1.bias\", \"module.SpliceAI.res_layers.0.comboBlock.3.bn1.running_mean\", \"module.SpliceAI.res_layers.0.comboBlock.3.bn1.running_var\", \"module.SpliceAI.res_layers.0.comboBlock.3.bn2.weight\", \"module.SpliceAI.res_layers.0.comboBlock.3.bn2.bias\", \"module.SpliceAI.res_layers.0.comboBlock.3.bn2.running_mean\", \"module.SpliceAI.res_layers.0.comboBlock.3.bn2.running_var\", \"module.SpliceAI.res_layers.1.comboBlock.0.convlayer1.weight\", \"module.SpliceAI.res_layers.1.comboBlock.0.convlayer1.bias\", \"module.SpliceAI.res_layers.1.comboBlock.0.convlayer2.weight\", \"module.SpliceAI.res_layers.1.comboBlock.0.convlayer2.bias\", \"module.SpliceAI.res_layers.1.comboBlock.0.bn1.weight\", \"module.SpliceAI.res_layers.1.comboBlock.0.bn1.bias\", \"module.SpliceAI.res_layers.1.comboBlock.0.bn1.running_mean\", \"module.SpliceAI.res_layers.1.comboBlock.0.bn1.running_var\", \"module.SpliceAI.res_layers.1.comboBlock.0.bn2.weight\", \"module.SpliceAI.res_layers.1.comboBlock.0.bn2.bias\", \"module.SpliceAI.res_layers.1.comboBlock.0.bn2.running_mean\", \"module.SpliceAI.res_layers.1.comboBlock.0.bn2.running_var\", \"module.SpliceAI.res_layers.1.comboBlock.1.convlayer1.weight\", \"module.SpliceAI.res_layers.1.comboBlock.1.convlayer1.bias\", \"module.SpliceAI.res_layers.1.comboBlock.1.convlayer2.weight\", \"module.SpliceAI.res_layers.1.comboBlock.1.convlayer2.bias\", \"module.SpliceAI.res_layers.1.comboBlock.1.bn1.weight\", \"module.SpliceAI.res_layers.1.comboBlock.1.bn1.bias\", \"module.SpliceAI.res_layers.1.comboBlock.1.bn1.running_mean\", \"module.SpliceAI.res_layers.1.comboBlock.1.bn1.running_var\", \"module.SpliceAI.res_layers.1.comboBlock.1.bn2.weight\", \"module.SpliceAI.res_layers.1.comboBlock.1.bn2.bias\", \"module.SpliceAI.res_layers.1.comboBlock.1.bn2.running_mean\", \"module.SpliceAI.res_layers.1.comboBlock.1.bn2.running_var\", \"module.SpliceAI.res_layers.1.comboBlock.2.convlayer1.weight\", \"module.SpliceAI.res_layers.1.comboBlock.2.convlayer1.bias\", \"module.SpliceAI.res_layers.1.comboBlock.2.convlayer2.weight\", \"module.SpliceAI.res_layers.1.comboBlock.2.convlayer2.bias\", \"module.SpliceAI.res_layers.1.comboBlock.2.bn1.weight\", \"module.SpliceAI.res_layers.1.comboBlock.2.bn1.bias\", \"module.SpliceAI.res_layers.1.comboBlock.2.bn1.running_mean\", \"module.SpliceAI.res_layers.1.comboBlock.2.bn1.running_var\", \"module.SpliceAI.res_layers.1.comboBlock.2.bn2.weight\", \"module.SpliceAI.res_layers.1.comboBlock.2.bn2.bias\", \"module.SpliceAI.res_layers.1.comboBlock.2.bn2.running_mean\", \"module.SpliceAI.res_layers.1.comboBlock.2.bn2.running_var\", \"module.SpliceAI.res_layers.1.comboBlock.3.convlayer1.weight\", \"module.SpliceAI.res_layers.1.comboBlock.3.convlayer1.bias\", \"module.SpliceAI.res_layers.1.comboBlock.3.convlayer2.weight\", \"module.SpliceAI.res_layers.1.comboBlock.3.convlayer2.bias\", \"module.SpliceAI.res_layers.1.comboBlock.3.bn1.weight\", \"module.SpliceAI.res_layers.1.comboBlock.3.bn1.bias\", \"module.SpliceAI.res_layers.1.comboBlock.3.bn1.running_mean\", \"module.SpliceAI.res_layers.1.comboBlock.3.bn1.running_var\", \"module.SpliceAI.res_layers.1.comboBlock.3.bn2.weight\", \"module.SpliceAI.res_layers.1.comboBlock.3.bn2.bias\", \"module.SpliceAI.res_layers.1.comboBlock.3.bn2.running_mean\", \"module.SpliceAI.res_layers.1.comboBlock.3.bn2.running_var\", \"module.SpliceAI.res_layers.2.comboBlock.0.convlayer1.weight\", \"module.SpliceAI.res_layers.2.comboBlock.0.convlayer1.bias\", \"module.SpliceAI.res_layers.2.comboBlock.0.convlayer2.weight\", \"module.SpliceAI.res_layers.2.comboBlock.0.convlayer2.bias\", \"module.SpliceAI.res_layers.2.comboBlock.0.bn1.weight\", \"module.SpliceAI.res_layers.2.comboBlock.0.bn1.bias\", \"module.SpliceAI.res_layers.2.comboBlock.0.bn1.running_mean\", \"module.SpliceAI.res_layers.2.comboBlock.0.bn1.running_var\", \"module.SpliceAI.res_layers.2.comboBlock.0.bn2.weight\", \"module.SpliceAI.res_layers.2.comboBlock.0.bn2.bias\", \"module.SpliceAI.res_layers.2.comboBlock.0.bn2.running_mean\", \"module.SpliceAI.res_layers.2.comboBlock.0.bn2.running_var\", \"module.SpliceAI.res_layers.2.comboBlock.1.convlayer1.weight\", \"module.SpliceAI.res_layers.2.comboBlock.1.convlayer1.bias\", \"module.SpliceAI.res_layers.2.comboBlock.1.convlayer2.weight\", \"module.SpliceAI.res_layers.2.comboBlock.1.convlayer2.bias\", \"module.SpliceAI.res_layers.2.comboBlock.1.bn1.weight\", \"module.SpliceAI.res_layers.2.comboBlock.1.bn1.bias\", \"module.SpliceAI.res_layers.2.comboBlock.1.bn1.running_mean\", \"module.SpliceAI.res_layers.2.comboBlock.1.bn1.running_var\", \"module.SpliceAI.res_layers.2.comboBlock.1.bn2.weight\", \"module.SpliceAI.res_layers.2.comboBlock.1.bn2.bias\", \"module.SpliceAI.res_layers.2.comboBlock.1.bn2.running_mean\", \"module.SpliceAI.res_layers.2.comboBlock.1.bn2.running_var\", \"module.SpliceAI.res_layers.2.comboBlock.2.convlayer1.weight\", \"module.SpliceAI.res_layers.2.comboBlock.2.convlayer1.bias\", \"module.SpliceAI.res_layers.2.comboBlock.2.convlayer2.weight\", \"module.SpliceAI.res_layers.2.comboBlock.2.convlayer2.bias\", \"module.SpliceAI.res_layers.2.comboBlock.2.bn1.weight\", \"module.SpliceAI.res_layers.2.comboBlock.2.bn1.bias\", \"module.SpliceAI.res_layers.2.comboBlock.2.bn1.running_mean\", \"module.SpliceAI.res_layers.2.comboBlock.2.bn1.running_var\", \"module.SpliceAI.res_layers.2.comboBlock.2.bn2.weight\", \"module.SpliceAI.res_layers.2.comboBlock.2.bn2.bias\", \"module.SpliceAI.res_layers.2.comboBlock.2.bn2.running_mean\", \"module.SpliceAI.res_layers.2.comboBlock.2.bn2.running_var\", \"module.SpliceAI.res_layers.2.comboBlock.3.convlayer1.weight\", \"module.SpliceAI.res_layers.2.comboBlock.3.convlayer1.bias\", \"module.SpliceAI.res_layers.2.comboBlock.3.convlayer2.weight\", \"module.SpliceAI.res_layers.2.comboBlock.3.convlayer2.bias\", \"module.SpliceAI.res_layers.2.comboBlock.3.bn1.weight\", \"module.SpliceAI.res_layers.2.comboBlock.3.bn1.bias\", \"module.SpliceAI.res_layers.2.comboBlock.3.bn1.running_mean\", \"module.SpliceAI.res_layers.2.comboBlock.3.bn1.running_var\", \"module.SpliceAI.res_layers.2.comboBlock.3.bn2.weight\", \"module.SpliceAI.res_layers.2.comboBlock.3.bn2.bias\", \"module.SpliceAI.res_layers.2.comboBlock.3.bn2.running_mean\", \"module.SpliceAI.res_layers.2.comboBlock.3.bn2.running_var\", \"module.SpliceAI.res_layers.3.comboBlock.0.convlayer1.weight\", \"module.SpliceAI.res_layers.3.comboBlock.0.convlayer1.bias\", \"module.SpliceAI.res_layers.3.comboBlock.0.convlayer2.weight\", \"module.SpliceAI.res_layers.3.comboBlock.0.convlayer2.bias\", \"module.SpliceAI.res_layers.3.comboBlock.0.bn1.weight\", \"module.SpliceAI.res_layers.3.comboBlock.0.bn1.bias\", \"module.SpliceAI.res_layers.3.comboBlock.0.bn1.running_mean\", \"module.SpliceAI.res_layers.3.comboBlock.0.bn1.running_var\", \"module.SpliceAI.res_layers.3.comboBlock.0.bn2.weight\", \"module.SpliceAI.res_layers.3.comboBlock.0.bn2.bias\", \"module.SpliceAI.res_layers.3.comboBlock.0.bn2.running_mean\", \"module.SpliceAI.res_layers.3.comboBlock.0.bn2.running_var\", \"module.SpliceAI.res_layers.3.comboBlock.1.convlayer1.weight\", \"module.SpliceAI.res_layers.3.comboBlock.1.convlayer1.bias\", \"module.SpliceAI.res_layers.3.comboBlock.1.convlayer2.weight\", \"module.SpliceAI.res_layers.3.comboBlock.1.convlayer2.bias\", \"module.SpliceAI.res_layers.3.comboBlock.1.bn1.weight\", \"module.SpliceAI.res_layers.3.comboBlock.1.bn1.bias\", \"module.SpliceAI.res_layers.3.comboBlock.1.bn1.running_mean\", \"module.SpliceAI.res_layers.3.comboBlock.1.bn1.running_var\", \"module.SpliceAI.res_layers.3.comboBlock.1.bn2.weight\", \"module.SpliceAI.res_layers.3.comboBlock.1.bn2.bias\", \"module.SpliceAI.res_layers.3.comboBlock.1.bn2.running_mean\", \"module.SpliceAI.res_layers.3.comboBlock.1.bn2.running_var\", \"module.SpliceAI.res_layers.3.comboBlock.2.convlayer1.weight\", \"module.SpliceAI.res_layers.3.comboBlock.2.convlayer1.bias\", \"module.SpliceAI.res_layers.3.comboBlock.2.convlayer2.weight\", \"module.SpliceAI.res_layers.3.comboBlock.2.convlayer2.bias\", \"module.SpliceAI.res_layers.3.comboBlock.2.bn1.weight\", \"module.SpliceAI.res_layers.3.comboBlock.2.bn1.bias\", \"module.SpliceAI.res_layers.3.comboBlock.2.bn1.running_mean\", \"module.SpliceAI.res_layers.3.comboBlock.2.bn1.running_var\", \"module.SpliceAI.res_layers.3.comboBlock.2.bn2.weight\", \"module.SpliceAI.res_layers.3.comboBlock.2.bn2.bias\", \"module.SpliceAI.res_layers.3.comboBlock.2.bn2.running_mean\", \"module.SpliceAI.res_layers.3.comboBlock.2.bn2.running_var\", \"module.SpliceAI.res_layers.3.comboBlock.3.convlayer1.weight\", \"module.SpliceAI.res_layers.3.comboBlock.3.convlayer1.bias\", \"module.SpliceAI.res_layers.3.comboBlock.3.convlayer2.weight\", \"module.SpliceAI.res_layers.3.comboBlock.3.convlayer2.bias\", \"module.SpliceAI.res_layers.3.comboBlock.3.bn1.weight\", \"module.SpliceAI.res_layers.3.comboBlock.3.bn1.bias\", \"module.SpliceAI.res_layers.3.comboBlock.3.bn1.running_mean\", \"module.SpliceAI.res_layers.3.comboBlock.3.bn1.running_var\", \"module.SpliceAI.res_layers.3.comboBlock.3.bn2.weight\", \"module.SpliceAI.res_layers.3.comboBlock.3.bn2.bias\", \"module.SpliceAI.res_layers.3.comboBlock.3.bn2.running_mean\", \"module.SpliceAI.res_layers.3.comboBlock.3.bn2.running_var\", \"module.conv_final.weight\", \"module.conv_final.bias\", \"module.policy.affine1.weight\", \"module.policy.affine1.bias\", \"module.policy.affine2.weight\", \"module.policy.affine2.bias\", \"module.skip_layers.0.weight\", \"module.skip_layers.0.bias\", \"module.skip_layers.1.weight\", \"module.skip_layers.1.bias\", \"module.skip_layers.2.weight\", \"module.skip_layers.2.bias\", \"module.transformerBlocks.0.layers.0.0.to_qkv.weight\", \"module.transformerBlocks.0.layers.0.0.gate.weight\", \"module.transformerBlocks.0.layers.0.0.gate.bias\", \"module.transformerBlocks.0.layers.0.0.to_out.0.weight\", \"module.transformerBlocks.0.layers.0.0.to_out.0.bias\", \"module.transformerBlocks.0.layers.0.1.net.0.weight\", \"module.transformerBlocks.0.layers.0.1.net.0.bias\", \"module.transformerBlocks.0.layers.0.1.net.3.weight\", \"module.transformerBlocks.0.layers.0.1.net.3.bias\", \"module.transformerBlocks.0.layers.1.0.to_qkv.weight\", \"module.transformerBlocks.0.layers.1.0.gate.weight\", \"module.transformerBlocks.0.layers.1.0.gate.bias\", \"module.transformerBlocks.0.layers.1.0.to_out.0.weight\", \"module.transformerBlocks.0.layers.1.0.to_out.0.bias\", \"module.transformerBlocks.0.layers.1.1.net.0.weight\", \"module.transformerBlocks.0.layers.1.1.net.0.bias\", \"module.transformerBlocks.0.layers.1.1.net.3.weight\", \"module.transformerBlocks.0.layers.1.1.net.3.bias\", \"module.transformerBlocks.0.layers.2.0.to_qkv.weight\", \"module.transformerBlocks.0.layers.2.0.gate.weight\", \"module.transformerBlocks.0.layers.2.0.gate.bias\", \"module.transformerBlocks.0.layers.2.0.to_out.0.weight\", \"module.transformerBlocks.0.layers.2.0.to_out.0.bias\", \"module.transformerBlocks.0.layers.2.1.net.0.weight\", \"module.transformerBlocks.0.layers.2.1.net.0.bias\", \"module.transformerBlocks.0.layers.2.1.net.3.weight\", \"module.transformerBlocks.0.layers.2.1.net.3.bias\", \"module.transformerBlocks.0.layers.3.0.to_qkv.weight\", \"module.transformerBlocks.0.layers.3.0.gate.weight\", \"module.transformerBlocks.0.layers.3.0.gate.bias\", \"module.transformerBlocks.0.layers.3.0.to_out.0.weight\", \"module.transformerBlocks.0.layers.3.0.to_out.0.bias\", \"module.transformerBlocks.0.layers.3.1.net.0.weight\", \"module.transformerBlocks.0.layers.3.1.net.0.bias\", \"module.transformerBlocks.0.layers.3.1.net.3.weight\", \"module.transformerBlocks.0.layers.3.1.net.3.bias\", \"module.transformerBlocks.0.layerNormLayers.0.0.weight\", \"module.transformerBlocks.0.layerNormLayers.0.0.bias\", \"module.transformerBlocks.0.layerNormLayers.0.1.weight\", \"module.transformerBlocks.0.layerNormLayers.0.1.bias\", \"module.transformerBlocks.0.layerNormLayers.1.0.weight\", \"module.transformerBlocks.0.layerNormLayers.1.0.bias\", \"module.transformerBlocks.0.layerNormLayers.1.1.weight\", \"module.transformerBlocks.0.layerNormLayers.1.1.bias\", \"module.transformerBlocks.0.layerNormLayers.2.0.weight\", \"module.transformerBlocks.0.layerNormLayers.2.0.bias\", \"module.transformerBlocks.0.layerNormLayers.2.1.weight\", \"module.transformerBlocks.0.layerNormLayers.2.1.bias\", \"module.transformerBlocks.0.layerNormLayers.3.0.weight\", \"module.transformerBlocks.0.layerNormLayers.3.0.bias\", \"module.transformerBlocks.0.layerNormLayers.3.1.weight\", \"module.transformerBlocks.0.layerNormLayers.3.1.bias\", \"module.transformerBlocks.0.pos_emb.inv_freq\", \"module.transformerBlocks.1.layers.0.0.to_qkv.weight\", \"module.transformerBlocks.1.layers.0.0.gate.weight\", \"module.transformerBlocks.1.layers.0.0.gate.bias\", \"module.transformerBlocks.1.layers.0.0.to_out.0.weight\", \"module.transformerBlocks.1.layers.0.0.to_out.0.bias\", \"module.transformerBlocks.1.layers.0.1.net.0.weight\", \"module.transformerBlocks.1.layers.0.1.net.0.bias\", \"module.transformerBlocks.1.layers.0.1.net.3.weight\", \"module.transformerBlocks.1.layers.0.1.net.3.bias\", \"module.transformerBlocks.1.layers.1.0.to_qkv.weight\", \"module.transformerBlocks.1.layers.1.0.gate.weight\", \"module.transformerBlocks.1.layers.1.0.gate.bias\", \"module.transformerBlocks.1.layers.1.0.to_out.0.weight\", \"module.transformerBlocks.1.layers.1.0.to_out.0.bias\", \"module.transformerBlocks.1.layers.1.1.net.0.weight\", \"module.transformerBlocks.1.layers.1.1.net.0.bias\", \"module.transformerBlocks.1.layers.1.1.net.3.weight\", \"module.transformerBlocks.1.layers.1.1.net.3.bias\", \"module.transformerBlocks.1.layers.2.0.to_qkv.weight\", \"module.transformerBlocks.1.layers.2.0.gate.weight\", \"module.transformerBlocks.1.layers.2.0.gate.bias\", \"module.transformerBlocks.1.layers.2.0.to_out.0.weight\", \"module.transformerBlocks.1.layers.2.0.to_out.0.bias\", \"module.transformerBlocks.1.layers.2.1.net.0.weight\", \"module.transformerBlocks.1.layers.2.1.net.0.bias\", \"module.transformerBlocks.1.layers.2.1.net.3.weight\", \"module.transformerBlocks.1.layers.2.1.net.3.bias\", \"module.transformerBlocks.1.layers.3.0.to_qkv.weight\", \"module.transformerBlocks.1.layers.3.0.gate.weight\", \"module.transformerBlocks.1.layers.3.0.gate.bias\", \"module.transformerBlocks.1.layers.3.0.to_out.0.weight\", \"module.transformerBlocks.1.layers.3.0.to_out.0.bias\", \"module.transformerBlocks.1.layers.3.1.net.0.weight\", \"module.transformerBlocks.1.layers.3.1.net.0.bias\", \"module.transformerBlocks.1.layers.3.1.net.3.weight\", \"module.transformerBlocks.1.layers.3.1.net.3.bias\", \"module.transformerBlocks.1.layerNormLayers.0.0.weight\", \"module.transformerBlocks.1.layerNormLayers.0.0.bias\", \"module.transformerBlocks.1.layerNormLayers.0.1.weight\", \"module.transformerBlocks.1.layerNormLayers.0.1.bias\", \"module.transformerBlocks.1.layerNormLayers.1.0.weight\", \"module.transformerBlocks.1.layerNormLayers.1.0.bias\", \"module.transformerBlocks.1.layerNormLayers.1.1.weight\", \"module.transformerBlocks.1.layerNormLayers.1.1.bias\", \"module.transformerBlocks.1.layerNormLayers.2.0.weight\", \"module.transformerBlocks.1.layerNormLayers.2.0.bias\", \"module.transformerBlocks.1.layerNormLayers.2.1.weight\", \"module.transformerBlocks.1.layerNormLayers.2.1.bias\", \"module.transformerBlocks.1.layerNormLayers.3.0.weight\", \"module.transformerBlocks.1.layerNormLayers.3.0.bias\", \"module.transformerBlocks.1.layerNormLayers.3.1.weight\", \"module.transformerBlocks.1.layerNormLayers.3.1.bias\", \"module.transformerBlocks.1.pos_emb.inv_freq\". \n\tUnexpected key(s) in state_dict: \"_orig_mod.module.SpliceAI.conv_layer_1.weight\", \"_orig_mod.module.SpliceAI.conv_layer_1.bias\", \"_orig_mod.module.SpliceAI.skip_layers.0.weight\", \"_orig_mod.module.SpliceAI.skip_layers.0.bias\", \"_orig_mod.module.SpliceAI.skip_layers.1.weight\", \"_orig_mod.module.SpliceAI.skip_layers.1.bias\", \"_orig_mod.module.SpliceAI.skip_layers.2.weight\", \"_orig_mod.module.SpliceAI.skip_layers.2.bias\", \"_orig_mod.module.SpliceAI.skip_layers.3.weight\", \"_orig_mod.module.SpliceAI.skip_layers.3.bias\", \"_orig_mod.module.SpliceAI.skip_layers.4.weight\", \"_orig_mod.module.SpliceAI.skip_layers.4.bias\", \"_orig_mod.module.SpliceAI.res_layers.0.comboBlock.0.convlayer1.weight\", \"_orig_mod.module.SpliceAI.res_layers.0.comboBlock.0.convlayer1.bias\", \"_orig_mod.module.SpliceAI.res_layers.0.comboBlock.0.convlayer2.weight\", \"_orig_mod.module.SpliceAI.res_layers.0.comboBlock.0.convlayer2.bias\", \"_orig_mod.module.SpliceAI.res_layers.0.comboBlock.0.bn1.weight\", \"_orig_mod.module.SpliceAI.res_layers.0.comboBlock.0.bn1.bias\", \"_orig_mod.module.SpliceAI.res_layers.0.comboBlock.0.bn1.running_mean\", \"_orig_mod.module.SpliceAI.res_layers.0.comboBlock.0.bn1.running_var\", \"_orig_mod.module.SpliceAI.res_layers.0.comboBlock.0.bn1.num_batches_tracked\", \"_orig_mod.module.SpliceAI.res_layers.0.comboBlock.0.bn2.weight\", \"_orig_mod.module.SpliceAI.res_layers.0.comboBlock.0.bn2.bias\", \"_orig_mod.module.SpliceAI.res_layers.0.comboBlock.0.bn2.running_mean\", \"_orig_mod.module.SpliceAI.res_layers.0.comboBlock.0.bn2.running_var\", \"_orig_mod.module.SpliceAI.res_layers.0.comboBlock.0.bn2.num_batches_tracked\", \"_orig_mod.module.SpliceAI.res_layers.0.comboBlock.1.convlayer1.weight\", \"_orig_mod.module.SpliceAI.res_layers.0.comboBlock.1.convlayer1.bias\", \"_orig_mod.module.SpliceAI.res_layers.0.comboBlock.1.convlayer2.weight\", \"_orig_mod.module.SpliceAI.res_layers.0.comboBlock.1.convlayer2.bias\", \"_orig_mod.module.SpliceAI.res_layers.0.comboBlock.1.bn1.weight\", \"_orig_mod.module.SpliceAI.res_layers.0.comboBlock.1.bn1.bias\", \"_orig_mod.module.SpliceAI.res_layers.0.comboBlock.1.bn1.running_mean\", \"_orig_mod.module.SpliceAI.res_layers.0.comboBlock.1.bn1.running_var\", \"_orig_mod.module.SpliceAI.res_layers.0.comboBlock.1.bn1.num_batches_tracked\", \"_orig_mod.module.SpliceAI.res_layers.0.comboBlock.1.bn2.weight\", \"_orig_mod.module.SpliceAI.res_layers.0.comboBlock.1.bn2.bias\", \"_orig_mod.module.SpliceAI.res_layers.0.comboBlock.1.bn2.running_mean\", \"_orig_mod.module.SpliceAI.res_layers.0.comboBlock.1.bn2.running_var\", \"_orig_mod.module.SpliceAI.res_layers.0.comboBlock.1.bn2.num_batches_tracked\", \"_orig_mod.module.SpliceAI.res_layers.0.comboBlock.2.convlayer1.weight\", \"_orig_mod.module.SpliceAI.res_layers.0.comboBlock.2.convlayer1.bias\", \"_orig_mod.module.SpliceAI.res_layers.0.comboBlock.2.convlayer2.weight\", \"_orig_mod.module.SpliceAI.res_layers.0.comboBlock.2.convlayer2.bias\", \"_orig_mod.module.SpliceAI.res_layers.0.comboBlock.2.bn1.weight\", \"_orig_mod.module.SpliceAI.res_layers.0.comboBlock.2.bn1.bias\", \"_orig_mod.module.SpliceAI.res_layers.0.comboBlock.2.bn1.running_mean\", \"_orig_mod.module.SpliceAI.res_layers.0.comboBlock.2.bn1.running_var\", \"_orig_mod.module.SpliceAI.res_layers.0.comboBlock.2.bn1.num_batches_tracked\", \"_orig_mod.module.SpliceAI.res_layers.0.comboBlock.2.bn2.weight\", \"_orig_mod.module.SpliceAI.res_layers.0.comboBlock.2.bn2.bias\", \"_orig_mod.module.SpliceAI.res_layers.0.comboBlock.2.bn2.running_mean\", \"_orig_mod.module.SpliceAI.res_layers.0.comboBlock.2.bn2.running_var\", \"_orig_mod.module.SpliceAI.res_layers.0.comboBlock.2.bn2.num_batches_tracked\", \"_orig_mod.module.SpliceAI.res_layers.0.comboBlock.3.convlayer1.weight\", \"_orig_mod.module.SpliceAI.res_layers.0.comboBlock.3.convlayer1.bias\", \"_orig_mod.module.SpliceAI.res_layers.0.comboBlock.3.convlayer2.weight\", \"_orig_mod.module.SpliceAI.res_layers.0.comboBlock.3.convlayer2.bias\", \"_orig_mod.module.SpliceAI.res_layers.0.comboBlock.3.bn1.weight\", \"_orig_mod.module.SpliceAI.res_layers.0.comboBlock.3.bn1.bias\", \"_orig_mod.module.SpliceAI.res_layers.0.comboBlock.3.bn1.running_mean\", \"_orig_mod.module.SpliceAI.res_layers.0.comboBlock.3.bn1.running_var\", \"_orig_mod.module.SpliceAI.res_layers.0.comboBlock.3.bn1.num_batches_tracked\", \"_orig_mod.module.SpliceAI.res_layers.0.comboBlock.3.bn2.weight\", \"_orig_mod.module.SpliceAI.res_layers.0.comboBlock.3.bn2.bias\", \"_orig_mod.module.SpliceAI.res_layers.0.comboBlock.3.bn2.running_mean\", \"_orig_mod.module.SpliceAI.res_layers.0.comboBlock.3.bn2.running_var\", \"_orig_mod.module.SpliceAI.res_layers.0.comboBlock.3.bn2.num_batches_tracked\", \"_orig_mod.module.SpliceAI.res_layers.1.comboBlock.0.convlayer1.weight\", \"_orig_mod.module.SpliceAI.res_layers.1.comboBlock.0.convlayer1.bias\", \"_orig_mod.module.SpliceAI.res_layers.1.comboBlock.0.convlayer2.weight\", \"_orig_mod.module.SpliceAI.res_layers.1.comboBlock.0.convlayer2.bias\", \"_orig_mod.module.SpliceAI.res_layers.1.comboBlock.0.bn1.weight\", \"_orig_mod.module.SpliceAI.res_layers.1.comboBlock.0.bn1.bias\", \"_orig_mod.module.SpliceAI.res_layers.1.comboBlock.0.bn1.running_mean\", \"_orig_mod.module.SpliceAI.res_layers.1.comboBlock.0.bn1.running_var\", \"_orig_mod.module.SpliceAI.res_layers.1.comboBlock.0.bn1.num_batches_tracked\", \"_orig_mod.module.SpliceAI.res_layers.1.comboBlock.0.bn2.weight\", \"_orig_mod.module.SpliceAI.res_layers.1.comboBlock.0.bn2.bias\", \"_orig_mod.module.SpliceAI.res_layers.1.comboBlock.0.bn2.running_mean\", \"_orig_mod.module.SpliceAI.res_layers.1.comboBlock.0.bn2.running_var\", \"_orig_mod.module.SpliceAI.res_layers.1.comboBlock.0.bn2.num_batches_tracked\", \"_orig_mod.module.SpliceAI.res_layers.1.comboBlock.1.convlayer1.weight\", \"_orig_mod.module.SpliceAI.res_layers.1.comboBlock.1.convlayer1.bias\", \"_orig_mod.module.SpliceAI.res_layers.1.comboBlock.1.convlayer2.weight\", \"_orig_mod.module.SpliceAI.res_layers.1.comboBlock.1.convlayer2.bias\", \"_orig_mod.module.SpliceAI.res_layers.1.comboBlock.1.bn1.weight\", \"_orig_mod.module.SpliceAI.res_layers.1.comboBlock.1.bn1.bias\", \"_orig_mod.module.SpliceAI.res_layers.1.comboBlock.1.bn1.running_mean\", \"_orig_mod.module.SpliceAI.res_layers.1.comboBlock.1.bn1.running_var\", \"_orig_mod.module.SpliceAI.res_layers.1.comboBlock.1.bn1.num_batches_tracked\", \"_orig_mod.module.SpliceAI.res_layers.1.comboBlock.1.bn2.weight\", \"_orig_mod.module.SpliceAI.res_layers.1.comboBlock.1.bn2.bias\", \"_orig_mod.module.SpliceAI.res_layers.1.comboBlock.1.bn2.running_mean\", \"_orig_mod.module.SpliceAI.res_layers.1.comboBlock.1.bn2.running_var\", \"_orig_mod.module.SpliceAI.res_layers.1.comboBlock.1.bn2.num_batches_tracked\", \"_orig_mod.module.SpliceAI.res_layers.1.comboBlock.2.convlayer1.weight\", \"_orig_mod.module.SpliceAI.res_layers.1.comboBlock.2.convlayer1.bias\", \"_orig_mod.module.SpliceAI.res_layers.1.comboBlock.2.convlayer2.weight\", \"_orig_mod.module.SpliceAI.res_layers.1.comboBlock.2.convlayer2.bias\", \"_orig_mod.module.SpliceAI.res_layers.1.comboBlock.2.bn1.weight\", \"_orig_mod.module.SpliceAI.res_layers.1.comboBlock.2.bn1.bias\", \"_orig_mod.module.SpliceAI.res_layers.1.comboBlock.2.bn1.running_mean\", \"_orig_mod.module.SpliceAI.res_layers.1.comboBlock.2.bn1.running_var\", \"_orig_mod.module.SpliceAI.res_layers.1.comboBlock.2.bn1.num_batches_tracked\", \"_orig_mod.module.SpliceAI.res_layers.1.comboBlock.2.bn2.weight\", \"_orig_mod.module.SpliceAI.res_layers.1.comboBlock.2.bn2.bias\", \"_orig_mod.module.SpliceAI.res_layers.1.comboBlock.2.bn2.running_mean\", \"_orig_mod.module.SpliceAI.res_layers.1.comboBlock.2.bn2.running_var\", \"_orig_mod.module.SpliceAI.res_layers.1.comboBlock.2.bn2.num_batches_tracked\", \"_orig_mod.module.SpliceAI.res_layers.1.comboBlock.3.convlayer1.weight\", \"_orig_mod.module.SpliceAI.res_layers.1.comboBlock.3.convlayer1.bias\", \"_orig_mod.module.SpliceAI.res_layers.1.comboBlock.3.convlayer2.weight\", \"_orig_mod.module.SpliceAI.res_layers.1.comboBlock.3.convlayer2.bias\", \"_orig_mod.module.SpliceAI.res_layers.1.comboBlock.3.bn1.weight\", \"_orig_mod.module.SpliceAI.res_layers.1.comboBlock.3.bn1.bias\", \"_orig_mod.module.SpliceAI.res_layers.1.comboBlock.3.bn1.running_mean\", \"_orig_mod.module.SpliceAI.res_layers.1.comboBlock.3.bn1.running_var\", \"_orig_mod.module.SpliceAI.res_layers.1.comboBlock.3.bn1.num_batches_tracked\", \"_orig_mod.module.SpliceAI.res_layers.1.comboBlock.3.bn2.weight\", \"_orig_mod.module.SpliceAI.res_layers.1.comboBlock.3.bn2.bias\", \"_orig_mod.module.SpliceAI.res_layers.1.comboBlock.3.bn2.running_mean\", \"_orig_mod.module.SpliceAI.res_layers.1.comboBlock.3.bn2.running_var\", \"_orig_mod.module.SpliceAI.res_layers.1.comboBlock.3.bn2.num_batches_tracked\", \"_orig_mod.module.SpliceAI.res_layers.2.comboBlock.0.convlayer1.weight\", \"_orig_mod.module.SpliceAI.res_layers.2.comboBlock.0.convlayer1.bias\", \"_orig_mod.module.SpliceAI.res_layers.2.comboBlock.0.convlayer2.weight\", \"_orig_mod.module.SpliceAI.res_layers.2.comboBlock.0.convlayer2.bias\", \"_orig_mod.module.SpliceAI.res_layers.2.comboBlock.0.bn1.weight\", \"_orig_mod.module.SpliceAI.res_layers.2.comboBlock.0.bn1.bias\", \"_orig_mod.module.SpliceAI.res_layers.2.comboBlock.0.bn1.running_mean\", \"_orig_mod.module.SpliceAI.res_layers.2.comboBlock.0.bn1.running_var\", \"_orig_mod.module.SpliceAI.res_layers.2.comboBlock.0.bn1.num_batches_tracked\", \"_orig_mod.module.SpliceAI.res_layers.2.comboBlock.0.bn2.weight\", \"_orig_mod.module.SpliceAI.res_layers.2.comboBlock.0.bn2.bias\", \"_orig_mod.module.SpliceAI.res_layers.2.comboBlock.0.bn2.running_mean\", \"_orig_mod.module.SpliceAI.res_layers.2.comboBlock.0.bn2.running_var\", \"_orig_mod.module.SpliceAI.res_layers.2.comboBlock.0.bn2.num_batches_tracked\", \"_orig_mod.module.SpliceAI.res_layers.2.comboBlock.1.convlayer1.weight\", \"_orig_mod.module.SpliceAI.res_layers.2.comboBlock.1.convlayer1.bias\", \"_orig_mod.module.SpliceAI.res_layers.2.comboBlock.1.convlayer2.weight\", \"_orig_mod.module.SpliceAI.res_layers.2.comboBlock.1.convlayer2.bias\", \"_orig_mod.module.SpliceAI.res_layers.2.comboBlock.1.bn1.weight\", \"_orig_mod.module.SpliceAI.res_layers.2.comboBlock.1.bn1.bias\", \"_orig_mod.module.SpliceAI.res_layers.2.comboBlock.1.bn1.running_mean\", \"_orig_mod.module.SpliceAI.res_layers.2.comboBlock.1.bn1.running_var\", \"_orig_mod.module.SpliceAI.res_layers.2.comboBlock.1.bn1.num_batches_tracked\", \"_orig_mod.module.SpliceAI.res_layers.2.comboBlock.1.bn2.weight\", \"_orig_mod.module.SpliceAI.res_layers.2.comboBlock.1.bn2.bias\", \"_orig_mod.module.SpliceAI.res_layers.2.comboBlock.1.bn2.running_mean\", \"_orig_mod.module.SpliceAI.res_layers.2.comboBlock.1.bn2.running_var\", \"_orig_mod.module.SpliceAI.res_layers.2.comboBlock.1.bn2.num_batches_tracked\", \"_orig_mod.module.SpliceAI.res_layers.2.comboBlock.2.convlayer1.weight\", \"_orig_mod.module.SpliceAI.res_layers.2.comboBlock.2.convlayer1.bias\", \"_orig_mod.module.SpliceAI.res_layers.2.comboBlock.2.convlayer2.weight\", \"_orig_mod.module.SpliceAI.res_layers.2.comboBlock.2.convlayer2.bias\", \"_orig_mod.module.SpliceAI.res_layers.2.comboBlock.2.bn1.weight\", \"_orig_mod.module.SpliceAI.res_layers.2.comboBlock.2.bn1.bias\", \"_orig_mod.module.SpliceAI.res_layers.2.comboBlock.2.bn1.running_mean\", \"_orig_mod.module.SpliceAI.res_layers.2.comboBlock.2.bn1.running_var\", \"_orig_mod.module.SpliceAI.res_layers.2.comboBlock.2.bn1.num_batches_tracked\", \"_orig_mod.module.SpliceAI.res_layers.2.comboBlock.2.bn2.weight\", \"_orig_mod.module.SpliceAI.res_layers.2.comboBlock.2.bn2.bias\", \"_orig_mod.module.SpliceAI.res_layers.2.comboBlock.2.bn2.running_mean\", \"_orig_mod.module.SpliceAI.res_layers.2.comboBlock.2.bn2.running_var\", \"_orig_mod.module.SpliceAI.res_layers.2.comboBlock.2.bn2.num_batches_tracked\", \"_orig_mod.module.SpliceAI.res_layers.2.comboBlock.3.convlayer1.weight\", \"_orig_mod.module.SpliceAI.res_layers.2.comboBlock.3.convlayer1.bias\", \"_orig_mod.module.SpliceAI.res_layers.2.comboBlock.3.convlayer2.weight\", \"_orig_mod.module.SpliceAI.res_layers.2.comboBlock.3.convlayer2.bias\", \"_orig_mod.module.SpliceAI.res_layers.2.comboBlock.3.bn1.weight\", \"_orig_mod.module.SpliceAI.res_layers.2.comboBlock.3.bn1.bias\", \"_orig_mod.module.SpliceAI.res_layers.2.comboBlock.3.bn1.running_mean\", \"_orig_mod.module.SpliceAI.res_layers.2.comboBlock.3.bn1.running_var\", \"_orig_mod.module.SpliceAI.res_layers.2.comboBlock.3.bn1.num_batches_tracked\", \"_orig_mod.module.SpliceAI.res_layers.2.comboBlock.3.bn2.weight\", \"_orig_mod.module.SpliceAI.res_layers.2.comboBlock.3.bn2.bias\", \"_orig_mod.module.SpliceAI.res_layers.2.comboBlock.3.bn2.running_mean\", \"_orig_mod.module.SpliceAI.res_layers.2.comboBlock.3.bn2.running_var\", \"_orig_mod.module.SpliceAI.res_layers.2.comboBlock.3.bn2.num_batches_tracked\", \"_orig_mod.module.SpliceAI.res_layers.3.comboBlock.0.convlayer1.weight\", \"_orig_mod.module.SpliceAI.res_layers.3.comboBlock.0.convlayer1.bias\", \"_orig_mod.module.SpliceAI.res_layers.3.comboBlock.0.convlayer2.weight\", \"_orig_mod.module.SpliceAI.res_layers.3.comboBlock.0.convlayer2.bias\", \"_orig_mod.module.SpliceAI.res_layers.3.comboBlock.0.bn1.weight\", \"_orig_mod.module.SpliceAI.res_layers.3.comboBlock.0.bn1.bias\", \"_orig_mod.module.SpliceAI.res_layers.3.comboBlock.0.bn1.running_mean\", \"_orig_mod.module.SpliceAI.res_layers.3.comboBlock.0.bn1.running_var\", \"_orig_mod.module.SpliceAI.res_layers.3.comboBlock.0.bn1.num_batches_tracked\", \"_orig_mod.module.SpliceAI.res_layers.3.comboBlock.0.bn2.weight\", \"_orig_mod.module.SpliceAI.res_layers.3.comboBlock.0.bn2.bias\", \"_orig_mod.module.SpliceAI.res_layers.3.comboBlock.0.bn2.running_mean\", \"_orig_mod.module.SpliceAI.res_layers.3.comboBlock.0.bn2.running_var\", \"_orig_mod.module.SpliceAI.res_layers.3.comboBlock.0.bn2.num_batches_tracked\", \"_orig_mod.module.SpliceAI.res_layers.3.comboBlock.1.convlayer1.weight\", \"_orig_mod.module.SpliceAI.res_layers.3.comboBlock.1.convlayer1.bias\", \"_orig_mod.module.SpliceAI.res_layers.3.comboBlock.1.convlayer2.weight\", \"_orig_mod.module.SpliceAI.res_layers.3.comboBlock.1.convlayer2.bias\", \"_orig_mod.module.SpliceAI.res_layers.3.comboBlock.1.bn1.weight\", \"_orig_mod.module.SpliceAI.res_layers.3.comboBlock.1.bn1.bias\", \"_orig_mod.module.SpliceAI.res_layers.3.comboBlock.1.bn1.running_mean\", \"_orig_mod.module.SpliceAI.res_layers.3.comboBlock.1.bn1.running_var\", \"_orig_mod.module.SpliceAI.res_layers.3.comboBlock.1.bn1.num_batches_tracked\", \"_orig_mod.module.SpliceAI.res_layers.3.comboBlock.1.bn2.weight\", \"_orig_mod.module.SpliceAI.res_layers.3.comboBlock.1.bn2.bias\", \"_orig_mod.module.SpliceAI.res_layers.3.comboBlock.1.bn2.running_mean\", \"_orig_mod.module.SpliceAI.res_layers.3.comboBlock.1.bn2.running_var\", \"_orig_mod.module.SpliceAI.res_layers.3.comboBlock.1.bn2.num_batches_tracked\", \"_orig_mod.module.SpliceAI.res_layers.3.comboBlock.2.convlayer1.weight\", \"_orig_mod.module.SpliceAI.res_layers.3.comboBlock.2.convlayer1.bias\", \"_orig_mod.module.SpliceAI.res_layers.3.comboBlock.2.convlayer2.weight\", \"_orig_mod.module.SpliceAI.res_layers.3.comboBlock.2.convlayer2.bias\", \"_orig_mod.module.SpliceAI.res_layers.3.comboBlock.2.bn1.weight\", \"_orig_mod.module.SpliceAI.res_layers.3.comboBlock.2.bn1.bias\", \"_orig_mod.module.SpliceAI.res_layers.3.comboBlock.2.bn1.running_mean\", \"_orig_mod.module.SpliceAI.res_layers.3.comboBlock.2.bn1.running_var\", \"_orig_mod.module.SpliceAI.res_layers.3.comboBlock.2.bn1.num_batches_tracked\", \"_orig_mod.module.SpliceAI.res_layers.3.comboBlock.2.bn2.weight\", \"_orig_mod.module.SpliceAI.res_layers.3.comboBlock.2.bn2.bias\", \"_orig_mod.module.SpliceAI.res_layers.3.comboBlock.2.bn2.running_mean\", \"_orig_mod.module.SpliceAI.res_layers.3.comboBlock.2.bn2.running_var\", \"_orig_mod.module.SpliceAI.res_layers.3.comboBlock.2.bn2.num_batches_tracked\", \"_orig_mod.module.SpliceAI.res_layers.3.comboBlock.3.convlayer1.weight\", \"_orig_mod.module.SpliceAI.res_layers.3.comboBlock.3.convlayer1.bias\", \"_orig_mod.module.SpliceAI.res_layers.3.comboBlock.3.convlayer2.weight\", \"_orig_mod.module.SpliceAI.res_layers.3.comboBlock.3.convlayer2.bias\", \"_orig_mod.module.SpliceAI.res_layers.3.comboBlock.3.bn1.weight\", \"_orig_mod.module.SpliceAI.res_layers.3.comboBlock.3.bn1.bias\", \"_orig_mod.module.SpliceAI.res_layers.3.comboBlock.3.bn1.running_mean\", \"_orig_mod.module.SpliceAI.res_layers.3.comboBlock.3.bn1.running_var\", \"_orig_mod.module.SpliceAI.res_layers.3.comboBlock.3.bn1.num_batches_tracked\", \"_orig_mod.module.SpliceAI.res_layers.3.comboBlock.3.bn2.weight\", \"_orig_mod.module.SpliceAI.res_layers.3.comboBlock.3.bn2.bias\", \"_orig_mod.module.SpliceAI.res_layers.3.comboBlock.3.bn2.running_mean\", \"_orig_mod.module.SpliceAI.res_layers.3.comboBlock.3.bn2.running_var\", \"_orig_mod.module.SpliceAI.res_layers.3.comboBlock.3.bn2.num_batches_tracked\", \"_orig_mod.module.conv_final.weight\", \"_orig_mod.module.conv_final.bias\", \"_orig_mod.module.policy.affine1.weight\", \"_orig_mod.module.policy.affine1.bias\", \"_orig_mod.module.policy.affine2.weight\", \"_orig_mod.module.policy.affine2.bias\", \"_orig_mod.module.skip_layers.0.weight\", \"_orig_mod.module.skip_layers.0.bias\", \"_orig_mod.module.skip_layers.1.weight\", \"_orig_mod.module.skip_layers.1.bias\", \"_orig_mod.module.skip_layers.2.weight\", \"_orig_mod.module.skip_layers.2.bias\", \"_orig_mod.module.transformerBlocks.0.layers.0.0.to_qkv.weight\", \"_orig_mod.module.transformerBlocks.0.layers.0.0.gate.weight\", \"_orig_mod.module.transformerBlocks.0.layers.0.0.gate.bias\", \"_orig_mod.module.transformerBlocks.0.layers.0.0.to_out.0.weight\", \"_orig_mod.module.transformerBlocks.0.layers.0.0.to_out.0.bias\", \"_orig_mod.module.transformerBlocks.0.layers.0.1.net.0.weight\", \"_orig_mod.module.transformerBlocks.0.layers.0.1.net.0.bias\", \"_orig_mod.module.transformerBlocks.0.layers.0.1.net.3.weight\", \"_orig_mod.module.transformerBlocks.0.layers.0.1.net.3.bias\", \"_orig_mod.module.transformerBlocks.0.layers.1.0.to_qkv.weight\", \"_orig_mod.module.transformerBlocks.0.layers.1.0.gate.weight\", \"_orig_mod.module.transformerBlocks.0.layers.1.0.gate.bias\", \"_orig_mod.module.transformerBlocks.0.layers.1.0.to_out.0.weight\", \"_orig_mod.module.transformerBlocks.0.layers.1.0.to_out.0.bias\", \"_orig_mod.module.transformerBlocks.0.layers.1.1.net.0.weight\", \"_orig_mod.module.transformerBlocks.0.layers.1.1.net.0.bias\", \"_orig_mod.module.transformerBlocks.0.layers.1.1.net.3.weight\", \"_orig_mod.module.transformerBlocks.0.layers.1.1.net.3.bias\", \"_orig_mod.module.transformerBlocks.0.layers.2.0.to_qkv.weight\", \"_orig_mod.module.transformerBlocks.0.layers.2.0.gate.weight\", \"_orig_mod.module.transformerBlocks.0.layers.2.0.gate.bias\", \"_orig_mod.module.transformerBlocks.0.layers.2.0.to_out.0.weight\", \"_orig_mod.module.transformerBlocks.0.layers.2.0.to_out.0.bias\", \"_orig_mod.module.transformerBlocks.0.layers.2.1.net.0.weight\", \"_orig_mod.module.transformerBlocks.0.layers.2.1.net.0.bias\", \"_orig_mod.module.transformerBlocks.0.layers.2.1.net.3.weight\", \"_orig_mod.module.transformerBlocks.0.layers.2.1.net.3.bias\", \"_orig_mod.module.transformerBlocks.0.layers.3.0.to_qkv.weight\", \"_orig_mod.module.transformerBlocks.0.layers.3.0.gate.weight\", \"_orig_mod.module.transformerBlocks.0.layers.3.0.gate.bias\", \"_orig_mod.module.transformerBlocks.0.layers.3.0.to_out.0.weight\", \"_orig_mod.module.transformerBlocks.0.layers.3.0.to_out.0.bias\", \"_orig_mod.module.transformerBlocks.0.layers.3.1.net.0.weight\", \"_orig_mod.module.transformerBlocks.0.layers.3.1.net.0.bias\", \"_orig_mod.module.transformerBlocks.0.layers.3.1.net.3.weight\", \"_orig_mod.module.transformerBlocks.0.layers.3.1.net.3.bias\", \"_orig_mod.module.transformerBlocks.0.layerNormLayers.0.0.weight\", \"_orig_mod.module.transformerBlocks.0.layerNormLayers.0.0.bias\", \"_orig_mod.module.transformerBlocks.0.layerNormLayers.0.1.weight\", \"_orig_mod.module.transformerBlocks.0.layerNormLayers.0.1.bias\", \"_orig_mod.module.transformerBlocks.0.layerNormLayers.1.0.weight\", \"_orig_mod.module.transformerBlocks.0.layerNormLayers.1.0.bias\", \"_orig_mod.module.transformerBlocks.0.layerNormLayers.1.1.weight\", \"_orig_mod.module.transformerBlocks.0.layerNormLayers.1.1.bias\", \"_orig_mod.module.transformerBlocks.0.layerNormLayers.2.0.weight\", \"_orig_mod.module.transformerBlocks.0.layerNormLayers.2.0.bias\", \"_orig_mod.module.transformerBlocks.0.layerNormLayers.2.1.weight\", \"_orig_mod.module.transformerBlocks.0.layerNormLayers.2.1.bias\", \"_orig_mod.module.transformerBlocks.0.layerNormLayers.3.0.weight\", \"_orig_mod.module.transformerBlocks.0.layerNormLayers.3.0.bias\", \"_orig_mod.module.transformerBlocks.0.layerNormLayers.3.1.weight\", \"_orig_mod.module.transformerBlocks.0.layerNormLayers.3.1.bias\", \"_orig_mod.module.transformerBlocks.0.pos_emb.inv_freq\", \"_orig_mod.module.transformerBlocks.1.layers.0.0.to_qkv.weight\", \"_orig_mod.module.transformerBlocks.1.layers.0.0.gate.weight\", \"_orig_mod.module.transformerBlocks.1.layers.0.0.gate.bias\", \"_orig_mod.module.transformerBlocks.1.layers.0.0.to_out.0.weight\", \"_orig_mod.module.transformerBlocks.1.layers.0.0.to_out.0.bias\", \"_orig_mod.module.transformerBlocks.1.layers.0.1.net.0.weight\", \"_orig_mod.module.transformerBlocks.1.layers.0.1.net.0.bias\", \"_orig_mod.module.transformerBlocks.1.layers.0.1.net.3.weight\", \"_orig_mod.module.transformerBlocks.1.layers.0.1.net.3.bias\", \"_orig_mod.module.transformerBlocks.1.layers.1.0.to_qkv.weight\", \"_orig_mod.module.transformerBlocks.1.layers.1.0.gate.weight\", \"_orig_mod.module.transformerBlocks.1.layers.1.0.gate.bias\", \"_orig_mod.module.transformerBlocks.1.layers.1.0.to_out.0.weight\", \"_orig_mod.module.transformerBlocks.1.layers.1.0.to_out.0.bias\", \"_orig_mod.module.transformerBlocks.1.layers.1.1.net.0.weight\", \"_orig_mod.module.transformerBlocks.1.layers.1.1.net.0.bias\", \"_orig_mod.module.transformerBlocks.1.layers.1.1.net.3.weight\", \"_orig_mod.module.transformerBlocks.1.layers.1.1.net.3.bias\", \"_orig_mod.module.transformerBlocks.1.layers.2.0.to_qkv.weight\", \"_orig_mod.module.transformerBlocks.1.layers.2.0.gate.weight\", \"_orig_mod.module.transformerBlocks.1.layers.2.0.gate.bias\", \"_orig_mod.module.transformerBlocks.1.layers.2.0.to_out.0.weight\", \"_orig_mod.module.transformerBlocks.1.layers.2.0.to_out.0.bias\", \"_orig_mod.module.transformerBlocks.1.layers.2.1.net.0.weight\", \"_orig_mod.module.transformerBlocks.1.layers.2.1.net.0.bias\", \"_orig_mod.module.transformerBlocks.1.layers.2.1.net.3.weight\", \"_orig_mod.module.transformerBlocks.1.layers.2.1.net.3.bias\", \"_orig_mod.module.transformerBlocks.1.layers.3.0.to_qkv.weight\", \"_orig_mod.module.transformerBlocks.1.layers.3.0.gate.weight\", \"_orig_mod.module.transformerBlocks.1.layers.3.0.gate.bias\", \"_orig_mod.module.transformerBlocks.1.layers.3.0.to_out.0.weight\", \"_orig_mod.module.transformerBlocks.1.layers.3.0.to_out.0.bias\", \"_orig_mod.module.transformerBlocks.1.layers.3.1.net.0.weight\", \"_orig_mod.module.transformerBlocks.1.layers.3.1.net.0.bias\", \"_orig_mod.module.transformerBlocks.1.layers.3.1.net.3.weight\", \"_orig_mod.module.transformerBlocks.1.layers.3.1.net.3.bias\", \"_orig_mod.module.transformerBlocks.1.layerNormLayers.0.0.weight\", \"_orig_mod.module.transformerBlocks.1.layerNormLayers.0.0.bias\", \"_orig_mod.module.transformerBlocks.1.layerNormLayers.0.1.weight\", \"_orig_mod.module.transformerBlocks.1.layerNormLayers.0.1.bias\", \"_orig_mod.module.transformerBlocks.1.layerNormLayers.1.0.weight\", \"_orig_mod.module.transformerBlocks.1.layerNormLayers.1.0.bias\", \"_orig_mod.module.transformerBlocks.1.layerNormLayers.1.1.weight\", \"_orig_mod.module.transformerBlocks.1.layerNormLayers.1.1.bias\", \"_orig_mod.module.transformerBlocks.1.layerNormLayers.2.0.weight\", \"_orig_mod.module.transformerBlocks.1.layerNormLayers.2.0.bias\", \"_orig_mod.module.transformerBlocks.1.layerNormLayers.2.1.weight\", \"_orig_mod.module.transformerBlocks.1.layerNormLayers.2.1.bias\", \"_orig_mod.module.transformerBlocks.1.layerNormLayers.3.0.weight\", \"_orig_mod.module.transformerBlocks.1.layerNormLayers.3.0.bias\", \"_orig_mod.module.transformerBlocks.1.layerNormLayers.3.1.weight\", \"_orig_mod.module.transformerBlocks.1.layerNormLayers.3.1.bias\", \"_orig_mod.module.transformerBlocks.1.pos_emb.inv_freq\". "
     ]
    }
   ],
   "source": [
    "device = torch.device(\"cuda\" if torch.cuda.is_available() else \"cpu\")\n",
    "h5f = h5py.File('/odinn/tmp/benediktj/Data/SplicePrediction/gencode_40k_dataset_test_.h5')\n",
    "\n",
    "num_idx = len(h5f.keys())//2\n",
    "\n",
    "test_dataset = h5pyDataset(h5f,list(range(num_idx)))\n",
    "test_loader = torch.utils.data.DataLoader(test_dataset, batch_size=1, shuffle=False, num_workers=0)\n",
    "\n",
    "temp = 1\n",
    "n_models = 3\n",
    "device = torch.device(\"cuda\" if torch.cuda.is_available() else \"cpu\")\n",
    "import boto3\n",
    "model_m = model_m.to(device)\n",
    "\n",
    "if torch.cuda.device_count() > 1:\n",
    "    model_m = nn.DataParallel(model_m)\n",
    "\n",
    "output_class_labels = ['Null', 'Acceptor', 'Donor']\n",
    "\n",
    "#for output_class in [1,2]:\n",
    "models = [copy.deepcopy(model_m) for i in range(n_models)]\n",
    "[model.load_state_dict(torch.load('../Results/PyTorch_Models/transformer_encoder_100k_200323_{}'.format(i))) for i,model in enumerate(models)]\n",
    "\n",
    "for model in models:\n",
    "    model.eval()\n",
    "    "
   ]
  },
  {
   "cell_type": "code",
   "execution_count": 15,
   "metadata": {},
   "outputs": [],
   "source": [
    "setType = 'test'\n",
    "annotation_test, transcriptToLabel_test, seqData = getData(data_dir, setType)    "
   ]
  },
  {
   "cell_type": "code",
   "execution_count": 16,
   "metadata": {},
   "outputs": [],
   "source": [
    "m = nn.Softmax(dim=1)"
   ]
  },
  {
   "cell_type": "code",
   "execution_count": 17,
   "metadata": {},
   "outputs": [
    {
     "data": {
      "application/vnd.jupyter.widget-view+json": {
       "model_id": "ccaf783dc6904bbe8c7e693f3d5d5e14",
       "version_major": 2,
       "version_minor": 0
      },
      "text/plain": [
       "  0%|          | 0/1386 [00:00<?, ?it/s]"
      ]
     },
     "metadata": {},
     "output_type": "display_data"
    },
    {
     "ename": "KeyboardInterrupt",
     "evalue": "",
     "output_type": "error",
     "traceback": [
      "\u001b[0;31m---------------------------------------------------------------------------\u001b[0m",
      "\u001b[0;31mKeyboardInterrupt\u001b[0m                         Traceback (most recent call last)",
      "Cell \u001b[0;32mIn[17], line 36\u001b[0m\n\u001b[1;32m     34\u001b[0m targets \u001b[38;5;241m=\u001b[39m targets\u001b[38;5;241m.\u001b[39mto(device)[:,:,CL_max\u001b[38;5;241m/\u001b[39m\u001b[38;5;241m/\u001b[39m\u001b[38;5;241m2\u001b[39m:\u001b[38;5;241m-\u001b[39mCL_max\u001b[38;5;241m/\u001b[39m\u001b[38;5;241m/\u001b[39m\u001b[38;5;241m2\u001b[39m]\n\u001b[1;32m     35\u001b[0m \u001b[38;5;28;01mwith\u001b[39;00m torch\u001b[38;5;241m.\u001b[39mautocast(device_type\u001b[38;5;241m=\u001b[39m\u001b[38;5;124m'\u001b[39m\u001b[38;5;124mcuda\u001b[39m\u001b[38;5;124m'\u001b[39m, dtype\u001b[38;5;241m=\u001b[39mtorch\u001b[38;5;241m.\u001b[39mfloat16, enabled\u001b[38;5;241m=\u001b[39m\u001b[38;5;28;01mTrue\u001b[39;00m):\n\u001b[0;32m---> 36\u001b[0m     outputs \u001b[38;5;241m=\u001b[39m ([m(models[i](batch_features)[\u001b[38;5;241m0\u001b[39m]\u001b[38;5;241m.\u001b[39mdetach()) \u001b[38;5;28;01mfor\u001b[39;00m i \u001b[38;5;129;01min\u001b[39;00m \u001b[38;5;28mrange\u001b[39m(n_models)])\n\u001b[1;32m     37\u001b[0m     outputs \u001b[38;5;241m=\u001b[39m torch\u001b[38;5;241m.\u001b[39mstack(outputs)\n\u001b[1;32m     38\u001b[0m     outputs \u001b[38;5;241m=\u001b[39m torch\u001b[38;5;241m.\u001b[39mmean(outputs,dim\u001b[38;5;241m=\u001b[39m\u001b[38;5;241m0\u001b[39m)\n",
      "Cell \u001b[0;32mIn[17], line 36\u001b[0m, in \u001b[0;36m<listcomp>\u001b[0;34m(.0)\u001b[0m\n\u001b[1;32m     34\u001b[0m targets \u001b[38;5;241m=\u001b[39m targets\u001b[38;5;241m.\u001b[39mto(device)[:,:,CL_max\u001b[38;5;241m/\u001b[39m\u001b[38;5;241m/\u001b[39m\u001b[38;5;241m2\u001b[39m:\u001b[38;5;241m-\u001b[39mCL_max\u001b[38;5;241m/\u001b[39m\u001b[38;5;241m/\u001b[39m\u001b[38;5;241m2\u001b[39m]\n\u001b[1;32m     35\u001b[0m \u001b[38;5;28;01mwith\u001b[39;00m torch\u001b[38;5;241m.\u001b[39mautocast(device_type\u001b[38;5;241m=\u001b[39m\u001b[38;5;124m'\u001b[39m\u001b[38;5;124mcuda\u001b[39m\u001b[38;5;124m'\u001b[39m, dtype\u001b[38;5;241m=\u001b[39mtorch\u001b[38;5;241m.\u001b[39mfloat16, enabled\u001b[38;5;241m=\u001b[39m\u001b[38;5;28;01mTrue\u001b[39;00m):\n\u001b[0;32m---> 36\u001b[0m     outputs \u001b[38;5;241m=\u001b[39m ([m(\u001b[43mmodels\u001b[49m\u001b[43m[\u001b[49m\u001b[43mi\u001b[49m\u001b[43m]\u001b[49m\u001b[43m(\u001b[49m\u001b[43mbatch_features\u001b[49m\u001b[43m)\u001b[49m[\u001b[38;5;241m0\u001b[39m]\u001b[38;5;241m.\u001b[39mdetach()) \u001b[38;5;28;01mfor\u001b[39;00m i \u001b[38;5;129;01min\u001b[39;00m \u001b[38;5;28mrange\u001b[39m(n_models)])\n\u001b[1;32m     37\u001b[0m     outputs \u001b[38;5;241m=\u001b[39m torch\u001b[38;5;241m.\u001b[39mstack(outputs)\n\u001b[1;32m     38\u001b[0m     outputs \u001b[38;5;241m=\u001b[39m torch\u001b[38;5;241m.\u001b[39mmean(outputs,dim\u001b[38;5;241m=\u001b[39m\u001b[38;5;241m0\u001b[39m)\n",
      "File \u001b[0;32m/opt/conda/lib/python3.10/site-packages/torch/nn/modules/module.py:1501\u001b[0m, in \u001b[0;36mModule._call_impl\u001b[0;34m(self, *args, **kwargs)\u001b[0m\n\u001b[1;32m   1496\u001b[0m \u001b[38;5;66;03m# If we don't have any hooks, we want to skip the rest of the logic in\u001b[39;00m\n\u001b[1;32m   1497\u001b[0m \u001b[38;5;66;03m# this function, and just call forward.\u001b[39;00m\n\u001b[1;32m   1498\u001b[0m \u001b[38;5;28;01mif\u001b[39;00m \u001b[38;5;129;01mnot\u001b[39;00m (\u001b[38;5;28mself\u001b[39m\u001b[38;5;241m.\u001b[39m_backward_hooks \u001b[38;5;129;01mor\u001b[39;00m \u001b[38;5;28mself\u001b[39m\u001b[38;5;241m.\u001b[39m_backward_pre_hooks \u001b[38;5;129;01mor\u001b[39;00m \u001b[38;5;28mself\u001b[39m\u001b[38;5;241m.\u001b[39m_forward_hooks \u001b[38;5;129;01mor\u001b[39;00m \u001b[38;5;28mself\u001b[39m\u001b[38;5;241m.\u001b[39m_forward_pre_hooks\n\u001b[1;32m   1499\u001b[0m         \u001b[38;5;129;01mor\u001b[39;00m _global_backward_pre_hooks \u001b[38;5;129;01mor\u001b[39;00m _global_backward_hooks\n\u001b[1;32m   1500\u001b[0m         \u001b[38;5;129;01mor\u001b[39;00m _global_forward_hooks \u001b[38;5;129;01mor\u001b[39;00m _global_forward_pre_hooks):\n\u001b[0;32m-> 1501\u001b[0m     \u001b[38;5;28;01mreturn\u001b[39;00m \u001b[43mforward_call\u001b[49m\u001b[43m(\u001b[49m\u001b[38;5;241;43m*\u001b[39;49m\u001b[43margs\u001b[49m\u001b[43m,\u001b[49m\u001b[43m \u001b[49m\u001b[38;5;241;43m*\u001b[39;49m\u001b[38;5;241;43m*\u001b[39;49m\u001b[43mkwargs\u001b[49m\u001b[43m)\u001b[49m\n\u001b[1;32m   1502\u001b[0m \u001b[38;5;66;03m# Do not call functions when jit is used\u001b[39;00m\n\u001b[1;32m   1503\u001b[0m full_backward_hooks, non_full_backward_hooks \u001b[38;5;241m=\u001b[39m [], []\n",
      "File \u001b[0;32m/opt/conda/lib/python3.10/site-packages/torch/_dynamo/eval_frame.py:82\u001b[0m, in \u001b[0;36mOptimizedModule.forward\u001b[0;34m(self, *args, **kwargs)\u001b[0m\n\u001b[1;32m     81\u001b[0m \u001b[38;5;28;01mdef\u001b[39;00m \u001b[38;5;21mforward\u001b[39m(\u001b[38;5;28mself\u001b[39m, \u001b[38;5;241m*\u001b[39margs, \u001b[38;5;241m*\u001b[39m\u001b[38;5;241m*\u001b[39mkwargs):\n\u001b[0;32m---> 82\u001b[0m     \u001b[38;5;28;01mreturn\u001b[39;00m \u001b[38;5;28;43mself\u001b[39;49m\u001b[38;5;241;43m.\u001b[39;49m\u001b[43mdynamo_ctx\u001b[49m\u001b[43m(\u001b[49m\u001b[38;5;28;43mself\u001b[39;49m\u001b[38;5;241;43m.\u001b[39;49m\u001b[43m_orig_mod\u001b[49m\u001b[38;5;241;43m.\u001b[39;49m\u001b[43mforward\u001b[49m\u001b[43m)\u001b[49m\u001b[43m(\u001b[49m\u001b[38;5;241;43m*\u001b[39;49m\u001b[43margs\u001b[49m\u001b[43m,\u001b[49m\u001b[43m \u001b[49m\u001b[38;5;241;43m*\u001b[39;49m\u001b[38;5;241;43m*\u001b[39;49m\u001b[43mkwargs\u001b[49m\u001b[43m)\u001b[49m\n",
      "File \u001b[0;32m/opt/conda/lib/python3.10/site-packages/torch/_dynamo/eval_frame.py:209\u001b[0m, in \u001b[0;36m_TorchDynamoContext.__call__.<locals>._fn\u001b[0;34m(*args, **kwargs)\u001b[0m\n\u001b[1;32m    207\u001b[0m dynamic_ctx\u001b[38;5;241m.\u001b[39m\u001b[38;5;21m__enter__\u001b[39m()\n\u001b[1;32m    208\u001b[0m \u001b[38;5;28;01mtry\u001b[39;00m:\n\u001b[0;32m--> 209\u001b[0m     \u001b[38;5;28;01mreturn\u001b[39;00m \u001b[43mfn\u001b[49m\u001b[43m(\u001b[49m\u001b[38;5;241;43m*\u001b[39;49m\u001b[43margs\u001b[49m\u001b[43m,\u001b[49m\u001b[43m \u001b[49m\u001b[38;5;241;43m*\u001b[39;49m\u001b[38;5;241;43m*\u001b[39;49m\u001b[43mkwargs\u001b[49m\u001b[43m)\u001b[49m\n\u001b[1;32m    210\u001b[0m \u001b[38;5;28;01mfinally\u001b[39;00m:\n\u001b[1;32m    211\u001b[0m     set_eval_frame(prior)\n",
      "File \u001b[0;32m/opt/conda/lib/python3.10/site-packages/torch/nn/parallel/data_parallel.py:171\u001b[0m, in \u001b[0;36mDataParallel.forward\u001b[0;34m(self, *inputs, **kwargs)\u001b[0m\n\u001b[1;32m    169\u001b[0m     \u001b[38;5;28;01mreturn\u001b[39;00m \u001b[38;5;28mself\u001b[39m\u001b[38;5;241m.\u001b[39mmodule(\u001b[38;5;241m*\u001b[39minputs[\u001b[38;5;241m0\u001b[39m], \u001b[38;5;241m*\u001b[39m\u001b[38;5;241m*\u001b[39mkwargs[\u001b[38;5;241m0\u001b[39m])\n\u001b[1;32m    170\u001b[0m replicas \u001b[38;5;241m=\u001b[39m \u001b[38;5;28mself\u001b[39m\u001b[38;5;241m.\u001b[39mreplicate(\u001b[38;5;28mself\u001b[39m\u001b[38;5;241m.\u001b[39mmodule, \u001b[38;5;28mself\u001b[39m\u001b[38;5;241m.\u001b[39mdevice_ids[:\u001b[38;5;28mlen\u001b[39m(inputs)])\n\u001b[0;32m--> 171\u001b[0m outputs \u001b[38;5;241m=\u001b[39m \u001b[38;5;28;43mself\u001b[39;49m\u001b[38;5;241;43m.\u001b[39;49m\u001b[43mparallel_apply\u001b[49m\u001b[43m(\u001b[49m\u001b[43mreplicas\u001b[49m\u001b[43m,\u001b[49m\u001b[43m \u001b[49m\u001b[43minputs\u001b[49m\u001b[43m,\u001b[49m\u001b[43m \u001b[49m\u001b[43mkwargs\u001b[49m\u001b[43m)\u001b[49m\n\u001b[1;32m    172\u001b[0m \u001b[38;5;28;01mreturn\u001b[39;00m \u001b[38;5;28mself\u001b[39m\u001b[38;5;241m.\u001b[39mgather(outputs, \u001b[38;5;28mself\u001b[39m\u001b[38;5;241m.\u001b[39moutput_device)\n",
      "File \u001b[0;32m/opt/conda/lib/python3.10/site-packages/torch/nn/parallel/data_parallel.py:181\u001b[0m, in \u001b[0;36mDataParallel.parallel_apply\u001b[0;34m(self, replicas, inputs, kwargs)\u001b[0m\n\u001b[1;32m    180\u001b[0m \u001b[38;5;28;01mdef\u001b[39;00m \u001b[38;5;21mparallel_apply\u001b[39m(\u001b[38;5;28mself\u001b[39m, replicas, inputs, kwargs):\n\u001b[0;32m--> 181\u001b[0m     \u001b[38;5;28;01mreturn\u001b[39;00m \u001b[43mparallel_apply\u001b[49m\u001b[43m(\u001b[49m\u001b[43mreplicas\u001b[49m\u001b[43m,\u001b[49m\u001b[43m \u001b[49m\u001b[43minputs\u001b[49m\u001b[43m,\u001b[49m\u001b[43m \u001b[49m\u001b[43mkwargs\u001b[49m\u001b[43m,\u001b[49m\u001b[43m \u001b[49m\u001b[38;5;28;43mself\u001b[39;49m\u001b[38;5;241;43m.\u001b[39;49m\u001b[43mdevice_ids\u001b[49m\u001b[43m[\u001b[49m\u001b[43m:\u001b[49m\u001b[38;5;28;43mlen\u001b[39;49m\u001b[43m(\u001b[49m\u001b[43mreplicas\u001b[49m\u001b[43m)\u001b[49m\u001b[43m]\u001b[49m\u001b[43m)\u001b[49m\n",
      "File \u001b[0;32m/opt/conda/lib/python3.10/site-packages/torch/nn/parallel/parallel_apply.py:81\u001b[0m, in \u001b[0;36mparallel_apply\u001b[0;34m(modules, inputs, kwargs_tup, devices)\u001b[0m\n\u001b[1;32m     79\u001b[0m         thread\u001b[38;5;241m.\u001b[39mstart()\n\u001b[1;32m     80\u001b[0m     \u001b[38;5;28;01mfor\u001b[39;00m thread \u001b[38;5;129;01min\u001b[39;00m threads:\n\u001b[0;32m---> 81\u001b[0m         thread\u001b[38;5;241m.\u001b[39mjoin()\n\u001b[1;32m     82\u001b[0m \u001b[38;5;28;01melse\u001b[39;00m:\n\u001b[1;32m     83\u001b[0m     _worker(\u001b[38;5;241m0\u001b[39m, modules[\u001b[38;5;241m0\u001b[39m], inputs[\u001b[38;5;241m0\u001b[39m], kwargs_tup[\u001b[38;5;241m0\u001b[39m], devices[\u001b[38;5;241m0\u001b[39m], streams[\u001b[38;5;241m0\u001b[39m])\n",
      "File \u001b[0;32m/opt/conda/lib/python3.10/threading.py:1096\u001b[0m, in \u001b[0;36mThread.join\u001b[0;34m(self, timeout)\u001b[0m\n\u001b[1;32m   1093\u001b[0m     \u001b[38;5;28;01mraise\u001b[39;00m \u001b[38;5;167;01mRuntimeError\u001b[39;00m(\u001b[38;5;124m\"\u001b[39m\u001b[38;5;124mcannot join current thread\u001b[39m\u001b[38;5;124m\"\u001b[39m)\n\u001b[1;32m   1095\u001b[0m \u001b[38;5;28;01mif\u001b[39;00m timeout \u001b[38;5;129;01mis\u001b[39;00m \u001b[38;5;28;01mNone\u001b[39;00m:\n\u001b[0;32m-> 1096\u001b[0m     \u001b[38;5;28;43mself\u001b[39;49m\u001b[38;5;241;43m.\u001b[39;49m\u001b[43m_wait_for_tstate_lock\u001b[49m\u001b[43m(\u001b[49m\u001b[43m)\u001b[49m\n\u001b[1;32m   1097\u001b[0m \u001b[38;5;28;01melse\u001b[39;00m:\n\u001b[1;32m   1098\u001b[0m     \u001b[38;5;66;03m# the behavior of a negative timeout isn't documented, but\u001b[39;00m\n\u001b[1;32m   1099\u001b[0m     \u001b[38;5;66;03m# historically .join(timeout=x) for x<0 has acted as if timeout=0\u001b[39;00m\n\u001b[1;32m   1100\u001b[0m     \u001b[38;5;28mself\u001b[39m\u001b[38;5;241m.\u001b[39m_wait_for_tstate_lock(timeout\u001b[38;5;241m=\u001b[39m\u001b[38;5;28mmax\u001b[39m(timeout, \u001b[38;5;241m0\u001b[39m))\n",
      "File \u001b[0;32m/opt/conda/lib/python3.10/threading.py:1116\u001b[0m, in \u001b[0;36mThread._wait_for_tstate_lock\u001b[0;34m(self, block, timeout)\u001b[0m\n\u001b[1;32m   1113\u001b[0m     \u001b[38;5;28;01mreturn\u001b[39;00m\n\u001b[1;32m   1115\u001b[0m \u001b[38;5;28;01mtry\u001b[39;00m:\n\u001b[0;32m-> 1116\u001b[0m     \u001b[38;5;28;01mif\u001b[39;00m \u001b[43mlock\u001b[49m\u001b[38;5;241;43m.\u001b[39;49m\u001b[43macquire\u001b[49m\u001b[43m(\u001b[49m\u001b[43mblock\u001b[49m\u001b[43m,\u001b[49m\u001b[43m \u001b[49m\u001b[43mtimeout\u001b[49m\u001b[43m)\u001b[49m:\n\u001b[1;32m   1117\u001b[0m         lock\u001b[38;5;241m.\u001b[39mrelease()\n\u001b[1;32m   1118\u001b[0m         \u001b[38;5;28mself\u001b[39m\u001b[38;5;241m.\u001b[39m_stop()\n",
      "\u001b[0;31mKeyboardInterrupt\u001b[0m: "
     ]
    }
   ],
   "source": [
    "n_models = 5\n",
    "device = torch.device(\"cuda\" if torch.cuda.is_available() else \"cpu\")\n",
    "model_m = SpliceFormer(CL_max,maxSeqLength=1024,bn_momentum=0.01/NUM_ACCUMULATION_STEPS,depth=4,heads=4,n_transformer_blocks=2)\n",
    "model_m = model_m.to(device)\n",
    "\n",
    "if torch.cuda.device_count() > 1:\n",
    "    model_m = nn.DataParallel(model_m)\n",
    "    \n",
    "model_m = torch.compile(model_m)\n",
    "\n",
    "output_class_labels = ['Null', 'Acceptor', 'Donor']\n",
    "\n",
    "#for output_class in [1,2]:\n",
    "models = [copy.deepcopy(model_m) for i in range(n_models)]\n",
    "[model.load_state_dict(torch.load('../Results/PyTorch_Models/transformer_encoder_60k_200323_{}'.format(i))) for i,model in enumerate(models)]\n",
    "#nr = [0,2,3]\n",
    "#[model.load_state_dict(torch.load('../Results/PyTorch_Models/transformer_encoder_40k_201221_{}'.format(nr[i]))) for i,model in enumerate(models)]\n",
    "#chunkSize = num_idx/10\n",
    "for model in models:\n",
    "    model.eval()\n",
    "\n",
    "Y_true_acceptor, Y_pred_acceptor = [],[]\n",
    "Y_true_donor, Y_pred_donor = [],[]\n",
    "test_dataset = spliceDataset(getDataPointListFull(annotation_test,transcriptToLabel_test,SL,CL_max,shift=SL))\n",
    "test_dataset.seqData = seqData\n",
    "test_loader = torch.utils.data.DataLoader(test_dataset, batch_size=BATCH_SIZE, shuffle=False, num_workers=1, pin_memory=True)\n",
    "\n",
    "\n",
    "#targets_list = []\n",
    "#outputs_list = []\n",
    "ce_2d = []\n",
    "for (batch_features ,targets) in tqdm(test_loader):\n",
    "    batch_features = batch_features.type(torch.FloatTensor).to(device)\n",
    "    targets = targets.to(device)[:,:,CL_max//2:-CL_max//2]\n",
    "    with torch.autocast(device_type='cuda', dtype=torch.float16, enabled=True):\n",
    "        outputs = ([m(models[i](batch_features)[0].detach()) for i in range(n_models)])\n",
    "        outputs = torch.stack(outputs)\n",
    "        outputs = torch.mean(outputs,dim=0)\n",
    "    #outputs = odds_gmean(outputs)\n",
    "    #targets_list.extend(targets.unsqueeze(0))\n",
    "    #outputs_list.extend(outputs.unsqueeze(0))\n",
    "\n",
    "    targets = torch.transpose(targets.type(torch.int8),1,2).cpu().numpy()\n",
    "    outputs = torch.transpose(outputs.type(torch.float16),1,2).cpu().numpy()\n",
    "    ce_2d.append(cross_entropy_2d(targets,outputs))\n",
    "\n",
    "    is_expr = (targets.sum(axis=(1,2)) >= 1)\n",
    "    Y_true_acceptor.extend(targets[is_expr, :, 1].flatten())\n",
    "    Y_true_donor.extend(targets[is_expr, :, 2].flatten())\n",
    "    Y_pred_acceptor.extend(outputs[is_expr, :, 1].flatten())\n",
    "    Y_pred_donor.extend(outputs[is_expr, :, 2].flatten())\n"
   ]
  },
  {
   "cell_type": "code",
   "execution_count": 18,
   "metadata": {},
   "outputs": [
    {
     "name": "stdout",
     "output_type": "stream",
     "text": [
      "Cross entropy = 0.00011813136228016836\n",
      "\n",
      "\u001b[1mAcceptor:\u001b[0m\n",
      "0.9812\t0.936\t0.991\t0.9956\t0.9655\t0.9805\t0.4932\t0.0028\t0.0004\t45511\t48624.0\t48624\n",
      "\n",
      "\u001b[1mDonor:\u001b[0m\n",
      "0.9828\t0.9437\t0.994\t0.997\t0.971\t0.9824\t0.5176\t0.0021\t0.0003\t45885\t48624.0\t48624\n"
     ]
    }
   ],
   "source": [
    "mean_ce = np.mean(ce_2d)\n",
    "print('Cross entropy = {}'.format(mean_ce))\n",
    "Y_true_acceptor, Y_pred_acceptor,Y_true_donor, Y_pred_donor = np.array(Y_true_acceptor), np.array(Y_pred_acceptor),np.array(Y_true_donor), np.array(Y_pred_donor)\n",
    "print(\"\\n\\033[1m{}:\\033[0m\".format('Acceptor'))\n",
    "acceptor_val_results = print_topl_statistics(Y_true_acceptor, Y_pred_acceptor)\n",
    "print(\"\\n\\033[1m{}:\\033[0m\".format('Donor'))\n",
    "donor_val_results =print_topl_statistics(Y_true_donor, Y_pred_donor)"
   ]
  },
  {
   "cell_type": "code",
   "execution_count": 19,
   "metadata": {},
   "outputs": [
    {
     "name": "stdout",
     "output_type": "stream",
     "text": [
      "Cross entropy = 0.0001054637939021545\n",
      "\n",
      "\u001b[1mAcceptor:\u001b[0m\n",
      "0.9811\t0.9409\t0.992\t0.996\t0.967\t0.9827\t0.4555\t0.0022\t0.0003\t84407\t89712.0\t89712\n",
      "\n",
      "\u001b[1mDonor:\u001b[0m\n",
      "0.9823\t0.9457\t0.9945\t0.9972\t0.9704\t0.9829\t0.4890\t0.0018\t0.0002\t84841\t89712.0\t89712\n"
     ]
    }
   ],
   "source": [
    "mean_ce = np.mean(ce_2d)\n",
    "print('Cross entropy = {}'.format(mean_ce))\n",
    "Y_true_acceptor, Y_pred_acceptor,Y_true_donor, Y_pred_donor = np.array(Y_true_acceptor), np.array(Y_pred_acceptor),np.array(Y_true_donor), np.array(Y_pred_donor)\n",
    "print(\"\\n\\033[1m{}:\\033[0m\".format('Acceptor'))\n",
    "acceptor_val_results = print_topl_statistics(Y_true_acceptor, Y_pred_acceptor)\n",
    "print(\"\\n\\033[1m{}:\\033[0m\".format('Donor'))\n",
    "donor_val_results =print_topl_statistics(Y_true_donor, Y_pred_donor)"
   ]
  },
  {
   "cell_type": "code",
   "execution_count": 20,
   "metadata": {},
   "outputs": [],
   "source": [
    "df = pd.DataFrame({'Y_true_acceptor':Y_true_acceptor,'Y_pred_acceptor':Y_pred_acceptor,'Y_true_donor':Y_true_donor,'Y_pred_donor':Y_pred_donor})\n",
    "df.to_csv('/odinn/tmp/benediktj/Data/SplicePrediction-050422/transformer_40k_test_set_predictions_261022.gz',index=False)"
   ]
  },
  {
   "cell_type": "code",
   "execution_count": 20,
   "metadata": {},
   "outputs": [
    {
     "name": "stderr",
     "output_type": "stream",
     "text": [
      "100%|███████████████████████████████████████████████████████████████████| 133024/133024 [07:37<00:00, 290.45it/s]\n"
     ]
    }
   ],
   "source": [
    "setType = 'test'\n",
    "annotation_test, transcriptToLabel_test, seqData = getData(data_dir, setType)    \n",
    "Y_true_acceptor, Y_pred_acceptor = [],[]\n",
    "Y_true_donor, Y_pred_donor = [],[]\n",
    "data = getDataPointListFull(annotation_test,transcriptToLabel_test,SL,CL_max,shift=SL,include_pos=True)\n",
    "\n",
    "chromosomes = []\n",
    "transcripts = []\n",
    "posistions = []\n",
    "\n",
    "for x in tqdm(data):\n",
    "    _ ,targets,pos,chrom,transcript = x.getData(seqData)\n",
    "    targets = targets[:,CL_max//2:-CL_max//2]\n",
    "    #is_expr = (targets.sum(axis=(0)) >= 1)\n",
    "    is_expr = targets.sum() >= 1\n",
    "    if is_expr:\n",
    "        chromosomes.extend(chrom)\n",
    "        transcripts.extend(transcript)\n",
    "        posistions.extend(pos)\n",
    "    #chromosomes.extend(chrom[is_expr])\n",
    "    #transcripts.extend(transcript[is_expr])\n",
    "    #posistions.extend(pos[is_expr])\n",
    "    #Y_pred_acceptor.extend(outputs[is_expr, :, 1].flatten())\n",
    "    #Y_pred_donor.extend(outputs[is_expr, :, 2].flatten())\n"
   ]
  },
  {
   "cell_type": "code",
   "execution_count": 21,
   "metadata": {},
   "outputs": [
    {
     "data": {
      "text/plain": [
       "664940000"
      ]
     },
     "execution_count": 21,
     "metadata": {},
     "output_type": "execute_result"
    }
   ],
   "source": [
    "len(posistions)"
   ]
  },
  {
   "cell_type": "code",
   "execution_count": 17,
   "metadata": {},
   "outputs": [],
   "source": [
    "with open('/odinn/tmp/benediktj/Data/SplicePrediction-050422/tvd-191022.pkl', 'rb') as f:\n",
    "    tv_dist = pickle.load(f)"
   ]
  },
  {
   "cell_type": "code",
   "execution_count": 18,
   "metadata": {},
   "outputs": [
    {
     "data": {
      "text/plain": [
       "664940000"
      ]
     },
     "execution_count": 18,
     "metadata": {},
     "output_type": "execute_result"
    }
   ],
   "source": [
    "len(tv_dist)"
   ]
  },
  {
   "cell_type": "code",
   "execution_count": 22,
   "metadata": {},
   "outputs": [],
   "source": [
    "df1 = pd.read_csv('/odinn/tmp/benediktj/Data/SplicePrediction-050422/spliceai_10k_test_set_predictions_191022.gz')\n",
    "df2 = pd.read_csv('/odinn/tmp/benediktj/Data/SplicePrediction-050422/transformer_40k_test_set_predictions_191022.gz')"
   ]
  },
  {
   "cell_type": "code",
   "execution_count": 25,
   "metadata": {},
   "outputs": [],
   "source": [
    "df3 = pd.DataFrame({'transcript':transcripts,'chromosome':chromosomes,'posistions':posistions})"
   ]
  },
  {
   "cell_type": "code",
   "execution_count": 26,
   "metadata": {},
   "outputs": [],
   "source": [
    "df1['tvd'] = tv_dist\n",
    "df2['tvd'] = tv_dist\n",
    "df3['tvd'] = tv_dist"
   ]
  },
  {
   "cell_type": "code",
   "execution_count": 27,
   "metadata": {},
   "outputs": [],
   "source": [
    "df1_da = df1[df1['tvd']>=0.1]\n",
    "df2_da = df2[df2['tvd']>=0.1]\n",
    "df3_da = df3[df3['tvd']>=0.1]"
   ]
  },
  {
   "cell_type": "code",
   "execution_count": 36,
   "metadata": {},
   "outputs": [],
   "source": [
    "df1_da.columns = ['Y_true_acceptor', 'SpliceAI_acceptor', 'Y_true_donor', 'SpliceAI_donor','tvd']\n",
    "df2_da.columns = ['Y_true_acceptor', 'Transformer_acceptor', 'Y_true_donor', 'Transformer_donor','tvd']"
   ]
  },
  {
   "cell_type": "code",
   "execution_count": 38,
   "metadata": {},
   "outputs": [],
   "source": [
    "results = pd.concat([df3_da[['transcript','chromosome','posistions']],df1_da.iloc[:,:-1],df2_da[['Transformer_acceptor','Transformer_donor','tvd']]],axis=1)"
   ]
  },
  {
   "cell_type": "code",
   "execution_count": 42,
   "metadata": {},
   "outputs": [],
   "source": [
    "results = results[['transcript', 'chromosome', 'posistions', 'Y_true_acceptor','Y_true_donor',\n",
    "       'SpliceAI_acceptor', 'SpliceAI_donor',\n",
    "       'Transformer_acceptor', 'Transformer_donor', 'tvd']]"
   ]
  },
  {
   "cell_type": "code",
   "execution_count": 40,
   "metadata": {},
   "outputs": [
    {
     "data": {
      "text/html": [
       "<div>\n",
       "<style scoped>\n",
       "    .dataframe tbody tr th:only-of-type {\n",
       "        vertical-align: middle;\n",
       "    }\n",
       "\n",
       "    .dataframe tbody tr th {\n",
       "        vertical-align: top;\n",
       "    }\n",
       "\n",
       "    .dataframe thead th {\n",
       "        text-align: right;\n",
       "    }\n",
       "</style>\n",
       "<table border=\"1\" class=\"dataframe\">\n",
       "  <thead>\n",
       "    <tr style=\"text-align: right;\">\n",
       "      <th></th>\n",
       "      <th>transcript</th>\n",
       "      <th>chromosome</th>\n",
       "      <th>posistions</th>\n",
       "      <th>Y_true_acceptor</th>\n",
       "      <th>SpliceAI_acceptor</th>\n",
       "      <th>Y_true_donor</th>\n",
       "      <th>SpliceAI_donor</th>\n",
       "      <th>Transformer_acceptor</th>\n",
       "      <th>Transformer_donor</th>\n",
       "      <th>tvd</th>\n",
       "    </tr>\n",
       "  </thead>\n",
       "  <tbody>\n",
       "    <tr>\n",
       "      <th>108770716</th>\n",
       "      <td>ENST00000624731</td>\n",
       "      <td>chr1</td>\n",
       "      <td>156597888</td>\n",
       "      <td>0.0</td>\n",
       "      <td>0.000050</td>\n",
       "      <td>0.0</td>\n",
       "      <td>0.093406</td>\n",
       "      <td>0.000400</td>\n",
       "      <td>0.193057</td>\n",
       "      <td>0.100002</td>\n",
       "    </tr>\n",
       "    <tr>\n",
       "      <th>371177</th>\n",
       "      <td>ENST00000427211</td>\n",
       "      <td>chr1</td>\n",
       "      <td>1417946</td>\n",
       "      <td>0.0</td>\n",
       "      <td>0.960329</td>\n",
       "      <td>0.0</td>\n",
       "      <td>0.000093</td>\n",
       "      <td>0.860327</td>\n",
       "      <td>0.000307</td>\n",
       "      <td>0.100002</td>\n",
       "    </tr>\n",
       "    <tr>\n",
       "      <th>340976206</th>\n",
       "      <td>ENST00000342358</td>\n",
       "      <td>chr3</td>\n",
       "      <td>193360049</td>\n",
       "      <td>1.0</td>\n",
       "      <td>0.621681</td>\n",
       "      <td>0.0</td>\n",
       "      <td>0.000057</td>\n",
       "      <td>0.521673</td>\n",
       "      <td>0.000080</td>\n",
       "      <td>0.100008</td>\n",
       "    </tr>\n",
       "    <tr>\n",
       "      <th>525967583</th>\n",
       "      <td>ENST00000445716</td>\n",
       "      <td>chr7</td>\n",
       "      <td>92577977</td>\n",
       "      <td>0.0</td>\n",
       "      <td>0.204700</td>\n",
       "      <td>0.0</td>\n",
       "      <td>0.000032</td>\n",
       "      <td>0.104691</td>\n",
       "      <td>0.000107</td>\n",
       "      <td>0.100009</td>\n",
       "    </tr>\n",
       "    <tr>\n",
       "      <th>118776015</th>\n",
       "      <td>ENST00000413811</td>\n",
       "      <td>chr1</td>\n",
       "      <td>169851935</td>\n",
       "      <td>0.0</td>\n",
       "      <td>0.000015</td>\n",
       "      <td>1.0</td>\n",
       "      <td>0.859690</td>\n",
       "      <td>0.000139</td>\n",
       "      <td>0.959575</td>\n",
       "      <td>0.100010</td>\n",
       "    </tr>\n",
       "    <tr>\n",
       "      <th>...</th>\n",
       "      <td>...</td>\n",
       "      <td>...</td>\n",
       "      <td>...</td>\n",
       "      <td>...</td>\n",
       "      <td>...</td>\n",
       "      <td>...</td>\n",
       "      <td>...</td>\n",
       "      <td>...</td>\n",
       "      <td>...</td>\n",
       "      <td>...</td>\n",
       "    </tr>\n",
       "    <tr>\n",
       "      <th>69935035</th>\n",
       "      <td>ENST00000326637</td>\n",
       "      <td>chr1</td>\n",
       "      <td>74395435</td>\n",
       "      <td>0.0</td>\n",
       "      <td>0.869300</td>\n",
       "      <td>0.0</td>\n",
       "      <td>0.000073</td>\n",
       "      <td>0.032710</td>\n",
       "      <td>0.000012</td>\n",
       "      <td>0.836652</td>\n",
       "    </tr>\n",
       "    <tr>\n",
       "      <th>195337084</th>\n",
       "      <td>ENST00000437509</td>\n",
       "      <td>chr3</td>\n",
       "      <td>16231792</td>\n",
       "      <td>1.0</td>\n",
       "      <td>0.893531</td>\n",
       "      <td>0.0</td>\n",
       "      <td>0.000039</td>\n",
       "      <td>0.056783</td>\n",
       "      <td>0.000039</td>\n",
       "      <td>0.836748</td>\n",
       "    </tr>\n",
       "    <tr>\n",
       "      <th>430656951</th>\n",
       "      <td>ENST00000378004</td>\n",
       "      <td>chr5</td>\n",
       "      <td>143222357</td>\n",
       "      <td>1.0</td>\n",
       "      <td>0.047768</td>\n",
       "      <td>0.0</td>\n",
       "      <td>0.000049</td>\n",
       "      <td>0.891665</td>\n",
       "      <td>0.000119</td>\n",
       "      <td>0.843967</td>\n",
       "    </tr>\n",
       "    <tr>\n",
       "      <th>64484651</th>\n",
       "      <td>ENST00000235345</td>\n",
       "      <td>chr1</td>\n",
       "      <td>67008750</td>\n",
       "      <td>1.0</td>\n",
       "      <td>0.068658</td>\n",
       "      <td>0.0</td>\n",
       "      <td>0.000022</td>\n",
       "      <td>0.933062</td>\n",
       "      <td>0.000077</td>\n",
       "      <td>0.864458</td>\n",
       "    </tr>\n",
       "    <tr>\n",
       "      <th>415997291</th>\n",
       "      <td>ENST00000379264</td>\n",
       "      <td>chr5</td>\n",
       "      <td>131953953</td>\n",
       "      <td>1.0</td>\n",
       "      <td>0.027240</td>\n",
       "      <td>0.0</td>\n",
       "      <td>0.000117</td>\n",
       "      <td>0.904157</td>\n",
       "      <td>0.000285</td>\n",
       "      <td>0.877085</td>\n",
       "    </tr>\n",
       "  </tbody>\n",
       "</table>\n",
       "<p>32673 rows × 10 columns</p>\n",
       "</div>"
      ],
      "text/plain": [
       "                transcript chromosome  posistions  Y_true_acceptor  \\\n",
       "108770716  ENST00000624731       chr1   156597888              0.0   \n",
       "371177     ENST00000427211       chr1     1417946              0.0   \n",
       "340976206  ENST00000342358       chr3   193360049              1.0   \n",
       "525967583  ENST00000445716       chr7    92577977              0.0   \n",
       "118776015  ENST00000413811       chr1   169851935              0.0   \n",
       "...                    ...        ...         ...              ...   \n",
       "69935035   ENST00000326637       chr1    74395435              0.0   \n",
       "195337084  ENST00000437509       chr3    16231792              1.0   \n",
       "430656951  ENST00000378004       chr5   143222357              1.0   \n",
       "64484651   ENST00000235345       chr1    67008750              1.0   \n",
       "415997291  ENST00000379264       chr5   131953953              1.0   \n",
       "\n",
       "           SpliceAI_acceptor  Y_true_donor  SpliceAI_donor  \\\n",
       "108770716           0.000050           0.0        0.093406   \n",
       "371177              0.960329           0.0        0.000093   \n",
       "340976206           0.621681           0.0        0.000057   \n",
       "525967583           0.204700           0.0        0.000032   \n",
       "118776015           0.000015           1.0        0.859690   \n",
       "...                      ...           ...             ...   \n",
       "69935035            0.869300           0.0        0.000073   \n",
       "195337084           0.893531           0.0        0.000039   \n",
       "430656951           0.047768           0.0        0.000049   \n",
       "64484651            0.068658           0.0        0.000022   \n",
       "415997291           0.027240           0.0        0.000117   \n",
       "\n",
       "           Transformer_acceptor  Transformer_donor       tvd  \n",
       "108770716              0.000400           0.193057  0.100002  \n",
       "371177                 0.860327           0.000307  0.100002  \n",
       "340976206              0.521673           0.000080  0.100008  \n",
       "525967583              0.104691           0.000107  0.100009  \n",
       "118776015              0.000139           0.959575  0.100010  \n",
       "...                         ...                ...       ...  \n",
       "69935035               0.032710           0.000012  0.836652  \n",
       "195337084              0.056783           0.000039  0.836748  \n",
       "430656951              0.891665           0.000119  0.843967  \n",
       "64484651               0.933062           0.000077  0.864458  \n",
       "415997291              0.904157           0.000285  0.877085  \n",
       "\n",
       "[32673 rows x 10 columns]"
      ]
     },
     "execution_count": 40,
     "metadata": {},
     "output_type": "execute_result"
    }
   ],
   "source": [
    "results.sort_values('tvd')"
   ]
  },
  {
   "cell_type": "code",
   "execution_count": 46,
   "metadata": {},
   "outputs": [
    {
     "data": {
      "text/html": [
       "<div>\n",
       "<style scoped>\n",
       "    .dataframe tbody tr th:only-of-type {\n",
       "        vertical-align: middle;\n",
       "    }\n",
       "\n",
       "    .dataframe tbody tr th {\n",
       "        vertical-align: top;\n",
       "    }\n",
       "\n",
       "    .dataframe thead th {\n",
       "        text-align: right;\n",
       "    }\n",
       "</style>\n",
       "<table border=\"1\" class=\"dataframe\">\n",
       "  <thead>\n",
       "    <tr style=\"text-align: right;\">\n",
       "      <th></th>\n",
       "      <th>transcript</th>\n",
       "      <th>chromosome</th>\n",
       "      <th>posistions</th>\n",
       "      <th>Y_true_acceptor</th>\n",
       "      <th>Y_true_donor</th>\n",
       "      <th>SpliceAI_acceptor</th>\n",
       "      <th>SpliceAI_donor</th>\n",
       "      <th>Transformer_acceptor</th>\n",
       "      <th>Transformer_donor</th>\n",
       "      <th>tvd</th>\n",
       "    </tr>\n",
       "  </thead>\n",
       "  <tbody>\n",
       "    <tr>\n",
       "      <th>74191721</th>\n",
       "      <td>ENST00000319517</td>\n",
       "      <td>chr1</td>\n",
       "      <td>81862117</td>\n",
       "      <td>0.0</td>\n",
       "      <td>0.0</td>\n",
       "      <td>0.000093</td>\n",
       "      <td>0.815235</td>\n",
       "      <td>0.000026</td>\n",
       "      <td>0.010388</td>\n",
       "      <td>0.804913</td>\n",
       "    </tr>\n",
       "    <tr>\n",
       "      <th>225073839</th>\n",
       "      <td>ENST00000327906</td>\n",
       "      <td>chr3</td>\n",
       "      <td>52414495</td>\n",
       "      <td>1.0</td>\n",
       "      <td>0.0</td>\n",
       "      <td>0.082544</td>\n",
       "      <td>0.000035</td>\n",
       "      <td>0.887458</td>\n",
       "      <td>0.000097</td>\n",
       "      <td>0.804975</td>\n",
       "    </tr>\n",
       "    <tr>\n",
       "      <th>74487348</th>\n",
       "      <td>ENST00000359929</td>\n",
       "      <td>chr1</td>\n",
       "      <td>81862117</td>\n",
       "      <td>0.0</td>\n",
       "      <td>0.0</td>\n",
       "      <td>0.000093</td>\n",
       "      <td>0.815235</td>\n",
       "      <td>0.000027</td>\n",
       "      <td>0.010148</td>\n",
       "      <td>0.805152</td>\n",
       "    </tr>\n",
       "    <tr>\n",
       "      <th>69935137</th>\n",
       "      <td>ENST00000326637</td>\n",
       "      <td>chr1</td>\n",
       "      <td>74395537</td>\n",
       "      <td>0.0</td>\n",
       "      <td>0.0</td>\n",
       "      <td>0.000056</td>\n",
       "      <td>0.841945</td>\n",
       "      <td>0.000030</td>\n",
       "      <td>0.023631</td>\n",
       "      <td>0.818339</td>\n",
       "    </tr>\n",
       "    <tr>\n",
       "      <th>452862278</th>\n",
       "      <td>ENST00000296953</td>\n",
       "      <td>chr5</td>\n",
       "      <td>173133629</td>\n",
       "      <td>1.0</td>\n",
       "      <td>0.0</td>\n",
       "      <td>0.058971</td>\n",
       "      <td>0.000073</td>\n",
       "      <td>0.878931</td>\n",
       "      <td>0.000134</td>\n",
       "      <td>0.820021</td>\n",
       "    </tr>\n",
       "    <tr>\n",
       "      <th>69935035</th>\n",
       "      <td>ENST00000326637</td>\n",
       "      <td>chr1</td>\n",
       "      <td>74395435</td>\n",
       "      <td>0.0</td>\n",
       "      <td>0.0</td>\n",
       "      <td>0.869300</td>\n",
       "      <td>0.000073</td>\n",
       "      <td>0.032710</td>\n",
       "      <td>0.000012</td>\n",
       "      <td>0.836652</td>\n",
       "    </tr>\n",
       "    <tr>\n",
       "      <th>195337084</th>\n",
       "      <td>ENST00000437509</td>\n",
       "      <td>chr3</td>\n",
       "      <td>16231792</td>\n",
       "      <td>1.0</td>\n",
       "      <td>0.0</td>\n",
       "      <td>0.893531</td>\n",
       "      <td>0.000039</td>\n",
       "      <td>0.056783</td>\n",
       "      <td>0.000039</td>\n",
       "      <td>0.836748</td>\n",
       "    </tr>\n",
       "    <tr>\n",
       "      <th>430656951</th>\n",
       "      <td>ENST00000378004</td>\n",
       "      <td>chr5</td>\n",
       "      <td>143222357</td>\n",
       "      <td>1.0</td>\n",
       "      <td>0.0</td>\n",
       "      <td>0.047768</td>\n",
       "      <td>0.000049</td>\n",
       "      <td>0.891665</td>\n",
       "      <td>0.000119</td>\n",
       "      <td>0.843967</td>\n",
       "    </tr>\n",
       "    <tr>\n",
       "      <th>64484651</th>\n",
       "      <td>ENST00000235345</td>\n",
       "      <td>chr1</td>\n",
       "      <td>67008750</td>\n",
       "      <td>1.0</td>\n",
       "      <td>0.0</td>\n",
       "      <td>0.068658</td>\n",
       "      <td>0.000022</td>\n",
       "      <td>0.933062</td>\n",
       "      <td>0.000077</td>\n",
       "      <td>0.864458</td>\n",
       "    </tr>\n",
       "    <tr>\n",
       "      <th>415997291</th>\n",
       "      <td>ENST00000379264</td>\n",
       "      <td>chr5</td>\n",
       "      <td>131953953</td>\n",
       "      <td>1.0</td>\n",
       "      <td>0.0</td>\n",
       "      <td>0.027240</td>\n",
       "      <td>0.000117</td>\n",
       "      <td>0.904157</td>\n",
       "      <td>0.000285</td>\n",
       "      <td>0.877085</td>\n",
       "    </tr>\n",
       "  </tbody>\n",
       "</table>\n",
       "</div>"
      ],
      "text/plain": [
       "                transcript chromosome  posistions  Y_true_acceptor  \\\n",
       "74191721   ENST00000319517       chr1    81862117              0.0   \n",
       "225073839  ENST00000327906       chr3    52414495              1.0   \n",
       "74487348   ENST00000359929       chr1    81862117              0.0   \n",
       "69935137   ENST00000326637       chr1    74395537              0.0   \n",
       "452862278  ENST00000296953       chr5   173133629              1.0   \n",
       "69935035   ENST00000326637       chr1    74395435              0.0   \n",
       "195337084  ENST00000437509       chr3    16231792              1.0   \n",
       "430656951  ENST00000378004       chr5   143222357              1.0   \n",
       "64484651   ENST00000235345       chr1    67008750              1.0   \n",
       "415997291  ENST00000379264       chr5   131953953              1.0   \n",
       "\n",
       "           Y_true_donor  SpliceAI_acceptor  SpliceAI_donor  \\\n",
       "74191721            0.0           0.000093        0.815235   \n",
       "225073839           0.0           0.082544        0.000035   \n",
       "74487348            0.0           0.000093        0.815235   \n",
       "69935137            0.0           0.000056        0.841945   \n",
       "452862278           0.0           0.058971        0.000073   \n",
       "69935035            0.0           0.869300        0.000073   \n",
       "195337084           0.0           0.893531        0.000039   \n",
       "430656951           0.0           0.047768        0.000049   \n",
       "64484651            0.0           0.068658        0.000022   \n",
       "415997291           0.0           0.027240        0.000117   \n",
       "\n",
       "           Transformer_acceptor  Transformer_donor       tvd  \n",
       "74191721               0.000026           0.010388  0.804913  \n",
       "225073839              0.887458           0.000097  0.804975  \n",
       "74487348               0.000027           0.010148  0.805152  \n",
       "69935137               0.000030           0.023631  0.818339  \n",
       "452862278              0.878931           0.000134  0.820021  \n",
       "69935035               0.032710           0.000012  0.836652  \n",
       "195337084              0.056783           0.000039  0.836748  \n",
       "430656951              0.891665           0.000119  0.843967  \n",
       "64484651               0.933062           0.000077  0.864458  \n",
       "415997291              0.904157           0.000285  0.877085  "
      ]
     },
     "execution_count": 46,
     "metadata": {},
     "output_type": "execute_result"
    }
   ],
   "source": [
    "results.sort_values('tvd').tail(10)"
   ]
  },
  {
   "cell_type": "code",
   "execution_count": null,
   "metadata": {},
   "outputs": [],
   "source": [
    "ENST00000296953"
   ]
  },
  {
   "cell_type": "code",
   "execution_count": 47,
   "metadata": {},
   "outputs": [],
   "source": [
    "results.sort_values('tvd',ascending=False).to_csv('../Results/transformer_spliceai_tvd_w_posistion.tsv',sep='\\t',index=False)"
   ]
  }
 ],
 "metadata": {
  "kernelspec": {
   "display_name": "Python 3 (ipykernel)",
   "language": "python",
   "name": "python3"
  },
  "language_info": {
   "codemirror_mode": {
    "name": "ipython",
    "version": 3
   },
   "file_extension": ".py",
   "mimetype": "text/x-python",
   "name": "python",
   "nbconvert_exporter": "python",
   "pygments_lexer": "ipython3",
   "version": "3.10.9"
  }
 },
 "nbformat": 4,
 "nbformat_minor": 4
}
