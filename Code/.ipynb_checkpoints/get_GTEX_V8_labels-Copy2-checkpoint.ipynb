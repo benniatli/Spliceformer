{
 "cells": [
  {
   "cell_type": "code",
   "execution_count": 1,
   "id": "f1c3bae6",
   "metadata": {},
   "outputs": [
    {
     "name": "stderr",
     "output_type": "stream",
     "text": [
      "/home/benediktj/Python3.9.1/lib/python3.9/site-packages/scipy/__init__.py:146: UserWarning: A NumPy version >=1.16.5 and <1.23.0 is required for this version of SciPy (detected version 1.23.1\n",
      "  warnings.warn(f\"A NumPy version >={np_minversion} and <{np_maxversion}\"\n"
     ]
    }
   ],
   "source": [
    "import numpy as np\n",
    "import pandas as pd\n",
    "from scipy.stats import gmean\n",
    "from tqdm import tqdm\n",
    "import gffutils\n",
    "import os.path\n",
    "#from liftover import ChainFile\n",
    "from collections import defaultdict\n",
    "from math import ceil\n",
    "import pyfastx\n",
    "import re\n",
    "from scipy.sparse.csgraph import connected_components\n",
    "from glob import glob\n",
    "from scipy.sparse import lil_matrix,csr_matrix,coo_matrix,dok_matrix, save_npz\n",
    "import pickle\n",
    "#\n",
    "blacklist = pd.read_csv('/odinn/tmp/benediktj/Data/SplicePrediction-GTEX-V8/ENCFF220FIN.bed',header=None,sep='\\t')"
   ]
  },
  {
   "cell_type": "code",
   "execution_count": 2,
   "id": "5cab6af4",
   "metadata": {},
   "outputs": [],
   "source": [
    "simpileRepeats = pd.read_csv('/odinn/tmp/benediktj/Data/SplicePrediction-GTEX-V8/simpleRepeat.txt',header=None,sep='\\t')"
   ]
  },
  {
   "cell_type": "code",
   "execution_count": 3,
   "id": "88746baa",
   "metadata": {},
   "outputs": [],
   "source": [
    "#gffutils.create_db('/odinn/tmp/benediktj/Data/SplicePrediction-GTEX/gencode.v42.annotation.gtf', \"/odinn/tmp/benediktj/Data/SplicePrediction-GTEX/gencode.v42.annotation.db\", force=True,disable_infer_genes=True, disable_infer_transcripts=True)"
   ]
  },
  {
   "cell_type": "code",
   "execution_count": 4,
   "id": "6d829cf3",
   "metadata": {},
   "outputs": [],
   "source": [
    "gtf_gencode = gffutils.FeatureDB('/odinn/tmp/benediktj/Data/SplicePrediction-GTEX-V8/gencode.v42.annotation.db')"
   ]
  },
  {
   "cell_type": "code",
   "execution_count": 5,
   "id": "3e71ed15",
   "metadata": {},
   "outputs": [],
   "source": [
    "leafcutterFiles = glob('/nfs/odinn/users/solvir/GTEx/GTEx_Analysis_v8_sQTL_leafcutter_counts/*_perind_numers.counts.gz')"
   ]
  },
  {
   "cell_type": "code",
   "execution_count": 6,
   "id": "b5adf3b6",
   "metadata": {},
   "outputs": [],
   "source": [
    "#junctions = pd.read_csv('/odinn/tmp/benediktj/Data/SplicePrediction-GTEX-V8/GTEx_Analysis_2017-06-05_v8_STARv2.5.3a_junctions.gct', skiprows=2,sep='\\t')"
   ]
  },
  {
   "cell_type": "code",
   "execution_count": 7,
   "id": "e64dad7b",
   "metadata": {},
   "outputs": [],
   "source": [
    "def findLowCountJunctions(junctions,blacklist,simpileRepeats):\n",
    "    tmp2 = junctions.iloc[:,2:]\n",
    "    transcriptCount = np.sum(tmp2,axis=1)\n",
    "    tmp2.columns = [x.split('-')[1] for x in junctions.columns[2:]]\n",
    "    tmp2 = tmp2.T.groupby(tmp2.columns).sum().T\n",
    "\n",
    "    includeJunction = np.sum(tmp2 > 0,axis=1)>=4\n",
    "\n",
    "    discardJunctionDict = defaultdict(bool)\n",
    "    discardReason = defaultdict(bool)\n",
    "    prev_chrom = 'chr1'\n",
    "    blacklist_chrom = blacklist[blacklist[0]==prev_chrom]\n",
    "    simpileRepeats_chrom = simpileRepeats[simpileRepeats[1]==prev_chrom]\n",
    "    \n",
    "    for i,junction in tqdm(enumerate(junctions.Name.values)):\n",
    "        chrom,start,end = junctions.iloc[i,0].split('_')\n",
    "        start,end = int(start),int(end)\n",
    "        cond1 = includeJunction[i]==False\n",
    "        \n",
    "        if cond1:\n",
    "            geneID = junctions.iloc[i,1].split('.')[0]\n",
    "            discardJunctionDict[junction+'_'+geneID] = True\n",
    "            discardReason[junction+'_'+geneID] = 'LowReadCount'\n",
    "            prev_chrom = chrom\n",
    "            continue\n",
    "            \n",
    "        if prev_chrom != chrom:\n",
    "            blacklist_chrom = blacklist[blacklist[0]==chrom]\n",
    "        tmp = blacklist_chrom[np.logical_not(np.any([blacklist_chrom[1]>=end, blacklist_chrom[2]<=start],0))]\n",
    "        cond2 = False\n",
    "        for i_b in range(tmp.shape[0]):\n",
    "            if (np.isin(start, range(tmp.iloc[i_b,1],tmp.iloc[i_b,2]+1)) or np.isin(end, range(tmp.iloc[i_b,1],tmp.iloc[i_b,2]+1))):\n",
    "                cond2 = True\n",
    "                break\n",
    "                \n",
    "        if cond2:\n",
    "            geneID = junctions.iloc[i,1].split('.')[0]\n",
    "            discardJunctionDict[junction+'_'+geneID] = True\n",
    "            discardReason[junction+'_'+geneID] = 'InBlacklistedRegion'\n",
    "            prev_chrom = chrom\n",
    "            continue\n",
    "                \n",
    "        if prev_chrom != chrom:\n",
    "            simpileRepeats_chrom = simpileRepeats[simpileRepeats[1]==chrom]\n",
    "        \n",
    "        tmp = simpileRepeats_chrom[np.logical_not(np.any([simpileRepeats_chrom[2]>=end,simpileRepeats_chrom[3]<=start],0))]\n",
    "        cond3 = False\n",
    "        for i_b in range(tmp.shape[0]):\n",
    "            if (np.isin(start, range(tmp.iloc[i_b,2],tmp.iloc[i_b,3]+1)) or np.isin(end, range(tmp.iloc[i_b,2],tmp.iloc[i_b,3]+1))):\n",
    "                cond3 = True\n",
    "                break\n",
    "        \n",
    "        if cond3:\n",
    "            geneID = junctions.iloc[i,1].split('.')[0]\n",
    "            discardJunctionDict[junction+'_'+geneID] = True\n",
    "            discardReason[junction+'_'+geneID] = 'InRepeatRegion'\n",
    "            prev_chrom = chrom\n",
    "            continue\n",
    "        \n",
    "        prev_chrom = chrom\n",
    "        \n",
    "    return discardJunctionDict,discardReason"
   ]
  },
  {
   "cell_type": "code",
   "execution_count": 8,
   "id": "98d2fb56",
   "metadata": {},
   "outputs": [],
   "source": [
    "#discardJunctionDict,discardReason = findLowCountJunctions(junctions,blacklist,simpileRepeats)"
   ]
  },
  {
   "cell_type": "code",
   "execution_count": 8,
   "id": "4ac6fdf8",
   "metadata": {},
   "outputs": [],
   "source": [
    "with open('/odinn/tmp/benediktj/Data/SplicePrediction-GTEX-V8/discardJunctions.pkl', 'rb') as f:\n",
    "    discardJunctionDict = pickle.load(f)\n",
    "\n",
    "with open('/odinn/tmp/benediktj/Data/SplicePrediction-GTEX-V8/discardReason.pkl', 'rb') as f:\n",
    "     discardReason = pickle.load(f)\n"
   ]
  },
  {
   "cell_type": "code",
   "execution_count": 9,
   "id": "fe5b84df",
   "metadata": {},
   "outputs": [],
   "source": [
    "#with open('/odinn/tmp/benediktj/Data/SplicePrediction-GTEX-V8/discardJunctions.pkl', 'wb') as f:\n",
    "#    pickle.dump(discardJunctionDict, f)"
   ]
  },
  {
   "cell_type": "code",
   "execution_count": 10,
   "id": "f1d37a41",
   "metadata": {},
   "outputs": [],
   "source": [
    "#with open('/odinn/tmp/benediktj/Data/SplicePrediction-GTEX-V8/discardReason.pkl', 'wb') as f:\n",
    "#    pickle.dump(discardReason, f)"
   ]
  },
  {
   "cell_type": "code",
   "execution_count": 11,
   "id": "a411b6f3",
   "metadata": {},
   "outputs": [],
   "source": [
    "leafcutterFiles = glob('/odinn/tmp/bjarnih/RNA/leafCutter/GTEx/*/meta_results/clusters_*_summary.tab')\n",
    "chrmToLeafcutterFiles = defaultdict(list)\n",
    "for file in leafcutterFiles:\n",
    "    chrm = file.split('/')[-1].split('_')[1]\n",
    "    chrmToLeafcutterFiles[chrm].append(file)"
   ]
  },
  {
   "cell_type": "code",
   "execution_count": 12,
   "id": "edc6fbf2",
   "metadata": {},
   "outputs": [],
   "source": [
    "def getCombinedLeafCutterDF(chrm,chrmToLeafcutterFiles):\n",
    "    files = chrmToLeafcutterFiles[chrm]\n",
    "    for i in range(len(files)):\n",
    "        if i == 0:\n",
    "            df = pd.read_csv(files[i],sep='\\t')\n",
    "        else:\n",
    "            df = pd.concat([df,pd.read_csv(files[i],sep='\\t')],axis=0)\n",
    "            df = df.drop_duplicates('splice_event_id')\n",
    "    df = df[['Chrom','Start','End','Gene_id','ClusterID']]\n",
    "    results = []\n",
    "    for i,gene in enumerate(df.Gene_id.values):\n",
    "        chrom,start,end,gene_id,cluster_id = df.iloc[i,:]\n",
    "        for unique_id in str(gene).split(','):\n",
    "            results.append([chrom,start,end,unique_id,cluster_id])\n",
    "    df = pd.DataFrame(results)\n",
    "    df.columns = ['Chrom','Start','End','Gene_id','ClusterID']\n",
    "    df = pd.concat([rna_splice_junctions[rna_splice_junctions['Chrom']==chrm],df],axis=0)\n",
    "    return df.sort_values('Start')"
   ]
  },
  {
   "cell_type": "code",
   "execution_count": 13,
   "id": "8511b7d3",
   "metadata": {},
   "outputs": [],
   "source": [
    "df2 = pd.read_csv('/odinn/tmp/benediktj/Data/SplicePrediction-rnasplice-blood-050623/filtered_junctions.gor', sep='\\t')\n",
    "df2 = df2.rename(columns={'Startx':'Start'})\n",
    "df2['End'] = df2['End']+1"
   ]
  },
  {
   "cell_type": "code",
   "execution_count": 14,
   "id": "de2846ef",
   "metadata": {},
   "outputs": [],
   "source": [
    "#df1 = getCombinedLeafCutterDF('chr1',chrmToLeafcutterFiles)"
   ]
  },
  {
   "cell_type": "code",
   "execution_count": 15,
   "id": "9bef3f56",
   "metadata": {},
   "outputs": [],
   "source": [
    "def cluster_splice_junctions(splice_junctions):\n",
    "    clusters = []\n",
    "    labels = []\n",
    "    \n",
    "    for junction in splice_junctions:\n",
    "        found_cluster = False\n",
    "        \n",
    "        for i, cluster in enumerate(clusters):\n",
    "            for j in range(len(cluster)):\n",
    "                if junction[0] == cluster[j][0] or junction[1] == cluster[j][1]:\n",
    "                    cluster.append(junction)\n",
    "                    labels.append(i)\n",
    "                    found_cluster = True\n",
    "                    break\n",
    "            else:  # only execute when it's no break in the inner loop\n",
    "                continue\n",
    "            break\n",
    "        \n",
    "        if not found_cluster:\n",
    "            clusters.append([junction])\n",
    "            labels.append(len(clusters) - 1)\n",
    "    return clusters, labels"
   ]
  },
  {
   "cell_type": "code",
   "execution_count": 16,
   "id": "bcc0012a",
   "metadata": {},
   "outputs": [],
   "source": [
    "fasta = pyfastx.Fasta('/odinn/tmp/benediktj/Data/SplicePrediction-GTEX-V8/GRCh38.p13.genome.fa')"
   ]
  },
  {
   "cell_type": "code",
   "execution_count": 17,
   "id": "e3714b4d",
   "metadata": {},
   "outputs": [],
   "source": [
    "data_dir = '/odinn/tmp/benediktj/Data/SplicePrediction-rnasplice-blood-070623/'\n",
    "\n",
    "seqData = {}\n",
    "\n",
    "CHROM_GROUP = ['chr1', 'chr3', 'chr5', 'chr7', 'chr9',\n",
    "'chr11', 'chr13', 'chr15', 'chr17', 'chr19', 'chr21',\n",
    "'chr2', 'chr4', 'chr6', 'chr8', 'chr10', 'chr12',\n",
    "'chr14', 'chr16', 'chr18', 'chr20', 'chr22', 'chrX', 'chrY']\n",
    "\n",
    "for chrom in CHROM_GROUP:\n",
    "        seqData[chrom] = dok_matrix((len(fasta[chrom]), 5), dtype=np.int8)\n",
    "\n",
    "seqData[chrom] = dok_matrix((len(fasta[chrom]), 5), dtype=np.int8)"
   ]
  },
  {
   "cell_type": "code",
   "execution_count": 18,
   "id": "10e926f9",
   "metadata": {},
   "outputs": [
    {
     "name": "stderr",
     "output_type": "stream",
     "text": [
      "62696it [00:51, 1223.86it/s]\n"
     ]
    }
   ],
   "source": [
    "genes = gtf_gencode.features_of_type('gene')\n",
    "gene_name_to_id = defaultdict(lambda: None)\n",
    "for gene in tqdm(genes):\n",
    "    #print(gene['gene_id'],gene['gene_name'])\n",
    "    gene_name_to_id[gene['gene_name'][0]] = gene['gene_id'][0].split('.')[0]"
   ]
  },
  {
   "cell_type": "code",
   "execution_count": 19,
   "id": "4269fc13",
   "metadata": {},
   "outputs": [],
   "source": [
    "df2['Gene_id'] = df2['filtered__Gene_name'].apply(lambda x: gene_name_to_id[x])"
   ]
  },
  {
   "cell_type": "code",
   "execution_count": 20,
   "id": "f90ec7c8",
   "metadata": {},
   "outputs": [],
   "source": [
    "rna_splice_junctions = df2[df2['Gene_id'].apply(lambda x: x is not None)][['Chrom','Start','End','Gene_id']]\n",
    "#clusters, labels = cluster_splice_junctions(df1.sort_values('ClusterID').iloc[:10,1:3].values)\n",
    "#print(labels)\n",
    "#rna_splice_junctions['ClusterID'] = rna_splice_junctions['Gene_id']+'_rna_blood'"
   ]
  },
  {
   "cell_type": "code",
   "execution_count": 62,
   "id": "fa46da52",
   "metadata": {},
   "outputs": [
    {
     "name": "stderr",
     "output_type": "stream",
     "text": [
      "100%|█████████████████████████████████████████████████████████████████████████████████████████████████████████████████████████████████████████████████████████████████████████████████████████████████████| 14972/14972 [05:04<00:00, 49.20it/s]\n"
     ]
    }
   ],
   "source": [
    "cluster_id = []\n",
    "for gene in tqdm(rna_splice_junctions.Gene_id.unique()):\n",
    "    splice_junctions = rna_splice_junctions[rna_splice_junctions['Gene_id']==gene].iloc[:,1:3].values\n",
    "    clusters, labels = cluster_splice_junctions(splice_junctions)\n",
    "    cluster_id.append([f'rna_blood_{gene}_{x}' for x in labels])\n",
    "    \n",
    "cluster_id = [item for sublist in cluster_id for item in sublist]"
   ]
  },
  {
   "cell_type": "code",
   "execution_count": 70,
   "id": "05848cf6",
   "metadata": {},
   "outputs": [],
   "source": [
    "#with open(data_dir+'cluster_ids.pkl', 'wb') as f:\n",
    "#    pickle.dump(cluster_id, f)"
   ]
  },
  {
   "cell_type": "code",
   "execution_count": 21,
   "id": "3658b7df",
   "metadata": {},
   "outputs": [],
   "source": [
    "with open(data_dir+'cluster_ids.pkl', 'rb') as f:\n",
    "    cluster_id = pickle.load(f)"
   ]
  },
  {
   "cell_type": "code",
   "execution_count": 22,
   "id": "dda5a6b2",
   "metadata": {},
   "outputs": [],
   "source": [
    "rna_splice_junctions['ClusterID'] = cluster_id"
   ]
  },
  {
   "cell_type": "code",
   "execution_count": 23,
   "id": "72c12f97",
   "metadata": {},
   "outputs": [],
   "source": [
    "def create_datapoints(seq, strand, tx_start, tx_end):\n",
    "    # This function first converts the sequence into an integer array, where\n",
    "    # A, C, G, T, Missing are mapped to 1, 2, 3, 4, 5 respectively. If the strand is\n",
    "    # negative, then reverse complementing is done. . It then calls reformat_data and one_hot_encode\n",
    "\n",
    "    seq = seq.upper()\n",
    "    seq = re.sub(r'[^AGTC]', '5',seq)\n",
    "    seq = seq.replace('A', '1').replace('C', '2')\n",
    "    seq = seq.replace('G', '3').replace('T', '4')\n",
    "\n",
    "    tx_start = int(tx_start)\n",
    "    tx_end = int(tx_end) \n",
    "\n",
    "    Y_idx = []\n",
    "    \n",
    "    X0 = np.asarray([int(x) for x in seq])\n",
    "\n",
    "    X = one_hot_encode(X0)\n",
    "\n",
    "    return X\n",
    "\n",
    "def ceil_div(x, y):\n",
    "    return int(ceil(float(x)/y))\n",
    "\n",
    "\n",
    "IN_MAP = np.asarray([[0, 0, 0, 0,0],\n",
    "                     [1, 0, 0, 0,0],\n",
    "                     [0, 1, 0, 0,0],\n",
    "                     [0, 0, 1, 0,0],\n",
    "                     [0, 0, 0, 1,0],\n",
    "                    [0, 0, 0, 0,1]])\n",
    "# One-hot encoding of the inputs: 0 is for padding, and 1, 2, 3, 4 correspond\n",
    "# to A, C, G, T, Missing respectively.\n",
    "\n",
    "OUT_MAP = np.asarray([[1, 0, 0],\n",
    "                      [0, 1, 0],\n",
    "                      [0, 0, 1],\n",
    "                      [0, 0, 0]])\n",
    "\n",
    "def one_hot_encode(Xd):\n",
    "    return IN_MAP[Xd.astype('int8')]\n",
    "\n",
    "def getJunctions(gtf,transcript,strand):\n",
    "    #transcript = gtf[transcript_id.split('.')[0]]\n",
    "    exon_junctions = []\n",
    "    tx_start = int(transcript[3])\n",
    "    tx_end = int(transcript[4])\n",
    "    exons = gtf.children(transcript, featuretype=\"exon\")\n",
    "    for exon in exons:\n",
    "        exon_start = int(exon[3])\n",
    "        exon_end = int(exon[4])\n",
    "        exon_junctions.append((exon_start,exon_end))\n",
    "\n",
    "    intron_junctions = []\n",
    "\n",
    "    if strand=='+':\n",
    "        intron_start = exon_junctions[0][1]\n",
    "        for i,exon_junction in enumerate(exon_junctions[1:]):\n",
    "            intron_end = exon_junction[0]\n",
    "            intron_junctions.append((intron_start,intron_end))\n",
    "            if i+1 != len(exon_junctions[1:]):\n",
    "                intron_start = exon_junction[1]\n",
    "\n",
    "    elif strand=='-':\n",
    "        exon_junctions.reverse()\n",
    "        intron_start = exon_junctions[0][1]\n",
    "        for i,exon_junction in enumerate(exon_junctions[1:]):\n",
    "            intron_end = exon_junction[0]\n",
    "            intron_junctions.append((intron_start,intron_end))\n",
    "            if i+1 != len(exon_junctions[1:]):\n",
    "                intron_start = exon_junction[1]\n",
    "\n",
    "    return np.array(intron_junctions)"
   ]
  },
  {
   "cell_type": "code",
   "execution_count": 24,
   "id": "ce92d774",
   "metadata": {},
   "outputs": [
    {
     "name": "stderr",
     "output_type": "stream",
     "text": [
      "252416it [5:43:30, 12.25it/s]  \n"
     ]
    }
   ],
   "source": [
    "transcripts = gtf_gencode.features_of_type('transcript')\n",
    "gene_to_label = {}\n",
    "save_seq = True\n",
    "prev_chrom = 'chr1'\n",
    "leaf_cutter_junctions = getCombinedLeafCutterDF(prev_chrom,chrmToLeafcutterFiles)\n",
    "for transcript in tqdm(transcripts): \n",
    "    chrom,gene_start,gene_end,strand,gene_id,transcript_id,gene_type,gene_name,level = transcript[0],transcript[3],transcript[4],transcript[6],transcript[8]['gene_id'][0],transcript[8]['transcript_id'][0],transcript[8]['gene_type'][0],transcript[8]['gene_name'][0],transcript[8]['level'][0]\n",
    "    \n",
    "    try:\n",
    "        cond1 = 'Ensembl_canonical' in transcript[8]['tag']\n",
    "        cond2 = gene_type=='protein_coding'\n",
    "        cond3 = int(level)<3\n",
    "        if cond1 and cond2 and cond3:\n",
    "            intron_junctions = getJunctions(gtf_gencode,transcript,strand)\n",
    "            junction_starts = defaultdict(int)\n",
    "            junction_ends = defaultdict(int)\n",
    "            \n",
    "           \n",
    "            if len(intron_junctions>0):\n",
    "                if chrom!=prev_chrom:\n",
    "                    leaf_cutter_junctions = getCombinedLeafCutterDF(chrom,chrmToLeafcutterFiles)\n",
    "                for junction in intron_junctions:\n",
    "                    junction_starts[junction[0]] = 1\n",
    "                    junction_ends[junction[1]] = 1\n",
    "                simple_gene_id = gene_id.split('.')[0]\n",
    "                alt_junctions = leaf_cutter_junctions[leaf_cutter_junctions['Gene_id']==simple_gene_id]\n",
    "                if alt_junctions.shape[0]>0:\n",
    "                    clusters = defaultdict(int)\n",
    "                    for i,pos in enumerate(alt_junctions['Start']):\n",
    "                        if junction_starts[pos] == 1:\n",
    "                            clusters[alt_junctions.iloc[i,:]['ClusterID']] = 1\n",
    "                    for i,pos in enumerate(alt_junctions['End']):\n",
    "                        if junction_ends[pos] == 1:\n",
    "                            clusters[alt_junctions.iloc[i,:]['ClusterID']] = 1\n",
    "                    for cluster in clusters.keys():\n",
    "                        cluster_junctions = alt_junctions[alt_junctions['ClusterID']==cluster][['Start','End']]\n",
    "                        for i_junc in range(cluster_junctions.shape[0]):\n",
    "                            start,end = cluster_junctions.iloc[i_junc,:]['Start'],cluster_junctions.iloc[i_junc,:]['End']\n",
    "                            junction_id = '{}_{}_{}_{}'.format(chrom,start,end,simple_gene_id)\n",
    "                            if not discardJunctionDict[junction_id]:\n",
    "                                junction_starts[start] = 1\n",
    "                                junction_ends[end] = 1\n",
    "                    \n",
    "                    junction_starts = {k:v for k,v in junction_starts.items() if v != 0}\n",
    "                    junction_ends = {k:v for k,v in junction_ends.items() if v != 0}\n",
    "                    gene_to_label[gene_id] = [junction_starts, junction_ends]\n",
    "            \n",
    "                    if save_seq:\n",
    "                        seq = fasta[chrom][int(gene_start)-1:int(gene_end)]\n",
    "                        seq = seq.seq\n",
    "                        X = create_datapoints(seq, strand, gene_start, gene_end)\n",
    "                        seqData[chrom][int(gene_start)-1:int(gene_end)] = X\n",
    "                        jn_start = list(junction_starts.keys())\n",
    "                        jn_end = list(junction_ends.keys())\n",
    "                        name = '{}\\t{}\\t{}\\t{}'.format(gene_name,gene_id,transcript_id,level)\n",
    "\n",
    "                        if strand=='+':\n",
    "                            with open('{}/annotation_GTEX_v8.txt'.format(data_dir), 'a') as the_file:\n",
    "                                the_file.write('{}\\t{}\\t{}\\t{}\\t{}\\t{}\\t{}\\n'.format(name,chrom,strand,gene_start,gene_end,','.join([str(x) for x in jn_start]),','.join([str(x) for x in jn_end])))\n",
    "                        if strand=='-':\n",
    "                            with open('{}/annotation_GTEX_v8.txt'.format(data_dir,), 'a') as the_file:\n",
    "                                the_file.write('{}\\t{}\\t{}\\t{}\\t{}\\t{}\\t{}\\n'.format(name,chrom,strand,gene_start,gene_end,','.join([str(x) for x in jn_end]),','.join([str(x) for x in jn_start])))\n",
    "\n",
    "                        if chrom!=prev_chrom:\n",
    "                            save_npz('{}/sparse_sequence_data/{}.npz'.format(data_dir,prev_chrom), seqData[prev_chrom].tocoo())\n",
    "                            del seqData[prev_chrom]\n",
    "\n",
    "                        prev_chrom = chrom\n",
    "                \n",
    "    except:\n",
    "        pass\n",
    "        #print(gene[2])\n",
    "        #print(gene[8]['transcript_support_level'])"
   ]
  },
  {
   "cell_type": "code",
   "execution_count": 25,
   "id": "0e46ea13",
   "metadata": {},
   "outputs": [],
   "source": [
    "save_npz('{}/sparse_sequence_data/{}.npz'.format(data_dir,prev_chrom), seqData[prev_chrom].tocoo())\n",
    "#del seqData[prev_chrom]"
   ]
  },
  {
   "cell_type": "code",
   "execution_count": 26,
   "id": "ae7201e0",
   "metadata": {},
   "outputs": [],
   "source": [
    "with open('{}/gene_to_label.pickle'.format(data_dir), 'wb') as handle:\n",
    "    pickle.dump(gene_to_label, handle, protocol=pickle.HIGHEST_PROTOCOL)"
   ]
  },
  {
   "cell_type": "code",
   "execution_count": null,
   "id": "7fd11559",
   "metadata": {},
   "outputs": [],
   "source": [
    "SAMD11\tENSG00000187634.13\tENST00000616016.5\t2\tchr1\t+\t923923\t944574\t924948,926013,930336,931089,935896,939129,939412,941306,942251,942488,943058,943377,943808,925189,925477,925524,925765,925800,928751,936934,938950,939460,940462,941048,941861,943453\t925922,930155,931039,935772,939040,939275,941144,942136,942410,942559,943253,943698,943908,925898,931946,936154,936850,936853,939236,939272,939505,942173,942436,943893,943916\n",
    "NOC2L\tENSG00000188976.11\tENST00000327044.7\t2\tchr1\t-\t944203\t959256\t945057,945518,946173,946402,948131,948490,951127,952000,952412,953175,953782,954004,955923,956095,956894,957099,958929,959215,944693,945042,945323,946147,946757,954464,955638,958721,959179\t944800,945146,945653,946286,946545,948232,948603,951238,952139,952600,953288,953892,954082,956013,956215,957025,957273,959081,944550,944819,945422,946497,946610,946839,946864,948577,948591,948594,952127,952535,954523,954814,955477,955982,959136\n",
    "KLHL17\tENSG00000187961.15\tENST00000338591.8\t2\tchr1\t+\t960584\t965719\t960800,961552,961750,962047,962471,962917,963253,963504,964008,964180,964530,960921,961729,961980,962244,962615,962618,962775,962913,963209,964167,964563\t961293,961629,961826,962355,962704,963109,963337,963920,964107,964349,964963,961981,962286,962139,962314,962616,963032,963857,964437,964935\n",
    "PLEKHN1\tENSG00000187583.11\tENST00000379410.8\t2\tchr1\t+\t966482\t975865\t966614,966803,970423,970601,970758,971006,971208,971404,972150,972424,973010,973326,973640,974051,974364,967010,970396,970760,971219,971593,971607,971899\t966704,970277,970521,970686,970879,971113,971324,972075,972288,972861,973186,973500,973833,974316,974442,970182,966914,967218,971077,971330,971327,972264,972895,974295,974414\n",
    "PERM1\tENSG00000187642.10\tENST00000433179.4\t2\tchr1\t-\t975198\t982093\t976499,978881,982065,976642,979056,978464,978289,981288,981970\t976269,976624,981173,976558,978615,981047,981224\n",
    "HES4\tENSG00000188290.11\tENST00000304952.11\t2\tchr1\t-\t998964\t1000097\t999526,999692,999866,999533\t999432,999613,999787\n",
    "ISG15\tENSG00000187608.10\tENST00000649529.1\t2\tchr1\t+\t1013497\t1014540\t1013576,981877,982487,982666,983450,995680,999457,1001263,1008279,1013769\t1013984,989590,995531,982598,982594,982883,985755,1008194,1008470,1008571\n",
    "AGRN\tENSG00000188157.15\tENST00000379370.7\t2\tchr1\t+\t1020120\t1056116\t1020373,1022462,1035324,1040880,1041397,1041702,1042162,1043457,1043732,1044023,1044257,1044439,1045277,1045523,1045876,1046088,1046265,1046735,1046957,1047454,1047687,1047895,1048365,1049059,1049451,1049795,1050037,1050329,1050591,1050837,1051369,1051645,1051815,1053977,1054551,1017465,1024832,1031899,1034703,1034966,1039063,1042597,1042748,1042846,1043435,1047036,1047162,1049995,1051043,1051094,1052016,1052573,1053493,1055215\t1022201,1035277,1040665,1041173,1041478,1041956,1043239,1043538,1043823,1044109,1044334,1045161,1045359,1045733,1045964,1046160,1046397,1046820,1047327,1047573,1047776,1048012,1048867,1049236,1049566,1049903,1050233,1050427,1050726,1051253,1051453,1051728,1053753,1054448,1054824,1031785,1022633,1032232,1041161,1041207,1041961,1043244,1042691,1043331,1043871,1047063,1047503,1047782,1047823,1050732,1051032,1051027,1051526,1051746,1051742,1051993,1053461,1053725,1052731,1052823,1054051,1055066,1055377\n",
    "RNF223\tENSG00000237330.3\tENST00000453464.3\t2\tchr1\t-\t1070967\t1074306\t1074016,1069307,1068561,1067798,1066566,1066474,1066746,1066791\t1072575,1065833,1066598,1066666,1066798,1067579,1067979,1068016,1068040,1072397,1072589\n",
    "C1orf159\tENSG00000131591.18\tENST00000421241.7\t2\tchr1\t-\t1081823\t1116089\t1084353,1084481,1085878,1087139,1087502,1090353,1091472,1091991,1116060,1083294,1083915,1083442,1084383,1084492,1085251,1087498,1088864,1090876,1091278,1105956,1111674,1115022,1092566,1106650,1095077,1093598,1112009,1104686,1113353,1099718,1099793,1106659,1112907\t1082987,1084383,1084506,1086012,1087204,1087597,1090428,1091565,1092103,1082982,1083418,1083441,1083625,1084011,1084016,1084032,1084071,1084086,1085310,1085963,1086336,1090022,1090587,1090983,1091374,1091609,1092293,1095124,1096611,1099638,1106049,1111821,1112193,1115075\n"
   ]
  },
  {
   "cell_type": "code",
   "execution_count": null,
   "id": "77f9a4bb",
   "metadata": {},
   "outputs": [],
   "source": [
    "SAMD11\tENSG00000187634.13\tENST00000616016.5\t2\tchr1\t+\t923923\t944574\t924948,926013,930336,931089,935896,939129,939412,941306,942251,942488,943058,943377,943808,925189,925477,925524,925765,925800,928751,936934,938950,939460,940462,941048,941861,943453\t925922,930155,931039,935772,939040,939275,941144,942136,942410,942559,943253,943698,943908,925898,931946,936154,936853,936850,939272,939236,939505,942173,942436,943893,943916\n",
    "NOC2L\tENSG00000188976.11\tENST00000327044.7\t2\tchr1\t-\t944203\t959256\t945057,945518,946173,946402,948131,948490,951127,952000,952412,953175,953782,954004,955923,956095,956894,957099,958929,959215,944693,945042,945323,946147,946757,954464,955638,958721,959179\t944800,945146,945653,946286,946545,948232,948603,951238,952139,952600,953288,953892,954082,956013,956215,957025,957273,959081,944550,944819,945422,946497,946610,946839,946864,948577,948591,948594,952127,952535,954523,954814,955477,955982,959136\n",
    "KLHL17\tENSG00000187961.15\tENST00000338591.8\t2\tchr1\t+\t960584\t965719\t960800,961552,961750,962047,962471,962917,963253,963504,964008,964180,964530,960921,961729,961980,962244,962615,962618,962775,962913,963209,964167,964563\t961293,961629,961826,962355,962704,963109,963337,963920,964107,964349,964963,961981,962286,962139,962314,962616,963032,963857,964437,964935\n",
    "PLEKHN1\tENSG00000187583.11\tENST00000379410.8\t2\tchr1\t+\t966482\t975865\t966614,966803,970423,970601,970758,971006,971208,971404,972150,972424,973010,973326,973640,974051,974364,967010,970396,970760,971219,971593,971607,971899\t966704,970277,970521,970686,970879,971113,971324,972075,972288,972861,973186,973500,973833,974316,974442,967218,966914,970182,971077,971327,971330,972264,972895,974295,974414\n",
    "PERM1\tENSG00000187642.10\tENST00000433179.4\t2\tchr1\t-\t975198\t982093\t976499,978881,982065,976642,979056,978289,978464,981288,981970\t976269,976624,981173,976558,978615,981047,981224\n",
    "HES4\tENSG00000188290.11\tENST00000304952.11\t2\tchr1\t-\t998964\t1000097\t999526,999692,999866,999137,999533\t999432,999613,999787,999085\n",
    "ISG15\tENSG00000187608.10\tENST00000649529.1\t2\tchr1\t+\t1013497\t1014540\t1013576,981877,982487,982666,983450,995680,999457,1001263,1008279,1013769\t1013984,989590,982594,982598,995531,985755,1008194,982883,1008571,1008470\n",
    "AGRN\tENSG00000188157.15\tENST00000379370.7\t2\tchr1\t+\t1020120\t1056116\t1020373,1022462,1035324,1040880,1041397,1041702,1042162,1043457,1043732,1044023,1044257,1044439,1045277,1045523,1045876,1046088,1046265,1046735,1046957,1047454,1047687,1047895,1048365,1049059,1049451,1049795,1050037,1050329,1050591,1050837,1051369,1051645,1051815,1053977,1054551,1017465,1024832,1031899,1034703,1034966,1039063,1042597,1042748,1042846,1043435,1047036,1047162,1049995,1051043,1051094,1052016,1052573,1053192,1053493,1055215\t1022201,1035277,1040665,1041173,1041478,1041956,1043239,1043538,1043823,1044109,1044334,1045161,1045359,1045733,1045964,1046160,1046397,1046820,1047327,1047573,1047776,1048012,1048867,1049236,1049566,1049903,1050233,1050427,1050726,1051253,1051453,1051728,1053753,1054448,1054824,1031785,1022633,1032232,1041207,1041161,1041961,1042691,1043244,1043331,1043871,1047503,1047063,1047782,1047823,1050732,1051032,1051027,1051526,1051746,1051742,1051993,1053725,1053461,1052731,1052823,1053244,1054051,1055377,1055066\n",
    "RNF223\tENSG00000237330.3\tENST00000453464.3\t2\tchr1\t-\t1070967\t1074306\t1074016\t1072575,1072397,1072589\n",
    "C1orf159\tENSG00000131591.18\tENST00000421241.7\t2\tchr1\t-\t1081823\t1116089\t1084353,1084481,1085878,1087139,1087502,1090353,1091472,1091991,1116060,1082604,1083915,1083294,1083442,1084492,1084383,1085251,1087498,1088864,1090876,1091278,1111674,1115022,1105956,1092566,1095077,1106650,1112009,1113353,1093598,1104686,1099334,1099177,1099639,1099560,1099718,1099793,1099870,1099868,1106659,1109139,1112907\t1082987,1084383,1084506,1086012,1087204,1087597,1090428,1091565,1092103,1082253,1082982,1083418,1083441,1083625,1084011,1084016,1084032,1084071,1084086,1085310,1085963,1086336,1090022,1090587,1090983,1091374,1091609,1092293,1095124,1096611,1099103,1099407,1099484,1099561,1099638,1099717,1099792,1106049,1109107,1111821,1112193,1115075"
   ]
  }
 ],
 "metadata": {
  "kernelspec": {
   "display_name": "Python 3 (ipykernel)",
   "language": "python",
   "name": "python3"
  },
  "language_info": {
   "codemirror_mode": {
    "name": "ipython",
    "version": 3
   },
   "file_extension": ".py",
   "mimetype": "text/x-python",
   "name": "python",
   "nbconvert_exporter": "python",
   "pygments_lexer": "ipython3",
   "version": "3.9.1"
  }
 },
 "nbformat": 4,
 "nbformat_minor": 5
}
