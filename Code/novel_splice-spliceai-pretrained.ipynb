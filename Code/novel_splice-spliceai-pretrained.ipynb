{
 "cells": [
  {
   "cell_type": "code",
   "execution_count": 1,
   "id": "07b9f554",
   "metadata": {},
   "outputs": [],
   "source": [
    "import numpy as np\n",
    "import sys\n",
    "import time\n",
    "import h5py\n",
    "from tqdm import tqdm\n",
    "\n",
    "import numpy as np\n",
    "import re\n",
    "from math import ceil\n",
    "from sklearn.metrics import average_precision_score\n",
    "from torch.utils.data import Dataset\n",
    "import torch\n",
    "import torch.nn as nn\n",
    "import pandas as pd\n",
    "import matplotlib.pyplot as plt\n",
    "import pickle\n",
    "#import pickle5 as pickle\n",
    "\n",
    "from sklearn.model_selection import train_test_split\n",
    "\n",
    "from scipy.sparse import load_npz\n",
    "from glob import glob\n",
    "\n",
    "#from transformers import get_constant_schedule_with_warmup\n",
    "from sklearn.metrics import precision_score,recall_score,accuracy_score\n",
    "\n",
    "#from src.train import trainModel\n",
    "from src.dataloader import getData,spliceDataset,h5pyDataset,getDataPointList,getDataPointListFull,DataPoint\n",
    "#from src.weight_init import keras_init\n",
    "#rom src.losses import categorical_crossentropy_2d\n",
    "#rom src.models import SpliceAI_10K\n",
    "#from src.evaluation_metrics import print_topl_statistics\n",
    "import copy\n",
    "#import tensorflow as tf"
   ]
  },
  {
   "cell_type": "code",
   "execution_count": 2,
   "id": "8418eb37",
   "metadata": {},
   "outputs": [],
   "source": [
    "rng = np.random.default_rng(23673)"
   ]
  },
  {
   "cell_type": "code",
   "execution_count": 3,
   "id": "4a9c5ee4",
   "metadata": {},
   "outputs": [],
   "source": [
    "data_dir = '../Data'"
   ]
  },
  {
   "cell_type": "code",
   "execution_count": 4,
   "id": "7fd5f0b4",
   "metadata": {},
   "outputs": [],
   "source": [
    "setType = 'test'\n",
    "annotation, transcriptToLabel, seqData = getData(data_dir, setType)"
   ]
  },
  {
   "cell_type": "code",
   "execution_count": 5,
   "id": "af152455",
   "metadata": {},
   "outputs": [],
   "source": [
    "L = 32\n",
    "N_GPUS = 8\n",
    "k = 2\n",
    "# Hyper-parameters:\n",
    "# L: Number of convolution kernels\n",
    "# W: Convolution window size in each residual unit\n",
    "# AR: Atrous rate in each residual unit\n",
    "\n",
    "W = np.asarray([11, 11, 11, 11, 11, 11, 11, 11,\n",
    "                21, 21, 21, 21, 41, 41, 41, 41])\n",
    "AR = np.asarray([1, 1, 1, 1, 4, 4, 4, 4,\n",
    "                 10, 10, 10, 10, 25, 25, 25, 25])\n",
    "BATCH_SIZE = k*6*N_GPUS\n",
    "\n",
    "\n",
    "CL = 2 * np.sum(AR*(W-1))\n",
    "\n",
    "SL=5000\n",
    "CL_max=10000"
   ]
  },
  {
   "cell_type": "code",
   "execution_count": 6,
   "id": "cf359065",
   "metadata": {},
   "outputs": [],
   "source": [
    "df1 = pd.read_csv('/odinn/users/gislih/RNA/requests/rna_paper/splice_anno/junction_db.tsv.gz', compression='gzip', sep='\\t')\n",
    "chroms = ['chr1', 'chr3', 'chr5', 'chr7', 'chr9']\n",
    "df1 = df1[df1.Chrom.isin(chroms)]"
   ]
  },
  {
   "cell_type": "code",
   "execution_count": 7,
   "id": "b3f898a5",
   "metadata": {},
   "outputs": [
    {
     "name": "stdout",
     "output_type": "stream",
     "text": [
      "WARNING:tensorflow:Deprecation warnings have been disabled. Set TF_ENABLE_DEPRECATION_WARNINGS=1 to re-enable them.\n"
     ]
    },
    {
     "name": "stderr",
     "output_type": "stream",
     "text": [
      "2022-11-14 16:53:18.141412: I tensorflow/stream_executor/platform/default/dso_loader.cc:49] Successfully opened dynamic library libcudart.so.11.0\n"
     ]
    }
   ],
   "source": [
    "from tensorflow.keras.models import Model\n",
    "from tensorflow.keras.layers import Input\n",
    "from tensorflow.keras.layers import Activation\n",
    "from tensorflow.keras.layers import Conv1D, Cropping1D\n",
    "from tensorflow.keras.layers import BatchNormalization\n",
    "from tensorflow.keras.layers import add\n",
    "import tensorflow.keras.backend as kb\n",
    "from tensorflow.keras.layers import concatenate\n",
    "from tensorflow.keras.layers import Lambda\n",
    "\n",
    "def ResidualUnit(l, w, ar):\n",
    "    # Residual unit proposed in \"Identity mappings in Deep Residual Networks\"\n",
    "    # by He et al.\n",
    "\n",
    "    def f(input_node):\n",
    "\n",
    "        bn1 = BatchNormalization()(input_node)\n",
    "        act1 = Activation('relu')(bn1)\n",
    "        conv1 = Conv1D(l, [w], dilation_rate=[ar], padding='same')(act1)\n",
    "        bn2 = BatchNormalization()(conv1)\n",
    "        act2 = Activation('relu')(bn2)\n",
    "        conv2 = Conv1D(l, [w], dilation_rate=[ar], padding='same')(act2)\n",
    "        output_node = add([conv2, input_node])\n",
    "\n",
    "        return output_node\n",
    "\n",
    "    return f\n",
    "\n",
    "\n",
    "def SpliceAI(L, W, AR):\n",
    "    # L: Number of convolution kernels\n",
    "    # W: Convolution window size in each residual unit\n",
    "    # AR: Atrous rate in each residual unit\n",
    "\n",
    "    assert len(W) == len(AR)\n",
    "\n",
    "    CL = 2 * np.sum(AR*(W-1))\n",
    "\n",
    "    input0 = Input(shape=(None, 4))\n",
    "    conv = Conv1D(L, 1)(input0)\n",
    "    skip = Conv1D(L, 1)(conv)\n",
    "\n",
    "    for i in range(len(W)):\n",
    "        conv = ResidualUnit(L, W[i], AR[i])(conv)\n",
    "        \n",
    "        if (((i+1) % 4 == 0) or ((i+1) == len(W))):\n",
    "            # Skip connections to the output after every 4 residual units\n",
    "            dense = Conv1D(L, 1)(conv)\n",
    "            skip = add([skip, dense])\n",
    "\n",
    "    skip = Cropping1D(int(CL/2))(skip)\n",
    "\n",
    "    output0 = [[] for t in range(1)]\n",
    "\n",
    "    for t in range(1):\n",
    "        output0[t] = Conv1D(3, 1, activation='softmax')(skip)\n",
    "    \n",
    "    model = Model(inputs=input0, outputs=output0)\n",
    "\n",
    "    return model\n",
    "\n",
    "\n",
    "def categorical_crossentropy_2d(y_true, y_pred):\n",
    "    # Standard categorical cross entropy for sequence outputs\n",
    "    weights = [3.33445928e-01, 1.97431150e+03, 1.97432843e+03]\n",
    "    return - kb.mean(weights[0]*y_true[:, :, 0]*kb.log(y_pred[:, :, 0]+1e-10)\n",
    "                   + weights[1]*y_true[:, :, 1]*kb.log(y_pred[:, :, 1]+1e-10)\n",
    "                   + weights[2]*y_true[:, :, 2]*kb.log(y_pred[:, :, 2]+1e-10))\n"
   ]
  },
  {
   "cell_type": "code",
   "execution_count": 8,
   "id": "5da4a3a4",
   "metadata": {},
   "outputs": [
    {
     "name": "stderr",
     "output_type": "stream",
     "text": [
      "2022-11-14 16:53:20.712637: I tensorflow/stream_executor/platform/default/dso_loader.cc:49] Successfully opened dynamic library libcuda.so.1\n",
      "2022-11-14 16:53:22.799580: I tensorflow/core/common_runtime/gpu/gpu_device.cc:1666] Found device 0 with properties: \n",
      "name: NVIDIA A100-PCIE-40GB major: 8 minor: 0 memoryClockRate(GHz): 1.41\n",
      "pciBusID: 0000:31:00.0\n",
      "2022-11-14 16:53:22.799774: I tensorflow/core/common_runtime/gpu/gpu_device.cc:1666] Found device 1 with properties: \n",
      "name: NVIDIA A100-PCIE-40GB major: 8 minor: 0 memoryClockRate(GHz): 1.41\n",
      "pciBusID: 0000:98:00.0\n",
      "2022-11-14 16:53:22.799919: I tensorflow/core/common_runtime/gpu/gpu_device.cc:1666] Found device 2 with properties: \n",
      "name: NVIDIA A100-PCIE-40GB major: 8 minor: 0 memoryClockRate(GHz): 1.41\n",
      "pciBusID: 0000:ca:00.0\n",
      "2022-11-14 16:53:22.799954: I tensorflow/stream_executor/platform/default/dso_loader.cc:49] Successfully opened dynamic library libcudart.so.11.0\n",
      "2022-11-14 16:53:22.804257: I tensorflow/stream_executor/platform/default/dso_loader.cc:49] Successfully opened dynamic library libcublas.so.11\n",
      "2022-11-14 16:53:22.806547: I tensorflow/stream_executor/platform/default/dso_loader.cc:49] Successfully opened dynamic library libcufft.so.10\n",
      "2022-11-14 16:53:22.806841: I tensorflow/stream_executor/platform/default/dso_loader.cc:49] Successfully opened dynamic library libcurand.so.10\n",
      "2022-11-14 16:53:22.807300: I tensorflow/stream_executor/platform/default/dso_loader.cc:49] Successfully opened dynamic library libcusolver.so.11\n",
      "2022-11-14 16:53:22.808147: I tensorflow/stream_executor/platform/default/dso_loader.cc:49] Successfully opened dynamic library libcusparse.so.11\n",
      "2022-11-14 16:53:22.808306: I tensorflow/stream_executor/platform/default/dso_loader.cc:49] Successfully opened dynamic library libcudnn.so.8\n",
      "2022-11-14 16:53:22.809132: I tensorflow/core/common_runtime/gpu/gpu_device.cc:1794] Adding visible gpu devices: 0, 1, 2\n",
      "2022-11-14 16:53:22.817681: I tensorflow/core/platform/profile_utils/cpu_utils.cc:94] CPU Frequency: 2600000000 Hz\n",
      "2022-11-14 16:53:22.820434: I tensorflow/compiler/xla/service/service.cc:168] XLA service 0xcb97e90 initialized for platform Host (this does not guarantee that XLA will be used). Devices:\n",
      "2022-11-14 16:53:22.820455: I tensorflow/compiler/xla/service/service.cc:176]   StreamExecutor device (0): Host, Default Version\n",
      "2022-11-14 16:53:23.005710: I tensorflow/compiler/xla/service/service.cc:168] XLA service 0xc3872f0 initialized for platform CUDA (this does not guarantee that XLA will be used). Devices:\n",
      "2022-11-14 16:53:23.005741: I tensorflow/compiler/xla/service/service.cc:176]   StreamExecutor device (0): NVIDIA A100-PCIE-40GB, Compute Capability 8.0\n",
      "2022-11-14 16:53:23.005746: I tensorflow/compiler/xla/service/service.cc:176]   StreamExecutor device (1): NVIDIA A100-PCIE-40GB, Compute Capability 8.0\n",
      "2022-11-14 16:53:23.005750: I tensorflow/compiler/xla/service/service.cc:176]   StreamExecutor device (2): NVIDIA A100-PCIE-40GB, Compute Capability 8.0\n",
      "2022-11-14 16:53:23.008849: I tensorflow/core/common_runtime/gpu/gpu_device.cc:1666] Found device 0 with properties: \n",
      "name: NVIDIA A100-PCIE-40GB major: 8 minor: 0 memoryClockRate(GHz): 1.41\n",
      "pciBusID: 0000:31:00.0\n",
      "2022-11-14 16:53:23.009002: I tensorflow/core/common_runtime/gpu/gpu_device.cc:1666] Found device 1 with properties: \n",
      "name: NVIDIA A100-PCIE-40GB major: 8 minor: 0 memoryClockRate(GHz): 1.41\n",
      "pciBusID: 0000:98:00.0\n",
      "2022-11-14 16:53:23.009140: I tensorflow/core/common_runtime/gpu/gpu_device.cc:1666] Found device 2 with properties: \n",
      "name: NVIDIA A100-PCIE-40GB major: 8 minor: 0 memoryClockRate(GHz): 1.41\n",
      "pciBusID: 0000:ca:00.0\n",
      "2022-11-14 16:53:23.009192: I tensorflow/stream_executor/platform/default/dso_loader.cc:49] Successfully opened dynamic library libcudart.so.11.0\n",
      "2022-11-14 16:53:23.009205: I tensorflow/stream_executor/platform/default/dso_loader.cc:49] Successfully opened dynamic library libcublas.so.11\n",
      "2022-11-14 16:53:23.009215: I tensorflow/stream_executor/platform/default/dso_loader.cc:49] Successfully opened dynamic library libcufft.so.10\n",
      "2022-11-14 16:53:23.009224: I tensorflow/stream_executor/platform/default/dso_loader.cc:49] Successfully opened dynamic library libcurand.so.10\n",
      "2022-11-14 16:53:23.009234: I tensorflow/stream_executor/platform/default/dso_loader.cc:49] Successfully opened dynamic library libcusolver.so.11\n",
      "2022-11-14 16:53:23.009243: I tensorflow/stream_executor/platform/default/dso_loader.cc:49] Successfully opened dynamic library libcusparse.so.11\n",
      "2022-11-14 16:53:23.009252: I tensorflow/stream_executor/platform/default/dso_loader.cc:49] Successfully opened dynamic library libcudnn.so.8\n",
      "2022-11-14 16:53:23.009971: I tensorflow/core/common_runtime/gpu/gpu_device.cc:1794] Adding visible gpu devices: 0, 1, 2\n",
      "2022-11-14 16:53:23.010003: I tensorflow/stream_executor/platform/default/dso_loader.cc:49] Successfully opened dynamic library libcudart.so.11.0\n",
      "2022-11-14 16:53:23.755048: I tensorflow/core/common_runtime/gpu/gpu_device.cc:1206] Device interconnect StreamExecutor with strength 1 edge matrix:\n",
      "2022-11-14 16:53:23.755105: I tensorflow/core/common_runtime/gpu/gpu_device.cc:1212]      0 1 2 \n",
      "2022-11-14 16:53:23.755113: I tensorflow/core/common_runtime/gpu/gpu_device.cc:1225] 0:   N Y Y \n",
      "2022-11-14 16:53:23.755117: I tensorflow/core/common_runtime/gpu/gpu_device.cc:1225] 1:   Y N Y \n",
      "2022-11-14 16:53:23.755120: I tensorflow/core/common_runtime/gpu/gpu_device.cc:1225] 2:   Y Y N \n",
      "2022-11-14 16:53:23.755935: I tensorflow/core/common_runtime/gpu/gpu_device.cc:1351] Created TensorFlow device (/job:localhost/replica:0/task:0/device:GPU:0 with 38195 MB memory) -> physical GPU (device: 0, name: NVIDIA A100-PCIE-40GB, pci bus id: 0000:31:00.0, compute capability: 8.0)\n",
      "2022-11-14 16:53:23.756432: I tensorflow/core/common_runtime/gpu/gpu_device.cc:1351] Created TensorFlow device (/job:localhost/replica:0/task:0/device:GPU:1 with 38195 MB memory) -> physical GPU (device: 1, name: NVIDIA A100-PCIE-40GB, pci bus id: 0000:98:00.0, compute capability: 8.0)\n",
      "2022-11-14 16:53:23.756874: I tensorflow/core/common_runtime/gpu/gpu_device.cc:1351] Created TensorFlow device (/job:localhost/replica:0/task:0/device:GPU:2 with 38195 MB memory) -> physical GPU (device: 2, name: NVIDIA A100-PCIE-40GB, pci bus id: 0000:ca:00.0, compute capability: 8.0)\n"
     ]
    },
    {
     "name": "stdout",
     "output_type": "stream",
     "text": [
      "WARNING:tensorflow:No training configuration found in save file: the model was *not* compiled. Compile it manually.\n",
      "WARNING:tensorflow:No training configuration found in save file: the model was *not* compiled. Compile it manually.\n",
      "WARNING:tensorflow:No training configuration found in save file: the model was *not* compiled. Compile it manually.\n",
      "WARNING:tensorflow:No training configuration found in save file: the model was *not* compiled. Compile it manually.\n",
      "WARNING:tensorflow:No training configuration found in save file: the model was *not* compiled. Compile it manually.\n"
     ]
    }
   ],
   "source": [
    "from pkg_resources import resource_filename\n",
    "from tensorflow.keras.models import load_model \n",
    "\n",
    "models = []\n",
    "n_models = 5\n",
    "\n",
    "paths = ('models/spliceai{}.h5'.format(x) for x in range(1, 6))\n",
    "models = [load_model(resource_filename('spliceai', x)) for x in paths]\n",
    "\n",
    "device = torch.device(\"cpu\")"
   ]
  },
  {
   "cell_type": "code",
   "execution_count": 9,
   "id": "e21d19ff",
   "metadata": {},
   "outputs": [],
   "source": [
    "import pyfastx\n",
    "import os.path\n",
    "data_dir = '../Data/'\n",
    "fasta_file_path = '../Data/genome.fa'\n",
    "gtf_file_path = '../Data/Homo_sapiens.GRCh38.87.gtf'\n",
    "fasta = pyfastx.Fasta(fasta_file_path)"
   ]
  },
  {
   "cell_type": "code",
   "execution_count": 10,
   "id": "7cb7b07e",
   "metadata": {},
   "outputs": [],
   "source": [
    "import gffutils\n",
    "fname = data_dir+gtf_file_path.split('/')[-1][:-4]+'.db'\n",
    "if not os.path.isfile(fname): \n",
    "    gffutils.create_db(gtf_file_path, fname, force=True, disable_infer_genes=True, disable_infer_transcripts=True)\n",
    "\n",
    "gtf = gffutils.FeatureDB(fname)"
   ]
  },
  {
   "cell_type": "code",
   "execution_count": 11,
   "id": "38f31e3c",
   "metadata": {},
   "outputs": [],
   "source": [
    "lead_sQTL = pd.read_csv('/odinn/data/dataprocessing/rnasplice-blood/curry/sQTL_summary/lead_sQTL.gor', sep='\\t')\n",
    "lead_sQTL = lead_sQTL[lead_sQTL['Pos_bin']!='distant_downstream']\n",
    "lead_sQTL = lead_sQTL[lead_sQTL['Pos_bin']!='distant_upstream']\n",
    "lead_sQTL = lead_sQTL[lead_sQTL['REF']!=lead_sQTL['ALT']]\n",
    "#lead_sQTL = lead_sQTL[lead_sQTL['Pval']<=0.05/lead_sQTL.shape[0]]\n",
    "df1['splice_event_id'] = ['{}:{}:{}'.format(df1.iloc[i,0],df1.iloc[i,1],df1.iloc[i,2]) for i in range(df1.shape[0])]\n",
    "def f(x):\n",
    "    x = x.split(':')\n",
    "    return '{}:{}:{}'.format(x[0],x[1],x[2])\n",
    "\n",
    "lead_sQTL['splice_event_id'] = lead_sQTL['splice_event_id'].apply(f)\n",
    "df = df1.merge(lead_sQTL,on='splice_event_id',how='left')"
   ]
  },
  {
   "cell_type": "code",
   "execution_count": 12,
   "id": "f9e4bf4e",
   "metadata": {},
   "outputs": [],
   "source": [
    "#df1 = df1[df1['protein_coding']==True]"
   ]
  },
  {
   "cell_type": "code",
   "execution_count": 13,
   "id": "5a784d3c",
   "metadata": {},
   "outputs": [
    {
     "name": "stderr",
     "output_type": "stream",
     "text": [
      "  0%|                                                                                                                                                                                                                                      | 0/103197 [00:00<?, ?it/s]2022-11-14 16:53:44.523952: I tensorflow/stream_executor/platform/default/dso_loader.cc:49] Successfully opened dynamic library libcudnn.so.8\n",
      "2022-11-14 16:53:46.774560: I tensorflow/stream_executor/platform/default/dso_loader.cc:49] Successfully opened dynamic library libcublas.so.11\n",
      "  2%|████▌                                                                                                                                                                                                                    | 2169/103197 [05:52<4:28:02,  6.28it/s]"
     ]
    },
    {
     "name": "stdout",
     "output_type": "stream",
     "text": [
      "ENSG00000236266 failed\n"
     ]
    },
    {
     "name": "stderr",
     "output_type": "stream",
     "text": [
      "  3%|█████▌                                                                                                                                                                                                                  | 2644/103197 [09:24<15:54:54,  1.76it/s]"
     ]
    },
    {
     "name": "stdout",
     "output_type": "stream",
     "text": [
      "ENSG00000283611 failed\n"
     ]
    },
    {
     "name": "stderr",
     "output_type": "stream",
     "text": [
      "  3%|█████▉                                                                                                                                                                                                                  | 2845/103197 [11:29<25:50:27,  1.08it/s]"
     ]
    },
    {
     "name": "stdout",
     "output_type": "stream",
     "text": [
      "ENSG00000175279 failed\n"
     ]
    },
    {
     "name": "stderr",
     "output_type": "stream",
     "text": [
      "\r",
      "  3%|█████▉                                                                                                                                                                                                                  | 2846/103197 [11:30<30:47:49,  1.10s/it]"
     ]
    },
    {
     "name": "stdout",
     "output_type": "stream",
     "text": [
      "ENSG00000175279 failed\n"
     ]
    },
    {
     "name": "stderr",
     "output_type": "stream",
     "text": [
      "\r",
      "  3%|█████▉                                                                                                                                                                                                                  | 2847/103197 [11:32<38:56:56,  1.40s/it]"
     ]
    },
    {
     "name": "stdout",
     "output_type": "stream",
     "text": [
      "ENSG00000175279 failed\n"
     ]
    },
    {
     "name": "stderr",
     "output_type": "stream",
     "text": [
      "  3%|█████▉                                                                                                                                                                                                                  | 2855/103197 [11:41<30:42:02,  1.10s/it]"
     ]
    },
    {
     "name": "stdout",
     "output_type": "stream",
     "text": [
      "ENSG00000175279 failed\n"
     ]
    },
    {
     "name": "stderr",
     "output_type": "stream",
     "text": [
      "  3%|██████▏                                                                                                                                                                                                                 | 2970/103197 [13:13<29:36:46,  1.06s/it]"
     ]
    },
    {
     "name": "stdout",
     "output_type": "stream",
     "text": [
      "ENSG00000120948 failed\n"
     ]
    },
    {
     "name": "stderr",
     "output_type": "stream",
     "text": [
      "  4%|████████▉                                                                                                                                                                                                                | 4229/103197 [23:00<7:25:58,  3.70it/s]"
     ]
    },
    {
     "name": "stdout",
     "output_type": "stream",
     "text": [
      "ENSG00000280114 failed\n"
     ]
    },
    {
     "name": "stderr",
     "output_type": "stream",
     "text": [
      "  4%|████████▉                                                                                                                                                                                                               | 4243/103197 [23:06<16:35:24,  1.66it/s]"
     ]
    },
    {
     "name": "stdout",
     "output_type": "stream",
     "text": [
      "ENSG00000227684 failed\n"
     ]
    },
    {
     "name": "stderr",
     "output_type": "stream",
     "text": [
      "\r",
      "  4%|████████▉                                                                                                                                                                                                               | 4244/103197 [23:07<25:37:51,  1.07it/s]"
     ]
    },
    {
     "name": "stdout",
     "output_type": "stream",
     "text": [
      "ENSG00000227684 failed\n"
     ]
    },
    {
     "name": "stderr",
     "output_type": "stream",
     "text": [
      "\r",
      "  4%|████████▉                                                                                                                                                                                                               | 4245/103197 [23:09<33:32:38,  1.22s/it]"
     ]
    },
    {
     "name": "stdout",
     "output_type": "stream",
     "text": [
      "ENSG00000227684 failed\n"
     ]
    },
    {
     "name": "stderr",
     "output_type": "stream",
     "text": [
      "  5%|██████████▍                                                                                                                                                                                                             | 4968/103197 [25:44<25:00:29,  1.09it/s]"
     ]
    },
    {
     "name": "stdout",
     "output_type": "stream",
     "text": [
      "ENSG00000173436 failed\n"
     ]
    },
    {
     "name": "stderr",
     "output_type": "stream",
     "text": [
      "  6%|████████████                                                                                                                                                                                                             | 5721/103197 [28:30<5:05:18,  5.32it/s]"
     ]
    },
    {
     "name": "stdout",
     "output_type": "stream",
     "text": [
      "ENSG00000237200 failed\n"
     ]
    },
    {
     "name": "stderr",
     "output_type": "stream",
     "text": [
      "  7%|████████████████▏                                                                                                                                                                                                        | 7695/103197 [34:44<5:17:39,  5.01it/s]"
     ]
    },
    {
     "name": "stdout",
     "output_type": "stream",
     "text": [
      "ENSG00000242125 failed\n"
     ]
    },
    {
     "name": "stderr",
     "output_type": "stream",
     "text": [
      "  7%|████████████████▏                                                                                                                                                                                                        | 7697/103197 [34:45<5:27:53,  4.85it/s]"
     ]
    },
    {
     "name": "stdout",
     "output_type": "stream",
     "text": [
      "ENSG00000242125 failed\n"
     ]
    },
    {
     "name": "stderr",
     "output_type": "stream",
     "text": [
      "  9%|██████████████████▌                                                                                                                                                                                                     | 8894/103197 [38:54<25:38:38,  1.02it/s]"
     ]
    },
    {
     "name": "stdout",
     "output_type": "stream",
     "text": [
      "ENSG00000255811 failed\n"
     ]
    },
    {
     "name": "stderr",
     "output_type": "stream",
     "text": [
      "  9%|██████████████████▊                                                                                                                                                                                                      | 8924/103197 [39:02<7:48:35,  3.35it/s]"
     ]
    },
    {
     "name": "stdout",
     "output_type": "stream",
     "text": [
      "ENSG00000243749 failed\n"
     ]
    },
    {
     "name": "stderr",
     "output_type": "stream",
     "text": [
      "  9%|██████████████████▋                                                                                                                                                                                                     | 8956/103197 [39:13<10:31:15,  2.49it/s]"
     ]
    },
    {
     "name": "stdout",
     "output_type": "stream",
     "text": [
      "ENSG00000271741 failed\n"
     ]
    },
    {
     "name": "stderr",
     "output_type": "stream",
     "text": [
      "  9%|██████████████████▊                                                                                                                                                                                                      | 8961/103197 [39:15<8:33:45,  3.06it/s]"
     ]
    },
    {
     "name": "stdout",
     "output_type": "stream",
     "text": [
      "ENSG00000271741 failed\n"
     ]
    },
    {
     "name": "stderr",
     "output_type": "stream",
     "text": [
      "  9%|███████████████████▌                                                                                                                                                                                                     | 9332/103197 [40:28<7:29:37,  3.48it/s]"
     ]
    },
    {
     "name": "stdout",
     "output_type": "stream",
     "text": [
      "ENSG00000271554 failed\n"
     ]
    },
    {
     "name": "stderr",
     "output_type": "stream",
     "text": [
      "  9%|███████████████████▋                                                                                                                                                                                                     | 9334/103197 [40:28<6:12:38,  4.20it/s]"
     ]
    },
    {
     "name": "stdout",
     "output_type": "stream",
     "text": [
      "ENSG00000271554 failed\n"
     ]
    },
    {
     "name": "stderr",
     "output_type": "stream",
     "text": [
      " 10%|████████████████████▉                                                                                                                                                                                                   | 10033/103197 [42:36<4:00:01,  6.47it/s]"
     ]
    },
    {
     "name": "stdout",
     "output_type": "stream",
     "text": [
      "ENSG00000228436 failed\n"
     ]
    },
    {
     "name": "stderr",
     "output_type": "stream",
     "text": [
      " 14%|██████████████████████████████▏                                                                                                                                                                                         | 14395/103197 [58:33<2:56:35,  8.38it/s]"
     ]
    },
    {
     "name": "stdout",
     "output_type": "stream",
     "text": [
      "ENSG00000203965 failed\n"
     ]
    },
    {
     "name": "stderr",
     "output_type": "stream",
     "text": [
      " 14%|██████████████████████████████▍                                                                                                                                                                                         | 14553/103197 [59:21<9:51:20,  2.50it/s]"
     ]
    },
    {
     "name": "stdout",
     "output_type": "stream",
     "text": [
      "ENSG00000213625 failed\n",
      "ENSG00000213625 failed\n"
     ]
    },
    {
     "name": "stderr",
     "output_type": "stream",
     "text": [
      " 14%|██████████████████████████████▎                                                                                                                                                                                        | 14555/103197 [59:26<29:51:22,  1.21s/it]"
     ]
    },
    {
     "name": "stdout",
     "output_type": "stream",
     "text": [
      "ENSG00000213625 failed\n"
     ]
    },
    {
     "name": "stderr",
     "output_type": "stream",
     "text": [
      "\r",
      " 14%|██████████████████████████████▎                                                                                                                                                                                        | 14556/103197 [59:29<44:50:21,  1.82s/it]"
     ]
    },
    {
     "name": "stdout",
     "output_type": "stream",
     "text": [
      "ENSG00000213625 failed\n"
     ]
    },
    {
     "name": "stderr",
     "output_type": "stream",
     "text": [
      " 14%|██████████████████████████████▎                                                                                                                                                                                        | 14559/103197 [59:30<19:17:43,  1.28it/s]"
     ]
    },
    {
     "name": "stdout",
     "output_type": "stream",
     "text": [
      "ENSG00000213625 failed\n"
     ]
    },
    {
     "name": "stderr",
     "output_type": "stream",
     "text": [
      " 15%|███████████████████████████████                                                                                                                                                                                       | 15004/103197 [1:01:05<2:15:22, 10.86it/s]"
     ]
    },
    {
     "name": "stdout",
     "output_type": "stream",
     "text": [
      "ENSG00000235782 failed\n"
     ]
    },
    {
     "name": "stderr",
     "output_type": "stream",
     "text": [
      " 15%|███████████████████████████████▏                                                                                                                                                                                      | 15044/103197 [1:01:20<8:19:41,  2.94it/s]"
     ]
    },
    {
     "name": "stdout",
     "output_type": "stream",
     "text": [
      "ENSG00000254685 failed\n"
     ]
    },
    {
     "name": "stderr",
     "output_type": "stream",
     "text": [
      " 15%|███████████████████████████████▍                                                                                                                                                                                      | 15177/103197 [1:01:53<4:52:39,  5.01it/s]"
     ]
    },
    {
     "name": "stdout",
     "output_type": "stream",
     "text": [
      "ENSG00000117054 failed\n"
     ]
    },
    {
     "name": "stderr",
     "output_type": "stream",
     "text": [
      " 15%|████████████████████████████████▍                                                                                                                                                                                     | 15661/103197 [1:04:12<3:28:17,  7.00it/s]"
     ]
    },
    {
     "name": "stdout",
     "output_type": "stream",
     "text": [
      "ENSG00000174021 failed\n",
      "ENSG00000174021 failed\n"
     ]
    },
    {
     "name": "stderr",
     "output_type": "stream",
     "text": [
      " 15%|████████████████████████████████▍                                                                                                                                                                                     | 15665/103197 [1:04:13<4:22:23,  5.56it/s]"
     ]
    },
    {
     "name": "stdout",
     "output_type": "stream",
     "text": [
      "ENSG00000174021 failed\n"
     ]
    },
    {
     "name": "stderr",
     "output_type": "stream",
     "text": [
      " 16%|█████████████████████████████████▋                                                                                                                                                                                   | 16321/103197 [1:06:24<20:17:10,  1.19it/s]"
     ]
    },
    {
     "name": "stdout",
     "output_type": "stream",
     "text": [
      "ENSG00000230735 failed\n"
     ]
    },
    {
     "name": "stderr",
     "output_type": "stream",
     "text": [
      " 16%|██████████████████████████████████▌                                                                                                                                                                                  | 16764/103197 [1:08:17<22:48:53,  1.05it/s]"
     ]
    },
    {
     "name": "stdout",
     "output_type": "stream",
     "text": [
      "ENSG00000230439 failed\n"
     ]
    },
    {
     "name": "stderr",
     "output_type": "stream",
     "text": [
      " 16%|██████████████████████████████████▊                                                                                                                                                                                  | 16896/103197 [1:08:51<11:19:39,  2.12it/s]"
     ]
    },
    {
     "name": "stdout",
     "output_type": "stream",
     "text": [
      "ENSG00000152078 failed\n"
     ]
    },
    {
     "name": "stderr",
     "output_type": "stream",
     "text": [
      "\r",
      " 16%|██████████████████████████████████▉                                                                                                                                                                                  | 16897/103197 [1:08:52<13:29:33,  1.78it/s]"
     ]
    },
    {
     "name": "stdout",
     "output_type": "stream",
     "text": [
      "ENSG00000152078 failed\n"
     ]
    },
    {
     "name": "stderr",
     "output_type": "stream",
     "text": [
      "\r",
      " 16%|██████████████████████████████████▉                                                                                                                                                                                  | 16898/103197 [1:08:52<15:45:18,  1.52it/s]"
     ]
    },
    {
     "name": "stdout",
     "output_type": "stream",
     "text": [
      "ENSG00000152078 failed\n"
     ]
    },
    {
     "name": "stderr",
     "output_type": "stream",
     "text": [
      "\r",
      " 16%|██████████████████████████████████▉                                                                                                                                                                                  | 16899/103197 [1:08:56<35:35:33,  1.48s/it]"
     ]
    },
    {
     "name": "stdout",
     "output_type": "stream",
     "text": [
      "ENSG00000152078 failed\n"
     ]
    },
    {
     "name": "stderr",
     "output_type": "stream",
     "text": [
      " 18%|██████████████████████████████████████▌                                                                                                                                                                               | 18566/103197 [1:14:22<4:04:29,  5.77it/s]"
     ]
    },
    {
     "name": "stdout",
     "output_type": "stream",
     "text": [
      "ENSG00000282608 failed\n",
      "ENSG00000282608 failed\n"
     ]
    },
    {
     "name": "stderr",
     "output_type": "stream",
     "text": [
      " 18%|██████████████████████████████████████▌                                                                                                                                                                               | 18624/103197 [1:14:40<3:17:39,  7.13it/s]"
     ]
    },
    {
     "name": "stdout",
     "output_type": "stream",
     "text": [
      "ENSG00000116473 failed\n"
     ]
    },
    {
     "name": "stderr",
     "output_type": "stream",
     "text": [
      " 19%|█████████████████████████████████████████▋                                                                                                                                                                            | 20092/103197 [1:18:59<2:59:08,  7.73it/s]"
     ]
    },
    {
     "name": "stdout",
     "output_type": "stream",
     "text": [
      "ENSG00000265241 failed\n"
     ]
    },
    {
     "name": "stderr",
     "output_type": "stream",
     "text": [
      " 19%|█████████████████████████████████████████▋                                                                                                                                                                            | 20121/103197 [1:19:08<4:35:36,  5.02it/s]"
     ]
    },
    {
     "name": "stdout",
     "output_type": "stream",
     "text": [
      "ENSG00000278431 failed\n",
      "ENSG00000278431 failed\n"
     ]
    },
    {
     "name": "stderr",
     "output_type": "stream",
     "text": [
      " 21%|████████████████████████████████████████████▎                                                                                                                                                                         | 21344/103197 [1:22:12<3:19:49,  6.83it/s]"
     ]
    },
    {
     "name": "stdout",
     "output_type": "stream",
     "text": [
      "ENSG00000163154 failed\n",
      "ENSG00000163154 failed\n"
     ]
    },
    {
     "name": "stderr",
     "output_type": "stream",
     "text": [
      " 21%|████████████████████████████████████████████▎                                                                                                                                                                         | 21346/103197 [1:22:12<4:11:15,  5.43it/s]"
     ]
    },
    {
     "name": "stdout",
     "output_type": "stream",
     "text": [
      "ENSG00000163154 failed\n",
      "ENSG00000163154 failed\n"
     ]
    },
    {
     "name": "stderr",
     "output_type": "stream",
     "text": [
      "\r",
      " 21%|████████████████████████████████████████████▎                                                                                                                                                                         | 21347/103197 [1:22:12<4:12:37,  5.40it/s]"
     ]
    },
    {
     "name": "stdout",
     "output_type": "stream",
     "text": [
      "ENSG00000163154 failed\n"
     ]
    },
    {
     "name": "stderr",
     "output_type": "stream",
     "text": [
      "\r",
      " 21%|████████████████████████████████████████████▎                                                                                                                                                                         | 21348/103197 [1:22:13<4:47:00,  4.75it/s]"
     ]
    },
    {
     "name": "stdout",
     "output_type": "stream",
     "text": [
      "ENSG00000163154 failed\n"
     ]
    },
    {
     "name": "stderr",
     "output_type": "stream",
     "text": [
      " 21%|████████████████████████████████████████████▎                                                                                                                                                                         | 21375/103197 [1:22:17<3:45:52,  6.04it/s]"
     ]
    },
    {
     "name": "stdout",
     "output_type": "stream",
     "text": [
      "ENSG00000163157 failed\n"
     ]
    },
    {
     "name": "stderr",
     "output_type": "stream",
     "text": [
      " 21%|████████████████████████████████████████████▎                                                                                                                                                                         | 21382/103197 [1:22:19<4:43:12,  4.81it/s]"
     ]
    },
    {
     "name": "stdout",
     "output_type": "stream",
     "text": [
      "ENSG00000163157 failed\n"
     ]
    },
    {
     "name": "stderr",
     "output_type": "stream",
     "text": [
      " 21%|████████████████████████████████████████████▎                                                                                                                                                                         | 21387/103197 [1:22:20<4:49:43,  4.71it/s]"
     ]
    },
    {
     "name": "stdout",
     "output_type": "stream",
     "text": [
      "ENSG00000163157 failed\n"
     ]
    },
    {
     "name": "stderr",
     "output_type": "stream",
     "text": [
      "\r",
      " 21%|████████████████████████████████████████████▎                                                                                                                                                                         | 21388/103197 [1:22:20<5:20:51,  4.25it/s]"
     ]
    },
    {
     "name": "stdout",
     "output_type": "stream",
     "text": [
      "ENSG00000163157 failed\n"
     ]
    },
    {
     "name": "stderr",
     "output_type": "stream",
     "text": [
      " 21%|████████████████████████████████████████████▎                                                                                                                                                                         | 21391/103197 [1:22:20<4:07:48,  5.50it/s]"
     ]
    },
    {
     "name": "stdout",
     "output_type": "stream",
     "text": [
      "ENSG00000163157 failed\n"
     ]
    },
    {
     "name": "stderr",
     "output_type": "stream",
     "text": [
      " 22%|███████████████████████████████████████████████▎                                                                                                                                                                      | 22804/103197 [1:25:34<1:58:58, 11.26it/s]"
     ]
    },
    {
     "name": "stdout",
     "output_type": "stream",
     "text": [
      "ENSG00000232093 failed\n"
     ]
    },
    {
     "name": "stderr",
     "output_type": "stream",
     "text": [
      " 22%|███████████████████████████████████████████████▍                                                                                                                                                                      | 22869/103197 [1:25:42<4:07:10,  5.42it/s]"
     ]
    },
    {
     "name": "stdout",
     "output_type": "stream",
     "text": [
      "ENSG00000243364 failed\n"
     ]
    },
    {
     "name": "stderr",
     "output_type": "stream",
     "text": [
      " 23%|█████████████████████████████████████████████████▏                                                                                                                                                                   | 23824/103197 [1:27:55<15:35:51,  1.41it/s]"
     ]
    },
    {
     "name": "stdout",
     "output_type": "stream",
     "text": [
      "ENSG00000160783 failed\n"
     ]
    },
    {
     "name": "stderr",
     "output_type": "stream",
     "text": [
      " 23%|█████████████████████████████████████████████████▍                                                                                                                                                                    | 23851/103197 [1:28:04<7:52:56,  2.80it/s]"
     ]
    },
    {
     "name": "stdout",
     "output_type": "stream",
     "text": [
      "ENSG00000160783 failed\n"
     ]
    },
    {
     "name": "stderr",
     "output_type": "stream",
     "text": [
      " 23%|█████████████████████████████████████████████████▍                                                                                                                                                                    | 23855/103197 [1:28:06<6:22:12,  3.46it/s]"
     ]
    },
    {
     "name": "stdout",
     "output_type": "stream",
     "text": [
      "ENSG00000160783 failed\n"
     ]
    },
    {
     "name": "stderr",
     "output_type": "stream",
     "text": [
      " 23%|██████████████████████████████████████████████████▏                                                                                                                                                                   | 24209/103197 [1:28:49<3:53:28,  5.64it/s]"
     ]
    },
    {
     "name": "stdout",
     "output_type": "stream",
     "text": [
      "ENSG00000143321 failed\n"
     ]
    },
    {
     "name": "stderr",
     "output_type": "stream",
     "text": [
      "\r",
      " 23%|██████████████████████████████████████████████████▏                                                                                                                                                                   | 24210/103197 [1:28:49<3:36:30,  6.08it/s]"
     ]
    },
    {
     "name": "stdout",
     "output_type": "stream",
     "text": [
      "ENSG00000143321 failed\n"
     ]
    },
    {
     "name": "stderr",
     "output_type": "stream",
     "text": [
      " 24%|███████████████████████████████████████████████████▋                                                                                                                                                                  | 24949/103197 [1:30:39<2:56:55,  7.37it/s]"
     ]
    },
    {
     "name": "stdout",
     "output_type": "stream",
     "text": [
      "ENSG00000188004 failed\n"
     ]
    },
    {
     "name": "stderr",
     "output_type": "stream",
     "text": [
      " 24%|███████████████████████████████████████████████████▉                                                                                                                                                                  | 25055/103197 [1:30:52<2:35:01,  8.40it/s]"
     ]
    },
    {
     "name": "stdout",
     "output_type": "stream",
     "text": [
      "ENSG00000227741 failed\n",
      "ENSG00000227741 failed\n"
     ]
    },
    {
     "name": "stderr",
     "output_type": "stream",
     "text": [
      " 24%|███████████████████████████████████████████████████▊                                                                                                                                                                 | 25107/103197 [1:31:11<15:26:31,  1.40it/s]"
     ]
    },
    {
     "name": "stdout",
     "output_type": "stream",
     "text": [
      "ENSG00000132716 failed\n"
     ]
    },
    {
     "name": "stderr",
     "output_type": "stream",
     "text": [
      " 24%|███████████████████████████████████████████████████▊                                                                                                                                                                 | 25114/103197 [1:31:15<14:40:53,  1.48it/s]"
     ]
    },
    {
     "name": "stdout",
     "output_type": "stream",
     "text": [
      "ENSG00000132716 failed\n"
     ]
    },
    {
     "name": "stderr",
     "output_type": "stream",
     "text": [
      "\r",
      " 24%|███████████████████████████████████████████████████▊                                                                                                                                                                 | 25115/103197 [1:31:16<13:20:58,  1.62it/s]"
     ]
    },
    {
     "name": "stdout",
     "output_type": "stream",
     "text": [
      "ENSG00000132716 failed\n"
     ]
    },
    {
     "name": "stderr",
     "output_type": "stream",
     "text": [
      " 24%|████████████████████████████████████████████████████                                                                                                                                                                  | 25135/103197 [1:31:19<1:55:14, 11.29it/s]"
     ]
    },
    {
     "name": "stdout",
     "output_type": "stream",
     "text": [
      "ENSG00000228606 failed\n",
      "ENSG00000228606 failed\n"
     ]
    },
    {
     "name": "stderr",
     "output_type": "stream",
     "text": [
      " 25%|████████████████████████████████████████████████████▌                                                                                                                                                                | 25467/103197 [1:32:27<10:41:54,  2.02it/s]"
     ]
    },
    {
     "name": "stdout",
     "output_type": "stream",
     "text": [
      "ENSG00000158769 failed\n"
     ]
    },
    {
     "name": "stderr",
     "output_type": "stream",
     "text": [
      "\r",
      " 25%|████████████████████████████████████████████████████▌                                                                                                                                                                | 25468/103197 [1:32:27<10:33:42,  2.04it/s]"
     ]
    },
    {
     "name": "stdout",
     "output_type": "stream",
     "text": [
      "ENSG00000158769 failed\n"
     ]
    },
    {
     "name": "stderr",
     "output_type": "stream",
     "text": [
      " 25%|█████████████████████████████████████████████████████▊                                                                                                                                                                | 25938/103197 [1:33:40<2:18:24,  9.30it/s]"
     ]
    },
    {
     "name": "stdout",
     "output_type": "stream",
     "text": [
      "ENSG00000234211 failed\n"
     ]
    },
    {
     "name": "stderr",
     "output_type": "stream",
     "text": [
      " 26%|███████████████████████████████████████████████████████▌                                                                                                                                                              | 26773/103197 [1:36:55<2:46:52,  7.63it/s]"
     ]
    },
    {
     "name": "stdout",
     "output_type": "stream",
     "text": [
      "ENSG00000188404 failed\n"
     ]
    },
    {
     "name": "stderr",
     "output_type": "stream",
     "text": [
      " 26%|████████████████████████████████████████████████████████▏                                                                                                                                                             | 27117/103197 [1:37:58<3:06:52,  6.79it/s]"
     ]
    },
    {
     "name": "stdout",
     "output_type": "stream",
     "text": [
      "ENSG00000135845 failed\n",
      "ENSG00000135845 failed\n"
     ]
    },
    {
     "name": "stderr",
     "output_type": "stream",
     "text": [
      " 28%|██████████████████████████████████████████████████████████▉                                                                                                                                                           | 28397/103197 [1:42:41<2:29:18,  8.35it/s]"
     ]
    },
    {
     "name": "stdout",
     "output_type": "stream",
     "text": [
      "ENSG00000116701 failed\n",
      "ENSG00000116701 failed\n"
     ]
    },
    {
     "name": "stderr",
     "output_type": "stream",
     "text": [
      " 30%|███████████████████████████████████████████████████████████████▌                                                                                                                                                      | 30656/103197 [1:48:58<2:51:33,  7.05it/s]"
     ]
    },
    {
     "name": "stdout",
     "output_type": "stream",
     "text": [
      "ENSG00000266094 failed\n"
     ]
    },
    {
     "name": "stderr",
     "output_type": "stream",
     "text": [
      " 30%|███████████████████████████████████████████████████████████████▌                                                                                                                                                      | 30662/103197 [1:48:59<2:05:43,  9.62it/s]"
     ]
    },
    {
     "name": "stdout",
     "output_type": "stream",
     "text": [
      "ENSG00000266094 failed\n"
     ]
    },
    {
     "name": "stderr",
     "output_type": "stream",
     "text": [
      " 30%|███████████████████████████████████████████████████████████████▊                                                                                                                                                      | 30799/103197 [1:49:20<2:25:22,  8.30it/s]"
     ]
    },
    {
     "name": "stdout",
     "output_type": "stream",
     "text": [
      "ENSG00000180667 failed\n"
     ]
    },
    {
     "name": "stderr",
     "output_type": "stream",
     "text": [
      " 30%|████████████████████████████████████████████████████████████████▎                                                                                                                                                     | 30996/103197 [1:49:54<6:26:04,  3.12it/s]"
     ]
    },
    {
     "name": "stdout",
     "output_type": "stream",
     "text": [
      "ENSG00000244703 failed\n"
     ]
    },
    {
     "name": "stderr",
     "output_type": "stream",
     "text": [
      " 30%|████████████████████████████████████████████████████████████████▎                                                                                                                                                     | 31009/103197 [1:49:58<5:05:10,  3.94it/s]"
     ]
    },
    {
     "name": "stdout",
     "output_type": "stream",
     "text": [
      "ENSG00000244703 failed\n"
     ]
    },
    {
     "name": "stderr",
     "output_type": "stream",
     "text": [
      " 32%|███████████████████████████████████████████████████████████████████▉                                                                                                                                                  | 32776/103197 [1:55:14<4:56:11,  3.96it/s]"
     ]
    },
    {
     "name": "stdout",
     "output_type": "stream",
     "text": [
      "ENSG00000243709 failed\n"
     ]
    },
    {
     "name": "stderr",
     "output_type": "stream",
     "text": [
      " 32%|████████████████████████████████████████████████████████████████████▏                                                                                                                                                 | 32905/103197 [1:55:40<6:01:09,  3.24it/s]"
     ]
    },
    {
     "name": "stdout",
     "output_type": "stream",
     "text": [
      "ENSG00000228382 failed\n"
     ]
    },
    {
     "name": "stderr",
     "output_type": "stream",
     "text": [
      " 33%|█████████████████████████████████████████████████████████████████████▉                                                                                                                                                | 33729/103197 [1:57:58<5:54:33,  3.27it/s]"
     ]
    },
    {
     "name": "stdout",
     "output_type": "stream",
     "text": [
      "ENSG00000116918 failed\n"
     ]
    },
    {
     "name": "stderr",
     "output_type": "stream",
     "text": [
      " 33%|█████████████████████████████████████████████████████████████████████▋                                                                                                                                               | 33772/103197 [1:58:31<10:08:03,  1.90it/s]"
     ]
    },
    {
     "name": "stdout",
     "output_type": "stream",
     "text": [
      "ENSG00000226758 failed\n"
     ]
    },
    {
     "name": "stderr",
     "output_type": "stream",
     "text": [
      " 34%|███████████████████████████████████████████████████████████████████████▉                                                                                                                                              | 34665/103197 [2:01:39<6:14:15,  3.05it/s]"
     ]
    },
    {
     "name": "stdout",
     "output_type": "stream",
     "text": [
      "ENSG00000272865 failed\n"
     ]
    },
    {
     "name": "stderr",
     "output_type": "stream",
     "text": [
      " 34%|████████████████████████████████████████████████████████████████████████                                                                                                                                              | 34766/103197 [2:02:06<3:33:53,  5.33it/s]"
     ]
    },
    {
     "name": "stdout",
     "output_type": "stream",
     "text": [
      "ENSG00000054282 failed\n"
     ]
    },
    {
     "name": "stderr",
     "output_type": "stream",
     "text": [
      " 34%|█████████████████████████████████████████████████████████████████████████▌                                                                                                                                            | 35499/103197 [2:05:02<1:56:24,  9.69it/s]"
     ]
    },
    {
     "name": "stdout",
     "output_type": "stream",
     "text": [
      "ENSG00000072756 failed\n"
     ]
    },
    {
     "name": "stderr",
     "output_type": "stream",
     "text": [
      " 35%|██████████████████████████████████████████████████████████████████████████▉                                                                                                                                           | 36129/103197 [2:07:29<6:25:43,  2.90it/s]"
     ]
    },
    {
     "name": "stdout",
     "output_type": "stream",
     "text": [
      "ENSG00000241553 failed\n"
     ]
    },
    {
     "name": "stderr",
     "output_type": "stream",
     "text": [
      " 35%|██████████████████████████████████████████████████████████████████████████▉                                                                                                                                           | 36133/103197 [2:07:30<6:35:26,  2.83it/s]"
     ]
    },
    {
     "name": "stdout",
     "output_type": "stream",
     "text": [
      "ENSG00000241553 failed\n",
      "ENSG00000241553 failed\n"
     ]
    },
    {
     "name": "stderr",
     "output_type": "stream",
     "text": [
      " 35%|███████████████████████████████████████████████████████████████████████████                                                                                                                                           | 36216/103197 [2:07:56<9:54:02,  1.88it/s]"
     ]
    },
    {
     "name": "stdout",
     "output_type": "stream",
     "text": [
      "ENSG00000250151 failed\n"
     ]
    },
    {
     "name": "stderr",
     "output_type": "stream",
     "text": [
      " 36%|█████████████████████████████████████████████████████████████████████████████▏                                                                                                                                        | 37207/103197 [2:11:01<3:53:23,  4.71it/s]"
     ]
    },
    {
     "name": "stdout",
     "output_type": "stream",
     "text": [
      "ENSG00000170876 failed\n"
     ]
    },
    {
     "name": "stderr",
     "output_type": "stream",
     "text": [
      " 37%|██████████████████████████████████████████████████████████████████████████████▍                                                                                                                                       | 37810/103197 [2:13:04<3:06:53,  5.83it/s]"
     ]
    },
    {
     "name": "stdout",
     "output_type": "stream",
     "text": [
      "ENSG00000272529 failed\n"
     ]
    },
    {
     "name": "stderr",
     "output_type": "stream",
     "text": [
      " 37%|███████████████████████████████████████████████████████████████████████████████                                                                                                                                       | 38150/103197 [2:14:53<9:16:54,  1.95it/s]"
     ]
    },
    {
     "name": "stdout",
     "output_type": "stream",
     "text": [
      "ENSG00000225542 failed\n"
     ]
    },
    {
     "name": "stderr",
     "output_type": "stream",
     "text": [
      " 37%|███████████████████████████████████████████████████████████████████████████████                                                                                                                                       | 38152/103197 [2:14:53<6:36:56,  2.73it/s]"
     ]
    },
    {
     "name": "stdout",
     "output_type": "stream",
     "text": [
      "ENSG00000225542 failed\n"
     ]
    },
    {
     "name": "stderr",
     "output_type": "stream",
     "text": [
      " 37%|███████████████████████████████████████████████████████████████████████████████                                                                                                                                       | 38156/103197 [2:14:55<5:37:10,  3.22it/s]"
     ]
    },
    {
     "name": "stdout",
     "output_type": "stream",
     "text": [
      "ENSG00000225542 failed\n"
     ]
    },
    {
     "name": "stderr",
     "output_type": "stream",
     "text": [
      " 37%|████████████████████████████████████████████████████████████████████████████████▏                                                                                                                                     | 38656/103197 [2:17:29<2:47:21,  6.43it/s]"
     ]
    },
    {
     "name": "stdout",
     "output_type": "stream",
     "text": [
      "ENSG00000197385 failed\n",
      "ENSG00000197385 failed\n",
      "ENSG00000197385 failed\n"
     ]
    },
    {
     "name": "stderr",
     "output_type": "stream",
     "text": [
      "\r",
      " 37%|████████████████████████████████████████████████████████████████████████████████▏                                                                                                                                     | 38658/103197 [2:17:29<2:22:20,  7.56it/s]"
     ]
    },
    {
     "name": "stdout",
     "output_type": "stream",
     "text": [
      "ENSG00000197385 failed\n",
      "ENSG00000197385 failed\n",
      "ENSG00000197385 failed\n"
     ]
    },
    {
     "name": "stderr",
     "output_type": "stream",
     "text": [
      "\r",
      " 37%|████████████████████████████████████████████████████████████████████████████████▏                                                                                                                                     | 38660/103197 [2:17:30<2:09:02,  8.34it/s]"
     ]
    },
    {
     "name": "stdout",
     "output_type": "stream",
     "text": [
      "ENSG00000197385 failed\n"
     ]
    },
    {
     "name": "stderr",
     "output_type": "stream",
     "text": [
      " 38%|████████████████████████████████████████████████████████████████████████████████▋                                                                                                                                     | 38894/103197 [2:18:21<4:19:10,  4.14it/s]"
     ]
    },
    {
     "name": "stdout",
     "output_type": "stream",
     "text": [
      "ENSG00000188167 failed\n"
     ]
    },
    {
     "name": "stderr",
     "output_type": "stream",
     "text": [
      " 39%|███████████████████████████████████████████████████████████████████████████████████▍                                                                                                                                  | 40238/103197 [2:22:09<4:39:42,  3.75it/s]"
     ]
    },
    {
     "name": "stdout",
     "output_type": "stream",
     "text": [
      "ENSG00000244607 failed\n"
     ]
    },
    {
     "name": "stderr",
     "output_type": "stream",
     "text": [
      "\r",
      " 39%|███████████████████████████████████████████████████████████████████████████████████▍                                                                                                                                  | 40239/103197 [2:22:10<9:13:27,  1.90it/s]"
     ]
    },
    {
     "name": "stdout",
     "output_type": "stream",
     "text": [
      "ENSG00000244607 failed\n"
     ]
    },
    {
     "name": "stderr",
     "output_type": "stream",
     "text": [
      " 39%|███████████████████████████████████████████████████████████████████████████████████▌                                                                                                                                  | 40272/103197 [2:22:25<4:14:04,  4.13it/s]"
     ]
    },
    {
     "name": "stdout",
     "output_type": "stream",
     "text": [
      "ENSG00000182983 failed\n"
     ]
    },
    {
     "name": "stderr",
     "output_type": "stream",
     "text": [
      " 39%|████████████████████████████████████████████████████████████████████████████████████▏                                                                                                                                 | 40604/103197 [2:23:29<1:25:51, 12.15it/s]"
     ]
    },
    {
     "name": "stdout",
     "output_type": "stream",
     "text": [
      "ENSG00000169964 failed\n"
     ]
    },
    {
     "name": "stderr",
     "output_type": "stream",
     "text": [
      " 39%|████████████████████████████████████████████████████████████████████████████████████▏                                                                                                                                 | 40612/103197 [2:23:30<2:13:01,  7.84it/s]"
     ]
    },
    {
     "name": "stdout",
     "output_type": "stream",
     "text": [
      "ENSG00000169964 failed\n"
     ]
    },
    {
     "name": "stderr",
     "output_type": "stream",
     "text": [
      " 40%|████████████████████████████████████████████████████████████████████████████████████▊                                                                                                                                 | 40872/103197 [2:24:21<2:07:56,  8.12it/s]"
     ]
    },
    {
     "name": "stdout",
     "output_type": "stream",
     "text": [
      "ENSG00000163823 failed\n"
     ]
    },
    {
     "name": "stderr",
     "output_type": "stream",
     "text": [
      " 42%|█████████████████████████████████████████████████████████████████████████████████████████▌                                                                                                                            | 43203/103197 [2:30:24<5:09:28,  3.23it/s]"
     ]
    },
    {
     "name": "stdout",
     "output_type": "stream",
     "text": [
      "ENSG00000004534 failed\n"
     ]
    },
    {
     "name": "stderr",
     "output_type": "stream",
     "text": [
      " 42%|██████████████████████████████████████████████████████████████████████████████████████████                                                                                                                            | 43449/103197 [2:30:52<3:01:22,  5.49it/s]"
     ]
    },
    {
     "name": "stdout",
     "output_type": "stream",
     "text": [
      "ENSG00000114395 failed\n"
     ]
    },
    {
     "name": "stderr",
     "output_type": "stream",
     "text": [
      " 43%|███████████████████████████████████████████████████████████████████████████████████████████                                                                                                                           | 43923/103197 [2:32:12<5:41:12,  2.90it/s]"
     ]
    },
    {
     "name": "stdout",
     "output_type": "stream",
     "text": [
      "ENSG00000248487 failed\n"
     ]
    },
    {
     "name": "stderr",
     "output_type": "stream",
     "text": [
      " 43%|███████████████████████████████████████████████████████████████████████████████████████████                                                                                                                           | 43930/103197 [2:32:15<6:44:54,  2.44it/s]"
     ]
    },
    {
     "name": "stdout",
     "output_type": "stream",
     "text": [
      "ENSG00000248487 failed\n"
     ]
    },
    {
     "name": "stderr",
     "output_type": "stream",
     "text": [
      " 43%|███████████████████████████████████████████████████████████████████████████████████████████▎                                                                                                                          | 44008/103197 [2:32:27<3:46:40,  4.35it/s]"
     ]
    },
    {
     "name": "stdout",
     "output_type": "stream",
     "text": [
      "ENSG00000239732 failed\n"
     ]
    },
    {
     "name": "stderr",
     "output_type": "stream",
     "text": [
      " 43%|████████████████████████████████████████████████████████████████████████████████████████████▋                                                                                                                         | 44702/103197 [2:34:04<4:29:44,  3.61it/s]"
     ]
    },
    {
     "name": "stdout",
     "output_type": "stream",
     "text": [
      "ENSG00000055955 failed\n"
     ]
    },
    {
     "name": "stderr",
     "output_type": "stream",
     "text": [
      " 43%|████████████████████████████████████████████████████████████████████████████████████████████▉                                                                                                                         | 44797/103197 [2:34:36<5:27:18,  2.97it/s]"
     ]
    },
    {
     "name": "stdout",
     "output_type": "stream",
     "text": [
      "ENSG00000272305 failed\n"
     ]
    },
    {
     "name": "stderr",
     "output_type": "stream",
     "text": [
      " 45%|███████████████████████████████████████████████████████████████████████████████████████████████▋                                                                                                                      | 46124/103197 [2:41:04<8:45:30,  1.81it/s]"
     ]
    },
    {
     "name": "stdout",
     "output_type": "stream",
     "text": [
      "ENSG00000277539 failed\n"
     ]
    },
    {
     "name": "stderr",
     "output_type": "stream",
     "text": [
      " 45%|████████████████████████████████████████████████████████████████████████████████████████████████▋                                                                                                                     | 46599/103197 [2:43:06<3:18:41,  4.75it/s]"
     ]
    },
    {
     "name": "stdout",
     "output_type": "stream",
     "text": [
      "ENSG00000080822 failed\n"
     ]
    },
    {
     "name": "stderr",
     "output_type": "stream",
     "text": [
      " 47%|███████████████████████████████████████████████████████████████████████████████████████████████████▋                                                                                                                  | 48075/103197 [2:48:34<5:40:34,  2.70it/s]"
     ]
    },
    {
     "name": "stdout",
     "output_type": "stream",
     "text": [
      "ENSG00000121577 failed\n"
     ]
    },
    {
     "name": "stderr",
     "output_type": "stream",
     "text": [
      " 47%|█████████████████████████████████████████████████████████████████████████████████████████████████████▏                                                                                                                | 48808/103197 [2:50:40<5:54:45,  2.56it/s]"
     ]
    },
    {
     "name": "stdout",
     "output_type": "stream",
     "text": [
      "ENSG00000065485 failed\n"
     ]
    },
    {
     "name": "stderr",
     "output_type": "stream",
     "text": [
      " 48%|██████████████████████████████████████████████████████████████████████████████████████████████████████▋                                                                                                              | 49736/103197 [2:54:05<11:16:36,  1.32it/s]"
     ]
    },
    {
     "name": "stdout",
     "output_type": "stream",
     "text": [
      "ENSG00000172780 failed\n"
     ]
    },
    {
     "name": "stderr",
     "output_type": "stream",
     "text": [
      "\r",
      " 48%|██████████████████████████████████████████████████████████████████████████████████████████████████████▋                                                                                                              | 49737/103197 [2:54:06<10:42:00,  1.39it/s]"
     ]
    },
    {
     "name": "stdout",
     "output_type": "stream",
     "text": [
      "ENSG00000172780 failed\n"
     ]
    },
    {
     "name": "stderr",
     "output_type": "stream",
     "text": [
      " 48%|███████████████████████████████████████████████████████████████████████████████████████████████████████▏                                                                                                              | 49747/103197 [2:54:11<5:01:08,  2.96it/s]"
     ]
    },
    {
     "name": "stdout",
     "output_type": "stream",
     "text": [
      "ENSG00000172780 failed\n"
     ]
    },
    {
     "name": "stderr",
     "output_type": "stream",
     "text": [
      " 49%|████████████████████████████████████████████████████████████████████████████████████████████████████████▋                                                                                                             | 50503/103197 [2:58:20<9:51:54,  1.48it/s]"
     ]
    },
    {
     "name": "stdout",
     "output_type": "stream",
     "text": [
      "ENSG00000240303 failed\n"
     ]
    },
    {
     "name": "stderr",
     "output_type": "stream",
     "text": [
      " 50%|█████████████████████████████████████████████████████████████████████████████████████████████████████████▌                                                                                                           | 51139/103197 [3:04:42<11:23:18,  1.27it/s]"
     ]
    },
    {
     "name": "stdout",
     "output_type": "stream",
     "text": [
      "ENSG00000158092 failed\n"
     ]
    },
    {
     "name": "stderr",
     "output_type": "stream",
     "text": [
      "\r",
      " 50%|█████████████████████████████████████████████████████████████████████████████████████████████████████████▌                                                                                                           | 51140/103197 [3:04:45<17:40:44,  1.22s/it]"
     ]
    },
    {
     "name": "stdout",
     "output_type": "stream",
     "text": [
      "ENSG00000158092 failed\n"
     ]
    },
    {
     "name": "stderr",
     "output_type": "stream",
     "text": [
      " 53%|██████████████████████████████████████████████████████████████████████████████████████████████████████████████████▏                                                                                                   | 55076/103197 [3:39:27<6:31:28,  2.05it/s]"
     ]
    },
    {
     "name": "stdout",
     "output_type": "stream",
     "text": [
      "ENSG00000224563 failed\n",
      "ENSG00000224563 failed\n"
     ]
    },
    {
     "name": "stderr",
     "output_type": "stream",
     "text": [
      " 53%|██████████████████████████████████████████████████████████████████████████████████████████████████████████████████▏                                                                                                   | 55078/103197 [3:39:28<4:10:29,  3.20it/s]"
     ]
    },
    {
     "name": "stdout",
     "output_type": "stream",
     "text": [
      "ENSG00000224563 failed\n",
      "ENSG00000224563 failed\n"
     ]
    },
    {
     "name": "stderr",
     "output_type": "stream",
     "text": [
      "\r",
      " 53%|██████████████████████████████████████████████████████████████████████████████████████████████████████████████████▏                                                                                                   | 55080/103197 [3:39:28<2:56:52,  4.53it/s]"
     ]
    },
    {
     "name": "stdout",
     "output_type": "stream",
     "text": [
      "ENSG00000224563 failed\n"
     ]
    },
    {
     "name": "stderr",
     "output_type": "stream",
     "text": [
      " 54%|██████████████████████████████████████████████████████████████████████████████████████████████████████████████████▌                                                                                                   | 55219/103197 [3:40:18<3:34:24,  3.73it/s]"
     ]
    },
    {
     "name": "stdout",
     "output_type": "stream",
     "text": [
      "ENSG00000233308 failed\n",
      "ENSG00000233308 failed\n"
     ]
    },
    {
     "name": "stderr",
     "output_type": "stream",
     "text": [
      "\r",
      " 54%|██████████████████████████████████████████████████████████████████████████████████████████████████████████████████▌                                                                                                   | 55220/103197 [3:40:18<3:16:35,  4.07it/s]"
     ]
    },
    {
     "name": "stdout",
     "output_type": "stream",
     "text": [
      "ENSG00000233308 failed\n"
     ]
    },
    {
     "name": "stderr",
     "output_type": "stream",
     "text": [
      "\r",
      " 54%|██████████████████████████████████████████████████████████████████████████████████████████████████████████████████▌                                                                                                   | 55221/103197 [3:40:18<3:23:47,  3.92it/s]"
     ]
    },
    {
     "name": "stdout",
     "output_type": "stream",
     "text": [
      "ENSG00000233308 failed\n"
     ]
    },
    {
     "name": "stderr",
     "output_type": "stream",
     "text": [
      " 54%|████████████████████████████████████████████████████████████████████████████████████████████████████████████████████                                                                                                  | 55942/103197 [3:42:57<3:20:05,  3.94it/s]"
     ]
    },
    {
     "name": "stdout",
     "output_type": "stream",
     "text": [
      "ENSG00000163959 failed\n"
     ]
    },
    {
     "name": "stderr",
     "output_type": "stream",
     "text": [
      " 54%|████████████████████████████████████████████████████████████████████████████████████████████████████████████████████▏                                                                                                 | 56007/103197 [3:43:21<6:29:39,  2.02it/s]"
     ]
    },
    {
     "name": "stdout",
     "output_type": "stream",
     "text": [
      "ENSG00000213123 failed\n",
      "ENSG00000272741 failed\n"
     ]
    },
    {
     "name": "stderr",
     "output_type": "stream",
     "text": [
      " 54%|████████████████████████████████████████████████████████████████████████████████████████████████████████████████████▎                                                                                                 | 56117/103197 [3:43:52<4:21:10,  3.00it/s]"
     ]
    },
    {
     "name": "stdout",
     "output_type": "stream",
     "text": [
      "ENSG00000174004 failed\n"
     ]
    },
    {
     "name": "stderr",
     "output_type": "stream",
     "text": [
      "\r",
      " 54%|████████████████████████████████████████████████████████████████████████████████████████████████████████████████████▎                                                                                                 | 56118/103197 [3:43:52<4:19:46,  3.02it/s]"
     ]
    },
    {
     "name": "stdout",
     "output_type": "stream",
     "text": [
      "ENSG00000174004 failed\n"
     ]
    },
    {
     "name": "stderr",
     "output_type": "stream",
     "text": [
      "\r",
      " 54%|████████████████████████████████████████████████████████████████████████████████████████████████████████████████████▎                                                                                                 | 56119/103197 [3:43:53<4:42:32,  2.78it/s]"
     ]
    },
    {
     "name": "stdout",
     "output_type": "stream",
     "text": [
      "ENSG00000174004 failed\n"
     ]
    },
    {
     "name": "stderr",
     "output_type": "stream",
     "text": [
      "\r",
      " 54%|████████████████████████████████████████████████████████████████████████████████████████████████████████████████████▍                                                                                                 | 56120/103197 [3:43:53<6:32:40,  2.00it/s]"
     ]
    },
    {
     "name": "stdout",
     "output_type": "stream",
     "text": [
      "ENSG00000174004 failed\n"
     ]
    },
    {
     "name": "stderr",
     "output_type": "stream",
     "text": [
      "\r",
      " 54%|████████████████████████████████████████████████████████████████████████████████████████████████████████████████████▍                                                                                                 | 56121/103197 [3:43:54<6:45:43,  1.93it/s]"
     ]
    },
    {
     "name": "stdout",
     "output_type": "stream",
     "text": [
      "ENSG00000174004 failed\n"
     ]
    },
    {
     "name": "stderr",
     "output_type": "stream",
     "text": [
      "\r",
      " 54%|████████████████████████████████████████████████████████████████████████████████████████████████████████████████████▍                                                                                                 | 56122/103197 [3:43:55<6:53:17,  1.90it/s]"
     ]
    },
    {
     "name": "stdout",
     "output_type": "stream",
     "text": [
      "ENSG00000174004 failed\n"
     ]
    },
    {
     "name": "stderr",
     "output_type": "stream",
     "text": [
      "\r",
      " 54%|████████████████████████████████████████████████████████████████████████████████████████████████████████████████████▍                                                                                                 | 56123/103197 [3:43:55<7:27:00,  1.76it/s]"
     ]
    },
    {
     "name": "stdout",
     "output_type": "stream",
     "text": [
      "ENSG00000174004 failed\n"
     ]
    },
    {
     "name": "stderr",
     "output_type": "stream",
     "text": [
      "\r",
      " 54%|███████████████████████████████████████████████████████████████████████████████████████████████████████████████████▊                                                                                                 | 56124/103197 [3:43:56<10:06:19,  1.29it/s]"
     ]
    },
    {
     "name": "stdout",
     "output_type": "stream",
     "text": [
      "ENSG00000174004 failed\n"
     ]
    },
    {
     "name": "stderr",
     "output_type": "stream",
     "text": [
      "\r",
      " 54%|███████████████████████████████████████████████████████████████████████████████████████████████████████████████████▊                                                                                                 | 56125/103197 [3:43:58<12:36:52,  1.04it/s]"
     ]
    },
    {
     "name": "stdout",
     "output_type": "stream",
     "text": [
      "ENSG00000174004 failed\n"
     ]
    },
    {
     "name": "stderr",
     "output_type": "stream",
     "text": [
      " 54%|████████████████████████████████████████████████████████████████████████████████████████████████████████████████████▍                                                                                                 | 56159/103197 [3:44:07<1:52:25,  6.97it/s]"
     ]
    },
    {
     "name": "stdout",
     "output_type": "stream",
     "text": [
      "ENSG00000174007 failed\n"
     ]
    },
    {
     "name": "stderr",
     "output_type": "stream",
     "text": [
      " 55%|█████████████████████████████████████████████████████████████████████████████████████████████████████████████████████▌                                                                                                | 56666/103197 [3:45:48<2:28:42,  5.22it/s]"
     ]
    },
    {
     "name": "stdout",
     "output_type": "stream",
     "text": [
      "ENSG00000260774 failed\n"
     ]
    },
    {
     "name": "stderr",
     "output_type": "stream",
     "text": [
      " 56%|████████████████████████████████████████████████████████████████████████████████████████████████████████████████████████▌                                                                                             | 58155/103197 [3:50:53<4:10:23,  3.00it/s]"
     ]
    },
    {
     "name": "stdout",
     "output_type": "stream",
     "text": [
      "ENSG00000242110 failed\n",
      "ENSG00000242110 failed\n"
     ]
    },
    {
     "name": "stderr",
     "output_type": "stream",
     "text": [
      " 56%|████████████████████████████████████████████████████████████████████████████████████████████████████████████████████████▌                                                                                             | 58165/103197 [3:50:56<4:18:16,  2.91it/s]"
     ]
    },
    {
     "name": "stdout",
     "output_type": "stream",
     "text": [
      "ENSG00000082196 failed\n"
     ]
    },
    {
     "name": "stderr",
     "output_type": "stream",
     "text": [
      "\r",
      " 56%|████████████████████████████████████████████████████████████████████████████████████████████████████████████████████████▌                                                                                             | 58166/103197 [3:50:56<4:31:40,  2.76it/s]"
     ]
    },
    {
     "name": "stdout",
     "output_type": "stream",
     "text": [
      "ENSG00000082196 failed\n"
     ]
    },
    {
     "name": "stderr",
     "output_type": "stream",
     "text": [
      " 57%|██████████████████████████████████████████████████████████████████████████████████████████████████████████████████████████                                                                                            | 58876/103197 [3:53:44<1:54:37,  6.44it/s]"
     ]
    },
    {
     "name": "stdout",
     "output_type": "stream",
     "text": [
      "ENSG00000171522 failed\n",
      "ENSG00000171522 failed\n"
     ]
    },
    {
     "name": "stderr",
     "output_type": "stream",
     "text": [
      " 57%|██████████████████████████████████████████████████████████████████████████████████████████████████████████████████████████▉                                                                                           | 59311/103197 [3:55:31<4:39:22,  2.62it/s]"
     ]
    },
    {
     "name": "stdout",
     "output_type": "stream",
     "text": [
      "ENSG00000152684 failed\n"
     ]
    },
    {
     "name": "stderr",
     "output_type": "stream",
     "text": [
      "\r",
      " 57%|██████████████████████████████████████████████████████████████████████████████████████████████████████████████████████████▉                                                                                           | 59312/103197 [3:55:32<5:29:26,  2.22it/s]"
     ]
    },
    {
     "name": "stdout",
     "output_type": "stream",
     "text": [
      "ENSG00000152684 failed\n"
     ]
    },
    {
     "name": "stderr",
     "output_type": "stream",
     "text": [
      " 58%|████████████████████████████████████████████████████████████████████████████████████████████████████████████████████████████▌                                                                                         | 60076/103197 [3:59:13<3:23:28,  3.53it/s]"
     ]
    },
    {
     "name": "stdout",
     "output_type": "stream",
     "text": [
      "ENSG00000068796 failed\n"
     ]
    },
    {
     "name": "stderr",
     "output_type": "stream",
     "text": [
      " 58%|████████████████████████████████████████████████████████████████████████████████████████████████████████████████████████████▌                                                                                         | 60086/103197 [3:59:16<4:11:24,  2.86it/s]"
     ]
    },
    {
     "name": "stdout",
     "output_type": "stream",
     "text": [
      "ENSG00000186105 failed\n"
     ]
    },
    {
     "name": "stderr",
     "output_type": "stream",
     "text": [
      "\r",
      " 58%|████████████████████████████████████████████████████████████████████████████████████████████████████████████████████████████▌                                                                                         | 60087/103197 [3:59:17<3:57:33,  3.02it/s]"
     ]
    },
    {
     "name": "stdout",
     "output_type": "stream",
     "text": [
      "ENSG00000186105 failed\n"
     ]
    },
    {
     "name": "stderr",
     "output_type": "stream",
     "text": [
      " 58%|████████████████████████████████████████████████████████████████████████████████████████████████████████████████████████████▉                                                                                         | 60234/103197 [3:59:48<2:30:43,  4.75it/s]"
     ]
    },
    {
     "name": "stdout",
     "output_type": "stream",
     "text": [
      "ENSG00000253251 failed\n"
     ]
    },
    {
     "name": "stderr",
     "output_type": "stream",
     "text": [
      " 59%|██████████████████████████████████████████████████████████████████████████████████████████████████████████████████████████████▋                                                                                       | 61106/103197 [4:02:45<1:24:08,  8.34it/s]"
     ]
    },
    {
     "name": "stdout",
     "output_type": "stream",
     "text": [
      "ENSG00000049860 failed\n"
     ]
    },
    {
     "name": "stderr",
     "output_type": "stream",
     "text": [
      " 59%|███████████████████████████████████████████████████████████████████████████████████████████████████████████████████████████████▏                                                                                      | 61318/103197 [4:03:27<2:07:19,  5.48it/s]"
     ]
    },
    {
     "name": "stdout",
     "output_type": "stream",
     "text": [
      "ENSG00000250348 failed\n"
     ]
    },
    {
     "name": "stderr",
     "output_type": "stream",
     "text": [
      " 61%|█████████████████████████████████████████████████████████████████████████████████████████████████████████████████████████████████▋                                                                                    | 62546/103197 [4:09:13<2:23:22,  4.73it/s]"
     ]
    },
    {
     "name": "stdout",
     "output_type": "stream",
     "text": [
      "ENSG00000270133 failed\n"
     ]
    },
    {
     "name": "stderr",
     "output_type": "stream",
     "text": [
      " 61%|██████████████████████████████████████████████████████████████████████████████████████████████████████████████████████████████████▍                                                                                   | 62911/103197 [4:10:38<1:30:53,  7.39it/s]"
     ]
    },
    {
     "name": "stdout",
     "output_type": "stream",
     "text": [
      "ENSG00000153113 failed\n",
      "ENSG00000153113 failed\n",
      "ENSG00000153113 failed\n"
     ]
    },
    {
     "name": "stderr",
     "output_type": "stream",
     "text": [
      "\r",
      " 61%|██████████████████████████████████████████████████████████████████████████████████████████████████████████████████████████████████▍                                                                                   | 62913/103197 [4:10:39<1:20:57,  8.29it/s]"
     ]
    },
    {
     "name": "stdout",
     "output_type": "stream",
     "text": [
      "ENSG00000153113 failed\n",
      "ENSG00000153113 failed\n"
     ]
    },
    {
     "name": "stderr",
     "output_type": "stream",
     "text": [
      " 61%|██████████████████████████████████████████████████████████████████████████████████████████████████████████████████████████████████▊                                                                                   | 63056/103197 [4:11:07<1:15:02,  8.91it/s]"
     ]
    },
    {
     "name": "stdout",
     "output_type": "stream",
     "text": [
      "ENSG00000246763 failed\n"
     ]
    },
    {
     "name": "stderr",
     "output_type": "stream",
     "text": [
      " 62%|███████████████████████████████████████████████████████████████████████████████████████████████████████████████████████████████████▊                                                                                  | 63592/103197 [4:13:26<3:42:29,  2.97it/s]"
     ]
    },
    {
     "name": "stdout",
     "output_type": "stream",
     "text": [
      "ENSG00000153037 failed\n",
      "ENSG00000258864 failed\n"
     ]
    },
    {
     "name": "stderr",
     "output_type": "stream",
     "text": [
      " 62%|███████████████████████████████████████████████████████████████████████████████████████████████████████████████████████████████████▉                                                                                  | 63595/103197 [4:13:28<4:37:40,  2.38it/s]"
     ]
    },
    {
     "name": "stdout",
     "output_type": "stream",
     "text": [
      "ENSG00000153037 failed\n",
      "ENSG00000258864 failed\n"
     ]
    },
    {
     "name": "stderr",
     "output_type": "stream",
     "text": [
      " 62%|███████████████████████████████████████████████████████████████████████████████████████████████████████████████████████████████████▉                                                                                  | 63598/103197 [4:13:29<4:15:01,  2.59it/s]"
     ]
    },
    {
     "name": "stdout",
     "output_type": "stream",
     "text": [
      "ENSG00000153037 failed\n",
      "ENSG00000258864 failed\n"
     ]
    },
    {
     "name": "stderr",
     "output_type": "stream",
     "text": [
      "\r",
      " 62%|███████████████████████████████████████████████████████████████████████████████████████████████████████████████████████████████████▉                                                                                  | 63599/103197 [4:13:30<4:36:54,  2.38it/s]"
     ]
    },
    {
     "name": "stdout",
     "output_type": "stream",
     "text": [
      "ENSG00000153037 failed\n",
      "ENSG00000258864 failed\n"
     ]
    },
    {
     "name": "stderr",
     "output_type": "stream",
     "text": [
      "\r",
      " 62%|███████████████████████████████████████████████████████████████████████████████████████████████████████████████████████████████████▉                                                                                  | 63600/103197 [4:13:30<4:42:09,  2.34it/s]"
     ]
    },
    {
     "name": "stdout",
     "output_type": "stream",
     "text": [
      "ENSG00000153037 failed\n",
      "ENSG00000258864 failed\n"
     ]
    },
    {
     "name": "stderr",
     "output_type": "stream",
     "text": [
      " 62%|████████████████████████████████████████████████████████████████████████████████████████████████████████████████████████████████████▏                                                                                 | 63760/103197 [4:14:05<7:42:59,  1.42it/s]"
     ]
    },
    {
     "name": "stdout",
     "output_type": "stream",
     "text": [
      "ENSG00000243414 failed\n"
     ]
    },
    {
     "name": "stderr",
     "output_type": "stream",
     "text": [
      "\r",
      " 62%|████████████████████████████████████████████████████████████████████████████████████████████████████████████████████████████████████▏                                                                                 | 63761/103197 [4:14:06<7:52:38,  1.39it/s]"
     ]
    },
    {
     "name": "stdout",
     "output_type": "stream",
     "text": [
      "ENSG00000243414 failed\n"
     ]
    },
    {
     "name": "stderr",
     "output_type": "stream",
     "text": [
      " 62%|████████████████████████████████████████████████████████████████████████████████████████████████████████████████████████████████████▍                                                                                 | 63892/103197 [4:15:01<4:42:31,  2.32it/s]"
     ]
    },
    {
     "name": "stdout",
     "output_type": "stream",
     "text": [
      "ENSG00000248445 failed\n"
     ]
    },
    {
     "name": "stderr",
     "output_type": "stream",
     "text": [
      " 62%|████████████████████████████████████████████████████████████████████████████████████████████████████████████████████████████████████▌                                                                                 | 63907/103197 [4:15:04<1:29:21,  7.33it/s]"
     ]
    },
    {
     "name": "stdout",
     "output_type": "stream",
     "text": [
      "ENSG00000248445 failed\n"
     ]
    },
    {
     "name": "stderr",
     "output_type": "stream",
     "text": [
      " 63%|█████████████████████████████████████████████████████████████████████████████████████████████████████████████████████████████████████▉                                                                                | 64610/103197 [4:18:34<3:23:42,  3.16it/s]"
     ]
    },
    {
     "name": "stdout",
     "output_type": "stream",
     "text": [
      "ENSG00000239642 failed\n"
     ]
    },
    {
     "name": "stderr",
     "output_type": "stream",
     "text": [
      " 63%|██████████████████████████████████████████████████████████████████████████████████████████████████████████████████████████████████████▋                                                                               | 64931/103197 [4:19:40<1:08:55,  9.25it/s]"
     ]
    },
    {
     "name": "stdout",
     "output_type": "stream",
     "text": [
      "ENSG00000205089 failed\n"
     ]
    },
    {
     "name": "stderr",
     "output_type": "stream",
     "text": [
      " 63%|███████████████████████████████████████████████████████████████████████████████████████████████████████████████████████████████████████▏                                                                              | 65188/103197 [4:20:27<2:27:19,  4.30it/s]"
     ]
    },
    {
     "name": "stdout",
     "output_type": "stream",
     "text": [
      "ENSG00000113558 failed\n"
     ]
    },
    {
     "name": "stderr",
     "output_type": "stream",
     "text": [
      " 63%|███████████████████████████████████████████████████████████████████████████████████████████████████████████████████████████████████████▋                                                                              | 65460/103197 [4:21:33<5:39:54,  1.85it/s]"
     ]
    },
    {
     "name": "stdout",
     "output_type": "stream",
     "text": [
      "ENSG00000132570 failed\n"
     ]
    },
    {
     "name": "stderr",
     "output_type": "stream",
     "text": [
      " 64%|████████████████████████████████████████████████████████████████████████████████████████████████████████████████████████████████████████▋                                                                             | 65942/103197 [4:23:14<4:33:15,  2.27it/s]"
     ]
    },
    {
     "name": "stdout",
     "output_type": "stream",
     "text": [
      "ENSG00000281398 failed\n"
     ]
    },
    {
     "name": "stderr",
     "output_type": "stream",
     "text": [
      " 64%|████████████████████████████████████████████████████████████████████████████████████████████████████████████████████████████████████████▊                                                                             | 65947/103197 [4:23:15<2:44:59,  3.76it/s]"
     ]
    },
    {
     "name": "stdout",
     "output_type": "stream",
     "text": [
      "ENSG00000281398 failed\n"
     ]
    },
    {
     "name": "stderr",
     "output_type": "stream",
     "text": [
      "\r",
      " 64%|████████████████████████████████████████████████████████████████████████████████████████████████████████████████████████████████████████▊                                                                             | 65948/103197 [4:23:15<2:51:44,  3.61it/s]"
     ]
    },
    {
     "name": "stdout",
     "output_type": "stream",
     "text": [
      "ENSG00000281398 failed\n"
     ]
    },
    {
     "name": "stderr",
     "output_type": "stream",
     "text": [
      "\r",
      " 64%|████████████████████████████████████████████████████████████████████████████████████████████████████████████████████████████████████████▊                                                                             | 65949/103197 [4:23:16<6:08:20,  1.69it/s]"
     ]
    },
    {
     "name": "stdout",
     "output_type": "stream",
     "text": [
      "ENSG00000281398 failed\n"
     ]
    },
    {
     "name": "stderr",
     "output_type": "stream",
     "text": [
      "\r",
      " 64%|████████████████████████████████████████████████████████████████████████████████████████████████████████████████████████████████████████▊                                                                             | 65950/103197 [4:23:18<9:53:55,  1.05it/s]"
     ]
    },
    {
     "name": "stdout",
     "output_type": "stream",
     "text": [
      "ENSG00000281398 failed\n"
     ]
    },
    {
     "name": "stderr",
     "output_type": "stream",
     "text": [
      " 64%|█████████████████████████████████████████████████████████████████████████████████████████████████████████████████████████████████████████▍                                                                            | 66250/103197 [4:24:42<2:44:04,  3.75it/s]"
     ]
    },
    {
     "name": "stdout",
     "output_type": "stream",
     "text": [
      "ENSG00000131503 failed\n"
     ]
    },
    {
     "name": "stderr",
     "output_type": "stream",
     "text": [
      " 64%|███████████████████████████████████████████████████████████████████████████████████████████████████████████████████████████████████████████                                                                             | 66451/103197 [4:25:18<46:42, 13.11it/s]"
     ]
    },
    {
     "name": "stdout",
     "output_type": "stream",
     "text": [
      "ENSG00000256453 failed\n",
      "ENSG00000256453 failed\n"
     ]
    },
    {
     "name": "stderr",
     "output_type": "stream",
     "text": [
      " 65%|█████████████████████████████████████████████████████████████████████████████████████████████████████████████████████████████████████████████▏                                                                          | 67442/103197 [4:31:25<50:19, 11.84it/s]"
     ]
    },
    {
     "name": "stdout",
     "output_type": "stream",
     "text": [
      "ENSG00000253865 failed\n"
     ]
    },
    {
     "name": "stderr",
     "output_type": "stream",
     "text": [
      " 66%|█████████████████████████████████████████████████████████████████████████████████████████████████████████████████████████████████████████████▎                                                                        | 68134/103197 [4:33:26<6:18:43,  1.54it/s]"
     ]
    },
    {
     "name": "stdout",
     "output_type": "stream",
     "text": [
      "ENSG00000037749 failed\n"
     ]
    },
    {
     "name": "stderr",
     "output_type": "stream",
     "text": [
      " 68%|█████████████████████████████████████████████████████████████████████████████████████████████████████████████████████████████████████████████████▌                                                                    | 70191/103197 [4:40:22<1:30:21,  6.09it/s]"
     ]
    },
    {
     "name": "stdout",
     "output_type": "stream",
     "text": [
      "ENSG00000169228 failed\n"
     ]
    },
    {
     "name": "stderr",
     "output_type": "stream",
     "text": [
      " 68%|█████████████████████████████████████████████████████████████████████████████████████████████████████████████████████████████████████████████████▌                                                                    | 70194/103197 [4:40:23<1:31:34,  6.01it/s]"
     ]
    },
    {
     "name": "stdout",
     "output_type": "stream",
     "text": [
      "ENSG00000169228 failed\n"
     ]
    },
    {
     "name": "stderr",
     "output_type": "stream",
     "text": [
      " 69%|████████████████████████████████████████████████████████████████████████████████████████████████████████████████████████████████████████████████████                                                                    | 70710/103197 [4:41:42<53:44, 10.07it/s]"
     ]
    },
    {
     "name": "stdout",
     "output_type": "stream",
     "text": [
      "ENSG00000197451 failed\n"
     ]
    },
    {
     "name": "stderr",
     "output_type": "stream",
     "text": [
      "\r",
      " 69%|████████████████████████████████████████████████████████████████████████████████████████████████████████████████████████████████████████████████████                                                                    | 70712/103197 [4:41:42<54:34,  9.92it/s]"
     ]
    },
    {
     "name": "stdout",
     "output_type": "stream",
     "text": [
      "ENSG00000197451 failed\n"
     ]
    },
    {
     "name": "stderr",
     "output_type": "stream",
     "text": [
      " 70%|█████████████████████████████████████████████████████████████████████████████████████████████████████████████████████████████████████████████████████▎                                                                | 72021/103197 [4:45:59<4:32:51,  1.90it/s]"
     ]
    },
    {
     "name": "stdout",
     "output_type": "stream",
     "text": [
      "ENSG00000105963 failed\n"
     ]
    },
    {
     "name": "stderr",
     "output_type": "stream",
     "text": [
      " 70%|█████████████████████████████████████████████████████████████████████████████████████████████████████████████████████████████████████████████████████▍                                                                | 72081/103197 [4:46:14<1:14:36,  6.95it/s]"
     ]
    },
    {
     "name": "stdout",
     "output_type": "stream",
     "text": [
      "ENSG00000164849 failed\n"
     ]
    },
    {
     "name": "stderr",
     "output_type": "stream",
     "text": [
      " 71%|███████████████████████████████████████████████████████████████████████████████████████████████████████████████████████████████████████████████████████▍                                                              | 73021/103197 [4:49:39<3:03:13,  2.74it/s]"
     ]
    },
    {
     "name": "stdout",
     "output_type": "stream",
     "text": [
      "ENSG00000237738 failed\n",
      "ENSG00000237738 failed\n"
     ]
    },
    {
     "name": "stderr",
     "output_type": "stream",
     "text": [
      "\r",
      " 71%|███████████████████████████████████████████████████████████████████████████████████████████████████████████████████████████████████████████████████████▍                                                              | 73022/103197 [4:49:40<3:51:27,  2.17it/s]"
     ]
    },
    {
     "name": "stdout",
     "output_type": "stream",
     "text": [
      "ENSG00000237738 failed\n"
     ]
    },
    {
     "name": "stderr",
     "output_type": "stream",
     "text": [
      " 71%|████████████████████████████████████████████████████████████████████████████████████████████████████████████████████████████████████████████████████████▉                                                             | 73721/103197 [4:52:50<2:58:21,  2.75it/s]"
     ]
    },
    {
     "name": "stdout",
     "output_type": "stream",
     "text": [
      "ENSG00000234141 failed\n"
     ]
    },
    {
     "name": "stderr",
     "output_type": "stream",
     "text": [
      " 73%|███████████████████████████████████████████████████████████████████████████████████████████████████████████████████████████████████████████████████████████▋                                                          | 75065/103197 [4:59:06<2:31:17,  3.10it/s]"
     ]
    },
    {
     "name": "stdout",
     "output_type": "stream",
     "text": [
      "ENSG00000180233 failed\n"
     ]
    },
    {
     "name": "stderr",
     "output_type": "stream",
     "text": [
      " 73%|███████████████████████████████████████████████████████████████████████████████████████████████████████████████████████████████████████████████████████████▊                                                          | 75140/103197 [4:59:23<2:20:16,  3.33it/s]"
     ]
    },
    {
     "name": "stdout",
     "output_type": "stream",
     "text": [
      "ENSG00000006625 failed\n"
     ]
    },
    {
     "name": "stderr",
     "output_type": "stream",
     "text": [
      "\r",
      " 73%|███████████████████████████████████████████████████████████████████████████████████████████████████████████████████████████████████████████████████████████▊                                                          | 75141/103197 [4:59:24<3:19:34,  2.34it/s]"
     ]
    },
    {
     "name": "stdout",
     "output_type": "stream",
     "text": [
      "ENSG00000006625 failed\n"
     ]
    },
    {
     "name": "stderr",
     "output_type": "stream",
     "text": [
      " 73%|███████████████████████████████████████████████████████████████████████████████████████████████████████████████████████████████████████████████████████████▊                                                          | 75143/103197 [4:59:25<4:12:14,  1.85it/s]"
     ]
    },
    {
     "name": "stdout",
     "output_type": "stream",
     "text": [
      "ENSG00000006625 failed\n"
     ]
    },
    {
     "name": "stderr",
     "output_type": "stream",
     "text": [
      "\r",
      " 73%|███████████████████████████████████████████████████████████████████████████████████████████████████████████████████████████████████████████████████████████▊                                                          | 75144/103197 [4:59:26<4:37:28,  1.69it/s]"
     ]
    },
    {
     "name": "stdout",
     "output_type": "stream",
     "text": [
      "ENSG00000006625 failed\n"
     ]
    },
    {
     "name": "stderr",
     "output_type": "stream",
     "text": [
      " 73%|██████████████████████████████████████████████████████████████████████████████████████████████████████████████████████████████████████████████████████████████▌                                                         | 75740/103197 [5:01:35<47:39,  9.60it/s]"
     ]
    },
    {
     "name": "stdout",
     "output_type": "stream",
     "text": [
      "ENSG00000230539 failed\n",
      "ENSG00000230539 failed\n"
     ]
    },
    {
     "name": "stderr",
     "output_type": "stream",
     "text": [
      " 73%|█████████████████████████████████████████████████████████████████████████████████████████████████████████████████████████████████████████████████████████████                                                         | 75743/103197 [5:01:36<1:21:51,  5.59it/s]"
     ]
    },
    {
     "name": "stdout",
     "output_type": "stream",
     "text": [
      "ENSG00000230539 failed\n"
     ]
    },
    {
     "name": "stderr",
     "output_type": "stream",
     "text": [
      " 74%|████████████████████████████████████████████████████████████████████████████████████████████████████████████████████████████████████████████████████████████▌                                                        | 75855/103197 [5:02:34<19:28:30,  2.56s/it]"
     ]
    },
    {
     "name": "stdout",
     "output_type": "stream",
     "text": [
      "ENSG00000187037 failed\n"
     ]
    },
    {
     "name": "stderr",
     "output_type": "stream",
     "text": [
      "\r",
      " 74%|████████████████████████████████████████████████████████████████████████████████████████████████████████████████████████████████████████████████████████████▌                                                        | 75856/103197 [5:02:43<32:54:43,  4.33s/it]"
     ]
    },
    {
     "name": "stdout",
     "output_type": "stream",
     "text": [
      "ENSG00000187037 failed\n"
     ]
    },
    {
     "name": "stderr",
     "output_type": "stream",
     "text": [
      "\r",
      " 74%|████████████████████████████████████████████████████████████████████████████████████████████████████████████████████████████████████████████████████████████▌                                                        | 75857/103197 [5:02:49<38:40:45,  5.09s/it]"
     ]
    },
    {
     "name": "stdout",
     "output_type": "stream",
     "text": [
      "ENSG00000187037 failed\n"
     ]
    },
    {
     "name": "stderr",
     "output_type": "stream",
     "text": [
      "\r",
      " 74%|████████████████████████████████████████████████████████████████████████████████████████████████████████████████████████████████████████████████████████████▌                                                        | 75858/103197 [5:02:54<37:54:44,  4.99s/it]"
     ]
    },
    {
     "name": "stdout",
     "output_type": "stream",
     "text": [
      "ENSG00000187037 failed\n"
     ]
    },
    {
     "name": "stderr",
     "output_type": "stream",
     "text": [
      "\r",
      " 74%|████████████████████████████████████████████████████████████████████████████████████████████████████████████████████████████████████████████████████████████▌                                                        | 75859/103197 [5:03:04<49:15:36,  6.49s/it]"
     ]
    },
    {
     "name": "stdout",
     "output_type": "stream",
     "text": [
      "ENSG00000187037 failed\n"
     ]
    },
    {
     "name": "stderr",
     "output_type": "stream",
     "text": [
      " 74%|█████████████████████████████████████████████████████████████████████████████████████████████████████████████████████████████████████████████████████████████▎                                                        | 75870/103197 [5:03:13<9:22:17,  1.23s/it]"
     ]
    },
    {
     "name": "stdout",
     "output_type": "stream",
     "text": [
      "ENSG00000187037 failed\n"
     ]
    },
    {
     "name": "stderr",
     "output_type": "stream",
     "text": [
      " 74%|█████████████████████████████████████████████████████████████████████████████████████████████████████████████████████████████████████████████████████████████▎                                                        | 75887/103197 [5:03:25<7:56:52,  1.05s/it]"
     ]
    },
    {
     "name": "stdout",
     "output_type": "stream",
     "text": [
      "ENSG00000187037 failed\n"
     ]
    },
    {
     "name": "stderr",
     "output_type": "stream",
     "text": [
      "\r",
      " 74%|█████████████████████████████████████████████████████████████████████████████████████████████████████████████████████████████████████████████████████████████▎                                                        | 75888/103197 [5:03:26<8:21:25,  1.10s/it]"
     ]
    },
    {
     "name": "stdout",
     "output_type": "stream",
     "text": [
      "ENSG00000187037 failed\n"
     ]
    },
    {
     "name": "stderr",
     "output_type": "stream",
     "text": [
      "\r",
      " 74%|█████████████████████████████████████████████████████████████████████████████████████████████████████████████████████████████████████████████████████████████▎                                                        | 75889/103197 [5:03:27<8:38:21,  1.14s/it]"
     ]
    },
    {
     "name": "stdout",
     "output_type": "stream",
     "text": [
      "ENSG00000187037 failed\n"
     ]
    },
    {
     "name": "stderr",
     "output_type": "stream",
     "text": [
      "\r",
      " 74%|████████████████████████████████████████████████████████████████████████████████████████████████████████████████████████████████████████████████████████████▋                                                        | 75890/103197 [5:03:30<12:44:18,  1.68s/it]"
     ]
    },
    {
     "name": "stdout",
     "output_type": "stream",
     "text": [
      "ENSG00000187037 failed\n"
     ]
    },
    {
     "name": "stderr",
     "output_type": "stream",
     "text": [
      "\r",
      " 74%|████████████████████████████████████████████████████████████████████████████████████████████████████████████████████████████████████████████████████████████▋                                                        | 75891/103197 [5:03:34<18:26:03,  2.43s/it]"
     ]
    },
    {
     "name": "stdout",
     "output_type": "stream",
     "text": [
      "ENSG00000187037 failed\n"
     ]
    },
    {
     "name": "stderr",
     "output_type": "stream",
     "text": [
      "\r",
      " 74%|████████████████████████████████████████████████████████████████████████████████████████████████████████████████████████████████████████████████████████████▋                                                        | 75892/103197 [5:03:37<19:55:03,  2.63s/it]"
     ]
    },
    {
     "name": "stdout",
     "output_type": "stream",
     "text": [
      "ENSG00000187037 failed\n"
     ]
    },
    {
     "name": "stderr",
     "output_type": "stream",
     "text": [
      "\r",
      " 74%|████████████████████████████████████████████████████████████████████████████████████████████████████████████████████████████████████████████████████████████▋                                                        | 75893/103197 [5:03:41<21:51:18,  2.88s/it]"
     ]
    },
    {
     "name": "stdout",
     "output_type": "stream",
     "text": [
      "ENSG00000187037 failed\n"
     ]
    },
    {
     "name": "stderr",
     "output_type": "stream",
     "text": [
      "\r",
      " 74%|████████████████████████████████████████████████████████████████████████████████████████████████████████████████████████████████████████████████████████████▋                                                        | 75894/103197 [5:03:44<23:03:31,  3.04s/it]"
     ]
    },
    {
     "name": "stdout",
     "output_type": "stream",
     "text": [
      "ENSG00000187037 failed\n"
     ]
    },
    {
     "name": "stderr",
     "output_type": "stream",
     "text": [
      "\r",
      " 74%|████████████████████████████████████████████████████████████████████████████████████████████████████████████████████████████████████████████████████████████▋                                                        | 75895/103197 [5:03:48<23:53:39,  3.15s/it]"
     ]
    },
    {
     "name": "stdout",
     "output_type": "stream",
     "text": [
      "ENSG00000187037 failed\n"
     ]
    },
    {
     "name": "stderr",
     "output_type": "stream",
     "text": [
      "\r",
      " 74%|████████████████████████████████████████████████████████████████████████████████████████████████████████████████████████████████████████████████████████████▋                                                        | 75896/103197 [5:03:54<30:32:51,  4.03s/it]"
     ]
    },
    {
     "name": "stdout",
     "output_type": "stream",
     "text": [
      "ENSG00000187037 failed\n"
     ]
    },
    {
     "name": "stderr",
     "output_type": "stream",
     "text": [
      "\r",
      " 74%|████████████████████████████████████████████████████████████████████████████████████████████████████████████████████████████████████████████████████████████▋                                                        | 75897/103197 [5:03:57<29:38:17,  3.91s/it]"
     ]
    },
    {
     "name": "stdout",
     "output_type": "stream",
     "text": [
      "ENSG00000187037 failed\n"
     ]
    },
    {
     "name": "stderr",
     "output_type": "stream",
     "text": [
      " 74%|██████████████████████████████████████████████████████████████████████████████████████████████████████████████████████████████████████████████████████████████▍                                                       | 76414/103197 [5:06:21<3:05:00,  2.41it/s]"
     ]
    },
    {
     "name": "stdout",
     "output_type": "stream",
     "text": [
      "ENSG00000270617 failed\n"
     ]
    },
    {
     "name": "stderr",
     "output_type": "stream",
     "text": [
      " 74%|██████████████████████████████████████████████████████████████████████████████████████████████████████████████████████████████████████████████████████████████▌                                                       | 76489/103197 [5:06:45<1:52:36,  3.95it/s]"
     ]
    },
    {
     "name": "stdout",
     "output_type": "stream",
     "text": [
      "ENSG00000239556 failed\n"
     ]
    },
    {
     "name": "stderr",
     "output_type": "stream",
     "text": [
      " 74%|██████████████████████████████████████████████████████████████████████████████████████████████████████████████████████████████████████████████████████████████▌                                                       | 76491/103197 [5:06:46<3:57:25,  1.87it/s]"
     ]
    },
    {
     "name": "stdout",
     "output_type": "stream",
     "text": [
      "ENSG00000239556 failed\n"
     ]
    },
    {
     "name": "stderr",
     "output_type": "stream",
     "text": [
      " 74%|██████████████████████████████████████████████████████████████████████████████████████████████████████████████████████████████████████████████████████████████▋                                                       | 76494/103197 [5:06:47<2:27:31,  3.02it/s]"
     ]
    },
    {
     "name": "stdout",
     "output_type": "stream",
     "text": [
      "ENSG00000239556 failed\n"
     ]
    },
    {
     "name": "stderr",
     "output_type": "stream",
     "text": [
      "\r",
      " 74%|██████████████████████████████████████████████████████████████████████████████████████████████████████████████████████████████████████████████████████████████▋                                                       | 76495/103197 [5:06:47<2:12:53,  3.35it/s]"
     ]
    },
    {
     "name": "stdout",
     "output_type": "stream",
     "text": [
      "ENSG00000239556 failed\n"
     ]
    },
    {
     "name": "stderr",
     "output_type": "stream",
     "text": [
      "\r",
      " 74%|██████████████████████████████████████████████████████████████████████████████████████████████████████████████████████████████████████████████████████████████▋                                                       | 76496/103197 [5:06:48<2:47:44,  2.65it/s]"
     ]
    },
    {
     "name": "stdout",
     "output_type": "stream",
     "text": [
      "ENSG00000239556 failed\n"
     ]
    },
    {
     "name": "stderr",
     "output_type": "stream",
     "text": [
      "\r",
      " 74%|██████████████████████████████████████████████████████████████████████████████████████████████████████████████████████████████████████████████████████████████▋                                                       | 76497/103197 [5:06:48<3:13:23,  2.30it/s]"
     ]
    },
    {
     "name": "stdout",
     "output_type": "stream",
     "text": [
      "ENSG00000239556 failed\n",
      "ENSG00000239556 failed\n"
     ]
    },
    {
     "name": "stderr",
     "output_type": "stream",
     "text": [
      " 74%|██████████████████████████████████████████████████████████████████████████████████████████████████████████████████████████████████████████████████████████████▋                                                       | 76499/103197 [5:06:49<3:43:12,  1.99it/s]"
     ]
    },
    {
     "name": "stdout",
     "output_type": "stream",
     "text": [
      "ENSG00000239556 failed\n",
      "ENSG00000239556 failed\n"
     ]
    },
    {
     "name": "stderr",
     "output_type": "stream",
     "text": [
      " 74%|██████████████████████████████████████████████████████████████████████████████████████████████████████████████████████████████████████████████████████████████▋                                                       | 76509/103197 [5:06:54<2:34:28,  2.88it/s]"
     ]
    },
    {
     "name": "stdout",
     "output_type": "stream",
     "text": [
      "ENSG00000228434 failed\n"
     ]
    },
    {
     "name": "stderr",
     "output_type": "stream",
     "text": [
      " 74%|██████████████████████████████████████████████████████████████████████████████████████████████████████████████████████████████████████████████████████████████▋                                                       | 76511/103197 [5:06:55<2:49:06,  2.63it/s]"
     ]
    },
    {
     "name": "stdout",
     "output_type": "stream",
     "text": [
      "ENSG00000228434 failed\n"
     ]
    },
    {
     "name": "stderr",
     "output_type": "stream",
     "text": [
      " 74%|████████████████████████████████████████████████████████████████████████████████████████████████████████████████████████████████████████████████████████████████▎                                                       | 76620/103197 [5:07:12<45:03,  9.83it/s]"
     ]
    },
    {
     "name": "stdout",
     "output_type": "stream",
     "text": [
      "ENSG00000239775 failed\n",
      "ENSG00000239775 failed\n"
     ]
    },
    {
     "name": "stderr",
     "output_type": "stream",
     "text": [
      " 76%|█████████████████████████████████████████████████████████████████████████████████████████████████████████████████████████████████████████████████████████████████▊                                                    | 78025/103197 [5:11:28<1:23:45,  5.01it/s]"
     ]
    },
    {
     "name": "stdout",
     "output_type": "stream",
     "text": [
      "ENSG00000126522 failed\n"
     ]
    },
    {
     "name": "stderr",
     "output_type": "stream",
     "text": [
      "\r",
      " 76%|█████████████████████████████████████████████████████████████████████████████████████████████████████████████████████████████████████████████████████████████████▊                                                    | 78026/103197 [5:11:28<1:46:32,  3.94it/s]"
     ]
    },
    {
     "name": "stdout",
     "output_type": "stream",
     "text": [
      "ENSG00000126522 failed\n"
     ]
    },
    {
     "name": "stderr",
     "output_type": "stream",
     "text": [
      " 76%|███████████████████████████████████████████████████████████████████████████████████████████████████████████████████████████████████████████████████████████████████▌                                                    | 78139/103197 [5:12:04<47:41,  8.76it/s]"
     ]
    },
    {
     "name": "stdout",
     "output_type": "stream",
     "text": [
      "ENSG00000179406 failed\n",
      "ENSG00000179406 failed\n"
     ]
    },
    {
     "name": "stderr",
     "output_type": "stream",
     "text": [
      " 76%|██████████████████████████████████████████████████████████████████████████████████████████████████████████████████████████████████████████████████████████████████▏                                                   | 78192/103197 [5:12:16<1:05:34,  6.36it/s]"
     ]
    },
    {
     "name": "stdout",
     "output_type": "stream",
     "text": [
      "ENSG00000244657 failed\n",
      "ENSG00000244657 failed\n"
     ]
    },
    {
     "name": "stderr",
     "output_type": "stream",
     "text": [
      " 76%|██████████████████████████████████████████████████████████████████████████████████████████████████████████████████████████████████████████████████████████████████▏                                                   | 78201/103197 [5:12:17<1:16:50,  5.42it/s]"
     ]
    },
    {
     "name": "stdout",
     "output_type": "stream",
     "text": [
      "ENSG00000229180 failed\n"
     ]
    },
    {
     "name": "stderr",
     "output_type": "stream",
     "text": [
      " 76%|██████████████████████████████████████████████████████████████████████████████████████████████████████████████████████████████████████████████████████████████████▏                                                   | 78226/103197 [5:12:21<1:13:19,  5.68it/s]"
     ]
    },
    {
     "name": "stdout",
     "output_type": "stream",
     "text": [
      "ENSG00000226824 failed\n",
      "ENSG00000226824 failed\n"
     ]
    },
    {
     "name": "stderr",
     "output_type": "stream",
     "text": [
      "\r",
      " 76%|██████████████████████████████████████████████████████████████████████████████████████████████████████████████████████████████████████████████████████████████████▏                                                   | 78227/103197 [5:12:21<1:13:29,  5.66it/s]"
     ]
    },
    {
     "name": "stdout",
     "output_type": "stream",
     "text": [
      "ENSG00000226824 failed\n"
     ]
    },
    {
     "name": "stderr",
     "output_type": "stream",
     "text": [
      " 76%|██████████████████████████████████████████████████████████████████████████████████████████████████████████████████████████████████████████████████████████████████▏                                                   | 78230/103197 [5:12:23<2:36:46,  2.65it/s]"
     ]
    },
    {
     "name": "stdout",
     "output_type": "stream",
     "text": [
      "ENSG00000226824 failed\n"
     ]
    },
    {
     "name": "stderr",
     "output_type": "stream",
     "text": [
      " 76%|███████████████████████████████████████████████████████████████████████████████████████████████████████████████████████████████████████████████████████████████████▉                                                    | 78336/103197 [5:12:49<58:01,  7.14it/s]"
     ]
    },
    {
     "name": "stdout",
     "output_type": "stream",
     "text": [
      "ENSG00000126524 failed\n"
     ]
    },
    {
     "name": "stderr",
     "output_type": "stream",
     "text": [
      " 77%|████████████████████████████████████████████████████████████████████████████████████████████████████████████████████████████████████████████████████████████████████▉                                                 | 79546/103197 [5:16:41<5:57:45,  1.10it/s]"
     ]
    },
    {
     "name": "stdout",
     "output_type": "stream",
     "text": [
      "ENSG00000259628 failed\n"
     ]
    },
    {
     "name": "stderr",
     "output_type": "stream",
     "text": [
      "\r",
      " 77%|████████████████████████████████████████████████████████████████████████████████████████████████████████████████████████████████████████████████████████████████████▉                                                 | 79547/103197 [5:16:42<6:33:23,  1.00it/s]"
     ]
    },
    {
     "name": "stdout",
     "output_type": "stream",
     "text": [
      "ENSG00000259628 failed\n"
     ]
    },
    {
     "name": "stderr",
     "output_type": "stream",
     "text": [
      " 78%|██████████████████████████████████████████████████████████████████████████████████████████████████████████████████████████████████████████████████████████████████████▍                                               | 80282/103197 [5:19:06<2:22:01,  2.69it/s]"
     ]
    },
    {
     "name": "stdout",
     "output_type": "stream",
     "text": [
      "ENSG00000251154 failed\n"
     ]
    },
    {
     "name": "stderr",
     "output_type": "stream",
     "text": [
      " 79%|█████████████████████████████████████████████████████████████████████████████████████████████████████████████████████████████████████████████████████████████████████████▌                                              | 81013/103197 [5:21:29<50:27,  7.33it/s]"
     ]
    },
    {
     "name": "stdout",
     "output_type": "stream",
     "text": [
      "ENSG00000164713 failed\n"
     ]
    },
    {
     "name": "stderr",
     "output_type": "stream",
     "text": [
      " 79%|██████████████████████████████████████████████████████████████████████████████████████████████████████████████████████████████████████████████████████████████████████████▏                                             | 81280/103197 [5:22:15<36:42,  9.95it/s]"
     ]
    },
    {
     "name": "stdout",
     "output_type": "stream",
     "text": [
      "ENSG00000130429 failed\n",
      "ENSG00000130429 failed\n"
     ]
    },
    {
     "name": "stderr",
     "output_type": "stream",
     "text": [
      " 79%|████████████████████████████████████████████████████████████████████████████████████████████████████████████████████████████████████████████████████████████████████████▉                                             | 81452/103197 [5:22:50<3:00:14,  2.01it/s]"
     ]
    },
    {
     "name": "stdout",
     "output_type": "stream",
     "text": [
      "ENSG00000197343 failed\n"
     ]
    },
    {
     "name": "stderr",
     "output_type": "stream",
     "text": [
      "\r",
      " 79%|████████████████████████████████████████████████████████████████████████████████████████████████████████████████████████████████████████████████████████████████████████▉                                             | 81453/103197 [5:22:50<3:07:18,  1.93it/s]"
     ]
    },
    {
     "name": "stdout",
     "output_type": "stream",
     "text": [
      "ENSG00000197343 failed\n"
     ]
    },
    {
     "name": "stderr",
     "output_type": "stream",
     "text": [
      "\r",
      " 79%|████████████████████████████████████████████████████████████████████████████████████████████████████████████████████████████████████████████████████████████████████████▉                                             | 81454/103197 [5:22:51<4:03:28,  1.49it/s]"
     ]
    },
    {
     "name": "stdout",
     "output_type": "stream",
     "text": [
      "ENSG00000197343 failed\n"
     ]
    },
    {
     "name": "stderr",
     "output_type": "stream",
     "text": [
      " 79%|█████████████████████████████████████████████████████████████████████████████████████████████████████████████████████████████████████████████████████████████████████████▉                                            | 81942/103197 [5:24:01<1:38:56,  3.58it/s]"
     ]
    },
    {
     "name": "stdout",
     "output_type": "stream",
     "text": [
      "ENSG00000235333 failed\n"
     ]
    },
    {
     "name": "stderr",
     "output_type": "stream",
     "text": [
      "\r",
      " 79%|█████████████████████████████████████████████████████████████████████████████████████████████████████████████████████████████████████████████████████████████████████████▉                                            | 81943/103197 [5:24:02<1:38:23,  3.60it/s]"
     ]
    },
    {
     "name": "stdout",
     "output_type": "stream",
     "text": [
      "ENSG00000235333 failed\n"
     ]
    },
    {
     "name": "stderr",
     "output_type": "stream",
     "text": [
      " 79%|█████████████████████████████████████████████████████████████████████████████████████████████████████████████████████████████████████████████████████████████████████████▉                                            | 81945/103197 [5:24:02<1:38:18,  3.60it/s]"
     ]
    },
    {
     "name": "stdout",
     "output_type": "stream",
     "text": [
      "ENSG00000235333 failed\n"
     ]
    },
    {
     "name": "stderr",
     "output_type": "stream",
     "text": [
      "\r",
      " 79%|█████████████████████████████████████████████████████████████████████████████████████████████████████████████████████████████████████████████████████████████████████████▉                                            | 81946/103197 [5:24:02<1:39:31,  3.56it/s]"
     ]
    },
    {
     "name": "stdout",
     "output_type": "stream",
     "text": [
      "ENSG00000235333 failed\n"
     ]
    },
    {
     "name": "stderr",
     "output_type": "stream",
     "text": [
      "\r",
      " 79%|█████████████████████████████████████████████████████████████████████████████████████████████████████████████████████████████████████████████████████████████████████████▉                                            | 81947/103197 [5:24:03<1:42:51,  3.44it/s]"
     ]
    },
    {
     "name": "stdout",
     "output_type": "stream",
     "text": [
      "ENSG00000235333 failed\n"
     ]
    },
    {
     "name": "stderr",
     "output_type": "stream",
     "text": [
      "\r",
      " 79%|█████████████████████████████████████████████████████████████████████████████████████████████████████████████████████████████████████████████████████████████████████████▉                                            | 81948/103197 [5:24:03<1:43:12,  3.43it/s]"
     ]
    },
    {
     "name": "stdout",
     "output_type": "stream",
     "text": [
      "ENSG00000235333 failed\n"
     ]
    },
    {
     "name": "stderr",
     "output_type": "stream",
     "text": [
      " 80%|███████████████████████████████████████████████████████████████████████████████████████████████████████████████████████████████████████████████████████████████████████████▊                                            | 82081/103197 [5:24:27<46:13,  7.61it/s]"
     ]
    },
    {
     "name": "stdout",
     "output_type": "stream",
     "text": [
      "ENSG00000185955 failed\n"
     ]
    },
    {
     "name": "stderr",
     "output_type": "stream",
     "text": [
      "\r",
      " 80%|███████████████████████████████████████████████████████████████████████████████████████████████████████████████████████████████████████████████████████████████████████████▊                                            | 82082/103197 [5:24:28<54:16,  6.48it/s]"
     ]
    },
    {
     "name": "stdout",
     "output_type": "stream",
     "text": [
      "ENSG00000185955 failed\n"
     ]
    },
    {
     "name": "stderr",
     "output_type": "stream",
     "text": [
      " 80%|███████████████████████████████████████████████████████████████████████████████████████████████████████████████████████████████████████████████████████████████████████████▋                                          | 82783/103197 [5:26:18<1:24:28,  4.03it/s]"
     ]
    },
    {
     "name": "stdout",
     "output_type": "stream",
     "text": [
      "ENSG00000239969 failed\n"
     ]
    },
    {
     "name": "stderr",
     "output_type": "stream",
     "text": [
      "\r",
      " 80%|███████████████████████████████████████████████████████████████████████████████████████████████████████████████████████████████████████████████████████████████████████████▋                                          | 82784/103197 [5:26:18<1:35:14,  3.57it/s]"
     ]
    },
    {
     "name": "stdout",
     "output_type": "stream",
     "text": [
      "ENSG00000239969 failed\n"
     ]
    },
    {
     "name": "stderr",
     "output_type": "stream",
     "text": [
      "\r",
      " 80%|███████████████████████████████████████████████████████████████████████████████████████████████████████████████████████████████████████████████████████████████████████████▋                                          | 82785/103197 [5:26:19<1:59:00,  2.86it/s]"
     ]
    },
    {
     "name": "stdout",
     "output_type": "stream",
     "text": [
      "ENSG00000239969 failed\n"
     ]
    },
    {
     "name": "stderr",
     "output_type": "stream",
     "text": [
      "\r",
      " 80%|███████████████████████████████████████████████████████████████████████████████████████████████████████████████████████████████████████████████████████████████████████████▋                                          | 82786/103197 [5:26:20<2:26:06,  2.33it/s]"
     ]
    },
    {
     "name": "stdout",
     "output_type": "stream",
     "text": [
      "ENSG00000239969 failed\n"
     ]
    },
    {
     "name": "stderr",
     "output_type": "stream",
     "text": [
      "\r",
      " 80%|███████████████████████████████████████████████████████████████████████████████████████████████████████████████████████████████████████████████████████████████████████████▋                                          | 82787/103197 [5:26:20<2:44:29,  2.07it/s]"
     ]
    },
    {
     "name": "stdout",
     "output_type": "stream",
     "text": [
      "ENSG00000239969 failed\n"
     ]
    },
    {
     "name": "stderr",
     "output_type": "stream",
     "text": [
      " 80%|████████████████████████████████████████████████████████████████████████████████████████████████████████████████████████████████████████████████████████████████████████████                                          | 82964/103197 [5:26:46<2:13:13,  2.53it/s]"
     ]
    },
    {
     "name": "stdout",
     "output_type": "stream",
     "text": [
      "ENSG00000272949 failed\n"
     ]
    },
    {
     "name": "stderr",
     "output_type": "stream",
     "text": [
      "\r",
      " 80%|████████████████████████████████████████████████████████████████████████████████████████████████████████████████████████████████████████████████████████████████████████████                                          | 82965/103197 [5:26:47<2:06:59,  2.66it/s]"
     ]
    },
    {
     "name": "stdout",
     "output_type": "stream",
     "text": [
      "ENSG00000272949 failed\n"
     ]
    },
    {
     "name": "stderr",
     "output_type": "stream",
     "text": [
      " 80%|████████████████████████████████████████████████████████████████████████████████████████████████████████████████████████████████████████████████████████████████████████████                                          | 82967/103197 [5:26:48<2:09:51,  2.60it/s]"
     ]
    },
    {
     "name": "stdout",
     "output_type": "stream",
     "text": [
      "ENSG00000272949 failed\n"
     ]
    },
    {
     "name": "stderr",
     "output_type": "stream",
     "text": [
      " 80%|████████████████████████████████████████████████████████████████████████████████████████████████████████████████████████████████████████████████████████████████████████████▏                                         | 83011/103197 [5:27:01<1:44:03,  3.23it/s]"
     ]
    },
    {
     "name": "stdout",
     "output_type": "stream",
     "text": [
      "ENSG00000205236 failed\n",
      "ENSG00000267368 failed\n"
     ]
    },
    {
     "name": "stderr",
     "output_type": "stream",
     "text": [
      " 81%|██████████████████████████████████████████████████████████████████████████████████████████████████████████████████████████████████████████████████████████████████████████████▌                                         | 83370/103197 [5:28:07<38:19,  8.62it/s]"
     ]
    },
    {
     "name": "stdout",
     "output_type": "stream",
     "text": [
      "ENSG00000005483 failed\n"
     ]
    },
    {
     "name": "stderr",
     "output_type": "stream",
     "text": [
      " 82%|███████████████████████████████████████████████████████████████████████████████████████████████████████████████████████████████████████████████████████████████████████████████▋                                      | 84693/103197 [5:34:03<1:12:57,  4.23it/s]"
     ]
    },
    {
     "name": "stdout",
     "output_type": "stream",
     "text": [
      "ENSG00000273184 failed\n"
     ]
    },
    {
     "name": "stderr",
     "output_type": "stream",
     "text": [
      " 82%|███████████████████████████████████████████████████████████████████████████████████████████████████████████████████████████████████████████████████████████████████████████████▋                                      | 84696/103197 [5:34:04<1:09:25,  4.44it/s]"
     ]
    },
    {
     "name": "stdout",
     "output_type": "stream",
     "text": [
      "ENSG00000273184 failed\n"
     ]
    },
    {
     "name": "stderr",
     "output_type": "stream",
     "text": [
      " 85%|█████████████████████████████████████████████████████████████████████████████████████████████████████████████████████████████████████████████████████████████████████████████████████▊                                | 87657/103197 [5:43:55<1:05:45,  3.94it/s]"
     ]
    },
    {
     "name": "stdout",
     "output_type": "stream",
     "text": [
      "ENSG00000281887 failed\n"
     ]
    },
    {
     "name": "stderr",
     "output_type": "stream",
     "text": [
      " 86%|█████████████████████████████████████████████████████████████████████████████████████████████████████████████████████████████████████████████████████████████████████████████████████████                               | 88403/103197 [5:45:53<27:50,  8.86it/s]"
     ]
    },
    {
     "name": "stdout",
     "output_type": "stream",
     "text": [
      "ENSG00000214106 failed\n"
     ]
    },
    {
     "name": "stderr",
     "output_type": "stream",
     "text": [
      " 87%|██████████████████████████████████████████████████████████████████████████████████████████████████████████████████████████████████████████████████████████████████████████████████████████▏                           | 89789/103197 [5:50:55<9:12:43,  2.47s/it]"
     ]
    },
    {
     "name": "stdout",
     "output_type": "stream",
     "text": [
      "ENSG00000224972 failed\n"
     ]
    },
    {
     "name": "stderr",
     "output_type": "stream",
     "text": [
      " 87%|██████████████████████████████████████████████████████████████████████████████████████████████████████████████████████████████████████████████████████████████████████████████████████████▏                           | 89815/103197 [5:51:11<3:32:35,  1.05it/s]"
     ]
    },
    {
     "name": "stdout",
     "output_type": "stream",
     "text": [
      "ENSG00000274527 failed\n"
     ]
    },
    {
     "name": "stderr",
     "output_type": "stream",
     "text": [
      "\r",
      " 87%|██████████████████████████████████████████████████████████████████████████████████████████████████████████████████████████████████████████████████████████████████████████████████████████▎                           | 89816/103197 [5:51:13<3:50:06,  1.03s/it]"
     ]
    },
    {
     "name": "stdout",
     "output_type": "stream",
     "text": [
      "ENSG00000282960 failed\n"
     ]
    },
    {
     "name": "stderr",
     "output_type": "stream",
     "text": [
      " 87%|██████████████████████████████████████████████████████████████████████████████████████████████████████████████████████████████████████████████████████████████████████████████████████████▎                           | 89819/103197 [5:51:16<4:27:41,  1.20s/it]"
     ]
    },
    {
     "name": "stdout",
     "output_type": "stream",
     "text": [
      "ENSG00000274527 failed\n",
      "ENSG00000282960 failed\n"
     ]
    },
    {
     "name": "stderr",
     "output_type": "stream",
     "text": [
      "\r",
      " 87%|██████████████████████████████████████████████████████████████████████████████████████████████████████████████████████████████████████████████████████████████████████████████████████████▎                           | 89820/103197 [5:51:18<4:46:22,  1.28s/it]"
     ]
    },
    {
     "name": "stdout",
     "output_type": "stream",
     "text": [
      "ENSG00000274527 failed\n",
      "ENSG00000282960 failed\n"
     ]
    },
    {
     "name": "stderr",
     "output_type": "stream",
     "text": [
      " 88%|██████████████████████████████████████████████████████████████████████████████████████████████████████████████████████████████████████████████████████████████████████████████████████████████▍                         | 90983/103197 [5:55:23<34:12,  5.95it/s]"
     ]
    },
    {
     "name": "stdout",
     "output_type": "stream",
     "text": [
      "ENSG00000228352 failed\n"
     ]
    },
    {
     "name": "stderr",
     "output_type": "stream",
     "text": [
      " 89%|███████████████████████████████████████████████████████████████████████████████████████████████████████████████████████████████████████████████████████████████████████████████████████████████▍                        | 91471/103197 [5:56:33<11:24, 17.13it/s]"
     ]
    },
    {
     "name": "stdout",
     "output_type": "stream",
     "text": [
      "ENSG00000159884 failed\n"
     ]
    },
    {
     "name": "stderr",
     "output_type": "stream",
     "text": [
      " 89%|████████████████████████████████████████████████████████████████████████████████████████████████████████████████████████████████████████████████████████████████████████████████████████████████                        | 91758/103197 [5:57:07<17:08, 11.13it/s]"
     ]
    },
    {
     "name": "stdout",
     "output_type": "stream",
     "text": [
      "ENSG00000204930 failed\n"
     ]
    },
    {
     "name": "stderr",
     "output_type": "stream",
     "text": [
      "\r",
      " 89%|████████████████████████████████████████████████████████████████████████████████████████████████████████████████████████████████████████████████████████████████████████████████████████████████                        | 91760/103197 [5:57:07<18:39, 10.21it/s]"
     ]
    },
    {
     "name": "stdout",
     "output_type": "stream",
     "text": [
      "ENSG00000204930 failed\n"
     ]
    },
    {
     "name": "stderr",
     "output_type": "stream",
     "text": [
      " 89%|███████████████████████████████████████████████████████████████████████████████████████████████████████████████████████████████████████████████████████████████████████████████████████████████                       | 92122/103197 [5:58:53<1:42:53,  1.79it/s]"
     ]
    },
    {
     "name": "stdout",
     "output_type": "stream",
     "text": [
      "ENSG00000147912 failed\n"
     ]
    },
    {
     "name": "stderr",
     "output_type": "stream",
     "text": [
      "\r",
      " 89%|███████████████████████████████████████████████████████████████████████████████████████████████████████████████████████████████████████████████████████████████████████████████████████████████                       | 92123/103197 [5:58:54<1:58:57,  1.55it/s]"
     ]
    },
    {
     "name": "stdout",
     "output_type": "stream",
     "text": [
      "ENSG00000147912 failed\n"
     ]
    },
    {
     "name": "stderr",
     "output_type": "stream",
     "text": [
      " 89%|███████████████████████████████████████████████████████████████████████████████████████████████████████████████████████████████████████████████████████████████████████████████████████████████▏                      | 92174/103197 [5:59:05<1:18:14,  2.35it/s]"
     ]
    },
    {
     "name": "stdout",
     "output_type": "stream",
     "text": [
      "ENSG00000107371 failed\n"
     ]
    },
    {
     "name": "stderr",
     "output_type": "stream",
     "text": [
      " 91%|████████████████████████████████████████████████████████████████████████████████████████████████████████████████████████████████████████████████████████████████████████████████████████████████████▋                   | 93949/103197 [6:05:35<31:40,  4.87it/s]"
     ]
    },
    {
     "name": "stdout",
     "output_type": "stream",
     "text": [
      "ENSG00000186354 failed\n"
     ]
    },
    {
     "name": "stderr",
     "output_type": "stream",
     "text": [
      "\r",
      " 91%|████████████████████████████████████████████████████████████████████████████████████████████████████████████████████████████████████████████████████████████████████████████████████████████████████▋                   | 93950/103197 [6:05:36<33:29,  4.60it/s]"
     ]
    },
    {
     "name": "stdout",
     "output_type": "stream",
     "text": [
      "ENSG00000186354 failed\n"
     ]
    },
    {
     "name": "stderr",
     "output_type": "stream",
     "text": [
      " 92%|███████████████████████████████████████████████████████████████████████████████████████████████████████████████████████████████████████████████████████████████████████████████████████████████████████▊                | 95447/103197 [6:10:23<17:29,  7.39it/s]"
     ]
    },
    {
     "name": "stdout",
     "output_type": "stream",
     "text": [
      "ENSG00000095380 failed\n"
     ]
    },
    {
     "name": "stderr",
     "output_type": "stream",
     "text": [
      " 93%|████████████████████████████████████████████████████████████████████████████████████████████████████████████████████████████████████████████████████████████████████████████████████████████████████████▍               | 95757/103197 [6:11:26<30:02,  4.13it/s]"
     ]
    },
    {
     "name": "stdout",
     "output_type": "stream",
     "text": [
      "ENSG00000066697 failed\n"
     ]
    },
    {
     "name": "stderr",
     "output_type": "stream",
     "text": [
      " 94%|██████████████████████████████████████████████████████████████████████████████████████████████████████████████████████████████████████████████████████████████████████████████████████████████████████████▏             | 96609/103197 [6:14:19<11:38,  9.44it/s]"
     ]
    },
    {
     "name": "stdout",
     "output_type": "stream",
     "text": [
      "ENSG00000136867 failed\n",
      "ENSG00000136867 failed\n"
     ]
    },
    {
     "name": "stderr",
     "output_type": "stream",
     "text": [
      " 95%|████████████████████████████████████████████████████████████████████████████████████████████████████████████████████████████████████████████████████████████████████████████████████████████████████████████▎           | 97611/103197 [6:17:28<10:26,  8.92it/s]"
     ]
    },
    {
     "name": "stdout",
     "output_type": "stream",
     "text": [
      "ENSG00000227355 failed\n",
      "ENSG00000227355 failed\n"
     ]
    },
    {
     "name": "stderr",
     "output_type": "stream",
     "text": [
      " 96%|██████████████████████████████████████████████████████████████████████████████████████████████████████████████████████████████████████████████████████████████████████████████████████████████████████████████▊         | 98818/103197 [6:21:59<07:00, 10.40it/s]"
     ]
    },
    {
     "name": "stdout",
     "output_type": "stream",
     "text": [
      "ENSG00000225032 failed\n",
      "ENSG00000225032 failed\n",
      "ENSG00000225032 failed\n"
     ]
    },
    {
     "name": "stderr",
     "output_type": "stream",
     "text": [
      " 96%|██████████████████████████████████████████████████████████████████████████████████████████████████████████████████████████████████████████████████████████████████████████████████████████████████████████████▉         | 98857/103197 [6:22:06<13:00,  5.56it/s]"
     ]
    },
    {
     "name": "stdout",
     "output_type": "stream",
     "text": [
      "ENSG00000257524 failed\n"
     ]
    },
    {
     "name": "stderr",
     "output_type": "stream",
     "text": [
      " 99%|████████████████████████████████████████████████████████████████████████████████████████████████████████████████████████████████████████████████████████████████████████████████████████████████████████████████████▊  | 102120/103197 [6:30:29<03:47,  4.74it/s]"
     ]
    },
    {
     "name": "stdout",
     "output_type": "stream",
     "text": [
      "ENSG00000244187 failed\n"
     ]
    },
    {
     "name": "stderr",
     "output_type": "stream",
     "text": [
      " 99%|████████████████████████████████████████████████████████████████████████████████████████████████████████████████████████████████████████████████████████████████████████████████████████████████████████████████████▊  | 102152/103197 [6:30:37<05:20,  3.26it/s]"
     ]
    },
    {
     "name": "stdout",
     "output_type": "stream",
     "text": [
      "ENSG00000273066 failed\n"
     ]
    },
    {
     "name": "stderr",
     "output_type": "stream",
     "text": [
      "100%|███████████████████████████████████████████████████████████████████████████████████████████████████████████████████████████████████████████████████████████████████████████████████████████████████████████████████████| 103197/103197 [6:33:11<00:00,  4.37it/s]\n"
     ]
    }
   ],
   "source": [
    "def predictSplicing(seq,models):\n",
    "    outputs = []\n",
    "    for i in range(seq.shape[0]):\n",
    "        Xc = torch.tensor(seq[i,:,:], device=device).float().unsqueeze(0).numpy()\n",
    "        #Xc = torch.swapaxes(batch_features,1,2)\n",
    "        predictions = []\n",
    "        for v in range(n_models):\n",
    "            Yp = models[v].predict(Xc, batch_size=1)\n",
    "            predictions.append(Yp)\n",
    "        predictions = (predictions[0]+predictions[1]+predictions[2]+predictions[3]+predictions[4])/n_models\n",
    "        outputs.append(np.swapaxes(predictions,1,2))\n",
    "    \n",
    "    outputs = np.concatenate(outputs,axis=2)\n",
    "    #outputs = outputs.cpu().detach().numpy()\n",
    "    return outputs\n",
    "\n",
    "def plotPrediction(outputs):\n",
    "    plt.rcParams.update({'font.size': 18})\n",
    "    fig, (ax1, ax2) = plt.subplots(2, 1,figsize=(22, 6),sharex=True)\n",
    "    x = np.arange(outputs.shape[2])\n",
    "    ax1.plot(x,outputs[0,1,:],linewidth=2,zorder=-32)\n",
    "    ax2.plot(x,outputs[0,2,:],linewidth=2,zorder=-32)\n",
    "    plt.xlabel('Distance from transcript start (nt)')\n",
    "    ax1.set_ylabel('Acceptor score')\n",
    "    ax2.set_ylabel('Donor Score')\n",
    "    ax1.legend(prop={'size': 14})\n",
    "    ax2.legend(prop={'size': 14})\n",
    "    plt.tight_layout()\n",
    "    plt.show()\n",
    "\n",
    "def ceil_div(x, y):\n",
    "\n",
    "    return int(ceil(float(x)/y))\n",
    "\n",
    "\n",
    "IN_MAP = np.asarray([[0, 0, 0, 0],\n",
    "                     [1, 0, 0, 0],\n",
    "                     [0, 1, 0, 0],\n",
    "                     [0, 0, 1, 0],\n",
    "                     [0, 0, 0, 1]])\n",
    "\n",
    "def one_hot_encode(Xd):\n",
    "\n",
    "    return IN_MAP[Xd.astype('int8')]\n",
    "\n",
    "def reformat_data(X0):\n",
    "    # This function converts X0, Y0 of the create_datapoints function into\n",
    "    # blocks such that the data is broken down into data points where the\n",
    "    # input is a sequence of length SL+CL_max corresponding to SL nucleotides\n",
    "    # of interest and CL_max context nucleotides, the output is a sequence of\n",
    "    # length SL corresponding to the splicing information of the nucleotides\n",
    "    # of interest. The CL_max context nucleotides are such that they are\n",
    "    # CL_max/2 on either side of the SL nucleotides of interest.\n",
    "\n",
    "    num_points = ceil_div(len(X0)-CL_max, SL)\n",
    "    Xd = np.zeros((num_points, SL+CL_max))\n",
    "    X0 = np.pad(X0, [0, SL], 'constant', constant_values=0)\n",
    "\n",
    "    for i in range(num_points):\n",
    "        Xd[i] = X0[SL*i:CL_max+SL*(i+1)]\n",
    "\n",
    "    return Xd\n",
    "\n",
    "def seqToArray(seq,strand):\n",
    "    seq = 'N'*(CL_max//2) + seq + 'N'*(CL_max//2)\n",
    "    seq = seq.upper()\n",
    "    seq = re.sub(r'[^AGTC]', '0',seq)\n",
    "    seq = seq.replace('A', '1').replace('C', '2')\n",
    "    seq = seq.replace('G', '3').replace('T', '4').replace('N', '0')\n",
    "    if strand == '+':\n",
    "        X0 = np.asarray([int(x) for x in seq])\n",
    "            \n",
    "    elif strand == '-':\n",
    "        X0 = (5-np.asarray([int(x) for x in seq[::-1]])) % 5  # Reverse complement\n",
    "        \n",
    "    Xd = reformat_data(X0)\n",
    "    return  one_hot_encode(Xd)\n",
    "    \n",
    "#acceptorDeltas = []\n",
    "#donorDeltas = []\n",
    "results = {}\n",
    "\n",
    "for i in tqdm(range(df.shape[0])):\n",
    "    #gtf['ENSG00000223972'][4]\n",
    "    gene_ids = df['Gene_id'].iloc[i].split(',')\n",
    "    chrm = df['Chrom_x'].iloc[i]\n",
    "    #strand = df['Strand'].iloc[i]\n",
    "    jn_start = df['Start'].iloc[i]\n",
    "    jn_end = df['End_x'].iloc[i]\n",
    "    \n",
    "    #starts,ends = [],[]\n",
    "    for gene_id in gene_ids:\n",
    "        try:\n",
    "            strand = gtf[gene_id][6]\n",
    "            gene_start,gene_end = gtf[gene_id][3],gtf[gene_id][4]\n",
    "            #starts.append(tmp[0])\n",
    "            #ends.append(tmp[1])\n",
    "\n",
    "        #gene_start,gene_end = np.min(starts),np.max(ends)\n",
    "\n",
    "        #pos = df_gene['Pos'].iloc[0]\n",
    "            start,end = np.max([np.max([1,jn_start-CL_max//2]),gene_start]),np.min([jn_end+CL_max//2,gene_end])\n",
    "            if jn_start-start < 1:\n",
    "                start = np.max([1,jn_start-CL_max//2])\n",
    "            #if strand=='-':\n",
    "            #    starts,ends = [],[]\n",
    "            #    for i in range(df_gene.shape[0]):\n",
    "            #        starts.append(pos+df_gene['acceptor'].iloc[i]-CL_max//2-SL//2)\n",
    "            #        ends.append(pos+df_gene['donor'].iloc[i]+CL_max//2+SL//2)\n",
    "            #    start2,end2 = np.min(starts),np.max(ends)\n",
    "            #    start = np.min([start,start2])\n",
    "            #    end = np.max([end,end2])\n",
    "            #else:\n",
    "            #    starts,ends = [],[]\n",
    "            #    for i in range(df_gene.shape[0]):\n",
    "            #        starts.append(pos-df_gene['donor'].iloc[i]-CL_max//2-SL//2)\n",
    "            #        ends.append(pos-df_gene['acceptor'].iloc[i]+CL_max//2+SL//2)\n",
    "            #    start2,end2 = np.min(starts),np.max(ends)\n",
    "            #    start = np.min([start,start2])\n",
    "            #    end = np.max([end,end2])\n",
    "\n",
    "            #ref_s = df_gene['REF'].iloc[0]\n",
    "            #alt_s = df_gene['ALT'].iloc[0]\n",
    "            #pos_s = pos-start\n",
    "\n",
    "            ref = fasta[chrm][start-1:end].seq\n",
    "            ref_len2 = len(ref)\n",
    "            has_sQTL = df['ALT'].iloc[i] == df['ALT'].iloc[i]\n",
    "            if has_sQTL:\n",
    "                alt = ref\n",
    "                ref_s = df['REF'].iloc[i]\n",
    "                alt_s = df['ALT'].iloc[i]\n",
    "                pos = int(df['Pos'].iloc[i])\n",
    "                pos_s = pos-start\n",
    "                ref_len = len(ref_s)\n",
    "                alt_len = len(alt_s)\n",
    "\n",
    "                assert ref_s == ref[pos_s:(pos_s+ref_len)]\n",
    "                alt = alt[:pos_s]+alt_s+alt[(pos_s+ref_len):]\n",
    "                alt_align = np.arange(len(ref))\n",
    "                alt_align = np.concatenate([alt_align[:pos_s],np.repeat(pos_s,alt_len),alt_align[pos_s+ref_len:]])\n",
    "                alt_len2 = len(alt)\n",
    "                alt = seqToArray(alt,strand)\n",
    "                alt_prediction = predictSplicing(alt,models)[0,:,:alt_len2]\n",
    "\n",
    "            ref = seqToArray(ref,strand)\n",
    "            ref_prediction = predictSplicing(ref,models)[0,:,:ref_len2] \n",
    "            tmp = np.zeros_like(ref_prediction)\n",
    "\n",
    "            if strand=='-':\n",
    "                ref_prediction = ref_prediction[:,::-1]\n",
    "                acceptor_loc =jn_start-start\n",
    "                donor_loc = jn_end-start+1\n",
    "                if has_sQTL:\n",
    "                    alt_prediction = alt_prediction[:,::-1]\n",
    "                    alt_prediction = np.concatenate([alt_prediction[:,:pos_s],ref_prediction[:,pos_s:pos_s+ref_len],alt_prediction[:,pos_s+alt_len:]],axis=1)\n",
    "            else:\n",
    "                acceptor_loc = jn_end-start+1\n",
    "                donor_loc = jn_start-start\n",
    "\n",
    "                if has_sQTL:\n",
    "                    alt_prediction = np.concatenate([alt_prediction[:,:pos_s],ref_prediction[:,pos_s:pos_s+ref_len],alt_prediction[:,pos_s+alt_len:]],axis=1)\n",
    "\n",
    "            ref_acceptor = ref_prediction[1,acceptor_loc]\n",
    "            ref_donor = ref_prediction[2,donor_loc]\n",
    "            #print(strand,df['is_annotated_x'].iloc[i],df['jct_sites'].iloc[i])\n",
    "            #print(ref_acceptor[acceptor_loc],ref_donor[donor_loc])\n",
    "\n",
    "\n",
    "            if has_sQTL:\n",
    "                #print('Alt prediction ({})'.format(df['ALT'].iloc[i]))\n",
    "                alt_acceptor = alt_prediction[1,acceptor_loc]\n",
    "                alt_donor = alt_prediction[2,donor_loc]\n",
    "                #print(alt_acceptor[acceptor_loc],alt_donor[donor_loc])\n",
    "            else:\n",
    "                alt_acceptor = float('nan')\n",
    "                alt_donor = float('nan')\n",
    "\n",
    "            results[df['splice_event_id'].iloc[i]] = [ref_acceptor,ref_donor,alt_acceptor,alt_donor]\n",
    "            #plt.plot(ref_prediction[1,:])\n",
    "            #plt.plot(alt_prediction[1,:])\n",
    "        #plt.show()\n",
    "\n",
    "     #   for i in range(df_gene.shape[0]):\n",
    "     #       if strand=='-':\n",
    "     #           acceptor_loc = df_gene['acceptor'].iloc[i]+pos_s\n",
    "     #           donor_loc = df_gene['donor'].iloc[i]+pos_s\n",
    "     #       else:\n",
    "     #           acceptor_loc = pos_s-df_gene['acceptor'].iloc[i]\n",
    "     #           donor_loc = pos_s-df_gene['donor'].iloc[i]\n",
    "\n",
    "     #       acceptor_delta_nr = alt_acceptor.shape[0]-np.argsort(np.argsort(np.absolute(acceptorDelta)))[acceptor_loc]\n",
    "     #       donor_delta_nr = alt_donor.shape[0]-np.argsort(np.argsort(np.absolute(donorDelta)))[donor_loc]\n",
    "     #       top_a_creation_pos = np.argmax(acceptorDelta)\n",
    "     #       top_d_creation_pos = np.argmax(donorDelta)\n",
    "     #       top_a_disruption_pos = np.argmin(acceptorDelta)\n",
    "     #       top_d_disruption_pos = np.argmin(donorDelta)\n",
    "     #       top_a_creation_delta = acceptorDelta[top_a_creation_pos]\n",
    "      #      top_d_creation_delta = donorDelta[top_d_creation_pos]\n",
    "      #      top_a_disruption_delta = acceptorDelta[top_a_disruption_pos]\n",
    "      #      top_d_disruption_delta = donorDelta[top_d_disruption_pos]\n",
    "\n",
    "      #      results[df_gene['splice_event_id'].iloc[i]] = [acceptorDelta[acceptor_loc],donorDelta[donor_loc],ref_acceptor[acceptor_loc],ref_donor[donor_loc],alt_acceptor[acceptor_loc],alt_donor[donor_loc],acceptor_delta_nr,donor_delta_nr,start+top_a_creation_pos,start+top_d_creation_pos,start+top_a_disruption_pos,start+top_d_disruption_pos,top_a_creation_delta,top_d_creation_delta,top_a_disruption_delta,top_d_disruption_delta]\n",
    "        except:\n",
    "            print('{} failed'.format(gene_id))"
   ]
  },
  {
   "cell_type": "code",
   "execution_count": 14,
   "id": "5f4eac26",
   "metadata": {},
   "outputs": [],
   "source": [
    "with open('/odinn/tmp/benediktj/Data/SplicePrediction-050422/novel_splice_sites_spliceai_pretrained.pkl', 'wb') as f:\n",
    "    pickle.dump(results, f)"
   ]
  },
  {
   "cell_type": "code",
   "execution_count": 6,
   "id": "8ee22b1f",
   "metadata": {},
   "outputs": [],
   "source": [
    "import pandas as pd\n",
    "import matplotlib.pyplot as plt\n",
    "import pickle\n",
    "import numpy as np"
   ]
  },
  {
   "cell_type": "code",
   "execution_count": 7,
   "id": "0e2245b3",
   "metadata": {},
   "outputs": [],
   "source": [
    "with open('/odinn/tmp/benediktj/Data/SplicePrediction-050422/novel_splice_sites_spliceai_pretrained.pkl', 'rb') as f:\n",
    "    splice_ai_results = pickle.load(f)"
   ]
  },
  {
   "cell_type": "code",
   "execution_count": 8,
   "id": "27aca544",
   "metadata": {},
   "outputs": [
    {
     "ename": "NameError",
     "evalue": "name 'results' is not defined",
     "output_type": "error",
     "traceback": [
      "\u001b[0;31m---------------------------------------------------------------------------\u001b[0m",
      "\u001b[0;31mNameError\u001b[0m                                 Traceback (most recent call last)",
      "\u001b[0;32m/tmp/ipykernel_32536/434278514.py\u001b[0m in \u001b[0;36m<module>\u001b[0;34m\u001b[0m\n\u001b[0;32m----> 1\u001b[0;31m \u001b[0msplice_ai_results\u001b[0m \u001b[0;34m=\u001b[0m \u001b[0mresults\u001b[0m\u001b[0;34m\u001b[0m\u001b[0;34m\u001b[0m\u001b[0m\n\u001b[0m",
      "\u001b[0;31mNameError\u001b[0m: name 'results' is not defined"
     ]
    }
   ],
   "source": [
    "#splice_ai_results = results"
   ]
  },
  {
   "cell_type": "code",
   "execution_count": 10,
   "id": "e4e59f64",
   "metadata": {},
   "outputs": [],
   "source": [
    "df2 = pd.DataFrame(splice_ai_results).T\n",
    "df2.columns = ['ref_acceptor','ref_donor','alt_acceptor','alt_donor']\n",
    "df2.index.name = 'splice_event_id'\n"
   ]
  },
  {
   "cell_type": "code",
   "execution_count": 11,
   "id": "b96c7984",
   "metadata": {},
   "outputs": [
    {
     "data": {
      "text/html": [
       "<div>\n",
       "<style scoped>\n",
       "    .dataframe tbody tr th:only-of-type {\n",
       "        vertical-align: middle;\n",
       "    }\n",
       "\n",
       "    .dataframe tbody tr th {\n",
       "        vertical-align: top;\n",
       "    }\n",
       "\n",
       "    .dataframe thead th {\n",
       "        text-align: right;\n",
       "    }\n",
       "</style>\n",
       "<table border=\"1\" class=\"dataframe\">\n",
       "  <thead>\n",
       "    <tr style=\"text-align: right;\">\n",
       "      <th></th>\n",
       "      <th>ref_acceptor</th>\n",
       "      <th>ref_donor</th>\n",
       "      <th>alt_acceptor</th>\n",
       "      <th>alt_donor</th>\n",
       "    </tr>\n",
       "    <tr>\n",
       "      <th>splice_event_id</th>\n",
       "      <th></th>\n",
       "      <th></th>\n",
       "      <th></th>\n",
       "      <th></th>\n",
       "    </tr>\n",
       "  </thead>\n",
       "  <tbody>\n",
       "    <tr>\n",
       "      <th>chr1:12721:13402</th>\n",
       "      <td>0.471970</td>\n",
       "      <td>0.271217</td>\n",
       "      <td>NaN</td>\n",
       "      <td>NaN</td>\n",
       "    </tr>\n",
       "    <tr>\n",
       "      <th>chr1:13052:13220</th>\n",
       "      <td>0.056682</td>\n",
       "      <td>0.005326</td>\n",
       "      <td>NaN</td>\n",
       "      <td>NaN</td>\n",
       "    </tr>\n",
       "    <tr>\n",
       "      <th>chr1:182746:183015</th>\n",
       "      <td>0.095083</td>\n",
       "      <td>0.574325</td>\n",
       "      <td>NaN</td>\n",
       "      <td>NaN</td>\n",
       "    </tr>\n",
       "    <tr>\n",
       "      <th>chr1:182746:183113</th>\n",
       "      <td>0.087244</td>\n",
       "      <td>0.574325</td>\n",
       "      <td>NaN</td>\n",
       "      <td>NaN</td>\n",
       "    </tr>\n",
       "    <tr>\n",
       "      <th>chr1:182746:183131</th>\n",
       "      <td>0.589252</td>\n",
       "      <td>0.574325</td>\n",
       "      <td>NaN</td>\n",
       "      <td>NaN</td>\n",
       "    </tr>\n",
       "    <tr>\n",
       "      <th>...</th>\n",
       "      <td>...</td>\n",
       "      <td>...</td>\n",
       "      <td>...</td>\n",
       "      <td>...</td>\n",
       "    </tr>\n",
       "    <tr>\n",
       "      <th>chr9:138175522:138175600</th>\n",
       "      <td>0.921316</td>\n",
       "      <td>0.406088</td>\n",
       "      <td>NaN</td>\n",
       "      <td>NaN</td>\n",
       "    </tr>\n",
       "    <tr>\n",
       "      <th>chr9:138175711:138176206</th>\n",
       "      <td>0.987783</td>\n",
       "      <td>0.924636</td>\n",
       "      <td>NaN</td>\n",
       "      <td>NaN</td>\n",
       "    </tr>\n",
       "    <tr>\n",
       "      <th>chr9:138175901:138176038</th>\n",
       "      <td>0.441126</td>\n",
       "      <td>0.617966</td>\n",
       "      <td>NaN</td>\n",
       "      <td>NaN</td>\n",
       "    </tr>\n",
       "    <tr>\n",
       "      <th>chr9:138175901:138176206</th>\n",
       "      <td>0.987783</td>\n",
       "      <td>0.617966</td>\n",
       "      <td>NaN</td>\n",
       "      <td>NaN</td>\n",
       "    </tr>\n",
       "    <tr>\n",
       "      <th>chr9:138176206:138176883</th>\n",
       "      <td>0.108562</td>\n",
       "      <td>0.035134</td>\n",
       "      <td>NaN</td>\n",
       "      <td>NaN</td>\n",
       "    </tr>\n",
       "  </tbody>\n",
       "</table>\n",
       "<p>103086 rows × 4 columns</p>\n",
       "</div>"
      ],
      "text/plain": [
       "                          ref_acceptor  ref_donor  alt_acceptor  alt_donor\n",
       "splice_event_id                                                           \n",
       "chr1:12721:13402              0.471970   0.271217           NaN        NaN\n",
       "chr1:13052:13220              0.056682   0.005326           NaN        NaN\n",
       "chr1:182746:183015            0.095083   0.574325           NaN        NaN\n",
       "chr1:182746:183113            0.087244   0.574325           NaN        NaN\n",
       "chr1:182746:183131            0.589252   0.574325           NaN        NaN\n",
       "...                                ...        ...           ...        ...\n",
       "chr9:138175522:138175600      0.921316   0.406088           NaN        NaN\n",
       "chr9:138175711:138176206      0.987783   0.924636           NaN        NaN\n",
       "chr9:138175901:138176038      0.441126   0.617966           NaN        NaN\n",
       "chr9:138175901:138176206      0.987783   0.617966           NaN        NaN\n",
       "chr9:138176206:138176883      0.108562   0.035134           NaN        NaN\n",
       "\n",
       "[103086 rows x 4 columns]"
      ]
     },
     "execution_count": 11,
     "metadata": {},
     "output_type": "execute_result"
    }
   ],
   "source": [
    "df2"
   ]
  },
  {
   "cell_type": "code",
   "execution_count": 12,
   "id": "fb79cfa6",
   "metadata": {},
   "outputs": [
    {
     "data": {
      "text/html": [
       "<div>\n",
       "<style scoped>\n",
       "    .dataframe tbody tr th:only-of-type {\n",
       "        vertical-align: middle;\n",
       "    }\n",
       "\n",
       "    .dataframe tbody tr th {\n",
       "        vertical-align: top;\n",
       "    }\n",
       "\n",
       "    .dataframe thead th {\n",
       "        text-align: right;\n",
       "    }\n",
       "</style>\n",
       "<table border=\"1\" class=\"dataframe\">\n",
       "  <thead>\n",
       "    <tr style=\"text-align: right;\">\n",
       "      <th></th>\n",
       "      <th>ref_acceptor</th>\n",
       "      <th>ref_donor</th>\n",
       "      <th>alt_acceptor</th>\n",
       "      <th>alt_donor</th>\n",
       "    </tr>\n",
       "    <tr>\n",
       "      <th>splice_event_id</th>\n",
       "      <th></th>\n",
       "      <th></th>\n",
       "      <th></th>\n",
       "      <th></th>\n",
       "    </tr>\n",
       "  </thead>\n",
       "  <tbody>\n",
       "    <tr>\n",
       "      <th>chr1:12721:13402</th>\n",
       "      <td>0.471970</td>\n",
       "      <td>0.271217</td>\n",
       "      <td>NaN</td>\n",
       "      <td>NaN</td>\n",
       "    </tr>\n",
       "    <tr>\n",
       "      <th>chr1:13052:13220</th>\n",
       "      <td>0.056682</td>\n",
       "      <td>0.005326</td>\n",
       "      <td>NaN</td>\n",
       "      <td>NaN</td>\n",
       "    </tr>\n",
       "    <tr>\n",
       "      <th>chr1:182746:183015</th>\n",
       "      <td>0.095083</td>\n",
       "      <td>0.574325</td>\n",
       "      <td>NaN</td>\n",
       "      <td>NaN</td>\n",
       "    </tr>\n",
       "    <tr>\n",
       "      <th>chr1:182746:183113</th>\n",
       "      <td>0.087244</td>\n",
       "      <td>0.574325</td>\n",
       "      <td>NaN</td>\n",
       "      <td>NaN</td>\n",
       "    </tr>\n",
       "    <tr>\n",
       "      <th>chr1:182746:183131</th>\n",
       "      <td>0.589252</td>\n",
       "      <td>0.574325</td>\n",
       "      <td>NaN</td>\n",
       "      <td>NaN</td>\n",
       "    </tr>\n",
       "    <tr>\n",
       "      <th>...</th>\n",
       "      <td>...</td>\n",
       "      <td>...</td>\n",
       "      <td>...</td>\n",
       "      <td>...</td>\n",
       "    </tr>\n",
       "    <tr>\n",
       "      <th>chr9:138175522:138175600</th>\n",
       "      <td>0.921316</td>\n",
       "      <td>0.406088</td>\n",
       "      <td>NaN</td>\n",
       "      <td>NaN</td>\n",
       "    </tr>\n",
       "    <tr>\n",
       "      <th>chr9:138175711:138176206</th>\n",
       "      <td>0.987783</td>\n",
       "      <td>0.924636</td>\n",
       "      <td>NaN</td>\n",
       "      <td>NaN</td>\n",
       "    </tr>\n",
       "    <tr>\n",
       "      <th>chr9:138175901:138176038</th>\n",
       "      <td>0.441126</td>\n",
       "      <td>0.617966</td>\n",
       "      <td>NaN</td>\n",
       "      <td>NaN</td>\n",
       "    </tr>\n",
       "    <tr>\n",
       "      <th>chr9:138175901:138176206</th>\n",
       "      <td>0.987783</td>\n",
       "      <td>0.617966</td>\n",
       "      <td>NaN</td>\n",
       "      <td>NaN</td>\n",
       "    </tr>\n",
       "    <tr>\n",
       "      <th>chr9:138176206:138176883</th>\n",
       "      <td>0.108562</td>\n",
       "      <td>0.035134</td>\n",
       "      <td>NaN</td>\n",
       "      <td>NaN</td>\n",
       "    </tr>\n",
       "  </tbody>\n",
       "</table>\n",
       "<p>103086 rows × 4 columns</p>\n",
       "</div>"
      ],
      "text/plain": [
       "                          ref_acceptor  ref_donor  alt_acceptor  alt_donor\n",
       "splice_event_id                                                           \n",
       "chr1:12721:13402              0.471970   0.271217           NaN        NaN\n",
       "chr1:13052:13220              0.056682   0.005326           NaN        NaN\n",
       "chr1:182746:183015            0.095083   0.574325           NaN        NaN\n",
       "chr1:182746:183113            0.087244   0.574325           NaN        NaN\n",
       "chr1:182746:183131            0.589252   0.574325           NaN        NaN\n",
       "...                                ...        ...           ...        ...\n",
       "chr9:138175522:138175600      0.921316   0.406088           NaN        NaN\n",
       "chr9:138175711:138176206      0.987783   0.924636           NaN        NaN\n",
       "chr9:138175901:138176038      0.441126   0.617966           NaN        NaN\n",
       "chr9:138175901:138176206      0.987783   0.617966           NaN        NaN\n",
       "chr9:138176206:138176883      0.108562   0.035134           NaN        NaN\n",
       "\n",
       "[103086 rows x 4 columns]"
      ]
     },
     "execution_count": 12,
     "metadata": {},
     "output_type": "execute_result"
    }
   ],
   "source": [
    "df2"
   ]
  },
  {
   "cell_type": "code",
   "execution_count": 16,
   "id": "62b5d9ec",
   "metadata": {},
   "outputs": [],
   "source": [
    "df1 = pd.read_csv('/odinn/users/gislih/RNA/requests/rna_paper/splice_anno/junction_db.tsv.gz', compression='gzip', sep='\\t')\n",
    "chroms = ['chr1', 'chr3', 'chr5', 'chr7', 'chr9']\n",
    "df1 = df1[df1.Chrom.isin(chroms)]"
   ]
  },
  {
   "cell_type": "code",
   "execution_count": 17,
   "id": "90ca552f",
   "metadata": {},
   "outputs": [],
   "source": [
    "df1['splice_event_id'] = ['{}:{}:{}'.format(df1.iloc[i,0],df1.iloc[i,1],df1.iloc[i,2]) for i in range(df1.shape[0])]"
   ]
  },
  {
   "cell_type": "code",
   "execution_count": 18,
   "id": "a96dc29c",
   "metadata": {},
   "outputs": [],
   "source": [
    "results = df2.merge(df1,on='splice_event_id')[['ref_acceptor','ref_donor','alt_acceptor','alt_donor','jct_sites']]"
   ]
  },
  {
   "cell_type": "code",
   "execution_count": 19,
   "id": "323d54f9",
   "metadata": {},
   "outputs": [
    {
     "data": {
      "text/html": [
       "<div>\n",
       "<style scoped>\n",
       "    .dataframe tbody tr th:only-of-type {\n",
       "        vertical-align: middle;\n",
       "    }\n",
       "\n",
       "    .dataframe tbody tr th {\n",
       "        vertical-align: top;\n",
       "    }\n",
       "\n",
       "    .dataframe thead th {\n",
       "        text-align: right;\n",
       "    }\n",
       "</style>\n",
       "<table border=\"1\" class=\"dataframe\">\n",
       "  <thead>\n",
       "    <tr style=\"text-align: right;\">\n",
       "      <th></th>\n",
       "      <th>ref_acceptor</th>\n",
       "      <th>ref_donor</th>\n",
       "      <th>alt_acceptor</th>\n",
       "      <th>alt_donor</th>\n",
       "      <th>jct_sites</th>\n",
       "    </tr>\n",
       "  </thead>\n",
       "  <tbody>\n",
       "    <tr>\n",
       "      <th>0</th>\n",
       "      <td>0.471970</td>\n",
       "      <td>0.271217</td>\n",
       "      <td>NaN</td>\n",
       "      <td>NaN</td>\n",
       "      <td>novel_acceptor</td>\n",
       "    </tr>\n",
       "    <tr>\n",
       "      <th>2</th>\n",
       "      <td>0.095083</td>\n",
       "      <td>0.574325</td>\n",
       "      <td>NaN</td>\n",
       "      <td>NaN</td>\n",
       "      <td>novel_acceptor</td>\n",
       "    </tr>\n",
       "    <tr>\n",
       "      <th>4</th>\n",
       "      <td>0.589252</td>\n",
       "      <td>0.574325</td>\n",
       "      <td>NaN</td>\n",
       "      <td>NaN</td>\n",
       "      <td>novel_acceptor</td>\n",
       "    </tr>\n",
       "    <tr>\n",
       "      <th>5</th>\n",
       "      <td>0.126997</td>\n",
       "      <td>0.574325</td>\n",
       "      <td>NaN</td>\n",
       "      <td>NaN</td>\n",
       "      <td>novel_acceptor</td>\n",
       "    </tr>\n",
       "    <tr>\n",
       "      <th>7</th>\n",
       "      <td>0.082952</td>\n",
       "      <td>0.264501</td>\n",
       "      <td>NaN</td>\n",
       "      <td>NaN</td>\n",
       "      <td>novel_acceptor</td>\n",
       "    </tr>\n",
       "    <tr>\n",
       "      <th>...</th>\n",
       "      <td>...</td>\n",
       "      <td>...</td>\n",
       "      <td>...</td>\n",
       "      <td>...</td>\n",
       "      <td>...</td>\n",
       "    </tr>\n",
       "    <tr>\n",
       "      <th>103008</th>\n",
       "      <td>0.819687</td>\n",
       "      <td>0.888411</td>\n",
       "      <td>NaN</td>\n",
       "      <td>NaN</td>\n",
       "      <td>novel_acceptor</td>\n",
       "    </tr>\n",
       "    <tr>\n",
       "      <th>103037</th>\n",
       "      <td>0.347918</td>\n",
       "      <td>0.877052</td>\n",
       "      <td>NaN</td>\n",
       "      <td>NaN</td>\n",
       "      <td>novel_acceptor</td>\n",
       "    </tr>\n",
       "    <tr>\n",
       "      <th>103057</th>\n",
       "      <td>0.974764</td>\n",
       "      <td>0.997718</td>\n",
       "      <td>NaN</td>\n",
       "      <td>NaN</td>\n",
       "      <td>novel_acceptor</td>\n",
       "    </tr>\n",
       "    <tr>\n",
       "      <th>103076</th>\n",
       "      <td>0.009249</td>\n",
       "      <td>0.997876</td>\n",
       "      <td>NaN</td>\n",
       "      <td>NaN</td>\n",
       "      <td>novel_acceptor</td>\n",
       "    </tr>\n",
       "    <tr>\n",
       "      <th>103083</th>\n",
       "      <td>0.441126</td>\n",
       "      <td>0.617966</td>\n",
       "      <td>NaN</td>\n",
       "      <td>NaN</td>\n",
       "      <td>novel_acceptor</td>\n",
       "    </tr>\n",
       "  </tbody>\n",
       "</table>\n",
       "<p>15883 rows × 5 columns</p>\n",
       "</div>"
      ],
      "text/plain": [
       "        ref_acceptor  ref_donor  alt_acceptor  alt_donor       jct_sites\n",
       "0           0.471970   0.271217           NaN        NaN  novel_acceptor\n",
       "2           0.095083   0.574325           NaN        NaN  novel_acceptor\n",
       "4           0.589252   0.574325           NaN        NaN  novel_acceptor\n",
       "5           0.126997   0.574325           NaN        NaN  novel_acceptor\n",
       "7           0.082952   0.264501           NaN        NaN  novel_acceptor\n",
       "...              ...        ...           ...        ...             ...\n",
       "103008      0.819687   0.888411           NaN        NaN  novel_acceptor\n",
       "103037      0.347918   0.877052           NaN        NaN  novel_acceptor\n",
       "103057      0.974764   0.997718           NaN        NaN  novel_acceptor\n",
       "103076      0.009249   0.997876           NaN        NaN  novel_acceptor\n",
       "103083      0.441126   0.617966           NaN        NaN  novel_acceptor\n",
       "\n",
       "[15883 rows x 5 columns]"
      ]
     },
     "execution_count": 19,
     "metadata": {},
     "output_type": "execute_result"
    }
   ],
   "source": [
    "results[results['jct_sites']=='novel_acceptor']"
   ]
  },
  {
   "cell_type": "code",
   "execution_count": 20,
   "id": "63f60b90",
   "metadata": {},
   "outputs": [],
   "source": [
    "results['max_acceptor'] = np.max(results[['ref_acceptor','alt_acceptor']],axis=1)\n",
    "results['max_donor'] = np.max(results[['ref_donor','alt_donor']],axis=1)"
   ]
  },
  {
   "cell_type": "code",
   "execution_count": 21,
   "id": "d6ef064c",
   "metadata": {},
   "outputs": [
    {
     "data": {
      "text/html": [
       "<div>\n",
       "<style scoped>\n",
       "    .dataframe tbody tr th:only-of-type {\n",
       "        vertical-align: middle;\n",
       "    }\n",
       "\n",
       "    .dataframe tbody tr th {\n",
       "        vertical-align: top;\n",
       "    }\n",
       "\n",
       "    .dataframe thead th {\n",
       "        text-align: right;\n",
       "    }\n",
       "</style>\n",
       "<table border=\"1\" class=\"dataframe\">\n",
       "  <thead>\n",
       "    <tr style=\"text-align: right;\">\n",
       "      <th></th>\n",
       "      <th>ref_acceptor</th>\n",
       "      <th>ref_donor</th>\n",
       "      <th>alt_acceptor</th>\n",
       "      <th>alt_donor</th>\n",
       "      <th>jct_sites</th>\n",
       "      <th>max_acceptor</th>\n",
       "      <th>max_donor</th>\n",
       "    </tr>\n",
       "  </thead>\n",
       "  <tbody>\n",
       "    <tr>\n",
       "      <th>30</th>\n",
       "      <td>0.160512</td>\n",
       "      <td>0.983850</td>\n",
       "      <td>0.167716</td>\n",
       "      <td>0.976638</td>\n",
       "      <td>novel_acceptor</td>\n",
       "      <td>0.167716</td>\n",
       "      <td>0.983850</td>\n",
       "    </tr>\n",
       "    <tr>\n",
       "      <th>31</th>\n",
       "      <td>0.004181</td>\n",
       "      <td>0.983850</td>\n",
       "      <td>0.001837</td>\n",
       "      <td>0.976638</td>\n",
       "      <td>novel_acceptor</td>\n",
       "      <td>0.004181</td>\n",
       "      <td>0.983850</td>\n",
       "    </tr>\n",
       "    <tr>\n",
       "      <th>46</th>\n",
       "      <td>0.009723</td>\n",
       "      <td>0.933124</td>\n",
       "      <td>0.009446</td>\n",
       "      <td>0.933602</td>\n",
       "      <td>novel_acceptor</td>\n",
       "      <td>0.009723</td>\n",
       "      <td>0.933602</td>\n",
       "    </tr>\n",
       "    <tr>\n",
       "      <th>65</th>\n",
       "      <td>0.327009</td>\n",
       "      <td>0.996758</td>\n",
       "      <td>0.730474</td>\n",
       "      <td>0.996478</td>\n",
       "      <td>novel_acceptor</td>\n",
       "      <td>0.730474</td>\n",
       "      <td>0.996758</td>\n",
       "    </tr>\n",
       "    <tr>\n",
       "      <th>66</th>\n",
       "      <td>0.033730</td>\n",
       "      <td>0.996758</td>\n",
       "      <td>0.060297</td>\n",
       "      <td>0.996732</td>\n",
       "      <td>novel_acceptor</td>\n",
       "      <td>0.060297</td>\n",
       "      <td>0.996758</td>\n",
       "    </tr>\n",
       "    <tr>\n",
       "      <th>...</th>\n",
       "      <td>...</td>\n",
       "      <td>...</td>\n",
       "      <td>...</td>\n",
       "      <td>...</td>\n",
       "      <td>...</td>\n",
       "      <td>...</td>\n",
       "      <td>...</td>\n",
       "    </tr>\n",
       "    <tr>\n",
       "      <th>102803</th>\n",
       "      <td>0.000032</td>\n",
       "      <td>0.994218</td>\n",
       "      <td>0.698658</td>\n",
       "      <td>0.994260</td>\n",
       "      <td>novel_acceptor</td>\n",
       "      <td>0.698658</td>\n",
       "      <td>0.994260</td>\n",
       "    </tr>\n",
       "    <tr>\n",
       "      <th>102872</th>\n",
       "      <td>0.075702</td>\n",
       "      <td>0.990943</td>\n",
       "      <td>0.075078</td>\n",
       "      <td>0.990470</td>\n",
       "      <td>novel_acceptor</td>\n",
       "      <td>0.075702</td>\n",
       "      <td>0.990943</td>\n",
       "    </tr>\n",
       "    <tr>\n",
       "      <th>102887</th>\n",
       "      <td>0.028738</td>\n",
       "      <td>0.969423</td>\n",
       "      <td>0.007089</td>\n",
       "      <td>0.969423</td>\n",
       "      <td>novel_acceptor</td>\n",
       "      <td>0.028738</td>\n",
       "      <td>0.969423</td>\n",
       "    </tr>\n",
       "    <tr>\n",
       "      <th>102922</th>\n",
       "      <td>0.000004</td>\n",
       "      <td>0.970453</td>\n",
       "      <td>0.183268</td>\n",
       "      <td>0.974348</td>\n",
       "      <td>novel_acceptor</td>\n",
       "      <td>0.183268</td>\n",
       "      <td>0.974348</td>\n",
       "    </tr>\n",
       "    <tr>\n",
       "      <th>102966</th>\n",
       "      <td>0.116303</td>\n",
       "      <td>0.998210</td>\n",
       "      <td>0.116303</td>\n",
       "      <td>0.998210</td>\n",
       "      <td>novel_acceptor</td>\n",
       "      <td>0.116303</td>\n",
       "      <td>0.998210</td>\n",
       "    </tr>\n",
       "  </tbody>\n",
       "</table>\n",
       "<p>1676 rows × 7 columns</p>\n",
       "</div>"
      ],
      "text/plain": [
       "        ref_acceptor  ref_donor  alt_acceptor  alt_donor       jct_sites  \\\n",
       "30          0.160512   0.983850      0.167716   0.976638  novel_acceptor   \n",
       "31          0.004181   0.983850      0.001837   0.976638  novel_acceptor   \n",
       "46          0.009723   0.933124      0.009446   0.933602  novel_acceptor   \n",
       "65          0.327009   0.996758      0.730474   0.996478  novel_acceptor   \n",
       "66          0.033730   0.996758      0.060297   0.996732  novel_acceptor   \n",
       "...              ...        ...           ...        ...             ...   \n",
       "102803      0.000032   0.994218      0.698658   0.994260  novel_acceptor   \n",
       "102872      0.075702   0.990943      0.075078   0.990470  novel_acceptor   \n",
       "102887      0.028738   0.969423      0.007089   0.969423  novel_acceptor   \n",
       "102922      0.000004   0.970453      0.183268   0.974348  novel_acceptor   \n",
       "102966      0.116303   0.998210      0.116303   0.998210  novel_acceptor   \n",
       "\n",
       "        max_acceptor  max_donor  \n",
       "30          0.167716   0.983850  \n",
       "31          0.004181   0.983850  \n",
       "46          0.009723   0.933602  \n",
       "65          0.730474   0.996758  \n",
       "66          0.060297   0.996758  \n",
       "...              ...        ...  \n",
       "102803      0.698658   0.994260  \n",
       "102872      0.075702   0.990943  \n",
       "102887      0.028738   0.969423  \n",
       "102922      0.183268   0.974348  \n",
       "102966      0.116303   0.998210  \n",
       "\n",
       "[1676 rows x 7 columns]"
      ]
     },
     "execution_count": 21,
     "metadata": {},
     "output_type": "execute_result"
    }
   ],
   "source": [
    "results[results['jct_sites']=='novel_acceptor'].dropna()"
   ]
  },
  {
   "cell_type": "code",
   "execution_count": 22,
   "id": "0f58aad2",
   "metadata": {},
   "outputs": [
    {
     "data": {
      "text/html": [
       "<div>\n",
       "<style scoped>\n",
       "    .dataframe tbody tr th:only-of-type {\n",
       "        vertical-align: middle;\n",
       "    }\n",
       "\n",
       "    .dataframe tbody tr th {\n",
       "        vertical-align: top;\n",
       "    }\n",
       "\n",
       "    .dataframe thead th {\n",
       "        text-align: right;\n",
       "    }\n",
       "</style>\n",
       "<table border=\"1\" class=\"dataframe\">\n",
       "  <thead>\n",
       "    <tr style=\"text-align: right;\">\n",
       "      <th></th>\n",
       "      <th>ref_acceptor</th>\n",
       "      <th>ref_donor</th>\n",
       "      <th>alt_acceptor</th>\n",
       "      <th>alt_donor</th>\n",
       "      <th>jct_sites</th>\n",
       "      <th>max_acceptor</th>\n",
       "      <th>max_donor</th>\n",
       "    </tr>\n",
       "  </thead>\n",
       "  <tbody>\n",
       "    <tr>\n",
       "      <th>39</th>\n",
       "      <td>0.996167</td>\n",
       "      <td>0.000039</td>\n",
       "      <td>0.996256</td>\n",
       "      <td>0.000042</td>\n",
       "      <td>novel_donor</td>\n",
       "      <td>0.996256</td>\n",
       "      <td>0.000042</td>\n",
       "    </tr>\n",
       "    <tr>\n",
       "      <th>78</th>\n",
       "      <td>0.901510</td>\n",
       "      <td>0.197980</td>\n",
       "      <td>0.902094</td>\n",
       "      <td>0.193524</td>\n",
       "      <td>novel_donor</td>\n",
       "      <td>0.902094</td>\n",
       "      <td>0.197980</td>\n",
       "    </tr>\n",
       "    <tr>\n",
       "      <th>171</th>\n",
       "      <td>0.923628</td>\n",
       "      <td>0.006798</td>\n",
       "      <td>0.944706</td>\n",
       "      <td>0.982260</td>\n",
       "      <td>novel_donor</td>\n",
       "      <td>0.944706</td>\n",
       "      <td>0.982260</td>\n",
       "    </tr>\n",
       "    <tr>\n",
       "      <th>282</th>\n",
       "      <td>0.988573</td>\n",
       "      <td>0.150975</td>\n",
       "      <td>0.988356</td>\n",
       "      <td>0.201911</td>\n",
       "      <td>novel_donor</td>\n",
       "      <td>0.988573</td>\n",
       "      <td>0.201911</td>\n",
       "    </tr>\n",
       "    <tr>\n",
       "      <th>299</th>\n",
       "      <td>0.992425</td>\n",
       "      <td>0.499281</td>\n",
       "      <td>0.995320</td>\n",
       "      <td>0.591696</td>\n",
       "      <td>novel_donor</td>\n",
       "      <td>0.995320</td>\n",
       "      <td>0.591696</td>\n",
       "    </tr>\n",
       "    <tr>\n",
       "      <th>...</th>\n",
       "      <td>...</td>\n",
       "      <td>...</td>\n",
       "      <td>...</td>\n",
       "      <td>...</td>\n",
       "      <td>...</td>\n",
       "      <td>...</td>\n",
       "      <td>...</td>\n",
       "    </tr>\n",
       "    <tr>\n",
       "      <th>102488</th>\n",
       "      <td>0.989647</td>\n",
       "      <td>0.210802</td>\n",
       "      <td>0.989647</td>\n",
       "      <td>0.208679</td>\n",
       "      <td>novel_donor</td>\n",
       "      <td>0.989647</td>\n",
       "      <td>0.210802</td>\n",
       "    </tr>\n",
       "    <tr>\n",
       "      <th>102671</th>\n",
       "      <td>0.998800</td>\n",
       "      <td>0.130220</td>\n",
       "      <td>0.998794</td>\n",
       "      <td>0.127497</td>\n",
       "      <td>novel_donor</td>\n",
       "      <td>0.998800</td>\n",
       "      <td>0.130220</td>\n",
       "    </tr>\n",
       "    <tr>\n",
       "      <th>102717</th>\n",
       "      <td>0.995853</td>\n",
       "      <td>0.614399</td>\n",
       "      <td>0.995804</td>\n",
       "      <td>0.613386</td>\n",
       "      <td>novel_donor</td>\n",
       "      <td>0.995853</td>\n",
       "      <td>0.614399</td>\n",
       "    </tr>\n",
       "    <tr>\n",
       "      <th>102743</th>\n",
       "      <td>0.982471</td>\n",
       "      <td>0.364820</td>\n",
       "      <td>0.976961</td>\n",
       "      <td>0.668464</td>\n",
       "      <td>novel_donor</td>\n",
       "      <td>0.982471</td>\n",
       "      <td>0.668464</td>\n",
       "    </tr>\n",
       "    <tr>\n",
       "      <th>102983</th>\n",
       "      <td>0.729789</td>\n",
       "      <td>0.020719</td>\n",
       "      <td>0.729789</td>\n",
       "      <td>0.020596</td>\n",
       "      <td>novel_donor</td>\n",
       "      <td>0.729789</td>\n",
       "      <td>0.020719</td>\n",
       "    </tr>\n",
       "  </tbody>\n",
       "</table>\n",
       "<p>1481 rows × 7 columns</p>\n",
       "</div>"
      ],
      "text/plain": [
       "        ref_acceptor  ref_donor  alt_acceptor  alt_donor    jct_sites  \\\n",
       "39          0.996167   0.000039      0.996256   0.000042  novel_donor   \n",
       "78          0.901510   0.197980      0.902094   0.193524  novel_donor   \n",
       "171         0.923628   0.006798      0.944706   0.982260  novel_donor   \n",
       "282         0.988573   0.150975      0.988356   0.201911  novel_donor   \n",
       "299         0.992425   0.499281      0.995320   0.591696  novel_donor   \n",
       "...              ...        ...           ...        ...          ...   \n",
       "102488      0.989647   0.210802      0.989647   0.208679  novel_donor   \n",
       "102671      0.998800   0.130220      0.998794   0.127497  novel_donor   \n",
       "102717      0.995853   0.614399      0.995804   0.613386  novel_donor   \n",
       "102743      0.982471   0.364820      0.976961   0.668464  novel_donor   \n",
       "102983      0.729789   0.020719      0.729789   0.020596  novel_donor   \n",
       "\n",
       "        max_acceptor  max_donor  \n",
       "39          0.996256   0.000042  \n",
       "78          0.902094   0.197980  \n",
       "171         0.944706   0.982260  \n",
       "282         0.988573   0.201911  \n",
       "299         0.995320   0.591696  \n",
       "...              ...        ...  \n",
       "102488      0.989647   0.210802  \n",
       "102671      0.998800   0.130220  \n",
       "102717      0.995853   0.614399  \n",
       "102743      0.982471   0.668464  \n",
       "102983      0.729789   0.020719  \n",
       "\n",
       "[1481 rows x 7 columns]"
      ]
     },
     "execution_count": 22,
     "metadata": {},
     "output_type": "execute_result"
    }
   ],
   "source": [
    "results[results['jct_sites']=='novel_donor'].dropna()"
   ]
  },
  {
   "cell_type": "code",
   "execution_count": 23,
   "id": "b8096bd5",
   "metadata": {},
   "outputs": [
    {
     "data": {
      "text/html": [
       "<div>\n",
       "<style scoped>\n",
       "    .dataframe tbody tr th:only-of-type {\n",
       "        vertical-align: middle;\n",
       "    }\n",
       "\n",
       "    .dataframe tbody tr th {\n",
       "        vertical-align: top;\n",
       "    }\n",
       "\n",
       "    .dataframe thead th {\n",
       "        text-align: right;\n",
       "    }\n",
       "</style>\n",
       "<table border=\"1\" class=\"dataframe\">\n",
       "  <thead>\n",
       "    <tr style=\"text-align: right;\">\n",
       "      <th></th>\n",
       "      <th>ref_acceptor</th>\n",
       "      <th>ref_donor</th>\n",
       "      <th>alt_acceptor</th>\n",
       "      <th>alt_donor</th>\n",
       "      <th>jct_sites</th>\n",
       "      <th>max_acceptor</th>\n",
       "      <th>max_donor</th>\n",
       "    </tr>\n",
       "  </thead>\n",
       "  <tbody>\n",
       "    <tr>\n",
       "      <th>198</th>\n",
       "      <td>4.589969e-05</td>\n",
       "      <td>3.283175e-06</td>\n",
       "      <td>4.329609e-05</td>\n",
       "      <td>3.270027e-06</td>\n",
       "      <td>both_novel</td>\n",
       "      <td>4.589969e-05</td>\n",
       "      <td>3.283175e-06</td>\n",
       "    </tr>\n",
       "    <tr>\n",
       "      <th>243</th>\n",
       "      <td>8.503602e-10</td>\n",
       "      <td>1.096337e-09</td>\n",
       "      <td>1.175099e-09</td>\n",
       "      <td>1.345221e-09</td>\n",
       "      <td>both_novel</td>\n",
       "      <td>1.175099e-09</td>\n",
       "      <td>1.345221e-09</td>\n",
       "    </tr>\n",
       "    <tr>\n",
       "      <th>615</th>\n",
       "      <td>1.930509e-02</td>\n",
       "      <td>4.804079e-03</td>\n",
       "      <td>3.908878e-02</td>\n",
       "      <td>1.270145e-02</td>\n",
       "      <td>both_novel</td>\n",
       "      <td>3.908878e-02</td>\n",
       "      <td>1.270145e-02</td>\n",
       "    </tr>\n",
       "    <tr>\n",
       "      <th>750</th>\n",
       "      <td>1.758900e-05</td>\n",
       "      <td>2.399337e-06</td>\n",
       "      <td>1.743190e-05</td>\n",
       "      <td>2.272608e-06</td>\n",
       "      <td>both_novel</td>\n",
       "      <td>1.758900e-05</td>\n",
       "      <td>2.399337e-06</td>\n",
       "    </tr>\n",
       "    <tr>\n",
       "      <th>752</th>\n",
       "      <td>1.407285e-06</td>\n",
       "      <td>2.399337e-06</td>\n",
       "      <td>1.381440e-06</td>\n",
       "      <td>2.272608e-06</td>\n",
       "      <td>both_novel</td>\n",
       "      <td>1.407285e-06</td>\n",
       "      <td>2.399337e-06</td>\n",
       "    </tr>\n",
       "    <tr>\n",
       "      <th>...</th>\n",
       "      <td>...</td>\n",
       "      <td>...</td>\n",
       "      <td>...</td>\n",
       "      <td>...</td>\n",
       "      <td>...</td>\n",
       "      <td>...</td>\n",
       "      <td>...</td>\n",
       "    </tr>\n",
       "    <tr>\n",
       "      <th>101604</th>\n",
       "      <td>2.081197e-08</td>\n",
       "      <td>1.676830e-05</td>\n",
       "      <td>2.089726e-08</td>\n",
       "      <td>1.678701e-05</td>\n",
       "      <td>both_novel</td>\n",
       "      <td>2.089726e-08</td>\n",
       "      <td>1.678701e-05</td>\n",
       "    </tr>\n",
       "    <tr>\n",
       "      <th>101605</th>\n",
       "      <td>2.081197e-08</td>\n",
       "      <td>1.218630e-05</td>\n",
       "      <td>2.081197e-08</td>\n",
       "      <td>1.198999e-05</td>\n",
       "      <td>both_novel</td>\n",
       "      <td>2.081197e-08</td>\n",
       "      <td>1.218630e-05</td>\n",
       "    </tr>\n",
       "    <tr>\n",
       "      <th>101614</th>\n",
       "      <td>1.504980e-01</td>\n",
       "      <td>1.068390e-01</td>\n",
       "      <td>1.005372e-01</td>\n",
       "      <td>1.034013e-01</td>\n",
       "      <td>both_novel</td>\n",
       "      <td>1.504980e-01</td>\n",
       "      <td>1.068390e-01</td>\n",
       "    </tr>\n",
       "    <tr>\n",
       "      <th>101628</th>\n",
       "      <td>6.005781e-02</td>\n",
       "      <td>3.197892e-02</td>\n",
       "      <td>5.917946e-02</td>\n",
       "      <td>3.205248e-02</td>\n",
       "      <td>both_novel</td>\n",
       "      <td>6.005781e-02</td>\n",
       "      <td>3.205248e-02</td>\n",
       "    </tr>\n",
       "    <tr>\n",
       "      <th>102346</th>\n",
       "      <td>4.290404e-08</td>\n",
       "      <td>1.065555e-07</td>\n",
       "      <td>4.207880e-08</td>\n",
       "      <td>1.028441e-07</td>\n",
       "      <td>both_novel</td>\n",
       "      <td>4.290404e-08</td>\n",
       "      <td>1.065555e-07</td>\n",
       "    </tr>\n",
       "  </tbody>\n",
       "</table>\n",
       "<p>420 rows × 7 columns</p>\n",
       "</div>"
      ],
      "text/plain": [
       "        ref_acceptor     ref_donor  alt_acceptor     alt_donor   jct_sites  \\\n",
       "198     4.589969e-05  3.283175e-06  4.329609e-05  3.270027e-06  both_novel   \n",
       "243     8.503602e-10  1.096337e-09  1.175099e-09  1.345221e-09  both_novel   \n",
       "615     1.930509e-02  4.804079e-03  3.908878e-02  1.270145e-02  both_novel   \n",
       "750     1.758900e-05  2.399337e-06  1.743190e-05  2.272608e-06  both_novel   \n",
       "752     1.407285e-06  2.399337e-06  1.381440e-06  2.272608e-06  both_novel   \n",
       "...              ...           ...           ...           ...         ...   \n",
       "101604  2.081197e-08  1.676830e-05  2.089726e-08  1.678701e-05  both_novel   \n",
       "101605  2.081197e-08  1.218630e-05  2.081197e-08  1.198999e-05  both_novel   \n",
       "101614  1.504980e-01  1.068390e-01  1.005372e-01  1.034013e-01  both_novel   \n",
       "101628  6.005781e-02  3.197892e-02  5.917946e-02  3.205248e-02  both_novel   \n",
       "102346  4.290404e-08  1.065555e-07  4.207880e-08  1.028441e-07  both_novel   \n",
       "\n",
       "        max_acceptor     max_donor  \n",
       "198     4.589969e-05  3.283175e-06  \n",
       "243     1.175099e-09  1.345221e-09  \n",
       "615     3.908878e-02  1.270145e-02  \n",
       "750     1.758900e-05  2.399337e-06  \n",
       "752     1.407285e-06  2.399337e-06  \n",
       "...              ...           ...  \n",
       "101604  2.089726e-08  1.678701e-05  \n",
       "101605  2.081197e-08  1.218630e-05  \n",
       "101614  1.504980e-01  1.068390e-01  \n",
       "101628  6.005781e-02  3.205248e-02  \n",
       "102346  4.290404e-08  1.065555e-07  \n",
       "\n",
       "[420 rows x 7 columns]"
      ]
     },
     "execution_count": 23,
     "metadata": {},
     "output_type": "execute_result"
    }
   ],
   "source": [
    "results[results['jct_sites']=='both_novel'].dropna()"
   ]
  },
  {
   "cell_type": "code",
   "execution_count": 24,
   "id": "452372cb",
   "metadata": {},
   "outputs": [],
   "source": [
    "jct_type = results[results['jct_sites']=='novel_acceptor']\n",
    "novel_acceptor_ratio = np.sum(jct_type['max_acceptor']>0.1)/jct_type.shape[0]\n",
    "jct_type = results[results['jct_sites']=='novel_donor']\n",
    "novel_donor_ratio = np.sum(jct_type['max_donor']>0.1)/jct_type.shape[0]\n",
    "jct_type = results[results['jct_sites']=='both_novel']\n",
    "both_novel_acceptor_ratio = np.sum(jct_type['max_acceptor']>0.1)/jct_type.shape[0]\n",
    "jct_type = results[results['jct_sites']=='both_novel']\n",
    "both_novel_donor_ratio = np.sum(jct_type['max_donor']>0.1)/jct_type.shape[0]\n",
    "jct_type = results[results['jct_sites']=='both_annotated']\n",
    "both_annotated_acceptor_ratio = np.sum(jct_type['max_acceptor']>0.1)/jct_type.shape[0]\n",
    "jct_type = results[results['jct_sites']=='both_annotated']\n",
    "both_annotated_donor_ratio = np.sum(jct_type['max_donor']>0.1)/jct_type.shape[0]"
   ]
  },
  {
   "cell_type": "code",
   "execution_count": 25,
   "id": "5236cb82",
   "metadata": {},
   "outputs": [
    {
     "data": {
      "image/png": "[encoded data removed]",
      "text/plain": [
       "<Figure size 432x288 with 1 Axes>"
      ]
     },
     "metadata": {
      "needs_background": "light"
     },
     "output_type": "display_data"
    }
   ],
   "source": [
    "plt.bar(['Annotated (acceptor)','Annotated (donor)','Novel acceptor','Novel donor'],[both_annotated_acceptor_ratio,both_annotated_donor_ratio,novel_acceptor_ratio,novel_donor_ratio])\n",
    "plt.xticks(rotation=30)\n",
    "plt.yticks(np.linspace(0,1,11))\n",
    "plt.ylabel('True positive rate')\n",
    "plt.show()"
   ]
  },
  {
   "cell_type": "code",
   "execution_count": 26,
   "id": "50a32a91",
   "metadata": {},
   "outputs": [
    {
     "data": {
      "text/plain": [
       "(0.9629669634453069,\n",
       " 0.9693551622509914,\n",
       " 0.5243971541900145,\n",
       " 0.5523727755229473)"
      ]
     },
     "execution_count": 26,
     "metadata": {},
     "output_type": "execute_result"
    }
   ],
   "source": [
    "both_annotated_acceptor_ratio,both_annotated_donor_ratio,novel_acceptor_ratio,novel_donor_ratio"
   ]
  },
  {
   "cell_type": "code",
   "execution_count": 27,
   "id": "596b89d9",
   "metadata": {},
   "outputs": [
    {
     "data": {
      "text/plain": [
       "0.9661610628481492"
      ]
     },
     "execution_count": 27,
     "metadata": {},
     "output_type": "execute_result"
    }
   ],
   "source": [
    "(0.9629669634453069+0.9693551622509914)/2"
   ]
  },
  {
   "cell_type": "code",
   "execution_count": 28,
   "id": "a1e488b5",
   "metadata": {},
   "outputs": [
    {
     "data": {
      "text/plain": [
       "0.5383849648564809"
      ]
     },
     "execution_count": 28,
     "metadata": {},
     "output_type": "execute_result"
    }
   ],
   "source": [
    "(0.5243971541900145+0.5523727755229473)/2"
   ]
  },
  {
   "cell_type": "code",
   "execution_count": null,
   "id": "e3d7573d",
   "metadata": {},
   "outputs": [],
   "source": []
  }
 ],
 "metadata": {
  "kernelspec": {
   "display_name": "Python 3 (ipykernel)",
   "language": "python",
   "name": "python3"
  },
  "language_info": {
   "codemirror_mode": {
    "name": "ipython",
    "version": 3
   },
   "file_extension": ".py",
   "mimetype": "text/x-python",
   "name": "python",
   "nbconvert_exporter": "python",
   "pygments_lexer": "ipython3",
   "version": "3.8.12"
  }
 },
 "nbformat": 4,
 "nbformat_minor": 5
}
