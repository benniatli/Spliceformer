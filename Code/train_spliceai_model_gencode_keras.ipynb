{
 "cells": [
  {
   "cell_type": "code",
   "execution_count": 1,
   "metadata": {},
   "outputs": [
    {
     "name": "stdout",
     "output_type": "stream",
     "text": [
      "WARNING:tensorflow:Deprecation warnings have been disabled. Set TF_ENABLE_DEPRECATION_WARNINGS=1 to re-enable them.\n"
     ]
    },
    {
     "name": "stderr",
     "output_type": "stream",
     "text": [
      "2022-10-10 11:22:32.495646: I tensorflow/stream_executor/platform/default/dso_loader.cc:49] Successfully opened dynamic library libcudart.so.11.0\n",
      "Using TensorFlow backend.\n"
     ]
    }
   ],
   "source": [
    "import numpy as np\n",
    "import sys\n",
    "import time\n",
    "import h5py\n",
    "import tensorflow as tf\n",
    "from tqdm import tqdm\n",
    "\n",
    "import numpy as np\n",
    "import re\n",
    "from math import ceil\n",
    "from sklearn.metrics import average_precision_score\n",
    "\n",
    "import keras.backend as kb\n",
    "from keras.models import Model\n",
    "from keras.layers import Input\n",
    "from keras.layers.core import Activation\n",
    "from keras.layers.convolutional import Conv1D, Cropping1D\n",
    "from keras.layers.normalization import BatchNormalization\n",
    "from keras.layers.merge import add\n",
    "from keras.layers import Input\n",
    "from keras.layers.merge import concatenate\n",
    "from keras.layers.core import Lambda\n",
    "\n",
    "import pandas as pd\n",
    "import pickle\n",
    "from scipy.sparse import load_npz\n",
    "from glob import glob\n",
    "from tensorflow.keras.models import load_model \n",
    "import torch\n",
    "\n",
    "from src.evaluation_metrics import print_topl_statistics,cross_entropy_2d\n",
    "from src.dataloader import getData,spliceDataset,h5pyDataset,getDataPointListFull,DataPoint"
   ]
  },
  {
   "cell_type": "code",
   "execution_count": 2,
   "metadata": {},
   "outputs": [
    {
     "name": "stdout",
     "output_type": "stream",
     "text": [
      "Mon Oct 10 11:22:50 2022       \n",
      "+-----------------------------------------------------------------------------+\n",
      "| NVIDIA-SMI 515.43.04    Driver Version: 515.43.04    CUDA Version: 11.7     |\n",
      "|-------------------------------+----------------------+----------------------+\n",
      "| GPU  Name        Persistence-M| Bus-Id        Disp.A | Volatile Uncorr. ECC |\n",
      "| Fan  Temp  Perf  Pwr:Usage/Cap|         Memory-Usage | GPU-Util  Compute M. |\n",
      "|                               |                      |               MIG M. |\n",
      "|===============================+======================+======================|\n",
      "|   0  NVIDIA A100-PCI...  Off  | 00000000:31:00.0 Off |                    0 |\n",
      "| N/A   38C    P0    38W / 250W |      0MiB / 40960MiB |      0%      Default |\n",
      "|                               |                      |             Disabled |\n",
      "+-------------------------------+----------------------+----------------------+\n",
      "|   1  NVIDIA A100-PCI...  Off  | 00000000:98:00.0 Off |                    0 |\n",
      "| N/A   38C    P0    40W / 250W |      0MiB / 40960MiB |      0%      Default |\n",
      "|                               |                      |             Disabled |\n",
      "+-------------------------------+----------------------+----------------------+\n",
      "|   2  NVIDIA A100-PCI...  Off  | 00000000:CA:00.0 Off |                    0 |\n",
      "| N/A   37C    P0    37W / 250W |      0MiB / 40960MiB |     29%      Default |\n",
      "|                               |                      |             Disabled |\n",
      "+-------------------------------+----------------------+----------------------+\n",
      "                                                                               \n",
      "+-----------------------------------------------------------------------------+\n",
      "| Processes:                                                                  |\n",
      "|  GPU   GI   CI        PID   Type   Process name                  GPU Memory |\n",
      "|        ID   ID                                                   Usage      |\n",
      "|=============================================================================|\n",
      "|  No running processes found                                                 |\n",
      "+-----------------------------------------------------------------------------+\n"
     ]
    }
   ],
   "source": [
    "!nvidia-smi"
   ]
  },
  {
   "cell_type": "code",
   "execution_count": 3,
   "metadata": {},
   "outputs": [],
   "source": [
    "\n",
    "###############################################################################\n",
    "# Model\n",
    "###############################################################################\n",
    "\n",
    "L = 32\n",
    "N_GPUS = 2\n",
    "\n",
    "#if int(sys.argv[1]) == 80:\n",
    "#    W = np.asarray([11, 11, 11, 11])\n",
    "#    AR = np.asarray([1, 1, 1, 1])\n",
    "#    BATCH_SIZE = 18*N_GPUS\n",
    "#elif int(sys.argv[1]) == 400:\n",
    "#    W = np.asarray([11, 11, 11, 11, 11, 11, 11, 11])\n",
    "#    AR = np.asarray([1, 1, 1, 1, 4, 4, 4, 4])\n",
    "#    BATCH_SIZE = 18*N_GPUS\n",
    "#elif int(sys.argv[1]) == 2000:\n",
    "#    W = np.asarray([11, 11, 11, 11, 11, 11, 11, 11,\n",
    "#                    21, 21, 21, 21])\n",
    "#    AR = np.asarray([1, 1, 1, 1, 4, 4, 4, 4,\n",
    "#                     10, 10, 10, 10])\n",
    "#    BATCH_SIZE = 12*N_GPUS\n",
    "#elif int(sys.argv[1]) == 10000:\n",
    "W = np.asarray([11, 11, 11, 11, 11, 11, 11, 11,\n",
    "                21, 21, 21, 21, 41, 41, 41, 41])\n",
    "AR = np.asarray([1, 1, 1, 1, 4, 4, 4, 4,\n",
    "                 10, 10, 10, 10, 25, 25, 25, 25])\n",
    "BATCH_SIZE = 6*N_GPUS\n",
    "# Hyper-parameters:\n",
    "# L: Number of convolution kernels\n",
    "# W: Convolution window size in each residual unit\n",
    "# AR: Atrous rate in each residual unit\n",
    "\n",
    "CL = 2 * np.sum(AR*(W-1))"
   ]
  },
  {
   "cell_type": "code",
   "execution_count": 4,
   "metadata": {},
   "outputs": [],
   "source": [
    "CL_max=10000\n",
    "# Maximum nucleotide context length (CL_max/2 on either side of the \n",
    "# position of interest)\n",
    "# CL_max should be an even number\n",
    "\n",
    "SL=5000\n",
    "# Sequence length of SpliceAIs (SL+CL will be the input length and\n",
    "# SL will be the output length)\n",
    "\n",
    "splice_table='/odinn/tmp/benediktj/SpliceAITrainingCode/canonical_dataset.txt'\n",
    "ref_genome='/odinn/tmp/benediktj/SpliceAITrainingCode/hg19.fa'\n",
    "# Input details\n",
    "\n",
    "data_dir='/odinn/tmp/benediktj/SpliceAITrainingCode/'\n",
    "sequence='/odinn/tmp/benediktj/SpliceAITrainingCode/canonical_sequence.txt'\n"
   ]
  },
  {
   "cell_type": "code",
   "execution_count": 5,
   "metadata": {},
   "outputs": [],
   "source": [
    "assert CL_max % 2 == 0\n",
    "\n",
    "IN_MAP = np.asarray([[0, 0, 0, 0],\n",
    "                     [1, 0, 0, 0],\n",
    "                     [0, 1, 0, 0],\n",
    "                     [0, 0, 1, 0],\n",
    "                     [0, 0, 0, 1]])\n",
    "# One-hot encoding of the inputs: 0 is for padding, and 1, 2, 3, 4 correspond\n",
    "# to A, C, G, T respectively.\n",
    "\n",
    "OUT_MAP = np.asarray([[1, 0, 0],\n",
    "                      [0, 1, 0],\n",
    "                      [0, 0, 1],\n",
    "                      [0, 0, 0]])\n",
    "# One-hot encoding of the outputs: 0 is for no splice, 1 is for acceptor,\n",
    "# 2 is for donor and -1 is for padding.\n",
    "\n",
    "\n",
    "def ceil_div(x, y):\n",
    "    return int(ceil(float(x)/y))\n",
    "\n",
    "\n",
    "def create_datapoints(seq, strand, tx_start, tx_end, jn_start, jn_end):\n",
    "    # This function first converts the sequence into an integer array, where\n",
    "    # A, C, G, T, N are mapped to 1, 2, 3, 4, 0 respectively. If the strand is\n",
    "    # negative, then reverse complementing is done. The splice junctions \n",
    "    # are also converted into an array of integers, where 0, 1, 2, -1 \n",
    "    # correspond to no splicing, acceptor, donor and missing information\n",
    "    # respectively. It then calls reformat_data and one_hot_encode\n",
    "    # and returns X, Y which can be used by Keras models.\n",
    "\n",
    "    seq = 'N'*(CL_max//2) + seq[CL_max//2:-CL_max//2] + 'N'*(CL_max//2)\n",
    "    # Context being provided on the RNA and not the DNA\n",
    "\n",
    "    seq = seq.upper().replace('A', '1').replace('C', '2')\n",
    "    seq = seq.replace('G', '3').replace('T', '4').replace('N', '0')\n",
    "\n",
    "    tx_start = int(tx_start)\n",
    "    tx_end = int(tx_end) \n",
    "\n",
    "    jn_start = map(lambda x: map(int, re.split(',', x)[:-1]), jn_start)\n",
    "    jn_end = map(lambda x: map(int, re.split(',', x)[:-1]), jn_end)\n",
    "\n",
    "    if strand == '+':\n",
    "\n",
    "        X0 = np.asarray(map(int, list(seq)))\n",
    "        Y0 = [-np.ones(tx_end-tx_start+1) for t in range(1)]\n",
    "\n",
    "        for t in range(1):\n",
    "            \n",
    "            if len(jn_start[t]) > 0:\n",
    "                Y0[t] = np.zeros(tx_end-tx_start+1)\n",
    "                for c in jn_start[t]:\n",
    "                    if tx_start <= c <= tx_end:\n",
    "                        Y0[t][c-tx_start] = 2\n",
    "                for c in jn_end[t]:\n",
    "                    if tx_start <= c <= tx_end:\n",
    "                        Y0[t][c-tx_start] = 1\n",
    "                    # Ignoring junctions outside annotated tx start/end sites\n",
    "                     \n",
    "    elif strand == '-':\n",
    "\n",
    "        X0 = (5-np.asarray(map(int, list(seq[::-1])))) % 5  # Reverse complement\n",
    "        Y0 = [-np.ones(tx_end-tx_start+1) for t in range(1)]\n",
    "\n",
    "        for t in range(1):\n",
    "\n",
    "            if len(jn_start[t]) > 0:\n",
    "                Y0[t] = np.zeros(tx_end-tx_start+1)\n",
    "                for c in jn_end[t]:\n",
    "                    if tx_start <= c <= tx_end:\n",
    "                        Y0[t][tx_end-c] = 2\n",
    "                for c in jn_start[t]:\n",
    "                    if tx_start <= c <= tx_end:\n",
    "                        Y0[t][tx_end-c] = 1\n",
    "\n",
    "    Xd, Yd = reformat_data(X0, Y0)\n",
    "    X, Y = one_hot_encode(Xd, Yd)\n",
    "\n",
    "    return X, Y\n",
    "\n",
    "\n",
    "def reformat_data(X0, Y0):\n",
    "    # This function converts X0, Y0 of the create_datapoints function into\n",
    "    # blocks such that the data is broken down into data points where the\n",
    "    # input is a sequence of length SL+CL_max corresponding to SL nucleotides\n",
    "    # of interest and CL_max context nucleotides, the output is a sequence of\n",
    "    # length SL corresponding to the splicing information of the nucleotides\n",
    "    # of interest. The CL_max context nucleotides are such that they are\n",
    "    # CL_max/2 on either side of the SL nucleotides of interest.\n",
    "\n",
    "    num_points = ceil_div(len(Y0[0]), SL)\n",
    "\n",
    "    Xd = np.zeros((num_points, SL+CL_max))\n",
    "    Yd = [-np.ones((num_points, SL)) for t in range(1)]\n",
    "\n",
    "    X0 = np.pad(X0, [0, SL], 'constant', constant_values=0)\n",
    "    Y0 = [np.pad(Y0[t], [0, SL], 'constant', constant_values=-1)\n",
    "         for t in range(1)]\n",
    "\n",
    "    for i in range(num_points):\n",
    "        Xd[i] = X0[SL*i:CL_max+SL*(i+1)]\n",
    "\n",
    "    for t in range(1):\n",
    "        for i in range(num_points):\n",
    "            Yd[t][i] = Y0[t][SL*i:SL*(i+1)]\n",
    "\n",
    "    return Xd, Yd\n",
    "\n",
    "\n",
    "def clip_datapoints(X, Y, CL, N_GPUS):\n",
    "    # This function is necessary to make sure of the following:\n",
    "    # (i) Each time model_m.fit is called, the number of datapoints is a\n",
    "    # multiple of N_GPUS. Failure to ensure this often results in crashes.\n",
    "    # (ii) If the required context length is less than CL_max, then\n",
    "    # appropriate clipping is done below.\n",
    "    # Additionally, Y is also converted to a list (the .h5 files store \n",
    "    # them as an array).\n",
    "\n",
    "    rem = X.shape[0]%N_GPUS\n",
    "    clip = (CL_max-CL)//2\n",
    "\n",
    "    if rem != 0 and clip != 0:\n",
    "        return X[:-rem, clip:-clip], [Y[t][:-rem] for t in range(1)]\n",
    "    elif rem == 0 and clip != 0:\n",
    "        return X[:, clip:-clip], [Y[t] for t in range(1)]\n",
    "    elif rem != 0 and clip == 0:\n",
    "        return X[:-rem], [Y[t][:-rem] for t in range(1)]\n",
    "    else:\n",
    "        return X, [Y[t] for t in range(1)]\n",
    "\n",
    "\n",
    "def one_hot_encode(Xd, Yd):\n",
    "\n",
    "    return IN_MAP[Xd.astype('int8')], \\\n",
    "           [OUT_MAP[Yd[t].astype('int8')] for t in range(1)]\n",
    "\n",
    "\n",
    "\n",
    "#def print_topl_statistics(y_true, y_pred):\n",
    "#    # Prints the following information: top-kL statistics for k=0.5,1,2,4,\n",
    "#    # auprc, thresholds for k=0.5,1,2,4, number of true splice sites.#\n",
    "\n",
    "#    idx_true = np.nonzero(y_true == 1)[0]\n",
    "#    argsorted_y_pred = np.argsort(y_pred)\n",
    "#    sorted_y_pred = np.sort(y_pred)\n",
    "\n",
    "#    topkl_accuracy = []\n",
    "#    threshold = []\n",
    "\n",
    "#    for top_length in [0.5, 1, 2, 4]:\n",
    "#\n",
    "#        idx_pred = argsorted_y_pred[-int(top_length*len(idx_true)):]\n",
    "\n",
    "#        topkl_accuracy += [np.size(np.intersect1d(idx_true, idx_pred)) \\\n",
    "#                  / float(min(len(idx_pred), len(idx_true)))]\n",
    "#        threshold += [sorted_y_pred[-int(top_length*len(idx_true))]]\n",
    "\n",
    "#    auprc = average_precision_score(y_true, y_pred)\n",
    "\n",
    " #   print(\"{}\\t{}\\t{}\\t{}\\t{}\\t{}\\t{}\\t{}\\t{}\\t{}\".format(\n",
    " #         np.round(topkl_accuracy[0],4), np.round(topkl_accuracy[1],4), np.round(topkl_accuracy[2],4),\n",
    "#          np.round(topkl_accuracy[3],4), np.round(auprc,4), np.round(threshold[0],4), np.round(threshold[1],4),\n",
    " #         np.round(threshold[2],4), np.round(threshold[3],4), len(idx_true)))\n"
   ]
  },
  {
   "cell_type": "code",
   "execution_count": 6,
   "metadata": {},
   "outputs": [],
   "source": [
    "def ResidualUnit(l, w, ar):\n",
    "    # Residual unit proposed in \"Identity mappings in Deep Residual Networks\"\n",
    "    # by He et al.\n",
    "\n",
    "    def f(input_node):\n",
    "\n",
    "        bn1 = BatchNormalization()(input_node)\n",
    "        act1 = Activation('relu')(bn1)\n",
    "        conv1 = Conv1D(l, [w], dilation_rate=[ar], padding='same')(act1)\n",
    "        bn2 = BatchNormalization()(conv1)\n",
    "        act2 = Activation('relu')(bn2)\n",
    "        conv2 = Conv1D(l, [w], dilation_rate=[ar], padding='same')(act2)\n",
    "        output_node = add([conv2, input_node])\n",
    "\n",
    "        return output_node\n",
    "\n",
    "    return f\n",
    "\n",
    "\n",
    "def SpliceAI(L, W, AR):\n",
    "    # L: Number of convolution kernels\n",
    "    # W: Convolution window size in each residual unit\n",
    "    # AR: Atrous rate in each residual unit\n",
    "\n",
    "    assert len(W) == len(AR)\n",
    "\n",
    "    CL = 2 * np.sum(AR*(W-1))\n",
    "\n",
    "    input0 = Input(shape=(None, 4))\n",
    "    conv = Conv1D(L, 1)(input0)\n",
    "    skip = Conv1D(L, 1)(conv)\n",
    "\n",
    "    for i in range(len(W)):\n",
    "        conv = ResidualUnit(L, W[i], AR[i])(conv)\n",
    "        \n",
    "        if (((i+1) % 4 == 0) or ((i+1) == len(W))):\n",
    "            # Skip connections to the output after every 4 residual units\n",
    "            dense = Conv1D(L, 1)(conv)\n",
    "            skip = add([skip, dense])\n",
    "\n",
    "    skip = Cropping1D(int(CL/2))(skip)\n",
    "\n",
    "    output0 = [[] for t in range(1)]\n",
    "\n",
    "    for t in range(1):\n",
    "        output0[t] = Conv1D(3, 1, activation='softmax')(skip)\n",
    "    \n",
    "    model = Model(inputs=input0, outputs=output0)\n",
    "\n",
    "    return model\n",
    "\n",
    "\n",
    "def categorical_crossentropy_2d(y_true, y_pred):\n",
    "    # Standard categorical cross entropy for sequence outputs\n",
    "    weights = [1, 1, 1]\n",
    "    return - kb.mean(weights[0]*y_true[:, :, 0]*kb.log(y_pred[:, :, 0]+1e-10)\n",
    "                   + weights[1]*y_true[:, :, 1]*kb.log(y_pred[:, :, 1]+1e-10)\n",
    "                   + weights[2]*y_true[:, :, 2]*kb.log(y_pred[:, :, 2]+1e-10))\n"
   ]
  },
  {
   "cell_type": "code",
   "execution_count": 7,
   "metadata": {},
   "outputs": [],
   "source": [
    "def make_parallel(model, gpu_count):\n",
    "\n",
    "    def get_slice(data, idx, parts):\n",
    "\n",
    "        shape = tf.shape(data)\n",
    "        stride = tf.concat([shape[:1]//parts, shape[1:]*0], 0)\n",
    "        start = stride * idx\n",
    "\n",
    "        size = tf.concat([shape[:1]//parts, shape[1:]], 0) \n",
    "        # Split the batch into equal parts \n",
    "\n",
    "        return tf.slice(data, start, size)\n",
    "\n",
    "    outputs_all = []\n",
    "    for i in range(len(model.outputs)):\n",
    "        outputs_all.append([])\n",
    "\n",
    "    # Place a copy of the model on each GPU, each getting a slice of the batch\n",
    "    for i in range(gpu_count):\n",
    "        with tf.device('/gpu:%d' % i):\n",
    "            with tf.name_scope('tower_%d' % i) as scope:\n",
    "\n",
    "                inputs = []\n",
    "                # Slice each input into a piece for processing on this GPU\n",
    "                for x in model.inputs:\n",
    "                    input_shape = tuple(x.get_shape().as_list())[1:]\n",
    "                    slice_n = Lambda(get_slice, output_shape=input_shape,\n",
    "                                  arguments={'idx': i, 'parts': gpu_count})(x)\n",
    "                    inputs.append(slice_n)\n",
    "\n",
    "                outputs = model(inputs)\n",
    "                \n",
    "                if not isinstance(outputs, list):\n",
    "                    outputs = [outputs]\n",
    "                \n",
    "                # Save all the outputs for merging back together later\n",
    "                for l in range(len(outputs)):\n",
    "                    outputs_all[l].append(outputs[l])\n",
    "\n",
    "    # Merge outputs on CPU\n",
    "    with tf.device('/cpu:0'):\n",
    "        \n",
    "        merged = []\n",
    "        for outputs in outputs_all:\n",
    "            merged.append(concatenate(outputs, axis=0))\n",
    "            \n",
    "        return Model(inputs=model.inputs, outputs=merged)"
   ]
  },
  {
   "cell_type": "code",
   "execution_count": 8,
   "metadata": {},
   "outputs": [],
   "source": [
    "\n",
    "\n",
    "###############################################################################\n",
    "# Training and validation\n",
    "###############################################################################\n",
    "\n",
    "h5f = h5py.File(data_dir + 'dataset' + '_' + 'train'\n",
    "                + '_' + 'all_10k' + '.h5', 'r')\n",
    "\n"
   ]
  },
  {
   "cell_type": "code",
   "execution_count": 9,
   "metadata": {},
   "outputs": [],
   "source": [
    "num_idx = len(h5f.keys())//2\n",
    "idx_all = np.random.permutation(num_idx)\n",
    "idx_train = idx_all[:int(0.9*num_idx)]\n",
    "idx_valid = idx_all[int(0.9*num_idx):]\n",
    "\n",
    "EPOCH_NUM = 10*len(idx_train)\n",
    "\n",
    "n_null = 0\n",
    "n_acceptor = 0\n",
    "n_donor = 0\n",
    "for idx in idx_train:\n",
    "    y = h5f['Y' + str(idx)][:]\n",
    "    n_null += np.sum(y[0,:,:,0]==1)\n",
    "    n_acceptor += np.sum(y[0,:,:,1]==1)\n",
    "    n_donor += np.sum(y[0,:,:,2]==1)"
   ]
  },
  {
   "cell_type": "code",
   "execution_count": 10,
   "metadata": {},
   "outputs": [],
   "source": [
    "#np.save('../Data/idx_all.npy',idx_all)"
   ]
  },
  {
   "cell_type": "code",
   "execution_count": 11,
   "metadata": {},
   "outputs": [],
   "source": [
    "#weights = (n_null+n_acceptor+n_donor) / (3 * np.array([n_null,n_acceptor,n_donor]))"
   ]
  },
  {
   "cell_type": "code",
   "execution_count": 12,
   "metadata": {},
   "outputs": [],
   "source": [
    "weights = [1,1,1]"
   ]
  },
  {
   "cell_type": "code",
   "execution_count": 13,
   "metadata": {
    "scrolled": true
   },
   "outputs": [],
   "source": [
    "start_time = time.time()\n"
   ]
  },
  {
   "cell_type": "code",
   "execution_count": 14,
   "metadata": {
    "scrolled": true
   },
   "outputs": [
    {
     "name": "stdout",
     "output_type": "stream",
     "text": [
      "WARNING:tensorflow:From /odinn/tmp/benediktj/Singularity/.local/lib/python3.8/site-packages/keras/backend/tensorflow_backend.py:58: The name tf.get_default_graph is deprecated. Please use tf.compat.v1.get_default_graph instead.\n",
      "\n",
      "WARNING:tensorflow:From /odinn/tmp/benediktj/Singularity/.local/lib/python3.8/site-packages/keras/backend/tensorflow_backend.py:431: The name tf.placeholder is deprecated. Please use tf.compat.v1.placeholder instead.\n",
      "\n",
      "WARNING:tensorflow:From /odinn/tmp/benediktj/Singularity/.local/lib/python3.8/site-packages/keras/backend/tensorflow_backend.py:3445: The name tf.random_uniform is deprecated. Please use tf.random.uniform instead.\n",
      "\n",
      "WARNING:tensorflow:From /odinn/tmp/benediktj/Singularity/.local/lib/python3.8/site-packages/keras/backend/tensorflow_backend.py:153: The name tf.get_default_session is deprecated. Please use tf.compat.v1.get_default_session instead.\n",
      "\n",
      "WARNING:tensorflow:From /odinn/tmp/benediktj/Singularity/.local/lib/python3.8/site-packages/keras/backend/tensorflow_backend.py:158: The name tf.ConfigProto is deprecated. Please use tf.compat.v1.ConfigProto instead.\n",
      "\n",
      "WARNING:tensorflow:From /odinn/tmp/benediktj/Singularity/.local/lib/python3.8/site-packages/keras/backend/tensorflow_backend.py:163: The name tf.Session is deprecated. Please use tf.compat.v1.Session instead.\n",
      "\n"
     ]
    },
    {
     "name": "stderr",
     "output_type": "stream",
     "text": [
      "2022-07-07 17:04:17.662272: I tensorflow/core/platform/profile_utils/cpu_utils.cc:94] CPU Frequency: 3000000000 Hz\n",
      "2022-07-07 17:04:17.665183: I tensorflow/compiler/xla/service/service.cc:168] XLA service 0x6d870c0 initialized for platform Host (this does not guarantee that XLA will be used). Devices:\n",
      "2022-07-07 17:04:17.665220: I tensorflow/compiler/xla/service/service.cc:176]   StreamExecutor device (0): Host, Default Version\n",
      "2022-07-07 17:04:17.667159: I tensorflow/stream_executor/platform/default/dso_loader.cc:49] Successfully opened dynamic library libcuda.so.1\n",
      "2022-07-07 17:04:19.587621: I tensorflow/compiler/xla/service/service.cc:168] XLA service 0x6de66c0 initialized for platform CUDA (this does not guarantee that XLA will be used). Devices:\n",
      "2022-07-07 17:04:19.587655: I tensorflow/compiler/xla/service/service.cc:176]   StreamExecutor device (0): NVIDIA Tesla V100-PCIE-32GB, Compute Capability 7.0\n",
      "2022-07-07 17:04:19.587660: I tensorflow/compiler/xla/service/service.cc:176]   StreamExecutor device (1): NVIDIA Tesla V100-PCIE-32GB, Compute Capability 7.0\n",
      "2022-07-07 17:04:19.591251: I tensorflow/core/common_runtime/gpu/gpu_device.cc:1666] Found device 0 with properties: \n",
      "name: NVIDIA Tesla V100-PCIE-32GB major: 7 minor: 0 memoryClockRate(GHz): 1.38\n",
      "pciBusID: 0000:5e:00.0\n",
      "2022-07-07 17:04:19.592164: I tensorflow/core/common_runtime/gpu/gpu_device.cc:1666] Found device 1 with properties: \n",
      "name: NVIDIA Tesla V100-PCIE-32GB major: 7 minor: 0 memoryClockRate(GHz): 1.38\n",
      "pciBusID: 0000:86:00.0\n",
      "2022-07-07 17:04:19.592200: I tensorflow/stream_executor/platform/default/dso_loader.cc:49] Successfully opened dynamic library libcudart.so.11.0\n",
      "2022-07-07 17:04:19.598006: I tensorflow/stream_executor/platform/default/dso_loader.cc:49] Successfully opened dynamic library libcublas.so.11\n",
      "2022-07-07 17:04:19.600425: I tensorflow/stream_executor/platform/default/dso_loader.cc:49] Successfully opened dynamic library libcufft.so.10\n",
      "2022-07-07 17:04:19.600718: I tensorflow/stream_executor/platform/default/dso_loader.cc:49] Successfully opened dynamic library libcurand.so.10\n",
      "2022-07-07 17:04:19.601227: I tensorflow/stream_executor/platform/default/dso_loader.cc:49] Successfully opened dynamic library libcusolver.so.11\n",
      "2022-07-07 17:04:19.602194: I tensorflow/stream_executor/platform/default/dso_loader.cc:49] Successfully opened dynamic library libcusparse.so.11\n",
      "2022-07-07 17:04:19.602337: I tensorflow/stream_executor/platform/default/dso_loader.cc:49] Successfully opened dynamic library libcudnn.so.8\n",
      "2022-07-07 17:04:19.605750: I tensorflow/core/common_runtime/gpu/gpu_device.cc:1794] Adding visible gpu devices: 0, 1\n",
      "2022-07-07 17:04:19.605788: I tensorflow/stream_executor/platform/default/dso_loader.cc:49] Successfully opened dynamic library libcudart.so.11.0\n"
     ]
    },
    {
     "name": "stdout",
     "output_type": "stream",
     "text": [
      "WARNING:tensorflow:From /odinn/tmp/benediktj/Singularity/.local/lib/python3.8/site-packages/keras/backend/tensorflow_backend.py:332: The name tf.global_variables is deprecated. Please use tf.compat.v1.global_variables instead.\n",
      "\n",
      "WARNING:tensorflow:From /odinn/tmp/benediktj/Singularity/.local/lib/python3.8/site-packages/keras/backend/tensorflow_backend.py:340: The name tf.variables_initializer is deprecated. Please use tf.compat.v1.variables_initializer instead.\n",
      "\n"
     ]
    },
    {
     "name": "stderr",
     "output_type": "stream",
     "text": [
      "2022-07-07 17:04:20.187689: I tensorflow/core/common_runtime/gpu/gpu_device.cc:1206] Device interconnect StreamExecutor with strength 1 edge matrix:\n",
      "2022-07-07 17:04:20.187737: I tensorflow/core/common_runtime/gpu/gpu_device.cc:1212]      0 1 \n",
      "2022-07-07 17:04:20.187748: I tensorflow/core/common_runtime/gpu/gpu_device.cc:1225] 0:   N Y \n",
      "2022-07-07 17:04:20.187753: I tensorflow/core/common_runtime/gpu/gpu_device.cc:1225] 1:   Y N \n",
      "2022-07-07 17:04:20.190585: I tensorflow/core/common_runtime/gpu/gpu_device.cc:1351] Created TensorFlow device (/job:localhost/replica:0/task:0/device:GPU:0 with 31013 MB memory) -> physical GPU (device: 0, name: NVIDIA Tesla V100-PCIE-32GB, pci bus id: 0000:5e:00.0, compute capability: 7.0)\n",
      "2022-07-07 17:04:20.191988: I tensorflow/core/common_runtime/gpu/gpu_device.cc:1351] Created TensorFlow device (/job:localhost/replica:0/task:0/device:GPU:1 with 31013 MB memory) -> physical GPU (device: 1, name: NVIDIA Tesla V100-PCIE-32GB, pci bus id: 0000:86:00.0, compute capability: 7.0)\n"
     ]
    },
    {
     "name": "stdout",
     "output_type": "stream",
     "text": [
      "WARNING:tensorflow:From /odinn/tmp/benediktj/Singularity/.local/lib/python3.8/site-packages/keras/optimizers.py:699: The name tf.train.Optimizer is deprecated. Please use tf.compat.v1.train.Optimizer instead.\n",
      "\n",
      "WARNING:tensorflow:From /odinn/tmp/benediktj/Singularity/.local/lib/python3.8/site-packages/keras/backend/tensorflow_backend.py:1420: The name tf.log is deprecated. Please use tf.math.log instead.\n",
      "\n"
     ]
    },
    {
     "name": "stderr",
     "output_type": "stream",
     "text": [
      "\r",
      "  0%|                                                                                                                          | 0/1190 [00:00<?, ?it/s]"
     ]
    },
    {
     "name": "stdout",
     "output_type": "stream",
     "text": [
      "WARNING:tensorflow:From /odinn/tmp/benediktj/Singularity/.local/lib/python3.8/site-packages/keras/backend/tensorflow_backend.py:878: The name tf.assign_add is deprecated. Please use tf.compat.v1.assign_add instead.\n",
      "\n",
      "WARNING:tensorflow:From /odinn/tmp/benediktj/Singularity/.local/lib/python3.8/site-packages/keras/backend/tensorflow_backend.py:865: The name tf.assign is deprecated. Please use tf.compat.v1.assign instead.\n",
      "\n"
     ]
    },
    {
     "name": "stderr",
     "output_type": "stream",
     "text": [
      "2022-07-07 17:05:21.259850: I tensorflow/stream_executor/platform/default/dso_loader.cc:49] Successfully opened dynamic library libcudnn.so.8\n",
      "2022-07-07 17:05:22.622654: I tensorflow/stream_executor/platform/default/dso_loader.cc:49] Successfully opened dynamic library libcublas.so.11\n",
      " 10%|██████████▉                                                                                                   | 118/1190 [34:09<2:37:41,  8.83s/it]"
     ]
    },
    {
     "name": "stdout",
     "output_type": "stream",
     "text": [
      "--------------------------------------------------------------\n",
      "\n",
      "\u001b[1mValidation set metrics:\u001b[0m\n",
      "\n",
      "\u001b[1mAcceptor:\u001b[0m\n",
      "0.9822\t0.8455\t0.9636\t0.9841\t0.915\t0.9766\t0.6623\t0.0686\t0.0083\t13051\t15435.0\t15435\n",
      "\n",
      "\u001b[1mDonor:\u001b[0m\n",
      "0.9815\t0.8532\t0.9707\t0.9888\t0.9213\t0.9936\t0.8825\t0.2132\t0.0296\t13173\t15440.0\t15440\n",
      "\n",
      "\u001b[1mTraining set metrics:\u001b[0m\n",
      "\n",
      "\u001b[1mAcceptor:\u001b[0m\n",
      "0.982\t0.8649\t0.9708\t0.9856\t0.9271\t0.9793\t0.6241\t0.0432\t0.0053\t11313\t13080.0\t13080\n",
      "\n",
      "\u001b[1mDonor:\u001b[0m\n",
      "0.9839\t0.8766\t0.9797\t0.9905\t0.9387\t0.9937\t0.8546\t0.1301\t0.0163\t11469\t13084.0\t13084\n",
      "Learning rate: 0.0010000000474974513\n",
      "--- 2724.6832313537598 seconds ---\n",
      "--------------------------------------------------------------\n"
     ]
    },
    {
     "name": "stderr",
     "output_type": "stream",
     "text": [
      " 20%|█████████████████████▌                                                                                      | 237/1190 [1:09:13<3:38:36, 13.76s/it]"
     ]
    },
    {
     "name": "stdout",
     "output_type": "stream",
     "text": [
      "--------------------------------------------------------------\n",
      "\n",
      "\u001b[1mValidation set metrics:\u001b[0m\n",
      "\n",
      "\u001b[1mAcceptor:\u001b[0m\n",
      "0.9912\t0.9023\t0.9821\t0.9909\t0.9543\t0.9875\t0.4807\t0.0140\t0.0020\t13927\t15435.0\t15435\n",
      "\n",
      "\u001b[1mDonor:\u001b[0m\n",
      "0.9894\t0.908\t0.9834\t0.993\t0.9575\t0.9841\t0.4541\t0.0115\t0.0015\t14019\t15440.0\t15440\n",
      "\n",
      "\u001b[1mTraining set metrics:\u001b[0m\n",
      "\n",
      "\u001b[1mAcceptor:\u001b[0m\n",
      "0.9887\t0.9144\t0.9842\t0.9914\t0.9607\t0.9879\t0.4478\t0.0098\t0.0016\t11961\t13080.0\t13080\n",
      "\n",
      "\u001b[1mDonor:\u001b[0m\n",
      "0.9905\t0.9263\t0.9882\t0.9933\t0.967\t0.9858\t0.4486\t0.0080\t0.0011\t12120\t13084.0\t13084\n",
      "Learning rate: 0.0010000000474974513\n",
      "--- 1861.618174791336 seconds ---\n",
      "--------------------------------------------------------------\n"
     ]
    },
    {
     "name": "stderr",
     "output_type": "stream",
     "text": [
      " 30%|████████████████████████████████▎                                                                           | 356/1190 [1:40:36<1:50:38,  7.96s/it]"
     ]
    },
    {
     "name": "stdout",
     "output_type": "stream",
     "text": [
      "--------------------------------------------------------------\n",
      "\n",
      "\u001b[1mValidation set metrics:\u001b[0m\n",
      "\n",
      "\u001b[1mAcceptor:\u001b[0m\n",
      "0.9898\t0.904\t0.9814\t0.9905\t0.9547\t0.9783\t0.4077\t0.0133\t0.0027\t13953\t15435.0\t15435\n",
      "\n",
      "\u001b[1mDonor:\u001b[0m\n",
      "0.9896\t0.9132\t0.9853\t0.9932\t0.9602\t0.9817\t0.4604\t0.0153\t0.0028\t14100\t15440.0\t15440\n",
      "\n",
      "\u001b[1mTraining set metrics:\u001b[0m\n",
      "\n",
      "\u001b[1mAcceptor:\u001b[0m\n",
      "0.9917\t0.9174\t0.9852\t0.9918\t0.9629\t0.9759\t0.3468\t0.0102\t0.0024\t12000\t13080.0\t13080\n",
      "\n",
      "\u001b[1mDonor:\u001b[0m\n",
      "0.9942\t0.9259\t0.9889\t0.994\t0.9703\t0.9794\t0.3888\t0.0106\t0.0021\t12115\t13084.0\t13084\n",
      "Learning rate: 0.0010000000474974513\n",
      "--- 1887.4979438781738 seconds ---\n",
      "--------------------------------------------------------------\n"
     ]
    },
    {
     "name": "stderr",
     "output_type": "stream",
     "text": [
      " 40%|███████████████████████████████████████████                                                                 | 475/1190 [2:11:03<1:40:20,  8.42s/it]"
     ]
    },
    {
     "name": "stdout",
     "output_type": "stream",
     "text": [
      "--------------------------------------------------------------\n",
      "\n",
      "\u001b[1mValidation set metrics:\u001b[0m\n",
      "\n",
      "\u001b[1mAcceptor:\u001b[0m\n",
      "0.9912\t0.9188\t0.9833\t0.9908\t0.9624\t0.9931\t0.1674\t0.0007\t0.0001\t14182\t15435.0\t15435\n",
      "\n",
      "\u001b[1mDonor:\u001b[0m\n",
      "0.9911\t0.9227\t0.9859\t0.9921\t0.9655\t0.9978\t0.3348\t0.0012\t0.0002\t14247\t15440.0\t15440\n",
      "\n",
      "\u001b[1mTraining set metrics:\u001b[0m\n",
      "\n",
      "\u001b[1mAcceptor:\u001b[0m\n",
      "0.9911\t0.9305\t0.9869\t0.9925\t0.9685\t0.9953\t0.1965\t0.0007\t0.0001\t12171\t13080.0\t13080\n",
      "\n",
      "\u001b[1mDonor:\u001b[0m\n",
      "0.9931\t0.9379\t0.9906\t0.9941\t0.9742\t0.9985\t0.3719\t0.0012\t0.0002\t12271\t13084.0\t13084\n",
      "Learning rate: 0.0010000000474974513\n",
      "--- 1829.1848239898682 seconds ---\n",
      "--------------------------------------------------------------\n"
     ]
    },
    {
     "name": "stderr",
     "output_type": "stream",
     "text": [
      " 50%|█████████████████████████████████████████████████████▉                                                      | 594/1190 [2:40:51<2:02:17, 12.31s/it]"
     ]
    },
    {
     "name": "stdout",
     "output_type": "stream",
     "text": [
      "--------------------------------------------------------------\n",
      "\n",
      "\u001b[1mValidation set metrics:\u001b[0m\n",
      "\n",
      "\u001b[1mAcceptor:\u001b[0m\n",
      "0.9918\t0.9156\t0.9802\t0.9884\t0.9592\t0.9915\t0.2552\t0.0051\t0.0013\t14132\t15435.0\t15435\n",
      "\n",
      "\u001b[1mDonor:\u001b[0m\n",
      "0.992\t0.9245\t0.9861\t0.9916\t0.9658\t0.9937\t0.2094\t0.0029\t0.0008\t14275\t15440.0\t15440\n",
      "\n",
      "\u001b[1mTraining set metrics:\u001b[0m\n",
      "\n",
      "\u001b[1mAcceptor:\u001b[0m\n",
      "0.9936\t0.9322\t0.9867\t0.9914\t0.9707\t0.9932\t0.3222\t0.0054\t0.0014\t12193\t13080.0\t13080\n",
      "\n",
      "\u001b[1mDonor:\u001b[0m\n",
      "0.9943\t0.9463\t0.9919\t0.9943\t0.9787\t0.9948\t0.2574\t0.0028\t0.0008\t12382\t13084.0\t13084\n",
      "Learning rate: 0.0010000000474974513\n",
      "--- 1778.9576013088226 seconds ---\n",
      "--------------------------------------------------------------\n"
     ]
    },
    {
     "name": "stderr",
     "output_type": "stream",
     "text": [
      " 60%|████████████████████████████████████████████████████████████████▋                                           | 713/1190 [3:08:26<2:30:05, 18.88s/it]"
     ]
    },
    {
     "name": "stdout",
     "output_type": "stream",
     "text": [
      "--------------------------------------------------------------\n",
      "\n",
      "\u001b[1mValidation set metrics:\u001b[0m\n",
      "\n",
      "\u001b[1mAcceptor:\u001b[0m\n",
      "0.9903\t0.9234\t0.9881\t0.9927\t0.9662\t0.9869\t0.5773\t0.0039\t0.0006\t14253\t15435.0\t15435\n",
      "\n",
      "\u001b[1mDonor:\u001b[0m\n",
      "0.9912\t0.9258\t0.9898\t0.9938\t0.9681\t0.9922\t0.6119\t0.0025\t0.0004\t14294\t15440.0\t15440\n",
      "\n",
      "\u001b[1mTraining set metrics:\u001b[0m\n",
      "\n",
      "\u001b[1mAcceptor:\u001b[0m\n",
      "0.996\t0.9413\t0.9903\t0.994\t0.9779\t0.9874\t0.4757\t0.0029\t0.0006\t12312\t13080.0\t13080\n",
      "\n",
      "\u001b[1mDonor:\u001b[0m\n",
      "0.9954\t0.9476\t0.9937\t0.9956\t0.9816\t0.9925\t0.4941\t0.0017\t0.0003\t12398\t13084.0\t13084\n",
      "Learning rate: 0.0010000000474974513\n",
      "--- 1656.4249062538147 seconds ---\n",
      "--------------------------------------------------------------\n"
     ]
    },
    {
     "name": "stderr",
     "output_type": "stream",
     "text": [
      " 70%|████████████████████████████████████████████████████████████████████████████▉                                 | 832/1190 [3:35:03<51:42,  8.67s/it]"
     ]
    },
    {
     "name": "stdout",
     "output_type": "stream",
     "text": [
      "--------------------------------------------------------------\n",
      "\n",
      "\u001b[1mValidation set metrics:\u001b[0m\n",
      "\n",
      "\u001b[1mAcceptor:\u001b[0m\n",
      "0.9927\t0.932\t0.9865\t0.9918\t0.969\t0.9835\t0.1888\t0.0009\t0.0002\t14385\t15435.0\t15435\n",
      "\n",
      "\u001b[1mDonor:\u001b[0m\n",
      "0.9915\t0.9338\t0.9878\t0.9926\t0.9703\t0.9909\t0.3413\t0.0017\t0.0003\t14418\t15440.0\t15440\n",
      "\n",
      "\u001b[1mTraining set metrics:\u001b[0m\n",
      "\n",
      "\u001b[1mAcceptor:\u001b[0m\n",
      "0.9965\t0.9536\t0.9924\t0.995\t0.9833\t0.9871\t0.2284\t0.0009\t0.0002\t12473\t13080.0\t13080\n",
      "\n",
      "\u001b[1mDonor:\u001b[0m\n",
      "0.9966\t0.9572\t0.9944\t0.996\t0.9856\t0.9926\t0.4049\t0.0016\t0.0004\t12524\t13084.0\t13084\n",
      "Learning rate: 0.0005000000237487257\n",
      "--- 1607.7298781871796 seconds ---\n",
      "--------------------------------------------------------------\n"
     ]
    },
    {
     "name": "stderr",
     "output_type": "stream",
     "text": [
      " 80%|███████████████████████████████████████████████████████████████████████████████████████▉                      | 951/1190 [4:02:57<43:09, 10.84s/it]"
     ]
    },
    {
     "name": "stdout",
     "output_type": "stream",
     "text": [
      "--------------------------------------------------------------\n",
      "\n",
      "\u001b[1mValidation set metrics:\u001b[0m\n",
      "\n",
      "\u001b[1mAcceptor:\u001b[0m\n",
      "0.9918\t0.9336\t0.9886\t0.9933\t0.9715\t0.9935\t0.4234\t0.0024\t0.0004\t14410\t15435.0\t15435\n",
      "\n",
      "\u001b[1mDonor:\u001b[0m\n",
      "0.9922\t0.9394\t0.9896\t0.994\t0.9739\t0.9941\t0.4090\t0.0015\t0.0003\t14505\t15440.0\t15440\n",
      "\n",
      "\u001b[1mTraining set metrics:\u001b[0m\n",
      "\n",
      "\u001b[1mAcceptor:\u001b[0m\n",
      "0.9989\t0.9661\t0.9934\t0.9963\t0.9886\t0.9944\t0.4313\t0.0019\t0.0004\t12637\t13080.0\t13080\n",
      "\n",
      "\u001b[1mDonor:\u001b[0m\n",
      "0.9986\t0.9713\t0.9959\t0.997\t0.9912\t0.9947\t0.3917\t0.0012\t0.0003\t12709\t13084.0\t13084\n",
      "Learning rate: 0.0002500000118743628\n",
      "--- 1674.1696481704712 seconds ---\n",
      "--------------------------------------------------------------\n"
     ]
    },
    {
     "name": "stderr",
     "output_type": "stream",
     "text": [
      " 90%|██████████████████████████████████████████████████████████████████████████████████████████████████           | 1070/1190 [4:29:41<19:04,  9.54s/it]"
     ]
    },
    {
     "name": "stdout",
     "output_type": "stream",
     "text": [
      "--------------------------------------------------------------\n",
      "\n",
      "\u001b[1mValidation set metrics:\u001b[0m\n",
      "\n",
      "\u001b[1mAcceptor:\u001b[0m\n",
      "0.992\t0.9365\t0.9882\t0.9925\t0.9711\t0.9937\t0.2807\t0.0013\t0.0003\t14455\t15435.0\t15435\n",
      "\n",
      "\u001b[1mDonor:\u001b[0m\n",
      "0.9922\t0.9396\t0.9881\t0.9928\t0.9727\t0.9930\t0.2711\t0.0011\t0.0002\t14508\t15440.0\t15440\n",
      "\n",
      "\u001b[1mTraining set metrics:\u001b[0m\n",
      "\n",
      "\u001b[1mAcceptor:\u001b[0m\n",
      "0.9988\t0.968\t0.9939\t0.9959\t0.989\t0.9938\t0.2957\t0.0012\t0.0003\t12662\t13080.0\t13080\n",
      "\n",
      "\u001b[1mDonor:\u001b[0m\n",
      "0.9991\t0.9724\t0.9959\t0.9973\t0.9915\t0.9931\t0.2820\t0.0010\t0.0002\t12723\t13084.0\t13084\n",
      "Learning rate: 0.0001250000059371814\n",
      "--- 1580.6542265415192 seconds ---\n",
      "--------------------------------------------------------------\n"
     ]
    },
    {
     "name": "stderr",
     "output_type": "stream",
     "text": [
      "100%|████████████████████████████████████████████████████████████████████████████████████████████████████████████▉| 1189/1190 [4:58:48<00:12, 12.46s/it]"
     ]
    },
    {
     "name": "stdout",
     "output_type": "stream",
     "text": [
      "--------------------------------------------------------------\n",
      "\n",
      "\u001b[1mValidation set metrics:\u001b[0m\n",
      "\n",
      "\u001b[1mAcceptor:\u001b[0m\n",
      "0.9922\t0.9356\t0.987\t0.9914\t0.97\t0.9955\t0.2996\t0.0012\t0.0003\t14441\t15435.0\t15435\n",
      "\n",
      "\u001b[1mDonor:\u001b[0m\n",
      "0.9911\t0.9403\t0.9872\t0.9914\t0.9716\t0.9955\t0.3427\t0.0013\t0.0003\t14519\t15440.0\t15440\n",
      "\n",
      "\u001b[1mTraining set metrics:\u001b[0m\n",
      "\n",
      "\u001b[1mAcceptor:\u001b[0m\n",
      "0.9995\t0.97\t0.994\t0.9965\t0.9898\t0.9960\t0.3400\t0.0012\t0.0003\t12688\t13080.0\t13080\n",
      "\n",
      "\u001b[1mDonor:\u001b[0m\n",
      "0.9991\t0.9736\t0.9959\t0.9971\t0.9918\t0.9960\t0.3950\t0.0013\t0.0003\t12738\t13084.0\t13084\n",
      "Learning rate: 6.25000029685907e-05\n",
      "--- 1777.8719758987427 seconds ---\n",
      "--------------------------------------------------------------\n"
     ]
    },
    {
     "name": "stderr",
     "output_type": "stream",
     "text": [
      "100%|█████████████████████████████████████████████████████████████████████████████████████████████████████████████| 1190/1190 [5:06:14<00:00, 15.44s/it]\n",
      " 10%|██████▊                                                              | 118/1190 [20:12<2:12:20,  7.41s/it]"
     ]
    },
    {
     "name": "stdout",
     "output_type": "stream",
     "text": [
      "--------------------------------------------------------------\n",
      "\n",
      "\u001b[1mValidation set metrics:\u001b[0m\n",
      "\n",
      "\u001b[1mAcceptor:\u001b[0m\n",
      "0.9694\t0.7891\t0.9197\t0.9659\t0.8616\t0.7746\t0.1291\t0.0155\t0.0036\t12180\t15435.0\t15435\n",
      "\n",
      "\u001b[1mDonor:\u001b[0m\n",
      "0.9697\t0.8052\t0.9308\t0.9668\t0.8723\t0.7386\t0.1426\t0.0240\t0.0086\t12433\t15440.0\t15440\n",
      "\n",
      "\u001b[1mTraining set metrics:\u001b[0m\n",
      "\n",
      "\u001b[1mAcceptor:\u001b[0m\n",
      "0.9742\t0.8307\t0.9456\t0.9755\t0.8944\t0.8792\t0.1691\t0.0146\t0.0033\t10865\t13080.0\t13080\n",
      "\n",
      "\u001b[1mDonor:\u001b[0m\n",
      "0.98\t0.8456\t0.9511\t0.9752\t0.9066\t0.8373\t0.1819\t0.0254\t0.0094\t11064\t13084.0\t13084\n",
      "Learning rate: 0.0010000000474974513\n",
      "--- 1698.1107382774353 seconds ---\n",
      "--------------------------------------------------------------\n"
     ]
    },
    {
     "name": "stderr",
     "output_type": "stream",
     "text": [
      " 20%|█████████████▋                                                       | 237/1190 [48:00<2:06:53,  7.99s/it]"
     ]
    },
    {
     "name": "stdout",
     "output_type": "stream",
     "text": [
      "--------------------------------------------------------------\n",
      "\n",
      "\u001b[1mValidation set metrics:\u001b[0m\n",
      "\n",
      "\u001b[1mAcceptor:\u001b[0m\n",
      "0.9885\t0.9012\t0.9787\t0.9879\t0.9514\t0.9155\t0.0663\t0.0011\t0.0002\t13910\t15435.0\t15435\n",
      "\n",
      "\u001b[1mDonor:\u001b[0m\n",
      "0.9872\t0.9054\t0.9813\t0.9896\t0.9527\t0.9174\t0.1183\t0.0037\t0.0009\t13979\t15440.0\t15440\n",
      "\n",
      "\u001b[1mTraining set metrics:\u001b[0m\n",
      "\n",
      "\u001b[1mAcceptor:\u001b[0m\n",
      "0.9882\t0.9019\t0.9797\t0.9878\t0.9509\t0.9281\t0.0677\t0.0011\t0.0002\t11797\t13080.0\t13080\n",
      "\n",
      "\u001b[1mDonor:\u001b[0m\n",
      "0.9911\t0.9059\t0.9822\t0.9898\t0.9564\t0.9185\t0.1159\t0.0036\t0.0009\t11853\t13084.0\t13084\n",
      "Learning rate: 0.0010000000474974513\n",
      "--- 1675.127004623413 seconds ---\n",
      "--------------------------------------------------------------\n"
     ]
    },
    {
     "name": "stderr",
     "output_type": "stream",
     "text": [
      " 30%|████████████████████                                               | 356/1190 [1:18:08<1:04:30,  4.64s/it]"
     ]
    },
    {
     "name": "stdout",
     "output_type": "stream",
     "text": [
      "--------------------------------------------------------------\n",
      "\n",
      "\u001b[1mValidation set metrics:\u001b[0m\n",
      "\n",
      "\u001b[1mAcceptor:\u001b[0m\n",
      "0.9903\t0.9083\t0.9842\t0.9918\t0.9569\t0.9805\t0.6136\t0.0285\t0.0038\t14019\t15435.0\t15435\n",
      "\n",
      "\u001b[1mDonor:\u001b[0m\n",
      "0.9891\t0.9106\t0.9849\t0.9929\t0.9595\t0.9909\t0.6285\t0.0126\t0.0012\t14059\t15440.0\t15440\n",
      "\n",
      "\u001b[1mTraining set metrics:\u001b[0m\n",
      "\n",
      "\u001b[1mAcceptor:\u001b[0m\n",
      "0.9924\t0.919\t0.9855\t0.9911\t0.9641\t0.9803\t0.5419\t0.0163\t0.0025\t12020\t13080.0\t13080\n",
      "\n",
      "\u001b[1mDonor:\u001b[0m\n",
      "0.9936\t0.9266\t0.9897\t0.9946\t0.9709\t0.9912\t0.5668\t0.0067\t0.0007\t12124\t13084.0\t13084\n",
      "Learning rate: 0.0010000000474974513\n",
      "--- 1789.9287004470825 seconds ---\n",
      "--------------------------------------------------------------\n"
     ]
    },
    {
     "name": "stderr",
     "output_type": "stream",
     "text": [
      " 40%|██████████████████████████▋                                        | 475/1190 [1:46:52<2:02:08, 10.25s/it]"
     ]
    },
    {
     "name": "stdout",
     "output_type": "stream",
     "text": [
      "--------------------------------------------------------------\n",
      "\n",
      "\u001b[1mValidation set metrics:\u001b[0m\n",
      "\n",
      "\u001b[1mAcceptor:\u001b[0m\n",
      "0.9912\t0.9142\t0.9836\t0.9912\t0.9606\t0.9808\t0.5057\t0.0148\t0.0025\t14110\t15435.0\t15435\n",
      "\n",
      "\u001b[1mDonor:\u001b[0m\n",
      "0.9899\t0.9196\t0.9878\t0.9938\t0.9642\t0.9855\t0.5701\t0.0115\t0.0019\t14198\t15440.0\t15440\n",
      "\n",
      "\u001b[1mTraining set metrics:\u001b[0m\n",
      "\n",
      "\u001b[1mAcceptor:\u001b[0m\n",
      "0.9934\t0.9226\t0.9867\t0.993\t0.9672\t0.9781\t0.4159\t0.0091\t0.0016\t12067\t13080.0\t13080\n",
      "\n",
      "\u001b[1mDonor:\u001b[0m\n",
      "0.9933\t0.9321\t0.9911\t0.9946\t0.9734\t0.9846\t0.4768\t0.0074\t0.0014\t12196\t13084.0\t13084\n",
      "Learning rate: 0.0010000000474974513\n",
      "--- 1726.1087079048157 seconds ---\n",
      "--------------------------------------------------------------\n"
     ]
    },
    {
     "name": "stderr",
     "output_type": "stream",
     "text": [
      " 50%|█████████████████████████████████▍                                 | 594/1190 [2:16:39<2:38:37, 15.97s/it]"
     ]
    },
    {
     "name": "stdout",
     "output_type": "stream",
     "text": [
      "--------------------------------------------------------------\n",
      "\n",
      "\u001b[1mValidation set metrics:\u001b[0m\n",
      "\n",
      "\u001b[1mAcceptor:\u001b[0m\n",
      "0.9914\t0.9228\t0.9852\t0.9908\t0.9647\t0.9833\t0.3264\t0.0052\t0.0009\t14244\t15435.0\t15435\n",
      "\n",
      "\u001b[1mDonor:\u001b[0m\n",
      "0.9911\t0.9288\t0.9874\t0.9929\t0.9677\t0.9953\t0.4703\t0.0044\t0.0006\t14341\t15440.0\t15440\n",
      "\n",
      "\u001b[1mTraining set metrics:\u001b[0m\n",
      "\n",
      "\u001b[1mAcceptor:\u001b[0m\n",
      "0.9948\t0.9396\t0.9902\t0.9943\t0.9761\t0.9855\t0.3246\t0.0040\t0.0008\t12290\t13080.0\t13080\n",
      "\n",
      "\u001b[1mDonor:\u001b[0m\n",
      "0.9943\t0.9509\t0.993\t0.9952\t0.9805\t0.9955\t0.4332\t0.0029\t0.0005\t12441\t13084.0\t13084\n",
      "Learning rate: 0.0010000000474974513\n",
      "--- 1787.4611840248108 seconds ---\n",
      "--------------------------------------------------------------\n"
     ]
    },
    {
     "name": "stderr",
     "output_type": "stream",
     "text": [
      " 60%|████████████████████████████████████████▏                          | 713/1190 [2:44:46<1:31:32, 11.51s/it]"
     ]
    },
    {
     "name": "stdout",
     "output_type": "stream",
     "text": [
      "--------------------------------------------------------------\n",
      "\n",
      "\u001b[1mValidation set metrics:\u001b[0m\n",
      "\n",
      "\u001b[1mAcceptor:\u001b[0m\n",
      "0.9902\t0.9206\t0.9848\t0.9913\t0.9627\t0.9830\t0.2540\t0.0031\t0.0005\t14210\t15435.0\t15435\n",
      "\n",
      "\u001b[1mDonor:\u001b[0m\n",
      "0.9898\t0.9253\t0.9857\t0.9929\t0.9652\t0.9917\t0.2393\t0.0018\t0.0003\t14286\t15440.0\t15440\n",
      "\n",
      "\u001b[1mTraining set metrics:\u001b[0m\n",
      "\n",
      "\u001b[1mAcceptor:\u001b[0m\n",
      "0.995\t0.9408\t0.9901\t0.9943\t0.977\t0.9808\t0.2079\t0.0020\t0.0003\t12306\t13080.0\t13080\n",
      "\n",
      "\u001b[1mDonor:\u001b[0m\n",
      "0.9946\t0.9459\t0.993\t0.9952\t0.9803\t0.9910\t0.2059\t0.0013\t0.0002\t12376\t13084.0\t13084\n",
      "Learning rate: 0.0010000000474974513\n",
      "--- 1693.3622753620148 seconds ---\n",
      "--------------------------------------------------------------\n"
     ]
    },
    {
     "name": "stderr",
     "output_type": "stream",
     "text": [
      " 70%|██████████████████████████████████████████████▊                    | 832/1190 [3:16:41<1:27:25, 14.65s/it]"
     ]
    },
    {
     "name": "stdout",
     "output_type": "stream",
     "text": [
      "--------------------------------------------------------------\n",
      "\n",
      "\u001b[1mValidation set metrics:\u001b[0m\n",
      "\n",
      "\u001b[1mAcceptor:\u001b[0m\n",
      "0.9905\t0.9309\t0.988\t0.9919\t0.9683\t0.9776\t0.3066\t0.0020\t0.0004\t14368\t15435.0\t15435\n",
      "\n",
      "\u001b[1mDonor:\u001b[0m\n",
      "0.9918\t0.9334\t0.99\t0.9935\t0.9707\t0.9709\t0.2884\t0.0022\t0.0005\t14411\t15440.0\t15440\n",
      "\n",
      "\u001b[1mTraining set metrics:\u001b[0m\n",
      "\n",
      "\u001b[1mAcceptor:\u001b[0m\n",
      "0.9966\t0.9502\t0.9936\t0.9952\t0.9825\t0.9786\t0.2492\t0.0016\t0.0003\t12428\t13080.0\t13080\n",
      "\n",
      "\u001b[1mDonor:\u001b[0m\n",
      "0.9959\t0.9565\t0.994\t0.9957\t0.9849\t0.9720\t0.2318\t0.0018\t0.0005\t12515\t13084.0\t13084\n",
      "Learning rate: 0.0005000000237487257\n",
      "--- 1906.586125612259 seconds ---\n",
      "--------------------------------------------------------------\n"
     ]
    },
    {
     "name": "stderr",
     "output_type": "stream",
     "text": [
      " 80%|███████████████████████████████████████████████████████▏             | 951/1190 [3:41:59<34:49,  8.74s/it]"
     ]
    },
    {
     "name": "stdout",
     "output_type": "stream",
     "text": [
      "--------------------------------------------------------------\n",
      "\n",
      "\u001b[1mValidation set metrics:\u001b[0m\n",
      "\n",
      "\u001b[1mAcceptor:\u001b[0m\n",
      "0.9898\t0.9339\t0.9873\t0.9919\t0.9687\t0.9737\t0.2520\t0.0024\t0.0005\t14414\t15435.0\t15435\n",
      "\n",
      "\u001b[1mDonor:\u001b[0m\n",
      "0.992\t0.9372\t0.9889\t0.9929\t0.971\t0.9885\t0.3592\t0.0027\t0.0006\t14470\t15440.0\t15440\n",
      "\n",
      "\u001b[1mTraining set metrics:\u001b[0m\n",
      "\n",
      "\u001b[1mAcceptor:\u001b[0m\n",
      "0.9979\t0.9642\t0.9944\t0.9961\t0.9883\t0.9757\t0.2539\t0.0019\t0.0005\t12612\t13080.0\t13080\n",
      "\n",
      "\u001b[1mDonor:\u001b[0m\n",
      "0.9982\t0.9674\t0.9953\t0.9968\t0.9898\t0.9893\t0.3846\t0.0023\t0.0006\t12657\t13084.0\t13084\n",
      "Learning rate: 0.0002500000118743628\n",
      "--- 1516.6818237304688 seconds ---\n",
      "--------------------------------------------------------------\n"
     ]
    },
    {
     "name": "stderr",
     "output_type": "stream",
     "text": [
      " 90%|█████████████████████████████████████████████████████████████▏      | 1070/1190 [4:12:29<25:03, 12.53s/it]"
     ]
    },
    {
     "name": "stdout",
     "output_type": "stream",
     "text": [
      "--------------------------------------------------------------\n",
      "\n",
      "\u001b[1mValidation set metrics:\u001b[0m\n",
      "\n",
      "\u001b[1mAcceptor:\u001b[0m\n",
      "0.9905\t0.9369\t0.9886\t0.9922\t0.9707\t0.9969\t0.5903\t0.0031\t0.0005\t14461\t15435.0\t15435\n",
      "\n",
      "\u001b[1mDonor:\u001b[0m\n",
      "0.9911\t0.9398\t0.9901\t0.9942\t0.9724\t0.9970\t0.6188\t0.0026\t0.0004\t14510\t15440.0\t15440\n",
      "\n",
      "\u001b[1mTraining set metrics:\u001b[0m\n",
      "\n",
      "\u001b[1mAcceptor:\u001b[0m\n",
      "0.9985\t0.9671\t0.9953\t0.9962\t0.9894\t0.9970\t0.5095\t0.0021\t0.0004\t12650\t13080.0\t13080\n",
      "\n",
      "\u001b[1mDonor:\u001b[0m\n",
      "0.998\t0.9718\t0.9959\t0.9972\t0.9912\t0.9972\t0.5699\t0.0018\t0.0004\t12715\t13084.0\t13084\n",
      "Learning rate: 0.0001250000059371814\n",
      "--- 1811.6404044628143 seconds ---\n",
      "--------------------------------------------------------------\n"
     ]
    },
    {
     "name": "stderr",
     "output_type": "stream",
     "text": [
      "100%|███████████████████████████████████████████████████████████████████▉| 1189/1190 [4:38:25<00:12, 12.11s/it]"
     ]
    },
    {
     "name": "stdout",
     "output_type": "stream",
     "text": [
      "--------------------------------------------------------------\n",
      "\n",
      "\u001b[1mValidation set metrics:\u001b[0m\n",
      "\n",
      "\u001b[1mAcceptor:\u001b[0m\n",
      "0.9908\t0.9368\t0.9854\t0.9905\t0.9694\t0.9921\t0.2522\t0.0013\t0.0003\t14459\t15435.0\t15435\n",
      "\n",
      "\u001b[1mDonor:\u001b[0m\n",
      "0.9916\t0.9407\t0.9883\t0.9927\t0.9719\t0.9946\t0.3086\t0.0011\t0.0002\t14525\t15440.0\t15440\n",
      "\n",
      "\u001b[1mTraining set metrics:\u001b[0m\n",
      "\n",
      "\u001b[1mAcceptor:\u001b[0m\n",
      "0.9988\t0.9664\t0.995\t0.9961\t0.9895\t0.9922\t0.2817\t0.0013\t0.0003\t12640\t13080.0\t13080\n",
      "\n",
      "\u001b[1mDonor:\u001b[0m\n",
      "0.9979\t0.972\t0.9962\t0.9973\t0.9913\t0.9949\t0.3672\t0.0010\t0.0003\t12717\t13084.0\t13084\n",
      "Learning rate: 6.25000029685907e-05\n",
      "--- 1568.3802292346954 seconds ---\n",
      "--------------------------------------------------------------\n"
     ]
    },
    {
     "name": "stderr",
     "output_type": "stream",
     "text": [
      "100%|████████████████████████████████████████████████████████████████████| 1190/1190 [4:45:27<00:00, 14.39s/it]\n",
      " 10%|██████▊                                                              | 118/1190 [20:15<1:41:31,  5.68s/it]"
     ]
    },
    {
     "name": "stdout",
     "output_type": "stream",
     "text": [
      "--------------------------------------------------------------\n",
      "\n",
      "\u001b[1mValidation set metrics:\u001b[0m\n",
      "\n",
      "\u001b[1mAcceptor:\u001b[0m\n",
      "0.9815\t0.8562\t0.9648\t0.9841\t0.9196\t0.8453\t0.1573\t0.0125\t0.0025\t13216\t15435.0\t15435\n",
      "\n",
      "\u001b[1mDonor:\u001b[0m\n",
      "0.9806\t0.8582\t0.9699\t0.9881\t0.9244\t0.8266\t0.1668\t0.0126\t0.0025\t13251\t15440.0\t15440\n",
      "\n",
      "\u001b[1mTraining set metrics:\u001b[0m\n",
      "\n",
      "\u001b[1mAcceptor:\u001b[0m\n",
      "0.9847\t0.8659\t0.9674\t0.985\t0.9287\t0.8927\t0.1695\t0.0102\t0.0019\t11326\t13080.0\t13080\n",
      "\n",
      "\u001b[1mDonor:\u001b[0m\n",
      "0.9827\t0.8742\t0.977\t0.9898\t0.935\t0.8733\t0.1816\t0.0107\t0.0020\t11438\t13084.0\t13084\n"
     ]
    },
    {
     "name": "stderr",
     "output_type": "stream",
     "text": [
      "\r",
      " 10%|██████▋                                                            | 119/1190 [27:43<41:09:13, 138.33s/it]"
     ]
    },
    {
     "name": "stdout",
     "output_type": "stream",
     "text": [
      "Learning rate: 0.0010000000474974513\n",
      "--- 1743.8468549251556 seconds ---\n",
      "--------------------------------------------------------------\n"
     ]
    },
    {
     "name": "stderr",
     "output_type": "stream",
     "text": [
      " 20%|█████████████▋                                                       | 237/1190 [48:31<3:47:34, 14.33s/it]"
     ]
    },
    {
     "name": "stdout",
     "output_type": "stream",
     "text": [
      "--------------------------------------------------------------\n",
      "\n",
      "\u001b[1mValidation set metrics:\u001b[0m\n",
      "\n",
      "\u001b[1mAcceptor:\u001b[0m\n",
      "0.99\t0.8958\t0.9788\t0.9895\t0.9495\t0.9895\t0.5541\t0.0157\t0.0018\t13827\t15435.0\t15435\n",
      "\n",
      "\u001b[1mDonor:\u001b[0m\n",
      "0.9887\t0.9091\t0.9856\t0.9929\t0.9597\t0.9947\t0.6167\t0.0094\t0.0008\t14036\t15440.0\t15440\n",
      "\n",
      "\u001b[1mTraining set metrics:\u001b[0m\n",
      "\n",
      "\u001b[1mAcceptor:\u001b[0m\n",
      "0.9914\t0.9078\t0.9828\t0.9909\t0.9584\t0.9885\t0.4684\t0.0096\t0.0015\t11874\t13080.0\t13080\n",
      "\n",
      "\u001b[1mDonor:\u001b[0m\n",
      "0.9925\t0.924\t0.9888\t0.9934\t0.9689\t0.9948\t0.5619\t0.0058\t0.0006\t12089\t13084.0\t13084\n",
      "Learning rate: 0.0010000000474974513\n",
      "--- 1666.0783865451813 seconds ---\n",
      "--------------------------------------------------------------\n"
     ]
    },
    {
     "name": "stderr",
     "output_type": "stream",
     "text": [
      " 30%|████████████████████                                               | 356/1190 [1:15:00<3:25:39, 14.80s/it]"
     ]
    },
    {
     "name": "stdout",
     "output_type": "stream",
     "text": [
      "--------------------------------------------------------------\n",
      "\n",
      "\u001b[1mValidation set metrics:\u001b[0m\n",
      "\n",
      "\u001b[1mAcceptor:\u001b[0m\n",
      "0.9877\t0.8912\t0.9736\t0.9869\t0.9439\t0.9666\t0.2163\t0.0048\t0.0007\t13755\t15435.0\t15435\n",
      "\n",
      "\u001b[1mDonor:\u001b[0m\n",
      "0.9882\t0.8955\t0.9775\t0.9892\t0.9486\t0.9569\t0.1683\t0.0033\t0.0006\t13827\t15440.0\t15440\n",
      "\n",
      "\u001b[1mTraining set metrics:\u001b[0m\n",
      "\n",
      "\u001b[1mAcceptor:\u001b[0m\n",
      "0.9898\t0.9076\t0.9822\t0.9912\t0.957\t0.9746\t0.2581\t0.0049\t0.0008\t11871\t13080.0\t13080\n",
      "\n",
      "\u001b[1mDonor:\u001b[0m\n",
      "0.9905\t0.9151\t0.9862\t0.9921\t0.962\t0.9649\t0.2228\t0.0034\t0.0006\t11973\t13084.0\t13084\n",
      "Learning rate: 0.0010000000474974513\n",
      "--- 1610.588722705841 seconds ---\n",
      "--------------------------------------------------------------\n"
     ]
    },
    {
     "name": "stderr",
     "output_type": "stream",
     "text": [
      " 40%|██████████████████████████▋                                        | 475/1190 [1:42:19<1:37:01,  8.14s/it]"
     ]
    },
    {
     "name": "stdout",
     "output_type": "stream",
     "text": [
      "--------------------------------------------------------------\n",
      "\n",
      "\u001b[1mValidation set metrics:\u001b[0m\n",
      "\n",
      "\u001b[1mAcceptor:\u001b[0m\n",
      "0.9902\t0.9062\t0.9825\t0.9905\t0.9568\t0.9608\t0.2174\t0.0035\t0.0005\t13987\t15435.0\t15435\n",
      "\n",
      "\u001b[1mDonor:\u001b[0m\n",
      "0.9894\t0.9104\t0.9844\t0.9926\t0.9593\t0.9887\t0.3588\t0.0048\t0.0006\t14057\t15440.0\t15440\n",
      "\n",
      "\u001b[1mTraining set metrics:\u001b[0m\n",
      "\n",
      "\u001b[1mAcceptor:\u001b[0m\n",
      "0.993\t0.9074\t0.9829\t0.9914\t0.9589\t0.9472\t0.1377\t0.0021\t0.0003\t11869\t13080.0\t13080\n",
      "\n",
      "\u001b[1mDonor:\u001b[0m\n",
      "0.9924\t0.9198\t0.9886\t0.9937\t0.9662\t0.9851\t0.2997\t0.0034\t0.0004\t12035\t13084.0\t13084\n",
      "Learning rate: 0.0010000000474974513\n",
      "--- 1610.3930087089539 seconds ---\n",
      "--------------------------------------------------------------\n"
     ]
    },
    {
     "name": "stderr",
     "output_type": "stream",
     "text": [
      " 50%|██████████████████████████████████▍                                  | 594/1190 [2:12:04<57:09,  5.75s/it]"
     ]
    },
    {
     "name": "stdout",
     "output_type": "stream",
     "text": [
      "--------------------------------------------------------------\n",
      "\n",
      "\u001b[1mValidation set metrics:\u001b[0m\n",
      "\n",
      "\u001b[1mAcceptor:\u001b[0m\n",
      "0.9889\t0.9171\t0.9852\t0.9915\t0.9615\t0.9930\t0.6670\t0.0219\t0.0028\t14156\t15435.0\t15435\n",
      "\n",
      "\u001b[1mDonor:\u001b[0m\n",
      "0.9885\t0.9231\t0.9881\t0.9933\t0.9653\t0.9879\t0.5711\t0.0158\t0.0025\t14253\t15440.0\t15440\n",
      "\n",
      "\u001b[1mTraining set metrics:\u001b[0m\n",
      "\n",
      "\u001b[1mAcceptor:\u001b[0m\n",
      "0.9937\t0.9358\t0.9899\t0.9932\t0.9739\t0.9940\t0.6089\t0.0112\t0.0015\t12240\t13080.0\t13080\n",
      "\n",
      "\u001b[1mDonor:\u001b[0m\n",
      "0.9951\t0.944\t0.9922\t0.9952\t0.9794\t0.9888\t0.5446\t0.0099\t0.0016\t12351\t13084.0\t13084\n",
      "Learning rate: 0.0010000000474974513\n",
      "--- 1796.5705502033234 seconds ---\n",
      "--------------------------------------------------------------\n"
     ]
    },
    {
     "name": "stderr",
     "output_type": "stream",
     "text": [
      " 60%|█████████████████████████████████████████▎                           | 713/1190 [2:42:42<55:52,  7.03s/it]"
     ]
    },
    {
     "name": "stdout",
     "output_type": "stream",
     "text": [
      "--------------------------------------------------------------\n",
      "\n",
      "\u001b[1mValidation set metrics:\u001b[0m\n",
      "\n",
      "\u001b[1mAcceptor:\u001b[0m\n",
      "0.9922\t0.9179\t0.9841\t0.991\t0.9636\t0.9909\t0.2771\t0.0031\t0.0005\t14168\t15435.0\t15435\n",
      "\n",
      "\u001b[1mDonor:\u001b[0m\n",
      "0.989\t0.9231\t0.9872\t0.9933\t0.9649\t0.9892\t0.2641\t0.0031\t0.0006\t14253\t15440.0\t15440\n",
      "\n",
      "\u001b[1mTraining set metrics:\u001b[0m\n",
      "\n",
      "\u001b[1mAcceptor:\u001b[0m\n",
      "0.995\t0.9407\t0.989\t0.9933\t0.9752\t0.9913\t0.2829\t0.0023\t0.0004\t12305\t13080.0\t13080\n",
      "\n",
      "\u001b[1mDonor:\u001b[0m\n",
      "0.994\t0.9461\t0.9922\t0.9951\t0.9785\t0.9906\t0.2580\t0.0023\t0.0005\t12379\t13084.0\t13084\n",
      "Learning rate: 0.0010000000474974513\n",
      "--- 1836.284924030304 seconds ---\n",
      "--------------------------------------------------------------\n"
     ]
    },
    {
     "name": "stderr",
     "output_type": "stream",
     "text": [
      " 70%|██████████████████████████████████████████████▊                    | 832/1190 [3:11:52<1:13:06, 12.25s/it]"
     ]
    },
    {
     "name": "stdout",
     "output_type": "stream",
     "text": [
      "--------------------------------------------------------------\n",
      "\n",
      "\u001b[1mValidation set metrics:\u001b[0m\n",
      "\n",
      "\u001b[1mAcceptor:\u001b[0m\n",
      "0.9913\t0.9285\t0.9874\t0.9923\t0.9673\t0.9805\t0.3520\t0.0031\t0.0005\t14331\t15435.0\t15435\n",
      "\n",
      "\u001b[1mDonor:\u001b[0m\n",
      "0.9905\t0.933\t0.9907\t0.9944\t0.971\t0.9876\t0.3709\t0.0021\t0.0003\t14406\t15440.0\t15440\n",
      "\n",
      "\u001b[1mTraining set metrics:\u001b[0m\n",
      "\n",
      "\u001b[1mAcceptor:\u001b[0m\n",
      "0.9966\t0.9547\t0.9922\t0.9951\t0.9831\t0.9821\t0.3714\t0.0023\t0.0004\t12488\t13080.0\t13080\n",
      "\n",
      "\u001b[1mDonor:\u001b[0m\n",
      "0.9968\t0.9599\t0.9946\t0.9961\t0.9856\t0.9888\t0.4032\t0.0015\t0.0002\t12559\t13084.0\t13084\n",
      "Learning rate: 0.0005000000237487257\n",
      "--- 1732.4520380496979 seconds ---\n",
      "--------------------------------------------------------------\n"
     ]
    },
    {
     "name": "stderr",
     "output_type": "stream",
     "text": [
      " 80%|█████████████████████████████████████████████████████▌             | 951/1190 [3:41:37<1:31:49, 23.05s/it]"
     ]
    },
    {
     "name": "stdout",
     "output_type": "stream",
     "text": [
      "--------------------------------------------------------------\n",
      "\n",
      "\u001b[1mValidation set metrics:\u001b[0m\n",
      "\n",
      "\u001b[1mAcceptor:\u001b[0m\n",
      "0.9926\t0.9339\t0.9878\t0.9918\t0.9704\t0.9939\t0.3675\t0.0015\t0.0002\t14415\t15435.0\t15435\n",
      "\n",
      "\u001b[1mDonor:\u001b[0m\n",
      "0.9922\t0.9381\t0.9898\t0.9937\t0.9732\t0.9913\t0.3101\t0.0010\t0.0002\t14485\t15440.0\t15440\n",
      "\n",
      "\u001b[1mTraining set metrics:\u001b[0m\n",
      "\n",
      "\u001b[1mAcceptor:\u001b[0m\n",
      "0.9974\t0.9581\t0.9926\t0.9952\t0.9851\t0.9936\t0.3249\t0.0011\t0.0002\t12532\t13080.0\t13080\n",
      "\n",
      "\u001b[1mDonor:\u001b[0m\n",
      "0.9974\t0.9648\t0.9944\t0.9964\t0.9879\t0.9915\t0.2838\t0.0008\t0.0002\t12624\t13084.0\t13084\n",
      "Learning rate: 0.0002500000118743628\n",
      "--- 1801.2000842094421 seconds ---\n",
      "--------------------------------------------------------------\n"
     ]
    },
    {
     "name": "stderr",
     "output_type": "stream",
     "text": [
      " 90%|█████████████████████████████████████████████████████████████▏      | 1070/1190 [4:07:00<21:50, 10.92s/it]"
     ]
    },
    {
     "name": "stdout",
     "output_type": "stream",
     "text": [
      "--------------------------------------------------------------\n",
      "\n",
      "\u001b[1mValidation set metrics:\u001b[0m\n",
      "\n",
      "\u001b[1mAcceptor:\u001b[0m\n",
      "0.9913\t0.9361\t0.9884\t0.9925\t0.9709\t0.9924\t0.4028\t0.0025\t0.0005\t14448\t15435.0\t15435\n",
      "\n",
      "\u001b[1mDonor:\u001b[0m\n",
      "0.992\t0.9411\t0.9898\t0.9938\t0.9736\t0.9960\t0.4556\t0.0016\t0.0003\t14530\t15440.0\t15440\n",
      "\n",
      "\u001b[1mTraining set metrics:\u001b[0m\n",
      "\n",
      "\u001b[1mAcceptor:\u001b[0m\n",
      "0.9979\t0.9676\t0.9937\t0.9958\t0.9883\t0.9928\t0.4013\t0.0019\t0.0004\t12656\t13080.0\t13080\n",
      "\n",
      "\u001b[1mDonor:\u001b[0m\n",
      "0.998\t0.9724\t0.9953\t0.9968\t0.9901\t0.9964\t0.4375\t0.0012\t0.0002\t12723\t13084.0\t13084\n",
      "Learning rate: 0.0001250000059371814\n",
      "--- 1520.8065440654755 seconds ---\n",
      "--------------------------------------------------------------\n"
     ]
    },
    {
     "name": "stderr",
     "output_type": "stream",
     "text": [
      "100%|███████████████████████████████████████████████████████████████████▉| 1189/1190 [4:37:09<00:12, 12.68s/it]"
     ]
    },
    {
     "name": "stdout",
     "output_type": "stream",
     "text": [
      "--------------------------------------------------------------\n",
      "\n",
      "\u001b[1mValidation set metrics:\u001b[0m\n",
      "\n",
      "\u001b[1mAcceptor:\u001b[0m\n",
      "0.9904\t0.9342\t0.9885\t0.9924\t0.9696\t0.9885\t0.4677\t0.0049\t0.0009\t14419\t15435.0\t15435\n",
      "\n",
      "\u001b[1mDonor:\u001b[0m\n",
      "0.9905\t0.939\t0.9899\t0.9938\t0.972\t0.9868\t0.4639\t0.0039\t0.0008\t14498\t15440.0\t15440\n",
      "\n",
      "\u001b[1mTraining set metrics:\u001b[0m\n",
      "\n",
      "\u001b[1mAcceptor:\u001b[0m\n",
      "0.9977\t0.9669\t0.9948\t0.9962\t0.9886\t0.9884\t0.4435\t0.0032\t0.0007\t12647\t13080.0\t13080\n",
      "\n",
      "\u001b[1mDonor:\u001b[0m\n",
      "0.9979\t0.9722\t0.9956\t0.9969\t0.9905\t0.9874\t0.4332\t0.0027\t0.0007\t12720\t13084.0\t13084\n",
      "Learning rate: 6.25000029685907e-05\n",
      "--- 1819.1066060066223 seconds ---\n",
      "--------------------------------------------------------------\n"
     ]
    },
    {
     "name": "stderr",
     "output_type": "stream",
     "text": [
      "100%|████████████████████████████████████████████████████████████████████| 1190/1190 [4:44:17<00:00, 14.33s/it]\n",
      " 10%|██████▊                                                              | 118/1190 [22:40<2:19:49,  7.83s/it]"
     ]
    },
    {
     "name": "stdout",
     "output_type": "stream",
     "text": [
      "--------------------------------------------------------------\n",
      "\n",
      "\u001b[1mValidation set metrics:\u001b[0m\n",
      "\n",
      "\u001b[1mAcceptor:\u001b[0m\n",
      "0.9782\t0.8444\t0.9605\t0.9845\t0.911\t0.9621\t0.6258\t0.0909\t0.0149\t13033\t15435.0\t15435\n",
      "\n",
      "\u001b[1mDonor:\u001b[0m\n",
      "0.9771\t0.8528\t0.9691\t0.9874\t0.9179\t0.9557\t0.5694\t0.0601\t0.0075\t13168\t15440.0\t15440\n",
      "\n",
      "\u001b[1mTraining set metrics:\u001b[0m\n",
      "\n",
      "\u001b[1mAcceptor:\u001b[0m\n",
      "0.9849\t0.8703\t0.9732\t0.9868\t0.9333\t0.9689\t0.5942\t0.0572\t0.0086\t11384\t13080.0\t13080\n",
      "\n",
      "\u001b[1mDonor:\u001b[0m\n",
      "0.9838\t0.8843\t0.9806\t0.9912\t0.9427\t0.9636\t0.5448\t0.0361\t0.0042\t11570\t13084.0\t13084\n",
      "Learning rate: 0.0010000000474974513\n",
      "--- 1918.4309041500092 seconds ---\n",
      "--------------------------------------------------------------\n"
     ]
    },
    {
     "name": "stderr",
     "output_type": "stream",
     "text": [
      " 20%|█████████████▋                                                       | 237/1190 [49:27<1:58:31,  7.46s/it]"
     ]
    },
    {
     "name": "stdout",
     "output_type": "stream",
     "text": [
      "--------------------------------------------------------------\n",
      "\n",
      "\u001b[1mValidation set metrics:\u001b[0m\n",
      "\n",
      "\u001b[1mAcceptor:\u001b[0m\n",
      "0.9847\t0.8679\t0.9714\t0.9868\t0.9308\t0.9383\t0.3262\t0.0197\t0.0034\t13396\t15435.0\t15435\n",
      "\n",
      "\u001b[1mDonor:\u001b[0m\n",
      "0.9854\t0.8815\t0.9779\t0.9897\t0.9406\t0.8879\t0.2663\t0.0183\t0.0037\t13610\t15440.0\t15440\n",
      "\n",
      "\u001b[1mTraining set metrics:\u001b[0m\n",
      "\n",
      "\u001b[1mAcceptor:\u001b[0m\n",
      "0.9859\t0.8928\t0.9801\t0.9896\t0.9471\t0.9550\t0.3414\t0.0135\t0.0026\t11678\t13080.0\t13080\n",
      "\n",
      "\u001b[1mDonor:\u001b[0m\n",
      "0.9891\t0.9069\t0.9848\t0.9919\t0.9572\t0.9200\t0.2964\t0.0145\t0.0032\t11866\t13084.0\t13084\n",
      "Learning rate: 0.0010000000474974513\n",
      "--- 1597.6263408660889 seconds ---\n",
      "--------------------------------------------------------------\n"
     ]
    },
    {
     "name": "stderr",
     "output_type": "stream",
     "text": [
      " 30%|████████████████████                                               | 356/1190 [1:16:53<1:54:45,  8.26s/it]"
     ]
    },
    {
     "name": "stdout",
     "output_type": "stream",
     "text": [
      "--------------------------------------------------------------\n",
      "\n",
      "\u001b[1mValidation set metrics:\u001b[0m\n",
      "\n",
      "\u001b[1mAcceptor:\u001b[0m\n",
      "0.9867\t0.8788\t0.9758\t0.9892\t0.9394\t0.8944\t0.2935\t0.0158\t0.0030\t13564\t15435.0\t15435\n",
      "\n",
      "\u001b[1mDonor:\u001b[0m\n",
      "0.9864\t0.8927\t0.9813\t0.9921\t0.9479\t0.8892\t0.2334\t0.0073\t0.0012\t13784\t15440.0\t15440\n",
      "\n",
      "\u001b[1mTraining set metrics:\u001b[0m\n",
      "\n",
      "\u001b[1mAcceptor:\u001b[0m\n",
      "0.9916\t0.9002\t0.9823\t0.9908\t0.9534\t0.8994\t0.2473\t0.0108\t0.0023\t11774\t13080.0\t13080\n",
      "\n",
      "\u001b[1mDonor:\u001b[0m\n",
      "0.9931\t0.9164\t0.9883\t0.9937\t0.9652\t0.8956\t0.2032\t0.0050\t0.0009\t11990\t13084.0\t13084\n",
      "Learning rate: 0.0010000000474974513\n",
      "--- 1649.3873929977417 seconds ---\n",
      "--------------------------------------------------------------\n"
     ]
    },
    {
     "name": "stderr",
     "output_type": "stream",
     "text": [
      " 40%|██████████████████████████▋                                        | 475/1190 [1:46:21<1:29:37,  7.52s/it]"
     ]
    },
    {
     "name": "stdout",
     "output_type": "stream",
     "text": [
      "--------------------------------------------------------------\n",
      "\n",
      "\u001b[1mValidation set metrics:\u001b[0m\n",
      "\n",
      "\u001b[1mAcceptor:\u001b[0m\n",
      "0.9913\t0.9147\t0.9842\t0.9909\t0.9605\t0.9886\t0.5611\t0.0202\t0.0035\t14119\t15435.0\t15435\n",
      "\n",
      "\u001b[1mDonor:\u001b[0m\n",
      "0.9905\t0.919\t0.987\t0.9936\t0.9643\t0.9850\t0.4406\t0.0089\t0.0015\t14189\t15440.0\t15440\n",
      "\n",
      "\u001b[1mTraining set metrics:\u001b[0m\n",
      "\n",
      "\u001b[1mAcceptor:\u001b[0m\n",
      "0.9933\t0.9265\t0.9875\t0.9933\t0.9687\t0.9899\t0.5057\t0.0133\t0.0025\t12119\t13080.0\t13080\n",
      "\n",
      "\u001b[1mDonor:\u001b[0m\n",
      "0.9927\t0.9366\t0.9917\t0.9948\t0.975\t0.9864\t0.4071\t0.0062\t0.0011\t12255\t13084.0\t13084\n",
      "Learning rate: 0.0010000000474974513\n",
      "--- 1764.9734091758728 seconds ---\n",
      "--------------------------------------------------------------\n"
     ]
    },
    {
     "name": "stderr",
     "output_type": "stream",
     "text": [
      " 50%|█████████████████████████████████▍                                 | 594/1190 [2:13:52<1:19:22,  7.99s/it]"
     ]
    },
    {
     "name": "stdout",
     "output_type": "stream",
     "text": [
      "--------------------------------------------------------------\n",
      "\n",
      "\u001b[1mValidation set metrics:\u001b[0m\n",
      "\n",
      "\u001b[1mAcceptor:\u001b[0m\n",
      "0.9903\t0.9186\t0.9849\t0.9914\t0.9617\t0.9948\t0.6144\t0.0139\t0.0021\t14178\t15435.0\t15435\n",
      "\n",
      "\u001b[1mDonor:\u001b[0m\n",
      "0.9899\t0.9226\t0.988\t0.9931\t0.9649\t0.9970\t0.6781\t0.0119\t0.0018\t14245\t15440.0\t15440\n",
      "\n",
      "\u001b[1mTraining set metrics:\u001b[0m\n",
      "\n",
      "\u001b[1mAcceptor:\u001b[0m\n",
      "0.9928\t0.9349\t0.99\t0.9939\t0.9732\t0.9962\t0.6396\t0.0123\t0.0019\t12228\t13080.0\t13080\n",
      "\n",
      "\u001b[1mDonor:\u001b[0m\n",
      "0.994\t0.9428\t0.9915\t0.9949\t0.9777\t0.9978\t0.7184\t0.0104\t0.0017\t12336\t13084.0\t13084\n",
      "Learning rate: 0.0010000000474974513\n",
      "--- 1644.61172413826 seconds ---\n",
      "--------------------------------------------------------------\n"
     ]
    },
    {
     "name": "stderr",
     "output_type": "stream",
     "text": [
      " 60%|████████████████████████████████████████▏                          | 713/1190 [2:43:13<1:11:05,  8.94s/it]"
     ]
    },
    {
     "name": "stdout",
     "output_type": "stream",
     "text": [
      "--------------------------------------------------------------\n",
      "\n",
      "\u001b[1mValidation set metrics:\u001b[0m\n",
      "\n",
      "\u001b[1mAcceptor:\u001b[0m\n",
      "0.9874\t0.9173\t0.9851\t0.9913\t0.9601\t0.9830\t0.5733\t0.0122\t0.0018\t14158\t15435.0\t15435\n",
      "\n",
      "\u001b[1mDonor:\u001b[0m\n",
      "0.9872\t0.9174\t0.9878\t0.9935\t0.9621\t0.9834\t0.5531\t0.0085\t0.0012\t14164\t15440.0\t15440\n",
      "\n",
      "\u001b[1mTraining set metrics:\u001b[0m\n",
      "\n",
      "\u001b[1mAcceptor:\u001b[0m\n",
      "0.9922\t0.9378\t0.9894\t0.9937\t0.9732\t0.9859\t0.5360\t0.0084\t0.0014\t12266\t13080.0\t13080\n",
      "\n",
      "\u001b[1mDonor:\u001b[0m\n",
      "0.995\t0.9405\t0.9927\t0.9951\t0.9771\t0.9846\t0.5082\t0.0053\t0.0008\t12306\t13084.0\t13084\n",
      "Learning rate: 0.0010000000474974513\n",
      "--- 1765.2240869998932 seconds ---\n",
      "--------------------------------------------------------------\n"
     ]
    },
    {
     "name": "stderr",
     "output_type": "stream",
     "text": [
      " 70%|██████████████████████████████████████████████▊                    | 832/1190 [3:13:45<1:22:14, 13.78s/it]"
     ]
    },
    {
     "name": "stdout",
     "output_type": "stream",
     "text": [
      "--------------------------------------------------------------\n",
      "\n",
      "\u001b[1mValidation set metrics:\u001b[0m\n",
      "\n",
      "\u001b[1mAcceptor:\u001b[0m\n",
      "0.9905\t0.932\t0.9878\t0.9928\t0.9694\t0.9940\t0.3334\t0.0008\t0.0001\t14385\t15435.0\t15435\n",
      "\n",
      "\u001b[1mDonor:\u001b[0m\n",
      "0.9899\t0.936\t0.99\t0.9937\t0.971\t0.9971\t0.4038\t0.0006\t0.0001\t14452\t15440.0\t15440\n",
      "\n",
      "\u001b[1mTraining set metrics:\u001b[0m\n",
      "\n",
      "\u001b[1mAcceptor:\u001b[0m\n",
      "0.9946\t0.9504\t0.9923\t0.9943\t0.9815\t0.9947\t0.3215\t0.0007\t0.0001\t12431\t13080.0\t13080\n",
      "\n",
      "\u001b[1mDonor:\u001b[0m\n",
      "0.9959\t0.9564\t0.994\t0.9958\t0.9841\t0.9973\t0.3727\t0.0005\t0.0001\t12514\t13084.0\t13084\n",
      "Learning rate: 0.0005000000237487257\n",
      "--- 1840.5300204753876 seconds ---\n",
      "--------------------------------------------------------------\n"
     ]
    },
    {
     "name": "stderr",
     "output_type": "stream",
     "text": [
      " 80%|███████████████████████████████████████████████████████▏             | 951/1190 [3:42:03<34:51,  8.75s/it]"
     ]
    },
    {
     "name": "stdout",
     "output_type": "stream",
     "text": [
      "--------------------------------------------------------------\n",
      "\n",
      "\u001b[1mValidation set metrics:\u001b[0m\n",
      "\n",
      "\u001b[1mAcceptor:\u001b[0m\n",
      "0.9921\t0.9362\t0.9889\t0.9929\t0.9716\t0.9950\t0.4023\t0.0018\t0.0003\t14450\t15435.0\t15435\n",
      "\n",
      "\u001b[1mDonor:\u001b[0m\n",
      "0.9905\t0.9383\t0.9898\t0.9938\t0.9724\t0.9943\t0.3983\t0.0015\t0.0003\t14487\t15440.0\t15440\n",
      "\n",
      "\u001b[1mTraining set metrics:\u001b[0m\n",
      "\n",
      "\u001b[1mAcceptor:\u001b[0m\n",
      "0.9977\t0.9562\t0.9937\t0.9953\t0.9853\t0.9946\t0.3759\t0.0016\t0.0003\t12507\t13080.0\t13080\n",
      "\n",
      "\u001b[1mDonor:\u001b[0m\n",
      "0.9983\t0.9625\t0.9945\t0.9957\t0.9875\t0.9943\t0.3634\t0.0013\t0.0002\t12594\t13084.0\t13084\n",
      "Learning rate: 0.0002500000118743628\n",
      "--- 1699.5466351509094 seconds ---\n",
      "--------------------------------------------------------------\n"
     ]
    },
    {
     "name": "stderr",
     "output_type": "stream",
     "text": [
      " 90%|█████████████████████████████████████████████████████████████▏      | 1070/1190 [4:11:17<20:53, 10.45s/it]"
     ]
    },
    {
     "name": "stdout",
     "output_type": "stream",
     "text": [
      "--------------------------------------------------------------\n",
      "\n",
      "\u001b[1mValidation set metrics:\u001b[0m\n",
      "\n",
      "\u001b[1mAcceptor:\u001b[0m\n",
      "0.9902\t0.9365\t0.9892\t0.9931\t0.9711\t0.9925\t0.4378\t0.0026\t0.0004\t14455\t15435.0\t15435\n",
      "\n",
      "\u001b[1mDonor:\u001b[0m\n",
      "0.9902\t0.9383\t0.9909\t0.9948\t0.9732\t0.9923\t0.4469\t0.0018\t0.0003\t14487\t15440.0\t15440\n",
      "\n",
      "\u001b[1mTraining set metrics:\u001b[0m\n",
      "\n",
      "\u001b[1mAcceptor:\u001b[0m\n",
      "0.9985\t0.9654\t0.9946\t0.9959\t0.9878\t0.9938\t0.4433\t0.0021\t0.0004\t12628\t13080.0\t13080\n",
      "\n",
      "\u001b[1mDonor:\u001b[0m\n",
      "0.9977\t0.969\t0.9953\t0.9964\t0.9895\t0.9939\t0.4863\t0.0013\t0.0002\t12678\t13084.0\t13084\n",
      "Learning rate: 0.0001250000059371814\n",
      "--- 1740.8607790470123 seconds ---\n",
      "--------------------------------------------------------------\n"
     ]
    },
    {
     "name": "stderr",
     "output_type": "stream",
     "text": [
      "100%|███████████████████████████████████████████████████████████████████▉| 1189/1190 [4:38:50<00:17, 17.84s/it]"
     ]
    },
    {
     "name": "stdout",
     "output_type": "stream",
     "text": [
      "--------------------------------------------------------------\n",
      "\n",
      "\u001b[1mValidation set metrics:\u001b[0m\n",
      "\n",
      "\u001b[1mAcceptor:\u001b[0m\n",
      "0.9917\t0.935\t0.9837\t0.9895\t0.9671\t0.9879\t0.1888\t0.0011\t0.0003\t14432\t15435.0\t15435\n",
      "\n",
      "\u001b[1mDonor:\u001b[0m\n",
      "0.99\t0.9383\t0.9863\t0.9916\t0.9693\t0.9868\t0.2213\t0.0009\t0.0002\t14488\t15440.0\t15440\n",
      "\n",
      "\u001b[1mTraining set metrics:\u001b[0m\n",
      "\n",
      "\u001b[1mAcceptor:\u001b[0m\n",
      "0.9969\t0.9612\t0.9938\t0.9952\t0.9863\t0.9893\t0.2333\t0.0012\t0.0003\t12573\t13080.0\t13080\n",
      "\n",
      "\u001b[1mDonor:\u001b[0m\n",
      "0.9976\t0.9651\t0.9946\t0.9959\t0.9886\t0.9890\t0.2640\t0.0010\t0.0002\t12627\t13084.0\t13084\n",
      "Learning rate: 6.25000029685907e-05\n",
      "--- 1682.81884765625 seconds ---\n",
      "--------------------------------------------------------------\n"
     ]
    },
    {
     "name": "stderr",
     "output_type": "stream",
     "text": [
      "100%|████████████████████████████████████████████████████████████████████| 1190/1190 [4:46:29<00:00, 14.44s/it]\n",
      " 10%|██████████▉                                                                                                   | 118/1190 [22:00<5:17:25, 17.77s/it]"
     ]
    },
    {
     "name": "stdout",
     "output_type": "stream",
     "text": [
      "--------------------------------------------------------------\n",
      "\n",
      "\u001b[1mValidation set metrics:\u001b[0m\n",
      "\n",
      "\u001b[1mAcceptor:\u001b[0m\n",
      "0.9159\t0.7015\t0.8389\t0.9099\t0.7586\t0.5442\t0.0827\t0.0121\t0.0031\t10828\t15435.0\t15435\n",
      "\n",
      "\u001b[1mDonor:\u001b[0m\n",
      "0.9293\t0.724\t0.8562\t0.9192\t0.7802\t0.4932\t0.0531\t0.0079\t0.0023\t11178\t15440.0\t15440\n",
      "\n",
      "\u001b[1mTraining set metrics:\u001b[0m\n",
      "\n",
      "\u001b[1mAcceptor:\u001b[0m\n",
      "0.9318\t0.7242\t0.8484\t0.9116\t0.7783\t0.5860\t0.0742\t0.0107\t0.0029\t9473\t13080.0\t13080\n",
      "\n",
      "\u001b[1mDonor:\u001b[0m\n",
      "0.9447\t0.745\t0.8692\t0.925\t0.8009\t0.5606\t0.0521\t0.0071\t0.0022\t9748\t13084.0\t13084\n",
      "Learning rate: 0.0010000000474974513\n",
      "--- 1918.9470643997192 seconds ---\n",
      "--------------------------------------------------------------\n"
     ]
    },
    {
     "name": "stderr",
     "output_type": "stream",
     "text": [
      " 20%|█████████████████████▉                                                                                        | 237/1190 [47:38<1:26:59,  5.48s/it]"
     ]
    },
    {
     "name": "stdout",
     "output_type": "stream",
     "text": [
      "--------------------------------------------------------------\n",
      "\n",
      "\u001b[1mValidation set metrics:\u001b[0m\n",
      "\n",
      "\u001b[1mAcceptor:\u001b[0m\n",
      "0.9854\t0.8624\t0.9631\t0.9824\t0.9249\t0.9626\t0.3009\t0.0089\t0.0012\t13311\t15435.0\t15435\n",
      "\n",
      "\u001b[1mDonor:\u001b[0m\n",
      "0.988\t0.8696\t0.9703\t0.9869\t0.9327\t0.9600\t0.2252\t0.0043\t0.0005\t13427\t15440.0\t15440\n",
      "\n",
      "\u001b[1mTraining set metrics:\u001b[0m\n",
      "\n",
      "\u001b[1mAcceptor:\u001b[0m\n",
      "0.9844\t0.854\t0.9602\t0.9788\t0.9185\t0.9321\t0.1369\t0.0042\t0.0008\t11170\t13080.0\t13080\n",
      "\n",
      "\u001b[1mDonor:\u001b[0m\n",
      "0.9884\t0.8738\t0.9723\t0.9867\t0.936\t0.9380\t0.0959\t0.0019\t0.0003\t11433\t13084.0\t13084\n",
      "Learning rate: 0.0010000000474974513\n",
      "--- 1515.0030734539032 seconds ---\n",
      "--------------------------------------------------------------\n"
     ]
    },
    {
     "name": "stderr",
     "output_type": "stream",
     "text": [
      " 30%|████████████████████████████████▎                                                                           | 356/1190 [1:16:12<1:36:08,  6.92s/it]"
     ]
    },
    {
     "name": "stdout",
     "output_type": "stream",
     "text": [
      "--------------------------------------------------------------\n",
      "\n",
      "\u001b[1mValidation set metrics:\u001b[0m\n",
      "\n",
      "\u001b[1mAcceptor:\u001b[0m\n",
      "0.9912\t0.9182\t0.9847\t0.9911\t0.9613\t0.9830\t0.1894\t0.0008\t0.0001\t14173\t15435.0\t15435\n",
      "\n",
      "\u001b[1mDonor:\u001b[0m\n",
      "0.9915\t0.919\t0.9861\t0.9931\t0.9635\t0.9966\t0.4740\t0.0029\t0.0004\t14189\t15440.0\t15440\n",
      "\n",
      "\u001b[1mTraining set metrics:\u001b[0m\n",
      "\n",
      "\u001b[1mAcceptor:\u001b[0m\n",
      "0.9939\t0.9296\t0.9881\t0.9925\t0.9698\t0.9855\t0.1821\t0.0006\t0.0001\t12159\t13080.0\t13080\n",
      "\n",
      "\u001b[1mDonor:\u001b[0m\n",
      "0.9928\t0.9339\t0.9904\t0.9938\t0.973\t0.9971\t0.4706\t0.0025\t0.0004\t12219\t13084.0\t13084\n",
      "Learning rate: 0.0010000000474974513\n",
      "--- 1734.233240365982 seconds ---\n",
      "--------------------------------------------------------------\n"
     ]
    },
    {
     "name": "stderr",
     "output_type": "stream",
     "text": [
      " 40%|███████████████████████████████████████████                                                                 | 475/1190 [1:47:25<3:33:29, 17.92s/it]"
     ]
    },
    {
     "name": "stdout",
     "output_type": "stream",
     "text": [
      "--------------------------------------------------------------\n",
      "\n",
      "\u001b[1mValidation set metrics:\u001b[0m\n",
      "\n",
      "\u001b[1mAcceptor:\u001b[0m\n",
      "0.9883\t0.9114\t0.9808\t0.9893\t0.9568\t0.9922\t0.2387\t0.0029\t0.0005\t14067\t15435.0\t15435\n",
      "\n",
      "\u001b[1mDonor:\u001b[0m\n",
      "0.9899\t0.9163\t0.9841\t0.991\t0.9612\t0.9842\t0.1507\t0.0015\t0.0003\t14148\t15440.0\t15440\n",
      "\n",
      "\u001b[1mTraining set metrics:\u001b[0m\n",
      "\n",
      "\u001b[1mAcceptor:\u001b[0m\n",
      "0.9917\t0.9255\t0.9872\t0.9915\t0.9676\t0.9942\t0.2929\t0.0034\t0.0006\t12106\t13080.0\t13080\n",
      "\n",
      "\u001b[1mDonor:\u001b[0m\n",
      "0.9931\t0.9335\t0.9893\t0.9934\t0.9731\t0.9870\t0.1898\t0.0015\t0.0003\t12214\t13084.0\t13084\n",
      "Learning rate: 0.0010000000474974513\n",
      "--- 1847.255954027176 seconds ---\n",
      "--------------------------------------------------------------\n"
     ]
    },
    {
     "name": "stderr",
     "output_type": "stream",
     "text": [
      " 50%|█████████████████████████████████████████████████████▉                                                      | 594/1190 [2:16:30<1:11:37,  7.21s/it]"
     ]
    },
    {
     "name": "stdout",
     "output_type": "stream",
     "text": [
      "--------------------------------------------------------------\n",
      "\n",
      "\u001b[1mValidation set metrics:\u001b[0m\n",
      "\n",
      "\u001b[1mAcceptor:\u001b[0m\n",
      "0.9899\t0.9138\t0.9813\t0.99\t0.9591\t0.9871\t0.2447\t0.0047\t0.0009\t14104\t15435.0\t15435\n",
      "\n",
      "\u001b[1mDonor:\u001b[0m\n",
      "0.9908\t0.9177\t0.9877\t0.994\t0.9644\t0.9887\t0.3036\t0.0046\t0.0009\t14170\t15440.0\t15440\n",
      "\n",
      "\u001b[1mTraining set metrics:\u001b[0m\n",
      "\n",
      "\u001b[1mAcceptor:\u001b[0m\n",
      "0.9928\t0.9304\t0.9894\t0.9941\t0.9722\t0.9880\t0.2702\t0.0038\t0.0008\t12169\t13080.0\t13080\n",
      "\n",
      "\u001b[1mDonor:\u001b[0m\n",
      "0.9954\t0.9361\t0.9923\t0.995\t0.9775\t0.9900\t0.3426\t0.0039\t0.0008\t12248\t13084.0\t13084\n",
      "Learning rate: 0.0010000000474974513\n",
      "--- 1760.7901244163513 seconds ---\n",
      "--------------------------------------------------------------\n"
     ]
    },
    {
     "name": "stderr",
     "output_type": "stream",
     "text": [
      " 60%|████████████████████████████████████████████████████████████████▋                                           | 713/1190 [2:46:13<1:35:13, 11.98s/it]"
     ]
    },
    {
     "name": "stdout",
     "output_type": "stream",
     "text": [
      "--------------------------------------------------------------\n",
      "\n",
      "\u001b[1mValidation set metrics:\u001b[0m\n",
      "\n",
      "\u001b[1mAcceptor:\u001b[0m\n",
      "0.9917\t0.9237\t0.9875\t0.9924\t0.9662\t0.9965\t0.6334\t0.0041\t0.0004\t14257\t15435.0\t15435\n",
      "\n",
      "\u001b[1mDonor:\u001b[0m\n",
      "0.9908\t0.9264\t0.9898\t0.9938\t0.9689\t0.9976\t0.6614\t0.0026\t0.0002\t14304\t15440.0\t15440\n",
      "\n",
      "\u001b[1mTraining set metrics:\u001b[0m\n",
      "\n",
      "\u001b[1mAcceptor:\u001b[0m\n",
      "0.994\t0.9398\t0.9915\t0.9947\t0.9772\t0.9960\t0.5424\t0.0021\t0.0002\t12293\t13080.0\t13080\n",
      "\n",
      "\u001b[1mDonor:\u001b[0m\n",
      "0.996\t0.9484\t0.9932\t0.9956\t0.9811\t0.9974\t0.5289\t0.0012\t0.0001\t12409\t13084.0\t13084\n",
      "Learning rate: 0.0010000000474974513\n",
      "--- 1789.8375062942505 seconds ---\n",
      "--------------------------------------------------------------\n"
     ]
    },
    {
     "name": "stderr",
     "output_type": "stream",
     "text": [
      " 70%|███████████████████████████████████████████████████████████████████████████▌                                | 832/1190 [3:16:12<1:00:10, 10.09s/it]"
     ]
    },
    {
     "name": "stdout",
     "output_type": "stream",
     "text": [
      "--------------------------------------------------------------\n",
      "\n",
      "\u001b[1mValidation set metrics:\u001b[0m\n",
      "\n",
      "\u001b[1mAcceptor:\u001b[0m\n",
      "0.9918\t0.9318\t0.987\t0.992\t0.9698\t0.9964\t0.2041\t0.0006\t0.0001\t14383\t15435.0\t15435\n",
      "\n",
      "\u001b[1mDonor:\u001b[0m\n",
      "0.9918\t0.9339\t0.9889\t0.9938\t0.9713\t0.9963\t0.2141\t0.0007\t0.0001\t14420\t15440.0\t15440\n",
      "\n",
      "\u001b[1mTraining set metrics:\u001b[0m\n",
      "\n",
      "\u001b[1mAcceptor:\u001b[0m\n",
      "0.9974\t0.9476\t0.993\t0.9952\t0.9823\t0.9964\t0.2046\t0.0005\t0.0001\t12394\t13080.0\t13080\n",
      "\n",
      "\u001b[1mDonor:\u001b[0m\n",
      "0.9977\t0.9545\t0.994\t0.9956\t0.9852\t0.9963\t0.2355\t0.0006\t0.0001\t12489\t13084.0\t13084\n",
      "Learning rate: 0.0005000000237487257\n",
      "--- 1809.169179201126 seconds ---\n",
      "--------------------------------------------------------------\n"
     ]
    },
    {
     "name": "stderr",
     "output_type": "stream",
     "text": [
      " 80%|██████████████████████████████████████████████████████████████████████████████████████▎                     | 951/1190 [3:46:30<1:07:39, 16.99s/it]"
     ]
    },
    {
     "name": "stdout",
     "output_type": "stream",
     "text": [
      "--------------------------------------------------------------\n",
      "\n",
      "\u001b[1mValidation set metrics:\u001b[0m\n",
      "\n",
      "\u001b[1mAcceptor:\u001b[0m\n",
      "0.9916\t0.9344\t0.987\t0.9913\t0.9702\t0.9970\t0.3250\t0.0011\t0.0002\t14423\t15435.0\t15435\n",
      "\n",
      "\u001b[1mDonor:\u001b[0m\n",
      "0.9916\t0.9387\t0.9889\t0.9935\t0.9722\t0.9960\t0.3216\t0.0007\t0.0001\t14493\t15440.0\t15440\n",
      "\n",
      "\u001b[1mTraining set metrics:\u001b[0m\n",
      "\n",
      "\u001b[1mAcceptor:\u001b[0m\n",
      "0.998\t0.9622\t0.9933\t0.9959\t0.9874\t0.9966\t0.3291\t0.0012\t0.0002\t12585\t13080.0\t13080\n",
      "\n",
      "\u001b[1mDonor:\u001b[0m\n",
      "0.9983\t0.967\t0.9946\t0.9963\t0.9894\t0.9959\t0.2872\t0.0006\t0.0001\t12652\t13084.0\t13084\n",
      "Learning rate: 0.0002500000118743628\n",
      "--- 1810.1910371780396 seconds ---\n",
      "--------------------------------------------------------------\n"
     ]
    },
    {
     "name": "stderr",
     "output_type": "stream",
     "text": [
      " 90%|██████████████████████████████████████████████████████████████████████████████████████████████████           | 1070/1190 [4:15:36<13:51,  6.93s/it]"
     ]
    },
    {
     "name": "stdout",
     "output_type": "stream",
     "text": [
      "--------------------------------------------------------------\n",
      "\n",
      "\u001b[1mValidation set metrics:\u001b[0m\n",
      "\n",
      "\u001b[1mAcceptor:\u001b[0m\n",
      "0.9908\t0.9308\t0.9867\t0.9908\t0.9675\t0.9890\t0.4907\t0.0077\t0.0021\t14367\t15435.0\t15435\n",
      "\n",
      "\u001b[1mDonor:\u001b[0m\n",
      "0.9902\t0.9363\t0.988\t0.9919\t0.9701\t0.9910\t0.5164\t0.0066\t0.0019\t14456\t15440.0\t15440\n",
      "\n",
      "\u001b[1mTraining set metrics:\u001b[0m\n",
      "\n",
      "\u001b[1mAcceptor:\u001b[0m\n",
      "0.9985\t0.9673\t0.995\t0.9965\t0.9895\t0.9896\t0.4962\t0.0064\t0.0020\t12652\t13080.0\t13080\n",
      "\n",
      "\u001b[1mDonor:\u001b[0m\n",
      "0.9983\t0.9715\t0.9956\t0.9969\t0.991\t0.9917\t0.5102\t0.0053\t0.0017\t12711\t13084.0\t13084\n",
      "Learning rate: 0.0001250000059371814\n",
      "--- 1736.43976354599 seconds ---\n",
      "--------------------------------------------------------------\n"
     ]
    },
    {
     "name": "stderr",
     "output_type": "stream",
     "text": [
      "100%|████████████████████████████████████████████████████████████████████████████████████████████████████████████▉| 1189/1190 [4:44:01<00:10, 10.70s/it]"
     ]
    },
    {
     "name": "stdout",
     "output_type": "stream",
     "text": [
      "--------------------------------------------------------------\n",
      "\n",
      "\u001b[1mValidation set metrics:\u001b[0m\n",
      "\n",
      "\u001b[1mAcceptor:\u001b[0m\n",
      "0.9917\t0.9341\t0.9863\t0.9912\t0.9694\t0.9926\t0.3832\t0.0026\t0.0006\t14418\t15435.0\t15435\n",
      "\n",
      "\u001b[1mDonor:\u001b[0m\n",
      "0.9904\t0.9379\t0.9874\t0.9923\t0.9707\t0.9935\t0.4407\t0.0026\t0.0006\t14481\t15440.0\t15440\n",
      "\n",
      "\u001b[1mTraining set metrics:\u001b[0m\n",
      "\n",
      "\u001b[1mAcceptor:\u001b[0m\n",
      "0.9989\t0.9716\t0.9955\t0.9971\t0.9913\t0.9922\t0.4005\t0.0022\t0.0006\t12708\t13080.0\t13080\n",
      "\n",
      "\u001b[1mDonor:\u001b[0m\n",
      "0.9986\t0.975\t0.9965\t0.9972\t0.9924\t0.9935\t0.4501\t0.0019\t0.0005\t12757\t13084.0\t13084\n",
      "Learning rate: 6.25000029685907e-05\n",
      "--- 1696.2944524288177 seconds ---\n",
      "--------------------------------------------------------------\n"
     ]
    },
    {
     "name": "stderr",
     "output_type": "stream",
     "text": [
      "100%|█████████████████████████████████████████████████████████████████████████████████████████████████████████████| 1190/1190 [4:51:05<00:00, 14.68s/it]\n"
     ]
    }
   ],
   "source": [
    "for model_nr in range(5):\n",
    "    model = SpliceAI(L, W, AR)\n",
    "    model.save('../Results/TF_Models/SpliceAI_GENCODE_tf1_{}.h5'.format(model_nr))\n",
    "    #model.summary()\n",
    "    model_m = make_parallel(model, N_GPUS)\n",
    "    model_m.compile(loss=categorical_crossentropy_2d, optimizer='adam')\n",
    "\n",
    "    for epoch_num in tqdm(range(EPOCH_NUM)):\n",
    "\n",
    "        idx = np.random.choice(idx_train)\n",
    "\n",
    "        X = h5f['X' + str(idx)][:].astype(np.float32)\n",
    "        Y = h5f['Y' + str(idx)][:].astype(np.float32)\n",
    "\n",
    "        Xc, Yc = clip_datapoints(X, Y, CL, N_GPUS) \n",
    "        model_m.fit(Xc, Yc, batch_size=BATCH_SIZE, verbose=0)\n",
    "\n",
    "        #if True:\n",
    "        if (epoch_num+1) % len(idx_train) == 0:\n",
    "            # Printing metrics (see utils.py for details)\n",
    "\n",
    "            print(\"--------------------------------------------------------------\")\n",
    "            print (\"\\n\\033[1mValidation set metrics:\\033[0m\")\n",
    "\n",
    "            Y_true_1 = [[] for t in range(1)]\n",
    "            Y_true_2 = [[] for t in range(1)]\n",
    "            Y_pred_1 = [[] for t in range(1)]\n",
    "            Y_pred_2 = [[] for t in range(1)]\n",
    "\n",
    "            for idx in idx_valid:\n",
    "\n",
    "                X = h5f['X' + str(idx)][:]\n",
    "                Y = h5f['Y' + str(idx)][:]\n",
    "\n",
    "                Xc, Yc = clip_datapoints(X, Y, CL, N_GPUS)\n",
    "                Yp = model_m.predict(Xc, batch_size=BATCH_SIZE)\n",
    "\n",
    "                if not isinstance(Yp, list):\n",
    "                    Yp = [Yp]\n",
    "\n",
    "                for t in range(1):\n",
    "\n",
    "                    is_expr = (Yc[t].sum(axis=(1,2)) >= 1)\n",
    "\n",
    "                    Y_true_1[t].extend(Yc[t][is_expr, :, 1].flatten())\n",
    "                    Y_true_2[t].extend(Yc[t][is_expr, :, 2].flatten())\n",
    "                    Y_pred_1[t].extend(Yp[t][is_expr, :, 1].flatten())\n",
    "                    Y_pred_2[t].extend(Yp[t][is_expr, :, 2].flatten())\n",
    "\n",
    "            print(\"\\n\\033[1mAcceptor:\\033[0m\")\n",
    "            for t in range(1):\n",
    "                print_topl_statistics(np.asarray(Y_true_1[t]),\n",
    "                                      np.asarray(Y_pred_1[t]))\n",
    "\n",
    "            print(\"\\n\\033[1mDonor:\\033[0m\")\n",
    "            for t in range(1):\n",
    "                print_topl_statistics(np.asarray(Y_true_2[t]),\n",
    "                                      np.asarray(Y_pred_2[t]))\n",
    "\n",
    "            print(\"\\n\\033[1mTraining set metrics:\\033[0m\")\n",
    "\n",
    "            Y_true_1 = [[] for t in range(1)]\n",
    "            Y_true_2 = [[] for t in range(1)]\n",
    "            Y_pred_1 = [[] for t in range(1)]\n",
    "            Y_pred_2 = [[] for t in range(1)]\n",
    "\n",
    "            for idx in idx_train[:len(idx_valid)]:\n",
    "\n",
    "                X = h5f['X' + str(idx)][:]\n",
    "                Y = h5f['Y' + str(idx)][:]\n",
    "\n",
    "                Xc, Yc = clip_datapoints(X, Y, CL, N_GPUS)\n",
    "                Yp = model_m.predict(Xc, batch_size=BATCH_SIZE)\n",
    "\n",
    "                if not isinstance(Yp, list):\n",
    "                    Yp = [Yp]\n",
    "\n",
    "                for t in range(1):\n",
    "\n",
    "                    is_expr = (Yc[t].sum(axis=(1,2)) >= 1)\n",
    "\n",
    "                    Y_true_1[t].extend(Yc[t][is_expr, :, 1].flatten())\n",
    "                    Y_true_2[t].extend(Yc[t][is_expr, :, 2].flatten())\n",
    "                    Y_pred_1[t].extend(Yp[t][is_expr, :, 1].flatten())\n",
    "                    Y_pred_2[t].extend(Yp[t][is_expr, :, 2].flatten())\n",
    "\n",
    "            print(\"\\n\\033[1mAcceptor:\\033[0m\")\n",
    "            for t in range(1):\n",
    "                print_topl_statistics(np.asarray(Y_true_1[t]),\n",
    "                                      np.asarray(Y_pred_1[t]))\n",
    "\n",
    "            print(\"\\n\\033[1mDonor:\\033[0m\")\n",
    "            for t in range(1):\n",
    "                print_topl_statistics(np.asarray(Y_true_2[t]),\n",
    "                                      np.asarray(Y_pred_2[t]))\n",
    "\n",
    "            print(\"Learning rate: {}\".format(kb.get_value(model_m.optimizer.lr)))\n",
    "            print(\"--- {} seconds ---\".format((time.time() - start_time)))\n",
    "            start_time = time.time()\n",
    "\n",
    "            print(\"--------------------------------------------------------------\")\n",
    "\n",
    "            model.save('../Results/TF_Models/SpliceAI_GENCODE_tf1_trained_{}_c.h5'.format(model_nr))\n",
    "\n",
    "            if (epoch_num+1) >= 6*len(idx_train):\n",
    "                kb.set_value(model_m.optimizer.lr,\n",
    "                             0.5*kb.get_value(model_m.optimizer.lr))\n",
    "                # Learning rate decay\n",
    "\n"
   ]
  },
  {
   "cell_type": "code",
   "execution_count": 15,
   "metadata": {},
   "outputs": [],
   "source": [
    "h5f.close()"
   ]
  },
  {
   "cell_type": "code",
   "execution_count": 8,
   "metadata": {},
   "outputs": [],
   "source": [
    "from tensorflow.keras.models import load_model "
   ]
  },
  {
   "cell_type": "code",
   "execution_count": 9,
   "metadata": {},
   "outputs": [
    {
     "name": "stderr",
     "output_type": "stream",
     "text": [
      "2022-07-11 10:45:44.173486: I tensorflow/stream_executor/platform/default/dso_loader.cc:49] Successfully opened dynamic library libcuda.so.1\n",
      "2022-07-11 10:45:45.917655: I tensorflow/core/common_runtime/gpu/gpu_device.cc:1666] Found device 0 with properties: \n",
      "name: NVIDIA Tesla V100-PCIE-32GB major: 7 minor: 0 memoryClockRate(GHz): 1.38\n",
      "pciBusID: 0000:5e:00.0\n",
      "2022-07-11 10:45:45.918550: I tensorflow/core/common_runtime/gpu/gpu_device.cc:1666] Found device 1 with properties: \n",
      "name: NVIDIA Tesla V100-PCIE-32GB major: 7 minor: 0 memoryClockRate(GHz): 1.38\n",
      "pciBusID: 0000:86:00.0\n",
      "2022-07-11 10:45:45.918584: I tensorflow/stream_executor/platform/default/dso_loader.cc:49] Successfully opened dynamic library libcudart.so.11.0\n",
      "2022-07-11 10:45:46.052411: I tensorflow/stream_executor/platform/default/dso_loader.cc:49] Successfully opened dynamic library libcublas.so.11\n",
      "2022-07-11 10:45:46.146318: I tensorflow/stream_executor/platform/default/dso_loader.cc:49] Successfully opened dynamic library libcufft.so.10\n",
      "2022-07-11 10:45:46.205606: I tensorflow/stream_executor/platform/default/dso_loader.cc:49] Successfully opened dynamic library libcurand.so.10\n",
      "2022-07-11 10:45:46.256553: I tensorflow/stream_executor/platform/default/dso_loader.cc:49] Successfully opened dynamic library libcusolver.so.11\n",
      "2022-07-11 10:45:46.295673: I tensorflow/stream_executor/platform/default/dso_loader.cc:49] Successfully opened dynamic library libcusparse.so.11\n",
      "2022-07-11 10:45:46.296820: I tensorflow/stream_executor/platform/default/dso_loader.cc:49] Successfully opened dynamic library libcudnn.so.8\n",
      "2022-07-11 10:45:46.300174: I tensorflow/core/common_runtime/gpu/gpu_device.cc:1794] Adding visible gpu devices: 0, 1\n",
      "2022-07-11 10:45:46.312761: I tensorflow/core/platform/profile_utils/cpu_utils.cc:94] CPU Frequency: 3000000000 Hz\n",
      "2022-07-11 10:45:46.315759: I tensorflow/compiler/xla/service/service.cc:168] XLA service 0x84b5330 initialized for platform Host (this does not guarantee that XLA will be used). Devices:\n",
      "2022-07-11 10:45:46.315781: I tensorflow/compiler/xla/service/service.cc:176]   StreamExecutor device (0): Host, Default Version\n",
      "2022-07-11 10:45:46.482850: I tensorflow/compiler/xla/service/service.cc:168] XLA service 0x7db5a20 initialized for platform CUDA (this does not guarantee that XLA will be used). Devices:\n",
      "2022-07-11 10:45:46.482885: I tensorflow/compiler/xla/service/service.cc:176]   StreamExecutor device (0): NVIDIA Tesla V100-PCIE-32GB, Compute Capability 7.0\n",
      "2022-07-11 10:45:46.482892: I tensorflow/compiler/xla/service/service.cc:176]   StreamExecutor device (1): NVIDIA Tesla V100-PCIE-32GB, Compute Capability 7.0\n",
      "2022-07-11 10:45:46.486591: I tensorflow/core/common_runtime/gpu/gpu_device.cc:1666] Found device 0 with properties: \n",
      "name: NVIDIA Tesla V100-PCIE-32GB major: 7 minor: 0 memoryClockRate(GHz): 1.38\n",
      "pciBusID: 0000:5e:00.0\n",
      "2022-07-11 10:45:46.487510: I tensorflow/core/common_runtime/gpu/gpu_device.cc:1666] Found device 1 with properties: \n",
      "name: NVIDIA Tesla V100-PCIE-32GB major: 7 minor: 0 memoryClockRate(GHz): 1.38\n",
      "pciBusID: 0000:86:00.0\n",
      "2022-07-11 10:45:46.487544: I tensorflow/stream_executor/platform/default/dso_loader.cc:49] Successfully opened dynamic library libcudart.so.11.0\n",
      "2022-07-11 10:45:46.487572: I tensorflow/stream_executor/platform/default/dso_loader.cc:49] Successfully opened dynamic library libcublas.so.11\n",
      "2022-07-11 10:45:46.487583: I tensorflow/stream_executor/platform/default/dso_loader.cc:49] Successfully opened dynamic library libcufft.so.10\n",
      "2022-07-11 10:45:46.487592: I tensorflow/stream_executor/platform/default/dso_loader.cc:49] Successfully opened dynamic library libcurand.so.10\n",
      "2022-07-11 10:45:46.487602: I tensorflow/stream_executor/platform/default/dso_loader.cc:49] Successfully opened dynamic library libcusolver.so.11\n",
      "2022-07-11 10:45:46.487611: I tensorflow/stream_executor/platform/default/dso_loader.cc:49] Successfully opened dynamic library libcusparse.so.11\n",
      "2022-07-11 10:45:46.487620: I tensorflow/stream_executor/platform/default/dso_loader.cc:49] Successfully opened dynamic library libcudnn.so.8\n",
      "2022-07-11 10:45:46.491020: I tensorflow/core/common_runtime/gpu/gpu_device.cc:1794] Adding visible gpu devices: 0, 1\n",
      "2022-07-11 10:45:46.491066: I tensorflow/stream_executor/platform/default/dso_loader.cc:49] Successfully opened dynamic library libcudart.so.11.0\n",
      "2022-07-11 10:45:52.302382: I tensorflow/core/common_runtime/gpu/gpu_device.cc:1206] Device interconnect StreamExecutor with strength 1 edge matrix:\n",
      "2022-07-11 10:45:52.302434: I tensorflow/core/common_runtime/gpu/gpu_device.cc:1212]      0 1 \n",
      "2022-07-11 10:45:52.302445: I tensorflow/core/common_runtime/gpu/gpu_device.cc:1225] 0:   N Y \n",
      "2022-07-11 10:45:52.302449: I tensorflow/core/common_runtime/gpu/gpu_device.cc:1225] 1:   Y N \n",
      "2022-07-11 10:45:52.305801: I tensorflow/core/common_runtime/gpu/gpu_device.cc:1351] Created TensorFlow device (/job:localhost/replica:0/task:0/device:GPU:0 with 31013 MB memory) -> physical GPU (device: 0, name: NVIDIA Tesla V100-PCIE-32GB, pci bus id: 0000:5e:00.0, compute capability: 7.0)\n",
      "2022-07-11 10:45:52.307838: I tensorflow/core/common_runtime/gpu/gpu_device.cc:1351] Created TensorFlow device (/job:localhost/replica:0/task:0/device:GPU:1 with 31013 MB memory) -> physical GPU (device: 1, name: NVIDIA Tesla V100-PCIE-32GB, pci bus id: 0000:86:00.0, compute capability: 7.0)\n"
     ]
    },
    {
     "name": "stdout",
     "output_type": "stream",
     "text": [
      "WARNING:tensorflow:No training configuration found in save file: the model was *not* compiled. Compile it manually.\n",
      "WARNING:tensorflow:No training configuration found in save file: the model was *not* compiled. Compile it manually.\n",
      "WARNING:tensorflow:No training configuration found in save file: the model was *not* compiled. Compile it manually.\n",
      "WARNING:tensorflow:No training configuration found in save file: the model was *not* compiled. Compile it manually.\n",
      "WARNING:tensorflow:No training configuration found in save file: the model was *not* compiled. Compile it manually.\n"
     ]
    },
    {
     "name": "stderr",
     "output_type": "stream",
     "text": [
      "  0%|                                                                                                | 0/16 [00:00<?, ?it/s]2022-07-11 10:46:18.679420: I tensorflow/stream_executor/platform/default/dso_loader.cc:49] Successfully opened dynamic library libcudnn.so.8\n",
      "2022-07-11 10:46:25.121761: I tensorflow/stream_executor/platform/default/dso_loader.cc:49] Successfully opened dynamic library libcublas.so.11\n",
      "100%|███████████████████████████████████████████████████████████████████████████████████████| 16/16 [06:04<00:00, 22.79s/it]\n"
     ]
    },
    {
     "name": "stdout",
     "output_type": "stream",
     "text": [
      "Cross entropy = 0.0002020825685298107\n",
      "\n",
      "\u001b[1mAcceptor:\u001b[0m\n",
      "0.9948\t0.9409\t0.9852\t0.9903\t0.9738\t0.9857\t0.2938\t0.0036\t0.0007\t13445\t14289.0\t14289\n",
      "\n",
      "\u001b[1mDonor:\u001b[0m\n",
      "0.9954\t0.9453\t0.9889\t0.9929\t0.977\t0.9866\t0.3222\t0.0030\t0.0006\t13508\t14289.0\t14289\n",
      "--- 503.026394367218 seconds ---\n",
      "--------------------------------------------------------------\n"
     ]
    }
   ],
   "source": [
    "h5f = h5py.File(data_dir + 'dataset' + '_' + 'test'\n",
    "                + '_' + '0_10k' + '.h5', 'r')\n",
    "\n",
    "num_idx = len(h5f.keys())//2\n",
    "\n",
    "#model = load_model('../Results/TF_Models/SpliceAI_{}_c.h5'.format(0))\n",
    "model = []\n",
    "n_models = 5\n",
    "\n",
    "for v in range(n_models):\n",
    "    model.append(load_model('../Results/TF_Models/SpliceAI_GENCODE_tf1_trained_{}_c.h5'.format(v)))\n",
    "\n",
    "\n",
    "###############################################################################\n",
    "# Model testing\n",
    "###############################################################################\n",
    "\n",
    "start_time = time.time()\n",
    "\n",
    "output_class_labels = ['Null', 'Acceptor', 'Donor']\n",
    "# The three neurons per output correspond to no splicing, splice acceptor (AG)\n",
    "# and splice donor (GT) respectively.\n",
    "\n",
    "#chunkSize = num_idx/10\n",
    "#for i in range(10):\n",
    "Y_true_acceptor = []\n",
    "Y_pred_acceptor = []\n",
    "Y_true_donor = []\n",
    "Y_pred_donor = []\n",
    "ce_2d = []\n",
    "\n",
    "for idx in tqdm(range(num_idx)):\n",
    "    X = h5f['X' + str(idx)][:]\n",
    "    Y = h5f['Y' + str(idx)][:]\n",
    "\n",
    "    Xc, Yc = clip_datapoints(X, Y, CL, 1)\n",
    "\n",
    "    Yps = [np.zeros(Yc[0].shape) for t in range(1)]\n",
    "\n",
    "    for v in range(n_models):\n",
    "        Yp = model[v].predict(Xc, batch_size=BATCH_SIZE)\n",
    "\n",
    "        if not isinstance(Yp, list):\n",
    "            Yp = [Yp]\n",
    "\n",
    "\n",
    "        Yps[0] += Yp[0]/n_models\n",
    "    # Ensemble averaging (mean of the ensemble predictions is used)\n",
    "\n",
    "    ce_2d.append(cross_entropy_2d(Yc[0],Yps[0]))\n",
    "    is_expr = (Yc[0].sum(axis=(1,2)) >= 1)\n",
    "\n",
    "    Y_true_acceptor.extend(Yc[0][is_expr, :, 1].flatten())\n",
    "    Y_pred_acceptor.extend(Yps[0][is_expr, :, 1].flatten())\n",
    "    Y_true_donor.extend(Yc[0][is_expr, :, 2].flatten())\n",
    "    Y_pred_donor.extend(Yps[0][is_expr, :, 2].flatten())\n",
    "\n",
    "\n",
    "\n",
    "Y_true_acceptor = np.asarray(Y_true_acceptor)\n",
    "Y_pred_acceptor = np.asarray(Y_pred_acceptor)\n",
    "Y_true_donor = np.asarray(Y_true_donor)\n",
    "Y_pred_donor = np.asarray(Y_pred_donor)\n",
    "\n",
    "mean_ce = np.mean(ce_2d)\n",
    "print('Cross entropy = {}'.format(mean_ce))\n",
    "\n",
    "print(\"\\n\\033[1m{}:\\033[0m\".format(output_class_labels[1]))\n",
    "\n",
    "acceptor_results = print_topl_statistics(Y_true_acceptor, Y_pred_acceptor)\n",
    "\n",
    "print(\"\\n\\033[1m{}:\\033[0m\".format(output_class_labels[2]))\n",
    "\n",
    "donor_results = print_topl_statistics(Y_true_donor, Y_pred_donor)\n",
    "\n",
    "h5f.close()\n",
    "\n",
    "print(\"--- {} seconds ---\".format(time.time() - start_time))\n",
    "print(\"--------------------------------------------------------------\")"
   ]
  },
  {
   "cell_type": "code",
   "execution_count": 14,
   "metadata": {},
   "outputs": [],
   "source": [
    "data_dir = '../Data'\n",
    "setType = 'test'\n",
    "annotation_test, transcriptToLabel_test, seqData = getData(data_dir, setType)"
   ]
  },
  {
   "cell_type": "code",
   "execution_count": 18,
   "metadata": {},
   "outputs": [
    {
     "name": "stderr",
     "output_type": "stream",
     "text": [
      "2022-10-10 11:26:26.309839: I tensorflow/stream_executor/platform/default/dso_loader.cc:49] Successfully opened dynamic library libcuda.so.1\n",
      "2022-10-10 11:26:28.371284: I tensorflow/core/common_runtime/gpu/gpu_device.cc:1666] Found device 0 with properties: \n",
      "name: NVIDIA A100-PCIE-40GB major: 8 minor: 0 memoryClockRate(GHz): 1.41\n",
      "pciBusID: 0000:31:00.0\n",
      "2022-10-10 11:26:28.371476: I tensorflow/core/common_runtime/gpu/gpu_device.cc:1666] Found device 1 with properties: \n",
      "name: NVIDIA A100-PCIE-40GB major: 8 minor: 0 memoryClockRate(GHz): 1.41\n",
      "pciBusID: 0000:98:00.0\n",
      "2022-10-10 11:26:28.371627: I tensorflow/core/common_runtime/gpu/gpu_device.cc:1666] Found device 2 with properties: \n",
      "name: NVIDIA A100-PCIE-40GB major: 8 minor: 0 memoryClockRate(GHz): 1.41\n",
      "pciBusID: 0000:ca:00.0\n",
      "2022-10-10 11:26:28.371647: I tensorflow/stream_executor/platform/default/dso_loader.cc:49] Successfully opened dynamic library libcudart.so.11.0\n",
      "2022-10-10 11:26:31.455728: I tensorflow/stream_executor/platform/default/dso_loader.cc:49] Successfully opened dynamic library libcublas.so.11\n",
      "2022-10-10 11:26:33.067550: I tensorflow/stream_executor/platform/default/dso_loader.cc:49] Successfully opened dynamic library libcufft.so.10\n",
      "2022-10-10 11:26:34.679778: I tensorflow/stream_executor/platform/default/dso_loader.cc:49] Successfully opened dynamic library libcurand.so.10\n",
      "2022-10-10 11:26:35.053123: I tensorflow/stream_executor/platform/default/dso_loader.cc:49] Successfully opened dynamic library libcusolver.so.11\n",
      "2022-10-10 11:26:35.974639: I tensorflow/stream_executor/platform/default/dso_loader.cc:49] Successfully opened dynamic library libcusparse.so.11\n",
      "2022-10-10 11:26:35.975834: I tensorflow/stream_executor/platform/default/dso_loader.cc:49] Successfully opened dynamic library libcudnn.so.8\n",
      "2022-10-10 11:26:35.976723: I tensorflow/core/common_runtime/gpu/gpu_device.cc:1794] Adding visible gpu devices: 0, 1, 2\n",
      "2022-10-10 11:26:35.989911: I tensorflow/core/platform/profile_utils/cpu_utils.cc:94] CPU Frequency: 2600000000 Hz\n",
      "2022-10-10 11:26:35.994169: I tensorflow/compiler/xla/service/service.cc:168] XLA service 0xb7978f0 initialized for platform Host (this does not guarantee that XLA will be used). Devices:\n",
      "2022-10-10 11:26:35.994199: I tensorflow/compiler/xla/service/service.cc:176]   StreamExecutor device (0): Host, Default Version\n",
      "2022-10-10 11:26:36.174014: I tensorflow/compiler/xla/service/service.cc:168] XLA service 0xaf6f350 initialized for platform CUDA (this does not guarantee that XLA will be used). Devices:\n",
      "2022-10-10 11:26:36.174048: I tensorflow/compiler/xla/service/service.cc:176]   StreamExecutor device (0): NVIDIA A100-PCIE-40GB, Compute Capability 8.0\n",
      "2022-10-10 11:26:36.174052: I tensorflow/compiler/xla/service/service.cc:176]   StreamExecutor device (1): NVIDIA A100-PCIE-40GB, Compute Capability 8.0\n",
      "2022-10-10 11:26:36.174057: I tensorflow/compiler/xla/service/service.cc:176]   StreamExecutor device (2): NVIDIA A100-PCIE-40GB, Compute Capability 8.0\n",
      "2022-10-10 11:26:36.177288: I tensorflow/core/common_runtime/gpu/gpu_device.cc:1666] Found device 0 with properties: \n",
      "name: NVIDIA A100-PCIE-40GB major: 8 minor: 0 memoryClockRate(GHz): 1.41\n",
      "pciBusID: 0000:31:00.0\n",
      "2022-10-10 11:26:36.177448: I tensorflow/core/common_runtime/gpu/gpu_device.cc:1666] Found device 1 with properties: \n",
      "name: NVIDIA A100-PCIE-40GB major: 8 minor: 0 memoryClockRate(GHz): 1.41\n",
      "pciBusID: 0000:98:00.0\n",
      "2022-10-10 11:26:36.177591: I tensorflow/core/common_runtime/gpu/gpu_device.cc:1666] Found device 2 with properties: \n",
      "name: NVIDIA A100-PCIE-40GB major: 8 minor: 0 memoryClockRate(GHz): 1.41\n",
      "pciBusID: 0000:ca:00.0\n",
      "2022-10-10 11:26:36.177626: I tensorflow/stream_executor/platform/default/dso_loader.cc:49] Successfully opened dynamic library libcudart.so.11.0\n",
      "2022-10-10 11:26:36.177653: I tensorflow/stream_executor/platform/default/dso_loader.cc:49] Successfully opened dynamic library libcublas.so.11\n",
      "2022-10-10 11:26:36.177663: I tensorflow/stream_executor/platform/default/dso_loader.cc:49] Successfully opened dynamic library libcufft.so.10\n",
      "2022-10-10 11:26:36.177671: I tensorflow/stream_executor/platform/default/dso_loader.cc:49] Successfully opened dynamic library libcurand.so.10\n",
      "2022-10-10 11:26:36.177679: I tensorflow/stream_executor/platform/default/dso_loader.cc:49] Successfully opened dynamic library libcusolver.so.11\n",
      "2022-10-10 11:26:36.177687: I tensorflow/stream_executor/platform/default/dso_loader.cc:49] Successfully opened dynamic library libcusparse.so.11\n",
      "2022-10-10 11:26:36.177696: I tensorflow/stream_executor/platform/default/dso_loader.cc:49] Successfully opened dynamic library libcudnn.so.8\n",
      "2022-10-10 11:26:36.178456: I tensorflow/core/common_runtime/gpu/gpu_device.cc:1794] Adding visible gpu devices: 0, 1, 2\n",
      "2022-10-10 11:26:36.178482: I tensorflow/stream_executor/platform/default/dso_loader.cc:49] Successfully opened dynamic library libcudart.so.11.0\n",
      "2022-10-10 11:27:22.183525: I tensorflow/core/common_runtime/gpu/gpu_device.cc:1206] Device interconnect StreamExecutor with strength 1 edge matrix:\n",
      "2022-10-10 11:27:22.183575: I tensorflow/core/common_runtime/gpu/gpu_device.cc:1212]      0 1 2 \n",
      "2022-10-10 11:27:22.183585: I tensorflow/core/common_runtime/gpu/gpu_device.cc:1225] 0:   N Y Y \n",
      "2022-10-10 11:27:22.183589: I tensorflow/core/common_runtime/gpu/gpu_device.cc:1225] 1:   Y N Y \n",
      "2022-10-10 11:27:22.183592: I tensorflow/core/common_runtime/gpu/gpu_device.cc:1225] 2:   Y Y N \n",
      "2022-10-10 11:27:22.184565: I tensorflow/core/common_runtime/gpu/gpu_device.cc:1351] Created TensorFlow device (/job:localhost/replica:0/task:0/device:GPU:0 with 38195 MB memory) -> physical GPU (device: 0, name: NVIDIA A100-PCIE-40GB, pci bus id: 0000:31:00.0, compute capability: 8.0)\n",
      "2022-10-10 11:27:22.185141: I tensorflow/core/common_runtime/gpu/gpu_device.cc:1351] Created TensorFlow device (/job:localhost/replica:0/task:0/device:GPU:1 with 38195 MB memory) -> physical GPU (device: 1, name: NVIDIA A100-PCIE-40GB, pci bus id: 0000:98:00.0, compute capability: 8.0)\n",
      "2022-10-10 11:27:22.185579: I tensorflow/core/common_runtime/gpu/gpu_device.cc:1351] Created TensorFlow device (/job:localhost/replica:0/task:0/device:GPU:2 with 38195 MB memory) -> physical GPU (device: 2, name: NVIDIA A100-PCIE-40GB, pci bus id: 0000:ca:00.0, compute capability: 8.0)\n"
     ]
    },
    {
     "name": "stdout",
     "output_type": "stream",
     "text": [
      "WARNING:tensorflow:No training configuration found in save file: the model was *not* compiled. Compile it manually.\n",
      "WARNING:tensorflow:No training configuration found in save file: the model was *not* compiled. Compile it manually.\n",
      "WARNING:tensorflow:No training configuration found in save file: the model was *not* compiled. Compile it manually.\n",
      "WARNING:tensorflow:No training configuration found in save file: the model was *not* compiled. Compile it manually.\n",
      "WARNING:tensorflow:No training configuration found in save file: the model was *not* compiled. Compile it manually.\n"
     ]
    }
   ],
   "source": [
    "temp = 1\n",
    "n_models = 5\n",
    "device = torch.device(\"cpu\")\n",
    "\n",
    "output_class_labels = ['Null', 'Acceptor', 'Donor']\n",
    "\n",
    "model = []\n",
    "n_models = 5\n",
    "\n",
    "for v in range(n_models):\n",
    "    model.append(load_model('../Results/TF_Models/SpliceAI_GENCODE_tf1_trained_{}_c.h5'.format(v)))\n",
    "\n",
    "\n",
    "\n",
    "\n",
    "\n"
   ]
  },
  {
   "cell_type": "code",
   "execution_count": 55,
   "metadata": {},
   "outputs": [
    {
     "name": "stderr",
     "output_type": "stream",
     "text": [
      "100%|███████████████████████████████████████████████████████████████████████████████████████████████████████| 1331/1331 [23:50<00:00,  1.07s/it]\n"
     ]
    }
   ],
   "source": [
    "Y_true_acceptor, Y_pred_acceptor = [],[]\n",
    "Y_true_donor, Y_pred_donor = [],[]\n",
    "ce_2d = []\n",
    "\n",
    "test_dataset = spliceDataset(getDataPointListFull(annotation_test,transcriptToLabel_test,SL,CL_max,shift=SL))\n",
    "test_dataset.seqData = seqData\n",
    "BATCH_SIZE=100\n",
    "test_loader = torch.utils.data.DataLoader(test_dataset, batch_size=BATCH_SIZE, shuffle=False, num_workers=0, pin_memory=True)\n",
    "\n",
    "\n",
    "#targets_list = []\n",
    "#outputs_list = []\n",
    "ce_2d = []\n",
    "for (batch_features ,targets) in tqdm(test_loader):\n",
    "    Xc = torch.transpose(batch_features,1,2).numpy()\n",
    "    targets = torch.transpose(targets[:,:,CL_max//2:-CL_max//2],1,2).numpy()\n",
    "    outputs = []\n",
    "    for v in range(n_models):\n",
    "        Yp = model[v].predict(Xc, batch_size=BATCH_SIZE)\n",
    "        outputs.append(Yp)\n",
    "    outputs = (outputs[0]+outputs[1]+outputs[2]+outputs[3]+outputs[4])/n_models\n",
    "    #outputs = np.swapaxes(outputs,1,2)\n",
    "    ce_2d.append(cross_entropy_2d(targets,outputs))\n",
    "\n",
    "    is_expr = (targets.sum(axis=(1,2)) >= 1)\n",
    "    Y_true_acceptor.extend(targets[is_expr, :, 1].flatten())\n",
    "    Y_true_donor.extend(targets[is_expr, :, 2].flatten())\n",
    "    Y_pred_acceptor.extend(outputs[is_expr, :, 1].flatten())\n",
    "    Y_pred_donor.extend(outputs[is_expr, :, 2].flatten())"
   ]
  },
  {
   "cell_type": "code",
   "execution_count": 56,
   "metadata": {},
   "outputs": [
    {
     "name": "stdout",
     "output_type": "stream",
     "text": [
      "Cross entropy = 0.00012475274132396565\n",
      "\n",
      "\u001b[1mAcceptor:\u001b[0m\n",
      "0.9796\t0.9325\t0.9882\t0.9932\t0.9602\t0.9881\t0.4308\t0.0035\t0.0006\t83655\t89712.0\t89712\n",
      "\n",
      "\u001b[1mDonor:\u001b[0m\n",
      "0.9802\t0.9378\t0.9916\t0.9952\t0.965\t0.9888\t0.4790\t0.0029\t0.0005\t84128\t89712.0\t89712\n"
     ]
    }
   ],
   "source": [
    "mean_ce = np.mean(ce_2d)\n",
    "print('Cross entropy = {}'.format(mean_ce))\n",
    "Y_true_acceptor, Y_pred_acceptor,Y_true_donor, Y_pred_donor = np.array(Y_true_acceptor), np.array(Y_pred_acceptor),np.array(Y_true_donor), np.array(Y_pred_donor)\n",
    "print(\"\\n\\033[1m{}:\\033[0m\".format('Acceptor'))\n",
    "acceptor_val_results = print_topl_statistics(Y_true_acceptor, Y_pred_acceptor)\n",
    "print(\"\\n\\033[1m{}:\\033[0m\".format('Donor'))\n",
    "donor_val_results =print_topl_statistics(Y_true_donor, Y_pred_donor)"
   ]
  }
 ],
 "metadata": {
  "kernelspec": {
   "display_name": "Python 3 (ipykernel)",
   "language": "python",
   "name": "python3"
  },
  "language_info": {
   "codemirror_mode": {
    "name": "ipython",
    "version": 3
   },
   "file_extension": ".py",
   "mimetype": "text/x-python",
   "name": "python",
   "nbconvert_exporter": "python",
   "pygments_lexer": "ipython3",
   "version": "3.8.10"
  }
 },
 "nbformat": 4,
 "nbformat_minor": 4
}
